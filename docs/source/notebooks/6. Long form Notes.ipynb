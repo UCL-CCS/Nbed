{
 "cells": [
  {
   "cell_type": "code",
   "execution_count": null,
   "id": "8ae5bba2",
   "metadata": {},
   "outputs": [],
   "source": [
    "import os\n",
    "from nbed.driver import NbedDriver\n",
    "import numpy as np\n",
    "\n",
    "from nbed.ham_builder import HamiltonianBuilder\n",
    "from openfermion import get_sparse_operator\n",
    "import scipy as sp\n",
    "    \n",
    "from pyscf import gto, scf, fci, cc"
   ]
  },
  {
   "cell_type": "code",
   "execution_count": null,
   "id": "cac37f5e",
   "metadata": {},
   "outputs": [],
   "source": []
  },
  {
   "cell_type": "code",
   "execution_count": null,
   "id": "b3bec003",
   "metadata": {},
   "outputs": [],
   "source": [
    "# get xyz file for water\n",
    "\n",
    "notebook_dir = os.getcwd()\n",
    "source_dir = os.path.dirname(notebook_dir)\n",
    "docs_dir = os.path.dirname(source_dir)\n",
    "NBed_dir = os.path.dirname(docs_dir)\n",
    "Test_dir = os.path.join(NBed_dir, 'tests')\n",
    "mol_dir = os.path.join(Test_dir, 'molecules')\n",
    "\n",
    "water_xyz_path = os.path.join(mol_dir, 'water.xyz')"
   ]
  },
  {
   "cell_type": "code",
   "execution_count": null,
   "id": "db309e85",
   "metadata": {},
   "outputs": [],
   "source": []
  },
  {
   "cell_type": "code",
   "execution_count": null,
   "id": "30467edc",
   "metadata": {},
   "outputs": [],
   "source": [
    "\n",
    "with open(water_xyz_path, 'r') as infile:\n",
    "    xyz_string = infile.read()\n",
    "    \n",
    "print(xyz_string)"
   ]
  },
  {
   "cell_type": "code",
   "execution_count": null,
   "id": "22fa6479",
   "metadata": {},
   "outputs": [],
   "source": []
  },
  {
   "cell_type": "code",
   "execution_count": null,
   "id": "79d24427",
   "metadata": {},
   "outputs": [],
   "source": [
    "# options\n",
    "geometry = xyz_string\n",
    "n_active_atoms=1\n",
    "basis = 'STO-3G'\n",
    "xc_functional = 'B3LYP'# 'lda, vwn' #'B3LYP'\n",
    "run_virtual_localization = False\n",
    "\n",
    "run_fci_emb = False\n",
    "run_ccsd_emb = False\n",
    "max_ram_memory = 8_000\n",
    "_init_huzinaga_rhf_with_mu = False\n",
    "\n",
    "max_hf_cycles=5000\n",
    "\n",
    "\n",
    "projector = 'both' # developer flag that runs both huzinaga and mu shift\n",
    "localization = 'spade' # spade, ibo\n",
    "occupied_threshold = 0.99\n",
    "virtual_threshold = 0.95"
   ]
  },
  {
   "cell_type": "code",
   "execution_count": null,
   "id": "1a52d1d5",
   "metadata": {},
   "outputs": [],
   "source": [
    "driver = NbedDriver(geometry = geometry,\n",
    "                    n_active_atoms=n_active_atoms,\n",
    "                    basis = basis,\n",
    "                    xc_functional = xc_functional,\n",
    "                    run_virtual_localization = run_virtual_localization,\n",
    "                    run_fci_emb = run_fci_emb,\n",
    "                    run_ccsd_emb = run_ccsd_emb,\n",
    "                    max_ram_memory = max_ram_memory,\n",
    "                    init_huzinaga_rhf_with_mu = _init_huzinaga_rhf_with_mu,\n",
    "                    max_hf_cycles=max_hf_cycles,\n",
    "                    occupied_threshold=occupied_threshold,\n",
    "                    projector = projector,\n",
    "                    localization = localization)"
   ]
  },
  {
   "cell_type": "code",
   "execution_count": null,
   "id": "f88f1efd",
   "metadata": {},
   "outputs": [],
   "source": []
  },
  {
   "cell_type": "markdown",
   "id": "c056e284",
   "metadata": {},
   "source": [
    "# FCI calc"
   ]
  },
  {
   "cell_type": "code",
   "execution_count": null,
   "id": "2af0756b",
   "metadata": {},
   "outputs": [],
   "source": [
    "charge=0\n",
    "spin=0\n",
    "\n",
    "full_system_mol = gto.Mole(atom= geometry[2:],\n",
    "                      basis=basis,\n",
    "                       charge=charge,\n",
    "                       spin=spin,\n",
    "                      )\n",
    "full_system_mol.build()\n",
    "\n",
    "global_rhf = scf.RHF(full_system_mol)\n",
    "global_rhf.verbose=1\n",
    "global_rhf.conv_tol = 1e-6\n",
    "global_rhf.kernel()\n",
    "\n",
    "\n",
    "## run FCI embedded\n",
    "glob_FCI = fci.FCI(global_rhf)\n",
    "glob_FCI.run()\n",
    "\n",
    "print(f'full FCI energy: {glob_FCI.e_tot}')"
   ]
  },
  {
   "cell_type": "code",
   "execution_count": null,
   "id": "5f52dd1d",
   "metadata": {},
   "outputs": [],
   "source": []
  },
  {
   "cell_type": "markdown",
   "id": "1897dd64",
   "metadata": {},
   "source": [
    "# 1. Low-level whole system calculation\n",
    "\n",
    "The first step is to run a DFT caluclation of the whole system."
   ]
  },
  {
   "cell_type": "code",
   "execution_count": null,
   "id": "f9d77971",
   "metadata": {},
   "outputs": [],
   "source": [
    "### inputs\n",
    "\n",
    "charge=0\n",
    "spin=0\n",
    "\n",
    "full_system_mol = gto.Mole(atom= geometry[2:],\n",
    "                      basis=basis,\n",
    "                       charge=charge,\n",
    "                       spin=spin,\n",
    "                      )\n",
    "full_system_mol.build()\n",
    "\n",
    "global_rks = scf.RKS(full_system_mol)\n",
    "global_rks.verbose=1\n",
    "global_rks.xc = xc_functional\n",
    "global_rks.conv_tol = 1e-6\n",
    "global_rks.kernel()\n",
    "\n",
    "global_rks_Fock = global_rks.get_fock()\n",
    "c_global_rks_full = global_rks.mo_coeff\n",
    "global_rks_etot = global_rks.energy_tot()\n",
    "global_rks.mo_energy = np.diag(c_global_rks_full.conj().T @ global_rks_Fock@ c_global_rks_full)\n",
    "global_rks_mo_energies = global_rks.mo_energy \n",
    "global_rks_mo_energies"
   ]
  },
  {
   "cell_type": "code",
   "execution_count": null,
   "id": "34fd9937",
   "metadata": {},
   "outputs": [],
   "source": [
    "# np.around(c_global_rks_full.conj().T @ global_rks_Fock@ c_global_rks_full, 5)"
   ]
  },
  {
   "cell_type": "code",
   "execution_count": null,
   "id": "f2de87b8",
   "metadata": {},
   "outputs": [],
   "source": []
  },
  {
   "cell_type": "code",
   "execution_count": null,
   "id": "7bfd083e",
   "metadata": {},
   "outputs": [],
   "source": [
    "# checking global DFT calc\n",
    "c_occ = global_rks.mo_coeff[:, global_rks.mo_occ>0]\n",
    "dmat = 2* c_occ @ c_occ.T\n",
    "e_tot = global_rks.energy_nuc() + global_rks.energy_elec(dm =dmat)[0]\n",
    "\n",
    "np.isclose(global_rks.e_tot, e_tot)"
   ]
  },
  {
   "cell_type": "code",
   "execution_count": null,
   "id": "7a578d2c",
   "metadata": {},
   "outputs": [],
   "source": []
  },
  {
   "cell_type": "code",
   "execution_count": null,
   "id": "f2f0a66e",
   "metadata": {},
   "outputs": [],
   "source": [
    "# getting matrices manual\n",
    "two_veff = global_rks.get_veff(dm=dmat)\n",
    "vj = two_veff.vj\n",
    "vk = two_veff.vk "
   ]
  },
  {
   "cell_type": "code",
   "execution_count": null,
   "id": "886e1817",
   "metadata": {},
   "outputs": [],
   "source": [
    "# calc xc contribution (DFT) via manual integral\n",
    "ni = global_rks._numint\n",
    "nelec, exc, vxc = ni.nr_rks(global_rks.mol, global_rks.grids, global_rks.xc, global_rks.make_rdm1())\n",
    "exc - 0.25 * np.einsum('ij, ji ->', vk, dmat) "
   ]
  },
  {
   "cell_type": "code",
   "execution_count": null,
   "id": "3ecf7fbd",
   "metadata": {},
   "outputs": [],
   "source": [
    "# check if this gives the same results\n",
    "np.einsum('ij, ji ->',-0.25*vk, dmat) + exc"
   ]
  },
  {
   "cell_type": "code",
   "execution_count": null,
   "id": "9bfde708",
   "metadata": {},
   "outputs": [],
   "source": [
    "two_veff.exc"
   ]
  },
  {
   "cell_type": "code",
   "execution_count": null,
   "id": "8c64756c",
   "metadata": {},
   "outputs": [],
   "source": [
    "# two_veff construction\n",
    "np.allclose(two_veff, vj - 0.5*vk + vxc)"
   ]
  },
  {
   "cell_type": "code",
   "execution_count": null,
   "id": "9b28433e",
   "metadata": {},
   "outputs": [],
   "source": [
    "print(two_veff.ecoul)\n",
    "print(0.5 * np.einsum('ij, ji ->', vj, dmat) )"
   ]
  },
  {
   "cell_type": "code",
   "execution_count": null,
   "id": "a78b8e08",
   "metadata": {},
   "outputs": [],
   "source": [
    "print(two_veff.exc + two_veff.ecoul)\n",
    "print(0.5 * np.einsum('ij, ji ->', vj - 0.5*vk, dmat)+ exc)"
   ]
  },
  {
   "cell_type": "code",
   "execution_count": null,
   "id": "706d1d18",
   "metadata": {},
   "outputs": [],
   "source": [
    "## DFT fock matrix\n",
    "F_obj = global_rks.get_fock()\n",
    "F_manual = two_veff + global_rks.get_hcore()\n",
    "\n",
    "np.allclose(F_obj, F_manual)"
   ]
  },
  {
   "cell_type": "code",
   "execution_count": null,
   "id": "b8fd2e85",
   "metadata": {},
   "outputs": [],
   "source": [
    "FF =  0.5*(vj - 0.5*vk) + global_rks.get_hcore()\n",
    "np.einsum('ij, ji ->',FF, dmat) + exc"
   ]
  },
  {
   "cell_type": "code",
   "execution_count": null,
   "id": "843c6f2d",
   "metadata": {},
   "outputs": [],
   "source": [
    "np.allclose(two_veff, vj - 0.5*vk + vxc)"
   ]
  },
  {
   "cell_type": "code",
   "execution_count": null,
   "id": "e6935dc9",
   "metadata": {},
   "outputs": [],
   "source": [
    "# subtract out the vxc part!!! (aka only leaving: 0.5*(vj - 0.5*vk) part!)\n",
    "\n",
    "FF2 =  0.5*(two_veff - vxc)  + global_rks.get_hcore()\n",
    "np.einsum('ij, ji ->',FF2, dmat) + exc"
   ]
  },
  {
   "cell_type": "code",
   "execution_count": null,
   "id": "830c4294",
   "metadata": {},
   "outputs": [],
   "source": [
    "global_rks.energy_elec()[0]"
   ]
  },
  {
   "cell_type": "markdown",
   "id": "1d1592af",
   "metadata": {},
   "source": [
    "# 2. Localize\n",
    "\n",
    "We then use this object to find LOCALIZED systems (active and enviroment)\n",
    "\n",
    "(more details given in notebook 2)"
   ]
  },
  {
   "cell_type": "code",
   "execution_count": null,
   "id": "149f841c",
   "metadata": {},
   "outputs": [],
   "source": [
    "from nbed.localizers import (\n",
    "    BOYSLocalizer,\n",
    "    IBOLocalizer,\n",
    "    Localizer,\n",
    "    PMLocalizer,\n",
    "    SPADELocalizer,\n",
    ")\n",
    "\n",
    "run_virtual_localization = False\n",
    "\n",
    "\n",
    "localizers = {\n",
    "    'boys':BOYSLocalizer,\n",
    "    'ibo':IBOLocalizer,\n",
    "    'pipek-mezey': PMLocalizer,\n",
    "    'spade': SPADELocalizer\n",
    "}"
   ]
  },
  {
   "cell_type": "code",
   "execution_count": null,
   "id": "9b843f89",
   "metadata": {},
   "outputs": [],
   "source": [
    "### inputs\n",
    "\n",
    "charge=0\n",
    "spin=0\n",
    "\n",
    "full_system_mol2 = gto.Mole(atom= geometry[2:],\n",
    "                      basis=basis,\n",
    "                       charge=charge,\n",
    "                       spin=spin,\n",
    "                      )\n",
    "full_system_mol2.build()\n",
    "\n",
    "global_rks2 = scf.RKS(full_system_mol2)\n",
    "global_rks2.verbose=1\n",
    "global_rks2.xc = xc_functional\n",
    "global_rks2.conv_tol = 1e-6\n",
    "global_rks2.kernel()\n",
    "\n",
    "global_rks_Fock = global_rks2.get_fock()\n",
    "c_global_rks_full = global_rks2.mo_coeff\n",
    "global_rks_etot = global_rks2.energy_tot()\n",
    "global_rks2.mo_energy = np.diag(c_global_rks_full.conj().T @ global_rks_Fock@ c_global_rks_full)"
   ]
  },
  {
   "cell_type": "code",
   "execution_count": null,
   "id": "4cd46580",
   "metadata": {},
   "outputs": [],
   "source": [
    "localized_system = localizers[localization](global_rks2,\n",
    "                                        n_active_atoms,\n",
    "                                        occ_cutoff=occupied_threshold,\n",
    "                                        virt_cutoff=virtual_threshold,\n",
    "                                        run_virtual_localization=run_virtual_localization,\n",
    ")"
   ]
  },
  {
   "cell_type": "code",
   "execution_count": null,
   "id": "35a68b78",
   "metadata": {},
   "outputs": [],
   "source": [
    "print(f'active inds: {localized_system.active_MO_inds}')\n",
    "print(f'enviro inds: {localized_system.enviro_MO_inds}')"
   ]
  },
  {
   "cell_type": "markdown",
   "id": "e58d3aa7",
   "metadata": {},
   "source": [
    "# 3. Run subsystem DFT (uses localized rks)"
   ]
  },
  {
   "cell_type": "code",
   "execution_count": null,
   "id": "12fca20b",
   "metadata": {},
   "outputs": [],
   "source": [
    "def rks_components(\n",
    "    RKS_obj, subsystem_dm: np.ndarray):\n",
    "    \"\"\"Calculate the components of subsystem energy from a RKS DFT calculation.\n",
    "\n",
    "    For a given density matrix this function returns the electronic energy, exchange correlation energy and\n",
    "    J,K, V_xc matrices.\n",
    "\n",
    "    Args:\n",
    "        dm_matrix (np.ndarray): density matrix (to calculate all matrices from)\n",
    "\n",
    "    Returns:\n",
    "        Energy_elec (float): DFT energy defubed by input density matrix\n",
    "        e_xc (float): exchange correlation energy defined by input density matrix\n",
    "        J_mat (np.ndarray): J_matrix defined by input density matrix\n",
    "    \"\"\"\n",
    "    dm_matrix = subsystem_dm\n",
    "    # It seems that PySCF lumps J and K in the J array\n",
    "    two_e_term = RKS_obj.get_veff(dm=dm_matrix)\n",
    "    j_mat = two_e_term.vj\n",
    "    # k_mat = np.zeros_like(j_mat)\n",
    "\n",
    "    e_xc = two_e_term.exc\n",
    "    # v_xc = two_e_term - j_mat\n",
    "\n",
    "    energy_elec = (\n",
    "        np.einsum(\"ij,ji->\", RKS_obj.get_hcore(), dm_matrix)\n",
    "        + two_e_term.ecoul\n",
    "        + two_e_term.exc\n",
    "    )\n",
    "\n",
    "    return energy_elec, e_xc, j_mat"
   ]
  },
  {
   "cell_type": "code",
   "execution_count": null,
   "id": "3be96663",
   "metadata": {},
   "outputs": [],
   "source": [
    "(e_act, e_xc_act, j_act) = rks_components(global_rks, localized_system.dm_active)\n",
    "\n",
    "(e_env, e_xc_env, j_env) = rks_components(global_rks, localized_system.dm_enviro)\n",
    "\n",
    "# Computing cross subsystem terms\n",
    "two_e_term_total = global_rks.get_veff(\n",
    "    dm=localized_system.dm_active + localized_system.dm_enviro\n",
    ")\n",
    "e_xc_total = two_e_term_total.exc\n",
    "\n",
    "j_cross = 0.5 * (\n",
    "    np.einsum(\"ij,ij\", localized_system.dm_active, j_env)\n",
    "    + np.einsum(\"ij,ij\", localized_system.dm_enviro, j_act)\n",
    ")\n",
    "# Because of projection\n",
    "k_cross = 0.0\n",
    "\n",
    "xc_cross = e_xc_total - e_xc_act - e_xc_env\n",
    "\n",
    "# overall two_electron cross energy\n",
    "two_e_cross = j_cross + k_cross + xc_cross\n",
    "\n",
    "energy_DFT_components = (e_act + e_env + two_e_cross + global_rks.energy_nuc())\n",
    "\n",
    "if not np.isclose(energy_DFT_components, global_rks.e_tot):\n",
    "    raise ValueError(\n",
    "        \"DFT energy of localized components not matching supersystem DFT\")\n"
   ]
  },
  {
   "cell_type": "code",
   "execution_count": null,
   "id": "2d559517",
   "metadata": {},
   "outputs": [],
   "source": [
    "# e_act, e_env, two_e_cross, localized_system, j_env = subsystem_dft(localized_system, localized_system.rks)\n",
    "\n",
    "# DFT energy made from component parts\n",
    "E_dft_from_components = e_act + e_env + two_e_cross + global_rks.energy_nuc()\n",
    "np.isclose(global_rks.e_tot, E_dft_from_components)"
   ]
  },
  {
   "cell_type": "code",
   "execution_count": null,
   "id": "d6480071",
   "metadata": {},
   "outputs": [],
   "source": [
    "dm_full = global_rks.make_rdm1()\n",
    "\n",
    "full = global_rks.get_veff(dm=dm_full)\n",
    "# print(full.exc + full.ecoul)\n",
    "A= global_rks.get_veff(dm=localized_system.dm_active)\n",
    "B= global_rks.get_veff(dm=localized_system.dm_enviro)\n",
    "non_add = (full.exc + full.ecoul) - (A.exc + A.ecoul + B.exc + B.ecoul)\n",
    "\n",
    "np.isclose(two_e_cross, non_add)"
   ]
  },
  {
   "cell_type": "code",
   "execution_count": null,
   "id": "64cd8c9e",
   "metadata": {},
   "outputs": [],
   "source": [
    "A_energy = np.einsum(\"ij,ji->\", global_rks.get_hcore(), localized_system.dm_active) + (A.exc + A.ecoul)\n",
    "B_energy = np.einsum(\"ij,ji->\", global_rks.get_hcore(), localized_system.dm_enviro) + (B.exc + B.ecoul)\n",
    "components = A_energy + B_energy + non_add + global_rks.energy_nuc()\n",
    "np.isclose(global_rks.e_tot, components)"
   ]
  },
  {
   "cell_type": "code",
   "execution_count": null,
   "id": "7406dd34",
   "metadata": {},
   "outputs": [],
   "source": [
    "j_active = A.vj\n",
    "E_manual = np.einsum(\"ij,ji->\", global_rks.get_hcore() + j_active/2, localized_system.dm_active) + A.exc\n",
    "np.isclose(A_energy, E_manual)"
   ]
  },
  {
   "cell_type": "code",
   "execution_count": null,
   "id": "31aef2d0",
   "metadata": {},
   "outputs": [],
   "source": [
    "EE = (np.einsum(\"ij,ji->\", global_rks.get_hcore(), localized_system.dm_active) +\n",
    "      np.einsum(\"ij,ji->\", global_rks.get_hcore(), localized_system.dm_enviro) +\n",
    "      full.exc + full.ecoul\n",
    "      + global_rks.energy_nuc()\n",
    "    )\n",
    "np.isclose(global_rks.e_tot, EE)"
   ]
  },
  {
   "cell_type": "markdown",
   "id": "6d435932",
   "metadata": {},
   "source": [
    "# 4. Get DFT potential"
   ]
  },
  {
   "cell_type": "code",
   "execution_count": null,
   "id": "06e3368b",
   "metadata": {},
   "outputs": [],
   "source": [
    "g_act_and_env = global_rks.get_veff(\n",
    "    dm=(localized_system.dm_active + localized_system.dm_enviro)\n",
    ")\n",
    "g_act = global_rks.get_veff(dm=localized_system.dm_active)\n",
    "dft_potential = g_act_and_env - g_act # + j_env"
   ]
  },
  {
   "cell_type": "code",
   "execution_count": null,
   "id": "afae0c14",
   "metadata": {},
   "outputs": [],
   "source": [
    "# localized_system.rks\n",
    "dmat = 2* c_occ @ c_occ.T\n",
    "print(np.allclose(dmat, localized_system.dm_active + localized_system.dm_enviro))\n",
    "\n",
    "print(np.allclose(g_act_and_env, two_veff))"
   ]
  },
  {
   "cell_type": "code",
   "execution_count": null,
   "id": "912a1845",
   "metadata": {},
   "outputs": [],
   "source": [
    "# vj_act = g_act.vj\n",
    "# vk_act= g_act.vk\n",
    "\n",
    "# ni = global_rks._numint\n",
    "# nelec_act, exc_act, vxc_act = ni.nr_rks(global_rks.mol,\n",
    "#                                         global_rks.grids, \n",
    "#                                         global_rks.xc,\n",
    "#                                         localized_system.dm_active)\n",
    "\n",
    "\n",
    "# np.allclose(g_act, (vj_act - 0.5*vk_act) + vxc_act)"
   ]
  },
  {
   "cell_type": "markdown",
   "id": "27d12936",
   "metadata": {},
   "source": [
    "dft_potential is\n",
    "\n",
    "$$DFT\\: potential = g[\\gamma_{act} + \\gamma_{env}] - g[\\gamma_{act}]$$"
   ]
  },
  {
   "cell_type": "code",
   "execution_count": null,
   "id": "8a24e29f",
   "metadata": {},
   "outputs": [],
   "source": [
    "rks_emb_mol = gto.Mole(atom= geometry[2:],\n",
    "                      basis=basis,\n",
    "                       charge=charge,\n",
    "                       spin=spin,\n",
    "                      )\n",
    "rks_emb_mol.nelectron = 2 * len(localized_system.active_MO_inds) # <--change no e-\n",
    "rks_emb_mol.build()\n",
    "\n",
    "rks_emb = scf.RKS(rks_emb_mol)\n",
    "rks_emb.verbose=1\n",
    "rks_emb.xc = xc_functional\n",
    "rks_emb.conv_tol = 1e-6\n",
    "\n",
    "s_mat = global_rks.get_ovlp()\n",
    "enviro_projector = s_mat@ localized_system.dm_enviro @ s_mat\n",
    "\n",
    "h_core_Std = rks_emb.get_hcore()\n",
    "rks_emb.get_hcore = lambda *args: h_core_Std + 1e6*enviro_projector + dft_potential\n",
    "\n",
    "rks_emb.kernel()"
   ]
  },
  {
   "cell_type": "code",
   "execution_count": null,
   "id": "09b2d14f",
   "metadata": {},
   "outputs": [],
   "source": [
    "y_emb =  rks_emb.make_rdm1()\n",
    "diff_gamma = y_emb - localized_system.dm_active"
   ]
  },
  {
   "cell_type": "code",
   "execution_count": null,
   "id": "f1f1bb8c",
   "metadata": {},
   "outputs": [],
   "source": [
    "e_act"
   ]
  },
  {
   "cell_type": "code",
   "execution_count": null,
   "id": "2ff44cc5",
   "metadata": {},
   "outputs": [],
   "source": [
    "(global_rks.energy_elec(dm=y_emb)[0]  \n",
    " + np.einsum(\"ij,ij->\",  dft_potential+1e6*enviro_projector, diff_gamma) \n",
    " )"
   ]
  },
  {
   "cell_type": "code",
   "execution_count": null,
   "id": "16429f70",
   "metadata": {},
   "outputs": [],
   "source": []
  },
  {
   "cell_type": "code",
   "execution_count": null,
   "id": "d87346cc",
   "metadata": {},
   "outputs": [],
   "source": []
  },
  {
   "cell_type": "markdown",
   "id": "93ff67d6",
   "metadata": {},
   "source": [
    "# WF approach (mu shift projector)"
   ]
  },
  {
   "cell_type": "code",
   "execution_count": null,
   "id": "4ba06db4",
   "metadata": {},
   "outputs": [],
   "source": [
    "charge=0\n",
    "spin=0\n",
    "\n",
    "full_system_mol = gto.Mole(atom= geometry[2:],\n",
    "                      basis=basis,\n",
    "                       charge=charge,\n",
    "                       spin=spin,\n",
    "                      )\n",
    "full_system_mol.nelectron = 2 * len(localized_system.active_MO_inds) # <- change number of e-\n",
    "full_system_mol.build()\n",
    "\n",
    "# HARTREE FOCK!\n",
    "scf_method = scf.RHF(full_system_mol)\n",
    "scf_method.verbose=1\n",
    "scf_method.conv_tol = 1e-6"
   ]
  },
  {
   "cell_type": "code",
   "execution_count": null,
   "id": "a63a17a2",
   "metadata": {},
   "outputs": [],
   "source": [
    "# scf_method = init_localised_RHF_obj(geometry, basis, charge, localized_system)\n",
    "mu_level_shift = 1e6\n",
    "\n",
    "# redefine core H\n",
    "std_hcore = scf_method.get_hcore()\n",
    "enviro_projector = s_mat@ localized_system.dm_enviro @ s_mat\n",
    "scf_method.get_hcore = lambda *args: std_hcore + mu_level_shift*enviro_projector + dft_potential\n",
    "\n",
    "scf_method.kernel()"
   ]
  },
  {
   "cell_type": "code",
   "execution_count": null,
   "id": "c19b79de",
   "metadata": {},
   "outputs": [],
   "source": [
    "correction = np.einsum(\"ij,ji\", mu_level_shift*enviro_projector + dft_potential,\n",
    "                       localized_system.dm_active) # <--- different \n",
    "correction"
   ]
  },
  {
   "cell_type": "code",
   "execution_count": null,
   "id": "fd103e2e",
   "metadata": {},
   "outputs": [],
   "source": [
    "scf_method.energy_elec()[0] - correction"
   ]
  },
  {
   "cell_type": "code",
   "execution_count": null,
   "id": "dbacda08",
   "metadata": {},
   "outputs": [],
   "source": [
    "e_act"
   ]
  },
  {
   "cell_type": "code",
   "execution_count": null,
   "id": "86e997af",
   "metadata": {},
   "outputs": [],
   "source": []
  },
  {
   "cell_type": "code",
   "execution_count": null,
   "id": "471241bb",
   "metadata": {},
   "outputs": [],
   "source": [
    "## run FCI embedded\n",
    "fci_scf_MU_embedded = fci.FCI(scf_method)\n",
    "\n",
    "fci_scf_MU_embedded.run()\n",
    "\n",
    "fci_scf_MU_embedded.e_tot"
   ]
  },
  {
   "cell_type": "code",
   "execution_count": null,
   "id": "5d934c5c",
   "metadata": {},
   "outputs": [],
   "source": [
    "e_corr = fci_scf_MU_embedded.e_tot - scf_method.e_tot\n",
    "e_corr"
   ]
  },
  {
   "cell_type": "code",
   "execution_count": null,
   "id": "a00f2729",
   "metadata": {},
   "outputs": [],
   "source": []
  },
  {
   "cell_type": "code",
   "execution_count": null,
   "id": "28cdd145",
   "metadata": {},
   "outputs": [],
   "source": [
    "E_emb_act = scf_method.energy_elec()[0] - correction + e_corr \n",
    "E_emb_full = E_emb_act + e_env + two_e_cross + global_rks.energy_nuc()\n",
    "E_emb_full"
   ]
  },
  {
   "cell_type": "code",
   "execution_count": null,
   "id": "7cdc68b8",
   "metadata": {},
   "outputs": [],
   "source": [
    "print(f'global DFT energy: {global_rks.e_tot}')\n",
    "print(f'global FCI energy: {glob_FCI.e_tot}')\n",
    "print()\n",
    "\n",
    "print(f'emb error : {abs(E_emb_full - glob_FCI.e_tot)}')\n",
    "print(f'DFT error : {abs(global_rks.e_tot - glob_FCI.e_tot)}')"
   ]
  },
  {
   "cell_type": "code",
   "execution_count": null,
   "id": "692992c4",
   "metadata": {},
   "outputs": [],
   "source": []
  },
  {
   "cell_type": "code",
   "execution_count": null,
   "id": "6792cd39",
   "metadata": {},
   "outputs": [],
   "source": []
  },
  {
   "cell_type": "code",
   "execution_count": null,
   "id": "1f64958b",
   "metadata": {},
   "outputs": [],
   "source": []
  },
  {
   "cell_type": "markdown",
   "id": "99bb3f88",
   "metadata": {},
   "source": [
    "# WF approach (huzinaga)"
   ]
  },
  {
   "cell_type": "code",
   "execution_count": null,
   "id": "4d6ccadd",
   "metadata": {},
   "outputs": [],
   "source": [
    "charge=0\n",
    "spin=0\n",
    "\n",
    "full_system_mol_HUZ = gto.Mole(atom= geometry[2:],\n",
    "                      basis=basis,\n",
    "                       charge=charge,\n",
    "                       spin=spin,\n",
    "                      )\n",
    "full_system_mol_HUZ.nelectron = 2 * len(localized_system.active_MO_inds) # <- change number of e-\n",
    "full_system_mol_HUZ.build()\n",
    "\n",
    "# HARTREE FOCK!\n",
    "scf_method_HUZ = scf.RHF(full_system_mol_HUZ)\n",
    "scf_method_HUZ.verbose=1\n",
    "scf_method_HUZ.conv_tol = 1e-6"
   ]
  },
  {
   "cell_type": "code",
   "execution_count": null,
   "id": "3c84e08e",
   "metadata": {},
   "outputs": [],
   "source": [
    "from nbed.scf import huzinaga_RHF, huzinaga_RKS"
   ]
  },
  {
   "cell_type": "code",
   "execution_count": null,
   "id": "ca35fb6a",
   "metadata": {},
   "outputs": [],
   "source": [
    "# see source code \n",
    "# implements manual RHF calc with Huzinaga projector included\n",
    "\n",
    "(c_active_embedded, \n",
    " mo_energy, \n",
    " dm_active_embedded,\n",
    " huzinaga_op_std,\n",
    " huz_rhf_conv_flag) =huzinaga_RHF(\n",
    "    scf_method_HUZ,\n",
    "    dft_potential,\n",
    "    localized_system.dm_enviro,\n",
    "    dm_conv_tol=1e-6,\n",
    "    dm_initial_guess=None,\n",
    "    use_DIIS= False,\n",
    ")\n",
    "\n",
    "hcore_std = scf_method_HUZ.get_hcore()\n",
    "v_emb = huzinaga_op_std + dft_potential\n",
    "scf_method_HUZ.get_hcore = lambda *args: hcore_std + v_emb\n",
    "scf_method_HUZ.mo_coeff = c_active_embedded\n",
    "scf_method_HUZ.mo_occ = scf_method_HUZ.get_occ(\n",
    "    mo_energy, c_active_embedded\n",
    ")\n",
    "scf_method_HUZ.mo_energy = mo_energy\n",
    "scf_method_HUZ.conv_check = huz_rhf_conv_flag\n",
    "\n",
    "scf_method_HUZ.e_tot = scf_method_HUZ.energy_tot(dm=dm_active_embedded)\n"
   ]
  },
  {
   "cell_type": "code",
   "execution_count": null,
   "id": "34f80fc0",
   "metadata": {},
   "outputs": [],
   "source": [
    "mo_energy"
   ]
  },
  {
   "cell_type": "code",
   "execution_count": null,
   "id": "2e21d0d4",
   "metadata": {},
   "outputs": [],
   "source": []
  },
  {
   "cell_type": "code",
   "execution_count": null,
   "id": "79b659bf",
   "metadata": {},
   "outputs": [],
   "source": [
    "overlap = np.einsum('ij, ki -> i', c_active_embedded.T,  huzinaga_op_std @ c_active_embedded)\n",
    "overlap"
   ]
  },
  {
   "cell_type": "code",
   "execution_count": null,
   "id": "012c9276",
   "metadata": {},
   "outputs": [],
   "source": [
    "enviro_projector = s_mat@ localized_system.dm_enviro @ s_mat\n",
    "overlap = np.einsum('ij, ki -> i', c_active_embedded.T,  enviro_projector @ c_active_embedded)\n",
    "\n",
    "overlap_by_size = overlap.argsort()[::-1]\n",
    "\n",
    "n_env_mo = len(localized_system.enviro_MO_inds)\n",
    "frozen_enviro_orb_inds = overlap_by_size[:n_env_mo]\n",
    "active_MOs_occ_and_virt_embedded = [\n",
    "                mo_i\n",
    "                for mo_i in range(c_active_embedded.shape[1])\n",
    "                if mo_i not in frozen_enviro_orb_inds\n",
    "            ]\n",
    "\n",
    "c_selected = c_active_embedded[:, active_MOs_occ_and_virt_embedded]\n",
    "mo_energy_act = np.diag(c_selected.conj().T @ scf_method_HUZ.get_fock()@ c_selected)\n",
    "mo_energy_act"
   ]
  },
  {
   "cell_type": "code",
   "execution_count": null,
   "id": "bbb64ba5",
   "metadata": {},
   "outputs": [],
   "source": [
    "np.around(c_selected.conj().T @ scf_method_HUZ.get_fock()@ c_selected, 3)"
   ]
  },
  {
   "cell_type": "code",
   "execution_count": null,
   "id": "287772fe",
   "metadata": {},
   "outputs": [],
   "source": [
    "print(scf_method.mo_energy)"
   ]
  },
  {
   "cell_type": "code",
   "execution_count": null,
   "id": "2373f05b",
   "metadata": {},
   "outputs": [],
   "source": []
  },
  {
   "cell_type": "code",
   "execution_count": null,
   "id": "31a69869",
   "metadata": {},
   "outputs": [],
   "source": []
  },
  {
   "cell_type": "code",
   "execution_count": null,
   "id": "e601eebc",
   "metadata": {},
   "outputs": [],
   "source": []
  },
  {
   "cell_type": "code",
   "execution_count": null,
   "id": "d8bae3d7",
   "metadata": {},
   "outputs": [],
   "source": [
    "## run FCI embedded\n",
    "scf_method_HUZ.mo_coeff = c_active_embedded[:, active_MOs_occ_and_virt_embedded]\n",
    "\n",
    "fci_scf_HUZ_embedded = fci.FCI(scf_method_HUZ)\n",
    "\n",
    "fci_scf_HUZ_embedded.run()\n",
    "fci_scf_HUZ_embedded.e_tot"
   ]
  },
  {
   "cell_type": "code",
   "execution_count": null,
   "id": "3372f341",
   "metadata": {},
   "outputs": [],
   "source": [
    "e_corr_HUZ = fci_scf_HUZ_embedded.e_tot - scf_method_HUZ.e_tot\n",
    "e_corr_HUZ"
   ]
  },
  {
   "cell_type": "code",
   "execution_count": null,
   "id": "a1dbc01f",
   "metadata": {},
   "outputs": [],
   "source": [
    "correction_HUZ = np.einsum(\"ij,ji\", v_emb,\n",
    "                       localized_system.dm_active) # <--- different \n",
    "correction_HUZ"
   ]
  },
  {
   "cell_type": "code",
   "execution_count": null,
   "id": "2de0dba4",
   "metadata": {},
   "outputs": [],
   "source": []
  },
  {
   "cell_type": "code",
   "execution_count": null,
   "id": "5f41333a",
   "metadata": {},
   "outputs": [],
   "source": [
    "E_emb_act_HUZ = scf_method_HUZ.energy_elec(dm=dm_active_embedded)[0] - correction + e_corr_HUZ \n",
    "E_emb_full_HUZ = E_emb_act_HUZ + e_env + two_e_cross + global_rks.energy_nuc()\n",
    "\n",
    "\n",
    "print(f'emb error : {abs(E_emb_full_HUZ - glob_FCI.e_tot)}')\n",
    "print(f'DFT error : {abs(global_rks.e_tot - glob_FCI.e_tot)}')"
   ]
  },
  {
   "cell_type": "code",
   "execution_count": null,
   "id": "ceda3630",
   "metadata": {},
   "outputs": [],
   "source": [
    "print(f'HUZ vs MU : {abs(E_emb_full - E_emb_full_HUZ)}')"
   ]
  },
  {
   "cell_type": "code",
   "execution_count": null,
   "id": "4c062ff2",
   "metadata": {},
   "outputs": [],
   "source": []
  },
  {
   "cell_type": "markdown",
   "id": "58f4bf64",
   "metadata": {},
   "source": [
    "# Looking at localized system"
   ]
  },
  {
   "cell_type": "code",
   "execution_count": null,
   "id": "9efdd469",
   "metadata": {},
   "outputs": [],
   "source": [
    "print(np.around(localized_system.c_enviro, 3))"
   ]
  },
  {
   "cell_type": "code",
   "execution_count": null,
   "id": "04b97cb3",
   "metadata": {},
   "outputs": [],
   "source": [
    "enviro_projector = s_mat@ localized_system.dm_enviro @ s_mat\n",
    "\n",
    "print(np.around(enviro_projector@ localized_system.c_loc_occ_and_virt, 3))"
   ]
  },
  {
   "cell_type": "code",
   "execution_count": null,
   "id": "e3dfe5a3",
   "metadata": {},
   "outputs": [],
   "source": [
    "proj_env = localized_system.dm_enviro/2 @ s_mat\n",
    "\n",
    "print(np.around(localized_system.c_enviro, 3))\n",
    "print()\n",
    "print(np.around(proj_env @ localized_system.c_loc_occ_and_virt, 3))\n"
   ]
  },
  {
   "cell_type": "code",
   "execution_count": null,
   "id": "4344cffb",
   "metadata": {},
   "outputs": [],
   "source": [
    "proj_env2 = s_mat @ localized_system.dm_enviro/2 # different order!\n",
    "np.allclose(proj_env.conj().T, proj_env2)"
   ]
  },
  {
   "cell_type": "code",
   "execution_count": null,
   "id": "0d5b96d9",
   "metadata": {},
   "outputs": [],
   "source": []
  },
  {
   "cell_type": "markdown",
   "id": "23f00c95",
   "metadata": {},
   "source": [
    "# Get projector onto enviroment"
   ]
  },
  {
   "cell_type": "code",
   "execution_count": null,
   "id": "5453ef64",
   "metadata": {},
   "outputs": [],
   "source": [
    "s_mat = global_rks.get_ovlp()\n",
    "s_half = sp.linalg.fractional_matrix_power(s_mat, 0.5)\n",
    "s_neg_half = sp.linalg.fractional_matrix_power(s_mat, -0.5)\n",
    "\n",
    "# 1. Get orthogonal C matrix (localized)\n",
    "c_loc_ortho = s_half @ localized_system.c_loc_occ_and_virt\n",
    "\n",
    "# 2. Define projector that projects MO orbs of subsystem B onto themselves and system A onto zero state!\n",
    "#    (do this in orthongoal basis!)\n",
    "#    note we only take MO environment indices!\n",
    "ortho_proj = np.einsum(\n",
    "    \"ik,jk->ij\",\n",
    "    c_loc_ortho[:, localized_system.enviro_MO_inds],\n",
    "    c_loc_ortho[:, localized_system.enviro_MO_inds],\n",
    ")"
   ]
  },
  {
   "cell_type": "code",
   "execution_count": null,
   "id": "b4eb451a",
   "metadata": {},
   "outputs": [],
   "source": [
    "# note no two times for this dm!!!\n",
    "dm = localized_system.c_enviro @ localized_system.c_enviro.T\n",
    "ortho_proj2 =  s_half @ dm @ s_half\n",
    "np.allclose(ortho_proj, ortho_proj2)"
   ]
  },
  {
   "cell_type": "code",
   "execution_count": null,
   "id": "c70fc10d",
   "metadata": {},
   "outputs": [],
   "source": [
    "enviro_projector = s_neg_half @ ortho_proj @ s_half\n",
    "print(np.around(enviro_projector@localized_system.c_enviro, 5))\n",
    "print()\n",
    "\n",
    "enviro_projector = dm @ s_mat\n",
    "print(np.around(enviro_projector@localized_system.c_enviro, 5))\n",
    "print()\n",
    "\n",
    "print(np.around(localized_system.c_enviro, 5))"
   ]
  },
  {
   "cell_type": "code",
   "execution_count": null,
   "id": "1f90be1e",
   "metadata": {},
   "outputs": [],
   "source": [
    "enviro_projector = s_mat@ dm @ s_mat # paper definition!\n",
    "print(np.around(enviro_projector@localized_system.c_active, 10))"
   ]
  },
  {
   "cell_type": "code",
   "execution_count": null,
   "id": "e9201480",
   "metadata": {},
   "outputs": [],
   "source": [
    "np.trace(s_mat@ localized_system.dm_enviro) # @ s_mat)"
   ]
  },
  {
   "cell_type": "code",
   "execution_count": null,
   "id": "a88abc52",
   "metadata": {},
   "outputs": [],
   "source": []
  },
  {
   "cell_type": "code",
   "execution_count": null,
   "id": "6a86e810",
   "metadata": {},
   "outputs": [],
   "source": [
    "proj_act = localized_system.dm_active/2 @ s_mat # uses active dmat!\n",
    "\n",
    "print(np.around(localized_system.c_active, 3))\n",
    "print()\n",
    "print(np.around(proj_act @ localized_system.c_loc_occ_and_virt, 3))"
   ]
  },
  {
   "cell_type": "code",
   "execution_count": null,
   "id": "6b9a92e7",
   "metadata": {},
   "outputs": [],
   "source": []
  },
  {
   "cell_type": "code",
   "execution_count": null,
   "id": "b31d36b4",
   "metadata": {},
   "outputs": [],
   "source": []
  },
  {
   "cell_type": "markdown",
   "id": "8cd861a5",
   "metadata": {},
   "source": [
    "# checking orb E"
   ]
  },
  {
   "cell_type": "code",
   "execution_count": null,
   "id": "f3de661c",
   "metadata": {},
   "outputs": [],
   "source": [
    "s_mat = driver._global_rks.get_ovlp()\n",
    "s_half = sp.linalg.fractional_matrix_power(s_mat, 0.5)\n",
    "C_all_localized_and_virt = driver.localized_system.c_loc_occ_and_virt\n",
    "\n",
    "# find orthogonal orbitals\n",
    "ortho_std = s_half @ driver._global_rks.mo_coeff\n",
    "ortho_loc = s_half @ C_all_localized_and_virt\n",
    "\n",
    "# Build change of basis operator (maps between orthonormal basis (canonical and localized)\n",
    "unitary_ORTHO_std_onto_loc = np.einsum(\"ik,jk->ij\", ortho_std, ortho_loc)\n",
    "\n",
    "print('is unitary:', np.allclose(unitary_ORTHO_std_onto_loc@unitary_ORTHO_std_onto_loc.conj().T,\n",
    "           np.eye(unitary_ORTHO_std_onto_loc.shape[0])))"
   ]
  },
  {
   "cell_type": "code",
   "execution_count": null,
   "id": "562f09e2",
   "metadata": {},
   "outputs": [],
   "source": [
    "print('U |loc_ortho> = |std_ortho>', np.allclose(unitary_ORTHO_std_onto_loc @ ortho_loc, \n",
    "                    ortho_std))"
   ]
  },
  {
   "cell_type": "code",
   "execution_count": null,
   "id": "f63ca520",
   "metadata": {},
   "outputs": [],
   "source": [
    "s_neg_half = sp.linalg.fractional_matrix_power(s_mat, -0.5)\n",
    "matrix_std_to_loc = s_neg_half @ unitary_ORTHO_std_onto_loc @ s_half\n",
    "\n",
    "print('V |loc> = |std>', np.allclose(matrix_std_to_loc @ C_all_localized_and_virt, \n",
    "                    driver._global_rks.mo_coeff))\n",
    "\n"
   ]
  },
  {
   "cell_type": "code",
   "execution_count": null,
   "id": "b26cbdc1",
   "metadata": {},
   "outputs": [],
   "source": [
    "dm_rks = driver._global_rks.make_rdm1(\n",
    "             mo_coeff=C_all_localized_and_virt, \n",
    "             mo_occ=driver._global_rks.mo_occ)\n",
    "\n",
    "fock_mat = driver._global_rks.get_fock(dm=dm_rks)\n",
    "\n",
    "fock_mat_loc_basis = matrix_std_to_loc.conj().T @ fock_mat @ matrix_std_to_loc\n",
    "\n",
    "np.around(C_all_localized_and_virt.conj().T @ fock_mat_loc_basis @ C_all_localized_and_virt, 3)\n"
   ]
  },
  {
   "cell_type": "code",
   "execution_count": null,
   "id": "665d1948",
   "metadata": {},
   "outputs": [],
   "source": []
  },
  {
   "cell_type": "code",
   "execution_count": null,
   "id": "715b9fb7",
   "metadata": {},
   "outputs": [],
   "source": [
    "P_mu = driver.mu_level_shift * driver._env_projector\n",
    "\n",
    "# Fock + mu_shift\n",
    "np.around(C_all_localized_and_virt.conj().T @ (fock_mat_loc_basis+P_mu) @ C_all_localized_and_virt, 3)"
   ]
  },
  {
   "cell_type": "code",
   "execution_count": null,
   "id": "e486696d",
   "metadata": {},
   "outputs": [],
   "source": [
    "dm_env = driver.localized_system.dm_enviro\n",
    "dm_env= driver.localized_system.c_enviro @ driver.localized_system.c_enviro.T # <-- this is likely why! "
   ]
  },
  {
   "cell_type": "code",
   "execution_count": null,
   "id": "90d43ef8",
   "metadata": {},
   "outputs": [],
   "source": [
    "dm_env = driver.localized_system.dm_enviro\n",
    "\n",
    "fock_mat = driver._global_rks.get_fock(dm=dm_rks)\n",
    "fock_mat_loc_basis = matrix_std_to_loc.conj().T @ fock_mat @ matrix_std_to_loc\n",
    "\n",
    "\n",
    "FDS = fock_mat_loc_basis @ dm_env @ s_mat\n",
    "\n",
    "# with 0.25 rather than 0.5 (env MO energies are zeroed out)\n",
    "huzinaga_op_std = -0.5 * (FDS + FDS.T) \n",
    "# with 0.5 they are pushed to MO energy*2 (aka ensuring always +ve so never filled)\n",
    "\n",
    "\n",
    "# huzinaga_op_std = np.zeros_like(huzinaga_op_std)\n",
    "\n",
    "np.around(C_all_localized_and_virt.conj().T @ (fock_mat_loc_basis+huzinaga_op_std) @ C_all_localized_and_virt, 3)\n",
    "# np.around(C_all_localized_and_virt.conj().T @ (fock_mat_loc_basis) @ C_all_localized_and_virt, 3)"
   ]
  },
  {
   "cell_type": "code",
   "execution_count": null,
   "id": "6b9e8aa8",
   "metadata": {},
   "outputs": [],
   "source": [
    "np.diag(C_all_localized_and_virt.conj().T @ (fock_mat_loc_basis+huzinaga_op_std) @ C_all_localized_and_virt)"
   ]
  },
  {
   "cell_type": "code",
   "execution_count": null,
   "id": "b2f5a107",
   "metadata": {},
   "outputs": [],
   "source": [
    "np.around(C_all_localized_and_virt.conj().T @ (huzinaga_op_std) @ C_all_localized_and_virt, 3)"
   ]
  },
  {
   "cell_type": "code",
   "execution_count": null,
   "id": "0cfdaecd",
   "metadata": {},
   "outputs": [],
   "source": [
    "# see how in above diagonal matrix how when huzinaga_op_std is included the \n",
    "# env orbitals are positive what they were before...\n",
    "np.around(C_all_localized_and_virt.conj().T @ fock_mat_loc_basis @ C_all_localized_and_virt, 3)"
   ]
  },
  {
   "cell_type": "code",
   "execution_count": null,
   "id": "bca4b700",
   "metadata": {
    "scrolled": true
   },
   "outputs": [],
   "source": []
  },
  {
   "cell_type": "code",
   "execution_count": null,
   "id": "b639668a",
   "metadata": {},
   "outputs": [],
   "source": [
    "# huzinaga_op_std = -1* (FDS + FDS.T)\n",
    "\n",
    "# scf_method_HUZ.get_fock() @ huzinaga_op_std - huzinaga_op_std @ scf_method_HUZ.get_fock()"
   ]
  },
  {
   "cell_type": "code",
   "execution_count": null,
   "id": "eca3ebcd",
   "metadata": {},
   "outputs": [],
   "source": [
    "proj_exact = localized_system.dm_enviro/2 @ s_mat\n",
    "\n",
    "new_op = fock_mat_loc_basis - proj_exact@fock_mat_loc_basis - fock_mat_loc_basis@proj_exact\n",
    "\n",
    "\n",
    "np.around(C_all_localized_and_virt.conj().T @ fock_mat_loc_basis @ C_all_localized_and_virt, 3)"
   ]
  },
  {
   "cell_type": "code",
   "execution_count": null,
   "id": "699bd665",
   "metadata": {},
   "outputs": [],
   "source": [
    "proj_exact = localized_system.dm_enviro/2 @ s_mat\n",
    "\n",
    "huz =  fock_mat_loc_basis - proj_exact@fock_mat_loc_basis - fock_mat_loc_basis@proj_exact\n",
    "\n",
    "\n",
    "np.around(C_all_localized_and_virt.conj().T @ huz @ C_all_localized_and_virt, 3)"
   ]
  },
  {
   "cell_type": "code",
   "execution_count": null,
   "id": "f80b65c1",
   "metadata": {},
   "outputs": [],
   "source": [
    "driver._env_projector @ huz - huz@driver._env_projector"
   ]
  },
  {
   "cell_type": "code",
   "execution_count": null,
   "id": "fc3757d6",
   "metadata": {},
   "outputs": [],
   "source": []
  },
  {
   "cell_type": "code",
   "execution_count": null,
   "id": "b8bdc286",
   "metadata": {},
   "outputs": [],
   "source": [
    "proj_exact = s_mat@ localized_system.dm_enviro @ s_mat\n",
    "proj_exact =  localized_system.dm_enviro/2 @ s_mat\n",
    "\n",
    "\n",
    "Fock_emb =  fock_mat_loc_basis - proj_exact@fock_mat_loc_basis - fock_mat_loc_basis@proj_exact\n",
    "\n",
    "fock_mat = driver._global_rks.get_fock(dm=dm_rks)\n",
    "Fock_emb =  fock_mat - proj_exact@fock_mat - fock_mat@proj_exact\n",
    "\n",
    "np.around(proj_exact @ Fock_emb - Fock_emb @ proj_exact, 9) #  <-commutes!"
   ]
  },
  {
   "cell_type": "code",
   "execution_count": null,
   "id": "a1e2ac8e",
   "metadata": {},
   "outputs": [],
   "source": []
  },
  {
   "cell_type": "code",
   "execution_count": null,
   "id": "dbeb6ec9",
   "metadata": {},
   "outputs": [],
   "source": [
    "proj_act = localized_system.dm_active/2 @ s_mat # uses active dmat!\n",
    "\n",
    "print(np.around(localized_system.c_active, 3))\n",
    "print()\n",
    "print(np.around(proj_act @ localized_system.c_loc_occ_and_virt, 3))"
   ]
  },
  {
   "cell_type": "code",
   "execution_count": null,
   "id": "8fbfa8b4",
   "metadata": {},
   "outputs": [],
   "source": []
  }
 ],
 "metadata": {
  "kernelspec": {
   "display_name": "Python 3 (ipykernel)",
   "language": "python",
   "name": "python3"
  },
  "language_info": {
   "codemirror_mode": {
    "name": "ipython",
    "version": 3
   },
   "file_extension": ".py",
   "mimetype": "text/x-python",
   "name": "python",
   "nbconvert_exporter": "python",
   "pygments_lexer": "ipython3",
   "version": "3.9.7"
  }
 },
 "nbformat": 4,
 "nbformat_minor": 5
}
