{
 "cells": [
  {
   "cell_type": "code",
   "execution_count": null,
   "metadata": {},
   "outputs": [],
   "source": [
    "# ## inputs\n",
    "water_xyz = \"\"\"3\n",
    "\n",
    "H\\t0.7493682\\t0.0\\t0.4424329\n",
    "O\\t0.0\\t0.0\\t-0.1653507\n",
    "H\\t-0.7493682\\t0.0\\t0.4424329\n",
    "#     \"\"\"\n",
    "\n",
    "\n",
    "\n",
    "methane = \"\"\"5\n",
    "\n",
    "C\\t0.0\\t0.0\\t0.0\n",
    "H\\t0.5288\\t0.1610\\t0.9359\n",
    "H\\t0.2051\\t0.8240\\t-0.6786\n",
    "H\\t0.3345\\t-0.9314\\t-0.4496\n",
    "H\\t-1.0685\\t-0.0537\\t0.1921\n",
    "#     \"\"\"\n",
    "\n",
    "geometry = methane"
   ]
  },
  {
   "cell_type": "code",
   "execution_count": null,
   "metadata": {},
   "outputs": [],
   "source": []
  },
  {
   "cell_type": "code",
   "execution_count": null,
   "metadata": {},
   "outputs": [],
   "source": [
    "from nbed import nbed"
   ]
  },
  {
   "cell_type": "code",
   "execution_count": null,
   "metadata": {},
   "outputs": [],
   "source": [
    "n_active_atoms=2\n",
    "basis = 'STO-3G'\n",
    "xc_functional = 'B3LYP'# 'lda, vwn' #'B3LYP'\n",
    "convergence = 1e-10\n",
    "charge = 0\n",
    "mu_level_shift=1e6\n",
    "run_ccsd = True\n",
    "run_fci = True\n",
    "max_ram = 8_000\n",
    "output = \"qiskit\" # \"openfermion\", \"qiskit\", \"pennylane\"\n",
    "\n",
    "loc_method = \"ibo\" #\"spade\" #\"pipekmezey\" \"ibo\" \"boys\"\n",
    "transform = 'jordan_wigner'\n",
    "\n",
    "projector =  \"huzinaga\"  # \"huzinaga\",\"mu\",\n",
    "\n",
    "embedded_H = nbed(geometry,\n",
    "            n_active_atoms,\n",
    "            basis,\n",
    "            xc_functional,\n",
    "            projector,\n",
    "            output,\n",
    "            transform,\n",
    "            qubits=None,\n",
    "            localization= loc_method,\n",
    "            convergence=convergence,\n",
    "            charge=0,\n",
    "            mu_level_shift=1e6,\n",
    "            run_ccsd_emb=False,\n",
    "            run_fci_emb=False,\n",
    "            max_ram_memory=max_ram,\n",
    "            pyscf_print_level=1,\n",
    "            savefile=None,\n",
    "            unit=\"angstrom\",\n",
    "            occupied_threshold=0.95,\n",
    "            virtual_threshold=0.95,\n",
    "            max_hf_cycles=50,\n",
    "            max_dft_cycles=50,\n",
    "        )"
   ]
  },
  {
   "cell_type": "code",
   "execution_count": null,
   "metadata": {},
   "outputs": [],
   "source": [
    "print(embedded_H)"
   ]
  },
  {
   "cell_type": "code",
   "execution_count": null,
   "metadata": {},
   "outputs": [],
   "source": []
  }
 ],
 "metadata": {
  "interpreter": {
   "hash": "fe514aa320be100644bbd958a3f38aa9f15de9075cf36cc4d239ea0f19dcd868"
  },
  "kernelspec": {
   "display_name": "Python 3 (ipykernel)",
   "language": "python",
   "name": "python3"
  },
  "language_info": {
   "codemirror_mode": {
    "name": "ipython",
    "version": 3
   },
   "file_extension": ".py",
   "mimetype": "text/x-python",
   "name": "python",
   "nbconvert_exporter": "python",
   "pygments_lexer": "ipython3",
   "version": "3.9.7"
  }
 },
 "nbformat": 4,
 "nbformat_minor": 4
}
