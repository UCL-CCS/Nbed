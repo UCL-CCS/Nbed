{
 "cells": [
  {
   "cell_type": "markdown",
   "metadata": {},
   "source": [
    "# Simple Usage\n",
    "\n",
    "The main functionality of the package is accessible through `nbed.nbed()`.\n",
    "\n",
    "There are three ways to provide arguments to the function:\n",
    "1. passing a path to a config `.json` file.  \n",
    "2. passing named arguments directly.\n",
    "3. passing an NbedConfig model.\n",
    "\n",
    "Note that named arguments which are explicitly added will overwrite the config input from a file or model."
   ]
  },
  {
   "cell_type": "markdown",
   "metadata": {},
   "source": [
    "## Example Config file\n",
    "\n",
    "First lets see what's in the file before we pass it to the main function."
   ]
  },
  {
   "cell_type": "code",
   "execution_count": 1,
   "metadata": {},
   "outputs": [
    {
     "data": {
      "text/plain": [
       "{'geometry': '3\\n\\nO   0.0000  0.000  0.115\\nH   0.0000  0.754  -0.459\\nH   0.0000  -0.754  -0.459',\n",
       " 'n_active_atoms': 1,\n",
       " 'basis': 'STO-3G',\n",
       " 'xc_functional': 'b3lyp',\n",
       " 'projector': 'mu',\n",
       " 'localization': 'spade',\n",
       " 'convergence': 1e-06,\n",
       " 'charge': 0,\n",
       " 'spin': 0,\n",
       " 'unit': 'angstrom',\n",
       " 'symmetry': False,\n",
       " 'mu_level_shift': 1000000.0,\n",
       " 'run_ccsd_emb': True,\n",
       " 'run_fci_emb': True,\n",
       " 'run_virtual_localization': True,\n",
       " 'run_dft_in_dft': True,\n",
       " 'n_mo_overwrite': [None, None],\n",
       " 'max_ram_memory': 4000,\n",
       " 'occupied_threshold': 0.95,\n",
       " 'virtual_threshold': 0.95,\n",
       " 'max_shells': 4,\n",
       " 'init_huzinaga_rhf_with_mu': False,\n",
       " 'max_hf_cycles': 50,\n",
       " 'max_dft_cycles': 50,\n",
       " 'force_unrestricted': False,\n",
       " 'mm_coords': None,\n",
       " 'mm_charges': None,\n",
       " 'mm_radii': None}"
      ]
     },
     "execution_count": 1,
     "metadata": {},
     "output_type": "execute_result"
    }
   ],
   "source": [
    "import json\n",
    "with open(\"test_config.json\") as f:\n",
    "    config_from_file = json.load(f)\n",
    "    \n",
    "config_from_file"
   ]
  },
  {
   "cell_type": "code",
   "execution_count": 2,
   "metadata": {},
   "outputs": [
    {
     "name": "stderr",
     "output_type": "stream",
     "text": [
      "/Users/michaelwilliamsdelabastida/Code/Nbed/.venv/lib/python3.13/site-packages/pyscf/dft/libxc.py:512: UserWarning: Since PySCF-2.3, B3LYP (and B3P86) are changed to the VWN-RPA variant, corresponding to the original definition by Stephens et al. (issue 1480) and the same as the B3LYP functional in Gaussian. To restore the VWN5 definition, you can put the setting \"B3LYP_WITH_VWN5 = True\" in pyscf_conf.py\n",
      "  warnings.warn('Since PySCF-2.3, B3LYP (and B3P86) are changed to the VWN-RPA variant, '\n"
     ]
    }
   ],
   "source": [
    "from nbed import nbed\n",
    "\n",
    "result = nbed(config=\"test_config.json\")"
   ]
  },
  {
   "cell_type": "markdown",
   "metadata": {},
   "source": [
    "## Adding arguments directly"
   ]
  },
  {
   "cell_type": "code",
   "execution_count": 3,
   "metadata": {},
   "outputs": [],
   "source": [
    "geometry= \"3\\n\\nO   0.0000  0.000  0.115\\nH   0.0000  0.754  -0.459\\nH   0.0000  -0.754  -0.459\"\n",
    "\n",
    "result = nbed(geometry=geometry, n_active_atoms=2, basis=\"sto-3g\", xc_functional=\"b3lyp\", projector=\"mu\", localization=\"spade\",convergence=1e-6, charge=0, spin=0)"
   ]
  },
  {
   "cell_type": "markdown",
   "metadata": {},
   "source": [
    "### Overwriting arguments\n",
    "Let's now overwrite some arguments, using the same config to embed some atoms of methane."
   ]
  },
  {
   "cell_type": "code",
   "execution_count": 4,
   "metadata": {},
   "outputs": [],
   "source": [
    "from nbed import nbed\n",
    "\n",
    "methane = \"\"\"5\n",
    "\n",
    "C\\t0.0\\t0.0\\t0.0\n",
    "H\\t0.5288\\t0.1610\\t0.9359\n",
    "H\\t0.2051\\t0.8240\\t-0.6786\n",
    "H\\t0.3345\\t-0.9314\\t-0.4496\n",
    "H\\t-1.0685\\t-0.0537\\t0.1921\n",
    "#     \"\"\"\n",
    "\n",
    "result = nbed(config=\"test_config.json\", geometry=methane)"
   ]
  },
  {
   "cell_type": "markdown",
   "metadata": {},
   "source": [
    "## Using an NbedConfig model.\n",
    "\n",
    "The final option is to directly pass the pydantic model that Nbed uses internally to validate data."
   ]
  },
  {
   "cell_type": "code",
   "execution_count": 5,
   "metadata": {},
   "outputs": [],
   "source": [
    "from nbed.config import NbedConfig\n",
    "\n",
    "config = NbedConfig(geometry=geometry, n_active_atoms=2, basis=\"sto-3g\", xc_functional=\"b3lyp\", projector=\"mu\", localization=\"spade\",convergence=1e-6, charge=0, spin=0)\n",
    "result = nbed(config)"
   ]
  },
  {
   "cell_type": "markdown",
   "metadata": {},
   "source": []
  },
  {
   "cell_type": "code",
   "execution_count": 6,
   "metadata": {},
   "outputs": [],
   "source": [
    "config = NbedConfig(**config_from_file)\n",
    "result = nbed(config)"
   ]
  },
  {
   "cell_type": "markdown",
   "metadata": {},
   "source": [
    "# Command-line Interface"
   ]
  },
  {
   "cell_type": "markdown",
   "metadata": {},
   "source": [
    "It is also possible to run nbed from the command line, the `nbed` command will be installed with the package and allows you to input the path to a config file.\n",
    "\n",
    "This can be useful for running nbed over ssh."
   ]
  },
  {
   "cell_type": "raw",
   "metadata": {
    "vscode": {
     "languageId": "raw"
    }
   },
   "source": [
    "nbed --config test_config.json"
   ]
  },
  {
   "cell_type": "markdown",
   "metadata": {},
   "source": [
    "# Results\n",
    "\n",
    "Results for the `mu` and `huzinaga` projectors are stored separately, let's take a look at what's included in there."
   ]
  },
  {
   "cell_type": "code",
   "execution_count": 25,
   "metadata": {},
   "outputs": [
    {
     "data": {
      "text/plain": [
       "dict_keys(['scf', 'v_emb', 'mo_energies_emb_pre_del', 'mo_energies_emb_post_del', 'correction', 'beta_correction', 'cl', 'e_rhf', 'classical_energy', 'e_ccsd', 'ccsd_emb', 'e_fci', 'fci_emb', 'hf_emb', 'scf_dft', 'v_emb_dft', 'dft_correction', 'dft_correction_beta', 'e_dft_in_dft', 'emb_dft', 'second_quantised'])"
      ]
     },
     "execution_count": 25,
     "metadata": {},
     "output_type": "execute_result"
    }
   ],
   "source": [
    "result.mu.keys()"
   ]
  },
  {
   "cell_type": "markdown",
   "metadata": {},
   "source": [
    "## PySCf Object\n",
    "\n",
    "If you want to contnue to use PySCF methods on the embedded system, you can get the embedded PySCF object `result.mu[\"embedded_scf\"]` (usually a UKS object), together with a correction to the energy which represents the environment `result.mu[\"classical_energy\"]`. "
   ]
  },
  {
   "cell_type": "code",
   "execution_count": 31,
   "metadata": {},
   "outputs": [
    {
     "data": {
      "text/plain": [
       "<pyscf.scf.uhf.UHF at 0x130d5bf00>"
      ]
     },
     "execution_count": 31,
     "metadata": {},
     "output_type": "execute_result"
    }
   ],
   "source": [
    "result.mu[\"scf\"]"
   ]
  },
  {
   "cell_type": "code",
   "execution_count": 30,
   "metadata": {},
   "outputs": [
    {
     "data": {
      "text/plain": [
       "np.float64(-14.229086664077219)"
      ]
     },
     "execution_count": 30,
     "metadata": {},
     "output_type": "execute_result"
    }
   ],
   "source": [
    "result.mu[\"classical_energy\"]"
   ]
  },
  {
   "cell_type": "markdown",
   "metadata": {},
   "source": [
    "## Second Quantised Hamiltonian\n",
    "\n",
    "The second quantised electronic structure hamiltonian will be the main thing you need if you're planning to run a quantum algorithm. You'll need to pair this with a [Fermion-Qubit encoding](https://ferrmion.readthedocs.io/) to create a qubit Hamiltonian that's well optimised to the device you intend to use.\n",
    "\n",
    "Nbed used the spin-orbit format, where the two spins of molecular orbital $i$: $(i_{\\uparrow}, i_{\\downarrow})$ map to indices $(2i, 2i+1)$"
   ]
  },
  {
   "cell_type": "code",
   "execution_count": 26,
   "metadata": {},
   "outputs": [],
   "source": [
    "constant, one_e_terms, two_e_terms = result.mu[\"second_quantised\"]"
   ]
  },
  {
   "cell_type": "code",
   "execution_count": 27,
   "metadata": {},
   "outputs": [
    {
     "data": {
      "text/plain": [
       "(np.float64(-14.229086664077219), (10, 10), (10, 10, 10, 10))"
      ]
     },
     "execution_count": 27,
     "metadata": {},
     "output_type": "execute_result"
    }
   ],
   "source": [
    "constant, one_e_terms.shape, two_e_terms.shape"
   ]
  },
  {
   "cell_type": "markdown",
   "metadata": {},
   "source": [
    "##  Other information\n",
    "\n",
    "Most of the relevant information created or used in the embedding is accessible:"
   ]
  },
  {
   "cell_type": "code",
   "execution_count": 41,
   "metadata": {},
   "outputs": [
    {
     "name": "stdout",
     "output_type": "stream",
     "text": [
      "scf: <class 'pyscf.scf.uhf.UHF'>\n",
      "v_emb: <class 'numpy.ndarray'>\n",
      "mo_energies_emb_pre_del: <class 'numpy.ndarray'>\n",
      "mo_energies_emb_post_del: <class 'numpy.ndarray'>\n",
      "correction: <class 'numpy.float64'>\n",
      "beta_correction: <class 'numpy.float64'>\n",
      "cl: <class 'nbed.localizers.virtual.concentric.ConcentricLocalizer'>\n",
      "e_rhf: <class 'numpy.float64'>\n",
      "classical_energy: <class 'numpy.float64'>\n",
      "e_ccsd: <class 'numpy.float64'>\n",
      "ccsd_emb: <class 'numpy.float64'>\n",
      "e_fci: <class 'numpy.float64'>\n",
      "fci_emb: <class 'numpy.float64'>\n",
      "hf_emb: <class 'numpy.float64'>\n",
      "scf_dft: <class 'pyscf.dft.uks.UKS'>\n",
      "v_emb_dft: <class 'numpy.ndarray'>\n",
      "dft_correction: <class 'numpy.float64'>\n",
      "dft_correction_beta: <class 'numpy.float64'>\n",
      "e_dft_in_dft: <class 'numpy.float64'>\n",
      "emb_dft: <class 'numpy.float64'>\n",
      "second_quantised: <class 'tuple'>\n"
     ]
    }
   ],
   "source": [
    "for k, v in result.mu.items():\n",
    "    print(f\"{k}: {type(v)}\")"
   ]
  }
 ],
 "metadata": {
  "kernelspec": {
   "display_name": "nbed",
   "language": "python",
   "name": "python3"
  },
  "language_info": {
   "codemirror_mode": {
    "name": "ipython",
    "version": 3
   },
   "file_extension": ".py",
   "mimetype": "text/x-python",
   "name": "python",
   "nbconvert_exporter": "python",
   "pygments_lexer": "ipython3",
   "version": "3.13.1"
  }
 },
 "nbformat": 4,
 "nbformat_minor": 4
}
