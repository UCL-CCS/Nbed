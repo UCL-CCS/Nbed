{
 "cells": [
  {
   "cell_type": "code",
   "execution_count": null,
   "metadata": {},
   "outputs": [],
   "source": [
    "methane = \"\"\"5\n",
    "\n",
    "C\\t0.0\\t0.0\\t0.0\n",
    "H\\t0.5288\\t0.1610\\t0.9359\n",
    "H\\t0.2051\\t0.8240\\t-0.6786\n",
    "H\\t0.3345\\t-0.9314\\t-0.4496\n",
    "H\\t-1.0685\\t-0.0537\\t0.1921\n",
    "#     \"\"\"\n",
    "\n",
    "geometry = methane"
   ]
  },
  {
   "cell_type": "code",
   "execution_count": null,
   "metadata": {},
   "outputs": [],
   "source": []
  },
  {
   "cell_type": "code",
   "execution_count": null,
   "metadata": {},
   "outputs": [],
   "source": [
    "from nbed.driver import NbedDriver"
   ]
  },
  {
   "cell_type": "code",
   "execution_count": null,
   "metadata": {},
   "outputs": [],
   "source": [
    "n_active_atoms=2\n",
    "basis = 'STO-3G'\n",
    "xc_functional = 'B3LYP'# 'lda, vwn' #'B3LYP'\n",
    "convergence = 1e-10\n",
    "charge = 0\n",
    "mu_level_shift=1e6\n",
    "run_ccsd_emb = True\n",
    "run_fci_emb = True\n",
    "max_ram = 8_000\n",
    "run_virtual_loc = False\n",
    "\n",
    "loc_method = \"ibo\" #\"spade\" #\"pipekmezey\" \"ibo\" \"boys\"\n",
    "projector =  \"huzinaga\"  # \"huzinaga\",\"mu\" (secret \"both\" flag for developers)\n",
    "\n",
    "# note there are a couple of extra developer methods... see code docstrings for further info\n",
    "\n",
    "experiment = NbedDriver(geometry,\n",
    "            n_active_atoms,\n",
    "            basis,\n",
    "            xc_functional,\n",
    "            projector,\n",
    "            localization= loc_method,\n",
    "            convergence=convergence,\n",
    "            charge=0,\n",
    "            mu_level_shift=1e6,\n",
    "            run_ccsd_emb=run_ccsd_emb,\n",
    "            run_fci_emb=run_fci_emb,\n",
    "            run_virtual_localization=run_virtual_loc,\n",
    "            max_ram_memory=max_ram,\n",
    "            pyscf_print_level=1,\n",
    "            savefile=None,\n",
    "            unit=\"angstrom\",\n",
    "            occupied_threshold=0.95,\n",
    "            virtual_threshold=0.95,\n",
    "            max_hf_cycles=50,\n",
    "            max_dft_cycles=50,\n",
    "        )"
   ]
  },
  {
   "cell_type": "code",
   "execution_count": null,
   "metadata": {},
   "outputs": [],
   "source": []
  },
  {
   "cell_type": "markdown",
   "metadata": {},
   "source": [
    "access experiment values using\n",
    "- `experiment._huzinaga` for huzinaga projector exp\n",
    "- and\n",
    "- `experiment._mu` for mu projector exp\n",
    "\n",
    "developer note if `project='both'` then have access to both dictionaries (standard usage will only have 1 to avoid running two expensive calcs)"
   ]
  },
  {
   "cell_type": "code",
   "execution_count": null,
   "metadata": {},
   "outputs": [],
   "source": []
  },
  {
   "cell_type": "markdown",
   "metadata": {},
   "source": [
    "keys:\n",
    "- `e_rhf`== HFock-in-DFT embedding \n",
    "- `e_ccsd`== CCSD-in-DFT embedding \n",
    "- `e_fci`==  FCI-in-DFT embedding \n",
    "- `correction`== correction term due to dft active density not being same as density given by active wavefunction used in WF calculation\n",
    "- `v_emb`==  Matrix of the embedding potential\n",
    "- `mo_energies_emb_pre_del`== MO energies of all orbitals  \n",
    "- `mo_energies_emb_post_del`==  MO energies of active orbitals only (environment deleted)\n",
    "- `scf` == embedded pyscf scf RHF object"
   ]
  },
  {
   "cell_type": "code",
   "execution_count": null,
   "metadata": {},
   "outputs": [],
   "source": [
    "# access experiment huzinaga values \n",
    "\n",
    "# experiment._huzinaga['e_rhf']\n",
    "# experiment._huzinaga['e_ccsd'] \n",
    "# experiment._huzinaga['e_fci']\n",
    "\n",
    "# experiment._huzinaga['correction']\n",
    "# experiment._huzinaga['v_emb']\n",
    "# experiment._huzinaga['classical_energy']\n",
    "\n",
    "# experiment._huzinaga['mo_energies_emb_pre_del']\n",
    "# experiment._huzinaga['mo_energies_emb_post_del']\n",
    "# experiment._huzinaga['scf']\n",
    "\n",
    " \n",
    "{'v_emb'                   :experiment._huzinaga['v_emb'],\n",
    " 'scf'                     :experiment._huzinaga['scf'],\n",
    " 'mo_energies_emb_pre_del' :experiment._huzinaga['mo_energies_emb_pre_del'],\n",
    " 'mo_energies_emb_post_del':experiment._huzinaga['mo_energies_emb_post_del'],\n",
    " 'correction'              :experiment._huzinaga['correction'],\n",
    " 'e_rhf'                   :experiment._huzinaga['e_rhf'],\n",
    " 'classical_energy'        :experiment._huzinaga['classical_energy'],\n",
    " 'e_ccsd'                  :experiment._huzinaga['e_ccsd'],\n",
    " 'e_fci'                   :experiment._huzinaga['e_fci']}"
   ]
  },
  {
   "cell_type": "code",
   "execution_count": null,
   "metadata": {},
   "outputs": [],
   "source": [
    "## access experiment mu values \n",
    "\n",
    "# experiment._mu['e_rhf']\n",
    "# experiment._mu['e_ccsd']\n",
    "# experiment._mu['e_fci']\n",
    "\n",
    "# experiment._mu['correction']\n",
    "# experiment._mu['v_emb']\n",
    "# experiment._mu['classical_energy']\n",
    "\n",
    "# experiment._mu['mo_energies_emb_pre_del']\n",
    "# experiment._mu['mo_energies_emb_post_del']\n",
    "# experiment._mu['scf']\n",
    "\n",
    "# {'v_emb'                   :experiment._mu['v_emb'],\n",
    "#  'scf'                     :experiment._mu['scf'],\n",
    "#  'mo_energies_emb_pre_del' :experiment._mu['mo_energies_emb_pre_del'],\n",
    "#  'mo_energies_emb_post_del':experiment._mu['mo_energies_emb_post_del'],\n",
    "#  'correction'              :experiment._mu['correction'],\n",
    "#  'e_rhf'                   :experiment._mu['e_rhf'],\n",
    "#  'classical_energy'        :experiment._mu['classical_energy'],\n",
    "#  'e_ccsd'                  :experiment._mu['e_ccsd'],\n",
    "#  'e_fci'                   :experiment._mu['e_fci']}"
   ]
  },
  {
   "cell_type": "markdown",
   "metadata": {},
   "source": [
    "# Get qubit Hamiltonian"
   ]
  },
  {
   "cell_type": "code",
   "execution_count": null,
   "metadata": {},
   "outputs": [],
   "source": [
    "from nbed.ham_builder import HamiltonianBuilder\n",
    "from nbed.ham_converter import HamiltonianConverter"
   ]
  },
  {
   "cell_type": "code",
   "execution_count": null,
   "metadata": {},
   "outputs": [],
   "source": [
    "transform = 'jordan_wigner' # fermion to qubit mapping\n",
    "\n",
    "qham = HamiltonianBuilder(\n",
    "    scf_method=experiment.embedded_scf,\n",
    "    constant_e_shift=experiment.classical_energy,\n",
    "    transform=transform,\n",
    ").build()\n",
    "\n",
    "qham"
   ]
  },
  {
   "cell_type": "code",
   "execution_count": null,
   "metadata": {},
   "outputs": [],
   "source": []
  },
  {
   "cell_type": "code",
   "execution_count": null,
   "metadata": {},
   "outputs": [],
   "source": [
    "# convert to different back ends\n",
    "\n",
    "output = \"pennylane\" # \"openfermion\", \"qiskit\", \"pennylane\"\n",
    "\n",
    "\n",
    "converter = HamiltonianConverter(qham)\n",
    "hamiltonian = getattr(converter, output.lower())\n",
    "\n",
    "print(hamiltonian)"
   ]
  },
  {
   "cell_type": "code",
   "execution_count": null,
   "metadata": {},
   "outputs": [],
   "source": [
    "# note convert works by storing Hamiltonian in intermediate dictionary form of \n",
    "# Paulioperator key and coefficient value\n",
    "\n",
    "converter._intermediate"
   ]
  },
  {
   "cell_type": "code",
   "execution_count": null,
   "metadata": {},
   "outputs": [],
   "source": []
  }
 ],
 "metadata": {
  "interpreter": {
   "hash": "fe514aa320be100644bbd958a3f38aa9f15de9075cf36cc4d239ea0f19dcd868"
  },
  "kernelspec": {
   "display_name": "Python 3 (ipykernel)",
   "language": "python",
   "name": "python3"
  },
  "language_info": {
   "codemirror_mode": {
    "name": "ipython",
    "version": 3
   },
   "file_extension": ".py",
   "mimetype": "text/x-python",
   "name": "python",
   "nbconvert_exporter": "python",
   "pygments_lexer": "ipython3",
   "version": "3.9.7"
  }
 },
 "nbformat": 4,
 "nbformat_minor": 4
}
