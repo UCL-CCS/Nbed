{
 "cells": [
  {
   "cell_type": "markdown",
   "metadata": {},
   "source": [
    "# Orbital Localization Theory\n",
    "\n",
    "This notebook takes you through the methods implemented in nbed for orbital localization.\n",
    "- SPADE\n",
    "- Concentric Localization"
   ]
  },
  {
   "cell_type": "code",
   "execution_count": 1,
   "metadata": {},
   "outputs": [],
   "source": [
    "import numpy as np\n",
    "import os"
   ]
  },
  {
   "cell_type": "markdown",
   "metadata": {},
   "source": [
    "## Background\n",
    "\n",
    "The overlap matrix is:\n",
    "\n",
    "$$S_{\\mu \\nu} =  \\int d\\vec{r}_{1} \\phi_{\\mu}(1)^{*}\\phi_{\\nu}(1)$$\n",
    "\n",
    "- $\\phi_{\\mu}$ are basis functions (defined in basis set)\n",
    "\n",
    "\n",
    "The unknown molecular orbitals $\\psi_{i}$ are expanded as a linear expansion of the $K$ known basis functions $\\{ \\phi_{i} | i=1,2,..., K \\}$:\n",
    "\n",
    "$$ \\psi_{i} =  \\sum_{\\mu=1}^{K} C_{\\mu i} \\phi_{\\mu}$$\n",
    "\n",
    "\n",
    "$C$ is a $K \\times K$ matrix of expansion coefficients $C_{\\mu i}$. The columns of $C$ describe the molecular orbitals!\n",
    "\n",
    "\n",
    "We can find the total number of electrons $N$ in the system by:\n",
    "\n",
    "$$ N =  2 \\sum_{a}^{N/2}\\int d\\vec{r}  \\bigg( \\psi_{a}(\\vec{r})^{*} \\psi_{i}(\\vec{r}) \\bigg) =  2 \\sum_{a}^{N/2} 1$$\n",
    "\n",
    "- integral gives probablity of finding electron $a$ over all space (must be 1)\n",
    "- summing over all electrons will give the total number of electrons"
   ]
  },
  {
   "cell_type": "markdown",
   "metadata": {},
   "source": [
    "The charge density has the following definition:\n",
    "\n",
    "$$\\rho(\\vec{r}) = 2 \\sum_{a}^{N/2} \\bigg( \\psi_{a}(\\vec{r})^{*} \\psi_{i}(\\vec{r}) \\bigg)$$\n",
    "\n",
    "- re-write using definition of $\\psi_{i}=  \\sum_{\\mu=1}^{K} C_{\\mu i} \\phi_{\\mu}$\n",
    "\n",
    "$$\\rho(\\vec{r}) = 2 \\sum_{a}^{N/2} \\Bigg( \\bigg[ \\sum_{\\nu}^{K} C_{\\nu a}^{*} \\phi_{\\nu}(\\vec{r})^{*} \\bigg] \\bigg[ \\sum_{\\mu}^{K} C_{\\mu a}\\phi_{\\mu}(\\vec{r}) \\bigg] \\Bigg)$$\n",
    "\n",
    "- move things around\n",
    "\n",
    "$$\\rho(\\vec{r}) = \\sum_{\\nu}^{K} \\sum_{\\mu}^{K} \\Big( 2 \\sum_{a}^{N/2} C_{\\mu a} C_{\\nu a}^{*} \\Big) \\phi_{\\mu}(\\vec{r}) \\phi_{\\nu}(\\vec{r})^{*} $$\n",
    "\n",
    "- which is \n",
    "\n",
    "$$\\rho(\\vec{r}) = \\sum_{\\mu, \\nu}^{K} P_{\\mu \\nu} \\phi_{\\mu}(\\vec{r}) \\phi_{\\nu}(\\vec{r})^{*} $$\n",
    "\n",
    "\n",
    "- $P_{\\mu \\nu}$ is known as the density matrix and is:\n",
    "\n",
    "$$P_{\\mu \\nu} = 2 \\sum_{a}^{N/2} C_{\\mu a} C_{\\nu a}^{*}$$"
   ]
  },
  {
   "cell_type": "markdown",
   "metadata": {},
   "source": [
    "Therefore we can also find the total number of electrons in the system by:\n",
    "\n",
    "$$ N =  2 \\sum_{a}^{N/2}\\int d\\vec{r}  \\bigg( \\psi_{a}(\\vec{r})^{*} \\psi_{i}(\\vec{r}) \\bigg) =  \\sum_{\\nu}^{K} \\sum_{\\mu}^{K} \\Big( 2 \\sum_{a}^{N/2} C_{\\mu a} C_{\\nu a}^{*} \\Big) \\int d\\vec{r} \\phi_{\\mu}(\\vec{r})  \\phi_{\\nu}(\\vec{r})^{*}$$\n",
    "\n",
    "- This is simply:\n",
    "\n",
    "$$N =  \\sum_{\\nu}^{K} \\sum_{\\mu}^{K} P_{\\mu \\nu} S_{\\nu \\mu}= \\sum_{\\mu}^{K} PS_{\\mu \\mu} = \\mathcal{Tr}(PS)$$"
   ]
  },
  {
   "cell_type": "markdown",
   "metadata": {},
   "source": [
    "- One can interpret $ PS_{\\mu \\mu}$ in the above equation as the number of electrons associated with $ \\phi_{\\mu}$\n",
    "- This is a **Mulliken population analysis**"
   ]
  },
  {
   "cell_type": "markdown",
   "metadata": {},
   "source": [
    "## Orbital Localization"
   ]
  },
  {
   "cell_type": "markdown",
   "metadata": {},
   "source": [
    "- When we perform a SCF calculation, one gets an optimized C matrix\n",
    "    - $C$ is a $K \\times K$ matrix of expansion coefficients $C_{\\mu i}$\n",
    "    - The columns of $C$ describe the molecular orbitals!\n",
    "    - MO i: $ \\psi_{i} =  \\sum_{\\mu=1}^{K} C_{\\mu i} \\phi_{\\mu}$\n",
    "    \n",
    "    \n",
    "- These molecular orbitals are usually **delocalized**\n",
    "    - non-negligible amplitude over the whole system, rather than only around some atom(s) or bond(s)\n",
    "\n",
    "- But we know in QM that a given basis choice is NOT unique\n",
    "\n",
    "\n",
    "- We can therefore perform a unitary rotation on molecular orbitals\n",
    "\n",
    "$$ \\psi_{i} U_{rot} =  \\Big( \\sum_{\\mu=1}^{K} C_{\\mu i} \\phi_{\\mu} \\Big) U_{rot} = \\psi_{i}^{new}$$\n",
    "    \n",
    "    \n",
    "The idea is to use a rotation such that the resulting orbitals $\\psi_{i}^{new}$ are as spatially localized as possible. \n",
    "\n",
    "\n",
    "The Pipek-Mezey (PM) [localization](https://notendur.hi.is/hj/papers/paperPipekmezey8.pdf) **maximizes the population charges on the atoms**:\n",
    "\n",
    "$$ f (U_{rot}) = \\sum_{A}^{N_{atoms}} \\Bigg( Z_{A} -  \\sum_{\\mu \\text{ on atom } A} PS_{\\mu \\mu} \\Bigg)$$"
   ]
  },
  {
   "cell_type": "markdown",
   "metadata": {},
   "source": [
    "### Method 1 - Population-based methods\n",
    "- Given optimized $C$ coefficient matrix\n",
    "    - which has been rotated to localize orbitals\n",
    "    - (used to build localized density matrix)\n",
    "\n",
    "\n",
    "- **Look through basis functions $\\phi_{\\mu}$ of the ACTIVE atoms**\n",
    "\n",
    "    \n",
    "- check the mulliken charge // mulliken population of the orbital\n",
    "    - if above a certain threshold associate it to active system\n",
    "    - otherwise put in the environment\n",
    " \n",
    "\n",
    "\n",
    "To choose the active and enviroment subsystems we do the following:\n",
    "\n",
    "1. Given a localized molecular orbs (localized C matrix), we take the absolute mag squared of the coefficients of the active part for a given localized orb and divide by the absolute mag squared of all the coefficents of a that orb... THis will give a value of how much the active system contributes to that orb.\n",
    "\n",
    "2. Mathematically, for orbital $j$ \n",
    "    - remember MO orbs given by columns of C matrix\n",
    "    - In equation below C matrix is the LOCALIZED form!\n",
    "\n",
    "\n",
    "$$ \\text{threshold} =  \\frac{\\sum_{\\mu\\in \\text{active AO}}^{K} |C_{\\mu j}|^{2}}{\\sum_{\\mu =1}^{K} |C_{\\mu j}|^{2}}$$"
   ]
  },
  {
   "cell_type": "markdown",
   "metadata": {},
   "source": [
    "### METHOD 2 - SPADE\n",
    "\n",
    "    "
   ]
  },
  {
   "cell_type": "markdown",
   "metadata": {},
   "source": [
    "Subsytem Projected Atomic orbital DEcomposition (SPADE) begins by orthogonalising the occupied MOs\n",
    "\n",
    "$$ \\bar{C}_{occ} = S^{-1/2}C_{occ}$$\n",
    "\n",
    "We project these onto the active atomic orbitals (erasing the contribution from the environment AOs to the MO matrix).\n",
    "\n",
    "$$ \\bar{C}_{occ}^A = P_A\\bar{C}_{occ}$$\n",
    "\n",
    "A singlular value decomposition of these is then taken\n",
    "\n",
    "$$ \\bar{C}_{occ}^A = U \\Sigma V^{T}$$\n",
    "\n",
    "The singular values $\\{\\sigma\\}$ given as the diagonal elements of $\\Sigma$, are then used to define the subsytem decomposition by locating the maximum change in singluar value\n",
    "\n",
    "$$ m = max_{i} \\bigg(\\sigma_{i} - \\sigma_{i+1} \\bigg)$$\n",
    "\n",
    "The occupied MOs are then rotated into the SPADE basis using the right singular vectors of the SVD\n",
    "\n",
    "$$ \\bar{C}_{occ}^{SPADE} = \\bar{C}_{occ} V_{m}$$\n",
    "\n",
    "The SPADE basis is then used to define the active and environment subsystems, taking the first m orbitals as the active subsystem and the remaining as the environment."
   ]
  },
  {
   "cell_type": "markdown",
   "metadata": {},
   "source": [
    "Let's start by building a molucule and SCF object."
   ]
  },
  {
   "cell_type": "code",
   "execution_count": 2,
   "metadata": {},
   "outputs": [
    {
     "name": "stdout",
     "output_type": "stream",
     "text": [
      "/Users/michaelwilliamsdelabastida/Code/Nbed/docs/source/notebooks/molecular_structures/formamide.xyz\n"
     ]
    }
   ],
   "source": [
    "from pathlib import Path\n",
    "\n",
    "water_filepath = Path(\"molecular_structures/formamide.xyz\").absolute()\n",
    "print(water_filepath)\n",
    "\n",
    "basis = \"STO-3G\"\n",
    "charge = 0\n",
    "xc_functional = \"b3lyp\"\n",
    "convergence = 1e-6\n",
    "max_ram_memory = 4_000\n",
    "n_active_atoms = 2\n",
    "occ_cutoff = 0.95\n",
    "virt_cutoff = 0.95\n",
    "run_virtual_localization = False"
   ]
  },
  {
   "cell_type": "code",
   "execution_count": 3,
   "metadata": {},
   "outputs": [
    {
     "name": "stderr",
     "output_type": "stream",
     "text": [
      "/Users/michaelwilliamsdelabastida/Code/Nbed/.venv/lib/python3.13/site-packages/pyscf/dft/libxc.py:512: UserWarning: Since PySCF-2.3, B3LYP (and B3P86) are changed to the VWN-RPA variant, corresponding to the original definition by Stephens et al. (issue 1480) and the same as the B3LYP functional in Gaussian. To restore the VWN5 definition, you can put the setting \"B3LYP_WITH_VWN5 = True\" in pyscf_conf.py\n",
      "  warnings.warn('Since PySCF-2.3, B3LYP (and B3P86) are changed to the VWN-RPA variant, '\n"
     ]
    },
    {
     "data": {
      "text/plain": [
       "np.float64(-167.59178321957404)"
      ]
     },
     "execution_count": 3,
     "metadata": {},
     "output_type": "execute_result"
    }
   ],
   "source": [
    "from pyscf import gto, scf\n",
    "\n",
    "full_mol = gto.Mole(\n",
    "    atom=str(water_filepath),\n",
    "    basis=basis,\n",
    "    charge=charge,\n",
    ").build()\n",
    "\n",
    "global_ks = scf.RKS(full_mol)\n",
    "global_ks.conv_tol = convergence\n",
    "global_ks.xc = xc_functional\n",
    "global_ks.max_memory = max_ram_memory\n",
    "global_ks.verbose = 1\n",
    "global_ks.kernel()"
   ]
  },
  {
   "cell_type": "code",
   "execution_count": 4,
   "metadata": {},
   "outputs": [],
   "source": [
    "from scipy import linalg\n",
    "import numpy as np\n",
    "\n",
    "# Locate he occupied orbitals\n",
    "occupancy = global_ks.mo_occ\n",
    "n_occupied_orbitals = np.count_nonzero(occupancy)\n",
    "occupied_orbitals = global_ks.mo_coeff[:, :n_occupied_orbitals]\n",
    "\n",
    "# Project onto the active AOs\n",
    "# Do this by erasing rows of the C matrix\n",
    "# that correspond to contributions from the environment\n",
    "# this only works because we have placed our active atoms at the start of the file.\n",
    "n_act_aos = global_ks.mol.aoslice_by_atom()[n_active_atoms - 1][-1]\n",
    "\n",
    "# Orthogonalise the MOs\n",
    "ao_overlap = global_ks.get_ovlp()\n",
    "\n",
    "rotated_orbitals = linalg.fractional_matrix_power(ao_overlap, 0.5) @ occupied_orbitals\n",
    "\n",
    "# Take the SVD of the rotated and projected orbitals\n",
    "_, sigma, right_vectors = linalg.svd(rotated_orbitals[:n_act_aos, :])\n",
    "\n",
    "\n",
    "# Prevents an error with argmax\n",
    "if len(sigma) == 1:\n",
    "    n_act_mos = 1\n",
    "else:\n",
    "    value_diffs = sigma[:-1] - sigma[1:]\n",
    "    n_act_mos = np.argmax(value_diffs) + 1\n",
    "\n",
    "n_env_mos = n_occupied_orbitals - n_act_mos\n",
    "\n",
    "# get active and enviro indices\n",
    "active_MO_inds = np.arange(n_act_mos)\n",
    "enviro_MO_inds = np.arange(n_act_mos, n_act_mos + n_env_mos)\n",
    "\n",
    "# Defining active and environment orbitals and density\n",
    "c_active = occupied_orbitals @ right_vectors.T[:, :n_act_mos]\n",
    "c_enviro = occupied_orbitals @ right_vectors.T[:, n_act_mos:]\n",
    "c_loc_occ = occupied_orbitals @ right_vectors.T"
   ]
  },
  {
   "cell_type": "code",
   "execution_count": 5,
   "metadata": {},
   "outputs": [
    {
     "data": {
      "text/plain": [
       "array([ 9, 10, 11])"
      ]
     },
     "execution_count": 5,
     "metadata": {},
     "output_type": "execute_result"
    }
   ],
   "source": [
    "enviro_MO_inds"
   ]
  },
  {
   "cell_type": "code",
   "execution_count": 6,
   "metadata": {},
   "outputs": [
    {
     "name": "stdout",
     "output_type": "stream",
     "text": [
      "n_act_mos=np.int64(9)\n",
      "n_env_mos=np.int64(3)\n",
      "active_MO_inds=array([0, 1, 2, 3, 4, 5, 6, 7, 8])\n",
      "enviro_MO_inds=array([ 9, 10, 11])\n",
      "c_active.shape=(18, 9)\n",
      "c_enviro.shape=(18, 3)\n"
     ]
    }
   ],
   "source": [
    "print(f\"{n_act_mos=}\")\n",
    "print(f\"{n_env_mos=}\")\n",
    "\n",
    "print(f\"{active_MO_inds=}\")\n",
    "print(f\"{enviro_MO_inds=}\")\n",
    "\n",
    "print(f\"{c_active.shape=}\")\n",
    "print(f\"{c_enviro.shape=}\")"
   ]
  },
  {
   "cell_type": "markdown",
   "metadata": {},
   "source": [
    "## Virtual Orbital Localization via Concentric Localization\n",
    "\n",
    "[1] D. Claudino and N. J. Mayhall, \"Simple and Efficient Truncation of Virtual Spaces in Embedded Wave Functions via Concentric Localization\", Journal of Chemical Theory and Computation, vol. 15, no. 11, pp. 6085-6096, Nov. 2019, doi: 10.1021/ACS.JCTC.9B00682."
   ]
  },
  {
   "cell_type": "markdown",
   "metadata": {},
   "source": [
    "Concentric localization is an extension of SPADE which allows for virtual orbitals to be localized. \n",
    "\n",
    "This procedure is carried out after projection based embedding is complete, as this allows for selection of virtual orbitals which are most suitable for the embedded system. Virtual orbital selection does not impact the projection based embedding procedure, until the calculation of the embedded energy term.\n",
    "\n",
    "Beginning with the occupied orbitals of the active region, the procedure is carried out iteratively.In the first iteration, the procedure allows for a change of basis from embedding to Concentric Localization. The virtual orbitals which overlap to the greatest extent with the occupied orbitals of the active region are selected. These are then used to define the first shell of the Concentric Localization basis. Further iterations find the overlap of remaining virtual MOs with all previous shells (including occupied MOs), under the action of the fock operator. The virtual MOs which interact with the active region are then used to define the next shell of the Concentric Localization basis.\n",
    "\n",
    "We begin by projecting the MOs onto the active region.\n",
    "\n",
    "$$ \\bar{C}^A = P_A\\bar{C}$$\n",
    "\n",
    "The first step of the iterative process requires finding the virtual orbitals in the projected basis. Note that these virtual orbitals should not include those which have been projected out of the active space.\n",
    "\n",
    "$$ C^A_{vir} = S^{-1}_A S_{PB,WB} C_{vir} $$\n",
    "\n",
    "Where $S_{PB,WB}$ gives the overlap matrix between the projected basis and the `working basis` (the basis set used in the projection procedure with occupied environment orbitals removed).\n",
    "\n",
    "$$ [S_{PB,WB}]_{i,j} = \\langle a_i | u_j \\rangle \\ \\{a_i \\in C^A, u_j \\in C\\}$$\n",
    "\n",
    "We can then begin to build up a set of localized orbitals iteratively. For the initial step, we find the overlap of the two sets of orbitals and singlular value decompose this.\n",
    "\n",
    "$$ C^A_{vir} S_{PB,WB} C_{vir} = U \\Sigma V^{T}$$\n",
    "\n",
    "By splitting the $V$ matrix into its span and kernel, we can define two sets of orbitals for the $1st$ shell.\n",
    "\n",
    "Let $T: V \\to W$ we a linear transformation, then the image and kernel of $T$ are defined as\n",
    "\n",
    "$$ im\\ T = T(V) = \\{T(v) | v \\in V\\}$$\n",
    "$$ ker\\ T = \\{v \\in V | T(v) = 0\\}$$\n",
    "\n",
    "The span and kernel can be found by taking the singular value decomposition of $T = L\\Sigma R$.\n",
    "\n",
    "$$ C_{span} = \\{r_i \\in R | \\Sigma_i \\neq 0\\}$$\n",
    "$$ C_{ker} = \\{r_i \\in R | \\Sigma_i = 0\\}$$\n",
    "\n",
    "Finally, we can define the two sets of orbitals for the $1st$ shell.\n",
    "\n",
    "$$ C_0 = C_{vir} V_{span}$$\n",
    "$$ C_{0,k} = C_{vir} V_{ker}$$\n",
    "\n",
    "Subesquent iterations are found using the overlap of these two sets of orbitals under the action of the Fock operator $F$.\n",
    "\n",
    "$$ C_n^{\\dagger} F C_{n,k} = U_n \\Sigma_n V_n^{T}$$\n",
    "\n",
    "$$ C_{n+1} = C_{n,k} V_{n,span}$$\n",
    "$$ C_{n+1,k} = C_{n,k} V_{n,ker}$$\n",
    "\n",
    "Note the code associated with the original paper `PsiEmbed` defines the span matrix slighly differently.\n",
    "$$ C_{n+1} = \\{C_0|...|C_{n-1}|C_{n,k} V_{n,span}\\}$$\n",
    "\n",
    "(From experience it seems that this choice ensures all orbitals will be included.)\n",
    "\n",
    "Ultimately, the active space is constructed from the occupied orbitals of the active region and the first $n$ shells.\n",
    "\n",
    "$$ C_{active\\ space} \\to \\{C_{act, occ}|C_0| C_1| \\dots| C_{n}\\}"
   ]
  },
  {
   "cell_type": "markdown",
   "metadata": {},
   "source": [
    ">NOTE\n",
    ">\n",
    ">This section will be added at the end of the driver method. So to work it out we'll run the driver first."
   ]
  },
  {
   "cell_type": "markdown",
   "metadata": {},
   "source": [
    "### Relative accuracy of the embedding energy\n",
    "\n",
    "By using concentric localization, we can reduce the number of virtual molecular orbitals which need to be included in a calculation. \n",
    "\n",
    "To see this, lets compare the embedded energy calculation we get by truncating the virtual spaces we get with and without concentric localization.\n",
    "\n",
    "First we'll get the full system CCSD, including the environment occupied orbitals."
   ]
  },
  {
   "cell_type": "code",
   "execution_count": 7,
   "metadata": {},
   "outputs": [
    {
     "name": "stdout",
     "output_type": "stream",
     "text": [
      "converged SCF energy = -49.4433749185727  <S^2> = 1.047943e-08  2S+1 = 1\n"
     ]
    },
    {
     "name": "stderr",
     "output_type": "stream",
     "text": [
      "Overwritten attributes  energy_elec get_hcore  of <class 'pyscf.scf.uhf.UHF'>\n"
     ]
    }
   ],
   "source": [
    "from nbed import nbed\n",
    "from pyscf.cc import CCSD\n",
    "from pathlib import Path\n",
    "import numpy as np\n",
    "mol_filepath = Path(\"molecular_structures/formamide.xyz\").absolute()\n",
    "    \n",
    "driver = nbed(\n",
    "    geometry=mol_filepath,\n",
    "    n_active_atoms=2,\n",
    "    basis=\"6-31g\",\n",
    "    xc_functional=\"b3lyp\",\n",
    "    projector=\"mu\",\n",
    "    localization=\"spade\",\n",
    "    convergence=1e-6,\n",
    "    charge=0,\n",
    "    spin=0,\n",
    "    mu_level_shift=1e6,\n",
    "    run_virtual_localization=True,\n",
    "    max_shells=10,\n",
    "    run_ccsd_emb = True\n",
    ")\n",
    "\n",
    "\n",
    "global_cc = CCSD(driver._global_hf)\n",
    "global_cc.verbose = 1\n",
    "global_cc.run()\n",
    "global_cc = global_cc.e_tot"
   ]
  },
  {
   "cell_type": "markdown",
   "metadata": {},
   "source": [
    "Now let's get the embedded CCSD-in-DFT energy, varying the size of the virtual space."
   ]
  },
  {
   "cell_type": "code",
   "execution_count": 13,
   "metadata": {},
   "outputs": [],
   "source": [
    "from nbed import nbed\n",
    "from pyscf.cc import CCSD\n",
    "from pathlib import Path\n",
    "import numpy as np\n",
    "\n",
    "def get_partial_cc_errors(run_virtual_localization: bool):\n",
    "    mol_filepath = Path(\"molecular_structures/formamide.xyz\").absolute()\n",
    "\n",
    "    driver = nbed(\n",
    "        geometry=mol_filepath,\n",
    "        n_active_atoms=2,\n",
    "        basis=\"6-31g\",\n",
    "        xc_functional=\"b3lyp\",\n",
    "        projector=\"mu\",\n",
    "        localization=\"spade\",\n",
    "        convergence=1e-6,\n",
    "        charge=0,\n",
    "        spin=0,\n",
    "        mu_level_shift=1e6,\n",
    "        run_virtual_localization=run_virtual_localization,\n",
    "        max_shells=10,\n",
    "        run_ccsd_emb = True\n",
    "    )\n",
    "\n",
    "    def embedding_correction(val, driver):\n",
    "        return val + driver.e_env + driver.two_e_cross - driver.mu[\"correction\"] - driver.mu[\"beta_correction\"]\n",
    "\n",
    "    full_cc = driver.mu[\"e_ccsd\"]\n",
    "\n",
    "    from copy import deepcopy\n",
    "\n",
    "    partial_scf = driver.embedded_scf.copy()\n",
    "    energies = []\n",
    "    mos = [i for i in range(5, 34)]\n",
    "    mos = mos[::-1]\n",
    "    for i in mos:\n",
    "        partial_scf.mo_coeff = partial_scf.mo_coeff[:,:, :i]\n",
    "        partial_scf.mo_occ = partial_scf.mo_occ[:,:i]\n",
    "\n",
    "        e_ccsd = CCSD(partial_scf)\n",
    "        e_ccsd.verbose = 1\n",
    "        e_ccsd.run()\n",
    "        driver_ccsd = e_ccsd.e_tot\n",
    "        driver_ccsd = embedding_correction(driver_ccsd, driver)\n",
    "        energies.append(driver_ccsd - full_cc)\n",
    "    return full_cc, energies"
   ]
  },
  {
   "cell_type": "code",
   "execution_count": 14,
   "metadata": {},
   "outputs": [
    {
     "name": "stdout",
     "output_type": "stream",
     "text": [
      "converged SCF energy = -49.4433749185727  <S^2> = 1.047943e-08  2S+1 = 1\n",
      "converged SCF energy = -49.4433749185727  <S^2> = 1.047943e-08  2S+1 = 1\n"
     ]
    }
   ],
   "source": [
    "unlocalized = get_partial_cc_errors(False)\n",
    "localized = get_partial_cc_errors(True)"
   ]
  },
  {
   "cell_type": "markdown",
   "metadata": {},
   "source": [
    "We can see that the total energy between methods is very similar so our CL procedure does not introduce energy errors."
   ]
  },
  {
   "cell_type": "code",
   "execution_count": 15,
   "metadata": {},
   "outputs": [
    {
     "data": {
      "text/plain": [
       "np.float64(-2.5353074306622148e-08)"
      ]
     },
     "execution_count": 15,
     "metadata": {},
     "output_type": "execute_result"
    }
   ],
   "source": [
    "unlocalized[0] - localized[0]"
   ]
  },
  {
   "cell_type": "markdown",
   "metadata": {},
   "source": [
    "There is naturally a difference between using global coupled cluster and cc-in-dft embedding.\n",
    "\n",
    "By using DFT for the environment occupied orbitals, we have an error of"
   ]
  },
  {
   "cell_type": "code",
   "execution_count": 16,
   "metadata": {},
   "outputs": [
    {
     "data": {
      "text/plain": [
       "np.float64(0.2879207906178749)"
      ]
     },
     "execution_count": 16,
     "metadata": {},
     "output_type": "execute_result"
    }
   ],
   "source": [
    "global_cc - unlocalized[0]"
   ]
  },
  {
   "cell_type": "code",
   "execution_count": 19,
   "metadata": {},
   "outputs": [
    {
     "data": {
      "text/plain": [
       "<matplotlib.legend.Legend at 0x178eb2850>"
      ]
     },
     "execution_count": 19,
     "metadata": {},
     "output_type": "execute_result"
    },
    {
     "data": {
      "image/png": "[encoded data removed]",
      "text/plain": [
       "<Figure size 640x480 with 1 Axes>"
      ]
     },
     "metadata": {},
     "output_type": "display_data"
    }
   ],
   "source": [
    "from matplotlib import pyplot as plt\n",
    "\n",
    "plt.semilogy(np.arange(5, 33), np.abs(localized[1][::-1][:-1]))\n",
    "plt.semilogy(np.arange(5, 33), np.abs(unlocalized[1][::-1][:-1]))\n",
    "plt.vlines(driver.mu[\"cl\"].shells[0], ymin=1e-5, ymax=1e-1, color=\"k\", linestyle=\"--\")\n",
    "plt.hlines(1.5e-3, xmin=5, xmax=33, color=\"red\", linestyle=\"--\", linewidth=0.5)\n",
    "\n",
    "plt.title(\"Formamide (C=O act) 6-31G\")\n",
    "plt.ylabel(\"CCSD Energy Error (Hartree)\")\n",
    "plt.xlabel(\"Number of MOs\")\n",
    "plt.legend([\"Concentric Localization\", \"Raw MOs\", \"CL Shell\", \"1.6mHa\"])"
   ]
  },
  {
   "cell_type": "markdown",
   "metadata": {},
   "source": [
    "Great! Concentric localization has reduced the number of virtual MOs we need to include to reach chemical accuracy (of the embedded calculation!)"
   ]
  }
 ],
 "metadata": {
  "kernelspec": {
   "display_name": "nbed",
   "language": "python",
   "name": "python3"
  },
  "language_info": {
   "codemirror_mode": {
    "name": "ipython",
    "version": 3
   },
   "file_extension": ".py",
   "mimetype": "text/x-python",
   "name": "python",
   "nbconvert_exporter": "python",
   "pygments_lexer": "ipython3",
   "version": "3.13.1"
  }
 },
 "nbformat": 4,
 "nbformat_minor": 4
}
