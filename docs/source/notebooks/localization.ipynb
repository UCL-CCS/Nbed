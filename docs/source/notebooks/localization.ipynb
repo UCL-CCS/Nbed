{
 "cells": [
  {
   "cell_type": "markdown",
   "metadata": {},
   "source": [
    "# Orbital Localization Theory\n",
    "\n",
    "This notebook takes you through the methods implemented in nbed for orbital localization.\n",
    "- SPADE\n",
    "- Concentric Localization"
   ]
  },
  {
   "cell_type": "code",
   "execution_count": 1,
   "metadata": {},
   "outputs": [],
   "source": [
    "import numpy as np\n",
    "import os"
   ]
  },
  {
   "cell_type": "markdown",
   "metadata": {},
   "source": [
    "## Background\n",
    "\n",
    "The overlap matrix is:\n",
    "\n",
    "$$S_{\\mu \\nu} =  \\int d\\vec{r}_{1} \\phi_{\\mu}(1)^{*}\\phi_{\\nu}(1)$$\n",
    "\n",
    "- $\\phi_{\\mu}$ are basis functions (defined in basis set)\n",
    "\n",
    "\n",
    "The unknown molecular orbitals $\\psi_{i}$ are expanded as a linear expansion of the $K$ known basis functions $\\{ \\phi_{i} | i=1,2,..., K \\}$:\n",
    "\n",
    "$$ \\psi_{i} =  \\sum_{\\mu=1}^{K} C_{\\mu i} \\phi_{\\mu}$$\n",
    "\n",
    "\n",
    "$C$ is a $K \\times K$ matrix of expansion coefficients $C_{\\mu i}$. The columns of $C$ describe the molecular orbitals!\n",
    "\n",
    "\n",
    "We can find the total number of electrons $N$ in the system by:\n",
    "\n",
    "$$ N =  2 \\sum_{a}^{N/2}\\int d\\vec{r}  \\bigg( \\psi_{a}(\\vec{r})^{*} \\psi_{i}(\\vec{r}) \\bigg) =  2 \\sum_{a}^{N/2} 1$$\n",
    "\n",
    "- integral gives probablity of finding electron $a$ over all space (must be 1)\n",
    "- summing over all electrons will give the total number of electrons"
   ]
  },
  {
   "cell_type": "markdown",
   "metadata": {},
   "source": [
    "The charge density has the following definition:\n",
    "\n",
    "$$\\rho(\\vec{r}) = 2 \\sum_{a}^{N/2} \\bigg( \\psi_{a}(\\vec{r})^{*} \\psi_{i}(\\vec{r}) \\bigg)$$\n",
    "\n",
    "- re-write using definition of $\\psi_{i}=  \\sum_{\\mu=1}^{K} C_{\\mu i} \\phi_{\\mu}$\n",
    "\n",
    "$$\\rho(\\vec{r}) = 2 \\sum_{a}^{N/2} \\Bigg( \\bigg[ \\sum_{\\nu}^{K} C_{\\nu a}^{*} \\phi_{\\nu}(\\vec{r})^{*} \\bigg] \\bigg[ \\sum_{\\mu}^{K} C_{\\mu a}\\phi_{\\mu}(\\vec{r}) \\bigg] \\Bigg)$$\n",
    "\n",
    "- move things around\n",
    "\n",
    "$$\\rho(\\vec{r}) = \\sum_{\\nu}^{K} \\sum_{\\mu}^{K} \\Big( 2 \\sum_{a}^{N/2} C_{\\mu a} C_{\\nu a}^{*} \\Big) \\phi_{\\mu}(\\vec{r}) \\phi_{\\nu}(\\vec{r})^{*} $$\n",
    "\n",
    "- which is \n",
    "\n",
    "$$\\rho(\\vec{r}) = \\sum_{\\mu, \\nu}^{K} P_{\\mu \\nu} \\phi_{\\mu}(\\vec{r}) \\phi_{\\nu}(\\vec{r})^{*} $$\n",
    "\n",
    "\n",
    "- $P_{\\mu \\nu}$ is known as the density matrix and is:\n",
    "\n",
    "$$P_{\\mu \\nu} = 2 \\sum_{a}^{N/2} C_{\\mu a} C_{\\nu a}^{*}$$"
   ]
  },
  {
   "cell_type": "markdown",
   "metadata": {},
   "source": [
    "Therefore we can also find the total number of electrons in the system by:\n",
    "\n",
    "$$ N =  2 \\sum_{a}^{N/2}\\int d\\vec{r}  \\bigg( \\psi_{a}(\\vec{r})^{*} \\psi_{i}(\\vec{r}) \\bigg) =  \\sum_{\\nu}^{K} \\sum_{\\mu}^{K} \\Big( 2 \\sum_{a}^{N/2} C_{\\mu a} C_{\\nu a}^{*} \\Big) \\int d\\vec{r} \\phi_{\\mu}(\\vec{r})  \\phi_{\\nu}(\\vec{r})^{*}$$\n",
    "\n",
    "- This is simply:\n",
    "\n",
    "$$N =  \\sum_{\\nu}^{K} \\sum_{\\mu}^{K} P_{\\mu \\nu} S_{\\nu \\mu}= \\sum_{\\mu}^{K} PS_{\\mu \\mu} = \\mathcal{Tr}(PS)$$"
   ]
  },
  {
   "cell_type": "markdown",
   "metadata": {},
   "source": [
    "- One can interpret $ PS_{\\mu \\mu}$ in the above equation as the number of electrons associated with $ \\phi_{\\mu}$\n",
    "- This is a **Mulliken population analysis**"
   ]
  },
  {
   "cell_type": "markdown",
   "metadata": {},
   "source": [
    "## Orbital Localization"
   ]
  },
  {
   "cell_type": "markdown",
   "metadata": {},
   "source": [
    "- When we perform a SCF calculation, one gets an optimized C matrix\n",
    "    - $C$ is a $K \\times K$ matrix of expansion coefficients $C_{\\mu i}$\n",
    "    - The columns of $C$ describe the molecular orbitals!\n",
    "    - MO i: $ \\psi_{i} =  \\sum_{\\mu=1}^{K} C_{\\mu i} \\phi_{\\mu}$\n",
    "    \n",
    "    \n",
    "- These molecular orbitals are usually **delocalized**\n",
    "    - non-negligible amplitude over the whole system, rather than only around some atom(s) or bond(s)\n",
    "\n",
    "- But we know in QM that a given basis choice is NOT unique\n",
    "\n",
    "\n",
    "- We can therefore perform a unitary rotation on molecular orbitals\n",
    "\n",
    "$$ \\psi_{i} U_{rot} =  \\Big( \\sum_{\\mu=1}^{K} C_{\\mu i} \\phi_{\\mu} \\Big) U_{rot} = \\psi_{i}^{new}$$\n",
    "    \n",
    "    \n",
    "The idea is to use a rotation such that the resulting orbitals $\\psi_{i}^{new}$ are as spatially localized as possible. \n",
    "\n",
    "\n",
    "The Pipek-Mezey (PM) [localization](https://notendur.hi.is/hj/papers/paperPipekmezey8.pdf) **maximizes the population charges on the atoms**:\n",
    "\n",
    "$$ f (U_{rot}) = \\sum_{A}^{N_{atoms}} \\Bigg( Z_{A} -  \\sum_{\\mu \\text{ on atom } A} PS_{\\mu \\mu} \\Bigg)$$"
   ]
  },
  {
   "cell_type": "markdown",
   "metadata": {},
   "source": [
    "### Method 1 - Population-based methods\n",
    "- Given optimized $C$ coefficient matrix\n",
    "    - which has been rotated to localize orbitals\n",
    "    - (used to build localized density matrix)\n",
    "\n",
    "\n",
    "- **Look through basis functions $\\phi_{\\mu}$ of the ACTIVE atoms**\n",
    "\n",
    "    \n",
    "- check the mulliken charge // mulliken population of the orbital\n",
    "    - if above a certain threshold associate it to active system\n",
    "    - otherwise put in the environment\n",
    " \n",
    "\n",
    "\n",
    "To choose the active and enviroment subsystems we do the following:\n",
    "\n",
    "1. Given a localized molecular orbs (localized C matrix), we take the absolute mag squared of the coefficients of the active part for a given localized orb and divide by the absolute mag squared of all the coefficents of a that orb... THis will give a value of how much the active system contributes to that orb.\n",
    "\n",
    "2. Mathematically, for orbital $j$ \n",
    "    - remember MO orbs given by columns of C matrix\n",
    "    - In equation below C matrix is the LOCALIZED form!\n",
    "\n",
    "\n",
    "$$ \\text{threshold} =  \\frac{\\sum_{\\mu\\in \\text{active AO}}^{K} |C_{\\mu j}|^{2}}{\\sum_{\\mu =1}^{K} |C_{\\mu j}|^{2}}$$"
   ]
  },
  {
   "cell_type": "markdown",
   "metadata": {},
   "source": [
    "### METHOD 2 - SPADE\n",
    "\n",
    "    "
   ]
  },
  {
   "cell_type": "markdown",
   "metadata": {},
   "source": [
    "Subsytem Projected Atomic orbital DEcomposition (SPADE) begins by orthogonalising the occupied MOs\n",
    "\n",
    "$$ \\bar{C}_{occ} = S^{-1/2}C_{occ}$$\n",
    "\n",
    "We project these onto the active atomic orbitals (erasing the contribution from the environment AOs to the MO matrix).\n",
    "\n",
    "$$ \\bar{C}_{occ}^A = P_A\\bar{C}_{occ}$$\n",
    "\n",
    "A singlular value decomposition of these is then taken\n",
    "\n",
    "$$ \\bar{C}_{occ}^A = U \\Sigma V^{T}$$\n",
    "\n",
    "The singular values $\\{\\sigma\\}$ given as the diagonal elements of $\\Sigma$, are then used to define the subsytem decomposition by locating the maximum change in singluar value\n",
    "\n",
    "$$ m = max_{i} \\bigg(\\sigma_{i} - \\sigma_{i+1} \\bigg)$$\n",
    "\n",
    "The occupied MOs are then rotated into the SPADE basis using the right singular vectors of the SVD\n",
    "\n",
    "$$ \\bar{C}_{occ}^{SPADE} = \\bar{C}_{occ} V_{m}$$\n",
    "\n",
    "The SPADE basis is then used to define the active and environment subsystems, taking the first m orbitals as the active subsystem and the remaining as the environment."
   ]
  },
  {
   "cell_type": "markdown",
   "metadata": {},
   "source": [
    "Let's start by building a molucule and SCF object."
   ]
  },
  {
   "cell_type": "code",
   "execution_count": 2,
   "metadata": {},
   "outputs": [
    {
     "name": "stdout",
     "output_type": "stream",
     "text": [
      "/Users/michaelwilliamsdelabastida/Code/Nbed/docs/source/notebooks/molecular_structures/formamide.xyz\n"
     ]
    }
   ],
   "source": [
    "from pathlib import Path\n",
    "\n",
    "water_filepath = Path(\"molecular_structures/formamide.xyz\").absolute()\n",
    "print(water_filepath)\n",
    "\n",
    "basis = \"STO-3G\"\n",
    "charge = 0\n",
    "xc_functional = \"b3lyp\"\n",
    "convergence = 1e-6\n",
    "max_ram_memory = 4_000\n",
    "n_active_atoms = 2\n",
    "occ_cutoff = 0.95\n",
    "virt_cutoff = 0.95\n",
    "run_virtual_localization = False"
   ]
  },
  {
   "cell_type": "code",
   "execution_count": 3,
   "metadata": {},
   "outputs": [
    {
     "name": "stderr",
     "output_type": "stream",
     "text": [
      "/Users/michaelwilliamsdelabastida/Code/Nbed/.venv/lib/python3.13/site-packages/pyscf/dft/libxc.py:512: UserWarning: Since PySCF-2.3, B3LYP (and B3P86) are changed to the VWN-RPA variant, corresponding to the original definition by Stephens et al. (issue 1480) and the same as the B3LYP functional in Gaussian. To restore the VWN5 definition, you can put the setting \"B3LYP_WITH_VWN5 = True\" in pyscf_conf.py\n",
      "  warnings.warn('Since PySCF-2.3, B3LYP (and B3P86) are changed to the VWN-RPA variant, '\n"
     ]
    },
    {
     "data": {
      "text/plain": [
       "np.float64(-167.59178321957404)"
      ]
     },
     "execution_count": 3,
     "metadata": {},
     "output_type": "execute_result"
    }
   ],
   "source": [
    "from pyscf import gto, scf\n",
    "\n",
    "full_mol = gto.Mole(\n",
    "    atom=str(water_filepath),\n",
    "    basis=basis,\n",
    "    charge=charge,\n",
    ").build()\n",
    "\n",
    "global_ks = scf.RKS(full_mol)\n",
    "global_ks.conv_tol = convergence\n",
    "global_ks.xc = xc_functional\n",
    "global_ks.max_memory = max_ram_memory\n",
    "global_ks.verbose = 1\n",
    "global_ks.kernel()"
   ]
  },
  {
   "cell_type": "code",
   "execution_count": 4,
   "metadata": {},
   "outputs": [],
   "source": [
    "from scipy import linalg\n",
    "import numpy as np\n",
    "\n",
    "# Locate he occupied orbitals\n",
    "occupancy = global_ks.mo_occ\n",
    "n_occupied_orbitals = np.count_nonzero(occupancy)\n",
    "occupied_orbitals = global_ks.mo_coeff[:, :n_occupied_orbitals]\n",
    "\n",
    "# Project onto the active AOs\n",
    "# Do this by erasing rows of the C matrix\n",
    "# that correspond to contributions from the environment\n",
    "# this only works because we have placed our active atoms at the start of the file.\n",
    "n_act_aos = global_ks.mol.aoslice_by_atom()[n_active_atoms - 1][-1]\n",
    "\n",
    "# Orthogonalise the MOs\n",
    "ao_overlap = global_ks.get_ovlp()\n",
    "\n",
    "rotated_orbitals = linalg.fractional_matrix_power(ao_overlap, 0.5) @ occupied_orbitals\n",
    "\n",
    "# Take the SVD of the rotated and projected orbitals\n",
    "_, sigma, right_vectors = linalg.svd(rotated_orbitals[:n_act_aos, :])\n",
    "\n",
    "\n",
    "# Prevents an error with argmax\n",
    "if len(sigma) == 1:\n",
    "    n_act_mos = 1\n",
    "else:\n",
    "    value_diffs = sigma[:-1] - sigma[1:]\n",
    "    n_act_mos = np.argmax(value_diffs) + 1\n",
    "\n",
    "n_env_mos = n_occupied_orbitals - n_act_mos\n",
    "\n",
    "# get active and enviro indices\n",
    "active_mo_inds = np.arange(n_act_mos)\n",
    "enviro_mo_inds = np.arange(n_act_mos, n_act_mos + n_env_mos)\n",
    "\n",
    "# Defining active and environment orbitals and density\n",
    "c_active = occupied_orbitals @ right_vectors.T[:, :n_act_mos]\n",
    "c_enviro = occupied_orbitals @ right_vectors.T[:, n_act_mos:]\n",
    "c_loc_occ = occupied_orbitals @ right_vectors.T"
   ]
  },
  {
   "cell_type": "code",
   "execution_count": 5,
   "metadata": {},
   "outputs": [
    {
     "data": {
      "text/plain": [
       "array([ 9, 10, 11])"
      ]
     },
     "execution_count": 5,
     "metadata": {},
     "output_type": "execute_result"
    }
   ],
   "source": [
    "enviro_mo_inds"
   ]
  },
  {
   "cell_type": "code",
   "execution_count": 6,
   "metadata": {},
   "outputs": [
    {
     "name": "stdout",
     "output_type": "stream",
     "text": [
      "n_act_mos=np.int64(9)\n",
      "n_env_mos=np.int64(3)\n",
      "active_mo_inds=array([0, 1, 2, 3, 4, 5, 6, 7, 8])\n",
      "enviro_mo_inds=array([ 9, 10, 11])\n",
      "c_active.shape=(18, 9)\n",
      "c_enviro.shape=(18, 3)\n"
     ]
    }
   ],
   "source": [
    "print(f\"{n_act_mos=}\")\n",
    "print(f\"{n_env_mos=}\")\n",
    "\n",
    "print(f\"{active_mo_inds=}\")\n",
    "print(f\"{enviro_mo_inds=}\")\n",
    "\n",
    "print(f\"{c_active.shape=}\")\n",
    "print(f\"{c_enviro.shape=}\")"
   ]
  },
  {
   "cell_type": "markdown",
   "metadata": {},
   "source": [
    "# Virtual Orbital Localization\n",
    "\n",
    "We may also wish to localize unoccupied (virtual) orbitals to the active region or environment. The benefit of this is that we can have a smaller Hamiltonian, saving time and memory for classical algorithms or qubit count and circuit depth in the case of quantum algorithms.\n",
    "\n",
    "Below we show two methods for doing this which are available in Nbed:\n",
    "1. Concentric Localization      (\"cl\")\n",
    "2. Projected Atomic Orbitals    (\"pao\")\n",
    "\n",
    "Their usage in `nbed` is very straightforward, simply include the field `virtual_localizer` in your config with your selection. [See the options in nbed's documntation.](https://nbed.readthedocs.io/en/latest/config.html#module-nbed.config)"
   ]
  },
  {
   "cell_type": "markdown",
   "metadata": {},
   "source": [
    "## Concentric Localization\n",
    "\n",
    "[1] D. Claudino and N. J. Mayhall, \"Simple and Efficient Truncation of Virtual Spaces in Embedded Wave Functions via Concentric Localization\", Journal of Chemical Theory and Computation, vol. 15, no. 11, pp. 6085-6096, Nov. 2019, doi: 10.1021/ACS.JCTC.9B00682."
   ]
  },
  {
   "cell_type": "markdown",
   "metadata": {},
   "source": [
    "Concentric localization is an extension of SPADE which allows for virtual orbitals to be localized. \n",
    "\n",
    "This procedure is carried out after projection based embedding is complete, as this allows for selection of virtual orbitals which are most suitable for the embedded system. Virtual orbital selection does not impact the projection based embedding procedure, until the calculation of the embedded energy term.\n",
    "\n",
    "Beginning with the occupied orbitals of the active region, the procedure is carried out iteratively.In the first iteration, the procedure allows for a change of basis from embedding to Concentric Localization. The virtual orbitals which overlap to the greatest extent with the occupied orbitals of the active region are selected. These are then used to define the first shell of the Concentric Localization basis. Further iterations find the overlap of remaining virtual MOs with all previous shells (including occupied MOs), under the action of the fock operator. The virtual MOs which interact with the active region are then used to define the next shell of the Concentric Localization basis.\n",
    "\n",
    "\n",
    "### Theory\n",
    "We begin by projecting the MOs onto the active region.\n",
    "\n",
    "$$ \\bar{C}^A = P_A\\bar{C}$$\n",
    "\n",
    "The first step of the iterative process requires finding the virtual orbitals in the projected basis. Note that these virtual orbitals should not include those which have been projected out of the active space.\n",
    "\n",
    "$$ C^A_{vir} = S^{-1}_A S_{PB,WB} C_{vir} $$\n",
    "\n",
    "Where $S_{PB,WB}$ gives the overlap matrix between the projected basis and the `working basis` (the basis set used in the projection procedure with occupied environment orbitals removed).\n",
    "\n",
    "$$ [S_{PB,WB}]_{i,j} = \\langle a_i | u_j \\rangle \\ \\{a_i \\in C^A, u_j \\in C\\}$$\n",
    "\n",
    "We can then begin to build up a set of localized orbitals iteratively. For the initial step, we find the overlap of the two sets of orbitals and singlular value decompose this.\n",
    "\n",
    "$$ C^A_{vir} S_{PB,WB} C_{vir} = U \\Sigma V^{T}$$\n",
    "\n",
    "By splitting the $V$ matrix into its span and kernel, we can define two sets of orbitals for the $1st$ shell.\n",
    "\n",
    "Let $T: V \\to W$ we a linear transformation, then the image and kernel of $T$ are defined as\n",
    "\n",
    "$$ im\\ T = T(V) = \\{T(v) | v \\in V\\}$$\n",
    "$$ ker\\ T = \\{v \\in V | T(v) = 0\\}$$\n",
    "\n",
    "The span and kernel can be found by taking the singular value decomposition of $T = L\\Sigma R$.\n",
    "\n",
    "$$ C_{span} = \\{r_i \\in R | \\Sigma_i \\neq 0\\}$$\n",
    "$$ C_{ker} = \\{r_i \\in R | \\Sigma_i = 0\\}$$\n",
    "\n",
    "Finally, we can define the two sets of orbitals for the $1st$ shell.\n",
    "\n",
    "$$ C_0 = C_{vir} V_{span}$$\n",
    "$$ C_{0,k} = C_{vir} V_{ker}$$\n",
    "\n",
    "Subesquent iterations are found using the overlap of these two sets of orbitals under the action of the Fock operator $F$.\n",
    "\n",
    "$$ C_n^{\\dagger} F C_{n,k} = U_n \\Sigma_n V_n^{T}$$\n",
    "\n",
    "$$ C_{n+1} = C_{n,k} V_{n,span}$$\n",
    "$$ C_{n+1,k} = C_{n,k} V_{n,ker}$$\n",
    "\n",
    "Note the code associated with the original paper `PsiEmbed` defines the span matrix slighly differently.\n",
    "$$ C_{n+1} = \\{C_0|...|C_{n-1}|C_{n,k} V_{n,span}\\}$$\n",
    "\n",
    "(From experience it seems that this choice ensures all orbitals will be included.)\n",
    "\n",
    "Ultimately, the active space is constructed from the occupied orbitals of the active region and the first $n$ shells.\n",
    "\n",
    "$$ C_{active\\ space} \\to \\{C_{act, occ}|C_0| C_1| \\dots| C_{n}\\}"
   ]
  },
  {
   "cell_type": "markdown",
   "metadata": {},
   "source": [
    ">NOTE\n",
    ">\n",
    ">This section will be added at the end of the driver method. So to work it out we'll run the driver first."
   ]
  },
  {
   "cell_type": "markdown",
   "metadata": {},
   "source": [
    "### Relative accuracy of the embedding energy\n",
    "\n",
    "By using concentric localization, we can reduce the number of virtual molecular orbitals which need to be included in a calculation. \n",
    "\n",
    "To see this, lets compare the embedded energy calculation we get by truncating the virtual spaces we get with and without concentric localization.\n",
    "\n",
    "First we'll get the full system CCSD, including the environment occupied orbitals."
   ]
  },
  {
   "cell_type": "code",
   "execution_count": 7,
   "metadata": {},
   "outputs": [],
   "source": [
    "from nbed import nbed\n",
    "from pyscf.cc import CCSD\n",
    "from pathlib import Path\n",
    "import numpy as np\n",
    "mol_filepath = Path(\"molecular_structures/formamide.xyz\").absolute()\n",
    "    \n",
    "cl_driver = nbed(\n",
    "    geometry=mol_filepath,\n",
    "    n_active_atoms=2,\n",
    "    basis=\"6-31g\",\n",
    "    xc_functional=\"b3lyp\",\n",
    "    projector=\"huzinaga\",\n",
    "    localization=\"spade\",\n",
    "    convergence=1e-6,\n",
    "    charge=0,\n",
    "    spin=0,\n",
    "    mu_level_shift=1e6,\n",
    "    max_shells=10,\n",
    "    run_ccsd_emb = True\n",
    ")\n",
    "\n",
    "\n",
    "global_cc = CCSD(cl_driver._global_hf)\n",
    "global_cc.verbose = 1\n",
    "global_cc.run()\n",
    "global_cc = global_cc.e_tot"
   ]
  },
  {
   "cell_type": "markdown",
   "metadata": {},
   "source": [
    "Now let's get the embedded CCSD-in-DFT energy, varying the size of the virtual space."
   ]
  },
  {
   "cell_type": "code",
   "execution_count": 8,
   "metadata": {},
   "outputs": [],
   "source": [
    "from nbed import nbed\n",
    "from pyscf.cc import CCSD\n",
    "from pathlib import Path\n",
    "import numpy as np\n",
    "\n",
    "def get_partial_cc_errors(virtual_localization: str):\n",
    "    mol_filepath = Path(\"molecular_structures/formamide.xyz\").absolute()\n",
    "\n",
    "    driver = nbed(\n",
    "        geometry=mol_filepath,\n",
    "        n_active_atoms=2,\n",
    "        basis=\"6-31g\",\n",
    "        xc_functional=\"b3lyp\",\n",
    "        projector=\"huzinaga\",\n",
    "        localization=\"spade\",\n",
    "        virtual_localization=virtual_localization,\n",
    "        convergence=1e-6,\n",
    "        charge=0,\n",
    "        spin=0,\n",
    "        mu_level_shift=1e6,\n",
    "        max_shells=10,\n",
    "        run_ccsd_emb = True\n",
    "    )\n",
    "\n",
    "    def embedding_correction(val, driver):\n",
    "        return val + driver.e_env + driver.two_e_cross - driver.huzinaga[\"correction\"] - driver.huzinaga[\"beta_correction\"]\n",
    "\n",
    "    full_cc = driver.huzinaga[\"e_ccsd\"]\n",
    "\n",
    "    partial_scf = driver.embedded_scf.copy()\n",
    "    energies = []\n",
    "    mos = [i for i in range(5, 34)]\n",
    "    mos = mos[::-1]\n",
    "    for i in mos:\n",
    "        partial_scf.mo_coeff = partial_scf.mo_coeff[:,:, :i]\n",
    "        partial_scf.mo_occ = partial_scf.mo_occ[:,:i]\n",
    "\n",
    "        e_ccsd = CCSD(partial_scf)\n",
    "        e_ccsd.verbose = 1\n",
    "        e_ccsd.run()\n",
    "        driver_ccsd = e_ccsd.e_tot\n",
    "        driver_ccsd = embedding_correction(driver_ccsd, driver)\n",
    "        energies.append(driver_ccsd - full_cc)\n",
    "    return full_cc, energies"
   ]
  },
  {
   "cell_type": "markdown",
   "metadata": {},
   "source": [
    "The default is for nbed to use Concentric Localization, as this retains the whole virtual space, but we can disable virtual localization with a flag."
   ]
  },
  {
   "cell_type": "code",
   "execution_count": 9,
   "metadata": {},
   "outputs": [],
   "source": [
    "unlocalized = get_partial_cc_errors(virtual_localization=\"disable\")\n",
    "localized = get_partial_cc_errors(virtual_localization=\"cl\")"
   ]
  },
  {
   "cell_type": "markdown",
   "metadata": {},
   "source": [
    "We can see that the total energy between methods is very similar so our CL procedure does not introduce energy errors."
   ]
  },
  {
   "cell_type": "code",
   "execution_count": 10,
   "metadata": {},
   "outputs": [
    {
     "name": "stdout",
     "output_type": "stream",
     "text": [
      "Unlocalized CCSD: -169.48050963491698\n",
      "Diff of complete virtual space energies: -2.7119256174046313e-08\n"
     ]
    }
   ],
   "source": [
    "print(\"Unlocalized CCSD:\", unlocalized[0])\n",
    "print(\"Diff of complete virtual space energies:\", unlocalized[0] - localized[0])"
   ]
  },
  {
   "cell_type": "markdown",
   "metadata": {},
   "source": [
    "There is naturally a difference between using global coupled cluster and cc-in-dft embedding.\n",
    "\n",
    "This arises out of using DFT for the environment occupied orbitals in our \"embedded\" calculations, and CCSD for them in our \"global ccsd\" calculation."
   ]
  },
  {
   "cell_type": "code",
   "execution_count": 11,
   "metadata": {},
   "outputs": [
    {
     "data": {
      "text/plain": [
       "np.float64(0.28791998641287364)"
      ]
     },
     "execution_count": 11,
     "metadata": {},
     "output_type": "execute_result"
    }
   ],
   "source": [
    "global_cc - unlocalized[0]"
   ]
  },
  {
   "cell_type": "markdown",
   "metadata": {},
   "source": [
    "It is important to remember what we are comparing, we're interested in reducing the number of molecular orbitals needed to accurately find the energy of the **embedded region**."
   ]
  },
  {
   "cell_type": "code",
   "execution_count": 12,
   "metadata": {},
   "outputs": [
    {
     "data": {
      "text/plain": [
       "<matplotlib.legend.Legend at 0x143242120>"
      ]
     },
     "execution_count": 12,
     "metadata": {},
     "output_type": "execute_result"
    },
    {
     "data": {
      "image/png": "[encoded data removed]",
      "text/plain": [
       "<Figure size 640x480 with 1 Axes>"
      ]
     },
     "metadata": {},
     "output_type": "display_data"
    }
   ],
   "source": [
    "from matplotlib import pyplot as plt\n",
    "\n",
    "plt.semilogy(np.arange(5, 33), np.abs(localized[1][::-1][:-1]))\n",
    "plt.semilogy(np.arange(5, 33), np.abs(unlocalized[1][::-1][:-1]))\n",
    "plt.vlines(cl_driver.huzinaga[\"cl\"].shells[0], ymin=1e-5, ymax=1e-1, color=\"k\", linestyle=\"--\")\n",
    "plt.hlines(1.5e-3, xmin=5, xmax=33, color=\"red\", linestyle=\"--\", linewidth=0.5)\n",
    "\n",
    "plt.title(\"Formamide (C=O act) 6-31G\")\n",
    "plt.ylabel(\"CCSD Energy Error (Hartree)\")\n",
    "plt.xlabel(\"Number of MOs\")\n",
    "plt.legend([\"Concentric Localization\", \"Raw MOs\", \"CL Shell\", \"1.6mHa\"])"
   ]
  },
  {
   "cell_type": "markdown",
   "metadata": {},
   "source": [
    "Great! Concentric localization has reduced the number of virtual MOs we need to include to reach chemical accuracy (of the embedded calculation!)"
   ]
  },
  {
   "cell_type": "markdown",
   "metadata": {},
   "source": [
    "## Projected Atomic Orbitals\n",
    "\n",
    "[2] Szirmai, Ádám B., et al. \"Projected atomic orbitals as optimal virtual space for excited state projection-based embedding calculations.\" Journal of Chemical Theory and Computation 20.9 (2024): 3420-3425.\n"
   ]
  },
  {
   "cell_type": "markdown",
   "metadata": {},
   "source": [
    "\n",
    "\n",
    "Whereas Concentric Localization gives a procedure to iteratively localize the entire virtual space after the embedding procedure is complete, the Projected Atomic Orbitals method is used to define the contribution of virtual orbitals to the projector used in embedding.\n",
    "\n",
    "### Defining the Environment Projector\n",
    "\n",
    "Define the projector of the occupied orbitals\n",
    "\n",
    "$$R = C_{occ}C^{T}_{occ}$$\n",
    "\n",
    "From which we get the Projected Atomic Orbital C-matrix\n",
    "\n",
    "$$C_{PAO} = \\mathbb{1} - RS$$\n",
    "\n",
    "(Where S is the AO overlap matrix)\n",
    "\n",
    "We project these orbitals into the basis of the active subsystem\n",
    "\n",
    "$$ {C}_{pao}^A = P_A{C}_{pao}$$\n",
    "\n",
    "We can then truncate the size of the virtual space by setting a cutoff $\\nu$ in the norm of the overlap between \n",
    "\n",
    "$$ N_i = \\sum_{\\mu}^{act AOs} (C^A_{PAO})_{i\\mu}  (SC^A_{PAO})_{i\\mu}$$\n",
    "\n",
    "The remaining orbitals are renormalized forming ${C'}_{PAO}$\n",
    "\n",
    "Finally, a second trunction step is used. By first diagonalising the overlap matrix \n",
    "\n",
    "$$S_{PAO} = ({C'}_{PAO})^{T}S {C'}_{PAO}$$\n",
    "\n",
    "we restrict to only the orbitals with an eigenvalue $|S_{PAO}|$ above some parameter $\\sigma$. This prevents linear dependence between the orbitals.\n",
    "\n",
    "Finally we have the reduced form of the Projected Atomic Orbitals\n",
    "$$\\bar{C}_{PAO} = \\set{C_{PAO} s.t. |S_{PAO}>\\sigma}$$\n",
    "\n",
    "### Cutoffs\n",
    "\n",
    "In the supplementary material to the paper above, they suggest using \n",
    "\n",
    "- Norm Cutoff $\\nu$: 0.05\n",
    "- Overlap Cutoff $\\sigma$: 1e-5\n",
    "\n",
    "so these are the default values nbed uses.\n",
    "\n",
    "\n",
    "### Updating the Huzinaga Projector\n",
    "\n",
    "The standard Huzinaga operator is given by $$P_{HUZ} = -(FP_{occ}S + SP_{occ}F)$$\n",
    "\n",
    "where $S$ is the atomic orbital overlap matrix, $F$ is the Fock matrix and $P_{occ}$ is the projector onto occupied environment orbitals.\n",
    "\n",
    "We update this with a projector $P_{virt}=\\mathbb{1} - C_{occ}C_{occ}^{T} - \\bar{C}_{PAO}\\bar{C}_{PAO}^T$\n",
    "\n",
    "$$P_{HUZ}=-(FP_{occ}S + SP_{occ}F) -(FP_{virt}S + SP_{virt}F) + 2SP_{virt}FP_{virt}S $$\n"
   ]
  },
  {
   "cell_type": "markdown",
   "metadata": {},
   "source": [
    "Let's try running the same embedding as above but with PAOs."
   ]
  },
  {
   "cell_type": "code",
   "execution_count": 15,
   "metadata": {},
   "outputs": [
    {
     "ename": "ValueError",
     "evalue": "all input arrays must have the same shape",
     "output_type": "error",
     "traceback": [
      "\u001b[31m---------------------------------------------------------------------------\u001b[39m",
      "\u001b[31mValueError\u001b[39m                                Traceback (most recent call last)",
      "\u001b[36mCell\u001b[39m\u001b[36m \u001b[39m\u001b[32mIn[15]\u001b[39m\u001b[32m, line 3\u001b[39m\n\u001b[32m      1\u001b[39m mol_filepath = Path(\u001b[33m\"\u001b[39m\u001b[33mmolecular_structures/formamide.xyz\u001b[39m\u001b[33m\"\u001b[39m).absolute()\n\u001b[32m----> \u001b[39m\u001b[32m3\u001b[39m pao_driver = \u001b[43mnbed\u001b[49m\u001b[43m(\u001b[49m\n\u001b[32m      4\u001b[39m \u001b[43m    \u001b[49m\u001b[43mgeometry\u001b[49m\u001b[43m=\u001b[49m\u001b[43mmol_filepath\u001b[49m\u001b[43m,\u001b[49m\n\u001b[32m      5\u001b[39m \u001b[43m    \u001b[49m\u001b[43mn_active_atoms\u001b[49m\u001b[43m=\u001b[49m\u001b[32;43m2\u001b[39;49m\u001b[43m,\u001b[49m\n\u001b[32m      6\u001b[39m \u001b[43m    \u001b[49m\u001b[43mbasis\u001b[49m\u001b[43m=\u001b[49m\u001b[33;43m\"\u001b[39;49m\u001b[33;43m6-31g\u001b[39;49m\u001b[33;43m\"\u001b[39;49m\u001b[43m,\u001b[49m\n\u001b[32m      7\u001b[39m \u001b[43m    \u001b[49m\u001b[43mxc_functional\u001b[49m\u001b[43m=\u001b[49m\u001b[33;43m\"\u001b[39;49m\u001b[33;43mb3lyp\u001b[39;49m\u001b[33;43m\"\u001b[39;49m\u001b[43m,\u001b[49m\n\u001b[32m      8\u001b[39m \u001b[43m    \u001b[49m\u001b[43mprojector\u001b[49m\u001b[43m=\u001b[49m\u001b[33;43m\"\u001b[39;49m\u001b[33;43mhuzinaga\u001b[39;49m\u001b[33;43m\"\u001b[39;49m\u001b[43m,\u001b[49m\n\u001b[32m      9\u001b[39m \u001b[43m    \u001b[49m\u001b[43mlocalization\u001b[49m\u001b[43m=\u001b[49m\u001b[33;43m\"\u001b[39;49m\u001b[33;43mspade\u001b[39;49m\u001b[33;43m\"\u001b[39;49m\u001b[43m,\u001b[49m\n\u001b[32m     10\u001b[39m \u001b[43m    \u001b[49m\u001b[43mvirtual_localization\u001b[49m\u001b[43m=\u001b[49m\u001b[33;43m\"\u001b[39;49m\u001b[33;43mpao\u001b[39;49m\u001b[33;43m\"\u001b[39;49m\u001b[43m,\u001b[49m\n\u001b[32m     11\u001b[39m \u001b[43m    \u001b[49m\u001b[43mconvergence\u001b[49m\u001b[43m=\u001b[49m\u001b[32;43m1e-6\u001b[39;49m\u001b[43m,\u001b[49m\n\u001b[32m     12\u001b[39m \u001b[43m    \u001b[49m\u001b[43mcharge\u001b[49m\u001b[43m=\u001b[49m\u001b[32;43m0\u001b[39;49m\u001b[43m,\u001b[49m\n\u001b[32m     13\u001b[39m \u001b[43m    \u001b[49m\u001b[43mspin\u001b[49m\u001b[43m=\u001b[49m\u001b[32;43m0\u001b[39;49m\u001b[43m,\u001b[49m\n\u001b[32m     14\u001b[39m \u001b[43m    \u001b[49m\u001b[43mmu_level_shift\u001b[49m\u001b[43m=\u001b[49m\u001b[32;43m1e6\u001b[39;49m\u001b[43m,\u001b[49m\n\u001b[32m     15\u001b[39m \u001b[43m    \u001b[49m\u001b[43mrun_ccsd_emb\u001b[49m\u001b[43m \u001b[49m\u001b[43m=\u001b[49m\u001b[43m \u001b[49m\u001b[38;5;28;43;01mTrue\u001b[39;49;00m\u001b[43m,\u001b[49m\n\u001b[32m     16\u001b[39m \u001b[43m    \u001b[49m\u001b[43mnorm_cutoff\u001b[49m\u001b[43m=\u001b[49m\u001b[32;43m0.05\u001b[39;49m\u001b[43m,\u001b[49m\n\u001b[32m     17\u001b[39m \u001b[43m    \u001b[49m\u001b[43moverlap_cutoff\u001b[49m\u001b[43m=\u001b[49m\u001b[32;43m1e-5\u001b[39;49m\u001b[43m,\u001b[49m\n\u001b[32m     18\u001b[39m \u001b[43m)\u001b[49m\n\u001b[32m     19\u001b[39m \u001b[38;5;28mprint\u001b[39m(\u001b[33m\"\u001b[39m\u001b[33mNumber of Molecular Orbitals:\u001b[39m\u001b[33m\"\u001b[39m, pao_driver.huzinaga[\u001b[33m\"\u001b[39m\u001b[33mscf\u001b[39m\u001b[33m\"\u001b[39m].mo_coeff.shape[-\u001b[32m1\u001b[39m]+\u001b[32m1\u001b[39m) \u001b[38;5;66;03m#zero-indexing!\u001b[39;00m\n\u001b[32m     20\u001b[39m \u001b[38;5;28mprint\u001b[39m(\u001b[33m\"\u001b[39m\u001b[33mEmbedded CCSD Energy:\u001b[39m\u001b[33m\"\u001b[39m, pao_driver.huzinaga[\u001b[33m\"\u001b[39m\u001b[33me_ccsd\u001b[39m\u001b[33m\"\u001b[39m])\n",
      "\u001b[36mFile \u001b[39m\u001b[32m~/Code/Nbed/.venv/lib/python3.13/site-packages/nbed/embed.py:79\u001b[39m, in \u001b[36mnbed\u001b[39m\u001b[34m(config, **config_kwargs)\u001b[39m\n\u001b[32m     76\u001b[39m         config = NbedConfig(**config_kwargs)\n\u001b[32m     78\u001b[39m driver = NbedDriver(config)\n\u001b[32m---> \u001b[39m\u001b[32m79\u001b[39m \u001b[43mdriver\u001b[49m\u001b[43m.\u001b[49m\u001b[43membed\u001b[49m\u001b[43m(\u001b[49m\u001b[43m)\u001b[49m\n\u001b[32m     80\u001b[39m \u001b[38;5;28;01mreturn\u001b[39;00m driver\n",
      "\u001b[36mFile \u001b[39m\u001b[32m~/Code/Nbed/.venv/lib/python3.13/site-packages/nbed/driver.py:871\u001b[39m, in \u001b[36mNbedDriver.embed\u001b[39m\u001b[34m(self, init_huzinaga_rhf_with_mu, n_mo_overwrite)\u001b[39m\n\u001b[32m    866\u001b[39m         \u001b[38;5;28mself\u001b[39m.localized_system.c_loc_virt = pao_mo_coeff\n\u001b[32m    868\u001b[39m     dmat_initial_guess: Optional[\u001b[38;5;28mtuple\u001b[39m[NDArray]] = (\n\u001b[32m    869\u001b[39m         \u001b[38;5;28mself\u001b[39m.mu[\u001b[33m\"\u001b[39m\u001b[33mscf\u001b[39m\u001b[33m\"\u001b[39m].make_rdm1() \u001b[38;5;28;01mif\u001b[39;00m init_huzinaga_rhf_with_mu \u001b[38;5;28;01melse\u001b[39;00m \u001b[38;5;28;01mNone\u001b[39;00m\n\u001b[32m    870\u001b[39m     )\n\u001b[32m--> \u001b[39m\u001b[32m871\u001b[39m     embedded_scf, v_emb = \u001b[38;5;28;43mself\u001b[39;49m\u001b[43m.\u001b[49m\u001b[43m_huzinaga_embed\u001b[49m\u001b[43m(\u001b[49m\n\u001b[32m    872\u001b[39m \u001b[43m        \u001b[49m\u001b[43mlocal_hf\u001b[49m\u001b[43m,\u001b[49m\u001b[43m \u001b[49m\u001b[43membedding_potential\u001b[49m\u001b[43m,\u001b[49m\u001b[43m \u001b[49m\u001b[38;5;28;43mself\u001b[39;49m\u001b[43m.\u001b[49m\u001b[43mlocalized_system\u001b[49m\u001b[43m,\u001b[49m\u001b[43m \u001b[49m\u001b[43mdmat_initial_guess\u001b[49m\n\u001b[32m    873\u001b[39m \u001b[43m    \u001b[49m\u001b[43m)\u001b[49m\n\u001b[32m    874\u001b[39m     \u001b[38;5;28mself\u001b[39m.huzinaga = \u001b[38;5;28mself\u001b[39m.post_embed(embedded_scf, v_emb, ProjectorTypes.HUZ)\n\u001b[32m    876\u001b[39m \u001b[38;5;28;01mmatch\u001b[39;00m \u001b[38;5;28mself\u001b[39m.config.projector:\n",
      "\u001b[36mFile \u001b[39m\u001b[32m~/Code/Nbed/.venv/lib/python3.13/site-packages/nbed/driver.py:604\u001b[39m, in \u001b[36mNbedDriver._huzinaga_embed\u001b[39m\u001b[34m(self, active_scf, embedding_potential, localized_system, dmat_initial_guess)\u001b[39m\n\u001b[32m    602\u001b[39m \u001b[38;5;28;01mif\u001b[39;00m localized_system.c_loc_virt \u001b[38;5;129;01mis\u001b[39;00m \u001b[38;5;129;01mnot\u001b[39;00m \u001b[38;5;28;01mNone\u001b[39;00m:\n\u001b[32m    603\u001b[39m     logger.debug(\u001b[33m\"\u001b[39m\u001b[33mOverwriting embedded virtuals with result from localizer.\u001b[39m\u001b[33m\"\u001b[39m)\n\u001b[32m--> \u001b[39m\u001b[32m604\u001b[39m     active_scf.mo_coeff = \u001b[43mnp\u001b[49m\u001b[43m.\u001b[49m\u001b[43mstack\u001b[49m\u001b[43m(\u001b[49m\u001b[43m(\u001b[49m\u001b[43mc_active_embedded\u001b[49m\u001b[43m[\u001b[49m\u001b[43m.\u001b[49m\u001b[43m.\u001b[49m\u001b[43m.\u001b[49m\u001b[43m,\u001b[49m\u001b[43m \u001b[49m\u001b[43mnp\u001b[49m\u001b[43m.\u001b[49m\u001b[43msum\u001b[49m\u001b[43m(\u001b[49m\u001b[43mactive_scf\u001b[49m\u001b[43m.\u001b[49m\u001b[43mmo_occ\u001b[49m\u001b[43m,\u001b[49m\u001b[43m \u001b[49m\u001b[43maxis\u001b[49m\u001b[43m=\u001b[49m\u001b[32;43m0\u001b[39;49m\u001b[43m)\u001b[49m\u001b[43m \u001b[49m\u001b[43m>\u001b[49m\u001b[32;43m0\u001b[39;49m\u001b[43m]\u001b[49m\u001b[43m,\u001b[49m\u001b[43m \u001b[49m\u001b[43mlocalized_system\u001b[49m\u001b[43m.\u001b[49m\u001b[43mc_loc_virt\u001b[49m\u001b[43m)\u001b[49m\u001b[43m,\u001b[49m\u001b[43m \u001b[49m\u001b[43maxis\u001b[49m\u001b[43m=\u001b[49m\u001b[32;43m1\u001b[39;49m\u001b[43m)\u001b[49m\n\u001b[32m    605\u001b[39m     active_scf.mo_occ = active_scf[:active_scf.mo_coeff.shape[-\u001b[32m1\u001b[39m]]\n\u001b[32m    606\u001b[39m \u001b[38;5;28;01melse\u001b[39;00m:\n",
      "\u001b[36mFile \u001b[39m\u001b[32m~/Code/Nbed/.venv/lib/python3.13/site-packages/numpy/_core/shape_base.py:460\u001b[39m, in \u001b[36mstack\u001b[39m\u001b[34m(arrays, axis, out, dtype, casting)\u001b[39m\n\u001b[32m    458\u001b[39m shapes = {arr.shape \u001b[38;5;28;01mfor\u001b[39;00m arr \u001b[38;5;129;01min\u001b[39;00m arrays}\n\u001b[32m    459\u001b[39m \u001b[38;5;28;01mif\u001b[39;00m \u001b[38;5;28mlen\u001b[39m(shapes) != \u001b[32m1\u001b[39m:\n\u001b[32m--> \u001b[39m\u001b[32m460\u001b[39m     \u001b[38;5;28;01mraise\u001b[39;00m \u001b[38;5;167;01mValueError\u001b[39;00m(\u001b[33m'\u001b[39m\u001b[33mall input arrays must have the same shape\u001b[39m\u001b[33m'\u001b[39m)\n\u001b[32m    462\u001b[39m result_ndim = arrays[\u001b[32m0\u001b[39m].ndim + \u001b[32m1\u001b[39m\n\u001b[32m    463\u001b[39m axis = normalize_axis_index(axis, result_ndim)\n",
      "\u001b[31mValueError\u001b[39m: all input arrays must have the same shape"
     ]
    }
   ],
   "source": [
    "mol_filepath = Path(\"molecular_structures/formamide.xyz\").absolute()\n",
    "\n",
    "pao_driver = nbed(\n",
    "    geometry=mol_filepath,\n",
    "    n_active_atoms=2,\n",
    "    basis=\"6-31g\",\n",
    "    xc_functional=\"b3lyp\",\n",
    "    projector=\"huzinaga\",\n",
    "    localization=\"spade\",\n",
    "    virtual_localization=\"pao\",\n",
    "    convergence=1e-6,\n",
    "    charge=0,\n",
    "    spin=0,\n",
    "    mu_level_shift=1e6,\n",
    "    run_ccsd_emb = True,\n",
    "    norm_cutoff=0.05,\n",
    "    overlap_cutoff=1e-5,\n",
    ")\n",
    "print(\"Number of Molecular Orbitals:\", pao_driver.huzinaga[\"scf\"].mo_coeff.shape[-1]+1) #zero-indexing!\n",
    "print(\"Embedded CCSD Energy:\", pao_driver.huzinaga[\"e_ccsd\"])\n",
    "print(\"Error from complete virtual space:\", pao_driver.huzinaga[\"e_ccsd\"] - unlocalized[0])"
   ]
  },
  {
   "cell_type": "markdown",
   "metadata": {},
   "source": [
    "Let's see how the value from PAO compares to the results from Concentric Localization we looked at above."
   ]
  },
  {
   "cell_type": "code",
   "execution_count": null,
   "metadata": {},
   "outputs": [],
   "source": [
    "occ = np.array([[1,1,1,0],[1,1,0,0]])"
   ]
  },
  {
   "cell_type": "code",
   "execution_count": null,
   "metadata": {},
   "outputs": [
    {
     "data": {
      "text/plain": [
       "array([2, 2, 1, 0])"
      ]
     },
     "execution_count": 19,
     "metadata": {},
     "output_type": "execute_result"
    }
   ],
   "source": [
    "occ[..., ]"
   ]
  },
  {
   "cell_type": "code",
   "execution_count": null,
   "metadata": {},
   "outputs": [
    {
     "data": {
      "text/plain": [
       "[np.float64(-0.05714892798360438)]"
      ]
     },
     "execution_count": 15,
     "metadata": {},
     "output_type": "execute_result"
    }
   ],
   "source": [
    "[pao_driver.huzinaga[\"e_ccsd\"]-unlocalized[0]]"
   ]
  },
  {
   "cell_type": "code",
   "execution_count": null,
   "metadata": {},
   "outputs": [
    {
     "data": {
      "text/plain": [
       "<matplotlib.legend.Legend at 0x144e7aad0>"
      ]
     },
     "execution_count": 16,
     "metadata": {},
     "output_type": "execute_result"
    },
    {
     "data": {
      "image/png": "[encoded data removed]",
      "text/plain": [
       "<Figure size 640x480 with 1 Axes>"
      ]
     },
     "metadata": {},
     "output_type": "display_data"
    }
   ],
   "source": [
    "from matplotlib import pyplot as plt\n",
    "\n",
    "plt.scatter(x=[pao_driver.huzinaga[\"scf\"].mo_coeff.shape[-1]], y=[np.abs(pao_driver.huzinaga[\"e_ccsd\"]-unlocalized[0])], marker=\"x\", color=\"tab:red\")\n",
    "plt.semilogy(np.arange(5, 33), np.abs(localized[1][::-1][:-1]))\n",
    "plt.semilogy(np.arange(5, 33), np.abs(unlocalized[1][::-1][:-1]))\n",
    "plt.vlines(cl_driver.huzinaga[\"cl\"].shells[0], ymin=1e-5, ymax=1e-1, color=\"k\", linestyle=\"--\")\n",
    "plt.hlines(1.5e-3, xmin=5, xmax=33, color=\"red\", linestyle=\"--\", linewidth=0.5)\n",
    "\n",
    "plt.title(\"Formamide (C=O act) 6-31G\")\n",
    "plt.ylabel(\"CCSD Energy Error (Hartree)\")\n",
    "plt.xlabel(\"Number of MOs Included\")\n",
    "plt.legend([\"Concentric Localization\", \"Raw MOs\", \"CL Shell\", \"1.6mHa\", \"PAO\"])"
   ]
  },
  {
   "cell_type": "code",
   "execution_count": null,
   "metadata": {},
   "outputs": [],
   "source": []
  }
 ],
 "metadata": {
  "kernelspec": {
   "display_name": "nbed",
   "language": "python",
   "name": "python3"
  },
  "language_info": {
   "codemirror_mode": {
    "name": "ipython",
    "version": 3
   },
   "file_extension": ".py",
   "mimetype": "text/x-python",
   "name": "python",
   "nbconvert_exporter": "python",
   "pygments_lexer": "ipython3",
   "version": "3.13.1"
  }
 },
 "nbformat": 4,
 "nbformat_minor": 4
}
