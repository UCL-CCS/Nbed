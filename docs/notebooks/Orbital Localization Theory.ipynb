{
 "cells": [
  {
   "cell_type": "markdown",
   "metadata": {},
   "source": [
    "# Orbital Localization Theory\n",
    "\n",
    "This notebook takes you through the methods implemented in nbed for orbital localization.\n",
    "- SPADE\n",
    "- Concentric Localization"
   ]
  },
  {
   "cell_type": "code",
   "execution_count": 1,
   "metadata": {},
   "outputs": [],
   "source": [
    "import numpy as np\n",
    "import os"
   ]
  },
  {
   "cell_type": "markdown",
   "metadata": {},
   "source": [
    "## Background\n",
    "\n",
    "The overlap matrix is:\n",
    "\n",
    "$$S_{\\mu \\nu} =  \\int d\\vec{r}_{1} \\phi_{\\mu}(1)^{*}\\phi_{\\nu}(1)$$\n",
    "\n",
    "- $\\phi_{\\mu}$ are basis functions (defined in basis set)\n",
    "\n",
    "\n",
    "The unknown molecular orbitals $\\psi_{i}$ are expanded as a linear expansion of the $K$ known basis functions $\\{ \\phi_{i} | i=1,2,..., K \\}$:\n",
    "\n",
    "$$ \\psi_{i} =  \\sum_{\\mu=1}^{K} C_{\\mu i} \\phi_{\\mu}$$\n",
    "\n",
    "\n",
    "$C$ is a $K \\times K$ matrix of expansion coefficients $C_{\\mu i}$. The columns of $C$ describe the molecular orbitals!\n",
    "\n",
    "\n",
    "We can find the total number of electrons $N$ in the system by:\n",
    "\n",
    "$$ N =  2 \\sum_{a}^{N/2}\\int d\\vec{r}  \\bigg( \\psi_{a}(\\vec{r})^{*} \\psi_{i}(\\vec{r}) \\bigg) =  2 \\sum_{a}^{N/2} 1$$\n",
    "\n",
    "- integral gives probablity of finding electron $a$ over all space (must be 1)\n",
    "- summing over all electrons will give the total number of electrons"
   ]
  },
  {
   "cell_type": "markdown",
   "metadata": {},
   "source": [
    "The charge density has the following definition:\n",
    "\n",
    "$$\\rho(\\vec{r}) = 2 \\sum_{a}^{N/2} \\bigg( \\psi_{a}(\\vec{r})^{*} \\psi_{i}(\\vec{r}) \\bigg)$$\n",
    "\n",
    "- re-write using definition of $\\psi_{i}=  \\sum_{\\mu=1}^{K} C_{\\mu i} \\phi_{\\mu}$\n",
    "\n",
    "$$\\rho(\\vec{r}) = 2 \\sum_{a}^{N/2} \\Bigg( \\bigg[ \\sum_{\\nu}^{K} C_{\\nu a}^{*} \\phi_{\\nu}(\\vec{r})^{*} \\bigg] \\bigg[ \\sum_{\\mu}^{K} C_{\\mu a}\\phi_{\\mu}(\\vec{r}) \\bigg] \\Bigg)$$\n",
    "\n",
    "- move things around\n",
    "\n",
    "$$\\rho(\\vec{r}) = \\sum_{\\nu}^{K} \\sum_{\\mu}^{K} \\Big( 2 \\sum_{a}^{N/2} C_{\\mu a} C_{\\nu a}^{*} \\Big) \\phi_{\\mu}(\\vec{r}) \\phi_{\\nu}(\\vec{r})^{*} $$\n",
    "\n",
    "- which is \n",
    "\n",
    "$$\\rho(\\vec{r}) = \\sum_{\\mu, \\nu}^{K} P_{\\mu \\nu} \\phi_{\\mu}(\\vec{r}) \\phi_{\\nu}(\\vec{r})^{*} $$\n",
    "\n",
    "\n",
    "- $P_{\\mu \\nu}$ is known as the density matrix and is:\n",
    "\n",
    "$$P_{\\mu \\nu} = 2 \\sum_{a}^{N/2} C_{\\mu a} C_{\\nu a}^{*}$$"
   ]
  },
  {
   "cell_type": "markdown",
   "metadata": {},
   "source": [
    "Therefore we can also find the total number of electrons in the system by:\n",
    "\n",
    "$$ N =  2 \\sum_{a}^{N/2}\\int d\\vec{r}  \\bigg( \\psi_{a}(\\vec{r})^{*} \\psi_{i}(\\vec{r}) \\bigg) =  \\sum_{\\nu}^{K} \\sum_{\\mu}^{K} \\Big( 2 \\sum_{a}^{N/2} C_{\\mu a} C_{\\nu a}^{*} \\Big) \\int d\\vec{r} \\phi_{\\mu}(\\vec{r})  \\phi_{\\nu}(\\vec{r})^{*}$$\n",
    "\n",
    "- This is simply:\n",
    "\n",
    "$$N =  \\sum_{\\nu}^{K} \\sum_{\\mu}^{K} P_{\\mu \\nu} S_{\\nu \\mu}= \\sum_{\\mu}^{K} PS_{\\mu \\mu} = \\mathcal{Tr}(PS)$$"
   ]
  },
  {
   "cell_type": "markdown",
   "metadata": {},
   "source": [
    "- One can interpret $ PS_{\\mu \\mu}$ in the above equation as the number of electrons associated with $ \\phi_{\\mu}$\n",
    "- This is a **Mulliken population analysis**"
   ]
  },
  {
   "cell_type": "markdown",
   "metadata": {},
   "source": [
    "## Orbital Localization"
   ]
  },
  {
   "cell_type": "markdown",
   "metadata": {},
   "source": [
    "- When we perform a SCF calculation, one gets an optimized C matrix\n",
    "    - $C$ is a $K \\times K$ matrix of expansion coefficients $C_{\\mu i}$\n",
    "    - The columns of $C$ describe the molecular orbitals!\n",
    "    - MO i: $ \\psi_{i} =  \\sum_{\\mu=1}^{K} C_{\\mu i} \\phi_{\\mu}$\n",
    "    \n",
    "    \n",
    "- These molecular orbitals are usually **delocalized**\n",
    "    - non-negligible amplitude over the whole system, rather than only around some atom(s) or bond(s)\n",
    "\n",
    "- But we know in QM that a given basis choice is NOT unique\n",
    "\n",
    "\n",
    "- We can therefore perform a unitary rotation on molecular orbitals\n",
    "\n",
    "$$ \\psi_{i} U_{rot} =  \\Big( \\sum_{\\mu=1}^{K} C_{\\mu i} \\phi_{\\mu} \\Big) U_{rot} = \\psi_{i}^{new}$$\n",
    "    \n",
    "    \n",
    "The idea is to use a rotation such that the resulting orbitals $\\psi_{i}^{new}$ are as spatially localized as possible. \n",
    "\n",
    "\n",
    "The Pipek-Mezey (PM) [localization](https://notendur.hi.is/hj/papers/paperPipekmezey8.pdf) **maximizes the population charges on the atoms**:\n",
    "\n",
    "$$ f (U_{rot}) = \\sum_{A}^{N_{atoms}} \\Bigg( Z_{A} -  \\sum_{\\mu \\text{ on atom } A} PS_{\\mu \\mu} \\Bigg)$$"
   ]
  },
  {
   "cell_type": "markdown",
   "metadata": {},
   "source": [
    "### Method 1 - Population-based methods\n",
    "- Given optimized $C$ coefficient matrix\n",
    "    - which has been rotated to localize orbitals\n",
    "    - (used to build localized density matrix)\n",
    "\n",
    "\n",
    "- **Look through basis functions $\\phi_{\\mu}$ of the ACTIVE atoms**\n",
    "\n",
    "    \n",
    "- check the mulliken charge // mulliken population of the orbital\n",
    "    - if above a certain threshold associate it to active system\n",
    "    - otherwise put in the environment\n",
    " \n",
    "\n",
    "\n",
    "To choose the active and enviroment subsystems we do the following:\n",
    "\n",
    "1. Given a localized molecular orbs (localized C matrix), we take the absolute mag squared of the coefficients of the active part for a given localized orb and divide by the absolute mag squared of all the coefficents of a that orb... THis will give a value of how much the active system contributes to that orb.\n",
    "\n",
    "2. Mathematically, for orbital $j$ \n",
    "    - remember MO orbs given by columns of C matrix\n",
    "    - In equation below C matrix is the LOCALIZED form!\n",
    "\n",
    "\n",
    "$$ \\text{threshold} =  \\frac{\\sum_{\\mu\\in \\text{active AO}}^{K} |C_{\\mu j}|^{2}}{\\sum_{\\mu =1}^{K} |C_{\\mu j}|^{2}}$$"
   ]
  },
  {
   "cell_type": "markdown",
   "metadata": {},
   "source": [
    "### METHOD 2 - SPADE\n",
    "\n",
    "    "
   ]
  },
  {
   "cell_type": "markdown",
   "metadata": {},
   "source": [
    "Subsytem Projected Atomic orbital DEcomposition (SPADE) begins by orthogonalising the occupied MOs\n",
    "\n",
    "$$ \\bar{C}_{occ} = S^{-1/2}C_{occ}$$\n",
    "\n",
    "We project these onto the active atomic orbitals (erasing the contribution from the environment AOs to the MO matrix).\n",
    "\n",
    "$$ \\bar{C}_{occ}^A = P_A\\bar{C}_{occ}$$\n",
    "\n",
    "A singlular value decomposition of these is then taken\n",
    "\n",
    "$$ \\bar{C}_{occ}^A = U \\Sigma V^{T}$$\n",
    "\n",
    "The singular values $\\{\\sigma\\}$ given as the diagonal elements of $\\Sigma$, are then used to define the subsytem decomposition by locating the maximum change in singluar value\n",
    "\n",
    "$$ m = max_{i} \\bigg(\\sigma_{i} - \\sigma_{i+1} \\bigg)$$\n",
    "\n",
    "The occupied MOs are then rotated into the SPADE basis using the right singular vectors of the SVD\n",
    "\n",
    "$$ \\bar{C}_{occ}^{SPADE} = \\bar{C}_{occ} V_{m}$$\n",
    "\n",
    "The SPADE basis is then used to define the active and environment subsystems, taking the first m orbitals as the active subsystem and the remaining as the environment."
   ]
  },
  {
   "cell_type": "markdown",
   "metadata": {},
   "source": [
    "Let's start by building a molucule and SCF object."
   ]
  },
  {
   "cell_type": "code",
   "execution_count": null,
   "metadata": {},
   "outputs": [
    {
     "name": "stdout",
     "output_type": "stream",
     "text": [
      "/Users/michaelwilliamsdelabastida/Code/Nbed/docs/notebooks/molecular_structures/formamide.xyz\n"
     ]
    }
   ],
   "source": [
    "from pathlib import Path\n",
    "\n",
    "water_filepath = Path(\"molecular_structures/formamide.xyz\").absolute()\n",
    "print(water_filepath)\n",
    "\n",
    "basis = \"STO-3G\"\n",
    "charge = 0\n",
    "xc_functional = \"b3lyp\"\n",
    "convergence = 1e-6\n",
    "max_ram_memory = 4_000\n",
    "n_active_atoms = 2\n",
    "occ_cutoff = 0.95\n",
    "virt_cutoff = 0.95\n",
    "run_virtual_localization = False"
   ]
  },
  {
   "cell_type": "code",
   "execution_count": 3,
   "metadata": {},
   "outputs": [
    {
     "name": "stderr",
     "output_type": "stream",
     "text": [
      "/Users/michaelwilliamsdelabastida/Code/Nbed/.venv/lib/python3.13/site-packages/pyscf/dft/libxc.py:512: UserWarning: Since PySCF-2.3, B3LYP (and B3P86) are changed to the VWN-RPA variant, corresponding to the original definition by Stephens et al. (issue 1480) and the same as the B3LYP functional in Gaussian. To restore the VWN5 definition, you can put the setting \"B3LYP_WITH_VWN5 = True\" in pyscf_conf.py\n",
      "  warnings.warn('Since PySCF-2.3, B3LYP (and B3P86) are changed to the VWN-RPA variant, '\n"
     ]
    },
    {
     "data": {
      "text/plain": [
       "np.float64(-167.59178321957404)"
      ]
     },
     "execution_count": 3,
     "metadata": {},
     "output_type": "execute_result"
    }
   ],
   "source": [
    "from pyscf import gto, scf\n",
    "\n",
    "full_mol = gto.Mole(\n",
    "    atom=str(water_filepath),\n",
    "    basis=basis,\n",
    "    charge=charge,\n",
    ").build()\n",
    "\n",
    "global_ks = scf.RKS(full_mol)\n",
    "global_ks.conv_tol = convergence\n",
    "global_ks.xc = xc_functional\n",
    "global_ks.max_memory = max_ram_memory\n",
    "global_ks.verbose = pyscf_print_level\n",
    "global_ks.kernel()"
   ]
  },
  {
   "cell_type": "code",
   "execution_count": 4,
   "metadata": {},
   "outputs": [],
   "source": [
    "from scipy import linalg\n",
    "import numpy as np\n",
    "\n",
    "# Locate he occupied orbitals\n",
    "occupancy = global_ks.mo_occ\n",
    "n_occupied_orbitals = np.count_nonzero(occupancy)\n",
    "occupied_orbitals = global_ks.mo_coeff[:, :n_occupied_orbitals]\n",
    "\n",
    "# Project onto the active AOs\n",
    "# Do this by erasing rows of the C matrix\n",
    "# that correspond to contributions from the environment\n",
    "# this only works because we have placed our active atoms at the start of the file.\n",
    "n_act_aos = global_ks.mol.aoslice_by_atom()[n_active_atoms - 1][-1]\n",
    "\n",
    "# Orthogonalise the MOs\n",
    "ao_overlap = global_ks.get_ovlp()\n",
    "\n",
    "rotated_orbitals = linalg.fractional_matrix_power(ao_overlap, 0.5) @ occupied_orbitals\n",
    "\n",
    "# Take the SVD of the rotated and projected orbitals\n",
    "_, sigma, right_vectors = linalg.svd(rotated_orbitals[:n_act_aos, :])\n",
    "\n",
    "\n",
    "# Prevents an error with argmax\n",
    "if len(sigma) == 1:\n",
    "    n_act_mos = 1\n",
    "else:\n",
    "    value_diffs = sigma[:-1] - sigma[1:]\n",
    "    n_act_mos = np.argmax(value_diffs) + 1\n",
    "\n",
    "n_env_mos = n_occupied_orbitals - n_act_mos\n",
    "\n",
    "# get active and enviro indices\n",
    "active_MO_inds = np.arange(n_act_mos)\n",
    "enviro_MO_inds = np.arange(n_act_mos, n_act_mos + n_env_mos)\n",
    "\n",
    "# Defining active and environment orbitals and density\n",
    "c_active = occupied_orbitals @ right_vectors.T[:, :n_act_mos]\n",
    "c_enviro = occupied_orbitals @ right_vectors.T[:, n_act_mos:]\n",
    "c_loc_occ = occupied_orbitals @ right_vectors.T"
   ]
  },
  {
   "cell_type": "code",
   "execution_count": 5,
   "metadata": {},
   "outputs": [
    {
     "data": {
      "text/plain": [
       "array([ 5,  6,  7,  8,  9, 10, 11])"
      ]
     },
     "execution_count": 5,
     "metadata": {},
     "output_type": "execute_result"
    }
   ],
   "source": [
    "enviro_MO_inds"
   ]
  },
  {
   "cell_type": "code",
   "execution_count": 6,
   "metadata": {},
   "outputs": [
    {
     "name": "stdout",
     "output_type": "stream",
     "text": [
      "n_act_mos=np.int64(5)\n",
      "n_env_mos=np.int64(7)\n",
      "active_MO_inds=array([0, 1, 2, 3, 4])\n",
      "enviro_MO_inds=array([ 5,  6,  7,  8,  9, 10, 11])\n",
      "c_active.shape=(18, 5)\n",
      "c_enviro.shape=(18, 7)\n"
     ]
    }
   ],
   "source": [
    "print(f\"{n_act_mos=}\")\n",
    "print(f\"{n_env_mos=}\")\n",
    "\n",
    "print(f\"{active_MO_inds=}\")\n",
    "print(f\"{enviro_MO_inds=}\")\n",
    "\n",
    "print(f\"{c_active.shape=}\")\n",
    "print(f\"{c_enviro.shape=}\")"
   ]
  },
  {
   "cell_type": "markdown",
   "metadata": {},
   "source": [
    "## Virtual Orbital Localization via Concentric Localization\n",
    "\n",
    "[1] D. Claudino and N. J. Mayhall, \"Simple and Efficient Truncation of Virtual Spaces in Embedded Wave Functions via Concentric Localization\", Journal of Chemical Theory and Computation, vol. 15, no. 11, pp. 6085-6096, Nov. 2019, doi: 10.1021/ACS.JCTC.9B00682."
   ]
  },
  {
   "cell_type": "markdown",
   "metadata": {},
   "source": [
    "Concentric localization is an extension of SPADE which allows for virtual orbitals to be localized. \n",
    "\n",
    "This procedure is carried out after projection based embedding is complete, as this allows for selection of virtual orbitals which are most suitable for the embedded system. Virtual orbital selection does not impact the projection based embedding procedure, until the calculation of the embedded energy term.\n",
    "\n",
    "Beginning with the occupied orbitals of the active region, the procedure is carried out iteratively.In the first iteration, the procedure allows for a change of basis from embedding to Concentric Localization. The virtual orbitals which overlap to the greatest extent with the occupied orbitals of the active region are selected. These are then used to define the first shell of the Concentric Localization basis. Further iterations find the overlap of remaining virtual MOs with all previous shells (including occupied MOs), under the action of the fock operator. The virtual MOs which interact with the active region are then used to define the next shell of the Concentric Localization basis.\n",
    "\n",
    "We begin by projecting the MOs onto the active region.\n",
    "\n",
    "$$ \\bar{C}^A = P_A\\bar{C}$$\n",
    "\n",
    "The first step of the iterative process requires finding the virtual orbitals in the projected basis. Note that these virtual orbitals should not include those which have been projected out of the active space.\n",
    "\n",
    "$$ C^A_{vir} = S^{-1}_A S_{PB,WB} C_{vir} $$\n",
    "\n",
    "Where $S_{PB,WB}$ gives the overlap matrix between the projected basis and the `working basis` (the basis set used in the projection procedure with occupied environment orbitals removed).\n",
    "\n",
    "$$ [S_{PB,WB}]_{i,j} = \\langle a_i | u_j \\rangle \\ \\{a_i \\in C^A, u_j \\in C\\}$$\n",
    "\n",
    "We can then begin to build up a set of localized orbitals iteratively. For the initial step, we find the overlap of the two sets of orbitals and singlular value decompose this.\n",
    "\n",
    "$$ C^A_{vir} S_{PB,WB} C_{vir} = U \\Sigma V^{T}$$\n",
    "\n",
    "By splitting the $V$ matrix into its span and kernel, we can define two sets of orbitals for the $1st$ shell.\n",
    "\n",
    "Let $T: V \\to W$ we a linear transformation, then the image and kernel of $T$ are defined as\n",
    "\n",
    "$$ im\\ T = T(V) = \\{T(v) | v \\in V\\}$$\n",
    "$$ ker\\ T = \\{v \\in V | T(v) = 0\\}$$\n",
    "\n",
    "The span and kernel can be found by taking the singular value decomposition of $T = L\\Sigma R$.\n",
    "\n",
    "$$ C_{span} = \\{r_i \\in R | \\Sigma_i \\neq 0\\}$$\n",
    "$$ C_{ker} = \\{r_i \\in R | \\Sigma_i = 0\\}$$\n",
    "\n",
    "Finally, we can define the two sets of orbitals for the $1st$ shell.\n",
    "\n",
    "$$ C_0 = C_{vir} V_{span}$$\n",
    "$$ C_{0,k} = C_{vir} V_{ker}$$\n",
    "\n",
    "Subesquent iterations are found using the overlap of these two sets of orbitals under the action of the Fock operator $F$.\n",
    "\n",
    "$$ C_n^{\\dagger} F C_{n,k} = U_n \\Sigma_n V_n^{T}$$\n",
    "\n",
    "$$ C_{n+1} = C_{n,k} V_{n,span}$$\n",
    "$$ C_{n+1,k} = C_{n,k} V_{n,ker}$$\n",
    "\n",
    "Note the code associated with the original paper `PsiEmbed` defines the span matrix slighly differently.\n",
    "$$ C_{n+1} = \\{C_0|...|C_{n-1}|C_{n,k} V_{n,span}\\}$$\n",
    "\n",
    "(From experience it seems that this choice ensures all orbitals will be included.)\n",
    "\n",
    "Ultimately, the active space is constructed from the occupied orbitals of the active region and the first $n$ shells.\n",
    "\n",
    "$$ C_{active\\ space} \\to \\{C_{act, occ}|C_0| C_1| \\dots| C_{n}\\}"
   ]
  },
  {
   "cell_type": "markdown",
   "metadata": {},
   "source": [
    ">NOTE\n",
    ">\n",
    ">This section will be added at the end of the driver method. So to work it out we'll run the driver first."
   ]
  },
  {
   "cell_type": "code",
   "execution_count": 7,
   "metadata": {},
   "outputs": [
    {
     "name": "stdout",
     "output_type": "stream",
     "text": [
      "/Users/michaelwilliamsdelabastida/Code/Nbed/docs/notebooks/molecular_structures/formamide.xyz\n"
     ]
    }
   ],
   "source": [
    "from pathlib import Path\n",
    "\n",
    "mol_filepath = Path(\"molecular_structures/formamide.xyz\").absolute()\n",
    "print(mol_filepath)"
   ]
  },
  {
   "cell_type": "code",
   "execution_count": null,
   "metadata": {},
   "outputs": [
    {
     "name": "stdout",
     "output_type": "stream",
     "text": [
      "converged SCF energy = -167.591783205017  <S^2> = 1.3301361e-07  2S+1 = 1.0000003\n",
      "\n",
      "WARN: Incompatible dm dimension. Treat dm as RHF density matrix.\n",
      "\n",
      "converged SCF energy = -36.0561824721752  <S^2> = 1.5170692e-07  2S+1 = 1.0000003\n"
     ]
    }
   ],
   "source": [
    "from nbed import nbed\n",
    "\n",
    "driver = nbed(\n",
    "    geometry=mol_filepath,\n",
    "    n_active_atoms=2,\n",
    "    basis=\"STO-3G\",\n",
    "    xc_functional=\"b3lyp\",\n",
    "    projector=\"mu\",\n",
    "    localization=\"spade\",\n",
    "    convergence=1e-6,\n",
    "    savefile=None,\n",
    "    charge=0,\n",
    "    spin=0,\n",
    "    mu_level_shift=1e6,\n",
    "    run_ccsd_emb=False,\n",
    "    run_fci_emb=False,\n",
    "    run_virtual_localization=False,\n",
    "    max_ram_memory=4_000,\n",
    "    unit=\"angstrom\",\n",
    "    occupied_threshold=0.95,\n",
    "    virtual_threshold=0.95,\n",
    "    max_hf_cycles=100,\n",
    "    max_dft_cycles=100,\n",
    "    force_unrestricted=False,\n",
    ")"
   ]
  },
  {
   "cell_type": "code",
   "execution_count": 14,
   "metadata": {},
   "outputs": [
    {
     "name": "stdout",
     "output_type": "stream",
     "text": [
      "E(UCCSD) = -36.0814510055101  E_corr = -0.02526853333485729\n",
      "-36.0814510055101\n"
     ]
    }
   ],
   "source": [
    "from pyscf.cc import CCSD\n",
    "\n",
    "e_ccsd = CCSD(driver.embedded_scf).run()\n",
    "driver_ccsd = e_ccsd.e_tot\n",
    "print(driver_ccsd)"
   ]
  },
  {
   "cell_type": "code",
   "execution_count": 15,
   "metadata": {},
   "outputs": [],
   "source": [
    "# First lets define how many total orbitals we want to have\n",
    "max_orbs = 15\n",
    "max_shells = 4"
   ]
  },
  {
   "cell_type": "markdown",
   "metadata": {},
   "source": [
    "Create a molecule object for the active region using an arbitrary basis."
   ]
  },
  {
   "cell_type": "code",
   "execution_count": 16,
   "metadata": {},
   "outputs": [
    {
     "name": "stdout",
     "output_type": "stream",
     "text": [
      "10\n"
     ]
    },
    {
     "name": "stderr",
     "output_type": "stream",
     "text": [
      "Warning: <pyscf.gto.mole.Mole object at 0x1762ed6d0> must be initialized before calling SCF.\n",
      "Initialize <pyscf.gto.mole.Mole object at 0x1762ed6d0> in <pyscf.dft.rks.RKS object at 0x1762ecb90>\n"
     ]
    }
   ],
   "source": [
    "projected_mol = gto.mole.Mole()\n",
    "projected_mol.atom = driver.embedded_scf.mol.atom\n",
    "projected_mol.basis = driver.embedded_scf.mol.basis  # can be anything\n",
    "projected_mf = scf.RKS(projected_mol)\n",
    "n_act_proj_aos = projected_mol.aoslice_by_atom()[n_active_atoms - 1][-1]\n",
    "print(n_act_proj_aos)"
   ]
  },
  {
   "cell_type": "code",
   "execution_count": 17,
   "metadata": {},
   "outputs": [
    {
     "name": "stdout",
     "output_type": "stream",
     "text": [
      "(2, 18, 11)\n",
      "virtual_mos=array([0, 0, 0, 0, 0, 0, 1, 1, 1, 1, 1, 1])\n",
      "effective_virt.shape=(2, 12, 11)\n"
     ]
    },
    {
     "ename": "ValueError",
     "evalue": "matmul: Input operand 1 has a mismatch in its core dimension 0, with gufunc signature (n?,k),(k,m?)->(n?,m?) (size 12 is different from 18)",
     "output_type": "error",
     "traceback": [
      "\u001b[31m---------------------------------------------------------------------------\u001b[39m",
      "\u001b[31mValueError\u001b[39m                                Traceback (most recent call last)",
      "\u001b[36mCell\u001b[39m\u001b[36m \u001b[39m\u001b[32mIn[17]\u001b[39m\u001b[32m, line 18\u001b[39m\n\u001b[32m     15\u001b[39m effective_virt = driver.embedded_scf.mo_coeff[:, virtual_mos]\n\u001b[32m     16\u001b[39m \u001b[38;5;28mprint\u001b[39m(\u001b[33mf\u001b[39m\u001b[33m\"\u001b[39m\u001b[38;5;132;01m{\u001b[39;00meffective_virt.shape\u001b[38;5;132;01m=}\u001b[39;00m\u001b[33m\"\u001b[39m)\n\u001b[32m---> \u001b[39m\u001b[32m18\u001b[39m left = \u001b[43mnp\u001b[49m\u001b[43m.\u001b[49m\u001b[43mlinalg\u001b[49m\u001b[43m.\u001b[49m\u001b[43minv\u001b[49m\u001b[43m(\u001b[49m\u001b[43mprojected_overlap\u001b[49m\u001b[43m)\u001b[49m\u001b[43m \u001b[49m\u001b[43m@\u001b[49m\u001b[43m \u001b[49m\u001b[43moverlap_two_basis\u001b[49m\u001b[43m \u001b[49m\u001b[43m@\u001b[49m\u001b[43m \u001b[49m\u001b[43meffective_virt\u001b[49m\n\u001b[32m     20\u001b[39m _, sigma, right_vectors = np.linalg.svd(left.T @ overlap_two_basis @ effective_virt)\n\u001b[32m     22\u001b[39m \u001b[38;5;66;03m# We'll iteratively build up the total C matrix\u001b[39;00m\n",
      "\u001b[31mValueError\u001b[39m: matmul: Input operand 1 has a mismatch in its core dimension 0, with gufunc signature (n?,k),(k,m?)->(n?,m?) (size 12 is different from 18)"
     ]
    }
   ],
   "source": [
    "projected_overlap = projected_mf.get_ovlp(driver.embedded_scf.mol)[\n",
    "    :n_act_proj_aos, :n_act_proj_aos\n",
    "]\n",
    "overlap_two_basis = gto.intor_cross(\n",
    "    \"int1e_ovlp_sph\", driver.embedded_scf.mol, projected_mol\n",
    ")[:n_act_proj_aos, :]\n",
    "# for effective virtuals it seems they have occ_env_aos shifted by this point\n",
    "# print(projected_overlap.shape)\n",
    "# print(overlap_two_basis.shape)\n",
    "\n",
    "print(driver.embedded_scf.mo_coeff.shape)\n",
    "occupancy = driver.embedded_scf.mo_occ\n",
    "virtual_mos = np.where(occupancy == 0)[0]\n",
    "print(f\"{virtual_mos=}\")\n",
    "effective_virt = driver.embedded_scf.mo_coeff[:, virtual_mos]\n",
    "print(f\"{effective_virt.shape=}\")\n",
    "\n",
    "left = np.linalg.inv(projected_overlap) @ overlap_two_basis @ effective_virt\n",
    "\n",
    "_, sigma, right_vectors = np.linalg.svd(left.T @ overlap_two_basis @ effective_virt)\n",
    "\n",
    "# We'll iteratively build up the total C matrix\n",
    "active_mos = np.where(occupancy > 0)[0]\n",
    "c_total = driver.embedded_scf.mo_coeff[:, active_mos]\n",
    "print(f\"Using active MOs for CL: {active_mos}\")\n",
    "\n",
    "shell_size = np.sum(sigma[:n_act_proj_aos] >= 1e-15)\n",
    "print(f\"Singular values: {sigma}\")\n",
    "print(f\"{shell_size=}\")\n",
    "\n",
    "v_span = right_vectors.T[:, :shell_size]  # 0 but instability\n",
    "v_ker = right_vectors.T[:, shell_size:]\n",
    "print(f\"{v_span.shape=}\")\n",
    "\n",
    "\n",
    "c_span = effective_virt @ v_span\n",
    "c_iker = effective_virt @ v_ker\n",
    "\n",
    "c_total = np.hstack((c_total, c_span))\n",
    "\n",
    "fock_operator = driver.embedded_scf.get_fock()\n",
    "# why use the overlap for the first shell and then the fock for the rest?\n",
    "\n",
    "ishell = 1\n",
    "while ishell <= max_shells:\n",
    "    ishell += 1\n",
    "\n",
    "    print(\"Beginning Concentric Localization Iteration\")\n",
    "    print(f\"{c_ispan.shape=}, {fock_operator.shape=}, {c_iker.shape=}\")\n",
    "    _, sigma, right_vectors = linalg.svd(c_total.T @ fock_operator @ c_iker)\n",
    "    print(f\"Singular values: {sigma}\")\n",
    "    print(f\"{right_vectors.shape=}\")\n",
    "\n",
    "    shell_size = np.sum(sigma[:n_act_proj_aos] >= 1e-15)\n",
    "    print(f\"{shell_size=}\")\n",
    "\n",
    "    v_span = right_vectors.T[:, :shell_size]  # 0 but instability\n",
    "    v_ker = right_vectors.T[:, shell_size:]\n",
    "\n",
    "    print(f\"{v_span.shape=}\")\n",
    "\n",
    "    # c_span = np.hstack((c_span, c_iker @ v_span))\n",
    "    c_total = np.hstack((c_total, c_iker @ v_span))\n",
    "\n",
    "    print(f\"{c_total.shape=}\")\n",
    "    if c_total.shape[1] > max_orbs:\n",
    "        print(f\"Exceeded max orbs, cutting to {max_orbs} MOs.\")\n",
    "        c_total = c_total[:, :max_orbs]\n",
    "        break\n",
    "\n",
    "    elif c_total.shape[1] == max_orbs:\n",
    "        print(\"Reached maximum number of MOs. Ending CL.\")\n",
    "        break\n",
    "\n",
    "    elif c_total.shape[1] < max_orbs:\n",
    "        print(\"Not reached max orbs, continuing CL.\")\n",
    "\n",
    "    dim_ker = v_ker.shape[1]\n",
    "    print(f\"{dim_ker=}\")\n",
    "\n",
    "    if dim_ker > 0:\n",
    "        c_iker = c_iker @ v_ker\n",
    "    else:\n",
    "        # This means that all virtual orbitals have been included.\n",
    "        print(\"No kernel, ending CL.\")\n",
    "        break"
   ]
  },
  {
   "cell_type": "markdown",
   "metadata": {},
   "source": [
    "The final step of CL is to Canonicalize the orbitals - This removes degeneracies which may result in instability of SCF procedures.\n",
    "\n",
    "We don't actually need to worry about this as we aren't using SCF methods, but beware that it could be relevant."
   ]
  },
  {
   "cell_type": "markdown",
   "metadata": {},
   "source": [
    "Open Shells"
   ]
  },
  {
   "cell_type": "code",
   "execution_count": null,
   "metadata": {},
   "outputs": [
    {
     "name": "stdout",
     "output_type": "stream",
     "text": [
      "/home/mwilliams/Code/Nbed/docs/notebooks/molecular_structures/ethanamine.xyz\n",
      "7\n"
     ]
    },
    {
     "name": "stderr",
     "output_type": "stream",
     "text": [
      "Warning: <pyscf.gto.mole.Mole object at 0x7fa4b57838e0> must be initialized before calling SCF.\n",
      "Initialize <pyscf.gto.mole.Mole object at 0x7fa4b57838e0> in RKS object of <class 'pyscf.dft.rks.RKS'>\n"
     ]
    }
   ],
   "source": [
    "from nbed.driver import NbedDriver\n",
    "from pathlib import Path\n",
    "from pyscf import gto, scf\n",
    "import numpy as np\n",
    "from numpy import linalg\n",
    "\n",
    "\n",
    "mol_filepath = Path(\"molecular_structures/ethanamine.xyz\").absolute()\n",
    "print(mol_filepath)\n",
    "\n",
    "n_active_atoms = 3\n",
    "\n",
    "driver = NbedDriver(\n",
    "    geometry=str(mol_filepath),\n",
    "    n_active_atoms=n_active_atoms,\n",
    "    basis=\"STO-3G\",\n",
    "    xc_functional=\"b3lyp\",\n",
    "    projector=\"mu\",\n",
    "    localization=\"spade\",\n",
    "    convergence=1e-6,\n",
    "    savefile=None,\n",
    "    charge=0,\n",
    "    spin=0,\n",
    "    mu_level_shift=1e6,\n",
    "    run_ccsd_emb=None,\n",
    "    run_fci_emb=None,\n",
    "    run_virtual_localization=False,\n",
    "    max_ram_memory=4_000,\n",
    "    pyscf_print_level=1,\n",
    "    unit=\"angstrom\",\n",
    "    occupied_threshold=0.95,\n",
    "    virtual_threshold=0.95,\n",
    "    max_hf_cycles=100,\n",
    "    max_dft_cycles=100,\n",
    "    force_unrestricted=False,\n",
    ")\n",
    "\n",
    "# First lets define how many total orbitals we want to have\n",
    "max_orbs = 15\n",
    "max_shells = 4\n",
    "\n",
    "projected_mol = gto.mole.Mole()\n",
    "projected_mol.atom = driver.embedded_scf.mol.atom\n",
    "projected_mol.basis = driver.embedded_scf.mol.basis  # can be anything\n",
    "projected_mf = scf.RKS(projected_mol)\n",
    "n_act_proj_aos = projected_mol.aoslice_by_atom()[n_active_atoms - 1][-1]\n",
    "print(n_act_proj_aos)"
   ]
  },
  {
   "cell_type": "code",
   "execution_count": null,
   "metadata": {},
   "outputs": [
    {
     "name": "stdout",
     "output_type": "stream",
     "text": [
      "(22, 14)\n",
      "driver.embedded_scf.mo_coeff.shape=(22, 14)\n",
      "occ.shape=(14,)\n",
      "Singular values: [9.92348797e-01 9.91884630e-01 1.81548775e-01 4.62486459e-03\n",
      " 1.06215828e-03 8.66925198e-06 6.28793285e-08 8.54572494e-17\n",
      " 3.90151124e-17]\n",
      "shell_size=7\n",
      "v_span.shape=(9, 7)\n",
      "v_ker.shape=(9, 2)\n",
      "c_span.shape=(22, 7)\n",
      "c_total.shape=(22, 5)\n",
      "Beginning Concentric Localization Iteration\n",
      "c_ispan.shape=(22, 7), fock_operator.shape=(22, 22), c_iker.shape=(22, 2)\n",
      "Singular values: [0.05158684 0.05024977]\n",
      "right_vectors.shape=(2, 2)\n",
      "shell_size=2\n",
      "v_span.shape=(2, 2)\n",
      "c_total.shape=(22, 14)\n",
      "Not reached max orbs, continuing CL.\n",
      "dim_ker=0\n",
      "No kernel, ending CL.\n"
     ]
    }
   ],
   "source": [
    "projected_overlap = projected_mf.get_ovlp(driver.embedded_scf.mol)[\n",
    "    :n_act_proj_aos, :n_act_proj_aos\n",
    "]\n",
    "overlap_two_basis = gto.intor_cross(\n",
    "    \"int1e_ovlp_sph\", driver.embedded_scf.mol, projected_mol\n",
    ")[:n_act_proj_aos, :]\n",
    "# for effective virtuals it seems they have occ_env_aos shifted by this point\n",
    "\n",
    "print(driver.embedded_scf.mo_coeff.shape)\n",
    "if driver._restricted_scf:\n",
    "    occ = driver.embedded_scf.mo_occ\n",
    "    effective_virt = driver.embedded_scf.mo_coeff[:, occ == 0]\n",
    "else:\n",
    "    occ = np.array([driver.embedded_scf.mo_occ[0], driver.embedded_scf.mo_occ[1]])\n",
    "    effective_virt = np.array(\n",
    "        [driver.embedded_scf.mo_coeff[i][:, occ[i] == 0] for i in [0, 1]]\n",
    "    )\n",
    "\n",
    "left = np.linalg.inv(projected_overlap) @ overlap_two_basis @ effective_virt\n",
    "_, sigma, right_vectors = np.linalg.svd(\n",
    "    np.swapaxes(left, -1, -2) @ overlap_two_basis @ effective_virt\n",
    ")\n",
    "\n",
    "print(f\"{driver.embedded_scf.mo_coeff.shape=}\")\n",
    "print(f\"{occ.shape=}\")\n",
    "# We'll iteratively build up the total C matrix\n",
    "if driver._restricted_scf:\n",
    "    c_total = driver.embedded_scf.mo_coeff[:, occ > 0]\n",
    "else:\n",
    "    sigma = np.min(sigma, axis=0)\n",
    "    c_total = np.array(\n",
    "        [\n",
    "            driver.embedded_scf.mo_coeff[0][:, occ[0] > 0],\n",
    "            driver.embedded_scf.mo_coeff[1][:, occ[1] > 0],\n",
    "        ]\n",
    "    )\n",
    "\n",
    "shell_size = np.sum(sigma[:n_act_proj_aos] >= 1e-15)\n",
    "print(f\"Singular values: {sigma}\")\n",
    "print(f\"{shell_size=}\")\n",
    "\n",
    "right_vectors = np.swapaxes(right_vectors, -1, -2)\n",
    "v_span, v_ker = np.split(right_vectors, [shell_size], axis=-1)  # 0 but instability\n",
    "\n",
    "print(f\"{v_span.shape=}\")\n",
    "print(f\"{v_ker.shape=}\")\n",
    "print(f\"{c_span.shape=}\")\n",
    "print(f\"{c_total.shape=}\")\n",
    "\n",
    "c_ispan = effective_virt @ v_span\n",
    "c_iker = effective_virt @ v_ker\n",
    "\n",
    "c_total = np.concatenate((c_total, c_ispan), axis=-1)\n",
    "\n",
    "fock_operator = driver.embedded_scf.get_fock()\n",
    "# why use the overlap for the first shell and then the fock for the rest?\n",
    "\n",
    "ishell = 1\n",
    "while ishell <= max_shells:\n",
    "    ishell += 1\n",
    "\n",
    "    print(\"Beginning Concentric Localization Iteration\")\n",
    "    print(f\"{c_ispan.shape=}, {fock_operator.shape=}, {c_iker.shape=}\")\n",
    "    _, sigma, right_vectors = linalg.svd(\n",
    "        np.swapaxes(c_total, -1, -2) @ fock_operator @ c_iker\n",
    "    )\n",
    "    if not driver._restricted_scf:\n",
    "        sigma = np.min(sigma, axis=0)\n",
    "\n",
    "    print(f\"Singular values: {sigma}\")\n",
    "    print(f\"{right_vectors.shape=}\")\n",
    "\n",
    "    shell_size = np.sum(sigma[:n_act_proj_aos] >= 1e-15)\n",
    "    print(f\"{shell_size=}\")\n",
    "\n",
    "    right_vectors = np.swapaxes(right_vectors, -1, -2)\n",
    "    v_span, v_ker = np.split(right_vectors, [shell_size], axis=-1)  # 0 but instability\n",
    "\n",
    "    print(f\"{v_span.shape=}\")\n",
    "\n",
    "    c_total = np.concatenate((c_total, c_iker @ v_span), axis=-1)\n",
    "\n",
    "    print(f\"{c_total.shape=}\")\n",
    "    if c_total.shape[-1] > max_orbs:\n",
    "        print(f\"Exceeded max orbs, cutting to {max_orbs} MOs.\")\n",
    "        break\n",
    "\n",
    "    elif c_total.shape[-1] == max_orbs:\n",
    "        print(\"Reached maximum number of MOs. Ending CL.\")\n",
    "        break\n",
    "\n",
    "    elif c_total.shape[-1] < max_orbs:\n",
    "        print(\"Not reached max orbs, continuing CL.\")\n",
    "\n",
    "    dim_ker = v_ker.shape[-1]\n",
    "    print(f\"{dim_ker=}\")\n",
    "\n",
    "    if dim_ker > 0:\n",
    "        c_iker = c_iker @ v_ker\n",
    "    else:\n",
    "        # This means that all virtual orbitals have been included.\n",
    "        print(\"No kernel, ending CL.\")\n",
    "        break"
   ]
  },
  {
   "cell_type": "markdown",
   "metadata": {},
   "source": [
    "### Relative accuracy of the embedding energy\n",
    "\n",
    "- Find the full system reference\n",
    "- Perform localization\n",
    "- Compare energy errors with increasing MOs "
   ]
  },
  {
   "cell_type": "markdown",
   "metadata": {},
   "source": [
    "First we run everything without CL"
   ]
  },
  {
   "cell_type": "code",
   "execution_count": null,
   "metadata": {},
   "outputs": [
    {
     "name": "stdout",
     "output_type": "stream",
     "text": [
      "/home/mwilliams/Code/Nbed/docs/notebooks/molecular_structures/ethanamine.xyz\n",
      "(41, 33)\n",
      "[0 1 2 3 4]\n",
      "(33,)\n",
      "E(CCSD) = 15.3374923277202  E_corr = -0.130205046867858\n",
      "Running CCSD with 33 MOs.\n",
      "E(CCSD) = 15.33749232772017  E_corr = -0.130205046867858\n",
      "-2.842170943040401e-14\n",
      "\n",
      "Running CCSD with 32 MOs.\n",
      "E(CCSD) = 15.34445011765843  E_corr = -0.1232472569296271\n",
      "0.006957789938230263\n",
      "\n",
      "Running CCSD with 31 MOs.\n",
      "E(CCSD) = 15.34562425418291  E_corr = -0.1220731204051189\n",
      "0.008131926462709771\n",
      "\n",
      "Running CCSD with 30 MOs.\n",
      "E(CCSD) = 15.3462217472177  E_corr = -0.121475627370344\n",
      "0.008729419497498725\n",
      "\n",
      "Running CCSD with 29 MOs.\n",
      "E(CCSD) = 15.34716349899069  E_corr = -0.1205338755973531\n",
      "0.00967117127049022\n",
      "\n",
      "Running CCSD with 28 MOs.\n",
      "E(CCSD) = 15.37081357253166  E_corr = -0.09688380205638084\n",
      "0.03332124481146259\n",
      "\n",
      "Running CCSD with 27 MOs.\n",
      "E(CCSD) = 15.38998376920076  E_corr = -0.07771360538726968\n",
      "0.05249144148055862\n",
      "\n",
      "Running CCSD with 26 MOs.\n",
      "E(CCSD) = 15.39550891028202  E_corr = -0.07218846430600612\n",
      "0.05801658256182307\n",
      "\n",
      "Running CCSD with 25 MOs.\n",
      "E(CCSD) = 15.39666025449798  E_corr = -0.07103712009005901\n",
      "0.05916792677778382\n",
      "\n",
      "Running CCSD with 24 MOs.\n",
      "E(CCSD) = 15.41136671796847  E_corr = -0.05633065661958695\n",
      "0.07387439024827103\n",
      "\n",
      "Running CCSD with 23 MOs.\n",
      "E(CCSD) = 15.41183704563452  E_corr = -0.05586032895352359\n",
      "0.07434471791431996\n",
      "\n",
      "Running CCSD with 22 MOs.\n",
      "E(CCSD) = 15.41929089819902  E_corr = -0.04840647638903765\n",
      "0.08179857047881889\n",
      "\n",
      "Running CCSD with 21 MOs.\n",
      "E(CCSD) = 15.42070055504232  E_corr = -0.04699681954572481\n",
      "0.08320822732211752\n",
      "\n",
      "Running CCSD with 20 MOs.\n",
      "E(CCSD) = 15.42790094216821  E_corr = -0.03979643241982747\n",
      "0.09040861444801607\n",
      "\n",
      "Running CCSD with 19 MOs.\n",
      "E(CCSD) = 15.43529034774188  E_corr = -0.03240702684615938\n",
      "0.09779802002168303\n",
      "\n",
      "Running CCSD with 18 MOs.\n",
      "E(CCSD) = 15.43757741996678  E_corr = -0.03011995462126551\n",
      "0.10008509224657836\n",
      "\n",
      "Running CCSD with 17 MOs.\n",
      "E(CCSD) = 15.44445473351547  E_corr = -0.02324264107257332\n",
      "0.1069624057952705\n",
      "\n",
      "Running CCSD with 16 MOs.\n",
      "E(CCSD) = 15.44822196337096  E_corr = -0.01947541121706351\n",
      "0.11072963565076499\n",
      "\n",
      "Running CCSD with 15 MOs.\n",
      "E(CCSD) = 15.44870675248753  E_corr = -0.0189906221005145\n",
      "0.11121442476732923\n",
      "\n",
      "Running CCSD with 14 MOs.\n",
      "E(CCSD) = 15.44879799769195  E_corr = -0.01889937689609286\n",
      "0.11130566997175073\n",
      "\n",
      "Running CCSD with 13 MOs.\n",
      "E(CCSD) = 15.45612068117454  E_corr = -0.0115766934135\n",
      "0.11862835345434242\n",
      "\n",
      "Running CCSD with 12 MOs.\n",
      "E(CCSD) = 15.45744008171338  E_corr = -0.0102572928746567\n",
      "0.11994775399318591\n",
      "\n",
      "Running CCSD with 11 MOs.\n",
      "E(CCSD) = 15.46317061356308  E_corr = -0.004526761024950234\n",
      "0.12567828584287888\n",
      "\n",
      "Running CCSD with 10 MOs.\n",
      "E(CCSD) = 15.46500919225967  E_corr = -0.002688182328375563\n",
      "0.12751686453946753\n",
      "\n",
      "Running CCSD with 9 MOs.\n",
      "E(CCSD) = 15.46548882855322  E_corr = -0.002208546034819671\n",
      "0.1279965008330226\n",
      "\n",
      "Running CCSD with 8 MOs.\n",
      "E(CCSD) = 15.46716002126282  E_corr = -0.0005373533252219491\n",
      "0.12966769354262198\n",
      "\n",
      "Running CCSD with 7 MOs.\n",
      "E(CCSD) = 15.46756026676959  E_corr = -0.0001371078184510718\n",
      "0.1300679390493915\n",
      "\n",
      "Running CCSD with 6 MOs.\n",
      "E(CCSD) = 15.46764044601142  E_corr = -5.692857662522071e-05\n",
      "0.13014811829121697\n",
      "\n",
      "Running CCSD with 5 MOs.\n",
      "E(CCSD) = 15.46769737458803  E_corr = 0\n",
      "0.13020504686782886\n",
      "\n"
     ]
    }
   ],
   "source": [
    "import numpy as np\n",
    "from nbed.driver import NbedDriver\n",
    "from pyscf.cc import CCSD\n",
    "from pathlib import Path\n",
    "\n",
    "mol_filepath = Path(\"molecular_structures/ethanamine.xyz\").absolute()\n",
    "print(mol_filepath)\n",
    "\n",
    "unloc_driver = NbedDriver(\n",
    "    geometry=str(mol_filepath),\n",
    "    n_active_atoms=3,\n",
    "    basis=\"6-31g\",\n",
    "    xc_functional=\"b3lyp\",\n",
    "    projector=\"mu\",\n",
    "    localization=\"spade\",\n",
    "    convergence=1e-6,\n",
    "    savefile=None,\n",
    "    charge=0,\n",
    "    spin=0,\n",
    "    mu_level_shift=1e6,\n",
    "    run_ccsd_emb=None,\n",
    "    run_fci_emb=None,\n",
    "    run_virtual_localization=False,\n",
    "    max_ram_memory=4_000,\n",
    "    pyscf_print_level=1,\n",
    "    unit=\"angstrom\",\n",
    "    occupied_threshold=0.95,\n",
    "    virtual_threshold=0.95,\n",
    "    max_hf_cycles=100,\n",
    "    max_dft_cycles=100,\n",
    "    force_unrestricted=False,\n",
    ")\n",
    "print(unloc_driver.embedded_scf.mo_coeff.shape)\n",
    "print(np.where(unloc_driver.embedded_scf.mo_occ > 0)[0])\n",
    "print(\n",
    "    unloc_driver.embedded_scf.mo_occ.shape\n",
    ")  # unloc_driver.embedded_scf.mo_occ = unloc_driver.emmo_occ[:unloc_driver.embedded_scf.mo_coeff.shape[-1]]\n",
    "unloc_full_cc = CCSD(unloc_driver.embedded_scf).run()\n",
    "unloc_full_cc = unloc_full_cc.e_tot\n",
    "\n",
    "from pyscf.cc import CCSD\n",
    "from copy import deepcopy\n",
    "\n",
    "partial_scf = unloc_driver.embedded_scf\n",
    "unloc_energies = []\n",
    "mos = [i for i in range(5, 34)]\n",
    "mos = mos[::-1]\n",
    "for i in mos:\n",
    "    partial_scf.mo_coeff = partial_scf.mo_coeff[:, :i]\n",
    "    partial_scf.mo_occ = partial_scf.mo_occ[:i]\n",
    "    print(f\"Running CCSD with {i} MOs.\")\n",
    "\n",
    "    e_ccsd = CCSD(partial_scf).run()\n",
    "    driver_ccsd = e_ccsd.e_tot\n",
    "    unloc_energies.append(driver_ccsd - unloc_full_cc)\n",
    "    print(driver_ccsd - unloc_full_cc)\n",
    "    print(\"\")"
   ]
  },
  {
   "cell_type": "markdown",
   "metadata": {},
   "source": [
    "Now run it again with CL"
   ]
  },
  {
   "cell_type": "code",
   "execution_count": null,
   "metadata": {},
   "outputs": [
    {
     "name": "stdout",
     "output_type": "stream",
     "text": [
      "/home/mwilliams/Code/Nbed/docs/notebooks/molecular_structures/ethanamine.xyz\n"
     ]
    },
    {
     "name": "stderr",
     "output_type": "stream",
     "text": [
      "Warning: <pyscf.gto.mole.Mole object at 0x7f03615a4730> must be initialized before calling SCF.\n",
      "Initialize <pyscf.gto.mole.Mole object at 0x7f03615a4730> in RKS object of <class 'pyscf.dft.rks.RKS'>\n"
     ]
    },
    {
     "name": "stdout",
     "output_type": "stream",
     "text": [
      "(41, 33)\n",
      "[0 1 2 3 4]\n",
      "(33,)\n",
      "E(CCSD) = 15.33749238586233  E_corr = -0.1302049890066784\n",
      "Running CCSD with 33 MOs.\n",
      "E(CCSD) = 15.33749238586232  E_corr = -0.1302049890066872\n",
      "-8.881784197001252e-15\n",
      "\n",
      "Running CCSD with 32 MOs.\n",
      "E(CCSD) = 15.33751376689264  E_corr = -0.1301836079763672\n",
      "2.1381030311573568e-05\n",
      "\n",
      "Running CCSD with 31 MOs.\n",
      "E(CCSD) = 15.33752743862865  E_corr = -0.1301699362403515\n",
      "3.505276632687071e-05\n",
      "\n",
      "Running CCSD with 30 MOs.\n",
      "E(CCSD) = 15.33753945483357  E_corr = -0.1301579200354307\n",
      "4.706897124684417e-05\n",
      "\n",
      "Running CCSD with 29 MOs.\n",
      "E(CCSD) = 15.3375542187202  E_corr = -0.1301431561488045\n",
      "6.183285787386694e-05\n",
      "\n",
      "Running CCSD with 28 MOs.\n",
      "E(CCSD) = 15.3375630721106  E_corr = -0.1301343027584144\n",
      "7.068624827866188e-05\n",
      "\n",
      "Running CCSD with 27 MOs.\n",
      "E(CCSD) = 15.33757911943008  E_corr = -0.1301182554389271\n",
      "8.673356775190655e-05\n",
      "\n",
      "Running CCSD with 26 MOs.\n",
      "E(CCSD) = 15.33785671491114  E_corr = -0.1298406599578658\n",
      "0.00036432904881245065\n",
      "\n",
      "Running CCSD with 25 MOs.\n",
      "E(CCSD) = 15.33788301096593  E_corr = -0.1298143639030735\n",
      "0.0003906251036056574\n",
      "\n",
      "Running CCSD with 24 MOs.\n",
      "E(CCSD) = 15.33790074599756  E_corr = -0.1297966288714423\n",
      "0.000408360135235597\n",
      "\n",
      "Running CCSD with 23 MOs.\n",
      "E(CCSD) = 15.3379686090103  E_corr = -0.1297287658587067\n",
      "0.00047622314797202137\n",
      "\n",
      "Running CCSD with 22 MOs.\n",
      "E(CCSD) = 15.33852250347701  E_corr = -0.1291748713919927\n",
      "0.0010301176146860769\n",
      "\n",
      "Running CCSD with 21 MOs.\n",
      "E(CCSD) = 15.33887347542588  E_corr = -0.1288238994431214\n",
      "0.0013810895635568698\n",
      "\n",
      "Running CCSD with 20 MOs.\n",
      "E(CCSD) = 15.33899666879198  E_corr = -0.1287007060770355\n",
      "0.001504282929657208\n",
      "\n",
      "Running CCSD with 19 MOs.\n",
      "E(CCSD) = 15.33926962652939  E_corr = -0.1284277483396156\n",
      "0.0017772406670619745\n",
      "\n",
      "Running CCSD with 18 MOs.\n",
      "E(CCSD) = 15.33957979368221  E_corr = -0.1281175811867927\n",
      "0.0020874078198858115\n",
      "\n",
      "Running CCSD with 17 MOs.\n",
      "E(CCSD) = 15.339879624305  E_corr = -0.1278177505640182\n",
      "0.002387238442674189\n",
      "\n",
      "Running CCSD with 16 MOs.\n",
      "E(CCSD) = 15.34071314149005  E_corr = -0.1269842333789732\n",
      "0.003220755627719285\n",
      "\n",
      "Running CCSD with 15 MOs.\n",
      "E(CCSD) = 15.34139114733253  E_corr = -0.1263062275364767\n",
      "0.0038987614702019613\n",
      "\n",
      "Running CCSD with 14 MOs.\n",
      "E(CCSD) = 15.34274483279969  E_corr = -0.1249525420693176\n",
      "0.005252446937360489\n",
      "\n",
      "Running CCSD with 13 MOs.\n",
      "E(CCSD) = 15.35675933563643  E_corr = -0.1109380392325794\n",
      "0.019266949774099373\n",
      "\n",
      "Running CCSD with 12 MOs.\n",
      "E(CCSD) = 15.38144516067341  E_corr = -0.08625221419560825\n",
      "0.04395277481108373\n",
      "\n",
      "Running CCSD with 11 MOs.\n",
      "E(CCSD) = 15.38714400849542  E_corr = -0.08055336637358679\n",
      "0.04965162263309075\n",
      "\n",
      "Running CCSD with 10 MOs.\n",
      "E(CCSD) = 15.40451278576204  E_corr = -0.06318458910696848\n",
      "0.0670203998997092\n",
      "\n",
      "Running CCSD with 9 MOs.\n",
      "E(CCSD) = 15.41276559203547  E_corr = -0.05493178283355175\n",
      "0.07527320617314004\n",
      "\n",
      "Running CCSD with 8 MOs.\n",
      "E(CCSD) = 15.42075042141092  E_corr = -0.04694695345810277\n",
      "0.08325803554859057\n",
      "\n",
      "Running CCSD with 7 MOs.\n",
      "E(CCSD) = 15.43518646823803  E_corr = -0.03251090663096903\n",
      "0.09769408237570865\n",
      "\n",
      "Running CCSD with 6 MOs.\n",
      "E(CCSD) = 15.45742588393089  E_corr = -0.0102714909381118\n",
      "0.11993349806856735\n",
      "\n",
      "Running CCSD with 5 MOs.\n",
      "E(CCSD) = 15.467697374869  E_corr = 0\n",
      "0.13020498900667832\n",
      "\n"
     ]
    }
   ],
   "source": [
    "from nbed.driver import NbedDriver\n",
    "from pyscf.cc import CCSD\n",
    "from pathlib import Path\n",
    "import numpy as np\n",
    "\n",
    "mol_filepath = Path(\"molecular_structures/ethanamine.xyz\").absolute()\n",
    "print(mol_filepath)\n",
    "\n",
    "driver = NbedDriver(\n",
    "    geometry=str(mol_filepath),\n",
    "    n_active_atoms=3,\n",
    "    basis=\"6-31g\",\n",
    "    xc_functional=\"b3lyp\",\n",
    "    projector=\"mu\",\n",
    "    localization=\"spade\",\n",
    "    convergence=1e-6,\n",
    "    savefile=None,\n",
    "    charge=0,\n",
    "    spin=0,\n",
    "    mu_level_shift=1e6,\n",
    "    run_ccsd_emb=None,\n",
    "    run_fci_emb=None,\n",
    "    run_virtual_localization=True,\n",
    "    max_shells=10,\n",
    "    max_ram_memory=4_000,\n",
    "    pyscf_print_level=1,\n",
    "    unit=\"angstrom\",\n",
    "    occupied_threshold=0.95,\n",
    "    virtual_threshold=0.95,\n",
    "    max_hf_cycles=100,\n",
    "    max_dft_cycles=100,\n",
    "    force_unrestricted=False,\n",
    ")\n",
    "print(driver.embedded_scf.mo_coeff.shape)\n",
    "print(np.where(driver.embedded_scf.mo_occ > 0)[0])\n",
    "print(driver.embedded_scf.mo_occ.shape)\n",
    "# driver.embedded_scf.mo_occ = driver.embedded_scf.mo_occ[:driver.embedded_scf.mo_coeff.shape[-1]]\n",
    "full_cc = CCSD(driver.embedded_scf).run()\n",
    "full_cc = full_cc.e_tot\n",
    "\n",
    "from pyscf.cc import CCSD\n",
    "from copy import deepcopy\n",
    "\n",
    "partial_scf = driver.embedded_scf\n",
    "energies = []\n",
    "mos = [i for i in range(5, 34)]\n",
    "mos = mos[::-1]\n",
    "for i in mos:\n",
    "    partial_scf.mo_coeff = partial_scf.mo_coeff[:, :i]\n",
    "    partial_scf.mo_occ = partial_scf.mo_occ[:i]\n",
    "    print(f\"Running CCSD with {i} MOs.\")\n",
    "\n",
    "    e_ccsd = CCSD(partial_scf).run()\n",
    "    driver_ccsd = e_ccsd.e_tot\n",
    "    energies.append(driver_ccsd - full_cc)\n",
    "    print(driver_ccsd - full_cc)\n",
    "    print(\"\")"
   ]
  },
  {
   "cell_type": "markdown",
   "metadata": {},
   "source": [
    "We can see that the total energy between methods is very similar so our CL procedure does not introduce energy errors."
   ]
  },
  {
   "cell_type": "code",
   "execution_count": null,
   "metadata": {},
   "outputs": [
    {
     "data": {
      "text/plain": [
       "5.754625220788512e-08"
      ]
     },
     "execution_count": 7,
     "metadata": {},
     "output_type": "execute_result"
    }
   ],
   "source": [
    "full_cc - unloc_full_cc"
   ]
  },
  {
   "cell_type": "code",
   "execution_count": null,
   "metadata": {},
   "outputs": [
    {
     "data": {
      "text/plain": [
       "<matplotlib.legend.Legend at 0x7f03683b8bb0>"
      ]
     },
     "execution_count": 36,
     "metadata": {},
     "output_type": "execute_result"
    },
    {
     "data": {
      "image/png": "[encoded data removed]",
      "text/plain": [
       "<Figure size 640x480 with 1 Axes>"
      ]
     },
     "metadata": {},
     "output_type": "display_data"
    }
   ],
   "source": [
    "from matplotlib import pyplot as plt\n",
    "\n",
    "plt.semilogy(np.arange(5, 33), np.abs(energies[::-1][:-1]))\n",
    "plt.semilogy(np.arange(5, 33), np.abs(unloc_energies[::-1][:-1]))\n",
    "plt.vlines(5, ymin=1e-5, ymax=1e-1, color=\"k\", linestyle=\"--\")\n",
    "plt.vlines(18, ymin=1e-5, ymax=1e-1, color=\"k\", linestyle=\"--\")\n",
    "plt.vlines(31, ymin=1e-5, ymax=1e-1, color=\"k\", linestyle=\"--\")\n",
    "plt.hlines(1.5e-3, xmin=5, xmax=33, color=\"red\", linestyle=\"--\", linewidth=0.5)\n",
    "\n",
    "plt.title(\"Ethanamine (3act) 6-31G\")\n",
    "plt.ylabel(\"CCSD Energy Error (Hartree)\")\n",
    "plt.xlabel(\"Number of MOs\")\n",
    "plt.legend([\"Concentric Localization\", \"Raw MOs\"])"
   ]
  },
  {
   "cell_type": "markdown",
   "metadata": {},
   "source": [
    "Black lines show the position of CL shells.\n",
    "\n",
    "The red line shows the cutoff for chemical accuracy (1.5mHa)"
   ]
  },
  {
   "cell_type": "markdown",
   "metadata": {},
   "source": [
    "### PySCF methods"
   ]
  },
  {
   "cell_type": "code",
   "execution_count": null,
   "metadata": {},
   "outputs": [],
   "source": [
    "# get xyz file for water\n",
    "\n",
    "notebook_dir = os.getcwd()\n",
    "docs_dir = os.path.dirname(notebook_dir)\n",
    "NBed_dir = os.path.dirname(docs_dir)\n",
    "Test_dir = os.path.join(NBed_dir, \"tests\")\n",
    "mol_dir = os.path.join(Test_dir, \"molecules\")\n",
    "\n",
    "water_xyz_path = os.path.join(mol_dir, \"water.xyz\")"
   ]
  },
  {
   "cell_type": "code",
   "execution_count": null,
   "metadata": {},
   "outputs": [],
   "source": [
    "### inputs\n",
    "from pyscf import gto, scf\n",
    "\n",
    "basis = \"STO-3G\"\n",
    "charge = 0\n",
    "spin = 0\n",
    "full_system_mol = gto.Mole(\n",
    "    atom=water_xyz_path,\n",
    "    basis=basis,\n",
    "    charge=charge,\n",
    "    spin=spin,\n",
    ")\n",
    "full_system_mol.build()\n",
    "\n",
    "HF_scf = scf.RHF(full_system_mol)\n",
    "HF_scf.verbose = 1\n",
    "HF_scf.conv_tol = 1e-6\n",
    "HF_scf.kernel()\n",
    "###"
   ]
  },
  {
   "cell_type": "code",
   "execution_count": null,
   "metadata": {},
   "outputs": [],
   "source": [
    "from nbed.localizers import (\n",
    "    BOYSLocalizer,\n",
    "    IBOLocalizer,\n",
    "    Localizer,\n",
    "    PMLocalizer,\n",
    "    SPADELocalizer,\n",
    ")"
   ]
  },
  {
   "cell_type": "code",
   "execution_count": null,
   "metadata": {},
   "outputs": [],
   "source": [
    "localizers = {\n",
    "    \"spade\": SPADELocalizer,\n",
    "    \"boys\": BOYSLocalizer,\n",
    "    \"ibo\": IBOLocalizer,\n",
    "    \"pipek-mezey\": PMLocalizer,\n",
    "}"
   ]
  },
  {
   "cell_type": "code",
   "execution_count": null,
   "metadata": {},
   "outputs": [],
   "source": [
    "n_active_atoms = 2  # (first n rows are active in xyz file)\n",
    "loc_str = \"boys\"  # <--- change to perform different localization\n",
    "threshold = 0.95\n",
    "\n",
    "\n",
    "## object runs localization when initialized!\n",
    "loc_system = localizers[loc_str](\n",
    "    HF_scf,\n",
    "    n_active_atoms,\n",
    ")"
   ]
  },
  {
   "cell_type": "code",
   "execution_count": null,
   "metadata": {},
   "outputs": [],
   "source": [
    "print(f\"active MO inds: {loc_system.active_MO_inds}\")\n",
    "print(f\"enviro MO inds: {loc_system.enviro_MO_inds}\")\n",
    "\n",
    "\n",
    "# orb threshold\n",
    "if loc_str != \"spade\":\n",
    "    print(\"Localized MO threshold:\", loc_system.enviro_selection_condition)\n",
    "    print(f\"indices above {threshold} set active\")\n",
    "    # indices above threshold (usually 95%) set to active"
   ]
  },
  {
   "cell_type": "code",
   "execution_count": null,
   "metadata": {},
   "outputs": [],
   "source": [
    "dm_localised_full_system = 2 * loc_system._c_loc_occ @ loc_system._c_loc_occ.conj().T\n",
    "dm_active = loc_system.dm_active\n",
    "dm_enviro = loc_system.dm_enviro\n",
    "\n",
    "# check act and env density give the full density\n",
    "print(\n",
    "    f\"does: y_full = y_act + y_env ... {np.allclose(dm_localised_full_system, dm_active + dm_enviro)}\"\n",
    ")\n",
    "\n",
    "\n",
    "# check number of electrons is still the same after orbitals have been localized (change of basis)\n",
    "s_ovlp = loc_system._global_ks.get_ovlp()\n",
    "n_active_electrons = np.trace(dm_active @ s_ovlp)\n",
    "n_enviro_electrons = np.trace(dm_enviro @ s_ovlp)\n",
    "\n",
    "\n",
    "# check number of electrons is correct\n",
    "print(\n",
    "    f\"does: n_elec_full = n_elec_act + n_elec_env ... {np.allclose(HF_scf.mol.nelectron, n_active_electrons+n_enviro_electrons)}\"\n",
    ")"
   ]
  },
  {
   "cell_type": "code",
   "execution_count": null,
   "metadata": {},
   "outputs": [],
   "source": [
    "# active MOs\n",
    "loc_system.c_active"
   ]
  },
  {
   "cell_type": "code",
   "execution_count": null,
   "metadata": {},
   "outputs": [],
   "source": [
    "# enviro MOs\n",
    "loc_system.c_enviro"
   ]
  },
  {
   "cell_type": "code",
   "execution_count": null,
   "metadata": {},
   "outputs": [],
   "source": [
    "# full localized C matrix\n",
    "loc_system."
   ]
  },
  {
   "cell_type": "code",
   "execution_count": null,
   "metadata": {},
   "outputs": [],
   "source": [
    "# to get active and environment C matrix slice this array using active_MO_inds and enviro_MO_inds\n",
    "\n",
    "## e.g. for environment\n",
    "np.allclose(\n",
    "    loc_system.c_loc_occ_and_virt[:, loc_system.enviro_MO_inds], loc_system.c_enviro\n",
    ")"
   ]
  },
  {
   "cell_type": "markdown",
   "metadata": {},
   "source": [
    "See notebook 1 on how to plot these LOCALIZED orbitals\n",
    "\n",
    "use c_loc_occ_and_virt / c_active / c_enviroment to plot localized orbitals"
   ]
  }
 ],
 "metadata": {
  "kernelspec": {
   "display_name": "nbed",
   "language": "python",
   "name": "python3"
  },
  "language_info": {
   "codemirror_mode": {
    "name": "ipython",
    "version": 3
   },
   "file_extension": ".py",
   "mimetype": "text/x-python",
   "name": "python",
   "nbconvert_exporter": "python",
   "pygments_lexer": "ipython3",
   "version": "3.13.1"
  }
 },
 "nbformat": 4,
 "nbformat_minor": 4
}
