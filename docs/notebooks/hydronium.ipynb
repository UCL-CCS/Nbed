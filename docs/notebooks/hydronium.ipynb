{
 "cells": [
  {
   "cell_type": "markdown",
   "metadata": {},
   "source": [
    "Make the H5O2 xyz"
   ]
  },
  {
   "cell_type": "code",
   "execution_count": 6,
   "metadata": {},
   "outputs": [],
   "source": [
    "from nbed.utils import (\n",
    "    pubchem_mol_geometry,\n",
    "    build_ordered_xyz_string,\n",
    "    save_ordered_xyz_file,\n",
    ")\n",
    "import numpy as np\n",
    "\n",
    "water = pubchem_mol_geometry(\"water\")"
   ]
  },
  {
   "cell_type": "code",
   "execution_count": 7,
   "metadata": {},
   "outputs": [
    {
     "data": {
      "text/plain": [
       "{0: ('O', (0, 0, 0)),\n",
       " 1: ('H', (0.2774, 0.8929, 0.2544)),\n",
       " 2: ('H', (0.6068, -0.2383, -0.7169))}"
      ]
     },
     "execution_count": 7,
     "metadata": {},
     "output_type": "execute_result"
    }
   ],
   "source": [
    "water"
   ]
  },
  {
   "cell_type": "code",
   "execution_count": 8,
   "metadata": {},
   "outputs": [],
   "source": [
    "h1 = np.array(water[1][1])\n",
    "h2 = np.array(water[2][1])"
   ]
  },
  {
   "cell_type": "code",
   "execution_count": 9,
   "metadata": {},
   "outputs": [
    {
     "data": {
      "text/plain": [
       "0.9689889756853722"
      ]
     },
     "execution_count": 9,
     "metadata": {},
     "output_type": "execute_result"
    }
   ],
   "source": [
    "av_h_dist = (np.linalg.norm(h1) + np.linalg.norm(h2))/2\n",
    "av_h_dist"
   ]
  },
  {
   "cell_type": "code",
   "execution_count": 10,
   "metadata": {},
   "outputs": [],
   "source": [
    "# angle between the two H atoms\n",
    "h_angle = np.arccos(np.dot(water[1][1], water[2][1])/(np.sqrt(np.sum([w**2 for w in water[1][1]]))*np.sqrt(np.sum([w**2 for w in water[2][1]]))))"
   ]
  },
  {
   "cell_type": "code",
   "execution_count": 11,
   "metadata": {},
   "outputs": [],
   "source": [
    "hy = av_h_dist*np.sin(h_angle/2)\n",
    "hx = av_h_dist*np.cos(h_angle/2)"
   ]
  },
  {
   "cell_type": "code",
   "execution_count": 12,
   "metadata": {},
   "outputs": [
    {
     "data": {
      "text/plain": [
       "(0.5967028259526409, 0.7634693002995728)"
      ]
     },
     "execution_count": 12,
     "metadata": {},
     "output_type": "execute_result"
    }
   ],
   "source": [
    "hx, hy"
   ]
  },
  {
   "cell_type": "code",
   "execution_count": 13,
   "metadata": {},
   "outputs": [
    {
     "data": {
      "text/plain": [
       "{0: ('O', (0, 0, 0)),\n",
       " 1: ('H', (-0.5967028259526409, 0.7634693002995728, 0)),\n",
       " 2: ('H', (-0.5967028259526409, -0.7634693002995728, 0))}"
      ]
     },
     "execution_count": 13,
     "metadata": {},
     "output_type": "execute_result"
    }
   ],
   "source": [
    "new_water = {0: ('O', (0, 0, 0)), 1: ('H', (-hx, hy, 0)), 2: ('H', (-hx, -hy, 0))} \n",
    "new_water"
   ]
  },
  {
   "cell_type": "code",
   "execution_count": 14,
   "metadata": {},
   "outputs": [],
   "source": [
    "# make a function for setting up 2 water molecules\n",
    "\n",
    "def two_water_geometry(ox_dist: float, delta: float):\n",
    "    \"\"\"\n",
    "    Args:\n",
    "    ox_dist: distance between the two oxygen atoms\n",
    "    delta: proportion of distance between the two oxygen atoms to place the third H atom\n",
    "    \"\"\"\n",
    "\n",
    "    if not (0 < delta < 1):\n",
    "        raise ValueError(\"delta must be between 0 and 1\")\n",
    "\n",
    "    full_system = {}\n",
    "    full_system[0] = new_water[0]\n",
    "    full_system[1] = new_water[1]\n",
    "    full_system[2] = new_water[2]\n",
    "\n",
    "    full_system[3] = ('O', (ox_dist, 0, 0))\n",
    "    full_system[4] = ('H', (ox_dist - new_water[1][1][0], new_water[1][1][1], 0))\n",
    "    full_system[5] = ('H', (ox_dist - new_water[2][1][0], new_water[2][1][1], 0))\n",
    "\n",
    "    full_system[6] = ('H', (ox_dist*delta, 0, 0))\n",
    "\n",
    "    string_form = \"; \".join([f\"\"\"{f[0]} {f[1][0]} {f[1][1]} {f[1][2]}\"\"\" for f in full_system.values()])\n",
    "\n",
    "    return full_system, string_form\n",
    "                    "
   ]
  },
  {
   "cell_type": "code",
   "execution_count": 15,
   "metadata": {},
   "outputs": [
    {
     "name": "stderr",
     "output_type": "stream",
     "text": [
      "2024-05-07 16:31:31,360\tINFO worker.py:1673 -- Started a local Ray instance.\n"
     ]
    },
    {
     "name": "stdout",
     "output_type": "stream",
     "text": [
      "\u001b[36m(parallel_energies pid=4010348)\u001b[0m NAO:  15\n",
      "\u001b[36m(parallel_energies pid=4010348)\u001b[0m converged SCF energy = -146.858263358881\n",
      "\u001b[36m(parallel_energies pid=4010348)\u001b[0m E(CCSD) = -146.942623137233  E_corr = -0.08435977835226083\n",
      "\u001b[36m(parallel_energies pid=4010368)\u001b[0m \n",
      "\u001b[36m(parallel_energies pid=4010278)\u001b[0m NAO:  15\u001b[32m [repeated 230x across cluster] (Ray deduplicates logs by default. Set RAY_DEDUP_LOGS=0 to disable log deduplication, or see https://docs.ray.io/en/master/ray-observability/ray-logging.html#log-deduplication for more options.)\u001b[0m\n",
      "\u001b[36m(parallel_energies pid=4010335)\u001b[0m converged SCF energy = -149.595215875336\u001b[32m [repeated 225x across cluster]\u001b[0m\n",
      "\u001b[36m(parallel_energies pid=4010361)\u001b[0m E(CCSD) = -150.454626344761  E_corr = -0.1074817928456897\u001b[32m [repeated 215x across cluster]\u001b[0m\n",
      "\u001b[36m(parallel_energies pid=4010327)\u001b[0m \u001b[32m [repeated 2x across cluster]\u001b[0m\n",
      "\u001b[36m(parallel_energies pid=4010351)\u001b[0m NAO:  15\u001b[32m [repeated 165x across cluster]\u001b[0m\n",
      "\u001b[36m(parallel_energies pid=4010311)\u001b[0m converged SCF energy = -150.14858450414\u001b[32m [repeated 169x across cluster]\u001b[0m\n",
      "\u001b[36m(parallel_energies pid=4010311)\u001b[0m E(CCSD) = -150.2707050325717  E_corr = -0.1221205284315755\u001b[32m [repeated 176x across cluster]\u001b[0m\n"
     ]
    }
   ],
   "source": [
    "from pathlib import Path\n",
    "from pyscf import gto, scf, cc\n",
    "import ray\n",
    "\n",
    "@ray.remote\n",
    "def parallel_energies(o_dist, deltas):\n",
    "        energies = []\n",
    "        for delta in deltas:\n",
    "                _, pass_geo = two_water_geometry(o_dist, delta)\n",
    "                mol = gto.Mole(atom=pass_geo, basis='sto-3g', charge=1)\n",
    "                mol.build()\n",
    "                print(\"NAO: \", mol.nao)\n",
    "\n",
    "                hf = scf.RHF(mol).run()\n",
    "                ccsd = cc.CCSD(hf).run()\n",
    "                energies.append(ccsd.e_tot)\n",
    "        return energies\n",
    "\n",
    "energies = {}\n",
    "\n",
    "oo_distances = np.linspace(2, 5, 20)\n",
    "deltas = np.linspace(0.1, 0.5, 20)\n",
    "\n",
    "results = [parallel_energies.remote(o_dist, deltas) for o_dist in oo_distances]\n",
    "results = ray.get(results)\n",
    "for i, o_dist in enumerate(oo_distances):\n",
    "        energies[o_dist] = results[i]\n"
   ]
  },
  {
   "cell_type": "markdown",
   "metadata": {},
   "source": [
    "# Plot the Energy surface as a function of O-O distance and $\\delta_{O,H}$"
   ]
  },
  {
   "cell_type": "markdown",
   "metadata": {},
   "source": [
    "# Similar plot, but with normalized values to see the double well."
   ]
  },
  {
   "cell_type": "markdown",
   "metadata": {},
   "source": [
    "# Where does the behaviour change from a double well to a single well?"
   ]
  },
  {
   "cell_type": "code",
   "execution_count": 16,
   "metadata": {},
   "outputs": [
    {
     "name": "stdout",
     "output_type": "stream",
     "text": [
      "Single well at distance: 2.0\n",
      "Single well at distance: 2.1578947368421053\n",
      "Single well at distance: 2.3157894736842106\n",
      "Single well at distance: 2.473684210526316\n"
     ]
    }
   ],
   "source": [
    "for d, e in energies.items():\n",
    "    if np.all(np.array(e)[1:]-np.array(e)[:-1] < 0):\n",
    "        print(f\"Single well at distance: {d}\")"
   ]
  },
  {
   "cell_type": "code",
   "execution_count": 17,
   "metadata": {},
   "outputs": [
    {
     "data": {
      "text/plain": [
       "1.8147923504529797"
      ]
     },
     "execution_count": 17,
     "metadata": {},
     "output_type": "execute_result"
    },
    {
     "name": "stdout",
     "output_type": "stream",
     "text": [
      "\u001b[36m(parallel_energies pid=4010351)\u001b[0m E(CCSD) = -150.135011196176  E_corr = -0.1206074588371728\n"
     ]
    }
   ],
   "source": [
    "h_angle"
   ]
  },
  {
   "cell_type": "code",
   "execution_count": 18,
   "metadata": {},
   "outputs": [],
   "source": [
    "Oy = 3*np.sin(h_angle/2)\n",
    "Ox = 3*np.cos(h_angle/2)\n",
    "o1_os = Oy, Ox"
   ]
  },
  {
   "cell_type": "code",
   "execution_count": 19,
   "metadata": {},
   "outputs": [],
   "source": [
    "h1_pos = np.sqrt(3**2 + av_h_dist**2)*np.sin(h_angle/2), np.sqrt(3**2 + av_h_dist**2)*np.cos(h_angle/2)"
   ]
  },
  {
   "cell_type": "code",
   "execution_count": 20,
   "metadata": {},
   "outputs": [
    {
     "data": {
      "text/plain": [
       "0.1526083859242315"
      ]
     },
     "execution_count": 20,
     "metadata": {},
     "output_type": "execute_result"
    }
   ],
   "source": [
    "# distance from h1 to o1\n",
    "h1_o1 = np.sqrt((h1_pos[0] - o1_os[0])**2 + (h1_pos[1] - o1_os[1])**2)\n",
    "h1_o1"
   ]
  },
  {
   "cell_type": "code",
   "execution_count": 21,
   "metadata": {},
   "outputs": [],
   "source": [
    "def hydronium_geometry(ox_dist: float, delta: float):\n",
    "    \"\"\"\n",
    "    Args:\n",
    "    ox_dist: distance between the two oxygen atoms\n",
    "    delta: proportion of distance between the two oxygen atoms to place the third H atom\n",
    "    \"\"\"\n",
    "\n",
    "    if not (0 < delta < 1):\n",
    "        raise ValueError(\"delta must be between 0 and 1\")\n",
    "\n",
    "    full_system = {}\n",
    "    full_system[0] = new_water[0]\n",
    "    full_system[1] = new_water[1]\n",
    "    full_system[2] = new_water[2]\n",
    "\n",
    "    full_system[3] = ('O', (ox_dist, 0, 0))\n",
    "    full_system[4] = ('H', (ox_dist - new_water[1][1][0], new_water[1][1][1], 0))\n",
    "    full_system[5] = ('H', (ox_dist - new_water[2][1][0], new_water[2][1][1], 0))\n",
    "\n",
    "    full_system[6] = ('H', (ox_dist*delta, 0, 0))\n",
    "\n",
    "    o1x = -2.363708936191661\n",
    "    o1y = 1.8473981879843033\n",
    "    h_dist = 0.9689889756853722\n",
    "\n",
    "    full_system[7] = ('O', (o1x, o1y, 0))\n",
    "    full_system[8] = ('H', (o1x - h_dist, o1y, 0))\n",
    "    full_system[9] = ('H', (o1x + h_dist*np.cos(np.pi-h_angle), o1y + h_dist*np.sin(np.pi - h_angle), 0))\n",
    "\n",
    "    full_system[10] = ('O', (o1x, -o1y, 0))\n",
    "    full_system[11] = ('H', (o1x - h_dist, -o1y, 0))\n",
    "    full_system[12] = ('H', (o1x + h_dist*np.cos(np.pi-h_angle), -o1y - h_dist*np.sin(np.pi - h_angle), 0))\n",
    "\n",
    "    string_form = \"\\n\".join([f\"\"\"{f[0]}\\t{f[1][0]}\\t{f[1][1]}\\t{f[1][2]}\"\"\" for f in full_system.values()])\n",
    "\n",
    "    return full_system, string_form"
   ]
  },
  {
   "cell_type": "code",
   "execution_count": 23,
   "metadata": {},
   "outputs": [],
   "source": [
    "from nbed.utils import (\n",
    "    pubchem_mol_geometry,\n",
    "    build_ordered_xyz_string,\n",
    "    save_ordered_xyz_file,\n",
    ")\n",
    "\n",
    "hgeo, hgeostring = two_water_geometry(3, 0.5)\n",
    "\n",
    "hgeo_ordered_string = build_ordered_xyz_string(dict(hgeo), [0,3,6])"
   ]
  },
  {
   "cell_type": "code",
   "execution_count": null,
   "metadata": {},
   "outputs": [],
   "source": [
    "# from pathlib import Path\n",
    "# from pyscf import gto, scf, cc\n",
    "\n",
    "# hydronium_energies = {}\n",
    "\n",
    "# oo_distances = np.linspace(2, 5, 20)\n",
    "# deltas = np.linspace(0.1, 0.5, 20)\n",
    "\n",
    "# for o_dist in oo_distances:\n",
    "#     hydronium_energies[o_dist] = []\n",
    "#     for delta in deltas:\n",
    "#         _, pass_geo = hydronium_geometry(o_dist, delta)\n",
    "#         mol = gto.Mole(atom=pass_geo, basis='sto-3g', charge=1)\n",
    "#         mol.build()\n",
    "\n",
    "#         hf = scf.RHF(mol).run()\n",
    "#         ccsd = cc.CCSD(hf).run()\n",
    "#         hydronium_energies[o_dist].append(ccsd.e_tot)\n",
    "\n",
    "# print(\"NAO: \", mol.nao)"
   ]
  },
  {
   "cell_type": "code",
   "execution_count": null,
   "metadata": {},
   "outputs": [],
   "source": [
    "# %matplotlib ipympl\n",
    "\n",
    "# x = deltas\n",
    "# y = oo_distances\n",
    "\n",
    "# X, Y = np.meshgrid(x, y)\n",
    "# Z = np.array([e for e in hydronium_energies.values()])\n",
    "\n",
    "# import matplotlib.pyplot as plt\n",
    "# from mpl_toolkits.mplot3d import Axes3D\n",
    "# # 3d plot the surface\n",
    "# ax = plt.axes(projection='3d')\n",
    "# ax.plot_surface(X, Y, Z, cmap='viridis')\n",
    "# plt.show()"
   ]
  },
  {
   "cell_type": "code",
   "execution_count": null,
   "metadata": {},
   "outputs": [],
   "source": [
    "# %matplotlib ipympl\n",
    "\n",
    "# x = deltas\n",
    "# y = oo_distances\n",
    "\n",
    "# X, Y = np.meshgrid(x, y)\n",
    "# Z = np.array([(e-np.min(e))/(np.max(e)-np.min(e)) for e in hydronium_energies.values()])\n",
    "\n",
    "# import matplotlib.pyplot as plt\n",
    "# from mpl_toolkits.mplot3d import Axes3D\n",
    "# # 3d plot the surface\n",
    "\n",
    "# ax = plt.axes(projection='3d')\n",
    "# ax.plot_surface(X, Y, Z, cmap='viridis')\n",
    "# plt.show()"
   ]
  },
  {
   "cell_type": "code",
   "execution_count": null,
   "metadata": {},
   "outputs": [],
   "source": [
    "from nbed.driver import NbedDriver\n",
    "\n",
    "args = {\n",
    "    \"geometry\": hgeo_ordered_string,\n",
    "    \"n_active_atoms\": 3,\n",
    "    \"basis\": \"sto-3g\",\n",
    "    \"xc_functional\": \"b3lyp\",\n",
    "    \"projector\": \"both\",\n",
    "    \"localization\": \"spade\",\n",
    "    \"convergence\": 1e-6,\n",
    "    \"max_ram_memory\": 8_000,\n",
    "    \"charge\":1,\n",
    "    \"spin\":0,\n",
    "}\n",
    "\n",
    "driver = NbedDriver(**args)"
   ]
  },
  {
   "cell_type": "code",
   "execution_count": null,
   "metadata": {},
   "outputs": [],
   "source": [
    "from qiskit_nature.second_q.operators import FermionicOp\n",
    "from qiskit.quantum_info import Pauli, SparsePauliOp\n",
    "\n",
    "import numpy as np\n",
    "from math import ceil, log2\n",
    "from copy import copy \n",
    "\n",
    "def num2binstr(n):\n",
    "    return bin(n)[2:]\n",
    "\n",
    "def lowbit(x):\n",
    "    return x & (-x)\n",
    "\n",
    "def generate_perms(n, until): \n",
    "    \"\"\"\n",
    "    (a math tool)\n",
    "    Return a list of numbers with `n` ones in their binary expressions in ascending order. \n",
    "    The last element in the list does not exceed `until`.\n",
    "    \n",
    "    Args:\n",
    "        n (int) : number of ones\n",
    "        until (int) : upper bound of list elements\n",
    "    \n",
    "    Returns:\n",
    "        ([Int]) : the generated list\n",
    "    \"\"\"\n",
    "    a = 2 ** n - 1\n",
    "    perms = [num2binstr(a)]\n",
    "    while(True):\n",
    "        a = a + lowbit(a) + lowbit(1 + a // lowbit(a)) // 2 - 1\n",
    "        if (a > until):\n",
    "            break\n",
    "        else:\n",
    "            perms.append(num2binstr(a))\n",
    "            \n",
    "    max_length = len(perms[-1])\n",
    "    perms = list(map(lambda s: ('0' * (max_length - len(s)) + s), perms))\n",
    "    return perms\n",
    "\n",
    "def all_config(num_so, num_e): \n",
    "    until = 2 ** (num_so) - 1\n",
    "    n = num_e\n",
    "    configs = []\n",
    "    for i in generate_perms(n, until):\n",
    "        configs.append(i)\n",
    "    return configs\n",
    "\n",
    "def default_labeling(configs):\n",
    "    q2o = {}  ## qubit label to occupation numbers\n",
    "    o2q = {}  ## occupation numbers to qubit label\n",
    "    num_qubits = ceil(log2(len(configs)))\n",
    "    for idx, config in enumerate(configs):\n",
    "        q_label = '0' * (num_qubits - len(num2binstr(idx))) + num2binstr(idx)\n",
    "        q2o[q_label] = config\n",
    "        o2q[config] = q_label\n",
    "    return q2o, o2q\n",
    "\n",
    "def reverse_labeling(configs):\n",
    "    q2o = {}  ## qubit label to occupation numbers\n",
    "    o2q = {}  ## occupation numbers to qubit label\n",
    "    num_qubits = ceil(log2(len(configs)))\n",
    "    for idx, config in enumerate(configs):\n",
    "        idx = 2**num_qubits - idx -1\n",
    "        q_label = '0' * (num_qubits - len(num2binstr(idx))) + num2binstr(idx)\n",
    "        q2o[q_label] = config\n",
    "        o2q[config] = q_label\n",
    "    return q2o, o2q\n",
    "\n",
    "def possible_excitations(num_so):\n",
    "    excitations = set()\n",
    "    for i in range(num_so):\n",
    "        for j in range(i+1):\n",
    "            excitations.add((i, j))\n",
    "    return excitations\n",
    "\n",
    "def label2Pauli(s):\n",
    "    \"\"\"\n",
    "    Convert a Pauli string into Pauli object. \n",
    "    Note that the qubits are labelled in descending order: 'IXYZ' represents I_3 X_2 Y_1 Z_0\n",
    "    \n",
    "    Args: \n",
    "        s (str) : string representation of a Pauli term\n",
    "    \n",
    "    Returns:\n",
    "        qiskit.quantum_info.Pauli: Pauli object of s\n",
    "    \"\"\"\n",
    "    \n",
    "    xs = []\n",
    "    zs = []\n",
    "    label2XZ = {'I': (0, 0), 'X': (1, 0), 'Y': (1, 1), 'Z': (0, 1)}\n",
    "    for c in s[::-1]:\n",
    "        x, z = label2XZ[c]\n",
    "        xs.append(x)\n",
    "        zs.append(z)\n",
    "    return Pauli(z = zs, x = xs)\n",
    "\n",
    "\n",
    "def get_entry_operators(num_so, num_e, labeling_method, mode):\n",
    "    \"\"\"\n",
    "        Entry-operators are tensor products of some of the following operators: ['+', '-', '1', '0']. \n",
    "        '+' and '-' are qubit creation/annihilation operators, respectively. \n",
    "        '1' and '0' are counting operators for qubit state 1 and 0, respectively.\n",
    "        Note that '+' = (X-iY)/2, '-' = (X+iY)/2, '1' = (I-Z)/2, '0' = (I+Z)/2.\n",
    "\n",
    "        This function considers all possible excitations and calculates corresponding excitation oprators\n",
    "        in terms of entry-operators. \n",
    "\n",
    "        Args:\n",
    "            num_so (int) : Number of spin-orbitals(must be even).\n",
    "            num_e (int) : Number of electrons(must be even).\n",
    "            labeling_method (function) : \n",
    "                It maps each electron occupation configuration to a qubit computational basis state.\n",
    "                By default it uses `default_labeling` method. \n",
    "                If it is set to `None`, default method will be used. \n",
    "                Please make sure that the input/output types match that of the `default_labeling` function.\n",
    "        Returns:\n",
    "            (tuple(int, dict(tuple(int, int), list(tuple(float, str))))):\n",
    "                First nubmer in the tuple is total required number of qubits. \n",
    "                The second element is the mapping dictionary whose keys are indices of excitations\n",
    "                ((i, j)->'a_i^ a_j'), and its values are list of entry-operators(str) with corresponding\n",
    "                coefficients(float).\n",
    "\n",
    "    \"\"\"\n",
    "    hopping_in_entry = {('0', '0'): '0',\n",
    "                        ('1', '1'): '1',\n",
    "                        ('0', '1'): '+',\n",
    "                        ('1', '0'): '-'} ## (from, to)\n",
    "    if mode == 'rhf':\n",
    "        mapping = {}\n",
    "        configs = all_config(num_so // 2, num_e // 2)\n",
    "        half_qubits = int(ceil(log2(len(configs))))\n",
    "        q2o, o2q = labeling_method(configs)\n",
    "        excitations = possible_excitations(num_so // 2)\n",
    "\n",
    "        def dual(s):\n",
    "            return s[half_qubits:] + s[:half_qubits]\n",
    "\n",
    "        for i, j in excitations:\n",
    "            mapping[(i, j)] = []\n",
    "            mapping[(i + num_so//2, j + num_so//2)] = []\n",
    "            for c in configs:\n",
    "                N = len(c)\n",
    "                creation = N - i - 1\n",
    "                annihilation = N - j - 1\n",
    "                if c[creation] == '0' and c[annihilation] == '1':\n",
    "                    hopped_c = c[: creation] + '1' + c[creation + 1 : annihilation] + '0' + c[annihilation + 1 :]\n",
    "                    parity = 1 - 2 * (sum([int(i) for i in c[creation + 1 : annihilation]]) % 2)\n",
    "                    entry_op = ''\n",
    "                    for q0, q in zip(o2q[c], o2q[hopped_c]):\n",
    "                        entry_op += hopping_in_entry[(q0, q)]\n",
    "                    entry_op += ('I' * half_qubits) \n",
    "                    mapping[(i, j)].append((parity, entry_op))\n",
    "                    mapping[(i + num_so//2, j + num_so//2)].append((parity, dual(entry_op)))\n",
    "                elif creation == annihilation and c[creation] == '1':\n",
    "                    entry_op = ''\n",
    "                    for q in o2q[c]: \n",
    "                        entry_op += hopping_in_entry[(q, q)]\n",
    "                    entry_op += ('I' * half_qubits)\n",
    "                    mapping[(i, j)].append((1, entry_op))\n",
    "                    mapping[(i + num_so//2, j + num_so//2)].append((1, dual(entry_op)))\n",
    "        return 2 * half_qubits, mapping\n",
    "\n",
    "    if mode == 'uhf' or mode == 'stacked_rhf':\n",
    "        if mode == 'uhf':\n",
    "            configs = all_config(num_so, num_e)\n",
    "            excitations = possible_excitations(num_so)\n",
    "        else :\n",
    "            sub_configs = all_config(num_so // 2, num_e // 2)\n",
    "            configs = []\n",
    "            for i in sub_configs:\n",
    "                for j in sub_configs:\n",
    "                    configs.append(i + j)\n",
    "            excitations = possible_excitations(num_so // 2)\n",
    "            for p, q in excitations.copy():\n",
    "                excitations.add((p + num_so // 2, q + num_so // 2))\n",
    "\n",
    "        mapping = {}\n",
    "        num_qubits = int(ceil(log2(len(configs))))\n",
    "        q2o, o2q = labeling_method(configs)\n",
    "        \n",
    "        for i, j in excitations:\n",
    "            mapping[(i, j)] = []\n",
    "            for c in configs:\n",
    "                N = len(c)\n",
    "                creation = N - i - 1\n",
    "                annihilation = N - j - 1\n",
    "                if c[creation] == '0' and c[annihilation] == '1':\n",
    "                    hopped_c = c[: creation] + '1' + c[creation + 1 : annihilation] + '0' + c[annihilation + 1 :]\n",
    "                    parity = 1 - 2 * (sum([int(i) for i in c[creation + 1 : annihilation]]) % 2)\n",
    "                    entry_op = ''\n",
    "                    for q0, q in zip(o2q[c], o2q[hopped_c]):\n",
    "                        entry_op += hopping_in_entry[(q0, q)]\n",
    "                    mapping[(i, j)].append((parity, entry_op))\n",
    "                elif creation == annihilation and c[creation] == '1':\n",
    "                    entry_op = ''\n",
    "                    for q in o2q[c]: \n",
    "                        entry_op += hopping_in_entry[(q, q)]\n",
    "                    mapping[(i, j)].append((1, entry_op))\n",
    "        return num_qubits, mapping\n",
    "\n",
    "\n",
    "def operator2labels(operators_with_coef, index=0, num_qubits=0):\n",
    "    # terminate the recursion when the pointer position (index) is larger than the length of the operator\n",
    "    if index == num_qubits:\n",
    "        return operators_with_coef\n",
    "    # the matrix here means X, Y, Z, I, 0, 1, +, - at the specified pointer position (index)\n",
    "    matrix = operators_with_coef[0][1][index]\n",
    "    # go to the next loop when there's no 0, 1, +, - at the specified position\n",
    "    if matrix in ['X', 'Y', 'Z', 'I']:\n",
    "        return operator2labels(operators_with_coef, index+1, num_qubits)\n",
    "    # define a new [coef, operator] list so that each of the [coef, operator] pair can be\n",
    "    # separated into two terms with pauli matrix representation at the specified position\n",
    "    new_operators_with_coef = []\n",
    "    if matrix == '0':\n",
    "        for [coef, operator] in operators_with_coef:\n",
    "            first_op = operator[:index] + 'I' + operator[index+1:]\n",
    "            second_op = operator[:index] + 'Z' + operator[index+1:]\n",
    "            new_operators_with_coef.append([0.5*coef, first_op])\n",
    "            new_operators_with_coef.append([0.5*coef, second_op])\n",
    "    elif matrix == '1':\n",
    "        for [coef, operator] in operators_with_coef:\n",
    "            first_op = operator[:index] + 'I' + operator[index+1:]\n",
    "            second_op = operator[:index] + 'Z' + operator[index+1:]\n",
    "            new_operators_with_coef.append([0.5*coef, first_op])\n",
    "            new_operators_with_coef.append([-0.5*coef, second_op])\n",
    "    elif matrix == '+':\n",
    "        for [coef, operator] in operators_with_coef:\n",
    "            first_op = operator[:index] + 'X' + operator[index+1:]\n",
    "            second_op = operator[:index] + 'Y' + operator[index+1:]\n",
    "            new_operators_with_coef.append([0.5*coef, first_op])\n",
    "            new_operators_with_coef.append([-0.5j*coef, second_op])\n",
    "    elif matrix == '-':\n",
    "        for [coef, operator] in operators_with_coef:\n",
    "            first_op = operator[:index] + 'X' + operator[index+1:]\n",
    "            second_op = operator[:index] + 'Y' + operator[index+1:]\n",
    "            new_operators_with_coef.append([0.5*coef, first_op])\n",
    "            new_operators_with_coef.append([0.5j*coef, second_op]) \n",
    "    return operator2labels(new_operators_with_coef, index+1, num_qubits)\n",
    "\n",
    "\n",
    "# add the `coef` parameter\n",
    "import ray \n",
    "def get_naive_mapping_from_entry(entry_operators, num_qubits=None):\n",
    "    \"\"\"\n",
    "    Get the naive mapping from a given entry_operator dictionary \n",
    "\n",
    "    Returns:\n",
    "        naive_mapping (dict((tuple(int, int)), qiskit.quantum_info.Pauli)): \n",
    "            mapping, which should be passed into `complete_mapping`, \n",
    "            from some of the allowed a_p^ a_q to Pauli operator\n",
    "    \"\"\"\n",
    "    # naive_mapping = {}\n",
    "    # for (i, j) in entry_operators.keys():\n",
    "    #     for (coef, operator) in entry_operators[(i, j)]:\n",
    "    #         if (i, j) not in naive_mapping:\n",
    "    #             naive_mapping[(i, j)] = operator2SparsePauliOp(operator, coef, num_qubits)\n",
    "    #         else:\n",
    "    #             naive_mapping[(i, j)] += operator2SparsePauliOp(operator, coef, num_qubits)\n",
    "    # return naive_mapping\n",
    "\n",
    "    @ray.remote\n",
    "    def map_ij(i,j, num_qubits=None):\n",
    "        mapping = None\n",
    "\n",
    "        def operator2SparsePauliOp(operator, coef=1, num_qubits=None):\n",
    "            pauli_labels = operator2labels([[coef, operator]], num_qubits=num_qubits)\n",
    "            coeffs = [c for (c, l) in pauli_labels]\n",
    "            labels = [l for (c, l) in pauli_labels]\n",
    "            return SparsePauliOp(data=labels, coeffs=coeffs)\n",
    "        \n",
    "        results = [operator2SparsePauliOp(operator, coef, num_qubits) for (coef, operator) in entry_operators[(i, j)]]\n",
    "        for op in results:\n",
    "            if mapping is None:\n",
    "                mapping = op\n",
    "            else:\n",
    "                mapping += op\n",
    "        return (i,j), mapping\n",
    "\n",
    "    naive_mapping = {}\n",
    "    results = [map_ij.remote(i,j, num_qubits) for (i, j) in entry_operators.keys()]\n",
    "    mappings = ray.get(results)\n",
    "    for mapping in mappings:\n",
    "        i, j = mapping[0]\n",
    "        op = mapping[1]\n",
    "        if (i, j) not in naive_mapping:\n",
    "            naive_mapping[(i, j)] = op\n",
    "        else:\n",
    "            naive_mapping[(i, j)] += op\n",
    "\n",
    "    return naive_mapping\n",
    "\n",
    "def complete_mapping(naive_mapping):\n",
    "    mapping = copy(naive_mapping)\n",
    "    for k, w in naive_mapping.items():\n",
    "        k1, k2 = k\n",
    "        if (k1 != k2) and ((k2, k1) not in naive_mapping.keys()):\n",
    "            new_k = (k2, k1)\n",
    "            new_paulis = w.paulis\n",
    "            new_coeffs = [np.conj(c) for c in w.coeffs]\n",
    "            mapping[new_k] = SparsePauliOp(data=new_paulis, coeffs=new_coeffs)\n",
    "    return mapping\n",
    "\n",
    "def fermionic2QubitMapping(num_so, num_e, labeling_method = default_labeling, mode = 'rhf'):\n",
    "    \"\"\"\n",
    "        Generate qubit mapping for given number of spin-orbitals and electrons \n",
    "        based on certain labeling method(from occupation configurations to qubit states).\n",
    "\n",
    "        Args:\n",
    "            num_so (int) : Number of spin-orbitals, must be even as we only consider RHF configuration.\n",
    "            num_e (int) : Number of electrons, must be even.\n",
    "            labeling_method (function) : \n",
    "                It maps each electron occupation configuration to a qubit computational basis state.\n",
    "                By default it uses `default_labeling` method. \n",
    "                If it is set to `None`, default method will be used. \n",
    "                Please make sure that the input/output types match that of the `default_labeling` function.\n",
    "\n",
    "        Returns:\n",
    "            (dict(tuple(int, int), SparsePauliOp)) : \n",
    "                A dictionary whose keys are indices of excitation operators((i, j)->'a_i^ a_j') \n",
    "                and values are corresponding Pauli operators(SparsePauliOp).\n",
    "                \n",
    "    \"\"\"\n",
    "    if labeling_method == None:\n",
    "        labeling_method = default_labeling\n",
    "    print(\"getting entry operators\")\n",
    "    num_qubits, entry_operators = get_entry_operators(num_so, num_e, labeling_method, mode)\n",
    "    print(\"getting naive mapping\")\n",
    "    naive_mapping = get_naive_mapping_from_entry(entry_operators, num_qubits)\n",
    "    print(naive_mapping.keys())\n",
    "    print(\"completing mapping\")\n",
    "    mapping = complete_mapping(naive_mapping)\n",
    "    print(mapping.keys())\n",
    "    return mapping"
   ]
  },
  {
   "cell_type": "code",
   "execution_count": null,
   "metadata": {},
   "outputs": [],
   "source": [
    "from qiskit_nature.second_q.operators import FermionicOp\n",
    "from qiskit.quantum_info import Pauli \n",
    "\n",
    "import numpy as np\n",
    "\n",
    "\n",
    "def kDelta(i, j):\n",
    "    return 1 * (i == j)\n",
    "\n",
    "def label2Pauli(s):\n",
    "    \"\"\"\n",
    "    Convert a Pauli string into Pauli object. \n",
    "    Note that the qubits are labelled in descending order: 'IXYZ' represents I_3 X_2 Y_1 Z_0\n",
    "    \n",
    "    Args: \n",
    "        s (str) : string representation of a Pauli term\n",
    "    \n",
    "    Returns:\n",
    "        qiskit.quantum_info.Pauli: Pauli object of s\n",
    "    \"\"\"\n",
    "    \n",
    "    xs = []\n",
    "    zs = []\n",
    "    label2XZ = {'I': (0, 0), 'X': (1, 0), 'Y': (1, 1), 'Z': (0, 1)}\n",
    "    for c in s[::-1]:\n",
    "        x, z = label2XZ[c]\n",
    "        xs.append(x)\n",
    "        zs.append(z)\n",
    "    return Pauli(z = zs, x = xs)\n",
    "\n",
    "\n",
    "class groupedFermionicOperator:\n",
    "    \"\"\"\n",
    "    An alternative representation (grouped-operator form) of `qiskit.chemistry.FermionicOperator`.\n",
    "    Two-electron terms (a_p^ a_q^ a_r a_s) are rearranged into products of (a_i^ a_j).\n",
    "    (a_n^, a_n are creation and annihilation operators, respectively, acting on the n-th qubit.)\n",
    "    \"\"\"\n",
    "    def __init__(self, ferOp, num_electron, labeling_method=None, mode='rhf'):\n",
    "        \"\"\"\n",
    "        This class rewrites a `FermionicOperator` into a grouped-operator form stored in `self.grouped_op`.\n",
    "        The `self.grouped_op` is a dictionary containing information of all one- and two-electron terms.\n",
    "        For a one-electron term h_pq=val, it is stored as {(p, q): val}.\n",
    "        For a two-electron term h_pqrs=val, it is first decomposed into products of one-electron terms,\n",
    "            e.g. a_p^ a_q^ a_r a_s = kDelta(q, r) * (a_p^ a_s) - (a_p^ a_r) * (a_q^ a_s).\n",
    "        In case (p, r) is not an allowed transition(due to spin restrictions etc), a_r and a_s \n",
    "        can be exchanged with an extra minus sign (handled by `parity` in the code.)\n",
    "        Finally, all two-electron terms can be decomposed into products of ALLOWED one-electron terms.\n",
    "        \n",
    "        The `mapping` is used to convert fermionic operators into qubit operators(typically Pauli terms).\n",
    "        It is a dictionary whose keys are indices of allowed transitions (e.g. (p, q) if a_p^ a_q is allowed) \n",
    "        and values are the Pauli term corresponding to a_p^ a_q.\n",
    "        \n",
    "        Args:\n",
    "            ferOp (qiskit.chemistry.FermionicOperator): second-quantized fermionic operator\n",
    "            num_electron (int): number of electron in the system\n",
    "            labeling_method (function):\n",
    "                It maps each electron occupation configuration to a qubit computational basis state.\n",
    "                (Please refer to docString of fermionic2QuantumMapping for details)\n",
    "            mode (str): it should be either 'rhf' or 'uhf'.\n",
    "                'rhf' mode:\n",
    "                    Same number of spin-up and spin-down electrons. \n",
    "                    Their configurations are encoded to qubits independently.\n",
    "                    (# of qubits = 2 * (ceil(log2(num_of_config(num_electron/2)))))\n",
    "                'stacked_rhf' mode:\n",
    "                    Same number of spin-up and spin-down electrons.\n",
    "                    All allowed configurations are encoded together\n",
    "                    (# of qubits = ceil(2 * log2(num_of_config(num_electron/2))))\n",
    "                'uhf' mode:\n",
    "                    No restriction on spin conservation. All configuration are encoded to qubits.\n",
    "                    (# of qubits = ceil(log2(num_of_config(num_electron))))\n",
    "        \"\"\"\n",
    "        self.grouped_op = {}\n",
    "        self.THRESHOLD = 1e-16\n",
    "        self.mapping = fermionic2QubitMapping(num_so = ferOp.num_spin_orbitals,\n",
    "                                             num_e = num_electron,\n",
    "                                             labeling_method = labeling_method,\n",
    "                                             mode = mode)\n",
    "        self.set_ferOp(ferOp)\n",
    "        # h1, h2 = np.copy(ferOp.h1), np.copy(ferOp.h2)\n",
    "        # it1 = np.nditer(h1, flags=['multi_index'])\n",
    "        # it2 = np.nditer(h2, flags=['multi_index'])\n",
    "        # for h in it1:\n",
    "        #     key = it1.multi_index\n",
    "        #     self._add_an_h1(h, key)\n",
    "        # for h in it2:\n",
    "        #     key = it2.multi_index\n",
    "        #     self._add_an_h2(h, key)\n",
    "\n",
    "    def set_ferOp(self, ferOp):\n",
    "        h1, h2 = np.copy(ferOp.h1), np.copy(ferOp.h2)\n",
    "        it1 = np.nditer(h1, flags=['multi_index'])\n",
    "        it2 = np.nditer(h2, flags=['multi_index'])\n",
    "        for h in it1:\n",
    "            key = it1.multi_index\n",
    "            self._add_an_h1(h, key)\n",
    "        for h in it2:\n",
    "            key = it2.multi_index\n",
    "            self._add_an_h2(h, key)\n",
    "        \n",
    "    def _add_an_h1(self, coef, pq):\n",
    "        \"\"\"\n",
    "            Add a single one-electron term into the grouped operator.  \n",
    "            \n",
    "            Args:\n",
    "                coef (complex) : value of one-electron integral\n",
    "                pq (tuple(int, int)): index of the one-electron term\n",
    "        \"\"\"\n",
    "        if(abs(coef) < self.THRESHOLD): return \n",
    "        if pq in self.grouped_op.keys():\n",
    "            self.grouped_op[pq] = self.grouped_op[pq] + coef\n",
    "        else:\n",
    "            self.grouped_op[pq] = coef\n",
    "    \n",
    "    def _add_an_h2(self, coef, pqrs):\n",
    "        \"\"\"\n",
    "            Add a single two-electron term into the grouped operator. \n",
    "            \n",
    "            Args:\n",
    "                coef (complex) : value of two-electron integral\n",
    "                pqrs (tuple(int, int, int, int)): index(in chemist notation) of the two-electron term\n",
    "        \"\"\"\n",
    "        if(abs(coef) < self.THRESHOLD): return \n",
    "        parity = 1\n",
    "        \n",
    "        ## Note that in FermionicOperator, index (p,q,r,s) represents a_p^ a_r^ a_s a_q: chemist notation\n",
    "        ## Here I use (p,q,r,s) to represent a_p^ a_q^ a_r a_s: physicist notation\n",
    "        ## Thus the re-ordering of h-indices is needed\n",
    "        p, s, q, r = pqrs\n",
    "\n",
    "        ## Handle the exchange of a_r a_s if direct transformation will give illegal transitions\n",
    "        if (((p, r) not in self.mapping.keys()) and ((r,p) not in self.mapping.keys())):\n",
    "            r, s = s, r\n",
    "            parity = -1\n",
    "            # print('Change to:', (p,q,r,s))\n",
    "            \n",
    "        ## a_p^ a_q^ a_r a_s = kDelta(q, r) * (a_p^ a_s) - (a_p^ a_r) * (a_q^ a_s)\n",
    "        self._add_an_h1(parity * coef * kDelta(q, r), (p, s))\n",
    "        mut_key = ((p, r), (q, s))\n",
    "        if mut_key in self.grouped_op.keys():\n",
    "            self.grouped_op[mut_key] -= coef * parity\n",
    "        else:\n",
    "            self.grouped_op[mut_key] = -coef * parity\n",
    "\n",
    "    def to_paulis(self, cpu_count=1):\n",
    "        \"\"\"\n",
    "        Convert the grouped fermionic operator into qubit operators (sum of Pauli terms)\n",
    "            Args:\n",
    "                    cpu_count (int) : number of CPUs (processes) to handle this function\n",
    "\n",
    "            Returns:\n",
    "                    (qiskit.aqua.operators.SparsePauliOp) : qubit operator transformed based on `self.mapping`\n",
    "        \"\"\"\n",
    "        \n",
    "        def get_qubit_Op(mapping, group_op_items):\n",
    "            \"\"\"\n",
    "            Get qubit operator from the transition and weights from group operators. A helper function of to_paulis\n",
    "                Args:\n",
    "                        group_op_items (group-operator form) : a partial list of key-value pairs from self.group_op\n",
    "\n",
    "                Returns:\n",
    "                        (qiskit.aqua.operators.SparsePauliOp) : qubit operator transformed based on `self.mapping`\n",
    "            \"\"\"\n",
    "            print(\"One Processor Processing...\")\n",
    "            paulis = []\n",
    "            coeffs = []\n",
    "            for items in group_op_items:\n",
    "                k,w = items\n",
    "                if np.ndim(k) == 1:  ## one-e-term\n",
    "                    paulis.append(mapping[k])\n",
    "                    coeffs.append(w)\n",
    "                elif np.ndim(k) == 2:  ## 2-e-term\n",
    "                    k1, k2 = k\n",
    "                    paulis.append(mapping[k1] * mapping[k2])\n",
    "                    coeffs.append(w)\n",
    "                else:\n",
    "                    raise ValueError('something wrong')\n",
    "            # qubitOp = SparsePauliOp(data=paulis, coeffs=coeffs)\n",
    "            print(\"One Processor Done...\")\n",
    "            print(paulis, coeffs)\n",
    "            return paulis, coeffs\n",
    "\n",
    "        @ray.remote\n",
    "        def get_qubit_Op_remote(mapping, group_op_items):\n",
    "            return get_qubit_Op(mapping, group_op_items)\n",
    "\n",
    "        grouped_ops = [(k,w) for k,w in self.grouped_op.items()]\n",
    "        mapping = self.mapping\n",
    "\n",
    "        if cpu_count == 1:\n",
    "            results = get_qubit_Op(mapping, grouped_ops)\n",
    "            results = ray.get(results)\n",
    "            for r in results:\n",
    "                p,c = r\n",
    "                if qubitOp is None:\n",
    "                    qubitOp = SparsePauliOp(data=p, coeffs=c)\n",
    "                qubitOp += SparsePauliOp(data=p, coeffs=c)\n",
    "            return qubitOp\n",
    "        \n",
    "        elif cpu_count > 1:\n",
    "            qubitOp = None\n",
    "            group_op_items_per_cpu = len(self.grouped_op.items()) // cpu_count + 1\n",
    "            ends = [group_op_items_per_cpu * (i + 1) for i in range(cpu_count)]\n",
    "            ends.append(len(self.grouped_op.items()))\n",
    "            starts = [0, *ends[:-1]]\n",
    "            results = [get_qubit_Op_remote.remote(mapping, grouped_ops[starts[i]:ends[i]])\n",
    "                       for i in range(cpu_count)]\n",
    "            results = ray.get(results)\n",
    "            for r in results:\n",
    "                p,c = r\n",
    "                if qubitOp is None:\n",
    "                    qubitOp = SparsePauliOp(data=p, coeffs=c)\n",
    "                qubitOp += SparsePauliOp(data=p, coeffs=c)\n",
    "            return qubitOp\n",
    "        else:\n",
    "            raise ValueError('CPU count has to be greater or equal to 1')"
   ]
  },
  {
   "cell_type": "code",
   "execution_count": null,
   "metadata": {},
   "outputs": [],
   "source": [
    "from qiskit_nature.second_q.operators import ElectronicIntegrals"
   ]
  },
  {
   "cell_type": "code",
   "execution_count": null,
   "metadata": {},
   "outputs": [],
   "source": [
    "driver.embedded_scf[0].mo_occ"
   ]
  },
  {
   "cell_type": "code",
   "execution_count": null,
   "metadata": {},
   "outputs": [],
   "source": [
    "[*range(2, 17)]"
   ]
  },
  {
   "cell_type": "code",
   "execution_count": null,
   "metadata": {},
   "outputs": [],
   "source": [
    "driver.cl_shells"
   ]
  },
  {
   "cell_type": "code",
   "execution_count": 32,
   "metadata": {},
   "outputs": [
    {
     "name": "stderr",
     "output_type": "stream",
     "text": [
      "Warning: <pyscf.gto.mole.Mole object at 0x14753926f4f0> must be initialized before calling SCF.\n",
      "Initialize <pyscf.gto.mole.Mole object at 0x14753926f4f0> in <pyscf.dft.rks.RKS object at 0x14753926f1f0>\n",
      "Warning: <pyscf.gto.mole.Mole object at 0x14753926fca0> must be initialized before calling SCF.\n",
      "Initialize <pyscf.gto.mole.Mole object at 0x14753926fca0> in <pyscf.dft.rks.RKS object at 0x14753926f400>\n",
      "2024-05-07 16:43:50,708: nbed.driver: WARNING: Outputting both mu and huzinaga embedding results as tuple.\n"
     ]
    }
   ],
   "source": [
    "from nbed.driver import NbedDriver\n",
    "\n",
    "args = {\n",
    "    \"geometry\": hgeo_ordered_string,\n",
    "    \"n_active_atoms\": 3,\n",
    "    \"basis\": \"sto-3g\",\n",
    "    \"xc_functional\": \"b3lyp\",\n",
    "    \"projector\": \"both\",\n",
    "    \"localization\": \"spade\",\n",
    "    \"convergence\": 1e-6,\n",
    "    \"max_ram_memory\": 8_000,\n",
    "    \"charge\":1,\n",
    "    \"spin\":0,\n",
    "    \"run_virtual_localization\": True\n",
    "}\n",
    "\n",
    "driver = NbedDriver(**args)"
   ]
  },
  {
   "cell_type": "code",
   "execution_count": 33,
   "metadata": {},
   "outputs": [
    {
     "data": {
      "text/plain": [
       "[10, 11]"
      ]
     },
     "execution_count": 33,
     "metadata": {},
     "output_type": "execute_result"
    }
   ],
   "source": [
    "driver.cl_shells"
   ]
  },
  {
   "cell_type": "code",
   "execution_count": 34,
   "metadata": {},
   "outputs": [],
   "source": [
    "from nbed.ham_builder import HamiltonianBuilder\n",
    "\n",
    "hb = HamiltonianBuilder(driver.embedded_scf[0])"
   ]
  },
  {
   "cell_type": "code",
   "execution_count": null,
   "metadata": {},
   "outputs": [],
   "source": [
    "core_constant, one_body, two_body = hb._reduce_active_space(hb._one_body_integrals, \n",
    "                                                            hb._two_body_integrals, \n",
    "                                                            [0,1], [*range(2, driver.cl_shells[-1])])\n",
    "\n",
    "ei_object = ElectronicIntegrals.from_raw_integrals(h1_a=one_body[0],\n",
    "                                                   h2_aa = two_body[0],\n",
    "                                                   h1_b = one_body[1],\n",
    "                                                   h2_bb = two_body[1],\n",
    "                                                   h2_ba = two_body[3],\n",
    "                                                   )\n",
    "\n",
    "fermion_op = FermionicOp.from_polynomial_tensor(ei_object.second_q_coeffs())\n",
    "# Old fermionic operator had h1 and h2 attributes stored as spinorb form\n",
    "h1spinorb, h2spinorb = hb._spinorb_from_spatial(one_body, two_body)\n",
    "fermion_op.h1 = h1spinorb\n",
    "fermion_op.h2 = h2spinorb\n"
   ]
  },
  {
   "cell_type": "markdown",
   "metadata": {},
   "source": [
    "Try doing a reduction using HamiltonianBuilder\n",
    "- get reduced one and two body integrals"
   ]
  },
  {
   "cell_type": "code",
   "execution_count": null,
   "metadata": {},
   "outputs": [],
   "source": [
    "gfop = groupedFermionicOperator(fermion_op, sum(driver.embedded_scf[0].nelec), mode='rhf')\n",
    "mapkeys = gfop.mapping.keys()\n",
    "print(mapkeys)\n"
   ]
  },
  {
   "cell_type": "code",
   "execution_count": null,
   "metadata": {},
   "outputs": [],
   "source": [
    "gfop.entry_operators.keys()"
   ]
  },
  {
   "cell_type": "code",
   "execution_count": null,
   "metadata": {},
   "outputs": [],
   "source": [
    "len(set([k for k in gfop.grouped_op.keys() if np.ndim(k) == 1])), len(set([k for k in gfop.grouped_op.keys() if np.ndim(k) == 2]))\n",
    "len(mapkeys)"
   ]
  },
  {
   "cell_type": "markdown",
   "metadata": {},
   "source": [
    "## Map keys vs grouped op keys\n",
    "\n",
    "Why dont we have all the keys we seem to need?"
   ]
  },
  {
   "cell_type": "code",
   "execution_count": null,
   "metadata": {},
   "outputs": [],
   "source": [
    "qubitOp = gfop.to_paulis(cpu_count=1)"
   ]
  },
  {
   "cell_type": "code",
   "execution_count": null,
   "metadata": {},
   "outputs": [],
   "source": [
    "from qiskit.aqua.algorithms import NumPyEigensolver\n",
    "result_exact = NumPyEigensolver(qubitOp).run()\n",
    "energy_exact = (np.real(result_exact.eigenvalues))[0]\n",
    "print(energy_exact)\n",
    "\n",
    "qubitOpJW = ferOp.mapping(map_type='jordan_wigner', threshold=1e-6)\n",
    "result_exactJW = NumPyEigensolver(qubitOpJW).run()\n",
    "energy_exactJW = (np.real(result_exactJW.eigenvalues))[0]\n",
    "print(energy_exactJW)"
   ]
  }
 ],
 "metadata": {
  "kernelspec": {
   "display_name": "nbed-1_9TTDE1-py3.10",
   "language": "python",
   "name": "python3"
  },
  "language_info": {
   "codemirror_mode": {
    "name": "ipython",
    "version": 3
   },
   "file_extension": ".py",
   "mimetype": "text/x-python",
   "name": "python",
   "nbconvert_exporter": "python",
   "pygments_lexer": "ipython3",
   "version": "3.9.16"
  }
 },
 "nbformat": 4,
 "nbformat_minor": 2
}
