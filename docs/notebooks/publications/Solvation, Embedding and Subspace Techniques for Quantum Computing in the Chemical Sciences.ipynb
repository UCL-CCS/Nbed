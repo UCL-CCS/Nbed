{
 "cells": [
  {
   "cell_type": "markdown",
   "metadata": {},
   "source": [
    "# Solvation, Embedding and Subspace Techniques for Quantum Computing in the Chemical Sciences\n",
    "\n",
    "## Results for Perfluoromethane Bond Dissociation"
   ]
  },
  {
   "cell_type": "code",
   "execution_count": 12,
   "metadata": {},
   "outputs": [],
   "source": [
    "\"\"\"Tools to plot molecular orbitals.\"\"\"\n",
    "\n",
    "import logging\n",
    "import os\n",
    "from typing import List\n",
    "\n",
    "import numpy as np\n",
    "import py3Dmol\n",
    "from pyscf import gto\n",
    "from pyscf.tools import cubegen\n",
    "\n",
    "logger = logging.getLogger(__name__)\n",
    "\n",
    "\n",
    "def Draw_molecule(\n",
    "    xyz_string: str, width: int = 400, height: int = 400, style: str = \"sphere\"\n",
    ") -> py3Dmol.view:\n",
    "    \"\"\"Draw molecule from xyz string.\n",
    "\n",
    "    Note if molecule has unrealistic bonds, then style should be sphere. Otherwise stick style can be used\n",
    "    which shows bonds.\n",
    "\n",
    "    TODO: more styles at http://3dmol.csb.pitt.edu/doc/$3Dmol.GLViewer.html\n",
    "\n",
    "    Args:\n",
    "        xyz_string (str): xyz string of molecule\n",
    "        width (int): width of image\n",
    "        height (int): Height of image\n",
    "        style (str): py3Dmol style ('sphere' or 'stick')\n",
    "\n",
    "    Returns:\n",
    "        view (py3dmol.view object). Run view.show() method to print molecule.\n",
    "    \"\"\"\n",
    "    logger.debug(\"Drawing molecule.\")\n",
    "    if style == \"sphere\":\n",
    "        view = py3Dmol.view(\n",
    "            data=xyz_string,\n",
    "            style={\"sphere\": {\"radius\": 0.2}},\n",
    "            width=width,\n",
    "            height=height,\n",
    "        )\n",
    "    elif style == \"stick\":\n",
    "        view = py3Dmol.view(\n",
    "            data=xyz_string, style={\"stick\": {}}, width=width, height=height\n",
    "        )\n",
    "    elif style == \"line\":\n",
    "        view = py3Dmol.view(\n",
    "            data=xyz_string, style={\"line\":{\"linewidth\":16}}, width=width, height=height\n",
    "        )\n",
    "    else:\n",
    "        raise ValueError(f\"unknown py3dmol style: {style}\")\n",
    "\n",
    "    view.zoomTo()\n",
    "    return view\n",
    "\n",
    "\n",
    "def draw_cube_orbital(\n",
    "    PySCF_mol_obj: gto.Mole,\n",
    "    xyz_string: str,\n",
    "    C_matrix: np.ndarray,\n",
    "    index_list: List[int],\n",
    "    width: int = 400,\n",
    "    height: int = 400,\n",
    "    style: str = \"sphere\",\n",
    ") -> List:\n",
    "    \"\"\"Draw orbials given a C_matrix and xyz string of molecule.\n",
    "\n",
    "    This function writes orbitals to tempory cube files then deletes them.\n",
    "    For standard use the C_matrix input should be C_matrix optimized by a self consistent field (SCF) run.\n",
    "    Note if molecule has unrealistic bonds, then style should be set to sphere.\n",
    "\n",
    "    Args:\n",
    "        PySCF_mol_obj (pyscf.mol): PySCF mol object. Required for pyscf.tools.cubegen function\n",
    "        xyz_string (str): xyz string of molecule\n",
    "        C_matrix (np.array): Numpy array of molecular orbitals (columns are MO).\n",
    "        index_list (List): List of MO indices to plot\n",
    "        width (int): width of image\n",
    "        height (int): Height of image\n",
    "        style (str): py3Dmol style ('sphere' or 'stick')\n",
    "\n",
    "    Returns:\n",
    "        plotted_orbitals (List): List of plotted orbitals (py3Dmol.view) ordered the same way as in index_list\n",
    "    \"\"\"\n",
    "    logger.debug(\"Drawing cube orbital.\")\n",
    "    if not set(index_list).issubset(set(range(C_matrix.shape[1]))):\n",
    "        raise ValueError(\n",
    "            \"list of MO indices to plot is outside of C_matrix column indices\"\n",
    "        )\n",
    "\n",
    "    plotted_orbitals = []\n",
    "    for index in index_list:\n",
    "        File_name = f\"temp_MO_orbital_index{index}.cube\"\n",
    "        cubegen.orbital(PySCF_mol_obj, File_name, C_matrix[:, index])\n",
    "\n",
    "        view = py3Dmol.view(width=width, height=height)\n",
    "        view.addModel(xyz_string, \"xyz\")\n",
    "        if style == \"sphere\":\n",
    "            view.setStyle({\"sphere\": {\"radius\": 0.2}})\n",
    "        elif style == \"stick\":\n",
    "            view.setStyle({\"stick\": {}})\n",
    "        else:\n",
    "            raise ValueError(f\"unknown py3dmol style: {style}\")\n",
    "\n",
    "        with open(File_name, \"r\") as f:\n",
    "            view.addVolumetricData(\n",
    "                f.read(), \"cube\", {\"isoval\": -0.02, \"color\": \"red\", \"opacity\": 0.75}\n",
    "            )\n",
    "        with open(File_name, \"r\") as f2:\n",
    "            view.addVolumetricData(\n",
    "                f2.read(), \"cube\", {\"isoval\": 0.02, \"color\": \"blue\", \"opacity\": 0.75}\n",
    "            )\n",
    "\n",
    "        plotted_orbitals.append(view.zoomTo())\n",
    "        os.remove(File_name)  # delete file once orbital is drawn\n",
    "\n",
    "    return plotted_orbitals"
   ]
  },
  {
   "cell_type": "markdown",
   "metadata": {},
   "source": [
    "## Generate Geometries"
   ]
  },
  {
   "cell_type": "code",
   "execution_count": 13,
   "metadata": {},
   "outputs": [
    {
     "ename": "URLError",
     "evalue": "<urlopen error [SSL: CERTIFICATE_VERIFY_FAILED] certificate verify failed: self-signed certificate in certificate chain (_ssl.c:1018)>",
     "output_type": "error",
     "traceback": [
      "\u001b[31m---------------------------------------------------------------------------\u001b[39m",
      "\u001b[31mSSLCertVerificationError\u001b[39m                  Traceback (most recent call last)",
      "\u001b[36mFile \u001b[39m\u001b[32m/Library/Frameworks/Python.framework/Versions/3.13/lib/python3.13/urllib/request.py:1319\u001b[39m, in \u001b[36mAbstractHTTPHandler.do_open\u001b[39m\u001b[34m(self, http_class, req, **http_conn_args)\u001b[39m\n\u001b[32m   1318\u001b[39m \u001b[38;5;28;01mtry\u001b[39;00m:\n\u001b[32m-> \u001b[39m\u001b[32m1319\u001b[39m     \u001b[43mh\u001b[49m\u001b[43m.\u001b[49m\u001b[43mrequest\u001b[49m\u001b[43m(\u001b[49m\u001b[43mreq\u001b[49m\u001b[43m.\u001b[49m\u001b[43mget_method\u001b[49m\u001b[43m(\u001b[49m\u001b[43m)\u001b[49m\u001b[43m,\u001b[49m\u001b[43m \u001b[49m\u001b[43mreq\u001b[49m\u001b[43m.\u001b[49m\u001b[43mselector\u001b[49m\u001b[43m,\u001b[49m\u001b[43m \u001b[49m\u001b[43mreq\u001b[49m\u001b[43m.\u001b[49m\u001b[43mdata\u001b[49m\u001b[43m,\u001b[49m\u001b[43m \u001b[49m\u001b[43mheaders\u001b[49m\u001b[43m,\u001b[49m\n\u001b[32m   1320\u001b[39m \u001b[43m              \u001b[49m\u001b[43mencode_chunked\u001b[49m\u001b[43m=\u001b[49m\u001b[43mreq\u001b[49m\u001b[43m.\u001b[49m\u001b[43mhas_header\u001b[49m\u001b[43m(\u001b[49m\u001b[33;43m'\u001b[39;49m\u001b[33;43mTransfer-encoding\u001b[39;49m\u001b[33;43m'\u001b[39;49m\u001b[43m)\u001b[49m\u001b[43m)\u001b[49m\n\u001b[32m   1321\u001b[39m \u001b[38;5;28;01mexcept\u001b[39;00m \u001b[38;5;167;01mOSError\u001b[39;00m \u001b[38;5;28;01mas\u001b[39;00m err: \u001b[38;5;66;03m# timeout error\u001b[39;00m\n",
      "\u001b[36mFile \u001b[39m\u001b[32m/Library/Frameworks/Python.framework/Versions/3.13/lib/python3.13/http/client.py:1336\u001b[39m, in \u001b[36mHTTPConnection.request\u001b[39m\u001b[34m(self, method, url, body, headers, encode_chunked)\u001b[39m\n\u001b[32m   1335\u001b[39m \u001b[38;5;250m\u001b[39m\u001b[33;03m\"\"\"Send a complete request to the server.\"\"\"\u001b[39;00m\n\u001b[32m-> \u001b[39m\u001b[32m1336\u001b[39m \u001b[38;5;28;43mself\u001b[39;49m\u001b[43m.\u001b[49m\u001b[43m_send_request\u001b[49m\u001b[43m(\u001b[49m\u001b[43mmethod\u001b[49m\u001b[43m,\u001b[49m\u001b[43m \u001b[49m\u001b[43murl\u001b[49m\u001b[43m,\u001b[49m\u001b[43m \u001b[49m\u001b[43mbody\u001b[49m\u001b[43m,\u001b[49m\u001b[43m \u001b[49m\u001b[43mheaders\u001b[49m\u001b[43m,\u001b[49m\u001b[43m \u001b[49m\u001b[43mencode_chunked\u001b[49m\u001b[43m)\u001b[49m\n",
      "\u001b[36mFile \u001b[39m\u001b[32m/Library/Frameworks/Python.framework/Versions/3.13/lib/python3.13/http/client.py:1382\u001b[39m, in \u001b[36mHTTPConnection._send_request\u001b[39m\u001b[34m(self, method, url, body, headers, encode_chunked)\u001b[39m\n\u001b[32m   1381\u001b[39m     body = _encode(body, \u001b[33m'\u001b[39m\u001b[33mbody\u001b[39m\u001b[33m'\u001b[39m)\n\u001b[32m-> \u001b[39m\u001b[32m1382\u001b[39m \u001b[38;5;28;43mself\u001b[39;49m\u001b[43m.\u001b[49m\u001b[43mendheaders\u001b[49m\u001b[43m(\u001b[49m\u001b[43mbody\u001b[49m\u001b[43m,\u001b[49m\u001b[43m \u001b[49m\u001b[43mencode_chunked\u001b[49m\u001b[43m=\u001b[49m\u001b[43mencode_chunked\u001b[49m\u001b[43m)\u001b[49m\n",
      "\u001b[36mFile \u001b[39m\u001b[32m/Library/Frameworks/Python.framework/Versions/3.13/lib/python3.13/http/client.py:1331\u001b[39m, in \u001b[36mHTTPConnection.endheaders\u001b[39m\u001b[34m(self, message_body, encode_chunked)\u001b[39m\n\u001b[32m   1330\u001b[39m     \u001b[38;5;28;01mraise\u001b[39;00m CannotSendHeader()\n\u001b[32m-> \u001b[39m\u001b[32m1331\u001b[39m \u001b[38;5;28;43mself\u001b[39;49m\u001b[43m.\u001b[49m\u001b[43m_send_output\u001b[49m\u001b[43m(\u001b[49m\u001b[43mmessage_body\u001b[49m\u001b[43m,\u001b[49m\u001b[43m \u001b[49m\u001b[43mencode_chunked\u001b[49m\u001b[43m=\u001b[49m\u001b[43mencode_chunked\u001b[49m\u001b[43m)\u001b[49m\n",
      "\u001b[36mFile \u001b[39m\u001b[32m/Library/Frameworks/Python.framework/Versions/3.13/lib/python3.13/http/client.py:1091\u001b[39m, in \u001b[36mHTTPConnection._send_output\u001b[39m\u001b[34m(self, message_body, encode_chunked)\u001b[39m\n\u001b[32m   1090\u001b[39m \u001b[38;5;28;01mdel\u001b[39;00m \u001b[38;5;28mself\u001b[39m._buffer[:]\n\u001b[32m-> \u001b[39m\u001b[32m1091\u001b[39m \u001b[38;5;28;43mself\u001b[39;49m\u001b[43m.\u001b[49m\u001b[43msend\u001b[49m\u001b[43m(\u001b[49m\u001b[43mmsg\u001b[49m\u001b[43m)\u001b[49m\n\u001b[32m   1093\u001b[39m \u001b[38;5;28;01mif\u001b[39;00m message_body \u001b[38;5;129;01mis\u001b[39;00m \u001b[38;5;129;01mnot\u001b[39;00m \u001b[38;5;28;01mNone\u001b[39;00m:\n\u001b[32m   1094\u001b[39m \n\u001b[32m   1095\u001b[39m     \u001b[38;5;66;03m# create a consistent interface to message_body\u001b[39;00m\n",
      "\u001b[36mFile \u001b[39m\u001b[32m/Library/Frameworks/Python.framework/Versions/3.13/lib/python3.13/http/client.py:1035\u001b[39m, in \u001b[36mHTTPConnection.send\u001b[39m\u001b[34m(self, data)\u001b[39m\n\u001b[32m   1034\u001b[39m \u001b[38;5;28;01mif\u001b[39;00m \u001b[38;5;28mself\u001b[39m.auto_open:\n\u001b[32m-> \u001b[39m\u001b[32m1035\u001b[39m     \u001b[38;5;28;43mself\u001b[39;49m\u001b[43m.\u001b[49m\u001b[43mconnect\u001b[49m\u001b[43m(\u001b[49m\u001b[43m)\u001b[49m\n\u001b[32m   1036\u001b[39m \u001b[38;5;28;01melse\u001b[39;00m:\n",
      "\u001b[36mFile \u001b[39m\u001b[32m/Library/Frameworks/Python.framework/Versions/3.13/lib/python3.13/http/client.py:1477\u001b[39m, in \u001b[36mHTTPSConnection.connect\u001b[39m\u001b[34m(self)\u001b[39m\n\u001b[32m   1475\u001b[39m     server_hostname = \u001b[38;5;28mself\u001b[39m.host\n\u001b[32m-> \u001b[39m\u001b[32m1477\u001b[39m \u001b[38;5;28mself\u001b[39m.sock = \u001b[38;5;28;43mself\u001b[39;49m\u001b[43m.\u001b[49m\u001b[43m_context\u001b[49m\u001b[43m.\u001b[49m\u001b[43mwrap_socket\u001b[49m\u001b[43m(\u001b[49m\u001b[38;5;28;43mself\u001b[39;49m\u001b[43m.\u001b[49m\u001b[43msock\u001b[49m\u001b[43m,\u001b[49m\n\u001b[32m   1478\u001b[39m \u001b[43m                                      \u001b[49m\u001b[43mserver_hostname\u001b[49m\u001b[43m=\u001b[49m\u001b[43mserver_hostname\u001b[49m\u001b[43m)\u001b[49m\n",
      "\u001b[36mFile \u001b[39m\u001b[32m/Library/Frameworks/Python.framework/Versions/3.13/lib/python3.13/ssl.py:455\u001b[39m, in \u001b[36mSSLContext.wrap_socket\u001b[39m\u001b[34m(self, sock, server_side, do_handshake_on_connect, suppress_ragged_eofs, server_hostname, session)\u001b[39m\n\u001b[32m    449\u001b[39m \u001b[38;5;28;01mdef\u001b[39;00m\u001b[38;5;250m \u001b[39m\u001b[34mwrap_socket\u001b[39m(\u001b[38;5;28mself\u001b[39m, sock, server_side=\u001b[38;5;28;01mFalse\u001b[39;00m,\n\u001b[32m    450\u001b[39m                 do_handshake_on_connect=\u001b[38;5;28;01mTrue\u001b[39;00m,\n\u001b[32m    451\u001b[39m                 suppress_ragged_eofs=\u001b[38;5;28;01mTrue\u001b[39;00m,\n\u001b[32m    452\u001b[39m                 server_hostname=\u001b[38;5;28;01mNone\u001b[39;00m, session=\u001b[38;5;28;01mNone\u001b[39;00m):\n\u001b[32m    453\u001b[39m     \u001b[38;5;66;03m# SSLSocket class handles server_hostname encoding before it calls\u001b[39;00m\n\u001b[32m    454\u001b[39m     \u001b[38;5;66;03m# ctx._wrap_socket()\u001b[39;00m\n\u001b[32m--> \u001b[39m\u001b[32m455\u001b[39m     \u001b[38;5;28;01mreturn\u001b[39;00m \u001b[38;5;28;43mself\u001b[39;49m\u001b[43m.\u001b[49m\u001b[43msslsocket_class\u001b[49m\u001b[43m.\u001b[49m\u001b[43m_create\u001b[49m\u001b[43m(\u001b[49m\n\u001b[32m    456\u001b[39m \u001b[43m        \u001b[49m\u001b[43msock\u001b[49m\u001b[43m=\u001b[49m\u001b[43msock\u001b[49m\u001b[43m,\u001b[49m\n\u001b[32m    457\u001b[39m \u001b[43m        \u001b[49m\u001b[43mserver_side\u001b[49m\u001b[43m=\u001b[49m\u001b[43mserver_side\u001b[49m\u001b[43m,\u001b[49m\n\u001b[32m    458\u001b[39m \u001b[43m        \u001b[49m\u001b[43mdo_handshake_on_connect\u001b[49m\u001b[43m=\u001b[49m\u001b[43mdo_handshake_on_connect\u001b[49m\u001b[43m,\u001b[49m\n\u001b[32m    459\u001b[39m \u001b[43m        \u001b[49m\u001b[43msuppress_ragged_eofs\u001b[49m\u001b[43m=\u001b[49m\u001b[43msuppress_ragged_eofs\u001b[49m\u001b[43m,\u001b[49m\n\u001b[32m    460\u001b[39m \u001b[43m        \u001b[49m\u001b[43mserver_hostname\u001b[49m\u001b[43m=\u001b[49m\u001b[43mserver_hostname\u001b[49m\u001b[43m,\u001b[49m\n\u001b[32m    461\u001b[39m \u001b[43m        \u001b[49m\u001b[43mcontext\u001b[49m\u001b[43m=\u001b[49m\u001b[38;5;28;43mself\u001b[39;49m\u001b[43m,\u001b[49m\n\u001b[32m    462\u001b[39m \u001b[43m        \u001b[49m\u001b[43msession\u001b[49m\u001b[43m=\u001b[49m\u001b[43msession\u001b[49m\n\u001b[32m    463\u001b[39m \u001b[43m    \u001b[49m\u001b[43m)\u001b[49m\n",
      "\u001b[36mFile \u001b[39m\u001b[32m/Library/Frameworks/Python.framework/Versions/3.13/lib/python3.13/ssl.py:1076\u001b[39m, in \u001b[36mSSLSocket._create\u001b[39m\u001b[34m(cls, sock, server_side, do_handshake_on_connect, suppress_ragged_eofs, server_hostname, context, session)\u001b[39m\n\u001b[32m   1075\u001b[39m                 \u001b[38;5;28;01mraise\u001b[39;00m \u001b[38;5;167;01mValueError\u001b[39;00m(\u001b[33m\"\u001b[39m\u001b[33mdo_handshake_on_connect should not be specified for non-blocking sockets\u001b[39m\u001b[33m\"\u001b[39m)\n\u001b[32m-> \u001b[39m\u001b[32m1076\u001b[39m             \u001b[38;5;28;43mself\u001b[39;49m\u001b[43m.\u001b[49m\u001b[43mdo_handshake\u001b[49m\u001b[43m(\u001b[49m\u001b[43m)\u001b[49m\n\u001b[32m   1077\u001b[39m \u001b[38;5;28;01mexcept\u001b[39;00m:\n",
      "\u001b[36mFile \u001b[39m\u001b[32m/Library/Frameworks/Python.framework/Versions/3.13/lib/python3.13/ssl.py:1372\u001b[39m, in \u001b[36mSSLSocket.do_handshake\u001b[39m\u001b[34m(self, block)\u001b[39m\n\u001b[32m   1371\u001b[39m         \u001b[38;5;28mself\u001b[39m.settimeout(\u001b[38;5;28;01mNone\u001b[39;00m)\n\u001b[32m-> \u001b[39m\u001b[32m1372\u001b[39m     \u001b[38;5;28;43mself\u001b[39;49m\u001b[43m.\u001b[49m\u001b[43m_sslobj\u001b[49m\u001b[43m.\u001b[49m\u001b[43mdo_handshake\u001b[49m\u001b[43m(\u001b[49m\u001b[43m)\u001b[49m\n\u001b[32m   1373\u001b[39m \u001b[38;5;28;01mfinally\u001b[39;00m:\n",
      "\u001b[31mSSLCertVerificationError\u001b[39m: [SSL: CERTIFICATE_VERIFY_FAILED] certificate verify failed: self-signed certificate in certificate chain (_ssl.c:1018)",
      "\nDuring handling of the above exception, another exception occurred:\n",
      "\u001b[31mURLError\u001b[39m                                  Traceback (most recent call last)",
      "\u001b[36mCell\u001b[39m\u001b[36m \u001b[39m\u001b[32mIn[13]\u001b[39m\u001b[32m, line 2\u001b[39m\n\u001b[32m      1\u001b[39m \u001b[38;5;28;01mfrom\u001b[39;00m\u001b[38;5;250m \u001b[39m\u001b[34;01mnbed\u001b[39;00m\u001b[34;01m.\u001b[39;00m\u001b[34;01mutils\u001b[39;00m\u001b[38;5;250m \u001b[39m\u001b[38;5;28;01mimport\u001b[39;00m pubchem_mol_geometry, build_ordered_xyz_string, save_ordered_xyz_file\n\u001b[32m----> \u001b[39m\u001b[32m2\u001b[39m pfm_string = build_ordered_xyz_string(\u001b[43mpubchem_mol_geometry\u001b[49m\u001b[43m(\u001b[49m\u001b[33;43m\"\u001b[39;49m\u001b[33;43mperfluoromethane\u001b[39;49m\u001b[33;43m\"\u001b[39;49m\u001b[43m)\u001b[49m, [\u001b[32m4\u001b[39m,\u001b[32m0\u001b[39m])\n",
      "\u001b[36mFile \u001b[39m\u001b[32m~/Code/Nbed/nbed/utils.py:100\u001b[39m, in \u001b[36mpubchem_mol_geometry\u001b[39m\u001b[34m(molecule_name)\u001b[39m\n\u001b[32m     80\u001b[39m \u001b[38;5;28;01mdef\u001b[39;00m\u001b[38;5;250m \u001b[39m\u001b[34mpubchem_mol_geometry\u001b[39m(molecule_name) -> \u001b[38;5;28mdict\u001b[39m:\n\u001b[32m     81\u001b[39m \u001b[38;5;250m    \u001b[39m\u001b[33;03m\"\"\"Wrapper of Openfermion function to extract geometry using the molecule's name from the PubChem.\u001b[39;00m\n\u001b[32m     82\u001b[39m \n\u001b[32m     83\u001b[39m \u001b[33;03m    Returns a dictionary of atomic type and xyz location, each indexed by dictionary key.\u001b[39;00m\n\u001b[32m   (...)\u001b[39m\u001b[32m     98\u001b[39m \n\u001b[32m     99\u001b[39m \u001b[33;03m    \"\"\"\u001b[39;00m\n\u001b[32m--> \u001b[39m\u001b[32m100\u001b[39m     geometry_pubchem = \u001b[43mgeometry_from_pubchem\u001b[49m\u001b[43m(\u001b[49m\u001b[43mmolecule_name\u001b[49m\u001b[43m,\u001b[49m\u001b[43m \u001b[49m\u001b[43mstructure\u001b[49m\u001b[43m=\u001b[49m\u001b[33;43m\"\u001b[39;49m\u001b[33;43m3d\u001b[39;49m\u001b[33;43m\"\u001b[39;49m\u001b[43m)\u001b[49m\n\u001b[32m    102\u001b[39m     \u001b[38;5;28;01mif\u001b[39;00m geometry_pubchem \u001b[38;5;129;01mis\u001b[39;00m \u001b[38;5;28;01mNone\u001b[39;00m:\n\u001b[32m    103\u001b[39m         \u001b[38;5;28;01mraise\u001b[39;00m \u001b[38;5;167;01mValueError\u001b[39;00m(\n\u001b[32m    104\u001b[39m             \u001b[33mf\u001b[39m\u001b[33m\"\"\"\u001b[39m\u001b[33mCould not find geometry of \u001b[39m\u001b[38;5;132;01m{\u001b[39;00mmolecule_name\u001b[38;5;132;01m}\u001b[39;00m\u001b[33m on PubChem...\u001b[39m\n\u001b[32m    105\u001b[39m \u001b[33m                                 make sure molecule input is a correct path to an xyz file or real molecule\u001b[39m\n\u001b[32m    106\u001b[39m \u001b[33m                                \u001b[39m\u001b[33m\"\"\"\u001b[39m\n\u001b[32m    107\u001b[39m         )\n",
      "\u001b[36mFile \u001b[39m\u001b[32m~/Code/Nbed/.venv/lib/python3.13/site-packages/openfermion/chem/pubchem.py:36\u001b[39m, in \u001b[36mgeometry_from_pubchem\u001b[39m\u001b[34m(name, structure)\u001b[39m\n\u001b[32m     33\u001b[39m \u001b[38;5;28;01mimport\u001b[39;00m\u001b[38;5;250m \u001b[39m\u001b[34;01mpubchempy\u001b[39;00m\n\u001b[32m     35\u001b[39m \u001b[38;5;28;01mif\u001b[39;00m structure \u001b[38;5;129;01min\u001b[39;00m [\u001b[33m'\u001b[39m\u001b[33m2d\u001b[39m\u001b[33m'\u001b[39m, \u001b[33m'\u001b[39m\u001b[33m3d\u001b[39m\u001b[33m'\u001b[39m]:\n\u001b[32m---> \u001b[39m\u001b[32m36\u001b[39m     pubchempy_molecule = \u001b[43mpubchempy\u001b[49m\u001b[43m.\u001b[49m\u001b[43mget_compounds\u001b[49m\u001b[43m(\u001b[49m\u001b[43mname\u001b[49m\u001b[43m,\u001b[49m\u001b[43m \u001b[49m\u001b[33;43m'\u001b[39;49m\u001b[33;43mname\u001b[39;49m\u001b[33;43m'\u001b[39;49m\u001b[43m,\u001b[49m\u001b[43m \u001b[49m\u001b[43mrecord_type\u001b[49m\u001b[43m=\u001b[49m\u001b[43mstructure\u001b[49m\u001b[43m)\u001b[49m\n\u001b[32m     37\u001b[39m \u001b[38;5;28;01melif\u001b[39;00m structure \u001b[38;5;129;01mis\u001b[39;00m \u001b[38;5;28;01mNone\u001b[39;00m:\n\u001b[32m     38\u001b[39m     \u001b[38;5;66;03m# Ideally get the 3-D geometry if available.\u001b[39;00m\n\u001b[32m     39\u001b[39m     pubchempy_molecule = pubchempy.get_compounds(name, \u001b[33m'\u001b[39m\u001b[33mname\u001b[39m\u001b[33m'\u001b[39m, record_type=\u001b[33m'\u001b[39m\u001b[33m3d\u001b[39m\u001b[33m'\u001b[39m)\n",
      "\u001b[36mFile \u001b[39m\u001b[32m~/Code/Nbed/.venv/lib/python3.13/site-packages/pubchempy.py:321\u001b[39m, in \u001b[36mget_compounds\u001b[39m\u001b[34m(identifier, namespace, searchtype, as_dataframe, **kwargs)\u001b[39m\n\u001b[32m    312\u001b[39m \u001b[38;5;28;01mdef\u001b[39;00m\u001b[38;5;250m \u001b[39m\u001b[34mget_compounds\u001b[39m(identifier, namespace=\u001b[33m'\u001b[39m\u001b[33mcid\u001b[39m\u001b[33m'\u001b[39m, searchtype=\u001b[38;5;28;01mNone\u001b[39;00m, as_dataframe=\u001b[38;5;28;01mFalse\u001b[39;00m, **kwargs):\n\u001b[32m    313\u001b[39m \u001b[38;5;250m    \u001b[39m\u001b[33;03m\"\"\"Retrieve the specified compound records from PubChem.\u001b[39;00m\n\u001b[32m    314\u001b[39m \n\u001b[32m    315\u001b[39m \u001b[33;03m    :param identifier: The compound identifier to use as a search query.\u001b[39;00m\n\u001b[32m   (...)\u001b[39m\u001b[32m    319\u001b[39m \u001b[33;03m                         :class:`~pandas.DataFrame` and return that.\u001b[39;00m\n\u001b[32m    320\u001b[39m \u001b[33;03m    \"\"\"\u001b[39;00m\n\u001b[32m--> \u001b[39m\u001b[32m321\u001b[39m     results = \u001b[43mget_json\u001b[49m\u001b[43m(\u001b[49m\u001b[43midentifier\u001b[49m\u001b[43m,\u001b[49m\u001b[43m \u001b[49m\u001b[43mnamespace\u001b[49m\u001b[43m,\u001b[49m\u001b[43m \u001b[49m\u001b[43msearchtype\u001b[49m\u001b[43m=\u001b[49m\u001b[43msearchtype\u001b[49m\u001b[43m,\u001b[49m\u001b[43m \u001b[49m\u001b[43m*\u001b[49m\u001b[43m*\u001b[49m\u001b[43mkwargs\u001b[49m\u001b[43m)\u001b[49m\n\u001b[32m    322\u001b[39m     compounds = [Compound(r) \u001b[38;5;28;01mfor\u001b[39;00m r \u001b[38;5;129;01min\u001b[39;00m results[\u001b[33m'\u001b[39m\u001b[33mPC_Compounds\u001b[39m\u001b[33m'\u001b[39m]] \u001b[38;5;28;01mif\u001b[39;00m results \u001b[38;5;28;01melse\u001b[39;00m []\n\u001b[32m    323\u001b[39m     \u001b[38;5;28;01mif\u001b[39;00m as_dataframe:\n",
      "\u001b[36mFile \u001b[39m\u001b[32m~/Code/Nbed/.venv/lib/python3.13/site-packages/pubchempy.py:299\u001b[39m, in \u001b[36mget_json\u001b[39m\u001b[34m(identifier, namespace, domain, operation, searchtype, **kwargs)\u001b[39m\n\u001b[32m    297\u001b[39m \u001b[38;5;250m\u001b[39m\u001b[33;03m\"\"\"Request wrapper that automatically parses JSON response and supresses NotFoundError.\"\"\"\u001b[39;00m\n\u001b[32m    298\u001b[39m \u001b[38;5;28;01mtry\u001b[39;00m:\n\u001b[32m--> \u001b[39m\u001b[32m299\u001b[39m     \u001b[38;5;28;01mreturn\u001b[39;00m json.loads(\u001b[43mget\u001b[49m\u001b[43m(\u001b[49m\u001b[43midentifier\u001b[49m\u001b[43m,\u001b[49m\u001b[43m \u001b[49m\u001b[43mnamespace\u001b[49m\u001b[43m,\u001b[49m\u001b[43m \u001b[49m\u001b[43mdomain\u001b[49m\u001b[43m,\u001b[49m\u001b[43m \u001b[49m\u001b[43moperation\u001b[49m\u001b[43m,\u001b[49m\u001b[43m \u001b[49m\u001b[33;43m'\u001b[39;49m\u001b[33;43mJSON\u001b[39;49m\u001b[33;43m'\u001b[39;49m\u001b[43m,\u001b[49m\u001b[43m \u001b[49m\u001b[43msearchtype\u001b[49m\u001b[43m,\u001b[49m\u001b[43m \u001b[49m\u001b[43m*\u001b[49m\u001b[43m*\u001b[49m\u001b[43mkwargs\u001b[49m\u001b[43m)\u001b[49m.decode())\n\u001b[32m    300\u001b[39m \u001b[38;5;28;01mexcept\u001b[39;00m NotFoundError \u001b[38;5;28;01mas\u001b[39;00m e:\n\u001b[32m    301\u001b[39m     log.info(e)\n",
      "\u001b[36mFile \u001b[39m\u001b[32m~/Code/Nbed/.venv/lib/python3.13/site-packages/pubchempy.py:292\u001b[39m, in \u001b[36mget\u001b[39m\u001b[34m(identifier, namespace, domain, operation, output, searchtype, **kwargs)\u001b[39m\n\u001b[32m    290\u001b[39m             response = request(identifier, namespace, domain, operation, output, searchtype, **kwargs).read()\n\u001b[32m    291\u001b[39m \u001b[38;5;28;01melse\u001b[39;00m:\n\u001b[32m--> \u001b[39m\u001b[32m292\u001b[39m     response = \u001b[43mrequest\u001b[49m\u001b[43m(\u001b[49m\u001b[43midentifier\u001b[49m\u001b[43m,\u001b[49m\u001b[43m \u001b[49m\u001b[43mnamespace\u001b[49m\u001b[43m,\u001b[49m\u001b[43m \u001b[49m\u001b[43mdomain\u001b[49m\u001b[43m,\u001b[49m\u001b[43m \u001b[49m\u001b[43moperation\u001b[49m\u001b[43m,\u001b[49m\u001b[43m \u001b[49m\u001b[43moutput\u001b[49m\u001b[43m,\u001b[49m\u001b[43m \u001b[49m\u001b[43msearchtype\u001b[49m\u001b[43m,\u001b[49m\u001b[43m \u001b[49m\u001b[43m*\u001b[49m\u001b[43m*\u001b[49m\u001b[43mkwargs\u001b[49m\u001b[43m)\u001b[49m.read()\n\u001b[32m    293\u001b[39m \u001b[38;5;28;01mreturn\u001b[39;00m response\n",
      "\u001b[36mFile \u001b[39m\u001b[32m~/Code/Nbed/.venv/lib/python3.13/site-packages/pubchempy.py:271\u001b[39m, in \u001b[36mrequest\u001b[39m\u001b[34m(identifier, namespace, domain, operation, output, searchtype, **kwargs)\u001b[39m\n\u001b[32m    269\u001b[39m     log.debug(\u001b[33m'\u001b[39m\u001b[33mRequest URL: \u001b[39m\u001b[38;5;132;01m%s\u001b[39;00m\u001b[33m'\u001b[39m, apiurl)\n\u001b[32m    270\u001b[39m     log.debug(\u001b[33m'\u001b[39m\u001b[33mRequest data: \u001b[39m\u001b[38;5;132;01m%s\u001b[39;00m\u001b[33m'\u001b[39m, postdata)\n\u001b[32m--> \u001b[39m\u001b[32m271\u001b[39m     response = \u001b[43murlopen\u001b[49m\u001b[43m(\u001b[49m\u001b[43mapiurl\u001b[49m\u001b[43m,\u001b[49m\u001b[43m \u001b[49m\u001b[43mpostdata\u001b[49m\u001b[43m)\u001b[49m\n\u001b[32m    272\u001b[39m     \u001b[38;5;28;01mreturn\u001b[39;00m response\n\u001b[32m    273\u001b[39m \u001b[38;5;28;01mexcept\u001b[39;00m HTTPError \u001b[38;5;28;01mas\u001b[39;00m e:\n",
      "\u001b[36mFile \u001b[39m\u001b[32m/Library/Frameworks/Python.framework/Versions/3.13/lib/python3.13/urllib/request.py:189\u001b[39m, in \u001b[36murlopen\u001b[39m\u001b[34m(url, data, timeout, context)\u001b[39m\n\u001b[32m    187\u001b[39m \u001b[38;5;28;01melse\u001b[39;00m:\n\u001b[32m    188\u001b[39m     opener = _opener\n\u001b[32m--> \u001b[39m\u001b[32m189\u001b[39m \u001b[38;5;28;01mreturn\u001b[39;00m \u001b[43mopener\u001b[49m\u001b[43m.\u001b[49m\u001b[43mopen\u001b[49m\u001b[43m(\u001b[49m\u001b[43murl\u001b[49m\u001b[43m,\u001b[49m\u001b[43m \u001b[49m\u001b[43mdata\u001b[49m\u001b[43m,\u001b[49m\u001b[43m \u001b[49m\u001b[43mtimeout\u001b[49m\u001b[43m)\u001b[49m\n",
      "\u001b[36mFile \u001b[39m\u001b[32m/Library/Frameworks/Python.framework/Versions/3.13/lib/python3.13/urllib/request.py:489\u001b[39m, in \u001b[36mOpenerDirector.open\u001b[39m\u001b[34m(self, fullurl, data, timeout)\u001b[39m\n\u001b[32m    486\u001b[39m     req = meth(req)\n\u001b[32m    488\u001b[39m sys.audit(\u001b[33m'\u001b[39m\u001b[33murllib.Request\u001b[39m\u001b[33m'\u001b[39m, req.full_url, req.data, req.headers, req.get_method())\n\u001b[32m--> \u001b[39m\u001b[32m489\u001b[39m response = \u001b[38;5;28;43mself\u001b[39;49m\u001b[43m.\u001b[49m\u001b[43m_open\u001b[49m\u001b[43m(\u001b[49m\u001b[43mreq\u001b[49m\u001b[43m,\u001b[49m\u001b[43m \u001b[49m\u001b[43mdata\u001b[49m\u001b[43m)\u001b[49m\n\u001b[32m    491\u001b[39m \u001b[38;5;66;03m# post-process response\u001b[39;00m\n\u001b[32m    492\u001b[39m meth_name = protocol+\u001b[33m\"\u001b[39m\u001b[33m_response\u001b[39m\u001b[33m\"\u001b[39m\n",
      "\u001b[36mFile \u001b[39m\u001b[32m/Library/Frameworks/Python.framework/Versions/3.13/lib/python3.13/urllib/request.py:506\u001b[39m, in \u001b[36mOpenerDirector._open\u001b[39m\u001b[34m(self, req, data)\u001b[39m\n\u001b[32m    503\u001b[39m     \u001b[38;5;28;01mreturn\u001b[39;00m result\n\u001b[32m    505\u001b[39m protocol = req.type\n\u001b[32m--> \u001b[39m\u001b[32m506\u001b[39m result = \u001b[38;5;28;43mself\u001b[39;49m\u001b[43m.\u001b[49m\u001b[43m_call_chain\u001b[49m\u001b[43m(\u001b[49m\u001b[38;5;28;43mself\u001b[39;49m\u001b[43m.\u001b[49m\u001b[43mhandle_open\u001b[49m\u001b[43m,\u001b[49m\u001b[43m \u001b[49m\u001b[43mprotocol\u001b[49m\u001b[43m,\u001b[49m\u001b[43m \u001b[49m\u001b[43mprotocol\u001b[49m\u001b[43m \u001b[49m\u001b[43m+\u001b[49m\n\u001b[32m    507\u001b[39m \u001b[43m                          \u001b[49m\u001b[33;43m'\u001b[39;49m\u001b[33;43m_open\u001b[39;49m\u001b[33;43m'\u001b[39;49m\u001b[43m,\u001b[49m\u001b[43m \u001b[49m\u001b[43mreq\u001b[49m\u001b[43m)\u001b[49m\n\u001b[32m    508\u001b[39m \u001b[38;5;28;01mif\u001b[39;00m result:\n\u001b[32m    509\u001b[39m     \u001b[38;5;28;01mreturn\u001b[39;00m result\n",
      "\u001b[36mFile \u001b[39m\u001b[32m/Library/Frameworks/Python.framework/Versions/3.13/lib/python3.13/urllib/request.py:466\u001b[39m, in \u001b[36mOpenerDirector._call_chain\u001b[39m\u001b[34m(self, chain, kind, meth_name, *args)\u001b[39m\n\u001b[32m    464\u001b[39m \u001b[38;5;28;01mfor\u001b[39;00m handler \u001b[38;5;129;01min\u001b[39;00m handlers:\n\u001b[32m    465\u001b[39m     func = \u001b[38;5;28mgetattr\u001b[39m(handler, meth_name)\n\u001b[32m--> \u001b[39m\u001b[32m466\u001b[39m     result = \u001b[43mfunc\u001b[49m\u001b[43m(\u001b[49m\u001b[43m*\u001b[49m\u001b[43margs\u001b[49m\u001b[43m)\u001b[49m\n\u001b[32m    467\u001b[39m     \u001b[38;5;28;01mif\u001b[39;00m result \u001b[38;5;129;01mis\u001b[39;00m \u001b[38;5;129;01mnot\u001b[39;00m \u001b[38;5;28;01mNone\u001b[39;00m:\n\u001b[32m    468\u001b[39m         \u001b[38;5;28;01mreturn\u001b[39;00m result\n",
      "\u001b[36mFile \u001b[39m\u001b[32m/Library/Frameworks/Python.framework/Versions/3.13/lib/python3.13/urllib/request.py:1367\u001b[39m, in \u001b[36mHTTPSHandler.https_open\u001b[39m\u001b[34m(self, req)\u001b[39m\n\u001b[32m   1366\u001b[39m \u001b[38;5;28;01mdef\u001b[39;00m\u001b[38;5;250m \u001b[39m\u001b[34mhttps_open\u001b[39m(\u001b[38;5;28mself\u001b[39m, req):\n\u001b[32m-> \u001b[39m\u001b[32m1367\u001b[39m     \u001b[38;5;28;01mreturn\u001b[39;00m \u001b[38;5;28;43mself\u001b[39;49m\u001b[43m.\u001b[49m\u001b[43mdo_open\u001b[49m\u001b[43m(\u001b[49m\u001b[43mhttp\u001b[49m\u001b[43m.\u001b[49m\u001b[43mclient\u001b[49m\u001b[43m.\u001b[49m\u001b[43mHTTPSConnection\u001b[49m\u001b[43m,\u001b[49m\u001b[43m \u001b[49m\u001b[43mreq\u001b[49m\u001b[43m,\u001b[49m\n\u001b[32m   1368\u001b[39m \u001b[43m                        \u001b[49m\u001b[43mcontext\u001b[49m\u001b[43m=\u001b[49m\u001b[38;5;28;43mself\u001b[39;49m\u001b[43m.\u001b[49m\u001b[43m_context\u001b[49m\u001b[43m)\u001b[49m\n",
      "\u001b[36mFile \u001b[39m\u001b[32m/Library/Frameworks/Python.framework/Versions/3.13/lib/python3.13/urllib/request.py:1322\u001b[39m, in \u001b[36mAbstractHTTPHandler.do_open\u001b[39m\u001b[34m(self, http_class, req, **http_conn_args)\u001b[39m\n\u001b[32m   1319\u001b[39m         h.request(req.get_method(), req.selector, req.data, headers,\n\u001b[32m   1320\u001b[39m                   encode_chunked=req.has_header(\u001b[33m'\u001b[39m\u001b[33mTransfer-encoding\u001b[39m\u001b[33m'\u001b[39m))\n\u001b[32m   1321\u001b[39m     \u001b[38;5;28;01mexcept\u001b[39;00m \u001b[38;5;167;01mOSError\u001b[39;00m \u001b[38;5;28;01mas\u001b[39;00m err: \u001b[38;5;66;03m# timeout error\u001b[39;00m\n\u001b[32m-> \u001b[39m\u001b[32m1322\u001b[39m         \u001b[38;5;28;01mraise\u001b[39;00m URLError(err)\n\u001b[32m   1323\u001b[39m     r = h.getresponse()\n\u001b[32m   1324\u001b[39m \u001b[38;5;28;01mexcept\u001b[39;00m:\n",
      "\u001b[31mURLError\u001b[39m: <urlopen error [SSL: CERTIFICATE_VERIFY_FAILED] certificate verify failed: self-signed certificate in certificate chain (_ssl.c:1018)>"
     ]
    }
   ],
   "source": [
    "from nbed.utils import pubchem_mol_geometry, build_ordered_xyz_string, save_ordered_xyz_file\n",
    "pfm_string = build_ordered_xyz_string(pubchem_mol_geometry(\"perfluoromethane\"), [4,0])\n"
   ]
  },
  {
   "cell_type": "code",
   "execution_count": 35,
   "metadata": {},
   "outputs": [
    {
     "name": "stdout",
     "output_type": "stream",
     "text": [
      "['5\\n\\n            C\\t0\\t0\\t0\\n            F\\t-0.05095\\t-0.5564\\t-0.37295\\n            F\\t-0.04\\t-0.3285\\t1.3021\\n            F\\t-1.0211\\t0.8254\\t-0.2852\\n            F\\t1.163\\t0.6159\\t-0.271\\n        ', '5\\n\\n            C\\t0\\t0\\t0\\n            F\\t-0.056045000000000005\\t-0.61204\\t-0.410245\\n            F\\t-0.04\\t-0.3285\\t1.3021\\n            F\\t-1.0211\\t0.8254\\t-0.2852\\n            F\\t1.163\\t0.6159\\t-0.271\\n        ', '5\\n\\n            C\\t0\\t0\\t0\\n            F\\t-0.06114\\t-0.6676799999999999\\t-0.44754\\n            F\\t-0.04\\t-0.3285\\t1.3021\\n            F\\t-1.0211\\t0.8254\\t-0.2852\\n            F\\t1.163\\t0.6159\\t-0.271\\n        ', '5\\n\\n            C\\t0\\t0\\t0\\n            F\\t-0.066235\\t-0.7233200000000001\\t-0.484835\\n            F\\t-0.04\\t-0.3285\\t1.3021\\n            F\\t-1.0211\\t0.8254\\t-0.2852\\n            F\\t1.163\\t0.6159\\t-0.271\\n        ', '5\\n\\n            C\\t0\\t0\\t0\\n            F\\t-0.07133\\t-0.77896\\t-0.52213\\n            F\\t-0.04\\t-0.3285\\t1.3021\\n            F\\t-1.0211\\t0.8254\\t-0.2852\\n            F\\t1.163\\t0.6159\\t-0.271\\n        ', '5\\n\\n            C\\t0\\t0\\t0\\n            F\\t-0.076425\\t-0.8346\\t-0.5594250000000001\\n            F\\t-0.04\\t-0.3285\\t1.3021\\n            F\\t-1.0211\\t0.8254\\t-0.2852\\n            F\\t1.163\\t0.6159\\t-0.271\\n        ', '5\\n\\n            C\\t0\\t0\\t0\\n            F\\t-0.08152000000000001\\t-0.89024\\t-0.59672\\n            F\\t-0.04\\t-0.3285\\t1.3021\\n            F\\t-1.0211\\t0.8254\\t-0.2852\\n            F\\t1.163\\t0.6159\\t-0.271\\n        ', '5\\n\\n            C\\t0\\t0\\t0\\n            F\\t-0.08661500000000001\\t-0.94588\\t-0.6340150000000001\\n            F\\t-0.04\\t-0.3285\\t1.3021\\n            F\\t-1.0211\\t0.8254\\t-0.2852\\n            F\\t1.163\\t0.6159\\t-0.271\\n        ', '5\\n\\n            C\\t0\\t0\\t0\\n            F\\t-0.09171\\t-1.00152\\t-0.6713100000000001\\n            F\\t-0.04\\t-0.3285\\t1.3021\\n            F\\t-1.0211\\t0.8254\\t-0.2852\\n            F\\t1.163\\t0.6159\\t-0.271\\n        ', '5\\n\\n            C\\t0\\t0\\t0\\n            F\\t-0.096805\\t-1.0571599999999999\\t-0.7086049999999999\\n            F\\t-0.04\\t-0.3285\\t1.3021\\n            F\\t-1.0211\\t0.8254\\t-0.2852\\n            F\\t1.163\\t0.6159\\t-0.271\\n        ', '5\\n\\n            C\\t0\\t0\\t0\\n            F\\t-0.1019\\t-1.1128\\t-0.7459\\n            F\\t-0.04\\t-0.3285\\t1.3021\\n            F\\t-1.0211\\t0.8254\\t-0.2852\\n            F\\t1.163\\t0.6159\\t-0.271\\n        ', '5\\n\\n            C\\t0\\t0\\t0\\n            F\\t-0.106995\\t-1.1684400000000001\\t-0.7831950000000001\\n            F\\t-0.04\\t-0.3285\\t1.3021\\n            F\\t-1.0211\\t0.8254\\t-0.2852\\n            F\\t1.163\\t0.6159\\t-0.271\\n        ', '5\\n\\n            C\\t0\\t0\\t0\\n            F\\t-0.11209000000000001\\t-1.22408\\t-0.82049\\n            F\\t-0.04\\t-0.3285\\t1.3021\\n            F\\t-1.0211\\t0.8254\\t-0.2852\\n            F\\t1.163\\t0.6159\\t-0.271\\n        ', '5\\n\\n            C\\t0\\t0\\t0\\n            F\\t-0.117185\\t-1.27972\\t-0.8577849999999999\\n            F\\t-0.04\\t-0.3285\\t1.3021\\n            F\\t-1.0211\\t0.8254\\t-0.2852\\n            F\\t1.163\\t0.6159\\t-0.271\\n        ', '5\\n\\n            C\\t0\\t0\\t0\\n            F\\t-0.12228000000000003\\t-1.33536\\t-0.8950800000000001\\n            F\\t-0.04\\t-0.3285\\t1.3021\\n            F\\t-1.0211\\t0.8254\\t-0.2852\\n            F\\t1.163\\t0.6159\\t-0.271\\n        ', '5\\n\\n            C\\t0\\t0\\t0\\n            F\\t-0.12737500000000002\\t-1.391\\t-0.932375\\n            F\\t-0.04\\t-0.3285\\t1.3021\\n            F\\t-1.0211\\t0.8254\\t-0.2852\\n            F\\t1.163\\t0.6159\\t-0.271\\n        ', '5\\n\\n            C\\t0\\t0\\t0\\n            F\\t-0.13247\\t-1.4466400000000001\\t-0.96967\\n            F\\t-0.04\\t-0.3285\\t1.3021\\n            F\\t-1.0211\\t0.8254\\t-0.2852\\n            F\\t1.163\\t0.6159\\t-0.271\\n        ', '5\\n\\n            C\\t0\\t0\\t0\\n            F\\t-0.13756500000000002\\t-1.50228\\t-1.006965\\n            F\\t-0.04\\t-0.3285\\t1.3021\\n            F\\t-1.0211\\t0.8254\\t-0.2852\\n            F\\t1.163\\t0.6159\\t-0.271\\n        ', '5\\n\\n            C\\t0\\t0\\t0\\n            F\\t-0.14266\\t-1.55792\\t-1.04426\\n            F\\t-0.04\\t-0.3285\\t1.3021\\n            F\\t-1.0211\\t0.8254\\t-0.2852\\n            F\\t1.163\\t0.6159\\t-0.271\\n        ', '5\\n\\n            C\\t0\\t0\\t0\\n            F\\t-0.14775500000000003\\t-1.61356\\t-1.081555\\n            F\\t-0.04\\t-0.3285\\t1.3021\\n            F\\t-1.0211\\t0.8254\\t-0.2852\\n            F\\t1.163\\t0.6159\\t-0.271\\n        ', '5\\n\\n            C\\t0\\t0\\t0\\n            F\\t-0.15285\\t-1.6692\\t-1.1188500000000001\\n            F\\t-0.04\\t-0.3285\\t1.3021\\n            F\\t-1.0211\\t0.8254\\t-0.2852\\n            F\\t1.163\\t0.6159\\t-0.271\\n        ', '5\\n\\n            C\\t0\\t0\\t0\\n            F\\t-0.157945\\t-1.7248400000000002\\t-1.156145\\n            F\\t-0.04\\t-0.3285\\t1.3021\\n            F\\t-1.0211\\t0.8254\\t-0.2852\\n            F\\t1.163\\t0.6159\\t-0.271\\n        ', '5\\n\\n            C\\t0\\t0\\t0\\n            F\\t-0.16304000000000002\\t-1.78048\\t-1.19344\\n            F\\t-0.04\\t-0.3285\\t1.3021\\n            F\\t-1.0211\\t0.8254\\t-0.2852\\n            F\\t1.163\\t0.6159\\t-0.271\\n        ', '5\\n\\n            C\\t0\\t0\\t0\\n            F\\t-0.16813500000000003\\t-1.8361200000000002\\t-1.2307350000000001\\n            F\\t-0.04\\t-0.3285\\t1.3021\\n            F\\t-1.0211\\t0.8254\\t-0.2852\\n            F\\t1.163\\t0.6159\\t-0.271\\n        ', '5\\n\\n            C\\t0\\t0\\t0\\n            F\\t-0.17323000000000002\\t-1.89176\\t-1.2680300000000002\\n            F\\t-0.04\\t-0.3285\\t1.3021\\n            F\\t-1.0211\\t0.8254\\t-0.2852\\n            F\\t1.163\\t0.6159\\t-0.271\\n        ', '5\\n\\n            C\\t0\\t0\\t0\\n            F\\t-0.178325\\t-1.9474\\t-1.305325\\n            F\\t-0.04\\t-0.3285\\t1.3021\\n            F\\t-1.0211\\t0.8254\\t-0.2852\\n            F\\t1.163\\t0.6159\\t-0.271\\n        ', '5\\n\\n            C\\t0\\t0\\t0\\n            F\\t-0.18342\\t-2.00304\\t-1.3426200000000001\\n            F\\t-0.04\\t-0.3285\\t1.3021\\n            F\\t-1.0211\\t0.8254\\t-0.2852\\n            F\\t1.163\\t0.6159\\t-0.271\\n        ', '5\\n\\n            C\\t0\\t0\\t0\\n            F\\t-0.18851500000000002\\t-2.0586800000000003\\t-1.379915\\n            F\\t-0.04\\t-0.3285\\t1.3021\\n            F\\t-1.0211\\t0.8254\\t-0.2852\\n            F\\t1.163\\t0.6159\\t-0.271\\n        ', '5\\n\\n            C\\t0\\t0\\t0\\n            F\\t-0.19361000000000003\\t-2.11432\\t-1.41721\\n            F\\t-0.04\\t-0.3285\\t1.3021\\n            F\\t-1.0211\\t0.8254\\t-0.2852\\n            F\\t1.163\\t0.6159\\t-0.271\\n        ', '5\\n\\n            C\\t0\\t0\\t0\\n            F\\t-0.19870500000000002\\t-2.16996\\t-1.4545050000000002\\n            F\\t-0.04\\t-0.3285\\t1.3021\\n            F\\t-1.0211\\t0.8254\\t-0.2852\\n            F\\t1.163\\t0.6159\\t-0.271\\n        ', '5\\n\\n            C\\t0\\t0\\t0\\n            F\\t-0.2038\\t-2.2256\\t-1.4918\\n            F\\t-0.04\\t-0.3285\\t1.3021\\n            F\\t-1.0211\\t0.8254\\t-0.2852\\n            F\\t1.163\\t0.6159\\t-0.271\\n        ', '5\\n\\n            C\\t0\\t0\\t0\\n            F\\t-0.208895\\t-2.28124\\t-1.5290949999999999\\n            F\\t-0.04\\t-0.3285\\t1.3021\\n            F\\t-1.0211\\t0.8254\\t-0.2852\\n            F\\t1.163\\t0.6159\\t-0.271\\n        ', '5\\n\\n            C\\t0\\t0\\t0\\n            F\\t-0.21399\\t-2.3368800000000003\\t-1.5663900000000002\\n            F\\t-0.04\\t-0.3285\\t1.3021\\n            F\\t-1.0211\\t0.8254\\t-0.2852\\n            F\\t1.163\\t0.6159\\t-0.271\\n        ', '5\\n\\n            C\\t0\\t0\\t0\\n            F\\t-0.21908500000000006\\t-2.39252\\t-1.6036850000000002\\n            F\\t-0.04\\t-0.3285\\t1.3021\\n            F\\t-1.0211\\t0.8254\\t-0.2852\\n            F\\t1.163\\t0.6159\\t-0.271\\n        ', '5\\n\\n            C\\t0\\t0\\t0\\n            F\\t-0.22418000000000002\\t-2.44816\\t-1.64098\\n            F\\t-0.04\\t-0.3285\\t1.3021\\n            F\\t-1.0211\\t0.8254\\t-0.2852\\n            F\\t1.163\\t0.6159\\t-0.271\\n        ', '5\\n\\n            C\\t0\\t0\\t0\\n            F\\t-0.229275\\t-2.5038\\t-1.678275\\n            F\\t-0.04\\t-0.3285\\t1.3021\\n            F\\t-1.0211\\t0.8254\\t-0.2852\\n            F\\t1.163\\t0.6159\\t-0.271\\n        ', '5\\n\\n            C\\t0\\t0\\t0\\n            F\\t-0.23437\\t-2.55944\\t-1.7155699999999998\\n            F\\t-0.04\\t-0.3285\\t1.3021\\n            F\\t-1.0211\\t0.8254\\t-0.2852\\n            F\\t1.163\\t0.6159\\t-0.271\\n        ', '5\\n\\n            C\\t0\\t0\\t0\\n            F\\t-0.239465\\t-2.6150800000000003\\t-1.7528650000000001\\n            F\\t-0.04\\t-0.3285\\t1.3021\\n            F\\t-1.0211\\t0.8254\\t-0.2852\\n            F\\t1.163\\t0.6159\\t-0.271\\n        ', '5\\n\\n            C\\t0\\t0\\t0\\n            F\\t-0.24456000000000006\\t-2.67072\\t-1.7901600000000002\\n            F\\t-0.04\\t-0.3285\\t1.3021\\n            F\\t-1.0211\\t0.8254\\t-0.2852\\n            F\\t1.163\\t0.6159\\t-0.271\\n        ', '5\\n\\n            C\\t0\\t0\\t0\\n            F\\t-0.24965500000000002\\t-2.72636\\t-1.827455\\n            F\\t-0.04\\t-0.3285\\t1.3021\\n            F\\t-1.0211\\t0.8254\\t-0.2852\\n            F\\t1.163\\t0.6159\\t-0.271\\n        ', '5\\n\\n            C\\t0\\t0\\t0\\n            F\\t-0.25475000000000003\\t-2.782\\t-1.86475\\n            F\\t-0.04\\t-0.3285\\t1.3021\\n            F\\t-1.0211\\t0.8254\\t-0.2852\\n            F\\t1.163\\t0.6159\\t-0.271\\n        ']\n"
     ]
    }
   ],
   "source": [
    "import pandas as pd\n",
    "import numpy as np\n",
    "from nbed.utils import pubchem_mol_geometry, build_ordered_xyz_string, save_ordered_xyz_file\n",
    "\n",
    "def init_mol_df() -> pd.DataFrame:\n",
    "    def mol_geometry(factor):\n",
    "        string=f\"\"\"5\n",
    " \n",
    "            C\t0\t0\t0\n",
    "            F\t{-0.1019*factor}\t{-1.1128*factor}\t{-0.7459*factor}\n",
    "            F\t-0.04\t-0.3285\t1.3021\n",
    "            F\t-1.0211\t0.8254\t-0.2852\n",
    "            F\t1.163\t0.6159\t-0.271\n",
    "        \"\"\"\n",
    "        return string\n",
    "\n",
    "    xyz_list = [mol_geometry(dist) for dist in np.linspace(0.5, 2.5, 41)]\n",
    "    print(xyz_list)\n",
    "\n",
    "    df = pd.DataFrame(index = range(len(xyz_list)), columns = [\"distances\", \"xyz\"])\n",
    "    df[\"distances\"] = [i*np.linalg.norm([-0.1019, -1.1128, -0.7459]) for i in np.linspace(0.5, 2.5, 41)]\n",
    "    df[\"xyz\"] = xyz_list\n",
    "    return df\n",
    "\n",
    "pfm = init_mol_df()"
   ]
  },
  {
   "cell_type": "code",
   "execution_count": 36,
   "metadata": {},
   "outputs": [
    {
     "data": {
      "application/vnd.microsoft.datawrangler.viewer.v0+json": {
       "columns": [
        {
         "name": "index",
         "rawType": "int64",
         "type": "integer"
        },
        {
         "name": "distances",
         "rawType": "float64",
         "type": "float"
        },
        {
         "name": "xyz",
         "rawType": "object",
         "type": "string"
        }
       ],
       "ref": "c58793cc-6ec5-4386-8de7-dd47794b7b35",
       "rows": [
        [
         "0",
         "0.6717652603402471",
         "5\n\n            C\t0\t0\t0\n            F\t-0.05095\t-0.5564\t-0.37295\n            F\t-0.04\t-0.3285\t1.3021\n            F\t-1.0211\t0.8254\t-0.2852\n            F\t1.163\t0.6159\t-0.271\n        "
        ],
        [
         "1",
         "0.7389417863742719",
         "5\n\n            C\t0\t0\t0\n            F\t-0.056045000000000005\t-0.61204\t-0.410245\n            F\t-0.04\t-0.3285\t1.3021\n            F\t-1.0211\t0.8254\t-0.2852\n            F\t1.163\t0.6159\t-0.271\n        "
        ],
        [
         "2",
         "0.8061183124082965",
         "5\n\n            C\t0\t0\t0\n            F\t-0.06114\t-0.6676799999999999\t-0.44754\n            F\t-0.04\t-0.3285\t1.3021\n            F\t-1.0211\t0.8254\t-0.2852\n            F\t1.163\t0.6159\t-0.271\n        "
        ],
        [
         "3",
         "0.8732948384423213",
         "5\n\n            C\t0\t0\t0\n            F\t-0.066235\t-0.7233200000000001\t-0.484835\n            F\t-0.04\t-0.3285\t1.3021\n            F\t-1.0211\t0.8254\t-0.2852\n            F\t1.163\t0.6159\t-0.271\n        "
        ],
        [
         "4",
         "0.9404713644763458",
         "5\n\n            C\t0\t0\t0\n            F\t-0.07133\t-0.77896\t-0.52213\n            F\t-0.04\t-0.3285\t1.3021\n            F\t-1.0211\t0.8254\t-0.2852\n            F\t1.163\t0.6159\t-0.271\n        "
        ],
        [
         "5",
         "1.0076478905103707",
         "5\n\n            C\t0\t0\t0\n            F\t-0.076425\t-0.8346\t-0.5594250000000001\n            F\t-0.04\t-0.3285\t1.3021\n            F\t-1.0211\t0.8254\t-0.2852\n            F\t1.163\t0.6159\t-0.271\n        "
        ],
        [
         "6",
         "1.0748244165443954",
         "5\n\n            C\t0\t0\t0\n            F\t-0.08152000000000001\t-0.89024\t-0.59672\n            F\t-0.04\t-0.3285\t1.3021\n            F\t-1.0211\t0.8254\t-0.2852\n            F\t1.163\t0.6159\t-0.271\n        "
        ],
        [
         "7",
         "1.14200094257842",
         "5\n\n            C\t0\t0\t0\n            F\t-0.08661500000000001\t-0.94588\t-0.6340150000000001\n            F\t-0.04\t-0.3285\t1.3021\n            F\t-1.0211\t0.8254\t-0.2852\n            F\t1.163\t0.6159\t-0.271\n        "
        ],
        [
         "8",
         "1.2091774686124448",
         "5\n\n            C\t0\t0\t0\n            F\t-0.09171\t-1.00152\t-0.6713100000000001\n            F\t-0.04\t-0.3285\t1.3021\n            F\t-1.0211\t0.8254\t-0.2852\n            F\t1.163\t0.6159\t-0.271\n        "
        ],
        [
         "9",
         "1.2763539946464695",
         "5\n\n            C\t0\t0\t0\n            F\t-0.096805\t-1.0571599999999999\t-0.7086049999999999\n            F\t-0.04\t-0.3285\t1.3021\n            F\t-1.0211\t0.8254\t-0.2852\n            F\t1.163\t0.6159\t-0.271\n        "
        ],
        [
         "10",
         "1.3435305206804942",
         "5\n\n            C\t0\t0\t0\n            F\t-0.1019\t-1.1128\t-0.7459\n            F\t-0.04\t-0.3285\t1.3021\n            F\t-1.0211\t0.8254\t-0.2852\n            F\t1.163\t0.6159\t-0.271\n        "
        ],
        [
         "11",
         "1.4107070467145189",
         "5\n\n            C\t0\t0\t0\n            F\t-0.106995\t-1.1684400000000001\t-0.7831950000000001\n            F\t-0.04\t-0.3285\t1.3021\n            F\t-1.0211\t0.8254\t-0.2852\n            F\t1.163\t0.6159\t-0.271\n        "
        ],
        [
         "12",
         "1.4778835727485438",
         "5\n\n            C\t0\t0\t0\n            F\t-0.11209000000000001\t-1.22408\t-0.82049\n            F\t-0.04\t-0.3285\t1.3021\n            F\t-1.0211\t0.8254\t-0.2852\n            F\t1.163\t0.6159\t-0.271\n        "
        ],
        [
         "13",
         "1.5450600987825682",
         "5\n\n            C\t0\t0\t0\n            F\t-0.117185\t-1.27972\t-0.8577849999999999\n            F\t-0.04\t-0.3285\t1.3021\n            F\t-1.0211\t0.8254\t-0.2852\n            F\t1.163\t0.6159\t-0.271\n        "
        ],
        [
         "14",
         "1.6122366248165931",
         "5\n\n            C\t0\t0\t0\n            F\t-0.12228000000000003\t-1.33536\t-0.8950800000000001\n            F\t-0.04\t-0.3285\t1.3021\n            F\t-1.0211\t0.8254\t-0.2852\n            F\t1.163\t0.6159\t-0.271\n        "
        ],
        [
         "15",
         "1.6794131508506176",
         "5\n\n            C\t0\t0\t0\n            F\t-0.12737500000000002\t-1.391\t-0.932375\n            F\t-0.04\t-0.3285\t1.3021\n            F\t-1.0211\t0.8254\t-0.2852\n            F\t1.163\t0.6159\t-0.271\n        "
        ],
        [
         "16",
         "1.7465896768846425",
         "5\n\n            C\t0\t0\t0\n            F\t-0.13247\t-1.4466400000000001\t-0.96967\n            F\t-0.04\t-0.3285\t1.3021\n            F\t-1.0211\t0.8254\t-0.2852\n            F\t1.163\t0.6159\t-0.271\n        "
        ],
        [
         "17",
         "1.8137662029186672",
         "5\n\n            C\t0\t0\t0\n            F\t-0.13756500000000002\t-1.50228\t-1.006965\n            F\t-0.04\t-0.3285\t1.3021\n            F\t-1.0211\t0.8254\t-0.2852\n            F\t1.163\t0.6159\t-0.271\n        "
        ],
        [
         "18",
         "1.8809427289526917",
         "5\n\n            C\t0\t0\t0\n            F\t-0.14266\t-1.55792\t-1.04426\n            F\t-0.04\t-0.3285\t1.3021\n            F\t-1.0211\t0.8254\t-0.2852\n            F\t1.163\t0.6159\t-0.271\n        "
        ],
        [
         "19",
         "1.9481192549867168",
         "5\n\n            C\t0\t0\t0\n            F\t-0.14775500000000003\t-1.61356\t-1.081555\n            F\t-0.04\t-0.3285\t1.3021\n            F\t-1.0211\t0.8254\t-0.2852\n            F\t1.163\t0.6159\t-0.271\n        "
        ],
        [
         "20",
         "2.0152957810207415",
         "5\n\n            C\t0\t0\t0\n            F\t-0.15285\t-1.6692\t-1.1188500000000001\n            F\t-0.04\t-0.3285\t1.3021\n            F\t-1.0211\t0.8254\t-0.2852\n            F\t1.163\t0.6159\t-0.271\n        "
        ],
        [
         "21",
         "2.082472307054766",
         "5\n\n            C\t0\t0\t0\n            F\t-0.157945\t-1.7248400000000002\t-1.156145\n            F\t-0.04\t-0.3285\t1.3021\n            F\t-1.0211\t0.8254\t-0.2852\n            F\t1.163\t0.6159\t-0.271\n        "
        ],
        [
         "22",
         "2.149648833088791",
         "5\n\n            C\t0\t0\t0\n            F\t-0.16304000000000002\t-1.78048\t-1.19344\n            F\t-0.04\t-0.3285\t1.3021\n            F\t-1.0211\t0.8254\t-0.2852\n            F\t1.163\t0.6159\t-0.271\n        "
        ],
        [
         "23",
         "2.2168253591228155",
         "5\n\n            C\t0\t0\t0\n            F\t-0.16813500000000003\t-1.8361200000000002\t-1.2307350000000001\n            F\t-0.04\t-0.3285\t1.3021\n            F\t-1.0211\t0.8254\t-0.2852\n            F\t1.163\t0.6159\t-0.271\n        "
        ],
        [
         "24",
         "2.28400188515684",
         "5\n\n            C\t0\t0\t0\n            F\t-0.17323000000000002\t-1.89176\t-1.2680300000000002\n            F\t-0.04\t-0.3285\t1.3021\n            F\t-1.0211\t0.8254\t-0.2852\n            F\t1.163\t0.6159\t-0.271\n        "
        ],
        [
         "25",
         "2.351178411190865",
         "5\n\n            C\t0\t0\t0\n            F\t-0.178325\t-1.9474\t-1.305325\n            F\t-0.04\t-0.3285\t1.3021\n            F\t-1.0211\t0.8254\t-0.2852\n            F\t1.163\t0.6159\t-0.271\n        "
        ],
        [
         "26",
         "2.4183549372248896",
         "5\n\n            C\t0\t0\t0\n            F\t-0.18342\t-2.00304\t-1.3426200000000001\n            F\t-0.04\t-0.3285\t1.3021\n            F\t-1.0211\t0.8254\t-0.2852\n            F\t1.163\t0.6159\t-0.271\n        "
        ],
        [
         "27",
         "2.4855314632589143",
         "5\n\n            C\t0\t0\t0\n            F\t-0.18851500000000002\t-2.0586800000000003\t-1.379915\n            F\t-0.04\t-0.3285\t1.3021\n            F\t-1.0211\t0.8254\t-0.2852\n            F\t1.163\t0.6159\t-0.271\n        "
        ],
        [
         "28",
         "2.552707989292939",
         "5\n\n            C\t0\t0\t0\n            F\t-0.19361000000000003\t-2.11432\t-1.41721\n            F\t-0.04\t-0.3285\t1.3021\n            F\t-1.0211\t0.8254\t-0.2852\n            F\t1.163\t0.6159\t-0.271\n        "
        ],
        [
         "29",
         "2.6198845153269636",
         "5\n\n            C\t0\t0\t0\n            F\t-0.19870500000000002\t-2.16996\t-1.4545050000000002\n            F\t-0.04\t-0.3285\t1.3021\n            F\t-1.0211\t0.8254\t-0.2852\n            F\t1.163\t0.6159\t-0.271\n        "
        ],
        [
         "30",
         "2.6870610413609883",
         "5\n\n            C\t0\t0\t0\n            F\t-0.2038\t-2.2256\t-1.4918\n            F\t-0.04\t-0.3285\t1.3021\n            F\t-1.0211\t0.8254\t-0.2852\n            F\t1.163\t0.6159\t-0.271\n        "
        ],
        [
         "31",
         "2.754237567395013",
         "5\n\n            C\t0\t0\t0\n            F\t-0.208895\t-2.28124\t-1.5290949999999999\n            F\t-0.04\t-0.3285\t1.3021\n            F\t-1.0211\t0.8254\t-0.2852\n            F\t1.163\t0.6159\t-0.271\n        "
        ],
        [
         "32",
         "2.8214140934290377",
         "5\n\n            C\t0\t0\t0\n            F\t-0.21399\t-2.3368800000000003\t-1.5663900000000002\n            F\t-0.04\t-0.3285\t1.3021\n            F\t-1.0211\t0.8254\t-0.2852\n            F\t1.163\t0.6159\t-0.271\n        "
        ],
        [
         "33",
         "2.888590619463063",
         "5\n\n            C\t0\t0\t0\n            F\t-0.21908500000000006\t-2.39252\t-1.6036850000000002\n            F\t-0.04\t-0.3285\t1.3021\n            F\t-1.0211\t0.8254\t-0.2852\n            F\t1.163\t0.6159\t-0.271\n        "
        ],
        [
         "34",
         "2.9557671454970875",
         "5\n\n            C\t0\t0\t0\n            F\t-0.22418000000000002\t-2.44816\t-1.64098\n            F\t-0.04\t-0.3285\t1.3021\n            F\t-1.0211\t0.8254\t-0.2852\n            F\t1.163\t0.6159\t-0.271\n        "
        ],
        [
         "35",
         "3.0229436715311118",
         "5\n\n            C\t0\t0\t0\n            F\t-0.229275\t-2.5038\t-1.678275\n            F\t-0.04\t-0.3285\t1.3021\n            F\t-1.0211\t0.8254\t-0.2852\n            F\t1.163\t0.6159\t-0.271\n        "
        ],
        [
         "36",
         "3.0901201975651365",
         "5\n\n            C\t0\t0\t0\n            F\t-0.23437\t-2.55944\t-1.7155699999999998\n            F\t-0.04\t-0.3285\t1.3021\n            F\t-1.0211\t0.8254\t-0.2852\n            F\t1.163\t0.6159\t-0.271\n        "
        ],
        [
         "37",
         "3.1572967235991616",
         "5\n\n            C\t0\t0\t0\n            F\t-0.239465\t-2.6150800000000003\t-1.7528650000000001\n            F\t-0.04\t-0.3285\t1.3021\n            F\t-1.0211\t0.8254\t-0.2852\n            F\t1.163\t0.6159\t-0.271\n        "
        ],
        [
         "38",
         "3.2244732496331863",
         "5\n\n            C\t0\t0\t0\n            F\t-0.24456000000000006\t-2.67072\t-1.7901600000000002\n            F\t-0.04\t-0.3285\t1.3021\n            F\t-1.0211\t0.8254\t-0.2852\n            F\t1.163\t0.6159\t-0.271\n        "
        ],
        [
         "39",
         "3.291649775667211",
         "5\n\n            C\t0\t0\t0\n            F\t-0.24965500000000002\t-2.72636\t-1.827455\n            F\t-0.04\t-0.3285\t1.3021\n            F\t-1.0211\t0.8254\t-0.2852\n            F\t1.163\t0.6159\t-0.271\n        "
        ],
        [
         "40",
         "3.358826301701235",
         "5\n\n            C\t0\t0\t0\n            F\t-0.25475000000000003\t-2.782\t-1.86475\n            F\t-0.04\t-0.3285\t1.3021\n            F\t-1.0211\t0.8254\t-0.2852\n            F\t1.163\t0.6159\t-0.271\n        "
        ]
       ],
       "shape": {
        "columns": 2,
        "rows": 41
       }
      },
      "text/html": [
       "<div>\n",
       "<style scoped>\n",
       "    .dataframe tbody tr th:only-of-type {\n",
       "        vertical-align: middle;\n",
       "    }\n",
       "\n",
       "    .dataframe tbody tr th {\n",
       "        vertical-align: top;\n",
       "    }\n",
       "\n",
       "    .dataframe thead th {\n",
       "        text-align: right;\n",
       "    }\n",
       "</style>\n",
       "<table border=\"1\" class=\"dataframe\">\n",
       "  <thead>\n",
       "    <tr style=\"text-align: right;\">\n",
       "      <th></th>\n",
       "      <th>distances</th>\n",
       "      <th>xyz</th>\n",
       "    </tr>\n",
       "  </thead>\n",
       "  <tbody>\n",
       "    <tr>\n",
       "      <th>0</th>\n",
       "      <td>0.671765</td>\n",
       "      <td>5\\n\\n            C\\t0\\t0\\t0\\n            F\\t-0...</td>\n",
       "    </tr>\n",
       "    <tr>\n",
       "      <th>1</th>\n",
       "      <td>0.738942</td>\n",
       "      <td>5\\n\\n            C\\t0\\t0\\t0\\n            F\\t-0...</td>\n",
       "    </tr>\n",
       "    <tr>\n",
       "      <th>2</th>\n",
       "      <td>0.806118</td>\n",
       "      <td>5\\n\\n            C\\t0\\t0\\t0\\n            F\\t-0...</td>\n",
       "    </tr>\n",
       "    <tr>\n",
       "      <th>3</th>\n",
       "      <td>0.873295</td>\n",
       "      <td>5\\n\\n            C\\t0\\t0\\t0\\n            F\\t-0...</td>\n",
       "    </tr>\n",
       "    <tr>\n",
       "      <th>4</th>\n",
       "      <td>0.940471</td>\n",
       "      <td>5\\n\\n            C\\t0\\t0\\t0\\n            F\\t-0...</td>\n",
       "    </tr>\n",
       "    <tr>\n",
       "      <th>5</th>\n",
       "      <td>1.007648</td>\n",
       "      <td>5\\n\\n            C\\t0\\t0\\t0\\n            F\\t-0...</td>\n",
       "    </tr>\n",
       "    <tr>\n",
       "      <th>6</th>\n",
       "      <td>1.074824</td>\n",
       "      <td>5\\n\\n            C\\t0\\t0\\t0\\n            F\\t-0...</td>\n",
       "    </tr>\n",
       "    <tr>\n",
       "      <th>7</th>\n",
       "      <td>1.142001</td>\n",
       "      <td>5\\n\\n            C\\t0\\t0\\t0\\n            F\\t-0...</td>\n",
       "    </tr>\n",
       "    <tr>\n",
       "      <th>8</th>\n",
       "      <td>1.209177</td>\n",
       "      <td>5\\n\\n            C\\t0\\t0\\t0\\n            F\\t-0...</td>\n",
       "    </tr>\n",
       "    <tr>\n",
       "      <th>9</th>\n",
       "      <td>1.276354</td>\n",
       "      <td>5\\n\\n            C\\t0\\t0\\t0\\n            F\\t-0...</td>\n",
       "    </tr>\n",
       "    <tr>\n",
       "      <th>10</th>\n",
       "      <td>1.343531</td>\n",
       "      <td>5\\n\\n            C\\t0\\t0\\t0\\n            F\\t-0...</td>\n",
       "    </tr>\n",
       "    <tr>\n",
       "      <th>11</th>\n",
       "      <td>1.410707</td>\n",
       "      <td>5\\n\\n            C\\t0\\t0\\t0\\n            F\\t-0...</td>\n",
       "    </tr>\n",
       "    <tr>\n",
       "      <th>12</th>\n",
       "      <td>1.477884</td>\n",
       "      <td>5\\n\\n            C\\t0\\t0\\t0\\n            F\\t-0...</td>\n",
       "    </tr>\n",
       "    <tr>\n",
       "      <th>13</th>\n",
       "      <td>1.545060</td>\n",
       "      <td>5\\n\\n            C\\t0\\t0\\t0\\n            F\\t-0...</td>\n",
       "    </tr>\n",
       "    <tr>\n",
       "      <th>14</th>\n",
       "      <td>1.612237</td>\n",
       "      <td>5\\n\\n            C\\t0\\t0\\t0\\n            F\\t-0...</td>\n",
       "    </tr>\n",
       "    <tr>\n",
       "      <th>15</th>\n",
       "      <td>1.679413</td>\n",
       "      <td>5\\n\\n            C\\t0\\t0\\t0\\n            F\\t-0...</td>\n",
       "    </tr>\n",
       "    <tr>\n",
       "      <th>16</th>\n",
       "      <td>1.746590</td>\n",
       "      <td>5\\n\\n            C\\t0\\t0\\t0\\n            F\\t-0...</td>\n",
       "    </tr>\n",
       "    <tr>\n",
       "      <th>17</th>\n",
       "      <td>1.813766</td>\n",
       "      <td>5\\n\\n            C\\t0\\t0\\t0\\n            F\\t-0...</td>\n",
       "    </tr>\n",
       "    <tr>\n",
       "      <th>18</th>\n",
       "      <td>1.880943</td>\n",
       "      <td>5\\n\\n            C\\t0\\t0\\t0\\n            F\\t-0...</td>\n",
       "    </tr>\n",
       "    <tr>\n",
       "      <th>19</th>\n",
       "      <td>1.948119</td>\n",
       "      <td>5\\n\\n            C\\t0\\t0\\t0\\n            F\\t-0...</td>\n",
       "    </tr>\n",
       "    <tr>\n",
       "      <th>20</th>\n",
       "      <td>2.015296</td>\n",
       "      <td>5\\n\\n            C\\t0\\t0\\t0\\n            F\\t-0...</td>\n",
       "    </tr>\n",
       "    <tr>\n",
       "      <th>21</th>\n",
       "      <td>2.082472</td>\n",
       "      <td>5\\n\\n            C\\t0\\t0\\t0\\n            F\\t-0...</td>\n",
       "    </tr>\n",
       "    <tr>\n",
       "      <th>22</th>\n",
       "      <td>2.149649</td>\n",
       "      <td>5\\n\\n            C\\t0\\t0\\t0\\n            F\\t-0...</td>\n",
       "    </tr>\n",
       "    <tr>\n",
       "      <th>23</th>\n",
       "      <td>2.216825</td>\n",
       "      <td>5\\n\\n            C\\t0\\t0\\t0\\n            F\\t-0...</td>\n",
       "    </tr>\n",
       "    <tr>\n",
       "      <th>24</th>\n",
       "      <td>2.284002</td>\n",
       "      <td>5\\n\\n            C\\t0\\t0\\t0\\n            F\\t-0...</td>\n",
       "    </tr>\n",
       "    <tr>\n",
       "      <th>25</th>\n",
       "      <td>2.351178</td>\n",
       "      <td>5\\n\\n            C\\t0\\t0\\t0\\n            F\\t-0...</td>\n",
       "    </tr>\n",
       "    <tr>\n",
       "      <th>26</th>\n",
       "      <td>2.418355</td>\n",
       "      <td>5\\n\\n            C\\t0\\t0\\t0\\n            F\\t-0...</td>\n",
       "    </tr>\n",
       "    <tr>\n",
       "      <th>27</th>\n",
       "      <td>2.485531</td>\n",
       "      <td>5\\n\\n            C\\t0\\t0\\t0\\n            F\\t-0...</td>\n",
       "    </tr>\n",
       "    <tr>\n",
       "      <th>28</th>\n",
       "      <td>2.552708</td>\n",
       "      <td>5\\n\\n            C\\t0\\t0\\t0\\n            F\\t-0...</td>\n",
       "    </tr>\n",
       "    <tr>\n",
       "      <th>29</th>\n",
       "      <td>2.619885</td>\n",
       "      <td>5\\n\\n            C\\t0\\t0\\t0\\n            F\\t-0...</td>\n",
       "    </tr>\n",
       "    <tr>\n",
       "      <th>30</th>\n",
       "      <td>2.687061</td>\n",
       "      <td>5\\n\\n            C\\t0\\t0\\t0\\n            F\\t-0...</td>\n",
       "    </tr>\n",
       "    <tr>\n",
       "      <th>31</th>\n",
       "      <td>2.754238</td>\n",
       "      <td>5\\n\\n            C\\t0\\t0\\t0\\n            F\\t-0...</td>\n",
       "    </tr>\n",
       "    <tr>\n",
       "      <th>32</th>\n",
       "      <td>2.821414</td>\n",
       "      <td>5\\n\\n            C\\t0\\t0\\t0\\n            F\\t-0...</td>\n",
       "    </tr>\n",
       "    <tr>\n",
       "      <th>33</th>\n",
       "      <td>2.888591</td>\n",
       "      <td>5\\n\\n            C\\t0\\t0\\t0\\n            F\\t-0...</td>\n",
       "    </tr>\n",
       "    <tr>\n",
       "      <th>34</th>\n",
       "      <td>2.955767</td>\n",
       "      <td>5\\n\\n            C\\t0\\t0\\t0\\n            F\\t-0...</td>\n",
       "    </tr>\n",
       "    <tr>\n",
       "      <th>35</th>\n",
       "      <td>3.022944</td>\n",
       "      <td>5\\n\\n            C\\t0\\t0\\t0\\n            F\\t-0...</td>\n",
       "    </tr>\n",
       "    <tr>\n",
       "      <th>36</th>\n",
       "      <td>3.090120</td>\n",
       "      <td>5\\n\\n            C\\t0\\t0\\t0\\n            F\\t-0...</td>\n",
       "    </tr>\n",
       "    <tr>\n",
       "      <th>37</th>\n",
       "      <td>3.157297</td>\n",
       "      <td>5\\n\\n            C\\t0\\t0\\t0\\n            F\\t-0...</td>\n",
       "    </tr>\n",
       "    <tr>\n",
       "      <th>38</th>\n",
       "      <td>3.224473</td>\n",
       "      <td>5\\n\\n            C\\t0\\t0\\t0\\n            F\\t-0...</td>\n",
       "    </tr>\n",
       "    <tr>\n",
       "      <th>39</th>\n",
       "      <td>3.291650</td>\n",
       "      <td>5\\n\\n            C\\t0\\t0\\t0\\n            F\\t-0...</td>\n",
       "    </tr>\n",
       "    <tr>\n",
       "      <th>40</th>\n",
       "      <td>3.358826</td>\n",
       "      <td>5\\n\\n            C\\t0\\t0\\t0\\n            F\\t-0...</td>\n",
       "    </tr>\n",
       "  </tbody>\n",
       "</table>\n",
       "</div>"
      ],
      "text/plain": [
       "    distances                                                xyz\n",
       "0    0.671765  5\\n\\n            C\\t0\\t0\\t0\\n            F\\t-0...\n",
       "1    0.738942  5\\n\\n            C\\t0\\t0\\t0\\n            F\\t-0...\n",
       "2    0.806118  5\\n\\n            C\\t0\\t0\\t0\\n            F\\t-0...\n",
       "3    0.873295  5\\n\\n            C\\t0\\t0\\t0\\n            F\\t-0...\n",
       "4    0.940471  5\\n\\n            C\\t0\\t0\\t0\\n            F\\t-0...\n",
       "5    1.007648  5\\n\\n            C\\t0\\t0\\t0\\n            F\\t-0...\n",
       "6    1.074824  5\\n\\n            C\\t0\\t0\\t0\\n            F\\t-0...\n",
       "7    1.142001  5\\n\\n            C\\t0\\t0\\t0\\n            F\\t-0...\n",
       "8    1.209177  5\\n\\n            C\\t0\\t0\\t0\\n            F\\t-0...\n",
       "9    1.276354  5\\n\\n            C\\t0\\t0\\t0\\n            F\\t-0...\n",
       "10   1.343531  5\\n\\n            C\\t0\\t0\\t0\\n            F\\t-0...\n",
       "11   1.410707  5\\n\\n            C\\t0\\t0\\t0\\n            F\\t-0...\n",
       "12   1.477884  5\\n\\n            C\\t0\\t0\\t0\\n            F\\t-0...\n",
       "13   1.545060  5\\n\\n            C\\t0\\t0\\t0\\n            F\\t-0...\n",
       "14   1.612237  5\\n\\n            C\\t0\\t0\\t0\\n            F\\t-0...\n",
       "15   1.679413  5\\n\\n            C\\t0\\t0\\t0\\n            F\\t-0...\n",
       "16   1.746590  5\\n\\n            C\\t0\\t0\\t0\\n            F\\t-0...\n",
       "17   1.813766  5\\n\\n            C\\t0\\t0\\t0\\n            F\\t-0...\n",
       "18   1.880943  5\\n\\n            C\\t0\\t0\\t0\\n            F\\t-0...\n",
       "19   1.948119  5\\n\\n            C\\t0\\t0\\t0\\n            F\\t-0...\n",
       "20   2.015296  5\\n\\n            C\\t0\\t0\\t0\\n            F\\t-0...\n",
       "21   2.082472  5\\n\\n            C\\t0\\t0\\t0\\n            F\\t-0...\n",
       "22   2.149649  5\\n\\n            C\\t0\\t0\\t0\\n            F\\t-0...\n",
       "23   2.216825  5\\n\\n            C\\t0\\t0\\t0\\n            F\\t-0...\n",
       "24   2.284002  5\\n\\n            C\\t0\\t0\\t0\\n            F\\t-0...\n",
       "25   2.351178  5\\n\\n            C\\t0\\t0\\t0\\n            F\\t-0...\n",
       "26   2.418355  5\\n\\n            C\\t0\\t0\\t0\\n            F\\t-0...\n",
       "27   2.485531  5\\n\\n            C\\t0\\t0\\t0\\n            F\\t-0...\n",
       "28   2.552708  5\\n\\n            C\\t0\\t0\\t0\\n            F\\t-0...\n",
       "29   2.619885  5\\n\\n            C\\t0\\t0\\t0\\n            F\\t-0...\n",
       "30   2.687061  5\\n\\n            C\\t0\\t0\\t0\\n            F\\t-0...\n",
       "31   2.754238  5\\n\\n            C\\t0\\t0\\t0\\n            F\\t-0...\n",
       "32   2.821414  5\\n\\n            C\\t0\\t0\\t0\\n            F\\t-0...\n",
       "33   2.888591  5\\n\\n            C\\t0\\t0\\t0\\n            F\\t-0...\n",
       "34   2.955767  5\\n\\n            C\\t0\\t0\\t0\\n            F\\t-0...\n",
       "35   3.022944  5\\n\\n            C\\t0\\t0\\t0\\n            F\\t-0...\n",
       "36   3.090120  5\\n\\n            C\\t0\\t0\\t0\\n            F\\t-0...\n",
       "37   3.157297  5\\n\\n            C\\t0\\t0\\t0\\n            F\\t-0...\n",
       "38   3.224473  5\\n\\n            C\\t0\\t0\\t0\\n            F\\t-0...\n",
       "39   3.291650  5\\n\\n            C\\t0\\t0\\t0\\n            F\\t-0...\n",
       "40   3.358826  5\\n\\n            C\\t0\\t0\\t0\\n            F\\t-0..."
      ]
     },
     "execution_count": 36,
     "metadata": {},
     "output_type": "execute_result"
    }
   ],
   "source": [
    "pfm"
   ]
  },
  {
   "cell_type": "markdown",
   "metadata": {},
   "source": [
    "## ACE-of-SPADE"
   ]
  },
  {
   "cell_type": "code",
   "execution_count": 37,
   "metadata": {},
   "outputs": [],
   "source": [
    "from nbed.localizers import ACELocalizer\n",
    "from pyscf.gto import Mole\n",
    "from pathlib import Path\n",
    "from pyscf.scf import RHF\n",
    "from pyscf.dft import RKS\n",
    "from pyscf.cc import CCSD\n",
    "import pickle\n",
    "from nbed.driver import NbedDriver\n",
    "from nbed.ham_builder import HamiltonianBuilder\n",
    "\n",
    "import numpy as np\n",
    "import pandas as pd\n"
   ]
  },
  {
   "cell_type": "markdown",
   "metadata": {},
   "source": [
    "There are 89 Molecular Orbitals in the STO-3G basis.\n",
    "\n",
    "This is significantly outside of the range which may be simulated directly on a quantum computer."
   ]
  },
  {
   "cell_type": "code",
   "execution_count": null,
   "metadata": {},
   "outputs": [],
   "source": [
    "from nbed.config import NbedConfig\n",
    "def calculate_energies(df: pd.DataFrame, charge = 0, spin = 0, fci = False, ccsd = True) -> None:\n",
    "        df = df.copy()\n",
    "        args = {\"n_active_atoms\": 2,\n",
    "                \"basis\": \"STO-3G\",\n",
    "                \"xc_functional\": \"b3lyp\",\n",
    "                \"projector\": \"both\",\n",
    "                \"localization\": \"spade\",\n",
    "                \"convergence\": 1e-6,\n",
    "                \"max_ram_memory\": 2_000_000,\n",
    "                \"run_fci_emb\": fci,\n",
    "                \"run_ccsd_emb\": ccsd,\n",
    "                \"charge\": charge,\n",
    "                \"spin\":spin,\n",
    "                }\n",
    "        \n",
    "\n",
    "        print(\"Running ACE-of-SPADE\")\n",
    "        scf_objects = []\n",
    "        for index, row in df.iterrows():\n",
    "                # print(df.loc[index,\"distances\"])\n",
    "                args[\"geometry\"] = row[\"xyz\"]\n",
    "                config = NbedConfig(**args, max_hf_cycles=200)\n",
    "                driver = NbedDriver(config)\n",
    "                scf_objects.append(driver._global_ks)\n",
    "        \n",
    "\n",
    "        mu_nmo_overwrite = ACELocalizer(scf_objects, args[\"n_active_atoms\"], max_shells=99).localize_path()\n",
    "        # huz_nmo_overwrite = ACELocalizer(df[\"huz_scf\"], args[\"n_active_atoms\"], max_shells=99)\n",
    "        # df.loc[\"mu_scf\"] = pd.Series(dtype='object')\n",
    "        # assert mu_nmo_overwrite == huz_nmo_overwrite\n",
    "        print(f\"{mu_nmo_overwrite=}\")\n",
    "        # mu_nmo_overwrite = (None, None)\n",
    "        print(f\"{mu_nmo_overwrite=}\")\n",
    "        args[\"n_mo_overwrite\"] = mu_nmo_overwrite\n",
    "\n",
    "\n",
    "        print(\"========================\")\n",
    "        print(\"Running Embedding\")\n",
    "        for index, row in df.iterrows():\n",
    "                args[\"geometry\"] = row[\"xyz\"]\n",
    "                config = NbedConfig(**args)\n",
    "                print(f\"Running distance {row['distances']}\")\n",
    "                try:\n",
    "                        driver = NbedDriver(config,max_hf_cycles=200)\n",
    "                        driver.embed()\n",
    "                        # df.loc[index, \"mu_scf\"] = driver.embedded_scf\n",
    "                        # df.loc[index, \"huz_scf\"] = driver.embedded_scf[1]\n",
    "                        df.loc[index, \"mu_nmo_emb\"] = driver.mu[\"scf\"].mo_coeff.shape[1]\n",
    "                        df.loc[index, \"mu_nmo\"] = driver.mu[\"scf\"].mo_coeff.shape[0]\n",
    "                        # df.loc[index, \"huz_nmo\"] = driver.embedded_scf.mo_coeff.shape[-1]\n",
    "\n",
    "                        print(\"Running SCF Methods\")\n",
    "                        df.loc[index,\"HF\"] = driver._global_hf().e_tot\n",
    "                        df.loc[index,\"DFT\"] = driver._global_ks().e_tot\n",
    "\n",
    "                        print(\"Running Reference Methods\")\n",
    "                        if args[\"run_fci_emb\"]:\n",
    "                                print(\"Running FCI\")\n",
    "                                df.loc[index,\"FCI\"] = driver._global_fci().e_tot\n",
    "                                df.loc[index,\"mu_FCI\"] = driver.mu[\"e_fci\"]\n",
    "                                df.loc[index,\"huz_FCI\"] = driver.huzinaga[\"e_fci\"]\n",
    "\n",
    "                        if args[\"run_ccsd_emb\"]:\n",
    "                                df.loc[index,\"CCSD\"] = driver._global_ccsd().e_tot\n",
    "                                df.loc[index,\"mu_CCSD\"] = driver.mu[\"e_ccsd\"]\n",
    "                                df.loc[index,\"huz_CCSD\"] = driver.huzinaga[\"e_ccsd\"]\n",
    "                        \n",
    "                        df.loc[index,\"mu_classical\"] = driver.mu[\"classical_energy\"]\n",
    "                        # df.loc[index,\"huz_classical\"] = driver.huzinaga[\"classical_energy\"]\n",
    "\n",
    "                        # df.loc[index,\"n_mo\"] = driver.mu[\"scf\"].mo_coeff.shape\n",
    "\n",
    "\n",
    "                        muham = HamiltonianBuilder(driver.mu[\"scf\"], driver.classical_energy).build()\n",
    "                        # huzham = HamiltonianBuilder(driver.embedded_scf[1], driver.classical_energy[1]).build(taper=True)\n",
    "                        with open(f\"fluoromethane_mu_ham_{index}.pkl\", \"wb\") as f:\n",
    "                                pickle.dump(muham, f)\n",
    "                        \n",
    "                except np.linalg.linalg.LinAlgError:\n",
    "                        print(f\"Geometry {args[\"geometry\"]} failed\")\n",
    "\n",
    "                with open(f\"fluoromethane_{index}.pkl\", \"wb\") as f:\n",
    "                        pickle.dump(df, f)\n",
    "        return df"
   ]
  },
  {
   "cell_type": "code",
   "execution_count": 70,
   "metadata": {},
   "outputs": [
    {
     "name": "stdout",
     "output_type": "stream",
     "text": [
      "Running ACE-of-SPADE\n"
     ]
    },
    {
     "ename": "ValueError",
     "evalue": "Global SCF inputs must have the same mo_coeff shape.",
     "output_type": "error",
     "traceback": [
      "\u001b[31m---------------------------------------------------------------------------\u001b[39m",
      "\u001b[31mValueError\u001b[39m                                Traceback (most recent call last)",
      "\u001b[36mCell\u001b[39m\u001b[36m \u001b[39m\u001b[32mIn[70]\u001b[39m\u001b[32m, line 1\u001b[39m\n\u001b[32m----> \u001b[39m\u001b[32m1\u001b[39m pfm = \u001b[43mcalculate_energies\u001b[49m\u001b[43m(\u001b[49m\u001b[43mpfm\u001b[49m\u001b[43m.\u001b[49m\u001b[43miloc\u001b[49m\u001b[43m[\u001b[49m\u001b[32;43m10\u001b[39;49m\u001b[43m:\u001b[49m\u001b[32;43m12\u001b[39;49m\u001b[43m,\u001b[49m\u001b[43m:\u001b[49m\u001b[43m]\u001b[49m\u001b[43m,\u001b[49m\u001b[43m \u001b[49m\u001b[43mspin\u001b[49m\u001b[43m=\u001b[49m\u001b[32;43m0\u001b[39;49m\u001b[43m,\u001b[49m\u001b[43m \u001b[49m\u001b[43mcharge\u001b[49m\u001b[43m=\u001b[49m\u001b[32;43m0\u001b[39;49m\u001b[43m,\u001b[49m\u001b[43m \u001b[49m\u001b[43mfci\u001b[49m\u001b[43m=\u001b[49m\u001b[38;5;28;43;01mFalse\u001b[39;49;00m\u001b[43m)\u001b[49m\n",
      "\u001b[36mCell\u001b[39m\u001b[36m \u001b[39m\u001b[32mIn[69]\u001b[39m\u001b[32m, line 27\u001b[39m, in \u001b[36mcalculate_energies\u001b[39m\u001b[34m(df, charge, spin, fci, ccsd)\u001b[39m\n\u001b[32m     24\u001b[39m         driver = NbedDriver(config)\n\u001b[32m     25\u001b[39m         scf_objects.append(driver._global_ks)\n\u001b[32m---> \u001b[39m\u001b[32m27\u001b[39m mu_nmo_overwrite = \u001b[43mACELocalizer\u001b[49m\u001b[43m(\u001b[49m\u001b[43mscf_objects\u001b[49m\u001b[43m,\u001b[49m\u001b[43m \u001b[49m\u001b[43margs\u001b[49m\u001b[43m[\u001b[49m\u001b[33;43m\"\u001b[39;49m\u001b[33;43mn_active_atoms\u001b[39;49m\u001b[33;43m\"\u001b[39;49m\u001b[43m]\u001b[49m\u001b[43m,\u001b[49m\u001b[43m \u001b[49m\u001b[43mmax_shells\u001b[49m\u001b[43m=\u001b[49m\u001b[32;43m99\u001b[39;49m\u001b[43m)\u001b[49m.localize_path()\n\u001b[32m     28\u001b[39m \u001b[38;5;66;03m# huz_nmo_overwrite = ACELocalizer(df[\"huz_scf\"], args[\"n_active_atoms\"], max_shells=99)\u001b[39;00m\n\u001b[32m     29\u001b[39m \u001b[38;5;66;03m# df.loc[\"mu_scf\"] = pd.Series(dtype='object')\u001b[39;00m\n\u001b[32m     30\u001b[39m \u001b[38;5;66;03m# assert mu_nmo_overwrite == huz_nmo_overwrite\u001b[39;00m\n\u001b[32m     31\u001b[39m \u001b[38;5;28mprint\u001b[39m(\u001b[33mf\u001b[39m\u001b[33m\"\u001b[39m\u001b[38;5;132;01m{\u001b[39;00mmu_nmo_overwrite\u001b[38;5;132;01m=}\u001b[39;00m\u001b[33m\"\u001b[39m)\n",
      "\u001b[36mFile \u001b[39m\u001b[32m~/Code/Nbed/nbed/localizers/ace.py:52\u001b[39m, in \u001b[36mACELocalizer.__init__\u001b[39m\u001b[34m(self, global_scf_list, n_active_atoms, max_shells)\u001b[39m\n\u001b[32m     49\u001b[39m \u001b[38;5;28mself\u001b[39m.max_shells = max_shells\n\u001b[32m     51\u001b[39m \u001b[38;5;28;01mif\u001b[39;00m \u001b[38;5;28mlen\u001b[39m({gscf.mo_coeff.shape \u001b[38;5;28;01mfor\u001b[39;00m gscf \u001b[38;5;129;01min\u001b[39;00m global_scf_list}) != \u001b[32m1\u001b[39m:\n\u001b[32m---> \u001b[39m\u001b[32m52\u001b[39m     \u001b[38;5;28;01mraise\u001b[39;00m \u001b[38;5;167;01mValueError\u001b[39;00m(\u001b[33m\"\u001b[39m\u001b[33mGlobal SCF inputs must have the same mo_coeff shape.\u001b[39m\u001b[33m\"\u001b[39m)\n",
      "\u001b[31mValueError\u001b[39m: Global SCF inputs must have the same mo_coeff shape."
     ]
    }
   ],
   "source": [
    "pfm = calculate_energies(pfm.iloc[10:12,:], spin=0, charge=0, fci=False)"
   ]
  },
  {
   "cell_type": "code",
   "execution_count": 25,
   "metadata": {},
   "outputs": [],
   "source": [
    "# pfm.loc[fluoromethane[\"DFT\"] > -130, \"DFT\"] = np.nan"
   ]
  },
  {
   "cell_type": "code",
   "execution_count": 62,
   "metadata": {},
   "outputs": [
    {
     "data": {
      "text/plain": [
       "<Axes: title={'center': 'Fluoromethane Energy vs Distance'}, xlabel='Distance (Angstroms)', ylabel='Energy (Hartrees)'>"
      ]
     },
     "execution_count": 62,
     "metadata": {},
     "output_type": "execute_result"
    },
    {
     "data": {
      "image/png": "[encoded data removed]",
      "text/plain": [
       "<Figure size 640x480 with 1 Axes>"
      ]
     },
     "metadata": {},
     "output_type": "display_data"
    }
   ],
   "source": [
    "data = [\n",
    "    'distances',\n",
    "    'HF',\n",
    "    'DFT',\n",
    "    'CCSD', \n",
    "    'mu_CCSD', \n",
    "    # \"mu_FCI\",\n",
    "    # 'huz_CCSD'\n",
    "    ]\n",
    "pfm.loc[pfm.index, data].plot(xlabel=\"Distance (Angstroms)\", ylabel=\"Energy (Hartrees)\", x=\"distances\", title=\"Fluoromethane Energy vs Distance\")\n"
   ]
  },
  {
   "cell_type": "code",
   "execution_count": 64,
   "metadata": {},
   "outputs": [
    {
     "data": {
      "image/png": "[encoded data removed]",
      "text/plain": [
       "<Figure size 640x480 with 1 Axes>"
      ]
     },
     "metadata": {},
     "output_type": "display_data"
    }
   ],
   "source": [
    "import matplotlib.pyplot as plt\n",
    "\n",
    "toplot = pfm.loc[pfm.index[2:-6], data]\n",
    "dist = toplot[\"distances\"]\n",
    "\n",
    "plt.plot(dist, toplot[\"HF\"], label=\"HF\", color=\"#648fff\")\n",
    "plt.plot(dist, toplot[\"DFT\"], label=\"DFT\", color=\"#dc267f\")\n",
    "plt.plot(dist, toplot[\"CCSD\"], label=\"CCSD\", color=\"#fe6100\")\n",
    "plt.plot(dist, toplot[\"mu_CCSD\"], label=\"CCSD-in-DFT\", color=\"#ffb000\", marker=\"s\")\n",
    "# plt.plot(dist, toplot[\"mu_FCI\"], label=\"FCI-in-DFT\", color=\"#785ef0\", marker=\"x\")\n",
    "# plt.title(\"Perfluoromethane Bond Dissociation\")\n",
    "plt.xlabel(\"Distance (Angstrom)\")\n",
    "plt.ylabel(\"Energy (Ha)\")\n",
    "plt.legend()\n",
    "plt.savefig(\"pfm.pdf\")"
   ]
  },
  {
   "cell_type": "markdown",
   "metadata": {},
   "source": [
    "## Graph differences in energy from FCI\n",
    "\n",
    "PBE is obviously well suited to creating dissociation curves."
   ]
  },
  {
   "cell_type": "code",
   "execution_count": null,
   "metadata": {},
   "outputs": [],
   "source": [
    "f_diffs = pfm[['HF','DFT', 'mu_FCI']].subtract(pfm[\"CCSD\"], axis=0)\n",
    "f_diffs = pd.concat([f_diffs, pfm.filter(regex=(\"_CCSD\")).subtract(pfm[\"CCSD\"], axis=0)], axis=1)"
   ]
  },
  {
   "cell_type": "code",
   "execution_count": null,
   "metadata": {},
   "outputs": [],
   "source": [
    "f_diffs[\"distances\"] = pfm[\"distances\"]\n",
    "f_diffs[[\"distances\",\"HF\",\"DFT\",\"mu_CCSD\",\"mu_FCI\"]].loc[:19].plot(x=\"distances\", title=\"Fluoromethane Energy Difference vs Distance\")"
   ]
  },
  {
   "cell_type": "markdown",
   "metadata": {},
   "source": [
    "With frozen core (no frozen virtuals yet)"
   ]
  },
  {
   "cell_type": "code",
   "execution_count": null,
   "metadata": {},
   "outputs": [],
   "source": [
    "import matplotlib.pyplot as plt\n",
    "fig, ax = plt.subplots()\n",
    "f_diffs.filter(regex=(\"huz_FCI_1_\")).loc[:19].plot(title=\"Fluoromethane Energy Difference vs Distance\", ax=ax, linestyle='-')\n",
    "f_diffs[[\"huz_FCI\"]].loc[:19].plot(ax=ax)\n",
    "# f_diffs.filter(regex=(\"huz_FCI_2_\")).loc[:19].plot(title=\"Fluoromethane Energy Difference vs Distance\", ax=ax, linestyle='--')\n"
   ]
  },
  {
   "cell_type": "code",
   "execution_count": null,
   "metadata": {},
   "outputs": [],
   "source": [
    "import matplotlib.pyplot as plt\n",
    "fig, ax = plt.subplots()\n",
    "f_diffs.filter(regex=(\"huz_FCI_2_\")).loc[:19].plot(title=\"Fluoromethane Energy Difference vs Distance\", ax=ax, linestyle='-')\n",
    "f_diffs[[\"huz_FCI\"]].loc[:19].plot(ax=ax)"
   ]
  },
  {
   "cell_type": "code",
   "execution_count": null,
   "metadata": {},
   "outputs": [],
   "source": [
    "import matplotlib.pyplot as plt\n",
    "fig, ax = plt.subplots()\n",
    "f_diffs.filter(regex=(\"huz_FCI_3_\")).loc[:19].plot(title=\"Fluoromethane Energy Difference vs Distance\", ax=ax, linestyle='-')\n",
    "f_diffs[[\"huz_FCI\"]].loc[:19].plot(ax=ax)"
   ]
  },
  {
   "cell_type": "markdown",
   "metadata": {},
   "source": [
    "## PFOA"
   ]
  },
  {
   "cell_type": "code",
   "execution_count": null,
   "metadata": {},
   "outputs": [],
   "source": [
    "pfoa = pubchem_mol_geometry(\"Perfluorooctanoic acid\")\n",
    "pfoa_ordered = build_ordered_xyz_string(pfoa, active_atom_inds=[11,22])\n",
    "save_ordered_xyz_file(\"pfoa\", pfoa, active_atom_inds=[11,22])\n",
    "pfoa_df = init_mol_df(\"pfoa\", 11, 22)"
   ]
  },
  {
   "cell_type": "code",
   "execution_count": null,
   "metadata": {},
   "outputs": [],
   "source": [
    "pfoa"
   ]
  },
  {
   "cell_type": "markdown",
   "metadata": {},
   "source": [
    "## PFOA without $e_{aq}^-$"
   ]
  },
  {
   "cell_type": "code",
   "execution_count": null,
   "metadata": {},
   "outputs": [],
   "source": [
    "calculate_energies(pfoa_df)"
   ]
  },
  {
   "cell_type": "code",
   "execution_count": null,
   "metadata": {},
   "outputs": [],
   "source": []
  }
 ],
 "metadata": {
  "kernelspec": {
   "display_name": "nbed",
   "language": "python",
   "name": "python3"
  },
  "language_info": {
   "codemirror_mode": {
    "name": "ipython",
    "version": 3
   },
   "file_extension": ".py",
   "mimetype": "text/x-python",
   "name": "python",
   "nbconvert_exporter": "python",
   "pygments_lexer": "ipython3",
   "version": "3.13.1"
  }
 },
 "nbformat": 4,
 "nbformat_minor": 2
}
