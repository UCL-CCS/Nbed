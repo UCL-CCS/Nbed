{
 "cells": [
  {
   "cell_type": "markdown",
   "metadata": {},
   "source": [
    "# Solvation, Embedding and Subspace Techniques for Quantum Computing in the Chemical Sciences\n",
    "\n",
    "## Results for Perfluoromethane Bond Dissociation"
   ]
  },
  {
   "cell_type": "markdown",
   "metadata": {},
   "source": [
    "## Visualisation"
   ]
  },
  {
   "cell_type": "code",
   "execution_count": 1,
   "metadata": {},
   "outputs": [],
   "source": [
    "\"\"\"Tools to plot molecular orbitals.\"\"\"\n",
    "\n",
    "import logging\n",
    "import os\n",
    "from typing import List\n",
    "\n",
    "import numpy as np\n",
    "import py3Dmol\n",
    "from pyscf import gto\n",
    "from pyscf.tools import cubegen\n",
    "\n",
    "logger = logging.getLogger(__name__)\n",
    "\n",
    "\n",
    "def Draw_molecule(\n",
    "    xyz_string: str, width: int = 400, height: int = 400, style: str = \"sphere\"\n",
    ") -> py3Dmol.view:\n",
    "    \"\"\"Draw molecule from xyz string.\n",
    "\n",
    "    Note if molecule has unrealistic bonds, then style should be sphere. Otherwise stick style can be used\n",
    "    which shows bonds.\n",
    "\n",
    "    TODO: more styles at http://3dmol.csb.pitt.edu/doc/$3Dmol.GLViewer.html\n",
    "\n",
    "    Args:\n",
    "        xyz_string (str): xyz string of molecule\n",
    "        width (int): width of image\n",
    "        height (int): Height of image\n",
    "        style (str): py3Dmol style ('sphere' or 'stick')\n",
    "\n",
    "    Returns:\n",
    "        view (py3dmol.view object). Run view.show() method to print molecule.\n",
    "    \"\"\"\n",
    "    logger.debug(\"Drawing molecule.\")\n",
    "    if style == \"sphere\":\n",
    "        view = py3Dmol.view(\n",
    "            data=xyz_string,\n",
    "            style={\"sphere\": {\"radius\": 0.2}},\n",
    "            width=width,\n",
    "            height=height,\n",
    "        )\n",
    "    elif style == \"stick\":\n",
    "        view = py3Dmol.view(\n",
    "            data=xyz_string, style={\"stick\": {}}, width=width, height=height\n",
    "        )\n",
    "    elif style == \"line\":\n",
    "        view = py3Dmol.view(\n",
    "            data=xyz_string, style={\"line\":{\"linewidth\":16}}, width=width, height=height\n",
    "        )\n",
    "    else:\n",
    "        raise ValueError(f\"unknown py3dmol style: {style}\")\n",
    "\n",
    "    view.zoomTo()\n",
    "    return view\n",
    "\n",
    "\n",
    "def draw_cube_orbital(\n",
    "    PySCF_mol_obj: gto.Mole,\n",
    "    xyz_string: str,\n",
    "    C_matrix: np.ndarray,\n",
    "    index_list: List[int],\n",
    "    width: int = 400,\n",
    "    height: int = 400,\n",
    "    style: str = \"sphere\",\n",
    ") -> List:\n",
    "    \"\"\"Draw orbials given a C_matrix and xyz string of molecule.\n",
    "\n",
    "    This function writes orbitals to tempory cube files then deletes them.\n",
    "    For standard use the C_matrix input should be C_matrix optimized by a self consistent field (SCF) run.\n",
    "    Note if molecule has unrealistic bonds, then style should be set to sphere.\n",
    "\n",
    "    Args:\n",
    "        PySCF_mol_obj (pyscf.mol): PySCF mol object. Required for pyscf.tools.cubegen function\n",
    "        xyz_string (str): xyz string of molecule\n",
    "        C_matrix (np.array): Numpy array of molecular orbitals (columns are MO).\n",
    "        index_list (List): List of MO indices to plot\n",
    "        width (int): width of image\n",
    "        height (int): Height of image\n",
    "        style (str): py3Dmol style ('sphere' or 'stick')\n",
    "\n",
    "    Returns:\n",
    "        plotted_orbitals (List): List of plotted orbitals (py3Dmol.view) ordered the same way as in index_list\n",
    "    \"\"\"\n",
    "    logger.debug(\"Drawing cube orbital.\")\n",
    "    if not set(index_list).issubset(set(range(C_matrix.shape[1]))):\n",
    "        raise ValueError(\n",
    "            \"list of MO indices to plot is outside of C_matrix column indices\"\n",
    "        )\n",
    "\n",
    "    plotted_orbitals = []\n",
    "    for index in index_list:\n",
    "        File_name = f\"temp_MO_orbital_index{index}.cube\"\n",
    "        cubegen.orbital(PySCF_mol_obj, File_name, C_matrix[:, index])\n",
    "\n",
    "        view = py3Dmol.view(width=width, height=height)\n",
    "        view.addModel(xyz_string, \"xyz\")\n",
    "        if style == \"sphere\":\n",
    "            view.setStyle({\"sphere\": {\"radius\": 0.2}})\n",
    "        elif style == \"stick\":\n",
    "            view.setStyle({\"stick\": {}})\n",
    "        else:\n",
    "            raise ValueError(f\"unknown py3dmol style: {style}\")\n",
    "\n",
    "        with open(File_name, \"r\") as f:\n",
    "            view.addVolumetricData(\n",
    "                f.read(), \"cube\", {\"isoval\": -0.02, \"color\": \"red\", \"opacity\": 0.75}\n",
    "            )\n",
    "        with open(File_name, \"r\") as f2:\n",
    "            view.addVolumetricData(\n",
    "                f2.read(), \"cube\", {\"isoval\": 0.02, \"color\": \"blue\", \"opacity\": 0.75}\n",
    "            )\n",
    "\n",
    "        plotted_orbitals.append(view.zoomTo())\n",
    "        os.remove(File_name)  # delete file once orbital is drawn\n",
    "\n",
    "    return plotted_orbitals"
   ]
  },
  {
   "cell_type": "markdown",
   "metadata": {},
   "source": [
    "## Generate Geometries"
   ]
  },
  {
   "cell_type": "code",
   "execution_count": 2,
   "metadata": {},
   "outputs": [],
   "source": [
    "from nbed.utils import pubchem_mol_geometry, build_ordered_xyz_string, save_ordered_xyz_file\n",
    "pfm_string = build_ordered_xyz_string(pubchem_mol_geometry(\"perfluoromethane\"), [4,0])\n"
   ]
  },
  {
   "cell_type": "code",
   "execution_count": 3,
   "metadata": {},
   "outputs": [
    {
     "name": "stdout",
     "output_type": "stream",
     "text": [
      "['5\\n \\n            C\\t0\\t0\\t0\\n            F\\t-0.05095\\t-0.5564\\t-0.37295\\n            F\\t-0.04\\t-0.3285\\t1.3021\\n            F\\t-1.0211\\t0.8254\\t-0.2852\\n            F\\t1.163\\t0.6159\\t-0.271\\n        ', '5\\n \\n            C\\t0\\t0\\t0\\n            F\\t-0.056045000000000005\\t-0.61204\\t-0.410245\\n            F\\t-0.04\\t-0.3285\\t1.3021\\n            F\\t-1.0211\\t0.8254\\t-0.2852\\n            F\\t1.163\\t0.6159\\t-0.271\\n        ', '5\\n \\n            C\\t0\\t0\\t0\\n            F\\t-0.06114\\t-0.6676799999999999\\t-0.44754\\n            F\\t-0.04\\t-0.3285\\t1.3021\\n            F\\t-1.0211\\t0.8254\\t-0.2852\\n            F\\t1.163\\t0.6159\\t-0.271\\n        ', '5\\n \\n            C\\t0\\t0\\t0\\n            F\\t-0.066235\\t-0.7233200000000001\\t-0.484835\\n            F\\t-0.04\\t-0.3285\\t1.3021\\n            F\\t-1.0211\\t0.8254\\t-0.2852\\n            F\\t1.163\\t0.6159\\t-0.271\\n        ', '5\\n \\n            C\\t0\\t0\\t0\\n            F\\t-0.07133\\t-0.77896\\t-0.52213\\n            F\\t-0.04\\t-0.3285\\t1.3021\\n            F\\t-1.0211\\t0.8254\\t-0.2852\\n            F\\t1.163\\t0.6159\\t-0.271\\n        ', '5\\n \\n            C\\t0\\t0\\t0\\n            F\\t-0.076425\\t-0.8346\\t-0.5594250000000001\\n            F\\t-0.04\\t-0.3285\\t1.3021\\n            F\\t-1.0211\\t0.8254\\t-0.2852\\n            F\\t1.163\\t0.6159\\t-0.271\\n        ', '5\\n \\n            C\\t0\\t0\\t0\\n            F\\t-0.08152000000000001\\t-0.89024\\t-0.59672\\n            F\\t-0.04\\t-0.3285\\t1.3021\\n            F\\t-1.0211\\t0.8254\\t-0.2852\\n            F\\t1.163\\t0.6159\\t-0.271\\n        ', '5\\n \\n            C\\t0\\t0\\t0\\n            F\\t-0.08661500000000001\\t-0.94588\\t-0.6340150000000001\\n            F\\t-0.04\\t-0.3285\\t1.3021\\n            F\\t-1.0211\\t0.8254\\t-0.2852\\n            F\\t1.163\\t0.6159\\t-0.271\\n        ', '5\\n \\n            C\\t0\\t0\\t0\\n            F\\t-0.09171\\t-1.00152\\t-0.6713100000000001\\n            F\\t-0.04\\t-0.3285\\t1.3021\\n            F\\t-1.0211\\t0.8254\\t-0.2852\\n            F\\t1.163\\t0.6159\\t-0.271\\n        ', '5\\n \\n            C\\t0\\t0\\t0\\n            F\\t-0.096805\\t-1.0571599999999999\\t-0.7086049999999999\\n            F\\t-0.04\\t-0.3285\\t1.3021\\n            F\\t-1.0211\\t0.8254\\t-0.2852\\n            F\\t1.163\\t0.6159\\t-0.271\\n        ', '5\\n \\n            C\\t0\\t0\\t0\\n            F\\t-0.1019\\t-1.1128\\t-0.7459\\n            F\\t-0.04\\t-0.3285\\t1.3021\\n            F\\t-1.0211\\t0.8254\\t-0.2852\\n            F\\t1.163\\t0.6159\\t-0.271\\n        ', '5\\n \\n            C\\t0\\t0\\t0\\n            F\\t-0.106995\\t-1.1684400000000001\\t-0.7831950000000001\\n            F\\t-0.04\\t-0.3285\\t1.3021\\n            F\\t-1.0211\\t0.8254\\t-0.2852\\n            F\\t1.163\\t0.6159\\t-0.271\\n        ', '5\\n \\n            C\\t0\\t0\\t0\\n            F\\t-0.11209000000000001\\t-1.22408\\t-0.82049\\n            F\\t-0.04\\t-0.3285\\t1.3021\\n            F\\t-1.0211\\t0.8254\\t-0.2852\\n            F\\t1.163\\t0.6159\\t-0.271\\n        ', '5\\n \\n            C\\t0\\t0\\t0\\n            F\\t-0.117185\\t-1.27972\\t-0.8577849999999999\\n            F\\t-0.04\\t-0.3285\\t1.3021\\n            F\\t-1.0211\\t0.8254\\t-0.2852\\n            F\\t1.163\\t0.6159\\t-0.271\\n        ', '5\\n \\n            C\\t0\\t0\\t0\\n            F\\t-0.12228000000000003\\t-1.33536\\t-0.8950800000000001\\n            F\\t-0.04\\t-0.3285\\t1.3021\\n            F\\t-1.0211\\t0.8254\\t-0.2852\\n            F\\t1.163\\t0.6159\\t-0.271\\n        ', '5\\n \\n            C\\t0\\t0\\t0\\n            F\\t-0.12737500000000002\\t-1.391\\t-0.932375\\n            F\\t-0.04\\t-0.3285\\t1.3021\\n            F\\t-1.0211\\t0.8254\\t-0.2852\\n            F\\t1.163\\t0.6159\\t-0.271\\n        ', '5\\n \\n            C\\t0\\t0\\t0\\n            F\\t-0.13247\\t-1.4466400000000001\\t-0.96967\\n            F\\t-0.04\\t-0.3285\\t1.3021\\n            F\\t-1.0211\\t0.8254\\t-0.2852\\n            F\\t1.163\\t0.6159\\t-0.271\\n        ', '5\\n \\n            C\\t0\\t0\\t0\\n            F\\t-0.13756500000000002\\t-1.50228\\t-1.006965\\n            F\\t-0.04\\t-0.3285\\t1.3021\\n            F\\t-1.0211\\t0.8254\\t-0.2852\\n            F\\t1.163\\t0.6159\\t-0.271\\n        ', '5\\n \\n            C\\t0\\t0\\t0\\n            F\\t-0.14266\\t-1.55792\\t-1.04426\\n            F\\t-0.04\\t-0.3285\\t1.3021\\n            F\\t-1.0211\\t0.8254\\t-0.2852\\n            F\\t1.163\\t0.6159\\t-0.271\\n        ', '5\\n \\n            C\\t0\\t0\\t0\\n            F\\t-0.14775500000000003\\t-1.61356\\t-1.081555\\n            F\\t-0.04\\t-0.3285\\t1.3021\\n            F\\t-1.0211\\t0.8254\\t-0.2852\\n            F\\t1.163\\t0.6159\\t-0.271\\n        ', '5\\n \\n            C\\t0\\t0\\t0\\n            F\\t-0.15285\\t-1.6692\\t-1.1188500000000001\\n            F\\t-0.04\\t-0.3285\\t1.3021\\n            F\\t-1.0211\\t0.8254\\t-0.2852\\n            F\\t1.163\\t0.6159\\t-0.271\\n        ', '5\\n \\n            C\\t0\\t0\\t0\\n            F\\t-0.157945\\t-1.7248400000000002\\t-1.156145\\n            F\\t-0.04\\t-0.3285\\t1.3021\\n            F\\t-1.0211\\t0.8254\\t-0.2852\\n            F\\t1.163\\t0.6159\\t-0.271\\n        ', '5\\n \\n            C\\t0\\t0\\t0\\n            F\\t-0.16304000000000002\\t-1.78048\\t-1.19344\\n            F\\t-0.04\\t-0.3285\\t1.3021\\n            F\\t-1.0211\\t0.8254\\t-0.2852\\n            F\\t1.163\\t0.6159\\t-0.271\\n        ', '5\\n \\n            C\\t0\\t0\\t0\\n            F\\t-0.16813500000000003\\t-1.8361200000000002\\t-1.2307350000000001\\n            F\\t-0.04\\t-0.3285\\t1.3021\\n            F\\t-1.0211\\t0.8254\\t-0.2852\\n            F\\t1.163\\t0.6159\\t-0.271\\n        ', '5\\n \\n            C\\t0\\t0\\t0\\n            F\\t-0.17323000000000002\\t-1.89176\\t-1.2680300000000002\\n            F\\t-0.04\\t-0.3285\\t1.3021\\n            F\\t-1.0211\\t0.8254\\t-0.2852\\n            F\\t1.163\\t0.6159\\t-0.271\\n        ', '5\\n \\n            C\\t0\\t0\\t0\\n            F\\t-0.178325\\t-1.9474\\t-1.305325\\n            F\\t-0.04\\t-0.3285\\t1.3021\\n            F\\t-1.0211\\t0.8254\\t-0.2852\\n            F\\t1.163\\t0.6159\\t-0.271\\n        ', '5\\n \\n            C\\t0\\t0\\t0\\n            F\\t-0.18342\\t-2.00304\\t-1.3426200000000001\\n            F\\t-0.04\\t-0.3285\\t1.3021\\n            F\\t-1.0211\\t0.8254\\t-0.2852\\n            F\\t1.163\\t0.6159\\t-0.271\\n        ', '5\\n \\n            C\\t0\\t0\\t0\\n            F\\t-0.18851500000000002\\t-2.0586800000000003\\t-1.379915\\n            F\\t-0.04\\t-0.3285\\t1.3021\\n            F\\t-1.0211\\t0.8254\\t-0.2852\\n            F\\t1.163\\t0.6159\\t-0.271\\n        ', '5\\n \\n            C\\t0\\t0\\t0\\n            F\\t-0.19361000000000003\\t-2.11432\\t-1.41721\\n            F\\t-0.04\\t-0.3285\\t1.3021\\n            F\\t-1.0211\\t0.8254\\t-0.2852\\n            F\\t1.163\\t0.6159\\t-0.271\\n        ', '5\\n \\n            C\\t0\\t0\\t0\\n            F\\t-0.19870500000000002\\t-2.16996\\t-1.4545050000000002\\n            F\\t-0.04\\t-0.3285\\t1.3021\\n            F\\t-1.0211\\t0.8254\\t-0.2852\\n            F\\t1.163\\t0.6159\\t-0.271\\n        ', '5\\n \\n            C\\t0\\t0\\t0\\n            F\\t-0.2038\\t-2.2256\\t-1.4918\\n            F\\t-0.04\\t-0.3285\\t1.3021\\n            F\\t-1.0211\\t0.8254\\t-0.2852\\n            F\\t1.163\\t0.6159\\t-0.271\\n        ', '5\\n \\n            C\\t0\\t0\\t0\\n            F\\t-0.208895\\t-2.28124\\t-1.5290949999999999\\n            F\\t-0.04\\t-0.3285\\t1.3021\\n            F\\t-1.0211\\t0.8254\\t-0.2852\\n            F\\t1.163\\t0.6159\\t-0.271\\n        ', '5\\n \\n            C\\t0\\t0\\t0\\n            F\\t-0.21399\\t-2.3368800000000003\\t-1.5663900000000002\\n            F\\t-0.04\\t-0.3285\\t1.3021\\n            F\\t-1.0211\\t0.8254\\t-0.2852\\n            F\\t1.163\\t0.6159\\t-0.271\\n        ', '5\\n \\n            C\\t0\\t0\\t0\\n            F\\t-0.21908500000000006\\t-2.39252\\t-1.6036850000000002\\n            F\\t-0.04\\t-0.3285\\t1.3021\\n            F\\t-1.0211\\t0.8254\\t-0.2852\\n            F\\t1.163\\t0.6159\\t-0.271\\n        ', '5\\n \\n            C\\t0\\t0\\t0\\n            F\\t-0.22418000000000002\\t-2.44816\\t-1.64098\\n            F\\t-0.04\\t-0.3285\\t1.3021\\n            F\\t-1.0211\\t0.8254\\t-0.2852\\n            F\\t1.163\\t0.6159\\t-0.271\\n        ', '5\\n \\n            C\\t0\\t0\\t0\\n            F\\t-0.229275\\t-2.5038\\t-1.678275\\n            F\\t-0.04\\t-0.3285\\t1.3021\\n            F\\t-1.0211\\t0.8254\\t-0.2852\\n            F\\t1.163\\t0.6159\\t-0.271\\n        ', '5\\n \\n            C\\t0\\t0\\t0\\n            F\\t-0.23437\\t-2.55944\\t-1.7155699999999998\\n            F\\t-0.04\\t-0.3285\\t1.3021\\n            F\\t-1.0211\\t0.8254\\t-0.2852\\n            F\\t1.163\\t0.6159\\t-0.271\\n        ', '5\\n \\n            C\\t0\\t0\\t0\\n            F\\t-0.239465\\t-2.6150800000000003\\t-1.7528650000000001\\n            F\\t-0.04\\t-0.3285\\t1.3021\\n            F\\t-1.0211\\t0.8254\\t-0.2852\\n            F\\t1.163\\t0.6159\\t-0.271\\n        ', '5\\n \\n            C\\t0\\t0\\t0\\n            F\\t-0.24456000000000006\\t-2.67072\\t-1.7901600000000002\\n            F\\t-0.04\\t-0.3285\\t1.3021\\n            F\\t-1.0211\\t0.8254\\t-0.2852\\n            F\\t1.163\\t0.6159\\t-0.271\\n        ', '5\\n \\n            C\\t0\\t0\\t0\\n            F\\t-0.24965500000000002\\t-2.72636\\t-1.827455\\n            F\\t-0.04\\t-0.3285\\t1.3021\\n            F\\t-1.0211\\t0.8254\\t-0.2852\\n            F\\t1.163\\t0.6159\\t-0.271\\n        ', '5\\n \\n            C\\t0\\t0\\t0\\n            F\\t-0.25475000000000003\\t-2.782\\t-1.86475\\n            F\\t-0.04\\t-0.3285\\t1.3021\\n            F\\t-1.0211\\t0.8254\\t-0.2852\\n            F\\t1.163\\t0.6159\\t-0.271\\n        ']\n"
     ]
    }
   ],
   "source": [
    "import pandas as pd\n",
    "import numpy as np\n",
    "from nbed.utils import pubchem_mol_geometry, build_ordered_xyz_string, save_ordered_xyz_file\n",
    "\n",
    "def init_mol_df() -> pd.DataFrame:\n",
    "    def mol_geometry(factor):\n",
    "        string=f\"\"\"5\n",
    " \n",
    "            C\t0\t0\t0\n",
    "            F\t{-0.1019*factor}\t{-1.1128*factor}\t{-0.7459*factor}\n",
    "            F\t-0.04\t-0.3285\t1.3021\n",
    "            F\t-1.0211\t0.8254\t-0.2852\n",
    "            F\t1.163\t0.6159\t-0.271\n",
    "        \"\"\"\n",
    "        return string\n",
    "\n",
    "    xyz_list = [mol_geometry(dist) for dist in np.linspace(0.5, 2.5, 41)]\n",
    "    print(xyz_list)\n",
    "\n",
    "    df = pd.DataFrame(index = range(len(xyz_list)), columns = [\"distances\", \"xyz\"])\n",
    "    df[\"distances\"] = [i*np.linalg.norm([-0.1019, -1.1128, -0.7459]) for i in np.linspace(0.5, 2.5, 41)]\n",
    "    df[\"xyz\"] = xyz_list\n",
    "    return df\n",
    "\n",
    "pfm = init_mol_df()"
   ]
  },
  {
   "cell_type": "markdown",
   "metadata": {},
   "source": [
    "## ACE-of-SPADE"
   ]
  },
  {
   "cell_type": "code",
   "execution_count": 4,
   "metadata": {},
   "outputs": [],
   "source": [
    "from nbed.localizers import ACELocalizer\n",
    "from pyscf.gto import Mole\n",
    "from pathlib import Path\n",
    "from pyscf.scf import RHF\n",
    "from pyscf.dft import RKS\n",
    "from pyscf.cc import CCSD\n",
    "import pickle\n",
    "from nbed.driver import NbedDriver\n",
    "from nbed.ham_builder import HamiltonianBuilder\n",
    "\n",
    "import numpy as np\n",
    "import pandas as pd\n"
   ]
  },
  {
   "cell_type": "markdown",
   "metadata": {},
   "source": [
    "There are 89 Molecular Orbitals in the STO-3G basis.\n",
    "\n",
    "This is significantly outside of the range which may be simulated directly on a quantum computer."
   ]
  },
  {
   "cell_type": "code",
   "execution_count": 5,
   "metadata": {},
   "outputs": [],
   "source": [
    "def calculate_energies(df: pd.DataFrame, charge = 0, spin = 0, fci = False, ccsd = True) -> None:\n",
    "        df = df.copy()\n",
    "        args = {\"n_active_atoms\": 2,\n",
    "                \"basis\": \"6-31G\",\n",
    "                \"xc_functional\": \"b3lyp\",\n",
    "                \"projector\": \"mu\",\n",
    "                \"localization\": \"spade\",\n",
    "                \"convergence\": 1e-6,\n",
    "                \"max_ram_memory\": 2_000_000,\n",
    "                \"run_fci_emb\": fci,\n",
    "                \"run_ccsd_emb\": ccsd,\n",
    "                \"charge\": charge,\n",
    "                \"spin\":spin,\n",
    "                }\n",
    "\n",
    "        print(\"Running ACE-of-SPADE\")\n",
    "        scf_objects = []\n",
    "        for index, row in df.iterrows():\n",
    "                # print(df.loc[index,\"distances\"])\n",
    "                geom = row[\"xyz\"]\n",
    "                driver = NbedDriver(geometry=geom, **args)\n",
    "                scf_objects.append(driver._global_ks)\n",
    "\n",
    "        mu_nmo_overwrite = ACELocalizer(scf_objects, args[\"n_active_atoms\"], max_shells=99).localize_path()\n",
    "        # huz_nmo_overwrite = ACELocalizer(df[\"huz_scf\"], args[\"n_active_atoms\"], max_shells=99)\n",
    "        # df.loc[\"mu_scf\"] = pd.Series(dtype='object')\n",
    "        # assert mu_nmo_overwrite == huz_nmo_overwrite\n",
    "        print(f\"{mu_nmo_overwrite=}\")\n",
    "        # mu_nmo_overwrite = (None, None)\n",
    "        print(f\"{mu_nmo_overwrite=}\")\n",
    "        args[\"n_mo_overwrite\"] = mu_nmo_overwrite\n",
    "\n",
    "\n",
    "        print(\"========================\")\n",
    "        print(\"Running Embedding\")\n",
    "        for index, row in df.iterrows():\n",
    "                geom = row[\"xyz\"]\n",
    "                print(f\"Running distance {row['distances']}\")\n",
    "                try:\n",
    "                        driver = NbedDriver(geometry=geom, **args)\n",
    "                        # df.loc[index, \"mu_scf\"] = driver.embedded_scf\n",
    "                        # df.loc[index, \"huz_scf\"] = driver.embedded_scf[1]\n",
    "                        df.loc[index, \"mu_nmo_emb\"] = driver.embedded_scf.mo_coeff.shape[1]\n",
    "                        df.loc[index, \"mu_nmo\"] = driver.embedded_scf.mo_coeff.shape[0]\n",
    "                        # df.loc[index, \"huz_nmo\"] = driver.embedded_scf.mo_coeff.shape[-1]\n",
    "\n",
    "                        print(\"Running SCF Methods\")\n",
    "                        df.loc[index,\"HF\"] = driver._global_hf().e_tot\n",
    "                        df.loc[index,\"DFT\"] = driver._global_ks().e_tot\n",
    "\n",
    "                        print(\"Running Reference Methods\")\n",
    "                        if args[\"run_fci_emb\"]:\n",
    "                                print(\"Running FCI\")\n",
    "                                # df.loc[index,\"FCI\"] = driver._global_fci().e_tot\n",
    "                                df.loc[index,\"mu_FCI\"] = driver._mu[\"e_fci\"]\n",
    "                                # df.loc[index,\"huz_FCI\"] = driver._huzinaga[\"e_fci\"]\n",
    "\n",
    "                        if args[\"run_ccsd_emb\"]:\n",
    "                                df.loc[index,\"CCSD\"] = driver._global_ccsd().e_tot\n",
    "                                df.loc[index,\"mu_CCSD\"] = driver._mu[\"e_ccsd\"]\n",
    "                                # df.loc[index,\"huz_CCSD\"] = driver._huzinaga[\"e_ccsd\"]\n",
    "                        \n",
    "                        df.loc[index,\"mu_classical\"] = driver._mu[\"classical_energy\"]\n",
    "                        # df.loc[index,\"huz_classical\"] = driver._huzinaga[\"classical_energy\"]\n",
    "\n",
    "                        # df.loc[index,\"n_mo\"] = driver._mu[\"scf\"].mo_coeff.shape\n",
    "\n",
    "\n",
    "                        muham = HamiltonianBuilder(driver.embedded_scf, driver.classical_energy).build()\n",
    "                        # huzham = HamiltonianBuilder(driver.embedded_scf[1], driver.classical_energy[1]).build(taper=True)\n",
    "                        with open(f\"fluoromethane_mu_ham_{index}.pkl\", \"wb\") as f:\n",
    "                                pickle.dump(muham, f)\n",
    "                        \n",
    "                except np.linalg.linalg.LinAlgError:\n",
    "                        print(f\"Geometry {geom} failed\")\n",
    "\n",
    "                with open(f\"fluoromethane_{index}.pkl\", \"wb\") as f:\n",
    "                        pickle.dump(df, f)\n",
    "        return df"
   ]
  },
  {
   "cell_type": "code",
   "execution_count": 6,
   "metadata": {},
   "outputs": [
    {
     "name": "stdout",
     "output_type": "stream",
     "text": [
      "Running ACE-of-SPADE\n"
     ]
    },
    {
     "name": "stderr",
     "output_type": "stream",
     "text": [
      "/Users/michaelwilliamsdelabastida/Code/Nbed/.venv11/lib/python3.11/site-packages/pyscf/dft/libxc.py:507: UserWarning: Since PySCF-2.3, B3LYP (and B3P86) are changed to the VWN-RPA variant, corresponding to the original definition by Stephens et al. (issue 1480) and the same as the B3LYP functional in Gaussian. To restore the VWN5 definition, you can put the setting \"B3LYP_WITH_VWN5 = True\" in pyscf_conf.py\n",
      "  warnings.warn('Since PySCF-2.3, B3LYP (and B3P86) are changed to the VWN-RPA variant, '\n"
     ]
    },
    {
     "name": "stdout",
     "output_type": "stream",
     "text": [
      "mu_nmo_overwrite=(7, 7)\n",
      "mu_nmo_overwrite=(7, 7)\n",
      "========================\n",
      "Running Embedding\n",
      "Running distance 1.0076478905103707\n",
      "Running SCF Methods\n",
      "Running Reference Methods\n"
     ]
    },
    {
     "name": "stderr",
     "output_type": "stream",
     "text": [
      "2025-05-21 17:44:47,256: nbed.ham_builder: WARNING: Tapering is deprecated. Use the qubit_reduction_driver.\n"
     ]
    }
   ],
   "source": [
    "pfm = calculate_energies(pfm.iloc[5:6,:], spin=0, charge=0, fci=False)"
   ]
  },
  {
   "cell_type": "code",
   "execution_count": 7,
   "metadata": {},
   "outputs": [
    {
     "data": {
      "application/vnd.microsoft.datawrangler.viewer.v0+json": {
       "columns": [
        {
         "name": "index",
         "rawType": "int64",
         "type": "integer"
        },
        {
         "name": "distances",
         "rawType": "float64",
         "type": "float"
        },
        {
         "name": "xyz",
         "rawType": "object",
         "type": "string"
        },
        {
         "name": "mu_nmo_emb",
         "rawType": "float64",
         "type": "float"
        },
        {
         "name": "mu_nmo",
         "rawType": "float64",
         "type": "float"
        },
        {
         "name": "HF",
         "rawType": "float64",
         "type": "float"
        },
        {
         "name": "DFT",
         "rawType": "float64",
         "type": "float"
        },
        {
         "name": "CCSD",
         "rawType": "float64",
         "type": "float"
        },
        {
         "name": "mu_CCSD",
         "rawType": "float64",
         "type": "float"
        },
        {
         "name": "mu_classical",
         "rawType": "float64",
         "type": "float"
        }
       ],
       "conversionMethod": "pd.DataFrame",
       "ref": "2ae4cd26-e74d-4b5b-a83c-2363da62ab7a",
       "rows": [
        [
         "5",
         "1.0076478905103707",
         "5\n \n            C\t0\t0\t0\n            F\t-0.076425\t-0.8346\t-0.5594250000000001\n            F\t-0.04\t-0.3285\t1.3021\n            F\t-1.0211\t0.8254\t-0.2852\n            F\t1.163\t0.6159\t-0.271\n        ",
         "31.0",
         "45.0",
         "-435.28934144862865",
         "-437.15433096951233",
         "-435.8441363216042",
         "-436.67185696119964",
         "-277.2899982274961"
        ]
       ],
       "shape": {
        "columns": 9,
        "rows": 1
       }
      },
      "text/html": [
       "<div>\n",
       "<style scoped>\n",
       "    .dataframe tbody tr th:only-of-type {\n",
       "        vertical-align: middle;\n",
       "    }\n",
       "\n",
       "    .dataframe tbody tr th {\n",
       "        vertical-align: top;\n",
       "    }\n",
       "\n",
       "    .dataframe thead th {\n",
       "        text-align: right;\n",
       "    }\n",
       "</style>\n",
       "<table border=\"1\" class=\"dataframe\">\n",
       "  <thead>\n",
       "    <tr style=\"text-align: right;\">\n",
       "      <th></th>\n",
       "      <th>distances</th>\n",
       "      <th>xyz</th>\n",
       "      <th>mu_nmo_emb</th>\n",
       "      <th>mu_nmo</th>\n",
       "      <th>HF</th>\n",
       "      <th>DFT</th>\n",
       "      <th>CCSD</th>\n",
       "      <th>mu_CCSD</th>\n",
       "      <th>mu_classical</th>\n",
       "    </tr>\n",
       "  </thead>\n",
       "  <tbody>\n",
       "    <tr>\n",
       "      <th>5</th>\n",
       "      <td>1.007648</td>\n",
       "      <td>5\\n \\n            C\\t0\\t0\\t0\\n            F\\t-...</td>\n",
       "      <td>31.0</td>\n",
       "      <td>45.0</td>\n",
       "      <td>-435.289341</td>\n",
       "      <td>-437.154331</td>\n",
       "      <td>-435.844136</td>\n",
       "      <td>-436.671857</td>\n",
       "      <td>-277.289998</td>\n",
       "    </tr>\n",
       "  </tbody>\n",
       "</table>\n",
       "</div>"
      ],
      "text/plain": [
       "   distances                                                xyz  mu_nmo_emb  \\\n",
       "5   1.007648  5\\n \\n            C\\t0\\t0\\t0\\n            F\\t-...        31.0   \n",
       "\n",
       "   mu_nmo          HF         DFT        CCSD     mu_CCSD  mu_classical  \n",
       "5    45.0 -435.289341 -437.154331 -435.844136 -436.671857   -277.289998  "
      ]
     },
     "execution_count": 7,
     "metadata": {},
     "output_type": "execute_result"
    }
   ],
   "source": [
    "pfm"
   ]
  },
  {
   "cell_type": "code",
   "execution_count": 8,
   "metadata": {},
   "outputs": [],
   "source": [
    "# pfm.loc[fluoromethane[\"DFT\"] > -130, \"DFT\"] = np.nan"
   ]
  },
  {
   "cell_type": "code",
   "execution_count": 12,
   "metadata": {},
   "outputs": [
    {
     "data": {
      "text/plain": [
       "<Axes: title={'center': 'Fluoromethane Energy vs Distance'}, xlabel='Distance (Angstroms)', ylabel='Energy (Hartrees)'>"
      ]
     },
     "execution_count": 12,
     "metadata": {},
     "output_type": "execute_result"
    },
    {
     "data": {
      "image/png": "[encoded data removed]",
      "text/plain": [
       "<Figure size 640x480 with 1 Axes>"
      ]
     },
     "metadata": {},
     "output_type": "display_data"
    }
   ],
   "source": [
    "data = [\n",
    "    'distances',\n",
    "    'HF',\n",
    "    'DFT',\n",
    "    'CCSD', \n",
    "    'mu_CCSD', \n",
    "    # \"mu_FCI\"\n",
    "    # 'huz_CCSD'\n",
    "    ]\n",
    "pfm.loc[pfm.index, data].plot(xlabel=\"Distance (Angstroms)\", ylabel=\"Energy (Hartrees)\", x=\"distances\", title=\"Fluoromethane Energy vs Distance\")\n"
   ]
  },
  {
   "cell_type": "code",
   "execution_count": null,
   "metadata": {},
   "outputs": [],
   "source": [
    "import matplotlib.pyplot as plt\n",
    "\n",
    "toplot = pfm.loc[pfm.index[2:-6], data]\n",
    "dist = toplot[\"distances\"]\n",
    "\n",
    "plt.plot(dist, toplot[\"HF\"], label=\"HF\", color=\"#648fff\")\n",
    "plt.plot(dist, toplot[\"DFT\"], label=\"DFT\", color=\"#dc267f\")\n",
    "plt.plot(dist, toplot[\"CCSD\"], label=\"CCSD\", color=\"#fe6100\")\n",
    "plt.plot(dist, toplot[\"mu_CCSD\"], label=\"CCSD-in-DFT\", color=\"#ffb000\", marker=\"s\")\n",
    "plt.plot(dist, toplot[\"mu_FCI\"], label=\"FCI-in-DFT\", color=\"#785ef0\", marker=\"x\")\n",
    "# plt.title(\"Perfluoromethane Bond Dissociation\")\n",
    "plt.xlabel(\"Distance (Angstrom)\")\n",
    "plt.ylabel(\"Energy (Ha)\")\n",
    "plt.legend()\n",
    "plt.savefig(\"pfm.pdf\")"
   ]
  },
  {
   "cell_type": "markdown",
   "metadata": {},
   "source": [
    "## Graph differences in energy from FCI\n",
    "\n",
    "PBE is obviously well suited to creating dissociation curves."
   ]
  },
  {
   "cell_type": "code",
   "execution_count": null,
   "metadata": {},
   "outputs": [],
   "source": [
    "f_diffs = pfm[['HF','DFT', 'mu_FCI']].subtract(pfm[\"CCSD\"], axis=0)\n",
    "f_diffs = pd.concat([f_diffs, pfm.filter(regex=(\"_CCSD\")).subtract(pfm[\"CCSD\"], axis=0)], axis=1)"
   ]
  },
  {
   "cell_type": "code",
   "execution_count": null,
   "metadata": {},
   "outputs": [],
   "source": [
    "f_diffs[\"distances\"] = pfm[\"distances\"]\n",
    "f_diffs[[\"distances\",\"HF\",\"DFT\",\"mu_CCSD\",\"mu_FCI\"]].loc[:19].plot(x=\"distances\", title=\"Fluoromethane Energy Difference vs Distance\")"
   ]
  },
  {
   "cell_type": "markdown",
   "metadata": {},
   "source": [
    "With frozen core (no frozen virtuals yet)"
   ]
  },
  {
   "cell_type": "code",
   "execution_count": null,
   "metadata": {},
   "outputs": [],
   "source": [
    "import matplotlib.pyplot as plt\n",
    "fig, ax = plt.subplots()\n",
    "f_diffs.filter(regex=(\"huz_FCI_1_\")).loc[:19].plot(title=\"Fluoromethane Energy Difference vs Distance\", ax=ax, linestyle='-')\n",
    "f_diffs[[\"huz_FCI\"]].loc[:19].plot(ax=ax)\n",
    "# f_diffs.filter(regex=(\"huz_FCI_2_\")).loc[:19].plot(title=\"Fluoromethane Energy Difference vs Distance\", ax=ax, linestyle='--')\n"
   ]
  },
  {
   "cell_type": "code",
   "execution_count": null,
   "metadata": {},
   "outputs": [],
   "source": [
    "import matplotlib.pyplot as plt\n",
    "fig, ax = plt.subplots()\n",
    "f_diffs.filter(regex=(\"huz_FCI_2_\")).loc[:19].plot(title=\"Fluoromethane Energy Difference vs Distance\", ax=ax, linestyle='-')\n",
    "f_diffs[[\"huz_FCI\"]].loc[:19].plot(ax=ax)"
   ]
  },
  {
   "cell_type": "code",
   "execution_count": null,
   "metadata": {},
   "outputs": [],
   "source": [
    "import matplotlib.pyplot as plt\n",
    "fig, ax = plt.subplots()\n",
    "f_diffs.filter(regex=(\"huz_FCI_3_\")).loc[:19].plot(title=\"Fluoromethane Energy Difference vs Distance\", ax=ax, linestyle='-')\n",
    "f_diffs[[\"huz_FCI\"]].loc[:19].plot(ax=ax)"
   ]
  },
  {
   "cell_type": "markdown",
   "metadata": {},
   "source": [
    "## PFOA"
   ]
  },
  {
   "cell_type": "code",
   "execution_count": null,
   "metadata": {},
   "outputs": [],
   "source": [
    "pfoa = pubchem_mol_geometry(\"Perfluorooctanoic acid\")\n",
    "pfoa_ordered = build_ordered_xyz_string(pfoa, active_atom_inds=[11,22])\n",
    "save_ordered_xyz_file(\"pfoa\", pfoa, active_atom_inds=[11,22])\n",
    "pfoa_df = init_mol_df(\"pfoa\", 11, 22)"
   ]
  },
  {
   "cell_type": "code",
   "execution_count": null,
   "metadata": {},
   "outputs": [],
   "source": [
    "pfoa"
   ]
  },
  {
   "cell_type": "markdown",
   "metadata": {},
   "source": [
    "## PFOA without $e_{aq}^-$"
   ]
  },
  {
   "cell_type": "code",
   "execution_count": null,
   "metadata": {},
   "outputs": [],
   "source": [
    "calculate_energies(pfoa_df)"
   ]
  },
  {
   "cell_type": "code",
   "execution_count": null,
   "metadata": {},
   "outputs": [],
   "source": []
  }
 ],
 "metadata": {
  "kernelspec": {
   "display_name": ".venv11",
   "language": "python",
   "name": "python3"
  },
  "language_info": {
   "codemirror_mode": {
    "name": "ipython",
    "version": 3
   },
   "file_extension": ".py",
   "mimetype": "text/x-python",
   "name": "python",
   "nbconvert_exporter": "python",
   "pygments_lexer": "ipython3",
   "version": "3.11.6"
  }
 },
 "nbformat": 4,
 "nbformat_minor": 2
}
