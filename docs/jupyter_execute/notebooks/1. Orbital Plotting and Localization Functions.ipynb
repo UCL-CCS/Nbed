{
 "cells": [
  {
   "cell_type": "markdown",
   "metadata": {},
   "source": [
    "Note requires py3Dmol:\n",
    "\n",
    "```pip install py3Dmol```"
   ]
  },
  {
   "cell_type": "code",
   "execution_count": 1,
   "metadata": {},
   "outputs": [],
   "source": [
    "\"\"\"Tools to plot molecular orbitals.\"\"\"\n",
    "\n",
    "import logging\n",
    "import os\n",
    "from typing import List\n",
    "\n",
    "import numpy as np\n",
    "import py3Dmol\n",
    "from pyscf import gto\n",
    "from pyscf.tools import cubegen\n",
    "\n",
    "logger = logging.getLogger(__name__)\n",
    "\n",
    "\n",
    "def Draw_molecule(\n",
    "    xyz_string: str, width: int = 400, height: int = 400, style: str = \"sphere\"\n",
    ") -> py3Dmol.view:\n",
    "    \"\"\"Draw molecule from xyz string.\n",
    "\n",
    "    Note if molecule has unrealistic bonds, then style should be sphere. Otherwise stick style can be used\n",
    "    which shows bonds.\n",
    "\n",
    "    TODO: more styles at http://3dmol.csb.pitt.edu/doc/$3Dmol.GLViewer.html\n",
    "\n",
    "    Args:\n",
    "        xyz_string (str): xyz string of molecule\n",
    "        width (int): width of image\n",
    "        height (int): Height of image\n",
    "        style (str): py3Dmol style ('sphere' or 'stick')\n",
    "\n",
    "    Returns:\n",
    "        view (py3dmol.view object). Run view.show() method to print molecule.\n",
    "    \"\"\"\n",
    "    logger.debug(\"Drawing molecule.\")\n",
    "    if style == \"sphere\":\n",
    "        view = py3Dmol.view(\n",
    "            data=xyz_string,\n",
    "            style={\"sphere\": {\"radius\": 0.2}},\n",
    "            width=width,\n",
    "            height=height,\n",
    "        )\n",
    "    elif style == \"stick\":\n",
    "        view = py3Dmol.view(\n",
    "            data=xyz_string, style={\"stick\": {}}, width=width, height=height\n",
    "        )\n",
    "    else:\n",
    "        raise ValueError(f\"unknown py3dmol style: {style}\")\n",
    "\n",
    "    view.zoomTo()\n",
    "    return view\n",
    "\n",
    "\n",
    "def draw_cube_orbital(\n",
    "    PySCF_mol_obj: gto.Mole,\n",
    "    xyz_string: str,\n",
    "    C_matrix: np.ndarray,\n",
    "    index_list: List[int],\n",
    "    width: int = 400,\n",
    "    height: int = 400,\n",
    "    style: str = \"sphere\",\n",
    ") -> List:\n",
    "    \"\"\"Draw orbials given a C_matrix and xyz string of molecule.\n",
    "\n",
    "    This function writes orbitals to tempory cube files then deletes them.\n",
    "    For standard use the C_matrix input should be C_matrix optimized by a self consistent field (SCF) run.\n",
    "    Note if molecule has unrealistic bonds, then style should be set to sphere.\n",
    "\n",
    "    Args:\n",
    "        PySCF_mol_obj (pyscf.mol): PySCF mol object. Required for pyscf.tools.cubegen function\n",
    "        xyz_string (str): xyz string of molecule\n",
    "        C_matrix (np.array): Numpy array of molecular orbitals (columns are MO).\n",
    "        index_list (List): List of MO indices to plot\n",
    "        width (int): width of image\n",
    "        height (int): Height of image\n",
    "        style (str): py3Dmol style ('sphere' or 'stick')\n",
    "\n",
    "    Returns:\n",
    "        plotted_orbitals (List): List of plotted orbitals (py3Dmol.view) ordered the same way as in index_list\n",
    "    \"\"\"\n",
    "    logger.debug(\"Drawing cube orbital.\")\n",
    "    if not set(index_list).issubset(set(range(C_matrix.shape[1]))):\n",
    "        raise ValueError(\n",
    "            \"list of MO indices to plot is outside of C_matrix column indices\"\n",
    "        )\n",
    "\n",
    "    plotted_orbitals = []\n",
    "    for index in index_list:\n",
    "        File_name = f\"temp_MO_orbital_index{index}.cube\"\n",
    "        cubegen.orbital(PySCF_mol_obj, File_name, C_matrix[:, index])\n",
    "\n",
    "        view = py3Dmol.view(width=width, height=height)\n",
    "        view.addModel(xyz_string, \"xyz\")\n",
    "        if style == \"sphere\":\n",
    "            view.setStyle({\"sphere\": {\"radius\": 0.2}})\n",
    "        elif style == \"stick\":\n",
    "            view.setStyle({\"stick\": {}})\n",
    "        else:\n",
    "            raise ValueError(f\"unknown py3dmol style: {style}\")\n",
    "\n",
    "        with open(File_name, \"r\") as f:\n",
    "            view.addVolumetricData(\n",
    "                f.read(), \"cube\", {\"isoval\": -0.02, \"color\": \"red\", \"opacity\": 0.75}\n",
    "            )\n",
    "        with open(File_name, \"r\") as f2:\n",
    "            view.addVolumetricData(\n",
    "                f2.read(), \"cube\", {\"isoval\": 0.02, \"color\": \"blue\", \"opacity\": 0.75}\n",
    "            )\n",
    "\n",
    "        plotted_orbitals.append(view.zoomTo())\n",
    "        os.remove(File_name)  # delete file once orbital is drawn\n",
    "\n",
    "    return plotted_orbitals"
   ]
  },
  {
   "cell_type": "code",
   "execution_count": 2,
   "metadata": {},
   "outputs": [],
   "source": [
    "import os"
   ]
  },
  {
   "cell_type": "code",
   "execution_count": 3,
   "metadata": {},
   "outputs": [],
   "source": [
    "# get xyz file for water\n",
    "\n",
    "notebook_dir = os.getcwd()\n",
    "docs_dir = os.path.dirname(notebook_dir)\n",
    "NBed_dir = os.path.dirname(docs_dir)\n",
    "Test_dir = os.path.join(NBed_dir, \"tests\")\n",
    "mol_dir = os.path.join(Test_dir, \"molecules\")\n",
    "\n",
    "water_xyz_path = os.path.join(mol_dir, \"water.xyz\")"
   ]
  },
  {
   "cell_type": "code",
   "execution_count": 4,
   "metadata": {},
   "outputs": [
    {
     "ename": "FileNotFoundError",
     "evalue": "[Errno 2] No such file or directory: '/Users/michaelwilliamsdelabastida/Code/Nbed/docs/tests/molecules/water.xyz'",
     "output_type": "error",
     "traceback": [
      "\u001b[31m---------------------------------------------------------------------------\u001b[39m",
      "\u001b[31mFileNotFoundError\u001b[39m                         Traceback (most recent call last)",
      "\u001b[36mCell\u001b[39m\u001b[36m \u001b[39m\u001b[32mIn[4]\u001b[39m\u001b[32m, line 1\u001b[39m\n\u001b[32m----> \u001b[39m\u001b[32m1\u001b[39m \u001b[38;5;28;01mwith\u001b[39;00m \u001b[38;5;28;43mopen\u001b[39;49m\u001b[43m(\u001b[49m\u001b[43mwater_xyz_path\u001b[49m\u001b[43m,\u001b[49m\u001b[43m \u001b[49m\u001b[33;43m\"\u001b[39;49m\u001b[33;43mr\u001b[39;49m\u001b[33;43m\"\u001b[39;49m\u001b[43m)\u001b[49m \u001b[38;5;28;01mas\u001b[39;00m infile:\n\u001b[32m      2\u001b[39m     water_xyz = infile.read()\n\u001b[32m      4\u001b[39m \u001b[38;5;28mprint\u001b[39m(water_xyz)\n",
      "\u001b[36mFile \u001b[39m\u001b[32m~/Code/Nbed/.venv/lib/python3.13/site-packages/IPython/core/interactiveshell.py:327\u001b[39m, in \u001b[36m_modified_open\u001b[39m\u001b[34m(file, *args, **kwargs)\u001b[39m\n\u001b[32m    320\u001b[39m \u001b[38;5;28;01mif\u001b[39;00m file \u001b[38;5;129;01min\u001b[39;00m {\u001b[32m0\u001b[39m, \u001b[32m1\u001b[39m, \u001b[32m2\u001b[39m}:\n\u001b[32m    321\u001b[39m     \u001b[38;5;28;01mraise\u001b[39;00m \u001b[38;5;167;01mValueError\u001b[39;00m(\n\u001b[32m    322\u001b[39m         \u001b[33mf\u001b[39m\u001b[33m\"\u001b[39m\u001b[33mIPython won\u001b[39m\u001b[33m'\u001b[39m\u001b[33mt let you open fd=\u001b[39m\u001b[38;5;132;01m{\u001b[39;00mfile\u001b[38;5;132;01m}\u001b[39;00m\u001b[33m by default \u001b[39m\u001b[33m\"\u001b[39m\n\u001b[32m    323\u001b[39m         \u001b[33m\"\u001b[39m\u001b[33mas it is likely to crash IPython. If you know what you are doing, \u001b[39m\u001b[33m\"\u001b[39m\n\u001b[32m    324\u001b[39m         \u001b[33m\"\u001b[39m\u001b[33myou can use builtins\u001b[39m\u001b[33m'\u001b[39m\u001b[33m open.\u001b[39m\u001b[33m\"\u001b[39m\n\u001b[32m    325\u001b[39m     )\n\u001b[32m--> \u001b[39m\u001b[32m327\u001b[39m \u001b[38;5;28;01mreturn\u001b[39;00m \u001b[43mio_open\u001b[49m\u001b[43m(\u001b[49m\u001b[43mfile\u001b[49m\u001b[43m,\u001b[49m\u001b[43m \u001b[49m\u001b[43m*\u001b[49m\u001b[43margs\u001b[49m\u001b[43m,\u001b[49m\u001b[43m \u001b[49m\u001b[43m*\u001b[49m\u001b[43m*\u001b[49m\u001b[43mkwargs\u001b[49m\u001b[43m)\u001b[49m\n",
      "\u001b[31mFileNotFoundError\u001b[39m: [Errno 2] No such file or directory: '/Users/michaelwilliamsdelabastida/Code/Nbed/docs/tests/molecules/water.xyz'"
     ]
    }
   ],
   "source": [
    "with open(water_xyz_path, \"r\") as infile:\n",
    "    water_xyz = infile.read()\n",
    "\n",
    "print(water_xyz)"
   ]
  },
  {
   "cell_type": "code",
   "execution_count": null,
   "metadata": {},
   "outputs": [],
   "source": [
    "from nbed.mol_plot import Draw_molecule\n",
    "\n",
    "#####\n",
    "\n",
    "mol_viewer = Draw_molecule(\n",
    "    water_xyz, width=400, height=400, style=\"sphere\"\n",
    ")  # <--- sphere style\n",
    "\n",
    "mol_viewer.show()"
   ]
  },
  {
   "cell_type": "code",
   "execution_count": null,
   "metadata": {},
   "outputs": [],
   "source": [
    "# note can rotate and zoom in notebook!\n",
    "\n",
    "mol_viewer = Draw_molecule(\n",
    "    water_xyz, width=400, height=400, style=\"stick\"\n",
    ")  # <--- stick style\n",
    "\n",
    "mol_viewer.show()"
   ]
  },
  {
   "cell_type": "code",
   "execution_count": null,
   "metadata": {},
   "outputs": [],
   "source": [
    "from nbed.mol_plot import draw_cube_orbital\n",
    "from pyscf import gto, scf\n",
    "\n",
    "### inputs\n",
    "basis = \"STO-3G\"\n",
    "charge = 0\n",
    "spin = 0\n",
    "full_system_mol = gto.Mole(\n",
    "    atom=water_xyz_path,\n",
    "    basis=basis,\n",
    "    charge=charge,\n",
    "    spin=spin,\n",
    ")\n",
    "full_system_mol.build()\n",
    "\n",
    "HF_scf = scf.RHF(full_system_mol)\n",
    "HF_scf.verbose = 1\n",
    "HF_scf.conv_tol = 1e-6\n",
    "HF_scf.kernel()\n",
    "\n",
    "\n",
    "C_matrix = HF_scf.mo_coeff\n",
    "index_list = list(range(C_matrix.shape[1]))\n",
    "###\n",
    "\n",
    "orbital_list = draw_cube_orbital(\n",
    "    full_system_mol,\n",
    "    water_xyz,\n",
    "    C_matrix,\n",
    "    index_list,\n",
    "    width=400,\n",
    "    height=400,\n",
    "    style=\"sphere\",\n",
    ")"
   ]
  },
  {
   "cell_type": "code",
   "execution_count": null,
   "metadata": {},
   "outputs": [],
   "source": [
    "orbital_list = draw_cube_orbital(\n",
    "    full_system_mol,\n",
    "    water_xyz,\n",
    "    C_matrix,\n",
    "    index_list,\n",
    "    width=400,\n",
    "    height=400,\n",
    "    style=\"sphere\",\n",
    ")\n",
    "\n",
    "orbital_list[0].show()"
   ]
  },
  {
   "cell_type": "code",
   "execution_count": null,
   "metadata": {},
   "outputs": [],
   "source": [
    "orbital_list = draw_cube_orbital(\n",
    "    full_system_mol,\n",
    "    water_xyz,\n",
    "    C_matrix,\n",
    "    index_list,\n",
    "    width=400,\n",
    "    height=400,\n",
    "    style=\"stick\",\n",
    ")\n",
    "\n",
    "orbital_list[0].show()"
   ]
  },
  {
   "cell_type": "code",
   "execution_count": null,
   "metadata": {},
   "outputs": [],
   "source": [
    "## run to plot each orbital in list!\n",
    "\n",
    "# for MO in orbital_list:\n",
    "#     MO.show()"
   ]
  },
  {
   "cell_type": "markdown",
   "metadata": {},
   "source": [
    "# Edge case - unreal molecules (like H4)"
   ]
  },
  {
   "cell_type": "code",
   "execution_count": null,
   "metadata": {},
   "outputs": [],
   "source": [
    "H4_xyz = \"4\\n \\nH\\t0.0\\t0.0\\t0.0\\nH\\t2.45366053071732\\t0.0\\t0.0\\nH\\t2.45366053071732\\t2.45366053071732\\t0.0\\nH\\t0.0\\t2.45366053071732\\t0.0\\n\"\n",
    "\n",
    "mol_viewer = Draw_molecule(\n",
    "    H4_xyz, width=400, height=400, style=\"sphere\"\n",
    ")  # <--- sphere style\n",
    "\n",
    "mol_viewer.show()"
   ]
  },
  {
   "cell_type": "code",
   "execution_count": null,
   "metadata": {},
   "outputs": [],
   "source": [
    "# stick will not work - as H4 cannot have bonding shown\n",
    "\n",
    "mol_viewer = Draw_molecule(\n",
    "    H4_xyz, width=400, height=400, style=\"stick\"\n",
    ")  # <--- stick style\n",
    "\n",
    "mol_viewer.show()"
   ]
  }
 ],
 "metadata": {
  "kernelspec": {
   "display_name": "nbed-1_9TTDE1-py3.10",
   "language": "python",
   "name": "python3"
  },
  "language_info": {
   "codemirror_mode": {
    "name": "ipython",
    "version": 3
   },
   "file_extension": ".py",
   "mimetype": "text/x-python",
   "name": "python",
   "nbconvert_exporter": "python",
   "pygments_lexer": "ipython3",
   "version": "3.13.1"
  }
 },
 "nbformat": 4,
 "nbformat_minor": 4
}
