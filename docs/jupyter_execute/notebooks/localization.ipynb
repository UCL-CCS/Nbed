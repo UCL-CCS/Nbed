{
 "cells": [
  {
   "cell_type": "markdown",
   "metadata": {},
   "source": [
    "# Orbital Localization Theory\n",
    "\n",
    "This notebook takes you through the methods implemented in nbed for orbital localization.\n",
    "- SPADE\n",
    "- Concentric Localization"
   ]
  },
  {
   "cell_type": "code",
   "execution_count": 1,
   "metadata": {},
   "outputs": [],
   "source": [
    "import numpy as np\n",
    "import os"
   ]
  },
  {
   "cell_type": "markdown",
   "metadata": {},
   "source": [
    "## Background\n",
    "\n",
    "The overlap matrix is:\n",
    "\n",
    "$$S_{\\mu \\nu} =  \\int d\\vec{r}_{1} \\phi_{\\mu}(1)^{*}\\phi_{\\nu}(1)$$\n",
    "\n",
    "- $\\phi_{\\mu}$ are basis functions (defined in basis set)\n",
    "\n",
    "\n",
    "The unknown molecular orbitals $\\psi_{i}$ are expanded as a linear expansion of the $K$ known basis functions $\\{ \\phi_{i} | i=1,2,..., K \\}$:\n",
    "\n",
    "$$ \\psi_{i} =  \\sum_{\\mu=1}^{K} C_{\\mu i} \\phi_{\\mu}$$\n",
    "\n",
    "\n",
    "$C$ is a $K \\times K$ matrix of expansion coefficients $C_{\\mu i}$. The columns of $C$ describe the molecular orbitals!\n",
    "\n",
    "\n",
    "We can find the total number of electrons $N$ in the system by:\n",
    "\n",
    "$$ N =  2 \\sum_{a}^{N/2}\\int d\\vec{r}  \\bigg( \\psi_{a}(\\vec{r})^{*} \\psi_{i}(\\vec{r}) \\bigg) =  2 \\sum_{a}^{N/2} 1$$\n",
    "\n",
    "- integral gives probablity of finding electron $a$ over all space (must be 1)\n",
    "- summing over all electrons will give the total number of electrons"
   ]
  },
  {
   "cell_type": "markdown",
   "metadata": {},
   "source": [
    "The charge density has the following definition:\n",
    "\n",
    "$$\\rho(\\vec{r}) = 2 \\sum_{a}^{N/2} \\bigg( \\psi_{a}(\\vec{r})^{*} \\psi_{i}(\\vec{r}) \\bigg)$$\n",
    "\n",
    "- re-write using definition of $\\psi_{i}=  \\sum_{\\mu=1}^{K} C_{\\mu i} \\phi_{\\mu}$\n",
    "\n",
    "$$\\rho(\\vec{r}) = 2 \\sum_{a}^{N/2} \\Bigg( \\bigg[ \\sum_{\\nu}^{K} C_{\\nu a}^{*} \\phi_{\\nu}(\\vec{r})^{*} \\bigg] \\bigg[ \\sum_{\\mu}^{K} C_{\\mu a}\\phi_{\\mu}(\\vec{r}) \\bigg] \\Bigg)$$\n",
    "\n",
    "- move things around\n",
    "\n",
    "$$\\rho(\\vec{r}) = \\sum_{\\nu}^{K} \\sum_{\\mu}^{K} \\Big( 2 \\sum_{a}^{N/2} C_{\\mu a} C_{\\nu a}^{*} \\Big) \\phi_{\\mu}(\\vec{r}) \\phi_{\\nu}(\\vec{r})^{*} $$\n",
    "\n",
    "- which is \n",
    "\n",
    "$$\\rho(\\vec{r}) = \\sum_{\\mu, \\nu}^{K} P_{\\mu \\nu} \\phi_{\\mu}(\\vec{r}) \\phi_{\\nu}(\\vec{r})^{*} $$\n",
    "\n",
    "\n",
    "- $P_{\\mu \\nu}$ is known as the density matrix and is:\n",
    "\n",
    "$$P_{\\mu \\nu} = 2 \\sum_{a}^{N/2} C_{\\mu a} C_{\\nu a}^{*}$$"
   ]
  },
  {
   "cell_type": "markdown",
   "metadata": {},
   "source": [
    "Therefore we can also find the total number of electrons in the system by:\n",
    "\n",
    "$$ N =  2 \\sum_{a}^{N/2}\\int d\\vec{r}  \\bigg( \\psi_{a}(\\vec{r})^{*} \\psi_{i}(\\vec{r}) \\bigg) =  \\sum_{\\nu}^{K} \\sum_{\\mu}^{K} \\Big( 2 \\sum_{a}^{N/2} C_{\\mu a} C_{\\nu a}^{*} \\Big) \\int d\\vec{r} \\phi_{\\mu}(\\vec{r})  \\phi_{\\nu}(\\vec{r})^{*}$$\n",
    "\n",
    "- This is simply:\n",
    "\n",
    "$$N =  \\sum_{\\nu}^{K} \\sum_{\\mu}^{K} P_{\\mu \\nu} S_{\\nu \\mu}= \\sum_{\\mu}^{K} PS_{\\mu \\mu} = \\mathcal{Tr}(PS)$$"
   ]
  },
  {
   "cell_type": "markdown",
   "metadata": {},
   "source": [
    "- One can interpret $ PS_{\\mu \\mu}$ in the above equation as the number of electrons associated with $ \\phi_{\\mu}$\n",
    "- This is a **Mulliken population analysis**"
   ]
  },
  {
   "cell_type": "markdown",
   "metadata": {},
   "source": [
    "## Orbital Localization"
   ]
  },
  {
   "cell_type": "markdown",
   "metadata": {},
   "source": [
    "- When we perform a SCF calculation, one gets an optimized C matrix\n",
    "    - $C$ is a $K \\times K$ matrix of expansion coefficients $C_{\\mu i}$\n",
    "    - The columns of $C$ describe the molecular orbitals!\n",
    "    - MO i: $ \\psi_{i} =  \\sum_{\\mu=1}^{K} C_{\\mu i} \\phi_{\\mu}$\n",
    "    \n",
    "    \n",
    "- These molecular orbitals are usually **delocalized**\n",
    "    - non-negligible amplitude over the whole system, rather than only around some atom(s) or bond(s)\n",
    "\n",
    "- But we know in QM that a given basis choice is NOT unique\n",
    "\n",
    "\n",
    "- We can therefore perform a unitary rotation on molecular orbitals\n",
    "\n",
    "$$ \\psi_{i} U_{rot} =  \\Big( \\sum_{\\mu=1}^{K} C_{\\mu i} \\phi_{\\mu} \\Big) U_{rot} = \\psi_{i}^{new}$$\n",
    "    \n",
    "    \n",
    "The idea is to use a rotation such that the resulting orbitals $\\psi_{i}^{new}$ are as spatially localized as possible. \n",
    "\n",
    "\n",
    "The Pipek-Mezey (PM) [localization](https://notendur.hi.is/hj/papers/paperPipekmezey8.pdf) **maximizes the population charges on the atoms**:\n",
    "\n",
    "$$ f (U_{rot}) = \\sum_{A}^{N_{atoms}} \\Bigg( Z_{A} -  \\sum_{\\mu \\text{ on atom } A} PS_{\\mu \\mu} \\Bigg)$$"
   ]
  },
  {
   "cell_type": "markdown",
   "metadata": {},
   "source": [
    "### Method 1 - Population-based methods\n",
    "- Given optimized $C$ coefficient matrix\n",
    "    - which has been rotated to localize orbitals\n",
    "    - (used to build localized density matrix)\n",
    "\n",
    "\n",
    "- **Look through basis functions $\\phi_{\\mu}$ of the ACTIVE atoms**\n",
    "\n",
    "    \n",
    "- check the mulliken charge // mulliken population of the orbital\n",
    "    - if above a certain threshold associate it to active system\n",
    "    - otherwise put in the environment\n",
    " \n",
    "\n",
    "\n",
    "To choose the active and enviroment subsystems we do the following:\n",
    "\n",
    "1. Given a localized molecular orbs (localized C matrix), we take the absolute mag squared of the coefficients of the active part for a given localized orb and divide by the absolute mag squared of all the coefficents of a that orb... THis will give a value of how much the active system contributes to that orb.\n",
    "\n",
    "2. Mathematically, for orbital $j$ \n",
    "    - remember MO orbs given by columns of C matrix\n",
    "    - In equation below C matrix is the LOCALIZED form!\n",
    "\n",
    "\n",
    "$$ \\text{threshold} =  \\frac{\\sum_{\\mu\\in \\text{active AO}}^{K} |C_{\\mu j}|^{2}}{\\sum_{\\mu =1}^{K} |C_{\\mu j}|^{2}}$$"
   ]
  },
  {
   "cell_type": "markdown",
   "metadata": {},
   "source": [
    "### METHOD 2 - SPADE\n",
    "\n",
    "    "
   ]
  },
  {
   "cell_type": "markdown",
   "metadata": {},
   "source": [
    "Subsytem Projected Atomic orbital DEcomposition (SPADE) begins by orthogonalising the occupied MOs\n",
    "\n",
    "$$ \\bar{C}_{occ} = S^{-1/2}C_{occ}$$\n",
    "\n",
    "We project these onto the active atomic orbitals (erasing the contribution from the environment AOs to the MO matrix).\n",
    "\n",
    "$$ \\bar{C}_{occ}^A = P_A\\bar{C}_{occ}$$\n",
    "\n",
    "A singlular value decomposition of these is then taken\n",
    "\n",
    "$$ \\bar{C}_{occ}^A = U \\Sigma V^{T}$$\n",
    "\n",
    "The singular values $\\{\\sigma\\}$ given as the diagonal elements of $\\Sigma$, are then used to define the subsytem decomposition by locating the maximum change in singluar value\n",
    "\n",
    "$$ m = max_{i} \\bigg(\\sigma_{i} - \\sigma_{i+1} \\bigg)$$\n",
    "\n",
    "The occupied MOs are then rotated into the SPADE basis using the right singular vectors of the SVD\n",
    "\n",
    "$$ \\bar{C}_{occ}^{SPADE} = \\bar{C}_{occ} V_{m}$$\n",
    "\n",
    "The SPADE basis is then used to define the active and environment subsystems, taking the first m orbitals as the active subsystem and the remaining as the environment."
   ]
  },
  {
   "cell_type": "markdown",
   "metadata": {},
   "source": [
    "Let's start by building a molucule and SCF object."
   ]
  },
  {
   "cell_type": "code",
   "execution_count": 2,
   "metadata": {},
   "outputs": [
    {
     "name": "stdout",
     "output_type": "stream",
     "text": [
      "/Users/michaelwilliamsdelabastida/Code/Nbed/docs/source/notebooks/molecular_structures/formamide.xyz\n"
     ]
    }
   ],
   "source": [
    "from pathlib import Path\n",
    "\n",
    "water_filepath = Path(\"molecular_structures/formamide.xyz\").absolute()\n",
    "print(water_filepath)\n",
    "\n",
    "basis = \"STO-3G\"\n",
    "charge = 0\n",
    "xc_functional = \"b3lyp\"\n",
    "convergence = 1e-6\n",
    "max_ram_memory = 4_000\n",
    "n_active_atoms = 2\n",
    "occ_cutoff = 0.95\n",
    "virt_cutoff = 0.95\n",
    "run_virtual_localization = False"
   ]
  },
  {
   "cell_type": "code",
   "execution_count": 3,
   "metadata": {},
   "outputs": [
    {
     "name": "stderr",
     "output_type": "stream",
     "text": [
      "/Users/michaelwilliamsdelabastida/Code/Nbed/.venv/lib/python3.13/site-packages/pyscf/dft/libxc.py:512: UserWarning: Since PySCF-2.3, B3LYP (and B3P86) are changed to the VWN-RPA variant, corresponding to the original definition by Stephens et al. (issue 1480) and the same as the B3LYP functional in Gaussian. To restore the VWN5 definition, you can put the setting \"B3LYP_WITH_VWN5 = True\" in pyscf_conf.py\n",
      "  warnings.warn('Since PySCF-2.3, B3LYP (and B3P86) are changed to the VWN-RPA variant, '\n"
     ]
    },
    {
     "data": {
      "text/plain": [
       "np.float64(-167.59178321957404)"
      ]
     },
     "execution_count": 3,
     "metadata": {},
     "output_type": "execute_result"
    }
   ],
   "source": [
    "from pyscf import gto, scf\n",
    "\n",
    "full_mol = gto.Mole(\n",
    "    atom=str(water_filepath),\n",
    "    basis=basis,\n",
    "    charge=charge,\n",
    ").build()\n",
    "\n",
    "global_ks = scf.RKS(full_mol)\n",
    "global_ks.conv_tol = convergence\n",
    "global_ks.xc = xc_functional\n",
    "global_ks.max_memory = max_ram_memory\n",
    "global_ks.verbose = 1\n",
    "global_ks.kernel()"
   ]
  },
  {
   "cell_type": "code",
   "execution_count": 4,
   "metadata": {},
   "outputs": [],
   "source": [
    "from scipy import linalg\n",
    "import numpy as np\n",
    "\n",
    "# Locate he occupied orbitals\n",
    "occupancy = global_ks.mo_occ\n",
    "n_occupied_orbitals = np.count_nonzero(occupancy)\n",
    "occupied_orbitals = global_ks.mo_coeff[:, :n_occupied_orbitals]\n",
    "\n",
    "# Project onto the active AOs\n",
    "# Do this by erasing rows of the C matrix\n",
    "# that correspond to contributions from the environment\n",
    "# this only works because we have placed our active atoms at the start of the file.\n",
    "n_act_aos = global_ks.mol.aoslice_by_atom()[n_active_atoms - 1][-1]\n",
    "\n",
    "# Orthogonalise the MOs\n",
    "ao_overlap = global_ks.get_ovlp()\n",
    "\n",
    "rotated_orbitals = linalg.fractional_matrix_power(ao_overlap, 0.5) @ occupied_orbitals\n",
    "\n",
    "# Take the SVD of the rotated and projected orbitals\n",
    "_, sigma, right_vectors = linalg.svd(rotated_orbitals[:n_act_aos, :])\n",
    "\n",
    "\n",
    "# Prevents an error with argmax\n",
    "if len(sigma) == 1:\n",
    "    n_act_mos = 1\n",
    "else:\n",
    "    value_diffs = sigma[:-1] - sigma[1:]\n",
    "    n_act_mos = np.argmax(value_diffs) + 1\n",
    "\n",
    "n_env_mos = n_occupied_orbitals - n_act_mos\n",
    "\n",
    "# get active and enviro indices\n",
    "active_mo_inds = np.arange(n_act_mos)\n",
    "enviro_mo_inds = np.arange(n_act_mos, n_act_mos + n_env_mos)\n",
    "\n",
    "# Defining active and environment orbitals and density\n",
    "c_active = occupied_orbitals @ right_vectors.T[:, :n_act_mos]\n",
    "c_enviro = occupied_orbitals @ right_vectors.T[:, n_act_mos:]\n",
    "c_loc_occ = occupied_orbitals @ right_vectors.T"
   ]
  },
  {
   "cell_type": "code",
   "execution_count": 5,
   "metadata": {},
   "outputs": [
    {
     "data": {
      "text/plain": [
       "array([ 9, 10, 11])"
      ]
     },
     "execution_count": 5,
     "metadata": {},
     "output_type": "execute_result"
    }
   ],
   "source": [
    "enviro_mo_inds"
   ]
  },
  {
   "cell_type": "code",
   "execution_count": 6,
   "metadata": {},
   "outputs": [
    {
     "name": "stdout",
     "output_type": "stream",
     "text": [
      "n_act_mos=np.int64(9)\n",
      "n_env_mos=np.int64(3)\n",
      "active_mo_inds=array([0, 1, 2, 3, 4, 5, 6, 7, 8])\n",
      "enviro_mo_inds=array([ 9, 10, 11])\n",
      "c_active.shape=(18, 9)\n",
      "c_enviro.shape=(18, 3)\n"
     ]
    }
   ],
   "source": [
    "print(f\"{n_act_mos=}\")\n",
    "print(f\"{n_env_mos=}\")\n",
    "\n",
    "print(f\"{active_mo_inds=}\")\n",
    "print(f\"{enviro_mo_inds=}\")\n",
    "\n",
    "print(f\"{c_active.shape=}\")\n",
    "print(f\"{c_enviro.shape=}\")"
   ]
  },
  {
   "cell_type": "markdown",
   "metadata": {},
   "source": [
    "# Virtual Orbital Localization\n",
    "\n",
    "We may also wish to localize unoccupied (virtual) orbitals to the active region or environment. The benefit of this is that we can have a smaller Hamiltonian, saving time and memory for classical algorithms or qubit count and circuit depth in the case of quantum algorithms.\n",
    "\n",
    "Below we show two methods for doing this which are available in Nbed:\n",
    "1. Concentric Localization      (\"cl\")\n",
    "2. Projected Atomic Orbitals    (\"pao\")\n",
    "\n",
    "Their usage in `nbed` is very straightforward, simply include the field `virtual_localizer` in your config with your selection. [See the options in nbed's documntation.](https://nbed.readthedocs.io/en/latest/config.html#module-nbed.config)"
   ]
  },
  {
   "cell_type": "markdown",
   "metadata": {},
   "source": [
    "## Concentric Localization\n",
    "\n",
    "[1] D. Claudino and N. J. Mayhall, \"Simple and Efficient Truncation of Virtual Spaces in Embedded Wave Functions via Concentric Localization\", Journal of Chemical Theory and Computation, vol. 15, no. 11, pp. 6085-6096, Nov. 2019, doi: 10.1021/ACS.JCTC.9B00682."
   ]
  },
  {
   "cell_type": "markdown",
   "metadata": {},
   "source": [
    "Concentric localization is an extension of SPADE which allows for virtual orbitals to be localized. \n",
    "\n",
    "This procedure is carried out after projection based embedding is complete, as this allows for selection of virtual orbitals which are most suitable for the embedded system. Virtual orbital selection does not impact the projection based embedding procedure, until the calculation of the embedded energy term.\n",
    "\n",
    "Beginning with the occupied orbitals of the active region, the procedure is carried out iteratively.In the first iteration, the procedure allows for a change of basis from embedding to Concentric Localization. The virtual orbitals which overlap to the greatest extent with the occupied orbitals of the active region are selected. These are then used to define the first shell of the Concentric Localization basis. Further iterations find the overlap of remaining virtual MOs with all previous shells (including occupied MOs), under the action of the fock operator. The virtual MOs which interact with the active region are then used to define the next shell of the Concentric Localization basis.\n",
    "\n",
    "\n",
    "### Theory\n",
    "We begin by projecting the MOs onto the active region.\n",
    "\n",
    "$$ \\bar{C}^A = P_A\\bar{C}$$\n",
    "\n",
    "The first step of the iterative process requires finding the virtual orbitals in the projected basis. Note that these virtual orbitals should not include those which have been projected out of the active space.\n",
    "\n",
    "$$ C^A_{vir} = S^{-1}_A S_{PB,WB} C_{vir} $$\n",
    "\n",
    "Where $S_{PB,WB}$ gives the overlap matrix between the projected basis and the `working basis` (the basis set used in the projection procedure with occupied environment orbitals removed).\n",
    "\n",
    "$$ [S_{PB,WB}]_{i,j} = \\langle a_i | u_j \\rangle \\ \\{a_i \\in C^A, u_j \\in C\\}$$\n",
    "\n",
    "We can then begin to build up a set of localized orbitals iteratively. For the initial step, we find the overlap of the two sets of orbitals and singlular value decompose this.\n",
    "\n",
    "$$ C^A_{vir} S_{PB,WB} C_{vir} = U \\Sigma V^{T}$$\n",
    "\n",
    "By splitting the $V$ matrix into its span and kernel, we can define two sets of orbitals for the $1st$ shell.\n",
    "\n",
    "Let $T: V \\to W$ we a linear transformation, then the image and kernel of $T$ are defined as\n",
    "\n",
    "$$ im\\ T = T(V) = \\{T(v) | v \\in V\\}$$\n",
    "$$ ker\\ T = \\{v \\in V | T(v) = 0\\}$$\n",
    "\n",
    "The span and kernel can be found by taking the singular value decomposition of $T = L\\Sigma R$.\n",
    "\n",
    "$$ C_{span} = \\{r_i \\in R | \\Sigma_i \\neq 0\\}$$\n",
    "$$ C_{ker} = \\{r_i \\in R | \\Sigma_i = 0\\}$$\n",
    "\n",
    "Finally, we can define the two sets of orbitals for the $1st$ shell.\n",
    "\n",
    "$$ C_0 = C_{vir} V_{span}$$\n",
    "$$ C_{0,k} = C_{vir} V_{ker}$$\n",
    "\n",
    "Subesquent iterations are found using the overlap of these two sets of orbitals under the action of the Fock operator $F$.\n",
    "\n",
    "$$ C_n^{\\dagger} F C_{n,k} = U_n \\Sigma_n V_n^{T}$$\n",
    "\n",
    "$$ C_{n+1} = C_{n,k} V_{n,span}$$\n",
    "$$ C_{n+1,k} = C_{n,k} V_{n,ker}$$\n",
    "\n",
    "Note the code associated with the original paper `PsiEmbed` defines the span matrix slighly differently.\n",
    "$$ C_{n+1} = \\{C_0|...|C_{n-1}|C_{n,k} V_{n,span}\\}$$\n",
    "\n",
    "(From experience it seems that this choice ensures all orbitals will be included.)\n",
    "\n",
    "Ultimately, the active space is constructed from the occupied orbitals of the active region and the first $n$ shells.\n",
    "\n",
    "$$ C_{active\\ space} \\to \\{C_{act, occ}|C_0| C_1| \\dots| C_{n}\\}"
   ]
  },
  {
   "cell_type": "markdown",
   "metadata": {},
   "source": [
    ">NOTE\n",
    ">\n",
    ">This section will be added at the end of the driver method. So to work it out we'll run the driver first."
   ]
  },
  {
   "cell_type": "markdown",
   "metadata": {},
   "source": [
    "### Relative accuracy of the embedding energy\n",
    "\n",
    "By using concentric localization, we can reduce the number of virtual molecular orbitals which need to be included in a calculation. \n",
    "\n",
    "To see this, lets compare the embedded energy calculation we get by truncating the virtual spaces we get with and without concentric localization.\n",
    "\n",
    "First we'll get the full system CCSD, including the environment occupied orbitals."
   ]
  },
  {
   "cell_type": "code",
   "execution_count": 7,
   "metadata": {},
   "outputs": [],
   "source": [
    "from nbed import nbed\n",
    "from pyscf.cc import CCSD\n",
    "from pathlib import Path\n",
    "import numpy as np\n",
    "mol_filepath = Path(\"molecular_structures/formamide.xyz\").absolute()\n",
    "    \n",
    "cl_driver = nbed(\n",
    "    geometry=mol_filepath,\n",
    "    n_active_atoms=2,\n",
    "    basis=\"6-31g\",\n",
    "    xc_functional=\"b3lyp\",\n",
    "    projector=\"huzinaga\",\n",
    "    localization=\"spade\",\n",
    "    convergence=1e-6,\n",
    "    charge=0,\n",
    "    spin=0,\n",
    "    mu_level_shift=1e6,\n",
    "    max_shells=10,\n",
    "    run_ccsd_emb = True\n",
    ")\n",
    "\n",
    "\n",
    "global_cc = CCSD(cl_driver._global_hf)\n",
    "global_cc.verbose = 1\n",
    "global_cc.run()\n",
    "global_cc = global_cc.e_tot"
   ]
  },
  {
   "cell_type": "markdown",
   "metadata": {},
   "source": [
    "Now let's get the embedded CCSD-in-DFT energy, varying the size of the virtual space."
   ]
  },
  {
   "cell_type": "code",
   "execution_count": 8,
   "metadata": {},
   "outputs": [],
   "source": [
    "from nbed import nbed\n",
    "from pyscf.cc import CCSD\n",
    "from pathlib import Path\n",
    "import numpy as np\n",
    "\n",
    "def get_partial_cc_errors(virtual_localization: str):\n",
    "    mol_filepath = Path(\"molecular_structures/formamide.xyz\").absolute()\n",
    "\n",
    "    driver = nbed(\n",
    "        geometry=mol_filepath,\n",
    "        n_active_atoms=2,\n",
    "        basis=\"6-31g\",\n",
    "        xc_functional=\"b3lyp\",\n",
    "        projector=\"huzinaga\",\n",
    "        localization=\"spade\",\n",
    "        virtual_localization=virtual_localization,\n",
    "        convergence=1e-6,\n",
    "        charge=0,\n",
    "        spin=0,\n",
    "        mu_level_shift=1e6,\n",
    "        max_shells=10,\n",
    "        run_ccsd_emb = True\n",
    "    )\n",
    "\n",
    "    def embedding_correction(val, driver):\n",
    "        return val + driver.e_env + driver.two_e_cross - driver.huzinaga[\"correction\"] - driver.huzinaga[\"beta_correction\"]\n",
    "\n",
    "    full_cc = driver.huzinaga[\"e_ccsd\"]\n",
    "\n",
    "    partial_scf = driver.embedded_scf.copy()\n",
    "    energies = []\n",
    "    mos = [i for i in range(5, 34)]\n",
    "    mos = mos[::-1]\n",
    "    for i in mos:\n",
    "        partial_scf.mo_coeff = partial_scf.mo_coeff[:,:, :i]\n",
    "        partial_scf.mo_occ = partial_scf.mo_occ[:,:i]\n",
    "\n",
    "        e_ccsd = CCSD(partial_scf)\n",
    "        e_ccsd.verbose = 1\n",
    "        e_ccsd.run()\n",
    "        driver_ccsd = e_ccsd.e_tot\n",
    "        driver_ccsd = embedding_correction(driver_ccsd, driver)\n",
    "        energies.append(driver_ccsd - full_cc)\n",
    "    return full_cc, energies"
   ]
  },
  {
   "cell_type": "markdown",
   "metadata": {},
   "source": [
    "The default is for nbed to use Concentric Localization, as this retains the whole virtual space, but we can disable virtual localization with a flag."
   ]
  },
  {
   "cell_type": "code",
   "execution_count": 9,
   "metadata": {},
   "outputs": [],
   "source": [
    "unlocalized = get_partial_cc_errors(virtual_localization=\"disable\")\n",
    "localized = get_partial_cc_errors(virtual_localization=\"cl\")"
   ]
  },
  {
   "cell_type": "markdown",
   "metadata": {},
   "source": [
    "We can see that the total energy between methods is very similar so our CL procedure does not introduce energy errors."
   ]
  },
  {
   "cell_type": "code",
   "execution_count": 10,
   "metadata": {},
   "outputs": [
    {
     "name": "stdout",
     "output_type": "stream",
     "text": [
<<<<<<< HEAD
      "Unlocalized CCSD: -169.48050963491698\n",
      "Diff of complete virtual space energies: -2.7119256174046313e-08\n"
=======
      "Unlocalized CCSD: -169.48051043912199\n",
      "Diff of complete virtual space energies: -2.5353074306622148e-08\n"
>>>>>>> 2061f52c9c68d258f384a4c72344409cbc59dd27
     ]
    }
   ],
   "source": [
    "print(\"Unlocalized CCSD:\", unlocalized[0])\n",
    "print(\"Diff of complete virtual space energies:\", unlocalized[0] - localized[0])"
   ]
  },
  {
   "cell_type": "markdown",
   "metadata": {},
   "source": [
    "There is naturally a difference between using global coupled cluster and cc-in-dft embedding.\n",
    "\n",
    "This arises out of using DFT for the environment occupied orbitals in our \"embedded\" calculations, and CCSD for them in our \"global ccsd\" calculation."
   ]
  },
  {
   "cell_type": "code",
   "execution_count": 11,
   "metadata": {},
   "outputs": [
    {
     "data": {
      "text/plain": [
       "np.float64(0.28791998641287364)"
      ]
     },
     "execution_count": 11,
     "metadata": {},
     "output_type": "execute_result"
    }
   ],
   "source": [
    "global_cc - unlocalized[0]"
   ]
  },
  {
   "cell_type": "markdown",
   "metadata": {},
   "source": [
    "It is important to remember what we are comparing, we're interested in reducing the number of molecular orbitals needed to accurately find the energy of the **embedded region**."
   ]
  },
  {
   "cell_type": "code",
   "execution_count": 12,
   "metadata": {},
   "outputs": [
    {
     "data": {
      "text/plain": [
<<<<<<< HEAD
       "<matplotlib.legend.Legend at 0x156466900>"
=======
       "<matplotlib.legend.Legend at 0x13a12dfd0>"
>>>>>>> 2061f52c9c68d258f384a4c72344409cbc59dd27
      ]
     },
     "execution_count": 12,
     "metadata": {},
     "output_type": "execute_result"
    },
    {
     "data": {
      "image/png": "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",
      "text/plain": [
       "<Figure size 640x480 with 1 Axes>"
      ]
     },
     "metadata": {},
     "output_type": "display_data"
    }
   ],
   "source": [
    "from matplotlib import pyplot as plt\n",
    "\n",
    "plt.semilogy(np.arange(5, 33), np.abs(localized[1][::-1][:-1]))\n",
    "plt.semilogy(np.arange(5, 33), np.abs(unlocalized[1][::-1][:-1]))\n",
<<<<<<< HEAD
    "plt.vlines(cl_driver.huzinaga[\"cl\"].shells[0], ymin=1e-5, ymax=1e-1, color=\"k\", linestyle=\"--\")\n",
=======
    "plt.vlines(cl_driver.mu[\"cl\"].shells[0], ymin=1e-5, ymax=1e-1, color=\"k\", linestyle=\"--\")\n",
>>>>>>> 2061f52c9c68d258f384a4c72344409cbc59dd27
    "plt.hlines(1.5e-3, xmin=5, xmax=33, color=\"red\", linestyle=\"--\", linewidth=0.5)\n",
    "\n",
    "plt.title(\"Formamide (C=O act) 6-31G\")\n",
    "plt.ylabel(\"CCSD Energy Error (Hartree)\")\n",
    "plt.xlabel(\"Number of MOs\")\n",
    "plt.legend([\"Concentric Localization\", \"Raw MOs\", \"CL Shell\", \"1.6mHa\"])"
   ]
  },
  {
   "cell_type": "markdown",
   "metadata": {},
   "source": [
    "Great! Concentric localization has reduced the number of virtual MOs we need to include to reach chemical accuracy (of the embedded calculation!)"
   ]
  },
  {
   "cell_type": "markdown",
   "metadata": {},
   "source": [
    "## Projected Atomic Orbitals\n",
    "\n",
    "[2] Szirmai, Ádám B., et al. \"Projected atomic orbitals as optimal virtual space for excited state projection-based embedding calculations.\" Journal of Chemical Theory and Computation 20.9 (2024): 3420-3425.\n"
   ]
  },
  {
   "cell_type": "markdown",
   "metadata": {},
   "source": [
    "\n",
<<<<<<< HEAD
    "\n",
    "Whereas Concentric Localization gives a procedure to iteratively localize the entire virtual space after the embedding procedure is complete, the Projected Atomic Orbitals method is used to define the contribution of virtual orbitals to the projector used in embedding.\n",
    "\n",
    "### Defining the Environment Projector\n",
=======
    "Whereas Concentric Localization gives a procedure to iteratively localize the entire virtual space, the Projected Atomic Orbitals method includes the use of cutoff parameters to reduce the size of the virtual space. \n",
    "\n",
    "### Theory\n",
>>>>>>> 2061f52c9c68d258f384a4c72344409cbc59dd27
    "\n",
    "Define the projector of the occupied orbitals\n",
    "\n",
    "$$R = C_{occ}C^{T}_{occ}$$\n",
    "\n",
    "From which we get the Projected Atomic Orbital C-matrix\n",
    "\n",
    "$$C_{PAO} = \\mathbb{1} - RS$$\n",
    "\n",
    "(Where S is the AO overlap matrix)\n",
    "\n",
    "We project these orbitals into the basis of the active subsystem\n",
    "\n",
<<<<<<< HEAD
    "$$ {C}_{pao}^A = P_A{C}_{pao}$$\n",
    "\n",
    "We can then truncate the size of the virtual space by setting a cutoff $\\nu$ in the norm of the overlap between \n",
    "\n",
    "$$ N_i = \\sum_{\\mu}^{act AOs} (C^A_{PAO})_{i\\mu}  (SC^A_{PAO})_{i\\mu}$$\n",
=======
    "$$ \\bar{C}_{pao}^A = P_A\\bar{C}_{pao}$$\n",
    "\n",
    "We can then truncate the size of the virtual space by setting a cutoff in the norm of the overlap between \n",
    "\n",
    "$$ N_i = \\sum_{\\mu}^{act AOs} (C_{PAO})_{i\\mu}  (SC_{PAO})_{i\\mu}$$\n",
>>>>>>> 2061f52c9c68d258f384a4c72344409cbc59dd27
    "\n",
    "The remaining orbitals are renormalized forming ${C'}_{PAO}$\n",
    "\n",
    "Finally, a second trunction step is used. By first diagonalising the overlap matrix \n",
    "\n",
    "$$S_{PAO} = ({C'}_{PAO})^{T}S {C'}_{PAO}$$\n",
    "\n",
<<<<<<< HEAD
    "we restrict to only the orbitals with an eigenvalue $|S_{PAO}|$ above some parameter $\\sigma$. This prevents linear dependence between the orbitals.\n",
    "\n",
    "Finally we have the reduced form of the Projected Atomic Orbitals\n",
    "$$\\bar{C}_{PAO} = \\set{C_{PAO} s.t. |S_{PAO}>\\sigma}$$\n",
=======
    "we restrict to only the orbitals with an eighenvalue above some parameter.\n",
    "\n",
>>>>>>> 2061f52c9c68d258f384a4c72344409cbc59dd27
    "\n",
    "### Cutoffs\n",
    "\n",
    "In the supplementary material to the paper above, they suggest using \n",
    "\n",
<<<<<<< HEAD
    "- Norm Cutoff $\\nu$: 0.05\n",
    "- Overlap Cutoff $\\sigma$: 1e-5\n",
    "\n",
    "so these are the default values nbed uses.\n",
    "\n",
    "\n",
    "### Updating the Huzinaga Projector\n",
    "\n",
    "The standard Huzinaga operator is given by $$P_{HUZ} = -(FP_{occ}S + SP_{occ}F)$$\n",
    "\n",
    "where $S$ is the atomic orbital overlap matrix, $F$ is the Fock matrix and $P_{occ}$ is the projector onto occupied environment orbitals.\n",
    "\n",
    "We update this with a projector $P_{virt}=\\mathbb{1} - C_{occ}C_{occ}^{T} - \\bar{C}_{PAO}\\bar{C}_{PAO}^T$\n",
    "\n",
    "$$F_{HUZ}=-(FP_{occ}S + SP_{occ}F) -(FP_{virt}S + SP_{virt}F) + 2SP_{virt}FP_{virt}S $$\n"
   ]
  },
  {
   "cell_type": "markdown",
   "metadata": {},
   "source": [
    "Let's try running the same embedding as above but with PAOs."
=======
    "- Norm Cutoff : 0.05\n",
    "- Overlap Cutoff : 1e-5\n",
    "\n",
    "so these are the default values nbed uses."
>>>>>>> 2061f52c9c68d258f384a4c72344409cbc59dd27
   ]
  },
  {
   "cell_type": "code",
   "execution_count": 13,
   "metadata": {},
   "outputs": [
    {
<<<<<<< HEAD
     "ename": "NotImplementedError",
     "evalue": "PAO not yet fully implemented.",
     "output_type": "error",
     "traceback": [
      "\u001b[31m---------------------------------------------------------------------------\u001b[39m",
      "\u001b[31mNotImplementedError\u001b[39m                       Traceback (most recent call last)",
      "\u001b[36mCell\u001b[39m\u001b[36m \u001b[39m\u001b[32mIn[13]\u001b[39m\u001b[32m, line 3\u001b[39m\n\u001b[32m      1\u001b[39m mol_filepath = Path(\u001b[33m\"\u001b[39m\u001b[33mmolecular_structures/formamide.xyz\u001b[39m\u001b[33m\"\u001b[39m).absolute()\n\u001b[32m----> \u001b[39m\u001b[32m3\u001b[39m pao_driver = \u001b[43mnbed\u001b[49m\u001b[43m(\u001b[49m\n\u001b[32m      4\u001b[39m \u001b[43m    \u001b[49m\u001b[43mgeometry\u001b[49m\u001b[43m=\u001b[49m\u001b[43mmol_filepath\u001b[49m\u001b[43m,\u001b[49m\n\u001b[32m      5\u001b[39m \u001b[43m    \u001b[49m\u001b[43mn_active_atoms\u001b[49m\u001b[43m=\u001b[49m\u001b[32;43m2\u001b[39;49m\u001b[43m,\u001b[49m\n\u001b[32m      6\u001b[39m \u001b[43m    \u001b[49m\u001b[43mbasis\u001b[49m\u001b[43m=\u001b[49m\u001b[33;43m\"\u001b[39;49m\u001b[33;43m6-31g\u001b[39;49m\u001b[33;43m\"\u001b[39;49m\u001b[43m,\u001b[49m\n\u001b[32m      7\u001b[39m \u001b[43m    \u001b[49m\u001b[43mxc_functional\u001b[49m\u001b[43m=\u001b[49m\u001b[33;43m\"\u001b[39;49m\u001b[33;43mb3lyp\u001b[39;49m\u001b[33;43m\"\u001b[39;49m\u001b[43m,\u001b[49m\n\u001b[32m      8\u001b[39m \u001b[43m    \u001b[49m\u001b[43mprojector\u001b[49m\u001b[43m=\u001b[49m\u001b[33;43m\"\u001b[39;49m\u001b[33;43mhuzinaga\u001b[39;49m\u001b[33;43m\"\u001b[39;49m\u001b[43m,\u001b[49m\n\u001b[32m      9\u001b[39m \u001b[43m    \u001b[49m\u001b[43mlocalization\u001b[49m\u001b[43m=\u001b[49m\u001b[33;43m\"\u001b[39;49m\u001b[33;43mspade\u001b[39;49m\u001b[33;43m\"\u001b[39;49m\u001b[43m,\u001b[49m\n\u001b[32m     10\u001b[39m \u001b[43m    \u001b[49m\u001b[43mvirtual_localization\u001b[49m\u001b[43m=\u001b[49m\u001b[33;43m\"\u001b[39;49m\u001b[33;43mpao\u001b[39;49m\u001b[33;43m\"\u001b[39;49m\u001b[43m,\u001b[49m\n\u001b[32m     11\u001b[39m \u001b[43m    \u001b[49m\u001b[43mconvergence\u001b[49m\u001b[43m=\u001b[49m\u001b[32;43m1e-6\u001b[39;49m\u001b[43m,\u001b[49m\n\u001b[32m     12\u001b[39m \u001b[43m    \u001b[49m\u001b[43mcharge\u001b[49m\u001b[43m=\u001b[49m\u001b[32;43m0\u001b[39;49m\u001b[43m,\u001b[49m\n\u001b[32m     13\u001b[39m \u001b[43m    \u001b[49m\u001b[43mspin\u001b[49m\u001b[43m=\u001b[49m\u001b[32;43m0\u001b[39;49m\u001b[43m,\u001b[49m\n\u001b[32m     14\u001b[39m \u001b[43m    \u001b[49m\u001b[43mmu_level_shift\u001b[49m\u001b[43m=\u001b[49m\u001b[32;43m1e6\u001b[39;49m\u001b[43m,\u001b[49m\n\u001b[32m     15\u001b[39m \u001b[43m    \u001b[49m\u001b[43mrun_ccsd_emb\u001b[49m\u001b[43m \u001b[49m\u001b[43m=\u001b[49m\u001b[43m \u001b[49m\u001b[38;5;28;43;01mTrue\u001b[39;49;00m\u001b[43m,\u001b[49m\n\u001b[32m     16\u001b[39m \u001b[43m    \u001b[49m\u001b[43mnorm_cutoff\u001b[49m\u001b[43m=\u001b[49m\u001b[32;43m0.05\u001b[39;49m\u001b[43m,\u001b[49m\n\u001b[32m     17\u001b[39m \u001b[43m    \u001b[49m\u001b[43moverlap_cutoff\u001b[49m\u001b[43m=\u001b[49m\u001b[32;43m1e-5\u001b[39;49m\u001b[43m,\u001b[49m\n\u001b[32m     18\u001b[39m \u001b[43m)\u001b[49m\n\u001b[32m     19\u001b[39m \u001b[38;5;28mprint\u001b[39m(\u001b[33m\"\u001b[39m\u001b[33mNumber of Molecular Orbitals:\u001b[39m\u001b[33m\"\u001b[39m, pao_driver.huzinaga[\u001b[33m\"\u001b[39m\u001b[33mscf\u001b[39m\u001b[33m\"\u001b[39m].mo_coeff.shape[-\u001b[32m1\u001b[39m]+\u001b[32m1\u001b[39m) \u001b[38;5;66;03m#zero-indexing!\u001b[39;00m\n\u001b[32m     20\u001b[39m \u001b[38;5;28mprint\u001b[39m(\u001b[33m\"\u001b[39m\u001b[33mEmbedded CCSD Energy:\u001b[39m\u001b[33m\"\u001b[39m, pao_driver.huzinaga[\u001b[33m\"\u001b[39m\u001b[33me_ccsd\u001b[39m\u001b[33m\"\u001b[39m])\n",
      "\u001b[36mFile \u001b[39m\u001b[32m~/Code/Nbed/nbed/embed.py:79\u001b[39m, in \u001b[36mnbed\u001b[39m\u001b[34m(config, **config_kwargs)\u001b[39m\n\u001b[32m     76\u001b[39m         config = NbedConfig(**config_kwargs)\n\u001b[32m     78\u001b[39m driver = NbedDriver(config)\n\u001b[32m---> \u001b[39m\u001b[32m79\u001b[39m \u001b[43mdriver\u001b[49m\u001b[43m.\u001b[49m\u001b[43membed\u001b[49m\u001b[43m(\u001b[49m\u001b[43m)\u001b[49m\n\u001b[32m     80\u001b[39m \u001b[38;5;28;01mreturn\u001b[39;00m driver\n",
      "\u001b[36mFile \u001b[39m\u001b[32m~/Code/Nbed/nbed/driver.py:820\u001b[39m, in \u001b[36mNbedDriver.embed\u001b[39m\u001b[34m(self, init_huzinaga_rhf_with_mu, n_mo_overwrite)\u001b[39m\n\u001b[32m    813\u001b[39m \u001b[38;5;250m\u001b[39m\u001b[33;03m\"\"\"Run embedded scf calculation.\u001b[39;00m\n\u001b[32m    814\u001b[39m \n\u001b[32m    815\u001b[39m \u001b[33;03mArgs:\u001b[39;00m\n\u001b[32m    816\u001b[39m \u001b[33;03m    init_huzinaga_rhf_with_mu (bool): Will run mu-shift projector even when input projector='huzinaga'.\u001b[39;00m\n\u001b[32m    817\u001b[39m \u001b[33;03m    n_mo_overwrite (tuple[int, int]): Enforces a specific number of MOs are included in the active region. Used for ACE-of-SPADE reaction path localization.\u001b[39;00m\n\u001b[32m    818\u001b[39m \u001b[33;03m\"\"\"\u001b[39;00m\n\u001b[32m    819\u001b[39m \u001b[38;5;28;01mif\u001b[39;00m \u001b[38;5;28mself\u001b[39m.config.virtual_localization \u001b[38;5;129;01mis\u001b[39;00m VirtualLocalizerTypes.PROJECTED_AO:\n\u001b[32m--> \u001b[39m\u001b[32m820\u001b[39m     \u001b[38;5;28;01mraise\u001b[39;00m \u001b[38;5;167;01mNotImplementedError\u001b[39;00m(\u001b[33m\"\u001b[39m\u001b[33mPAO not yet fully implemented.\u001b[39m\u001b[33m\"\u001b[39m)\n\u001b[32m    822\u001b[39m logger.debug(\u001b[33m\"\u001b[39m\u001b[33mEmbedding molecule.\u001b[39m\u001b[33m\"\u001b[39m)\n\u001b[32m    823\u001b[39m \u001b[38;5;28mself\u001b[39m.e_nuc = \u001b[38;5;28mself\u001b[39m._global_ks.energy_nuc()\n",
      "\u001b[31mNotImplementedError\u001b[39m: PAO not yet fully implemented."
=======
     "name": "stdout",
     "output_type": "stream",
     "text": [
      "Number of Molecular Orbitals: 27\n",
      "Embedded CCSD Energy: -169.35216765732525\n",
      "Error from complete virtual space: 0.1283427817967322\n"
>>>>>>> 2061f52c9c68d258f384a4c72344409cbc59dd27
     ]
    }
   ],
   "source": [
    "mol_filepath = Path(\"molecular_structures/formamide.xyz\").absolute()\n",
    "\n",
    "pao_driver = nbed(\n",
    "    geometry=mol_filepath,\n",
    "    n_active_atoms=2,\n",
    "    basis=\"6-31g\",\n",
    "    xc_functional=\"b3lyp\",\n",
<<<<<<< HEAD
    "    projector=\"huzinaga\",\n",
=======
    "    projector=\"mu\",\n",
>>>>>>> 2061f52c9c68d258f384a4c72344409cbc59dd27
    "    localization=\"spade\",\n",
    "    virtual_localization=\"pao\",\n",
    "    convergence=1e-6,\n",
    "    charge=0,\n",
    "    spin=0,\n",
    "    mu_level_shift=1e6,\n",
    "    run_ccsd_emb = True,\n",
    "    norm_cutoff=0.05,\n",
    "    overlap_cutoff=1e-5,\n",
    ")\n",
<<<<<<< HEAD
    "print(\"Number of Molecular Orbitals:\", pao_driver.huzinaga[\"scf\"].mo_coeff.shape[-1]+1) #zero-indexing!\n",
    "print(\"Embedded CCSD Energy:\", pao_driver.huzinaga[\"e_ccsd\"])\n",
    "print(\"Error from complete virtual space:\", pao_driver.huzinaga[\"e_ccsd\"] - unlocalized[0])"
=======
    "print(\"Number of Molecular Orbitals:\", pao_driver.mu[\"scf\"].mo_coeff.shape[-1]+1) #zero-indexing!\n",
    "print(\"Embedded CCSD Energy:\", pao_driver.mu[\"e_ccsd\"])\n",
    "print(\"Error from complete virtual space:\", pao_driver.mu[\"e_ccsd\"] - unlocalized[0])"
>>>>>>> 2061f52c9c68d258f384a4c72344409cbc59dd27
   ]
  },
  {
   "cell_type": "markdown",
   "metadata": {},
   "source": [
    "Let's see how the value from PAO compares to the results from Concentric Localization we looked at above."
   ]
  },
  {
   "cell_type": "code",
   "execution_count": 14,
   "metadata": {},
   "outputs": [
    {
     "data": {
      "text/plain": [
<<<<<<< HEAD
       "<matplotlib.legend.Legend at 0x1232d9e50>"
=======
       "<matplotlib.legend.Legend at 0x13a3d8690>"
>>>>>>> 2061f52c9c68d258f384a4c72344409cbc59dd27
      ]
     },
     "execution_count": 14,
     "metadata": {},
     "output_type": "execute_result"
    },
    {
     "data": {
<<<<<<< HEAD
      "image/png": "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",
=======
      "image/png": "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",
>>>>>>> 2061f52c9c68d258f384a4c72344409cbc59dd27
      "text/plain": [
       "<Figure size 640x480 with 1 Axes>"
      ]
     },
     "metadata": {},
     "output_type": "display_data"
    }
   ],
   "source": [
    "from matplotlib import pyplot as plt\n",
    "\n",
<<<<<<< HEAD
    "plt.scatter(x=[pao_driver.huzinaga[\"scf\"].mo_coeff.shape[-1]], y=[np.abs(pao_driver.huzinaga[\"e_ccsd\"]-unlocalized[0])], marker=\"x\", color=\"tab:red\")\n",
    "plt.semilogy(np.arange(5, 33), np.abs(localized[1][::-1][:-1]))\n",
    "plt.semilogy(np.arange(5, 33), np.abs(unlocalized[1][::-1][:-1]))\n",
    "plt.vlines(cl_driver.huzinaga[\"cl\"].shells[0], ymin=1e-5, ymax=1e-1, color=\"k\", linestyle=\"--\")\n",
    "plt.hlines(1.5e-3, xmin=5, xmax=33, color=\"red\", linestyle=\"--\", linewidth=0.5)\n",
=======
    "plt.semilogy(np.arange(5, 33), np.abs(localized[1][::-1][:-1]))\n",
    "plt.semilogy(np.arange(5, 33), np.abs(unlocalized[1][::-1][:-1]))\n",
    "plt.vlines(cl_driver.mu[\"cl\"].shells[0], ymin=1e-5, ymax=1e-1, color=\"k\", linestyle=\"--\")\n",
    "plt.hlines(1.5e-3, xmin=5, xmax=33, color=\"red\", linestyle=\"--\", linewidth=0.5)\n",
    "plt.scatter(x=[pao_driver.mu[\"scf\"].mo_coeff.shape[-1]], y=[pao_driver.mu[\"e_ccsd\"]-unlocalized[0]], marker=\"x\", color=\"tab:red\")\n",
>>>>>>> 2061f52c9c68d258f384a4c72344409cbc59dd27
    "\n",
    "plt.title(\"Formamide (C=O act) 6-31G\")\n",
    "plt.ylabel(\"CCSD Energy Error (Hartree)\")\n",
    "plt.xlabel(\"Number of MOs Included\")\n",
    "plt.legend([\"Concentric Localization\", \"Raw MOs\", \"CL Shell\", \"1.6mHa\", \"PAO\"])"
   ]
  },
  {
   "cell_type": "code",
   "execution_count": null,
   "metadata": {},
   "outputs": [],
   "source": []
  }
 ],
 "metadata": {
  "kernelspec": {
   "display_name": "nbed",
   "language": "python",
   "name": "python3"
  },
  "language_info": {
   "codemirror_mode": {
    "name": "ipython",
    "version": 3
   },
   "file_extension": ".py",
   "mimetype": "text/x-python",
   "name": "python",
   "nbconvert_exporter": "python",
   "pygments_lexer": "ipython3",
   "version": "3.13.1"
  }
 },
 "nbformat": 4,
 "nbformat_minor": 4
}
