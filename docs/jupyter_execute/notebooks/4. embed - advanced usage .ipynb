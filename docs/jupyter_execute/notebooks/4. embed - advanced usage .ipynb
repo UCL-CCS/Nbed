{
 "cells": [
  {
   "cell_type": "code",
   "execution_count": 1,
   "metadata": {},
   "outputs": [],
   "source": [
    "methane = \"\"\"5\n",
    "\n",
    "C\\t0.0\\t0.0\\t0.0\n",
    "H\\t0.5288\\t0.1610\\t0.9359\n",
    "H\\t0.2051\\t0.8240\\t-0.6786\n",
    "H\\t0.3345\\t-0.9314\\t-0.4496\n",
    "H\\t-1.0685\\t-0.0537\\t0.1921\n",
    "#     \"\"\"\n",
    "\n",
    "geometry = methane"
   ]
  },
  {
   "cell_type": "code",
   "execution_count": null,
   "metadata": {},
   "outputs": [],
   "source": []
  },
  {
   "cell_type": "code",
   "execution_count": 2,
   "metadata": {},
   "outputs": [],
   "source": [
    "from nbed.driver import NbedDriver"
   ]
  },
  {
   "cell_type": "code",
   "execution_count": 3,
   "metadata": {},
   "outputs": [
    {
     "ename": "TypeError",
     "evalue": "NbedDriver.__init__() got an unexpected keyword argument 'localization'",
     "output_type": "error",
     "traceback": [
      "\u001b[31m---------------------------------------------------------------------------\u001b[39m",
      "\u001b[31mTypeError\u001b[39m                                 Traceback (most recent call last)",
      "\u001b[36mCell\u001b[39m\u001b[36m \u001b[39m\u001b[32mIn[3]\u001b[39m\u001b[32m, line 17\u001b[39m\n\u001b[32m     13\u001b[39m projector = \u001b[33m\"\u001b[39m\u001b[33mhuzinaga\u001b[39m\u001b[33m\"\u001b[39m  \u001b[38;5;66;03m# \"huzinaga\",\"mu\" (secret \"both\" flag for developers)\u001b[39;00m\n\u001b[32m     15\u001b[39m \u001b[38;5;66;03m# note there are a couple of extra developer methods... see code docstrings for further info\u001b[39;00m\n\u001b[32m---> \u001b[39m\u001b[32m17\u001b[39m experiment = \u001b[43mNbedDriver\u001b[49m\u001b[43m(\u001b[49m\n\u001b[32m     18\u001b[39m \u001b[43m    \u001b[49m\u001b[43mgeometry\u001b[49m\u001b[43m,\u001b[49m\n\u001b[32m     19\u001b[39m \u001b[43m    \u001b[49m\u001b[43mn_active_atoms\u001b[49m\u001b[43m,\u001b[49m\n\u001b[32m     20\u001b[39m \u001b[43m    \u001b[49m\u001b[43mbasis\u001b[49m\u001b[43m,\u001b[49m\n\u001b[32m     21\u001b[39m \u001b[43m    \u001b[49m\u001b[43mxc_functional\u001b[49m\u001b[43m,\u001b[49m\n\u001b[32m     22\u001b[39m \u001b[43m    \u001b[49m\u001b[43mprojector\u001b[49m\u001b[43m,\u001b[49m\n\u001b[32m     23\u001b[39m \u001b[43m    \u001b[49m\u001b[43mlocalization\u001b[49m\u001b[43m=\u001b[49m\u001b[43mloc_method\u001b[49m\u001b[43m,\u001b[49m\n\u001b[32m     24\u001b[39m \u001b[43m    \u001b[49m\u001b[43mconvergence\u001b[49m\u001b[43m=\u001b[49m\u001b[43mconvergence\u001b[49m\u001b[43m,\u001b[49m\n\u001b[32m     25\u001b[39m \u001b[43m    \u001b[49m\u001b[43mcharge\u001b[49m\u001b[43m=\u001b[49m\u001b[32;43m0\u001b[39;49m\u001b[43m,\u001b[49m\n\u001b[32m     26\u001b[39m \u001b[43m    \u001b[49m\u001b[43mmu_level_shift\u001b[49m\u001b[43m=\u001b[49m\u001b[32;43m1e6\u001b[39;49m\u001b[43m,\u001b[49m\n\u001b[32m     27\u001b[39m \u001b[43m    \u001b[49m\u001b[43mrun_ccsd_emb\u001b[49m\u001b[43m=\u001b[49m\u001b[43mrun_ccsd_emb\u001b[49m\u001b[43m,\u001b[49m\n\u001b[32m     28\u001b[39m \u001b[43m    \u001b[49m\u001b[43mrun_fci_emb\u001b[49m\u001b[43m=\u001b[49m\u001b[43mrun_fci_emb\u001b[49m\u001b[43m,\u001b[49m\n\u001b[32m     29\u001b[39m \u001b[43m    \u001b[49m\u001b[43mrun_virtual_localization\u001b[49m\u001b[43m=\u001b[49m\u001b[43mrun_virtual_loc\u001b[49m\u001b[43m,\u001b[49m\n\u001b[32m     30\u001b[39m \u001b[43m    \u001b[49m\u001b[43mmax_ram_memory\u001b[49m\u001b[43m=\u001b[49m\u001b[43mmax_ram\u001b[49m\u001b[43m,\u001b[49m\n\u001b[32m     31\u001b[39m \u001b[43m    \u001b[49m\u001b[43mpyscf_print_level\u001b[49m\u001b[43m=\u001b[49m\u001b[32;43m1\u001b[39;49m\u001b[43m,\u001b[49m\n\u001b[32m     32\u001b[39m \u001b[43m    \u001b[49m\u001b[43msavefile\u001b[49m\u001b[43m=\u001b[49m\u001b[38;5;28;43;01mNone\u001b[39;49;00m\u001b[43m,\u001b[49m\n\u001b[32m     33\u001b[39m \u001b[43m    \u001b[49m\u001b[43munit\u001b[49m\u001b[43m=\u001b[49m\u001b[33;43m\"\u001b[39;49m\u001b[33;43mangstrom\u001b[39;49m\u001b[33;43m\"\u001b[39;49m\u001b[43m,\u001b[49m\n\u001b[32m     34\u001b[39m \u001b[43m    \u001b[49m\u001b[43moccupied_threshold\u001b[49m\u001b[43m=\u001b[49m\u001b[32;43m0.95\u001b[39;49m\u001b[43m,\u001b[49m\n\u001b[32m     35\u001b[39m \u001b[43m    \u001b[49m\u001b[43mvirtual_threshold\u001b[49m\u001b[43m=\u001b[49m\u001b[32;43m0.95\u001b[39;49m\u001b[43m,\u001b[49m\n\u001b[32m     36\u001b[39m \u001b[43m    \u001b[49m\u001b[43mmax_hf_cycles\u001b[49m\u001b[43m=\u001b[49m\u001b[32;43m50\u001b[39;49m\u001b[43m,\u001b[49m\n\u001b[32m     37\u001b[39m \u001b[43m    \u001b[49m\u001b[43mmax_dft_cycles\u001b[49m\u001b[43m=\u001b[49m\u001b[32;43m50\u001b[39;49m\u001b[43m,\u001b[49m\n\u001b[32m     38\u001b[39m \u001b[43m)\u001b[49m\n",
      "\u001b[31mTypeError\u001b[39m: NbedDriver.__init__() got an unexpected keyword argument 'localization'"
     ]
    }
   ],
   "source": [
    "n_active_atoms = 2\n",
    "basis = \"STO-3G\"\n",
    "xc_functional = \"B3LYP\"  # 'lda, vwn' #'B3LYP'\n",
    "convergence = 1e-10\n",
    "charge = 0\n",
    "mu_level_shift = 1e6\n",
    "run_ccsd_emb = True\n",
    "run_fci_emb = True\n",
    "max_ram = 8_000\n",
    "run_virtual_loc = False\n",
    "\n",
    "loc_method = \"ibo\"  # \"spade\" #\"pipekmezey\" \"ibo\" \"boys\"\n",
    "projector = \"huzinaga\"  # \"huzinaga\",\"mu\" (secret \"both\" flag for developers)\n",
    "\n",
    "# note there are a couple of extra developer methods... see code docstrings for further info\n",
    "\n",
    "experiment = NbedDriver(\n",
    "    geometry,\n",
    "    n_active_atoms,\n",
    "    basis,\n",
    "    xc_functional,\n",
    "    projector,\n",
    "    localization=loc_method,\n",
    "    convergence=convergence,\n",
    "    charge=0,\n",
    "    mu_level_shift=1e6,\n",
    "    run_ccsd_emb=run_ccsd_emb,\n",
    "    run_fci_emb=run_fci_emb,\n",
    "    run_virtual_localization=run_virtual_loc,\n",
    "    max_ram_memory=max_ram,\n",
    "    pyscf_print_level=1,\n",
    "    savefile=None,\n",
    "    unit=\"angstrom\",\n",
    "    occupied_threshold=0.95,\n",
    "    virtual_threshold=0.95,\n",
    "    max_hf_cycles=50,\n",
    "    max_dft_cycles=50,\n",
    ")"
   ]
  },
  {
   "cell_type": "code",
   "execution_count": null,
   "metadata": {},
   "outputs": [],
   "source": []
  },
  {
   "cell_type": "markdown",
   "metadata": {},
   "source": [
    "access experiment values using\n",
    "- `experiment._huzinaga` for huzinaga projector exp\n",
    "- and\n",
    "- `experiment._mu` for mu projector exp\n",
    "\n",
    "developer note if `project='both'` then have access to both dictionaries (standard usage will only have 1 to avoid running two expensive calcs)"
   ]
  },
  {
   "cell_type": "code",
   "execution_count": null,
   "metadata": {},
   "outputs": [],
   "source": []
  },
  {
   "cell_type": "markdown",
   "metadata": {},
   "source": [
    "keys:\n",
    "- `e_rhf`== HFock-in-DFT embedding \n",
    "- `e_ccsd`== CCSD-in-DFT embedding \n",
    "- `e_fci`==  FCI-in-DFT embedding \n",
    "- `correction`== correction term due to dft active density not being same as density given by active wavefunction used in WF calculation\n",
    "- `v_emb`==  Matrix of the embedding potential\n",
    "- `mo_energies_emb_pre_del`== MO energies of all orbitals  \n",
    "- `mo_energies_emb_post_del`==  MO energies of active orbitals only (environment deleted)\n",
    "- `scf` == embedded pyscf scf RHF object"
   ]
  },
  {
   "cell_type": "code",
   "execution_count": null,
   "metadata": {},
   "outputs": [],
   "source": [
    "# access experiment huzinaga values\n",
    "\n",
    "# experiment._huzinaga['e_rhf']\n",
    "# experiment._huzinaga['e_ccsd']\n",
    "# experiment._huzinaga['e_fci']\n",
    "\n",
    "# experiment._huzinaga['correction']\n",
    "# experiment._huzinaga['v_emb']\n",
    "# experiment._huzinaga['classical_energy']\n",
    "\n",
    "# experiment._huzinaga['mo_energies_emb_pre_del']\n",
    "# experiment._huzinaga['mo_energies_emb_post_del']\n",
    "# experiment._huzinaga['scf']\n",
    "\n",
    "\n",
    "{\n",
    "    \"v_emb\": experiment._huzinaga[\"v_emb\"],\n",
    "    \"scf\": experiment._huzinaga[\"scf\"],\n",
    "    \"mo_energies_emb_pre_del\": experiment._huzinaga[\"mo_energies_emb_pre_del\"],\n",
    "    \"mo_energies_emb_post_del\": experiment._huzinaga[\"mo_energies_emb_post_del\"],\n",
    "    \"correction\": experiment._huzinaga[\"correction\"],\n",
    "    \"e_rhf\": experiment._huzinaga[\"e_rhf\"],\n",
    "    \"classical_energy\": experiment._huzinaga[\"classical_energy\"],\n",
    "    \"e_ccsd\": experiment._huzinaga[\"e_ccsd\"],\n",
    "    \"e_fci\": experiment._huzinaga[\"e_fci\"],\n",
    "}"
   ]
  },
  {
   "cell_type": "code",
   "execution_count": null,
   "metadata": {},
   "outputs": [],
   "source": [
    "## access experiment mu values\n",
    "\n",
    "# experiment._mu['e_rhf']\n",
    "# experiment._mu['e_ccsd']\n",
    "# experiment._mu['e_fci']\n",
    "\n",
    "# experiment._mu['correction']\n",
    "# experiment._mu['v_emb']\n",
    "# experiment._mu['classical_energy']\n",
    "\n",
    "# experiment._mu['mo_energies_emb_pre_del']\n",
    "# experiment._mu['mo_energies_emb_post_del']\n",
    "# experiment._mu['scf']\n",
    "\n",
    "# {'v_emb'                   :experiment._mu['v_emb'],\n",
    "#  'scf'                     :experiment._mu['scf'],\n",
    "#  'mo_energies_emb_pre_del' :experiment._mu['mo_energies_emb_pre_del'],\n",
    "#  'mo_energies_emb_post_del':experiment._mu['mo_energies_emb_post_del'],\n",
    "#  'correction'              :experiment._mu['correction'],\n",
    "#  'e_rhf'                   :experiment._mu['e_rhf'],\n",
    "#  'classical_energy'        :experiment._mu['classical_energy'],\n",
    "#  'e_ccsd'                  :experiment._mu['e_ccsd'],\n",
    "#  'e_fci'                   :experiment._mu['e_fci']}"
   ]
  },
  {
   "cell_type": "markdown",
   "metadata": {},
   "source": [
    "# Get qubit Hamiltonian"
   ]
  },
  {
   "cell_type": "code",
   "execution_count": null,
   "metadata": {},
   "outputs": [],
   "source": [
    "from nbed.ham_builder import HamiltonianBuilder\n",
    "from nbed.ham_converter import HamiltonianConverter"
   ]
  },
  {
   "cell_type": "code",
   "execution_count": null,
   "metadata": {},
   "outputs": [],
   "source": [
    "transform = \"jordan_wigner\"  # fermion to qubit mapping\n",
    "\n",
    "qham = HamiltonianBuilder(\n",
    "    scf_method=experiment.embedded_scf,\n",
    "    constant_e_shift=experiment.classical_energy,\n",
    "    transform=transform,\n",
    ").build()\n",
    "\n",
    "qham"
   ]
  },
  {
   "cell_type": "code",
   "execution_count": null,
   "metadata": {},
   "outputs": [],
   "source": []
  },
  {
   "cell_type": "code",
   "execution_count": null,
   "metadata": {},
   "outputs": [],
   "source": [
    "# convert to different back ends\n",
    "\n",
    "output = \"pennylane\"  # \"openfermion\", \"qiskit\", \"pennylane\"\n",
    "\n",
    "\n",
    "converter = HamiltonianConverter(qham)\n",
    "hamiltonian = getattr(converter, output.lower())\n",
    "\n",
    "print(hamiltonian)"
   ]
  },
  {
   "cell_type": "code",
   "execution_count": null,
   "metadata": {},
   "outputs": [],
   "source": [
    "# note convert works by storing Hamiltonian in intermediate dictionary form of\n",
    "# Paulioperator key and coefficient value\n",
    "\n",
    "converter._intermediate"
   ]
  },
  {
   "cell_type": "code",
   "execution_count": null,
   "metadata": {},
   "outputs": [],
   "source": []
  }
 ],
 "metadata": {
  "interpreter": {
   "hash": "fe514aa320be100644bbd958a3f38aa9f15de9075cf36cc4d239ea0f19dcd868"
  },
  "kernelspec": {
   "display_name": "Python 3 (ipykernel)",
   "language": "python",
   "name": "python3"
  },
  "language_info": {
   "codemirror_mode": {
    "name": "ipython",
    "version": 3
   },
   "file_extension": ".py",
   "mimetype": "text/x-python",
   "name": "python",
   "nbconvert_exporter": "python",
   "pygments_lexer": "ipython3",
   "version": "3.13.1"
  }
 },
 "nbformat": 4,
 "nbformat_minor": 4
}
