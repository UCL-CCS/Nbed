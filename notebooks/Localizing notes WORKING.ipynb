{
 "cells": [
  {
   "cell_type": "code",
   "execution_count": 1,
   "metadata": {},
   "outputs": [],
   "source": [
    "import scipy as sp\n",
    "from pyscf import gto, dft, lib, mp, cc, scf, tools, ci, fci"
   ]
  },
  {
   "cell_type": "code",
   "execution_count": 2,
   "metadata": {},
   "outputs": [],
   "source": [
    "import numpy as np\n",
    "import sys\n",
    "sys.path.append( './src/' )"
   ]
  },
  {
   "cell_type": "code",
   "execution_count": 3,
   "metadata": {},
   "outputs": [],
   "source": [
    "matrix_dot = lambda A, B: np.einsum('ij,ij', A, B)"
   ]
  },
  {
   "cell_type": "code",
   "execution_count": null,
   "metadata": {},
   "outputs": [],
   "source": []
  },
  {
   "cell_type": "code",
   "execution_count": 4,
   "metadata": {},
   "outputs": [],
   "source": [
    "# H    0.7493682,0.0000000,0.4424329\n",
    "# O    0.0000000,0.0000000,-0.1653507\n",
    "# H   -0.7493682,0.0000000,0.4424329"
   ]
  },
  {
   "cell_type": "markdown",
   "metadata": {},
   "source": [
    "# Define Molecule \n",
    "\n",
    "- Note first N atoms will be the ACTIVE portion of the molecule\n",
    "- the remaining atoms will be the environment"
   ]
  },
  {
   "cell_type": "code",
   "execution_count": 5,
   "metadata": {},
   "outputs": [],
   "source": [
    "N_active_atoms = 2\n",
    "\n",
    "geometry = [\n",
    "['H', (0.7493682,0.0000000,0.4424329)],\n",
    "['O', (0.0000000,0.0000000,-0.1653507)],\n",
    "    \n",
    "['H', (-0.7493682,0.0000000,0.4424329)]\n",
    "]\n",
    "\n",
    "# geometry = [\n",
    "# ['Be@1', (0.0000000,0.0000000,0.0000000)],\n",
    "# ['H@1', (0.0000000,0.0000000,+1)],\n",
    "    \n",
    "# ['H#', (0.0000000,0.0000000,-1)]\n",
    "# ]"
   ]
  },
  {
   "cell_type": "code",
   "execution_count": 6,
   "metadata": {},
   "outputs": [
    {
     "name": "stdout",
     "output_type": "stream",
     "text": [
      "3\n",
      " \n",
      "H\t0.7493682\t0.0\t0.4424329\n",
      "O\t0.0\t0.0\t-0.1653507\n",
      "H\t-0.7493682\t0.0\t0.4424329\n",
      "\n"
     ]
    }
   ],
   "source": [
    "if isinstance(geometry, str):\n",
    "    # if already xzy format\n",
    "    xyz_geom = geometry\n",
    "else:\n",
    "    # convert to xyz format\n",
    "    n_atoms = len(geometry)\n",
    "    xyz_geom=f'{n_atoms}'\n",
    "    xyz_geom+='\\n \\n'\n",
    "    for atom, xyz in geometry:\n",
    "        xyz_geom+= f'{atom}\\t{xyz[0]}\\t{xyz[1]}\\t{xyz[2]}\\n'\n",
    "\n",
    "print(xyz_geom)"
   ]
  },
  {
   "cell_type": "code",
   "execution_count": 7,
   "metadata": {},
   "outputs": [
    {
     "data": {
      "application/3dmoljs_load.v0": "<div id=\"3dmolviewer_1631013271428761\"  style=\"position: relative; width: 400px; height: 400px\">\n        <p id=\"3dmolwarning_1631013271428761\" style=\"background-color:#ffcccc;color:black\">You appear to be running in JupyterLab (or JavaScript failed to load for some other reason).  You need to install the 3dmol extension: <br>\n        <tt>jupyter labextension install jupyterlab_3dmol</tt></p>\n        </div>\n<script>\n\nvar loadScriptAsync = function(uri){\n  return new Promise((resolve, reject) => {\n    var tag = document.createElement('script');\n    tag.src = uri;\n    tag.async = true;\n    tag.onload = () => {\n      resolve();\n    };\n  var firstScriptTag = document.getElementsByTagName('script')[0];\n  firstScriptTag.parentNode.insertBefore(tag, firstScriptTag);\n});\n};\n\nif(typeof $3Dmolpromise === 'undefined') {\n$3Dmolpromise = null;\n  $3Dmolpromise = loadScriptAsync('https://3dmol.org/build/3Dmol.js');\n}\n\nvar viewer_1631013271428761 = null;\nvar warn = document.getElementById(\"3dmolwarning_1631013271428761\");\nif(warn) {\n    warn.parentNode.removeChild(warn);\n}\n$3Dmolpromise.then(function() {\nviewer_1631013271428761 = $3Dmol.createViewer($(\"#3dmolviewer_1631013271428761\"),{backgroundColor:\"white\"});\nviewer_1631013271428761.zoomTo();\n\tviewer_1631013271428761.addModel(\"3\\n \\nH\\t0.7493682\\t0.0\\t0.4424329\\nO\\t0.0\\t0.0\\t-0.1653507\\nH\\t-0.7493682\\t0.0\\t0.4424329\\n\",\"xyz\");\n\tviewer_1631013271428761.setStyle({\"stick\": {}});\n\tviewer_1631013271428761.zoomTo();\nviewer_1631013271428761.render();\n});\n</script>",
      "text/html": [
       "<div id=\"3dmolviewer_1631013271428761\"  style=\"position: relative; width: 400px; height: 400px\">\n",
       "        <p id=\"3dmolwarning_1631013271428761\" style=\"background-color:#ffcccc;color:black\">You appear to be running in JupyterLab (or JavaScript failed to load for some other reason).  You need to install the 3dmol extension: <br>\n",
       "        <tt>jupyter labextension install jupyterlab_3dmol</tt></p>\n",
       "        </div>\n",
       "<script>\n",
       "\n",
       "var loadScriptAsync = function(uri){\n",
       "  return new Promise((resolve, reject) => {\n",
       "    var tag = document.createElement('script');\n",
       "    tag.src = uri;\n",
       "    tag.async = true;\n",
       "    tag.onload = () => {\n",
       "      resolve();\n",
       "    };\n",
       "  var firstScriptTag = document.getElementsByTagName('script')[0];\n",
       "  firstScriptTag.parentNode.insertBefore(tag, firstScriptTag);\n",
       "});\n",
       "};\n",
       "\n",
       "if(typeof $3Dmolpromise === 'undefined') {\n",
       "$3Dmolpromise = null;\n",
       "  $3Dmolpromise = loadScriptAsync('https://3dmol.org/build/3Dmol.js');\n",
       "}\n",
       "\n",
       "var viewer_1631013271428761 = null;\n",
       "var warn = document.getElementById(\"3dmolwarning_1631013271428761\");\n",
       "if(warn) {\n",
       "    warn.parentNode.removeChild(warn);\n",
       "}\n",
       "$3Dmolpromise.then(function() {\n",
       "viewer_1631013271428761 = $3Dmol.createViewer($(\"#3dmolviewer_1631013271428761\"),{backgroundColor:\"white\"});\n",
       "viewer_1631013271428761.zoomTo();\n",
       "\tviewer_1631013271428761.addModel(\"3\\n \\nH\\t0.7493682\\t0.0\\t0.4424329\\nO\\t0.0\\t0.0\\t-0.1653507\\nH\\t-0.7493682\\t0.0\\t0.4424329\\n\",\"xyz\");\n",
       "\tviewer_1631013271428761.setStyle({\"stick\": {}});\n",
       "\tviewer_1631013271428761.zoomTo();\n",
       "viewer_1631013271428761.render();\n",
       "});\n",
       "</script>"
      ]
     },
     "metadata": {},
     "output_type": "display_data"
    }
   ],
   "source": [
    "import py3Dmol\n",
    "import rdkit\n",
    "from rdkit.Chem import Draw\n",
    "from rdkit.Chem.Draw import IPythonConsole\n",
    "rdkit.Chem.Draw.IPythonConsole.ipython_3d = True  # enable py3Dmol inline visualization\n",
    "\n",
    "width= 400\n",
    "height = 400\n",
    "\n",
    "view = py3Dmol.view(width=width, height=height)\n",
    "view.addModel(xyz_geom, \"xyz\")\n",
    "view.setStyle({'stick':{}})\n",
    "view.zoomTo()\n",
    "view.show()"
   ]
  },
  {
   "cell_type": "markdown",
   "metadata": {},
   "source": [
    "# Define Params\n",
    "\n",
    "- what level to treat active and envirnoment systems"
   ]
  },
  {
   "cell_type": "code",
   "execution_count": 8,
   "metadata": {},
   "outputs": [],
   "source": [
    "## define params\n",
    "\n",
    "basis =  'STO-6G' # '6-31g' #\n",
    "low_level_xc_functional_or_HF = 'lda, vwn' #'hf'\n",
    "high_level_xc_functional = 'b3lyp'\n",
    "\n",
    "low_level_method = 'rhf'\n",
    "high_level_ref = 'rhf'\n",
    "high_level_method = 'mp2'"
   ]
  },
  {
   "cell_type": "code",
   "execution_count": null,
   "metadata": {},
   "outputs": [],
   "source": []
  },
  {
   "cell_type": "code",
   "execution_count": null,
   "metadata": {},
   "outputs": [],
   "source": []
  },
  {
   "cell_type": "markdown",
   "metadata": {},
   "source": [
    "# Build the GLOBAL (full) molecule"
   ]
  },
  {
   "cell_type": "code",
   "execution_count": 9,
   "metadata": {},
   "outputs": [
    {
     "data": {
      "text/plain": [
       "[['H', (0.7493682, 0.0, 0.4424329)],\n",
       " ['O', (0.0, 0.0, -0.1653507)],\n",
       " ['H', (-0.7493682, 0.0, 0.4424329)]]"
      ]
     },
     "execution_count": 9,
     "metadata": {},
     "output_type": "execute_result"
    }
   ],
   "source": [
    "full_system_mol = gto.Mole(atom= geometry,\n",
    "                      basis=basis,\n",
    "                       charge=0,\n",
    "                       #spin=0,\n",
    "                      )\n",
    "full_system_mol.build()\n",
    "full_system_mol.atom"
   ]
  },
  {
   "cell_type": "code",
   "execution_count": 10,
   "metadata": {},
   "outputs": [],
   "source": [
    "full_system_mol.verbose = 1\n",
    "full_system_mol.max_memory = 8_000 #MB"
   ]
  },
  {
   "cell_type": "code",
   "execution_count": null,
   "metadata": {},
   "outputs": [],
   "source": []
  },
  {
   "cell_type": "markdown",
   "metadata": {},
   "source": [
    "# 1. Run Supersystem Calculation (cheap method)"
   ]
  },
  {
   "cell_type": "code",
   "execution_count": 11,
   "metadata": {},
   "outputs": [
    {
     "data": {
      "text/plain": [
       "-75.45216076573016"
      ]
     },
     "execution_count": 11,
     "metadata": {},
     "output_type": "execute_result"
    }
   ],
   "source": [
    "full_system_scf = scf.RKS(full_system_mol)\n",
    "full_system_scf.verbose=1\n",
    "full_system_scf.max_memory= 8_000\n",
    "full_system_scf.conv_tol = 1e-6\n",
    "full_system_scf.xc = low_level_xc_functional_or_HF\n",
    "full_system_scf.kernel()"
   ]
  },
  {
   "cell_type": "code",
   "execution_count": 12,
   "metadata": {},
   "outputs": [
    {
     "data": {
      "text/plain": [
       "-75.45216076573016"
      ]
     },
     "execution_count": 12,
     "metadata": {},
     "output_type": "execute_result"
    }
   ],
   "source": [
    "full_system_scf.e_tot"
   ]
  },
  {
   "cell_type": "code",
   "execution_count": 13,
   "metadata": {},
   "outputs": [
    {
     "data": {
      "text/plain": [
       "True"
      ]
     },
     "execution_count": 13,
     "metadata": {},
     "output_type": "execute_result"
    }
   ],
   "source": [
    "full_system_scf.conv_check"
   ]
  },
  {
   "cell_type": "code",
   "execution_count": 14,
   "metadata": {},
   "outputs": [],
   "source": [
    "two_e_term_total = full_system_scf.get_veff()\n",
    "e_xc_total = two_e_term_total.exc\n",
    "v_xc_total = two_e_term_total - full_system_scf.get_j() "
   ]
  },
  {
   "cell_type": "code",
   "execution_count": 15,
   "metadata": {},
   "outputs": [],
   "source": [
    "# full_system_scf.get_fock()\n",
    "# full_system_scf.get_hcore()"
   ]
  },
  {
   "cell_type": "code",
   "execution_count": 16,
   "metadata": {},
   "outputs": [],
   "source": [
    "# full_system_scf.mo_coeff.shape"
   ]
  },
  {
   "cell_type": "code",
   "execution_count": null,
   "metadata": {},
   "outputs": [],
   "source": []
  },
  {
   "cell_type": "markdown",
   "metadata": {},
   "source": [
    "# Run expensive CI calc to compare all results too"
   ]
  },
  {
   "cell_type": "code",
   "execution_count": 17,
   "metadata": {},
   "outputs": [
    {
     "name": "stdout",
     "output_type": "stream",
     "text": [
      "E(UHF-FCI) = -75.731522191956\n"
     ]
    }
   ],
   "source": [
    "HF_scf = scf.RHF(full_system_mol)\n",
    "HF_scf.verbose=1\n",
    "HF_scf.max_memory= 8_000\n",
    "HF_scf.conv_tol = 1e-6\n",
    "HF_scf.kernel()\n",
    "\n",
    "my_fci = fci.FCI(HF_scf).run()\n",
    "print('E(UHF-FCI) = %.12f' % my_fci.e_tot)\n",
    "\n",
    "# myci = ci.CISD(HF_scf).run() # this is UCISD\n",
    "# print('UCISD total energy = ', myci.e_tot)"
   ]
  },
  {
   "cell_type": "code",
   "execution_count": null,
   "metadata": {},
   "outputs": [],
   "source": []
  },
  {
   "cell_type": "markdown",
   "metadata": {},
   "source": [
    "# 2. Localise orbitals"
   ]
  },
  {
   "cell_type": "markdown",
   "metadata": {},
   "source": [
    "### Background\n",
    "\n",
    "The overlap matrix is:\n",
    "\n",
    "$$S_{\\mu \\nu} =  \\int d\\vec{r}_{1} \\phi_{\\mu}(1)^{*}\\phi_{\\nu}(1)$$\n",
    "\n",
    "- $\\phi_{\\mu}$ are basis functions (defined in basis set)\n",
    "\n",
    "\n",
    "The unknown molecular orbitals $\\psi_{i}$ are expanded as a linear expansion of the $K$ known basis functions:\n",
    "\n",
    "$$ \\psi_{i} =  \\sum_{\\mu=1}^{K} C_{\\mu i} \\psi_{\\mu}$$\n",
    "\n",
    "\n",
    "$C$ is a $K \\times K$ matrix of expansion coefficients $C_{\\mu i}$. The columns of $C$ describe the molecular orbitals!"
   ]
  },
  {
   "cell_type": "markdown",
   "metadata": {},
   "source": [
    "We can find the total number of electrons $N$ in the system by:\n",
    "\n",
    "$$ N =  2 \\sum_{a}^{N/2}\\int d\\vec{r}  \\bigg( \\psi_{a}(\\vec{r})^{*} \\psi_{i}(\\vec{r}) \\bigg) =  2 \\sum_{a}^{N/2} 1$$\n",
    "\n",
    "- integral gives probablity of finding electron $a$ over all space (must be 1)\n",
    "- summing over all electrons will give the total number of electrons"
   ]
  },
  {
   "cell_type": "code",
   "execution_count": null,
   "metadata": {},
   "outputs": [],
   "source": []
  },
  {
   "cell_type": "markdown",
   "metadata": {},
   "source": [
    "The charge density has the following definition:\n",
    "\n",
    "$$\\rho(\\vec{r}) = 2 \\sum_{a}^{N/2} \\bigg( \\psi_{a}(\\vec{r})^{*} \\psi_{i}(\\vec{r}) \\bigg)$$\n",
    "\n",
    "- re-write using definition of $\\psi_{i}=  \\sum_{\\mu=1}^{K} C_{\\mu i} \\psi_{\\mu}$\n",
    "\n",
    "$$\\rho(\\vec{r}) = 2 \\sum_{a}^{N/2} \\Bigg( \\bigg[ \\sum_{\\nu}^{K} C_{\\nu a}^{*} \\phi_{\\nu}(\\vec{r})^{*} \\bigg] \\bigg[ \\sum_{\\mu}^{K} C_{\\mu a}\\phi_{\\mu}(\\vec{r}) \\bigg] \\Bigg)$$\n",
    "\n",
    "- move things around\n",
    "\n",
    "$$\\rho(\\vec{r}) = \\sum_{\\nu}^{K} \\sum_{\\mu}^{K} \\Big( 2 \\sum_{a}^{N/2} C_{\\mu a} C_{\\nu a}^{*} \\Big) \\phi_{\\mu}(\\vec{r}) \\phi_{\\nu}(\\vec{r})^{*} $$\n",
    "\n",
    "- which is \n",
    "\n",
    "$$\\rho(\\vec{r}) = \\sum_{\\mu, \\nu}^{K} P_{\\mu \\nu} \\phi_{\\mu}(\\vec{r}) \\phi_{\\nu}(\\vec{r})^{*} $$\n",
    "\n",
    "\n",
    "- $P_{\\mu \\nu}$ is known as the density matrix and is:\n",
    "\n",
    "$$P_{\\mu \\nu} = 2 \\sum_{a}^{N/2} C_{\\mu a} C_{\\nu a}^{*}$$"
   ]
  },
  {
   "cell_type": "code",
   "execution_count": null,
   "metadata": {},
   "outputs": [],
   "source": []
  },
  {
   "cell_type": "markdown",
   "metadata": {},
   "source": [
    "Therefore we can also find the total number of electrons in the system by:\n",
    "\n",
    "$$ N =  2 \\sum_{a}^{N/2}\\int d\\vec{r}  \\bigg( \\psi_{a}(\\vec{r})^{*} \\psi_{i}(\\vec{r}) \\bigg) =  \\sum_{\\nu}^{K} \\sum_{\\mu}^{K} \\Big( 2 \\sum_{a}^{N/2} C_{\\mu a} C_{\\nu a}^{*} \\Big) \\int d\\vec{r} \\phi_{\\mu}(\\vec{r})  \\phi_{\\nu}(\\vec{r})^{*}$$\n",
    "\n",
    "- This is simply:\n",
    "\n",
    "$$N =  \\sum_{\\nu}^{K} \\sum_{\\mu}^{K} P_{\\mu \\nu} S_{\\nu \\mu}$$\n",
    "\n",
    "- in an orthognal basis $S$ should be the identity matrix (as it is overlap of matrix of orthogonal orbs), SO WE GET:\n",
    "\n",
    "$$N =  \\sum_{\\nu}^{K} \\sum_{\\mu}^{K} P_{\\mu \\nu} S_{\\nu \\mu} = \\sum_{\\mu}^{K} PS_{\\mu \\mu} = \\mathcal{Tr}(PS)$$"
   ]
  },
  {
   "cell_type": "markdown",
   "metadata": {},
   "source": [
    "- One can interpret $ PS_{\\mu \\mu}$ in the above equation as the number of electrons associated with $ \\phi_{\\mu}$\n",
    "- This is a **Mulliken population analysis**"
   ]
  },
  {
   "cell_type": "markdown",
   "metadata": {},
   "source": []
  },
  {
   "cell_type": "markdown",
   "metadata": {},
   "source": [
    "# Orbital Localization!"
   ]
  },
  {
   "cell_type": "code",
   "execution_count": 18,
   "metadata": {},
   "outputs": [],
   "source": [
    "from pyscf import lo"
   ]
  },
  {
   "cell_type": "markdown",
   "metadata": {},
   "source": [
    "A molecular orbital is usually delocalized, i.e. it has non-negligible amplitude over the whole system rather than only around some atom(s) or bond(s). However, one can choose a unitary rotation "
   ]
  },
  {
   "cell_type": "markdown",
   "metadata": {},
   "source": [
    "- When we perform a SCF calculation, one gets an optimized C matrix\n",
    "    - $C$ is a $K \\times K$ matrix of expansion coefficients $C_{\\mu i}$\n",
    "    - The columns of $C$ describe the molecular orbitals!\n",
    "    - MO i: $ \\psi_{i} =  \\sum_{\\mu=1}^{K} C_{\\mu i} \\psi_{\\mu}$\n",
    "    \n",
    "    \n",
    "- These molecular orbitals are usually **delocalized**\n",
    "    - non-negligible amplitude over the whole system, rather than only around some atom(s) or bond(s)\n",
    "\n",
    "- But we know in QM that a given basis choice is NOT unique\n",
    "\n",
    "\n",
    "- We can therefore perform a unitary rotation on molecular orbitals\n",
    "\n",
    "$$ \\psi_{i} U_{rot} =  \\Big( \\sum_{\\mu=1}^{K} C_{\\mu i} \\psi_{\\mu} \\Big) U_{rot} = \\psi_{i}^{new}$$\n",
    "    \n",
    "    \n",
    "The idea is to use a rotation such that the resulting orbitals $\\psi_{i}^{new}$ are as spatially localized as possible. \n",
    "\n",
    "\n",
    "The Pipek-Mezey (PM) [localization](https://notendur.hi.is/hj/papers/paperPipekmezey8.pdf) **maximizes the population charges on the atoms**:\n",
    "\n",
    "$$ f (U_{rot}) = \\sum_{A}^{N_{atoms}} \\Bigg( Z_{A} -  \\sum_{\\mu \\text{ on atom } A} PS_{\\mu \\mu} \\Bigg)$$"
   ]
  },
  {
   "cell_type": "code",
   "execution_count": null,
   "metadata": {},
   "outputs": [],
   "source": []
  },
  {
   "cell_type": "code",
   "execution_count": 112,
   "metadata": {},
   "outputs": [
    {
     "name": "stdout",
     "output_type": "stream",
     "text": [
      "\n",
      "overlap: [1.15906233 1.37497851 1.13305941 1.09981647 1.        ]\n",
      "threshold for active part: 1.2 \n",
      "\n",
      "number of active MOs: 1\n",
      "number of enviro MOs: 4 \n",
      "\n",
      "N_active + N_environment = N is: True\n",
      "y_active + y_enviro = y_total is: True\n"
     ]
    }
   ],
   "source": [
    "localization_method = 'boys'#'spade' 'pipekmezey' 'boys 'ibo'\n",
    "THRESHOLD = 1.2\n",
    "\n",
    "S_mat = full_system_scf.get_ovlp()\n",
    "AO_slice_matrix = full_system_mol.aoslice_by_atom()\n",
    "\n",
    "\n",
    "\n",
    "if localization_method.lower() == 'spade':\n",
    "    \n",
    "    occ_orbs = full_system_scf.mo_coeff[:,full_system_scf.mo_occ>0]\n",
    "    N_active_AO = AO_slice_matrix[N_active_atoms-1][3]\n",
    "    \n",
    "    ao_active_inds = np.arange(N_active_AO)\n",
    "    \n",
    "    S_half = sp.linalg.fractional_matrix_power(S_mat, 0.5)\n",
    "    orthogonal_orbitals = (S_half@occ_orbs)[:N_active_AO, :] # Get rows (the active AO) of orthogonal orbs \n",
    "    \n",
    "    u, singular_values, rotation_matrix = np.linalg.svd(orthogonal_orbitals, full_matrices=True)\n",
    "    delta_s = singular_values[:-1] - singular_values[1:] # σ_i - σ_(i+1)\n",
    "    \n",
    "    n_act_mos = np.argmax(delta_s)+1 # add one due to python indexing\n",
    "    n_env_mos = len(singular_values) - n_act_mos\n",
    "    \n",
    "    act_orbitals = occ_orbs @ rotation_matrix.T[:, :n_act_mos]\n",
    "    env_orbitals = occ_orbs @ rotation_matrix.T[:, n_act_mos:]\n",
    "    \n",
    "    C_matrix_all_localized_orbitals = occ_orbs @ rotation_matrix.T\n",
    "    \n",
    "    active_MO_inds  = np.arange(n_act_mos)\n",
    "    enviro_MO_inds = np.arange(n_act_mos, n_act_mos+n_env_mos)\n",
    "    \n",
    "else:\n",
    "    if localization_method.lower() == 'pipekmezey':\n",
    "        ### PipekMezey\n",
    "        PM = lo.PipekMezey(full_system_mol, full_system_scf.mo_coeff)\n",
    "        PM.pop_method = 'mulliken' # 'meta-lowdin', 'iao', 'becke'\n",
    "        C_loc = PM.kernel() # includes virtual orbs too!\n",
    "        C_loc_occ =C_loc[:,full_system_scf.mo_occ>0]\n",
    "        \n",
    "    elif localization_method.lower() == 'boys':\n",
    "        ### Boys\n",
    "        boys_SCF = lo.boys.Boys(full_system_mol, full_system_scf.mo_coeff)\n",
    "        C_loc  = boys_SCF.kernel()\n",
    "        C_loc_occ =C_loc[:,full_system_scf.mo_occ>0]\n",
    "        \n",
    "    elif localization_method.lower() == 'ibo':\n",
    "        ### intrinsic bonding orbs\n",
    "        #\n",
    "        mo_occ = full_system_scf.mo_coeff[:,full_system_scf.mo_occ>0]\n",
    "        iaos = lo.iao.iao(full_system_scf.mol, mo_occ)\n",
    "        C_loc_occ = lo.ibo.ibo(full_system_scf.mol, mo_occ, locmethod='IBO', iaos=iaos)#.kernel()\n",
    "    else:\n",
    "        raise ValueError(f'unknown localization method {localization_method}')\n",
    "        \n",
    "    \n",
    "    # find indices of AO of active atoms\n",
    "    ao_active_inds = np.arange(AO_slice_matrix[0,2], AO_slice_matrix[N_active_atoms-1,3])\n",
    "    \n",
    "    \n",
    "    MO_AO_overlap = S_mat@C_loc_occ  #  < ϕ_AO_i | ψ_MO_j >\n",
    "    MO_active_AO_overlap = np.einsum('ij->j', MO_AO_overlap[ao_active_inds]) # sum over rows of active AOs of MOs!\n",
    "    \n",
    "    print('\\noverlap:', MO_active_AO_overlap)\n",
    "    print(f'threshold for active part: {THRESHOLD} \\n')\n",
    "    \n",
    "    active_MO_inds = np.where(MO_active_AO_overlap>THRESHOLD)[0]\n",
    "    enviro_MO_inds = np.array([i for i in range(C_loc_occ.shape[1]) if i not in active_MO_inds]) # get all non active MOs\n",
    "    \n",
    "    \n",
    "    # define active MO orbs and environment\n",
    "    act_orbitals = C_loc_occ[:, active_MO_inds] # take MO (columns of C_matrix) that have high dependence from active AOs\n",
    "    env_orbitals = C_loc_occ[:, enviro_MO_inds]\n",
    "\n",
    "    C_matrix_all_localized_orbitals = C_loc_occ\n",
    "\n",
    "    n_act_mos = len(active_MO_inds)\n",
    "    n_env_mos = len(enviro_MO_inds)\n",
    "    \n",
    "\n",
    "    \n",
    "### Get active and enviro density matrices\n",
    "\n",
    "dm_active =  2 * act_orbitals @ act_orbitals.T\n",
    "dm_enviro =  2 * env_orbitals @ env_orbitals.T\n",
    "\n",
    "print(f'number of active MOs: {n_act_mos}')\n",
    "print(f'number of enviro MOs: {n_env_mos} \\n')\n",
    "\n",
    "\n",
    "bool_flag_electron_number = np.isclose(np.trace(dm_active@S_mat) + np.trace(dm_enviro@S_mat), full_system_mol.nelectron)\n",
    "print(f'N_active + N_environment = N is: {bool_flag_electron_number}')\n",
    "\n",
    "dm_localised_full_system = 2* C_matrix_all_localized_orbitals@ C_matrix_all_localized_orbitals.conj().T\n",
    "density_flag = np.allclose(dm_localised_full_system, dm_active + dm_enviro)\n",
    "print(f'y_active + y_enviro = y_total is: {density_flag}')\n"
   ]
  },
  {
   "cell_type": "code",
   "execution_count": null,
   "metadata": {},
   "outputs": [],
   "source": []
  },
  {
   "cell_type": "code",
   "execution_count": 20,
   "metadata": {},
   "outputs": [],
   "source": [
    "# from copy import deepcopy\n",
    "\n",
    "# localization_method = 'ibo'#'spade' 'pipekmezey' 'boys 'ibo'\n",
    "# THRESHOLD = 0.4\n",
    "\n",
    "# S_mat = full_system_scf.get_ovlp()\n",
    "# AO_slice_matrix = full_system_mol.aoslice_by_atom()\n",
    "\n",
    "\n",
    "\n",
    "# if localization_method.lower() == 'spade':\n",
    "    \n",
    "#     occ_orbs = full_system_scf.mo_coeff[:,full_system_scf.mo_occ>0]\n",
    "#     N_active_AO = AO_slice_matrix[N_active_atoms-1][3]\n",
    "    \n",
    "#     ao_active_inds = np.arange(N_active_AO)\n",
    "    \n",
    "#     S_half = sp.linalg.fractional_matrix_power(S_mat, 0.5)\n",
    "#     orthogonal_orbitals = (S_half@occ_orbs)[:N_active_AO, :] # Get rows (the active AO) of orthogonal orbs \n",
    "    \n",
    "#     u, singular_values, rotation_matrix = np.linalg.svd(orthogonal_orbitals, full_matrices=True)\n",
    "#     delta_s = singular_values[:-1] - singular_values[1:] # σ_i - σ_(i+1)\n",
    "    \n",
    "#     n_act_mos = np.argmax(delta_s)+1 # add one due to python indexing\n",
    "#     n_env_mos = len(singular_values) - n_act_mos\n",
    "    \n",
    "#     act_orbitals = occ_orbs @ rotation_matrix.T[:, :n_act_mos]\n",
    "#     env_orbitals = occ_orbs @ rotation_matrix.T[:, n_act_mos:]\n",
    "    \n",
    "#     C_matrix_all_localized_orbitals = occ_orbs @ rotation_matrix.T\n",
    "    \n",
    "#     active_MO_inds  = np.arange(n_act_mos)\n",
    "#     enviro_MO_inds = np.arange(n_act_mos, n_act_mos+n_env_mos)\n",
    "    \n",
    "# else:\n",
    "#     if localization_method.lower() == 'pipekmezey':\n",
    "#         ### PipekMezey\n",
    "#         PM = lo.PipekMezey(full_system_mol, full_system_scf.mo_coeff)\n",
    "#         PM.pop_method = 'mulliken' # 'meta-lowdin', 'iao', 'becke'\n",
    "#         C_loc = PM.kernel() # includes virtual orbs too!\n",
    "#         C_loc_occ =C_loc[:,full_system_scf.mo_occ>0]\n",
    "        \n",
    "#     elif localization_method.lower() == 'boys':\n",
    "#         ### Boys\n",
    "#         boys_SCF = lo.boys.Boys(full_system_mol, full_system_scf.mo_coeff)\n",
    "#         C_loc  = boys_SCF.kernel()\n",
    "#         C_loc_occ =C_loc[:,full_system_scf.mo_occ>0]\n",
    "        \n",
    "#     elif localization_method.lower() == 'ibo':\n",
    "#         ### intrinsic bonding orbs\n",
    "#         #\n",
    "#         mo_occ = full_system_scf.mo_coeff[:,full_system_scf.mo_occ>0]\n",
    "#         iaos = lo.iao.iao(full_system_scf.mol, mo_occ)\n",
    "#         C_loc_occ = lo.ibo.ibo(full_system_scf.mol, mo_occ, locmethod='IBO', iaos=iaos)#.kernel()\n",
    "#     else:\n",
    "#         raise ValueError(f'unknown localization method {localization_method}')\n",
    "        \n",
    "    \n",
    "#     # find indices of AO of active atoms\n",
    "#     ao_active_inds = np.arange(AO_slice_matrix[0,2], AO_slice_matrix[N_active_atoms-1,3])\n",
    "#     C_loc_ortho = S_half @ C_loc_occ # <--- orthogonal!!!!\n",
    "    \n",
    "    \n",
    "#     MO_AO_overlap = C_loc_ortho  #  < ϕ_AO_i | ψ_MO_j >\n",
    "#     MO_active_AO_overlap = np.einsum('ij->j', MO_AO_overlap[ao_active_inds]) # sum over rows of active AOs of MOs!\n",
    "    \n",
    "#     print('\\noverlap:', MO_active_AO_overlap)\n",
    "#     print(f'threshold for active part: {THRESHOLD} \\n')\n",
    "    \n",
    "#     active_MO_inds = np.where(MO_active_AO_overlap>THRESHOLD)[0]\n",
    "#     enviro_MO_inds = np.array([i for i in range(C_loc_occ.shape[1]) if i not in active_MO_inds]) # get all non active MOs\n",
    "    \n",
    "#     active_C = deepcopy(C_loc_ortho)\n",
    "# #     active_C[enviro_MO_inds, :] = np.zeros((len(enviro_MO_inds), C_loc_ortho.shape[1]))\n",
    "#     active_C[:, enviro_MO_inds] = np.zeros((C_loc_ortho.shape[0], len(enviro_MO_inds)))\n",
    "    \n",
    "#     enviro_C = deepcopy(C_loc_ortho)\n",
    "# #     enviro_C[active_MO_inds, :] = np.zeros((len(active_MO_inds), C_loc_ortho.shape[1]))\n",
    "#     enviro_C[:, active_MO_inds] = np.zeros((C_loc_ortho.shape[0], len(active_MO_inds)))\n",
    "    \n",
    "#     S_neg_half = sp.linalg.fractional_matrix_power(S_mat, -0.5)\n",
    "# #     act_orbitals =  S_neg_half @ active_C\n",
    "# #     env_orbitals =  S_neg_half @ enviro_C\n",
    "#     act_orbitals =  S_neg_half @ C_loc_ortho[:, active_MO_inds]\n",
    "#     env_orbitals =  S_neg_half @ C_loc_ortho[:, enviro_MO_inds]\n",
    "    \n",
    "    \n",
    "#     # define active MO orbs and environment\n",
    "    \n",
    "# #     Vdag, sing, V = np.linalg.svd(S_mat, full_matrices=True)\n",
    "# #     S_half = sp.linalg.fractional_matrix_power(S_mat, 0.5)\n",
    "    \n",
    "# #     S_neg_half = sp.linalg.fractional_matrix_power(S_mat, -0.5)\n",
    "    \n",
    "# #     active_S_neg = deepcopy(S_neg_half)\n",
    "# #     active_S_neg[enviro_MO_inds, :] = np.zeros((len(enviro_MO_inds), S_neg_half.shape[1]))\n",
    "# #     active_S_neg[:, enviro_MO_inds] = np.zeros((S_neg_half.shape[1], len(enviro_MO_inds)))\n",
    "    \n",
    "# #     enviro_S_neg = deepcopy(S_neg_half)\n",
    "# #     enviro_S_neg[active_MO_inds, :] = np.zeros((len(active_MO_inds), S_neg_half.shape[1]))\n",
    "# #     enviro_S_neg[:, active_MO_inds] = np.zeros((S_neg_half.shape[1], len(active_MO_inds)))\n",
    "    \n",
    "# #     print(active_S_neg.shape)\n",
    "# #     print(C_loc_ortho.shape)\n",
    "# #     print(S_half.shape)\n",
    "    \n",
    "# #     act_orbitals =  active_S_neg @ C_loc_ortho  # S_neg_half[active_MO_inds, :] @ C_loc_ortho  # active_S_neg @ C_loc_ortho \n",
    "# #     env_orbitals =  enviro_S_neg @ C_loc_ortho # S_neg_half[enviro_MO_inds, :] @ C_loc_ortho  #enviro_S_neg @ C_loc_ortho \n",
    "\n",
    "#     C_matrix_all_localized_orbitals = C_loc_occ#@ S_neg_half\n",
    "\n",
    "#     n_act_mos = len(active_MO_inds)\n",
    "#     n_env_mos = len(enviro_MO_inds)\n",
    "    \n",
    "\n",
    "    \n",
    "# # ### Get active and enviro density matrices\n",
    "\n",
    "# dm_active =  2 * act_orbitals @ act_orbitals.T\n",
    "# dm_enviro =  2 * env_orbitals @ env_orbitals.T\n",
    "\n",
    "# print(f'number of active MOs: {n_act_mos}')\n",
    "# print(f'number of enviro MOs: {n_env_mos} \\n')\n",
    "\n",
    "\n",
    "# bool_flag_electron_number = np.isclose(np.trace(dm_active@S_mat) + np.trace(dm_enviro@S_mat), full_system_mol.nelectron)\n",
    "# print(f'N_active + N_environment = N is: {bool_flag_electron_number}')\n",
    "\n",
    "# dm_localised_full_system = 2* C_matrix_all_localized_orbitals@ C_matrix_all_localized_orbitals.conj().T\n",
    "# density_flag = np.allclose(dm_localised_full_system, dm_active + dm_enviro)\n",
    "# print(f'y_active + y_enviro = y_total is: {density_flag}')\n",
    "\n",
    "# np.diag(S_neg_half.T @ S_mat @ S_neg_half)"
   ]
  },
  {
   "cell_type": "code",
   "execution_count": null,
   "metadata": {},
   "outputs": [],
   "source": []
  },
  {
   "cell_type": "code",
   "execution_count": null,
   "metadata": {},
   "outputs": [],
   "source": []
  },
  {
   "cell_type": "code",
   "execution_count": 21,
   "metadata": {},
   "outputs": [],
   "source": [
    "from pyscf.tools import cubegen\n",
    "import os\n",
    "\n",
    "def plot_orbital(full_system_mol, C_matrix, index, xyz_geom):\n",
    "\n",
    "    cube_file = f'temp_MO_orbital_index{index}.cube'    \n",
    "    cubegen.orbital(full_system_mol, cube_file, C_matrix[:, index])\n",
    "    \n",
    "\n",
    "    view = py3Dmol.view(width=width, height=height)\n",
    "    view.addModel(xyz_geom, \"xyz\")\n",
    "    view.setStyle({'stick':{}})\n",
    "\n",
    "    with open(cube_file, 'r') as f:\n",
    "        view.addVolumetricData(f.read(), \"cube\", {'isoval': -0.02, 'color': \"red\", 'opacity': 0.75})\n",
    "    with open(cube_file, 'r') as f2:\n",
    "        view.addVolumetricData(f2.read(), \"cube\", {'isoval': 0.02, 'color': \"blue\", 'opacity': 0.75})\n",
    "    view.zoomTo()\n",
    "    \n",
    "    os.remove(cube_file) # delete file once orbital is drawn\n",
    "    \n",
    "    return view.show()\n"
   ]
  },
  {
   "cell_type": "code",
   "execution_count": 22,
   "metadata": {},
   "outputs": [],
   "source": [
    "# # print active orbitals\n",
    "\n",
    "# for active_MO_ind in active_MO_inds:\n",
    "#     plot_orbital(full_system_mol, C_matrix_all_localized_orbitals, active_MO_ind, xyz_geom)"
   ]
  },
  {
   "cell_type": "code",
   "execution_count": 23,
   "metadata": {},
   "outputs": [],
   "source": [
    "# # print environment orbitals\n",
    "\n",
    "# for enviro_MO_ind in enviro_MO_inds:\n",
    "#     plot_orbital(full_system_mol, C_matrix_all_localized_orbitals, enviro_MO_ind, xyz_geom)"
   ]
  },
  {
   "cell_type": "code",
   "execution_count": null,
   "metadata": {},
   "outputs": [],
   "source": []
  },
  {
   "cell_type": "markdown",
   "metadata": {},
   "source": [
    "# 3. Calculate cross subsystem terms"
   ]
  },
  {
   "cell_type": "code",
   "execution_count": 24,
   "metadata": {},
   "outputs": [],
   "source": [
    "def Get_energy_and_matrices_from_dm(dm_matrix, scf_obj, check_E_with_pyscf=True):\n",
    "    \"\"\"\n",
    "    Get Energy from denisty matrix\n",
    "\n",
    "    Note this uses the standard hcore (NO embedding potential here!)\n",
    "    \"\"\"\n",
    "\n",
    "    # It seems that PySCF lumps J and K in the J array \n",
    "    J_mat = scf_obj.get_j(dm = dm_matrix)\n",
    "    K_mat = np.zeros_like(J_mat)\n",
    "    two_e_term =  scf_obj.get_veff(dm=dm_matrix)\n",
    "    e_xc = two_e_term.exc\n",
    "    v_xc = two_e_term - J_mat \n",
    "\n",
    "    Energy_elec = np.einsum('ij, ij', dm_matrix, scf_obj.get_hcore() + J_mat/2) + e_xc\n",
    "\n",
    "    if check_E_with_pyscf:\n",
    "        Energy_elec_pyscf = scf_obj.energy_elec(dm=dm_matrix)[0]\n",
    "        if not np.isclose(Energy_elec_pyscf, Energy_elec):\n",
    "            raise ValueError('Energy calculation incorrect')\n",
    "\n",
    "    return Energy_elec, J_mat, K_mat, e_xc, v_xc"
   ]
  },
  {
   "cell_type": "code",
   "execution_count": 25,
   "metadata": {},
   "outputs": [],
   "source": [
    "# use active density\n",
    "E_act, J_act, K_act, e_xc_act, v_xc_act = Get_energy_and_matrices_from_dm( dm_active, # <- change\n",
    "                                                                             full_system_scf, \n",
    "                                                                             check_E_with_pyscf=True)"
   ]
  },
  {
   "cell_type": "code",
   "execution_count": 26,
   "metadata": {},
   "outputs": [],
   "source": [
    "# use enviro density\n",
    "E_env, J_env, K_env, e_xc_env, v_xc_env = Get_energy_and_matrices_from_dm( dm_enviro, # <- change\n",
    "                                                                             full_system_scf, \n",
    "                                                                             check_E_with_pyscf=True)"
   ]
  },
  {
   "cell_type": "code",
   "execution_count": null,
   "metadata": {},
   "outputs": [],
   "source": []
  },
  {
   "cell_type": "code",
   "execution_count": 27,
   "metadata": {},
   "outputs": [],
   "source": [
    "# cross terms!\n",
    "\n",
    "j_cross = 0.5 * ( np.einsum('ij,ij', dm_active, J_env) + np.einsum('ij,ij', dm_enviro, J_act) )\n",
    "k_cross = 0.0\n",
    "\n",
    "xc_cross = e_xc_total - e_xc_act - e_xc_env\n",
    "two_e_cross = j_cross + k_cross + xc_cross"
   ]
  },
  {
   "cell_type": "code",
   "execution_count": 28,
   "metadata": {},
   "outputs": [
    {
     "name": "stdout",
     "output_type": "stream",
     "text": [
      "E_active: -26.425476634147486\n",
      "E_enviro: -76.15156912324795\n",
      "E_cross: 17.996601263382317\n"
     ]
    }
   ],
   "source": [
    "print(f'E_active: {E_act}')\n",
    "print(f'E_enviro: {E_env}')\n",
    "print(f'E_cross: {two_e_cross}')"
   ]
  },
  {
   "cell_type": "code",
   "execution_count": null,
   "metadata": {},
   "outputs": [],
   "source": []
  },
  {
   "cell_type": "markdown",
   "metadata": {},
   "source": [
    "# 4. Define V_embed"
   ]
  },
  {
   "cell_type": "markdown",
   "metadata": {},
   "source": [
    "$$h^{A_{\\text{act}} \\text{ in } B_{\\text{env}}} = h^{\\text{core}} + v^{\\text{embed}}$$\n",
    "\n",
    "$$v^{\\text{embed}} = g[\\gamma^{A_{\\text{act}}} + \\gamma^{B_{\\text{env}}} ] - g[\\gamma^{A_{\\text{act}}}] + P_{\\text{projector}}$$"
   ]
  },
  {
   "cell_type": "code",
   "execution_count": 29,
   "metadata": {},
   "outputs": [],
   "source": [
    "projector_method = 'huzinaga'\n",
    "# projector_method = 'mu_shfit'\n",
    "\n",
    "if projector_method == 'huzinaga':\n",
    "    Fock = full_system_scf.get_hcore() + full_system_scf.get_veff(dm=dm_active + dm_enviro)\n",
    "    F_gammaB_S = Fock @ dm_enviro @ S_mat\n",
    "    projector = -0.5 * (F_gammaB_S + F_gammaB_S.T)\n",
    "elif projector_method == 'mu_shfit':\n",
    "    mu = 1e6\n",
    "    projector = mu * (S_mat @ dm_enviro  @ S_mat)\n",
    "else:\n",
    "    raise ValueError(f'Unknown projection method {projector_method}')\n",
    "\n"
   ]
  },
  {
   "cell_type": "code",
   "execution_count": null,
   "metadata": {},
   "outputs": [],
   "source": []
  },
  {
   "cell_type": "code",
   "execution_count": 30,
   "metadata": {},
   "outputs": [],
   "source": [
    "# define the embedded term\n",
    "g_A_and_B = full_system_scf.get_veff(dm=dm_active+dm_enviro)\n",
    "\n",
    "g_A = full_system_scf.get_veff(dm=dm_active)\n",
    "\n",
    "v_emb = g_A_and_B - g_A + projector"
   ]
  },
  {
   "cell_type": "code",
   "execution_count": 31,
   "metadata": {},
   "outputs": [],
   "source": [
    "# PsiEmbed definition\n",
    "v_emb2 = (J_env + v_xc_total - v_xc_act + projector)"
   ]
  },
  {
   "cell_type": "code",
   "execution_count": 32,
   "metadata": {},
   "outputs": [
    {
     "data": {
      "text/plain": [
       "True"
      ]
     },
     "execution_count": 32,
     "metadata": {},
     "output_type": "execute_result"
    }
   ],
   "source": [
    "# check these are the SAME!\n",
    "np.allclose(v_emb, v_emb2)"
   ]
  },
  {
   "cell_type": "code",
   "execution_count": null,
   "metadata": {},
   "outputs": [],
   "source": []
  },
  {
   "cell_type": "code",
   "execution_count": null,
   "metadata": {},
   "outputs": [],
   "source": []
  },
  {
   "cell_type": "markdown",
   "metadata": {},
   "source": [
    "# 5. Run RKS DFT of full system with $V_{emb}$ to get $\\gamma_{emb}^{\\text{active}}$ "
   ]
  },
  {
   "cell_type": "code",
   "execution_count": 33,
   "metadata": {},
   "outputs": [
    {
     "name": "stdout",
     "output_type": "stream",
     "text": [
      "embedded Energy: 0.9132799033380543\n"
     ]
    }
   ],
   "source": [
    "full_system_mol_EMBEDDED = gto.Mole(atom= geometry,\n",
    "                      basis=basis,\n",
    "                       charge=0,\n",
    "                       #spin=0,\n",
    "                      )\n",
    "full_system_mol_EMBEDDED.build()\n",
    "\n",
    "# RE-DEFINE number of electrons in system\n",
    "full_system_mol_EMBEDDED.nelectron = 2*n_act_mos\n",
    "\n",
    "EMBEDDED_full_system_scf = scf.RKS(full_system_mol_EMBEDDED)\n",
    "EMBEDDED_full_system_scf.verbose=1\n",
    "EMBEDDED_full_system_scf.max_memory= 8_000\n",
    "EMBEDDED_full_system_scf.conv_tol = 1e-6\n",
    "EMBEDDED_full_system_scf.xc = low_level_xc_functional_or_HF\n",
    "\n",
    "h_core = EMBEDDED_full_system_scf.get_hcore()\n",
    "\n",
    "# overwrite h_core to include embedding term!!!!\n",
    "EMBEDDED_full_system_scf.get_hcore = lambda *args: v_emb + h_core\n",
    "\n",
    "\n",
    "E_emb = EMBEDDED_full_system_scf.kernel()\n",
    "\n",
    "print(f'embedded Energy: {E_emb}')"
   ]
  },
  {
   "cell_type": "code",
   "execution_count": 34,
   "metadata": {},
   "outputs": [
    {
     "data": {
      "text/plain": [
       "True"
      ]
     },
     "execution_count": 34,
     "metadata": {},
     "output_type": "execute_result"
    }
   ],
   "source": [
    "EMBEDDED_full_system_scf.conv_check"
   ]
  },
  {
   "cell_type": "code",
   "execution_count": 35,
   "metadata": {},
   "outputs": [
    {
     "name": "stdout",
     "output_type": "stream",
     "text": [
      "number of e- in gamma_embedded is correct: True\n"
     ]
    }
   ],
   "source": [
    "EMBEDDED_occ_orbs = EMBEDDED_full_system_scf.mo_coeff[:,EMBEDDED_full_system_scf.mo_occ>0]\n",
    "\n",
    "# optimized embedded denisty matrix\n",
    "density_emb = 2 * EMBEDDED_occ_orbs @ EMBEDDED_occ_orbs.conj().T\n",
    "\n",
    "## check number of electrons makes sense:\n",
    "electron_check = np.isclose(np.trace(density_emb@S_mat), 2*n_act_mos)\n",
    "\n",
    "print(f'number of e- in gamma_embedded is correct: {electron_check}')"
   ]
  },
  {
   "cell_type": "code",
   "execution_count": null,
   "metadata": {},
   "outputs": [],
   "source": []
  },
  {
   "cell_type": "code",
   "execution_count": 36,
   "metadata": {},
   "outputs": [
    {
     "name": "stdout",
     "output_type": "stream",
     "text": [
      "RKS correction: -0.00020899711496120296\n",
      "WF correction: 18.21047280584239\n"
     ]
    }
   ],
   "source": [
    "# calculate embedding correction term\n",
    "\n",
    "dm_correction = np.einsum('ij, ij', v_emb, density_emb-dm_active)\n",
    "WF_correction = np.einsum('ij, ij', v_emb, dm_active)\n",
    "\n",
    "print(f'RKS correction: {dm_correction}')\n",
    "print(f'WF correction: {WF_correction}')"
   ]
  },
  {
   "cell_type": "code",
   "execution_count": null,
   "metadata": {},
   "outputs": [],
   "source": []
  },
  {
   "cell_type": "markdown",
   "metadata": {},
   "source": [
    "# Calculate Energy\n",
    "\n",
    "The energy can be found according too:\n",
    "\n",
    "$$E[\\gamma^{A_{\\text{act}}}_\\text{embedded}; \\; \\; \\gamma^{A_{\\text{act}}},\\mathcal{E}[\\gamma^{A_{\\text{act}}}_\\text{embedded}]\n",
    "= \\mathcal{E}[\\gamma^{A_{\\text{act}}}_\\text{embedded}] + E[\\gamma^{B_{\\text{env}}}] + g[\\gamma^{A_{\\text{act}}}, \\gamma^{B_{\\text{env}}}] + \\mathcal{Trace}\\big[(\\gamma^{A_{\\text{act}}}_\\text{embedded}-\\gamma^{A_{\\text{act}}})(h^{A_{\\text{act}} \\text{ in } B_{\\text{env}}} - h )\\big]$$\n",
    "\n",
    "\n",
    "\n",
    "- $\\mathcal{E}[\\gamma^{A_{\\text{act}}}_\\text{embedded}]$\n",
    "    - energy of isolated A computed with new optimized embedded density matrix\n",
    "    - Note this allows for applicaton of different fucntionals (hence why odd E used)\n",
    "- $E[\\gamma^{B_{\\text{env}}}]$ DFT calc of isolated subsystem B\n",
    "- $g[\\gamma^{A_{\\text{act}}}, \\gamma^{B_{\\text{env}}}]$ non additive energy (boundary condition) between subsystems\n",
    "    - this is obtained from global calc!\n",
    "- Trace term provides a first order correction to the energy!"
   ]
  },
  {
   "cell_type": "code",
   "execution_count": null,
   "metadata": {},
   "outputs": [],
   "source": []
  },
  {
   "cell_type": "code",
   "execution_count": 37,
   "metadata": {},
   "outputs": [],
   "source": [
    "## PsiEmbed Way\n",
    "\n",
    "# J_emb, K_emb =EMBEDDED_full_system_scf.get_jk(dm=density_emb) \n",
    "\n",
    "# # note this uses the STANDARD H_core\n",
    "# e_act_emb = matrix_dot(density_emb, h_core + 0.5 * J_emb - 0.25 * K_emb)\n",
    "# e_act_emb"
   ]
  },
  {
   "cell_type": "code",
   "execution_count": 38,
   "metadata": {},
   "outputs": [
    {
     "data": {
      "text/plain": [
       "-26.42526763365894"
      ]
     },
     "execution_count": 38,
     "metadata": {},
     "output_type": "execute_result"
    }
   ],
   "source": [
    "## MY way\n",
    "\n",
    "e_act_emb = full_system_scf.energy_elec(dm=density_emb,\n",
    "                                        vhf= full_system_scf.get_veff(dm=density_emb),\n",
    "                                       h1e = h_core)[0]\n",
    "e_act_emb"
   ]
  },
  {
   "cell_type": "code",
   "execution_count": null,
   "metadata": {},
   "outputs": [],
   "source": []
  },
  {
   "cell_type": "code",
   "execution_count": 39,
   "metadata": {},
   "outputs": [
    {
     "data": {
      "text/plain": [
       "-75.4521607623566"
      ]
     },
     "execution_count": 39,
     "metadata": {},
     "output_type": "execute_result"
    }
   ],
   "source": [
    "e_mf_emb = e_act_emb + E_env + two_e_cross + full_system_scf.energy_nuc() + dm_correction\n",
    "e_mf_emb # <-- energy from embedded DFT calc"
   ]
  },
  {
   "cell_type": "code",
   "execution_count": 40,
   "metadata": {},
   "outputs": [
    {
     "data": {
      "text/plain": [
       "-75.45216076573016"
      ]
     },
     "execution_count": 40,
     "metadata": {},
     "output_type": "execute_result"
    }
   ],
   "source": [
    "full_system_scf.e_tot # <-- energy from normal DFT calc"
   ]
  },
  {
   "cell_type": "code",
   "execution_count": 41,
   "metadata": {},
   "outputs": [
    {
     "data": {
      "text/plain": [
       "True"
      ]
     },
     "execution_count": 41,
     "metadata": {},
     "output_type": "execute_result"
    }
   ],
   "source": [
    "np.isclose(e_mf_emb, full_system_scf.e_tot)"
   ]
  },
  {
   "cell_type": "code",
   "execution_count": null,
   "metadata": {},
   "outputs": [],
   "source": []
  },
  {
   "cell_type": "code",
   "execution_count": null,
   "metadata": {},
   "outputs": [],
   "source": []
  },
  {
   "cell_type": "markdown",
   "metadata": {},
   "source": [
    "# 6. High level DFT calc!"
   ]
  },
  {
   "cell_type": "code",
   "execution_count": 42,
   "metadata": {},
   "outputs": [],
   "source": [
    "full_system_mol_HIGH_LEVEL_DFT = gto.Mole(atom= geometry,\n",
    "                      basis=basis,\n",
    "                       charge=0,\n",
    "                       #spin=0,\n",
    "                      )\n",
    "\n",
    "full_system_mol_HIGH_LEVEL_DFT.nelectron = 2*n_act_mos\n",
    "full_system_mol_HIGH_LEVEL_DFT.build()\n",
    "\n",
    "full_system_scf_HIGH_LEVEL = scf.RKS(full_system_mol_HIGH_LEVEL_DFT)\n",
    "full_system_scf_HIGH_LEVEL.verbose=1\n",
    "full_system_scf_HIGH_LEVEL.max_memory= 8_000\n",
    "full_system_scf_HIGH_LEVEL.conv_tol = 1e-6\n",
    "full_system_scf_HIGH_LEVEL.xc = high_level_xc_functional # <-- BETTER functional!\n",
    "\n",
    "\n",
    "# full_system_scf_HIGH_LEVEL.kernel() < --- do NOT RUN THIS"
   ]
  },
  {
   "cell_type": "code",
   "execution_count": 43,
   "metadata": {},
   "outputs": [
    {
     "data": {
      "text/plain": [
       "(-26.529413942127505, 4.032907195833214)"
      ]
     },
     "execution_count": 43,
     "metadata": {},
     "output_type": "execute_result"
    }
   ],
   "source": [
    "# run energy calc using high level functional (note density matrix is embedded A)\n",
    "\n",
    "e_act_emb_HIGH_LVL = full_system_scf_HIGH_LEVEL.energy_elec(dm=density_emb)\n",
    "e_act_emb_HIGH_LVL "
   ]
  },
  {
   "cell_type": "code",
   "execution_count": 44,
   "metadata": {},
   "outputs": [
    {
     "data": {
      "text/plain": [
       "-75.55630707082517"
      ]
     },
     "execution_count": 44,
     "metadata": {},
     "output_type": "execute_result"
    }
   ],
   "source": [
    "E_high_lvl_DFT = e_act_emb_HIGH_LVL[0] + E_env + two_e_cross + full_system_scf.energy_nuc() + dm_correction\n",
    "E_high_lvl_DFT # <-- energy from embedded DFT calc"
   ]
  },
  {
   "cell_type": "code",
   "execution_count": null,
   "metadata": {},
   "outputs": [],
   "source": []
  },
  {
   "cell_type": "code",
   "execution_count": 45,
   "metadata": {},
   "outputs": [
    {
     "name": "stdout",
     "output_type": "stream",
     "text": [
      "High level DFT in DFT error: 0.17521512113111726\n",
      "LOW level DFT in DFT error: 0.2793614295996889\n"
     ]
    }
   ],
   "source": [
    "print('High level DFT in DFT error:', np.abs(E_high_lvl_DFT-my_fci.e_tot))\n",
    "print('LOW level DFT in DFT error:', np.abs(e_mf_emb-my_fci.e_tot))"
   ]
  },
  {
   "cell_type": "code",
   "execution_count": null,
   "metadata": {},
   "outputs": [],
   "source": []
  },
  {
   "cell_type": "code",
   "execution_count": null,
   "metadata": {},
   "outputs": [],
   "source": []
  },
  {
   "cell_type": "markdown",
   "metadata": {},
   "source": [
    "# 7. High level WF calc (classical run) !"
   ]
  },
  {
   "cell_type": "code",
   "execution_count": 46,
   "metadata": {},
   "outputs": [],
   "source": [
    "full_system_mol_EMBEDDED_HF = gto.Mole(atom= geometry,\n",
    "                      basis=basis,\n",
    "                       charge=0,\n",
    "                       #spin=0,\n",
    "                      )\n",
    "full_system_mol_EMBEDDED_HF.build()\n",
    "\n",
    "# RE-DEFINE number of electrons in system\n",
    "full_system_mol_EMBEDDED_HF.nelectron = 2*n_act_mos\n",
    "\n",
    "EMBEDDED_full_system_scf_HF = scf.RHF(full_system_mol_EMBEDDED) # <---- Hartree Fock Calc!\n",
    "EMBEDDED_full_system_scf_HF.verbose=1\n",
    "EMBEDDED_full_system_scf_HF.max_memory= 8_000\n",
    "EMBEDDED_full_system_scf_HF.conv_tol = 1e-6\n",
    "\n",
    "h_core = EMBEDDED_full_system_scf_HF.get_hcore()\n",
    "\n",
    "# overwrite h_core to include embedding term!!!!\n",
    "EMBEDDED_full_system_scf_HF.get_hcore = lambda *args: v_emb + h_core\n",
    "\n",
    "# EMBEDDED_full_system_scf_HF.kernel()\n",
    "\n",
    "# print(EMBEDDED_full_system_scf_HF.energy_elec()[0])\n",
    "# print(EMBEDDED_full_system_scf_HF.energy_tot())\n",
    "\n",
    "# # manual (should reproduce top result!)\n",
    "# h1e = EMBEDDED_full_system_scf_HF.get_hcore()\n",
    "# s1e = EMBEDDED_full_system_scf_HF.get_ovlp()\n",
    "# vhf = EMBEDDED_full_system_scf_HF.get_veff()\n",
    "# dm = EMBEDDED_full_system_scf_HF.make_rdm1()\n",
    "# fock = EMBEDDED_full_system_scf_HF.get_fock(h1e, s1e, vhf, dm)  # = h1e + vhf, no DIIS\n",
    "\n",
    "# mo_energy, mo_coeff = EMBEDDED_full_system_scf_HF.eig(fock, s1e)\n",
    "# mo_occ = EMBEDDED_full_system_scf_HF.get_occ(mo_energy, mo_coeff)\n",
    "\n",
    "# print(EMBEDDED_full_system_scf_HF.energy_elec()[0])\n",
    "# print(EMBEDDED_full_system_scf_HF.energy_tot())"
   ]
  },
  {
   "cell_type": "code",
   "execution_count": 47,
   "metadata": {},
   "outputs": [
    {
     "data": {
      "text/plain": [
       "True"
      ]
     },
     "execution_count": 47,
     "metadata": {},
     "output_type": "execute_result"
    }
   ],
   "source": [
    "EMBEDDED_full_system_scf_HF.conv_check"
   ]
  },
  {
   "cell_type": "code",
   "execution_count": 48,
   "metadata": {},
   "outputs": [
    {
     "name": "stdout",
     "output_type": "stream",
     "text": [
      "-8.106313378607268\n",
      "1.0219703496756694\n",
      "\n",
      "-8.106313378607268\n",
      "1.0219703496756694\n"
     ]
    }
   ],
   "source": [
    "# overwrite orbs with RKS embedded orbs!\n",
    "EMBEDDED_full_system_scf_HF.mo_coeff = EMBEDDED_full_system_scf.mo_coeff \n",
    "EMBEDDED_full_system_scf_HF.mo_occ = EMBEDDED_full_system_scf.mo_occ \n",
    "EMBEDDED_full_system_scf_HF.mo_energy = EMBEDDED_full_system_scf.mo_energy\n",
    "\n",
    "print(EMBEDDED_full_system_scf_HF.energy_elec(dm=density_emb)[0])\n",
    "print(EMBEDDED_full_system_scf_HF.energy_tot(dm=density_emb))\n",
    "print()\n",
    "print(EMBEDDED_full_system_scf_HF.energy_elec()[0])\n",
    "print(EMBEDDED_full_system_scf_HF.energy_tot())"
   ]
  },
  {
   "cell_type": "code",
   "execution_count": 49,
   "metadata": {},
   "outputs": [
    {
     "data": {
      "text/plain": [
       "array([0, 2, 3])"
      ]
     },
     "execution_count": 49,
     "metadata": {},
     "output_type": "execute_result"
    }
   ],
   "source": [
    "enviro_MO_inds"
   ]
  },
  {
   "cell_type": "code",
   "execution_count": 50,
   "metadata": {},
   "outputs": [
    {
     "data": {
      "text/plain": [
       "[4, 5, 6]"
      ]
     },
     "execution_count": 50,
     "metadata": {},
     "output_type": "execute_result"
    }
   ],
   "source": [
    "[i for i in range(EMBEDDED_full_system_scf_HF.mol.nao - n_env_mos,\n",
    "                                           EMBEDDED_full_system_scf_HF.mol.nao)\n",
    "                         ]"
   ]
  },
  {
   "cell_type": "code",
   "execution_count": 104,
   "metadata": {},
   "outputs": [
    {
     "name": "stdout",
     "output_type": "stream",
     "text": [
      "E(CCSD) = 0.9909147756329545  E_corr = -0.03105557404271489\n",
      "\n",
      "CC hartree fock energy matches HF embedded calc: True!\n"
     ]
    },
    {
     "data": {
      "text/plain": [
       "1.0219703496756694"
      ]
     },
     "execution_count": 104,
     "metadata": {},
     "output_type": "execute_result"
    }
   ],
   "source": [
    "embedded_cc_obj = cc.CCSD(EMBEDDED_full_system_scf_HF)\n",
    "\n",
    "# embedded_cc_obj.frozen = [i for i in range(EMBEDDED_full_system_scf_HF.mol.nao - n_env_mos,\n",
    "#                                            EMBEDDED_full_system_scf_HF.mol.nao)\n",
    "#                          ]\n",
    "\n",
    "embedded_cc_obj.frozen = enviro_MO_inds # as projected out (or pushed to high energy!)!\n",
    "\n",
    "\n",
    "# embedded_cc_obj.nocc = EMBEDDED_full_system_scf_HF.mol.nelectron // 2\n",
    "# embedded_cc_obj.nmo = EMBEDDED_full_system_scf_HF.mo_energy.size\n",
    "# # NEED to redefine embedded h_core again!\n",
    "# embedded_cc_obj._scf.get_hcore = lambda *args: v_emb + h_core\n",
    "\n",
    "e_cc, t1, t2 = embedded_cc_obj.kernel()\n",
    "\n",
    "CC_flag_check = np.isclose(EMBEDDED_full_system_scf_HF.energy_tot(dm=density_emb),\n",
    "                          embedded_cc_obj.e_hf)\n",
    "\n",
    "print(f'\\nCC hartree fock energy matches HF embedded calc: {CC_flag_check}!')\n",
    "embedded_cc_obj.e_hf"
   ]
  },
  {
   "cell_type": "code",
   "execution_count": 105,
   "metadata": {},
   "outputs": [
    {
     "name": "stdout",
     "output_type": "stream",
     "text": [
      "None\n",
      "[ True  True  True  True  True  True  True]\n"
     ]
    }
   ],
   "source": [
    "print(embedded_cc_obj.frozen)\n",
    "print(embedded_cc_obj.get_frozen_mask())"
   ]
  },
  {
   "cell_type": "code",
   "execution_count": 107,
   "metadata": {},
   "outputs": [],
   "source": [
    "# embedded_cc_obj.make_rdm1(ao_repr=False)"
   ]
  },
  {
   "cell_type": "code",
   "execution_count": null,
   "metadata": {},
   "outputs": [],
   "source": []
  },
  {
   "cell_type": "code",
   "execution_count": 52,
   "metadata": {},
   "outputs": [],
   "source": [
    "# # check CC electron number makes sense!\n",
    "# rdm1 = embedded_cc_obj.make_rdm1()\n",
    "# np.isclose(np.trace(rdm), EMBEDDED_full_system_scf_HF.mol.nelectron)"
   ]
  },
  {
   "cell_type": "code",
   "execution_count": 53,
   "metadata": {},
   "outputs": [],
   "source": [
    "# fci_embed = fci.FCI(EMBEDDED_full_system_scf_HF)\n",
    "# # fci_embed.frozen = enviro_MO_inds\n",
    "# fci_embed.run()\n",
    "# print('E(UHF-FCI) = %.12f' % fci_embed.e_tot)"
   ]
  },
  {
   "cell_type": "code",
   "execution_count": null,
   "metadata": {},
   "outputs": [],
   "source": []
  },
  {
   "cell_type": "code",
   "execution_count": 54,
   "metadata": {},
   "outputs": [
    {
     "data": {
      "text/plain": [
       "-75.34884354202372"
      ]
     },
     "execution_count": 54,
     "metadata": {},
     "output_type": "execute_result"
    }
   ],
   "source": [
    "WF_correction  = np.einsum('ij, ij', v_emb, dm_active) # note different definition\n",
    "\n",
    "E_WF = embedded_cc_obj.e_hf +e_cc  + E_env + two_e_cross - WF_correction\n",
    "E_WF "
   ]
  },
  {
   "cell_type": "code",
   "execution_count": 55,
   "metadata": {},
   "outputs": [
    {
     "name": "stdout",
     "output_type": "stream",
     "text": [
      "High level DFT in DFT error: 0.17521512113111726\n",
      "LOW level DFT in DFT error: 0.2793614295996889\n",
      "WF in DFT error: 0.38267864993257206\n"
     ]
    }
   ],
   "source": [
    "print('High level DFT in DFT error:', np.abs(E_high_lvl_DFT-my_fci.e_tot))\n",
    "print('LOW level DFT in DFT error:', np.abs(e_mf_emb-my_fci.e_tot))\n",
    "\n",
    "\n",
    "print('WF in DFT error:', np.abs(E_WF-my_fci.e_tot))"
   ]
  },
  {
   "cell_type": "code",
   "execution_count": null,
   "metadata": {},
   "outputs": [],
   "source": []
  },
  {
   "cell_type": "code",
   "execution_count": null,
   "metadata": {},
   "outputs": [],
   "source": []
  },
  {
   "cell_type": "code",
   "execution_count": null,
   "metadata": {},
   "outputs": [],
   "source": []
  },
  {
   "cell_type": "markdown",
   "metadata": {},
   "source": [
    "# QC work"
   ]
  },
  {
   "cell_type": "markdown",
   "metadata": {},
   "source": [
    "$$H_{fermionic} = h_{nuc} + \\sum_{p, q} h_{pq} a_{p}^{\\dagger} a_{q} + \\frac{1}{2} \\sum_{p, q ,r ,s} h_{pqrs} a_{p}^{\\dagger} a_{q}^{\\dagger} a_{r} a_{s}$$\n",
    "\n",
    "where:\n",
    "\n",
    "- $$h_{pq} = \\int d{\\vec{x}} \\phi_{p}^{*}({\\vec{x}}) \\bigg( - \\frac{\\nabla^{2}_{{\\vec{r}}}}{2} - \\sum_{I} \\frac{Z_{I}}{|{\\vec{r}} - {\\vec{R}_{I}} |} \\bigg) \\phi_{q}({\\vec{x}})$$\n",
    "\n",
    "\n",
    "- $$h_{pqrs} = \\int d{\\vec{x}}_{1} d{\\vec{x}}_{2} \\frac{\\phi_{p}^{*}({\\vec{x}}_{1}) \\phi_{q}^{*}({\\vec{x}}_{2}) \\phi_{s}({\\vec{x}}_{1}) \\phi_{r}({\\vec{x}}_{2})}{|{\\vec{r}_{1}} - {\\vec{r}}_{2}|}$$ \n",
    "\n",
    "\n",
    "- $$h_{nuc} = \\frac{1}{2} \\sum_{I \\neq J} \\frac{Z_{I} Z_{J}}{| {\\vec{R}}_{I} - {\\vec{R}}_{J}|}$$"
   ]
  },
  {
   "cell_type": "code",
   "execution_count": null,
   "metadata": {},
   "outputs": [],
   "source": []
  },
  {
   "cell_type": "code",
   "execution_count": 56,
   "metadata": {},
   "outputs": [
    {
     "data": {
      "text/plain": [
       "array([2, 3, 4, 5, 6])"
      ]
     },
     "execution_count": 56,
     "metadata": {},
     "output_type": "execute_result"
    }
   ],
   "source": [
    "# current_inds = np.hstack((active_MO_inds, enviro_MO_inds))\n",
    "virtual_inds = np.where(EMBEDDED_full_system_scf.mo_occ==0)[0]\n",
    "virtual_inds"
   ]
  },
  {
   "cell_type": "code",
   "execution_count": null,
   "metadata": {},
   "outputs": [],
   "source": []
  },
  {
   "cell_type": "code",
   "execution_count": null,
   "metadata": {},
   "outputs": [],
   "source": []
  },
  {
   "cell_type": "code",
   "execution_count": 57,
   "metadata": {},
   "outputs": [
    {
     "name": "stdout",
     "output_type": "stream",
     "text": [
      "\n",
      "overlap: [0.65880066 0.03550248 0.13655585 0.64517299 1.06423127]\n",
      "threshold for active part: 0.4 \n",
      "\n"
     ]
    },
    {
     "data": {
      "text/plain": [
       "array([2, 5, 6])"
      ]
     },
     "execution_count": 57,
     "metadata": {},
     "output_type": "execute_result"
    }
   ],
   "source": [
    "# find virtual inds based on active region!\n",
    "MO_VIRTUAL_AO_overlap = (S_mat@EMBEDDED_full_system_scf.mo_coeff)[:,virtual_inds]  #  < ϕ_AO_i | ψ_MO_j >\n",
    "MO_VIRTUAL_AO_overlap_sum = np.einsum('ij->j', np.take(MO_VIRTUAL_AO_overlap, ao_active_inds, axis=0)) # sum over rows of active AOs of MOs!\n",
    "\n",
    "print('\\noverlap:', MO_VIRTUAL_AO_overlap_sum)\n",
    "print(f'threshold for active part: {THRESHOLD} \\n')\n",
    "MO_inds = np.where(MO_VIRTUAL_AO_overlap_sum>THRESHOLD)[0]\n",
    "MO_inds = virtual_inds[MO_inds]\n",
    "MO_inds\n"
   ]
  },
  {
   "cell_type": "code",
   "execution_count": 58,
   "metadata": {},
   "outputs": [
    {
     "data": {
      "text/plain": [
       "array([2., 2., 0., 0., 0., 0., 0.])"
      ]
     },
     "execution_count": 58,
     "metadata": {},
     "output_type": "execute_result"
    }
   ],
   "source": [
    "EMBEDDED_full_system_scf.mo_occ"
   ]
  },
  {
   "cell_type": "code",
   "execution_count": null,
   "metadata": {},
   "outputs": [],
   "source": []
  },
  {
   "cell_type": "code",
   "execution_count": 96,
   "metadata": {},
   "outputs": [
    {
     "data": {
      "text/plain": [
       "(7, 7)"
      ]
     },
     "execution_count": 96,
     "metadata": {},
     "output_type": "execute_result"
    }
   ],
   "source": [
    "#2D array for one-body Hamiltonian (H_core) in the MO representation\n",
    "\n",
    "H_core_EMBEDDED =  EMBEDDED_full_system_scf_HF.get_hcore()\n",
    "\n",
    "# # ## occupied full C matrix\n",
    "# canonical_orbitals_EMBEDDED  = EMBEDDED_full_system_scf.mo_coeff[:,EMBEDDED_full_system_scf.mo_occ>0]\n",
    "\n",
    "# # ## full C matrix (inc. virtual orbs)\n",
    "canonical_orbitals_EMBEDDED  = EMBEDDED_full_system_scf.mo_coeff\n",
    "\n",
    "# # ## zero out\n",
    "# canonical_orbitals_EMBEDDED  = EMBEDDED_full_system_scf.mo_coeff\n",
    "# canonical_orbitals_EMBEDDED[:,enviro_MO_inds] = np.zeros((canonical_orbitals_EMBEDDED.shape[0], len(enviro_MO_inds)))\n",
    "\n",
    "## active MOs only (occupied)\n",
    "# canonical_orbitals_EMBEDDED  = EMBEDDED_full_system_scf.mo_coeff[:, active_MO_inds]\n",
    "\n",
    "# # take everything BAR environment indices\n",
    "# inds_active_occ_and_ALL_virt = np.array([i for i in range(EMBEDDED_full_system_scf.mo_coeff.shape[1]) if i not in enviro_MO_inds])\n",
    "# canonical_orbitals_EMBEDDED  = EMBEDDED_full_system_scf.mo_coeff[:, inds_active_occ_and_ALL_virt]\n",
    "\n",
    "# take thresholded virtual indices (based on overlap with active system!)\n",
    "# canonical_orbitals_EMBEDDED  = EMBEDDED_full_system_scf.mo_coeff[:, np.hstack((active_MO_inds, MO_inds))]\n",
    "\n",
    "one_body_integrals = canonical_orbitals_EMBEDDED.conj().T @ H_core_EMBEDDED @ canonical_orbitals_EMBEDDED\n",
    "one_body_integrals.shape"
   ]
  },
  {
   "cell_type": "code",
   "execution_count": 60,
   "metadata": {},
   "outputs": [],
   "source": [
    "# canonical_orbitals_EMBEDDED  = EMBEDDED_full_system_scf.mo_coeff\n",
    "# canonical_orbitals_EMBEDDED[:, enviro_MO_inds] = np.zeros((canonical_orbitals_EMBEDDED.shape[0], len(enviro_MO_inds)))"
   ]
  },
  {
   "cell_type": "code",
   "execution_count": null,
   "metadata": {},
   "outputs": [],
   "source": []
  },
  {
   "cell_type": "code",
   "execution_count": 61,
   "metadata": {},
   "outputs": [
    {
     "data": {
      "text/plain": [
       "(7, 7, 7, 7)"
      ]
     },
     "execution_count": 61,
     "metadata": {},
     "output_type": "execute_result"
    }
   ],
   "source": [
    "# A 4-dimension array for electron repulsion integrals in the MO\n",
    "# representation.  The integrals are computed as\n",
    "# h[p,q,r,s]=\\int \\phi_p(x)* \\phi_q(y)* V_{elec-elec} \\phi_r(y) \\phi_s(x) dxdy\n",
    "from pyscf import ao2mo\n",
    "\n",
    "eri = ao2mo.kernel(EMBEDDED_full_system_scf_HF.mol, canonical_orbitals_EMBEDDED)\n",
    "n_orbitals = canonical_orbitals_EMBEDDED.shape[1]\n",
    "eri = ao2mo.restore(1, # no permutation symmetry\n",
    "                      eri, \n",
    "                    n_orbitals)\n",
    "\n",
    "\n",
    "two_body_integrals=eri\n",
    "# two_body_integrals = np.asarray(eri.transpose(0, 2, 3, 1), order='C') # change to physists ordering\n",
    "two_body_integrals.shape"
   ]
  },
  {
   "cell_type": "code",
   "execution_count": 62,
   "metadata": {},
   "outputs": [
    {
     "data": {
      "text/plain": [
       "True"
      ]
     },
     "execution_count": 62,
     "metadata": {},
     "output_type": "execute_result"
    }
   ],
   "source": [
    "eri_ao = EMBEDDED_full_system_scf_HF.mol.intor('int2e')\n",
    "\n",
    "tmp = np.einsum('pi,pqrs->iqrs', canonical_orbitals_EMBEDDED, eri_ao, optimize=True)\n",
    "tmp = np.einsum('qa,iqrs->iars', canonical_orbitals_EMBEDDED, tmp, optimize=True)\n",
    "tmp = np.einsum('iars,rj->iajs', tmp, canonical_orbitals_EMBEDDED, optimize=True)\n",
    "ERI_mo_basis = np.einsum('iajs,sb->iajb', tmp, canonical_orbitals_EMBEDDED, optimize=True)\n",
    "\n",
    "np.allclose(two_body_integrals, ERI_mo_basis)"
   ]
  },
  {
   "cell_type": "code",
   "execution_count": 63,
   "metadata": {},
   "outputs": [
    {
     "name": "stdout",
     "output_type": "stream",
     "text": [
      "[0 2 3]\n"
     ]
    },
    {
     "data": {
      "text/plain": [
       "array([False,  True, False, False,  True,  True,  True])"
      ]
     },
     "execution_count": 63,
     "metadata": {},
     "output_type": "execute_result"
    }
   ],
   "source": [
    "from pyscf.mp.mp2 import get_frozen_mask\n",
    "\n",
    "print(embedded_cc_obj.frozen)\n",
    "get_frozen_mask(embedded_cc_obj)"
   ]
  },
  {
   "cell_type": "code",
   "execution_count": 64,
   "metadata": {},
   "outputs": [],
   "source": [
    "# np.allclose(embedded_cc_obj.ao2mo().oooo, ERI_mo_basis[:3,:3,:3,:3])"
   ]
  },
  {
   "cell_type": "code",
   "execution_count": 65,
   "metadata": {},
   "outputs": [],
   "source": [
    "# embedded_cc_obj.ao2mo().ovvo.shape\n",
    "\n",
    "#  'nocc',\n",
    "#  'oooo',\n",
    "#  'oovv',\n",
    "#  'ovoo',\n",
    "#  'ovov',\n",
    "#  'ovvo',\n",
    "#  'ovvv',\n",
    "#  'vvvv']"
   ]
  },
  {
   "cell_type": "code",
   "execution_count": 66,
   "metadata": {},
   "outputs": [],
   "source": [
    "# inds_active_occ_and_ALL_virt =[]\n",
    "# for i in range(EMBEDDED_full_system_scf.mo_coeff.shape[1]):\n",
    "#     if i not in enviro_MO_inds:\n",
    "#         inds_active_occ_and_ALL_virt.append(2*i)\n",
    "#         inds_active_occ_and_ALL_virt.append((2*i)+1)\n",
    "\n",
    "# active_indices = np.array(inds_active_occ_and_ALL_virt)"
   ]
  },
  {
   "cell_type": "code",
   "execution_count": null,
   "metadata": {},
   "outputs": [],
   "source": []
  },
  {
   "cell_type": "code",
   "execution_count": 67,
   "metadata": {},
   "outputs": [],
   "source": [
    "# # Copy the 2RDM part of the active space.\n",
    "# two_pdm = np.zeros( (two_body_integrals.shape[0],\n",
    "#                         two_body_integrals.shape[1],\n",
    "#                         two_body_integrals.shape[2],\n",
    "#                         two_body_integrals.shape[3]) )\n",
    "\n",
    "# actstart = active_MO_inds[0]\n",
    "# nfrzorb = len(env_orbitals)\n",
    "# actend =  active_MO_inds[-1] #two_body_integrals.shape[0] - nfrzorb\n",
    "# two_pdm[actstart:actend, actstart:actend, actstart:actend, actstart:actend] = two_body_integrals[actstart:actend, actstart:actend, actstart:actend, actstart:actend]\n",
    "\n",
    "# # Interaction between frozen and active space.\n",
    "# for p in range(nfrzorb):\n",
    "#     # p loops over frozen spatial orbitals.\n",
    "#     for r in range(actstart,actend):\n",
    "#         for s in range(actstart,actend):\n",
    "#             two_pdm[p,p,r,s] += 2.0*one_body_integrals[r-nfrzorb,s-nfrzorb]\n",
    "#             two_pdm[r,s,p,p] += 2.0*one_body_integrals[r-nfrzorb,s-nfrzorb]\n",
    "#             two_pdm[p,r,s,p] -= one_body_integrals[r-nfrzorb,s-nfrzorb]\n",
    "#             two_pdm[r,p,p,s] -= one_body_integrals[r-nfrzorb,s-nfrzorb]\n",
    "\n",
    "# # # Add on frozen core contribution, assuming that the core orbitals are\n",
    "# # # doubly occupied.\n",
    "# # for i in range(nfrzorb):\n",
    "# #     for j in range(nfrzorb):\n",
    "# #         two_pdm[i,i,j,j] += 4.0\n",
    "# #         two_pdm[i,j,j,i] += -2.0"
   ]
  },
  {
   "cell_type": "code",
   "execution_count": null,
   "metadata": {},
   "outputs": [],
   "source": []
  },
  {
   "cell_type": "code",
   "execution_count": 68,
   "metadata": {},
   "outputs": [],
   "source": [
    "# inds_active_occ_and_ALL_virt = np.array([i for i in range(EMBEDDED_full_system_scf.mo_coeff.shape[1]) \n",
    "#                                          if i not in enviro_MO_inds])\n",
    "\n",
    "# two_pdm = np.zeros_like(two_body_integrals)\n",
    "\n",
    "# two_pdm[inds_active_occ_and_ALL_virt,\n",
    "#         inds_active_occ_and_ALL_virt,\n",
    "#         inds_active_occ_and_ALL_virt,\n",
    "#         inds_active_occ_and_ALL_virt] = two_body_integrals[inds_active_occ_and_ALL_virt,\n",
    "#                                                             inds_active_occ_and_ALL_virt,\n",
    "#                                                             inds_active_occ_and_ALL_virt,\n",
    "#                                                             inds_active_occ_and_ALL_virt]\n",
    "\n",
    "# # Interaction between frozen and active space.\n",
    "# for p in enviro_MO_inds:\n",
    "#     # p loops over frozen spatial orbitals.\n",
    "#     for r in inds_active_occ_and_ALL_virt:\n",
    "#         for s in inds_active_occ_and_ALL_virt:\n",
    "#             two_pdm[p,p,r,s] += 2.0*one_body_integrals[p,p]\n",
    "#             two_pdm[r,s,p,p] += 2.0*one_body_integrals[p,p]\n",
    "#             two_pdm[p,r,s,p] -= one_body_integrals[p,p]\n",
    "#             two_pdm[r,p,p,s] -= one_body_integrals[p,p]\n",
    "            \n",
    "            \n",
    "# for i in enviro_MO_inds:\n",
    "#     for j in enviro_MO_inds:\n",
    "#         two_pdm[i,i,j,j] += 4.0\n",
    "#         two_pdm[i,j,j,i] += -2.0"
   ]
  },
  {
   "cell_type": "code",
   "execution_count": 69,
   "metadata": {},
   "outputs": [
    {
     "data": {
      "text/plain": [
       "array([0, 2, 3])"
      ]
     },
     "execution_count": 69,
     "metadata": {},
     "output_type": "execute_result"
    }
   ],
   "source": [
    "enviro_MO_inds"
   ]
  },
  {
   "cell_type": "code",
   "execution_count": 70,
   "metadata": {},
   "outputs": [],
   "source": [
    "# two_body_integrals = two_pdm\n",
    "# one_body_integrals= np.einsum('ikjj->ik', two_body_integrals)\n",
    "# # one_body_integrals = one_body_integrals / full_system_mol.nelectron #(numpy.sum(nelec)-1)"
   ]
  },
  {
   "cell_type": "code",
   "execution_count": 71,
   "metadata": {},
   "outputs": [
    {
     "data": {
      "text/plain": [
       "(7, 7, 7, 7)"
      ]
     },
     "execution_count": 71,
     "metadata": {},
     "output_type": "execute_result"
    }
   ],
   "source": [
    "two_body_integrals.shape"
   ]
  },
  {
   "cell_type": "code",
   "execution_count": 72,
   "metadata": {},
   "outputs": [],
   "source": [
    "core_constant = 0.0\n",
    "\n",
    "\n",
    "# # #### code freezes on active space!\n",
    "\n",
    "# # ### take everything BAR environment indices\n",
    "# # inds_active_occ_and_ALL_virt = np.array([i for i in range(EMBEDDED_full_system_scf.mo_coeff.shape[1]) if i not in enviro_MO_inds])\n",
    "# # active_indices =inds_active_occ_and_ALL_virt\n",
    "# # occupied_indices = enviro_MO_inds\n",
    "# # occupied_indices = None\n",
    "\n",
    "# active_indices = np.array([i for i in range(EMBEDDED_full_system_scf.mo_coeff.shape[1])])\n",
    "# occupied_indices=enviro_MO_inds\n",
    "                           \n",
    "# # # # ## take thresholded virtual indices (based on overlap with active system!)\n",
    "# # # # active_indices = np.hstack((active_MO_inds, MO_inds))\n",
    "\n",
    "# # # # active_indices = active_MO_inds\n",
    "\n",
    "# # # occupied_indices = None\n",
    "\n",
    "# occupied_indices = [] if occupied_indices is None else occupied_indices\n",
    "# if (len(active_indices) < 1):\n",
    "#     raise ValueError('Some active indices required for reduction.')\n",
    "\n",
    "# # Determine core constant\n",
    "# core_constant = 0.0\n",
    "# for i in occupied_indices:\n",
    "#     core_constant += 2 * one_body_integrals[i, i]\n",
    "#     for j in occupied_indices:\n",
    "#         core_constant += (2 * two_body_integrals[i, j, j, i] -\n",
    "#                           two_body_integrals[i, j, i, j])\n",
    "\n",
    "# # Modified one electron integrals\n",
    "# one_body_integrals_new = np.copy(one_body_integrals)\n",
    "# for u in active_indices:\n",
    "#     for v in active_indices:\n",
    "#         for i in occupied_indices:\n",
    "#             one_body_integrals_new[u, v] += (\n",
    "#                 2 * two_body_integrals[i, u, v, i] -\n",
    "#                 two_body_integrals[i, u, i, v])\n",
    "\n",
    "# # Restrict integral ranges and change M appropriately\n",
    "\n",
    "# one_body_integrals_new = one_body_integrals_new[np.ix_(active_indices, active_indices)]\n",
    "# two_body_integrals_new = two_body_integrals[np.ix_(active_indices, active_indices, active_indices, active_indices)]\n",
    "# print(one_body_integrals_new.shape)\n",
    "# print(two_body_integrals_new.shape)\n",
    "# print(core_constant)\n",
    "\n",
    "# one_body_integrals = one_body_integrals_new\n",
    "# two_body_integrals = two_body_integrals_new\n"
   ]
  },
  {
   "cell_type": "code",
   "execution_count": null,
   "metadata": {},
   "outputs": [],
   "source": []
  },
  {
   "cell_type": "code",
   "execution_count": 73,
   "metadata": {},
   "outputs": [],
   "source": [
    "n_qubits = 2*one_body_integrals.shape[0]\n",
    "\n",
    "one_body_terms = np.zeros((n_qubits, n_qubits))\n",
    "two_body_terms = np.zeros((n_qubits, n_qubits, n_qubits, n_qubits))\n",
    "\n",
    "for p in range(n_qubits//2):\n",
    "    for q in range(n_qubits//2):\n",
    "\n",
    "        one_body_terms[2*p, 2*q] = one_body_integrals[p,q] # spin UP\n",
    "        one_body_terms[(2*p + 1), (2*q +1)] = one_body_integrals[p,q] # spin DOWN\n",
    "\n",
    "        # continue 2-body terms\n",
    "        for r in range(n_qubits//2):\n",
    "            for s in range(n_qubits//2):\n",
    "\n",
    "                ### SAME spin                \n",
    "                two_body_terms[2*p, 2*q , 2*r, 2*s] = two_body_integrals[p,q,r,s] # up up up up\n",
    "                two_body_terms[(2*p+1), (2*q +1) , (2*r + 1), (2*s +1)] = two_body_integrals[p,q,r,s] # down down down down\n",
    "\n",
    "                ### mixed spin                \n",
    "                two_body_terms[2*p, 2*q , (2*r + 1), (2*s +1)] = two_body_integrals[p,q,r,s] # up up down down\n",
    "                two_body_terms[(2*p+1), (2*q +1) , 2*r, 2*s] = two_body_integrals[p,q,r,s] # down down up up            \n",
    "\n",
    "### remove vanishing terms\n",
    "EQ_Tolerance=1e-8\n",
    "one_body_terms[np.abs(one_body_terms)<EQ_Tolerance]=0\n",
    "two_body_terms[np.abs(two_body_terms)<EQ_Tolerance]=0"
   ]
  },
  {
   "cell_type": "code",
   "execution_count": null,
   "metadata": {},
   "outputs": [],
   "source": []
  },
  {
   "cell_type": "code",
   "execution_count": null,
   "metadata": {},
   "outputs": [],
   "source": []
  },
  {
   "cell_type": "code",
   "execution_count": null,
   "metadata": {},
   "outputs": [],
   "source": []
  },
  {
   "cell_type": "code",
   "execution_count": null,
   "metadata": {},
   "outputs": [],
   "source": []
  },
  {
   "cell_type": "code",
   "execution_count": 74,
   "metadata": {},
   "outputs": [],
   "source": [
    "from openfermion.transforms import jordan_wigner\n",
    "from openfermion.ops import FermionOperator"
   ]
  },
  {
   "cell_type": "code",
   "execution_count": 75,
   "metadata": {},
   "outputs": [],
   "source": [
    "H_fermionic = FermionOperator((),  full_system_scf.energy_nuc() + core_constant)\n",
    "# two_body_terms = two_body_terms.transpose(0,2,3,1) # for physist notation!\n",
    "\n",
    "# one body terms\n",
    "for p in range(one_body_terms.shape[0]):\n",
    "    for q in range(one_body_terms.shape[0]):\n",
    "\n",
    "        H_fermionic += one_body_terms[p,q] * FermionOperator(((p, 1), (q, 0)))\n",
    "\n",
    "        # two body terms\n",
    "        for r in range(two_body_terms.shape[0]):\n",
    "            for s in range(two_body_terms.shape[0]):\n",
    "\n",
    "                ####### physist notation\n",
    "                # (requires:\n",
    "                #           two_body_terms transpose (0,2,3,1) before loop starts!\n",
    "                #)\n",
    "#                 H_fermionic += 0.5*two_body_terms[p,q,r,s] * FermionOperator(((p, 1), (q, 1), (r,0), (s, 0)))\n",
    "\n",
    "                ######## chemist notation\n",
    "                H_fermionic += 0.5*two_body_terms[p,q,r,s] * FermionOperator(((p, 1), (r, 1), (s,0), (q, 0)))"
   ]
  },
  {
   "cell_type": "code",
   "execution_count": 76,
   "metadata": {},
   "outputs": [
    {
     "data": {
      "text/plain": [
       "9703"
      ]
     },
     "execution_count": 76,
     "metadata": {},
     "output_type": "execute_result"
    }
   ],
   "source": [
    "len(list(H_fermionic))"
   ]
  },
  {
   "cell_type": "code",
   "execution_count": 77,
   "metadata": {},
   "outputs": [],
   "source": [
    "from openfermion.linalg import get_sparse_operator\n",
    "H_sparse = get_sparse_operator(H_fermionic)"
   ]
  },
  {
   "cell_type": "code",
   "execution_count": 78,
   "metadata": {},
   "outputs": [
    {
     "data": {
      "text/plain": [
       "array([0.99086505])"
      ]
     },
     "execution_count": 78,
     "metadata": {},
     "output_type": "execute_result"
    }
   ],
   "source": [
    "eigvals_EMBED, eigvecs_EMBED = sp.sparse.linalg.eigsh(H_sparse, which='SA', k=1)\n",
    "eigvals_EMBED"
   ]
  },
  {
   "cell_type": "code",
   "execution_count": 79,
   "metadata": {},
   "outputs": [
    {
     "data": {
      "text/plain": [
       "-75.37457561814762"
      ]
     },
     "execution_count": 79,
     "metadata": {},
     "output_type": "execute_result"
    }
   ],
   "source": [
    "WF_correction  = np.einsum('ij, ij', v_emb, dm_active) # note different definition\n",
    "\n",
    "E_VQE = eigvals_EMBED[0]  + E_env + two_e_cross - WF_correction\n",
    "E_VQE "
   ]
  },
  {
   "cell_type": "code",
   "execution_count": 80,
   "metadata": {},
   "outputs": [
    {
     "name": "stdout",
     "output_type": "stream",
     "text": [
      "expect 4 electrons\n",
      "quantum state has 4 electrons \n",
      "\n",
      "number of electrons correct: True\n"
     ]
    }
   ],
   "source": [
    "N_electrons_expected = 2*n_act_mos\n",
    "N_electrons_Q_state = np.binary_repr(np.where(np.abs(eigvecs_EMBED)>1e-2)[0][0]).count('1') \n",
    "\n",
    "print(f'expect {N_electrons_expected} electrons')\n",
    "print(f'quantum state has {N_electrons_Q_state} electrons \\n')\n",
    "\n",
    "print(f'number of electrons correct: {N_electrons_expected == N_electrons_Q_state}')"
   ]
  },
  {
   "cell_type": "code",
   "execution_count": 81,
   "metadata": {},
   "outputs": [
    {
     "name": "stdout",
     "output_type": "stream",
     "text": [
      "High level DFT in DFT error: 0.17521512113111726\n",
      "LOW level DFT in DFT error: 0.2793614295996889\n",
      "WF in DFT error: 0.38267864993257206\n",
      "VQE error: 0.35694657380867056\n"
     ]
    }
   ],
   "source": [
    "print('High level DFT in DFT error:', np.abs(E_high_lvl_DFT-my_fci.e_tot))\n",
    "print('LOW level DFT in DFT error:', np.abs(e_mf_emb-my_fci.e_tot))\n",
    "\n",
    "\n",
    "print('WF in DFT error:', np.abs(E_WF-my_fci.e_tot))\n",
    "print('VQE error:', np.abs(E_VQE-my_fci.e_tot))"
   ]
  },
  {
   "cell_type": "code",
   "execution_count": null,
   "metadata": {},
   "outputs": [],
   "source": []
  },
  {
   "cell_type": "code",
   "execution_count": 82,
   "metadata": {},
   "outputs": [
    {
     "data": {
      "text/plain": [
       "(16384, 1)"
      ]
     },
     "execution_count": 82,
     "metadata": {},
     "output_type": "execute_result"
    }
   ],
   "source": [
    "from functools import reduce\n",
    "\n",
    "zero_state = np.array([[1],[0]])\n",
    "one_state = np.array([[0],[1]])\n",
    "\n",
    "N = 2*n_act_mos\n",
    "HF_state = reduce(np.kron, [*[one_state for _ in range(N)], *[zero_state for _ in range(N, two_body_terms.shape[0])]]\n",
    "                 ) # | 1 1 0 0 >\n",
    "HF_state.shape\n"
   ]
  },
  {
   "cell_type": "code",
   "execution_count": 83,
   "metadata": {},
   "outputs": [
    {
     "name": "stdout",
     "output_type": "stream",
     "text": [
      "1.021970349675673\n",
      "1.0219703496756694\n"
     ]
    },
    {
     "data": {
      "text/plain": [
       "True"
      ]
     },
     "execution_count": 83,
     "metadata": {},
     "output_type": "execute_result"
    }
   ],
   "source": [
    "E = HF_state.conj().T @ H_sparse @ HF_state\n",
    "\n",
    "print(E[0][0].real)\n",
    "print(EMBEDDED_full_system_scf_HF.energy_tot(dm=density_emb))\n",
    "np.isclose(E[0][0].real, EMBEDDED_full_system_scf_HF.energy_tot(dm=density_emb))"
   ]
  },
  {
   "cell_type": "code",
   "execution_count": 84,
   "metadata": {},
   "outputs": [
    {
     "name": "stdout",
     "output_type": "stream",
     "text": [
      "[   99   108   120   135   228   300   360   408   420   480   531   564\n",
      "   588   600   612   624   660   771   804   840   864  1035  1038  1128\n",
      "  1164  1176  1200  1248  1314  1539  1542  1560  1602  1632  1668  1824\n",
      "  2067  2100  2115  2148  2196  2244  2313  2340  2352  2376  2433  2448\n",
      "  2496  2577  2820  2880  3075  3081  3084  3096  3120  3138  3204  3216\n",
      "  3264  3456  3585  3588  3600  3840  4146  4170  4200  4242  4248  4290\n",
      "  4296  4320  4386  4512  4620  4644  4680  4740  4800  4866  4896  4992\n",
      "  5130  5154  5250  5634  5640  5664  6153  6156  6168  6180  6192  6276\n",
      "  6288  6336  6432  6657  6660  6720  7200  7296  7680  8205  8211  8220\n",
      "  8244  8259  8268  8289  8292  8304  8325  8340  8472  8496  8520  8580\n",
      "  8721  8784  9219  9222  9240  9252  9288  9312  9474  9480  9600  9744\n",
      "  9984 10245 10257 10305 10497 10500 10512 11265 11268 12291 12300 12321\n",
      " 12324 12336 12417 12420 12432 12480 12552 12816 12864 13056 13314 13320\n",
      " 13824 14352 14400]\n"
     ]
    },
    {
     "data": {
      "text/plain": [
       "4"
      ]
     },
     "execution_count": 84,
     "metadata": {},
     "output_type": "execute_result"
    }
   ],
   "source": [
    "where=np.where(np.around(eigvecs_EMBED, 4)>0)[0]\n",
    "print(where)\n",
    "\n",
    "np.binary_repr(where[0]).count('1') "
   ]
  },
  {
   "cell_type": "code",
   "execution_count": 85,
   "metadata": {},
   "outputs": [
    {
     "data": {
      "text/plain": [
       "array([   99,   108,   120,   135,   228,   300,   360,   408,   420,\n",
       "         480,   531,   564,   588,   600,   612,   624,   660,   771,\n",
       "         804,   840,   864,  1035,  1038,  1128,  1164,  1176,  1200,\n",
       "        1248,  1314,  1539,  1542,  1560,  1602,  1632,  1668,  1824,\n",
       "        2067,  2100,  2115,  2148,  2196,  2244,  2313,  2340,  2352,\n",
       "        2376,  2433,  2448,  2496,  2577,  2820,  2880,  3075,  3081,\n",
       "        3084,  3096,  3120,  3138,  3204,  3216,  3264,  3456,  3585,\n",
       "        3588,  3600,  3840,  4146,  4170,  4200,  4242,  4248,  4290,\n",
       "        4296,  4320,  4386,  4512,  4620,  4644,  4680,  4740,  4800,\n",
       "        4866,  4896,  4992,  5130,  5154,  5250,  5634,  5640,  5664,\n",
       "        6153,  6156,  6168,  6180,  6192,  6276,  6288,  6336,  6432,\n",
       "        6657,  6660,  6720,  7200,  7296,  7680,  8205,  8211,  8220,\n",
       "        8244,  8259,  8268,  8289,  8292,  8304,  8325,  8340,  8472,\n",
       "        8496,  8520,  8580,  8721,  8784,  9219,  9222,  9240,  9252,\n",
       "        9288,  9312,  9474,  9480,  9600,  9744,  9984, 10245, 10257,\n",
       "       10305, 10497, 10500, 10512, 11265, 11268, 12291, 12300, 12321,\n",
       "       12324, 12336, 12417, 12420, 12432, 12480, 12552, 12816, 12864,\n",
       "       13056, 13314, 13320, 13824, 14352, 14400])"
      ]
     },
     "execution_count": 85,
     "metadata": {},
     "output_type": "execute_result"
    }
   ],
   "source": [
    "where"
   ]
  }
 ],
 "metadata": {
  "kernelspec": {
   "display_name": "Python 3",
   "language": "python",
   "name": "python3"
  },
  "language_info": {
   "codemirror_mode": {
    "name": "ipython",
    "version": 3
   },
   "file_extension": ".py",
   "mimetype": "text/x-python",
   "name": "python",
   "nbconvert_exporter": "python",
   "pygments_lexer": "ipython3",
   "version": "3.7.6"
  }
 },
 "nbformat": 4,
 "nbformat_minor": 4
}
