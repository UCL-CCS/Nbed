{
 "cells": [
  {
   "cell_type": "code",
   "execution_count": 1,
   "metadata": {},
   "outputs": [],
   "source": [
    "import numpy as np\n",
    "import sys\n",
    "sys.path.append( '../vqe-in-dft' )\n",
    "\n",
    "import vqe_in_dft \n",
    "\n",
    "import scipy as sp\n",
    "from pyscf import gto, dft, lib, mp, cc, scf, tools, ci, fci"
   ]
  },
  {
   "cell_type": "code",
   "execution_count": null,
   "metadata": {},
   "outputs": [],
   "source": []
  },
  {
   "cell_type": "markdown",
   "metadata": {},
   "source": [
    "Basis options:\n",
    "https://pyscf.org/_modules/pyscf/gto/basis.html"
   ]
  },
  {
   "cell_type": "code",
   "execution_count": 10,
   "metadata": {},
   "outputs": [],
   "source": [
    "### methane\n",
    "# https://github.com/nutjunkie/IQmol/blob/master/share/fragments/Molecules/Alkanes/Methane.xyz\n",
    "geometry = [\n",
    "['C', (0.0000, 0.0000, 0.0000)],\n",
    "['H', (0.5288, 0.1610, 0.9359)],\n",
    "['H', (0.2051, 0.8240, -0.6786)],\n",
    "['H', (0.3345, -0.9314, -0.4496)],\n",
    "['H', (-1.0685, -0.0537, 0.1921)]\n",
    "]\n",
    "    \n",
    "### water\n",
    "# geometry = [\n",
    "# ['H', (0.7493682,0.0000000,0.4424329)],\n",
    "# ['O', (0.0000000,0.0000000,-0.1653507)],\n",
    "    \n",
    "# ['H', (-0.7493682,0.0000000,0.4424329)]\n",
    "# ]\n",
    "\n",
    "\n",
    "### ethanol\n",
    "# geometry = [\n",
    "# ['H', (1.2473876659, -0.8998737590, 0.6150681570)],\n",
    "# ['O', (1.2322305822, -0.2731895077, -0.1276123902)],\n",
    "\n",
    "# ['C', (0.0849758188, 0.5590385475, 0.0510545434)],\n",
    "# ['H', (0.1506137362, 1.1200249874, 0.9943015309)],\n",
    "# ['H', (0.1316093068, 1.2841805400, -0.7645223601)],\n",
    "\n",
    "# ['C', (-1.2129704155, -0.2295285634, -0.0097156258)],\n",
    "# ['H', (-2.0801425360, 0.4329727646,0.0722817289)],\n",
    "# ['H', (-1.2655910941, -0.9539857247, 0.8097953440)],\n",
    "# ['H', (-1.2737541560, -0.7748626513, -0.9540587845)],\n",
    "# ]"
   ]
  },
  {
   "cell_type": "code",
   "execution_count": 11,
   "metadata": {},
   "outputs": [],
   "source": [
    "\n",
    "\n",
    "N_active_atoms = 2\n",
    "\n",
    "\n",
    "low_level_scf_method='RKS'\n",
    "high_level_scf_method='CCSD'\n",
    "E_convergence_tol = 1e-6\n",
    "basis = 'STO-3G' #'augccpvdz' # '6-31g' #'STO-3G'\n",
    "unit= 'angstrom'\n",
    "pyscf_print_level=1\n",
    "memory=8000\n",
    "charge=0\n",
    "spin=0\n",
    "\n",
    "low_level_xc_functional = 'lda, vwn' # 'b3lyp'\n",
    "high_level_xc_functional = 'b3lyp'\n",
    "\n",
    "phys_notation = True\n",
    "run_fci= False#True\n",
    "run_cisd= True#True\n",
    "\n"
   ]
  },
  {
   "cell_type": "code",
   "execution_count": 12,
   "metadata": {},
   "outputs": [],
   "source": [
    "### options\n",
    "\n",
    "# Projector\n",
    "projector_method = 'huzinaga'\n",
    "# projector_method = 'mu_shfit'\n",
    "\n",
    "# localization method\n",
    "localization_method = 'PipekMezey'# 'ibo', 'Boys', 'PipekMezey' 'SPADE'\n",
    "THRESHOLD = 0.995"
   ]
  },
  {
   "cell_type": "code",
   "execution_count": 13,
   "metadata": {
    "scrolled": true
   },
   "outputs": [
    {
     "name": "stdout",
     "output_type": "stream",
     "text": [
      "E(RCISD) = -39.80303613703585  E_corr = -0.0762252226044578\n",
      "UCISD total energy =  -39.80303613703585\n"
     ]
    }
   ],
   "source": [
    "drive_obj = vqe_in_dft.embeddeding_SCF_driver(geometry,\n",
    "                 N_active_atoms,\n",
    "                 projector_method,\n",
    "                 cheap_global_SCF_method='RKS', \n",
    "                 cheap_global_DFT_xc= 'lda, vwn',\n",
    "                 expensive_global_DFT_xc = 'b3lyp',\n",
    "                 cheap_WF_method = 'RHF',\n",
    "                 expensive_WF_method = 'CCSD',\n",
    "                 E_convergence_tol = 1e-6,\n",
    "                 basis = basis,\n",
    "                 unit= 'angstrom',\n",
    "                 pyscf_print_level=1,\n",
    "                 memory=8000,\n",
    "                 charge=0,\n",
    "                 spin=0,\n",
    "                 run_fci=run_fci,\n",
    "                 run_cisd=run_cisd,\n",
    "                 mu_value=1e6,\n",
    "                 physists_notation= False)#phys_notation)\n",
    "\n"
   ]
  },
  {
   "cell_type": "code",
   "execution_count": 14,
   "metadata": {
    "scrolled": true
   },
   "outputs": [
    {
     "data": {
      "application/3dmoljs_load.v0": "<div id=\"3dmolviewer_1631545363255908\"  style=\"position: relative; width: 400px; height: 400px\">\n        <p id=\"3dmolwarning_1631545363255908\" style=\"background-color:#ffcccc;color:black\">You appear to be running in JupyterLab (or JavaScript failed to load for some other reason).  You need to install the 3dmol extension: <br>\n        <tt>jupyter labextension install jupyterlab_3dmol</tt></p>\n        </div>\n<script>\n\nvar loadScriptAsync = function(uri){\n  return new Promise((resolve, reject) => {\n    var tag = document.createElement('script');\n    tag.src = uri;\n    tag.async = true;\n    tag.onload = () => {\n      resolve();\n    };\n  var firstScriptTag = document.getElementsByTagName('script')[0];\n  firstScriptTag.parentNode.insertBefore(tag, firstScriptTag);\n});\n};\n\nif(typeof $3Dmolpromise === 'undefined') {\n$3Dmolpromise = null;\n  $3Dmolpromise = loadScriptAsync('https://3dmol.org/build/3Dmol.js');\n}\n\nvar viewer_1631545363255908 = null;\nvar warn = document.getElementById(\"3dmolwarning_1631545363255908\");\nif(warn) {\n    warn.parentNode.removeChild(warn);\n}\n$3Dmolpromise.then(function() {\nviewer_1631545363255908 = $3Dmol.createViewer($(\"#3dmolviewer_1631545363255908\"),{backgroundColor:\"white\"});\nviewer_1631545363255908.zoomTo();\n\tviewer_1631545363255908.addModel(\"5\\n \\nC\\t0.0\\t0.0\\t0.0\\nH\\t0.5288\\t0.161\\t0.9359\\nH\\t0.2051\\t0.824\\t-0.6786\\nH\\t0.3345\\t-0.9314\\t-0.4496\\nH\\t-1.0685\\t-0.0537\\t0.1921\\n\",\"xyz\");\n\tviewer_1631545363255908.setStyle({\"stick\": {}});\n\tviewer_1631545363255908.zoomTo();\nviewer_1631545363255908.render();\n});\n</script>",
      "text/html": [
       "<div id=\"3dmolviewer_1631545363255908\"  style=\"position: relative; width: 400px; height: 400px\">\n",
       "        <p id=\"3dmolwarning_1631545363255908\" style=\"background-color:#ffcccc;color:black\">You appear to be running in JupyterLab (or JavaScript failed to load for some other reason).  You need to install the 3dmol extension: <br>\n",
       "        <tt>jupyter labextension install jupyterlab_3dmol</tt></p>\n",
       "        </div>\n",
       "<script>\n",
       "\n",
       "var loadScriptAsync = function(uri){\n",
       "  return new Promise((resolve, reject) => {\n",
       "    var tag = document.createElement('script');\n",
       "    tag.src = uri;\n",
       "    tag.async = true;\n",
       "    tag.onload = () => {\n",
       "      resolve();\n",
       "    };\n",
       "  var firstScriptTag = document.getElementsByTagName('script')[0];\n",
       "  firstScriptTag.parentNode.insertBefore(tag, firstScriptTag);\n",
       "});\n",
       "};\n",
       "\n",
       "if(typeof $3Dmolpromise === 'undefined') {\n",
       "$3Dmolpromise = null;\n",
       "  $3Dmolpromise = loadScriptAsync('https://3dmol.org/build/3Dmol.js');\n",
       "}\n",
       "\n",
       "var viewer_1631545363255908 = null;\n",
       "var warn = document.getElementById(\"3dmolwarning_1631545363255908\");\n",
       "if(warn) {\n",
       "    warn.parentNode.removeChild(warn);\n",
       "}\n",
       "$3Dmolpromise.then(function() {\n",
       "viewer_1631545363255908 = $3Dmol.createViewer($(\"#3dmolviewer_1631545363255908\"),{backgroundColor:\"white\"});\n",
       "viewer_1631545363255908.zoomTo();\n",
       "\tviewer_1631545363255908.addModel(\"5\\n \\nC\\t0.0\\t0.0\\t0.0\\nH\\t0.5288\\t0.161\\t0.9359\\nH\\t0.2051\\t0.824\\t-0.6786\\nH\\t0.3345\\t-0.9314\\t-0.4496\\nH\\t-1.0685\\t-0.0537\\t0.1921\\n\",\"xyz\");\n",
       "\tviewer_1631545363255908.setStyle({\"stick\": {}});\n",
       "\tviewer_1631545363255908.zoomTo();\n",
       "viewer_1631545363255908.render();\n",
       "});\n",
       "</script>"
      ]
     },
     "metadata": {},
     "output_type": "display_data"
    }
   ],
   "source": [
    "drive_obj.Draw_molecule()"
   ]
  },
  {
   "cell_type": "code",
   "execution_count": 15,
   "metadata": {},
   "outputs": [
    {
     "name": "stdout",
     "output_type": "stream",
     "text": [
      "\n",
      "(active_AO^2)/(all_AO^2): [1.     0.9949 0.9993 0.8768 0.8768]\n",
      "threshold for active part: 0.995 \n",
      "\n",
      "number of active MOs: 2\n",
      "number of enviro MOs: 3 \n",
      "\n",
      "N_active_elec + N_environment_elec = N_total_elec is: True\n",
      "y_active + y_enviro = y_total is: True\n",
      "\n",
      "number of e- in gamma_embedded is correct: True\n",
      "\n",
      "\n",
      "RKS correction: -0.13978662819844082\n",
      "\n",
      "\n",
      "global DFT calculation == seperated calculation: False\n",
      "Cheap DFT energy Calculation: -37.58780931405062\n",
      "\n",
      "\n",
      "Expensive DFT energy Calculation: -37.95862054109419\n",
      "\n",
      "E(CCSD) = -13.25393265444405  E_corr = -0.0187527313116477\n",
      "\n",
      "WF hartree fock energy matches HF embedded calc: True!\n",
      "\n",
      "\n",
      "WF correction: 15.994569441179017\n",
      "Expensive WF (classic) energy Calculation: -37.88005530198332\n",
      "\n",
      "H core is NOT standard H_core\n"
     ]
    },
    {
     "data": {
      "application/vnd.jupyter.widget-view+json": {
       "model_id": "c3f5bf68a7f54eab96c8c8575a070737",
       "version_major": 2,
       "version_minor": 0
      },
      "text/plain": [
       "HBox(children=(FloatProgress(value=0.0, description='Building fermionic H', max=12.0, style=ProgressStyle(desc…"
      ]
     },
     "metadata": {},
     "output_type": "display_data"
    },
    {
     "name": "stdout",
     "output_type": "stream",
     "text": [
      "\n",
      "\n",
      "No terms in Fermionic H : 5257\n",
      "\n",
      "expect 4 electrons\n",
      "quantum state has 5 electrons \n",
      "\n",
      "number of electrons correct: False\n",
      "superposition states: [ 124  188  628  692  841  905  908  944  964 1144 1208 1330 1354 1418\n",
      " 1586 1612 1712 1730 1732 1804 1840 1858 1864 1924 1984 2161 2225 2288\n",
      " 2416 2444 2500 2612 2629 2672 2756 2828 2882 2945 2948 3079 3083 3086\n",
      " 3121 3124 3145 3146 3160 3203 3205 3206 3212 3224 3248 3265 3272 3334\n",
      " 3337 3376 3394 3400 3458 3520 3587 3590 3596 3649 3664 3713 3716 3728\n",
      " 3842 3844 3856 3904]\n"
     ]
    }
   ],
   "source": [
    "E_DFT_low, E_DFT_high, E_Classical, E_QC, H_fermionic = drive_obj.run_experiment(localization_method, \n",
    "                                                                      orbtial_loc_threshold=THRESHOLD,\n",
    "                                                                                jupyter_notebook=True)"
   ]
  },
  {
   "cell_type": "code",
   "execution_count": 18,
   "metadata": {},
   "outputs": [
    {
     "data": {
      "text/plain": [
       "5"
      ]
     },
     "execution_count": 18,
     "metadata": {},
     "output_type": "execute_result"
    }
   ],
   "source": [
    "np.binary_repr(628).count('1')"
   ]
  },
  {
   "cell_type": "code",
   "execution_count": 8,
   "metadata": {},
   "outputs": [],
   "source": [
    "# # Draw active orbitals\n",
    "\n",
    "# list_active_orbitals = vqe_in_dft.Draw_cube_orbital(full_system_scf,\n",
    "#                              xyz_string,\n",
    "#                              drive_obj.C_all_localized, \n",
    "#                              drive_obj.active_MO_inds,\n",
    "#                              width=400, \n",
    "#                              height=400, \n",
    "#                              jupyter_notebook=True)\n",
    "\n",
    "# list_enviro_orbitals = vqe_in_dft.Draw_cube_orbital(full_system_scf,\n",
    "#                              xyz_string,\n",
    "#                              drive_obj.C_all_localized, \n",
    "#                              drive_obj.enviro_MO_inds,\n",
    "#                              width=400, \n",
    "#                              height=400, \n",
    "#                              jupyter_notebook=True)"
   ]
  },
  {
   "cell_type": "code",
   "execution_count": null,
   "metadata": {},
   "outputs": [],
   "source": []
  },
  {
   "cell_type": "code",
   "execution_count": 9,
   "metadata": {},
   "outputs": [
    {
     "name": "stdout",
     "output_type": "stream",
     "text": [
      "LOW level DFT in DFT error: 0.9277134612794811\n",
      "High level DFT in DFT error: 1.1506861829289647\n",
      "WF in DFT error: 1.2068938036247658\n",
      "VQE in DFT error: 1.206840157494966\n"
     ]
    }
   ],
   "source": [
    "if run_fci:\n",
    "    print('LOW level DFT in DFT error:', np.abs(E_DFT_low-drive_obj.FCI_obj.e_tot))\n",
    "    print('High level DFT in DFT error:', np.abs(E_DFT_high-drive_obj.FCI_obj.e_tot))\n",
    "    print('WF in DFT error:', np.abs(E_Classical-drive_obj.FCI_obj.e_tot))\n",
    "    print('VQE in DFT error:', np.abs(E_QC-drive_obj.FCI_obj.e_tot))\n",
    "    \n",
    "if run_cisd:\n",
    "    print('LOW level DFT in DFT error:', np.abs(E_DFT_low-drive_obj.CISD_obj.e_tot))\n",
    "    print('High level DFT in DFT error:', np.abs(E_DFT_high-drive_obj.CISD_obj.e_tot))\n",
    "    print('WF in DFT error:', np.abs(E_Classical-drive_obj.CISD_obj.e_tot))\n",
    "    print('VQE in DFT error:', np.abs(E_QC-drive_obj.CISD_obj.e_tot))\n",
    "    \n"
   ]
  },
  {
   "cell_type": "code",
   "execution_count": null,
   "metadata": {},
   "outputs": [],
   "source": []
  }
 ],
 "metadata": {
  "kernelspec": {
   "display_name": "Python 3",
   "language": "python",
   "name": "python3"
  },
  "language_info": {
   "codemirror_mode": {
    "name": "ipython",
    "version": 3
   },
   "file_extension": ".py",
   "mimetype": "text/x-python",
   "name": "python",
   "nbconvert_exporter": "python",
   "pygments_lexer": "ipython3",
   "version": "3.7.6"
  }
 },
 "nbformat": 4,
 "nbformat_minor": 4
}
