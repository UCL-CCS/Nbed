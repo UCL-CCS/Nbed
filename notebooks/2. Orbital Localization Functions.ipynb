{
 "cells": [
  {
   "cell_type": "code",
   "execution_count": 1,
   "metadata": {},
   "outputs": [],
   "source": [
    "import numpy as np\n",
    "import os\n",
    "import scipy as sp"
   ]
  },
  {
   "cell_type": "markdown",
   "metadata": {},
   "source": [
    "# Background\n",
    "\n",
    "The overlap matrix is:\n",
    "\n",
    "$$S_{\\mu \\nu} =  \\int d\\vec{r}_{1} \\phi_{\\mu}(1)^{*}\\phi_{\\nu}(1)$$\n",
    "\n",
    "- $\\phi_{\\mu}$ are basis functions (defined in basis set)\n",
    "\n",
    "\n",
    "The unknown molecular orbitals $\\psi_{i}$ are expanded as a linear expansion of the $K$ known basis functions $\\{ \\phi_{i} | i=1,2,..., K \\}$:\n",
    "\n",
    "$$ \\psi_{i} =  \\sum_{\\mu=1}^{K} C_{\\mu i} \\phi_{\\mu}$$\n",
    "\n",
    "\n",
    "$C$ is a $K \\times K$ matrix of expansion coefficients $C_{\\mu i}$. The columns of $C$ describe the molecular orbitals!\n",
    "\n",
    "\n",
    "We can find the total number of electrons $N$ in the system by:\n",
    "\n",
    "$$ N =  2 \\sum_{a}^{N/2}\\int d\\vec{r}  \\bigg( \\psi_{a}(\\vec{r})^{*} \\psi_{i}(\\vec{r}) \\bigg) =  2 \\sum_{a}^{N/2} 1$$\n",
    "\n",
    "- integral gives probablity of finding electron $a$ over all space (must be 1)\n",
    "- summing over all electrons will give the total number of electrons"
   ]
  },
  {
   "cell_type": "code",
   "execution_count": null,
   "metadata": {},
   "outputs": [],
   "source": []
  },
  {
   "cell_type": "markdown",
   "metadata": {},
   "source": [
    "The charge density has the following definition:\n",
    "\n",
    "$$\\rho(\\vec{r}) = 2 \\sum_{a}^{N/2} \\bigg( \\psi_{a}(\\vec{r})^{*} \\psi_{i}(\\vec{r}) \\bigg)$$\n",
    "\n",
    "- re-write using definition of $\\psi_{i}=  \\sum_{\\mu=1}^{K} C_{\\mu i} \\phi_{\\mu}$\n",
    "\n",
    "$$\\rho(\\vec{r}) = 2 \\sum_{a}^{N/2} \\Bigg( \\bigg[ \\sum_{\\nu}^{K} C_{\\nu a}^{*} \\phi_{\\nu}(\\vec{r})^{*} \\bigg] \\bigg[ \\sum_{\\mu}^{K} C_{\\mu a}\\phi_{\\mu}(\\vec{r}) \\bigg] \\Bigg)$$\n",
    "\n",
    "- move things around\n",
    "\n",
    "$$\\rho(\\vec{r}) = \\sum_{\\nu}^{K} \\sum_{\\mu}^{K} \\Big( 2 \\sum_{a}^{N/2} C_{\\mu a} C_{\\nu a}^{*} \\Big) \\phi_{\\mu}(\\vec{r}) \\phi_{\\nu}(\\vec{r})^{*} $$\n",
    "\n",
    "- where:\n",
    "\n",
    "$$\\rho(\\vec{r}) = \\sum_{\\mu, \\nu}^{K} P_{\\mu \\nu} \\phi_{\\mu}(\\vec{r}) \\phi_{\\nu}(\\vec{r})^{*} $$\n",
    "\n",
    "\n",
    "- $P_{\\mu \\nu}$ is known as the density matrix and is:\n",
    "\n",
    "$$P_{\\mu \\nu} = 2 \\sum_{a}^{N/2} C_{\\mu a} C_{\\nu a}^{*}$$"
   ]
  },
  {
   "cell_type": "markdown",
   "metadata": {},
   "source": [
    "Therefore we can also find the total number of electrons in the system by:\n",
    "\n",
    "$$ N =  2 \\sum_{a}^{N/2}\\int d\\vec{r}  \\bigg( \\psi_{a}(\\vec{r})^{*} \\psi_{i}(\\vec{r}) \\bigg) =  \\sum_{\\nu}^{K} \\sum_{\\mu}^{K} \\Big( 2 \\sum_{a}^{N/2} C_{\\mu a} C_{\\nu a}^{*} \\Big) \\int d\\vec{r} \\phi_{\\mu}(\\vec{r})  \\phi_{\\nu}(\\vec{r})^{*}$$\n",
    "\n",
    "- This is simply:\n",
    "\n",
    "$$N =  \\sum_{\\nu}^{K} \\sum_{\\mu}^{K} P_{\\mu \\nu} S_{\\nu \\mu}= \\sum_{\\mu}^{K} PS_{\\mu \\mu} = \\mathcal{Tr}(PS)$$"
   ]
  },
  {
   "cell_type": "markdown",
   "metadata": {},
   "source": [
    "- One can interpret $ PS_{\\mu \\mu}$ in the above equation as the number of electrons associated with $ \\phi_{\\mu}$\n",
    "- This is a **Mulliken population analysis**"
   ]
  },
  {
   "cell_type": "code",
   "execution_count": null,
   "metadata": {},
   "outputs": [],
   "source": []
  },
  {
   "cell_type": "markdown",
   "metadata": {},
   "source": [
    "# Orbital Localization"
   ]
  },
  {
   "cell_type": "markdown",
   "metadata": {},
   "source": [
    "- When we perform a SCF calculation, one gets an optimized C matrix\n",
    "    - $C$ is a $K \\times K$ matrix of expansion coefficients $C_{\\mu i}$\n",
    "    - The columns of $C$ describe the molecular orbitals!\n",
    "    - MO i: $ \\psi_{i} =  \\sum_{\\mu=1}^{K} C_{\\mu i} \\phi_{\\mu}$\n",
    "    \n",
    "    \n",
    "- These molecular orbitals are usually **delocalized**\n",
    "    - non-negligible amplitude over the whole system, rather than only around some atom(s) or bond(s)\n",
    "\n",
    "- But we know in QM that a given basis choice is NOT unique\n",
    "\n",
    "\n",
    "- We can therefore perform a unitary rotation on molecular orbitals\n",
    "\n",
    "$$ \\psi_{i} U_{rot} =  \\Big( \\sum_{\\mu=1}^{K} C_{\\mu i} \\phi_{\\mu} \\Big) U_{rot} = \\psi_{i}^{new}$$\n",
    "    \n",
    "    \n",
    "The idea is to use a rotation such that the resulting orbitals $\\psi_{i}^{new}$ are as spatially localized as possible. \n",
    "\n",
    "\n",
    "The Pipek-Mezey (PM) [localization](https://notendur.hi.is/hj/papers/paperPipekmezey8.pdf) **maximizes the population charges on the atoms**:\n",
    "\n",
    "$$ f (U_{rot}) = \\sum_{A}^{N_{atoms}} \\Bigg( Z_{A} -  \\sum_{\\mu \\text{ on atom } A} PS_{\\mu \\mu} \\Bigg)$$"
   ]
  },
  {
   "cell_type": "markdown",
   "metadata": {},
   "source": [
    "### Method 1\n",
    "- Given optimized $C$ coefficient matrix\n",
    "    - which has been rotated to localize orbitals\n",
    "    - (used to build localized density matrix)\n",
    "\n",
    "\n",
    "- **Look through basis functions $\\phi_{\\mu}$ of the ACTIVE atoms**\n",
    "\n",
    "    \n",
    "- check the mulliken charge // mulliken population of the orbital\n",
    "    - if above a certain threshold associate it to active system\n",
    "    - otherwise put in the environment\n",
    " \n",
    "\n",
    "\n",
    "To choose the active and enviroment subsystems we do the following:\n",
    "\n",
    "1. Given a localized molecular orbs (localized C matrix), we take the absolute mag squared of the coefficients of the active part for a given localized orb and divide by the absolute mag squared of all the coefficents of a that orb... THis will give a value of how much the active system contributes to that orb.\n",
    "\n",
    "2. Mathematically, for orbital $j$ \n",
    "    - remember MO orbs given by columns of C matrix\n",
    "    - In equation below C matrix is the LOCALIZED form!\n",
    "\n",
    "\n",
    "$$ \\text{threshold} =  \\frac{\\sum_{\\mu\\in \\text{active AO}}^{K} |C_{\\mu j}|^{2}}{\\sum_{\\mu =1}^{K} |C_{\\mu j}|^{2}}$$"
   ]
  },
  {
   "cell_type": "markdown",
   "metadata": {},
   "source": [
    "## METHOD 2 - SPADE\n",
    "\n",
    "WRITE NOTES TODO"
   ]
  },
  {
   "cell_type": "code",
   "execution_count": null,
   "metadata": {},
   "outputs": [],
   "source": []
  },
  {
   "cell_type": "code",
   "execution_count": null,
   "metadata": {},
   "outputs": [],
   "source": []
  },
  {
   "cell_type": "code",
   "execution_count": null,
   "metadata": {},
   "outputs": [],
   "source": []
  },
  {
   "cell_type": "markdown",
   "metadata": {},
   "source": [
    "# EXAMPLE (with notes)"
   ]
  },
  {
   "cell_type": "code",
   "execution_count": 2,
   "metadata": {},
   "outputs": [],
   "source": [
    "# get xyz file for water\n",
    "notebook_dir = os.getcwd()\n",
    "NBed_dir = os.path.dirname(notebook_dir)\n",
    "Test_dir = os.path.join(NBed_dir, 'tests')\n",
    "mol_dir = os.path.join(Test_dir, 'molecules')\n",
    "\n",
    "water_xyz_path = os.path.join(mol_dir, 'water.xyz')"
   ]
  },
  {
   "cell_type": "code",
   "execution_count": 3,
   "metadata": {},
   "outputs": [
    {
     "name": "stdout",
     "output_type": "stream",
     "text": [
      "3\n",
      "\n",
      "O   0.00000  0.0000000  0.1653507\n",
      "H   0.00000  0.7493682 -0.4424329\n",
      "H   0.00000 -0.7493682 -0.4424329 \n"
     ]
    }
   ],
   "source": [
    "with open(water_xyz_path, 'r') as infile:\n",
    "    water_xyz = infile.read()\n",
    "    \n",
    "print(water_xyz)"
   ]
  },
  {
   "cell_type": "markdown",
   "metadata": {},
   "source": [
    "## run global DFT calc\n",
    "(needed to localize subsystems)"
   ]
  },
  {
   "cell_type": "code",
   "execution_count": 4,
   "metadata": {},
   "outputs": [
    {
     "name": "stderr",
     "output_type": "stream",
     "text": [
      "/home/lex/anaconda3/envs/embed/lib/python3.9/site-packages/pyscf/lib/misc.py:46: H5pyDeprecationWarning: Using default_file_mode other than 'r' is deprecated. Pass the mode to h5py.File() instead.\n",
      "  h5py.get_config().default_file_mode = 'a'\n"
     ]
    },
    {
     "data": {
      "text/plain": [
       "-75.2778848340467"
      ]
     },
     "execution_count": 4,
     "metadata": {},
     "output_type": "execute_result"
    }
   ],
   "source": [
    "### inputs\n",
    "from pyscf import gto, scf\n",
    "\n",
    "xc_functional = 'B3LYP'\n",
    "basis = 'STO-3G'\n",
    "charge=0\n",
    "spin=0\n",
    "full_system_mol = gto.Mole(atom= water_xyz_path,\n",
    "                      basis=basis,\n",
    "                       charge=charge,\n",
    "                       spin=spin,\n",
    "                      )\n",
    "full_system_mol.build()\n",
    "\n",
    "global_rks = scf.RKS(full_system_mol)\n",
    "global_rks.verbose=1\n",
    "global_rks.xc = xc_functional\n",
    "global_rks.conv_tol = 1e-6\n",
    "global_rks.kernel()\n",
    "###"
   ]
  },
  {
   "cell_type": "code",
   "execution_count": 5,
   "metadata": {},
   "outputs": [
    {
     "data": {
      "text/plain": [
       "array([-18.83525318,  -0.93132671,  -0.43263415,  -0.23435814,\n",
       "        -0.14179089,   0.35582625,   0.46190031])"
      ]
     },
     "execution_count": 5,
     "metadata": {},
     "output_type": "execute_result"
    }
   ],
   "source": [
    "global_rks_Fock = global_rks.get_fock()\n",
    "c_global_rks_full = global_rks.mo_coeff\n",
    "global_rks_etot = global_rks.energy_tot()\n",
    "global_rks.mo_energy = np.diag(c_global_rks_full.conj().T @ global_rks_Fock@ c_global_rks_full)\n",
    "global_rks_mo_energies = global_rks.mo_energy \n",
    "global_rks_mo_energies"
   ]
  },
  {
   "cell_type": "code",
   "execution_count": null,
   "metadata": {},
   "outputs": [],
   "source": []
  },
  {
   "cell_type": "markdown",
   "metadata": {},
   "source": [
    "## get localizers"
   ]
  },
  {
   "cell_type": "code",
   "execution_count": 6,
   "metadata": {},
   "outputs": [],
   "source": [
    "from nbed.localizers import (\n",
    "    BOYSLocalizer,\n",
    "    IBOLocalizer,\n",
    "    Localizer,\n",
    "    PMLocalizer,\n",
    "    SPADELocalizer,\n",
    ")"
   ]
  },
  {
   "cell_type": "code",
   "execution_count": 7,
   "metadata": {},
   "outputs": [],
   "source": [
    "n_active_atoms = 2\n",
    "occupied_threshold = 0.95\n",
    "virtual_threshold = 0.95\n",
    "run_virtual_localization = False"
   ]
  },
  {
   "cell_type": "code",
   "execution_count": null,
   "metadata": {},
   "outputs": [],
   "source": []
  },
  {
   "cell_type": "code",
   "execution_count": 8,
   "metadata": {},
   "outputs": [
    {
     "name": "stdout",
     "output_type": "stream",
     "text": [
      " Iterative localization: IB/P4/2x2, 5 iter; Final gradient 6.88e-10\n"
     ]
    }
   ],
   "source": [
    "localized_system_SPADE = IBOLocalizer(global_rks,\n",
    "                                        n_active_atoms,\n",
    "                                        occ_cutoff=occupied_threshold,\n",
    "                                        virt_cutoff=virtual_threshold,\n",
    "                                        run_virtual_localization=run_virtual_localization,\n",
    ")"
   ]
  },
  {
   "cell_type": "code",
   "execution_count": null,
   "metadata": {},
   "outputs": [],
   "source": []
  },
  {
   "cell_type": "code",
   "execution_count": 9,
   "metadata": {},
   "outputs": [],
   "source": [
    "# get localized C_matrix (from running localizer)\n",
    "c_local = localized_system_SPADE.c_loc_occ_and_virt"
   ]
  },
  {
   "cell_type": "code",
   "execution_count": null,
   "metadata": {},
   "outputs": [],
   "source": []
  },
  {
   "cell_type": "markdown",
   "metadata": {},
   "source": [
    "### IMPORTANT orbital localization point!\n",
    "\n",
    "When we performed orbital localization a unitary rotation was used... this left the generated density matrix unchanged. However, the molecular orbitals (C_matrix) will be DIFFERENT!"
   ]
  },
  {
   "cell_type": "code",
   "execution_count": 10,
   "metadata": {},
   "outputs": [
    {
     "name": "stdout",
     "output_type": "stream",
     "text": [
      "want these C_loc and C_opt_std to be different: True\n",
      "want dm_std and dm_loc to be the SAME: True\n"
     ]
    }
   ],
   "source": [
    "c_loc_occ = c_local[:,global_rks.mo_occ>0]\n",
    "c_std_occ = c_global_rks_full[:,global_rks.mo_occ>0]\n",
    "\n",
    "dm_loc = 2* c_loc_occ@ c_loc_occ.conj().T\n",
    "dm_std = 2* c_std_occ@ c_std_occ.conj().T\n",
    "\n",
    "print('want these C_loc and C_opt_std to be different:', not np.allclose(c_loc_occ,\n",
    "                                                                         c_std_occ))\n",
    "print('want dm_std and dm_loc to be the SAME:',np.allclose(dm_std, dm_loc))"
   ]
  },
  {
   "cell_type": "markdown",
   "metadata": {},
   "source": [
    "### IMPORTANT point!\n",
    "\n",
    "The localized C_matrix is like a different basis to how the cannonical Fock matrix is defined\n",
    "\n",
    "We therefore need to also **rotate the Fock matrix** otherwise the orbital energies no longer make any sense (even though the final energy will be the same - due to the same density matrices being generated)!"
   ]
  },
  {
   "cell_type": "code",
   "execution_count": 11,
   "metadata": {},
   "outputs": [
    {
     "name": "stdout",
     "output_type": "stream",
     "text": [
      "want dm_std and dm_loc to be the SAME: True \n",
      "\n",
      "standard orb energies : \n",
      "\n",
      "[-18.83525318  -0.93132671  -0.43263415  -0.23435814  -0.14179089\n",
      "   0.35582625   0.46190031]\n",
      "[-18.83525318  -0.93132671  -0.43263415  -0.23435814  -0.14179089\n",
      "   0.35582625   0.46190031]\n",
      "\n",
      "LOCALIZED orb energies NOT making sense: \n",
      "\n",
      "[-17.16578454  -0.64906638  -0.64906638  -0.39651584  -1.71492993\n",
      "   0.35582625   0.46190031]\n",
      "[-18.83525318  -0.93132671  -0.43263415  -0.23435814  -0.14179089\n",
      "   0.35582625   0.46190031]\n"
     ]
    }
   ],
   "source": [
    "# here we see the localized and standard density matrices are the same!\n",
    "print('want dm_std and dm_loc to be the SAME:',np.allclose(dm_std, dm_loc), '\\n')\n",
    "\n",
    "\n",
    "print('standard orb energies : \\n')\n",
    "print(np.diag(global_rks.mo_coeff.conj().T @ global_rks.get_fock() @ global_rks.mo_coeff))\n",
    "print(global_rks.mo_energy)\n",
    "\n",
    "c_local = localized_system_SPADE.c_loc_occ_and_virt\n",
    "print('\\nLOCALIZED orb energies NOT making sense: \\n')\n",
    "print(np.diag(c_local.conj().T @ global_rks.get_fock() @ c_local))\n",
    "print(global_rks.mo_energy)\n",
    "\n",
    "# NOTE HOW THERE IS A DIFFERENCE WHEN LOCALIZED... To fix this we need to rotate the Fock matrix!"
   ]
  },
  {
   "cell_type": "markdown",
   "metadata": {},
   "source": [
    "### Next steps write Fock matrix in new localized basis"
   ]
  },
  {
   "cell_type": "code",
   "execution_count": null,
   "metadata": {},
   "outputs": [],
   "source": []
  },
  {
   "cell_type": "markdown",
   "metadata": {},
   "source": [
    "## get mapping from cannonical orbs to localized orbs\n",
    "(unitary in orthogonal basis... not unitary if orbs not orthogonal)"
   ]
  },
  {
   "cell_type": "markdown",
   "metadata": {},
   "source": [
    "How to get the operator that changes the basis?\n",
    "\n",
    "1. Put the standard (unlocalized) and localized C matrix into orthogonal basis\n",
    "    - $C_{\\text{std}}^{\\text{ORTHO}} = S^{0.5}C_{\\text{std}}$\n",
    "    - $C_{\\text{loc}}^{\\text{ORTHO}} = S^{0.5}C_{\\text{loc}}$\n",
    "\n",
    "2. Define change of basis\n",
    "    - $U = \\sum_{i \\in occupied} | \\psi_{i}^{\\text{ORTHO, STD}} \\rangle \\langle \\psi_{i}^{\\text{ortho, loc}} | + \\sum_{i \\in virtual} | \\psi_{i}^{\\text{ORTHO, STD}} \\rangle \\langle \\psi_{i}^{\\text{ortho, STD}}| $ \n",
    "    - note this projects occupied standard ortho orbs onto localized orbs\n",
    "    - keeps virtual orbs the same\n",
    "        - if we localize the virtual orbs then we would need to use the same procedure as the occupied orbs (easy to include)"
   ]
  },
  {
   "cell_type": "markdown",
   "metadata": {},
   "source": [
    "Note that $U$ is currently defined using ORTHOGONAL BASIS... we want it in our usual MO basis\n",
    "\n",
    "Remembering that\n",
    "\n",
    "$$C_{\\text{std}}^{\\text{ORTHO}} = S^{0.5}C_{\\text{std}}$$\n",
    "\n",
    "Clearly to get back to standard basis we do:\n",
    "\n",
    "$$C_{\\text{std}} = S^{-0.5} C_{\\text{std}}^{\\text{ORTHO}}$$\n",
    "\n",
    "\n",
    "NOW as \n",
    "\n",
    "\n",
    "$$U C_{\\text{loc}}^{\\text{ORTHO}} =C_{\\text{std}}^{\\text{ORTHO}}$$\n",
    "\n",
    "we can re-write this using our definitions:\n",
    "- $C_{\\text{std}}^{\\text{ORTHO}} = S^{0.5}C_{\\text{std}}$\n",
    "- $C_{\\text{loc}}^{\\text{ORTHO}} = S^{0.5}C_{\\text{loc}}$\n",
    "\n",
    "$$U (S^{0.5}C_{\\text{std}}) = (S^{0.5}C_{\\text{loc}})$$\n",
    "\n",
    "Now we want to get rid of $S^{0.5}$ on RHS so we times on left by $S^{-0.5}$\n",
    "\n",
    "$$ S^{-0.5} U S^{0.5}C_{\\text{std}} = C_{\\text{loc}}$$\n",
    "\n",
    "Therefore the change of basis operator in our non-ortho basis is simply:\n",
    "\n",
    "$$ S^{-0.5} U S^{0.5}C_{\\text{std}} = V$$\n",
    "\n",
    "Where: $ V C_{\\text{std}} = C_{\\text{loc}}$\n"
   ]
  },
  {
   "cell_type": "code",
   "execution_count": 12,
   "metadata": {},
   "outputs": [],
   "source": [
    "localized_system_SPADE._local_basis_transform() \n",
    "matrix_std_to_loc= localized_system_SPADE.basis_trans_std_to_loc # this is the V matrix defined above"
   ]
  },
  {
   "cell_type": "code",
   "execution_count": 13,
   "metadata": {},
   "outputs": [
    {
     "data": {
      "text/plain": [
       "array([[ 1.049, -0.138,  0.024, -0.063,  0.088, -0.062, -0.01 ],\n",
       "       [-0.138,  1.316, -0.079, -0.023,  0.022, -0.113,  0.065],\n",
       "       [ 0.024, -0.079,  0.988,  0.013, -0.014,  0.047,  0.028],\n",
       "       [-0.063, -0.023,  0.013,  1.062, -0.109, -0.013, -0.149],\n",
       "       [ 0.088,  0.022, -0.014, -0.109,  1.052,  0.083,  0.209],\n",
       "       [-0.062, -0.113,  0.047, -0.013,  0.083,  0.764, -0.219],\n",
       "       [-0.01 ,  0.065,  0.028, -0.149,  0.209, -0.219,  1.062]])"
      ]
     },
     "execution_count": 13,
     "metadata": {},
     "output_type": "execute_result"
    }
   ],
   "source": [
    "np.around(matrix_std_to_loc @ matrix_std_to_loc.conj().T, 3)"
   ]
  },
  {
   "cell_type": "code",
   "execution_count": 14,
   "metadata": {
    "scrolled": true
   },
   "outputs": [
    {
     "name": "stdout",
     "output_type": "stream",
     "text": [
      "V @ C_loc = C_std: True\n",
      "\n",
      "C_loc_bra @V_dagger= C_std_bra: True\n"
     ]
    }
   ],
   "source": [
    "# check mapping!\n",
    "print('V @ C_loc = C_std:', np.allclose(matrix_std_to_loc @ c_local,\n",
    "                                        c_global_rks_full))\n",
    "\n",
    "print()\n",
    "print('C_loc_bra @V_dagger= C_std_bra:', np.allclose(c_local.conj().T @ matrix_std_to_loc.conj().T,\n",
    "                                        c_global_rks_full.conj().T))"
   ]
  },
  {
   "cell_type": "markdown",
   "metadata": {},
   "source": [
    "## Next define DFT object in localized basis\n",
    "\n",
    "Overall what we done is the followin:\n",
    "\n",
    "$$FC_{\\text{std}} = S C_{\\text{std}} E$$\n",
    "\n",
    "$$F V^{\\dagger} C_{\\text{loc}} = S V^{\\dagger} C_{\\text{loc}} E$$\n",
    "\n",
    "Left multiply by $V$:\n",
    "\n",
    "$$ VF V^{\\dagger} C_{\\text{loc}} = V S V^{\\dagger} C_{\\text{loc}} E$$\n",
    "\n",
    "$$ F_{new} C_{\\text{loc}} = S C_{\\text{loc}} E$$\n",
    "\n",
    "- $F_{new} = VF V^{\\dagger}$\n",
    "- $S = V S V^{\\dagger} $"
   ]
  },
  {
   "cell_type": "code",
   "execution_count": 15,
   "metadata": {},
   "outputs": [],
   "source": [
    "# re-define DFT object in the localized basis! (requires changes of basis)\n",
    "local_rks = localized_system_SPADE.rks"
   ]
  },
  {
   "cell_type": "code",
   "execution_count": null,
   "metadata": {},
   "outputs": [],
   "source": []
  },
  {
   "cell_type": "code",
   "execution_count": 16,
   "metadata": {},
   "outputs": [
    {
     "data": {
      "text/plain": [
       "True"
      ]
     },
     "execution_count": 16,
     "metadata": {},
     "output_type": "execute_result"
    }
   ],
   "source": [
    "# check Fock matrix local\n",
    "np.allclose(matrix_std_to_loc.conj().T@ global_rks_Fock@ matrix_std_to_loc,\n",
    "            local_rks.get_fock())"
   ]
  },
  {
   "cell_type": "code",
   "execution_count": null,
   "metadata": {},
   "outputs": [],
   "source": []
  },
  {
   "cell_type": "code",
   "execution_count": 17,
   "metadata": {},
   "outputs": [
    {
     "name": "stdout",
     "output_type": "stream",
     "text": [
      "LOCALIZED orb energies WITH Fock in new basis : \n",
      "\n",
      "[-18.83525318  -0.93132671  -0.43263415  -0.23435814  -0.14179089\n",
      "   0.35582625   0.46190031]\n",
      "[-18.83525318  -0.93132671  -0.43263415  -0.23435814  -0.14179089\n",
      "   0.35582625   0.46190031]\n",
      "\n",
      "orbital_e_loc == orbital_e_std:  True\n",
      "\n"
     ]
    }
   ],
   "source": [
    "print('LOCALIZED orb energies WITH Fock in new basis : \\n')\n",
    "F_new_basis = local_rks.get_fock()\n",
    "orb_energies_new_basis = np.diag(c_local.conj().T @ F_new_basis @ c_local)\n",
    "\n",
    "print(orb_energies_new_basis)\n",
    "print(global_rks_mo_energies)\n",
    "print()\n",
    "\n",
    "\n",
    "print('orbital_e_loc == orbital_e_std: ', np.allclose(orb_energies_new_basis,\n",
    "                   global_rks_mo_energies))\n",
    "print()\n",
    "\n",
    "\n",
    "# print('orb energy differences')\n",
    "# print(orb_energies_new_basis-global_rks_mo_energies)\n",
    "# print()\n",
    "\n",
    "# print('norm difference in energies:')\n",
    "# np.linalg.norm(orb_energies_new_basis-global_rks_mo_energies)"
   ]
  },
  {
   "cell_type": "markdown",
   "metadata": {},
   "source": [
    "aka minor numerical differences"
   ]
  },
  {
   "cell_type": "code",
   "execution_count": null,
   "metadata": {},
   "outputs": [],
   "source": []
  },
  {
   "cell_type": "markdown",
   "metadata": {},
   "source": [
    "### important point is DFT energies match "
   ]
  },
  {
   "cell_type": "code",
   "execution_count": 18,
   "metadata": {},
   "outputs": [
    {
     "name": "stdout",
     "output_type": "stream",
     "text": [
      "RKS local energies match original cannonical calc:  True\n"
     ]
    }
   ],
   "source": [
    "print('RKS local energies match original cannonical calc: ', np.isclose(global_rks_etot, \n",
    "                                                                       local_rks.e_tot))"
   ]
  },
  {
   "cell_type": "code",
   "execution_count": null,
   "metadata": {},
   "outputs": [],
   "source": []
  }
 ],
 "metadata": {
  "kernelspec": {
   "display_name": "Python 3 (ipykernel)",
   "language": "python",
   "name": "python3"
  },
  "language_info": {
   "codemirror_mode": {
    "name": "ipython",
    "version": 3
   },
   "file_extension": ".py",
   "mimetype": "text/x-python",
   "name": "python",
   "nbconvert_exporter": "python",
   "pygments_lexer": "ipython3",
   "version": "3.9.7"
  }
 },
 "nbformat": 4,
 "nbformat_minor": 4
}
