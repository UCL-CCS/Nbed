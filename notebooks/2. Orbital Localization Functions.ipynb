{
 "cells": [
  {
   "cell_type": "code",
   "execution_count": null,
   "metadata": {},
   "outputs": [],
   "source": [
    "import numpy as np\n",
    "import os"
   ]
  },
  {
   "cell_type": "markdown",
   "metadata": {},
   "source": [
    "# Background\n",
    "\n",
    "The overlap matrix is:\n",
    "\n",
    "$$S_{\\mu \\nu} =  \\int d\\vec{r}_{1} \\phi_{\\mu}(1)^{*}\\phi_{\\nu}(1)$$\n",
    "\n",
    "- $\\phi_{\\mu}$ are basis functions (defined in basis set)\n",
    "\n",
    "\n",
    "The unknown molecular orbitals $\\psi_{i}$ are expanded as a linear expansion of the $K$ known basis functions $\\{ \\phi_{i} | i=1,2,..., K \\}$:\n",
    "\n",
    "$$ \\psi_{i} =  \\sum_{\\mu=1}^{K} C_{\\mu i} \\phi_{\\mu}$$\n",
    "\n",
    "\n",
    "$C$ is a $K \\times K$ matrix of expansion coefficients $C_{\\mu i}$. The columns of $C$ describe the molecular orbitals!\n",
    "\n",
    "\n",
    "We can find the total number of electrons $N$ in the system by:\n",
    "\n",
    "$$ N =  2 \\sum_{a}^{N/2}\\int d\\vec{r}  \\bigg( \\psi_{a}(\\vec{r})^{*} \\psi_{i}(\\vec{r}) \\bigg) =  2 \\sum_{a}^{N/2} 1$$\n",
    "\n",
    "- integral gives probablity of finding electron $a$ over all space (must be 1)\n",
    "- summing over all electrons will give the total number of electrons"
   ]
  },
  {
   "cell_type": "code",
   "execution_count": null,
   "metadata": {},
   "outputs": [],
   "source": []
  },
  {
   "cell_type": "markdown",
   "metadata": {},
   "source": [
    "The charge density has the following definition:\n",
    "\n",
    "$$\\rho(\\vec{r}) = 2 \\sum_{a}^{N/2} \\bigg( \\psi_{a}(\\vec{r})^{*} \\psi_{i}(\\vec{r}) \\bigg)$$\n",
    "\n",
    "- re-write using definition of $\\psi_{i}=  \\sum_{\\mu=1}^{K} C_{\\mu i} \\phi_{\\mu}$\n",
    "\n",
    "$$\\rho(\\vec{r}) = 2 \\sum_{a}^{N/2} \\Bigg( \\bigg[ \\sum_{\\nu}^{K} C_{\\nu a}^{*} \\phi_{\\nu}(\\vec{r})^{*} \\bigg] \\bigg[ \\sum_{\\mu}^{K} C_{\\mu a}\\phi_{\\mu}(\\vec{r}) \\bigg] \\Bigg)$$\n",
    "\n",
    "- move things around\n",
    "\n",
    "$$\\rho(\\vec{r}) = \\sum_{\\nu}^{K} \\sum_{\\mu}^{K} \\Big( 2 \\sum_{a}^{N/2} C_{\\mu a} C_{\\nu a}^{*} \\Big) \\phi_{\\mu}(\\vec{r}) \\phi_{\\nu}(\\vec{r})^{*} $$\n",
    "\n",
    "- which is \n",
    "\n",
    "$$\\rho(\\vec{r}) = \\sum_{\\mu, \\nu}^{K} P_{\\mu \\nu} \\phi_{\\mu}(\\vec{r}) \\phi_{\\nu}(\\vec{r})^{*} $$\n",
    "\n",
    "\n",
    "- $P_{\\mu \\nu}$ is known as the density matrix and is:\n",
    "\n",
    "$$P_{\\mu \\nu} = 2 \\sum_{a}^{N/2} C_{\\mu a} C_{\\nu a}^{*}$$"
   ]
  },
  {
   "cell_type": "markdown",
   "metadata": {},
   "source": [
    "Therefore we can also find the total number of electrons in the system by:\n",
    "\n",
    "$$ N =  2 \\sum_{a}^{N/2}\\int d\\vec{r}  \\bigg( \\psi_{a}(\\vec{r})^{*} \\psi_{i}(\\vec{r}) \\bigg) =  \\sum_{\\nu}^{K} \\sum_{\\mu}^{K} \\Big( 2 \\sum_{a}^{N/2} C_{\\mu a} C_{\\nu a}^{*} \\Big) \\int d\\vec{r} \\phi_{\\mu}(\\vec{r})  \\phi_{\\nu}(\\vec{r})^{*}$$\n",
    "\n",
    "- This is simply:\n",
    "\n",
    "$$N =  \\sum_{\\nu}^{K} \\sum_{\\mu}^{K} P_{\\mu \\nu} S_{\\nu \\mu}= \\sum_{\\mu}^{K} PS_{\\mu \\mu} = \\mathcal{Tr}(PS)$$"
   ]
  },
  {
   "cell_type": "markdown",
   "metadata": {},
   "source": [
    "- One can interpret $ PS_{\\mu \\mu}$ in the above equation as the number of electrons associated with $ \\phi_{\\mu}$\n",
    "- This is a **Mulliken population analysis**"
   ]
  },
  {
   "cell_type": "code",
   "execution_count": null,
   "metadata": {},
   "outputs": [],
   "source": []
  },
  {
   "cell_type": "markdown",
   "metadata": {},
   "source": [
    "# Orbital Localization"
   ]
  },
  {
   "cell_type": "markdown",
   "metadata": {},
   "source": [
    "- When we perform a SCF calculation, one gets an optimized C matrix\n",
    "    - $C$ is a $K \\times K$ matrix of expansion coefficients $C_{\\mu i}$\n",
    "    - The columns of $C$ describe the molecular orbitals!\n",
    "    - MO i: $ \\psi_{i} =  \\sum_{\\mu=1}^{K} C_{\\mu i} \\phi_{\\mu}$\n",
    "    \n",
    "    \n",
    "- These molecular orbitals are usually **delocalized**\n",
    "    - non-negligible amplitude over the whole system, rather than only around some atom(s) or bond(s)\n",
    "\n",
    "- But we know in QM that a given basis choice is NOT unique\n",
    "\n",
    "\n",
    "- We can therefore perform a unitary rotation on molecular orbitals\n",
    "\n",
    "$$ \\psi_{i} U_{rot} =  \\Big( \\sum_{\\mu=1}^{K} C_{\\mu i} \\phi_{\\mu} \\Big) U_{rot} = \\psi_{i}^{new}$$\n",
    "    \n",
    "    \n",
    "The idea is to use a rotation such that the resulting orbitals $\\psi_{i}^{new}$ are as spatially localized as possible. \n",
    "\n",
    "\n",
    "The Pipek-Mezey (PM) [localization](https://notendur.hi.is/hj/papers/paperPipekmezey8.pdf) **maximizes the population charges on the atoms**:\n",
    "\n",
    "$$ f (U_{rot}) = \\sum_{A}^{N_{atoms}} \\Bigg( Z_{A} -  \\sum_{\\mu \\text{ on atom } A} PS_{\\mu \\mu} \\Bigg)$$"
   ]
  },
  {
   "cell_type": "markdown",
   "metadata": {},
   "source": [
    "### Method 1\n",
    "- Given optimized $C$ coefficient matrix\n",
    "    - which has been rotated to localize orbitals\n",
    "    - (used to build localized density matrix)\n",
    "\n",
    "\n",
    "- **Look through basis functions $\\phi_{\\mu}$ of the ACTIVE atoms**\n",
    "\n",
    "    \n",
    "- check the mulliken charge // mulliken population of the orbital\n",
    "    - if above a certain threshold associate it to active system\n",
    "    - otherwise put in the environment\n",
    " \n",
    "\n",
    "\n",
    "To choose the active and enviroment subsystems we do the following:\n",
    "\n",
    "1. Given a localized molecular orbs (localized C matrix), we take the absolute mag squared of the coefficients of the active part for a given localized orb and divide by the absolute mag squared of all the coefficents of a that orb... THis will give a value of how much the active system contributes to that orb.\n",
    "\n",
    "2. Mathematically, for orbital $j$ \n",
    "    - remember MO orbs given by columns of C matrix\n",
    "    - In equation below C matrix is the LOCALIZED form!\n",
    "\n",
    "\n",
    "$$ \\text{threshold} =  \\frac{\\sum_{\\mu\\in \\text{active AO}}^{K} |C_{\\mu j}|^{2}}{\\sum_{\\mu =1}^{K} |C_{\\mu j}|^{2}}$$"
   ]
  },
  {
   "cell_type": "markdown",
   "metadata": {},
   "source": [
    "## METHOD 2 - SPADE\n",
    "\n",
    "WRITE NOTES TODO"
   ]
  },
  {
   "cell_type": "code",
   "execution_count": null,
   "metadata": {},
   "outputs": [],
   "source": []
  },
  {
   "cell_type": "code",
   "execution_count": null,
   "metadata": {},
   "outputs": [],
   "source": [
    "# get xyz file for water\n",
    "notebook_dir = os.getcwd()\n",
    "NBed_dir = os.path.dirname(notebook_dir)\n",
    "Test_dir = os.path.join(NBed_dir, 'Tests')\n",
    "mol_dir = os.path.join(Test_dir, 'molecules')\n",
    "\n",
    "water_xyz_path = os.path.join(mol_dir, 'water.xyz')"
   ]
  },
  {
   "cell_type": "code",
   "execution_count": null,
   "metadata": {},
   "outputs": [],
   "source": [
    "### inputs\n",
    "from pyscf import gto, scf\n",
    "\n",
    "basis = 'STO-3G'\n",
    "charge=0\n",
    "spin=0\n",
    "full_system_mol = gto.Mole(atom= water_xyz_path,\n",
    "                      basis=basis,\n",
    "                       charge=charge,\n",
    "                       spin=spin,\n",
    "                      )\n",
    "full_system_mol.build()\n",
    "\n",
    "HF_scf = scf.RHF(full_system_mol)\n",
    "HF_scf.verbose=1\n",
    "HF_scf.conv_tol = 1e-6\n",
    "HF_scf.kernel()\n",
    "###"
   ]
  },
  {
   "cell_type": "code",
   "execution_count": null,
   "metadata": {},
   "outputs": [],
   "source": []
  },
  {
   "cell_type": "code",
   "execution_count": null,
   "metadata": {},
   "outputs": [],
   "source": [
    "from nbed.localization import localize_molecular_orbs\n",
    "\n",
    "N_active_atoms=2\n",
    "localization_method = 'ibo' # spade, boys, pipekmezey, ibo\n",
    "\n",
    "(C_active, \n",
    " C_enviro,\n",
    " C_loc_occ_full, \n",
    " dm_active, \n",
    " dm_enviro, \n",
    " active_MO_inds, \n",
    " enviro_MO_inds,\n",
    " C_loc_occ_and_virt, \n",
    " active_virtual_MO_inds, \n",
    " enviro_virtual_MO_inds) = localize_molecular_orbs(HF_scf,\n",
    "                                                 N_active_atoms,\n",
    "                                                 localization_method,\n",
    "                                                 occ_THRESHOLD= 0.95,\n",
    "                                                 virt_THRESHOLD=0.95,\n",
    "                                                 sanity_check=True, \n",
    "                                                 run_virtual_localization= True\n",
    "                                                 )"
   ]
  },
  {
   "cell_type": "code",
   "execution_count": null,
   "metadata": {},
   "outputs": [],
   "source": []
  },
  {
   "cell_type": "code",
   "execution_count": null,
   "metadata": {},
   "outputs": [],
   "source": [
    "dm_loc = 2* C_loc_occ_full@ C_loc_occ_full.conj().T\n",
    "dm_std = 2* HF_scf.mo_coeff[:,HF_scf.mo_occ>0]@ HF_scf.mo_coeff[:,HF_scf.mo_occ>0].conj().T\n",
    "\n",
    "print('want these C_loc and C_opt_std to be different:', not np.allclose(C_loc_occ_full,\n",
    "                                                                         HF_scf.mo_coeff[:,HF_scf.mo_occ>0]))\n",
    "print('want dm_std and dm_loc to be the SAME:',np.allclose(dm_std, dm_loc))"
   ]
  },
  {
   "cell_type": "code",
   "execution_count": null,
   "metadata": {},
   "outputs": [],
   "source": []
  },
  {
   "cell_type": "markdown",
   "metadata": {},
   "source": [
    "# IMPORTANT orbital localization point!\n",
    "\n",
    "When we performed orbital localization a unitary rotation was used... this left the generated density matrix unchanged. However, the molecular orbitals (C_matrix) will be DIFFERENT!\n",
    "\n",
    "We therefore need to also **rotate the Fock matrix** otherwise the orbital energies no longer make any sense (even though the final energy will be the same)!\n"
   ]
  },
  {
   "cell_type": "code",
   "execution_count": null,
   "metadata": {},
   "outputs": [],
   "source": [
    "# here we see the localized and standard density matrices are the same!\n",
    "print('want dm_std and dm_loc to be the SAME:',np.allclose(dm_std, dm_loc), '\\n')\n",
    "\n",
    "\n",
    "print('standard orb energies : \\n')\n",
    "print(np.diag(HF_scf.mo_coeff.conj().T @ HF_scf.get_fock() @ HF_scf.mo_coeff))\n",
    "print(HF_scf.mo_energy)\n",
    "\n",
    "print('\\nLOCALIZED orb energies NOT making sense: \\n')\n",
    "print(np.diag(C_loc_occ_and_virt.conj().T @ HF_scf.get_fock() @ C_loc_occ_and_virt))\n",
    "print(HF_scf.mo_energy)\n",
    "\n",
    "# NOTE HOW THERE IS A DIFFERENCE WHEN LOCALIZED... To fix this we need to rotate the Fock matrix!"
   ]
  },
  {
   "cell_type": "code",
   "execution_count": null,
   "metadata": {},
   "outputs": [],
   "source": []
  },
  {
   "cell_type": "markdown",
   "metadata": {},
   "source": [
    "# Define Fock matrix in new basis"
   ]
  },
  {
   "cell_type": "markdown",
   "metadata": {},
   "source": [
    "How to get the operator that changes the basis?\n",
    "\n",
    "1. Put the standard (unlocalized) and localized C matrix into orthogonal basis\n",
    "    - $C_{\\text{std}}^{\\text{ORTHO}} = S^{0.5}C_{\\text{std}}$\n",
    "    - $C_{\\text{loc}}^{\\text{ORTHO}} = S^{0.5}C_{\\text{loc}}$\n",
    "\n",
    "2. Define change of basis\n",
    "    - $U = \\sum_{i \\in occupied} | \\psi_{i}^{\\text{ORTHO, STD}} \\rangle \\langle \\psi_{i}^{\\text{ortho, loc}} | + \\sum_{i \\in virtual} | \\psi_{i}^{\\text{ORTHO, STD}} \\rangle \\langle \\psi_{i}^{\\text{ortho, STD}}| $ \n",
    "    - note this projects occupied standard ortho orbs onto localized orbs\n",
    "    - keeps virtual orbs the same\n",
    "        - if we localize the virtual orbs then we would need to use the same procedure as the occupied orbs (easy to include)"
   ]
  },
  {
   "cell_type": "markdown",
   "metadata": {},
   "source": [
    "Note that $U$ is currently defined using ORTHOGONAL BASIS... we want it in our usual MO basis\n",
    "\n",
    "Remembering that\n",
    "\n",
    "$$C_{\\text{std}}^{\\text{ORTHO}} = S^{0.5}C_{\\text{std}}$$\n",
    "\n",
    "Clearly to get back to standard basis we do:\n",
    "\n",
    "$$C_{\\text{std}} = S^{-0.5} C_{\\text{std}}^{\\text{ORTHO}}$$\n",
    "\n",
    "\n",
    "NOW as \n",
    "\n",
    "\n",
    "$$U C_{\\text{loc}}^{\\text{ORTHO}} =C_{\\text{std}}^{\\text{ORTHO}}$$\n",
    "\n",
    "we can re-write this using our definitions:\n",
    "- $C_{\\text{std}}^{\\text{ORTHO}} = S^{0.5}C_{\\text{std}}$\n",
    "- $C_{\\text{loc}}^{\\text{ORTHO}} = S^{0.5}C_{\\text{loc}}$\n",
    "\n",
    "$$U (S^{0.5}C_{\\text{std}}) = (S^{0.5}C_{\\text{loc}})$$\n",
    "\n",
    "Now we want to get rid of $S^{0.5}$ on RHS so we times on left by $S^{-0.5}$\n",
    "\n",
    "$$ S^{-0.5} U S^{0.5}C_{\\text{std}} = C_{\\text{loc}}$$\n",
    "\n",
    "Therefore the change of basis operator in our non-ortho basis is simply:\n",
    "\n",
    "$$ S^{-0.5} U S^{0.5}C_{\\text{std}} = V$$\n",
    "\n",
    "Where: $ V C_{\\text{std}} = C_{\\text{loc}}$\n"
   ]
  },
  {
   "cell_type": "markdown",
   "metadata": {},
   "source": [
    "This is what the Get_orb_change_basis_operator function does!"
   ]
  },
  {
   "cell_type": "code",
   "execution_count": null,
   "metadata": {},
   "outputs": [],
   "source": [
    "from localization import orb_change_basis_operator\n",
    "\n",
    "V_change_basis = orb_change_basis_operator(HF_scf,\n",
    "                                           C_loc_occ_and_virt,\n",
    "                                           sanity_check=True)"
   ]
  },
  {
   "cell_type": "code",
   "execution_count": null,
   "metadata": {},
   "outputs": [],
   "source": [
    "print('V @ C_loc = C_std:', np.allclose(V_change_basis @C_loc_occ_and_virt,\n",
    "                                            HF_scf.mo_coeff))"
   ]
  },
  {
   "cell_type": "code",
   "execution_count": null,
   "metadata": {},
   "outputs": [],
   "source": [
    "print('\\nLOCALIZED orb energies WITH Fock change of basis : \\n')\n",
    "print(np.diag(C_loc_occ_and_virt.conj().T @ (V_change_basis.conj().T @ HF_scf.get_fock() @ V_change_basis) @ C_loc_occ_and_virt))\n",
    "print(HF_scf.mo_energy)\n"
   ]
  },
  {
   "cell_type": "code",
   "execution_count": null,
   "metadata": {},
   "outputs": [],
   "source": []
  },
  {
   "cell_type": "code",
   "execution_count": null,
   "metadata": {},
   "outputs": [],
   "source": [
    "# check S = V_dag S V\n",
    "np.allclose(HF_scf.get_ovlp(),\n",
    "            V_change_basis.conj().T @ HF_scf.get_ovlp() @ V_change_basis)"
   ]
  },
  {
   "cell_type": "markdown",
   "metadata": {},
   "source": [
    "Overall what we done is the followin:\n",
    "\n",
    "$$FC_{\\text{std}} = S C_{\\text{std}} E$$\n",
    "\n",
    "$$F V^{\\dagger} C_{\\text{loc}} = S V^{\\dagger} C_{\\text{loc}} E$$\n",
    "\n",
    "Left multiply by $V$:\n",
    "\n",
    "$$ VF V^{\\dagger} C_{\\text{loc}} = V S V^{\\dagger} C_{\\text{loc}} E$$\n",
    "\n",
    "$$ F_{new} C_{\\text{loc}} = S C_{\\text{loc}} E$$\n",
    "\n",
    "- $F_{new} = VF V^{\\dagger}$\n",
    "- $S = V S V^{\\dagger} $"
   ]
  },
  {
   "cell_type": "code",
   "execution_count": null,
   "metadata": {},
   "outputs": [],
   "source": []
  },
  {
   "cell_type": "code",
   "execution_count": null,
   "metadata": {},
   "outputs": [],
   "source": [
    "def Get_new_Hcore(H_core, Unitary_rot):\n",
    "    H_core_rot = Unitary_rot.conj().T @ H_core @Unitary_rot \n",
    "    return H_core_rot\n",
    "\n",
    "\n",
    "def Get_new_Veff_HFock(pyscf_obj, Unitary, dm=None, check_result=False, hermi=1):\n",
    "    \n",
    "    # note this Veff has different definition to RKS DFT!\n",
    "    \n",
    "    if dm is None:\n",
    "        if pyscf_obj.mo_coeff is not None:\n",
    "            density_mat = pyscf_obj.make_rdm1(pyscf_obj.mo_coeff, pyscf_obj.mo_occ)\n",
    "        else:\n",
    "            density_mat = pyscf_obj.init_guess_by_1e()\n",
    "    else:\n",
    "        density_mat = dm\n",
    "    \n",
    "    vj, vk = pyscf_obj.get_jk(dm=density_mat, hermi=hermi)\n",
    "    Veff = vj - vk * .5\n",
    "    \n",
    "#     Veff = pyscf_obj.get_veff(dm=density_mat)\n",
    "    Veff_new = Unitary.conj().T @ Veff @ Unitary\n",
    "\n",
    "    return Veff_new"
   ]
  },
  {
   "cell_type": "code",
   "execution_count": null,
   "metadata": {},
   "outputs": [],
   "source": [
    "### inputs\n",
    "from pyscf import gto, scf\n",
    "\n",
    "\n",
    "HF_scf_LOCALIZED = scf.RHF(full_system_mol)\n",
    "\n",
    "\n",
    "# ############## include change of basis!\n",
    "Hcore_std = HF_scf_LOCALIZED.get_hcore()\n",
    "HF_scf_LOCALIZED.get_hcore = lambda *args: Get_new_Hcore(Hcore_std, \n",
    "                                                     Unitary_rot=V_change_basis)\n",
    "\n",
    "\n",
    "HF_scf_LOCALIZED.get_veff = lambda mol=None, dm=None, dm_last=0, vhf_last=0, hermi=1: Get_new_Veff_HFock(\n",
    "                                                                                    HF_scf_LOCALIZED, \n",
    "                                                                                       V_change_basis,\n",
    "                                                                                        dm=dm,\n",
    "                                                                                        hermi=hermi)\n",
    "####\n",
    "\n",
    "\n",
    "HF_scf_LOCALIZED.mo_coeff = C_loc_occ_and_virt\n",
    "HF_scf_LOCALIZED.mo_occ = HF_scf.mo_occ\n",
    "\n",
    "\n",
    "###\n",
    "HF_scf_LOCALIZED.energy_tot()"
   ]
  },
  {
   "cell_type": "code",
   "execution_count": null,
   "metadata": {},
   "outputs": [],
   "source": [
    "print('HF energies match original cannonical calc: ', np.isclose(HF_scf_LOCALIZED.energy_tot(), \n",
    "                               HF_scf.e_tot))"
   ]
  },
  {
   "cell_type": "code",
   "execution_count": null,
   "metadata": {},
   "outputs": [],
   "source": [
    "F_new_basis = HF_scf_LOCALIZED.get_fock()\n",
    "\n",
    "orb_energies_new_basis = np.diag(C_loc_occ_and_virt.conj().T @ F_new_basis @ C_loc_occ_and_virt)\n",
    "\n",
    "\n",
    "print('do orbital energies match: ', np.allclose(HF_scf.mo_energy,\n",
    "                                                orb_energies_new_basis))\n",
    "\n"
   ]
  }
 ],
 "metadata": {
  "kernelspec": {
   "display_name": "Python 3 (ipykernel)",
   "language": "python",
   "name": "python3"
  },
  "language_info": {
   "codemirror_mode": {
    "name": "ipython",
    "version": 3
   },
   "file_extension": ".py",
   "mimetype": "text/x-python",
   "name": "python",
   "nbconvert_exporter": "python",
   "pygments_lexer": "ipython3",
   "version": "3.9.7"
  }
 },
 "nbformat": 4,
 "nbformat_minor": 4
}
