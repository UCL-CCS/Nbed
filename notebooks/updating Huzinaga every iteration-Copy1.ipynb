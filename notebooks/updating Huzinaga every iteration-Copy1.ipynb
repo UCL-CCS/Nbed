{
 "cells": [
  {
   "cell_type": "code",
   "execution_count": 1,
   "metadata": {},
   "outputs": [],
   "source": [
    "import numpy as np\n",
    "import sys\n",
    "sys.path.append( '../vqe-in-dft' )\n",
    "from tqdm import tqdm\n",
    "\n",
    "import vqe_in_dft \n",
    "\n",
    "import scipy as sp\n",
    "from pyscf import gto, dft, lib, mp, cc, scf, tools, ci, fci, lo, ao2mo"
   ]
  },
  {
   "cell_type": "code",
   "execution_count": null,
   "metadata": {},
   "outputs": [],
   "source": []
  },
  {
   "cell_type": "code",
   "execution_count": 2,
   "metadata": {},
   "outputs": [],
   "source": [
    "geometry = [\n",
    "['H', (0.7493682,0.0000000,0.4424329)],\n",
    "['O', (0.0000000,0.0000000,-0.1653507)],\n",
    "    \n",
    "['H', (-0.7493682,0.0000000,0.4424329)]\n",
    "]\n",
    "\n",
    "# geometry = [\n",
    "# ['C', (0.0000, 0.0000, 0.0000)],\n",
    "# ['H', (0.5288, 0.1610, 0.9359)],\n",
    "# ['H', (0.2051, 0.8240, -0.6786)],\n",
    "# ['H', (0.3345, -0.9314, -0.4496)],\n",
    "# ['H', (-1.0685, -0.0537, 0.1921)]\n",
    "# ]\n",
    "\n",
    "# geometry = [\n",
    "# ['H', (1.2473876659, -0.8998737590, 0.6150681570)],\n",
    "# ['O', (1.2322305822, -0.2731895077, -0.1276123902)],\n",
    "\n",
    "# ['C', (0.0849758188, 0.5590385475, 0.0510545434)],\n",
    "# ['H', (0.1506137362, 1.1200249874, 0.9943015309)],\n",
    "# ['H', (0.1316093068, 1.2841805400, -0.7645223601)],\n",
    "\n",
    "# ['C', (-1.2129704155, -0.2295285634, -0.0097156258)],\n",
    "# ['H', (-2.0801425360, 0.4329727646,0.0722817289)],\n",
    "# ['H', (-1.2655910941, -0.9539857247, 0.8097953440)],\n",
    "# ['H', (-1.2737541560, -0.7748626513, -0.9540587845)],\n",
    "# ]\n",
    "\n",
    "N_active_atoms = 2\n",
    "\n",
    "\n",
    "low_level_scf_method='RKS'\n",
    "high_level_scf_method='CCSD'\n",
    "E_convergence_tol = 1e-6\n",
    "basis = 'STO-3G' #'augccpvdz' # '6-31g' #'STO-3G'\n",
    "unit= 'angstrom'\n",
    "pyscf_print_level=1\n",
    "memory=8000\n",
    "charge=0\n",
    "spin=0\n",
    "run_fci= True#True\n",
    "low_level_xc_functional = 'lda, vwn' # 'b3lyp'\n",
    "high_level_xc_functional = 'b3lyp'\n",
    "\n",
    "phys_notation = True"
   ]
  },
  {
   "cell_type": "code",
   "execution_count": null,
   "metadata": {},
   "outputs": [],
   "source": []
  },
  {
   "cell_type": "markdown",
   "metadata": {},
   "source": [
    "# Build the GLOBAL (full) molecule\n",
    "\n",
    "\n",
    "and run supersystem calculation (cheap method)"
   ]
  },
  {
   "cell_type": "markdown",
   "metadata": {},
   "source": [
    "https://pyscf.org/_modules/pyscf/gto/basis.html"
   ]
  },
  {
   "cell_type": "code",
   "execution_count": 3,
   "metadata": {},
   "outputs": [
    {
     "data": {
      "text/plain": [
       "[['H', (0.7493682, 0.0, 0.4424329)],\n",
       " ['O', (0.0, 0.0, -0.1653507)],\n",
       " ['H', (-0.7493682, 0.0, 0.4424329)]]"
      ]
     },
     "execution_count": 3,
     "metadata": {},
     "output_type": "execute_result"
    }
   ],
   "source": [
    "full_system_mol = gto.Mole(atom= geometry,\n",
    "                      basis=basis,\n",
    "                       charge=charge,\n",
    "                       unit=unit,\n",
    "                       spin=spin,\n",
    "                      )\n",
    "full_system_mol.build()\n",
    "full_system_mol.atom"
   ]
  },
  {
   "cell_type": "code",
   "execution_count": 4,
   "metadata": {},
   "outputs": [
    {
     "name": "stdout",
     "output_type": "stream",
     "text": [
      "E(UHF-FCI) = -75.015352478525\n"
     ]
    }
   ],
   "source": [
    "## FCI comparison\n",
    "HF_scf = scf.RHF(full_system_mol)\n",
    "HF_scf.verbose=1\n",
    "HF_scf.max_memory= memory\n",
    "HF_scf.conv_tol = 1e-6\n",
    "HF_scf.kernel()\n",
    "\n",
    "my_fci = fci.FCI(HF_scf).run()\n",
    "print('E(UHF-FCI) = %.12f' % my_fci.e_tot)\n",
    "\n",
    "# myci = ci.CISD(HF_scf).run() # this is UCISD\n",
    "# print('UCISD total energy = ', myci.e_tot)"
   ]
  },
  {
   "cell_type": "code",
   "execution_count": 5,
   "metadata": {},
   "outputs": [],
   "source": [
    "# HF_scf = scf.RHF(full_system_mol)\n",
    "# HF_scf.verbose= 1\n",
    "# HF_scf.max_memory= memory\n",
    "# HF_scf.conv_tol = 1e-6\n",
    "# HF_scf.kernel()\n",
    "\n",
    "# my_fci = ci.CISD(HF_scf).run()"
   ]
  },
  {
   "cell_type": "code",
   "execution_count": 6,
   "metadata": {},
   "outputs": [
    {
     "data": {
      "application/3dmoljs_load.v0": "<div id=\"3dmolviewer_1634035501091747\"  style=\"position: relative; width: 400px; height: 400px\">\n        <p id=\"3dmolwarning_1634035501091747\" style=\"background-color:#ffcccc;color:black\">You appear to be running in JupyterLab (or JavaScript failed to load for some other reason).  You need to install the 3dmol extension: <br>\n        <tt>jupyter labextension install jupyterlab_3dmol</tt></p>\n        </div>\n<script>\n\nvar loadScriptAsync = function(uri){\n  return new Promise((resolve, reject) => {\n    var tag = document.createElement('script');\n    tag.src = uri;\n    tag.async = true;\n    tag.onload = () => {\n      resolve();\n    };\n  var firstScriptTag = document.getElementsByTagName('script')[0];\n  firstScriptTag.parentNode.insertBefore(tag, firstScriptTag);\n});\n};\n\nif(typeof $3Dmolpromise === 'undefined') {\n$3Dmolpromise = null;\n  $3Dmolpromise = loadScriptAsync('https://3dmol.org/build/3Dmol.js');\n}\n\nvar viewer_1634035501091747 = null;\nvar warn = document.getElementById(\"3dmolwarning_1634035501091747\");\nif(warn) {\n    warn.parentNode.removeChild(warn);\n}\n$3Dmolpromise.then(function() {\nviewer_1634035501091747 = $3Dmol.createViewer($(\"#3dmolviewer_1634035501091747\"),{backgroundColor:\"white\"});\nviewer_1634035501091747.zoomTo();\n\tviewer_1634035501091747.addModel(\"3\\n \\nH\\t0.7493682\\t0.0\\t0.4424329\\nO\\t0.0\\t0.0\\t-0.1653507\\nH\\t-0.7493682\\t0.0\\t0.4424329\\n\",\"xyz\");\n\tviewer_1634035501091747.setStyle({\"stick\": {}});\n\tviewer_1634035501091747.zoomTo();\nviewer_1634035501091747.render();\n});\n</script>",
      "text/html": [
       "<div id=\"3dmolviewer_1634035501091747\"  style=\"position: relative; width: 400px; height: 400px\">\n",
       "        <p id=\"3dmolwarning_1634035501091747\" style=\"background-color:#ffcccc;color:black\">You appear to be running in JupyterLab (or JavaScript failed to load for some other reason).  You need to install the 3dmol extension: <br>\n",
       "        <tt>jupyter labextension install jupyterlab_3dmol</tt></p>\n",
       "        </div>\n",
       "<script>\n",
       "\n",
       "var loadScriptAsync = function(uri){\n",
       "  return new Promise((resolve, reject) => {\n",
       "    var tag = document.createElement('script');\n",
       "    tag.src = uri;\n",
       "    tag.async = true;\n",
       "    tag.onload = () => {\n",
       "      resolve();\n",
       "    };\n",
       "  var firstScriptTag = document.getElementsByTagName('script')[0];\n",
       "  firstScriptTag.parentNode.insertBefore(tag, firstScriptTag);\n",
       "});\n",
       "};\n",
       "\n",
       "if(typeof $3Dmolpromise === 'undefined') {\n",
       "$3Dmolpromise = null;\n",
       "  $3Dmolpromise = loadScriptAsync('https://3dmol.org/build/3Dmol.js');\n",
       "}\n",
       "\n",
       "var viewer_1634035501091747 = null;\n",
       "var warn = document.getElementById(\"3dmolwarning_1634035501091747\");\n",
       "if(warn) {\n",
       "    warn.parentNode.removeChild(warn);\n",
       "}\n",
       "$3Dmolpromise.then(function() {\n",
       "viewer_1634035501091747 = $3Dmol.createViewer($(\"#3dmolviewer_1634035501091747\"),{backgroundColor:\"white\"});\n",
       "viewer_1634035501091747.zoomTo();\n",
       "\tviewer_1634035501091747.addModel(\"3\\n \\nH\\t0.7493682\\t0.0\\t0.4424329\\nO\\t0.0\\t0.0\\t-0.1653507\\nH\\t-0.7493682\\t0.0\\t0.4424329\\n\",\"xyz\");\n",
       "\tviewer_1634035501091747.setStyle({\"stick\": {}});\n",
       "\tviewer_1634035501091747.zoomTo();\n",
       "viewer_1634035501091747.render();\n",
       "});\n",
       "</script>"
      ]
     },
     "metadata": {},
     "output_type": "display_data"
    }
   ],
   "source": [
    "# Draw molecule\n",
    "\n",
    "xyz_string = vqe_in_dft.Get_xyz_string(full_system_mol)\n",
    "vqe_in_dft.Draw_molecule(xyz_string, width=400, height=400, jupyter_notebook=True)"
   ]
  },
  {
   "cell_type": "code",
   "execution_count": 7,
   "metadata": {},
   "outputs": [
    {
     "data": {
      "text/plain": [
       "-74.73474041595246"
      ]
     },
     "execution_count": 7,
     "metadata": {},
     "output_type": "execute_result"
    }
   ],
   "source": [
    "# Run global calculation\n",
    "\n",
    "full_system_scf = scf.RKS(full_system_mol)\n",
    "full_system_scf.verbose= pyscf_print_level\n",
    "full_system_scf.max_memory= memory\n",
    "full_system_scf.conv_tol = 1e-6\n",
    "full_system_scf.xc = low_level_xc_functional\n",
    "full_system_scf.kernel()"
   ]
  },
  {
   "cell_type": "code",
   "execution_count": null,
   "metadata": {},
   "outputs": [],
   "source": []
  },
  {
   "cell_type": "markdown",
   "metadata": {},
   "source": [
    "# Localise orbitals"
   ]
  },
  {
   "cell_type": "markdown",
   "metadata": {},
   "source": [
    "### Background\n",
    "\n",
    "The overlap matrix is:\n",
    "\n",
    "$$S_{\\mu \\nu} =  \\int d\\vec{r}_{1} \\phi_{\\mu}(1)^{*}\\phi_{\\nu}(1)$$\n",
    "\n",
    "- $\\phi_{\\mu}$ are basis functions (defined in basis set)\n",
    "\n",
    "\n",
    "The unknown molecular orbitals $\\psi_{i}$ are expanded as a linear expansion of the $K$ known basis functions:\n",
    "\n",
    "$$ \\psi_{i} =  \\sum_{\\mu=1}^{K} C_{\\mu i} \\psi_{\\mu}$$\n",
    "\n",
    "\n",
    "$C$ is a $K \\times K$ matrix of expansion coefficients $C_{\\mu i}$. The columns of $C$ describe the molecular orbitals!"
   ]
  },
  {
   "cell_type": "markdown",
   "metadata": {},
   "source": [
    "We can find the total number of electrons $N$ in the system by:\n",
    "\n",
    "$$ N =  2 \\sum_{a}^{N/2}\\int d\\vec{r}  \\bigg( \\psi_{a}(\\vec{r})^{*} \\psi_{i}(\\vec{r}) \\bigg) =  2 \\sum_{a}^{N/2} 1$$\n",
    "\n",
    "- integral gives probablity of finding electron $a$ over all space (must be 1)\n",
    "- summing over all electrons will give the total number of electrons"
   ]
  },
  {
   "cell_type": "code",
   "execution_count": null,
   "metadata": {},
   "outputs": [],
   "source": []
  },
  {
   "cell_type": "markdown",
   "metadata": {},
   "source": [
    "The charge density has the following definition:\n",
    "\n",
    "$$\\rho(\\vec{r}) = 2 \\sum_{a}^{N/2} \\bigg( \\psi_{a}(\\vec{r})^{*} \\psi_{i}(\\vec{r}) \\bigg)$$\n",
    "\n",
    "- re-write using definition of $\\psi_{i}=  \\sum_{\\mu=1}^{K} C_{\\mu i} \\phi_{\\mu}$\n",
    "\n",
    "$$\\rho(\\vec{r}) = 2 \\sum_{a}^{N/2} \\Bigg( \\bigg[ \\sum_{\\nu}^{K} C_{\\nu a}^{*} \\phi_{\\nu}(\\vec{r})^{*} \\bigg] \\bigg[ \\sum_{\\mu}^{K} C_{\\mu a}\\phi_{\\mu}(\\vec{r}) \\bigg] \\Bigg)$$\n",
    "\n",
    "- move things around\n",
    "\n",
    "$$\\rho(\\vec{r}) = \\sum_{\\nu}^{K} \\sum_{\\mu}^{K} \\Big( 2 \\sum_{a}^{N/2} C_{\\mu a} C_{\\nu a}^{*} \\Big) \\phi_{\\mu}(\\vec{r}) \\phi_{\\nu}(\\vec{r})^{*} $$\n",
    "\n",
    "- which is \n",
    "\n",
    "$$\\rho(\\vec{r}) = \\sum_{\\mu, \\nu}^{K} P_{\\mu \\nu} \\phi_{\\mu}(\\vec{r}) \\phi_{\\nu}(\\vec{r})^{*} $$\n",
    "\n",
    "\n",
    "- $P_{\\mu \\nu}$ is known as the density matrix and is:\n",
    "\n",
    "$$P_{\\mu \\nu} = 2 \\sum_{a}^{N/2} C_{\\mu a} C_{\\nu a}^{*}$$"
   ]
  },
  {
   "cell_type": "code",
   "execution_count": null,
   "metadata": {},
   "outputs": [],
   "source": []
  },
  {
   "cell_type": "markdown",
   "metadata": {},
   "source": [
    "Therefore we can also find the total number of electrons in the system by:\n",
    "\n",
    "$$ N =  2 \\sum_{a}^{N/2}\\int d\\vec{r}  \\bigg( \\psi_{a}(\\vec{r})^{*} \\psi_{i}(\\vec{r}) \\bigg) =  \\sum_{\\nu}^{K} \\sum_{\\mu}^{K} \\Big( 2 \\sum_{a}^{N/2} C_{\\mu a} C_{\\nu a}^{*} \\Big) \\int d\\vec{r} \\phi_{\\mu}(\\vec{r})  \\phi_{\\nu}(\\vec{r})^{*}$$\n",
    "\n",
    "- This is simply:\n",
    "\n",
    "$$N =  \\sum_{\\nu}^{K} \\sum_{\\mu}^{K} P_{\\mu \\nu} S_{\\nu \\mu}= \\sum_{\\mu}^{K} PS_{\\mu \\mu} = \\mathcal{Tr}(PS)$$"
   ]
  },
  {
   "cell_type": "markdown",
   "metadata": {},
   "source": [
    "- One can interpret $ PS_{\\mu \\mu}$ in the above equation as the number of electrons associated with $ \\phi_{\\mu}$\n",
    "- This is a **Mulliken population analysis**"
   ]
  },
  {
   "cell_type": "markdown",
   "metadata": {},
   "source": [
    "# Orbital Localization!"
   ]
  },
  {
   "cell_type": "markdown",
   "metadata": {},
   "source": [
    "A molecular orbital is usually delocalized, i.e. it has non-negligible amplitude over the whole system rather than only around some atom(s) or bond(s). However, one can choose a unitary rotation "
   ]
  },
  {
   "cell_type": "markdown",
   "metadata": {},
   "source": [
    "- When we perform a SCF calculation, one gets an optimized C matrix\n",
    "    - $C$ is a $K \\times K$ matrix of expansion coefficients $C_{\\mu i}$\n",
    "    - The columns of $C$ describe the molecular orbitals!\n",
    "    - MO i: $ \\psi_{i} =  \\sum_{\\mu=1}^{K} C_{\\mu i} \\psi_{\\mu}$\n",
    "    \n",
    "    \n",
    "- These molecular orbitals are usually **delocalized**\n",
    "    - non-negligible amplitude over the whole system, rather than only around some atom(s) or bond(s)\n",
    "\n",
    "- But we know in QM that a given basis choice is NOT unique\n",
    "\n",
    "\n",
    "- We can therefore perform a unitary rotation on molecular orbitals\n",
    "\n",
    "$$ \\psi_{i} U_{rot} =  \\Big( \\sum_{\\mu=1}^{K} C_{\\mu i} \\psi_{\\mu} \\Big) U_{rot} = \\psi_{i}^{new}$$\n",
    "    \n",
    "    \n",
    "The idea is to use a rotation such that the resulting orbitals $\\psi_{i}^{new}$ are as spatially localized as possible. \n",
    "\n",
    "\n",
    "The Pipek-Mezey (PM) [localization](https://notendur.hi.is/hj/papers/paperPipekmezey8.pdf) **maximizes the population charges on the atoms**:\n",
    "\n",
    "$$ f (U_{rot}) = \\sum_{A}^{N_{atoms}} \\Bigg( Z_{A} -  \\sum_{\\mu \\text{ on atom } A} PS_{\\mu \\mu} \\Bigg)$$"
   ]
  },
  {
   "cell_type": "markdown",
   "metadata": {},
   "source": [
    "# Choose active and environment systems"
   ]
  },
  {
   "cell_type": "markdown",
   "metadata": {},
   "source": [
    "## METHOD 1 "
   ]
  },
  {
   "cell_type": "markdown",
   "metadata": {},
   "source": [
    "- Given optimized $C$ coefficient matrix\n",
    "    - which has been rotated to localize orbitals\n",
    "    - (used to build localized density matrix)\n",
    "\n",
    "\n",
    "- **Look through basis functions $\\phi_{\\mu}$ of the ACTIVE atoms**\n",
    "\n",
    "    \n",
    "- check the mulliken charge // mulliken population of the orbital\n",
    "    - if above a certain threshold associate it to active system\n",
    "    - otherwise put in the environment\n",
    " \n",
    "\n",
    "\n",
    "To choose the active and enviroment subsystems we do the following:\n",
    "\n",
    "1. Given a localized molecular orbs (localized C matrix), we take the absolute mag squared of the coefficients of the active part for a given localized orb and divide by the absolute mag squared of all the coefficents of a that orb... THis will give a value of how much the active system contributes to that orb.\n",
    "\n",
    "2. Mathematically, for orbital $j$ \n",
    "    - remember MO orbs given by columns of C matrix\n",
    "    - In equation below C matrix is the LOCALIZED form!\n",
    "\n",
    "\n",
    "$$ \\text{threshold} =  \\frac{\\sum_{\\mu\\in \\text{active AO}}^{K} |C_{\\mu j}|^{2}}{\\sum_{\\mu =1}^{K} |C_{\\mu j}|^{2}}$$"
   ]
  },
  {
   "cell_type": "markdown",
   "metadata": {},
   "source": [
    "## METHOD 2 - SPADE\n",
    "\n",
    "WRITE NOTES TODO"
   ]
  },
  {
   "cell_type": "code",
   "execution_count": null,
   "metadata": {},
   "outputs": [],
   "source": []
  },
  {
   "cell_type": "code",
   "execution_count": 8,
   "metadata": {},
   "outputs": [],
   "source": [
    "def Localize_orbitals(localization_method, PySCF_scf_obj, N_active_atoms, THRESHOLD=None, sanity_check=True):\n",
    "\n",
    "    if PySCF_scf_obj.mo_coeff is None:\n",
    "        raise ValueError('need to perform SCF calculation before localization')\n",
    "\n",
    "\n",
    "    S_ovlp = PySCF_scf_obj.get_ovlp()\n",
    "    AO_slice_matrix = PySCF_scf_obj.mol.aoslice_by_atom()\n",
    "\n",
    "    occupied_orbs = PySCF_scf_obj.mo_coeff[:,PySCF_scf_obj.mo_occ>0]\n",
    "    # run localization scheme\n",
    "    if localization_method.lower() == 'spade':\n",
    "        \n",
    "\n",
    "        # Get active AO indices\n",
    "        N_active_AO = AO_slice_matrix[N_active_atoms-1][3]  # find max AO index for active atoms (neg 1 as python indexs from 0)\n",
    "\n",
    "        \n",
    "        S_half = sp.linalg.fractional_matrix_power(S_ovlp , 0.5)\n",
    "        orthogonal_orbitals = (S_half@occupied_orbs)[:N_active_AO, :] # Get rows (the active AO) of orthogonal orbs \n",
    "\n",
    "        # Comute singular vals\n",
    "        u, singular_values, rotation_matrix = np.linalg.svd(orthogonal_orbitals, full_matrices=True)\n",
    "\n",
    "        # find where largest step change \n",
    "        delta_s = singular_values[:-1] - singular_values[1:] # σ_i - σ_(i+1)\n",
    "        print('delta_singular_vals:')\n",
    "        print(delta_s, '\\n')\n",
    "\n",
    "        n_act_mos = np.argmax(delta_s)+1 # add one due to python indexing\n",
    "        n_env_mos = len(singular_values) - n_act_mos\n",
    "\n",
    "        # define active and environment orbitals from localization\n",
    "        act_orbitals = occupied_orbs @ rotation_matrix.T[:, :n_act_mos]\n",
    "        env_orbitals = occupied_orbs @ rotation_matrix.T[:, n_act_mos:]\n",
    "\n",
    "        C_matrix_all_localized_orbitals = occupied_orbs @ rotation_matrix.T\n",
    "\n",
    "        active_MO_inds  = np.arange(n_act_mos)\n",
    "        enviro_MO_inds = np.arange(n_act_mos, n_act_mos+n_env_mos)\n",
    "\n",
    "    else:\n",
    "        if not isinstance(THRESHOLD, float):\n",
    "            raise ValueError ('if localization method is not SPADE then a threshold parameter is requried to choose active system')\n",
    "\n",
    "\n",
    "        # run localization scheme\n",
    "        if localization_method.lower() == 'pipekmezey':\n",
    "            ### PipekMezey\n",
    "            PM = lo.PipekMezey(PySCF_scf_obj.mol, occupied_orbs)\n",
    "            PM.pop_method = 'mulliken' # 'meta-lowdin', 'iao', 'becke'\n",
    "            C_loc_occ = PM.kernel() # includes virtual orbs too!\n",
    "\n",
    "        elif localization_method.lower() == 'boys':\n",
    "            ### Boys\n",
    "            boys_SCF = lo.boys.Boys(PySCF_scf_obj.mol, occupied_orbs)\n",
    "            C_loc_occ  = boys_SCF.kernel()\n",
    "\n",
    "        elif localization_method.lower() == 'ibo':\n",
    "            ### intrinsic bonding orbs\n",
    "            #\n",
    "            iaos = lo.iao.iao(PySCF_scf_obj.mol, occupied_orbs)\n",
    "            # Orthogonalize IAO\n",
    "            iaos = lo.vec_lowdin(iaos, S_ovlp)\n",
    "            C_loc_occ = lo.ibo.ibo(PySCF_scf_obj.mol, occupied_orbs, locmethod='IBO', iaos=iaos)#.kernel()\n",
    "\n",
    "            # iaos = lo.iao.iao(PySCF_scf_obj.mol, PySCF_scf_obj.mo_coeff)\n",
    "            # # Orthogonalize IAO\n",
    "            # iaos = lo.vec_lowdin(iaos, S_ovlp)\n",
    "            # C_loc = lo.ibo.ibo(PySCF_scf_obj.mol, PySCF_scf_obj.mo_coeff, locmethod='IBO', iaos=iaos)#.kernel()\n",
    "            # C_loc_occ = C_loc[:,PySCF_scf_obj.mo_occ>0]\n",
    "        else:\n",
    "            raise ValueError(f'unknown localization method {localization_method}')\n",
    "        \n",
    "                        \n",
    "        # find indices of AO of active atoms\n",
    "        ao_active_inds = np.arange(AO_slice_matrix[0,2], AO_slice_matrix[N_active_atoms-1,3])\n",
    "\n",
    "        ### New method\n",
    "        numerator_all = np.einsum('ij->j', (C_loc_occ[ao_active_inds, :])**2) # active AOs coeffs for a given MO j\n",
    "        denominator_all = np.einsum('ij->j', C_loc_occ**2) # all AOs coeffs for a given MO j\n",
    "\n",
    "        MO_active_percentage = numerator_all/denominator_all\n",
    "\n",
    "        print('\\n(active_AO^2)/(all_AO^2):', np.around(MO_active_percentage,4))\n",
    "        print(f'threshold for active part: {THRESHOLD} \\n')\n",
    "\n",
    "        active_MO_inds = np.where(MO_active_percentage>THRESHOLD)[0]\n",
    "        enviro_MO_inds = np.array([i for i in range(C_loc_occ.shape[1]) if i not in active_MO_inds]) # get all non active MOs\n",
    "\n",
    "\n",
    "        # define active MO orbs and environment\n",
    "        act_orbitals = C_loc_occ[:, active_MO_inds] # take MO (columns of C_matrix) that have high dependence from active AOs\n",
    "        env_orbitals = C_loc_occ[:, enviro_MO_inds]\n",
    "        \n",
    "        C_matrix_all_localized_orbitals = C_loc_occ\n",
    "\n",
    "        n_act_mos = len(active_MO_inds)\n",
    "        n_env_mos = len(enviro_MO_inds)\n",
    "\n",
    "    print(f'number of active MOs: {n_act_mos}')\n",
    "    print(f'number of enviro MOs: {n_env_mos} \\n')\n",
    "\n",
    "    return act_orbitals, env_orbitals, C_matrix_all_localized_orbitals, active_MO_inds, enviro_MO_inds # C_active, C_enviro, C_all_localized, active_MO_inds, enviro_MO_inds"
   ]
  },
  {
   "cell_type": "code",
   "execution_count": 9,
   "metadata": {},
   "outputs": [
    {
     "name": "stdout",
     "output_type": "stream",
     "text": [
      "\n",
      "(active_AO^2)/(all_AO^2): [1.     0.8478 0.747  0.9908 1.    ]\n",
      "threshold for active part: 0.95 \n",
      "\n",
      "number of active MOs: 3\n",
      "number of enviro MOs: 2 \n",
      "\n"
     ]
    }
   ],
   "source": [
    "localization_method= 'PipekMezey' # 'ibo', 'Boys', 'PipekMezey' 'SPADE'\n",
    "THRESHOLD = 0.95\n",
    "\n",
    "(C_active, \n",
    " C_envrio, \n",
    " C_all_localized, \n",
    " active_MO_inds,\n",
    " enviro_MO_inds) = Localize_orbitals(localization_method, \n",
    "                                     full_system_scf, \n",
    "                                     N_active_atoms, \n",
    "                                     THRESHOLD=THRESHOLD, \n",
    "                                     sanity_check=True)\n"
   ]
  },
  {
   "cell_type": "code",
   "execution_count": 10,
   "metadata": {},
   "outputs": [
    {
     "name": "stdout",
     "output_type": "stream",
     "text": [
      "want these C_loc and C_opt_std to be different: True\n",
      "want dm_std and dm_loc to be the SAME: True\n"
     ]
    }
   ],
   "source": [
    "dm_loc = 2* C_all_localized@ C_all_localized.conj().T\n",
    "dm_std = 2* full_system_scf.mo_coeff[:,full_system_scf.mo_occ>0]@ full_system_scf.mo_coeff[:,full_system_scf.mo_occ>0].conj().T\n",
    "\n",
    "print('want these C_loc and C_opt_std to be different:', not np.allclose(C_all_localized,\n",
    "                                                                         full_system_scf.mo_coeff[:,full_system_scf.mo_occ>0]))\n",
    "print('want dm_std and dm_loc to be the SAME:',np.allclose(dm_std, dm_loc))"
   ]
  },
  {
   "cell_type": "code",
   "execution_count": null,
   "metadata": {},
   "outputs": [],
   "source": []
  },
  {
   "cell_type": "markdown",
   "metadata": {},
   "source": [
    "Virtual localized orbs!:\n",
    "https://pyscf.org/_modules/pyscf/lo/vvo.html"
   ]
  },
  {
   "cell_type": "code",
   "execution_count": 11,
   "metadata": {},
   "outputs": [],
   "source": [
    "from pyscf.lo import vvo\n",
    "\n",
    "orbocc = full_system_scf.mo_coeff[:,full_system_scf.mo_occ>0]\n",
    "orbvirt = full_system_scf.mo_coeff[:,full_system_scf.mo_occ<2]\n",
    "C_virtual_loc = vvo.vvo(full_system_scf.mol,\n",
    "                    orbocc,\n",
    "                    orbvirt,\n",
    "                    iaos=None, \n",
    "                    s=None,\n",
    "                    verbose=None)\n",
    "\n",
    "C_virtual_loc.shape\n",
    "\n",
    "# could truncate here using active MO again!!!\n",
    "\n",
    "# PUT localized virtual orbs into full C matrix!\n",
    "C_all_localized_and_virt = np.hstack((C_all_localized,\n",
    "                                     C_virtual_loc))"
   ]
  },
  {
   "cell_type": "code",
   "execution_count": 12,
   "metadata": {},
   "outputs": [],
   "source": [
    "# PUT standard virtual orbs into full C matrix (no change from standard HF virutal orbs)!\n",
    "C_all_localized_and_virt = np.hstack((C_all_localized,\n",
    "                                     full_system_scf.mo_coeff[:,full_system_scf.mo_occ<2]))"
   ]
  },
  {
   "cell_type": "code",
   "execution_count": 13,
   "metadata": {},
   "outputs": [
    {
     "data": {
      "text/plain": [
       "6.154243182198179e-16"
      ]
     },
     "execution_count": 13,
     "metadata": {},
     "output_type": "execute_result"
    }
   ],
   "source": [
    "S_half = sp.linalg.fractional_matrix_power(full_system_scf.get_ovlp() , 0.5)\n",
    "test =  S_half@ C_virtual_loc\n",
    "test[:,0].dot(test[:,1])\n"
   ]
  },
  {
   "cell_type": "markdown",
   "metadata": {},
   "source": []
  },
  {
   "cell_type": "markdown",
   "metadata": {},
   "source": [
    "# IMPORTANT orbital localization point!\n",
    "\n",
    "When we performed orbital localization a unitary rotation was used... this left the generated density matrix (C * C) unchanged...\n",
    "\n",
    "HOWEVER we need to also **rotate the Fock matrix** otherwise the orbital energies no longer make any sense (even though the final energy will be the same)!\n"
   ]
  },
  {
   "cell_type": "code",
   "execution_count": 14,
   "metadata": {},
   "outputs": [
    {
     "name": "stdout",
     "output_type": "stream",
     "text": [
      "want dm_std and dm_loc to be the SAME: True \n",
      "\n",
      "standard orb energies : \n",
      "\n",
      "[-18.27447311  -0.83044897  -0.37573098  -0.15754498  -0.0584303\n",
      "   0.31315706   0.41336181]\n",
      "[-18.27449288  -0.8304562   -0.37573596  -0.15755407  -0.05844029\n",
      "   0.31315299   0.41335685]\n",
      "\n",
      "LOCALIZED orb energies : \n",
      "\n",
      "[-17.69057597  -0.59007439  -0.37573098  -0.98181669  -0.0584303\n",
      "   0.31315706   0.41336181]\n",
      "[-18.27449288  -0.8304562   -0.37573596  -0.15755407  -0.05844029\n",
      "   0.31315299   0.41335685]\n"
     ]
    }
   ],
   "source": [
    "# here we see the localized and standard density matrices are the same!\n",
    "print('want dm_std and dm_loc to be the SAME:',np.allclose(dm_std, dm_loc), '\\n')\n",
    "\n",
    "\n",
    "print('standard orb energies : \\n')\n",
    "print(np.diag(full_system_scf.mo_coeff.conj().T @ full_system_scf.get_fock() @ full_system_scf.mo_coeff))\n",
    "print(full_system_scf.mo_energy)\n",
    "\n",
    "print('\\nLOCALIZED orb energies : \\n')\n",
    "print(np.diag(C_all_localized_and_virt.conj().T @ full_system_scf.get_fock() @ C_all_localized_and_virt))\n",
    "print(full_system_scf.mo_energy)\n",
    "\n",
    "# NOTE HOW THERE IS A DIFFERENCE WHEN LOCALIZED... To fix this we need to rotate the Fock matrix!"
   ]
  },
  {
   "cell_type": "code",
   "execution_count": null,
   "metadata": {},
   "outputs": [],
   "source": []
  },
  {
   "cell_type": "markdown",
   "metadata": {},
   "source": [
    "How to get the operator that changes the basis?\n",
    "\n",
    "1. Put the standard (unlocalized) and localized C matrix into orthogonal basis\n",
    "    - $C_{\\text{std}}^{\\text{ORTHO}} = S^{0.5}C_{\\text{std}}$\n",
    "    - $C_{\\text{loc}}^{\\text{ORTHO}} = S^{0.5}C_{\\text{loc}}$\n",
    "\n",
    "2. Define change of basis\n",
    "    - $U = \\sum_{i \\in occupied} | \\psi_{i}^{\\text{ORTHO, STD}} \\rangle \\langle \\psi_{i}^{\\text{ortho, loc}} | + \\sum_{i \\in virtual} | \\psi_{i}^{\\text{ORTHO, STD}} \\rangle \\langle \\psi_{i}^{\\text{ortho, STD}}| $ \n",
    "    - note this projects occupied standard ortho orbs onto localized orbs\n",
    "    - keeps virtual orbs the same\n",
    "        - if we localize the virtual orbs then we would need to use the same procedure as the occupied orbs (easy to include)"
   ]
  },
  {
   "cell_type": "code",
   "execution_count": null,
   "metadata": {},
   "outputs": [],
   "source": []
  },
  {
   "cell_type": "code",
   "execution_count": 15,
   "metadata": {},
   "outputs": [
    {
     "name": "stdout",
     "output_type": "stream",
     "text": [
      "is U*C_ortho_loc =  C_ortho_STD: True\n",
      "is U Udag = Identity: True\n"
     ]
    },
    {
     "data": {
      "text/plain": [
       "True"
      ]
     },
     "execution_count": 15,
     "metadata": {},
     "output_type": "execute_result"
    }
   ],
   "source": [
    "# note can make this much better with einsum!\n",
    "\n",
    "S_mat = full_system_scf.get_ovlp()\n",
    "S_half = sp.linalg.fractional_matrix_power(full_system_scf.get_ovlp() , 0.5)\n",
    "\n",
    "ortho_std = S_half@ full_system_scf.mo_coeff\n",
    "ortho_loc = S_half@ C_all_localized_and_virt\n",
    "\n",
    "# ortho_loc[:,0].dot(ortho_loc[:,2])\n",
    "\n",
    "U = np.zeros((ortho_std.shape[0], ortho_std.shape[0]))\n",
    "for MO_ind in range(ortho_std.shape[1]):\n",
    "    outer = np.outer(ortho_std[:, MO_ind], ortho_loc[:, MO_ind])\n",
    "    U+=outer\n",
    "\n",
    "print(f'is U*C_ortho_loc =  C_ortho_STD: {(np.allclose(U @ ortho_loc, ortho_std))}')\n",
    "print(f'is U Udag = Identity: {np.allclose(U.conj().T@U, np.eye(U.shape[0]))}')\n",
    "        \n",
    "# einsum version!\n",
    "np.allclose(np.einsum('ik,jk->ij', ortho_std,ortho_loc),\n",
    "            U)\n",
    "    \n",
    "    \n",
    "# ind = 0\n",
    "# Fock = full_system_scf.get_fock(dm=dm_std)\n",
    "# print(ortho_loc[:,ind].conj().T @ (U.conj().T @ Fock @ U) @ ortho_loc[:,ind])\n",
    "# print(ortho_std[:,ind].conj().T  @ Fock @ ortho_std[:,ind])"
   ]
  },
  {
   "cell_type": "markdown",
   "metadata": {},
   "source": [
    "Note that $U$ is currently defined using ORTHOGONAL BASIS... we want it in our usual MO basis\n",
    "\n",
    "Remembering that\n",
    "\n",
    "$$C_{\\text{std}}^{\\text{ORTHO}} = S^{0.5}C_{\\text{std}}$$\n",
    "\n",
    "Clearly to get back to standard basis we do:\n",
    "\n",
    "$$C_{\\text{std}} = S^{-0.5} C_{\\text{std}}^{\\text{ORTHO}}$$\n",
    "\n",
    "\n",
    "NOW as \n",
    "\n",
    "\n",
    "$$U C_{\\text{loc}}^{\\text{ORTHO}} =C_{\\text{std}}^{\\text{ORTHO}}$$\n",
    "\n",
    "we can re-write this using our definitions:\n",
    "- $C_{\\text{std}}^{\\text{ORTHO}} = S^{0.5}C_{\\text{std}}$\n",
    "- $C_{\\text{loc}}^{\\text{ORTHO}} = S^{0.5}C_{\\text{loc}}$\n",
    "\n",
    "$$U (S^{0.5}C_{\\text{std}}) = (S^{0.5}C_{\\text{loc}})$$\n",
    "\n",
    "Now we want to get rid of $S^{0.5}$ on RHS so we times on left by $S^{-0.5}$\n",
    "\n",
    "$$ S^{-0.5} U S^{0.5}C_{\\text{std}} = C_{\\text{loc}}$$\n",
    "\n",
    "Therefore the change of basis operator in our non-ortho basis is simply:\n",
    "\n",
    "$$ S^{-0.5} U S^{0.5}C_{\\text{std}} = V$$\n",
    "\n",
    "Where: $ V C_{\\text{std}} = C_{\\text{loc}}$\n"
   ]
  },
  {
   "cell_type": "code",
   "execution_count": null,
   "metadata": {},
   "outputs": [],
   "source": []
  },
  {
   "cell_type": "code",
   "execution_count": 16,
   "metadata": {},
   "outputs": [
    {
     "name": "stdout",
     "output_type": "stream",
     "text": [
      "V @ C_loc = C_std: True\n"
     ]
    }
   ],
   "source": [
    "S_neg_half = sp.linalg.fractional_matrix_power(full_system_scf.get_ovlp() , -0.5)\n",
    "\n",
    "V = S_neg_half @ U @ S_half\n",
    "\n",
    "\n",
    "print('V @ C_loc = C_std:', np.allclose(V@C_all_localized_and_virt,\n",
    "                                            full_system_scf.mo_coeff))"
   ]
  },
  {
   "cell_type": "markdown",
   "metadata": {},
   "source": [
    "NOW we can check orbital energies of localized system when we use V to change basis:"
   ]
  },
  {
   "cell_type": "code",
   "execution_count": 17,
   "metadata": {},
   "outputs": [
    {
     "name": "stdout",
     "output_type": "stream",
     "text": [
      "standard orb energies : \n",
      "\n",
      "[-18.27447311  -0.83044897  -0.37573098  -0.15754498  -0.0584303\n",
      "   0.31315706   0.41336181]\n",
      "[-18.27449288  -0.8304562   -0.37573596  -0.15755407  -0.05844029\n",
      "   0.31315299   0.41335685]\n",
      "\n",
      "LOCALIZED orb energies WITHOUT Fock change of basis : \n",
      "\n",
      "[-17.69057597  -0.59007439  -0.37573098  -0.98181669  -0.0584303 ]\n",
      "[-18.27449288  -0.8304562   -0.37573596  -0.15755407  -0.05844029\n",
      "   0.31315299   0.41335685]\n",
      "\n",
      "LOCALIZED orb energies WITH Fock change of basis : \n",
      "\n",
      "[-18.27447311  -0.83044897  -0.37573098  -0.15754498  -0.0584303\n",
      "   0.31315706   0.41336181]\n",
      "[-18.27449288  -0.8304562   -0.37573596  -0.15755407  -0.05844029\n",
      "   0.31315299   0.41335685]\n"
     ]
    }
   ],
   "source": [
    "print('standard orb energies : \\n')\n",
    "print(np.diag(full_system_scf.mo_coeff.conj().T @ full_system_scf.get_fock() @ full_system_scf.mo_coeff))\n",
    "print(full_system_scf.mo_energy)\n",
    "\n",
    "print('\\nLOCALIZED orb energies WITHOUT Fock change of basis : \\n')\n",
    "print(np.diag(C_all_localized.conj().T @ full_system_scf.get_fock() @ C_all_localized))\n",
    "print(full_system_scf.mo_energy)\n",
    "\n",
    "\n",
    "print('\\nLOCALIZED orb energies WITH Fock change of basis : \\n')\n",
    "print(np.diag(C_all_localized_and_virt.conj().T @ (V.conj().T @ full_system_scf.get_fock() @ V) @ C_all_localized_and_virt))\n",
    "print(full_system_scf.mo_energy)"
   ]
  },
  {
   "cell_type": "code",
   "execution_count": null,
   "metadata": {},
   "outputs": [],
   "source": []
  },
  {
   "cell_type": "code",
   "execution_count": 18,
   "metadata": {},
   "outputs": [],
   "source": [
    "# modify H_core and Veff to allow this change of basis!!!\n",
    "\n",
    "def Get_new_Hcore(H_core, Unitary_rot):\n",
    "    H_core_rot = Unitary_rot.conj().T @ H_core @Unitary_rot \n",
    "    return H_core_rot\n",
    "\n",
    "from pyscf.dft.rks import get_veff as RKS_get_veff\n",
    "## RKS_get_veff gives Coulomb + XC functional\n",
    "## in matrix form: Veff = J + Vxc.\n",
    "    \n",
    "from pyscf import lib\n",
    "from pyscf.dft import numint\n",
    "\n",
    "def Get_new_Veff(pyscf_obj, Unitary, dm=None, check_result=False):\n",
    "    \n",
    "    if dm is None:\n",
    "        if pyscf_obj.mo_coeff is not None:\n",
    "            density_mat = pyscf_obj.make_rdm1(pyscf_obj.mo_coeff, pyscf_obj.mo_occ)\n",
    "        else:\n",
    "            density_mat = pyscf_obj.init_guess_by_1e()\n",
    "    else:\n",
    "        density_mat = dm\n",
    "    \n",
    "    \n",
    "#     Evaluate RKS/UKS XC functional and potential matrix on given meshgrids\n",
    "#     for a set of density matrices.\n",
    "    nelec, exc, vxc = numint.nr_vxc(pyscf_obj.mol,\n",
    "                                            pyscf_obj.grids,\n",
    "                                            pyscf_obj.xc,\n",
    "                                            density_mat)\n",
    "    vxc =  Unitary.conj().T @ vxc @ Unitary\n",
    "    \n",
    "    Veff = RKS_get_veff(pyscf_obj, dm=density_mat)\n",
    "    if Veff.vk is not None:\n",
    "        K = Unitary.conj().T @ Veff.vk @ Unitary\n",
    "        J = Unitary.conj().T @ Veff.vj @ Unitary\n",
    "        vxc += J - K * .5\n",
    "    else:\n",
    "        J = Unitary.conj().T @ Veff.vj @ Unitary\n",
    "        K = None\n",
    "        vxc += J \n",
    "    \n",
    "    if check_result is True:\n",
    "        M1 = Unitary.conj().T @ Veff.__array__() @ Unitary\n",
    "        if not np.allclose(vxc, M1):\n",
    "            raise ValueError('Veff in new basis NOT correct')\n",
    "    \n",
    "    ecoul = np.einsum('ij,ji', density_mat, J).real * .5 # note J matrix is in new basis!\n",
    "    ## this ecoul term changes if the full density matrix is NOT \n",
    "    # (aka for dm_active and dm_enviroment we get different V_eff under different bases!)\n",
    "    \n",
    "    \n",
    "    output = lib.tag_array(vxc, ecoul=ecoul, exc=Veff.exc, vj=J, vk=K)\n",
    "    return output\n"
   ]
  },
  {
   "cell_type": "code",
   "execution_count": null,
   "metadata": {},
   "outputs": [],
   "source": []
  },
  {
   "cell_type": "code",
   "execution_count": 19,
   "metadata": {},
   "outputs": [
    {
     "data": {
      "text/plain": [
       "-74.7347404160195"
      ]
     },
     "execution_count": 19,
     "metadata": {},
     "output_type": "execute_result"
    }
   ],
   "source": [
    "# Check pyscf obj with localized orbs and unitary change of basis gives same results as before!\n",
    "\n",
    "test_full_system_scf = scf.RKS(full_system_mol)\n",
    "test_full_system_scf.verbose= pyscf_print_level\n",
    "test_full_system_scf.max_memory= memory\n",
    "test_full_system_scf.conv_tol = 1e-6\n",
    "test_full_system_scf.xc = low_level_xc_functional\n",
    "\n",
    "\n",
    "Hcore_std = test_full_system_scf.get_hcore()\n",
    "test_full_system_scf.get_hcore = lambda *args: Get_new_Hcore(Hcore_std, \n",
    "                                                             Unitary_rot=V)\n",
    "\n",
    "\n",
    "test_full_system_scf.get_veff = lambda mol=None, dm=None, dm_last=0, vhf_last=0, hermi=1: Get_new_Veff(\n",
    "                                                                                    test_full_system_scf,\n",
    "                                                                                       V,\n",
    "                                                                                        dm=dm)\n",
    "\n",
    "\n",
    "test_full_system_scf.mo_coeff = C_all_localized_and_virt\n",
    "test_full_system_scf.mo_occ = full_system_scf.mo_occ\n",
    "\n",
    "test_full_system_scf.energy_tot(dm=dm_loc)"
   ]
  },
  {
   "cell_type": "code",
   "execution_count": 20,
   "metadata": {},
   "outputs": [
    {
     "name": "stdout",
     "output_type": "stream",
     "text": [
      "True\n",
      "True\n"
     ]
    }
   ],
   "source": [
    "C_std = full_system_scf.mo_coeff\n",
    "\n",
    "print(np.allclose(C_std.conj().T @ full_system_scf.get_hcore() @ C_std,\n",
    "           C_all_localized_and_virt.conj().T @ test_full_system_scf.get_hcore() @ C_all_localized_and_virt))\n",
    "\n",
    "print(np.allclose(C_std.conj().T @ full_system_scf.get_veff(dm=dm_std) @ C_std,\n",
    "           C_all_localized_and_virt.conj().T @ test_full_system_scf.get_veff(dm=dm_loc) @ C_all_localized_and_virt))"
   ]
  },
  {
   "cell_type": "code",
   "execution_count": 21,
   "metadata": {},
   "outputs": [
    {
     "name": "stdout",
     "output_type": "stream",
     "text": [
      "-83.8630241442354\n",
      "\n",
      "-83.86302414430241\n"
     ]
    }
   ],
   "source": [
    "### RKS energy (not the same as HFock!)\n",
    "vhf_std = full_system_scf.get_veff(dm=dm_std)\n",
    "e1_std = np.einsum('ij,ji->', full_system_scf.get_hcore(), dm_std)\n",
    "e2_std = vhf_std.ecoul + vhf_std.exc\n",
    "print(e1_std + e2_std)\n",
    "\n",
    "print()\n",
    "vhf_loc = test_full_system_scf.get_veff(dm=dm_std)\n",
    "e1_loc = np.einsum('ij,ji->', test_full_system_scf.get_hcore(), dm_loc)\n",
    "e2_loc = vhf_loc.ecoul + vhf_loc.exc\n",
    "print(e1_loc+e2_loc)"
   ]
  },
  {
   "cell_type": "code",
   "execution_count": null,
   "metadata": {},
   "outputs": [],
   "source": []
  },
  {
   "cell_type": "code",
   "execution_count": 22,
   "metadata": {},
   "outputs": [
    {
     "name": "stdout",
     "output_type": "stream",
     "text": [
      "check electronic energies match: True\n"
     ]
    }
   ],
   "source": [
    "print('check electronic energies match:', np.allclose(full_system_scf.energy_elec(dm=dm_std)[0],\n",
    "                                test_full_system_scf.energy_elec(dm=dm_loc)[0]))\n",
    "\n",
    "# test_full_system_scf.kernel()  # run to populate mo_energy....\n",
    "# print('check MO energies match:', np.allclose(full_system_scf.mo_energy,\n",
    "#                                 test_full_system_scf.mo_energy))"
   ]
  },
  {
   "cell_type": "code",
   "execution_count": 23,
   "metadata": {
    "scrolled": true
   },
   "outputs": [
    {
     "name": "stdout",
     "output_type": "stream",
     "text": [
      "[[-18.27  -0.     0.     0.     0.    -0.    -0.  ]\n",
      " [ -0.    -0.83   0.    -0.     0.     0.    -0.  ]\n",
      " [  0.     0.    -0.38   0.     0.    -0.     0.  ]\n",
      " [  0.    -0.     0.    -0.16  -0.     0.     0.  ]\n",
      " [  0.     0.     0.    -0.    -0.06   0.    -0.  ]\n",
      " [ -0.     0.    -0.     0.     0.     0.31   0.  ]\n",
      " [ -0.    -0.     0.     0.    -0.     0.     0.41]]\n",
      "[[-18.27  -0.     0.     0.     0.    -0.     0.  ]\n",
      " [ -0.    -0.83   0.    -0.     0.     0.    -0.  ]\n",
      " [  0.     0.    -0.38   0.    -0.    -0.     0.  ]\n",
      " [  0.    -0.     0.    -0.16  -0.     0.    -0.  ]\n",
      " [  0.     0.    -0.    -0.    -0.06   0.    -0.  ]\n",
      " [ -0.     0.    -0.     0.     0.     0.31   0.  ]\n",
      " [  0.    -0.     0.    -0.    -0.     0.     0.41]]\n"
     ]
    }
   ],
   "source": [
    "F_new = test_full_system_scf.get_hcore() + test_full_system_scf.get_veff(dm_loc) # Note this is now in new basis!\n",
    "print(np.around(C_all_localized_and_virt.conj().T @ F_new @ C_all_localized_and_virt, 2))\n",
    "\n",
    "\n",
    "F_std = full_system_scf.get_hcore() + full_system_scf.get_veff(dm=dm_loc) # Note this is standard HF!\n",
    "C_std = full_system_scf.mo_coeff\n",
    "print(np.around(C_std.conj().T @ F_std @ C_std, 2))"
   ]
  },
  {
   "cell_type": "markdown",
   "metadata": {},
   "source": [
    "Basically we now have orbital energies matching as we want\n",
    "\n",
    "(This will become important when we move to post Hartree-Fock methods!)"
   ]
  },
  {
   "cell_type": "code",
   "execution_count": null,
   "metadata": {},
   "outputs": [],
   "source": []
  },
  {
   "cell_type": "code",
   "execution_count": 24,
   "metadata": {},
   "outputs": [],
   "source": [
    "# # Draw active orbitals\n",
    "\n",
    "# list_active_orbitals = vqe_in_dft.Draw_cube_orbital(full_system_scf,\n",
    "#                              xyz_string,\n",
    "#                              C_all_localized, \n",
    "#                              active_MO_inds,\n",
    "#                              width=400, \n",
    "#                              height=400, \n",
    "#                              jupyter_notebook=True)\n",
    "\n",
    "# list_enviro_orbitals = vqe_in_dft.Draw_cube_orbital(full_system_scf,\n",
    "#                              xyz_string,\n",
    "#                              C_all_localized, \n",
    "#                              enviro_MO_inds,\n",
    "#                              width=400, \n",
    "#                              height=400, \n",
    "#                              jupyter_notebook=True)"
   ]
  },
  {
   "cell_type": "code",
   "execution_count": 25,
   "metadata": {},
   "outputs": [],
   "source": [
    "# list_active_orbitals[0]"
   ]
  },
  {
   "cell_type": "code",
   "execution_count": 26,
   "metadata": {},
   "outputs": [],
   "source": [
    "# list_enviro_orbitals[0]"
   ]
  },
  {
   "cell_type": "code",
   "execution_count": null,
   "metadata": {},
   "outputs": [],
   "source": []
  },
  {
   "cell_type": "code",
   "execution_count": 27,
   "metadata": {},
   "outputs": [],
   "source": [
    "def Get_active_and_envrio_dm(PySCF_scf_obj, C_active, C_envrio, C_all_localized, sanity_check=True):\n",
    "\n",
    "    # get density matrices\n",
    "    dm_active =  2 * C_active @ C_active.T\n",
    "    dm_enviro =  2 * C_envrio @ C_envrio.T\n",
    "\n",
    "    if sanity_check:\n",
    "\n",
    "        S_ovlp = PySCF_scf_obj.get_ovlp()\n",
    "\n",
    "        ## check number of electrons is still the same after orbitals have been localized (change of basis)\n",
    "        N_active_electrons = np.trace(dm_active@S_ovlp)\n",
    "        N_enviro_electrons = np.trace(dm_enviro@S_ovlp)\n",
    "        N_all_electrons = PySCF_scf_obj.mol.nelectron\n",
    "\n",
    "        bool_flag_electron_number = np.isclose(( N_active_electrons + N_enviro_electrons), N_all_electrons)\n",
    "        if not bool_flag_electron_number:\n",
    "            raise ValueError('number of electrons in localized orbitals is incorrect')\n",
    "        print(f'N_active_elec + N_environment_elec = N_total_elec is: {bool_flag_electron_number}')\n",
    "\n",
    "        # checking denisty matrix parition makes sense:\n",
    "        dm_localised_full_system = 2* C_all_localized@ C_all_localized.conj().T\n",
    "        bool_density_flag = np.allclose(dm_localised_full_system, dm_active + dm_enviro)\n",
    "        if not bool_density_flag:\n",
    "            raise ValueError('gamma_full != gamma_active + gamma_enviro')\n",
    "        print(f'y_active + y_enviro = y_total is: {bool_density_flag}')\n",
    "\n",
    "    return dm_active, dm_enviro"
   ]
  },
  {
   "cell_type": "code",
   "execution_count": 28,
   "metadata": {},
   "outputs": [
    {
     "name": "stdout",
     "output_type": "stream",
     "text": [
      "N_active_elec + N_environment_elec = N_total_elec is: True\n",
      "y_active + y_enviro = y_total is: True\n"
     ]
    }
   ],
   "source": [
    "dm_active, dm_enviro = Get_active_and_envrio_dm(\n",
    "                                            full_system_scf,\n",
    "                                            C_active, \n",
    "                                            C_envrio, \n",
    "                                            C_all_localized, \n",
    "                                            sanity_check=True)"
   ]
  },
  {
   "cell_type": "code",
   "execution_count": null,
   "metadata": {},
   "outputs": [],
   "source": []
  },
  {
   "cell_type": "code",
   "execution_count": null,
   "metadata": {},
   "outputs": [],
   "source": []
  },
  {
   "cell_type": "code",
   "execution_count": 29,
   "metadata": {},
   "outputs": [
    {
     "data": {
      "text/plain": [
       "True"
      ]
     },
     "execution_count": 29,
     "metadata": {},
     "output_type": "execute_result"
    }
   ],
   "source": [
    "two_e_term =  test_full_system_scf.get_veff(dm=dm_loc)\n",
    "\n",
    "np.allclose(V.conj().T @test_full_system_scf.get_j(dm = dm_loc) @ V,\n",
    "            two_e_term.vj)"
   ]
  },
  {
   "cell_type": "code",
   "execution_count": 30,
   "metadata": {},
   "outputs": [],
   "source": [
    "def Get_energy_and_matrices_from_dm(PySCF_scf_obj, dm_matrix, check_E_with_pyscf=True):\n",
    "    \"\"\"\n",
    "    Get Energy from denisty matrix\n",
    "\n",
    "    Note this uses the standard hcore (NO embedding potential here!)\n",
    "    \"\"\"\n",
    "\n",
    "    # It seems that PySCF lumps J and K in the J array \n",
    "    two_e_term =  PySCF_scf_obj.get_veff(dm=dm_matrix)\n",
    "    J_mat = two_e_term.vj\n",
    "    K_mat = np.zeros_like(J_mat)\n",
    "    \n",
    "    e_xc = two_e_term.exc\n",
    "    v_xc = two_e_term - J_mat \n",
    "\n",
    "#     H_core_standard = scf.hf.get_hcore(PySCF_scf_obj.mol) # No embedding potential\n",
    "    Energy_elec = (np.einsum('ij,ji->', PySCF_scf_obj.get_hcore(), dm_matrix) + \n",
    "                   two_e_term.ecoul + two_e_term.exc)\n",
    "    \n",
    "    if check_E_with_pyscf:\n",
    "        Energy_elec_pyscf = PySCF_scf_obj.energy_elec(dm=dm_matrix)[0]\n",
    "        if not np.isclose(Energy_elec_pyscf, Energy_elec):\n",
    "            raise ValueError('Energy calculation incorrect')\n",
    "\n",
    "    return Energy_elec, J_mat, K_mat, e_xc, v_xc"
   ]
  },
  {
   "cell_type": "code",
   "execution_count": null,
   "metadata": {},
   "outputs": [],
   "source": []
  },
  {
   "cell_type": "code",
   "execution_count": 31,
   "metadata": {},
   "outputs": [
    {
     "name": "stdout",
     "output_type": "stream",
     "text": [
      "-77.04777624866014\n"
     ]
    },
    {
     "data": {
      "text/plain": [
       "-77.04777624866014"
      ]
     },
     "execution_count": 31,
     "metadata": {},
     "output_type": "execute_result"
    }
   ],
   "source": [
    "# use active density\n",
    "E_act, J_act, K_act, e_xc_act, v_xc_act = Get_energy_and_matrices_from_dm( full_system_scf, # <-- standard\n",
    "                                                                             dm_active, # <- ACTIVE\n",
    "                                                                             check_E_with_pyscf=True)\n",
    "print(full_system_scf.energy_elec(dm=dm_active)[0])\n",
    "E_act"
   ]
  },
  {
   "cell_type": "code",
   "execution_count": 32,
   "metadata": {},
   "outputs": [
    {
     "name": "stdout",
     "output_type": "stream",
     "text": [
      "-76.1779206784814\n"
     ]
    },
    {
     "data": {
      "text/plain": [
       "-76.17792067848141"
      ]
     },
     "execution_count": 32,
     "metadata": {},
     "output_type": "execute_result"
    }
   ],
   "source": [
    "# use active density\n",
    "E_act, J_act, K_act, e_xc_act, v_xc_act = Get_energy_and_matrices_from_dm( test_full_system_scf, # <-- modified \n",
    "                                                                             dm_active, # <- ACTIVE\n",
    "                                                                             check_E_with_pyscf=True)\n",
    "print(test_full_system_scf.energy_elec(dm=dm_active)[0])\n",
    "E_act"
   ]
  },
  {
   "cell_type": "code",
   "execution_count": 33,
   "metadata": {},
   "outputs": [
    {
     "name": "stdout",
     "output_type": "stream",
     "text": [
      "-77.04777624866014\n",
      "-76.1779206784814\n",
      "\n",
      "-83.86302414430244\n",
      "-83.86302414423538\n"
     ]
    }
   ],
   "source": [
    "## Note different energies!\n",
    "print(full_system_scf.energy_elec(dm=dm_active)[0])\n",
    "print(test_full_system_scf.energy_elec(dm=dm_active)[0])\n",
    "\n",
    "## This is expected as now using active density matrix (rather than full one)\n",
    "\n",
    "print()\n",
    "# If we use the full dm matrix then we get matching results (aka now have full density matrix)\n",
    "E_loc = test_full_system_scf.energy_elec(dm=dm_active+dm_enviro)[0]\n",
    "E_std = full_system_scf.energy_elec(dm=dm_active+dm_enviro)[0] \n",
    "print(E_loc)\n",
    "print(E_std)"
   ]
  },
  {
   "cell_type": "code",
   "execution_count": 34,
   "metadata": {},
   "outputs": [],
   "source": [
    "# Note we want to use modified object, where change of basis on Fock matrix has been performed!"
   ]
  },
  {
   "cell_type": "code",
   "execution_count": 35,
   "metadata": {},
   "outputs": [
    {
     "name": "stdout",
     "output_type": "stream",
     "text": [
      "-24.360503838432965\n"
     ]
    },
    {
     "data": {
      "text/plain": [
       "-24.360503838432965"
      ]
     },
     "execution_count": 35,
     "metadata": {},
     "output_type": "execute_result"
    }
   ],
   "source": [
    "# use enviro density\n",
    "E_env, J_env, K_env, e_xc_env, v_xc_env = Get_energy_and_matrices_from_dm(\n",
    "                                                                            test_full_system_scf, # <-- modified \n",
    "                                                                             dm_enviro, # <- ENVIRO\n",
    "                                                                             check_E_with_pyscf=True)\n",
    "print(test_full_system_scf.energy_elec(dm=dm_enviro)[0])\n",
    "E_env"
   ]
  },
  {
   "cell_type": "code",
   "execution_count": 36,
   "metadata": {},
   "outputs": [],
   "source": [
    "def Get_cross_terms(PySCF_scf_obj, dm_active, dm_enviro, J_env, J_act, e_xc_act, e_xc_env):\n",
    "    \"\"\"\n",
    "    Get cross system terms\n",
    "    \n",
    "    \"\"\"\n",
    "\n",
    "    two_e_term_total =  PySCF_scf_obj.get_veff(dm=dm_active+dm_enviro)\n",
    "    e_xc_total = two_e_term_total.exc\n",
    "\n",
    "    j_cross = 0.5 * ( np.einsum('ij,ij', dm_active, J_env) + np.einsum('ij,ij', dm_enviro, J_act) )\n",
    "    k_cross = 0.0\n",
    "\n",
    "    xc_cross = e_xc_total - e_xc_act - e_xc_env\n",
    "    two_e_cross = j_cross + k_cross + xc_cross\n",
    "    \n",
    "    return two_e_cross"
   ]
  },
  {
   "cell_type": "code",
   "execution_count": 37,
   "metadata": {},
   "outputs": [],
   "source": [
    "# cross terms!\n",
    "two_e_cross = Get_cross_terms(test_full_system_scf, # <-- modified \n",
    "                                         dm_active, \n",
    "                                         dm_enviro, \n",
    "                                         J_env, \n",
    "                                         J_act, \n",
    "                                         e_xc_act,\n",
    "                                         e_xc_env)"
   ]
  },
  {
   "cell_type": "code",
   "execution_count": 38,
   "metadata": {},
   "outputs": [
    {
     "name": "stdout",
     "output_type": "stream",
     "text": [
      "E_active: -76.17792067848141\n",
      "E_enviro: -24.360503838432965\n",
      "E_cross: 16.675400372611943\n"
     ]
    }
   ],
   "source": [
    "print(f'E_active: {E_act}')\n",
    "print(f'E_enviro: {E_env}')\n",
    "print(f'E_cross: {two_e_cross}')"
   ]
  },
  {
   "cell_type": "code",
   "execution_count": 39,
   "metadata": {},
   "outputs": [
    {
     "name": "stdout",
     "output_type": "stream",
     "text": [
      "E_hf_standard : -74.73474041595246\n",
      "E_act + E_env + non_add_two_e + E_nuc : -74.73474041601949\n",
      "energies match True\n"
     ]
    },
    {
     "data": {
      "text/plain": [
       "6.703260169160785e-11"
      ]
     },
     "execution_count": 39,
     "metadata": {},
     "output_type": "execute_result"
    }
   ],
   "source": [
    "print(f'E_hf_standard : {full_system_scf.e_tot}')\n",
    "print(f'E_act + E_env + non_add_two_e + E_nuc : {E_act+E_env+two_e_cross+ full_system_scf.energy_nuc()}')\n",
    "\n",
    "# equation 1 of SPADE paper\n",
    "print(f'energies match {np.isclose(full_system_scf.e_tot, (E_act+E_env+two_e_cross+ full_system_scf.energy_nuc()))}') # equation 3 of SPADE paper\n",
    "full_system_scf.e_tot - (E_act+E_env+two_e_cross+ full_system_scf.energy_nuc())"
   ]
  },
  {
   "cell_type": "code",
   "execution_count": 40,
   "metadata": {},
   "outputs": [
    {
     "name": "stdout",
     "output_type": "stream",
     "text": [
      "3.9999999999999956\n",
      "6.000000000000001\n"
     ]
    }
   ],
   "source": [
    "print(np.trace(S_mat@dm_enviro))\n",
    "print(np.trace(S_mat@dm_active))"
   ]
  },
  {
   "cell_type": "code",
   "execution_count": null,
   "metadata": {},
   "outputs": [],
   "source": []
  },
  {
   "cell_type": "markdown",
   "metadata": {},
   "source": [
    "# NEXT define the projector onto subsystem B (enviroment)"
   ]
  },
  {
   "cell_type": "markdown",
   "metadata": {},
   "source": [
    "$$P^{env} = \\sum_{i \\in \\text{env}} |\\psi_{i} \\rangle \\langle \\psi_{i}|$$\n",
    "\n",
    "important points:\n",
    "1. Currently C_localized matrix columns give MO orbs $|\\psi_{i} \\rangle$\n",
    "2. However, these are **not orthogonal**! Therefore defining a projector here is HARD\n",
    "3. To fix this:\n",
    "    - change to orthogonal basis\n",
    "    - now define projector in this new basis\n",
    "    - undo basis change to give projector in non-ortho basis!"
   ]
  },
  {
   "cell_type": "code",
   "execution_count": null,
   "metadata": {},
   "outputs": [],
   "source": []
  },
  {
   "cell_type": "code",
   "execution_count": null,
   "metadata": {},
   "outputs": [],
   "source": []
  },
  {
   "cell_type": "code",
   "execution_count": 530,
   "metadata": {},
   "outputs": [
    {
     "name": "stdout",
     "output_type": "stream",
     "text": [
      "Are subsystem B (env) projected onto themselves: True\n",
      "Is subsystem A traced out?: True\n"
     ]
    }
   ],
   "source": [
    "## manual projector\n",
    "\n",
    "## 1. convert to orthogonal C_matrix\n",
    "S_mat = full_system_scf.get_ovlp()\n",
    "S_half = sp.linalg.fractional_matrix_power(full_system_scf.get_ovlp() , 0.5)\n",
    "S_neg_half = sp.linalg.fractional_matrix_power(full_system_scf.get_ovlp() , -0.5)\n",
    "\n",
    "Loc_Ortho = S_half@ C_all_localized_and_virt # orthogonal C matrix (localized)\n",
    "\n",
    "## 2. Define projector that projects MO orbs of subsystem B onto themselves and system A onto zero state!\n",
    "##### (do this in orthongoal C_matrix!)\n",
    "### not we only take MO environment indices!\n",
    "PROJ_ortho = np.zeros_like(S_mat)\n",
    "for MO_ind in range(C_all_localized_and_virt.shape[1]):\n",
    "    if MO_ind in enviro_MO_inds:\n",
    "        outer = np.outer(Loc_Ortho[:, MO_ind], Loc_Ortho[:, MO_ind])\n",
    "        PROJ_ortho+=outer\n",
    "    else:\n",
    "        continue\n",
    "\n",
    "print(f'''Are subsystem B (env) projected onto themselves: {\n",
    "        np.allclose(PROJ_ortho@Loc_Ortho[:, enviro_MO_inds], \n",
    "        Loc_Ortho[:, enviro_MO_inds])}''') # projected onto itself\n",
    "\n",
    "print(f'''Is subsystem A traced out?: {\n",
    "        np.allclose(PROJ_ortho@Loc_Ortho[:, active_MO_inds], \n",
    "        np.zeros_like(Loc_Ortho[:, active_MO_inds]))}''') # # projected onto zeros!\n",
    "        \n",
    "        \n",
    "#### 3. NEXT USING PROJECTOR in ortho basis define projector via different methods\n",
    "        \n",
    "        \n",
    "projector_method = 'huzinaga'\n",
    "# projector_method = 'mu_shfit'\n",
    "\n",
    "if projector_method == 'huzinaga':\n",
    "    Fock = test_full_system_scf.get_hcore() + test_full_system_scf.get_veff(dm=dm_active + dm_enviro)\n",
    "    Fock_ortho = S_neg_half@Fock @ S_neg_half\n",
    "    \n",
    "    # Huzinaga\n",
    "    projector_ortho =  -0.5*(Fock_ortho@PROJ_ortho + PROJ_ortho@Fock_ortho) # 0.5 for restricted calc!\n",
    "    \n",
    "    projector = S_half @ projector_ortho  @ S_half\n",
    "    \n",
    "elif projector_method == 'mu_shfit':\n",
    "    mu = 1e6\n",
    "    projector_ortho = mu * PROJ_ortho\n",
    "    \n",
    "#     projector = S_neg_half @ projector_ortho  @ S_half\n",
    "\n",
    "    # mu shift\n",
    "    projector = S_half @ projector_ortho  @ S_half\n",
    "else:\n",
    "    raise ValueError(f'Unknown projection method {projector_method}')\n",
    "\n",
    "##### 4. Define projector in standard (non-orthogonal basis)\n",
    "# projector = S_half @ projector_ortho  @ S_half\n",
    "\n",
    "\n",
    "### 5. now can build relevant ops\n",
    "\n",
    "\n",
    "\n",
    "### TODO check this!!!\n",
    "# when using full_system_scf and mu_shift get correct result\n",
    "# but I think one should use test_full_system_scf (with modified Fock matrix) \n",
    "\n",
    "### NOTE: we do NOT use modified Fock matrix here!!!!!\n",
    "# g_A_and_B = full_system_scf.get_veff(dm=dm_active+dm_enviro)\n",
    "# g_A = full_system_scf.get_veff(dm=dm_active)\n",
    "\n",
    "# modified Fock matrix gives correct result when change of basis used on embedded pyscf obj!!!\n",
    "g_A_and_B = test_full_system_scf.get_veff(dm=dm_active+dm_enviro)\n",
    "g_A = test_full_system_scf.get_veff(dm=dm_active)\n",
    "\n",
    "v_emb = g_A_and_B - g_A + projector"
   ]
  },
  {
   "cell_type": "code",
   "execution_count": 42,
   "metadata": {},
   "outputs": [],
   "source": [
    "# old mu shift\n",
    "# projector_mu = mu * (S_mat @ dm_enviro  @ S_mat)\n",
    "# np.allclose(projector_mu, projector_mu/2)"
   ]
  },
  {
   "cell_type": "code",
   "execution_count": 531,
   "metadata": {},
   "outputs": [
    {
     "name": "stdout",
     "output_type": "stream",
     "text": [
      " <env| P |env> = - <env| F |env> : True \n",
      "\n",
      "active subsystem orbital energies the same: False \n",
      "\n",
      "enviro subsystem orbital energies should be ZERO (traced out):True \n",
      "\n",
      "\n",
      "basically want active MOs first... then enviroment\n",
      "active MO indices: [0 3 4] \n",
      "\n",
      "should appear first when orbital inds listed by energy:\n"
     ]
    },
    {
     "data": {
      "text/plain": [
       "[(0, -18.2744731084804),\n",
       " (3, -0.15754497854277807),\n",
       " (4, -0.05843029691852217),\n",
       " (2, -2.748817690493042e-15),\n",
       " (1, 9.226058215349417e-16),\n",
       " (5, 0.3131570593453421),\n",
       " (6, 0.41336180729492533)]"
      ]
     },
     "execution_count": 531,
     "metadata": {},
     "output_type": "execute_result"
    }
   ],
   "source": [
    "Fock_loc_basis = test_full_system_scf.get_fock()\n",
    "\n",
    "if projector_method == 'mu_shfit':\n",
    "    new_orbital_energies = np.diag(C_all_localized_and_virt.conj().T @ (Fock_loc_basis+projector) @ C_all_localized_and_virt)\n",
    "\n",
    "    ## expect subsystem A orbital energies to remain the SAME\n",
    "    print(f'''active subsystem orbital energies the same: {np.allclose(new_orbital_energies[active_MO_inds],\n",
    "                                                        full_system_scf.mo_energy[active_MO_inds])} \\n''')\n",
    "\n",
    "    # expect subsystem B orbital energies to be pushed up to high energy\n",
    "    print(f'original MO energies env: {full_system_scf.mo_energy[enviro_MO_inds]}')\n",
    "    print(f'new MO energies env: {new_orbital_energies[enviro_MO_inds]}')\n",
    "    # print(f'''enviro subsystem orbital energies energy increased by mu: \n",
    "    #                                                     {np.allclose(new_orbital_energies[enviro_MO_inds],\n",
    "    #                                                     mu*full_system_scf.mo_energy[enviro_MO_inds])}''')\n",
    "    \n",
    "    \n",
    "elif projector_method == 'huzinaga':\n",
    "    ## projector should give opposite sign val of subsytem B orbitals vs standard Fock eval\n",
    "    proj_orb_energy = C_all_localized_and_virt[:, enviro_MO_inds].conj().T @projector@C_all_localized_and_virt[:, enviro_MO_inds]\n",
    "    fock_orb_energy = C_all_localized_and_virt[:, enviro_MO_inds].conj().T @Fock_loc_basis@C_all_localized_and_virt[:, enviro_MO_inds]\n",
    "    \n",
    "    print(f''' <env| P |env> = - <env| F |env> : {np.allclose(-1*proj_orb_energy,\n",
    "                                                              fock_orb_energy)} \\n''')\n",
    "    \n",
    "    new_orbital_energies = np.diag(C_all_localized_and_virt.conj().T @ (Fock_loc_basis+projector) @ C_all_localized_and_virt)\n",
    "    print(f'''active subsystem orbital energies the same: {np.allclose(new_orbital_energies[active_MO_inds],\n",
    "                                                    full_system_scf.mo_energy[active_MO_inds])} \\n''')\n",
    "    \n",
    "    print(f'''enviro subsystem orbital energies should be ZERO (traced out):{ \n",
    "                                   np.allclose(new_orbital_energies[enviro_MO_inds],\n",
    "                                                np.zeros_like(new_orbital_energies[enviro_MO_inds]))} \\n''')\n",
    "    \n",
    "else:\n",
    "    raise ValueError(f'Unknown projection method {projector_method}')\n",
    "\n",
    "\n",
    "print('\\nbasically want active MOs first... then enviroment')\n",
    "print(f'active MO indices: {active_MO_inds} \\n')\n",
    "print('should appear first when orbital inds listed by energy:')\n",
    "sorted([(i, new_orbital_energies[i])for i in range(new_orbital_energies.shape[0])], key=lambda x:x[1])"
   ]
  },
  {
   "cell_type": "code",
   "execution_count": 44,
   "metadata": {},
   "outputs": [],
   "source": [
    "# TODO ^^^^ choose frozen orbitals here!"
   ]
  },
  {
   "cell_type": "code",
   "execution_count": null,
   "metadata": {},
   "outputs": [],
   "source": []
  },
  {
   "cell_type": "code",
   "execution_count": 45,
   "metadata": {},
   "outputs": [
    {
     "name": "stdout",
     "output_type": "stream",
     "text": [
      "Trace(y_ENV @ PB): 2.412359909725771\n",
      "Trace(y_act @ PB): 1.5959455978986625e-16\n",
      "\n",
      "Trace(y_ENV @ v_emb): 12.00284837398232\n",
      "Trace(y_act @ v_emb): 16.212733985519854\n"
     ]
    }
   ],
   "source": [
    "print('Trace(y_ENV @ PB):', np.einsum('ij, ij', dm_enviro, projector) )\n",
    "print('Trace(y_act @ PB):', np.einsum('ij, ij', dm_active, projector) )\n",
    "print()\n",
    "print('Trace(y_ENV @ v_emb):', np.einsum('ij, ij', dm_enviro, v_emb) )\n",
    "print('Trace(y_act @ v_emb):', np.einsum('ij, ij', dm_active, v_emb) )"
   ]
  },
  {
   "cell_type": "code",
   "execution_count": null,
   "metadata": {},
   "outputs": [],
   "source": []
  },
  {
   "cell_type": "code",
   "execution_count": 46,
   "metadata": {},
   "outputs": [
    {
     "name": "stdout",
     "output_type": "stream",
     "text": [
      "embedded Energy: -50.83689240646143\n"
     ]
    }
   ],
   "source": [
    "# full_system_mol_EMBEDDED = gto.Mole(atom= geometry,\n",
    "#                       basis=basis,\n",
    "#                        charge=charge,\n",
    "#                        spin=spin,\n",
    "#                       )\n",
    "# full_system_mol_EMBEDDED.build()\n",
    "\n",
    "# # RE-DEFINE number of electrons in system\n",
    "# full_system_mol_EMBEDDED.nelectron = 2*len(active_MO_inds) # <------ IMPORTANT!\n",
    "\n",
    "# EMBEDDED_full_system_scf = scf.RKS(full_system_mol_EMBEDDED)\n",
    "# EMBEDDED_full_system_scf.verbose=1\n",
    "# EMBEDDED_full_system_scf.max_memory= memory\n",
    "# EMBEDDED_full_system_scf.conv_tol = 1e-6\n",
    "# EMBEDDED_full_system_scf.xc = low_level_xc_functional\n",
    "\n",
    "# h_core = EMBEDDED_full_system_scf.get_hcore()\n",
    "\n",
    "# # overwrite h_core to include embedding term!!!!\n",
    "# EMBEDDED_full_system_scf.get_hcore = lambda *args: v_emb + h_core\n",
    "\n",
    "# E_emb = EMBEDDED_full_system_scf.kernel()\n",
    "\n",
    "# print(f'embedded Energy: {E_emb}')\n",
    "\n",
    "\n",
    "\n",
    "full_system_mol_EMBEDDED = gto.Mole(atom= geometry,\n",
    "                      basis=basis,\n",
    "                       charge=charge,\n",
    "                       spin=spin,\n",
    "                      )\n",
    "full_system_mol_EMBEDDED.build()\n",
    "\n",
    "# RE-DEFINE number of electrons in system\n",
    "full_system_mol_EMBEDDED.nelectron = 2*len(active_MO_inds) # <------ IMPORTANT!\n",
    "\n",
    "EMBEDDED_full_system_scf = scf.RKS(full_system_mol_EMBEDDED)\n",
    "EMBEDDED_full_system_scf.verbose=1\n",
    "EMBEDDED_full_system_scf.max_memory= memory\n",
    "EMBEDDED_full_system_scf.conv_tol = 1e-6\n",
    "EMBEDDED_full_system_scf.xc = low_level_xc_functional\n",
    "\n",
    "\n",
    "\n",
    "## include change of basis!\n",
    "Hcore_std = EMBEDDED_full_system_scf.get_hcore()\n",
    "EMBEDDED_full_system_scf.get_hcore = lambda *args: Get_new_Hcore(Hcore_std, \n",
    "                                                             Unitary_rot=V)\n",
    "\n",
    "\n",
    "EMBEDDED_full_system_scf.get_veff = lambda mol=None, dm=None, dm_last=0, vhf_last=0, hermi=1: Get_new_Veff(\n",
    "                                                                                    EMBEDDED_full_system_scf,\n",
    "                                                                                       V,\n",
    "                                                                                        dm=dm)\n",
    "\n",
    "Hcore_rotated = EMBEDDED_full_system_scf.get_hcore()\n",
    "\n",
    "# overwrite h_core to include embedding term!!!!\n",
    "EMBEDDED_full_system_scf.get_hcore = lambda *args: v_emb + Hcore_rotated\n",
    "\n",
    "E_emb = EMBEDDED_full_system_scf.kernel()\n",
    "\n",
    "print(f'embedded Energy: {E_emb}')"
   ]
  },
  {
   "cell_type": "code",
   "execution_count": 47,
   "metadata": {},
   "outputs": [
    {
     "name": "stdout",
     "output_type": "stream",
     "text": [
      "number of electrons is correct: True\n"
     ]
    }
   ],
   "source": [
    "print(f'''number of electrons is correct: {\n",
    "                                            np.isclose(sum(EMBEDDED_full_system_scf.mo_occ),\n",
    "                                            2*len(active_MO_inds))\n",
    "                                          }''')"
   ]
  },
  {
   "cell_type": "code",
   "execution_count": 48,
   "metadata": {},
   "outputs": [
    {
     "name": "stdout",
     "output_type": "stream",
     "text": [
      "-76.17790569776247\n"
     ]
    }
   ],
   "source": [
    "C_active_EMBEDDED = EMBEDDED_full_system_scf.mo_coeff[:, EMBEDDED_full_system_scf.mo_occ>0]\n",
    "dm_active_EMBEDDED = 2* C_active_EMBEDDED @ C_active_EMBEDDED.conj().T\n",
    "\n",
    "# energy with STANDARD rks object!\n",
    "print(test_full_system_scf.energy_elec(dm=dm_active_EMBEDDED)[0])"
   ]
  },
  {
   "cell_type": "code",
   "execution_count": null,
   "metadata": {},
   "outputs": [],
   "source": []
  },
  {
   "cell_type": "code",
   "execution_count": 49,
   "metadata": {},
   "outputs": [
    {
     "data": {
      "text/plain": [
       "-74.7347298578023"
      ]
     },
     "execution_count": 49,
     "metadata": {},
     "output_type": "execute_result"
    }
   ],
   "source": [
    "# calculate embedding correction term\n",
    "\n",
    "dm_correction = np.einsum('ij, ij', v_emb, dm_active_EMBEDDED-dm_active)\n",
    "\n",
    "e_act_emb = test_full_system_scf.energy_elec(dm=dm_active_EMBEDDED,\n",
    "                                        vhf= test_full_system_scf.get_veff(dm=dm_active_EMBEDDED),\n",
    "                                       h1e = test_full_system_scf.get_hcore())[0]\n",
    "\n",
    "# e_act_emb = full_system_scf.energy_elec(dm=dm_active_EMBEDDED,\n",
    "#                                         vhf= full_system_scf.get_veff(dm=dm_active_EMBEDDED),\n",
    "#                                        h1e = full_system_scf.get_hcore())[0]\n",
    "\n",
    "e_mf_emb = e_act_emb + E_env + two_e_cross + test_full_system_scf.energy_nuc() + dm_correction\n",
    "e_mf_emb # <-- energy from embedded DFT calc"
   ]
  },
  {
   "cell_type": "code",
   "execution_count": 50,
   "metadata": {},
   "outputs": [
    {
     "data": {
      "text/plain": [
       "-74.73474041595246"
      ]
     },
     "execution_count": 50,
     "metadata": {},
     "output_type": "execute_result"
    }
   ],
   "source": [
    "full_system_scf.e_tot"
   ]
  },
  {
   "cell_type": "code",
   "execution_count": 51,
   "metadata": {},
   "outputs": [
    {
     "name": "stdout",
     "output_type": "stream",
     "text": [
      "global DFT calculation == seperated calculation: True\n"
     ]
    }
   ],
   "source": [
    "print(f'''global DFT calculation == seperated calculation: {\n",
    "                                                            np.isclose(e_mf_emb,\n",
    "                                                                        full_system_scf.e_tot)\n",
    "                                                        }''')\n",
    "# expected as same functional used!"
   ]
  },
  {
   "cell_type": "code",
   "execution_count": null,
   "metadata": {},
   "outputs": [],
   "source": []
  },
  {
   "cell_type": "markdown",
   "metadata": {},
   "source": [
    "# Run more expensive DFT calculation!"
   ]
  },
  {
   "cell_type": "code",
   "execution_count": 52,
   "metadata": {},
   "outputs": [
    {
     "data": {
      "text/plain": [
       "-51.437089306960786"
      ]
     },
     "execution_count": 52,
     "metadata": {},
     "output_type": "execute_result"
    }
   ],
   "source": [
    "full_system_mol_HIGH_LEVEL_DFT = gto.Mole(atom= geometry,\n",
    "                      basis=basis,\n",
    "                       charge=charge,\n",
    "                       spin=spin,\n",
    "                      )\n",
    "\n",
    "full_system_mol_HIGH_LEVEL_DFT.nelectron = 2*len(active_MO_inds) # <------ IMPORTANT!\n",
    "full_system_mol_HIGH_LEVEL_DFT.build()\n",
    "\n",
    "full_system_scf_HIGH_LEVEL = scf.RKS(full_system_mol_HIGH_LEVEL_DFT)\n",
    "full_system_scf_HIGH_LEVEL.verbose=1\n",
    "full_system_scf_HIGH_LEVEL.max_memory= memory\n",
    "full_system_scf_HIGH_LEVEL.conv_tol = 1e-6\n",
    "full_system_scf_HIGH_LEVEL.xc = high_level_xc_functional # <-- BETTER functional!\n",
    "\n",
    "\n",
    "# full_system_scf_HIGH_LEVEL.kernel() < --- do NOT RUN THIS\n",
    "\n",
    "\n",
    "## include change of basis!\n",
    "Hcore_std = full_system_scf_HIGH_LEVEL.get_hcore()\n",
    "full_system_scf_HIGH_LEVEL.get_hcore = lambda *args: Get_new_Hcore(Hcore_std, \n",
    "                                                             Unitary_rot=V)\n",
    "\n",
    "\n",
    "full_system_scf_HIGH_LEVEL.get_veff = lambda mol=None, dm=None, dm_last=0, vhf_last=0, hermi=1: Get_new_Veff(\n",
    "                                                                                    full_system_scf_HIGH_LEVEL, #<-need this here for more expensive xc fucnctional@\n",
    "                                                                                       V,\n",
    "                                                                                        dm=dm)\n",
    "\n",
    "Hcore_rotated = full_system_scf_HIGH_LEVEL.get_hcore()\n",
    "\n",
    "# overwrite h_core to include embedding term!!!!\n",
    "full_system_scf_HIGH_LEVEL.get_hcore = lambda *args: v_emb + Hcore_rotated\n",
    "\n",
    "e_act_emb_HIGH_LVL = full_system_scf_HIGH_LEVEL.kernel()\n",
    "e_act_emb_HIGH_LVL"
   ]
  },
  {
   "cell_type": "code",
   "execution_count": 53,
   "metadata": {},
   "outputs": [],
   "source": [
    "C_active_EMBEDDED_high_lvl = full_system_scf_HIGH_LEVEL.mo_coeff[:, full_system_scf_HIGH_LEVEL.mo_occ>0]\n",
    "dm_active_EMBEDDED_high_lvl = 2 * C_active_EMBEDDED_high_lvl @ C_active_EMBEDDED_high_lvl.conj().T"
   ]
  },
  {
   "cell_type": "code",
   "execution_count": 54,
   "metadata": {},
   "outputs": [
    {
     "data": {
      "text/plain": [
       "-74.78363650084431"
      ]
     },
     "execution_count": 54,
     "metadata": {},
     "output_type": "execute_result"
    }
   ],
   "source": [
    "# calculate embedding correction term\n",
    "\n",
    "dm_correction_high_lvl = np.einsum('ij, ij', v_emb, dm_active_EMBEDDED_high_lvl-dm_active)\n",
    "\n",
    "e_act_emb_high_lvl = test_full_system_scf.energy_elec(dm=dm_active_EMBEDDED_high_lvl,\n",
    "                                        vhf= test_full_system_scf.get_veff(dm=dm_active_EMBEDDED_high_lvl),\n",
    "                                       h1e = test_full_system_scf.get_hcore())[0]\n",
    "\n",
    "E_high_lvl_DFT = e_act_emb_high_lvl + E_env + two_e_cross + test_full_system_scf.energy_nuc() + dm_correction_high_lvl\n",
    "E_high_lvl_DFT # <-- energy from embedded DFT calc"
   ]
  },
  {
   "cell_type": "code",
   "execution_count": 55,
   "metadata": {},
   "outputs": [
    {
     "name": "stdout",
     "output_type": "stream",
     "text": [
      "High level DFT in DFT error: 0.23171597768050844\n",
      "LOW level DFT in DFT error: 0.2806226207225251\n"
     ]
    }
   ],
   "source": [
    "print('High level DFT in DFT error:', np.abs(E_high_lvl_DFT-my_fci.e_tot))\n",
    "print('LOW level DFT in DFT error:', np.abs(e_mf_emb-my_fci.e_tot))"
   ]
  },
  {
   "cell_type": "code",
   "execution_count": 56,
   "metadata": {},
   "outputs": [
    {
     "data": {
      "text/plain": [
       "array([-1.88264774e+01, -2.22511747e-01, -1.45234285e-01, -7.54321269e-02,\n",
       "       -2.44029230e-03,  2.71656171e-01,  4.45589594e-01])"
      ]
     },
     "execution_count": 56,
     "metadata": {},
     "output_type": "execute_result"
    }
   ],
   "source": [
    "full_system_scf_HIGH_LEVEL.mo_energy"
   ]
  },
  {
   "cell_type": "code",
   "execution_count": null,
   "metadata": {},
   "outputs": [],
   "source": []
  },
  {
   "cell_type": "code",
   "execution_count": 57,
   "metadata": {},
   "outputs": [
    {
     "ename": "NameError",
     "evalue": "name 'vzcx' is not defined",
     "output_type": "error",
     "traceback": [
      "\u001b[0;31m---------------------------------------------------------------------------\u001b[0m",
      "\u001b[0;31mNameError\u001b[0m                                 Traceback (most recent call last)",
      "\u001b[0;32m<ipython-input-57-7a769f57e49e>\u001b[0m in \u001b[0;36m<module>\u001b[0;34m\u001b[0m\n\u001b[0;32m----> 1\u001b[0;31m \u001b[0mvzcx\u001b[0m\u001b[0;34m\u001b[0m\u001b[0;34m\u001b[0m\u001b[0m\n\u001b[0m",
      "\u001b[0;31mNameError\u001b[0m: name 'vzcx' is not defined"
     ]
    }
   ],
   "source": [
    "vzcx"
   ]
  },
  {
   "cell_type": "markdown",
   "metadata": {},
   "source": [
    "# WF hartree-Fock run"
   ]
  },
  {
   "cell_type": "code",
   "execution_count": 322,
   "metadata": {},
   "outputs": [
    {
     "data": {
      "text/plain": [
       "array([0, 3, 4])"
      ]
     },
     "execution_count": 322,
     "metadata": {},
     "output_type": "execute_result"
    }
   ],
   "source": []
  },
  {
   "cell_type": "code",
   "execution_count": null,
   "metadata": {},
   "outputs": [],
   "source": [
    "    new_orbital_energies = np.diag(C_all_localized_and_virt.conj().T @ (Fock_loc_basis+projector) @ C_all_localized_and_virt)\n",
    "    print(f'''active subsystem orbital energies the same: {np.allclose(new_orbital_energies[active_MO_inds],\n",
    "                                                    full_system_scf.mo_energy[active_MO_inds])} \\n''')"
   ]
  },
  {
   "cell_type": "code",
   "execution_count": 569,
   "metadata": {},
   "outputs": [],
   "source": [
    "def Get_new_Veff_HFock(pyscf_obj, Unitary, dm=None, check_result=False, hermi=1):\n",
    "    \n",
    "    # note this is NOT the same as RKS defintion!\n",
    "    \n",
    "    if dm is None:\n",
    "        if pyscf_obj.mo_coeff is not None:\n",
    "            density_mat = pyscf_obj.make_rdm1(pyscf_obj.mo_coeff, pyscf_obj.mo_occ)\n",
    "        else:\n",
    "            density_mat = pyscf_obj.init_guess_by_1e()\n",
    "    else:\n",
    "        density_mat = dm\n",
    "    \n",
    "    vj, vk = pyscf_obj.get_jk(dm=density_mat, hermi=hermi)\n",
    "    Veff = vj - vk * .5\n",
    "    \n",
    "#     Veff = pyscf_obj.get_veff(dm=density_mat)\n",
    "    Veff_new = Unitary.conj().T @ Veff @ Unitary\n",
    "\n",
    "    return Veff_new\n",
    "\n",
    "from pyscf import lib\n",
    "from pyscf.lib import logger\n",
    "import numpy\n",
    "\n",
    "from pyscf import __config__\n",
    "\n",
    "WITH_META_LOWDIN = getattr(__config__, 'scf_analyze_with_meta_lowdin', True)\n",
    "PRE_ORTH_METHOD = getattr(__config__, 'scf_analyze_pre_orth_method', 'ANO')\n",
    "MO_BASE = getattr(__config__, 'MO_BASE', 1)\n",
    "TIGHT_GRAD_CONV_TOL = getattr(__config__, 'scf_hf_kernel_tight_grad_conv_tol', True)\n",
    "MUTE_CHKFILE = getattr(__config__, 'scf_hf_SCF_mute_chkfile', False)\n",
    "\n",
    "def kernel_NEW(mf,\n",
    "               dm_constant_env,\n",
    "               dm_active,\n",
    "               pyscf_DFT,\n",
    "               PROJ_ortho,\n",
    "               conv_tol=1e-10,\n",
    "               conv_tol_grad=None,\n",
    "               dump_chk=True,\n",
    "               dm0=None, \n",
    "               callback=None,\n",
    "               conv_check=True,\n",
    "               **kwargs):\n",
    "    '''kernel: the SCF driver.\n",
    "    Args:\n",
    "        mf : an instance of SCF class\n",
    "            mf object holds all parameters to control SCF.  One can modify its\n",
    "            member functions to change the behavior of SCF.  The member\n",
    "            functions which are called in kernel are\n",
    "            | mf.get_init_guess\n",
    "            | mf.get_hcore\n",
    "            | mf.get_ovlp\n",
    "            | mf.get_veff\n",
    "            | mf.get_fock\n",
    "            | mf.get_grad\n",
    "            | mf.eig\n",
    "            | mf.get_occ\n",
    "            | mf.make_rdm1\n",
    "            | mf.energy_tot\n",
    "            | mf.dump_chk\n",
    "    Kwargs:\n",
    "        conv_tol : float\n",
    "            converge threshold.\n",
    "        conv_tol_grad : float\n",
    "            gradients converge threshold.\n",
    "        dump_chk : bool\n",
    "            Whether to save SCF intermediate results in the checkpoint file\n",
    "        dm0 : ndarray\n",
    "            Initial guess density matrix.  If not given (the default), the kernel\n",
    "            takes the density matrix generated by ``mf.get_init_guess``.\n",
    "        callback : function(envs_dict) => None\n",
    "            callback function takes one dict as the argument which is\n",
    "            generated by the builtin function :func:`locals`, so that the\n",
    "            callback function can access all local variables in the current\n",
    "            envrionment.\n",
    "    Returns:\n",
    "        A list :   scf_conv, e_tot, mo_energy, mo_coeff, mo_occ\n",
    "        scf_conv : bool\n",
    "            True means SCF converged\n",
    "        e_tot : float\n",
    "            Hartree-Fock energy of last iteration\n",
    "        mo_energy : 1D float array\n",
    "            Orbital energies.  Depending the eig function provided by mf\n",
    "            object, the orbital energies may NOT be sorted.\n",
    "        mo_coeff : 2D array\n",
    "            Orbital coefficients.\n",
    "        mo_occ : 1D array\n",
    "            Orbital occupancies.  The occupancies may NOT be sorted from large\n",
    "            to small.\n",
    "    Examples:\n",
    "    >>> from pyscf import gto, scf\n",
    "    >>> mol = gto.M(atom='H 0 0 0; H 0 0 1.1', basis='cc-pvdz')\n",
    "    >>> conv, e, mo_e, mo, mo_occ = scf.hf.kernel(scf.hf.SCF(mol), dm0=numpy.eye(mol.nao_nr()))\n",
    "    >>> print('conv = %s, E(HF) = %.12f' % (conv, e))\n",
    "    conv = True, E(HF) = -1.081170784378\n",
    "    '''\n",
    "    if 'init_dm' in kwargs:\n",
    "        raise RuntimeError('''\n",
    "You see this error message because of the API updates in pyscf v0.11.\n",
    "Keyword argument \"init_dm\" is replaced by \"dm0\"''')\n",
    "#     cput0 = (logger.process_clock(), logger.perf_counter())\n",
    "#     if conv_tol_grad is None:\n",
    "#         conv_tol_grad = numpy.sqrt(conv_tol)\n",
    "#         logger.info(mf, 'Set gradient conv threshold to %g', conv_tol_grad)\n",
    "\n",
    "    mol = mf.mol\n",
    "    if dm0 is None:\n",
    "        h1e = mf.get_hcore()\n",
    "        s1e = mf.get_ovlp()\n",
    "        mo_energy, mo_coeff = mf.eig(h1e, s1e)\n",
    "        mo_occ = mf.get_occ(mo_energy, mo_coeff)\n",
    "        dm = mf.make_rdm1(mo_coeff, mo_occ)\n",
    "    else:\n",
    "        dm = dm0\n",
    "\n",
    "    h1e = mf.get_hcore(mol)\n",
    "    vhf = mf.get_veff(mol, dm)\n",
    "    s1e = mf.get_ovlp(mol)\n",
    "    \n",
    "    S_neg_half = sp.linalg.fractional_matrix_power(s1e , -0.5)\n",
    "    S_half = sp.linalg.fractional_matrix_power(s1e , 0.5)\n",
    "    e_tot = mf.energy_tot(dm, h1e, vhf)\n",
    "#     logger.info(mf, 'init E= %.15g', e_tot)\n",
    "\n",
    "    scf_conv = False\n",
    "    mo_energy = mo_occ = None\n",
    "\n",
    "    \n",
    "    cond = lib.cond(s1e)\n",
    "    logger.debug(mf, 'cond(S) = %s', cond)\n",
    "    if numpy.max(cond)*1e-17 > conv_tol:\n",
    "        logger.warn(mf, 'Singularity detected in overlap matrix (condition number = %4.3g). '\n",
    "                    'SCF may be inaccurate and hard to converge.', numpy.max(cond))\n",
    "\n",
    "    # Skip SCF iterations. Compute only the total energy of the initial density\n",
    "    if mf.max_cycle <= 0:\n",
    "        fock = mf.get_fock(h1e, s1e, vhf, dm)  # = h1e + vhf, no DIIS\n",
    "        mo_energy, mo_coeff = mf.eig(fock, s1e)\n",
    "        mo_occ = mf.get_occ(mo_energy, mo_coeff)\n",
    "        return scf_conv, e_tot, mo_energy, mo_coeff, mo_occ\n",
    "\n",
    "    if isinstance(mf.diis, lib.diis.DIIS):\n",
    "        mf_diis = mf.diis\n",
    "    elif mf.diis:\n",
    "        assert issubclass(mf.DIIS, lib.diis.DIIS)\n",
    "        mf_diis = mf.DIIS(mf, mf.diis_file)\n",
    "        mf_diis.space = mf.diis_space\n",
    "        mf_diis.rollback = mf.diis_space_rollback\n",
    "    else:\n",
    "        mf_diis = None\n",
    "\n",
    "    if dump_chk and mf.chkfile:\n",
    "        # Explicit overwrite the mol object in chkfile\n",
    "        # Note in pbc.scf, mf.mol == mf.cell, cell is saved under key \"mol\"\n",
    "        chkfile.save_mol(mol, mf.chkfile)\n",
    "\n",
    "    # A preprocessing hook before the SCF iteration\n",
    "    mf.pre_kernel(locals())\n",
    "\n",
    "#     cput1 = logger.timer(mf, 'initialize scf', *cput0)\n",
    "    for cycle in range(mf.max_cycle):\n",
    "        dm_last = dm\n",
    "        last_hf_e = e_tot\n",
    "\n",
    "#         print(mo_coeff.shape)\n",
    "#         Loc_Ortho = S_half@ mo_coeff # orthogonal C matrix (localized)\n",
    "#         PROJ_ortho = np.zeros_like(S_mat)\n",
    "#         for MO_ind in range(Loc_Ortho.shape[1]):\n",
    "#             if MO_ind in enviro_MO_indices:\n",
    "#                 outer = np.outer(Loc_Ortho[:, MO_ind], Loc_Ortho[:, MO_ind])\n",
    "#                 PROJ_ortho+=outer\n",
    "        \n",
    "        # add env\n",
    "#         Fock_emb = mf.get_fock(h1e, s1e, vhf, dm, cycle, mf_diis) # active_emb\n",
    "\n",
    "        # build full Fock(gammaAemb + gamma_B_env)\n",
    "        Fock_emb = mf.get_fock(h1e, s1e, vhf, dm+dm_constant_env, cycle, mf_diis) # active_emb + enviro_const\n",
    "        Fock_ortho = S_neg_half@Fock_emb @ S_neg_half\n",
    "        # Huzinaga\n",
    "        projector_ortho =  -0.5*(Fock_ortho@PROJ_ortho + PROJ_ortho@Fock_ortho) # 0.5 for restricted calc!\n",
    "        projector = S_half @ projector_ortho  @ S_half\n",
    "#         print(F_orb_energy)\n",
    "        \n",
    "        \n",
    "#         g_A_and_B = pyscf_DFT.get_veff(dm=dm+dm_enviro)\n",
    "        g_A = pyscf_DFT.get_veff(dm=dm_active)\n",
    "        g_A_and_B = mf.get_veff(dm=dm_active+dm_constant_env)\n",
    "#         g_A_and_B = mf.get_veff(dm=dm+dm_constant_env)\n",
    "#         g_A = mf.get_veff(dm=dm)\n",
    "        v_emb = g_A_and_B - g_A + projector\n",
    "#         v_emb = projector\n",
    "\n",
    "        \n",
    "        proj_orb_energy = np.diag(mo_coeff.conj().T @(Fock_emb+v_emb)@mo_coeff)\n",
    "#         F_orb_energy = np.diag(mo_coeff.conj().T @Fock_emb@mo_coeff)\n",
    "        print(proj_orb_energy)\n",
    "        print()\n",
    "\n",
    "#         new_orbital_energies = np.diag(mo_coeff.conj().T @ (Fock_emb+projector) @ mo_coeff)\n",
    "#         print(new_orbital_energies)\n",
    "        \n",
    "#         proj_orb_energy = mo_coeff.conj().T @projector@mo_coeff\n",
    "#         fock_orb_energy = mo_coeff.conj().T @Fock_emb@mo_coeff\n",
    "#         print(proj_orb_energy)# + fock_orb_energy)\n",
    "       \n",
    "        \n",
    "    \n",
    "#         proj_orb_energy = mo_coeff[:, enviro_MO_inds].conj().T @projector@mo_coeff[:, enviro_MO_inds]\n",
    "#         fock_orb_energy = mo_coeff[:, enviro_MO_inds].conj().T @Fock_emb@mo_coeff[:, enviro_MO_inds]\n",
    "    \n",
    "#         print(f''' <env| P |env> = - <env| F |env> : {np.allclose(-1*proj_orb_energy,\n",
    "#                                                                   fock_orb_energy)} \\n''')\n",
    "        \n",
    "\n",
    "#         g_A_and_B = pyscf_DFT.get_veff(dm=dm_active+dm_enviro)\n",
    "# #         g_A = pyscf_DFT.get_veff(dm=dm_active)\n",
    "#         g_A = mf.get_veff(dm=dm_active)\n",
    "#         v_emb = g_A_and_B - g_A + projector\n",
    "        \n",
    "        \n",
    "        \n",
    "        fock = mf.get_fock(h1e, s1e, vhf, dm, cycle, mf_diis)\n",
    "        fock+=v_emb\n",
    "    \n",
    "        fock_orb_energy = mo_coeff.conj().T @fock@mo_coeff\n",
    "#         print(fock_orb_energy)\n",
    "        \n",
    "#         proj_orb_energy = mo_coeff.conj().T @projector@mo_coeff\n",
    "#         print(np.diag(proj_orb_energy))\n",
    "#         print(np.diag(fock_orb_energy))\n",
    "#         print()\n",
    "#         fock_orb_energy = mo_coeff.conj().T @fock@mo_coeff\n",
    "#         print(np.where(-proj_orb_energy == fock_orb_energy))\n",
    "        \n",
    "        mo_energy, mo_coeff = mf.eig(fock, s1e)\n",
    "        mo_occ = mf.get_occ(mo_energy, mo_coeff)\n",
    "        dm = mf.make_rdm1(mo_coeff, mo_occ)\n",
    "        # attach mo_coeff and mo_occ to dm to improve DFT get_veff efficiency\n",
    "        dm = lib.tag_array(dm, mo_coeff=mo_coeff, mo_occ=mo_occ)\n",
    "        vhf = mf.get_veff(mol, dm, dm_last, vhf)\n",
    "        e_tot = mf.energy_tot(dm, h1e, vhf)\n",
    "        \n",
    "        # Here Fock matrix is h1e + vhf, without DIIS.  Calling get_fock\n",
    "        # instead of the statement \"fock = h1e + vhf\" because Fock matrix may\n",
    "        # be modified in some methods.\n",
    "        fock = mf.get_fock(h1e, s1e, vhf, dm)  # = h1e + vhf, no DIIS\n",
    "        fock+=v_emb\n",
    "        \n",
    "        norm_gorb = numpy.linalg.norm(mf.get_grad(mo_coeff, mo_occ, fock))\n",
    "        if not TIGHT_GRAD_CONV_TOL:\n",
    "            norm_gorb = norm_gorb / numpy.sqrt(norm_gorb.size)\n",
    "        norm_ddm = numpy.linalg.norm(dm-dm_last)\n",
    "        logger.info(mf, 'cycle= %d E= %.15g  delta_E= %4.3g  |g|= %4.3g  |ddm|= %4.3g',\n",
    "                    cycle+1, e_tot, e_tot-last_hf_e, norm_gorb, norm_ddm)\n",
    "\n",
    "        if callable(mf.check_convergence):\n",
    "            scf_conv = mf.check_convergence(locals())\n",
    "        elif abs(e_tot-last_hf_e) < conv_tol and norm_gorb < conv_tol_grad:\n",
    "            scf_conv = True\n",
    "\n",
    "        if dump_chk:\n",
    "            mf.dump_chk(locals())\n",
    "\n",
    "        if callable(callback):\n",
    "            callback(locals())\n",
    "\n",
    "#         cput1 = logger.timer(mf, 'cycle= %d'%(cycle+1), *cput1)\n",
    "\n",
    "        if scf_conv:\n",
    "            break\n",
    "\n",
    "    if scf_conv and conv_check:\n",
    "        # An extra diagonalization, to remove level shift\n",
    "        #fock = mf.get_fock(h1e, s1e, vhf, dm)  # = h1e + vhf\n",
    "        mo_energy, mo_coeff = mf.eig(fock, s1e)\n",
    "        mo_occ = mf.get_occ(mo_energy, mo_coeff)\n",
    "        dm, dm_last = mf.make_rdm1(mo_coeff, mo_occ), dm\n",
    "        dm = lib.tag_array(dm, mo_coeff=mo_coeff, mo_occ=mo_occ)\n",
    "        vhf = mf.get_veff(mol, dm, dm_last, vhf)\n",
    "        e_tot, last_hf_e = mf.energy_tot(dm, h1e, vhf), e_tot\n",
    "\n",
    "        fock = mf.get_fock(h1e, s1e, vhf, dm) + v_emb\n",
    "        \n",
    "        \n",
    "        norm_gorb = numpy.linalg.norm(mf.get_grad(mo_coeff, mo_occ, fock))\n",
    "        if not TIGHT_GRAD_CONV_TOL:\n",
    "            norm_gorb = norm_gorb / numpy.sqrt(norm_gorb.size)\n",
    "        norm_ddm = numpy.linalg.norm(dm-dm_last)\n",
    "\n",
    "        conv_tol = conv_tol * 10\n",
    "        conv_tol_grad = conv_tol_grad * 3\n",
    "        if callable(mf.check_convergence):\n",
    "            scf_conv = mf.check_convergence(locals())\n",
    "        elif abs(e_tot-last_hf_e) < conv_tol or norm_gorb < conv_tol_grad:\n",
    "            scf_conv = True\n",
    "        logger.info(mf, 'Extra cycle  E= %.15g  delta_E= %4.3g  |g|= %4.3g  |ddm|= %4.3g',\n",
    "                    e_tot, e_tot-last_hf_e, norm_gorb, norm_ddm)\n",
    "        if dump_chk:\n",
    "            mf.dump_chk(locals())\n",
    "\n",
    "#     logger.timer(mf, 'scf_cycle', *cput0)\n",
    "    # A post-processing hook before return\n",
    "    mf.post_kernel(locals())\n",
    "    return scf_conv, e_tot, mo_energy, mo_coeff, mo_occ\n"
   ]
  },
  {
   "cell_type": "code",
   "execution_count": 570,
   "metadata": {},
   "outputs": [],
   "source": [
    "# define HFock obj (with embedded no. of e-)\n",
    "\n",
    "full_system_mol_EMBEDDED_HF = gto.Mole(atom= geometry,\n",
    "                      basis=basis,\n",
    "                       charge=charge,\n",
    "                       spin=spin,\n",
    "                      )\n",
    "full_system_mol_EMBEDDED_HF.build()\n",
    "\n",
    "# RE-DEFINE number of electrons in system\n",
    "full_system_mol_EMBEDDED_HF.nelectron = 2*len(active_MO_inds) # <------ IMPORTANT!\n",
    "\n",
    "EMBEDDED_full_system_scf_HF = scf.RHF(full_system_mol_EMBEDDED_HF) # <---- Hartree Fock Calc!\n",
    "EMBEDDED_full_system_scf_HF.verbose=1\n",
    "EMBEDDED_full_system_scf_HF.max_memory= memory\n",
    "EMBEDDED_full_system_scf_HF.conv_tol = 1e-6"
   ]
  },
  {
   "cell_type": "code",
   "execution_count": 571,
   "metadata": {},
   "outputs": [
    {
     "name": "stdout",
     "output_type": "stream",
     "text": [
      "converged SCF energy = -69.6107725130686\n",
      "is U*C_ortho_loc =  C_ortho_STD: True\n",
      "is U Udag = Identity: True\n",
      "V @ C_loc = C_std: True\n"
     ]
    }
   ],
   "source": [
    "# Find change of basis for localized orbs\n",
    "# (NOTE Fock matrix is different with HFock compared to DFT ...\n",
    "# hence why we recalc it)\n",
    "\n",
    "S_mat = full_system_scf.get_ovlp()\n",
    "S_half = sp.linalg.fractional_matrix_power(full_system_mol_EMBEDDED_HF.get_ovlp() , 0.5)\n",
    "\n",
    "ortho_std = S_half@ full_system_scf.mo_coeff\n",
    "ortho_loc = S_half@ C_all_localized_and_virt\n",
    "\n",
    "# ortho_loc[:,0].dot(ortho_loc[:,2])\n",
    "\n",
    "U = np.zeros((ortho_std.shape[0], ortho_std.shape[0]))\n",
    "for MO_ind in range(ortho_std.shape[1]):\n",
    "    outer = np.outer(ortho_std[:, MO_ind], ortho_loc[:, MO_ind])\n",
    "    U+=outer\n",
    "\n",
    "print(f'is U*C_ortho_loc =  C_ortho_STD: {(np.allclose(U @ ortho_loc, ortho_std))}')\n",
    "print(f'is U Udag = Identity: {np.allclose(U.conj().T@U, np.eye(U.shape[0]))}')\n",
    "                                          \n",
    "S_neg_half = sp.linalg.fractional_matrix_power(full_system_scf.get_ovlp() , -0.5)\n",
    "\n",
    "V_chg_B_HFock = S_neg_half @ U @ S_half\n",
    "\n",
    "\n",
    "print('V @ C_loc = C_std:', np.allclose(V_chg_B_HFock@C_all_localized_and_virt,\n",
    "                                            full_system_scf.mo_coeff))"
   ]
  },
  {
   "cell_type": "code",
   "execution_count": 572,
   "metadata": {},
   "outputs": [],
   "source": [
    "# ############## include change of basis!\n",
    "Hcore_std = EMBEDDED_full_system_scf_HF.get_hcore()\n",
    "EMBEDDED_full_system_scf_HF.get_hcore = lambda *args: Get_new_Hcore(Hcore_std, \n",
    "                                                             Unitary_rot=V_chg_B_HFock)\n",
    "\n",
    "\n",
    "EMBEDDED_full_system_scf_HF.get_veff = lambda mol=None, dm=None, dm_last=0, vhf_last=0, hermi=1: Get_new_Veff_HFock(\n",
    "                                                                                    EMBEDDED_full_system_scf_HF, #<-need this here for more expensive xc fucnctional@\n",
    "                                                                                       V_chg_B_HFock,\n",
    "                                                                                        dm=dm)"
   ]
  },
  {
   "cell_type": "code",
   "execution_count": 573,
   "metadata": {},
   "outputs": [],
   "source": [
    "\n",
    "            \n",
    "EMBEDDED_full_system_scf_HF.kernel = lambda mf, dm_env, dm_active, pyscf_DFT, PROJ_ortho,  conv_tol=1e-10, conv_tol_grad=None, dump_chk=True, dm0=None, callback=None, conv_check=True, **kwargs: kernel_NEW(\n",
    "    EMBEDDED_full_system_scf_HF,\n",
    "               dm_env,\n",
    "                dm_active,\n",
    "              pyscf_DFT,\n",
    "            PROJ_ortho,\n",
    "               conv_tol=1e-10,\n",
    "               conv_tol_grad=None,\n",
    "               dump_chk=True,\n",
    "                 dm0=None,\n",
    "                 callback=None, \n",
    "                 conv_check=True,\n",
    "                 **kwargs)"
   ]
  },
  {
   "cell_type": "code",
   "execution_count": null,
   "metadata": {},
   "outputs": [],
   "source": []
  },
  {
   "cell_type": "code",
   "execution_count": 575,
   "metadata": {},
   "outputs": [
    {
     "name": "stdout",
     "output_type": "stream",
     "text": [
      "[-21.94623349   2.0436437    1.66067334  -0.40877309   0.04516006\n",
      "   1.27584773   0.95616438]\n",
      "\n",
      "[-22.20088816  -0.56895382  -0.71548364   0.97979784   0.75715911\n",
      "   2.07212253   2.15876605]\n",
      "\n",
      "[-22.2101587   -0.72931643  -0.61151824   0.82493425   0.93774413\n",
      "   2.10817663   2.1725701 ]\n",
      "\n",
      "[-22.27420097  -0.77155311  -0.53619546   0.7318902    0.94051781\n",
      "   2.09923463   2.16613555]\n",
      "\n",
      "[-22.26957574  -0.76950812  -0.44065233   0.78102314   0.9526441\n",
      "   2.09964966   2.18051865]\n",
      "\n",
      "[-22.27203904  -0.77115227  -0.44549259   0.77611985   0.95223506\n",
      "   2.09921157   2.1806037 ]\n",
      "\n",
      "[-22.21894573  -0.74173995  -0.36021969   0.86221799   0.9714689\n",
      "   2.10390571   2.20147058]\n",
      "\n",
      "[-22.27153741  -0.77478454  -0.40271096   0.75454317   0.95600807\n",
      "   2.09762485   2.17810023]\n",
      "\n",
      "[-22.19423553  -0.72365164  -0.54013606   0.78885967   0.95697204\n",
      "   2.1068588    2.1693    ]\n",
      "\n",
      "[-22.19022051  -0.70934009  -0.66345354   0.81303859   0.9400591\n",
      "   2.11309679   2.16620079]\n",
      "\n",
      "[-22.21497652  -0.72952934  -0.51495772   0.85309679   0.9424357\n",
      "   2.1976626    2.11164556]\n",
      "\n",
      "[-22.21059215  -0.7341414   -0.40650976   0.87830961   0.95658099\n",
      "   2.10782267   2.18998669]\n",
      "\n",
      "[-22.2834849   -0.74716235  -0.73382844   0.76491417   0.92880782\n",
      "   2.10682712   2.16058015]\n",
      "\n",
      "[-22.30680558  -0.76137561  -0.75129374   0.75745935   0.92312789\n",
      "   2.10490362   2.16051837]\n",
      "\n",
      "[-22.34987172  -0.82084054  -0.51426574   0.65471493   0.92025188\n",
      "   2.16064764   2.09185864]\n",
      "\n",
      "[-22.25248428  -0.75810914  -0.41753669   0.84392755   0.95012564\n",
      "   2.10325884   2.19708003]\n",
      "\n",
      "[-22.18911335  -0.7262208   -0.4256495    0.87080927   0.9602192\n",
      "   2.10881864   2.20273599]\n",
      "\n",
      "[-22.18746     -0.73176212  -0.34011      0.86874923   0.97104145\n",
      "   2.10605133   2.19877135]\n",
      "\n",
      "[-22.20583156  -0.72692169  -0.41218632   0.87878287   0.9681114\n",
      "   2.10772166   2.19916202]\n",
      "\n",
      "[-22.21375421  -0.72823372  -0.45809325   0.85418502   0.96714655\n",
      "   2.10696381   2.18525302]\n",
      "\n",
      "[-22.21727606  -0.72859599  -0.49406453   0.83967984   0.96395835\n",
      "   2.10677828   2.18060248]\n",
      "\n",
      "[-22.26304875  -0.75587051  -0.42922415   0.85925738   0.95484086\n",
      "   2.10418069   2.20086882]\n",
      "\n",
      "[-22.24074163  -0.75014606  -0.4008267    0.82896426   0.96669233\n",
      "   2.1028043    2.19123763]\n",
      "\n",
      "[-22.2394789   -0.74121934  -0.47484192   0.86922447   0.95086513\n",
      "   2.10801473   2.19958001]\n",
      "\n",
      "[-22.23710856  -0.71393341  -0.57140839   0.85209417   0.93602571\n",
      "   2.11985644   2.18199181]\n",
      "\n",
      "[-22.19876789  -0.72917556  -0.605336     0.83870177   0.94589016\n",
      "   2.12147659   2.18279813]\n",
      "\n",
      "[-22.23242728  -0.76552854  -0.59160019   0.83941258   0.95104053\n",
      "   2.10212634   2.18564205]\n",
      "\n",
      "[-22.23315884  -0.7476984   -0.59917519   0.82906199   0.93359674\n",
      "   2.11018495   2.17958004]\n",
      "\n",
      "[-22.2593189   -0.82454951  -0.62268578   0.81053626   0.96777737\n",
      "   2.12101165   2.17861139]\n",
      "\n",
      "[-22.2381266   -0.82205271  -0.63427543   0.8231025    0.9549736\n",
      "   2.1081362    2.17749957]\n",
      "\n",
      "[-22.23101477  -0.83215789  -0.64587568   0.82518999   0.95176277\n",
      "   2.12683462   2.1762995 ]\n",
      "\n",
      "[-22.20289091  -0.7858661   -0.58603328   0.85046756   0.92063746\n",
      "   2.11267077   2.18101639]\n",
      "\n",
      "[-22.20894079  -0.82051812  -0.57688396   0.82836281   0.94627007\n",
      "   2.12657818   2.18022058]\n",
      "\n",
      "[-22.2100213   -0.68564899  -0.59265883   0.83911037   0.93853553\n",
      "   2.0898493    2.17531748]\n",
      "\n",
      "[-22.21161647  -0.68431934  -0.60066342   0.84442847   0.93905406\n",
      "   2.08445458   2.1802494 ]\n",
      "\n",
      "[-22.20998746  -0.70615546  -0.59745959   0.85152222   0.94208184\n",
      "   2.11351638   2.18101165]\n",
      "\n",
      "[-22.21662596  -0.74083802  -0.59724749   0.85329258   0.943174\n",
      "   2.11191623   2.17684115]\n",
      "\n",
      "[-22.21706975  -0.74978772  -0.60258013   0.85045988   0.9485935\n",
      "   2.11316631   2.18049068]\n",
      "\n",
      "[-22.2060606   -0.77004631  -0.59066099   0.83614269   0.94207064\n",
      "   2.11680395   2.17105404]\n",
      "\n",
      "[-22.19235062  -0.71081875  -0.61594484   0.84562104   0.93926421\n",
      "   2.1107445    2.17735095]\n",
      "\n",
      "[-22.18692457  -0.7074099   -0.61311203   0.85027487   0.94101699\n",
      "   2.11192106   2.17860881]\n",
      "\n",
      "[-22.19410918  -0.71785902  -0.6132493    0.83863227   0.94352698\n",
      "   2.11393687   2.17632283]\n",
      "\n",
      "[-22.19384155  -0.71869591  -0.61403044   0.83458663   0.94705467\n",
      "   2.11284921   2.17836908]\n",
      "\n",
      "[-22.2138042   -0.65317857  -0.61805755   0.83407622   0.93724321\n",
      "   2.07313645   2.16813018]\n",
      "\n",
      "[-22.21141514  -0.68628104  -0.62748486   0.84299512   0.937706\n",
      "   2.07978936   2.17703784]\n",
      "\n",
      "[-22.20596217  -0.70186318  -0.62618465   0.84881073   0.93702837\n",
      "   2.10946124   2.17731702]\n",
      "\n",
      "[-22.20098877  -0.69762097  -0.62442229   0.85004175   0.93698425\n",
      "   2.10891304   2.17750258]\n",
      "\n",
      "[-22.20346386  -0.706454    -0.62562797   0.84963956   0.93727829\n",
      "   2.11019768   2.17634001]\n",
      "\n",
      "[-22.19300751  -0.72047912  -0.6031781    0.83582296   0.92821286\n",
      "   2.09690256   2.17056806]\n",
      "\n",
      "[-22.18984234  -0.70236021  -0.62005714   0.84859999   0.9332553\n",
      "   2.1018174    2.17720347]\n",
      "\n",
      "[-22.1831169   -0.70869215  -0.6170362    0.85015292   0.94033018\n",
      "   2.11218798   2.17751867]\n",
      "\n",
      "[-22.18874238  -0.71711653  -0.61476771   0.84655379   0.94006448\n",
      "   2.11224298   2.17680449]\n",
      "\n",
      "[-22.18001815  -0.74304906  -0.60716742   0.85517839   0.9556027\n",
      "   2.1159247    2.17829219]\n",
      "\n",
      "[-22.19040722  -0.69471934  -0.60669491   0.84650784   0.92680806\n",
      "   2.10664211   2.17228175]\n",
      "\n",
      "[-22.19159083  -0.6986388   -0.62368946   0.84848469   0.93361326\n",
      "   2.11222191   2.17751574]\n",
      "\n",
      "[-22.19518097  -0.71222314  -0.62300267   0.85151277   0.93550172\n",
      "   2.10773359   2.17766043]\n",
      "\n",
      "[-22.19533677  -0.7185327   -0.62287737   0.850493     0.93828691\n",
      "   2.1117753    2.1777203 ]\n",
      "\n",
      "[-22.19523058  -0.71950072  -0.62267718   0.85059907   0.93850279\n",
      "   2.1120523    2.17773197]\n",
      "\n",
      "[-22.19438236  -0.72317805  -0.6011139    0.83774331   0.93845684\n",
      "   2.11197894   2.16980355]\n",
      "\n",
      "[-22.19285998  -0.71719001  -0.62078921   0.85200049   0.93660369\n",
      "   2.11177268   2.17720946]\n",
      "\n",
      "[-22.19234827  -0.71552105  -0.62085686   0.85017837   0.93846047\n",
      "   2.11099837   2.17753471]\n",
      "\n",
      "[-22.19252202  -0.71657302  -0.62086566   0.85007068   0.93888787\n",
      "   2.11149685   2.17753427]\n",
      "\n",
      "[-22.1917943   -0.71507043  -0.62085078   0.84999109   0.93851562\n",
      "   2.11096209   2.17750448]\n",
      "\n",
      "[-22.19067963  -0.71556095  -0.5995419    0.84028956   0.9376846\n",
      "   2.11031003   2.17015243]\n",
      "\n",
      "[-22.19047022  -0.71678813  -0.6188121    0.8555336    0.93456708\n",
      "   2.11192348   2.17695955]\n",
      "\n",
      "[-22.18984991  -0.71528785  -0.61917931   0.8516778    0.9380772\n",
      "   2.11116695   2.17768265]\n",
      "\n",
      "[-22.18940027  -0.71703071  -0.61915881   0.85155289   0.93958658\n",
      "   2.11169007   2.17769755]\n",
      "\n",
      "[-22.1889797   -0.71755912  -0.61887142   0.85173636   0.93984658\n",
      "   2.11187799   2.17755165]\n",
      "\n",
      "[-22.18939364  -0.7179255   -0.5983772    0.83965897   0.94011199\n",
      "   2.11070582   2.169861  ]\n",
      "\n",
      "[-22.18881486  -0.71625609  -0.61919724   0.85486669   0.93588493\n",
      "   2.11195064   2.17691953]\n",
      "\n",
      "[-22.18904386  -0.71595428  -0.61974528   0.85134299   0.93915024\n",
      "   2.11158541   2.17757456]\n",
      "\n",
      "[-22.18967987  -0.71549681  -0.61984935   0.85112503   0.93886347\n",
      "   2.11151683   2.17757395]\n",
      "\n",
      "[-22.19001081  -0.71459272  -0.61969461   0.85087846   0.9384056\n",
      "   2.11122865   2.17756124]\n",
      "\n",
      "[-22.18955657  -0.71554644  -0.59915036   0.84134869   0.93780216\n",
      "   2.10986774   2.17018448]\n",
      "\n",
      "[-22.18968885  -0.71523211  -0.61939709   0.85439804   0.9357315\n",
      "   2.11160516   2.17721095]\n",
      "\n",
      "[-22.18740828  -0.71589611  -0.61762054   0.85326999   0.93864796\n",
      "   2.11188019   2.17771709]\n",
      "\n",
      "[-22.18467989  -0.71885319  -0.61586531   0.85566613   0.93973392\n",
      "   2.11228892   2.17770396]\n",
      "\n",
      "[-22.19099101  -0.71207309  -0.62132662   0.85254099   0.93450595\n",
      "   2.11075584   2.17724451]\n",
      "\n",
      "[-22.18764089  -0.70523853  -0.60896959   0.86374831   0.92172069\n",
      "   2.10637516   2.17550591]\n",
      "\n",
      "[-22.17014968  -0.72908453  -0.61077533   0.8423249    0.9590456\n",
      "   2.11726466   2.17913068]\n",
      "\n",
      "[-22.18690527  -0.71536055  -0.5928725    0.82977653   0.95487464\n",
      "   2.11716893   2.17791722]\n",
      "\n",
      "[-22.1958069   -0.70973397  -0.61728979   0.82046717   0.95109793\n",
      "   2.11341739   2.17793255]\n",
      "\n",
      "[-22.19400205  -0.71299585  -0.61304635   0.79743335   0.94948407\n",
      "   2.1153246    2.17952318]\n",
      "\n",
      "[-22.19977895  -0.71254505  -0.6291605    0.79069112   0.94174312\n",
      "   2.11506618   2.1782511 ]\n",
      "\n",
      "[-22.19629866  -0.71483588  -0.63530481   0.79013102   0.94503552\n",
      "   2.11738585   2.17718019]\n",
      "\n",
      "[-22.1442313   -0.70765149  -0.54878299   0.8157656    0.97095303\n",
      "   2.11965669   2.18538286]\n",
      "\n",
      "[-22.1744797   -0.70225665  -0.6012592    0.7879007    0.9495506\n",
      "   2.11778027   2.18128652]\n",
      "\n",
      "[-22.17356079  -0.70256612  -0.60325813   0.7880671    0.94539755\n",
      "   2.12037844   2.18154659]\n",
      "\n",
      "[-22.17113711  -0.70165465  -0.60728541   0.78768442   0.94537441\n",
      "   2.12145979   2.18044092]\n",
      "\n"
     ]
    },
    {
     "name": "stdout",
     "output_type": "stream",
     "text": [
      "[-22.20344332  -0.71039081  -0.63705638   0.78126191   0.93573683\n",
      "   2.11869851   2.17818268]\n",
      "\n",
      "[-22.20249871  -0.70517118  -0.63737854   0.78159582   0.93266486\n",
      "   2.11595658   2.17803005]\n",
      "\n",
      "[-22.18619524  -0.70692319  -0.6503324    0.79452568   0.93752998\n",
      "   2.11481597   2.17536256]\n",
      "\n",
      "[-22.19252707  -0.73774446  -0.64923124   0.81735022   0.95103821\n",
      "   2.12090497   2.17384043]\n",
      "\n",
      "[-22.20060897  -0.69903442  -0.64317528   0.84364345   0.92518734\n",
      "   2.10921471   2.17564765]\n",
      "\n",
      "[-22.18569859  -0.71592166  -0.64622701   0.83470333   0.93680573\n",
      "   2.11428813   2.17477459]\n",
      "\n",
      "[-22.19956929  -0.71568869  -0.63197525   0.83640758   0.93561614\n",
      "   2.10913321   2.17687792]\n",
      "\n",
      "[-22.21549686  -0.73849032  -0.62475549   0.83080879   0.94352696\n",
      "   2.1148774    2.17729634]\n",
      "\n",
      "[-22.2184132   -0.78635179  -0.62385127   0.81763716   0.96045642\n",
      "   2.14816616   2.17875333]\n",
      "\n",
      "[-22.27125638  -0.77747358  -0.62670918   0.80678305   0.92040916\n",
      "   2.13453327   2.17298191]\n",
      "\n",
      "[-22.24652127  -0.7622748   -0.65078099   0.81828231   0.93760471\n",
      "   2.13351846   2.17399919]\n",
      "\n",
      "[-22.25862402  -0.79293639  -0.63704403   0.81140028   0.94655695\n",
      "   2.13646028   2.17661895]\n",
      "\n",
      "[-22.25928416  -0.79381733  -0.63693963   0.8106226    0.94730237\n",
      "   2.13591129   2.17683466]\n",
      "\n",
      "[-22.25147772  -0.70122056  -0.63950039   0.7908805    0.93392601\n",
      "   2.07924189   2.17613819]\n",
      "\n",
      "[-22.17153522  -0.58843724  -0.62230972   0.80298851   0.92354125\n",
      "   2.09476698   2.17703376]\n",
      "\n",
      "[-22.16810985  -0.61847232  -0.69498521   0.81666646   0.96655196\n",
      "   2.12997002   2.17811436]\n",
      "\n",
      "[-22.24181694  -0.80325009  -0.62292367   0.83563256   0.95967061\n",
      "   2.10601437   2.16886744]\n",
      "\n",
      "[-22.22351699  -0.76166918  -0.64173936   0.82887627   0.95218894\n",
      "   2.11777435   2.17613142]\n",
      "\n",
      "[-22.19103809  -0.66385354  -0.6050924    0.84269451   0.94212954\n",
      "   2.10403063   2.17983004]\n",
      "\n",
      "[-22.25335072  -0.81976705  -0.64115652   0.79688257   0.94833898\n",
      "   2.17579608   2.1210892 ]\n",
      "\n",
      "[-22.20365268  -0.67417401  -0.63483281   0.81325418   0.93048077\n",
      "   2.11113421   2.17615736]\n",
      "\n",
      "[-22.20763585  -0.70182304  -0.63161331   0.81258782   0.93948951\n",
      "   2.11722495   2.17784511]\n",
      "\n",
      "[-22.19154084  -0.71912873  -0.62722988   0.81997796   0.94332356\n",
      "   2.11339154   2.17824086]\n",
      "\n",
      "[-22.18073385  -0.71369198  -0.60865693   0.83643351   0.92495684\n",
      "   2.10637483   2.17677171]\n",
      "\n",
      "[-22.20033079  -0.69061775  -0.61425483   0.82676636   0.9379419\n",
      "   2.09980426   2.17777628]\n",
      "\n",
      "[-22.20027331  -0.71295414  -0.60824532   0.82916384   0.93521751\n",
      "   2.10818687   2.17829385]\n",
      "\n",
      "[-22.19898309  -0.71127863  -0.62593496   0.80562436   0.94966441\n",
      "   2.11590392   2.17541193]\n",
      "\n",
      "[-22.17527194  -0.68064498  -0.58902187   0.80667257   0.9502375\n",
      "   2.09988224   2.18159737]\n",
      "\n",
      "[-22.06812431  -0.56404899  -0.54065331   0.83240387   0.9153848\n",
      "   2.10643358   2.18295709]\n",
      "\n",
      "[-22.1476938   -0.71659985  -0.6195703    0.81205012   0.95289088\n",
      "   2.13084518   2.17766582]\n",
      "\n",
      "[-22.18014649  -0.81099275  -0.56882638   0.82125305   0.96326356\n",
      "   2.13376426   2.18348444]\n",
      "\n",
      "[-22.15382275  -0.7276938   -0.58294343   0.81078185   0.95346064\n",
      "   2.12248436   2.178978  ]\n",
      "\n",
      "[-22.16366634  -0.72485033  -0.62993898   0.79145893   0.95413276\n",
      "   2.12034685   2.17818006]\n",
      "\n",
      "[-22.21572815  -0.81125066  -0.60460681   0.78665824   0.98779732\n",
      "   2.12887218   2.18175046]\n",
      "\n",
      "[-22.19464241  -0.74072631  -0.60282513   0.78925662   0.95846836\n",
      "   2.12447249   2.17881019]\n",
      "\n",
      "[-22.21440394  -0.70255516  -0.62983424   0.79465953   0.93668852\n",
      "   2.11245397   2.17764272]\n",
      "\n",
      "[-22.20284697  -0.70533176  -0.63259572   0.81815602   0.93526909\n",
      "   2.10977323   2.17665113]\n",
      "\n",
      "[-22.2016456   -0.72122875  -0.63021097   0.81662973   0.93678521\n",
      "   2.11213145   2.17555422]\n",
      "\n",
      "[-22.20722862  -0.74673383  -0.60791281   0.82084514   0.93948669\n",
      "   2.11033562   2.17611964]\n",
      "\n",
      "[-22.18446986  -0.78177367  -0.59735471   0.82375549   0.96594066\n",
      "   2.12097913   2.17764301]\n",
      "\n",
      "[-22.21651248  -0.69947794  -0.64683823   0.80504008   0.92598859\n",
      "   2.12077933   2.17552554]\n",
      "\n",
      "[-22.1960203   -0.69862435  -0.60904517   0.81512705   0.93248073\n",
      "   2.10380808   2.17658541]\n",
      "\n",
      "[-22.19224641  -0.68702805  -0.62481359   0.82545886   0.92723764\n",
      "   2.11618926   2.17453414]\n",
      "\n",
      "[-22.19345582  -0.68356889  -0.64399457   0.80720408   0.93754058\n",
      "   2.11833038   2.17590894]\n",
      "\n",
      "[-22.17730889  -0.66685181  -0.64730803   0.81421057   0.93485036\n",
      "   2.11847586   2.17636785]\n",
      "\n",
      "[-22.18603859  -0.67080119  -0.65346508   0.81147513   0.93344073\n",
      "   2.11248352   2.17558165]\n",
      "\n",
      "[-22.18889836  -0.68448276  -0.63531412   0.79104733   0.93461241\n",
      "   2.15917714   2.13169948]\n",
      "\n",
      "[-22.19599413  -0.73043054  -0.63997456   0.79238026   0.9623693\n",
      "   2.12886508   2.17727108]\n",
      "\n",
      "[-22.209618    -0.73122204  -0.65205229   0.79445698   0.95393131\n",
      "   2.11703941   2.1759849 ]\n",
      "\n",
      "[-22.20244699  -0.69110357  -0.6498191    0.79973358   0.93081191\n",
      "   2.11033659   2.17561868]\n",
      "\n",
      "[-22.20766289  -0.71008463  -0.65312317   0.8008278    0.93554172\n",
      "   2.11298513   2.17548924]\n",
      "\n",
      "[-22.21973945  -0.73357897  -0.65782879   0.7951074    0.93377494\n",
      "   2.12806839   2.16832869]\n",
      "\n",
      "[-22.18382081  -0.65382376  -0.64011485   0.81117104   0.91675731\n",
      "   2.1066068    2.17589011]\n",
      "\n",
      "[-22.19503409  -0.70129807  -0.64454511   0.79946601   0.94080911\n",
      "   2.12228828   2.17495444]\n",
      "\n",
      "[-22.19298556  -0.70937439  -0.63792566   0.7887458    0.93517435\n",
      "   2.11766901   2.17611795]\n",
      "\n",
      "[-22.21391626  -0.71210145  -0.62731018   0.79859961   0.93767415\n",
      "   2.11235244   2.17864882]\n",
      "\n",
      "[-22.18002045  -0.712389    -0.60395803   0.82069206   0.9380795\n",
      "   2.11533283   2.17911595]\n",
      "\n",
      "[-22.18308936  -0.72488006  -0.60545574   0.81017761   0.94994983\n",
      "   2.1169136    2.17970751]\n",
      "\n",
      "[-22.17822419  -0.70952116  -0.6185497    0.80348612   0.95306994\n",
      "   2.11517608   2.1786187 ]\n",
      "\n",
      "[-22.19318483  -0.71632609  -0.63870226   0.79191642   0.95061945\n",
      "   2.11869864   2.17449661]\n",
      "\n",
      "[-22.10863302  -0.62778668  -0.6043062    0.81430017   0.93830649\n",
      "   2.11771285   2.17581175]\n",
      "\n",
      "[-22.15629683  -0.67822944  -0.61516833   0.8078482    0.9521677\n",
      "   2.11549985   2.17785928]\n",
      "\n",
      "[-22.2038019   -0.68948152  -0.65192923   0.82415651   0.91868038\n",
      "   2.10706098   2.17449365]\n",
      "\n",
      "[-22.1840844   -0.69027813  -0.63812912   0.82841823   0.93471055\n",
      "   2.11389103   2.17543214]\n",
      "\n",
      "[-22.17173583  -0.68896674  -0.62832069   0.82919274   0.94285208\n",
      "   2.11612482   2.17677677]\n",
      "\n",
      "[-22.21038932  -0.70852264  -0.64886277   0.81300999   0.92889699\n",
      "   2.11287633   2.17587445]\n",
      "\n",
      "[-22.2088715   -0.72657693  -0.65430719   0.83028874   0.929362\n",
      "   2.11998431   2.17533017]\n",
      "\n",
      "[-22.23144098  -0.75649246  -0.65237284   0.80395037   0.94388428\n",
      "   2.13808139   2.17377237]\n",
      "\n",
      "[-22.2038934   -0.79486476  -0.63452229   0.82909219   0.9727816\n",
      "   2.15195945   2.17737721]\n",
      "\n",
      "[-22.22463077  -0.73416886  -0.6134396    0.82793798   0.94542994\n",
      "   2.1208175    2.17317413]\n",
      "\n",
      "[-22.21443236  -0.74906762  -0.62294308   0.84208841   0.96726514\n",
      "   2.11696332   2.17719456]\n",
      "\n",
      "[-22.21108669  -0.74407125  -0.62399415   0.84423765   0.96395072\n",
      "   2.11626148   2.17772035]\n",
      "\n",
      "[-22.22766025  -0.76399394  -0.63790792   0.83530553   0.94720638\n",
      "   2.1333666    2.17357218]\n",
      "\n",
      "[-22.20868432  -0.69206665  -0.63934107   0.82528702   0.92786324\n",
      "   2.11065077   2.17608544]\n",
      "\n",
      "[-22.20043311  -0.70098263  -0.62770477   0.83246081   0.93448645\n",
      "   2.11315118   2.17238867]\n",
      "\n",
      "[-22.197795    -0.69841989  -0.63202352   0.83047284   0.9371456\n",
      "   2.11222189   2.17714744]\n",
      "\n",
      "[-22.20268258  -0.73090412  -0.64035151   0.83199585   0.93572329\n",
      "   2.11507586   2.17502532]\n",
      "\n",
      "[-22.20622768  -0.76655346  -0.64035304   0.84050826   0.94397974\n",
      "   2.1221504    2.17626453]\n",
      "\n",
      "[-22.20360305  -0.75516369  -0.63957579   0.84234832   0.94481487\n",
      "   2.11906984   2.17659511]\n",
      "\n",
      "[-22.19911265  -0.75501669  -0.61918468   0.85212561   0.93575323\n",
      "   2.12405837   2.17153616]\n",
      "\n",
      "[-22.19019467  -0.69956162  -0.62382553   0.84419662   0.9391219\n",
      "   2.10840463   2.177865  ]\n",
      "\n",
      "[-22.18611314  -0.70329639  -0.62090706   0.8401519    0.94577044\n",
      "   2.11700985   2.17758831]\n",
      "\n",
      "[-22.19537888  -0.71678658  -0.62444489   0.83652336   0.94306667\n",
      "   2.11270177   2.17755293]\n",
      "\n",
      "[-22.19926664  -0.72113547  -0.62549704   0.80890604   0.94349034\n",
      "   2.11367102   2.17756297]\n",
      "\n",
      "[-22.19674915  -0.70788283  -0.62890649   0.80177891   0.93914365\n",
      "   2.11742777   2.17534091]\n",
      "\n",
      "[-22.19352733  -0.70349979  -0.61923646   0.80285341   0.94055961\n",
      "   2.11464023   2.17935862]\n",
      "\n",
      "[-22.1965109   -0.71233482  -0.62060855   0.80192051   0.9416328\n",
      "   2.11644303   2.1793729 ]\n",
      "\n",
      "[-22.17816452  -0.70169246  -0.5968846    0.82882206   0.94494413\n",
      "   2.11777215   2.17604804]\n",
      "\n",
      "[-22.1779304   -0.70778996  -0.61165      0.81474747   0.95107935\n",
      "   2.11530092   2.17781495]\n",
      "\n",
      "[-22.18056221  -0.71305157  -0.62316317   0.81633963   0.95043323\n",
      "   2.11435137   2.17742672]\n",
      "\n",
      "[-22.20594093  -0.70471915  -0.63814376   0.80776726   0.94541096\n",
      "   2.10655023   2.17605976]\n",
      "\n",
      "[-22.2176272   -0.72764045  -0.63755893   0.81319625   0.94283313\n",
      "   2.11713467   2.17630751]\n",
      "\n"
     ]
    },
    {
     "name": "stdout",
     "output_type": "stream",
     "text": [
      "[-22.21417265  -0.72944703  -0.63257331   0.79884164   0.93699925\n",
      "   2.1185849    2.17560498]\n",
      "\n",
      "[-22.21099662  -0.71747098  -0.58631392   0.79697774   0.95244479\n",
      "   2.10832737   2.18196207]\n",
      "\n",
      "[-22.25093696  -0.87690189  -0.54933791   0.79658297   0.99836113\n",
      "   2.12187322   2.18657251]\n",
      "\n",
      "[-22.22002163  -0.76894489  -0.5294226    0.82422087   0.94101172\n",
      "   2.11541398   2.18267857]\n",
      "\n",
      "[-22.20637811  -0.71074856  -0.53799067   0.82975734   0.94355152\n",
      "   2.10837122   2.18616661]\n",
      "\n",
      "[-22.20264197  -0.73692241  -0.52122299   0.81873859   0.94977918\n",
      "   2.11603376   2.18718809]\n",
      "\n",
      "[-22.20182554  -0.73755459  -0.5360005    0.82489288   0.95113492\n",
      "   2.12340998   2.18649343]\n",
      "\n",
      "[-22.19340402  -0.68421639  -0.54399136   0.83183198   0.93244601\n",
      "   2.11239154   2.1855928 ]\n",
      "\n",
      "[-22.19035391  -0.75419822  -0.53022252   0.84483954   0.95619912\n",
      "   2.12118261   2.18129353]\n",
      "\n",
      "[-22.15873576  -0.68014457  -0.57472218   0.84665836   0.94853974\n",
      "   2.10741147   2.18077348]\n",
      "\n",
      "[-22.17889104  -0.71028335  -0.57962653   0.81613094   0.95556648\n",
      "   2.11339202   2.18086179]\n",
      "\n",
      "[-22.13341582  -0.71261995  -0.54227846   0.84751386   0.95803786\n",
      "   2.11533838   2.18373367]\n",
      "\n",
      "[-22.21354329  -0.72894243  -0.57050414   0.83113286   0.93717141\n",
      "   2.11734654   2.17699563]\n",
      "\n",
      "[-22.22253495  -0.76513178  -0.56378367   0.82273297   0.97247406\n",
      "   2.11429281   2.18229635]\n",
      "\n",
      "[-22.22060551  -0.78153177  -0.56257544   0.82052797   0.97786432\n",
      "   2.1231322    2.18490176]\n",
      "\n",
      "[-22.18616866  -0.79377666  -0.55165073   0.82954594   0.99584471\n",
      "   2.1253161    2.18444388]\n",
      "\n",
      "[-22.22664486  -0.71202901  -0.61098224   0.83294485   0.91778159\n",
      "   2.12845214   2.17685309]\n",
      "\n",
      "[-22.22162958  -0.72917548  -0.60964423   0.83215115   0.9429831\n",
      "   2.12650152   2.17873777]\n",
      "\n",
      "[-22.20959535  -0.75856869  -0.59165677   0.8591877    0.95397361\n",
      "   2.11808815   2.18069012]\n",
      "\n"
     ]
    }
   ],
   "source": [
    "EMBEDDED_full_system_scf_HF.max_cycle = 200\n",
    "\n",
    "scf_conv, e_tot, mo_energy, mo_coeff, mo_occ = EMBEDDED_full_system_scf_HF.kernel(\n",
    "    EMBEDDED_full_system_scf_HF,\n",
    "    dm_enviro,\n",
    "    dm_active, \n",
    "    test_full_system_scf, \n",
    "    PROJ_ortho) \n"
   ]
  },
  {
   "cell_type": "code",
   "execution_count": 576,
   "metadata": {},
   "outputs": [
    {
     "data": {
      "text/plain": [
       "True"
      ]
     },
     "execution_count": 576,
     "metadata": {},
     "output_type": "execute_result"
    }
   ],
   "source": [
    "2*len(active_MO_inds) == sum(mo_occ)"
   ]
  },
  {
   "cell_type": "code",
   "execution_count": 581,
   "metadata": {},
   "outputs": [
    {
     "name": "stdout",
     "output_type": "stream",
     "text": [
      "False\n",
      "-66.99829380651367\n"
     ]
    },
    {
     "data": {
      "text/plain": [
       "array([-22.20463498,  -0.75765242,  -0.59214652,   0.85289081,\n",
       "         0.96415242,   2.11817433,   2.18467973])"
      ]
     },
     "execution_count": 581,
     "metadata": {},
     "output_type": "execute_result"
    }
   ],
   "source": [
    "print(scf_conv)\n",
    "print(e_tot)\n",
    "mo_energy"
   ]
  },
  {
   "cell_type": "code",
   "execution_count": null,
   "metadata": {},
   "outputs": [],
   "source": []
  },
  {
   "cell_type": "code",
   "execution_count": null,
   "metadata": {},
   "outputs": [],
   "source": []
  },
  {
   "cell_type": "code",
   "execution_count": null,
   "metadata": {},
   "outputs": [],
   "source": [
    "## manual projector (in HFock method - different to DFT definition!)\n",
    "\n",
    "## 1. convert to orthogonal C_matrix\n",
    "S_mat = EMBEDDED_full_system_scf_HF.get_ovlp()\n",
    "S_half = sp.linalg.fractional_matrix_power(S_mat , 0.5)\n",
    "S_neg_half = sp.linalg.fractional_matrix_power(S_mat , -0.5)\n",
    "\n",
    "Loc_Ortho = S_half@ C_all_localized_and_virt # orthogonal C matrix (localized)\n",
    "\n",
    "## 2. Define projector that projects MO orbs of subsystem B onto themselves and system A onto zero state!\n",
    "##### (do this in orthongoal C_matrix!)\n",
    "### not we only take MO environment indices!\n",
    "PROJ_ortho = np.zeros_like(S_mat)\n",
    "for MO_ind in range(C_all_localized_and_virt.shape[1]):\n",
    "    if MO_ind in enviro_MO_inds:\n",
    "        outer = np.outer(Loc_Ortho[:, MO_ind], Loc_Ortho[:, MO_ind])\n",
    "        PROJ_ortho+=outer\n",
    "    else:\n",
    "        continue\n",
    "\n",
    "print(f'''Are subsystem B (env) projected onto themselves: {\n",
    "        np.allclose(PROJ_ortho@Loc_Ortho[:, enviro_MO_inds], \n",
    "        Loc_Ortho[:, enviro_MO_inds])}''') # projected onto itself\n",
    "\n",
    "print(f'''Is subsystem A traced out?: {\n",
    "        np.allclose(PROJ_ortho@Loc_Ortho[:, active_MO_inds], \n",
    "        np.zeros_like(Loc_Ortho[:, active_MO_inds]))}''') # # projected onto zeros!\n",
    "\n",
    "\n",
    "# undo ortho part!\n",
    "PROJ_bas = S_neg_half@ PROJ_ortho  @ S_half\n",
    "\n",
    "print(f'''Are subsystem B (env) projected onto themselves: {\n",
    "        np.allclose(PROJ_bas@C_all_localized_and_virt[:, enviro_MO_inds], \n",
    "        C_all_localized_and_virt[:, enviro_MO_inds])}''') # projected onto itself\n",
    "\n",
    "print(f'''Is subsystem A traced out?: {\n",
    "        np.allclose(PROJ_bas@C_all_localized_and_virt[:, active_MO_inds], \n",
    "        np.zeros_like(C_all_localized_and_virt[:, active_MO_inds]))}''') # # projected onto zeros!\n"
   ]
  },
  {
   "cell_type": "code",
   "execution_count": null,
   "metadata": {},
   "outputs": [],
   "source": []
  },
  {
   "cell_type": "code",
   "execution_count": null,
   "metadata": {},
   "outputs": [],
   "source": [
    "def Get_V_emb_huzinaga(scf_obj, PROJ_ortho, dm_env, dm_act, S_neg_half, S_half, Hcore_rotated):\n",
    "    \n",
    "    if scf_obj.mo_coeff is not None:\n",
    "        print('HELLO')\n",
    "        dm_act_CHANGING = scf_obj.make_rdm1(mo_coeff, pyscf_obj.mo_occ)\n",
    "    else:\n",
    "        print('FIRST')\n",
    "        dm_act_CHANGING = dm_act\n",
    "#         dm_act_CHANGING= scf_obj.init_guess_by_atom() #scf_obj.init_guess_by_1e()\n",
    "#         dm_act_CHANGING= scf_obj.init_guess_by_1e()\n",
    "    \n",
    "    \n",
    "    Fock = Hcore_rotated + scf_obj.get_veff(dm=dm_act_CHANGING + dm_env)\n",
    "    Fock_ortho = S_neg_half@Fock @ S_neg_half\n",
    "    projector_ortho =  -0.5*(Fock_ortho@PROJ_ortho + PROJ_ortho@Fock_ortho) # 0.5 for restricted calc!\n",
    "    projector = S_half @ projector_ortho  @ S_half\n",
    "    \n",
    "    g_A_and_B = scf_obj.get_veff(dm=dm_act_CHANGING+dm_env)\n",
    "    g_A = scf_obj.get_veff(dm=dm_act_CHANGING)\n",
    "\n",
    "    v_emb = g_A_and_B - g_A + projector\n",
    "    \n",
    "    if scf_obj.mo_coeff is not None:\n",
    "        fock_orb_energy = scf_obj.mo_coeff.conj().T @(Fock+projector)@ scf_obj.mo_coeff\n",
    "        print(fock_orb_energy)\n",
    "    \n",
    "    return v_emb\n",
    "        \n",
    "#### 3. NEXT USING PROJECTOR in ortho basis define projector via different methods\n",
    "Hcore_rotated = EMBEDDED_full_system_scf_HF.get_hcore()\n",
    "v_emb_HFOCK = Get_V_emb_huzinaga(EMBEDDED_full_system_scf_HF,\n",
    "                                 PROJ_ortho,\n",
    "                                 dm_enviro,\n",
    "                                 dm_active,\n",
    "                                 S_neg_half,\n",
    "                                 S_half,\n",
    "                                 Hcore_rotated)\n",
    "\n",
    "projector = v_emb_HFOCK - EMBEDDED_full_system_scf_HF.get_veff(dm=dm_active+dm_enviro) + EMBEDDED_full_system_scf_HF.get_veff(dm=dm_active)\n",
    "\n",
    "##########\n",
    "# Fock_loc_basis = EMBEDDED_full_system_scf_HF.get_fock(dm=dm_active+dm_enviro)\n",
    "Fock_loc_basis = EMBEDDED_full_system_scf_HF.get_hcore() + EMBEDDED_full_system_scf_HF.get_veff(dm=dm_active+dm_enviro)\n",
    "\n",
    "\n",
    "## projector should give opposite sign val of subsytem B orbitals vs standard Fock eval\n",
    "proj_orb_energy = C_all_localized_and_virt[:, enviro_MO_inds].conj().T @projector@C_all_localized_and_virt[:, enviro_MO_inds]\n",
    "fock_orb_energy = C_all_localized_and_virt[:, enviro_MO_inds].conj().T @Fock_loc_basis@C_all_localized_and_virt[:, enviro_MO_inds]\n",
    "\n",
    "print(f''' <env| P |env> = - <env| F |env> : {np.allclose(-1*proj_orb_energy,\n",
    "                                                          fock_orb_energy)} \\n''')\n",
    "\n",
    "new_orbital_energies = np.diag(C_all_localized_and_virt.conj().T @ (Fock_loc_basis+projector) @ C_all_localized_and_virt)\n",
    "\n",
    "## expect subsystem A orbital energies to remain the SAME\n",
    "print('\\n')\n",
    "print(f'''active subsystem orbital energies the same: {np.allclose(new_orbital_energies[active_MO_inds],\n",
    "                                                    full_system_scf.mo_energy[active_MO_inds])} ''')\n",
    "\n",
    "print('actually NOW that we are using HF Fock matix this should NO LONGER MATCH DFT orb energies!!! \\n')\n",
    "\n",
    "print(f'''enviro subsystem orbital energies should be ZERO (traced out):{ \n",
    "                               np.allclose(new_orbital_energies[enviro_MO_inds],\n",
    "                                            np.zeros_like(new_orbital_energies[enviro_MO_inds]))} \\n''')\n",
    "    \n",
    "\n",
    "\n",
    "\n",
    "\n",
    "print('\\nbasically want active MOs first... then enviroment')\n",
    "print(f'active MO indices: {active_MO_inds} \\n')\n",
    "print('should appear first when orbital inds listed by energy:')\n",
    "sorted([(i, new_orbital_energies[i])for i in range(new_orbital_energies.shape[0])], key=lambda x:x[1])\n",
    "\n",
    "##########\n",
    "\n"
   ]
  },
  {
   "cell_type": "code",
   "execution_count": null,
   "metadata": {},
   "outputs": [],
   "source": [
    "bsdbsdfb"
   ]
  },
  {
   "cell_type": "code",
   "execution_count": null,
   "metadata": {},
   "outputs": [],
   "source": [
    "Hcore_rotated = EMBEDDED_full_system_scf_HF.get_hcore()\n",
    "## overwrite h_core to include embedding term!!!!\n",
    "# EMBEDDED_full_system_scf_HF.get_hcore = lambda *args: v_emb_HFOCK + Hcore_rotated\n",
    "EMBEDDED_full_system_scf_HF.get_hcore = lambda  *args: Get_V_emb_huzinaga(EMBEDDED_full_system_scf_HF,\n",
    "                                                                         PROJ_ortho,\n",
    "                                                                         dm_enviro,\n",
    "                                                                         dm_active,\n",
    "                                                                         S_neg_half,\n",
    "                                                                         S_half,\n",
    "                                                                         Hcore_rotated) + Hcore_rotated\n",
    "\n",
    "##############\n",
    "EMBEDDED_full_system_scf_HF.kernel() \n",
    "\n"
   ]
  },
  {
   "cell_type": "code",
   "execution_count": null,
   "metadata": {},
   "outputs": [],
   "source": [
    "#alg\n",
    "\n",
    "\n",
    "# guess Dmat\n",
    "# H_core = EMBEDDED_full_system_scf_HF.get_hcore()\n",
    "# D = EMBEDDED_full_system_scf_HF.init_guess_by_1e()\n",
    "D = dm_active\n",
    "# mo_coeff= C_active\n",
    "projector = S_neg_half@ PROJ_ortho  @ S_half\n",
    "\n",
    "\n",
    "max_iter = 100\n",
    "HF_energy =0\n",
    "E_previous = 0\n",
    "E_tol = 1e-6\n",
    "\n",
    "\n",
    "H_core_normal = EMBEDDED_full_system_scf_HF.get_hcore()\n",
    "H_core_MODIFIED = H_core_normal + g_A_and_B - g_A + projector\n",
    "\n",
    "for i in range(max_iter+1):\n",
    "    \n",
    "    # Build Fock Matrix\n",
    "    F_A = H_core_MODIFIED +  EMBEDDED_full_system_scf_HF.get_veff(dm=D)\n",
    "    \n",
    "    Huz_op = -0.5 * (F_A@projector + projector@F_A)\n",
    "    \n",
    "    vhf = EMBEDDED_full_system_scf_HF.get_veff(dm=D)\n",
    "    \n",
    "    F_A = H_core_MODIFIED + vhf\n",
    "    \n",
    "    ### find RHF energy\n",
    "    e1 = np.einsum('ij,ji->', H_core_MODIFIED, D)\n",
    "    e_coul = np.einsum('ij,ji->', vhf, D) * .5\n",
    "    HF_energy = e1 + e_coul + EMBEDDED_full_system_scf_HF.mol.energy_nuc()\n",
    "#     HF_energy =np.trace(H_core @ D) + np.trace(Fock @ D) + full_system_mol.energy_nuc()\n",
    "    # (no 0.5 here as included in D mat natively!)\n",
    "    \n",
    "    ### check convergence\n",
    "    if np.abs(HF_energy-E_previous)<E_tol:\n",
    "        break\n",
    "    \n",
    "    \n",
    "    mo_energy, mo_coeff = EMBEDDED_full_system_scf_HF.eig(F_A, S_mat)\n",
    "    mo_occ = EMBEDDED_full_system_scf_HF.get_occ(mo_energy, mo_coeff)\n",
    "    D = EMBEDDED_full_system_scf_HF.make_rdm1(mo_coeff=mo_coeff, mo_occ=mo_occ)\n",
    "    \n",
    "    ###\n",
    "    # supermolecular Fock matrix\n",
    "    Fock = Hcore_rotated + EMBEDDED_full_system_scf_HF.get_veff(dm=D + dm_enviro)\n",
    "    Fock_ortho = S_neg_half@Fock @ S_neg_half\n",
    "    projector_ortho =  -0.5*(Fock_ortho@PROJ_ortho + PROJ_ortho@Fock_ortho) # 0.5 for restricted calc!\n",
    "    projector = S_half @ projector_ortho  @ S_half\n",
    "    \n",
    "    Fock_emb = H_core_normal + g_A_and_B - g_A + projector + EMBEDDED_full_system_scf_HF.get_veff(dm=D)\n",
    "    proj_orb_energy = mo_coeff[:, enviro_MO_inds].conj().T @projector@mo_coeff[:, enviro_MO_inds]\n",
    "    fock_orb_energy = mo_coeff[:, enviro_MO_inds].conj().T @Fock_emb@mo_coeff[:, enviro_MO_inds]\n",
    "\n",
    "    print(f''' <env| P |env> = - <env| F |env> : {np.allclose(-1*proj_orb_energy,\n",
    "                                                              fock_orb_energy)} \\n''')\n",
    "    ###\n",
    "    \n",
    "    # if not convereged store old result\n",
    "    E_previous = HF_energy\n",
    "    \n",
    "    if i==max_iter:\n",
    "        raise ValueError('Maximum number of SCF iterations exceeded')\n",
    "        \n",
    "print(f'final RHF SCF energy {HF_energy} iteration: {i}')"
   ]
  },
  {
   "cell_type": "code",
   "execution_count": null,
   "metadata": {},
   "outputs": [],
   "source": [
    "#alg\n",
    "\n",
    "\n",
    "# guess Dmat\n",
    "# H_core = EMBEDDED_full_system_scf_HF.get_hcore()\n",
    "# D = EMBEDDED_full_system_scf_HF.init_guess_by_1e()\n",
    "D = dm_active\n",
    "# mo_coeff= C_active\n",
    "projector = S_neg_half@ PROJ_ortho  @ S_half\n",
    "\n",
    "\n",
    "max_iter = 100\n",
    "HF_energy =0\n",
    "E_previous = 0\n",
    "E_tol = 1e-6\n",
    "\n",
    "\n",
    "H_core_normal = EMBEDDED_full_system_scf_HF.get_hcore()\n",
    "for i in range(max_iter+1):\n",
    "    \n",
    "    # Build Fock Matrix\n",
    "#     H_core_MODIFIED = H_core_normal + g_A_and_B - g_A + projector\n",
    "#     F_A = H_core_MODIFIED + EMBEDDED_full_system_scf_HF.get_veff(dm=D + dm_enviro)\n",
    "\n",
    "    H_core_MODIFIED = H_core_normal + g_A_and_B - g_A + projector\n",
    "    vhf = EMBEDDED_full_system_scf_HF.get_veff(dm=D)\n",
    "    \n",
    "    F_A = H_core_MODIFIED + vhf\n",
    "    \n",
    "    ### find RHF energy\n",
    "    e1 = np.einsum('ij,ji->', H_core_MODIFIED, D)\n",
    "    e_coul = np.einsum('ij,ji->', vhf, D) * .5\n",
    "    HF_energy = e1 + e_coul + EMBEDDED_full_system_scf_HF.mol.energy_nuc()\n",
    "#     HF_energy =np.trace(H_core @ D) + np.trace(Fock @ D) + full_system_mol.energy_nuc()\n",
    "    # (no 0.5 here as included in D mat natively!)\n",
    "    \n",
    "    ### check convergence\n",
    "    if np.abs(HF_energy-E_previous)<E_tol:\n",
    "        break\n",
    "    \n",
    "    \n",
    "    mo_energy, mo_coeff = EMBEDDED_full_system_scf_HF.eig(F_A, S_mat)\n",
    "    mo_occ = EMBEDDED_full_system_scf_HF.get_occ(mo_energy, mo_coeff)\n",
    "    D = EMBEDDED_full_system_scf_HF.make_rdm1(mo_coeff=mo_coeff, mo_occ=mo_occ)\n",
    "    \n",
    "    ###\n",
    "    # supermolecular Fock matrix\n",
    "    Fock = Hcore_rotated + EMBEDDED_full_system_scf_HF.get_veff(dm=D + dm_enviro)\n",
    "    Fock_ortho = S_neg_half@Fock @ S_neg_half\n",
    "    projector_ortho =  -0.5*(Fock_ortho@PROJ_ortho + PROJ_ortho@Fock_ortho) # 0.5 for restricted calc!\n",
    "    projector = S_half @ projector_ortho  @ S_half\n",
    "    \n",
    "    Fock_emb = H_core_normal + g_A_and_B - g_A + projector + EMBEDDED_full_system_scf_HF.get_veff(dm=D)\n",
    "    proj_orb_energy = mo_coeff[:, enviro_MO_inds].conj().T @projector@mo_coeff[:, enviro_MO_inds]\n",
    "    fock_orb_energy = mo_coeff[:, enviro_MO_inds].conj().T @Fock_emb@mo_coeff[:, enviro_MO_inds]\n",
    "\n",
    "    print(f''' <env| P |env> = - <env| F |env> : {np.allclose(-1*proj_orb_energy,\n",
    "                                                              fock_orb_energy)} \\n''')\n",
    "    ###\n",
    "    \n",
    "    # if not convereged store old result\n",
    "    E_previous = HF_energy\n",
    "    \n",
    "    if i==max_iter:\n",
    "        raise ValueError('Maximum number of SCF iterations exceeded')\n",
    "        \n",
    "print(f'final RHF SCF energy {HF_energy} iteration: {i}')"
   ]
  },
  {
   "cell_type": "code",
   "execution_count": null,
   "metadata": {},
   "outputs": [],
   "source": [
    "np.trace(S_mat@(D + dm_enviro))"
   ]
  },
  {
   "cell_type": "code",
   "execution_count": null,
   "metadata": {},
   "outputs": [],
   "source": []
  },
  {
   "cell_type": "code",
   "execution_count": null,
   "metadata": {},
   "outputs": [],
   "source": [
    "print(proj_orb_energy)\n",
    "print(fock_orb_energy)"
   ]
  },
  {
   "cell_type": "code",
   "execution_count": null,
   "metadata": {},
   "outputs": [],
   "source": [
    "#alg\n",
    "\n",
    "\n",
    "# guess Dmat\n",
    "# H_core = EMBEDDED_full_system_scf_HF.get_hcore()\n",
    "# D = EMBEDDED_full_system_scf_HF.init_guess_by_1e()\n",
    "D = dm_active\n",
    "mo_coeff = C_active #C_active + C_envrio\n",
    "\n",
    "max_iter = 100\n",
    "HF_energy =0\n",
    "E_previous = 0\n",
    "E_tol = 1e-6\n",
    "\n",
    "\n",
    "H_core_normal = EMBEDDED_full_system_scf_HF.get_hcore()\n",
    "for i in range(max_iter+1):\n",
    "    \n",
    "    # Build Fock Matrix\n",
    "    C_new = mo_coeff\n",
    "    C_new[:, enviro_MO_inds] +=C_envrio\n",
    "    Loc_Ortho = S_half@ C_new \n",
    "\n",
    "    PROJ_ortho = np.zeros_like(S_mat)\n",
    "    for MO_ind in range(Loc_Ortho.shape[1]):\n",
    "        if MO_ind in enviro_MO_inds:\n",
    "            outer = np.outer(Loc_Ortho[:, MO_ind], Loc_Ortho[:, MO_ind])\n",
    "            PROJ_ortho+=outer\n",
    "    \n",
    "    Fock = H_core_normal + EMBEDDED_full_system_scf_HF.get_veff(dm=D+dm_enviro)\n",
    "    Fock_ortho = S_neg_half@Fock @ S_neg_half\n",
    "    projector_ortho =  -0.5*(Fock_ortho@PROJ_ortho + PROJ_ortho@Fock_ortho) # 0.5 for restricted calc!\n",
    "    projector = S_half @ projector_ortho  @ S_half\n",
    "    \n",
    "    v_emb = g_A_and_B - g_A + projector\n",
    "    H_core_MODIFIED = v_emb + H_core_normal\n",
    "    \n",
    "    vhf = EMBEDDED_full_system_scf_HF.get_veff(dm=D)\n",
    "    \n",
    "    ### find RHF energy\n",
    "    e1 = np.einsum('ij,ji->', H_core_MODIFIED, D)\n",
    "    e_coul = np.einsum('ij,ji->', vhf, D) * .5\n",
    "    HF_energy = e1 + e_coul + EMBEDDED_full_system_scf_HF.mol.energy_nuc()\n",
    "#     HF_energy =np.trace(H_core @ D) + np.trace(Fock @ D) + full_system_mol.energy_nuc()\n",
    "    # (no 0.5 here as included in D mat natively!)\n",
    "    \n",
    "    ### check convergence\n",
    "    if np.abs(HF_energy-E_previous)<E_tol:\n",
    "        break\n",
    "    \n",
    "    \n",
    "#     fock =  H_core_MODIFIED + EMBEDDED_full_system_scf_HF.get_veff(dm=D)\n",
    "#     fock = EMBEDDED_full_system_scf_HF.get_fock(H_core_MODIFIED, S_mat,  EMBEDDED_full_system_scf_HF.get_veff(dm=D), D)  # = h1e + vhf, no DIIS\n",
    "    Fock_emb = H_core_MODIFIED + vhf\n",
    "    \n",
    "    mo_energy, mo_coeff = EMBEDDED_full_system_scf_HF.eig(Fock_emb, S_mat)\n",
    "    mo_occ = EMBEDDED_full_system_scf_HF.get_occ(mo_energy, mo_coeff)\n",
    "    D = EMBEDDED_full_system_scf_HF.make_rdm1(mo_coeff=mo_coeff, mo_occ=mo_occ)\n",
    "    \n",
    "    ###\n",
    "    proj_orb_energy = mo_coeff[:, enviro_MO_inds].conj().T @projector@mo_coeff[:, enviro_MO_inds]\n",
    "    fock_orb_energy = mo_coeff[:, enviro_MO_inds].conj().T @fock@mo_coeff[:, enviro_MO_inds]\n",
    "\n",
    "    print(f''' <env| P |env> = - <env| F |env> : {np.allclose(-1*proj_orb_energy,\n",
    "                                                              fock_orb_energy)} \\n''')\n",
    "    ###\n",
    "    \n",
    "    # if not convereged store old result\n",
    "    E_previous = HF_energy\n",
    "    \n",
    "    if i==max_iter:\n",
    "        raise ValueError('Maximum number of SCF iterations exceeded')\n",
    "        \n",
    "print(f'final RHF SCF energy {HF_energy} iteration: {i}')"
   ]
  },
  {
   "cell_type": "code",
   "execution_count": null,
   "metadata": {},
   "outputs": [],
   "source": [
    "proj_orb_energy = mo_coeff.conj().T @projector@mo_coeff\n",
    "fock_orb_energy = mo_coeff.conj().T @fock@mo_coeff\n",
    "\n",
    "print(np.diag(proj_orb_energy))\n",
    "print(np.diag(fock_orb_energy))\n",
    "\n",
    "np.diag(mo_coeff.conj().T @(fock+projector)@mo_coeff)"
   ]
  },
  {
   "cell_type": "code",
   "execution_count": null,
   "metadata": {},
   "outputs": [],
   "source": []
  },
  {
   "cell_type": "code",
   "execution_count": null,
   "metadata": {},
   "outputs": [],
   "source": [
    "Fock =  EMBEDDED_full_system_scf_HF.get_hcore()  + EMBEDDED_full_system_scf_HF.get_veff(dm=D+dm_enviro)\n",
    "np.diag(mo_coeff.conj().T @ (Fock+projector) @ mo_coeff)\n"
   ]
  },
  {
   "cell_type": "code",
   "execution_count": null,
   "metadata": {},
   "outputs": [],
   "source": []
  },
  {
   "cell_type": "code",
   "execution_count": null,
   "metadata": {},
   "outputs": [],
   "source": []
  },
  {
   "cell_type": "code",
   "execution_count": null,
   "metadata": {},
   "outputs": [],
   "source": []
  },
  {
   "cell_type": "code",
   "execution_count": null,
   "metadata": {},
   "outputs": [],
   "source": [
    "# #alg\n",
    "\n",
    "# S = full_system_mol.intor('int1e_ovlp') # 1e- electron overlap <i|j>\n",
    "# eri_ao = full_system_mol.intor('int2e') # 2e- electron repulsion integrals in AO basis <ij|kl>\n",
    "# U = sp.linalg.fractional_matrix_power(S, -0.5)\n",
    "\n",
    "# Hcore_rotated = EMBEDDED_full_system_scf_HF.get_hcore()\n",
    "\n",
    "\n",
    "# ### GUESS\n",
    "# F_guess = Hcore_rotated\n",
    "# F_prime = U.conj().T @ F_guess @ U\n",
    "# epsilon, C_prime = np.linalg.eigh(F_prime)\n",
    "# # transofrm C_prime back to AO basis\n",
    "# C = U @ C_prime\n",
    "# # get occupied orbitals\n",
    "# n_docc = 2*len(active_MO_inds)\n",
    "\n",
    "# C_occ = C[:, :n_docc]\n",
    "# # build density matrix from occupied orbitals!\n",
    "# D = C_occ @ C_occ.T\n",
    "\n",
    "\n",
    "# ## run HFock\n",
    "# max_iter = 100\n",
    "# HF_energy =0\n",
    "# E_previous = 0\n",
    "# E_tol = 1e-6\n",
    "\n",
    "# for i in range(max_iter+1):\n",
    "\n",
    "#     # Build Fock Matrix\n",
    "# #     J_mat = np.einsum('mvls,ls -> mv', eri_ao, D, optimize=True)\n",
    "# #     K_mat = np.einsum('mlvs,ls -> mv', eri_ao, D, optimize=True)\n",
    "# #     Fock = H_core + 2*J_mat - K_mat\n",
    "    \n",
    "#     Fock = Hcore_rotated + EMBEDDED_full_system_scf_HF.get_veff(dm=D + dm_enviro)\n",
    "#     Fock_ortho = S_neg_half@Fock @ S_neg_half\n",
    "#     projector_ortho =  -0.5*(Fock_ortho@PROJ_ortho + PROJ_ortho@Fock_ortho) # 0.5 for restricted calc!\n",
    "#     projector = S_half @ projector_ortho  @ S_half\n",
    "    \n",
    "#     v_emb = g_A_and_B - g_A + projector\n",
    "    \n",
    "#     Fock =  Fock + v_emb\n",
    "    \n",
    "    \n",
    "    \n",
    "#     ### find RHF energy\n",
    "#     HF_energy = np.einsum('pq,pq ->', D, (Fock+Hcore_rotated), optimize=True) + full_system_mol.energy_nuc()\n",
    "# #     HF_energy =np.trace(H_core @ D) + np.trace(Fock @ D) + full_system_mol.energy_nuc()\n",
    "#     # (no 0.5 here as included in D mat natively!)\n",
    "    \n",
    "#     ### check convergence\n",
    "#     if np.abs(HF_energy-E_previous)<E_tol:\n",
    "#         break\n",
    "        \n",
    "        \n",
    "#     # if not convereged store old result\n",
    "#     E_previous = HF_energy\n",
    "    \n",
    "#     ## compute new orbital guess\n",
    "#     F_prime = U.conj().T @ Fock @ U\n",
    "\n",
    "#     epsilon, C_prime = np.linalg.eigh(F_prime)\n",
    "\n",
    "#     # transofrm C_prime back to AO basis\n",
    "#     C = U @ C_prime\n",
    "\n",
    "#     # get occupied orbitals\n",
    "#     C_occ = C[:, :n_docc]\n",
    "\n",
    "#     # build density matrix from occupied orbitals!\n",
    "# #     D = C_occ @ C_occ.T\n",
    "#     D = np.einsum('pi,qi->pq', C_occ, C_occ, optimize=True)\n",
    "    \n",
    "#     if i==max_iter:\n",
    "#         raise ValueError('Maximum number of SCF iterations exceeded')\n",
    "        \n",
    "# print(f'final RHF SCF energy {HF_energy} iteration: {i}')"
   ]
  },
  {
   "cell_type": "code",
   "execution_count": null,
   "metadata": {},
   "outputs": [],
   "source": [
    "print(EMBEDDED_full_system_scf_HF.mo_energy)\n",
    "print()\n",
    "print(EMBEDDED_full_system_scf_HF.mo_occ)\n",
    "\n",
    "C_active_embedd_opt = EMBEDDED_full_system_scf_HF.mo_coeff[:,EMBEDDED_full_system_scf_HF.mo_occ>0]\n",
    "HF_dm_mat = 2* C_active_embedd_opt @ C_active_embedd_opt.conj().T"
   ]
  },
  {
   "cell_type": "code",
   "execution_count": null,
   "metadata": {},
   "outputs": [],
   "source": [
    "# emb_orbs = vqe_in_dft.Draw_cube_orbital(full_system_scf,\n",
    "#                              xyz_string,\n",
    "#                              EMBEDDED_full_system_scf_HF.mo_coeff, \n",
    "#                              list(range(EMBEDDED_full_system_scf_HF.mo_coeff.shape[1])),\n",
    "#                              width=400, \n",
    "#                              height=400, \n",
    "#                              jupyter_notebook=True)"
   ]
  },
  {
   "cell_type": "code",
   "execution_count": null,
   "metadata": {},
   "outputs": [],
   "source": [
    "## CCSD calculation\n",
    "\n",
    "embedded_cc_obj = cc.CCSD(EMBEDDED_full_system_scf_HF)\n",
    "\n",
    "if projector_method == 'mu_shfit':\n",
    "    embedded_cc_obj.frozen = [i for i in range(EMBEDDED_full_system_scf_HF.mol.nao - len(enviro_MO_inds),\n",
    "                                           EMBEDDED_full_system_scf_HF.mol.nao)\n",
    "                         ]\n",
    "elif projector_method == 'huzinaga':\n",
    "#     embedded_cc_obj.frozen  = enviro_MO_inds.tolist()\n",
    "    embedded_cc_obj.frozen  = list(range(len(active_MO_inds), len(active_MO_inds)+len(enviro_MO_inds)))\n",
    "else:\n",
    "    raise ValueError(f'unknown projector method {projector_method}')\n",
    "\n",
    "\n",
    "# embedded_cc_obj.frozen = None\n",
    "e_cc, t1, t2 = embedded_cc_obj.kernel()\n",
    "\n",
    "CC_flag_check = np.isclose(EMBEDDED_full_system_scf_HF.energy_tot(dm=HF_dm_mat),\n",
    "                          embedded_cc_obj.e_hf)\n",
    "\n",
    "\n",
    "print(f'E_corr: {e_cc}')\n",
    "print(f'\\nCC hartree fock energy matches HF embedded calc: {CC_flag_check}!')\n",
    "embedded_cc_obj.e_hf\n"
   ]
  },
  {
   "cell_type": "code",
   "execution_count": null,
   "metadata": {},
   "outputs": [],
   "source": [
    "embedded_cc_obj.frozen"
   ]
  },
  {
   "cell_type": "code",
   "execution_count": null,
   "metadata": {},
   "outputs": [],
   "source": []
  },
  {
   "cell_type": "code",
   "execution_count": null,
   "metadata": {},
   "outputs": [],
   "source": [
    "WF_correction = np.einsum('ij, ij', v_emb, dm_active)\n",
    "\n",
    "E_WF = embedded_cc_obj.e_hf +e_cc  + E_env + two_e_cross - WF_correction\n",
    "E_WF \n"
   ]
  },
  {
   "cell_type": "code",
   "execution_count": null,
   "metadata": {},
   "outputs": [],
   "source": [
    "print('High level DFT in DFT error:', np.abs(E_high_lvl_DFT-my_fci.e_tot))\n",
    "print('LOW level DFT in DFT error:', np.abs(e_mf_emb-my_fci.e_tot))\n",
    "\n",
    "print('WF in DFT error:', np.abs(E_WF-my_fci.e_tot))"
   ]
  },
  {
   "cell_type": "code",
   "execution_count": null,
   "metadata": {},
   "outputs": [],
   "source": []
  },
  {
   "cell_type": "code",
   "execution_count": null,
   "metadata": {},
   "outputs": [],
   "source": []
  },
  {
   "cell_type": "code",
   "execution_count": null,
   "metadata": {},
   "outputs": [],
   "source": [
    "Fock_emb = EMBEDDED_full_system_scf_HF.get_hcore() + EMBEDDED_full_system_scf_HF.get_veff(dm=HF_dm_mat)\n",
    "\n",
    "\n",
    "print(EMBEDDED_full_system_scf_HF.mo_energy)\n",
    "print()\n",
    "orbE = C_active_embedd_opt.conj().T @ Fock_emb @ C_active_embedd_opt\n",
    "print(np.around(orbE, 7))\n",
    "\n",
    "np.allclose(EMBEDDED_full_system_scf_HF.mo_energy[:len(active_MO_inds)],\n",
    "           np.diag(orbE))\n"
   ]
  },
  {
   "cell_type": "code",
   "execution_count": null,
   "metadata": {},
   "outputs": [],
   "source": [
    "gsdfgsdf"
   ]
  },
  {
   "cell_type": "code",
   "execution_count": null,
   "metadata": {},
   "outputs": [],
   "source": []
  },
  {
   "cell_type": "code",
   "execution_count": null,
   "metadata": {},
   "outputs": [],
   "source": []
  },
  {
   "cell_type": "code",
   "execution_count": null,
   "metadata": {},
   "outputs": [],
   "source": []
  },
  {
   "cell_type": "code",
   "execution_count": null,
   "metadata": {},
   "outputs": [],
   "source": []
  },
  {
   "cell_type": "code",
   "execution_count": null,
   "metadata": {},
   "outputs": [],
   "source": []
  },
  {
   "cell_type": "code",
   "execution_count": null,
   "metadata": {},
   "outputs": [],
   "source": []
  },
  {
   "cell_type": "code",
   "execution_count": null,
   "metadata": {},
   "outputs": [],
   "source": []
  },
  {
   "cell_type": "code",
   "execution_count": null,
   "metadata": {},
   "outputs": [],
   "source": []
  },
  {
   "cell_type": "code",
   "execution_count": null,
   "metadata": {},
   "outputs": [],
   "source": []
  },
  {
   "cell_type": "markdown",
   "metadata": {},
   "source": [
    "This contains the DFT embedding term (in Veff of Hartree Fock calc)\n",
    "\n",
    "Whereas in above calc Veff contains v_emb_FOCK (defined using HFock theory!)\n",
    "\n",
    "DON'T KNOW WHICH ONE IS CORRECT"
   ]
  },
  {
   "cell_type": "code",
   "execution_count": null,
   "metadata": {},
   "outputs": [],
   "source": [
    "full_system_mol_EMBEDDED_HF = gto.Mole(atom= geometry,\n",
    "                      basis=basis,\n",
    "                       charge=charge,\n",
    "                       spin=spin,\n",
    "                      )\n",
    "full_system_mol_EMBEDDED_HF.build()\n",
    "\n",
    "# RE-DEFINE number of electrons in system\n",
    "full_system_mol_EMBEDDED_HF.nelectron = 2*len(active_MO_inds) # <------ IMPORTANT!\n",
    "\n",
    "EMBEDDED_full_system_scf_HF = scf.RHF(full_system_mol_EMBEDDED) # <---- Hartree Fock Calc!\n",
    "EMBEDDED_full_system_scf_HF.verbose=1\n",
    "EMBEDDED_full_system_scf_HF.max_memory= memory\n",
    "EMBEDDED_full_system_scf_HF.conv_tol = 1e-6\n",
    "\n",
    "\n",
    "############## include change of basis!\n",
    "Hcore_std = EMBEDDED_full_system_scf_HF.get_hcore()\n",
    "EMBEDDED_full_system_scf_HF.get_hcore = lambda *args: Get_new_Hcore(Hcore_std, \n",
    "                                                             Unitary_rot=V)\n",
    "\n",
    "\n",
    "EMBEDDED_full_system_scf_HF.get_veff = lambda mol=None, dm=None, dm_last=0, vhf_last=0, hermi=1: Get_new_Veff_HFock(\n",
    "                                                                                    EMBEDDED_full_system_scf_HF, #<-need this here for more expensive xc fucnctional@\n",
    "                                                                                       V,\n",
    "                                                                                        dm=dm)\n",
    "\n",
    "Hcore_rotated = EMBEDDED_full_system_scf_HF.get_hcore()\n",
    "\n",
    "## overwrite h_core to include embedding term!!!!\n",
    "EMBEDDED_full_system_scf_HF.get_hcore = lambda *args: v_emb + Hcore_rotated\n",
    "\n",
    "##############\n",
    "\n",
    "\n",
    "\n",
    "EMBEDDED_full_system_scf_HF.kernel() \n",
    "\n",
    "\n",
    "# # # overwrite orbs with RKS embedded orbs!\n",
    "# EMBEDDED_full_system_scf_HF.mo_coeff = full_system_scf_HIGH_LEVEL.mo_coeff\n",
    "# EMBEDDED_full_system_scf_HF.mo_occ = full_system_scf_HIGH_LEVEL.mo_occ \n",
    "# EMBEDDED_full_system_scf_HF.mo_energy = full_system_scf_HIGH_LEVEL.mo_energy\n",
    "\n",
    "# print(EMBEDDED_full_system_scf_HF.energy_elec(dm=dm_active_EMBEDDED_high_lvl)[0])\n",
    "# print(EMBEDDED_full_system_scf_HF.energy_tot(dm=dm_active_EMBEDDED_high_lvl))\n",
    "# print()\n",
    "# print(EMBEDDED_full_system_scf_HF.energy_elec()[0])\n",
    "# print(EMBEDDED_full_system_scf_HF.energy_tot())"
   ]
  },
  {
   "cell_type": "code",
   "execution_count": null,
   "metadata": {},
   "outputs": [],
   "source": []
  },
  {
   "cell_type": "code",
   "execution_count": null,
   "metadata": {},
   "outputs": [],
   "source": [
    "EMBEDDED_full_system_scf_HF.mo_energy"
   ]
  },
  {
   "cell_type": "code",
   "execution_count": null,
   "metadata": {},
   "outputs": [],
   "source": []
  },
  {
   "cell_type": "code",
   "execution_count": null,
   "metadata": {},
   "outputs": [],
   "source": [
    "# full_system_mol_EMBEDDED_HF = gto.Mole(atom= geometry,\n",
    "#                       basis=basis,\n",
    "#                        charge=charge,\n",
    "#                        spin=spin,\n",
    "#                       )\n",
    "# full_system_mol_EMBEDDED_HF.build()\n",
    "\n",
    "# # RE-DEFINE number of electrons in system\n",
    "# full_system_mol_EMBEDDED_HF.nelectron = 2*len(active_MO_inds) # <------ IMPORTANT!\n",
    "\n",
    "# EMBEDDED_full_system_scf_HF = scf.RHF(full_system_mol_EMBEDDED) # <---- Hartree Fock Calc!\n",
    "# EMBEDDED_full_system_scf_HF.verbose=1\n",
    "# EMBEDDED_full_system_scf_HF.max_memory= memory\n",
    "# EMBEDDED_full_system_scf_HF.conv_tol = 1e-6\n",
    "\n",
    "\n",
    "# ############## include change of basis!\n",
    "# Hcore_std = EMBEDDED_full_system_scf_HF.get_hcore()\n",
    "# EMBEDDED_full_system_scf_HF.get_hcore = lambda *args: Get_new_Hcore(Hcore_std, \n",
    "#                                                              Unitary_rot=V)\n",
    "\n",
    "# # mistake here with HIGH_LEVEL TERM\n",
    "# # MISTAKE!!!!!!!!!!!!!!!!!!!!!!!!!!!!!!!!!!!!!!!!!!!!!!!!!!!!!!!!! (NEED HFOCK OBJECT NOT DFT)\n",
    "# full_system_scf_HIGH_LEVEL.get_veff = lambda mol=None, dm=None, dm_last=0, vhf_last=0, hermi=1: Get_new_Veff_HFock(\n",
    "#                                                                                     EMBEDDED_full_system_scf_HF, #<-need this here for more expensive xc fucnctional@\n",
    "#                                                                                        V,\n",
    "#                                                                                         dm=dm)\n",
    "\n",
    "# Hcore_rotated = EMBEDDED_full_system_scf_HF.get_hcore()\n",
    "\n",
    "# ## overwrite h_core to include embedding term!!!!\n",
    "# EMBEDDED_full_system_scf_HF.get_hcore = lambda *args: v_emb + Hcore_rotated\n",
    "\n",
    "# ##############\n",
    "\n",
    "\n",
    "\n",
    "# EMBEDDED_full_system_scf_HF.kernel() # <------ do NOT RUN!\n",
    "\n",
    "\n",
    "# # # # overwrite orbs with RKS embedded orbs!\n",
    "# # EMBEDDED_full_system_scf_HF.mo_coeff = full_system_scf_HIGH_LEVEL.mo_coeff\n",
    "# # EMBEDDED_full_system_scf_HF.mo_occ = full_system_scf_HIGH_LEVEL.mo_occ \n",
    "# # EMBEDDED_full_system_scf_HF.mo_energy = full_system_scf_HIGH_LEVEL.mo_energy\n",
    "\n",
    "# # print(EMBEDDED_full_system_scf_HF.energy_elec(dm=dm_active_EMBEDDED_high_lvl)[0])\n",
    "# # print(EMBEDDED_full_system_scf_HF.energy_tot(dm=dm_active_EMBEDDED_high_lvl))\n",
    "# # print()\n",
    "# # print(EMBEDDED_full_system_scf_HF.energy_elec()[0])\n",
    "# # print(EMBEDDED_full_system_scf_HF.energy_tot())"
   ]
  },
  {
   "cell_type": "code",
   "execution_count": null,
   "metadata": {},
   "outputs": [],
   "source": [
    "print(EMBEDDED_full_system_scf_HF.mo_energy)\n",
    "print(EMBEDDED_full_system_scf_HF.mo_occ)\n",
    "\n",
    "C_active_embedd_opt = EMBEDDED_full_system_scf_HF.mo_coeff[:,EMBEDDED_full_system_scf_HF.mo_occ>0]\n",
    "HF_dm_mat = 2* C_active_embedd_opt @ C_active_embedd_opt.conj().T"
   ]
  },
  {
   "cell_type": "code",
   "execution_count": null,
   "metadata": {},
   "outputs": [],
   "source": [
    "emb_Fock = EMBEDDED_full_system_scf_HF.get_hcore() + EMBEDDED_full_system_scf_HF.get_veff(dm=HF_dm_mat)\n",
    "\n",
    "\n",
    "print(EMBEDDED_full_system_scf_HF.mo_energy)\n",
    "print()\n",
    "orbE = C_active_embedd_opt.conj().T @ emb_Fock @ C_active_embedd_opt\n",
    "print(np.around(orbE, 7))\n",
    "\n",
    "np.allclose(EMBEDDED_full_system_scf_HF.mo_energy[:len(active_MO_inds)],\n",
    "           np.diag(orbE))\n"
   ]
  },
  {
   "cell_type": "code",
   "execution_count": null,
   "metadata": {},
   "outputs": [],
   "source": [
    "# # TODO:\n",
    "\n",
    "# May have to keep re-defining Huzinaga operator to get rid of those orbitals \n",
    "# As I think one iteration of HFock undoes what the projector operator is doing\n",
    "# Need to check this though (as clearly Huz is defiend by DFT enviroment NOT the optimized one)\n",
    "# so it could actually be okay!\n",
    "\n",
    "# Just it is clear from mu shift orbs what is the environement\n",
    "# not sure if for Huz op the env orbs should be at zero energy! "
   ]
  },
  {
   "cell_type": "code",
   "execution_count": null,
   "metadata": {},
   "outputs": [],
   "source": [
    "sorted([(i, new_orbital_energies[i])for i in range(new_orbital_energies.shape[0])], key=lambda x:x[1])"
   ]
  },
  {
   "cell_type": "code",
   "execution_count": null,
   "metadata": {},
   "outputs": [],
   "source": [
    "enviro_MO_inds"
   ]
  },
  {
   "cell_type": "code",
   "execution_count": null,
   "metadata": {},
   "outputs": [],
   "source": [
    "## choose frozen from here^^^^\n",
    "print(enviro_MO_inds)\n",
    "print(f'for mu shift expect it to be the LAST {len(enviro_MO_inds)}')\n",
    "\n",
    "print(f'''for Huzinaga expect it to be positions {list(range(len(active_MO_inds), len(active_MO_inds)+len(enviro_MO_inds)))}''')\n"
   ]
  },
  {
   "cell_type": "code",
   "execution_count": null,
   "metadata": {},
   "outputs": [],
   "source": [
    "# TODO: Choice of frozen orbs for Huzinaga method could be wrong\n",
    "# need to CHECK this!"
   ]
  },
  {
   "cell_type": "code",
   "execution_count": null,
   "metadata": {},
   "outputs": [],
   "source": [
    "## CCSD calculation\n",
    "\n",
    "embedded_cc_obj = cc.CCSD(EMBEDDED_full_system_scf_HF)\n",
    "\n",
    "if projector_method == 'mu_shfit':\n",
    "    embedded_cc_obj.frozen = [i for i in range(EMBEDDED_full_system_scf_HF.mol.nao - len(enviro_MO_inds),\n",
    "                                           EMBEDDED_full_system_scf_HF.mol.nao)\n",
    "                         ]\n",
    "elif projector_method == 'huzinaga':\n",
    "    embedded_cc_obj.frozen  = enviro_MO_inds.tolist()\n",
    "#     embedded_cc_obj.frozen  = list(range(len(active_MO_inds), len(active_MO_inds)+len(enviro_MO_inds)))\n",
    "else:\n",
    "    raise ValueError(f'unknown projector method {projector_method}')\n",
    "\n",
    "\n",
    "e_cc, t1, t2 = embedded_cc_obj.kernel()\n",
    "\n",
    "CC_flag_check = np.isclose(EMBEDDED_full_system_scf_HF.energy_tot(dm=HF_dm_mat),\n",
    "                          embedded_cc_obj.e_hf)\n",
    "\n",
    "\n",
    "print(f'E_corr: {e_cc}')\n",
    "print(f'\\nCC hartree fock energy matches HF embedded calc: {CC_flag_check}!')\n",
    "embedded_cc_obj.e_hf\n"
   ]
  },
  {
   "cell_type": "code",
   "execution_count": null,
   "metadata": {},
   "outputs": [],
   "source": [
    "projector_method"
   ]
  },
  {
   "cell_type": "code",
   "execution_count": null,
   "metadata": {},
   "outputs": [],
   "source": [
    "# print('huzinaga HFock = ', -16.203577904621056)\n",
    "# print('mu_shfit HFock = ', -16.028522482287855)"
   ]
  },
  {
   "cell_type": "code",
   "execution_count": null,
   "metadata": {},
   "outputs": [],
   "source": [
    "WF_correction = np.einsum('ij, ij', v_emb, dm_active)\n",
    "\n",
    "E_WF = embedded_cc_obj.e_hf +e_cc  + E_env + two_e_cross - WF_correction\n",
    "E_WF "
   ]
  },
  {
   "cell_type": "code",
   "execution_count": null,
   "metadata": {},
   "outputs": [],
   "source": [
    "\n",
    "print('High level DFT in DFT error:', np.abs(E_high_lvl_DFT-my_fci.e_tot))\n",
    "print('LOW level DFT in DFT error:', np.abs(e_mf_emb-my_fci.e_tot))\n",
    "\n",
    "print('WF in DFT error:', np.abs(E_WF-my_fci.e_tot))"
   ]
  },
  {
   "cell_type": "code",
   "execution_count": null,
   "metadata": {},
   "outputs": [],
   "source": []
  },
  {
   "cell_type": "code",
   "execution_count": null,
   "metadata": {},
   "outputs": [],
   "source": [
    "fkaisdjlfkds"
   ]
  },
  {
   "cell_type": "code",
   "execution_count": null,
   "metadata": {},
   "outputs": [],
   "source": []
  },
  {
   "cell_type": "markdown",
   "metadata": {},
   "source": [
    "# QC part"
   ]
  },
  {
   "cell_type": "code",
   "execution_count": null,
   "metadata": {},
   "outputs": [],
   "source": [
    "N_enviroment_MOs = len(enviro_MO_inds) \n",
    "\n",
    "one_body_integrals, two_body_integrals = vqe_in_dft.Get_embedded_one_and_two_body_integrals_MO_basis(EMBEDDED_full_system_scf_HF,\n",
    "                                                                                            N_enviroment_MOs,\n",
    "                                                                                            physists_notation=phys_notation)\n",
    "\n",
    "\n",
    "print(one_body_integrals.shape)\n",
    "print(two_body_integrals.shape)"
   ]
  },
  {
   "cell_type": "code",
   "execution_count": null,
   "metadata": {},
   "outputs": [],
   "source": [
    "print(active_MO_inds)\n",
    "print(enviro_MO_inds)"
   ]
  },
  {
   "cell_type": "code",
   "execution_count": null,
   "metadata": {},
   "outputs": [],
   "source": [
    "one_body_terms, two_body_terms = vqe_in_dft.Get_SpinOrbs_from_Spatial(one_body_integrals,\n",
    "                                                                   two_body_integrals,\n",
    "                                                                   physists_notation=phys_notation,\n",
    "                                                                   EQ_Tolerance=1e-8)\n"
   ]
  },
  {
   "cell_type": "code",
   "execution_count": null,
   "metadata": {},
   "outputs": [],
   "source": [
    "Nuclear_energy =  full_system_scf.energy_nuc()\n",
    "\n",
    "H_fermionic = vqe_in_dft.Get_fermionic_H(one_body_terms, \n",
    "                                     two_body_terms, \n",
    "                                     Nuclear_energy,\n",
    "                                     core_constant=0, \n",
    "                                     physists_notation=phys_notation,\n",
    "                                        jupyter_notebook=True)\n",
    "\n",
    "\n",
    "\n",
    "len(list(H_fermionic))"
   ]
  },
  {
   "cell_type": "code",
   "execution_count": null,
   "metadata": {},
   "outputs": [],
   "source": [
    "from openfermion.linalg import get_sparse_operator\n",
    "H_sparse = get_sparse_operator(H_fermionic)\n",
    "\n",
    "\n",
    "\n",
    "\n",
    "eigvals_EMBED, eigvecs_EMBED = sp.sparse.linalg.eigsh(H_sparse, which='SA', k=1)"
   ]
  },
  {
   "cell_type": "code",
   "execution_count": null,
   "metadata": {},
   "outputs": [],
   "source": [
    "WF_correction  = np.einsum('ij, ij', v_emb, dm_active) # note different definition\n",
    "\n",
    "E_VQE = eigvals_EMBED[0]  + E_env + two_e_cross - WF_correction\n",
    "E_VQE "
   ]
  },
  {
   "cell_type": "code",
   "execution_count": null,
   "metadata": {},
   "outputs": [],
   "source": [
    "N_electrons_expected = 2*len(active_MO_inds)\n",
    "N_electrons_Q_state = np.binary_repr(np.where(np.abs(eigvecs_EMBED)>1e-2)[0][0]).count('1') \n",
    "\n",
    "print(f'expect {N_electrons_expected} electrons')\n",
    "print(f'quantum state has {N_electrons_Q_state} electrons \\n')\n",
    "\n",
    "print(f'number of electrons correct: {N_electrons_expected == N_electrons_Q_state}')"
   ]
  },
  {
   "cell_type": "code",
   "execution_count": null,
   "metadata": {},
   "outputs": [],
   "source": []
  },
  {
   "cell_type": "code",
   "execution_count": null,
   "metadata": {},
   "outputs": [],
   "source": [
    "print('High level DFT in DFT error:', np.abs(E_high_lvl_DFT-my_fci.e_tot))\n",
    "print('LOW level DFT in DFT error:', np.abs(e_mf_emb-my_fci.e_tot))\n",
    "\n",
    "\n",
    "print('WF in DFT error:', np.abs(E_WF-my_fci.e_tot))\n",
    "print('VQE error:', np.abs(E_VQE-my_fci.e_tot))"
   ]
  },
  {
   "cell_type": "code",
   "execution_count": null,
   "metadata": {},
   "outputs": [],
   "source": []
  },
  {
   "cell_type": "code",
   "execution_count": null,
   "metadata": {},
   "outputs": [],
   "source": []
  },
  {
   "cell_type": "code",
   "execution_count": null,
   "metadata": {},
   "outputs": [],
   "source": []
  },
  {
   "cell_type": "code",
   "execution_count": null,
   "metadata": {},
   "outputs": [],
   "source": []
  },
  {
   "cell_type": "code",
   "execution_count": null,
   "metadata": {},
   "outputs": [],
   "source": []
  },
  {
   "cell_type": "code",
   "execution_count": null,
   "metadata": {},
   "outputs": [],
   "source": []
  },
  {
   "cell_type": "code",
   "execution_count": null,
   "metadata": {},
   "outputs": [],
   "source": []
  },
  {
   "cell_type": "code",
   "execution_count": null,
   "metadata": {},
   "outputs": [],
   "source": []
  },
  {
   "cell_type": "code",
   "execution_count": null,
   "metadata": {},
   "outputs": [],
   "source": []
  },
  {
   "cell_type": "code",
   "execution_count": null,
   "metadata": {},
   "outputs": [],
   "source": []
  },
  {
   "cell_type": "code",
   "execution_count": null,
   "metadata": {},
   "outputs": [],
   "source": []
  },
  {
   "cell_type": "code",
   "execution_count": null,
   "metadata": {},
   "outputs": [],
   "source": []
  },
  {
   "cell_type": "code",
   "execution_count": null,
   "metadata": {},
   "outputs": [],
   "source": []
  },
  {
   "cell_type": "code",
   "execution_count": null,
   "metadata": {},
   "outputs": [],
   "source": []
  },
  {
   "cell_type": "code",
   "execution_count": null,
   "metadata": {},
   "outputs": [],
   "source": []
  },
  {
   "cell_type": "code",
   "execution_count": null,
   "metadata": {},
   "outputs": [],
   "source": []
  },
  {
   "cell_type": "code",
   "execution_count": null,
   "metadata": {},
   "outputs": [],
   "source": []
  },
  {
   "cell_type": "code",
   "execution_count": null,
   "metadata": {},
   "outputs": [],
   "source": []
  },
  {
   "cell_type": "code",
   "execution_count": null,
   "metadata": {},
   "outputs": [],
   "source": []
  },
  {
   "cell_type": "code",
   "execution_count": null,
   "metadata": {},
   "outputs": [],
   "source": []
  },
  {
   "cell_type": "code",
   "execution_count": null,
   "metadata": {},
   "outputs": [],
   "source": []
  },
  {
   "cell_type": "code",
   "execution_count": null,
   "metadata": {},
   "outputs": [],
   "source": []
  },
  {
   "cell_type": "code",
   "execution_count": null,
   "metadata": {},
   "outputs": [],
   "source": []
  }
 ],
 "metadata": {
  "kernelspec": {
   "display_name": "Python 3",
   "language": "python",
   "name": "python3"
  },
  "language_info": {
   "codemirror_mode": {
    "name": "ipython",
    "version": 3
   },
   "file_extension": ".py",
   "mimetype": "text/x-python",
   "name": "python",
   "nbconvert_exporter": "python",
   "pygments_lexer": "ipython3",
   "version": "3.7.6"
  }
 },
 "nbformat": 4,
 "nbformat_minor": 4
}
