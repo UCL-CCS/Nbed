{
 "cells": [
  {
   "cell_type": "markdown",
   "metadata": {},
   "source": [
    "# Results for paper: TITLE"
   ]
  },
  {
   "cell_type": "markdown",
   "metadata": {},
   "source": [
    "This notebook contains the script used to create results for *link*\n",
    "\n",
    "## Cyclohexane"
   ]
  },
  {
   "cell_type": "code",
   "execution_count": 12,
   "metadata": {},
   "outputs": [
    {
     "data": {
      "image/png": "[encoded data removed]",
      "text/plain": [
       "<Figure size 432x288 with 1 Axes>"
      ]
     },
     "metadata": {
      "needs_background": "light"
     },
     "output_type": "display_data"
    }
   ],
   "source": [
    "# The carbon atoms are arranged in the correct order to move along the ring.\n",
    "cyclohexane_xyz = \"\"\"\n",
    "C      1.367908000      1.836044000     -0.049671000\n",
    "C      2.329589000      3.011988000     -0.044238000\n",
    "C      3.630888000      2.632672000      0.661249000\n",
    "C      4.247092000      1.383956000      0.049671000\n",
    "C      3.285411000      0.208012000      0.044238000\n",
    "C      1.984112000      0.587328000     -0.661249000\n",
    "H      2.524936000      3.113740000     -0.900292000\n",
    "H      1.933922000      3.936128000      0.506802000\n",
    "H      3.388552000      2.469096000      1.674854000\n",
    "H      4.348450000      3.220000000      0.605369000\n",
    "H      1.030575000      1.607424000      0.972471000\n",
    "H      0.592407000      1.921052000     -0.581309000\n",
    "H      4.584425000      1.612576000     -0.972471000\n",
    "H      5.022593000      1.298948000      0.581309000\n",
    "H      2.226448000      0.750904000     -1.674854000\n",
    "H      1.266550000     -0.000000000     -0.605369000\n",
    "H      3.090064000      0.106260000      0.900292000\n",
    "H      3.681078000     -0.716128000     -0.506802000\n",
    "\"\"\"\n",
    "\n",
    "import matplotlib.pyplot as plt\n",
    "from mpl_toolkits import mplot3d\n",
    "from matplotlib import interactive\n",
    "interactive(True)\n",
    "\n",
    "# Uncomment to get an interactive plot \n",
    "# %matplotlib qt\n",
    "\n",
    "x,y,z = [],[],[]\n",
    "carbons = 6\n",
    "cyclohexane = cyclohexane_xyz.split('\\n')[1:-1]\n",
    "for line in cyclohexane:\n",
    "    items = line.split(\"     \")\n",
    "    x.append(float(items[1]))\n",
    "    y.append(float(items[2]))\n",
    "    z.append(float(items[3]))\n",
    "\n",
    "fig = plt.figure()\n",
    "ax = plt.axes(projection='3d')\n",
    "ax.scatter(x[:6], y[:6], z[:6], c=\"red\")\n",
    "ax.scatter(x[6:], y[6:], z[6:], c=\"black\")\n",
    "for i in range(carbons):\n",
    "    ax.text(x[i],y[i],z[i], '%s' %(str(i)), size=20, zorder=1, color='k')\n",
    "plt.show()"
   ]
  },
  {
   "cell_type": "code",
   "execution_count": 13,
   "metadata": {},
   "outputs": [],
   "source": [
    "# from nbed.mol_plot import draw_molecule\n",
    "\n",
    "# mol_view = draw_molecule(cyclohexane,\n",
    "#               width=400,\n",
    "#                height=400,\n",
    "#               jupyter_notebook=True)\n",
    "# mol_view.show()"
   ]
  },
  {
   "cell_type": "markdown",
   "metadata": {},
   "source": [
    "# Cyclohexane\n",
    "\n",
    "## Reference Values "
   ]
  },
  {
   "cell_type": "code",
   "execution_count": 14,
   "metadata": {},
   "outputs": [
    {
     "name": "stdout",
     "output_type": "stream",
     "text": [
      "Hartree Fock\n",
      "converged SCF energy = -74.96444758277\n"
     ]
    },
    {
     "name": "stderr",
     "output_type": "stream",
     "text": [
      "Warning: <pyscf.gto.mole.Mole object at 0x7f182fabf710> must be initialized before calling SCF.\n",
      "Initialize <pyscf.gto.mole.Mole object at 0x7f182fabf710> in <pyscf.scf.hf.RHF object at 0x7f1843b5a310>\n"
     ]
    },
    {
     "name": "stdout",
     "output_type": "stream",
     "text": [
      "\n",
      "FCI\n",
      "-75.01553018949157\n"
     ]
    }
   ],
   "source": [
    "from pyscf import scf, cc, fci, gto\n",
    "\n",
    "# print(\"Whole system DFT\")\n",
    "# ks = scf.RKS(molecule)\n",
    "# ks.conv_tol = config[\"convergence\"]\n",
    "# ks.xc = config[\"xc_functional\"]\n",
    "# whole_dft = ks.kernel()\n",
    "# print(\"\")\n",
    "\n",
    "geometr = \"./molecular_structures/water.xyz\"\n",
    "mol = gto.Mole(atom=geometr, basis='sto-3g')\n",
    "\n",
    "print(\"Hartree Fock\")\n",
    "hf = scf.RHF(mol)\n",
    "hf.conv_tol = 1e-8\n",
    "hf_energy = hf.kernel()\n",
    "print(\"\")\n",
    "\n",
    "print('FCI')\n",
    "fci = fci.FCI(hf)\n",
    "hf.conv_tol = 1e-8\n",
    "fci_energy = fci.kernel()\n",
    "print(fci_energy[0])\n",
    "\n",
    "# print(\"CCSD\")\n",
    "# ccsd = cc.CCSD(hf)\n",
    "# ccsd.conv_tol = config[\"convergence\"]\n",
    "# whole_ccsd, *_ = ccsd.kernel()\n",
    "# whole_ccsd += hf_energy"
   ]
  },
  {
   "cell_type": "code",
   "execution_count": null,
   "metadata": {},
   "outputs": [],
   "source": [
    "HC({\"IIII\":0.5, \"IIXI\":0.25, \"IIXI\":0.25, \"IIIY\":0.2, \"IZII\":0.2, \"IXII\":0.2, \"XIII\":0.5})"
   ]
  },
  {
   "cell_type": "code",
   "execution_count": 5,
   "metadata": {},
   "outputs": [],
   "source": [
    "from nbed.utils import save_ordered_xyz_file, pubchem_mol_geometry\n",
    "from pathlib import Path\n",
    "\n",
    "def find_and_save(mol_name):\n",
    "\n",
    "    if Path(f'./molecular_structures/{mol_name}.xyz').exists():\n",
    "        print(f'xyz file for {mol_name} already exists.\\n')\n",
    "        return\n",
    "\n",
    "    geo_dict = pubchem_mol_geometry(mol_name)\n",
    "    print('Molecule geometry:')\n",
    "    print(geo_dict)\n",
    "    save_ordered_xyz_file(mol_name, geo_dict, [0])\n",
    "    print(f'xyz file for {mol_name} created.\\n')"
   ]
  },
  {
   "cell_type": "code",
   "execution_count": 1,
   "metadata": {},
   "outputs": [
    {
     "name": "stderr",
     "output_type": "stream",
     "text": [
      "/home/mwilliams/anaconda3/envs/nbed/lib/python3.7/importlib/_bootstrap.py:219: RuntimeWarning: numpy.ufunc size changed, may indicate binary incompatibility. Expected 192 from C header, got 216 from PyObject\n",
      "  return f(*args, **kwds)\n",
      "/home/mwilliams/anaconda3/envs/nbed/lib/python3.7/importlib/_bootstrap.py:219: RuntimeWarning: numpy.ufunc size changed, may indicate binary incompatibility. Expected 192 from C header, got 216 from PyObject\n",
      "  return f(*args, **kwds)\n",
      "/home/mwilliams/anaconda3/envs/nbed/lib/python3.7/importlib/_bootstrap.py:219: RuntimeWarning: numpy.ufunc size changed, may indicate binary incompatibility. Expected 192 from C header, got 216 from PyObject\n",
      "  return f(*args, **kwds)\n",
      "/home/mwilliams/anaconda3/envs/nbed/lib/python3.7/importlib/_bootstrap.py:219: RuntimeWarning: numpy.ufunc size changed, may indicate binary incompatibility. Expected 192 from C header, got 216 from PyObject\n",
      "  return f(*args, **kwds)\n",
      "/home/mwilliams/anaconda3/envs/nbed/lib/python3.7/site-packages/pyscf/lib/misc.py:46: H5pyDeprecationWarning: Using default_file_mode other than 'r' is deprecated. Pass the mode to h5py.File() instead.\n",
      "  h5py.get_config().default_file_mode = 'a'\n"
     ]
    }
   ],
   "source": [
    "from openfermion import get_sparse_operator\n",
    "from scipy.sparse.linalg import eigsh\n",
    "from pathlib import Path\n",
    "from nbed.utils import save_ordered_xyz_file, pubchem_mol_geometry\n",
    "\n",
    "def ground(hamiltonian):\n",
    "    sparse_ham = get_sparse_operator(hamiltonian)\n",
    "    eigenvalue, _ = eigsh(sparse_ham, k=1, which='SA')\n",
    "    return eigenvalue[0]\n",
    "\n",
    "\n",
    "def find_and_save(mol_name):\n",
    "    if Path(f'./molecular_structures/{mol_name}.xyz').exists():\n",
    "        print(f'xyz file for {mol_name} already exists.\\n')\n",
    "        return\n",
    "\n",
    "    geo_dict = pubchem_mol_geometry(mol_name)\n",
    "    print('Molecule geometry:')\n",
    "    print(geo_dict)\n",
    "    save_ordered_xyz_file(mol_name, geo_dict, [0])\n",
    "    print(f'xyz file for {mol_name} created.\\n')\n",
    "\n",
    "def print_results(result):\n",
    "    print(f\"Qubits\\t\\t{result['mu']['n_qubits']}/{result['huz']['n_qubits']}/{result['full']['n_qubits']}\")\n",
    "    print(f\"Terms\\t\\t{result['mu']['terms']}/{result['huz']['terms']}/{result['full']['terms']}\")\n",
    "    print(f'DFT:\\t\\t{result[\"e_dft\"]}')\n",
    "    #print(f\"CCSD Emb:\\t{result['mu']['e_ccsd']}/{result['huz']['e_ccsd']}\")\n",
    "    print(f\"Exact Emb:\\t{result['mu']['ground']}/{result['huz']['ground']}\")\n",
    "\n",
    "    if result['full']['fci'] is not None:\n",
    "        print(f\"FCI:\\t\\t{result['full']['e_fci']}\")\n",
    "    else:\n",
    "        print(f\"CCSD:\\t\\t{result['full']['e_ccsd']}\")"
   ]
  },
  {
   "cell_type": "markdown",
   "metadata": {},
   "source": [
    "find_and_save('femo)"
   ]
  },
  {
   "cell_type": "code",
   "execution_count": 25,
   "metadata": {},
   "outputs": [
    {
     "name": "stdout",
     "output_type": "stream",
     "text": [
      "Molecule geometry:\n",
      "{0: ('O', (-0.6679, 1.1587, 0.257)), 1: ('O', (-0.887, -2.4483, -0.3388)), 2: ('O', (1.8623, -2.0693, 0.4696)), 3: ('O', (2.8609, 0.5414, -0.4619)), 4: ('O', (1.1222, 2.6552, 0.2574)), 5: ('O', (-3.3742, 0.9717, -0.1865)), 6: ('C', (-0.3727, -1.247, 0.23)), 7: ('C', (1.0856, -1.0709, -0.194)), 8: ('C', (-1.2211, -0.0621, -0.2375)), 9: ('C', (1.6082, 0.3151, 0.1839)), 10: ('C', (0.6388, 1.4132, -0.2534)), 11: ('C', (-2.655, -0.1577, 0.274)), 12: ('H', (-0.4248, -1.3522, 1.3206)), 13: ('H', (1.2066, -1.2487, -1.2697)), 14: ('H', (-1.2548, -0.0098, -1.3343)), 15: ('H', (1.7952, 0.3598, 1.2636)), 16: ('H', (0.5967, 1.5141, -1.344)), 17: ('H', (-2.6916, -0.1535, 1.3685)), 18: ('H', (-3.1564, -1.0581, -0.0922)), 19: ('H', (-0.8514, -2.3615, -1.3066)), 20: ('H', (1.4973, -2.9356, 0.22)), 21: ('H', (2.7165, 0.4989, -1.4227)), 22: ('H', (1.4876, 2.5033, 1.1448)), 23: ('H', (-2.9192, 1.7652, 0.144))}\n",
      "xyz file for glucose created.\n",
      "\n"
     ]
    }
   ],
   "source": [
    "find_and_save('glucose')"
   ]
  },
  {
   "cell_type": "code",
   "execution_count": 27,
   "metadata": {},
   "outputs": [],
   "source": [
    "from pathlib import Path\n",
    "from pyscf.gto import Mole\n",
    "import nbed\n",
    "from nbed.driver import NbedDriver\n",
    "from nbed.ham_builder import HamiltonianBuilder\n",
    "from nbed.ham_converter import HamiltonianConverter\n",
    "from openfermion import count_qubits\n",
    "import json\n",
    "from pyscf import cc\n",
    "\n",
    "localisation = ['spade','mullikan','boys','ipo']\n",
    "\n",
    "# Need to build paths to xyz files.\n",
    "max_atoms = 3\n",
    "\n",
    "def get_results(mol_name, n_active_atoms, localisation='pipek-mezey', qubits=None):\n",
    "    find_and_save(mol_name)\n",
    "    geometry = f'./molecular_structures/{mol_name}.xyz'\n",
    "\n",
    "    if Path(geometry).exists():\n",
    "        assert input(\"Do you want to overwrite the saved data for %s\", mol_name)\n",
    "\n",
    "    result = {}\n",
    "    # We pass these to the driver.\n",
    "    result['n_active_atoms']=n_active_atoms\n",
    "    result['localization']=localisation\n",
    "    result['basis']='sto-3g'\n",
    "    result['xc_functional']='b3lyp'\n",
    "    result['convergence']=1e-6\n",
    "    result['savefile']=None\n",
    "    result['charge']=0\n",
    "    result['mu_level_shift']=1e6\n",
    "    result['run_ccsd_emb']=False\n",
    "    result['run_fci_emb']=False\n",
    "    result['max_ram_memory']=8_000\n",
    "    result['pyscf_print_level']=1\n",
    "\n",
    "    driver = NbedDriver(geometry=geometry, projector='both', **result)\n",
    "    print(\"Driver finised.\")\n",
    "    result['e_dft'] = driver._global_rks.e_tot\n",
    "\n",
    "    # These are important but not used in the driver.\n",
    "    result['mol_name']=mol_name\n",
    "    result['transform']='jordan_wigner'\n",
    "    result['qubits'] = qubits\n",
    "\n",
    "    # Mu shift result\n",
    "    mu_builder = HamiltonianBuilder(driver._mu['scf'], driver._mu['classical_energy'], transform=result['transform'])\n",
    "    qham = mu_builder.build(qubits, taper=False)\n",
    "    result['mu'] = {}\n",
    "    result['mu']['qham'] = HamiltonianConverter(qham)._intermediate\n",
    "    result['mu']['terms'] = len(qham.terms)\n",
    "    result['mu']['n_qubits'] = count_qubits(qham)\n",
    "    result['mu']['classical_energy'] = driver._mu['classical_energy']\n",
    "    #result['mu']['e_ccsd'] = driver._mu['e_ccsd']\n",
    "    result['mu']['ground'] = ground(qham)\n",
    "\n",
    "    # Huzinaga result\n",
    "    huz_builder = HamiltonianBuilder(driver._huzinaga['scf'], driver._huzinaga['classical_energy'], transform=result['transform'])\n",
    "    qham = huz_builder.build(qubits, taper=False)\n",
    "    result['huz'] = {}\n",
    "    result['huz']['qham'] = HamiltonianConverter(qham)._intermediate\n",
    "    result['huz']['terms'] = len(qham.terms)\n",
    "    result['huz']['n_qubits'] = count_qubits(qham)\n",
    "    result['huz']['classical_energy'] = driver._huzinaga['classical_energy']\n",
    "    # result['huz']['e_ccsd'] = driver._huzinaga['e_ccsd']\n",
    "    result['huz']['ground'] = ground(qham)\n",
    "\n",
    "    full_builder = HamiltonianBuilder(driver._global_hf, transform=result['transform'])\n",
    "    full_ham = full_builder.build(qubits, taper=False)\n",
    "    result['full'] = {}\n",
    "    result['full']['terms'] = len(full_ham.terms)\n",
    "    result['full']['n_qubits'] = count_qubits(full_ham)\n",
    "    result['full']['qham'] = HamiltonianConverter(full_ham)._intermediate\n",
    "\n",
    "    # untapered_mu = mu_builder.build(taper=False)\n",
    "    # untapered_huz = huz_builder.build(taper=False)\n",
    "    # untapered_full = full_builder.build(taper=False)\n",
    "    # print(f\"Ground diff with tapering {result['mu']['ground']-ground(untapered_mu)}/{result['huz']['ground']-ground(untapered_huz)}\")\n",
    "    # print(f\"Untapered Qubits {count_qubits(untapered_mu)}/{count_qubits(untapered_huz)}/{count_qubits(untapered_full)}\")\n",
    "    # print(f\"Untapered Terms {len(untapered_mu.terms)}/{len(untapered_huz.terms)}/{len(untapered_full.terms)}\")\n",
    "\n",
    "    if result['full']['n_qubits'] < 16:\n",
    "        result['full']['ground'] = ground(full_ham)\n",
    "        result['full']['e_fci'] = driver._global_fci.e_tot\n",
    "        result['full']['e_ccsd'] = None\n",
    "    else:\n",
    "        # Whole system CCSD Eneergy\n",
    "        result['full']['ground'] = None\n",
    "\n",
    "        ccsd = cc.CCSD(driver._global_hf)\n",
    "        ccsd.conv_tol = result[\"convergence\"]\n",
    "        whole_ccsd, *_ = ccsd.kernel()\n",
    "        whole_ccsd += driver._global_hf.e_tot\n",
    "\n",
    "        result['full']['e_fci']  = None\n",
    "        result['full']['e_ccsd'] = whole_ccsd\n",
    "\n",
    "    print_results(result)\n",
    "    \n",
    "    savefile = f'../data/{mol_name}_{n_active_atoms}_{localisation}.json'\n",
    "    with open(savefile, 'w') as f:\n",
    "        json.dump(result, f, indent=4)\n",
    "        print(f'{savefile} created.')\n",
    "\n",
    "    return result\n"
   ]
  },
  {
   "cell_type": "code",
   "execution_count": 28,
   "metadata": {},
   "outputs": [
    {
     "name": "stdout",
     "output_type": "stream",
     "text": [
      "xyz file for glucose already exists.\n",
      "\n"
     ]
    }
   ],
   "source": [
    "get_results('glucose', 3, taper=False)"
   ]
  },
  {
   "cell_type": "code",
   "execution_count": 20,
   "metadata": {},
   "outputs": [
    {
     "name": "stdout",
     "output_type": "stream",
     "text": [
      "xyz file for water already exists.\n",
      "\n",
      "E(CCSD) = -75.01540889844514  E_corr = -0.05096131567517674\n",
      "Qubits\t\t10/10/11\n",
      "Terms\t\t1572/1572/1455\n",
      "DFT:\t\t-75.27815045263162\n",
      "CCSD Emb:\t-75.06274483391849/-75.0627444446012\n",
      "Exact Emb:\t-75.04506120638443/-75.04506142818616\n",
      "CCSD:\t\t-75.01540889844514\n"
     ]
    }
   ],
   "source": [
    "result = get_results(\"water\", 1, localisation='spade', taper=True)\n"
   ]
  },
  {
   "cell_type": "code",
   "execution_count": 16,
   "metadata": {},
   "outputs": [
    {
     "name": "stdout",
     "output_type": "stream",
     "text": [
      "Qubits\t\t5/7/26\n",
      "Terms\t\t62/349/15364\n",
      "DFT:\t\t-185.8976369388924\n",
      "CCSD Emb:\t-185.89089352797282/-185.89084035955764\n",
      "Exact Emb:\t-185.89079620624506/-185.89084035328216\n",
      "CCSD:\t\t-185.26927798009262\n"
     ]
    }
   ],
   "source": [
    "print_results(result)"
   ]
  },
  {
   "cell_type": "code",
   "execution_count": 26,
   "metadata": {},
   "outputs": [
    {
     "data": {
      "text/plain": [
       "array([-185.89079621])"
      ]
     },
     "execution_count": 26,
     "metadata": {},
     "output_type": "execute_result"
    }
   ],
   "source": [
    "ground(HamiltonianConverter(tap_result['mu']['qham']).openfermion)"
   ]
  },
  {
   "cell_type": "code",
   "execution_count": 27,
   "metadata": {},
   "outputs": [
    {
     "name": "stdout",
     "output_type": "stream",
     "text": [
      "xyz file for carbon dioxide already exists.\n",
      "\n",
      "E(CCSD) = -185.2692779758276  E_corr = -0.2012468993036446\n",
      "Qubits 10/10/30\n",
      "Terms 156/444/16170\n",
      "DFT Energy: -185.8976369388924\n",
      "Mu CCSD Embedding energy -185.89089352797316\n",
      "Huz CCSD Embedding energy -185.89084035955761\n",
      "CCSD Energy -185.26927797582763\n"
     ]
    }
   ],
   "source": [
    "result = get_results(\"carbon dioxide\", 1, localisation='spade', taper=False)\n",
    "ground(HamiltonianConverter(result['mu']['qham']).openfermion)"
   ]
  },
  {
   "cell_type": "code",
   "execution_count": null,
   "metadata": {},
   "outputs": [
    {
     "name": "stdout",
     "output_type": "stream",
     "text": [
      "xyz file for water already exists.\n",
      "\n"
     ]
    },
    {
     "ename": "KeyboardInterrupt",
     "evalue": "",
     "output_type": "error",
     "traceback": [
      "\u001b[0;31m---------------------------------------------------------------------------\u001b[0m",
      "\u001b[0;31mKeyboardInterrupt\u001b[0m                         Traceback (most recent call last)",
      "\u001b[0;32m/tmp/ipykernel_286069/3528699507.py\u001b[0m in \u001b[0;36m<module>\u001b[0;34m\u001b[0m\n\u001b[0;32m----> 1\u001b[0;31m \u001b[0mresult\u001b[0m \u001b[0;34m=\u001b[0m \u001b[0mget_results\u001b[0m\u001b[0;34m(\u001b[0m\u001b[0;34m\"water\"\u001b[0m\u001b[0;34m,\u001b[0m \u001b[0;36m1\u001b[0m\u001b[0;34m)\u001b[0m\u001b[0;34m\u001b[0m\u001b[0;34m\u001b[0m\u001b[0m\n\u001b[0m\u001b[1;32m      2\u001b[0m \u001b[0mdiagonalize\u001b[0m\u001b[0;34m(\u001b[0m\u001b[0mresult\u001b[0m\u001b[0;34m[\u001b[0m\u001b[0;34m'mu'\u001b[0m\u001b[0;34m]\u001b[0m\u001b[0;34m[\u001b[0m\u001b[0;34m'qham'\u001b[0m\u001b[0;34m]\u001b[0m\u001b[0;34m)\u001b[0m\u001b[0;34m\u001b[0m\u001b[0;34m\u001b[0m\u001b[0m\n",
      "\u001b[0;32m/tmp/ipykernel_286069/3455339612.py\u001b[0m in \u001b[0;36mget_results\u001b[0;34m(mol_name, n_active_atoms, localisation, qubits)\u001b[0m\n\u001b[1;32m     41\u001b[0m     \u001b[0mresult\u001b[0m\u001b[0;34m[\u001b[0m\u001b[0;34m'pyscf_print_level'\u001b[0m\u001b[0;34m]\u001b[0m\u001b[0;34m=\u001b[0m\u001b[0;36m1\u001b[0m\u001b[0;34m\u001b[0m\u001b[0;34m\u001b[0m\u001b[0m\n\u001b[1;32m     42\u001b[0m \u001b[0;34m\u001b[0m\u001b[0m\n\u001b[0;32m---> 43\u001b[0;31m     \u001b[0mdriver\u001b[0m \u001b[0;34m=\u001b[0m \u001b[0mNbedDriver\u001b[0m\u001b[0;34m(\u001b[0m\u001b[0mgeometry\u001b[0m\u001b[0;34m=\u001b[0m\u001b[0mgeometry\u001b[0m\u001b[0;34m,\u001b[0m \u001b[0mprojector\u001b[0m\u001b[0;34m=\u001b[0m\u001b[0;34m'both'\u001b[0m\u001b[0;34m,\u001b[0m \u001b[0;34m**\u001b[0m\u001b[0mresult\u001b[0m\u001b[0;34m)\u001b[0m\u001b[0;34m\u001b[0m\u001b[0;34m\u001b[0m\u001b[0m\n\u001b[0m\u001b[1;32m     44\u001b[0m     \u001b[0mresult\u001b[0m\u001b[0;34m[\u001b[0m\u001b[0;34m'e_dft'\u001b[0m\u001b[0;34m]\u001b[0m \u001b[0;34m=\u001b[0m \u001b[0mdriver\u001b[0m\u001b[0;34m.\u001b[0m\u001b[0m_global_rks\u001b[0m\u001b[0;34m.\u001b[0m\u001b[0me_tot\u001b[0m\u001b[0;34m\u001b[0m\u001b[0;34m\u001b[0m\u001b[0m\n\u001b[1;32m     45\u001b[0m \u001b[0;34m\u001b[0m\u001b[0m\n",
      "\u001b[0;32m~/anaconda3/envs/nbed/lib/python3.7/site-packages/nbed/driver.py\u001b[0m in \u001b[0;36m__init__\u001b[0;34m(self, geometry, n_active_atoms, basis, xc_functional, projector, localization, convergence, charge, mu_level_shift, run_ccsd_emb, run_fci_emb, run_virtual_localization, max_ram_memory, pyscf_print_level, savefile, unit, occupied_threshold, virtual_threshold)\u001b[0m\n\u001b[1;32m    119\u001b[0m         \u001b[0mself\u001b[0m\u001b[0;34m.\u001b[0m\u001b[0m_check_active_atoms\u001b[0m\u001b[0;34m(\u001b[0m\u001b[0;34m)\u001b[0m\u001b[0;34m\u001b[0m\u001b[0;34m\u001b[0m\u001b[0m\n\u001b[1;32m    120\u001b[0m \u001b[0;34m\u001b[0m\u001b[0m\n\u001b[0;32m--> 121\u001b[0;31m         \u001b[0mself\u001b[0m\u001b[0;34m.\u001b[0m\u001b[0membed\u001b[0m\u001b[0;34m(\u001b[0m\u001b[0;34m)\u001b[0m\u001b[0;34m\u001b[0m\u001b[0;34m\u001b[0m\u001b[0m\n\u001b[0m\u001b[1;32m    122\u001b[0m \u001b[0;34m\u001b[0m\u001b[0m\n\u001b[1;32m    123\u001b[0m     \u001b[0;32mdef\u001b[0m \u001b[0m_build_mol\u001b[0m\u001b[0;34m(\u001b[0m\u001b[0mself\u001b[0m\u001b[0;34m)\u001b[0m \u001b[0;34m->\u001b[0m \u001b[0mgto\u001b[0m\u001b[0;34m.\u001b[0m\u001b[0mmole\u001b[0m\u001b[0;34m:\u001b[0m\u001b[0;34m\u001b[0m\u001b[0;34m\u001b[0m\u001b[0m\n",
      "\u001b[0;32m~/anaconda3/envs/nbed/lib/python3.7/site-packages/nbed/driver.py\u001b[0m in \u001b[0;36membed\u001b[0;34m(self)\u001b[0m\n\u001b[1;32m    564\u001b[0m         \u001b[0mlogger\u001b[0m\u001b[0;34m.\u001b[0m\u001b[0mdebug\u001b[0m\u001b[0;34m(\u001b[0m\u001b[0;34m\"Running embedding.\"\u001b[0m\u001b[0;34m)\u001b[0m\u001b[0;34m\u001b[0m\u001b[0;34m\u001b[0m\u001b[0m\n\u001b[1;32m    565\u001b[0m         \u001b[0mself\u001b[0m\u001b[0;34m.\u001b[0m\u001b[0mlocalized_system\u001b[0m \u001b[0;34m=\u001b[0m \u001b[0mself\u001b[0m\u001b[0;34m.\u001b[0m\u001b[0mlocalize\u001b[0m\u001b[0;34m(\u001b[0m\u001b[0;34m)\u001b[0m\u001b[0;34m\u001b[0m\u001b[0;34m\u001b[0m\u001b[0m\n\u001b[0;32m--> 566\u001b[0;31m         \u001b[0mlogger\u001b[0m\u001b[0;34m.\u001b[0m\u001b[0minfo\u001b[0m\u001b[0;34m(\u001b[0m\u001b[0;34mf\"Orbital energies {self.localized_system.rks.mo_energy}\"\u001b[0m\u001b[0;34m)\u001b[0m\u001b[0;34m\u001b[0m\u001b[0;34m\u001b[0m\u001b[0m\n\u001b[0m\u001b[1;32m    567\u001b[0m \u001b[0;34m\u001b[0m\u001b[0m\n\u001b[1;32m    568\u001b[0m         \u001b[0me_nuc\u001b[0m \u001b[0;34m=\u001b[0m \u001b[0mself\u001b[0m\u001b[0;34m.\u001b[0m\u001b[0mlocalized_system\u001b[0m\u001b[0;34m.\u001b[0m\u001b[0mrks\u001b[0m\u001b[0;34m.\u001b[0m\u001b[0mmol\u001b[0m\u001b[0;34m.\u001b[0m\u001b[0menergy_nuc\u001b[0m\u001b[0;34m(\u001b[0m\u001b[0;34m)\u001b[0m\u001b[0;34m\u001b[0m\u001b[0;34m\u001b[0m\u001b[0m\n",
      "\u001b[0;32m~/anaconda3/envs/nbed/lib/python3.7/site-packages/cached_property.py\u001b[0m in \u001b[0;36m__get__\u001b[0;34m(self, obj, cls)\u001b[0m\n\u001b[1;32m     34\u001b[0m             \u001b[0;32mreturn\u001b[0m \u001b[0mself\u001b[0m\u001b[0;34m.\u001b[0m\u001b[0m_wrap_in_coroutine\u001b[0m\u001b[0;34m(\u001b[0m\u001b[0mobj\u001b[0m\u001b[0;34m)\u001b[0m\u001b[0;34m\u001b[0m\u001b[0;34m\u001b[0m\u001b[0m\n\u001b[1;32m     35\u001b[0m \u001b[0;34m\u001b[0m\u001b[0m\n\u001b[0;32m---> 36\u001b[0;31m         \u001b[0mvalue\u001b[0m \u001b[0;34m=\u001b[0m \u001b[0mobj\u001b[0m\u001b[0;34m.\u001b[0m\u001b[0m__dict__\u001b[0m\u001b[0;34m[\u001b[0m\u001b[0mself\u001b[0m\u001b[0;34m.\u001b[0m\u001b[0mfunc\u001b[0m\u001b[0;34m.\u001b[0m\u001b[0m__name__\u001b[0m\u001b[0;34m]\u001b[0m \u001b[0;34m=\u001b[0m \u001b[0mself\u001b[0m\u001b[0;34m.\u001b[0m\u001b[0mfunc\u001b[0m\u001b[0;34m(\u001b[0m\u001b[0mobj\u001b[0m\u001b[0;34m)\u001b[0m\u001b[0;34m\u001b[0m\u001b[0;34m\u001b[0m\u001b[0m\n\u001b[0m\u001b[1;32m     37\u001b[0m         \u001b[0;32mreturn\u001b[0m \u001b[0mvalue\u001b[0m\u001b[0;34m\u001b[0m\u001b[0;34m\u001b[0m\u001b[0m\n\u001b[1;32m     38\u001b[0m \u001b[0;34m\u001b[0m\u001b[0m\n",
      "\u001b[0;32m~/anaconda3/envs/nbed/lib/python3.7/site-packages/nbed/localizers/base.py\u001b[0m in \u001b[0;36mrks\u001b[0;34m(self)\u001b[0m\n\u001b[1;32m    172\u001b[0m \u001b[0;34m\u001b[0m\u001b[0m\n\u001b[1;32m    173\u001b[0m         \u001b[0;31m# fock_locbasis = _local_rks.get_hcore() + _local_rks.get_veff(dm=dm_loc)\u001b[0m\u001b[0;34m\u001b[0m\u001b[0;34m\u001b[0m\u001b[0;34m\u001b[0m\u001b[0m\n\u001b[0;32m--> 174\u001b[0;31m         \u001b[0mfock_locbasis\u001b[0m \u001b[0;34m=\u001b[0m \u001b[0mlocal_rks\u001b[0m\u001b[0;34m.\u001b[0m\u001b[0mget_fock\u001b[0m\u001b[0;34m(\u001b[0m\u001b[0mdm\u001b[0m\u001b[0;34m=\u001b[0m\u001b[0mdm_loc\u001b[0m\u001b[0;34m)\u001b[0m\u001b[0;34m\u001b[0m\u001b[0;34m\u001b[0m\u001b[0m\n\u001b[0m\u001b[1;32m    175\u001b[0m \u001b[0;34m\u001b[0m\u001b[0m\n\u001b[1;32m    176\u001b[0m         \u001b[0;31m# orbital_energies_std = _local_rks.mo_energy\u001b[0m\u001b[0;34m\u001b[0m\u001b[0;34m\u001b[0m\u001b[0;34m\u001b[0m\u001b[0m\n",
      "\u001b[0;32m~/anaconda3/envs/nbed/lib/python3.7/site-packages/pyscf/scf/hf.py\u001b[0m in \u001b[0;36mget_fock\u001b[0;34m(mf, h1e, s1e, vhf, dm, cycle, diis, diis_start_cycle, level_shift_factor, damp_factor)\u001b[0m\n\u001b[1;32m    885\u001b[0m     '''\n\u001b[1;32m    886\u001b[0m     \u001b[0;32mif\u001b[0m \u001b[0mh1e\u001b[0m \u001b[0;32mis\u001b[0m \u001b[0;32mNone\u001b[0m\u001b[0;34m:\u001b[0m \u001b[0mh1e\u001b[0m \u001b[0;34m=\u001b[0m \u001b[0mmf\u001b[0m\u001b[0;34m.\u001b[0m\u001b[0mget_hcore\u001b[0m\u001b[0;34m(\u001b[0m\u001b[0;34m)\u001b[0m\u001b[0;34m\u001b[0m\u001b[0;34m\u001b[0m\u001b[0m\n\u001b[0;32m--> 887\u001b[0;31m     \u001b[0;32mif\u001b[0m \u001b[0mvhf\u001b[0m \u001b[0;32mis\u001b[0m \u001b[0;32mNone\u001b[0m\u001b[0;34m:\u001b[0m \u001b[0mvhf\u001b[0m \u001b[0;34m=\u001b[0m \u001b[0mmf\u001b[0m\u001b[0;34m.\u001b[0m\u001b[0mget_veff\u001b[0m\u001b[0;34m(\u001b[0m\u001b[0mmf\u001b[0m\u001b[0;34m.\u001b[0m\u001b[0mmol\u001b[0m\u001b[0;34m,\u001b[0m \u001b[0mdm\u001b[0m\u001b[0;34m)\u001b[0m\u001b[0;34m\u001b[0m\u001b[0;34m\u001b[0m\u001b[0m\n\u001b[0m\u001b[1;32m    888\u001b[0m     \u001b[0mf\u001b[0m \u001b[0;34m=\u001b[0m \u001b[0mh1e\u001b[0m \u001b[0;34m+\u001b[0m \u001b[0mvhf\u001b[0m\u001b[0;34m\u001b[0m\u001b[0;34m\u001b[0m\u001b[0m\n\u001b[1;32m    889\u001b[0m     \u001b[0;32mif\u001b[0m \u001b[0mcycle\u001b[0m \u001b[0;34m<\u001b[0m \u001b[0;36m0\u001b[0m \u001b[0;32mand\u001b[0m \u001b[0mdiis\u001b[0m \u001b[0;32mis\u001b[0m \u001b[0;32mNone\u001b[0m\u001b[0;34m:\u001b[0m  \u001b[0;31m# Not inside the SCF iteration\u001b[0m\u001b[0;34m\u001b[0m\u001b[0;34m\u001b[0m\u001b[0m\n",
      "\u001b[0;32m~/anaconda3/envs/nbed/lib/python3.7/site-packages/nbed/localizers/base.py\u001b[0m in \u001b[0;36m<lambda>\u001b[0;34m(mol, dm, dm_last, vhf_last, hermi)\u001b[0m\n\u001b[1;32m    161\u001b[0m         local_rks.get_veff = (\n\u001b[1;32m    162\u001b[0m             lambda mol=None, dm=None, dm_last=0, vhf_last=0, hermi=1: self._rks_veff(\n\u001b[0;32m--> 163\u001b[0;31m                 \u001b[0mlocal_rks\u001b[0m\u001b[0;34m,\u001b[0m \u001b[0mself\u001b[0m\u001b[0;34m.\u001b[0m\u001b[0m_local_basis_transform\u001b[0m\u001b[0;34m,\u001b[0m \u001b[0mdm\u001b[0m\u001b[0;34m=\u001b[0m\u001b[0mdm\u001b[0m\u001b[0;34m,\u001b[0m \u001b[0mcheck_result\u001b[0m\u001b[0;34m=\u001b[0m\u001b[0;32mTrue\u001b[0m\u001b[0;34m\u001b[0m\u001b[0;34m\u001b[0m\u001b[0m\n\u001b[0m\u001b[1;32m    164\u001b[0m             )\n\u001b[1;32m    165\u001b[0m         )\n",
      "\u001b[0;32m~/anaconda3/envs/nbed/lib/python3.7/site-packages/nbed/localizers/base.py\u001b[0m in \u001b[0;36m_rks_veff\u001b[0;34m(self, pyscf_RKS, unitary_rot, dm, check_result)\u001b[0m\n\u001b[1;32m    230\u001b[0m         \u001b[0mvxc\u001b[0m \u001b[0;34m=\u001b[0m \u001b[0munitary_rot\u001b[0m\u001b[0;34m.\u001b[0m\u001b[0mconj\u001b[0m\u001b[0;34m(\u001b[0m\u001b[0;34m)\u001b[0m\u001b[0;34m.\u001b[0m\u001b[0mT\u001b[0m \u001b[0;34m@\u001b[0m \u001b[0mvxc\u001b[0m \u001b[0;34m@\u001b[0m \u001b[0munitary_rot\u001b[0m\u001b[0;34m\u001b[0m\u001b[0;34m\u001b[0m\u001b[0m\n\u001b[1;32m    231\u001b[0m \u001b[0;34m\u001b[0m\u001b[0m\n\u001b[0;32m--> 232\u001b[0;31m         \u001b[0mv_eff\u001b[0m \u001b[0;34m=\u001b[0m \u001b[0mdft\u001b[0m\u001b[0;34m.\u001b[0m\u001b[0mrks\u001b[0m\u001b[0;34m.\u001b[0m\u001b[0mget_veff\u001b[0m\u001b[0;34m(\u001b[0m\u001b[0mpyscf_RKS\u001b[0m\u001b[0;34m,\u001b[0m \u001b[0mdm\u001b[0m\u001b[0;34m=\u001b[0m\u001b[0mdm\u001b[0m\u001b[0;34m)\u001b[0m\u001b[0;34m\u001b[0m\u001b[0;34m\u001b[0m\u001b[0m\n\u001b[0m\u001b[1;32m    233\u001b[0m         \u001b[0;32mif\u001b[0m \u001b[0mv_eff\u001b[0m\u001b[0;34m.\u001b[0m\u001b[0mvk\u001b[0m \u001b[0;32mis\u001b[0m \u001b[0;32mnot\u001b[0m \u001b[0;32mNone\u001b[0m\u001b[0;34m:\u001b[0m\u001b[0;34m\u001b[0m\u001b[0;34m\u001b[0m\u001b[0m\n\u001b[1;32m    234\u001b[0m             \u001b[0mk_mat\u001b[0m \u001b[0;34m=\u001b[0m \u001b[0munitary_rot\u001b[0m\u001b[0;34m.\u001b[0m\u001b[0mconj\u001b[0m\u001b[0;34m(\u001b[0m\u001b[0;34m)\u001b[0m\u001b[0;34m.\u001b[0m\u001b[0mT\u001b[0m \u001b[0;34m@\u001b[0m \u001b[0mv_eff\u001b[0m\u001b[0;34m.\u001b[0m\u001b[0mvk\u001b[0m \u001b[0;34m@\u001b[0m \u001b[0munitary_rot\u001b[0m\u001b[0;34m\u001b[0m\u001b[0;34m\u001b[0m\u001b[0m\n",
      "\u001b[0;32m~/anaconda3/envs/nbed/lib/python3.7/site-packages/pyscf/dft/rks.py\u001b[0m in \u001b[0;36mget_veff\u001b[0;34m(ks, mol, dm, dm_last, vhf_last, hermi)\u001b[0m\n\u001b[1;32m     89\u001b[0m     \u001b[0;32melse\u001b[0m\u001b[0;34m:\u001b[0m\u001b[0;34m\u001b[0m\u001b[0;34m\u001b[0m\u001b[0m\n\u001b[1;32m     90\u001b[0m         \u001b[0mmax_memory\u001b[0m \u001b[0;34m=\u001b[0m \u001b[0mks\u001b[0m\u001b[0;34m.\u001b[0m\u001b[0mmax_memory\u001b[0m \u001b[0;34m-\u001b[0m \u001b[0mlib\u001b[0m\u001b[0;34m.\u001b[0m\u001b[0mcurrent_memory\u001b[0m\u001b[0;34m(\u001b[0m\u001b[0;34m)\u001b[0m\u001b[0;34m[\u001b[0m\u001b[0;36m0\u001b[0m\u001b[0;34m]\u001b[0m\u001b[0;34m\u001b[0m\u001b[0;34m\u001b[0m\u001b[0m\n\u001b[0;32m---> 91\u001b[0;31m         \u001b[0mn\u001b[0m\u001b[0;34m,\u001b[0m \u001b[0mexc\u001b[0m\u001b[0;34m,\u001b[0m \u001b[0mvxc\u001b[0m \u001b[0;34m=\u001b[0m \u001b[0mni\u001b[0m\u001b[0;34m.\u001b[0m\u001b[0mnr_rks\u001b[0m\u001b[0;34m(\u001b[0m\u001b[0mmol\u001b[0m\u001b[0;34m,\u001b[0m \u001b[0mks\u001b[0m\u001b[0;34m.\u001b[0m\u001b[0mgrids\u001b[0m\u001b[0;34m,\u001b[0m \u001b[0mks\u001b[0m\u001b[0;34m.\u001b[0m\u001b[0mxc\u001b[0m\u001b[0;34m,\u001b[0m \u001b[0mdm\u001b[0m\u001b[0;34m,\u001b[0m \u001b[0mmax_memory\u001b[0m\u001b[0;34m=\u001b[0m\u001b[0mmax_memory\u001b[0m\u001b[0;34m)\u001b[0m\u001b[0;34m\u001b[0m\u001b[0;34m\u001b[0m\u001b[0m\n\u001b[0m\u001b[1;32m     92\u001b[0m         \u001b[0;32mif\u001b[0m \u001b[0mks\u001b[0m\u001b[0;34m.\u001b[0m\u001b[0mnlc\u001b[0m \u001b[0;34m!=\u001b[0m \u001b[0;34m''\u001b[0m\u001b[0;34m:\u001b[0m\u001b[0;34m\u001b[0m\u001b[0;34m\u001b[0m\u001b[0m\n\u001b[1;32m     93\u001b[0m             \u001b[0;32massert\u001b[0m\u001b[0;34m(\u001b[0m\u001b[0;34m'VV10'\u001b[0m \u001b[0;32min\u001b[0m \u001b[0mks\u001b[0m\u001b[0;34m.\u001b[0m\u001b[0mnlc\u001b[0m\u001b[0;34m.\u001b[0m\u001b[0mupper\u001b[0m\u001b[0;34m(\u001b[0m\u001b[0;34m)\u001b[0m\u001b[0;34m)\u001b[0m\u001b[0;34m\u001b[0m\u001b[0;34m\u001b[0m\u001b[0m\n",
      "\u001b[0;32m~/anaconda3/envs/nbed/lib/python3.7/site-packages/pyscf/dft/numint.py\u001b[0m in \u001b[0;36mnr_rks\u001b[0;34m(ni, mol, grids, xc_code, dms, relativity, hermi, max_memory, verbose)\u001b[0m\n\u001b[1;32m    853\u001b[0m             \u001b[0maow\u001b[0m \u001b[0;34m=\u001b[0m \u001b[0mnumpy\u001b[0m\u001b[0;34m.\u001b[0m\u001b[0mndarray\u001b[0m\u001b[0;34m(\u001b[0m\u001b[0mao\u001b[0m\u001b[0;34m[\u001b[0m\u001b[0;36m0\u001b[0m\u001b[0;34m]\u001b[0m\u001b[0;34m.\u001b[0m\u001b[0mshape\u001b[0m\u001b[0;34m,\u001b[0m \u001b[0morder\u001b[0m\u001b[0;34m=\u001b[0m\u001b[0;34m'F'\u001b[0m\u001b[0;34m,\u001b[0m \u001b[0mbuffer\u001b[0m\u001b[0;34m=\u001b[0m\u001b[0maow\u001b[0m\u001b[0;34m)\u001b[0m\u001b[0;34m\u001b[0m\u001b[0;34m\u001b[0m\u001b[0m\n\u001b[1;32m    854\u001b[0m             \u001b[0;32mfor\u001b[0m \u001b[0midm\u001b[0m \u001b[0;32min\u001b[0m \u001b[0mrange\u001b[0m\u001b[0;34m(\u001b[0m\u001b[0mnset\u001b[0m\u001b[0;34m)\u001b[0m\u001b[0;34m:\u001b[0m\u001b[0;34m\u001b[0m\u001b[0;34m\u001b[0m\u001b[0m\n\u001b[0;32m--> 855\u001b[0;31m                 \u001b[0mrho\u001b[0m \u001b[0;34m=\u001b[0m \u001b[0mmake_rho\u001b[0m\u001b[0;34m(\u001b[0m\u001b[0midm\u001b[0m\u001b[0;34m,\u001b[0m \u001b[0mao\u001b[0m\u001b[0;34m,\u001b[0m \u001b[0mmask\u001b[0m\u001b[0;34m,\u001b[0m \u001b[0;34m'GGA'\u001b[0m\u001b[0;34m)\u001b[0m\u001b[0;34m\u001b[0m\u001b[0;34m\u001b[0m\u001b[0m\n\u001b[0m\u001b[1;32m    856\u001b[0m                 exc, vxc = ni.eval_xc(xc_code, rho, spin=0,\n\u001b[1;32m    857\u001b[0m                                       \u001b[0mrelativity\u001b[0m\u001b[0;34m=\u001b[0m\u001b[0mrelativity\u001b[0m\u001b[0;34m,\u001b[0m \u001b[0mderiv\u001b[0m\u001b[0;34m=\u001b[0m\u001b[0;36m1\u001b[0m\u001b[0;34m,\u001b[0m\u001b[0;34m\u001b[0m\u001b[0;34m\u001b[0m\u001b[0m\n",
      "\u001b[0;32m~/anaconda3/envs/nbed/lib/python3.7/site-packages/pyscf/dft/numint.py\u001b[0m in \u001b[0;36mmake_rho\u001b[0;34m(idm, ao, non0tab, xctype)\u001b[0m\n\u001b[1;32m   2026\u001b[0m             \u001b[0mndms\u001b[0m \u001b[0;34m=\u001b[0m \u001b[0mlen\u001b[0m\u001b[0;34m(\u001b[0m\u001b[0mdms\u001b[0m\u001b[0;34m)\u001b[0m\u001b[0;34m\u001b[0m\u001b[0;34m\u001b[0m\u001b[0m\n\u001b[1;32m   2027\u001b[0m             \u001b[0;32mdef\u001b[0m \u001b[0mmake_rho\u001b[0m\u001b[0;34m(\u001b[0m\u001b[0midm\u001b[0m\u001b[0;34m,\u001b[0m \u001b[0mao\u001b[0m\u001b[0;34m,\u001b[0m \u001b[0mnon0tab\u001b[0m\u001b[0;34m,\u001b[0m \u001b[0mxctype\u001b[0m\u001b[0;34m)\u001b[0m\u001b[0;34m:\u001b[0m\u001b[0;34m\u001b[0m\u001b[0;34m\u001b[0m\u001b[0m\n\u001b[0;32m-> 2028\u001b[0;31m                 \u001b[0;32mreturn\u001b[0m \u001b[0mself\u001b[0m\u001b[0;34m.\u001b[0m\u001b[0meval_rho\u001b[0m\u001b[0;34m(\u001b[0m\u001b[0mmol\u001b[0m\u001b[0;34m,\u001b[0m \u001b[0mao\u001b[0m\u001b[0;34m,\u001b[0m \u001b[0mdms\u001b[0m\u001b[0;34m[\u001b[0m\u001b[0midm\u001b[0m\u001b[0;34m]\u001b[0m\u001b[0;34m,\u001b[0m \u001b[0mnon0tab\u001b[0m\u001b[0;34m,\u001b[0m \u001b[0mxctype\u001b[0m\u001b[0;34m,\u001b[0m \u001b[0mhermi\u001b[0m\u001b[0;34m=\u001b[0m\u001b[0;36m1\u001b[0m\u001b[0;34m)\u001b[0m\u001b[0;34m\u001b[0m\u001b[0;34m\u001b[0m\u001b[0m\n\u001b[0m\u001b[1;32m   2029\u001b[0m         \u001b[0;32mreturn\u001b[0m \u001b[0mmake_rho\u001b[0m\u001b[0;34m,\u001b[0m \u001b[0mndms\u001b[0m\u001b[0;34m,\u001b[0m \u001b[0mnao\u001b[0m\u001b[0;34m\u001b[0m\u001b[0;34m\u001b[0m\u001b[0m\n\u001b[1;32m   2030\u001b[0m \u001b[0;34m\u001b[0m\u001b[0m\n",
      "\u001b[0;32m~/anaconda3/envs/nbed/lib/python3.7/site-packages/pyscf/dft/numint.py\u001b[0m in \u001b[0;36meval_rho\u001b[0;34m(self, mol, ao, dm, non0tab, xctype, hermi, verbose)\u001b[0m\n\u001b[1;32m   1973\u001b[0m     \u001b[0;34m@\u001b[0m\u001b[0mlib\u001b[0m\u001b[0;34m.\u001b[0m\u001b[0mwith_doc\u001b[0m\u001b[0;34m(\u001b[0m\u001b[0meval_rho\u001b[0m\u001b[0;34m.\u001b[0m\u001b[0m__doc__\u001b[0m\u001b[0;34m)\u001b[0m\u001b[0;34m\u001b[0m\u001b[0;34m\u001b[0m\u001b[0m\n\u001b[1;32m   1974\u001b[0m     \u001b[0;32mdef\u001b[0m \u001b[0meval_rho\u001b[0m\u001b[0;34m(\u001b[0m\u001b[0mself\u001b[0m\u001b[0;34m,\u001b[0m \u001b[0mmol\u001b[0m\u001b[0;34m,\u001b[0m \u001b[0mao\u001b[0m\u001b[0;34m,\u001b[0m \u001b[0mdm\u001b[0m\u001b[0;34m,\u001b[0m \u001b[0mnon0tab\u001b[0m\u001b[0;34m=\u001b[0m\u001b[0;32mNone\u001b[0m\u001b[0;34m,\u001b[0m \u001b[0mxctype\u001b[0m\u001b[0;34m=\u001b[0m\u001b[0;34m'LDA'\u001b[0m\u001b[0;34m,\u001b[0m \u001b[0mhermi\u001b[0m\u001b[0;34m=\u001b[0m\u001b[0;36m0\u001b[0m\u001b[0;34m,\u001b[0m \u001b[0mverbose\u001b[0m\u001b[0;34m=\u001b[0m\u001b[0;32mNone\u001b[0m\u001b[0;34m)\u001b[0m\u001b[0;34m:\u001b[0m\u001b[0;34m\u001b[0m\u001b[0;34m\u001b[0m\u001b[0m\n\u001b[0;32m-> 1975\u001b[0;31m         \u001b[0;32mreturn\u001b[0m \u001b[0meval_rho\u001b[0m\u001b[0;34m(\u001b[0m\u001b[0mmol\u001b[0m\u001b[0;34m,\u001b[0m \u001b[0mao\u001b[0m\u001b[0;34m,\u001b[0m \u001b[0mdm\u001b[0m\u001b[0;34m,\u001b[0m \u001b[0mnon0tab\u001b[0m\u001b[0;34m,\u001b[0m \u001b[0mxctype\u001b[0m\u001b[0;34m,\u001b[0m \u001b[0mhermi\u001b[0m\u001b[0;34m,\u001b[0m \u001b[0mverbose\u001b[0m\u001b[0;34m)\u001b[0m\u001b[0;34m\u001b[0m\u001b[0;34m\u001b[0m\u001b[0m\n\u001b[0m\u001b[1;32m   1976\u001b[0m \u001b[0;34m\u001b[0m\u001b[0m\n\u001b[1;32m   1977\u001b[0m     def block_loop(self, mol, grids, nao=None, deriv=0, max_memory=2000,\n",
      "\u001b[0;32m~/anaconda3/envs/nbed/lib/python3.7/site-packages/pyscf/dft/numint.py\u001b[0m in \u001b[0;36meval_rho\u001b[0;34m(mol, ao, dm, non0tab, xctype, hermi, verbose)\u001b[0m\n\u001b[1;32m    171\u001b[0m         \u001b[0;32mfor\u001b[0m \u001b[0mi\u001b[0m \u001b[0;32min\u001b[0m \u001b[0mrange\u001b[0m\u001b[0;34m(\u001b[0m\u001b[0;36m1\u001b[0m\u001b[0;34m,\u001b[0m \u001b[0;36m4\u001b[0m\u001b[0;34m)\u001b[0m\u001b[0;34m:\u001b[0m\u001b[0;34m\u001b[0m\u001b[0;34m\u001b[0m\u001b[0m\n\u001b[1;32m    172\u001b[0m             \u001b[0;31m#:rho[i] = numpy.einsum('pi,pi->p', c0, ao[i])\u001b[0m\u001b[0;34m\u001b[0m\u001b[0;34m\u001b[0m\u001b[0;34m\u001b[0m\u001b[0m\n\u001b[0;32m--> 173\u001b[0;31m             \u001b[0mrho\u001b[0m\u001b[0;34m[\u001b[0m\u001b[0mi\u001b[0m\u001b[0;34m]\u001b[0m \u001b[0;34m=\u001b[0m \u001b[0m_contract_rho\u001b[0m\u001b[0;34m(\u001b[0m\u001b[0mc0\u001b[0m\u001b[0;34m,\u001b[0m \u001b[0mao\u001b[0m\u001b[0;34m[\u001b[0m\u001b[0mi\u001b[0m\u001b[0;34m]\u001b[0m\u001b[0;34m)\u001b[0m\u001b[0;34m\u001b[0m\u001b[0;34m\u001b[0m\u001b[0m\n\u001b[0m\u001b[1;32m    174\u001b[0m             \u001b[0mrho\u001b[0m\u001b[0;34m[\u001b[0m\u001b[0mi\u001b[0m\u001b[0;34m]\u001b[0m \u001b[0;34m*=\u001b[0m \u001b[0;36m2\u001b[0m \u001b[0;31m# *2 for +c.c. in the next two lines\u001b[0m\u001b[0;34m\u001b[0m\u001b[0;34m\u001b[0m\u001b[0m\n\u001b[1;32m    175\u001b[0m             \u001b[0;31m#c1 = _dot_ao_dm(mol, ao[i], dm, non0tab, shls_slice, ao_loc)\u001b[0m\u001b[0;34m\u001b[0m\u001b[0;34m\u001b[0m\u001b[0;34m\u001b[0m\u001b[0m\n",
      "\u001b[0;32m~/anaconda3/envs/nbed/lib/python3.7/site-packages/pyscf/dft/numint.py\u001b[0m in \u001b[0;36m_contract_rho\u001b[0;34m(bra, ket)\u001b[0m\n\u001b[1;32m    654\u001b[0m                                  \u001b[0mbra\u001b[0m\u001b[0;34m.\u001b[0m\u001b[0mctypes\u001b[0m\u001b[0;34m.\u001b[0m\u001b[0mdata_as\u001b[0m\u001b[0;34m(\u001b[0m\u001b[0mctypes\u001b[0m\u001b[0;34m.\u001b[0m\u001b[0mc_void_p\u001b[0m\u001b[0;34m)\u001b[0m\u001b[0;34m,\u001b[0m\u001b[0;34m\u001b[0m\u001b[0;34m\u001b[0m\u001b[0m\n\u001b[1;32m    655\u001b[0m                                  \u001b[0mket\u001b[0m\u001b[0;34m.\u001b[0m\u001b[0mctypes\u001b[0m\u001b[0;34m.\u001b[0m\u001b[0mdata_as\u001b[0m\u001b[0;34m(\u001b[0m\u001b[0mctypes\u001b[0m\u001b[0;34m.\u001b[0m\u001b[0mc_void_p\u001b[0m\u001b[0;34m)\u001b[0m\u001b[0;34m,\u001b[0m\u001b[0;34m\u001b[0m\u001b[0;34m\u001b[0m\u001b[0m\n\u001b[0;32m--> 656\u001b[0;31m                                  ctypes.c_int(nao), ctypes.c_int(ngrids))\n\u001b[0m\u001b[1;32m    657\u001b[0m     \u001b[0;32melif\u001b[0m \u001b[0mbra\u001b[0m\u001b[0;34m.\u001b[0m\u001b[0mdtype\u001b[0m \u001b[0;34m==\u001b[0m \u001b[0mnumpy\u001b[0m\u001b[0;34m.\u001b[0m\u001b[0mcomplex128\u001b[0m \u001b[0;32mand\u001b[0m \u001b[0mket\u001b[0m\u001b[0;34m.\u001b[0m\u001b[0mdtype\u001b[0m \u001b[0;34m==\u001b[0m \u001b[0mnumpy\u001b[0m\u001b[0;34m.\u001b[0m\u001b[0mcomplex128\u001b[0m\u001b[0;34m:\u001b[0m\u001b[0;34m\u001b[0m\u001b[0;34m\u001b[0m\u001b[0m\n\u001b[1;32m    658\u001b[0m         libdft.VXC_zcontract_rho(rho.ctypes.data_as(ctypes.c_void_p),\n",
      "\u001b[0;31mKeyboardInterrupt\u001b[0m: "
     ]
    }
   ],
   "source": [
    "result = get_results(\"water\", 1)\n",
    "ground(result['mu']['qham'])"
   ]
  },
  {
   "cell_type": "code",
   "execution_count": 41,
   "metadata": {},
   "outputs": [
    {
     "name": "stdout",
     "output_type": "stream",
     "text": [
      "Qubits 30/30/42\n",
      "Terms 71656/71646/273428\n",
      "DFT Energy: -116.3862229151956\n",
      "Mu CCSD Embedding energy -116.12221411102641\n",
      "Huz CCSD Embedding energy -116.12221389527812\n",
      "CCSD Energy -115.87260806983275\n"
     ]
    }
   ],
   "source": [
    "import json\n",
    "from nbed.ham_converter import HamiltonianConverter\n",
    "\n",
    "mol_name = 'cyclopropane'\n",
    "n_active_atoms = 3\n",
    "filepath=f'../data/{mol_name}_{n_active_atoms}_pipek-mezey.json'\n",
    "with open(filepath, 'r') as f:\n",
    "    data = json.load(f)\n",
    "\n",
    "print_results(data)\n",
    "\n",
    "# if count_qubits(mu_qham) < 18:\n",
    "#     mu_qham = HamiltonianConverter(data['mu']['qham']).openfermion\n",
    "#     huz_qham = HamiltonianConverter(data['huz']['qham']).openfermion\n",
    "#     print(\"Diagonalized Ground States.\")\n",
    "#     print(f\"Mu\\tEnergy: {ground(mu_qham)}\")\n",
    "#     print(f\"Huz\\tEnergy: {ground(huz_qham)}\")\n",
    "# if count_qubits(full_qham) < 18:\n",
    "#     full_qham = HamiltonianConverter(data['full_qham']).openfermion\n",
    "#     print(f\"Full\\tEnergy: {ground(full_qham)}\")"
   ]
  },
  {
   "cell_type": "markdown",
   "metadata": {},
   "source": [
    "Cycle through molecules to output the desired info."
   ]
  },
  {
   "cell_type": "code",
   "execution_count": 9,
   "metadata": {},
   "outputs": [
    {
     "name": "stdout",
     "output_type": "stream",
     "text": [
      "Whole system DFT\n",
      "converged SCF energy = -116.386569879701\n",
      "\n",
      "Hartree Fock\n",
      "converged SCF energy = -115.66607486168\n",
      "\n",
      "CCSD\n",
      "E(CCSD) = -115.8731272952766  E_corr = -0.2070524335969255\n"
     ]
    }
   ],
   "source": [
    "from pyscf import scf, cc, gto\n",
    "\n",
    "molecule = gto.Mole(atom=geometry, charge=0).build()\n",
    "\n",
    "print(\"Whole system DFT\")\n",
    "ks = scf.RKS(molecule)\n",
    "ks.conv_tol = convergence\n",
    "ks.xc = xc_functional\n",
    "whole_dft = ks.kernel()\n",
    "print(\"\")\n",
    "\n",
    "print(\"Hartree Fock\")\n",
    "hf = scf.RHF(molecule)\n",
    "hf.conv_tol = convergence\n",
    "hf_energy = hf.kernel()\n",
    "print(\"\")\n",
    "\n",
    "print(\"CCSD\")\n",
    "ccsd = cc.CCSD(hf)\n",
    "ccsd.conv_tol = convergence\n",
    "whole_ccsd, *_ = ccsd.kernel()\n",
    "whole_ccsd += hf_energy"
   ]
  },
  {
   "cell_type": "code",
   "execution_count": 10,
   "metadata": {},
   "outputs": [
    {
     "ename": "TypeError",
     "evalue": "Failed to convert a dict to a sparse matrix.",
     "output_type": "error",
     "traceback": [
      "\u001b[0;31m---------------------------------------------------------------------------\u001b[0m",
      "\u001b[0;31mTypeError\u001b[0m                                 Traceback (most recent call last)",
      "\u001b[0;32m/tmp/ipykernel_1081947/3483694013.py\u001b[0m in \u001b[0;36m<module>\u001b[0;34m\u001b[0m\n\u001b[1;32m      6\u001b[0m \u001b[0;31m#n_qubits = [count_qubits(qham) for qham in qhams.values()]\u001b[0m\u001b[0;34m\u001b[0m\u001b[0;34m\u001b[0m\u001b[0;34m\u001b[0m\u001b[0m\n\u001b[1;32m      7\u001b[0m \u001b[0;34m\u001b[0m\u001b[0m\n\u001b[0;32m----> 8\u001b[0;31m \u001b[0menergies\u001b[0m \u001b[0;34m=\u001b[0m \u001b[0;34m[\u001b[0m\u001b[0mwhole_dft\u001b[0m\u001b[0;34m]\u001b[0m \u001b[0;34m+\u001b[0m \u001b[0;34m[\u001b[0m\u001b[0meigenspectrum\u001b[0m\u001b[0;34m(\u001b[0m\u001b[0mqham\u001b[0m\u001b[0;34m)\u001b[0m\u001b[0;34m[\u001b[0m\u001b[0;36m0\u001b[0m\u001b[0;34m]\u001b[0m \u001b[0;32mfor\u001b[0m \u001b[0mqham\u001b[0m \u001b[0;32min\u001b[0m \u001b[0mqhams\u001b[0m\u001b[0;34m.\u001b[0m\u001b[0mvalues\u001b[0m\u001b[0;34m(\u001b[0m\u001b[0;34m)\u001b[0m\u001b[0;34m]\u001b[0m\u001b[0;34m\u001b[0m\u001b[0;34m\u001b[0m\u001b[0m\n\u001b[0m\u001b[1;32m      9\u001b[0m \u001b[0mn_qubits\u001b[0m \u001b[0;34m=\u001b[0m \u001b[0;34m[\u001b[0m\u001b[0;36m0\u001b[0m\u001b[0;34m]\u001b[0m \u001b[0;34m+\u001b[0m \u001b[0;34m[\u001b[0m\u001b[0mcount_qubits\u001b[0m\u001b[0;34m(\u001b[0m\u001b[0mqham\u001b[0m\u001b[0;34m)\u001b[0m \u001b[0;32mfor\u001b[0m \u001b[0mqham\u001b[0m \u001b[0;32min\u001b[0m \u001b[0mqhams\u001b[0m\u001b[0;34m.\u001b[0m\u001b[0mvalues\u001b[0m\u001b[0;34m(\u001b[0m\u001b[0;34m)\u001b[0m\u001b[0;34m]\u001b[0m\u001b[0;34m\u001b[0m\u001b[0;34m\u001b[0m\u001b[0m\n",
      "\u001b[0;32m/tmp/ipykernel_1081947/3483694013.py\u001b[0m in \u001b[0;36m<listcomp>\u001b[0;34m(.0)\u001b[0m\n\u001b[1;32m      6\u001b[0m \u001b[0;31m#n_qubits = [count_qubits(qham) for qham in qhams.values()]\u001b[0m\u001b[0;34m\u001b[0m\u001b[0;34m\u001b[0m\u001b[0;34m\u001b[0m\u001b[0m\n\u001b[1;32m      7\u001b[0m \u001b[0;34m\u001b[0m\u001b[0m\n\u001b[0;32m----> 8\u001b[0;31m \u001b[0menergies\u001b[0m \u001b[0;34m=\u001b[0m \u001b[0;34m[\u001b[0m\u001b[0mwhole_dft\u001b[0m\u001b[0;34m]\u001b[0m \u001b[0;34m+\u001b[0m \u001b[0;34m[\u001b[0m\u001b[0meigenspectrum\u001b[0m\u001b[0;34m(\u001b[0m\u001b[0mqham\u001b[0m\u001b[0;34m)\u001b[0m\u001b[0;34m[\u001b[0m\u001b[0;36m0\u001b[0m\u001b[0;34m]\u001b[0m \u001b[0;32mfor\u001b[0m \u001b[0mqham\u001b[0m \u001b[0;32min\u001b[0m \u001b[0mqhams\u001b[0m\u001b[0;34m.\u001b[0m\u001b[0mvalues\u001b[0m\u001b[0;34m(\u001b[0m\u001b[0;34m)\u001b[0m\u001b[0;34m]\u001b[0m\u001b[0;34m\u001b[0m\u001b[0;34m\u001b[0m\u001b[0m\n\u001b[0m\u001b[1;32m      9\u001b[0m \u001b[0mn_qubits\u001b[0m \u001b[0;34m=\u001b[0m \u001b[0;34m[\u001b[0m\u001b[0;36m0\u001b[0m\u001b[0;34m]\u001b[0m \u001b[0;34m+\u001b[0m \u001b[0;34m[\u001b[0m\u001b[0mcount_qubits\u001b[0m\u001b[0;34m(\u001b[0m\u001b[0mqham\u001b[0m\u001b[0;34m)\u001b[0m \u001b[0;32mfor\u001b[0m \u001b[0mqham\u001b[0m \u001b[0;32min\u001b[0m \u001b[0mqhams\u001b[0m\u001b[0;34m.\u001b[0m\u001b[0mvalues\u001b[0m\u001b[0;34m(\u001b[0m\u001b[0;34m)\u001b[0m\u001b[0;34m]\u001b[0m\u001b[0;34m\u001b[0m\u001b[0;34m\u001b[0m\u001b[0m\n",
      "\u001b[0;32m~/anaconda3/envs/nbed/lib/python3.7/site-packages/openfermion/linalg/sparse_tools.py\u001b[0m in \u001b[0;36meigenspectrum\u001b[0;34m(operator, n_qubits)\u001b[0m\n\u001b[1;32m    646\u001b[0m     \u001b[0;32mif\u001b[0m \u001b[0misinstance\u001b[0m\u001b[0;34m(\u001b[0m\u001b[0moperator\u001b[0m\u001b[0;34m,\u001b[0m \u001b[0;34m(\u001b[0m\u001b[0mQuadOperator\u001b[0m\u001b[0;34m,\u001b[0m \u001b[0mBosonOperator\u001b[0m\u001b[0;34m)\u001b[0m\u001b[0;34m)\u001b[0m\u001b[0;34m:\u001b[0m\u001b[0;34m\u001b[0m\u001b[0;34m\u001b[0m\u001b[0m\n\u001b[1;32m    647\u001b[0m         \u001b[0;32mraise\u001b[0m \u001b[0mTypeError\u001b[0m\u001b[0;34m(\u001b[0m\u001b[0;34m'Operator of invalid type.'\u001b[0m\u001b[0;34m)\u001b[0m\u001b[0;34m\u001b[0m\u001b[0;34m\u001b[0m\u001b[0m\n\u001b[0;32m--> 648\u001b[0;31m     \u001b[0msparse_operator\u001b[0m \u001b[0;34m=\u001b[0m \u001b[0mget_sparse_operator\u001b[0m\u001b[0;34m(\u001b[0m\u001b[0moperator\u001b[0m\u001b[0;34m,\u001b[0m \u001b[0mn_qubits\u001b[0m\u001b[0;34m)\u001b[0m\u001b[0;34m\u001b[0m\u001b[0;34m\u001b[0m\u001b[0m\n\u001b[0m\u001b[1;32m    649\u001b[0m     \u001b[0mspectrum\u001b[0m \u001b[0;34m=\u001b[0m \u001b[0msparse_eigenspectrum\u001b[0m\u001b[0;34m(\u001b[0m\u001b[0msparse_operator\u001b[0m\u001b[0;34m)\u001b[0m\u001b[0;34m\u001b[0m\u001b[0;34m\u001b[0m\u001b[0m\n\u001b[1;32m    650\u001b[0m     \u001b[0;32mreturn\u001b[0m \u001b[0mspectrum\u001b[0m\u001b[0;34m\u001b[0m\u001b[0;34m\u001b[0m\u001b[0m\n",
      "\u001b[0;32m~/anaconda3/envs/nbed/lib/python3.7/site-packages/openfermion/linalg/sparse_tools.py\u001b[0m in \u001b[0;36mget_sparse_operator\u001b[0;34m(operator, n_qubits, trunc, hbar)\u001b[0m\n\u001b[1;32m   1263\u001b[0m     \u001b[0;32melse\u001b[0m\u001b[0;34m:\u001b[0m\u001b[0;34m\u001b[0m\u001b[0;34m\u001b[0m\u001b[0m\n\u001b[1;32m   1264\u001b[0m         raise TypeError('Failed to convert a {} to a sparse matrix.'.format(\n\u001b[0;32m-> 1265\u001b[0;31m             type(operator).__name__))\n\u001b[0m\u001b[1;32m   1266\u001b[0m \u001b[0;34m\u001b[0m\u001b[0m\n\u001b[1;32m   1267\u001b[0m \u001b[0;34m\u001b[0m\u001b[0m\n",
      "\u001b[0;31mTypeError\u001b[0m: Failed to convert a dict to a sparse matrix."
     ]
    }
   ],
   "source": [
    "from openfermion import eigenspectrum\n",
    "from openfermion import count_qubits\n",
    "\n",
    "active_atoms = [i for i in range(0,4)]\n",
    "#energies = [eigenspectrum(qham)[0] for qham in qhams.values()]\n",
    "#n_qubits = [count_qubits(qham) for qham in qhams.values()]\n",
    "\n",
    "energies = [whole_dft] + [eigenspectrum(qham)[0] for qham in qhams.values()]\n",
    "n_qubits = [0] + [count_qubits(qham) for qham in qhams.values()]\n"
   ]
  },
  {
   "cell_type": "markdown",
   "metadata": {},
   "source": [
    "Read cyclopropane data"
   ]
  },
  {
   "cell_type": "code",
   "execution_count": 75,
   "metadata": {},
   "outputs": [],
   "source": [
    "cp_data = []\n",
    "for filepath in Path(f'../data/').iterdir():\n",
    "    if 'cyclopropane' in filepath.stem: \n",
    "        with open(filepath, 'r') as f:\n",
    "            data = json.load(f)\n",
    "        \n",
    "        cp_data.append(data)\n",
    "cp_data.reverse()\n",
    "\n",
    "whole_ccsd = cp_data[0]['full']['e_ccsd']\n",
    "whole_dft = cp_data[0]['e_dft']\n",
    "active_atoms = range(0,4)\n",
    "full_n_qubits = cp_data[0]['full']['n_qubits']\n",
    "full_terms = cp_data[0]['full']['terms']\n",
    "energies = [whole_dft] + [res['huz']['e_ccsd'] for res in cp_data]\n",
    "n_qubits = [0] + [res['huz']['n_qubits'] for res in cp_data]\n",
    "terms = [0] + [res['huz']['terms'] for res in cp_data]"
   ]
  },
  {
   "cell_type": "code",
   "execution_count": 67,
   "metadata": {},
   "outputs": [
    {
     "data": {
      "text/plain": [
       "42"
      ]
     },
     "execution_count": 67,
     "metadata": {},
     "output_type": "execute_result"
    }
   ],
   "source": [
    "full_n_qubits"
   ]
  },
  {
   "cell_type": "code",
   "execution_count": 76,
   "metadata": {},
   "outputs": [
    {
     "name": "stderr",
     "output_type": "stream",
     "text": [
      "/home/mwilliams/anaconda3/envs/nbed/lib/python3.7/site-packages/ipykernel_launcher.py:10: UserWarning: Matplotlib is currently using module://matplotlib_inline.backend_inline, which is a non-GUI backend, so cannot show the figure.\n",
      "  # Remove the CWD from sys.path while we load stuff.\n"
     ]
    },
    {
     "data": {
      "image/png": "[encoded data removed]",
      "text/plain": [
       "<Figure size 432x288 with 1 Axes>"
      ]
     },
     "metadata": {
      "needs_background": "light"
     },
     "output_type": "display_data"
    }
   ],
   "source": [
    "fig, ax = plt.subplots()\n",
    "ax.hlines(whole_ccsd, min(active_atoms), max(active_atoms), colors='blue', linestyle='dashed', label='CCSD')\n",
    "ax.hlines(whole_dft, min(active_atoms), max(active_atoms), colors='red', linestyle='dashed', label='DFT')\n",
    "ax.plot(active_atoms, energies, label='Huzinaga CCSD Embedding')\n",
    "ax.set_xlabel('Active Carbon Atoms')\n",
    "ax.set_ylabel('Energy (Ha)')\n",
    "ax.set_xticks(active_atoms)\n",
    "ax.set_title('Embeddings of Cyclopropane')\n",
    "fig.legend()\n",
    "fig.show()"
   ]
  },
  {
   "cell_type": "code",
   "execution_count": 77,
   "metadata": {},
   "outputs": [
    {
     "name": "stderr",
     "output_type": "stream",
     "text": [
      "/home/mwilliams/anaconda3/envs/nbed/lib/python3.7/site-packages/ipykernel_launcher.py:13: UserWarning: Matplotlib is currently using module://matplotlib_inline.backend_inline, which is a non-GUI backend, so cannot show the figure.\n",
      "  del sys.path[0]\n"
     ]
    },
    {
     "data": {
      "image/png": "[encoded data removed]",
      "text/plain": [
       "<Figure size 432x288 with 2 Axes>"
      ]
     },
     "metadata": {
      "needs_background": "light"
     },
     "output_type": "display_data"
    }
   ],
   "source": [
    "fig, ax = plt.subplots()\n",
    "ax2 = ax.twinx()\n",
    "ax2.set_ylabel('Number of Qubits Used')\n",
    "ax2.hlines(full_n_qubits, min(active_atoms), max(active_atoms), colors='red', linestyle='dashed', label=f'Full system: {full_n_qubits}')\n",
    "ax2.plot(active_atoms, n_qubits, linestyle='solid', color='red', label='n qubits')\n",
    "ax.hlines(full_terms, min(active_atoms), max(active_atoms), colors='blue', linestyle='dotted', label=f'Full system: {full_terms}')\n",
    "ax.plot(active_atoms, terms, linestyle='solid', color='blue', label='terms')\n",
    "ax.set_xlabel('Active Carbon Atoms')\n",
    "ax.set_xticks(active_atoms)\n",
    "ax.set_ylabel('Number of Terms')\n",
    "ax.set_title('Embeddings of Cyclopropane')\n",
    "fig.legend()\n",
    "fig.show()"
   ]
  },
  {
   "cell_type": "markdown",
   "metadata": {},
   "source": [
    "## General Params \n",
    "threshold\n",
    "basis\n",
    "xc functional\n",
    "\n",
    "\n",
    "## Small molecules\n",
    "\n",
    "One for SPADE\n",
    "One for IBO\n",
    "Molecule, active atoms(AOs), dft energy, embedding (huz/mu), fci/ccsd, mu: qubits(terms), huz: qubits(terms), full:qubits(terms)\n",
    "\n",
    "\n",
    "Graphs:\n",
    "Bar graph of molecules energies, hamiltonian size\n",
    "Cyclic molecule: terms / qubits, energy\n",
    "bonus: compare molecular orbitals\n",
    "\n",
    "\n",
    "## H4\n",
    "One for different numbers of active atoms 1-3\n",
    "Angle, dft energy, embedding (huz/mu), full_system: fci/ccsd, mu: qubits(terms), huz: qubits(terms), full:qubits(terms)\n",
    "\n",
    "## Water\n",
    "Bond length, dft energy, embedding (huz/mu), fci/ccsd, mu: qubits(terms), huz: qubits(terms), full:qubits(terms)"
   ]
  }
 ],
 "metadata": {
  "interpreter": {
   "hash": "fe514aa320be100644bbd958a3f38aa9f15de9075cf36cc4d239ea0f19dcd868"
  },
  "kernelspec": {
   "display_name": "Python 3.7.11 64-bit ('nbed': conda)",
   "name": "python3"
  },
  "language_info": {
   "codemirror_mode": {
    "name": "ipython",
    "version": 3
   },
   "file_extension": ".py",
   "mimetype": "text/x-python",
   "name": "python",
   "nbconvert_exporter": "python",
   "pygments_lexer": "ipython3",
   "version": "3.7.10"
  },
  "orig_nbformat": 4
 },
 "nbformat": 4,
 "nbformat_minor": 2
}
