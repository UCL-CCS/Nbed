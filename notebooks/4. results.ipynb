{
 "cells": [
  {
   "cell_type": "markdown",
   "metadata": {},
   "source": [
    "# Results for paper: TITLE"
   ]
  },
  {
   "cell_type": "markdown",
   "metadata": {},
   "source": [
    "This notebook contains the script used to create results for *link*\n",
    "\n",
    "## Cyclohexane"
   ]
  },
  {
   "cell_type": "code",
   "execution_count": 1,
   "metadata": {},
   "outputs": [
    {
     "data": {
      "image/png": "[encoded data removed]",
      "text/plain": [
       "<Figure size 432x288 with 1 Axes>"
      ]
     },
     "metadata": {
      "needs_background": "light"
     },
     "output_type": "display_data"
    }
   ],
   "source": [
    "# The carbon atoms are arranged in the correct order to move along the ring.\n",
    "cyclohexane_xyz = \"\"\"\n",
    "C      1.367908000      1.836044000     -0.049671000\n",
    "C      2.329589000      3.011988000     -0.044238000\n",
    "C      3.630888000      2.632672000      0.661249000\n",
    "C      4.247092000      1.383956000      0.049671000\n",
    "C      3.285411000      0.208012000      0.044238000\n",
    "C      1.984112000      0.587328000     -0.661249000\n",
    "H      2.524936000      3.113740000     -0.900292000\n",
    "H      1.933922000      3.936128000      0.506802000\n",
    "H      3.388552000      2.469096000      1.674854000\n",
    "H      4.348450000      3.220000000      0.605369000\n",
    "H      1.030575000      1.607424000      0.972471000\n",
    "H      0.592407000      1.921052000     -0.581309000\n",
    "H      4.584425000      1.612576000     -0.972471000\n",
    "H      5.022593000      1.298948000      0.581309000\n",
    "H      2.226448000      0.750904000     -1.674854000\n",
    "H      1.266550000     -0.000000000     -0.605369000\n",
    "H      3.090064000      0.106260000      0.900292000\n",
    "H      3.681078000     -0.716128000     -0.506802000\n",
    "\"\"\"\n",
    "\n",
    "import matplotlib.pyplot as plt\n",
    "from mpl_toolkits import mplot3d\n",
    "from matplotlib import interactive\n",
    "interactive(True)\n",
    "\n",
    "# Uncomment to get an interactive plot \n",
    "# %matplotlib qt\n",
    "\n",
    "x,y,z = [],[],[]\n",
    "carbons = 6\n",
    "cyclohexane = cyclohexane_xyz.split('\\n')[1:-1]\n",
    "for line in cyclohexane:\n",
    "    items = line.split(\"     \")\n",
    "    x.append(float(items[1]))\n",
    "    y.append(float(items[2]))\n",
    "    z.append(float(items[3]))\n",
    "\n",
    "fig = plt.figure()\n",
    "ax = plt.axes(projection='3d')\n",
    "ax.scatter(x[:6], y[:6], z[:6], c=\"red\")\n",
    "ax.scatter(x[6:], y[6:], z[6:], c=\"black\")\n",
    "for i in range(carbons):\n",
    "    ax.text(x[i],y[i],z[i], '%s' %(str(i)), size=20, zorder=1, color='k')\n",
    "plt.show()"
   ]
  },
  {
   "cell_type": "code",
   "execution_count": 2,
   "metadata": {},
   "outputs": [],
   "source": [
    "# from nbed.mol_plot import draw_molecule\n",
    "\n",
    "# mol_view = draw_molecule(cyclohexane,\n",
    "#               width=400,\n",
    "#                height=400,\n",
    "#               jupyter_notebook=True)\n",
    "# mol_view.show()"
   ]
  },
  {
   "cell_type": "markdown",
   "metadata": {},
   "source": [
    "# Cyclohexane\n",
    "\n",
    "## Reference Values "
   ]
  },
  {
   "cell_type": "code",
   "execution_count": 3,
   "metadata": {},
   "outputs": [],
   "source": [
    "# from pyscf import scf, cc\n",
    "\n",
    "# print(\"Whole system DFT\")\n",
    "# ks = scf.RKS(molecule)\n",
    "# ks.conv_tol = config[\"convergence\"]\n",
    "# ks.xc = config[\"xc_functional\"]\n",
    "# whole_dft = ks.kernel()\n",
    "# print(\"\")\n",
    "\n",
    "# print(\"Hartree Fock\")\n",
    "# hf = scf.RHF(molecule)\n",
    "# hf.conv_tol = config[\"convergence\"]\n",
    "# hf_energy = hf.kernel()\n",
    "# print(\"\")\n",
    "\n",
    "# print(\"CCSD\")\n",
    "# ccsd = cc.CCSD(hf)\n",
    "# ccsd.conv_tol = config[\"convergence\"]\n",
    "# whole_ccsd, *_ = ccsd.kernel()\n",
    "# whole_ccsd += hf_energy"
   ]
  },
  {
   "cell_type": "code",
   "execution_count": 4,
   "metadata": {},
   "outputs": [
    {
     "name": "stderr",
     "output_type": "stream",
     "text": [
      "/home/mwilliams/anaconda3/envs/nbed/lib/python3.7/site-packages/pyscf/lib/misc.py:46: H5pyDeprecationWarning: Using default_file_mode other than 'r' is deprecated. Pass the mode to h5py.File() instead.\n",
      "  h5py.get_config().default_file_mode = 'a'\n"
     ]
    }
   ],
   "source": [
    "import nbed"
   ]
  },
  {
   "cell_type": "code",
   "execution_count": 6,
   "metadata": {},
   "outputs": [
    {
     "name": "stdout",
     "output_type": "stream",
     "text": [
      "Running with 1 atoms:\n",
      "-207.1366560986124\n",
      "38\n",
      "5\n"
     ]
    }
   ],
   "source": [
    "from pathlib import Path\n",
    "from pyscf.gto import Mole\n",
    "import nbed\n",
    "from nbed.driver import NbedDriver\n",
    "from tqdm import tqdm_notebook as tqdm\n",
    "from openfermion import count_qubits\n",
    "\n",
    "\n",
    "localisation = ['spade','mullikan','boys','ipo']\n",
    "\n",
    "# Need to build paths to xyz files.\n",
    "base_path = Path(\"../tests/molecules/\").absolute()\n",
    "# molecules = {\"water\", \"methanol\", \"ethane\", \"glycine\"}\n",
    "geometry = str(base_path / \"cyclohexane.xyz\")\n",
    "\n",
    "basis='sto-3g'\n",
    "xc_functional='b3lyp'\n",
    "projector='huzinaga'\n",
    "localization='spade'\n",
    "convergence=1e-8\n",
    "savefile=None\n",
    "charge=0\n",
    "mu_level_shift=1e6\n",
    "run_ccsd_emb=True\n",
    "run_fci_emb=False\n",
    "max_ram_memory=8_000\n",
    "pyscf_print_level=1\n",
    "\n",
    "qhams = {}\n",
    "\n",
    "for active in range(1,7):\n",
    "    print(f\"Running with {active} atoms:\")\n",
    "    driver = NbedDriver(\n",
    "        geometry=geometry,\n",
    "        n_active_atoms=active,\n",
    "        basis=basis,\n",
    "        xc_functional=xc_functional,\n",
    "        projector=projector,\n",
    "        localization=localization,\n",
    "        convergence=convergence,\n",
    "        savefile=savefile,\n",
    "        charge=charge,\n",
    "        mu_level_shift=mu_level_shift,\n",
    "        run_ccsd_emb=run_ccsd_emb,\n",
    "        run_fci_emb=run_fci_emb,\n",
    "        max_ram_memory=max_ram_memory,\n",
    "        pyscf_print_level=pyscf_print_level,\n",
    "    )\n",
    "    qhams[active] = driver.molecular_ham\n",
    "    print(driver.classical_energy)\n",
    "    num_qub = count_qubits(driver.molecular_ham)\n",
    "    print(num_qub)\n",
    "    print(driver._huzinaga['rhf'].mol.aoslice_by_atom()[0][-1])\n",
    "    if num_qub > 13:\n",
    "        break\n"
   ]
  },
  {
   "cell_type": "markdown",
   "metadata": {},
   "source": [
    "Cycle through molecules to output the desired info."
   ]
  },
  {
   "cell_type": "code",
   "execution_count": null,
   "metadata": {},
   "outputs": [],
   "source": [
    "from openfermion import eigenspectrum\n",
    "from openfermion import count_qubits\n",
    "\n",
    "active_atoms = [i for i in range(7)]\n",
    "#energies = [eigenspectrum(qham)[0] for qham in qhams.values()]\n",
    "#n_qubits = [count_qubits(qham) for qham in qhams.values()]\n",
    "\n",
    "energies = [eigenspectrum(qham) for qham in qhams.values()]\n",
    "n_qubits = [count_qubits(qham) for qham in qhams.values()]\n"
   ]
  },
  {
   "cell_type": "code",
   "execution_count": null,
   "metadata": {},
   "outputs": [
    {
     "name": "stderr",
     "output_type": "stream",
     "text": [
      "/home/mwilliams/anaconda3/envs/nbed/lib/python3.7/site-packages/ipykernel_launcher.py:13: UserWarning: Matplotlib is currently using module://matplotlib_inline.backend_inline, which is a non-GUI backend, so cannot show the figure.\n",
      "  del sys.path[0]\n"
     ]
    },
    {
     "data": {
      "image/png": "[encoded data removed]",
      "text/plain": [
       "<Figure size 432x288 with 2 Axes>"
      ]
     },
     "metadata": {
      "needs_background": "light"
     },
     "output_type": "display_data"
    }
   ],
   "source": [
    "fig, ax = plt.subplots()\n",
    "ax2 = ax.twinx()\n",
    "ax2.set_ylabel('Number of Qubits Used')\n",
    "ax2.plot(n_qubits, linestyle='dotted', color='black')\n",
    "\n",
    "ax.hlines(whole_ccsd, 0, 6, colors='blue', linestyle='dashed', label='CCSD')\n",
    "ax.hlines(whole_dft, 0, 6, colors='red', linestyle='dashed', label='DFT')\n",
    "ax.plot(active_atoms, energies, label='TEST')\n",
    "ax.set_xlabel('Active Carbon Atoms')\n",
    "ax.set_ylabel('Energy (Ha)')\n",
    "ax.set_title('Embeddings of Cyclohexane')\n",
    "ax.legend()\n",
    "fig.show()"
   ]
  }
 ],
 "metadata": {
  "interpreter": {
   "hash": "fe514aa320be100644bbd958a3f38aa9f15de9075cf36cc4d239ea0f19dcd868"
  },
  "kernelspec": {
   "display_name": "Python 3.7.11 64-bit ('nbed': conda)",
   "name": "python3"
  },
  "language_info": {
   "codemirror_mode": {
    "name": "ipython",
    "version": 3
   },
   "file_extension": ".py",
   "mimetype": "text/x-python",
   "name": "python",
   "nbconvert_exporter": "python",
   "pygments_lexer": "ipython3",
   "version": "3.7.10"
  },
  "orig_nbformat": 4
 },
 "nbformat": 4,
 "nbformat_minor": 2
}
