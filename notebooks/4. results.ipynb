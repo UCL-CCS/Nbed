{
 "cells": [
  {
   "cell_type": "markdown",
   "metadata": {},
   "source": [
    "# Results for paper: TITLE"
   ]
  },
  {
   "cell_type": "markdown",
   "metadata": {},
   "source": [
    "This notebook contains the script used to create results for *link*\n",
    "\n",
    "## Cyclohexane"
   ]
  },
  {
   "cell_type": "code",
   "execution_count": 1,
   "metadata": {},
   "outputs": [
    {
     "data": {
      "image/png": "[encoded data removed]",
      "text/plain": [
       "<Figure size 432x288 with 1 Axes>"
      ]
     },
     "metadata": {
      "needs_background": "light"
     },
     "output_type": "display_data"
    }
   ],
   "source": [
    "# The carbon atoms are arranged in the correct order to move along the ring.\n",
    "cyclohexane_xyz = \"\"\"\n",
    "C      1.367908000      1.836044000     -0.049671000\n",
    "C      2.329589000      3.011988000     -0.044238000\n",
    "C      3.630888000      2.632672000      0.661249000\n",
    "C      4.247092000      1.383956000      0.049671000\n",
    "C      3.285411000      0.208012000      0.044238000\n",
    "C      1.984112000      0.587328000     -0.661249000\n",
    "H      2.524936000      3.113740000     -0.900292000\n",
    "H      1.933922000      3.936128000      0.506802000\n",
    "H      3.388552000      2.469096000      1.674854000\n",
    "H      4.348450000      3.220000000      0.605369000\n",
    "H      1.030575000      1.607424000      0.972471000\n",
    "H      0.592407000      1.921052000     -0.581309000\n",
    "H      4.584425000      1.612576000     -0.972471000\n",
    "H      5.022593000      1.298948000      0.581309000\n",
    "H      2.226448000      0.750904000     -1.674854000\n",
    "H      1.266550000     -0.000000000     -0.605369000\n",
    "H      3.090064000      0.106260000      0.900292000\n",
    "H      3.681078000     -0.716128000     -0.506802000\n",
    "\"\"\"\n",
    "\n",
    "import matplotlib.pyplot as plt\n",
    "from mpl_toolkits import mplot3d\n",
    "from matplotlib import interactive\n",
    "interactive(True)\n",
    "\n",
    "# Uncomment to get an interactive plot \n",
    "# %matplotlib qt\n",
    "\n",
    "x,y,z = [],[],[]\n",
    "carbons = 6\n",
    "cyclohexane = cyclohexane_xyz.split('\\n')[1:-1]\n",
    "for line in cyclohexane:\n",
    "    items = line.split(\"     \")\n",
    "    x.append(float(items[1]))\n",
    "    y.append(float(items[2]))\n",
    "    z.append(float(items[3]))\n",
    "\n",
    "fig = plt.figure()\n",
    "ax = plt.axes(projection='3d')\n",
    "ax.scatter(x[:6], y[:6], z[:6], c=\"red\")\n",
    "ax.scatter(x[6:], y[6:], z[6:], c=\"black\")\n",
    "for i in range(carbons):\n",
    "    ax.text(x[i],y[i],z[i], '%s' %(str(i)), size=20, zorder=1, color='k')\n",
    "plt.show()"
   ]
  },
  {
   "cell_type": "code",
   "execution_count": 2,
   "metadata": {},
   "outputs": [],
   "source": [
    "# from nbed.mol_plot import draw_molecule\n",
    "\n",
    "# mol_view = draw_molecule(cyclohexane,\n",
    "#               width=400,\n",
    "#                height=400,\n",
    "#               jupyter_notebook=True)\n",
    "# mol_view.show()"
   ]
  },
  {
   "cell_type": "markdown",
   "metadata": {},
   "source": [
    "# Cyclohexane\n",
    "\n",
    "## Reference Values "
   ]
  },
  {
   "cell_type": "code",
   "execution_count": 3,
   "metadata": {},
   "outputs": [],
   "source": [
    "# from pyscf import scf, cc\n",
    "\n",
    "# print(\"Whole system DFT\")\n",
    "# ks = scf.RKS(molecule)\n",
    "# ks.conv_tol = config[\"convergence\"]\n",
    "# ks.xc = config[\"xc_functional\"]\n",
    "# whole_dft = ks.kernel()\n",
    "# print(\"\")\n",
    "\n",
    "# print(\"Hartree Fock\")\n",
    "# hf = scf.RHF(molecule)\n",
    "# hf.conv_tol = config[\"convergence\"]\n",
    "# hf_energy = hf.kernel()\n",
    "# print(\"\")\n",
    "\n",
    "# print(\"CCSD\")\n",
    "# ccsd = cc.CCSD(hf)\n",
    "# ccsd.conv_tol = config[\"convergence\"]\n",
    "# whole_ccsd, *_ = ccsd.kernel()\n",
    "# whole_ccsd += hf_energy"
   ]
  },
  {
   "cell_type": "code",
   "execution_count": 5,
   "metadata": {},
   "outputs": [],
   "source": [
    "from nbed.utils import save_ordered_xyz_file, pubchem_mol_geometry\n",
    "from pathlib import Path\n",
    "\n",
    "def find_and_save(mol_name):\n",
    "    savefile = f'./molecular_structures/{mol_name}.xyz'\n",
    "\n",
    "    if Path(savefile).exists():\n",
    "        print(f'{savefile} already exists.\\n')\n",
    "        return\n",
    "\n",
    "    geo_dict = pubchem_mol_geometry(mol_name)\n",
    "    save_ordered_xyz_file(mol_name, geo_dict, [0], save_location=savefile)\n",
    "    print(f'{savefile} created.')"
   ]
  },
  {
   "cell_type": "code",
   "execution_count": 6,
   "metadata": {},
   "outputs": [],
   "source": [
    "from openfermion import get_sparse_operator\n",
    "from scipy.sparse.linalg import eigsh\n",
    "\n",
    "def diagonalize(hamiltonian):\n",
    "    sparse_ham = get_sparse_operator(hamiltonian)\n",
    "    eigenvalues, _ = eigsh(sparse_ham)\n",
    "    return eigenvalues[0]"
   ]
  },
  {
   "cell_type": "code",
   "execution_count": 9,
   "metadata": {},
   "outputs": [],
   "source": [
    "from pathlib import Path\n",
    "from pyscf.gto import Mole\n",
    "import nbed\n",
    "from nbed.driver import NbedDriver\n",
    "from nbed.ham_builder import HamiltonianBuilder\n",
    "from nbed.ham_converter import HamiltonianConverter\n",
    "from openfermion import count_qubits\n",
    "import json\n",
    "\n",
    "localisation = ['spade','mullikan','boys','ipo']\n",
    "\n",
    "# Need to build paths to xyz files.\n",
    "max_atoms = 3\n",
    "\n",
    "def get_results(mol_name, n_active_atoms, localisation='pipek-mezey', qubits=None):\n",
    "    find_and_save(mol_name)\n",
    "    geometry = f'./molecular_structures/{mol_name}.xyz'\n",
    "\n",
    "    result = {}\n",
    "    # We pass these to the driver.\n",
    "    result['n_active_atoms']=n_active_atoms\n",
    "    result['localization']=localisation\n",
    "    result['basis']='sto-3g'\n",
    "    result['xc_functional']='b3lyp'\n",
    "    result['convergence']=1e-6\n",
    "    result['savefile']=None\n",
    "    result['charge']=0\n",
    "    result['mu_level_shift']=1e6\n",
    "    result['run_ccsd_emb']=True\n",
    "    result['run_fci_emb']=False\n",
    "    result['max_ram_memory']=8_000\n",
    "    result['pyscf_print_level']=1\n",
    "\n",
    "    driver = NbedDriver(geometry=geometry, projector='both', **result)\n",
    "    result['e_dft'] = driver._global_rks.e_tot\n",
    "\n",
    "    # These are important but not used in the driver.\n",
    "    result['mol_name']=mol_name\n",
    "    result['transform']='jordan_wigner'\n",
    "    result['qubits'] = qubits\n",
    "\n",
    "    # Mu shift result\n",
    "    mu_builder = HamiltonianBuilder(driver._mu['scf'], driver._mu['classical_energy'], transform=result['transform'])\n",
    "    result['mu'] = {}\n",
    "    qham = mu_builder.build(qubits)\n",
    "    result['mu']['qham'] = HamiltonianConverter(qham)._intermediate\n",
    "    result['mu']['terms'] = len(qham.terms)\n",
    "    result['mu']['n_qubits'] = count_qubits(qham)\n",
    "    result['mu']['classical_energy'] = driver._mu['classical_energy']\n",
    "    result['mu']['e_ccsd'] = driver._mu['e_ccsd']\n",
    "\n",
    "    # Huzinaga result\n",
    "    huz_builder = HamiltonianBuilder(driver._huzinaga['scf'], driver._huzinaga['classical_energy'], transform=result['transform'])\n",
    "    result['huz'] = {}\n",
    "    qham = huz_builder.build(qubits)\n",
    "    result['huz']['qham'] = HamiltonianConverter(qham)._intermediate\n",
    "    result['huz']['terms'] = len(qham.terms)\n",
    "    result['huz']['n_qubits'] = count_qubits(qham)\n",
    "    result['huz']['classical_energy'] = driver._huzinaga['classical_energy']\n",
    "    result['huz']['e_ccsd'] = driver._huzinaga['e_ccsd']\n",
    "\n",
    "    full_ham = HamiltonianBuilder(driver._global_hf, transform=result['transform']).build()\n",
    "    result['full_terms'] = len(full_ham.terms)\n",
    "    result['full_n_qubits'] = count_qubits(full_ham)\n",
    "    result['full_qham'] = HamiltonianConverter(full_ham)._intermediate\n",
    "\n",
    "    print(f'DFT Energy: {result[\"e_dft\"]}')\n",
    "    print(f\"Mu CCSD Embedding energy {result['mu']['e_ccsd']}\")\n",
    "    print(f\"Huz CCSD Embedding energy {result['huz']['e_ccsd']}\")\n",
    "\n",
    "    print(f\"Qubits used {result['mu']['n_qubits']}/{result['huz']['n_qubits']}/{result['full_n_qubits']}\")\n",
    "    print(f\"Number of terms {result['mu']['terms']}/{result['huz']['terms']}/{result['full_terms']}\")\n",
    "\n",
    "    savefile = f'../data/{mol_name}_{n_active_atoms}_{localisation}.json'\n",
    "    with open(savefile, 'w') as f:\n",
    "        json.dump(result, f, indent=4)\n",
    "        print(f'{savefile} created.')\n",
    "\n",
    "    return result\n"
   ]
  },
  {
   "cell_type": "code",
   "execution_count": 12,
   "metadata": {},
   "outputs": [
    {
     "name": "stdout",
     "output_type": "stream",
     "text": [
      "./molecular_structures/water.xyz already exists.\n",
      "\n",
      "DFT Energy: -75.27815045263158\n",
      "Mu CCSD Embedding energy -75.12163273377055\n",
      "Huz CCSD Embedding energy -75.12163243153518\n",
      "Qubits used 6/6/10\n",
      "Number of terms 118/118/356\n",
      "../data/water_1_pipek-mezey.json created.\n"
     ]
    }
   ],
   "source": [
    "water = get_results(\"water\", 1)"
   ]
  },
  {
   "cell_type": "code",
   "execution_count": 13,
   "metadata": {},
   "outputs": [
    {
     "ename": "TypeError",
     "evalue": "Failed to convert a dict to a sparse matrix.",
     "output_type": "error",
     "traceback": [
      "\u001b[0;31m---------------------------------------------------------------------------\u001b[0m",
      "\u001b[0;31mTypeError\u001b[0m                                 Traceback (most recent call last)",
      "\u001b[0;32m/tmp/ipykernel_249803/246173923.py\u001b[0m in \u001b[0;36m<module>\u001b[0;34m\u001b[0m\n\u001b[0;32m----> 1\u001b[0;31m \u001b[0mprint\u001b[0m\u001b[0;34m(\u001b[0m\u001b[0;34mf\"Mu Energy: {diagonalize(water['mu']['qham'])}\"\u001b[0m\u001b[0;34m)\u001b[0m\u001b[0;34m\u001b[0m\u001b[0;34m\u001b[0m\u001b[0m\n\u001b[0m\u001b[1;32m      2\u001b[0m \u001b[0mprint\u001b[0m\u001b[0;34m(\u001b[0m\u001b[0;34mf\"Huz Energy: {diagonalize(water['huz']['qham'])}\"\u001b[0m\u001b[0;34m)\u001b[0m\u001b[0;34m\u001b[0m\u001b[0;34m\u001b[0m\u001b[0m\n\u001b[1;32m      3\u001b[0m \u001b[0mprint\u001b[0m\u001b[0;34m(\u001b[0m\u001b[0;34mf\"Full Energy: {diagonalize(water['full_qham'])}\"\u001b[0m\u001b[0;34m)\u001b[0m\u001b[0;34m\u001b[0m\u001b[0;34m\u001b[0m\u001b[0m\n",
      "\u001b[0;32m/tmp/ipykernel_249803/408005477.py\u001b[0m in \u001b[0;36mdiagonalize\u001b[0;34m(hamiltonian)\u001b[0m\n\u001b[1;32m      3\u001b[0m \u001b[0;34m\u001b[0m\u001b[0m\n\u001b[1;32m      4\u001b[0m \u001b[0;32mdef\u001b[0m \u001b[0mdiagonalize\u001b[0m\u001b[0;34m(\u001b[0m\u001b[0mhamiltonian\u001b[0m\u001b[0;34m)\u001b[0m\u001b[0;34m:\u001b[0m\u001b[0;34m\u001b[0m\u001b[0;34m\u001b[0m\u001b[0m\n\u001b[0;32m----> 5\u001b[0;31m     \u001b[0msparse_ham\u001b[0m \u001b[0;34m=\u001b[0m \u001b[0mget_sparse_operator\u001b[0m\u001b[0;34m(\u001b[0m\u001b[0mhamiltonian\u001b[0m\u001b[0;34m)\u001b[0m\u001b[0;34m\u001b[0m\u001b[0;34m\u001b[0m\u001b[0m\n\u001b[0m\u001b[1;32m      6\u001b[0m     \u001b[0meigenvalues\u001b[0m\u001b[0;34m,\u001b[0m \u001b[0m_\u001b[0m \u001b[0;34m=\u001b[0m \u001b[0meigsh\u001b[0m\u001b[0;34m(\u001b[0m\u001b[0msparse_ham\u001b[0m\u001b[0;34m)\u001b[0m\u001b[0;34m\u001b[0m\u001b[0;34m\u001b[0m\u001b[0m\n\u001b[1;32m      7\u001b[0m     \u001b[0;32mreturn\u001b[0m \u001b[0meigenvalues\u001b[0m\u001b[0;34m[\u001b[0m\u001b[0;36m0\u001b[0m\u001b[0;34m]\u001b[0m\u001b[0;34m\u001b[0m\u001b[0;34m\u001b[0m\u001b[0m\n",
      "\u001b[0;32m~/anaconda3/envs/nbed/lib/python3.7/site-packages/openfermion/linalg/sparse_tools.py\u001b[0m in \u001b[0;36mget_sparse_operator\u001b[0;34m(operator, n_qubits, trunc, hbar)\u001b[0m\n\u001b[1;32m   1263\u001b[0m     \u001b[0;32melse\u001b[0m\u001b[0;34m:\u001b[0m\u001b[0;34m\u001b[0m\u001b[0;34m\u001b[0m\u001b[0m\n\u001b[1;32m   1264\u001b[0m         raise TypeError('Failed to convert a {} to a sparse matrix.'.format(\n\u001b[0;32m-> 1265\u001b[0;31m             type(operator).__name__))\n\u001b[0m\u001b[1;32m   1266\u001b[0m \u001b[0;34m\u001b[0m\u001b[0m\n\u001b[1;32m   1267\u001b[0m \u001b[0;34m\u001b[0m\u001b[0m\n",
      "\u001b[0;31mTypeError\u001b[0m: Failed to convert a dict to a sparse matrix."
     ]
    }
   ],
   "source": [
    "HC = HamiltonianConverter\n",
    "\n",
    "print(f\"Mu Energy: {diagonalize(water['mu']['qham'])}\")\n",
    "print(f\"Huz Energy: {diagonalize(water['huz']['qham'])}\")\n",
    "print(f\"Full Energy: {diagonalize(water['full_qham'])}\")"
   ]
  },
  {
   "cell_type": "markdown",
   "metadata": {},
   "source": [
    "Cycle through molecules to output the desired info."
   ]
  },
  {
   "cell_type": "code",
   "execution_count": 9,
   "metadata": {},
   "outputs": [
    {
     "name": "stdout",
     "output_type": "stream",
     "text": [
      "Whole system DFT\n",
      "converged SCF energy = -116.386569879701\n",
      "\n",
      "Hartree Fock\n",
      "converged SCF energy = -115.66607486168\n",
      "\n",
      "CCSD\n",
      "E(CCSD) = -115.8731272952766  E_corr = -0.2070524335969255\n"
     ]
    }
   ],
   "source": [
    "from pyscf import scf, cc, gto\n",
    "\n",
    "molecule = gto.Mole(atom=geometry, charge=0).build()\n",
    "\n",
    "print(\"Whole system DFT\")\n",
    "ks = scf.RKS(molecule)\n",
    "ks.conv_tol = convergence\n",
    "ks.xc = xc_functional\n",
    "whole_dft = ks.kernel()\n",
    "print(\"\")\n",
    "\n",
    "print(\"Hartree Fock\")\n",
    "hf = scf.RHF(molecule)\n",
    "hf.conv_tol = convergence\n",
    "hf_energy = hf.kernel()\n",
    "print(\"\")\n",
    "\n",
    "print(\"CCSD\")\n",
    "ccsd = cc.CCSD(hf)\n",
    "ccsd.conv_tol = convergence\n",
    "whole_ccsd, *_ = ccsd.kernel()\n",
    "whole_ccsd += hf_energy"
   ]
  },
  {
   "cell_type": "code",
   "execution_count": 10,
   "metadata": {},
   "outputs": [
    {
     "ename": "TypeError",
     "evalue": "Failed to convert a dict to a sparse matrix.",
     "output_type": "error",
     "traceback": [
      "\u001b[0;31m---------------------------------------------------------------------------\u001b[0m",
      "\u001b[0;31mTypeError\u001b[0m                                 Traceback (most recent call last)",
      "\u001b[0;32m/tmp/ipykernel_1081947/3483694013.py\u001b[0m in \u001b[0;36m<module>\u001b[0;34m\u001b[0m\n\u001b[1;32m      6\u001b[0m \u001b[0;31m#n_qubits = [count_qubits(qham) for qham in qhams.values()]\u001b[0m\u001b[0;34m\u001b[0m\u001b[0;34m\u001b[0m\u001b[0;34m\u001b[0m\u001b[0m\n\u001b[1;32m      7\u001b[0m \u001b[0;34m\u001b[0m\u001b[0m\n\u001b[0;32m----> 8\u001b[0;31m \u001b[0menergies\u001b[0m \u001b[0;34m=\u001b[0m \u001b[0;34m[\u001b[0m\u001b[0mwhole_dft\u001b[0m\u001b[0;34m]\u001b[0m \u001b[0;34m+\u001b[0m \u001b[0;34m[\u001b[0m\u001b[0meigenspectrum\u001b[0m\u001b[0;34m(\u001b[0m\u001b[0mqham\u001b[0m\u001b[0;34m)\u001b[0m\u001b[0;34m[\u001b[0m\u001b[0;36m0\u001b[0m\u001b[0;34m]\u001b[0m \u001b[0;32mfor\u001b[0m \u001b[0mqham\u001b[0m \u001b[0;32min\u001b[0m \u001b[0mqhams\u001b[0m\u001b[0;34m.\u001b[0m\u001b[0mvalues\u001b[0m\u001b[0;34m(\u001b[0m\u001b[0;34m)\u001b[0m\u001b[0;34m]\u001b[0m\u001b[0;34m\u001b[0m\u001b[0;34m\u001b[0m\u001b[0m\n\u001b[0m\u001b[1;32m      9\u001b[0m \u001b[0mn_qubits\u001b[0m \u001b[0;34m=\u001b[0m \u001b[0;34m[\u001b[0m\u001b[0;36m0\u001b[0m\u001b[0;34m]\u001b[0m \u001b[0;34m+\u001b[0m \u001b[0;34m[\u001b[0m\u001b[0mcount_qubits\u001b[0m\u001b[0;34m(\u001b[0m\u001b[0mqham\u001b[0m\u001b[0;34m)\u001b[0m \u001b[0;32mfor\u001b[0m \u001b[0mqham\u001b[0m \u001b[0;32min\u001b[0m \u001b[0mqhams\u001b[0m\u001b[0;34m.\u001b[0m\u001b[0mvalues\u001b[0m\u001b[0;34m(\u001b[0m\u001b[0;34m)\u001b[0m\u001b[0;34m]\u001b[0m\u001b[0;34m\u001b[0m\u001b[0;34m\u001b[0m\u001b[0m\n",
      "\u001b[0;32m/tmp/ipykernel_1081947/3483694013.py\u001b[0m in \u001b[0;36m<listcomp>\u001b[0;34m(.0)\u001b[0m\n\u001b[1;32m      6\u001b[0m \u001b[0;31m#n_qubits = [count_qubits(qham) for qham in qhams.values()]\u001b[0m\u001b[0;34m\u001b[0m\u001b[0;34m\u001b[0m\u001b[0;34m\u001b[0m\u001b[0m\n\u001b[1;32m      7\u001b[0m \u001b[0;34m\u001b[0m\u001b[0m\n\u001b[0;32m----> 8\u001b[0;31m \u001b[0menergies\u001b[0m \u001b[0;34m=\u001b[0m \u001b[0;34m[\u001b[0m\u001b[0mwhole_dft\u001b[0m\u001b[0;34m]\u001b[0m \u001b[0;34m+\u001b[0m \u001b[0;34m[\u001b[0m\u001b[0meigenspectrum\u001b[0m\u001b[0;34m(\u001b[0m\u001b[0mqham\u001b[0m\u001b[0;34m)\u001b[0m\u001b[0;34m[\u001b[0m\u001b[0;36m0\u001b[0m\u001b[0;34m]\u001b[0m \u001b[0;32mfor\u001b[0m \u001b[0mqham\u001b[0m \u001b[0;32min\u001b[0m \u001b[0mqhams\u001b[0m\u001b[0;34m.\u001b[0m\u001b[0mvalues\u001b[0m\u001b[0;34m(\u001b[0m\u001b[0;34m)\u001b[0m\u001b[0;34m]\u001b[0m\u001b[0;34m\u001b[0m\u001b[0;34m\u001b[0m\u001b[0m\n\u001b[0m\u001b[1;32m      9\u001b[0m \u001b[0mn_qubits\u001b[0m \u001b[0;34m=\u001b[0m \u001b[0;34m[\u001b[0m\u001b[0;36m0\u001b[0m\u001b[0;34m]\u001b[0m \u001b[0;34m+\u001b[0m \u001b[0;34m[\u001b[0m\u001b[0mcount_qubits\u001b[0m\u001b[0;34m(\u001b[0m\u001b[0mqham\u001b[0m\u001b[0;34m)\u001b[0m \u001b[0;32mfor\u001b[0m \u001b[0mqham\u001b[0m \u001b[0;32min\u001b[0m \u001b[0mqhams\u001b[0m\u001b[0;34m.\u001b[0m\u001b[0mvalues\u001b[0m\u001b[0;34m(\u001b[0m\u001b[0;34m)\u001b[0m\u001b[0;34m]\u001b[0m\u001b[0;34m\u001b[0m\u001b[0;34m\u001b[0m\u001b[0m\n",
      "\u001b[0;32m~/anaconda3/envs/nbed/lib/python3.7/site-packages/openfermion/linalg/sparse_tools.py\u001b[0m in \u001b[0;36meigenspectrum\u001b[0;34m(operator, n_qubits)\u001b[0m\n\u001b[1;32m    646\u001b[0m     \u001b[0;32mif\u001b[0m \u001b[0misinstance\u001b[0m\u001b[0;34m(\u001b[0m\u001b[0moperator\u001b[0m\u001b[0;34m,\u001b[0m \u001b[0;34m(\u001b[0m\u001b[0mQuadOperator\u001b[0m\u001b[0;34m,\u001b[0m \u001b[0mBosonOperator\u001b[0m\u001b[0;34m)\u001b[0m\u001b[0;34m)\u001b[0m\u001b[0;34m:\u001b[0m\u001b[0;34m\u001b[0m\u001b[0;34m\u001b[0m\u001b[0m\n\u001b[1;32m    647\u001b[0m         \u001b[0;32mraise\u001b[0m \u001b[0mTypeError\u001b[0m\u001b[0;34m(\u001b[0m\u001b[0;34m'Operator of invalid type.'\u001b[0m\u001b[0;34m)\u001b[0m\u001b[0;34m\u001b[0m\u001b[0;34m\u001b[0m\u001b[0m\n\u001b[0;32m--> 648\u001b[0;31m     \u001b[0msparse_operator\u001b[0m \u001b[0;34m=\u001b[0m \u001b[0mget_sparse_operator\u001b[0m\u001b[0;34m(\u001b[0m\u001b[0moperator\u001b[0m\u001b[0;34m,\u001b[0m \u001b[0mn_qubits\u001b[0m\u001b[0;34m)\u001b[0m\u001b[0;34m\u001b[0m\u001b[0;34m\u001b[0m\u001b[0m\n\u001b[0m\u001b[1;32m    649\u001b[0m     \u001b[0mspectrum\u001b[0m \u001b[0;34m=\u001b[0m \u001b[0msparse_eigenspectrum\u001b[0m\u001b[0;34m(\u001b[0m\u001b[0msparse_operator\u001b[0m\u001b[0;34m)\u001b[0m\u001b[0;34m\u001b[0m\u001b[0;34m\u001b[0m\u001b[0m\n\u001b[1;32m    650\u001b[0m     \u001b[0;32mreturn\u001b[0m \u001b[0mspectrum\u001b[0m\u001b[0;34m\u001b[0m\u001b[0;34m\u001b[0m\u001b[0m\n",
      "\u001b[0;32m~/anaconda3/envs/nbed/lib/python3.7/site-packages/openfermion/linalg/sparse_tools.py\u001b[0m in \u001b[0;36mget_sparse_operator\u001b[0;34m(operator, n_qubits, trunc, hbar)\u001b[0m\n\u001b[1;32m   1263\u001b[0m     \u001b[0;32melse\u001b[0m\u001b[0;34m:\u001b[0m\u001b[0;34m\u001b[0m\u001b[0;34m\u001b[0m\u001b[0m\n\u001b[1;32m   1264\u001b[0m         raise TypeError('Failed to convert a {} to a sparse matrix.'.format(\n\u001b[0;32m-> 1265\u001b[0;31m             type(operator).__name__))\n\u001b[0m\u001b[1;32m   1266\u001b[0m \u001b[0;34m\u001b[0m\u001b[0m\n\u001b[1;32m   1267\u001b[0m \u001b[0;34m\u001b[0m\u001b[0m\n",
      "\u001b[0;31mTypeError\u001b[0m: Failed to convert a dict to a sparse matrix."
     ]
    }
   ],
   "source": [
    "from openfermion import eigenspectrum\n",
    "from openfermion import count_qubits\n",
    "\n",
    "active_atoms = [i for i in range(0,4)]\n",
    "#energies = [eigenspectrum(qham)[0] for qham in qhams.values()]\n",
    "#n_qubits = [count_qubits(qham) for qham in qhams.values()]\n",
    "\n",
    "energies = [whole_dft] + [eigenspectrum(qham)[0] for qham in qhams.values()]\n",
    "n_qubits = [0] + [count_qubits(qham) for qham in qhams.values()]\n"
   ]
  },
  {
   "cell_type": "code",
   "execution_count": null,
   "metadata": {},
   "outputs": [
    {
     "data": {
      "text/plain": [
       "[-75.12311562350982, -75.06244449494378]"
      ]
     },
     "execution_count": 23,
     "metadata": {},
     "output_type": "execute_result"
    }
   ],
   "source": []
  },
  {
   "cell_type": "code",
   "execution_count": null,
   "metadata": {},
   "outputs": [
    {
     "name": "stderr",
     "output_type": "stream",
     "text": [
      "/home/mwilliams/anaconda3/envs/nbed/lib/python3.7/site-packages/ipykernel_launcher.py:13: UserWarning: Matplotlib is currently using module://matplotlib_inline.backend_inline, which is a non-GUI backend, so cannot show the figure.\n",
      "  del sys.path[0]\n"
     ]
    },
    {
     "data": {
      "image/png": "[encoded data removed]",
      "text/plain": [
       "<Figure size 432x288 with 2 Axes>"
      ]
     },
     "metadata": {
      "needs_background": "light"
     },
     "output_type": "display_data"
    }
   ],
   "source": [
    "fig, ax = plt.subplots()\n",
    "ax2 = ax.twinx()\n",
    "ax2.set_ylabel('Number of Qubits Used')\n",
    "ax2.plot(n_qubits, linestyle='dotted', color='black')\n",
    "\n",
    "ax.hlines(whole_ccsd, 0, 2, colors='blue', linestyle='dashed', label='CCSD')\n",
    "ax.hlines(whole_dft, 0, 2, colors='red', linestyle='dashed', label='DFT')\n",
    "ax.plot(active_atoms, energies, label='TEST')\n",
    "ax.set_xlabel('Active Carbon Atoms')\n",
    "ax.set_ylabel('Energy (Ha)')\n",
    "ax.set_title('Embeddings of Cyclohexane')\n",
    "ax.legend()\n",
    "fig.show()"
   ]
  }
 ],
 "metadata": {
  "interpreter": {
   "hash": "fe514aa320be100644bbd958a3f38aa9f15de9075cf36cc4d239ea0f19dcd868"
  },
  "kernelspec": {
   "display_name": "Python 3.7.11 64-bit ('nbed': conda)",
   "name": "python3"
  },
  "language_info": {
   "codemirror_mode": {
    "name": "ipython",
    "version": 3
   },
   "file_extension": ".py",
   "mimetype": "text/x-python",
   "name": "python",
   "nbconvert_exporter": "python",
   "pygments_lexer": "ipython3",
   "version": "3.7.10"
  },
  "orig_nbformat": 4
 },
 "nbformat": 4,
 "nbformat_minor": 2
}
