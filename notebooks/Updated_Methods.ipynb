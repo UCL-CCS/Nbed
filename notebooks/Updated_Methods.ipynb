{
 "cells": [
  {
   "cell_type": "code",
   "execution_count": 1,
   "metadata": {},
   "outputs": [],
   "source": [
    "import scipy as sp\n",
    "from pyscf import gto, dft, lib, mp, cc, scf, tools, ci, fci"
   ]
  },
  {
   "cell_type": "code",
   "execution_count": 2,
   "metadata": {},
   "outputs": [],
   "source": [
    "import numpy as np\n",
    "import sys\n",
    "sys.path.append( './src/' )"
   ]
  },
  {
   "cell_type": "code",
   "execution_count": 3,
   "metadata": {},
   "outputs": [],
   "source": [
    "matrix_dot = lambda A, B: np.einsum('ij,ij', A, B)"
   ]
  },
  {
   "cell_type": "code",
   "execution_count": null,
   "metadata": {},
   "outputs": [],
   "source": []
  },
  {
   "cell_type": "code",
   "execution_count": 4,
   "metadata": {},
   "outputs": [],
   "source": [
    "# H    0.7493682,0.0000000,0.4424329\n",
    "# O    0.0000000,0.0000000,-0.1653507\n",
    "# H   -0.7493682,0.0000000,0.4424329"
   ]
  },
  {
   "cell_type": "markdown",
   "metadata": {},
   "source": [
    "# Define Molecule \n",
    "\n",
    "- Note first N atoms will be the ACTIVE portion of the molecule\n",
    "- the remaining atoms will be the environment"
   ]
  },
  {
   "cell_type": "code",
   "execution_count": 5,
   "metadata": {},
   "outputs": [],
   "source": [
    "geometry = [\n",
    "['H@1', (0.7493682,0.0000000,0.4424329)],\n",
    "['O@1', (0.0000000,0.0000000,-0.1653507)],\n",
    "    \n",
    "['H#', (-0.7493682,0.0000000,0.4424329)]\n",
    "]\n",
    "\n",
    "# geometry = [\n",
    "# ['Be@1', (0.0000000,0.0000000,0.0000000)],\n",
    "# ['H@1', (0.0000000,0.0000000,+1)],\n",
    "    \n",
    "# ['H#', (0.0000000,0.0000000,-1)]\n",
    "# ]\n",
    "\n",
    "# geometry = [\n",
    "# ['Li', (0.0000000,0.0000000,0.0000000)],\n",
    "# ['H', (0.0000000,0.0000000,+1.54)],\n",
    "    \n",
    "# ]"
   ]
  },
  {
   "cell_type": "code",
   "execution_count": 6,
   "metadata": {},
   "outputs": [
    {
     "data": {
      "application/javascript": [
       "/* Put everything inside the global mpl namespace */\n",
       "window.mpl = {};\n",
       "\n",
       "\n",
       "mpl.get_websocket_type = function() {\n",
       "    if (typeof(WebSocket) !== 'undefined') {\n",
       "        return WebSocket;\n",
       "    } else if (typeof(MozWebSocket) !== 'undefined') {\n",
       "        return MozWebSocket;\n",
       "    } else {\n",
       "        alert('Your browser does not have WebSocket support. ' +\n",
       "              'Please try Chrome, Safari or Firefox ≥ 6. ' +\n",
       "              'Firefox 4 and 5 are also supported but you ' +\n",
       "              'have to enable WebSockets in about:config.');\n",
       "    };\n",
       "}\n",
       "\n",
       "mpl.figure = function(figure_id, websocket, ondownload, parent_element) {\n",
       "    this.id = figure_id;\n",
       "\n",
       "    this.ws = websocket;\n",
       "\n",
       "    this.supports_binary = (this.ws.binaryType != undefined);\n",
       "\n",
       "    if (!this.supports_binary) {\n",
       "        var warnings = document.getElementById(\"mpl-warnings\");\n",
       "        if (warnings) {\n",
       "            warnings.style.display = 'block';\n",
       "            warnings.textContent = (\n",
       "                \"This browser does not support binary websocket messages. \" +\n",
       "                    \"Performance may be slow.\");\n",
       "        }\n",
       "    }\n",
       "\n",
       "    this.imageObj = new Image();\n",
       "\n",
       "    this.context = undefined;\n",
       "    this.message = undefined;\n",
       "    this.canvas = undefined;\n",
       "    this.rubberband_canvas = undefined;\n",
       "    this.rubberband_context = undefined;\n",
       "    this.format_dropdown = undefined;\n",
       "\n",
       "    this.image_mode = 'full';\n",
       "\n",
       "    this.root = $('<div/>');\n",
       "    this._root_extra_style(this.root)\n",
       "    this.root.attr('style', 'display: inline-block');\n",
       "\n",
       "    $(parent_element).append(this.root);\n",
       "\n",
       "    this._init_header(this);\n",
       "    this._init_canvas(this);\n",
       "    this._init_toolbar(this);\n",
       "\n",
       "    var fig = this;\n",
       "\n",
       "    this.waiting = false;\n",
       "\n",
       "    this.ws.onopen =  function () {\n",
       "            fig.send_message(\"supports_binary\", {value: fig.supports_binary});\n",
       "            fig.send_message(\"send_image_mode\", {});\n",
       "            if (mpl.ratio != 1) {\n",
       "                fig.send_message(\"set_dpi_ratio\", {'dpi_ratio': mpl.ratio});\n",
       "            }\n",
       "            fig.send_message(\"refresh\", {});\n",
       "        }\n",
       "\n",
       "    this.imageObj.onload = function() {\n",
       "            if (fig.image_mode == 'full') {\n",
       "                // Full images could contain transparency (where diff images\n",
       "                // almost always do), so we need to clear the canvas so that\n",
       "                // there is no ghosting.\n",
       "                fig.context.clearRect(0, 0, fig.canvas.width, fig.canvas.height);\n",
       "            }\n",
       "            fig.context.drawImage(fig.imageObj, 0, 0);\n",
       "        };\n",
       "\n",
       "    this.imageObj.onunload = function() {\n",
       "        fig.ws.close();\n",
       "    }\n",
       "\n",
       "    this.ws.onmessage = this._make_on_message_function(this);\n",
       "\n",
       "    this.ondownload = ondownload;\n",
       "}\n",
       "\n",
       "mpl.figure.prototype._init_header = function() {\n",
       "    var titlebar = $(\n",
       "        '<div class=\"ui-dialog-titlebar ui-widget-header ui-corner-all ' +\n",
       "        'ui-helper-clearfix\"/>');\n",
       "    var titletext = $(\n",
       "        '<div class=\"ui-dialog-title\" style=\"width: 100%; ' +\n",
       "        'text-align: center; padding: 3px;\"/>');\n",
       "    titlebar.append(titletext)\n",
       "    this.root.append(titlebar);\n",
       "    this.header = titletext[0];\n",
       "}\n",
       "\n",
       "\n",
       "\n",
       "mpl.figure.prototype._canvas_extra_style = function(canvas_div) {\n",
       "\n",
       "}\n",
       "\n",
       "\n",
       "mpl.figure.prototype._root_extra_style = function(canvas_div) {\n",
       "\n",
       "}\n",
       "\n",
       "mpl.figure.prototype._init_canvas = function() {\n",
       "    var fig = this;\n",
       "\n",
       "    var canvas_div = $('<div/>');\n",
       "\n",
       "    canvas_div.attr('style', 'position: relative; clear: both; outline: 0');\n",
       "\n",
       "    function canvas_keyboard_event(event) {\n",
       "        return fig.key_event(event, event['data']);\n",
       "    }\n",
       "\n",
       "    canvas_div.keydown('key_press', canvas_keyboard_event);\n",
       "    canvas_div.keyup('key_release', canvas_keyboard_event);\n",
       "    this.canvas_div = canvas_div\n",
       "    this._canvas_extra_style(canvas_div)\n",
       "    this.root.append(canvas_div);\n",
       "\n",
       "    var canvas = $('<canvas/>');\n",
       "    canvas.addClass('mpl-canvas');\n",
       "    canvas.attr('style', \"left: 0; top: 0; z-index: 0; outline: 0\")\n",
       "\n",
       "    this.canvas = canvas[0];\n",
       "    this.context = canvas[0].getContext(\"2d\");\n",
       "\n",
       "    var backingStore = this.context.backingStorePixelRatio ||\n",
       "\tthis.context.webkitBackingStorePixelRatio ||\n",
       "\tthis.context.mozBackingStorePixelRatio ||\n",
       "\tthis.context.msBackingStorePixelRatio ||\n",
       "\tthis.context.oBackingStorePixelRatio ||\n",
       "\tthis.context.backingStorePixelRatio || 1;\n",
       "\n",
       "    mpl.ratio = (window.devicePixelRatio || 1) / backingStore;\n",
       "\n",
       "    var rubberband = $('<canvas/>');\n",
       "    rubberband.attr('style', \"position: absolute; left: 0; top: 0; z-index: 1;\")\n",
       "\n",
       "    var pass_mouse_events = true;\n",
       "\n",
       "    canvas_div.resizable({\n",
       "        start: function(event, ui) {\n",
       "            pass_mouse_events = false;\n",
       "        },\n",
       "        resize: function(event, ui) {\n",
       "            fig.request_resize(ui.size.width, ui.size.height);\n",
       "        },\n",
       "        stop: function(event, ui) {\n",
       "            pass_mouse_events = true;\n",
       "            fig.request_resize(ui.size.width, ui.size.height);\n",
       "        },\n",
       "    });\n",
       "\n",
       "    function mouse_event_fn(event) {\n",
       "        if (pass_mouse_events)\n",
       "            return fig.mouse_event(event, event['data']);\n",
       "    }\n",
       "\n",
       "    rubberband.mousedown('button_press', mouse_event_fn);\n",
       "    rubberband.mouseup('button_release', mouse_event_fn);\n",
       "    // Throttle sequential mouse events to 1 every 20ms.\n",
       "    rubberband.mousemove('motion_notify', mouse_event_fn);\n",
       "\n",
       "    rubberband.mouseenter('figure_enter', mouse_event_fn);\n",
       "    rubberband.mouseleave('figure_leave', mouse_event_fn);\n",
       "\n",
       "    canvas_div.on(\"wheel\", function (event) {\n",
       "        event = event.originalEvent;\n",
       "        event['data'] = 'scroll'\n",
       "        if (event.deltaY < 0) {\n",
       "            event.step = 1;\n",
       "        } else {\n",
       "            event.step = -1;\n",
       "        }\n",
       "        mouse_event_fn(event);\n",
       "    });\n",
       "\n",
       "    canvas_div.append(canvas);\n",
       "    canvas_div.append(rubberband);\n",
       "\n",
       "    this.rubberband = rubberband;\n",
       "    this.rubberband_canvas = rubberband[0];\n",
       "    this.rubberband_context = rubberband[0].getContext(\"2d\");\n",
       "    this.rubberband_context.strokeStyle = \"#000000\";\n",
       "\n",
       "    this._resize_canvas = function(width, height) {\n",
       "        // Keep the size of the canvas, canvas container, and rubber band\n",
       "        // canvas in synch.\n",
       "        canvas_div.css('width', width)\n",
       "        canvas_div.css('height', height)\n",
       "\n",
       "        canvas.attr('width', width * mpl.ratio);\n",
       "        canvas.attr('height', height * mpl.ratio);\n",
       "        canvas.attr('style', 'width: ' + width + 'px; height: ' + height + 'px;');\n",
       "\n",
       "        rubberband.attr('width', width);\n",
       "        rubberband.attr('height', height);\n",
       "    }\n",
       "\n",
       "    // Set the figure to an initial 600x600px, this will subsequently be updated\n",
       "    // upon first draw.\n",
       "    this._resize_canvas(600, 600);\n",
       "\n",
       "    // Disable right mouse context menu.\n",
       "    $(this.rubberband_canvas).bind(\"contextmenu\",function(e){\n",
       "        return false;\n",
       "    });\n",
       "\n",
       "    function set_focus () {\n",
       "        canvas.focus();\n",
       "        canvas_div.focus();\n",
       "    }\n",
       "\n",
       "    window.setTimeout(set_focus, 100);\n",
       "}\n",
       "\n",
       "mpl.figure.prototype._init_toolbar = function() {\n",
       "    var fig = this;\n",
       "\n",
       "    var nav_element = $('<div/>');\n",
       "    nav_element.attr('style', 'width: 100%');\n",
       "    this.root.append(nav_element);\n",
       "\n",
       "    // Define a callback function for later on.\n",
       "    function toolbar_event(event) {\n",
       "        return fig.toolbar_button_onclick(event['data']);\n",
       "    }\n",
       "    function toolbar_mouse_event(event) {\n",
       "        return fig.toolbar_button_onmouseover(event['data']);\n",
       "    }\n",
       "\n",
       "    for(var toolbar_ind in mpl.toolbar_items) {\n",
       "        var name = mpl.toolbar_items[toolbar_ind][0];\n",
       "        var tooltip = mpl.toolbar_items[toolbar_ind][1];\n",
       "        var image = mpl.toolbar_items[toolbar_ind][2];\n",
       "        var method_name = mpl.toolbar_items[toolbar_ind][3];\n",
       "\n",
       "        if (!name) {\n",
       "            // put a spacer in here.\n",
       "            continue;\n",
       "        }\n",
       "        var button = $('<button/>');\n",
       "        button.addClass('ui-button ui-widget ui-state-default ui-corner-all ' +\n",
       "                        'ui-button-icon-only');\n",
       "        button.attr('role', 'button');\n",
       "        button.attr('aria-disabled', 'false');\n",
       "        button.click(method_name, toolbar_event);\n",
       "        button.mouseover(tooltip, toolbar_mouse_event);\n",
       "\n",
       "        var icon_img = $('<span/>');\n",
       "        icon_img.addClass('ui-button-icon-primary ui-icon');\n",
       "        icon_img.addClass(image);\n",
       "        icon_img.addClass('ui-corner-all');\n",
       "\n",
       "        var tooltip_span = $('<span/>');\n",
       "        tooltip_span.addClass('ui-button-text');\n",
       "        tooltip_span.html(tooltip);\n",
       "\n",
       "        button.append(icon_img);\n",
       "        button.append(tooltip_span);\n",
       "\n",
       "        nav_element.append(button);\n",
       "    }\n",
       "\n",
       "    var fmt_picker_span = $('<span/>');\n",
       "\n",
       "    var fmt_picker = $('<select/>');\n",
       "    fmt_picker.addClass('mpl-toolbar-option ui-widget ui-widget-content');\n",
       "    fmt_picker_span.append(fmt_picker);\n",
       "    nav_element.append(fmt_picker_span);\n",
       "    this.format_dropdown = fmt_picker[0];\n",
       "\n",
       "    for (var ind in mpl.extensions) {\n",
       "        var fmt = mpl.extensions[ind];\n",
       "        var option = $(\n",
       "            '<option/>', {selected: fmt === mpl.default_extension}).html(fmt);\n",
       "        fmt_picker.append(option);\n",
       "    }\n",
       "\n",
       "    // Add hover states to the ui-buttons\n",
       "    $( \".ui-button\" ).hover(\n",
       "        function() { $(this).addClass(\"ui-state-hover\");},\n",
       "        function() { $(this).removeClass(\"ui-state-hover\");}\n",
       "    );\n",
       "\n",
       "    var status_bar = $('<span class=\"mpl-message\"/>');\n",
       "    nav_element.append(status_bar);\n",
       "    this.message = status_bar[0];\n",
       "}\n",
       "\n",
       "mpl.figure.prototype.request_resize = function(x_pixels, y_pixels) {\n",
       "    // Request matplotlib to resize the figure. Matplotlib will then trigger a resize in the client,\n",
       "    // which will in turn request a refresh of the image.\n",
       "    this.send_message('resize', {'width': x_pixels, 'height': y_pixels});\n",
       "}\n",
       "\n",
       "mpl.figure.prototype.send_message = function(type, properties) {\n",
       "    properties['type'] = type;\n",
       "    properties['figure_id'] = this.id;\n",
       "    this.ws.send(JSON.stringify(properties));\n",
       "}\n",
       "\n",
       "mpl.figure.prototype.send_draw_message = function() {\n",
       "    if (!this.waiting) {\n",
       "        this.waiting = true;\n",
       "        this.ws.send(JSON.stringify({type: \"draw\", figure_id: this.id}));\n",
       "    }\n",
       "}\n",
       "\n",
       "\n",
       "mpl.figure.prototype.handle_save = function(fig, msg) {\n",
       "    var format_dropdown = fig.format_dropdown;\n",
       "    var format = format_dropdown.options[format_dropdown.selectedIndex].value;\n",
       "    fig.ondownload(fig, format);\n",
       "}\n",
       "\n",
       "\n",
       "mpl.figure.prototype.handle_resize = function(fig, msg) {\n",
       "    var size = msg['size'];\n",
       "    if (size[0] != fig.canvas.width || size[1] != fig.canvas.height) {\n",
       "        fig._resize_canvas(size[0], size[1]);\n",
       "        fig.send_message(\"refresh\", {});\n",
       "    };\n",
       "}\n",
       "\n",
       "mpl.figure.prototype.handle_rubberband = function(fig, msg) {\n",
       "    var x0 = msg['x0'] / mpl.ratio;\n",
       "    var y0 = (fig.canvas.height - msg['y0']) / mpl.ratio;\n",
       "    var x1 = msg['x1'] / mpl.ratio;\n",
       "    var y1 = (fig.canvas.height - msg['y1']) / mpl.ratio;\n",
       "    x0 = Math.floor(x0) + 0.5;\n",
       "    y0 = Math.floor(y0) + 0.5;\n",
       "    x1 = Math.floor(x1) + 0.5;\n",
       "    y1 = Math.floor(y1) + 0.5;\n",
       "    var min_x = Math.min(x0, x1);\n",
       "    var min_y = Math.min(y0, y1);\n",
       "    var width = Math.abs(x1 - x0);\n",
       "    var height = Math.abs(y1 - y0);\n",
       "\n",
       "    fig.rubberband_context.clearRect(\n",
       "        0, 0, fig.canvas.width / mpl.ratio, fig.canvas.height / mpl.ratio);\n",
       "\n",
       "    fig.rubberband_context.strokeRect(min_x, min_y, width, height);\n",
       "}\n",
       "\n",
       "mpl.figure.prototype.handle_figure_label = function(fig, msg) {\n",
       "    // Updates the figure title.\n",
       "    fig.header.textContent = msg['label'];\n",
       "}\n",
       "\n",
       "mpl.figure.prototype.handle_cursor = function(fig, msg) {\n",
       "    var cursor = msg['cursor'];\n",
       "    switch(cursor)\n",
       "    {\n",
       "    case 0:\n",
       "        cursor = 'pointer';\n",
       "        break;\n",
       "    case 1:\n",
       "        cursor = 'default';\n",
       "        break;\n",
       "    case 2:\n",
       "        cursor = 'crosshair';\n",
       "        break;\n",
       "    case 3:\n",
       "        cursor = 'move';\n",
       "        break;\n",
       "    }\n",
       "    fig.rubberband_canvas.style.cursor = cursor;\n",
       "}\n",
       "\n",
       "mpl.figure.prototype.handle_message = function(fig, msg) {\n",
       "    fig.message.textContent = msg['message'];\n",
       "}\n",
       "\n",
       "mpl.figure.prototype.handle_draw = function(fig, msg) {\n",
       "    // Request the server to send over a new figure.\n",
       "    fig.send_draw_message();\n",
       "}\n",
       "\n",
       "mpl.figure.prototype.handle_image_mode = function(fig, msg) {\n",
       "    fig.image_mode = msg['mode'];\n",
       "}\n",
       "\n",
       "mpl.figure.prototype.updated_canvas_event = function() {\n",
       "    // Called whenever the canvas gets updated.\n",
       "    this.send_message(\"ack\", {});\n",
       "}\n",
       "\n",
       "// A function to construct a web socket function for onmessage handling.\n",
       "// Called in the figure constructor.\n",
       "mpl.figure.prototype._make_on_message_function = function(fig) {\n",
       "    return function socket_on_message(evt) {\n",
       "        if (evt.data instanceof Blob) {\n",
       "            /* FIXME: We get \"Resource interpreted as Image but\n",
       "             * transferred with MIME type text/plain:\" errors on\n",
       "             * Chrome.  But how to set the MIME type?  It doesn't seem\n",
       "             * to be part of the websocket stream */\n",
       "            evt.data.type = \"image/png\";\n",
       "\n",
       "            /* Free the memory for the previous frames */\n",
       "            if (fig.imageObj.src) {\n",
       "                (window.URL || window.webkitURL).revokeObjectURL(\n",
       "                    fig.imageObj.src);\n",
       "            }\n",
       "\n",
       "            fig.imageObj.src = (window.URL || window.webkitURL).createObjectURL(\n",
       "                evt.data);\n",
       "            fig.updated_canvas_event();\n",
       "            fig.waiting = false;\n",
       "            return;\n",
       "        }\n",
       "        else if (typeof evt.data === 'string' && evt.data.slice(0, 21) == \"data:image/png;base64\") {\n",
       "            fig.imageObj.src = evt.data;\n",
       "            fig.updated_canvas_event();\n",
       "            fig.waiting = false;\n",
       "            return;\n",
       "        }\n",
       "\n",
       "        var msg = JSON.parse(evt.data);\n",
       "        var msg_type = msg['type'];\n",
       "\n",
       "        // Call the  \"handle_{type}\" callback, which takes\n",
       "        // the figure and JSON message as its only arguments.\n",
       "        try {\n",
       "            var callback = fig[\"handle_\" + msg_type];\n",
       "        } catch (e) {\n",
       "            console.log(\"No handler for the '\" + msg_type + \"' message type: \", msg);\n",
       "            return;\n",
       "        }\n",
       "\n",
       "        if (callback) {\n",
       "            try {\n",
       "                // console.log(\"Handling '\" + msg_type + \"' message: \", msg);\n",
       "                callback(fig, msg);\n",
       "            } catch (e) {\n",
       "                console.log(\"Exception inside the 'handler_\" + msg_type + \"' callback:\", e, e.stack, msg);\n",
       "            }\n",
       "        }\n",
       "    };\n",
       "}\n",
       "\n",
       "// from http://stackoverflow.com/questions/1114465/getting-mouse-location-in-canvas\n",
       "mpl.findpos = function(e) {\n",
       "    //this section is from http://www.quirksmode.org/js/events_properties.html\n",
       "    var targ;\n",
       "    if (!e)\n",
       "        e = window.event;\n",
       "    if (e.target)\n",
       "        targ = e.target;\n",
       "    else if (e.srcElement)\n",
       "        targ = e.srcElement;\n",
       "    if (targ.nodeType == 3) // defeat Safari bug\n",
       "        targ = targ.parentNode;\n",
       "\n",
       "    // jQuery normalizes the pageX and pageY\n",
       "    // pageX,Y are the mouse positions relative to the document\n",
       "    // offset() returns the position of the element relative to the document\n",
       "    var x = e.pageX - $(targ).offset().left;\n",
       "    var y = e.pageY - $(targ).offset().top;\n",
       "\n",
       "    return {\"x\": x, \"y\": y};\n",
       "};\n",
       "\n",
       "/*\n",
       " * return a copy of an object with only non-object keys\n",
       " * we need this to avoid circular references\n",
       " * http://stackoverflow.com/a/24161582/3208463\n",
       " */\n",
       "function simpleKeys (original) {\n",
       "  return Object.keys(original).reduce(function (obj, key) {\n",
       "    if (typeof original[key] !== 'object')\n",
       "        obj[key] = original[key]\n",
       "    return obj;\n",
       "  }, {});\n",
       "}\n",
       "\n",
       "mpl.figure.prototype.mouse_event = function(event, name) {\n",
       "    var canvas_pos = mpl.findpos(event)\n",
       "\n",
       "    if (name === 'button_press')\n",
       "    {\n",
       "        this.canvas.focus();\n",
       "        this.canvas_div.focus();\n",
       "    }\n",
       "\n",
       "    var x = canvas_pos.x * mpl.ratio;\n",
       "    var y = canvas_pos.y * mpl.ratio;\n",
       "\n",
       "    this.send_message(name, {x: x, y: y, button: event.button,\n",
       "                             step: event.step,\n",
       "                             guiEvent: simpleKeys(event)});\n",
       "\n",
       "    /* This prevents the web browser from automatically changing to\n",
       "     * the text insertion cursor when the button is pressed.  We want\n",
       "     * to control all of the cursor setting manually through the\n",
       "     * 'cursor' event from matplotlib */\n",
       "    event.preventDefault();\n",
       "    return false;\n",
       "}\n",
       "\n",
       "mpl.figure.prototype._key_event_extra = function(event, name) {\n",
       "    // Handle any extra behaviour associated with a key event\n",
       "}\n",
       "\n",
       "mpl.figure.prototype.key_event = function(event, name) {\n",
       "\n",
       "    // Prevent repeat events\n",
       "    if (name == 'key_press')\n",
       "    {\n",
       "        if (event.which === this._key)\n",
       "            return;\n",
       "        else\n",
       "            this._key = event.which;\n",
       "    }\n",
       "    if (name == 'key_release')\n",
       "        this._key = null;\n",
       "\n",
       "    var value = '';\n",
       "    if (event.ctrlKey && event.which != 17)\n",
       "        value += \"ctrl+\";\n",
       "    if (event.altKey && event.which != 18)\n",
       "        value += \"alt+\";\n",
       "    if (event.shiftKey && event.which != 16)\n",
       "        value += \"shift+\";\n",
       "\n",
       "    value += 'k';\n",
       "    value += event.which.toString();\n",
       "\n",
       "    this._key_event_extra(event, name);\n",
       "\n",
       "    this.send_message(name, {key: value,\n",
       "                             guiEvent: simpleKeys(event)});\n",
       "    return false;\n",
       "}\n",
       "\n",
       "mpl.figure.prototype.toolbar_button_onclick = function(name) {\n",
       "    if (name == 'download') {\n",
       "        this.handle_save(this, null);\n",
       "    } else {\n",
       "        this.send_message(\"toolbar_button\", {name: name});\n",
       "    }\n",
       "};\n",
       "\n",
       "mpl.figure.prototype.toolbar_button_onmouseover = function(tooltip) {\n",
       "    this.message.textContent = tooltip;\n",
       "};\n",
       "mpl.toolbar_items = [[\"Home\", \"Reset original view\", \"fa fa-home icon-home\", \"home\"], [\"Back\", \"Back to previous view\", \"fa fa-arrow-left icon-arrow-left\", \"back\"], [\"Forward\", \"Forward to next view\", \"fa fa-arrow-right icon-arrow-right\", \"forward\"], [\"\", \"\", \"\", \"\"], [\"Pan\", \"Pan axes with left mouse, zoom with right\", \"fa fa-arrows icon-move\", \"pan\"], [\"Zoom\", \"Zoom to rectangle\", \"fa fa-square-o icon-check-empty\", \"zoom\"], [\"\", \"\", \"\", \"\"], [\"Download\", \"Download plot\", \"fa fa-floppy-o icon-save\", \"download\"]];\n",
       "\n",
       "mpl.extensions = [\"eps\", \"jpeg\", \"pdf\", \"png\", \"ps\", \"raw\", \"svg\", \"tif\"];\n",
       "\n",
       "mpl.default_extension = \"png\";var comm_websocket_adapter = function(comm) {\n",
       "    // Create a \"websocket\"-like object which calls the given IPython comm\n",
       "    // object with the appropriate methods. Currently this is a non binary\n",
       "    // socket, so there is still some room for performance tuning.\n",
       "    var ws = {};\n",
       "\n",
       "    ws.close = function() {\n",
       "        comm.close()\n",
       "    };\n",
       "    ws.send = function(m) {\n",
       "        //console.log('sending', m);\n",
       "        comm.send(m);\n",
       "    };\n",
       "    // Register the callback with on_msg.\n",
       "    comm.on_msg(function(msg) {\n",
       "        //console.log('receiving', msg['content']['data'], msg);\n",
       "        // Pass the mpl event to the overridden (by mpl) onmessage function.\n",
       "        ws.onmessage(msg['content']['data'])\n",
       "    });\n",
       "    return ws;\n",
       "}\n",
       "\n",
       "mpl.mpl_figure_comm = function(comm, msg) {\n",
       "    // This is the function which gets called when the mpl process\n",
       "    // starts-up an IPython Comm through the \"matplotlib\" channel.\n",
       "\n",
       "    var id = msg.content.data.id;\n",
       "    // Get hold of the div created by the display call when the Comm\n",
       "    // socket was opened in Python.\n",
       "    var element = $(\"#\" + id);\n",
       "    var ws_proxy = comm_websocket_adapter(comm)\n",
       "\n",
       "    function ondownload(figure, format) {\n",
       "        window.open(figure.imageObj.src);\n",
       "    }\n",
       "\n",
       "    var fig = new mpl.figure(id, ws_proxy,\n",
       "                           ondownload,\n",
       "                           element.get(0));\n",
       "\n",
       "    // Call onopen now - mpl needs it, as it is assuming we've passed it a real\n",
       "    // web socket which is closed, not our websocket->open comm proxy.\n",
       "    ws_proxy.onopen();\n",
       "\n",
       "    fig.parent_element = element.get(0);\n",
       "    fig.cell_info = mpl.find_output_cell(\"<div id='\" + id + \"'></div>\");\n",
       "    if (!fig.cell_info) {\n",
       "        console.error(\"Failed to find cell for figure\", id, fig);\n",
       "        return;\n",
       "    }\n",
       "\n",
       "    var output_index = fig.cell_info[2]\n",
       "    var cell = fig.cell_info[0];\n",
       "\n",
       "};\n",
       "\n",
       "mpl.figure.prototype.handle_close = function(fig, msg) {\n",
       "    var width = fig.canvas.width/mpl.ratio\n",
       "    fig.root.unbind('remove')\n",
       "\n",
       "    // Update the output cell to use the data from the current canvas.\n",
       "    fig.push_to_output();\n",
       "    var dataURL = fig.canvas.toDataURL();\n",
       "    // Re-enable the keyboard manager in IPython - without this line, in FF,\n",
       "    // the notebook keyboard shortcuts fail.\n",
       "    IPython.keyboard_manager.enable()\n",
       "    $(fig.parent_element).html('<img src=\"' + dataURL + '\" width=\"' + width + '\">');\n",
       "    fig.close_ws(fig, msg);\n",
       "}\n",
       "\n",
       "mpl.figure.prototype.close_ws = function(fig, msg){\n",
       "    fig.send_message('closing', msg);\n",
       "    // fig.ws.close()\n",
       "}\n",
       "\n",
       "mpl.figure.prototype.push_to_output = function(remove_interactive) {\n",
       "    // Turn the data on the canvas into data in the output cell.\n",
       "    var width = this.canvas.width/mpl.ratio\n",
       "    var dataURL = this.canvas.toDataURL();\n",
       "    this.cell_info[1]['text/html'] = '<img src=\"' + dataURL + '\" width=\"' + width + '\">';\n",
       "}\n",
       "\n",
       "mpl.figure.prototype.updated_canvas_event = function() {\n",
       "    // Tell IPython that the notebook contents must change.\n",
       "    IPython.notebook.set_dirty(true);\n",
       "    this.send_message(\"ack\", {});\n",
       "    var fig = this;\n",
       "    // Wait a second, then push the new image to the DOM so\n",
       "    // that it is saved nicely (might be nice to debounce this).\n",
       "    setTimeout(function () { fig.push_to_output() }, 1000);\n",
       "}\n",
       "\n",
       "mpl.figure.prototype._init_toolbar = function() {\n",
       "    var fig = this;\n",
       "\n",
       "    var nav_element = $('<div/>');\n",
       "    nav_element.attr('style', 'width: 100%');\n",
       "    this.root.append(nav_element);\n",
       "\n",
       "    // Define a callback function for later on.\n",
       "    function toolbar_event(event) {\n",
       "        return fig.toolbar_button_onclick(event['data']);\n",
       "    }\n",
       "    function toolbar_mouse_event(event) {\n",
       "        return fig.toolbar_button_onmouseover(event['data']);\n",
       "    }\n",
       "\n",
       "    for(var toolbar_ind in mpl.toolbar_items){\n",
       "        var name = mpl.toolbar_items[toolbar_ind][0];\n",
       "        var tooltip = mpl.toolbar_items[toolbar_ind][1];\n",
       "        var image = mpl.toolbar_items[toolbar_ind][2];\n",
       "        var method_name = mpl.toolbar_items[toolbar_ind][3];\n",
       "\n",
       "        if (!name) { continue; };\n",
       "\n",
       "        var button = $('<button class=\"btn btn-default\" href=\"#\" title=\"' + name + '\"><i class=\"fa ' + image + ' fa-lg\"></i></button>');\n",
       "        button.click(method_name, toolbar_event);\n",
       "        button.mouseover(tooltip, toolbar_mouse_event);\n",
       "        nav_element.append(button);\n",
       "    }\n",
       "\n",
       "    // Add the status bar.\n",
       "    var status_bar = $('<span class=\"mpl-message\" style=\"text-align:right; float: right;\"/>');\n",
       "    nav_element.append(status_bar);\n",
       "    this.message = status_bar[0];\n",
       "\n",
       "    // Add the close button to the window.\n",
       "    var buttongrp = $('<div class=\"btn-group inline pull-right\"></div>');\n",
       "    var button = $('<button class=\"btn btn-mini btn-primary\" href=\"#\" title=\"Stop Interaction\"><i class=\"fa fa-power-off icon-remove icon-large\"></i></button>');\n",
       "    button.click(function (evt) { fig.handle_close(fig, {}); } );\n",
       "    button.mouseover('Stop Interaction', toolbar_mouse_event);\n",
       "    buttongrp.append(button);\n",
       "    var titlebar = this.root.find($('.ui-dialog-titlebar'));\n",
       "    titlebar.prepend(buttongrp);\n",
       "}\n",
       "\n",
       "mpl.figure.prototype._root_extra_style = function(el){\n",
       "    var fig = this\n",
       "    el.on(\"remove\", function(){\n",
       "\tfig.close_ws(fig, {});\n",
       "    });\n",
       "}\n",
       "\n",
       "mpl.figure.prototype._canvas_extra_style = function(el){\n",
       "    // this is important to make the div 'focusable\n",
       "    el.attr('tabindex', 0)\n",
       "    // reach out to IPython and tell the keyboard manager to turn it's self\n",
       "    // off when our div gets focus\n",
       "\n",
       "    // location in version 3\n",
       "    if (IPython.notebook.keyboard_manager) {\n",
       "        IPython.notebook.keyboard_manager.register_events(el);\n",
       "    }\n",
       "    else {\n",
       "        // location in version 2\n",
       "        IPython.keyboard_manager.register_events(el);\n",
       "    }\n",
       "\n",
       "}\n",
       "\n",
       "mpl.figure.prototype._key_event_extra = function(event, name) {\n",
       "    var manager = IPython.notebook.keyboard_manager;\n",
       "    if (!manager)\n",
       "        manager = IPython.keyboard_manager;\n",
       "\n",
       "    // Check for shift+enter\n",
       "    if (event.shiftKey && event.which == 13) {\n",
       "        this.canvas_div.blur();\n",
       "        // select the cell after this one\n",
       "        var index = IPython.notebook.find_cell_index(this.cell_info[0]);\n",
       "        IPython.notebook.select(index + 1);\n",
       "    }\n",
       "}\n",
       "\n",
       "mpl.figure.prototype.handle_save = function(fig, msg) {\n",
       "    fig.ondownload(fig, null);\n",
       "}\n",
       "\n",
       "\n",
       "mpl.find_output_cell = function(html_output) {\n",
       "    // Return the cell and output element which can be found *uniquely* in the notebook.\n",
       "    // Note - this is a bit hacky, but it is done because the \"notebook_saving.Notebook\"\n",
       "    // IPython event is triggered only after the cells have been serialised, which for\n",
       "    // our purposes (turning an active figure into a static one), is too late.\n",
       "    var cells = IPython.notebook.get_cells();\n",
       "    var ncells = cells.length;\n",
       "    for (var i=0; i<ncells; i++) {\n",
       "        var cell = cells[i];\n",
       "        if (cell.cell_type === 'code'){\n",
       "            for (var j=0; j<cell.output_area.outputs.length; j++) {\n",
       "                var data = cell.output_area.outputs[j];\n",
       "                if (data.data) {\n",
       "                    // IPython >= 3 moved mimebundle to data attribute of output\n",
       "                    data = data.data;\n",
       "                }\n",
       "                if (data['text/html'] == html_output) {\n",
       "                    return [cell, data, j];\n",
       "                }\n",
       "            }\n",
       "        }\n",
       "    }\n",
       "}\n",
       "\n",
       "// Register the function which deals with the matplotlib target/channel.\n",
       "// The kernel may be null if the page has been refreshed.\n",
       "if (IPython.notebook.kernel != null) {\n",
       "    IPython.notebook.kernel.comm_manager.register_target('matplotlib', mpl.mpl_figure_comm);\n",
       "}\n"
      ],
      "text/plain": [
       "<IPython.core.display.Javascript object>"
      ]
     },
     "metadata": {},
     "output_type": "display_data"
    },
    {
     "data": {
      "text/html": [
       "<div id='748b12fc-0393-4b3d-b04d-9b624f64b10d'></div>"
      ],
      "text/plain": [
       "<IPython.core.display.HTML object>"
      ]
     },
     "metadata": {},
     "output_type": "display_data"
    }
   ],
   "source": [
    "%matplotlib notebook\n",
    "import matplotlib.pyplot as plt\n",
    "from mpl_toolkits.mplot3d import Axes3D\n",
    "fig = plt.figure()\n",
    "ax = fig.add_subplot(111, projection='3d')\n",
    "\n",
    "ax.scatter(*geometry[0][1:][0], marker='o', color='green', label='systemA')\n",
    "ax.scatter(*geometry[1][1:][0], marker='o', color='green', label='systemA')\n",
    "\n",
    "for x in range(2, len(geometry)):\n",
    "    ax.scatter(*geometry[x][1:][0], marker='o', color='red', label='systemB')\n",
    "plt.legend()\n",
    "plt.show()\n"
   ]
  },
  {
   "cell_type": "markdown",
   "metadata": {},
   "source": [
    "# Define Params\n",
    "\n",
    "- what level to treat active and envirnoment systems"
   ]
  },
  {
   "cell_type": "code",
   "execution_count": 7,
   "metadata": {},
   "outputs": [],
   "source": [
    "## define params\n",
    "\n",
    "basis =  'STO-3G' # '6-31g' #\n",
    "low_level_xc_functional_or_HF = 'lda, vwn' #'hf'\n",
    "high_level_xc_functional = 'b3lyp'\n",
    "\n",
    "low_level_method = 'rhf'\n",
    "high_level_ref = 'rhf'\n",
    "high_level_method = 'CCSD'"
   ]
  },
  {
   "cell_type": "code",
   "execution_count": null,
   "metadata": {},
   "outputs": [],
   "source": []
  },
  {
   "cell_type": "code",
   "execution_count": null,
   "metadata": {},
   "outputs": [],
   "source": []
  },
  {
   "cell_type": "markdown",
   "metadata": {},
   "source": [
    "# Build the GLOBAL (full) molecule"
   ]
  },
  {
   "cell_type": "code",
   "execution_count": 8,
   "metadata": {},
   "outputs": [
    {
     "data": {
      "text/plain": [
       "[['H@1', (0.7493682, 0.0, 0.4424329)],\n",
       " ['O@1', (0.0, 0.0, -0.1653507)],\n",
       " ['H#', (-0.7493682, 0.0, 0.4424329)]]"
      ]
     },
     "execution_count": 8,
     "metadata": {},
     "output_type": "execute_result"
    }
   ],
   "source": [
    "full_system_mol = gto.Mole(atom= geometry,\n",
    "                      basis=basis,\n",
    "                       charge=0,\n",
    "                       #spin=0,\n",
    "                      )\n",
    "full_system_mol.build()\n",
    "full_system_mol.atom"
   ]
  },
  {
   "cell_type": "code",
   "execution_count": 9,
   "metadata": {},
   "outputs": [],
   "source": [
    "full_system_mol.verbose = 1\n",
    "full_system_mol.max_memory = 8_000 #MB"
   ]
  },
  {
   "cell_type": "code",
   "execution_count": null,
   "metadata": {},
   "outputs": [],
   "source": []
  },
  {
   "cell_type": "markdown",
   "metadata": {},
   "source": [
    "# Run Supersystem Calculation (cheap method)"
   ]
  },
  {
   "cell_type": "code",
   "execution_count": 10,
   "metadata": {},
   "outputs": [
    {
     "data": {
      "text/plain": [
       "-74.73474041595249"
      ]
     },
     "execution_count": 10,
     "metadata": {},
     "output_type": "execute_result"
    }
   ],
   "source": [
    "full_system_scf = scf.RKS(full_system_mol)\n",
    "full_system_scf.verbose=1\n",
    "full_system_scf.max_memory= 8_000\n",
    "full_system_scf.conv_tol = 1e-6\n",
    "full_system_scf.xc = low_level_xc_functional_or_HF\n",
    "full_system_scf.kernel()"
   ]
  },
  {
   "cell_type": "code",
   "execution_count": 11,
   "metadata": {},
   "outputs": [
    {
     "data": {
      "text/plain": [
       "-74.73474041595249"
      ]
     },
     "execution_count": 11,
     "metadata": {},
     "output_type": "execute_result"
    }
   ],
   "source": [
    "full_system_scf.e_tot"
   ]
  },
  {
   "cell_type": "code",
   "execution_count": 12,
   "metadata": {},
   "outputs": [
    {
     "data": {
      "text/plain": [
       "True"
      ]
     },
     "execution_count": 12,
     "metadata": {},
     "output_type": "execute_result"
    }
   ],
   "source": [
    "full_system_scf.conv_check"
   ]
  },
  {
   "cell_type": "code",
   "execution_count": 13,
   "metadata": {},
   "outputs": [],
   "source": [
    "two_e_term_total = full_system_scf.get_veff()\n",
    "e_xc_total = two_e_term_total.exc\n",
    "v_xc_total = two_e_term_total - full_system_scf.get_j() "
   ]
  },
  {
   "cell_type": "code",
   "execution_count": 14,
   "metadata": {},
   "outputs": [],
   "source": [
    "# full_system_scf.get_fock()\n",
    "# full_system_scf.get_hcore()"
   ]
  },
  {
   "cell_type": "code",
   "execution_count": 15,
   "metadata": {},
   "outputs": [],
   "source": [
    "# full_system_scf.mo_coeff"
   ]
  },
  {
   "cell_type": "code",
   "execution_count": null,
   "metadata": {},
   "outputs": [],
   "source": []
  },
  {
   "cell_type": "markdown",
   "metadata": {},
   "source": [
    "# Run expensive CI calc to compare all results too"
   ]
  },
  {
   "cell_type": "code",
   "execution_count": 16,
   "metadata": {},
   "outputs": [
    {
     "name": "stdout",
     "output_type": "stream",
     "text": [
      "E(UHF-FCI) = -75.015352478525\n"
     ]
    }
   ],
   "source": [
    "HF_scf = scf.RHF(full_system_mol)\n",
    "HF_scf.verbose=1\n",
    "HF_scf.max_memory= 8_000\n",
    "HF_scf.conv_tol = 1e-6\n",
    "HF_scf.kernel()\n",
    "\n",
    "my_fci = fci.FCI(HF_scf).run()\n",
    "print('E(UHF-FCI) = %.12f' % my_fci.e_tot)\n",
    "\n",
    "# myci = ci.CISD(HF_scf).run() # this is UCISD\n",
    "# print('UCISD total energy = ', myci.e_tot)"
   ]
  },
  {
   "cell_type": "code",
   "execution_count": null,
   "metadata": {},
   "outputs": [],
   "source": []
  },
  {
   "cell_type": "markdown",
   "metadata": {},
   "source": [
    "# Localise orbitals"
   ]
  },
  {
   "cell_type": "markdown",
   "metadata": {},
   "source": [
    "### Background\n",
    "\n",
    "The overlap matrix is:\n",
    "\n",
    "$$S_{\\mu \\nu} =  \\int d\\vec{r}_{1} \\phi_{\\mu}(1)^{*}\\phi_{\\nu}(1)$$\n",
    "\n",
    "- $\\phi_{\\mu}$ are basis functions (defined in basis set)\n",
    "\n",
    "\n",
    "The unknown molecular orbitals $\\psi_{i}$ are expanded as a linear expansion of the $K$ known basis functions:\n",
    "\n",
    "$$ \\psi_{i} =  \\sum_{\\mu=1}^{K} C_{\\mu i} \\psi_{\\mu}$$\n",
    "\n",
    "\n",
    "$C$ is a $K \\times K$ matrix of expansion coefficients $C_{\\mu i}$. The columns of $C$ describe the molecular orbitals!"
   ]
  },
  {
   "cell_type": "markdown",
   "metadata": {},
   "source": [
    "We can find the total number of electrons $N$ in the system by:\n",
    "\n",
    "$$ N =  2 \\sum_{a}^{N/2}\\int d\\vec{r}  \\bigg( \\psi_{a}(\\vec{r})^{*} \\psi_{i}(\\vec{r}) \\bigg) =  2 \\sum_{a}^{N/2} 1$$\n",
    "\n",
    "- integral gives probablity of finding electron $a$ over all space (must be 1)\n",
    "- summing over all electrons will give the total number of electrons"
   ]
  },
  {
   "cell_type": "code",
   "execution_count": null,
   "metadata": {},
   "outputs": [],
   "source": []
  },
  {
   "cell_type": "markdown",
   "metadata": {},
   "source": [
    "The charge density has the following definition:\n",
    "\n",
    "$$\\rho(\\vec{r}) = 2 \\sum_{a}^{N/2} \\bigg( \\psi_{a}(\\vec{r})^{*} \\psi_{i}(\\vec{r}) \\bigg)$$\n",
    "\n",
    "- re-write using definition of $\\psi_{i}=  \\sum_{\\mu=1}^{K} C_{\\mu i} \\psi_{\\mu}$\n",
    "\n",
    "$$\\rho(\\vec{r}) = 2 \\sum_{a}^{N/2} \\Bigg( \\bigg[ \\sum_{\\nu}^{K} C_{\\nu a}^{*} \\phi_{\\nu}(\\vec{r})^{*} \\bigg] \\bigg[ \\sum_{\\mu}^{K} C_{\\mu a}\\phi_{\\mu}(\\vec{r}) \\bigg] \\Bigg)$$\n",
    "\n",
    "- move things around\n",
    "\n",
    "$$\\rho(\\vec{r}) = \\sum_{\\nu}^{K} \\sum_{\\mu}^{K} \\Big( 2 \\sum_{a}^{N/2} C_{\\mu a} C_{\\nu a}^{*} \\Big) \\phi_{\\mu}(\\vec{r}) \\phi_{\\nu}(\\vec{r})^{*} $$\n",
    "\n",
    "- which is \n",
    "\n",
    "$$\\rho(\\vec{r}) = \\sum_{\\mu, \\nu}^{K} P_{\\mu \\nu} \\phi_{\\mu}(\\vec{r}) \\phi_{\\nu}(\\vec{r})^{*} $$\n",
    "\n",
    "\n",
    "- $P_{\\mu \\nu}$ is known as the density matrix and is:\n",
    "\n",
    "$$P_{\\mu \\nu} = 2 \\sum_{a}^{N/2} C_{\\mu a} C_{\\nu a}^{*}$$"
   ]
  },
  {
   "cell_type": "code",
   "execution_count": null,
   "metadata": {},
   "outputs": [],
   "source": []
  },
  {
   "cell_type": "markdown",
   "metadata": {},
   "source": [
    "Therefore we can also find the total number of electrons in the system by:\n",
    "\n",
    "$$ N =  2 \\sum_{a}^{N/2}\\int d\\vec{r}  \\bigg( \\psi_{a}(\\vec{r})^{*} \\psi_{i}(\\vec{r}) \\bigg) =  \\sum_{\\nu}^{K} \\sum_{\\mu}^{K} \\Big( 2 \\sum_{a}^{N/2} C_{\\mu a} C_{\\nu a}^{*} \\Big) \\int d\\vec{r} \\phi_{\\mu}(\\vec{r})  \\phi_{\\nu}(\\vec{r})^{*}$$\n",
    "\n",
    "- This is simply:\n",
    "\n",
    "$$N =  \\sum_{\\nu}^{K} \\sum_{\\mu}^{K} P_{\\mu \\nu} S_{\\nu \\mu}$$\n",
    "\n",
    "- in an orthognal basis $S$ should be the identity matrix (as it is overlap of matrix of orthogonal orbs), SO WE GET:\n",
    "\n",
    "$$N =  \\sum_{\\nu}^{K} \\sum_{\\mu}^{K} P_{\\mu \\nu} S_{\\nu \\mu} = \\sum_{\\mu}^{K} PS_{\\mu \\mu} = \\mathcal{Tr}(PS)$$"
   ]
  },
  {
   "cell_type": "code",
   "execution_count": 17,
   "metadata": {},
   "outputs": [
    {
     "name": "stdout",
     "output_type": "stream",
     "text": [
      "[[ 1.  0.  0.  0.  0.  0.  0.]\n",
      " [ 0.  1.  0.  0.  0.  0.  0.]\n",
      " [ 0.  0.  1.  0.  0. -0.  0.]\n",
      " [ 0.  0.  0.  1.  0.  0. -0.]\n",
      " [ 0.  0.  0.  0.  1.  0.  0.]\n",
      " [ 0.  0. -0.  0.  0.  1.  0.]\n",
      " [ 0.  0.  0. -0.  0.  0.  1.]]\n"
     ]
    }
   ],
   "source": [
    "S_mat = full_system_scf.get_ovlp()\n",
    "print(np.around(S_mat))"
   ]
  },
  {
   "cell_type": "markdown",
   "metadata": {},
   "source": [
    "- One can interpret $ PS_{\\mu \\mu}$ in the above equation as the number of electrons associated with $ \\phi_{\\mu}$\n",
    "- This is a **Mulliken population analysis**"
   ]
  },
  {
   "cell_type": "markdown",
   "metadata": {},
   "source": []
  },
  {
   "cell_type": "markdown",
   "metadata": {},
   "source": [
    "# Orbital Localization!"
   ]
  },
  {
   "cell_type": "code",
   "execution_count": 18,
   "metadata": {},
   "outputs": [],
   "source": [
    "from pyscf import lo"
   ]
  },
  {
   "cell_type": "markdown",
   "metadata": {},
   "source": [
    "A molecular orbital is usually delocalized, i.e. it has non-negligible amplitude over the whole system rather than only around some atom(s) or bond(s). However, one can choose a unitary rotation "
   ]
  },
  {
   "cell_type": "markdown",
   "metadata": {},
   "source": [
    "- When we perform a SCF calculation, one gets an optimized C matrix\n",
    "    - $C$ is a $K \\times K$ matrix of expansion coefficients $C_{\\mu i}$\n",
    "    - The columns of $C$ describe the molecular orbitals!\n",
    "    - MO i: $ \\psi_{i} =  \\sum_{\\mu=1}^{K} C_{\\mu i} \\psi_{\\mu}$\n",
    "    \n",
    "    \n",
    "- These molecular orbitals are usually **delocalized**\n",
    "    - non-negligible amplitude over the whole system, rather than only around some atom(s) or bond(s)\n",
    "\n",
    "- But we know in QM that a given basis choice is NOT unique\n",
    "\n",
    "\n",
    "- We can therefore perform a unitary rotation on molecular orbitals\n",
    "\n",
    "$$ \\psi_{i} U_{rot} =  \\Big( \\sum_{\\mu=1}^{K} C_{\\mu i} \\psi_{\\mu} \\Big) U_{rot} = \\psi_{i}^{new}$$\n",
    "    \n",
    "    \n",
    "The idea is to use a rotation such that the resulting orbitals $\\psi_{i}^{new}$ are as spatially localized as possible. \n",
    "\n",
    "\n",
    "The Pipek-Mezey (PM) [localization](https://notendur.hi.is/hj/papers/paperPipekmezey8.pdf) **maximizes the population charges on the atoms**:\n",
    "\n",
    "$$ f (U_{rot}) = \\sum_{A}^{N_{atoms}} \\Bigg( Z_{A} -  \\sum_{\\mu \\text{ on atom } A} PS_{\\mu \\mu} \\Bigg)$$"
   ]
  },
  {
   "cell_type": "code",
   "execution_count": 19,
   "metadata": {},
   "outputs": [],
   "source": [
    "# Take occupied orbitals of global system calc\n",
    "occ_orbs = full_system_scf.mo_coeff[:,full_system_scf.mo_occ>0]\n",
    "\n",
    "# run localization scheme\n",
    "PM = lo.PipekMezey(full_system_mol, occ_orbs)\n",
    "PM.pop_method = 'mulliken' # 'meta-lowdin', 'iao', 'becke'\n",
    "C_mull = PM.kernel()\n",
    "\n",
    "C_loc_occ = PM.mo_coeff # <-- these are the NEW C matrix (where orbitals are localized to atoms)"
   ]
  },
  {
   "cell_type": "code",
   "execution_count": 20,
   "metadata": {},
   "outputs": [
    {
     "data": {
      "text/plain": [
       "True"
      ]
     },
     "execution_count": 20,
     "metadata": {},
     "output_type": "execute_result"
    }
   ],
   "source": [
    "np.array_equal(C_mull, C_loc_occ)"
   ]
  },
  {
   "cell_type": "code",
   "execution_count": null,
   "metadata": {},
   "outputs": [],
   "source": []
  },
  {
   "cell_type": "code",
   "execution_count": 21,
   "metadata": {},
   "outputs": [
    {
     "name": "stdout",
     "output_type": "stream",
     "text": [
      "True\n"
     ]
    }
   ],
   "source": [
    "## check number of electrons is still the same \n",
    "# should be the same after change of basis has been done\n",
    "\n",
    "dm_localised = 2* C_loc_occ @ C_loc_occ.conj().T\n",
    "S = full_system_scf.get_ovlp()\n",
    "\n",
    "print(np.isclose(np.trace(dm_localised@S), full_system_mol.nelectron))"
   ]
  },
  {
   "cell_type": "code",
   "execution_count": null,
   "metadata": {},
   "outputs": [],
   "source": []
  },
  {
   "cell_type": "markdown",
   "metadata": {},
   "source": [
    "# Choose active and environment systems"
   ]
  },
  {
   "cell_type": "markdown",
   "metadata": {},
   "source": [
    "## METHOD 1 "
   ]
  },
  {
   "cell_type": "markdown",
   "metadata": {},
   "source": [
    "- Given optimized $C$ coefficient matrix\n",
    "    - which has been rotated to localize orbitals\n",
    "    - (used to build localized density matrix)\n",
    "\n",
    "\n",
    "- **Look through basis functions $\\phi_{\\mu}$ of the ACTIVE atoms**\n",
    "    \n",
    "    \n",
    "- check the mulliken charge // mulliken population of the orbital\n",
    "    - if above a certain threshold associate it to active system\n",
    "    - otherwise put in the environment"
   ]
  },
  {
   "cell_type": "code",
   "execution_count": 22,
   "metadata": {},
   "outputs": [
    {
     "data": {
      "text/plain": [
       "[['H@1', (0.7493682, 0.0, 0.4424329)],\n",
       " ['O@1', (0.0, 0.0, -0.1653507)],\n",
       " ['H#', (-0.7493682, 0.0, 0.4424329)]]"
      ]
     },
     "execution_count": 22,
     "metadata": {},
     "output_type": "execute_result"
    }
   ],
   "source": [
    "## pyscf notes\n",
    "\n",
    "# order of atoms in geometry is important\n",
    "full_system_mol.atom"
   ]
  },
  {
   "cell_type": "code",
   "execution_count": 23,
   "metadata": {},
   "outputs": [
    {
     "data": {
      "text/plain": [
       "array([[0, 1, 0, 1],\n",
       "       [1, 4, 1, 6],\n",
       "       [4, 5, 6, 7]])"
      ]
     },
     "execution_count": 23,
     "metadata": {},
     "output_type": "execute_result"
    }
   ],
   "source": [
    "# aoslice_by_atom gives a matrix:\n",
    "full_system_mol.aoslice_by_atom()\n",
    "\n",
    "# where rows are defined by atoms (given by order in full_system_mol.atom - see cell above)\n",
    "# the 3rd column gives first basis function index for THAT atom\n",
    "# the last(4th) column gives the last basis function index for THAT atom"
   ]
  },
  {
   "cell_type": "markdown",
   "metadata": {},
   "source": [
    "Therefore loop over basis function centered on the active atoms and find mulliken charge // population"
   ]
  },
  {
   "cell_type": "code",
   "execution_count": null,
   "metadata": {},
   "outputs": [],
   "source": []
  },
  {
   "cell_type": "code",
   "execution_count": 24,
   "metadata": {},
   "outputs": [
    {
     "name": "stdout",
     "output_type": "stream",
     "text": [
      "H@1\n",
      "0.8132018340805993\n",
      "###\n",
      "O@1\n",
      "1.9969765302753064\n",
      "1.857841048267\n",
      "1.0908988035870821\n",
      "2.0\n",
      "1.427879949709412\n",
      "###\n"
     ]
    },
    {
     "data": {
      "text/plain": [
       "[1, 2, 4]"
      ]
     },
     "execution_count": 24,
     "metadata": {},
     "output_type": "execute_result"
    }
   ],
   "source": [
    "# https://pubs.acs.org/doi/pdf/10.1021/ct300544e\n",
    "# paper states there are 5 active orbs... where mulliken_population threshold set to 0.4\n",
    "# here I get the result if threshold set to 0.9\n",
    "\n",
    "# NOTE in molecule the active atoms must be listed FIRST!\n",
    "\n",
    "THRESHOLD = 1.5\n",
    "AO_slice_matrix = full_system_mol.aoslice_by_atom()\n",
    "N_active_atoms = 2\n",
    "\n",
    "active_ao_ind=[]\n",
    "\n",
    "PS_matrix = dm_localised @ S\n",
    "atomic_charges_list = full_system_mol.atom_charges()\n",
    "for atm_i, atm_str in enumerate([atom_str for atom_str, _ in full_system_mol.atom][:N_active_atoms]):\n",
    "    slice_ind = list(range(AO_slice_matrix[atm_i, 2], AO_slice_matrix[atm_i, 3]))\n",
    "    \n",
    "    print(atm_str)\n",
    "    qA = atomic_charges_list[atm_i] #atomic charge of atom_i\n",
    "    for mu in slice_ind:\n",
    "        mulliken_charge = qA - PS_matrix[mu,mu]  # mulliken charge of ao centred on atom_i\n",
    "        mulliken_population = PS_matrix[mu,mu]  # mulliken pop of ao centred on atom_i\n",
    "#         print(mulliken_charge)\n",
    "        print(mulliken_population)\n",
    "        if mulliken_population>THRESHOLD: ### <--- not sure about this THRESHOLD\n",
    "            active_ao_ind.append(mu)\n",
    "        \n",
    "    print('###')\n",
    "\n",
    "active_ao_ind"
   ]
  },
  {
   "cell_type": "code",
   "execution_count": 25,
   "metadata": {},
   "outputs": [
    {
     "data": {
      "text/plain": [
       "[0, 3]"
      ]
     },
     "execution_count": 25,
     "metadata": {},
     "output_type": "execute_result"
    }
   ],
   "source": [
    "# assign the rest of the missing indices to the environment\n",
    "\n",
    "enviro_ao_ind = [ind for ind in range(C_loc_occ.shape[1]) if ind not in active_ao_ind]\n",
    "enviro_ao_ind"
   ]
  },
  {
   "cell_type": "code",
   "execution_count": null,
   "metadata": {},
   "outputs": [],
   "source": []
  },
  {
   "cell_type": "code",
   "execution_count": 26,
   "metadata": {},
   "outputs": [
    {
     "data": {
      "text/plain": [
       "6"
      ]
     },
     "execution_count": 26,
     "metadata": {},
     "output_type": "execute_result"
    }
   ],
   "source": [
    "full_system_mol.aoslice_nr_by_atom()[1][3]"
   ]
  },
  {
   "cell_type": "markdown",
   "metadata": {},
   "source": [
    "## METHOD 2 - SPADE"
   ]
  },
  {
   "cell_type": "code",
   "execution_count": 27,
   "metadata": {},
   "outputs": [],
   "source": [
    "###### SPADE\n",
    "\n",
    "# Take occupied orbitals of global system calc\n",
    "occ_orbs = full_system_scf.mo_coeff[:,full_system_scf.mo_occ>0]\n",
    "\n",
    "\n",
    "N_active_AO = AO_slice_matrix[N_active_atoms-1][3]  # find max AO index for active atoms (neg 1 as python indexs from 0)\n",
    "\n",
    "orthogonal_orbitals = occ_orbs[:N_active_AO, :] # take active rows and all columns\n",
    "\n",
    "u, singular_values, rotation_matrix = np.linalg.svd(orthogonal_orbitals, full_matrices=True)\n",
    "\n",
    "# find where largest step change \n",
    "delta_s = [(i, (singular_values[i] - singular_values[i+1] )) for i in range(len(singular_values) - 1)] # contains (index, delta_s)\n",
    "n_act_mos = max(delta_s, key=lambda x: x[0])[0] + 1 # finds index where largest step change is! (adds 1 for python indexing)\n",
    "n_env_mos = len(singular_values) - n_act_mos\n",
    "\n",
    "###\n",
    "# next rotate orbtials using SVD rotation - selecting active and enironment portions"
   ]
  },
  {
   "cell_type": "code",
   "execution_count": null,
   "metadata": {},
   "outputs": [],
   "source": []
  },
  {
   "cell_type": "code",
   "execution_count": 28,
   "metadata": {},
   "outputs": [
    {
     "name": "stdout",
     "output_type": "stream",
     "text": [
      "number of e- in system = 10\n",
      "number of e- in subsystems: 9.999999999999996\n"
     ]
    }
   ],
   "source": [
    "# localization = 'SPADE'\n",
    "localization = 'PM_loc'\n",
    "\n",
    "if localization == 'SPADE':\n",
    "    \n",
    "    # next rotate occupied orbitals of global system calc (NOT localized)\n",
    "    # using SVD rotation - selecting active and enironment portions\n",
    "    \n",
    "    act_orbitals = occ_orbs @ rotation_matrix.T[:, :n_act_mos]\n",
    "    env_orbitals = occ_orbs @ rotation_matrix.T[:, n_act_mos:]\n",
    "    \n",
    "    GLOBAL_rotated_orbitals = occ_orbs @ rotation_matrix.T\n",
    "    \n",
    "    dm_active =  2 * act_orbitals @ act_orbitals.T\n",
    "    dm_enviro =  2 * env_orbitals @ env_orbitals.T\n",
    "    \n",
    "    active_ao_ind = list(range(n_act_mos))\n",
    "    enviro_ao_ind = list(range(n_act_mos, len(singular_values)))\n",
    "    \n",
    "elif  localization == 'PM_loc':\n",
    "    \n",
    "    # take active and envirnoment orbs from LOCALIZED ORBITALS\n",
    "    act_orbitals = C_loc_occ[:, active_ao_ind]\n",
    "    env_orbitals = C_loc_occ[:, enviro_ao_ind]\n",
    "    \n",
    "    GLOBAL_rotated_orbitals = C_loc_occ\n",
    "    \n",
    "    n_act_mos = len(active_ao_ind)\n",
    "    n_env_mos = len(enviro_ao_ind) # full_system_mol.aoslice_by_atom()[-1,-1] - n_act_mos\n",
    "\n",
    "    dm_active =  2 * act_orbitals @ act_orbitals.T\n",
    "    dm_enviro =  2 * env_orbitals @ env_orbitals.T\n",
    "    \n",
    "print(f'number of e- in system = {full_system_mol.nelectron}')\n",
    "print('number of e- in subsystems:', np.trace(dm_active@S) + np.trace(dm_enviro@S))"
   ]
  },
  {
   "cell_type": "code",
   "execution_count": null,
   "metadata": {},
   "outputs": [],
   "source": []
  },
  {
   "cell_type": "code",
   "execution_count": 29,
   "metadata": {},
   "outputs": [
    {
     "data": {
      "text/plain": [
       "True"
      ]
     },
     "execution_count": 29,
     "metadata": {},
     "output_type": "execute_result"
    }
   ],
   "source": [
    "# checking denisty matrix parition makes sense:\n",
    "\n",
    "# gamma_rotated_FULL = gamma_act_rotated + gamma_env_rotated\n",
    "dm_act_and_env = 2* GLOBAL_rotated_orbitals@ GLOBAL_rotated_orbitals.conj().T\n",
    "np.allclose(dm_active+dm_enviro, dm_act_and_env)"
   ]
  },
  {
   "cell_type": "code",
   "execution_count": null,
   "metadata": {},
   "outputs": [],
   "source": []
  },
  {
   "cell_type": "markdown",
   "metadata": {},
   "source": [
    "# Save orbitals to view"
   ]
  },
  {
   "cell_type": "markdown",
   "metadata": {},
   "source": [
    "Save localized orbitals as molden file\n",
    "\n",
    "(allowing MOs to be viewed, to see if localization makes sense)\n",
    "\n",
    "open with: https://avogadro.cc/"
   ]
  },
  {
   "cell_type": "code",
   "execution_count": 30,
   "metadata": {},
   "outputs": [],
   "source": [
    "with open('LOCALIZED_orbs.molden', 'w') as outfile:\n",
    "    tools.molden.header(full_system_mol, outfile)\n",
    "    tools.molden.orbital_coeff(\n",
    "                        full_system_mol,\n",
    "                         outfile, \n",
    "                         act_orbitals, # <- active orbitals!\n",
    "                         ene=full_system_scf.mo_energy[np.array(active_ao_ind)],\n",
    "                         occ=full_system_scf.mo_occ[np.array(active_ao_ind)])"
   ]
  },
  {
   "cell_type": "code",
   "execution_count": null,
   "metadata": {},
   "outputs": [],
   "source": []
  },
  {
   "cell_type": "code",
   "execution_count": 31,
   "metadata": {},
   "outputs": [],
   "source": [
    "########################## mulliken pop check START"
   ]
  },
  {
   "cell_type": "code",
   "execution_count": 32,
   "metadata": {},
   "outputs": [
    {
     "data": {
      "text/plain": [
       "array([0.81320183, 1.99697653, 1.85784105, 1.0908988 , 2.        ,\n",
       "       1.42787995, 0.81320183])"
      ]
     },
     "execution_count": 32,
     "metadata": {},
     "output_type": "execute_result"
    }
   ],
   "source": [
    "# https://github.com/pyscf/pyscf/blob/master/pyscf/scf/hf.py\n",
    "\n",
    "Mulliken_population = np.einsum('ij,ji->i', dm_localised, S).real\n",
    "Mulliken_population"
   ]
  },
  {
   "cell_type": "code",
   "execution_count": 33,
   "metadata": {},
   "outputs": [
    {
     "data": {
      "text/plain": [
       "array([ 0.18679817, -0.37359633,  0.18679817])"
      ]
     },
     "execution_count": 33,
     "metadata": {},
     "output_type": "execute_result"
    }
   ],
   "source": [
    "mulliken_charges = np.zeros(full_system_mol.natm)\n",
    "for i, s in enumerate(full_system_mol.ao_labels(fmt=None)):\n",
    "    mulliken_charges[s[0]] += Mulliken_population[i]\n",
    "mulliken_charges = full_system_mol.atom_charges() - mulliken_charges\n",
    "mulliken_charges"
   ]
  },
  {
   "cell_type": "code",
   "execution_count": 34,
   "metadata": {},
   "outputs": [
    {
     "name": "stdout",
     "output_type": "stream",
     "text": [
      " ** Mulliken pop  **\n",
      "pop of  0 H@1 1s        0.81320\n",
      "pop of  1 O@1 1s        1.99698\n",
      "pop of  1 O@1 2s        1.85784\n",
      "pop of  1 O@1 2px       1.09090\n",
      "pop of  1 O@1 2py       2.00000\n",
      "pop of  1 O@1 2pz       1.42788\n",
      "pop of  2 H# 1s        0.81320\n",
      " ** Mulliken atomic charges  **\n",
      "charge of  0H@1 =      0.18680\n",
      "charge of  1O@1 =     -0.37360\n",
      "charge of  2H# =      0.18680\n"
     ]
    },
    {
     "data": {
      "text/plain": [
       "(array([0.81320183, 1.99697653, 1.85784105, 1.0908988 , 2.        ,\n",
       "        1.42787995, 0.81320183]),\n",
       " array([ 0.18679817, -0.37359633,  0.18679817]))"
      ]
     },
     "execution_count": 34,
     "metadata": {},
     "output_type": "execute_result"
    }
   ],
   "source": [
    "full_system_mol.mulliken_pop(dm=dm_localised)"
   ]
  },
  {
   "cell_type": "code",
   "execution_count": 35,
   "metadata": {},
   "outputs": [],
   "source": [
    "########################z## mulliken pop check END"
   ]
  },
  {
   "cell_type": "code",
   "execution_count": null,
   "metadata": {},
   "outputs": [],
   "source": []
  },
  {
   "cell_type": "markdown",
   "metadata": {},
   "source": [
    "# Embedding"
   ]
  },
  {
   "cell_type": "code",
   "execution_count": 36,
   "metadata": {},
   "outputs": [
    {
     "data": {
      "text/plain": [
       "-32.1153079521456"
      ]
     },
     "execution_count": 36,
     "metadata": {},
     "output_type": "execute_result"
    }
   ],
   "source": [
    "#It seems that PySCF lumps J and K in the J array \n",
    "J_act = full_system_scf.get_j(dm = dm_active)\n",
    "K_act = np.zeros_like(J_act)\n",
    "two_e_term_act =  full_system_scf.get_veff(dm=dm_active)\n",
    "e_xc_act = two_e_term_act.exc\n",
    "v_xc_act = two_e_term_act - J_act \n",
    "\n",
    "E_act = np.einsum('ij, ij', dm_active, full_system_scf.get_hcore() + J_act/2) + e_xc_act\n",
    "E_act"
   ]
  },
  {
   "cell_type": "code",
   "execution_count": 37,
   "metadata": {},
   "outputs": [
    {
     "data": {
      "text/plain": [
       "-32.115307952145585"
      ]
     },
     "execution_count": 37,
     "metadata": {},
     "output_type": "execute_result"
    }
   ],
   "source": [
    "full_system_scf.energy_elec(dm=dm_active)[0]"
   ]
  },
  {
   "cell_type": "code",
   "execution_count": null,
   "metadata": {},
   "outputs": [],
   "source": []
  },
  {
   "cell_type": "code",
   "execution_count": 38,
   "metadata": {},
   "outputs": [
    {
     "data": {
      "text/plain": [
       "-70.30417756950928"
      ]
     },
     "execution_count": 38,
     "metadata": {},
     "output_type": "execute_result"
    }
   ],
   "source": [
    "#It seems that PySCF lumps J and K in the J array \n",
    "J_env = full_system_scf.get_j(dm = dm_enviro)\n",
    "K_env = np.zeros_like(J_env)\n",
    "two_e_term_env =  full_system_scf.get_veff(dm=dm_enviro)\n",
    "e_xc_env = two_e_term_env.exc\n",
    "v_xc_env = two_e_term_env - J_env \n",
    "\n",
    "E_env = np.einsum('ij, ij', dm_enviro, full_system_scf.get_hcore() + J_env/2) + e_xc_env\n",
    "E_env"
   ]
  },
  {
   "cell_type": "code",
   "execution_count": 39,
   "metadata": {},
   "outputs": [
    {
     "data": {
      "text/plain": [
       "-70.30417756950924"
      ]
     },
     "execution_count": 39,
     "metadata": {},
     "output_type": "execute_result"
    }
   ],
   "source": [
    "full_system_scf.energy_elec(dm=dm_enviro)[0]"
   ]
  },
  {
   "cell_type": "code",
   "execution_count": null,
   "metadata": {},
   "outputs": [],
   "source": []
  },
  {
   "cell_type": "code",
   "execution_count": 40,
   "metadata": {},
   "outputs": [],
   "source": [
    "j_cross = 0.5 * (matrix_dot(dm_active, J_env) + matrix_dot(dm_enviro, J_act))\n",
    "k_cross = 0.0"
   ]
  },
  {
   "cell_type": "code",
   "execution_count": 41,
   "metadata": {},
   "outputs": [],
   "source": [
    "xc_cross = e_xc_total - e_xc_act - e_xc_env\n",
    "two_e_cross = j_cross + k_cross + xc_cross"
   ]
  },
  {
   "cell_type": "code",
   "execution_count": null,
   "metadata": {},
   "outputs": [],
   "source": []
  },
  {
   "cell_type": "markdown",
   "metadata": {},
   "source": [
    "# Define projection method"
   ]
  },
  {
   "cell_type": "code",
   "execution_count": 42,
   "metadata": {},
   "outputs": [],
   "source": [
    "projector_method = 'huzinaga'\n",
    "# projector_method = 'mu_shfit'\n",
    "\n",
    "if projector_method == 'huzinaga':\n",
    "    Fock = full_system_scf.get_hcore() + full_system_scf.get_veff(dm=dm_act_and_env)\n",
    "    F_gammaB_S = Fock @ dm_enviro @ S\n",
    "    projector = -0.5 * (F_gammaB_S + F_gammaB_S.T)\n",
    "elif projector_method == 'mu_shfit':\n",
    "    mu = 1e6\n",
    "    projector = mu * (S @ dm_enviro  @ S)\n",
    "else:\n",
    "    raise ValueError(f'Unknown projection method {projector_method}')\n",
    "\n"
   ]
  },
  {
   "cell_type": "markdown",
   "metadata": {},
   "source": [
    "# Define the embbed matrix"
   ]
  },
  {
   "cell_type": "markdown",
   "metadata": {},
   "source": [
    "$$h^{A_{\\text{act}} \\text{ in } B_{\\text{env}}} = h^{\\text{core}} + v^{\\text{embed}}$$\n",
    "\n",
    "$$v^{\\text{embed}} = g[\\gamma^{A_{\\text{act}}} + \\gamma^{B_{\\text{env}}} ] - g[\\gamma^{A_{\\text{act}}}] + P_{\\text{projector}}$$"
   ]
  },
  {
   "cell_type": "code",
   "execution_count": 43,
   "metadata": {},
   "outputs": [],
   "source": [
    "# define the embedded term\n",
    "g_A_and_B = full_system_scf.get_veff(dm=dm_active+dm_enviro)\n",
    "\n",
    "g_A = full_system_scf.get_veff(dm=dm_active)\n",
    "\n",
    "v_emb = g_A_and_B - g_A + projector"
   ]
  },
  {
   "cell_type": "code",
   "execution_count": 44,
   "metadata": {},
   "outputs": [],
   "source": [
    "# PsiEmbed definition\n",
    "v_emb2 = (J_env + v_xc_total - v_xc_act + projector)"
   ]
  },
  {
   "cell_type": "code",
   "execution_count": 45,
   "metadata": {},
   "outputs": [
    {
     "data": {
      "text/plain": [
       "True"
      ]
     },
     "execution_count": 45,
     "metadata": {},
     "output_type": "execute_result"
    }
   ],
   "source": [
    "# check these are the SAME!\n",
    "np.allclose(v_emb, v_emb2)"
   ]
  },
  {
   "cell_type": "markdown",
   "metadata": {},
   "source": [
    "note $P$ is a projection operator that **enforces intersubsystem orbital orthogonality.**"
   ]
  },
  {
   "cell_type": "code",
   "execution_count": null,
   "metadata": {},
   "outputs": [],
   "source": []
  },
  {
   "cell_type": "markdown",
   "metadata": {},
   "source": [
    "# Next find optimized $\\gamma^{A_{\\text{act}}}_\\text{embedded}$\n",
    "\n",
    "- this is done by running SCF calc using embedded $h^{A_{\\text{act}} \\text{ in } B_{\\text{env}}}$"
   ]
  },
  {
   "cell_type": "markdown",
   "metadata": {},
   "source": [
    "Steps:\n",
    "\n",
    "1. Define full molecular system\n",
    "2. Change the number of electrons to be the same number as active system allows\n",
    "3. run SCF to get optimized electron density!"
   ]
  },
  {
   "cell_type": "code",
   "execution_count": null,
   "metadata": {},
   "outputs": [],
   "source": []
  },
  {
   "cell_type": "markdown",
   "metadata": {},
   "source": [
    "TODO: Could maybe calculate $\\gamma^{A_{\\text{act}}}_\\text{embedded}$ using high level method!"
   ]
  },
  {
   "cell_type": "code",
   "execution_count": null,
   "metadata": {},
   "outputs": [],
   "source": []
  },
  {
   "cell_type": "code",
   "execution_count": 46,
   "metadata": {},
   "outputs": [
    {
     "data": {
      "text/plain": [
       "-4.2264947650627445"
      ]
     },
     "execution_count": 46,
     "metadata": {},
     "output_type": "execute_result"
    }
   ],
   "source": [
    "full_system_mol_EMBEDDED = gto.Mole(atom= geometry,\n",
    "                      basis=basis,\n",
    "                       charge=0,\n",
    "                       #spin=0,\n",
    "                      )\n",
    "full_system_mol_EMBEDDED.build()\n",
    "\n",
    "# RE-DEFINE number of electrons in system\n",
    "full_system_mol_EMBEDDED.nelectron = 2*len(active_ao_ind)\n",
    "# full_system_mol_EMBEDDED.nao = len(active_ao_ind)\n",
    "\n",
    "EMBEDDED_full_system_scf = scf.RKS(full_system_mol_EMBEDDED)\n",
    "EMBEDDED_full_system_scf.verbose=1\n",
    "EMBEDDED_full_system_scf.max_memory= 8_000\n",
    "EMBEDDED_full_system_scf.conv_tol = 1e-6\n",
    "EMBEDDED_full_system_scf.xc = low_level_xc_functional_or_HF\n",
    "\n",
    "h_core = EMBEDDED_full_system_scf.get_hcore()\n",
    "\n",
    "# overwrite h_core to include embedding term!!!!\n",
    "EMBEDDED_full_system_scf.get_hcore = lambda *args: v_emb + h_core\n",
    "\n",
    "\n",
    "EMBEDDED_full_system_scf.kernel()"
   ]
  },
  {
   "cell_type": "code",
   "execution_count": null,
   "metadata": {},
   "outputs": [],
   "source": []
  },
  {
   "cell_type": "code",
   "execution_count": null,
   "metadata": {},
   "outputs": [],
   "source": []
  },
  {
   "cell_type": "code",
   "execution_count": 47,
   "metadata": {},
   "outputs": [
    {
     "data": {
      "text/plain": [
       "True"
      ]
     },
     "execution_count": 47,
     "metadata": {},
     "output_type": "execute_result"
    }
   ],
   "source": [
    "EMBEDDED_full_system_scf.conv_check"
   ]
  },
  {
   "cell_type": "markdown",
   "metadata": {},
   "source": [
    "# Get optimized $\\gamma^{A_{\\text{act}}}_\\text{embedded}$"
   ]
  },
  {
   "cell_type": "code",
   "execution_count": 48,
   "metadata": {},
   "outputs": [
    {
     "data": {
      "text/plain": [
       "True"
      ]
     },
     "execution_count": 48,
     "metadata": {},
     "output_type": "execute_result"
    }
   ],
   "source": [
    "\n",
    "\n",
    "EMBEDDED_occ_orbs = EMBEDDED_full_system_scf.mo_coeff[:,EMBEDDED_full_system_scf.mo_occ>0]\n",
    "\n",
    "# optimized embedded denisty matrix\n",
    "density_emb = 2 * EMBEDDED_occ_orbs @ EMBEDDED_occ_orbs.conj().T\n",
    "\n",
    "## check number of electrons makes sense:\n",
    "np.isclose(np.trace(density_emb@S), 2*len(active_ao_ind))"
   ]
  },
  {
   "cell_type": "code",
   "execution_count": null,
   "metadata": {},
   "outputs": [],
   "source": []
  },
  {
   "cell_type": "markdown",
   "metadata": {},
   "source": [
    "# Calculate Energy\n",
    "\n",
    "The energy can be found according too:\n",
    "\n",
    "$$E[\\gamma^{A_{\\text{act}}}_\\text{embedded}; \\; \\; \\gamma^{A_{\\text{act}}},\\mathcal{E}[\\gamma^{A_{\\text{act}}}_\\text{embedded}]\n",
    "= \\mathcal{E}[\\gamma^{A_{\\text{act}}}_\\text{embedded}] + E[\\gamma^{B_{\\text{env}}}] + g[\\gamma^{A_{\\text{act}}}, \\gamma^{B_{\\text{env}}}] + \\mathcal{Trace}\\big[(\\gamma^{A_{\\text{act}}}_\\text{embedded}-\\gamma^{A_{\\text{act}}})(h^{A_{\\text{act}} \\text{ in } B_{\\text{env}}} - h )\\big]$$\n",
    "\n",
    "\n",
    "\n",
    "- $\\mathcal{E}[\\gamma^{A_{\\text{act}}}_\\text{embedded}]$\n",
    "    - energy of isolated A computed with new optimized embedded density matrix\n",
    "    - Note this allows for applicaton of different fucntionals (hence why odd E used)\n",
    "- $E[\\gamma^{B_{\\text{env}}}]$ DFT calc of isolated subsystem B\n",
    "- $g[\\gamma^{A_{\\text{act}}}, \\gamma^{B_{\\text{env}}}]$ non additive energy (boundary condition) between subsystems\n",
    "    - this is obtained from global calc!\n",
    "- Trace term provides a first order correction to the energy!"
   ]
  },
  {
   "cell_type": "code",
   "execution_count": null,
   "metadata": {},
   "outputs": [],
   "source": []
  },
  {
   "cell_type": "code",
   "execution_count": null,
   "metadata": {},
   "outputs": [],
   "source": []
  },
  {
   "cell_type": "markdown",
   "metadata": {},
   "source": [
    "$\\mathcal{E}[\\gamma^{A_{\\text{act}}}_\\text{embedded}]$"
   ]
  },
  {
   "cell_type": "code",
   "execution_count": 49,
   "metadata": {},
   "outputs": [
    {
     "data": {
      "text/plain": [
       "-31.857936912577458"
      ]
     },
     "execution_count": 49,
     "metadata": {},
     "output_type": "execute_result"
    }
   ],
   "source": [
    "J_emb, K_emb =EMBEDDED_full_system_scf.get_jk(dm=density_emb) \n",
    "\n",
    "# NOTE how normal H_core is being used!\n",
    "e_act_emb = matrix_dot(density_emb, h_core + 0.5 * J_emb - 0.25 * K_emb)\n",
    "e_act_emb"
   ]
  },
  {
   "cell_type": "code",
   "execution_count": 50,
   "metadata": {},
   "outputs": [
    {
     "data": {
      "text/plain": [
       "True"
      ]
     },
     "execution_count": 50,
     "metadata": {},
     "output_type": "execute_result"
    }
   ],
   "source": [
    "# Test this with STANDARD full system obj\n",
    "# (changing density matrix for embedded one)\n",
    "J_test, K_test = full_system_scf.get_jk(dm=density_emb)\n",
    "\n",
    "np.allclose(J_emb, J_test) and np.allclose(K_emb, K_test)"
   ]
  },
  {
   "cell_type": "code",
   "execution_count": 51,
   "metadata": {},
   "outputs": [
    {
     "data": {
      "text/plain": [
       "-32.11498826785264"
      ]
     },
     "execution_count": 51,
     "metadata": {},
     "output_type": "execute_result"
    }
   ],
   "source": [
    "# should be able to calculate energy in the same fashion\n",
    "# using STANDARD full system obj and new embedded density matrix\n",
    "\n",
    "# THIS METHOD IS BETTER THAN ABOVE (matches energy of global calc now!!!!)\n",
    "\n",
    "e_act_emb = full_system_scf.energy_elec(dm=density_emb)[0]\n",
    "e_act_emb"
   ]
  },
  {
   "cell_type": "code",
   "execution_count": 52,
   "metadata": {},
   "outputs": [
    {
     "data": {
      "text/plain": [
       "(-13.354778493345682, 9.297650957177163)"
      ]
     },
     "execution_count": 52,
     "metadata": {},
     "output_type": "execute_result"
    }
   ],
   "source": [
    "# note this is WRONG\n",
    "EMBEDDED_full_system_scf.energy_elec(dm=density_emb)\n",
    "# it is uses EMBEDDED h_core"
   ]
  },
  {
   "cell_type": "code",
   "execution_count": null,
   "metadata": {},
   "outputs": [],
   "source": []
  },
  {
   "cell_type": "markdown",
   "metadata": {},
   "source": [
    "Note for\n",
    "\n",
    "$$\\mathcal{Trace}\\big[(\\gamma^{A_{\\text{act}}}_\\text{embedded}-\\gamma^{A_{\\text{act}}})(h^{A_{\\text{act}} \\text{ in } B_{\\text{env}}} - h )\\big]$$\n",
    "\n",
    "\n",
    "- as : $h^{A_{\\text{act}} \\text{ in } B_{\\text{env}}} = h^{\\text{core}} + v^{\\text{embed}}$\n",
    "- we can re-write the first order correction as:\n",
    "\n",
    "$$\\mathcal{Trace}\\big[(\\gamma^{A_{\\text{act}}}_\\text{embedded}-\\gamma^{A_{\\text{act}}})(h^{A_{\\text{act}} \\text{ in } B_{\\text{env}}} - h )\\big] = \\mathcal{Trace}\\big[(\\gamma^{A_{\\text{act}}}_\\text{embedded}-\\gamma^{A_{\\text{act}}})(v^{\\text{embed}})\\big]$$"
   ]
  },
  {
   "cell_type": "code",
   "execution_count": 53,
   "metadata": {},
   "outputs": [
    {
     "data": {
      "text/plain": [
       "-0.0003196770654942119"
      ]
     },
     "execution_count": 53,
     "metadata": {},
     "output_type": "execute_result"
    }
   ],
   "source": [
    "correction = (matrix_dot(v_emb, density_emb - dm_active))\n",
    "correction"
   ]
  },
  {
   "cell_type": "code",
   "execution_count": 54,
   "metadata": {},
   "outputs": [
    {
     "data": {
      "text/plain": [
       "-74.73474040872496"
      ]
     },
     "execution_count": 54,
     "metadata": {},
     "output_type": "execute_result"
    }
   ],
   "source": [
    "e_mf_emb = e_act_emb + E_env + two_e_cross + full_system_scf.energy_nuc() + correction\n",
    "e_mf_emb # <-- energy from embedded DFT calc"
   ]
  },
  {
   "cell_type": "code",
   "execution_count": 55,
   "metadata": {},
   "outputs": [
    {
     "data": {
      "text/plain": [
       "-74.73474041595249"
      ]
     },
     "execution_count": 55,
     "metadata": {},
     "output_type": "execute_result"
    }
   ],
   "source": [
    "full_system_scf.e_tot # <-- energy from normal DFT calc"
   ]
  },
  {
   "cell_type": "code",
   "execution_count": null,
   "metadata": {},
   "outputs": [],
   "source": []
  },
  {
   "cell_type": "code",
   "execution_count": 56,
   "metadata": {},
   "outputs": [
    {
     "data": {
      "text/plain": [
       "-75.01535247852482"
      ]
     },
     "execution_count": 56,
     "metadata": {},
     "output_type": "execute_result"
    }
   ],
   "source": [
    "my_fci.e_tot # <-- energy from CI calc"
   ]
  },
  {
   "cell_type": "code",
   "execution_count": null,
   "metadata": {},
   "outputs": [],
   "source": []
  },
  {
   "cell_type": "markdown",
   "metadata": {},
   "source": [
    "## higher level DFT calc\n",
    "\n",
    "- we can calculate $\\mathcal{E}[\\gamma^{A_{\\text{act}}}_\\text{embedded}]$ using a better functional"
   ]
  },
  {
   "cell_type": "code",
   "execution_count": 57,
   "metadata": {},
   "outputs": [],
   "source": [
    "full_system_mol_HIGH_LEVEL_DFT = gto.Mole(atom= geometry,\n",
    "                      basis=basis,\n",
    "                       charge=0,\n",
    "                       #spin=0,\n",
    "                      )\n",
    "full_system_mol_HIGH_LEVEL_DFT.build()\n",
    "\n",
    "full_system_scf_HIGH_LEVEL = scf.RKS(full_system_mol_HIGH_LEVEL_DFT)\n",
    "full_system_scf_HIGH_LEVEL.verbose=1\n",
    "full_system_scf_HIGH_LEVEL.max_memory= 8_000\n",
    "full_system_scf_HIGH_LEVEL.conv_tol = 1e-6\n",
    "full_system_scf_HIGH_LEVEL.xc = high_level_xc_functional # <-- BETTER functional!\n",
    "# full_system_scf_HIGH_LEVEL.kernel()"
   ]
  },
  {
   "cell_type": "code",
   "execution_count": null,
   "metadata": {},
   "outputs": [],
   "source": []
  },
  {
   "cell_type": "code",
   "execution_count": 58,
   "metadata": {},
   "outputs": [
    {
     "data": {
      "text/plain": [
       "(-32.174696433979605, 9.23794279108338)"
      ]
     },
     "execution_count": 58,
     "metadata": {},
     "output_type": "execute_result"
    }
   ],
   "source": [
    "e_act_emb_HIGH_LVL = full_system_scf_HIGH_LEVEL.energy_elec(dm=density_emb)\n",
    "e_act_emb_HIGH_LVL # run energy calc using high level functional (note density matrix is embedded A)"
   ]
  },
  {
   "cell_type": "code",
   "execution_count": 59,
   "metadata": {},
   "outputs": [
    {
     "data": {
      "text/plain": [
       "-32.174696433979605"
      ]
     },
     "execution_count": 59,
     "metadata": {},
     "output_type": "execute_result"
    }
   ],
   "source": [
    "e_act_emb_HIGH_LVL[0]"
   ]
  },
  {
   "cell_type": "code",
   "execution_count": 60,
   "metadata": {},
   "outputs": [
    {
     "data": {
      "text/plain": [
       "-74.79444857485193"
      ]
     },
     "execution_count": 60,
     "metadata": {},
     "output_type": "execute_result"
    }
   ],
   "source": [
    "E_high_lvl_DFT = e_act_emb_HIGH_LVL[0] + E_env + two_e_cross + full_system_scf.energy_nuc() + correction\n",
    "E_high_lvl_DFT # <-- energy from embedded DFT calc"
   ]
  },
  {
   "cell_type": "code",
   "execution_count": 61,
   "metadata": {},
   "outputs": [
    {
     "name": "stdout",
     "output_type": "stream",
     "text": [
      "High level DFT in DFT error: 0.22090390367289103\n",
      "LOW level DFT in DFT error: 0.280612069799858\n"
     ]
    }
   ],
   "source": [
    "print('High level DFT in DFT error:', np.abs(E_high_lvl_DFT-my_fci.e_tot))\n",
    "\n",
    "print('LOW level DFT in DFT error:', np.abs(e_mf_emb-my_fci.e_tot))"
   ]
  },
  {
   "cell_type": "code",
   "execution_count": null,
   "metadata": {},
   "outputs": [],
   "source": []
  },
  {
   "cell_type": "markdown",
   "metadata": {},
   "source": [
    "# Perform high level WaveFunction calc"
   ]
  },
  {
   "cell_type": "markdown",
   "metadata": {},
   "source": [
    "- we can calculate $\\mathcal{E}[\\gamma^{A_{\\text{act}}}_\\text{embedded}]$ using Wf methods now"
   ]
  },
  {
   "cell_type": "code",
   "execution_count": null,
   "metadata": {},
   "outputs": [],
   "source": []
  },
  {
   "cell_type": "markdown",
   "metadata": {},
   "source": [
    "# WF calculation\n",
    "\n",
    "1. Perform HF calc using embedded Hcore to find gamma_act_emb"
   ]
  },
  {
   "cell_type": "code",
   "execution_count": 62,
   "metadata": {},
   "outputs": [],
   "source": [
    "full_system_mol_HF = gto.Mole(atom= geometry,\n",
    "                      basis=basis,\n",
    "                       charge=0,\n",
    "                       #spin=0,\n",
    "                      )\n",
    "full_system_mol_HF.build()\n",
    "\n",
    "# RE-DEFINE number of electrons in system\n",
    "full_system_mol_HF.nelectron = 2*len(active_ao_ind)\n",
    "# full_system_mol_HF.nao = len(active_ao_ind)\n",
    "\n",
    "full_system_scf_HF = scf.RHF(full_system_mol_HF)\n",
    "full_system_scf_HF.verbose=1\n",
    "full_system_scf_HF.max_memory= 8_000\n",
    "full_system_scf_HF.conv_tol = 1e-6\n"
   ]
  },
  {
   "cell_type": "code",
   "execution_count": 63,
   "metadata": {},
   "outputs": [
    {
     "data": {
      "text/plain": [
       "-22.729653184294527"
      ]
     },
     "execution_count": 63,
     "metadata": {},
     "output_type": "execute_result"
    }
   ],
   "source": [
    "E_hf = full_system_scf_HF.energy_tot(dm=density_emb, \n",
    "                                         vhf=full_system_scf_HF.get_veff(dm=density_emb)\n",
    "                                          )\n",
    "E_hf"
   ]
  },
  {
   "cell_type": "code",
   "execution_count": null,
   "metadata": {},
   "outputs": [],
   "source": []
  },
  {
   "cell_type": "code",
   "execution_count": 207,
   "metadata": {},
   "outputs": [
    {
     "data": {
      "text/plain": [
       "array([1, 2, 4, 5, 6])"
      ]
     },
     "execution_count": 207,
     "metadata": {},
     "output_type": "execute_result"
    }
   ],
   "source": [
    "total_ind = np.array([ind for ind in range(full_system_mol_HF.nao) if ind not in enviro_ao_ind])\n",
    "total_ind"
   ]
  },
  {
   "cell_type": "code",
   "execution_count": 388,
   "metadata": {
    "scrolled": true
   },
   "outputs": [
    {
     "data": {
      "text/plain": [
       "(7, 7, 7, 7)"
      ]
     },
     "execution_count": 388,
     "metadata": {},
     "output_type": "execute_result"
    }
   ],
   "source": [
    "from pyscf import ao2mo\n",
    "\n",
    "C_emb = EMBEDDED_full_system_scf.mo_coeff\n",
    "pyscf_mo_ints = ao2mo.kernel(full_system_mol_HF, C_emb) # uses embedded C matrix (full)\n",
    "\n",
    "# Convert the 2e integrals (in Chemist’s notation)\n",
    "n_bas_ft = full_system_mol_HF.nao\n",
    "pyscf_mo_ints = ao2mo.restore(1, pyscf_mo_ints, n_bas_ft)\n",
    "pyscf_mo_ints.shape"
   ]
  },
  {
   "cell_type": "code",
   "execution_count": null,
   "metadata": {},
   "outputs": [],
   "source": []
  },
  {
   "cell_type": "code",
   "execution_count": 390,
   "metadata": {},
   "outputs": [],
   "source": [
    "# eri_ao = full_system_mol_HF.intor('int2e')\n",
    "# eri_ao = eri_ao[np.array(active_ao_ind),  :, :, :]\n",
    "# eri_ao = eri_ao[:, np.array(active_ao_ind),  :, :]\n",
    "# eri_ao = eri_ao[:, :,np.array(active_ao_ind), :]\n",
    "# eri_ao = eri_ao[:, :,:, np.array(active_ao_ind)]\n",
    "\n",
    "# C_emb = EMBEDDED_full_system_scf.mo_coeff[active_ao_ind, :]\n",
    "# tmp = np.einsum('pi,pqrs->iqrs', C_emb, eri_ao, optimize=True)\n",
    "# tmp = np.einsum('qa,iqrs->iars', C_emb, tmp, optimize=True)\n",
    "# tmp = np.einsum('iars,rj->iajs', tmp, C_emb, optimize=True)\n",
    "# pyscf_mo_ints2 = np.einsum('iajs,sb->iajb', tmp, C_emb, optimize=True)\n",
    "# del tmp\n",
    "# pyscf_mo_ints2.shape\n",
    "\n",
    "# H_core = scf.hf.get_hcore(full_system_mol_HF)[np.array(active_ao_ind), :]\n",
    "# H_core = H_core[:, np.array(active_ao_ind)]\n",
    "\n",
    "# hcore_mo =  C_emb.conj().T @ H_core@ C_emb # <psi H psi> # NOT FOCK"
   ]
  },
  {
   "cell_type": "code",
   "execution_count": null,
   "metadata": {},
   "outputs": [],
   "source": []
  },
  {
   "cell_type": "code",
   "execution_count": null,
   "metadata": {},
   "outputs": [],
   "source": []
  },
  {
   "cell_type": "code",
   "execution_count": 65,
   "metadata": {},
   "outputs": [],
   "source": [
    "# eri_ao = full_system_mol_HF.intor('int2e')\n",
    "\n",
    "# tmp = np.einsum('pi,pqrs->iqrs', C_emb, eri_ao, optimize=True)\n",
    "# tmp = np.einsum('qa,iqrs->iars', C_emb, tmp, optimize=True)\n",
    "# tmp = np.einsum('iars,rj->iajs', tmp, C_emb, optimize=True)\n",
    "# pyscf_mo_ints2 = np.einsum('iajs,sb->iajb', tmp, C_emb, optimize=True)\n",
    "# del tmp\n",
    "# pyscf_mo_ints2.shape"
   ]
  },
  {
   "cell_type": "code",
   "execution_count": 391,
   "metadata": {},
   "outputs": [],
   "source": [
    "hcore_mo =  C_emb.conj().T @ scf.hf.get_hcore(full_system_mol_HF) @ C_emb # <psi H psi> # NOT FOCK"
   ]
  },
  {
   "cell_type": "code",
   "execution_count": 392,
   "metadata": {},
   "outputs": [
    {
     "name": "stdout",
     "output_type": "stream",
     "text": [
      "14.0\n"
     ]
    },
    {
     "data": {
      "text/plain": [
       "10"
      ]
     },
     "execution_count": 392,
     "metadata": {},
     "output_type": "execute_result"
    }
   ],
   "source": [
    "# EMBEDDED_occ_orbs = EMBEDDED_full_system_scf.mo_coeff[:,EMBEDDED_full_system_scf.mo_occ>0]\n",
    "\n",
    "# # optimized embedded denisty matrix\n",
    "# density_emb = 2 * EMBEDDED_occ_orbs @ EMBEDDED_occ_orbs.conj().T\n",
    "\n",
    "# ## check number of electrons makes sense:\n",
    "# np.isclose(np.trace(density_emb@S), 2*len(active_ao_ind))\n",
    "\n",
    "dm22 = 2 * C_emb @ C_emb.conj().T\n",
    "print(np.trace(dm22@S))\n",
    "full_system_mol.nelectron"
   ]
  },
  {
   "cell_type": "code",
   "execution_count": null,
   "metadata": {},
   "outputs": [],
   "source": []
  },
  {
   "cell_type": "code",
   "execution_count": 385,
   "metadata": {},
   "outputs": [
    {
     "name": "stdout",
     "output_type": "stream",
     "text": [
      "Energies match: False\n"
     ]
    },
    {
     "data": {
      "text/plain": [
       "2.6683155690834273"
      ]
     },
     "execution_count": 385,
     "metadata": {},
     "output_type": "execute_result"
    }
   ],
   "source": [
    "# CHECK match with HF energy!\n",
    "\n",
    "n_docc = full_system_mol_HF.nelectron//2\n",
    "\n",
    "E = 2*np.einsum('ii->', hcore_mo[:n_docc, :n_docc], optimize=True)\n",
    "\n",
    "two_J = 2*np.einsum('iijj->', pyscf_mo_ints[:n_docc, :n_docc, :n_docc, :n_docc], optimize=True)\n",
    "K = np.einsum('ijji->', pyscf_mo_ints[:n_docc, :n_docc, :n_docc, :n_docc], optimize=True)\n",
    "E+= (two_J-K)\n",
    "\n",
    "E+= full_system_mol_HF.energy_nuc()\n",
    "\n",
    "print('Energies match:', np.isclose(E_hf, E))\n",
    "E"
   ]
  },
  {
   "cell_type": "code",
   "execution_count": 386,
   "metadata": {},
   "outputs": [
    {
     "ename": "IndexError",
     "evalue": "index 3 is out of bounds for axis 3 with size 3",
     "output_type": "error",
     "traceback": [
      "\u001b[0;31m---------------------------------------------------------------------------\u001b[0m",
      "\u001b[0;31mIndexError\u001b[0m                                Traceback (most recent call last)",
      "\u001b[0;32m<ipython-input-386-f891b030d001>\u001b[0m in \u001b[0;36m<module>\u001b[0;34m\u001b[0m\n\u001b[1;32m     15\u001b[0m \u001b[0;34m\u001b[0m\u001b[0m\n\u001b[1;32m     16\u001b[0m                 \u001b[0;31m### SAME spin\u001b[0m\u001b[0;34m\u001b[0m\u001b[0;34m\u001b[0m\u001b[0;34m\u001b[0m\u001b[0m\n\u001b[0;32m---> 17\u001b[0;31m                 \u001b[0mtwo_body_terms\u001b[0m\u001b[0;34m[\u001b[0m\u001b[0;36m2\u001b[0m\u001b[0;34m*\u001b[0m\u001b[0mp\u001b[0m\u001b[0;34m,\u001b[0m \u001b[0;36m2\u001b[0m\u001b[0;34m*\u001b[0m\u001b[0mq\u001b[0m \u001b[0;34m,\u001b[0m \u001b[0;36m2\u001b[0m\u001b[0;34m*\u001b[0m\u001b[0mr\u001b[0m\u001b[0;34m,\u001b[0m \u001b[0;36m2\u001b[0m\u001b[0;34m*\u001b[0m\u001b[0ms\u001b[0m\u001b[0;34m]\u001b[0m \u001b[0;34m=\u001b[0m \u001b[0mpyscf_mo_ints\u001b[0m\u001b[0;34m[\u001b[0m\u001b[0mp\u001b[0m\u001b[0;34m,\u001b[0m\u001b[0mq\u001b[0m\u001b[0;34m,\u001b[0m\u001b[0mr\u001b[0m\u001b[0;34m,\u001b[0m\u001b[0ms\u001b[0m\u001b[0;34m]\u001b[0m \u001b[0;31m# up up up up\u001b[0m\u001b[0;34m\u001b[0m\u001b[0;34m\u001b[0m\u001b[0m\n\u001b[0m\u001b[1;32m     18\u001b[0m                 \u001b[0mtwo_body_terms\u001b[0m\u001b[0;34m[\u001b[0m\u001b[0;34m(\u001b[0m\u001b[0;36m2\u001b[0m\u001b[0;34m*\u001b[0m\u001b[0mp\u001b[0m\u001b[0;34m+\u001b[0m\u001b[0;36m1\u001b[0m\u001b[0;34m)\u001b[0m\u001b[0;34m,\u001b[0m \u001b[0;34m(\u001b[0m\u001b[0;36m2\u001b[0m\u001b[0;34m*\u001b[0m\u001b[0mq\u001b[0m \u001b[0;34m+\u001b[0m\u001b[0;36m1\u001b[0m\u001b[0;34m)\u001b[0m \u001b[0;34m,\u001b[0m \u001b[0;34m(\u001b[0m\u001b[0;36m2\u001b[0m\u001b[0;34m*\u001b[0m\u001b[0mr\u001b[0m \u001b[0;34m+\u001b[0m \u001b[0;36m1\u001b[0m\u001b[0;34m)\u001b[0m\u001b[0;34m,\u001b[0m \u001b[0;34m(\u001b[0m\u001b[0;36m2\u001b[0m\u001b[0;34m*\u001b[0m\u001b[0ms\u001b[0m \u001b[0;34m+\u001b[0m\u001b[0;36m1\u001b[0m\u001b[0;34m)\u001b[0m\u001b[0;34m]\u001b[0m \u001b[0;34m=\u001b[0m \u001b[0mpyscf_mo_ints\u001b[0m\u001b[0;34m[\u001b[0m\u001b[0mp\u001b[0m\u001b[0;34m,\u001b[0m\u001b[0mq\u001b[0m\u001b[0;34m,\u001b[0m\u001b[0mr\u001b[0m\u001b[0;34m,\u001b[0m\u001b[0ms\u001b[0m\u001b[0;34m]\u001b[0m \u001b[0;31m# down down down down\u001b[0m\u001b[0;34m\u001b[0m\u001b[0;34m\u001b[0m\u001b[0m\n\u001b[1;32m     19\u001b[0m \u001b[0;34m\u001b[0m\u001b[0m\n",
      "\u001b[0;31mIndexError\u001b[0m: index 3 is out of bounds for axis 3 with size 3"
     ]
    }
   ],
   "source": [
    "n_qubits = 2*hcore_mo.shape[0]\n",
    "\n",
    "one_body_terms = np.zeros((n_qubits, n_qubits))\n",
    "two_body_terms = np.zeros((n_qubits, n_qubits, n_qubits, n_qubits))\n",
    "\n",
    "for p in range(n_qubits//2):\n",
    "    for q in range(n_qubits//2):\n",
    "        \n",
    "        one_body_terms[2*p, 2*q] = hcore_mo[p,q] # spin UP\n",
    "        one_body_terms[(2*p + 1), (2*q +1)] = hcore_mo[p,q] # spin DOWN\n",
    "        \n",
    "        # continue 2-body terms\n",
    "        for r in range(n_qubits//2):\n",
    "            for s in range(n_qubits//2):\n",
    "                                \n",
    "                ### SAME spin                \n",
    "                two_body_terms[2*p, 2*q , 2*r, 2*s] = pyscf_mo_ints[p,q,r,s] # up up up up\n",
    "                two_body_terms[(2*p+1), (2*q +1) , (2*r + 1), (2*s +1)] = pyscf_mo_ints[p,q,r,s] # down down down down\n",
    "                \n",
    "                ### mixed spin                \n",
    "                two_body_terms[2*p, 2*q , (2*r + 1), (2*s +1)] = pyscf_mo_ints[p,q,r,s] # up up down down\n",
    "                two_body_terms[(2*p+1), (2*q +1) , 2*r, 2*s] = pyscf_mo_ints[p,q,r,s] # down down up up \n",
    "               \n",
    "                \n",
    "                \n",
    "                \n",
    "### remove vanishing terms\n",
    "EQ_Tolerance=1e-8\n",
    "one_body_terms[np.abs(one_body_terms)<EQ_Tolerance]=0\n",
    "two_body_terms[np.abs(two_body_terms)<EQ_Tolerance]=0"
   ]
  },
  {
   "cell_type": "code",
   "execution_count": 285,
   "metadata": {},
   "outputs": [
    {
     "name": "stdout",
     "output_type": "stream",
     "text": [
      "Energies match: False\n"
     ]
    },
    {
     "data": {
      "text/plain": [
       "-20.49558018010745"
      ]
     },
     "execution_count": 285,
     "metadata": {},
     "output_type": "execute_result"
    }
   ],
   "source": [
    "N = full_system_mol_HF.nelectron\n",
    "\n",
    "E_spin_MOs = np.einsum('ii->', one_body_terms[:N, :N], optimize=True)\n",
    "\n",
    "J = np.einsum('iijj->', two_body_terms[:N, :N, :N, :N], optimize=True)\n",
    "K = np.einsum('ijji->', two_body_terms[:N, :N, :N, :N], optimize=True)\n",
    "E_spin_MOs+= 0.5*(J-K)\n",
    "\n",
    "E_spin_MOs+= full_system_mol.energy_nuc()\n",
    "\n",
    "print('Energies match:', np.isclose(E_hf, E_spin_MOs))\n",
    "E_spin_MOs"
   ]
  },
  {
   "cell_type": "code",
   "execution_count": 301,
   "metadata": {},
   "outputs": [],
   "source": []
  },
  {
   "cell_type": "code",
   "execution_count": 286,
   "metadata": {},
   "outputs": [],
   "source": [
    "from openfermion.ops import FermionOperator"
   ]
  },
  {
   "cell_type": "code",
   "execution_count": 287,
   "metadata": {},
   "outputs": [
    {
     "data": {
      "text/plain": [
       "9.128283728282938 [] +\n",
       "-6.373597876504241 [0^ 0] +\n",
       "0.31721150914278695 [0^ 0^ 0 0] +\n",
       "0.04595130195531671 [0^ 0^ 0 4] +\n",
       "0.014543180678703171 [0^ 0^ 2 2] +\n",
       "0.04595130195531668 [0^ 0^ 4 0] +\n",
       "0.07680173985536486 [0^ 0^ 4 4] +\n",
       "0.31721150914278695 [0^ 1^ 1 0] +\n",
       "0.04595130195531671 [0^ 1^ 1 4] +\n",
       "0.014543180678703171 [0^ 1^ 3 2] +\n",
       "0.04595130195531668 [0^ 1^ 5 0] +\n",
       "0.07680173985536486 [0^ 1^ 5 4] +\n",
       "0.014543180678703171 [0^ 2^ 0 2] +\n",
       "0.3155224021505817 [0^ 2^ 2 0] +\n",
       "0.09489361121888093 [0^ 2^ 2 4] +\n",
       "0.011809714386954294 [0^ 2^ 4 2] +\n",
       "0.014543180678703171 [0^ 3^ 1 2] +\n",
       "0.3155224021505817 [0^ 3^ 3 0] +\n",
       "0.09489361121888093 [0^ 3^ 3 4] +\n",
       "0.011809714386954294 [0^ 3^ 5 2] +\n",
       "-1.698075507355392 [0^ 4] +\n",
       "0.04595130195531668 [0^ 4^ 0 0] +\n",
       "0.07680173985536486 [0^ 4^ 0 4] +\n",
       "0.011809714386954294 [0^ 4^ 2 2] +\n",
       "0.30471221564034656 [0^ 4^ 4 0] +\n",
       "0.044389673074901624 [0^ 4^ 4 4] +\n",
       "0.04595130195531668 [0^ 5^ 1 0] +\n",
       "0.07680173985536486 [0^ 5^ 1 4] +\n",
       "0.011809714386954294 [0^ 5^ 3 2] +\n",
       "0.30471221564034656 [0^ 5^ 5 0] +\n",
       "0.044389673074901624 [0^ 5^ 5 4] +\n",
       "0.31721150914278695 [1^ 0^ 0 1] +\n",
       "0.04595130195531671 [1^ 0^ 0 5] +\n",
       "0.014543180678703171 [1^ 0^ 2 3] +\n",
       "0.04595130195531668 [1^ 0^ 4 1] +\n",
       "0.07680173985536486 [1^ 0^ 4 5] +\n",
       "-6.373597876504241 [1^ 1] +\n",
       "0.31721150914278695 [1^ 1^ 1 1] +\n",
       "0.04595130195531671 [1^ 1^ 1 5] +\n",
       "0.014543180678703171 [1^ 1^ 3 3] +\n",
       "0.04595130195531668 [1^ 1^ 5 1] +\n",
       "0.07680173985536486 [1^ 1^ 5 5] +\n",
       "0.014543180678703171 [1^ 2^ 0 3] +\n",
       "0.3155224021505817 [1^ 2^ 2 1] +\n",
       "0.09489361121888093 [1^ 2^ 2 5] +\n",
       "0.011809714386954294 [1^ 2^ 4 3] +\n",
       "0.014543180678703171 [1^ 3^ 1 3] +\n",
       "0.3155224021505817 [1^ 3^ 3 1] +\n",
       "0.09489361121888093 [1^ 3^ 3 5] +\n",
       "0.011809714386954294 [1^ 3^ 5 3] +\n",
       "0.04595130195531668 [1^ 4^ 0 1] +\n",
       "0.07680173985536486 [1^ 4^ 0 5] +\n",
       "0.011809714386954294 [1^ 4^ 2 3] +\n",
       "0.30471221564034656 [1^ 4^ 4 1] +\n",
       "0.044389673074901624 [1^ 4^ 4 5] +\n",
       "-1.698075507355392 [1^ 5] +\n",
       "0.04595130195531668 [1^ 5^ 1 1] +\n",
       "0.07680173985536486 [1^ 5^ 1 5] +\n",
       "0.011809714386954294 [1^ 5^ 3 3] +\n",
       "0.30471221564034656 [1^ 5^ 5 1] +\n",
       "0.044389673074901624 [1^ 5^ 5 5] +\n",
       "0.3155224021505817 [2^ 0^ 0 2] +\n",
       "0.014543180678703171 [2^ 0^ 2 0] +\n",
       "0.011809714386954297 [2^ 0^ 2 4] +\n",
       "0.09489361121888083 [2^ 0^ 4 2] +\n",
       "0.3155224021505817 [2^ 1^ 1 2] +\n",
       "0.014543180678703171 [2^ 1^ 3 0] +\n",
       "0.011809714386954297 [2^ 1^ 3 4] +\n",
       "0.09489361121888083 [2^ 1^ 5 2] +\n",
       "-7.451142912163042 [2^ 2] +\n",
       "0.014543180678703171 [2^ 2^ 0 0] +\n",
       "0.011809714386954297 [2^ 2^ 0 4] +\n",
       "0.4400795466875218 [2^ 2^ 2 2] +\n",
       "0.011809714386954294 [2^ 2^ 4 0] +\n",
       "0.011937929406582044 [2^ 2^ 4 4] +\n",
       "0.014543180678703171 [2^ 3^ 1 0] +\n",
       "0.011809714386954297 [2^ 3^ 1 4] +\n",
       "0.4400795466875218 [2^ 3^ 3 2] +\n",
       "0.011809714386954294 [2^ 3^ 5 0] +\n",
       "0.011937929406582044 [2^ 3^ 5 4] +\n",
       "0.09489361121888083 [2^ 4^ 0 2] +\n",
       "0.011809714386954294 [2^ 4^ 2 0] +\n",
       "0.011937929406582044 [2^ 4^ 2 4] +\n",
       "0.31001529187728855 [2^ 4^ 4 2] +\n",
       "0.09489361121888083 [2^ 5^ 1 2] +\n",
       "0.011809714386954294 [2^ 5^ 3 0] +\n",
       "0.011937929406582044 [2^ 5^ 3 4] +\n",
       "0.31001529187728855 [2^ 5^ 5 2] +\n",
       "0.3155224021505817 [3^ 0^ 0 3] +\n",
       "0.014543180678703171 [3^ 0^ 2 1] +\n",
       "0.011809714386954297 [3^ 0^ 2 5] +\n",
       "0.09489361121888083 [3^ 0^ 4 3] +\n",
       "0.3155224021505817 [3^ 1^ 1 3] +\n",
       "0.014543180678703171 [3^ 1^ 3 1] +\n",
       "0.011809714386954297 [3^ 1^ 3 5] +\n",
       "0.09489361121888083 [3^ 1^ 5 3] +\n",
       "0.014543180678703171 [3^ 2^ 0 1] +\n",
       "0.011809714386954297 [3^ 2^ 0 5] +\n",
       "0.4400795466875218 [3^ 2^ 2 3] +\n",
       "0.011809714386954294 [3^ 2^ 4 1] +\n",
       "0.011937929406582044 [3^ 2^ 4 5] +\n",
       "-7.451142912163042 [3^ 3] +\n",
       "0.014543180678703171 [3^ 3^ 1 1] +\n",
       "0.011809714386954297 [3^ 3^ 1 5] +\n",
       "0.4400795466875218 [3^ 3^ 3 3] +\n",
       "0.011809714386954294 [3^ 3^ 5 1] +\n",
       "0.011937929406582044 [3^ 3^ 5 5] +\n",
       "0.09489361121888083 [3^ 4^ 0 3] +\n",
       "0.011809714386954294 [3^ 4^ 2 1] +\n",
       "0.011937929406582044 [3^ 4^ 2 5] +\n",
       "0.31001529187728855 [3^ 4^ 4 3] +\n",
       "0.09489361121888083 [3^ 5^ 1 3] +\n",
       "0.011809714386954294 [3^ 5^ 3 1] +\n",
       "0.011937929406582044 [3^ 5^ 3 5] +\n",
       "0.31001529187728855 [3^ 5^ 5 3] +\n",
       "-1.6980755073553924 [4^ 0] +\n",
       "0.04595130195531671 [4^ 0^ 0 0] +\n",
       "0.30471221564034656 [4^ 0^ 0 4] +\n",
       "0.011809714386954297 [4^ 0^ 2 2] +\n",
       "0.07680173985536486 [4^ 0^ 4 0] +\n",
       "0.044389673074901624 [4^ 0^ 4 4] +\n",
       "0.04595130195531671 [4^ 1^ 1 0] +\n",
       "0.30471221564034656 [4^ 1^ 1 4] +\n",
       "0.011809714386954297 [4^ 1^ 3 2] +\n",
       "0.07680173985536486 [4^ 1^ 5 0] +\n",
       "0.044389673074901624 [4^ 1^ 5 4] +\n",
       "0.011809714386954297 [4^ 2^ 0 2] +\n",
       "0.09489361121888093 [4^ 2^ 2 0] +\n",
       "0.31001529187728827 [4^ 2^ 2 4] +\n",
       "0.011937929406582044 [4^ 2^ 4 2] +\n",
       "0.011809714386954297 [4^ 3^ 1 2] +\n",
       "0.09489361121888093 [4^ 3^ 3 0] +\n",
       "0.31001529187728827 [4^ 3^ 3 4] +\n",
       "0.011937929406582044 [4^ 3^ 5 2] +\n",
       "-5.56635670897262 [4^ 4] +\n",
       "0.07680173985536486 [4^ 4^ 0 0] +\n",
       "0.044389673074901624 [4^ 4^ 0 4] +\n",
       "0.011937929406582044 [4^ 4^ 2 2] +\n",
       "0.044389673074901624 [4^ 4^ 4 0] +\n",
       "0.3074405488228362 [4^ 4^ 4 4] +\n",
       "0.07680173985536486 [4^ 5^ 1 0] +\n",
       "0.044389673074901624 [4^ 5^ 1 4] +\n",
       "0.011937929406582044 [4^ 5^ 3 2] +\n",
       "0.044389673074901624 [4^ 5^ 5 0] +\n",
       "0.3074405488228362 [4^ 5^ 5 4] +\n",
       "0.04595130195531671 [5^ 0^ 0 1] +\n",
       "0.30471221564034656 [5^ 0^ 0 5] +\n",
       "0.011809714386954297 [5^ 0^ 2 3] +\n",
       "0.07680173985536486 [5^ 0^ 4 1] +\n",
       "0.044389673074901624 [5^ 0^ 4 5] +\n",
       "-1.6980755073553924 [5^ 1] +\n",
       "0.04595130195531671 [5^ 1^ 1 1] +\n",
       "0.30471221564034656 [5^ 1^ 1 5] +\n",
       "0.011809714386954297 [5^ 1^ 3 3] +\n",
       "0.07680173985536486 [5^ 1^ 5 1] +\n",
       "0.044389673074901624 [5^ 1^ 5 5] +\n",
       "0.011809714386954297 [5^ 2^ 0 3] +\n",
       "0.09489361121888093 [5^ 2^ 2 1] +\n",
       "0.31001529187728827 [5^ 2^ 2 5] +\n",
       "0.011937929406582044 [5^ 2^ 4 3] +\n",
       "0.011809714386954297 [5^ 3^ 1 3] +\n",
       "0.09489361121888093 [5^ 3^ 3 1] +\n",
       "0.31001529187728827 [5^ 3^ 3 5] +\n",
       "0.011937929406582044 [5^ 3^ 5 3] +\n",
       "0.07680173985536486 [5^ 4^ 0 1] +\n",
       "0.044389673074901624 [5^ 4^ 0 5] +\n",
       "0.011937929406582044 [5^ 4^ 2 3] +\n",
       "0.044389673074901624 [5^ 4^ 4 1] +\n",
       "0.3074405488228362 [5^ 4^ 4 5] +\n",
       "-5.56635670897262 [5^ 5] +\n",
       "0.07680173985536486 [5^ 5^ 1 1] +\n",
       "0.044389673074901624 [5^ 5^ 1 5] +\n",
       "0.011937929406582044 [5^ 5^ 3 3] +\n",
       "0.044389673074901624 [5^ 5^ 5 1] +\n",
       "0.3074405488228362 [5^ 5^ 5 5]"
      ]
     },
     "execution_count": 287,
     "metadata": {},
     "output_type": "execute_result"
    }
   ],
   "source": [
    "H_fermionic = FermionOperator((),  full_system_mol.energy_nuc())\n",
    "\n",
    "# two_body_terms = two_body_terms.transpose(0,2,3,1) # for physist notation!\n",
    "\n",
    "# one body terms\n",
    "for p in range(one_body_terms.shape[0]):\n",
    "    for q in range(one_body_terms.shape[0]):\n",
    "        \n",
    "        H_fermionic += one_body_terms[p,q] * FermionOperator(((p, 1), (q, 0)))\n",
    "        \n",
    "        # two body terms\n",
    "        for r in range(two_body_terms.shape[0]):\n",
    "            for s in range(two_body_terms.shape[0]):\n",
    "                \n",
    "                ######## physist notation\n",
    "                ## (requires:\n",
    "                ##           two_body_terms transpose (0,2,3,1) before loop starts!\n",
    "                ##)\n",
    "#                 H_qubit += 0.5*two_body_terms[p,q,r,s] * FermionOperator(((p, 1), (q, 1), (r,0), (s, 0)))\n",
    "                \n",
    "                ######## chemist notation\n",
    "                H_fermionic += 0.5*two_body_terms[p,q,r,s] * FermionOperator(((p, 1), (r, 1), (s,0), (q, 0)))\n",
    "H_fermionic"
   ]
  },
  {
   "cell_type": "code",
   "execution_count": 288,
   "metadata": {},
   "outputs": [
    {
     "data": {
      "text/plain": [
       "(-7.973230997634613+0j) [] +\n",
       "(-0.007271590339351585+0j) [X0 X1 Y2 Y3] +\n",
       "(-0.03840086992768243+0j) [X0 X1 Y4 Y5] +\n",
       "(0.007271590339351585+0j) [X0 Y1 Y2 X3] +\n",
       "(0.03840086992768243+0j) [X0 Y1 Y4 X5] +\n",
       "(0.005904857193477149+0j) [X0 Z1 X2 X3 Z4 X5] +\n",
       "(0.005904857193477149+0j) [X0 Z1 X2 Y3 Z4 Y5] +\n",
       "(-0.7148785121371835+0j) [X0 Z1 Z2 Z3 X4] +\n",
       "(-0.022194836537450812+0j) [X0 Z1 Z2 Z3 X4 Z5] +\n",
       "(-0.04744680560944044+0j) [X0 Z1 Z2 X4] +\n",
       "(-0.041541948415963294+0j) [X0 Z1 Z3 X4] +\n",
       "(-0.022975650977658347+0j) [X0 Z2 Z3 X4] +\n",
       "(0.007271590339351585+0j) [Y0 X1 X2 Y3] +\n",
       "(0.03840086992768243+0j) [Y0 X1 X4 Y5] +\n",
       "(-0.007271590339351585+0j) [Y0 Y1 X2 X3] +\n",
       "(-0.03840086992768243+0j) [Y0 Y1 X4 X5] +\n",
       "(0.005904857193477149+0j) [Y0 Z1 Y2 X3 Z4 X5] +\n",
       "(0.005904857193477149+0j) [Y0 Z1 Y2 Y3 Z4 Y5] +\n",
       "(-0.7148785121371835+0j) [Y0 Z1 Z2 Z3 Y4] +\n",
       "(-0.022194836537450812+0j) [Y0 Z1 Z2 Z3 Y4 Z5] +\n",
       "(-0.04744680560944044+0j) [Y0 Z1 Z2 Y4] +\n",
       "(-0.041541948415963294+0j) [Y0 Z1 Z3 Y4] +\n",
       "(-0.022975650977658347+0j) [Y0 Z2 Z3 Y4] +\n",
       "(2.4536310261568333+0j) [Z0] +\n",
       "(-0.022975650977658347+0j) [Z0 X1 Z2 Z3 Z4 X5] +\n",
       "(-0.022975650977658347+0j) [Z0 Y1 Z2 Z3 Z4 Y5] +\n",
       "(0.15860575457139348+0j) [Z0 Z1] +\n",
       "(0.15048961073593925+0j) [Z0 Z2] +\n",
       "(0.15776120107529085+0j) [Z0 Z3] +\n",
       "(0.11395523789249085+0j) [Z0 Z4] +\n",
       "(0.15235610782017328+0j) [Z0 Z5] +\n",
       "(-0.005904857193477149+0j) [X1 X2 Y3 Y4] +\n",
       "(0.005904857193477149+0j) [X1 Y2 Y3 X4] +\n",
       "(-0.7148785121371833+0j) [X1 Z2 Z3 Z4 X5] +\n",
       "(-0.022194836537450812+0j) [X1 Z2 Z3 X5] +\n",
       "(-0.041541948415963294+0j) [X1 Z2 Z4 X5] +\n",
       "(-0.04744680560944044+0j) [X1 Z3 Z4 X5] +\n",
       "(0.005904857193477149+0j) [Y1 X2 X3 Y4] +\n",
       "(-0.005904857193477149+0j) [Y1 Y2 X3 X4] +\n",
       "(-0.7148785121371833+0j) [Y1 Z2 Z3 Z4 Y5] +\n",
       "(-0.022194836537450812+0j) [Y1 Z2 Z3 Y5] +\n",
       "(-0.041541948415963294+0j) [Y1 Z2 Z4 Y5] +\n",
       "(-0.04744680560944044+0j) [Y1 Z3 Z4 Y5] +\n",
       "(2.4536310261568333+0j) [Z1] +\n",
       "(0.15776120107529085+0j) [Z1 Z2] +\n",
       "(0.15048961073593925+0j) [Z1 Z3] +\n",
       "(0.15235610782017328+0j) [Z1 Z4] +\n",
       "(0.11395523789249085+0j) [Z1 Z5] +\n",
       "(-0.005968964703291022+0j) [X2 X3 Y4 Y5] +\n",
       "(0.005968964703291022+0j) [X2 Y3 Y4 X5] +\n",
       "(0.005968964703291022+0j) [Y2 X3 X4 Y5] +\n",
       "(-0.005968964703291022+0j) [Y2 Y3 X4 X5] +\n",
       "(2.8932345437525333+0j) [Z2] +\n",
       "(0.2200397733437609+0j) [Z2 Z3] +\n",
       "(0.1490386812353532+0j) [Z2 Z4] +\n",
       "(0.1550076459386442+0j) [Z2 Z5] +\n",
       "(2.8932345437525324+0j) [Z3] +\n",
       "(0.1550076459386442+0j) [Z3 Z4] +\n",
       "(0.1490386812353532+0j) [Z3 Z5] +\n",
       "(2.0591004071882306+0j) [Z4] +\n",
       "(0.1537202744114181+0j) [Z4 Z5] +\n",
       "(2.05910040718823+0j) [Z5]"
      ]
     },
     "execution_count": 288,
     "metadata": {},
     "output_type": "execute_result"
    }
   ],
   "source": [
    "from openfermion.transforms import jordan_wigner\n",
    "\n",
    "H_qubit_JW = jordan_wigner(H_fermionic)\n",
    "H_qubit_JW\n"
   ]
  },
  {
   "cell_type": "code",
   "execution_count": 289,
   "metadata": {},
   "outputs": [],
   "source": [
    "from openfermion.linalg import get_sparse_operator\n",
    "\n",
    "H_JW_mat = get_sparse_operator(H_qubit_JW)"
   ]
  },
  {
   "cell_type": "code",
   "execution_count": 302,
   "metadata": {},
   "outputs": [],
   "source": [
    "eigvals_EMBED, eigvecs_EMBED = sp.sparse.linalg.eigsh(H_JW_mat, which='SA', k=1)"
   ]
  },
  {
   "cell_type": "code",
   "execution_count": 291,
   "metadata": {},
   "outputs": [
    {
     "data": {
      "text/plain": [
       "array([-20.49558018])"
      ]
     },
     "execution_count": 291,
     "metadata": {},
     "output_type": "execute_result"
    }
   ],
   "source": [
    "eigvals_EMBED"
   ]
  },
  {
   "cell_type": "code",
   "execution_count": 292,
   "metadata": {},
   "outputs": [
    {
     "data": {
      "text/plain": [
       "array([], dtype=int64)"
      ]
     },
     "execution_count": 292,
     "metadata": {},
     "output_type": "execute_result"
    }
   ],
   "source": [
    "np.where(eigvecs_EMBED>1e-2)[0]"
   ]
  },
  {
   "cell_type": "code",
   "execution_count": 293,
   "metadata": {},
   "outputs": [
    {
     "ename": "IndexError",
     "evalue": "index 0 is out of bounds for axis 0 with size 0",
     "output_type": "error",
     "traceback": [
      "\u001b[0;31m---------------------------------------------------------------------------\u001b[0m",
      "\u001b[0;31mIndexError\u001b[0m                                Traceback (most recent call last)",
      "\u001b[0;32m<ipython-input-293-528996ae5938>\u001b[0m in \u001b[0;36m<module>\u001b[0;34m\u001b[0m\n\u001b[0;32m----> 1\u001b[0;31m \u001b[0mnp\u001b[0m\u001b[0;34m.\u001b[0m\u001b[0mbinary_repr\u001b[0m\u001b[0;34m(\u001b[0m\u001b[0mnp\u001b[0m\u001b[0;34m.\u001b[0m\u001b[0mwhere\u001b[0m\u001b[0;34m(\u001b[0m\u001b[0meigvecs_EMBED\u001b[0m\u001b[0;34m>\u001b[0m\u001b[0;36m1e-2\u001b[0m\u001b[0;34m)\u001b[0m\u001b[0;34m[\u001b[0m\u001b[0;36m0\u001b[0m\u001b[0;34m]\u001b[0m\u001b[0;34m[\u001b[0m\u001b[0;36m0\u001b[0m\u001b[0;34m]\u001b[0m\u001b[0;34m)\u001b[0m\u001b[0;34m.\u001b[0m\u001b[0mcount\u001b[0m\u001b[0;34m(\u001b[0m\u001b[0;34m'1'\u001b[0m\u001b[0;34m)\u001b[0m \u001b[0;31m# look at number of electrons! there are 10 == BAD\u001b[0m\u001b[0;34m\u001b[0m\u001b[0;34m\u001b[0m\u001b[0m\n\u001b[0m",
      "\u001b[0;31mIndexError\u001b[0m: index 0 is out of bounds for axis 0 with size 0"
     ]
    }
   ],
   "source": [
    "np.binary_repr(np.where(eigvecs_EMBED>1e-2)[0][0]).count('1') # look at number of electrons! there are 10 == BAD"
   ]
  },
  {
   "cell_type": "code",
   "execution_count": 294,
   "metadata": {},
   "outputs": [
    {
     "data": {
      "text/plain": [
       "10"
      ]
     },
     "execution_count": 294,
     "metadata": {},
     "output_type": "execute_result"
    }
   ],
   "source": [
    "full_system_mol.nelectron"
   ]
  },
  {
   "cell_type": "code",
   "execution_count": 295,
   "metadata": {},
   "outputs": [
    {
     "data": {
      "text/plain": [
       "6.000000000000001"
      ]
     },
     "execution_count": 295,
     "metadata": {},
     "output_type": "execute_result"
    }
   ],
   "source": [
    "# in embedded density matrix we have this many electrons\n",
    "np.trace(density_emb@S)"
   ]
  },
  {
   "cell_type": "code",
   "execution_count": null,
   "metadata": {},
   "outputs": [],
   "source": []
  },
  {
   "cell_type": "code",
   "execution_count": 299,
   "metadata": {},
   "outputs": [
    {
     "data": {
      "text/plain": [
       "-133.75894438639298"
      ]
     },
     "execution_count": 299,
     "metadata": {},
     "output_type": "execute_result"
    }
   ],
   "source": [
    "\n",
    "E_high_lvl_WF = eigvals_EMBED[0] + E_env + two_e_cross  + correction\n",
    "E_high_lvl_DFT # <-- energy from embedded WF calc"
   ]
  },
  {
   "cell_type": "code",
   "execution_count": 241,
   "metadata": {},
   "outputs": [
    {
     "data": {
      "text/plain": [
       "array([[0],\n",
       "       [0],\n",
       "       [0],\n",
       "       ...,\n",
       "       [0],\n",
       "       [0],\n",
       "       [0]])"
      ]
     },
     "execution_count": 241,
     "metadata": {},
     "output_type": "execute_result"
    }
   ],
   "source": [
    "from functools import reduce\n",
    "\n",
    "zero_state = np.array([[1],[0]])\n",
    "one_state = np.array([[0],[1]])\n",
    "\n",
    "HF_state = reduce(np.kron, [*[one_state for _ in range(N)], *[zero_state for _ in range(N, 2*full_system_mol_HF.nao)]]\n",
    "                 ) # | 1 1 0 0 >\n",
    "HF_state\n"
   ]
  },
  {
   "cell_type": "code",
   "execution_count": 242,
   "metadata": {},
   "outputs": [
    {
     "data": {
      "text/plain": [
       "array([[-22.72965318+0.j]])"
      ]
     },
     "execution_count": 242,
     "metadata": {},
     "output_type": "execute_result"
    }
   ],
   "source": [
    "HF_state.conj().T @ H_JW_mat @ HF_state"
   ]
  },
  {
   "cell_type": "code",
   "execution_count": null,
   "metadata": {},
   "outputs": [],
   "source": []
  },
  {
   "cell_type": "code",
   "execution_count": 244,
   "metadata": {},
   "outputs": [],
   "source": [
    "def get_active_space_integrals(one_body_integrals,\n",
    "                               two_body_integrals,\n",
    "                               occupied_indices=None,\n",
    "                               active_indices=None):\n",
    "    \"\"\"Restricts a molecule at a spatial orbital level to an active space\n",
    "    This active space may be defined by a list of active indices and\n",
    "        doubly occupied indices. Note that one_body_integrals and\n",
    "        two_body_integrals must be defined\n",
    "        n an orthonormal basis set.\n",
    "    Args:\n",
    "        one_body_integrals: One-body integrals of the target Hamiltonian\n",
    "        two_body_integrals: Two-body integrals of the target Hamiltonian\n",
    "        occupied_indices: A list of spatial orbital indices\n",
    "            indicating which orbitals should be considered doubly occupied.\n",
    "        active_indices: A list of spatial orbital indices indicating\n",
    "            which orbitals should be considered active.\n",
    "    Returns:\n",
    "        tuple: Tuple with the following entries:\n",
    "        **core_constant**: Adjustment to constant shift in Hamiltonian\n",
    "        from integrating out core orbitals\n",
    "        **one_body_integrals_new**: one-electron integrals over active\n",
    "        space.\n",
    "        **two_body_integrals_new**: two-electron integrals over active\n",
    "        space.\n",
    "    \"\"\"\n",
    "    # Fix data type for a few edge cases\n",
    "    occupied_indices = [] if occupied_indices is None else occupied_indices\n",
    "    if (len(active_indices) < 1):\n",
    "        raise ValueError('Some active indices required for reduction.')\n",
    "\n",
    "    # Determine core constant\n",
    "    core_constant = 0.0\n",
    "    for i in occupied_indices:\n",
    "        core_constant += 2 * one_body_integrals[i, i]\n",
    "        for j in occupied_indices:\n",
    "            core_constant += (2 * two_body_integrals[i, j, j, i] -\n",
    "                              two_body_integrals[i, j, i, j])\n",
    "\n",
    "    # Modified one electron integrals\n",
    "    one_body_integrals_new = np.copy(one_body_integrals)\n",
    "    for u in active_indices:\n",
    "        for v in active_indices:\n",
    "            for i in occupied_indices:\n",
    "                one_body_integrals_new[u, v] += (\n",
    "                    2 * two_body_integrals[i, u, v, i] -\n",
    "                    two_body_integrals[i, u, i, v])\n",
    "\n",
    "    # Restrict integral ranges and change M appropriately\n",
    "    return (core_constant,\n",
    "            one_body_integrals_new[np.ix_(active_indices, active_indices)],\n",
    "            two_body_integrals[np.ix_(active_indices, active_indices,\n",
    "                                         active_indices, active_indices)])"
   ]
  },
  {
   "cell_type": "code",
   "execution_count": 154,
   "metadata": {},
   "outputs": [
    {
     "data": {
      "text/plain": [
       "[2, 3, 4, 5, 8, 9]"
      ]
     },
     "execution_count": 154,
     "metadata": {},
     "output_type": "execute_result"
    }
   ],
   "source": [
    "active = [(2*act_ind, 2*act_ind+1)  for act_ind in active_ao_ind]\n",
    "active = [term for tup in active for term in tup]\n",
    "active"
   ]
  },
  {
   "cell_type": "code",
   "execution_count": 155,
   "metadata": {},
   "outputs": [
    {
     "data": {
      "text/plain": [
       "[0, 1, 6, 7]"
      ]
     },
     "execution_count": 155,
     "metadata": {},
     "output_type": "execute_result"
    }
   ],
   "source": [
    "enviro = [(2*env_ind, 2*env_ind+1)  for env_ind in enviro_ao_ind]\n",
    "enviro = [term for tup in enviro for term in tup]\n",
    "enviro"
   ]
  },
  {
   "cell_type": "code",
   "execution_count": 156,
   "metadata": {},
   "outputs": [
    {
     "data": {
      "text/plain": [
       "[10, 11, 12, 13]"
      ]
     },
     "execution_count": 156,
     "metadata": {},
     "output_type": "execute_result"
    }
   ],
   "source": [
    "used_inds = [*active_ao_ind, *enviro_ao_ind]\n",
    "core_inds = [i for i in range(full_system_mol.aoslice_by_atom()[-1,-1]) if i not in used_inds\n",
    "           ]\n",
    "core = [(2*core_ind, 2*core_ind+1)  for core_ind in core_inds]\n",
    "core = [term for tup in core for term in tup]\n",
    "core"
   ]
  },
  {
   "cell_type": "code",
   "execution_count": 263,
   "metadata": {},
   "outputs": [
    {
     "data": {
      "text/plain": [
       "array([1, 7])"
      ]
     },
     "execution_count": 263,
     "metadata": {},
     "output_type": "execute_result"
    }
   ],
   "source": [
    "2*np.array(enviro_ao_ind)+1"
   ]
  },
  {
   "cell_type": "code",
   "execution_count": 259,
   "metadata": {},
   "outputs": [
    {
     "data": {
      "text/plain": [
       "[2, 3, 4, 5, 8, 9, 10, 11, 12, 13]"
      ]
     },
     "execution_count": 259,
     "metadata": {},
     "output_type": "execute_result"
    }
   ],
   "source": [
    "total_ind = np.array([ind for ind in range(full_system_mol_HF.nao) if ind not in enviro_ao_ind])\n",
    "\n",
    "active_space_ind = sorted([*(2*total_ind).tolist(), *(2*total_ind+1).tolist()])\n",
    "active_space_ind"
   ]
  },
  {
   "cell_type": "code",
   "execution_count": 270,
   "metadata": {},
   "outputs": [],
   "source": [
    "core_constant_new, one_body_integrals_new, two_body_integrals_new = get_active_space_integrals(\n",
    "                               one_body_terms,\n",
    "                               two_body_terms,\n",
    "                               occupied_indices=None,\n",
    "                               active_indices= active_space_ind) #[*active, *core]"
   ]
  },
  {
   "cell_type": "code",
   "execution_count": null,
   "metadata": {},
   "outputs": [],
   "source": []
  },
  {
   "cell_type": "code",
   "execution_count": 271,
   "metadata": {},
   "outputs": [
    {
     "data": {
      "text/plain": [
       "-6.373597876504241 [0^ 0] +\n",
       "0.3172115091427869 [0^ 0^ 0 0] +\n",
       "0.0459513019553167 [0^ 0^ 0 4] +\n",
       "0.014543180678703171 [0^ 0^ 2 2] +\n",
       "0.04595130195531669 [0^ 0^ 4 0] +\n",
       "0.07680173985536488 [0^ 0^ 4 4] +\n",
       "0.03783117211147126 [0^ 0^ 6 6] +\n",
       "0.007014546015985034 [0^ 0^ 6 8] +\n",
       "0.007014546015985036 [0^ 0^ 8 6] +\n",
       "0.005436126053324211 [0^ 0^ 8 8] +\n",
       "0.3172115091427869 [0^ 1^ 1 0] +\n",
       "0.0459513019553167 [0^ 1^ 1 4] +\n",
       "0.014543180678703171 [0^ 1^ 3 2] +\n",
       "0.04595130195531669 [0^ 1^ 5 0] +\n",
       "0.07680173985536488 [0^ 1^ 5 4] +\n",
       "0.03783117211147126 [0^ 1^ 7 6] +\n",
       "0.007014546015985034 [0^ 1^ 7 8] +\n",
       "0.007014546015985036 [0^ 1^ 9 6] +\n",
       "0.005436126053324211 [0^ 1^ 9 8] +\n",
       "0.014543180678703171 [0^ 2^ 0 2] +\n",
       "0.3155224021505817 [0^ 2^ 2 0] +\n",
       "0.09489361121888092 [0^ 2^ 2 4] +\n",
       "0.011809714386954294 [0^ 2^ 4 2] +\n",
       "0.014543180678703171 [0^ 3^ 1 2] +\n",
       "0.3155224021505817 [0^ 3^ 3 0] +\n",
       "0.09489361121888092 [0^ 3^ 3 4] +\n",
       "0.011809714386954294 [0^ 3^ 5 2] +\n",
       "-1.698075507355392 [0^ 4] +\n",
       "0.04595130195531669 [0^ 4^ 0 0] +\n",
       "0.07680173985536488 [0^ 4^ 0 4] +\n",
       "0.011809714386954294 [0^ 4^ 2 2] +\n",
       "0.30471221564034656 [0^ 4^ 4 0] +\n",
       "0.04438967307490163 [0^ 4^ 4 4] +\n",
       "0.03847199136458323 [0^ 4^ 6 6] +\n",
       "0.007838889207214268 [0^ 4^ 6 8] +\n",
       "0.0100276759325422 [0^ 4^ 8 6] +\n",
       "0.007454665289592793 [0^ 4^ 8 8] +\n",
       "0.04595130195531669 [0^ 5^ 1 0] +\n",
       "0.07680173985536488 [0^ 5^ 1 4] +\n",
       "0.011809714386954294 [0^ 5^ 3 2] +\n",
       "0.30471221564034656 [0^ 5^ 5 0] +\n",
       "0.04438967307490163 [0^ 5^ 5 4] +\n",
       "0.03847199136458323 [0^ 5^ 7 6] +\n",
       "0.007838889207214268 [0^ 5^ 7 8] +\n",
       "0.0100276759325422 [0^ 5^ 9 6] +\n",
       "0.007454665289592793 [0^ 5^ 9 8] +\n",
       "0.03783117211147126 [0^ 6^ 0 6] +\n",
       "0.007014546015985034 [0^ 6^ 0 8] +\n",
       "0.03847199136458323 [0^ 6^ 4 6] +\n",
       "0.007838889207214268 [0^ 6^ 4 8] +\n",
       "0.30874688953304624 [0^ 6^ 6 0] +\n",
       "0.1129029124344524 [0^ 6^ 6 4] +\n",
       "-0.004647495908508801 [0^ 6^ 8 0] +\n",
       "-0.002557472572188943 [0^ 6^ 8 4] +\n",
       "0.03783117211147126 [0^ 7^ 1 6] +\n",
       "0.007014546015985034 [0^ 7^ 1 8] +\n",
       "0.03847199136458323 [0^ 7^ 5 6] +\n",
       "0.007838889207214268 [0^ 7^ 5 8] +\n",
       "0.30874688953304624 [0^ 7^ 7 0] +\n",
       "0.1129029124344524 [0^ 7^ 7 4] +\n",
       "-0.004647495908508801 [0^ 7^ 9 0] +\n",
       "-0.002557472572188943 [0^ 7^ 9 4] +\n",
       "0.007014546015985036 [0^ 8^ 0 6] +\n",
       "0.005436126053324211 [0^ 8^ 0 8] +\n",
       "0.0100276759325422 [0^ 8^ 4 6] +\n",
       "0.007454665289592793 [0^ 8^ 4 8] +\n",
       "-0.004647495908508801 [0^ 8^ 6 0] +\n",
       "-0.002557472572188943 [0^ 8^ 6 4] +\n",
       "0.40225490227016447 [0^ 8^ 8 0] +\n",
       "0.1810488638929175 [0^ 8^ 8 4] +\n",
       "0.007014546015985036 [0^ 9^ 1 6] +\n",
       "0.005436126053324211 [0^ 9^ 1 8] +\n",
       "0.0100276759325422 [0^ 9^ 5 6] +\n",
       "0.007454665289592793 [0^ 9^ 5 8] +\n",
       "-0.004647495908508801 [0^ 9^ 7 0] +\n",
       "-0.002557472572188943 [0^ 9^ 7 4] +\n",
       "0.40225490227016447 [0^ 9^ 9 0] +\n",
       "0.1810488638929175 [0^ 9^ 9 4] +\n",
       "0.3172115091427869 [1^ 0^ 0 1] +\n",
       "0.0459513019553167 [1^ 0^ 0 5] +\n",
       "0.014543180678703171 [1^ 0^ 2 3] +\n",
       "0.04595130195531669 [1^ 0^ 4 1] +\n",
       "0.07680173985536488 [1^ 0^ 4 5] +\n",
       "0.03783117211147126 [1^ 0^ 6 7] +\n",
       "0.007014546015985034 [1^ 0^ 6 9] +\n",
       "0.007014546015985036 [1^ 0^ 8 7] +\n",
       "0.005436126053324211 [1^ 0^ 8 9] +\n",
       "-6.373597876504241 [1^ 1] +\n",
       "0.3172115091427869 [1^ 1^ 1 1] +\n",
       "0.0459513019553167 [1^ 1^ 1 5] +\n",
       "0.014543180678703171 [1^ 1^ 3 3] +\n",
       "0.04595130195531669 [1^ 1^ 5 1] +\n",
       "0.07680173985536488 [1^ 1^ 5 5] +\n",
       "0.03783117211147126 [1^ 1^ 7 7] +\n",
       "0.007014546015985034 [1^ 1^ 7 9] +\n",
       "0.007014546015985036 [1^ 1^ 9 7] +\n",
       "0.005436126053324211 [1^ 1^ 9 9] +\n",
       "0.014543180678703171 [1^ 2^ 0 3] +\n",
       "0.3155224021505817 [1^ 2^ 2 1] +\n",
       "0.09489361121888092 [1^ 2^ 2 5] +\n",
       "0.011809714386954294 [1^ 2^ 4 3] +\n",
       "0.014543180678703171 [1^ 3^ 1 3] +\n",
       "0.3155224021505817 [1^ 3^ 3 1] +\n",
       "0.09489361121888092 [1^ 3^ 3 5] +\n",
       "0.011809714386954294 [1^ 3^ 5 3] +\n",
       "0.04595130195531669 [1^ 4^ 0 1] +\n",
       "0.07680173985536488 [1^ 4^ 0 5] +\n",
       "0.011809714386954294 [1^ 4^ 2 3] +\n",
       "0.30471221564034656 [1^ 4^ 4 1] +\n",
       "0.04438967307490163 [1^ 4^ 4 5] +\n",
       "0.03847199136458323 [1^ 4^ 6 7] +\n",
       "0.007838889207214268 [1^ 4^ 6 9] +\n",
       "0.0100276759325422 [1^ 4^ 8 7] +\n",
       "0.007454665289592793 [1^ 4^ 8 9] +\n",
       "-1.698075507355392 [1^ 5] +\n",
       "0.04595130195531669 [1^ 5^ 1 1] +\n",
       "0.07680173985536488 [1^ 5^ 1 5] +\n",
       "0.011809714386954294 [1^ 5^ 3 3] +\n",
       "0.30471221564034656 [1^ 5^ 5 1] +\n",
       "0.04438967307490163 [1^ 5^ 5 5] +\n",
       "0.03847199136458323 [1^ 5^ 7 7] +\n",
       "0.007838889207214268 [1^ 5^ 7 9] +\n",
       "0.0100276759325422 [1^ 5^ 9 7] +\n",
       "0.007454665289592793 [1^ 5^ 9 9] +\n",
       "0.03783117211147126 [1^ 6^ 0 7] +\n",
       "0.007014546015985034 [1^ 6^ 0 9] +\n",
       "0.03847199136458323 [1^ 6^ 4 7] +\n",
       "0.007838889207214268 [1^ 6^ 4 9] +\n",
       "0.30874688953304624 [1^ 6^ 6 1] +\n",
       "0.1129029124344524 [1^ 6^ 6 5] +\n",
       "-0.004647495908508801 [1^ 6^ 8 1] +\n",
       "-0.002557472572188943 [1^ 6^ 8 5] +\n",
       "0.03783117211147126 [1^ 7^ 1 7] +\n",
       "0.007014546015985034 [1^ 7^ 1 9] +\n",
       "0.03847199136458323 [1^ 7^ 5 7] +\n",
       "0.007838889207214268 [1^ 7^ 5 9] +\n",
       "0.30874688953304624 [1^ 7^ 7 1] +\n",
       "0.1129029124344524 [1^ 7^ 7 5] +\n",
       "-0.004647495908508801 [1^ 7^ 9 1] +\n",
       "-0.002557472572188943 [1^ 7^ 9 5] +\n",
       "0.007014546015985036 [1^ 8^ 0 7] +\n",
       "0.005436126053324211 [1^ 8^ 0 9] +\n",
       "0.0100276759325422 [1^ 8^ 4 7] +\n",
       "0.007454665289592793 [1^ 8^ 4 9] +\n",
       "-0.004647495908508801 [1^ 8^ 6 1] +\n",
       "-0.002557472572188943 [1^ 8^ 6 5] +\n",
       "0.40225490227016447 [1^ 8^ 8 1] +\n",
       "0.1810488638929175 [1^ 8^ 8 5] +\n",
       "0.007014546015985036 [1^ 9^ 1 7] +\n",
       "0.005436126053324211 [1^ 9^ 1 9] +\n",
       "0.0100276759325422 [1^ 9^ 5 7] +\n",
       "0.007454665289592793 [1^ 9^ 5 9] +\n",
       "-0.004647495908508801 [1^ 9^ 7 1] +\n",
       "-0.002557472572188943 [1^ 9^ 7 5] +\n",
       "0.40225490227016447 [1^ 9^ 9 1] +\n",
       "0.1810488638929175 [1^ 9^ 9 5] +\n",
       "0.3155224021505817 [2^ 0^ 0 2] +\n",
       "0.014543180678703171 [2^ 0^ 2 0] +\n",
       "0.011809714386954297 [2^ 0^ 2 4] +\n",
       "0.09489361121888083 [2^ 0^ 4 2] +\n",
       "0.3155224021505817 [2^ 1^ 1 2] +\n",
       "0.014543180678703171 [2^ 1^ 3 0] +\n",
       "0.011809714386954297 [2^ 1^ 3 4] +\n",
       "0.09489361121888083 [2^ 1^ 5 2] +\n",
       "-7.451142912163042 [2^ 2] +\n",
       "0.014543180678703171 [2^ 2^ 0 0] +\n",
       "0.011809714386954297 [2^ 2^ 0 4] +\n",
       "0.4400795466875218 [2^ 2^ 2 2] +\n",
       "0.011809714386954294 [2^ 2^ 4 0] +\n",
       "0.011937929406582044 [2^ 2^ 4 4] +\n",
       "0.07382169073114125 [2^ 2^ 6 6] +\n",
       "0.015898059609437215 [2^ 2^ 6 8] +\n",
       "0.01589805960943722 [2^ 2^ 8 6] +\n",
       "0.01277310509746327 [2^ 2^ 8 8] +\n",
       "0.014543180678703171 [2^ 3^ 1 0] +\n",
       "0.011809714386954297 [2^ 3^ 1 4] +\n",
       "0.4400795466875218 [2^ 3^ 3 2] +\n",
       "0.011809714386954294 [2^ 3^ 5 0] +\n",
       "0.011937929406582044 [2^ 3^ 5 4] +\n",
       "0.07382169073114125 [2^ 3^ 7 6] +\n",
       "0.015898059609437215 [2^ 3^ 7 8] +\n",
       "0.01589805960943722 [2^ 3^ 9 6] +\n",
       "0.01277310509746327 [2^ 3^ 9 8] +\n",
       "0.09489361121888083 [2^ 4^ 0 2] +\n",
       "0.011809714386954294 [2^ 4^ 2 0] +\n",
       "0.011937929406582044 [2^ 4^ 2 4] +\n",
       "0.31001529187728855 [2^ 4^ 4 2] +\n",
       "0.09489361121888083 [2^ 5^ 1 2] +\n",
       "0.011809714386954294 [2^ 5^ 3 0] +\n",
       "0.011937929406582044 [2^ 5^ 3 4] +\n",
       "0.31001529187728855 [2^ 5^ 5 2] +\n",
       "0.07382169073114125 [2^ 6^ 2 6] +\n",
       "0.015898059609437215 [2^ 6^ 2 8] +\n",
       "0.4037644241703306 [2^ 6^ 6 2] +\n",
       "-0.00681018323814672 [2^ 6^ 8 2] +\n",
       "0.07382169073114125 [2^ 7^ 3 6] +\n",
       "0.015898059609437215 [2^ 7^ 3 8] +\n",
       "0.4037644241703306 [2^ 7^ 7 2] +\n",
       "-0.00681018323814672 [2^ 7^ 9 2] +\n",
       "0.01589805960943722 [2^ 8^ 2 6] +\n",
       "0.01277310509746327 [2^ 8^ 2 8] +\n",
       "-0.00681018323814672 [2^ 8^ 6 2] +\n",
       "0.5575032673857463 [2^ 8^ 8 2] +\n",
       "0.01589805960943722 [2^ 9^ 3 6] +\n",
       "0.01277310509746327 [2^ 9^ 3 8] +\n",
       "-0.00681018323814672 [2^ 9^ 7 2] +\n",
       "0.5575032673857463 [2^ 9^ 9 2] +\n",
       "0.3155224021505817 [3^ 0^ 0 3] +\n",
       "0.014543180678703171 [3^ 0^ 2 1] +\n",
       "0.011809714386954297 [3^ 0^ 2 5] +\n",
       "0.09489361121888083 [3^ 0^ 4 3] +\n",
       "0.3155224021505817 [3^ 1^ 1 3] +\n",
       "0.014543180678703171 [3^ 1^ 3 1] +\n",
       "0.011809714386954297 [3^ 1^ 3 5] +\n",
       "0.09489361121888083 [3^ 1^ 5 3] +\n",
       "0.014543180678703171 [3^ 2^ 0 1] +\n",
       "0.011809714386954297 [3^ 2^ 0 5] +\n",
       "0.4400795466875218 [3^ 2^ 2 3] +\n",
       "0.011809714386954294 [3^ 2^ 4 1] +\n",
       "0.011937929406582044 [3^ 2^ 4 5] +\n",
       "0.07382169073114125 [3^ 2^ 6 7] +\n",
       "0.015898059609437215 [3^ 2^ 6 9] +\n",
       "0.01589805960943722 [3^ 2^ 8 7] +\n",
       "0.01277310509746327 [3^ 2^ 8 9] +\n",
       "-7.451142912163042 [3^ 3] +\n",
       "0.014543180678703171 [3^ 3^ 1 1] +\n",
       "0.011809714386954297 [3^ 3^ 1 5] +\n",
       "0.4400795466875218 [3^ 3^ 3 3] +\n",
       "0.011809714386954294 [3^ 3^ 5 1] +\n",
       "0.011937929406582044 [3^ 3^ 5 5] +\n",
       "0.07382169073114125 [3^ 3^ 7 7] +\n",
       "0.015898059609437215 [3^ 3^ 7 9] +\n",
       "0.01589805960943722 [3^ 3^ 9 7] +\n",
       "0.01277310509746327 [3^ 3^ 9 9] +\n",
       "0.09489361121888083 [3^ 4^ 0 3] +\n",
       "0.011809714386954294 [3^ 4^ 2 1] +\n",
       "0.011937929406582044 [3^ 4^ 2 5] +\n",
       "0.31001529187728855 [3^ 4^ 4 3] +\n",
       "0.09489361121888083 [3^ 5^ 1 3] +\n",
       "0.011809714386954294 [3^ 5^ 3 1] +\n",
       "0.011937929406582044 [3^ 5^ 3 5] +\n",
       "0.31001529187728855 [3^ 5^ 5 3] +\n",
       "0.07382169073114125 [3^ 6^ 2 7] +\n",
       "0.015898059609437215 [3^ 6^ 2 9] +\n",
       "0.4037644241703306 [3^ 6^ 6 3] +\n",
       "-0.00681018323814672 [3^ 6^ 8 3] +\n",
       "0.07382169073114125 [3^ 7^ 3 7] +\n",
       "0.015898059609437215 [3^ 7^ 3 9] +\n",
       "0.4037644241703306 [3^ 7^ 7 3] +\n",
       "-0.00681018323814672 [3^ 7^ 9 3] +\n",
       "0.01589805960943722 [3^ 8^ 2 7] +\n",
       "0.01277310509746327 [3^ 8^ 2 9] +\n",
       "-0.00681018323814672 [3^ 8^ 6 3] +\n",
       "0.5575032673857463 [3^ 8^ 8 3] +\n",
       "0.01589805960943722 [3^ 9^ 3 7] +\n",
       "0.01277310509746327 [3^ 9^ 3 9] +\n",
       "-0.00681018323814672 [3^ 9^ 7 3] +\n",
       "0.5575032673857463 [3^ 9^ 9 3] +\n",
       "-1.6980755073553921 [4^ 0] +\n",
       "0.0459513019553167 [4^ 0^ 0 0] +\n",
       "0.3047122156403466 [4^ 0^ 0 4] +\n",
       "0.011809714386954297 [4^ 0^ 2 2] +\n",
       "0.07680173985536488 [4^ 0^ 4 0] +\n",
       "0.044389673074901624 [4^ 0^ 4 4] +\n",
       "0.03847199136458323 [4^ 0^ 6 6] +\n",
       "0.010027675932542201 [4^ 0^ 6 8] +\n",
       "0.007838889207214267 [4^ 0^ 8 6] +\n",
       "0.007454665289592791 [4^ 0^ 8 8] +\n",
       "0.0459513019553167 [4^ 1^ 1 0] +\n",
       "0.3047122156403466 [4^ 1^ 1 4] +\n",
       "0.011809714386954297 [4^ 1^ 3 2] +\n",
       "0.07680173985536488 [4^ 1^ 5 0] +\n",
       "0.044389673074901624 [4^ 1^ 5 4] +\n",
       "0.03847199136458323 [4^ 1^ 7 6] +\n",
       "0.010027675932542201 [4^ 1^ 7 8] +\n",
       "0.007838889207214267 [4^ 1^ 9 6] +\n",
       "0.007454665289592791 [4^ 1^ 9 8] +\n",
       "0.011809714386954297 [4^ 2^ 0 2] +\n",
       "0.09489361121888092 [4^ 2^ 2 0] +\n",
       "0.31001529187728827 [4^ 2^ 2 4] +\n",
       "0.011937929406582044 [4^ 2^ 4 2] +\n",
       "0.011809714386954297 [4^ 3^ 1 2] +\n",
       "0.09489361121888092 [4^ 3^ 3 0] +\n",
       "0.31001529187728827 [4^ 3^ 3 4] +\n",
       "0.011937929406582044 [4^ 3^ 5 2] +\n",
       "-5.566356708972621 [4^ 4] +\n",
       "0.07680173985536488 [4^ 4^ 0 0] +\n",
       "0.044389673074901624 [4^ 4^ 0 4] +\n",
       "0.011937929406582044 [4^ 4^ 2 2] +\n",
       "0.04438967307490163 [4^ 4^ 4 0] +\n",
       "0.3074405488228362 [4^ 4^ 4 4] +\n",
       "0.04106652661241423 [4^ 4^ 6 6] +\n",
       "0.011228143505626885 [4^ 4^ 6 8] +\n",
       "0.011228143505626887 [4^ 4^ 8 6] +\n",
       "0.010425249977831773 [4^ 4^ 8 8] +\n",
       "0.07680173985536488 [4^ 5^ 1 0] +\n",
       "0.044389673074901624 [4^ 5^ 1 4] +\n",
       "0.011937929406582044 [4^ 5^ 3 2] +\n",
       "0.04438967307490163 [4^ 5^ 5 0] +\n",
       "0.3074405488228362 [4^ 5^ 5 4] +\n",
       "0.04106652661241423 [4^ 5^ 7 6] +\n",
       "0.011228143505626885 [4^ 5^ 7 8] +\n",
       "0.011228143505626887 [4^ 5^ 9 6] +\n",
       "0.010425249977831773 [4^ 5^ 9 8] +\n",
       "0.03847199136458323 [4^ 6^ 0 6] +\n",
       "0.010027675932542201 [4^ 6^ 0 8] +\n",
       "0.04106652661241423 [4^ 6^ 4 6] +\n",
       "0.011228143505626885 [4^ 6^ 4 8] +\n",
       "0.1129029124344524 [4^ 6^ 6 0] +\n",
       "0.3121895917199192 [4^ 6^ 6 4] +\n",
       "-0.002557472572188943 [4^ 6^ 8 0] +\n",
       "-0.005352397701270337 [4^ 6^ 8 4] +\n",
       "0.03847199136458323 [4^ 7^ 1 6] +\n",
       "0.010027675932542201 [4^ 7^ 1 8] +\n",
       "0.04106652661241423 [4^ 7^ 5 6] +\n",
       "0.011228143505626885 [4^ 7^ 5 8] +\n",
       "0.1129029124344524 [4^ 7^ 7 0] +\n",
       "0.3121895917199192 [4^ 7^ 7 4] +\n",
       "-0.002557472572188943 [4^ 7^ 9 0] +\n",
       "-0.005352397701270337 [4^ 7^ 9 4] +\n",
       "0.007838889207214267 [4^ 8^ 0 6] +\n",
       "0.007454665289592791 [4^ 8^ 0 8] +\n",
       "0.011228143505626887 [4^ 8^ 4 6] +\n",
       "0.010425249977831773 [4^ 8^ 4 8] +\n",
       "-0.002557472572188943 [4^ 8^ 6 0] +\n",
       "-0.005352397701270337 [4^ 8^ 6 4] +\n",
       "0.1810488638929175 [4^ 8^ 8 0] +\n",
       "0.4290753875527409 [4^ 8^ 8 4] +\n",
       "0.007838889207214267 [4^ 9^ 1 6] +\n",
       "0.007454665289592791 [4^ 9^ 1 8] +\n",
       "0.011228143505626887 [4^ 9^ 5 6] +\n",
       "0.010425249977831773 [4^ 9^ 5 8] +\n",
       "-0.002557472572188943 [4^ 9^ 7 0] +\n",
       "-0.005352397701270337 [4^ 9^ 7 4] +\n",
       "0.1810488638929175 [4^ 9^ 9 0] +\n",
       "0.4290753875527409 [4^ 9^ 9 4] +\n",
       "0.0459513019553167 [5^ 0^ 0 1] +\n",
       "0.3047122156403466 [5^ 0^ 0 5] +\n",
       "0.011809714386954297 [5^ 0^ 2 3] +\n",
       "0.07680173985536488 [5^ 0^ 4 1] +\n",
       "0.044389673074901624 [5^ 0^ 4 5] +\n",
       "0.03847199136458323 [5^ 0^ 6 7] +\n",
       "0.010027675932542201 [5^ 0^ 6 9] +\n",
       "0.007838889207214267 [5^ 0^ 8 7] +\n",
       "0.007454665289592791 [5^ 0^ 8 9] +\n",
       "-1.6980755073553921 [5^ 1] +\n",
       "0.0459513019553167 [5^ 1^ 1 1] +\n",
       "0.3047122156403466 [5^ 1^ 1 5] +\n",
       "0.011809714386954297 [5^ 1^ 3 3] +\n",
       "0.07680173985536488 [5^ 1^ 5 1] +\n",
       "0.044389673074901624 [5^ 1^ 5 5] +\n",
       "0.03847199136458323 [5^ 1^ 7 7] +\n",
       "0.010027675932542201 [5^ 1^ 7 9] +\n",
       "0.007838889207214267 [5^ 1^ 9 7] +\n",
       "0.007454665289592791 [5^ 1^ 9 9] +\n",
       "0.011809714386954297 [5^ 2^ 0 3] +\n",
       "0.09489361121888092 [5^ 2^ 2 1] +\n",
       "0.31001529187728827 [5^ 2^ 2 5] +\n",
       "0.011937929406582044 [5^ 2^ 4 3] +\n",
       "0.011809714386954297 [5^ 3^ 1 3] +\n",
       "0.09489361121888092 [5^ 3^ 3 1] +\n",
       "0.31001529187728827 [5^ 3^ 3 5] +\n",
       "0.011937929406582044 [5^ 3^ 5 3] +\n",
       "0.07680173985536488 [5^ 4^ 0 1] +\n",
       "0.044389673074901624 [5^ 4^ 0 5] +\n",
       "0.011937929406582044 [5^ 4^ 2 3] +\n",
       "0.04438967307490163 [5^ 4^ 4 1] +\n",
       "0.3074405488228362 [5^ 4^ 4 5] +\n",
       "0.04106652661241423 [5^ 4^ 6 7] +\n",
       "0.011228143505626885 [5^ 4^ 6 9] +\n",
       "0.011228143505626887 [5^ 4^ 8 7] +\n",
       "0.010425249977831773 [5^ 4^ 8 9] +\n",
       "-5.566356708972621 [5^ 5] +\n",
       "0.07680173985536488 [5^ 5^ 1 1] +\n",
       "0.044389673074901624 [5^ 5^ 1 5] +\n",
       "0.011937929406582044 [5^ 5^ 3 3] +\n",
       "0.04438967307490163 [5^ 5^ 5 1] +\n",
       "0.3074405488228362 [5^ 5^ 5 5] +\n",
       "0.04106652661241423 [5^ 5^ 7 7] +\n",
       "0.011228143505626885 [5^ 5^ 7 9] +\n",
       "0.011228143505626887 [5^ 5^ 9 7] +\n",
       "0.010425249977831773 [5^ 5^ 9 9] +\n",
       "0.03847199136458323 [5^ 6^ 0 7] +\n",
       "0.010027675932542201 [5^ 6^ 0 9] +\n",
       "0.04106652661241423 [5^ 6^ 4 7] +\n",
       "0.011228143505626885 [5^ 6^ 4 9] +\n",
       "0.1129029124344524 [5^ 6^ 6 1] +\n",
       "0.3121895917199192 [5^ 6^ 6 5] +\n",
       "-0.002557472572188943 [5^ 6^ 8 1] +\n",
       "-0.005352397701270337 [5^ 6^ 8 5] +\n",
       "0.03847199136458323 [5^ 7^ 1 7] +\n",
       "0.010027675932542201 [5^ 7^ 1 9] +\n",
       "0.04106652661241423 [5^ 7^ 5 7] +\n",
       "0.011228143505626885 [5^ 7^ 5 9] +\n",
       "0.1129029124344524 [5^ 7^ 7 1] +\n",
       "0.3121895917199192 [5^ 7^ 7 5] +\n",
       "-0.002557472572188943 [5^ 7^ 9 1] +\n",
       "-0.005352397701270337 [5^ 7^ 9 5] +\n",
       "0.007838889207214267 [5^ 8^ 0 7] +\n",
       "0.007454665289592791 [5^ 8^ 0 9] +\n",
       "0.011228143505626887 [5^ 8^ 4 7] +\n",
       "0.010425249977831773 [5^ 8^ 4 9] +\n",
       "-0.002557472572188943 [5^ 8^ 6 1] +\n",
       "-0.005352397701270337 [5^ 8^ 6 5] +\n",
       "0.1810488638929175 [5^ 8^ 8 1] +\n",
       "0.4290753875527409 [5^ 8^ 8 5] +\n",
       "0.007838889207214267 [5^ 9^ 1 7] +\n",
       "0.007454665289592791 [5^ 9^ 1 9] +\n",
       "0.011228143505626887 [5^ 9^ 5 7] +\n",
       "0.010425249977831773 [5^ 9^ 5 9] +\n",
       "-0.002557472572188943 [5^ 9^ 7 1] +\n",
       "-0.005352397701270337 [5^ 9^ 7 5] +\n",
       "0.1810488638929175 [5^ 9^ 9 1] +\n",
       "0.4290753875527409 [5^ 9^ 9 5] +\n",
       "0.3087468895330462 [6^ 0^ 0 6] +\n",
       "-0.0046474959085087905 [6^ 0^ 0 8] +\n",
       "0.1129029124344522 [6^ 0^ 4 6] +\n",
       "-0.00255747257218897 [6^ 0^ 4 8] +\n",
       "0.03783117211147126 [6^ 0^ 6 0] +\n",
       "0.03847199136458323 [6^ 0^ 6 4] +\n",
       "0.007014546015985036 [6^ 0^ 8 0] +\n",
       "0.007838889207214267 [6^ 0^ 8 4] +\n",
       "0.3087468895330462 [6^ 1^ 1 6] +\n",
       "-0.0046474959085087905 [6^ 1^ 1 8] +\n",
       "0.1129029124344522 [6^ 1^ 5 6] +\n",
       "-0.00255747257218897 [6^ 1^ 5 8] +\n",
       "0.03783117211147126 [6^ 1^ 7 0] +\n",
       "0.03847199136458323 [6^ 1^ 7 4] +\n",
       "0.007014546015985036 [6^ 1^ 9 0] +\n",
       "0.007838889207214267 [6^ 1^ 9 4] +\n",
       "0.4037644241703303 [6^ 2^ 2 6] +\n",
       "-0.006810183238146748 [6^ 2^ 2 8] +\n",
       "0.07382169073114125 [6^ 2^ 6 2] +\n",
       "0.01589805960943722 [6^ 2^ 8 2] +\n",
       "0.4037644241703303 [6^ 3^ 3 6] +\n",
       "-0.006810183238146748 [6^ 3^ 3 8] +\n",
       "0.07382169073114125 [6^ 3^ 7 2] +\n",
       "0.01589805960943722 [6^ 3^ 9 2] +\n",
       "0.1129029124344522 [6^ 4^ 0 6] +\n",
       "-0.00255747257218897 [6^ 4^ 0 8] +\n",
       "0.31218959171991895 [6^ 4^ 4 6] +\n",
       "-0.005352397701270448 [6^ 4^ 4 8] +\n",
       "0.03847199136458323 [6^ 4^ 6 0] +\n",
       "0.04106652661241423 [6^ 4^ 6 4] +\n",
       "0.0100276759325422 [6^ 4^ 8 0] +\n",
       "0.011228143505626887 [6^ 4^ 8 4] +\n",
       "0.1129029124344522 [6^ 5^ 1 6] +\n",
       "-0.00255747257218897 [6^ 5^ 1 8] +\n",
       "0.31218959171991895 [6^ 5^ 5 6] +\n",
       "-0.005352397701270448 [6^ 5^ 5 8] +\n",
       "0.03847199136458323 [6^ 5^ 7 0] +\n",
       "0.04106652661241423 [6^ 5^ 7 4] +\n",
       "0.0100276759325422 [6^ 5^ 9 0] +\n",
       "0.011228143505626887 [6^ 5^ 9 4] +\n",
       "-7.755150615176978 [6^ 6] +\n",
       "0.03783117211147126 [6^ 6^ 0 0] +\n",
       "0.03847199136458323 [6^ 6^ 0 4] +\n",
       "0.07382169073114125 [6^ 6^ 2 2] +\n",
       "0.03847199136458323 [6^ 6^ 4 0] +\n",
       "0.04106652661241423 [6^ 6^ 4 4] +\n",
       "0.46896229708611986 [6^ 6^ 6 6] +\n",
       "-0.0022225697071327167 [6^ 6^ 6 8] +\n",
       "-0.00222256970713278 [6^ 6^ 8 6] +\n",
       "0.03506243267461639 [6^ 6^ 8 8] +\n",
       "0.03783117211147126 [6^ 7^ 1 0] +\n",
       "0.03847199136458323 [6^ 7^ 1 4] +\n",
       "0.07382169073114125 [6^ 7^ 3 2] +\n",
       "0.03847199136458323 [6^ 7^ 5 0] +\n",
       "0.04106652661241423 [6^ 7^ 5 4] +\n",
       "0.46896229708611986 [6^ 7^ 7 6] +\n",
       "-0.0022225697071327167 [6^ 7^ 7 8] +\n",
       "-0.00222256970713278 [6^ 7^ 9 6] +\n",
       "0.03506243267461639 [6^ 7^ 9 8] +\n",
       "0.677381085465941 [6^ 8] +\n",
       "0.007014546015985036 [6^ 8^ 0 0] +\n",
       "0.007838889207214267 [6^ 8^ 0 4] +\n",
       "0.01589805960943722 [6^ 8^ 2 2] +\n",
       "0.0100276759325422 [6^ 8^ 4 0] +\n",
       "0.011228143505626887 [6^ 8^ 4 4] +\n",
       "-0.00222256970713278 [6^ 8^ 6 6] +\n",
       "0.03506243267461639 [6^ 8^ 6 8] +\n",
       "0.568214813390984 [6^ 8^ 8 6] +\n",
       "-0.22104561842799145 [6^ 8^ 8 8] +\n",
       "0.007014546015985036 [6^ 9^ 1 0] +\n",
       "0.007838889207214267 [6^ 9^ 1 4] +\n",
       "0.01589805960943722 [6^ 9^ 3 2] +\n",
       "0.0100276759325422 [6^ 9^ 5 0] +\n",
       "0.011228143505626887 [6^ 9^ 5 4] +\n",
       "-0.00222256970713278 [6^ 9^ 7 6] +\n",
       "0.03506243267461639 [6^ 9^ 7 8] +\n",
       "0.568214813390984 [6^ 9^ 9 6] +\n",
       "-0.22104561842799145 [6^ 9^ 9 8] +\n",
       "0.3087468895330462 [7^ 0^ 0 7] +\n",
       "-0.0046474959085087905 [7^ 0^ 0 9] +\n",
       "0.1129029124344522 [7^ 0^ 4 7] +\n",
       "-0.00255747257218897 [7^ 0^ 4 9] +\n",
       "0.03783117211147126 [7^ 0^ 6 1] +\n",
       "0.03847199136458323 [7^ 0^ 6 5] +\n",
       "0.007014546015985036 [7^ 0^ 8 1] +\n",
       "0.007838889207214267 [7^ 0^ 8 5] +\n",
       "0.3087468895330462 [7^ 1^ 1 7] +\n",
       "-0.0046474959085087905 [7^ 1^ 1 9] +\n",
       "0.1129029124344522 [7^ 1^ 5 7] +\n",
       "-0.00255747257218897 [7^ 1^ 5 9] +\n",
       "0.03783117211147126 [7^ 1^ 7 1] +\n",
       "0.03847199136458323 [7^ 1^ 7 5] +\n",
       "0.007014546015985036 [7^ 1^ 9 1] +\n",
       "0.007838889207214267 [7^ 1^ 9 5] +\n",
       "0.4037644241703303 [7^ 2^ 2 7] +\n",
       "-0.006810183238146748 [7^ 2^ 2 9] +\n",
       "0.07382169073114125 [7^ 2^ 6 3] +\n",
       "0.01589805960943722 [7^ 2^ 8 3] +\n",
       "0.4037644241703303 [7^ 3^ 3 7] +\n",
       "-0.006810183238146748 [7^ 3^ 3 9] +\n",
       "0.07382169073114125 [7^ 3^ 7 3] +\n",
       "0.01589805960943722 [7^ 3^ 9 3] +\n",
       "0.1129029124344522 [7^ 4^ 0 7] +\n",
       "-0.00255747257218897 [7^ 4^ 0 9] +\n",
       "0.31218959171991895 [7^ 4^ 4 7] +\n",
       "-0.005352397701270448 [7^ 4^ 4 9] +\n",
       "0.03847199136458323 [7^ 4^ 6 1] +\n",
       "0.04106652661241423 [7^ 4^ 6 5] +\n",
       "0.0100276759325422 [7^ 4^ 8 1] +\n",
       "0.011228143505626887 [7^ 4^ 8 5] +\n",
       "0.1129029124344522 [7^ 5^ 1 7] +\n",
       "-0.00255747257218897 [7^ 5^ 1 9] +\n",
       "0.31218959171991895 [7^ 5^ 5 7] +\n",
       "-0.005352397701270448 [7^ 5^ 5 9] +\n",
       "0.03847199136458323 [7^ 5^ 7 1] +\n",
       "0.04106652661241423 [7^ 5^ 7 5] +\n",
       "0.0100276759325422 [7^ 5^ 9 1] +\n",
       "0.011228143505626887 [7^ 5^ 9 5] +\n",
       "0.03783117211147126 [7^ 6^ 0 1] +\n",
       "0.03847199136458323 [7^ 6^ 0 5] +\n",
       "0.07382169073114125 [7^ 6^ 2 3] +\n",
       "0.03847199136458323 [7^ 6^ 4 1] +\n",
       "0.04106652661241423 [7^ 6^ 4 5] +\n",
       "0.46896229708611986 [7^ 6^ 6 7] +\n",
       "-0.0022225697071327167 [7^ 6^ 6 9] +\n",
       "-0.00222256970713278 [7^ 6^ 8 7] +\n",
       "0.03506243267461639 [7^ 6^ 8 9] +\n",
       "-7.755150615176978 [7^ 7] +\n",
       "0.03783117211147126 [7^ 7^ 1 1] +\n",
       "0.03847199136458323 [7^ 7^ 1 5] +\n",
       "0.07382169073114125 [7^ 7^ 3 3] +\n",
       "0.03847199136458323 [7^ 7^ 5 1] +\n",
       "0.04106652661241423 [7^ 7^ 5 5] +\n",
       "0.46896229708611986 [7^ 7^ 7 7] +\n",
       "-0.0022225697071327167 [7^ 7^ 7 9] +\n",
       "-0.00222256970713278 [7^ 7^ 9 7] +\n",
       "0.03506243267461639 [7^ 7^ 9 9] +\n",
       "0.007014546015985036 [7^ 8^ 0 1] +\n",
       "0.007838889207214267 [7^ 8^ 0 5] +\n",
       "0.01589805960943722 [7^ 8^ 2 3] +\n",
       "0.0100276759325422 [7^ 8^ 4 1] +\n",
       "0.011228143505626887 [7^ 8^ 4 5] +\n",
       "-0.00222256970713278 [7^ 8^ 6 7] +\n",
       "0.03506243267461639 [7^ 8^ 6 9] +\n",
       "0.568214813390984 [7^ 8^ 8 7] +\n",
       "-0.22104561842799145 [7^ 8^ 8 9] +\n",
       "0.677381085465941 [7^ 9] +\n",
       "0.007014546015985036 [7^ 9^ 1 1] +\n",
       "0.007838889207214267 [7^ 9^ 1 5] +\n",
       "0.01589805960943722 [7^ 9^ 3 3] +\n",
       "0.0100276759325422 [7^ 9^ 5 1] +\n",
       "0.011228143505626887 [7^ 9^ 5 5] +\n",
       "-0.00222256970713278 [7^ 9^ 7 7] +\n",
       "0.03506243267461639 [7^ 9^ 7 9] +\n",
       "0.568214813390984 [7^ 9^ 9 7] +\n",
       "-0.22104561842799145 [7^ 9^ 9 9] +\n",
       "-0.0046474959085087905 [8^ 0^ 0 6] +\n",
       "0.40225490227016447 [8^ 0^ 0 8] +\n",
       "-0.00255747257218897 [8^ 0^ 4 6] +\n",
       "0.18104886389291736 [8^ 0^ 4 8] +\n",
       "0.007014546015985034 [8^ 0^ 6 0] +\n",
       "0.010027675932542201 [8^ 0^ 6 4] +\n",
       "0.005436126053324211 [8^ 0^ 8 0] +\n",
       "0.007454665289592791 [8^ 0^ 8 4] +\n",
       "-0.0046474959085087905 [8^ 1^ 1 6] +\n",
       "0.40225490227016447 [8^ 1^ 1 8] +\n",
       "-0.00255747257218897 [8^ 1^ 5 6] +\n",
       "0.18104886389291736 [8^ 1^ 5 8] +\n",
       "0.007014546015985034 [8^ 1^ 7 0] +\n",
       "0.010027675932542201 [8^ 1^ 7 4] +\n",
       "0.005436126053324211 [8^ 1^ 9 0] +\n",
       "0.007454665289592791 [8^ 1^ 9 4] +\n",
       "-0.006810183238146748 [8^ 2^ 2 6] +\n",
       "0.5575032673857462 [8^ 2^ 2 8] +\n",
       "0.015898059609437215 [8^ 2^ 6 2] +\n",
       "0.01277310509746327 [8^ 2^ 8 2] +\n",
       "-0.006810183238146748 [8^ 3^ 3 6] +\n",
       "0.5575032673857462 [8^ 3^ 3 8] +\n",
       "0.015898059609437215 [8^ 3^ 7 2] +\n",
       "0.01277310509746327 [8^ 3^ 9 2] +\n",
       "-0.00255747257218897 [8^ 4^ 0 6] +\n",
       "0.18104886389291736 [8^ 4^ 0 8] +\n",
       "-0.005352397701270448 [8^ 4^ 4 6] +\n",
       "0.4290753875527409 [8^ 4^ 4 8] +\n",
       "0.007838889207214268 [8^ 4^ 6 0] +\n",
       "0.011228143505626885 [8^ 4^ 6 4] +\n",
       "0.007454665289592793 [8^ 4^ 8 0] +\n",
       "0.010425249977831773 [8^ 4^ 8 4] +\n",
       "-0.00255747257218897 [8^ 5^ 1 6] +\n",
       "0.18104886389291736 [8^ 5^ 1 8] +\n",
       "-0.005352397701270448 [8^ 5^ 5 6] +\n",
       "0.4290753875527409 [8^ 5^ 5 8] +\n",
       "0.007838889207214268 [8^ 5^ 7 0] +\n",
       "0.011228143505626885 [8^ 5^ 7 4] +\n",
       "0.007454665289592793 [8^ 5^ 9 0] +\n",
       "0.010425249977831773 [8^ 5^ 9 4] +\n",
       "0.6773810854659394 [8^ 6] +\n",
       "0.007014546015985034 [8^ 6^ 0 0] +\n",
       "0.010027675932542201 [8^ 6^ 0 4] +\n",
       "0.015898059609437215 [8^ 6^ 2 2] +\n",
       "0.007838889207214268 [8^ 6^ 4 0] +\n",
       "0.011228143505626885 [8^ 6^ 4 4] +\n",
       "-0.0022225697071327167 [8^ 6^ 6 6] +\n",
       "0.5682148133909836 [8^ 6^ 6 8] +\n",
       "0.03506243267461639 [8^ 6^ 8 6] +\n",
       "-0.22104561842799167 [8^ 6^ 8 8] +\n",
       "0.007014546015985034 [8^ 7^ 1 0] +\n",
       "0.010027675932542201 [8^ 7^ 1 4] +\n",
       "0.015898059609437215 [8^ 7^ 3 2] +\n",
       "0.007838889207214268 [8^ 7^ 5 0] +\n",
       "0.011228143505626885 [8^ 7^ 5 4] +\n",
       "-0.0022225697071327167 [8^ 7^ 7 6] +\n",
       "0.5682148133909836 [8^ 7^ 7 8] +\n",
       "0.03506243267461639 [8^ 7^ 9 6] +\n",
       "-0.22104561842799167 [8^ 7^ 9 8] +\n",
       "-32.676117482910215 [8^ 8] +\n",
       "0.005436126053324211 [8^ 8^ 0 0] +\n",
       "0.007454665289592791 [8^ 8^ 0 4] +\n",
       "0.01277310509746327 [8^ 8^ 2 2] +\n",
       "0.007454665289592793 [8^ 8^ 4 0] +\n",
       "0.010425249977831773 [8^ 8^ 4 4] +\n",
       "0.03506243267461639 [8^ 8^ 6 6] +\n",
       "-0.22104561842799167 [8^ 8^ 6 8] +\n",
       "-0.22104561842799145 [8^ 8^ 8 6] +\n",
       "2.3740371660778172 [8^ 8^ 8 8] +\n",
       "0.005436126053324211 [8^ 9^ 1 0] +\n",
       "0.007454665289592791 [8^ 9^ 1 4] +\n",
       "0.01277310509746327 [8^ 9^ 3 2] +\n",
       "0.007454665289592793 [8^ 9^ 5 0] +\n",
       "0.010425249977831773 [8^ 9^ 5 4] +\n",
       "0.03506243267461639 [8^ 9^ 7 6] +\n",
       "-0.22104561842799167 [8^ 9^ 7 8] +\n",
       "-0.22104561842799145 [8^ 9^ 9 6] +\n",
       "2.3740371660778172 [8^ 9^ 9 8] +\n",
       "-0.0046474959085087905 [9^ 0^ 0 7] +\n",
       "0.40225490227016447 [9^ 0^ 0 9] +\n",
       "-0.00255747257218897 [9^ 0^ 4 7] +\n",
       "0.18104886389291736 [9^ 0^ 4 9] +\n",
       "0.007014546015985034 [9^ 0^ 6 1] +\n",
       "0.010027675932542201 [9^ 0^ 6 5] +\n",
       "0.005436126053324211 [9^ 0^ 8 1] +\n",
       "0.007454665289592791 [9^ 0^ 8 5] +\n",
       "-0.0046474959085087905 [9^ 1^ 1 7] +\n",
       "0.40225490227016447 [9^ 1^ 1 9] +\n",
       "-0.00255747257218897 [9^ 1^ 5 7] +\n",
       "0.18104886389291736 [9^ 1^ 5 9] +\n",
       "0.007014546015985034 [9^ 1^ 7 1] +\n",
       "0.010027675932542201 [9^ 1^ 7 5] +\n",
       "0.005436126053324211 [9^ 1^ 9 1] +\n",
       "0.007454665289592791 [9^ 1^ 9 5] +\n",
       "-0.006810183238146748 [9^ 2^ 2 7] +\n",
       "0.5575032673857462 [9^ 2^ 2 9] +\n",
       "0.015898059609437215 [9^ 2^ 6 3] +\n",
       "0.01277310509746327 [9^ 2^ 8 3] +\n",
       "-0.006810183238146748 [9^ 3^ 3 7] +\n",
       "0.5575032673857462 [9^ 3^ 3 9] +\n",
       "0.015898059609437215 [9^ 3^ 7 3] +\n",
       "0.01277310509746327 [9^ 3^ 9 3] +\n",
       "-0.00255747257218897 [9^ 4^ 0 7] +\n",
       "0.18104886389291736 [9^ 4^ 0 9] +\n",
       "-0.005352397701270448 [9^ 4^ 4 7] +\n",
       "0.4290753875527409 [9^ 4^ 4 9] +\n",
       "0.007838889207214268 [9^ 4^ 6 1] +\n",
       "0.011228143505626885 [9^ 4^ 6 5] +\n",
       "0.007454665289592793 [9^ 4^ 8 1] +\n",
       "0.010425249977831773 [9^ 4^ 8 5] +\n",
       "-0.00255747257218897 [9^ 5^ 1 7] +\n",
       "0.18104886389291736 [9^ 5^ 1 9] +\n",
       "-0.005352397701270448 [9^ 5^ 5 7] +\n",
       "0.4290753875527409 [9^ 5^ 5 9] +\n",
       "0.007838889207214268 [9^ 5^ 7 1] +\n",
       "0.011228143505626885 [9^ 5^ 7 5] +\n",
       "0.007454665289592793 [9^ 5^ 9 1] +\n",
       "0.010425249977831773 [9^ 5^ 9 5] +\n",
       "0.007014546015985034 [9^ 6^ 0 1] +\n",
       "0.010027675932542201 [9^ 6^ 0 5] +\n",
       "0.015898059609437215 [9^ 6^ 2 3] +\n",
       "0.007838889207214268 [9^ 6^ 4 1] +\n",
       "0.011228143505626885 [9^ 6^ 4 5] +\n",
       "-0.0022225697071327167 [9^ 6^ 6 7] +\n",
       "0.5682148133909836 [9^ 6^ 6 9] +\n",
       "0.03506243267461639 [9^ 6^ 8 7] +\n",
       "-0.22104561842799167 [9^ 6^ 8 9] +\n",
       "0.6773810854659394 [9^ 7] +\n",
       "0.007014546015985034 [9^ 7^ 1 1] +\n",
       "0.010027675932542201 [9^ 7^ 1 5] +\n",
       "0.015898059609437215 [9^ 7^ 3 3] +\n",
       "0.007838889207214268 [9^ 7^ 5 1] +\n",
       "0.011228143505626885 [9^ 7^ 5 5] +\n",
       "-0.0022225697071327167 [9^ 7^ 7 7] +\n",
       "0.5682148133909836 [9^ 7^ 7 9] +\n",
       "0.03506243267461639 [9^ 7^ 9 7] +\n",
       "-0.22104561842799167 [9^ 7^ 9 9] +\n",
       "0.005436126053324211 [9^ 8^ 0 1] +\n",
       "0.007454665289592791 [9^ 8^ 0 5] +\n",
       "0.01277310509746327 [9^ 8^ 2 3] +\n",
       "0.007454665289592793 [9^ 8^ 4 1] +\n",
       "0.010425249977831773 [9^ 8^ 4 5] +\n",
       "0.03506243267461639 [9^ 8^ 6 7] +\n",
       "-0.22104561842799167 [9^ 8^ 6 9] +\n",
       "-0.22104561842799145 [9^ 8^ 8 7] +\n",
       "2.3740371660778172 [9^ 8^ 8 9] +\n",
       "-32.676117482910215 [9^ 9] +\n",
       "0.005436126053324211 [9^ 9^ 1 1] +\n",
       "0.007454665289592791 [9^ 9^ 1 5] +\n",
       "0.01277310509746327 [9^ 9^ 3 3] +\n",
       "0.007454665289592793 [9^ 9^ 5 1] +\n",
       "0.010425249977831773 [9^ 9^ 5 5] +\n",
       "0.03506243267461639 [9^ 9^ 7 7] +\n",
       "-0.22104561842799167 [9^ 9^ 7 9] +\n",
       "-0.22104561842799145 [9^ 9^ 9 7] +\n",
       "2.3740371660778172 [9^ 9^ 9 9]"
      ]
     },
     "execution_count": 271,
     "metadata": {},
     "output_type": "execute_result"
    }
   ],
   "source": [
    "H_fermionic = FermionOperator((),  core_constant_new)\n",
    "\n",
    "# one body terms\n",
    "for p in range(one_body_integrals_new.shape[0]):\n",
    "    for q in range(one_body_integrals_new.shape[0]):\n",
    "        \n",
    "        H_fermionic += one_body_integrals_new[p,q] * FermionOperator(((p, 1), (q, 0)))\n",
    "        \n",
    "        # two body terms\n",
    "        for r in range(two_body_integrals_new.shape[0]):\n",
    "            for s in range(two_body_integrals_new.shape[0]):\n",
    "                \n",
    "                ######## physist notation\n",
    "                ## (requires:\n",
    "                ##           two_body_terms = two_body_terms.transpose(0,2,3,1) before loop starts!\n",
    "                ##)\n",
    "#                 H_qubit += 0.5*two_body_terms[p,q,r,s] * FermionOperator(((p, 1), (q, 1), (r,0), (s, 0)))\n",
    "                \n",
    "                ######## chemist notation\n",
    "                H_fermionic += 0.5*two_body_integrals_new[p,q,r,s] * FermionOperator(((p, 1), (r, 1), (s,0), (q, 0)))\n",
    "H_fermionic"
   ]
  },
  {
   "cell_type": "code",
   "execution_count": 272,
   "metadata": {},
   "outputs": [
    {
     "data": {
      "text/plain": [
       "(-50.364200843635174+0j) [] +\n",
       "(-0.007271590339351585+0j) [X0 X1 Y2 Y3] +\n",
       "(-0.03840086992768244+0j) [X0 X1 Y4 Y5] +\n",
       "(-0.018915586055735626+0j) [X0 X1 Y6 Y7] +\n",
       "(-0.0035072730079925177+0j) [X0 X1 Y6 Z7 Z8 Y9] +\n",
       "(-0.0035072730079925177+0j) [X0 X1 X7 X8] +\n",
       "(-0.002718063026662106+0j) [X0 X1 Y8 Y9] +\n",
       "(0.007271590339351585+0j) [X0 Y1 Y2 X3] +\n",
       "(0.03840086992768244+0j) [X0 Y1 Y4 X5] +\n",
       "(0.018915586055735626+0j) [X0 Y1 Y6 X7] +\n",
       "(0.0035072730079925177+0j) [X0 Y1 Y6 Z7 Z8 X9] +\n",
       "(-0.0035072730079925177+0j) [X0 Y1 Y7 X8] +\n",
       "(0.002718063026662106+0j) [X0 Y1 Y8 X9] +\n",
       "(0.005904857193477149+0j) [X0 Z1 X2 X3 Z4 X5] +\n",
       "(0.005904857193477149+0j) [X0 Z1 X2 Y3 Z4 Y5] +\n",
       "(-0.4438900641369011+0j) [X0 Z1 Z2 Z3 X4] +\n",
       "(-0.022194836537450816+0j) [X0 Z1 Z2 Z3 X4 Z5] +\n",
       "(-0.005198180889701611+0j) [X0 Z1 Z2 Z3 X4 X6 Z7 X8] +\n",
       "(-0.0062925742523655785+0j) [X0 Z1 Z2 Z3 X4 Y6 Z7 Y8] +\n",
       "(-0.03721546053493454+0j) [X0 Z1 Z2 Z3 X4 Z6] +\n",
       "(-0.0012787362860944783+0j) [X0 Z1 Z2 Z3 X4 X7 Z8 X9] +\n",
       "(-0.0012787362860944783+0j) [X0 Z1 Z2 Z3 X4 Y7 Z8 Y9] +\n",
       "(-0.05645145621722615+0j) [X0 Z1 Z2 Z3 X4 Z7] +\n",
       "(-0.08679709930166232+0j) [X0 Z1 Z2 Z3 X4 Z8] +\n",
       "(-0.0905244319464587+0j) [X0 Z1 Z2 Z3 X4 Z9] +\n",
       "(0.0010943933626639665+0j) [X0 Z1 Z2 Z3 Y4 Y6 Z7 X8] +\n",
       "(-0.019235995682291614+0j) [X0 Z1 Z2 Z3 Z4 X5 Y6 Y7] +\n",
       "(-0.0050138379662711+0j) [X0 Z1 Z2 Z3 Z4 X5 Y6 Z7 Z8 Y9] +\n",
       "(-0.003919444603607134+0j) [X0 Z1 Z2 Z3 Z4 X5 X7 X8] +\n",
       "(-0.0037273326447963963+0j) [X0 Z1 Z2 Z3 Z4 X5 Y8 Y9] +\n",
       "(0.019235995682291614+0j) [X0 Z1 Z2 Z3 Z4 Y5 Y6 X7] +\n",
       "(0.0050138379662711+0j) [X0 Z1 Z2 Z3 Z4 Y5 Y6 Z7 Z8 X9] +\n",
       "(-0.003919444603607134+0j) [X0 Z1 Z2 Z3 Z4 Y5 Y7 X8] +\n",
       "(0.0037273326447963963+0j) [X0 Z1 Z2 Z3 Z4 Y5 Y8 X9] +\n",
       "(-0.04744680560944044+0j) [X0 Z1 Z2 X4] +\n",
       "(-0.041541948415963294+0j) [X0 Z1 Z3 X4] +\n",
       "(-0.02297565097765835+0j) [X0 Z2 Z3 X4] +\n",
       "(0.007271590339351585+0j) [Y0 X1 X2 Y3] +\n",
       "(0.03840086992768244+0j) [Y0 X1 X4 Y5] +\n",
       "(0.018915586055735626+0j) [Y0 X1 X6 Y7] +\n",
       "(0.0035072730079925177+0j) [Y0 X1 X6 Z7 Z8 Y9] +\n",
       "(-0.0035072730079925177+0j) [Y0 X1 X7 Y8] +\n",
       "(0.002718063026662106+0j) [Y0 X1 X8 Y9] +\n",
       "(-0.007271590339351585+0j) [Y0 Y1 X2 X3] +\n",
       "(-0.03840086992768244+0j) [Y0 Y1 X4 X5] +\n",
       "(-0.018915586055735626+0j) [Y0 Y1 X6 X7] +\n",
       "(-0.0035072730079925177+0j) [Y0 Y1 X6 Z7 Z8 X9] +\n",
       "(-0.0035072730079925177+0j) [Y0 Y1 Y7 Y8] +\n",
       "(-0.002718063026662106+0j) [Y0 Y1 X8 X9] +\n",
       "(0.005904857193477149+0j) [Y0 Z1 Y2 X3 Z4 X5] +\n",
       "(0.005904857193477149+0j) [Y0 Z1 Y2 Y3 Z4 Y5] +\n",
       "(0.0010943933626639665+0j) [Y0 Z1 Z2 Z3 X4 X6 Z7 Y8] +\n",
       "(-0.4438900641369011+0j) [Y0 Z1 Z2 Z3 Y4] +\n",
       "(-0.022194836537450816+0j) [Y0 Z1 Z2 Z3 Y4 Z5] +\n",
       "(-0.0062925742523655785+0j) [Y0 Z1 Z2 Z3 Y4 X6 Z7 X8] +\n",
       "(-0.005198180889701611+0j) [Y0 Z1 Z2 Z3 Y4 Y6 Z7 Y8] +\n",
       "(-0.03721546053493454+0j) [Y0 Z1 Z2 Z3 Y4 Z6] +\n",
       "(-0.0012787362860944783+0j) [Y0 Z1 Z2 Z3 Y4 X7 Z8 X9] +\n",
       "(-0.0012787362860944783+0j) [Y0 Z1 Z2 Z3 Y4 Y7 Z8 Y9] +\n",
       "(-0.05645145621722615+0j) [Y0 Z1 Z2 Z3 Y4 Z7] +\n",
       "(-0.08679709930166232+0j) [Y0 Z1 Z2 Z3 Y4 Z8] +\n",
       "(-0.0905244319464587+0j) [Y0 Z1 Z2 Z3 Y4 Z9] +\n",
       "(0.019235995682291614+0j) [Y0 Z1 Z2 Z3 Z4 X5 X6 Y7] +\n",
       "(0.0050138379662711+0j) [Y0 Z1 Z2 Z3 Z4 X5 X6 Z7 Z8 Y9] +\n",
       "(-0.003919444603607134+0j) [Y0 Z1 Z2 Z3 Z4 X5 X7 Y8] +\n",
       "(0.0037273326447963963+0j) [Y0 Z1 Z2 Z3 Z4 X5 X8 Y9] +\n",
       "(-0.019235995682291614+0j) [Y0 Z1 Z2 Z3 Z4 Y5 X6 X7] +\n",
       "(-0.0050138379662711+0j) [Y0 Z1 Z2 Z3 Z4 Y5 X6 Z7 Z8 X9] +\n",
       "(-0.003919444603607134+0j) [Y0 Z1 Z2 Z3 Z4 Y5 Y7 Y8] +\n",
       "(-0.0037273326447963963+0j) [Y0 Z1 Z2 Z3 Z4 Y5 X8 X9] +\n",
       "(-0.04744680560944044+0j) [Y0 Z1 Z2 Y4] +\n",
       "(-0.041541948415963294+0j) [Y0 Z1 Z3 Y4] +\n",
       "(-0.02297565097765835+0j) [Y0 Z2 Z3 Y4] +\n",
       "(1.7642628834360201+0j) [Z0] +\n",
       "(-0.02297565097765835+0j) [Z0 X1 Z2 Z3 Z4 X5] +\n",
       "(-0.02297565097765835+0j) [Z0 Y1 Z2 Z3 Z4 Y5] +\n",
       "(0.15860575457139345+0j) [Z0 Z1] +\n",
       "(0.15048961073593925+0j) [Z0 Z2] +\n",
       "(0.15776120107529085+0j) [Z0 Z3] +\n",
       "(0.11395523789249086+0j) [Z0 Z4] +\n",
       "(0.15235610782017328+0j) [Z0 Z5] +\n",
       "(0.005831020962246915+0j) [Z0 X6 Z7 X8] +\n",
       "(0.005831020962246915+0j) [Z0 Y6 Z7 Y8] +\n",
       "(0.13545785871078747+0j) [Z0 Z6] +\n",
       "(0.002323747954254398+0j) [Z0 X7 Z8 X9] +\n",
       "(0.002323747954254398+0j) [Z0 Y7 Z8 Y9] +\n",
       "(0.1543734447665231+0j) [Z0 Z7] +\n",
       "(0.19840938810842013+0j) [Z0 Z8] +\n",
       "(0.20112745113508224+0j) [Z0 Z9] +\n",
       "(-0.005904857193477149+0j) [X1 X2 Y3 Y4] +\n",
       "(0.005904857193477149+0j) [X1 Y2 Y3 X4] +\n",
       "(-0.019235995682291614+0j) [X1 Z2 Z3 X4 X6 X7] +\n",
       "(-0.003919444603607134+0j) [X1 Z2 Z3 X4 X6 Z7 Z8 X9] +\n",
       "(-0.0050138379662711+0j) [X1 Z2 Z3 X4 Y7 Y8] +\n",
       "(-0.0037273326447963963+0j) [X1 Z2 Z3 X4 X8 X9] +\n",
       "(-0.019235995682291614+0j) [X1 Z2 Z3 Y4 Y6 X7] +\n",
       "(-0.003919444603607134+0j) [X1 Z2 Z3 Y4 Y6 Z7 Z8 X9] +\n",
       "(0.0050138379662711+0j) [X1 Z2 Z3 Y4 Y7 X8] +\n",
       "(-0.0037273326447963963+0j) [X1 Z2 Z3 Y4 Y8 X9] +\n",
       "(-0.4438900641369012+0j) [X1 Z2 Z3 Z4 X5] +\n",
       "(-0.0012787362860944783+0j) [X1 Z2 Z3 Z4 X5 X6 Z7 X8] +\n",
       "(-0.0012787362860944783+0j) [X1 Z2 Z3 Z4 X5 Y6 Z7 Y8] +\n",
       "(-0.05645145621722615+0j) [X1 Z2 Z3 Z4 X5 Z6] +\n",
       "(-0.005198180889701611+0j) [X1 Z2 Z3 Z4 X5 X7 Z8 X9] +\n",
       "(-0.0062925742523655785+0j) [X1 Z2 Z3 Z4 X5 Y7 Z8 Y9] +\n",
       "(-0.03721546053493454+0j) [X1 Z2 Z3 Z4 X5 Z7] +\n",
       "(-0.0905244319464587+0j) [X1 Z2 Z3 Z4 X5 Z8] +\n",
       "(-0.08679709930166232+0j) [X1 Z2 Z3 Z4 X5 Z9] +\n",
       "(0.0010943933626639665+0j) [X1 Z2 Z3 Z4 Y5 Y7 Z8 X9] +\n",
       "(-0.022194836537450816+0j) [X1 Z2 Z3 X5] +\n",
       "(-0.041541948415963294+0j) [X1 Z2 Z4 X5] +\n",
       "(-0.04744680560944044+0j) [X1 Z3 Z4 X5] +\n",
       "(0.005904857193477149+0j) [Y1 X2 X3 Y4] +\n",
       "(-0.005904857193477149+0j) [Y1 Y2 X3 X4] +\n",
       "(-0.019235995682291614+0j) [Y1 Z2 Z3 X4 X6 Y7] +\n",
       "(-0.003919444603607134+0j) [Y1 Z2 Z3 X4 X6 Z7 Z8 Y9] +\n",
       "(0.0050138379662711+0j) [Y1 Z2 Z3 X4 X7 Y8] +\n",
       "(-0.0037273326447963963+0j) [Y1 Z2 Z3 X4 X8 Y9] +\n",
       "(-0.019235995682291614+0j) [Y1 Z2 Z3 Y4 Y6 Y7] +\n",
       "(-0.003919444603607134+0j) [Y1 Z2 Z3 Y4 Y6 Z7 Z8 Y9] +\n",
       "(-0.0050138379662711+0j) [Y1 Z2 Z3 Y4 X7 X8] +\n",
       "(-0.0037273326447963963+0j) [Y1 Z2 Z3 Y4 Y8 Y9] +\n",
       "(0.0010943933626639665+0j) [Y1 Z2 Z3 Z4 X5 X7 Z8 Y9] +\n",
       "(-0.4438900641369012+0j) [Y1 Z2 Z3 Z4 Y5] +\n",
       "(-0.0012787362860944783+0j) [Y1 Z2 Z3 Z4 Y5 X6 Z7 X8] +\n",
       "(-0.0012787362860944783+0j) [Y1 Z2 Z3 Z4 Y5 Y6 Z7 Y8] +\n",
       "(-0.05645145621722615+0j) [Y1 Z2 Z3 Z4 Y5 Z6] +\n",
       "(-0.0062925742523655785+0j) [Y1 Z2 Z3 Z4 Y5 X7 Z8 X9] +\n",
       "(-0.005198180889701611+0j) [Y1 Z2 Z3 Z4 Y5 Y7 Z8 Y9] +\n",
       "(-0.03721546053493454+0j) [Y1 Z2 Z3 Z4 Y5 Z7] +\n",
       "(-0.0905244319464587+0j) [Y1 Z2 Z3 Z4 Y5 Z8] +\n",
       "(-0.08679709930166232+0j) [Y1 Z2 Z3 Z4 Y5 Z9] +\n",
       "(-0.022194836537450816+0j) [Y1 Z2 Z3 Y5] +\n",
       "(-0.041541948415963294+0j) [Y1 Z2 Z4 Y5] +\n",
       "(-0.04744680560944044+0j) [Y1 Z3 Z4 Y5] +\n",
       "(1.7642628834360201+0j) [Z1] +\n",
       "(0.15776120107529085+0j) [Z1 Z2] +\n",
       "(0.15048961073593925+0j) [Z1 Z3] +\n",
       "(0.15235610782017328+0j) [Z1 Z4] +\n",
       "(0.11395523789249086+0j) [Z1 Z5] +\n",
       "(0.002323747954254398+0j) [Z1 X6 Z7 X8] +\n",
       "(0.002323747954254398+0j) [Z1 Y6 Z7 Y8] +\n",
       "(0.1543734447665231+0j) [Z1 Z6] +\n",
       "(0.005831020962246915+0j) [Z1 X7 Z8 X9] +\n",
       "(0.005831020962246915+0j) [Z1 Y7 Z8 Y9] +\n",
       "(0.13545785871078747+0j) [Z1 Z7] +\n",
       "(0.20112745113508224+0j) [Z1 Z8] +\n",
       "(0.19840938810842013+0j) [Z1 Z9] +\n",
       "(-0.005968964703291022+0j) [X2 X3 Y4 Y5] +\n",
       "(-0.03691084536557063+0j) [X2 X3 Y6 Y7] +\n",
       "(-0.007949029804718608+0j) [X2 X3 Y6 Z7 Z8 Y9] +\n",
       "(-0.007949029804718608+0j) [X2 X3 X7 X8] +\n",
       "(-0.006386552548731634+0j) [X2 X3 Y8 Y9] +\n",
       "(0.005968964703291022+0j) [X2 Y3 Y4 X5] +\n",
       "(0.03691084536557063+0j) [X2 Y3 Y6 X7] +\n",
       "(0.007949029804718608+0j) [X2 Y3 Y6 Z7 Z8 X9] +\n",
       "(-0.007949029804718608+0j) [X2 Y3 Y7 X8] +\n",
       "(0.006386552548731634+0j) [X2 Y3 Y8 X9] +\n",
       "(0.005968964703291022+0j) [Y2 X3 X4 Y5] +\n",
       "(0.03691084536557063+0j) [Y2 X3 X6 Y7] +\n",
       "(0.007949029804718608+0j) [Y2 X3 X6 Z7 Z8 Y9] +\n",
       "(-0.007949029804718608+0j) [Y2 X3 X7 Y8] +\n",
       "(0.006386552548731634+0j) [Y2 X3 X8 Y9] +\n",
       "(-0.005968964703291022+0j) [Y2 Y3 X4 X5] +\n",
       "(-0.03691084536557063+0j) [Y2 Y3 X6 X7] +\n",
       "(-0.007949029804718608+0j) [Y2 Y3 X6 Z7 Z8 X9] +\n",
       "(-0.007949029804718608+0j) [Y2 Y3 Y7 Y8] +\n",
       "(-0.006386552548731634+0j) [Y2 Y3 X8 X9] +\n",
       "(1.975264250110759+0j) [Z2] +\n",
       "(0.2200397733437609+0j) [Z2 Z3] +\n",
       "(0.1490386812353532+0j) [Z2 Z4] +\n",
       "(0.1550076459386442+0j) [Z2 Z5] +\n",
       "(0.011354121423791975+0j) [Z2 X6 Z7 X8] +\n",
       "(0.011354121423791975+0j) [Z2 Y6 Z7 Y8] +\n",
       "(0.16497136671959461+0j) [Z2 Z6] +\n",
       "(0.003405091619073367+0j) [Z2 X7 Z8 X9] +\n",
       "(0.003405091619073367+0j) [Z2 Y7 Z8 Y9] +\n",
       "(0.2018822120851652+0j) [Z2 Z7] +\n",
       "(0.2723650811441415+0j) [Z2 Z8] +\n",
       "(0.27875163369287315+0j) [Z2 Z9] +\n",
       "(1.975264250110758+0j) [Z3] +\n",
       "(0.1550076459386442+0j) [Z3 Z4] +\n",
       "(0.1490386812353532+0j) [Z3 Z5] +\n",
       "(0.003405091619073367+0j) [Z3 X6 Z7 X8] +\n",
       "(0.003405091619073367+0j) [Z3 Y6 Z7 Y8] +\n",
       "(0.2018822120851652+0j) [Z3 Z6] +\n",
       "(0.011354121423791975+0j) [Z3 X7 Z8 X9] +\n",
       "(0.011354121423791975+0j) [Z3 Y7 Z8 Y9] +\n",
       "(0.16497136671959461+0j) [Z3 Z7] +\n",
       "(0.27875163369287315+0j) [Z3 Z8] +\n",
       "(0.2723650811441415+0j) [Z3 Z9] +\n",
       "(-0.020533263306207115+0j) [X4 X5 Y6 Y7] +\n",
       "(-0.005614071752813443+0j) [X4 X5 Y6 Z7 Z8 Y9] +\n",
       "(-0.005614071752813443+0j) [X4 X5 X7 X8] +\n",
       "(-0.005212624988915887+0j) [X4 X5 Y8 Y9] +\n",
       "(0.020533263306207115+0j) [X4 Y5 Y6 X7] +\n",
       "(0.005614071752813443+0j) [X4 Y5 Y6 Z7 Z8 X9] +\n",
       "(-0.005614071752813443+0j) [X4 Y5 Y7 X8] +\n",
       "(0.005212624988915887+0j) [X4 Y5 Y8 X9] +\n",
       "(0.020533263306207115+0j) [Y4 X5 X6 Y7] +\n",
       "(0.005614071752813443+0j) [Y4 X5 X6 Z7 Z8 Y9] +\n",
       "(-0.005614071752813443+0j) [Y4 X5 X7 Y8] +\n",
       "(0.005212624988915887+0j) [Y4 X5 X8 Y9] +\n",
       "(-0.020533263306207115+0j) [Y4 Y5 X6 X7] +\n",
       "(-0.005614071752813443+0j) [Y4 Y5 X6 Z7 Z8 X9] +\n",
       "(-0.005614071752813443+0j) [Y4 Y5 Y7 Y8] +\n",
       "(-0.005212624988915887+0j) [Y4 Y5 X8 X9] +\n",
       "(1.3435813162106929+0j) [Z4] +\n",
       "(0.1537202744114181+0j) [Z4 Z5] +\n",
       "(0.008290270603448639+0j) [Z4 X6 Z7 X8] +\n",
       "(0.008290270603448639+0j) [Z4 Y6 Z7 Y8] +\n",
       "(0.13556153255375242+0j) [Z4 Z6] +\n",
       "(0.0026761988506351963+0j) [Z4 X7 Z8 X9] +\n",
       "(0.0026761988506351963+0j) [Z4 Y7 Z8 Y9] +\n",
       "(0.15609479585995956+0j) [Z4 Z7] +\n",
       "(0.20932506878745455+0j) [Z4 Z8] +\n",
       "(0.21453769377637044+0j) [Z4 Z9] +\n",
       "(1.343581316210693+0j) [Z5] +\n",
       "(0.0026761988506351963+0j) [Z5 X6 Z7 X8] +\n",
       "(0.0026761988506351963+0j) [Z5 Y6 Z7 Y8] +\n",
       "(0.15609479585995956+0j) [Z5 Z6] +\n",
       "(0.008290270603448639+0j) [Z5 X7 Z8 X9] +\n",
       "(0.008290270603448639+0j) [Z5 Y7 Z8 Y9] +\n",
       "(0.13556153255375242+0j) [Z5 Z7] +\n",
       "(0.21453769377637044+0j) [Z5 Z8] +\n",
       "(0.20932506878745455+0j) [Z5 Z9] +\n",
       "(-0.017531216337308194+0j) [X6 X7 Y8 Y9] +\n",
       "(0.017531216337308194+0j) [X6 Y7 Y8 X9] +\n",
       "(0.19317599725195758+0j) [X6 Z7 X8] +\n",
       "(0.11052280921399578+0j) [X6 Z7 X8 Z9] +\n",
       "(0.0011112848535663742+0j) [X6 X8] +\n",
       "(0.017531216337308194+0j) [Y6 X7 X8 Y9] +\n",
       "(-0.017531216337308194+0j) [Y6 Y7 X8 X9] +\n",
       "(0.19317599725195758+0j) [Y6 Z7 Y8] +\n",
       "(0.11052280921399578+0j) [Y6 Z7 Y8 Z9] +\n",
       "(0.0011112848535663742+0j) [Y6 Y8] +\n",
       "(2.144069351295971+0j) [Z6] +\n",
       "(0.0011112848535663742+0j) [Z6 X7 Z8 X9] +\n",
       "(0.0011112848535663742+0j) [Z6 Y7 Z8 Y9] +\n",
       "(0.23448114854305993+0j) [Z6 Z7] +\n",
       "(0.2665761903581837+0j) [Z6 Z8] +\n",
       "(0.2841074066954919+0j) [Z6 Z9] +\n",
       "(0.19317599725195755+0j) [X7 Z8 X9] +\n",
       "(0.11052280921399578+0j) [X7 X9] +\n",
       "(0.19317599725195755+0j) [Y7 Z8 Y9] +\n",
       "(0.11052280921399578+0j) [Y7 Y9] +\n",
       "(2.144069351295971+0j) [Z7] +\n",
       "(0.2841074066954919+0j) [Z7 Z8] +\n",
       "(0.2665761903581837+0j) [Z7 Z9] +\n",
       "(13.22584024471818+0j) [Z8] +\n",
       "(1.1870185830389086+0j) [Z8 Z9] +\n",
       "(13.22584024471818+0j) [Z9]"
      ]
     },
     "execution_count": 272,
     "metadata": {},
     "output_type": "execute_result"
    }
   ],
   "source": [
    "H_qubit_JW = jordan_wigner(H_fermionic)\n",
    "H_qubit_JW"
   ]
  },
  {
   "cell_type": "code",
   "execution_count": 273,
   "metadata": {},
   "outputs": [
    {
     "data": {
      "text/plain": [
       "252"
      ]
     },
     "execution_count": 273,
     "metadata": {},
     "output_type": "execute_result"
    }
   ],
   "source": [
    "len(list(H_qubit_JW))"
   ]
  },
  {
   "cell_type": "code",
   "execution_count": 274,
   "metadata": {},
   "outputs": [
    {
     "data": {
      "text/plain": [
       "-82.0109085172377"
      ]
     },
     "execution_count": 274,
     "metadata": {},
     "output_type": "execute_result"
    }
   ],
   "source": [
    "H_JW_mat = get_sparse_operator(H_qubit_JW)\n",
    "eigvals_EMBED, eigvecs_EMBED = sp.sparse.linalg.eigsh(H_JW_mat, which='SA', k=1)\n",
    "eigvals_EMBED[0]"
   ]
  },
  {
   "cell_type": "code",
   "execution_count": 275,
   "metadata": {},
   "outputs": [
    {
     "data": {
      "text/plain": [
       "-133.75894438639298"
      ]
     },
     "execution_count": 275,
     "metadata": {},
     "output_type": "execute_result"
    }
   ],
   "source": [
    "E_high_lvl_DFT = eigvals_EMBED[0] + E_env + two_e_cross  + correction\n",
    "E_high_lvl_DFT # <-- energy from embedded DFT calc"
   ]
  },
  {
   "cell_type": "code",
   "execution_count": null,
   "metadata": {},
   "outputs": [],
   "source": []
  },
  {
   "cell_type": "code",
   "execution_count": null,
   "metadata": {},
   "outputs": [],
   "source": []
  },
  {
   "cell_type": "markdown",
   "metadata": {},
   "source": [
    "# define ansatz from HF ground state using coupled cluster!\n",
    "\n",
    "limiting to correct number of electrons"
   ]
  },
  {
   "cell_type": "code",
   "execution_count": null,
   "metadata": {},
   "outputs": [],
   "source": [
    "def Get_ia_terms(n_electrons, n_orbitals, single_cc_amplitudes=None,  singles_hamiltonian=None,\n",
    "                               tol_filter_small_terms = None):\n",
    "    \"\"\"\n",
    "\n",
    "    Get ia excitation terms as fermionic creation and annihilation operators for UCCSD.\n",
    "    ia terms are standard single excitation terms (aka only occupied -> unoccupied transitions allowed)\n",
    "    (faster and only marginally less accurate.)\n",
    "    #TODO can add method to get pqrs terms\n",
    "    #TODO these are all non-degenerate excitations which can possibly non-zero, including nocc->nocc, occ->occ, and spin-flips.\n",
    "    #TODO EXPENSIVE, but will likely  get a slightly better answer.\n",
    "\n",
    "    Args:\n",
    "        n_electrons (int): number of electrons\n",
    "        n_orbitals (int): number of orbitals\n",
    "        singles_hamiltonian (numpy.ndarray, optional): h_pq (n_qubits x n_qubits) matrix.\n",
    "        tol_filter_small_terms (bool, optional):  Whether to filter small terms in Hamiltonian (threshold currently hardcoded)\n",
    "        single_cc_amplitudes (numpy.ndarray, optional): A 2-dimension array t[a,i] for CCSD single excitation amplitudes\n",
    "                                where a is virtual index and i is occupied index\n",
    "\n",
    "    returns:\n",
    "        Sec_Quant_CC_ia_ops (list): list of FermionOperators (openfermion.ops._fermion_operator.FermionOperator)\n",
    "        theta_parameters (list): list of theta values (parameterisation of excitation amplitudes)\n",
    "\n",
    "     e.g.:\n",
    "\n",
    "     n_electrons=2\n",
    "     n_orbitals=4\n",
    "     Sec_Quant_CC_ops, theta_parameters = Get_ia_terms(n_electrons, n_orbitals)\n",
    "\n",
    "     Sec_Quant_CC_ops=  [\n",
    "                         -1.0[0 ^ 2] + 1.0[2 ^ 0],            # -(a†0 a2) + (a†2 a0)\n",
    "                         -1.0[1 ^ 3] + 1.0[3 ^ 1],            # -(a†1 a3) + (a†3 a1)\n",
    "                        ]\n",
    "    theta_parameters = [0,0,0]\n",
    "\n",
    "    \"\"\"\n",
    "\n",
    "    Sec_Quant_CC_ia_ops = []  # second quantised single e- CC operators\n",
    "    theta_parameters_ia = []\n",
    "\n",
    "    # single_amplitudes and double_amplitudes from Get_CCSD_Amplitudes Hamiltonian function!\n",
    "    orbitals_index = range(0, n_orbitals)\n",
    "\n",
    "    alph_occs = [k for k in orbitals_index if k % 2 == 0 and k < n_electrons]  # spin up occupied\n",
    "    beta_occs = [k for k in orbitals_index if k % 2 == 1 and k < n_electrons]  # spin down UN-occupied\n",
    "    alph_noccs = [k for k in orbitals_index if k % 2 == 0 and k >= n_electrons]  # spin down occupied\n",
    "    beta_noccs = [k for k in orbitals_index if k % 2 == 1 and k >= n_electrons]  # spin up UN-occupied\n",
    "\n",
    "\n",
    "    # SINGLE electron excitation: spin UP transition\n",
    "    for i in alph_occs:\n",
    "        for a in alph_noccs:\n",
    "            if tol_filter_small_terms:\n",
    "                if abs(singles_hamiltonian[i][a]) > tol_filter_small_terms or abs(\n",
    "                        singles_hamiltonian[a][i]) > tol_filter_small_terms:\n",
    "                    one_elec = FermionOperator(((a, 1), (i, 0))) - FermionOperator(((i, 1), (a, 0)))\n",
    "                    if single_cc_amplitudes is not None:\n",
    "                        theta_parameters_ia.append(single_cc_amplitudes[a][i])\n",
    "                    else:\n",
    "                        theta_parameters_ia.append(0)\n",
    "\n",
    "                    Sec_Quant_CC_ia_ops.append(one_elec)\n",
    "            else:\n",
    "                # NO filtering\n",
    "                one_elec = FermionOperator(((a, 1), (i, 0))) - FermionOperator(((i, 1), (a, 0)))\n",
    "                if single_cc_amplitudes is not None:\n",
    "                    theta_parameters_ia.append(single_cc_amplitudes[a][i])\n",
    "                else:\n",
    "                    theta_parameters_ia.append(0)\n",
    "\n",
    "                Sec_Quant_CC_ia_ops.append(one_elec)\n",
    "\n",
    "    # SINGLE electron excitation: spin DOWN transition\n",
    "    for i in beta_occs:\n",
    "        for a in beta_noccs:\n",
    "            if tol_filter_small_terms:\n",
    "                # uses Hamiltonian to ignore small terms!\n",
    "                if abs(singles_hamiltonian[i][a]) > tol_filter_small_terms or abs(\n",
    "                        singles_hamiltonian[a][i]) > tol_filter_small_terms:\n",
    "                    one_elec = FermionOperator(((a, 1), (i, 0))) - FermionOperator(((i, 1), (a, 0)))\n",
    "                    if single_cc_amplitudes is not None:\n",
    "                        theta_parameters_ia.append(single_cc_amplitudes[a][i])\n",
    "                    else:\n",
    "                        theta_parameters_ia.append(0)\n",
    "\n",
    "                    Sec_Quant_CC_ia_ops.append(one_elec)\n",
    "            else:\n",
    "                # NO filtering\n",
    "                one_elec = FermionOperator(((a, 1), (i, 0))) - FermionOperator(((i, 1), (a, 0)))\n",
    "                if single_cc_amplitudes is not None:\n",
    "                    theta_parameters_ia.append(single_cc_amplitudes[a][i])\n",
    "                else:\n",
    "                    theta_parameters_ia.append(0)\n",
    "\n",
    "                Sec_Quant_CC_ia_ops.append(one_elec)\n",
    "\n",
    "    return Sec_Quant_CC_ia_ops, theta_parameters_ia\n",
    "\n",
    "\n",
    "def Get_ijab_terms(n_electrons, n_orbitals, double_cc_amplitudes=None, doubles_hamiltonian=None,\n",
    "                 tol_filter_small_terms=None):\n",
    "    \"\"\"\n",
    "\n",
    "    Get ijab excitation terms as fermionic creation and annihilation operators for UCCSD.\n",
    "    ijab terms are standard double excitation terms (aka only occupied -> unoccupied transitions allowed)\n",
    "    (faster and only marginally less accurate.)\n",
    "    #TODO can add method to get pqrs terms\n",
    "    #TODO these are all non-degenerate excitations which can possibly non-zero, including nocc->nocc, occ->occ, and spin-flips.\n",
    "    #TODO EXPENSIVE, but will likely  get a slightly better answer.\n",
    "\n",
    "    Args:\n",
    "        n_electrons (int): number of electrons\n",
    "        n_orbitals (int): number of orbitals\n",
    "        doubles_hamiltonian (numpy.ndarray, optional): h_pqrs (n_qubits x n_qubits x n_qubits x n_qubits) matrix\n",
    "        tol_filter_small_terms (bool, optional):  Whether to filter small terms in Hamiltonian (threshold currently hardcoded)\n",
    "        double_cc_amplitudes (numpy.ndarray, optional): A 4-dimension array t[a,i,b,j] for CCSD double excitation amplitudes\n",
    "                                                        where a, b are virtual indices and i, j are occupied indices.\n",
    "\n",
    "    returns:\n",
    "        Sec_Quant_CC_ijab_ops (list): list of FermionOperators (openfermion.ops._fermion_operator.FermionOperator)\n",
    "        theta_parameters (list): list of theta values (parameterisation of excitation amplitudes)\n",
    "\n",
    "     e.g.:\n",
    "\n",
    "     n_electrons=2\n",
    "     n_orbitals=4\n",
    "     Sec_Quant_CC_ops, theta_parameters = Get_ijab_terms(n_electrons, n_orbitals)\n",
    "\n",
    "     Sec_Quant_CC_ops=  [\n",
    "                            -1.0[0 ^ 1 ^ 2 3] + 1.0 [3^ 2^ 1 0]  # -(a†0 a†1 a2 a3) + a†3 a†2 a1 a0)\n",
    "                        ]\n",
    "    theta_parameters = [0]\n",
    "    \"\"\"\n",
    "\n",
    "\n",
    "    # single_amplitudes and double_amplitudes from Get_CCSD_Amplitudes Hamiltonian function!\n",
    "    orbitals_index = range(0, n_orbitals)\n",
    "\n",
    "    alph_occs = [k for k in orbitals_index if k % 2 == 0 and k < n_electrons]  # spin up occupied\n",
    "    beta_occs = [k for k in orbitals_index if k % 2 == 1 and k < n_electrons]  # spin down UN-occupied\n",
    "    alph_noccs = [k for k in orbitals_index if k % 2 == 0 and k >= n_electrons]  # spin down occupied\n",
    "    beta_noccs = [k for k in orbitals_index if k % 2 == 1 and k >= n_electrons]  # spin up UN-occupied\n",
    "\n",
    "    Sec_Quant_CC_ijab_ops = []  # second quantised two e- CC operators\n",
    "    theta_parameters_ijab = []\n",
    "\n",
    "    # DOUBLE excitation: UP + UP\n",
    "    for i in alph_occs:\n",
    "        for j in [k for k in alph_occs if k > i]:\n",
    "            for a in alph_noccs:\n",
    "                for b in [k for k in alph_noccs if k > a]:\n",
    "\n",
    "                    if tol_filter_small_terms:\n",
    "                        # uses Hamiltonian to ignore small terms!\n",
    "                        if abs(doubles_hamiltonian[j][i][a][b]) > tol_filter_small_terms or abs(\n",
    "                                doubles_hamiltonian[b][a][i][j]) > tol_filter_small_terms:\n",
    "                            two_elec = FermionOperator(((b, 1), (a, 1), (j, 0), (i, 0))) - \\\n",
    "                                       FermionOperator(((i, 1), (j, 1), (a, 0), (b, 0)))\n",
    "                            if double_cc_amplitudes is not None:\n",
    "                                theta_parameters_ijab.append(double_cc_amplitudes[a][i][b][j])\n",
    "                            else:\n",
    "                                theta_parameters_ijab.append(0)\n",
    "                        Sec_Quant_CC_ijab_ops.append(two_elec)\n",
    "                    else:\n",
    "                        # NO filtering\n",
    "                        two_elec = FermionOperator(((b, 1), (a, 1), (j, 0), (i, 0))) - \\\n",
    "                                   FermionOperator(((i, 1), (j, 1), (a, 0), (b, 0)))\n",
    "\n",
    "                        if double_cc_amplitudes is not None:\n",
    "                            theta_parameters_ijab.append(double_cc_amplitudes[b][a][j][i])\n",
    "                        else:\n",
    "                            theta_parameters_ijab.append(0)\n",
    "\n",
    "                        Sec_Quant_CC_ijab_ops.append(two_elec)\n",
    "\n",
    "    # DOUBLE excitation: DOWN + DOWN\n",
    "    for i in beta_occs:\n",
    "        for j in [k for k in beta_occs if k > i]:\n",
    "            for a in beta_noccs:\n",
    "                for b in [k for k in beta_noccs if k > a]:\n",
    "\n",
    "                    if tol_filter_small_terms:\n",
    "                        # uses Hamiltonian to ignore small terms!\n",
    "                        if abs(doubles_hamiltonian[j][i][a][b]) > tol_filter_small_terms or abs(\n",
    "                                doubles_hamiltonian[b][a][i][j]) > tol_filter_small_terms:\n",
    "                            two_elec = FermionOperator(((b, 1), (a, 1), (j, 0), (i, 0))) - \\\n",
    "                                       FermionOperator(((i, 1), (j, 1), (a, 0), (b, 0)))\n",
    "                            if double_cc_amplitudes is not None:\n",
    "                                theta_parameters_ijab.append(double_cc_amplitudes[a][i][b][j])\n",
    "                            else:\n",
    "                                theta_parameters_ijab.append(0)\n",
    "                        Sec_Quant_CC_ijab_ops.append(two_elec)\n",
    "                    else:\n",
    "                        # NO filtering\n",
    "                        two_elec = FermionOperator(((b, 1), (a, 1), (j, 0), (i, 0))) - \\\n",
    "                                   FermionOperator(((i, 1), (j, 1), (a, 0), (b, 0)))\n",
    "\n",
    "                        if double_cc_amplitudes is not None:\n",
    "                            theta_parameters_ijab.append(double_cc_amplitudes[a][i][b][j])\n",
    "                        else:\n",
    "                            theta_parameters_ijab.append(0)\n",
    "\n",
    "                        Sec_Quant_CC_ijab_ops.append(two_elec)\n",
    "\n",
    "    # DOUBLE excitation: up + DOWN\n",
    "    for i in alph_occs:\n",
    "        for j in [k for k in beta_occs if k > i]:\n",
    "            for a in alph_noccs:\n",
    "                for b in [k for k in beta_noccs if k > a]:\n",
    "\n",
    "                    if tol_filter_small_terms:\n",
    "                        # uses Hamiltonian to ignore small terms!\n",
    "                        if abs(doubles_hamiltonian[j][i][a][b]) > tol_filter_small_terms or abs(\n",
    "                                doubles_hamiltonian[b][a][i][j]) > tol_filter_small_terms:\n",
    "                            two_elec = FermionOperator(((b, 1), (a, 1), (j, 0), (i, 0))) - \\\n",
    "                                       FermionOperator(((i, 1), (j, 1), (a, 0), (b, 0)))\n",
    "                            if double_cc_amplitudes is not None:\n",
    "                                theta_parameters_ijab.append(double_cc_amplitudes[a][i][b][j])\n",
    "                            else:\n",
    "                                theta_parameters_ijab.append(0)\n",
    "                        Sec_Quant_CC_ijab_ops.append(two_elec)\n",
    "                    else:\n",
    "                        # NO filtering\n",
    "                        two_elec = FermionOperator(((b, 1), (a, 1), (j, 0), (i, 0))) - \\\n",
    "                                   FermionOperator(((i, 1), (j, 1), (a, 0), (b, 0)))\n",
    "\n",
    "                        if double_cc_amplitudes is not None:\n",
    "                            theta_parameters_ijab.append(double_cc_amplitudes[a][i][b][j])\n",
    "                        else:\n",
    "                            theta_parameters_ijab.append(0)\n",
    "\n",
    "                        Sec_Quant_CC_ijab_ops.append(two_elec)\n",
    "\n",
    "    return Sec_Quant_CC_ijab_ops, theta_parameters_ijab\n",
    "\n",
    "\n",
    "def Fermi_ops_to_qubit_ops(List_Fermi_Ops, transformation='JW'):\n",
    "\n",
    "        \"\"\"\n",
    "        Takes list of fermionic excitation operators:\n",
    "\n",
    "                    [\n",
    "                       -(a†0 a2) + (a†2 a0),\n",
    "                       -(a†1 a3) + (a†3 a1),\n",
    "                       -(a†0 a†1 a2 a3) + a†3 a†2 a1 a0)\n",
    "                    ]\n",
    "        and returns JW/BK transform of each term and appends it to a list yielding a list of QubitOperators\n",
    "\n",
    "        [\n",
    "            -0.5j [X0 Z1 Y2] + 0.5j [Y0 Z1 X2],\n",
    "            -0.5j [X1 Z2 Y3] + 0.5j [Y1 Z2 X3],\n",
    "            0.125j [X0 X1 X2 Y3] + 0.125j [X0 X1 Y2 X3] + -0.125j [X0 Y1 X2 X3] + 0.125j [X0 Y1 Y2 Y3] +\n",
    "            -0.125j [Y0 X1 X2 X3] + 0.125j [Y0 X1 Y2 Y3] + -0.125j [Y0 Y1 X2 Y3] + -0.125j [Y0 Y1 Y2 X3]\n",
    "        ]\n",
    "\n",
    "        returns:\n",
    "            List_Qubit_Ops (list): List of QubitOperators (openfermion.ops._qubit_operator.QubitOperator)\n",
    "                                   under JW/BK transform.\n",
    "\n",
    "        \"\"\"\n",
    "\n",
    "        List_Qubit_Ops = []\n",
    "\n",
    "        if transformation == 'JW':\n",
    "            for OP in List_Fermi_Ops:\n",
    "                JW_OP = jordan_wigner(OP)\n",
    "                List_Qubit_Ops.append(JW_OP)\n",
    "\n",
    "        elif transformation == 'BK':\n",
    "            for OP in List_Fermi_Ops:\n",
    "                BK_OP = bravyi_kitaev(OP)\n",
    "                List_Qubit_Ops.append(BK_OP)\n",
    "\n",
    "        else:\n",
    "            raise ValueError('unknown transformation: {}'.format(transformation))\n",
    "\n",
    "        return List_Qubit_Ops\n"
   ]
  },
  {
   "cell_type": "code",
   "execution_count": null,
   "metadata": {},
   "outputs": [],
   "source": [
    "N_electrons = 2*len(active_ao_ind)\n",
    "N_orbs = 2*full_system_mol_HF.nao\n",
    "\n",
    "ia_ferm, theta_ia = Get_ia_terms(N_electrons, N_orbs)\n",
    "\n",
    "ijab_ferm, theta_ijab = Get_ijab_terms(N_electrons, N_orbs)"
   ]
  },
  {
   "cell_type": "code",
   "execution_count": null,
   "metadata": {},
   "outputs": [],
   "source": [
    "ia_qubit_list = Fermi_ops_to_qubit_ops(ia_ferm, transformation='JW')\n",
    "ijab_qubit_list = Fermi_ops_to_qubit_ops(ijab_ferm, transformation='JW')\n",
    "ia_qubit_list"
   ]
  },
  {
   "cell_type": "code",
   "execution_count": null,
   "metadata": {},
   "outputs": [],
   "source": []
  },
  {
   "cell_type": "code",
   "execution_count": null,
   "metadata": {},
   "outputs": [],
   "source": [
    "from openfermion import qubit_operator_sparse\n",
    "from scipy.sparse.linalg import expm\n",
    "\n",
    "def Generate_state(theta_list, HF_state, ia_qubit_ops, ijab_qubit_ops, N_qubits):\n",
    "    \n",
    "    running_state = HF_state\n",
    "    \n",
    "    ind=0\n",
    "    for qubit_op_ia in ia_qubit_ops:\n",
    "        print(ind)\n",
    "        pauli_theta = qubit_operator_sparse(qubit_op_ia, n_qubits=N_qubits) * theta_list[ind]/2\n",
    "        running_state = expm(-1j * pauli_theta) @ running_state\n",
    "        ind+=1\n",
    "        \n",
    "#     for qubit_op_ijab in ijab_qubit_ops:\n",
    "#         pauli_theta = qubit_operator_sparse(qubit_op_ijab, n_qubits=N_qubits) * theta_list[ind]/2\n",
    "#         running_state = expm(-1j * pauli_theta) @ running_state\n",
    "#         ind+=1\n",
    "    \n",
    "    return running_state\n",
    "    "
   ]
  },
  {
   "cell_type": "code",
   "execution_count": null,
   "metadata": {},
   "outputs": [],
   "source": [
    "state = Generate_state([*theta_ia, *theta_ijab],\n",
    "                       HF_state, \n",
    "                       ia_qubit_list,\n",
    "                       ijab_qubit_list,\n",
    "                       2*full_system_mol_HF.nao)"
   ]
  },
  {
   "cell_type": "code",
   "execution_count": null,
   "metadata": {},
   "outputs": [],
   "source": []
  },
  {
   "cell_type": "code",
   "execution_count": null,
   "metadata": {},
   "outputs": [],
   "source": []
  },
  {
   "cell_type": "code",
   "execution_count": null,
   "metadata": {},
   "outputs": [],
   "source": []
  },
  {
   "cell_type": "code",
   "execution_count": null,
   "metadata": {},
   "outputs": [],
   "source": []
  },
  {
   "cell_type": "code",
   "execution_count": null,
   "metadata": {},
   "outputs": [],
   "source": []
  },
  {
   "cell_type": "code",
   "execution_count": null,
   "metadata": {},
   "outputs": [],
   "source": []
  },
  {
   "cell_type": "code",
   "execution_count": null,
   "metadata": {},
   "outputs": [],
   "source": [
    "e_hf_check = EMBEDDED_full_system_scf_HF.energy_tot(dm=density_emb_HF, \n",
    "                                         vhf=EMBEDDED_full_system_scf_HF.get_veff())"
   ]
  },
  {
   "cell_type": "code",
   "execution_count": null,
   "metadata": {},
   "outputs": [],
   "source": [
    "EMBEDDED_full_system_scf_HF.conv_check"
   ]
  },
  {
   "cell_type": "code",
   "execution_count": null,
   "metadata": {},
   "outputs": [],
   "source": [
    "EMBEDDED_occ_orbs_HF = EMBEDDED_full_system_scf_HF.mo_coeff[:,EMBEDDED_full_system_scf_HF.mo_occ>0]\n",
    "\n",
    "# optimized embedded denisty matrix\n",
    "density_emb_HF = 2 * EMBEDDED_occ_orbs_HF @ EMBEDDED_occ_orbs_HF.conj().T\n",
    "\n",
    "## check number of electrons makes sense:\n",
    "np.isclose(np.trace(density_emb_HF@S), 2*len(active_ao_ind))"
   ]
  },
  {
   "cell_type": "code",
   "execution_count": null,
   "metadata": {},
   "outputs": [],
   "source": [
    "e_hf_check = EMBEDDED_full_system_scf_HF.energy_tot(dm=density_emb_HF, \n",
    "                                         vhf=EMBEDDED_full_system_scf_HF.get_veff())\n",
    "e_hf_check"
   ]
  },
  {
   "cell_type": "code",
   "execution_count": null,
   "metadata": {},
   "outputs": [],
   "source": []
  },
  {
   "cell_type": "code",
   "execution_count": null,
   "metadata": {},
   "outputs": [],
   "source": [
    "from pyscf import ao2mo\n",
    "\n",
    "pyscf_mo_ints = ao2mo.kernel(full_system_mol_EMBEDDED, EMBEDDED_full_system_scf_HF.mo_coeff)#, aosym=1)\n",
    "\n",
    "# Convert the 2e integrals (in Chemist’s notation)\n",
    "n_bas_ft = full_system_mol_EMBEDDED.nao\n",
    "pyscf_mo_ints = ao2mo.restore(1, pyscf_mo_ints, n_bas_ft)"
   ]
  },
  {
   "cell_type": "code",
   "execution_count": null,
   "metadata": {},
   "outputs": [],
   "source": [
    "hcore_EMBED_mo =  EMBEDDED_full_system_scf_HF.mo_coeff.conj().T @ EMBEDDED_full_system_scf_HF.get_hcore() @ EMBEDDED_full_system_scf_HF.mo_coeff # <psi H psi> # NOT FOCK"
   ]
  },
  {
   "cell_type": "code",
   "execution_count": null,
   "metadata": {},
   "outputs": [],
   "source": [
    "n_docc = full_system_mol_EMBEDDED_HF.nelectron//2\n",
    "\n",
    "E = 2*np.einsum('ii->', hcore_EMBED_mo[:n_docc, :n_docc], optimize=True)\n",
    "\n",
    "two_J = 2*np.einsum('iijj->', pyscf_mo_ints[:n_docc, :n_docc, :n_docc, :n_docc], optimize=True)\n",
    "K = np.einsum('ijji->', pyscf_mo_ints[:n_docc, :n_docc, :n_docc, :n_docc], optimize=True)\n",
    "E+= (two_J-K)\n",
    "\n",
    "E+= full_system_mol_EMBEDDED_HF.energy_nuc()\n",
    "E"
   ]
  },
  {
   "cell_type": "markdown",
   "metadata": {},
   "source": [
    "# Next\n",
    "\n",
    "2. Find embedded wavefunction!"
   ]
  },
  {
   "cell_type": "code",
   "execution_count": null,
   "metadata": {},
   "outputs": [],
   "source": [
    "n_qubits = 2*hcore_EMBED_mo.shape[0]\n",
    "\n",
    "one_body_terms = np.zeros((n_qubits, n_qubits))\n",
    "two_body_terms = np.zeros((n_qubits, n_qubits, n_qubits, n_qubits))\n",
    "\n",
    "for p in range(n_qubits//2):\n",
    "    for q in range(n_qubits//2):\n",
    "        \n",
    "        one_body_terms[2*p, 2*q] = hcore_EMBED_mo[p,q] # spin UP\n",
    "        one_body_terms[(2*p + 1), (2*q +1)] = hcore_EMBED_mo[p,q] # spin DOWN\n",
    "        \n",
    "        # continue 2-body terms\n",
    "        for r in range(n_qubits//2):\n",
    "            for s in range(n_qubits//2):\n",
    "                                \n",
    "                ### SAME spin                \n",
    "                two_body_terms[2*p, 2*q , 2*r, 2*s] = pyscf_mo_ints[p,q,r,s] # up up up up\n",
    "                two_body_terms[(2*p+1), (2*q +1) , (2*r + 1), (2*s +1)] = pyscf_mo_ints[p,q,r,s] # down down down down\n",
    "                \n",
    "                ### mixed spin                \n",
    "                two_body_terms[2*p, 2*q , (2*r + 1), (2*s +1)] = pyscf_mo_ints[p,q,r,s] # up up down down\n",
    "                two_body_terms[(2*p+1), (2*q +1) , 2*r, 2*s] = pyscf_mo_ints[p,q,r,s] # down down up up \n",
    "               \n",
    "                \n",
    "                \n",
    "                \n",
    "### remove vanishing terms\n",
    "EQ_Tolerance=1e-8\n",
    "one_body_terms[np.abs(one_body_terms)<EQ_Tolerance]=0\n",
    "two_body_terms[np.abs(two_body_terms)<EQ_Tolerance]=0"
   ]
  },
  {
   "cell_type": "code",
   "execution_count": null,
   "metadata": {},
   "outputs": [],
   "source": [
    "N = full_system_mol_EMBEDDED_HF.nelectron\n",
    "\n",
    "E_spin_MOs = np.einsum('ii->', one_body_terms[:N, :N], optimize=True)\n",
    "\n",
    "J = np.einsum('iijj->', two_body_terms[:N, :N, :N, :N], optimize=True)\n",
    "K = np.einsum('ijji->', two_body_terms[:N, :N, :N, :N], optimize=True)\n",
    "E_spin_MOs+= 0.5*(J-K)\n",
    "\n",
    "E_spin_MOs+= full_system_mol.energy_nuc()\n",
    "\n",
    "E_spin_MOs"
   ]
  },
  {
   "cell_type": "code",
   "execution_count": null,
   "metadata": {},
   "outputs": [],
   "source": []
  },
  {
   "cell_type": "code",
   "execution_count": null,
   "metadata": {},
   "outputs": [],
   "source": [
    "from openfermion.ops import FermionOperator"
   ]
  },
  {
   "cell_type": "code",
   "execution_count": null,
   "metadata": {},
   "outputs": [],
   "source": [
    "H_fermionic = FermionOperator((),  full_system_mol.energy_nuc())\n",
    "\n",
    "# one body terms\n",
    "for p in range(one_body_terms.shape[0]):\n",
    "    for q in range(one_body_terms.shape[0]):\n",
    "        \n",
    "        H_fermionic += one_body_terms[p,q] * FermionOperator(((p, 1), (q, 0)))\n",
    "        \n",
    "        # two body terms\n",
    "        for r in range(two_body_terms.shape[0]):\n",
    "            for s in range(two_body_terms.shape[0]):\n",
    "                \n",
    "                ######## physist notation\n",
    "                ## (requires:\n",
    "                ##           two_body_terms = two_body_terms.transpose(0,2,3,1) before loop starts!\n",
    "                ##)\n",
    "#                 H_qubit += 0.5*two_body_terms[p,q,r,s] * FermionOperator(((p, 1), (q, 1), (r,0), (s, 0)))\n",
    "                \n",
    "                ######## chemist notation\n",
    "                H_fermionic += 0.5*two_body_terms[p,q,r,s] * FermionOperator(((p, 1), (r, 1), (s,0), (q, 0)))\n",
    "H_fermionic"
   ]
  },
  {
   "cell_type": "code",
   "execution_count": null,
   "metadata": {},
   "outputs": [],
   "source": [
    "from openfermion.transforms import jordan_wigner\n",
    "\n",
    "H_qubit_JW = jordan_wigner(H_fermionic)\n",
    "H_qubit_JW"
   ]
  },
  {
   "cell_type": "code",
   "execution_count": null,
   "metadata": {},
   "outputs": [],
   "source": [
    "len(list(H_qubit_JW))"
   ]
  },
  {
   "cell_type": "code",
   "execution_count": null,
   "metadata": {},
   "outputs": [],
   "source": [
    "from openfermion.linalg import get_sparse_operator\n",
    "\n",
    "H_JW_mat = get_sparse_operator(H_qubit_JW)"
   ]
  },
  {
   "cell_type": "code",
   "execution_count": null,
   "metadata": {},
   "outputs": [],
   "source": [
    "H_JW_mat.shape"
   ]
  },
  {
   "cell_type": "code",
   "execution_count": null,
   "metadata": {},
   "outputs": [],
   "source": [
    "eigvals_EMBED, eigvecs_EMBED = sp.sparse.linalg.eigsh(H_JW_mat, which='SA', k=1)"
   ]
  },
  {
   "cell_type": "code",
   "execution_count": null,
   "metadata": {},
   "outputs": [],
   "source": []
  },
  {
   "cell_type": "markdown",
   "metadata": {},
   "source": [
    "# Calculate Energy with Embedded wavefunction"
   ]
  },
  {
   "cell_type": "code",
   "execution_count": null,
   "metadata": {},
   "outputs": [],
   "source": [
    "full_system_mol_HF = gto.Mole(atom= geometry,\n",
    "                      basis=basis,\n",
    "                       charge=0,\n",
    "                       #spin=0,\n",
    "                      )\n",
    "full_system_mol_HF.build()\n",
    "\n",
    "# RE-DEFINE number of electrons in system\n",
    "full_system_mol_HF.nelectron = 2*len(active_ao_ind)\n",
    "\n",
    "full_system_scf_HF = scf.RHF(full_system_mol_HF)\n",
    "full_system_scf_HF.verbose=1\n",
    "full_system_scf_HF.max_memory= 8_000\n",
    "full_system_scf_HF.conv_tol = 1e-6\n"
   ]
  },
  {
   "cell_type": "code",
   "execution_count": null,
   "metadata": {},
   "outputs": [],
   "source": [
    "pyscf_mo_ints = ao2mo.kernel(full_system_mol_HF, EMBEDDED_full_system_scf_HF.mo_coeff)#, aosym=1)\n",
    "\n",
    "# Convert the 2e integrals (in Chemist’s notation)\n",
    "n_bas_ft = full_system_mol_HF.nao\n",
    "pyscf_mo_ints_std = ao2mo.restore(1, pyscf_mo_ints, n_bas_ft)"
   ]
  },
  {
   "cell_type": "code",
   "execution_count": null,
   "metadata": {},
   "outputs": [],
   "source": [
    "hcore_standard_mo =  EMBEDDED_full_system_scf_HF.mo_coeff.conj().T @ scf.hf.get_hcore(full_system_mol_HF) @ EMBEDDED_full_system_scf_HF.mo_coeff # <psi H psi> # NOT FOCK\n"
   ]
  },
  {
   "cell_type": "code",
   "execution_count": null,
   "metadata": {},
   "outputs": [],
   "source": [
    "n_qubits = 2*hcore_EMBED_mo.shape[0]\n",
    "\n",
    "one_body_terms_std = np.zeros((n_qubits, n_qubits))\n",
    "two_body_terms_std = np.zeros((n_qubits, n_qubits, n_qubits, n_qubits))\n",
    "\n",
    "for p in range(n_qubits//2):\n",
    "    for q in range(n_qubits//2):\n",
    "        \n",
    "        one_body_terms_std[2*p, 2*q] = hcore_standard_mo[p,q] # spin UP\n",
    "        one_body_terms_std[(2*p + 1), (2*q +1)] = hcore_standard_mo[p,q] # spin DOWN\n",
    "        \n",
    "        # continue 2-body terms\n",
    "        for r in range(n_qubits//2):\n",
    "            for s in range(n_qubits//2):\n",
    "                                \n",
    "                ### SAME spin                \n",
    "                two_body_terms_std[2*p, 2*q , 2*r, 2*s] = pyscf_mo_ints_std[p,q,r,s] # up up up up\n",
    "                two_body_terms_std[(2*p+1), (2*q +1) , (2*r + 1), (2*s +1)] = pyscf_mo_ints_std[p,q,r,s] # down down down down\n",
    "                \n",
    "                ### mixed spin                \n",
    "                two_body_terms_std[2*p, 2*q , (2*r + 1), (2*s +1)] = pyscf_mo_ints_std[p,q,r,s] # up up down down\n",
    "                two_body_terms_std[(2*p+1), (2*q +1) , 2*r, 2*s] = pyscf_mo_ints_std[p,q,r,s] # down down up up \n",
    "               \n",
    "                \n",
    "                \n",
    "                \n",
    "### remove vanishing terms\n",
    "EQ_Tolerance=1e-8\n",
    "one_body_terms_std[np.abs(one_body_terms_std)<EQ_Tolerance]=0\n",
    "two_body_terms_std[np.abs(two_body_terms_std)<EQ_Tolerance]=0"
   ]
  },
  {
   "cell_type": "code",
   "execution_count": null,
   "metadata": {},
   "outputs": [],
   "source": [
    "H_fermionic = FermionOperator((),  full_system_mol.energy_nuc())\n",
    "\n",
    "# one body terms\n",
    "for p in range(one_body_terms_std.shape[0]):\n",
    "    for q in range(one_body_terms_std.shape[0]):\n",
    "        \n",
    "        H_fermionic += one_body_terms_std[p,q] * FermionOperator(((p, 1), (q, 0)))\n",
    "        \n",
    "        # two body terms\n",
    "        for r in range(two_body_terms_std.shape[0]):\n",
    "            for s in range(two_body_terms_std.shape[0]):\n",
    "                \n",
    "                ######## physist notation\n",
    "                ## (requires:\n",
    "                ##           two_body_terms = two_body_terms.transpose(0,2,3,1) before loop starts!\n",
    "                ##)\n",
    "#                 H_qubit += 0.5*two_body_terms[p,q,r,s] * FermionOperator(((p, 1), (q, 1), (r,0), (s, 0)))\n",
    "                \n",
    "                ######## chemist notation\n",
    "                H_fermionic += 0.5*two_body_terms_std[p,q,r,s] * FermionOperator(((p, 1), (r, 1), (s,0), (q, 0)))\n",
    "H_fermionic"
   ]
  },
  {
   "cell_type": "code",
   "execution_count": null,
   "metadata": {},
   "outputs": [],
   "source": [
    "H_qubit_JW = jordan_wigner(H_fermionic)\n",
    "H_qubit_JW"
   ]
  },
  {
   "cell_type": "code",
   "execution_count": null,
   "metadata": {},
   "outputs": [],
   "source": [
    "len(list(H_qubit_JW))"
   ]
  },
  {
   "cell_type": "code",
   "execution_count": null,
   "metadata": {},
   "outputs": [],
   "source": [
    "H_JW_mat = get_sparse_operator(H_qubit_JW)"
   ]
  },
  {
   "cell_type": "code",
   "execution_count": null,
   "metadata": {},
   "outputs": [],
   "source": [
    "E_WF_emb = (eigvecs_EMBED.conj().T @ H_JW_mat @ eigvecs_EMBED).real\n",
    "E_WF_emb"
   ]
  },
  {
   "cell_type": "code",
   "execution_count": null,
   "metadata": {},
   "outputs": [],
   "source": []
  },
  {
   "cell_type": "code",
   "execution_count": null,
   "metadata": {},
   "outputs": [],
   "source": [
    "H_core_std = FermionOperator((),  full_system_mol.energy_nuc())\n",
    "\n",
    "# one body terms\n",
    "for p in range(one_body_terms_std.shape[0]):\n",
    "    for q in range(one_body_terms_std.shape[0]):\n",
    "        \n",
    "        H_core_std += one_body_terms_std[p,q] * FermionOperator(((p, 1), (q, 0)))"
   ]
  },
  {
   "cell_type": "code",
   "execution_count": null,
   "metadata": {},
   "outputs": [],
   "source": [
    "H_embed_core = FermionOperator((),  full_system_mol.energy_nuc())\n",
    "\n",
    "# one body terms\n",
    "for p in range(one_body_terms.shape[0]):\n",
    "    for q in range(one_body_terms.shape[0]):\n",
    "        \n",
    "        H_embed_core += one_body_terms[p,q] * FermionOperator(((p, 1), (q, 0)))"
   ]
  },
  {
   "cell_type": "code",
   "execution_count": null,
   "metadata": {},
   "outputs": [],
   "source": [
    "H_core_std_JW = jordan_wigner(H_core_std)\n",
    "H_core_std_JW_mat = get_sparse_operator(H_core_std_JW)\n",
    "\n",
    "H_embed_core_std_JW = jordan_wigner(H_embed_core)\n",
    "H_embed_core_std_JW_mat = get_sparse_operator(H_embed_core_std_JW)"
   ]
  },
  {
   "cell_type": "code",
   "execution_count": null,
   "metadata": {},
   "outputs": [],
   "source": []
  },
  {
   "cell_type": "code",
   "execution_count": null,
   "metadata": {},
   "outputs": [],
   "source": [
    "WF_correction = eigvecs_EMBED.conj().T @ (H_core_std_JW_mat - H_embed_core_std_JW_mat) @ eigvecs_EMBED"
   ]
  },
  {
   "cell_type": "code",
   "execution_count": null,
   "metadata": {},
   "outputs": [],
   "source": []
  },
  {
   "cell_type": "code",
   "execution_count": null,
   "metadata": {},
   "outputs": [],
   "source": [
    "E_high_lvl_DFT = E_WF_emb[0][0] + E_env + two_e_cross + full_system_scf.energy_nuc() + correction\n",
    "E_high_lvl_DFT # <-- energy from embedded DFT calc"
   ]
  },
  {
   "cell_type": "code",
   "execution_count": null,
   "metadata": {},
   "outputs": [],
   "source": []
  },
  {
   "cell_type": "code",
   "execution_count": null,
   "metadata": {},
   "outputs": [],
   "source": []
  },
  {
   "cell_type": "code",
   "execution_count": null,
   "metadata": {},
   "outputs": [],
   "source": []
  },
  {
   "cell_type": "code",
   "execution_count": null,
   "metadata": {},
   "outputs": [],
   "source": []
  },
  {
   "cell_type": "code",
   "execution_count": null,
   "metadata": {},
   "outputs": [],
   "source": []
  },
  {
   "cell_type": "code",
   "execution_count": null,
   "metadata": {},
   "outputs": [],
   "source": []
  },
  {
   "cell_type": "code",
   "execution_count": null,
   "metadata": {},
   "outputs": [],
   "source": [
    "embedded_cc_obj = cc.CCSD(EMBEDDED_full_system_scf_HF)\n",
    "\n",
    "embedded_cc_obj.nocc = EMBEDDED_full_system_scf_HF.mol.nelectron // 2\n",
    "embedded_cc_obj.nmo = EMBEDDED_full_system_scf_HF.mo_energy.size\n",
    "# NEED to redefine embedded h_core again!\n",
    "embedded_cc_obj._scf.get_hcore = lambda *args: v_emb + h_core\n",
    "e_cc, t1, t2 = embedded_cc_obj.kernel()"
   ]
  },
  {
   "cell_type": "code",
   "execution_count": null,
   "metadata": {},
   "outputs": [],
   "source": []
  },
  {
   "cell_type": "code",
   "execution_count": null,
   "metadata": {},
   "outputs": [],
   "source": [
    "embedded_cc_obj = cc.CCSD(EMBEDDED_full_system_scf_HF)\n",
    "\n",
    "# NEED to redefine embedded h_core again!\n",
    "embedded_cc_obj._scf.get_hcore = lambda *args: v_emb + h_core\n",
    "e_cc, t1, t2 = embedded_cc_obj.kernel()"
   ]
  },
  {
   "cell_type": "code",
   "execution_count": null,
   "metadata": {},
   "outputs": [],
   "source": []
  },
  {
   "cell_type": "code",
   "execution_count": null,
   "metadata": {},
   "outputs": [],
   "source": [
    "np.isclose(embedded_cc_obj.e_hf,e_hf_check) # check HF and CC_hf match!"
   ]
  },
  {
   "cell_type": "code",
   "execution_count": null,
   "metadata": {},
   "outputs": [],
   "source": [
    "C_wf = embedded_cc_obj.mo_coeff[:,EMBEDDED_full_system_scf_HF.mo_occ>0] # take occupied C_coeff\n",
    "\n",
    "dm_wf = 2* C_wf @ C_wf.conj().T # THIS is embedded dm matrix from cc calc!\n",
    "np.isclose(np.trace(dm_wf@S), 2*len(active_ao_ind))"
   ]
  },
  {
   "cell_type": "code",
   "execution_count": null,
   "metadata": {},
   "outputs": [],
   "source": [
    "# check everything makes sense:\n",
    "embedded_cc_obj.e_tot == EMBEDDED_full_system_scf_HF.energy_tot(dm=dm_wf) + e_cc"
   ]
  },
  {
   "cell_type": "code",
   "execution_count": null,
   "metadata": {},
   "outputs": [],
   "source": []
  },
  {
   "cell_type": "code",
   "execution_count": null,
   "metadata": {},
   "outputs": [],
   "source": [
    "WF_correction = (matrix_dot(v_emb, dm_wf - dm_active))\n",
    "WF_correction"
   ]
  },
  {
   "cell_type": "markdown",
   "metadata": {},
   "source": [
    "# Finally\n",
    "3. Run everything again, using optimized embedded density matrix using standard system obj!"
   ]
  },
  {
   "cell_type": "code",
   "execution_count": null,
   "metadata": {},
   "outputs": [],
   "source": [
    "full_system_mol_HF_normal_obj = gto.Mole(atom= geometry,\n",
    "                      basis=basis,\n",
    "                       charge=0,\n",
    "                       #spin=0,\n",
    "                      )\n",
    "full_system_mol_HF_normal_obj.build()\n",
    "\n",
    "# redefine number of electrons in system\n",
    "full_system_mol_HF_normal_obj.nelectron = 2*len(active_ao_ind)\n",
    "\n",
    "full_system_scf_HF_normal_obj = scf.RHF(full_system_mol_HF_normal_obj)\n",
    "full_system_scf_HF_normal_obj.verbose=1\n",
    "full_system_scf_HF_normal_obj.max_memory= 8_000\n",
    "full_system_scf_HF_normal_obj.conv_tol = 1e-6\n",
    "\n",
    "# do NOT redefine h_core to be embedded\n",
    "\n",
    "# Also don't run kernel, as we have op density matrix"
   ]
  },
  {
   "cell_type": "code",
   "execution_count": null,
   "metadata": {},
   "outputs": [],
   "source": [
    "h1e=full_system_scf_HF_normal_obj.get_hcore()\n",
    "s1e=full_system_scf_HF_normal_obj.get_ovlp()\n",
    "vhf=full_system_scf_HF_normal_obj.get_veff(dm=dm_wf) # <-- gamma_A_embedded!\n",
    "\n",
    "\n",
    "fock = full_system_scf_HF_normal_obj.get_fock(h1e,\n",
    "                                              s1e,\n",
    "                                              vhf,\n",
    "                                              dm_wf)  # <-- gamma_A_embedded!\n",
    "\n",
    "\n",
    "mo_energy, mo_coeff = full_system_scf_HF_normal_obj.eig(fock, s1e)\n",
    "mo_occ = full_system_scf_HF_normal_obj.get_occ(mo_energy, mo_coeff)\n",
    "e_tot = full_system_scf_HF_normal_obj.energy_tot(dm_wf, # <-- gamma_A_embedded!\n",
    "                                                          h1e, vhf)\n",
    "\n",
    "\n",
    "# full_system_scf_HF_normal_obj.mo_coeff = mo_coeff\n",
    "full_system_scf_HF_normal_obj.mo_coeff =  embedded_cc_obj.mo_coeff#[:,embedded_wf.mo_occ>0] # take occupied C_coeff\n",
    "\n",
    "# full_system_scf_HF_normal_obj.mo_energy = mo_energy\n",
    "full_system_scf_HF_normal_obj.mo_occ = mo_occ\n",
    "full_system_scf_HF_normal_obj.e_tot = e_tot\n",
    "e_tot"
   ]
  },
  {
   "cell_type": "code",
   "execution_count": null,
   "metadata": {},
   "outputs": [],
   "source": [
    "full_system_scf_HF_normal_obj.energy_tot(dm=dm_wf)"
   ]
  },
  {
   "cell_type": "code",
   "execution_count": null,
   "metadata": {},
   "outputs": [],
   "source": [
    "# ## checking if mo_energy makes sense (as overwriting mo_coeff)\n",
    "# S_neg1 = sp.linalg.inv(s1e)\n",
    "# C_neg1 = sp.linalg.inv(EMBEDDED_full_system_scf.mo_coeff)\n",
    "\n",
    "# e = C_neg1 @ S_neg1 @ fock @ EMBEDDED_full_system_scf.mo_coeff\n",
    "\n",
    "# u, E, V = np.linalg.svd(e)\n",
    "\n",
    "# np.allclose(np.abs(mo_energy[mo_occ>0]), np.abs(E[mo_occ>0]))"
   ]
  },
  {
   "cell_type": "code",
   "execution_count": null,
   "metadata": {},
   "outputs": [],
   "source": [
    "cc_standard_obj = cc.CCSD(full_system_scf_HF_normal_obj)\n",
    "\n",
    "\n",
    "# embedded_cc_obj.nocc = EMBEDDED_full_system_scf_HF.mol.nelectron // 2\n",
    "# embedded_cc_obj.nmo = EMBEDDED_full_system_scf_HF.mo_energy.size\n",
    "\n",
    "e_cc, t1_standard, t2_standard = cc_standard_obj.kernel()\n",
    "\n",
    "np.isclose(cc_standard_obj.e_hf, e_tot)"
   ]
  },
  {
   "cell_type": "code",
   "execution_count": null,
   "metadata": {},
   "outputs": [],
   "source": [
    "C_wf = embedded_cc_obj.mo_coeff # take embedded gamma and calc energy WITHOUT embedded H\n",
    "eris = cc_standard_obj.ao2mo(mo_coeff=C_wf)\n",
    "\n",
    "# calculate coupled cluster correction to e_hf with same t1 and t2 as found using embedded Hcore\n",
    "e_cc_standard_with_embedded_Density = cc_standard_obj.energy(t1, t2, eris)\n",
    "\n",
    "# calculate coupled cluster correction to e_hf with NEW t1 and t2 found using WITHOUT embedded Hcore\n",
    "# BUT use C matrix from embedded Hcore calculation!\n",
    "# e_cc_standard_with_embedded_Density = cc_standard_obj.energy(t1_standard, t2_standard, eris)\n",
    "\n",
    "\n",
    "e_cc_standard_with_embedded_Density"
   ]
  },
  {
   "cell_type": "code",
   "execution_count": null,
   "metadata": {},
   "outputs": [],
   "source": []
  },
  {
   "cell_type": "code",
   "execution_count": null,
   "metadata": {},
   "outputs": [],
   "source": [
    "C_wf_opt = cc_standard_obj.mo_coeff[:,cc_standard_obj.mo_occ>0] # take occupied C_coeff\n",
    "\n",
    "dm_wf_opt = 2* C_wf_opt @ C_wf_opt.conj().T\n",
    "\n",
    "print('checking no. of electrons is correct:', np.isclose(np.trace(dm_wf_opt@s1e), 2*len(active_ao_ind)))\n",
    "print()\n",
    "print('checking CC dm matrix matches embedded dm matrix:', np.allclose(dm_wf_opt, dm_wf))"
   ]
  },
  {
   "cell_type": "code",
   "execution_count": null,
   "metadata": {},
   "outputs": [],
   "source": []
  },
  {
   "cell_type": "code",
   "execution_count": null,
   "metadata": {},
   "outputs": [],
   "source": [
    "E_WF_standard_obj = (cc_standard_obj.e_tot \n",
    "                     + E_env + two_e_cross + WF_correction)\n",
    "# E__WF # <-- energy from embedded WF calc\n",
    "\n",
    "np.abs(E_WF_standard_obj-my_fci.e_tot)"
   ]
  },
  {
   "cell_type": "code",
   "execution_count": null,
   "metadata": {},
   "outputs": [],
   "source": [
    "E_WF_standard_obj = (cc_standard_obj.e_hf + e_cc_standard_with_embedded_Density\n",
    "                     + E_env + two_e_cross + WF_correction)\n",
    "# E__WF # <-- energy from embedded WF calc\n",
    "\n",
    "np.abs(E_WF_standard_obj-my_fci.e_tot)"
   ]
  },
  {
   "cell_type": "code",
   "execution_count": null,
   "metadata": {},
   "outputs": [],
   "source": [
    "E_WF_standard_obj = (cc_standard_obj.e_corr + e_tot \n",
    "                     + E_env + two_e_cross + WF_correction)\n",
    "# E__WF # <-- energy from embedded WF calc\n",
    "\n",
    "np.abs(E_WF_standard_obj-my_fci.e_tot)"
   ]
  },
  {
   "cell_type": "code",
   "execution_count": null,
   "metadata": {},
   "outputs": [],
   "source": [
    "dsaas"
   ]
  },
  {
   "cell_type": "markdown",
   "metadata": {},
   "source": [
    "# OTHER WF way\n",
    "\n",
    "1. Run higher level method using dm from RKS\n",
    "2. don't try use HF to find other embedded gamma_A"
   ]
  },
  {
   "cell_type": "code",
   "execution_count": null,
   "metadata": {},
   "outputs": [],
   "source": [
    "alt_full_system_mol_HF_normal_obj = gto.Mole(atom= geometry,\n",
    "                      basis=basis,\n",
    "                       charge=0,\n",
    "                       #spin=0,\n",
    "                      )\n",
    "alt_full_system_mol_HF_normal_obj.build()\n",
    "\n",
    "# redefine number of electrons in system\n",
    "alt_full_system_mol_HF_normal_obj.nelectron = 2*len(active_ao_ind)\n",
    "\n",
    "alt_full_system_scf_HF_normal_obj = scf.RHF(alt_full_system_mol_HF_normal_obj)\n",
    "alt_full_system_scf_HF_normal_obj.verbose=1\n",
    "alt_full_system_scf_HF_normal_obj.max_memory= 8_000\n",
    "alt_full_system_scf_HF_normal_obj.conv_tol = 1e-6\n",
    "\n",
    "# do NOT redefine h_core to be embedded\n",
    "\n",
    "# Also don't run kernel, as we have op density matrix\n",
    "\n",
    "\n",
    "\n",
    "h1e=alt_full_system_scf_HF_normal_obj.get_hcore()\n",
    "s1e=alt_full_system_scf_HF_normal_obj.get_ovlp()\n",
    "vhf=alt_full_system_scf_HF_normal_obj.get_veff(dm=density_emb) # <-- gamma_A_embedded from DFT calc!\n",
    "\n",
    "\n",
    "fock = alt_full_system_scf_HF_normal_obj.get_fock(h1e,\n",
    "                                              s1e,\n",
    "                                              vhf,\n",
    "                                              density_emb)  # <-- gamma_A_embedded!\n",
    "\n",
    "\n",
    "\n",
    "mo_energy, mo_coeff = alt_full_system_scf_HF_normal_obj.eig(fock, s1e)\n",
    "mo_occ = alt_full_system_scf_HF_normal_obj.get_occ(mo_energy, mo_coeff)\n",
    "e_tot = alt_full_system_scf_HF_normal_obj.energy_tot(density_emb, # <-- gamma_A_embedded!\n",
    "                                                          h1e, vhf)\n",
    "\n",
    "\n",
    "\n",
    "###########################\n",
    "\n",
    "# something going WRONG HERE\n",
    "# should set:\n",
    "#             alt_full_system_scf_HF_normal_obj.mo_coeff = EMBEDDED_full_system_scf.mo_coeff\n",
    "# rather than updated version from eig\n",
    "\n",
    "alt_full_system_scf_HF_normal_obj.mo_coeff = mo_coeff\n",
    "\n",
    "# alt_full_system_scf_HF_normal_obj.mo_coeff =  EMBEDDED_full_system_scf.mo_coeff\n",
    "\n",
    "# C_pseduo_inv = np.linalg.pinv(EMBEDDED_full_system_scf.mo_coeff)\n",
    "# C_pseudo = sp.linalg.inv(C_pseduo_inv)\n",
    "# alt_full_system_scf_HF_normal_obj.mo_coeff = C_pseudo\n",
    "\n",
    "##############################\n",
    "\n",
    "\n",
    "\n",
    "alt_full_system_scf_HF_normal_obj.mo_energy = mo_energy\n",
    "alt_full_system_scf_HF_normal_obj.mo_occ = mo_occ\n",
    "alt_full_system_scf_HF_normal_obj.e_tot = e_tot\n",
    "e_tot"
   ]
  },
  {
   "cell_type": "code",
   "execution_count": null,
   "metadata": {},
   "outputs": [],
   "source": [
    "alt_full_system_scf_HF_normal_obj.energy_tot(dm=density_emb)"
   ]
  },
  {
   "cell_type": "code",
   "execution_count": null,
   "metadata": {},
   "outputs": [],
   "source": [
    "np.allclose(alt_full_system_scf_HF_normal_obj.make_rdm1(\n",
    "        EMBEDDED_full_system_scf.mo_coeff, EMBEDDED_full_system_scf.mo_occ)\n",
    "            , density_emb)"
   ]
  },
  {
   "cell_type": "code",
   "execution_count": null,
   "metadata": {},
   "outputs": [],
   "source": []
  },
  {
   "cell_type": "code",
   "execution_count": null,
   "metadata": {},
   "outputs": [],
   "source": [
    "alt_cc_standard_obj = cc.CCSD(alt_full_system_scf_HF_normal_obj)\n",
    "# cc_standard_obj.diis = False\n",
    "\n",
    "# embedded_cc_obj.nocc = EMBEDDED_full_system_scf_HF.mol.nelectron // 2\n",
    "# embedded_cc_obj.nmo = EMBEDDED_full_system_scf_HF.mo_energy.size\n",
    "\n",
    "e_cc, t1_standard, t2_standard = alt_cc_standard_obj.kernel()\n",
    "\n",
    "np.isclose(alt_cc_standard_obj.e_hf, e_tot)"
   ]
  },
  {
   "cell_type": "code",
   "execution_count": null,
   "metadata": {},
   "outputs": [],
   "source": [
    "E_WF_standard_obj = (alt_cc_standard_obj.e_corr + e_tot\n",
    "                     + E_env + two_e_cross + WF_correction)\n",
    "# E__WF # <-- energy from embedded WF calc\n",
    "\n",
    "np.abs(E_WF_standard_obj-my_fci.e_tot)"
   ]
  },
  {
   "cell_type": "code",
   "execution_count": null,
   "metadata": {},
   "outputs": [],
   "source": [
    "C_wf_opt = alt_cc_standard_obj.mo_coeff[:,cc_standard_obj.mo_occ>0] # take occupied C_coeff\n",
    "\n",
    "dm_wf_opt = 2* C_wf_opt @ C_wf_opt.conj().T\n",
    "\n",
    "print('checking no. of electrons is correct:', np.isclose(np.trace(dm_wf_opt@s1e), 2*len(active_ao_ind)))\n",
    "print()\n",
    "print('checking CC dm matrix matches embedded dm matrix:', np.allclose(dm_wf_opt, density_emb))"
   ]
  },
  {
   "cell_type": "code",
   "execution_count": null,
   "metadata": {},
   "outputs": [],
   "source": [
    "# if CC dm matrix is not matching, this is due to NOT setting:\n",
    "#     alt_full_system_scf_HF_normal_obj.mo_coeff = EMBEDDED_full_system_scf.mo_coeff"
   ]
  },
  {
   "cell_type": "code",
   "execution_count": null,
   "metadata": {},
   "outputs": [],
   "source": []
  },
  {
   "cell_type": "code",
   "execution_count": null,
   "metadata": {},
   "outputs": [],
   "source": [
    "alt_cc_standard_obj.e_hf"
   ]
  },
  {
   "cell_type": "code",
   "execution_count": null,
   "metadata": {},
   "outputs": [],
   "source": [
    "cc_standard_obj.e_hf + e_cc_standard_with_embedded_Density"
   ]
  },
  {
   "cell_type": "code",
   "execution_count": null,
   "metadata": {},
   "outputs": [],
   "source": []
  },
  {
   "cell_type": "code",
   "execution_count": null,
   "metadata": {},
   "outputs": [],
   "source": []
  },
  {
   "cell_type": "markdown",
   "metadata": {},
   "source": [
    "# QC work"
   ]
  },
  {
   "cell_type": "markdown",
   "metadata": {},
   "source": [
    "$$H_{fermionic} = h_{nuc} + \\sum_{p, q} h_{pq} a_{p}^{\\dagger} a_{q} + \\frac{1}{2} \\sum_{p, q ,r ,s} h_{pqrs} a_{p}^{\\dagger} a_{q}^{\\dagger} a_{r} a_{s}$$\n",
    "\n",
    "where:\n",
    "\n",
    "- $$h_{pq} = \\int d{\\vec{x}} \\phi_{p}^{*}({\\vec{x}}) \\bigg( - \\frac{\\nabla^{2}_{{\\vec{r}}}}{2} - \\sum_{I} \\frac{Z_{I}}{|{\\vec{r}} - {\\vec{R}_{I}} |} \\bigg) \\phi_{q}({\\vec{x}})$$\n",
    "\n",
    "\n",
    "- $$h_{pqrs} = \\int d{\\vec{x}}_{1} d{\\vec{x}}_{2} \\frac{\\phi_{p}^{*}({\\vec{x}}_{1}) \\phi_{q}^{*}({\\vec{x}}_{2}) \\phi_{s}({\\vec{x}}_{1}) \\phi_{r}({\\vec{x}}_{2})}{|{\\vec{r}_{1}} - {\\vec{r}}_{2}|}$$ \n",
    "\n",
    "\n",
    "- $$h_{nuc} = \\frac{1}{2} \\sum_{I \\neq J} \\frac{Z_{I} Z_{J}}{| {\\vec{R}}_{I} - {\\vec{R}}_{J}|}$$"
   ]
  },
  {
   "cell_type": "code",
   "execution_count": null,
   "metadata": {},
   "outputs": [],
   "source": []
  },
  {
   "cell_type": "code",
   "execution_count": null,
   "metadata": {},
   "outputs": [],
   "source": [
    "#2D array for one-body Hamiltonian (H_core) in the MO representation\n",
    "\n",
    "Hcore_normal =  full_system_scf_HF_normal_obj.get_hcore()\n",
    "# canonical_orbitals  = full_system_scf_HF_normal_obj.mo_coeff # HF calc WITH embedded density matrix, but standard molecule obj!\n",
    "canonical_orbitals  = full_system_scf_HF_normal_obj.mo_coeff[:,full_system_scf_HF_normal_obj.mo_occ>0]\n",
    "\n",
    "one_body_integrals = canonical_orbitals.conj().T @ Hcore_normal @ canonical_orbitals\n",
    "one_body_integrals.shape"
   ]
  },
  {
   "cell_type": "code",
   "execution_count": null,
   "metadata": {},
   "outputs": [],
   "source": []
  },
  {
   "cell_type": "code",
   "execution_count": null,
   "metadata": {},
   "outputs": [],
   "source": [
    "# A 4-dimension array for electron repulsion integrals in the MO\n",
    "# representation.  The integrals are computed as\n",
    "# h[p,q,r,s]=\\int \\phi_p(x)* \\phi_q(y)* V_{elec-elec} \\phi_r(y) \\phi_s(x) dxdy\n",
    "from pyscf import ao2mo\n",
    "\n",
    "\n",
    "eri = ao2mo.kernel(full_system_mol_HF_normal_obj, canonical_orbitals)\n",
    "n_orbitals = canonical_orbitals.shape[1]\n",
    "eri = ao2mo.restore(1, # no permutation symmetry\n",
    "                      eri, \n",
    "                    n_orbitals)\n",
    "\n",
    "\n",
    "two_body_integrals = np.asarray(eri.transpose(0, 2, 3, 1), order='C')\n",
    "two_body_integrals.shape"
   ]
  },
  {
   "cell_type": "code",
   "execution_count": null,
   "metadata": {},
   "outputs": [],
   "source": []
  },
  {
   "cell_type": "code",
   "execution_count": null,
   "metadata": {},
   "outputs": [],
   "source": [
    "def spinorb_from_spatial(one_body_integrals, two_body_integrals):\n",
    "    EQ_TOLERANCE=1e-8\n",
    "    n_qubits = 2 * one_body_integrals.shape[0]\n",
    "\n",
    "    # Initialize Hamiltonian coefficients.\n",
    "    one_body_coefficients = np.zeros((n_qubits, n_qubits))\n",
    "    two_body_coefficients = np.zeros(\n",
    "        (n_qubits, n_qubits, n_qubits, n_qubits))\n",
    "    # Loop through integrals.\n",
    "    for p in range(n_qubits // 2):\n",
    "        for q in range(n_qubits // 2):\n",
    "\n",
    "            # Populate 1-body coefficients. Require p and q have same spin.\n",
    "            one_body_coefficients[2 * p, 2 * q] = one_body_integrals[p, q]\n",
    "            one_body_coefficients[2 * p + 1, 2 * q +\n",
    "                                  1] = one_body_integrals[p, q]\n",
    "            # Continue looping to prepare 2-body coefficients.\n",
    "            for r in range(n_qubits // 2):\n",
    "                for s in range(n_qubits // 2):\n",
    "\n",
    "                    # Mixed spin\n",
    "                    two_body_coefficients[2 * p, 2 * q + 1, 2 * r + 1, 2 *\n",
    "                                          s] = (two_body_integrals[p, q, r, s])\n",
    "                    two_body_coefficients[2 * p + 1, 2 * q, 2 * r, 2 * s +\n",
    "                                          1] = (two_body_integrals[p, q, r, s])\n",
    "\n",
    "                    # Same spin\n",
    "                    two_body_coefficients[2 * p, 2 * q, 2 * r, 2 *\n",
    "                                          s] = (two_body_integrals[p, q, r, s])\n",
    "                    two_body_coefficients[2 * p + 1, 2 * q + 1, 2 * r +\n",
    "                                          1, 2 * s +\n",
    "                                          1] = (two_body_integrals[p, q, r, s])\n",
    "\n",
    "    # Truncate.\n",
    "    one_body_coefficients[\n",
    "        np.absolute(one_body_coefficients) < EQ_TOLERANCE] = 0.\n",
    "    two_body_coefficients[\n",
    "        np.absolute(two_body_coefficients) < EQ_TOLERANCE] = 0.\n",
    "\n",
    "    return one_body_coefficients, two_body_coefficients\n"
   ]
  },
  {
   "cell_type": "code",
   "execution_count": null,
   "metadata": {},
   "outputs": [],
   "source": [
    "one_body_coefficients, two_body_coefficients = spinorb_from_spatial(one_body_integrals,\n",
    "                                                                    two_body_integrals)"
   ]
  },
  {
   "cell_type": "code",
   "execution_count": null,
   "metadata": {},
   "outputs": [],
   "source": [
    "from openfermion.ops.representations import InteractionOperator\n",
    "\n",
    "constant = full_system_scf.energy_nuc() \n",
    "\n",
    "molecular_hamiltonian = InteractionOperator(constant,\n",
    "                                            one_body_coefficients,\n",
    "                                            1 / 2 * two_body_coefficients)\n",
    "\n",
    "n_qubits = two_body_coefficients.shape[0]\n",
    "\n",
    "from openfermion.transforms import jordan_wigner\n",
    "Qubit_Hamiltonian = jordan_wigner(molecular_hamiltonian)"
   ]
  },
  {
   "cell_type": "code",
   "execution_count": null,
   "metadata": {},
   "outputs": [],
   "source": [
    "len(list(Qubit_Hamiltonian))"
   ]
  },
  {
   "cell_type": "code",
   "execution_count": null,
   "metadata": {},
   "outputs": [],
   "source": [
    "from openfermion import get_sparse_operator\n",
    "H_matrix = get_sparse_operator(Qubit_Hamiltonian)"
   ]
  },
  {
   "cell_type": "code",
   "execution_count": null,
   "metadata": {},
   "outputs": [],
   "source": [
    "from scipy.linalg import eigh\n",
    "eig_val, eig_vec = eigh(H_matrix.todense())\n"
   ]
  },
  {
   "cell_type": "code",
   "execution_count": null,
   "metadata": {},
   "outputs": [],
   "source": [
    "min(eig_val)"
   ]
  },
  {
   "cell_type": "code",
   "execution_count": null,
   "metadata": {},
   "outputs": [],
   "source": [
    "E_VQE = min(eig_val)"
   ]
  },
  {
   "cell_type": "code",
   "execution_count": null,
   "metadata": {},
   "outputs": [],
   "source": [
    "E_VQE_in_DFT = (E_VQE + \n",
    "                E_env + two_e_cross + WF_correction)\n",
    "E_VQE_in_DFT"
   ]
  },
  {
   "cell_type": "code",
   "execution_count": null,
   "metadata": {},
   "outputs": [],
   "source": [
    "np.abs(E_VQE_in_DFT-my_fci.e_tot)"
   ]
  },
  {
   "cell_type": "code",
   "execution_count": null,
   "metadata": {},
   "outputs": [],
   "source": []
  },
  {
   "cell_type": "code",
   "execution_count": null,
   "metadata": {},
   "outputs": [],
   "source": []
  },
  {
   "cell_type": "code",
   "execution_count": null,
   "metadata": {},
   "outputs": [],
   "source": [
    "TODO everything below here\n",
    "\n",
    "# incorrect code below!"
   ]
  },
  {
   "cell_type": "code",
   "execution_count": null,
   "metadata": {},
   "outputs": [],
   "source": []
  },
  {
   "cell_type": "code",
   "execution_count": null,
   "metadata": {},
   "outputs": [],
   "source": []
  },
  {
   "cell_type": "code",
   "execution_count": null,
   "metadata": {},
   "outputs": [],
   "source": []
  },
  {
   "cell_type": "code",
   "execution_count": null,
   "metadata": {},
   "outputs": [],
   "source": []
  },
  {
   "cell_type": "code",
   "execution_count": null,
   "metadata": {},
   "outputs": [],
   "source": []
  },
  {
   "cell_type": "code",
   "execution_count": null,
   "metadata": {},
   "outputs": [],
   "source": []
  },
  {
   "cell_type": "code",
   "execution_count": null,
   "metadata": {},
   "outputs": [],
   "source": []
  },
  {
   "cell_type": "code",
   "execution_count": null,
   "metadata": {},
   "outputs": [],
   "source": []
  },
  {
   "cell_type": "code",
   "execution_count": null,
   "metadata": {},
   "outputs": [],
   "source": [
    "#2D array for one-body Hamiltonian (H_core) in the MO representation\n",
    "\n",
    "EMBEDDED_Hcore =  full_system_scf_HIGH_LEVEL_HF.get_hcore()\n",
    "canonical_orbitals  = full_system_scf_HIGH_LEVEL_HF.mo_coeff \n",
    "\n",
    "one_body_integrals = canonical_orbitals.conj().T @ EMBEDDED_Hcore @ canonical_orbitals\n",
    "one_body_integrals.shape"
   ]
  },
  {
   "cell_type": "code",
   "execution_count": null,
   "metadata": {},
   "outputs": [],
   "source": [
    "# A 4-dimension array for electron repulsion integrals in the MO\n",
    "# representation.  The integrals are computed as\n",
    "# h[p,q,r,s]=\\int \\phi_p(x)* \\phi_q(y)* V_{elec-elec} \\phi_r(y) \\phi_s(x) dxdy\n",
    "from pyscf import ao2mo\n",
    "\n",
    "# eri = ao2mo.kernel(EMBEDDED_HF_full_system_scf, canonical_orbitals)\n",
    "\n",
    "eri = ao2mo.kernel(full_system_mol_HIGH_LEVEL_WF_mol, canonical_orbitals)\n",
    "n_orbitals = canonical_orbitals.shape[1]\n",
    "eri = ao2mo.restore(1, # no permutation symmetry\n",
    "                                eri, n_orbitals)\n",
    "\n",
    "\n",
    "two_body_integrals = np.asarray(eri.transpose(0, 2, 3, 1), order='C')\n",
    "two_body_integrals.shape"
   ]
  },
  {
   "cell_type": "code",
   "execution_count": null,
   "metadata": {},
   "outputs": [],
   "source": []
  },
  {
   "cell_type": "code",
   "execution_count": null,
   "metadata": {},
   "outputs": [],
   "source": [
    "def spinorb_from_spatial(one_body_integrals, two_body_integrals):\n",
    "    EQ_TOLERANCE=1e-8\n",
    "    n_qubits = 2 * one_body_integrals.shape[0]\n",
    "\n",
    "    # Initialize Hamiltonian coefficients.\n",
    "    one_body_coefficients = np.zeros((n_qubits, n_qubits))\n",
    "    two_body_coefficients = np.zeros(\n",
    "        (n_qubits, n_qubits, n_qubits, n_qubits))\n",
    "    # Loop through integrals.\n",
    "    for p in range(n_qubits // 2):\n",
    "        for q in range(n_qubits // 2):\n",
    "\n",
    "            # Populate 1-body coefficients. Require p and q have same spin.\n",
    "            one_body_coefficients[2 * p, 2 * q] = one_body_integrals[p, q]\n",
    "            one_body_coefficients[2 * p + 1, 2 * q +\n",
    "                                  1] = one_body_integrals[p, q]\n",
    "            # Continue looping to prepare 2-body coefficients.\n",
    "            for r in range(n_qubits // 2):\n",
    "                for s in range(n_qubits // 2):\n",
    "\n",
    "                    # Mixed spin\n",
    "                    two_body_coefficients[2 * p, 2 * q + 1, 2 * r + 1, 2 *\n",
    "                                          s] = (two_body_integrals[p, q, r, s])\n",
    "                    two_body_coefficients[2 * p + 1, 2 * q, 2 * r, 2 * s +\n",
    "                                          1] = (two_body_integrals[p, q, r, s])\n",
    "\n",
    "                    # Same spin\n",
    "                    two_body_coefficients[2 * p, 2 * q, 2 * r, 2 *\n",
    "                                          s] = (two_body_integrals[p, q, r, s])\n",
    "                    two_body_coefficients[2 * p + 1, 2 * q + 1, 2 * r +\n",
    "                                          1, 2 * s +\n",
    "                                          1] = (two_body_integrals[p, q, r, s])\n",
    "\n",
    "    # Truncate.\n",
    "    one_body_coefficients[\n",
    "        np.absolute(one_body_coefficients) < EQ_TOLERANCE] = 0.\n",
    "    two_body_coefficients[\n",
    "        np.absolute(two_body_coefficients) < EQ_TOLERANCE] = 0.\n",
    "\n",
    "    return one_body_coefficients, two_body_coefficients\n"
   ]
  },
  {
   "cell_type": "code",
   "execution_count": null,
   "metadata": {},
   "outputs": [],
   "source": [
    "one_body_coefficients, two_body_coefficients = spinorb_from_spatial(one_body_integrals,\n",
    "                                                                    two_body_integrals)"
   ]
  },
  {
   "cell_type": "code",
   "execution_count": null,
   "metadata": {},
   "outputs": [],
   "source": [
    "from openfermion.ops.representations import InteractionOperator\n",
    "\n",
    "constant = full_system_scf.energy_nuc() \n",
    "\n",
    "molecular_hamiltonian = InteractionOperator(constant,\n",
    "                                            one_body_coefficients,\n",
    "                                            1 / 2 * two_body_coefficients)\n",
    "\n",
    "n_qubits = two_body_coefficients.shape[0]\n",
    "\n",
    "from openfermion.transforms import jordan_wigner\n",
    "Qubit_Hamiltonian = jordan_wigner(molecular_hamiltonian)"
   ]
  },
  {
   "cell_type": "code",
   "execution_count": null,
   "metadata": {},
   "outputs": [],
   "source": [
    "len(list(Qubit_Hamiltonian))"
   ]
  },
  {
   "cell_type": "code",
   "execution_count": null,
   "metadata": {},
   "outputs": [],
   "source": []
  },
  {
   "cell_type": "code",
   "execution_count": null,
   "metadata": {},
   "outputs": [],
   "source": [
    "from openfermion import get_sparse_operator\n",
    "H_matrix = get_sparse_operator(Qubit_Hamiltonian)"
   ]
  },
  {
   "cell_type": "code",
   "execution_count": null,
   "metadata": {},
   "outputs": [],
   "source": []
  },
  {
   "cell_type": "code",
   "execution_count": null,
   "metadata": {},
   "outputs": [],
   "source": []
  },
  {
   "cell_type": "code",
   "execution_count": null,
   "metadata": {},
   "outputs": [],
   "source": []
  },
  {
   "cell_type": "code",
   "execution_count": null,
   "metadata": {},
   "outputs": [],
   "source": []
  },
  {
   "cell_type": "code",
   "execution_count": null,
   "metadata": {},
   "outputs": [],
   "source": []
  },
  {
   "cell_type": "code",
   "execution_count": null,
   "metadata": {},
   "outputs": [],
   "source": [
    "print(embedded_wf.e_tot)\n",
    "print(full_system_scf_HIGH_LEVEL_HF.e_tot + correlation_energy)\n",
    "# np.isclose(embedded_wf.e_tot,  )"
   ]
  },
  {
   "cell_type": "code",
   "execution_count": null,
   "metadata": {},
   "outputs": [],
   "source": []
  },
  {
   "cell_type": "code",
   "execution_count": null,
   "metadata": {},
   "outputs": [],
   "source": [
    "## not sure if this\n",
    "shift = full_system_mol.nbas - n_env_mos\n",
    "frozen_orbitals = [i for i in range(shift, full_system_mol.nbas)]\n",
    "\n",
    "## OR\n",
    "frozen_orbitals = enviro_ind_occ"
   ]
  },
  {
   "cell_type": "code",
   "execution_count": null,
   "metadata": {},
   "outputs": [],
   "source": []
  },
  {
   "cell_type": "code",
   "execution_count": null,
   "metadata": {},
   "outputs": [],
   "source": [
    "full_system_mol_EMBEDDED_HF = gto.Mole(atom= geometry,\n",
    "                      basis=basis,\n",
    "                       charge=0,\n",
    "                       #spin=0,\n",
    "                      )\n",
    "full_system_mol_EMBEDDED_HF.build()\n",
    "full_system_mol_EMBEDDED_HF.nelectron = int(np.around(np.trace(dm_active@S)))\n",
    "\n",
    "EMBEDDED_HF_full_system_scf = scf.RHF(full_system_mol_EMBEDDED_HF)\n",
    "EMBEDDED_HF_full_system_scf.verbose=1\n",
    "EMBEDDED_HF_full_system_scf.max_memory= 8_000\n",
    "EMBEDDED_HF_full_system_scf.conv_tol = 1e-6\n",
    "\n",
    "h_core = EMBEDDED_HF_full_system_scf.get_hcore()\n",
    "EMBEDDED_HF_full_system_scf.get_hcore = lambda *args: v_emb + h_core\n",
    "\n",
    "EMBEDDED_HF_full_system_scf.kernel() # <-- this would run away from psi embedded\n",
    "\n",
    "dm_act_EMBEDDED = EMBEDDED_HF_full_system_scf.make_rdm1()\n",
    "# dm_act_EMBEDDED = 2 * act_orbitals @ act_orbitals.T\n",
    "\n",
    "h1e = EMBEDDED_HF_full_system_scf.get_hcore()\n",
    "s1e = EMBEDDED_HF_full_system_scf.get_ovlp()\n",
    "vhf= EMBEDDED_HF_full_system_scf.get_veff(dm=dm_act_EMBEDDED)\n",
    "\n",
    "fock = EMBEDDED_HF_full_system_scf.get_fock(h1e, s1e, vhf, dm_act_EMBEDDED)  # = h1e + vhf, no DIIS\n",
    "mo_energy, mo_coeff = EMBEDDED_HF_full_system_scf.eig(fock, s1e)\n",
    "mo_occ = EMBEDDED_HF_full_system_scf.get_occ(mo_energy, mo_coeff)\n",
    "e_tot = EMBEDDED_HF_full_system_scf.energy_tot(dm_act_EMBEDDED, h1e, vhf)\n",
    "\n",
    "\n",
    "EMBEDDED_HF_full_system_scf.mo_energy = mo_energy\n",
    "EMBEDDED_HF_full_system_scf.mo_coeff = mo_coeff\n",
    "EMBEDDED_HF_full_system_scf.mo_occ = mo_occ\n",
    "EMBEDDED_HF_full_system_scf.e_tot = e_tot\n",
    "EMBEDDED_HF_full_system_scf.converged = True\n",
    "e_tot"
   ]
  },
  {
   "cell_type": "code",
   "execution_count": null,
   "metadata": {},
   "outputs": [],
   "source": [
    "np.trace(dm_act_EMBEDDED@S)"
   ]
  },
  {
   "cell_type": "code",
   "execution_count": null,
   "metadata": {},
   "outputs": [],
   "source": [
    "embedded_wf = cc.CCSD(EMBEDDED_HF_full_system_scf).set(frozen = frozen_orbitals).run()\n",
    "correlation_energy = embedded_wf.e_corr\n",
    "correlation_energy"
   ]
  },
  {
   "cell_type": "code",
   "execution_count": null,
   "metadata": {},
   "outputs": [],
   "source": []
  },
  {
   "cell_type": "code",
   "execution_count": null,
   "metadata": {},
   "outputs": [],
   "source": []
  },
  {
   "cell_type": "code",
   "execution_count": null,
   "metadata": {},
   "outputs": [],
   "source": [
    "# uses new embedded density matrix!\n",
    "e_act_emb_NEW = matrix_dot(dm_act_EMBEDDED, h_core + 0.5 * J_emb - 0.25 * K_emb)\n",
    "# e_act_emb_NEW = matrix_dot(dm_act_EMBEDDED, h_core + 0.5 * vhf)\n",
    "e_act_emb_NEW"
   ]
  },
  {
   "cell_type": "code",
   "execution_count": null,
   "metadata": {},
   "outputs": [],
   "source": []
  },
  {
   "cell_type": "code",
   "execution_count": null,
   "metadata": {},
   "outputs": [],
   "source": [
    "E_corrected = (e_act_emb_NEW + E_env + two_e_cross + \n",
    "               full_system_scf.energy_nuc() + correction + correlation_energy) \n",
    "E_corrected"
   ]
  },
  {
   "cell_type": "code",
   "execution_count": null,
   "metadata": {},
   "outputs": [],
   "source": [
    "HF_scf = scf.RHF(full_system_mol)\n",
    "HF_scf.verbose=1\n",
    "HF_scf.max_memory= 8_000\n",
    "HF_scf.conv_tol = 1e-6\n",
    "HF_scf.xc = low_level_xc_functional_or_HF\n",
    "HF_scf.kernel()\n",
    "\n",
    "cisolver = fci.FCI(HF_scf)\n",
    "print('E(UHF-FCI) = %.12f' % cisolver.kernel()[0])\n",
    "\n",
    "# myci = ci.CISD(HF_scf).run() # this is UCISD\n",
    "# print('UCISD total energy = ', myci.e_tot)"
   ]
  },
  {
   "cell_type": "code",
   "execution_count": null,
   "metadata": {},
   "outputs": [],
   "source": []
  },
  {
   "cell_type": "code",
   "execution_count": null,
   "metadata": {},
   "outputs": [],
   "source": [
    "abs(myci.e_tot - e_mf_emb)"
   ]
  },
  {
   "cell_type": "code",
   "execution_count": null,
   "metadata": {},
   "outputs": [],
   "source": [
    "abs(myci.e_tot - E_corrected)"
   ]
  },
  {
   "cell_type": "code",
   "execution_count": null,
   "metadata": {},
   "outputs": [],
   "source": [
    "abs(myci.e_tot - (e_mf_emb + correlation_energy )) # not (what PsiEmbed does)"
   ]
  },
  {
   "cell_type": "code",
   "execution_count": null,
   "metadata": {},
   "outputs": [],
   "source": []
  },
  {
   "cell_type": "code",
   "execution_count": null,
   "metadata": {},
   "outputs": [],
   "source": [
    "full_system_mol = gto.Mole(atom= geometry,\n",
    "                      basis=basis,\n",
    "                       charge=0,\n",
    "                       #spin=0,\n",
    "                      )\n",
    "full_system_mol.build()\n",
    "full_system_mol.verbose = 1\n",
    "full_system_mol.max_memory = 8_000 #MB\n",
    "full_system_scf = scf.RKS(full_system_mol)\n",
    "full_system_scf.verbose=1\n",
    "full_system_scf.max_memory= 8_000\n",
    "full_system_scf.conv_tol = 1e-6\n",
    "full_system_scf.xc = high_level_xc_functional # <-- higher level DFT calc of supersystem!!!\n",
    "full_system_scf.kernel()\n",
    "\n",
    "full_system_scf.e_tot"
   ]
  },
  {
   "cell_type": "code",
   "execution_count": null,
   "metadata": {
    "scrolled": true
   },
   "outputs": [],
   "source": [
    "print(abs(full_system_scf.e_tot - e_mf_emb))\n",
    "print(abs(full_system_scf.e_tot - E_corrected))\n",
    "print(abs(full_system_scf.e_tot - (e_mf_emb + correlation_energy )))"
   ]
  },
  {
   "cell_type": "code",
   "execution_count": null,
   "metadata": {},
   "outputs": [],
   "source": []
  },
  {
   "cell_type": "code",
   "execution_count": null,
   "metadata": {},
   "outputs": [],
   "source": []
  },
  {
   "cell_type": "code",
   "execution_count": null,
   "metadata": {},
   "outputs": [],
   "source": [
    "fock = EMBEDDED_HF_full_system_scf.get_fock(h1e, s1e, vhf, dm_act_EMBEDDED)  # = h1e + vhf, no DIIS\n",
    "mo_energy, mo_coeff = EMBEDDED_HF_full_system_scf.eig(fock, s1e)\n",
    "\n",
    "# eig_val, eig_vec = eigh(fock)\n",
    "# eig_val"
   ]
  },
  {
   "cell_type": "code",
   "execution_count": null,
   "metadata": {},
   "outputs": [],
   "source": []
  },
  {
   "cell_type": "code",
   "execution_count": null,
   "metadata": {},
   "outputs": [],
   "source": [
    "# h_core + 0.5 * vhf"
   ]
  },
  {
   "cell_type": "markdown",
   "metadata": {},
   "source": [
    "# QC calc"
   ]
  },
  {
   "cell_type": "code",
   "execution_count": null,
   "metadata": {},
   "outputs": [],
   "source": [
    "# #2D array for one-body Hamiltonian (H_core) in the MO representation\n",
    "\n",
    "# EMBEDDED_Hcore =  EMBEDDED_HF_full_system_scf.get_hcore() # contains v_embedding!\n",
    "# canonical_orbitals  = EMBEDDED_HF_full_system_scf.mo_coeff \n",
    "\n",
    "\n",
    "# one_body_integrals = canonical_orbitals.conj().T @ EMBEDDED_Hcore @ canonical_orbitals\n",
    "# one_body_integrals.shape"
   ]
  },
  {
   "cell_type": "code",
   "execution_count": null,
   "metadata": {},
   "outputs": [],
   "source": [
    "#2D array for one-body Hamiltonian (H_core) in the MO representation\n",
    "\n",
    "EMBEDDED_Hcore =  h_core # does NOT!!!!!!! contain v_embedding!\n",
    "canonical_orbitals  = EMBEDDED_HF_full_system_scf.mo_coeff # <-- this is optimized wavefunction WITH embedded vhf\n",
    "\n",
    "\n",
    "one_body_integrals = canonical_orbitals.conj().T @ EMBEDDED_Hcore @ canonical_orbitals\n",
    "one_body_integrals.shape"
   ]
  },
  {
   "cell_type": "code",
   "execution_count": null,
   "metadata": {},
   "outputs": [],
   "source": [
    "# A 4-dimension array for electron repulsion integrals in the MO\n",
    "# representation.  The integrals are computed as\n",
    "# h[p,q,r,s]=\\int \\phi_p(x)* \\phi_q(y)* V_{elec-elec} \\phi_r(y) \\phi_s(x) dxdy\n",
    "from pyscf import ao2mo\n",
    "\n",
    "# eri = ao2mo.kernel(EMBEDDED_HF_full_system_scf, canonical_orbitals)\n",
    "\n",
    "eri = ao2mo.kernel(full_system_mol_EMBEDDED_HF, canonical_orbitals)\n",
    "n_orbitals = canonical_orbitals.shape[1]\n",
    "eri = ao2mo.restore(1, # no permutation symmetry\n",
    "                                eri, n_orbitals)\n",
    "\n",
    "\n",
    "two_body_integrals = np.asarray(eri.transpose(0, 2, 3, 1), order='C')\n",
    "two_body_integrals.shape"
   ]
  },
  {
   "cell_type": "code",
   "execution_count": null,
   "metadata": {},
   "outputs": [],
   "source": [
    "shift = full_system_mol.nbas - n_env_mos\n",
    "frozen_orbitals = [i for i in range(shift, full_system_mol.nbas)]\n",
    "\n",
    "# frozen_orbitals = enviro_ao_ind\n",
    "frozen_orbitals"
   ]
  },
  {
   "cell_type": "code",
   "execution_count": null,
   "metadata": {},
   "outputs": [],
   "source": [
    "# https://github.com/quantumlib/OpenFermion/blob/84d169b529a27a0cfd1cc41073d2665f1fcf0312/src/openfermion/ops/representations/interaction_operator.py#L210\n",
    "\n",
    "## define active space!\n",
    "\n",
    "active_indices = [i for i in range(0, shift)]\n",
    "occupied_indices = np.where(EMBEDDED_HF_full_system_scf.mo_occ>0)[0]\n",
    "\n",
    "# active_indices = active_ao_ind\n",
    "\n",
    "core_adjustment = 0.0\n",
    "for i in occupied_indices:\n",
    "    core_adjustment += 2 * one_body_integrals[i, i]\n",
    "    for j in occupied_indices:\n",
    "        core_adjustment += (2 * two_body_integrals[i, j, j, i] -\n",
    "                          two_body_integrals[i, j, i, j])\n",
    "\n",
    "# Modified one electron integrals\n",
    "one_body_integrals_new = np.copy(one_body_integrals)\n",
    "for u in active_indices:\n",
    "    for v in active_indices:\n",
    "        for i in occupied_indices:\n",
    "            one_body_integrals_new[u, v] += (\n",
    "                2 * two_body_integrals[i, u, v, i] -\n",
    "                two_body_integrals[i, u, i, v])\n",
    "\n",
    "# Restrict integral ranges and change M appropriately\n",
    "\n",
    "one_body_integrals_NEW = one_body_integrals_new[np.ix_(active_indices, active_indices)]\n",
    "\n",
    "two_body_integrals_NEW = two_body_integrals[np.ix_(active_indices, active_indices,\n",
    "                             active_indices, active_indices)]"
   ]
  },
  {
   "cell_type": "code",
   "execution_count": null,
   "metadata": {},
   "outputs": [],
   "source": [
    "def spinorb_from_spatial(one_body_integrals, two_body_integrals):\n",
    "    EQ_TOLERANCE=1e-8\n",
    "    n_qubits = 2 * one_body_integrals.shape[0]\n",
    "\n",
    "    # Initialize Hamiltonian coefficients.\n",
    "    one_body_coefficients = np.zeros((n_qubits, n_qubits))\n",
    "    two_body_coefficients = np.zeros(\n",
    "        (n_qubits, n_qubits, n_qubits, n_qubits))\n",
    "    # Loop through integrals.\n",
    "    for p in range(n_qubits // 2):\n",
    "        for q in range(n_qubits // 2):\n",
    "\n",
    "            # Populate 1-body coefficients. Require p and q have same spin.\n",
    "            one_body_coefficients[2 * p, 2 * q] = one_body_integrals[p, q]\n",
    "            one_body_coefficients[2 * p + 1, 2 * q +\n",
    "                                  1] = one_body_integrals[p, q]\n",
    "            # Continue looping to prepare 2-body coefficients.\n",
    "            for r in range(n_qubits // 2):\n",
    "                for s in range(n_qubits // 2):\n",
    "\n",
    "                    # Mixed spin\n",
    "                    two_body_coefficients[2 * p, 2 * q + 1, 2 * r + 1, 2 *\n",
    "                                          s] = (two_body_integrals[p, q, r, s])\n",
    "                    two_body_coefficients[2 * p + 1, 2 * q, 2 * r, 2 * s +\n",
    "                                          1] = (two_body_integrals[p, q, r, s])\n",
    "\n",
    "                    # Same spin\n",
    "                    two_body_coefficients[2 * p, 2 * q, 2 * r, 2 *\n",
    "                                          s] = (two_body_integrals[p, q, r, s])\n",
    "                    two_body_coefficients[2 * p + 1, 2 * q + 1, 2 * r +\n",
    "                                          1, 2 * s +\n",
    "                                          1] = (two_body_integrals[p, q, r, s])\n",
    "\n",
    "    # Truncate.\n",
    "    one_body_coefficients[\n",
    "        np.absolute(one_body_coefficients) < EQ_TOLERANCE] = 0.\n",
    "    two_body_coefficients[\n",
    "        np.absolute(two_body_coefficients) < EQ_TOLERANCE] = 0.\n",
    "\n",
    "    return one_body_coefficients, two_body_coefficients"
   ]
  },
  {
   "cell_type": "code",
   "execution_count": null,
   "metadata": {},
   "outputs": [],
   "source": [
    "one_body_coefficients, two_body_coefficients = spinorb_from_spatial(one_body_integrals_NEW, two_body_integrals_NEW)"
   ]
  },
  {
   "cell_type": "code",
   "execution_count": null,
   "metadata": {},
   "outputs": [],
   "source": [
    "# one_body_integrals_NEW =one_body_integrals\n",
    "# two_body_integrals_NEW =two_body_integrals"
   ]
  },
  {
   "cell_type": "code",
   "execution_count": null,
   "metadata": {},
   "outputs": [],
   "source": [
    "from openfermion.ops.representations import InteractionOperator\n",
    "\n",
    "constant = full_system_scf.energy_nuc() + core_adjustment\n",
    "\n",
    "molecular_hamiltonian = InteractionOperator(constant,\n",
    "                                            one_body_integrals_NEW,\n",
    "                                            1 / 2 * two_body_integrals_NEW)\n",
    "\n",
    "n_qubits = one_body_integrals_NEW.shape[0]"
   ]
  },
  {
   "cell_type": "code",
   "execution_count": null,
   "metadata": {},
   "outputs": [],
   "source": []
  },
  {
   "cell_type": "code",
   "execution_count": null,
   "metadata": {},
   "outputs": [],
   "source": [
    "from openfermion.transforms import jordan_wigner\n",
    "Qubit_Hamiltonian = jordan_wigner(molecular_hamiltonian)"
   ]
  },
  {
   "cell_type": "code",
   "execution_count": null,
   "metadata": {},
   "outputs": [],
   "source": [
    "len(list(Qubit_Hamiltonian))"
   ]
  },
  {
   "cell_type": "code",
   "execution_count": null,
   "metadata": {},
   "outputs": [],
   "source": [
    "from functools import reduce\n",
    "\n",
    "H_trimmed = [op for op in Qubit_Hamiltonian if list(op.terms.values())[0]>1e-5]\n",
    "# H_trimmed_op = reduce(lambda x,y: x+y, H_trimmed_op)\n",
    "len(H_trimmed)"
   ]
  },
  {
   "cell_type": "code",
   "execution_count": null,
   "metadata": {},
   "outputs": [],
   "source": [
    "from openfermion import QubitOperator\n",
    "H_trimmed_op = QubitOperator()\n",
    "for term in H_trimmed:\n",
    "    H_trimmed_op+=term"
   ]
  },
  {
   "cell_type": "code",
   "execution_count": null,
   "metadata": {},
   "outputs": [],
   "source": [
    "# H_matrix = get_sparse_operator(H_trimmed_op)"
   ]
  },
  {
   "cell_type": "code",
   "execution_count": null,
   "metadata": {},
   "outputs": [],
   "source": [
    "from tqdm.notebook import tqdm"
   ]
  },
  {
   "cell_type": "code",
   "execution_count": null,
   "metadata": {},
   "outputs": [],
   "source": [
    "Qubit_Hamiltonian"
   ]
  },
  {
   "cell_type": "code",
   "execution_count": null,
   "metadata": {},
   "outputs": [],
   "source": [
    "from openfermion import get_sparse_operator\n",
    "H_matrix = get_sparse_operator(Qubit_Hamiltonian)"
   ]
  },
  {
   "cell_type": "code",
   "execution_count": null,
   "metadata": {},
   "outputs": [],
   "source": [
    "Qubit_Hamiltonian"
   ]
  },
  {
   "cell_type": "code",
   "execution_count": null,
   "metadata": {},
   "outputs": [],
   "source": [
    "from scipy.linalg import eigh\n",
    "\n",
    "eig_val, eig_vec = eigh(H_matrix.todense())"
   ]
  },
  {
   "cell_type": "code",
   "execution_count": null,
   "metadata": {},
   "outputs": [],
   "source": [
    "min(eig_val)"
   ]
  },
  {
   "cell_type": "code",
   "execution_count": null,
   "metadata": {},
   "outputs": [],
   "source": [
    "idx = eig_val.argsort()   \n",
    "eigenValues = eig_val[idx]\n",
    "eigenVectors = eig_vec[:,idx]"
   ]
  },
  {
   "cell_type": "code",
   "execution_count": null,
   "metadata": {},
   "outputs": [],
   "source": [
    "WF_ground_state = eigenVectors[:, 0] \n",
    "\n",
    "dm_act_EMBEDDED_from_WF = 2 * np.outer(WF_ground_state, WF_ground_state)\n",
    "# np.trace(dm_act_EMBEDDED_from_WF@s1e)"
   ]
  },
  {
   "cell_type": "code",
   "execution_count": null,
   "metadata": {},
   "outputs": [],
   "source": [
    "dm_act_EMBEDDED_from_WF.shape"
   ]
  },
  {
   "cell_type": "code",
   "execution_count": null,
   "metadata": {},
   "outputs": [],
   "source": []
  },
  {
   "cell_type": "code",
   "execution_count": null,
   "metadata": {},
   "outputs": [],
   "source": [
    "E_WF_in_DFT = (min(eig_val) + E_env + two_e_cross + correction) \n",
    "E_WF_in_DFT"
   ]
  },
  {
   "cell_type": "code",
   "execution_count": null,
   "metadata": {},
   "outputs": [],
   "source": []
  },
  {
   "cell_type": "code",
   "execution_count": null,
   "metadata": {},
   "outputs": [],
   "source": [
    "E_final = (eigenVectors[:, 0].conj().T  @ H_matrix.toarray() @  eigenVectors[:, 0]  +\n",
    "           E_env + two_e_cross + correction)\n",
    "E_final"
   ]
  },
  {
   "cell_type": "code",
   "execution_count": null,
   "metadata": {},
   "outputs": [],
   "source": []
  },
  {
   "cell_type": "code",
   "execution_count": null,
   "metadata": {},
   "outputs": [],
   "source": [
    "print(abs(myci.e_tot - E_final))"
   ]
  },
  {
   "cell_type": "code",
   "execution_count": null,
   "metadata": {},
   "outputs": [],
   "source": []
  },
  {
   "cell_type": "code",
   "execution_count": null,
   "metadata": {},
   "outputs": [],
   "source": []
  },
  {
   "cell_type": "markdown",
   "metadata": {},
   "source": [
    "1. Global calc\n",
    "\n",
    "\n",
    "2. localize orbitals\n",
    "    - SPADE\n",
    "    - PM\n",
    "    \n",
    "3. define active system and enirvo\n",
    "4. Define V_emb\n",
    "5. Find gamma_active_EMBEDDED\n",
    "6. Calculate Energy of A with gamma_active_EMBEDDED"
   ]
  }
 ],
 "metadata": {
  "kernelspec": {
   "display_name": "Python 3",
   "language": "python",
   "name": "python3"
  },
  "language_info": {
   "codemirror_mode": {
    "name": "ipython",
    "version": 3
   },
   "file_extension": ".py",
   "mimetype": "text/x-python",
   "name": "python",
   "nbconvert_exporter": "python",
   "pygments_lexer": "ipython3",
   "version": "3.7.6"
  }
 },
 "nbformat": 4,
 "nbformat_minor": 4
}
