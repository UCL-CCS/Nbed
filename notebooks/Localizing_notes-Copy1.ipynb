{
 "cells": [
  {
   "cell_type": "code",
   "execution_count": 1,
   "metadata": {},
   "outputs": [],
   "source": [
    "import scipy as sp\n",
    "from pyscf import gto, dft, lib, mp, cc, scf, tools, ci, fci"
   ]
  },
  {
   "cell_type": "code",
   "execution_count": 2,
   "metadata": {},
   "outputs": [],
   "source": [
    "import numpy as np\n",
    "import sys\n",
    "sys.path.append( './src/' )"
   ]
  },
  {
   "cell_type": "code",
   "execution_count": 3,
   "metadata": {},
   "outputs": [],
   "source": [
    "matrix_dot = lambda A, B: np.einsum('ij,ij', A, B)"
   ]
  },
  {
   "cell_type": "code",
   "execution_count": null,
   "metadata": {},
   "outputs": [],
   "source": []
  },
  {
   "cell_type": "code",
   "execution_count": 4,
   "metadata": {},
   "outputs": [],
   "source": [
    "# H    0.7493682,0.0000000,0.4424329\n",
    "# O    0.0000000,0.0000000,-0.1653507\n",
    "# H   -0.7493682,0.0000000,0.4424329"
   ]
  },
  {
   "cell_type": "markdown",
   "metadata": {},
   "source": [
    "# Define Molecule \n",
    "\n",
    "- Note first N atoms will be the ACTIVE portion of the molecule\n",
    "- the remaining atoms will be the environment"
   ]
  },
  {
   "cell_type": "code",
   "execution_count": 113,
   "metadata": {},
   "outputs": [],
   "source": [
    "geometry = [\n",
    "['H@1', (0.7493682,0.0000000,0.4424329)],\n",
    "['O@1', (0.0000000,0.0000000,-0.1653507)],\n",
    "    \n",
    "['H#', (-0.7493682,0.0000000,0.4424329)]\n",
    "]\n",
    "\n",
    "# geometry = [\n",
    "# ['Be@1', (0.0000000,0.0000000,0.0000000)],\n",
    "# ['H@1', (0.0000000,0.0000000,+1)],\n",
    "    \n",
    "# ['H#', (0.0000000,0.0000000,-1)]\n",
    "# ]"
   ]
  },
  {
   "cell_type": "code",
   "execution_count": 114,
   "metadata": {},
   "outputs": [
    {
     "data": {
      "application/javascript": [
       "/* Put everything inside the global mpl namespace */\n",
       "window.mpl = {};\n",
       "\n",
       "\n",
       "mpl.get_websocket_type = function() {\n",
       "    if (typeof(WebSocket) !== 'undefined') {\n",
       "        return WebSocket;\n",
       "    } else if (typeof(MozWebSocket) !== 'undefined') {\n",
       "        return MozWebSocket;\n",
       "    } else {\n",
       "        alert('Your browser does not have WebSocket support. ' +\n",
       "              'Please try Chrome, Safari or Firefox ≥ 6. ' +\n",
       "              'Firefox 4 and 5 are also supported but you ' +\n",
       "              'have to enable WebSockets in about:config.');\n",
       "    };\n",
       "}\n",
       "\n",
       "mpl.figure = function(figure_id, websocket, ondownload, parent_element) {\n",
       "    this.id = figure_id;\n",
       "\n",
       "    this.ws = websocket;\n",
       "\n",
       "    this.supports_binary = (this.ws.binaryType != undefined);\n",
       "\n",
       "    if (!this.supports_binary) {\n",
       "        var warnings = document.getElementById(\"mpl-warnings\");\n",
       "        if (warnings) {\n",
       "            warnings.style.display = 'block';\n",
       "            warnings.textContent = (\n",
       "                \"This browser does not support binary websocket messages. \" +\n",
       "                    \"Performance may be slow.\");\n",
       "        }\n",
       "    }\n",
       "\n",
       "    this.imageObj = new Image();\n",
       "\n",
       "    this.context = undefined;\n",
       "    this.message = undefined;\n",
       "    this.canvas = undefined;\n",
       "    this.rubberband_canvas = undefined;\n",
       "    this.rubberband_context = undefined;\n",
       "    this.format_dropdown = undefined;\n",
       "\n",
       "    this.image_mode = 'full';\n",
       "\n",
       "    this.root = $('<div/>');\n",
       "    this._root_extra_style(this.root)\n",
       "    this.root.attr('style', 'display: inline-block');\n",
       "\n",
       "    $(parent_element).append(this.root);\n",
       "\n",
       "    this._init_header(this);\n",
       "    this._init_canvas(this);\n",
       "    this._init_toolbar(this);\n",
       "\n",
       "    var fig = this;\n",
       "\n",
       "    this.waiting = false;\n",
       "\n",
       "    this.ws.onopen =  function () {\n",
       "            fig.send_message(\"supports_binary\", {value: fig.supports_binary});\n",
       "            fig.send_message(\"send_image_mode\", {});\n",
       "            if (mpl.ratio != 1) {\n",
       "                fig.send_message(\"set_dpi_ratio\", {'dpi_ratio': mpl.ratio});\n",
       "            }\n",
       "            fig.send_message(\"refresh\", {});\n",
       "        }\n",
       "\n",
       "    this.imageObj.onload = function() {\n",
       "            if (fig.image_mode == 'full') {\n",
       "                // Full images could contain transparency (where diff images\n",
       "                // almost always do), so we need to clear the canvas so that\n",
       "                // there is no ghosting.\n",
       "                fig.context.clearRect(0, 0, fig.canvas.width, fig.canvas.height);\n",
       "            }\n",
       "            fig.context.drawImage(fig.imageObj, 0, 0);\n",
       "        };\n",
       "\n",
       "    this.imageObj.onunload = function() {\n",
       "        fig.ws.close();\n",
       "    }\n",
       "\n",
       "    this.ws.onmessage = this._make_on_message_function(this);\n",
       "\n",
       "    this.ondownload = ondownload;\n",
       "}\n",
       "\n",
       "mpl.figure.prototype._init_header = function() {\n",
       "    var titlebar = $(\n",
       "        '<div class=\"ui-dialog-titlebar ui-widget-header ui-corner-all ' +\n",
       "        'ui-helper-clearfix\"/>');\n",
       "    var titletext = $(\n",
       "        '<div class=\"ui-dialog-title\" style=\"width: 100%; ' +\n",
       "        'text-align: center; padding: 3px;\"/>');\n",
       "    titlebar.append(titletext)\n",
       "    this.root.append(titlebar);\n",
       "    this.header = titletext[0];\n",
       "}\n",
       "\n",
       "\n",
       "\n",
       "mpl.figure.prototype._canvas_extra_style = function(canvas_div) {\n",
       "\n",
       "}\n",
       "\n",
       "\n",
       "mpl.figure.prototype._root_extra_style = function(canvas_div) {\n",
       "\n",
       "}\n",
       "\n",
       "mpl.figure.prototype._init_canvas = function() {\n",
       "    var fig = this;\n",
       "\n",
       "    var canvas_div = $('<div/>');\n",
       "\n",
       "    canvas_div.attr('style', 'position: relative; clear: both; outline: 0');\n",
       "\n",
       "    function canvas_keyboard_event(event) {\n",
       "        return fig.key_event(event, event['data']);\n",
       "    }\n",
       "\n",
       "    canvas_div.keydown('key_press', canvas_keyboard_event);\n",
       "    canvas_div.keyup('key_release', canvas_keyboard_event);\n",
       "    this.canvas_div = canvas_div\n",
       "    this._canvas_extra_style(canvas_div)\n",
       "    this.root.append(canvas_div);\n",
       "\n",
       "    var canvas = $('<canvas/>');\n",
       "    canvas.addClass('mpl-canvas');\n",
       "    canvas.attr('style', \"left: 0; top: 0; z-index: 0; outline: 0\")\n",
       "\n",
       "    this.canvas = canvas[0];\n",
       "    this.context = canvas[0].getContext(\"2d\");\n",
       "\n",
       "    var backingStore = this.context.backingStorePixelRatio ||\n",
       "\tthis.context.webkitBackingStorePixelRatio ||\n",
       "\tthis.context.mozBackingStorePixelRatio ||\n",
       "\tthis.context.msBackingStorePixelRatio ||\n",
       "\tthis.context.oBackingStorePixelRatio ||\n",
       "\tthis.context.backingStorePixelRatio || 1;\n",
       "\n",
       "    mpl.ratio = (window.devicePixelRatio || 1) / backingStore;\n",
       "\n",
       "    var rubberband = $('<canvas/>');\n",
       "    rubberband.attr('style', \"position: absolute; left: 0; top: 0; z-index: 1;\")\n",
       "\n",
       "    var pass_mouse_events = true;\n",
       "\n",
       "    canvas_div.resizable({\n",
       "        start: function(event, ui) {\n",
       "            pass_mouse_events = false;\n",
       "        },\n",
       "        resize: function(event, ui) {\n",
       "            fig.request_resize(ui.size.width, ui.size.height);\n",
       "        },\n",
       "        stop: function(event, ui) {\n",
       "            pass_mouse_events = true;\n",
       "            fig.request_resize(ui.size.width, ui.size.height);\n",
       "        },\n",
       "    });\n",
       "\n",
       "    function mouse_event_fn(event) {\n",
       "        if (pass_mouse_events)\n",
       "            return fig.mouse_event(event, event['data']);\n",
       "    }\n",
       "\n",
       "    rubberband.mousedown('button_press', mouse_event_fn);\n",
       "    rubberband.mouseup('button_release', mouse_event_fn);\n",
       "    // Throttle sequential mouse events to 1 every 20ms.\n",
       "    rubberband.mousemove('motion_notify', mouse_event_fn);\n",
       "\n",
       "    rubberband.mouseenter('figure_enter', mouse_event_fn);\n",
       "    rubberband.mouseleave('figure_leave', mouse_event_fn);\n",
       "\n",
       "    canvas_div.on(\"wheel\", function (event) {\n",
       "        event = event.originalEvent;\n",
       "        event['data'] = 'scroll'\n",
       "        if (event.deltaY < 0) {\n",
       "            event.step = 1;\n",
       "        } else {\n",
       "            event.step = -1;\n",
       "        }\n",
       "        mouse_event_fn(event);\n",
       "    });\n",
       "\n",
       "    canvas_div.append(canvas);\n",
       "    canvas_div.append(rubberband);\n",
       "\n",
       "    this.rubberband = rubberband;\n",
       "    this.rubberband_canvas = rubberband[0];\n",
       "    this.rubberband_context = rubberband[0].getContext(\"2d\");\n",
       "    this.rubberband_context.strokeStyle = \"#000000\";\n",
       "\n",
       "    this._resize_canvas = function(width, height) {\n",
       "        // Keep the size of the canvas, canvas container, and rubber band\n",
       "        // canvas in synch.\n",
       "        canvas_div.css('width', width)\n",
       "        canvas_div.css('height', height)\n",
       "\n",
       "        canvas.attr('width', width * mpl.ratio);\n",
       "        canvas.attr('height', height * mpl.ratio);\n",
       "        canvas.attr('style', 'width: ' + width + 'px; height: ' + height + 'px;');\n",
       "\n",
       "        rubberband.attr('width', width);\n",
       "        rubberband.attr('height', height);\n",
       "    }\n",
       "\n",
       "    // Set the figure to an initial 600x600px, this will subsequently be updated\n",
       "    // upon first draw.\n",
       "    this._resize_canvas(600, 600);\n",
       "\n",
       "    // Disable right mouse context menu.\n",
       "    $(this.rubberband_canvas).bind(\"contextmenu\",function(e){\n",
       "        return false;\n",
       "    });\n",
       "\n",
       "    function set_focus () {\n",
       "        canvas.focus();\n",
       "        canvas_div.focus();\n",
       "    }\n",
       "\n",
       "    window.setTimeout(set_focus, 100);\n",
       "}\n",
       "\n",
       "mpl.figure.prototype._init_toolbar = function() {\n",
       "    var fig = this;\n",
       "\n",
       "    var nav_element = $('<div/>');\n",
       "    nav_element.attr('style', 'width: 100%');\n",
       "    this.root.append(nav_element);\n",
       "\n",
       "    // Define a callback function for later on.\n",
       "    function toolbar_event(event) {\n",
       "        return fig.toolbar_button_onclick(event['data']);\n",
       "    }\n",
       "    function toolbar_mouse_event(event) {\n",
       "        return fig.toolbar_button_onmouseover(event['data']);\n",
       "    }\n",
       "\n",
       "    for(var toolbar_ind in mpl.toolbar_items) {\n",
       "        var name = mpl.toolbar_items[toolbar_ind][0];\n",
       "        var tooltip = mpl.toolbar_items[toolbar_ind][1];\n",
       "        var image = mpl.toolbar_items[toolbar_ind][2];\n",
       "        var method_name = mpl.toolbar_items[toolbar_ind][3];\n",
       "\n",
       "        if (!name) {\n",
       "            // put a spacer in here.\n",
       "            continue;\n",
       "        }\n",
       "        var button = $('<button/>');\n",
       "        button.addClass('ui-button ui-widget ui-state-default ui-corner-all ' +\n",
       "                        'ui-button-icon-only');\n",
       "        button.attr('role', 'button');\n",
       "        button.attr('aria-disabled', 'false');\n",
       "        button.click(method_name, toolbar_event);\n",
       "        button.mouseover(tooltip, toolbar_mouse_event);\n",
       "\n",
       "        var icon_img = $('<span/>');\n",
       "        icon_img.addClass('ui-button-icon-primary ui-icon');\n",
       "        icon_img.addClass(image);\n",
       "        icon_img.addClass('ui-corner-all');\n",
       "\n",
       "        var tooltip_span = $('<span/>');\n",
       "        tooltip_span.addClass('ui-button-text');\n",
       "        tooltip_span.html(tooltip);\n",
       "\n",
       "        button.append(icon_img);\n",
       "        button.append(tooltip_span);\n",
       "\n",
       "        nav_element.append(button);\n",
       "    }\n",
       "\n",
       "    var fmt_picker_span = $('<span/>');\n",
       "\n",
       "    var fmt_picker = $('<select/>');\n",
       "    fmt_picker.addClass('mpl-toolbar-option ui-widget ui-widget-content');\n",
       "    fmt_picker_span.append(fmt_picker);\n",
       "    nav_element.append(fmt_picker_span);\n",
       "    this.format_dropdown = fmt_picker[0];\n",
       "\n",
       "    for (var ind in mpl.extensions) {\n",
       "        var fmt = mpl.extensions[ind];\n",
       "        var option = $(\n",
       "            '<option/>', {selected: fmt === mpl.default_extension}).html(fmt);\n",
       "        fmt_picker.append(option);\n",
       "    }\n",
       "\n",
       "    // Add hover states to the ui-buttons\n",
       "    $( \".ui-button\" ).hover(\n",
       "        function() { $(this).addClass(\"ui-state-hover\");},\n",
       "        function() { $(this).removeClass(\"ui-state-hover\");}\n",
       "    );\n",
       "\n",
       "    var status_bar = $('<span class=\"mpl-message\"/>');\n",
       "    nav_element.append(status_bar);\n",
       "    this.message = status_bar[0];\n",
       "}\n",
       "\n",
       "mpl.figure.prototype.request_resize = function(x_pixels, y_pixels) {\n",
       "    // Request matplotlib to resize the figure. Matplotlib will then trigger a resize in the client,\n",
       "    // which will in turn request a refresh of the image.\n",
       "    this.send_message('resize', {'width': x_pixels, 'height': y_pixels});\n",
       "}\n",
       "\n",
       "mpl.figure.prototype.send_message = function(type, properties) {\n",
       "    properties['type'] = type;\n",
       "    properties['figure_id'] = this.id;\n",
       "    this.ws.send(JSON.stringify(properties));\n",
       "}\n",
       "\n",
       "mpl.figure.prototype.send_draw_message = function() {\n",
       "    if (!this.waiting) {\n",
       "        this.waiting = true;\n",
       "        this.ws.send(JSON.stringify({type: \"draw\", figure_id: this.id}));\n",
       "    }\n",
       "}\n",
       "\n",
       "\n",
       "mpl.figure.prototype.handle_save = function(fig, msg) {\n",
       "    var format_dropdown = fig.format_dropdown;\n",
       "    var format = format_dropdown.options[format_dropdown.selectedIndex].value;\n",
       "    fig.ondownload(fig, format);\n",
       "}\n",
       "\n",
       "\n",
       "mpl.figure.prototype.handle_resize = function(fig, msg) {\n",
       "    var size = msg['size'];\n",
       "    if (size[0] != fig.canvas.width || size[1] != fig.canvas.height) {\n",
       "        fig._resize_canvas(size[0], size[1]);\n",
       "        fig.send_message(\"refresh\", {});\n",
       "    };\n",
       "}\n",
       "\n",
       "mpl.figure.prototype.handle_rubberband = function(fig, msg) {\n",
       "    var x0 = msg['x0'] / mpl.ratio;\n",
       "    var y0 = (fig.canvas.height - msg['y0']) / mpl.ratio;\n",
       "    var x1 = msg['x1'] / mpl.ratio;\n",
       "    var y1 = (fig.canvas.height - msg['y1']) / mpl.ratio;\n",
       "    x0 = Math.floor(x0) + 0.5;\n",
       "    y0 = Math.floor(y0) + 0.5;\n",
       "    x1 = Math.floor(x1) + 0.5;\n",
       "    y1 = Math.floor(y1) + 0.5;\n",
       "    var min_x = Math.min(x0, x1);\n",
       "    var min_y = Math.min(y0, y1);\n",
       "    var width = Math.abs(x1 - x0);\n",
       "    var height = Math.abs(y1 - y0);\n",
       "\n",
       "    fig.rubberband_context.clearRect(\n",
       "        0, 0, fig.canvas.width / mpl.ratio, fig.canvas.height / mpl.ratio);\n",
       "\n",
       "    fig.rubberband_context.strokeRect(min_x, min_y, width, height);\n",
       "}\n",
       "\n",
       "mpl.figure.prototype.handle_figure_label = function(fig, msg) {\n",
       "    // Updates the figure title.\n",
       "    fig.header.textContent = msg['label'];\n",
       "}\n",
       "\n",
       "mpl.figure.prototype.handle_cursor = function(fig, msg) {\n",
       "    var cursor = msg['cursor'];\n",
       "    switch(cursor)\n",
       "    {\n",
       "    case 0:\n",
       "        cursor = 'pointer';\n",
       "        break;\n",
       "    case 1:\n",
       "        cursor = 'default';\n",
       "        break;\n",
       "    case 2:\n",
       "        cursor = 'crosshair';\n",
       "        break;\n",
       "    case 3:\n",
       "        cursor = 'move';\n",
       "        break;\n",
       "    }\n",
       "    fig.rubberband_canvas.style.cursor = cursor;\n",
       "}\n",
       "\n",
       "mpl.figure.prototype.handle_message = function(fig, msg) {\n",
       "    fig.message.textContent = msg['message'];\n",
       "}\n",
       "\n",
       "mpl.figure.prototype.handle_draw = function(fig, msg) {\n",
       "    // Request the server to send over a new figure.\n",
       "    fig.send_draw_message();\n",
       "}\n",
       "\n",
       "mpl.figure.prototype.handle_image_mode = function(fig, msg) {\n",
       "    fig.image_mode = msg['mode'];\n",
       "}\n",
       "\n",
       "mpl.figure.prototype.updated_canvas_event = function() {\n",
       "    // Called whenever the canvas gets updated.\n",
       "    this.send_message(\"ack\", {});\n",
       "}\n",
       "\n",
       "// A function to construct a web socket function for onmessage handling.\n",
       "// Called in the figure constructor.\n",
       "mpl.figure.prototype._make_on_message_function = function(fig) {\n",
       "    return function socket_on_message(evt) {\n",
       "        if (evt.data instanceof Blob) {\n",
       "            /* FIXME: We get \"Resource interpreted as Image but\n",
       "             * transferred with MIME type text/plain:\" errors on\n",
       "             * Chrome.  But how to set the MIME type?  It doesn't seem\n",
       "             * to be part of the websocket stream */\n",
       "            evt.data.type = \"image/png\";\n",
       "\n",
       "            /* Free the memory for the previous frames */\n",
       "            if (fig.imageObj.src) {\n",
       "                (window.URL || window.webkitURL).revokeObjectURL(\n",
       "                    fig.imageObj.src);\n",
       "            }\n",
       "\n",
       "            fig.imageObj.src = (window.URL || window.webkitURL).createObjectURL(\n",
       "                evt.data);\n",
       "            fig.updated_canvas_event();\n",
       "            fig.waiting = false;\n",
       "            return;\n",
       "        }\n",
       "        else if (typeof evt.data === 'string' && evt.data.slice(0, 21) == \"data:image/png;base64\") {\n",
       "            fig.imageObj.src = evt.data;\n",
       "            fig.updated_canvas_event();\n",
       "            fig.waiting = false;\n",
       "            return;\n",
       "        }\n",
       "\n",
       "        var msg = JSON.parse(evt.data);\n",
       "        var msg_type = msg['type'];\n",
       "\n",
       "        // Call the  \"handle_{type}\" callback, which takes\n",
       "        // the figure and JSON message as its only arguments.\n",
       "        try {\n",
       "            var callback = fig[\"handle_\" + msg_type];\n",
       "        } catch (e) {\n",
       "            console.log(\"No handler for the '\" + msg_type + \"' message type: \", msg);\n",
       "            return;\n",
       "        }\n",
       "\n",
       "        if (callback) {\n",
       "            try {\n",
       "                // console.log(\"Handling '\" + msg_type + \"' message: \", msg);\n",
       "                callback(fig, msg);\n",
       "            } catch (e) {\n",
       "                console.log(\"Exception inside the 'handler_\" + msg_type + \"' callback:\", e, e.stack, msg);\n",
       "            }\n",
       "        }\n",
       "    };\n",
       "}\n",
       "\n",
       "// from http://stackoverflow.com/questions/1114465/getting-mouse-location-in-canvas\n",
       "mpl.findpos = function(e) {\n",
       "    //this section is from http://www.quirksmode.org/js/events_properties.html\n",
       "    var targ;\n",
       "    if (!e)\n",
       "        e = window.event;\n",
       "    if (e.target)\n",
       "        targ = e.target;\n",
       "    else if (e.srcElement)\n",
       "        targ = e.srcElement;\n",
       "    if (targ.nodeType == 3) // defeat Safari bug\n",
       "        targ = targ.parentNode;\n",
       "\n",
       "    // jQuery normalizes the pageX and pageY\n",
       "    // pageX,Y are the mouse positions relative to the document\n",
       "    // offset() returns the position of the element relative to the document\n",
       "    var x = e.pageX - $(targ).offset().left;\n",
       "    var y = e.pageY - $(targ).offset().top;\n",
       "\n",
       "    return {\"x\": x, \"y\": y};\n",
       "};\n",
       "\n",
       "/*\n",
       " * return a copy of an object with only non-object keys\n",
       " * we need this to avoid circular references\n",
       " * http://stackoverflow.com/a/24161582/3208463\n",
       " */\n",
       "function simpleKeys (original) {\n",
       "  return Object.keys(original).reduce(function (obj, key) {\n",
       "    if (typeof original[key] !== 'object')\n",
       "        obj[key] = original[key]\n",
       "    return obj;\n",
       "  }, {});\n",
       "}\n",
       "\n",
       "mpl.figure.prototype.mouse_event = function(event, name) {\n",
       "    var canvas_pos = mpl.findpos(event)\n",
       "\n",
       "    if (name === 'button_press')\n",
       "    {\n",
       "        this.canvas.focus();\n",
       "        this.canvas_div.focus();\n",
       "    }\n",
       "\n",
       "    var x = canvas_pos.x * mpl.ratio;\n",
       "    var y = canvas_pos.y * mpl.ratio;\n",
       "\n",
       "    this.send_message(name, {x: x, y: y, button: event.button,\n",
       "                             step: event.step,\n",
       "                             guiEvent: simpleKeys(event)});\n",
       "\n",
       "    /* This prevents the web browser from automatically changing to\n",
       "     * the text insertion cursor when the button is pressed.  We want\n",
       "     * to control all of the cursor setting manually through the\n",
       "     * 'cursor' event from matplotlib */\n",
       "    event.preventDefault();\n",
       "    return false;\n",
       "}\n",
       "\n",
       "mpl.figure.prototype._key_event_extra = function(event, name) {\n",
       "    // Handle any extra behaviour associated with a key event\n",
       "}\n",
       "\n",
       "mpl.figure.prototype.key_event = function(event, name) {\n",
       "\n",
       "    // Prevent repeat events\n",
       "    if (name == 'key_press')\n",
       "    {\n",
       "        if (event.which === this._key)\n",
       "            return;\n",
       "        else\n",
       "            this._key = event.which;\n",
       "    }\n",
       "    if (name == 'key_release')\n",
       "        this._key = null;\n",
       "\n",
       "    var value = '';\n",
       "    if (event.ctrlKey && event.which != 17)\n",
       "        value += \"ctrl+\";\n",
       "    if (event.altKey && event.which != 18)\n",
       "        value += \"alt+\";\n",
       "    if (event.shiftKey && event.which != 16)\n",
       "        value += \"shift+\";\n",
       "\n",
       "    value += 'k';\n",
       "    value += event.which.toString();\n",
       "\n",
       "    this._key_event_extra(event, name);\n",
       "\n",
       "    this.send_message(name, {key: value,\n",
       "                             guiEvent: simpleKeys(event)});\n",
       "    return false;\n",
       "}\n",
       "\n",
       "mpl.figure.prototype.toolbar_button_onclick = function(name) {\n",
       "    if (name == 'download') {\n",
       "        this.handle_save(this, null);\n",
       "    } else {\n",
       "        this.send_message(\"toolbar_button\", {name: name});\n",
       "    }\n",
       "};\n",
       "\n",
       "mpl.figure.prototype.toolbar_button_onmouseover = function(tooltip) {\n",
       "    this.message.textContent = tooltip;\n",
       "};\n",
       "mpl.toolbar_items = [[\"Home\", \"Reset original view\", \"fa fa-home icon-home\", \"home\"], [\"Back\", \"Back to previous view\", \"fa fa-arrow-left icon-arrow-left\", \"back\"], [\"Forward\", \"Forward to next view\", \"fa fa-arrow-right icon-arrow-right\", \"forward\"], [\"\", \"\", \"\", \"\"], [\"Pan\", \"Pan axes with left mouse, zoom with right\", \"fa fa-arrows icon-move\", \"pan\"], [\"Zoom\", \"Zoom to rectangle\", \"fa fa-square-o icon-check-empty\", \"zoom\"], [\"\", \"\", \"\", \"\"], [\"Download\", \"Download plot\", \"fa fa-floppy-o icon-save\", \"download\"]];\n",
       "\n",
       "mpl.extensions = [\"eps\", \"jpeg\", \"pdf\", \"png\", \"ps\", \"raw\", \"svg\", \"tif\"];\n",
       "\n",
       "mpl.default_extension = \"png\";var comm_websocket_adapter = function(comm) {\n",
       "    // Create a \"websocket\"-like object which calls the given IPython comm\n",
       "    // object with the appropriate methods. Currently this is a non binary\n",
       "    // socket, so there is still some room for performance tuning.\n",
       "    var ws = {};\n",
       "\n",
       "    ws.close = function() {\n",
       "        comm.close()\n",
       "    };\n",
       "    ws.send = function(m) {\n",
       "        //console.log('sending', m);\n",
       "        comm.send(m);\n",
       "    };\n",
       "    // Register the callback with on_msg.\n",
       "    comm.on_msg(function(msg) {\n",
       "        //console.log('receiving', msg['content']['data'], msg);\n",
       "        // Pass the mpl event to the overridden (by mpl) onmessage function.\n",
       "        ws.onmessage(msg['content']['data'])\n",
       "    });\n",
       "    return ws;\n",
       "}\n",
       "\n",
       "mpl.mpl_figure_comm = function(comm, msg) {\n",
       "    // This is the function which gets called when the mpl process\n",
       "    // starts-up an IPython Comm through the \"matplotlib\" channel.\n",
       "\n",
       "    var id = msg.content.data.id;\n",
       "    // Get hold of the div created by the display call when the Comm\n",
       "    // socket was opened in Python.\n",
       "    var element = $(\"#\" + id);\n",
       "    var ws_proxy = comm_websocket_adapter(comm)\n",
       "\n",
       "    function ondownload(figure, format) {\n",
       "        window.open(figure.imageObj.src);\n",
       "    }\n",
       "\n",
       "    var fig = new mpl.figure(id, ws_proxy,\n",
       "                           ondownload,\n",
       "                           element.get(0));\n",
       "\n",
       "    // Call onopen now - mpl needs it, as it is assuming we've passed it a real\n",
       "    // web socket which is closed, not our websocket->open comm proxy.\n",
       "    ws_proxy.onopen();\n",
       "\n",
       "    fig.parent_element = element.get(0);\n",
       "    fig.cell_info = mpl.find_output_cell(\"<div id='\" + id + \"'></div>\");\n",
       "    if (!fig.cell_info) {\n",
       "        console.error(\"Failed to find cell for figure\", id, fig);\n",
       "        return;\n",
       "    }\n",
       "\n",
       "    var output_index = fig.cell_info[2]\n",
       "    var cell = fig.cell_info[0];\n",
       "\n",
       "};\n",
       "\n",
       "mpl.figure.prototype.handle_close = function(fig, msg) {\n",
       "    var width = fig.canvas.width/mpl.ratio\n",
       "    fig.root.unbind('remove')\n",
       "\n",
       "    // Update the output cell to use the data from the current canvas.\n",
       "    fig.push_to_output();\n",
       "    var dataURL = fig.canvas.toDataURL();\n",
       "    // Re-enable the keyboard manager in IPython - without this line, in FF,\n",
       "    // the notebook keyboard shortcuts fail.\n",
       "    IPython.keyboard_manager.enable()\n",
       "    $(fig.parent_element).html('<img src=\"' + dataURL + '\" width=\"' + width + '\">');\n",
       "    fig.close_ws(fig, msg);\n",
       "}\n",
       "\n",
       "mpl.figure.prototype.close_ws = function(fig, msg){\n",
       "    fig.send_message('closing', msg);\n",
       "    // fig.ws.close()\n",
       "}\n",
       "\n",
       "mpl.figure.prototype.push_to_output = function(remove_interactive) {\n",
       "    // Turn the data on the canvas into data in the output cell.\n",
       "    var width = this.canvas.width/mpl.ratio\n",
       "    var dataURL = this.canvas.toDataURL();\n",
       "    this.cell_info[1]['text/html'] = '<img src=\"' + dataURL + '\" width=\"' + width + '\">';\n",
       "}\n",
       "\n",
       "mpl.figure.prototype.updated_canvas_event = function() {\n",
       "    // Tell IPython that the notebook contents must change.\n",
       "    IPython.notebook.set_dirty(true);\n",
       "    this.send_message(\"ack\", {});\n",
       "    var fig = this;\n",
       "    // Wait a second, then push the new image to the DOM so\n",
       "    // that it is saved nicely (might be nice to debounce this).\n",
       "    setTimeout(function () { fig.push_to_output() }, 1000);\n",
       "}\n",
       "\n",
       "mpl.figure.prototype._init_toolbar = function() {\n",
       "    var fig = this;\n",
       "\n",
       "    var nav_element = $('<div/>');\n",
       "    nav_element.attr('style', 'width: 100%');\n",
       "    this.root.append(nav_element);\n",
       "\n",
       "    // Define a callback function for later on.\n",
       "    function toolbar_event(event) {\n",
       "        return fig.toolbar_button_onclick(event['data']);\n",
       "    }\n",
       "    function toolbar_mouse_event(event) {\n",
       "        return fig.toolbar_button_onmouseover(event['data']);\n",
       "    }\n",
       "\n",
       "    for(var toolbar_ind in mpl.toolbar_items){\n",
       "        var name = mpl.toolbar_items[toolbar_ind][0];\n",
       "        var tooltip = mpl.toolbar_items[toolbar_ind][1];\n",
       "        var image = mpl.toolbar_items[toolbar_ind][2];\n",
       "        var method_name = mpl.toolbar_items[toolbar_ind][3];\n",
       "\n",
       "        if (!name) { continue; };\n",
       "\n",
       "        var button = $('<button class=\"btn btn-default\" href=\"#\" title=\"' + name + '\"><i class=\"fa ' + image + ' fa-lg\"></i></button>');\n",
       "        button.click(method_name, toolbar_event);\n",
       "        button.mouseover(tooltip, toolbar_mouse_event);\n",
       "        nav_element.append(button);\n",
       "    }\n",
       "\n",
       "    // Add the status bar.\n",
       "    var status_bar = $('<span class=\"mpl-message\" style=\"text-align:right; float: right;\"/>');\n",
       "    nav_element.append(status_bar);\n",
       "    this.message = status_bar[0];\n",
       "\n",
       "    // Add the close button to the window.\n",
       "    var buttongrp = $('<div class=\"btn-group inline pull-right\"></div>');\n",
       "    var button = $('<button class=\"btn btn-mini btn-primary\" href=\"#\" title=\"Stop Interaction\"><i class=\"fa fa-power-off icon-remove icon-large\"></i></button>');\n",
       "    button.click(function (evt) { fig.handle_close(fig, {}); } );\n",
       "    button.mouseover('Stop Interaction', toolbar_mouse_event);\n",
       "    buttongrp.append(button);\n",
       "    var titlebar = this.root.find($('.ui-dialog-titlebar'));\n",
       "    titlebar.prepend(buttongrp);\n",
       "}\n",
       "\n",
       "mpl.figure.prototype._root_extra_style = function(el){\n",
       "    var fig = this\n",
       "    el.on(\"remove\", function(){\n",
       "\tfig.close_ws(fig, {});\n",
       "    });\n",
       "}\n",
       "\n",
       "mpl.figure.prototype._canvas_extra_style = function(el){\n",
       "    // this is important to make the div 'focusable\n",
       "    el.attr('tabindex', 0)\n",
       "    // reach out to IPython and tell the keyboard manager to turn it's self\n",
       "    // off when our div gets focus\n",
       "\n",
       "    // location in version 3\n",
       "    if (IPython.notebook.keyboard_manager) {\n",
       "        IPython.notebook.keyboard_manager.register_events(el);\n",
       "    }\n",
       "    else {\n",
       "        // location in version 2\n",
       "        IPython.keyboard_manager.register_events(el);\n",
       "    }\n",
       "\n",
       "}\n",
       "\n",
       "mpl.figure.prototype._key_event_extra = function(event, name) {\n",
       "    var manager = IPython.notebook.keyboard_manager;\n",
       "    if (!manager)\n",
       "        manager = IPython.keyboard_manager;\n",
       "\n",
       "    // Check for shift+enter\n",
       "    if (event.shiftKey && event.which == 13) {\n",
       "        this.canvas_div.blur();\n",
       "        // select the cell after this one\n",
       "        var index = IPython.notebook.find_cell_index(this.cell_info[0]);\n",
       "        IPython.notebook.select(index + 1);\n",
       "    }\n",
       "}\n",
       "\n",
       "mpl.figure.prototype.handle_save = function(fig, msg) {\n",
       "    fig.ondownload(fig, null);\n",
       "}\n",
       "\n",
       "\n",
       "mpl.find_output_cell = function(html_output) {\n",
       "    // Return the cell and output element which can be found *uniquely* in the notebook.\n",
       "    // Note - this is a bit hacky, but it is done because the \"notebook_saving.Notebook\"\n",
       "    // IPython event is triggered only after the cells have been serialised, which for\n",
       "    // our purposes (turning an active figure into a static one), is too late.\n",
       "    var cells = IPython.notebook.get_cells();\n",
       "    var ncells = cells.length;\n",
       "    for (var i=0; i<ncells; i++) {\n",
       "        var cell = cells[i];\n",
       "        if (cell.cell_type === 'code'){\n",
       "            for (var j=0; j<cell.output_area.outputs.length; j++) {\n",
       "                var data = cell.output_area.outputs[j];\n",
       "                if (data.data) {\n",
       "                    // IPython >= 3 moved mimebundle to data attribute of output\n",
       "                    data = data.data;\n",
       "                }\n",
       "                if (data['text/html'] == html_output) {\n",
       "                    return [cell, data, j];\n",
       "                }\n",
       "            }\n",
       "        }\n",
       "    }\n",
       "}\n",
       "\n",
       "// Register the function which deals with the matplotlib target/channel.\n",
       "// The kernel may be null if the page has been refreshed.\n",
       "if (IPython.notebook.kernel != null) {\n",
       "    IPython.notebook.kernel.comm_manager.register_target('matplotlib', mpl.mpl_figure_comm);\n",
       "}\n"
      ],
      "text/plain": [
       "<IPython.core.display.Javascript object>"
      ]
     },
     "metadata": {},
     "output_type": "display_data"
    },
    {
     "data": {
      "text/html": [
       "<img src=\"data:image/png;base64,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\" width=\"640\">"
      ],
      "text/plain": [
       "<IPython.core.display.HTML object>"
      ]
     },
     "metadata": {},
     "output_type": "display_data"
    }
   ],
   "source": [
    "%matplotlib notebook\n",
    "import matplotlib.pyplot as plt\n",
    "from mpl_toolkits.mplot3d import Axes3D\n",
    "fig = plt.figure()\n",
    "ax = fig.add_subplot(111, projection='3d')\n",
    "\n",
    "ax.scatter(*geometry[0][1:][0], marker='o', color='green', label='systemA')\n",
    "ax.scatter(*geometry[1][1:][0], marker='o', color='green', label='systemA')\n",
    "\n",
    "for x in range(2, len(geometry)):\n",
    "    ax.scatter(*geometry[x][1:][0], marker='o', color='red', label='systemB')\n",
    "plt.legend()\n",
    "plt.show()\n"
   ]
  },
  {
   "cell_type": "markdown",
   "metadata": {},
   "source": [
    "# Define Params\n",
    "\n",
    "- what level to treat active and envirnoment systems"
   ]
  },
  {
   "cell_type": "code",
   "execution_count": 7,
   "metadata": {},
   "outputs": [],
   "source": [
    "## define params\n",
    "\n",
    "basis =  'STO-6G' # '6-31g' #\n",
    "low_level_xc_functional_or_HF = 'lda, vwn' #'hf'\n",
    "high_level_xc_functional = 'b3lyp'\n",
    "\n",
    "low_level_method = 'rhf'\n",
    "high_level_ref = 'rhf'\n",
    "high_level_method = 'mp2'"
   ]
  },
  {
   "cell_type": "code",
   "execution_count": null,
   "metadata": {},
   "outputs": [],
   "source": []
  },
  {
   "cell_type": "code",
   "execution_count": null,
   "metadata": {},
   "outputs": [],
   "source": []
  },
  {
   "cell_type": "markdown",
   "metadata": {},
   "source": [
    "# Build the GLOBAL (full) molecule"
   ]
  },
  {
   "cell_type": "code",
   "execution_count": 8,
   "metadata": {},
   "outputs": [
    {
     "data": {
      "text/plain": [
       "[['H@1', (0.7493682, 0.0, 0.4424329)],\n",
       " ['O@1', (0.0, 0.0, -0.1653507)],\n",
       " ['H#', (-0.7493682, 0.0, 0.4424329)]]"
      ]
     },
     "execution_count": 8,
     "metadata": {},
     "output_type": "execute_result"
    }
   ],
   "source": [
    "full_system_mol = gto.Mole(atom= geometry,\n",
    "                      basis=basis,\n",
    "                       charge=0,\n",
    "                       #spin=0,\n",
    "                      )\n",
    "full_system_mol.build()\n",
    "full_system_mol.atom"
   ]
  },
  {
   "cell_type": "code",
   "execution_count": 9,
   "metadata": {},
   "outputs": [],
   "source": [
    "full_system_mol.verbose = 1\n",
    "full_system_mol.max_memory = 8_000 #MB"
   ]
  },
  {
   "cell_type": "code",
   "execution_count": 10,
   "metadata": {},
   "outputs": [],
   "source": [
    "# import multiprocessing\n",
    "# from pyscf import lib\n",
    "\n",
    "\n",
    "\n",
    "# print(lib.num_threads())\n",
    "# # lib.num_threads(n=multiprocessing.cpu_count())\n",
    "# # print(lib.num_threads(multiprocessing.cpu_count()))"
   ]
  },
  {
   "cell_type": "code",
   "execution_count": 11,
   "metadata": {},
   "outputs": [],
   "source": [
    "# help(full_system_mol.unit)"
   ]
  },
  {
   "cell_type": "code",
   "execution_count": 12,
   "metadata": {},
   "outputs": [],
   "source": [
    "# import os\n",
    "# # os.environ['OMP_NUM_THREADS'] = str(multiprocessing.cpu_count())\n",
    "# os.environ['OMP_NUM_THREADS']"
   ]
  },
  {
   "cell_type": "code",
   "execution_count": 13,
   "metadata": {},
   "outputs": [],
   "source": [
    "# os.environ[\"OMP_NUM_THREADS\"] \n",
    "# # os.environ[\"OPENBLAS_NUM_THREADS\"]"
   ]
  },
  {
   "cell_type": "code",
   "execution_count": null,
   "metadata": {},
   "outputs": [],
   "source": []
  },
  {
   "cell_type": "markdown",
   "metadata": {},
   "source": [
    "# Run Supersystem Calculation (cheap method)"
   ]
  },
  {
   "cell_type": "code",
   "execution_count": 14,
   "metadata": {},
   "outputs": [
    {
     "data": {
      "text/plain": [
       "-75.45216076573017"
      ]
     },
     "execution_count": 14,
     "metadata": {},
     "output_type": "execute_result"
    }
   ],
   "source": [
    "full_system_scf = scf.RKS(full_system_mol)\n",
    "full_system_scf.verbose=1\n",
    "full_system_scf.max_memory= 8_000\n",
    "full_system_scf.conv_tol = 1e-6\n",
    "full_system_scf.xc = low_level_xc_functional_or_HF\n",
    "full_system_scf.kernel()"
   ]
  },
  {
   "cell_type": "code",
   "execution_count": 15,
   "metadata": {},
   "outputs": [
    {
     "data": {
      "text/plain": [
       "-75.45216076573017"
      ]
     },
     "execution_count": 15,
     "metadata": {},
     "output_type": "execute_result"
    }
   ],
   "source": [
    "full_system_scf.e_tot"
   ]
  },
  {
   "cell_type": "code",
   "execution_count": 16,
   "metadata": {},
   "outputs": [
    {
     "data": {
      "text/plain": [
       "True"
      ]
     },
     "execution_count": 16,
     "metadata": {},
     "output_type": "execute_result"
    }
   ],
   "source": [
    "full_system_scf.conv_check"
   ]
  },
  {
   "cell_type": "code",
   "execution_count": 17,
   "metadata": {},
   "outputs": [],
   "source": [
    "two_e_term_total = full_system_scf.get_veff()\n",
    "e_xc_total = two_e_term_total.exc\n",
    "v_xc_total = two_e_term_total - full_system_scf.get_j() "
   ]
  },
  {
   "cell_type": "code",
   "execution_count": 18,
   "metadata": {},
   "outputs": [],
   "source": [
    "# full_system_scf.get_fock()\n",
    "# full_system_scf.get_hcore()"
   ]
  },
  {
   "cell_type": "code",
   "execution_count": 19,
   "metadata": {},
   "outputs": [],
   "source": [
    "# full_system_scf.mo_coeff"
   ]
  },
  {
   "cell_type": "code",
   "execution_count": null,
   "metadata": {},
   "outputs": [],
   "source": []
  },
  {
   "cell_type": "markdown",
   "metadata": {},
   "source": [
    "# Run expensive CI calc to compare all results too"
   ]
  },
  {
   "cell_type": "code",
   "execution_count": 20,
   "metadata": {},
   "outputs": [
    {
     "name": "stdout",
     "output_type": "stream",
     "text": [
      "E(UHF-FCI) = -75.731522191956\n"
     ]
    }
   ],
   "source": [
    "HF_scf = scf.RHF(full_system_mol)\n",
    "HF_scf.verbose=1\n",
    "HF_scf.max_memory= 8_000\n",
    "HF_scf.conv_tol = 1e-6\n",
    "HF_scf.kernel()\n",
    "\n",
    "my_fci = fci.FCI(HF_scf).run()\n",
    "print('E(UHF-FCI) = %.12f' % my_fci.e_tot)\n",
    "\n",
    "# myci = ci.CISD(HF_scf).run() # this is UCISD\n",
    "# print('UCISD total energy = ', myci.e_tot)"
   ]
  },
  {
   "cell_type": "code",
   "execution_count": null,
   "metadata": {},
   "outputs": [],
   "source": []
  },
  {
   "cell_type": "markdown",
   "metadata": {},
   "source": [
    "# Localise orbitals"
   ]
  },
  {
   "cell_type": "markdown",
   "metadata": {},
   "source": [
    "### Background\n",
    "\n",
    "The overlap matrix is:\n",
    "\n",
    "$$S_{\\mu \\nu} =  \\int d\\vec{r}_{1} \\phi_{\\mu}(1)^{*}\\phi_{\\nu}(1)$$\n",
    "\n",
    "- $\\phi_{\\mu}$ are basis functions (defined in basis set)\n",
    "\n",
    "\n",
    "The unknown molecular orbitals $\\psi_{i}$ are expanded as a linear expansion of the $K$ known basis functions:\n",
    "\n",
    "$$ \\psi_{i} =  \\sum_{\\mu=1}^{K} C_{\\mu i} \\psi_{\\mu}$$\n",
    "\n",
    "\n",
    "$C$ is a $K \\times K$ matrix of expansion coefficients $C_{\\mu i}$. The columns of $C$ describe the molecular orbitals!"
   ]
  },
  {
   "cell_type": "markdown",
   "metadata": {},
   "source": [
    "We can find the total number of electrons $N$ in the system by:\n",
    "\n",
    "$$ N =  2 \\sum_{a}^{N/2}\\int d\\vec{r}  \\bigg( \\psi_{a}(\\vec{r})^{*} \\psi_{i}(\\vec{r}) \\bigg) =  2 \\sum_{a}^{N/2} 1$$\n",
    "\n",
    "- integral gives probablity of finding electron $a$ over all space (must be 1)\n",
    "- summing over all electrons will give the total number of electrons"
   ]
  },
  {
   "cell_type": "code",
   "execution_count": null,
   "metadata": {},
   "outputs": [],
   "source": []
  },
  {
   "cell_type": "markdown",
   "metadata": {},
   "source": [
    "The charge density has the following definition:\n",
    "\n",
    "$$\\rho(\\vec{r}) = 2 \\sum_{a}^{N/2} \\bigg( \\psi_{a}(\\vec{r})^{*} \\psi_{i}(\\vec{r}) \\bigg)$$\n",
    "\n",
    "- re-write using definition of $\\psi_{i}=  \\sum_{\\mu=1}^{K} C_{\\mu i} \\psi_{\\mu}$\n",
    "\n",
    "$$\\rho(\\vec{r}) = 2 \\sum_{a}^{N/2} \\Bigg( \\bigg[ \\sum_{\\nu}^{K} C_{\\nu a}^{*} \\phi_{\\nu}(\\vec{r})^{*} \\bigg] \\bigg[ \\sum_{\\mu}^{K} C_{\\mu a}\\phi_{\\mu}(\\vec{r}) \\bigg] \\Bigg)$$\n",
    "\n",
    "- move things around\n",
    "\n",
    "$$\\rho(\\vec{r}) = \\sum_{\\nu}^{K} \\sum_{\\mu}^{K} \\Big( 2 \\sum_{a}^{N/2} C_{\\mu a} C_{\\nu a}^{*} \\Big) \\phi_{\\mu}(\\vec{r}) \\phi_{\\nu}(\\vec{r})^{*} $$\n",
    "\n",
    "- which is \n",
    "\n",
    "$$\\rho(\\vec{r}) = \\sum_{\\mu, \\nu}^{K} P_{\\mu \\nu} \\phi_{\\mu}(\\vec{r}) \\phi_{\\nu}(\\vec{r})^{*} $$\n",
    "\n",
    "\n",
    "- $P_{\\mu \\nu}$ is known as the density matrix and is:\n",
    "\n",
    "$$P_{\\mu \\nu} = 2 \\sum_{a}^{N/2} C_{\\mu a} C_{\\nu a}^{*}$$"
   ]
  },
  {
   "cell_type": "code",
   "execution_count": null,
   "metadata": {},
   "outputs": [],
   "source": []
  },
  {
   "cell_type": "markdown",
   "metadata": {},
   "source": [
    "Therefore we can also find the total number of electrons in the system by:\n",
    "\n",
    "$$ N =  2 \\sum_{a}^{N/2}\\int d\\vec{r}  \\bigg( \\psi_{a}(\\vec{r})^{*} \\psi_{i}(\\vec{r}) \\bigg) =  \\sum_{\\nu}^{K} \\sum_{\\mu}^{K} \\Big( 2 \\sum_{a}^{N/2} C_{\\mu a} C_{\\nu a}^{*} \\Big) \\int d\\vec{r} \\phi_{\\mu}(\\vec{r})  \\phi_{\\nu}(\\vec{r})^{*}$$\n",
    "\n",
    "- This is simply:\n",
    "\n",
    "$$N =  \\sum_{\\nu}^{K} \\sum_{\\mu}^{K} P_{\\mu \\nu} S_{\\nu \\mu}$$\n",
    "\n",
    "- in an orthognal basis $S$ should be the identity matrix (as it is overlap of matrix of orthogonal orbs), SO WE GET:\n",
    "\n",
    "$$N =  \\sum_{\\nu}^{K} \\sum_{\\mu}^{K} P_{\\mu \\nu} S_{\\nu \\mu} = \\sum_{\\mu}^{K} PS_{\\mu \\mu} = \\mathcal{Tr}(PS)$$"
   ]
  },
  {
   "cell_type": "code",
   "execution_count": 21,
   "metadata": {},
   "outputs": [
    {
     "name": "stdout",
     "output_type": "stream",
     "text": [
      "[[ 1.  0.  0.  0.  0.  0.  0.]\n",
      " [ 0.  1.  0.  0.  0.  0.  0.]\n",
      " [ 0.  0.  1.  0.  0. -0.  0.]\n",
      " [ 0.  0.  0.  1.  0.  0. -0.]\n",
      " [ 0.  0.  0.  0.  1.  0.  0.]\n",
      " [ 0.  0. -0.  0.  0.  1.  0.]\n",
      " [ 0.  0.  0. -0.  0.  0.  1.]]\n"
     ]
    }
   ],
   "source": [
    "S_mat = full_system_scf.get_ovlp()\n",
    "print(np.around(S_mat))"
   ]
  },
  {
   "cell_type": "markdown",
   "metadata": {},
   "source": [
    "- One can interpret $ PS_{\\mu \\mu}$ in the above equation as the number of electrons associated with $ \\phi_{\\mu}$\n",
    "- This is a **Mulliken population analysis**"
   ]
  },
  {
   "cell_type": "markdown",
   "metadata": {},
   "source": []
  },
  {
   "cell_type": "markdown",
   "metadata": {},
   "source": [
    "# Orbital Localization!"
   ]
  },
  {
   "cell_type": "code",
   "execution_count": 22,
   "metadata": {},
   "outputs": [],
   "source": [
    "from pyscf import lo"
   ]
  },
  {
   "cell_type": "markdown",
   "metadata": {},
   "source": [
    "A molecular orbital is usually delocalized, i.e. it has non-negligible amplitude over the whole system rather than only around some atom(s) or bond(s). However, one can choose a unitary rotation "
   ]
  },
  {
   "cell_type": "markdown",
   "metadata": {},
   "source": [
    "- When we perform a SCF calculation, one gets an optimized C matrix\n",
    "    - $C$ is a $K \\times K$ matrix of expansion coefficients $C_{\\mu i}$\n",
    "    - The columns of $C$ describe the molecular orbitals!\n",
    "    - MO i: $ \\psi_{i} =  \\sum_{\\mu=1}^{K} C_{\\mu i} \\psi_{\\mu}$\n",
    "    \n",
    "    \n",
    "- These molecular orbitals are usually **delocalized**\n",
    "    - non-negligible amplitude over the whole system, rather than only around some atom(s) or bond(s)\n",
    "\n",
    "- But we know in QM that a given basis choice is NOT unique\n",
    "\n",
    "\n",
    "- We can therefore perform a unitary rotation on molecular orbitals\n",
    "\n",
    "$$ \\psi_{i} U_{rot} =  \\Big( \\sum_{\\mu=1}^{K} C_{\\mu i} \\psi_{\\mu} \\Big) U_{rot} = \\psi_{i}^{new}$$\n",
    "    \n",
    "    \n",
    "The idea is to use a rotation such that the resulting orbitals $\\psi_{i}^{new}$ are as spatially localized as possible. \n",
    "\n",
    "\n",
    "The Pipek-Mezey (PM) [localization](https://notendur.hi.is/hj/papers/paperPipekmezey8.pdf) **maximizes the population charges on the atoms**:\n",
    "\n",
    "$$ f (U_{rot}) = \\sum_{A}^{N_{atoms}} \\Bigg( Z_{A} -  \\sum_{\\mu \\text{ on atom } A} PS_{\\mu \\mu} \\Bigg)$$"
   ]
  },
  {
   "cell_type": "code",
   "execution_count": 23,
   "metadata": {},
   "outputs": [],
   "source": [
    "# Take occupied orbitals of global system calc\n",
    "occ_orbs = full_system_scf.mo_coeff[:,full_system_scf.mo_occ>0]\n",
    "\n",
    "# run localization scheme\n",
    "PM = lo.PipekMezey(full_system_mol, occ_orbs)\n",
    "PM.pop_method = 'mulliken' # 'meta-lowdin', 'iao', 'becke'\n",
    "C_mull = PM.kernel()\n",
    "\n",
    "C_loc_occ = PM.mo_coeff # <-- these are the NEW C matrix (where orbitals are localized to atoms)"
   ]
  },
  {
   "cell_type": "code",
   "execution_count": 24,
   "metadata": {},
   "outputs": [
    {
     "data": {
      "text/plain": [
       "True"
      ]
     },
     "execution_count": 24,
     "metadata": {},
     "output_type": "execute_result"
    }
   ],
   "source": [
    "np.array_equal(C_mull, C_loc_occ)"
   ]
  },
  {
   "cell_type": "code",
   "execution_count": null,
   "metadata": {},
   "outputs": [],
   "source": []
  },
  {
   "cell_type": "code",
   "execution_count": 25,
   "metadata": {},
   "outputs": [
    {
     "name": "stdout",
     "output_type": "stream",
     "text": [
      "True\n"
     ]
    }
   ],
   "source": [
    "## check number of electrons is still the same \n",
    "# should be the same after change of basis has been done\n",
    "\n",
    "dm_localised = 2* C_loc_occ @ C_loc_occ.conj().T\n",
    "S = full_system_scf.get_ovlp()\n",
    "\n",
    "print(np.isclose(np.trace(dm_localised@S), full_system_mol.nelectron))"
   ]
  },
  {
   "cell_type": "code",
   "execution_count": null,
   "metadata": {},
   "outputs": [],
   "source": []
  },
  {
   "cell_type": "markdown",
   "metadata": {},
   "source": [
    "# Choose active and environment systems"
   ]
  },
  {
   "cell_type": "markdown",
   "metadata": {},
   "source": [
    "## METHOD 1 "
   ]
  },
  {
   "cell_type": "markdown",
   "metadata": {},
   "source": [
    "- Given optimized $C$ coefficient matrix\n",
    "    - which has been rotated to localize orbitals\n",
    "    - (used to build localized density matrix)\n",
    "\n",
    "\n",
    "- **Look through basis functions $\\phi_{\\mu}$ of the ACTIVE atoms**\n",
    "    \n",
    "    \n",
    "- check the mulliken charge // mulliken population of the orbital\n",
    "    - if above a certain threshold associate it to active system\n",
    "    - otherwise put in the environment"
   ]
  },
  {
   "cell_type": "code",
   "execution_count": 26,
   "metadata": {},
   "outputs": [
    {
     "data": {
      "text/plain": [
       "[['H@1', (0.7493682, 0.0, 0.4424329)],\n",
       " ['O@1', (0.0, 0.0, -0.1653507)],\n",
       " ['H#', (-0.7493682, 0.0, 0.4424329)]]"
      ]
     },
     "execution_count": 26,
     "metadata": {},
     "output_type": "execute_result"
    }
   ],
   "source": [
    "## pyscf notes\n",
    "\n",
    "# order of atoms in geometry is important\n",
    "full_system_mol.atom"
   ]
  },
  {
   "cell_type": "code",
   "execution_count": 27,
   "metadata": {},
   "outputs": [
    {
     "data": {
      "text/plain": [
       "array([[0, 1, 0, 1],\n",
       "       [1, 4, 1, 6],\n",
       "       [4, 5, 6, 7]])"
      ]
     },
     "execution_count": 27,
     "metadata": {},
     "output_type": "execute_result"
    }
   ],
   "source": [
    "# aoslice_by_atom gives a matrix:\n",
    "full_system_mol.aoslice_by_atom()\n",
    "\n",
    "# where rows are defined by atoms (given by order in full_system_mol.atom - see cell above)\n",
    "# the 3rd column gives first basis function index for THAT atom\n",
    "# the last(4th) column gives the last basis function index for THAT atom"
   ]
  },
  {
   "cell_type": "markdown",
   "metadata": {},
   "source": [
    "Therefore loop over basis function centered on the active atoms and find mulliken charge // population"
   ]
  },
  {
   "cell_type": "code",
   "execution_count": 28,
   "metadata": {},
   "outputs": [
    {
     "name": "stdout",
     "output_type": "stream",
     "text": [
      "H@1\n",
      "0.8046412946330878\n",
      "###\n",
      "O@1\n",
      "1.9979534425060614\n",
      "1.8638804129922752\n",
      "1.0979770385588599\n",
      "1.9999999999999998\n",
      "1.4309065166766268\n",
      "###\n"
     ]
    },
    {
     "data": {
      "text/plain": [
       "[1, 2, 4]"
      ]
     },
     "execution_count": 28,
     "metadata": {},
     "output_type": "execute_result"
    }
   ],
   "source": [
    "# https://pubs.acs.org/doi/pdf/10.1021/ct300544e\n",
    "# paper states there are 5 active orbs... where mulliken_population threshold set to 0.4\n",
    "# here I get the result if threshold set to 0.9\n",
    "\n",
    "# NOTE in molecule the active atoms must be listed FIRST!\n",
    "\n",
    "THRESHOLD = 1.5\n",
    "AO_slice_matrix = full_system_mol.aoslice_by_atom()\n",
    "N_active_atoms = 2\n",
    "\n",
    "active_ao_ind=[]\n",
    "\n",
    "PS_matrix = dm_localised @ S\n",
    "atomic_charges_list = full_system_mol.atom_charges()\n",
    "for atm_i, atm_str in enumerate([atom_str for atom_str, _ in full_system_mol.atom][:N_active_atoms]):\n",
    "    slice_ind = list(range(AO_slice_matrix[atm_i, 2], AO_slice_matrix[atm_i, 3]))\n",
    "    \n",
    "    print(atm_str)\n",
    "    qA = atomic_charges_list[atm_i] #atomic charge of atom_i\n",
    "    for mu in slice_ind:\n",
    "        mulliken_charge = qA - PS_matrix[mu,mu]  # mulliken charge of ao centred on atom_i\n",
    "        mulliken_population = PS_matrix[mu,mu]  # mulliken pop of ao centred on atom_i\n",
    "#         print(mulliken_charge)\n",
    "        print(mulliken_population)\n",
    "        if mulliken_population>THRESHOLD: ### <--- not sure about this THRESHOLD\n",
    "            active_ao_ind.append(mu)\n",
    "        \n",
    "    print('###')\n",
    "\n",
    "active_ao_ind"
   ]
  },
  {
   "cell_type": "code",
   "execution_count": 29,
   "metadata": {},
   "outputs": [
    {
     "data": {
      "text/plain": [
       "[0, 3]"
      ]
     },
     "execution_count": 29,
     "metadata": {},
     "output_type": "execute_result"
    }
   ],
   "source": [
    "# assign the rest of the missing indices to the environment\n",
    "\n",
    "enviro_ao_ind = [ind for ind in range(C_loc_occ.shape[1]) if ind not in active_ao_ind]\n",
    "enviro_ao_ind"
   ]
  },
  {
   "cell_type": "code",
   "execution_count": null,
   "metadata": {},
   "outputs": [],
   "source": []
  },
  {
   "cell_type": "code",
   "execution_count": 30,
   "metadata": {},
   "outputs": [
    {
     "data": {
      "text/plain": [
       "6"
      ]
     },
     "execution_count": 30,
     "metadata": {},
     "output_type": "execute_result"
    }
   ],
   "source": [
    "full_system_mol.aoslice_nr_by_atom()[1][3]"
   ]
  },
  {
   "cell_type": "markdown",
   "metadata": {},
   "source": [
    "## METHOD 2 - SPADE"
   ]
  },
  {
   "cell_type": "code",
   "execution_count": 31,
   "metadata": {},
   "outputs": [],
   "source": [
    "###### SPADE\n",
    "\n",
    "# Take occupied orbitals of global system calc\n",
    "occ_orbs = full_system_scf.mo_coeff[:,full_system_scf.mo_occ>0]\n",
    "\n",
    "\n",
    "N_active_AO = AO_slice_matrix[N_active_atoms-1][3]  # find max AO index for active atoms (neg 1 as python indexs from 0)\n",
    "\n",
    "orthogonal_orbitals = occ_orbs[:N_active_AO, :] # take active rows and all columns\n",
    "\n",
    "u, singular_values, rotation_matrix = np.linalg.svd(orthogonal_orbitals, full_matrices=True)\n",
    "\n",
    "# find where largest step change \n",
    "delta_s = [(i, (singular_values[i] - singular_values[i+1] )) for i in range(len(singular_values) - 1)] # contains (index, delta_s)\n",
    "n_act_mos = max(delta_s, key=lambda x: x[0])[0] + 1 # finds index where largest step change is! (adds 1 for python indexing)\n",
    "n_env_mos = len(singular_values) - n_act_mos\n",
    "\n",
    "###\n",
    "# next rotate orbtials using SVD rotation - selecting active and enironment portions"
   ]
  },
  {
   "cell_type": "code",
   "execution_count": null,
   "metadata": {},
   "outputs": [],
   "source": []
  },
  {
   "cell_type": "code",
   "execution_count": 32,
   "metadata": {},
   "outputs": [
    {
     "name": "stdout",
     "output_type": "stream",
     "text": [
      "number of e- in system = 10\n",
      "number of e- in subsystems: 9.999999999999996\n"
     ]
    }
   ],
   "source": [
    "# localization = 'SPADE'\n",
    "localization = 'PM_loc'\n",
    "\n",
    "if localization == 'SPADE':\n",
    "    \n",
    "    # next rotate occupied orbitals of global system calc (NOT localized)\n",
    "    # using SVD rotation - selecting active and enironment portions\n",
    "    \n",
    "    act_orbitals = occ_orbs @ rotation_matrix.T[:, :n_act_mos]\n",
    "    env_orbitals = occ_orbs @ rotation_matrix.T[:, n_act_mos:]\n",
    "    \n",
    "    GLOBAL_rotated_orbitals = occ_orbs @ rotation_matrix.T\n",
    "    \n",
    "    dm_active =  2 * act_orbitals @ act_orbitals.T\n",
    "    dm_enviro =  2 * env_orbitals @ env_orbitals.T\n",
    "    \n",
    "    active_ao_ind = list(range(n_act_mos))\n",
    "    enviro_ao_ind = list(range(n_act_mos, len(singular_values)))\n",
    "    \n",
    "elif  localization == 'PM_loc':\n",
    "    \n",
    "    # take active and envirnoment orbs from LOCALIZED ORBITALS\n",
    "    act_orbitals = C_loc_occ[:, active_ao_ind]\n",
    "    env_orbitals = C_loc_occ[:, enviro_ao_ind]\n",
    "    \n",
    "    GLOBAL_rotated_orbitals = C_loc_occ\n",
    "    \n",
    "    n_act_mos = len(active_ao_ind)\n",
    "    n_env_mos = len(enviro_ao_ind) # full_system_mol.aoslice_by_atom()[-1,-1] - n_act_mos\n",
    "\n",
    "    dm_active =  2 * act_orbitals @ act_orbitals.T\n",
    "    dm_enviro =  2 * env_orbitals @ env_orbitals.T\n",
    "    \n",
    "print(f'number of e- in system = {full_system_mol.nelectron}')\n",
    "print('number of e- in subsystems:', np.trace(dm_active@S) + np.trace(dm_enviro@S))"
   ]
  },
  {
   "cell_type": "code",
   "execution_count": null,
   "metadata": {},
   "outputs": [],
   "source": []
  },
  {
   "cell_type": "code",
   "execution_count": 33,
   "metadata": {},
   "outputs": [
    {
     "data": {
      "text/plain": [
       "True"
      ]
     },
     "execution_count": 33,
     "metadata": {},
     "output_type": "execute_result"
    }
   ],
   "source": [
    "# checking denisty matrix parition makes sense:\n",
    "\n",
    "# gamma_rotated_FULL = gamma_act_rotated + gamma_env_rotated\n",
    "dm_act_and_env = 2* GLOBAL_rotated_orbitals@ GLOBAL_rotated_orbitals.conj().T\n",
    "np.allclose(dm_active+dm_enviro, dm_act_and_env)"
   ]
  },
  {
   "cell_type": "code",
   "execution_count": null,
   "metadata": {},
   "outputs": [],
   "source": []
  },
  {
   "cell_type": "markdown",
   "metadata": {},
   "source": [
    "# Save orbitals to view"
   ]
  },
  {
   "cell_type": "markdown",
   "metadata": {},
   "source": [
    "Save localized orbitals as molden file\n",
    "\n",
    "(allowing MOs to be viewed, to see if localization makes sense)\n",
    "\n",
    "open with: https://avogadro.cc/"
   ]
  },
  {
   "cell_type": "code",
   "execution_count": 34,
   "metadata": {},
   "outputs": [],
   "source": [
    "with open('LOCALIZED_orbs.molden', 'w') as outfile:\n",
    "    tools.molden.header(full_system_mol, outfile)\n",
    "    tools.molden.orbital_coeff(\n",
    "                        full_system_mol,\n",
    "                         outfile, \n",
    "                         act_orbitals, # <- active orbitals!\n",
    "                         ene=full_system_scf.mo_energy[np.array(active_ao_ind)],\n",
    "                         occ=full_system_scf.mo_occ[np.array(active_ao_ind)])"
   ]
  },
  {
   "cell_type": "code",
   "execution_count": null,
   "metadata": {},
   "outputs": [],
   "source": []
  },
  {
   "cell_type": "code",
   "execution_count": 35,
   "metadata": {},
   "outputs": [],
   "source": [
    "########################## mulliken pop check START"
   ]
  },
  {
   "cell_type": "code",
   "execution_count": 36,
   "metadata": {},
   "outputs": [
    {
     "data": {
      "text/plain": [
       "array([0.80464129, 1.99795344, 1.86388041, 1.09797704, 2.        ,\n",
       "       1.43090652, 0.80464129])"
      ]
     },
     "execution_count": 36,
     "metadata": {},
     "output_type": "execute_result"
    }
   ],
   "source": [
    "# https://github.com/pyscf/pyscf/blob/master/pyscf/scf/hf.py\n",
    "\n",
    "Mulliken_population = np.einsum('ij,ji->i', dm_localised, S).real\n",
    "Mulliken_population"
   ]
  },
  {
   "cell_type": "code",
   "execution_count": 37,
   "metadata": {},
   "outputs": [
    {
     "data": {
      "text/plain": [
       "array([ 0.19535871, -0.39071741,  0.19535871])"
      ]
     },
     "execution_count": 37,
     "metadata": {},
     "output_type": "execute_result"
    }
   ],
   "source": [
    "mulliken_charges = np.zeros(full_system_mol.natm)\n",
    "for i, s in enumerate(full_system_mol.ao_labels(fmt=None)):\n",
    "    mulliken_charges[s[0]] += Mulliken_population[i]\n",
    "mulliken_charges = full_system_mol.atom_charges() - mulliken_charges\n",
    "mulliken_charges"
   ]
  },
  {
   "cell_type": "code",
   "execution_count": 38,
   "metadata": {},
   "outputs": [
    {
     "name": "stdout",
     "output_type": "stream",
     "text": [
      " ** Mulliken pop  **\n",
      "pop of  0 H@1 1s        0.80464\n",
      "pop of  1 O@1 1s        1.99795\n",
      "pop of  1 O@1 2s        1.86388\n",
      "pop of  1 O@1 2px       1.09798\n",
      "pop of  1 O@1 2py       2.00000\n",
      "pop of  1 O@1 2pz       1.43091\n",
      "pop of  2 H# 1s        0.80464\n",
      " ** Mulliken atomic charges  **\n",
      "charge of  0H@1 =      0.19536\n",
      "charge of  1O@1 =     -0.39072\n",
      "charge of  2H# =      0.19536\n"
     ]
    },
    {
     "data": {
      "text/plain": [
       "(array([0.80464129, 1.99795344, 1.86388041, 1.09797704, 2.        ,\n",
       "        1.43090652, 0.80464129]),\n",
       " array([ 0.19535871, -0.39071741,  0.19535871]))"
      ]
     },
     "execution_count": 38,
     "metadata": {},
     "output_type": "execute_result"
    }
   ],
   "source": [
    "full_system_mol.mulliken_pop(dm=dm_localised)"
   ]
  },
  {
   "cell_type": "code",
   "execution_count": 39,
   "metadata": {},
   "outputs": [],
   "source": [
    "########################z## mulliken pop check END"
   ]
  },
  {
   "cell_type": "code",
   "execution_count": null,
   "metadata": {},
   "outputs": [],
   "source": []
  },
  {
   "cell_type": "markdown",
   "metadata": {},
   "source": [
    "# Embedding"
   ]
  },
  {
   "cell_type": "code",
   "execution_count": 40,
   "metadata": {},
   "outputs": [
    {
     "data": {
      "text/plain": [
       "-32.21457910375053"
      ]
     },
     "execution_count": 40,
     "metadata": {},
     "output_type": "execute_result"
    }
   ],
   "source": [
    "#It seems that PySCF lumps J and K in the J array \n",
    "J_act = full_system_scf.get_j(dm = dm_active)\n",
    "K_act = np.zeros_like(J_act)\n",
    "two_e_term_act =  full_system_scf.get_veff(dm=dm_active)\n",
    "e_xc_act = two_e_term_act.exc\n",
    "v_xc_act = two_e_term_act - J_act \n",
    "\n",
    "E_act = np.einsum('ij, ij', dm_active, full_system_scf.get_hcore() + J_act/2) + e_xc_act\n",
    "E_act"
   ]
  },
  {
   "cell_type": "code",
   "execution_count": 41,
   "metadata": {},
   "outputs": [
    {
     "data": {
      "text/plain": [
       "-32.21457910375052"
      ]
     },
     "execution_count": 41,
     "metadata": {},
     "output_type": "execute_result"
    }
   ],
   "source": [
    "full_system_scf.energy_elec(dm=dm_active)[0]"
   ]
  },
  {
   "cell_type": "code",
   "execution_count": null,
   "metadata": {},
   "outputs": [],
   "source": []
  },
  {
   "cell_type": "code",
   "execution_count": 42,
   "metadata": {},
   "outputs": [
    {
     "data": {
      "text/plain": [
       "-70.97624254622325"
      ]
     },
     "execution_count": 42,
     "metadata": {},
     "output_type": "execute_result"
    }
   ],
   "source": [
    "#It seems that PySCF lumps J and K in the J array \n",
    "J_env = full_system_scf.get_j(dm = dm_enviro)\n",
    "K_env = np.zeros_like(J_env)\n",
    "two_e_term_env =  full_system_scf.get_veff(dm=dm_enviro)\n",
    "e_xc_env = two_e_term_env.exc\n",
    "v_xc_env = two_e_term_env - J_env \n",
    "\n",
    "E_env = np.einsum('ij, ij', dm_enviro, full_system_scf.get_hcore() + J_env/2) + e_xc_env\n",
    "E_env"
   ]
  },
  {
   "cell_type": "code",
   "execution_count": 43,
   "metadata": {},
   "outputs": [
    {
     "data": {
      "text/plain": [
       "-70.97624254622326"
      ]
     },
     "execution_count": 43,
     "metadata": {},
     "output_type": "execute_result"
    }
   ],
   "source": [
    "full_system_scf.energy_elec(dm=dm_enviro)[0]"
   ]
  },
  {
   "cell_type": "code",
   "execution_count": null,
   "metadata": {},
   "outputs": [],
   "source": []
  },
  {
   "cell_type": "code",
   "execution_count": 44,
   "metadata": {},
   "outputs": [],
   "source": [
    "j_cross = 0.5 * (matrix_dot(dm_active, J_env) + matrix_dot(dm_enviro, J_act))\n",
    "k_cross = 0.0"
   ]
  },
  {
   "cell_type": "code",
   "execution_count": 45,
   "metadata": {},
   "outputs": [],
   "source": [
    "xc_cross = e_xc_total - e_xc_act - e_xc_env\n",
    "two_e_cross = j_cross + k_cross + xc_cross"
   ]
  },
  {
   "cell_type": "code",
   "execution_count": null,
   "metadata": {},
   "outputs": [],
   "source": []
  },
  {
   "cell_type": "markdown",
   "metadata": {},
   "source": [
    "# Define projection method"
   ]
  },
  {
   "cell_type": "code",
   "execution_count": 46,
   "metadata": {},
   "outputs": [],
   "source": [
    "projector_method = 'huzinaga'\n",
    "# projector_method = 'mu_shfit'\n",
    "\n",
    "if projector_method == 'huzinaga':\n",
    "    Fock = full_system_scf.get_hcore() + full_system_scf.get_veff(dm=dm_act_and_env)\n",
    "    F_gammaB_S = Fock @ dm_enviro @ S\n",
    "    projector = -0.5 * (F_gammaB_S + F_gammaB_S.T)\n",
    "elif projector_method == 'mu_shfit':\n",
    "    mu = 1e6\n",
    "    projector = mu * (S @ dm_enviro  @ S)\n",
    "else:\n",
    "    raise ValueError(f'Unknown projection method {projector_method}')\n",
    "\n"
   ]
  },
  {
   "cell_type": "markdown",
   "metadata": {},
   "source": [
    "# Define the embbed matrix"
   ]
  },
  {
   "cell_type": "markdown",
   "metadata": {},
   "source": [
    "$$h^{A_{\\text{act}} \\text{ in } B_{\\text{env}}} = h^{\\text{core}} + v^{\\text{embed}}$$\n",
    "\n",
    "$$v^{\\text{embed}} = g[\\gamma^{A_{\\text{act}}} + \\gamma^{B_{\\text{env}}} ] - g[\\gamma^{A_{\\text{act}}}] + P_{\\text{projector}}$$"
   ]
  },
  {
   "cell_type": "code",
   "execution_count": 47,
   "metadata": {},
   "outputs": [],
   "source": [
    "# define the embedded term\n",
    "g_A_and_B = full_system_scf.get_veff(dm=dm_active+dm_enviro)\n",
    "\n",
    "g_A = full_system_scf.get_veff(dm=dm_active)\n",
    "\n",
    "v_emb = g_A_and_B - g_A + projector"
   ]
  },
  {
   "cell_type": "code",
   "execution_count": 48,
   "metadata": {},
   "outputs": [],
   "source": [
    "# PsiEmbed definition\n",
    "v_emb2 = (J_env + v_xc_total - v_xc_act + projector)"
   ]
  },
  {
   "cell_type": "code",
   "execution_count": 49,
   "metadata": {},
   "outputs": [
    {
     "data": {
      "text/plain": [
       "True"
      ]
     },
     "execution_count": 49,
     "metadata": {},
     "output_type": "execute_result"
    }
   ],
   "source": [
    "# check these are the SAME!\n",
    "np.allclose(v_emb, v_emb2)"
   ]
  },
  {
   "cell_type": "markdown",
   "metadata": {},
   "source": [
    "note $P$ is a projection operator that **enforces intersubsystem orbital orthogonality.**"
   ]
  },
  {
   "cell_type": "code",
   "execution_count": null,
   "metadata": {},
   "outputs": [],
   "source": []
  },
  {
   "cell_type": "markdown",
   "metadata": {},
   "source": [
    "# Next find optimized $\\gamma^{A_{\\text{act}}}_\\text{embedded}$\n",
    "\n",
    "- this is done by running SCF calc using embedded $h^{A_{\\text{act}} \\text{ in } B_{\\text{env}}}$"
   ]
  },
  {
   "cell_type": "markdown",
   "metadata": {},
   "source": [
    "Steps:\n",
    "\n",
    "1. Define full molecular system\n",
    "2. Change the number of electrons to be the same number as active system allows\n",
    "3. run SCF to get optimized electron density!"
   ]
  },
  {
   "cell_type": "code",
   "execution_count": null,
   "metadata": {},
   "outputs": [],
   "source": []
  },
  {
   "cell_type": "markdown",
   "metadata": {},
   "source": [
    "TODO: Could maybe calculate $\\gamma^{A_{\\text{act}}}_\\text{embedded}$ using high level method!"
   ]
  },
  {
   "cell_type": "code",
   "execution_count": null,
   "metadata": {},
   "outputs": [],
   "source": []
  },
  {
   "cell_type": "code",
   "execution_count": 50,
   "metadata": {},
   "outputs": [
    {
     "data": {
      "text/plain": [
       "-4.271063112821885"
      ]
     },
     "execution_count": 50,
     "metadata": {},
     "output_type": "execute_result"
    }
   ],
   "source": [
    "full_system_mol_EMBEDDED = gto.Mole(atom= geometry,\n",
    "                      basis=basis,\n",
    "                       charge=0,\n",
    "                       #spin=0,\n",
    "                      )\n",
    "full_system_mol_EMBEDDED.build()\n",
    "\n",
    "# RE-DEFINE number of electrons in system\n",
    "full_system_mol_EMBEDDED.nelectron = 2*len(active_ao_ind)\n",
    "\n",
    "EMBEDDED_full_system_scf = scf.RKS(full_system_mol_EMBEDDED)\n",
    "EMBEDDED_full_system_scf.verbose=1\n",
    "EMBEDDED_full_system_scf.max_memory= 8_000\n",
    "EMBEDDED_full_system_scf.conv_tol = 1e-6\n",
    "EMBEDDED_full_system_scf.xc = low_level_xc_functional_or_HF\n",
    "\n",
    "h_core = EMBEDDED_full_system_scf.get_hcore()\n",
    "\n",
    "# overwrite h_core to include embedding term!!!!\n",
    "EMBEDDED_full_system_scf.get_hcore = lambda *args: v_emb + h_core\n",
    "\n",
    "\n",
    "EMBEDDED_full_system_scf.kernel()"
   ]
  },
  {
   "cell_type": "code",
   "execution_count": 51,
   "metadata": {},
   "outputs": [
    {
     "data": {
      "text/plain": [
       "True"
      ]
     },
     "execution_count": 51,
     "metadata": {},
     "output_type": "execute_result"
    }
   ],
   "source": [
    "EMBEDDED_full_system_scf.conv_check"
   ]
  },
  {
   "cell_type": "markdown",
   "metadata": {},
   "source": [
    "# Get optimized $\\gamma^{A_{\\text{act}}}_\\text{embedded}$"
   ]
  },
  {
   "cell_type": "code",
   "execution_count": 52,
   "metadata": {},
   "outputs": [
    {
     "data": {
      "text/plain": [
       "True"
      ]
     },
     "execution_count": 52,
     "metadata": {},
     "output_type": "execute_result"
    }
   ],
   "source": [
    "\n",
    "\n",
    "EMBEDDED_occ_orbs = EMBEDDED_full_system_scf.mo_coeff[:,EMBEDDED_full_system_scf.mo_occ>0]\n",
    "\n",
    "# optimized embedded denisty matrix\n",
    "density_emb = 2 * EMBEDDED_occ_orbs @ EMBEDDED_occ_orbs.conj().T\n",
    "\n",
    "## check number of electrons makes sense:\n",
    "np.isclose(np.trace(density_emb@S), 2*len(active_ao_ind))"
   ]
  },
  {
   "cell_type": "code",
   "execution_count": null,
   "metadata": {},
   "outputs": [],
   "source": []
  },
  {
   "cell_type": "markdown",
   "metadata": {},
   "source": [
    "# Calculate Energy\n",
    "\n",
    "The energy can be found according too:\n",
    "\n",
    "$$E[\\gamma^{A_{\\text{act}}}_\\text{embedded}; \\; \\; \\gamma^{A_{\\text{act}}},\\mathcal{E}[\\gamma^{A_{\\text{act}}}_\\text{embedded}]\n",
    "= \\mathcal{E}[\\gamma^{A_{\\text{act}}}_\\text{embedded}] + E[\\gamma^{B_{\\text{env}}}] + g[\\gamma^{A_{\\text{act}}}, \\gamma^{B_{\\text{env}}}] + \\mathcal{Trace}\\big[(\\gamma^{A_{\\text{act}}}_\\text{embedded}-\\gamma^{A_{\\text{act}}})(h^{A_{\\text{act}} \\text{ in } B_{\\text{env}}} - h )\\big]$$\n",
    "\n",
    "\n",
    "\n",
    "- $\\mathcal{E}[\\gamma^{A_{\\text{act}}}_\\text{embedded}]$\n",
    "    - energy of isolated A computed with new optimized embedded density matrix\n",
    "    - Note this allows for applicaton of different fucntionals (hence why odd E used)\n",
    "- $E[\\gamma^{B_{\\text{env}}}]$ DFT calc of isolated subsystem B\n",
    "- $g[\\gamma^{A_{\\text{act}}}, \\gamma^{B_{\\text{env}}}]$ non additive energy (boundary condition) between subsystems\n",
    "    - this is obtained from global calc!\n",
    "- Trace term provides a first order correction to the energy!"
   ]
  },
  {
   "cell_type": "code",
   "execution_count": null,
   "metadata": {},
   "outputs": [],
   "source": []
  },
  {
   "cell_type": "code",
   "execution_count": null,
   "metadata": {},
   "outputs": [],
   "source": []
  },
  {
   "cell_type": "markdown",
   "metadata": {},
   "source": [
    "$\\mathcal{E}[\\gamma^{A_{\\text{act}}}_\\text{embedded}]$"
   ]
  },
  {
   "cell_type": "code",
   "execution_count": 53,
   "metadata": {},
   "outputs": [
    {
     "data": {
      "text/plain": [
       "-31.955332647953597"
      ]
     },
     "execution_count": 53,
     "metadata": {},
     "output_type": "execute_result"
    }
   ],
   "source": [
    "J_emb, K_emb =EMBEDDED_full_system_scf.get_jk(dm=density_emb) \n",
    "\n",
    "# NOTE how normal H_core is being used!\n",
    "e_act_emb = matrix_dot(density_emb, h_core + 0.5 * J_emb - 0.25 * K_emb)\n",
    "e_act_emb"
   ]
  },
  {
   "cell_type": "code",
   "execution_count": 54,
   "metadata": {},
   "outputs": [
    {
     "data": {
      "text/plain": [
       "True"
      ]
     },
     "execution_count": 54,
     "metadata": {},
     "output_type": "execute_result"
    }
   ],
   "source": [
    "# Test this with STANDARD full system obj\n",
    "# (changing density matrix for embedded one)\n",
    "J_test, K_test = full_system_scf.get_jk(dm=density_emb)\n",
    "\n",
    "np.allclose(J_emb, J_test) and np.allclose(K_emb, K_test)"
   ]
  },
  {
   "cell_type": "code",
   "execution_count": 55,
   "metadata": {},
   "outputs": [
    {
     "data": {
      "text/plain": [
       "-32.21432253370418"
      ]
     },
     "execution_count": 55,
     "metadata": {},
     "output_type": "execute_result"
    }
   ],
   "source": [
    "# should be able to calculate energy in the same fashion\n",
    "# using STANDARD full system obj and new embedded density matrix\n",
    "\n",
    "# THIS METHOD IS BETTER THAN ABOVE (matches energy of global calc now!!!!)\n",
    "\n",
    "e_act_emb = full_system_scf.energy_elec(dm=density_emb)[0]\n",
    "e_act_emb"
   ]
  },
  {
   "cell_type": "code",
   "execution_count": 56,
   "metadata": {},
   "outputs": [
    {
     "data": {
      "text/plain": [
       "(-13.399346841104823, 9.312996250279216)"
      ]
     },
     "execution_count": 56,
     "metadata": {},
     "output_type": "execute_result"
    }
   ],
   "source": [
    "# note this is WRONG\n",
    "EMBEDDED_full_system_scf.energy_elec(dm=density_emb)\n",
    "# it is uses EMBEDDED h_core"
   ]
  },
  {
   "cell_type": "code",
   "execution_count": null,
   "metadata": {},
   "outputs": [],
   "source": []
  },
  {
   "cell_type": "markdown",
   "metadata": {},
   "source": [
    "Note for\n",
    "\n",
    "$$\\mathcal{Trace}\\big[(\\gamma^{A_{\\text{act}}}_\\text{embedded}-\\gamma^{A_{\\text{act}}})(h^{A_{\\text{act}} \\text{ in } B_{\\text{env}}} - h )\\big]$$\n",
    "\n",
    "\n",
    "- as : $h^{A_{\\text{act}} \\text{ in } B_{\\text{env}}} = h^{\\text{core}} + v^{\\text{embed}}$\n",
    "- we can re-write the first order correction as:\n",
    "\n",
    "$$\\mathcal{Trace}\\big[(\\gamma^{A_{\\text{act}}}_\\text{embedded}-\\gamma^{A_{\\text{act}}})(h^{A_{\\text{act}} \\text{ in } B_{\\text{env}}} - h )\\big] = \\mathcal{Trace}\\big[(\\gamma^{A_{\\text{act}}}_\\text{embedded}-\\gamma^{A_{\\text{act}}})(v^{\\text{embed}})\\big]$$"
   ]
  },
  {
   "cell_type": "code",
   "execution_count": 57,
   "metadata": {},
   "outputs": [
    {
     "data": {
      "text/plain": [
       "-0.00025656610634293376"
      ]
     },
     "execution_count": 57,
     "metadata": {},
     "output_type": "execute_result"
    }
   ],
   "source": [
    "correction = (matrix_dot(v_emb, density_emb - dm_active))\n",
    "correction"
   ]
  },
  {
   "cell_type": "code",
   "execution_count": 58,
   "metadata": {},
   "outputs": [
    {
     "data": {
      "text/plain": [
       "-75.4521607617902"
      ]
     },
     "execution_count": 58,
     "metadata": {},
     "output_type": "execute_result"
    }
   ],
   "source": [
    "e_mf_emb = e_act_emb + E_env + two_e_cross + full_system_scf.energy_nuc() + correction\n",
    "e_mf_emb # <-- energy from embedded DFT calc"
   ]
  },
  {
   "cell_type": "code",
   "execution_count": 59,
   "metadata": {},
   "outputs": [
    {
     "data": {
      "text/plain": [
       "-75.45216076573017"
      ]
     },
     "execution_count": 59,
     "metadata": {},
     "output_type": "execute_result"
    }
   ],
   "source": [
    "full_system_scf.e_tot # <-- energy from normal DFT calc"
   ]
  },
  {
   "cell_type": "code",
   "execution_count": null,
   "metadata": {},
   "outputs": [],
   "source": []
  },
  {
   "cell_type": "code",
   "execution_count": 60,
   "metadata": {},
   "outputs": [
    {
     "data": {
      "text/plain": [
       "-75.73152219195629"
      ]
     },
     "execution_count": 60,
     "metadata": {},
     "output_type": "execute_result"
    }
   ],
   "source": [
    "my_fci.e_tot # <-- energy from CI calc"
   ]
  },
  {
   "cell_type": "code",
   "execution_count": null,
   "metadata": {},
   "outputs": [],
   "source": []
  },
  {
   "cell_type": "markdown",
   "metadata": {},
   "source": [
    "## higher level DFT calc\n",
    "\n",
    "- we can calculate $\\mathcal{E}[\\gamma^{A_{\\text{act}}}_\\text{embedded}]$ using a better functional"
   ]
  },
  {
   "cell_type": "code",
   "execution_count": 61,
   "metadata": {},
   "outputs": [],
   "source": [
    "full_system_mol_HIGH_LEVEL_DFT = gto.Mole(atom= geometry,\n",
    "                      basis=basis,\n",
    "                       charge=0,\n",
    "                       #spin=0,\n",
    "                      )\n",
    "full_system_mol_HIGH_LEVEL_DFT.build()\n",
    "\n",
    "full_system_scf_HIGH_LEVEL = scf.RKS(full_system_mol_HIGH_LEVEL_DFT)\n",
    "full_system_scf_HIGH_LEVEL.verbose=1\n",
    "full_system_scf_HIGH_LEVEL.max_memory= 8_000\n",
    "full_system_scf_HIGH_LEVEL.conv_tol = 1e-6\n",
    "full_system_scf_HIGH_LEVEL.xc = high_level_xc_functional # <-- BETTER functional!\n",
    "# full_system_scf_HIGH_LEVEL.kernel()"
   ]
  },
  {
   "cell_type": "code",
   "execution_count": null,
   "metadata": {},
   "outputs": [],
   "source": []
  },
  {
   "cell_type": "code",
   "execution_count": 62,
   "metadata": {},
   "outputs": [
    {
     "data": {
      "text/plain": [
       "(-32.273088426752, 9.254230357248403)"
      ]
     },
     "execution_count": 62,
     "metadata": {},
     "output_type": "execute_result"
    }
   ],
   "source": [
    "e_act_emb_HIGH_LVL = full_system_scf_HIGH_LEVEL.energy_elec(dm=density_emb)\n",
    "e_act_emb_HIGH_LVL # run energy calc using high level functional (note density matrix is embedded A)"
   ]
  },
  {
   "cell_type": "code",
   "execution_count": 63,
   "metadata": {},
   "outputs": [
    {
     "data": {
      "text/plain": [
       "-32.273088426752"
      ]
     },
     "execution_count": 63,
     "metadata": {},
     "output_type": "execute_result"
    }
   ],
   "source": [
    "e_act_emb_HIGH_LVL[0]"
   ]
  },
  {
   "cell_type": "code",
   "execution_count": 64,
   "metadata": {},
   "outputs": [
    {
     "data": {
      "text/plain": [
       "-75.51092665483802"
      ]
     },
     "execution_count": 64,
     "metadata": {},
     "output_type": "execute_result"
    }
   ],
   "source": [
    "E_high_lvl_DFT = e_act_emb_HIGH_LVL[0] + E_env + two_e_cross + full_system_scf.energy_nuc() + correction\n",
    "E_high_lvl_DFT # <-- energy from embedded DFT calc"
   ]
  },
  {
   "cell_type": "code",
   "execution_count": 65,
   "metadata": {},
   "outputs": [
    {
     "name": "stdout",
     "output_type": "stream",
     "text": [
      "High level DFT in DFT error: 0.22059553711827107\n",
      "LOW level DFT in DFT error: 0.27936143016609094\n"
     ]
    }
   ],
   "source": [
    "print('High level DFT in DFT error:', np.abs(E_high_lvl_DFT-my_fci.e_tot))\n",
    "\n",
    "print('LOW level DFT in DFT error:', np.abs(e_mf_emb-my_fci.e_tot))"
   ]
  },
  {
   "cell_type": "code",
   "execution_count": null,
   "metadata": {},
   "outputs": [],
   "source": []
  },
  {
   "cell_type": "markdown",
   "metadata": {},
   "source": [
    "# Perform high level WaveFunction calc"
   ]
  },
  {
   "cell_type": "markdown",
   "metadata": {},
   "source": [
    "- we can calculate $\\mathcal{E}[\\gamma^{A_{\\text{act}}}_\\text{embedded}]$ using Wf methods now"
   ]
  },
  {
   "cell_type": "code",
   "execution_count": null,
   "metadata": {},
   "outputs": [],
   "source": []
  },
  {
   "cell_type": "markdown",
   "metadata": {},
   "source": [
    "# WF calculation\n",
    "\n",
    "1. Perform HF calc using embedded Hcore to find gamma_act_emb"
   ]
  },
  {
   "cell_type": "code",
   "execution_count": 66,
   "metadata": {},
   "outputs": [
    {
     "data": {
      "text/plain": [
       "-4.030044972631652"
      ]
     },
     "execution_count": 66,
     "metadata": {},
     "output_type": "execute_result"
    }
   ],
   "source": [
    "full_system_mol_EMBEDDED_HF = gto.Mole(atom= geometry,\n",
    "                      basis=basis,\n",
    "                       charge=0,\n",
    "                       #spin=0,\n",
    "                      )\n",
    "full_system_mol_EMBEDDED_HF.build()\n",
    "\n",
    "# RE-DEFINE number of electrons in system\n",
    "full_system_mol_EMBEDDED_HF.nelectron = 2*len(active_ao_ind)\n",
    "\n",
    "EMBEDDED_full_system_scf_HF = scf.RHF(full_system_mol_EMBEDDED)\n",
    "EMBEDDED_full_system_scf_HF.verbose=1\n",
    "EMBEDDED_full_system_scf_HF.max_memory= 8_000\n",
    "EMBEDDED_full_system_scf_HF.conv_tol = 1e-6\n",
    "# EMBEDDED_full_system_scf_HF.xc = low_level_xc_functional_or_HF\n",
    "\n",
    "h_core = EMBEDDED_full_system_scf_HF.get_hcore()\n",
    "\n",
    "# overwrite h_core to include embedding term!!!!\n",
    "EMBEDDED_full_system_scf_HF.get_hcore = lambda *args: v_emb + h_core\n",
    "\n",
    "\n",
    "EMBEDDED_full_system_scf_HF.kernel()"
   ]
  },
  {
   "cell_type": "code",
   "execution_count": 67,
   "metadata": {},
   "outputs": [
    {
     "data": {
      "text/plain": [
       "True"
      ]
     },
     "execution_count": 67,
     "metadata": {},
     "output_type": "execute_result"
    }
   ],
   "source": [
    "EMBEDDED_full_system_scf_HF.conv_check"
   ]
  },
  {
   "cell_type": "code",
   "execution_count": 68,
   "metadata": {},
   "outputs": [
    {
     "data": {
      "text/plain": [
       "True"
      ]
     },
     "execution_count": 68,
     "metadata": {},
     "output_type": "execute_result"
    }
   ],
   "source": [
    "EMBEDDED_occ_orbs_HF = EMBEDDED_full_system_scf_HF.mo_coeff[:,EMBEDDED_full_system_scf_HF.mo_occ>0]\n",
    "\n",
    "# optimized embedded denisty matrix\n",
    "density_emb_HF = 2 * EMBEDDED_occ_orbs_HF @ EMBEDDED_occ_orbs_HF.conj().T\n",
    "\n",
    "## check number of electrons makes sense:\n",
    "np.isclose(np.trace(density_emb_HF@S), 2*len(active_ao_ind))"
   ]
  },
  {
   "cell_type": "code",
   "execution_count": 69,
   "metadata": {},
   "outputs": [
    {
     "data": {
      "text/plain": [
       "-4.030044972631652"
      ]
     },
     "execution_count": 69,
     "metadata": {},
     "output_type": "execute_result"
    }
   ],
   "source": [
    "e_hf_check = EMBEDDED_full_system_scf_HF.energy_tot(dm=density_emb_HF, \n",
    "                                         vhf=EMBEDDED_full_system_scf_HF.get_veff())\n",
    "e_hf_check"
   ]
  },
  {
   "cell_type": "markdown",
   "metadata": {},
   "source": [
    "# Next\n",
    "\n",
    "2. Run WF method using embedded h_core"
   ]
  },
  {
   "cell_type": "code",
   "execution_count": 70,
   "metadata": {},
   "outputs": [
    {
     "name": "stdout",
     "output_type": "stream",
     "text": [
      "E(CCSD) = -4.100672312551892  E_corr = -0.07062733992024073\n"
     ]
    }
   ],
   "source": [
    "embedded_cc_obj = cc.CCSD(EMBEDDED_full_system_scf_HF)\n",
    "\n",
    "embedded_cc_obj.nocc = EMBEDDED_full_system_scf_HF.mol.nelectron // 2\n",
    "embedded_cc_obj.nmo = EMBEDDED_full_system_scf_HF.mo_energy.size\n",
    "# NEED to redefine embedded h_core again!\n",
    "embedded_cc_obj._scf.get_hcore = lambda *args: v_emb + h_core\n",
    "e_cc, t1, t2 = embedded_cc_obj.kernel()"
   ]
  },
  {
   "cell_type": "code",
   "execution_count": null,
   "metadata": {},
   "outputs": [],
   "source": []
  },
  {
   "cell_type": "code",
   "execution_count": 71,
   "metadata": {},
   "outputs": [
    {
     "name": "stdout",
     "output_type": "stream",
     "text": [
      "E(CCSD) = -4.100672312551892  E_corr = -0.07062733992024073\n"
     ]
    }
   ],
   "source": [
    "embedded_cc_obj = cc.CCSD(EMBEDDED_full_system_scf_HF)\n",
    "\n",
    "# NEED to redefine embedded h_core again!\n",
    "embedded_cc_obj._scf.get_hcore = lambda *args: v_emb + h_core\n",
    "e_cc, t1, t2 = embedded_cc_obj.kernel()"
   ]
  },
  {
   "cell_type": "code",
   "execution_count": null,
   "metadata": {},
   "outputs": [],
   "source": []
  },
  {
   "cell_type": "code",
   "execution_count": 72,
   "metadata": {},
   "outputs": [
    {
     "data": {
      "text/plain": [
       "True"
      ]
     },
     "execution_count": 72,
     "metadata": {},
     "output_type": "execute_result"
    }
   ],
   "source": [
    "np.isclose(embedded_cc_obj.e_hf,e_hf_check) # check HF and CC_hf match!"
   ]
  },
  {
   "cell_type": "code",
   "execution_count": 73,
   "metadata": {},
   "outputs": [
    {
     "data": {
      "text/plain": [
       "True"
      ]
     },
     "execution_count": 73,
     "metadata": {},
     "output_type": "execute_result"
    }
   ],
   "source": [
    "C_wf = embedded_cc_obj.mo_coeff[:,EMBEDDED_full_system_scf_HF.mo_occ>0] # take occupied C_coeff\n",
    "\n",
    "dm_wf = 2* C_wf @ C_wf.conj().T # THIS is embedded dm matrix from cc calc!\n",
    "np.isclose(np.trace(dm_wf@S), 2*len(active_ao_ind))"
   ]
  },
  {
   "cell_type": "code",
   "execution_count": 74,
   "metadata": {},
   "outputs": [
    {
     "data": {
      "text/plain": [
       "True"
      ]
     },
     "execution_count": 74,
     "metadata": {},
     "output_type": "execute_result"
    }
   ],
   "source": [
    "# check everything makes sense:\n",
    "embedded_cc_obj.e_tot == EMBEDDED_full_system_scf_HF.energy_tot(dm=dm_wf) + e_cc"
   ]
  },
  {
   "cell_type": "code",
   "execution_count": null,
   "metadata": {},
   "outputs": [],
   "source": []
  },
  {
   "cell_type": "code",
   "execution_count": 75,
   "metadata": {},
   "outputs": [
    {
     "data": {
      "text/plain": [
       "-0.019701888553904784"
      ]
     },
     "execution_count": 75,
     "metadata": {},
     "output_type": "execute_result"
    }
   ],
   "source": [
    "WF_correction = (matrix_dot(v_emb, dm_wf - dm_active))\n",
    "WF_correction"
   ]
  },
  {
   "cell_type": "markdown",
   "metadata": {},
   "source": [
    "# Finally\n",
    "3. Run everything again, using optimized embedded density matrix using standard system obj!"
   ]
  },
  {
   "cell_type": "code",
   "execution_count": 76,
   "metadata": {},
   "outputs": [],
   "source": [
    "full_system_mol_HF_normal_obj = gto.Mole(atom= geometry,\n",
    "                      basis=basis,\n",
    "                       charge=0,\n",
    "                       #spin=0,\n",
    "                      )\n",
    "full_system_mol_HF_normal_obj.build()\n",
    "\n",
    "# redefine number of electrons in system\n",
    "full_system_mol_HF_normal_obj.nelectron = 2*len(active_ao_ind)\n",
    "\n",
    "full_system_scf_HF_normal_obj = scf.RHF(full_system_mol_HF_normal_obj)\n",
    "full_system_scf_HF_normal_obj.verbose=1\n",
    "full_system_scf_HF_normal_obj.max_memory= 8_000\n",
    "full_system_scf_HF_normal_obj.conv_tol = 1e-6\n",
    "\n",
    "# do NOT redefine h_core to be embedded\n",
    "\n",
    "# Also don't run kernel, as we have op density matrix"
   ]
  },
  {
   "cell_type": "code",
   "execution_count": 77,
   "metadata": {},
   "outputs": [
    {
     "data": {
      "text/plain": [
       "-22.825575342800455"
      ]
     },
     "execution_count": 77,
     "metadata": {},
     "output_type": "execute_result"
    }
   ],
   "source": [
    "h1e=full_system_scf_HF_normal_obj.get_hcore()\n",
    "s1e=full_system_scf_HF_normal_obj.get_ovlp()\n",
    "vhf=full_system_scf_HF_normal_obj.get_veff(dm=dm_wf) # <-- gamma_A_embedded!\n",
    "\n",
    "\n",
    "fock = full_system_scf_HF_normal_obj.get_fock(h1e,\n",
    "                                              s1e,\n",
    "                                              vhf,\n",
    "                                              dm_wf)  # <-- gamma_A_embedded!\n",
    "\n",
    "\n",
    "mo_energy, mo_coeff = full_system_scf_HF_normal_obj.eig(fock, s1e)\n",
    "mo_occ = full_system_scf_HF_normal_obj.get_occ(mo_energy, mo_coeff)\n",
    "e_tot = full_system_scf_HF_normal_obj.energy_tot(dm_wf, # <-- gamma_A_embedded!\n",
    "                                                          h1e, vhf)\n",
    "\n",
    "\n",
    "# full_system_scf_HF_normal_obj.mo_coeff = mo_coeff\n",
    "full_system_scf_HF_normal_obj.mo_coeff =  embedded_cc_obj.mo_coeff#[:,embedded_wf.mo_occ>0] # take occupied C_coeff\n",
    "\n",
    "# full_system_scf_HF_normal_obj.mo_energy = mo_energy\n",
    "full_system_scf_HF_normal_obj.mo_occ = mo_occ\n",
    "full_system_scf_HF_normal_obj.e_tot = e_tot\n",
    "e_tot"
   ]
  },
  {
   "cell_type": "code",
   "execution_count": 78,
   "metadata": {},
   "outputs": [
    {
     "data": {
      "text/plain": [
       "-22.825575342800455"
      ]
     },
     "execution_count": 78,
     "metadata": {},
     "output_type": "execute_result"
    }
   ],
   "source": [
    "full_system_scf_HF_normal_obj.energy_tot(dm=dm_wf)"
   ]
  },
  {
   "cell_type": "code",
   "execution_count": 79,
   "metadata": {},
   "outputs": [],
   "source": [
    "# ## checking if mo_energy makes sense (as overwriting mo_coeff)\n",
    "# S_neg1 = sp.linalg.inv(s1e)\n",
    "# C_neg1 = sp.linalg.inv(EMBEDDED_full_system_scf.mo_coeff)\n",
    "\n",
    "# e = C_neg1 @ S_neg1 @ fock @ EMBEDDED_full_system_scf.mo_coeff\n",
    "\n",
    "# u, E, V = np.linalg.svd(e)\n",
    "\n",
    "# np.allclose(np.abs(mo_energy[mo_occ>0]), np.abs(E[mo_occ>0]))"
   ]
  },
  {
   "cell_type": "code",
   "execution_count": 80,
   "metadata": {},
   "outputs": [
    {
     "name": "stdout",
     "output_type": "stream",
     "text": [
      "CCSD not converged\n",
      "E(CCSD) = -24.18261578744312  E_corr = -1.357040444642662\n"
     ]
    },
    {
     "data": {
      "text/plain": [
       "True"
      ]
     },
     "execution_count": 80,
     "metadata": {},
     "output_type": "execute_result"
    }
   ],
   "source": [
    "cc_standard_obj = cc.CCSD(full_system_scf_HF_normal_obj)\n",
    "\n",
    "\n",
    "# embedded_cc_obj.nocc = EMBEDDED_full_system_scf_HF.mol.nelectron // 2\n",
    "# embedded_cc_obj.nmo = EMBEDDED_full_system_scf_HF.mo_energy.size\n",
    "\n",
    "e_cc, t1_standard, t2_standard = cc_standard_obj.kernel()\n",
    "\n",
    "np.isclose(cc_standard_obj.e_hf, e_tot)"
   ]
  },
  {
   "cell_type": "code",
   "execution_count": 81,
   "metadata": {},
   "outputs": [
    {
     "data": {
      "text/plain": [
       "-0.05056812189474305"
      ]
     },
     "execution_count": 81,
     "metadata": {},
     "output_type": "execute_result"
    }
   ],
   "source": [
    "C_wf = embedded_cc_obj.mo_coeff # take embedded gamma and calc energy WITHOUT embedded H\n",
    "eris = cc_standard_obj.ao2mo(mo_coeff=C_wf)\n",
    "\n",
    "# calculate coupled cluster correction to e_hf with same t1 and t2 as found using embedded Hcore\n",
    "e_cc_standard_with_embedded_Density = cc_standard_obj.energy(t1, t2, eris)\n",
    "\n",
    "# calculate coupled cluster correction to e_hf with NEW t1 and t2 found using WITHOUT embedded Hcore\n",
    "# BUT use C matrix from embedded Hcore calculation!\n",
    "# e_cc_standard_with_embedded_Density = cc_standard_obj.energy(t1_standard, t2_standard, eris)\n",
    "\n",
    "\n",
    "e_cc_standard_with_embedded_Density"
   ]
  },
  {
   "cell_type": "code",
   "execution_count": null,
   "metadata": {},
   "outputs": [],
   "source": []
  },
  {
   "cell_type": "code",
   "execution_count": 82,
   "metadata": {},
   "outputs": [
    {
     "name": "stdout",
     "output_type": "stream",
     "text": [
      "checking no. of electrons is correct: True\n",
      "\n",
      "checking CC dm matrix matches embedded dm matrix: True\n"
     ]
    }
   ],
   "source": [
    "C_wf_opt = cc_standard_obj.mo_coeff[:,cc_standard_obj.mo_occ>0] # take occupied C_coeff\n",
    "\n",
    "dm_wf_opt = 2* C_wf_opt @ C_wf_opt.conj().T\n",
    "\n",
    "print('checking no. of electrons is correct:', np.isclose(np.trace(dm_wf_opt@s1e), 2*len(active_ao_ind)))\n",
    "print()\n",
    "print('checking CC dm matrix matches embedded dm matrix:', np.allclose(dm_wf_opt, dm_wf))"
   ]
  },
  {
   "cell_type": "code",
   "execution_count": null,
   "metadata": {},
   "outputs": [],
   "source": []
  },
  {
   "cell_type": "code",
   "execution_count": 83,
   "metadata": {},
   "outputs": [
    {
     "data": {
      "text/plain": [
       "0.8366608743033481"
      ]
     },
     "execution_count": 83,
     "metadata": {},
     "output_type": "execute_result"
    }
   ],
   "source": [
    "E_WF_standard_obj = (cc_standard_obj.e_tot \n",
    "                     + E_env + two_e_cross + WF_correction)\n",
    "# E__WF # <-- energy from embedded WF calc\n",
    "\n",
    "np.abs(E_WF_standard_obj-my_fci.e_tot)"
   ]
  },
  {
   "cell_type": "code",
   "execution_count": 84,
   "metadata": {},
   "outputs": [
    {
     "data": {
      "text/plain": [
       "0.4698114484445597"
      ]
     },
     "execution_count": 84,
     "metadata": {},
     "output_type": "execute_result"
    }
   ],
   "source": [
    "E_WF_standard_obj = (cc_standard_obj.e_hf + e_cc_standard_with_embedded_Density\n",
    "                     + E_env + two_e_cross + WF_correction)\n",
    "# E__WF # <-- energy from embedded WF calc\n",
    "\n",
    "np.abs(E_WF_standard_obj-my_fci.e_tot)"
   ]
  },
  {
   "cell_type": "code",
   "execution_count": 85,
   "metadata": {},
   "outputs": [
    {
     "data": {
      "text/plain": [
       "0.8366608743033481"
      ]
     },
     "execution_count": 85,
     "metadata": {},
     "output_type": "execute_result"
    }
   ],
   "source": [
    "E_WF_standard_obj = (cc_standard_obj.e_corr + e_tot \n",
    "                     + E_env + two_e_cross + WF_correction)\n",
    "# E__WF # <-- energy from embedded WF calc\n",
    "\n",
    "np.abs(E_WF_standard_obj-my_fci.e_tot)"
   ]
  },
  {
   "cell_type": "code",
   "execution_count": 86,
   "metadata": {},
   "outputs": [
    {
     "ename": "NameError",
     "evalue": "name 'dsaas' is not defined",
     "output_type": "error",
     "traceback": [
      "\u001b[0;31m---------------------------------------------------------------------------\u001b[0m",
      "\u001b[0;31mNameError\u001b[0m                                 Traceback (most recent call last)",
      "\u001b[0;32m<ipython-input-86-00a0d0852ab9>\u001b[0m in \u001b[0;36m<module>\u001b[0;34m\u001b[0m\n\u001b[0;32m----> 1\u001b[0;31m \u001b[0mdsaas\u001b[0m\u001b[0;34m\u001b[0m\u001b[0;34m\u001b[0m\u001b[0m\n\u001b[0m",
      "\u001b[0;31mNameError\u001b[0m: name 'dsaas' is not defined"
     ]
    }
   ],
   "source": [
    "dsaas"
   ]
  },
  {
   "cell_type": "markdown",
   "metadata": {},
   "source": [
    "# OTHER WF way\n",
    "\n",
    "1. Run higher level method using dm from RKS\n",
    "2. don't try use HF to find other embedded gamma_A"
   ]
  },
  {
   "cell_type": "code",
   "execution_count": 110,
   "metadata": {},
   "outputs": [
    {
     "data": {
      "text/plain": [
       "-22.82704891967066"
      ]
     },
     "execution_count": 110,
     "metadata": {},
     "output_type": "execute_result"
    }
   ],
   "source": [
    "alt_full_system_mol_HF_normal_obj = gto.Mole(atom= geometry,\n",
    "                      basis=basis,\n",
    "                       charge=0,\n",
    "                       #spin=0,\n",
    "                      )\n",
    "alt_full_system_mol_HF_normal_obj.build()\n",
    "\n",
    "# redefine number of electrons in system\n",
    "alt_full_system_mol_HF_normal_obj.nelectron = 2*len(active_ao_ind)\n",
    "\n",
    "alt_full_system_scf_HF_normal_obj = scf.RHF(alt_full_system_mol_HF_normal_obj)\n",
    "alt_full_system_scf_HF_normal_obj.verbose=1\n",
    "alt_full_system_scf_HF_normal_obj.max_memory= 8_000\n",
    "alt_full_system_scf_HF_normal_obj.conv_tol = 1e-6\n",
    "\n",
    "# do NOT redefine h_core to be embedded\n",
    "\n",
    "# Also don't run kernel, as we have op density matrix\n",
    "\n",
    "\n",
    "\n",
    "h1e=alt_full_system_scf_HF_normal_obj.get_hcore()\n",
    "s1e=alt_full_system_scf_HF_normal_obj.get_ovlp()\n",
    "vhf=alt_full_system_scf_HF_normal_obj.get_veff(dm=density_emb) # <-- gamma_A_embedded from DFT calc!\n",
    "\n",
    "\n",
    "fock = alt_full_system_scf_HF_normal_obj.get_fock(h1e,\n",
    "                                              s1e,\n",
    "                                              vhf,\n",
    "                                              density_emb)  # <-- gamma_A_embedded!\n",
    "\n",
    "\n",
    "\n",
    "mo_energy, mo_coeff = alt_full_system_scf_HF_normal_obj.eig(fock, s1e)\n",
    "mo_occ = alt_full_system_scf_HF_normal_obj.get_occ(mo_energy, mo_coeff)\n",
    "e_tot = alt_full_system_scf_HF_normal_obj.energy_tot(density_emb, # <-- gamma_A_embedded!\n",
    "                                                          h1e, vhf)\n",
    "\n",
    "\n",
    "\n",
    "###########################\n",
    "\n",
    "# something going WRONG HERE\n",
    "# should set:\n",
    "#             alt_full_system_scf_HF_normal_obj.mo_coeff = EMBEDDED_full_system_scf.mo_coeff\n",
    "# rather than updated version from eig\n",
    "\n",
    "alt_full_system_scf_HF_normal_obj.mo_coeff = mo_coeff\n",
    "\n",
    "# alt_full_system_scf_HF_normal_obj.mo_coeff =  EMBEDDED_full_system_scf.mo_coeff\n",
    "\n",
    "# C_pseduo_inv = np.linalg.pinv(EMBEDDED_full_system_scf.mo_coeff)\n",
    "# C_pseudo = sp.linalg.inv(C_pseduo_inv)\n",
    "# alt_full_system_scf_HF_normal_obj.mo_coeff = C_pseudo\n",
    "\n",
    "##############################\n",
    "\n",
    "\n",
    "\n",
    "alt_full_system_scf_HF_normal_obj.mo_energy = mo_energy\n",
    "alt_full_system_scf_HF_normal_obj.mo_occ = mo_occ\n",
    "alt_full_system_scf_HF_normal_obj.e_tot = e_tot\n",
    "e_tot"
   ]
  },
  {
   "cell_type": "code",
   "execution_count": 111,
   "metadata": {},
   "outputs": [
    {
     "data": {
      "text/plain": [
       "-22.82704891967066"
      ]
     },
     "execution_count": 111,
     "metadata": {},
     "output_type": "execute_result"
    }
   ],
   "source": [
    "alt_full_system_scf_HF_normal_obj.energy_tot(dm=density_emb)"
   ]
  },
  {
   "cell_type": "code",
   "execution_count": 112,
   "metadata": {},
   "outputs": [
    {
     "data": {
      "text/plain": [
       "True"
      ]
     },
     "execution_count": 112,
     "metadata": {},
     "output_type": "execute_result"
    }
   ],
   "source": [
    "np.allclose(alt_full_system_scf_HF_normal_obj.make_rdm1(\n",
    "        EMBEDDED_full_system_scf.mo_coeff, EMBEDDED_full_system_scf.mo_occ)\n",
    "            , density_emb)"
   ]
  },
  {
   "cell_type": "code",
   "execution_count": null,
   "metadata": {},
   "outputs": [],
   "source": []
  },
  {
   "cell_type": "code",
   "execution_count": 90,
   "metadata": {},
   "outputs": [
    {
     "name": "stdout",
     "output_type": "stream",
     "text": [
      "E(CCSD) = -70.01462446342508  E_corr = -0.1107945073887872\n"
     ]
    },
    {
     "data": {
      "text/plain": [
       "False"
      ]
     },
     "execution_count": 90,
     "metadata": {},
     "output_type": "execute_result"
    }
   ],
   "source": [
    "alt_cc_standard_obj = cc.CCSD(alt_full_system_scf_HF_normal_obj)\n",
    "# cc_standard_obj.diis = False\n",
    "\n",
    "# embedded_cc_obj.nocc = EMBEDDED_full_system_scf_HF.mol.nelectron // 2\n",
    "# embedded_cc_obj.nmo = EMBEDDED_full_system_scf_HF.mo_energy.size\n",
    "\n",
    "e_cc, t1_standard, t2_standard = alt_cc_standard_obj.kernel()\n",
    "\n",
    "np.isclose(alt_cc_standard_obj.e_hf, e_tot)"
   ]
  },
  {
   "cell_type": "code",
   "execution_count": 91,
   "metadata": {},
   "outputs": [
    {
     "data": {
      "text/plain": [
       "0.40811148608031544"
      ]
     },
     "execution_count": 91,
     "metadata": {},
     "output_type": "execute_result"
    }
   ],
   "source": [
    "E_WF_standard_obj = (alt_cc_standard_obj.e_corr + e_tot\n",
    "                     + E_env + two_e_cross + WF_correction)\n",
    "# E__WF # <-- energy from embedded WF calc\n",
    "\n",
    "np.abs(E_WF_standard_obj-my_fci.e_tot)"
   ]
  },
  {
   "cell_type": "code",
   "execution_count": 92,
   "metadata": {},
   "outputs": [
    {
     "name": "stdout",
     "output_type": "stream",
     "text": [
      "checking no. of electrons is correct: True\n",
      "\n",
      "checking CC dm matrix matches embedded dm matrix: False\n"
     ]
    }
   ],
   "source": [
    "C_wf_opt = alt_cc_standard_obj.mo_coeff[:,cc_standard_obj.mo_occ>0] # take occupied C_coeff\n",
    "\n",
    "dm_wf_opt = 2* C_wf_opt @ C_wf_opt.conj().T\n",
    "\n",
    "print('checking no. of electrons is correct:', np.isclose(np.trace(dm_wf_opt@s1e), 2*len(active_ao_ind)))\n",
    "print()\n",
    "print('checking CC dm matrix matches embedded dm matrix:', np.allclose(dm_wf_opt, density_emb))"
   ]
  },
  {
   "cell_type": "code",
   "execution_count": null,
   "metadata": {},
   "outputs": [],
   "source": [
    "# if CC dm matrix is not matching, this is due to NOT setting:\n",
    "#     alt_full_system_scf_HF_normal_obj.mo_coeff = EMBEDDED_full_system_scf.mo_coeff"
   ]
  },
  {
   "cell_type": "code",
   "execution_count": null,
   "metadata": {},
   "outputs": [],
   "source": []
  },
  {
   "cell_type": "code",
   "execution_count": 95,
   "metadata": {},
   "outputs": [
    {
     "data": {
      "text/plain": [
       "-69.90382995603629"
      ]
     },
     "execution_count": 95,
     "metadata": {},
     "output_type": "execute_result"
    }
   ],
   "source": [
    "alt_cc_standard_obj.e_hf"
   ]
  },
  {
   "cell_type": "code",
   "execution_count": 97,
   "metadata": {},
   "outputs": [
    {
     "data": {
      "text/plain": [
       "-22.876143464695197"
      ]
     },
     "execution_count": 97,
     "metadata": {},
     "output_type": "execute_result"
    }
   ],
   "source": [
    "cc_standard_obj.e_hf + e_cc_standard_with_embedded_Density"
   ]
  },
  {
   "cell_type": "code",
   "execution_count": null,
   "metadata": {},
   "outputs": [],
   "source": []
  },
  {
   "cell_type": "code",
   "execution_count": null,
   "metadata": {},
   "outputs": [],
   "source": []
  },
  {
   "cell_type": "markdown",
   "metadata": {},
   "source": [
    "# QC work"
   ]
  },
  {
   "cell_type": "markdown",
   "metadata": {},
   "source": [
    "$$H_{fermionic} = h_{nuc} + \\sum_{p, q} h_{pq} a_{p}^{\\dagger} a_{q} + \\frac{1}{2} \\sum_{p, q ,r ,s} h_{pqrs} a_{p}^{\\dagger} a_{q}^{\\dagger} a_{r} a_{s}$$\n",
    "\n",
    "where:\n",
    "\n",
    "- $$h_{pq} = \\int d{\\vec{x}} \\phi_{p}^{*}({\\vec{x}}) \\bigg( - \\frac{\\nabla^{2}_{{\\vec{r}}}}{2} - \\sum_{I} \\frac{Z_{I}}{|{\\vec{r}} - {\\vec{R}_{I}} |} \\bigg) \\phi_{q}({\\vec{x}})$$\n",
    "\n",
    "\n",
    "- $$h_{pqrs} = \\int d{\\vec{x}}_{1} d{\\vec{x}}_{2} \\frac{\\phi_{p}^{*}({\\vec{x}}_{1}) \\phi_{q}^{*}({\\vec{x}}_{2}) \\phi_{s}({\\vec{x}}_{1}) \\phi_{r}({\\vec{x}}_{2})}{|{\\vec{r}_{1}} - {\\vec{r}}_{2}|}$$ \n",
    "\n",
    "\n",
    "- $$h_{nuc} = \\frac{1}{2} \\sum_{I \\neq J} \\frac{Z_{I} Z_{J}}{| {\\vec{R}}_{I} - {\\vec{R}}_{J}|}$$"
   ]
  },
  {
   "cell_type": "code",
   "execution_count": null,
   "metadata": {},
   "outputs": [],
   "source": []
  },
  {
   "cell_type": "code",
   "execution_count": null,
   "metadata": {},
   "outputs": [],
   "source": [
    "#2D array for one-body Hamiltonian (H_core) in the MO representation\n",
    "\n",
    "Hcore_normal =  full_system_scf_HF_normal_obj.get_hcore()\n",
    "# canonical_orbitals  = full_system_scf_HF_normal_obj.mo_coeff # HF calc WITH embedded density matrix, but standard molecule obj!\n",
    "canonical_orbitals  = full_system_scf_HF_normal_obj.mo_coeff[:,full_system_scf_HF_normal_obj.mo_occ>0]\n",
    "\n",
    "one_body_integrals = canonical_orbitals.conj().T @ Hcore_normal @ canonical_orbitals\n",
    "one_body_integrals.shape"
   ]
  },
  {
   "cell_type": "code",
   "execution_count": null,
   "metadata": {},
   "outputs": [],
   "source": []
  },
  {
   "cell_type": "code",
   "execution_count": null,
   "metadata": {},
   "outputs": [],
   "source": [
    "# A 4-dimension array for electron repulsion integrals in the MO\n",
    "# representation.  The integrals are computed as\n",
    "# h[p,q,r,s]=\\int \\phi_p(x)* \\phi_q(y)* V_{elec-elec} \\phi_r(y) \\phi_s(x) dxdy\n",
    "from pyscf import ao2mo\n",
    "\n",
    "\n",
    "eri = ao2mo.kernel(full_system_mol_HF_normal_obj, canonical_orbitals)\n",
    "n_orbitals = canonical_orbitals.shape[1]\n",
    "eri = ao2mo.restore(1, # no permutation symmetry\n",
    "                      eri, \n",
    "                    n_orbitals)\n",
    "\n",
    "\n",
    "two_body_integrals = np.asarray(eri.transpose(0, 2, 3, 1), order='C')\n",
    "two_body_integrals.shape"
   ]
  },
  {
   "cell_type": "code",
   "execution_count": null,
   "metadata": {},
   "outputs": [],
   "source": []
  },
  {
   "cell_type": "code",
   "execution_count": null,
   "metadata": {},
   "outputs": [],
   "source": [
    "def spinorb_from_spatial(one_body_integrals, two_body_integrals):\n",
    "    EQ_TOLERANCE=1e-8\n",
    "    n_qubits = 2 * one_body_integrals.shape[0]\n",
    "\n",
    "    # Initialize Hamiltonian coefficients.\n",
    "    one_body_coefficients = np.zeros((n_qubits, n_qubits))\n",
    "    two_body_coefficients = np.zeros(\n",
    "        (n_qubits, n_qubits, n_qubits, n_qubits))\n",
    "    # Loop through integrals.\n",
    "    for p in range(n_qubits // 2):\n",
    "        for q in range(n_qubits // 2):\n",
    "\n",
    "            # Populate 1-body coefficients. Require p and q have same spin.\n",
    "            one_body_coefficients[2 * p, 2 * q] = one_body_integrals[p, q]\n",
    "            one_body_coefficients[2 * p + 1, 2 * q +\n",
    "                                  1] = one_body_integrals[p, q]\n",
    "            # Continue looping to prepare 2-body coefficients.\n",
    "            for r in range(n_qubits // 2):\n",
    "                for s in range(n_qubits // 2):\n",
    "\n",
    "                    # Mixed spin\n",
    "                    two_body_coefficients[2 * p, 2 * q + 1, 2 * r + 1, 2 *\n",
    "                                          s] = (two_body_integrals[p, q, r, s])\n",
    "                    two_body_coefficients[2 * p + 1, 2 * q, 2 * r, 2 * s +\n",
    "                                          1] = (two_body_integrals[p, q, r, s])\n",
    "\n",
    "                    # Same spin\n",
    "                    two_body_coefficients[2 * p, 2 * q, 2 * r, 2 *\n",
    "                                          s] = (two_body_integrals[p, q, r, s])\n",
    "                    two_body_coefficients[2 * p + 1, 2 * q + 1, 2 * r +\n",
    "                                          1, 2 * s +\n",
    "                                          1] = (two_body_integrals[p, q, r, s])\n",
    "\n",
    "    # Truncate.\n",
    "    one_body_coefficients[\n",
    "        np.absolute(one_body_coefficients) < EQ_TOLERANCE] = 0.\n",
    "    two_body_coefficients[\n",
    "        np.absolute(two_body_coefficients) < EQ_TOLERANCE] = 0.\n",
    "\n",
    "    return one_body_coefficients, two_body_coefficients\n"
   ]
  },
  {
   "cell_type": "code",
   "execution_count": null,
   "metadata": {},
   "outputs": [],
   "source": [
    "one_body_coefficients, two_body_coefficients = spinorb_from_spatial(one_body_integrals,\n",
    "                                                                    two_body_integrals)"
   ]
  },
  {
   "cell_type": "code",
   "execution_count": null,
   "metadata": {},
   "outputs": [],
   "source": [
    "from openfermion.ops.representations import InteractionOperator\n",
    "\n",
    "constant = full_system_scf.energy_nuc() \n",
    "\n",
    "molecular_hamiltonian = InteractionOperator(constant,\n",
    "                                            one_body_coefficients,\n",
    "                                            1 / 2 * two_body_coefficients)\n",
    "\n",
    "n_qubits = two_body_coefficients.shape[0]\n",
    "\n",
    "from openfermion.transforms import jordan_wigner\n",
    "Qubit_Hamiltonian = jordan_wigner(molecular_hamiltonian)"
   ]
  },
  {
   "cell_type": "code",
   "execution_count": null,
   "metadata": {},
   "outputs": [],
   "source": [
    "len(list(Qubit_Hamiltonian))"
   ]
  },
  {
   "cell_type": "code",
   "execution_count": null,
   "metadata": {},
   "outputs": [],
   "source": [
    "from openfermion import get_sparse_operator\n",
    "H_matrix = get_sparse_operator(Qubit_Hamiltonian)"
   ]
  },
  {
   "cell_type": "code",
   "execution_count": null,
   "metadata": {},
   "outputs": [],
   "source": [
    "from scipy.linalg import eigh\n",
    "eig_val, eig_vec = eigh(H_matrix.todense())\n"
   ]
  },
  {
   "cell_type": "code",
   "execution_count": null,
   "metadata": {},
   "outputs": [],
   "source": [
    "min(eig_val)"
   ]
  },
  {
   "cell_type": "code",
   "execution_count": null,
   "metadata": {},
   "outputs": [],
   "source": [
    "E_VQE = min(eig_val)"
   ]
  },
  {
   "cell_type": "code",
   "execution_count": null,
   "metadata": {},
   "outputs": [],
   "source": [
    "E_VQE_in_DFT = (E_VQE + \n",
    "                E_env + two_e_cross + WF_correction)\n",
    "E_VQE_in_DFT"
   ]
  },
  {
   "cell_type": "code",
   "execution_count": null,
   "metadata": {},
   "outputs": [],
   "source": [
    "np.abs(E_VQE_in_DFT-my_fci.e_tot)"
   ]
  },
  {
   "cell_type": "code",
   "execution_count": null,
   "metadata": {},
   "outputs": [],
   "source": []
  },
  {
   "cell_type": "code",
   "execution_count": null,
   "metadata": {},
   "outputs": [],
   "source": []
  },
  {
   "cell_type": "code",
   "execution_count": null,
   "metadata": {},
   "outputs": [],
   "source": [
    "TODO everything below here\n",
    "\n",
    "# incorrect code below!"
   ]
  },
  {
   "cell_type": "code",
   "execution_count": null,
   "metadata": {},
   "outputs": [],
   "source": []
  },
  {
   "cell_type": "code",
   "execution_count": null,
   "metadata": {},
   "outputs": [],
   "source": []
  },
  {
   "cell_type": "code",
   "execution_count": null,
   "metadata": {},
   "outputs": [],
   "source": []
  },
  {
   "cell_type": "code",
   "execution_count": null,
   "metadata": {},
   "outputs": [],
   "source": []
  },
  {
   "cell_type": "code",
   "execution_count": null,
   "metadata": {},
   "outputs": [],
   "source": []
  },
  {
   "cell_type": "code",
   "execution_count": null,
   "metadata": {},
   "outputs": [],
   "source": []
  },
  {
   "cell_type": "code",
   "execution_count": null,
   "metadata": {},
   "outputs": [],
   "source": []
  },
  {
   "cell_type": "code",
   "execution_count": null,
   "metadata": {},
   "outputs": [],
   "source": []
  },
  {
   "cell_type": "code",
   "execution_count": null,
   "metadata": {},
   "outputs": [],
   "source": [
    "#2D array for one-body Hamiltonian (H_core) in the MO representation\n",
    "\n",
    "EMBEDDED_Hcore =  full_system_scf_HIGH_LEVEL_HF.get_hcore()\n",
    "canonical_orbitals  = full_system_scf_HIGH_LEVEL_HF.mo_coeff \n",
    "\n",
    "one_body_integrals = canonical_orbitals.conj().T @ EMBEDDED_Hcore @ canonical_orbitals\n",
    "one_body_integrals.shape"
   ]
  },
  {
   "cell_type": "code",
   "execution_count": null,
   "metadata": {},
   "outputs": [],
   "source": [
    "# A 4-dimension array for electron repulsion integrals in the MO\n",
    "# representation.  The integrals are computed as\n",
    "# h[p,q,r,s]=\\int \\phi_p(x)* \\phi_q(y)* V_{elec-elec} \\phi_r(y) \\phi_s(x) dxdy\n",
    "from pyscf import ao2mo\n",
    "\n",
    "# eri = ao2mo.kernel(EMBEDDED_HF_full_system_scf, canonical_orbitals)\n",
    "\n",
    "eri = ao2mo.kernel(full_system_mol_HIGH_LEVEL_WF_mol, canonical_orbitals)\n",
    "n_orbitals = canonical_orbitals.shape[1]\n",
    "eri = ao2mo.restore(1, # no permutation symmetry\n",
    "                                eri, n_orbitals)\n",
    "\n",
    "\n",
    "two_body_integrals = np.asarray(eri.transpose(0, 2, 3, 1), order='C')\n",
    "two_body_integrals.shape"
   ]
  },
  {
   "cell_type": "code",
   "execution_count": null,
   "metadata": {},
   "outputs": [],
   "source": []
  },
  {
   "cell_type": "code",
   "execution_count": null,
   "metadata": {},
   "outputs": [],
   "source": [
    "def spinorb_from_spatial(one_body_integrals, two_body_integrals):\n",
    "    EQ_TOLERANCE=1e-8\n",
    "    n_qubits = 2 * one_body_integrals.shape[0]\n",
    "\n",
    "    # Initialize Hamiltonian coefficients.\n",
    "    one_body_coefficients = np.zeros((n_qubits, n_qubits))\n",
    "    two_body_coefficients = np.zeros(\n",
    "        (n_qubits, n_qubits, n_qubits, n_qubits))\n",
    "    # Loop through integrals.\n",
    "    for p in range(n_qubits // 2):\n",
    "        for q in range(n_qubits // 2):\n",
    "\n",
    "            # Populate 1-body coefficients. Require p and q have same spin.\n",
    "            one_body_coefficients[2 * p, 2 * q] = one_body_integrals[p, q]\n",
    "            one_body_coefficients[2 * p + 1, 2 * q +\n",
    "                                  1] = one_body_integrals[p, q]\n",
    "            # Continue looping to prepare 2-body coefficients.\n",
    "            for r in range(n_qubits // 2):\n",
    "                for s in range(n_qubits // 2):\n",
    "\n",
    "                    # Mixed spin\n",
    "                    two_body_coefficients[2 * p, 2 * q + 1, 2 * r + 1, 2 *\n",
    "                                          s] = (two_body_integrals[p, q, r, s])\n",
    "                    two_body_coefficients[2 * p + 1, 2 * q, 2 * r, 2 * s +\n",
    "                                          1] = (two_body_integrals[p, q, r, s])\n",
    "\n",
    "                    # Same spin\n",
    "                    two_body_coefficients[2 * p, 2 * q, 2 * r, 2 *\n",
    "                                          s] = (two_body_integrals[p, q, r, s])\n",
    "                    two_body_coefficients[2 * p + 1, 2 * q + 1, 2 * r +\n",
    "                                          1, 2 * s +\n",
    "                                          1] = (two_body_integrals[p, q, r, s])\n",
    "\n",
    "    # Truncate.\n",
    "    one_body_coefficients[\n",
    "        np.absolute(one_body_coefficients) < EQ_TOLERANCE] = 0.\n",
    "    two_body_coefficients[\n",
    "        np.absolute(two_body_coefficients) < EQ_TOLERANCE] = 0.\n",
    "\n",
    "    return one_body_coefficients, two_body_coefficients\n"
   ]
  },
  {
   "cell_type": "code",
   "execution_count": null,
   "metadata": {},
   "outputs": [],
   "source": [
    "one_body_coefficients, two_body_coefficients = spinorb_from_spatial(one_body_integrals,\n",
    "                                                                    two_body_integrals)"
   ]
  },
  {
   "cell_type": "code",
   "execution_count": null,
   "metadata": {},
   "outputs": [],
   "source": [
    "from openfermion.ops.representations import InteractionOperator\n",
    "\n",
    "constant = full_system_scf.energy_nuc() \n",
    "\n",
    "molecular_hamiltonian = InteractionOperator(constant,\n",
    "                                            one_body_coefficients,\n",
    "                                            1 / 2 * two_body_coefficients)\n",
    "\n",
    "n_qubits = two_body_coefficients.shape[0]\n",
    "\n",
    "from openfermion.transforms import jordan_wigner\n",
    "Qubit_Hamiltonian = jordan_wigner(molecular_hamiltonian)"
   ]
  },
  {
   "cell_type": "code",
   "execution_count": null,
   "metadata": {},
   "outputs": [],
   "source": [
    "len(list(Qubit_Hamiltonian))"
   ]
  },
  {
   "cell_type": "code",
   "execution_count": null,
   "metadata": {},
   "outputs": [],
   "source": []
  },
  {
   "cell_type": "code",
   "execution_count": null,
   "metadata": {},
   "outputs": [],
   "source": [
    "from openfermion import get_sparse_operator\n",
    "H_matrix = get_sparse_operator(Qubit_Hamiltonian)"
   ]
  },
  {
   "cell_type": "code",
   "execution_count": null,
   "metadata": {},
   "outputs": [],
   "source": []
  },
  {
   "cell_type": "code",
   "execution_count": null,
   "metadata": {},
   "outputs": [],
   "source": []
  },
  {
   "cell_type": "code",
   "execution_count": null,
   "metadata": {},
   "outputs": [],
   "source": []
  },
  {
   "cell_type": "code",
   "execution_count": null,
   "metadata": {},
   "outputs": [],
   "source": []
  },
  {
   "cell_type": "code",
   "execution_count": null,
   "metadata": {},
   "outputs": [],
   "source": []
  },
  {
   "cell_type": "code",
   "execution_count": null,
   "metadata": {},
   "outputs": [],
   "source": [
    "print(embedded_wf.e_tot)\n",
    "print(full_system_scf_HIGH_LEVEL_HF.e_tot + correlation_energy)\n",
    "# np.isclose(embedded_wf.e_tot,  )"
   ]
  },
  {
   "cell_type": "code",
   "execution_count": null,
   "metadata": {},
   "outputs": [],
   "source": []
  },
  {
   "cell_type": "code",
   "execution_count": null,
   "metadata": {},
   "outputs": [],
   "source": [
    "## not sure if this\n",
    "shift = full_system_mol.nbas - n_env_mos\n",
    "frozen_orbitals = [i for i in range(shift, full_system_mol.nbas)]\n",
    "\n",
    "## OR\n",
    "frozen_orbitals = enviro_ind_occ"
   ]
  },
  {
   "cell_type": "code",
   "execution_count": null,
   "metadata": {},
   "outputs": [],
   "source": []
  },
  {
   "cell_type": "code",
   "execution_count": null,
   "metadata": {},
   "outputs": [],
   "source": [
    "full_system_mol_EMBEDDED_HF = gto.Mole(atom= geometry,\n",
    "                      basis=basis,\n",
    "                       charge=0,\n",
    "                       #spin=0,\n",
    "                      )\n",
    "full_system_mol_EMBEDDED_HF.build()\n",
    "full_system_mol_EMBEDDED_HF.nelectron = int(np.around(np.trace(dm_active@S)))\n",
    "\n",
    "EMBEDDED_HF_full_system_scf = scf.RHF(full_system_mol_EMBEDDED_HF)\n",
    "EMBEDDED_HF_full_system_scf.verbose=1\n",
    "EMBEDDED_HF_full_system_scf.max_memory= 8_000\n",
    "EMBEDDED_HF_full_system_scf.conv_tol = 1e-6\n",
    "\n",
    "h_core = EMBEDDED_HF_full_system_scf.get_hcore()\n",
    "EMBEDDED_HF_full_system_scf.get_hcore = lambda *args: v_emb + h_core\n",
    "\n",
    "EMBEDDED_HF_full_system_scf.kernel() # <-- this would run away from psi embedded\n",
    "\n",
    "dm_act_EMBEDDED = EMBEDDED_HF_full_system_scf.make_rdm1()\n",
    "# dm_act_EMBEDDED = 2 * act_orbitals @ act_orbitals.T\n",
    "\n",
    "h1e = EMBEDDED_HF_full_system_scf.get_hcore()\n",
    "s1e = EMBEDDED_HF_full_system_scf.get_ovlp()\n",
    "vhf= EMBEDDED_HF_full_system_scf.get_veff(dm=dm_act_EMBEDDED)\n",
    "\n",
    "fock = EMBEDDED_HF_full_system_scf.get_fock(h1e, s1e, vhf, dm_act_EMBEDDED)  # = h1e + vhf, no DIIS\n",
    "mo_energy, mo_coeff = EMBEDDED_HF_full_system_scf.eig(fock, s1e)\n",
    "mo_occ = EMBEDDED_HF_full_system_scf.get_occ(mo_energy, mo_coeff)\n",
    "e_tot = EMBEDDED_HF_full_system_scf.energy_tot(dm_act_EMBEDDED, h1e, vhf)\n",
    "\n",
    "\n",
    "EMBEDDED_HF_full_system_scf.mo_energy = mo_energy\n",
    "EMBEDDED_HF_full_system_scf.mo_coeff = mo_coeff\n",
    "EMBEDDED_HF_full_system_scf.mo_occ = mo_occ\n",
    "EMBEDDED_HF_full_system_scf.e_tot = e_tot\n",
    "EMBEDDED_HF_full_system_scf.converged = True\n",
    "e_tot"
   ]
  },
  {
   "cell_type": "code",
   "execution_count": null,
   "metadata": {},
   "outputs": [],
   "source": [
    "np.trace(dm_act_EMBEDDED@S)"
   ]
  },
  {
   "cell_type": "code",
   "execution_count": null,
   "metadata": {},
   "outputs": [],
   "source": [
    "embedded_wf = cc.CCSD(EMBEDDED_HF_full_system_scf).set(frozen = frozen_orbitals).run()\n",
    "correlation_energy = embedded_wf.e_corr\n",
    "correlation_energy"
   ]
  },
  {
   "cell_type": "code",
   "execution_count": null,
   "metadata": {},
   "outputs": [],
   "source": []
  },
  {
   "cell_type": "code",
   "execution_count": null,
   "metadata": {},
   "outputs": [],
   "source": []
  },
  {
   "cell_type": "code",
   "execution_count": null,
   "metadata": {},
   "outputs": [],
   "source": [
    "# uses new embedded density matrix!\n",
    "e_act_emb_NEW = matrix_dot(dm_act_EMBEDDED, h_core + 0.5 * J_emb - 0.25 * K_emb)\n",
    "# e_act_emb_NEW = matrix_dot(dm_act_EMBEDDED, h_core + 0.5 * vhf)\n",
    "e_act_emb_NEW"
   ]
  },
  {
   "cell_type": "code",
   "execution_count": null,
   "metadata": {},
   "outputs": [],
   "source": []
  },
  {
   "cell_type": "code",
   "execution_count": null,
   "metadata": {},
   "outputs": [],
   "source": [
    "E_corrected = (e_act_emb_NEW + E_env + two_e_cross + \n",
    "               full_system_scf.energy_nuc() + correction + correlation_energy) \n",
    "E_corrected"
   ]
  },
  {
   "cell_type": "code",
   "execution_count": null,
   "metadata": {},
   "outputs": [],
   "source": [
    "HF_scf = scf.RHF(full_system_mol)\n",
    "HF_scf.verbose=1\n",
    "HF_scf.max_memory= 8_000\n",
    "HF_scf.conv_tol = 1e-6\n",
    "HF_scf.xc = low_level_xc_functional_or_HF\n",
    "HF_scf.kernel()\n",
    "\n",
    "cisolver = fci.FCI(HF_scf)\n",
    "print('E(UHF-FCI) = %.12f' % cisolver.kernel()[0])\n",
    "\n",
    "# myci = ci.CISD(HF_scf).run() # this is UCISD\n",
    "# print('UCISD total energy = ', myci.e_tot)"
   ]
  },
  {
   "cell_type": "code",
   "execution_count": null,
   "metadata": {},
   "outputs": [],
   "source": []
  },
  {
   "cell_type": "code",
   "execution_count": null,
   "metadata": {},
   "outputs": [],
   "source": [
    "abs(myci.e_tot - e_mf_emb)"
   ]
  },
  {
   "cell_type": "code",
   "execution_count": null,
   "metadata": {},
   "outputs": [],
   "source": [
    "abs(myci.e_tot - E_corrected)"
   ]
  },
  {
   "cell_type": "code",
   "execution_count": null,
   "metadata": {},
   "outputs": [],
   "source": [
    "abs(myci.e_tot - (e_mf_emb + correlation_energy )) # not (what PsiEmbed does)"
   ]
  },
  {
   "cell_type": "code",
   "execution_count": null,
   "metadata": {},
   "outputs": [],
   "source": []
  },
  {
   "cell_type": "code",
   "execution_count": null,
   "metadata": {},
   "outputs": [],
   "source": [
    "full_system_mol = gto.Mole(atom= geometry,\n",
    "                      basis=basis,\n",
    "                       charge=0,\n",
    "                       #spin=0,\n",
    "                      )\n",
    "full_system_mol.build()\n",
    "full_system_mol.verbose = 1\n",
    "full_system_mol.max_memory = 8_000 #MB\n",
    "full_system_scf = scf.RKS(full_system_mol)\n",
    "full_system_scf.verbose=1\n",
    "full_system_scf.max_memory= 8_000\n",
    "full_system_scf.conv_tol = 1e-6\n",
    "full_system_scf.xc = high_level_xc_functional # <-- higher level DFT calc of supersystem!!!\n",
    "full_system_scf.kernel()\n",
    "\n",
    "full_system_scf.e_tot"
   ]
  },
  {
   "cell_type": "code",
   "execution_count": null,
   "metadata": {
    "scrolled": true
   },
   "outputs": [],
   "source": [
    "print(abs(full_system_scf.e_tot - e_mf_emb))\n",
    "print(abs(full_system_scf.e_tot - E_corrected))\n",
    "print(abs(full_system_scf.e_tot - (e_mf_emb + correlation_energy )))"
   ]
  },
  {
   "cell_type": "code",
   "execution_count": null,
   "metadata": {},
   "outputs": [],
   "source": []
  },
  {
   "cell_type": "code",
   "execution_count": null,
   "metadata": {},
   "outputs": [],
   "source": []
  },
  {
   "cell_type": "code",
   "execution_count": null,
   "metadata": {},
   "outputs": [],
   "source": [
    "fock = EMBEDDED_HF_full_system_scf.get_fock(h1e, s1e, vhf, dm_act_EMBEDDED)  # = h1e + vhf, no DIIS\n",
    "mo_energy, mo_coeff = EMBEDDED_HF_full_system_scf.eig(fock, s1e)\n",
    "\n",
    "# eig_val, eig_vec = eigh(fock)\n",
    "# eig_val"
   ]
  },
  {
   "cell_type": "code",
   "execution_count": null,
   "metadata": {},
   "outputs": [],
   "source": []
  },
  {
   "cell_type": "code",
   "execution_count": null,
   "metadata": {},
   "outputs": [],
   "source": [
    "# h_core + 0.5 * vhf"
   ]
  },
  {
   "cell_type": "markdown",
   "metadata": {},
   "source": [
    "# QC calc"
   ]
  },
  {
   "cell_type": "code",
   "execution_count": null,
   "metadata": {},
   "outputs": [],
   "source": [
    "# #2D array for one-body Hamiltonian (H_core) in the MO representation\n",
    "\n",
    "# EMBEDDED_Hcore =  EMBEDDED_HF_full_system_scf.get_hcore() # contains v_embedding!\n",
    "# canonical_orbitals  = EMBEDDED_HF_full_system_scf.mo_coeff \n",
    "\n",
    "\n",
    "# one_body_integrals = canonical_orbitals.conj().T @ EMBEDDED_Hcore @ canonical_orbitals\n",
    "# one_body_integrals.shape"
   ]
  },
  {
   "cell_type": "code",
   "execution_count": null,
   "metadata": {},
   "outputs": [],
   "source": [
    "#2D array for one-body Hamiltonian (H_core) in the MO representation\n",
    "\n",
    "EMBEDDED_Hcore =  h_core # does NOT!!!!!!! contain v_embedding!\n",
    "canonical_orbitals  = EMBEDDED_HF_full_system_scf.mo_coeff # <-- this is optimized wavefunction WITH embedded vhf\n",
    "\n",
    "\n",
    "one_body_integrals = canonical_orbitals.conj().T @ EMBEDDED_Hcore @ canonical_orbitals\n",
    "one_body_integrals.shape"
   ]
  },
  {
   "cell_type": "code",
   "execution_count": null,
   "metadata": {},
   "outputs": [],
   "source": [
    "# A 4-dimension array for electron repulsion integrals in the MO\n",
    "# representation.  The integrals are computed as\n",
    "# h[p,q,r,s]=\\int \\phi_p(x)* \\phi_q(y)* V_{elec-elec} \\phi_r(y) \\phi_s(x) dxdy\n",
    "from pyscf import ao2mo\n",
    "\n",
    "# eri = ao2mo.kernel(EMBEDDED_HF_full_system_scf, canonical_orbitals)\n",
    "\n",
    "eri = ao2mo.kernel(full_system_mol_EMBEDDED_HF, canonical_orbitals)\n",
    "n_orbitals = canonical_orbitals.shape[1]\n",
    "eri = ao2mo.restore(1, # no permutation symmetry\n",
    "                                eri, n_orbitals)\n",
    "\n",
    "\n",
    "two_body_integrals = np.asarray(eri.transpose(0, 2, 3, 1), order='C')\n",
    "two_body_integrals.shape"
   ]
  },
  {
   "cell_type": "code",
   "execution_count": null,
   "metadata": {},
   "outputs": [],
   "source": [
    "shift = full_system_mol.nbas - n_env_mos\n",
    "frozen_orbitals = [i for i in range(shift, full_system_mol.nbas)]\n",
    "\n",
    "# frozen_orbitals = enviro_ao_ind\n",
    "frozen_orbitals"
   ]
  },
  {
   "cell_type": "code",
   "execution_count": null,
   "metadata": {},
   "outputs": [],
   "source": [
    "# https://github.com/quantumlib/OpenFermion/blob/84d169b529a27a0cfd1cc41073d2665f1fcf0312/src/openfermion/ops/representations/interaction_operator.py#L210\n",
    "\n",
    "## define active space!\n",
    "\n",
    "active_indices = [i for i in range(0, shift)]\n",
    "occupied_indices = np.where(EMBEDDED_HF_full_system_scf.mo_occ>0)[0]\n",
    "\n",
    "# active_indices = active_ao_ind\n",
    "\n",
    "core_adjustment = 0.0\n",
    "for i in occupied_indices:\n",
    "    core_adjustment += 2 * one_body_integrals[i, i]\n",
    "    for j in occupied_indices:\n",
    "        core_adjustment += (2 * two_body_integrals[i, j, j, i] -\n",
    "                          two_body_integrals[i, j, i, j])\n",
    "\n",
    "# Modified one electron integrals\n",
    "one_body_integrals_new = np.copy(one_body_integrals)\n",
    "for u in active_indices:\n",
    "    for v in active_indices:\n",
    "        for i in occupied_indices:\n",
    "            one_body_integrals_new[u, v] += (\n",
    "                2 * two_body_integrals[i, u, v, i] -\n",
    "                two_body_integrals[i, u, i, v])\n",
    "\n",
    "# Restrict integral ranges and change M appropriately\n",
    "\n",
    "one_body_integrals_NEW = one_body_integrals_new[np.ix_(active_indices, active_indices)]\n",
    "\n",
    "two_body_integrals_NEW = two_body_integrals[np.ix_(active_indices, active_indices,\n",
    "                             active_indices, active_indices)]"
   ]
  },
  {
   "cell_type": "code",
   "execution_count": null,
   "metadata": {},
   "outputs": [],
   "source": [
    "def spinorb_from_spatial(one_body_integrals, two_body_integrals):\n",
    "    EQ_TOLERANCE=1e-8\n",
    "    n_qubits = 2 * one_body_integrals.shape[0]\n",
    "\n",
    "    # Initialize Hamiltonian coefficients.\n",
    "    one_body_coefficients = np.zeros((n_qubits, n_qubits))\n",
    "    two_body_coefficients = np.zeros(\n",
    "        (n_qubits, n_qubits, n_qubits, n_qubits))\n",
    "    # Loop through integrals.\n",
    "    for p in range(n_qubits // 2):\n",
    "        for q in range(n_qubits // 2):\n",
    "\n",
    "            # Populate 1-body coefficients. Require p and q have same spin.\n",
    "            one_body_coefficients[2 * p, 2 * q] = one_body_integrals[p, q]\n",
    "            one_body_coefficients[2 * p + 1, 2 * q +\n",
    "                                  1] = one_body_integrals[p, q]\n",
    "            # Continue looping to prepare 2-body coefficients.\n",
    "            for r in range(n_qubits // 2):\n",
    "                for s in range(n_qubits // 2):\n",
    "\n",
    "                    # Mixed spin\n",
    "                    two_body_coefficients[2 * p, 2 * q + 1, 2 * r + 1, 2 *\n",
    "                                          s] = (two_body_integrals[p, q, r, s])\n",
    "                    two_body_coefficients[2 * p + 1, 2 * q, 2 * r, 2 * s +\n",
    "                                          1] = (two_body_integrals[p, q, r, s])\n",
    "\n",
    "                    # Same spin\n",
    "                    two_body_coefficients[2 * p, 2 * q, 2 * r, 2 *\n",
    "                                          s] = (two_body_integrals[p, q, r, s])\n",
    "                    two_body_coefficients[2 * p + 1, 2 * q + 1, 2 * r +\n",
    "                                          1, 2 * s +\n",
    "                                          1] = (two_body_integrals[p, q, r, s])\n",
    "\n",
    "    # Truncate.\n",
    "    one_body_coefficients[\n",
    "        np.absolute(one_body_coefficients) < EQ_TOLERANCE] = 0.\n",
    "    two_body_coefficients[\n",
    "        np.absolute(two_body_coefficients) < EQ_TOLERANCE] = 0.\n",
    "\n",
    "    return one_body_coefficients, two_body_coefficients"
   ]
  },
  {
   "cell_type": "code",
   "execution_count": null,
   "metadata": {},
   "outputs": [],
   "source": [
    "one_body_coefficients, two_body_coefficients = spinorb_from_spatial(one_body_integrals_NEW, two_body_integrals_NEW)"
   ]
  },
  {
   "cell_type": "code",
   "execution_count": null,
   "metadata": {},
   "outputs": [],
   "source": [
    "# one_body_integrals_NEW =one_body_integrals\n",
    "# two_body_integrals_NEW =two_body_integrals"
   ]
  },
  {
   "cell_type": "code",
   "execution_count": null,
   "metadata": {},
   "outputs": [],
   "source": [
    "from openfermion.ops.representations import InteractionOperator\n",
    "\n",
    "constant = full_system_scf.energy_nuc() + core_adjustment\n",
    "\n",
    "molecular_hamiltonian = InteractionOperator(constant,\n",
    "                                            one_body_integrals_NEW,\n",
    "                                            1 / 2 * two_body_integrals_NEW)\n",
    "\n",
    "n_qubits = one_body_integrals_NEW.shape[0]"
   ]
  },
  {
   "cell_type": "code",
   "execution_count": null,
   "metadata": {},
   "outputs": [],
   "source": []
  },
  {
   "cell_type": "code",
   "execution_count": null,
   "metadata": {},
   "outputs": [],
   "source": [
    "from openfermion.transforms import jordan_wigner\n",
    "Qubit_Hamiltonian = jordan_wigner(molecular_hamiltonian)"
   ]
  },
  {
   "cell_type": "code",
   "execution_count": null,
   "metadata": {},
   "outputs": [],
   "source": [
    "len(list(Qubit_Hamiltonian))"
   ]
  },
  {
   "cell_type": "code",
   "execution_count": null,
   "metadata": {},
   "outputs": [],
   "source": [
    "from functools import reduce\n",
    "\n",
    "H_trimmed = [op for op in Qubit_Hamiltonian if list(op.terms.values())[0]>1e-5]\n",
    "# H_trimmed_op = reduce(lambda x,y: x+y, H_trimmed_op)\n",
    "len(H_trimmed)"
   ]
  },
  {
   "cell_type": "code",
   "execution_count": null,
   "metadata": {},
   "outputs": [],
   "source": [
    "from openfermion import QubitOperator\n",
    "H_trimmed_op = QubitOperator()\n",
    "for term in H_trimmed:\n",
    "    H_trimmed_op+=term"
   ]
  },
  {
   "cell_type": "code",
   "execution_count": null,
   "metadata": {},
   "outputs": [],
   "source": [
    "# H_matrix = get_sparse_operator(H_trimmed_op)"
   ]
  },
  {
   "cell_type": "code",
   "execution_count": null,
   "metadata": {},
   "outputs": [],
   "source": [
    "from tqdm.notebook import tqdm"
   ]
  },
  {
   "cell_type": "code",
   "execution_count": null,
   "metadata": {},
   "outputs": [],
   "source": [
    "Qubit_Hamiltonian"
   ]
  },
  {
   "cell_type": "code",
   "execution_count": null,
   "metadata": {},
   "outputs": [],
   "source": [
    "from openfermion import get_sparse_operator\n",
    "H_matrix = get_sparse_operator(Qubit_Hamiltonian)"
   ]
  },
  {
   "cell_type": "code",
   "execution_count": null,
   "metadata": {},
   "outputs": [],
   "source": [
    "Qubit_Hamiltonian"
   ]
  },
  {
   "cell_type": "code",
   "execution_count": null,
   "metadata": {},
   "outputs": [],
   "source": [
    "from scipy.linalg import eigh\n",
    "\n",
    "eig_val, eig_vec = eigh(H_matrix.todense())"
   ]
  },
  {
   "cell_type": "code",
   "execution_count": null,
   "metadata": {},
   "outputs": [],
   "source": [
    "min(eig_val)"
   ]
  },
  {
   "cell_type": "code",
   "execution_count": null,
   "metadata": {},
   "outputs": [],
   "source": [
    "idx = eig_val.argsort()   \n",
    "eigenValues = eig_val[idx]\n",
    "eigenVectors = eig_vec[:,idx]"
   ]
  },
  {
   "cell_type": "code",
   "execution_count": null,
   "metadata": {},
   "outputs": [],
   "source": [
    "WF_ground_state = eigenVectors[:, 0] \n",
    "\n",
    "dm_act_EMBEDDED_from_WF = 2 * np.outer(WF_ground_state, WF_ground_state)\n",
    "# np.trace(dm_act_EMBEDDED_from_WF@s1e)"
   ]
  },
  {
   "cell_type": "code",
   "execution_count": null,
   "metadata": {},
   "outputs": [],
   "source": [
    "dm_act_EMBEDDED_from_WF.shape"
   ]
  },
  {
   "cell_type": "code",
   "execution_count": null,
   "metadata": {},
   "outputs": [],
   "source": []
  },
  {
   "cell_type": "code",
   "execution_count": null,
   "metadata": {},
   "outputs": [],
   "source": [
    "E_WF_in_DFT = (min(eig_val) + E_env + two_e_cross + correction) \n",
    "E_WF_in_DFT"
   ]
  },
  {
   "cell_type": "code",
   "execution_count": null,
   "metadata": {},
   "outputs": [],
   "source": []
  },
  {
   "cell_type": "code",
   "execution_count": null,
   "metadata": {},
   "outputs": [],
   "source": [
    "E_final = (eigenVectors[:, 0].conj().T  @ H_matrix.toarray() @  eigenVectors[:, 0]  +\n",
    "           E_env + two_e_cross + correction)\n",
    "E_final"
   ]
  },
  {
   "cell_type": "code",
   "execution_count": null,
   "metadata": {},
   "outputs": [],
   "source": []
  },
  {
   "cell_type": "code",
   "execution_count": null,
   "metadata": {},
   "outputs": [],
   "source": [
    "print(abs(myci.e_tot - E_final))"
   ]
  },
  {
   "cell_type": "code",
   "execution_count": null,
   "metadata": {},
   "outputs": [],
   "source": []
  },
  {
   "cell_type": "code",
   "execution_count": null,
   "metadata": {},
   "outputs": [],
   "source": []
  },
  {
   "cell_type": "markdown",
   "metadata": {},
   "source": [
    "1. Global calc\n",
    "\n",
    "\n",
    "2. localize orbitals\n",
    "    - SPADE\n",
    "    - PM\n",
    "    \n",
    "3. define active system and enirvo\n",
    "4. Define V_emb\n",
    "5. Find gamma_active_EMBEDDED\n",
    "6. Calculate Energy of A with gamma_active_EMBEDDED"
   ]
  }
 ],
 "metadata": {
  "kernelspec": {
   "display_name": "Python 3",
   "language": "python",
   "name": "python3"
  },
  "language_info": {
   "codemirror_mode": {
    "name": "ipython",
    "version": 3
   },
   "file_extension": ".py",
   "mimetype": "text/x-python",
   "name": "python",
   "nbconvert_exporter": "python",
   "pygments_lexer": "ipython3",
   "version": "3.7.6"
  }
 },
 "nbformat": 4,
 "nbformat_minor": 4
}
