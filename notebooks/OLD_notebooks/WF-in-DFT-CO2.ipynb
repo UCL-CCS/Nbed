{
 "cells": [
  {
   "cell_type": "code",
   "execution_count": 2,
   "metadata": {},
   "outputs": [
    {
     "name": "stderr",
     "output_type": "stream",
     "text": [
      "Numpy 1.16 has memory leak bug  https://github.com/numpy/numpy/issues/13808\n",
      "It is recommended to downgrade to numpy 1.15 or older\n"
     ]
    }
   ],
   "source": [
    "from pyscf import gto, dft, scf, lib, cc, fci\n",
    "import numpy as np\n",
    "import scipy as sp"
   ]
  },
  {
   "cell_type": "markdown",
   "metadata": {},
   "source": [
    "# 1) Definitions"
   ]
  },
  {
   "cell_type": "code",
   "execution_count": 4,
   "metadata": {},
   "outputs": [
    {
     "data": {
      "text/plain": [
       "<pyscf.gto.mole.Mole at 0x101802c310>"
      ]
     },
     "execution_count": 4,
     "metadata": {},
     "output_type": "execute_result"
    }
   ],
   "source": [
    "S_A = gto.Mole(atom=\"O 0 0 -0.01\", basis=\"sto3g\",charge=0,spin=0)\n",
    "S_A.build()"
   ]
  },
  {
   "cell_type": "code",
   "execution_count": 5,
   "metadata": {},
   "outputs": [
    {
     "data": {
      "text/plain": [
       "<pyscf.gto.mole.Mole at 0x101802c890>"
      ]
     },
     "execution_count": 5,
     "metadata": {},
     "output_type": "execute_result"
    }
   ],
   "source": [
    "S_B = gto.Mole(atom=\"C 0 0 0; O 0 0 0.01 \", basis=\"sto3g\",charge=0, spin=0)\n",
    "S_B.build()"
   ]
  },
  {
   "cell_type": "code",
   "execution_count": 6,
   "metadata": {},
   "outputs": [
    {
     "data": {
      "text/plain": [
       "<pyscf.gto.mole.Mole at 0x104764350>"
      ]
     },
     "execution_count": 6,
     "metadata": {},
     "output_type": "execute_result"
    }
   ],
   "source": [
    "S_T = gto.Mole(atom=S_A.atom + \"; \" +S_B.atom,\n",
    "               basis=\"sto3g\",\n",
    "               charge=S_A.charge+S_B.charge,\n",
    "               spin=S_A.spin+S_B.spin)\n",
    "\n",
    "S_T.build()"
   ]
  },
  {
   "cell_type": "code",
   "execution_count": 5,
   "metadata": {
    "collapsed": true
   },
   "outputs": [],
   "source": [
    "# grids = dft.gen_grid.Grids(S_T)\n",
    "# grids.level = 4\n",
    "# grids.build()"
   ]
  },
  {
   "cell_type": "code",
   "execution_count": 7,
   "metadata": {},
   "outputs": [
    {
     "data": {
      "text/plain": [
       "(5, 10, 15)"
      ]
     },
     "execution_count": 7,
     "metadata": {},
     "output_type": "execute_result"
    }
   ],
   "source": [
    "na = S_A.nao_nr()\n",
    "nb = S_B.nao_nr()\n",
    "nt = S_T.nao_nr()\n",
    "\n",
    "na,nb,nt"
   ]
  },
  {
   "cell_type": "code",
   "execution_count": 8,
   "metadata": {},
   "outputs": [
    {
     "name": "stderr",
     "output_type": "stream",
     "text": [
      "/Users/lex/anaconda3/envs/pyscf/lib/python3.7/site-packages/pyscf/scf/chkfile.py:31: H5pyDeprecationWarning: The default file mode will change to 'r' (read-only) in h5py 3.0. To suppress this warning, pass the mode you need to h5py.File(), or set the global default h5.get_config().default_file_mode, or set the environment variable H5PY_DEFAULT_READONLY=1. Available modes are: 'r', 'r+', 'w', 'w-'/'x', 'a'. See the docs for details.\n",
      "  with h5py.File(chkfile) as fh5:\n"
     ]
    },
    {
     "name": "stdout",
     "output_type": "stream",
     "text": [
      "SCF not converged.\n",
      "SCF energy = 6145.50457447892\n"
     ]
    },
    {
     "data": {
      "text/plain": [
       "6145.50457447892"
      ]
     },
     "execution_count": 8,
     "metadata": {},
     "output_type": "execute_result"
    }
   ],
   "source": [
    "S_Tscf = scf.RKS(S_T)\n",
    "S_Tscf.xc = 'lda,vwn'\n",
    "S_Tscf.small_rho_cutoff = 1e-20\n",
    "S_Tscf.kernel()"
   ]
  },
  {
   "cell_type": "code",
   "execution_count": null,
   "metadata": {},
   "outputs": [],
   "source": []
  },
  {
   "cell_type": "markdown",
   "metadata": {},
   "source": [
    "# 2 ) Compute total Fock Matrix, Orbital Overlap Matrix and make guess on initial Density Matrices"
   ]
  },
  {
   "cell_type": "code",
   "execution_count": 9,
   "metadata": {},
   "outputs": [],
   "source": [
    "# Fock_T = S_Tscf.get_hcore() + S_Tscf.get_veff()\n",
    "\n",
    "dm_T = S_Tscf.make_rdm1()\n",
    "J_Tot, K_Tot = S_Tscf.get_jk(dm=dm_T) # Coulomb (J) and exchange (K)\n",
    "Fock_T = S_Tscf.get_hcore() + J_Tot + K_Tot"
   ]
  },
  {
   "cell_type": "code",
   "execution_count": null,
   "metadata": {},
   "outputs": [],
   "source": []
  },
  {
   "cell_type": "code",
   "execution_count": null,
   "metadata": {},
   "outputs": [],
   "source": []
  },
  {
   "cell_type": "code",
   "execution_count": 10,
   "metadata": {},
   "outputs": [],
   "source": [
    "M_overlaps = S_Tscf.get_ovlp()"
   ]
  },
  {
   "cell_type": "code",
   "execution_count": 12,
   "metadata": {},
   "outputs": [
    {
     "name": "stdout",
     "output_type": "stream",
     "text": [
      "converged SCF energy = -73.3282156705682\n"
     ]
    },
    {
     "data": {
      "text/plain": [
       "-73.3282156705682"
      ]
     },
     "execution_count": 12,
     "metadata": {},
     "output_type": "execute_result"
    }
   ],
   "source": [
    "S_Ascf = scf.RKS(S_A)\n",
    "S_Ascf.xc = 'lda,vwn'\n",
    "S_Ascf.small_rho_cutoff = 1e-20\n",
    "S_Ascf.kernel()"
   ]
  },
  {
   "cell_type": "code",
   "execution_count": 13,
   "metadata": {},
   "outputs": [
    {
     "name": "stdout",
     "output_type": "stream",
     "text": [
      "SCF not converged.\n",
      "SCF energy = 2289.31624570067\n"
     ]
    },
    {
     "data": {
      "text/plain": [
       "2289.316245700671"
      ]
     },
     "execution_count": 13,
     "metadata": {},
     "output_type": "execute_result"
    }
   ],
   "source": [
    "S_Bscf = scf.RKS(S_B)\n",
    "S_Bscf.xc = 'lda,vwn'\n",
    "S_Bscf.small_rho_cutoff = 1e-20\n",
    "S_Bscf.kernel()"
   ]
  },
  {
   "cell_type": "code",
   "execution_count": 14,
   "metadata": {},
   "outputs": [
    {
     "data": {
      "text/plain": [
       "(8.23741720426768, 14.500372834692605)"
      ]
     },
     "execution_count": 14,
     "metadata": {},
     "output_type": "execute_result"
    }
   ],
   "source": [
    "Dmat_A = S_Ascf.init_guess_by_atom()\n",
    "Dmat_B = S_Bscf.init_guess_by_atom() #.init_guess_by_minao()\n",
    "\n",
    "np.trace(Dmat_A), np.trace(Dmat_B)"
   ]
  },
  {
   "cell_type": "code",
   "execution_count": null,
   "metadata": {},
   "outputs": [],
   "source": []
  },
  {
   "cell_type": "markdown",
   "metadata": {},
   "source": [
    "# 3) Implement a Freeze and Thaw calculation with the Huzinaga operator"
   ]
  },
  {
   "cell_type": "code",
   "execution_count": 15,
   "metadata": {},
   "outputs": [],
   "source": [
    "def diagonalize(Sscf, Dold, Sovlp, Fock, n_electrons, tol, n_max):\n",
    "    \n",
    "    error = tol * 10\n",
    "    N = np.zeros((Dold.shape[0]))\n",
    "    N[n_electrons//2] = 2.    \n",
    "    i = 0\n",
    "    while (error > tol) and (i < n_max):\n",
    "        \n",
    "        i += 1\n",
    "        \n",
    "        if i>1:\n",
    "            Fock = Sscf.get_hcore() + Sscf.get_veff(dm=Dnew)\n",
    "            #print(Sscf.get_veff(dm=Dold).shape)\n",
    "        \n",
    "        E, C = sp.linalg.eigh(Fock, Sovlp)\n",
    "        Dnew = sp.dot( C * N, C.transpose().conjugate() )\n",
    "        \n",
    "        #Include occupancy of levels\n",
    "\n",
    "#         norbs = (Sscf.mol.nelectron) // 2\n",
    "#         e_sorted = np.sort(E)\n",
    "#         fermi = (e_sorted[norbs] + e_sorted[norbs-1]) / 2.\n",
    "#         mo_occ = np.zeros_like(E)\n",
    "#         mo_occ[E<fermi] = 2.\n",
    "#         Dnew = np.dot(C * mo_occ, C.transpose().conjugate())\n",
    "        \n",
    "        error = sp.linalg.norm(Dnew - Dold) / sp.linalg.norm(Dold)\n",
    "        \n",
    "    \n",
    "    \n",
    "    if i == n_max:\n",
    "        print(\"SCF Did Not Converge\")\n",
    "    else:\n",
    "        print(\"SCF Converged\")\n",
    "    \n",
    "    return Dnew, error\n",
    "    \n",
    "    \n"
   ]
  },
  {
   "cell_type": "code",
   "execution_count": 16,
   "metadata": {
    "scrolled": false
   },
   "outputs": [
    {
     "name": "stderr",
     "output_type": "stream",
     "text": [
      "/Users/lex/anaconda3/envs/pyscf/lib/python3.7/site-packages/ipykernel_launcher.py:16: DeprecationWarning: scipy.dot is deprecated and will be removed in SciPy 2.0.0, use numpy.dot instead\n",
      "  app.launch_new_instance()\n"
     ]
    },
    {
     "name": "stdout",
     "output_type": "stream",
     "text": [
      "SCF Did Not Converge\n",
      "SCF Did Not Converge\n",
      "0.9539372547684998 5.192282022035384\n",
      "SCF Did Not Converge\n",
      "SCF Converged\n",
      "1.2247448624968236 0.009183780959365347\n",
      "SCF Did Not Converge\n",
      "SCF Did Not Converge\n",
      "1.2247448778662338 0.7707996992630036\n",
      "SCF Did Not Converge\n",
      "SCF Did Not Converge\n",
      "1.2247932304783626 1.1848068680251092\n",
      "SCF Did Not Converge\n",
      "SCF Converged\n",
      "1.2246964819369313 0.008931633809362462\n",
      "SCF Did Not Converge\n",
      "SCF Did Not Converge\n",
      "0.8076271130748077 1.360470499699985\n",
      "SCF Did Not Converge\n",
      "SCF Did Not Converge\n",
      "1.3805344801261865 0.42859494204829585\n",
      "SCF Did Not Converge\n",
      "SCF Did Not Converge\n",
      "1.384920538032085 0.7726701876534929\n",
      "SCF Did Not Converge\n",
      "SCF Did Not Converge\n",
      "1.2247450125774888 1.1843530669494784\n",
      "SCF Converged\n",
      "SCF Did Not Converge\n",
      "0.000701063853670156 0.2914360450612367\n",
      "SCF Did Not Converge\n",
      "SCF Converged\n",
      "1.2250323227293975 0.005188965867440003\n",
      "SCF Did Not Converge\n",
      "SCF Did Not Converge\n",
      "1.2247447589161433 0.2917485597963328\n",
      "SCF Did Not Converge\n",
      "SCF Did Not Converge\n",
      "1.2247449081422108 0.2914515180863463\n",
      "SCF Did Not Converge\n",
      "SCF Did Not Converge\n",
      "1.2247449962747474 0.2913461031486971\n",
      "SCF Did Not Converge\n",
      "SCF Did Not Converge\n",
      "1.22474499893739 0.9361566282815592\n",
      "SCF Did Not Converge\n",
      "SCF Did Not Converge\n",
      "1.4124555891011783 0.3766760661867182\n",
      "SCF Did Not Converge\n",
      "SCF Did Not Converge\n",
      "1.3968603101614188 0.5487083100611826\n",
      "SCF Converged\n",
      "SCF Did Not Converge\n",
      "0.00029078058149890077 0.548754039571655\n",
      "SCF Did Not Converge\n",
      "SCF Did Not Converge\n",
      "1.224626534450316 0.7717108277017817\n",
      "SCF Did Not Converge\n",
      "SCF Did Not Converge\n",
      "1.2247448685373477 0.4216143848430743\n",
      "SCF Did Not Converge\n",
      "SCF Did Not Converge\n",
      "1.22474485914204 0.0115843702124028\n",
      "SCF Did Not Converge\n",
      "SCF Did Not Converge\n",
      "1.2247454039210155 0.18098475933065453\n",
      "SCF Converged\n",
      "SCF Converged\n",
      "0.0032202351815086867 0.009689938945040106\n",
      "SCF Converged\n",
      "SCF Converged\n",
      "0.0008570324654767404 0.008457833653802642\n"
     ]
    }
   ],
   "source": [
    "#Obtain the local density matrices using absolute localization and Freeze anad Thaw\n",
    "convergence_threshold_FT = 1e-2\n",
    "n_FT_cycles = 100\n",
    "\n",
    "convergence_threshold_SCF = 1e-2\n",
    "n_SCF_cycles= 100\n",
    "\n",
    "i = 0\n",
    "error = convergence_threshold_FT * 10\n",
    "while (error > convergence_threshold_FT) and (i < n_FT_cycles):\n",
    "\n",
    "    i += 1\n",
    "    \n",
    "    #System A\n",
    "    Fock_AA = Fock_T[:na,:na]\n",
    "    Fock_AB = Fock_T[:na,na:]\n",
    "    S_AA = M_overlaps[:na,:na]\n",
    "    S_BA = M_overlaps[na:,:na]\n",
    "    \n",
    "    PAA = np.dot(Fock_AB, np.dot( Dmat_B, S_BA ))\n",
    "    P_huzinaga_A = - 0.5 * ( PAA + PAA.transpose() )\n",
    "    Fock_AA += P_huzinaga_A\n",
    "     \n",
    "    #System B\n",
    "    Fock_BB = Fock_T[na:,na:]\n",
    "    Fock_BA = Fock_T[na:,:na]\n",
    "    S_BB = M_overlaps[na:,na:]\n",
    "    S_AB = M_overlaps[:na,na:]\n",
    "    \n",
    "    PBB = np.dot(Fock_BA, np.dot( Dmat_A, S_AB ))\n",
    "    P_huzinaga_B = - 0.5 * ( PBB + PBB.transpose() )\n",
    "    Fock_BB += P_huzinaga_B\n",
    "    \n",
    "    \n",
    "    Dmat_A, err_A = diagonalize(S_Ascf, Dmat_A, S_AA, Fock_AA, S_A.nelectron,\n",
    "                                convergence_threshold_SCF,n_SCF_cycles)\n",
    "    Dmat_B, err_B = diagonalize(S_Bscf, Dmat_B, S_BB, Fock_BB, S_B.nelectron,\n",
    "                                convergence_threshold_SCF,n_SCF_cycles)\n",
    "                              \n",
    "    # Updates\n",
    "    error = err_A + err_B \n",
    "    print(err_A,err_B)\n",
    "    \n",
    "    if i == n_FT_cycles :\n",
    "        print(\"F&T Did Not Converge\")\n"
   ]
  },
  {
   "cell_type": "code",
   "execution_count": 17,
   "metadata": {},
   "outputs": [
    {
     "data": {
      "text/plain": [
       "(2.0000000000000004, 26.80775741707885)"
      ]
     },
     "execution_count": 17,
     "metadata": {},
     "output_type": "execute_result"
    }
   ],
   "source": [
    "np.trace(Dmat_A), np.trace(Dmat_B)"
   ]
  },
  {
   "cell_type": "code",
   "execution_count": 14,
   "metadata": {},
   "outputs": [],
   "source": []
  },
  {
   "cell_type": "markdown",
   "metadata": {},
   "source": [
    "# 4) Perform global fully relaxed KS calculation and account for local correlations"
   ]
  },
  {
   "cell_type": "code",
   "execution_count": 18,
   "metadata": {},
   "outputs": [
    {
     "name": "stdout",
     "output_type": "stream",
     "text": [
      "SCF not converged.\n",
      "SCF energy = 6145.50457447892\n"
     ]
    },
    {
     "data": {
      "text/plain": [
       "6145.50457447892"
      ]
     },
     "execution_count": 18,
     "metadata": {},
     "output_type": "execute_result"
    }
   ],
   "source": [
    "S_Tscf.xc = 'lda,vwn'\n",
    "S_Tscf.small_rho_cutoff = 1e-20\n",
    "S_Tscf.kernel()"
   ]
  },
  {
   "cell_type": "code",
   "execution_count": 19,
   "metadata": {},
   "outputs": [],
   "source": [
    "\n",
    "S_Ascf_modified = scf.RHF(S_A)\n",
    "\n",
    "vA = S_Ascf_modified.get_veff(dm=Dmat_A)\n",
    "Fock_AA = S_Ascf.get_hcore()\n",
    "Fock_AB = Fock_T[:na,na:]\n",
    "PAA = np.dot(Fock_AB, np.dot( Dmat_B, S_BA ))\n",
    "P_huzinaga_A = - 0.5 * ( PAA + PAA.transpose() )\n",
    "Fock_AA +=  P_huzinaga_A\n",
    "hcore_modified = Fock_AA - vA\n"
   ]
  },
  {
   "cell_type": "code",
   "execution_count": 20,
   "metadata": {},
   "outputs": [
    {
     "name": "stdout",
     "output_type": "stream",
     "text": [
      "converged SCF energy = -89.3567318902334\n"
     ]
    },
    {
     "name": "stderr",
     "output_type": "stream",
     "text": [
      "Overwritten attributes  get_hcore  of <class 'pyscf.scf.hf.RHF'>\n"
     ]
    }
   ],
   "source": [
    "S_Ascf_modified.get_hcore = lambda *args: hcore_modified;\n",
    "S_Ascf_modified.run();"
   ]
  },
  {
   "cell_type": "code",
   "execution_count": 21,
   "metadata": {},
   "outputs": [
    {
     "data": {
      "text/plain": [
       "-89.3567318902334"
      ]
     },
     "execution_count": 21,
     "metadata": {},
     "output_type": "execute_result"
    }
   ],
   "source": [
    "S_Ascf_modified.e_tot"
   ]
  },
  {
   "cell_type": "markdown",
   "metadata": {},
   "source": [
    "# 5) Implement Coupled Cluster on $S_A$"
   ]
  },
  {
   "cell_type": "code",
   "execution_count": 22,
   "metadata": {},
   "outputs": [
    {
     "ename": "RuntimeError",
     "evalue": "CCSD Warning: The first argument mf is a DFT object. CCSD calculation should be initialized with HF object.\nDFT object can be converted to HF object with the code below:\n    mf_hf = scf.RHF(mol)\n    mf_hf.__dict__.update(mf_dft.__dict__)\n",
     "output_type": "error",
     "traceback": [
      "\u001b[0;31m---------------------------------------------------------------------------\u001b[0m",
      "\u001b[0;31mRuntimeError\u001b[0m                              Traceback (most recent call last)",
      "\u001b[0;32m<ipython-input-22-503372a0c93b>\u001b[0m in \u001b[0;36m<module>\u001b[0;34m\u001b[0m\n\u001b[0;32m----> 1\u001b[0;31m \u001b[0mS_Acc\u001b[0m \u001b[0;34m=\u001b[0m \u001b[0mcc\u001b[0m\u001b[0;34m.\u001b[0m\u001b[0mCCSD\u001b[0m\u001b[0;34m(\u001b[0m\u001b[0mS_Ascf\u001b[0m\u001b[0;34m)\u001b[0m\u001b[0;34m\u001b[0m\u001b[0;34m\u001b[0m\u001b[0m\n\u001b[0m\u001b[1;32m      2\u001b[0m \u001b[0mecc\u001b[0m\u001b[0;34m,\u001b[0m \u001b[0mt1\u001b[0m\u001b[0;34m,\u001b[0m \u001b[0mt2\u001b[0m \u001b[0;34m=\u001b[0m \u001b[0mS_Acc\u001b[0m\u001b[0;34m.\u001b[0m\u001b[0mkernel\u001b[0m\u001b[0;34m(\u001b[0m\u001b[0;34m)\u001b[0m\u001b[0;34m\u001b[0m\u001b[0;34m\u001b[0m\u001b[0m\n\u001b[1;32m      3\u001b[0m \u001b[0mEcc\u001b[0m \u001b[0;34m=\u001b[0m \u001b[0mS_Acc\u001b[0m\u001b[0;34m.\u001b[0m\u001b[0me_tot\u001b[0m \u001b[0;34m+\u001b[0m \u001b[0mecc\u001b[0m\u001b[0;34m\u001b[0m\u001b[0;34m\u001b[0m\u001b[0m\n",
      "\u001b[0;32m~/anaconda3/envs/pyscf/lib/python3.7/site-packages/pyscf/cc/__init__.py\u001b[0m in \u001b[0;36mCCSD\u001b[0;34m(mf, frozen, mo_coeff, mo_occ)\u001b[0m\n\u001b[1;32m     81\u001b[0m         \u001b[0;32mreturn\u001b[0m \u001b[0mGCCSD\u001b[0m\u001b[0;34m(\u001b[0m\u001b[0mmf\u001b[0m\u001b[0;34m,\u001b[0m \u001b[0mfrozen\u001b[0m\u001b[0;34m,\u001b[0m \u001b[0mmo_coeff\u001b[0m\u001b[0;34m,\u001b[0m \u001b[0mmo_occ\u001b[0m\u001b[0;34m)\u001b[0m\u001b[0;34m\u001b[0m\u001b[0;34m\u001b[0m\u001b[0m\n\u001b[1;32m     82\u001b[0m     \u001b[0;32melse\u001b[0m\u001b[0;34m:\u001b[0m\u001b[0;34m\u001b[0m\u001b[0;34m\u001b[0m\u001b[0m\n\u001b[0;32m---> 83\u001b[0;31m         \u001b[0;32mreturn\u001b[0m \u001b[0mRCCSD\u001b[0m\u001b[0;34m(\u001b[0m\u001b[0mmf\u001b[0m\u001b[0;34m,\u001b[0m \u001b[0mfrozen\u001b[0m\u001b[0;34m,\u001b[0m \u001b[0mmo_coeff\u001b[0m\u001b[0;34m,\u001b[0m \u001b[0mmo_occ\u001b[0m\u001b[0;34m)\u001b[0m\u001b[0;34m\u001b[0m\u001b[0;34m\u001b[0m\u001b[0m\n\u001b[0m\u001b[1;32m     84\u001b[0m \u001b[0;34m\u001b[0m\u001b[0m\n\u001b[1;32m     85\u001b[0m \u001b[0;32mdef\u001b[0m \u001b[0mRCCSD\u001b[0m\u001b[0;34m(\u001b[0m\u001b[0mmf\u001b[0m\u001b[0;34m,\u001b[0m \u001b[0mfrozen\u001b[0m\u001b[0;34m=\u001b[0m\u001b[0;36m0\u001b[0m\u001b[0;34m,\u001b[0m \u001b[0mmo_coeff\u001b[0m\u001b[0;34m=\u001b[0m\u001b[0;32mNone\u001b[0m\u001b[0;34m,\u001b[0m \u001b[0mmo_occ\u001b[0m\u001b[0;34m=\u001b[0m\u001b[0;32mNone\u001b[0m\u001b[0;34m)\u001b[0m\u001b[0;34m:\u001b[0m\u001b[0;34m\u001b[0m\u001b[0;34m\u001b[0m\u001b[0m\n",
      "\u001b[0;32m~/anaconda3/envs/pyscf/lib/python3.7/site-packages/pyscf/cc/__init__.py\u001b[0m in \u001b[0;36mRCCSD\u001b[0;34m(mf, frozen, mo_coeff, mo_occ)\u001b[0m\n\u001b[1;32m    108\u001b[0m \u001b[0;34m\u001b[0m\u001b[0m\n\u001b[1;32m    109\u001b[0m     \u001b[0;32melse\u001b[0m\u001b[0;34m:\u001b[0m\u001b[0;34m\u001b[0m\u001b[0;34m\u001b[0m\u001b[0m\n\u001b[0;32m--> 110\u001b[0;31m         \u001b[0;32mreturn\u001b[0m \u001b[0mccsd\u001b[0m\u001b[0;34m.\u001b[0m\u001b[0mCCSD\u001b[0m\u001b[0;34m(\u001b[0m\u001b[0mmf\u001b[0m\u001b[0;34m,\u001b[0m \u001b[0mfrozen\u001b[0m\u001b[0;34m,\u001b[0m \u001b[0mmo_coeff\u001b[0m\u001b[0;34m,\u001b[0m \u001b[0mmo_occ\u001b[0m\u001b[0;34m)\u001b[0m\u001b[0;34m\u001b[0m\u001b[0;34m\u001b[0m\u001b[0m\n\u001b[0m\u001b[1;32m    111\u001b[0m \u001b[0;34m\u001b[0m\u001b[0m\n\u001b[1;32m    112\u001b[0m \u001b[0;34m\u001b[0m\u001b[0m\n",
      "\u001b[0;32m~/anaconda3/envs/pyscf/lib/python3.7/site-packages/pyscf/cc/ccsd.py\u001b[0m in \u001b[0;36m__init__\u001b[0;34m(self, mf, frozen, mo_coeff, mo_occ)\u001b[0m\n\u001b[1;32m    848\u001b[0m \u001b[0;34m\u001b[0m\u001b[0m\n\u001b[1;32m    849\u001b[0m         \u001b[0;32mif\u001b[0m \u001b[0;34m'dft'\u001b[0m \u001b[0;32min\u001b[0m \u001b[0mstr\u001b[0m\u001b[0;34m(\u001b[0m\u001b[0mmf\u001b[0m\u001b[0;34m.\u001b[0m\u001b[0m__module__\u001b[0m\u001b[0;34m)\u001b[0m\u001b[0;34m:\u001b[0m\u001b[0;34m\u001b[0m\u001b[0;34m\u001b[0m\u001b[0m\n\u001b[0;32m--> 850\u001b[0;31m             raise RuntimeError('CCSD Warning: The first argument mf is a DFT object. '\n\u001b[0m\u001b[1;32m    851\u001b[0m                                \u001b[0;34m'CCSD calculation should be initialized with HF object.\\n'\u001b[0m\u001b[0;34m\u001b[0m\u001b[0;34m\u001b[0m\u001b[0m\n\u001b[1;32m    852\u001b[0m                                \u001b[0;34m'DFT object can be converted to HF object with '\u001b[0m\u001b[0;34m\u001b[0m\u001b[0;34m\u001b[0m\u001b[0m\n",
      "\u001b[0;31mRuntimeError\u001b[0m: CCSD Warning: The first argument mf is a DFT object. CCSD calculation should be initialized with HF object.\nDFT object can be converted to HF object with the code below:\n    mf_hf = scf.RHF(mol)\n    mf_hf.__dict__.update(mf_dft.__dict__)\n"
     ]
    }
   ],
   "source": [
    "\n",
    "S_Acc = cc.CCSD(S_Ascf)\n",
    "ecc, t1, t2 = S_Acc.kernel()\n",
    "Ecc = S_Acc.e_tot + ecc"
   ]
  },
  {
   "cell_type": "code",
   "execution_count": 20,
   "metadata": {},
   "outputs": [],
   "source": []
  },
  {
   "cell_type": "code",
   "execution_count": null,
   "metadata": {},
   "outputs": [],
   "source": []
  },
  {
   "cell_type": "markdown",
   "metadata": {},
   "source": [
    "# 6) Obtain final energy $E_{KS} - E_A(DFT) + E_A(CC)$"
   ]
  },
  {
   "cell_type": "code",
   "execution_count": 24,
   "metadata": {},
   "outputs": [
    {
     "name": "stdout",
     "output_type": "stream",
     "text": [
      "WF in DFT energy: 6159.23886791259\n"
     ]
    }
   ],
   "source": [
    "\n",
    "\n",
    "E_WFinDFT = S_Tscf.e_tot - S_Ascf_modified.e_tot + Ecc\n",
    "\n",
    "print(\"WF in DFT energy:\", E_WFinDFT)"
   ]
  },
  {
   "cell_type": "code",
   "execution_count": 25,
   "metadata": {},
   "outputs": [
    {
     "name": "stdout",
     "output_type": "stream",
     "text": [
      "KSDFT energy: 6145.280472413054\n"
     ]
    }
   ],
   "source": [
    "print(\"KSDFT energy:\", S_Tscf.e_tot)"
   ]
  },
  {
   "cell_type": "code",
   "execution_count": 26,
   "metadata": {},
   "outputs": [
    {
     "name": "stdout",
     "output_type": "stream",
     "text": [
      "FCI energy: 6146.03620979643\n"
     ]
    }
   ],
   "source": [
    "# Perform a FCI to check the validity of results\n",
    "cisolver = fci.FCI(S_T, S_Tscf.mo_coeff)\n",
    "efci = cisolver.kernel()[0]\n",
    "print(\"FCI energy:\", efci)"
   ]
  },
  {
   "cell_type": "code",
   "execution_count": 27,
   "metadata": {},
   "outputs": [
    {
     "name": "stdout",
     "output_type": "stream",
     "text": [
      "Relative error for WFinDFT: 0.0021481582056278206\n"
     ]
    }
   ],
   "source": [
    "print(\"Relative error for WFinDFT:\", np.abs(E_WFinDFT-efci)/efci)"
   ]
  },
  {
   "cell_type": "code",
   "execution_count": 28,
   "metadata": {},
   "outputs": [
    {
     "name": "stdout",
     "output_type": "stream",
     "text": [
      "Relative error for KSDFT: 0.00012296337957974767\n"
     ]
    }
   ],
   "source": [
    "print(\"Relative error for KSDFT:\", np.abs(S_Tscf.e_tot-efci)/efci)"
   ]
  },
  {
   "cell_type": "code",
   "execution_count": null,
   "metadata": {
    "collapsed": true
   },
   "outputs": [],
   "source": []
  }
 ],
 "metadata": {
  "kernelspec": {
   "display_name": "Python 3",
   "language": "python",
   "name": "python3"
  },
  "language_info": {
   "codemirror_mode": {
    "name": "ipython",
    "version": 3
   },
   "file_extension": ".py",
   "mimetype": "text/x-python",
   "name": "python",
   "nbconvert_exporter": "python",
   "pygments_lexer": "ipython3",
   "version": "3.7.6"
  }
 },
 "nbformat": 4,
 "nbformat_minor": 2
}
