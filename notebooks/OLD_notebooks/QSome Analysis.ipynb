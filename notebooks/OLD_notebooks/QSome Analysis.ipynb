{
 "cells": [
  {
   "cell_type": "markdown",
   "metadata": {},
   "source": [
    "https://github.com/Goodpaster/QSoME/blob/master/qsome/run_embedding.py"
   ]
  },
  {
   "cell_type": "markdown",
   "metadata": {},
   "source": []
  },
  {
   "cell_type": "markdown",
   "metadata": {},
   "source": [
    "1. A ClusterSuperSystem is defined [ClusterSuperSystem](https://github.com/Goodpaster/QSoME/blob/f8081f58cb6531ac26091cc12a4161620618b057/qsome/cluster_supersystem.py#L18)\n",
    "    - this is made out of the subsystems\n",
    "    - a \"sub2sup\" matrix is generated here (Matrix for converting between supersystem and subsystem)\n",
    "\n",
    "2. Define problem using [InteractionMediator](https://github.com/Goodpaster/QSoME/blob/f8081f58cb6531ac26091cc12a4161620618b057/qsome/interaction_mediator.py#L172)\n",
    "    - contains list of subsystems\n",
    "    - the supersystem\n",
    "    - memory allocation for calculations\n",
    "    \n",
    "    \n",
    "3. ```do_embedding``` [**method**](https://github.com/Goodpaster/QSoME/blob/f8081f58cb6531ac26091cc12a4161620618b057/qsome/interaction_mediator.py#L172) is done next!\n",
    "    - this performs the embedding calculation for the full system\n",
    "    - does a [freeze_and_thaw](https://github.com/Goodpaster/QSoME/blob/f8081f58cb6531ac26091cc12a4161620618b057/qsome/cluster_supersystem.py#L1199) subsystem density optimization on the SUPERSYSTEM (\"curr_sup = current_supersystem\")\n",
    "        - this generates optimized subsystem densities! (and saves the output in files)\n",
    "        - note full system Fock matrix and embedded Fock matrix is calculated here!\n",
    "    \n",
    "    \n",
    "4. ```get_emb_energy``` [**method**](https://github.com/Goodpaster/QSoME/blob/f8081f58cb6531ac26091cc12a4161620618b057/qsome/interaction_mediator.py#L191) is done next!\n",
    "    - this gets the embedding energy!\n",
    "    - with only one supersystem, I believe first loop does NOT run...\n",
    "        - i. first it calculates the supersystem energy (and saves density matrix)... [here](https://github.com/Goodpaster/QSoME/blob/f8081f58cb6531ac26091cc12a4161620618b057/qsome/cluster_supersystem.py#L592) (I guess fs_scf object here means full_system)\n",
    "        - ii. Next calculates the energy of dft-in-dft  [here](https://github.com/Goodpaster/QSoME/blob/f8081f58cb6531ac26091cc12a4161620618b057/qsome/cluster_supersystem.py#L822) \n",
    "        - iii. Next calculate hl energy (hl = higher level!) ```get_hl_energy``` [**method**](https://github.com/Goodpaster/QSoME/blob/f8081f58cb6531ac26091cc12a4161620618b057/qsome/cluster_supersystem.py#L772) \n",
    "            - actually runs ``` get_hl_in_env_energy```[**method**](https://github.com/Goodpaster/QSoME/blob/f8081f58cb6531ac26091cc12a4161620618b057/qsome/cluster_subsystem.py#L1272)  on each subsystem\n",
    "            - the embedded Fock matrix is used here!\n",
    "        - iv. Calculate subsystem env energy [**method**](https://github.com/Goodpaster/QSoME/blob/f8081f58cb6531ac26091cc12a4161620618b057/qsome/cluster_supersystem.py#L802)\n",
    "            - this runs the subsystem version in the loop  [**method**](https://github.com/Goodpaster/QSoME/blob/f8081f58cb6531ac26091cc12a4161620618b057/qsome/cluster_subsystem.py#L567)\n",
    "            \n",
    "5. The overall energy = total_supersystem energy (step 4i) - subsystem_environment_energy (step 4iiv) + subsystem_higher_level_energy (step 4iii)"
   ]
  },
  {
   "cell_type": "code",
   "execution_count": null,
   "metadata": {},
   "outputs": [],
   "source": []
  }
 ],
 "metadata": {
  "kernelspec": {
   "display_name": "Python 3",
   "language": "python",
   "name": "python3"
  },
  "language_info": {
   "codemirror_mode": {
    "name": "ipython",
    "version": 3
   },
   "file_extension": ".py",
   "mimetype": "text/x-python",
   "name": "python",
   "nbconvert_exporter": "python",
   "pygments_lexer": "ipython3",
   "version": "3.7.6"
  }
 },
 "nbformat": 4,
 "nbformat_minor": 4
}
