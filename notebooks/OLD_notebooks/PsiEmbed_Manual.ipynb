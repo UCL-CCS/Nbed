{
 "cells": [
  {
   "cell_type": "code",
   "execution_count": 57,
   "metadata": {},
   "outputs": [],
   "source": [
    "from pyscf  import gto, dft, scf, lib, mp, cc\n",
    "import scipy as sp\n",
    "import numpy as np\n",
    "from copy import deepcopy"
   ]
  },
  {
   "cell_type": "code",
   "execution_count": null,
   "metadata": {},
   "outputs": [],
   "source": []
  },
  {
   "cell_type": "code",
   "execution_count": 67,
   "metadata": {},
   "outputs": [],
   "source": [
    "H_bond=0.74\n",
    "R= 1.2 # distance of H2 --- R --- H2\n",
    "n_active_atoms=2\n",
    "\n",
    "geometry = f'H 0, 0, {-H_bond}; H 0, 0, {0}; H 0, 0, {R}; H 0, 0, {R+H_bond}'\n",
    "\n",
    "\n",
    "basis_set = 'STO-6G'\n",
    "low_level_xc_functional = 'lda,vwn'\n",
    "high_level_xc_functional = 'b3lyp'\n",
    "\n",
    "low_level_method = 'RKS'\n",
    "high_level_method = 'CC'"
   ]
  },
  {
   "cell_type": "code",
   "execution_count": 59,
   "metadata": {},
   "outputs": [
    {
     "data": {
      "text/plain": [
       "'H 0, 0, -0.74; H 0, 0, 0; H 0, 0, 1.2; H 0, 0, 1.94'"
      ]
     },
     "execution_count": 59,
     "metadata": {},
     "output_type": "execute_result"
    }
   ],
   "source": [
    "geometry"
   ]
  },
  {
   "cell_type": "code",
   "execution_count": 68,
   "metadata": {},
   "outputs": [
    {
     "name": "stdout",
     "output_type": "stream",
     "text": [
      "H 0, 0, -0.74; H 0, 0, 0; H 0, 0, 1.2; H 0, 0, 1.94\n",
      "\n"
     ]
    },
    {
     "data": {
      "text/plain": [
       "<pyscf.gto.mole.Mole at 0x7f8288a03350>"
      ]
     },
     "execution_count": 68,
     "metadata": {},
     "output_type": "execute_result"
    }
   ],
   "source": [
    "molecule = gto.Mole(atom=geometry,\n",
    "               basis=basis_set,\n",
    "               charge=0,\n",
    "               spin=0)\n",
    "\n",
    "print(molecule.atom)\n",
    "print('')\n",
    "molecule.build()"
   ]
  },
  {
   "cell_type": "code",
   "execution_count": 69,
   "metadata": {},
   "outputs": [],
   "source": [
    "molecule.verbose = 1"
   ]
  },
  {
   "cell_type": "markdown",
   "metadata": {},
   "source": [
    "# Run low level global calc"
   ]
  },
  {
   "cell_type": "code",
   "execution_count": 73,
   "metadata": {},
   "outputs": [
    {
     "data": {
      "text/plain": [
       "-2.246994941228569"
      ]
     },
     "execution_count": 73,
     "metadata": {},
     "output_type": "execute_result"
    }
   ],
   "source": [
    "low_level_full_scf = scf.RKS(molecule) # DFT\n",
    "# low_level_full_scf = scf.RHF(molecule) # HF\n",
    "low_level_full_scf.verbose = 1\n",
    "low_level_full_scf.conv_tol = 1e-6\n",
    "low_level_full_scf.xc = low_l evel_xc_functional\n",
    "low_level_full_scf.kernel()"
   ]
  },
  {
   "cell_type": "code",
   "execution_count": 74,
   "metadata": {},
   "outputs": [
    {
     "data": {
      "text/plain": [
       "array([[1.22105316, 0.73151519, 0.13352854, 0.04962388],\n",
       "       [0.73151519, 1.40647454, 0.50483241, 0.13352854],\n",
       "       [0.13352854, 0.50483241, 1.40647454, 0.73151519],\n",
       "       [0.04962388, 0.13352854, 0.73151519, 1.22105316]])"
      ]
     },
     "execution_count": 74,
     "metadata": {},
     "output_type": "execute_result"
    }
   ],
   "source": [
    "low_level_full_V_xc"
   ]
  },
  {
   "cell_type": "code",
   "execution_count": 75,
   "metadata": {},
   "outputs": [],
   "source": [
    "low_level_full_V_xc = low_level_full_scf.get_veff()\n",
    "low_level_full_E_xc = low_level_full_scf.get_veff().exc"
   ]
  },
  {
   "cell_type": "code",
   "execution_count": 76,
   "metadata": {},
   "outputs": [],
   "source": [
    "double_occ =  sum(low_level_full_scf.mo_occ == 2)\n",
    "\n",
    "occupied_orbitals_full_system = low_level_full_scf.mo_coeff[:, :double_occ]\n",
    "\n",
    "J_low_level_full, K_low_level_full = low_level_full_scf.get_jk()\n",
    "\n",
    "S_ao_overalp_low_level_full = low_level_full_scf.get_ovlp()"
   ]
  },
  {
   "cell_type": "code",
   "execution_count": 77,
   "metadata": {},
   "outputs": [
    {
     "data": {
      "text/plain": [
       "2"
      ]
     },
     "execution_count": 77,
     "metadata": {},
     "output_type": "execute_result"
    }
   ],
   "source": [
    "n_active_ao = molecule.aoslice_nr_by_atom()[n_active_atoms-1][3] # gets length of active list of atoms\n",
    "n_active_ao"
   ]
  },
  {
   "cell_type": "code",
   "execution_count": 78,
   "metadata": {},
   "outputs": [
    {
     "data": {
      "text/plain": [
       "array([[ 0.28801803, -0.48182558],\n",
       "       [ 0.40601711, -0.37485039],\n",
       "       [ 0.40601711,  0.37485039],\n",
       "       [ 0.28801803,  0.48182558]])"
      ]
     },
     "execution_count": 78,
     "metadata": {},
     "output_type": "execute_result"
    }
   ],
   "source": [
    "occupied_orbitals_full_system"
   ]
  },
  {
   "cell_type": "markdown",
   "metadata": {},
   "source": [
    "# Either use SPADE or Huzinaga"
   ]
  },
  {
   "cell_type": "code",
   "execution_count": 103,
   "metadata": {},
   "outputs": [],
   "source": [
    "partitioning_method = 'huzinaga'#\n",
    "# partitioning_method = 'SPADE'\n",
    "\n",
    "if partitioning_method.lower() == 'spade':\n",
    "    s_half = sp.linalg.fractional_matrix_power(S_ao_overalp_low_level_full, 0.5)\n",
    "    ortho_orbitals = (s_half@ occupied_orbitals_full_system)[:n_active_ao, :]\n",
    "    \n",
    "    U, singular_vals, rot_matrix = np.linalg.svd(ortho_orbitals, full_matrices=True)\n",
    "    \n",
    "    \n",
    "    delta_s = [-(singular_vals[i+1]-singular_vals[i]) for i in range(len(singular_vals)-1)]\n",
    "    n_active_MOs = np.argpartition(delta_s, -1)[-1]+1\n",
    "    n_env_MOs = singular_vals.shape[0] - n_active_ao\n",
    "    \n",
    "elif (partitioning_method.lower() == 'huzinaga') or (partitioning_method.lower() == 'mu'):\n",
    "    \n",
    "    ortho_orbitals = occupied_orbitals_full_system\n",
    "    U, singular_vals, rot_matrix = np.linalg.svd(ortho_orbitals, full_matrices=True)\n",
    "    \n",
    "    n_active_MOs = n_active_ao\n",
    "    n_env_MOs = singular_vals.shape[0] - n_active_ao\n",
    "    \n",
    "else:\n",
    "    raise ValueError(f'unknown partitioning method: {partitioning_method}')"
   ]
  },
  {
   "cell_type": "code",
   "execution_count": 102,
   "metadata": {},
   "outputs": [],
   "source": [
    "C = lo.orth_ao(test_scf, 'nao') # matrix of AO to localized orbital coefficients"
   ]
  },
  {
   "cell_type": "markdown",
   "metadata": {},
   "source": [
    "# Define active and environment e- ensities"
   ]
  },
  {
   "cell_type": "code",
   "execution_count": 106,
   "metadata": {},
   "outputs": [
    {
     "data": {
      "text/plain": [
       "array([[ 1.26145289, -0.49117208,  0.07496671, -0.02386852],\n",
       "       [-0.5139852 ,  1.34962289, -0.30745091,  0.07844863],\n",
       "       [ 0.07844863, -0.30745091,  1.34962289, -0.5139852 ],\n",
       "       [-0.02386852,  0.07496671, -0.49117208,  1.26145289]])"
      ]
     },
     "execution_count": 106,
     "metadata": {},
     "output_type": "execute_result"
    }
   ],
   "source": [
    "C"
   ]
  },
  {
   "cell_type": "code",
   "execution_count": 126,
   "metadata": {},
   "outputs": [
    {
     "data": {
      "text/plain": [
       "array([[-1.25782292, -0.49502625, -0.10001484,  0.03912392],\n",
       "       [ 0.50260038,  1.34849763,  0.31777666, -0.11961586],\n",
       "       [-0.05045658, -0.29164232, -1.35285179,  0.51820258],\n",
       "       [ 0.01374219,  0.03552105,  0.49637971, -1.26129287]])"
      ]
     },
     "execution_count": 126,
     "metadata": {},
     "output_type": "execute_result"
    }
   ],
   "source": [
    "orbs = low_level_full_scf.mo_coeff\n",
    "U, singular_vals, rot_matrix = np.linalg.svd(orbs, full_matrices=True)\n",
    "orbs @ U"
   ]
  },
  {
   "cell_type": "code",
   "execution_count": 110,
   "metadata": {},
   "outputs": [],
   "source": [
    "active_orbitals = occupied_orbitals_full_system @ rot_matrix.T[:,:n_active_MOs]\n",
    "environ_orbitals = occupied_orbitals_full_system @ rot_matrix.T[:,n_active_MOs:]\n",
    "\n",
    "gamma_active =  2 * np.matmul(active_orbitals,active_orbitals.T)\n",
    "gamma_environ = 2 * np.matmul(environ_orbitals,environ_orbitals.T)"
   ]
  },
  {
   "cell_type": "code",
   "execution_count": 30,
   "metadata": {},
   "outputs": [
    {
     "data": {
      "text/plain": [
       "array([[ 0.59265918,  0.60114585,  0.0239935 , -0.1492015 ],\n",
       "       [ 0.60114585,  0.60975405,  0.02433708, -0.15133801],\n",
       "       [ 0.0239935 ,  0.02433708,  0.00097136, -0.00604035],\n",
       "       [-0.1492015 , -0.15133801, -0.00604035,  0.03756137]])"
      ]
     },
     "execution_count": 30,
     "metadata": {},
     "output_type": "execute_result"
    }
   ],
   "source": [
    "gamma_active"
   ]
  },
  {
   "cell_type": "markdown",
   "metadata": {},
   "source": [
    "## Get closed shall active energy"
   ]
  },
  {
   "cell_type": "code",
   "execution_count": 34,
   "metadata": {},
   "outputs": [
    {
     "data": {
      "text/plain": [
       "-2.9926389899128596"
      ]
     },
     "execution_count": 34,
     "metadata": {},
     "output_type": "execute_result"
    }
   ],
   "source": [
    "j_act = low_level_full_scf.get_j(dm=gamma_active) # also contains k!\n",
    "k_act = np.zeros_like(j_act)\n",
    "\n",
    "two_elec_term_act = low_level_full_scf.get_veff(dm=gamma_active)\n",
    "e_xc_act = two_elec_term_act.exc\n",
    "v_xc_act = two_elec_term_act - j_act\n",
    "\n",
    "E_act = np.einsum('ij,ij', gamma_active, low_level_full_scf.get_hcore() + j_act/2) + e_xc_act\n",
    "E_act"
   ]
  },
  {
   "cell_type": "code",
   "execution_count": 35,
   "metadata": {},
   "outputs": [
    {
     "data": {
      "text/plain": [
       "-0.67703917909991"
      ]
     },
     "execution_count": 35,
     "metadata": {},
     "output_type": "execute_result"
    }
   ],
   "source": [
    "e_xc_act"
   ]
  },
  {
   "cell_type": "markdown",
   "metadata": {},
   "source": [
    "## Get closed shall environment energy"
   ]
  },
  {
   "cell_type": "code",
   "execution_count": 36,
   "metadata": {},
   "outputs": [
    {
     "data": {
      "text/plain": [
       "-2.9926389899128587"
      ]
     },
     "execution_count": 36,
     "metadata": {},
     "output_type": "execute_result"
    }
   ],
   "source": [
    "j_env = low_level_full_scf.get_j(dm=gamma_environ) # also contains k!\n",
    "k_env = np.zeros_like(j_env)\n",
    "\n",
    "two_elec_term_env = low_level_full_scf.get_veff(dm=gamma_environ)\n",
    "e_xc_env = two_elec_term_env.exc\n",
    "v_xc_env = two_elec_term_env - j_env\n",
    "\n",
    "E_env = np.einsum('ij,ij', gamma_environ, low_level_full_scf.get_hcore() + j_env/2) + e_xc_env\n",
    "E_env"
   ]
  },
  {
   "cell_type": "code",
   "execution_count": null,
   "metadata": {},
   "outputs": [],
   "source": []
  },
  {
   "cell_type": "markdown",
   "metadata": {},
   "source": [
    "# get cross system terms"
   ]
  },
  {
   "cell_type": "code",
   "execution_count": 37,
   "metadata": {},
   "outputs": [],
   "source": [
    "J_cross = 0.5 * (np.einsum('ij,ij', gamma_active, j_env) + np.einsum('ij,ij', gamma_environ, j_act))\n",
    "K_cross = 0 # pyscf includes in J!\n",
    "\n",
    "xc_cross = low_level_full_E_xc - e_xc_act- e_xc_env\n",
    "\n",
    "two_elec_cross = J_cross + K_cross + xc_cross"
   ]
  },
  {
   "cell_type": "code",
   "execution_count": 38,
   "metadata": {},
   "outputs": [
    {
     "data": {
      "text/plain": [
       "1.1240956517435132"
      ]
     },
     "execution_count": 38,
     "metadata": {},
     "output_type": "execute_result"
    }
   ],
   "source": []
  },
  {
   "cell_type": "markdown",
   "metadata": {},
   "source": [
    "# Define embedded Hamiltonian"
   ]
  },
  {
   "cell_type": "code",
   "execution_count": 39,
   "metadata": {},
   "outputs": [],
   "source": [
    "projection_method = 'mu'\n",
    "\n",
    "if projection_method.lower() == 'huzinaga':\n",
    "    F_gb_S = low_level_full_scf.get_fock() @ gamma_environ @ S_ao_overalp_low_level_full\n",
    "    Projector = -0.5*(F_gb_S + F_gb_S.T)\n",
    "    \n",
    "elif projection_method.lower() == 'mu':\n",
    "    Projector = 1e6 * S_ao_overalp_low_level_full @ gamma_environ @ S_ao_overalp_low_level_full\n",
    "else:\n",
    "    raise ValueError(f'unknown partitioning method: {partitioning_method}')"
   ]
  },
  {
   "cell_type": "code",
   "execution_count": 40,
   "metadata": {},
   "outputs": [],
   "source": [
    "h_core = low_level_full_scf.get_hcore()\n",
    "v_embed = j_env - k_env + low_level_full_V_xc - v_xc_act + Projector\n"
   ]
  },
  {
   "cell_type": "code",
   "execution_count": 47,
   "metadata": {},
   "outputs": [
    {
     "data": {
      "text/plain": [
       "NPArrayWithTag([[1.3676255 , 0.96720547, 0.19268363, 0.05419421],\n",
       "                [0.96720547, 1.5639534 , 0.59270491, 0.19268363],\n",
       "                [0.19268363, 0.59270491, 1.5639534 , 0.96720547],\n",
       "                [0.05419421, 0.19268363, 0.96720547, 1.3676255 ]])"
      ]
     },
     "execution_count": 47,
     "metadata": {},
     "output_type": "execute_result"
    }
   ],
   "source": [
    "low_level_full_V_xc"
   ]
  },
  {
   "cell_type": "code",
   "execution_count": 41,
   "metadata": {},
   "outputs": [
    {
     "data": {
      "text/plain": [
       "array([[   1663.76090846,  -12528.26415627,  -51980.91409925,\n",
       "         -52243.4664529 ],\n",
       "       [ -12528.26415627,   94496.03953891,  392014.16282257,\n",
       "         393991.66536417],\n",
       "       [ -51980.91409925,  392014.16282257, 1626300.21049547,\n",
       "        1634505.87923403],\n",
       "       [ -52243.4664529 ,  393991.66536417, 1634505.87923403,\n",
       "        1642754.97264509]])"
      ]
     },
     "execution_count": 41,
     "metadata": {},
     "output_type": "execute_result"
    }
   ],
   "source": [
    "v_embed"
   ]
  },
  {
   "cell_type": "markdown",
   "metadata": {},
   "source": [
    "# run embedded scf"
   ]
  },
  {
   "cell_type": "code",
   "execution_count": 44,
   "metadata": {},
   "outputs": [
    {
     "data": {
      "text/plain": [
       "9.725887666890053"
      ]
     },
     "execution_count": 44,
     "metadata": {},
     "output_type": "execute_result"
    }
   ],
   "source": [
    "molecule_EMBED = deepcopy(molecule)\n",
    "# molecule_EMBED.nelectrons = 2*n_active_MOs\n",
    "\n",
    "high_level_full_scf_EMBED = scf.RHF(molecule)\n",
    "high_level_full_scf_EMBED.verbose = 1\n",
    "high_level_full_scf_EMBED.conv_tol = 1e-6\n",
    "\n",
    "\n",
    "high_level_full_scf_EMBED.get_hcore = lambda *args: h_core + v_embed\n",
    "high_level_full_scf_EMBED.kernel()"
   ]
  },
  {
   "cell_type": "code",
   "execution_count": null,
   "metadata": {},
   "outputs": [],
   "source": []
  },
  {
   "cell_type": "code",
   "execution_count": null,
   "metadata": {},
   "outputs": [],
   "source": [
    "double_occ_EMBED =  sum(high_level_full_scf_EMBED.mo_occ == 2)\n",
    "occupied_orbitals_EMBED = high_level_full_scf_EMBED.mo_coeff[:, :double_occ_EMBED]\n",
    "\n",
    "density_embed = 2 * occupied_orbitals_EMBED @ occupied_orbitals_EMBED.T"
   ]
  },
  {
   "cell_type": "code",
   "execution_count": null,
   "metadata": {},
   "outputs": [],
   "source": [
    "J_embed, K_embed = high_level_full_scf_EMBED.get_jk()"
   ]
  },
  {
   "cell_type": "code",
   "execution_count": null,
   "metadata": {},
   "outputs": [],
   "source": [
    "E_active_EMBED = np.einsum('ij, ij', density_embed, h_core + 0.5*J_embed - 0.25*K_embed)\n",
    "\n",
    "correction = np.einsum('ij, ij', v_embed, density_embed-gamma_active)"
   ]
  },
  {
   "cell_type": "code",
   "execution_count": null,
   "metadata": {},
   "outputs": [],
   "source": []
  },
  {
   "cell_type": "code",
   "execution_count": null,
   "metadata": {},
   "outputs": [],
   "source": [
    "E_embedded = E_active_EMBED + E_env + two_elec_cross + high_level_full_scf_EMBED.energy_nuc() + correction \n",
    "E_embedded"
   ]
  },
  {
   "cell_type": "code",
   "execution_count": null,
   "metadata": {},
   "outputs": [],
   "source": []
  },
  {
   "cell_type": "markdown",
   "metadata": {},
   "source": [
    "## Wavefunction Calc"
   ]
  },
  {
   "cell_type": "code",
   "execution_count": null,
   "metadata": {},
   "outputs": [],
   "source": [
    "shift = mol_low_level.nao - n_env_MOs\n",
    "shift"
   ]
  },
  {
   "cell_type": "code",
   "execution_count": null,
   "metadata": {},
   "outputs": [],
   "source": []
  },
  {
   "cell_type": "code",
   "execution_count": null,
   "metadata": {},
   "outputs": [],
   "source": [
    "if projection_method.lower() == 'mu':\n",
    "    shift = mol_low_level.nao - n_env_MOs\n",
    "    # freeze mu shifted orbitals@\n",
    "    frozen_orbs = [i for i in range(shift, mol_low_level.nao)]\n",
    "\n",
    "elif projection_method.lower() == 'huzinaga':\n",
    "    # not sure if frozen orbs needed here... as projected out.\n",
    "    projected_out = mol_low_level.nao - n_env_MOs\n",
    "    frozen_orbs = [i for i in range(projected_out, mol_low_level.nao)]\n",
    "    \n",
    "else:\n",
    "    # no frozen\n",
    "    pass\n",
    "\n",
    "CC_scf = cc.CCSD(high_level_full_scf_EMBED)#.set(frozen = frozen_orbs)\n",
    "e_correlation, t1, t2 = CC_scf.kernel()\n",
    "\n",
    "# print(CC_scf.e_tot)\n",
    "\n",
    "E_WF_embedded = E_embedded + e_correlation\n",
    "E_WF_embedded"
   ]
  },
  {
   "cell_type": "code",
   "execution_count": null,
   "metadata": {},
   "outputs": [],
   "source": []
  },
  {
   "cell_type": "code",
   "execution_count": null,
   "metadata": {},
   "outputs": [],
   "source": [
    "low_level_full_scf = scf.RHF(molecule)\n",
    "low_level_full_scf.verbose = 1\n",
    "low_level_full_scf.conv_tol = 1e-6\n",
    "low_level_full_scf.kernel()\n",
    "CC_scf = cc.CCSD(low_level_full_scf)#.set(frozen = frozen_orbs)\n",
    "e_correlation, t1, t2 = CC_scf.kernel()\n",
    "\n",
    "print(CC_scf.e_tot == low_level_full_scf.e_tot + e_correlation)\n",
    "CC_scf.e_tot"
   ]
  },
  {
   "cell_type": "code",
   "execution_count": null,
   "metadata": {},
   "outputs": [],
   "source": []
  },
  {
   "cell_type": "code",
   "execution_count": null,
   "metadata": {},
   "outputs": [],
   "source": []
  },
  {
   "cell_type": "code",
   "execution_count": null,
   "metadata": {},
   "outputs": [],
   "source": []
  },
  {
   "cell_type": "code",
   "execution_count": 84,
   "metadata": {},
   "outputs": [
    {
     "data": {
      "text/plain": [
       "-2.246994941228569"
      ]
     },
     "execution_count": 84,
     "metadata": {},
     "output_type": "execute_result"
    }
   ],
   "source": [
    "test_scf = scf.RKS(molecule) # DFT\n",
    "test_scf.verbose = 1\n",
    "test_scf.conv_tol = 1e-6\n",
    "test_scf.xc = low_level_xc_functional\n",
    "test_scf.kernel()"
   ]
  },
  {
   "cell_type": "code",
   "execution_count": 88,
   "metadata": {},
   "outputs": [
    {
     "data": {
      "text/plain": [
       "array([[ 1.26145289, -0.49117208,  0.07496671, -0.02386852],\n",
       "       [-0.5139852 ,  1.34962289, -0.30745091,  0.07844863],\n",
       "       [ 0.07844863, -0.30745091,  1.34962289, -0.5139852 ],\n",
       "       [-0.02386852,  0.07496671, -0.49117208,  1.26145289]])"
      ]
     },
     "execution_count": 88,
     "metadata": {},
     "output_type": "execute_result"
    }
   ],
   "source": [
    "# localise orbitals\n",
    "from pyscf import lo\n",
    "\n",
    "C = lo.orth_ao(test_scf, 'nao') # matrix of AO to localized orbital coefficients"
   ]
  },
  {
   "cell_type": "code",
   "execution_count": 101,
   "metadata": {},
   "outputs": [
    {
     "name": "stdout",
     "output_type": "stream",
     "text": [
      " ** Mulliken pop  **\n",
      "pop of  0 H 1s        0.99262\n",
      "pop of  1 H 1s        1.00738\n",
      "pop of  2 H 1s        1.00738\n",
      "pop of  3 H 1s        0.99262\n",
      " ** Mulliken atomic charges  **\n",
      "charge of  0H =      0.00738\n",
      "charge of  1H =     -0.00738\n",
      "charge of  2H =     -0.00738\n",
      "charge of  3H =      0.00738\n"
     ]
    },
    {
     "data": {
      "text/plain": [
       "(array([0.99262285, 1.00737715, 1.00737715, 0.99262285]),\n",
       " array([ 0.00737715, -0.00737715, -0.00737715,  0.00737715]))"
      ]
     },
     "execution_count": 101,
     "metadata": {},
     "output_type": "execute_result"
    }
   ],
   "source": [
    "mo  = np.linalg.solve(C, test_scf.mo_coeff)\n",
    "# mo = C.T @ test_scf.get_ovlp() @ test_scf.mo_coeff\n",
    "\n",
    "dm = test_scf.make_rdm1(mo, test_scf.mo_occ)\n",
    "\n",
    "test_scf.mulliken_pop(molecule, dm, np.eye(molecule.nao_nr()))"
   ]
  },
  {
   "cell_type": "code",
   "execution_count": null,
   "metadata": {},
   "outputs": [],
   "source": []
  }
 ],
 "metadata": {
  "kernelspec": {
   "display_name": "Python 3",
   "language": "python",
   "name": "python3"
  },
  "language_info": {
   "codemirror_mode": {
    "name": "ipython",
    "version": 3
   },
   "file_extension": ".py",
   "mimetype": "text/x-python",
   "name": "python",
   "nbconvert_exporter": "python",
   "pygments_lexer": "ipython3",
   "version": "3.7.6"
  }
 },
 "nbformat": 4,
 "nbformat_minor": 4
}
