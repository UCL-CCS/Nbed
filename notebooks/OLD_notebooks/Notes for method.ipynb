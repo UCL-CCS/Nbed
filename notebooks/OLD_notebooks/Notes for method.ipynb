{
 "cells": [
  {
   "cell_type": "code",
   "execution_count": 1,
   "metadata": {},
   "outputs": [],
   "source": [
    "from pyscf import gto, dft, scf, lib, cc, fci\n",
    "import numpy as np\n",
    "import scipy as sp"
   ]
  },
  {
   "cell_type": "code",
   "execution_count": 138,
   "metadata": {},
   "outputs": [],
   "source": [
    "from quchem.Hamiltonian.Hamiltonian_Generator_Functions import Hamiltonian_PySCF\n",
    "\n",
    "H2O = Hamiltonian_PySCF('H2O')\n",
    "H2O.Get_Geometry()\n",
    "active_H2O = H2O.geometry"
   ]
  },
  {
   "cell_type": "code",
   "execution_count": 172,
   "metadata": {},
   "outputs": [
    {
     "data": {
      "text/plain": [
       "('O', (0, 0, 0))"
      ]
     },
     "execution_count": 172,
     "metadata": {},
     "output_type": "execute_result"
    }
   ],
   "source": [
    "active_H2O[0]"
   ]
  },
  {
   "cell_type": "code",
   "execution_count": 178,
   "metadata": {},
   "outputs": [
    {
     "data": {
      "text/plain": [
       "('O', array([0. , 0. , 0.4]))"
      ]
     },
     "execution_count": 178,
     "metadata": {},
     "output_type": "execute_result"
    }
   ],
   "source": [
    "env_H2O[0]"
   ]
  },
  {
   "cell_type": "code",
   "execution_count": 189,
   "metadata": {},
   "outputs": [
    {
     "data": {
      "text/plain": [
       "[('O', array([0.2774, 0.8929, 1.    ])),\n",
       " ('H', array([0.    , 0.    , 0.7456])),\n",
       " ('H', array([-0.3294,  1.1312,  1.7169]))]"
      ]
     },
     "execution_count": 189,
     "metadata": {},
     "output_type": "execute_result"
    }
   ],
   "source": [
    "env_H2O=[]\n",
    "\n",
    "for atom, coor in active_H2O:\n",
    "    new_coor = -1*np.array(coor)+ np.array([0.2774, 0.8929, 1])\n",
    "    env_H2O.append((atom,new_coor))\n",
    "env_H2O"
   ]
  },
  {
   "cell_type": "code",
   "execution_count": null,
   "metadata": {},
   "outputs": [],
   "source": []
  },
  {
   "cell_type": "code",
   "execution_count": 190,
   "metadata": {},
   "outputs": [
    {
     "data": {
      "application/javascript": [
       "/* Put everything inside the global mpl namespace */\n",
       "/* global mpl */\n",
       "window.mpl = {};\n",
       "\n",
       "mpl.get_websocket_type = function () {\n",
       "    if (typeof WebSocket !== 'undefined') {\n",
       "        return WebSocket;\n",
       "    } else if (typeof MozWebSocket !== 'undefined') {\n",
       "        return MozWebSocket;\n",
       "    } else {\n",
       "        alert(\n",
       "            'Your browser does not have WebSocket support. ' +\n",
       "                'Please try Chrome, Safari or Firefox ≥ 6. ' +\n",
       "                'Firefox 4 and 5 are also supported but you ' +\n",
       "                'have to enable WebSockets in about:config.'\n",
       "        );\n",
       "    }\n",
       "};\n",
       "\n",
       "mpl.figure = function (figure_id, websocket, ondownload, parent_element) {\n",
       "    this.id = figure_id;\n",
       "\n",
       "    this.ws = websocket;\n",
       "\n",
       "    this.supports_binary = this.ws.binaryType !== undefined;\n",
       "\n",
       "    if (!this.supports_binary) {\n",
       "        var warnings = document.getElementById('mpl-warnings');\n",
       "        if (warnings) {\n",
       "            warnings.style.display = 'block';\n",
       "            warnings.textContent =\n",
       "                'This browser does not support binary websocket messages. ' +\n",
       "                'Performance may be slow.';\n",
       "        }\n",
       "    }\n",
       "\n",
       "    this.imageObj = new Image();\n",
       "\n",
       "    this.context = undefined;\n",
       "    this.message = undefined;\n",
       "    this.canvas = undefined;\n",
       "    this.rubberband_canvas = undefined;\n",
       "    this.rubberband_context = undefined;\n",
       "    this.format_dropdown = undefined;\n",
       "\n",
       "    this.image_mode = 'full';\n",
       "\n",
       "    this.root = document.createElement('div');\n",
       "    this.root.setAttribute('style', 'display: inline-block');\n",
       "    this._root_extra_style(this.root);\n",
       "\n",
       "    parent_element.appendChild(this.root);\n",
       "\n",
       "    this._init_header(this);\n",
       "    this._init_canvas(this);\n",
       "    this._init_toolbar(this);\n",
       "\n",
       "    var fig = this;\n",
       "\n",
       "    this.waiting = false;\n",
       "\n",
       "    this.ws.onopen = function () {\n",
       "        fig.send_message('supports_binary', { value: fig.supports_binary });\n",
       "        fig.send_message('send_image_mode', {});\n",
       "        if (fig.ratio !== 1) {\n",
       "            fig.send_message('set_dpi_ratio', { dpi_ratio: fig.ratio });\n",
       "        }\n",
       "        fig.send_message('refresh', {});\n",
       "    };\n",
       "\n",
       "    this.imageObj.onload = function () {\n",
       "        if (fig.image_mode === 'full') {\n",
       "            // Full images could contain transparency (where diff images\n",
       "            // almost always do), so we need to clear the canvas so that\n",
       "            // there is no ghosting.\n",
       "            fig.context.clearRect(0, 0, fig.canvas.width, fig.canvas.height);\n",
       "        }\n",
       "        fig.context.drawImage(fig.imageObj, 0, 0);\n",
       "    };\n",
       "\n",
       "    this.imageObj.onunload = function () {\n",
       "        fig.ws.close();\n",
       "    };\n",
       "\n",
       "    this.ws.onmessage = this._make_on_message_function(this);\n",
       "\n",
       "    this.ondownload = ondownload;\n",
       "};\n",
       "\n",
       "mpl.figure.prototype._init_header = function () {\n",
       "    var titlebar = document.createElement('div');\n",
       "    titlebar.classList =\n",
       "        'ui-dialog-titlebar ui-widget-header ui-corner-all ui-helper-clearfix';\n",
       "    var titletext = document.createElement('div');\n",
       "    titletext.classList = 'ui-dialog-title';\n",
       "    titletext.setAttribute(\n",
       "        'style',\n",
       "        'width: 100%; text-align: center; padding: 3px;'\n",
       "    );\n",
       "    titlebar.appendChild(titletext);\n",
       "    this.root.appendChild(titlebar);\n",
       "    this.header = titletext;\n",
       "};\n",
       "\n",
       "mpl.figure.prototype._canvas_extra_style = function (_canvas_div) {};\n",
       "\n",
       "mpl.figure.prototype._root_extra_style = function (_canvas_div) {};\n",
       "\n",
       "mpl.figure.prototype._init_canvas = function () {\n",
       "    var fig = this;\n",
       "\n",
       "    var canvas_div = (this.canvas_div = document.createElement('div'));\n",
       "    canvas_div.setAttribute(\n",
       "        'style',\n",
       "        'border: 1px solid #ddd;' +\n",
       "            'box-sizing: content-box;' +\n",
       "            'clear: both;' +\n",
       "            'min-height: 1px;' +\n",
       "            'min-width: 1px;' +\n",
       "            'outline: 0;' +\n",
       "            'overflow: hidden;' +\n",
       "            'position: relative;' +\n",
       "            'resize: both;'\n",
       "    );\n",
       "\n",
       "    function on_keyboard_event_closure(name) {\n",
       "        return function (event) {\n",
       "            return fig.key_event(event, name);\n",
       "        };\n",
       "    }\n",
       "\n",
       "    canvas_div.addEventListener(\n",
       "        'keydown',\n",
       "        on_keyboard_event_closure('key_press')\n",
       "    );\n",
       "    canvas_div.addEventListener(\n",
       "        'keyup',\n",
       "        on_keyboard_event_closure('key_release')\n",
       "    );\n",
       "\n",
       "    this._canvas_extra_style(canvas_div);\n",
       "    this.root.appendChild(canvas_div);\n",
       "\n",
       "    var canvas = (this.canvas = document.createElement('canvas'));\n",
       "    canvas.classList.add('mpl-canvas');\n",
       "    canvas.setAttribute('style', 'box-sizing: content-box;');\n",
       "\n",
       "    this.context = canvas.getContext('2d');\n",
       "\n",
       "    var backingStore =\n",
       "        this.context.backingStorePixelRatio ||\n",
       "        this.context.webkitBackingStorePixelRatio ||\n",
       "        this.context.mozBackingStorePixelRatio ||\n",
       "        this.context.msBackingStorePixelRatio ||\n",
       "        this.context.oBackingStorePixelRatio ||\n",
       "        this.context.backingStorePixelRatio ||\n",
       "        1;\n",
       "\n",
       "    this.ratio = (window.devicePixelRatio || 1) / backingStore;\n",
       "    if (this.ratio !== 1) {\n",
       "        fig.send_message('set_dpi_ratio', { dpi_ratio: this.ratio });\n",
       "    }\n",
       "\n",
       "    var rubberband_canvas = (this.rubberband_canvas = document.createElement(\n",
       "        'canvas'\n",
       "    ));\n",
       "    rubberband_canvas.setAttribute(\n",
       "        'style',\n",
       "        'box-sizing: content-box; position: absolute; left: 0; top: 0; z-index: 1;'\n",
       "    );\n",
       "\n",
       "    var resizeObserver = new ResizeObserver(function (entries) {\n",
       "        var nentries = entries.length;\n",
       "        for (var i = 0; i < nentries; i++) {\n",
       "            var entry = entries[i];\n",
       "            var width, height;\n",
       "            if (entry.contentBoxSize) {\n",
       "                if (entry.contentBoxSize instanceof Array) {\n",
       "                    // Chrome 84 implements new version of spec.\n",
       "                    width = entry.contentBoxSize[0].inlineSize;\n",
       "                    height = entry.contentBoxSize[0].blockSize;\n",
       "                } else {\n",
       "                    // Firefox implements old version of spec.\n",
       "                    width = entry.contentBoxSize.inlineSize;\n",
       "                    height = entry.contentBoxSize.blockSize;\n",
       "                }\n",
       "            } else {\n",
       "                // Chrome <84 implements even older version of spec.\n",
       "                width = entry.contentRect.width;\n",
       "                height = entry.contentRect.height;\n",
       "            }\n",
       "\n",
       "            // Keep the size of the canvas and rubber band canvas in sync with\n",
       "            // the canvas container.\n",
       "            if (entry.devicePixelContentBoxSize) {\n",
       "                // Chrome 84 implements new version of spec.\n",
       "                canvas.setAttribute(\n",
       "                    'width',\n",
       "                    entry.devicePixelContentBoxSize[0].inlineSize\n",
       "                );\n",
       "                canvas.setAttribute(\n",
       "                    'height',\n",
       "                    entry.devicePixelContentBoxSize[0].blockSize\n",
       "                );\n",
       "            } else {\n",
       "                canvas.setAttribute('width', width * fig.ratio);\n",
       "                canvas.setAttribute('height', height * fig.ratio);\n",
       "            }\n",
       "            canvas.setAttribute(\n",
       "                'style',\n",
       "                'width: ' + width + 'px; height: ' + height + 'px;'\n",
       "            );\n",
       "\n",
       "            rubberband_canvas.setAttribute('width', width);\n",
       "            rubberband_canvas.setAttribute('height', height);\n",
       "\n",
       "            // And update the size in Python. We ignore the initial 0/0 size\n",
       "            // that occurs as the element is placed into the DOM, which should\n",
       "            // otherwise not happen due to the minimum size styling.\n",
       "            if (width != 0 && height != 0) {\n",
       "                fig.request_resize(width, height);\n",
       "            }\n",
       "        }\n",
       "    });\n",
       "    resizeObserver.observe(canvas_div);\n",
       "\n",
       "    function on_mouse_event_closure(name) {\n",
       "        return function (event) {\n",
       "            return fig.mouse_event(event, name);\n",
       "        };\n",
       "    }\n",
       "\n",
       "    rubberband_canvas.addEventListener(\n",
       "        'mousedown',\n",
       "        on_mouse_event_closure('button_press')\n",
       "    );\n",
       "    rubberband_canvas.addEventListener(\n",
       "        'mouseup',\n",
       "        on_mouse_event_closure('button_release')\n",
       "    );\n",
       "    // Throttle sequential mouse events to 1 every 20ms.\n",
       "    rubberband_canvas.addEventListener(\n",
       "        'mousemove',\n",
       "        on_mouse_event_closure('motion_notify')\n",
       "    );\n",
       "\n",
       "    rubberband_canvas.addEventListener(\n",
       "        'mouseenter',\n",
       "        on_mouse_event_closure('figure_enter')\n",
       "    );\n",
       "    rubberband_canvas.addEventListener(\n",
       "        'mouseleave',\n",
       "        on_mouse_event_closure('figure_leave')\n",
       "    );\n",
       "\n",
       "    canvas_div.addEventListener('wheel', function (event) {\n",
       "        if (event.deltaY < 0) {\n",
       "            event.step = 1;\n",
       "        } else {\n",
       "            event.step = -1;\n",
       "        }\n",
       "        on_mouse_event_closure('scroll')(event);\n",
       "    });\n",
       "\n",
       "    canvas_div.appendChild(canvas);\n",
       "    canvas_div.appendChild(rubberband_canvas);\n",
       "\n",
       "    this.rubberband_context = rubberband_canvas.getContext('2d');\n",
       "    this.rubberband_context.strokeStyle = '#000000';\n",
       "\n",
       "    this._resize_canvas = function (width, height, forward) {\n",
       "        if (forward) {\n",
       "            canvas_div.style.width = width + 'px';\n",
       "            canvas_div.style.height = height + 'px';\n",
       "        }\n",
       "    };\n",
       "\n",
       "    // Disable right mouse context menu.\n",
       "    this.rubberband_canvas.addEventListener('contextmenu', function (_e) {\n",
       "        event.preventDefault();\n",
       "        return false;\n",
       "    });\n",
       "\n",
       "    function set_focus() {\n",
       "        canvas.focus();\n",
       "        canvas_div.focus();\n",
       "    }\n",
       "\n",
       "    window.setTimeout(set_focus, 100);\n",
       "};\n",
       "\n",
       "mpl.figure.prototype._init_toolbar = function () {\n",
       "    var fig = this;\n",
       "\n",
       "    var toolbar = document.createElement('div');\n",
       "    toolbar.classList = 'mpl-toolbar';\n",
       "    this.root.appendChild(toolbar);\n",
       "\n",
       "    function on_click_closure(name) {\n",
       "        return function (_event) {\n",
       "            return fig.toolbar_button_onclick(name);\n",
       "        };\n",
       "    }\n",
       "\n",
       "    function on_mouseover_closure(tooltip) {\n",
       "        return function (event) {\n",
       "            if (!event.currentTarget.disabled) {\n",
       "                return fig.toolbar_button_onmouseover(tooltip);\n",
       "            }\n",
       "        };\n",
       "    }\n",
       "\n",
       "    fig.buttons = {};\n",
       "    var buttonGroup = document.createElement('div');\n",
       "    buttonGroup.classList = 'mpl-button-group';\n",
       "    for (var toolbar_ind in mpl.toolbar_items) {\n",
       "        var name = mpl.toolbar_items[toolbar_ind][0];\n",
       "        var tooltip = mpl.toolbar_items[toolbar_ind][1];\n",
       "        var image = mpl.toolbar_items[toolbar_ind][2];\n",
       "        var method_name = mpl.toolbar_items[toolbar_ind][3];\n",
       "\n",
       "        if (!name) {\n",
       "            /* Instead of a spacer, we start a new button group. */\n",
       "            if (buttonGroup.hasChildNodes()) {\n",
       "                toolbar.appendChild(buttonGroup);\n",
       "            }\n",
       "            buttonGroup = document.createElement('div');\n",
       "            buttonGroup.classList = 'mpl-button-group';\n",
       "            continue;\n",
       "        }\n",
       "\n",
       "        var button = (fig.buttons[name] = document.createElement('button'));\n",
       "        button.classList = 'mpl-widget';\n",
       "        button.setAttribute('role', 'button');\n",
       "        button.setAttribute('aria-disabled', 'false');\n",
       "        button.addEventListener('click', on_click_closure(method_name));\n",
       "        button.addEventListener('mouseover', on_mouseover_closure(tooltip));\n",
       "\n",
       "        var icon_img = document.createElement('img');\n",
       "        icon_img.src = '_images/' + image + '.png';\n",
       "        icon_img.srcset = '_images/' + image + '_large.png 2x';\n",
       "        icon_img.alt = tooltip;\n",
       "        button.appendChild(icon_img);\n",
       "\n",
       "        buttonGroup.appendChild(button);\n",
       "    }\n",
       "\n",
       "    if (buttonGroup.hasChildNodes()) {\n",
       "        toolbar.appendChild(buttonGroup);\n",
       "    }\n",
       "\n",
       "    var fmt_picker = document.createElement('select');\n",
       "    fmt_picker.classList = 'mpl-widget';\n",
       "    toolbar.appendChild(fmt_picker);\n",
       "    this.format_dropdown = fmt_picker;\n",
       "\n",
       "    for (var ind in mpl.extensions) {\n",
       "        var fmt = mpl.extensions[ind];\n",
       "        var option = document.createElement('option');\n",
       "        option.selected = fmt === mpl.default_extension;\n",
       "        option.innerHTML = fmt;\n",
       "        fmt_picker.appendChild(option);\n",
       "    }\n",
       "\n",
       "    var status_bar = document.createElement('span');\n",
       "    status_bar.classList = 'mpl-message';\n",
       "    toolbar.appendChild(status_bar);\n",
       "    this.message = status_bar;\n",
       "};\n",
       "\n",
       "mpl.figure.prototype.request_resize = function (x_pixels, y_pixels) {\n",
       "    // Request matplotlib to resize the figure. Matplotlib will then trigger a resize in the client,\n",
       "    // which will in turn request a refresh of the image.\n",
       "    this.send_message('resize', { width: x_pixels, height: y_pixels });\n",
       "};\n",
       "\n",
       "mpl.figure.prototype.send_message = function (type, properties) {\n",
       "    properties['type'] = type;\n",
       "    properties['figure_id'] = this.id;\n",
       "    this.ws.send(JSON.stringify(properties));\n",
       "};\n",
       "\n",
       "mpl.figure.prototype.send_draw_message = function () {\n",
       "    if (!this.waiting) {\n",
       "        this.waiting = true;\n",
       "        this.ws.send(JSON.stringify({ type: 'draw', figure_id: this.id }));\n",
       "    }\n",
       "};\n",
       "\n",
       "mpl.figure.prototype.handle_save = function (fig, _msg) {\n",
       "    var format_dropdown = fig.format_dropdown;\n",
       "    var format = format_dropdown.options[format_dropdown.selectedIndex].value;\n",
       "    fig.ondownload(fig, format);\n",
       "};\n",
       "\n",
       "mpl.figure.prototype.handle_resize = function (fig, msg) {\n",
       "    var size = msg['size'];\n",
       "    if (size[0] !== fig.canvas.width || size[1] !== fig.canvas.height) {\n",
       "        fig._resize_canvas(size[0], size[1], msg['forward']);\n",
       "        fig.send_message('refresh', {});\n",
       "    }\n",
       "};\n",
       "\n",
       "mpl.figure.prototype.handle_rubberband = function (fig, msg) {\n",
       "    var x0 = msg['x0'] / fig.ratio;\n",
       "    var y0 = (fig.canvas.height - msg['y0']) / fig.ratio;\n",
       "    var x1 = msg['x1'] / fig.ratio;\n",
       "    var y1 = (fig.canvas.height - msg['y1']) / fig.ratio;\n",
       "    x0 = Math.floor(x0) + 0.5;\n",
       "    y0 = Math.floor(y0) + 0.5;\n",
       "    x1 = Math.floor(x1) + 0.5;\n",
       "    y1 = Math.floor(y1) + 0.5;\n",
       "    var min_x = Math.min(x0, x1);\n",
       "    var min_y = Math.min(y0, y1);\n",
       "    var width = Math.abs(x1 - x0);\n",
       "    var height = Math.abs(y1 - y0);\n",
       "\n",
       "    fig.rubberband_context.clearRect(\n",
       "        0,\n",
       "        0,\n",
       "        fig.canvas.width / fig.ratio,\n",
       "        fig.canvas.height / fig.ratio\n",
       "    );\n",
       "\n",
       "    fig.rubberband_context.strokeRect(min_x, min_y, width, height);\n",
       "};\n",
       "\n",
       "mpl.figure.prototype.handle_figure_label = function (fig, msg) {\n",
       "    // Updates the figure title.\n",
       "    fig.header.textContent = msg['label'];\n",
       "};\n",
       "\n",
       "mpl.figure.prototype.handle_cursor = function (fig, msg) {\n",
       "    var cursor = msg['cursor'];\n",
       "    switch (cursor) {\n",
       "        case 0:\n",
       "            cursor = 'pointer';\n",
       "            break;\n",
       "        case 1:\n",
       "            cursor = 'default';\n",
       "            break;\n",
       "        case 2:\n",
       "            cursor = 'crosshair';\n",
       "            break;\n",
       "        case 3:\n",
       "            cursor = 'move';\n",
       "            break;\n",
       "    }\n",
       "    fig.rubberband_canvas.style.cursor = cursor;\n",
       "};\n",
       "\n",
       "mpl.figure.prototype.handle_message = function (fig, msg) {\n",
       "    fig.message.textContent = msg['message'];\n",
       "};\n",
       "\n",
       "mpl.figure.prototype.handle_draw = function (fig, _msg) {\n",
       "    // Request the server to send over a new figure.\n",
       "    fig.send_draw_message();\n",
       "};\n",
       "\n",
       "mpl.figure.prototype.handle_image_mode = function (fig, msg) {\n",
       "    fig.image_mode = msg['mode'];\n",
       "};\n",
       "\n",
       "mpl.figure.prototype.handle_history_buttons = function (fig, msg) {\n",
       "    for (var key in msg) {\n",
       "        if (!(key in fig.buttons)) {\n",
       "            continue;\n",
       "        }\n",
       "        fig.buttons[key].disabled = !msg[key];\n",
       "        fig.buttons[key].setAttribute('aria-disabled', !msg[key]);\n",
       "    }\n",
       "};\n",
       "\n",
       "mpl.figure.prototype.handle_navigate_mode = function (fig, msg) {\n",
       "    if (msg['mode'] === 'PAN') {\n",
       "        fig.buttons['Pan'].classList.add('active');\n",
       "        fig.buttons['Zoom'].classList.remove('active');\n",
       "    } else if (msg['mode'] === 'ZOOM') {\n",
       "        fig.buttons['Pan'].classList.remove('active');\n",
       "        fig.buttons['Zoom'].classList.add('active');\n",
       "    } else {\n",
       "        fig.buttons['Pan'].classList.remove('active');\n",
       "        fig.buttons['Zoom'].classList.remove('active');\n",
       "    }\n",
       "};\n",
       "\n",
       "mpl.figure.prototype.updated_canvas_event = function () {\n",
       "    // Called whenever the canvas gets updated.\n",
       "    this.send_message('ack', {});\n",
       "};\n",
       "\n",
       "// A function to construct a web socket function for onmessage handling.\n",
       "// Called in the figure constructor.\n",
       "mpl.figure.prototype._make_on_message_function = function (fig) {\n",
       "    return function socket_on_message(evt) {\n",
       "        if (evt.data instanceof Blob) {\n",
       "            /* FIXME: We get \"Resource interpreted as Image but\n",
       "             * transferred with MIME type text/plain:\" errors on\n",
       "             * Chrome.  But how to set the MIME type?  It doesn't seem\n",
       "             * to be part of the websocket stream */\n",
       "            evt.data.type = 'image/png';\n",
       "\n",
       "            /* Free the memory for the previous frames */\n",
       "            if (fig.imageObj.src) {\n",
       "                (window.URL || window.webkitURL).revokeObjectURL(\n",
       "                    fig.imageObj.src\n",
       "                );\n",
       "            }\n",
       "\n",
       "            fig.imageObj.src = (window.URL || window.webkitURL).createObjectURL(\n",
       "                evt.data\n",
       "            );\n",
       "            fig.updated_canvas_event();\n",
       "            fig.waiting = false;\n",
       "            return;\n",
       "        } else if (\n",
       "            typeof evt.data === 'string' &&\n",
       "            evt.data.slice(0, 21) === 'data:image/png;base64'\n",
       "        ) {\n",
       "            fig.imageObj.src = evt.data;\n",
       "            fig.updated_canvas_event();\n",
       "            fig.waiting = false;\n",
       "            return;\n",
       "        }\n",
       "\n",
       "        var msg = JSON.parse(evt.data);\n",
       "        var msg_type = msg['type'];\n",
       "\n",
       "        // Call the  \"handle_{type}\" callback, which takes\n",
       "        // the figure and JSON message as its only arguments.\n",
       "        try {\n",
       "            var callback = fig['handle_' + msg_type];\n",
       "        } catch (e) {\n",
       "            console.log(\n",
       "                \"No handler for the '\" + msg_type + \"' message type: \",\n",
       "                msg\n",
       "            );\n",
       "            return;\n",
       "        }\n",
       "\n",
       "        if (callback) {\n",
       "            try {\n",
       "                // console.log(\"Handling '\" + msg_type + \"' message: \", msg);\n",
       "                callback(fig, msg);\n",
       "            } catch (e) {\n",
       "                console.log(\n",
       "                    \"Exception inside the 'handler_\" + msg_type + \"' callback:\",\n",
       "                    e,\n",
       "                    e.stack,\n",
       "                    msg\n",
       "                );\n",
       "            }\n",
       "        }\n",
       "    };\n",
       "};\n",
       "\n",
       "// from http://stackoverflow.com/questions/1114465/getting-mouse-location-in-canvas\n",
       "mpl.findpos = function (e) {\n",
       "    //this section is from http://www.quirksmode.org/js/events_properties.html\n",
       "    var targ;\n",
       "    if (!e) {\n",
       "        e = window.event;\n",
       "    }\n",
       "    if (e.target) {\n",
       "        targ = e.target;\n",
       "    } else if (e.srcElement) {\n",
       "        targ = e.srcElement;\n",
       "    }\n",
       "    if (targ.nodeType === 3) {\n",
       "        // defeat Safari bug\n",
       "        targ = targ.parentNode;\n",
       "    }\n",
       "\n",
       "    // pageX,Y are the mouse positions relative to the document\n",
       "    var boundingRect = targ.getBoundingClientRect();\n",
       "    var x = e.pageX - (boundingRect.left + document.body.scrollLeft);\n",
       "    var y = e.pageY - (boundingRect.top + document.body.scrollTop);\n",
       "\n",
       "    return { x: x, y: y };\n",
       "};\n",
       "\n",
       "/*\n",
       " * return a copy of an object with only non-object keys\n",
       " * we need this to avoid circular references\n",
       " * http://stackoverflow.com/a/24161582/3208463\n",
       " */\n",
       "function simpleKeys(original) {\n",
       "    return Object.keys(original).reduce(function (obj, key) {\n",
       "        if (typeof original[key] !== 'object') {\n",
       "            obj[key] = original[key];\n",
       "        }\n",
       "        return obj;\n",
       "    }, {});\n",
       "}\n",
       "\n",
       "mpl.figure.prototype.mouse_event = function (event, name) {\n",
       "    var canvas_pos = mpl.findpos(event);\n",
       "\n",
       "    if (name === 'button_press') {\n",
       "        this.canvas.focus();\n",
       "        this.canvas_div.focus();\n",
       "    }\n",
       "\n",
       "    var x = canvas_pos.x * this.ratio;\n",
       "    var y = canvas_pos.y * this.ratio;\n",
       "\n",
       "    this.send_message(name, {\n",
       "        x: x,\n",
       "        y: y,\n",
       "        button: event.button,\n",
       "        step: event.step,\n",
       "        guiEvent: simpleKeys(event),\n",
       "    });\n",
       "\n",
       "    /* This prevents the web browser from automatically changing to\n",
       "     * the text insertion cursor when the button is pressed.  We want\n",
       "     * to control all of the cursor setting manually through the\n",
       "     * 'cursor' event from matplotlib */\n",
       "    event.preventDefault();\n",
       "    return false;\n",
       "};\n",
       "\n",
       "mpl.figure.prototype._key_event_extra = function (_event, _name) {\n",
       "    // Handle any extra behaviour associated with a key event\n",
       "};\n",
       "\n",
       "mpl.figure.prototype.key_event = function (event, name) {\n",
       "    // Prevent repeat events\n",
       "    if (name === 'key_press') {\n",
       "        if (event.which === this._key) {\n",
       "            return;\n",
       "        } else {\n",
       "            this._key = event.which;\n",
       "        }\n",
       "    }\n",
       "    if (name === 'key_release') {\n",
       "        this._key = null;\n",
       "    }\n",
       "\n",
       "    var value = '';\n",
       "    if (event.ctrlKey && event.which !== 17) {\n",
       "        value += 'ctrl+';\n",
       "    }\n",
       "    if (event.altKey && event.which !== 18) {\n",
       "        value += 'alt+';\n",
       "    }\n",
       "    if (event.shiftKey && event.which !== 16) {\n",
       "        value += 'shift+';\n",
       "    }\n",
       "\n",
       "    value += 'k';\n",
       "    value += event.which.toString();\n",
       "\n",
       "    this._key_event_extra(event, name);\n",
       "\n",
       "    this.send_message(name, { key: value, guiEvent: simpleKeys(event) });\n",
       "    return false;\n",
       "};\n",
       "\n",
       "mpl.figure.prototype.toolbar_button_onclick = function (name) {\n",
       "    if (name === 'download') {\n",
       "        this.handle_save(this, null);\n",
       "    } else {\n",
       "        this.send_message('toolbar_button', { name: name });\n",
       "    }\n",
       "};\n",
       "\n",
       "mpl.figure.prototype.toolbar_button_onmouseover = function (tooltip) {\n",
       "    this.message.textContent = tooltip;\n",
       "};\n",
       "mpl.toolbar_items = [[\"Home\", \"Reset original view\", \"fa fa-home icon-home\", \"home\"], [\"Back\", \"Back to previous view\", \"fa fa-arrow-left icon-arrow-left\", \"back\"], [\"Forward\", \"Forward to next view\", \"fa fa-arrow-right icon-arrow-right\", \"forward\"], [\"\", \"\", \"\", \"\"], [\"Pan\", \"Left button pans, Right button zooms\\nx/y fixes axis, CTRL fixes aspect\", \"fa fa-arrows icon-move\", \"pan\"], [\"Zoom\", \"Zoom to rectangle\\nx/y fixes axis, CTRL fixes aspect\", \"fa fa-square-o icon-check-empty\", \"zoom\"], [\"\", \"\", \"\", \"\"], [\"Download\", \"Download plot\", \"fa fa-floppy-o icon-save\", \"download\"]];\n",
       "\n",
       "mpl.extensions = [\"eps\", \"jpeg\", \"pdf\", \"png\", \"ps\", \"raw\", \"svg\", \"tif\"];\n",
       "\n",
       "mpl.default_extension = \"png\";/* global mpl */\n",
       "\n",
       "var comm_websocket_adapter = function (comm) {\n",
       "    // Create a \"websocket\"-like object which calls the given IPython comm\n",
       "    // object with the appropriate methods. Currently this is a non binary\n",
       "    // socket, so there is still some room for performance tuning.\n",
       "    var ws = {};\n",
       "\n",
       "    ws.close = function () {\n",
       "        comm.close();\n",
       "    };\n",
       "    ws.send = function (m) {\n",
       "        //console.log('sending', m);\n",
       "        comm.send(m);\n",
       "    };\n",
       "    // Register the callback with on_msg.\n",
       "    comm.on_msg(function (msg) {\n",
       "        //console.log('receiving', msg['content']['data'], msg);\n",
       "        // Pass the mpl event to the overridden (by mpl) onmessage function.\n",
       "        ws.onmessage(msg['content']['data']);\n",
       "    });\n",
       "    return ws;\n",
       "};\n",
       "\n",
       "mpl.mpl_figure_comm = function (comm, msg) {\n",
       "    // This is the function which gets called when the mpl process\n",
       "    // starts-up an IPython Comm through the \"matplotlib\" channel.\n",
       "\n",
       "    var id = msg.content.data.id;\n",
       "    // Get hold of the div created by the display call when the Comm\n",
       "    // socket was opened in Python.\n",
       "    var element = document.getElementById(id);\n",
       "    var ws_proxy = comm_websocket_adapter(comm);\n",
       "\n",
       "    function ondownload(figure, _format) {\n",
       "        window.open(figure.canvas.toDataURL());\n",
       "    }\n",
       "\n",
       "    var fig = new mpl.figure(id, ws_proxy, ondownload, element);\n",
       "\n",
       "    // Call onopen now - mpl needs it, as it is assuming we've passed it a real\n",
       "    // web socket which is closed, not our websocket->open comm proxy.\n",
       "    ws_proxy.onopen();\n",
       "\n",
       "    fig.parent_element = element;\n",
       "    fig.cell_info = mpl.find_output_cell(\"<div id='\" + id + \"'></div>\");\n",
       "    if (!fig.cell_info) {\n",
       "        console.error('Failed to find cell for figure', id, fig);\n",
       "        return;\n",
       "    }\n",
       "    fig.cell_info[0].output_area.element.one(\n",
       "        'cleared',\n",
       "        { fig: fig },\n",
       "        fig._remove_fig_handler\n",
       "    );\n",
       "};\n",
       "\n",
       "mpl.figure.prototype.handle_close = function (fig, msg) {\n",
       "    var width = fig.canvas.width / fig.ratio;\n",
       "    fig.cell_info[0].output_area.element.off(\n",
       "        'cleared',\n",
       "        fig._remove_fig_handler\n",
       "    );\n",
       "\n",
       "    // Update the output cell to use the data from the current canvas.\n",
       "    fig.push_to_output();\n",
       "    var dataURL = fig.canvas.toDataURL();\n",
       "    // Re-enable the keyboard manager in IPython - without this line, in FF,\n",
       "    // the notebook keyboard shortcuts fail.\n",
       "    IPython.keyboard_manager.enable();\n",
       "    fig.parent_element.innerHTML =\n",
       "        '<img src=\"' + dataURL + '\" width=\"' + width + '\">';\n",
       "    fig.close_ws(fig, msg);\n",
       "};\n",
       "\n",
       "mpl.figure.prototype.close_ws = function (fig, msg) {\n",
       "    fig.send_message('closing', msg);\n",
       "    // fig.ws.close()\n",
       "};\n",
       "\n",
       "mpl.figure.prototype.push_to_output = function (_remove_interactive) {\n",
       "    // Turn the data on the canvas into data in the output cell.\n",
       "    var width = this.canvas.width / this.ratio;\n",
       "    var dataURL = this.canvas.toDataURL();\n",
       "    this.cell_info[1]['text/html'] =\n",
       "        '<img src=\"' + dataURL + '\" width=\"' + width + '\">';\n",
       "};\n",
       "\n",
       "mpl.figure.prototype.updated_canvas_event = function () {\n",
       "    // Tell IPython that the notebook contents must change.\n",
       "    IPython.notebook.set_dirty(true);\n",
       "    this.send_message('ack', {});\n",
       "    var fig = this;\n",
       "    // Wait a second, then push the new image to the DOM so\n",
       "    // that it is saved nicely (might be nice to debounce this).\n",
       "    setTimeout(function () {\n",
       "        fig.push_to_output();\n",
       "    }, 1000);\n",
       "};\n",
       "\n",
       "mpl.figure.prototype._init_toolbar = function () {\n",
       "    var fig = this;\n",
       "\n",
       "    var toolbar = document.createElement('div');\n",
       "    toolbar.classList = 'btn-toolbar';\n",
       "    this.root.appendChild(toolbar);\n",
       "\n",
       "    function on_click_closure(name) {\n",
       "        return function (_event) {\n",
       "            return fig.toolbar_button_onclick(name);\n",
       "        };\n",
       "    }\n",
       "\n",
       "    function on_mouseover_closure(tooltip) {\n",
       "        return function (event) {\n",
       "            if (!event.currentTarget.disabled) {\n",
       "                return fig.toolbar_button_onmouseover(tooltip);\n",
       "            }\n",
       "        };\n",
       "    }\n",
       "\n",
       "    fig.buttons = {};\n",
       "    var buttonGroup = document.createElement('div');\n",
       "    buttonGroup.classList = 'btn-group';\n",
       "    var button;\n",
       "    for (var toolbar_ind in mpl.toolbar_items) {\n",
       "        var name = mpl.toolbar_items[toolbar_ind][0];\n",
       "        var tooltip = mpl.toolbar_items[toolbar_ind][1];\n",
       "        var image = mpl.toolbar_items[toolbar_ind][2];\n",
       "        var method_name = mpl.toolbar_items[toolbar_ind][3];\n",
       "\n",
       "        if (!name) {\n",
       "            /* Instead of a spacer, we start a new button group. */\n",
       "            if (buttonGroup.hasChildNodes()) {\n",
       "                toolbar.appendChild(buttonGroup);\n",
       "            }\n",
       "            buttonGroup = document.createElement('div');\n",
       "            buttonGroup.classList = 'btn-group';\n",
       "            continue;\n",
       "        }\n",
       "\n",
       "        button = fig.buttons[name] = document.createElement('button');\n",
       "        button.classList = 'btn btn-default';\n",
       "        button.href = '#';\n",
       "        button.title = name;\n",
       "        button.innerHTML = '<i class=\"fa ' + image + ' fa-lg\"></i>';\n",
       "        button.addEventListener('click', on_click_closure(method_name));\n",
       "        button.addEventListener('mouseover', on_mouseover_closure(tooltip));\n",
       "        buttonGroup.appendChild(button);\n",
       "    }\n",
       "\n",
       "    if (buttonGroup.hasChildNodes()) {\n",
       "        toolbar.appendChild(buttonGroup);\n",
       "    }\n",
       "\n",
       "    // Add the status bar.\n",
       "    var status_bar = document.createElement('span');\n",
       "    status_bar.classList = 'mpl-message pull-right';\n",
       "    toolbar.appendChild(status_bar);\n",
       "    this.message = status_bar;\n",
       "\n",
       "    // Add the close button to the window.\n",
       "    var buttongrp = document.createElement('div');\n",
       "    buttongrp.classList = 'btn-group inline pull-right';\n",
       "    button = document.createElement('button');\n",
       "    button.classList = 'btn btn-mini btn-primary';\n",
       "    button.href = '#';\n",
       "    button.title = 'Stop Interaction';\n",
       "    button.innerHTML = '<i class=\"fa fa-power-off icon-remove icon-large\"></i>';\n",
       "    button.addEventListener('click', function (_evt) {\n",
       "        fig.handle_close(fig, {});\n",
       "    });\n",
       "    button.addEventListener(\n",
       "        'mouseover',\n",
       "        on_mouseover_closure('Stop Interaction')\n",
       "    );\n",
       "    buttongrp.appendChild(button);\n",
       "    var titlebar = this.root.querySelector('.ui-dialog-titlebar');\n",
       "    titlebar.insertBefore(buttongrp, titlebar.firstChild);\n",
       "};\n",
       "\n",
       "mpl.figure.prototype._remove_fig_handler = function (event) {\n",
       "    var fig = event.data.fig;\n",
       "    fig.close_ws(fig, {});\n",
       "};\n",
       "\n",
       "mpl.figure.prototype._root_extra_style = function (el) {\n",
       "    el.style.boxSizing = 'content-box'; // override notebook setting of border-box.\n",
       "};\n",
       "\n",
       "mpl.figure.prototype._canvas_extra_style = function (el) {\n",
       "    // this is important to make the div 'focusable\n",
       "    el.setAttribute('tabindex', 0);\n",
       "    // reach out to IPython and tell the keyboard manager to turn it's self\n",
       "    // off when our div gets focus\n",
       "\n",
       "    // location in version 3\n",
       "    if (IPython.notebook.keyboard_manager) {\n",
       "        IPython.notebook.keyboard_manager.register_events(el);\n",
       "    } else {\n",
       "        // location in version 2\n",
       "        IPython.keyboard_manager.register_events(el);\n",
       "    }\n",
       "};\n",
       "\n",
       "mpl.figure.prototype._key_event_extra = function (event, _name) {\n",
       "    var manager = IPython.notebook.keyboard_manager;\n",
       "    if (!manager) {\n",
       "        manager = IPython.keyboard_manager;\n",
       "    }\n",
       "\n",
       "    // Check for shift+enter\n",
       "    if (event.shiftKey && event.which === 13) {\n",
       "        this.canvas_div.blur();\n",
       "        // select the cell after this one\n",
       "        var index = IPython.notebook.find_cell_index(this.cell_info[0]);\n",
       "        IPython.notebook.select(index + 1);\n",
       "    }\n",
       "};\n",
       "\n",
       "mpl.figure.prototype.handle_save = function (fig, _msg) {\n",
       "    fig.ondownload(fig, null);\n",
       "};\n",
       "\n",
       "mpl.find_output_cell = function (html_output) {\n",
       "    // Return the cell and output element which can be found *uniquely* in the notebook.\n",
       "    // Note - this is a bit hacky, but it is done because the \"notebook_saving.Notebook\"\n",
       "    // IPython event is triggered only after the cells have been serialised, which for\n",
       "    // our purposes (turning an active figure into a static one), is too late.\n",
       "    var cells = IPython.notebook.get_cells();\n",
       "    var ncells = cells.length;\n",
       "    for (var i = 0; i < ncells; i++) {\n",
       "        var cell = cells[i];\n",
       "        if (cell.cell_type === 'code') {\n",
       "            for (var j = 0; j < cell.output_area.outputs.length; j++) {\n",
       "                var data = cell.output_area.outputs[j];\n",
       "                if (data.data) {\n",
       "                    // IPython >= 3 moved mimebundle to data attribute of output\n",
       "                    data = data.data;\n",
       "                }\n",
       "                if (data['text/html'] === html_output) {\n",
       "                    return [cell, data, j];\n",
       "                }\n",
       "            }\n",
       "        }\n",
       "    }\n",
       "};\n",
       "\n",
       "// Register the function which deals with the matplotlib target/channel.\n",
       "// The kernel may be null if the page has been refreshed.\n",
       "if (IPython.notebook.kernel !== null) {\n",
       "    IPython.notebook.kernel.comm_manager.register_target(\n",
       "        'matplotlib',\n",
       "        mpl.mpl_figure_comm\n",
       "    );\n",
       "}\n"
      ],
      "text/plain": [
       "<IPython.core.display.Javascript object>"
      ]
     },
     "metadata": {},
     "output_type": "display_data"
    },
    {
     "data": {
      "text/html": [
       "<img src=\"data:image/png;base64,iVBORw0KGgoAAAANSUhEUgAAAoAAAAHgCAYAAAA10dzkAAAgAElEQVR4nOzdeXgb9YH/8Umd4BAvgZAty9GFhJaQECBsQ1OOBra4TcpydGlYWgI89Gm3peyydAulBGjp8cAC5Xw27a9PgTRsgS20SfAp27It2bp8SvIpS7Jsy6d8yJI8vmTHzuf3R1ZTK/HYsj3yyNHn9Tzfp42uGUUhfme++s4IICIiIqKkIqi9A0RERES0vBiAREREREmGAUhERESUZBiAREREREmGAUhERESUZBiAREREREmGAUhERESUZBiAREREREmGAUhERESUZBiAREREREmGAUhERESUZBiAREREREmGAUhERESUZBiAREREREmGAUhERESUZBiAREREREmGAUhERESUZBiAREREREmGAUhERESUZBiAREREREmGAUhERESUZBiAREREREmGAUhERESUZBiAREREREmGAUhERESUZBiAREREREmGAUhERESUZBiAREREREmGAUhERESUZBiAREREREmGAUhERESUZBiAREREREmGAUhERESUZBiAREREREmGAUhERESUZBiAREREREmGAUhERESUZBiAREREREmGAUhERESUZBiAREREREmGAUhERESUZBiAREREREmGAUhERESUZBiAREREREmGAUhERESUZBiAREREREmGAUhERESUZBiAREREREmGAUhERESUZBiAREREREmGAUhERESUZBiAREREREmGAUhERESUZBiAREREREmGAUhERESUZBiAREREREmGAUhERESUZBiAREREREmGAUhERESUZBiAREREREmGAUhERESUZBiAREREREmGAUhERESUZBiAREQ0r6mpKYyPj3OsoDE5OYkTJ06o/UeHEhQDkIiI5jQ8PIympiY4HA6OFTa8Xi8mJibU/iNECYgBSEREsqamptDU1IT29naMjY2pflSLI7YxNjaGUCiE5uZmOJ1OTE9Pq/1HiRIMA5CIiGSNj4/D4XBgbGxM7V2hRRgdHYXD4cD4+Ljau0IJhgFIRESyIgHIgFiZ+PmRHAYgERHJYkCsbPz8SA4DkIiIZDEgogmCgE8++UTt3YgZPz+SwwAkIiJZyRoQP//5z7Fjx47Tbvf5fAiHw8u+P1NTU3jjjTdwzTXXIDU1Feeeey6+9rWvwWQyzfm8ZP38aH4MQCIikpWsASEXgGo4ceIE7r33Xpx33nl455130NraipqaGnzve9/D6tWr5zwimayfH82PAUhERLKUDAiX3wWNWwO3363Ans0tLy8PN998M84991ycf/75uOOOO+DxeKIe09nZiW9+85vYsGED1q1bh507d6K8vByHDx+GIAhR4/DhwwCip4BvuOEGPP3001Gv2d/fj9WrV0On0wEAJiYm8NRTT+Hiiy/GunXrsGvXLuj1+gW9l48++giCICArK+u0+77xjW9g48aNGBkZmfW5DECSwwAkIiJZSgTE4Ngg9r6/F8IvBGnsfX8vAmMBBfc02pEjR3D06FG43W7Y7XbcdddduOaaa6Tz4Q0PD+Pyyy/H7t27YTQa0dzcjI8//hgWiwVjY2N48sknsX37dvh8Pvh8Puk0ODMD8ODBg7j00kujrrZx8OBBXHLJJdJ29u/fj5tuugkGgwEejwevvvoqUlNT4Xb/NYJnBuZs7r77bmzZsmXW+8xm85zfS2QAkhwGIBERyVIiIPa+vxcpv0yJCsCUX6Zg7/t7FdzTufX390MQBNTX1wMAfv/73+Occ87B4ODgrI+XmwKeGVuRo30Gg0G6/8Ybb8RTTz0FAPB4PFi1ahW6u7ujXiM9PR3PPPOM9Osrr7wSx44dk933rVu34utf//qs9wUCAQiCgFdeeWXW+xmAJIcBSEREspYaEC6/Kyr8Th3xmg72eDy4//77sXnzZpxzzjlIS0uDIAjIzc0FADz66KO45ZZbZJ8fSwACwO23345HHnkEANDa2gpBEFBTUwMA+POf/wxBEJCWlhY1Vq9ejfvuuy/m9xJLAP7617+e9X4GIMlhABIRkaylBoTGrZkzADVujcJ7fNK2bduwZ88eFBUVweFwoKGhISrennjiCUUC8IMPPsDGjRsxOTmJF154Adu3b5fu++ijj5CSkgKn04nm5uao4fP5Yn4vd999N6644opZ7+MUMC0WA5CIiGStxCOAfr8fgiBETc0ajcaoUHrvvfewfv162SngF198EVdfffVpt58aWyMjI0hLS0NWVhauuuoqvPTSS9J9LpfrtP1YjP/93//lIhBSHAOQiIhkrcTvAE5PT2Pjxo148MEH0dzcjOLiYnzhC1+IireJiQls2bIFu3fvhslkQktLC44cOQKLxQIA+PDDD5GWlga73Y6BgQHp3H+zHW3bv38/duzYgVWrVqG9vT3qvgceeACbNm3C0aNH0draisrKSrz88svSVDQw/3cAT5w4gXvuuQcbNmzAu+++i7a2NtTW1uL73/8+TwNDi8YAJCIiWUoERGAssOyrgAsLC7Ft2zakpqbi2muvRUlJyWnx5vV6sW/fPqxfvx7r1q3D9ddfj4qKCgBAOBzGvn37cN5558meBiYiNzcXgiDMOqU8OTmJ559/Hps2bcKaNWtw4YUX4p577kFdXZ30mPlWAQPA8ePH8dprr2H79u1ITU3F+vXrsXfvXhiNxjmfxwAkOQxAIiKSpWRAuP3uZTsPIJ3EACQ5DEAiIpLFgFjZ+PmRHAYgERHJYkCsbPz8SA4DkIiIZDEgVjZ+fiSHAUhERLIYECsbPz+SwwAkIiJZDIiVjZ8fyWEAEhGRLAbEysbPj+QwAImISBYDYmXj50dyGIBERCSLAbGy8fMjOQxAIiKSxYBY2fj5kRwGIBERyWJARJvtUnCJjJ8fyWEAEhGRrGQNiJ///OfYsWPHabf7fD6Ew+Fl3Re9Xg9BEBAMBk+777LLLsObb74p+9xk/fxofgxAIiKSlawBIReAamAAUjwwAImISJaSAeHyu6Bxa+D2uxXYs7nl5eXh5ptvxrnnnovzzz8fd9xxBzweT9RjOjs78c1vfhMbNmzAunXrsHPnTpSXl+Pw4cMQBCFqHD58GED0FPANN9yAp59+Ouo1+/v7sXr1auh0OgDAxMQEnnrqKVx88cVYt24ddu3aBb1ev6D3wgCkeGAAEhGRLCUCYnBsEHvf3wvhF4I09r6/F4GxgIJ7Gu3IkSM4evQo3G437HY77rrrLlxzzTWYnp4GAAwPD+Pyyy/H7t27YTQa0dzcjI8//hgWiwVjY2N48sknsX37dvh8Pvh8PoyNjQGIDsCDBw/i0ksvxYkTJ6TtHjx4EJdccom0nf379+Omm26CwWCAx+PBq6++itTUVLjdf43gmYE5GwYgxQMDkIiIZCkREHvf34uUX6ZEBWDKL1Ow9/29Cu7p3Pr7+yEIAurr6wEAv//973HOOedgcHBw1sfLTQHPDMDI0T6DwSDdf+ONN+Kpp54CAHg8HqxatQrd3d1Rr5Geno5nnnlG+vWVV16JY8eOye57JADT0tJOG6tWrWIA0qIwAImISNZSA8Lld0WF36kjXtPBHo8H999/PzZv3oxzzjkHaWlpEAQBubm5AIBHH30Ut9xyi+zzYwlAALj99tvxyCOPAABaW1shCAJqamoAAH/+859nDbfVq1fjvvvui/m9RALQZrOhubk5alxyySUMQFoUBiAREclaakBo3Jo5A1Dj1ii8xydt27YNe/bsQVFRERwOBxoaGqLi7YknnlAkAD/44ANs3LgRk5OTeOGFF7B9+3bpvo8++ggpKSlwOp2nhZvP54v5vXAKmOKBAUhERLJW4hFAv98PQRCipmaNRmNUvL333ntYv3697BTwiy++iKuvvvq0208NwJGREaSlpSErKwtXXXUVXnrpJek+l8t12n4sBgOQ4oEBSEREslbidwCnp6exceNGPPjgg2hubkZxcTG+8IUvRMXbxMQEtmzZgt27d8NkMqGlpQVHjhyBxWIBAHz44YdIS0uD3W7HwMCAdO6/2U4EvX//fuzYsQOrVq1Ce3t71H0PPPAANm3ahKNHj6K1tRWVlZV4+eWXpaloIPbvADIASUkMQCIikqVEQATGAsu+CriwsBDbtm1Damoqrr32WpSUlJwWb16vF/v27cP69euxbt06XH/99aioqAAAhMNh7Nu3D+edd57saWAicnNzIQjCrFPKk5OTeP7557Fp0yasWbMGF154Ie655x7U1dVJj+EqYFIDA5CIiGQpGRBuv3vZzgNIJzEASQ4DkIiIZDEgVjZ+fiSHAUhERLIYECsbPz+SwwAkIiJZDIiVjZ8fyWEAEhGRLAbEysbPj+QwAImISBYDYmXj50dyGIBERCSLAbGy8fMjOQxAIiKSxYBY2fj5kRwGIBERyWJArGz8/EgOA5CIiGQxIFY2fn4khwFIRESyGBDRZrsUXCLj50dyGIBERCQrWQPi5z//OXbs2HHa7T6fD+FweFn3hdcCpnhgABIRkaxkDQi5AFQDA5DigQFIRESylAwIl98FjVsDt9+twJ7NLS8vDzfffDPOPfdcnH/++bjjjjvg8XiiHtPZ2YlvfvOb2LBhA9atW4edO3eivLwchw8fhiAIUePw4cMAoqeAb7jhBjz99NNRr9nf34/Vq1dDp9MBACYmJvDUU0/h4osvxrp167Br1y7o9foFvRcGIMUDA5CIiGQpERCDY4PY+/5eCL8QpLH3/b0IjAUU3NNoR44cwdGjR+F2u2G323HXXXfhmmuuwfT0NABgeHgYl19+OXbv3g2j0Yjm5mZ8/PHHsFgsGBsbw5NPPont27fD5/PB5/NhbGwMQHQAHjx4EJdeeilOnDghbffgwYO45JJLpO3s378fN910EwwGAzweD1599VWkpqbC7f5rBM8MzNkwACkeGIBERCRLiYDY+/5epPwyJSoAU36Zgr3v71VwT+fW398PQRBQX18PAPj973+Pc845B4ODg7M+Xm4KeGYARo72GQwG6f4bb7wRTz31FADA4/Fg1apV6O7ujnqN9PR0PPPMM9Kvr7zyShw7dkx23yMBmJaWdtpYtWoVA5AWhQFIRESylhoQLr8rKvxOHfGaDvZ4PLj//vuxefNmnHPOOUhLS4MgCMjNzQUAPProo7jllltknx9LAALA7bffjkceeQQA0NraCkEQUFNTAwD485//PGu4rV69Gvfdd1/M7yUSgDabDc3NzVHjkksuYQDSojAAiYhI1lIDQuPWzBmAGrdG4T0+adu2bdizZw+KiorgcDjQ0NAQFW9PPPGEIgH4wQcfYOPGjZicnMQLL7yA7du3S/d99NFHSElJgdPpPC3cfD5fzO+FU8AUDwxAIiKStRKPAPr9fgiCEDU1azQao+Ltvffew/r162WngF988UVcffXVp91+agCOjIwgLS0NWVlZuOqqq/DSSy9J97lcrtP2YzEYgBQPDEAiIpK1Er8DOD09jY0bN+LBBx9Ec3MziouL8YUvfCEq3iYmJrBlyxbs3r0bJpMJLS0tOHLkCCwWCwDgww8/RFpaGux2OwYGBqRz/812Iuj9+/djx44dWLVqFdrb26Pue+CBB7Bp0yYcPXoUra2tqKysxMsvvyxNRQOxfweQAUhKYgASEZEsJQIiMBZY9lXAhYWF2LZtG1JTU3HttdeipKTktHjzer3Yt28f1q9fj3Xr1uH6669HRUUFACAcDmPfvn0477zzZE8DE5GbmwtBEGadUp6cnMTzzz+PTZs2Yc2aNbjwwgtxzz33oK6uTnoMVwGTGhiAREQkS8mAcPvdy3YeQDqJAUhyGIBERCSLAbGy8fMjOQxAIiKSxYBY2fj5kRwGIBERyWJArGz8/EgOA5CIiGQxIFY2fn4khwFIRESyGBArGz8/ksMAJCIiWQyIlY2fH8lhABIRkSwGxMrGz4/kMACJiEgWA2Jl4+dHchiAREQkiwGxsvHzIzkMQCIiksWAWNn4+ZEcBiAREcliQCyd2WzG7bffjvPOOw+pqam4+uqr8dprr2Fqairu2+bnR3IYgEREpzhx4gROnDiB6elpTE1N4fjx45icnMTk5CQmJiYQDocxPj6O0dFRjI+P4/jx4zh+/DimpqYwNTWF6elpTE9PS6+zkjEglubYsWNYvXo1vve978Fut6OtrQ3vvPMONmzYgHvvvTfufz74+ZEcBiARnbHkQi4ScTNDbmRkBMPDw+jp6cHAwACCwSCCwSACgYA0BgcHo0bkcWNjYxgdHY3635ljfHwc4XAYExMTmJiYwOTk5IqJRkUDwuUCNBrA7V76a83jxIkTeOWVV7B582asXbsW1157Lf7yl79I9+v1egiCgKKiIuzcuRNnn302brzxRjidTgCA0+mEIAhoamqKet3XX38dl112WUyf0cjICDZu3IhvfOMbp92XlZUFQRDw0UcfLfGdzo0BSHIYgESU8CIRJxdy4+PjUnwNDw9jeHgYQ0NDCIVCp4Xc4ODgrFEX+XVhYSE8Hg+CwSBCoRBCoRCGhoakIYqiNAYGBhAKhaJi8tRxagzOFouzRWNPTw9GRkZUj0ZFAmJwENi7FxCEv469e4FAQLkdPcWzzz6LrVu3Ij8/Hy0tLTh8+DBSU1NRUlIC4K8B+MUvfhElJSVobGzE7t27cdNNN0mvsXPnTvz0pz+Net2dO3fimWeeAQA8/PDDuPXWW2X34dixYxAEARaLZdb7t2zZgq9//etLfKdzYwCSHAYgES2bU4/GyYXc8PAwAoEARFGcM+ROjbeZ/z/y+FhCbuYoKipCa2ur7P1zBeBihlw05uXloaenZ0HRGI8jjYoExN69QEpKdACmpJy8PQ5GRkawdu3a08Lru9/9Lu6//34A0UcAI3JzcyEIgvRe33jjDVx++eXS/S6XC4IgoLGxEQBw4MABPPTQQ7L78fLLL0MQBASDwVnvv/vuu7Ft27bFvckYMQBJDgOQiBZkrmnVU0MuMq0qimJUxMmFXGS4XC4UFxdHhVwk4maGXCyRttCx3AEoN/Ly8tDb27ugaJzrSKPVao0KylijcWRkBI2NjRgbG1vckUaXKzr8Th1xmA6urKyEIAhIS0uLGmvWrMGuXbsA/DUA+/v7pefZbDYIgoD29nYAQE9PD1JSUlBWVgYAeP7553HdddfFvB+RAAzIHOm86667cNVVVy32bcaEAUhyGIBESWq+78fNnFaNhNxip1VnC7m5jsZ5PB4UFxfHJfDOhABczCgqKkJHR8ec0Tg6OnraEcZAIIDGxkaMjo5KRw8jf2ZmO6J42sjNnTsANRrF/2yXl5dDEASUlJSgubk5anR0dAD4awDOPDpnt9shCALa2tqk277yla/gP/7jPwAAV1xxBV577bWY9yMyBWw2m2e9/4orruAUMKmGAUi0wsU6rRr5flws06qBQABmsxlOp1ORadWFDgZgfAKws7NzwdPToVBo1gAMh8MYGhqKCsFT/3d6ehrTTU1zBuAJl0s2HhdLFEWkpqbij3/8o+xjYg3Aw4cP44ILLoDFYsGnPvUpdHV1xbwfIyMjOP/882ddBJKZmclFIKQqBiBRAoj1tCNLmVadLeRmm1aNhJzBYIDT6VQlwhiAiRGAkciTC0BRFKNukxsn9uzBiVO+A3giJQUn9uyJisbJyUmMj4/P/VpyRxpPicbnnnsOGzduxHvvvQePxwObzYbf/OY3eO+99wDEHoBDQ0NYu3YtduzYgfT09Kj/buf7DiAA/OUvf0FKSgq+973voba2Fm1tbXj33Xd5GhhSHQOQSEGxTKueetqR2Y7GDQwMwGKxYGBgQHbBw0KnVRc6DAYDmpqaVImwlpYWBmBeHvr6+s6IAJz2+3Fiz57oANyzB9N+f9TjxsfHZV9z3iONszz+rbfewpVXXok1a9bg05/+NPbu3YuSkhKcOHECOp3utO/nzRaAAPAv//IvEAQBf/jDH6Jun28VcITBYMDXvvY1nHvuuTjrrLNw1VVX8UTQpDoGINEsZkZcLKcdEcXYplVjXa06ODiIjIwM+P1+VSKIAah+AGo0mjMnACPD6cR0Ts7J/53l/vHxcQwPDy/sNecYkf9+Q6EQjh8/Pm80LuZIY6JjAJIcBiCdsRYyrToz5Pr6+uD1euedVpULubmmVWMdwWAQGRkZGBwcVC0AjUYjA5ABqGwAzjOUDsDICAaDMYdfrEcaI1PWiR6NDECSwwCkhLeYqzmIojjr0Ti5qzrMvN3lckGn08V1kUOsAajmEUCj0QiHw8EAPEMCsLCwkAGo4GtOTk4iGAwuKBpnG/GORgYgyWEAUsJobW3FW2+9tahpVblFDov5flxzczN0Op1q4SWKDMCWlhYUFRWpsu0zOQC7uroYgHEIwMWMuaIxcn1pJaKRAUhyGICUMHQ6HTZv3hy3adVYh8fjUT0AQ6EQA5AByABUYExNTcUtAEOhkOKxOj09jaGhIUxMTCwoGk8NxAgGIMlhAFLCKCkpwaZNm1QLnshQ8xQkkREJwIGBAdX2wWQyqRaAra2tDEAGYNIGYCgUmjUAYx0MQIoFA5AShtFoxN///d+rFjyRoeb3zyJjaGgoIQKwsbFRlW0zAJUPQK1WywBkABJJGICUMCwWCy6++GLVgicy1Jx+jIxIAPb396u2DwzA+R8bzwDMzc1VPAC7u7sZgCskAE9dYcwAJKUxAClhVFRU4MILL1QteBIhPiIjEQLQbDYzAOcZ8Q7A/v5+BiADkAFIccEApIRRVVWFCy64QLXgmRkfhYWFqu9HRkYG+vr6VNu+2WxGQ0ND0n0GDED1AnBsbIwByACkZcIApIRhs9mwceNG1YInMtra2hiAYnIHYEtLS0yPTeYAnOuybckQgBMTEwxAWtEYgJQwamtrsWHDBsV/oA9brRg9cgTDNltMj29ra4NWq1UtvCIjMzOTAajCts/UACwoKEjqAFQ60mINwMsuuwxvvPHGabc///zz2LFjBwOQVMMApIRRX1+P9evXK/fD3OvF8fT0qAvQH09Ph9jePufzvF4vCgoKVAuvyMjMzERvb69q27dYLKoFoJpHYc/kAOzp6Un4ABwZGVkxATg0NBSXAAwGgwxAijsGICUMh8OBtLQ0xX6QH09Px4mUlKgAPJGScjIC53hee3t7QgRgVlaW6gFYX1+vyrYZgGdoADY1YTonB9NOZ9wDcGpqCi+//DI2b96MtWvX4tprr8XHH38s3V9cXAxBEKDVarFz506cffbZuPHGG+FwODA9PQ2HwwFBENDY2Bj1uq+99houu+wy6feGAUgrFQOQEobL5cLZZ5+tyA/xYas1KvxOHXNNB7e3tyM/P1+18IqMrKws+Hw+1bbPAJR/TDAYRH9/P9ra2tDV1YWhoSGMj48zAOXGwABO7NkT/Y+xPXsw7ffHLQCfeeYZbN26Fbm5ubDb7Th06BBSU1Oh0+miAvCLX/widDod6uvrsXv3btx0003Sa+zcuRPPPfdc1Ovu3LkTBw4cwMTEBPbv349bb701LgE416XgGICkBAYgJYzm5macddZZivwQHz1yZM4AHD1yRPa5HR0dDEAxeQJwaGgIgUAAvb296OzsRH5+PqqqqlBfXw+bzYby8nIYjUYUFxcjPz8f2dnZyMjIQEZGBnJycqJ+rdFoUFRUBKPRiIqKCtjtdjgcDng8HnR2dqKvrw+hUAhjY2PLHoD5+fmKB2Cs39c7sWfPrEfjT+zZE5cAFEURa9euhclkwvHjx6Up4O985zv41re+FRWAWq1Wel52djYEQZDe6+uvv47LL79cur+pqQmCIKC+vh4TExP40Y9+hAcffHDeADzrrLOQlpYWNdasWcMAJFUxAClhtLa2IiUlRZEf6ks5AtjR0YG8vDzVwisysrOzVQ3AsrIy1NXVqbLtpSzECYVC8Pv96OnpQXt7OzweDxwOB2pra1FdXQ2LxYLS0lIUFRVBo9EgMzMTGRkZyMzMhEajQVZWFgoLC2GxWFBdXY3a2lop4trb29HT0wO/349QKCRNAY+OjiIYDKKvrw8dHR3weDxobGyE3W5HeXk5DAYDioqKkJubK8Vibm4uCgsLUVpaivLycthsNjQ2NqK5uRkdHR3Izs5GZ2cnRkdHFQtAn8+3/AHY1DTnf4szp4OVCsDy8nIIgjBrdO3atSsqAHt7e6XnVVdXQxAEtLW1YXp6Gl1dXUhJSYHZbMb09DR+9rOf4brrrsP09MK+A/jss8/C5XJFjccee4wBSKpiAFLCaG9vx6pVqxSLiMV+B7CzszNhArCnp0e17SdKAEamW7u6utDW1ga3242GhgbY7XZUVlbCZDJBr9dDq9UiJydHCqzs7Gzk5+ejuLgYRqMR5eXlsFqtqK+vh9PpREtLCzo7O9Hb24tAIIChoSGIYvy/Azg2NoZQKIT+/n50dnaipaUFTU1NqKmpQWVlpXS0MfI+Iu9Fq9WipKQEZWVl0vtwu93wer3w+XwYHBzEyMiI7FS0agGYkzN3AObkKB6AFosFgiBAp9OhqakJVqtVCi+v1xsVgIODg9LzrFYrBEFAS0uLdFt6ejoee+wxTE9P44orrsCrr7664ADkFDAlIgYgJYzOzk4IgiD9IF7yaG9f1Crgzs5OaDQa1QMwJyfnjAvAoaEhDA4OStOtLS0tcDqdqKurg9VqlaZbCwoKkJmZGTW9mpubC61WC71eD7PZjMrKStjtdjQ2NsLtdqOtrQ3d3d3o7+9HMBhc9D4myiKQnJwc6UowAwMD6O7uRmtrK5xOJ2pra1FVVQWz2QydTof8/HzpSGZWVhby8/Ol36fq6mrU1dUhJycHDQ0N6O7uht/vhyiKMX1vcSUeAQyFQkhNTcV7770XNQU8c8QagIcOHcIFF1wAk8mET33qU+jo6GAA0hmBAUgJo6enB4IgIBAIKBodwzbbgs4D2NXVhdzcXNXCKzJycnLQ3d2t2vbLy8tRW1s752Mi06CR6dbm5mZpurWqqgoWiwUlJSUoLCycdbq1qKgIpaWlUQmQhcsAACAASURBVNOtkaNheXl58Pl88Pv9yv2jIIZRXFycMAE4MDAQ8+MjQRaZ/vZ6vXC5XKivr0d1dTWysrJQVFSEgoICKawzMzORl5cHnU4Hk8mEyspK6TNobW1FV1cXenp60NDQsKK+Azg9PY1nn30WGzduxKFDh2Cz2VBdXY2DBw/iD3/4w4ICMBgMYu3atdixYwfS09Ol28PhcMzfAWQAUiJiAFLC6OvrgyAI0tEJtUZ3d3fSBmDke2xdXV0oLS2FyWSSplsrKiqk6daCgoJZp1t1Op003Wqz2aTp1tbW1lmnW+WG1+tV7WTcKzUA5xuRoI78emRkBIFAAD6fD+3t7dLUus1mQ1lZGUpLS6HVapGXl4fq6mppAUvksxsaGpIWtIyPj2NiYgKTk5Ozh4vfv+yrgKempvDWW2/hyiuvxJo1a/DpT38ae/bsgV6vX1AATk9P495774UgCHj33XejApCrgGklYwBSwhgYGIAgCKpe/UIUTwZgTk6OqvsgiiJyc3OXFICR6Vafz4eOjg7pu2aR6daysjIYDAYUFxcjLy8PWVlZUdOtkaiLTLfW1NRI061erxfd3d0YGBhY0nSr3GAAxicAe3t7F/y8oaEhNDQ0YHh4GJOTk5iYmJCO/oVCIQwPD0t/3kKhEILBIILBYFQsDg8PY3R0FON1dZjIyMBEQ4MUizMv0RaPE0HLTQEvdYTDyl8LeWYALuXSdQxAigUDkBJGIBCAIAiqfu9NFEX09PQkTAB2dXVJv5453er1eqXp1pqamjmnW7OyspCXlydNt5aVlUVNt0ZWt5463RrLFHC8BgMwsQJwod8BPH78uBSL4fDJhS+jo6MYGRmBKJ4ei8FgULotFAphZGREOrIYDodnjUUGIAOQloYBSAljaGgIgiBERY8ao6enB9nZ2XHdRuTcc5Hp1tbWVrhcLmkKrqKiApmZmSgsLJx1urWgoED63lZFRQVsNhsaGhrgcrmk72719fXFNN0qNyoqKlBTU6PKZ6Dm5fgYgEsPwIWMqakpKRYjRxMjsTg8PDxrLIZCIYjiySOLIyMjJ48u/l8sTkxMRMXiSgvAyKXrGIAUbwxAShjDw8MQBAHt86zSjffw+XwLDsC5plurq6ul6daioqJZp1sLCwtRUlICs9mMqqoq1NTUIDs7G7W1tVHTrZEffMsxGIDzPzaeAZidnZ0UAThzjI6OnradU+Po+PHj0pHF8fFxado4Eo+zxWIwGIyKxciJuCPfW1xMbDEAaaVjAFLCGBsbk07CqsYP/sjw+XzIzMyUTr3h9XrhdrvR2NgoTbeazWZpunXmyX0j063FxcUwGAzSOdvq6urQ1NSElpYWdHR0SOdtm+vonEajQWdnp2q/D2oGoJrXY06kAPT7/YoGYF9f34oOwIWG1PHjxxEOhxEMBqVYHB0djfre4qmxGPlvcmYszrbIhQFIKx0DkBLGxMQEBEGAx+NR9Af6zOnWzs5Oabo1cqmviooKGI1G6Xxqp17qa67p1si1YPv6+qTvMSm133l5eQxAFbZ9pgagRqNRNADHxsYSOgAjY3JyEqFQKKZYnLnIZbZYPPXoYmQBVGSRixLfW2QA0nJhAFLCmJqagiAIcLvd8wad3++XTl/h8XjQ1NQkXeorcgqLU6dbI+eei0y3WiwWabrV4XCgubkZXq8Xra2tyMjIWNbp1tlGXl4eOjo6VNt+5ETLamybAcgAXM4AXOg4fvw4xsbGMDQ0hHA4tkUup35vcWYszvzeIgOQlgsDkFQXDofR2dkJm82GDRs24Fe/+hX+53/+R7rUl9lshv7/LvV16nRr5FJfBoNButRXXV2ddKmvjo4O9Pb2zjvdOnP09fUhMzNTtfCKjPz8fFW/D6l2AObn56uybQYgAzCWMT4+DlGcfwp45iKXcPjk9xbnW+QSmU2QW+Qy3/cWGYAUCwYgqerEiRNYvXo1BEHA+eefj7PPPhtXXXUVHn/8cVRUVMBut8tOt8YrAPr6+pCRkaFaeEWG2gFYVVXFAJxnMAAZgEq+ZiQWg8GgFIuxLHI5NRanp6elv2MZgCSHAZjESktLceedd+Kiiy6CIAj45JNP5ny8Xq+HIAinjaampiXtR39/P44fPw4AWL16teLXn13o6O/vR0ZGxrJefmy2UVBQoHoA2mK8fJ7SgwGofADm5uYyABUOQKXf//R07Ketmfm9xZmxyACkWDEAk5hGo8Fzzz2Ho0ePLigAXS4XfD6fNKamphTbp7POOku1o04zf6gnSgB6vV7Vts8AjO3PykoKwP7+fgbgGRKAcw1OAVMsGIAEAAsKwGAwGLf9OPvss2G1WlUNr0gAqr0IRKvVJm0AdnR0MABXQAAqfdm2MzEAL1vgtYAZgLRcGIAEYGEBuGnTJlx44YW47bbboNPpFN2Pv/mbv0FVVZWq4eX3+xMmANU8J2J1dTUDcJ4RzwDMyspiADIAGYAUNwxAAhBbADqdTrz99tuwWq2wWCx49NFHsWrVKpSWliq2H+vXr0d5ebmq4RUJwHguNIllJEIAqnU0tqOjA3l5eapsO5ECcHBw8MwKwKYmTOfkYNrpjHsATk1N4eWXX8amTZuwdu1aXHvttfj444+l+4uLiyEIArRaLXbu3Imzzz4bN954IxwOB6anp+FwOCAIAhobG6Ne97XXXsNll10W8xQ4A5ASFQOQAMQWgLO58847cddddym2Hxs2bIDZbFY1vAYHBxMiAAsLCxmAKmz7TA3AxV5bWJEAHBjAiT17AEGQxok9ezDt90c9buYq1qWOZ555Blu3bkV2djZqampw6NAhpKamQqfTRQXgF7/4Reh0OtTX12P37t246aabpNfYuXMnnnvuuajX3blzJw4cOIDx8XHs378ft956KwOQViQGIAFYfAC+8MIL2Lp1q2L78bd/+7cwGo2qhlckAAOBgKr7UVhYiNbWVtW2zwCc/7EMwNgC8MSePTiRkhIdgCkpJyMwDgEoiiLWrl0Lk8mEiYkJDA0NYXp6Gt/5znfwrW99KyoAtVqt9Lzs7GwIgiDtw+uvv47LL79cur+pqQmCIKC+vh5jY2N44okn8OCDD84bgGeddRbS0tKixpo1axiApCoGIAFYfADu27cPX/7ylxXbjwsuuAAlJSWqRY8oiggEAgkRgEVFRaoGoNVqVS0AOzs7GYBnSgA2NUWF36lj5nRw5AoZSw3A8vJyCIIwa3Tt2rUrKgB7e3ul51VXV0vXI5+enkZXVxdSUlJgNpsxPT2Nn/3sZ7juuuuk9x/rFPCzzz4Ll8sVNR577LFZAzByHkAGIMUbAzCJDQ8Pw263w263QxAEvPHGG7Db7WhvbwcAHDhwAA899JD0+DfffBOffPIJ3G43GhoacODAAQiCgKNHjyq2TxdddBGKi4tVDa9IAA4ODqq6H0VFRTGHSDyG1WpFdXW1KttmAJ5BAZiTM3cA5uQoHoAWiwWCIECn06GxsRE2m00KL6/XGxWAg4OD0vOsVisEQUBLS4t0W3p6Oh577DFMT0/jiiuuwKuvvrqg93/ZAqeAlVi0wgCkWDAAk5he5sTODz/8MADg4Ycfxq233io9/pVXXsFnP/tZrF27Fhs2bMCXvvQl5ObmKrpPn/nMZ1BYWKhqeAWDQWRkZMDv96u6HwxABqCSAZidnZ00RwBDoRBSU1Px3nvvRU0BzxyxBuChQ4dwwQUXwGQy4VOf+hQ6OjoYgHRGYABSQrn00ktRUFCganiFQqGECMCFhEg8hs1mYwDOM+IZgJmZmYoH4GJOK7Pc3wFUIgCnp6fx7LPPYuPGjXj33Xdht9tRXV2NgwcP4g9/+MOCAjAYDGLt2rXYsWMH0tPTo97/k08+GdN3ABmAlIgYgJRQNm/eDI1Go2p4RQJwYGBA1f0oLi6Gx+NRbfs2m021czJ2dnaq9ueAAah8AE77/TGvAlYqAKempvDWW29hy5YtWLNmDT796U9jz5490Ov1CwrA6elp3HvvvRAEAe+++27U+3/ggQcUXwXMAKTlwgCkhPK5z30OOTk5qobX0NBQQgSgTqdjAKqw7UQKwEAgcGYEYGQ4nXOeB1DJAIwMuSngpY54nAibAUjLiQFICWXLli3IzMxUNbwiAdjf36/qfuh0OjQ3N6u2fQbg/I9N5gAcHR1VPIAYgAxAWj4MQEoo27Ztw7Fjx1QNL1EUGYCiCLvdrloAdnV1qRqAM4+8BoNB9PX1obOzEx6PBw6HAzU1NaisrERpaSmMRiNsNhsaGxvh8XjQ1dUFv9+P4eFhjI+PMwBVDsDIe1A61OLx/qenTwbrUgNwJgYgyWEAUkLZvn07/vKXv6gaXqJ4MgD7+vpU3Qe9Xg+3263a9u12OyorK1XZdrwDcGhoCH6/Hz09PWhra4PL5UJ9fT2sVitycnKg1Wqh1WqRnZ2NjIwMZGZmQqPRoLi4GEajERUVFbDb7aitrUVDQwNqa2tRUVGB0tJSaLVaZGVlISMjA9nZ2dBqtTAYDKioqEBtbS2cTie8Xi98Ph+CwSDGxsaWJQAXe21hBiADkM5MDEBKKNdccw0+/vhjVcNLFEVkZmait7dX1X1gAC48AIPBIHp7e9HR0SEdrbPb7aioqIDRaERxcTE0Gg0yMzORkZEhxV5JSQksFgusVis0Gg2qqqrQ1taGnp4e+P1+DA0Nzbo9uSng8fFxDA8PY2BgAF1dXfB4PGhsbJSuo63T6ZCXl4eMjAxkZGRAo9FAp9PBbDbDarWioaEBGRkZ8Hg80ndRl3I0MRKAi1lUciYEoCiKcQlApS5bd2oALjVYZ2IAkhwGICWU6667Dn/6059UDS9RFJGVlaV6AJaUlDAAxZNH6wYGBtDd3Y22tjY4nU7U1dWhuroaFosFer0eBQUFUUfr8vLyEDlaV1lZiZqaGjgcDrS0tKCzsxN9fX2y13peyOrrpX4HcGxsDKFQCL29vfB6vXC5XKitrUVlZSUyMjKi3ldWVha0Wi1KS0tRXl6OmpoaOJ1OtLW1wefzIRAIyB5NXCkBODw8zABkANIyYQBSQrn++uvxwQcfqBpeongyAH0+n6r7UFJSApfLpdr2a2pqUFFREbfXDwQC0tG65uZmNDY2SkfrdDqddGQscpRs5tG6srIyWK1W1NfXw+12w+v1znu0LtaxnAE415g5BTwyMgK/34/u7m60tLTA4XDAZrOhrKwMer0eeXl50lHN3NxcFBcXw2Qyobq6GvX19WhubkZmZiba29shigs7mhgJwFNjLx4BxABUPgBHR0cZgDQrBiAllF27duGPf/yjquEliiKys7MZgIsIwFAoJB2ta21tjTpaZzaboZc5WqfT6WAymaSjdTabDdnZ2fMerYvHSMQAjGWMj48jFAqhr68P7e3tcLvdqKurQ1VVFYxGoxTRkd/3goIClJSUoLy8HHa7HU1NTWhtbUVPTw8GBwcxOjqKcDgsBUR7eztGRkak8AkEAggEAtKvlRh+vx/BYFDR14x831PJ14zX+4/s78DAwJJeY3x8XDq63NzcDOf/nXaHaCYGICWUG264AYcPH1Y1vETxZAD29PSoug+lpaVwOp2qbT8SgENDQwgEAvD5fGhvb5eO1tlsNpSXl8NgMKCoqAi5ubnS0brc3FwUFhaitLQUZWVlsNlsaGhokI7W+Xw+DA4Oyh6t6+7uRm5u7oL3edhqxeiRIxi22Rb9vhMlADMyMhRdBBIJypGREQwODkqR3tTUBLvdjrKyMpSUlCA/Pz/qaGJRURFMJhOsVitqampQW1uLuro66TrijY2Nio3IwholX7Ourk5apa3kqKmpQU1NjeKvq8T+OhwOaXi9XkxMTKj9VzslIAYgJZSbb74Z7777rqrhJYoicnJyzvgADIVC6O/vR1dXlxQCtbW1qKqqgtlsRl5eHrKzs6UVrVlZWcjPz5cWK1RVVaG2tlY6ctTV1YX+/n6EQqEl79uCA9DrxfH09KgrTRxPT4f4f1OeCxmJFIDBYFCVI4rj4+MYGhpCf38/Ojo6pKOJkSO5Op0OGo0GOTk5p8V+ZBFLc3Mz2tvbpSOKQ0ND846ysjI4HI6YHhvraG5uhsFgUPQ1h4aGYLVaYbfbFX/d1tZW6PX6Jb3G+Pg4xsfHMTk5GXVOQKKZGICUUG655Ra8/fbbqoaXKJ4MwO7ublX3wWAwLDgAh4aGMDg4KB2tc7vdaGhokI7WlZaWorCwUPZoXXl5uXS0zmw2o7S0dN6jdfEYCw3A4+nps15r9nh6+oK3zQCMbUSm6gOBgHQ6naamJtTU1Eh/1goKCqR/QOTk5KCwsFBamFNXVweXy4X29nb09vYiFArBYrHA6XQq+vvY0tKC0tJSxT8fm82G2tpaxV+3vb0dOp1u0c/n0T6KFQOQEso//uM/4ne/+52q4SWKInJzcxMiAJuamiCK0UfrWlpaoo7WmUwm6HQ65Ofnn3a0Tq/XRx2tczqd0tG6SLzIbb+2thbl5eWqvPeFBOCw1RoVfqeOhU4HMwBjG5Ep4PkeNz4+Lv1edXZ2orm5GQ0NDdLRxMipeWYu9tHr9bBYLNJUaEtLy6JPsN3S0gKDwaD452O1WuMSgF6vF3q9ftHPZwBSrBiAlFDS09Px29/+VtXwEsWTAdjV1RXXbUSO1vX09MDr9UpH66xWK8rKypCTkyNNs808X1xRUREMBoP05f3GxkZpuq23txeBQECRo3VqB2Cs14QePXJkzgAcPXJkQdteyDWYV1IAKv2dwlgDMNYxNjYGo9EIu90Or9cLp9O5qBNs9/b2Rp1g2+PxwGg0Kv75VFdXo66uTvHXbWtrYwDSsmAAUkLZs2cPDh48qGr8iaIIjUaz6ACceemwyCk7IpcOM5lMKC4ujjptR3Z2NgoKCqSjHpEfLIWFhaiqqkJ3d/e8R+viMerq6lBWVqbK7/9CAlDpI4BncgAq+Xp2ux01NTWKvmez2Qy32y17/2JOsJ2fn4/c3Fzpu4kejwednZ1LPsF25BQ7Sn/ubW1tKCkpWfTzGYAUKwYgJZSvfe1reOutt1SJjplDo9Ggs7NT+vXMS4dFTtgbuXRYZPWkVqud9WjdzEuHRa4X29HRIR2tk9sHk8kEh8Oh2u/BSglAUVT2O4AMwNiGzWZb9gCMdcw8wbbVaoVWq5VOsG0wGFBYWLjkE2xXVVXFJQBbW1uX9J1FBiDFigFICeWOO+7A66+/vmyhMfNoXeTSYTU1NcjKyoJer5/1aN3MS4dFjta5XC60tbWhu7tbkZMRi2JyB2BPT8+CAlBsb1dsFTADcOUH4MzR3NwMk8k0632LOcG22WxGdXW19P87OzvR398PUVz65frC4aUvWmEAUqwYgJRQ7r77brz66qtLiofI0brIpcNcLlfUpcMiR+vkLh1WUVGB7OxsWK1WabpouU9GLIonA7CxsVGVABNFEfX19SsnAP9vDNtsSz4PYCIFoJKvHY8AVHoRhMlkQnNzs6Kv6Xa7YTabF/18uRNsFxQUQKvVoqioaFEn2JYbS120wgCkWDEAKaH88z//M15++eVZf9gGg0Hp0mGR7/5ELh1mNBpRVFQEjUYj/Ytd7tJhLpdr3kuH5efnS5fNUmuYzWbVA9Bisaiy7cUGoBIjEQJwfHxc0QBU+vWSKQDlRmVlJRobG6VfL/YE25GpZLfbjY6ODtTX16O0tHTRRxMZgBQrBiCpzu/3w263Q6PRYNeuXbjnnnvwne98BxaLRfbSYZFrnUYuHeZwONDS0qLY0bpECcCGhgbVts8AnP+xyRyA8TgNitFohMfjUfQ1XS5XXAKwoqICDodjwZ/DqSfYrq+vR3V1NUwmE4qKiqL+roucyilyNR2Hw4HW1lZ0d3djcHAQIyMjDEBaNAYgqe7BBx/E+eefj6uuugp/93d/hxtuuAEPP/xw1KXDZl5NYDkioKCgAF6vV7X4EkURFotF1QBsaGhQNQCzs7NV2TYD8MwLQIvFovhnVF5evuAAjGW43W4YjcZFn2Db6XSq/Vc6rRAMwCRXWlqKO++8ExdddBEEQcAnn3wy73NKSkrw+c9/Hqmpqdi8eTN+97vfLWkfZl6k/Fvf+hZ++ctfqhpeoihCq9UmRADW19ertv3I1UDU2DYDcGUEoNLnwYtHADqdTpSVlSn+GZWXl6OpqUnx1411ylruBNtNTU1L+vuYkgcDMMlpNBo899xzOHr0aEwB2NrainXr1uGHP/whHA4H3nnnHaxZswZHjhxRZH8efPBBPP/886pFT2RotVq0tbWpug8MQAagUq89NjameADG40TIBoMBLS0tir5mvAKwrKwsLgG41COWnAKmWDEASRJLAP7kJz/B1q1bo2575JFHcMMNNyiyDw8//DCee+45VcNLFEUUFhaqHoBlZWWoq6tTbftqBqDP52MAroAAVPo8ePEIwKamprgFoNLXLQ6HTwYrA5CWAwOQJLEE4O7du/H4449H3Xbs2DGsXr0ak5OTS96Hb3/723jmmWdUDS9RPBmAra2tqu6D2gHY2NjIAJxnrLQAHBoaUmwf4xGApaWlaG1tVfQ1m5qaUF5ervhnZLFY4haASwlWBiDFigFIklgC8IorrsCLL74YdZvZbIYgCOjp6VnyPnz3u9/FT37yE1XDSxRFFBUVqR6A5eXlqgegyWRSZdvJHoBKH7FjACofgGazGS6XS/HXXer+KvEPcUoODECSxBqA//Vf/xV1m8lkgiAI8Pl8S96H73//+/jxj3+saniJ4skAbGlpUXUfysvLUVtbq9r2GYDzPzaZAzAel0KLRwA6HA5UVFQo/hnF46ol4TADkJYPA5AkiTAF/Oijj+KJJ55QNbxEUURxcXHMERCvoXYAOhwOVQMwKytLlW0nUgAqFWzxCsCGhgZF33dJSQna2toUfc3Gxsa4BKDJZIpLAC41WBmAFCsGIEliXQSybdu2qNt+8IMfKLYI5N///d/xwx/+UNXwWmgExGtUVFSgpqZGte0zAOd/7EoJwNHRUWRkZEAURcX2sbKycsUEYGVlpeKfUTyuWqLE/jIAKVYMwCQ3PDwMu90Ou90OQRDwxhtvwG63o729HQBw4MABPPTQQ9LjI6eB+dGPfgSHw4FDhw4pehqYxx9/HI899phq0TMzApqbm1Xdh0QIQKPRqMq2e3t7GYBJGIB6vR5erzehgkpuxOOcheFwGA0NDQxAWhYMwCSn1+shCMJp4+GHHwZw8rQst956a9RzSkpK8A//8A8466yzsGnTpiWfCHqmJ554Av/2b/+mWvREhl6vVz0AI5e5U2v7DMD5H5vsATjzWrhKjHgEYENDA6qqqhT/jOIZgEvZXwYgxYoBSAnlxz/+MR555BHVoicy9Ho93G63qvtQWVkJu92u2vabmpoYgPMMBmDyBmA8zlkYDoelawMv9vkMQIoVA5ASytNPP41//dd/VS16IqOkpET1AKyqqlI9AA0GgyrbTuQAHBoawsDAALq6uuB0OuHxeDAwMIDh4WHFIkDpABwZGVE8ACsqKhQPQJ1Oh/b29oQKKrlRWloalwCsq6tjANKyYABSQnn22Wfx3e9+V9XwEsWTAehyuVTdh6qqKthsNtW2r3YAZmZmLvt2Q6EQioqKUFdXB4/Hg4aGBlitVlgsFuj1euTn5yMzMxMZGRnIzc1FYWEhCgsLkZ2djYyMDOTk5KC4uBhmsxk2mw1NTU1oa2tDb28vQqEQxsfHY/ohHq8AVDJSGYDKn7ImHD4ZgFarddHPZwBSrBiAlFB++tOf4tvf/raq4SWKIkpLS+F0OlXdBwagsgEYDAbR29uL9vZ2uN1uKQzMZjOKi4uh0WiQkZEhhZxOp4PZbJZOeOx2u9HR0YG+vj4Eg0GI4l+ngMfHxzE8PIz+/n50dHTA5XKhpqYG5eXl0Ov1yMvLQ0ZGBjIzM6HVamEwGKTTqHg8HnR3dyMQCGBsbCwqAEVRmSN28QpAh8OhaPwUFxejo6MjoYJKbpSUlMQlAGtra2Gz2RiAFHcMQEooP//5z/HQQw+pGl6imBgBWF1drWoAOp1OlJaWqrLthQZgIBCAz+eD1+uFy+VCbW0tKisrYTQaUVRUhNzcXCnA8vPzodfrYbFYYLVa0djYCI/Hg87OTvT39y/oHJAL+Q7g6OgoBgcH0d3dDY/Hg/r6elRWVsJgMKCgoEA6spiXlwe9Xo+MjAzYbDa4XC50dHQsaZo5HgFYXl6e1AGo1+sVP2VNOBxGTU0NA5CWBQOQEsqvfvUrPPDAA6qGlyiKMBgMaGpqUnUfqqurYbVaVdu+mgHY19eHzMxMDA0NYXBwED09PWhtbUVTUxNqampQUVEBg8EQNf2alZWFgoIClJSUoLy8HHa7HQ6HAy0tLejq6oLf78fQ0NC821ZrEcj4+DhCoRB8Ph9aWlqQkZGBqqoqmM1mFBUVLWmaOZkDcKlH1ORGPBashMNh6bRci30+A5BixQCkhPLCCy/g/vvvVzW8RFGE0WhUPQCtVusZHYBDQ0Pw+/3o6upCS0sLHA4H7HY7ysrKoNPppKiLRE9hYSEMBoN0fsRI+PT09GBwcDCmuItlJMIqYLlVu4uZZq6vr4fL5UJGRgb6+/ulaealjvLycjQ1NSn6vouKitDZ2anoa8YrAHU6XdwCsKamZtHPZwBSrBiAlFBeeukl3HfffaqGlyieDECHw6HqPlitVlRXV6u2fZfLtegADIVC6O/vR2dnJzweDxobG+dcTFFUVASj0YiqqirU1dWhvr4eGRkZ8Pl8CAQCy/q+F3IS8OUOwFied+o0c1VVFUpLS6U4nDnNHLnc4GKmmVdKANbU1CzpiJrciMeClXA4DJvNhtra2kU/nwFIsWIAUkL59a9/jXvvvVfV8BJFESaTiQHocqGkpOS024PBIPr6+mZdTKHT6aIWU2g0Gmm6cuZiivb29qjFFKeOyBSwGu97JQeg3BgeHpamgCPTzG1tbXA4HLDZbNI0c05OjnTEzZMFkAAAIABJREFUtaioaM5p5rKyMsUDsLCwcMUEYDymq8NhBiAtHwYgJZTXXnsN99xzj6rhJYonA7CxsVHVfbDZbMsegDMXU1RUVCA/Px9VVVUxLaaIrGiNLKYIhUKL3o++vj4pgJZ7nMkBODIyEtNjY5lmzs7OhlarlaaZI6uZBwcHFz3NXFhYiK6uLkV/L5c6pSo34hWAVqsVdXV1i37+8ePH1f5rnFYIBiAllDfffBN33323quEliiLMZnNCBGBVVZUirzVzMUVbW9usiykiR38iiym0Wi1yc3NPW0wxMDCg2Pft5EYyB+BEfT3Gjx1D4f/7fxBFZQJQFMWYA3C+EZlmjiy2iUwzy61mXsg080oKwHhMV4fDYelI+WKfzwCkWDEAKaH893//N+68805Vw0sUTwZgQ0ODqvtgt9tjCsDIYoru7u6oxRTl5eUoKSlBQUGBtJgiOzt71sUUra2tpy2mcLvd0Ov1qrz3pAzAnh5MffWrgCBI43h6OsI+n2IBODo6qlioWCwWOJ3O026fuZp5IdPMDocDGo0GLpdrQSfNnm8sdUp1uQMwckSVAUjxxgCkhPKb3/wG//RP/6RqeImiCIvFkhABWFFRcdpiCpvNNu9iisrKSumoi9frXdRiCjUDsL+/P+kCcOqrX8WJlJSoADyRkoKpr351RQVgLGN4eBgDAwOnTTNnZWVFfc3g1NXMi5lmjlcAxuNoZSQAGxoaGIAUdwxASii/+93vsHfvXlXDSxRPBmB9fX1ctxEKhdDX14eOjo5ZF1NEzvs2czGFyWQ6bTFFb2+v7GKKpQwG4PyPVSoAJ+rro8Lv1DGxhCCIZwC6XC5F46egoADd3d0YGxubdTWzwWCAVqtd0DTzUr9TJze0Wm1cArCysnJJl9hjAFKsGICUUN5++2185StfUeUH/8xRVlaGurq6RT8/GAxGXZmirq4OVVVVMJlMpy2miPwQm7mYorm5GeXl5bBYLEtaTLGUwQCc/7FKBeBkZuacATiZmZlwAWg2m+MSgD09PfM+LjLN3NvbO+80c25uLrRarTTNvJhrM8sFYHd3t+IBuNRrLDMAKVYMQEoohw4dwm233abKD/6ZQy4AT11M4XQ6511MUVJSgrKyMukHUKyLKSKvq9bvQXNzM3Q6nSrbTrYAXK4jgEqdBFrtAIxlRKaZjUYjTCYTamtrYzppdqzTzJGjlfEIwKVcYYUBSLFiAFJCOXz4MG699VZVfvDPXExRUlICo9EoLaYoLS2FVquNWkyh1WpRWlp62mKKyA+Ppa6Ura2tTfoAjPdq49mGXq8/474DODQ0FJcAdLvdisZPfn4+fAosepk55FbVLnWaWaPRxOU0MEs9wTYDkGLFAKSE8sc//hFf+tKXFP+hHgqFMDAwENNiipycHOTk5KCgoEBaTOF0OtHW1rasV6aIHLFQI8BEUYTH41EtAAcGBpIuAMM+3+mrgL/yFUVWASdzAC52UcV808yR7+fOtpo58nfFYqaZl3qCbQYgxYoBSAnlww8/xM0337ygH9gzF1M0NzejoaEhajFFZLrn1MUUkcuOzbaYInJUT634EkUG4EoIQL/fr/x5ABsapPMAxnpZtvlGPALQZDIpHoB5eXkJE4Cx7GtnZ2fUamYlppnLysoWvbo6HGYAUuwYgJRQ/vSnP+GGG26QfsAGg0H09vbOupiiuLj4tMUUOp3utMUUHR0d6OvrW9BiisrKStUDsK6uDmVlZapt3+PxoLi4WJVtJ3MAhsNhjIyMKHbi5nB4ZQVgb2+voq+51FW1S9nXxUwza7ValJWVLfjazJHBAKRYMQBJdZ2dnXj33Xfxi1/8Arfddhs++9nPYtOmTfj1r38tu5iisbExrlemqKyshN1uVy2+RJEBmMwBuJBLt8UyQqFQXAKwubl52aNqoSNeAajRaNDX17ek15htmjk/Px9FRUXznjRbbpqZAUixYgCS6kwmE77yla/g29/+Nu69917s3LkT77zzDurr6+H3+1WJgKqqKtUDsL6+HhaLRbXtt7S0qB6AapwC50wOQKWurhEOh2E0GhUPQCWi6tSx1FW1y7mv4fDp36089aTZctPMBQUFMBgM6OjoUPuvdFohGICE3/72t9i0aRNSU1Px+c9/HgaDQfaxer0egiCcNpqamhTZl08++QTXXXedquEliicD0GazqboPiRCARUVFqmybAbgyAtDj8SR8VMUrAHNzc9Hf36/46y70yOrY2BgCgYA0zTwwMKDI38V05mMAJrmPPvoIa9aswTvvvAOHw4Ef/vCHSEtLQ3t7+6yPjwSgy+WCz+eTxtTUlCL7k5WVhWuuuUbV8BJFEdXV1bBararuQ0NDQ9IGoN/vZwAmYQDm5uYqHoBLPa3KXPsajwBc6u8rp4ApVgzAJLdr1y784Ac/iLpt69atOHDgwKyPjwRgMBiMy/7k5uZi+/btqoaXKIqwWq0JEYBms1m17a/UALS2W3Gk9ghs7Ys7gssAXJ5QWa6oilcA5uTkYGBgQPHXXervq1L/GKczHwMwiU1MTCAlJQXHjh2Luv3xxx/HLbfcMutzIgG4adMmXHjhhbjtttug0+kU26e8vDxs27ZN1fASxZMBWF1dreo+NDY2qhqAra2tKyoAvX1epB9Oh/ALQRrph9PR3t++oG2fiQEYDAaRkZGh6D4aDIYVEYBLPa2K3MjOzo5LABoMBrS0tCz6+QxAihUDMIl1d3dDEASYzeao21988UVs2bJl1uc4nU68/fbbsFqtsFgsePTRR7Fq1SqUlpYqsk9arRZbtmxRNbxEUYTNZkuIADSZTKptv7W1FYWFhapsezEBmH44HSm/TIkKwJRfpiD9cPqCts0AXJ5QmW3E46haPAPQ7/cr/rqlpaVobW1d9PMZgBQrBmASiwSgxWKJuv2FF17AlVdeGfPr3HnnnbjrrrsU2afi4mJ87nOfUzW8RPFkAFZVVam6DwzADOnE3PMNa7s1KvxOHQuZDk6EABRFMeEDsLS0NKkDMCsrC4ODg4q/bklJCQOQlgUDMIktZgp4Ni+88AK2bt2qyD7p9Xps3rxZ1fASRRF2u131AHQ4HKoGYFtb24oJwCO1R+YMwCO1R2LeNgMwthGPAIzHtKrFYoHL5VL8M8rMzIxbALa1tS36+QxAihUDMMnt2rULjz76aNRt27Ztk10EMpt9+/bhy1/+siL7YzAYcOmll6oaXqJ4MgArKytV3QeHwwGj0aja9ldSAJ6pRwBHR0cVeb1AIBCXAFzKkarZRjymVeNxzeJw+GQABgIBxV9Xr9fD6/Uu+vkMQIoVAzDJRU4Dc+jQITgcDvznf/4n0tLS4PV6AQAHDhzAQw89JD3+zTffxCeffAK3242GhgYcOHAAgiDg6NGjiuyP2WzGZz7zGVXDSxRF1NTUoKKiQtV9aGpqUj0AtVqtKtseHBxcUACKojrfAezr64tLBIii8gGYmZmp6D4mewBmZGTE5bPX6XQMQFoWDEDCb3/7W1x22WU466yz8PnPfz5qQcfDDz+MW2+9Vfr1K6+8gs9+9rNYu3YtNmzYgC996UvIzc1VbF/Kyspw0UUXqRpeopg4AWgwGFTb/koLwPb+dsVXAQcCAfT09KClpQWNjY2wWq0wm81R16HOyMhAfn4+DAYDqqur0djYiLa2NvT19UEUxUX9EBfFxA/ApX5XbbaRlZW1ogIwGAwq/ro6nQ7t7e2Lfj4DkGLFAKSEUllZiQsuuEDV8BJFUbrckpr7oHYAer3eFRWAkWFrt8V0HsChoSH4/X50dXXB4/GgoaEB1dXVyMnJQV5ennQd1uzsbBQWFsJoNKK6uhoNDQ3weDzo6upCT08P+vr60NPTA4/Hg/r6elRUVECv10uBmJOTA51Oh/LyctTW1uL/t3fe4W3V9/5X4uzJvEBZYTgkJKwQVlvIZQRSdrm0UJI0tECTlDYJTRtWKaMkFLjQAmXfQLlACZSkkm1ZlqfkIe9ty3vbkmVZHrITmxDy/v2R3/fcI1m2JfnIR4ner+f5Pn0qLOlIdqyXP7Ourg4dHR3o6ekZdS6f2x25Aqh0XV0odhYPDQ1JXepKPu7w8DBSUlLQ2toa9P0pgMRfKIAkrCgsLMRJJ52kqni53eEhgNXV1TCbzao9f3NzM4xGoyrPPREBFKe/vx9OpxNtbW2oq6tDeXk58vPzkZGRgaSkJMTGxkKr1UKv1yMlJQVZWVkoLCxEQkICCgoK0NHRAZfLNeYu6vFqAAcHB9HV1YXm5mZUVVWhsLAQGRkZMBqN0Ol00Ol0SExMRGZmJoqKilBVVYWWlhbYbLajQgAn0qzg64RCAEMxsDqUApicnEwBJJMCBZCEFSUlJTjhhBNUFS+3242ysjJkZ2ereg0UwCM1VqN9TX9/P7q6utDa2ora2lqUlpYiNzcXZrMZRqMRMTEx0Gq1iI+PR2pqKiwWC4qKimC1WtHY2Aibzebz8dPS0lBbW+vXdU6kCUTscG1vb5euPzs7GykpKZKcxsfHw2QyIS8vD+Xl5WhoaIDdbkd/f39AWz1cLpfiApiWlqa4AIaisSIUAnjgwAFotVr09/cr+rjDw0cEsK2tLej7UwCJv1AASVhRVlaGhQsXqipebnd4CGBNTU3EC2BHRweam5tRXV2NkpIS5OTkwGQyISEhATqdDlqtFgaDAWlpacjOzkZxcTGqqqrQ1NSEzs7OoCKIkyWAY53+/n7p9Tc2NqKiogL5+fkwm80wGAxSajo5ORkWiwXFxcWoqalBW1sbXC4XDhw44PF4oRLAiTQr+DoUwGEkJSWhvb096PtTAIm/UABJWFFZWYl58+apKl5utxvl5eWwWCyqXkNNTQ1MJpNqz9/S0oKEhISQPX5vby/sdjuamppQVVWF4uJiZGdnIy0tDfHx8dBqtdDpdEhISIDJZEJOTg5KSkpQU1ODlpYWOByOoHYFj3fCQQDd7iM1gN4iJ87+/fvR3d2N1tZWVFdXo6ioCFlZWUhKSpIin/LGlJKSEuh0OjgcDgwMDChyjaEQwFB01oZiY8n+/fuh1WrhdgfX5DPWSUxMREdHR9D3pwASf6EAkrCiuroac+bMUVW83G43KioqKIATFEDRQdvY2Air1YqioiJYLBakpqZKDRIxMTFITExEeno68vLyUFZWhtraWjQ1NUGr1cLlck366w4HARQRwNEEcKwzNDSEvr4+qTGlrKwMWVlZUr2j+F/RmFJWViY1pvT29vqdWg6VACrdWRuKcTWDg4MUQHLUQwEkYUVtbS1mzpypqni53UcEMCsrS9VrqK2tRVpammrPP5YA9vf3w+VyoaOjQxqRUlBQgMzMTCQnJ/vsoM3Pz0d5eTnq6urQ1tYGp9M5aoOFGFw8Vg1gqM7RLoC+Tnd3N2JiYjA8fGTPsGhMsVqtKCgokBpTRNTVV2OK0+n02Ewy0Xl1vs7RJoBKRVPlx2g0wmazBX3/7777Tu1f4+QogQJIwoqGhgZMmzZNVfFyu4/s4Y1kAezv70dDQwPi4+PH7KCNi4tDcnIyMjMzpREpDQ0NfnXQjnUogKETwLHOgQMH4HK5pMaUkpKSEY0pBoMBJpMJer0eOTk5QTemeJ9QddaGQgAHBgYUXdUnPwkJCbDb7UHfnwJI/IUCSMKK5uZmTJ06VVXxcruPCKCae3jdbjfq6upCJoDeHbRlZWXIy8tDeno6EhMTpToyrVYrjUjxp4NWqSMEkClg5QQwNjZ2Qo8xNDSE/v5+dHZ2orGxEQaDAenp6aM2ppSUlKC2tnbUxhRfjx8KAQzFuBq3W9ldzfJjMBgogGRSoACSsKK1tRUajSboyJFSx2q1hoUApqamBnXfvr4+OBwOtLS0oKamRhqR4t1BGx8f77OD1m63o7m5GQaDQZXXTgEMPwH0PikpKR4bK/bv3w+n0+mzMUX8vMkbU6xWK5qbm6XGFNFZq/T7GYpaRbdb2UHd8mMwGNDZ2Rn0/SmAxF8ogCSs6OjogEajmdAAYCWO1WpVdQ+v2+1GfX39qALY29uLzs5OaUSKvINWRGN8ddBWV1ejubkZnZ2d43bQtrW1UQDHOZEugP4OLB4aGkJvby86OjqkxpScnByPjSnify0WC8rKylBfXx9wY4qvEwoBVPr7Iz/x8fFwOBxB358CSPyFAkjCis7OTmg0GlU++OWnqqpKVQHs7e1FRUUFjEbjiA5a+YgUo9EIs9mM3NxclJaWSiNSurq6Jjwipa2tDfHx8aq9fgrgsSOA452BgQF0dnZCq9WirKwMBQUFSE9PH7Uxpbq6Gq2trXA6neNG4Y42AdTr9RRAMilQAElY0dXVBY1Gg66uLtXky+0O/R5e7w7awsJCZGVlISUlRYqE6HQ6xMTESB20YlzHeB20Sh0K4PhfGyoB7OvrU1QwnE6n4gI40ZVl3me02XqiMaWtrU1qTLFYLD4bU/Ly8lBRUYHGxkapMcU7Va3k92cikcnRjl6vR1dXV9D3pwASf6EAkrDC5XJBo9HAbrerIh7iTGQNW39/P7q7u9He3o76+npUVFR4jEgRH1qiYF7eQVtfX4/29nZ0d3ejvr4eKSkpqr0HFMDxvzbUAqiUYDidTsTFxSl6jZMlgGMd0Zhit9uljSl5eXkwmUxSKYRWq4XRaAyqMWWyvj/yExcXB6fTGfT9KYDEXyiAJKzo6+uDRqNBR0eHauLjdo+9hq2/vx9Op1OKSJSVlSE/P39EB61er5c6aAsLC1FZWekxImW8a2hoaEBycrJq70F7ezsFcJwT6QI4kZ213icUw5X379+PxMRElJWVSY0pmZmZSExMlBpTjEYjMjIyfDamjPa44udT6e/78PAwYmNjKYBkUqAAkrDC7XZDo9GgtbVVNfHp6+tDRUUFkpOTPTpozWYzjEajRwdtamoqLBaLx4gUu92uyIiUxsZG1QVQr9er8tziA7a7u3vSn5sCqK4AKj1cebRaxdEaU+SbavR6PdLS0qSNKaIxxWazhVQAu7u7g74/BZD4CwWQhBX79++HRqNBU1NTyD7g+/r6PDpoS0pKkJOTM2JEik6nk0akeHfQTkaXcmNjI5KSklQRMLebAujP10ayACYlJR0VAhisqA4MDMDhcKCpqUnamJKeno6EhAQptZyUlCTNyAykMWWsExMTA5fLFfT9KYDEXyiAJKwYHh6GRqNBY2PjhOTBbrejqakJVVVV0ogU7w7ahIQEnx20DocDNTU1qq5hc7vVF8COjg4K4DjnaBHArq4u6PV6Ra8xKSkJ7e3tij1eqLZrKB2pHB4+ItQ6nQ5tbW2oqamRGlPkNb4GgwFms9mjMaWzs3PcjSk6nY4CSCYFCiAJKw4ePAiNRoO6urpRP3R7enpgs9nQ2NgIq9Xqs4M2JiYGiYmJSE9PR15eHsrKylBbW4vW1lZ0dXWN20Ebyi0c/p6mpibVBTAuLk6V5xYCRAGkAIbbdQ4Pj71aT96Y0tDQ4LMxJTY2FikpKVJ2oba2Fu3t7R4rEIO9Ngog8RcKIAkrDh06hFmzZuGLL76A0Wgc0UEbFxcn/QJNSkqSRqSUl5d7dNBOdETKRLZwKHWampqQmJio2vNHqgCaTCYKoB8nMTFRUbFyu0OzXi1UAhjsWJ3BwUE4nU60tLSgqqrKZ2NKQkLCiMaUrq4uv94bCiDxFwogUZ3Dhw/jjjvuwLJlyzBv3jxoNBrMnz8f69atQ2Zmps8O2lDPwFN7BIvb7UZzczMFMMIFUKnHC5UAdnR0KPZ4bndo1qspfZ3Dw6GZqzg8PCytw2tqakJdXR1KS0ulxhTxx6+vxhSbzYa+vj4MDQ1RAInfUAAJAODtt9/GokWLMHPmTKxYsQLp6eljfr3JZMKKFSswc+ZMnHPOOXj33Xcn9Py7d+9GXFwcysvLMXXqVJSXl6sqXw0NDWEhgEajUbXnt9lsFMBxTqgEUOkxIw6HgwKo4GOGoqlmePhI+nisfcjyxpTKysoRjSkxMTFwu90T+l1MIgcKIMGePXswffp0fPjhh7Bardi6dSvmzp2LlpYWn1/f2NiIOXPmYOvWrbBarfjwww8xffp0fP3114pcz/Tp01FSUqKa+Ljd6s/gc7vdaGlpUV0AY2NjVXluIYBOp3PSn5sC6N8xGo2KilWo1qsZjUbYbDZFHzMUEdXh4f+LAPb39wd1X5fLhUOHDinye5gc+1AACa688kps2rTJ47YlS5bgiSee8Pn1O3bswJIlSzxu27hxI66++mpFrmfWrFkoLCxUVb7UnsHndh8RwISEBNWenwI4/tceTQIYHx+vuFhRAJX9vgezDcX7HD58WJHfw+TYhwIY4XzzzTeIiorCvn37PG7fsmULrrvuOp/3ufbaa7FlyxaP2/bt24dp06bh4MGDE76muXPnoqCgQFX5UnsEi9utvgDa7XYK4Dgn0gVQSbFSev+xOAkJCbDb7Yo+Zijez+FhZbahUACJv1AAI5yOjg5oNBpkZWV53L5z504sXrzY532io6Oxc+dOj9uysrKg0Whgs9kmfE3z589Hbm6uqvKl9ggWt9uN1tZWGAwG1Z5fTQEU0SAKYPgKS0JCQkgEUOn9ukejAE5kGDYFkPgLBTDCEQJosVg8bn/xxRdxwQUX+LxPdHQ0du3a5XFbZmYmNBoN7Hb7hK/puOOOg8ViUVW+1B7B4naHhwCKovLJPhRACqBSx2AwoLOzU9HH7OzshMFgUPz7rsQsRAog8RcKYIQTjingE088EZmZmarKl9ojWNxuN9ra2iiAESiA5bZyfFX8Fd758p2wFhalI2tKS684oRBAu90eEgF0uyc+C5ECSPyFAkhw5ZVXYvPmzR63LV26dMwmkKVLl3rctmnTJsWaQE4++WSYzWZV5UvtESxu9xEBjI+PV+35Ozs7VRfArq6uSX9uXwLY09ODjo4O1NfXo7y8HHl5eTCbzTAYDDAajcjKykJJSQnq6upgs9nGXffl69h6bVj9yWpontNIZ/Unq2Hvm7hkRbIAxsfHw+FwKPqYdrsdCQkJil+r2z3xUTgUQOIvFEAijYHZvXs3rFYrtm3bhrlz56K5uRkA8MQTT2D9+vXS14sxMI899hisVit2796t6BiYU089VfUtHGo3YLjdbrS3t6sugDqdTpXnnmwB7O/vh9PpRGtrKxITE5GZmSntjxbrBePi4pCSkgKLxYLi4mJUV1ejvr4eDQ0NqK6uRlFRETIyMqSZbHFxcUhNTUVubi4qKirQ1NQ05jaH1Z+sRtTzUR4CGPV8FFZ/snrCYhEKATQYDIoKoFiDprRUhUIAbTYbjEaj4teqRCc0BZD4CwWQADgyCPrss8/GjBkzsGLFCpjNZum/bdiwAatWrfL4epPJhMsuuwwzZszAokWLJjwIWs7pp58e8SNY3O4jAqjX61V7fjUF0O12Ky6AfX196OzsRFNTk7RDOjMzE0lJSYiJiYFWq4XBYEBsbCxMJhPKyspQV1eH9vb2UbfPjJYC3r9/P7q6utDc3IzKykrk5eUhLS1N2uaQkJCA9PR0FBYWorq6GuYKs4f4eZ8KW8WExCJUAqhkarWnpwc6nU5xqdLr9ejq6lL0MTs6OkIigEp0QlMAib9QAEnYceaZZ6pef6d2A4bbTQEMRgBHS9UmJCRAp9NBp9MhMTFR2rNaWVmJxsZG2O129Pb2wu0ObQ3g0NAQ+vv7YbfbUV9fj9LSUlgsFuz8aueYAvh16dcTao4IRc1apAtgYmKi4teqRCMMBZD4CwWQhB2LFi1SXb7UbsBwu4/s4lVTAB0OR9gJoDxVW1NTg5KSEr9StS0tLejq6vJrh7QaTSDltvIxBfCdL99BXFwc0tLSkJeXh8rKSjQ3N8PpdPpVLxaKmjWlBdDlciEmJkZxqYqLi4PT6VT0Mdvb20MigErUQVIAib9QAEnYcd5556kqPm63+g0YbvcRAVRrF6/bfUQAxVDayTwiVavValFaWuqRqo2NjZVStSaTCbm5uSgtLUVtbe2YqdpAjlpdwGPVAA4ODqKrqwtNTU2oqKhAbm4uUlNTpfcjISEBGRkZKCoqQk1NDdra2tDT0yNFkkIhgErX1h1tApiUlKT4tSpRB0kBJP5CASRhR3R0tGrdp+Ko3YDhdh9ZxXasCqA/qVqtVguTyTRqqjZURy0BtPfZA+4CFillm82Guro6lJSUICsrC4mJidDpdIiJiUFycjLMZjNiY2NRX18Pu90Otzv4TRPiKC2A3d3dIRHA2NhYdHd3K/qYbW1tSE5OVvxalUiDUwCJv1AASdixZMkS/Pvf/1ZVvtSuv3O71d3F63a70dXVFbQATiRV63A4pG5Ih8Mx6a/bZDKhpqbGr68NxRzAClsFviz6Eu9++e6EHufAgQNwuVxobW1FUVERYmNjpdE1Wq0Wer0eJpMJ+fn5AaeUh4dDI4CxsbGKS9XRJIBKREEJ8RcKIAk7li1bhr1796oqX2rX37nd4S+AY3XVitRkfHw80tLSkJOTE3CqVqfTRaQADg8r3xBhs9k8UsCDg4NwOBxobGxEeXk5cnJyPFLKRqMRmZmZUkq5vb0dvb29Hs0Jer3+qBDAmJgYuFwuRR+ztbUVKSkpil+rEu8BIf5CASRhx/Lly/HVV1+pKl9q19+53eru4nW7/08AJ9pVG+yhACorgP6MLRkaGkJfXx86OjpQW1uL4uLiESnllJQUZGdnIyYmBhUVFejs7JzQ7lpxnE4n4uLiFH8vjyYBdDqdFEAyaVAASdhxySWXYM+eParKl9r1d2735KxiCzRVW1RUhKqqKjQ3N0up2lBdWyQLoMvlUkUAxzoHDhxAd3c3WlpaUFVVBZ1Oh9TUVMTHx0vRXpFStlqtaGlpQXd3t98z7UIlgDqdDj09PYo+ZktLC1JTUxW/ViXeA0L8hQJIwo4VK1bg888/V1W+1E6/ut3KrWILNlXb2NgIrVYb8qaL0U6kC6CSDRGh2FwRFxcnzdcbGBjssMpSAAAgAElEQVRAZ2enR0o5JSVFGrAttqsUFxejtrYWHR0d6Ovr80gpH00C2NzcHBIB7Orqgl6vn9BjEOIvFEASdqxcuRKffvqpqvI1GdG38U4gg5iDHYBss9lGFTyn0wmtVou+vj5VXr9Op0NnZ+ekP++xKICh2Fzhz3iVoaEh9Pb2eqSUMzMzYTQaodVqERsbi5SUFOTk5KCgoACxsbFwOByjrssL5og/YpR87c3NzUhLS1P8++5wOCiAZNKgAJKw46qrrsI//vEP1eUrnAQwkFRtVlaWIqlaCuD4X3s0CaDSg4snOl9v//79cDqdaGlpgdVqhcVigU6nk36e4+PjYTabUVBQgKqqKrS2tgaUUhYnFALY1NQEk8mk+Pfd4XAgPj5+Qo9BiL9QAEnY8f3vfx+7d+8OG/marOOdqs3NzYVWq1WsqzbQ093dTQH04z2KVAGMjY1VdMCyXH7Ev8GGhgaUlZUhOzsbycnJiImJkaLZWVlZKCkpQV1dnc+U8vDwkQik+BlW8rU3NjaGRACV2NlMiL9QAEnYce211+LDDz9URTrECdUatEBStdnZ2dBqtWhoaBgzVRuqIwRQrRrAmJgYCqBCj3e0CeBoR6SU29vbUVNTg6KiImRkZCAhIUFKKaempiI3NxcVFRVSHavScwAbGxthNpsV/75PdGfzN998o/avb3IUQQEkYceqVavw3nvvqSId4gS7BcOfVG1sbCySk5PHTdVOZBCzEocC6N97FMkCqKRYTTT9KVLKzc3NqKysRF5eHtLS0qDVaqX1genp6SgsLJRSyi6XK+CU8vDwMBoaGkImgBNZ2UcBJIFAASRhxw033IB33nlHNfEZT76C7apta2tDd3e336lacQ2hHLUy1nG5XBTAcU6oBFDptWjt7e1hL4BKpD+9z4EDB6DVauF0OmG321FfX4/S0lIppSyi7klJSbBYLFJK2Wazob+/f0RKWZyGhgakp6cr/n2faLc2BZAEAgWQhB2rV6/G3//+d1WkQxy73Q6tVjtuqjY9PR35+fmoqKhQPFUrmjAogJP7vOEigEpuxQiFAMbExBw1Auh2+959PDQ0hJ6eHrS1taG6unpESjkuLg5paWnIy8tDRUUFmpqa0NXVhdraWmRkZCj+fZ9otzYFkAQCBZCEHbfccgveeOONkH7I+5Oq1Wq1fqVqQ3XU7sIVAtjT06PK88fExMBut0/68x6rApiUlKToNSq9YWOi6U9fZ//+/WMK4FhncHAQXV1daGpq8kgpx8XFQavVIiYmBhkZGSgsLER1dTXa2trQ09MzatTQnzPRVD0FkAQCBZCEHbfeeitef/31CX+QTyRVKyKAasmXkAsKIAVQiROpAjg4OAitVqvIqjpxhoaGUFVVhbS0NCmlbLFYkJSUJGUHkpOTYbFYUFpaivr6eunneDw5nOj3iQJIAoECSMKOO+64A//93//t1wewP121RqMx4FSt2g0Q8mtQSwB7enoogH58j44GAWxra1NcAHU6XUQK4PDwMGpra5GZmTni9gMHDsDlcqG1tRXV1dUoLCxEeno6DAYDtFot9Hq9lFKurKxEc3MznE4n9u/fr8j3iQJIAoECSMKOu+66Cy+//DLcbmW7agM5ate/CblQ8xqEALpcLlWePzY2NqwFsL+/H93d3YoPGR4ePnoEUMkVa6FYVycEUMnNIsPDRwQwKysr4GtxOBxoampCRUUFcnNzkZqaKmUjEhISkJKSAr1ej5qaGrS3twecUqYAkkCgAJKwoK2tDUajEe+88w6WLFmCyy+/HJdddpmiXbWBHLXTn/JroABO7vN6C2BfXx96e3vR09ODnp4euFwudHd3S8flcqGvrw/9/f0YGBjA4OAg9u/fH9R4kVAKYHJycsQJ4MDAQEgEsKamBhaLRZHHGhoaQl9fH2w2G4qKiqDX65GVlYXExETodDrExMQgOTkZ2dnZKCsrQ0NDg/TvggJIJgIFkIQFGzduRHR0NNasWYPo6Gjce++9+OCDD1QZgCyXn3AQQLWuIZIEsK+vTxK9tLQ0FBYWwmazwel0jpC9np4e9Pb2StIn/re3t3fEEY87MDCAgYEBSQzHk8OjQQDFz6ZSjxeKWYVutzskAlhdXa2YAMpPS0sLUlNTpf8vTylXVVWhoKAAZrPZI6VsMpmQn58Pq9WKtrY2tX+Vk6MICiDxSU9PD9atW4cFCxZgwYIFWLduHXp7e8e8z4YNG6DRaDzOVVddFfBz33fffXjhhRdUE69wkB/5NaglgL29vaoLoM1mU+zx5JLnK5InTnFxsfQBKx8DYrVapeHBIsrn6wjZ6+/vlwRRPK+3GLrdbp9iSAFUVgBFjZ2SApidna24ADY3N3sI4FhHpJQbGxtRXl6OnJwc5OfnB/srn0QgFEDikzVr1mD58uWwWCywWCxYvnw5br/99jHvs2HDBqxZswZ2u106Lpcr4Od+4IEH8Oyzz6omXuEgP253+Ahgd3e3Ks8fjAD6K3kul2tENM/tdntE6vr7+2Gz2VBXV4eSkhJkZmbCaDT6FMOWlhbFxLC7uxt1dXWIjY31O2KolgAqWf8YSgGc6PvnfaqqqkImgGlpaUHfnylgEggUQDICq9UKjUaDnJwc6bbs7GxoNBpUV1ePer8NGzbgrrvumvDz//znP8czzzyjmniFg/y43epHIdV+D8YSQG/J8yV6QvDGkrxgjtvtRmdnpzQCRNRryXfRyrs8u7u7R4jhwMCA1BBQXl6O3NxcpKWlSY1Nog7MO90srn9wcDAgMWxtbQ17AQzFqJr+/v6QCWBOTo7iAtjU1EQBJJMGBZCMYPfu3Vi4cOGI2xcuXIiPPvpo1Ptt2LABCxcuxMknn4zo6Gg8/PDDcDgcAT//gw8+iKeeekpVAezr61NdANWOQqr9HsTGxkqdkONF87xFaaKSF8wZGBhAZ2cnGhoaUFZWhqysLCliqNPpoNfrYTAYPAYJi+J+MS/OZrOhr6/PI2LodruliKGIFHq/3vEaUFpbW5GSkqKYqAwNDR0VAih+hpUWQKvVGhIBbGxshMlkogCSSYECSEawc+dOREdHj7g9Ojoau3btGvV+e/bsQVxcHMrLyxETE4NLLrkEy5Ytw/DwcEDP/8tf/hKPP/54WAig0+lUXQDVErDJEMCxUrZ6vR5JSUke3Y8OhwM9PT0j6ufUPKKDU75nNiUlBTExMdBqtTAajTCZTMjMzERmZiZMJpMUMZRLYHl5ORobG+FwOMZ9Xd7pZG8x9JbhpqYmJCcnKyZCQgCVnIEYijS1+BmeyHaO0QQwNzc3JAJoNpuDvv/BgwcD/n1PIhcKYATx7LPPjmjS8D75+fnYuXMnFi9ePOL+559/Pl566SW/n89ms2H69OnYu3dvQNf5yCOP4Pe//72qAihSR2oKoNoROKUkONi6PJvNhtraWhQXF3vU34nOx4KCAmkFV29vb8ije/K1YPn5+TCZTIiPj/e4JvnO2PFETv6YYi6cEEedToekpCRYLBZJfjs7O8d8vMHBQXR3d0sdo2IIsdhrazabR42SBlpnGOkCKFbDKS2ADQ0NFEAyaVAAIwin04mqqqoxz9DQUNApYF+cf/75+Mtf/hLQfTZu3Ijt27eHhQB2dXVRAP0QQCWbL8Y68saM4uJiZGRkSIITHx8Ps9mMwsJCaZCuSKf6cwYHB9HT04O2tjbU1NSgqKgImZmZI+axiRVfdXV16OjoCOg5/L2O7u5uNDc3S6IhBgbLN9uIBq3MzEykpqZKqeWEhASkp6ejsLAQVVVVaG1tlb6H3hFDX2NrxPdjLDE8cODAUSGAIoqutKiFSgDr6+uRnp5OASSTAgWQjEA0geTm5kq35eTkjNsE4k13dzdmzpyJTz75JKDn//Wvf41t27apKoBu95HuQYfDoboAqhWF9BUF9bf5YiKSF2watqOjQxK39PR0KTpnMBiQnp6OoqIi1NbWorW1Fe3t7aivr0dZWRlycnKQkpLisZHBW6B8NXKE8viSUbnsippCvV4PnU4nvc6MjAyUlJSgrq4ONpsN/f39AaWSR+tMljegiOvTarXo7+9XTH6UrlMMpQBWVFQgPz8/JAKYkZFBASSTAgWQ+GTNmjW4+OKLkZ2djezsbFx00UUjxsBccMEF2LdvHwBgYGAA27dvh8VikTrZrrnmGpx++ulwu90BPfdvf/tb/Pa3v1VdAHU6naoCqFYaWi55Wq0W9fX16Orq8qv5Qi4Jap6BgQE4nU40NDSgoKAAJpMJBoNBkiUhUQaDQUon19fXhzyV7H3cbrfHLDexHsxXNK+6utrnHMLBwUGPYcEiPS06ihMSEpCRkYHi4mLU1tb6FbX0bkARqeXq6mopMir/2QymM3kyBLCnpwc6nU5xUSsvLw+JANbV1fncMUwBJKGAAkh84nK5sHbtWsyfPx/z58/H2rVrRwyC1mg0+PjjjwEABw4cwM0334yTTz4Z06dPx1lnnYUNGzagtbU14Od+7LHH8Oijj4aFAHZ2dqougKFIQ/uTsnU6nTCbzVLqMTExEVlZWSgtLUVjYyOcTuekRsVGi5K1t7ejpqYGxcXFyMrKQlJSEnQ6nVRHl5WVhZKSEkl+xGtua2uTtiuYTCZJuoxGIzIzM1FSUoL6+nrpZ0CJaJ4QqIyMDKmmMTY2FikpKcjJyfGo95vIc4rn7e3tlZ63sLAQZrPZZ2S0pqYGbW1tcDgcHl+fnp4+Yih2bm6uVOc4kc5kXwLo7xDkcBDAgoICxR+3traWAkgmDQogCTu2b9+OTZs2qS6AMTExqgqg2+2ekAAqVZcnr0mrqKhATk4OkpOTodPpPObeiXSp0lE0t9stjVfxFSUTIlNQUICqqiq0tLQEJadC1FpbW2G1WpGfn4+0tDQpNZyYmCjV/4mOZHm0U1znWNG8jIyMMaN5k3EGBgbQ3t6O8vJyaYaheI3i6PV6JCcnIycnB1arFQ6HY9zrlKeTRxPDsXYme69BU+K4XC7ExMQoLmplZWUoLCwMXiBt5dBV6lBhqxghgFlZWRRAMilQAEnYsWPHDjzyyCNhIYCTtYt2LAEcKw09Wc0Xo33gOxwO1NfXS5sy5A0Z8rq78erRBgcH4XQ60dLSIkXl5B2scXFxSE1NRU5ODsrLyxWLkvkrhi6XCy0tLaioqEB2drbUGCIieEKgYmJiRoyumazr9D6iLrK2thYlJSWS7ImGFl9RR5fLJd3Hu+5Q3n0tZL+npycgMfTVgNLd3Y22tjYUFhYiJSXFowElXAWwtLQ0KAG09dqw+pPV0Dynkc7qT1bD3mfH8PAwampqJrRjmAJIAoECSMKOJ598Eg899JDqAhgbG6u6AIo6xGCbL9QYitzf3y81ZIi0o7weTczEy8rKQnp6ukfKVqSZi4uLpU5efyRD6eN2e0bzcnJypE5ceTQvNzcXBQUFyMvLg8ViQXJysjTGRUTQysvL0dTUFJKUuYjOtrS0SFFL+Xga0Rktj44G09Diz1q8/Pz8Mdfi9fb2Sul6b7mMi4tDSkoKysvLfe5MDnZkjdI7leUCWFRUFPD9Vn+yGlHPR3kIYNTzUVj9yWoMD098xzAFkAQCBZCEHU8//TR+8YtfhIUABrqLdiLHO23mcrmg0+mQn58v1a85nc6wbr4Q8iQaG8R8u7S0NCkVGhsbi/j4eI8O1sTERGRnZ6OiomLU9WlKHxHZk9e8yaVEpLeFxDU2NvoVzRscHJTm+5WXlyM7O1tKmYvIm6ij8/e1CiEVW0bEYwrZFOIs7wBWejzNaNdlt9ulIdjyKLDoVI6Pj5fEWUSGRRq8ra1thOD725nsz8iaUAlgSUlJwAJYbiv3ED/vU2GrmPCOYQogCQQKIAk7/vSnP+HnP/+56gIYFxenuAAGmrKtqKjw2DUbFxfnMetOXN9kS56vocPe8iRPMdbX18Nut49IA4vUr1yWRERQHlmqqqpCW1tbUFLjLU/eY1+MRiMyMjJQVFQkSUkoavNEyryxsRFlZWWwWCzSaxXvV3Z2NvLz81FYWIi8vLwRUTLvJoyuri5VxN/XEGt5hNRoNMJsNkuRXrPZPCL9LH8d/kRHx1qNN9rIGofDgbi4OMVXwZWUlKC4uDig++gqdWMKoK5SN+EdwxRAEggUQBJ2PP/881i3bl1YCGBHR0fIJc/fujwRbRH1Wenp6VJqVTQoiHSjUhE0seasrq4OpaWlI9KcomNW3kmqhDwJaRP1hRkZGVI3anx8vDTWpK6uThJLMQplrGhebm5uQNG8UMtTZWUlcnNzkZyc7FFHKNbIiZpC0Yzhb92dUsc7wieXVvkaO3/rHeUS7Cs6Kk+bNzY2+iW44t/LaKlwg8EQdGfyaKe4uDhgAfQnAjjRHcMUQBIIFEASdvz5z3/Gz372M9UFUK/Xo729fcKS19PTE7KhyPIGhcrKyhEdumlpadLKtI6ODp+NGOJDWURz8vLyPObIxcfHS2vOKisrVY08uVwu1NbWStsxxDWKExMTI0lpWVnZpAuT/HjXzY0mT6WlpVKEVC5PcvnyrrtTeh3eePV5aWlp0ve/ublZ8XpG74iiiNLK1+KJ96q6uhq1tbWwWq0oKCjwqDEVw7C9o7nBdiaPJYAlJSUBC9p4NYDiDwIKIJkMKIAk7Ni1axfuu+8+1QUwPj5eGmsiJG480VOz+cL7A7Wzs1NamSaPFur1ehiNRhiNRqlZwJeQTFYdmfeRDzaWz6Pz7ggW0byGhga0trZ6RNSEPMjTjZWVlaM2KChxrfLuZRGtFKImGiSUkKdg1+GN1jAil6fx6vMm82dAjB4qKSmRvv/yQd7y5pHc3FzU1NT4HdUdrTNZ/Bv2/nfsLYZFRUUoLS0NWNDsffYxu4AnumKOAkgCgQJIwo6XX34ZP/nJTyZN9Hw1X3R3d0sfpvKBwOHcfCGXA5Gyy87OlmRIdK+mpqbCZDIhNTVViijpdDqkpqZOuN4ukCMiXPLGBu/aPO/0ciBCIqJK8po7eS2lPII23nYM79SlrzrCzMxMj20bk71VRIx9qa6uHpFWlouTiOgWFRVNasOIryNqQMWMSe9aQvnwcXmU1Ftm8/LyPBqNjEajR1OMd3R1rO/zaCNrenp6pJ/XtLQ0FBcXB9WZPDw8jApbhc85gCICTwEkkwEFkIQdr776Ku655x7FJS/QurympiZpfpqIsBgMBmRmZkrbMLq6ulQZ5NvV1YXm5mZUVlaOGP2h1+ullJ0oshezBMeSm4aGBinVKCJYCQkJ0lYMX8OP/fmA924W8Y7myRsbGhsbA36OQI/b7ZYiaL72BqelpSEjIwOZmZkwmUw+N3aIGrVQX+t4r8Of+rySkhKUlZWhtLR0RMpUviZOyGAo6iLlMi4EWl5L6mt2YjDvqz9r8eSi7ms+pVwuRUROSKnouM7MzERLS4vPJhT5H4WBiuFEV8x9++23av/6JkcRFEASdrz++uu46667JkXyAqnL6+vrQ3t7O6qqqpCXlydF1uS1dkp15srXh4m6rMzMTI9OyuTkZFgsFinK4c+O10BOX1+ftC4tPz8fqampHmnVvLw8qTGhu7tbkhF5NE9EHr2jeWrN9xPvrYg6yQVaSEJcXBwMBgPi4+OlyJnRaPRospnMNXihqs8Ta+KUXIfndnt2XHtLqVygJ7OW1Hsdn3i94nseGxsrfc/lP7PyzS++pNTfkTXe2YLRxHCiK+YogCQQKIAk7HjjjTdwxx13hHXzhfwDQGzD8K61k8+2a2lp8Sk8/f39HmlQ79RiQkKCVJclti9Mxoy8scRJNGGkpKR4zPITQiKiOVarFXa7PWwiZN6z85KSkqQPeBH9Gi0a5GsNXkxMjLQGT96hG+x7Gw71ef6uwysuLkZFRQUqKiqkHcwivS7vuA5V00iw762viJ7RaITJZEJGRgYyMjKQmprqMUjb+333J7U/1sia0cpIBgcHpSgtBZBMBhRAEna89dZbuPXWW4/K5gvxgeNyuSRpsFgsHuNIDAYDDAaDFG2Rp0HVHlGyf///Selo4iRSYPJtHU6nE+3t7VJ0RUiDfCOGaMJQUly8Izve41+8I2RKRZ3kafPS0lJkZWV5dOgKaRARYSGW8lpCUfMmF35fA53HWqEX6iPqCmtqaqQosPi5lR95XWFDQ4MqXeL+pG7Hi+j5eu2jrcWTb1jxV8jlYugrsqvX65Gfnx/0yBoKIAkECiAJO37xi19gwYIFWL9+PV599VUYjUapqD5cmy8GBwelX+i1tbVSVMR7zZnJZEJ6ejpMJpPHf5M3YLS3t4f8Q1/+Yemre1UuTvI6wmDq/8SQZ3kThpAksSt4vCL90QYPCxkRtWzyFHNvb++kR51EE47Y6JCUlCSlFEWkVKfTSdcraknVrCXcv98zzSzqNOVzF0eTHe8IqbwDO1Tr8LxHH4kGEO8opWgcCbaecLzv8Whr8eRd3yJiLx8ALh92LspH5Cl8MbYm0M5kCiAJFAogCTsKCgrw4osvYvv27bjppptw0kknISoqChdeeCF+9rOf4aWXXoLBYEBHR8ekf1CKGidRzO4tIiJVV1BQIO1FdTqdo34AibVhogEjIyNDSj/J686CXY/mqyt4vGheqMVJNGHIdwWL9y8xMRFmsxkWiwUWiwXp6ekj6h4DGTwc6uNvfV5ZWRnKy8tRUlIi/cx4S1Ko1+DJo6VC+s1ms0cDjJBy+c9CsM810XV4wYiemj8L/f39aGpqQlFREUwmEwwGg0d5hJhRKcS/vb3dLzEdqzNZnMbGRuj1erz++uv45ptv1P4VTo4SKIAk7Dl8+DBaW1uh0+nw3HPP4Y477sCZZ54JjUaDRYsW4e6778azzz6Lffv2oaGhQZEPSl/RMV87YoWI+FpzNlGxaG1tlYY7y9ejmc1maYSH+NDzvl6z2ewxi847mqfWIOfR3l95Z2psbCz0er0khUIYlGyyCfZ6lazPG2sNnogMycfy+CtjcnGS1/HJo6XenbCTNQbG1zo8ERWOiYmBwWBAYmIiEhISpMip9ygYtUXPl5jKU82iBlZEPTs7O6U6X1/d2v6uxRscHITD4YDJZMI777yDRx99FNdffz1OOeUUaDQanHHGGbjlllvgcDjU/pVNjhIogOSoxel0IjExES+//DLuv/9+LF68GFOmTMGpp56Km2++GTt27MDnn3+OiooKn79Qe3t70dHRMWJTw1jRMbU6V/fv34+enp4xt2DExsZKHz5VVVWqzKKTH++OUO/tDvJ6NzE7z1tERCOHfGSLeN0iQlpWVqZIenG0WX++rjeU9XliiLd8A4h80LM8dd7Y2IjGxkZpALavGXqik9ffWXihOt5i6j27T8yoTEtLQ0pKyohIqpDhydzuIu+UFuIvj1bLawoDTeN7y7A8SqrT6bB582b84Ac/wA033IAVK1bg9NNPh0ajwQknnIDrrrsOmzZtwt///neYzWb09PTg8OHDav9KJkcZFEByTDEwMIDMzEy8+eabePDBB3HxxRcjKioKc+bMwaJFi7By5UpER0fjz3/+s0d9U35+vlSDo3Z0zOl0Sh+S3mk6sVlC3tTQ0tLi0YwgPjhFpEfUmYWiE1Ne+yhPg8pn54mO0GBrCX09p+hUle/S9Y6cVVdXe2zCEMe7yWWsUSXhUJ8n6h/r6uqkRgxf8i+EpLKyUvG6t0C/P2OJXiARPXkndyjX4cmbXURZgvfswECHSvvzPrndbpSXl+PLL7/En/70J9x777246KKLcNZZZ+HSSy/FNddcgwsuuADf+973MGPGDCxbtgzfffed2r9myTECBZAc06Snp2PevHlYsmQJrrzySqxatQqrVq3C4sWLccIJJ+CKK67Aww8/jLfeegsZGRlwuVyT8iHZ19cnFZILCfEeUeIdHQvkw03M8LNarVJhvhAkk8nk0aHq74YE+fBp8aEu/5D0ToMquXLNn+MdOfOVVhbRMV/z89Qar+N9/fLNKGOJaVdXF9xut0c6Uo01eEqIXqAn2HV4ov5UNGplZGR4NLvIo6tKRngHBgbQ0NCA2NhYvPTSS1i/fj1WrlyJefPmYdq0abjwwgvxk5/8BM8//zz27t2L2tpaHDp0yCOqd+jQIaZ3iaJQAMkxzXfffeczNXLo0CFYrVZ8/vnn2L59O2644QYcf/zxmDZtGpYvX45169bhlVdegdFohN1uD/oDUgwcFrVYY0XzQh19lO8HLioq8mi+SEpKkuSiqqoK1dXVI6JjomFBXnivdO1jMO/xePV58qaSjIwMD6kSc/wCrbObyPGOao02Q080SAQTuRVNGP6swfMVJfV+LLFdY6y1a+FQoycieVVVVVLtrKgllDdjiGip1Wod9/UH+r7bbDYkJyfjjTfewMaNG3HdddfhxBNPhEajwTnnnIPbbrsNO3bswKeffori4mIMDQ0xfUtUgQJIyP/n8OHDaG5uxr59+/DHP/4Rt912m1R3c9555+Gee+7B888/D61Wi6amJumXfkdHx4honryWUB7NC8XGjmA+pOTrsrz3xo72QelwOFSLkCldnycimiJ1Lq+zMxgMyMjIkGrngk0BiyiViDZ5jwsRqWrRLT4ZEUh5TaWvCJjJZEJ2djays7NhsVhG3a+rtuj5+rmQi653OUBFRQWsVisqKioUWYcn/g1ZLBZ88MEH2LZtG2655RapOe2UU07B9ddfj9/85jd4//33kZWVhf7+fooeCSsogISMg8PhQEJCAnbt2oUbbrhB+mt+zpw5WLhwIebOnYt9+/bBaDROWjQvGGnybhIQ6768R8AIeeno6EB1dfWINXDyGruOjg5FI4DeM9ZEdGyy6vPEuj/xutPS0iTJlKdT5Vs/vGsg5TP0gh0YHMrjHdET31/xcxEbG4u4uDhphElCQoJqa/Dk1yw6pn1tZAk21e3POrwnnngCzzzzDHbu3IkdO3bg7rvvxuLFixEVFYUFCxbg6quvxkMPPYS//vWvSE5Oht1up/WrFugAABsMSURBVOiRowIKICEB8Nxzz+Huu+/GY489hscffxx/+MMfsG7dOlx00UWIiorCCSecgOuvvx5bt27FRx99hKKiopBHSeQbC0SkaSxpCjZyI1975z2zUKy9EzMLx/sAHmt+nkiNT3Z0bCz56OrqQk1NzajRUtGBnZOTIw3zVrMDW1y3t+iNFdHzbm4IZg2e0kOeRxssPd7IlGDOwMAAampqsG/fPvzlL3/Btm3bsHHjRlx66aU466yzEBUVhSlTpuCkk07Cb37zGzQ2NrIhgxzVUAAJUYihoSHk5+fj/fffx8aNG3HFFVdg1qxZmDNnDq666ips3LgR77zzDjIzMwPeGTterZv3tobW1tZJa8Lo6elBS0sLKioqpMYFeZrTYrEgJydHSimONT9Pje0dowmI/H323jhSXFyM6upq1NTUSN3a4utE2l+IitLNF0qLXjCiNNYaPHkDxmgRYnkntxix4t1AIkb8KB3pHRwcRGtrKwwGA1577TU89NBDuOaaa7Bw4UJMnToV0dHRuOuuu/DUU0/hiy++QEVFBb755ht899130v1KSkrU/nVDyIShABISQr799ltUVFTg008/xbZt2/Cf//mfWLhwIaZPn45LLrkE69evx2uvvYbk5GQ4HA7Y7XaYTCbU19d7zAYbrZ5wMof4jicE8vo8cc1CBOUpxcTERI9ImRrXL2/Q8R7m62snr7/S5L3+Ljs722P9nZAj0WUaiIj5I3piXIkac//kNY8iFS4ixPHx8UhKSkJKSgoSExNHvWYl6wpF5NZsNuPdd9/Fb37zG9xwww047bTToNFocPrpp2P16tXYtm0bdu/ejdzcXAwODjJ9SyIGCiAhk8zhw4fR0NCAr7/+Gvfffz/OPvtszJgxA1OmTIFGo8H8+fPx6aefQqfTIS8vT/XNHd4f8MHW58k7U0XjhaiVS0hIQFZWljTUWamUr3yHsK/mkaSkJCnSFMrVcvLxI95z5uTpc5HWlDfphJvoBSOAer0eiYmJSEpK8tjyocQaPDGLMj8/H//4xz+wY8cO3H777Tj33HMxZcoUHH/88fjhD3+IjRs34q233kJaWhq6u7speiTioQASoiIfffQRtm7divfeew979+7Fp59+ij//+c+45557cM4550grnm6//XY8/fTT+Oqrr1BbWxvSdKIojK+urkZhYeGIpgal6/Pka+/kQ53FuBIRMbPb7aNKsDwt6b1VQewQDqfhzuKa7XY7ysvLpQ5h+ciSmJgYKeUsdseGg+jJO4m9N5X4SgH7ivAGsgavpaUF9fX1GBwcxMDAACoqKvDVV1/hueeew09+8hMsX74cM2bMwOzZs7FixQqsX78eL7/8MvR6PVpbW1mnR8goUAAJCWN6e3uRlpaG1157DevWrcOyZcswdepUnHTSSbjxxhvxu9/9Dp988glKSkoCEprxagqFeBQVFalSnyckQ0TMvLszTSYTzGYz0tLSYDQaJXFQYoae0sdXvZuvblP5mCCxorC4uNgjkiZffxeq7S5yQZXX+vmaJRjMruLxnlPMqszKyoJOp8M777wDjUaDBQsWSI0Yp556Km677TY8++yz+Ne//oXq6mocPHiQUT1CAoACSMhRxv79+5GTk4N3330XDz/8MFauXImZM2di3rx5+P73v4/NmzfjvffeQ3Z2Njo7O5Geno6MjAxV99sGerw3Pchn6MXExMBgMCAhIUGSqPj4eClSJrZkqDGqJBDRCzR1673+Tr7dZbz1d+NdtzxN7r2BRHT7hmqbiN1uR0pKCt566y1s3rwZq1atwsknnwyNRoOzzz4bP/rRj7Bt2zY888wzeOqpp7Bx40asWrUK+fn5av9TJOSohgJIyDHAwYMHUVpairfffhsrV67EiSeeiKlTp2LKlCmYMWMGHnjgAXz22WcwGAyoqqoKixTo/v3/N3dPPg7GO90s72z2NWpEPEZVVRXy8vJGiFFBQUFAa+/UFr1Ajq/RPPK6SrELuqGhAQ6Hw2Od31gjVpRejSfes+zsbPzP//wPtm/fjjVr1uDss8+GRqPBySefjFWrVuHRRx/Fu+++i4yMDPT19TGiR0gIoQAScgxx4MABPPzww3jttdcQFxeHlJQUfPHFF3j88cdx88034+STT8bUqVOxZMkS3H///di1axf0ej3a29tDJnniw19eVyhfiec9DkaJGXryvcAijSrS20lJScjOzpZGtIw2kiecRC/Q97uzsxOVlZVSo458bqG8trCsrAwdHR2Kjlhxu90oKSnBP//5T/zxj3/Ej3/8YyxZsgTTpk3DvHnzcOWVV+KXv/wlXnvtNSQmJsJms1H0CFEBCiAhEcThw4fR3t6O2NhYPP/887jrrrukKMzZZ5+NO++8E3/605+wd+9eqfA+kA9/7zElvuoKi4uLUVtbO+kr8cT1icHG3iNaUlNTkZ6eDrPZjJSUlFFFT6lIohJH3rAjZhGK99vXjt7Ozk6pCzsrK0tq3hApdPk4lvGkcGBgALW1tdBqtdi1axfWrl2Lyy67DHPmzMH06dOxfPly3H///XjxxRfx73//Gw0NDaPu5iaETD4UQEIIuru7kZycjFdffRU/+9nPsGTJEkyZMgWnnHIKVq9ejd///vf47LPPUF5ejv7+fhQWFkqrt/Ly8pCWluaxYi4c6wrlkUhfET29Xg+DwYD4+HjodDpp/Zu8tk6t1yFW88nXzYkIqvcu20Ajkb7W38XGxkpp4U8//RRbtmzBiy++iOeffx4PPfQQfvCDH+D444/HlClTcN555+HOO+/Ek08+ic8//xzl5eUYHh6m6BES5lAACSE+GRgYQFZWFl555RVcfvnlOP7446HRaDBt2jRERUVh3bp12LNnD5KTk1FbWxuyGXoTFT3vyJiojRPC5EtQRWNEQ0PDiLV3ohPX37V3gRz5iJXi4mKPFXnx8fFIT09HUVHRmCNWJvK+OZ1OZGRk4L333sMf/vAHPPLII7jzzjuxePFiLFiwABqNBrNnz8bSpUthMpkwMDBA0SPkKIUCSAgZk97eXtx///144YUXsGfPHvzrX//C+++/j0cffRQ/+MEPMHfuXMyaNQuXX345HnroIbz55pswm83o7u4Oe9EL9Mg7cXNycjzW3pnNZhQVFaGurm7cFKq8RtF7nZoYsVJQUOAxgkfJ962vrw8FBQX43//9XzzxxBO44447cP7552Pq1Kk47rjj8P3vfx+/+tWv8MYbbyA1NRVdXV04fPgwBgYGkJOTg48//ljtH0tCyAShABJCJsShQ4dQXV2NL774Ar///e9x44034sQTT0RUVBSWLVuGBx54AC+//DISEhJgs9mOCtELNGpns9lQU1MjzSyUp1CzsrKQm5uL3NxcZGVljRh4nJeXB6vVOmqX80TOwMAArFYrvv76a7zwwgu47777cNFFF2HmzJmYNWsWLr30Uqxbtw4vvfQSYmNj0dLSwsHJRxFvv/02Fi1ahJkzZ2LFihVIT08f8+uHh4fx1FNP4ayzzsKMGTNw7rnnYvfu3ZN0tSTcoACSsMFsNuP222+XdnX++9//Hvc+JpMJK1aswMyZM3HOOefg3XffnYQrJeNx+PBhtLS0QKvV4tlnn8Xtt9+OM844AxqNBueeey5+/OMf47nnnsO+ffvQ2NgoiV5zc3PYit54ktrd3S01mIjooKgljI2NlbZ86PV6pKeno6SkRLFhzuK9i4+Px6uvvooHH3wQV111lTQ8efHixbjnnnvwzDPP4Msvv0RVVRUHJx/l7NmzB9OnT8eHH34Iq9WKrVu3Yu7cuWhpaRn1PnfeeSeuuuoqJCUloampSfqjhEQmFEASNsTHx+Ppp5/G3r17/RLAxsZGzJkzB1u3boXVasWHH36I6dOn4+uvv56kKyaB0tXVBaPRiL/85S9YvXq1NPB3zpw5mD9/PmbPno29e/ciMTExbEXP5XJJG1Ty8vKQmpoqRfzEiBmx19d7IHVfXx/a2tpgtVrHXHs3WqexGPGSlpaGt99+G7/+9a9x/fXX45RTToFGo8GZZ56JNWvWYPv27fj4449RUFCA/fv3U/SOQa688kps2rTJ47YlS5bgiSee8Pn1BoMBCxcuhMvlmozLI0cBFEASlvgjgDt27MCSJUs8btu4cSOuvvrqUF4aUYgdO3bgRz/6EbZs2YInn3wSjz/+ODZs2IBLLrkE06ZNw/HHH49Vq1Zhy5Yt2L17NwoKCia1yUSMWPHVMZyYmAiLxeIxZDnYWXry9WdFRUUwm83S86xduxY//OEPcdNNN+GKK67AmWeeCY1GgxNPPBHXXXcdNm/ejLfffhvp6eno6emh6EUI33zzDaKiorBv3z6P27ds2YLrrrvO5302b96MG2+8EY8//ji+973vITo6Gtu3b8eBAwcm45JJGEIBJGGJPwJ47bXXYsuWLR637du3D9OmTcPBgwdDeXkkxAwPD6OgoAAffvghNm3ahKuuugqzZ8/G7NmzceWVV+KRRx7B22+/jczMzFEHOft7+vr6pBEr3kOqRdo5VMOexeDksrIy7NmzB8888wz+67/+CxdeeCFOO+00XHzxxbjmmmtw3nnn4YQTToBGo8GPfvQj1ulFOB0dHdBoNCPStzt37sTixYt93ueWW27BzJkzcdtttyE3Nxd6vR5nn302fvGLX0zGJZMwhAJIwhJ/BDA6Oho7d+70uC0rKwsajQY2mw1A4EXSn332GS6++GLMnj0bp556Kh588EF0d3dP7MUQRTh06BAqKyvx2Wef4Xe/+x2uv/56HHfccZg2bRouvvhirFu3Dq+++ioSExPR2dk5QrZEs4Z8xIpYmyYfsSJSsEqnnQcGBlBfX4+YmBjs2rUL69evx+WXX465c+di+vTpWLZsGX7605/ihRdewL59+1BXV4dDhw55RPX6+/vR2Nio4neBhANCAC0Wi8ftL774Ii644AKf91m9ejVmzZqFvr4+6ba9e/diypQpjAJGKBRAEpb4K4C7du3yuC0zMxMajQZ2uz3gIumMjAxMnToVb7zxBhobG5GRkYFly5bh7rvvVux1EWU5fPgwmpqasHfvXjz99NO49dZbceqpp0Kj0eCUU07B8uXLcdlll2Hp0qVSA4bZbJZGrLS3tyu+jWRwcBAdHR1ISkrC3/72N/zqV7/CtddeK0XwzjnnHNx+++14/PHH8dlnn6G0tBRDQ0NM3x7FBPqHpiAzMxNRUVG45JJLAnq+YFLAP//5z3Heeed53Ga1WqHRaFBbWxvQ85NjAwogCUuUSAEHWiT96quv4txzz/W47c0338QZZ5wRxCsganHHHXdg3rx5WLp0Ka644gqsXr0aV1xxBRYuXIjTTz8dt956K5588kl8+eWXqK6uDroDV3T+ZmVl4YMPPsDWrVtx8803S3V6p5xyCm644Qb89re/xQcffACLxQK3203RO8YIphsXAPr6+nDuuefi5ptvDlgAgSNNIJs3b/a4benSpaP+fnv//fcxe/ZsDAwMSLdptVpMnTqVEcAIhQJIwhJ/m0CWLl3qcdumTZtw9dVXB/UXclZWFmbMmAG9Xo/Dhw+js7MT1113HTZu3DixF0MmldEkq6+vDyaTCX/961+xfv16LF++HFFRUTjxxBNxww03YNu2bfj4449RXFzs0dAxODiI/v5+FBUV4bPPPsOTTz6Ju+66C4sXL0ZUVBQWLlyIa665Bg8//DD+9re/ISUlBZ2dnRS9CCHQPzQF9913H/74xz/i2WefDUoAhXju3r0bVqsV27Ztw9y5c9Hc3AwAeOKJJ7B+/Xrp6wcGBnDGGWfg3nvvRWVlJcxmM6Kjo/Hwww8H/Nzk2IACSMKGgYEBFBcXo7i4GBqNBq+//jqKi4ulv6S9f6GJMTCPPfYYrFYrdu/eLY2BCaZIGgD+9a9/Yd68eZg2bRo0Gg3uvPNOj4YSDl49tjhw4AByc3Px3nvv4Ve/+hVWrlyJWbNmYe7cubj00ktxwQUX4JJLLsGsWbMwc+ZMXHLJJXjggQewa9cuxMTEoKmpiQ0ZEUwwf2gCwEcffYSVK1fi22+/DVoAgSO/j84++2zMmDEDK1asgNlslv7bhg0bsGrVKo+vr6qqwk033YTZs2fjjDPOwO9+9ztG/yIYCiAJG9LS0qDRaEacDRs2APD9C81kMuGyyy7DjBkzsGjRImkQdDBF0pWVlTjttNPwyiuvoLS0FAkJCbjooovwy1/+EgAHr0YK3377LcrLy/Hmm2/ixhtvxJ49e1BZWYlvvvmGUT3iQTB/aNbW1uI//uM/UFNTAwATEkBCJgIFkByTBPOX+bp163Dvvfd63JaRkSF1FXPwKiFETqB/aB46dAgrV6702FhEASRqQQEkxyyBFknfc889+OlPf+pxm8VigUajQVNTEwevEhKmBFKasXfvXtx000046aSTMH/+fFx99dVISEgI6nkD/UOzt7cXGo0GUVFR0pkyZYp0W0pKSlDXQUgwUADJMUugRdIff/wxpk2bhnfeeQcNDQ3IzMzEypUrceWVV4Z08Opkj5Ag5Fgi0NKMrVu34uWXX0ZeXh5qa2vx5JNPYvr06SgqKgrq+QP5Q/O7775DeXm5x9m8eTMuuOAClJeXY3BwMKhrICQYKIDkmCbQIuk333wTF154IWbPno3TTjsNa9euRXt7e8gGr6o1QoKQY4Vgu3DlXHjhhXj++eeDev5A/9D0hilgohYUQEL8IFSDV9UaIUHIsUCwXbhyvvvuO5x55pl46623gr6OQP/QlMN/w0QtKICE+InSg1fVHiFByNFOsOOe5Lzyyis44YQT4HA4QnGJhIQtFEBC/ETpwascIUGOFQKtYzWZTFixYgVmzpyJc845x6MrNhCCKc2Q889//hNz5sxBUlJSUM9PyNEMBZCQAFBy8GooR0io1RVJIo9A61jFAPetW7fCarXiww8/lAa4B8pEUsB79uzB7NmzERcXF/DzEnIsQAEkRCVCNUJC7a5IElkEWse6Y8cOLFmyxOO2jRs34uqrrw76+QMpzQCORP5mzZo17rpJQo5lKICEqEgoRkio3RVJIodgInDXXnsttmzZ4nHbvn37MG3aNI+1i/4SaGnGP//5T0ybNg1vv/027Ha7dOTd+oREAhRAQlRE6RES4dIVSSKDYOpYo6OjsXPnTo/bsrKypI07wRBIacaqVavGXDlJSKRAASREZZQcIRHKrki1Cv1J+BJME0Z0dDR27drlcVtmZiY0Gg3sdnvIrpUQ4gkFkJBjiFB1RapZ6E/Cl3BIARNCgoMCSMgxRKi6ItUu9Cf+09PTg3Xr1mHBggVYsGAB1q1bh97e3lG//uDBg9ixYweWL1+OOXPm4LTTTsP69evR0dHh1/MF2oSxY8cOLF261OO2TZs28WeDkEmGAkjIMYbSXZGM8hxdrFmzBsuXL4fFYoHFYsHy5ctx++23j/r1fX19uOmmm/Dll1+iuroa2dnZuOqqq3D55Zf79XyB1rGK6PBjjz0Gq9WK3bt3MzpMiApQAAk5xlC6K3KyC/0nO4J1LCFWDebk5Ei3ZWdnQ6PRoLq62u/HycvLg0ajGXcntSDQOlaTyYTLLrsMM2bMwKJFi1gfSogKUAAJOQZRsitysgv9JzuCdSyxe/duLFy4cMTtCxcuxEcffeT34yQlJWHKlCno7+9X8vIIIWEEBZAQMiaTmQJWK4J1rLBz505ER0ePuN2XkI/G0NAQLr/8cqxdu1bpyyOEhBEUQELIuExWoT8jWL559tlnfUZp5Sc/P3/UtPz555+Pl156adznOXjwIO666y5cdtllx8x7RwjxDQWQEDIuk1XozwiWb5xOJ6qqqsY8Q0NDExLogwcP4u6778bFF1+M7u7uUL0UQkiYQAEkhPjFRAr9jzvuOEawJgGRQs/NzZVuy8nJGTeFLuRv2bJl6OrqmoxLJYSoDAWQEBJyGMGaPNasWYOLL74Y2dnZyM7OxkUXXTSiieaCCy6Qajq//fZb3HnnnTjjjDNQUlLi0Qn+zTffqPESCCGTAAWQEBI2MII1cVwuF9auXYv58+dj/vz5WLt27YgxOhqNBh9//DEAoKmpadSobFpa2uS/AELIpEABJISEFYxgEUJI6KEAEkLCCkawCCEk9FAACSGEEEIiDAogIYQQQkiEQQEkhBBCCIkwKICEEEIIIREGBZAQQgghJMKgABJCCCGERBgUQEIIIYSQCIMCSAghhBASYVAACSGEEEIiDAogIYQQQkiEQQEkhBBCCIkwKICEEEIIIREGBZAQQgghJMKgABJCCCGERBgUQEIIIYSQCIMCSAghhBASYVAACSGEEEIiDAogIYQQQkiEQQEkhBBCCIkwKICEEEIIIREGBZAQQgghJMKgABJCCCGERBgUQEIIIYSQCIMCSAghhBASYVAACSGEEEIiDAogIYQQQkiEQQEkhBBCCIkwKICEEEIIIREGBZAQQgghJMKgABJCCCGERBgUQEIIIYSQCIMCSAghhBASYVAACSGEEEIiDAogIYQQQkiEQQEkhBBCCIkwKICEEEIIIREGBZAQQgghJMKgABJCCCGERBgUQEIIIYSQCIMCSAghhBASYVAACSGEEEIiDAogIYQQQkiEQQEkhBBCCIkwKICEEEIIIREGBZAQQgghJMKgABJCCCGERBgUQEIIIYSQCIMCSAghhBASYVAACSGEEEIiDAogIYQQQkiEQQEkhBBCCIkwKICEEEIIIREGBZAQQgghJMKgABJCCCGERBgUQEIIIYSQCIMCSAghhBASYVAACSGEEEIiDAogIYQQQkiEQQEkhBBCCIkwKICEEEIIIREGBZAQQgghJMKgABJCCCGERBgUQEIIIYSQCIMCSAghhBASYVAACSGEEEIiDAogIYQQQkiEQQEkhBBCCIkwKICEEEIIIREGBZAQQgghJMKgABJCCCGERBgUQEIIIYSQCIMCSAghhBASYVAACSGEEEIiDAogIYQQQkiEQQEkhBBCCIkwKICEEEIIIREGBZAQQgghJMKgABJCCCGERBgUQEIIIYSQCIMCSAghhBASYVAACSGEEEIiDAogIYQQQkiEQQEkhBBCCIkwKICEEEIIIREGBZAQQgghJMKgABJCCCGERBgUQEIIIYSQCIMCSAghhBASYVAACSGEEEIiDAogIYQQQkiEQQEkhBBCCIkwKICEEEIIIREGBZAQQgghJMKgABJCCCGERBgUQEIIIYSQCIMCSAghhBASYVAACSGEEEIiDAogIYQQQkiE8f8AL8AOXN5uZzgAAAAASUVORK5CYII=\" width=\"640\">"
      ],
      "text/plain": [
       "<IPython.core.display.HTML object>"
      ]
     },
     "metadata": {},
     "output_type": "display_data"
    }
   ],
   "source": [
    "%matplotlib notebook\n",
    "\n",
    "import matplotlib.pyplot as plt\n",
    "from mpl_toolkits.mplot3d import Axes3D\n",
    "fig = plt.figure()\n",
    "ax = fig.add_subplot(111, projection='3d')\n",
    "\n",
    "for ind, atom_coor in enumerate([*active_H2O, *env_H2O]):\n",
    "    atom, coor = atom_coor\n",
    "    if ind<len(active_H2O):\n",
    "        ax.scatter(*coor, marker='o', color='green', label=f'active: {atom}')\n",
    "    else:\n",
    "        ax.scatter(*coor, marker='o', color='red', label=f'env: {atom}')\n",
    "plt.legend()\n",
    "plt.show()\n"
   ]
  },
  {
   "cell_type": "code",
   "execution_count": null,
   "metadata": {},
   "outputs": [],
   "source": []
  },
  {
   "cell_type": "code",
   "execution_count": 191,
   "metadata": {},
   "outputs": [],
   "source": [
    "basis_high_level='sto-3g'\n",
    "basis_low_level='sto-3g'\n",
    "\n",
    "low_level = 'b3lyp'#'lda,vwn'\n",
    "high_level = 'UCCSD'\n",
    "\n",
    "low_level_method='RSK'\n",
    "\n",
    "low_level_reference = 'RSK' # DFT\n",
    "high_level_reference = 'RHF' # for CC"
   ]
  },
  {
   "cell_type": "code",
   "execution_count": 192,
   "metadata": {},
   "outputs": [
    {
     "name": "stdout",
     "output_type": "stream",
     "text": [
      "[('O', (0, 0, 0)), ('H', (0.2774, 0.8929, 0.2544)), ('H', (0.6068, -0.2383, -0.7169))]\n",
      "\n"
     ]
    },
    {
     "data": {
      "text/plain": [
       "<pyscf.gto.mole.Mole at 0x7f17f5761610>"
      ]
     },
     "execution_count": 192,
     "metadata": {},
     "output_type": "execute_result"
    }
   ],
   "source": [
    "high_level_system = gto.Mole(atom=active_H2O,\n",
    "               basis=basis_high_level,\n",
    "               charge=0,\n",
    "               spin=0)\n",
    "\n",
    "print(high_level_system.atom)\n",
    "print('')\n",
    "high_level_system.build()"
   ]
  },
  {
   "cell_type": "code",
   "execution_count": 193,
   "metadata": {},
   "outputs": [
    {
     "name": "stdout",
     "output_type": "stream",
     "text": [
      "[('O', array([0.2774, 0.8929, 1.    ])), ('H', array([0.    , 0.    , 0.7456])), ('H', array([-0.3294,  1.1312,  1.7169]))]\n",
      "\n"
     ]
    },
    {
     "data": {
      "text/plain": [
       "<pyscf.gto.mole.Mole at 0x7f17f4a0e3d0>"
      ]
     },
     "execution_count": 193,
     "metadata": {},
     "output_type": "execute_result"
    }
   ],
   "source": [
    "low_level_system = gto.Mole(atom=env_H2O,\n",
    "               basis=basis_low_level,\n",
    "               charge=0,\n",
    "               spin=0)\n",
    "\n",
    "print(low_level_system.atom)\n",
    "print('')\n",
    "low_level_system.build()"
   ]
  },
  {
   "cell_type": "code",
   "execution_count": null,
   "metadata": {},
   "outputs": [],
   "source": []
  },
  {
   "cell_type": "code",
   "execution_count": 194,
   "metadata": {},
   "outputs": [],
   "source": [
    "full_system_mol = gto.mole.conc_mol(high_level_system, low_level_system)"
   ]
  },
  {
   "cell_type": "code",
   "execution_count": 195,
   "metadata": {},
   "outputs": [],
   "source": [
    "n_active_atoms = high_level_system.aoslice_by_atom().shape[0]"
   ]
  },
  {
   "cell_type": "code",
   "execution_count": null,
   "metadata": {},
   "outputs": [],
   "source": []
  },
  {
   "cell_type": "code",
   "execution_count": 196,
   "metadata": {},
   "outputs": [
    {
     "name": "stdout",
     "output_type": "stream",
     "text": [
      "converged SCF energy = -148.606263695853\n"
     ]
    }
   ],
   "source": [
    "low_level_full_sys = full_system_mol.copy()\n",
    "\n",
    "if low_level_method.lower()=='rsk':\n",
    "    scf_full_sys_low_levl = scf.RKS(low_level_full_sys)\n",
    "    scf_full_sys_low_levl.kernel()\n",
    "    \n",
    "    v_xc_total = scf_full_sys_low_levl.get_veff()\n",
    "    e_xc_total = v_xc_total.exc\n",
    "else:\n",
    "    raise ValueError(f'currently only RKS implemented not: {low_level_method}')\n",
    "    \n",
    "double_occ = (scf_full_sys_low_levl.mo_occ == 2).sum()\n",
    "low_level_orbitals_occupied = scf_full_sys_low_levl.mo_coeff[:, :double_occ]\n",
    "\n",
    "J_mat_low, K_mat_low = scf_full_sys_low_levl.get_jk()\n",
    "V_xc_low_mat = v_xc_total - J_mat_low\n",
    "h_core_low_mat = scf_full_sys_low_levl.get_hcore()\n",
    "\n",
    "full_sys_ao_overlap = scf_full_sys_low_levl.get_ovlp()"
   ]
  },
  {
   "cell_type": "code",
   "execution_count": 197,
   "metadata": {},
   "outputs": [],
   "source": [
    "### partition into subsystems!\n",
    "import scipy as sp\n",
    "\n",
    "n_active_aos = high_level_system.nao\n",
    "\n",
    "s_half = sp.linalg.fractional_matrix_power(full_sys_ao_overlap, 0.5)\n",
    "\n",
    "orthogonal_orbitals = np.dot(s_half, low_level_orbitals_occupied)[:n_active_aos, :]\n",
    "\n",
    "u, s, v = np.linalg.svd(orthogonal_orbitals, full_matrices=True)\n",
    "rotation_matrix = v\n",
    "singular_values = s"
   ]
  },
  {
   "cell_type": "code",
   "execution_count": 198,
   "metadata": {},
   "outputs": [
    {
     "data": {
      "text/plain": [
       "6"
      ]
     },
     "execution_count": 198,
     "metadata": {},
     "output_type": "execute_result"
    }
   ],
   "source": [
    "full_system_mol.aoslice_by_atom().shape[0]"
   ]
  },
  {
   "cell_type": "code",
   "execution_count": 204,
   "metadata": {},
   "outputs": [],
   "source": [
    "delta_singlue_vals = [-(singular_values[i+1] - singular_values[i]) for i in range(len(singular_values) - 1)] # diff of i and i+1\n",
    "\n",
    "\n",
    "## argpartition(input_array, given_ind)\n",
    "## only re-orders the input_array[given_ind] of the array!\n",
    "## everything else kept the SAME\n",
    "## smaller than input_array[given_ind] before the input_array[given_ind] val\n",
    "## then everything after val\n",
    "n_act_mos = np.argpartition(delta_singlue_vals, -1)[-1] + 1\n",
    "# n_act_mos = np.where(delta_singlue_vals == np.max(delta_singlue_vals))[0][0]+1\n",
    "n_env_mos = len(singular_values) - n_act_mos"
   ]
  },
  {
   "cell_type": "code",
   "execution_count": null,
   "metadata": {},
   "outputs": [],
   "source": []
  },
  {
   "cell_type": "code",
   "execution_count": 205,
   "metadata": {},
   "outputs": [],
   "source": [
    "# get active and env electron densities\n",
    "\n",
    "act_orbitals = low_level_orbitals_occupied @ rotation_matrix.T[:, :n_act_mos]\n",
    "env_orbitals = low_level_orbitals_occupied @ rotation_matrix.T[:, n_act_mos:]\n",
    "act_density = 2.0 * act_orbitals @ act_orbitals.T\n",
    "env_density = 2.0 * env_orbitals @ env_orbitals.T"
   ]
  },
  {
   "cell_type": "code",
   "execution_count": null,
   "metadata": {},
   "outputs": [],
   "source": []
  },
  {
   "cell_type": "code",
   "execution_count": 206,
   "metadata": {},
   "outputs": [
    {
     "data": {
      "text/plain": [
       "-122.90555872272922"
      ]
     },
     "execution_count": 206,
     "metadata": {},
     "output_type": "execute_result"
    }
   ],
   "source": [
    "J_env_low = scf_full_sys_low_levl.get_j(dm = env_density)\n",
    "K_env_low = np.zeros_like(J_env_low) # k matrix contained in J_env_low!\n",
    "two_elec_env_term_low= scf_full_sys_low_levl.get_veff(dm = env_density)\n",
    "e_xc_env_low = two_elec_env_term_low.exc\n",
    "v_xc_env_low = two_elec_env_term_low - J_env_low\n",
    "\n",
    "Energy_env_low = np.trace(env_density.dot(h_core_low_mat + J_env_low/2)) + e_xc_env_low\n",
    "Energy_env_low"
   ]
  },
  {
   "cell_type": "code",
   "execution_count": null,
   "metadata": {},
   "outputs": [],
   "source": []
  },
  {
   "cell_type": "code",
   "execution_count": 207,
   "metadata": {},
   "outputs": [
    {
     "data": {
      "text/plain": [
       "-152.42819226611795"
      ]
     },
     "execution_count": 207,
     "metadata": {},
     "output_type": "execute_result"
    }
   ],
   "source": [
    "J_act_low = scf_full_sys_low_levl.get_j(dm = act_density)\n",
    "K_act_low = np.zeros_like(J_act_low) # k matrix contained in J_env_low!\n",
    "two_elec_act_term_low= scf_full_sys_low_levl.get_veff(dm = act_density)\n",
    "e_xc_act_low = two_elec_act_term_low.exc\n",
    "v_xc_act_low = two_elec_act_term_low - J_act_low\n",
    "\n",
    "Energy_act_low = np.trace(env_density.dot(h_core_low_mat + J_act_low/2)) + e_xc_act_low\n",
    "Energy_act_low"
   ]
  },
  {
   "cell_type": "code",
   "execution_count": null,
   "metadata": {},
   "outputs": [],
   "source": []
  },
  {
   "cell_type": "code",
   "execution_count": 208,
   "metadata": {},
   "outputs": [
    {
     "name": "stdout",
     "output_type": "stream",
     "text": [
      "37.534229827621786\n"
     ]
    }
   ],
   "source": [
    "# Computing cross subsystem terms\n",
    "j_cross = 0.5 * (np.trace(act_density@J_env_low) + np.trace(env_density@J_act_low))\n",
    "k_cross = np.zeros_like(j_cross)\n",
    "\n",
    "xc_cross =e_xc_total - e_xc_act_low - e_xc_env_low # full_system - active - env\n",
    "\n",
    "two_e_cross = j_cross + k_cross + xc_cross\n",
    "print(two_e_cross)"
   ]
  },
  {
   "cell_type": "code",
   "execution_count": null,
   "metadata": {},
   "outputs": [],
   "source": []
  },
  {
   "cell_type": "code",
   "execution_count": 209,
   "metadata": {},
   "outputs": [
    {
     "name": "stdout",
     "output_type": "stream",
     "text": [
      "[[ 1.18052521e-02  9.25980255e-02 -7.79274451e-03  4.16395572e-02\n",
      "   1.21110244e-01  1.28896395e-01  6.61631398e-02  1.63802640e-04\n",
      "   2.19613367e-01 -1.12856336e-01 -3.54113255e-01 -4.00374635e-02\n",
      "   2.76344080e-01  4.43636085e-02]\n",
      " [ 9.25980255e-02  3.35890105e-01  8.01651487e-03  1.49551762e-01\n",
      "   3.96844530e-01  6.74377029e-01  1.63891313e-01  8.44522205e-01\n",
      "   9.59333261e-01 -2.54169313e-01 -6.43427336e-01 -3.33327026e-01\n",
      "   7.96191988e-01  2.07148019e-01]\n",
      " [-7.79274451e-03  8.01651487e-03  1.41689260e-02 -6.32137657e-03\n",
      "   2.77554319e-02  1.24011557e-01  1.90934298e-02  2.70471960e-01\n",
      "   1.76734740e-01  1.63411644e-01 -8.47940339e-02 -1.11757795e-01\n",
      "   6.64300979e-02 -8.90571786e-02]\n",
      " [ 4.16395572e-02  1.49551762e-01 -6.32137657e-03  6.20156540e-02\n",
      "   1.96538291e-01  5.62318915e-01  7.62866783e-02  8.81873001e-01\n",
      "   6.90794868e-01 -1.33114422e-01 -6.88426025e-02 -4.35384358e-01\n",
      "   3.54789863e-01  8.70227192e-02]\n",
      " [ 1.21110244e-01  3.96844530e-01  2.77554319e-02  1.96538291e-01\n",
      "   4.35000301e-01  7.60845504e-01  1.55873775e-01  1.34520301e+00\n",
      "   1.16378373e+00 -2.10451456e-01 -6.12300907e-01 -2.45355528e-01\n",
      "   8.76962180e-01  3.37347196e-01]\n",
      " [ 1.28896395e-01  6.74377029e-01  1.24011557e-01  5.62318915e-01\n",
      "   7.60845504e-01  2.52549159e+00  2.48188295e-01  6.84334805e+00\n",
      "   3.91232939e+00 -2.05556459e-01 -1.72243061e-01 -9.48084349e-01\n",
      "   1.63530648e+00  1.12462040e+00]\n",
      " [ 6.61631398e-02  1.63891313e-01  1.90934298e-02  7.62866783e-02\n",
      "   1.55873775e-01  2.48188295e-01  3.92674955e-02  2.88581723e-01\n",
      "   3.23917172e-01 -1.25430152e-02 -1.58852412e-01 -8.65107252e-02\n",
      "   2.78967323e-01  9.04650770e-02]\n",
      " [ 1.63802640e-04  8.44522205e-01  2.70471960e-01  8.81873001e-01\n",
      "   1.34520301e+00  6.84334805e+00  2.88581723e-01  7.28390008e+01\n",
      "   1.88959788e+01 -4.40958006e-02  4.72961084e-02  8.18832766e-02\n",
      "   4.12901424e+00  4.18652251e+00]\n",
      " [ 2.19613367e-01  9.59333261e-01  1.76734740e-01  6.90794868e-01\n",
      "   1.16378373e+00  3.91232939e+00  3.23917172e-01  1.88959788e+01\n",
      "   7.92751116e+00 -4.47566345e-01 -1.22883178e-01 -2.54739462e-01\n",
      "   2.80922035e+00  2.80362769e+00]\n",
      " [-1.12856336e-01 -2.54169313e-01  1.63411644e-01 -1.33114422e-01\n",
      "  -2.10451456e-01 -2.05556459e-01 -1.25430152e-02 -4.40958006e-02\n",
      "  -4.47566345e-01  7.24807772e-01  6.31893588e-02 -2.74714261e-01\n",
      "  -4.55553768e-01 -7.03853104e-01]\n",
      " [-3.54113255e-01 -6.43427336e-01 -8.47940339e-02 -6.88426025e-02\n",
      "  -6.12300907e-01 -1.72243061e-01 -1.58852412e-01  4.72961084e-02\n",
      "  -1.22883178e-01  6.31893588e-02  1.07089000e+00  1.08302596e-01\n",
      "  -9.29621457e-01  1.57730853e-01]\n",
      " [-4.00374635e-02 -3.33327026e-01 -1.11757795e-01 -4.35384358e-01\n",
      "  -2.45355528e-01 -9.48084349e-01 -8.65107252e-02  8.18832766e-02\n",
      "  -2.54739462e-01 -2.74714261e-01  1.08302596e-01  1.40254521e+00\n",
      "  -2.48612246e-01  6.99245873e-01]\n",
      " [ 2.76344080e-01  7.96191988e-01  6.64300979e-02  3.54789863e-01\n",
      "   8.76962180e-01  1.63530648e+00  2.78967323e-01  4.12901424e+00\n",
      "   2.80922035e+00 -4.55553768e-01 -9.29621457e-01 -2.48612246e-01\n",
      "   1.79318398e+00  1.05049871e+00]\n",
      " [ 4.43636085e-02  2.07148019e-01 -8.90571786e-02  8.70227192e-02\n",
      "   3.37347196e-01  1.12462040e+00  9.04650770e-02  4.18652251e+00\n",
      "   2.80362769e+00 -7.03853104e-01  1.57730853e-01  6.99245873e-01\n",
      "   1.05049871e+00  1.86849456e+00]]\n"
     ]
    }
   ],
   "source": [
    "# Defining the embedded core Hamiltonian\n",
    "\n",
    "# mu = 1e6\n",
    "# projector_level_shift = mu *  (full_sys_ao_overlap @ env_density @ full_sys_ao_overlap)\n",
    "# print(projector_level_shift)\n",
    "\n",
    "F_yammaB_S = scf_full_sys_low_levl.get_fock() @ env_density @ full_sys_ao_overlap \n",
    "projector_huzinaga = -1* (F_yammaB_S + F_yammaB_S.transpose())\n",
    "print(projector_huzinaga)"
   ]
  },
  {
   "cell_type": "code",
   "execution_count": null,
   "metadata": {},
   "outputs": [],
   "source": []
  },
  {
   "cell_type": "code",
   "execution_count": 210,
   "metadata": {},
   "outputs": [],
   "source": [
    "# h_core_emb = h_core + embedding_potential + projector\n",
    "\n",
    "v_emb = J_env_low + v_xc_total -v_xc_act_low +projector_huzinaga  # embedding_potential J_env + g_full - g_act + Projector"
   ]
  },
  {
   "cell_type": "code",
   "execution_count": null,
   "metadata": {},
   "outputs": [],
   "source": []
  },
  {
   "cell_type": "code",
   "execution_count": 276,
   "metadata": {},
   "outputs": [
    {
     "name": "stdout",
     "output_type": "stream",
     "text": [
      "converged SCF energy = 96.3810953942559\n"
     ]
    }
   ],
   "source": [
    "# run mean field HIGH LEVEL with embedded H\n",
    "\n",
    "high_level_full_sys_HF_reference = full_system_mol.copy()\n",
    "high_level_full_sys_HF_reference.nelectron= 2*n_act_mos\n",
    "\n",
    "high_level_full_sys_HF_reference_SCF_EMBEDDED = scf.RHF(high_level_full_sys_HF_reference)\n",
    "high_level_full_sys_HF_reference_SCF_EMBEDDED.get_hcore = lambda *args: v_emb + scf.hf.get_hcore(high_level_full_sys_HF_reference)# <-modified \n",
    "# high_level_full_sys_HF_reference_SCF_EMBEDDED.get_hcore = lambda *args:  -v_xc_act_low +projector_huzinaga + scf.hf.get_hcore(high_level_full_sys_HF_reference)# <-modified \n",
    "high_level_full_sys_HF_reference_SCF_EMBEDDED.kernel()\n",
    "\n",
    "\n",
    "d_occ_high = (high_level_full_sys_HF_reference_SCF_EMBEDDED.mo_occ == 2).sum()\n",
    "occupied_orbitals_high_ref = high_level_full_sys_HF_reference_SCF_EMBEDDED.mo_coeff[:, :d_occ_high]\n",
    "J_mat_high_ref_EMBEDDED, K_mat_high_ref_EMBEDDED = high_level_full_sys_HF_reference_SCF_EMBEDDED.get_jk() \n",
    "v_xc_total_high_ref_EMBEDDED = high_level_full_sys_HF_reference_SCF_EMBEDDED.get_veff() - J_mat_high_ref_EMBEDDED\n",
    "full_sys_ao_overlap_EMBEDDED = high_level_full_sys_HF_reference_SCF_EMBEDDED.get_ovlp()"
   ]
  },
  {
   "cell_type": "code",
   "execution_count": 258,
   "metadata": {},
   "outputs": [
    {
     "name": "stdout",
     "output_type": "stream",
     "text": [
      "20\n",
      "converged SCF energy = -122.79439723992\n",
      "10\n"
     ]
    }
   ],
   "source": [
    "print(full_system_mol.nelectron)\n",
    "print(high_level_full_sys_HF_reference.mol.nelectron)"
   ]
  },
  {
   "cell_type": "code",
   "execution_count": 259,
   "metadata": {},
   "outputs": [],
   "source": [
    "density_emb = 2.0 * occupied_orbitals_high_ref @ occupied_orbitals_high_ref.T"
   ]
  },
  {
   "cell_type": "code",
   "execution_count": 260,
   "metadata": {},
   "outputs": [
    {
     "data": {
      "text/plain": [
       "-134.924815816921"
      ]
     },
     "execution_count": 260,
     "metadata": {},
     "output_type": "execute_result"
    }
   ],
   "source": [
    "Energy_act_emb = np.trace(np.dot(density_emb, h_core_low_mat + 0.5 * J_mat_high_ref_EMBEDDED - 0.25 * K_mat_high_ref_EMBEDDED))\n",
    "Energy_act_emb"
   ]
  },
  {
   "cell_type": "code",
   "execution_count": 261,
   "metadata": {},
   "outputs": [
    {
     "data": {
      "text/plain": [
       "32.472909461851195"
      ]
     },
     "execution_count": 261,
     "metadata": {},
     "output_type": "execute_result"
    }
   ],
   "source": [
    "correction = np.trace(np.dot(v_emb, density_emb - act_density))\n",
    "correction"
   ]
  },
  {
   "cell_type": "code",
   "execution_count": 262,
   "metadata": {},
   "outputs": [
    {
     "data": {
      "text/plain": [
       "-145.65598777739018"
      ]
     },
     "execution_count": 262,
     "metadata": {},
     "output_type": "execute_result"
    }
   ],
   "source": [
    "Energy_mf_emb = Energy_act_low + Energy_env_low + two_e_cross +high_level_full_sys_HF_reference_SCF_EMBEDDED.energy_nuc() + correction\n",
    "\n",
    "Energy_mf_emb"
   ]
  },
  {
   "cell_type": "code",
   "execution_count": 263,
   "metadata": {},
   "outputs": [
    {
     "name": "stdout",
     "output_type": "stream",
     "text": [
      "E(CCSD) = -63.98297051133521  E_corr = -0.1073621576220237\n"
     ]
    }
   ],
   "source": [
    "# --- Post HF embedded calculation ---\n",
    "\n",
    "## freeze projected orbitals!\n",
    "total_nao = full_system_mol.nao\n",
    "shift = total_nao - n_env_mos\n",
    "frozen_orbitals = list(range(shift, total_nao))\n",
    "# frozen_orbitals = list(range(n_act_mos,total_nao))\n",
    "\n",
    "embedded_wf = cc.CCSD(high_level_full_sys_HF_reference_SCF_EMBEDDED).set(frozen = frozen_orbitals).run()"
   ]
  },
  {
   "cell_type": "code",
   "execution_count": 264,
   "metadata": {},
   "outputs": [
    {
     "data": {
      "text/plain": [
       "[12, 13]"
      ]
     },
     "execution_count": 264,
     "metadata": {},
     "output_type": "execute_result"
    }
   ],
   "source": [
    "frozen_orbitals"
   ]
  },
  {
   "cell_type": "code",
   "execution_count": 265,
   "metadata": {},
   "outputs": [],
   "source": [
    "correlation_energy = embedded_wf.e_corr"
   ]
  },
  {
   "cell_type": "code",
   "execution_count": 266,
   "metadata": {},
   "outputs": [
    {
     "data": {
      "text/plain": [
       "-145.7633499350122"
      ]
     },
     "execution_count": 266,
     "metadata": {},
     "output_type": "execute_result"
    }
   ],
   "source": [
    "e_total = Energy_mf_emb + correlation_energy\n",
    "e_total"
   ]
  },
  {
   "cell_type": "code",
   "execution_count": 267,
   "metadata": {},
   "outputs": [
    {
     "data": {
      "text/plain": [
       "14"
      ]
     },
     "execution_count": 267,
     "metadata": {},
     "output_type": "execute_result"
    }
   ],
   "source": [
    "full_system_mol.nao"
   ]
  },
  {
   "cell_type": "code",
   "execution_count": 268,
   "metadata": {},
   "outputs": [
    {
     "name": "stdout",
     "output_type": "stream",
     "text": [
      "converged SCF energy = -148.962385543432\n"
     ]
    },
    {
     "data": {
      "text/plain": [
       "(-149.05507515840674,\n",
       " array([[-9.74701440e-01,  3.84494644e-02, -5.48763733e-15, ...,\n",
       "          1.12728417e-21, -2.61987902e-09, -2.86598692e-10],\n",
       "        [ 3.84494644e-02,  5.81599287e-02, -8.07039000e-15, ...,\n",
       "          5.33690613e-21, -3.38883780e-10, -1.41034440e-09],\n",
       "        [-5.48763733e-15, -8.07039000e-15,  1.50902918e-02, ...,\n",
       "          4.95535156e-09,  6.85874898e-22,  2.70454929e-22],\n",
       "        ...,\n",
       "        [ 1.12728417e-21,  5.33690613e-21,  4.95535156e-09, ...,\n",
       "         -3.38063188e-10, -1.99863101e-24,  1.33285577e-24],\n",
       "        [-2.61987902e-09, -3.38883780e-10,  6.85874898e-22, ...,\n",
       "         -1.99863101e-24, -2.17590533e-10, -4.95690075e-11],\n",
       "        [-2.86598692e-10, -1.41034440e-09,  2.70454929e-22, ...,\n",
       "          1.33285577e-24, -4.95690075e-11, -2.43489576e-09]]))"
      ]
     },
     "execution_count": 268,
     "metadata": {},
     "output_type": "execute_result"
    }
   ],
   "source": [
    "myhf = scf.RHF(full_system_mol)\n",
    "myhf.kernel()\n",
    "cisolver = fci.FCI(full_system_mol, myhf.mo_coeff)\n",
    "cisolver.kernel()"
   ]
  },
  {
   "cell_type": "code",
   "execution_count": 269,
   "metadata": {},
   "outputs": [
    {
     "name": "stdout",
     "output_type": "stream",
     "text": [
      "low level: -148.6062636958525\n",
      "WF_in_DFT = -145.7633499350122\n",
      "FCI = -149.05507515840674\n"
     ]
    }
   ],
   "source": [
    "print('low level:', scf_full_sys_low_levl.e_tot)\n",
    "\n",
    "print('WF_in_DFT =', e_total)\n",
    "\n",
    "print('FCI =', cisolver.e_tot)"
   ]
  },
  {
   "cell_type": "code",
   "execution_count": null,
   "metadata": {},
   "outputs": [],
   "source": []
  },
  {
   "cell_type": "code",
   "execution_count": 270,
   "metadata": {},
   "outputs": [],
   "source": [
    "from openfermionpyscf._run_pyscf import compute_integrals\n",
    "\n",
    "one_electron_integrals, two_electron_integrals = compute_integrals(high_level_full_sys_HF_reference, \n",
    "                                                                   high_level_full_sys_HF_reference_SCF_EMBEDDED)"
   ]
  },
  {
   "cell_type": "code",
   "execution_count": 271,
   "metadata": {},
   "outputs": [],
   "source": [
    "import openfermion.ops.representations as reps\n",
    "active_orbitals = list(range(shift))\n",
    "\n",
    "occupied_indices = np.where(high_level_full_sys_HF_reference_SCF_EMBEDDED.mo_occ==2)[0]\n",
    "\n",
    "core_adjustment, one_body_integrals, two_body_integrals = reps.get_active_space_integrals(\n",
    "                                            one_electron_integrals,\n",
    "                                               two_electron_integrals,\n",
    "                                               occupied_indices, active_orbitals)\n",
    "\n",
    "constant = high_level_full_sys_HF_reference_SCF_EMBEDDED.energy_nuc() + core_adjustment"
   ]
  },
  {
   "cell_type": "code",
   "execution_count": 274,
   "metadata": {},
   "outputs": [],
   "source": [
    "from openfermion.chem.molecular_data import spinorb_from_spatial\n",
    "\n",
    "one_body_coefficients, two_body_coefficients = spinorb_from_spatial(\n",
    "            one_body_integrals, two_body_integrals)\n",
    "\n",
    "molecular_hamiltonian = reps.InteractionOperator(\n",
    "            constant, one_body_coefficients, 1 / 2 * two_body_coefficients)"
   ]
  },
  {
   "cell_type": "code",
   "execution_count": 275,
   "metadata": {},
   "outputs": [
    {
     "ename": "KeyboardInterrupt",
     "evalue": "",
     "output_type": "error",
     "traceback": [
      "\u001b[0;31m---------------------------------------------------------------------------\u001b[0m",
      "\u001b[0;31mKeyboardInterrupt\u001b[0m                         Traceback (most recent call last)",
      "\u001b[0;32m<ipython-input-275-0d12cc8a5414>\u001b[0m in \u001b[0;36m<module>\u001b[0;34m\u001b[0m\n\u001b[1;32m      1\u001b[0m \u001b[0;32mfrom\u001b[0m \u001b[0mopenfermion\u001b[0m \u001b[0;32mimport\u001b[0m \u001b[0mget_sparse_operator\u001b[0m\u001b[0;34m\u001b[0m\u001b[0;34m\u001b[0m\u001b[0m\n\u001b[1;32m      2\u001b[0m \u001b[0;34m\u001b[0m\u001b[0m\n\u001b[0;32m----> 3\u001b[0;31m \u001b[0mH\u001b[0m \u001b[0;34m=\u001b[0m \u001b[0mget_sparse_operator\u001b[0m\u001b[0;34m(\u001b[0m\u001b[0mmolecular_hamiltonian\u001b[0m\u001b[0;34m)\u001b[0m\u001b[0;34m\u001b[0m\u001b[0;34m\u001b[0m\u001b[0m\n\u001b[0m",
      "\u001b[0;32m~/.local/lib/python3.8/site-packages/openfermion/linalg/sparse_tools.py\u001b[0m in \u001b[0;36mget_sparse_operator\u001b[0;34m(operator, n_qubits, trunc, hbar)\u001b[0m\n\u001b[1;32m   1254\u001b[0m     \u001b[0;32mfrom\u001b[0m \u001b[0mopenfermion\u001b[0m\u001b[0;34m.\u001b[0m\u001b[0mtransforms\u001b[0m\u001b[0;34m.\u001b[0m\u001b[0mopconversions\u001b[0m \u001b[0;32mimport\u001b[0m \u001b[0mget_fermion_operator\u001b[0m\u001b[0;34m\u001b[0m\u001b[0;34m\u001b[0m\u001b[0m\n\u001b[1;32m   1255\u001b[0m     \u001b[0;32mif\u001b[0m \u001b[0misinstance\u001b[0m\u001b[0;34m(\u001b[0m\u001b[0moperator\u001b[0m\u001b[0;34m,\u001b[0m \u001b[0;34m(\u001b[0m\u001b[0mDiagonalCoulombHamiltonian\u001b[0m\u001b[0;34m,\u001b[0m \u001b[0mPolynomialTensor\u001b[0m\u001b[0;34m)\u001b[0m\u001b[0;34m)\u001b[0m\u001b[0;34m:\u001b[0m\u001b[0;34m\u001b[0m\u001b[0;34m\u001b[0m\u001b[0m\n\u001b[0;32m-> 1256\u001b[0;31m         \u001b[0;32mreturn\u001b[0m \u001b[0mjordan_wigner_sparse\u001b[0m\u001b[0;34m(\u001b[0m\u001b[0mget_fermion_operator\u001b[0m\u001b[0;34m(\u001b[0m\u001b[0moperator\u001b[0m\u001b[0;34m)\u001b[0m\u001b[0;34m)\u001b[0m\u001b[0;34m\u001b[0m\u001b[0;34m\u001b[0m\u001b[0m\n\u001b[0m\u001b[1;32m   1257\u001b[0m     \u001b[0;32melif\u001b[0m \u001b[0misinstance\u001b[0m\u001b[0;34m(\u001b[0m\u001b[0moperator\u001b[0m\u001b[0;34m,\u001b[0m \u001b[0mFermionOperator\u001b[0m\u001b[0;34m)\u001b[0m\u001b[0;34m:\u001b[0m\u001b[0;34m\u001b[0m\u001b[0;34m\u001b[0m\u001b[0m\n\u001b[1;32m   1258\u001b[0m         \u001b[0;32mreturn\u001b[0m \u001b[0mjordan_wigner_sparse\u001b[0m\u001b[0;34m(\u001b[0m\u001b[0moperator\u001b[0m\u001b[0;34m,\u001b[0m \u001b[0mn_qubits\u001b[0m\u001b[0;34m)\u001b[0m\u001b[0;34m\u001b[0m\u001b[0;34m\u001b[0m\u001b[0m\n",
      "\u001b[0;32m~/.local/lib/python3.8/site-packages/openfermion/linalg/sparse_tools.py\u001b[0m in \u001b[0;36mjordan_wigner_sparse\u001b[0;34m(fermion_operator, n_qubits)\u001b[0m\n\u001b[1;32m    102\u001b[0m     \u001b[0mjw_operators\u001b[0m \u001b[0;34m=\u001b[0m \u001b[0;34m[\u001b[0m\u001b[0;34m]\u001b[0m\u001b[0;34m\u001b[0m\u001b[0;34m\u001b[0m\u001b[0m\n\u001b[1;32m    103\u001b[0m     \u001b[0;32mfor\u001b[0m \u001b[0mtensor_factor\u001b[0m \u001b[0;32min\u001b[0m \u001b[0mrange\u001b[0m\u001b[0;34m(\u001b[0m\u001b[0mn_qubits\u001b[0m\u001b[0;34m)\u001b[0m\u001b[0;34m:\u001b[0m\u001b[0;34m\u001b[0m\u001b[0;34m\u001b[0m\u001b[0m\n\u001b[0;32m--> 104\u001b[0;31m         jw_operators += [(jordan_wigner_ladder_sparse(n_qubits, tensor_factor,\n\u001b[0m\u001b[1;32m    105\u001b[0m                                                       0),\n\u001b[1;32m    106\u001b[0m                           jordan_wigner_ladder_sparse(n_qubits, tensor_factor,\n",
      "\u001b[0;32m~/.local/lib/python3.8/site-packages/openfermion/linalg/sparse_tools.py\u001b[0m in \u001b[0;36mjordan_wigner_ladder_sparse\u001b[0;34m(n_qubits, tensor_factor, ladder_type)\u001b[0m\n\u001b[1;32m     77\u001b[0m         \u001b[0moperator\u001b[0m \u001b[0;34m=\u001b[0m \u001b[0mkronecker_operators\u001b[0m\u001b[0;34m(\u001b[0m\u001b[0mparities\u001b[0m \u001b[0;34m+\u001b[0m \u001b[0;34m[\u001b[0m\u001b[0mq_raise_csc\u001b[0m\u001b[0;34m]\u001b[0m \u001b[0;34m+\u001b[0m \u001b[0midentities\u001b[0m\u001b[0;34m)\u001b[0m\u001b[0;34m\u001b[0m\u001b[0;34m\u001b[0m\u001b[0m\n\u001b[1;32m     78\u001b[0m     \u001b[0;32melse\u001b[0m\u001b[0;34m:\u001b[0m\u001b[0;34m\u001b[0m\u001b[0;34m\u001b[0m\u001b[0m\n\u001b[0;32m---> 79\u001b[0;31m         \u001b[0moperator\u001b[0m \u001b[0;34m=\u001b[0m \u001b[0mkronecker_operators\u001b[0m\u001b[0;34m(\u001b[0m\u001b[0mparities\u001b[0m \u001b[0;34m+\u001b[0m \u001b[0;34m[\u001b[0m\u001b[0mq_lower_csc\u001b[0m\u001b[0;34m]\u001b[0m \u001b[0;34m+\u001b[0m \u001b[0midentities\u001b[0m\u001b[0;34m)\u001b[0m\u001b[0;34m\u001b[0m\u001b[0;34m\u001b[0m\u001b[0m\n\u001b[0m\u001b[1;32m     80\u001b[0m     \u001b[0;32mreturn\u001b[0m \u001b[0moperator\u001b[0m\u001b[0;34m\u001b[0m\u001b[0;34m\u001b[0m\u001b[0m\n\u001b[1;32m     81\u001b[0m \u001b[0;34m\u001b[0m\u001b[0m\n",
      "\u001b[0;32m~/.local/lib/python3.8/site-packages/openfermion/linalg/sparse_tools.py\u001b[0m in \u001b[0;36mkronecker_operators\u001b[0;34m(*args)\u001b[0m\n\u001b[1;32m     50\u001b[0m \u001b[0;32mdef\u001b[0m \u001b[0mkronecker_operators\u001b[0m\u001b[0;34m(\u001b[0m\u001b[0;34m*\u001b[0m\u001b[0margs\u001b[0m\u001b[0;34m)\u001b[0m\u001b[0;34m:\u001b[0m\u001b[0;34m\u001b[0m\u001b[0;34m\u001b[0m\u001b[0m\n\u001b[1;32m     51\u001b[0m     \u001b[0;34m\"\"\"Return the Kronecker product of multiple sparse.csc_matrix operators.\"\"\"\u001b[0m\u001b[0;34m\u001b[0m\u001b[0;34m\u001b[0m\u001b[0m\n\u001b[0;32m---> 52\u001b[0;31m     \u001b[0;32mreturn\u001b[0m \u001b[0mreduce\u001b[0m\u001b[0;34m(\u001b[0m\u001b[0mwrapped_kronecker\u001b[0m\u001b[0;34m,\u001b[0m \u001b[0;34m*\u001b[0m\u001b[0margs\u001b[0m\u001b[0;34m)\u001b[0m\u001b[0;34m\u001b[0m\u001b[0;34m\u001b[0m\u001b[0m\n\u001b[0m\u001b[1;32m     53\u001b[0m \u001b[0;34m\u001b[0m\u001b[0m\n\u001b[1;32m     54\u001b[0m \u001b[0;34m\u001b[0m\u001b[0m\n",
      "\u001b[0;32m~/.local/lib/python3.8/site-packages/openfermion/linalg/sparse_tools.py\u001b[0m in \u001b[0;36mwrapped_kronecker\u001b[0;34m(operator_1, operator_2)\u001b[0m\n\u001b[1;32m     45\u001b[0m \u001b[0;32mdef\u001b[0m \u001b[0mwrapped_kronecker\u001b[0m\u001b[0;34m(\u001b[0m\u001b[0moperator_1\u001b[0m\u001b[0;34m,\u001b[0m \u001b[0moperator_2\u001b[0m\u001b[0;34m)\u001b[0m\u001b[0;34m:\u001b[0m\u001b[0;34m\u001b[0m\u001b[0;34m\u001b[0m\u001b[0m\n\u001b[1;32m     46\u001b[0m     \u001b[0;34m\"\"\"Return the Kronecker product of two sparse.csc_matrix operators.\"\"\"\u001b[0m\u001b[0;34m\u001b[0m\u001b[0;34m\u001b[0m\u001b[0m\n\u001b[0;32m---> 47\u001b[0;31m     \u001b[0;32mreturn\u001b[0m \u001b[0mscipy\u001b[0m\u001b[0;34m.\u001b[0m\u001b[0msparse\u001b[0m\u001b[0;34m.\u001b[0m\u001b[0mkron\u001b[0m\u001b[0;34m(\u001b[0m\u001b[0moperator_1\u001b[0m\u001b[0;34m,\u001b[0m \u001b[0moperator_2\u001b[0m\u001b[0;34m,\u001b[0m \u001b[0;34m'csc'\u001b[0m\u001b[0;34m)\u001b[0m\u001b[0;34m\u001b[0m\u001b[0;34m\u001b[0m\u001b[0m\n\u001b[0m\u001b[1;32m     48\u001b[0m \u001b[0;34m\u001b[0m\u001b[0m\n\u001b[1;32m     49\u001b[0m \u001b[0;34m\u001b[0m\u001b[0m\n",
      "\u001b[0;32m~/.local/lib/python3.8/site-packages/scipy/sparse/construct.py\u001b[0m in \u001b[0;36mkron\u001b[0;34m(A, B, format)\u001b[0m\n\u001b[1;32m    336\u001b[0m         \u001b[0mrow\u001b[0m \u001b[0;34m=\u001b[0m \u001b[0mA\u001b[0m\u001b[0;34m.\u001b[0m\u001b[0mrow\u001b[0m\u001b[0;34m.\u001b[0m\u001b[0mrepeat\u001b[0m\u001b[0;34m(\u001b[0m\u001b[0mB\u001b[0m\u001b[0;34m.\u001b[0m\u001b[0mnnz\u001b[0m\u001b[0;34m)\u001b[0m\u001b[0;34m\u001b[0m\u001b[0;34m\u001b[0m\u001b[0m\n\u001b[1;32m    337\u001b[0m         \u001b[0mcol\u001b[0m \u001b[0;34m=\u001b[0m \u001b[0mA\u001b[0m\u001b[0;34m.\u001b[0m\u001b[0mcol\u001b[0m\u001b[0;34m.\u001b[0m\u001b[0mrepeat\u001b[0m\u001b[0;34m(\u001b[0m\u001b[0mB\u001b[0m\u001b[0;34m.\u001b[0m\u001b[0mnnz\u001b[0m\u001b[0;34m)\u001b[0m\u001b[0;34m\u001b[0m\u001b[0;34m\u001b[0m\u001b[0m\n\u001b[0;32m--> 338\u001b[0;31m         \u001b[0mdata\u001b[0m \u001b[0;34m=\u001b[0m \u001b[0mA\u001b[0m\u001b[0;34m.\u001b[0m\u001b[0mdata\u001b[0m\u001b[0;34m.\u001b[0m\u001b[0mrepeat\u001b[0m\u001b[0;34m(\u001b[0m\u001b[0mB\u001b[0m\u001b[0;34m.\u001b[0m\u001b[0mnnz\u001b[0m\u001b[0;34m)\u001b[0m\u001b[0;34m\u001b[0m\u001b[0;34m\u001b[0m\u001b[0m\n\u001b[0m\u001b[1;32m    339\u001b[0m \u001b[0;34m\u001b[0m\u001b[0m\n\u001b[1;32m    340\u001b[0m         \u001b[0;32mif\u001b[0m \u001b[0mmax\u001b[0m\u001b[0;34m(\u001b[0m\u001b[0mA\u001b[0m\u001b[0;34m.\u001b[0m\u001b[0mshape\u001b[0m\u001b[0;34m[\u001b[0m\u001b[0;36m0\u001b[0m\u001b[0;34m]\u001b[0m\u001b[0;34m*\u001b[0m\u001b[0mB\u001b[0m\u001b[0;34m.\u001b[0m\u001b[0mshape\u001b[0m\u001b[0;34m[\u001b[0m\u001b[0;36m0\u001b[0m\u001b[0;34m]\u001b[0m\u001b[0;34m,\u001b[0m \u001b[0mA\u001b[0m\u001b[0;34m.\u001b[0m\u001b[0mshape\u001b[0m\u001b[0;34m[\u001b[0m\u001b[0;36m1\u001b[0m\u001b[0;34m]\u001b[0m\u001b[0;34m*\u001b[0m\u001b[0mB\u001b[0m\u001b[0;34m.\u001b[0m\u001b[0mshape\u001b[0m\u001b[0;34m[\u001b[0m\u001b[0;36m1\u001b[0m\u001b[0;34m]\u001b[0m\u001b[0;34m)\u001b[0m \u001b[0;34m>\u001b[0m \u001b[0mnp\u001b[0m\u001b[0;34m.\u001b[0m\u001b[0miinfo\u001b[0m\u001b[0;34m(\u001b[0m\u001b[0;34m'int32'\u001b[0m\u001b[0;34m)\u001b[0m\u001b[0;34m.\u001b[0m\u001b[0mmax\u001b[0m\u001b[0;34m:\u001b[0m\u001b[0;34m\u001b[0m\u001b[0;34m\u001b[0m\u001b[0m\n",
      "\u001b[0;31mKeyboardInterrupt\u001b[0m: "
     ]
    }
   ],
   "source": [
    "from openfermion import get_sparse_operator\n",
    "\n",
    "H = get_sparse_operator(molecular_hamiltonian)"
   ]
  },
  {
   "cell_type": "code",
   "execution_count": null,
   "metadata": {},
   "outputs": [],
   "source": [
    "val, vec = sp.linalg.eig(H.todense())\n",
    "min(val)"
   ]
  },
  {
   "cell_type": "code",
   "execution_count": null,
   "metadata": {},
   "outputs": [],
   "source": []
  },
  {
   "cell_type": "code",
   "execution_count": null,
   "metadata": {},
   "outputs": [],
   "source": []
  },
  {
   "cell_type": "code",
   "execution_count": null,
   "metadata": {},
   "outputs": [],
   "source": []
  },
  {
   "cell_type": "code",
   "execution_count": 35,
   "metadata": {},
   "outputs": [],
   "source": [
    "### partition into subsystems!\n",
    "\n",
    "n_active_aos = high_level_system.nao\n",
    "\n",
    "s_half = sp.linalg.fractional_matrix_power(full_sys_ao_overlap_EMBEDDED, 0.5)\n",
    "\n",
    "orthogonal_orbitals = np.dot(s_half, occupied_orbitals_high_ref)[:n_active_aos, :]\n",
    "\n",
    "u, s, v = np.linalg.svd(orthogonal_orbitals, full_matrices=True)\n",
    "rotation_matrix = v\n",
    "singular_values = s"
   ]
  },
  {
   "cell_type": "code",
   "execution_count": 36,
   "metadata": {},
   "outputs": [
    {
     "ename": "ValueError",
     "evalue": "zero-size array to reduction operation maximum which has no identity",
     "output_type": "error",
     "traceback": [
      "\u001b[0;31m---------------------------------------------------------------------------\u001b[0m",
      "\u001b[0;31mValueError\u001b[0m                                Traceback (most recent call last)",
      "\u001b[0;32m<ipython-input-36-466c7a1dc7b8>\u001b[0m in \u001b[0;36m<module>\u001b[0;34m\u001b[0m\n\u001b[1;32m      8\u001b[0m \u001b[0;31m## then everything after val\u001b[0m\u001b[0;34m\u001b[0m\u001b[0;34m\u001b[0m\u001b[0;34m\u001b[0m\u001b[0m\n\u001b[1;32m      9\u001b[0m \u001b[0;31m# n_act_mos = np.argpartition(delta_singlue_vals, -1)[-1] + 1\u001b[0m\u001b[0;34m\u001b[0m\u001b[0;34m\u001b[0m\u001b[0;34m\u001b[0m\u001b[0m\n\u001b[0;32m---> 10\u001b[0;31m \u001b[0mn_act_mos\u001b[0m \u001b[0;34m=\u001b[0m \u001b[0mnp\u001b[0m\u001b[0;34m.\u001b[0m\u001b[0mwhere\u001b[0m\u001b[0;34m(\u001b[0m\u001b[0mdelta_singlue_vals\u001b[0m \u001b[0;34m==\u001b[0m \u001b[0mnp\u001b[0m\u001b[0;34m.\u001b[0m\u001b[0mmax\u001b[0m\u001b[0;34m(\u001b[0m\u001b[0mdelta_singlue_vals\u001b[0m\u001b[0;34m)\u001b[0m\u001b[0;34m)\u001b[0m\u001b[0;34m[\u001b[0m\u001b[0;36m0\u001b[0m\u001b[0;34m]\u001b[0m\u001b[0;34m[\u001b[0m\u001b[0;36m0\u001b[0m\u001b[0;34m]\u001b[0m\u001b[0;34m+\u001b[0m\u001b[0;36m1\u001b[0m\u001b[0;34m\u001b[0m\u001b[0;34m\u001b[0m\u001b[0m\n\u001b[0m\u001b[1;32m     11\u001b[0m \u001b[0mn_env_mos\u001b[0m \u001b[0;34m=\u001b[0m \u001b[0mlen\u001b[0m\u001b[0;34m(\u001b[0m\u001b[0msingular_values\u001b[0m\u001b[0;34m)\u001b[0m \u001b[0;34m-\u001b[0m \u001b[0mn_act_mos\u001b[0m\u001b[0;34m\u001b[0m\u001b[0;34m\u001b[0m\u001b[0m\n",
      "\u001b[0;32m<__array_function__ internals>\u001b[0m in \u001b[0;36mamax\u001b[0;34m(*args, **kwargs)\u001b[0m\n",
      "\u001b[0;32m~/anaconda3/envs/updated2021/lib/python3.8/site-packages/numpy/core/fromnumeric.py\u001b[0m in \u001b[0;36mamax\u001b[0;34m(a, axis, out, keepdims, initial, where)\u001b[0m\n\u001b[1;32m   2703\u001b[0m     \u001b[0;36m5\u001b[0m\u001b[0;34m\u001b[0m\u001b[0;34m\u001b[0m\u001b[0m\n\u001b[1;32m   2704\u001b[0m     \"\"\"\n\u001b[0;32m-> 2705\u001b[0;31m     return _wrapreduction(a, np.maximum, 'max', axis, None, out,\n\u001b[0m\u001b[1;32m   2706\u001b[0m                           keepdims=keepdims, initial=initial, where=where)\n\u001b[1;32m   2707\u001b[0m \u001b[0;34m\u001b[0m\u001b[0m\n",
      "\u001b[0;32m~/anaconda3/envs/updated2021/lib/python3.8/site-packages/numpy/core/fromnumeric.py\u001b[0m in \u001b[0;36m_wrapreduction\u001b[0;34m(obj, ufunc, method, axis, dtype, out, **kwargs)\u001b[0m\n\u001b[1;32m     85\u001b[0m                 \u001b[0;32mreturn\u001b[0m \u001b[0mreduction\u001b[0m\u001b[0;34m(\u001b[0m\u001b[0maxis\u001b[0m\u001b[0;34m=\u001b[0m\u001b[0maxis\u001b[0m\u001b[0;34m,\u001b[0m \u001b[0mout\u001b[0m\u001b[0;34m=\u001b[0m\u001b[0mout\u001b[0m\u001b[0;34m,\u001b[0m \u001b[0;34m**\u001b[0m\u001b[0mpasskwargs\u001b[0m\u001b[0;34m)\u001b[0m\u001b[0;34m\u001b[0m\u001b[0;34m\u001b[0m\u001b[0m\n\u001b[1;32m     86\u001b[0m \u001b[0;34m\u001b[0m\u001b[0m\n\u001b[0;32m---> 87\u001b[0;31m     \u001b[0;32mreturn\u001b[0m \u001b[0mufunc\u001b[0m\u001b[0;34m.\u001b[0m\u001b[0mreduce\u001b[0m\u001b[0;34m(\u001b[0m\u001b[0mobj\u001b[0m\u001b[0;34m,\u001b[0m \u001b[0maxis\u001b[0m\u001b[0;34m,\u001b[0m \u001b[0mdtype\u001b[0m\u001b[0;34m,\u001b[0m \u001b[0mout\u001b[0m\u001b[0;34m,\u001b[0m \u001b[0;34m**\u001b[0m\u001b[0mpasskwargs\u001b[0m\u001b[0;34m)\u001b[0m\u001b[0;34m\u001b[0m\u001b[0;34m\u001b[0m\u001b[0m\n\u001b[0m\u001b[1;32m     88\u001b[0m \u001b[0;34m\u001b[0m\u001b[0m\n\u001b[1;32m     89\u001b[0m \u001b[0;34m\u001b[0m\u001b[0m\n",
      "\u001b[0;31mValueError\u001b[0m: zero-size array to reduction operation maximum which has no identity"
     ]
    }
   ],
   "source": [
    "delta_singlue_vals = [-(singular_values[i+1] - singular_values[i]) for i in range(len(singular_values) - 1)] # diff of i and i+1\n",
    "\n",
    "\n",
    "## argpartition(input_array, given_ind)\n",
    "## only re-orders the input_array[given_ind] of the array!\n",
    "## everything else kept the SAME\n",
    "## smaller than input_array[given_ind] before the input_array[given_ind] val\n",
    "## then everything after val\n",
    "# n_act_mos = np.argpartition(delta_singlue_vals, -1)[-1] + 1\n",
    "n_act_mos = np.where(delta_singlue_vals == np.max(delta_singlue_vals))[0][0]+1\n",
    "n_env_mos = len(singular_values) - n_act_mos"
   ]
  },
  {
   "cell_type": "code",
   "execution_count": null,
   "metadata": {},
   "outputs": [],
   "source": []
  },
  {
   "cell_type": "code",
   "execution_count": null,
   "metadata": {},
   "outputs": [],
   "source": []
  },
  {
   "cell_type": "code",
   "execution_count": null,
   "metadata": {},
   "outputs": [],
   "source": []
  },
  {
   "cell_type": "code",
   "execution_count": null,
   "metadata": {},
   "outputs": [],
   "source": []
  },
  {
   "cell_type": "code",
   "execution_count": null,
   "metadata": {},
   "outputs": [],
   "source": []
  },
  {
   "cell_type": "code",
   "execution_count": null,
   "metadata": {},
   "outputs": [],
   "source": []
  },
  {
   "cell_type": "code",
   "execution_count": null,
   "metadata": {},
   "outputs": [],
   "source": []
  },
  {
   "cell_type": "code",
   "execution_count": null,
   "metadata": {},
   "outputs": [],
   "source": []
  },
  {
   "cell_type": "code",
   "execution_count": null,
   "metadata": {},
   "outputs": [],
   "source": []
  },
  {
   "cell_type": "code",
   "execution_count": null,
   "metadata": {},
   "outputs": [],
   "source": []
  },
  {
   "cell_type": "code",
   "execution_count": null,
   "metadata": {},
   "outputs": [],
   "source": []
  },
  {
   "cell_type": "code",
   "execution_count": null,
   "metadata": {},
   "outputs": [],
   "source": [
    "# argparition only sorts array \n",
    "n_act_mos = np.argpartition(delta_s, -1)[-1] + 1 \n",
    "n_env_mos = len(singular_values) - n_act_mos\n",
    "n_env_mos"
   ]
  },
  {
   "cell_type": "code",
   "execution_count": null,
   "metadata": {},
   "outputs": [],
   "source": [
    "full_system_mol.aoslice_by_atom()[high_level_system.nao-1][3] # 3rd index gives end AO ID"
   ]
  },
  {
   "cell_type": "code",
   "execution_count": null,
   "metadata": {},
   "outputs": [],
   "source": [
    "high_level_system.nao"
   ]
  },
  {
   "cell_type": "code",
   "execution_count": null,
   "metadata": {},
   "outputs": [],
   "source": []
  },
  {
   "cell_type": "code",
   "execution_count": null,
   "metadata": {},
   "outputs": [],
   "source": []
  },
  {
   "cell_type": "code",
   "execution_count": null,
   "metadata": {},
   "outputs": [],
   "source": []
  },
  {
   "cell_type": "markdown",
   "metadata": {},
   "source": [
    "define full system"
   ]
  },
  {
   "cell_type": "code",
   "execution_count": 40,
   "metadata": {},
   "outputs": [
    {
     "name": "stdout",
     "output_type": "stream",
     "text": [
      "converged SCF energy = -1.11675930739642\n",
      "converged SCF energy = -1.11675930739643\n",
      "converged SCF energy = -1.11675930739642\n",
      "converged SCF energy = -1.11675930739642\n",
      "converged SCF energy = -1.11675930739642\n",
      "converged SCF energy = -1.11675930739642\n",
      "converged SCF energy = -1.11675930739642\n",
      "converged SCF energy = -1.11675930739642\n",
      "converged SCF energy = -1.11675930739642\n",
      "converged SCF energy = -1.11675930739642\n",
      "converged SCF energy = -1.11675930739642\n",
      "converged SCF energy = -1.11675930739643\n",
      "converged SCF energy = -1.11675930739643\n",
      "converged SCF energy = -1.11675930739643\n",
      "converged SCF energy = -1.11675930739643\n",
      "converged SCF energy = -1.11675930739643\n",
      "converged SCF energy = -1.11675930739643\n",
      "converged SCF energy = -1.11675930739643\n",
      "converged SCF energy = -1.11675930739643\n",
      "converged SCF energy = -1.11675930739643\n",
      "converged SCF energy = -2.2317175887261\n",
      "converged SCF energy = -2.2317175887261\n",
      "converged SCF energy = -2.2317175887261\n",
      "converged SCF energy = -2.2317175887261\n",
      "converged SCF energy = -2.2317175887261\n",
      "converged SCF energy = -2.2317175887261\n",
      "converged SCF energy = -2.2317175887261\n",
      "converged SCF energy = -2.2317175887261\n",
      "converged SCF energy = -2.2317175887261\n",
      "converged SCF energy = -2.2317175887261\n",
      "converged SCF energy = -2.2317175887261\n",
      "converged SCF energy = -2.2317175887261\n",
      "converged SCF energy = -2.2317175887261\n",
      "converged SCF energy = -2.2317175887261\n",
      "converged SCF energy = -1.11675930739642\n",
      "converged SCF energy = -1.11675930739642\n",
      "converged SCF energy = -2.2317175887261\n",
      "converged SCF energy = -2.2317175887261\n",
      "converged SCF energy = -2.2317175887261\n",
      "converged SCF energy = -2.2317175887261\n",
      "converged SCF energy = -2.2317175887261\n",
      "converged SCF energy = -1.11675930739642\n",
      "converged SCF energy = -2.2317175887261\n",
      "converged SCF energy = -2.2317175887261\n",
      "converged SCF energy = -2.2317175887261\n",
      "converged SCF energy = -2.2317175887261\n",
      "converged SCF energy = -2.2317175887261\n",
      "converged SCF energy = -1.11675930739643\n",
      "converged SCF energy = -1.11675930739643\n",
      "converged SCF energy = -2.2317175887261\n",
      "converged SCF energy = -2.2317175887261\n",
      "converged SCF energy = -2.2317175887261\n",
      "converged SCF energy = -2.2317175887261\n",
      "converged SCF energy = -2.2317175887261\n",
      "converged SCF energy = -1.11675930739643\n",
      "converged SCF energy = -2.2317175887261\n",
      "converged SCF energy = -2.2317175887261\n",
      "converged SCF energy = -2.2317175887261\n",
      "converged SCF energy = -2.2317175887261\n",
      "converged SCF energy = -2.2317175887261\n"
     ]
    },
    {
     "data": {
      "text/plain": [
       "[array([0, 1]), array([2, 3])]"
      ]
     },
     "execution_count": 40,
     "metadata": {},
     "output_type": "execute_result"
    }
   ],
   "source": [
    "full_system = gto.mole.conc_mol(high_level_system, low_level_system)\n",
    "\n",
    "list_of_subsystems = [high_level_system, low_level_system]\n",
    "\n",
    "nao = np.array([subsystem.mol.nao_nr() for subsystem in list_of_subsystems])\n",
    "nssl = [None for i in range(len(list_of_subsystems))]\n",
    "\n",
    "for i, sub in enumerate(list_of_subsystems):\n",
    "    nssl[i] = np.zeros(sub.mol.natm, dtype=int)\n",
    "    for j in range(sub.mol.natm):\n",
    "        ib_t = np.where(sub.mol._bas.transpose()[0] == j)[0]\n",
    "        i_b = ib_t.min()\n",
    "        ie_t = np.where(sub.mol._bas.transpose()[0] == j)[0]\n",
    "        i_e = ie_t.max()\n",
    "        i_r = sub.mol.nao_nr_range(i_b, i_e + 1)\n",
    "        i_r = i_r[1] - i_r[0]\n",
    "        nssl[i][j] = i_r\n",
    "\n",
    "    assert nssl[i].sum() == sub.mol.nao_nr(), \"naos not equal!\"\n",
    "\n",
    "nsl = np.zeros(full_system.natm, dtype=int) #<-- full system here\n",
    "for i in range(full_system.mol.natm):\n",
    "    i_b = np.where(full_system.mol._bas.transpose()[0] == i)[0].min()\n",
    "    i_e = np.where(full_system.mol._bas.transpose()[0] == i)[0].max()\n",
    "    i_r = full_system.mol.nao_nr_range(i_b, i_e + 1)\n",
    "    i_r = i_r[1] - i_r[0]\n",
    "    nsl[i] = i_r\n",
    "\n",
    "assert nsl.sum() == full_system.mol.nao_nr(), \"naos not equal!\"\n",
    "\n",
    "sub2sup = [None for i in range(len(list_of_subsystems))]\n",
    "for i, sub in enumerate(list_of_subsystems):\n",
    "    sub2sup[i] = np.zeros(nao[i], dtype=int)\n",
    "    for j in range(sub.mol.natm):\n",
    "        match = False\n",
    "        c_1 = sub.mol.atom_coord(j)\n",
    "        for k in range(full_system.mol.natm):\n",
    "            c_2 = full_system.mol.atom_coord(k)\n",
    "            dist = np.dot(c_1 - c_2, c_1 - c_2)\n",
    "            if dist < 0.0001:\n",
    "                match = True\n",
    "                i_a = nssl[i][0:j].sum()\n",
    "                j_a = i_a + nssl[i][j]\n",
    "                # ja = ia + nsl[b]\n",
    "                i_b = nsl[0:k].sum()\n",
    "                j_b = i_b + nsl[k]\n",
    "                # jb = ib + nssl[i][a]\n",
    "                sub2sup[i][i_a:j_a] = range(i_b, j_b)\n",
    "\n",
    "        assert match, 'no atom match!'\n",
    "\n",
    "sub2sup"
   ]
  },
  {
   "cell_type": "code",
   "execution_count": null,
   "metadata": {},
   "outputs": [],
   "source": []
  },
  {
   "cell_type": "code",
   "execution_count": null,
   "metadata": {},
   "outputs": [],
   "source": [
    "## scf subsystem A\n",
    "scf_system_A = scf.RKS(mol_A)\n",
    "scf_system_A.xc = 'lda,vwn'\n",
    "scf_system_A.kernel()\n",
    "## occupied orbitals!\n",
    "double_occ_subA = (scf_system_A.mo_occ == 2).sum()\n",
    "occupied_orbitals_subsys_A = scf_system_A.mo_coeff[:, :double_occ_subA]\n",
    "occupied_orbitals_subsys_A"
   ]
  },
  {
   "cell_type": "code",
   "execution_count": null,
   "metadata": {},
   "outputs": [],
   "source": []
  },
  {
   "cell_type": "code",
   "execution_count": null,
   "metadata": {},
   "outputs": [],
   "source": [
    "projected_mol_A = mol_A.copy()\n",
    "projected_mol_A_ao_overlap = projected_mol_A.intor_symmetric('int1e_ovlp_sph')#[:, :double_occ]\n",
    "\n",
    "overlap_two_basis = gto.intor_cross('int1e_ovlp_sph', full_system, projected_mol_A)#[:double_occ, :]\n",
    "# overlap_two_basis_sub_A = overlap_two_basis[np.ix_(sub2sup[0], sub2sup[0])]  # select subsystem A\n",
    "overlap_two_basis_sub_A = overlap_two_basis[:mol_A.nao]  # select subsystem B\n",
    "\n",
    "projected_orbitals_subsystemA = (np.linalg.inv(projected_mol_A_ao_overlap) @ overlap_two_basis_sub_A @ occupied_orbitals_subsys_A)\n",
    "projected_orbitals_subsystemA"
   ]
  },
  {
   "cell_type": "code",
   "execution_count": null,
   "metadata": {},
   "outputs": [],
   "source": [
    "occupied_orbitals_subsys_A"
   ]
  },
  {
   "cell_type": "code",
   "execution_count": null,
   "metadata": {},
   "outputs": [],
   "source": [
    "overlap_two_basis_sub_A"
   ]
  },
  {
   "cell_type": "code",
   "execution_count": null,
   "metadata": {},
   "outputs": [],
   "source": [
    "overlap_two_basis[2:]"
   ]
  },
  {
   "cell_type": "code",
   "execution_count": null,
   "metadata": {},
   "outputs": [],
   "source": [
    "overlap_two_basis[double_occ_subB+1:]"
   ]
  },
  {
   "cell_type": "code",
   "execution_count": null,
   "metadata": {},
   "outputs": [],
   "source": [
    "## scf subsystem A\n",
    "scf_system_B = scf.RKS(mol_B)\n",
    "scf_system_B.xc = 'lda,vwn'\n",
    "scf_system_B.kernel()\n",
    "## occupied orbitals!\n",
    "double_occ_subB = (scf_system_B.mo_occ == 2).sum()\n",
    "occupied_orbitals_subsys_B = scf_system_B.mo_coeff[:, :double_occ_subB]\n",
    "print(occupied_orbitals_subsys_B)\n",
    "\n",
    "projected_mol_B = mol_B.copy()\n",
    "projected_mol_B_ao_overlap = projected_mol_B.intor_symmetric('int1e_ovlp_sph')\n",
    "\n",
    "overlap_two_basis = gto.intor_cross('int1e_ovlp_sph', full_system, projected_mol_B)#[:double_occ_subB, :]\n",
    "overlap_two_basis_sub_B = overlap_two_basis[mol_A.nao:]  # select subsystem B (aka ignore sysA defined first)\n",
    "\n",
    "projected_orbitals_subsystemB = (np.linalg.inv(projected_mol_B_ao_overlap) @ overlap_two_basis_sub_B @ occupied_orbitals_subsys_B)\n",
    "projected_orbitals_subsystemB"
   ]
  },
  {
   "cell_type": "code",
   "execution_count": null,
   "metadata": {},
   "outputs": [],
   "source": [
    "## scf\n",
    "full_system_scf = scf.RKS(full_system)\n",
    "full_system_scf.xc = 'lda,vwn'\n",
    "full_system_scf.kernel()\n",
    "\n",
    "## occupied orbitals!\n",
    "double_occ = (full_system_scf.mo_occ == 2).sum()\n",
    "occupied_orbitals = full_system_scf.mo_coeff[:, :double_occ]"
   ]
  },
  {
   "cell_type": "code",
   "execution_count": null,
   "metadata": {},
   "outputs": [],
   "source": [
    "full_system_ao_overlap = full_system.intor_symmetric('int1e_ovlp') # better than get_ovlp\n",
    "\n",
    "s_half = scipy.linalg.fractional_matrix_power(ao_overlap, 0.5)\n",
    "orthogonal_orbitals = (s_half @ orbitals)[:n_active_aos, :]\n",
    "\n",
    "rotation_matrix, sigma = embed.orbital_rotation(projection_orbitals,\n",
    "        n_act_aos, ao_overlap)"
   ]
  },
  {
   "cell_type": "code",
   "execution_count": null,
   "metadata": {},
   "outputs": [],
   "source": [
    "full_system.aoslice_by_atom()\n",
    "full_system.aoslice_by_atom()[mol_A.nao-1][3] # 3rd index gives end AO ID\n",
    "full_system.aoslice_by_atom()[mol_A.nao][2] # 2nd index gives start AO ID"
   ]
  },
  {
   "cell_type": "code",
   "execution_count": null,
   "metadata": {},
   "outputs": [],
   "source": [
    "overlap_two_basis"
   ]
  },
  {
   "cell_type": "code",
   "execution_count": null,
   "metadata": {},
   "outputs": [],
   "source": [
    "\n",
    "projected_mol = full_system.copy()\n",
    "\n",
    "full_system_ao_overlap = full_system.intor_symmetric('int1e_ovlp_sph') # better than get_ovlp\n",
    "\n",
    "projected_overlap = full_system_ao_overlap#[:, :double_occ]\n",
    "overlap_two_basis = gto.intor_cross('int1e_ovlp_sph', full_system, projected_mol)#[:double_occ, :]\n",
    "\n",
    "\n",
    "projected_orbitals = (np.linalg.inv(projected_overlap) @ overlap_two_basis @ occupied_orbitals)\n",
    "projected_orbitals"
   ]
  },
  {
   "cell_type": "code",
   "execution_count": null,
   "metadata": {},
   "outputs": [],
   "source": [
    "full_system = gto.mole.conc_mol(scf_system_A.mol, scf_system_B.mol)\n",
    "ao_overlap = full_system.intor_symmetric('int1e_ovlp') # better than get_ovlp\n",
    "\n",
    "s_half = scipy.linalg.fractional_matrix_power(ao_overlap, 0.5)\n",
    "        orthogonal_orbitals = (s_half @ orbitals)[:n_active_aos, :]\n",
    "\n",
    "    u, s, v = np.linalg.svd(orthogonal_orbitals, full_matrices=True)\n",
    "    rotation_matrix = v\n",
    "    singular_values = s"
   ]
  },
  {
   "cell_type": "code",
   "execution_count": null,
   "metadata": {},
   "outputs": [],
   "source": [
    " scf_system_A.get_hcore()\n",
    "\n",
    "np.zeros((scf_system_A.mol.nao_nr(), scf_system_A.mol.nao_nr()), dtype=float)"
   ]
  },
  {
   "cell_type": "markdown",
   "metadata": {},
   "source": [
    "# Freeze and thaw"
   ]
  },
  {
   "cell_type": "code",
   "execution_count": null,
   "metadata": {},
   "outputs": [],
   "source": [
    "list_of_subsystems = [scf_system_A, scf_system_B]\n",
    "\n",
    "freeze_thaw_error = 1 # needed for start of loop (overwritten)\n",
    "freeze_thaw_iter = 0\n",
    "    while (freeze_thaw_error>self.freeze_thaw_conv) and (freeze_thaw_iter < self.freeze_thaw_max_iter):\n",
    "        \n",
    "        \n",
    "    for active_index, active_subsystem in enumerate(list_of_subsystems):\n",
    "        \n",
    "        for env_index, env_subsystem in enumerate(list_of_subsystems):\n",
    "            if active_index == env_index:\n",
    "                continue\n",
    "            else:\n",
    "                SubSys_projection_OP = np.zeros_like(active_subsystem.hcore)"
   ]
  },
  {
   "cell_type": "code",
   "execution_count": null,
   "metadata": {},
   "outputs": [],
   "source": []
  },
  {
   "cell_type": "code",
   "execution_count": null,
   "metadata": {},
   "outputs": [],
   "source": [
    "full_system.atom\n"
   ]
  },
  {
   "cell_type": "code",
   "execution_count": null,
   "metadata": {},
   "outputs": [],
   "source": [
    "full_system.aoslice_nr_by_atom()[3]"
   ]
  },
  {
   "cell_type": "code",
   "execution_count": null,
   "metadata": {},
   "outputs": [],
   "source": []
  },
  {
   "cell_type": "code",
   "execution_count": null,
   "metadata": {},
   "outputs": [],
   "source": [
    "full_system = gto.mole.conc_mol(scf_system_A.mol, scf_system_B.mol)"
   ]
  },
  {
   "cell_type": "code",
   "execution_count": null,
   "metadata": {},
   "outputs": [],
   "source": []
  }
 ],
 "metadata": {
  "kernelspec": {
   "display_name": "Python 3",
   "language": "python",
   "name": "python3"
  },
  "language_info": {
   "codemirror_mode": {
    "name": "ipython",
    "version": 3
   },
   "file_extension": ".py",
   "mimetype": "text/x-python",
   "name": "python",
   "nbconvert_exporter": "python",
   "pygments_lexer": "ipython3",
   "version": "3.8.5"
  }
 },
 "nbformat": 4,
 "nbformat_minor": 4
}
