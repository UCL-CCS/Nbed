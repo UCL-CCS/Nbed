{
 "cells": [
  {
   "cell_type": "code",
   "execution_count": 1,
   "metadata": {},
   "outputs": [
    {
     "name": "stderr",
     "output_type": "stream",
     "text": [
      "Numpy 1.16 has memory leak bug  https://github.com/numpy/numpy/issues/13808\n",
      "It is recommended to downgrade to numpy 1.15 or older\n"
     ]
    }
   ],
   "source": [
    "from pyscf import gto, dft, scf, lib, cc, fci\n",
    "import numpy as np\n",
    "import scipy as sp"
   ]
  },
  {
   "cell_type": "markdown",
   "metadata": {},
   "source": [
    "PAPER: J. Chem. Theory Comput. 2017, 13, 1503−1508\n",
    "\n",
    "Steps:\n",
    "1. Define systems (total, system_A, system_B)\n",
    "2. Perform KS-DFT on FULL system: O--C--O\n",
    "3. Find subsystem density matrices\n",
    "4. Define embedded core Hamiltonian\n",
    "5. Perform **DFT-in-DFT** calcualtion (use embedded core H)\n",
    "6. Perform **WF-in-DFT** calcualtion (use embedded core H)\n",
    "7. Use eq 12 in original paper to find overall energy!!!\n",
    "8. Compare to true result\n",
    "\n",
    "Fin.\n",
    "\n",
    "**NOTE**: no iterative freeze and thaw DFT performed (aka assumed input structure is perfect structure)"
   ]
  },
  {
   "cell_type": "markdown",
   "metadata": {},
   "source": [
    "# 1) Definitions"
   ]
  },
  {
   "cell_type": "code",
   "execution_count": 2,
   "metadata": {},
   "outputs": [
    {
     "data": {
      "application/javascript": [
       "/* Put everything inside the global mpl namespace */\n",
       "window.mpl = {};\n",
       "\n",
       "\n",
       "mpl.get_websocket_type = function() {\n",
       "    if (typeof(WebSocket) !== 'undefined') {\n",
       "        return WebSocket;\n",
       "    } else if (typeof(MozWebSocket) !== 'undefined') {\n",
       "        return MozWebSocket;\n",
       "    } else {\n",
       "        alert('Your browser does not have WebSocket support. ' +\n",
       "              'Please try Chrome, Safari or Firefox ≥ 6. ' +\n",
       "              'Firefox 4 and 5 are also supported but you ' +\n",
       "              'have to enable WebSockets in about:config.');\n",
       "    };\n",
       "}\n",
       "\n",
       "mpl.figure = function(figure_id, websocket, ondownload, parent_element) {\n",
       "    this.id = figure_id;\n",
       "\n",
       "    this.ws = websocket;\n",
       "\n",
       "    this.supports_binary = (this.ws.binaryType != undefined);\n",
       "\n",
       "    if (!this.supports_binary) {\n",
       "        var warnings = document.getElementById(\"mpl-warnings\");\n",
       "        if (warnings) {\n",
       "            warnings.style.display = 'block';\n",
       "            warnings.textContent = (\n",
       "                \"This browser does not support binary websocket messages. \" +\n",
       "                    \"Performance may be slow.\");\n",
       "        }\n",
       "    }\n",
       "\n",
       "    this.imageObj = new Image();\n",
       "\n",
       "    this.context = undefined;\n",
       "    this.message = undefined;\n",
       "    this.canvas = undefined;\n",
       "    this.rubberband_canvas = undefined;\n",
       "    this.rubberband_context = undefined;\n",
       "    this.format_dropdown = undefined;\n",
       "\n",
       "    this.image_mode = 'full';\n",
       "\n",
       "    this.root = $('<div/>');\n",
       "    this._root_extra_style(this.root)\n",
       "    this.root.attr('style', 'display: inline-block');\n",
       "\n",
       "    $(parent_element).append(this.root);\n",
       "\n",
       "    this._init_header(this);\n",
       "    this._init_canvas(this);\n",
       "    this._init_toolbar(this);\n",
       "\n",
       "    var fig = this;\n",
       "\n",
       "    this.waiting = false;\n",
       "\n",
       "    this.ws.onopen =  function () {\n",
       "            fig.send_message(\"supports_binary\", {value: fig.supports_binary});\n",
       "            fig.send_message(\"send_image_mode\", {});\n",
       "            if (mpl.ratio != 1) {\n",
       "                fig.send_message(\"set_dpi_ratio\", {'dpi_ratio': mpl.ratio});\n",
       "            }\n",
       "            fig.send_message(\"refresh\", {});\n",
       "        }\n",
       "\n",
       "    this.imageObj.onload = function() {\n",
       "            if (fig.image_mode == 'full') {\n",
       "                // Full images could contain transparency (where diff images\n",
       "                // almost always do), so we need to clear the canvas so that\n",
       "                // there is no ghosting.\n",
       "                fig.context.clearRect(0, 0, fig.canvas.width, fig.canvas.height);\n",
       "            }\n",
       "            fig.context.drawImage(fig.imageObj, 0, 0);\n",
       "        };\n",
       "\n",
       "    this.imageObj.onunload = function() {\n",
       "        fig.ws.close();\n",
       "    }\n",
       "\n",
       "    this.ws.onmessage = this._make_on_message_function(this);\n",
       "\n",
       "    this.ondownload = ondownload;\n",
       "}\n",
       "\n",
       "mpl.figure.prototype._init_header = function() {\n",
       "    var titlebar = $(\n",
       "        '<div class=\"ui-dialog-titlebar ui-widget-header ui-corner-all ' +\n",
       "        'ui-helper-clearfix\"/>');\n",
       "    var titletext = $(\n",
       "        '<div class=\"ui-dialog-title\" style=\"width: 100%; ' +\n",
       "        'text-align: center; padding: 3px;\"/>');\n",
       "    titlebar.append(titletext)\n",
       "    this.root.append(titlebar);\n",
       "    this.header = titletext[0];\n",
       "}\n",
       "\n",
       "\n",
       "\n",
       "mpl.figure.prototype._canvas_extra_style = function(canvas_div) {\n",
       "\n",
       "}\n",
       "\n",
       "\n",
       "mpl.figure.prototype._root_extra_style = function(canvas_div) {\n",
       "\n",
       "}\n",
       "\n",
       "mpl.figure.prototype._init_canvas = function() {\n",
       "    var fig = this;\n",
       "\n",
       "    var canvas_div = $('<div/>');\n",
       "\n",
       "    canvas_div.attr('style', 'position: relative; clear: both; outline: 0');\n",
       "\n",
       "    function canvas_keyboard_event(event) {\n",
       "        return fig.key_event(event, event['data']);\n",
       "    }\n",
       "\n",
       "    canvas_div.keydown('key_press', canvas_keyboard_event);\n",
       "    canvas_div.keyup('key_release', canvas_keyboard_event);\n",
       "    this.canvas_div = canvas_div\n",
       "    this._canvas_extra_style(canvas_div)\n",
       "    this.root.append(canvas_div);\n",
       "\n",
       "    var canvas = $('<canvas/>');\n",
       "    canvas.addClass('mpl-canvas');\n",
       "    canvas.attr('style', \"left: 0; top: 0; z-index: 0; outline: 0\")\n",
       "\n",
       "    this.canvas = canvas[0];\n",
       "    this.context = canvas[0].getContext(\"2d\");\n",
       "\n",
       "    var backingStore = this.context.backingStorePixelRatio ||\n",
       "\tthis.context.webkitBackingStorePixelRatio ||\n",
       "\tthis.context.mozBackingStorePixelRatio ||\n",
       "\tthis.context.msBackingStorePixelRatio ||\n",
       "\tthis.context.oBackingStorePixelRatio ||\n",
       "\tthis.context.backingStorePixelRatio || 1;\n",
       "\n",
       "    mpl.ratio = (window.devicePixelRatio || 1) / backingStore;\n",
       "\n",
       "    var rubberband = $('<canvas/>');\n",
       "    rubberband.attr('style', \"position: absolute; left: 0; top: 0; z-index: 1;\")\n",
       "\n",
       "    var pass_mouse_events = true;\n",
       "\n",
       "    canvas_div.resizable({\n",
       "        start: function(event, ui) {\n",
       "            pass_mouse_events = false;\n",
       "        },\n",
       "        resize: function(event, ui) {\n",
       "            fig.request_resize(ui.size.width, ui.size.height);\n",
       "        },\n",
       "        stop: function(event, ui) {\n",
       "            pass_mouse_events = true;\n",
       "            fig.request_resize(ui.size.width, ui.size.height);\n",
       "        },\n",
       "    });\n",
       "\n",
       "    function mouse_event_fn(event) {\n",
       "        if (pass_mouse_events)\n",
       "            return fig.mouse_event(event, event['data']);\n",
       "    }\n",
       "\n",
       "    rubberband.mousedown('button_press', mouse_event_fn);\n",
       "    rubberband.mouseup('button_release', mouse_event_fn);\n",
       "    // Throttle sequential mouse events to 1 every 20ms.\n",
       "    rubberband.mousemove('motion_notify', mouse_event_fn);\n",
       "\n",
       "    rubberband.mouseenter('figure_enter', mouse_event_fn);\n",
       "    rubberband.mouseleave('figure_leave', mouse_event_fn);\n",
       "\n",
       "    canvas_div.on(\"wheel\", function (event) {\n",
       "        event = event.originalEvent;\n",
       "        event['data'] = 'scroll'\n",
       "        if (event.deltaY < 0) {\n",
       "            event.step = 1;\n",
       "        } else {\n",
       "            event.step = -1;\n",
       "        }\n",
       "        mouse_event_fn(event);\n",
       "    });\n",
       "\n",
       "    canvas_div.append(canvas);\n",
       "    canvas_div.append(rubberband);\n",
       "\n",
       "    this.rubberband = rubberband;\n",
       "    this.rubberband_canvas = rubberband[0];\n",
       "    this.rubberband_context = rubberband[0].getContext(\"2d\");\n",
       "    this.rubberband_context.strokeStyle = \"#000000\";\n",
       "\n",
       "    this._resize_canvas = function(width, height) {\n",
       "        // Keep the size of the canvas, canvas container, and rubber band\n",
       "        // canvas in synch.\n",
       "        canvas_div.css('width', width)\n",
       "        canvas_div.css('height', height)\n",
       "\n",
       "        canvas.attr('width', width * mpl.ratio);\n",
       "        canvas.attr('height', height * mpl.ratio);\n",
       "        canvas.attr('style', 'width: ' + width + 'px; height: ' + height + 'px;');\n",
       "\n",
       "        rubberband.attr('width', width);\n",
       "        rubberband.attr('height', height);\n",
       "    }\n",
       "\n",
       "    // Set the figure to an initial 600x600px, this will subsequently be updated\n",
       "    // upon first draw.\n",
       "    this._resize_canvas(600, 600);\n",
       "\n",
       "    // Disable right mouse context menu.\n",
       "    $(this.rubberband_canvas).bind(\"contextmenu\",function(e){\n",
       "        return false;\n",
       "    });\n",
       "\n",
       "    function set_focus () {\n",
       "        canvas.focus();\n",
       "        canvas_div.focus();\n",
       "    }\n",
       "\n",
       "    window.setTimeout(set_focus, 100);\n",
       "}\n",
       "\n",
       "mpl.figure.prototype._init_toolbar = function() {\n",
       "    var fig = this;\n",
       "\n",
       "    var nav_element = $('<div/>');\n",
       "    nav_element.attr('style', 'width: 100%');\n",
       "    this.root.append(nav_element);\n",
       "\n",
       "    // Define a callback function for later on.\n",
       "    function toolbar_event(event) {\n",
       "        return fig.toolbar_button_onclick(event['data']);\n",
       "    }\n",
       "    function toolbar_mouse_event(event) {\n",
       "        return fig.toolbar_button_onmouseover(event['data']);\n",
       "    }\n",
       "\n",
       "    for(var toolbar_ind in mpl.toolbar_items) {\n",
       "        var name = mpl.toolbar_items[toolbar_ind][0];\n",
       "        var tooltip = mpl.toolbar_items[toolbar_ind][1];\n",
       "        var image = mpl.toolbar_items[toolbar_ind][2];\n",
       "        var method_name = mpl.toolbar_items[toolbar_ind][3];\n",
       "\n",
       "        if (!name) {\n",
       "            // put a spacer in here.\n",
       "            continue;\n",
       "        }\n",
       "        var button = $('<button/>');\n",
       "        button.addClass('ui-button ui-widget ui-state-default ui-corner-all ' +\n",
       "                        'ui-button-icon-only');\n",
       "        button.attr('role', 'button');\n",
       "        button.attr('aria-disabled', 'false');\n",
       "        button.click(method_name, toolbar_event);\n",
       "        button.mouseover(tooltip, toolbar_mouse_event);\n",
       "\n",
       "        var icon_img = $('<span/>');\n",
       "        icon_img.addClass('ui-button-icon-primary ui-icon');\n",
       "        icon_img.addClass(image);\n",
       "        icon_img.addClass('ui-corner-all');\n",
       "\n",
       "        var tooltip_span = $('<span/>');\n",
       "        tooltip_span.addClass('ui-button-text');\n",
       "        tooltip_span.html(tooltip);\n",
       "\n",
       "        button.append(icon_img);\n",
       "        button.append(tooltip_span);\n",
       "\n",
       "        nav_element.append(button);\n",
       "    }\n",
       "\n",
       "    var fmt_picker_span = $('<span/>');\n",
       "\n",
       "    var fmt_picker = $('<select/>');\n",
       "    fmt_picker.addClass('mpl-toolbar-option ui-widget ui-widget-content');\n",
       "    fmt_picker_span.append(fmt_picker);\n",
       "    nav_element.append(fmt_picker_span);\n",
       "    this.format_dropdown = fmt_picker[0];\n",
       "\n",
       "    for (var ind in mpl.extensions) {\n",
       "        var fmt = mpl.extensions[ind];\n",
       "        var option = $(\n",
       "            '<option/>', {selected: fmt === mpl.default_extension}).html(fmt);\n",
       "        fmt_picker.append(option);\n",
       "    }\n",
       "\n",
       "    // Add hover states to the ui-buttons\n",
       "    $( \".ui-button\" ).hover(\n",
       "        function() { $(this).addClass(\"ui-state-hover\");},\n",
       "        function() { $(this).removeClass(\"ui-state-hover\");}\n",
       "    );\n",
       "\n",
       "    var status_bar = $('<span class=\"mpl-message\"/>');\n",
       "    nav_element.append(status_bar);\n",
       "    this.message = status_bar[0];\n",
       "}\n",
       "\n",
       "mpl.figure.prototype.request_resize = function(x_pixels, y_pixels) {\n",
       "    // Request matplotlib to resize the figure. Matplotlib will then trigger a resize in the client,\n",
       "    // which will in turn request a refresh of the image.\n",
       "    this.send_message('resize', {'width': x_pixels, 'height': y_pixels});\n",
       "}\n",
       "\n",
       "mpl.figure.prototype.send_message = function(type, properties) {\n",
       "    properties['type'] = type;\n",
       "    properties['figure_id'] = this.id;\n",
       "    this.ws.send(JSON.stringify(properties));\n",
       "}\n",
       "\n",
       "mpl.figure.prototype.send_draw_message = function() {\n",
       "    if (!this.waiting) {\n",
       "        this.waiting = true;\n",
       "        this.ws.send(JSON.stringify({type: \"draw\", figure_id: this.id}));\n",
       "    }\n",
       "}\n",
       "\n",
       "\n",
       "mpl.figure.prototype.handle_save = function(fig, msg) {\n",
       "    var format_dropdown = fig.format_dropdown;\n",
       "    var format = format_dropdown.options[format_dropdown.selectedIndex].value;\n",
       "    fig.ondownload(fig, format);\n",
       "}\n",
       "\n",
       "\n",
       "mpl.figure.prototype.handle_resize = function(fig, msg) {\n",
       "    var size = msg['size'];\n",
       "    if (size[0] != fig.canvas.width || size[1] != fig.canvas.height) {\n",
       "        fig._resize_canvas(size[0], size[1]);\n",
       "        fig.send_message(\"refresh\", {});\n",
       "    };\n",
       "}\n",
       "\n",
       "mpl.figure.prototype.handle_rubberband = function(fig, msg) {\n",
       "    var x0 = msg['x0'] / mpl.ratio;\n",
       "    var y0 = (fig.canvas.height - msg['y0']) / mpl.ratio;\n",
       "    var x1 = msg['x1'] / mpl.ratio;\n",
       "    var y1 = (fig.canvas.height - msg['y1']) / mpl.ratio;\n",
       "    x0 = Math.floor(x0) + 0.5;\n",
       "    y0 = Math.floor(y0) + 0.5;\n",
       "    x1 = Math.floor(x1) + 0.5;\n",
       "    y1 = Math.floor(y1) + 0.5;\n",
       "    var min_x = Math.min(x0, x1);\n",
       "    var min_y = Math.min(y0, y1);\n",
       "    var width = Math.abs(x1 - x0);\n",
       "    var height = Math.abs(y1 - y0);\n",
       "\n",
       "    fig.rubberband_context.clearRect(\n",
       "        0, 0, fig.canvas.width / mpl.ratio, fig.canvas.height / mpl.ratio);\n",
       "\n",
       "    fig.rubberband_context.strokeRect(min_x, min_y, width, height);\n",
       "}\n",
       "\n",
       "mpl.figure.prototype.handle_figure_label = function(fig, msg) {\n",
       "    // Updates the figure title.\n",
       "    fig.header.textContent = msg['label'];\n",
       "}\n",
       "\n",
       "mpl.figure.prototype.handle_cursor = function(fig, msg) {\n",
       "    var cursor = msg['cursor'];\n",
       "    switch(cursor)\n",
       "    {\n",
       "    case 0:\n",
       "        cursor = 'pointer';\n",
       "        break;\n",
       "    case 1:\n",
       "        cursor = 'default';\n",
       "        break;\n",
       "    case 2:\n",
       "        cursor = 'crosshair';\n",
       "        break;\n",
       "    case 3:\n",
       "        cursor = 'move';\n",
       "        break;\n",
       "    }\n",
       "    fig.rubberband_canvas.style.cursor = cursor;\n",
       "}\n",
       "\n",
       "mpl.figure.prototype.handle_message = function(fig, msg) {\n",
       "    fig.message.textContent = msg['message'];\n",
       "}\n",
       "\n",
       "mpl.figure.prototype.handle_draw = function(fig, msg) {\n",
       "    // Request the server to send over a new figure.\n",
       "    fig.send_draw_message();\n",
       "}\n",
       "\n",
       "mpl.figure.prototype.handle_image_mode = function(fig, msg) {\n",
       "    fig.image_mode = msg['mode'];\n",
       "}\n",
       "\n",
       "mpl.figure.prototype.updated_canvas_event = function() {\n",
       "    // Called whenever the canvas gets updated.\n",
       "    this.send_message(\"ack\", {});\n",
       "}\n",
       "\n",
       "// A function to construct a web socket function for onmessage handling.\n",
       "// Called in the figure constructor.\n",
       "mpl.figure.prototype._make_on_message_function = function(fig) {\n",
       "    return function socket_on_message(evt) {\n",
       "        if (evt.data instanceof Blob) {\n",
       "            /* FIXME: We get \"Resource interpreted as Image but\n",
       "             * transferred with MIME type text/plain:\" errors on\n",
       "             * Chrome.  But how to set the MIME type?  It doesn't seem\n",
       "             * to be part of the websocket stream */\n",
       "            evt.data.type = \"image/png\";\n",
       "\n",
       "            /* Free the memory for the previous frames */\n",
       "            if (fig.imageObj.src) {\n",
       "                (window.URL || window.webkitURL).revokeObjectURL(\n",
       "                    fig.imageObj.src);\n",
       "            }\n",
       "\n",
       "            fig.imageObj.src = (window.URL || window.webkitURL).createObjectURL(\n",
       "                evt.data);\n",
       "            fig.updated_canvas_event();\n",
       "            fig.waiting = false;\n",
       "            return;\n",
       "        }\n",
       "        else if (typeof evt.data === 'string' && evt.data.slice(0, 21) == \"data:image/png;base64\") {\n",
       "            fig.imageObj.src = evt.data;\n",
       "            fig.updated_canvas_event();\n",
       "            fig.waiting = false;\n",
       "            return;\n",
       "        }\n",
       "\n",
       "        var msg = JSON.parse(evt.data);\n",
       "        var msg_type = msg['type'];\n",
       "\n",
       "        // Call the  \"handle_{type}\" callback, which takes\n",
       "        // the figure and JSON message as its only arguments.\n",
       "        try {\n",
       "            var callback = fig[\"handle_\" + msg_type];\n",
       "        } catch (e) {\n",
       "            console.log(\"No handler for the '\" + msg_type + \"' message type: \", msg);\n",
       "            return;\n",
       "        }\n",
       "\n",
       "        if (callback) {\n",
       "            try {\n",
       "                // console.log(\"Handling '\" + msg_type + \"' message: \", msg);\n",
       "                callback(fig, msg);\n",
       "            } catch (e) {\n",
       "                console.log(\"Exception inside the 'handler_\" + msg_type + \"' callback:\", e, e.stack, msg);\n",
       "            }\n",
       "        }\n",
       "    };\n",
       "}\n",
       "\n",
       "// from http://stackoverflow.com/questions/1114465/getting-mouse-location-in-canvas\n",
       "mpl.findpos = function(e) {\n",
       "    //this section is from http://www.quirksmode.org/js/events_properties.html\n",
       "    var targ;\n",
       "    if (!e)\n",
       "        e = window.event;\n",
       "    if (e.target)\n",
       "        targ = e.target;\n",
       "    else if (e.srcElement)\n",
       "        targ = e.srcElement;\n",
       "    if (targ.nodeType == 3) // defeat Safari bug\n",
       "        targ = targ.parentNode;\n",
       "\n",
       "    // jQuery normalizes the pageX and pageY\n",
       "    // pageX,Y are the mouse positions relative to the document\n",
       "    // offset() returns the position of the element relative to the document\n",
       "    var x = e.pageX - $(targ).offset().left;\n",
       "    var y = e.pageY - $(targ).offset().top;\n",
       "\n",
       "    return {\"x\": x, \"y\": y};\n",
       "};\n",
       "\n",
       "/*\n",
       " * return a copy of an object with only non-object keys\n",
       " * we need this to avoid circular references\n",
       " * http://stackoverflow.com/a/24161582/3208463\n",
       " */\n",
       "function simpleKeys (original) {\n",
       "  return Object.keys(original).reduce(function (obj, key) {\n",
       "    if (typeof original[key] !== 'object')\n",
       "        obj[key] = original[key]\n",
       "    return obj;\n",
       "  }, {});\n",
       "}\n",
       "\n",
       "mpl.figure.prototype.mouse_event = function(event, name) {\n",
       "    var canvas_pos = mpl.findpos(event)\n",
       "\n",
       "    if (name === 'button_press')\n",
       "    {\n",
       "        this.canvas.focus();\n",
       "        this.canvas_div.focus();\n",
       "    }\n",
       "\n",
       "    var x = canvas_pos.x * mpl.ratio;\n",
       "    var y = canvas_pos.y * mpl.ratio;\n",
       "\n",
       "    this.send_message(name, {x: x, y: y, button: event.button,\n",
       "                             step: event.step,\n",
       "                             guiEvent: simpleKeys(event)});\n",
       "\n",
       "    /* This prevents the web browser from automatically changing to\n",
       "     * the text insertion cursor when the button is pressed.  We want\n",
       "     * to control all of the cursor setting manually through the\n",
       "     * 'cursor' event from matplotlib */\n",
       "    event.preventDefault();\n",
       "    return false;\n",
       "}\n",
       "\n",
       "mpl.figure.prototype._key_event_extra = function(event, name) {\n",
       "    // Handle any extra behaviour associated with a key event\n",
       "}\n",
       "\n",
       "mpl.figure.prototype.key_event = function(event, name) {\n",
       "\n",
       "    // Prevent repeat events\n",
       "    if (name == 'key_press')\n",
       "    {\n",
       "        if (event.which === this._key)\n",
       "            return;\n",
       "        else\n",
       "            this._key = event.which;\n",
       "    }\n",
       "    if (name == 'key_release')\n",
       "        this._key = null;\n",
       "\n",
       "    var value = '';\n",
       "    if (event.ctrlKey && event.which != 17)\n",
       "        value += \"ctrl+\";\n",
       "    if (event.altKey && event.which != 18)\n",
       "        value += \"alt+\";\n",
       "    if (event.shiftKey && event.which != 16)\n",
       "        value += \"shift+\";\n",
       "\n",
       "    value += 'k';\n",
       "    value += event.which.toString();\n",
       "\n",
       "    this._key_event_extra(event, name);\n",
       "\n",
       "    this.send_message(name, {key: value,\n",
       "                             guiEvent: simpleKeys(event)});\n",
       "    return false;\n",
       "}\n",
       "\n",
       "mpl.figure.prototype.toolbar_button_onclick = function(name) {\n",
       "    if (name == 'download') {\n",
       "        this.handle_save(this, null);\n",
       "    } else {\n",
       "        this.send_message(\"toolbar_button\", {name: name});\n",
       "    }\n",
       "};\n",
       "\n",
       "mpl.figure.prototype.toolbar_button_onmouseover = function(tooltip) {\n",
       "    this.message.textContent = tooltip;\n",
       "};\n",
       "mpl.toolbar_items = [[\"Home\", \"Reset original view\", \"fa fa-home icon-home\", \"home\"], [\"Back\", \"Back to previous view\", \"fa fa-arrow-left icon-arrow-left\", \"back\"], [\"Forward\", \"Forward to next view\", \"fa fa-arrow-right icon-arrow-right\", \"forward\"], [\"\", \"\", \"\", \"\"], [\"Pan\", \"Pan axes with left mouse, zoom with right\", \"fa fa-arrows icon-move\", \"pan\"], [\"Zoom\", \"Zoom to rectangle\", \"fa fa-square-o icon-check-empty\", \"zoom\"], [\"\", \"\", \"\", \"\"], [\"Download\", \"Download plot\", \"fa fa-floppy-o icon-save\", \"download\"]];\n",
       "\n",
       "mpl.extensions = [\"eps\", \"jpeg\", \"pdf\", \"png\", \"ps\", \"raw\", \"svg\", \"tif\"];\n",
       "\n",
       "mpl.default_extension = \"png\";var comm_websocket_adapter = function(comm) {\n",
       "    // Create a \"websocket\"-like object which calls the given IPython comm\n",
       "    // object with the appropriate methods. Currently this is a non binary\n",
       "    // socket, so there is still some room for performance tuning.\n",
       "    var ws = {};\n",
       "\n",
       "    ws.close = function() {\n",
       "        comm.close()\n",
       "    };\n",
       "    ws.send = function(m) {\n",
       "        //console.log('sending', m);\n",
       "        comm.send(m);\n",
       "    };\n",
       "    // Register the callback with on_msg.\n",
       "    comm.on_msg(function(msg) {\n",
       "        //console.log('receiving', msg['content']['data'], msg);\n",
       "        // Pass the mpl event to the overridden (by mpl) onmessage function.\n",
       "        ws.onmessage(msg['content']['data'])\n",
       "    });\n",
       "    return ws;\n",
       "}\n",
       "\n",
       "mpl.mpl_figure_comm = function(comm, msg) {\n",
       "    // This is the function which gets called when the mpl process\n",
       "    // starts-up an IPython Comm through the \"matplotlib\" channel.\n",
       "\n",
       "    var id = msg.content.data.id;\n",
       "    // Get hold of the div created by the display call when the Comm\n",
       "    // socket was opened in Python.\n",
       "    var element = $(\"#\" + id);\n",
       "    var ws_proxy = comm_websocket_adapter(comm)\n",
       "\n",
       "    function ondownload(figure, format) {\n",
       "        window.open(figure.imageObj.src);\n",
       "    }\n",
       "\n",
       "    var fig = new mpl.figure(id, ws_proxy,\n",
       "                           ondownload,\n",
       "                           element.get(0));\n",
       "\n",
       "    // Call onopen now - mpl needs it, as it is assuming we've passed it a real\n",
       "    // web socket which is closed, not our websocket->open comm proxy.\n",
       "    ws_proxy.onopen();\n",
       "\n",
       "    fig.parent_element = element.get(0);\n",
       "    fig.cell_info = mpl.find_output_cell(\"<div id='\" + id + \"'></div>\");\n",
       "    if (!fig.cell_info) {\n",
       "        console.error(\"Failed to find cell for figure\", id, fig);\n",
       "        return;\n",
       "    }\n",
       "\n",
       "    var output_index = fig.cell_info[2]\n",
       "    var cell = fig.cell_info[0];\n",
       "\n",
       "};\n",
       "\n",
       "mpl.figure.prototype.handle_close = function(fig, msg) {\n",
       "    var width = fig.canvas.width/mpl.ratio\n",
       "    fig.root.unbind('remove')\n",
       "\n",
       "    // Update the output cell to use the data from the current canvas.\n",
       "    fig.push_to_output();\n",
       "    var dataURL = fig.canvas.toDataURL();\n",
       "    // Re-enable the keyboard manager in IPython - without this line, in FF,\n",
       "    // the notebook keyboard shortcuts fail.\n",
       "    IPython.keyboard_manager.enable()\n",
       "    $(fig.parent_element).html('<img src=\"' + dataURL + '\" width=\"' + width + '\">');\n",
       "    fig.close_ws(fig, msg);\n",
       "}\n",
       "\n",
       "mpl.figure.prototype.close_ws = function(fig, msg){\n",
       "    fig.send_message('closing', msg);\n",
       "    // fig.ws.close()\n",
       "}\n",
       "\n",
       "mpl.figure.prototype.push_to_output = function(remove_interactive) {\n",
       "    // Turn the data on the canvas into data in the output cell.\n",
       "    var width = this.canvas.width/mpl.ratio\n",
       "    var dataURL = this.canvas.toDataURL();\n",
       "    this.cell_info[1]['text/html'] = '<img src=\"' + dataURL + '\" width=\"' + width + '\">';\n",
       "}\n",
       "\n",
       "mpl.figure.prototype.updated_canvas_event = function() {\n",
       "    // Tell IPython that the notebook contents must change.\n",
       "    IPython.notebook.set_dirty(true);\n",
       "    this.send_message(\"ack\", {});\n",
       "    var fig = this;\n",
       "    // Wait a second, then push the new image to the DOM so\n",
       "    // that it is saved nicely (might be nice to debounce this).\n",
       "    setTimeout(function () { fig.push_to_output() }, 1000);\n",
       "}\n",
       "\n",
       "mpl.figure.prototype._init_toolbar = function() {\n",
       "    var fig = this;\n",
       "\n",
       "    var nav_element = $('<div/>');\n",
       "    nav_element.attr('style', 'width: 100%');\n",
       "    this.root.append(nav_element);\n",
       "\n",
       "    // Define a callback function for later on.\n",
       "    function toolbar_event(event) {\n",
       "        return fig.toolbar_button_onclick(event['data']);\n",
       "    }\n",
       "    function toolbar_mouse_event(event) {\n",
       "        return fig.toolbar_button_onmouseover(event['data']);\n",
       "    }\n",
       "\n",
       "    for(var toolbar_ind in mpl.toolbar_items){\n",
       "        var name = mpl.toolbar_items[toolbar_ind][0];\n",
       "        var tooltip = mpl.toolbar_items[toolbar_ind][1];\n",
       "        var image = mpl.toolbar_items[toolbar_ind][2];\n",
       "        var method_name = mpl.toolbar_items[toolbar_ind][3];\n",
       "\n",
       "        if (!name) { continue; };\n",
       "\n",
       "        var button = $('<button class=\"btn btn-default\" href=\"#\" title=\"' + name + '\"><i class=\"fa ' + image + ' fa-lg\"></i></button>');\n",
       "        button.click(method_name, toolbar_event);\n",
       "        button.mouseover(tooltip, toolbar_mouse_event);\n",
       "        nav_element.append(button);\n",
       "    }\n",
       "\n",
       "    // Add the status bar.\n",
       "    var status_bar = $('<span class=\"mpl-message\" style=\"text-align:right; float: right;\"/>');\n",
       "    nav_element.append(status_bar);\n",
       "    this.message = status_bar[0];\n",
       "\n",
       "    // Add the close button to the window.\n",
       "    var buttongrp = $('<div class=\"btn-group inline pull-right\"></div>');\n",
       "    var button = $('<button class=\"btn btn-mini btn-primary\" href=\"#\" title=\"Stop Interaction\"><i class=\"fa fa-power-off icon-remove icon-large\"></i></button>');\n",
       "    button.click(function (evt) { fig.handle_close(fig, {}); } );\n",
       "    button.mouseover('Stop Interaction', toolbar_mouse_event);\n",
       "    buttongrp.append(button);\n",
       "    var titlebar = this.root.find($('.ui-dialog-titlebar'));\n",
       "    titlebar.prepend(buttongrp);\n",
       "}\n",
       "\n",
       "mpl.figure.prototype._root_extra_style = function(el){\n",
       "    var fig = this\n",
       "    el.on(\"remove\", function(){\n",
       "\tfig.close_ws(fig, {});\n",
       "    });\n",
       "}\n",
       "\n",
       "mpl.figure.prototype._canvas_extra_style = function(el){\n",
       "    // this is important to make the div 'focusable\n",
       "    el.attr('tabindex', 0)\n",
       "    // reach out to IPython and tell the keyboard manager to turn it's self\n",
       "    // off when our div gets focus\n",
       "\n",
       "    // location in version 3\n",
       "    if (IPython.notebook.keyboard_manager) {\n",
       "        IPython.notebook.keyboard_manager.register_events(el);\n",
       "    }\n",
       "    else {\n",
       "        // location in version 2\n",
       "        IPython.keyboard_manager.register_events(el);\n",
       "    }\n",
       "\n",
       "}\n",
       "\n",
       "mpl.figure.prototype._key_event_extra = function(event, name) {\n",
       "    var manager = IPython.notebook.keyboard_manager;\n",
       "    if (!manager)\n",
       "        manager = IPython.keyboard_manager;\n",
       "\n",
       "    // Check for shift+enter\n",
       "    if (event.shiftKey && event.which == 13) {\n",
       "        this.canvas_div.blur();\n",
       "        // select the cell after this one\n",
       "        var index = IPython.notebook.find_cell_index(this.cell_info[0]);\n",
       "        IPython.notebook.select(index + 1);\n",
       "    }\n",
       "}\n",
       "\n",
       "mpl.figure.prototype.handle_save = function(fig, msg) {\n",
       "    fig.ondownload(fig, null);\n",
       "}\n",
       "\n",
       "\n",
       "mpl.find_output_cell = function(html_output) {\n",
       "    // Return the cell and output element which can be found *uniquely* in the notebook.\n",
       "    // Note - this is a bit hacky, but it is done because the \"notebook_saving.Notebook\"\n",
       "    // IPython event is triggered only after the cells have been serialised, which for\n",
       "    // our purposes (turning an active figure into a static one), is too late.\n",
       "    var cells = IPython.notebook.get_cells();\n",
       "    var ncells = cells.length;\n",
       "    for (var i=0; i<ncells; i++) {\n",
       "        var cell = cells[i];\n",
       "        if (cell.cell_type === 'code'){\n",
       "            for (var j=0; j<cell.output_area.outputs.length; j++) {\n",
       "                var data = cell.output_area.outputs[j];\n",
       "                if (data.data) {\n",
       "                    // IPython >= 3 moved mimebundle to data attribute of output\n",
       "                    data = data.data;\n",
       "                }\n",
       "                if (data['text/html'] == html_output) {\n",
       "                    return [cell, data, j];\n",
       "                }\n",
       "            }\n",
       "        }\n",
       "    }\n",
       "}\n",
       "\n",
       "// Register the function which deals with the matplotlib target/channel.\n",
       "// The kernel may be null if the page has been refreshed.\n",
       "if (IPython.notebook.kernel != null) {\n",
       "    IPython.notebook.kernel.comm_manager.register_target('matplotlib', mpl.mpl_figure_comm);\n",
       "}\n"
      ],
      "text/plain": [
       "<IPython.core.display.Javascript object>"
      ]
     },
     "metadata": {},
     "output_type": "display_data"
    },
    {
     "data": {
      "text/html": [
       "<img src=\"data:image/png;base64,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\" width=\"640\">"
      ],
      "text/plain": [
       "<IPython.core.display.HTML object>"
      ]
     },
     "metadata": {},
     "output_type": "display_data"
    }
   ],
   "source": [
    "%matplotlib notebook\n",
    "Bond_length=1.14\n",
    "# Bond_length=0.01\n",
    "O_a=(0, 0, -Bond_length)\n",
    "C_b= (0, 0, 0)\n",
    "O_b= (0,0,Bond_length)\n",
    "\n",
    "import matplotlib.pyplot as plt\n",
    "from mpl_toolkits.mplot3d import Axes3D\n",
    "fig = plt.figure()\n",
    "ax = fig.add_subplot(111, projection='3d')\n",
    "\n",
    "ax.scatter(*O_a, marker='o', color='red', label='O (a)')\n",
    "ax.scatter(*C_b, marker='o', color='olive', label='C (b)')\n",
    "ax.scatter(*O_b, marker='o', color='lime', label='O (b)')\n",
    "plt.legend()\n",
    "plt.show()\n"
   ]
  },
  {
   "cell_type": "code",
   "execution_count": 3,
   "metadata": {},
   "outputs": [
    {
     "data": {
      "text/plain": [
       "<pyscf.gto.mole.Mole at 0x7f8eedde6250>"
      ]
     },
     "execution_count": 3,
     "metadata": {},
     "output_type": "execute_result"
    }
   ],
   "source": [
    "S_A = gto.Mole(atom='{} {} {} {}'.format('O',*O_a),\n",
    "               basis=\"sto3g\",\n",
    "               charge=0,\n",
    "               spin=0)\n",
    "S_A.build()"
   ]
  },
  {
   "cell_type": "code",
   "execution_count": 4,
   "metadata": {},
   "outputs": [
    {
     "data": {
      "text/plain": [
       "<pyscf.gto.mole.Mole at 0x7f8eedde6950>"
      ]
     },
     "execution_count": 4,
     "metadata": {},
     "output_type": "execute_result"
    }
   ],
   "source": [
    "S_B = gto.Mole(atom='{} {} {} {}'.format('C',*C_b) + \"; \" + '{} {} {} {}'.format('O',*O_b),\n",
    "               basis=\"sto3g\",\n",
    "               charge=0,\n",
    "               spin=0)\n",
    "S_B.build()"
   ]
  },
  {
   "cell_type": "code",
   "execution_count": 5,
   "metadata": {},
   "outputs": [
    {
     "name": "stdout",
     "output_type": "stream",
     "text": [
      "O 0 0 -1.14; C 0 0 0; O 0 0 1.14\n"
     ]
    }
   ],
   "source": [
    "S_T = gto.Mole(atom=S_A.atom + \"; \" +S_B.atom,\n",
    "               basis=\"sto3g\",\n",
    "               charge=S_A.charge+S_B.charge,\n",
    "               spin=S_A.spin+S_B.spin)\n",
    "\n",
    "S_T.build()\n",
    "print(S_T.atom)"
   ]
  },
  {
   "cell_type": "markdown",
   "metadata": {},
   "source": [
    "# 2. Full DFT calculation"
   ]
  },
  {
   "cell_type": "code",
   "execution_count": 6,
   "metadata": {},
   "outputs": [
    {
     "name": "stdout",
     "output_type": "stream",
     "text": [
      "converged SCF energy = -184.549802955807\n"
     ]
    },
    {
     "name": "stderr",
     "output_type": "stream",
     "text": [
      "/Users/lex/anaconda3/envs/pyscf/lib/python3.7/site-packages/pyscf/scf/chkfile.py:31: H5pyDeprecationWarning: The default file mode will change to 'r' (read-only) in h5py 3.0. To suppress this warning, pass the mode you need to h5py.File(), or set the global default h5.get_config().default_file_mode, or set the environment variable H5PY_DEFAULT_READONLY=1. Available modes are: 'r', 'r+', 'w', 'w-'/'x', 'a'. See the docs for details.\n",
      "  with h5py.File(chkfile) as fh5:\n"
     ]
    },
    {
     "data": {
      "text/plain": [
       "-184.54980295580702"
      ]
     },
     "execution_count": 6,
     "metadata": {},
     "output_type": "execute_result"
    }
   ],
   "source": [
    "S_Tscf = scf.RKS(S_T)\n",
    "S_Tscf.xc = 'lda,vwn'\n",
    "S_Tscf.small_rho_cutoff = 1e-20\n",
    "S_Tscf.kernel()"
   ]
  },
  {
   "cell_type": "markdown",
   "metadata": {},
   "source": [
    "# 3. Get subsystem density matrices!"
   ]
  },
  {
   "cell_type": "code",
   "execution_count": 7,
   "metadata": {},
   "outputs": [],
   "source": [
    "# find number of orbitals in each system\n",
    "na = S_A.nao_nr()\n",
    "nb = S_B.nao_nr()\n",
    "nt = S_T.nao_nr()"
   ]
  },
  {
   "cell_type": "code",
   "execution_count": 8,
   "metadata": {},
   "outputs": [
    {
     "name": "stdout",
     "output_type": "stream",
     "text": [
      "True\n"
     ]
    }
   ],
   "source": [
    "dm_T = S_Tscf.make_rdm1()\n",
    "C_occupied = S_Tscf.mo_coeff[:, S_Tscf.mo_occ>0]\n",
    "full_denisty = 2*np.dot(C_occupied, C_occupied.conj().T) # gamma_Total\n",
    "print(np.allclose(full_denisty, dm_T))\n",
    "\n",
    "J_Tot, K_Tot = S_Tscf.get_jk(dm=dm_T) # Coulomb (J) and exchange (K)\n",
    "Fock_T = S_Tscf.get_hcore() + J_Tot + K_Tot"
   ]
  },
  {
   "cell_type": "code",
   "execution_count": 9,
   "metadata": {},
   "outputs": [],
   "source": [
    "C_occupied_A =  C_occupied[:, :na]\n",
    "dm_A = 2*np.dot(C_occupied_A, C_occupied_A.conj().T) # gamma_A"
   ]
  },
  {
   "cell_type": "code",
   "execution_count": 10,
   "metadata": {},
   "outputs": [
    {
     "name": "stdout",
     "output_type": "stream",
     "text": [
      "gamma_A + gamma_B = gamma_T: True\n"
     ]
    }
   ],
   "source": [
    "C_occupied_B =  C_occupied[:, na:]\n",
    "dm_B = 2*np.dot(C_occupied_B, C_occupied_B.conj().T) # gamma_B\n",
    "\n",
    "print('gamma_A + gamma_B = gamma_T:', np.allclose(dm_A+dm_B, dm_T)) # check y_A + y_B = y_T"
   ]
  },
  {
   "cell_type": "markdown",
   "metadata": {},
   "source": [
    "**NOTE:**\n",
    "- I have simply sliced the occupied orbitals according to no. of orbitals in A and B\n",
    "- This will work correctly according to linear algebra\n",
    "- BUT not sure if we are correctly selecting the right part of the molecule\n",
    "    - please look into this further"
   ]
  },
  {
   "cell_type": "markdown",
   "metadata": {},
   "source": [
    "# 4. define embedded core H"
   ]
  },
  {
   "cell_type": "code",
   "execution_count": 11,
   "metadata": {},
   "outputs": [],
   "source": [
    "#### Mu projector method!!!! \n",
    "# equation (5) of Goodpaster paper\n",
    "# comment box below out to use!\n",
    "\n",
    "# ao_overlap = S_Tscf.get_ovlp()\n",
    "# projector = ao_overlap.dot(dm_B).dot(ao_overlap)\n",
    "\n",
    "# print(np.trace(projector.dot(dm_A)))\n",
    "# print(np.trace(projector.dot(dm_B)))"
   ]
  },
  {
   "cell_type": "code",
   "execution_count": 12,
   "metadata": {},
   "outputs": [
    {
     "name": "stdout",
     "output_type": "stream",
     "text": [
      "8.326672684688674e-17\n",
      "-57.95569629097332\n"
     ]
    }
   ],
   "source": [
    "## Define the Huzinga operator \n",
    "# equation (6) of Goodpaster paper\n",
    "\n",
    "ao_overlap = S_Tscf.get_ovlp()\n",
    "\n",
    "F_yb_S = np.dot(Fock_T, dm_B.dot(ao_overlap))\n",
    "S_yb_F = F_yb_S.T\n",
    "\n",
    "projector = -0.5*(F_yb_S+S_yb_F) # Huzinga operator\n",
    "\n",
    "print(np.trace(projector.dot(dm_A)))\n",
    "print(np.trace(projector.dot(dm_B)))"
   ]
  },
  {
   "cell_type": "code",
   "execution_count": 13,
   "metadata": {},
   "outputs": [
    {
     "data": {
      "text/plain": [
       "36.608824826072045"
      ]
     },
     "execution_count": 13,
     "metadata": {},
     "output_type": "execute_result"
    }
   ],
   "source": [
    "# Get subsystem energy terms and potential matrices\n",
    "# active part (system A)\n",
    "\n",
    "j_act=S_Tscf.get_j(dm=dm_A)\n",
    "k_act= S_Tscf.get_k(dm=dm_A)\n",
    "two_e_term_act=S_Tscf.get_veff(dm=dm_A)\n",
    "e_xc_act= two_e_term_act.exc\n",
    "v_xc_act= two_e_term_act-j_act-k_act\n",
    "\n",
    "# Hadamard product\n",
    "# https://stackoverflow.com/questions/26089893/understanding-numpys-einsum \n",
    "e_active = np.einsum('ij,ij', dm_A, j_act/2) + e_xc_act\n",
    "e_active"
   ]
  },
  {
   "cell_type": "code",
   "execution_count": 14,
   "metadata": {},
   "outputs": [],
   "source": [
    "# # environment part (system B)\n",
    "\n",
    "# j_environ= S_Tscf.get_j(dm=dm_B)\n",
    "# k_environ= S_Tscf.get_k(dm=dm_B)\n",
    "# two_e_term_environ=S_Tscf.get_veff(dm=dm_B)\n",
    "# e_xc_environ=two_e_term_environ.exc\n",
    "# v_xc_environ=two_e_term_environ-j_environ-k_environ\n",
    "\n",
    "# e_environ= np.einsum('ij,ij', dm_B, j_environ/2) + e_xc_environ\n",
    "# e_environ"
   ]
  },
  {
   "cell_type": "code",
   "execution_count": 15,
   "metadata": {},
   "outputs": [],
   "source": [
    "# V_xc_total = S_Tscf.get_veff() # g(gamma_A + gamma_B)\n",
    "# E_xc_total = S_Tscf.get_veff().exc\n",
    "# v_emb = j_environ + V_xc_total - v_xc_act + projector "
   ]
  },
  {
   "cell_type": "code",
   "execution_count": null,
   "metadata": {},
   "outputs": [],
   "source": []
  },
  {
   "cell_type": "code",
   "execution_count": 16,
   "metadata": {},
   "outputs": [],
   "source": [
    "V_xc_total = S_Tscf.get_veff() # g(gamma_A + gamma_B)\n",
    "E_xc_total = S_Tscf.get_veff().exc\n",
    "\n",
    "\n",
    "# equation (3) Goodpastor  [note excludes Hcore]\n",
    "v_emb = V_xc_total - v_xc_act + projector # g(gamma_A + gamma_B) - g(gamma_A) + Pb"
   ]
  },
  {
   "cell_type": "markdown",
   "metadata": {},
   "source": [
    "# 5. perform DFT_in_DFT calculation"
   ]
  },
  {
   "cell_type": "code",
   "execution_count": 1,
   "metadata": {},
   "outputs": [
    {
     "ename": "NameError",
     "evalue": "name 'S_Tscf' is not defined",
     "output_type": "error",
     "traceback": [
      "\u001b[0;31m---------------------------------------------------------------------------\u001b[0m",
      "\u001b[0;31mNameError\u001b[0m                                 Traceback (most recent call last)",
      "\u001b[0;32m<ipython-input-1-40944e5ab368>\u001b[0m in \u001b[0;36m<module>\u001b[0;34m\u001b[0m\n\u001b[0;32m----> 1\u001b[0;31m \u001b[0mh_core\u001b[0m \u001b[0;34m=\u001b[0m \u001b[0mS_Tscf\u001b[0m\u001b[0;34m.\u001b[0m\u001b[0mget_hcore\u001b[0m\u001b[0;34m(\u001b[0m\u001b[0;34m)\u001b[0m\u001b[0;34m\u001b[0m\u001b[0;34m\u001b[0m\u001b[0m\n\u001b[0m\u001b[1;32m      2\u001b[0m \u001b[0;34m\u001b[0m\u001b[0m\n\u001b[1;32m      3\u001b[0m \u001b[0;31m# h_core_embed = h_core + embedding_potential + projector\u001b[0m\u001b[0;34m\u001b[0m\u001b[0;34m\u001b[0m\u001b[0;34m\u001b[0m\u001b[0m\n\u001b[1;32m      4\u001b[0m \u001b[0mS_Tscf_embedded\u001b[0m \u001b[0;34m=\u001b[0m \u001b[0mscf\u001b[0m\u001b[0;34m.\u001b[0m\u001b[0mRKS\u001b[0m\u001b[0;34m(\u001b[0m\u001b[0mS_T\u001b[0m\u001b[0;34m)\u001b[0m \u001b[0;31m# <---different level of theory!!\u001b[0m\u001b[0;34m\u001b[0m\u001b[0;34m\u001b[0m\u001b[0m\n\u001b[1;32m      5\u001b[0m \u001b[0mS_Tscf\u001b[0m\u001b[0;34m.\u001b[0m\u001b[0mxc\u001b[0m \u001b[0;34m=\u001b[0m \u001b[0;34m'lda,vwn'\u001b[0m\u001b[0;34m\u001b[0m\u001b[0;34m\u001b[0m\u001b[0m\n",
      "\u001b[0;31mNameError\u001b[0m: name 'S_Tscf' is not defined"
     ]
    }
   ],
   "source": [
    "h_core = S_Tscf.get_hcore()\n",
    "\n",
    "# h_core_embed = h_core + embedding_potential + projector\n",
    "S_Tscf_embedded = scf.RKS(S_T) # <---different level of theory!!\n",
    "S_Tscf.xc = 'lda,vwn'\n",
    "# S_Tscf.xc = 'b3lyp'\n",
    "S_Tscf_embedded.h_core = lambda *args: v_emb + h_core\n",
    "S_Tscf_embedded.conv_tol= 1e-10\n",
    "S_Tscf_embedded.kernel()\n",
    "\n",
    "print('')\n",
    "print('standard KS calc: E=', S_Tscf.e_tot)\n",
    "print('embedded DFT calc: E=',S_Tscf_embedded.e_tot)"
   ]
  },
  {
   "cell_type": "markdown",
   "metadata": {},
   "source": [
    "# 6. NEXT do WF calc on subsystem A"
   ]
  },
  {
   "cell_type": "code",
   "execution_count": 18,
   "metadata": {},
   "outputs": [
    {
     "name": "stdout",
     "output_type": "stream",
     "text": [
      "converged SCF energy = -185.057009982185\n",
      "converged SCF energy = -185.057009982169\n",
      "\n",
      "\n",
      "Energy with standard Hamiltonian =  -185.05700998218532\n",
      "Energy with embedded Hamiltonian =  -185.05700998216867\n"
     ]
    },
    {
     "name": "stderr",
     "output_type": "stream",
     "text": [
      "<class 'pyscf.scf.hf.RHF'> does not have attributes  h_core\n"
     ]
    }
   ],
   "source": [
    "HF_Sa_embedded = scf.RHF(S_T) \n",
    "HF_Sa_embedded.run()\n",
    "E_HF_no_embedding = HF_Sa_embedded.e_tot\n",
    "\n",
    "HF_Sa_embedded.h_core = lambda *args: v_emb + h_core # <--- h_core_embed\n",
    "HF_Sa_embedded.conv_tol= 1e-6\n",
    "HF_Sa_embedded.kernel()\n",
    "\n",
    "E_HF_with_embedding = HF_Sa_embedded.e_tot\n",
    "\n",
    "print('')\n",
    "print('')\n",
    "print('Energy with standard Hamiltonian = ', E_HF_no_embedding)\n",
    "print('Energy with embedded Hamiltonian = ',E_HF_with_embedding)"
   ]
  },
  {
   "cell_type": "code",
   "execution_count": 19,
   "metadata": {},
   "outputs": [
    {
     "name": "stdout",
     "output_type": "stream",
     "text": [
      "E(CCSD) = -185.2427064000316  E_corr = -0.1856964178629046\n"
     ]
    },
    {
     "name": "stderr",
     "output_type": "stream",
     "text": [
      "/Users/lex/anaconda3/envs/pyscf/lib/python3.7/site-packages/pyscf/lib/misc.py:874: H5pyDeprecationWarning: The default file mode will change to 'r' (read-only) in h5py 3.0. To suppress this warning, pass the mode you need to h5py.File(), or set the global default h5.get_config().default_file_mode, or set the environment variable H5PY_DEFAULT_READONLY=1. Available modes are: 'r', 'r+', 'w', 'w-'/'x', 'a'. See the docs for details.\n",
      "  h5py.File.__init__(self, filename, *args, **kwargs)\n"
     ]
    }
   ],
   "source": [
    "# coupled cluster\n",
    "Sa_CC = cc.CCSD(HF_Sa_embedded)\n",
    "ecc, t1, t2 = Sa_CC.kernel()\n",
    "Energy_CC_Sa = Sa_CC.e_tot + ecc"
   ]
  },
  {
   "cell_type": "markdown",
   "metadata": {},
   "source": [
    "# 7. WF in DFT energy\n",
    "\n",
    "\n",
    "$$E_{total} = E_{DFT}^{Total} - E_{DFT-in-DFT}^{A} + E_{WF-in-DFT}^{A} $$\n",
    "\n",
    "- $E_{DFT}^{Total}$ is the full system Kohn-Sham DFT energy\n",
    "- $E_{DFT-in-DFT}^{A}$ is the DFT energy of subsystem A embedded in the DFT potential of the rest of the system\n",
    "- $E_{WF-in-DFT}^{A}$ is the CCSD energy of subsystem A embedded in the DFT potential of the rest of the system"
   ]
  },
  {
   "cell_type": "code",
   "execution_count": 20,
   "metadata": {},
   "outputs": [
    {
     "data": {
      "text/plain": [
       "-185.42840281860595"
      ]
     },
     "execution_count": 20,
     "metadata": {},
     "output_type": "execute_result"
    }
   ],
   "source": [
    "E_WF_in_DFT = S_Tscf.e_tot - S_Tscf_embedded.e_tot + Energy_CC_Sa\n",
    "E_WF_in_DFT"
   ]
  },
  {
   "cell_type": "markdown",
   "metadata": {},
   "source": [
    "# 8. Compare to FCI Energy"
   ]
  },
  {
   "cell_type": "code",
   "execution_count": 21,
   "metadata": {},
   "outputs": [
    {
     "name": "stdout",
     "output_type": "stream",
     "text": [
      "FCI energy: -185.2613976728537\n"
     ]
    }
   ],
   "source": [
    "# Perform a FCI to check the validity of results\n",
    "cisolver = fci.FCI(S_T, S_Tscf.mo_coeff)\n",
    "efci = cisolver.kernel()[0]\n",
    "print(\"FCI energy:\", efci)"
   ]
  },
  {
   "cell_type": "code",
   "execution_count": 22,
   "metadata": {},
   "outputs": [
    {
     "name": "stdout",
     "output_type": "stream",
     "text": [
      "WF_in_DFT ΔE =  0.1670051457522561\n",
      "Relative error for WF_in_DFT: -0.00090145679483194\n"
     ]
    }
   ],
   "source": [
    "print('WF_in_DFT ΔE = ', np.abs(efci-E_WF_in_DFT))\n",
    "print(\"Relative error for WF_in_DFT:\", np.abs(E_WF_in_DFT-efci)/efci)"
   ]
  },
  {
   "cell_type": "code",
   "execution_count": 23,
   "metadata": {},
   "outputs": [
    {
     "name": "stdout",
     "output_type": "stream",
     "text": [
      "KS_total ΔE =  0.7115947170466654\n",
      "Relative error for KSDFT: -0.0038410307057234042\n"
     ]
    }
   ],
   "source": [
    "print('KS_total ΔE = ', np.abs(efci-S_Tscf.e_tot))\n",
    "\n",
    "print(\"Relative error for KSDFT:\", np.abs(S_Tscf.e_tot-efci)/efci)"
   ]
  },
  {
   "cell_type": "markdown",
   "metadata": {},
   "source": []
  },
  {
   "cell_type": "code",
   "execution_count": 24,
   "metadata": {},
   "outputs": [
    {
     "name": "stdout",
     "output_type": "stream",
     "text": [
      "Our method is performing better!\n"
     ]
    }
   ],
   "source": [
    "if np.abs(efci-E_WF_in_DFT)<np.abs(efci-S_Tscf.e_tot):\n",
    "    print('Our method is performing better!')\n",
    "else:\n",
    "    print('Our method is performing worse')"
   ]
  }
 ],
 "metadata": {
  "kernelspec": {
   "display_name": "Python 3",
   "language": "python",
   "name": "python3"
  },
  "language_info": {
   "codemirror_mode": {
    "name": "ipython",
    "version": 3
   },
   "file_extension": ".py",
   "mimetype": "text/x-python",
   "name": "python",
   "nbconvert_exporter": "python",
   "pygments_lexer": "ipython3",
   "version": "3.7.6"
  }
 },
 "nbformat": 4,
 "nbformat_minor": 2
}
