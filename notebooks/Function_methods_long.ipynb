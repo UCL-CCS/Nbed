{
 "cells": [
  {
   "cell_type": "code",
   "execution_count": 1,
   "metadata": {},
   "outputs": [],
   "source": [
    "import numpy as np\n",
    "import sys\n",
    "sys.path.append( '../vqe-in-dft' )\n",
    "from tqdm import tqdm\n",
    "\n",
    "import vqe_in_dft \n",
    "\n",
    "import scipy as sp\n",
    "from pyscf import gto, dft, lib, mp, cc, scf, tools, ci, fci"
   ]
  },
  {
   "cell_type": "code",
   "execution_count": null,
   "metadata": {},
   "outputs": [],
   "source": []
  },
  {
   "cell_type": "code",
   "execution_count": 2,
   "metadata": {},
   "outputs": [],
   "source": [
    "# geometry = [\n",
    "# ['H', (0.7493682,0.0000000,0.4424329)],\n",
    "# ['O', (0.0000000,0.0000000,-0.1653507)],\n",
    "    \n",
    "# ['H', (-0.7493682,0.0000000,0.4424329)]\n",
    "# ]\n",
    "\n",
    "geometry = [\n",
    "['C', (0.0000, 0.0000, 0.0000)],\n",
    "['H', (0.5288, 0.1610, 0.9359)],\n",
    "['H', (0.2051, 0.8240, -0.6786)],\n",
    "['H', (0.3345, -0.9314, -0.4496)],\n",
    "['H', (-1.0685, -0.0537, 0.1921)]\n",
    "]\n",
    "\n",
    "# geometry = [\n",
    "# ['H', (1.2473876659, -0.8998737590, 0.6150681570)],\n",
    "# ['O', (1.2322305822, -0.2731895077, -0.1276123902)],\n",
    "\n",
    "# ['C', (0.0849758188, 0.5590385475, 0.0510545434)],\n",
    "# ['H', (0.1506137362, 1.1200249874, 0.9943015309)],\n",
    "# ['H', (0.1316093068, 1.2841805400, -0.7645223601)],\n",
    "\n",
    "# ['C', (-1.2129704155, -0.2295285634, -0.0097156258)],\n",
    "# ['H', (-2.0801425360, 0.4329727646,0.0722817289)],\n",
    "# ['H', (-1.2655910941, -0.9539857247, 0.8097953440)],\n",
    "# ['H', (-1.2737541560, -0.7748626513, -0.9540587845)],\n",
    "# ]\n",
    "\n",
    "N_active_atoms = 2\n",
    "\n",
    "\n",
    "low_level_scf_method='RKS'\n",
    "high_level_scf_method='CCSD'\n",
    "E_convergence_tol = 1e-6\n",
    "basis = 'STO-3G' #'augccpvdz' # '6-31g' #'STO-3G'\n",
    "unit= 'angstrom'\n",
    "pyscf_print_level=1\n",
    "memory=8000\n",
    "charge=0\n",
    "spin=0\n",
    "run_fci= True#True\n",
    "low_level_xc_functional = 'lda, vwn' # 'b3lyp'\n",
    "high_level_xc_functional = 'b3lyp'\n",
    "\n",
    "phys_notation = True"
   ]
  },
  {
   "cell_type": "code",
   "execution_count": null,
   "metadata": {},
   "outputs": [],
   "source": []
  },
  {
   "cell_type": "markdown",
   "metadata": {},
   "source": [
    "# Build the GLOBAL (full) molecule\n",
    "\n",
    "\n",
    "and run supersystem calculation (cheap method)"
   ]
  },
  {
   "cell_type": "markdown",
   "metadata": {},
   "source": [
    "https://pyscf.org/_modules/pyscf/gto/basis.html"
   ]
  },
  {
   "cell_type": "code",
   "execution_count": 3,
   "metadata": {},
   "outputs": [
    {
     "data": {
      "text/plain": [
       "[['C', (0.0, 0.0, 0.0)],\n",
       " ['H', (0.5288, 0.161, 0.9359)],\n",
       " ['H', (0.2051, 0.824, -0.6786)],\n",
       " ['H', (0.3345, -0.9314, -0.4496)],\n",
       " ['H', (-1.0685, -0.0537, 0.1921)]]"
      ]
     },
     "execution_count": 3,
     "metadata": {},
     "output_type": "execute_result"
    }
   ],
   "source": [
    "full_system_mol = gto.Mole(atom= geometry,\n",
    "                      basis=basis,\n",
    "                       charge=charge,\n",
    "                       unit=unit,\n",
    "                       spin=spin,\n",
    "                      )\n",
    "full_system_mol.build()\n",
    "full_system_mol.atom"
   ]
  },
  {
   "cell_type": "code",
   "execution_count": 4,
   "metadata": {},
   "outputs": [
    {
     "name": "stdout",
     "output_type": "stream",
     "text": [
      "E(UHF-FCI) = -39.805676967111\n"
     ]
    }
   ],
   "source": [
    "## FCI comparison\n",
    "HF_scf = scf.RHF(full_system_mol)\n",
    "HF_scf.verbose=1\n",
    "HF_scf.max_memory= memory\n",
    "HF_scf.conv_tol = 1e-6\n",
    "HF_scf.kernel()\n",
    "\n",
    "my_fci = fci.FCI(HF_scf).run()\n",
    "print('E(UHF-FCI) = %.12f' % my_fci.e_tot)\n",
    "\n",
    "# myci = ci.CISD(HF_scf).run() # this is UCISD\n",
    "# print('UCISD total energy = ', myci.e_tot)"
   ]
  },
  {
   "cell_type": "code",
   "execution_count": 5,
   "metadata": {},
   "outputs": [
    {
     "data": {
      "application/3dmoljs_load.v0": "<div id=\"3dmolviewer_1631628560382633\"  style=\"position: relative; width: 400px; height: 400px\">\n        <p id=\"3dmolwarning_1631628560382633\" style=\"background-color:#ffcccc;color:black\">You appear to be running in JupyterLab (or JavaScript failed to load for some other reason).  You need to install the 3dmol extension: <br>\n        <tt>jupyter labextension install jupyterlab_3dmol</tt></p>\n        </div>\n<script>\n\nvar loadScriptAsync = function(uri){\n  return new Promise((resolve, reject) => {\n    var tag = document.createElement('script');\n    tag.src = uri;\n    tag.async = true;\n    tag.onload = () => {\n      resolve();\n    };\n  var firstScriptTag = document.getElementsByTagName('script')[0];\n  firstScriptTag.parentNode.insertBefore(tag, firstScriptTag);\n});\n};\n\nif(typeof $3Dmolpromise === 'undefined') {\n$3Dmolpromise = null;\n  $3Dmolpromise = loadScriptAsync('https://3dmol.org/build/3Dmol.js');\n}\n\nvar viewer_1631628560382633 = null;\nvar warn = document.getElementById(\"3dmolwarning_1631628560382633\");\nif(warn) {\n    warn.parentNode.removeChild(warn);\n}\n$3Dmolpromise.then(function() {\nviewer_1631628560382633 = $3Dmol.createViewer($(\"#3dmolviewer_1631628560382633\"),{backgroundColor:\"white\"});\nviewer_1631628560382633.zoomTo();\n\tviewer_1631628560382633.addModel(\"5\\n \\nC\\t0.0\\t0.0\\t0.0\\nH\\t0.5288\\t0.161\\t0.9359\\nH\\t0.2051\\t0.824\\t-0.6786\\nH\\t0.3345\\t-0.9314\\t-0.4496\\nH\\t-1.0685\\t-0.0537\\t0.1921\\n\",\"xyz\");\n\tviewer_1631628560382633.setStyle({\"stick\": {}});\n\tviewer_1631628560382633.zoomTo();\nviewer_1631628560382633.render();\n});\n</script>",
      "text/html": [
       "<div id=\"3dmolviewer_1631628560382633\"  style=\"position: relative; width: 400px; height: 400px\">\n",
       "        <p id=\"3dmolwarning_1631628560382633\" style=\"background-color:#ffcccc;color:black\">You appear to be running in JupyterLab (or JavaScript failed to load for some other reason).  You need to install the 3dmol extension: <br>\n",
       "        <tt>jupyter labextension install jupyterlab_3dmol</tt></p>\n",
       "        </div>\n",
       "<script>\n",
       "\n",
       "var loadScriptAsync = function(uri){\n",
       "  return new Promise((resolve, reject) => {\n",
       "    var tag = document.createElement('script');\n",
       "    tag.src = uri;\n",
       "    tag.async = true;\n",
       "    tag.onload = () => {\n",
       "      resolve();\n",
       "    };\n",
       "  var firstScriptTag = document.getElementsByTagName('script')[0];\n",
       "  firstScriptTag.parentNode.insertBefore(tag, firstScriptTag);\n",
       "});\n",
       "};\n",
       "\n",
       "if(typeof $3Dmolpromise === 'undefined') {\n",
       "$3Dmolpromise = null;\n",
       "  $3Dmolpromise = loadScriptAsync('https://3dmol.org/build/3Dmol.js');\n",
       "}\n",
       "\n",
       "var viewer_1631628560382633 = null;\n",
       "var warn = document.getElementById(\"3dmolwarning_1631628560382633\");\n",
       "if(warn) {\n",
       "    warn.parentNode.removeChild(warn);\n",
       "}\n",
       "$3Dmolpromise.then(function() {\n",
       "viewer_1631628560382633 = $3Dmol.createViewer($(\"#3dmolviewer_1631628560382633\"),{backgroundColor:\"white\"});\n",
       "viewer_1631628560382633.zoomTo();\n",
       "\tviewer_1631628560382633.addModel(\"5\\n \\nC\\t0.0\\t0.0\\t0.0\\nH\\t0.5288\\t0.161\\t0.9359\\nH\\t0.2051\\t0.824\\t-0.6786\\nH\\t0.3345\\t-0.9314\\t-0.4496\\nH\\t-1.0685\\t-0.0537\\t0.1921\\n\",\"xyz\");\n",
       "\tviewer_1631628560382633.setStyle({\"stick\": {}});\n",
       "\tviewer_1631628560382633.zoomTo();\n",
       "viewer_1631628560382633.render();\n",
       "});\n",
       "</script>"
      ]
     },
     "metadata": {},
     "output_type": "display_data"
    }
   ],
   "source": [
    "# Draw molecule\n",
    "\n",
    "xyz_string = vqe_in_dft.Get_xyz_string(full_system_mol)\n",
    "vqe_in_dft.Draw_molecule(xyz_string, width=400, height=400, jupyter_notebook=True)"
   ]
  },
  {
   "cell_type": "code",
   "execution_count": 6,
   "metadata": {},
   "outputs": [
    {
     "data": {
      "text/plain": [
       "-39.61684241519855"
      ]
     },
     "execution_count": 6,
     "metadata": {},
     "output_type": "execute_result"
    }
   ],
   "source": [
    "# Run global calculation\n",
    "\n",
    "full_system_scf = scf.RKS(full_system_mol)\n",
    "full_system_scf.verbose= pyscf_print_level\n",
    "full_system_scf.max_memory= memory\n",
    "full_system_scf.conv_tol = 1e-6\n",
    "full_system_scf.xc = low_level_xc_functional\n",
    "full_system_scf.kernel()"
   ]
  },
  {
   "cell_type": "markdown",
   "metadata": {},
   "source": [
    "# Localise orbitals"
   ]
  },
  {
   "cell_type": "markdown",
   "metadata": {},
   "source": [
    "### Background\n",
    "\n",
    "The overlap matrix is:\n",
    "\n",
    "$$S_{\\mu \\nu} =  \\int d\\vec{r}_{1} \\phi_{\\mu}(1)^{*}\\phi_{\\nu}(1)$$\n",
    "\n",
    "- $\\phi_{\\mu}$ are basis functions (defined in basis set)\n",
    "\n",
    "\n",
    "The unknown molecular orbitals $\\psi_{i}$ are expanded as a linear expansion of the $K$ known basis functions:\n",
    "\n",
    "$$ \\psi_{i} =  \\sum_{\\mu=1}^{K} C_{\\mu i} \\psi_{\\mu}$$\n",
    "\n",
    "\n",
    "$C$ is a $K \\times K$ matrix of expansion coefficients $C_{\\mu i}$. The columns of $C$ describe the molecular orbitals!"
   ]
  },
  {
   "cell_type": "markdown",
   "metadata": {},
   "source": [
    "We can find the total number of electrons $N$ in the system by:\n",
    "\n",
    "$$ N =  2 \\sum_{a}^{N/2}\\int d\\vec{r}  \\bigg( \\psi_{a}(\\vec{r})^{*} \\psi_{i}(\\vec{r}) \\bigg) =  2 \\sum_{a}^{N/2} 1$$\n",
    "\n",
    "- integral gives probablity of finding electron $a$ over all space (must be 1)\n",
    "- summing over all electrons will give the total number of electrons"
   ]
  },
  {
   "cell_type": "code",
   "execution_count": null,
   "metadata": {},
   "outputs": [],
   "source": []
  },
  {
   "cell_type": "markdown",
   "metadata": {},
   "source": [
    "The charge density has the following definition:\n",
    "\n",
    "$$\\rho(\\vec{r}) = 2 \\sum_{a}^{N/2} \\bigg( \\psi_{a}(\\vec{r})^{*} \\psi_{i}(\\vec{r}) \\bigg)$$\n",
    "\n",
    "- re-write using definition of $\\psi_{i}=  \\sum_{\\mu=1}^{K} C_{\\mu i} \\phi_{\\mu}$\n",
    "\n",
    "$$\\rho(\\vec{r}) = 2 \\sum_{a}^{N/2} \\Bigg( \\bigg[ \\sum_{\\nu}^{K} C_{\\nu a}^{*} \\phi_{\\nu}(\\vec{r})^{*} \\bigg] \\bigg[ \\sum_{\\mu}^{K} C_{\\mu a}\\phi_{\\mu}(\\vec{r}) \\bigg] \\Bigg)$$\n",
    "\n",
    "- move things around\n",
    "\n",
    "$$\\rho(\\vec{r}) = \\sum_{\\nu}^{K} \\sum_{\\mu}^{K} \\Big( 2 \\sum_{a}^{N/2} C_{\\mu a} C_{\\nu a}^{*} \\Big) \\phi_{\\mu}(\\vec{r}) \\phi_{\\nu}(\\vec{r})^{*} $$\n",
    "\n",
    "- which is \n",
    "\n",
    "$$\\rho(\\vec{r}) = \\sum_{\\mu, \\nu}^{K} P_{\\mu \\nu} \\phi_{\\mu}(\\vec{r}) \\phi_{\\nu}(\\vec{r})^{*} $$\n",
    "\n",
    "\n",
    "- $P_{\\mu \\nu}$ is known as the density matrix and is:\n",
    "\n",
    "$$P_{\\mu \\nu} = 2 \\sum_{a}^{N/2} C_{\\mu a} C_{\\nu a}^{*}$$"
   ]
  },
  {
   "cell_type": "code",
   "execution_count": null,
   "metadata": {},
   "outputs": [],
   "source": []
  },
  {
   "cell_type": "markdown",
   "metadata": {},
   "source": [
    "Therefore we can also find the total number of electrons in the system by:\n",
    "\n",
    "$$ N =  2 \\sum_{a}^{N/2}\\int d\\vec{r}  \\bigg( \\psi_{a}(\\vec{r})^{*} \\psi_{i}(\\vec{r}) \\bigg) =  \\sum_{\\nu}^{K} \\sum_{\\mu}^{K} \\Big( 2 \\sum_{a}^{N/2} C_{\\mu a} C_{\\nu a}^{*} \\Big) \\int d\\vec{r} \\phi_{\\mu}(\\vec{r})  \\phi_{\\nu}(\\vec{r})^{*}$$\n",
    "\n",
    "- This is simply:\n",
    "\n",
    "$$N =  \\sum_{\\nu}^{K} \\sum_{\\mu}^{K} P_{\\mu \\nu} S_{\\nu \\mu}$$\n",
    "\n",
    "- in an orthognal basis $S$ should be the identity matrix (as it is overlap of matrix of orthogonal orbs), SO WE GET:\n",
    "\n",
    "$$N =  \\sum_{\\nu}^{K} \\sum_{\\mu}^{K} P_{\\mu \\nu} S_{\\nu \\mu} = \\sum_{\\mu}^{K} PS_{\\mu \\mu} = \\mathcal{Tr}(PS)$$"
   ]
  },
  {
   "cell_type": "markdown",
   "metadata": {},
   "source": [
    "- One can interpret $ PS_{\\mu \\mu}$ in the above equation as the number of electrons associated with $ \\phi_{\\mu}$\n",
    "- This is a **Mulliken population analysis**"
   ]
  },
  {
   "cell_type": "markdown",
   "metadata": {},
   "source": []
  },
  {
   "cell_type": "markdown",
   "metadata": {},
   "source": [
    "# Orbital Localization!"
   ]
  },
  {
   "cell_type": "markdown",
   "metadata": {},
   "source": [
    "A molecular orbital is usually delocalized, i.e. it has non-negligible amplitude over the whole system rather than only around some atom(s) or bond(s). However, one can choose a unitary rotation "
   ]
  },
  {
   "cell_type": "markdown",
   "metadata": {},
   "source": [
    "- When we perform a SCF calculation, one gets an optimized C matrix\n",
    "    - $C$ is a $K \\times K$ matrix of expansion coefficients $C_{\\mu i}$\n",
    "    - The columns of $C$ describe the molecular orbitals!\n",
    "    - MO i: $ \\psi_{i} =  \\sum_{\\mu=1}^{K} C_{\\mu i} \\psi_{\\mu}$\n",
    "    \n",
    "    \n",
    "- These molecular orbitals are usually **delocalized**\n",
    "    - non-negligible amplitude over the whole system, rather than only around some atom(s) or bond(s)\n",
    "\n",
    "- But we know in QM that a given basis choice is NOT unique\n",
    "\n",
    "\n",
    "- We can therefore perform a unitary rotation on molecular orbitals\n",
    "\n",
    "$$ \\psi_{i} U_{rot} =  \\Big( \\sum_{\\mu=1}^{K} C_{\\mu i} \\psi_{\\mu} \\Big) U_{rot} = \\psi_{i}^{new}$$\n",
    "    \n",
    "    \n",
    "The idea is to use a rotation such that the resulting orbitals $\\psi_{i}^{new}$ are as spatially localized as possible. \n",
    "\n",
    "\n",
    "The Pipek-Mezey (PM) [localization](https://notendur.hi.is/hj/papers/paperPipekmezey8.pdf) **maximizes the population charges on the atoms**:\n",
    "\n",
    "$$ f (U_{rot}) = \\sum_{A}^{N_{atoms}} \\Bigg( Z_{A} -  \\sum_{\\mu \\text{ on atom } A} PS_{\\mu \\mu} \\Bigg)$$"
   ]
  },
  {
   "cell_type": "markdown",
   "metadata": {},
   "source": [
    "# Choose active and environment systems"
   ]
  },
  {
   "cell_type": "markdown",
   "metadata": {},
   "source": [
    "## METHOD 1 "
   ]
  },
  {
   "cell_type": "markdown",
   "metadata": {},
   "source": [
    "- Given optimized $C$ coefficient matrix\n",
    "    - which has been rotated to localize orbitals\n",
    "    - (used to build localized density matrix)\n",
    "\n",
    "\n",
    "- **Look through basis functions $\\phi_{\\mu}$ of the ACTIVE atoms**\n",
    "    \n",
    "    \n",
    "- check the mulliken charge // mulliken population of the orbital\n",
    "    - if above a certain threshold associate it to active system\n",
    "    - otherwise put in the environment"
   ]
  },
  {
   "cell_type": "markdown",
   "metadata": {},
   "source": [
    "## METHOD 2 - SPADE"
   ]
  },
  {
   "cell_type": "code",
   "execution_count": 11,
   "metadata": {},
   "outputs": [],
   "source": [
    "localization_method= 'PipekMezey' # 'ibo', 'Boys', 'PipekMezey' 'SPADE'\n",
    "THRESHOLD = 0.95"
   ]
  },
  {
   "cell_type": "code",
   "execution_count": null,
   "metadata": {},
   "outputs": [],
   "source": []
  },
  {
   "cell_type": "code",
   "execution_count": 32,
   "metadata": {},
   "outputs": [
    {
     "name": "stdout",
     "output_type": "stream",
     "text": [
      "\n",
      "(active_AO^2)/(all_AO^2): [0.9988 0.5689 0.9855 0.5689 0.5689]\n",
      "threshold for active part: 0.95 \n",
      "\n",
      "number of active MOs: 2\n",
      "number of enviro MOs: 3 \n",
      "\n"
     ]
    }
   ],
   "source": [
    "(C_active, \n",
    " C_envrio, \n",
    " C_all_localized, \n",
    " active_MO_inds,\n",
    " enviro_MO_inds) = vqe_in_dft.Localize_orbitals(localization_method, \n",
    "                                     full_system_scf, \n",
    "                                     N_active_atoms, \n",
    "                                     THRESHOLD=THRESHOLD, \n",
    "                                     sanity_check=True)\n"
   ]
  },
  {
   "cell_type": "code",
   "execution_count": 75,
   "metadata": {},
   "outputs": [
    {
     "name": "stdout",
     "output_type": "stream",
     "text": [
      "want these C_loc and C_opt_std to be different: True\n",
      "want dm_std and dm_loc to be the SAME: True\n"
     ]
    }
   ],
   "source": [
    "dm_loc = 2* C_all_localized@ C_all_localized.conj().T\n",
    "dm_std = 2* full_system_scf.mo_coeff[:,full_system_scf.mo_occ>0]@ full_system_scf.mo_coeff[:,full_system_scf.mo_occ>0].conj().T\n",
    "\n",
    "print('want these C_loc and C_opt_std to be different:', not np.allclose(C_all_localized,\n",
    "                                                                         full_system_scf.mo_coeff[:,full_system_scf.mo_occ>0]))\n",
    "print('want dm_std and dm_loc to be the SAME:',np.allclose(dm_std, dm_loc))"
   ]
  },
  {
   "cell_type": "code",
   "execution_count": 230,
   "metadata": {},
   "outputs": [
    {
     "name": "stdout",
     "output_type": "stream",
     "text": [
      "False\n",
      "True\n"
     ]
    }
   ],
   "source": [
    "dm_loc = 2* C_all_localized@ C_all_localized.conj().T\n",
    "dm_std = 2* full_system_scf.mo_coeff[:,full_system_scf.mo_occ>0]@ full_system_scf.mo_coeff[:,full_system_scf.mo_occ>0].conj().T\n",
    "\n",
    "print(np.allclose(C_all_localized, full_system_scf.mo_coeff[:,full_system_scf.mo_occ>0]))\n",
    "print(np.allclose(dm_std, dm_loc))"
   ]
  },
  {
   "cell_type": "code",
   "execution_count": 31,
   "metadata": {},
   "outputs": [
    {
     "data": {
      "text/plain": [
       "array([[-9.56763009e+00,  8.95591053e-08,  1.42573250e-09,\n",
       "        -1.39286062e-10,  7.95160706e-10],\n",
       "       [ 8.95591049e-08, -5.81486991e-01,  5.35071664e-08,\n",
       "        -9.16699269e-09,  2.77865550e-08],\n",
       "       [ 1.42573250e-09,  5.35071664e-08, -3.02760345e-01,\n",
       "        -6.63418266e-10,  1.27899998e-08],\n",
       "       [-1.39285998e-10, -9.16699267e-09, -6.63418238e-10,\n",
       "        -3.02737102e-01,  1.02714017e-08],\n",
       "       [ 7.95160714e-10,  2.77865549e-08,  1.27899997e-08,\n",
       "         1.02714017e-08, -3.02731084e-01]])"
      ]
     },
     "execution_count": 31,
     "metadata": {},
     "output_type": "execute_result"
    }
   ],
   "source": [
    "full_system_scaf.mo_coeff[:,full_system_scf.mo_occ>0].conj().T @ Fock @ full_system_scf.mo_coeff[:,full_system_scf.mo_occ>0]"
   ]
  },
  {
   "cell_type": "code",
   "execution_count": 19,
   "metadata": {},
   "outputs": [
    {
     "data": {
      "text/plain": [
       "array([-9.56762769, -0.58148626, -0.30275977, -0.30273646, -0.30273044,\n",
       "        0.42538041,  0.4253998 ,  0.42544456,  0.4712599 ])"
      ]
     },
     "execution_count": 19,
     "metadata": {},
     "output_type": "execute_result"
    }
   ],
   "source": [
    "full_system_scf.mo_energy"
   ]
  },
  {
   "cell_type": "code",
   "execution_count": 97,
   "metadata": {},
   "outputs": [
    {
     "data": {
      "text/plain": [
       "True"
      ]
     },
     "execution_count": 97,
     "metadata": {},
     "output_type": "execute_result"
    }
   ],
   "source": [
    "V = full_system_scf.mo_coeff[:,full_system_scf.mo_occ>0] @ np.linalg.pinv(C_all_localized)# c\n",
    "np.allclose(V @C_all_localized,\n",
    "            full_system_scf.mo_coeff[:,full_system_scf.mo_occ>0]) # checking U@ C_loc = C_standard"
   ]
  },
  {
   "cell_type": "code",
   "execution_count": null,
   "metadata": {},
   "outputs": [],
   "source": []
  },
  {
   "cell_type": "code",
   "execution_count": 125,
   "metadata": {},
   "outputs": [
    {
     "name": "stdout",
     "output_type": "stream",
     "text": [
      "True\n"
     ]
    },
    {
     "data": {
      "text/plain": [
       "(9, 9)"
      ]
     },
     "execution_count": 125,
     "metadata": {},
     "output_type": "execute_result"
    }
   ],
   "source": [
    "V = full_system_scf.mo_coeff[:,full_system_scf.mo_occ>0] @ np.linalg.pinv(C_all_localized)# c\n",
    "np.allclose(V @C_all_localized,\n",
    "            full_system_scf.mo_coeff[:,full_system_scf.mo_occ>0]) # checking U@ C_loc = C_standard\n",
    "\n",
    "C_loc_full = (np.linalg.pinv(V) @ full_system_scf.mo_coeff)\n",
    "\n",
    "print(np.allclose(C_loc_full[:,full_system_scf.mo_occ>0], C_all_localized))\n",
    "C_loc_full.shape"
   ]
  },
  {
   "cell_type": "code",
   "execution_count": null,
   "metadata": {},
   "outputs": [],
   "source": []
  },
  {
   "cell_type": "code",
   "execution_count": 741,
   "metadata": {},
   "outputs": [
    {
     "name": "stdout",
     "output_type": "stream",
     "text": [
      "True\n",
      "True\n",
      "-10.268228524428004\n",
      "-10.268228524428077\n"
     ]
    }
   ],
   "source": [
    "S_mat = full_system_scf.get_ovlp()\n",
    "S_half = sp.linalg.fractional_matrix_power(full_system_scf.get_ovlp() , 0.5)\n",
    "\n",
    "ortho_std = S_half@ full_system_scf.mo_coeff[:,full_system_scf.mo_occ>0]\n",
    "ortho_loc = S_half@ C_all_localized\n",
    "\n",
    "# ortho_loc[:,0].dot(ortho_loc[:,2])\n",
    "\n",
    "U = np.zeros((ortho_std.shape[0], ortho_std.shape[0]))\n",
    "for MO_ind in range(ortho_std.shape[1]):\n",
    "    outer = np.outer(ortho_std[:, MO_ind], ortho_loc[:, MO_ind])\n",
    "    U+=outer\n",
    "\n",
    "# U = np.zeros((ortho_std.shape[0], ortho_std.shape[0]))\n",
    "# for MO_ind in range(full_system_scf.mo_coeff.shape[1]):\n",
    "#     if MO_ind in range(ortho_std.shape[1]):\n",
    "#         outer = np.outer(ortho_std[:, MO_ind], ortho_loc[:, MO_ind])\n",
    "#         U+=outer\n",
    "#     else:\n",
    "# #         vec = np.eye(ortho_std.shape[0])[:, MO_ind]\n",
    "# #         outer = np.outer(vec, vec)\n",
    "# #         U+=outer\n",
    "#         outer = np.outer(full_system_scf.mo_coeff[:, MO_ind],\n",
    "#                          full_system_scf.mo_coeff[:, MO_ind])\n",
    "#         U+=outer\n",
    "    \n",
    "print(np.allclose(U @ ortho_loc, ortho_std))\n",
    "print(np.allclose(U.conj().T@U, U@U.conj().T)) # shows unitary (in given basis)!\n",
    "\n",
    "C_loc = C_prime @ S_half\n",
    "\n",
    "\n",
    "ind = 0\n",
    "print(ortho_loc[:,ind].conj().T @ (U.conj().T @ Fock @ U) @ ortho_loc[:,ind])\n",
    "print(ortho_std[:,ind].conj().T  @ Fock @ ortho_std[:,ind])"
   ]
  },
  {
   "cell_type": "code",
   "execution_count": 742,
   "metadata": {},
   "outputs": [
    {
     "data": {
      "text/plain": [
       "True"
      ]
     },
     "execution_count": 742,
     "metadata": {},
     "output_type": "execute_result"
    }
   ],
   "source": [
    "S_neg_half = sp.linalg.fractional_matrix_power(full_system_scf.get_ovlp() , -0.5)\n",
    "np.allclose(S_neg_half@ U@ortho_loc,\n",
    "            full_system_scf.mo_coeff[:,full_system_scf.mo_occ>0])"
   ]
  },
  {
   "cell_type": "code",
   "execution_count": 743,
   "metadata": {},
   "outputs": [
    {
     "data": {
      "text/plain": [
       "True"
      ]
     },
     "execution_count": 743,
     "metadata": {},
     "output_type": "execute_result"
    }
   ],
   "source": [
    "# U_new = S_neg_half@ U\n",
    "U_new = S_neg_half@ U  @ S_half\n",
    "np.allclose(U_new@C_all_localized,\n",
    "            full_system_scf.mo_coeff[:,full_system_scf.mo_occ>0])\n"
   ]
  },
  {
   "cell_type": "code",
   "execution_count": 744,
   "metadata": {},
   "outputs": [
    {
     "name": "stdout",
     "output_type": "stream",
     "text": [
      "-9.567630085619102\n",
      "-9.567630085619232\n"
     ]
    }
   ],
   "source": [
    "print(C_all_localized[:,ind].conj().T @ (U_new.conj().T @ Fock @ U_new) @ C_all_localized[:,ind])\n",
    "print(full_system_scf.mo_coeff[:,ind].conj().T  @ Fock @ full_system_scf.mo_coeff[:,ind])"
   ]
  },
  {
   "cell_type": "code",
   "execution_count": 745,
   "metadata": {},
   "outputs": [
    {
     "data": {
      "text/plain": [
       "array([[-9.568,  0.   ,  0.   , -0.   ,  0.   ],\n",
       "       [ 0.   , -0.581,  0.   , -0.   ,  0.   ],\n",
       "       [ 0.   ,  0.   , -0.303, -0.   ,  0.   ],\n",
       "       [-0.   , -0.   , -0.   , -0.303,  0.   ],\n",
       "       [ 0.   ,  0.   ,  0.   ,  0.   , -0.303]])"
      ]
     },
     "execution_count": 745,
     "metadata": {},
     "output_type": "execute_result"
    }
   ],
   "source": [
    "np.around(C_all_localized.conj().T @ (U_new.conj().T @ Fock @ U_new) @ C_all_localized, 3)"
   ]
  },
  {
   "cell_type": "code",
   "execution_count": 750,
   "metadata": {},
   "outputs": [
    {
     "data": {
      "text/plain": [
       "array([[-9.568,  0.   ,  0.   , -0.   ,  0.   ],\n",
       "       [ 0.   , -0.581,  0.   , -0.   ,  0.   ],\n",
       "       [ 0.   ,  0.   , -0.303, -0.   ,  0.   ],\n",
       "       [-0.   , -0.   , -0.   , -0.303,  0.   ],\n",
       "       [ 0.   ,  0.   ,  0.   ,  0.   , -0.303]])"
      ]
     },
     "execution_count": 750,
     "metadata": {},
     "output_type": "execute_result"
    }
   ],
   "source": [
    "np.around(full_system_scf.mo_coeff[:,full_system_scf.mo_occ>0].conj().T @\n",
    "          Fock @\n",
    "          full_system_scf.mo_coeff[:,full_system_scf.mo_occ>0], 3)"
   ]
  },
  {
   "cell_type": "code",
   "execution_count": null,
   "metadata": {},
   "outputs": [],
   "source": []
  },
  {
   "cell_type": "code",
   "execution_count": null,
   "metadata": {},
   "outputs": [],
   "source": []
  },
  {
   "cell_type": "code",
   "execution_count": 716,
   "metadata": {},
   "outputs": [
    {
     "data": {
      "text/plain": [
       "True"
      ]
     },
     "execution_count": 716,
     "metadata": {},
     "output_type": "execute_result"
    }
   ],
   "source": [
    "np.allclose(S_neg_half@ S_half@ full_system_scf.mo_coeff[:,full_system_scf.mo_occ>0],\n",
    "                                    full_system_scf.mo_coeff[:,full_system_scf.mo_occ>0])"
   ]
  },
  {
   "cell_type": "code",
   "execution_count": 727,
   "metadata": {},
   "outputs": [
    {
     "data": {
      "text/plain": [
       "array([[ 0.9704987 , -0.13331261, -0.05548858, -0.05547772, -0.05548536],\n",
       "       [ 0.0863213 ,  0.50830338,  0.01552772,  0.01552151,  0.01553016],\n",
       "       [-0.04333299,  0.0252617 ,  0.21394727,  0.39552633,  0.04000219],\n",
       "       [-0.0233079 ,  0.01358778, -0.05696776, -0.06398999,  0.47028546],\n",
       "       [-0.01156471,  0.00673481,  0.41685834, -0.2495368 ,  0.00595607],\n",
       "       [-0.03188138,  0.15969803,  0.39410042, -0.02153516,  0.08626857],\n",
       "       [-0.01832905,  0.15179206, -0.21899966,  0.1611507 ,  0.31360852],\n",
       "       [ 0.00734208,  0.13681849, -0.04361495,  0.24475696, -0.33015266],\n",
       "       [ 0.03321635,  0.12173357, -0.10859483, -0.3614485 , -0.04681425]])"
      ]
     },
     "execution_count": 727,
     "metadata": {},
     "output_type": "execute_result"
    }
   ],
   "source": [
    "U_new = S_neg_half@ U \n",
    "(U_new @ C_all_localized) # full_system_scf.mo_coeff[:,full_system_scf.mo_occ>0]   C_all_localized\n",
    "\n",
    "# full_system_scf.mo_coeff[:,full_system_scf.mo_occ>0] "
   ]
  },
  {
   "cell_type": "code",
   "execution_count": 731,
   "metadata": {},
   "outputs": [
    {
     "data": {
      "text/plain": [
       "array([[ 0.96659774, -0.06116092, -0.09537741, -0.09536116, -0.09537226],\n",
       "       [ 0.11182129,  0.41962661,  0.01468029,  0.01467952,  0.01468689],\n",
       "       [-0.07824129,  0.02715603,  0.1711742 ,  0.3217222 ,  0.02695641],\n",
       "       [-0.04208428,  0.01460824, -0.0505674 , -0.0563966 ,  0.3865748 ],\n",
       "       [-0.02088133,  0.00723837,  0.34395956, -0.20854827,  0.00328658],\n",
       "       [-0.04854599,  0.13481045,  0.32434298, -0.02025976,  0.06912485],\n",
       "       [-0.02407572,  0.12631783, -0.18203328,  0.13314572,  0.25954786],\n",
       "       [ 0.02227607,  0.11022057, -0.03294942,  0.20614598, -0.27051627],\n",
       "       [ 0.06899464,  0.09400404, -0.08311355, -0.29275384, -0.03188908]])"
      ]
     },
     "execution_count": 731,
     "metadata": {},
     "output_type": "execute_result"
    }
   ],
   "source": [
    "\n",
    "U_new = S_neg_half.conj().T@U @ S_neg_half\n",
    "\n",
    "(U_new @ C_all_localized)#.shape\n",
    "# full_system_scf.mo_coeff[:,full_system_scf.mo_occ>0]#.shape"
   ]
  },
  {
   "cell_type": "code",
   "execution_count": 677,
   "metadata": {},
   "outputs": [
    {
     "data": {
      "text/plain": [
       "-1.1500731860431858e-05"
      ]
     },
     "execution_count": 677,
     "metadata": {},
     "output_type": "execute_result"
    }
   ],
   "source": [
    "ortho_test = V@full_system_scf.mo_coeff[:,full_system_scf.mo_occ>0]\n",
    "\n",
    "ortho_test[:,0].dot(ortho_test[:,4])"
   ]
  },
  {
   "cell_type": "code",
   "execution_count": 670,
   "metadata": {},
   "outputs": [
    {
     "name": "stdout",
     "output_type": "stream",
     "text": [
      "True\n",
      "[[-9.57  0.   -0.   -0.    0.    0.    0.    0.    0.  ]\n",
      " [ 0.   -0.58  0.    0.   -0.   -0.    0.   -0.    0.  ]\n",
      " [-0.    0.   -0.3   0.   -0.   -0.   -0.   -0.   -0.  ]\n",
      " [ 0.    0.    0.   -0.3   0.    0.   -0.    0.   -0.  ]\n",
      " [ 0.   -0.   -0.    0.   -0.3  -0.   -0.   -0.   -0.  ]\n",
      " [ 0.   -0.   -0.    0.   -0.    0.43 -0.    0.   -0.  ]\n",
      " [ 0.    0.   -0.   -0.   -0.   -0.    0.43  0.    0.  ]\n",
      " [ 0.   -0.   -0.    0.    0.    0.    0.    0.43 -0.  ]\n",
      " [ 0.    0.   -0.    0.   -0.   -0.    0.   -0.    0.47]]\n",
      "True\n"
     ]
    }
   ],
   "source": [
    "V = sp.linalg.fractional_matrix_power(full_system_scf.get_ovlp(), -0.5)\n",
    "\n",
    "F_ortho = V.conj().T @  full_system_scf.get_fock(dm=dm_std) @ V\n",
    "epsilon_std, C_prime_std = np.linalg.eigh(F_ortho)\n",
    "print(np.allclose(epsilon_std, full_system_scf.mo_energy))\n",
    "C_std = V @ C_prime_std\n",
    "\n",
    "print(np.around(C_std.conj().T @ full_system_scf.get_fock(dm=dm_std) @ C_std, 2))\n",
    "\n",
    "# F_bas = U.conj().T @  full_system_scf.get_fock(dm=dm_std) @ U # new basis\n",
    "# F_prime = V.conj().T @ F_bas @ V # make ortho\n",
    "\n",
    "F_ortho = V.conj().T @  full_system_scf.get_fock(dm=dm_std) @ V # make ortho\n",
    "F_prime = U.conj().T @ F_ortho @ U # new basis ortho\n",
    "epsilon_loc, C_prime_loc = np.linalg.eigh(F_prime)\n",
    "print(np.allclose(epsilon_loc[full_system_scf.mo_occ>0], full_system_scf.mo_energy[full_system_scf.mo_occ>0]))\n",
    "C_local = V @ U @ C_prime_loc \n",
    "\n",
    "# # transofrm C_prime back to AO basis\n",
    "# C_std = V @ C_prime_std\n",
    "# C_local = V @ U @ C_prime_loc "
   ]
  },
  {
   "cell_type": "code",
   "execution_count": 661,
   "metadata": {},
   "outputs": [
    {
     "name": "stdout",
     "output_type": "stream",
     "text": [
      "[[-10.3  -1.9  -0.5   0.5   0.5   0.6  -0.1  -0.2  -0. ]\n",
      " [ -1.9  -1.1  -0.    0.    0.    0.2  -0.1  -0.1  -0. ]\n",
      " [ -0.5  -0.   -0.3   0.    0.    0.1  -0.   -0.   -0. ]\n",
      " [  0.5   0.    0.   -0.3  -0.   -0.1   0.    0.   -0. ]\n",
      " [  0.5   0.    0.   -0.   -0.3  -0.1   0.    0.   -0. ]\n",
      " [  0.6   0.2   0.1  -0.1  -0.1  -0.1   0.    0.    0. ]\n",
      " [ -0.1  -0.1  -0.    0.    0.    0.   -0.   -0.   -0. ]\n",
      " [ -0.2  -0.1  -0.    0.    0.    0.   -0.   -0.   -0. ]\n",
      " [ -0.   -0.   -0.   -0.   -0.    0.   -0.   -0.   -0. ]]\n"
     ]
    }
   ],
   "source": [
    "print(np.around(C_local.conj().T @ U.conj().T @ full_system_scf.get_fock(dm=dm_std) @ U @ C_local, 1))"
   ]
  },
  {
   "cell_type": "code",
   "execution_count": 628,
   "metadata": {},
   "outputs": [
    {
     "name": "stdout",
     "output_type": "stream",
     "text": [
      "True\n"
     ]
    },
    {
     "data": {
      "text/plain": [
       "array([[-10.3,  -1.9,  -0.5,   0.5,   0.5,   0.6,  -0.1,  -0.2,  -0. ],\n",
       "       [ -1.9,  -1.1,  -0. ,   0. ,   0. ,   0.2,  -0.1,  -0.1,  -0. ],\n",
       "       [ -0.5,  -0. ,  -0.3,   0. ,   0. ,   0.1,  -0. ,  -0. ,  -0. ],\n",
       "       [  0.5,   0. ,   0. ,  -0.3,  -0. ,  -0.1,   0. ,   0. ,  -0. ],\n",
       "       [  0.5,   0. ,   0. ,  -0. ,  -0.3,  -0.1,   0. ,   0. ,  -0. ],\n",
       "       [  0.6,   0.2,   0.1,  -0.1,  -0.1,  -0.1,   0. ,   0. ,   0. ],\n",
       "       [ -0.1,  -0.1,  -0. ,   0. ,   0. ,   0. ,  -0. ,  -0. ,  -0. ],\n",
       "       [ -0.2,  -0.1,  -0. ,   0. ,   0. ,   0. ,  -0. ,  -0. ,  -0. ],\n",
       "       [ -0. ,  -0. ,  -0. ,  -0. ,  -0. ,   0. ,  -0. ,  -0. ,  -0. ]])"
      ]
     },
     "execution_count": 628,
     "metadata": {},
     "output_type": "execute_result"
    }
   ],
   "source": [
    "# np.around(full_system_scf.mo_coeff.conj().T @ Fock @ full_system_scf.mo_coeff, 1)\n",
    "# np.around(C_all_localized.conj().T @ (U.conj().T @ Fock @ U) @ C_all_localized, 1)\n",
    "\n",
    "F_bas = V.conj().T @  full_system_scf.get_fock(dm=dm_std) @ V # make ortho\n",
    "F_prime = U.conj().T @ F_bas @ U # new basis ortho\n",
    "epsilon_loc, C_prime_loc = np.linalg.eigh(F_prime)\n",
    "\n",
    "\n",
    "print(np.allclose(epsilon_loc[full_system_scf.mo_occ>0], full_system_scf.mo_energy[full_system_scf.mo_occ>0]))\n",
    "\n",
    "\n",
    "C_local = V @ C_prime_loc \n",
    "\n",
    "np.around(C_local.conj().T @ (U.conj().T @ Fock @ U) @ C_local, 1)"
   ]
  },
  {
   "cell_type": "code",
   "execution_count": 611,
   "metadata": {},
   "outputs": [
    {
     "name": "stdout",
     "output_type": "stream",
     "text": [
      "True\n",
      "False\n",
      "True\n"
     ]
    }
   ],
   "source": [
    "V = sp.linalg.fractional_matrix_power(full_system_scf.get_ovlp(), -0.5)\n",
    "\n",
    "# F_prime = U.conj().T @ np.linalg.pinv(V) @ full_system_scf.get_fock(dm=dm_loc) @ V @ U\n",
    "F_ortho = V.conj().T @  full_system_scf.get_fock(dm=dm_std) @ V\n",
    "epsilon_std, C_prime_std = np.linalg.eigh(F_ortho)\n",
    "print(np.allclose(epsilon_std, full_system_scf.mo_energy))\n",
    "\n",
    "# F_bas = U.conj().T @  full_system_scf.get_fock(dm=dm_std) @ U # new basis\n",
    "# F_prime = V.conj().T @ F_bas @ V # make ortho\n",
    "\n",
    "F_bas = V.conj().T @  full_system_scf.get_fock(dm=dm_std) @ V # make ortho\n",
    "F_prime = U.conj().T @ F_bas @ U # new basis ortho\n",
    "epsilon_loc, C_prime_loc = np.linalg.eigh(F_prime)\n",
    "print(np.allclose(epsilon_loc, full_system_scf.mo_energy))\n",
    "print(np.allclose(epsilon_loc[full_system_scf.mo_occ>0], full_system_scf.mo_energy[full_system_scf.mo_occ>0]))\n",
    "\n",
    "# transofrm C_prime back to AO basis\n",
    "C_std = V @ C_prime_std\n",
    "C_local = V @ U @ C_prime_loc "
   ]
  },
  {
   "cell_type": "code",
   "execution_count": null,
   "metadata": {},
   "outputs": [],
   "source": []
  },
  {
   "cell_type": "code",
   "execution_count": 597,
   "metadata": {},
   "outputs": [
    {
     "data": {
      "text/plain": [
       "array([[-9.57,  0.  , -0.  , -0.  ,  0.  ,  0.  ,  0.  ,  0.  ,  0.  ],\n",
       "       [ 0.  , -0.58,  0.  ,  0.  , -0.  , -0.  ,  0.  , -0.  ,  0.  ],\n",
       "       [-0.  ,  0.  , -0.3 ,  0.  , -0.  , -0.  , -0.  , -0.  , -0.  ],\n",
       "       [ 0.  ,  0.  ,  0.  , -0.3 ,  0.  ,  0.  , -0.  ,  0.  , -0.  ],\n",
       "       [ 0.  , -0.  , -0.  ,  0.  , -0.3 , -0.  , -0.  , -0.  , -0.  ],\n",
       "       [ 0.  , -0.  , -0.  ,  0.  , -0.  ,  0.43, -0.  ,  0.  , -0.  ],\n",
       "       [ 0.  ,  0.  , -0.  , -0.  , -0.  , -0.  ,  0.43,  0.  ,  0.  ],\n",
       "       [ 0.  , -0.  , -0.  ,  0.  ,  0.  ,  0.  ,  0.  ,  0.43, -0.  ],\n",
       "       [ 0.  ,  0.  , -0.  ,  0.  , -0.  , -0.  ,  0.  , -0.  ,  0.47]])"
      ]
     },
     "execution_count": 597,
     "metadata": {},
     "output_type": "execute_result"
    }
   ],
   "source": [
    "np.around(C_std.conj().T @ full_system_scf.get_fock(dm=dm_std) @ C_std, 2)"
   ]
  },
  {
   "cell_type": "code",
   "execution_count": 610,
   "metadata": {},
   "outputs": [
    {
     "data": {
      "text/plain": [
       "array([[-8.4, -1.9,  0.8,  0.4,  0.2,  0.1, -0.1, -0.6, -1. ],\n",
       "       [-1.9, -0.5,  0.2,  0.1,  0.1,  0. , -0.1, -0.2, -0.3],\n",
       "       [ 0.8,  0.2, -0.1, -0. , -0. , -0. ,  0. ,  0. ,  0.2],\n",
       "       [ 0.4,  0.1, -0. , -0.1, -0. , -0. , -0. ,  0.1,  0.1],\n",
       "       [ 0.2,  0.1, -0. , -0. , -0.1, -0. ,  0. ,  0. ,  0. ],\n",
       "       [ 0.1,  0. , -0. , -0. , -0. , -0.1,  0. ,  0. ,  0. ],\n",
       "       [-0.1, -0.1,  0. , -0. ,  0. ,  0. , -0.1, -0. , -0. ],\n",
       "       [-0.6, -0.2,  0. ,  0.1,  0. ,  0. , -0. , -0.1, -0.1],\n",
       "       [-1. , -0.3,  0.2,  0.1,  0. ,  0. , -0. , -0.1, -0.2]])"
      ]
     },
     "execution_count": 610,
     "metadata": {},
     "output_type": "execute_result"
    }
   ],
   "source": [
    "np.around(C_local.conj().T @ F_bas @ C_local, 1)"
   ]
  },
  {
   "cell_type": "code",
   "execution_count": 547,
   "metadata": {},
   "outputs": [
    {
     "data": {
      "text/plain": [
       "array([-10.58751774,  -1.13654259,  -0.44207985,  -0.44202685,\n",
       "        -0.43929045,   1.15678835,   1.15694903,   1.15707904,\n",
       "         2.11280491])"
      ]
     },
     "execution_count": 547,
     "metadata": {},
     "output_type": "execute_result"
    }
   ],
   "source": [
    "# V = sp.linalg.fractional_matrix_power(full_system_scf.get_ovlp(), -0.5)\n",
    "\n",
    "F_ortho = U.conj().T @ full_system_scf.get_fock(dm=dm_std) @ U\n",
    "# F_ortho = V.conj().T @  F_new_basis @ V\n",
    "\n",
    "epsilon_std, C_prime_std = np.linalg.eigh(F_ortho)\n",
    "epsilon_std"
   ]
  },
  {
   "cell_type": "code",
   "execution_count": 554,
   "metadata": {},
   "outputs": [],
   "source": [
    "# np.around(C_prime_loc.conj().T @ F_prime @ C_prime_loc, 2)"
   ]
  },
  {
   "cell_type": "code",
   "execution_count": 553,
   "metadata": {},
   "outputs": [
    {
     "data": {
      "text/plain": [
       "array([[-9.57,  0.  , -0.  , -0.  ,  0.  ,  0.  ,  0.  ,  0.  ,  0.  ],\n",
       "       [ 0.  , -0.58,  0.  ,  0.  , -0.  , -0.  ,  0.  , -0.  ,  0.  ],\n",
       "       [-0.  ,  0.  , -0.3 ,  0.  , -0.  , -0.  , -0.  , -0.  , -0.  ],\n",
       "       [ 0.  ,  0.  ,  0.  , -0.3 ,  0.  ,  0.  , -0.  ,  0.  , -0.  ],\n",
       "       [ 0.  , -0.  , -0.  ,  0.  , -0.3 , -0.  , -0.  , -0.  , -0.  ],\n",
       "       [ 0.  , -0.  , -0.  ,  0.  , -0.  ,  0.43, -0.  ,  0.  , -0.  ],\n",
       "       [ 0.  ,  0.  , -0.  , -0.  , -0.  , -0.  ,  0.43,  0.  ,  0.  ],\n",
       "       [ 0.  , -0.  , -0.  ,  0.  ,  0.  ,  0.  ,  0.  ,  0.43, -0.  ],\n",
       "       [ 0.  ,  0.  , -0.  ,  0.  , -0.  , -0.  ,  0.  , -0.  ,  0.47]])"
      ]
     },
     "execution_count": 553,
     "metadata": {},
     "output_type": "execute_result"
    }
   ],
   "source": []
  },
  {
   "cell_type": "code",
   "execution_count": 478,
   "metadata": {},
   "outputs": [
    {
     "data": {
      "text/plain": [
       "array([[-10.3,  -1.9,  -0.5,   0.5,   0.5,   0.6,  -0.1,  -0.2,  -0. ],\n",
       "       [ -1.9,  -1.1,  -0. ,   0. ,   0. ,   0.2,  -0.1,  -0.1,  -0. ],\n",
       "       [ -0.5,  -0. ,  -0.3,   0. ,   0. ,   0.1,  -0. ,  -0. ,  -0. ],\n",
       "       [  0.5,   0. ,   0. ,  -0.3,  -0. ,  -0.1,   0. ,   0. ,  -0. ],\n",
       "       [  0.5,   0. ,   0. ,  -0. ,  -0.3,  -0.1,   0. ,   0. ,  -0. ],\n",
       "       [  0.6,   0.2,   0.1,  -0.1,  -0.1,  -0.1,   0. ,   0. ,   0. ],\n",
       "       [ -0.1,  -0.1,  -0. ,   0. ,   0. ,   0. ,  -0. ,  -0. ,  -0. ],\n",
       "       [ -0.2,  -0.1,  -0. ,   0. ,   0. ,   0. ,  -0. ,  -0. ,  -0. ],\n",
       "       [ -0. ,  -0. ,  -0. ,  -0. ,  -0. ,   0. ,  -0. ,  -0. ,  -0. ]])"
      ]
     },
     "execution_count": 478,
     "metadata": {},
     "output_type": "execute_result"
    }
   ],
   "source": []
  },
  {
   "cell_type": "code",
   "execution_count": 452,
   "metadata": {},
   "outputs": [
    {
     "data": {
      "text/plain": [
       "False"
      ]
     },
     "execution_count": 452,
     "metadata": {},
     "output_type": "execute_result"
    }
   ],
   "source": [
    "epsilon_std, C_prime_std  = full_system_scf.eig(full_system_scf.get_fock(dm=dm_std), \n",
    "                                                s= full_system_scf.get_ovlp())\n",
    "C_std = V @ C_prime_std\n",
    "np.allclose(C_std, full_system_scf.mo_coeff)"
   ]
  },
  {
   "cell_type": "code",
   "execution_count": 444,
   "metadata": {},
   "outputs": [],
   "source": [
    "# full_system_scf.mo_coeff"
   ]
  },
  {
   "cell_type": "code",
   "execution_count": 441,
   "metadata": {},
   "outputs": [
    {
     "data": {
      "text/plain": [
       "array([[-9.88460251e-01, -2.27996606e-01,  7.82275752e-06,\n",
       "         2.34740163e-06,  6.09205471e-06,  5.63545368e-05,\n",
       "         6.80964598e-05, -4.97034392e-05, -2.59546809e-01],\n",
       "       [-5.54027723e-02,  6.32586529e-01, -2.43723962e-05,\n",
       "        -1.15782641e-05, -2.11715734e-05, -3.47157700e-04,\n",
       "        -4.03422684e-04,  3.18093085e-04,  1.62043905e+00],\n",
       "       [ 7.68413963e-07, -1.50662001e-05, -2.88874842e-01,\n",
       "        -5.08033663e-01, -7.98214576e-02, -7.52450189e-02,\n",
       "        -9.06732001e-01,  6.07291068e-01, -4.04506573e-04],\n",
       "       [ 5.30175591e-07, -1.01326704e-05,  5.26454217e-02,\n",
       "         6.18550358e-02, -5.84230122e-01, -1.09127081e+00,\n",
       "         5.99821115e-02, -4.56666563e-02, -2.37379999e-04],\n",
       "       [ 4.44612533e-07, -6.91385463e-06, -5.11551835e-01,\n",
       "         2.93252113e-01, -1.50519755e-02, -4.54905627e-03,\n",
       "         6.08960983e-01,  9.08753365e-01, -4.15132159e-05],\n",
       "       [ 1.13464504e-02,  1.79022402e-01, -4.89723814e-01,\n",
       "         1.23858707e-02, -1.18206757e-01,  1.97742623e-01,\n",
       "        -8.98119179e-02, -1.04681206e+00, -6.65243076e-01],\n",
       "       [ 1.13460044e-02,  1.79012466e-01,  2.60346707e-01,\n",
       "        -1.98263838e-01, -3.83252743e-01,  8.19667073e-01,\n",
       "         4.94431789e-01,  4.76021018e-01, -6.65200490e-01],\n",
       "       [ 1.13461410e-02,  1.79015997e-01,  6.62643053e-02,\n",
       "        -2.82498092e-01,  4.12040829e-01, -8.92827661e-01,\n",
       "         5.69206902e-01,  1.46276540e-01, -6.65486240e-01],\n",
       "       [ 1.13465813e-02,  1.79025577e-01,  1.63129216e-01,\n",
       "         4.68357324e-01,  8.94183407e-02, -1.24027850e-01,\n",
       "        -9.73144150e-01,  4.24035838e-01, -6.65804454e-01]])"
      ]
     },
     "execution_count": 441,
     "metadata": {},
     "output_type": "execute_result"
    }
   ],
   "source": [
    "V@C_prime_std"
   ]
  },
  {
   "cell_type": "code",
   "execution_count": null,
   "metadata": {},
   "outputs": [],
   "source": []
  },
  {
   "cell_type": "code",
   "execution_count": null,
   "metadata": {},
   "outputs": [],
   "source": []
  },
  {
   "cell_type": "code",
   "execution_count": 383,
   "metadata": {},
   "outputs": [
    {
     "data": {
      "text/plain": [
       "(9, 5)"
      ]
     },
     "execution_count": 383,
     "metadata": {},
     "output_type": "execute_result"
    }
   ],
   "source": [
    "S_half = sp.linalg.fractional_matrix_power(full_system_scf.get_ovlp() , -0.5)\n",
    "C_loc = S_half @ ortho_loc \n",
    "C_loc"
   ]
  },
  {
   "cell_type": "code",
   "execution_count": 372,
   "metadata": {},
   "outputs": [
    {
     "data": {
      "text/plain": [
       "False"
      ]
     },
     "execution_count": 372,
     "metadata": {},
     "output_type": "execute_result"
    }
   ],
   "source": [
    "V = sp.linalg.fractional_matrix_power(full_system_scf.get_ovlp(), -0.5)\n",
    "\n",
    "# F_prime = U.conj().T @ np.linalg.pinv(V) @ full_system_scf.get_fock(dm=dm_loc) @ V @ U\n",
    "F_ortho = V.conj().T @  full_system_scf.get_fock(dm=dm_std) @ V\n",
    "F_prime = U.conj().T @ F_ortho @ U\n",
    "\n",
    "epsilon, C_prime = np.linalg.eigh(F_prime)\n",
    "\n",
    "# transofrm C_prime back to AO basis\n",
    "C = U @ C_prime\n",
    "\n",
    "np.allclose(np.abs(full_system_scf.mo_coeff), np.abs(C))"
   ]
  },
  {
   "cell_type": "code",
   "execution_count": 361,
   "metadata": {},
   "outputs": [
    {
     "data": {
      "text/plain": [
       "False"
      ]
     },
     "execution_count": 361,
     "metadata": {},
     "output_type": "execute_result"
    }
   ],
   "source": [
    "U = np.zeros((ortho_std.shape[0], ortho_std.shape[0]))\n",
    "for MO_ind in range(ortho_std.shape[1]):\n",
    "    outer = np.outer(ortho_loc[:, MO_ind], ortho_loc[:, MO_ind])\n",
    "    U+=outer\n",
    "    \n",
    "np.allclose(U @ ortho_loc, ortho_loc)\n",
    "np.allclose(U.conj().T@U, U@U.conj().T)\n",
    "np.allclose(U @ ortho_std, ortho_loc)"
   ]
  },
  {
   "cell_type": "code",
   "execution_count": null,
   "metadata": {},
   "outputs": [],
   "source": []
  },
  {
   "cell_type": "code",
   "execution_count": 242,
   "metadata": {},
   "outputs": [],
   "source": [
    "from functools import reduce\n",
    "\n",
    "zero =np.array([[1],[0]])\n",
    "one = np.array([[0],[1]])\n",
    "\n",
    "first = [one for i in range(full_system_scf.mol.nelectron//2)]\n",
    "second = [zero for i in range(full_system_scf.mol.nelectron//2, F_rot.shape[1])]\n",
    "\n",
    "state = reduce(np.kron, [*first, *second])"
   ]
  },
  {
   "cell_type": "code",
   "execution_count": 250,
   "metadata": {},
   "outputs": [
    {
     "name": "stdout",
     "output_type": "stream",
     "text": [
      "[-9.56762769 -0.58148626 -0.30275977 -0.30273646 -0.30273044  0.42538041\n",
      "  0.4253998   0.42544456  0.4712599 ]\n",
      "[-9.56763009 -0.58148699 -0.30276035 -0.3027371  -0.30273108  0.4253797\n",
      "  0.42539908  0.42544391  0.47125932]\n"
     ]
    }
   ],
   "source": [
    "F_MO = full_system_scf.mo_coeff.conj().T @ Fock @ full_system_scf.mo_coeff\n",
    "\n",
    "\n",
    "print(full_system_scf.mo_energy)\n",
    "print(np.diag(F_MO))"
   ]
  },
  {
   "cell_type": "code",
   "execution_count": 241,
   "metadata": {},
   "outputs": [
    {
     "name": "stdout",
     "output_type": "stream",
     "text": [
      "[[-0.5 -0.1  0.1  0.  -0.1  0.  -0.   0.  -0.1]\n",
      " [-0.1 -0.2  0.4 -0.1 -0.3  0.   0.   0.  -0.2]\n",
      " [ 0.1  0.4 -1.8  0.5  1.6 -0.2 -0.1 -0.2  0.4]\n",
      " [ 0.  -0.1  0.5 -0.4 -0.4  0.   0.   0.  -0.1]\n",
      " [-0.1 -0.3  1.6 -0.4 -1.8  0.2  0.1  0.2 -0.3]\n",
      " [ 0.   0.  -0.2  0.   0.2 -0.  -0.  -0.   0. ]\n",
      " [-0.   0.  -0.1  0.   0.1 -0.  -0.  -0.   0. ]\n",
      " [ 0.   0.  -0.2  0.   0.2 -0.  -0.  -0.   0. ]\n",
      " [-0.1 -0.2  0.4 -0.1 -0.3  0.   0.   0.  -0.2]]\n"
     ]
    },
    {
     "ename": "ValueError",
     "evalue": "matmul: Input operand 1 has a mismatch in its core dimension 0, with gufunc signature (n?,k),(k,m?)->(n?,m?) (size 9 is different from 512)",
     "output_type": "error",
     "traceback": [
      "\u001b[0;31m---------------------------------------------------------------------------\u001b[0m",
      "\u001b[0;31mValueError\u001b[0m                                Traceback (most recent call last)",
      "\u001b[0;32m<ipython-input-241-0e13189d6a31>\u001b[0m in \u001b[0;36m<module>\u001b[0;34m\u001b[0m\n\u001b[1;32m      5\u001b[0m \u001b[0mprint\u001b[0m\u001b[0;34m(\u001b[0m\u001b[0mnp\u001b[0m\u001b[0;34m.\u001b[0m\u001b[0maround\u001b[0m\u001b[0;34m(\u001b[0m\u001b[0mF_rot\u001b[0m\u001b[0;34m,\u001b[0m \u001b[0;36m1\u001b[0m\u001b[0;34m)\u001b[0m\u001b[0;34m)\u001b[0m\u001b[0;34m\u001b[0m\u001b[0;34m\u001b[0m\u001b[0m\n\u001b[1;32m      6\u001b[0m \u001b[0;34m\u001b[0m\u001b[0m\n\u001b[0;32m----> 7\u001b[0;31m \u001b[0mstate\u001b[0m\u001b[0;34m.\u001b[0m\u001b[0mconj\u001b[0m\u001b[0;34m(\u001b[0m\u001b[0;34m)\u001b[0m\u001b[0;34m.\u001b[0m\u001b[0mT\u001b[0m \u001b[0;34m@\u001b[0m \u001b[0mF_rot\u001b[0m \u001b[0;34m@\u001b[0m \u001b[0mstate\u001b[0m\u001b[0;34m\u001b[0m\u001b[0;34m\u001b[0m\u001b[0m\n\u001b[0m",
      "\u001b[0;31mValueError\u001b[0m: matmul: Input operand 1 has a mismatch in its core dimension 0, with gufunc signature (n?,k),(k,m?)->(n?,m?) (size 9 is different from 512)"
     ]
    }
   ],
   "source": [
    "Fock = full_system_scf.get_hcore() + full_system_scf.get_veff(dm = dm_active+ dm_enviro)\n",
    "F_rot = C_loc_full.conj().T @ (U.conj().T@ Fock @U) @ C_loc_full\n",
    "\n",
    "# F_MO = full_system_scf.mo_coeff.conj().T @ Fock @ full_system_scf.mo_coeff\n",
    "print(np.around(F_rot, 1))\n",
    "\n",
    "state.conj().T @ F_rot @ state"
   ]
  },
  {
   "cell_type": "code",
   "execution_count": 168,
   "metadata": {},
   "outputs": [
    {
     "name": "stdout",
     "output_type": "stream",
     "text": [
      "5.981543385602528e-16\n"
     ]
    }
   ],
   "source": [
    "S_half = sp.linalg.fractional_matrix_power(full_system_scf.get_ovlp() , 0.5)\n",
    "ortho_loc = S_half@ C_all_localized\n",
    "\n",
    "print(ortho_loc[:,0].dot(ortho_loc[:,3]))\n",
    "\n",
    "# U, singular_values, rotation_matrix = np.linalg.svd(ortho_loc, full_matrices=True)\n",
    "\n",
    "\n",
    "# act_orbitals = ortho_loc @ rotation_matrix.T[:, active_MO_inds]\n",
    "# env_orbitals = ortho_loc @ rotation_matrix.T[:, enviro_MO_inds]\n",
    "\n",
    "# C_matrix_all_localized_orbitals =  C_all_localized @ rotation_matrix.T\n",
    "\n",
    "# C_matrix_all_localized_orbitals"
   ]
  },
  {
   "cell_type": "code",
   "execution_count": 220,
   "metadata": {},
   "outputs": [
    {
     "name": "stdout",
     "output_type": "stream",
     "text": [
      "True\n",
      "True\n"
     ]
    },
    {
     "data": {
      "text/plain": [
       "True"
      ]
     },
     "execution_count": 220,
     "metadata": {},
     "output_type": "execute_result"
    }
   ],
   "source": [
    "S_half = sp.linalg.fractional_matrix_power(full_system_scf.get_ovlp() , 0.5)\n",
    "ortho_loc = S_half@ C_all_localized\n",
    "\n",
    "act_orbitals = ortho_loc[:, active_MO_inds]\n",
    "env_orbitals = ortho_loc[:, enviro_MO_inds]\n",
    "\n",
    "S_neg_half = sp.linalg.fractional_matrix_power(full_system_scf.get_ovlp() , -0.5)\n",
    "C_active =  S_neg_half @ act_orbitals\n",
    "C_enviro =  S_neg_half @ env_orbitals\n",
    "\n",
    "\n",
    "dm_active = 2*C_active @ C_active.conj().T\n",
    "dm_enviro = 2*C_enviro @ C_enviro.conj().T\n",
    "dm_loc = 2*C_all_localized @ C_all_localized.conj().T\n",
    "\n",
    "\n",
    "print(np.allclose(C_active, C_all_localized[:, active_MO_inds]))\n",
    "print(np.allclose(C_enviro, C_all_localized[:, enviro_MO_inds]))\n",
    "\n",
    "np.allclose(dm_loc, dm_active+dm_enviro)"
   ]
  },
  {
   "cell_type": "code",
   "execution_count": 218,
   "metadata": {},
   "outputs": [
    {
     "name": "stdout",
     "output_type": "stream",
     "text": [
      "True\n",
      "True\n"
     ]
    }
   ],
   "source": []
  },
  {
   "cell_type": "code",
   "execution_count": 204,
   "metadata": {},
   "outputs": [
    {
     "data": {
      "text/plain": [
       "True"
      ]
     },
     "execution_count": 204,
     "metadata": {},
     "output_type": "execute_result"
    }
   ],
   "source": [
    "projector_ortho = np.zeros_like(full_system_scf.get_hcore())\n",
    "for mo_ind in range(ortho_loc.shape[1]):\n",
    "    psi_mo = ortho_loc[:, mo_ind]\n",
    "    if mo_ind in active_MO_inds:\n",
    "        projector_ortho+= np.outer(psi_mo,psi_mo)\n",
    "\n",
    "np.allclose(projector_ortho@ortho_loc[:, 2],\n",
    "            ortho_loc[:, 2])"
   ]
  },
  {
   "cell_type": "code",
   "execution_count": 215,
   "metadata": {},
   "outputs": [
    {
     "data": {
      "text/plain": [
       "array([ 0.99586356,  0.00956646, -0.01229789, -0.00374187, -0.02176068,\n",
       "       -0.04566708, -0.01687342, -0.0168775 , -0.01687389])"
      ]
     },
     "execution_count": 215,
     "metadata": {},
     "output_type": "execute_result"
    }
   ],
   "source": [
    "Proj_std = S_neg_half @ projector_ortho\n",
    "\n",
    "Proj_std@C_active[:, 0] \n"
   ]
  },
  {
   "cell_type": "code",
   "execution_count": 195,
   "metadata": {},
   "outputs": [
    {
     "data": {
      "text/plain": [
       "False"
      ]
     },
     "execution_count": 195,
     "metadata": {},
     "output_type": "execute_result"
    }
   ],
   "source": [
    "projector = np.zeros_like(full_system_scf.get_hcore())\n",
    "for mo_ind in range(C_active.shape[1]):\n",
    "    psi_mo = C_active[:, mo_ind]\n",
    "    projector+= np.outer(psi_mo,psi_mo)\n",
    "\n",
    "np.allclose(projector@C_active[:, 0],\n",
    "            C_active[:, 0])"
   ]
  },
  {
   "cell_type": "code",
   "execution_count": 193,
   "metadata": {},
   "outputs": [
    {
     "data": {
      "text/plain": [
       "True"
      ]
     },
     "execution_count": 193,
     "metadata": {},
     "output_type": "execute_result"
    }
   ],
   "source": [
    "projector = np.zeros_like(full_system_scf.get_hcore())\n",
    "for mo_ind in range(ortho_loc.shape[1]):\n",
    "    psi_mo = ortho_loc[:, mo_ind]\n",
    "    if mo_ind in active_MO_inds:\n",
    "        projector+= np.outer(psi_mo,psi_mo)\n",
    "\n",
    "np.allclose(projector@ortho_loc[:, 2],\n",
    "            ortho_loc[:, 2])"
   ]
  },
  {
   "cell_type": "code",
   "execution_count": 229,
   "metadata": {},
   "outputs": [],
   "source": [
    "# test1 = full_system_scf.mo_coeff.conj().T @ full_system_scf.get_fock() @ full_system_scf.mo_coeff\n",
    "# np.around(test1,2)\n",
    "\n",
    "# test2 =   full_system_scf.mo_coeff  @ full_system_scf.mo_coeff.conj().T @ full_system_scf.get_fock()\n",
    "# np.around(test2,2)"
   ]
  },
  {
   "cell_type": "code",
   "execution_count": null,
   "metadata": {},
   "outputs": [],
   "source": []
  },
  {
   "cell_type": "code",
   "execution_count": 180,
   "metadata": {},
   "outputs": [
    {
     "data": {
      "text/plain": [
       "True"
      ]
     },
     "execution_count": 180,
     "metadata": {},
     "output_type": "execute_result"
    }
   ],
   "source": []
  },
  {
   "cell_type": "code",
   "execution_count": null,
   "metadata": {},
   "outputs": [],
   "source": [
    "from pyscf import lo\n",
    "mo_occ = full_system_scf.mo_coeff[:,full_system_scf.mo_occ>0]\n",
    "iaos = lo.iao.iao(full_system_scf.mol, mo_occ)\n",
    "# Orthogonalize IAO\n",
    "iaos = lo.vec_lowdin(iaos, full_system_scf.get_ovlp())\n",
    "C_all_localized = lo.ibo.ibo(full_system_scf.mol, mo_occ, locmethod='PipekMezey', iaos=iaos)#.kernel()\n",
    "\n",
    "C_all_localized"
   ]
  },
  {
   "cell_type": "code",
   "execution_count": null,
   "metadata": {},
   "outputs": [],
   "source": [
    "from pyscf.lo.boys import Boys\n",
    "from pyscf.lo import PipekMezey\n",
    "\n",
    "boy_Scf = PipekMezey(full_system_scf.mol,  full_system_scf.mo_coeff[:,full_system_scf.mo_occ>0])\n",
    "boy_Scf.kernel()\n",
    "C_all_localized = boy_Scf.mo_coeff\n",
    "C_all_localized"
   ]
  },
  {
   "cell_type": "code",
   "execution_count": null,
   "metadata": {},
   "outputs": [],
   "source": [
    "np.allclose(C_all_localized, full_system_scf.mo_coeff[:,full_system_scf.mo_occ>0])"
   ]
  },
  {
   "cell_type": "code",
   "execution_count": 86,
   "metadata": {},
   "outputs": [
    {
     "data": {
      "text/plain": [
       "array([-9.56762769, -0.58148626, -0.30275977, -0.30273646, -0.30273044,\n",
       "        0.42538041,  0.4253998 ,  0.42544456,  0.4712599 ])"
      ]
     },
     "execution_count": 86,
     "metadata": {},
     "output_type": "execute_result"
    }
   ],
   "source": [
    "full_system_scf.mo_energy"
   ]
  },
  {
   "cell_type": "code",
   "execution_count": 88,
   "metadata": {},
   "outputs": [
    {
     "data": {
      "text/plain": [
       "-0.22153123282052678"
      ]
     },
     "execution_count": 88,
     "metadata": {},
     "output_type": "execute_result"
    }
   ],
   "source": [
    "S_neg = sp.linalg.fractional_matrix_power(full_system_scf.get_ovlp(), -1)\n",
    "\n",
    "# F_prime = U.conj().T @ np.linalg.pinv(V) @ full_system_scf.get_fock(dm=dm_loc) @ V @ U\n",
    "Sneg_F = S_neg @  full_system_scf.get_fock(dm=dm_std) \n",
    "(C_all_localized[:,2].conj().T @ Sneg_F@ C_all_localized[:,2])\n"
   ]
  },
  {
   "cell_type": "code",
   "execution_count": 68,
   "metadata": {},
   "outputs": [
    {
     "data": {
      "text/plain": [
       "False"
      ]
     },
     "execution_count": 68,
     "metadata": {},
     "output_type": "execute_result"
    }
   ],
   "source": [
    "U = sp.linalg.fractional_matrix_power(full_system_scf.get_ovlp(), -0.5)\n",
    "\n",
    "# F_prime = U.conj().T @ np.linalg.pinv(V) @ full_system_scf.get_fock(dm=dm_loc) @ V @ U\n",
    "F_prime = U.conj().T @  full_system_scf.get_fock(dm=dm_std) @ U\n",
    "\n",
    "\n",
    "epsilon, C_prime = np.linalg.eigh(F_prime)\n",
    "\n",
    "# transofrm C_prime back to AO basis\n",
    "C = U @ C_prime\n",
    "\n",
    "np.allclose(np.abs(full_system_scf.mo_coeff), np.abs(C))"
   ]
  },
  {
   "cell_type": "code",
   "execution_count": null,
   "metadata": {},
   "outputs": [],
   "source": [
    "# S_ovlp = full_system_scf.get_ovlp()\n",
    "# AO_slice_matrix = full_system_scf.mol.aoslice_by_atom()\n",
    "# ao_active_inds = np.arange(AO_slice_matrix[0,2], AO_slice_matrix[N_active_atoms-1,3])\n",
    "\n",
    "# dm_test = 2* C_all_localized @ C_all_localized.conj().T\n",
    "# # dm_test = 2* full_system_scf.mo_coeff[:,full_system_scf.mo_occ>0] @ full_system_scf.mo_coeff[:,full_system_scf.mo_occ>0].conj().T\n",
    "\n",
    "# DS = dm_test@S_ovlp\n",
    "\n",
    "# # ao_active_inds\n",
    "# diagonal_active = DS[ao_active_inds, ao_active_inds]\n",
    "\n",
    "# diagonal_active\n"
   ]
  },
  {
   "cell_type": "code",
   "execution_count": null,
   "metadata": {},
   "outputs": [],
   "source": []
  },
  {
   "cell_type": "code",
   "execution_count": null,
   "metadata": {},
   "outputs": [],
   "source": [
    "# S_ovlp = full_system_scf.get_ovlp()\n",
    "# AO_slice_matrix = full_system_scf.mol.aoslice_by_atom()\n",
    "# ao_active_inds = np.arange(AO_slice_matrix[0,2], AO_slice_matrix[N_active_atoms-1,3])\n",
    "\n",
    "# S_half = sp.linalg.fractional_matrix_power(S_ovlp , 0.5)\n",
    "# orthogonal_orbitals = (S_half@C_all_localized) # Get rows (the active AO) of orthogonal orbs \n",
    "\n",
    "# print(orthogonal_orbitals[:,2].dot(orthogonal_orbitals[:,3]))\n",
    "\n",
    "# MO_AO_overlap = S_ovlp@orthogonal_orbitals\n",
    "# MO_active_AO_overlap = np.einsum('ij->j', MO_AO_overlap[ao_active_inds]) \n",
    "\n",
    "# print('\\noverlap:', MO_active_AO_overlap)\n",
    "# print(f'threshold for active part: {THRESHOLD} \\n')\n",
    "\n",
    "# np.where(MO_active_AO_overlap>THRESHOLD)[0]"
   ]
  },
  {
   "cell_type": "code",
   "execution_count": null,
   "metadata": {},
   "outputs": [],
   "source": []
  },
  {
   "cell_type": "code",
   "execution_count": null,
   "metadata": {},
   "outputs": [],
   "source": [
    "# # Draw active orbitals\n",
    "\n",
    "# list_active_orbitals = vqe_in_dft.Draw_cube_orbital(full_system_scf,\n",
    "#                              xyz_string,\n",
    "#                              C_all_localized, \n",
    "#                              active_MO_inds,\n",
    "#                              width=400, \n",
    "#                              height=400, \n",
    "#                              jupyter_notebook=True)\n",
    "\n",
    "# list_enviro_orbitals = vqe_in_dft.Draw_cube_orbital(full_system_scf,\n",
    "#                              xyz_string,\n",
    "#                              C_all_localized, \n",
    "#                              enviro_MO_inds,\n",
    "#                              width=400, \n",
    "#                              height=400, \n",
    "#                              jupyter_notebook=True)"
   ]
  },
  {
   "cell_type": "code",
   "execution_count": null,
   "metadata": {},
   "outputs": [],
   "source": [
    "# list_active_orbitals[0]"
   ]
  },
  {
   "cell_type": "code",
   "execution_count": null,
   "metadata": {},
   "outputs": [],
   "source": [
    "# list_enviro_orbitals[0]"
   ]
  },
  {
   "cell_type": "code",
   "execution_count": null,
   "metadata": {},
   "outputs": [],
   "source": [
    "# AO_slice_matrix = full_system_scf.mol.aoslice_by_atom()\n",
    "# ao_active_inds = np.arange(AO_slice_matrix[0,2], AO_slice_matrix[N_active_atoms-1,3])\n",
    "# ao_enviro_inds = np.arange(AO_slice_matrix[N_active_atoms,2], AO_slice_matrix[-1,-1])\n",
    "\n",
    "# U, S, V = np.linalg.svd(C_all_localized)\n",
    "\n",
    "# Projector_out_env = np.eye(C_all_localized.shape[0])\n",
    "# Projector_out_env[ao_enviro_inds, ao_enviro_inds]= np.zeros((len(ao_enviro_inds),len(ao_enviro_inds)))\n",
    "# Projector_out_env"
   ]
  },
  {
   "cell_type": "code",
   "execution_count": null,
   "metadata": {},
   "outputs": [],
   "source": []
  },
  {
   "cell_type": "code",
   "execution_count": null,
   "metadata": {},
   "outputs": [],
   "source": []
  },
  {
   "cell_type": "code",
   "execution_count": null,
   "metadata": {},
   "outputs": [],
   "source": [
    "dm_active, dm_enviro = vqe_in_dft.Get_active_and_envrio_dm(\n",
    "                                                full_system_scf,\n",
    "                                                C_active, \n",
    "                                                C_envrio, \n",
    "                                                C_all_localized, \n",
    "                                                sanity_check=True)"
   ]
  },
  {
   "cell_type": "code",
   "execution_count": null,
   "metadata": {},
   "outputs": [],
   "source": []
  },
  {
   "cell_type": "code",
   "execution_count": null,
   "metadata": {},
   "outputs": [],
   "source": [
    "# use active density\n",
    "E_act, J_act, K_act, e_xc_act, v_xc_act = vqe_in_dft.Get_energy_and_matrices_from_dm( full_system_scf, \n",
    "                                                                             dm_active, # <- ACTIVE\n",
    "                                                                             check_E_with_pyscf=True)"
   ]
  },
  {
   "cell_type": "code",
   "execution_count": null,
   "metadata": {},
   "outputs": [],
   "source": [
    "# use enviro density\n",
    "E_env, J_env, K_env, e_xc_env, v_xc_env = vqe_in_dft.Get_energy_and_matrices_from_dm(\n",
    "                                                                            full_system_scf,\n",
    "                                                                             dm_enviro, # <- ENVIRO\n",
    "                                                                             check_E_with_pyscf=True)"
   ]
  },
  {
   "cell_type": "code",
   "execution_count": null,
   "metadata": {},
   "outputs": [],
   "source": []
  },
  {
   "cell_type": "code",
   "execution_count": null,
   "metadata": {},
   "outputs": [],
   "source": [
    "# cross terms!\n",
    "two_e_cross = vqe_in_dft.Get_cross_terms(full_system_scf, \n",
    "                                         dm_active, \n",
    "                                         dm_enviro, \n",
    "                                         J_env, \n",
    "                                         J_act, \n",
    "                                         e_xc_act,\n",
    "                                         e_xc_env)"
   ]
  },
  {
   "cell_type": "code",
   "execution_count": null,
   "metadata": {},
   "outputs": [],
   "source": [
    "print(f'E_active: {E_act}')\n",
    "print(f'E_enviro: {E_env}')\n",
    "print(f'E_cross: {two_e_cross}')"
   ]
  },
  {
   "cell_type": "code",
   "execution_count": null,
   "metadata": {},
   "outputs": [],
   "source": []
  },
  {
   "cell_type": "markdown",
   "metadata": {},
   "source": [
    "# 4. Define V_embed"
   ]
  },
  {
   "cell_type": "markdown",
   "metadata": {},
   "source": [
    "$$h^{A_{\\text{act}} \\text{ in } B_{\\text{env}}} = h^{\\text{core}} + v^{\\text{embed}}$$\n",
    "\n",
    "$$v^{\\text{embed}} = g[\\gamma^{A_{\\text{act}}} + \\gamma^{B_{\\text{env}}} ] - g[\\gamma^{A_{\\text{act}}}] + P_{\\text{projector}}$$"
   ]
  },
  {
   "cell_type": "code",
   "execution_count": null,
   "metadata": {},
   "outputs": [],
   "source": [
    "projector_method = 'huzinaga'\n",
    "# projector_method = 'mu_shfit'\n",
    "\n",
    "V_embed  = vqe_in_dft.Get_embedded_potential_operator(projector_method, \n",
    "                                full_system_scf, \n",
    "                                dm_active, \n",
    "                                dm_enviro, \n",
    "                                check_Hcore_is_correct=True, \n",
    "                                mu_shift_val=1e6,\n",
    "                                check_Vemb=True)"
   ]
  },
  {
   "cell_type": "code",
   "execution_count": null,
   "metadata": {},
   "outputs": [],
   "source": [
    "# projector_method = 'huzinaga'\n",
    "# # projector_method = 'mu_shfit'\n",
    "\n",
    "# if projector_method == 'huzinaga':\n",
    "#     Fock = full_system_scf.get_hcore() + full_system_scf.get_veff(dm=dm_active + dm_enviro)\n",
    "#     F_gammaB_S = Fock @ dm_enviro @ S_mat\n",
    "#     projector = -0.5 * (F_gammaB_S + F_gammaB_S.T)\n",
    "# elif projector_method == 'mu_shfit':\n",
    "#     mu = 1e6\n",
    "#     projector = mu * (S_mat @ dm_enviro  @ S_mat)\n",
    "# else:\n",
    "#     raise ValueError(f'Unknown projection method {projector_method}')\n",
    "\n"
   ]
  },
  {
   "cell_type": "code",
   "execution_count": null,
   "metadata": {},
   "outputs": [],
   "source": [
    "full_system_scf.mo_coeff[:,full_system_scf.mo_occ>0]"
   ]
  },
  {
   "cell_type": "code",
   "execution_count": null,
   "metadata": {},
   "outputs": [],
   "source": []
  },
  {
   "cell_type": "code",
   "execution_count": null,
   "metadata": {},
   "outputs": [],
   "source": [
    "IND=2\n",
    "print(full_system_scf.mo_coeff[:,IND].conj().T @ full_system_scf.get_fock() @ full_system_scf.mo_coeff[:,IND])\n",
    "print(full_system_scf.mo_energy[IND])"
   ]
  },
  {
   "cell_type": "code",
   "execution_count": null,
   "metadata": {},
   "outputs": [],
   "source": [
    "IND=4\n",
    "print(C_all_localized[:,IND].conj().T @ full_system_scf.get_fock() @ C_all_localized[:,IND])\n",
    "print(full_system_scf.mo_energy[IND])"
   ]
  },
  {
   "cell_type": "code",
   "execution_count": null,
   "metadata": {},
   "outputs": [],
   "source": [
    "U = full_system_scf.mo_coeff @ np.linalg.pinv(C_all_localized)# c\n",
    "np.allclose(U @C_all_localized,\n",
    "            full_system_scf.mo_coeff) # checking U@ C_loc = C_standard"
   ]
  },
  {
   "cell_type": "code",
   "execution_count": null,
   "metadata": {},
   "outputs": [],
   "source": []
  },
  {
   "cell_type": "code",
   "execution_count": null,
   "metadata": {},
   "outputs": [],
   "source": [
    "U1, singular_values1, rotation_matrix = np.linalg.svd(full_system_scf.get_fock(dm = dm_active + dm_enviro)\n",
    "                                                      , full_matrices=True)\n",
    "\n",
    "U2, singular_values2, rotation_matrix2 = np.linalg.svd(full_system_scf.get_fock()\n",
    "                                                      , full_matrices=True)\n",
    "\n",
    "singular_values1"
   ]
  },
  {
   "cell_type": "code",
   "execution_count": null,
   "metadata": {},
   "outputs": [],
   "source": [
    "U1, singular_values1, rotation_matrix = np.linalg.svd(C_all_localized[:,full_system_scf.mo_occ>0], full_matrices=True)\n",
    "# U2, singular_values2, V2 = np.linalg.svd(full_system_scf.mo_coeff, full_matrices=True)\n",
    "\n",
    "C_active = C_all_localized[:,full_system_scf.mo_occ>0] @ rotation_matrix.T[:, active_MO_inds]\n",
    "C_envrio = C_all_localized[:,full_system_scf.mo_occ>0] @ rotation_matrix.T[:, enviro_MO_inds]\n",
    "\n",
    "\n",
    "C_matrix_all_localized_orbitals = C_all_localized[:,full_system_scf.mo_occ>0] @ rotation_matrix.T\n"
   ]
  },
  {
   "cell_type": "code",
   "execution_count": null,
   "metadata": {},
   "outputs": [],
   "source": [
    "dm_localised_full_system = 2* C_matrix_all_localized_orbitals@ C_matrix_all_localized_orbitals.conj().T\n",
    "dm_active =  2 * C_active @ C_active.T\n",
    "dm_enviro =  2 * C_envrio @ C_envrio.T\n",
    "    \n",
    "bool_density_flag = np.allclose(dm_localised_full_system, dm_active + dm_enviro)\n",
    "bool_density_flag"
   ]
  },
  {
   "cell_type": "code",
   "execution_count": null,
   "metadata": {},
   "outputs": [],
   "source": [
    "V_dag, singular_values, V = np.linalg.svd(U, full_matrices=True)\n",
    "\n",
    "print(C_all_localized[:,IND].conj().T @ (V@full_system_scf.get_fock() @ V_dag)/2 @ C_all_localized[:,IND])\n",
    "print(full_system_scf.mo_energy[IND])"
   ]
  },
  {
   "cell_type": "code",
   "execution_count": null,
   "metadata": {},
   "outputs": [],
   "source": []
  },
  {
   "cell_type": "code",
   "execution_count": null,
   "metadata": {},
   "outputs": [],
   "source": [
    "IND=2\n",
    "print(C_all_localized[:,IND].conj().T @ (U.conj().T@full_system_scf.get_fock() @ U) @ C_all_localized[:,IND])\n",
    "print(full_system_scf.mo_energy[IND])"
   ]
  },
  {
   "cell_type": "code",
   "execution_count": null,
   "metadata": {},
   "outputs": [],
   "source": []
  },
  {
   "cell_type": "code",
   "execution_count": null,
   "metadata": {},
   "outputs": [],
   "source": [
    "eig_vals, eig_vecs = np.linalg.eigh((U.conj().T@full_system_scf.get_fock() @ U))\n",
    "\n",
    "eig_vals2, eig_vecs2 = np.linalg.eigh(full_system_scf.get_fock())\n",
    "\n",
    "print(eig_vals)\n",
    "print(eig_vals2)"
   ]
  },
  {
   "cell_type": "code",
   "execution_count": null,
   "metadata": {},
   "outputs": [],
   "source": [
    "dm_loc = 2 * C_all_localized[:,full_system_scf.mo_occ>0] @ C_all_localized[:,full_system_scf.mo_occ>0].conj().T\n",
    "\n",
    "C_all_localized[:,IND].conj().T @ full_system_scf.get_fock() @ C_all_localized[:,IND]"
   ]
  },
  {
   "cell_type": "code",
   "execution_count": null,
   "metadata": {},
   "outputs": [],
   "source": [
    "C_opt_std = full_system_scf.mo_coeff[:,full_system_scf.mo_occ>0]\n",
    "dm_std = 2*C_opt_std @ C_opt_std.conj().T\n",
    "np.allclose(dm_std, dm_active+dm_enviro)"
   ]
  },
  {
   "cell_type": "code",
   "execution_count": null,
   "metadata": {},
   "outputs": [],
   "source": [
    "dm_active + dm_ac\n",
    "np.allclose(full_system_scf.get_veff(dm=dm_active + dm_enviro), \n",
    "            full_system_scf.get_veff())"
   ]
  },
  {
   "cell_type": "code",
   "execution_count": null,
   "metadata": {},
   "outputs": [],
   "source": [
    "Fock = full_system_scf.get_hcore() + full_system_scf.get_veff(dm = dm_active+ dm_enviro)\n",
    "eig_vals, eig_vecs = np.linalg.eigh(Fock)\n",
    "\n",
    "eig_vals"
   ]
  },
  {
   "cell_type": "code",
   "execution_count": null,
   "metadata": {},
   "outputs": [],
   "source": [
    "full_system_scf.mo_energy"
   ]
  },
  {
   "cell_type": "code",
   "execution_count": null,
   "metadata": {},
   "outputs": [],
   "source": [
    "fasdfds"
   ]
  },
  {
   "cell_type": "code",
   "execution_count": null,
   "metadata": {},
   "outputs": [],
   "source": [
    "Fock@full_system_scf.mo"
   ]
  },
  {
   "cell_type": "code",
   "execution_count": null,
   "metadata": {},
   "outputs": [],
   "source": []
  },
  {
   "cell_type": "code",
   "execution_count": null,
   "metadata": {},
   "outputs": [],
   "source": [
    "(U.conj().T@Fock@U).shape"
   ]
  },
  {
   "cell_type": "code",
   "execution_count": null,
   "metadata": {},
   "outputs": [],
   "source": []
  },
  {
   "cell_type": "code",
   "execution_count": null,
   "metadata": {},
   "outputs": [],
   "source": [
    "U = C_all_localized @ np.linalg.pinv(full_system_scf.mo_coeff)# c\n",
    "\n",
    "np.allclose(U @ full_system_scf.mo_coeff,\n",
    "C_all_localized)"
   ]
  },
  {
   "cell_type": "code",
   "execution_count": null,
   "metadata": {},
   "outputs": [],
   "source": [
    "# ind = 2\n",
    "# print(full_system_scf.mo_coeff[:,ind].conj().T @ full_system_scf.get_fock() @ full_system_scf.mo_coeff[:,ind])\n",
    "# print(full_system_scf.mo_energy[ind]) \n",
    "\n",
    "# F_mo = C_all_localized.conj().T @ (U.conj().T@ full_system_scf.get_fock() @U) @ C_all_localized\n",
    "# np.around(F_mo, 1)"
   ]
  },
  {
   "cell_type": "code",
   "execution_count": null,
   "metadata": {},
   "outputs": [],
   "source": [
    "C_all_localized.conj().T @ full_system_scf.get_fock() @ C_all_localized"
   ]
  },
  {
   "cell_type": "code",
   "execution_count": null,
   "metadata": {},
   "outputs": [],
   "source": [
    "Fock = full_system_scf.get_hcore() + full_system_scf.get_veff(dm = dm_active+ dm_enviro)\n",
    "F_rot = C_all_localized.conj().T @ (U.conj().T@ Fock @U) @ C_all_localized\n",
    "\n",
    "# F_MO = full_system_scf.mo_coeff.conj().T @ Fock @ full_system_scf.mo_coeff\n",
    "print(np.around(F_rot, 1))"
   ]
  },
  {
   "cell_type": "code",
   "execution_count": null,
   "metadata": {},
   "outputs": [],
   "source": []
  },
  {
   "cell_type": "code",
   "execution_count": null,
   "metadata": {},
   "outputs": [],
   "source": [
    "AO_slice_matrix = full_system_scf.mol.aoslice_by_atom()\n",
    "ao_active_inds = np.arange(AO_slice_matrix[0,2], AO_slice_matrix[N_active_atoms-1,3])\n",
    "\n",
    "ao_ENViro_inds = np.arange(AO_slice_matrix[N_active_atoms,2], AO_slice_matrix[-1,-1])\n",
    "\n",
    "print(ao_active_inds)\n",
    "print(ao_ENViro_inds)"
   ]
  },
  {
   "cell_type": "code",
   "execution_count": null,
   "metadata": {},
   "outputs": [],
   "source": [
    "ao_ENViro_inds"
   ]
  },
  {
   "cell_type": "code",
   "execution_count": null,
   "metadata": {},
   "outputs": [],
   "source": [
    "Fock = full_system_scf.get_hcore() + full_system_scf.get_veff(dm = dm_enviro)\n",
    "S_mat = full_system_scf.get_ovlp()\n",
    "\n",
    "P = np.zeros_like(Fock)\n",
    "# for i in ao_ENViro_inds:\n",
    "for mu in ao_ENViro_inds:\n",
    "    if mu in ao_ENViro_inds:\n",
    "        for nu in ao_ENViro_inds:\n",
    "            if nu in ao_ENViro_inds:\n",
    "                P[mu, nu]+= dm_enviro[mu, nu] * (Fock[mu, mu]*S_mat[nu, nu] + S_mat[mu, mu]*Fock[nu, nu])\n",
    "    \n",
    "P.shape"
   ]
  },
  {
   "cell_type": "code",
   "execution_count": null,
   "metadata": {},
   "outputs": [],
   "source": []
  },
  {
   "cell_type": "code",
   "execution_count": null,
   "metadata": {},
   "outputs": [],
   "source": [
    "# orbital_ind=4\n",
    "# psi_MO = EMBEDDED_full_system_scf.mo_coeff[:, orbital_ind]\n",
    "# E_MO =EMBEDDED_full_system_scf.mo_energy[orbital_ind]\n",
    "\n",
    "# Fock = EMBEDDED_full_system_scf.get_fock()\n",
    "# np.allclose(psi_MO.conj().T @Fock@psi_MO, E_MO)\n",
    "\n",
    "# Fock = full_system_scf.get_hcore() + full_system_scf.get_veff(dm = dm_active+ dm_enviro)\n",
    "# projector = np.zeros_like(Fock)\n",
    "# for orbital_ind in range(full_system_scf.mo_coeff.shape[1]):\n",
    "#     psi_MO = EMBEDDED_full_system_scf.mo_coeff[:, orbital_ind]\n",
    "#     if orbital_ind in active_MO_inds:\n",
    "#         outer = np.outer(psi_MO, psi_MO)\n",
    "#         projector-= Fock@outer + outer@Fock\n",
    "#     else:\n",
    "#        # inactive \n",
    "#         continue\n",
    "\n",
    "Fock = full_system_scf.get_hcore() + full_system_scf.get_veff(dm = dm_active+ dm_enviro)\n",
    "projector = np.zeros_like(Fock)\n",
    "for orbital_ind in range(C_all_localized.shape[1]):\n",
    "    psi_MO = C_all_localized[:, orbital_ind]\n",
    "    if orbital_ind in active_MO_inds:\n",
    "        outer = np.outer(psi_MO, psi_MO)\n",
    "        projector-= Fock@outer + outer@Fock\n",
    "    else:\n",
    "       # inactive \n",
    "        continue"
   ]
  },
  {
   "cell_type": "code",
   "execution_count": null,
   "metadata": {},
   "outputs": [],
   "source": [
    "# Fock = full_system_scf.get_hcore() + full_system_scf.get_veff(dm = dm_active+ dm_enviro)\n",
    "# S_mat = full_system_scf.get_ovlp()\n",
    "\n",
    "# projector = np.zeros_like(Fock)\n",
    "# for mu in range(Fock.shape[0]):\n",
    "#     for nu in range(Fock.shape[1]):\n",
    "#         projector[mu, nu] = -0.5* (dm_enviro[mu, nu]) * (Fock[mu,mu]*S_mat[nu, nu] + S_mat[mu,mu]*Fock[nu, nu])\n"
   ]
  },
  {
   "cell_type": "code",
   "execution_count": null,
   "metadata": {},
   "outputs": [],
   "source": [
    "# PP = -0.5 * dm_enviro @ (Fock@S_mat+ S_mat@Fock)\n",
    "# # np.allclose(projector, PP)"
   ]
  },
  {
   "cell_type": "code",
   "execution_count": null,
   "metadata": {},
   "outputs": [],
   "source": [
    "Fock = full_system_scf.get_hcore() + full_system_scf.get_veff(dm = dm_active+ dm_enviro)\n",
    "projector = np.zeros_like(Fock)\n",
    "for orbital_ind in range(C_all_localized.shape[1]):\n",
    "    psi_MO = C_all_localized[:, orbital_ind]\n",
    "    if orbital_ind in active_MO_inds:\n",
    "        outer = np.outer(psi_MO, psi_MO)\n",
    "        projector = outer\n",
    "    else:\n",
    "       # inactive \n",
    "        continue"
   ]
  },
  {
   "cell_type": "code",
   "execution_count": null,
   "metadata": {},
   "outputs": [],
   "source": [
    "Fock = full_system_scf.get_hcore() + full_system_scf.get_veff(dm = dm_active+ dm_enviro)\n",
    "projector = np.zeros_like(Fock)\n",
    "for orbital_ind in range(C_all_localized.shape[1]):\n",
    "    psi_MO = C_all_localized[:, orbital_ind]\n",
    "    if orbital_ind in enviro_MO_inds: # <---- ENV\n",
    "        outer = np.outer(psi_MO, psi_MO)\n",
    "        projector = Fock@outer + Fock@outer\n",
    "    else:\n",
    "       # inactive \n",
    "        continue"
   ]
  },
  {
   "cell_type": "code",
   "execution_count": null,
   "metadata": {},
   "outputs": [],
   "source": [
    "C_all_localized[:, orbital_ind]"
   ]
  },
  {
   "cell_type": "code",
   "execution_count": null,
   "metadata": {},
   "outputs": [],
   "source": [
    "orbital_ind=1\n",
    "\n",
    "mo_E = full_system_scf.mo_energy[orbital_ind]\n",
    "\n",
    "( (Fock) @ C_all_localized[:, orbital_ind])/ (C_all_localized[:, orbital_ind].conj().T@ Fock@ C_all_localized[:, orbital_ind])\n"
   ]
  },
  {
   "cell_type": "code",
   "execution_count": null,
   "metadata": {},
   "outputs": [],
   "source": [
    "# F_MO =  C_all_localized.conj().T @ Fock @ C_all_localized\n",
    "F_MO = full_system_scf.mo_coeff.conj().T @ Fock @ full_system_scf.mo_coeff\n",
    "print(np.around(F_MO, 2))\n"
   ]
  },
  {
   "cell_type": "code",
   "execution_count": null,
   "metadata": {},
   "outputs": [],
   "source": [
    "Proj_MO = np.zeros_like(F_MO)\n",
    "# Proj_MO[ao_active_inds, ao_active_inds]=1\n",
    "Proj_MO[ao_ENViro_inds, ao_ENViro_inds]= -1* F_MO[ao_ENViro_inds, ao_ENViro_inds]\n",
    "\n",
    "\n",
    "Proj_AO = (full_system_scf.mo_coeff.conj().T@ Proj_MO \n",
    "           @ np.linalg.pinv(full_system_scf.mo_coeff))\n",
    "\n",
    "# Proj_AO"
   ]
  },
  {
   "cell_type": "code",
   "execution_count": null,
   "metadata": {},
   "outputs": [],
   "source": [
    "MO_ind=6\n",
    "print(np.eye(Proj_MO.shape[0])[:,MO_ind] @ Proj_MO @ np.eye(Proj_MO.shape[0])[:,MO_ind])\n",
    "print(np.eye(Proj_MO.shape[0])[:,MO_ind] @ F_MO @ np.eye(Proj_MO.shape[0])[:,MO_ind])\n",
    "print()\n",
    "print(np.eye(Proj_MO.shape[0])[:,MO_ind] @ (F_MO+Proj_MO) @ np.eye(Proj_MO.shape[0])[:,MO_ind])"
   ]
  },
  {
   "cell_type": "code",
   "execution_count": null,
   "metadata": {},
   "outputs": [],
   "source": [
    "C_inv = np.linalg.pinv(full_system_scf.mo_coeff)\n",
    "projected_fock_AO = (C_inv.conj().T@ (Proj_MO+F_MO)@ C_inv)"
   ]
  },
  {
   "cell_type": "code",
   "execution_count": null,
   "metadata": {},
   "outputs": [],
   "source": [
    "ind = 6\n",
    "full_system_scf.mo_coeff[:,ind].conj().T @ projected_fock_AO @ full_system_scf.mo_coeff[:,ind]"
   ]
  },
  {
   "cell_type": "code",
   "execution_count": null,
   "metadata": {},
   "outputs": [],
   "source": [
    "full_system_scf.mo_coeff[:,ind].conj().T @ Fock @ full_system_scf.mo_coeff[:,ind]"
   ]
  },
  {
   "cell_type": "code",
   "execution_count": null,
   "metadata": {},
   "outputs": [],
   "source": []
  },
  {
   "cell_type": "code",
   "execution_count": null,
   "metadata": {},
   "outputs": [],
   "source": [
    "full_system_scf.mo_coeff[:,1]"
   ]
  },
  {
   "cell_type": "code",
   "execution_count": null,
   "metadata": {},
   "outputs": [],
   "source": [
    "Proj_AO@full_system_scf.mo_coeff[:,1]"
   ]
  },
  {
   "cell_type": "code",
   "execution_count": null,
   "metadata": {},
   "outputs": [],
   "source": [
    "np.allclose(np.linalg.pinv(full_system_scf.mo_coeff.conj().T)@ F_MO @ np.linalg.pinv(full_system_scf.mo_coeff),\n",
    "           Fock)"
   ]
  },
  {
   "cell_type": "code",
   "execution_count": null,
   "metadata": {},
   "outputs": [],
   "source": [
    "full_system_scf.mo_coeff[:, orbital_ind]"
   ]
  },
  {
   "cell_type": "code",
   "execution_count": null,
   "metadata": {},
   "outputs": [],
   "source": [
    "orbital_ind=3\n",
    "\n",
    "print(np.isclose(F_MO[orbital_ind,orbital_ind], full_system_scf.mo_energy[orbital_ind]))\n",
    "\n",
    "np.allclose(F_MO @ full_system_scf.mo_coeff[:, orbital_ind],\n",
    "            full_system_scf.mo_coeff[:, orbital_ind]/full_system_scf.mo_energy[orbital_ind])\n"
   ]
  },
  {
   "cell_type": "code",
   "execution_count": null,
   "metadata": {},
   "outputs": [],
   "source": [
    "orbital_ind=3\n",
    "projector @ full_system_scf.mo_coeff[:, orbital_ind]"
   ]
  },
  {
   "cell_type": "code",
   "execution_count": null,
   "metadata": {},
   "outputs": [],
   "source": [
    "C_all_localized[:, orbital_ind]"
   ]
  },
  {
   "cell_type": "code",
   "execution_count": null,
   "metadata": {},
   "outputs": [],
   "source": []
  },
  {
   "cell_type": "code",
   "execution_count": null,
   "metadata": {},
   "outputs": [],
   "source": [
    "Fock = full_system_scf.get_hcore() + full_system_scf.get_veff(dm = dm_active+ dm_enviro)\n",
    "projector = np.zeros_like(Fock)\n",
    "for orbital_ind in range(C_all_localized.shape[1]):\n",
    "    if orbital_ind in enviro_MO_inds:\n",
    "        outer = np.outer(psi_MO, psi_MO)\n",
    "        projector-= Fock@outer + outer@Fock\n",
    "    else:\n",
    "       # inactive \n",
    "        continue"
   ]
  },
  {
   "cell_type": "code",
   "execution_count": null,
   "metadata": {},
   "outputs": [],
   "source": [
    "orbital_ind=0\n",
    "C_all_localized[:, orbital_ind].conj().T @ (Fock+projector)@ C_all_localized[:, orbital_ind]"
   ]
  },
  {
   "cell_type": "code",
   "execution_count": null,
   "metadata": {},
   "outputs": [],
   "source": []
  },
  {
   "cell_type": "code",
   "execution_count": null,
   "metadata": {},
   "outputs": [],
   "source": []
  },
  {
   "cell_type": "code",
   "execution_count": null,
   "metadata": {},
   "outputs": [],
   "source": [
    "active_MO_inds"
   ]
  },
  {
   "cell_type": "code",
   "execution_count": null,
   "metadata": {},
   "outputs": [],
   "source": [
    "Fock = full_system_scf.get_hcore() + full_system_scf.get_veff(dm = dm_active+ dm_enviro)\n",
    "\n",
    "FP = (Fock + projector)\n",
    "\n",
    "orbital_ind=2\n",
    "psi_MO = EMBEDDED_full_system_scf.mo_coeff[:, orbital_ind]\n",
    "psi_MO.conj().T @FP@psi_MO\n"
   ]
  },
  {
   "cell_type": "code",
   "execution_count": null,
   "metadata": {},
   "outputs": [],
   "source": []
  },
  {
   "cell_type": "code",
   "execution_count": null,
   "metadata": {},
   "outputs": [],
   "source": [
    "# psi_MO = EMBEDDED_occ_orbs[:, 1]\n",
    "\n",
    "# P_B = 1e6* S_mat@ dm_enviro @ S_mat\n",
    "# P_B = -0.5*(Fock@dm_enviro@S_mat + S_mat@dm_enviro@Fock)\n",
    "\n",
    "for orbital_ind in range(EMBEDDED_full_system_scf.mo_coeff.shape[1]):\n",
    "    psi_MO = EMBEDDED_full_system_scf.mo_coeff[:, orbital_ind]\n",
    "    print(f'orb ind {orbital_ind}')\n",
    "#     print(f'<MO| Vemb |MO > : {2*(psi_MO @ V_embed @ psi_MO)} \\n')\n",
    "    print(f'<MO| Pb |MO > : {2*(psi_MO @ P @ psi_MO)} \\n')"
   ]
  },
  {
   "cell_type": "code",
   "execution_count": null,
   "metadata": {},
   "outputs": [],
   "source": [
    "# Fock = full_system_scf.get_hcore() + full_system_scf.get_veff(dm = dm_active+ dm_enviro)\n",
    "# S_mat = full_system_scf.get_ovlp()\n",
    "\n",
    "# Fock_A = full_system_scf.get_hcore() + full_system_scf.get_veff(dm = dm_active)"
   ]
  },
  {
   "cell_type": "code",
   "execution_count": null,
   "metadata": {},
   "outputs": [],
   "source": [
    "# F_A = Fock[:ao_active_inds[-1], :ao_active_inds[-1]]\n",
    "\n",
    "# gamma_tot = 2 * C_all_localized @ C_all_localized.conj().T\n",
    "\n",
    "# # gamma_act = gamma_tot[:ao_active_inds[-1]+1, :ao_active_inds[-1]+1]\n",
    "# # gamma_env = gamma_tot[ao_ENViro_inds[0]:, ao_ENViro_inds[0]:]\n",
    "# gamma_act = gamma_tot.copy()\n",
    "# gamma_act[ao_ENViro_inds[0]:, ao_ENViro_inds[0]:] = np.zeros((len(ao_ENViro_inds), len(ao_ENViro_inds)))\n",
    "\n",
    "# gamma_env = gamma_tot.copy()\n",
    "# gamma_env[:ao_active_inds[-1]+1, :ao_active_inds[-1]+1] = np.zeros((len(ao_active_inds), len(ao_active_inds)))\n",
    "\n",
    "# dm_active = gamma_act\n",
    "# gamma_env = gamma_env\n",
    "# V_embed  = vqe_in_dft.Geat_embedded_potential_operator(projector_method, \n",
    "#                                 full_system_scf, \n",
    "#                                 dm_active, \n",
    "#                                 dm_enviro, \n",
    "#                                 check_Hcore_is_correct=True, \n",
    "#                                 mu_shift_val=1e6,\n",
    "#                                 check_Vemb=True)"
   ]
  },
  {
   "cell_type": "code",
   "execution_count": null,
   "metadata": {},
   "outputs": [],
   "source": [
    "Fock = full_system_scf.get_hcore() + full_system_scf.get_veff(dm = dm_active+ dm_enviro)\n",
    "S_mat = full_system_scf.get_ovlp()\n",
    "\n",
    "Fock_A = full_system_scf.get_hcore() + full_system_scf.get_veff(dm = dm_active)"
   ]
  },
  {
   "cell_type": "code",
   "execution_count": null,
   "metadata": {},
   "outputs": [],
   "source": [
    "# # psi_MO = EMBEDDED_occ_orbs[:, 1]\n",
    "\n",
    "# P_B = 1e6* S_mat@ dm_enviro @ S_mat\n",
    "# # P_B = -0.5*(Fock@dm_enviro@S_mat + S_mat@dm_enviro@Fock)\n",
    "\n",
    "# for orbital_ind in range(EMBEDDED_full_system_scf.mo_coeff.shape[1]):\n",
    "#     psi_MO = EMBEDDED_full_system_scf.mo_coeff[:, orbital_ind]\n",
    "#     print(f'orb ind {orbital_ind}')\n",
    "# #     print(f'<MO| Vemb |MO > : {2*(psi_MO @ V_embed @ psi_MO)} \\n')\n",
    "#     print(f'<MO| Pb |MO > : {2*(psi_MO @ P_B @ psi_MO)} \\n')"
   ]
  },
  {
   "cell_type": "code",
   "execution_count": null,
   "metadata": {},
   "outputs": [],
   "source": [
    "# np.around(Fock_A@P_B - P_B@Fock_A, 5)"
   ]
  },
  {
   "cell_type": "markdown",
   "metadata": {},
   "source": [
    "# 5. Run RKS DFT of full system with $V_{emb}$ to get $\\gamma_{emb}^{\\text{active}}$ "
   ]
  },
  {
   "cell_type": "code",
   "execution_count": null,
   "metadata": {},
   "outputs": [],
   "source": [
    "full_system_mol_EMBEDDED = gto.Mole(atom= geometry,\n",
    "                      basis=basis,\n",
    "                       charge=charge,\n",
    "                       spin=spin,\n",
    "                      )\n",
    "full_system_mol_EMBEDDED.build()\n",
    "\n",
    "# RE-DEFINE number of electrons in system\n",
    "full_system_mol_EMBEDDED.nelectron = 2*len(active_MO_inds) # <------ IMPORTANT!\n",
    "\n",
    "EMBEDDED_full_system_scf = scf.RKS(full_system_mol_EMBEDDED)\n",
    "EMBEDDED_full_system_scf.verbose=1\n",
    "EMBEDDED_full_system_scf.max_memory= memory\n",
    "EMBEDDED_full_system_scf.conv_tol = 1e-6\n",
    "EMBEDDED_full_system_scf.xc = low_level_xc_functional\n",
    "\n",
    "h_core = EMBEDDED_full_system_scf.get_hcore()\n",
    "\n",
    "# overwrite h_core to include embedding term!!!!\n",
    "EMBEDDED_full_system_scf.get_hcore = lambda *args: V_embed + h_core\n",
    "\n",
    "E_emb = EMBEDDED_full_system_scf.kernel()\n",
    "\n",
    "print(f'embedded Energy: {E_emb}')"
   ]
  },
  {
   "cell_type": "code",
   "execution_count": null,
   "metadata": {},
   "outputs": [],
   "source": [
    "EMBEDDED_full_system_scf.conv_check"
   ]
  },
  {
   "cell_type": "code",
   "execution_count": null,
   "metadata": {},
   "outputs": [],
   "source": []
  },
  {
   "cell_type": "code",
   "execution_count": null,
   "metadata": {},
   "outputs": [],
   "source": [
    "EMBEDDED_occ_orbs = EMBEDDED_full_system_scf.mo_coeff[:,EMBEDDED_full_system_scf.mo_occ>0]\n",
    "\n",
    "# optimized embedded denisty matrix\n",
    "density_emb = 2 * EMBEDDED_occ_orbs @ EMBEDDED_occ_orbs.conj().T\n",
    "\n",
    "## check number of electrons makes sense:\n",
    "electron_check = np.isclose(np.trace(density_emb@full_system_scf.get_ovlp()), 2*len(active_MO_inds))\n",
    "\n",
    "print(f'number of e- in gamma_embedded is correct: {electron_check}')"
   ]
  },
  {
   "cell_type": "code",
   "execution_count": null,
   "metadata": {},
   "outputs": [],
   "source": []
  },
  {
   "cell_type": "code",
   "execution_count": null,
   "metadata": {},
   "outputs": [],
   "source": [
    "# calculate embedding correction term\n",
    "\n",
    "dm_correction = np.einsum('ij, ij', V_embed, density_emb-dm_active)\n",
    "WF_correction = np.einsum('ij, ij', V_embed, dm_active)\n",
    "\n",
    "print(f'RKS correction: {dm_correction}')\n",
    "print(f'WF correction: {WF_correction}')"
   ]
  },
  {
   "cell_type": "code",
   "execution_count": null,
   "metadata": {},
   "outputs": [],
   "source": []
  },
  {
   "cell_type": "code",
   "execution_count": null,
   "metadata": {},
   "outputs": [],
   "source": [
    "## PsiEmbed Way\n",
    "\n",
    "# J_emb, K_emb =EMBEDDED_full_system_scf.get_jk(dm=density_emb) \n",
    "\n",
    "# # note this uses the STANDARD H_core\n",
    "# matrix_dot = lambda A, B: np.einsum('ij,ij', A, B)\n",
    "# e_act_emb = matrix_dot(density_emb, h_core + 0.5 * J_emb - 0.25 * K_emb)\n",
    "# e_act_emb\n",
    "\n",
    "## MY way\n",
    "e_act_emb = full_system_scf.energy_elec(dm=density_emb,\n",
    "                                        vhf= full_system_scf.get_veff(dm=density_emb),\n",
    "                                       h1e = h_core)[0]\n",
    "e_act_emb"
   ]
  },
  {
   "cell_type": "code",
   "execution_count": null,
   "metadata": {},
   "outputs": [],
   "source": [
    "e_mf_emb = e_act_emb + E_env + two_e_cross + full_system_scf.energy_nuc() + dm_correction\n",
    "e_mf_emb # <-- energy from embedded DFT calc"
   ]
  },
  {
   "cell_type": "code",
   "execution_count": null,
   "metadata": {},
   "outputs": [],
   "source": [
    "full_system_scf.e_tot"
   ]
  },
  {
   "cell_type": "code",
   "execution_count": null,
   "metadata": {},
   "outputs": [],
   "source": [
    "print(f'global DFT calculation == seperated calculation: {np.isclose(e_mf_emb, full_system_scf.e_tot)}')\n",
    "# expected as same functional used!"
   ]
  },
  {
   "cell_type": "markdown",
   "metadata": {},
   "source": [
    "# 6. High level DFT calc!"
   ]
  },
  {
   "cell_type": "code",
   "execution_count": null,
   "metadata": {},
   "outputs": [],
   "source": [
    "full_system_mol_HIGH_LEVEL_DFT = gto.Mole(atom= geometry,\n",
    "                      basis=basis,\n",
    "                       charge=charge,\n",
    "                       spin=spin,\n",
    "                      )\n",
    "\n",
    "full_system_mol_HIGH_LEVEL_DFT.nelectron = 2*len(active_MO_inds) # <------ IMPORTANT!\n",
    "full_system_mol_HIGH_LEVEL_DFT.build()\n",
    "\n",
    "full_system_scf_HIGH_LEVEL = scf.RKS(full_system_mol_HIGH_LEVEL_DFT)\n",
    "full_system_scf_HIGH_LEVEL.verbose=1\n",
    "full_system_scf_HIGH_LEVEL.max_memory= memory\n",
    "full_system_scf_HIGH_LEVEL.conv_tol = 1e-6\n",
    "full_system_scf_HIGH_LEVEL.xc = high_level_xc_functional # <-- BETTER functional!\n",
    "\n",
    "\n",
    "# full_system_scf_HIGH_LEVEL.kernel() < --- do NOT RUN THIS"
   ]
  },
  {
   "cell_type": "code",
   "execution_count": null,
   "metadata": {},
   "outputs": [],
   "source": [
    "# run energy calc using high level functional (note density matrix is embedded A)\n",
    "\n",
    "e_act_emb_HIGH_LVL = full_system_scf_HIGH_LEVEL.energy_elec(dm=density_emb)\n",
    "e_act_emb_HIGH_LVL "
   ]
  },
  {
   "cell_type": "code",
   "execution_count": null,
   "metadata": {},
   "outputs": [],
   "source": [
    "E_high_lvl_DFT = e_act_emb_HIGH_LVL[0] + E_env + two_e_cross + full_system_scf.energy_nuc() + dm_correction\n",
    "E_high_lvl_DFT # <-- energy from embedded DFT calc"
   ]
  },
  {
   "cell_type": "code",
   "execution_count": null,
   "metadata": {},
   "outputs": [],
   "source": []
  },
  {
   "cell_type": "code",
   "execution_count": null,
   "metadata": {},
   "outputs": [],
   "source": [
    "print('High level DFT in DFT error:', np.abs(E_high_lvl_DFT-my_fci.e_tot))\n",
    "print('LOW level DFT in DFT error:', np.abs(e_mf_emb-my_fci.e_tot))"
   ]
  },
  {
   "cell_type": "code",
   "execution_count": null,
   "metadata": {},
   "outputs": [],
   "source": []
  },
  {
   "cell_type": "code",
   "execution_count": null,
   "metadata": {},
   "outputs": [],
   "source": []
  },
  {
   "cell_type": "markdown",
   "metadata": {},
   "source": [
    "# 7. High level WF calc (classical run) !"
   ]
  },
  {
   "cell_type": "code",
   "execution_count": null,
   "metadata": {},
   "outputs": [],
   "source": [
    "full_system_mol_EMBEDDED_HF = gto.Mole(atom= geometry,\n",
    "                      basis=basis,\n",
    "                       charge=charge,\n",
    "                       spin=spin,\n",
    "                      )\n",
    "full_system_mol_EMBEDDED_HF.build()\n",
    "\n",
    "# RE-DEFINE number of electrons in system\n",
    "full_system_mol_EMBEDDED_HF.nelectron = 2*len(active_MO_inds) # <------ IMPORTANT!\n",
    "\n",
    "EMBEDDED_full_system_scf_HF = scf.RHF(full_system_mol_EMBEDDED) # <---- Hartree Fock Calc!\n",
    "EMBEDDED_full_system_scf_HF.verbose=1\n",
    "EMBEDDED_full_system_scf_HF.max_memory= memory\n",
    "EMBEDDED_full_system_scf_HF.conv_tol = 1e-6\n",
    "\n",
    "h_core = EMBEDDED_full_system_scf_HF.get_hcore()\n",
    "\n",
    "# overwrite h_core to include embedding term!!!!\n",
    "EMBEDDED_full_system_scf_HF.get_hcore = lambda *args: V_embed + h_core\n",
    "\n",
    "# EMBEDDED_full_system_scf_HF.kernel() # <------ do NOT RUN!"
   ]
  },
  {
   "cell_type": "code",
   "execution_count": null,
   "metadata": {},
   "outputs": [],
   "source": [
    "# overwrite orbs with RKS embedded orbs!\n",
    "EMBEDDED_full_system_scf_HF.mo_coeff = EMBEDDED_full_system_scf.mo_coeff \n",
    "EMBEDDED_full_system_scf_HF.mo_occ = EMBEDDED_full_system_scf.mo_occ \n",
    "EMBEDDED_full_system_scf_HF.mo_energy = EMBEDDED_full_system_scf.mo_energy\n",
    "\n",
    "print(EMBEDDED_full_system_scf_HF.energy_elec(dm=density_emb)[0])\n",
    "print(EMBEDDED_full_system_scf_HF.energy_tot(dm=density_emb))\n",
    "print()\n",
    "print(EMBEDDED_full_system_scf_HF.energy_elec()[0])\n",
    "print(EMBEDDED_full_system_scf_HF.energy_tot())"
   ]
  },
  {
   "cell_type": "code",
   "execution_count": null,
   "metadata": {},
   "outputs": [],
   "source": []
  },
  {
   "cell_type": "code",
   "execution_count": null,
   "metadata": {},
   "outputs": [],
   "source": [
    "# EMBEDDED_full_system_scf_HF.kernel()\n",
    "# FCI_embedded = fci.FCI(EMBEDDED_full_system_scf_HF)\n",
    "# E_FCI,FCI_vec = FCI_embedded.kernel()\n",
    "# # from pyscf.ci.cisd import  to_fcivec\n",
    "# # cisdWFN   = to_fcivec(C_FCI, len(active_MO_inds), 2*len(active_MO_inds))\n",
    "\n",
    "# RDM1 = FCI_embedded.make_rdm1(FCI_vec,\n",
    "#                        norb=EMBEDDED_full_system_scf_HF.mo_coeff.shape[1],\n",
    "#                        nelec=2*len(active_MO_inds))\n",
    "\n",
    "# V,S, U = np.linalg.svd(RDM1)\n",
    "# print(np.isclose(2*len(active_MO_inds), np.sum(S)))\n",
    "# print(S)\n",
    "\n",
    "# print('')\n",
    "# print('ignore: ', S[])"
   ]
  },
  {
   "cell_type": "code",
   "execution_count": null,
   "metadata": {},
   "outputs": [],
   "source": []
  },
  {
   "cell_type": "code",
   "execution_count": null,
   "metadata": {},
   "outputs": [],
   "source": [
    "## CCSD calculation\n",
    "\n",
    "embedded_cc_obj = cc.CCSD(EMBEDDED_full_system_scf_HF)\n",
    "\n",
    "embedded_cc_obj.frozen = [i for i in range(EMBEDDED_full_system_scf_HF.mol.nao - len(enviro_MO_inds),\n",
    "                                           EMBEDDED_full_system_scf_HF.mol.nao)\n",
    "                         ]\n",
    "# embedded_cc_obj.frozen  = enviro_MO_inds.tolist()\n",
    "\n",
    "e_cc, t1, t2 = embedded_cc_obj.kernel()\n",
    "\n",
    "CC_flag_check = np.isclose(EMBEDDED_full_system_scf_HF.energy_tot(dm=density_emb),\n",
    "                          embedded_cc_obj.e_hf)\n",
    "\n",
    "\n",
    "print(f'E_corr: {e_cc}')\n",
    "print(f'\\nCC hartree fock energy matches HF embedded calc: {CC_flag_check}!')\n",
    "embedded_cc_obj.e_hf"
   ]
  },
  {
   "cell_type": "code",
   "execution_count": null,
   "metadata": {},
   "outputs": [],
   "source": []
  },
  {
   "cell_type": "code",
   "execution_count": null,
   "metadata": {},
   "outputs": [],
   "source": []
  },
  {
   "cell_type": "code",
   "execution_count": null,
   "metadata": {},
   "outputs": [],
   "source": [
    "print('orbital energies:')\n",
    "print(EMBEDDED_full_system_scf_HF.mo_energy)"
   ]
  },
  {
   "cell_type": "code",
   "execution_count": null,
   "metadata": {},
   "outputs": [],
   "source": [
    "print(embedded_cc_obj.frozen)"
   ]
  },
  {
   "cell_type": "code",
   "execution_count": null,
   "metadata": {},
   "outputs": [],
   "source": []
  },
  {
   "cell_type": "code",
   "execution_count": null,
   "metadata": {},
   "outputs": [],
   "source": [
    "WF_correction  = np.einsum('ij, ij', V_embed, dm_active) # note different definition\n",
    "\n",
    "E_WF = embedded_cc_obj.e_hf +e_cc  + E_env + two_e_cross - WF_correction\n",
    "E_WF "
   ]
  },
  {
   "cell_type": "code",
   "execution_count": null,
   "metadata": {},
   "outputs": [],
   "source": []
  },
  {
   "cell_type": "code",
   "execution_count": null,
   "metadata": {},
   "outputs": [],
   "source": [
    "print('High level DFT in DFT error:', np.abs(E_high_lvl_DFT-my_fci.e_tot))\n",
    "print('LOW level DFT in DFT error:', np.abs(e_mf_emb-my_fci.e_tot))\n",
    "\n",
    "print('WF in DFT error:', np.abs(E_WF-my_fci.e_tot))"
   ]
  },
  {
   "cell_type": "code",
   "execution_count": null,
   "metadata": {},
   "outputs": [],
   "source": []
  },
  {
   "cell_type": "code",
   "execution_count": null,
   "metadata": {
    "scrolled": true
   },
   "outputs": [],
   "source": [
    "drive_obj = vqe_in_dft.embeddeding_SCF_driver(geometry,\n",
    "                 N_active_atoms,\n",
    "                 projector_method,\n",
    "                 cheap_global_SCF_method='RKS', \n",
    "                 cheap_global_DFT_xc= 'lda, vwn',\n",
    "                 expensive_global_DFT_xc = 'b3lyp',\n",
    "                 cheap_WF_method = 'RHF',\n",
    "                 expensive_WF_method = 'CCSD',\n",
    "                 E_convergence_tol = 1e-6,\n",
    "                 basis = basis,\n",
    "                 unit= 'angstrom',\n",
    "                 pyscf_print_level=1,\n",
    "                 memory=8000,\n",
    "                 charge=0,\n",
    "                 spin=0,\n",
    "                 run_fci=False,\n",
    "                 run_cisd=False,\n",
    "                 mu_value=1e6,\n",
    "                 physists_notation= False)#phys_notation)\n",
    "\n",
    "E_DFT_low, E_DFT_high, E_Classical, E_QC, H_ferm = drive_obj.run_experiment(localization_method, \n",
    "                                                                      orbtial_loc_threshold=THRESHOLD,\n",
    "                                                                   jupyter_notebook=True)"
   ]
  },
  {
   "cell_type": "code",
   "execution_count": null,
   "metadata": {},
   "outputs": [],
   "source": [
    "# np.binary_repr(52).count('1')  "
   ]
  },
  {
   "cell_type": "code",
   "execution_count": null,
   "metadata": {},
   "outputs": [],
   "source": [
    "print('LOW level DFT in DFT error:', np.abs(E_DFT_low-my_fci.e_tot))\n",
    "print('High level DFT in DFT error:', np.abs(E_DFT_high-my_fci.e_tot))\n",
    "print('WF in DFT error:', np.abs(E_Classical-my_fci.e_tot))\n",
    "print('VQE in DFT error:', np.abs(E_QC-my_fci.e_tot))"
   ]
  },
  {
   "cell_type": "code",
   "execution_count": null,
   "metadata": {},
   "outputs": [],
   "source": [
    "print(e_mf_emb)\n",
    "print(E_high_lvl_DFT)\n",
    "print(E_WF)"
   ]
  },
  {
   "cell_type": "code",
   "execution_count": null,
   "metadata": {},
   "outputs": [],
   "source": []
  },
  {
   "cell_type": "code",
   "execution_count": null,
   "metadata": {},
   "outputs": [],
   "source": []
  },
  {
   "cell_type": "markdown",
   "metadata": {},
   "source": [
    "# QC part"
   ]
  },
  {
   "cell_type": "markdown",
   "metadata": {},
   "source": [
    "$$H_{fermionic} = h_{nuc} + \\sum_{p, q} h_{pq} a_{p}^{\\dagger} a_{q} + \\frac{1}{2} \\sum_{p, q ,r ,s} h_{pqrs} a_{p}^{\\dagger} a_{q}^{\\dagger} a_{r} a_{s}$$\n",
    "\n",
    "where:\n",
    "\n",
    "- $$h_{pq} = \\int d{\\vec{x}} \\phi_{p}^{*}({\\vec{x}}) \\bigg( - \\frac{\\nabla^{2}_{{\\vec{r}}}}{2} - \\sum_{I} \\frac{Z_{I}}{|{\\vec{r}} - {\\vec{R}_{I}} |} \\bigg) \\phi_{q}({\\vec{x}})$$\n",
    "\n",
    "\n",
    "- $$h_{pqrs} = \\int d{\\vec{x}}_{1} d{\\vec{x}}_{2} \\frac{\\phi_{p}^{*}({\\vec{x}}_{1}) \\phi_{q}^{*}({\\vec{x}}_{2}) \\phi_{s}({\\vec{x}}_{1}) \\phi_{r}({\\vec{x}}_{2})}{|{\\vec{r}_{1}} - {\\vec{r}}_{2}|}$$ \n",
    "\n",
    "\n",
    "- $$h_{nuc} = \\frac{1}{2} \\sum_{I \\neq J} \\frac{Z_{I} Z_{J}}{| {\\vec{R}}_{I} - {\\vec{R}}_{J}|}$$"
   ]
  },
  {
   "cell_type": "markdown",
   "metadata": {},
   "source": [
    "note project means we don't want last set of MO orbs filled!"
   ]
  },
  {
   "cell_type": "code",
   "execution_count": null,
   "metadata": {},
   "outputs": [],
   "source": [
    "# EMBEDDED_full_system_scf_HF.mo_coeff[:]"
   ]
  },
  {
   "cell_type": "code",
   "execution_count": null,
   "metadata": {},
   "outputs": [],
   "source": [
    "N_enviroment_MOs = len(enviro_MO_inds) \n",
    "\n",
    "one_body_integrals, two_body_integrals = vqe_in_dft.Get_embedded_one_and_two_body_integrals_MO_basis(EMBEDDED_full_system_scf_HF,\n",
    "                                                                                            N_enviroment_MOs,\n",
    "                                                                                            physists_notation=phys_notation)"
   ]
  },
  {
   "cell_type": "code",
   "execution_count": null,
   "metadata": {},
   "outputs": [],
   "source": [
    "print(one_body_integrals.shape)\n",
    "print(two_body_integrals.shape)\n",
    "\n",
    "print(active_MO_inds)\n",
    "print(enviro_MO_inds)"
   ]
  },
  {
   "cell_type": "code",
   "execution_count": null,
   "metadata": {},
   "outputs": [],
   "source": [
    "one_body_terms, two_body_terms = vqe_in_dft.Get_SpinOrbs_from_Spatial(one_body_integrals,\n",
    "                                                                   two_body_integrals,\n",
    "                                                                   physists_notation=phys_notation,\n",
    "                                                                   EQ_Tolerance=1e-8)"
   ]
  },
  {
   "cell_type": "code",
   "execution_count": null,
   "metadata": {},
   "outputs": [],
   "source": [
    "Nuclear_energy =  full_system_scf.energy_nuc()\n",
    "\n",
    "H_fermionic = vqe_in_dft.Get_fermionic_H(one_body_terms, \n",
    "                                     two_body_terms, \n",
    "                                     Nuclear_energy,\n",
    "                                     core_constant=0, \n",
    "                                     physists_notation=phys_notation,\n",
    "                                        jupyter_notebook=True)"
   ]
  },
  {
   "cell_type": "code",
   "execution_count": null,
   "metadata": {},
   "outputs": [],
   "source": [
    "len(list(H_fermionic))"
   ]
  },
  {
   "cell_type": "code",
   "execution_count": null,
   "metadata": {},
   "outputs": [],
   "source": [
    "from openfermion.linalg import get_sparse_operator\n",
    "H_sparse = get_sparse_operator(H_fermionic)"
   ]
  },
  {
   "cell_type": "code",
   "execution_count": null,
   "metadata": {},
   "outputs": [],
   "source": [
    "eigvals_EMBED, eigvecs_EMBED = sp.sparse.linalg.eigsh(H_sparse, which='SA', k=1)\n",
    "eigvals_EMBED"
   ]
  },
  {
   "cell_type": "code",
   "execution_count": null,
   "metadata": {},
   "outputs": [],
   "source": [
    "WF_correction  = np.einsum('ij, ij', V_embed, dm_active) # note different definition\n",
    "\n",
    "E_VQE = eigvals_EMBED[0]  + E_env + two_e_cross - WF_correction\n",
    "E_VQE "
   ]
  },
  {
   "cell_type": "code",
   "execution_count": null,
   "metadata": {},
   "outputs": [],
   "source": [
    "N_electrons_expected = 2*len(active_MO_inds)\n",
    "N_electrons_Q_state = np.binary_repr(np.where(np.abs(eigvecs_EMBED)>1e-2)[0][0]).count('1') \n",
    "\n",
    "print(f'expect {N_electrons_expected} electrons')\n",
    "print(f'quantum state has {N_electrons_Q_state} electrons \\n')\n",
    "\n",
    "print(f'number of electrons correct: {N_electrons_expected == N_electrons_Q_state}')"
   ]
  },
  {
   "cell_type": "code",
   "execution_count": null,
   "metadata": {},
   "outputs": [],
   "source": []
  },
  {
   "cell_type": "code",
   "execution_count": null,
   "metadata": {},
   "outputs": [],
   "source": [
    "print('High level DFT in DFT error:', np.abs(E_high_lvl_DFT-my_fci.e_tot))\n",
    "print('LOW level DFT in DFT error:', np.abs(e_mf_emb-my_fci.e_tot))\n",
    "\n",
    "\n",
    "print('WF in DFT error:', np.abs(E_WF-my_fci.e_tot))\n",
    "print('VQE error:', np.abs(E_VQE-my_fci.e_tot))"
   ]
  },
  {
   "cell_type": "code",
   "execution_count": null,
   "metadata": {},
   "outputs": [],
   "source": []
  },
  {
   "cell_type": "code",
   "execution_count": null,
   "metadata": {},
   "outputs": [],
   "source": [
    "where=np.where(np.around(eigvecs_EMBED, 4)>0)[0]\n",
    "print(where)\n",
    "\n",
    "np.binary_repr(where[0]).count('1') "
   ]
  },
  {
   "cell_type": "code",
   "execution_count": null,
   "metadata": {},
   "outputs": [],
   "source": []
  }
 ],
 "metadata": {
  "kernelspec": {
   "display_name": "Python 3",
   "language": "python",
   "name": "python3"
  },
  "language_info": {
   "codemirror_mode": {
    "name": "ipython",
    "version": 3
   },
   "file_extension": ".py",
   "mimetype": "text/x-python",
   "name": "python",
   "nbconvert_exporter": "python",
   "pygments_lexer": "ipython3",
   "version": "3.7.6"
  }
 },
 "nbformat": 4,
 "nbformat_minor": 4
}
