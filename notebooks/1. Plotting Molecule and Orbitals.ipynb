{
 "cells": [
  {
   "cell_type": "code",
   "execution_count": 1,
   "metadata": {},
   "outputs": [],
   "source": [
    "import sys\n",
    "sys.path.append('../vqe_in_dft')"
   ]
  },
  {
   "cell_type": "code",
   "execution_count": null,
   "metadata": {},
   "outputs": [],
   "source": []
  },
  {
   "cell_type": "code",
   "execution_count": 2,
   "metadata": {},
   "outputs": [
    {
     "name": "stderr",
     "output_type": "stream",
     "text": [
      "RDKit WARNING: [10:32:53] Enabling RDKit 2019.09.3 jupyter extensions\n"
     ]
    },
    {
     "data": {
      "application/3dmoljs_load.v0": "<div id=\"3dmolviewer_183279656121915\"  style=\"position: relative; width: 400px; height: 400px\">\n        <p id=\"3dmolwarning_183279656121915\" style=\"background-color:#ffcccc;color:black\">You appear to be running in JupyterLab (or JavaScript failed to load for some other reason).  You need to install the 3dmol extension: <br>\n        <tt>jupyter labextension install jupyterlab_3dmol</tt></p>\n        </div>\n<script>\n\nvar loadScriptAsync = function(uri){\n  return new Promise((resolve, reject) => {\n    var tag = document.createElement('script');\n    tag.src = uri;\n    tag.async = true;\n    tag.onload = () => {\n      resolve();\n    };\n  var firstScriptTag = document.getElementsByTagName('script')[0];\n  firstScriptTag.parentNode.insertBefore(tag, firstScriptTag);\n});\n};\n\nif(typeof $3Dmolpromise === 'undefined') {\n$3Dmolpromise = null;\n  $3Dmolpromise = loadScriptAsync('https://3dmol.org/build/3Dmol.js');\n}\n\nvar viewer_183279656121915 = null;\nvar warn = document.getElementById(\"3dmolwarning_183279656121915\");\nif(warn) {\n    warn.parentNode.removeChild(warn);\n}\n$3Dmolpromise.then(function() {\nviewer_183279656121915 = $3Dmol.createViewer($(\"#3dmolviewer_183279656121915\"),{backgroundColor:\"white\"});\nviewer_183279656121915.zoomTo();\n\tviewer_183279656121915.addModel(\"\\nO          0.00000        0.000      0.115\\nH          0.00000        0.754     -0.459\\nH          0.00000       -0.754     -0.459\\n    \",\"xyz\");\n\tviewer_183279656121915.setStyle({\"stick\": {}});\n\tviewer_183279656121915.zoomTo();\nviewer_183279656121915.render();\n});\n</script>",
      "text/html": [
       "<div id=\"3dmolviewer_183279656121915\"  style=\"position: relative; width: 400px; height: 400px\">\n",
       "        <p id=\"3dmolwarning_183279656121915\" style=\"background-color:#ffcccc;color:black\">You appear to be running in JupyterLab (or JavaScript failed to load for some other reason).  You need to install the 3dmol extension: <br>\n",
       "        <tt>jupyter labextension install jupyterlab_3dmol</tt></p>\n",
       "        </div>\n",
       "<script>\n",
       "\n",
       "var loadScriptAsync = function(uri){\n",
       "  return new Promise((resolve, reject) => {\n",
       "    var tag = document.createElement('script');\n",
       "    tag.src = uri;\n",
       "    tag.async = true;\n",
       "    tag.onload = () => {\n",
       "      resolve();\n",
       "    };\n",
       "  var firstScriptTag = document.getElementsByTagName('script')[0];\n",
       "  firstScriptTag.parentNode.insertBefore(tag, firstScriptTag);\n",
       "});\n",
       "};\n",
       "\n",
       "if(typeof $3Dmolpromise === 'undefined') {\n",
       "$3Dmolpromise = null;\n",
       "  $3Dmolpromise = loadScriptAsync('https://3dmol.org/build/3Dmol.js');\n",
       "}\n",
       "\n",
       "var viewer_183279656121915 = null;\n",
       "var warn = document.getElementById(\"3dmolwarning_183279656121915\");\n",
       "if(warn) {\n",
       "    warn.parentNode.removeChild(warn);\n",
       "}\n",
       "$3Dmolpromise.then(function() {\n",
       "viewer_183279656121915 = $3Dmol.createViewer($(\"#3dmolviewer_183279656121915\"),{backgroundColor:\"white\"});\n",
       "viewer_183279656121915.zoomTo();\n",
       "\tviewer_183279656121915.addModel(\"\\nO          0.00000        0.000      0.115\\nH          0.00000        0.754     -0.459\\nH          0.00000       -0.754     -0.459\\n    \",\"xyz\");\n",
       "\tviewer_183279656121915.setStyle({\"stick\": {}});\n",
       "\tviewer_183279656121915.zoomTo();\n",
       "viewer_183279656121915.render();\n",
       "});\n",
       "</script>"
      ]
     },
     "metadata": {},
     "output_type": "display_data"
    }
   ],
   "source": [
    "from mol_plot import Draw_molecule\n",
    "\n",
    "### define molecule\n",
    "water_xyz = \"\"\"\n",
    "O          0.00000        0.000      0.115\n",
    "H          0.00000        0.754     -0.459\n",
    "H          0.00000       -0.754     -0.459\n",
    "    \"\"\"\n",
    "####\n",
    "\n",
    "\n",
    "mol_view = Draw_molecule(water_xyz,\n",
    "              width=400,\n",
    "               height=400,\n",
    "              jupyter_notebook=True)\n",
    "mol_view.show()"
   ]
  },
  {
   "cell_type": "code",
   "execution_count": null,
   "metadata": {},
   "outputs": [],
   "source": []
  },
  {
   "cell_type": "code",
   "execution_count": null,
   "metadata": {},
   "outputs": [],
   "source": []
  },
  {
   "cell_type": "code",
   "execution_count": 3,
   "metadata": {},
   "outputs": [
    {
     "name": "stdout",
     "output_type": "stream",
     "text": [
      "converged SCF energy = -74.9609996030856\n"
     ]
    }
   ],
   "source": [
    "from mol_plot import Draw_cube_orbital\n",
    "\n",
    "### Perfrom SCF calc to get opt C_matrix\n",
    "from pyscf import gto, scf\n",
    "basis = 'STO-3G'\n",
    "mol_obj = gto.Mole(atom=water_xyz, \n",
    "                   basis=basis,\n",
    "                   charge=0).build()\n",
    "SCF_obj = scf.RHF(mol_obj)\n",
    "E = SCF_obj.kernel()\n",
    "####\n",
    "\n",
    "\n",
    "\n",
    "\n",
    "C_matrix = SCF_obj.mo_coeff\n",
    "index_list = list(range(C_matrix.shape[1]))\n",
    "\n",
    "list_plotted_orbs = Draw_cube_orbital(mol_obj, \n",
    "                              water_xyz, \n",
    "                              C_matrix,\n",
    "                              index_list, \n",
    "                              width=400, \n",
    "                              height=400,\n",
    "                              jupyter_notebook=True)"
   ]
  },
  {
   "cell_type": "code",
   "execution_count": null,
   "metadata": {},
   "outputs": [],
   "source": [
    "for MO_ind in index_list:\n",
    "    list_plotted_orbs[MO_ind].show()"
   ]
  }
 ],
 "metadata": {
  "kernelspec": {
   "display_name": "Python 3",
   "language": "python",
   "name": "python3"
  },
  "language_info": {
   "codemirror_mode": {
    "name": "ipython",
    "version": 3
   },
   "file_extension": ".py",
   "mimetype": "text/x-python",
   "name": "python",
   "nbconvert_exporter": "python",
   "pygments_lexer": "ipython3",
   "version": "3.8.5"
  }
 },
 "nbformat": 4,
 "nbformat_minor": 4
}
