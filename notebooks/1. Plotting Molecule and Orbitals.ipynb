{
 "cells": [
  {
   "cell_type": "code",
   "execution_count": 2,
   "metadata": {},
   "outputs": [],
   "source": [
    "import sys\n",
    "sys.path.append('../nbed')"
   ]
  },
  {
   "cell_type": "code",
   "execution_count": null,
   "metadata": {},
   "outputs": [],
   "source": []
  },
  {
   "cell_type": "code",
   "execution_count": 3,
   "metadata": {},
   "outputs": [
    {
     "ename": "ModuleNotFoundError",
     "evalue": "No module named 'py3Dmol'",
     "output_type": "error",
     "traceback": [
      "\u001b[0;31m---------------------------------------------------------------------------\u001b[0m",
      "\u001b[0;31mModuleNotFoundError\u001b[0m                       Traceback (most recent call last)",
      "\u001b[0;32m/tmp/ipykernel_172572/2003118844.py\u001b[0m in \u001b[0;36m<module>\u001b[0;34m\u001b[0m\n\u001b[0;32m----> 1\u001b[0;31m \u001b[0;32mfrom\u001b[0m \u001b[0mmol_plot\u001b[0m \u001b[0;32mimport\u001b[0m \u001b[0mDraw_molecule\u001b[0m\u001b[0;34m\u001b[0m\u001b[0;34m\u001b[0m\u001b[0m\n\u001b[0m\u001b[1;32m      2\u001b[0m \u001b[0;34m\u001b[0m\u001b[0m\n\u001b[1;32m      3\u001b[0m \u001b[0;31m### define molecule\u001b[0m\u001b[0;34m\u001b[0m\u001b[0;34m\u001b[0m\u001b[0m\n\u001b[1;32m      4\u001b[0m water_xyz = \"\"\"\n\u001b[1;32m      5\u001b[0m \u001b[0mO\u001b[0m          \u001b[0;36m0.00000\u001b[0m        \u001b[0;36m0.000\u001b[0m      \u001b[0;36m0.115\u001b[0m\u001b[0;34m\u001b[0m\u001b[0;34m\u001b[0m\u001b[0m\n",
      "\u001b[0;32m~/Documents/PhD/Nbed/notebooks/../nbed/mol_plot.py\u001b[0m in \u001b[0;36m<module>\u001b[0;34m\u001b[0m\n\u001b[1;32m      6\u001b[0m \u001b[0;34m\u001b[0m\u001b[0m\n\u001b[1;32m      7\u001b[0m \u001b[0;32mimport\u001b[0m \u001b[0mnumpy\u001b[0m \u001b[0;32mas\u001b[0m \u001b[0mnp\u001b[0m\u001b[0;34m\u001b[0m\u001b[0;34m\u001b[0m\u001b[0m\n\u001b[0;32m----> 8\u001b[0;31m \u001b[0;32mimport\u001b[0m \u001b[0mpy3Dmol\u001b[0m\u001b[0;34m\u001b[0m\u001b[0;34m\u001b[0m\u001b[0m\n\u001b[0m\u001b[1;32m      9\u001b[0m \u001b[0;34m\u001b[0m\u001b[0m\n\u001b[1;32m     10\u001b[0m \u001b[0;31m# rdkit import is weird and requires each part to be imported before going deeper\u001b[0m\u001b[0;34m\u001b[0m\u001b[0;34m\u001b[0m\u001b[0m\n",
      "\u001b[0;31mModuleNotFoundError\u001b[0m: No module named 'py3Dmol'"
     ]
    }
   ],
   "source": [
    "from mol_plot import Draw_molecule\n",
    "\n",
    "### define molecule\n",
    "water_xyz = \"\"\"\n",
    "O          0.00000        0.000      0.115\n",
    "H          0.00000        0.754     -0.459\n",
    "H          0.00000       -0.754     -0.459\n",
    "    \"\"\"\n",
    "####\n",
    "\n",
    "\n",
    "mol_view = Draw_molecule(water_xyz,\n",
    "              width=400,\n",
    "               height=400,\n",
    "              jupyter_notebook=True)\n",
    "mol_view.show()"
   ]
  },
  {
   "cell_type": "code",
   "execution_count": null,
   "metadata": {},
   "outputs": [],
   "source": []
  },
  {
   "cell_type": "code",
   "execution_count": null,
   "metadata": {},
   "outputs": [],
   "source": []
  },
  {
   "cell_type": "code",
   "execution_count": 3,
   "metadata": {},
   "outputs": [
    {
     "name": "stdout",
     "output_type": "stream",
     "text": [
      "converged SCF energy = -74.9609996030856\n"
     ]
    }
   ],
   "source": [
    "from mol_plot import Draw_cube_orbital\n",
    "\n",
    "### Perfrom SCF calc to get opt C_matrix\n",
    "from pyscf import gto, scf\n",
    "basis = 'STO-3G'\n",
    "mol_obj = gto.Mole(atom=water_xyz, \n",
    "                   basis=basis,\n",
    "                   charge=0).build()\n",
    "SCF_obj = scf.RHF(mol_obj)\n",
    "E = SCF_obj.kernel()\n",
    "####\n",
    "\n",
    "\n",
    "\n",
    "\n",
    "C_matrix = SCF_obj.mo_coeff\n",
    "index_list = list(range(C_matrix.shape[1]))\n",
    "\n",
    "list_plotted_orbs = Draw_cube_orbital(mol_obj, \n",
    "                              water_xyz, \n",
    "                              C_matrix,\n",
    "                              index_list, \n",
    "                              width=400, \n",
    "                              height=400,\n",
    "                              jupyter_notebook=True)"
   ]
  },
  {
   "cell_type": "code",
   "execution_count": null,
   "metadata": {},
   "outputs": [],
   "source": [
    "for MO_ind in index_list:\n",
    "    list_plotted_orbs[MO_ind].show()"
   ]
  }
 ],
 "metadata": {
  "kernelspec": {
   "display_name": "Python 3 (ipykernel)",
   "language": "python",
   "name": "python3"
  },
  "language_info": {
   "codemirror_mode": {
    "name": "ipython",
    "version": 3
   },
   "file_extension": ".py",
   "mimetype": "text/x-python",
   "name": "python",
   "nbconvert_exporter": "python",
   "pygments_lexer": "ipython3",
   "version": "3.9.7"
  }
 },
 "nbformat": 4,
 "nbformat_minor": 4
}
