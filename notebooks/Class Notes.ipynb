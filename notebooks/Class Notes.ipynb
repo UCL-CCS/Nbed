{
 "cells": [
  {
   "cell_type": "code",
   "execution_count": 1,
   "metadata": {},
   "outputs": [],
   "source": [
    "import numpy as np\n",
    "import sys\n",
    "sys.path.append( '../vqe-in-dft' )\n",
    "\n",
    "import vqe_in_dft "
   ]
  },
  {
   "cell_type": "code",
   "execution_count": 2,
   "metadata": {},
   "outputs": [],
   "source": [
    "geometry = [\n",
    "['H@1', (0.7493682,0.0000000,0.4424329)],\n",
    "['O@1', (0.0000000,0.0000000,-0.1653507)],\n",
    "    \n",
    "['H#', (-0.7493682,0.0000000,0.4424329)]\n",
    "]\n",
    "\n",
    "N_active_atoms = 2\n",
    "\n",
    "\n",
    "low_level_scf_method='RKS'\n",
    "high_level_scf_method='CCSD'\n",
    "E_convergence_tol = 1e-6\n",
    "basis = 'STO-3G'\n",
    "output_file_name='output.dat'\n",
    "unit= 'angstrom'\n",
    "pyscf_print_level=1\n",
    "memory=8000\n",
    "charge=0\n",
    "spin=0\n",
    "run_fci=True\n",
    "low_level_xc_functional = 'lda, vwn'"
   ]
  },
  {
   "cell_type": "markdown",
   "metadata": {},
   "source": [
    "# Build the GLOBAL (full) molecule\n",
    "\n",
    "\n",
    "and run supersystem calculation (cheap method)"
   ]
  },
  {
   "cell_type": "code",
   "execution_count": 3,
   "metadata": {},
   "outputs": [],
   "source": [
    "standard_system_obj = vqe_in_dft.standard_full_system_molecule(\n",
    "                            geometry,\n",
    "                            N_active_atoms,\n",
    "                            low_level_scf_method=low_level_scf_method,\n",
    "                            E_convergence_tol = E_convergence_tol,\n",
    "                            basis = basis,\n",
    "                            output_file_name= output_file_name,\n",
    "                            unit= unit,\n",
    "                            pyscf_print_level= pyscf_print_level,\n",
    "                            memory=memory,\n",
    "                            charge=charge,\n",
    "                            spin=spin,\n",
    "                            run_fci=run_fci,\n",
    "                            low_level_xc_functional=low_level_xc_functional\n",
    ")"
   ]
  },
  {
   "cell_type": "code",
   "execution_count": 4,
   "metadata": {},
   "outputs": [
    {
     "data": {
      "text/plain": [
       "-75.01535247852482"
      ]
     },
     "execution_count": 4,
     "metadata": {},
     "output_type": "execute_result"
    }
   ],
   "source": [
    "standard_system_obj.E_FCI"
   ]
  },
  {
   "cell_type": "code",
   "execution_count": 5,
   "metadata": {},
   "outputs": [
    {
     "data": {
      "application/javascript": [
       "/* Put everything inside the global mpl namespace */\n",
       "window.mpl = {};\n",
       "\n",
       "\n",
       "mpl.get_websocket_type = function() {\n",
       "    if (typeof(WebSocket) !== 'undefined') {\n",
       "        return WebSocket;\n",
       "    } else if (typeof(MozWebSocket) !== 'undefined') {\n",
       "        return MozWebSocket;\n",
       "    } else {\n",
       "        alert('Your browser does not have WebSocket support. ' +\n",
       "              'Please try Chrome, Safari or Firefox ≥ 6. ' +\n",
       "              'Firefox 4 and 5 are also supported but you ' +\n",
       "              'have to enable WebSockets in about:config.');\n",
       "    };\n",
       "}\n",
       "\n",
       "mpl.figure = function(figure_id, websocket, ondownload, parent_element) {\n",
       "    this.id = figure_id;\n",
       "\n",
       "    this.ws = websocket;\n",
       "\n",
       "    this.supports_binary = (this.ws.binaryType != undefined);\n",
       "\n",
       "    if (!this.supports_binary) {\n",
       "        var warnings = document.getElementById(\"mpl-warnings\");\n",
       "        if (warnings) {\n",
       "            warnings.style.display = 'block';\n",
       "            warnings.textContent = (\n",
       "                \"This browser does not support binary websocket messages. \" +\n",
       "                    \"Performance may be slow.\");\n",
       "        }\n",
       "    }\n",
       "\n",
       "    this.imageObj = new Image();\n",
       "\n",
       "    this.context = undefined;\n",
       "    this.message = undefined;\n",
       "    this.canvas = undefined;\n",
       "    this.rubberband_canvas = undefined;\n",
       "    this.rubberband_context = undefined;\n",
       "    this.format_dropdown = undefined;\n",
       "\n",
       "    this.image_mode = 'full';\n",
       "\n",
       "    this.root = $('<div/>');\n",
       "    this._root_extra_style(this.root)\n",
       "    this.root.attr('style', 'display: inline-block');\n",
       "\n",
       "    $(parent_element).append(this.root);\n",
       "\n",
       "    this._init_header(this);\n",
       "    this._init_canvas(this);\n",
       "    this._init_toolbar(this);\n",
       "\n",
       "    var fig = this;\n",
       "\n",
       "    this.waiting = false;\n",
       "\n",
       "    this.ws.onopen =  function () {\n",
       "            fig.send_message(\"supports_binary\", {value: fig.supports_binary});\n",
       "            fig.send_message(\"send_image_mode\", {});\n",
       "            if (mpl.ratio != 1) {\n",
       "                fig.send_message(\"set_dpi_ratio\", {'dpi_ratio': mpl.ratio});\n",
       "            }\n",
       "            fig.send_message(\"refresh\", {});\n",
       "        }\n",
       "\n",
       "    this.imageObj.onload = function() {\n",
       "            if (fig.image_mode == 'full') {\n",
       "                // Full images could contain transparency (where diff images\n",
       "                // almost always do), so we need to clear the canvas so that\n",
       "                // there is no ghosting.\n",
       "                fig.context.clearRect(0, 0, fig.canvas.width, fig.canvas.height);\n",
       "            }\n",
       "            fig.context.drawImage(fig.imageObj, 0, 0);\n",
       "        };\n",
       "\n",
       "    this.imageObj.onunload = function() {\n",
       "        fig.ws.close();\n",
       "    }\n",
       "\n",
       "    this.ws.onmessage = this._make_on_message_function(this);\n",
       "\n",
       "    this.ondownload = ondownload;\n",
       "}\n",
       "\n",
       "mpl.figure.prototype._init_header = function() {\n",
       "    var titlebar = $(\n",
       "        '<div class=\"ui-dialog-titlebar ui-widget-header ui-corner-all ' +\n",
       "        'ui-helper-clearfix\"/>');\n",
       "    var titletext = $(\n",
       "        '<div class=\"ui-dialog-title\" style=\"width: 100%; ' +\n",
       "        'text-align: center; padding: 3px;\"/>');\n",
       "    titlebar.append(titletext)\n",
       "    this.root.append(titlebar);\n",
       "    this.header = titletext[0];\n",
       "}\n",
       "\n",
       "\n",
       "\n",
       "mpl.figure.prototype._canvas_extra_style = function(canvas_div) {\n",
       "\n",
       "}\n",
       "\n",
       "\n",
       "mpl.figure.prototype._root_extra_style = function(canvas_div) {\n",
       "\n",
       "}\n",
       "\n",
       "mpl.figure.prototype._init_canvas = function() {\n",
       "    var fig = this;\n",
       "\n",
       "    var canvas_div = $('<div/>');\n",
       "\n",
       "    canvas_div.attr('style', 'position: relative; clear: both; outline: 0');\n",
       "\n",
       "    function canvas_keyboard_event(event) {\n",
       "        return fig.key_event(event, event['data']);\n",
       "    }\n",
       "\n",
       "    canvas_div.keydown('key_press', canvas_keyboard_event);\n",
       "    canvas_div.keyup('key_release', canvas_keyboard_event);\n",
       "    this.canvas_div = canvas_div\n",
       "    this._canvas_extra_style(canvas_div)\n",
       "    this.root.append(canvas_div);\n",
       "\n",
       "    var canvas = $('<canvas/>');\n",
       "    canvas.addClass('mpl-canvas');\n",
       "    canvas.attr('style', \"left: 0; top: 0; z-index: 0; outline: 0\")\n",
       "\n",
       "    this.canvas = canvas[0];\n",
       "    this.context = canvas[0].getContext(\"2d\");\n",
       "\n",
       "    var backingStore = this.context.backingStorePixelRatio ||\n",
       "\tthis.context.webkitBackingStorePixelRatio ||\n",
       "\tthis.context.mozBackingStorePixelRatio ||\n",
       "\tthis.context.msBackingStorePixelRatio ||\n",
       "\tthis.context.oBackingStorePixelRatio ||\n",
       "\tthis.context.backingStorePixelRatio || 1;\n",
       "\n",
       "    mpl.ratio = (window.devicePixelRatio || 1) / backingStore;\n",
       "\n",
       "    var rubberband = $('<canvas/>');\n",
       "    rubberband.attr('style', \"position: absolute; left: 0; top: 0; z-index: 1;\")\n",
       "\n",
       "    var pass_mouse_events = true;\n",
       "\n",
       "    canvas_div.resizable({\n",
       "        start: function(event, ui) {\n",
       "            pass_mouse_events = false;\n",
       "        },\n",
       "        resize: function(event, ui) {\n",
       "            fig.request_resize(ui.size.width, ui.size.height);\n",
       "        },\n",
       "        stop: function(event, ui) {\n",
       "            pass_mouse_events = true;\n",
       "            fig.request_resize(ui.size.width, ui.size.height);\n",
       "        },\n",
       "    });\n",
       "\n",
       "    function mouse_event_fn(event) {\n",
       "        if (pass_mouse_events)\n",
       "            return fig.mouse_event(event, event['data']);\n",
       "    }\n",
       "\n",
       "    rubberband.mousedown('button_press', mouse_event_fn);\n",
       "    rubberband.mouseup('button_release', mouse_event_fn);\n",
       "    // Throttle sequential mouse events to 1 every 20ms.\n",
       "    rubberband.mousemove('motion_notify', mouse_event_fn);\n",
       "\n",
       "    rubberband.mouseenter('figure_enter', mouse_event_fn);\n",
       "    rubberband.mouseleave('figure_leave', mouse_event_fn);\n",
       "\n",
       "    canvas_div.on(\"wheel\", function (event) {\n",
       "        event = event.originalEvent;\n",
       "        event['data'] = 'scroll'\n",
       "        if (event.deltaY < 0) {\n",
       "            event.step = 1;\n",
       "        } else {\n",
       "            event.step = -1;\n",
       "        }\n",
       "        mouse_event_fn(event);\n",
       "    });\n",
       "\n",
       "    canvas_div.append(canvas);\n",
       "    canvas_div.append(rubberband);\n",
       "\n",
       "    this.rubberband = rubberband;\n",
       "    this.rubberband_canvas = rubberband[0];\n",
       "    this.rubberband_context = rubberband[0].getContext(\"2d\");\n",
       "    this.rubberband_context.strokeStyle = \"#000000\";\n",
       "\n",
       "    this._resize_canvas = function(width, height) {\n",
       "        // Keep the size of the canvas, canvas container, and rubber band\n",
       "        // canvas in synch.\n",
       "        canvas_div.css('width', width)\n",
       "        canvas_div.css('height', height)\n",
       "\n",
       "        canvas.attr('width', width * mpl.ratio);\n",
       "        canvas.attr('height', height * mpl.ratio);\n",
       "        canvas.attr('style', 'width: ' + width + 'px; height: ' + height + 'px;');\n",
       "\n",
       "        rubberband.attr('width', width);\n",
       "        rubberband.attr('height', height);\n",
       "    }\n",
       "\n",
       "    // Set the figure to an initial 600x600px, this will subsequently be updated\n",
       "    // upon first draw.\n",
       "    this._resize_canvas(600, 600);\n",
       "\n",
       "    // Disable right mouse context menu.\n",
       "    $(this.rubberband_canvas).bind(\"contextmenu\",function(e){\n",
       "        return false;\n",
       "    });\n",
       "\n",
       "    function set_focus () {\n",
       "        canvas.focus();\n",
       "        canvas_div.focus();\n",
       "    }\n",
       "\n",
       "    window.setTimeout(set_focus, 100);\n",
       "}\n",
       "\n",
       "mpl.figure.prototype._init_toolbar = function() {\n",
       "    var fig = this;\n",
       "\n",
       "    var nav_element = $('<div/>');\n",
       "    nav_element.attr('style', 'width: 100%');\n",
       "    this.root.append(nav_element);\n",
       "\n",
       "    // Define a callback function for later on.\n",
       "    function toolbar_event(event) {\n",
       "        return fig.toolbar_button_onclick(event['data']);\n",
       "    }\n",
       "    function toolbar_mouse_event(event) {\n",
       "        return fig.toolbar_button_onmouseover(event['data']);\n",
       "    }\n",
       "\n",
       "    for(var toolbar_ind in mpl.toolbar_items) {\n",
       "        var name = mpl.toolbar_items[toolbar_ind][0];\n",
       "        var tooltip = mpl.toolbar_items[toolbar_ind][1];\n",
       "        var image = mpl.toolbar_items[toolbar_ind][2];\n",
       "        var method_name = mpl.toolbar_items[toolbar_ind][3];\n",
       "\n",
       "        if (!name) {\n",
       "            // put a spacer in here.\n",
       "            continue;\n",
       "        }\n",
       "        var button = $('<button/>');\n",
       "        button.addClass('ui-button ui-widget ui-state-default ui-corner-all ' +\n",
       "                        'ui-button-icon-only');\n",
       "        button.attr('role', 'button');\n",
       "        button.attr('aria-disabled', 'false');\n",
       "        button.click(method_name, toolbar_event);\n",
       "        button.mouseover(tooltip, toolbar_mouse_event);\n",
       "\n",
       "        var icon_img = $('<span/>');\n",
       "        icon_img.addClass('ui-button-icon-primary ui-icon');\n",
       "        icon_img.addClass(image);\n",
       "        icon_img.addClass('ui-corner-all');\n",
       "\n",
       "        var tooltip_span = $('<span/>');\n",
       "        tooltip_span.addClass('ui-button-text');\n",
       "        tooltip_span.html(tooltip);\n",
       "\n",
       "        button.append(icon_img);\n",
       "        button.append(tooltip_span);\n",
       "\n",
       "        nav_element.append(button);\n",
       "    }\n",
       "\n",
       "    var fmt_picker_span = $('<span/>');\n",
       "\n",
       "    var fmt_picker = $('<select/>');\n",
       "    fmt_picker.addClass('mpl-toolbar-option ui-widget ui-widget-content');\n",
       "    fmt_picker_span.append(fmt_picker);\n",
       "    nav_element.append(fmt_picker_span);\n",
       "    this.format_dropdown = fmt_picker[0];\n",
       "\n",
       "    for (var ind in mpl.extensions) {\n",
       "        var fmt = mpl.extensions[ind];\n",
       "        var option = $(\n",
       "            '<option/>', {selected: fmt === mpl.default_extension}).html(fmt);\n",
       "        fmt_picker.append(option);\n",
       "    }\n",
       "\n",
       "    // Add hover states to the ui-buttons\n",
       "    $( \".ui-button\" ).hover(\n",
       "        function() { $(this).addClass(\"ui-state-hover\");},\n",
       "        function() { $(this).removeClass(\"ui-state-hover\");}\n",
       "    );\n",
       "\n",
       "    var status_bar = $('<span class=\"mpl-message\"/>');\n",
       "    nav_element.append(status_bar);\n",
       "    this.message = status_bar[0];\n",
       "}\n",
       "\n",
       "mpl.figure.prototype.request_resize = function(x_pixels, y_pixels) {\n",
       "    // Request matplotlib to resize the figure. Matplotlib will then trigger a resize in the client,\n",
       "    // which will in turn request a refresh of the image.\n",
       "    this.send_message('resize', {'width': x_pixels, 'height': y_pixels});\n",
       "}\n",
       "\n",
       "mpl.figure.prototype.send_message = function(type, properties) {\n",
       "    properties['type'] = type;\n",
       "    properties['figure_id'] = this.id;\n",
       "    this.ws.send(JSON.stringify(properties));\n",
       "}\n",
       "\n",
       "mpl.figure.prototype.send_draw_message = function() {\n",
       "    if (!this.waiting) {\n",
       "        this.waiting = true;\n",
       "        this.ws.send(JSON.stringify({type: \"draw\", figure_id: this.id}));\n",
       "    }\n",
       "}\n",
       "\n",
       "\n",
       "mpl.figure.prototype.handle_save = function(fig, msg) {\n",
       "    var format_dropdown = fig.format_dropdown;\n",
       "    var format = format_dropdown.options[format_dropdown.selectedIndex].value;\n",
       "    fig.ondownload(fig, format);\n",
       "}\n",
       "\n",
       "\n",
       "mpl.figure.prototype.handle_resize = function(fig, msg) {\n",
       "    var size = msg['size'];\n",
       "    if (size[0] != fig.canvas.width || size[1] != fig.canvas.height) {\n",
       "        fig._resize_canvas(size[0], size[1]);\n",
       "        fig.send_message(\"refresh\", {});\n",
       "    };\n",
       "}\n",
       "\n",
       "mpl.figure.prototype.handle_rubberband = function(fig, msg) {\n",
       "    var x0 = msg['x0'] / mpl.ratio;\n",
       "    var y0 = (fig.canvas.height - msg['y0']) / mpl.ratio;\n",
       "    var x1 = msg['x1'] / mpl.ratio;\n",
       "    var y1 = (fig.canvas.height - msg['y1']) / mpl.ratio;\n",
       "    x0 = Math.floor(x0) + 0.5;\n",
       "    y0 = Math.floor(y0) + 0.5;\n",
       "    x1 = Math.floor(x1) + 0.5;\n",
       "    y1 = Math.floor(y1) + 0.5;\n",
       "    var min_x = Math.min(x0, x1);\n",
       "    var min_y = Math.min(y0, y1);\n",
       "    var width = Math.abs(x1 - x0);\n",
       "    var height = Math.abs(y1 - y0);\n",
       "\n",
       "    fig.rubberband_context.clearRect(\n",
       "        0, 0, fig.canvas.width / mpl.ratio, fig.canvas.height / mpl.ratio);\n",
       "\n",
       "    fig.rubberband_context.strokeRect(min_x, min_y, width, height);\n",
       "}\n",
       "\n",
       "mpl.figure.prototype.handle_figure_label = function(fig, msg) {\n",
       "    // Updates the figure title.\n",
       "    fig.header.textContent = msg['label'];\n",
       "}\n",
       "\n",
       "mpl.figure.prototype.handle_cursor = function(fig, msg) {\n",
       "    var cursor = msg['cursor'];\n",
       "    switch(cursor)\n",
       "    {\n",
       "    case 0:\n",
       "        cursor = 'pointer';\n",
       "        break;\n",
       "    case 1:\n",
       "        cursor = 'default';\n",
       "        break;\n",
       "    case 2:\n",
       "        cursor = 'crosshair';\n",
       "        break;\n",
       "    case 3:\n",
       "        cursor = 'move';\n",
       "        break;\n",
       "    }\n",
       "    fig.rubberband_canvas.style.cursor = cursor;\n",
       "}\n",
       "\n",
       "mpl.figure.prototype.handle_message = function(fig, msg) {\n",
       "    fig.message.textContent = msg['message'];\n",
       "}\n",
       "\n",
       "mpl.figure.prototype.handle_draw = function(fig, msg) {\n",
       "    // Request the server to send over a new figure.\n",
       "    fig.send_draw_message();\n",
       "}\n",
       "\n",
       "mpl.figure.prototype.handle_image_mode = function(fig, msg) {\n",
       "    fig.image_mode = msg['mode'];\n",
       "}\n",
       "\n",
       "mpl.figure.prototype.updated_canvas_event = function() {\n",
       "    // Called whenever the canvas gets updated.\n",
       "    this.send_message(\"ack\", {});\n",
       "}\n",
       "\n",
       "// A function to construct a web socket function for onmessage handling.\n",
       "// Called in the figure constructor.\n",
       "mpl.figure.prototype._make_on_message_function = function(fig) {\n",
       "    return function socket_on_message(evt) {\n",
       "        if (evt.data instanceof Blob) {\n",
       "            /* FIXME: We get \"Resource interpreted as Image but\n",
       "             * transferred with MIME type text/plain:\" errors on\n",
       "             * Chrome.  But how to set the MIME type?  It doesn't seem\n",
       "             * to be part of the websocket stream */\n",
       "            evt.data.type = \"image/png\";\n",
       "\n",
       "            /* Free the memory for the previous frames */\n",
       "            if (fig.imageObj.src) {\n",
       "                (window.URL || window.webkitURL).revokeObjectURL(\n",
       "                    fig.imageObj.src);\n",
       "            }\n",
       "\n",
       "            fig.imageObj.src = (window.URL || window.webkitURL).createObjectURL(\n",
       "                evt.data);\n",
       "            fig.updated_canvas_event();\n",
       "            fig.waiting = false;\n",
       "            return;\n",
       "        }\n",
       "        else if (typeof evt.data === 'string' && evt.data.slice(0, 21) == \"data:image/png;base64\") {\n",
       "            fig.imageObj.src = evt.data;\n",
       "            fig.updated_canvas_event();\n",
       "            fig.waiting = false;\n",
       "            return;\n",
       "        }\n",
       "\n",
       "        var msg = JSON.parse(evt.data);\n",
       "        var msg_type = msg['type'];\n",
       "\n",
       "        // Call the  \"handle_{type}\" callback, which takes\n",
       "        // the figure and JSON message as its only arguments.\n",
       "        try {\n",
       "            var callback = fig[\"handle_\" + msg_type];\n",
       "        } catch (e) {\n",
       "            console.log(\"No handler for the '\" + msg_type + \"' message type: \", msg);\n",
       "            return;\n",
       "        }\n",
       "\n",
       "        if (callback) {\n",
       "            try {\n",
       "                // console.log(\"Handling '\" + msg_type + \"' message: \", msg);\n",
       "                callback(fig, msg);\n",
       "            } catch (e) {\n",
       "                console.log(\"Exception inside the 'handler_\" + msg_type + \"' callback:\", e, e.stack, msg);\n",
       "            }\n",
       "        }\n",
       "    };\n",
       "}\n",
       "\n",
       "// from http://stackoverflow.com/questions/1114465/getting-mouse-location-in-canvas\n",
       "mpl.findpos = function(e) {\n",
       "    //this section is from http://www.quirksmode.org/js/events_properties.html\n",
       "    var targ;\n",
       "    if (!e)\n",
       "        e = window.event;\n",
       "    if (e.target)\n",
       "        targ = e.target;\n",
       "    else if (e.srcElement)\n",
       "        targ = e.srcElement;\n",
       "    if (targ.nodeType == 3) // defeat Safari bug\n",
       "        targ = targ.parentNode;\n",
       "\n",
       "    // jQuery normalizes the pageX and pageY\n",
       "    // pageX,Y are the mouse positions relative to the document\n",
       "    // offset() returns the position of the element relative to the document\n",
       "    var x = e.pageX - $(targ).offset().left;\n",
       "    var y = e.pageY - $(targ).offset().top;\n",
       "\n",
       "    return {\"x\": x, \"y\": y};\n",
       "};\n",
       "\n",
       "/*\n",
       " * return a copy of an object with only non-object keys\n",
       " * we need this to avoid circular references\n",
       " * http://stackoverflow.com/a/24161582/3208463\n",
       " */\n",
       "function simpleKeys (original) {\n",
       "  return Object.keys(original).reduce(function (obj, key) {\n",
       "    if (typeof original[key] !== 'object')\n",
       "        obj[key] = original[key]\n",
       "    return obj;\n",
       "  }, {});\n",
       "}\n",
       "\n",
       "mpl.figure.prototype.mouse_event = function(event, name) {\n",
       "    var canvas_pos = mpl.findpos(event)\n",
       "\n",
       "    if (name === 'button_press')\n",
       "    {\n",
       "        this.canvas.focus();\n",
       "        this.canvas_div.focus();\n",
       "    }\n",
       "\n",
       "    var x = canvas_pos.x * mpl.ratio;\n",
       "    var y = canvas_pos.y * mpl.ratio;\n",
       "\n",
       "    this.send_message(name, {x: x, y: y, button: event.button,\n",
       "                             step: event.step,\n",
       "                             guiEvent: simpleKeys(event)});\n",
       "\n",
       "    /* This prevents the web browser from automatically changing to\n",
       "     * the text insertion cursor when the button is pressed.  We want\n",
       "     * to control all of the cursor setting manually through the\n",
       "     * 'cursor' event from matplotlib */\n",
       "    event.preventDefault();\n",
       "    return false;\n",
       "}\n",
       "\n",
       "mpl.figure.prototype._key_event_extra = function(event, name) {\n",
       "    // Handle any extra behaviour associated with a key event\n",
       "}\n",
       "\n",
       "mpl.figure.prototype.key_event = function(event, name) {\n",
       "\n",
       "    // Prevent repeat events\n",
       "    if (name == 'key_press')\n",
       "    {\n",
       "        if (event.which === this._key)\n",
       "            return;\n",
       "        else\n",
       "            this._key = event.which;\n",
       "    }\n",
       "    if (name == 'key_release')\n",
       "        this._key = null;\n",
       "\n",
       "    var value = '';\n",
       "    if (event.ctrlKey && event.which != 17)\n",
       "        value += \"ctrl+\";\n",
       "    if (event.altKey && event.which != 18)\n",
       "        value += \"alt+\";\n",
       "    if (event.shiftKey && event.which != 16)\n",
       "        value += \"shift+\";\n",
       "\n",
       "    value += 'k';\n",
       "    value += event.which.toString();\n",
       "\n",
       "    this._key_event_extra(event, name);\n",
       "\n",
       "    this.send_message(name, {key: value,\n",
       "                             guiEvent: simpleKeys(event)});\n",
       "    return false;\n",
       "}\n",
       "\n",
       "mpl.figure.prototype.toolbar_button_onclick = function(name) {\n",
       "    if (name == 'download') {\n",
       "        this.handle_save(this, null);\n",
       "    } else {\n",
       "        this.send_message(\"toolbar_button\", {name: name});\n",
       "    }\n",
       "};\n",
       "\n",
       "mpl.figure.prototype.toolbar_button_onmouseover = function(tooltip) {\n",
       "    this.message.textContent = tooltip;\n",
       "};\n",
       "mpl.toolbar_items = [[\"Home\", \"Reset original view\", \"fa fa-home icon-home\", \"home\"], [\"Back\", \"Back to previous view\", \"fa fa-arrow-left icon-arrow-left\", \"back\"], [\"Forward\", \"Forward to next view\", \"fa fa-arrow-right icon-arrow-right\", \"forward\"], [\"\", \"\", \"\", \"\"], [\"Pan\", \"Pan axes with left mouse, zoom with right\", \"fa fa-arrows icon-move\", \"pan\"], [\"Zoom\", \"Zoom to rectangle\", \"fa fa-square-o icon-check-empty\", \"zoom\"], [\"\", \"\", \"\", \"\"], [\"Download\", \"Download plot\", \"fa fa-floppy-o icon-save\", \"download\"]];\n",
       "\n",
       "mpl.extensions = [\"eps\", \"jpeg\", \"pdf\", \"png\", \"ps\", \"raw\", \"svg\", \"tif\"];\n",
       "\n",
       "mpl.default_extension = \"png\";var comm_websocket_adapter = function(comm) {\n",
       "    // Create a \"websocket\"-like object which calls the given IPython comm\n",
       "    // object with the appropriate methods. Currently this is a non binary\n",
       "    // socket, so there is still some room for performance tuning.\n",
       "    var ws = {};\n",
       "\n",
       "    ws.close = function() {\n",
       "        comm.close()\n",
       "    };\n",
       "    ws.send = function(m) {\n",
       "        //console.log('sending', m);\n",
       "        comm.send(m);\n",
       "    };\n",
       "    // Register the callback with on_msg.\n",
       "    comm.on_msg(function(msg) {\n",
       "        //console.log('receiving', msg['content']['data'], msg);\n",
       "        // Pass the mpl event to the overridden (by mpl) onmessage function.\n",
       "        ws.onmessage(msg['content']['data'])\n",
       "    });\n",
       "    return ws;\n",
       "}\n",
       "\n",
       "mpl.mpl_figure_comm = function(comm, msg) {\n",
       "    // This is the function which gets called when the mpl process\n",
       "    // starts-up an IPython Comm through the \"matplotlib\" channel.\n",
       "\n",
       "    var id = msg.content.data.id;\n",
       "    // Get hold of the div created by the display call when the Comm\n",
       "    // socket was opened in Python.\n",
       "    var element = $(\"#\" + id);\n",
       "    var ws_proxy = comm_websocket_adapter(comm)\n",
       "\n",
       "    function ondownload(figure, format) {\n",
       "        window.open(figure.imageObj.src);\n",
       "    }\n",
       "\n",
       "    var fig = new mpl.figure(id, ws_proxy,\n",
       "                           ondownload,\n",
       "                           element.get(0));\n",
       "\n",
       "    // Call onopen now - mpl needs it, as it is assuming we've passed it a real\n",
       "    // web socket which is closed, not our websocket->open comm proxy.\n",
       "    ws_proxy.onopen();\n",
       "\n",
       "    fig.parent_element = element.get(0);\n",
       "    fig.cell_info = mpl.find_output_cell(\"<div id='\" + id + \"'></div>\");\n",
       "    if (!fig.cell_info) {\n",
       "        console.error(\"Failed to find cell for figure\", id, fig);\n",
       "        return;\n",
       "    }\n",
       "\n",
       "    var output_index = fig.cell_info[2]\n",
       "    var cell = fig.cell_info[0];\n",
       "\n",
       "};\n",
       "\n",
       "mpl.figure.prototype.handle_close = function(fig, msg) {\n",
       "    var width = fig.canvas.width/mpl.ratio\n",
       "    fig.root.unbind('remove')\n",
       "\n",
       "    // Update the output cell to use the data from the current canvas.\n",
       "    fig.push_to_output();\n",
       "    var dataURL = fig.canvas.toDataURL();\n",
       "    // Re-enable the keyboard manager in IPython - without this line, in FF,\n",
       "    // the notebook keyboard shortcuts fail.\n",
       "    IPython.keyboard_manager.enable()\n",
       "    $(fig.parent_element).html('<img src=\"' + dataURL + '\" width=\"' + width + '\">');\n",
       "    fig.close_ws(fig, msg);\n",
       "}\n",
       "\n",
       "mpl.figure.prototype.close_ws = function(fig, msg){\n",
       "    fig.send_message('closing', msg);\n",
       "    // fig.ws.close()\n",
       "}\n",
       "\n",
       "mpl.figure.prototype.push_to_output = function(remove_interactive) {\n",
       "    // Turn the data on the canvas into data in the output cell.\n",
       "    var width = this.canvas.width/mpl.ratio\n",
       "    var dataURL = this.canvas.toDataURL();\n",
       "    this.cell_info[1]['text/html'] = '<img src=\"' + dataURL + '\" width=\"' + width + '\">';\n",
       "}\n",
       "\n",
       "mpl.figure.prototype.updated_canvas_event = function() {\n",
       "    // Tell IPython that the notebook contents must change.\n",
       "    IPython.notebook.set_dirty(true);\n",
       "    this.send_message(\"ack\", {});\n",
       "    var fig = this;\n",
       "    // Wait a second, then push the new image to the DOM so\n",
       "    // that it is saved nicely (might be nice to debounce this).\n",
       "    setTimeout(function () { fig.push_to_output() }, 1000);\n",
       "}\n",
       "\n",
       "mpl.figure.prototype._init_toolbar = function() {\n",
       "    var fig = this;\n",
       "\n",
       "    var nav_element = $('<div/>');\n",
       "    nav_element.attr('style', 'width: 100%');\n",
       "    this.root.append(nav_element);\n",
       "\n",
       "    // Define a callback function for later on.\n",
       "    function toolbar_event(event) {\n",
       "        return fig.toolbar_button_onclick(event['data']);\n",
       "    }\n",
       "    function toolbar_mouse_event(event) {\n",
       "        return fig.toolbar_button_onmouseover(event['data']);\n",
       "    }\n",
       "\n",
       "    for(var toolbar_ind in mpl.toolbar_items){\n",
       "        var name = mpl.toolbar_items[toolbar_ind][0];\n",
       "        var tooltip = mpl.toolbar_items[toolbar_ind][1];\n",
       "        var image = mpl.toolbar_items[toolbar_ind][2];\n",
       "        var method_name = mpl.toolbar_items[toolbar_ind][3];\n",
       "\n",
       "        if (!name) { continue; };\n",
       "\n",
       "        var button = $('<button class=\"btn btn-default\" href=\"#\" title=\"' + name + '\"><i class=\"fa ' + image + ' fa-lg\"></i></button>');\n",
       "        button.click(method_name, toolbar_event);\n",
       "        button.mouseover(tooltip, toolbar_mouse_event);\n",
       "        nav_element.append(button);\n",
       "    }\n",
       "\n",
       "    // Add the status bar.\n",
       "    var status_bar = $('<span class=\"mpl-message\" style=\"text-align:right; float: right;\"/>');\n",
       "    nav_element.append(status_bar);\n",
       "    this.message = status_bar[0];\n",
       "\n",
       "    // Add the close button to the window.\n",
       "    var buttongrp = $('<div class=\"btn-group inline pull-right\"></div>');\n",
       "    var button = $('<button class=\"btn btn-mini btn-primary\" href=\"#\" title=\"Stop Interaction\"><i class=\"fa fa-power-off icon-remove icon-large\"></i></button>');\n",
       "    button.click(function (evt) { fig.handle_close(fig, {}); } );\n",
       "    button.mouseover('Stop Interaction', toolbar_mouse_event);\n",
       "    buttongrp.append(button);\n",
       "    var titlebar = this.root.find($('.ui-dialog-titlebar'));\n",
       "    titlebar.prepend(buttongrp);\n",
       "}\n",
       "\n",
       "mpl.figure.prototype._root_extra_style = function(el){\n",
       "    var fig = this\n",
       "    el.on(\"remove\", function(){\n",
       "\tfig.close_ws(fig, {});\n",
       "    });\n",
       "}\n",
       "\n",
       "mpl.figure.prototype._canvas_extra_style = function(el){\n",
       "    // this is important to make the div 'focusable\n",
       "    el.attr('tabindex', 0)\n",
       "    // reach out to IPython and tell the keyboard manager to turn it's self\n",
       "    // off when our div gets focus\n",
       "\n",
       "    // location in version 3\n",
       "    if (IPython.notebook.keyboard_manager) {\n",
       "        IPython.notebook.keyboard_manager.register_events(el);\n",
       "    }\n",
       "    else {\n",
       "        // location in version 2\n",
       "        IPython.keyboard_manager.register_events(el);\n",
       "    }\n",
       "\n",
       "}\n",
       "\n",
       "mpl.figure.prototype._key_event_extra = function(event, name) {\n",
       "    var manager = IPython.notebook.keyboard_manager;\n",
       "    if (!manager)\n",
       "        manager = IPython.keyboard_manager;\n",
       "\n",
       "    // Check for shift+enter\n",
       "    if (event.shiftKey && event.which == 13) {\n",
       "        this.canvas_div.blur();\n",
       "        // select the cell after this one\n",
       "        var index = IPython.notebook.find_cell_index(this.cell_info[0]);\n",
       "        IPython.notebook.select(index + 1);\n",
       "    }\n",
       "}\n",
       "\n",
       "mpl.figure.prototype.handle_save = function(fig, msg) {\n",
       "    fig.ondownload(fig, null);\n",
       "}\n",
       "\n",
       "\n",
       "mpl.find_output_cell = function(html_output) {\n",
       "    // Return the cell and output element which can be found *uniquely* in the notebook.\n",
       "    // Note - this is a bit hacky, but it is done because the \"notebook_saving.Notebook\"\n",
       "    // IPython event is triggered only after the cells have been serialised, which for\n",
       "    // our purposes (turning an active figure into a static one), is too late.\n",
       "    var cells = IPython.notebook.get_cells();\n",
       "    var ncells = cells.length;\n",
       "    for (var i=0; i<ncells; i++) {\n",
       "        var cell = cells[i];\n",
       "        if (cell.cell_type === 'code'){\n",
       "            for (var j=0; j<cell.output_area.outputs.length; j++) {\n",
       "                var data = cell.output_area.outputs[j];\n",
       "                if (data.data) {\n",
       "                    // IPython >= 3 moved mimebundle to data attribute of output\n",
       "                    data = data.data;\n",
       "                }\n",
       "                if (data['text/html'] == html_output) {\n",
       "                    return [cell, data, j];\n",
       "                }\n",
       "            }\n",
       "        }\n",
       "    }\n",
       "}\n",
       "\n",
       "// Register the function which deals with the matplotlib target/channel.\n",
       "// The kernel may be null if the page has been refreshed.\n",
       "if (IPython.notebook.kernel != null) {\n",
       "    IPython.notebook.kernel.comm_manager.register_target('matplotlib', mpl.mpl_figure_comm);\n",
       "}\n"
      ],
      "text/plain": [
       "<IPython.core.display.Javascript object>"
      ]
     },
     "metadata": {},
     "output_type": "display_data"
    },
    {
     "data": {
      "text/html": [
       "<div id='1dd31df6-bbe5-4b0b-b5c2-f00113dd7f98'></div>"
      ],
      "text/plain": [
       "<IPython.core.display.HTML object>"
      ]
     },
     "metadata": {},
     "output_type": "display_data"
    }
   ],
   "source": [
    "%matplotlib notebook\n",
    "\n",
    "standard_system_obj.plot_molecule_3D()"
   ]
  },
  {
   "cell_type": "code",
   "execution_count": null,
   "metadata": {},
   "outputs": [],
   "source": []
  },
  {
   "cell_type": "markdown",
   "metadata": {},
   "source": [
    "# Localise orbitals"
   ]
  },
  {
   "cell_type": "markdown",
   "metadata": {},
   "source": [
    "### Background\n",
    "\n",
    "The overlap matrix is:\n",
    "\n",
    "$$S_{\\mu \\nu} =  \\int d\\vec{r}_{1} \\phi_{\\mu}(1)^{*}\\phi_{\\nu}(1)$$\n",
    "\n",
    "- $\\phi_{\\mu}$ are basis functions (defined in basis set)\n",
    "\n",
    "\n",
    "The unknown molecular orbitals $\\psi_{i}$ are expanded as a linear expansion of the $K$ known basis functions:\n",
    "\n",
    "$$ \\psi_{i} =  \\sum_{\\mu=1}^{K} C_{\\mu i} \\psi_{\\mu}$$\n",
    "\n",
    "\n",
    "$C$ is a $K \\times K$ matrix of expansion coefficients $C_{\\mu i}$. The columns of $C$ describe the molecular orbitals!"
   ]
  },
  {
   "cell_type": "markdown",
   "metadata": {},
   "source": [
    "We can find the total number of electrons $N$ in the system by:\n",
    "\n",
    "$$ N =  2 \\sum_{a}^{N/2}\\int d\\vec{r}  \\bigg( \\psi_{a}(\\vec{r})^{*} \\psi_{i}(\\vec{r}) \\bigg) =  2 \\sum_{a}^{N/2} 1$$\n",
    "\n",
    "- integral gives probablity of finding electron $a$ over all space (must be 1)\n",
    "- summing over all electrons will give the total number of electrons"
   ]
  },
  {
   "cell_type": "code",
   "execution_count": null,
   "metadata": {},
   "outputs": [],
   "source": []
  },
  {
   "cell_type": "markdown",
   "metadata": {},
   "source": [
    "The charge density has the following definition:\n",
    "\n",
    "$$\\rho(\\vec{r}) = 2 \\sum_{a}^{N/2} \\bigg( \\psi_{a}(\\vec{r})^{*} \\psi_{i}(\\vec{r}) \\bigg)$$\n",
    "\n",
    "- re-write using definition of $\\psi_{i}=  \\sum_{\\mu=1}^{K} C_{\\mu i} \\psi_{\\mu}$\n",
    "\n",
    "$$\\rho(\\vec{r}) = 2 \\sum_{a}^{N/2} \\Bigg( \\bigg[ \\sum_{\\nu}^{K} C_{\\nu a}^{*} \\phi_{\\nu}(\\vec{r})^{*} \\bigg] \\bigg[ \\sum_{\\mu}^{K} C_{\\mu a}\\phi_{\\mu}(\\vec{r}) \\bigg] \\Bigg)$$\n",
    "\n",
    "- move things around\n",
    "\n",
    "$$\\rho(\\vec{r}) = \\sum_{\\nu}^{K} \\sum_{\\mu}^{K} \\Big( 2 \\sum_{a}^{N/2} C_{\\mu a} C_{\\nu a}^{*} \\Big) \\phi_{\\mu}(\\vec{r}) \\phi_{\\nu}(\\vec{r})^{*} $$\n",
    "\n",
    "- which is \n",
    "\n",
    "$$\\rho(\\vec{r}) = \\sum_{\\mu, \\nu}^{K} P_{\\mu \\nu} \\phi_{\\mu}(\\vec{r}) \\phi_{\\nu}(\\vec{r})^{*} $$\n",
    "\n",
    "\n",
    "- $P_{\\mu \\nu}$ is known as the density matrix and is:\n",
    "\n",
    "$$P_{\\mu \\nu} = 2 \\sum_{a}^{N/2} C_{\\mu a} C_{\\nu a}^{*}$$"
   ]
  },
  {
   "cell_type": "code",
   "execution_count": null,
   "metadata": {},
   "outputs": [],
   "source": []
  },
  {
   "cell_type": "markdown",
   "metadata": {},
   "source": [
    "Therefore we can also find the total number of electrons in the system by:\n",
    "\n",
    "$$ N =  2 \\sum_{a}^{N/2}\\int d\\vec{r}  \\bigg( \\psi_{a}(\\vec{r})^{*} \\psi_{i}(\\vec{r}) \\bigg) =  \\sum_{\\nu}^{K} \\sum_{\\mu}^{K} \\Big( 2 \\sum_{a}^{N/2} C_{\\mu a} C_{\\nu a}^{*} \\Big) \\int d\\vec{r} \\phi_{\\mu}(\\vec{r})  \\phi_{\\nu}(\\vec{r})^{*}$$\n",
    "\n",
    "- This is simply:\n",
    "\n",
    "$$N =  \\sum_{\\nu}^{K} \\sum_{\\mu}^{K} P_{\\mu \\nu} S_{\\nu \\mu}$$\n",
    "\n",
    "- in an orthognal basis $S$ should be the identity matrix (as it is overlap of matrix of orthogonal orbs), SO WE GET:\n",
    "\n",
    "$$N =  \\sum_{\\nu}^{K} \\sum_{\\mu}^{K} P_{\\mu \\nu} S_{\\nu \\mu} = \\sum_{\\mu}^{K} PS_{\\mu \\mu} = \\mathcal{Tr}(PS)$$"
   ]
  },
  {
   "cell_type": "markdown",
   "metadata": {},
   "source": [
    "- One can interpret $ PS_{\\mu \\mu}$ in the above equation as the number of electrons associated with $ \\phi_{\\mu}$\n",
    "- This is a **Mulliken population analysis**"
   ]
  },
  {
   "cell_type": "markdown",
   "metadata": {},
   "source": []
  },
  {
   "cell_type": "markdown",
   "metadata": {},
   "source": [
    "# Orbital Localization!"
   ]
  },
  {
   "cell_type": "markdown",
   "metadata": {},
   "source": [
    "A molecular orbital is usually delocalized, i.e. it has non-negligible amplitude over the whole system rather than only around some atom(s) or bond(s). However, one can choose a unitary rotation "
   ]
  },
  {
   "cell_type": "markdown",
   "metadata": {},
   "source": [
    "- When we perform a SCF calculation, one gets an optimized C matrix\n",
    "    - $C$ is a $K \\times K$ matrix of expansion coefficients $C_{\\mu i}$\n",
    "    - The columns of $C$ describe the molecular orbitals!\n",
    "    - MO i: $ \\psi_{i} =  \\sum_{\\mu=1}^{K} C_{\\mu i} \\psi_{\\mu}$\n",
    "    \n",
    "    \n",
    "- These molecular orbitals are usually **delocalized**\n",
    "    - non-negligible amplitude over the whole system, rather than only around some atom(s) or bond(s)\n",
    "\n",
    "- But we know in QM that a given basis choice is NOT unique\n",
    "\n",
    "\n",
    "- We can therefore perform a unitary rotation on molecular orbitals\n",
    "\n",
    "$$ \\psi_{i} U_{rot} =  \\Big( \\sum_{\\mu=1}^{K} C_{\\mu i} \\psi_{\\mu} \\Big) U_{rot} = \\psi_{i}^{new}$$\n",
    "    \n",
    "    \n",
    "The idea is to use a rotation such that the resulting orbitals $\\psi_{i}^{new}$ are as spatially localized as possible. \n",
    "\n",
    "\n",
    "The Pipek-Mezey (PM) [localization](https://notendur.hi.is/hj/papers/paperPipekmezey8.pdf) **maximizes the population charges on the atoms**:\n",
    "\n",
    "$$ f (U_{rot}) = \\sum_{A}^{N_{atoms}} \\Bigg( Z_{A} -  \\sum_{\\mu \\text{ on atom } A} PS_{\\mu \\mu} \\Bigg)$$"
   ]
  },
  {
   "cell_type": "markdown",
   "metadata": {},
   "source": [
    "# Choose active and environment systems"
   ]
  },
  {
   "cell_type": "markdown",
   "metadata": {},
   "source": [
    "## METHOD 1 "
   ]
  },
  {
   "cell_type": "markdown",
   "metadata": {},
   "source": [
    "- Given optimized $C$ coefficient matrix\n",
    "    - which has been rotated to localize orbitals\n",
    "    - (used to build localized density matrix)\n",
    "\n",
    "\n",
    "- **Look through basis functions $\\phi_{\\mu}$ of the ACTIVE atoms**\n",
    "    \n",
    "    \n",
    "- check the mulliken charge // mulliken population of the orbital\n",
    "    - if above a certain threshold associate it to active system\n",
    "    - otherwise put in the environment"
   ]
  },
  {
   "cell_type": "markdown",
   "metadata": {},
   "source": [
    "## METHOD 2 - SPADE"
   ]
  },
  {
   "cell_type": "code",
   "execution_count": 30,
   "metadata": {},
   "outputs": [],
   "source": [
    "localization_method = 'SPADE'\n",
    "# localization_method= 'mulliken'\n",
    "\n",
    "projection_method = 'huzinaga'\n",
    "# projection_method ='mu_shfit'\n",
    "\n",
    "high_level_scf_method='CCSD' # 'RKS'\n",
    "high_level_xc_functional = 'b3lyp'\n",
    "mu_level_shift=1e6"
   ]
  },
  {
   "cell_type": "code",
   "execution_count": 31,
   "metadata": {},
   "outputs": [],
   "source": [
    "embedded_mol_obj = vqe_in_dft.embedded_molecular_system(\n",
    "                                    geometry,\n",
    "                                    N_active_atoms,\n",
    "                                    localization_method,\n",
    "                                    projection_method,\n",
    "                                    high_level_scf_method=high_level_scf_method,\n",
    "                                    high_level_xc_functional =high_level_xc_functional,\n",
    "                                    mu_level_shift=mu_level_shift,\n",
    "\n",
    "                                    low_level_scf_method=low_level_scf_method,\n",
    "                                    E_convergence_tol = E_convergence_tol,\n",
    "                                    basis = basis,\n",
    "                                    output_file_name= output_file_name,\n",
    "                                    unit= unit,\n",
    "                                    pyscf_print_level= pyscf_print_level,\n",
    "                                    memory=memory,\n",
    "                                    charge=charge,\n",
    "                                    spin=spin,\n",
    "                                    run_fci=False,\n",
    "                                    low_level_xc_functional=low_level_xc_functional\n",
    ")"
   ]
  },
  {
   "cell_type": "code",
   "execution_count": 32,
   "metadata": {},
   "outputs": [],
   "source": [
    "embedded_mol_obj._Localize_orbitals(localization_method, sanity_check=True)"
   ]
  },
  {
   "cell_type": "code",
   "execution_count": 33,
   "metadata": {},
   "outputs": [
    {
     "name": "stdout",
     "output_type": "stream",
     "text": [
      "active ind: [1, 2, 4]\n",
      "enviro ind: [0, 3]\n"
     ]
    }
   ],
   "source": [
    "print('active ind:', embedded_mol_obj.active_ao_ind)\n",
    "print('enviro ind:', embedded_mol_obj.enviro_ao_ind)"
   ]
  },
  {
   "cell_type": "code",
   "execution_count": 34,
   "metadata": {},
   "outputs": [
    {
     "data": {
      "text/plain": [
       "2"
      ]
     },
     "execution_count": 34,
     "metadata": {},
     "output_type": "execute_result"
    }
   ],
   "source": [
    "embedded_mol_obj.n_env_mos"
   ]
  },
  {
   "cell_type": "code",
   "execution_count": null,
   "metadata": {},
   "outputs": [],
   "source": []
  },
  {
   "cell_type": "code",
   "execution_count": 36,
   "metadata": {},
   "outputs": [],
   "source": [
    "embedded_mol_obj._Get_embedded_potential()"
   ]
  },
  {
   "cell_type": "code",
   "execution_count": 37,
   "metadata": {},
   "outputs": [],
   "source": [
    "embedded_mol_obj.Get_optimized_embedded_dm()"
   ]
  },
  {
   "cell_type": "code",
   "execution_count": 38,
   "metadata": {},
   "outputs": [
    {
     "data": {
      "text/plain": [
       "-74.73250527475717"
      ]
     },
     "execution_count": 38,
     "metadata": {},
     "output_type": "execute_result"
    }
   ],
   "source": [
    "embedded_mol_obj.Get_embedded_energy(check_E_with_pyscf=True)"
   ]
  },
  {
   "cell_type": "code",
   "execution_count": 39,
   "metadata": {
    "scrolled": true
   },
   "outputs": [
    {
     "data": {
      "text/plain": [
       "-74.52650883071016"
      ]
     },
     "execution_count": 39,
     "metadata": {},
     "output_type": "execute_result"
    }
   ],
   "source": [
    "E_high_lvl = embedded_mol_obj.High_level_SCF()\n",
    "E_high_lvl"
   ]
  },
  {
   "cell_type": "code",
   "execution_count": null,
   "metadata": {},
   "outputs": [],
   "source": []
  },
  {
   "cell_type": "code",
   "execution_count": 42,
   "metadata": {},
   "outputs": [
    {
     "name": "stdout",
     "output_type": "stream",
     "text": [
      "difference high level and answer:  0.4888436478146616\n",
      "difference low level and answer:  0.28061206257233096\n"
     ]
    }
   ],
   "source": [
    "print('difference high level and answer: ', np.abs(E_high_lvl-standard_system_obj.E_FCI))\n",
    "print('difference low level and answer: ', np.abs(standard_system_obj.full_system_scf.e_tot-standard_system_obj.E_FCI))\n"
   ]
  },
  {
   "cell_type": "code",
   "execution_count": 16,
   "metadata": {},
   "outputs": [
    {
     "ename": "NameError",
     "evalue": "name 'dasd' is not defined",
     "output_type": "error",
     "traceback": [
      "\u001b[0;31m---------------------------------------------------------------------------\u001b[0m",
      "\u001b[0;31mNameError\u001b[0m                                 Traceback (most recent call last)",
      "\u001b[0;32m<ipython-input-16-634721d9da22>\u001b[0m in \u001b[0;36m<module>\u001b[0;34m\u001b[0m\n\u001b[0;32m----> 1\u001b[0;31m \u001b[0mdasd\u001b[0m\u001b[0;34m\u001b[0m\u001b[0;34m\u001b[0m\u001b[0m\n\u001b[0m",
      "\u001b[0;31mNameError\u001b[0m: name 'dasd' is not defined"
     ]
    }
   ],
   "source": [
    "dasd"
   ]
  },
  {
   "cell_type": "code",
   "execution_count": null,
   "metadata": {},
   "outputs": [],
   "source": [
    "VQE_emb_obj = vqe_in_dft.VQE_embedded(\n",
    "                                    geometry,\n",
    "                                    N_active_atoms,\n",
    "                                    localization_method,\n",
    "                                    projection_method,\n",
    "                                    mu_level_shift=mu_level_shift,\n",
    "\n",
    "                                    low_level_scf_method=low_level_scf_method,\n",
    "                                    E_convergence_tol = E_convergence_tol,\n",
    "                                    basis = basis,\n",
    "                                    output_file_name= output_file_name,\n",
    "                                    unit= unit,\n",
    "                                    pyscf_print_level= pyscf_print_level,\n",
    "                                    memory=memory,\n",
    "                                    charge=charge,\n",
    "                                    spin=spin,\n",
    "                                    run_fci=False,\n",
    "                                    low_level_xc_functional=low_level_xc_functional\n",
    ")"
   ]
  },
  {
   "cell_type": "code",
   "execution_count": null,
   "metadata": {},
   "outputs": [],
   "source": [
    "H_emb = VQE_emb_obj.Get_H_embedded_for_VQE()"
   ]
  },
  {
   "cell_type": "code",
   "execution_count": null,
   "metadata": {},
   "outputs": [],
   "source": [
    "from openfermion import get_sparse_operator\n",
    "from scipy.linalg import eigh\n",
    "\n",
    "H_emb_matrix = get_sparse_operator(H_emb)\n",
    "\n",
    "eig_val, eig_vec = eigh(H_emb_matrix.todense())\n",
    "\n",
    "idx = eig_val.argsort()   \n",
    "eigenValues = eig_val[idx]\n",
    "eigenVectors = eig_vec[:,idx]"
   ]
  },
  {
   "cell_type": "code",
   "execution_count": null,
   "metadata": {},
   "outputs": [],
   "source": [
    "eigenValues[0]"
   ]
  },
  {
   "cell_type": "code",
   "execution_count": null,
   "metadata": {},
   "outputs": [],
   "source": [
    "ground_state_embedded_ket = eigenVectors[:,0]"
   ]
  },
  {
   "cell_type": "code",
   "execution_count": null,
   "metadata": {},
   "outputs": [],
   "source": [
    "H_standard = VQE_emb_obj.Get_H_standard_for_VQE()\n",
    "\n",
    "H_standard_matrix = get_sparse_operator(H_standard)"
   ]
  },
  {
   "cell_type": "code",
   "execution_count": null,
   "metadata": {},
   "outputs": [],
   "source": [
    "E_WF_VQE_emb = ground_state_embedded_ket.conj().T @ H_standard_matrix @ ground_state_embedded_ket\n",
    "E_WF_VQE_emb"
   ]
  },
  {
   "cell_type": "code",
   "execution_count": null,
   "metadata": {},
   "outputs": [],
   "source": [
    "\n",
    "E_act, J_act, K_act, e_xc_act, v_xc_act = VQE_emb_obj.Get_energy_from_dm(VQE_emb_obj.dm_active, \n",
    "                                                                  )\n",
    "\n",
    "E_env, J_env, K_env, e_xc_env, v_xc_env = VQE_emb_obj.Get_energy_from_dm(VQE_emb_obj.dm_enviro, \n",
    "                                                                  )\n",
    "\n",
    "\n",
    "j_cross = 0.5 * (np.einsum('ij,ij', VQE_emb_obj.dm_active, J_env) + np.einsum('ij,ij', VQE_emb_obj.dm_enviro, J_act))\n",
    "k_cross = 0.0 # included in j_cross for pyscf!\n",
    "\n",
    "xc_cross = VQE_emb_obj.e_xc_total - e_xc_act - e_xc_env\n",
    "two_e_cross = j_cross + k_cross + xc_cross\n",
    "\n",
    "val, vec = eigh((H_emb_matrix - H_standard_matrix).todense())\n",
    "\n",
    "E_embedding_correction = min(val)\n"
   ]
  },
  {
   "cell_type": "code",
   "execution_count": null,
   "metadata": {},
   "outputs": [],
   "source": []
  },
  {
   "cell_type": "code",
   "execution_count": null,
   "metadata": {},
   "outputs": [],
   "source": []
  },
  {
   "cell_type": "code",
   "execution_count": null,
   "metadata": {},
   "outputs": [],
   "source": [
    "E_WF_FULL = (E_WF_VQE_emb + E_env + two_e_cross\n",
    "                    + E_embedding_correction) #+ VQE_emb_obj.full_system_scf.energy_nuc() \n",
    "\n",
    "E_WF_FULL"
   ]
  },
  {
   "cell_type": "code",
   "execution_count": null,
   "metadata": {},
   "outputs": [],
   "source": []
  },
  {
   "cell_type": "code",
   "execution_count": null,
   "metadata": {},
   "outputs": [],
   "source": [
    "standard_system_obj.E_FCI"
   ]
  },
  {
   "cell_type": "code",
   "execution_count": null,
   "metadata": {},
   "outputs": [],
   "source": [
    "fasd"
   ]
  },
  {
   "cell_type": "code",
   "execution_count": null,
   "metadata": {},
   "outputs": [],
   "source": []
  },
  {
   "cell_type": "code",
   "execution_count": null,
   "metadata": {},
   "outputs": [],
   "source": []
  },
  {
   "cell_type": "markdown",
   "metadata": {},
   "source": [
    "# Save orbitals to view"
   ]
  },
  {
   "cell_type": "markdown",
   "metadata": {},
   "source": [
    "Save localized orbitals as molden file\n",
    "\n",
    "(allowing MOs to be viewed, to see if localization makes sense)\n",
    "\n",
    "open with: https://avogadro.cc/"
   ]
  },
  {
   "cell_type": "code",
   "execution_count": null,
   "metadata": {},
   "outputs": [],
   "source": [
    "with open('LOCALIZED_orbs.molden', 'w') as outfile:\n",
    "    tools.molden.header(full_system_mol, outfile)\n",
    "    tools.molden.orbital_coeff(\n",
    "                        full_system_mol,\n",
    "                         outfile, \n",
    "                         act_orbitals, # <- active orbitals!\n",
    "                         ene=full_system_scf.mo_energy[np.array(active_ao_ind)],\n",
    "                         occ=full_system_scf.mo_occ[np.array(active_ao_ind)])"
   ]
  },
  {
   "cell_type": "code",
   "execution_count": null,
   "metadata": {},
   "outputs": [],
   "source": []
  },
  {
   "cell_type": "code",
   "execution_count": null,
   "metadata": {},
   "outputs": [],
   "source": [
    "########################## mulliken pop check START"
   ]
  },
  {
   "cell_type": "code",
   "execution_count": null,
   "metadata": {},
   "outputs": [],
   "source": [
    "# https://github.com/pyscf/pyscf/blob/master/pyscf/scf/hf.py\n",
    "\n",
    "Mulliken_population = np.einsum('ij,ji->i', dm_localised, S).real\n",
    "Mulliken_population"
   ]
  },
  {
   "cell_type": "code",
   "execution_count": null,
   "metadata": {},
   "outputs": [],
   "source": [
    "mulliken_charges = np.zeros(full_system_mol.natm)\n",
    "for i, s in enumerate(full_system_mol.ao_labels(fmt=None)):\n",
    "    mulliken_charges[s[0]] += Mulliken_population[i]\n",
    "mulliken_charges = full_system_mol.atom_charges() - mulliken_charges\n",
    "mulliken_charges"
   ]
  },
  {
   "cell_type": "code",
   "execution_count": null,
   "metadata": {},
   "outputs": [],
   "source": [
    "full_system_mol.mulliken_pop(dm=dm_localised)"
   ]
  },
  {
   "cell_type": "code",
   "execution_count": null,
   "metadata": {},
   "outputs": [],
   "source": [
    "########################z## mulliken pop check END"
   ]
  },
  {
   "cell_type": "code",
   "execution_count": null,
   "metadata": {},
   "outputs": [],
   "source": []
  },
  {
   "cell_type": "markdown",
   "metadata": {},
   "source": [
    "# Embedding"
   ]
  },
  {
   "cell_type": "code",
   "execution_count": null,
   "metadata": {},
   "outputs": [],
   "source": [
    "#It seems that PySCF lumps J and K in the J array \n",
    "J_act = full_system_scf.get_j(dm = dm_active)\n",
    "K_act = np.zeros_like(J_act)\n",
    "two_e_term_act =  full_system_scf.get_veff(dm=dm_active)\n",
    "e_xc_act = two_e_term_act.exc\n",
    "v_xc_act = two_e_term_act - J_act \n",
    "\n",
    "E_act = np.einsum('ij, ij', dm_active, full_system_scf.get_hcore() + J_act/2) + e_xc_act\n",
    "E_act"
   ]
  },
  {
   "cell_type": "code",
   "execution_count": null,
   "metadata": {},
   "outputs": [],
   "source": [
    "full_system_scf.energy_elec(dm=dm_active)[0]"
   ]
  },
  {
   "cell_type": "code",
   "execution_count": null,
   "metadata": {},
   "outputs": [],
   "source": []
  },
  {
   "cell_type": "code",
   "execution_count": null,
   "metadata": {},
   "outputs": [],
   "source": [
    "#It seems that PySCF lumps J and K in the J array \n",
    "J_env = full_system_scf.get_j(dm = dm_enviro)\n",
    "K_env = np.zeros_like(J_env)\n",
    "two_e_term_env =  full_system_scf.get_veff(dm=dm_enviro)\n",
    "e_xc_env = two_e_term_env.exc\n",
    "v_xc_env = two_e_term_env - J_env \n",
    "\n",
    "E_env = np.einsum('ij, ij', dm_enviro, full_system_scf.get_hcore() + J_env/2) + e_xc_env\n",
    "E_env"
   ]
  },
  {
   "cell_type": "code",
   "execution_count": null,
   "metadata": {},
   "outputs": [],
   "source": [
    "full_system_scf.energy_elec(dm=dm_enviro)[0]"
   ]
  },
  {
   "cell_type": "code",
   "execution_count": null,
   "metadata": {},
   "outputs": [],
   "source": []
  },
  {
   "cell_type": "code",
   "execution_count": null,
   "metadata": {},
   "outputs": [],
   "source": [
    "j_cross = 0.5 * (matrix_dot(dm_active, J_env) + matrix_dot(dm_enviro, J_act))\n",
    "k_cross = 0.0"
   ]
  },
  {
   "cell_type": "code",
   "execution_count": null,
   "metadata": {},
   "outputs": [],
   "source": [
    "xc_cross = e_xc_total - e_xc_act - e_xc_env\n",
    "two_e_cross = j_cross + k_cross + xc_cross"
   ]
  },
  {
   "cell_type": "code",
   "execution_count": null,
   "metadata": {},
   "outputs": [],
   "source": []
  },
  {
   "cell_type": "markdown",
   "metadata": {},
   "source": [
    "# Define projection method"
   ]
  },
  {
   "cell_type": "code",
   "execution_count": null,
   "metadata": {},
   "outputs": [],
   "source": [
    "projector_method = 'huzinaga'\n",
    "# projector_method = 'mu_shfit'\n",
    "\n",
    "if projector_method == 'huzinaga':\n",
    "    Fock = full_system_scf.get_hcore() + full_system_scf.get_veff(dm=dm_act_and_env)\n",
    "    F_gammaB_S = Fock @ dm_enviro @ S\n",
    "    projector = -0.5 * (F_gammaB_S + F_gammaB_S.T)\n",
    "elif projector_method == 'mu_shfit':\n",
    "    mu = 1e6\n",
    "    projector = mu * (S @ dm_enviro  @ S)\n",
    "else:\n",
    "    raise ValueError(f'Unknown projection method {projector_method}')\n",
    "\n"
   ]
  },
  {
   "cell_type": "markdown",
   "metadata": {},
   "source": [
    "# Define the embbed matrix"
   ]
  },
  {
   "cell_type": "markdown",
   "metadata": {},
   "source": [
    "$$h^{A_{\\text{act}} \\text{ in } B_{\\text{env}}} = h^{\\text{core}} + v^{\\text{embed}}$$\n",
    "\n",
    "$$v^{\\text{embed}} = g[\\gamma^{A_{\\text{act}}} + \\gamma^{B_{\\text{env}}} ] - g[\\gamma^{A_{\\text{act}}}] + P_{\\text{projector}}$$"
   ]
  },
  {
   "cell_type": "code",
   "execution_count": null,
   "metadata": {},
   "outputs": [],
   "source": [
    "# define the embedded term\n",
    "g_A_and_B = full_system_scf.get_veff(dm=dm_active+dm_enviro)\n",
    "\n",
    "g_A = full_system_scf.get_veff(dm=dm_active)\n",
    "\n",
    "v_emb = g_A_and_B - g_A + projector"
   ]
  },
  {
   "cell_type": "code",
   "execution_count": null,
   "metadata": {},
   "outputs": [],
   "source": [
    "# PsiEmbed definition\n",
    "v_emb2 = (J_env + v_xc_total - v_xc_act + projector)"
   ]
  },
  {
   "cell_type": "code",
   "execution_count": null,
   "metadata": {},
   "outputs": [],
   "source": [
    "# check these are the SAME!\n",
    "np.allclose(v_emb, v_emb2)"
   ]
  },
  {
   "cell_type": "markdown",
   "metadata": {},
   "source": [
    "note $P$ is a projection operator that **enforces intersubsystem orbital orthogonality.**"
   ]
  },
  {
   "cell_type": "code",
   "execution_count": null,
   "metadata": {},
   "outputs": [],
   "source": []
  },
  {
   "cell_type": "markdown",
   "metadata": {},
   "source": [
    "# Next find optimized $\\gamma^{A_{\\text{act}}}_\\text{embedded}$\n",
    "\n",
    "- this is done by running SCF calc using embedded $h^{A_{\\text{act}} \\text{ in } B_{\\text{env}}}$"
   ]
  },
  {
   "cell_type": "markdown",
   "metadata": {},
   "source": [
    "Steps:\n",
    "\n",
    "1. Define full molecular system\n",
    "2. Change the number of electrons to be the same number as active system allows\n",
    "3. run SCF to get optimized electron density!"
   ]
  },
  {
   "cell_type": "code",
   "execution_count": null,
   "metadata": {},
   "outputs": [],
   "source": []
  },
  {
   "cell_type": "markdown",
   "metadata": {},
   "source": [
    "TODO: Could maybe calculate $\\gamma^{A_{\\text{act}}}_\\text{embedded}$ using high level method!"
   ]
  },
  {
   "cell_type": "code",
   "execution_count": null,
   "metadata": {},
   "outputs": [],
   "source": []
  },
  {
   "cell_type": "code",
   "execution_count": null,
   "metadata": {},
   "outputs": [],
   "source": [
    "full_system_mol_EMBEDDED = gto.Mole(atom= geometry,\n",
    "                      basis=basis,\n",
    "                       charge=0,\n",
    "                       #spin=0,\n",
    "                      )\n",
    "full_system_mol_EMBEDDED.build()\n",
    "\n",
    "# RE-DEFINE number of electrons in system\n",
    "full_system_mol_EMBEDDED.nelectron = 2*len(active_ao_ind)\n",
    "\n",
    "EMBEDDED_full_system_scf = scf.RKS(full_system_mol_EMBEDDED)\n",
    "EMBEDDED_full_system_scf.verbose=1\n",
    "EMBEDDED_full_system_scf.max_memory= 8_000\n",
    "EMBEDDED_full_system_scf.conv_tol = 1e-6\n",
    "EMBEDDED_full_system_scf.xc = low_level_xc_functional_or_HF\n",
    "\n",
    "h_core = EMBEDDED_full_system_scf.get_hcore()\n",
    "\n",
    "# overwrite h_core to include embedding term!!!!\n",
    "EMBEDDED_full_system_scf.get_hcore = lambda *args: v_emb + h_core\n",
    "\n",
    "\n",
    "EMBEDDED_full_system_scf.kernel()"
   ]
  },
  {
   "cell_type": "code",
   "execution_count": null,
   "metadata": {},
   "outputs": [],
   "source": [
    "EMBEDDED_full_system_scf.conv_check"
   ]
  },
  {
   "cell_type": "markdown",
   "metadata": {},
   "source": [
    "# Get optimized $\\gamma^{A_{\\text{act}}}_\\text{embedded}$"
   ]
  },
  {
   "cell_type": "code",
   "execution_count": null,
   "metadata": {},
   "outputs": [],
   "source": [
    "\n",
    "\n",
    "EMBEDDED_occ_orbs = EMBEDDED_full_system_scf.mo_coeff[:,EMBEDDED_full_system_scf.mo_occ>0]\n",
    "\n",
    "# optimized embedded denisty matrix\n",
    "density_emb = 2 * EMBEDDED_occ_orbs @ EMBEDDED_occ_orbs.conj().T\n",
    "\n",
    "## check number of electrons makes sense:\n",
    "np.isclose(np.trace(density_emb@S), 2*len(active_ao_ind))"
   ]
  },
  {
   "cell_type": "code",
   "execution_count": null,
   "metadata": {},
   "outputs": [],
   "source": []
  },
  {
   "cell_type": "markdown",
   "metadata": {},
   "source": [
    "# Calculate Energy\n",
    "\n",
    "The energy can be found according too:\n",
    "\n",
    "$$E[\\gamma^{A_{\\text{act}}}_\\text{embedded}; \\; \\; \\gamma^{A_{\\text{act}}},\\mathcal{E}[\\gamma^{A_{\\text{act}}}_\\text{embedded}]\n",
    "= \\mathcal{E}[\\gamma^{A_{\\text{act}}}_\\text{embedded}] + E[\\gamma^{B_{\\text{env}}}] + g[\\gamma^{A_{\\text{act}}}, \\gamma^{B_{\\text{env}}}] + \\mathcal{Trace}\\big[(\\gamma^{A_{\\text{act}}}_\\text{embedded}-\\gamma^{A_{\\text{act}}})(h^{A_{\\text{act}} \\text{ in } B_{\\text{env}}} - h )\\big]$$\n",
    "\n",
    "\n",
    "\n",
    "- $\\mathcal{E}[\\gamma^{A_{\\text{act}}}_\\text{embedded}]$\n",
    "    - energy of isolated A computed with new optimized embedded density matrix\n",
    "    - Note this allows for applicaton of different fucntionals (hence why odd E used)\n",
    "- $E[\\gamma^{B_{\\text{env}}}]$ DFT calc of isolated subsystem B\n",
    "- $g[\\gamma^{A_{\\text{act}}}, \\gamma^{B_{\\text{env}}}]$ non additive energy (boundary condition) between subsystems\n",
    "    - this is obtained from global calc!\n",
    "- Trace term provides a first order correction to the energy!"
   ]
  },
  {
   "cell_type": "code",
   "execution_count": null,
   "metadata": {},
   "outputs": [],
   "source": []
  },
  {
   "cell_type": "code",
   "execution_count": null,
   "metadata": {},
   "outputs": [],
   "source": []
  },
  {
   "cell_type": "markdown",
   "metadata": {},
   "source": [
    "$\\mathcal{E}[\\gamma^{A_{\\text{act}}}_\\text{embedded}]$"
   ]
  },
  {
   "cell_type": "code",
   "execution_count": null,
   "metadata": {},
   "outputs": [],
   "source": [
    "J_emb, K_emb =EMBEDDED_full_system_scf.get_jk(dm=density_emb) \n",
    "\n",
    "# NOTE how normal H_core is being used!\n",
    "e_act_emb = matrix_dot(density_emb, h_core + 0.5 * J_emb - 0.25 * K_emb)\n",
    "e_act_emb"
   ]
  },
  {
   "cell_type": "code",
   "execution_count": null,
   "metadata": {},
   "outputs": [],
   "source": [
    "# Test this with STANDARD full system obj\n",
    "# (changing density matrix for embedded one)\n",
    "J_test, K_test = full_system_scf.get_jk(dm=density_emb)\n",
    "\n",
    "np.allclose(J_emb, J_test) and np.allclose(K_emb, K_test)"
   ]
  },
  {
   "cell_type": "code",
   "execution_count": null,
   "metadata": {},
   "outputs": [],
   "source": [
    "# should be able to calculate energy in the same fashion\n",
    "# using STANDARD full system obj and new embedded density matrix\n",
    "\n",
    "# THIS METHOD IS BETTER THAN ABOVE (matches energy of global calc now!!!!)\n",
    "\n",
    "e_act_emb = full_system_scf.energy_elec(dm=density_emb)[0]\n",
    "e_act_emb"
   ]
  },
  {
   "cell_type": "code",
   "execution_count": null,
   "metadata": {},
   "outputs": [],
   "source": [
    "# note this is WRONG\n",
    "EMBEDDED_full_system_scf.energy_elec(dm=density_emb)\n",
    "# it is uses EMBEDDED h_core"
   ]
  },
  {
   "cell_type": "code",
   "execution_count": null,
   "metadata": {},
   "outputs": [],
   "source": []
  },
  {
   "cell_type": "markdown",
   "metadata": {},
   "source": [
    "Note for\n",
    "\n",
    "$$\\mathcal{Trace}\\big[(\\gamma^{A_{\\text{act}}}_\\text{embedded}-\\gamma^{A_{\\text{act}}})(h^{A_{\\text{act}} \\text{ in } B_{\\text{env}}} - h )\\big]$$\n",
    "\n",
    "\n",
    "- as : $h^{A_{\\text{act}} \\text{ in } B_{\\text{env}}} = h^{\\text{core}} + v^{\\text{embed}}$\n",
    "- we can re-write the first order correction as:\n",
    "\n",
    "$$\\mathcal{Trace}\\big[(\\gamma^{A_{\\text{act}}}_\\text{embedded}-\\gamma^{A_{\\text{act}}})(h^{A_{\\text{act}} \\text{ in } B_{\\text{env}}} - h )\\big] = \\mathcal{Trace}\\big[(\\gamma^{A_{\\text{act}}}_\\text{embedded}-\\gamma^{A_{\\text{act}}})(v^{\\text{embed}})\\big]$$"
   ]
  },
  {
   "cell_type": "code",
   "execution_count": null,
   "metadata": {},
   "outputs": [],
   "source": [
    "correction = (matrix_dot(v_emb, density_emb - dm_active))\n",
    "correction"
   ]
  },
  {
   "cell_type": "code",
   "execution_count": null,
   "metadata": {},
   "outputs": [],
   "source": [
    "e_mf_emb = e_act_emb + E_env + two_e_cross + full_system_scf.energy_nuc() + correction\n",
    "e_mf_emb # <-- energy from embedded DFT calc"
   ]
  },
  {
   "cell_type": "code",
   "execution_count": null,
   "metadata": {},
   "outputs": [],
   "source": [
    "full_system_scf.e_tot # <-- energy from normal DFT calc"
   ]
  },
  {
   "cell_type": "code",
   "execution_count": null,
   "metadata": {},
   "outputs": [],
   "source": []
  },
  {
   "cell_type": "code",
   "execution_count": null,
   "metadata": {},
   "outputs": [],
   "source": [
    "my_fci.e_tot # <-- energy from CI calc"
   ]
  },
  {
   "cell_type": "code",
   "execution_count": null,
   "metadata": {},
   "outputs": [],
   "source": []
  },
  {
   "cell_type": "markdown",
   "metadata": {},
   "source": [
    "## higher level DFT calc\n",
    "\n",
    "- we can calculate $\\mathcal{E}[\\gamma^{A_{\\text{act}}}_\\text{embedded}]$ using a better functional"
   ]
  },
  {
   "cell_type": "code",
   "execution_count": null,
   "metadata": {},
   "outputs": [],
   "source": [
    "full_system_mol_HIGH_LEVEL_DFT = gto.Mole(atom= geometry,\n",
    "                      basis=basis,\n",
    "                       charge=0,\n",
    "                       #spin=0,\n",
    "                      )\n",
    "full_system_mol_HIGH_LEVEL_DFT.build()\n",
    "\n",
    "full_system_scf_HIGH_LEVEL = scf.RKS(full_system_mol_HIGH_LEVEL_DFT)\n",
    "full_system_scf_HIGH_LEVEL.verbose=1\n",
    "full_system_scf_HIGH_LEVEL.max_memory= 8_000\n",
    "full_system_scf_HIGH_LEVEL.conv_tol = 1e-6\n",
    "full_system_scf_HIGH_LEVEL.xc = high_level_xc_functional # <-- BETTER functional!\n",
    "# full_system_scf_HIGH_LEVEL.kernel()"
   ]
  },
  {
   "cell_type": "code",
   "execution_count": null,
   "metadata": {},
   "outputs": [],
   "source": []
  },
  {
   "cell_type": "code",
   "execution_count": null,
   "metadata": {},
   "outputs": [],
   "source": [
    "e_act_emb_HIGH_LVL = full_system_scf_HIGH_LEVEL.energy_elec(dm=density_emb)\n",
    "e_act_emb_HIGH_LVL # run energy calc using high level functional (note density matrix is embedded A)"
   ]
  },
  {
   "cell_type": "code",
   "execution_count": null,
   "metadata": {},
   "outputs": [],
   "source": [
    "e_act_emb_HIGH_LVL[0]"
   ]
  },
  {
   "cell_type": "code",
   "execution_count": null,
   "metadata": {},
   "outputs": [],
   "source": [
    "E_high_lvl_DFT = e_act_emb_HIGH_LVL[0] + E_env + two_e_cross + full_system_scf.energy_nuc() + correction\n",
    "E_high_lvl_DFT # <-- energy from embedded DFT calc"
   ]
  },
  {
   "cell_type": "code",
   "execution_count": null,
   "metadata": {},
   "outputs": [],
   "source": [
    "print('High level DFT in DFT error:', np.abs(E_high_lvl_DFT-my_fci.e_tot))\n",
    "\n",
    "print('LOW level DFT in DFT error:', np.abs(e_mf_emb-my_fci.e_tot))"
   ]
  },
  {
   "cell_type": "code",
   "execution_count": null,
   "metadata": {},
   "outputs": [],
   "source": []
  },
  {
   "cell_type": "markdown",
   "metadata": {},
   "source": [
    "# Perform high level WaveFunction calc"
   ]
  },
  {
   "cell_type": "markdown",
   "metadata": {},
   "source": [
    "- we can calculate $\\mathcal{E}[\\gamma^{A_{\\text{act}}}_\\text{embedded}]$ using Wf methods now"
   ]
  },
  {
   "cell_type": "code",
   "execution_count": null,
   "metadata": {},
   "outputs": [],
   "source": []
  },
  {
   "cell_type": "markdown",
   "metadata": {},
   "source": [
    "# WF calculation\n",
    "\n",
    "1. Perform HF calc using embedded Hcore to find gamma_act_emb"
   ]
  },
  {
   "cell_type": "code",
   "execution_count": null,
   "metadata": {},
   "outputs": [],
   "source": [
    "full_system_mol_EMBEDDED_HF = gto.Mole(atom= geometry,\n",
    "                      basis=basis,\n",
    "                       charge=0,\n",
    "                       #spin=0,\n",
    "                      )\n",
    "full_system_mol_EMBEDDED_HF.build()\n",
    "\n",
    "# RE-DEFINE number of electrons in system\n",
    "full_system_mol_EMBEDDED_HF.nelectron = 2*len(active_ao_ind)\n",
    "\n",
    "EMBEDDED_full_system_scf_HF = scf.RHF(full_system_mol_EMBEDDED)\n",
    "EMBEDDED_full_system_scf_HF.verbose=1\n",
    "EMBEDDED_full_system_scf_HF.max_memory= 8_000\n",
    "EMBEDDED_full_system_scf_HF.conv_tol = 1e-6\n",
    "# EMBEDDED_full_system_scf_HF.xc = low_level_xc_functional_or_HF\n",
    "\n",
    "h_core = EMBEDDED_full_system_scf_HF.get_hcore()\n",
    "\n",
    "# overwrite h_core to include embedding term!!!!\n",
    "EMBEDDED_full_system_scf_HF.get_hcore = lambda *args: v_emb + h_core\n",
    "\n",
    "\n",
    "EMBEDDED_full_system_scf_HF.kernel()"
   ]
  },
  {
   "cell_type": "code",
   "execution_count": null,
   "metadata": {},
   "outputs": [],
   "source": [
    "EMBEDDED_full_system_scf_HF.conv_check"
   ]
  },
  {
   "cell_type": "code",
   "execution_count": null,
   "metadata": {},
   "outputs": [],
   "source": [
    "EMBEDDED_occ_orbs_HF = EMBEDDED_full_system_scf_HF.mo_coeff[:,EMBEDDED_full_system_scf_HF.mo_occ>0]\n",
    "\n",
    "# optimized embedded denisty matrix\n",
    "density_emb_HF = 2 * EMBEDDED_occ_orbs_HF @ EMBEDDED_occ_orbs_HF.conj().T\n",
    "\n",
    "## check number of electrons makes sense:\n",
    "np.isclose(np.trace(density_emb_HF@S), 2*len(active_ao_ind))"
   ]
  },
  {
   "cell_type": "code",
   "execution_count": null,
   "metadata": {},
   "outputs": [],
   "source": [
    "e_hf_check = EMBEDDED_full_system_scf_HF.energy_tot(dm=density_emb_HF, \n",
    "                                         vhf=EMBEDDED_full_system_scf_HF.get_veff())\n",
    "e_hf_check"
   ]
  },
  {
   "cell_type": "markdown",
   "metadata": {},
   "source": [
    "# Next\n",
    "\n",
    "2. Run WF method using embedded h_core"
   ]
  },
  {
   "cell_type": "code",
   "execution_count": null,
   "metadata": {},
   "outputs": [],
   "source": [
    "embedded_cc_obj = cc.CCSD(EMBEDDED_full_system_scf_HF)\n",
    "\n",
    "embedded_cc_obj.nocc = EMBEDDED_full_system_scf_HF.mol.nelectron // 2\n",
    "embedded_cc_obj.nmo = EMBEDDED_full_system_scf_HF.mo_energy.size\n",
    "# NEED to redefine embedded h_core again!\n",
    "embedded_cc_obj._scf.get_hcore = lambda *args: v_emb + h_core\n",
    "e_cc, t1, t2 = embedded_cc_obj.kernel()"
   ]
  },
  {
   "cell_type": "code",
   "execution_count": null,
   "metadata": {},
   "outputs": [],
   "source": []
  },
  {
   "cell_type": "code",
   "execution_count": null,
   "metadata": {},
   "outputs": [],
   "source": [
    "embedded_cc_obj = cc.CCSD(EMBEDDED_full_system_scf_HF)\n",
    "\n",
    "# NEED to redefine embedded h_core again!\n",
    "embedded_cc_obj._scf.get_hcore = lambda *args: v_emb + h_core\n",
    "e_cc, t1, t2 = embedded_cc_obj.kernel()"
   ]
  },
  {
   "cell_type": "code",
   "execution_count": null,
   "metadata": {},
   "outputs": [],
   "source": []
  },
  {
   "cell_type": "code",
   "execution_count": null,
   "metadata": {},
   "outputs": [],
   "source": [
    "np.isclose(embedded_cc_obj.e_hf,e_hf_check) # check HF and CC_hf match!"
   ]
  },
  {
   "cell_type": "code",
   "execution_count": null,
   "metadata": {},
   "outputs": [],
   "source": [
    "C_wf = embedded_cc_obj.mo_coeff[:,EMBEDDED_full_system_scf_HF.mo_occ>0] # take occupied C_coeff\n",
    "\n",
    "dm_wf = 2* C_wf @ C_wf.conj().T # THIS is embedded dm matrix from cc calc!\n",
    "np.isclose(np.trace(dm_wf@S), 2*len(active_ao_ind))"
   ]
  },
  {
   "cell_type": "code",
   "execution_count": null,
   "metadata": {},
   "outputs": [],
   "source": [
    "# check everything makes sense:\n",
    "embedded_cc_obj.e_tot == EMBEDDED_full_system_scf_HF.energy_tot(dm=dm_wf) + e_cc"
   ]
  },
  {
   "cell_type": "code",
   "execution_count": null,
   "metadata": {},
   "outputs": [],
   "source": []
  },
  {
   "cell_type": "code",
   "execution_count": null,
   "metadata": {},
   "outputs": [],
   "source": [
    "WF_correction = (matrix_dot(v_emb, dm_wf - dm_active))\n",
    "WF_correction"
   ]
  },
  {
   "cell_type": "markdown",
   "metadata": {},
   "source": [
    "# Finally\n",
    "3. Run everything again, using optimized embedded density matrix using standard system obj!"
   ]
  },
  {
   "cell_type": "code",
   "execution_count": null,
   "metadata": {},
   "outputs": [],
   "source": [
    "full_system_mol_HF_normal_obj = gto.Mole(atom= geometry,\n",
    "                      basis=basis,\n",
    "                       charge=0,\n",
    "                       #spin=0,\n",
    "                      )\n",
    "full_system_mol_HF_normal_obj.build()\n",
    "\n",
    "# redefine number of electrons in system\n",
    "full_system_mol_HF_normal_obj.nelectron = 2*len(active_ao_ind)\n",
    "\n",
    "full_system_scf_HF_normal_obj = scf.RHF(full_system_mol_HF_normal_obj)\n",
    "full_system_scf_HF_normal_obj.verbose=1\n",
    "full_system_scf_HF_normal_obj.max_memory= 8_000\n",
    "full_system_scf_HF_normal_obj.conv_tol = 1e-6\n",
    "\n",
    "# do NOT redefine h_core to be embedded\n",
    "\n",
    "# Also don't run kernel, as we have op density matrix"
   ]
  },
  {
   "cell_type": "code",
   "execution_count": null,
   "metadata": {},
   "outputs": [],
   "source": [
    "h1e=full_system_scf_HF_normal_obj.get_hcore()\n",
    "s1e=full_system_scf_HF_normal_obj.get_ovlp()\n",
    "vhf=full_system_scf_HF_normal_obj.get_veff(dm=dm_wf) # <-- gamma_A_embedded!\n",
    "\n",
    "\n",
    "fock = full_system_scf_HF_normal_obj.get_fock(h1e,\n",
    "                                              s1e,\n",
    "                                              vhf,\n",
    "                                              dm_wf)  # <-- gamma_A_embedded!\n",
    "\n",
    "\n",
    "mo_energy, mo_coeff = full_system_scf_HF_normal_obj.eig(fock, s1e)\n",
    "mo_occ = full_system_scf_HF_normal_obj.get_occ(mo_energy, mo_coeff)\n",
    "e_tot = full_system_scf_HF_normal_obj.energy_tot(dm_wf, # <-- gamma_A_embedded!\n",
    "                                                          h1e, vhf)\n",
    "\n",
    "\n",
    "# full_system_scf_HF_normal_obj.mo_coeff = mo_coeff\n",
    "full_system_scf_HF_normal_obj.mo_coeff =  embedded_cc_obj.mo_coeff#[:,embedded_wf.mo_occ>0] # take occupied C_coeff\n",
    "\n",
    "# full_system_scf_HF_normal_obj.mo_energy = mo_energy\n",
    "full_system_scf_HF_normal_obj.mo_occ = mo_occ\n",
    "full_system_scf_HF_normal_obj.e_tot = e_tot\n",
    "e_tot"
   ]
  },
  {
   "cell_type": "code",
   "execution_count": null,
   "metadata": {},
   "outputs": [],
   "source": [
    "full_system_scf_HF_normal_obj.energy_tot(dm=dm_wf)"
   ]
  },
  {
   "cell_type": "code",
   "execution_count": null,
   "metadata": {},
   "outputs": [],
   "source": [
    "# ## checking if mo_energy makes sense (as overwriting mo_coeff)\n",
    "# S_neg1 = sp.linalg.inv(s1e)\n",
    "# C_neg1 = sp.linalg.inv(EMBEDDED_full_system_scf.mo_coeff)\n",
    "\n",
    "# e = C_neg1 @ S_neg1 @ fock @ EMBEDDED_full_system_scf.mo_coeff\n",
    "\n",
    "# u, E, V = np.linalg.svd(e)\n",
    "\n",
    "# np.allclose(np.abs(mo_energy[mo_occ>0]), np.abs(E[mo_occ>0]))"
   ]
  },
  {
   "cell_type": "code",
   "execution_count": null,
   "metadata": {},
   "outputs": [],
   "source": [
    "cc_standard_obj = cc.CCSD(full_system_scf_HF_normal_obj)\n",
    "\n",
    "\n",
    "# embedded_cc_obj.nocc = EMBEDDED_full_system_scf_HF.mol.nelectron // 2\n",
    "# embedded_cc_obj.nmo = EMBEDDED_full_system_scf_HF.mo_energy.size\n",
    "\n",
    "e_cc, t1_standard, t2_standard = cc_standard_obj.kernel()\n",
    "\n",
    "np.isclose(cc_standard_obj.e_hf, e_tot)"
   ]
  },
  {
   "cell_type": "code",
   "execution_count": null,
   "metadata": {},
   "outputs": [],
   "source": [
    "C_wf = embedded_cc_obj.mo_coeff # take embedded gamma and calc energy WITHOUT embedded H\n",
    "eris = cc_standard_obj.ao2mo(mo_coeff=C_wf)\n",
    "\n",
    "# calculate coupled cluster correction to e_hf with same t1 and t2 as found using embedded Hcore\n",
    "e_cc_standard_with_embedded_Density = cc_standard_obj.energy(t1, t2, eris)\n",
    "\n",
    "# calculate coupled cluster correction to e_hf with NEW t1 and t2 found using WITHOUT embedded Hcore\n",
    "# BUT use C matrix from embedded Hcore calculation!\n",
    "# e_cc_standard_with_embedded_Density = cc_standard_obj.energy(t1_standard, t2_standard, eris)\n",
    "\n",
    "\n",
    "e_cc_standard_with_embedded_Density"
   ]
  },
  {
   "cell_type": "code",
   "execution_count": null,
   "metadata": {},
   "outputs": [],
   "source": []
  },
  {
   "cell_type": "code",
   "execution_count": null,
   "metadata": {},
   "outputs": [],
   "source": [
    "C_wf_opt = cc_standard_obj.mo_coeff[:,cc_standard_obj.mo_occ>0] # take occupied C_coeff\n",
    "\n",
    "dm_wf_opt = 2* C_wf_opt @ C_wf_opt.conj().T\n",
    "\n",
    "print('checking no. of electrons is correct:', np.isclose(np.trace(dm_wf_opt@s1e), 2*len(active_ao_ind)))\n",
    "print()\n",
    "print('checking CC dm matrix matches embedded dm matrix:', np.allclose(dm_wf_opt, dm_wf))"
   ]
  },
  {
   "cell_type": "code",
   "execution_count": null,
   "metadata": {},
   "outputs": [],
   "source": []
  },
  {
   "cell_type": "code",
   "execution_count": null,
   "metadata": {},
   "outputs": [],
   "source": [
    "E_WF_standard_obj = (cc_standard_obj.e_tot \n",
    "                     + E_env + two_e_cross + WF_correction)\n",
    "# E__WF # <-- energy from embedded WF calc\n",
    "\n",
    "np.abs(E_WF_standard_obj-my_fci.e_tot)"
   ]
  },
  {
   "cell_type": "code",
   "execution_count": null,
   "metadata": {},
   "outputs": [],
   "source": [
    "E_WF_standard_obj = (cc_standard_obj.e_hf + e_cc_standard_with_embedded_Density\n",
    "                     + E_env + two_e_cross + WF_correction)\n",
    "# E__WF # <-- energy from embedded WF calc\n",
    "\n",
    "np.abs(E_WF_standard_obj-my_fci.e_tot)"
   ]
  },
  {
   "cell_type": "code",
   "execution_count": null,
   "metadata": {},
   "outputs": [],
   "source": [
    "E_WF_standard_obj = (cc_standard_obj.e_corr + e_tot \n",
    "                     + E_env + two_e_cross + WF_correction)\n",
    "# E__WF # <-- energy from embedded WF calc\n",
    "\n",
    "np.abs(E_WF_standard_obj-my_fci.e_tot)"
   ]
  },
  {
   "cell_type": "code",
   "execution_count": null,
   "metadata": {},
   "outputs": [],
   "source": [
    "dsaas"
   ]
  },
  {
   "cell_type": "markdown",
   "metadata": {},
   "source": [
    "# OTHER WF way\n",
    "\n",
    "1. Run higher level method using dm from RKS\n",
    "2. don't try use HF to find other embedded gamma_A"
   ]
  },
  {
   "cell_type": "code",
   "execution_count": null,
   "metadata": {},
   "outputs": [],
   "source": [
    "alt_full_system_mol_HF_normal_obj = gto.Mole(atom= geometry,\n",
    "                      basis=basis,\n",
    "                       charge=0,\n",
    "                       #spin=0,\n",
    "                      )\n",
    "alt_full_system_mol_HF_normal_obj.build()\n",
    "\n",
    "# redefine number of electrons in system\n",
    "alt_full_system_mol_HF_normal_obj.nelectron = 2*len(active_ao_ind)\n",
    "\n",
    "alt_full_system_scf_HF_normal_obj = scf.RHF(alt_full_system_mol_HF_normal_obj)\n",
    "alt_full_system_scf_HF_normal_obj.verbose=1\n",
    "alt_full_system_scf_HF_normal_obj.max_memory= 8_000\n",
    "alt_full_system_scf_HF_normal_obj.conv_tol = 1e-6\n",
    "\n",
    "# do NOT redefine h_core to be embedded\n",
    "\n",
    "# Also don't run kernel, as we have op density matrix\n",
    "\n",
    "\n",
    "\n",
    "h1e=alt_full_system_scf_HF_normal_obj.get_hcore()\n",
    "s1e=alt_full_system_scf_HF_normal_obj.get_ovlp()\n",
    "vhf=alt_full_system_scf_HF_normal_obj.get_veff(dm=density_emb) # <-- gamma_A_embedded from DFT calc!\n",
    "\n",
    "\n",
    "fock = alt_full_system_scf_HF_normal_obj.get_fock(h1e,\n",
    "                                              s1e,\n",
    "                                              vhf,\n",
    "                                              density_emb)  # <-- gamma_A_embedded!\n",
    "\n",
    "\n",
    "\n",
    "mo_energy, mo_coeff = alt_full_system_scf_HF_normal_obj.eig(fock, s1e)\n",
    "mo_occ = alt_full_system_scf_HF_normal_obj.get_occ(mo_energy, mo_coeff)\n",
    "e_tot = alt_full_system_scf_HF_normal_obj.energy_tot(density_emb, # <-- gamma_A_embedded!\n",
    "                                                          h1e, vhf)\n",
    "\n",
    "\n",
    "\n",
    "###########################\n",
    "\n",
    "# something going WRONG HERE\n",
    "# should set:\n",
    "#             alt_full_system_scf_HF_normal_obj.mo_coeff = EMBEDDED_full_system_scf.mo_coeff\n",
    "# rather than updated version from eig\n",
    "\n",
    "alt_full_system_scf_HF_normal_obj.mo_coeff = mo_coeff\n",
    "\n",
    "# alt_full_system_scf_HF_normal_obj.mo_coeff =  EMBEDDED_full_system_scf.mo_coeff\n",
    "\n",
    "# C_pseduo_inv = np.linalg.pinv(EMBEDDED_full_system_scf.mo_coeff)\n",
    "# C_pseudo = sp.linalg.inv(C_pseduo_inv)\n",
    "# alt_full_system_scf_HF_normal_obj.mo_coeff = C_pseudo\n",
    "\n",
    "##############################\n",
    "\n",
    "\n",
    "\n",
    "alt_full_system_scf_HF_normal_obj.mo_energy = mo_energy\n",
    "alt_full_system_scf_HF_normal_obj.mo_occ = mo_occ\n",
    "alt_full_system_scf_HF_normal_obj.e_tot = e_tot\n",
    "e_tot"
   ]
  },
  {
   "cell_type": "code",
   "execution_count": null,
   "metadata": {},
   "outputs": [],
   "source": [
    "alt_full_system_scf_HF_normal_obj.energy_tot(dm=density_emb)"
   ]
  },
  {
   "cell_type": "code",
   "execution_count": null,
   "metadata": {},
   "outputs": [],
   "source": [
    "np.allclose(alt_full_system_scf_HF_normal_obj.make_rdm1(\n",
    "        EMBEDDED_full_system_scf.mo_coeff, EMBEDDED_full_system_scf.mo_occ)\n",
    "            , density_emb)"
   ]
  },
  {
   "cell_type": "code",
   "execution_count": null,
   "metadata": {},
   "outputs": [],
   "source": []
  },
  {
   "cell_type": "code",
   "execution_count": null,
   "metadata": {},
   "outputs": [],
   "source": [
    "alt_cc_standard_obj = cc.CCSD(alt_full_system_scf_HF_normal_obj)\n",
    "# cc_standard_obj.diis = False\n",
    "\n",
    "# embedded_cc_obj.nocc = EMBEDDED_full_system_scf_HF.mol.nelectron // 2\n",
    "# embedded_cc_obj.nmo = EMBEDDED_full_system_scf_HF.mo_energy.size\n",
    "\n",
    "e_cc, t1_standard, t2_standard = alt_cc_standard_obj.kernel()\n",
    "\n",
    "np.isclose(alt_cc_standard_obj.e_hf, e_tot)"
   ]
  },
  {
   "cell_type": "code",
   "execution_count": null,
   "metadata": {},
   "outputs": [],
   "source": [
    "E_WF_standard_obj = (alt_cc_standard_obj.e_corr + e_tot\n",
    "                     + E_env + two_e_cross + WF_correction)\n",
    "# E__WF # <-- energy from embedded WF calc\n",
    "\n",
    "np.abs(E_WF_standard_obj-my_fci.e_tot)"
   ]
  },
  {
   "cell_type": "code",
   "execution_count": null,
   "metadata": {},
   "outputs": [],
   "source": [
    "C_wf_opt = alt_cc_standard_obj.mo_coeff[:,cc_standard_obj.mo_occ>0] # take occupied C_coeff\n",
    "\n",
    "dm_wf_opt = 2* C_wf_opt @ C_wf_opt.conj().T\n",
    "\n",
    "print('checking no. of electrons is correct:', np.isclose(np.trace(dm_wf_opt@s1e), 2*len(active_ao_ind)))\n",
    "print()\n",
    "print('checking CC dm matrix matches embedded dm matrix:', np.allclose(dm_wf_opt, density_emb))"
   ]
  },
  {
   "cell_type": "code",
   "execution_count": null,
   "metadata": {},
   "outputs": [],
   "source": [
    "# if CC dm matrix is not matching, this is due to NOT setting:\n",
    "#     alt_full_system_scf_HF_normal_obj.mo_coeff = EMBEDDED_full_system_scf.mo_coeff"
   ]
  },
  {
   "cell_type": "code",
   "execution_count": null,
   "metadata": {},
   "outputs": [],
   "source": []
  },
  {
   "cell_type": "code",
   "execution_count": null,
   "metadata": {},
   "outputs": [],
   "source": [
    "alt_cc_standard_obj.e_hf"
   ]
  },
  {
   "cell_type": "code",
   "execution_count": null,
   "metadata": {},
   "outputs": [],
   "source": [
    "cc_standard_obj.e_hf + e_cc_standard_with_embedded_Density"
   ]
  },
  {
   "cell_type": "code",
   "execution_count": null,
   "metadata": {},
   "outputs": [],
   "source": []
  },
  {
   "cell_type": "code",
   "execution_count": null,
   "metadata": {},
   "outputs": [],
   "source": []
  },
  {
   "cell_type": "markdown",
   "metadata": {},
   "source": [
    "# QC work"
   ]
  },
  {
   "cell_type": "markdown",
   "metadata": {},
   "source": [
    "$$H_{fermionic} = h_{nuc} + \\sum_{p, q} h_{pq} a_{p}^{\\dagger} a_{q} + \\frac{1}{2} \\sum_{p, q ,r ,s} h_{pqrs} a_{p}^{\\dagger} a_{q}^{\\dagger} a_{r} a_{s}$$\n",
    "\n",
    "where:\n",
    "\n",
    "- $$h_{pq} = \\int d{\\vec{x}} \\phi_{p}^{*}({\\vec{x}}) \\bigg( - \\frac{\\nabla^{2}_{{\\vec{r}}}}{2} - \\sum_{I} \\frac{Z_{I}}{|{\\vec{r}} - {\\vec{R}_{I}} |} \\bigg) \\phi_{q}({\\vec{x}})$$\n",
    "\n",
    "\n",
    "- $$h_{pqrs} = \\int d{\\vec{x}}_{1} d{\\vec{x}}_{2} \\frac{\\phi_{p}^{*}({\\vec{x}}_{1}) \\phi_{q}^{*}({\\vec{x}}_{2}) \\phi_{s}({\\vec{x}}_{1}) \\phi_{r}({\\vec{x}}_{2})}{|{\\vec{r}_{1}} - {\\vec{r}}_{2}|}$$ \n",
    "\n",
    "\n",
    "- $$h_{nuc} = \\frac{1}{2} \\sum_{I \\neq J} \\frac{Z_{I} Z_{J}}{| {\\vec{R}}_{I} - {\\vec{R}}_{J}|}$$"
   ]
  },
  {
   "cell_type": "code",
   "execution_count": null,
   "metadata": {},
   "outputs": [],
   "source": []
  },
  {
   "cell_type": "code",
   "execution_count": null,
   "metadata": {},
   "outputs": [],
   "source": [
    "#2D array for one-body Hamiltonian (H_core) in the MO representation\n",
    "\n",
    "Hcore_normal =  full_system_scf_HF_normal_obj.get_hcore()\n",
    "# canonical_orbitals  = full_system_scf_HF_normal_obj.mo_coeff # HF calc WITH embedded density matrix, but standard molecule obj!\n",
    "canonical_orbitals  = full_system_scf_HF_normal_obj.mo_coeff[:,full_system_scf_HF_normal_obj.mo_occ>0]\n",
    "\n",
    "one_body_integrals = canonical_orbitals.conj().T @ Hcore_normal @ canonical_orbitals\n",
    "one_body_integrals.shape"
   ]
  },
  {
   "cell_type": "code",
   "execution_count": null,
   "metadata": {},
   "outputs": [],
   "source": []
  },
  {
   "cell_type": "code",
   "execution_count": null,
   "metadata": {},
   "outputs": [],
   "source": [
    "# A 4-dimension array for electron repulsion integrals in the MO\n",
    "# representation.  The integrals are computed as\n",
    "# h[p,q,r,s]=\\int \\phi_p(x)* \\phi_q(y)* V_{elec-elec} \\phi_r(y) \\phi_s(x) dxdy\n",
    "from pyscf import ao2mo\n",
    "\n",
    "\n",
    "eri = ao2mo.kernel(full_system_mol_HF_normal_obj, canonical_orbitals)\n",
    "n_orbitals = canonical_orbitals.shape[1]\n",
    "eri = ao2mo.restore(1, # no permutation symmetry\n",
    "                      eri, \n",
    "                    n_orbitals)\n",
    "\n",
    "\n",
    "two_body_integrals = np.asarray(eri.transpose(0, 2, 3, 1), order='C')\n",
    "two_body_integrals.shape"
   ]
  },
  {
   "cell_type": "code",
   "execution_count": null,
   "metadata": {},
   "outputs": [],
   "source": []
  },
  {
   "cell_type": "code",
   "execution_count": null,
   "metadata": {},
   "outputs": [],
   "source": [
    "def spinorb_from_spatial(one_body_integrals, two_body_integrals):\n",
    "    EQ_TOLERANCE=1e-8\n",
    "    n_qubits = 2 * one_body_integrals.shape[0]\n",
    "\n",
    "    # Initialize Hamiltonian coefficients.\n",
    "    one_body_coefficients = np.zeros((n_qubits, n_qubits))\n",
    "    two_body_coefficients = np.zeros(\n",
    "        (n_qubits, n_qubits, n_qubits, n_qubits))\n",
    "    # Loop through integrals.\n",
    "    for p in range(n_qubits // 2):\n",
    "        for q in range(n_qubits // 2):\n",
    "\n",
    "            # Populate 1-body coefficients. Require p and q have same spin.\n",
    "            one_body_coefficients[2 * p, 2 * q] = one_body_integrals[p, q]\n",
    "            one_body_coefficients[2 * p + 1, 2 * q +\n",
    "                                  1] = one_body_integrals[p, q]\n",
    "            # Continue looping to prepare 2-body coefficients.\n",
    "            for r in range(n_qubits // 2):\n",
    "                for s in range(n_qubits // 2):\n",
    "\n",
    "                    # Mixed spin\n",
    "                    two_body_coefficients[2 * p, 2 * q + 1, 2 * r + 1, 2 *\n",
    "                                          s] = (two_body_integrals[p, q, r, s])\n",
    "                    two_body_coefficients[2 * p + 1, 2 * q, 2 * r, 2 * s +\n",
    "                                          1] = (two_body_integrals[p, q, r, s])\n",
    "\n",
    "                    # Same spin\n",
    "                    two_body_coefficients[2 * p, 2 * q, 2 * r, 2 *\n",
    "                                          s] = (two_body_integrals[p, q, r, s])\n",
    "                    two_body_coefficients[2 * p + 1, 2 * q + 1, 2 * r +\n",
    "                                          1, 2 * s +\n",
    "                                          1] = (two_body_integrals[p, q, r, s])\n",
    "\n",
    "    # Truncate.\n",
    "    one_body_coefficients[\n",
    "        np.absolute(one_body_coefficients) < EQ_TOLERANCE] = 0.\n",
    "    two_body_coefficients[\n",
    "        np.absolute(two_body_coefficients) < EQ_TOLERANCE] = 0.\n",
    "\n",
    "    return one_body_coefficients, two_body_coefficients\n"
   ]
  },
  {
   "cell_type": "code",
   "execution_count": null,
   "metadata": {},
   "outputs": [],
   "source": [
    "one_body_coefficients, two_body_coefficients = spinorb_from_spatial(one_body_integrals,\n",
    "                                                                    two_body_integrals)"
   ]
  },
  {
   "cell_type": "code",
   "execution_count": null,
   "metadata": {},
   "outputs": [],
   "source": [
    "from openfermion.ops.representations import InteractionOperator\n",
    "\n",
    "constant = full_system_scf.energy_nuc() \n",
    "\n",
    "molecular_hamiltonian = InteractionOperator(constant,\n",
    "                                            one_body_coefficients,\n",
    "                                            1 / 2 * two_body_coefficients)\n",
    "\n",
    "n_qubits = two_body_coefficients.shape[0]\n",
    "\n",
    "from openfermion.transforms import jordan_wigner\n",
    "Qubit_Hamiltonian = jordan_wigner(molecular_hamiltonian)"
   ]
  },
  {
   "cell_type": "code",
   "execution_count": null,
   "metadata": {},
   "outputs": [],
   "source": [
    "len(list(Qubit_Hamiltonian))"
   ]
  },
  {
   "cell_type": "code",
   "execution_count": null,
   "metadata": {},
   "outputs": [],
   "source": [
    "from openfermion import get_sparse_operator\n",
    "H_matrix = get_sparse_operator(Qubit_Hamiltonian)"
   ]
  },
  {
   "cell_type": "code",
   "execution_count": null,
   "metadata": {},
   "outputs": [],
   "source": [
    "from scipy.linalg import eigh\n",
    "eig_val, eig_vec = eigh(H_matrix.todense())\n"
   ]
  },
  {
   "cell_type": "code",
   "execution_count": null,
   "metadata": {},
   "outputs": [],
   "source": [
    "min(eig_val)"
   ]
  },
  {
   "cell_type": "code",
   "execution_count": null,
   "metadata": {},
   "outputs": [],
   "source": [
    "E_VQE = min(eig_val)"
   ]
  },
  {
   "cell_type": "code",
   "execution_count": null,
   "metadata": {},
   "outputs": [],
   "source": [
    "E_VQE_in_DFT = (E_VQE + \n",
    "                E_env + two_e_cross + WF_correction)\n",
    "E_VQE_in_DFT"
   ]
  },
  {
   "cell_type": "code",
   "execution_count": null,
   "metadata": {},
   "outputs": [],
   "source": [
    "np.abs(E_VQE_in_DFT-my_fci.e_tot)"
   ]
  },
  {
   "cell_type": "code",
   "execution_count": null,
   "metadata": {},
   "outputs": [],
   "source": []
  },
  {
   "cell_type": "code",
   "execution_count": null,
   "metadata": {},
   "outputs": [],
   "source": []
  },
  {
   "cell_type": "code",
   "execution_count": null,
   "metadata": {},
   "outputs": [],
   "source": [
    "TODO everything below here\n",
    "\n",
    "# incorrect code below!"
   ]
  },
  {
   "cell_type": "code",
   "execution_count": null,
   "metadata": {},
   "outputs": [],
   "source": []
  },
  {
   "cell_type": "code",
   "execution_count": null,
   "metadata": {},
   "outputs": [],
   "source": []
  },
  {
   "cell_type": "code",
   "execution_count": null,
   "metadata": {},
   "outputs": [],
   "source": []
  },
  {
   "cell_type": "code",
   "execution_count": null,
   "metadata": {},
   "outputs": [],
   "source": []
  },
  {
   "cell_type": "code",
   "execution_count": null,
   "metadata": {},
   "outputs": [],
   "source": []
  },
  {
   "cell_type": "code",
   "execution_count": null,
   "metadata": {},
   "outputs": [],
   "source": []
  },
  {
   "cell_type": "code",
   "execution_count": null,
   "metadata": {},
   "outputs": [],
   "source": []
  },
  {
   "cell_type": "code",
   "execution_count": null,
   "metadata": {},
   "outputs": [],
   "source": []
  },
  {
   "cell_type": "code",
   "execution_count": null,
   "metadata": {},
   "outputs": [],
   "source": [
    "#2D array for one-body Hamiltonian (H_core) in the MO representation\n",
    "\n",
    "EMBEDDED_Hcore =  full_system_scf_HIGH_LEVEL_HF.get_hcore()\n",
    "canonical_orbitals  = full_system_scf_HIGH_LEVEL_HF.mo_coeff \n",
    "\n",
    "one_body_integrals = canonical_orbitals.conj().T @ EMBEDDED_Hcore @ canonical_orbitals\n",
    "one_body_integrals.shape"
   ]
  },
  {
   "cell_type": "code",
   "execution_count": null,
   "metadata": {},
   "outputs": [],
   "source": [
    "# A 4-dimension array for electron repulsion integrals in the MO\n",
    "# representation.  The integrals are computed as\n",
    "# h[p,q,r,s]=\\int \\phi_p(x)* \\phi_q(y)* V_{elec-elec} \\phi_r(y) \\phi_s(x) dxdy\n",
    "from pyscf import ao2mo\n",
    "\n",
    "# eri = ao2mo.kernel(EMBEDDED_HF_full_system_scf, canonical_orbitals)\n",
    "\n",
    "eri = ao2mo.kernel(full_system_mol_HIGH_LEVEL_WF_mol, canonical_orbitals)\n",
    "n_orbitals = canonical_orbitals.shape[1]\n",
    "eri = ao2mo.restore(1, # no permutation symmetry\n",
    "                                eri, n_orbitals)\n",
    "\n",
    "\n",
    "two_body_integrals = np.asarray(eri.transpose(0, 2, 3, 1), order='C')\n",
    "two_body_integrals.shape"
   ]
  },
  {
   "cell_type": "code",
   "execution_count": null,
   "metadata": {},
   "outputs": [],
   "source": []
  },
  {
   "cell_type": "code",
   "execution_count": null,
   "metadata": {},
   "outputs": [],
   "source": [
    "def spinorb_from_spatial(one_body_integrals, two_body_integrals):\n",
    "    EQ_TOLERANCE=1e-8\n",
    "    n_qubits = 2 * one_body_integrals.shape[0]\n",
    "\n",
    "    # Initialize Hamiltonian coefficients.\n",
    "    one_body_coefficients = np.zeros((n_qubits, n_qubits))\n",
    "    two_body_coefficients = np.zeros(\n",
    "        (n_qubits, n_qubits, n_qubits, n_qubits))\n",
    "    # Loop through integrals.\n",
    "    for p in range(n_qubits // 2):\n",
    "        for q in range(n_qubits // 2):\n",
    "\n",
    "            # Populate 1-body coefficients. Require p and q have same spin.\n",
    "            one_body_coefficients[2 * p, 2 * q] = one_body_integrals[p, q]\n",
    "            one_body_coefficients[2 * p + 1, 2 * q +\n",
    "                                  1] = one_body_integrals[p, q]\n",
    "            # Continue looping to prepare 2-body coefficients.\n",
    "            for r in range(n_qubits // 2):\n",
    "                for s in range(n_qubits // 2):\n",
    "\n",
    "                    # Mixed spin\n",
    "                    two_body_coefficients[2 * p, 2 * q + 1, 2 * r + 1, 2 *\n",
    "                                          s] = (two_body_integrals[p, q, r, s])\n",
    "                    two_body_coefficients[2 * p + 1, 2 * q, 2 * r, 2 * s +\n",
    "                                          1] = (two_body_integrals[p, q, r, s])\n",
    "\n",
    "                    # Same spin\n",
    "                    two_body_coefficients[2 * p, 2 * q, 2 * r, 2 *\n",
    "                                          s] = (two_body_integrals[p, q, r, s])\n",
    "                    two_body_coefficients[2 * p + 1, 2 * q + 1, 2 * r +\n",
    "                                          1, 2 * s +\n",
    "                                          1] = (two_body_integrals[p, q, r, s])\n",
    "\n",
    "    # Truncate.\n",
    "    one_body_coefficients[\n",
    "        np.absolute(one_body_coefficients) < EQ_TOLERANCE] = 0.\n",
    "    two_body_coefficients[\n",
    "        np.absolute(two_body_coefficients) < EQ_TOLERANCE] = 0.\n",
    "\n",
    "    return one_body_coefficients, two_body_coefficients\n"
   ]
  },
  {
   "cell_type": "code",
   "execution_count": null,
   "metadata": {},
   "outputs": [],
   "source": [
    "one_body_coefficients, two_body_coefficients = spinorb_from_spatial(one_body_integrals,\n",
    "                                                                    two_body_integrals)"
   ]
  },
  {
   "cell_type": "code",
   "execution_count": null,
   "metadata": {},
   "outputs": [],
   "source": [
    "from openfermion.ops.representations import InteractionOperator\n",
    "\n",
    "constant = full_system_scf.energy_nuc() \n",
    "\n",
    "molecular_hamiltonian = InteractionOperator(constant,\n",
    "                                            one_body_coefficients,\n",
    "                                            1 / 2 * two_body_coefficients)\n",
    "\n",
    "n_qubits = two_body_coefficients.shape[0]\n",
    "\n",
    "from openfermion.transforms import jordan_wigner\n",
    "Qubit_Hamiltonian = jordan_wigner(molecular_hamiltonian)"
   ]
  },
  {
   "cell_type": "code",
   "execution_count": null,
   "metadata": {},
   "outputs": [],
   "source": [
    "len(list(Qubit_Hamiltonian))"
   ]
  },
  {
   "cell_type": "code",
   "execution_count": null,
   "metadata": {},
   "outputs": [],
   "source": []
  },
  {
   "cell_type": "code",
   "execution_count": null,
   "metadata": {},
   "outputs": [],
   "source": [
    "from openfermion import get_sparse_operator\n",
    "H_matrix = get_sparse_operator(Qubit_Hamiltonian)"
   ]
  },
  {
   "cell_type": "code",
   "execution_count": null,
   "metadata": {},
   "outputs": [],
   "source": []
  },
  {
   "cell_type": "code",
   "execution_count": null,
   "metadata": {},
   "outputs": [],
   "source": []
  },
  {
   "cell_type": "code",
   "execution_count": null,
   "metadata": {},
   "outputs": [],
   "source": []
  },
  {
   "cell_type": "code",
   "execution_count": null,
   "metadata": {},
   "outputs": [],
   "source": []
  },
  {
   "cell_type": "code",
   "execution_count": null,
   "metadata": {},
   "outputs": [],
   "source": []
  },
  {
   "cell_type": "code",
   "execution_count": null,
   "metadata": {},
   "outputs": [],
   "source": [
    "print(embedded_wf.e_tot)\n",
    "print(full_system_scf_HIGH_LEVEL_HF.e_tot + correlation_energy)\n",
    "# np.isclose(embedded_wf.e_tot,  )"
   ]
  },
  {
   "cell_type": "code",
   "execution_count": null,
   "metadata": {},
   "outputs": [],
   "source": []
  },
  {
   "cell_type": "code",
   "execution_count": null,
   "metadata": {},
   "outputs": [],
   "source": [
    "## not sure if this\n",
    "shift = full_system_mol.nbas - n_env_mos\n",
    "frozen_orbitals = [i for i in range(shift, full_system_mol.nbas)]\n",
    "\n",
    "## OR\n",
    "frozen_orbitals = enviro_ind_occ"
   ]
  },
  {
   "cell_type": "code",
   "execution_count": null,
   "metadata": {},
   "outputs": [],
   "source": []
  },
  {
   "cell_type": "code",
   "execution_count": null,
   "metadata": {},
   "outputs": [],
   "source": [
    "full_system_mol_EMBEDDED_HF = gto.Mole(atom= geometry,\n",
    "                      basis=basis,\n",
    "                       charge=0,\n",
    "                       #spin=0,\n",
    "                      )\n",
    "full_system_mol_EMBEDDED_HF.build()\n",
    "full_system_mol_EMBEDDED_HF.nelectron = int(np.around(np.trace(dm_active@S)))\n",
    "\n",
    "EMBEDDED_HF_full_system_scf = scf.RHF(full_system_mol_EMBEDDED_HF)\n",
    "EMBEDDED_HF_full_system_scf.verbose=1\n",
    "EMBEDDED_HF_full_system_scf.max_memory= 8_000\n",
    "EMBEDDED_HF_full_system_scf.conv_tol = 1e-6\n",
    "\n",
    "h_core = EMBEDDED_HF_full_system_scf.get_hcore()\n",
    "EMBEDDED_HF_full_system_scf.get_hcore = lambda *args: v_emb + h_core\n",
    "\n",
    "EMBEDDED_HF_full_system_scf.kernel() # <-- this would run away from psi embedded\n",
    "\n",
    "dm_act_EMBEDDED = EMBEDDED_HF_full_system_scf.make_rdm1()\n",
    "# dm_act_EMBEDDED = 2 * act_orbitals @ act_orbitals.T\n",
    "\n",
    "h1e = EMBEDDED_HF_full_system_scf.get_hcore()\n",
    "s1e = EMBEDDED_HF_full_system_scf.get_ovlp()\n",
    "vhf= EMBEDDED_HF_full_system_scf.get_veff(dm=dm_act_EMBEDDED)\n",
    "\n",
    "fock = EMBEDDED_HF_full_system_scf.get_fock(h1e, s1e, vhf, dm_act_EMBEDDED)  # = h1e + vhf, no DIIS\n",
    "mo_energy, mo_coeff = EMBEDDED_HF_full_system_scf.eig(fock, s1e)\n",
    "mo_occ = EMBEDDED_HF_full_system_scf.get_occ(mo_energy, mo_coeff)\n",
    "e_tot = EMBEDDED_HF_full_system_scf.energy_tot(dm_act_EMBEDDED, h1e, vhf)\n",
    "\n",
    "\n",
    "EMBEDDED_HF_full_system_scf.mo_energy = mo_energy\n",
    "EMBEDDED_HF_full_system_scf.mo_coeff = mo_coeff\n",
    "EMBEDDED_HF_full_system_scf.mo_occ = mo_occ\n",
    "EMBEDDED_HF_full_system_scf.e_tot = e_tot\n",
    "EMBEDDED_HF_full_system_scf.converged = True\n",
    "e_tot"
   ]
  },
  {
   "cell_type": "code",
   "execution_count": null,
   "metadata": {},
   "outputs": [],
   "source": [
    "np.trace(dm_act_EMBEDDED@S)"
   ]
  },
  {
   "cell_type": "code",
   "execution_count": null,
   "metadata": {},
   "outputs": [],
   "source": [
    "embedded_wf = cc.CCSD(EMBEDDED_HF_full_system_scf).set(frozen = frozen_orbitals).run()\n",
    "correlation_energy = embedded_wf.e_corr\n",
    "correlation_energy"
   ]
  },
  {
   "cell_type": "code",
   "execution_count": null,
   "metadata": {},
   "outputs": [],
   "source": []
  },
  {
   "cell_type": "code",
   "execution_count": null,
   "metadata": {},
   "outputs": [],
   "source": []
  },
  {
   "cell_type": "code",
   "execution_count": null,
   "metadata": {},
   "outputs": [],
   "source": [
    "# uses new embedded density matrix!\n",
    "e_act_emb_NEW = matrix_dot(dm_act_EMBEDDED, h_core + 0.5 * J_emb - 0.25 * K_emb)\n",
    "# e_act_emb_NEW = matrix_dot(dm_act_EMBEDDED, h_core + 0.5 * vhf)\n",
    "e_act_emb_NEW"
   ]
  },
  {
   "cell_type": "code",
   "execution_count": null,
   "metadata": {},
   "outputs": [],
   "source": []
  },
  {
   "cell_type": "code",
   "execution_count": null,
   "metadata": {},
   "outputs": [],
   "source": [
    "E_corrected = (e_act_emb_NEW + E_env + two_e_cross + \n",
    "               full_system_scf.energy_nuc() + correction + correlation_energy) \n",
    "E_corrected"
   ]
  },
  {
   "cell_type": "code",
   "execution_count": null,
   "metadata": {},
   "outputs": [],
   "source": [
    "HF_scf = scf.RHF(full_system_mol)\n",
    "HF_scf.verbose=1\n",
    "HF_scf.max_memory= 8_000\n",
    "HF_scf.conv_tol = 1e-6\n",
    "HF_scf.xc = low_level_xc_functional_or_HF\n",
    "HF_scf.kernel()\n",
    "\n",
    "cisolver = fci.FCI(HF_scf)\n",
    "print('E(UHF-FCI) = %.12f' % cisolver.kernel()[0])\n",
    "\n",
    "# myci = ci.CISD(HF_scf).run() # this is UCISD\n",
    "# print('UCISD total energy = ', myci.e_tot)"
   ]
  },
  {
   "cell_type": "code",
   "execution_count": null,
   "metadata": {},
   "outputs": [],
   "source": []
  },
  {
   "cell_type": "code",
   "execution_count": null,
   "metadata": {},
   "outputs": [],
   "source": [
    "abs(myci.e_tot - e_mf_emb)"
   ]
  },
  {
   "cell_type": "code",
   "execution_count": null,
   "metadata": {},
   "outputs": [],
   "source": [
    "abs(myci.e_tot - E_corrected)"
   ]
  },
  {
   "cell_type": "code",
   "execution_count": null,
   "metadata": {},
   "outputs": [],
   "source": [
    "abs(myci.e_tot - (e_mf_emb + correlation_energy )) # not (what PsiEmbed does)"
   ]
  },
  {
   "cell_type": "code",
   "execution_count": null,
   "metadata": {},
   "outputs": [],
   "source": []
  },
  {
   "cell_type": "code",
   "execution_count": null,
   "metadata": {},
   "outputs": [],
   "source": [
    "full_system_mol = gto.Mole(atom= geometry,\n",
    "                      basis=basis,\n",
    "                       charge=0,\n",
    "                       #spin=0,\n",
    "                      )\n",
    "full_system_mol.build()\n",
    "full_system_mol.verbose = 1\n",
    "full_system_mol.max_memory = 8_000 #MB\n",
    "full_system_scf = scf.RKS(full_system_mol)\n",
    "full_system_scf.verbose=1\n",
    "full_system_scf.max_memory= 8_000\n",
    "full_system_scf.conv_tol = 1e-6\n",
    "full_system_scf.xc = high_level_xc_functional # <-- higher level DFT calc of supersystem!!!\n",
    "full_system_scf.kernel()\n",
    "\n",
    "full_system_scf.e_tot"
   ]
  },
  {
   "cell_type": "code",
   "execution_count": null,
   "metadata": {
    "scrolled": true
   },
   "outputs": [],
   "source": [
    "print(abs(full_system_scf.e_tot - e_mf_emb))\n",
    "print(abs(full_system_scf.e_tot - E_corrected))\n",
    "print(abs(full_system_scf.e_tot - (e_mf_emb + correlation_energy )))"
   ]
  },
  {
   "cell_type": "code",
   "execution_count": null,
   "metadata": {},
   "outputs": [],
   "source": []
  },
  {
   "cell_type": "code",
   "execution_count": null,
   "metadata": {},
   "outputs": [],
   "source": []
  },
  {
   "cell_type": "code",
   "execution_count": null,
   "metadata": {},
   "outputs": [],
   "source": [
    "fock = EMBEDDED_HF_full_system_scf.get_fock(h1e, s1e, vhf, dm_act_EMBEDDED)  # = h1e + vhf, no DIIS\n",
    "mo_energy, mo_coeff = EMBEDDED_HF_full_system_scf.eig(fock, s1e)\n",
    "\n",
    "# eig_val, eig_vec = eigh(fock)\n",
    "# eig_val"
   ]
  },
  {
   "cell_type": "code",
   "execution_count": null,
   "metadata": {},
   "outputs": [],
   "source": []
  },
  {
   "cell_type": "code",
   "execution_count": null,
   "metadata": {},
   "outputs": [],
   "source": [
    "# h_core + 0.5 * vhf"
   ]
  },
  {
   "cell_type": "markdown",
   "metadata": {},
   "source": [
    "# QC calc"
   ]
  },
  {
   "cell_type": "code",
   "execution_count": null,
   "metadata": {},
   "outputs": [],
   "source": [
    "# #2D array for one-body Hamiltonian (H_core) in the MO representation\n",
    "\n",
    "# EMBEDDED_Hcore =  EMBEDDED_HF_full_system_scf.get_hcore() # contains v_embedding!\n",
    "# canonical_orbitals  = EMBEDDED_HF_full_system_scf.mo_coeff \n",
    "\n",
    "\n",
    "# one_body_integrals = canonical_orbitals.conj().T @ EMBEDDED_Hcore @ canonical_orbitals\n",
    "# one_body_integrals.shape"
   ]
  },
  {
   "cell_type": "code",
   "execution_count": null,
   "metadata": {},
   "outputs": [],
   "source": [
    "#2D array for one-body Hamiltonian (H_core) in the MO representation\n",
    "\n",
    "EMBEDDED_Hcore =  h_core # does NOT!!!!!!! contain v_embedding!\n",
    "canonical_orbitals  = EMBEDDED_HF_full_system_scf.mo_coeff # <-- this is optimized wavefunction WITH embedded vhf\n",
    "\n",
    "\n",
    "one_body_integrals = canonical_orbitals.conj().T @ EMBEDDED_Hcore @ canonical_orbitals\n",
    "one_body_integrals.shape"
   ]
  },
  {
   "cell_type": "code",
   "execution_count": null,
   "metadata": {},
   "outputs": [],
   "source": [
    "# A 4-dimension array for electron repulsion integrals in the MO\n",
    "# representation.  The integrals are computed as\n",
    "# h[p,q,r,s]=\\int \\phi_p(x)* \\phi_q(y)* V_{elec-elec} \\phi_r(y) \\phi_s(x) dxdy\n",
    "from pyscf import ao2mo\n",
    "\n",
    "# eri = ao2mo.kernel(EMBEDDED_HF_full_system_scf, canonical_orbitals)\n",
    "\n",
    "eri = ao2mo.kernel(full_system_mol_EMBEDDED_HF, canonical_orbitals)\n",
    "n_orbitals = canonical_orbitals.shape[1]\n",
    "eri = ao2mo.restore(1, # no permutation symmetry\n",
    "                                eri, n_orbitals)\n",
    "\n",
    "\n",
    "two_body_integrals = np.asarray(eri.transpose(0, 2, 3, 1), order='C')\n",
    "two_body_integrals.shape"
   ]
  },
  {
   "cell_type": "code",
   "execution_count": null,
   "metadata": {},
   "outputs": [],
   "source": [
    "shift = full_system_mol.nbas - n_env_mos\n",
    "frozen_orbitals = [i for i in range(shift, full_system_mol.nbas)]\n",
    "\n",
    "# frozen_orbitals = enviro_ao_ind\n",
    "frozen_orbitals"
   ]
  },
  {
   "cell_type": "code",
   "execution_count": null,
   "metadata": {},
   "outputs": [],
   "source": [
    "# https://github.com/quantumlib/OpenFermion/blob/84d169b529a27a0cfd1cc41073d2665f1fcf0312/src/openfermion/ops/representations/interaction_operator.py#L210\n",
    "\n",
    "## define active space!\n",
    "\n",
    "active_indices = [i for i in range(0, shift)]\n",
    "occupied_indices = np.where(EMBEDDED_HF_full_system_scf.mo_occ>0)[0]\n",
    "\n",
    "# active_indices = active_ao_ind\n",
    "\n",
    "core_adjustment = 0.0\n",
    "for i in occupied_indices:\n",
    "    core_adjustment += 2 * one_body_integrals[i, i]\n",
    "    for j in occupied_indices:\n",
    "        core_adjustment += (2 * two_body_integrals[i, j, j, i] -\n",
    "                          two_body_integrals[i, j, i, j])\n",
    "\n",
    "# Modified one electron integrals\n",
    "one_body_integrals_new = np.copy(one_body_integrals)\n",
    "for u in active_indices:\n",
    "    for v in active_indices:\n",
    "        for i in occupied_indices:\n",
    "            one_body_integrals_new[u, v] += (\n",
    "                2 * two_body_integrals[i, u, v, i] -\n",
    "                two_body_integrals[i, u, i, v])\n",
    "\n",
    "# Restrict integral ranges and change M appropriately\n",
    "\n",
    "one_body_integrals_NEW = one_body_integrals_new[np.ix_(active_indices, active_indices)]\n",
    "\n",
    "two_body_integrals_NEW = two_body_integrals[np.ix_(active_indices, active_indices,\n",
    "                             active_indices, active_indices)]"
   ]
  },
  {
   "cell_type": "code",
   "execution_count": null,
   "metadata": {},
   "outputs": [],
   "source": [
    "def spinorb_from_spatial(one_body_integrals, two_body_integrals):\n",
    "    EQ_TOLERANCE=1e-8\n",
    "    n_qubits = 2 * one_body_integrals.shape[0]\n",
    "\n",
    "    # Initialize Hamiltonian coefficients.\n",
    "    one_body_coefficients = np.zeros((n_qubits, n_qubits))\n",
    "    two_body_coefficients = np.zeros(\n",
    "        (n_qubits, n_qubits, n_qubits, n_qubits))\n",
    "    # Loop through integrals.\n",
    "    for p in range(n_qubits // 2):\n",
    "        for q in range(n_qubits // 2):\n",
    "\n",
    "            # Populate 1-body coefficients. Require p and q have same spin.\n",
    "            one_body_coefficients[2 * p, 2 * q] = one_body_integrals[p, q]\n",
    "            one_body_coefficients[2 * p + 1, 2 * q +\n",
    "                                  1] = one_body_integrals[p, q]\n",
    "            # Continue looping to prepare 2-body coefficients.\n",
    "            for r in range(n_qubits // 2):\n",
    "                for s in range(n_qubits // 2):\n",
    "\n",
    "                    # Mixed spin\n",
    "                    two_body_coefficients[2 * p, 2 * q + 1, 2 * r + 1, 2 *\n",
    "                                          s] = (two_body_integrals[p, q, r, s])\n",
    "                    two_body_coefficients[2 * p + 1, 2 * q, 2 * r, 2 * s +\n",
    "                                          1] = (two_body_integrals[p, q, r, s])\n",
    "\n",
    "                    # Same spin\n",
    "                    two_body_coefficients[2 * p, 2 * q, 2 * r, 2 *\n",
    "                                          s] = (two_body_integrals[p, q, r, s])\n",
    "                    two_body_coefficients[2 * p + 1, 2 * q + 1, 2 * r +\n",
    "                                          1, 2 * s +\n",
    "                                          1] = (two_body_integrals[p, q, r, s])\n",
    "\n",
    "    # Truncate.\n",
    "    one_body_coefficients[\n",
    "        np.absolute(one_body_coefficients) < EQ_TOLERANCE] = 0.\n",
    "    two_body_coefficients[\n",
    "        np.absolute(two_body_coefficients) < EQ_TOLERANCE] = 0.\n",
    "\n",
    "    return one_body_coefficients, two_body_coefficients"
   ]
  },
  {
   "cell_type": "code",
   "execution_count": null,
   "metadata": {},
   "outputs": [],
   "source": [
    "one_body_coefficients, two_body_coefficients = spinorb_from_spatial(one_body_integrals_NEW, two_body_integrals_NEW)"
   ]
  },
  {
   "cell_type": "code",
   "execution_count": null,
   "metadata": {},
   "outputs": [],
   "source": [
    "# one_body_integrals_NEW =one_body_integrals\n",
    "# two_body_integrals_NEW =two_body_integrals"
   ]
  },
  {
   "cell_type": "code",
   "execution_count": null,
   "metadata": {},
   "outputs": [],
   "source": [
    "from openfermion.ops.representations import InteractionOperator\n",
    "\n",
    "constant = full_system_scf.energy_nuc() + core_adjustment\n",
    "\n",
    "molecular_hamiltonian = InteractionOperator(constant,\n",
    "                                            one_body_integrals_NEW,\n",
    "                                            1 / 2 * two_body_integrals_NEW)\n",
    "\n",
    "n_qubits = one_body_integrals_NEW.shape[0]"
   ]
  },
  {
   "cell_type": "code",
   "execution_count": null,
   "metadata": {},
   "outputs": [],
   "source": []
  },
  {
   "cell_type": "code",
   "execution_count": null,
   "metadata": {},
   "outputs": [],
   "source": [
    "from openfermion.transforms import jordan_wigner\n",
    "Qubit_Hamiltonian = jordan_wigner(molecular_hamiltonian)"
   ]
  },
  {
   "cell_type": "code",
   "execution_count": null,
   "metadata": {},
   "outputs": [],
   "source": [
    "len(list(Qubit_Hamiltonian))"
   ]
  },
  {
   "cell_type": "code",
   "execution_count": null,
   "metadata": {},
   "outputs": [],
   "source": [
    "from functools import reduce\n",
    "\n",
    "H_trimmed = [op for op in Qubit_Hamiltonian if list(op.terms.values())[0]>1e-5]\n",
    "# H_trimmed_op = reduce(lambda x,y: x+y, H_trimmed_op)\n",
    "len(H_trimmed)"
   ]
  },
  {
   "cell_type": "code",
   "execution_count": null,
   "metadata": {},
   "outputs": [],
   "source": [
    "from openfermion import QubitOperator\n",
    "H_trimmed_op = QubitOperator()\n",
    "for term in H_trimmed:\n",
    "    H_trimmed_op+=term"
   ]
  },
  {
   "cell_type": "code",
   "execution_count": null,
   "metadata": {},
   "outputs": [],
   "source": [
    "# H_matrix = get_sparse_operator(H_trimmed_op)"
   ]
  },
  {
   "cell_type": "code",
   "execution_count": null,
   "metadata": {},
   "outputs": [],
   "source": [
    "from tqdm.notebook import tqdm"
   ]
  },
  {
   "cell_type": "code",
   "execution_count": null,
   "metadata": {},
   "outputs": [],
   "source": [
    "Qubit_Hamiltonian"
   ]
  },
  {
   "cell_type": "code",
   "execution_count": null,
   "metadata": {},
   "outputs": [],
   "source": [
    "from openfermion import get_sparse_operator\n",
    "H_matrix = get_sparse_operator(Qubit_Hamiltonian)"
   ]
  },
  {
   "cell_type": "code",
   "execution_count": null,
   "metadata": {},
   "outputs": [],
   "source": [
    "Qubit_Hamiltonian"
   ]
  },
  {
   "cell_type": "code",
   "execution_count": null,
   "metadata": {},
   "outputs": [],
   "source": [
    "from scipy.linalg import eigh\n",
    "\n",
    "eig_val, eig_vec = eigh(H_matrix.todense())"
   ]
  },
  {
   "cell_type": "code",
   "execution_count": null,
   "metadata": {},
   "outputs": [],
   "source": [
    "min(eig_val)"
   ]
  },
  {
   "cell_type": "code",
   "execution_count": null,
   "metadata": {},
   "outputs": [],
   "source": [
    "idx = eig_val.argsort()   \n",
    "eigenValues = eig_val[idx]\n",
    "eigenVectors = eig_vec[:,idx]"
   ]
  },
  {
   "cell_type": "code",
   "execution_count": null,
   "metadata": {},
   "outputs": [],
   "source": [
    "WF_ground_state = eigenVectors[:, 0] \n",
    "\n",
    "dm_act_EMBEDDED_from_WF = 2 * np.outer(WF_ground_state, WF_ground_state)\n",
    "# np.trace(dm_act_EMBEDDED_from_WF@s1e)"
   ]
  },
  {
   "cell_type": "code",
   "execution_count": null,
   "metadata": {},
   "outputs": [],
   "source": [
    "dm_act_EMBEDDED_from_WF.shape"
   ]
  },
  {
   "cell_type": "code",
   "execution_count": null,
   "metadata": {},
   "outputs": [],
   "source": []
  },
  {
   "cell_type": "code",
   "execution_count": null,
   "metadata": {},
   "outputs": [],
   "source": [
    "E_WF_in_DFT = (min(eig_val) + E_env + two_e_cross + correction) \n",
    "E_WF_in_DFT"
   ]
  },
  {
   "cell_type": "code",
   "execution_count": null,
   "metadata": {},
   "outputs": [],
   "source": []
  },
  {
   "cell_type": "code",
   "execution_count": null,
   "metadata": {},
   "outputs": [],
   "source": [
    "E_final = (eigenVectors[:, 0].conj().T  @ H_matrix.toarray() @  eigenVectors[:, 0]  +\n",
    "           E_env + two_e_cross + correction)\n",
    "E_final"
   ]
  },
  {
   "cell_type": "code",
   "execution_count": null,
   "metadata": {},
   "outputs": [],
   "source": []
  },
  {
   "cell_type": "code",
   "execution_count": null,
   "metadata": {},
   "outputs": [],
   "source": [
    "print(abs(myci.e_tot - E_final))"
   ]
  },
  {
   "cell_type": "code",
   "execution_count": null,
   "metadata": {},
   "outputs": [],
   "source": []
  },
  {
   "cell_type": "code",
   "execution_count": null,
   "metadata": {},
   "outputs": [],
   "source": []
  },
  {
   "cell_type": "markdown",
   "metadata": {},
   "source": [
    "1. Global calc\n",
    "\n",
    "\n",
    "2. localize orbitals\n",
    "    - SPADE\n",
    "    - PM\n",
    "    \n",
    "3. define active system and enirvo\n",
    "4. Define V_emb\n",
    "5. Find gamma_active_EMBEDDED\n",
    "6. Calculate Energy of A with gamma_active_EMBEDDED"
   ]
  }
 ],
 "metadata": {
  "kernelspec": {
   "display_name": "Python 3",
   "language": "python",
   "name": "python3"
  },
  "language_info": {
   "codemirror_mode": {
    "name": "ipython",
    "version": 3
   },
   "file_extension": ".py",
   "mimetype": "text/x-python",
   "name": "python",
   "nbconvert_exporter": "python",
   "pygments_lexer": "ipython3",
   "version": "3.7.6"
  }
 },
 "nbformat": 4,
 "nbformat_minor": 4
}
