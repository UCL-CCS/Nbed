{
 "cells": [
  {
   "cell_type": "code",
   "execution_count": 1,
   "metadata": {},
   "outputs": [],
   "source": [
    "import numpy as np\n",
    "import sys\n",
    "sys.path.append( '../vqe-in-dft' )\n",
    "\n",
    "import vqe_in_dft \n",
    "\n",
    "import scipy as sp\n",
    "from pyscf import gto, dft, lib, mp, cc, scf, tools, ci, fci"
   ]
  },
  {
   "cell_type": "code",
   "execution_count": null,
   "metadata": {},
   "outputs": [],
   "source": []
  },
  {
   "cell_type": "code",
   "execution_count": 2,
   "metadata": {},
   "outputs": [],
   "source": [
    "geometry = [\n",
    "['H', (0.7493682,0.0000000,0.4424329)],\n",
    "['O', (0.0000000,0.0000000,-0.1653507)],\n",
    "    \n",
    "['H', (-0.7493682,0.0000000,0.4424329)]\n",
    "]\n",
    "\n",
    "# geometry = [\n",
    "# ['H', (1.2473876659, -0.8998737590, 0.6150681570)],\n",
    "# ['O', (1.2322305822, -0.2731895077, -0.1276123902)],\n",
    "\n",
    "# ['C', (0.0849758188, 0.5590385475, 0.0510545434)],\n",
    "# ['H', (0.1506137362, 1.1200249874, 0.9943015309)],\n",
    "# ['H', (0.1316093068, 1.2841805400, -0.7645223601)],\n",
    "\n",
    "# ['C', (-1.2129704155, -0.2295285634, -0.0097156258)],\n",
    "# ['H', (-2.0801425360, 0.4329727646,0.0722817289)],\n",
    "# ['H', (-1.2655910941, -0.9539857247, 0.8097953440)],\n",
    "# ['H', (-1.2737541560, -0.7748626513, -0.9540587845)],\n",
    "# ]\n",
    "\n",
    "N_active_atoms = 2\n",
    "\n",
    "\n",
    "low_level_scf_method='RKS'\n",
    "high_level_scf_method='CCSD'\n",
    "E_convergence_tol = 1e-6\n",
    "basis = 'STO-3G' #'augccpvdz' # '6-31g' #'STO-3G'\n",
    "unit= 'angstrom'\n",
    "pyscf_print_level=1\n",
    "memory=8000\n",
    "charge=0\n",
    "spin=0\n",
    "run_fci= True#True\n",
    "low_level_xc_functional = 'lda, vwn' # 'b3lyp'\n",
    "high_level_xc_functional = 'b3lyp'\n",
    "\n",
    "phys_notation = True"
   ]
  },
  {
   "cell_type": "code",
   "execution_count": null,
   "metadata": {},
   "outputs": [],
   "source": []
  },
  {
   "cell_type": "markdown",
   "metadata": {},
   "source": [
    "# Build the GLOBAL (full) molecule\n",
    "\n",
    "\n",
    "and run supersystem calculation (cheap method)"
   ]
  },
  {
   "cell_type": "markdown",
   "metadata": {},
   "source": [
    "https://pyscf.org/_modules/pyscf/gto/basis.html"
   ]
  },
  {
   "cell_type": "code",
   "execution_count": 3,
   "metadata": {},
   "outputs": [
    {
     "data": {
      "text/plain": [
       "[['H', (0.7493682, 0.0, 0.4424329)],\n",
       " ['O', (0.0, 0.0, -0.1653507)],\n",
       " ['H', (-0.7493682, 0.0, 0.4424329)]]"
      ]
     },
     "execution_count": 3,
     "metadata": {},
     "output_type": "execute_result"
    }
   ],
   "source": [
    "full_system_mol = gto.Mole(atom= geometry,\n",
    "                      basis=basis,\n",
    "                       charge=charge,\n",
    "                       unit=unit,\n",
    "                       spin=spin,\n",
    "                      )\n",
    "full_system_mol.build()\n",
    "full_system_mol.atom"
   ]
  },
  {
   "cell_type": "code",
   "execution_count": 4,
   "metadata": {},
   "outputs": [
    {
     "name": "stdout",
     "output_type": "stream",
     "text": [
      "E(UHF-FCI) = -75.015352478525\n"
     ]
    }
   ],
   "source": [
    "## FCI comparison\n",
    "HF_scf = scf.RHF(full_system_mol)\n",
    "HF_scf.verbose=1\n",
    "HF_scf.max_memory= memory\n",
    "HF_scf.conv_tol = 1e-6\n",
    "HF_scf.kernel()\n",
    "\n",
    "my_fci = fci.FCI(HF_scf).run()\n",
    "print('E(UHF-FCI) = %.12f' % my_fci.e_tot)\n",
    "\n",
    "# myci = ci.CISD(HF_scf).run() # this is UCISD\n",
    "# print('UCISD total energy = ', myci.e_tot)"
   ]
  },
  {
   "cell_type": "code",
   "execution_count": 5,
   "metadata": {},
   "outputs": [
    {
     "data": {
      "application/3dmoljs_load.v0": "<div id=\"3dmolviewer_1631200628647583\"  style=\"position: relative; width: 400px; height: 400px\">\n        <p id=\"3dmolwarning_1631200628647583\" style=\"background-color:#ffcccc;color:black\">You appear to be running in JupyterLab (or JavaScript failed to load for some other reason).  You need to install the 3dmol extension: <br>\n        <tt>jupyter labextension install jupyterlab_3dmol</tt></p>\n        </div>\n<script>\n\nvar loadScriptAsync = function(uri){\n  return new Promise((resolve, reject) => {\n    var tag = document.createElement('script');\n    tag.src = uri;\n    tag.async = true;\n    tag.onload = () => {\n      resolve();\n    };\n  var firstScriptTag = document.getElementsByTagName('script')[0];\n  firstScriptTag.parentNode.insertBefore(tag, firstScriptTag);\n});\n};\n\nif(typeof $3Dmolpromise === 'undefined') {\n$3Dmolpromise = null;\n  $3Dmolpromise = loadScriptAsync('https://3dmol.org/build/3Dmol.js');\n}\n\nvar viewer_1631200628647583 = null;\nvar warn = document.getElementById(\"3dmolwarning_1631200628647583\");\nif(warn) {\n    warn.parentNode.removeChild(warn);\n}\n$3Dmolpromise.then(function() {\nviewer_1631200628647583 = $3Dmol.createViewer($(\"#3dmolviewer_1631200628647583\"),{backgroundColor:\"white\"});\nviewer_1631200628647583.zoomTo();\n\tviewer_1631200628647583.addModel(\"3\\n \\nH\\t0.7493682\\t0.0\\t0.4424329\\nO\\t0.0\\t0.0\\t-0.1653507\\nH\\t-0.7493682\\t0.0\\t0.4424329\\n\",\"xyz\");\n\tviewer_1631200628647583.setStyle({\"stick\": {}});\n\tviewer_1631200628647583.zoomTo();\nviewer_1631200628647583.render();\n});\n</script>",
      "text/html": [
       "<div id=\"3dmolviewer_1631200628647583\"  style=\"position: relative; width: 400px; height: 400px\">\n",
       "        <p id=\"3dmolwarning_1631200628647583\" style=\"background-color:#ffcccc;color:black\">You appear to be running in JupyterLab (or JavaScript failed to load for some other reason).  You need to install the 3dmol extension: <br>\n",
       "        <tt>jupyter labextension install jupyterlab_3dmol</tt></p>\n",
       "        </div>\n",
       "<script>\n",
       "\n",
       "var loadScriptAsync = function(uri){\n",
       "  return new Promise((resolve, reject) => {\n",
       "    var tag = document.createElement('script');\n",
       "    tag.src = uri;\n",
       "    tag.async = true;\n",
       "    tag.onload = () => {\n",
       "      resolve();\n",
       "    };\n",
       "  var firstScriptTag = document.getElementsByTagName('script')[0];\n",
       "  firstScriptTag.parentNode.insertBefore(tag, firstScriptTag);\n",
       "});\n",
       "};\n",
       "\n",
       "if(typeof $3Dmolpromise === 'undefined') {\n",
       "$3Dmolpromise = null;\n",
       "  $3Dmolpromise = loadScriptAsync('https://3dmol.org/build/3Dmol.js');\n",
       "}\n",
       "\n",
       "var viewer_1631200628647583 = null;\n",
       "var warn = document.getElementById(\"3dmolwarning_1631200628647583\");\n",
       "if(warn) {\n",
       "    warn.parentNode.removeChild(warn);\n",
       "}\n",
       "$3Dmolpromise.then(function() {\n",
       "viewer_1631200628647583 = $3Dmol.createViewer($(\"#3dmolviewer_1631200628647583\"),{backgroundColor:\"white\"});\n",
       "viewer_1631200628647583.zoomTo();\n",
       "\tviewer_1631200628647583.addModel(\"3\\n \\nH\\t0.7493682\\t0.0\\t0.4424329\\nO\\t0.0\\t0.0\\t-0.1653507\\nH\\t-0.7493682\\t0.0\\t0.4424329\\n\",\"xyz\");\n",
       "\tviewer_1631200628647583.setStyle({\"stick\": {}});\n",
       "\tviewer_1631200628647583.zoomTo();\n",
       "viewer_1631200628647583.render();\n",
       "});\n",
       "</script>"
      ]
     },
     "metadata": {},
     "output_type": "display_data"
    }
   ],
   "source": [
    "# Draw molecule\n",
    "\n",
    "xyz_string = vqe_in_dft.Get_xyz_string(full_system_mol)\n",
    "vqe_in_dft.Draw_molecule(xyz_string, width=400, height=400, jupyter_notebook=True)"
   ]
  },
  {
   "cell_type": "code",
   "execution_count": 6,
   "metadata": {},
   "outputs": [
    {
     "data": {
      "text/plain": [
       "-74.73474041595246"
      ]
     },
     "execution_count": 6,
     "metadata": {},
     "output_type": "execute_result"
    }
   ],
   "source": [
    "# Run global calculation\n",
    "\n",
    "full_system_scf = scf.RKS(full_system_mol)\n",
    "full_system_scf.verbose= pyscf_print_level\n",
    "full_system_scf.max_memory= memory\n",
    "full_system_scf.conv_tol = 1e-6\n",
    "full_system_scf.xc = low_level_xc_functional\n",
    "full_system_scf.kernel()"
   ]
  },
  {
   "cell_type": "markdown",
   "metadata": {},
   "source": [
    "# Localise orbitals"
   ]
  },
  {
   "cell_type": "markdown",
   "metadata": {},
   "source": [
    "### Background\n",
    "\n",
    "The overlap matrix is:\n",
    "\n",
    "$$S_{\\mu \\nu} =  \\int d\\vec{r}_{1} \\phi_{\\mu}(1)^{*}\\phi_{\\nu}(1)$$\n",
    "\n",
    "- $\\phi_{\\mu}$ are basis functions (defined in basis set)\n",
    "\n",
    "\n",
    "The unknown molecular orbitals $\\psi_{i}$ are expanded as a linear expansion of the $K$ known basis functions:\n",
    "\n",
    "$$ \\psi_{i} =  \\sum_{\\mu=1}^{K} C_{\\mu i} \\psi_{\\mu}$$\n",
    "\n",
    "\n",
    "$C$ is a $K \\times K$ matrix of expansion coefficients $C_{\\mu i}$. The columns of $C$ describe the molecular orbitals!"
   ]
  },
  {
   "cell_type": "markdown",
   "metadata": {},
   "source": [
    "We can find the total number of electrons $N$ in the system by:\n",
    "\n",
    "$$ N =  2 \\sum_{a}^{N/2}\\int d\\vec{r}  \\bigg( \\psi_{a}(\\vec{r})^{*} \\psi_{i}(\\vec{r}) \\bigg) =  2 \\sum_{a}^{N/2} 1$$\n",
    "\n",
    "- integral gives probablity of finding electron $a$ over all space (must be 1)\n",
    "- summing over all electrons will give the total number of electrons"
   ]
  },
  {
   "cell_type": "code",
   "execution_count": null,
   "metadata": {},
   "outputs": [],
   "source": []
  },
  {
   "cell_type": "markdown",
   "metadata": {},
   "source": [
    "The charge density has the following definition:\n",
    "\n",
    "$$\\rho(\\vec{r}) = 2 \\sum_{a}^{N/2} \\bigg( \\psi_{a}(\\vec{r})^{*} \\psi_{i}(\\vec{r}) \\bigg)$$\n",
    "\n",
    "- re-write using definition of $\\psi_{i}=  \\sum_{\\mu=1}^{K} C_{\\mu i} \\phi_{\\mu}$\n",
    "\n",
    "$$\\rho(\\vec{r}) = 2 \\sum_{a}^{N/2} \\Bigg( \\bigg[ \\sum_{\\nu}^{K} C_{\\nu a}^{*} \\phi_{\\nu}(\\vec{r})^{*} \\bigg] \\bigg[ \\sum_{\\mu}^{K} C_{\\mu a}\\phi_{\\mu}(\\vec{r}) \\bigg] \\Bigg)$$\n",
    "\n",
    "- move things around\n",
    "\n",
    "$$\\rho(\\vec{r}) = \\sum_{\\nu}^{K} \\sum_{\\mu}^{K} \\Big( 2 \\sum_{a}^{N/2} C_{\\mu a} C_{\\nu a}^{*} \\Big) \\phi_{\\mu}(\\vec{r}) \\phi_{\\nu}(\\vec{r})^{*} $$\n",
    "\n",
    "- which is \n",
    "\n",
    "$$\\rho(\\vec{r}) = \\sum_{\\mu, \\nu}^{K} P_{\\mu \\nu} \\phi_{\\mu}(\\vec{r}) \\phi_{\\nu}(\\vec{r})^{*} $$\n",
    "\n",
    "\n",
    "- $P_{\\mu \\nu}$ is known as the density matrix and is:\n",
    "\n",
    "$$P_{\\mu \\nu} = 2 \\sum_{a}^{N/2} C_{\\mu a} C_{\\nu a}^{*}$$"
   ]
  },
  {
   "cell_type": "code",
   "execution_count": null,
   "metadata": {},
   "outputs": [],
   "source": []
  },
  {
   "cell_type": "markdown",
   "metadata": {},
   "source": [
    "Therefore we can also find the total number of electrons in the system by:\n",
    "\n",
    "$$ N =  2 \\sum_{a}^{N/2}\\int d\\vec{r}  \\bigg( \\psi_{a}(\\vec{r})^{*} \\psi_{i}(\\vec{r}) \\bigg) =  \\sum_{\\nu}^{K} \\sum_{\\mu}^{K} \\Big( 2 \\sum_{a}^{N/2} C_{\\mu a} C_{\\nu a}^{*} \\Big) \\int d\\vec{r} \\phi_{\\mu}(\\vec{r})  \\phi_{\\nu}(\\vec{r})^{*}$$\n",
    "\n",
    "- This is simply:\n",
    "\n",
    "$$N =  \\sum_{\\nu}^{K} \\sum_{\\mu}^{K} P_{\\mu \\nu} S_{\\nu \\mu}$$\n",
    "\n",
    "- in an orthognal basis $S$ should be the identity matrix (as it is overlap of matrix of orthogonal orbs), SO WE GET:\n",
    "\n",
    "$$N =  \\sum_{\\nu}^{K} \\sum_{\\mu}^{K} P_{\\mu \\nu} S_{\\nu \\mu} = \\sum_{\\mu}^{K} PS_{\\mu \\mu} = \\mathcal{Tr}(PS)$$"
   ]
  },
  {
   "cell_type": "markdown",
   "metadata": {},
   "source": [
    "- One can interpret $ PS_{\\mu \\mu}$ in the above equation as the number of electrons associated with $ \\phi_{\\mu}$\n",
    "- This is a **Mulliken population analysis**"
   ]
  },
  {
   "cell_type": "markdown",
   "metadata": {},
   "source": []
  },
  {
   "cell_type": "markdown",
   "metadata": {},
   "source": [
    "# Orbital Localization!"
   ]
  },
  {
   "cell_type": "markdown",
   "metadata": {},
   "source": [
    "A molecular orbital is usually delocalized, i.e. it has non-negligible amplitude over the whole system rather than only around some atom(s) or bond(s). However, one can choose a unitary rotation "
   ]
  },
  {
   "cell_type": "markdown",
   "metadata": {},
   "source": [
    "- When we perform a SCF calculation, one gets an optimized C matrix\n",
    "    - $C$ is a $K \\times K$ matrix of expansion coefficients $C_{\\mu i}$\n",
    "    - The columns of $C$ describe the molecular orbitals!\n",
    "    - MO i: $ \\psi_{i} =  \\sum_{\\mu=1}^{K} C_{\\mu i} \\psi_{\\mu}$\n",
    "    \n",
    "    \n",
    "- These molecular orbitals are usually **delocalized**\n",
    "    - non-negligible amplitude over the whole system, rather than only around some atom(s) or bond(s)\n",
    "\n",
    "- But we know in QM that a given basis choice is NOT unique\n",
    "\n",
    "\n",
    "- We can therefore perform a unitary rotation on molecular orbitals\n",
    "\n",
    "$$ \\psi_{i} U_{rot} =  \\Big( \\sum_{\\mu=1}^{K} C_{\\mu i} \\psi_{\\mu} \\Big) U_{rot} = \\psi_{i}^{new}$$\n",
    "    \n",
    "    \n",
    "The idea is to use a rotation such that the resulting orbitals $\\psi_{i}^{new}$ are as spatially localized as possible. \n",
    "\n",
    "\n",
    "The Pipek-Mezey (PM) [localization](https://notendur.hi.is/hj/papers/paperPipekmezey8.pdf) **maximizes the population charges on the atoms**:\n",
    "\n",
    "$$ f (U_{rot}) = \\sum_{A}^{N_{atoms}} \\Bigg( Z_{A} -  \\sum_{\\mu \\text{ on atom } A} PS_{\\mu \\mu} \\Bigg)$$"
   ]
  },
  {
   "cell_type": "markdown",
   "metadata": {},
   "source": [
    "# Choose active and environment systems"
   ]
  },
  {
   "cell_type": "markdown",
   "metadata": {},
   "source": [
    "## METHOD 1 "
   ]
  },
  {
   "cell_type": "markdown",
   "metadata": {},
   "source": [
    "- Given optimized $C$ coefficient matrix\n",
    "    - which has been rotated to localize orbitals\n",
    "    - (used to build localized density matrix)\n",
    "\n",
    "\n",
    "- **Look through basis functions $\\phi_{\\mu}$ of the ACTIVE atoms**\n",
    "    \n",
    "    \n",
    "- check the mulliken charge // mulliken population of the orbital\n",
    "    - if above a certain threshold associate it to active system\n",
    "    - otherwise put in the environment"
   ]
  },
  {
   "cell_type": "markdown",
   "metadata": {},
   "source": [
    "## METHOD 2 - SPADE"
   ]
  },
  {
   "cell_type": "code",
   "execution_count": 7,
   "metadata": {},
   "outputs": [],
   "source": [
    "localization_method= 'ibo' # 'ibo', 'Boys', 'PipekMezey' 'SPADE'\n",
    "THRESHOLD = 0.95"
   ]
  },
  {
   "cell_type": "code",
   "execution_count": null,
   "metadata": {},
   "outputs": [],
   "source": []
  },
  {
   "cell_type": "code",
   "execution_count": 8,
   "metadata": {},
   "outputs": [
    {
     "name": "stdout",
     "output_type": "stream",
     "text": [
      " Iterative localization: IB/P4/2x2, 5 iter; Final gradient 5.55e-19\n",
      "\n",
      "overlap: [-0.02353434 -1.40488965 -0.69080156 -1.59840068  1.2031823 ]\n",
      "threshold for active part: 0.95 \n",
      "\n",
      "number of active MOs: 1\n",
      "number of enviro MOs: 4 \n",
      "\n"
     ]
    }
   ],
   "source": [
    "(C_active,\n",
    " C_envrio, \n",
    " C_all_localized, \n",
    " active_MO_inds,\n",
    " enviro_MO_inds) = vqe_in_dft.Localize_orbitals(localization_method, \n",
    "                                     full_system_scf, \n",
    "                                     N_active_atoms, \n",
    "                                     THRESHOLD=THRESHOLD, \n",
    "                                     sanity_check=True)\n"
   ]
  },
  {
   "cell_type": "code",
   "execution_count": null,
   "metadata": {},
   "outputs": [],
   "source": []
  },
  {
   "cell_type": "code",
   "execution_count": null,
   "metadata": {},
   "outputs": [],
   "source": []
  },
  {
   "cell_type": "code",
   "execution_count": null,
   "metadata": {},
   "outputs": [],
   "source": []
  },
  {
   "cell_type": "code",
   "execution_count": 9,
   "metadata": {},
   "outputs": [],
   "source": [
    "# S_ovlp = full_system_scf.get_ovlp()\n",
    "# AO_slice_matrix = full_system_scf.mol.aoslice_by_atom()\n",
    "# ao_active_inds = np.arange(AO_slice_matrix[0,2], AO_slice_matrix[N_active_atoms-1,3])\n",
    "\n",
    "# dm_test = 2* C_all_localized @ C_all_localized.conj().T\n",
    "# # dm_test = 2* full_system_scf.mo_coeff[:,full_system_scf.mo_occ>0] @ full_system_scf.mo_coeff[:,full_system_scf.mo_occ>0].conj().T\n",
    "\n",
    "# DS = dm_test@S_ovlp\n",
    "\n",
    "# # ao_active_inds\n",
    "# diagonal_active = DS[ao_active_inds, ao_active_inds]\n",
    "\n",
    "# diagonal_active\n"
   ]
  },
  {
   "cell_type": "code",
   "execution_count": null,
   "metadata": {},
   "outputs": [],
   "source": []
  },
  {
   "cell_type": "code",
   "execution_count": 10,
   "metadata": {},
   "outputs": [],
   "source": [
    "# S_ovlp = full_system_scf.get_ovlp()\n",
    "# AO_slice_matrix = full_system_scf.mol.aoslice_by_atom()\n",
    "# ao_active_inds = np.arange(AO_slice_matrix[0,2], AO_slice_matrix[N_active_atoms-1,3])\n",
    "\n",
    "# S_half = sp.linalg.fractional_matrix_power(S_ovlp , 0.5)\n",
    "# orthogonal_orbitals = (S_half@C_all_localized) # Get rows (the active AO) of orthogonal orbs \n",
    "\n",
    "# print(orthogonal_orbitals[:,2].dot(orthogonal_orbitals[:,3]))\n",
    "\n",
    "# MO_AO_overlap = S_ovlp@orthogonal_orbitals\n",
    "# MO_active_AO_overlap = np.einsum('ij->j', MO_AO_overlap[ao_active_inds]) \n",
    "\n",
    "# print('\\noverlap:', MO_active_AO_overlap)\n",
    "# print(f'threshold for active part: {THRESHOLD} \\n')\n",
    "\n",
    "# np.where(MO_active_AO_overlap>THRESHOLD)[0]"
   ]
  },
  {
   "cell_type": "code",
   "execution_count": null,
   "metadata": {},
   "outputs": [],
   "source": []
  },
  {
   "cell_type": "code",
   "execution_count": 11,
   "metadata": {},
   "outputs": [],
   "source": [
    "# Draw active orbitals\n",
    "\n",
    "list_active_orbitals = vqe_in_dft.Draw_cube_orbital(full_system_scf,\n",
    "                             xyz_string,\n",
    "                             C_all_localized, \n",
    "                             active_MO_inds,\n",
    "                             width=400, \n",
    "                             height=400, \n",
    "                             jupyter_notebook=True)\n",
    "\n",
    "list_enviro_orbitals = vqe_in_dft.Draw_cube_orbital(full_system_scf,\n",
    "                             xyz_string,\n",
    "                             C_all_localized, \n",
    "                             enviro_MO_inds,\n",
    "                             width=400, \n",
    "                             height=400, \n",
    "                             jupyter_notebook=True)"
   ]
  },
  {
   "cell_type": "code",
   "execution_count": 12,
   "metadata": {},
   "outputs": [],
   "source": [
    "# list_active_orbitals[0]"
   ]
  },
  {
   "cell_type": "code",
   "execution_count": 13,
   "metadata": {},
   "outputs": [],
   "source": [
    "# AO_slice_matrix = full_system_scf.mol.aoslice_by_atom()\n",
    "# ao_active_inds = np.arange(AO_slice_matrix[0,2], AO_slice_matrix[N_active_atoms-1,3])\n",
    "# ao_enviro_inds = np.arange(AO_slice_matrix[N_active_atoms,2], AO_slice_matrix[-1,-1])\n",
    "\n",
    "# U, S, V = np.linalg.svd(C_all_localized)\n",
    "\n",
    "# Projector_out_env = np.eye(C_all_localized.shape[0])\n",
    "# Projector_out_env[ao_enviro_inds, ao_enviro_inds]= np.zeros((len(ao_enviro_inds),len(ao_enviro_inds)))\n",
    "# Projector_out_env"
   ]
  },
  {
   "cell_type": "code",
   "execution_count": null,
   "metadata": {},
   "outputs": [],
   "source": []
  },
  {
   "cell_type": "code",
   "execution_count": null,
   "metadata": {},
   "outputs": [],
   "source": []
  },
  {
   "cell_type": "code",
   "execution_count": 14,
   "metadata": {},
   "outputs": [
    {
     "name": "stdout",
     "output_type": "stream",
     "text": [
      "N_active_elec + N_environment_elec = N_total_elec is: True\n",
      "y_active + y_enviro = y_total is: True\n"
     ]
    }
   ],
   "source": [
    "dm_active, dm_enviro = vqe_in_dft.Get_active_and_envrio_dm(\n",
    "                                                full_system_scf,\n",
    "                                                C_active, \n",
    "                                                C_envrio, \n",
    "                                                C_all_localized, \n",
    "                                                sanity_check=True)"
   ]
  },
  {
   "cell_type": "code",
   "execution_count": null,
   "metadata": {},
   "outputs": [],
   "source": []
  },
  {
   "cell_type": "code",
   "execution_count": 15,
   "metadata": {},
   "outputs": [],
   "source": [
    "# use active density\n",
    "E_act, J_act, K_act, e_xc_act, v_xc_act = vqe_in_dft.Get_energy_and_matrices_from_dm( full_system_scf, \n",
    "                                                                             dm_active, # <- ACTIVE\n",
    "                                                                             check_E_with_pyscf=True)"
   ]
  },
  {
   "cell_type": "code",
   "execution_count": 16,
   "metadata": {},
   "outputs": [],
   "source": [
    "# use enviro density\n",
    "E_env, J_env, K_env, e_xc_env, v_xc_env = vqe_in_dft.Get_energy_and_matrices_from_dm(\n",
    "                                                                            full_system_scf,\n",
    "                                                                             dm_enviro, # <- ENVIRO\n",
    "                                                                             check_E_with_pyscf=True)"
   ]
  },
  {
   "cell_type": "code",
   "execution_count": null,
   "metadata": {},
   "outputs": [],
   "source": []
  },
  {
   "cell_type": "code",
   "execution_count": 17,
   "metadata": {},
   "outputs": [],
   "source": [
    "# cross terms!\n",
    "two_e_cross = vqe_in_dft.Get_cross_terms(full_system_scf, \n",
    "                                         dm_active, \n",
    "                                         dm_enviro, \n",
    "                                         J_env, \n",
    "                                         J_act, \n",
    "                                         e_xc_act,\n",
    "                                         e_xc_env)"
   ]
  },
  {
   "cell_type": "code",
   "execution_count": 18,
   "metadata": {},
   "outputs": [
    {
     "name": "stdout",
     "output_type": "stream",
     "text": [
      "E_active: -14.092327349306387\n",
      "E_enviro: -81.0866796528154\n",
      "E_cross: 13.431170954624172\n"
     ]
    }
   ],
   "source": [
    "print(f'E_active: {E_act}')\n",
    "print(f'E_enviro: {E_env}')\n",
    "print(f'E_cross: {two_e_cross}')"
   ]
  },
  {
   "cell_type": "code",
   "execution_count": null,
   "metadata": {},
   "outputs": [],
   "source": []
  },
  {
   "cell_type": "markdown",
   "metadata": {},
   "source": [
    "# 4. Define V_embed"
   ]
  },
  {
   "cell_type": "markdown",
   "metadata": {},
   "source": [
    "$$h^{A_{\\text{act}} \\text{ in } B_{\\text{env}}} = h^{\\text{core}} + v^{\\text{embed}}$$\n",
    "\n",
    "$$v^{\\text{embed}} = g[\\gamma^{A_{\\text{act}}} + \\gamma^{B_{\\text{env}}} ] - g[\\gamma^{A_{\\text{act}}}] + P_{\\text{projector}}$$"
   ]
  },
  {
   "cell_type": "code",
   "execution_count": 177,
   "metadata": {},
   "outputs": [
    {
     "name": "stdout",
     "output_type": "stream",
     "text": [
      "H core is standard H_core\n"
     ]
    }
   ],
   "source": [
    "projector_method = 'huzinaga'\n",
    "# projector_method = 'mu_shfit'\n",
    "\n",
    "V_embed  = vqe_in_dft.Get_embedded_potential_operator(projector_method, \n",
    "                                full_system_scf, \n",
    "                                dm_active, \n",
    "                                dm_enviro, \n",
    "                                check_Hcore_is_correct=True, \n",
    "                                mu_shift_val=1e6,\n",
    "                                check_Vemb=True)"
   ]
  },
  {
   "cell_type": "code",
   "execution_count": null,
   "metadata": {},
   "outputs": [],
   "source": []
  },
  {
   "cell_type": "markdown",
   "metadata": {},
   "source": [
    "# 5. Run RKS DFT of full system with $V_{emb}$ to get $\\gamma_{emb}^{\\text{active}}$ "
   ]
  },
  {
   "cell_type": "code",
   "execution_count": 179,
   "metadata": {},
   "outputs": [
    {
     "name": "stdout",
     "output_type": "stream",
     "text": [
      "embedded Energy: 6.353665401805102\n"
     ]
    }
   ],
   "source": [
    "full_system_mol_EMBEDDED = gto.Mole(atom= geometry,\n",
    "                      basis=basis,\n",
    "                       charge=charge,\n",
    "                       spin=spin,\n",
    "                      )\n",
    "full_system_mol_EMBEDDED.build()\n",
    "\n",
    "# RE-DEFINE number of electrons in system\n",
    "full_system_mol_EMBEDDED.nelectron = 2*len(active_MO_inds) # <------ IMPORTANT!\n",
    "\n",
    "EMBEDDED_full_system_scf = scf.RKS(full_system_mol_EMBEDDED)\n",
    "EMBEDDED_full_system_scf.verbose=1\n",
    "EMBEDDED_full_system_scf.max_memory= memory\n",
    "EMBEDDED_full_system_scf.conv_tol = 1e-6\n",
    "EMBEDDED_full_system_scf.xc = low_level_xc_functional\n",
    "\n",
    "h_core = EMBEDDED_full_system_scf.get_hcore()\n",
    "\n",
    "# overwrite h_core to include embedding term!!!!\n",
    "EMBEDDED_full_system_scf.get_hcore = lambda *args: V_embed + h_core\n",
    "\n",
    "E_emb = EMBEDDED_full_system_scf.kernel()\n",
    "\n",
    "print(f'embedded Energy: {E_emb}')"
   ]
  },
  {
   "cell_type": "code",
   "execution_count": 158,
   "metadata": {},
   "outputs": [
    {
     "data": {
      "text/plain": [
       "True"
      ]
     },
     "execution_count": 158,
     "metadata": {},
     "output_type": "execute_result"
    }
   ],
   "source": [
    "EMBEDDED_full_system_scf.conv_check"
   ]
  },
  {
   "cell_type": "code",
   "execution_count": null,
   "metadata": {},
   "outputs": [],
   "source": []
  },
  {
   "cell_type": "code",
   "execution_count": 180,
   "metadata": {},
   "outputs": [
    {
     "name": "stdout",
     "output_type": "stream",
     "text": [
      "number of e- in gamma_embedded is correct: True\n"
     ]
    }
   ],
   "source": [
    "EMBEDDED_occ_orbs = EMBEDDED_full_system_scf.mo_coeff[:,EMBEDDED_full_system_scf.mo_occ>0]\n",
    "\n",
    "# optimized embedded denisty matrix\n",
    "density_emb = 2 * EMBEDDED_occ_orbs @ EMBEDDED_occ_orbs.conj().T\n",
    "\n",
    "## check number of electrons makes sense:\n",
    "electron_check = np.isclose(np.trace(density_emb@full_system_scf.get_ovlp()), 2*len(active_MO_inds))\n",
    "\n",
    "print(f'number of e- in gamma_embedded is correct: {electron_check}')"
   ]
  },
  {
   "cell_type": "code",
   "execution_count": null,
   "metadata": {},
   "outputs": [],
   "source": []
  },
  {
   "cell_type": "code",
   "execution_count": 181,
   "metadata": {},
   "outputs": [
    {
     "name": "stdout",
     "output_type": "stream",
     "text": [
      "RKS correction: -1.8800667021299844\n",
      "WF correction: 13.57833346352092\n"
     ]
    }
   ],
   "source": [
    "# calculate embedding correction term\n",
    "\n",
    "dm_correction = np.einsum('ij, ij', V_embed, density_emb-dm_active)\n",
    "WF_correction = np.einsum('ij, ij', V_embed, dm_active)\n",
    "\n",
    "print(f'RKS correction: {dm_correction}')\n",
    "print(f'WF correction: {WF_correction}')"
   ]
  },
  {
   "cell_type": "code",
   "execution_count": null,
   "metadata": {},
   "outputs": [],
   "source": []
  },
  {
   "cell_type": "code",
   "execution_count": 182,
   "metadata": {},
   "outputs": [
    {
     "data": {
      "text/plain": [
       "-14.472885087864878"
      ]
     },
     "execution_count": 182,
     "metadata": {},
     "output_type": "execute_result"
    }
   ],
   "source": [
    "## PsiEmbed Way\n",
    "\n",
    "# J_emb, K_emb =EMBEDDED_full_system_scf.get_jk(dm=density_emb) \n",
    "\n",
    "# # note this uses the STANDARD H_core\n",
    "# matrix_dot = lambda A, B: np.einsum('ij,ij', A, B)\n",
    "# e_act_emb = matrix_dot(density_emb, h_core + 0.5 * J_emb - 0.25 * K_emb)\n",
    "# e_act_emb\n",
    "\n",
    "## MY way\n",
    "e_act_emb = full_system_scf.energy_elec(dm=density_emb,\n",
    "                                        vhf= full_system_scf.get_veff(dm=density_emb),\n",
    "                                       h1e = h_core)[0]\n",
    "e_act_emb"
   ]
  },
  {
   "cell_type": "code",
   "execution_count": 143,
   "metadata": {},
   "outputs": [
    {
     "data": {
      "text/plain": [
       "-74.88017675990315"
      ]
     },
     "execution_count": 143,
     "metadata": {},
     "output_type": "execute_result"
    }
   ],
   "source": [
    "e_mf_emb = e_act_emb + E_env + two_e_cross + full_system_scf.energy_nuc() + dm_correction\n",
    "e_mf_emb # <-- energy from embedded DFT calc"
   ]
  },
  {
   "cell_type": "code",
   "execution_count": 144,
   "metadata": {},
   "outputs": [
    {
     "name": "stdout",
     "output_type": "stream",
     "text": [
      "global DFT calculation == seperated calculation: False\n"
     ]
    }
   ],
   "source": [
    "print(f'global DFT calculation == seperated calculation: {np.isclose(e_mf_emb, full_system_scf.e_tot)}')\n",
    "# expected as same functional used!"
   ]
  },
  {
   "cell_type": "code",
   "execution_count": 145,
   "metadata": {},
   "outputs": [
    {
     "data": {
      "text/plain": [
       "-74.73474041595246"
      ]
     },
     "execution_count": 145,
     "metadata": {},
     "output_type": "execute_result"
    }
   ],
   "source": [
    "full_system_scf.e_tot"
   ]
  },
  {
   "cell_type": "markdown",
   "metadata": {},
   "source": [
    "# 6. High level DFT calc!"
   ]
  },
  {
   "cell_type": "code",
   "execution_count": 146,
   "metadata": {},
   "outputs": [],
   "source": [
    "full_system_mol_HIGH_LEVEL_DFT = gto.Mole(atom= geometry,\n",
    "                      basis=basis,\n",
    "                       charge=charge,\n",
    "                       spin=spin,\n",
    "                      )\n",
    "\n",
    "full_system_mol_HIGH_LEVEL_DFT.nelectron = 2*len(active_MO_inds) # <------ IMPORTANT!\n",
    "full_system_mol_HIGH_LEVEL_DFT.build()\n",
    "\n",
    "full_system_scf_HIGH_LEVEL = scf.RKS(full_system_mol_HIGH_LEVEL_DFT)\n",
    "full_system_scf_HIGH_LEVEL.verbose=1\n",
    "full_system_scf_HIGH_LEVEL.max_memory= memory\n",
    "full_system_scf_HIGH_LEVEL.conv_tol = 1e-6\n",
    "full_system_scf_HIGH_LEVEL.xc = high_level_xc_functional # <-- BETTER functional!\n",
    "\n",
    "\n",
    "# full_system_scf_HIGH_LEVEL.kernel() < --- do NOT RUN THIS"
   ]
  },
  {
   "cell_type": "code",
   "execution_count": 147,
   "metadata": {},
   "outputs": [
    {
     "data": {
      "text/plain": [
       "(-14.515700152112746, 0.830601962508047)"
      ]
     },
     "execution_count": 147,
     "metadata": {},
     "output_type": "execute_result"
    }
   ],
   "source": [
    "# run energy calc using high level functional (note density matrix is embedded A)\n",
    "\n",
    "e_act_emb_HIGH_LVL = full_system_scf_HIGH_LEVEL.energy_elec(dm=density_emb)\n",
    "e_act_emb_HIGH_LVL "
   ]
  },
  {
   "cell_type": "code",
   "execution_count": 148,
   "metadata": {},
   "outputs": [
    {
     "data": {
      "text/plain": [
       "-74.92299182415101"
      ]
     },
     "execution_count": 148,
     "metadata": {},
     "output_type": "execute_result"
    }
   ],
   "source": [
    "E_high_lvl_DFT = e_act_emb_HIGH_LVL[0] + E_env + two_e_cross + full_system_scf.energy_nuc() + dm_correction\n",
    "E_high_lvl_DFT # <-- energy from embedded DFT calc"
   ]
  },
  {
   "cell_type": "code",
   "execution_count": null,
   "metadata": {},
   "outputs": [],
   "source": []
  },
  {
   "cell_type": "code",
   "execution_count": 183,
   "metadata": {},
   "outputs": [
    {
     "name": "stdout",
     "output_type": "stream",
     "text": [
      "High level DFT in DFT error: 0.09236065437380603\n",
      "LOW level DFT in DFT error: 0.13517571862166733\n"
     ]
    }
   ],
   "source": [
    "print('High level DFT in DFT error:', np.abs(E_high_lvl_DFT-my_fci.e_tot))\n",
    "print('LOW level DFT in DFT error:', np.abs(e_mf_emb-my_fci.e_tot))"
   ]
  },
  {
   "cell_type": "code",
   "execution_count": null,
   "metadata": {},
   "outputs": [],
   "source": []
  },
  {
   "cell_type": "code",
   "execution_count": null,
   "metadata": {},
   "outputs": [],
   "source": []
  },
  {
   "cell_type": "markdown",
   "metadata": {},
   "source": [
    "# 7. High level WF calc (classical run) !"
   ]
  },
  {
   "cell_type": "code",
   "execution_count": 184,
   "metadata": {},
   "outputs": [],
   "source": [
    "full_system_mol_EMBEDDED_HF = gto.Mole(atom= geometry,\n",
    "                      basis=basis,\n",
    "                       charge=charge,\n",
    "                       spin=spin,\n",
    "                      )\n",
    "full_system_mol_EMBEDDED_HF.build()\n",
    "\n",
    "# RE-DEFINE number of electrons in system\n",
    "full_system_mol_EMBEDDED_HF.nelectron = 2*len(active_MO_inds) # <------ IMPORTANT!\n",
    "\n",
    "EMBEDDED_full_system_scf_HF = scf.RHF(full_system_mol_EMBEDDED) # <---- Hartree Fock Calc!\n",
    "EMBEDDED_full_system_scf_HF.verbose=1\n",
    "EMBEDDED_full_system_scf_HF.max_memory= memory\n",
    "EMBEDDED_full_system_scf_HF.conv_tol = 1e-6\n",
    "\n",
    "h_core = EMBEDDED_full_system_scf_HF.get_hcore()\n",
    "\n",
    "# overwrite h_core to include embedding term!!!!\n",
    "EMBEDDED_full_system_scf_HF.get_hcore = lambda *args: V_embed + h_core\n",
    "\n",
    "# EMBEDDED_full_system_scf_HF.kernel() # <------ do NOT RUN!"
   ]
  },
  {
   "cell_type": "code",
   "execution_count": 185,
   "metadata": {},
   "outputs": [
    {
     "name": "stdout",
     "output_type": "stream",
     "text": [
      "-2.715901733615167\n",
      "6.41238199466777\n",
      "\n",
      "-2.715901733615167\n",
      "6.41238199466777\n"
     ]
    }
   ],
   "source": [
    "# overwrite orbs with RKS embedded orbs!\n",
    "EMBEDDED_full_system_scf_HF.mo_coeff = EMBEDDED_full_system_scf.mo_coeff \n",
    "EMBEDDED_full_system_scf_HF.mo_occ = EMBEDDED_full_system_scf.mo_occ \n",
    "EMBEDDED_full_system_scf_HF.mo_energy = EMBEDDED_full_system_scf.mo_energy\n",
    "\n",
    "print(EMBEDDED_full_system_scf_HF.energy_elec(dm=density_emb)[0])\n",
    "print(EMBEDDED_full_system_scf_HF.energy_tot(dm=density_emb))\n",
    "print()\n",
    "print(EMBEDDED_full_system_scf_HF.energy_elec()[0])\n",
    "print(EMBEDDED_full_system_scf_HF.energy_tot())"
   ]
  },
  {
   "cell_type": "code",
   "execution_count": null,
   "metadata": {},
   "outputs": [],
   "source": []
  },
  {
   "cell_type": "code",
   "execution_count": 187,
   "metadata": {},
   "outputs": [],
   "source": [
    "# EMBEDDED_full_system_scf_HF.kernel()\n",
    "# FCI_embedded = fci.FCI(EMBEDDED_full_system_scf_HF)\n",
    "# E_FCI,FCI_vec = FCI_embedded.kernel()\n",
    "# # from pyscf.ci.cisd import  to_fcivec\n",
    "# # cisdWFN   = to_fcivec(C_FCI, len(active_MO_inds), 2*len(active_MO_inds))\n",
    "\n",
    "# RDM1 = FCI_embedded.make_rdm1(FCI_vec,\n",
    "#                        norb=EMBEDDED_full_system_scf_HF.mo_coeff.shape[1],\n",
    "#                        nelec=2*len(active_MO_inds))\n",
    "\n",
    "# V,S, U = np.linalg.svd(RDM1)\n",
    "# print(np.isclose(2*len(active_MO_inds), np.sum(S)))\n",
    "# print(S)\n",
    "\n",
    "# print('')\n",
    "# print('ignore: ', S[])"
   ]
  },
  {
   "cell_type": "code",
   "execution_count": null,
   "metadata": {},
   "outputs": [],
   "source": []
  },
  {
   "cell_type": "code",
   "execution_count": 56,
   "metadata": {},
   "outputs": [
    {
     "name": "stdout",
     "output_type": "stream",
     "text": [
      "E(CCSD) = 6.375653448171412  E_corr = -0.03672854649635866\n",
      "\n",
      "CC hartree fock energy matches HF embedded calc: True!\n"
     ]
    },
    {
     "data": {
      "text/plain": [
       "6.41238199466777"
      ]
     },
     "execution_count": 56,
     "metadata": {},
     "output_type": "execute_result"
    }
   ],
   "source": [
    "## CCSD calculation\n",
    "\n",
    "embedded_cc_obj = cc.CCSD(EMBEDDED_full_system_scf_HF)\n",
    "\n",
    "embedded_cc_obj.frozen = [i for i in range(EMBEDDED_full_system_scf_HF.mol.nao - len(enviro_MO_inds),\n",
    "                                           EMBEDDED_full_system_scf_HF.mol.nao)\n",
    "                         ]\n",
    "# embedded_cc_obj.frozen  = enviro_MO_inds.tolist()\n",
    "\n",
    "e_cc, t1, t2 = embedded_cc_obj.kernel()\n",
    "\n",
    "CC_flag_check = np.isclose(EMBEDDED_full_system_scf_HF.energy_tot(dm=density_emb),\n",
    "                          embedded_cc_obj.e_hf)\n",
    "\n",
    "print(f'\\nCC hartree fock energy matches HF embedded calc: {CC_flag_check}!')\n",
    "embedded_cc_obj.e_hf"
   ]
  },
  {
   "cell_type": "code",
   "execution_count": null,
   "metadata": {},
   "outputs": [],
   "source": []
  },
  {
   "cell_type": "code",
   "execution_count": 58,
   "metadata": {},
   "outputs": [
    {
     "name": "stdout",
     "output_type": "stream",
     "text": [
      "orbital energies:\n",
      "[-0.60880946 -0.5386189  -0.09700736 -0.04716088  0.14159934  0.61023583\n",
      " 17.09380523]\n"
     ]
    }
   ],
   "source": [
    "print('orbital energies:')\n",
    "print(EMBEDDED_full_system_scf_HF.mo_energy)"
   ]
  },
  {
   "cell_type": "code",
   "execution_count": 61,
   "metadata": {},
   "outputs": [
    {
     "name": "stdout",
     "output_type": "stream",
     "text": [
      "[3, 4, 5, 6]\n"
     ]
    }
   ],
   "source": [
    "print(embedded_cc_obj.frozen)"
   ]
  },
  {
   "cell_type": "code",
   "execution_count": null,
   "metadata": {},
   "outputs": [],
   "source": []
  },
  {
   "cell_type": "code",
   "execution_count": 62,
   "metadata": {},
   "outputs": [
    {
     "data": {
      "text/plain": [
       "-74.85818871354076"
      ]
     },
     "execution_count": 62,
     "metadata": {},
     "output_type": "execute_result"
    }
   ],
   "source": [
    "WF_correction  = np.einsum('ij, ij', V_embed, dm_active) # note different definition\n",
    "\n",
    "E_WF = embedded_cc_obj.e_hf +e_cc  + E_env + two_e_cross - WF_correction\n",
    "E_WF "
   ]
  },
  {
   "cell_type": "code",
   "execution_count": null,
   "metadata": {},
   "outputs": [],
   "source": []
  },
  {
   "cell_type": "code",
   "execution_count": 63,
   "metadata": {},
   "outputs": [
    {
     "name": "stdout",
     "output_type": "stream",
     "text": [
      "High level DFT in DFT error: 0.09236065437380603\n",
      "LOW level DFT in DFT error: 0.13517571862166733\n",
      "WF in DFT error: 0.15716376498406248\n"
     ]
    }
   ],
   "source": [
    "print('High level DFT in DFT error:', np.abs(E_high_lvl_DFT-my_fci.e_tot))\n",
    "print('LOW level DFT in DFT error:', np.abs(e_mf_emb-my_fci.e_tot))\n",
    "\n",
    "print('WF in DFT error:', np.abs(E_WF-my_fci.e_tot))"
   ]
  },
  {
   "cell_type": "code",
   "execution_count": null,
   "metadata": {},
   "outputs": [],
   "source": []
  },
  {
   "cell_type": "code",
   "execution_count": 64,
   "metadata": {
    "scrolled": true
   },
   "outputs": [
    {
     "name": "stdout",
     "output_type": "stream",
     "text": [
      " Iterative localization: IB/P4/2x2, 5 iter; Final gradient 5.55e-19\n",
      "\n",
      "overlap: [-0.02353434 -1.40488965 -0.69080156 -1.59840068  1.2031823 ]\n",
      "threshold for active part: 0.95 \n",
      "\n",
      "number of active MOs: 1\n",
      "number of enviro MOs: 4 \n",
      "\n",
      "N_active_elec + N_environment_elec = N_total_elec is: True\n",
      "y_active + y_enviro = y_total is: True\n",
      "\n",
      "number of e- in gamma_embedded is correct: True\n",
      "\n",
      "\n",
      "RKS correction: -1.8800667021299844\n",
      "\n",
      "\n",
      "global DFT calculation == seperated calculation: False\n",
      "Cheap DFT energy Calculation: -74.88017675990315\n",
      "\n",
      "\n",
      "Expensive DFT energy Calculation: -74.92299178523305\n",
      "\n",
      "E(CCSD) = 6.375653448171412  E_corr = -0.03672854649635866\n",
      "\n",
      "WF hartree fock energy matches HF embedded calc: True!\n",
      "\n",
      "\n",
      "WF correction: 13.57833346352092\n",
      "Expensive WF (classic) energy Calculation: -74.85818871354076\n",
      "\n",
      "H core is NOT standard H_core\n",
      "expect 2 electrons\n",
      "quantum state has 3 electrons \n",
      "\n",
      "number of electrons correct: False\n",
      "superposition states: [11 14 25 26 28 35 37 38 50 52]\n"
     ]
    }
   ],
   "source": [
    "drive_obj = vqe_in_dft.embeddeding_SCF_driver(geometry,\n",
    "                 N_active_atoms,\n",
    "                 projector_method,\n",
    "                 cheap_global_SCF_method='RKS', \n",
    "                 cheap_global_DFT_xc= 'lda, vwn',\n",
    "                 expensive_global_DFT_xc = 'b3lyp',\n",
    "                 cheap_WF_method = 'RHF',\n",
    "                 expensive_WF_method = 'CCSD',\n",
    "                 E_convergence_tol = 1e-6,\n",
    "                 basis = basis,\n",
    "                 unit= 'angstrom',\n",
    "                 pyscf_print_level=1,\n",
    "                 memory=8000,\n",
    "                 charge=0,\n",
    "                 spin=0,\n",
    "                 run_fci=False,\n",
    "                 run_cisd=False,\n",
    "                 mu_value=1e6,\n",
    "                 physists_notation= phys_notation)\n",
    "\n",
    "E_DFT_low, E_DFT_high, E_Classical, E_QC = drive_obj.run_experiment(localization_method, \n",
    "                                                                      orbtial_loc_threshold=THRESHOLD)"
   ]
  },
  {
   "cell_type": "code",
   "execution_count": 70,
   "metadata": {},
   "outputs": [],
   "source": [
    "# np.binary_repr(52).count('1')  "
   ]
  },
  {
   "cell_type": "code",
   "execution_count": 71,
   "metadata": {},
   "outputs": [
    {
     "name": "stdout",
     "output_type": "stream",
     "text": [
      "LOW level DFT in DFT error: 60.54246739065994\n",
      "High level DFT in DFT error: 0.09236069329176644\n",
      "WF in DFT error: 0.15716376498406248\n",
      "VQE in DFT error: 0.04200443233688134\n"
     ]
    }
   ],
   "source": [
    "print('LOW level DFT in DFT error:', np.abs(E_DFT_low-my_fci.e_tot))\n",
    "print('High level DFT in DFT error:', np.abs(E_DFT_high-my_fci.e_tot))\n",
    "print('WF in DFT error:', np.abs(E_Classical-my_fci.e_tot))\n",
    "print('VQE in DFT error:', np.abs(E_QC-my_fci.e_tot))"
   ]
  },
  {
   "cell_type": "code",
   "execution_count": 41,
   "metadata": {},
   "outputs": [
    {
     "name": "stdout",
     "output_type": "stream",
     "text": [
      "-74.88017675990315\n",
      "-74.92299182415101\n",
      "-74.85818871354076\n"
     ]
    }
   ],
   "source": [
    "print(e_mf_emb)\n",
    "print(E_high_lvl_DFT)\n",
    "print(E_WF)"
   ]
  },
  {
   "cell_type": "code",
   "execution_count": null,
   "metadata": {},
   "outputs": [],
   "source": []
  },
  {
   "cell_type": "code",
   "execution_count": 42,
   "metadata": {},
   "outputs": [
    {
     "ename": "NameError",
     "evalue": "name 'fdasd' is not defined",
     "output_type": "error",
     "traceback": [
      "\u001b[0;31m---------------------------------------------------------------------------\u001b[0m",
      "\u001b[0;31mNameError\u001b[0m                                 Traceback (most recent call last)",
      "\u001b[0;32m<ipython-input-42-3d65f949ecd5>\u001b[0m in \u001b[0;36m<module>\u001b[0;34m\u001b[0m\n\u001b[0;32m----> 1\u001b[0;31m \u001b[0mfdasd\u001b[0m\u001b[0;34m\u001b[0m\u001b[0;34m\u001b[0m\u001b[0m\n\u001b[0m",
      "\u001b[0;31mNameError\u001b[0m: name 'fdasd' is not defined"
     ]
    }
   ],
   "source": [
    "fdasd"
   ]
  },
  {
   "cell_type": "markdown",
   "metadata": {},
   "source": [
    "# QC part"
   ]
  },
  {
   "cell_type": "markdown",
   "metadata": {},
   "source": [
    "$$H_{fermionic} = h_{nuc} + \\sum_{p, q} h_{pq} a_{p}^{\\dagger} a_{q} + \\frac{1}{2} \\sum_{p, q ,r ,s} h_{pqrs} a_{p}^{\\dagger} a_{q}^{\\dagger} a_{r} a_{s}$$\n",
    "\n",
    "where:\n",
    "\n",
    "- $$h_{pq} = \\int d{\\vec{x}} \\phi_{p}^{*}({\\vec{x}}) \\bigg( - \\frac{\\nabla^{2}_{{\\vec{r}}}}{2} - \\sum_{I} \\frac{Z_{I}}{|{\\vec{r}} - {\\vec{R}_{I}} |} \\bigg) \\phi_{q}({\\vec{x}})$$\n",
    "\n",
    "\n",
    "- $$h_{pqrs} = \\int d{\\vec{x}}_{1} d{\\vec{x}}_{2} \\frac{\\phi_{p}^{*}({\\vec{x}}_{1}) \\phi_{q}^{*}({\\vec{x}}_{2}) \\phi_{s}({\\vec{x}}_{1}) \\phi_{r}({\\vec{x}}_{2})}{|{\\vec{r}_{1}} - {\\vec{r}}_{2}|}$$ \n",
    "\n",
    "\n",
    "- $$h_{nuc} = \\frac{1}{2} \\sum_{I \\neq J} \\frac{Z_{I} Z_{J}}{| {\\vec{R}}_{I} - {\\vec{R}}_{J}|}$$"
   ]
  },
  {
   "cell_type": "markdown",
   "metadata": {},
   "source": [
    "note project means we don't want last set of MO orbs filled!"
   ]
  },
  {
   "cell_type": "code",
   "execution_count": null,
   "metadata": {},
   "outputs": [],
   "source": [
    "EMBEDDED_full_system_scf_HF.mo_coeff[:]"
   ]
  },
  {
   "cell_type": "code",
   "execution_count": null,
   "metadata": {},
   "outputs": [],
   "source": [
    "N_enviroment_MOs = len(enviro_MO_inds) \n",
    "\n",
    "one_body_integrals, two_body_integrals = vqe_in_dft.Get_embedded_one_and_two_body_integrals_MO_basis(EMBEDDED_full_system_scf_HF,\n",
    "                                                                                            N_enviroment_MOs,\n",
    "                                                                                            physists_notation=phys_notation)"
   ]
  },
  {
   "cell_type": "code",
   "execution_count": null,
   "metadata": {},
   "outputs": [],
   "source": [
    "print(one_body_integrals.shape)\n",
    "print(two_body_integrals.shape)\n",
    "\n",
    "print(active_MO_inds)\n",
    "print(enviro_MO_inds)"
   ]
  },
  {
   "cell_type": "code",
   "execution_count": null,
   "metadata": {},
   "outputs": [],
   "source": [
    "one_body_terms, two_body_terms = vqe_in_dft.Get_SpinOrbs_from_Spatial(one_body_integrals,\n",
    "                                                                   two_body_integrals,\n",
    "                                                                   physists_notation=phys_notation,\n",
    "                                                                   EQ_Tolerance=1e-8)"
   ]
  },
  {
   "cell_type": "code",
   "execution_count": null,
   "metadata": {},
   "outputs": [],
   "source": [
    "Nuclear_energy =  full_system_scf.energy_nuc()\n",
    "\n",
    "H_fermionic = vqe_in_dft.Get_fermionic_H(one_body_terms, \n",
    "                                     two_body_terms, \n",
    "                                     Nuclear_energy,\n",
    "                                     core_constant=0, \n",
    "                                     physists_notation=phys_notation)"
   ]
  },
  {
   "cell_type": "code",
   "execution_count": null,
   "metadata": {},
   "outputs": [],
   "source": [
    "len(list(H_fermionic))"
   ]
  },
  {
   "cell_type": "code",
   "execution_count": null,
   "metadata": {},
   "outputs": [],
   "source": [
    "from openfermion.linalg import get_sparse_operator\n",
    "H_sparse = get_sparse_operator(H_fermionic)"
   ]
  },
  {
   "cell_type": "code",
   "execution_count": null,
   "metadata": {},
   "outputs": [],
   "source": [
    "eigvals_EMBED, eigvecs_EMBED = sp.sparse.linalg.eigsh(H_sparse, which='SA', k=1)\n",
    "eigvals_EMBED"
   ]
  },
  {
   "cell_type": "code",
   "execution_count": null,
   "metadata": {},
   "outputs": [],
   "source": [
    "WF_correction  = np.einsum('ij, ij', V_embed, dm_active) # note different definition\n",
    "\n",
    "E_VQE = eigvals_EMBED[0]  + E_env + two_e_cross - WF_correction\n",
    "E_VQE "
   ]
  },
  {
   "cell_type": "code",
   "execution_count": null,
   "metadata": {},
   "outputs": [],
   "source": [
    "N_electrons_expected = 2*len(active_MO_inds)\n",
    "N_electrons_Q_state = np.binary_repr(np.where(np.abs(eigvecs_EMBED)>1e-2)[0][0]).count('1') \n",
    "\n",
    "print(f'expect {N_electrons_expected} electrons')\n",
    "print(f'quantum state has {N_electrons_Q_state} electrons \\n')\n",
    "\n",
    "print(f'number of electrons correct: {N_electrons_expected == N_electrons_Q_state}')"
   ]
  },
  {
   "cell_type": "code",
   "execution_count": null,
   "metadata": {},
   "outputs": [],
   "source": []
  },
  {
   "cell_type": "code",
   "execution_count": null,
   "metadata": {},
   "outputs": [],
   "source": [
    "print('High level DFT in DFT error:', np.abs(E_high_lvl_DFT-my_fci.e_tot))\n",
    "print('LOW level DFT in DFT error:', np.abs(e_mf_emb-my_fci.e_tot))\n",
    "\n",
    "\n",
    "print('WF in DFT error:', np.abs(E_WF-my_fci.e_tot))\n",
    "print('VQE error:', np.abs(E_VQE-my_fci.e_tot))"
   ]
  },
  {
   "cell_type": "code",
   "execution_count": null,
   "metadata": {},
   "outputs": [],
   "source": []
  },
  {
   "cell_type": "code",
   "execution_count": null,
   "metadata": {},
   "outputs": [],
   "source": [
    "where=np.where(np.around(eigvecs_EMBED, 4)>0)[0]\n",
    "print(where)\n",
    "\n",
    "np.binary_repr(where[0]).count('1') "
   ]
  },
  {
   "cell_type": "code",
   "execution_count": null,
   "metadata": {},
   "outputs": [],
   "source": []
  }
 ],
 "metadata": {
  "kernelspec": {
   "display_name": "Python 3",
   "language": "python",
   "name": "python3"
  },
  "language_info": {
   "codemirror_mode": {
    "name": "ipython",
    "version": 3
   },
   "file_extension": ".py",
   "mimetype": "text/x-python",
   "name": "python",
   "nbconvert_exporter": "python",
   "pygments_lexer": "ipython3",
   "version": "3.7.6"
  }
 },
 "nbformat": 4,
 "nbformat_minor": 4
}
