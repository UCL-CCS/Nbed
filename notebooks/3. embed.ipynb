{
 "cells": [
  {
   "cell_type": "code",
   "execution_count": 1,
   "metadata": {},
   "outputs": [],
   "source": [
    "import os\n",
    "import yaml"
   ]
  },
  {
   "cell_type": "code",
   "execution_count": 2,
   "metadata": {},
   "outputs": [],
   "source": [
    "notebook_dir = os.getcwd()\n",
    "top_dir = os.path.dirname(notebook_dir)\n",
    "test_dir = os.path.join(top_dir, 'tests')\n",
    "\n",
    "\n",
    "molecules_dir = os.path.join(test_dir, 'molecules')\n",
    "water_xyz_file = os.path.join(molecules_dir, 'water.xyz')\n",
    "\n",
    "yaml_test_file = os.path.join(test_dir, 'test_config.yaml')"
   ]
  },
  {
   "cell_type": "code",
   "execution_count": 3,
   "metadata": {},
   "outputs": [
    {
     "name": "stdout",
     "output_type": "stream",
     "text": [
      "3\n",
      "Water\n",
      "O   0.00000  0.0000000  0.1653507\n",
      "H   0.00000  0.7493682 -0.4424329\n",
      "H   0.00000 -0.7493682 -0.4424329 \n"
     ]
    }
   ],
   "source": [
    "with open(water_xyz_file, 'r') as infile:\n",
    "    geometry = infile.read()\n",
    "print(geometry)"
   ]
  },
  {
   "cell_type": "code",
   "execution_count": 4,
   "metadata": {},
   "outputs": [
    {
     "data": {
      "text/plain": [
       "{'geometry': 'tests/molecules/water.xyz',\n",
       " 'active_atoms': 2,\n",
       " 'convergence': 1e-06,\n",
       " 'qubits': 8,\n",
       " 'basis': 'STO-3G',\n",
       " 'xc_functional': 'b3lyp',\n",
       " 'output': 'openfermion',\n",
       " 'localisation': 'spade',\n",
       " 'savefile': 'data/savefile.json'}"
      ]
     },
     "execution_count": 4,
     "metadata": {},
     "output_type": "execute_result"
    }
   ],
   "source": [
    "with open(yaml_test_file, \"r\") as infile_yaml:\n",
    "    try:\n",
    "        input_dict = yaml.safe_load(infile_yaml)\n",
    "    except yaml.YAMLError as exc:\n",
    "        print(exc)\n",
    "input_dict = input_dict['nbed']\n",
    "input_dict"
   ]
  },
  {
   "cell_type": "code",
   "execution_count": 5,
   "metadata": {},
   "outputs": [],
   "source": [
    "geometry = water_xyz_file"
   ]
  },
  {
   "cell_type": "code",
   "execution_count": 6,
   "metadata": {},
   "outputs": [
    {
     "name": "stderr",
     "output_type": "stream",
     "text": [
      "/Users/lex/anaconda3/envs/embed/lib/python3.9/site-packages/pyscf/lib/misc.py:46: H5pyDeprecationWarning: Using default_file_mode other than 'r' is deprecated. Pass the mode to h5py.File() instead.\n",
      "  h5py.get_config().default_file_mode = 'a'\n"
     ]
    },
    {
     "name": "stdout",
     "output_type": "stream",
     "text": [
      "global FCI: -75.01535247594687\n"
     ]
    }
   ],
   "source": [
    "from nbed.embed import nbed_driver\n",
    "\n",
    "n_active_atoms = input_dict['active_atoms']\n",
    "basis = input_dict['basis']\n",
    "xc_functional = input_dict['xc_functional']\n",
    "convergence = input_dict['convergence']\n",
    "charge = 0\n",
    "mu_level_shift=1e6\n",
    "run_ccsd = True\n",
    "run_fci = True\n",
    "max_ram = 8_000\n",
    "\n",
    "\n",
    "loc_method = 'pipekmezey'#input_dict['localisation'] # \"spade\" #\"spade\" #\"pipekmezey\" \"ibo\" \"boys\"\n",
    "run_mu_shift = True\n",
    "run_huzinaga = True\n",
    "\n",
    "\n",
    "exp_obj = nbed_driver(\n",
    "    geometry ,\n",
    "    n_active_atoms,\n",
    "    basis,\n",
    "    xc_functional,\n",
    "    convergence,\n",
    "    localization_method= loc_method,\n",
    "    run_mu_shift = run_mu_shift,\n",
    "    run_huzinaga = run_huzinaga,\n",
    "    mu_level_shift = mu_level_shift,\n",
    "    run_ccsd_emb = run_ccsd,\n",
    "    max_ram_memory = max_ram,\n",
    "    run_fci_emb=run_fci,\n",
    "    perform_global_fci=True,\n",
    "    get_full_system_H= True)\n"
   ]
  },
  {
   "cell_type": "code",
   "execution_count": 7,
   "metadata": {},
   "outputs": [
    {
     "name": "stdout",
     "output_type": "stream",
     "text": [
      "orbs: [-18.83525318  -0.93132671  -0.43263415  -0.23435814  -0.14179089\n",
      "   0.35582625   0.46190031]\n",
      "act: -76.71295826885648\n",
      "e_env: -24.4571531839688\n",
      "two_e_cross: 16.7639428904959\n",
      "energy_nuc: 9.128283728282938\n",
      "embedded HF energy MU_SHIFT: -50.682737340673995, converged: True\n",
      "CCSD Energy MU shift:\n",
      "\t%s -74.63288047544528\n",
      "FCI Energy MU shift:\n",
      "\t%s -75.60464690817072\n",
      "embedded HF energy HUZINAGA: -50.68273652091287, converged: True\n",
      "object test : -50.68273654519365\n",
      "CCSD Energy HUZ:\n",
      "\t%s -74.63387776610521\n",
      "FCI Energy HUZ:\n",
      "\t%s -75.26474762053091\n",
      "number of e- in embedded system: 6\n",
      "[0 3 4]\n",
      "[1 2]\n"
     ]
    }
   ],
   "source": [
    "exp_obj.Generate_embedded_H()"
   ]
  },
  {
   "cell_type": "code",
   "execution_count": 8,
   "metadata": {},
   "outputs": [
    {
     "name": "stdout",
     "output_type": "stream",
     "text": [
      "********************************************************************************\n",
      "                         Summary of Embedded Calculation                        \n",
      "********************************************************************************\n",
      "global (cheap) DFT calculation -75.27788483404673\n",
      "********************************************************************************\n",
      "  Huzinaga calculation\n",
      "Total energy - active system at RHF level: -74.62417366287576\n",
      "Total energy - active system at CCSD level: -74.63387776610521\n",
      "Total energy - active system at FCI level: -75.26474762053091\n",
      "length of huzinaga embedded fermionic Hamiltonian: 811\n",
      "number of qubits required: 10\n",
      "********************************************************************************\n",
      "  Mu shift calculation\n",
      "Total energy - active system at RHF level: -74.62417448269424\n",
      "Total energy - active system at CCSD level: -74.63288047544528\n",
      "Total energy - active system at FCI level: -75.60464690817072\n",
      "length of mu embedded fermionic Hamiltonian: 811\n",
      "number of qubits required: 10\n",
      "********************************************************************************\n",
      "                         Summary of reference Calculation                       \n",
      "********************************************************************************\n",
      "global (expensive) full FCI calculation -75.01535247594687\n",
      "length of full system fermionic Hamiltonian: 3151\n",
      "number of qubits required: 14\n"
     ]
    }
   ],
   "source": [
    "exp_obj.print_summary()"
   ]
  },
  {
   "cell_type": "code",
   "execution_count": 9,
   "metadata": {},
   "outputs": [],
   "source": [
    "from nbed.embed import get_qubit_hamiltonian\n",
    "\n",
    "qubit_H_mu = get_qubit_hamiltonian(exp_obj.molecular_ham_MU, 'jordan_wigner')\n",
    "qubit_H_huz = get_qubit_hamiltonian(exp_obj.molecular_ham_HUZ, 'jordan_wigner')\n",
    "\n",
    "qubit_H_full_system = get_qubit_hamiltonian(exp_obj.full_system_molecular_ham, 'jordan_wigner')"
   ]
  },
  {
   "cell_type": "code",
   "execution_count": 10,
   "metadata": {},
   "outputs": [
    {
     "data": {
      "text/plain": [
       "276"
      ]
     },
     "execution_count": 10,
     "metadata": {},
     "output_type": "execute_result"
    }
   ],
   "source": [
    "len(qubit_H_mu.terms)"
   ]
  },
  {
   "cell_type": "code",
   "execution_count": 11,
   "metadata": {},
   "outputs": [],
   "source": [
    "from openfermion.linalg import get_sparse_operator\n",
    "H_sparse_mu = get_sparse_operator(qubit_H_mu)\n",
    "H_sparse_huz = get_sparse_operator(qubit_H_huz)"
   ]
  },
  {
   "cell_type": "code",
   "execution_count": 12,
   "metadata": {},
   "outputs": [],
   "source": [
    "import scipy as sp\n",
    "eig_vals_emb_mu, eig_vecs_emb_mu = sp.sparse.linalg.eigsh(H_sparse_mu,\n",
    "                                                   which='SA',\n",
    "                                                   k=1)\n",
    "del H_sparse_mu\n",
    "\n",
    "eig_vals_emb_huz, eig_vecs_emb_huz = sp.sparse.linalg.eigsh(H_sparse_huz,\n",
    "                                                   which='SA',\n",
    "                                                   k=1)\n",
    "del H_sparse_huz"
   ]
  },
  {
   "cell_type": "code",
   "execution_count": 13,
   "metadata": {},
   "outputs": [
    {
     "name": "stdout",
     "output_type": "stream",
     "text": [
      "-75.60464690837318\n",
      "-75.26474762053124\n",
      "0.3398992878419449\n"
     ]
    }
   ],
   "source": [
    "import numpy as np\n",
    "mu_full_quantum = eig_vals_emb_mu[0] \n",
    "huz_full_quantum = eig_vals_emb_huz[0]\n",
    "\n",
    "print(mu_full_quantum)\n",
    "print(huz_full_quantum)\n",
    "\n",
    "print(np.abs(huz_full_quantum-mu_full_quantum))"
   ]
  },
  {
   "cell_type": "code",
   "execution_count": 14,
   "metadata": {},
   "outputs": [
    {
     "data": {
      "text/plain": [
       "6"
      ]
     },
     "execution_count": 14,
     "metadata": {},
     "output_type": "execute_result"
    }
   ],
   "source": [
    "N_elec_qubit_state = np.binary_repr(\n",
    "                                    np.where(np.abs(eig_vecs_emb_huz)>1e-2)[0][0]\n",
    "                                    ).count('1')\n",
    "N_elec_qubit_state"
   ]
  },
  {
   "cell_type": "code",
   "execution_count": 15,
   "metadata": {},
   "outputs": [
    {
     "data": {
      "text/plain": [
       "6"
      ]
     },
     "execution_count": 15,
     "metadata": {},
     "output_type": "execute_result"
    }
   ],
   "source": [
    "N_elec_qubit_state = np.binary_repr(\n",
    "                                    np.where(np.abs(eig_vecs_emb_huz[:,0].real)==max(np.abs(eig_vecs_emb_huz[:,0].real)))[0][0]\n",
    "                                    ).count('1')\n",
    "N_elec_qubit_state"
   ]
  },
  {
   "cell_type": "code",
   "execution_count": null,
   "metadata": {},
   "outputs": [],
   "source": []
  }
 ],
 "metadata": {
  "interpreter": {
   "hash": "fe514aa320be100644bbd958a3f38aa9f15de9075cf36cc4d239ea0f19dcd868"
  },
  "kernelspec": {
   "display_name": "Python 3 (ipykernel)",
   "language": "python",
   "name": "python3"
  },
  "language_info": {
   "codemirror_mode": {
    "name": "ipython",
    "version": 3
   },
   "file_extension": ".py",
   "mimetype": "text/x-python",
   "name": "python",
   "nbconvert_exporter": "python",
   "pygments_lexer": "ipython3",
   "version": "3.9.7"
  }
 },
 "nbformat": 4,
 "nbformat_minor": 4
}
