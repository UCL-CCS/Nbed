{
 "cells": [
  {
   "cell_type": "code",
   "execution_count": 1,
   "metadata": {},
   "outputs": [
    {
     "name": "stderr",
     "output_type": "stream",
     "text": [
      "/home/lex/anaconda3/envs/embed/lib/python3.9/site-packages/pyscf/lib/misc.py:46: H5pyDeprecationWarning: Using default_file_mode other than 'r' is deprecated. Pass the mode to h5py.File() instead.\n",
      "  h5py.get_config().default_file_mode = 'a'\n"
     ]
    }
   ],
   "source": [
    "import os\n",
    "from nbed.driver import NbedDriver\n",
    "import numpy as np"
   ]
  },
  {
   "cell_type": "code",
   "execution_count": null,
   "metadata": {},
   "outputs": [],
   "source": []
  },
  {
   "cell_type": "code",
   "execution_count": 2,
   "metadata": {},
   "outputs": [],
   "source": [
    "# get xyz file for water\n",
    "notebook_dir = os.getcwd()\n",
    "NBed_dir = os.path.dirname(notebook_dir)\n",
    "Test_dir = os.path.join(NBed_dir, 'tests')\n",
    "mol_dir = os.path.join(Test_dir, 'molecules')\n",
    "\n",
    "water_xyz_path = os.path.join(mol_dir, 'water.xyz')"
   ]
  },
  {
   "cell_type": "code",
   "execution_count": null,
   "metadata": {},
   "outputs": [],
   "source": []
  },
  {
   "cell_type": "code",
   "execution_count": 3,
   "metadata": {},
   "outputs": [],
   "source": [
    "geometry_path = os.path.join(mol_dir, 'water.xyz')"
   ]
  },
  {
   "cell_type": "code",
   "execution_count": 4,
   "metadata": {},
   "outputs": [],
   "source": [
    "# geometry_path = os.path.join(mol_dir, 'H4.xyz')"
   ]
  },
  {
   "cell_type": "code",
   "execution_count": null,
   "metadata": {},
   "outputs": [],
   "source": []
  },
  {
   "cell_type": "code",
   "execution_count": 5,
   "metadata": {},
   "outputs": [
    {
     "name": "stdout",
     "output_type": "stream",
     "text": [
      "3\n",
      "\n",
      "O   0.00000  0.0000000  0.1653507\n",
      "H   0.00000  0.7493682 -0.4424329\n",
      "H   0.00000 -0.7493682 -0.4424329 \n"
     ]
    }
   ],
   "source": [
    "with open(geometry_path, 'r') as infile:\n",
    "    xyz_string = infile.read()\n",
    "    \n",
    "print(xyz_string)"
   ]
  },
  {
   "cell_type": "code",
   "execution_count": 6,
   "metadata": {},
   "outputs": [
    {
     "name": "stdout",
     "output_type": "stream",
     "text": [
      "4\n",
      " \n",
      "H\t-0.4417\t0.2906\t0.8711\n",
      "H\t0.7256\t0.6896\t-0.1907\n",
      "N\t0\t0\t0\n",
      "H\t0.4875\t-0.8701\t0.2089\n",
      "\n"
     ]
    }
   ],
   "source": [
    "from nbed.utils import pubchem_mol_geometry, build_ordered_xyz_string\n",
    "mol_name = 'NH3'\n",
    "\n",
    "\n",
    "struct_dict = pubchem_mol_geometry(mol_name)\n",
    "active_atom_inds= [1,2]\n",
    "xyz_string = build_ordered_xyz_string(struct_dict, active_atom_inds)\n",
    "print(xyz_string)"
   ]
  },
  {
   "cell_type": "code",
   "execution_count": null,
   "metadata": {},
   "outputs": [],
   "source": []
  },
  {
   "cell_type": "code",
   "execution_count": 7,
   "metadata": {},
   "outputs": [],
   "source": [
    "# options\n",
    "geometry = xyz_string\n",
    "n_active_atoms=2\n",
    "basis = 'STO-3G'\n",
    "xc_functional = 'B3LYP'# 'lda, vwn' #'B3LYP'\n",
    "run_virtual_localization = False\n",
    "\n",
    "run_fci_emb = False\n",
    "run_ccsd_emb = False\n",
    "max_ram_memory = 8_000\n",
    "_init_huzinaga_rhf_with_mu = False\n",
    "\n",
    "max_hf_cycles=500\n",
    "\n",
    "\n",
    "projector = 'both'\n",
    "localization = 'ibo' # spade, ibo\n",
    "occupied_threshold = 0.3"
   ]
  },
  {
   "cell_type": "code",
   "execution_count": null,
   "metadata": {},
   "outputs": [],
   "source": []
  },
  {
   "cell_type": "code",
   "execution_count": null,
   "metadata": {},
   "outputs": [
    {
     "name": "stdout",
     "output_type": "stream",
     "text": [
      " Iterative localization: IB/P4/2x2, 6 iter; Final gradient 2.75e-11\n"
     ]
    }
   ],
   "source": [
    "driver = NbedDriver(geometry = geometry,\n",
    "                    n_active_atoms=n_active_atoms,\n",
    "                    basis = basis,\n",
    "                    xc_functional = xc_functional,\n",
    "                    run_virtual_localization = run_virtual_localization,\n",
    "                    run_fci_emb = run_fci_emb,\n",
    "                    run_ccsd_emb = run_ccsd_emb,\n",
    "                    max_ram_memory = max_ram_memory,\n",
    "                    _init_huzinaga_rhf_with_mu = _init_huzinaga_rhf_with_mu,\n",
    "                    max_hf_cycles=max_hf_cycles,\n",
    "                    occupied_threshold=occupied_threshold,\n",
    "                    projector = projector,\n",
    "                    localization = localization)"
   ]
  },
  {
   "cell_type": "code",
   "execution_count": null,
   "metadata": {},
   "outputs": [],
   "source": [
    "print(driver.localized_system.active_MO_inds)\n",
    "print(driver.localized_system.enviro_MO_inds)"
   ]
  },
  {
   "cell_type": "markdown",
   "metadata": {},
   "source": [
    "## access hidden parmeters"
   ]
  },
  {
   "cell_type": "code",
   "execution_count": null,
   "metadata": {},
   "outputs": [],
   "source": [
    "mu_scf = driver._mu[\"scf\"]\n",
    "huz_scf = driver._huzinaga[\"scf\"]\n",
    "global_scf = driver._global_hf"
   ]
  },
  {
   "cell_type": "code",
   "execution_count": null,
   "metadata": {},
   "outputs": [],
   "source": []
  },
  {
   "cell_type": "code",
   "execution_count": null,
   "metadata": {},
   "outputs": [],
   "source": [
    "c_mat = mu_scf.mo_coeff\n",
    "mo_occ = mu_scf.get_occ()\n",
    "dmat = mu_scf.make_rdm1(mo_coeff=c_mat, mo_occ=mo_occ)\n",
    "F =  mu_scf.get_fock(dm=dmat)\n",
    "\n",
    "mu_CFC = c_mat.T @ F @c_mat\n",
    "print(np.around(mu_CFC,\n",
    "         3))"
   ]
  },
  {
   "cell_type": "code",
   "execution_count": null,
   "metadata": {},
   "outputs": [],
   "source": []
  },
  {
   "cell_type": "code",
   "execution_count": null,
   "metadata": {},
   "outputs": [],
   "source": [
    "c_mat = huz_scf.mo_coeff\n",
    "mo_occ = huz_scf.get_occ()\n",
    "dmat = huz_scf.make_rdm1(mo_coeff=c_mat, mo_occ=mo_occ)\n",
    "F =  huz_scf.get_fock(dm=dmat)\n",
    "\n",
    "huz_CFC = c_mat.T @ F @c_mat\n",
    "print(np.around(huz_CFC,\n",
    "         3))"
   ]
  },
  {
   "cell_type": "code",
   "execution_count": null,
   "metadata": {},
   "outputs": [],
   "source": [
    "np.diag(abs(huz_CFC))- np.diag(abs(mu_CFC))"
   ]
  },
  {
   "cell_type": "code",
   "execution_count": null,
   "metadata": {},
   "outputs": [],
   "source": [
    "np.linalg.norm(np.diag(huz_CFC)- np.diag(mu_CFC))"
   ]
  }
 ],
 "metadata": {
  "interpreter": {
   "hash": "fe514aa320be100644bbd958a3f38aa9f15de9075cf36cc4d239ea0f19dcd868"
  },
  "kernelspec": {
   "display_name": "Python 3 (ipykernel)",
   "language": "python",
   "name": "python3"
  },
  "language_info": {
   "codemirror_mode": {
    "name": "ipython",
    "version": 3
   },
   "file_extension": ".py",
   "mimetype": "text/x-python",
   "name": "python",
   "nbconvert_exporter": "python",
   "pygments_lexer": "ipython3",
   "version": "3.9.7"
  }
 },
 "nbformat": 4,
 "nbformat_minor": 4
}
