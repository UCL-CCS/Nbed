{
 "cells": [
  {
   "cell_type": "code",
   "execution_count": 12,
   "metadata": {},
   "outputs": [],
   "source": [
    "# ## inputs\n",
    "water_xyz = water = \"\"\"3\n",
    "\n",
    "H\\t0.7493682\\t0.0\\t0.4424329\n",
    "O\\t0.0\\t0.0\\t-0.1653507\n",
    "H\\t-0.7493682\\t0.0\\t0.4424329\n",
    "#     \"\"\"\n",
    "# geometry = water_xyz[3:]\n",
    "\n",
    "# methane = [\n",
    "# ['C', (0.0000, 0.0000, 0.0000)],\n",
    "# ['H', (0.5288, 0.1610, 0.9359)],\n",
    "# ['H', (0.2051, 0.8240, -0.6786)],\n",
    "# ['H', (0.3345, -0.9314, -0.4496)],\n",
    "# ['H', (-1.0685, -0.0537, 0.1921)]\n",
    "# ]\n",
    "\n",
    "geometry = methane"
   ]
  },
  {
   "cell_type": "code",
   "execution_count": null,
   "metadata": {},
   "outputs": [],
   "source": []
  },
  {
   "cell_type": "code",
   "execution_count": 13,
   "metadata": {},
   "outputs": [
    {
     "name": "stdout",
     "output_type": "stream",
     "text": [
      " Iterative localization: IB/P4/2x2, 6 iter; Final gradient 5.56e-10\n",
      "embedded HF energy MU_SHIFT: -16.08934263407614, converged: True\n",
      "CCSD Energy:\n",
      "\t%s -39.652659217310806\n",
      "FCI MU Energy:\n",
      "\t%s -39.85904849172825\n",
      "embedded HF energy HUZINAGA: -16.089342579894534, converged: True\n",
      "CCSD Energy:\n",
      "\t%s -39.65265916285462\n",
      "FCI HUZ Energy:\n",
      "\t%s -39.85904839550517\n",
      "difference between CCSD Huz and Mu calcs: 5.4456187115192733e-08\n",
      "difference between FCI Huz and Mu calcs: 9.62230828349675e-08\n",
      "core constant: 0\n",
      "core constant: 0\n",
      "num e emb: 4\n",
      "[0 2]\n",
      "[1 3 4]\n",
      "global FCI: -39.805676932960054\n"
     ]
    }
   ],
   "source": [
    "from nbed.embed import nbed_driver\n",
    "\n",
    "\n",
    "n_active_atoms=2\n",
    "basis = 'STO-3G'\n",
    "xc_functional = 'B3LYP'# 'lda, vwn' #'B3LYP'\n",
    "convergence = 1e-6\n",
    "loc_method = \"ibo\" #\"spade\" #\"pipekmezey\" \"ibo\" \"boys\"\n",
    "proj_method = 'huzinaga' # 'huzinaga' #\"mu_shift\"\n",
    "mu_level_shift=1e6\n",
    "run_ccsd = True\n",
    "run_fci = True\n",
    "max_ram = 8_000\n",
    "\n",
    "output = None\n",
    "\n",
    "# q_ham, classical_energy = nbed_driver(\n",
    "#     geometry ,\n",
    "#     n_active_atoms,\n",
    "#     basis,\n",
    "#     xc_functional,\n",
    "#     output,\n",
    "#     convergence,\n",
    "#     localization_method= loc_method,\n",
    "#     projector_method = proj_method,\n",
    "#     mu_level_shift = mu_level_shift,\n",
    "#     run_ccsd_emb = run_ccsd,\n",
    "#     max_ram_memory = max_ram,\n",
    "#     run_fci_emb=run_fci)\n",
    "\n",
    "outdic = nbed_driver(\n",
    "    geometry ,\n",
    "    n_active_atoms,\n",
    "    basis,\n",
    "    xc_functional,\n",
    "    output,\n",
    "    convergence,\n",
    "    localization_method= loc_method,\n",
    "    projector_method = proj_method,\n",
    "    mu_level_shift = mu_level_shift,\n",
    "    run_ccsd_emb = run_ccsd,\n",
    "    max_ram_memory = max_ram,\n",
    "    run_fci_emb=run_fci,\n",
    "    run_global_fci=True)\n"
   ]
  },
  {
   "cell_type": "code",
   "execution_count": null,
   "metadata": {},
   "outputs": [],
   "source": [
    "-16.514892640009133 + 16.514892561936392"
   ]
  },
  {
   "cell_type": "code",
   "execution_count": 8,
   "metadata": {},
   "outputs": [],
   "source": [
    "qubit_H_mu = outdic['mu_shift']['H']\n",
    "qubit_H_huz = outdic['huzinaga']['H']\n",
    "\n",
    "from openfermion.linalg import get_sparse_operator\n",
    "H_sparse_mu = get_sparse_operator(qubit_H_mu)\n",
    "H_sparse_huz = get_sparse_operator(qubit_H_huz)"
   ]
  },
  {
   "cell_type": "code",
   "execution_count": 9,
   "metadata": {},
   "outputs": [],
   "source": [
    "import scipy as sp\n",
    "eig_vals_emb_mu, eig_vecs_emb_mu = sp.sparse.linalg.eigsh(H_sparse_mu,\n",
    "                                                   which='SA',\n",
    "                                                   k=1)\n",
    "del H_sparse_mu\n",
    "\n",
    "eig_vals_emb_huz, eig_vecs_emb_huz = sp.sparse.linalg.eigsh(H_sparse_huz,\n",
    "                                                   which='SA',\n",
    "                                                   k=1)\n",
    "del H_sparse_huz"
   ]
  },
  {
   "cell_type": "code",
   "execution_count": null,
   "metadata": {},
   "outputs": [],
   "source": []
  },
  {
   "cell_type": "code",
   "execution_count": 10,
   "metadata": {
    "scrolled": true
   },
   "outputs": [
    {
     "name": "stdout",
     "output_type": "stream",
     "text": [
      "-39.85904849139898\n",
      "-39.859048395506434\n",
      "9.589254545971926e-08\n"
     ]
    }
   ],
   "source": [
    "import numpy as np\n",
    "mu_classical_E = outdic['mu_shift']['energy_classical']\n",
    "huz_classical_E = outdic['huzinaga']['energy_classical']\n",
    "\n",
    "mu_full_quantum = eig_vals_emb_mu[0] + mu_classical_E\n",
    "huz_full_quantum = eig_vals_emb_huz[0] + huz_classical_E\n",
    "\n",
    "print(mu_full_quantum)\n",
    "print(huz_full_quantum)\n",
    "\n",
    "print(np.abs(huz_full_quantum-mu_full_quantum))"
   ]
  },
  {
   "cell_type": "code",
   "execution_count": 11,
   "metadata": {},
   "outputs": [
    {
     "data": {
      "text/plain": [
       "4"
      ]
     },
     "execution_count": 11,
     "metadata": {},
     "output_type": "execute_result"
    }
   ],
   "source": [
    "N_elec_qubit_state = np.binary_repr(\n",
    "                                    np.where(np.abs(eig_vecs_emb_huz)>1e-2)[0][0]\n",
    "                                    ).count('1')\n",
    "N_elec_qubit_state"
   ]
  },
  {
   "cell_type": "code",
   "execution_count": null,
   "metadata": {},
   "outputs": [],
   "source": [
    "-39.96169872936931\n",
    "-39.961698797438004\n",
    "6.806869379261116e-08\n",
    "\n",
    "-39.909061846092804\n",
    "-39.90906181385512\n",
    "3.223768629823098e-08\n",
    "\n",
    "-39.859048491530274\n",
    "-39.85904839550501\n",
    "9.602526063190453e-08\n",
    "\n"
   ]
  },
  {
   "cell_type": "code",
   "execution_count": null,
   "metadata": {},
   "outputs": [],
   "source": []
  },
  {
   "cell_type": "code",
   "execution_count": null,
   "metadata": {},
   "outputs": [],
   "source": []
  },
  {
   "cell_type": "code",
   "execution_count": null,
   "metadata": {},
   "outputs": [],
   "source": []
  },
  {
   "cell_type": "code",
   "execution_count": null,
   "metadata": {},
   "outputs": [],
   "source": [
    "eig_vals_emb_mu[0] + mu_classical_E"
   ]
  },
  {
   "cell_type": "code",
   "execution_count": null,
   "metadata": {},
   "outputs": [],
   "source": []
  },
  {
   "cell_type": "code",
   "execution_count": null,
   "metadata": {},
   "outputs": [],
   "source": [
    "from openfermion.linalg import get_sparse_operator\n",
    "H_sparse = get_sparse_operator(q_ham)"
   ]
  },
  {
   "cell_type": "code",
   "execution_count": null,
   "metadata": {},
   "outputs": [],
   "source": [
    "import scipy as sp\n",
    "eig_vals_emb, eig_vecs_emb = sp.sparse.linalg.eigsh(H_sparse,\n",
    "                                                   which='SA',\n",
    "                                                   k=1)\n",
    "del H_sparse"
   ]
  },
  {
   "cell_type": "code",
   "execution_count": null,
   "metadata": {},
   "outputs": [],
   "source": [
    "E_VQE = eig_vals_emb[0] + classical_energy\n",
    "E_VQE"
   ]
  },
  {
   "cell_type": "code",
   "execution_count": null,
   "metadata": {},
   "outputs": [],
   "source": [
    "import numpy as np\n",
    "\n",
    "N_elec_qubit_state = np.binary_repr(\n",
    "                                    np.where(np.abs(eig_vecs_emb)>1e-2)[0][0]\n",
    "                                    ).count('1')\n",
    "N_elec_qubit_state"
   ]
  },
  {
   "cell_type": "code",
   "execution_count": null,
   "metadata": {},
   "outputs": [],
   "source": [
    "act = [0,2,4]\n",
    "env = [1,3]\n",
    "\n",
    "[i for i in range(len(act), len(act) + len(env))]"
   ]
  },
  {
   "cell_type": "code",
   "execution_count": null,
   "metadata": {
    "scrolled": true
   },
   "outputs": [],
   "source": [
    "mu_CCSD = -75.86087423588484\n",
    "mu_FCI =  -76.09254135408943\n",
    "mu_VQE = -76.02674879647752\n",
    "\n",
    "huz_CCSD = -75.85383455242645\n",
    "huz_FCI =  -75.85383404201579\n",
    "huz_VQE = -75.8538340123436\n",
    "\n",
    "print(np.abs(mu_CCSD-huz_CCSD))\n",
    "print(np.abs(mu_VQE-huz_VQE))\n",
    "print(np.abs(mu_FCI-huz_FCI))\n",
    "\n",
    "print(np.abs(mu_VQE-mu_FCI))\n",
    "print(np.abs(huz_VQE-huz_FCI))"
   ]
  }
 ],
 "metadata": {
  "kernelspec": {
   "display_name": "Python 3 (ipykernel)",
   "language": "python",
   "name": "python3"
  },
  "language_info": {
   "codemirror_mode": {
    "name": "ipython",
    "version": 3
   },
   "file_extension": ".py",
   "mimetype": "text/x-python",
   "name": "python",
   "nbconvert_exporter": "python",
   "pygments_lexer": "ipython3",
   "version": "3.9.7"
  }
 },
 "nbformat": 4,
 "nbformat_minor": 4
}
