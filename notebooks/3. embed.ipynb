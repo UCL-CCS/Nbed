{
 "cells": [
  {
   "cell_type": "code",
   "execution_count": 1,
   "metadata": {},
   "outputs": [],
   "source": [
    "# ## inputs\n",
    "water_xyz = water = \"\"\"3\n",
    "\n",
    "H\\t0.7493682\\t0.0\\t0.4424329\n",
    "O\\t0.0\\t0.0\\t-0.1653507\n",
    "H\\t-0.7493682\\t0.0\\t0.4424329\n",
    "#     \"\"\"\n",
    "# geometry = water_xyz[3:]\n",
    "\n",
    "methane = [\n",
    "['C', (0.0000, 0.0000, 0.0000)],\n",
    "['H', (0.5288, 0.1610, 0.9359)],\n",
    "['H', (0.2051, 0.8240, -0.6786)],\n",
    "['H', (0.3345, -0.9314, -0.4496)],\n",
    "['H', (-1.0685, -0.0537, 0.1921)]\n",
    "]\n",
    "\n",
    "geometry = methane"
   ]
  },
  {
   "cell_type": "code",
   "execution_count": null,
   "metadata": {},
   "outputs": [],
   "source": []
  },
  {
   "cell_type": "code",
   "execution_count": 2,
   "metadata": {},
   "outputs": [
    {
     "name": "stderr",
     "output_type": "stream",
     "text": [
      "/home/lex/anaconda3/envs/embed/lib/python3.9/site-packages/pyscf/lib/misc.py:46: H5pyDeprecationWarning: Using default_file_mode other than 'r' is deprecated. Pass the mode to h5py.File() instead.\n",
      "  h5py.get_config().default_file_mode = 'a'\n"
     ]
    }
   ],
   "source": [
    "from nbed.embed import nbed_driver\n",
    "\n",
    "\n",
    "n_active_atoms=2\n",
    "basis = 'STO-3G'\n",
    "xc_functional = 'B3LYP'# 'lda, vwn' #'B3LYP'\n",
    "convergence = 1e-10\n",
    "charge = 0\n",
    "mu_level_shift=1e6\n",
    "run_ccsd = True\n",
    "run_fci = True\n",
    "max_ram = 8_000\n",
    "\n",
    "\n",
    "loc_method = \"ibo\" #\"spade\" #\"pipekmezey\" \"ibo\" \"boys\"\n",
    "run_mu_shift = True\n",
    "run_huzinaga = True\n",
    "\n",
    "\n",
    "exp_obj = nbed_driver(\n",
    "    geometry ,\n",
    "    n_active_atoms,\n",
    "    basis,\n",
    "    xc_functional,\n",
    "    convergence,\n",
    "    localization_method= loc_method,\n",
    "    run_mu_shift = run_mu_shift,\n",
    "    run_huzinaga = run_huzinaga,\n",
    "    mu_level_shift = mu_level_shift,\n",
    "    run_ccsd_emb = run_ccsd,\n",
    "    max_ram_memory = max_ram,\n",
    "    run_fci_emb=run_fci,\n",
    "    run_global_fci=True)\n"
   ]
  },
  {
   "cell_type": "code",
   "execution_count": 3,
   "metadata": {},
   "outputs": [
    {
     "name": "stdout",
     "output_type": "stream",
     "text": [
      " Iterative localization: IB/P4/2x2, 6 iter; Final gradient 5.56e-10\n",
      "embedded HF energy MU_SHIFT: -16.08934263399464, converged: True\n",
      "CCSD Energy MU shift:\n",
      "\t%s -39.65265921699233\n",
      "FCI Energy MU shift:\n",
      "\t%s -39.85904849137096\n",
      "core constant: 0\n",
      "embedded HF energy HUZINAGA: -16.089342573105355, converged: True\n",
      "CCSD Energy HUZ:\n",
      "\t%s -39.65265916285188\n",
      "FCI Energy HUZ:\n",
      "\t%s -39.85904839550709\n",
      "core constant: 0\n",
      "num e emb: 4\n",
      "[0 2]\n",
      "[1 3 4]\n"
     ]
    }
   ],
   "source": [
    "exp_obj.run_exp()"
   ]
  },
  {
   "cell_type": "code",
   "execution_count": 4,
   "metadata": {},
   "outputs": [],
   "source": [
    "from nbed.embed import get_qubit_hamiltonian\n",
    "\n",
    "qubit_H_mu = get_qubit_hamiltonian(exp_obj.molecular_ham_MU, 'jordan_wigner')\n",
    "qubit_H_huz = get_qubit_hamiltonian(exp_obj.molecular_ham_HUZ, 'jordan_wigner')"
   ]
  },
  {
   "cell_type": "code",
   "execution_count": 5,
   "metadata": {},
   "outputs": [],
   "source": [
    "mu_classical_E =  exp_obj.classical_energy_MU\n",
    "huz_classical_E =  exp_obj.classical_energy_HUZ"
   ]
  },
  {
   "cell_type": "code",
   "execution_count": 6,
   "metadata": {},
   "outputs": [],
   "source": [
    "from openfermion.linalg import get_sparse_operator\n",
    "H_sparse_mu = get_sparse_operator(qubit_H_mu)\n",
    "H_sparse_huz = get_sparse_operator(qubit_H_huz)"
   ]
  },
  {
   "cell_type": "code",
   "execution_count": 7,
   "metadata": {},
   "outputs": [],
   "source": [
    "import scipy as sp\n",
    "eig_vals_emb_mu, eig_vecs_emb_mu = sp.sparse.linalg.eigsh(H_sparse_mu,\n",
    "                                                   which='SA',\n",
    "                                                   k=1)\n",
    "del H_sparse_mu\n",
    "\n",
    "eig_vals_emb_huz, eig_vecs_emb_huz = sp.sparse.linalg.eigsh(H_sparse_huz,\n",
    "                                                   which='SA',\n",
    "                                                   k=1)\n",
    "del H_sparse_huz"
   ]
  },
  {
   "cell_type": "code",
   "execution_count": 8,
   "metadata": {},
   "outputs": [
    {
     "name": "stdout",
     "output_type": "stream",
     "text": [
      "-39.85904849145011\n",
      "-39.85904839550722\n",
      "9.594288741254786e-08\n"
     ]
    }
   ],
   "source": [
    "import numpy as np\n",
    "mu_full_quantum = eig_vals_emb_mu[0] + mu_classical_E\n",
    "huz_full_quantum = eig_vals_emb_huz[0] + huz_classical_E\n",
    "\n",
    "print(mu_full_quantum)\n",
    "print(huz_full_quantum)\n",
    "\n",
    "print(np.abs(huz_full_quantum-mu_full_quantum))"
   ]
  },
  {
   "cell_type": "code",
   "execution_count": 9,
   "metadata": {},
   "outputs": [
    {
     "data": {
      "text/plain": [
       "4"
      ]
     },
     "execution_count": 9,
     "metadata": {},
     "output_type": "execute_result"
    }
   ],
   "source": [
    "N_elec_qubit_state = np.binary_repr(\n",
    "                                    np.where(np.abs(eig_vecs_emb_huz)>1e-2)[0][0]\n",
    "                                    ).count('1')\n",
    "N_elec_qubit_state"
   ]
  }
 ],
 "metadata": {
  "interpreter": {
   "hash": "fe514aa320be100644bbd958a3f38aa9f15de9075cf36cc4d239ea0f19dcd868"
  },
  "kernelspec": {
   "display_name": "Python 3 (ipykernel)",
   "language": "python",
   "name": "python3"
  },
  "language_info": {
   "codemirror_mode": {
    "name": "ipython",
    "version": 3
   },
   "file_extension": ".py",
   "mimetype": "text/x-python",
   "name": "python",
   "nbconvert_exporter": "python",
   "pygments_lexer": "ipython3",
   "version": "3.9.7"
  }
 },
 "nbformat": 4,
 "nbformat_minor": 4
}
