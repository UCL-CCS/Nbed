{
 "cells": [
  {
   "cell_type": "code",
   "execution_count": 1,
   "metadata": {},
   "outputs": [],
   "source": [
    "import numpy as np\n",
    "import sys\n",
    "sys.path.append( '../vqe-in-dft' )\n",
    "from tqdm import tqdm\n",
    "\n",
    "import vqe_in_dft \n",
    "\n",
    "import scipy as sp\n",
    "from pyscf import gto, dft, lib, mp, cc, scf, tools, ci, fci, lo, ao2mo"
   ]
  },
  {
   "cell_type": "code",
   "execution_count": null,
   "metadata": {},
   "outputs": [],
   "source": []
  },
  {
   "cell_type": "code",
   "execution_count": 2,
   "metadata": {},
   "outputs": [],
   "source": [
    "# geometry = [\n",
    "# ['H', (0.7493682,0.0000000,0.4424329)],\n",
    "# ['O', (0.0000000,0.0000000,-0.1653507)],\n",
    "    \n",
    "# ['H', (-0.7493682,0.0000000,0.4424329)]\n",
    "# ]\n",
    "\n",
    "geometry = [\n",
    "['C', (0.0000, 0.0000, 0.0000)],\n",
    "['H', (0.5288, 0.1610, 0.9359)],\n",
    "['H', (0.2051, 0.8240, -0.6786)],\n",
    "['H', (0.3345, -0.9314, -0.4496)],\n",
    "['H', (-1.0685, -0.0537, 0.1921)]\n",
    "]\n",
    "\n",
    "# geometry = [\n",
    "# ['H', (1.2473876659, -0.8998737590, 0.6150681570)],\n",
    "# ['O', (1.2322305822, -0.2731895077, -0.1276123902)],\n",
    "\n",
    "# ['C', (0.0849758188, 0.5590385475, 0.0510545434)],\n",
    "# ['H', (0.1506137362, 1.1200249874, 0.9943015309)],\n",
    "# ['H', (0.1316093068, 1.2841805400, -0.7645223601)],\n",
    "\n",
    "# ['C', (-1.2129704155, -0.2295285634, -0.0097156258)],\n",
    "# ['H', (-2.0801425360, 0.4329727646,0.0722817289)],\n",
    "# ['H', (-1.2655910941, -0.9539857247, 0.8097953440)],\n",
    "# ['H', (-1.2737541560, -0.7748626513, -0.9540587845)],\n",
    "# ]\n",
    "\n",
    "N_active_atoms = 2\n",
    "\n",
    "\n",
    "low_level_scf_method='RKS'\n",
    "high_level_scf_method='CCSD'\n",
    "E_convergence_tol = 1e-6\n",
    "basis = 'STO-3G' #'augccpvdz' # '6-31g' #'STO-3G'\n",
    "unit= 'angstrom'\n",
    "pyscf_print_level=1\n",
    "memory=8000\n",
    "charge=0\n",
    "spin=0\n",
    "run_fci= True#True\n",
    "low_level_xc_functional = 'lda, vwn' # 'b3lyp'\n",
    "high_level_xc_functional = 'b3lyp'\n",
    "\n",
    "phys_notation = True"
   ]
  },
  {
   "cell_type": "code",
   "execution_count": null,
   "metadata": {},
   "outputs": [],
   "source": []
  },
  {
   "cell_type": "markdown",
   "metadata": {},
   "source": [
    "# Build the GLOBAL (full) molecule\n",
    "\n",
    "\n",
    "and run supersystem calculation (cheap method)"
   ]
  },
  {
   "cell_type": "markdown",
   "metadata": {},
   "source": [
    "https://pyscf.org/_modules/pyscf/gto/basis.html"
   ]
  },
  {
   "cell_type": "code",
   "execution_count": 3,
   "metadata": {},
   "outputs": [
    {
     "data": {
      "text/plain": [
       "[['C', (0.0, 0.0, 0.0)],\n",
       " ['H', (0.5288, 0.161, 0.9359)],\n",
       " ['H', (0.2051, 0.824, -0.6786)],\n",
       " ['H', (0.3345, -0.9314, -0.4496)],\n",
       " ['H', (-1.0685, -0.0537, 0.1921)]]"
      ]
     },
     "execution_count": 3,
     "metadata": {},
     "output_type": "execute_result"
    }
   ],
   "source": [
    "full_system_mol = gto.Mole(atom= geometry,\n",
    "                      basis=basis,\n",
    "                       charge=charge,\n",
    "                       unit=unit,\n",
    "                       spin=spin,\n",
    "                      )\n",
    "full_system_mol.build()\n",
    "full_system_mol.atom"
   ]
  },
  {
   "cell_type": "code",
   "execution_count": 4,
   "metadata": {},
   "outputs": [
    {
     "name": "stdout",
     "output_type": "stream",
     "text": [
      "E(UHF-FCI) = -39.805676967111\n"
     ]
    }
   ],
   "source": [
    "## FCI comparison\n",
    "HF_scf = scf.RHF(full_system_mol)\n",
    "HF_scf.verbose=1\n",
    "HF_scf.max_memory= memory\n",
    "HF_scf.conv_tol = 1e-6\n",
    "HF_scf.kernel()\n",
    "\n",
    "my_fci = fci.FCI(HF_scf).run()\n",
    "print('E(UHF-FCI) = %.12f' % my_fci.e_tot)\n",
    "\n",
    "# myci = ci.CISD(HF_scf).run() # this is UCISD\n",
    "# print('UCISD total energy = ', myci.e_tot)"
   ]
  },
  {
   "cell_type": "code",
   "execution_count": 5,
   "metadata": {},
   "outputs": [
    {
     "name": "stdout",
     "output_type": "stream",
     "text": [
      "E(RCISD) = -39.80303613703585  E_corr = -0.0762252226044578\n"
     ]
    }
   ],
   "source": [
    "HF_scf = scf.RHF(full_system_mol)\n",
    "HF_scf.verbose= 1\n",
    "HF_scf.max_memory= memory\n",
    "HF_scf.conv_tol = 1e-6\n",
    "HF_scf.kernel()\n",
    "\n",
    "my_fci = ci.CISD(HF_scf).run()"
   ]
  },
  {
   "cell_type": "code",
   "execution_count": 6,
   "metadata": {},
   "outputs": [
    {
     "data": {
      "application/3dmoljs_load.v0": "<div id=\"3dmolviewer_1634060499884724\"  style=\"position: relative; width: 400px; height: 400px\">\n        <p id=\"3dmolwarning_1634060499884724\" style=\"background-color:#ffcccc;color:black\">You appear to be running in JupyterLab (or JavaScript failed to load for some other reason).  You need to install the 3dmol extension: <br>\n        <tt>jupyter labextension install jupyterlab_3dmol</tt></p>\n        </div>\n<script>\n\nvar loadScriptAsync = function(uri){\n  return new Promise((resolve, reject) => {\n    var tag = document.createElement('script');\n    tag.src = uri;\n    tag.async = true;\n    tag.onload = () => {\n      resolve();\n    };\n  var firstScriptTag = document.getElementsByTagName('script')[0];\n  firstScriptTag.parentNode.insertBefore(tag, firstScriptTag);\n});\n};\n\nif(typeof $3Dmolpromise === 'undefined') {\n$3Dmolpromise = null;\n  $3Dmolpromise = loadScriptAsync('https://3dmol.org/build/3Dmol.js');\n}\n\nvar viewer_1634060499884724 = null;\nvar warn = document.getElementById(\"3dmolwarning_1634060499884724\");\nif(warn) {\n    warn.parentNode.removeChild(warn);\n}\n$3Dmolpromise.then(function() {\nviewer_1634060499884724 = $3Dmol.createViewer($(\"#3dmolviewer_1634060499884724\"),{backgroundColor:\"white\"});\nviewer_1634060499884724.zoomTo();\n\tviewer_1634060499884724.addModel(\"5\\n \\nC\\t0.0\\t0.0\\t0.0\\nH\\t0.5288\\t0.161\\t0.9359\\nH\\t0.2051\\t0.824\\t-0.6786\\nH\\t0.3345\\t-0.9314\\t-0.4496\\nH\\t-1.0685\\t-0.0537\\t0.1921\\n\",\"xyz\");\n\tviewer_1634060499884724.setStyle({\"stick\": {}});\n\tviewer_1634060499884724.zoomTo();\nviewer_1634060499884724.render();\n});\n</script>",
      "text/html": [
       "<div id=\"3dmolviewer_1634060499884724\"  style=\"position: relative; width: 400px; height: 400px\">\n",
       "        <p id=\"3dmolwarning_1634060499884724\" style=\"background-color:#ffcccc;color:black\">You appear to be running in JupyterLab (or JavaScript failed to load for some other reason).  You need to install the 3dmol extension: <br>\n",
       "        <tt>jupyter labextension install jupyterlab_3dmol</tt></p>\n",
       "        </div>\n",
       "<script>\n",
       "\n",
       "var loadScriptAsync = function(uri){\n",
       "  return new Promise((resolve, reject) => {\n",
       "    var tag = document.createElement('script');\n",
       "    tag.src = uri;\n",
       "    tag.async = true;\n",
       "    tag.onload = () => {\n",
       "      resolve();\n",
       "    };\n",
       "  var firstScriptTag = document.getElementsByTagName('script')[0];\n",
       "  firstScriptTag.parentNode.insertBefore(tag, firstScriptTag);\n",
       "});\n",
       "};\n",
       "\n",
       "if(typeof $3Dmolpromise === 'undefined') {\n",
       "$3Dmolpromise = null;\n",
       "  $3Dmolpromise = loadScriptAsync('https://3dmol.org/build/3Dmol.js');\n",
       "}\n",
       "\n",
       "var viewer_1634060499884724 = null;\n",
       "var warn = document.getElementById(\"3dmolwarning_1634060499884724\");\n",
       "if(warn) {\n",
       "    warn.parentNode.removeChild(warn);\n",
       "}\n",
       "$3Dmolpromise.then(function() {\n",
       "viewer_1634060499884724 = $3Dmol.createViewer($(\"#3dmolviewer_1634060499884724\"),{backgroundColor:\"white\"});\n",
       "viewer_1634060499884724.zoomTo();\n",
       "\tviewer_1634060499884724.addModel(\"5\\n \\nC\\t0.0\\t0.0\\t0.0\\nH\\t0.5288\\t0.161\\t0.9359\\nH\\t0.2051\\t0.824\\t-0.6786\\nH\\t0.3345\\t-0.9314\\t-0.4496\\nH\\t-1.0685\\t-0.0537\\t0.1921\\n\",\"xyz\");\n",
       "\tviewer_1634060499884724.setStyle({\"stick\": {}});\n",
       "\tviewer_1634060499884724.zoomTo();\n",
       "viewer_1634060499884724.render();\n",
       "});\n",
       "</script>"
      ]
     },
     "metadata": {},
     "output_type": "display_data"
    }
   ],
   "source": [
    "# Draw molecule\n",
    "\n",
    "xyz_string = vqe_in_dft.Get_xyz_string(full_system_mol)\n",
    "vqe_in_dft.Draw_molecule(xyz_string, width=400, height=400, jupyter_notebook=True)"
   ]
  },
  {
   "cell_type": "code",
   "execution_count": 7,
   "metadata": {},
   "outputs": [
    {
     "data": {
      "text/plain": [
       "-39.61684241519855"
      ]
     },
     "execution_count": 7,
     "metadata": {},
     "output_type": "execute_result"
    }
   ],
   "source": [
    "# Run global calculation\n",
    "\n",
    "full_system_scf = scf.RKS(full_system_mol)\n",
    "full_system_scf.verbose= pyscf_print_level\n",
    "full_system_scf.max_memory= memory\n",
    "full_system_scf.conv_tol = 1e-6\n",
    "full_system_scf.xc = low_level_xc_functional\n",
    "full_system_scf.kernel()"
   ]
  },
  {
   "cell_type": "code",
   "execution_count": null,
   "metadata": {},
   "outputs": [],
   "source": []
  },
  {
   "cell_type": "markdown",
   "metadata": {},
   "source": [
    "# Localise orbitals"
   ]
  },
  {
   "cell_type": "markdown",
   "metadata": {},
   "source": [
    "### Background\n",
    "\n",
    "The overlap matrix is:\n",
    "\n",
    "$$S_{\\mu \\nu} =  \\int d\\vec{r}_{1} \\phi_{\\mu}(1)^{*}\\phi_{\\nu}(1)$$\n",
    "\n",
    "- $\\phi_{\\mu}$ are basis functions (defined in basis set)\n",
    "\n",
    "\n",
    "The unknown molecular orbitals $\\psi_{i}$ are expanded as a linear expansion of the $K$ known basis functions:\n",
    "\n",
    "$$ \\psi_{i} =  \\sum_{\\mu=1}^{K} C_{\\mu i} \\psi_{\\mu}$$\n",
    "\n",
    "\n",
    "$C$ is a $K \\times K$ matrix of expansion coefficients $C_{\\mu i}$. The columns of $C$ describe the molecular orbitals!"
   ]
  },
  {
   "cell_type": "markdown",
   "metadata": {},
   "source": [
    "We can find the total number of electrons $N$ in the system by:\n",
    "\n",
    "$$ N =  2 \\sum_{a}^{N/2}\\int d\\vec{r}  \\bigg( \\psi_{a}(\\vec{r})^{*} \\psi_{i}(\\vec{r}) \\bigg) =  2 \\sum_{a}^{N/2} 1$$\n",
    "\n",
    "- integral gives probablity of finding electron $a$ over all space (must be 1)\n",
    "- summing over all electrons will give the total number of electrons"
   ]
  },
  {
   "cell_type": "code",
   "execution_count": null,
   "metadata": {},
   "outputs": [],
   "source": []
  },
  {
   "cell_type": "markdown",
   "metadata": {},
   "source": [
    "The charge density has the following definition:\n",
    "\n",
    "$$\\rho(\\vec{r}) = 2 \\sum_{a}^{N/2} \\bigg( \\psi_{a}(\\vec{r})^{*} \\psi_{i}(\\vec{r}) \\bigg)$$\n",
    "\n",
    "- re-write using definition of $\\psi_{i}=  \\sum_{\\mu=1}^{K} C_{\\mu i} \\phi_{\\mu}$\n",
    "\n",
    "$$\\rho(\\vec{r}) = 2 \\sum_{a}^{N/2} \\Bigg( \\bigg[ \\sum_{\\nu}^{K} C_{\\nu a}^{*} \\phi_{\\nu}(\\vec{r})^{*} \\bigg] \\bigg[ \\sum_{\\mu}^{K} C_{\\mu a}\\phi_{\\mu}(\\vec{r}) \\bigg] \\Bigg)$$\n",
    "\n",
    "- move things around\n",
    "\n",
    "$$\\rho(\\vec{r}) = \\sum_{\\nu}^{K} \\sum_{\\mu}^{K} \\Big( 2 \\sum_{a}^{N/2} C_{\\mu a} C_{\\nu a}^{*} \\Big) \\phi_{\\mu}(\\vec{r}) \\phi_{\\nu}(\\vec{r})^{*} $$\n",
    "\n",
    "- which is \n",
    "\n",
    "$$\\rho(\\vec{r}) = \\sum_{\\mu, \\nu}^{K} P_{\\mu \\nu} \\phi_{\\mu}(\\vec{r}) \\phi_{\\nu}(\\vec{r})^{*} $$\n",
    "\n",
    "\n",
    "- $P_{\\mu \\nu}$ is known as the density matrix and is:\n",
    "\n",
    "$$P_{\\mu \\nu} = 2 \\sum_{a}^{N/2} C_{\\mu a} C_{\\nu a}^{*}$$"
   ]
  },
  {
   "cell_type": "code",
   "execution_count": null,
   "metadata": {},
   "outputs": [],
   "source": []
  },
  {
   "cell_type": "markdown",
   "metadata": {},
   "source": [
    "Therefore we can also find the total number of electrons in the system by:\n",
    "\n",
    "$$ N =  2 \\sum_{a}^{N/2}\\int d\\vec{r}  \\bigg( \\psi_{a}(\\vec{r})^{*} \\psi_{i}(\\vec{r}) \\bigg) =  \\sum_{\\nu}^{K} \\sum_{\\mu}^{K} \\Big( 2 \\sum_{a}^{N/2} C_{\\mu a} C_{\\nu a}^{*} \\Big) \\int d\\vec{r} \\phi_{\\mu}(\\vec{r})  \\phi_{\\nu}(\\vec{r})^{*}$$\n",
    "\n",
    "- This is simply:\n",
    "\n",
    "$$N =  \\sum_{\\nu}^{K} \\sum_{\\mu}^{K} P_{\\mu \\nu} S_{\\nu \\mu}= \\sum_{\\mu}^{K} PS_{\\mu \\mu} = \\mathcal{Tr}(PS)$$"
   ]
  },
  {
   "cell_type": "markdown",
   "metadata": {},
   "source": [
    "- One can interpret $ PS_{\\mu \\mu}$ in the above equation as the number of electrons associated with $ \\phi_{\\mu}$\n",
    "- This is a **Mulliken population analysis**"
   ]
  },
  {
   "cell_type": "markdown",
   "metadata": {},
   "source": [
    "# Orbital Localization!"
   ]
  },
  {
   "cell_type": "markdown",
   "metadata": {},
   "source": [
    "A molecular orbital is usually delocalized, i.e. it has non-negligible amplitude over the whole system rather than only around some atom(s) or bond(s). However, one can choose a unitary rotation "
   ]
  },
  {
   "cell_type": "markdown",
   "metadata": {},
   "source": [
    "- When we perform a SCF calculation, one gets an optimized C matrix\n",
    "    - $C$ is a $K \\times K$ matrix of expansion coefficients $C_{\\mu i}$\n",
    "    - The columns of $C$ describe the molecular orbitals!\n",
    "    - MO i: $ \\psi_{i} =  \\sum_{\\mu=1}^{K} C_{\\mu i} \\psi_{\\mu}$\n",
    "    \n",
    "    \n",
    "- These molecular orbitals are usually **delocalized**\n",
    "    - non-negligible amplitude over the whole system, rather than only around some atom(s) or bond(s)\n",
    "\n",
    "- But we know in QM that a given basis choice is NOT unique\n",
    "\n",
    "\n",
    "- We can therefore perform a unitary rotation on molecular orbitals\n",
    "\n",
    "$$ \\psi_{i} U_{rot} =  \\Big( \\sum_{\\mu=1}^{K} C_{\\mu i} \\psi_{\\mu} \\Big) U_{rot} = \\psi_{i}^{new}$$\n",
    "    \n",
    "    \n",
    "The idea is to use a rotation such that the resulting orbitals $\\psi_{i}^{new}$ are as spatially localized as possible. \n",
    "\n",
    "\n",
    "The Pipek-Mezey (PM) [localization](https://notendur.hi.is/hj/papers/paperPipekmezey8.pdf) **maximizes the population charges on the atoms**:\n",
    "\n",
    "$$ f (U_{rot}) = \\sum_{A}^{N_{atoms}} \\Bigg( Z_{A} -  \\sum_{\\mu \\text{ on atom } A} PS_{\\mu \\mu} \\Bigg)$$"
   ]
  },
  {
   "cell_type": "markdown",
   "metadata": {},
   "source": [
    "# Choose active and environment systems"
   ]
  },
  {
   "cell_type": "markdown",
   "metadata": {},
   "source": [
    "## METHOD 1 "
   ]
  },
  {
   "cell_type": "markdown",
   "metadata": {},
   "source": [
    "- Given optimized $C$ coefficient matrix\n",
    "    - which has been rotated to localize orbitals\n",
    "    - (used to build localized density matrix)\n",
    "\n",
    "\n",
    "- **Look through basis functions $\\phi_{\\mu}$ of the ACTIVE atoms**\n",
    "\n",
    "    \n",
    "- check the mulliken charge // mulliken population of the orbital\n",
    "    - if above a certain threshold associate it to active system\n",
    "    - otherwise put in the environment\n",
    " \n",
    "\n",
    "\n",
    "To choose the active and enviroment subsystems we do the following:\n",
    "\n",
    "1. Given a localized molecular orbs (localized C matrix), we take the absolute mag squared of the coefficients of the active part for a given localized orb and divide by the absolute mag squared of all the coefficents of a that orb... THis will give a value of how much the active system contributes to that orb.\n",
    "\n",
    "2. Mathematically, for orbital $j$ \n",
    "    - remember MO orbs given by columns of C matrix\n",
    "    - In equation below C matrix is the LOCALIZED form!\n",
    "\n",
    "\n",
    "$$ \\text{threshold} =  \\frac{\\sum_{\\mu\\in \\text{active AO}}^{K} |C_{\\mu j}|^{2}}{\\sum_{\\mu =1}^{K} |C_{\\mu j}|^{2}}$$"
   ]
  },
  {
   "cell_type": "markdown",
   "metadata": {},
   "source": [
    "## METHOD 2 - SPADE\n",
    "\n",
    "WRITE NOTES TODO"
   ]
  },
  {
   "cell_type": "code",
   "execution_count": null,
   "metadata": {},
   "outputs": [],
   "source": []
  },
  {
   "cell_type": "code",
   "execution_count": 8,
   "metadata": {},
   "outputs": [],
   "source": [
    "def Localize_orbitals(localization_method, PySCF_scf_obj, N_active_atoms, THRESHOLD=None, sanity_check=True):\n",
    "\n",
    "    if PySCF_scf_obj.mo_coeff is None:\n",
    "        raise ValueError('need to perform SCF calculation before localization')\n",
    "\n",
    "\n",
    "    S_ovlp = PySCF_scf_obj.get_ovlp()\n",
    "    AO_slice_matrix = PySCF_scf_obj.mol.aoslice_by_atom()\n",
    "\n",
    "    occupied_orbs = PySCF_scf_obj.mo_coeff[:,PySCF_scf_obj.mo_occ>0]\n",
    "    # run localization scheme\n",
    "    if localization_method.lower() == 'spade':\n",
    "        \n",
    "\n",
    "        # Get active AO indices\n",
    "        N_active_AO = AO_slice_matrix[N_active_atoms-1][3]  # find max AO index for active atoms (neg 1 as python indexs from 0)\n",
    "\n",
    "        \n",
    "        S_half = sp.linalg.fractional_matrix_power(S_ovlp , 0.5)\n",
    "        orthogonal_orbitals = (S_half@occupied_orbs)[:N_active_AO, :] # Get rows (the active AO) of orthogonal orbs \n",
    "\n",
    "        # Comute singular vals\n",
    "        u, singular_values, rotation_matrix = np.linalg.svd(orthogonal_orbitals, full_matrices=True)\n",
    "\n",
    "        # find where largest step change \n",
    "        delta_s = singular_values[:-1] - singular_values[1:] # σ_i - σ_(i+1)\n",
    "        print('delta_singular_vals:')\n",
    "        print(delta_s, '\\n')\n",
    "\n",
    "        n_act_mos = np.argmax(delta_s)+1 # add one due to python indexing\n",
    "        n_env_mos = len(singular_values) - n_act_mos\n",
    "\n",
    "        # define active and environment orbitals from localization\n",
    "        act_orbitals = occupied_orbs @ rotation_matrix.T[:, :n_act_mos]\n",
    "        env_orbitals = occupied_orbs @ rotation_matrix.T[:, n_act_mos:]\n",
    "\n",
    "        C_matrix_all_localized_orbitals = occupied_orbs @ rotation_matrix.T\n",
    "\n",
    "        active_MO_inds  = np.arange(n_act_mos)\n",
    "        enviro_MO_inds = np.arange(n_act_mos, n_act_mos+n_env_mos)\n",
    "\n",
    "    else:\n",
    "        if not isinstance(THRESHOLD, float):\n",
    "            raise ValueError ('if localization method is not SPADE then a threshold parameter is requried to choose active system')\n",
    "\n",
    "\n",
    "        # run localization scheme\n",
    "        if localization_method.lower() == 'pipekmezey':\n",
    "            ### PipekMezey\n",
    "            PM = lo.PipekMezey(PySCF_scf_obj.mol, occupied_orbs)\n",
    "            PM.pop_method = 'mulliken' # 'meta-lowdin', 'iao', 'becke'\n",
    "            C_loc_occ = PM.kernel() # includes virtual orbs too!\n",
    "\n",
    "        elif localization_method.lower() == 'boys':\n",
    "            ### Boys\n",
    "            boys_SCF = lo.boys.Boys(PySCF_scf_obj.mol, occupied_orbs)\n",
    "            C_loc_occ  = boys_SCF.kernel()\n",
    "\n",
    "        elif localization_method.lower() == 'ibo':\n",
    "            ### intrinsic bonding orbs\n",
    "            #\n",
    "            iaos = lo.iao.iao(PySCF_scf_obj.mol, occupied_orbs)\n",
    "            # Orthogonalize IAO\n",
    "            iaos = lo.vec_lowdin(iaos, S_ovlp)\n",
    "            C_loc_occ = lo.ibo.ibo(PySCF_scf_obj.mol, occupied_orbs, locmethod='IBO', iaos=iaos)#.kernel()\n",
    "\n",
    "            # iaos = lo.iao.iao(PySCF_scf_obj.mol, PySCF_scf_obj.mo_coeff)\n",
    "            # # Orthogonalize IAO\n",
    "            # iaos = lo.vec_lowdin(iaos, S_ovlp)\n",
    "            # C_loc = lo.ibo.ibo(PySCF_scf_obj.mol, PySCF_scf_obj.mo_coeff, locmethod='IBO', iaos=iaos)#.kernel()\n",
    "            # C_loc_occ = C_loc[:,PySCF_scf_obj.mo_occ>0]\n",
    "        else:\n",
    "            raise ValueError(f'unknown localization method {localization_method}')\n",
    "        \n",
    "                        \n",
    "        # find indices of AO of active atoms\n",
    "        ao_active_inds = np.arange(AO_slice_matrix[0,2], AO_slice_matrix[N_active_atoms-1,3])\n",
    "\n",
    "        ### New method\n",
    "        numerator_all = np.einsum('ij->j', (C_loc_occ[ao_active_inds, :])**2) # active AOs coeffs for a given MO j\n",
    "        denominator_all = np.einsum('ij->j', C_loc_occ**2) # all AOs coeffs for a given MO j\n",
    "\n",
    "        MO_active_percentage = numerator_all/denominator_all\n",
    "\n",
    "        print('\\n(active_AO^2)/(all_AO^2):', np.around(MO_active_percentage,4))\n",
    "        print(f'threshold for active part: {THRESHOLD} \\n')\n",
    "\n",
    "        active_MO_inds = np.where(MO_active_percentage>THRESHOLD)[0]\n",
    "        enviro_MO_inds = np.array([i for i in range(C_loc_occ.shape[1]) if i not in active_MO_inds]) # get all non active MOs\n",
    "\n",
    "\n",
    "        # define active MO orbs and environment\n",
    "        act_orbitals = C_loc_occ[:, active_MO_inds] # take MO (columns of C_matrix) that have high dependence from active AOs\n",
    "        env_orbitals = C_loc_occ[:, enviro_MO_inds]\n",
    "        \n",
    "        C_matrix_all_localized_orbitals = C_loc_occ\n",
    "\n",
    "        n_act_mos = len(active_MO_inds)\n",
    "        n_env_mos = len(enviro_MO_inds)\n",
    "\n",
    "    print(f'number of active MOs: {n_act_mos}')\n",
    "    print(f'number of enviro MOs: {n_env_mos} \\n')\n",
    "\n",
    "    return act_orbitals, env_orbitals, C_matrix_all_localized_orbitals, active_MO_inds, enviro_MO_inds # C_active, C_enviro, C_all_localized, active_MO_inds, enviro_MO_inds"
   ]
  },
  {
   "cell_type": "code",
   "execution_count": 9,
   "metadata": {},
   "outputs": [
    {
     "name": "stdout",
     "output_type": "stream",
     "text": [
      "delta_singular_vals:\n",
      "[2.33146835e-15 2.63581490e-01 1.63541787e-06 2.36237251e-02] \n",
      "\n",
      "number of active MOs: 2\n",
      "number of enviro MOs: 3 \n",
      "\n"
     ]
    }
   ],
   "source": [
    "localization_method= 'SPADE' # 'ibo', 'Boys', 'PipekMezey' 'SPADE'\n",
    "THRESHOLD = 0.95\n",
    "\n",
    "(C_active, \n",
    " C_envrio, \n",
    " C_all_localized, \n",
    " active_MO_inds,\n",
    " enviro_MO_inds) = Localize_orbitals(localization_method, \n",
    "                                     full_system_scf, \n",
    "                                     N_active_atoms, \n",
    "                                     THRESHOLD=THRESHOLD, \n",
    "                                     sanity_check=True)\n"
   ]
  },
  {
   "cell_type": "code",
   "execution_count": 10,
   "metadata": {},
   "outputs": [
    {
     "name": "stdout",
     "output_type": "stream",
     "text": [
      "want these C_loc and C_opt_std to be different: True\n",
      "want dm_std and dm_loc to be the SAME: True\n"
     ]
    }
   ],
   "source": [
    "dm_loc = 2* C_all_localized@ C_all_localized.conj().T\n",
    "dm_std = 2* full_system_scf.mo_coeff[:,full_system_scf.mo_occ>0]@ full_system_scf.mo_coeff[:,full_system_scf.mo_occ>0].conj().T\n",
    "\n",
    "print('want these C_loc and C_opt_std to be different:', not np.allclose(C_all_localized,\n",
    "                                                                         full_system_scf.mo_coeff[:,full_system_scf.mo_occ>0]))\n",
    "print('want dm_std and dm_loc to be the SAME:',np.allclose(dm_std, dm_loc))"
   ]
  },
  {
   "cell_type": "code",
   "execution_count": null,
   "metadata": {},
   "outputs": [],
   "source": []
  },
  {
   "cell_type": "markdown",
   "metadata": {},
   "source": [
    "Virtual localized orbs!:\n",
    "https://pyscf.org/_modules/pyscf/lo/vvo.html"
   ]
  },
  {
   "cell_type": "code",
   "execution_count": 11,
   "metadata": {},
   "outputs": [],
   "source": [
    "from pyscf.lo import vvo\n",
    "\n",
    "orbocc = full_system_scf.mo_coeff[:,full_system_scf.mo_occ>0]\n",
    "orbvirt = full_system_scf.mo_coeff[:,full_system_scf.mo_occ<2]\n",
    "C_virtual_loc = vvo.vvo(full_system_scf.mol,\n",
    "                    orbocc,\n",
    "                    orbvirt,\n",
    "                    iaos=None, \n",
    "                    s=None,\n",
    "                    verbose=None)\n",
    "\n",
    "C_virtual_loc.shape\n",
    "\n",
    "# could truncate here using active MO again!!!\n",
    "\n",
    "# PUT localized virtual orbs into full C matrix!\n",
    "C_all_localized_and_virt = np.hstack((C_all_localized,\n",
    "                                     C_virtual_loc))"
   ]
  },
  {
   "cell_type": "code",
   "execution_count": 12,
   "metadata": {},
   "outputs": [],
   "source": [
    "# PUT standard virtual orbs into full C matrix (no change from standard HF virutal orbs)!\n",
    "C_all_localized_and_virt = np.hstack((C_all_localized,\n",
    "                                     full_system_scf.mo_coeff[:,full_system_scf.mo_occ<2]))"
   ]
  },
  {
   "cell_type": "code",
   "execution_count": 13,
   "metadata": {},
   "outputs": [
    {
     "data": {
      "text/plain": [
       "5.412337245047638e-16"
      ]
     },
     "execution_count": 13,
     "metadata": {},
     "output_type": "execute_result"
    }
   ],
   "source": [
    "S_half = sp.linalg.fractional_matrix_power(full_system_scf.get_ovlp() , 0.5)\n",
    "test =  S_half@ C_virtual_loc\n",
    "test[:,0].dot(test[:,1])\n"
   ]
  },
  {
   "cell_type": "markdown",
   "metadata": {},
   "source": []
  },
  {
   "cell_type": "markdown",
   "metadata": {},
   "source": [
    "# IMPORTANT orbital localization point!\n",
    "\n",
    "When we performed orbital localization a unitary rotation was used... this left the generated density matrix (C * C) unchanged...\n",
    "\n",
    "HOWEVER we need to also **rotate the Fock matrix** otherwise the orbital energies no longer make any sense (even though the final energy will be the same)!\n"
   ]
  },
  {
   "cell_type": "code",
   "execution_count": 14,
   "metadata": {},
   "outputs": [
    {
     "name": "stdout",
     "output_type": "stream",
     "text": [
      "want dm_std and dm_loc to be the SAME: True \n",
      "\n",
      "standard orb energies : \n",
      "\n",
      "[-9.56763009 -0.58148699 -0.30276035 -0.3027371  -0.30273108  0.4253797\n",
      "  0.42539908  0.42544391  0.47125932]\n",
      "[-9.56762769 -0.58148626 -0.30275977 -0.30273646 -0.30273044  0.42538041\n",
      "  0.4253998   0.42544456  0.4712599 ]\n",
      "\n",
      "LOCALIZED orb energies : \n",
      "\n",
      "[-0.36769252 -9.5541165  -0.30273696 -0.30273286 -0.53006678  0.4253797\n",
      "  0.42539908  0.42544391  0.47125932]\n",
      "[-9.56762769 -0.58148626 -0.30275977 -0.30273646 -0.30273044  0.42538041\n",
      "  0.4253998   0.42544456  0.4712599 ]\n"
     ]
    }
   ],
   "source": [
    "# here we see the localized and standard density matrices are the same!\n",
    "print('want dm_std and dm_loc to be the SAME:',np.allclose(dm_std, dm_loc), '\\n')\n",
    "\n",
    "\n",
    "print('standard orb energies : \\n')\n",
    "print(np.diag(full_system_scf.mo_coeff.conj().T @ full_system_scf.get_fock() @ full_system_scf.mo_coeff))\n",
    "print(full_system_scf.mo_energy)\n",
    "\n",
    "print('\\nLOCALIZED orb energies : \\n')\n",
    "print(np.diag(C_all_localized_and_virt.conj().T @ full_system_scf.get_fock() @ C_all_localized_and_virt))\n",
    "print(full_system_scf.mo_energy)\n",
    "\n",
    "# NOTE HOW THERE IS A DIFFERENCE WHEN LOCALIZED... To fix this we need to rotate the Fock matrix!"
   ]
  },
  {
   "cell_type": "code",
   "execution_count": null,
   "metadata": {},
   "outputs": [],
   "source": []
  },
  {
   "cell_type": "markdown",
   "metadata": {},
   "source": [
    "How to get the operator that changes the basis?\n",
    "\n",
    "1. Put the standard (unlocalized) and localized C matrix into orthogonal basis\n",
    "    - $C_{\\text{std}}^{\\text{ORTHO}} = S^{0.5}C_{\\text{std}}$\n",
    "    - $C_{\\text{loc}}^{\\text{ORTHO}} = S^{0.5}C_{\\text{loc}}$\n",
    "\n",
    "2. Define change of basis\n",
    "    - $U = \\sum_{i \\in occupied} | \\psi_{i}^{\\text{ORTHO, STD}} \\rangle \\langle \\psi_{i}^{\\text{ortho, loc}} | + \\sum_{i \\in virtual} | \\psi_{i}^{\\text{ORTHO, STD}} \\rangle \\langle \\psi_{i}^{\\text{ortho, STD}}| $ \n",
    "    - note this projects occupied standard ortho orbs onto localized orbs\n",
    "    - keeps virtual orbs the same\n",
    "        - if we localize the virtual orbs then we would need to use the same procedure as the occupied orbs (easy to include)"
   ]
  },
  {
   "cell_type": "code",
   "execution_count": null,
   "metadata": {},
   "outputs": [],
   "source": []
  },
  {
   "cell_type": "code",
   "execution_count": 15,
   "metadata": {},
   "outputs": [
    {
     "name": "stdout",
     "output_type": "stream",
     "text": [
      "is U*C_ortho_loc =  C_ortho_STD: True\n",
      "is U Udag = Identity: True\n"
     ]
    },
    {
     "data": {
      "text/plain": [
       "True"
      ]
     },
     "execution_count": 15,
     "metadata": {},
     "output_type": "execute_result"
    }
   ],
   "source": [
    "# note can make this much better with einsum!\n",
    "\n",
    "S_mat = full_system_scf.get_ovlp()\n",
    "S_half = sp.linalg.fractional_matrix_power(full_system_scf.get_ovlp() , 0.5)\n",
    "\n",
    "ortho_std = S_half@ full_system_scf.mo_coeff\n",
    "ortho_loc = S_half@ C_all_localized_and_virt\n",
    "\n",
    "# ortho_loc[:,0].dot(ortho_loc[:,2])\n",
    "\n",
    "U = np.zeros((ortho_std.shape[0], ortho_std.shape[0]))\n",
    "for MO_ind in range(ortho_std.shape[1]):\n",
    "    outer = np.outer(ortho_std[:, MO_ind], ortho_loc[:, MO_ind])\n",
    "    U+=outer\n",
    "\n",
    "print(f'is U*C_ortho_loc =  C_ortho_STD: {(np.allclose(U @ ortho_loc, ortho_std))}')\n",
    "print(f'is U Udag = Identity: {np.allclose(U.conj().T@U, np.eye(U.shape[0]))}')\n",
    "        \n",
    "# einsum version!\n",
    "np.allclose(np.einsum('ik,jk->ij', ortho_std,ortho_loc),\n",
    "            U)\n",
    "    \n",
    "    \n",
    "# ind = 0\n",
    "# Fock = full_system_scf.get_fock(dm=dm_std)\n",
    "# print(ortho_loc[:,ind].conj().T @ (U.conj().T @ Fock @ U) @ ortho_loc[:,ind])\n",
    "# print(ortho_std[:,ind].conj().T  @ Fock @ ortho_std[:,ind])"
   ]
  },
  {
   "cell_type": "markdown",
   "metadata": {},
   "source": [
    "Note that $U$ is currently defined using ORTHOGONAL BASIS... we want it in our usual MO basis\n",
    "\n",
    "Remembering that\n",
    "\n",
    "$$C_{\\text{std}}^{\\text{ORTHO}} = S^{0.5}C_{\\text{std}}$$\n",
    "\n",
    "Clearly to get back to standard basis we do:\n",
    "\n",
    "$$C_{\\text{std}} = S^{-0.5} C_{\\text{std}}^{\\text{ORTHO}}$$\n",
    "\n",
    "\n",
    "NOW as \n",
    "\n",
    "\n",
    "$$U C_{\\text{loc}}^{\\text{ORTHO}} =C_{\\text{std}}^{\\text{ORTHO}}$$\n",
    "\n",
    "we can re-write this using our definitions:\n",
    "- $C_{\\text{std}}^{\\text{ORTHO}} = S^{0.5}C_{\\text{std}}$\n",
    "- $C_{\\text{loc}}^{\\text{ORTHO}} = S^{0.5}C_{\\text{loc}}$\n",
    "\n",
    "$$U (S^{0.5}C_{\\text{std}}) = (S^{0.5}C_{\\text{loc}})$$\n",
    "\n",
    "Now we want to get rid of $S^{0.5}$ on RHS so we times on left by $S^{-0.5}$\n",
    "\n",
    "$$ S^{-0.5} U S^{0.5}C_{\\text{std}} = C_{\\text{loc}}$$\n",
    "\n",
    "Therefore the change of basis operator in our non-ortho basis is simply:\n",
    "\n",
    "$$ S^{-0.5} U S^{0.5}C_{\\text{std}} = V$$\n",
    "\n",
    "Where: $ V C_{\\text{std}} = C_{\\text{loc}}$\n"
   ]
  },
  {
   "cell_type": "code",
   "execution_count": null,
   "metadata": {},
   "outputs": [],
   "source": []
  },
  {
   "cell_type": "code",
   "execution_count": 16,
   "metadata": {},
   "outputs": [
    {
     "name": "stdout",
     "output_type": "stream",
     "text": [
      "V @ C_loc = C_std: True\n"
     ]
    }
   ],
   "source": [
    "S_neg_half = sp.linalg.fractional_matrix_power(full_system_scf.get_ovlp() , -0.5)\n",
    "\n",
    "V = S_neg_half @ U @ S_half\n",
    "\n",
    "\n",
    "print('V @ C_loc = C_std:', np.allclose(V@C_all_localized_and_virt,\n",
    "                                            full_system_scf.mo_coeff))"
   ]
  },
  {
   "cell_type": "markdown",
   "metadata": {},
   "source": [
    "NOW we can check orbital energies of localized system when we use V to change basis:"
   ]
  },
  {
   "cell_type": "code",
   "execution_count": 17,
   "metadata": {},
   "outputs": [
    {
     "name": "stdout",
     "output_type": "stream",
     "text": [
      "standard orb energies : \n",
      "\n",
      "[-9.56763009 -0.58148699 -0.30276035 -0.3027371  -0.30273108  0.4253797\n",
      "  0.42539908  0.42544391  0.47125932]\n",
      "[-9.56762769 -0.58148626 -0.30275977 -0.30273646 -0.30273044  0.42538041\n",
      "  0.4253998   0.42544456  0.4712599 ]\n",
      "\n",
      "LOCALIZED orb energies WITHOUT Fock change of basis : \n",
      "\n",
      "[-0.36769252 -9.5541165  -0.30273696 -0.30273286 -0.53006678]\n",
      "[-9.56762769 -0.58148626 -0.30275977 -0.30273646 -0.30273044  0.42538041\n",
      "  0.4253998   0.42544456  0.4712599 ]\n",
      "\n",
      "LOCALIZED orb energies WITH Fock change of basis : \n",
      "\n",
      "[-9.56763009 -0.58148699 -0.30276035 -0.3027371  -0.30273108  0.4253797\n",
      "  0.42539908  0.42544391  0.47125932]\n",
      "[-9.56762769 -0.58148626 -0.30275977 -0.30273646 -0.30273044  0.42538041\n",
      "  0.4253998   0.42544456  0.4712599 ]\n"
     ]
    }
   ],
   "source": [
    "print('standard orb energies : \\n')\n",
    "print(np.diag(full_system_scf.mo_coeff.conj().T @ full_system_scf.get_fock() @ full_system_scf.mo_coeff))\n",
    "print(full_system_scf.mo_energy)\n",
    "\n",
    "print('\\nLOCALIZED orb energies WITHOUT Fock change of basis : \\n')\n",
    "print(np.diag(C_all_localized.conj().T @ full_system_scf.get_fock() @ C_all_localized))\n",
    "print(full_system_scf.mo_energy)\n",
    "\n",
    "\n",
    "print('\\nLOCALIZED orb energies WITH Fock change of basis : \\n')\n",
    "print(np.diag(C_all_localized_and_virt.conj().T @ (V.conj().T @ full_system_scf.get_fock() @ V) @ C_all_localized_and_virt))\n",
    "print(full_system_scf.mo_energy)"
   ]
  },
  {
   "cell_type": "code",
   "execution_count": null,
   "metadata": {},
   "outputs": [],
   "source": []
  },
  {
   "cell_type": "code",
   "execution_count": 18,
   "metadata": {},
   "outputs": [],
   "source": [
    "# modify H_core and Veff to allow this change of basis!!!\n",
    "\n",
    "def Get_new_Hcore(H_core, Unitary_rot):\n",
    "    H_core_rot = Unitary_rot.conj().T @ H_core @Unitary_rot \n",
    "    return H_core_rot\n",
    "\n",
    "from pyscf.dft.rks import get_veff as RKS_get_veff\n",
    "## RKS_get_veff gives Coulomb + XC functional\n",
    "## in matrix form: Veff = J + Vxc.\n",
    "    \n",
    "from pyscf import lib\n",
    "from pyscf.dft import numint\n",
    "\n",
    "def Get_new_Veff(pyscf_obj, Unitary, dm=None, check_result=False):\n",
    "    \n",
    "    if dm is None:\n",
    "        if pyscf_obj.mo_coeff is not None:\n",
    "            density_mat = pyscf_obj.make_rdm1(pyscf_obj.mo_coeff, pyscf_obj.mo_occ)\n",
    "        else:\n",
    "            density_mat = pyscf_obj.init_guess_by_1e()\n",
    "    else:\n",
    "        density_mat = dm\n",
    "    \n",
    "    \n",
    "#     Evaluate RKS/UKS XC functional and potential matrix on given meshgrids\n",
    "#     for a set of density matrices.\n",
    "    nelec, exc, vxc = numint.nr_vxc(pyscf_obj.mol,\n",
    "                                            pyscf_obj.grids,\n",
    "                                            pyscf_obj.xc,\n",
    "                                            density_mat)\n",
    "    vxc =  Unitary.conj().T @ vxc @ Unitary\n",
    "    \n",
    "    \n",
    "    Veff = RKS_get_veff(pyscf_obj, dm=density_mat)\n",
    "    if Veff.vk is not None:\n",
    "        K = Unitary.conj().T @ Veff.vk @ Unitary\n",
    "        J = Unitary.conj().T @ Veff.vj @ Unitary\n",
    "        vxc += J - K * .5\n",
    "    else:\n",
    "        J = Unitary.conj().T @ Veff.vj @ Unitary\n",
    "        K = None\n",
    "        vxc += J \n",
    "    \n",
    "    if check_result is True:\n",
    "        M1 = Unitary.conj().T @ Veff.__array__() @ Unitary\n",
    "        if not np.allclose(vxc, M1):\n",
    "            raise ValueError('Veff in new basis NOT correct')\n",
    "    \n",
    "    ecoul = np.einsum('ij,ji', density_mat, J).real * .5 # note J matrix is in new basis!\n",
    "    ## this ecoul term changes if the full density matrix is NOT \n",
    "    # (aka for dm_active and dm_enviroment we get different V_eff under different bases!)\n",
    "    \n",
    "    \n",
    "    output = lib.tag_array(vxc, ecoul=ecoul, exc=Veff.exc, vj=J, vk=K)\n",
    "    return output\n"
   ]
  },
  {
   "cell_type": "code",
   "execution_count": null,
   "metadata": {},
   "outputs": [],
   "source": []
  },
  {
   "cell_type": "code",
   "execution_count": 19,
   "metadata": {},
   "outputs": [
    {
     "data": {
      "text/plain": [
       "-39.616842415244136"
      ]
     },
     "execution_count": 19,
     "metadata": {},
     "output_type": "execute_result"
    }
   ],
   "source": [
    "# Check pyscf obj with localized orbs and unitary change of basis gives same results as before!\n",
    "\n",
    "test_full_system_scf = scf.RKS(full_system_mol)\n",
    "test_full_system_scf.verbose= pyscf_print_level\n",
    "test_full_system_scf.max_memory= memory\n",
    "test_full_system_scf.conv_tol = 1e-6\n",
    "test_full_system_scf.xc = low_level_xc_functional\n",
    "\n",
    "\n",
    "Hcore_std = test_full_system_scf.get_hcore()\n",
    "test_full_system_scf.get_hcore = lambda *args: Get_new_Hcore(Hcore_std, \n",
    "                                                             Unitary_rot=V)\n",
    "\n",
    "\n",
    "test_full_system_scf.get_veff = lambda mol=None, dm=None, dm_last=0, vhf_last=0, hermi=1: Get_new_Veff(\n",
    "                                                                                    test_full_system_scf,\n",
    "                                                                                       V,\n",
    "                                                                                        dm=dm)\n",
    "\n",
    "\n",
    "test_full_system_scf.mo_coeff = C_all_localized_and_virt\n",
    "test_full_system_scf.mo_occ = full_system_scf.mo_occ\n",
    "\n",
    "test_full_system_scf.energy_tot(dm=dm_loc)"
   ]
  },
  {
   "cell_type": "code",
   "execution_count": 20,
   "metadata": {},
   "outputs": [
    {
     "name": "stdout",
     "output_type": "stream",
     "text": [
      "True\n",
      "True\n"
     ]
    }
   ],
   "source": [
    "C_std = full_system_scf.mo_coeff\n",
    "\n",
    "print(np.allclose(C_std.conj().T @ full_system_scf.get_hcore() @ C_std,\n",
    "           C_all_localized_and_virt.conj().T @ test_full_system_scf.get_hcore() @ C_all_localized_and_virt))\n",
    "\n",
    "print(np.allclose(C_std.conj().T @ full_system_scf.get_veff(dm=dm_std) @ C_std,\n",
    "           C_all_localized_and_virt.conj().T @ test_full_system_scf.get_veff(dm=dm_loc) @ C_all_localized_and_virt))"
   ]
  },
  {
   "cell_type": "code",
   "execution_count": 21,
   "metadata": {},
   "outputs": [
    {
     "name": "stdout",
     "output_type": "stream",
     "text": [
      "-53.08968539169484\n",
      "\n",
      "-53.08968539174043\n"
     ]
    }
   ],
   "source": [
    "### RKS energy (not the same as HFock!)\n",
    "vhf_std = full_system_scf.get_veff(dm=dm_std)\n",
    "e1_std = np.einsum('ij,ji->', full_system_scf.get_hcore(), dm_std)\n",
    "e2_std = vhf_std.ecoul + vhf_std.exc\n",
    "print(e1_std + e2_std)\n",
    "\n",
    "print()\n",
    "vhf_loc = test_full_system_scf.get_veff(dm=dm_std)\n",
    "e1_loc = np.einsum('ij,ji->', test_full_system_scf.get_hcore(), dm_loc)\n",
    "e2_loc = vhf_loc.ecoul + vhf_loc.exc\n",
    "print(e1_loc+e2_loc)"
   ]
  },
  {
   "cell_type": "code",
   "execution_count": null,
   "metadata": {},
   "outputs": [],
   "source": []
  },
  {
   "cell_type": "code",
   "execution_count": 22,
   "metadata": {},
   "outputs": [
    {
     "name": "stdout",
     "output_type": "stream",
     "text": [
      "check electronic energies match: True\n"
     ]
    }
   ],
   "source": [
    "print('check electronic energies match:', np.allclose(full_system_scf.energy_elec(dm=dm_std)[0],\n",
    "                                test_full_system_scf.energy_elec(dm=dm_loc)[0]))\n",
    "\n",
    "# test_full_system_scf.kernel()  # run to populate mo_energy....\n",
    "# print('check MO energies match:', np.allclose(full_system_scf.mo_energy,\n",
    "#                                 test_full_system_scf.mo_energy))"
   ]
  },
  {
   "cell_type": "code",
   "execution_count": 23,
   "metadata": {
    "scrolled": true
   },
   "outputs": [
    {
     "name": "stdout",
     "output_type": "stream",
     "text": [
      "[[-9.57  0.    0.   -0.    0.    0.   -0.   -0.    0.  ]\n",
      " [ 0.   -0.58  0.   -0.    0.   -0.    0.    0.   -0.  ]\n",
      " [ 0.    0.   -0.3  -0.    0.    0.    0.    0.   -0.  ]\n",
      " [-0.   -0.   -0.   -0.3   0.    0.   -0.    0.    0.  ]\n",
      " [ 0.    0.    0.    0.   -0.3  -0.   -0.    0.   -0.  ]\n",
      " [ 0.   -0.    0.    0.   -0.    0.43  0.   -0.    0.  ]\n",
      " [-0.    0.    0.   -0.   -0.    0.    0.43  0.   -0.  ]\n",
      " [-0.    0.    0.    0.    0.   -0.    0.    0.43 -0.  ]\n",
      " [ 0.   -0.   -0.    0.   -0.    0.   -0.   -0.    0.47]]\n",
      "[[-9.57  0.    0.   -0.    0.    0.   -0.   -0.    0.  ]\n",
      " [ 0.   -0.58  0.   -0.    0.   -0.    0.    0.   -0.  ]\n",
      " [ 0.    0.   -0.3  -0.    0.    0.    0.    0.   -0.  ]\n",
      " [-0.   -0.   -0.   -0.3   0.    0.   -0.    0.    0.  ]\n",
      " [ 0.    0.    0.    0.   -0.3  -0.   -0.    0.   -0.  ]\n",
      " [ 0.   -0.    0.    0.   -0.    0.43  0.   -0.    0.  ]\n",
      " [-0.    0.    0.   -0.   -0.    0.    0.43  0.   -0.  ]\n",
      " [-0.    0.    0.    0.    0.   -0.    0.    0.43 -0.  ]\n",
      " [ 0.   -0.   -0.    0.   -0.    0.   -0.   -0.    0.47]]\n"
     ]
    }
   ],
   "source": [
    "F_new = test_full_system_scf.get_hcore() + test_full_system_scf.get_veff(dm_loc) # Note this is now in new basis!\n",
    "print(np.around(C_all_localized_and_virt.conj().T @ F_new @ C_all_localized_and_virt, 2))\n",
    "\n",
    "\n",
    "F_std = full_system_scf.get_hcore() + full_system_scf.get_veff(dm=dm_loc) # Note this is standard HF!\n",
    "C_std = full_system_scf.mo_coeff\n",
    "print(np.around(C_std.conj().T @ F_std @ C_std, 2))"
   ]
  },
  {
   "cell_type": "markdown",
   "metadata": {},
   "source": [
    "Basically we now have orbital energies matching as we want\n",
    "\n",
    "(This will become important when we move to post Hartree-Fock methods!)"
   ]
  },
  {
   "cell_type": "code",
   "execution_count": null,
   "metadata": {},
   "outputs": [],
   "source": []
  },
  {
   "cell_type": "code",
   "execution_count": 24,
   "metadata": {},
   "outputs": [],
   "source": [
    "# # Draw active orbitals\n",
    "\n",
    "# list_active_orbitals = vqe_in_dft.Draw_cube_orbital(full_system_scf,\n",
    "#                              xyz_string,\n",
    "#                              C_all_localized, \n",
    "#                              active_MO_inds,\n",
    "#                              width=400, \n",
    "#                              height=400, \n",
    "#                              jupyter_notebook=True)\n",
    "\n",
    "# list_enviro_orbitals = vqe_in_dft.Draw_cube_orbital(full_system_scf,\n",
    "#                              xyz_string,\n",
    "#                              C_all_localized, \n",
    "#                              enviro_MO_inds,\n",
    "#                              width=400, \n",
    "#                              height=400, \n",
    "#                              jupyter_notebook=True)"
   ]
  },
  {
   "cell_type": "code",
   "execution_count": 25,
   "metadata": {},
   "outputs": [],
   "source": [
    "# list_active_orbitals[0]"
   ]
  },
  {
   "cell_type": "code",
   "execution_count": 26,
   "metadata": {},
   "outputs": [],
   "source": [
    "# list_enviro_orbitals[0]"
   ]
  },
  {
   "cell_type": "code",
   "execution_count": null,
   "metadata": {},
   "outputs": [],
   "source": []
  },
  {
   "cell_type": "code",
   "execution_count": 27,
   "metadata": {},
   "outputs": [],
   "source": [
    "def Get_active_and_envrio_dm(PySCF_scf_obj, C_active, C_envrio, C_all_localized, sanity_check=True):\n",
    "\n",
    "    # get density matrices\n",
    "    dm_active =  2 * C_active @ C_active.T\n",
    "    dm_enviro =  2 * C_envrio @ C_envrio.T\n",
    "\n",
    "    if sanity_check:\n",
    "\n",
    "        S_ovlp = PySCF_scf_obj.get_ovlp()\n",
    "\n",
    "        ## check number of electrons is still the same after orbitals have been localized (change of basis)\n",
    "        N_active_electrons = np.trace(dm_active@S_ovlp)\n",
    "        N_enviro_electrons = np.trace(dm_enviro@S_ovlp)\n",
    "        N_all_electrons = PySCF_scf_obj.mol.nelectron\n",
    "\n",
    "        bool_flag_electron_number = np.isclose(( N_active_electrons + N_enviro_electrons), N_all_electrons)\n",
    "        if not bool_flag_electron_number:\n",
    "            raise ValueError('number of electrons in localized orbitals is incorrect')\n",
    "        print(f'N_active_elec + N_environment_elec = N_total_elec is: {bool_flag_electron_number}')\n",
    "\n",
    "        # checking denisty matrix parition makes sense:\n",
    "        dm_localised_full_system = 2* C_all_localized@ C_all_localized.conj().T\n",
    "        bool_density_flag = np.allclose(dm_localised_full_system, dm_active + dm_enviro)\n",
    "        if not bool_density_flag:\n",
    "            raise ValueError('gamma_full != gamma_active + gamma_enviro')\n",
    "        print(f'y_active + y_enviro = y_total is: {bool_density_flag}')\n",
    "\n",
    "    return dm_active, dm_enviro"
   ]
  },
  {
   "cell_type": "code",
   "execution_count": 28,
   "metadata": {},
   "outputs": [
    {
     "name": "stdout",
     "output_type": "stream",
     "text": [
      "N_active_elec + N_environment_elec = N_total_elec is: True\n",
      "y_active + y_enviro = y_total is: True\n"
     ]
    }
   ],
   "source": [
    "dm_active, dm_enviro = Get_active_and_envrio_dm(\n",
    "                                            full_system_scf,\n",
    "                                            C_active, \n",
    "                                            C_envrio, \n",
    "                                            C_all_localized, \n",
    "                                            sanity_check=True)"
   ]
  },
  {
   "cell_type": "code",
   "execution_count": null,
   "metadata": {},
   "outputs": [],
   "source": []
  },
  {
   "cell_type": "code",
   "execution_count": null,
   "metadata": {},
   "outputs": [],
   "source": []
  },
  {
   "cell_type": "code",
   "execution_count": 29,
   "metadata": {},
   "outputs": [
    {
     "data": {
      "text/plain": [
       "True"
      ]
     },
     "execution_count": 29,
     "metadata": {},
     "output_type": "execute_result"
    }
   ],
   "source": [
    "two_e_term =  test_full_system_scf.get_veff(dm=dm_loc)\n",
    "\n",
    "np.allclose(V.conj().T @test_full_system_scf.get_j(dm = dm_loc) @ V,\n",
    "            two_e_term.vj)"
   ]
  },
  {
   "cell_type": "code",
   "execution_count": 30,
   "metadata": {},
   "outputs": [],
   "source": [
    "def Get_energy_and_matrices_from_dm(PySCF_scf_obj, dm_matrix, check_E_with_pyscf=True):\n",
    "    \"\"\"\n",
    "    Get Energy from denisty matrix\n",
    "\n",
    "    Note this uses the standard hcore (NO embedding potential here!)\n",
    "    \"\"\"\n",
    "\n",
    "    # It seems that PySCF lumps J and K in the J array \n",
    "    two_e_term =  PySCF_scf_obj.get_veff(dm=dm_matrix)\n",
    "    J_mat = two_e_term.vj\n",
    "    K_mat = np.zeros_like(J_mat)\n",
    "    \n",
    "    e_xc = two_e_term.exc\n",
    "    v_xc = two_e_term - J_mat \n",
    "\n",
    "#     H_core_standard = scf.hf.get_hcore(PySCF_scf_obj.mol) # No embedding potential\n",
    "    Energy_elec = (np.einsum('ij,ji->', PySCF_scf_obj.get_hcore(), dm_matrix) + \n",
    "                   two_e_term.ecoul + two_e_term.exc)\n",
    "    \n",
    "    if check_E_with_pyscf:\n",
    "        Energy_elec_pyscf = PySCF_scf_obj.energy_elec(dm=dm_matrix)[0]\n",
    "        if not np.isclose(Energy_elec_pyscf, Energy_elec):\n",
    "            raise ValueError('Energy calculation incorrect')\n",
    "\n",
    "    return Energy_elec, J_mat, K_mat, e_xc, v_xc"
   ]
  },
  {
   "cell_type": "code",
   "execution_count": null,
   "metadata": {},
   "outputs": [],
   "source": []
  },
  {
   "cell_type": "code",
   "execution_count": 31,
   "metadata": {},
   "outputs": [
    {
     "name": "stdout",
     "output_type": "stream",
     "text": [
      "-42.3093029000915\n"
     ]
    },
    {
     "data": {
      "text/plain": [
       "-42.309302900091495"
      ]
     },
     "execution_count": 31,
     "metadata": {},
     "output_type": "execute_result"
    }
   ],
   "source": [
    "# use active density\n",
    "E_act, J_act, K_act, e_xc_act, v_xc_act = Get_energy_and_matrices_from_dm( full_system_scf, # <-- standard\n",
    "                                                                             dm_active, # <- ACTIVE\n",
    "                                                                             check_E_with_pyscf=True)\n",
    "print(full_system_scf.energy_elec(dm=dm_active)[0])\n",
    "E_act"
   ]
  },
  {
   "cell_type": "code",
   "execution_count": 32,
   "metadata": {},
   "outputs": [
    {
     "name": "stdout",
     "output_type": "stream",
     "text": [
      "-43.36002957957731\n"
     ]
    },
    {
     "data": {
      "text/plain": [
       "-43.36002957957731"
      ]
     },
     "execution_count": 32,
     "metadata": {},
     "output_type": "execute_result"
    }
   ],
   "source": [
    "# use active density\n",
    "E_act, J_act, K_act, e_xc_act, v_xc_act = Get_energy_and_matrices_from_dm( test_full_system_scf, # <-- modified \n",
    "                                                                             dm_active, # <- ACTIVE\n",
    "                                                                             check_E_with_pyscf=True)\n",
    "print(test_full_system_scf.energy_elec(dm=dm_active)[0])\n",
    "E_act"
   ]
  },
  {
   "cell_type": "code",
   "execution_count": 33,
   "metadata": {},
   "outputs": [
    {
     "name": "stdout",
     "output_type": "stream",
     "text": [
      "-42.3093029000915\n",
      "-43.36002957957731\n",
      "\n",
      "-53.08968539174042\n",
      "-53.08968539169485\n"
     ]
    }
   ],
   "source": [
    "## Note different energies!\n",
    "print(full_system_scf.energy_elec(dm=dm_active)[0])\n",
    "print(test_full_system_scf.energy_elec(dm=dm_active)[0])\n",
    "\n",
    "## This is expected as now using active density matrix (rather than full one)\n",
    "\n",
    "print()\n",
    "# If we use the full dm matrix then we get matching results (aka now have full density matrix)\n",
    "E_loc = test_full_system_scf.energy_elec(dm=dm_active+dm_enviro)[0]\n",
    "E_std = full_system_scf.energy_elec(dm=dm_active+dm_enviro)[0] \n",
    "print(E_loc)\n",
    "print(E_std)"
   ]
  },
  {
   "cell_type": "code",
   "execution_count": 34,
   "metadata": {},
   "outputs": [],
   "source": [
    "# Note we want to use modified object, where change of basis on Fock matrix has been performed!"
   ]
  },
  {
   "cell_type": "code",
   "execution_count": 35,
   "metadata": {},
   "outputs": [
    {
     "name": "stdout",
     "output_type": "stream",
     "text": [
      "-23.091359015587322\n"
     ]
    },
    {
     "data": {
      "text/plain": [
       "-23.091359015587326"
      ]
     },
     "execution_count": 35,
     "metadata": {},
     "output_type": "execute_result"
    }
   ],
   "source": [
    "# use enviro density\n",
    "E_env, J_env, K_env, e_xc_env, v_xc_env = Get_energy_and_matrices_from_dm(\n",
    "                                                                            test_full_system_scf, # <-- modified \n",
    "                                                                             dm_enviro, # <- ENVIRO\n",
    "                                                                             check_E_with_pyscf=True)\n",
    "print(test_full_system_scf.energy_elec(dm=dm_enviro)[0])\n",
    "E_env"
   ]
  },
  {
   "cell_type": "code",
   "execution_count": 36,
   "metadata": {},
   "outputs": [],
   "source": [
    "def Get_cross_terms(PySCF_scf_obj, dm_active, dm_enviro, J_env, J_act, e_xc_act, e_xc_env):\n",
    "    \"\"\"\n",
    "    Get cross system terms\n",
    "    \n",
    "    \"\"\"\n",
    "\n",
    "    two_e_term_total =  PySCF_scf_obj.get_veff(dm=dm_active+dm_enviro)\n",
    "    e_xc_total = two_e_term_total.exc\n",
    "\n",
    "    j_cross = 0.5 * ( np.einsum('ij,ij', dm_active, J_env) + np.einsum('ij,ij', dm_enviro, J_act) )\n",
    "    k_cross = 0.0\n",
    "\n",
    "    xc_cross = e_xc_total - e_xc_act - e_xc_env\n",
    "    two_e_cross = j_cross + k_cross + xc_cross\n",
    "    \n",
    "    return two_e_cross"
   ]
  },
  {
   "cell_type": "code",
   "execution_count": 37,
   "metadata": {},
   "outputs": [],
   "source": [
    "# cross terms!\n",
    "two_e_cross = Get_cross_terms(test_full_system_scf, # <-- modified \n",
    "                                         dm_active, \n",
    "                                         dm_enviro, \n",
    "                                         J_env, \n",
    "                                         J_act, \n",
    "                                         e_xc_act,\n",
    "                                         e_xc_env)"
   ]
  },
  {
   "cell_type": "code",
   "execution_count": 38,
   "metadata": {},
   "outputs": [
    {
     "name": "stdout",
     "output_type": "stream",
     "text": [
      "E_active: -43.36002957957731\n",
      "E_enviro: -23.091359015587326\n",
      "E_cross: 13.361703203424225\n"
     ]
    }
   ],
   "source": [
    "print(f'E_active: {E_act}')\n",
    "print(f'E_enviro: {E_env}')\n",
    "print(f'E_cross: {two_e_cross}')"
   ]
  },
  {
   "cell_type": "code",
   "execution_count": 39,
   "metadata": {},
   "outputs": [
    {
     "name": "stdout",
     "output_type": "stream",
     "text": [
      "E_hf_standard : -39.61684241519855\n",
      "E_act + E_env + non_add_two_e + E_nuc : -39.61684241524411\n",
      "energies match True\n"
     ]
    },
    {
     "data": {
      "text/plain": [
       "4.5560000216937624e-11"
      ]
     },
     "execution_count": 39,
     "metadata": {},
     "output_type": "execute_result"
    }
   ],
   "source": [
    "print(f'E_hf_standard : {full_system_scf.e_tot}')\n",
    "print(f'E_act + E_env + non_add_two_e + E_nuc : {E_act+E_env+two_e_cross+ full_system_scf.energy_nuc()}')\n",
    "\n",
    "# equation 1 of SPADE paper\n",
    "print(f'energies match {np.isclose(full_system_scf.e_tot, (E_act+E_env+two_e_cross+ full_system_scf.energy_nuc()))}') # equation 3 of SPADE paper\n",
    "full_system_scf.e_tot - (E_act+E_env+two_e_cross+ full_system_scf.energy_nuc())"
   ]
  },
  {
   "cell_type": "code",
   "execution_count": 40,
   "metadata": {},
   "outputs": [
    {
     "name": "stdout",
     "output_type": "stream",
     "text": [
      "6.0000000000000036\n",
      "3.9999999999999996\n"
     ]
    }
   ],
   "source": [
    "print(np.trace(S_mat@dm_enviro))\n",
    "print(np.trace(S_mat@dm_active))"
   ]
  },
  {
   "cell_type": "code",
   "execution_count": null,
   "metadata": {},
   "outputs": [],
   "source": []
  },
  {
   "cell_type": "markdown",
   "metadata": {},
   "source": [
    "# NEXT define the projector onto subsystem B (enviroment)"
   ]
  },
  {
   "cell_type": "markdown",
   "metadata": {},
   "source": [
    "$$P^{env} = \\sum_{i \\in \\text{env}} |\\psi_{i} \\rangle \\langle \\psi_{i}|$$\n",
    "\n",
    "important points:\n",
    "1. Currently C_localized matrix columns give MO orbs $|\\psi_{i} \\rangle$\n",
    "2. However, these are **not orthogonal**! Therefore defining a projector here is HARD\n",
    "3. To fix this:\n",
    "    - change to orthogonal basis\n",
    "    - now define projector in this new basis\n",
    "    - undo basis change to give projector in non-ortho basis!"
   ]
  },
  {
   "cell_type": "code",
   "execution_count": null,
   "metadata": {},
   "outputs": [],
   "source": []
  },
  {
   "cell_type": "code",
   "execution_count": 147,
   "metadata": {},
   "outputs": [],
   "source": [
    "mu = 1e6\n",
    "projector = mu * (S_mat @ dm_enviro @ S_mat)\n",
    "\n",
    "\n",
    "Fock_loc_basis = test_full_system_scf.get_fock()\n",
    "projector_HUZ = -0.5*(Fock_loc_basis @ dm_enviro @ S_mat + S_mat @ dm_enviro @ Fock_loc_basis)\n",
    "\n",
    "g_A_and_B = test_full_system_scf.get_veff(dm=dm_active+dm_enviro)\n",
    "g_A = test_full_system_scf.get_veff(dm=dm_active)\n",
    "\n",
    "if projector_method == 'huzinaga':\n",
    "    v_emb = g_A_and_B - g_A + projector\n",
    "elif projector_method == 'huzinaga':\n",
    "    TODO"
   ]
  },
  {
   "cell_type": "code",
   "execution_count": 151,
   "metadata": {},
   "outputs": [
    {
     "name": "stdout",
     "output_type": "stream",
     "text": [
      "[[ 1.04996217e-06 -3.58645179e-08  9.61705370e-03]\n",
      " [-1.66590316e-06  7.36408465e-06  4.98562020e-01]\n",
      " [-4.73901381e-01 -6.62921149e-02 -1.28514133e-01]\n",
      " [-3.00289011e-02  5.40782430e-01 -3.91454472e-02]\n",
      " [ 2.72940040e-01 -5.56045150e-02 -2.27436613e-01]\n",
      " [ 3.40554532e-06 -7.83103058e-06  9.98588807e-02]\n",
      " [-2.16886232e-01  3.31689226e-01  3.70160838e-01]\n",
      " [-1.78831867e-01 -3.53653260e-01  3.70165797e-01]\n",
      " [ 3.95709582e-01  2.19726083e-02  3.70172353e-01]]\n",
      "\n",
      "[[ 3.29527035e+00 -8.76021681e-02  3.17675549e+04]\n",
      " [-5.50458205e+00  2.43933817e+01  1.64688080e+06]\n",
      " [-1.56526941e+06 -2.18976458e+05 -4.24516005e+05]\n",
      " [-9.91836904e+04  1.78631044e+06 -1.29308278e+05]\n",
      " [ 9.01504519e+05 -1.83672297e+05 -7.51282655e+05]\n",
      " [ 1.19531736e+01 -2.58707452e+01  3.29860178e+05]\n",
      " [-7.16363029e+05  1.09563483e+06  1.22273859e+06]\n",
      " [-5.90671404e+05 -1.16818568e+06  1.22275396e+06]\n",
      " [ 1.30700582e+06  7.25793035e+04  1.22277610e+06]]\n"
     ]
    }
   ],
   "source": [
    "# print(projector_HUZ @ C_active)\n",
    "# print()\n",
    "# print(projector @ C_active)\n",
    "\n",
    "print(projector_HUZ @ C_envrio)\n",
    "print()\n",
    "print(projector @ C_envrio)"
   ]
  },
  {
   "cell_type": "code",
   "execution_count": 134,
   "metadata": {},
   "outputs": [
    {
     "name": "stdout",
     "output_type": "stream",
     "text": [
      "Are subsystem B (env) projected onto themselves: True\n",
      "Is subsystem A traced out?: True\n"
     ]
    }
   ],
   "source": [
    "## manual projector\n",
    "\n",
    "## 1. convert to orthogonal C_matrix\n",
    "S_mat = full_system_scf.get_ovlp()\n",
    "S_half = sp.linalg.fractional_matrix_power(full_system_scf.get_ovlp() , 0.5)\n",
    "S_neg_half = sp.linalg.fractional_matrix_power(full_system_scf.get_ovlp() , -0.5)\n",
    "\n",
    "Loc_Ortho = S_half@ C_all_localized_and_virt # orthogonal C matrix (localized)\n",
    "\n",
    "## 2. Define projector that projects MO orbs of subsystem B onto themselves and system A onto zero state!\n",
    "##### (do this in orthongoal C_matrix!)\n",
    "### not we only take MO environment indices!\n",
    "PROJ_ortho = np.zeros_like(S_mat)\n",
    "for MO_ind in range(C_all_localized_and_virt.shape[1]):\n",
    "    if MO_ind in enviro_MO_inds:\n",
    "        outer = np.outer(Loc_Ortho[:, MO_ind], Loc_Ortho[:, MO_ind])\n",
    "        PROJ_ortho+=outer\n",
    "    else:\n",
    "        continue\n",
    "\n",
    "print(f'''Are subsystem B (env) projected onto themselves: {\n",
    "        np.allclose(PROJ_ortho@Loc_Ortho[:, enviro_MO_inds], \n",
    "        Loc_Ortho[:, enviro_MO_inds])}''') # projected onto itself\n",
    "\n",
    "print(f'''Is subsystem A traced out?: {\n",
    "        np.allclose(PROJ_ortho@Loc_Ortho[:, active_MO_inds], \n",
    "        np.zeros_like(Loc_Ortho[:, active_MO_inds]))}''') # # projected onto zeros!\n",
    "        \n",
    "        \n",
    "#### 3. NEXT USING PROJECTOR in ortho basis define projector via different methods\n",
    "        \n",
    "        \n",
    "projector_method = 'huzinaga'\n",
    "# projector_method = 'mu_shfit'\n",
    "\n",
    "if projector_method == 'huzinaga':\n",
    "    Fock = test_full_system_scf.get_hcore() + test_full_system_scf.get_veff(dm=dm_active + dm_enviro)\n",
    "    Fock_ortho = S_neg_half@Fock @ S_neg_half\n",
    "    \n",
    "    # Huzinaga\n",
    "    projector_ortho =  -0.5*(Fock_ortho@PROJ_ortho + PROJ_ortho@Fock_ortho) # 0.5 for restricted calc!\n",
    "    \n",
    "    projector = S_half @ projector_ortho  @ S_half\n",
    "    \n",
    "elif projector_method == 'mu_shfit':\n",
    "    mu = 1e6\n",
    "    projector_ortho = mu * PROJ_ortho\n",
    "    \n",
    "#     projector = S_neg_half @ projector_ortho  @ S_half\n",
    "\n",
    "    # mu shift\n",
    "    projector = S_half @ projector_ortho  @ S_half\n",
    "else:\n",
    "    raise ValueError(f'Unknown projection method {projector_method}')\n",
    "\n",
    "##### 4. Define projector in standard (non-orthogonal basis)\n",
    "# projector = S_half @ projector_ortho  @ S_half\n",
    "\n",
    "\n",
    "### 5. now can build relevant ops\n",
    "\n",
    "\n",
    "\n",
    "### TODO check this!!!\n",
    "# when using full_system_scf and mu_shift get correct result\n",
    "# but I think one should use test_full_system_scf (with modified Fock matrix) \n",
    "\n",
    "### NOTE: we do NOT use modified Fock matrix here!!!!!\n",
    "# g_A_and_B = full_system_scf.get_veff(dm=dm_active+dm_enviro)\n",
    "# g_A = full_system_scf.get_veff(dm=dm_active)\n",
    "\n",
    "# modified Fock matrix gives correct result when change of basis used on embedded pyscf obj!!!\n",
    "g_A_and_B = test_full_system_scf.get_veff(dm=dm_active+dm_enviro)\n",
    "g_A = test_full_system_scf.get_veff(dm=dm_active)\n",
    "\n",
    "v_emb = g_A_and_B - g_A + projector"
   ]
  },
  {
   "cell_type": "code",
   "execution_count": 42,
   "metadata": {},
   "outputs": [],
   "source": [
    "# old mu shift\n",
    "# projector_mu = mu * (S_mat @ dm_enviro  @ S_mat)\n",
    "# np.allclose(projector_mu, projector_mu/2)"
   ]
  },
  {
   "cell_type": "code",
   "execution_count": 43,
   "metadata": {},
   "outputs": [
    {
     "name": "stdout",
     "output_type": "stream",
     "text": [
      " <env| P |env> = - <env| F |env> : True \n",
      "\n",
      "active subsystem orbital energies the same: True \n",
      "\n",
      "enviro subsystem orbital energies should be ZERO (traced out):True \n",
      "\n",
      "\n",
      "basically want active MOs first... then enviroment\n",
      "active MO indices: [0 1] \n",
      "\n",
      "should appear first when orbital inds listed by energy:\n"
     ]
    },
    {
     "data": {
      "text/plain": [
       "[(0, -9.567630085625302),\n",
       " (1, -0.5814869911162082),\n",
       " (2, -6.35910503300595e-16),\n",
       " (4, -5.986693605351633e-16),\n",
       " (3, 2.9764450165895044e-15),\n",
       " (5, 0.42537969540628584),\n",
       " (6, 0.42539908352908357),\n",
       " (7, 0.4254439118843388),\n",
       " (8, 0.47125932005916626)]"
      ]
     },
     "execution_count": 43,
     "metadata": {},
     "output_type": "execute_result"
    }
   ],
   "source": [
    "Fock_loc_basis = test_full_system_scf.get_fock()\n",
    "\n",
    "if projector_method == 'mu_shfit':\n",
    "    new_orbital_energies = np.diag(C_all_localized_and_virt.conj().T @ (Fock_loc_basis+projector) @ C_all_localized_and_virt)\n",
    "\n",
    "    ## expect subsystem A orbital energies to remain the SAME\n",
    "    print(f'''active subsystem orbital energies the same: {np.allclose(new_orbital_energies[active_MO_inds],\n",
    "                                                        full_system_scf.mo_energy[active_MO_inds])} \\n''')\n",
    "\n",
    "    # expect subsystem B orbital energies to be pushed up to high energy\n",
    "    print(f'original MO energies env: {full_system_scf.mo_energy[enviro_MO_inds]}')\n",
    "    print(f'new MO energies env: {new_orbital_energies[enviro_MO_inds]}')\n",
    "    # print(f'''enviro subsystem orbital energies energy increased by mu: \n",
    "    #                                                     {np.allclose(new_orbital_energies[enviro_MO_inds],\n",
    "    #                                                     mu*full_system_scf.mo_energy[enviro_MO_inds])}''')\n",
    "    \n",
    "    \n",
    "elif projector_method == 'huzinaga':\n",
    "    ## projector should give opposite sign val of subsytem B orbitals vs standard Fock eval\n",
    "    proj_orb_energy = C_all_localized_and_virt[:, enviro_MO_inds].conj().T @projector@C_all_localized_and_virt[:, enviro_MO_inds]\n",
    "    fock_orb_energy = C_all_localized_and_virt[:, enviro_MO_inds].conj().T @Fock_loc_basis@C_all_localized_and_virt[:, enviro_MO_inds]\n",
    "    \n",
    "    print(f''' <env| P |env> = - <env| F |env> : {np.allclose(-1*proj_orb_energy,\n",
    "                                                              fock_orb_energy)} \\n''')\n",
    "    \n",
    "    new_orbital_energies = np.diag(C_all_localized_and_virt.conj().T @ (Fock_loc_basis+projector) @ C_all_localized_and_virt)\n",
    "    print(f'''active subsystem orbital energies the same: {np.allclose(new_orbital_energies[active_MO_inds],\n",
    "                                                    full_system_scf.mo_energy[active_MO_inds])} \\n''')\n",
    "    \n",
    "    print(f'''enviro subsystem orbital energies should be ZERO (traced out):{ \n",
    "                                   np.allclose(new_orbital_energies[enviro_MO_inds],\n",
    "                                                np.zeros_like(new_orbital_energies[enviro_MO_inds]))} \\n''')\n",
    "    \n",
    "else:\n",
    "    raise ValueError(f'Unknown projection method {projector_method}')\n",
    "\n",
    "\n",
    "print('\\nbasically want active MOs first... then enviroment')\n",
    "print(f'active MO indices: {active_MO_inds} \\n')\n",
    "print('should appear first when orbital inds listed by energy:')\n",
    "sorted([(i, new_orbital_energies[i])for i in range(new_orbital_energies.shape[0])], key=lambda x:x[1])"
   ]
  },
  {
   "cell_type": "code",
   "execution_count": 44,
   "metadata": {},
   "outputs": [],
   "source": [
    "# TODO ^^^^ choose frozen orbitals here!"
   ]
  },
  {
   "cell_type": "code",
   "execution_count": null,
   "metadata": {},
   "outputs": [],
   "source": []
  },
  {
   "cell_type": "code",
   "execution_count": 45,
   "metadata": {},
   "outputs": [
    {
     "name": "stdout",
     "output_type": "stream",
     "text": [
      "Trace(y_ENV @ PB): 1.8164570630794858\n",
      "Trace(y_act @ PB): 1.0408340855860843e-16\n",
      "\n",
      "Trace(y_ENV @ v_emb): 17.580681850245096\n",
      "Trace(y_act @ v_emb): 13.222022116067706\n"
     ]
    }
   ],
   "source": [
    "print('Trace(y_ENV @ PB):', np.einsum('ij, ij', dm_enviro, projector) )\n",
    "print('Trace(y_act @ PB):', np.einsum('ij, ij', dm_active, projector) )\n",
    "print()\n",
    "print('Trace(y_ENV @ v_emb):', np.einsum('ij, ij', dm_enviro, v_emb) )\n",
    "print('Trace(y_act @ v_emb):', np.einsum('ij, ij', dm_active, v_emb) )"
   ]
  },
  {
   "cell_type": "code",
   "execution_count": null,
   "metadata": {},
   "outputs": [],
   "source": []
  },
  {
   "cell_type": "code",
   "execution_count": 46,
   "metadata": {},
   "outputs": [
    {
     "name": "stdout",
     "output_type": "stream",
     "text": [
      "embedded Energy: -16.665164768153996\n"
     ]
    }
   ],
   "source": [
    "# full_system_mol_EMBEDDED = gto.Mole(atom= geometry,\n",
    "#                       basis=basis,\n",
    "#                        charge=charge,\n",
    "#                        spin=spin,\n",
    "#                       )\n",
    "# full_system_mol_EMBEDDED.build()\n",
    "\n",
    "# # RE-DEFINE number of electrons in system\n",
    "# full_system_mol_EMBEDDED.nelectron = 2*len(active_MO_inds) # <------ IMPORTANT!\n",
    "\n",
    "# EMBEDDED_full_system_scf = scf.RKS(full_system_mol_EMBEDDED)\n",
    "# EMBEDDED_full_system_scf.verbose=1\n",
    "# EMBEDDED_full_system_scf.max_memory= memory\n",
    "# EMBEDDED_full_system_scf.conv_tol = 1e-6\n",
    "# EMBEDDED_full_system_scf.xc = low_level_xc_functional\n",
    "\n",
    "# h_core = EMBEDDED_full_system_scf.get_hcore()\n",
    "\n",
    "# # overwrite h_core to include embedding term!!!!\n",
    "# EMBEDDED_full_system_scf.get_hcore = lambda *args: v_emb + h_core\n",
    "\n",
    "# E_emb = EMBEDDED_full_system_scf.kernel()\n",
    "\n",
    "# print(f'embedded Energy: {E_emb}')\n",
    "\n",
    "\n",
    "\n",
    "full_system_mol_EMBEDDED = gto.Mole(atom= geometry,\n",
    "                      basis=basis,\n",
    "                       charge=charge,\n",
    "                       spin=spin,\n",
    "                      )\n",
    "full_system_mol_EMBEDDED.build()\n",
    "\n",
    "# RE-DEFINE number of electrons in system\n",
    "full_system_mol_EMBEDDED.nelectron = 2*len(active_MO_inds) # <------ IMPORTANT!\n",
    "\n",
    "EMBEDDED_full_system_scf = scf.RKS(full_system_mol_EMBEDDED)\n",
    "EMBEDDED_full_system_scf.verbose=1\n",
    "EMBEDDED_full_system_scf.max_memory= memory\n",
    "EMBEDDED_full_system_scf.conv_tol = 1e-6\n",
    "EMBEDDED_full_system_scf.xc = low_level_xc_functional\n",
    "\n",
    "\n",
    "\n",
    "## include change of basis!\n",
    "Hcore_std = EMBEDDED_full_system_scf.get_hcore()\n",
    "EMBEDDED_full_system_scf.get_hcore = lambda *args: Get_new_Hcore(Hcore_std, \n",
    "                                                             Unitary_rot=V)\n",
    "\n",
    "\n",
    "EMBEDDED_full_system_scf.get_veff = lambda mol=None, dm=None, dm_last=0, vhf_last=0, hermi=1: Get_new_Veff(\n",
    "                                                                                    EMBEDDED_full_system_scf,\n",
    "                                                                                       V,\n",
    "                                                                                        dm=dm)\n",
    "\n",
    "Hcore_rotated = EMBEDDED_full_system_scf.get_hcore()\n",
    "\n",
    "# overwrite h_core to include embedding term!!!!\n",
    "EMBEDDED_full_system_scf.get_hcore = lambda *args: v_emb + Hcore_rotated\n",
    "\n",
    "E_emb = EMBEDDED_full_system_scf.kernel()\n",
    "\n",
    "print(f'embedded Energy: {E_emb}')"
   ]
  },
  {
   "cell_type": "code",
   "execution_count": 47,
   "metadata": {},
   "outputs": [
    {
     "data": {
      "text/plain": [
       "array([-9.56762947e+00, -5.81486925e-01,  3.61084932e-08,  7.51248731e-08,\n",
       "        7.77284660e-08,  4.25379798e-01,  4.25399189e-01,  4.25443974e-01,\n",
       "        4.71259421e-01])"
      ]
     },
     "execution_count": 47,
     "metadata": {},
     "output_type": "execute_result"
    }
   ],
   "source": [
    "EMBEDDED_full_system_scf.mo_energy"
   ]
  },
  {
   "cell_type": "code",
   "execution_count": 48,
   "metadata": {},
   "outputs": [
    {
     "name": "stdout",
     "output_type": "stream",
     "text": [
      "number of electrons is correct: True\n"
     ]
    }
   ],
   "source": [
    "print(f'''number of electrons is correct: {\n",
    "                                            np.isclose(sum(EMBEDDED_full_system_scf.mo_occ),\n",
    "                                            2*len(active_MO_inds))\n",
    "                                          }''')"
   ]
  },
  {
   "cell_type": "code",
   "execution_count": 49,
   "metadata": {},
   "outputs": [
    {
     "name": "stdout",
     "output_type": "stream",
     "text": [
      "-43.36003075194602\n"
     ]
    }
   ],
   "source": [
    "C_active_EMBEDDED = EMBEDDED_full_system_scf.mo_coeff[:, EMBEDDED_full_system_scf.mo_occ>0]\n",
    "dm_active_EMBEDDED = 2* C_active_EMBEDDED @ C_active_EMBEDDED.conj().T\n",
    "\n",
    "# energy with STANDARD rks object!\n",
    "print(test_full_system_scf.energy_elec(dm=dm_active_EMBEDDED)[0])"
   ]
  },
  {
   "cell_type": "code",
   "execution_count": null,
   "metadata": {},
   "outputs": [],
   "source": []
  },
  {
   "cell_type": "code",
   "execution_count": 50,
   "metadata": {},
   "outputs": [
    {
     "data": {
      "text/plain": [
       "-39.61684269638479"
      ]
     },
     "execution_count": 50,
     "metadata": {},
     "output_type": "execute_result"
    }
   ],
   "source": [
    "# calculate embedding correction term\n",
    "\n",
    "dm_correction = np.einsum('ij, ij', v_emb, dm_active_EMBEDDED-dm_active)\n",
    "\n",
    "e_act_emb = test_full_system_scf.energy_elec(dm=dm_active_EMBEDDED,\n",
    "                                        vhf= test_full_system_scf.get_veff(dm=dm_active_EMBEDDED),\n",
    "                                       h1e = test_full_system_scf.get_hcore())[0]\n",
    "\n",
    "# e_act_emb = full_system_scf.energy_elec(dm=dm_active_EMBEDDED,\n",
    "#                                         vhf= full_system_scf.get_veff(dm=dm_active_EMBEDDED),\n",
    "#                                        h1e = full_system_scf.get_hcore())[0]\n",
    "\n",
    "e_mf_emb = e_act_emb + E_env + two_e_cross + test_full_system_scf.energy_nuc() + dm_correction\n",
    "e_mf_emb # <-- energy from embedded DFT calc"
   ]
  },
  {
   "cell_type": "code",
   "execution_count": 51,
   "metadata": {},
   "outputs": [
    {
     "data": {
      "text/plain": [
       "-39.61684241519855"
      ]
     },
     "execution_count": 51,
     "metadata": {},
     "output_type": "execute_result"
    }
   ],
   "source": [
    "full_system_scf.e_tot"
   ]
  },
  {
   "cell_type": "code",
   "execution_count": 52,
   "metadata": {},
   "outputs": [
    {
     "name": "stdout",
     "output_type": "stream",
     "text": [
      "global DFT calculation == seperated calculation: True\n"
     ]
    }
   ],
   "source": [
    "print(f'''global DFT calculation == seperated calculation: {\n",
    "                                                            np.isclose(e_mf_emb,\n",
    "                                                                        full_system_scf.e_tot)\n",
    "                                                        }''')\n",
    "# expected as same functional used!"
   ]
  },
  {
   "cell_type": "code",
   "execution_count": 53,
   "metadata": {},
   "outputs": [
    {
     "ename": "NameError",
     "evalue": "name 'jkl' is not defined",
     "output_type": "error",
     "traceback": [
      "\u001b[0;31m---------------------------------------------------------------------------\u001b[0m",
      "\u001b[0;31mNameError\u001b[0m                                 Traceback (most recent call last)",
      "\u001b[0;32m<ipython-input-53-1b3ff612e563>\u001b[0m in \u001b[0;36m<module>\u001b[0;34m\u001b[0m\n\u001b[0;32m----> 1\u001b[0;31m \u001b[0mjkl\u001b[0m\u001b[0;34m\u001b[0m\u001b[0;34m\u001b[0m\u001b[0m\n\u001b[0m",
      "\u001b[0;31mNameError\u001b[0m: name 'jkl' is not defined"
     ]
    }
   ],
   "source": [
    "jkl"
   ]
  },
  {
   "cell_type": "markdown",
   "metadata": {},
   "source": [
    "# Run more expensive DFT calculation!"
   ]
  },
  {
   "cell_type": "code",
   "execution_count": null,
   "metadata": {},
   "outputs": [],
   "source": [
    "# projector_method ='huzinaga'"
   ]
  },
  {
   "cell_type": "code",
   "execution_count": null,
   "metadata": {},
   "outputs": [],
   "source": []
  },
  {
   "cell_type": "code",
   "execution_count": 84,
   "metadata": {},
   "outputs": [
    {
     "data": {
      "text/plain": [
       "-16.14937086988259"
      ]
     },
     "execution_count": 84,
     "metadata": {},
     "output_type": "execute_result"
    }
   ],
   "source": [
    "full_system_mol_HIGH_LEVEL_DFT = gto.Mole(atom= geometry,\n",
    "                      basis=basis,\n",
    "                       charge=charge,\n",
    "                       spin=spin,\n",
    "                      )\n",
    "\n",
    "full_system_mol_HIGH_LEVEL_DFT.nelectron = 2*len(active_MO_inds) # <------ IMPORTANT!\n",
    "full_system_mol_HIGH_LEVEL_DFT.build()\n",
    "\n",
    "full_system_scf_HIGH_LEVEL = scf.RKS(full_system_mol_HIGH_LEVEL_DFT)\n",
    "full_system_scf_HIGH_LEVEL.verbose=1\n",
    "full_system_scf_HIGH_LEVEL.max_memory= memory\n",
    "full_system_scf_HIGH_LEVEL.conv_tol = 1e-6\n",
    "full_system_scf_HIGH_LEVEL.xc = high_level_xc_functional # <-- BETTER functional!\n",
    "\n",
    "\n",
    "# full_system_scf_HIGH_LEVEL.kernel() < --- do NOT RUN THIS\n",
    "\n",
    "\n",
    "## include change of basis!\n",
    "Hcore_std = full_system_scf_HIGH_LEVEL.get_hcore()\n",
    "full_system_scf_HIGH_LEVEL.get_hcore = lambda *args: Get_new_Hcore(Hcore_std, \n",
    "                                                             Unitary_rot=V)\n",
    "\n",
    "\n",
    "full_system_scf_HIGH_LEVEL.get_veff = lambda mol=None, dm=None, dm_last=0, vhf_last=0, hermi=1: Get_new_Veff(\n",
    "                                                                                    full_system_scf_HIGH_LEVEL, #<-need this here for more expensive xc fucnctional@\n",
    "                                                                                       V,\n",
    "                                                                                        dm=dm)\n",
    "\n",
    "Hcore_rotated = full_system_scf_HIGH_LEVEL.get_hcore()\n",
    "\n",
    "\n",
    "\n",
    "if projector_method == 'huzinaga':\n",
    "#     Fock = (full_system_scf_HIGH_LEVEL.get_hcore() \n",
    "#             + full_system_scf_HIGH_LEVEL.get_veff(dm=dm_active + dm_enviro))\n",
    "    \n",
    "    Fock = (test_full_system_scf.get_hcore() \n",
    "            + test_full_system_scf.get_veff(dm=dm_active + dm_enviro))\n",
    "    \n",
    "    Fock_ortho = S_neg_half@Fock @ S_neg_half\n",
    "    \n",
    "    # Huzinaga\n",
    "    projector_ortho =  -0.5*(Fock_ortho@PROJ_ortho + PROJ_ortho@Fock_ortho) # 0.5 for restricted calc!\n",
    "    \n",
    "    projector = S_half @ projector_ortho  @ S_half\n",
    "    # g_A_and_B = full_system_scf_HIGH_LEVEL.get_veff(dm=dm_active+dm_enviro)\n",
    "    # g_A = full_system_scf_HIGH_LEVEL.get_veff(dm=dm_active)\n",
    "\n",
    "    g_A_and_B = test_full_system_scf.get_veff(dm=dm_active+dm_enviro)\n",
    "    g_A = full_system_scf_HIGH_LEVEL.get_veff(dm=dm_active)\n",
    "    \n",
    "#     g_A_and_B = test_full_system_scf.get_veff(dm=dm_active+dm_enviro)\n",
    "#     g_A = full_system_scf_HIGH_LEVEL.get_veff(dm=dm_active)\n",
    "\n",
    "    v_emb = g_A_and_B - g_A + projector\n",
    "\n",
    "\n",
    "\n",
    "\n",
    "# overwrite h_core to include embedding term!!!!\n",
    "full_system_scf_HIGH_LEVEL.get_hcore = lambda *args: v_emb + Hcore_rotated\n",
    "\n",
    "e_act_emb_HIGH_LVL = full_system_scf_HIGH_LEVEL.kernel()\n",
    "e_act_emb_HIGH_LVL"
   ]
  },
  {
   "cell_type": "code",
   "execution_count": 85,
   "metadata": {},
   "outputs": [
    {
     "data": {
      "text/plain": [
       "array([-9.56762960e+00, -5.81486961e-01,  1.87056549e-08,  3.31883481e-08,\n",
       "        5.27501804e-08,  4.25379740e-01,  4.25399141e-01,  4.25443957e-01,\n",
       "        4.71259365e-01])"
      ]
     },
     "execution_count": 85,
     "metadata": {},
     "output_type": "execute_result"
    }
   ],
   "source": [
    "full_system_scf_HIGH_LEVEL.mo_energy"
   ]
  },
  {
   "cell_type": "code",
   "execution_count": 77,
   "metadata": {},
   "outputs": [],
   "source": [
    "# TODO:\n",
    "# this code defines the Huzinaga operator using HIGH_level DFT functional (rather than cheap \n",
    "# global one as done above)... This may be important for keeping the subsystems localized!\n",
    "\n",
    "\n",
    "\n",
    "# full_system_mol_HIGH_LEVEL_DFT = gto.Mole(atom= geometry,\n",
    "#                       basis=basis,\n",
    "#                        charge=charge,\n",
    "#                        spin=spin,\n",
    "#                       )\n",
    "\n",
    "# full_system_mol_HIGH_LEVEL_DFT.nelectron = 2*len(active_MO_inds) # <------ IMPORTANT!\n",
    "# full_system_mol_HIGH_LEVEL_DFT.build()\n",
    "\n",
    "# full_system_scf_HIGH_LEVEL = scf.RKS(full_system_mol_HIGH_LEVEL_DFT)\n",
    "# full_system_scf_HIGH_LEVEL.verbose=1\n",
    "# full_system_scf_HIGH_LEVEL.max_memory= memory\n",
    "# full_system_scf_HIGH_LEVEL.conv_tol = 1e-6\n",
    "# full_system_scf_HIGH_LEVEL.xc = high_level_xc_functional # <-- BETTER functional!\n",
    "\n",
    "\n",
    "\n",
    "\n",
    "\n",
    "# ## include change of basis!\n",
    "# Hcore_std = full_system_scf_HIGH_LEVEL.get_hcore()\n",
    "# full_system_scf_HIGH_LEVEL.get_hcore = lambda *args: Get_new_Hcore(Hcore_std, \n",
    "#                                                              Unitary_rot=V)\n",
    "\n",
    "\n",
    "# full_system_scf_HIGH_LEVEL.get_veff = lambda mol=None, dm=None, dm_last=0, vhf_last=0, hermi=1: Get_new_Veff(\n",
    "#                                                                                     full_system_scf_HIGH_LEVEL, #<-need this here for more expensive xc fucnctional@\n",
    "#                                                                                        V,\n",
    "#                                                                                         dm=dm)\n",
    "\n",
    "# Hcore_rotated = full_system_scf_HIGH_LEVEL.get_hcore()\n",
    "\n",
    "# # overwrite h_core to include embedding term!!!!\n",
    "# #### Get projector using HIGH LEVEL FOCK MATRIX\n",
    "# Fock = full_system_scf_HIGH_LEVEL.get_hcore() + full_system_scf_HIGH_LEVEL.get_veff(dm=dm_active + dm_enviro)\n",
    "# Fock_ortho = S_neg_half@Fock @ S_neg_half\n",
    "# # Huzinaga\n",
    "# projector_ortho =  -0.5*(Fock_ortho@PROJ_ortho + PROJ_ortho@Fock_ortho) # 0.5 for restricted calc!\n",
    "# projector = S_half @ projector_ortho  @ S_half\n",
    "\n",
    "# v_emb_HIGH_LEVEL = g_A_and_B - g_A + projector\n",
    "\n",
    "# full_system_scf_HIGH_LEVEL.get_hcore = lambda *args: v_emb_HIGH_LEVEL + Hcore_rotated\n",
    "\n",
    "# e_act_emb_HIGH_LVL = full_system_scf_HIGH_LEVEL.kernel()\n",
    "# e_act_emb_HIGH_LVL"
   ]
  },
  {
   "cell_type": "code",
   "execution_count": 78,
   "metadata": {},
   "outputs": [
    {
     "data": {
      "text/plain": [
       "array([-9.56762960e+00, -5.81486961e-01,  1.87056549e-08,  3.31883481e-08,\n",
       "        5.27501804e-08,  4.25379740e-01,  4.25399141e-01,  4.25443957e-01,\n",
       "        4.71259365e-01])"
      ]
     },
     "execution_count": 78,
     "metadata": {},
     "output_type": "execute_result"
    }
   ],
   "source": [
    "full_system_scf_HIGH_LEVEL.mo_energy"
   ]
  },
  {
   "cell_type": "code",
   "execution_count": 79,
   "metadata": {},
   "outputs": [],
   "source": [
    "C_active_EMBEDDED_high_lvl = full_system_scf_HIGH_LEVEL.mo_coeff[:, full_system_scf_HIGH_LEVEL.mo_occ>0]\n",
    "dm_active_EMBEDDED_high_lvl = 2 * C_active_EMBEDDED_high_lvl @ C_active_EMBEDDED_high_lvl.conj().T"
   ]
  },
  {
   "cell_type": "code",
   "execution_count": 80,
   "metadata": {},
   "outputs": [
    {
     "data": {
      "text/plain": [
       "-39.616842701609194"
      ]
     },
     "execution_count": 80,
     "metadata": {},
     "output_type": "execute_result"
    }
   ],
   "source": [
    "# calculate embedding correction term\n",
    "\n",
    "dm_correction_high_lvl = np.einsum('ij, ij', v_emb, dm_active_EMBEDDED_high_lvl-dm_active)\n",
    "\n",
    "e_act_emb_high_lvl = test_full_system_scf.energy_elec(dm=dm_active_EMBEDDED_high_lvl,\n",
    "                                        vhf= test_full_system_scf.get_veff(dm=dm_active_EMBEDDED_high_lvl),\n",
    "                                       h1e = test_full_system_scf.get_hcore())[0]\n",
    "\n",
    "E_high_lvl_DFT = e_act_emb_high_lvl + E_env + two_e_cross + test_full_system_scf.energy_nuc() + dm_correction_high_lvl\n",
    "E_high_lvl_DFT # <-- energy from embedded DFT calc"
   ]
  },
  {
   "cell_type": "code",
   "execution_count": 81,
   "metadata": {},
   "outputs": [
    {
     "name": "stdout",
     "output_type": "stream",
     "text": [
      "High level DFT in DFT error: 0.18619343542665945\n",
      "LOW level DFT in DFT error: 0.18619344065105992\n"
     ]
    }
   ],
   "source": [
    "print('High level DFT in DFT error:', np.abs(E_high_lvl_DFT-my_fci.e_tot))\n",
    "print('LOW level DFT in DFT error:', np.abs(e_mf_emb-my_fci.e_tot))"
   ]
  },
  {
   "cell_type": "code",
   "execution_count": 72,
   "metadata": {},
   "outputs": [
    {
     "data": {
      "text/plain": [
       "array([-9.56762960e+00, -5.81486961e-01,  1.87056549e-08,  3.31883481e-08,\n",
       "        5.27501804e-08,  4.25379740e-01,  4.25399141e-01,  4.25443957e-01,\n",
       "        4.71259365e-01])"
      ]
     },
     "execution_count": 72,
     "metadata": {},
     "output_type": "execute_result"
    }
   ],
   "source": [
    "full_system_scf_HIGH_LEVEL.mo_energy"
   ]
  },
  {
   "cell_type": "code",
   "execution_count": 121,
   "metadata": {},
   "outputs": [],
   "source": [
    "Fock = (test_full_system_scf.get_hcore() \n",
    "        + test_full_system_scf.get_veff(dm=dm_active + dm_enviro))\n",
    "\n",
    "Fock_ortho = S_neg_half@Fock @ S_neg_half\n",
    "\n",
    "# Huzinaga\n",
    "projector_ortho =  -0.5*(Fock_ortho@PROJ_ortho + PROJ_ortho@Fock_ortho) # 0.5 for restricted calc!"
   ]
  },
  {
   "cell_type": "code",
   "execution_count": null,
   "metadata": {},
   "outputs": [],
   "source": []
  },
  {
   "cell_type": "code",
   "execution_count": 127,
   "metadata": {},
   "outputs": [
    {
     "data": {
      "text/plain": [
       "array([[ 0., -0.,  0.,  0., -0., -0.,  0.,  0., -0.],\n",
       "       [ 0.,  0.,  0., -0.,  0.,  0.,  0., -0., -0.],\n",
       "       [-0., -0., -0.,  0.,  0., -0.,  0., -0.,  0.],\n",
       "       [-0.,  0., -0.,  0.,  0., -0.,  0.,  0., -0.],\n",
       "       [ 0., -0., -0., -0., -0.,  0., -0.,  0.,  0.],\n",
       "       [ 0., -0.,  0.,  0., -0.,  0.,  0.,  0., -0.],\n",
       "       [-0., -0., -0., -0.,  0., -0., -0., -0., -0.],\n",
       "       [-0.,  0.,  0., -0., -0., -0.,  0., -0.,  0.],\n",
       "       [ 0.,  0., -0.,  0., -0.,  0.,  0., -0.,  0.]])"
      ]
     },
     "execution_count": 127,
     "metadata": {},
     "output_type": "execute_result"
    }
   ],
   "source": [
    "PF = projector_ortho @ Fock_ortho\n",
    "FP = Fock_ortho @ projector_ortho\n",
    "\n",
    "HUZ = Fock_ortho - PF-FP\n",
    "# np.allclose(HUZ@projector_ortho, projector_ortho@HUZ)\n",
    "np.around(HUZ@projector_ortho - projector_ortho@HUZ,7)"
   ]
  },
  {
   "cell_type": "code",
   "execution_count": 128,
   "metadata": {},
   "outputs": [
    {
     "data": {
      "text/plain": [
       "array([[-0.000000e+00, -2.896840e-02,  1.448140e-02,  4.409600e-03,\n",
       "         2.562870e-02,  4.971300e-03, -2.545290e-02, -2.545170e-02,\n",
       "        -2.545280e-02],\n",
       "       [ 2.896840e-02,  0.000000e+00,  3.636285e-01,  1.107644e-01,\n",
       "         6.435292e-01,  5.585138e-01, -2.044637e-01, -2.044885e-01,\n",
       "        -2.044879e-01],\n",
       "       [-1.448140e-02, -3.636285e-01, -0.000000e+00,  2.300000e-05,\n",
       "        -1.770000e-05, -2.168092e-01, -2.161268e-01, -2.157748e-01,\n",
       "        -2.199111e-01],\n",
       "       [-4.409600e-03, -1.107644e-01, -2.300000e-05,  0.000000e+00,\n",
       "        -4.610000e-05, -6.607830e-02, -6.357650e-02, -6.876250e-02,\n",
       "        -6.617340e-02],\n",
       "       [-2.562870e-02, -6.435292e-01,  1.770000e-05,  4.610000e-05,\n",
       "        -0.000000e+00, -3.836688e-01, -3.855703e-01, -3.849473e-01,\n",
       "        -3.830511e-01],\n",
       "       [-4.971300e-03, -5.585138e-01,  2.168092e-01,  6.607830e-02,\n",
       "         3.836688e-01, -0.000000e+00, -4.555950e-01, -4.556564e-01,\n",
       "        -4.556527e-01],\n",
       "       [ 2.545290e-02,  2.044637e-01,  2.161268e-01,  6.357650e-02,\n",
       "         3.855703e-01,  4.555950e-01,  0.000000e+00,  2.000000e-07,\n",
       "        -1.000000e-07],\n",
       "       [ 2.545170e-02,  2.044885e-01,  2.157748e-01,  6.876250e-02,\n",
       "         3.849473e-01,  4.556564e-01, -2.000000e-07,  0.000000e+00,\n",
       "        -3.000000e-07],\n",
       "       [ 2.545280e-02,  2.044879e-01,  2.199111e-01,  6.617340e-02,\n",
       "         3.830511e-01,  4.556527e-01,  1.000000e-07,  3.000000e-07,\n",
       "         0.000000e+00]])"
      ]
     },
     "execution_count": 128,
     "metadata": {},
     "output_type": "execute_result"
    }
   ],
   "source": [
    "HUZ = S_half @ HUZ  @ S_half\n",
    "\n",
    "np.around(HUZ@projector - projector@HUZ,7)"
   ]
  },
  {
   "cell_type": "code",
   "execution_count": 130,
   "metadata": {},
   "outputs": [
    {
     "data": {
      "text/plain": [
       "False"
      ]
     },
     "execution_count": 130,
     "metadata": {},
     "output_type": "execute_result"
    }
   ],
   "source": [
    "S_DB_S = S_mat @ dm_enviro @ S_mat\n",
    "\n",
    "fock = test_full_system_scf.get_fock(dm=(dm_enviro + dm_active))\n",
    "S_DB_F = S_mat @ dm_enviro @ fock\n",
    "F_DB_S = fock @ dm_enviro @ S_mat\n",
    "\n",
    "# fock = test_full_system_scf.get_fock(dm=(dm_active))\n",
    "HUZ = fock - S_DB_F-F_DB_S\n",
    "\n",
    "\n",
    "\n",
    "np.allclose(HUZ@S_DB_S, S_DB_S@HUZ)"
   ]
  },
  {
   "cell_type": "code",
   "execution_count": 106,
   "metadata": {},
   "outputs": [
    {
     "data": {
      "text/plain": [
       "array([[-7.80625564e-18, -1.91380662e-01,  9.56711106e-02,\n",
       "         2.91321564e-02,  1.69316352e-01,  3.28427891e-02,\n",
       "        -1.68155050e-01, -1.68147377e-01, -1.68154391e-01],\n",
       "       [ 1.91380662e-01,  8.32667268e-15,  2.40231993e+00,\n",
       "         7.31767298e-01,  4.25149038e+00,  3.68983441e+00,\n",
       "        -1.35079453e+00, -1.35095805e+00, -1.35095354e+00],\n",
       "       [-9.56711106e-02, -2.40231993e+00,  1.77635684e-15,\n",
       "         1.53053856e-04, -1.16200911e-04, -1.43235563e+00,\n",
       "        -1.42784803e+00, -1.42552138e+00, -1.45284489e+00],\n",
       "       [-2.91321564e-02, -7.31767298e-01, -1.53053856e-04,\n",
       "         1.33226763e-15, -3.05518888e-04, -4.36549057e-01,\n",
       "        -4.20019659e-01, -4.54279719e-01, -4.37176286e-01],\n",
       "       [-1.69316352e-01, -4.25149038e+00,  1.16200911e-04,\n",
       "         3.05518888e-04, -6.66133815e-15, -2.53471700e+00,\n",
       "        -2.54728093e+00, -2.54316149e+00, -2.53063615e+00],\n",
       "       [-3.28427891e-02, -3.68983441e+00,  1.43235563e+00,\n",
       "         4.36549057e-01,  2.53471700e+00,  2.66453526e-15,\n",
       "        -3.00990012e+00, -3.01030316e+00, -3.01028047e+00],\n",
       "       [ 1.68155050e-01,  1.35079453e+00,  1.42784803e+00,\n",
       "         4.20019659e-01,  2.54728093e+00,  3.00990012e+00,\n",
       "        -1.77635684e-15,  9.64847600e-07, -1.00291488e-06],\n",
       "       [ 1.68147377e-01,  1.35095805e+00,  1.42552138e+00,\n",
       "         4.54279719e-01,  2.54316149e+00,  3.01030316e+00,\n",
       "        -9.64847603e-07, -2.66453526e-15, -1.34122289e-06],\n",
       "       [ 1.68154391e-01,  1.35095354e+00,  1.45284489e+00,\n",
       "         4.37176286e-01,  2.53063615e+00,  3.01028047e+00,\n",
       "         1.00291487e-06,  1.34122289e-06, -2.22044605e-15]])"
      ]
     },
     "execution_count": 106,
     "metadata": {},
     "output_type": "execute_result"
    }
   ],
   "source": [
    "HUZ@S_DB_S - S_DB_S@HUZ"
   ]
  },
  {
   "cell_type": "code",
   "execution_count": null,
   "metadata": {},
   "outputs": [],
   "source": [
    "# vzcx"
   ]
  },
  {
   "cell_type": "markdown",
   "metadata": {},
   "source": [
    "# WF hartree-Fock run"
   ]
  },
  {
   "cell_type": "code",
   "execution_count": null,
   "metadata": {},
   "outputs": [],
   "source": [
    "def Get_new_Veff_HFock(pyscf_obj, Unitary, dm=None, check_result=False, hermi=1):\n",
    "    \n",
    "    # note this is NOT the same as RKS defintion!\n",
    "    \n",
    "    if dm is None:\n",
    "        if pyscf_obj.mo_coeff is not None:\n",
    "            density_mat = pyscf_obj.make_rdm1(pyscf_obj.mo_coeff, pyscf_obj.mo_occ)\n",
    "        else:\n",
    "            density_mat = pyscf_obj.init_guess_by_1e()\n",
    "    else:\n",
    "        density_mat = dm\n",
    "    \n",
    "    vj, vk = pyscf_obj.get_jk(dm=density_mat, hermi=hermi)\n",
    "    Veff = vj - vk * .5\n",
    "    \n",
    "#     Veff = pyscf_obj.get_veff(dm=density_mat)\n",
    "    Veff_new = Unitary.conj().T @ Veff @ Unitary\n",
    "\n",
    "    return Veff_new"
   ]
  },
  {
   "cell_type": "code",
   "execution_count": null,
   "metadata": {},
   "outputs": [],
   "source": [
    "# define HFock obj (with embedded no. of e-)\n",
    "\n",
    "full_system_mol_EMBEDDED_HF = gto.Mole(atom= geometry,\n",
    "                      basis=basis,\n",
    "                       charge=charge,\n",
    "                       spin=spin,\n",
    "                      )\n",
    "full_system_mol_EMBEDDED_HF.build()\n",
    "\n",
    "# RE-DEFINE number of electrons in system\n",
    "full_system_mol_EMBEDDED_HF.nelectron = 2*len(active_MO_inds) # <------ IMPORTANT!\n",
    "\n",
    "EMBEDDED_full_system_scf_HF = scf.RHF(full_system_mol_EMBEDDED_HF) # <---- Hartree Fock Calc!\n",
    "EMBEDDED_full_system_scf_HF.verbose=1\n",
    "EMBEDDED_full_system_scf_HF.max_memory= memory\n",
    "EMBEDDED_full_system_scf_HF.conv_tol = 1e-6"
   ]
  },
  {
   "cell_type": "code",
   "execution_count": null,
   "metadata": {},
   "outputs": [],
   "source": [
    "# Find change of basis for localized orbs\n",
    "# (NOTE Fock matrix is different with HFock compared to DFT ...\n",
    "# hence why we recalc it)\n",
    "\n",
    "S_mat = full_system_scf.get_ovlp()\n",
    "S_half = sp.linalg.fractional_matrix_power(full_system_mol_EMBEDDED_HF.get_ovlp() , 0.5)\n",
    "\n",
    "ortho_std = S_half@ full_system_scf.mo_coeff\n",
    "ortho_loc = S_half@ C_all_localized_and_virt\n",
    "\n",
    "# ortho_loc[:,0].dot(ortho_loc[:,2])\n",
    "\n",
    "U = np.zeros((ortho_std.shape[0], ortho_std.shape[0]))\n",
    "for MO_ind in range(ortho_std.shape[1]):\n",
    "    outer = np.outer(ortho_std[:, MO_ind], ortho_loc[:, MO_ind])\n",
    "    U+=outer\n",
    "\n",
    "print(f'is U*C_ortho_loc =  C_ortho_STD: {(np.allclose(U @ ortho_loc, ortho_std))}')\n",
    "print(f'is U Udag = Identity: {np.allclose(U.conj().T@U, np.eye(U.shape[0]))}')\n",
    "                                          \n",
    "S_neg_half = sp.linalg.fractional_matrix_power(full_system_scf.get_ovlp() , -0.5)\n",
    "\n",
    "V_chg_B_HFock = S_neg_half @ U @ S_half\n",
    "\n",
    "\n",
    "print('V @ C_loc = C_std:', np.allclose(V_chg_B_HFock@C_all_localized_and_virt,\n",
    "                                            full_system_scf.mo_coeff))"
   ]
  },
  {
   "cell_type": "code",
   "execution_count": null,
   "metadata": {},
   "outputs": [],
   "source": [
    "# ############## include change of basis!\n",
    "Hcore_std = EMBEDDED_full_system_scf_HF.get_hcore()\n",
    "EMBEDDED_full_system_scf_HF.get_hcore = lambda *args: Get_new_Hcore(Hcore_std, \n",
    "                                                             Unitary_rot=V_chg_B_HFock)\n",
    "\n",
    "\n",
    "EMBEDDED_full_system_scf_HF.get_veff = lambda mol=None, dm=None, dm_last=0, vhf_last=0, hermi=1: Get_new_Veff_HFock(\n",
    "                                                                                    EMBEDDED_full_system_scf_HF, #<-need this here for more expensive xc fucnctional@\n",
    "                                                                                       V_chg_B_HFock,\n",
    "                                                                                        dm=dm)"
   ]
  },
  {
   "cell_type": "code",
   "execution_count": null,
   "metadata": {},
   "outputs": [],
   "source": []
  },
  {
   "cell_type": "code",
   "execution_count": null,
   "metadata": {},
   "outputs": [],
   "source": []
  },
  {
   "cell_type": "code",
   "execution_count": null,
   "metadata": {},
   "outputs": [],
   "source": [
    "## manual projector (in HFock method - different to DFT definition!)\n",
    "\n",
    "## 1. convert to orthogonal C_matrix\n",
    "S_mat = EMBEDDED_full_system_scf_HF.get_ovlp()\n",
    "S_half = sp.linalg.fractional_matrix_power(S_mat , 0.5)\n",
    "S_neg_half = sp.linalg.fractional_matrix_power(S_mat , -0.5)\n",
    "\n",
    "Loc_Ortho = S_half@ C_all_localized_and_virt # orthogonal C matrix (localized)\n",
    "\n",
    "## 2. Define projector that projects MO orbs of subsystem B onto themselves and system A onto zero state!\n",
    "##### (do this in orthongoal C_matrix!)\n",
    "### not we only take MO environment indices!\n",
    "PROJ_ortho = np.zeros_like(S_mat)\n",
    "for MO_ind in range(C_all_localized_and_virt.shape[1]):\n",
    "    if MO_ind in enviro_MO_inds:\n",
    "        outer = np.outer(Loc_Ortho[:, MO_ind], Loc_Ortho[:, MO_ind])\n",
    "        PROJ_ortho+=outer\n",
    "    else:\n",
    "        continue\n",
    "\n",
    "print(f'''Are subsystem B (env) projected onto themselves: {\n",
    "        np.allclose(PROJ_ortho@Loc_Ortho[:, enviro_MO_inds], \n",
    "        Loc_Ortho[:, enviro_MO_inds])}''') # projected onto itself\n",
    "\n",
    "print(f'''Is subsystem A traced out?: {\n",
    "        np.allclose(PROJ_ortho@Loc_Ortho[:, active_MO_inds], \n",
    "        np.zeros_like(Loc_Ortho[:, active_MO_inds]))}''') # # projected onto zeros!\n",
    "        \n",
    "        \n",
    "#### 3. NEXT USING PROJECTOR in ortho basis define projector via different methods\n",
    "        \n",
    "        \n",
    "# projector_method = 'huzinaga'\n",
    "projector_method = 'mu_shfit'\n",
    "\n",
    "if projector_method == 'huzinaga':\n",
    "#     # HF fock matrix\n",
    "    Fock = EMBEDDED_full_system_scf_HF.get_hcore() + EMBEDDED_full_system_scf_HF.get_veff(dm=dm_active + dm_enviro)\n",
    "    \n",
    "    # DFT fock mat\n",
    "#     Fock = test_full_system_scf.get_hcore() + test_full_system_scf.get_veff(dm=dm_active + dm_enviro)\n",
    "    \n",
    "    Fock_ortho = S_neg_half@Fock @ S_neg_half\n",
    "    \n",
    "    # Huzinaga\n",
    "    projector_ortho =  -0.5*(Fock_ortho@PROJ_ortho + PROJ_ortho@Fock_ortho) # 0.5 for restricted calc!\n",
    "    \n",
    "    projector = S_half @ projector_ortho  @ S_half\n",
    "    \n",
    "elif projector_method == 'mu_shfit':\n",
    "    mu = 1e6\n",
    "    projector_ortho = mu * PROJ_ortho\n",
    "    \n",
    "#     projector = S_neg_half @ projector_ortho  @ S_half\n",
    "\n",
    "    # mu shift\n",
    "    projector = S_half @ projector_ortho  @ S_half\n",
    "else:\n",
    "    raise ValueError(f'Unknown projection method {projector_method}')\n",
    "\n",
    "\n",
    "##################### TODO (start)\n",
    "# I look at equation 3 of Goodpaster paper\n",
    "# think we should use DFT potentials (commented out below is Hfock potentials that could be used)\n",
    "# but projector defined by HFock\n",
    "\n",
    "# # DFT potentials!\n",
    "# g_A_and_B = test_full_system_scf.get_veff(dm=dm_active+dm_enviro)\n",
    "# g_A = test_full_system_scf.get_veff(dm=dm_active)\n",
    "\n",
    "# # # HFOck potentials!\n",
    "g_A_and_B = EMBEDDED_full_system_scf_HF.get_veff(dm=dm_active+dm_enviro)\n",
    "g_A = EMBEDDED_full_system_scf_HF.get_veff(dm=dm_active)\n",
    "\n",
    "v_emb_HFOCK = g_A_and_B - g_A + projector\n",
    "##################### TODO (end)\n",
    "\n",
    "##########\n",
    "# Fock_loc_basis = EMBEDDED_full_system_scf_HF.get_fock(dm=dm_active+dm_enviro)\n",
    "Fock_loc_basis = EMBEDDED_full_system_scf_HF.get_hcore() + EMBEDDED_full_system_scf_HF.get_veff(dm=dm_active+dm_enviro)\n",
    "\n",
    "if projector_method == 'mu_shfit':\n",
    "    new_orbital_energies = np.diag(C_all_localized_and_virt.conj().T @ (Fock_loc_basis+projector) @ C_all_localized_and_virt)\n",
    "\n",
    "    ## expect subsystem A orbital energies to remain the SAME\n",
    "    print('\\n')\n",
    "    print(f'''active subsystem orbital energies the same: {np.allclose(new_orbital_energies[active_MO_inds],\n",
    "                                                        full_system_scf.mo_energy[active_MO_inds])} ''')\n",
    "    \n",
    "    print('actually NOW that we are using HF Fock matix this should NO LONGER MATCH DFT orb energies!!! \\n')\n",
    "    \n",
    "    # expect subsystem B orbital energies to be pushed up to high energy\n",
    "    print(f'original MO energies env: {full_system_scf.mo_energy[enviro_MO_inds]}')\n",
    "    print(f'new MO energies env: {new_orbital_energies[enviro_MO_inds]}')\n",
    "    # print(f'''enviro subsystem orbital energies energy increased by mu: \n",
    "    #                                                     {np.allclose(new_orbital_energies[enviro_MO_inds],\n",
    "    #                                                     mu*full_system_scf.mo_energy[enviro_MO_inds])}''')\n",
    "    \n",
    "    \n",
    "elif projector_method == 'huzinaga':\n",
    "    ## projector should give opposite sign val of subsytem B orbitals vs standard Fock eval\n",
    "    proj_orb_energy = C_all_localized_and_virt[:, enviro_MO_inds].conj().T @projector@C_all_localized_and_virt[:, enviro_MO_inds]\n",
    "    fock_orb_energy = C_all_localized_and_virt[:, enviro_MO_inds].conj().T @Fock_loc_basis@C_all_localized_and_virt[:, enviro_MO_inds]\n",
    "    \n",
    "    print(f''' <env| P |env> = - <env| F |env> : {np.allclose(-1*proj_orb_energy,\n",
    "                                                              fock_orb_energy)} \\n''')\n",
    "    \n",
    "    new_orbital_energies = np.diag(C_all_localized_and_virt.conj().T @ (Fock_loc_basis+projector) @ C_all_localized_and_virt)\n",
    "    \n",
    "    ## expect subsystem A orbital energies to remain the SAME\n",
    "    print('\\n')\n",
    "    print(f'''active subsystem orbital energies the same: {np.allclose(new_orbital_energies[active_MO_inds],\n",
    "                                                        full_system_scf.mo_energy[active_MO_inds])} ''')\n",
    "    \n",
    "    print('actually NOW that we are using HF Fock matix this should NO LONGER MATCH DFT orb energies!!! \\n')\n",
    "    \n",
    "    print(f'''enviro subsystem orbital energies should be ZERO (traced out):{ \n",
    "                                   np.allclose(new_orbital_energies[enviro_MO_inds],\n",
    "                                                np.zeros_like(new_orbital_energies[enviro_MO_inds]))} \\n''')\n",
    "    \n",
    "else:\n",
    "    raise ValueError(f'Unknown projection method {projector_method}')\n",
    "\n",
    "\n",
    "print('\\nbasically want active MOs first... then enviroment')\n",
    "print(f'active MO indices: {active_MO_inds} \\n')\n",
    "print('should appear first when orbital inds listed by energy:')\n",
    "sorted([(i, new_orbital_energies[i])for i in range(new_orbital_energies.shape[0])], key=lambda x:x[1])\n",
    "\n",
    "##########\n",
    "\n"
   ]
  },
  {
   "cell_type": "code",
   "execution_count": null,
   "metadata": {},
   "outputs": [],
   "source": []
  },
  {
   "cell_type": "code",
   "execution_count": null,
   "metadata": {},
   "outputs": [],
   "source": [
    "Hcore_rotated = EMBEDDED_full_system_scf_HF.get_hcore()\n",
    "## overwrite h_core to include embedding term!!!!\n",
    "EMBEDDED_full_system_scf_HF.get_hcore = lambda *args: v_emb_HFOCK + Hcore_rotated\n",
    "\n",
    "##############\n",
    "EMBEDDED_full_system_scf_HF.kernel() \n",
    "\n"
   ]
  },
  {
   "cell_type": "code",
   "execution_count": null,
   "metadata": {},
   "outputs": [],
   "source": []
  },
  {
   "cell_type": "code",
   "execution_count": null,
   "metadata": {},
   "outputs": [],
   "source": [
    "print(EMBEDDED_full_system_scf_HF.mo_energy)\n",
    "print()\n",
    "print(EMBEDDED_full_system_scf_HF.mo_occ)\n",
    "\n",
    "C_active_embedd_opt = EMBEDDED_full_system_scf_HF.mo_coeff[:,EMBEDDED_full_system_scf_HF.mo_occ>0]\n",
    "HF_dm_mat = 2* C_active_embedd_opt @ C_active_embedd_opt.conj().T"
   ]
  },
  {
   "cell_type": "code",
   "execution_count": null,
   "metadata": {},
   "outputs": [],
   "source": []
  },
  {
   "cell_type": "code",
   "execution_count": null,
   "metadata": {},
   "outputs": [],
   "source": [
    "# emb_orbs = vqe_in_dft.Draw_cube_orbital(full_system_scf,\n",
    "#                              xyz_string,\n",
    "#                              EMBEDDED_full_system_scf_HF.mo_coeff, \n",
    "#                              list(range(EMBEDDED_full_system_scf_HF.mo_coeff.shape[1])),\n",
    "#                              width=400, \n",
    "#                              height=400, \n",
    "#                              jupyter_notebook=True)"
   ]
  },
  {
   "cell_type": "code",
   "execution_count": null,
   "metadata": {},
   "outputs": [],
   "source": [
    "## CCSD calculation\n",
    "\n",
    "embedded_cc_obj = cc.CCSD(EMBEDDED_full_system_scf_HF)\n",
    "\n",
    "if projector_method == 'mu_shfit':\n",
    "    embedded_cc_obj.frozen = [i for i in range(EMBEDDED_full_system_scf_HF.mol.nao - len(enviro_MO_inds),\n",
    "                                           EMBEDDED_full_system_scf_HF.mol.nao)\n",
    "                         ]\n",
    "elif projector_method == 'huzinaga':\n",
    "#     embedded_cc_obj.frozen  = enviro_MO_inds.tolist()\n",
    "    embedded_cc_obj.frozen  = list(range(len(active_MO_inds), len(active_MO_inds)+len(enviro_MO_inds)))\n",
    "else:\n",
    "    raise ValueError(f'unknown projector method {projector_method}')\n",
    "\n",
    "\n",
    "# embedded_cc_obj.frozen = None\n",
    "e_cc, t1, t2 = embedded_cc_obj.kernel()\n",
    "\n",
    "CC_flag_check = np.isclose(EMBEDDED_full_system_scf_HF.energy_tot(dm=HF_dm_mat),\n",
    "                          embedded_cc_obj.e_hf)\n",
    "\n",
    "\n",
    "print(f'E_corr: {e_cc}')\n",
    "print(f'\\nCC hartree fock energy matches HF embedded calc: {CC_flag_check}!')\n",
    "embedded_cc_obj.e_hf\n"
   ]
  },
  {
   "cell_type": "code",
   "execution_count": null,
   "metadata": {},
   "outputs": [],
   "source": [
    "embedded_cc_obj.frozen"
   ]
  },
  {
   "cell_type": "code",
   "execution_count": null,
   "metadata": {},
   "outputs": [],
   "source": []
  },
  {
   "cell_type": "code",
   "execution_count": null,
   "metadata": {},
   "outputs": [],
   "source": [
    "WF_correction = np.einsum('ij, ij', v_emb, dm_active)\n",
    "\n",
    "E_WF = embedded_cc_obj.e_hf +e_cc  + E_env + two_e_cross - WF_correction\n",
    "E_WF \n"
   ]
  },
  {
   "cell_type": "code",
   "execution_count": null,
   "metadata": {},
   "outputs": [],
   "source": [
    "print('High level DFT in DFT error:', np.abs(E_high_lvl_DFT-my_fci.e_tot))\n",
    "print('LOW level DFT in DFT error:', np.abs(e_mf_emb-my_fci.e_tot))\n",
    "\n",
    "print('WF in DFT error:', np.abs(E_WF-my_fci.e_tot))"
   ]
  },
  {
   "cell_type": "code",
   "execution_count": null,
   "metadata": {},
   "outputs": [],
   "source": []
  },
  {
   "cell_type": "code",
   "execution_count": null,
   "metadata": {},
   "outputs": [],
   "source": []
  },
  {
   "cell_type": "code",
   "execution_count": null,
   "metadata": {},
   "outputs": [],
   "source": [
    "Fock_emb = EMBEDDED_full_system_scf_HF.get_hcore() + EMBEDDED_full_system_scf_HF.get_veff(dm=HF_dm_mat)\n",
    "\n",
    "\n",
    "print(EMBEDDED_full_system_scf_HF.mo_energy)\n",
    "print()\n",
    "orbE = C_active_embedd_opt.conj().T @ Fock_emb @ C_active_embedd_opt\n",
    "print(np.around(orbE, 7))\n",
    "\n",
    "np.allclose(EMBEDDED_full_system_scf_HF.mo_energy[:len(active_MO_inds)],\n",
    "           np.diag(orbE))\n"
   ]
  },
  {
   "cell_type": "code",
   "execution_count": null,
   "metadata": {},
   "outputs": [],
   "source": [
    "gsdfgsdf"
   ]
  },
  {
   "cell_type": "code",
   "execution_count": null,
   "metadata": {},
   "outputs": [],
   "source": []
  },
  {
   "cell_type": "code",
   "execution_count": null,
   "metadata": {},
   "outputs": [],
   "source": []
  },
  {
   "cell_type": "code",
   "execution_count": null,
   "metadata": {},
   "outputs": [],
   "source": []
  },
  {
   "cell_type": "code",
   "execution_count": null,
   "metadata": {},
   "outputs": [],
   "source": []
  },
  {
   "cell_type": "code",
   "execution_count": null,
   "metadata": {},
   "outputs": [],
   "source": []
  },
  {
   "cell_type": "code",
   "execution_count": null,
   "metadata": {},
   "outputs": [],
   "source": []
  },
  {
   "cell_type": "code",
   "execution_count": null,
   "metadata": {},
   "outputs": [],
   "source": []
  },
  {
   "cell_type": "code",
   "execution_count": null,
   "metadata": {},
   "outputs": [],
   "source": []
  },
  {
   "cell_type": "code",
   "execution_count": null,
   "metadata": {},
   "outputs": [],
   "source": []
  },
  {
   "cell_type": "markdown",
   "metadata": {},
   "source": [
    "This contains the DFT embedding term (in Veff of Hartree Fock calc)\n",
    "\n",
    "Whereas in above calc Veff contains v_emb_FOCK (defined using HFock theory!)\n",
    "\n",
    "DON'T KNOW WHICH ONE IS CORRECT"
   ]
  },
  {
   "cell_type": "code",
   "execution_count": null,
   "metadata": {},
   "outputs": [],
   "source": [
    "full_system_mol_EMBEDDED_HF = gto.Mole(atom= geometry,\n",
    "                      basis=basis,\n",
    "                       charge=charge,\n",
    "                       spin=spin,\n",
    "                      )\n",
    "full_system_mol_EMBEDDED_HF.build()\n",
    "\n",
    "# RE-DEFINE number of electrons in system\n",
    "full_system_mol_EMBEDDED_HF.nelectron = 2*len(active_MO_inds) # <------ IMPORTANT!\n",
    "\n",
    "EMBEDDED_full_system_scf_HF = scf.RHF(full_system_mol_EMBEDDED) # <---- Hartree Fock Calc!\n",
    "EMBEDDED_full_system_scf_HF.verbose=1\n",
    "EMBEDDED_full_system_scf_HF.max_memory= memory\n",
    "EMBEDDED_full_system_scf_HF.conv_tol = 1e-6\n",
    "\n",
    "\n",
    "############## include change of basis!\n",
    "Hcore_std = EMBEDDED_full_system_scf_HF.get_hcore()\n",
    "EMBEDDED_full_system_scf_HF.get_hcore = lambda *args: Get_new_Hcore(Hcore_std, \n",
    "                                                             Unitary_rot=V)\n",
    "\n",
    "\n",
    "EMBEDDED_full_system_scf_HF.get_veff = lambda mol=None, dm=None, dm_last=0, vhf_last=0, hermi=1: Get_new_Veff_HFock(\n",
    "                                                                                    EMBEDDED_full_system_scf_HF, #<-need this here for more expensive xc fucnctional@\n",
    "                                                                                       V,\n",
    "                                                                                        dm=dm)\n",
    "\n",
    "Hcore_rotated = EMBEDDED_full_system_scf_HF.get_hcore()\n",
    "\n",
    "## overwrite h_core to include embedding term!!!!\n",
    "EMBEDDED_full_system_scf_HF.get_hcore = lambda *args: v_emb + Hcore_rotated\n",
    "\n",
    "##############\n",
    "\n",
    "\n",
    "\n",
    "EMBEDDED_full_system_scf_HF.kernel() \n",
    "\n",
    "\n",
    "# # # overwrite orbs with RKS embedded orbs!\n",
    "# EMBEDDED_full_system_scf_HF.mo_coeff = full_system_scf_HIGH_LEVEL.mo_coeff\n",
    "# EMBEDDED_full_system_scf_HF.mo_occ = full_system_scf_HIGH_LEVEL.mo_occ \n",
    "# EMBEDDED_full_system_scf_HF.mo_energy = full_system_scf_HIGH_LEVEL.mo_energy\n",
    "\n",
    "# print(EMBEDDED_full_system_scf_HF.energy_elec(dm=dm_active_EMBEDDED_high_lvl)[0])\n",
    "# print(EMBEDDED_full_system_scf_HF.energy_tot(dm=dm_active_EMBEDDED_high_lvl))\n",
    "# print()\n",
    "# print(EMBEDDED_full_system_scf_HF.energy_elec()[0])\n",
    "# print(EMBEDDED_full_system_scf_HF.energy_tot())"
   ]
  },
  {
   "cell_type": "code",
   "execution_count": null,
   "metadata": {},
   "outputs": [],
   "source": []
  },
  {
   "cell_type": "code",
   "execution_count": null,
   "metadata": {},
   "outputs": [],
   "source": [
    "EMBEDDED_full_system_scf_HF.mo_energy"
   ]
  },
  {
   "cell_type": "code",
   "execution_count": null,
   "metadata": {},
   "outputs": [],
   "source": []
  },
  {
   "cell_type": "code",
   "execution_count": null,
   "metadata": {},
   "outputs": [],
   "source": [
    "# full_system_mol_EMBEDDED_HF = gto.Mole(atom= geometry,\n",
    "#                       basis=basis,\n",
    "#                        charge=charge,\n",
    "#                        spin=spin,\n",
    "#                       )\n",
    "# full_system_mol_EMBEDDED_HF.build()\n",
    "\n",
    "# # RE-DEFINE number of electrons in system\n",
    "# full_system_mol_EMBEDDED_HF.nelectron = 2*len(active_MO_inds) # <------ IMPORTANT!\n",
    "\n",
    "# EMBEDDED_full_system_scf_HF = scf.RHF(full_system_mol_EMBEDDED) # <---- Hartree Fock Calc!\n",
    "# EMBEDDED_full_system_scf_HF.verbose=1\n",
    "# EMBEDDED_full_system_scf_HF.max_memory= memory\n",
    "# EMBEDDED_full_system_scf_HF.conv_tol = 1e-6\n",
    "\n",
    "\n",
    "# ############## include change of basis!\n",
    "# Hcore_std = EMBEDDED_full_system_scf_HF.get_hcore()\n",
    "# EMBEDDED_full_system_scf_HF.get_hcore = lambda *args: Get_new_Hcore(Hcore_std, \n",
    "#                                                              Unitary_rot=V)\n",
    "\n",
    "# # mistake here with HIGH_LEVEL TERM\n",
    "# # MISTAKE!!!!!!!!!!!!!!!!!!!!!!!!!!!!!!!!!!!!!!!!!!!!!!!!!!!!!!!!! (NEED HFOCK OBJECT NOT DFT)\n",
    "# full_system_scf_HIGH_LEVEL.get_veff = lambda mol=None, dm=None, dm_last=0, vhf_last=0, hermi=1: Get_new_Veff_HFock(\n",
    "#                                                                                     EMBEDDED_full_system_scf_HF, #<-need this here for more expensive xc fucnctional@\n",
    "#                                                                                        V,\n",
    "#                                                                                         dm=dm)\n",
    "\n",
    "# Hcore_rotated = EMBEDDED_full_system_scf_HF.get_hcore()\n",
    "\n",
    "# ## overwrite h_core to include embedding term!!!!\n",
    "# EMBEDDED_full_system_scf_HF.get_hcore = lambda *args: v_emb + Hcore_rotated\n",
    "\n",
    "# ##############\n",
    "\n",
    "\n",
    "\n",
    "# EMBEDDED_full_system_scf_HF.kernel() # <------ do NOT RUN!\n",
    "\n",
    "\n",
    "# # # # overwrite orbs with RKS embedded orbs!\n",
    "# # EMBEDDED_full_system_scf_HF.mo_coeff = full_system_scf_HIGH_LEVEL.mo_coeff\n",
    "# # EMBEDDED_full_system_scf_HF.mo_occ = full_system_scf_HIGH_LEVEL.mo_occ \n",
    "# # EMBEDDED_full_system_scf_HF.mo_energy = full_system_scf_HIGH_LEVEL.mo_energy\n",
    "\n",
    "# # print(EMBEDDED_full_system_scf_HF.energy_elec(dm=dm_active_EMBEDDED_high_lvl)[0])\n",
    "# # print(EMBEDDED_full_system_scf_HF.energy_tot(dm=dm_active_EMBEDDED_high_lvl))\n",
    "# # print()\n",
    "# # print(EMBEDDED_full_system_scf_HF.energy_elec()[0])\n",
    "# # print(EMBEDDED_full_system_scf_HF.energy_tot())"
   ]
  },
  {
   "cell_type": "code",
   "execution_count": null,
   "metadata": {},
   "outputs": [],
   "source": [
    "print(EMBEDDED_full_system_scf_HF.mo_energy)\n",
    "print(EMBEDDED_full_system_scf_HF.mo_occ)\n",
    "\n",
    "C_active_embedd_opt = EMBEDDED_full_system_scf_HF.mo_coeff[:,EMBEDDED_full_system_scf_HF.mo_occ>0]\n",
    "HF_dm_mat = 2* C_active_embedd_opt @ C_active_embedd_opt.conj().T"
   ]
  },
  {
   "cell_type": "code",
   "execution_count": null,
   "metadata": {},
   "outputs": [],
   "source": [
    "emb_Fock = EMBEDDED_full_system_scf_HF.get_hcore() + EMBEDDED_full_system_scf_HF.get_veff(dm=HF_dm_mat)\n",
    "\n",
    "\n",
    "print(EMBEDDED_full_system_scf_HF.mo_energy)\n",
    "print()\n",
    "orbE = C_active_embedd_opt.conj().T @ emb_Fock @ C_active_embedd_opt\n",
    "print(np.around(orbE, 7))\n",
    "\n",
    "np.allclose(EMBEDDED_full_system_scf_HF.mo_energy[:len(active_MO_inds)],\n",
    "           np.diag(orbE))\n"
   ]
  },
  {
   "cell_type": "code",
   "execution_count": null,
   "metadata": {},
   "outputs": [],
   "source": [
    "# # TODO:\n",
    "\n",
    "# May have to keep re-defining Huzinaga operator to get rid of those orbitals \n",
    "# As I think one iteration of HFock undoes what the projector operator is doing\n",
    "# Need to check this though (as clearly Huz is defiend by DFT enviroment NOT the optimized one)\n",
    "# so it could actually be okay!\n",
    "\n",
    "# Just it is clear from mu shift orbs what is the environement\n",
    "# not sure if for Huz op the env orbs should be at zero energy! "
   ]
  },
  {
   "cell_type": "code",
   "execution_count": null,
   "metadata": {},
   "outputs": [],
   "source": [
    "sorted([(i, new_orbital_energies[i])for i in range(new_orbital_energies.shape[0])], key=lambda x:x[1])"
   ]
  },
  {
   "cell_type": "code",
   "execution_count": null,
   "metadata": {},
   "outputs": [],
   "source": [
    "enviro_MO_inds"
   ]
  },
  {
   "cell_type": "code",
   "execution_count": null,
   "metadata": {},
   "outputs": [],
   "source": [
    "## choose frozen from here^^^^\n",
    "print(enviro_MO_inds)\n",
    "print(f'for mu shift expect it to be the LAST {len(enviro_MO_inds)}')\n",
    "\n",
    "print(f'''for Huzinaga expect it to be positions {list(range(len(active_MO_inds), len(active_MO_inds)+len(enviro_MO_inds)))}''')\n"
   ]
  },
  {
   "cell_type": "code",
   "execution_count": null,
   "metadata": {},
   "outputs": [],
   "source": [
    "# TODO: Choice of frozen orbs for Huzinaga method could be wrong\n",
    "# need to CHECK this!"
   ]
  },
  {
   "cell_type": "code",
   "execution_count": null,
   "metadata": {},
   "outputs": [],
   "source": [
    "## CCSD calculation\n",
    "\n",
    "embedded_cc_obj = cc.CCSD(EMBEDDED_full_system_scf_HF)\n",
    "\n",
    "if projector_method == 'mu_shfit':\n",
    "    embedded_cc_obj.frozen = [i for i in range(EMBEDDED_full_system_scf_HF.mol.nao - len(enviro_MO_inds),\n",
    "                                           EMBEDDED_full_system_scf_HF.mol.nao)\n",
    "                         ]\n",
    "elif projector_method == 'huzinaga':\n",
    "    embedded_cc_obj.frozen  = enviro_MO_inds.tolist()\n",
    "#     embedded_cc_obj.frozen  = list(range(len(active_MO_inds), len(active_MO_inds)+len(enviro_MO_inds)))\n",
    "else:\n",
    "    raise ValueError(f'unknown projector method {projector_method}')\n",
    "\n",
    "\n",
    "e_cc, t1, t2 = embedded_cc_obj.kernel()\n",
    "\n",
    "CC_flag_check = np.isclose(EMBEDDED_full_system_scf_HF.energy_tot(dm=HF_dm_mat),\n",
    "                          embedded_cc_obj.e_hf)\n",
    "\n",
    "\n",
    "print(f'E_corr: {e_cc}')\n",
    "print(f'\\nCC hartree fock energy matches HF embedded calc: {CC_flag_check}!')\n",
    "embedded_cc_obj.e_hf\n"
   ]
  },
  {
   "cell_type": "code",
   "execution_count": null,
   "metadata": {},
   "outputs": [],
   "source": [
    "projector_method"
   ]
  },
  {
   "cell_type": "code",
   "execution_count": null,
   "metadata": {},
   "outputs": [],
   "source": [
    "# print('huzinaga HFock = ', -16.203577904621056)\n",
    "# print('mu_shfit HFock = ', -16.028522482287855)"
   ]
  },
  {
   "cell_type": "code",
   "execution_count": null,
   "metadata": {},
   "outputs": [],
   "source": [
    "WF_correction = np.einsum('ij, ij', v_emb, dm_active)\n",
    "\n",
    "E_WF = embedded_cc_obj.e_hf +e_cc  + E_env + two_e_cross - WF_correction\n",
    "E_WF "
   ]
  },
  {
   "cell_type": "code",
   "execution_count": null,
   "metadata": {},
   "outputs": [],
   "source": [
    "\n",
    "print('High level DFT in DFT error:', np.abs(E_high_lvl_DFT-my_fci.e_tot))\n",
    "print('LOW level DFT in DFT error:', np.abs(e_mf_emb-my_fci.e_tot))\n",
    "\n",
    "print('WF in DFT error:', np.abs(E_WF-my_fci.e_tot))"
   ]
  },
  {
   "cell_type": "code",
   "execution_count": null,
   "metadata": {},
   "outputs": [],
   "source": []
  },
  {
   "cell_type": "code",
   "execution_count": null,
   "metadata": {},
   "outputs": [],
   "source": [
    "fkaisdjlfkds"
   ]
  },
  {
   "cell_type": "code",
   "execution_count": null,
   "metadata": {},
   "outputs": [],
   "source": []
  },
  {
   "cell_type": "markdown",
   "metadata": {},
   "source": [
    "# QC part"
   ]
  },
  {
   "cell_type": "code",
   "execution_count": null,
   "metadata": {},
   "outputs": [],
   "source": [
    "N_enviroment_MOs = len(enviro_MO_inds) \n",
    "\n",
    "one_body_integrals, two_body_integrals = vqe_in_dft.Get_embedded_one_and_two_body_integrals_MO_basis(EMBEDDED_full_system_scf_HF,\n",
    "                                                                                            N_enviroment_MOs,\n",
    "                                                                                            physists_notation=phys_notation)\n",
    "\n",
    "\n",
    "print(one_body_integrals.shape)\n",
    "print(two_body_integrals.shape)"
   ]
  },
  {
   "cell_type": "code",
   "execution_count": null,
   "metadata": {},
   "outputs": [],
   "source": [
    "print(active_MO_inds)\n",
    "print(enviro_MO_inds)"
   ]
  },
  {
   "cell_type": "code",
   "execution_count": null,
   "metadata": {},
   "outputs": [],
   "source": [
    "one_body_terms, two_body_terms = vqe_in_dft.Get_SpinOrbs_from_Spatial(one_body_integrals,\n",
    "                                                                   two_body_integrals,\n",
    "                                                                   physists_notation=phys_notation,\n",
    "                                                                   EQ_Tolerance=1e-8)\n"
   ]
  },
  {
   "cell_type": "code",
   "execution_count": null,
   "metadata": {},
   "outputs": [],
   "source": [
    "Nuclear_energy =  full_system_scf.energy_nuc()\n",
    "\n",
    "H_fermionic = vqe_in_dft.Get_fermionic_H(one_body_terms, \n",
    "                                     two_body_terms, \n",
    "                                     Nuclear_energy,\n",
    "                                     core_constant=0, \n",
    "                                     physists_notation=phys_notation,\n",
    "                                        jupyter_notebook=True)\n",
    "\n",
    "\n",
    "\n",
    "len(list(H_fermionic))"
   ]
  },
  {
   "cell_type": "code",
   "execution_count": null,
   "metadata": {},
   "outputs": [],
   "source": [
    "from openfermion.linalg import get_sparse_operator\n",
    "H_sparse = get_sparse_operator(H_fermionic)\n",
    "\n",
    "\n",
    "\n",
    "\n",
    "eigvals_EMBED, eigvecs_EMBED = sp.sparse.linalg.eigsh(H_sparse, which='SA', k=1)"
   ]
  },
  {
   "cell_type": "code",
   "execution_count": null,
   "metadata": {},
   "outputs": [],
   "source": [
    "WF_correction  = np.einsum('ij, ij', v_emb, dm_active) # note different definition\n",
    "\n",
    "E_VQE = eigvals_EMBED[0]  + E_env + two_e_cross - WF_correction\n",
    "E_VQE "
   ]
  },
  {
   "cell_type": "code",
   "execution_count": null,
   "metadata": {},
   "outputs": [],
   "source": [
    "N_electrons_expected = 2*len(active_MO_inds)\n",
    "N_electrons_Q_state = np.binary_repr(np.where(np.abs(eigvecs_EMBED)>1e-2)[0][0]).count('1') \n",
    "\n",
    "print(f'expect {N_electrons_expected} electrons')\n",
    "print(f'quantum state has {N_electrons_Q_state} electrons \\n')\n",
    "\n",
    "print(f'number of electrons correct: {N_electrons_expected == N_electrons_Q_state}')"
   ]
  },
  {
   "cell_type": "code",
   "execution_count": null,
   "metadata": {},
   "outputs": [],
   "source": []
  },
  {
   "cell_type": "code",
   "execution_count": null,
   "metadata": {},
   "outputs": [],
   "source": [
    "print('High level DFT in DFT error:', np.abs(E_high_lvl_DFT-my_fci.e_tot))\n",
    "print('LOW level DFT in DFT error:', np.abs(e_mf_emb-my_fci.e_tot))\n",
    "\n",
    "\n",
    "print('WF in DFT error:', np.abs(E_WF-my_fci.e_tot))\n",
    "print('VQE error:', np.abs(E_VQE-my_fci.e_tot))"
   ]
  },
  {
   "cell_type": "code",
   "execution_count": null,
   "metadata": {},
   "outputs": [],
   "source": []
  },
  {
   "cell_type": "code",
   "execution_count": null,
   "metadata": {},
   "outputs": [],
   "source": []
  },
  {
   "cell_type": "code",
   "execution_count": null,
   "metadata": {},
   "outputs": [],
   "source": []
  },
  {
   "cell_type": "code",
   "execution_count": null,
   "metadata": {},
   "outputs": [],
   "source": []
  },
  {
   "cell_type": "code",
   "execution_count": null,
   "metadata": {},
   "outputs": [],
   "source": []
  },
  {
   "cell_type": "code",
   "execution_count": null,
   "metadata": {},
   "outputs": [],
   "source": []
  },
  {
   "cell_type": "code",
   "execution_count": null,
   "metadata": {},
   "outputs": [],
   "source": []
  },
  {
   "cell_type": "code",
   "execution_count": null,
   "metadata": {},
   "outputs": [],
   "source": []
  },
  {
   "cell_type": "code",
   "execution_count": null,
   "metadata": {},
   "outputs": [],
   "source": []
  },
  {
   "cell_type": "code",
   "execution_count": null,
   "metadata": {},
   "outputs": [],
   "source": []
  },
  {
   "cell_type": "code",
   "execution_count": null,
   "metadata": {},
   "outputs": [],
   "source": []
  },
  {
   "cell_type": "code",
   "execution_count": null,
   "metadata": {},
   "outputs": [],
   "source": []
  },
  {
   "cell_type": "code",
   "execution_count": null,
   "metadata": {},
   "outputs": [],
   "source": []
  },
  {
   "cell_type": "code",
   "execution_count": null,
   "metadata": {},
   "outputs": [],
   "source": []
  },
  {
   "cell_type": "code",
   "execution_count": null,
   "metadata": {},
   "outputs": [],
   "source": []
  },
  {
   "cell_type": "code",
   "execution_count": null,
   "metadata": {},
   "outputs": [],
   "source": []
  },
  {
   "cell_type": "code",
   "execution_count": null,
   "metadata": {},
   "outputs": [],
   "source": []
  },
  {
   "cell_type": "code",
   "execution_count": null,
   "metadata": {},
   "outputs": [],
   "source": []
  },
  {
   "cell_type": "code",
   "execution_count": null,
   "metadata": {},
   "outputs": [],
   "source": []
  },
  {
   "cell_type": "code",
   "execution_count": null,
   "metadata": {},
   "outputs": [],
   "source": []
  },
  {
   "cell_type": "code",
   "execution_count": null,
   "metadata": {},
   "outputs": [],
   "source": []
  },
  {
   "cell_type": "code",
   "execution_count": null,
   "metadata": {},
   "outputs": [],
   "source": []
  },
  {
   "cell_type": "code",
   "execution_count": null,
   "metadata": {},
   "outputs": [],
   "source": []
  }
 ],
 "metadata": {
  "kernelspec": {
   "display_name": "Python 3",
   "language": "python",
   "name": "python3"
  },
  "language_info": {
   "codemirror_mode": {
    "name": "ipython",
    "version": 3
   },
   "file_extension": ".py",
   "mimetype": "text/x-python",
   "name": "python",
   "nbconvert_exporter": "python",
   "pygments_lexer": "ipython3",
   "version": "3.7.6"
  }
 },
 "nbformat": 4,
 "nbformat_minor": 4
}
