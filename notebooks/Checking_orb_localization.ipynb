{
 "cells": [
  {
   "cell_type": "code",
   "execution_count": 1107,
   "metadata": {},
   "outputs": [],
   "source": [
    "import numpy as np\n",
    "import sys\n",
    "sys.path.append( '../vqe-in-dft' )\n",
    "from tqdm import tqdm\n",
    "\n",
    "import vqe_in_dft \n",
    "\n",
    "import scipy as sp\n",
    "from pyscf import gto, dft, lib, mp, cc, scf, tools, ci, fci"
   ]
  },
  {
   "cell_type": "code",
   "execution_count": null,
   "metadata": {},
   "outputs": [],
   "source": []
  },
  {
   "cell_type": "code",
   "execution_count": 1108,
   "metadata": {},
   "outputs": [],
   "source": [
    "# geometry = [\n",
    "# ['H', (0.7493682,0.0000000,0.4424329)],\n",
    "# ['O', (0.0000000,0.0000000,-0.1653507)],\n",
    "    \n",
    "# ['H', (-0.7493682,0.0000000,0.4424329)]\n",
    "# ]\n",
    "\n",
    "geometry = [\n",
    "['C', (0.0000, 0.0000, 0.0000)],\n",
    "['H', (0.5288, 0.1610, 0.9359)],\n",
    "['H', (0.2051, 0.8240, -0.6786)],\n",
    "['H', (0.3345, -0.9314, -0.4496)],\n",
    "['H', (-1.0685, -0.0537, 0.1921)]\n",
    "]\n",
    "\n",
    "# geometry = [\n",
    "# ['H', (1.2473876659, -0.8998737590, 0.6150681570)],\n",
    "# ['O', (1.2322305822, -0.2731895077, -0.1276123902)],\n",
    "\n",
    "# ['C', (0.0849758188, 0.5590385475, 0.0510545434)],\n",
    "# ['H', (0.1506137362, 1.1200249874, 0.9943015309)],\n",
    "# ['H', (0.1316093068, 1.2841805400, -0.7645223601)],\n",
    "\n",
    "# ['C', (-1.2129704155, -0.2295285634, -0.0097156258)],\n",
    "# ['H', (-2.0801425360, 0.4329727646,0.0722817289)],\n",
    "# ['H', (-1.2655910941, -0.9539857247, 0.8097953440)],\n",
    "# ['H', (-1.2737541560, -0.7748626513, -0.9540587845)],\n",
    "# ]\n",
    "\n",
    "N_active_atoms = 2\n",
    "\n",
    "\n",
    "low_level_scf_method='RKS'\n",
    "high_level_scf_method='CCSD'\n",
    "E_convergence_tol = 1e-6\n",
    "basis = 'STO-3G' #'augccpvdz' # '6-31g' #'STO-3G'\n",
    "unit= 'angstrom'\n",
    "pyscf_print_level=1\n",
    "memory=8000\n",
    "charge=0\n",
    "spin=0\n",
    "run_fci= True#True\n",
    "low_level_xc_functional = 'lda, vwn' # 'b3lyp'\n",
    "high_level_xc_functional = 'b3lyp'\n",
    "\n",
    "phys_notation = True"
   ]
  },
  {
   "cell_type": "code",
   "execution_count": null,
   "metadata": {},
   "outputs": [],
   "source": []
  },
  {
   "cell_type": "markdown",
   "metadata": {},
   "source": [
    "# Build the GLOBAL (full) molecule\n",
    "\n",
    "\n",
    "and run supersystem calculation (cheap method)"
   ]
  },
  {
   "cell_type": "markdown",
   "metadata": {},
   "source": [
    "https://pyscf.org/_modules/pyscf/gto/basis.html"
   ]
  },
  {
   "cell_type": "code",
   "execution_count": 1109,
   "metadata": {},
   "outputs": [
    {
     "data": {
      "text/plain": [
       "[['C', (0.0, 0.0, 0.0)],\n",
       " ['H', (0.5288, 0.161, 0.9359)],\n",
       " ['H', (0.2051, 0.824, -0.6786)],\n",
       " ['H', (0.3345, -0.9314, -0.4496)],\n",
       " ['H', (-1.0685, -0.0537, 0.1921)]]"
      ]
     },
     "execution_count": 1109,
     "metadata": {},
     "output_type": "execute_result"
    }
   ],
   "source": [
    "full_system_mol = gto.Mole(atom= geometry,\n",
    "                      basis=basis,\n",
    "                       charge=charge,\n",
    "                       unit=unit,\n",
    "                       spin=spin,\n",
    "                      )\n",
    "full_system_mol.build()\n",
    "full_system_mol.atom"
   ]
  },
  {
   "cell_type": "code",
   "execution_count": 1110,
   "metadata": {},
   "outputs": [
    {
     "name": "stdout",
     "output_type": "stream",
     "text": [
      "E(UHF-FCI) = -39.805676967111\n"
     ]
    }
   ],
   "source": [
    "## FCI comparison\n",
    "HF_scf = scf.RHF(full_system_mol)\n",
    "HF_scf.verbose=1\n",
    "HF_scf.max_memory= memory\n",
    "HF_scf.conv_tol = 1e-6\n",
    "HF_scf.kernel()\n",
    "\n",
    "my_fci = fci.FCI(HF_scf).run()\n",
    "print('E(UHF-FCI) = %.12f' % my_fci.e_tot)\n",
    "\n",
    "# myci = ci.CISD(HF_scf).run() # this is UCISD\n",
    "# print('UCISD total energy = ', myci.e_tot)"
   ]
  },
  {
   "cell_type": "code",
   "execution_count": 1,
   "metadata": {},
   "outputs": [
    {
     "ename": "NameError",
     "evalue": "name 'vqe_in_dft' is not defined",
     "output_type": "error",
     "traceback": [
      "\u001b[0;31m---------------------------------------------------------------------------\u001b[0m",
      "\u001b[0;31mNameError\u001b[0m                                 Traceback (most recent call last)",
      "\u001b[0;32m<ipython-input-1-961339d1530f>\u001b[0m in \u001b[0;36m<module>\u001b[0;34m\u001b[0m\n\u001b[1;32m      1\u001b[0m \u001b[0;31m# Draw molecule\u001b[0m\u001b[0;34m\u001b[0m\u001b[0;34m\u001b[0m\u001b[0;34m\u001b[0m\u001b[0m\n\u001b[1;32m      2\u001b[0m \u001b[0;34m\u001b[0m\u001b[0m\n\u001b[0;32m----> 3\u001b[0;31m \u001b[0mxyz_string\u001b[0m \u001b[0;34m=\u001b[0m \u001b[0mvqe_in_dft\u001b[0m\u001b[0;34m.\u001b[0m\u001b[0mGet_xyz_string\u001b[0m\u001b[0;34m(\u001b[0m\u001b[0mfull_system_mol\u001b[0m\u001b[0;34m)\u001b[0m\u001b[0;34m\u001b[0m\u001b[0;34m\u001b[0m\u001b[0m\n\u001b[0m\u001b[1;32m      4\u001b[0m \u001b[0mvqe_in_dft\u001b[0m\u001b[0;34m.\u001b[0m\u001b[0mDraw_molecule\u001b[0m\u001b[0;34m(\u001b[0m\u001b[0mxyz_string\u001b[0m\u001b[0;34m,\u001b[0m \u001b[0mwidth\u001b[0m\u001b[0;34m=\u001b[0m\u001b[0;36m400\u001b[0m\u001b[0;34m,\u001b[0m \u001b[0mheight\u001b[0m\u001b[0;34m=\u001b[0m\u001b[0;36m400\u001b[0m\u001b[0;34m,\u001b[0m \u001b[0mjupyter_notebook\u001b[0m\u001b[0;34m=\u001b[0m\u001b[0;32mTrue\u001b[0m\u001b[0;34m)\u001b[0m\u001b[0;34m\u001b[0m\u001b[0;34m\u001b[0m\u001b[0m\n",
      "\u001b[0;31mNameError\u001b[0m: name 'vqe_in_dft' is not defined"
     ]
    }
   ],
   "source": [
    "# Draw molecule\n",
    "\n",
    "xyz_string = vqe_in_dft.Get_xyz_string(full_system_mol)\n",
    "vqe_in_dft.Draw_molecule(xyz_string, width=400, height=400, jupyter_notebook=True)"
   ]
  },
  {
   "cell_type": "code",
   "execution_count": 1112,
   "metadata": {},
   "outputs": [
    {
     "data": {
      "text/plain": [
       "-39.61684241519855"
      ]
     },
     "execution_count": 1112,
     "metadata": {},
     "output_type": "execute_result"
    }
   ],
   "source": [
    "# Run global calculation\n",
    "\n",
    "full_system_scf = scf.RKS(full_system_mol)\n",
    "full_system_scf.verbose= pyscf_print_level\n",
    "full_system_scf.max_memory= memory\n",
    "full_system_scf.conv_tol = 1e-6\n",
    "full_system_scf.xc = low_level_xc_functional\n",
    "full_system_scf.kernel()"
   ]
  },
  {
   "cell_type": "markdown",
   "metadata": {},
   "source": [
    "# Localise orbitals"
   ]
  },
  {
   "cell_type": "markdown",
   "metadata": {},
   "source": [
    "### Background\n",
    "\n",
    "The overlap matrix is:\n",
    "\n",
    "$$S_{\\mu \\nu} =  \\int d\\vec{r}_{1} \\phi_{\\mu}(1)^{*}\\phi_{\\nu}(1)$$\n",
    "\n",
    "- $\\phi_{\\mu}$ are basis functions (defined in basis set)\n",
    "\n",
    "\n",
    "The unknown molecular orbitals $\\psi_{i}$ are expanded as a linear expansion of the $K$ known basis functions:\n",
    "\n",
    "$$ \\psi_{i} =  \\sum_{\\mu=1}^{K} C_{\\mu i} \\psi_{\\mu}$$\n",
    "\n",
    "\n",
    "$C$ is a $K \\times K$ matrix of expansion coefficients $C_{\\mu i}$. The columns of $C$ describe the molecular orbitals!"
   ]
  },
  {
   "cell_type": "markdown",
   "metadata": {},
   "source": [
    "We can find the total number of electrons $N$ in the system by:\n",
    "\n",
    "$$ N =  2 \\sum_{a}^{N/2}\\int d\\vec{r}  \\bigg( \\psi_{a}(\\vec{r})^{*} \\psi_{i}(\\vec{r}) \\bigg) =  2 \\sum_{a}^{N/2} 1$$\n",
    "\n",
    "- integral gives probablity of finding electron $a$ over all space (must be 1)\n",
    "- summing over all electrons will give the total number of electrons"
   ]
  },
  {
   "cell_type": "code",
   "execution_count": null,
   "metadata": {},
   "outputs": [],
   "source": []
  },
  {
   "cell_type": "markdown",
   "metadata": {},
   "source": [
    "The charge density has the following definition:\n",
    "\n",
    "$$\\rho(\\vec{r}) = 2 \\sum_{a}^{N/2} \\bigg( \\psi_{a}(\\vec{r})^{*} \\psi_{i}(\\vec{r}) \\bigg)$$\n",
    "\n",
    "- re-write using definition of $\\psi_{i}=  \\sum_{\\mu=1}^{K} C_{\\mu i} \\phi_{\\mu}$\n",
    "\n",
    "$$\\rho(\\vec{r}) = 2 \\sum_{a}^{N/2} \\Bigg( \\bigg[ \\sum_{\\nu}^{K} C_{\\nu a}^{*} \\phi_{\\nu}(\\vec{r})^{*} \\bigg] \\bigg[ \\sum_{\\mu}^{K} C_{\\mu a}\\phi_{\\mu}(\\vec{r}) \\bigg] \\Bigg)$$\n",
    "\n",
    "- move things around\n",
    "\n",
    "$$\\rho(\\vec{r}) = \\sum_{\\nu}^{K} \\sum_{\\mu}^{K} \\Big( 2 \\sum_{a}^{N/2} C_{\\mu a} C_{\\nu a}^{*} \\Big) \\phi_{\\mu}(\\vec{r}) \\phi_{\\nu}(\\vec{r})^{*} $$\n",
    "\n",
    "- which is \n",
    "\n",
    "$$\\rho(\\vec{r}) = \\sum_{\\mu, \\nu}^{K} P_{\\mu \\nu} \\phi_{\\mu}(\\vec{r}) \\phi_{\\nu}(\\vec{r})^{*} $$\n",
    "\n",
    "\n",
    "- $P_{\\mu \\nu}$ is known as the density matrix and is:\n",
    "\n",
    "$$P_{\\mu \\nu} = 2 \\sum_{a}^{N/2} C_{\\mu a} C_{\\nu a}^{*}$$"
   ]
  },
  {
   "cell_type": "code",
   "execution_count": null,
   "metadata": {},
   "outputs": [],
   "source": []
  },
  {
   "cell_type": "markdown",
   "metadata": {},
   "source": [
    "Therefore we can also find the total number of electrons in the system by:\n",
    "\n",
    "$$ N =  2 \\sum_{a}^{N/2}\\int d\\vec{r}  \\bigg( \\psi_{a}(\\vec{r})^{*} \\psi_{i}(\\vec{r}) \\bigg) =  \\sum_{\\nu}^{K} \\sum_{\\mu}^{K} \\Big( 2 \\sum_{a}^{N/2} C_{\\mu a} C_{\\nu a}^{*} \\Big) \\int d\\vec{r} \\phi_{\\mu}(\\vec{r})  \\phi_{\\nu}(\\vec{r})^{*}$$\n",
    "\n",
    "- This is simply:\n",
    "\n",
    "$$N =  \\sum_{\\nu}^{K} \\sum_{\\mu}^{K} P_{\\mu \\nu} S_{\\nu \\mu}$$\n",
    "\n",
    "- in an orthognal basis $S$ should be the identity matrix (as it is overlap of matrix of orthogonal orbs), SO WE GET:\n",
    "\n",
    "$$N =  \\sum_{\\nu}^{K} \\sum_{\\mu}^{K} P_{\\mu \\nu} S_{\\nu \\mu} = \\sum_{\\mu}^{K} PS_{\\mu \\mu} = \\mathcal{Tr}(PS)$$"
   ]
  },
  {
   "cell_type": "markdown",
   "metadata": {},
   "source": [
    "- One can interpret $ PS_{\\mu \\mu}$ in the above equation as the number of electrons associated with $ \\phi_{\\mu}$\n",
    "- This is a **Mulliken population analysis**"
   ]
  },
  {
   "cell_type": "markdown",
   "metadata": {},
   "source": []
  },
  {
   "cell_type": "markdown",
   "metadata": {},
   "source": [
    "# Orbital Localization!"
   ]
  },
  {
   "cell_type": "markdown",
   "metadata": {},
   "source": [
    "A molecular orbital is usually delocalized, i.e. it has non-negligible amplitude over the whole system rather than only around some atom(s) or bond(s). However, one can choose a unitary rotation "
   ]
  },
  {
   "cell_type": "markdown",
   "metadata": {},
   "source": [
    "- When we perform a SCF calculation, one gets an optimized C matrix\n",
    "    - $C$ is a $K \\times K$ matrix of expansion coefficients $C_{\\mu i}$\n",
    "    - The columns of $C$ describe the molecular orbitals!\n",
    "    - MO i: $ \\psi_{i} =  \\sum_{\\mu=1}^{K} C_{\\mu i} \\psi_{\\mu}$\n",
    "    \n",
    "    \n",
    "- These molecular orbitals are usually **delocalized**\n",
    "    - non-negligible amplitude over the whole system, rather than only around some atom(s) or bond(s)\n",
    "\n",
    "- But we know in QM that a given basis choice is NOT unique\n",
    "\n",
    "\n",
    "- We can therefore perform a unitary rotation on molecular orbitals\n",
    "\n",
    "$$ \\psi_{i} U_{rot} =  \\Big( \\sum_{\\mu=1}^{K} C_{\\mu i} \\psi_{\\mu} \\Big) U_{rot} = \\psi_{i}^{new}$$\n",
    "    \n",
    "    \n",
    "The idea is to use a rotation such that the resulting orbitals $\\psi_{i}^{new}$ are as spatially localized as possible. \n",
    "\n",
    "\n",
    "The Pipek-Mezey (PM) [localization](https://notendur.hi.is/hj/papers/paperPipekmezey8.pdf) **maximizes the population charges on the atoms**:\n",
    "\n",
    "$$ f (U_{rot}) = \\sum_{A}^{N_{atoms}} \\Bigg( Z_{A} -  \\sum_{\\mu \\text{ on atom } A} PS_{\\mu \\mu} \\Bigg)$$"
   ]
  },
  {
   "cell_type": "markdown",
   "metadata": {},
   "source": [
    "# Choose active and environment systems"
   ]
  },
  {
   "cell_type": "markdown",
   "metadata": {},
   "source": [
    "## METHOD 1 "
   ]
  },
  {
   "cell_type": "markdown",
   "metadata": {},
   "source": [
    "- Given optimized $C$ coefficient matrix\n",
    "    - which has been rotated to localize orbitals\n",
    "    - (used to build localized density matrix)\n",
    "\n",
    "\n",
    "- **Look through basis functions $\\phi_{\\mu}$ of the ACTIVE atoms**\n",
    "    \n",
    "    \n",
    "- check the mulliken charge // mulliken population of the orbital\n",
    "    - if above a certain threshold associate it to active system\n",
    "    - otherwise put in the environment"
   ]
  },
  {
   "cell_type": "markdown",
   "metadata": {},
   "source": [
    "## METHOD 2 - SPADE"
   ]
  },
  {
   "cell_type": "code",
   "execution_count": 1113,
   "metadata": {},
   "outputs": [],
   "source": [
    "localization_method= 'PipekMezey' # 'ibo', 'Boys', 'PipekMezey' 'SPADE'\n",
    "THRESHOLD = 0.95"
   ]
  },
  {
   "cell_type": "code",
   "execution_count": null,
   "metadata": {},
   "outputs": [],
   "source": []
  },
  {
   "cell_type": "code",
   "execution_count": 1114,
   "metadata": {},
   "outputs": [
    {
     "name": "stdout",
     "output_type": "stream",
     "text": [
      "\n",
      "(active_AO^2)/(all_AO^2): [0.9988 0.5689 0.9855 0.5689 0.5689]\n",
      "threshold for active part: 0.95 \n",
      "\n",
      "number of active MOs: 2\n",
      "number of enviro MOs: 3 \n",
      "\n"
     ]
    }
   ],
   "source": [
    "(C_active, \n",
    " C_envrio, \n",
    " C_all_localized, \n",
    " active_MO_inds,\n",
    " enviro_MO_inds) = vqe_in_dft.Localize_orbitals(localization_method, \n",
    "                                     full_system_scf, \n",
    "                                     N_active_atoms, \n",
    "                                     THRESHOLD=THRESHOLD, \n",
    "                                     sanity_check=True)\n"
   ]
  },
  {
   "cell_type": "code",
   "execution_count": 1115,
   "metadata": {},
   "outputs": [
    {
     "name": "stdout",
     "output_type": "stream",
     "text": [
      "want these C_loc and C_opt_std to be different: True\n",
      "want dm_std and dm_loc to be the SAME: True\n"
     ]
    }
   ],
   "source": [
    "dm_loc = 2* C_all_localized@ C_all_localized.conj().T\n",
    "dm_std = 2* full_system_scf.mo_coeff[:,full_system_scf.mo_occ>0]@ full_system_scf.mo_coeff[:,full_system_scf.mo_occ>0].conj().T\n",
    "\n",
    "print('want these C_loc and C_opt_std to be different:', not np.allclose(C_all_localized,\n",
    "                                                                         full_system_scf.mo_coeff[:,full_system_scf.mo_occ>0]))\n",
    "print('want dm_std and dm_loc to be the SAME:',np.allclose(dm_std, dm_loc))"
   ]
  },
  {
   "cell_type": "code",
   "execution_count": null,
   "metadata": {},
   "outputs": [],
   "source": []
  },
  {
   "cell_type": "markdown",
   "metadata": {},
   "source": [
    "Virtual localized orbs!:\n",
    "https://pyscf.org/_modules/pyscf/lo/vvo.html"
   ]
  },
  {
   "cell_type": "code",
   "execution_count": 763,
   "metadata": {},
   "outputs": [
    {
     "data": {
      "text/plain": [
       "(9, 4)"
      ]
     },
     "execution_count": 763,
     "metadata": {},
     "output_type": "execute_result"
    }
   ],
   "source": [
    "from pyscf.lo import vvo\n",
    "\n",
    "orbocc = full_system_scf.mo_coeff[:,full_system_scf.mo_occ>0]\n",
    "orbvirt = full_system_scf.mo_coeff[:,full_system_scf.mo_occ<2]\n",
    "C_virtual_loc = vvo.vvo(full_system_scf.mol,\n",
    "                    orbocc,\n",
    "                    orbvirt,\n",
    "                    iaos=None, \n",
    "                    s=None,\n",
    "                    verbose=None)\n",
    "\n",
    "C_virtual_loc.shape\n",
    "\n",
    "# could truncate here using active MO again!!!"
   ]
  },
  {
   "cell_type": "code",
   "execution_count": 764,
   "metadata": {},
   "outputs": [
    {
     "data": {
      "text/plain": [
       "-1.27675647831893e-15"
      ]
     },
     "execution_count": 764,
     "metadata": {},
     "output_type": "execute_result"
    }
   ],
   "source": [
    "test =  S_half@ C_virtual_loc\n",
    "test[:,0].dot(test[:,2])\n"
   ]
  },
  {
   "cell_type": "code",
   "execution_count": 1116,
   "metadata": {},
   "outputs": [
    {
     "name": "stdout",
     "output_type": "stream",
     "text": [
      "True\n",
      "True\n",
      "-10.268228524427977\n",
      "-10.268228524428043\n"
     ]
    }
   ],
   "source": [
    "S_mat = full_system_scf.get_ovlp()\n",
    "S_half = sp.linalg.fractional_matrix_power(full_system_scf.get_ovlp() , 0.5)\n",
    "\n",
    "ortho_std = S_half@ full_system_scf.mo_coeff[:,full_system_scf.mo_occ>0]\n",
    "ortho_loc = S_half@ C_all_localized\n",
    "ortho_std_FULL = S_half@ full_system_scf.mo_coeff\n",
    "\n",
    "# ortho_loc[:,0].dot(ortho_loc[:,2])\n",
    "\n",
    "U = np.zeros((ortho_std.shape[0], ortho_std.shape[0]))\n",
    "for MO_ind in range(full_system_scf.mo_coeff.shape[1]):\n",
    "    if MO_ind in range(ortho_std.shape[1]):\n",
    "        outer = np.outer(ortho_std[:, MO_ind], ortho_loc[:, MO_ind])\n",
    "        U+=outer\n",
    "    else:\n",
    "        # project virtual orbitals in C_std back onto themselves (virtual loc orbs currently not defined!)\n",
    "        vec = ortho_std_FULL[:, MO_ind]\n",
    "        outer = np.outer(vec, vec)\n",
    "        U+=outer\n",
    "        # TODO: could change this to localized virtual orbs!!!\n",
    "    \n",
    "print(np.allclose(U @ ortho_loc, ortho_std)) # U C_ortho_loc = C_orth_std\n",
    "print(np.allclose(U.conj().T@U, U@U.conj().T)) # shows unitary (in given basis)!\n",
    "\n",
    "ind = 0\n",
    "Fock = full_system_scf.get_fock(dm=dm_std)\n",
    "print(ortho_loc[:,ind].conj().T @ (U.conj().T @ Fock @ U) @ ortho_loc[:,ind])\n",
    "print(ortho_std[:,ind].conj().T  @ Fock @ ortho_std[:,ind])"
   ]
  },
  {
   "cell_type": "code",
   "execution_count": 1144,
   "metadata": {},
   "outputs": [
    {
     "data": {
      "text/plain": [
       "array([[ 1., -0.,  0.,  0., -0.,  0., -0.,  0., -0.],\n",
       "       [-0.,  1.,  0.,  0.,  0.,  0., -0., -0., -0.],\n",
       "       [ 0.,  0.,  1., -0., -0., -0., -0., -0.,  0.],\n",
       "       [ 0.,  0., -0.,  1., -0., -0.,  0., -0., -0.],\n",
       "       [-0.,  0., -0., -0.,  1.,  0., -0., -0., -0.],\n",
       "       [ 0.,  0., -0., -0.,  0.,  1., -0., -0., -0.],\n",
       "       [-0., -0., -0.,  0., -0., -0.,  1.,  0.,  0.],\n",
       "       [ 0., -0., -0., -0., -0., -0.,  0.,  1., -0.],\n",
       "       [-0., -0.,  0., -0., -0., -0.,  0., -0.,  1.]])"
      ]
     },
     "execution_count": 1144,
     "metadata": {},
     "output_type": "execute_result"
    }
   ],
   "source": [
    "np.around(U@U.conj().T, 3) # should be unitary!"
   ]
  },
  {
   "cell_type": "code",
   "execution_count": null,
   "metadata": {},
   "outputs": [],
   "source": []
  },
  {
   "cell_type": "code",
   "execution_count": 1117,
   "metadata": {},
   "outputs": [
    {
     "data": {
      "text/plain": [
       "True"
      ]
     },
     "execution_count": 1117,
     "metadata": {},
     "output_type": "execute_result"
    }
   ],
   "source": [
    "S_neg_half = sp.linalg.fractional_matrix_power(full_system_scf.get_ovlp() , -0.5)\n",
    "np.allclose(S_neg_half@ U@ortho_loc,\n",
    "            full_system_scf.mo_coeff[:,full_system_scf.mo_occ>0])"
   ]
  },
  {
   "cell_type": "code",
   "execution_count": 12,
   "metadata": {},
   "outputs": [],
   "source": [
    "\n",
    "# np.allclose((np.linalg.inv(U_new)@full_system_scf.mo_coeff)[:,full_system_scf.mo_occ>0],\n",
    "#             C_all_localized)\n",
    "\n",
    "# # unocc orbs the same\n",
    "# np.allclose((np.linalg.inv(U_new)@full_system_scf.mo_coeff)[:,full_system_scf.mo_occ<2],\n",
    "#             full_system_scf.mo_coeff[:,full_system_scf.mo_occ<2])"
   ]
  },
  {
   "cell_type": "code",
   "execution_count": 1145,
   "metadata": {},
   "outputs": [
    {
     "data": {
      "text/plain": [
       "True"
      ]
     },
     "execution_count": 1145,
     "metadata": {},
     "output_type": "execute_result"
    }
   ],
   "source": [
    "#### Notes #####\n",
    "\n",
    "# U C_loc_ortho = C_std_ortho\n",
    "### as:\n",
    "    # C_loc_ortho = S_half @ C_loc\n",
    "    # C_std_ortho = S_half @ C_std\n",
    "\n",
    "# can write as:\n",
    "# U (S_half @ C_loc) = (S_half @ C_std)\n",
    "\n",
    "# Now want to get rid of S_half on RHS:\n",
    "# S_neg_half @ U S_half @ C_loc = (S_neg_half @ S_half @ C_std)\n",
    "# (S_neg_half @ U S_half) @ C_loc = C_std\n",
    "# U_new @ C_loc = C_std\n",
    "### where:\n",
    "    # U_new = S_neg_half @ U S_half\n",
    "    \n",
    "#### Notes #####\n",
    "\n",
    "U_new = S_neg_half@ U  @ S_half\n",
    "np.allclose(U_new@C_all_localized,\n",
    "            full_system_scf.mo_coeff[:,full_system_scf.mo_occ>0])\n"
   ]
  },
  {
   "cell_type": "code",
   "execution_count": 1146,
   "metadata": {},
   "outputs": [
    {
     "name": "stdout",
     "output_type": "stream",
     "text": [
      "-0.5814869911109724\n",
      "-0.5814869911109719\n"
     ]
    }
   ],
   "source": [
    "ind=1\n",
    "# print(C_all_localized[:,ind].conj().T @ Fock @ C_all_localized[:,ind])\n",
    "print(C_all_localized[:,ind].conj().T @ (U_new.conj().T @ Fock @ U_new) @ C_all_localized[:,ind])\n",
    "print(full_system_scf.mo_coeff[:,ind].conj().T  @ Fock @ full_system_scf.mo_coeff[:,ind])"
   ]
  },
  {
   "cell_type": "code",
   "execution_count": 1120,
   "metadata": {},
   "outputs": [
    {
     "data": {
      "text/plain": [
       "array([[-9.568,  0.   ,  0.   , -0.   ,  0.   ],\n",
       "       [ 0.   , -0.581,  0.   , -0.   ,  0.   ],\n",
       "       [ 0.   ,  0.   , -0.303, -0.   ,  0.   ],\n",
       "       [-0.   , -0.   , -0.   , -0.303,  0.   ],\n",
       "       [ 0.   ,  0.   ,  0.   ,  0.   , -0.303]])"
      ]
     },
     "execution_count": 1120,
     "metadata": {},
     "output_type": "execute_result"
    }
   ],
   "source": [
    "np.around(C_all_localized.conj().T @ (U_new.conj().T @ Fock @ U_new) @ C_all_localized, 3)"
   ]
  },
  {
   "cell_type": "code",
   "execution_count": 1121,
   "metadata": {},
   "outputs": [
    {
     "data": {
      "text/plain": [
       "array([[-9.568,  0.   ,  0.   , -0.   ,  0.   ],\n",
       "       [ 0.   , -0.581,  0.   , -0.   ,  0.   ],\n",
       "       [ 0.   ,  0.   , -0.303, -0.   ,  0.   ],\n",
       "       [-0.   , -0.   , -0.   , -0.303,  0.   ],\n",
       "       [ 0.   ,  0.   ,  0.   ,  0.   , -0.303]])"
      ]
     },
     "execution_count": 1121,
     "metadata": {},
     "output_type": "execute_result"
    }
   ],
   "source": [
    "np.around(full_system_scf.mo_coeff[:,full_system_scf.mo_occ>0].conj().T @\n",
    "          Fock @\n",
    "          full_system_scf.mo_coeff[:,full_system_scf.mo_occ>0], 3)"
   ]
  },
  {
   "cell_type": "code",
   "execution_count": 1122,
   "metadata": {},
   "outputs": [
    {
     "data": {
      "text/plain": [
       "array([[-9.57,  0.  ,  0.  , -0.  ,  0.  ,  0.  , -0.  , -0.  ,  0.  ],\n",
       "       [ 0.  , -0.58,  0.  , -0.  ,  0.  , -0.  ,  0.  ,  0.  , -0.  ],\n",
       "       [ 0.  ,  0.  , -0.3 , -0.  ,  0.  ,  0.  ,  0.  ,  0.  , -0.  ],\n",
       "       [-0.  , -0.  , -0.  , -0.3 ,  0.  ,  0.  , -0.  ,  0.  ,  0.  ],\n",
       "       [ 0.  ,  0.  ,  0.  ,  0.  , -0.3 , -0.  , -0.  ,  0.  , -0.  ],\n",
       "       [ 0.  , -0.  ,  0.  ,  0.  , -0.  ,  0.43,  0.  , -0.  ,  0.  ],\n",
       "       [-0.  ,  0.  ,  0.  , -0.  , -0.  ,  0.  ,  0.43,  0.  , -0.  ],\n",
       "       [-0.  ,  0.  ,  0.  ,  0.  ,  0.  , -0.  ,  0.  ,  0.43, -0.  ],\n",
       "       [ 0.  , -0.  , -0.  ,  0.  , -0.  ,  0.  , -0.  , -0.  ,  0.47]])"
      ]
     },
     "execution_count": 1122,
     "metadata": {},
     "output_type": "execute_result"
    }
   ],
   "source": [
    "C_all_localized_and_virt = np.hstack((C_all_localized,\n",
    "                                      full_system_scf.mo_coeff[:,full_system_scf.mo_occ<2])\n",
    "                                    )\n",
    "np.around(C_all_localized_and_virt.conj().T @ (U_new.conj().T @ Fock @ U_new) @ C_all_localized_and_virt, 2)"
   ]
  },
  {
   "cell_type": "code",
   "execution_count": 1123,
   "metadata": {},
   "outputs": [
    {
     "data": {
      "text/plain": [
       "array([[-9.57,  0.  ,  0.  , -0.  ,  0.  ,  0.  , -0.  , -0.  ,  0.  ],\n",
       "       [ 0.  , -0.58,  0.  , -0.  ,  0.  , -0.  ,  0.  ,  0.  , -0.  ],\n",
       "       [ 0.  ,  0.  , -0.3 , -0.  ,  0.  ,  0.  ,  0.  ,  0.  , -0.  ],\n",
       "       [-0.  , -0.  , -0.  , -0.3 ,  0.  ,  0.  , -0.  ,  0.  ,  0.  ],\n",
       "       [ 0.  ,  0.  ,  0.  ,  0.  , -0.3 , -0.  , -0.  ,  0.  , -0.  ],\n",
       "       [ 0.  , -0.  ,  0.  ,  0.  , -0.  ,  0.43,  0.  , -0.  ,  0.  ],\n",
       "       [-0.  ,  0.  ,  0.  , -0.  , -0.  ,  0.  ,  0.43,  0.  , -0.  ],\n",
       "       [-0.  ,  0.  ,  0.  ,  0.  ,  0.  , -0.  ,  0.  ,  0.43, -0.  ],\n",
       "       [ 0.  , -0.  , -0.  ,  0.  , -0.  ,  0.  , -0.  , -0.  ,  0.47]])"
      ]
     },
     "execution_count": 1123,
     "metadata": {},
     "output_type": "execute_result"
    }
   ],
   "source": [
    "np.around(full_system_scf.mo_coeff.conj().T @\n",
    "          Fock @\n",
    "          full_system_scf.mo_coeff, 2)"
   ]
  },
  {
   "cell_type": "code",
   "execution_count": 19,
   "metadata": {},
   "outputs": [],
   "source": [
    "# # Get_new_Veff(test_full_system_scf, U_new, dm_loc)\n",
    "# Get_new_Hcore(test_full_system_scf, U_new)"
   ]
  },
  {
   "cell_type": "code",
   "execution_count": 20,
   "metadata": {},
   "outputs": [],
   "source": [
    "# test_full_system_scf.make_rdm1()\n",
    "# test_full_system_scf.init_guess_by_1e()"
   ]
  },
  {
   "cell_type": "code",
   "execution_count": 21,
   "metadata": {},
   "outputs": [],
   "source": [
    "# np.einsum('ij,ji', dm_loc, vk)\n"
   ]
  },
  {
   "cell_type": "code",
   "execution_count": null,
   "metadata": {},
   "outputs": [],
   "source": []
  },
  {
   "cell_type": "code",
   "execution_count": 1133,
   "metadata": {},
   "outputs": [],
   "source": [
    "# modify H_core and Veff in new basis!\n",
    "\n",
    "def Get_new_Hcore(H_core, Unitary_rot):\n",
    "    H_core_rot = Unitary_rot.conj().T @ H_core @Unitary_rot \n",
    "    return H_core_rot\n",
    "\n",
    "from pyscf.dft.rks import get_veff as RKS_get_veff\n",
    "from pyscf import lib\n",
    "from pyscf.dft import numint\n",
    "\n",
    "def Get_new_Veff(pyscf_obj, Unitary, dm=None, check_result=False):\n",
    "    \n",
    "    if dm is None:\n",
    "        if pyscf_obj.mo_coeff is not None:\n",
    "            density_mat = pyscf_obj.make_rdm1(pyscf_obj.mo_coeff, pyscf_obj.mo_occ)\n",
    "        else:\n",
    "            density_mat = pyscf_obj.init_guess_by_1e()\n",
    "    else:\n",
    "        density_mat = dm\n",
    "    \n",
    "    nelec, exc, vxc = numint.nr_vxc(pyscf_obj.mol,\n",
    "                                            pyscf_obj.grids,\n",
    "                                            pyscf_obj.xc,\n",
    "                                            density_mat)\n",
    "    vxc =  Unitary.conj().T @ vxc @ Unitary\n",
    "    \n",
    "    Veff = RKS_get_veff(pyscf_obj, dm=density_mat)\n",
    "    if Veff.vk:\n",
    "        K = Unitary.conj().T @ Veff.vk @ Unitary\n",
    "        J = Unitary.conj().T @ Veff.vj @ Unitary\n",
    "        vxc += J - K * .5\n",
    "    else:\n",
    "        J = Unitary.conj().T @ Veff.vj @ Unitary\n",
    "        K = None\n",
    "        vxc += J \n",
    "    \n",
    "    if check_result is True:\n",
    "        M1 = Unitary.conj().T @ Veff.__array__() @ Unitary\n",
    "        if not np.allclose(vxc, M1):\n",
    "            raise ValueError('Veff in new basis NOT correct')\n",
    "    \n",
    "    output = lib.tag_array(vxc, ecoul=Veff.ecoul, exc=Veff.exc, vj=J, vk=K)\n",
    "    return output"
   ]
  },
  {
   "cell_type": "code",
   "execution_count": 87,
   "metadata": {},
   "outputs": [],
   "source": [
    "# Get_new_Veff(full_system_scf,\n",
    "#                U_new,\n",
    "#             check_result=True)"
   ]
  },
  {
   "cell_type": "code",
   "execution_count": 23,
   "metadata": {},
   "outputs": [],
   "source": [
    "# from pyscf.dft import numint\n",
    "# # manual version of\n",
    "# # https://pyscf.org/_modules/pyscf/dft/dks.html#DKS.x2c1e\n",
    "# nelec, exc, vxc = numint.nr_vxc(test_full_system_scf.mol,\n",
    "#                                     test_full_system_scf.grids,\n",
    "#                                     test_full_system_scf.xc,\n",
    "#                                     dm_loc)\n",
    "\n",
    "# J= test_full_system_scf.get_j(test_full_system_scf.mol, dm_loc)\n",
    "# vxc += J\n",
    "# vxc\n",
    "\n",
    "# Veff = RKS_get_veff(test_full_system_scf, dm=dm_loc)\n",
    "# np.allclose(Veff.__array__(), vxc)"
   ]
  },
  {
   "cell_type": "code",
   "execution_count": 24,
   "metadata": {},
   "outputs": [],
   "source": [
    "# Veff = RKS_get_veff(test_full_system_scf, dm=dm_loc)\n",
    "# Veff_rot = U_new.conj().T @ Veff.__array__() @ U_new\n",
    "\n",
    "# test = Get_new_Veff(test_full_system_scf, U_new)\n",
    "# np.allclose(test, Veff_rot)"
   ]
  },
  {
   "cell_type": "code",
   "execution_count": null,
   "metadata": {},
   "outputs": [],
   "source": []
  },
  {
   "cell_type": "code",
   "execution_count": 1134,
   "metadata": {},
   "outputs": [
    {
     "data": {
      "text/plain": [
       "-39.616842415243866"
      ]
     },
     "execution_count": 1134,
     "metadata": {},
     "output_type": "execute_result"
    }
   ],
   "source": [
    "# Run global calculation with this localization\n",
    "\n",
    "test_full_system_scf = scf.RKS(full_system_mol)\n",
    "test_full_system_scf.verbose= pyscf_print_level\n",
    "test_full_system_scf.max_memory= memory\n",
    "test_full_system_scf.conv_tol = 1e-6\n",
    "test_full_system_scf.xc = low_level_xc_functional\n",
    "\n",
    "\n",
    "Hcore_std = test_full_system_scf.get_hcore()\n",
    "test_full_system_scf.get_hcore = lambda *args: Get_new_Hcore(Hcore_std, \n",
    "                                                             Unitary_rot=U_new)\n",
    "\n",
    "# test_full_system_scf.get_veff = lambda dm=None,*args: Get_new_Veff(test_full_system_scf,\n",
    "#                                                            U_new,\n",
    "#                                                             dm=dm)\n",
    "test_full_system_scf.get_veff = lambda mol=None, dm=None, dm_last=0, vhf_last=0, hermi=1: Get_new_Veff(\n",
    "                                                                                    test_full_system_scf,\n",
    "                                                                                       U_new,\n",
    "                                                                                        dm=dm)\n",
    "\n",
    "\n",
    "test_full_system_scf.mo_coeff = C_all_localized_and_virt\n",
    "test_full_system_scf.mo_occ = full_system_scf.mo_occ\n",
    "\n",
    "test_full_system_scf.energy_tot()"
   ]
  },
  {
   "cell_type": "code",
   "execution_count": 93,
   "metadata": {},
   "outputs": [],
   "source": [
    "# test_full_system_scf.kernel() # <-- gives same result!"
   ]
  },
  {
   "cell_type": "code",
   "execution_count": 1135,
   "metadata": {
    "scrolled": true
   },
   "outputs": [
    {
     "name": "stdout",
     "output_type": "stream",
     "text": [
      "[[-9.57  0.    0.   -0.    0.    0.   -0.   -0.    0.  ]\n",
      " [ 0.   -0.58  0.   -0.    0.   -0.    0.    0.   -0.  ]\n",
      " [ 0.    0.   -0.3  -0.    0.    0.    0.    0.   -0.  ]\n",
      " [-0.   -0.   -0.   -0.3   0.    0.   -0.    0.    0.  ]\n",
      " [ 0.    0.    0.    0.   -0.3  -0.   -0.    0.   -0.  ]\n",
      " [ 0.   -0.    0.    0.   -0.    0.43  0.   -0.    0.  ]\n",
      " [-0.    0.    0.   -0.   -0.    0.    0.43  0.   -0.  ]\n",
      " [-0.    0.    0.    0.    0.   -0.    0.    0.43 -0.  ]\n",
      " [ 0.   -0.   -0.    0.   -0.    0.   -0.   -0.    0.47]]\n",
      "[[-9.57  0.    0.   -0.    0.    0.   -0.   -0.    0.  ]\n",
      " [ 0.   -0.58  0.   -0.    0.   -0.    0.    0.   -0.  ]\n",
      " [ 0.    0.   -0.3  -0.    0.    0.    0.    0.   -0.  ]\n",
      " [-0.   -0.   -0.   -0.3   0.    0.   -0.    0.    0.  ]\n",
      " [ 0.    0.    0.    0.   -0.3  -0.   -0.    0.   -0.  ]\n",
      " [ 0.   -0.    0.    0.   -0.    0.43  0.   -0.    0.  ]\n",
      " [-0.    0.    0.   -0.   -0.    0.    0.43  0.   -0.  ]\n",
      " [-0.    0.    0.    0.    0.   -0.    0.    0.43 -0.  ]\n",
      " [ 0.   -0.   -0.    0.   -0.    0.   -0.   -0.    0.47]]\n"
     ]
    }
   ],
   "source": [
    "F = test_full_system_scf.get_hcore() + test_full_system_scf.get_veff(dm_loc) # Note this is now in new basis!\n",
    "\n",
    "print(np.around(C_all_localized_and_virt.conj().T @ F @ C_all_localized_and_virt, 2))\n",
    "print(np.around(test_full_system_scf.mo_coeff.conj().T @ F @ test_full_system_scf.mo_coeff, 2))"
   ]
  },
  {
   "cell_type": "code",
   "execution_count": null,
   "metadata": {},
   "outputs": [],
   "source": []
  },
  {
   "cell_type": "code",
   "execution_count": null,
   "metadata": {},
   "outputs": [],
   "source": []
  },
  {
   "cell_type": "code",
   "execution_count": 32,
   "metadata": {},
   "outputs": [],
   "source": [
    "# # Draw active orbitals\n",
    "\n",
    "# list_active_orbitals = vqe_in_dft.Draw_cube_orbital(full_system_scf,\n",
    "#                              xyz_string,\n",
    "#                              C_all_localized, \n",
    "#                              active_MO_inds,\n",
    "#                              width=400, \n",
    "#                              height=400, \n",
    "#                              jupyter_notebook=True)\n",
    "\n",
    "# list_enviro_orbitals = vqe_in_dft.Draw_cube_orbital(full_system_scf,\n",
    "#                              xyz_string,\n",
    "#                              C_all_localized, \n",
    "#                              enviro_MO_inds,\n",
    "#                              width=400, \n",
    "#                              height=400, \n",
    "#                              jupyter_notebook=True)"
   ]
  },
  {
   "cell_type": "code",
   "execution_count": 33,
   "metadata": {},
   "outputs": [],
   "source": [
    "# list_active_orbitals[0]"
   ]
  },
  {
   "cell_type": "code",
   "execution_count": 34,
   "metadata": {},
   "outputs": [],
   "source": [
    "# list_enviro_orbitals[0]"
   ]
  },
  {
   "cell_type": "code",
   "execution_count": null,
   "metadata": {},
   "outputs": [],
   "source": []
  },
  {
   "cell_type": "code",
   "execution_count": null,
   "metadata": {},
   "outputs": [],
   "source": []
  },
  {
   "cell_type": "code",
   "execution_count": 1136,
   "metadata": {},
   "outputs": [
    {
     "name": "stdout",
     "output_type": "stream",
     "text": [
      "N_active_elec + N_environment_elec = N_total_elec is: True\n",
      "y_active + y_enviro = y_total is: True\n"
     ]
    }
   ],
   "source": [
    "dm_active, dm_enviro = vqe_in_dft.Get_active_and_envrio_dm(\n",
    "                                                full_system_scf,\n",
    "                                                C_active, \n",
    "                                                C_envrio, \n",
    "                                                C_all_localized, \n",
    "                                                sanity_check=True)"
   ]
  },
  {
   "cell_type": "code",
   "execution_count": null,
   "metadata": {},
   "outputs": [],
   "source": []
  },
  {
   "cell_type": "code",
   "execution_count": 1137,
   "metadata": {},
   "outputs": [],
   "source": [
    "# use active density\n",
    "E_act, J_act, K_act, e_xc_act, v_xc_act = vqe_in_dft.Get_energy_and_matrices_from_dm( full_system_scf, \n",
    "                                                                             dm_active, # <- ACTIVE\n",
    "                                                                             check_E_with_pyscf=True)"
   ]
  },
  {
   "cell_type": "code",
   "execution_count": 1138,
   "metadata": {},
   "outputs": [],
   "source": [
    "# use enviro density\n",
    "E_env, J_env, K_env, e_xc_env, v_xc_env = vqe_in_dft.Get_energy_and_matrices_from_dm(\n",
    "                                                                            full_system_scf,\n",
    "                                                                             dm_enviro, # <- ENVIRO\n",
    "                                                                             check_E_with_pyscf=True)"
   ]
  },
  {
   "cell_type": "code",
   "execution_count": null,
   "metadata": {},
   "outputs": [],
   "source": []
  },
  {
   "cell_type": "code",
   "execution_count": 1139,
   "metadata": {},
   "outputs": [],
   "source": [
    "# cross terms!\n",
    "two_e_cross = vqe_in_dft.Get_cross_terms(full_system_scf, \n",
    "                                         dm_active, \n",
    "                                         dm_enviro, \n",
    "                                         J_env, \n",
    "                                         J_act, \n",
    "                                         e_xc_act,\n",
    "                                         e_xc_env)"
   ]
  },
  {
   "cell_type": "code",
   "execution_count": 1140,
   "metadata": {},
   "outputs": [
    {
     "name": "stdout",
     "output_type": "stream",
     "text": [
      "E_active: -42.315152602312864\n",
      "E_enviro: -23.33010454223416\n",
      "E_cross: 12.555571752852165\n"
     ]
    }
   ],
   "source": [
    "print(f'E_active: {E_act}')\n",
    "print(f'E_enviro: {E_env}')\n",
    "print(f'E_cross: {two_e_cross}')"
   ]
  },
  {
   "cell_type": "code",
   "execution_count": 1154,
   "metadata": {},
   "outputs": [
    {
     "data": {
      "text/plain": [
       "9.855419316820768"
      ]
     },
     "execution_count": 1154,
     "metadata": {},
     "output_type": "execute_result"
    }
   ],
   "source": [
    "np.trace(S_mat@dm_enviro_prime)"
   ]
  },
  {
   "cell_type": "code",
   "execution_count": 1209,
   "metadata": {},
   "outputs": [],
   "source": [
    "# S_minus_half = sp.linalg.fractional_matrix_power(S_mat, -0.5)\n",
    "# S_minus_plus = sp.linalg.fractional_matrix_power(S_mat, 0.5)\n",
    "# test = S_minus_plus@ C_envrio\n",
    "# print(test[:,0] @ test[:,0] )\n",
    "# print(test[:,0] @ test[:,1])"
   ]
  },
  {
   "cell_type": "code",
   "execution_count": 1212,
   "metadata": {},
   "outputs": [
    {
     "data": {
      "text/plain": [
       "True"
      ]
     },
     "execution_count": 1212,
     "metadata": {},
     "output_type": "execute_result"
    }
   ],
   "source": [
    "# S_minus_half = sp.linalg.fractional_matrix_power(S_mat, -0.5)\n",
    "# np.allclose(S_minus_half.conj().T, S_minus_half) # Udagger = U!!!!"
   ]
  },
  {
   "cell_type": "code",
   "execution_count": 1384,
   "metadata": {},
   "outputs": [
    {
     "name": "stdout",
     "output_type": "stream",
     "text": [
      "False\n",
      "[ 0.05164124 -0.4065357   0.72909133  0.0366494  -0.13111432 -0.00957735\n",
      " -0.00957311 -0.00958802 -0.79635844]\n",
      "[ 0.04440458 -0.34956588  0.62691974  0.03151355 -0.11274055 -0.00823502\n",
      " -0.00823139 -0.00824426 -0.68476017]\n"
     ]
    }
   ],
   "source": [
    "Fock = test_full_system_scf.get_hcore() + test_full_system_scf.get_veff(dm=dm_active + dm_enviro)\n",
    "\n",
    "S_minus_half = sp.linalg.fractional_matrix_power(S_mat, -0.5)\n",
    "S_plus_half = sp.linalg.fractional_matrix_power(S_mat, 0.5)\n",
    "\n",
    "Fock_prime = S_minus_half  @ Fock @ S_minus_half \n",
    "C_enviro_prime = S_plus_half@ C_envrio\n",
    "dm_enviro_prime = 2* C_enviro_prime@C_enviro_prime.conj().T\n",
    "S_prime =  S_minus_half  @ S_mat @ S_minus_half\n",
    "\n",
    "F_gammaB_S = Fock_prime @ dm_enviro_prime @ S_prime #@ np.eye(Fock_prime.shape[0]) #S_mat\n",
    "# F_gammaB_S = S_half@ F_gammaB_S  @  S_neg_half\n",
    "projector = -0.5 * (F_gammaB_S + F_gammaB_S.T)\n",
    "# projector =  S_neg_half @ projector @  S_half\n",
    "print(np.allclose(projector @ C_enviro_prime[:,enviro_MO_inds[0]],\n",
    "                  C_enviro_prime[:,enviro_MO_inds[0]]))\n",
    "\n",
    "print(projector @ C_enviro_prime[:,0])\n",
    "print(C_enviro_prime[:,0])"
   ]
  },
  {
   "cell_type": "code",
   "execution_count": 1395,
   "metadata": {},
   "outputs": [
    {
     "data": {
      "text/plain": [
       "array([[ 0.35745999, -1.29139067,  0.38116561,  0.12169364,  0.71785791,\n",
       "        -0.01027517, -0.8900429 , -0.8899861 , -0.86709379],\n",
       "       [-1.29139067, -1.82191607,  0.74205029,  0.12197513,  0.51595037,\n",
       "        -0.20140987, -0.92544636, -0.92541274, -1.3587557 ],\n",
       "       [ 0.38116561,  0.74205029, -1.45978159,  0.0163266 ,  0.40594324,\n",
       "         0.09042784, -0.03476891, -0.1254807 ,  1.55686066],\n",
       "       [ 0.12169364,  0.12197513,  0.0163266 , -0.94922428,  0.0977122 ,\n",
       "         0.01714202, -0.55976695,  0.67126731,  0.09312201],\n",
       "       [ 0.71785791,  0.51595037,  0.40594324,  0.0977122 , -0.44323507,\n",
       "         0.08043358,  0.55291127,  0.39237031, -0.16588118],\n",
       "       [-0.01027517, -0.20140987,  0.09042784,  0.01714202,  0.08043358,\n",
       "        -0.0084755 , -0.11656897, -0.1165489 , -0.16043355],\n",
       "       [-0.8900429 , -0.92544636, -0.03476891, -0.55976695,  0.55291127,\n",
       "        -0.11656897, -1.02898083, -0.22465557, -0.2879706 ],\n",
       "       [-0.8899861 , -0.92541274, -0.1254807 ,  0.67126731,  0.39237031,\n",
       "        -0.1165489 , -0.22465557, -1.02898431, -0.28797509],\n",
       "       [-0.86709379, -1.3587557 ,  1.55686066,  0.09312201, -0.16588118,\n",
       "        -0.16043355, -0.2879706 , -0.28797509, -1.88632064]])"
      ]
     },
     "execution_count": 1395,
     "metadata": {},
     "output_type": "execute_result"
    }
   ],
   "source": [
    "Pb = dm_enviro_prime @ S_prime # identity\n",
    "\n",
    "PROJEC = Fock@Pb+Pb@Fock\n",
    "\n",
    "PROJEC"
   ]
  },
  {
   "cell_type": "code",
   "execution_count": 1366,
   "metadata": {},
   "outputs": [
    {
     "name": "stdout",
     "output_type": "stream",
     "text": [
      "0.5814869911162097\n",
      "-0.5814869911162092\n"
     ]
    }
   ],
   "source": [
    "print(C_enviro_prime[:,0].conj().T @ projector/2 @ C_enviro_prime[:,0])\n",
    "print(C_enviro_prime[:,0].conj().T @ Fock_prime @ C_enviro_prime[:,0])"
   ]
  },
  {
   "cell_type": "code",
   "execution_count": 1396,
   "metadata": {},
   "outputs": [],
   "source": [
    "# Fock_A = test_full_system_scf.get_hcore() + test_full_system_scf.get_veff(dm=dm_active)\n",
    "# Fock_A_prime = S_minus_half  @ Fock_A @ S_minus_half \n",
    "# np.around(Fock_A_prime@projector - projector@Fock_A_prime, 3)"
   ]
  },
  {
   "cell_type": "code",
   "execution_count": 1378,
   "metadata": {},
   "outputs": [
    {
     "name": "stdout",
     "output_type": "stream",
     "text": [
      "-0.18329221848743532\n",
      "-0.30273108403927984\n",
      "\n",
      "0.302731084039282\n",
      "2.1310549844747682e-15\n"
     ]
    }
   ],
   "source": [
    "F_P = projector@Fock_prime\n",
    "\n",
    "ind=2\n",
    "print(C_enviro_prime[:,ind].conj().T @F_P@C_enviro_prime[:,ind])\n",
    "print(C_enviro_prime[:,ind].conj().T @Fock_prime@C_enviro_prime[:,ind])\n",
    "print()\n",
    "print(C_enviro_prime[:,ind].conj().T @(Fock_prime+projector)@C_enviro_prime[:,ind])\n",
    "print(C_enviro_prime[:,ind].conj().T @(2*Fock_prime+projector)@C_enviro_prime[:,ind]) # 2F_full - F_b = F_a only!"
   ]
  },
  {
   "cell_type": "code",
   "execution_count": 1340,
   "metadata": {},
   "outputs": [
    {
     "name": "stdout",
     "output_type": "stream",
     "text": [
      "[-0.05375973  0.42327873  0.23768675 -0.66175388 -0.31944016  0.00995204\n",
      "  0.00997726  0.82920933  0.00995801]\n",
      "[-0.04439474  0.34954318  0.19628099 -0.54647564 -0.26379311  0.00821837\n",
      "  0.00823945  0.68476052  0.00822285]\n"
     ]
    }
   ],
   "source": [
    "print(2*projector@C_enviro_prime[:,1])\n",
    "print(C_enviro_prime[:,1])"
   ]
  },
  {
   "cell_type": "code",
   "execution_count": null,
   "metadata": {},
   "outputs": [],
   "source": []
  },
  {
   "cell_type": "code",
   "execution_count": 1335,
   "metadata": {},
   "outputs": [
    {
     "name": "stdout",
     "output_type": "stream",
     "text": [
      "[1 3 4]\n",
      "[0 2]\n",
      "\n",
      "-9.567630085625222\n",
      "-9.567630085625158\n"
     ]
    }
   ],
   "source": [
    "# projector[:,active_MO_inds] = np.zeros((Fock_prime.shape[0], len(active_MO_inds)))\n",
    "# print(projector[:,active_MO_inds])\n",
    "\n",
    "new_F = Fock_prime+projector\n",
    "\n",
    "# ind=2\n",
    "# print(C_enviro_prime[:,ind].conj().T @new_F@C_enviro_prime[:,ind])\n",
    "# print(C_envrio[:,ind].conj().T @Fock@C_envrio[:,ind])\n",
    "\n",
    "C_full_loc = S_plus_half @ C_all_localized_and_virt\n",
    "\n",
    "print(enviro_MO_inds)\n",
    "print(active_MO_inds)\n",
    "print()\n",
    "ind=0\n",
    "# print(C_full_loc[:,ind].conj().T @new_F@C_full_loc[:,ind])\n",
    "print(C_all_localized_and_virt[:,ind].conj().T @Fock@C_all_localized_and_virt[:,ind])\n",
    "\n",
    "print(C_full_loc[:,ind].conj().T @(new_F+Fock_prime)/2@C_full_loc[:,ind])"
   ]
  },
  {
   "cell_type": "code",
   "execution_count": 1218,
   "metadata": {},
   "outputs": [
    {
     "data": {
      "text/plain": [
       "array([ 0.04440458, -0.34956588,  0.62691974,  0.03151355, -0.11274055,\n",
       "       -0.00823502, -0.00823139, -0.00824426, -0.68476017])"
      ]
     },
     "execution_count": 1218,
     "metadata": {},
     "output_type": "execute_result"
    }
   ],
   "source": [
    "projector@C_enviro_prime[:,0]\n",
    "C_enviro_prime[:,0]"
   ]
  },
  {
   "cell_type": "markdown",
   "metadata": {},
   "source": [
    "# 4. Define V_embed"
   ]
  },
  {
   "cell_type": "markdown",
   "metadata": {},
   "source": [
    "$$h^{A_{\\text{act}} \\text{ in } B_{\\text{env}}} = h^{\\text{core}} + v^{\\text{embed}}$$\n",
    "\n",
    "$$v^{\\text{embed}} = g[\\gamma^{A_{\\text{act}}} + \\gamma^{B_{\\text{env}}} ] - g[\\gamma^{A_{\\text{act}}}] + P_{\\text{projector}}$$"
   ]
  },
  {
   "cell_type": "code",
   "execution_count": 1147,
   "metadata": {},
   "outputs": [
    {
     "name": "stdout",
     "output_type": "stream",
     "text": [
      "H core is standard H_core\n"
     ]
    }
   ],
   "source": [
    "# projector_method = 'huzinaga'\n",
    "projector_method = 'mu_shfit'\n",
    "\n",
    "V_embed  = vqe_in_dft.Get_embedded_potential_operator(projector_method, \n",
    "                                full_system_scf, \n",
    "                                dm_active, \n",
    "                                dm_enviro, \n",
    "                                check_Hcore_is_correct=True, \n",
    "                                mu_shift_val=1e6,\n",
    "                                check_Vemb=True)"
   ]
  },
  {
   "cell_type": "code",
   "execution_count": 1004,
   "metadata": {},
   "outputs": [],
   "source": [
    "projector_method = 'huzinaga'\n",
    "# projector_method = 'mu_shfit'\n",
    "# projector_method = 'manual'\n",
    "\n",
    "if projector_method == 'huzinaga':\n",
    "    Fock = test_full_system_scf.get_hcore() + test_full_system_scf.get_veff(dm=dm_active + dm_enviro)\n",
    "    F_gammaB_S = Fock @ dm_enviro @ S_mat\n",
    "    projector = -0.5 * (F_gammaB_S + F_gammaB_S.T)\n",
    "elif projector_method == 'mu_shfit':\n",
    "    mu = 1e6\n",
    "    projector = mu * (S_mat @ dm_enviro  @ S_mat)\n",
    "elif projector_method == 'manual':\n",
    "    ## manual projector\n",
    "    S_mat = full_system_scf.get_ovlp()\n",
    "    S_half = sp.linalg.fractional_matrix_power(full_system_scf.get_ovlp() , 0.5)\n",
    "    S_neg_half = sp.linalg.fractional_matrix_power(full_system_scf.get_ovlp() , -0.5)\n",
    "\n",
    "    Loc_Ortho = S_half@ C_all_localized_and_virt\n",
    "\n",
    "    PROJ_ortho = np.zeros_like(S_mat)\n",
    "    for MO_ind in range(C_all_localized_and_virt.shape[1]):\n",
    "        if MO_ind in enviro_MO_inds:\n",
    "            outer = np.outer(Loc_Ortho[:, MO_ind], Loc_Ortho[:, MO_ind])\n",
    "            PROJ_ortho+=outer\n",
    "        else:\n",
    "            continue\n",
    "#     print(np.allclose(PROJ_ortho @ Loc_Ortho[:,enviro_MO_inds[0]], Loc_Ortho[:,enviro_MO_inds[0]]))\n",
    "    # convert to localized basis (rather than ortho one)\n",
    "    PROJ_bas = S_neg_half@ PROJ_ortho  @ S_half\n",
    "    projector = PROJ_bas\n",
    "#     print(np.allclose(PROJ_bas @ C_all_localized_and_virt[:,enviro_MO_inds[0]],\n",
    "#                   C_all_localized_and_virt[:,enviro_MO_inds[0]]))\n",
    "else:\n",
    "    raise ValueError(f'Unknown projection method {projector_method}')\n",
    "\n",
    "g_A_and_B = test_full_system_scf.get_veff(dm=dm_active+dm_enviro)\n",
    "\n",
    "g_A = test_full_system_scf.get_veff(dm=dm_active)\n",
    "\n",
    "v_emb = g_A_and_B - g_A + projector"
   ]
  },
  {
   "cell_type": "code",
   "execution_count": 1148,
   "metadata": {},
   "outputs": [
    {
     "name": "stdout",
     "output_type": "stream",
     "text": [
      "Trace(y_ENV @ PB): 3.632404977305761\n",
      "Trace(y_act @ PB): 0.0005091488532069561\n",
      "\n",
      "Trace(y_ENV @ v_emb): 19.3975480057572\n",
      "Trace(y_act @ v_emb): 13.221613023635099\n"
     ]
    }
   ],
   "source": [
    "print('Trace(y_ENV @ PB):', np.einsum('ij, ij', dm_enviro, projector) )\n",
    "print('Trace(y_act @ PB):', np.einsum('ij, ij', dm_active, projector) )\n",
    "print()\n",
    "print('Trace(y_ENV @ v_emb):', np.einsum('ij, ij', dm_enviro, v_emb) )\n",
    "print('Trace(y_act @ v_emb):', np.einsum('ij, ij', dm_active, v_emb) )"
   ]
  },
  {
   "cell_type": "code",
   "execution_count": 667,
   "metadata": {},
   "outputs": [],
   "source": [
    "# Fock = test_full_system_scf.get_hcore() + test_full_system_scf.get_veff(dm=dm_active + dm_enviro)\n",
    "\n",
    "# Fock_prime = S_half  @ Fock @ S_neg_half \n",
    "\n",
    "# F_gammaB_S = Fock_prime @ dm_enviro @ np.eye(Fock_prime.shape[0]) #S_mat\n",
    "# # F_gammaB_S = S_half@ F_gammaB_S  @  S_neg_half\n",
    "# projector = -0.5 * (F_gammaB_S + F_gammaB_S.T)\n",
    "# projector =  S_neg_half @ projector @  S_half\n",
    "# print(np.allclose(projector @ C_all_localized_and_virt[:,enviro_MO_inds[0]],\n",
    "#                   C_all_localized_and_virt[:,enviro_MO_inds[0]]))\n",
    "\n",
    "# projector @ C_all_localized_and_virt[:,1]"
   ]
  },
  {
   "cell_type": "code",
   "execution_count": 805,
   "metadata": {},
   "outputs": [
    {
     "data": {
      "text/plain": [
       "array([-0.11996065,  4.28857378,  3.68736273,  1.12293277,  6.52589569,\n",
       "        8.43963126,  0.68317498,  0.68327254,  0.68326116])"
      ]
     },
     "execution_count": 805,
     "metadata": {},
     "output_type": "execute_result"
    }
   ],
   "source": [
    "Fock_prime@Loc_Ortho[:,0]\n",
    "Fock@C_all_localized_and_virt[:,0]"
   ]
  },
  {
   "cell_type": "code",
   "execution_count": null,
   "metadata": {},
   "outputs": [],
   "source": []
  },
  {
   "cell_type": "code",
   "execution_count": 1032,
   "metadata": {},
   "outputs": [
    {
     "name": "stdout",
     "output_type": "stream",
     "text": [
      "True\n",
      "True\n",
      "-0.4253512438498605\n",
      "0.4253512438498599\n",
      "-0.30273108403927906\n"
     ]
    }
   ],
   "source": [
    "Loc_Ortho = S_half@ C_all_localized_and_virt #@ S_neg_half\n",
    "Loc_Ortho[:,0].dot(Loc_Ortho[:,3])\n",
    "\n",
    "Fock_prime = Fock @ S_neg_half\n",
    "S_prime =  S_mat @ S_neg_half\n",
    "\n",
    "ind=2\n",
    "print(np.allclose(Fock_prime@ Loc_Ortho[:, ind],\n",
    "                 Fock@ C_all_localized_and_virt[:, ind]))\n",
    "\n",
    "PROJ_ortho = np.zeros_like(S_mat)\n",
    "for MO_ind in range(C_all_localized_and_virt.shape[1]):\n",
    "    if MO_ind in enviro_MO_inds:\n",
    "        outer_proj = np.outer(Loc_Ortho[:, MO_ind], Loc_Ortho[:, MO_ind])\n",
    "        PROJ_ortho+= outer_proj\n",
    "    else:\n",
    "        continue\n",
    "\n",
    "print(np.allclose(PROJ_ortho@Loc_Ortho[:,ind] , Loc_Ortho[:,ind]))\n",
    "P_I = -1 * (Fock_prime@PROJ_ortho + PROJ_ortho@Fock_prime)\n",
    "\n",
    "ind= enviro_MO_inds[2]\n",
    "print(Loc_Ortho[:,ind].conj().T @ (Fock_prime)@Loc_Ortho[:,ind])\n",
    "print(Loc_Ortho[:,ind].conj().T @ (Fock_prime+P_I)@Loc_Ortho[:,ind])\n",
    "\n",
    "P_I_std_basis = P_I@ S_half\n",
    "\n",
    "print(Loc_Ortho[:,ind].conj().T @ S_neg_half.conj().T @ (Fock_prime@ S_half)@ S_neg_half@ Loc_Ortho[:,ind])"
   ]
  },
  {
   "cell_type": "code",
   "execution_count": 1049,
   "metadata": {},
   "outputs": [
    {
     "data": {
      "text/plain": [
       "array([[ 6.54477267e-02, -9.90284045e-01,  1.58619150e-06,\n",
       "        -1.59310116e-06, -8.05421905e-02, -2.06049827e-05,\n",
       "        -2.49389833e-05,  1.81168682e-05, -9.25584061e-02],\n",
       "       [-3.34166984e-01, -1.37610176e-01, -4.34855892e-06,\n",
       "         1.18550945e-05,  6.12073242e-01,  1.56756925e-04,\n",
       "         1.81981980e-04, -1.43584567e-04,  7.03393300e-01],\n",
       "       [-3.13772381e-01, -6.68307781e-03, -6.37186364e-01,\n",
       "        -8.91385122e-02, -1.72804833e-01,  4.68419638e-02,\n",
       "         5.60718731e-01, -3.75617971e-01, -2.38623676e-04],\n",
       "       [-9.55588728e-02, -2.03508129e-03, -4.03758688e-02,\n",
       "         7.27168600e-01, -5.26370114e-02,  6.74898142e-01,\n",
       "        -3.73992721e-02,  2.83389182e-02, -1.40288803e-04],\n",
       "       [-5.55311710e-01, -1.18248883e-02,  3.66981674e-01,\n",
       "        -7.47660779e-02, -3.05823023e-01,  2.72074394e-03,\n",
       "        -3.76674756e-01, -5.61964915e-01, -2.56770827e-05],\n",
       "       [-6.84173459e-01, -1.45710530e-02,  3.05692196e-06,\n",
       "        -5.54797604e-06,  2.81689535e-02, -1.18032659e-01,\n",
       "         5.37074900e-02,  6.24498611e-01, -3.52258647e-01],\n",
       "       [ 2.29391771e-15, -7.81723834e-16, -3.02290310e-01,\n",
       "         4.62333301e-01,  4.04931743e-01, -4.89125548e-01,\n",
       "        -2.94788142e-01, -2.84042271e-01, -3.52242685e-01],\n",
       "       [ 1.55844696e-16, -6.37583950e-16, -2.49250582e-01,\n",
       "        -4.92950502e-01,  4.04939197e-01,  5.32554635e-01,\n",
       "        -3.39843459e-01, -8.71686159e-02, -3.52408587e-01],\n",
       "       [ 1.15005665e-15, -9.40487114e-16,  5.51527419e-01,\n",
       "         3.06252725e-02,  4.04945004e-01,  7.43031004e-02,\n",
       "         5.80546100e-01, -2.53034709e-01, -3.52587371e-01]])"
      ]
     },
     "execution_count": 1049,
     "metadata": {},
     "output_type": "execute_result"
    }
   ],
   "source": [
    "(S_half @ C_all_localized_and_virt)"
   ]
  },
  {
   "cell_type": "code",
   "execution_count": null,
   "metadata": {},
   "outputs": [],
   "source": []
  },
  {
   "cell_type": "code",
   "execution_count": 1062,
   "metadata": {},
   "outputs": [
    {
     "name": "stdout",
     "output_type": "stream",
     "text": [
      "6.730727086790012e-16\n",
      "-0.4253512438498605\n",
      "-0.30273108403927984\n"
     ]
    }
   ],
   "source": [
    "Loc_Ortho = S_half@ C_all_localized_and_virt \n",
    "\n",
    "print(Loc_Ortho[:,0].dot(Loc_Ortho[:,1]))\n",
    "\n",
    "# Fock_prime = S_half.conj().T @ Fock @ S_half\n",
    "Fock_prime =  Fock @ S_neg_half \n",
    "\n",
    "print(Loc_Ortho[:,ind].conj().T @ Fock_prime@ Loc_Ortho[:,ind])\n",
    "print(C_all_localized_and_virt[:,ind].conj().T @ Fock@ C_all_localized_and_virt[:,ind])\n",
    "\n",
    "# S_prime =  S_mat @ S_neg_half\n",
    "\n",
    "# ind=2\n",
    "# print(np.allclose(Fock_prime@ Loc_Ortho[:, ind],\n",
    "#                  Fock@ C_all_localized_and_virt[:, ind]))\n",
    "\n",
    "# PROJ_ortho = np.zeros_like(S_mat)\n",
    "# for MO_ind in range(C_all_localized_and_virt.shape[1]):\n",
    "#     if MO_ind in enviro_MO_inds:\n",
    "#         outer_proj = np.outer(Loc_Ortho[:, MO_ind], Loc_Ortho[:, MO_ind])\n",
    "#         PROJ_ortho+= outer_proj\n",
    "#     else:\n",
    "#         continue\n",
    "\n",
    "# print(np.allclose(PROJ_ortho@Loc_Ortho[:,ind] , Loc_Ortho[:,ind]))\n",
    "# P_I = -1 * (Fock_prime@PROJ_ortho + PROJ_ortho@Fock_prime)\n",
    "\n",
    "# ind= enviro_MO_inds[2]\n",
    "# print(Loc_Ortho[:,ind].conj().T @ (Fock_prime)@Loc_Ortho[:,ind])\n",
    "# print(Loc_Ortho[:,ind].conj().T @ (Fock_prime+P_I)@Loc_Ortho[:,ind])\n",
    "\n",
    "# P_I_std_basis = P_I@ S_half\n",
    "\n",
    "# print(Loc_Ortho[:,ind].conj().T @ S_neg_half.conj().T @ (Fock_prime@ S_half)@ S_neg_half@ Loc_Ortho[:,ind])"
   ]
  },
  {
   "cell_type": "code",
   "execution_count": 1022,
   "metadata": {},
   "outputs": [
    {
     "name": "stdout",
     "output_type": "stream",
     "text": [
      "True\n",
      "-0.30276034511375205\n",
      "0.2512797583296862\n"
     ]
    }
   ],
   "source": [
    "# Loc_Ortho = S_half@ C_all_localized_and_virt #@ S_neg_half\n",
    "# Loc_Ortho[:,0].dot(Loc_Ortho[:,3])\n",
    "\n",
    "# Fock_prime = Fock @ S_neg_half\n",
    "# S_prime =  S_mat @ S_neg_half\n",
    "\n",
    "# ind=2\n",
    "# print(np.allclose(Fock_prime@ Loc_Ortho[:, ind],\n",
    "#                  Fock@ C_all_localized_and_virt[:, ind]))\n",
    "\n",
    "# PROJ_ortho = np.zeros_like(S_mat)\n",
    "# for MO_ind in range(C_all_localized_and_virt.shape[1]):\n",
    "#     if MO_ind in enviro_MO_inds:\n",
    "#         outer_proj = np.outer(C_all_localized_and_virt[:, MO_ind], C_all_localized_and_virt[:, MO_ind])\n",
    "#         PROJ_ortho+= outer_proj\n",
    "#     else:\n",
    "#         continue\n",
    "\n",
    "# # print(np.allclose(PROJ_ortho@Loc_Ortho[:,ind] , Loc_Ortho[:,ind]))\n",
    "# P_I = -1 * (Fock@S_half@PROJ_ortho@S_half.conj().T \n",
    "#             +\n",
    "#            S_half@PROJ_ortho@S_half.conj().T @ Fock @ S_neg_half)\n",
    "\n",
    "# ind=2\n",
    "# print(C_all_localized_and_virt[:,ind].conj().T @ (Fock)@C_all_localized_and_virt[:,ind])\n",
    "# print(C_all_localized_and_virt[:,ind].conj().T @ (Fock+P_I)@C_all_localized_and_virt[:,ind])"
   ]
  },
  {
   "cell_type": "code",
   "execution_count": 1009,
   "metadata": {},
   "outputs": [
    {
     "data": {
      "text/plain": [
       "False"
      ]
     },
     "execution_count": 1009,
     "metadata": {},
     "output_type": "execute_result"
    }
   ],
   "source": [
    "FP=Fock_prime@PROJ_ortho \n",
    "np.allclose(FP.T,\n",
    "            PROJ_ortho@Fock_prime)"
   ]
  },
  {
   "cell_type": "code",
   "execution_count": 1589,
   "metadata": {},
   "outputs": [
    {
     "name": "stdout",
     "output_type": "stream",
     "text": [
      "True\n",
      "-0.3027371023867038\n",
      "0.6252937651309689\n",
      "\n",
      "0.6555320468531479\n",
      "0.6555320468531468\n",
      "\n",
      "0.322556662744265\n",
      "-0.3027371023867038\n"
     ]
    }
   ],
   "source": [
    "# Fock = test_full_system_scf.get_hcore() + test_full_system_scf.get_veff(dm=dm_active + dm_enviro)\n",
    "# projector = (S_mat @ dm_enviro  @ S_mat)\n",
    "# huzinaga = -1*(C_all_localized_and_virt.conj().T @ (Fock@projector + projector@Fock) @ C_all_localized_and_virt)\n",
    "\n",
    "# Fock_A = test_full_system_scf.get_hcore() + test_full_system_scf.get_veff(dm=dm_active)\n",
    "\n",
    "# ind=3\n",
    "# print(C_all_localized_and_virt[:,ind].conj().T @ (Fock)@C_all_localized_and_virt[:,ind])\n",
    "# print(C_all_localized_and_virt[:,ind].conj().T @ (Fock+huzinaga)@C_all_localized_and_virt[:,ind])\n",
    "\n",
    "# Fock_A@huzinaga - huzinaga@Fock_A\n",
    "\n",
    "\n",
    "##########\n",
    "\n",
    "# mu = 1e6\n",
    "# projector = (S_mat @ dm_enviro  @ S_mat)\n",
    "\n",
    "# print(projector@C_all_localized_and_virt[:,0])\n",
    "# print(C_all_localized_and_virt[:,0])\n",
    "\n",
    "S_mat = full_system_scf.get_ovlp()\n",
    "S_half = sp.linalg.fractional_matrix_power(full_system_scf.get_ovlp() , 0.5)\n",
    "S_neg_half = sp.linalg.fractional_matrix_power(full_system_scf.get_ovlp() , -0.5)\n",
    "\n",
    "Loc_Ortho = S_half@ C_all_localized_and_virt\n",
    "\n",
    "PROJ_ortho = np.zeros_like(S_mat)\n",
    "for MO_ind in range(C_all_localized_and_virt.shape[1]):\n",
    "    if MO_ind in enviro_MO_inds:\n",
    "        outer = np.outer(Loc_Ortho[:, MO_ind], Loc_Ortho[:, MO_ind])\n",
    "        PROJ_ortho+=outer\n",
    "    else:\n",
    "        continue\n",
    "#     print(np.allclose(PROJ_ortho @ Loc_Ortho[:,enviro_MO_inds[0]], Loc_Ortho[:,enviro_MO_inds[0]]))\n",
    "# convert to localized basis (rather than ortho one)\n",
    "PROJ_bas = S_neg_half@ PROJ_ortho  @ S_half\n",
    "projector = PROJ_bas\n",
    "print(np.allclose(PROJ_bas @ C_all_localized_and_virt[:,enviro_MO_inds[1]],\n",
    "              C_all_localized_and_virt[:,enviro_MO_inds[1]]))\n",
    "\n",
    "\n",
    "# huzinaga = -1*(C_all_localized_and_virt.conj().T @ (Fock@projector + projector@Fock) @ C_all_localized_and_virt)\n",
    "huzinaga = -(Fock@projector + projector@Fock)\n",
    "\n",
    "ind=3\n",
    "print(C_all_localized_and_virt[:,ind].conj().T @ (Fock)@C_all_localized_and_virt[:,ind])\n",
    "print(C_all_localized_and_virt[:,ind].conj().T @ (huzinaga)@C_all_localized_and_virt[:,ind])\n",
    "print()\n",
    "print(C_all_localized_and_virt[:,ind].conj().T @ (projector)@C_all_localized_and_virt[:,ind])\n",
    "print(C_all_localized_and_virt[:,ind].conj().T @ C_all_localized_and_virt[:,ind])\n",
    "\n",
    "print()\n",
    "# Proj_Fock = -1*(Fock@projector) + Fock\n",
    "Proj_Fock = -1*(projector@Fock + Fock@projector) + Fock\n",
    "\n",
    "print(C_all_localized_and_virt[:,ind].conj().T @ (Proj_Fock)@C_all_localized_and_virt[:,ind])\n",
    "print(C_all_localized_and_virt[:,ind].conj().T @ (Fock)@C_all_localized_and_virt[:,ind])"
   ]
  },
  {
   "cell_type": "code",
   "execution_count": 1622,
   "metadata": {},
   "outputs": [],
   "source": [
    "# PROJ_ortho_new[:,1].conj().T @ PROJ_ortho_new[:,3]"
   ]
  },
  {
   "cell_type": "code",
   "execution_count": 1651,
   "metadata": {},
   "outputs": [
    {
     "name": "stdout",
     "output_type": "stream",
     "text": [
      "True\n",
      "[[-9.57  0.    0.   -0.    0.    0.   -0.   -0.    0.  ]\n",
      " [ 0.    0.    0.   -0.    0.   -0.    0.    0.   -0.  ]\n",
      " [ 0.    0.   -0.3  -0.    0.    0.    0.    0.   -0.  ]\n",
      " [-0.   -0.   -0.    0.   -0.    0.   -0.    0.    0.  ]\n",
      " [ 0.    0.    0.   -0.    0.   -0.   -0.    0.   -0.  ]\n",
      " [ 0.   -0.    0.    0.   -0.    0.43  0.   -0.    0.  ]\n",
      " [-0.    0.    0.   -0.   -0.    0.    0.43  0.   -0.  ]\n",
      " [-0.    0.    0.    0.    0.   -0.    0.    0.43 -0.  ]\n",
      " [ 0.   -0.   -0.    0.   -0.    0.   -0.   -0.    0.47]]\n",
      "\n",
      "[ 0.   -0.58 -0.   -0.3  -0.3   0.    0.    0.    0.  ]\n",
      "[-9.57 -0.58 -0.3  -0.3  -0.3   0.43  0.43  0.43  0.47]\n",
      "[-9.57  0.   -0.3   0.    0.    0.43  0.43  0.43  0.47]\n",
      "[[ 0.581  0.    -0.   ]\n",
      " [ 0.     0.303 -0.   ]\n",
      " [-0.    -0.     0.303]]\n",
      "[[-0.581 -0.     0.   ]\n",
      " [-0.    -0.303  0.   ]\n",
      " [ 0.     0.    -0.303]]\n"
     ]
    }
   ],
   "source": [
    "print(np.allclose(PROJ_ortho@Loc_Ortho[:, 1],\n",
    "           Loc_Ortho[:, 1]))\n",
    "\n",
    "# PROJ_ortho_new = PROJ_ortho.copy()\n",
    "# PROJ_ortho_new[:, active_MO_inds] = np.zeros_like(C_active)\n",
    "\n",
    "S_minus_half = sp.linalg.fractional_matrix_power(S_mat, -0.5)\n",
    "S_plus_half = sp.linalg.fractional_matrix_power(S_mat, 0.5)\n",
    "\n",
    "Fock_prime = S_minus_half@Fock @ S_minus_half\n",
    "AA=Loc_Ortho.conj().T @ (Fock_prime)@Loc_Ortho\n",
    "# print(np.around(AA,2 ))\n",
    "\n",
    "HUZ =  -(Fock_prime@PROJ_ortho + PROJ_ortho@Fock_prime)/2\n",
    "\n",
    "BB = Loc_Ortho.conj().T @ (Fock_prime+HUZ)@Loc_Ortho\n",
    "print(np.around(BB,2))\n",
    "\n",
    "print()\n",
    "print(np.around(np.diag(AA-BB),2))\n",
    "print(np.around(np.diag(AA),2))\n",
    "print(np.around(np.diag(BB),2))\n",
    "\n",
    "print(np.around(Loc_Ortho[:, enviro_MO_inds].conj().T @ (HUZ)@Loc_Ortho[:, enviro_MO_inds], 3))\n",
    "print(np.around(Loc_Ortho[:, enviro_MO_inds].conj().T @ (Fock_prime)@Loc_Ortho[:, enviro_MO_inds], 3))\n",
    "# Loc_Ortho[:, enviro_MO_inds].conj().T @ (Fock_prime)@Loc_Ortho[:, enviro_MO_inds]"
   ]
  },
  {
   "cell_type": "code",
   "execution_count": 1767,
   "metadata": {},
   "outputs": [
    {
     "name": "stdout",
     "output_type": "stream",
     "text": [
      "True\n",
      "[[-9.57  0.    0.   -0.    0.    0.   -0.   -0.    0.  ]\n",
      " [ 0.    0.    0.   -0.    0.   -0.    0.    0.   -0.  ]\n",
      " [ 0.    0.   -0.3  -0.    0.    0.    0.    0.   -0.  ]\n",
      " [-0.   -0.   -0.    0.   -0.    0.   -0.    0.    0.  ]\n",
      " [ 0.    0.    0.   -0.    0.   -0.   -0.    0.   -0.  ]\n",
      " [ 0.   -0.    0.    0.   -0.    0.43  0.   -0.    0.  ]\n",
      " [-0.    0.    0.   -0.   -0.    0.    0.43  0.   -0.  ]\n",
      " [-0.    0.    0.    0.    0.   -0.    0.    0.43 -0.  ]\n",
      " [ 0.   -0.   -0.    0.   -0.    0.   -0.   -0.    0.47]]\n",
      "\n",
      "[ 0.   -0.58 -0.   -0.3  -0.3   0.    0.    0.    0.  ]\n",
      "[-9.57 -0.58 -0.3  -0.3  -0.3   0.43  0.43  0.43  0.47]\n",
      "[-9.57  0.   -0.3   0.    0.    0.43  0.43  0.43  0.47]\n",
      "[[ 0.581  0.    -0.   ]\n",
      " [ 0.     0.303 -0.   ]\n",
      " [-0.    -0.     0.303]]\n",
      "[[-0.581 -0.     0.   ]\n",
      " [-0.    -0.303  0.   ]\n",
      " [ 0.     0.    -0.303]]\n",
      "[[ 0.581  0.    -0.   ]\n",
      " [ 0.     0.303 -0.   ]\n",
      " [-0.    -0.     0.303]]\n",
      "[[-9.568  0.     0.    -0.     0.     0.    -0.    -0.     0.   ]\n",
      " [ 0.    -0.     0.    -0.    -0.    -0.     0.     0.    -0.   ]\n",
      " [ 0.     0.    -0.303 -0.     0.     0.     0.     0.    -0.   ]\n",
      " [-0.    -0.    -0.     0.    -0.     0.    -0.     0.     0.   ]\n",
      " [ 0.     0.     0.    -0.     0.    -0.    -0.     0.    -0.   ]\n",
      " [ 0.    -0.     0.     0.    -0.     0.425  0.    -0.     0.   ]\n",
      " [-0.     0.     0.    -0.    -0.     0.     0.425  0.    -0.   ]\n",
      " [-0.     0.     0.     0.     0.    -0.     0.     0.425 -0.   ]\n",
      " [ 0.    -0.    -0.     0.    -0.     0.    -0.    -0.     0.471]]\n"
     ]
    }
   ],
   "source": [
    "S_mat = full_system_scf.get_ovlp()\n",
    "S_half = sp.linalg.fractional_matrix_power(full_system_scf.get_ovlp() , 0.5)\n",
    "S_neg_half = sp.linalg.fractional_matrix_power(full_system_scf.get_ovlp() , -0.5)\n",
    "\n",
    "Loc_Ortho = S_half@ C_all_localized_and_virt\n",
    "\n",
    "PROJ_ortho = np.zeros_like(S_mat)\n",
    "for MO_ind in range(C_all_localized_and_virt.shape[1]):\n",
    "    if MO_ind in enviro_MO_inds:\n",
    "        outer = np.outer(Loc_Ortho[:, MO_ind], Loc_Ortho[:, MO_ind])\n",
    "        PROJ_ortho+=outer\n",
    "    else:\n",
    "        continue\n",
    "#     print(np.allclose(PROJ_ortho @ Loc_Ortho[:,enviro_MO_inds[0]], Loc_Ortho[:,enviro_MO_inds[0]]))\n",
    "# convert to localized basis (rather than ortho one)\n",
    "\n",
    "\n",
    "\n",
    "print(np.allclose(PROJ_ortho@Loc_Ortho[:, 1],\n",
    "           Loc_Ortho[:, 1]))\n",
    "\n",
    "# PROJ_ortho_new = PROJ_ortho.copy()\n",
    "# PROJ_ortho_new[:, active_MO_inds] = np.zeros_like(C_active)\n",
    "\n",
    "\n",
    "Fock_prime = S_neg_half@Fock @ S_neg_half\n",
    "AA=Loc_Ortho.conj().T @ (Fock_prime)@Loc_Ortho\n",
    "# print(np.around(AA,2 ))\n",
    "\n",
    "HUZ =  -(Fock_prime@PROJ_ortho + PROJ_ortho@Fock_prime)/2\n",
    "\n",
    "BB = Loc_Ortho.conj().T @ (Fock_prime+HUZ)@Loc_Ortho\n",
    "print(np.around(BB,2))\n",
    "\n",
    "print()\n",
    "print(np.around(np.diag(AA-BB),2))\n",
    "print(np.around(np.diag(AA),2))\n",
    "print(np.around(np.diag(BB),2))\n",
    "\n",
    "print(np.around(Loc_Ortho[:, enviro_MO_inds].conj().T @ (HUZ)@Loc_Ortho[:, enviro_MO_inds], 3))\n",
    "print(np.around(Loc_Ortho[:, enviro_MO_inds].conj().T @ (Fock_prime)@Loc_Ortho[:, enviro_MO_inds], 3))\n",
    "\n",
    "HUZ_standard_Basis = S_half@ HUZ  @ S_half\n",
    "\n",
    "print(np.around(C_all_localized_and_virt[:, enviro_MO_inds].conj().T @ (HUZ_standard_Basis)@C_all_localized_and_virt[:, enviro_MO_inds], 3))\n",
    "print(np.around(C_all_localized_and_virt.conj().T @ (Fock+HUZ_standard_Basis)@C_all_localized_and_virt, 3))"
   ]
  },
  {
   "cell_type": "code",
   "execution_count": 1557,
   "metadata": {},
   "outputs": [
    {
     "name": "stdout",
     "output_type": "stream",
     "text": [
      "-0.5814869911162103\n",
      "-0.5738388766992121\n"
     ]
    }
   ],
   "source": [
    "C_env_TEST = np.zeros_like(C_all_localized_and_virt) # zero out system A\n",
    "C_env_TEST[:,enviro_MO_inds] = C_envrio # only include system B\n",
    "\n",
    "\n",
    "np.around(C_env_TEST.conj().T @ -(Fock) @C_env_TEST, 5)\n",
    "\n",
    "PPP = -0.125*(C_env_TEST.conj().T @ (Fock) @C_env_TEST)\n",
    "\n",
    "ind=1\n",
    "print(C_all_localized_and_virt[:,ind].conj().T @ (Fock)@C_all_localized_and_virt[:,ind])\n",
    "print(C_all_localized_and_virt[:,ind].conj().T @ (Fock+PPP)@C_all_localized_and_virt[:,ind])"
   ]
  },
  {
   "cell_type": "code",
   "execution_count": 1900,
   "metadata": {},
   "outputs": [
    {
     "data": {
      "text/plain": [
       "array([-9.25584061e-02,  7.03393300e-01, -2.38623676e-04, -1.40288803e-04,\n",
       "       -2.56770827e-05, -3.52258647e-01, -3.52242685e-01, -3.52408587e-01,\n",
       "       -3.52587371e-01])"
      ]
     },
     "execution_count": 1900,
     "metadata": {},
     "output_type": "execute_result"
    }
   ],
   "source": [
    "Loc_Ortho[:, MO_ind].T"
   ]
  },
  {
   "cell_type": "code",
   "execution_count": 1909,
   "metadata": {},
   "outputs": [
    {
     "data": {
      "text/plain": [
       "array([[-9.25584061e-02,  7.03393300e-01, -2.38623676e-04,\n",
       "        -1.40288803e-04, -2.56770827e-05, -3.52258647e-01,\n",
       "        -3.52242685e-01, -3.52408587e-01, -3.52587371e-01]])"
      ]
     },
     "execution_count": 1909,
     "metadata": {},
     "output_type": "execute_result"
    }
   ],
   "source": []
  },
  {
   "cell_type": "code",
   "execution_count": 1912,
   "metadata": {},
   "outputs": [
    {
     "data": {
      "text/plain": [
       "True"
      ]
     },
     "execution_count": 1912,
     "metadata": {},
     "output_type": "execute_result"
    }
   ],
   "source": [
    "outer = np.outer(Loc_Ortho[:, MO_ind], Loc_Ortho[:, MO_ind])\n",
    "outer2  = Loc_Ortho[:, MO_ind].reshape([len(Loc_Ortho[:, MO_ind]),1])@ Loc_Ortho[:, MO_ind].reshape([1, len(Loc_Ortho[:, MO_ind])])\n",
    "np.allclose(outer, outer2)"
   ]
  },
  {
   "cell_type": "code",
   "execution_count": 2040,
   "metadata": {},
   "outputs": [
    {
     "data": {
      "text/plain": [
       "4.000000000000003"
      ]
     },
     "execution_count": 2040,
     "metadata": {},
     "output_type": "execute_result"
    }
   ],
   "source": [
    "np.trace(S_mat@dm_active)"
   ]
  },
  {
   "cell_type": "code",
   "execution_count": 2038,
   "metadata": {},
   "outputs": [
    {
     "data": {
      "text/plain": [
       "array([-9.568,  0.581, -0.303,  0.303,  0.303,  0.425,  0.425,  0.425,\n",
       "        0.471])"
      ]
     },
     "execution_count": 2038,
     "metadata": {},
     "output_type": "execute_result"
    }
   ],
   "source": [
    "test_1= -0.5*(Fock@ dm_enviro@ S_mat + S_mat@dm_enviro@Fock)\n",
    "# test_1= -0.25*(Fock@ dm_enviro@ S_mat + S_mat@dm_enviro@Fock) # 0.25 will remove terms! We want to PUSH to higher E!\n",
    "\n",
    "np.diag(np.around(C_all_localized_and_virt.conj().T @ (test_1+Fock) @C_all_localized_and_virt,3))\n",
    "# np.around(C_all_localized_and_virt.conj().T @ (test_1+Fock) @C_all_localized_and_virt,3)\n",
    "# np.around(C_all_localized_and_virt.conj().T @ Fock @C_all_localized_and_virt,3)"
   ]
  },
  {
   "cell_type": "code",
   "execution_count": 1978,
   "metadata": {},
   "outputs": [
    {
     "name": "stdout",
     "output_type": "stream",
     "text": [
      "Are subsystem B (env) projected onto themselves: True\n",
      "Are subsystem A traced out?: True\n"
     ]
    }
   ],
   "source": [
    "## manual projector\n",
    "\n",
    "## 1. convert to orthogonal C_matrix\n",
    "S_mat = full_system_scf.get_ovlp()\n",
    "S_half = sp.linalg.fractional_matrix_power(full_system_scf.get_ovlp() , 0.5)\n",
    "S_neg_half = sp.linalg.fractional_matrix_power(full_system_scf.get_ovlp() , -0.5)\n",
    "\n",
    "Loc_Ortho = S_half@ C_all_localized_and_virt\n",
    "\n",
    "## 2. Define projector that projects MO orbs of subsystem B onto themselves and system A onto zero state!\n",
    "##### (do this in orthongoal C_matrix!)\n",
    "PROJ_ortho = np.zeros_like(S_mat)\n",
    "for MO_ind in range(C_all_localized_and_virt.shape[1]):\n",
    "    if MO_ind in enviro_MO_inds:\n",
    "        outer = np.outer(Loc_Ortho[:, MO_ind], Loc_Ortho[:, MO_ind])\n",
    "        PROJ_ortho+=outer\n",
    "    else:\n",
    "        continue\n",
    "\n",
    "print(f'''Are subsystem B (env) projected onto themselves: {\n",
    "        np.allclose(PROJ_ortho@Loc_Ortho[:, enviro_MO_inds], \n",
    "        Loc_Ortho[:, enviro_MO_inds])}''') # projected onto itself\n",
    "\n",
    "print(f'''Are subsystem A traced out?: {\n",
    "        np.allclose(PROJ_ortho@Loc_Ortho[:, active_MO_inds], \n",
    "        np.zeros_like(Loc_Ortho[:, active_MO_inds]))}''') # # projected onto zeros!\n",
    "        \n",
    "        \n",
    "#### 3. NEXT USING PROJECTOR in ortho basis define projector via different methods\n",
    "        \n",
    "        \n",
    "projector_method = 'huzinaga'\n",
    "# projector_method = 'mu_shfit'\n",
    "\n",
    "if projector_method == 'huzinaga':\n",
    "    Fock = test_full_system_scf.get_hcore() + test_full_system_scf.get_veff(dm=dm_active + dm_enviro)\n",
    "    Fock_ortho = S_neg_half@Fock @ S_neg_half\n",
    "    \n",
    "    projector_ortho =  -0.5*(Fock_ortho@PROJ_ortho + PROJ_ortho@Fock_ortho) # 0.5 for restricted calc!\n",
    "    \n",
    "    projector = S_half @ projector_ortho  @ S_half\n",
    "    \n",
    "elif projector_method == 'mu_shfit':\n",
    "    mu = 1e6\n",
    "    projector_ortho = mu * PROJ_ortho\n",
    "    \n",
    "#     projector = S_neg_half @ projector_ortho  @ S_half\n",
    "    projector = S_half @ projector_ortho  @ S_half\n",
    "else:\n",
    "    raise ValueError(f'Unknown projection method {projector_method}')\n",
    "\n",
    "##### 4. Define projector in standard (non-orthogonal basis)\n",
    "# projector = S_half @ projector_ortho  @ S_half\n",
    "\n",
    "\n",
    "### 5. now can build relevant ops\n",
    "\n",
    "g_A_and_B = test_full_system_scf.get_veff(dm=dm_active+dm_enviro)\n",
    "\n",
    "g_A = test_full_system_scf.get_veff(dm=dm_active)\n",
    "\n",
    "v_emb = g_A_and_B - g_A + projector"
   ]
  },
  {
   "cell_type": "code",
   "execution_count": null,
   "metadata": {},
   "outputs": [],
   "source": []
  },
  {
   "cell_type": "code",
   "execution_count": 1979,
   "metadata": {},
   "outputs": [
    {
     "name": "stdout",
     "output_type": "stream",
     "text": [
      "[[ 0.581  0.    -0.   ]\n",
      " [ 0.     0.303 -0.   ]\n",
      " [-0.    -0.     0.303]]\n",
      "[[-0.581 -0.     0.   ]\n",
      " [-0.    -0.303  0.   ]\n",
      " [ 0.     0.    -0.303]]\n"
     ]
    }
   ],
   "source": [
    "print(np.around(C_all_localized_and_virt[:, enviro_MO_inds].conj().T @projector@C_all_localized_and_virt[:, enviro_MO_inds],3))\n",
    "\n",
    "print(np.around(C_all_localized_and_virt[:, enviro_MO_inds].conj().T @Fock@C_all_localized_and_virt[:, enviro_MO_inds],3))\n"
   ]
  },
  {
   "cell_type": "code",
   "execution_count": 1972,
   "metadata": {},
   "outputs": [
    {
     "data": {
      "text/plain": [
       "False"
      ]
     },
     "execution_count": 1972,
     "metadata": {},
     "output_type": "execute_result"
    }
   ],
   "source": [
    "np.allclose(projector@C_all_localized_and_virt[:, enviro_MO_inds],\n",
    "           C_all_localized_and_virt[:, enviro_MO_inds])"
   ]
  },
  {
   "cell_type": "code",
   "execution_count": 1982,
   "metadata": {},
   "outputs": [
    {
     "name": "stdout",
     "output_type": "stream",
     "text": [
      "[[-9.57  0.    0.   -0.    0.    0.   -0.   -0.    0.  ]\n",
      " [ 0.   -0.    0.   -0.   -0.   -0.    0.    0.   -0.  ]\n",
      " [ 0.    0.   -0.3  -0.    0.    0.    0.    0.   -0.  ]\n",
      " [-0.   -0.   -0.    0.   -0.    0.   -0.    0.    0.  ]\n",
      " [ 0.    0.    0.   -0.    0.   -0.   -0.    0.   -0.  ]\n",
      " [ 0.   -0.    0.    0.   -0.    0.43  0.   -0.    0.  ]\n",
      " [-0.    0.    0.   -0.   -0.    0.    0.43  0.   -0.  ]\n",
      " [-0.    0.    0.    0.    0.   -0.    0.    0.43 -0.  ]\n",
      " [ 0.   -0.   -0.    0.   -0.    0.   -0.   -0.    0.47]]\n",
      "\n",
      "[[-9.57  0.    0.   -0.    0.    0.   -0.   -0.    0.  ]\n",
      " [ 0.   -0.58  0.   -0.    0.   -0.    0.    0.   -0.  ]\n",
      " [ 0.    0.   -0.3  -0.    0.    0.    0.    0.   -0.  ]\n",
      " [-0.   -0.   -0.   -0.3   0.    0.   -0.    0.    0.  ]\n",
      " [ 0.    0.    0.    0.   -0.3  -0.   -0.    0.   -0.  ]\n",
      " [ 0.   -0.    0.    0.   -0.    0.43  0.   -0.    0.  ]\n",
      " [-0.    0.    0.   -0.   -0.    0.    0.43  0.   -0.  ]\n",
      " [-0.    0.    0.    0.    0.   -0.    0.    0.43 -0.  ]\n",
      " [ 0.   -0.   -0.    0.   -0.    0.   -0.   -0.    0.47]]\n",
      "[[ 0.   -0.    0.    0.   -0.    0.    0.   -0.    0.  ]\n",
      " [-0.    0.58 -0.    0.   -0.    0.   -0.   -0.    0.  ]\n",
      " [ 0.   -0.    0.    0.   -0.    0.    0.   -0.    0.  ]\n",
      " [ 0.    0.    0.    0.3  -0.   -0.    0.   -0.   -0.  ]\n",
      " [-0.   -0.   -0.   -0.    0.3   0.    0.   -0.    0.  ]\n",
      " [ 0.    0.    0.   -0.    0.   -0.    0.    0.    0.  ]\n",
      " [ 0.   -0.   -0.    0.    0.   -0.    0.    0.   -0.  ]\n",
      " [ 0.   -0.   -0.   -0.   -0.    0.   -0.    0.    0.  ]\n",
      " [ 0.    0.    0.   -0.    0.    0.   -0.    0.    0.  ]]\n"
     ]
    }
   ],
   "source": [
    "projector@C_all_localized_and_virt[:, enviro_MO_inds]\n",
    "# (Fock)@C_all_localized_and_virt[:, enviro_MO_inds]\n",
    "(Fock+projector)@C_all_localized_and_virt[:, enviro_MO_inds]\n",
    "\n",
    "print(np.around(C_all_localized_and_virt.conj().T @ (Fock+projector)@C_all_localized_and_virt, 2))\n",
    "print()\n",
    "print(np.around(C_all_localized_and_virt.conj().T @ (Fock)@C_all_localized_and_virt, 2))\n",
    "print(np.around(C_all_localized_and_virt.conj().T @ (projector)@C_all_localized_and_virt, 2))"
   ]
  },
  {
   "cell_type": "code",
   "execution_count": 1983,
   "metadata": {},
   "outputs": [
    {
     "name": "stdout",
     "output_type": "stream",
     "text": [
      "Are subsystem A projected onto zeros: False\n"
     ]
    },
    {
     "data": {
      "text/plain": [
       "True"
      ]
     },
     "execution_count": 1983,
     "metadata": {},
     "output_type": "execute_result"
    }
   ],
   "source": [
    "print(f'''Are subsystem A projected onto zeros: {\n",
    "    np.allclose(projector@C_all_localized_and_virt[:, active_MO_inds], \n",
    "            np.zeros_like(C_all_localized_and_virt[:, active_MO_inds]),7)}''') \n",
    "\n",
    "\n",
    "# np.zeros_like(C_all_localized_and_virt[:, active_MO_inds])\n",
    "\n",
    "np.allclose(np.around(projector@C_all_localized_and_virt[:, active_MO_inds],7),\n",
    "           np.zeros_like(C_all_localized_and_virt[:, active_MO_inds]))"
   ]
  },
  {
   "cell_type": "code",
   "execution_count": null,
   "metadata": {},
   "outputs": [],
   "source": []
  },
  {
   "cell_type": "code",
   "execution_count": 1984,
   "metadata": {},
   "outputs": [
    {
     "name": "stdout",
     "output_type": "stream",
     "text": [
      "Are subsystem B (env) projected to -E of Fock subsystem B: True\n",
      "Are subsystem A projected onto zeros: True\n"
     ]
    }
   ],
   "source": [
    "if projector_method == 'huzinaga':\n",
    "        print(f'''Are subsystem B (env) projected to -E of Fock subsystem B: {\n",
    "            np.allclose(Fock@C_all_localized_and_virt[:, enviro_MO_inds],\n",
    "                        -1*projector@C_all_localized_and_virt[:, enviro_MO_inds])}''') # projected onto neg E orbs\n",
    "        \n",
    "        print(f'''Are subsystem A projected onto zeros: {\n",
    "                np.allclose(np.around(projector@C_all_localized_and_virt[:, active_MO_inds],7), \n",
    "                np.zeros_like(C_all_localized_and_virt[:, active_MO_inds]))}''') # projected out\n",
    "        \n",
    "elif projector_method == 'mu_shfit':\n",
    "    print(f'''Are subsystem B (env) projected to high E: {\n",
    "            np.allclose(projector@C_all_localized_and_virt[:, enviro_MO_inds], \n",
    "            mu*C_all_localized_and_virt[:, enviro_MO_inds])}''') # projected onto increased E orbs\n",
    "    \n",
    "    print(f'''Are subsystem A projected onto zeros: {\n",
    "            np.allclose(projector@C_all_localized_and_virt[:, active_MO_inds], \n",
    "            np.zeros_like(C_all_localized_and_virt[:, active_MO_inds]))}''') # projected out\n"
   ]
  },
  {
   "cell_type": "code",
   "execution_count": 1969,
   "metadata": {},
   "outputs": [
    {
     "name": "stdout",
     "output_type": "stream",
     "text": [
      "Are subsystem B (env) projected onto themselves: True\n",
      "Are subsystem A projected onto zeros: True\n"
     ]
    }
   ],
   "source": [
    "POL = S_neg_half@ PROJ_ortho  @ S_half\n",
    "# POL = S_half@ PROJ_ortho  @ S_half\n",
    "print(f'''Are subsystem B (env) projected onto themselves: {\n",
    "        np.allclose(POL@C_all_localized_and_virt[:, enviro_MO_inds], \n",
    "        C_all_localized_and_virt[:, enviro_MO_inds])}''') # projected onto itself\n",
    "\n",
    "print(f'''Are subsystem A projected onto zeros: {\n",
    "        np.allclose(POL@C_all_localized_and_virt[:, active_MO_inds], \n",
    "        np.zeros_like(C_all_localized_and_virt[:, active_MO_inds]))}''') # projected out"
   ]
  },
  {
   "cell_type": "code",
   "execution_count": 1764,
   "metadata": {},
   "outputs": [
    {
     "data": {
      "text/plain": [
       "array([[-4.02329758e-09, -1.87269819e-09],\n",
       "       [ 1.41021095e-08,  6.56396677e-09],\n",
       "       [-2.25131802e-08, -1.39986174e-08],\n",
       "       [-1.31474636e-09, -3.29713139e-09],\n",
       "       [ 4.15580948e-09,  4.38498052e-09],\n",
       "       [-2.50409965e-09, -1.16563897e-09],\n",
       "       [-2.73580432e-09, -4.88715152e-09],\n",
       "       [-2.46341920e-09, -9.72246041e-10],\n",
       "       [ 2.35536420e-08,  1.44027616e-08]])"
      ]
     },
     "execution_count": 1764,
     "metadata": {},
     "output_type": "execute_result"
    }
   ],
   "source": [
    "projector@C_all_localized_and_virt[:, active_MO_inds]\n",
    "# C_all_localized_and_virt[:, active_MO_inds]"
   ]
  },
  {
   "cell_type": "code",
   "execution_count": 1758,
   "metadata": {},
   "outputs": [
    {
     "name": "stdout",
     "output_type": "stream",
     "text": [
      "Are subsystem B (env) projected onto themselves: False\n",
      "Are subsystem A traced out?: True\n"
     ]
    }
   ],
   "source": [
    "print(f'''Are subsystem B (env) projected onto themselves: {\n",
    "        np.allclose(projector@C_all_localized_and_virt[:, enviro_MO_inds], \n",
    "        C_all_localized_and_virt[:, enviro_MO_inds])}''') # projected onto itself\n",
    "\n",
    "print(f'''Are subsystem A traced out?: {\n",
    "        np.allclose(PROJ_ortho@Loc_Ortho[:, active_MO_inds], \n",
    "        np.zeros_like(Loc_Ortho[:, active_MO_inds]))}''') # # projected onto zeros!"
   ]
  },
  {
   "cell_type": "code",
   "execution_count": 1750,
   "metadata": {},
   "outputs": [
    {
     "name": "stdout",
     "output_type": "stream",
     "text": [
      "Trace(y_ENV @ PB): 3933174.042957946\n",
      "Trace(y_act @ PB): -1.368789526168257e-10\n",
      "\n",
      "Trace(y_ENV @ v_emb): 3933190.1507525197\n",
      "Trace(y_act @ v_emb): 12.85667810982477\n",
      "Trace(y_act @ v_emb): 12.856678110017608\n"
     ]
    }
   ],
   "source": [
    "print('Trace(y_ENV @ PB):', np.einsum('ij, ij', dm_enviro, projector) )\n",
    "print('Trace(y_act @ PB):', np.einsum('ij, ij', dm_active, projector) )\n",
    "print()\n",
    "print('Trace(y_ENV @ v_emb):', np.einsum('ij, ij', dm_enviro, v_emb) )\n",
    "print('Trace(y_act @ v_emb):', np.einsum('ij, ij', dm_active, v_emb) )\n",
    "print('Trace(y_act @ v_emb):', np.einsum('ij, ij', dm_active, g_A_and_B - g_A ) )"
   ]
  },
  {
   "cell_type": "code",
   "execution_count": 1717,
   "metadata": {},
   "outputs": [
    {
     "data": {
      "text/plain": [
       "array([-9.56800000e+00,  9.99999419e+05, -3.03000000e-01,  9.99999697e+05,\n",
       "        9.99999697e+05,  4.25000000e-01,  4.25000000e-01,  4.25000000e-01,\n",
       "        4.71000000e-01])"
      ]
     },
     "execution_count": 1717,
     "metadata": {},
     "output_type": "execute_result"
    }
   ],
   "source": [
    "Fock_ortho = S_neg_half@Fock @ S_neg_half\n",
    "# print(np.around(Loc_Ortho.conj().T@(projector_ortho+Fock_ortho)@Loc_Ortho,3))\n",
    "np.diag(np.around(Loc_Ortho.conj().T@(projector_ortho+Fock_ortho)@Loc_Ortho,3))"
   ]
  },
  {
   "cell_type": "code",
   "execution_count": null,
   "metadata": {},
   "outputs": [],
   "source": []
  },
  {
   "cell_type": "code",
   "execution_count": null,
   "metadata": {},
   "outputs": [],
   "source": []
  },
  {
   "cell_type": "code",
   "execution_count": null,
   "metadata": {},
   "outputs": [],
   "source": []
  },
  {
   "cell_type": "code",
   "execution_count": null,
   "metadata": {},
   "outputs": [],
   "source": []
  },
  {
   "cell_type": "code",
   "execution_count": null,
   "metadata": {},
   "outputs": [],
   "source": []
  },
  {
   "cell_type": "code",
   "execution_count": 1463,
   "metadata": {},
   "outputs": [
    {
     "data": {
      "text/plain": [
       "array([ 2.70616862e-16, -9.85322934e-16,  2.08166817e-16, -1.17961196e-16,\n",
       "        4.99600361e-16,  1.83880688e-16, -5.82867088e-16, -3.53883589e-16,\n",
       "       -3.33066907e-16])"
      ]
     },
     "execution_count": 1463,
     "metadata": {},
     "output_type": "execute_result"
    }
   ],
   "source": [
    "PROJ_bas @ C_all_localized_and_virt[:,2]"
   ]
  },
  {
   "cell_type": "code",
   "execution_count": 1460,
   "metadata": {},
   "outputs": [
    {
     "name": "stdout",
     "output_type": "stream",
     "text": [
      "False\n"
     ]
    }
   ],
   "source": [
    "print(np.allclose(PROJ_bas @ C_all_localized_and_virt[:,0],\n",
    "              C_all_localized_and_virt[:,0]))"
   ]
  },
  {
   "cell_type": "code",
   "execution_count": 968,
   "metadata": {},
   "outputs": [
    {
     "name": "stdout",
     "output_type": "stream",
     "text": [
      "-0.3658605854641659\n",
      "0.36586058546416594\n"
     ]
    }
   ],
   "source": []
  },
  {
   "cell_type": "code",
   "execution_count": 806,
   "metadata": {},
   "outputs": [
    {
     "data": {
      "text/plain": [
       "False"
      ]
     },
     "execution_count": 806,
     "metadata": {},
     "output_type": "execute_result"
    }
   ],
   "source": [
    "## manual projector\n",
    "S_mat = full_system_scf.get_ovlp()\n",
    "S_half = sp.linalg.fractional_matrix_power(full_system_scf.get_ovlp() , 0.5)\n",
    "\n",
    "Loc_Ortho = S_half@ C_all_localized_and_virt\n",
    "Fock = test_full_system_scf.get_hcore() + test_full_system_scf.get_veff(dm=dm_active + dm_enviro)\n",
    "# Fock_prime = S_neg_half@ Fock @ S_half\n",
    "Fock_prime = S_half.conj().T @ Fock @ S_half\n",
    "\n",
    "np.allclose(Fock_prime@Loc_Ortho[:,0], Fock@C_all_localized_and_virt[:,0])\n",
    "# PROJ_ortho = np.zeros_like(S_mat)\n",
    "# for MO_ind in range(C_all_localized_and_virt.shape[1]):\n",
    "#     if MO_ind in enviro_MO_inds:\n",
    "#         outer = np.outer(Loc_Ortho[:, MO_ind], Loc_Ortho[:, MO_ind])\n",
    "#         PROJ_ortho+=outer\n",
    "#     else:\n",
    "#         continue\n",
    "\n",
    "# print(np.allclose(PROJ_ortho @ Loc_Ortho[:,enviro_MO_inds[0]], Loc_Ortho[:,enviro_MO_inds[0]]))\n",
    "\n",
    "# # convert to localized basis (rather than ortho one)\n",
    "# PROJ_bas = S_neg_half@ PROJ_ortho  @ S_half\n",
    "# print(np.allclose(PROJ_bas @ C_all_localized_and_virt[:,enviro_MO_inds[0]],\n",
    "#                   C_all_localized_and_virt[:,enviro_MO_inds[0]]))\n",
    "\n",
    "# g_A_and_B = test_full_system_scf.get_veff(dm=dm_active+dm_enviro)\n",
    "\n",
    "# g_A = test_full_system_scf.get_veff(dm=dm_active)\n",
    "\n",
    "# projector = PROJ_bas\n",
    "# v_emb = g_A_and_B - g_A + PROJ_bas\n",
    "\n",
    "\n",
    "# #### Notes #####\n",
    "\n",
    "# # U C_loc_ortho = C_std_ortho\n",
    "# ### as:\n",
    "#     # C_loc_ortho = S_half @ C_loc\n",
    "#     # C_std_ortho = S_half @ C_std\n",
    "\n",
    "# # can write as:\n",
    "# # U (S_half @ C_loc) = (S_half @ C_std)\n",
    "\n",
    "# # Now want to get rid of S_half on RHS:\n",
    "# # S_neg_half @ U S_half @ C_loc = (S_neg_half @ S_half @ C_std)\n",
    "# # (S_neg_half @ U S_half) @ C_loc = C_std\n",
    "# # U_new @ C_loc = C_std\n",
    "# ### where:\n",
    "#     # U_new = S_neg_half @ U S_half\n",
    "    \n",
    "# #### Notes #####\n",
    "\n",
    "# U_new = S_neg_half@ U  @ S_half\n",
    "# np.allclose(U_new@C_all_localized,\n",
    "#             full_system_scf.mo_coeff[:,full_system_scf.mo_occ>0])\n"
   ]
  },
  {
   "cell_type": "code",
   "execution_count": 722,
   "metadata": {},
   "outputs": [],
   "source": [
    "# ## manual projector\n",
    "# S_mat = full_system_scf.get_ovlp()\n",
    "# S_half = sp.linalg.fractional_matrix_power(full_system_scf.get_ovlp() , 0.5)\n",
    "\n",
    "# Loc_Ortho = S_half@ C_all_localized_and_virt\n",
    "\n",
    "# PROJ_ortho = np.zeros_like(S_mat)\n",
    "# for MO_ind in range(C_all_localized_and_virt.shape[1]):\n",
    "#     if MO_ind in enviro_MO_inds:\n",
    "#         outer = np.outer(Loc_Ortho[:, MO_ind], Loc_Ortho[:, MO_ind])\n",
    "#         PROJ_ortho+=outer\n",
    "#     else:\n",
    "#         continue\n",
    "\n",
    "# print(np.allclose(PROJ_ortho @ Loc_Ortho[:,enviro_MO_inds[0]], Loc_Ortho[:,enviro_MO_inds[0]]))\n",
    "\n",
    "# # convert to localized basis (rather than ortho one)\n",
    "# PROJ_bas = S_neg_half@ PROJ_ortho  @ S_half\n",
    "# print(np.allclose(PROJ_bas @ C_all_localized_and_virt[:,enviro_MO_inds[0]],\n",
    "#                   C_all_localized_and_virt[:,enviro_MO_inds[0]]))\n",
    "\n",
    "# g_A_and_B = test_full_system_scf.get_veff(dm=dm_active+dm_enviro)\n",
    "\n",
    "# g_A = test_full_system_scf.get_veff(dm=dm_active)\n",
    "\n",
    "# projector = PROJ_bas\n",
    "# v_emb = g_A_and_B - g_A + PROJ_bas\n"
   ]
  },
  {
   "cell_type": "code",
   "execution_count": 723,
   "metadata": {},
   "outputs": [
    {
     "name": "stdout",
     "output_type": "stream",
     "text": [
      "2000000.0000000002\n"
     ]
    }
   ],
   "source": [
    "C_loc_test = test_full_system_scf.mo_coeff[:,test_full_system_scf.mo_occ>0]\n",
    "\n",
    "IND=3\n",
    "# print(C_loc_test[:,IND].conj().T @ (v_emb + Fock) @ C_loc_test[:,IND])\n",
    "print(C_loc_test[:,IND].conj().T @ (projector) @ C_loc_test[:,IND])"
   ]
  },
  {
   "cell_type": "code",
   "execution_count": null,
   "metadata": {},
   "outputs": [],
   "source": []
  },
  {
   "cell_type": "code",
   "execution_count": 448,
   "metadata": {},
   "outputs": [
    {
     "name": "stdout",
     "output_type": "stream",
     "text": [
      "[[-0.  -2.2 -0.2  0.2  1.4 -0.4 -1.9 -1.9 -1. ]\n",
      " [ 2.2  0.  -0.2  0.1  1.   0.2 -0.7 -0.6 -0.1]\n",
      " [ 0.2  0.2 -0.  -0.1 -0.2 -0.1  0.   0.   0.2]\n",
      " [-0.2 -0.1  0.1  0.  -0.  -0.1 -0.2  0.2 -0. ]\n",
      " [-1.4 -1.   0.2  0.   0.  -0.2 -0.3 -0.4 -0.6]\n",
      " [ 0.4 -0.2  0.1  0.1  0.2 -0.  -0.2 -0.3 -0.2]\n",
      " [ 1.9  0.7 -0.   0.2  0.3  0.2  0.   0.   0.2]\n",
      " [ 1.9  0.6 -0.  -0.2  0.4  0.3 -0.   0.   0.1]\n",
      " [ 1.   0.1 -0.2  0.   0.6  0.2 -0.2 -0.1  0. ]]\n",
      "\n"
     ]
    },
    {
     "data": {
      "text/plain": [
       "array([-0.,  0., -0.,  0.,  0., -0.,  0.,  0.,  0.])"
      ]
     },
     "execution_count": 448,
     "metadata": {},
     "output_type": "execute_result"
    }
   ],
   "source": [
    "Fock_A = test_full_system_scf.get_hcore() + test_full_system_scf.get_veff(dm=dm_active)\n",
    "print(np.around(Fock_A@projector - projector@Fock_A, 1))\n",
    "print()\n",
    "\n",
    "# diagonal entries are zero!\n",
    "np.around(np.diag((Fock_A@projector - projector@Fock_A)))"
   ]
  },
  {
   "cell_type": "code",
   "execution_count": 2051,
   "metadata": {},
   "outputs": [
    {
     "data": {
      "text/plain": [
       "2.0"
      ]
     },
     "execution_count": 2051,
     "metadata": {},
     "output_type": "execute_result"
    }
   ],
   "source": [
    "n_docc"
   ]
  },
  {
   "cell_type": "code",
   "execution_count": 2055,
   "metadata": {},
   "outputs": [
    {
     "name": "stdout",
     "output_type": "stream",
     "text": [
      "281474976710669.5\n",
      "-1688849860263922.5\n",
      "3.3613392112126197e+31\n",
      "-2.2517998136852468e+16\n",
      "1.3445356844850515e+32\n",
      "-3.6028797018963956e+16\n",
      "5.3781427379402224e+32\n",
      "-2.161727821137838e+17\n",
      "2.151257095176094e+33\n",
      "13.472842976496295\n",
      "8.605028380704407e+33\n",
      "-5.764607523034235e+17\n",
      "3.442011352281773e+34\n",
      "4.611686018427388e+18\n",
      "1.3768045409127128e+35\n",
      "-9.223372036854776e+18\n",
      "5.507218163650866e+35\n",
      "2.2136092888451462e+20\n",
      "2.202887265460354e+36\n",
      "13.472842976496295\n",
      "8.811549061841443e+36\n",
      "3.541774862152234e+21\n",
      "3.524619624736588e+37\n",
      "-1.1805916207174113e+21\n",
      "1.409847849894639e+38\n",
      "-5.666839779443574e+22\n",
      "5.63939139957857e+38\n",
      "-4.5334718235548594e+23\n",
      "2.2557565598314346e+39\n",
      "7.555786372591432e+23\n",
      "9.023026239325767e+39\n",
      "2.7200830941329156e+24\n",
      "3.6092104957303166e+40\n",
      "13.472842976496295\n",
      "1.4436841982921305e+41\n",
      "2.90142196707511e+25\n",
      "5.774736793168539e+41\n",
      "-1.5474250491067253e+26\n",
      "2.3098947172674237e+42\n",
      "-1.0831975343747077e+27\n",
      "9.239578869069721e+42\n",
      "13.472842976496295\n",
      "3.695831547627898e+43\n",
      "7.427640235712282e+27\n",
      "1.4783326190511636e+44\n",
      "-3.961408125713217e+28\n",
      "5.913330476204673e+44\n",
      "-2.37684487542793e+29\n",
      "2.365332190481876e+45\n",
      "-1.426106925256758e+30\n",
      "9.461328761927535e+45\n",
      "-5.070602400912918e+30\n",
      "3.7845315047710236e+46\n",
      "-1.5211807202738753e+31\n",
      "1.5138126019084129e+47\n",
      "-1.0141204801825835e+31\n",
      "6.0552504076336774e+47\n",
      "-1.6225927682921336e+32\n",
      "2.4221001630534752e+48\n",
      "-5.679074689022468e+32\n",
      "9.688400652213933e+48\n",
      "1.298074214633707e+33\n",
      "3.8753602608855837e+49\n",
      "-1.0384593717069655e+34\n",
      "1.550144104354239e+50\n",
      "6.230756230241793e+34\n",
      "6.200576417416969e+50\n",
      "4.153837486827862e+34\n",
      "2.4802305669667968e+51\n",
      "8.307674973655724e+34\n",
      "9.920922267867218e+51\n",
      "1.9938419936773738e+36\n",
      "3.9683689071468967e+52\n",
      "-1.0633823966279327e+37\n",
      "1.5873475628587631e+53\n",
      "13.472842976496295\n",
      "6.349390251435073e+53\n",
      "13.472842976496295\n",
      "2.5397561005740367e+54\n",
      "3.402823669209385e+38\n",
      "1.0159024402296177e+55\n",
      "-6.80564733841877e+38\n",
      "4.063609760918482e+55\n",
      "-5.444517870735016e+39\n",
      "1.6254439043673983e+56\n",
      "4.3556142965880123e+40\n",
      "6.501775617469606e+56\n",
      "-5.662298585564416e+41\n",
      "2.6007102469878512e+57\n",
      "1.742245718635205e+41\n",
      "1.0402840987951433e+58\n",
      "2.787593149816328e+42\n",
      "4.161136395180587e+58\n",
      "-1.1150372599265312e+43\n",
      "1.6644545580722393e+59\n",
      "8.92029807941225e+43\n",
      "6.657818232288976e+59\n",
      "-4.460149039706125e+43\n",
      "2.6631272929155978e+60\n",
      "-7.1362384635298e+44\n",
      "1.0652509171662427e+61\n"
     ]
    },
    {
     "ename": "ValueError",
     "evalue": "Maximum number of SCF iterations exceeded",
     "output_type": "error",
     "traceback": [
      "\u001b[0;31m---------------------------------------------------------------------------\u001b[0m",
      "\u001b[0;31mValueError\u001b[0m                                Traceback (most recent call last)",
      "\u001b[0;32m<ipython-input-2055-735084a30d83>\u001b[0m in \u001b[0;36m<module>\u001b[0;34m\u001b[0m\n\u001b[1;32m     79\u001b[0m \u001b[0;34m\u001b[0m\u001b[0m\n\u001b[1;32m     80\u001b[0m     \u001b[0;32mif\u001b[0m \u001b[0mi\u001b[0m\u001b[0;34m==\u001b[0m\u001b[0mmax_iter\u001b[0m\u001b[0;34m:\u001b[0m\u001b[0;34m\u001b[0m\u001b[0;34m\u001b[0m\u001b[0m\n\u001b[0;32m---> 81\u001b[0;31m         \u001b[0;32mraise\u001b[0m \u001b[0mValueError\u001b[0m\u001b[0;34m(\u001b[0m\u001b[0;34m'Maximum number of SCF iterations exceeded'\u001b[0m\u001b[0;34m)\u001b[0m\u001b[0;34m\u001b[0m\u001b[0;34m\u001b[0m\u001b[0m\n\u001b[0m\u001b[1;32m     82\u001b[0m \u001b[0;34m\u001b[0m\u001b[0m\n\u001b[1;32m     83\u001b[0m \u001b[0mprint\u001b[0m\u001b[0;34m(\u001b[0m\u001b[0;34mf'final RHF SCF energy {HF_energy}'\u001b[0m\u001b[0;34m)\u001b[0m\u001b[0;34m\u001b[0m\u001b[0;34m\u001b[0m\u001b[0m\n",
      "\u001b[0;31mValueError\u001b[0m: Maximum number of SCF iterations exceeded"
     ]
    }
   ],
   "source": [
    "n_docc = int(np.around(np.trace(dm_active @ S_mat),2)//2)\n",
    "\n",
    "### consts\n",
    "g_A_and_B = test_full_system_scf.get_veff(dm=dm_active+dm_enviro)\n",
    "g_A = test_full_system_scf.get_veff(dm=dm_active)\n",
    "H_core_std = H_core_standard = scf.hf.get_hcore(test_full_system_scf.mol)\n",
    "###\n",
    "\n",
    "Huz_PROJECTOR= -0.5*(H_core_std@ dm_enviro@ S_mat + S_mat@dm_enviro@H_core_std)\n",
    "F_guess = H_core_std + Huz_PROJECTOR\n",
    "\n",
    "X = sp.linalg.fractional_matrix_power(S_mat, -0.5)\n",
    "eri_ao = full_system_mol.intor('int2e') \n",
    "\n",
    "F_prime = X.conj().T @ F_guess @ X\n",
    "\n",
    "epsilon, C_prime = np.linalg.eigh(F_prime)\n",
    "\n",
    "# transofrm C_prime back to AO basis\n",
    "C = X @ C_prime\n",
    "\n",
    "# get occupied orbitals\n",
    "C_occ = C[:, :n_docc]\n",
    "\n",
    "# build density matrix from occupied orbitals!\n",
    "D_active_emb = C_occ @ C_occ.T\n",
    "# D = np.einsum('pi,qi->pq', C_occ, C_occ, optimize=True)\n",
    "\n",
    "\n",
    "#alg\n",
    "max_iter = 100\n",
    "HF_energy =0\n",
    "E_previous = 0\n",
    "E_tol = 1e-6\n",
    "\n",
    "for i in range(max_iter+1):\n",
    "    \n",
    "    # build Veff for Y_embedded_A\n",
    "    J_mat = np.einsum('mvls,ls -> mv', eri_ao, D_active_emb, optimize=True)\n",
    "    K_mat = np.einsum('mlvs,ls -> mv', eri_ao, D_active_emb, optimize=True)\n",
    "    \n",
    "    g_A_emb = 2*J_mat - K_mat\n",
    "    \n",
    "    \n",
    "    Huz_PROJECTOR= -0.5*(Fock@ dm_enviro@ S_mat + S_mat@dm_enviro@Fock)\n",
    "    H_core_emb = H_core_std + g_A_and_B - g_A  + Huz_PROJECTOR \n",
    "    \n",
    "    Fock = H_core_emb + g_A_emb\n",
    "    \n",
    "    \n",
    "    ### find RHF energy\n",
    "    HF_energy = np.einsum('pq,pq ->', D_active_emb, (Fock+H_core_std), optimize=True) + full_system_mol.energy_nuc()\n",
    "    print(HF_energy)\n",
    "    #     HF_energy =np.trace(H_core @ D) + np.trace(Fock @ D) + full_system_mol.energy_nuc()\n",
    "    # (no 0.5 here as included in D mat natively!)\n",
    "    \n",
    "    ### check convergence\n",
    "    if np.abs(HF_energy-E_previous)<E_tol:\n",
    "        break\n",
    "        \n",
    "        \n",
    "    # if not convereged store old result\n",
    "    E_previous = HF_energy\n",
    "    \n",
    "    ## compute new orbital guess\n",
    "    F_prime = X.conj().T @ Fock @ X\n",
    "\n",
    "    epsilon, C_prime = np.linalg.eigh(F_prime)\n",
    "\n",
    "    # transofrm C_prime back to AO basis\n",
    "    C = X @ C_prime\n",
    "\n",
    "    # get occupied orbitals\n",
    "    C_occ = C[:, :n_docc]\n",
    "\n",
    "    # build density matrix from occupied orbitals!\n",
    "#     D = C_occ @ C_occ.T\n",
    "    D_active_emb = np.einsum('pi,qi->pq', C_occ, C_occ, optimize=True)\n",
    "    \n",
    "    if i==max_iter:\n",
    "        raise ValueError('Maximum number of SCF iterations exceeded')\n",
    "        \n",
    "print(f'final RHF SCF energy {HF_energy}')"
   ]
  },
  {
   "cell_type": "code",
   "execution_count": 1985,
   "metadata": {},
   "outputs": [
    {
     "name": "stdout",
     "output_type": "stream",
     "text": [
      "embedded Energy: -16.719433480913544\n"
     ]
    }
   ],
   "source": [
    "full_system_mol_EMBEDDED = gto.Mole(atom= geometry,\n",
    "                      basis=basis,\n",
    "                       charge=charge,\n",
    "                       spin=spin,\n",
    "                      )\n",
    "full_system_mol_EMBEDDED.build()\n",
    "\n",
    "# RE-DEFINE number of electrons in system\n",
    "full_system_mol_EMBEDDED.nelectron = 2*len(active_MO_inds) # <------ IMPORTANT!\n",
    "\n",
    "EMBEDDED_full_system_scf = scf.RKS(full_system_mol_EMBEDDED)\n",
    "EMBEDDED_full_system_scf.verbose=1\n",
    "EMBEDDED_full_system_scf.max_memory= memory\n",
    "EMBEDDED_full_system_scf.conv_tol = 1e-6\n",
    "EMBEDDED_full_system_scf.xc = low_level_xc_functional\n",
    "\n",
    "h_core = EMBEDDED_full_system_scf.get_hcore()\n",
    "\n",
    "# overwrite h_core to include embedding term!!!!\n",
    "EMBEDDED_full_system_scf.get_hcore = lambda *args: v_emb + h_core\n",
    "\n",
    "E_emb = EMBEDDED_full_system_scf.kernel()\n",
    "\n",
    "print(f'embedded Energy: {E_emb}')"
   ]
  },
  {
   "cell_type": "code",
   "execution_count": 1986,
   "metadata": {},
   "outputs": [
    {
     "data": {
      "text/plain": [
       "array([-9.20246735, -0.68352232, -0.41627612, -0.06498544,  0.02356959,\n",
       "        0.38493216,  0.64577558,  0.66478025,  1.24361341])"
      ]
     },
     "execution_count": 1986,
     "metadata": {},
     "output_type": "execute_result"
    }
   ],
   "source": [
    "EMBEDDED_full_system_scf.mo_energy"
   ]
  },
  {
   "cell_type": "code",
   "execution_count": 1692,
   "metadata": {},
   "outputs": [],
   "source": [
    "old_calc = EMBEDDED_full_system_scf.mo_energy"
   ]
  },
  {
   "cell_type": "code",
   "execution_count": 1694,
   "metadata": {},
   "outputs": [
    {
     "name": "stdout",
     "output_type": "stream",
     "text": [
      "[-9.50300000e+00 -3.75000000e-01  3.91000000e-01  3.99000000e-01\n",
      "  4.17000000e-01  5.24000000e-01  9.99999393e+05  9.99999654e+05\n",
      "  9.99999709e+05]\n",
      "[-9.50300000e+00 -3.75000000e-01  3.91000000e-01  3.99000000e-01\n",
      "  4.17000000e-01  5.24000000e-01  9.99999393e+05  9.99999654e+05\n",
      "  9.99999709e+05]\n"
     ]
    }
   ],
   "source": [
    "print(np.around(old_calc,3 ))\n",
    "print(np.around(EMBEDDED_full_system_scf.mo_energy,3 ))"
   ]
  },
  {
   "cell_type": "code",
   "execution_count": 1698,
   "metadata": {},
   "outputs": [
    {
     "name": "stdout",
     "output_type": "stream",
     "text": [
      "[-9.50300649 -0.37491046]\n",
      "[-9.50300649 -0.37491046]\n"
     ]
    }
   ],
   "source": [
    "np.allclose(EMBEDDED_full_system_scf.mo_energy[EMBEDDED_full_system_scf.mo_occ>0],\n",
    "            old_calc[EMBEDDED_full_system_scf.mo_occ>0])\n",
    "print(old_calc[EMBEDDED_full_system_scf.mo_occ>0])\n",
    "print(EMBEDDED_full_system_scf.mo_energy[EMBEDDED_full_system_scf.mo_occ>0])"
   ]
  },
  {
   "cell_type": "code",
   "execution_count": 502,
   "metadata": {},
   "outputs": [],
   "source": [
    "# active_C = np.zeros_like(Fock)\n",
    "# active_C[:, active_MO_inds] = C_active\n",
    "# print(np.diag(active_C.conj().T @ Fock @ active_C))\n",
    "# print()\n",
    "\n",
    "# enviro_C = np.zeros_like(Fock)\n",
    "# enviro_C[:, enviro_MO_inds] =C_envrio\n",
    "# print(np.diag(enviro_C.conj().T @ Fock @ enviro_C))\n",
    "\n",
    "# Fock_A = test_full_system_scf.get_hcore() + test_full_system_scf.get_veff(dm=dm_active)\n",
    "\n",
    "# Pro_new = active_C.conj().T @ projector @ active_C\n",
    "# print(np.around(Pro_new@Fock_A, 2))\n",
    "\n",
    "# Pro_new = enviro_C.conj().T @ projector @ enviro_C\n",
    "# print(np.around(Pro_new@Fock_A, 2))"
   ]
  },
  {
   "cell_type": "code",
   "execution_count": 404,
   "metadata": {},
   "outputs": [],
   "source": [
    "# active_C = np.zeros_like(Fock)\n",
    "# active_C[:, active_MO_inds] = C_active\n",
    "# enviro_C = np.zeros_like(Fock)\n",
    "# enviro_C[:, enviro_MO_inds] =C_envrio\n",
    "\n",
    "# F_AB = active_C.conj().T @ Fock @ enviro_C\n",
    "# F_gammaB_S = F_AB @ dm_enviro @ S_mat\n",
    "# projector = -0.5 * (F_gammaB_S + F_gammaB_S.T)\n",
    "# Fock_A = test_full_system_scf.get_hcore() + test_full_system_scf.get_veff(dm=dm_active)\n",
    "# print(np.around(Fock_A@projector - projector@Fock_A, 4))"
   ]
  },
  {
   "cell_type": "code",
   "execution_count": 264,
   "metadata": {},
   "outputs": [
    {
     "name": "stdout",
     "output_type": "stream",
     "text": [
      "True\n",
      "True\n"
     ]
    }
   ],
   "source": [
    "# ## manual projector\n",
    "# S_mat = full_system_scf.get_ovlp()\n",
    "# S_half = sp.linalg.fractional_matrix_power(full_system_scf.get_ovlp() , 0.5)\n",
    "\n",
    "# Loc_Ortho = S_half@ C_all_localized\n",
    "\n",
    "# PROJ_ortho = np.zeros_like(S_mat)\n",
    "# for MO_ind in range(C_all_localized.shape[1]):\n",
    "#     if MO_ind in enviro_MO_inds:\n",
    "#         outer = np.outer(Loc_Ortho[:, MO_ind], Loc_Ortho[:, MO_ind])\n",
    "#         PROJ_ortho+=outer\n",
    "#     else:\n",
    "#         continue\n",
    "\n",
    "# print(np.allclose(PROJ_ortho @ Loc_Ortho[:,enviro_MO_inds[0]], Loc_Ortho[:,enviro_MO_inds[0]]))\n",
    "\n",
    "# # convert to localized basis (rather than ortho one)\n",
    "# PROJ_bas = S_neg_half@ PROJ_ortho  @ S_half\n",
    "# print(np.allclose(PROJ_bas @ C_all_localized[:,enviro_MO_inds[0]], C_all_localized[:,enviro_MO_inds[0]]))\n",
    "\n",
    "# # C_all_localized_and_virt # contains loc and virtual orbs!"
   ]
  },
  {
   "cell_type": "code",
   "execution_count": 235,
   "metadata": {},
   "outputs": [
    {
     "data": {
      "text/plain": [
       "False"
      ]
     },
     "execution_count": 235,
     "metadata": {},
     "output_type": "execute_result"
    }
   ],
   "source": [
    "orbital_ind=2\n",
    "np.allclose(projector @ C_loc_test[:, orbital_ind], C_loc_test[:, orbital_ind])"
   ]
  },
  {
   "cell_type": "code",
   "execution_count": 223,
   "metadata": {},
   "outputs": [
    {
     "name": "stdout",
     "output_type": "stream",
     "text": [
      "0.4316437748945203\n"
     ]
    }
   ],
   "source": [
    "IND=4\n",
    "# print(C_loc_test[:,IND].conj().T @ (v_emb + Fock) @ C_loc_test[:,IND])\n",
    "print(C_loc_test[:,IND].conj().T @ (projector) @ C_loc_test[:,IND])"
   ]
  },
  {
   "cell_type": "code",
   "execution_count": null,
   "metadata": {},
   "outputs": [],
   "source": [
    "full_system_scf.mo_coeff[:,full_system_scf.mo_occ>0]"
   ]
  },
  {
   "cell_type": "code",
   "execution_count": null,
   "metadata": {},
   "outputs": [],
   "source": []
  },
  {
   "cell_type": "code",
   "execution_count": null,
   "metadata": {},
   "outputs": [],
   "source": [
    "IND=2\n",
    "print(full_system_scf.mo_coeff[:,IND].conj().T @ full_system_scf.get_fock() @ full_system_scf.mo_coeff[:,IND])\n",
    "print(full_system_scf.mo_energy[IND])"
   ]
  },
  {
   "cell_type": "code",
   "execution_count": null,
   "metadata": {},
   "outputs": [],
   "source": [
    "IND=4\n",
    "print(C_all_localized[:,IND].conj().T @ full_system_scf.get_fock() @ C_all_localized[:,IND])\n",
    "print(full_system_scf.mo_energy[IND])"
   ]
  },
  {
   "cell_type": "code",
   "execution_count": null,
   "metadata": {},
   "outputs": [],
   "source": [
    "U = full_system_scf.mo_coeff @ np.linalg.pinv(C_all_localized)# c\n",
    "np.allclose(U @C_all_localized,\n",
    "            full_system_scf.mo_coeff) # checking U@ C_loc = C_standard"
   ]
  },
  {
   "cell_type": "code",
   "execution_count": null,
   "metadata": {},
   "outputs": [],
   "source": []
  },
  {
   "cell_type": "code",
   "execution_count": null,
   "metadata": {},
   "outputs": [],
   "source": [
    "U1, singular_values1, rotation_matrix = np.linalg.svd(full_system_scf.get_fock(dm = dm_active + dm_enviro)\n",
    "                                                      , full_matrices=True)\n",
    "\n",
    "U2, singular_values2, rotation_matrix2 = np.linalg.svd(full_system_scf.get_fock()\n",
    "                                                      , full_matrices=True)\n",
    "\n",
    "singular_values1"
   ]
  },
  {
   "cell_type": "code",
   "execution_count": null,
   "metadata": {},
   "outputs": [],
   "source": [
    "U1, singular_values1, rotation_matrix = np.linalg.svd(C_all_localized[:,full_system_scf.mo_occ>0], full_matrices=True)\n",
    "# U2, singular_values2, V2 = np.linalg.svd(full_system_scf.mo_coeff, full_matrices=True)\n",
    "\n",
    "C_active = C_all_localized[:,full_system_scf.mo_occ>0] @ rotation_matrix.T[:, active_MO_inds]\n",
    "C_envrio = C_all_localized[:,full_system_scf.mo_occ>0] @ rotation_matrix.T[:, enviro_MO_inds]\n",
    "\n",
    "\n",
    "C_matrix_all_localized_orbitals = C_all_localized[:,full_system_scf.mo_occ>0] @ rotation_matrix.T\n"
   ]
  },
  {
   "cell_type": "code",
   "execution_count": null,
   "metadata": {},
   "outputs": [],
   "source": [
    "dm_localised_full_system = 2* C_matrix_all_localized_orbitals@ C_matrix_all_localized_orbitals.conj().T\n",
    "dm_active =  2 * C_active @ C_active.T\n",
    "dm_enviro =  2 * C_envrio @ C_envrio.T\n",
    "    \n",
    "bool_density_flag = np.allclose(dm_localised_full_system, dm_active + dm_enviro)\n",
    "bool_density_flag"
   ]
  },
  {
   "cell_type": "code",
   "execution_count": null,
   "metadata": {},
   "outputs": [],
   "source": [
    "V_dag, singular_values, V = np.linalg.svd(U, full_matrices=True)\n",
    "\n",
    "print(C_all_localized[:,IND].conj().T @ (V@full_system_scf.get_fock() @ V_dag)/2 @ C_all_localized[:,IND])\n",
    "print(full_system_scf.mo_energy[IND])"
   ]
  },
  {
   "cell_type": "code",
   "execution_count": null,
   "metadata": {},
   "outputs": [],
   "source": []
  },
  {
   "cell_type": "code",
   "execution_count": null,
   "metadata": {},
   "outputs": [],
   "source": [
    "IND=2\n",
    "print(C_all_localized[:,IND].conj().T @ (U.conj().T@full_system_scf.get_fock() @ U) @ C_all_localized[:,IND])\n",
    "print(full_system_scf.mo_energy[IND])"
   ]
  },
  {
   "cell_type": "code",
   "execution_count": null,
   "metadata": {},
   "outputs": [],
   "source": []
  },
  {
   "cell_type": "code",
   "execution_count": null,
   "metadata": {},
   "outputs": [],
   "source": [
    "eig_vals, eig_vecs = np.linalg.eigh((U.conj().T@full_system_scf.get_fock() @ U))\n",
    "\n",
    "eig_vals2, eig_vecs2 = np.linalg.eigh(full_system_scf.get_fock())\n",
    "\n",
    "print(eig_vals)\n",
    "print(eig_vals2)"
   ]
  },
  {
   "cell_type": "code",
   "execution_count": null,
   "metadata": {},
   "outputs": [],
   "source": [
    "dm_loc = 2 * C_all_localized[:,full_system_scf.mo_occ>0] @ C_all_localized[:,full_system_scf.mo_occ>0].conj().T\n",
    "\n",
    "C_all_localized[:,IND].conj().T @ full_system_scf.get_fock() @ C_all_localized[:,IND]"
   ]
  },
  {
   "cell_type": "code",
   "execution_count": null,
   "metadata": {},
   "outputs": [],
   "source": [
    "C_opt_std = full_system_scf.mo_coeff[:,full_system_scf.mo_occ>0]\n",
    "dm_std = 2*C_opt_std @ C_opt_std.conj().T\n",
    "np.allclose(dm_std, dm_active+dm_enviro)"
   ]
  },
  {
   "cell_type": "code",
   "execution_count": null,
   "metadata": {},
   "outputs": [],
   "source": [
    "dm_active + dm_ac\n",
    "np.allclose(full_system_scf.get_veff(dm=dm_active + dm_enviro), \n",
    "            full_system_scf.get_veff())"
   ]
  },
  {
   "cell_type": "code",
   "execution_count": null,
   "metadata": {},
   "outputs": [],
   "source": [
    "Fock = full_system_scf.get_hcore() + full_system_scf.get_veff(dm = dm_active+ dm_enviro)\n",
    "eig_vals, eig_vecs = np.linalg.eigh(Fock)\n",
    "\n",
    "eig_vals"
   ]
  },
  {
   "cell_type": "code",
   "execution_count": null,
   "metadata": {},
   "outputs": [],
   "source": [
    "full_system_scf.mo_energy"
   ]
  },
  {
   "cell_type": "code",
   "execution_count": null,
   "metadata": {},
   "outputs": [],
   "source": [
    "fasdfds"
   ]
  },
  {
   "cell_type": "code",
   "execution_count": null,
   "metadata": {},
   "outputs": [],
   "source": [
    "Fock@full_system_scf.mo"
   ]
  },
  {
   "cell_type": "code",
   "execution_count": null,
   "metadata": {},
   "outputs": [],
   "source": []
  },
  {
   "cell_type": "code",
   "execution_count": null,
   "metadata": {},
   "outputs": [],
   "source": [
    "(U.conj().T@Fock@U).shape"
   ]
  },
  {
   "cell_type": "code",
   "execution_count": null,
   "metadata": {},
   "outputs": [],
   "source": []
  },
  {
   "cell_type": "code",
   "execution_count": null,
   "metadata": {},
   "outputs": [],
   "source": [
    "U = C_all_localized @ np.linalg.pinv(full_system_scf.mo_coeff)# c\n",
    "\n",
    "np.allclose(U @ full_system_scf.mo_coeff,\n",
    "C_all_localized)"
   ]
  },
  {
   "cell_type": "code",
   "execution_count": null,
   "metadata": {},
   "outputs": [],
   "source": [
    "# ind = 2\n",
    "# print(full_system_scf.mo_coeff[:,ind].conj().T @ full_system_scf.get_fock() @ full_system_scf.mo_coeff[:,ind])\n",
    "# print(full_system_scf.mo_energy[ind]) \n",
    "\n",
    "# F_mo = C_all_localized.conj().T @ (U.conj().T@ full_system_scf.get_fock() @U) @ C_all_localized\n",
    "# np.around(F_mo, 1)"
   ]
  },
  {
   "cell_type": "code",
   "execution_count": null,
   "metadata": {},
   "outputs": [],
   "source": [
    "C_all_localized.conj().T @ full_system_scf.get_fock() @ C_all_localized"
   ]
  },
  {
   "cell_type": "code",
   "execution_count": null,
   "metadata": {},
   "outputs": [],
   "source": [
    "Fock = full_system_scf.get_hcore() + full_system_scf.get_veff(dm = dm_active+ dm_enviro)\n",
    "F_rot = C_all_localized.conj().T @ (U.conj().T@ Fock @U) @ C_all_localized\n",
    "\n",
    "# F_MO = full_system_scf.mo_coeff.conj().T @ Fock @ full_system_scf.mo_coeff\n",
    "print(np.around(F_rot, 1))"
   ]
  },
  {
   "cell_type": "code",
   "execution_count": null,
   "metadata": {},
   "outputs": [],
   "source": []
  },
  {
   "cell_type": "code",
   "execution_count": null,
   "metadata": {},
   "outputs": [],
   "source": [
    "AO_slice_matrix = full_system_scf.mol.aoslice_by_atom()\n",
    "ao_active_inds = np.arange(AO_slice_matrix[0,2], AO_slice_matrix[N_active_atoms-1,3])\n",
    "\n",
    "ao_ENViro_inds = np.arange(AO_slice_matrix[N_active_atoms,2], AO_slice_matrix[-1,-1])\n",
    "\n",
    "print(ao_active_inds)\n",
    "print(ao_ENViro_inds)"
   ]
  },
  {
   "cell_type": "code",
   "execution_count": null,
   "metadata": {},
   "outputs": [],
   "source": [
    "ao_ENViro_inds"
   ]
  },
  {
   "cell_type": "code",
   "execution_count": null,
   "metadata": {},
   "outputs": [],
   "source": [
    "Fock = full_system_scf.get_hcore() + full_system_scf.get_veff(dm = dm_enviro)\n",
    "S_mat = full_system_scf.get_ovlp()\n",
    "\n",
    "P = np.zeros_like(Fock)\n",
    "# for i in ao_ENViro_inds:\n",
    "for mu in ao_ENViro_inds:\n",
    "    if mu in ao_ENViro_inds:\n",
    "        for nu in ao_ENViro_inds:\n",
    "            if nu in ao_ENViro_inds:\n",
    "                P[mu, nu]+= dm_enviro[mu, nu] * (Fock[mu, mu]*S_mat[nu, nu] + S_mat[mu, mu]*Fock[nu, nu])\n",
    "    \n",
    "P.shape"
   ]
  },
  {
   "cell_type": "code",
   "execution_count": null,
   "metadata": {},
   "outputs": [],
   "source": []
  },
  {
   "cell_type": "code",
   "execution_count": null,
   "metadata": {},
   "outputs": [],
   "source": [
    "# orbital_ind=4\n",
    "# psi_MO = EMBEDDED_full_system_scf.mo_coeff[:, orbital_ind]\n",
    "# E_MO =EMBEDDED_full_system_scf.mo_energy[orbital_ind]\n",
    "\n",
    "# Fock = EMBEDDED_full_system_scf.get_fock()\n",
    "# np.allclose(psi_MO.conj().T @Fock@psi_MO, E_MO)\n",
    "\n",
    "# Fock = full_system_scf.get_hcore() + full_system_scf.get_veff(dm = dm_active+ dm_enviro)\n",
    "# projector = np.zeros_like(Fock)\n",
    "# for orbital_ind in range(full_system_scf.mo_coeff.shape[1]):\n",
    "#     psi_MO = EMBEDDED_full_system_scf.mo_coeff[:, orbital_ind]\n",
    "#     if orbital_ind in active_MO_inds:\n",
    "#         outer = np.outer(psi_MO, psi_MO)\n",
    "#         projector-= Fock@outer + outer@Fock\n",
    "#     else:\n",
    "#        # inactive \n",
    "#         continue\n",
    "\n",
    "Fock = full_system_scf.get_hcore() + full_system_scf.get_veff(dm = dm_active+ dm_enviro)\n",
    "projector = np.zeros_like(Fock)\n",
    "for orbital_ind in range(C_all_localized.shape[1]):\n",
    "    psi_MO = C_all_localized[:, orbital_ind]\n",
    "    if orbital_ind in active_MO_inds:\n",
    "        outer = np.outer(psi_MO, psi_MO)\n",
    "        projector-= Fock@outer + outer@Fock\n",
    "    else:\n",
    "       # inactive \n",
    "        continue"
   ]
  },
  {
   "cell_type": "code",
   "execution_count": null,
   "metadata": {},
   "outputs": [],
   "source": [
    "# Fock = full_system_scf.get_hcore() + full_system_scf.get_veff(dm = dm_active+ dm_enviro)\n",
    "# S_mat = full_system_scf.get_ovlp()\n",
    "\n",
    "# projector = np.zeros_like(Fock)\n",
    "# for mu in range(Fock.shape[0]):\n",
    "#     for nu in range(Fock.shape[1]):\n",
    "#         projector[mu, nu] = -0.5* (dm_enviro[mu, nu]) * (Fock[mu,mu]*S_mat[nu, nu] + S_mat[mu,mu]*Fock[nu, nu])\n"
   ]
  },
  {
   "cell_type": "code",
   "execution_count": null,
   "metadata": {},
   "outputs": [],
   "source": [
    "# PP = -0.5 * dm_enviro @ (Fock@S_mat+ S_mat@Fock)\n",
    "# # np.allclose(projector, PP)"
   ]
  },
  {
   "cell_type": "code",
   "execution_count": null,
   "metadata": {},
   "outputs": [],
   "source": [
    "Fock = full_system_scf.get_hcore() + full_system_scf.get_veff(dm = dm_active+ dm_enviro)\n",
    "projector = np.zeros_like(Fock)\n",
    "for orbital_ind in range(C_all_localized.shape[1]):\n",
    "    psi_MO = C_all_localized[:, orbital_ind]\n",
    "    if orbital_ind in active_MO_inds:\n",
    "        outer = np.outer(psi_MO, psi_MO)\n",
    "        projector = outer\n",
    "    else:\n",
    "       # inactive \n",
    "        continue"
   ]
  },
  {
   "cell_type": "code",
   "execution_count": null,
   "metadata": {},
   "outputs": [],
   "source": [
    "Fock = full_system_scf.get_hcore() + full_system_scf.get_veff(dm = dm_active+ dm_enviro)\n",
    "projector = np.zeros_like(Fock)\n",
    "for orbital_ind in range(C_all_localized.shape[1]):\n",
    "    psi_MO = C_all_localized[:, orbital_ind]\n",
    "    if orbital_ind in enviro_MO_inds: # <---- ENV\n",
    "        outer = np.outer(psi_MO, psi_MO)\n",
    "        projector = Fock@outer + Fock@outer\n",
    "    else:\n",
    "       # inactive \n",
    "        continue"
   ]
  },
  {
   "cell_type": "code",
   "execution_count": null,
   "metadata": {},
   "outputs": [],
   "source": [
    "C_all_localized[:, orbital_ind]"
   ]
  },
  {
   "cell_type": "code",
   "execution_count": null,
   "metadata": {},
   "outputs": [],
   "source": [
    "orbital_ind=1\n",
    "\n",
    "mo_E = full_system_scf.mo_energy[orbital_ind]\n",
    "\n",
    "( (Fock) @ C_all_localized[:, orbital_ind])/ (C_all_localized[:, orbital_ind].conj().T@ Fock@ C_all_localized[:, orbital_ind])\n"
   ]
  },
  {
   "cell_type": "code",
   "execution_count": null,
   "metadata": {},
   "outputs": [],
   "source": [
    "# F_MO =  C_all_localized.conj().T @ Fock @ C_all_localized\n",
    "F_MO = full_system_scf.mo_coeff.conj().T @ Fock @ full_system_scf.mo_coeff\n",
    "print(np.around(F_MO, 2))\n"
   ]
  },
  {
   "cell_type": "code",
   "execution_count": null,
   "metadata": {},
   "outputs": [],
   "source": [
    "Proj_MO = np.zeros_like(F_MO)\n",
    "# Proj_MO[ao_active_inds, ao_active_inds]=1\n",
    "Proj_MO[ao_ENViro_inds, ao_ENViro_inds]= -1* F_MO[ao_ENViro_inds, ao_ENViro_inds]\n",
    "\n",
    "\n",
    "Proj_AO = (full_system_scf.mo_coeff.conj().T@ Proj_MO \n",
    "           @ np.linalg.pinv(full_system_scf.mo_coeff))\n",
    "\n",
    "# Proj_AO"
   ]
  },
  {
   "cell_type": "code",
   "execution_count": null,
   "metadata": {},
   "outputs": [],
   "source": [
    "MO_ind=6\n",
    "print(np.eye(Proj_MO.shape[0])[:,MO_ind] @ Proj_MO @ np.eye(Proj_MO.shape[0])[:,MO_ind])\n",
    "print(np.eye(Proj_MO.shape[0])[:,MO_ind] @ F_MO @ np.eye(Proj_MO.shape[0])[:,MO_ind])\n",
    "print()\n",
    "print(np.eye(Proj_MO.shape[0])[:,MO_ind] @ (F_MO+Proj_MO) @ np.eye(Proj_MO.shape[0])[:,MO_ind])"
   ]
  },
  {
   "cell_type": "code",
   "execution_count": null,
   "metadata": {},
   "outputs": [],
   "source": [
    "C_inv = np.linalg.pinv(full_system_scf.mo_coeff)\n",
    "projected_fock_AO = (C_inv.conj().T@ (Proj_MO+F_MO)@ C_inv)"
   ]
  },
  {
   "cell_type": "code",
   "execution_count": null,
   "metadata": {},
   "outputs": [],
   "source": [
    "ind = 6\n",
    "full_system_scf.mo_coeff[:,ind].conj().T @ projected_fock_AO @ full_system_scf.mo_coeff[:,ind]"
   ]
  },
  {
   "cell_type": "code",
   "execution_count": null,
   "metadata": {},
   "outputs": [],
   "source": [
    "full_system_scf.mo_coeff[:,ind].conj().T @ Fock @ full_system_scf.mo_coeff[:,ind]"
   ]
  },
  {
   "cell_type": "code",
   "execution_count": null,
   "metadata": {},
   "outputs": [],
   "source": []
  },
  {
   "cell_type": "code",
   "execution_count": null,
   "metadata": {},
   "outputs": [],
   "source": [
    "full_system_scf.mo_coeff[:,1]"
   ]
  },
  {
   "cell_type": "code",
   "execution_count": null,
   "metadata": {},
   "outputs": [],
   "source": [
    "Proj_AO@full_system_scf.mo_coeff[:,1]"
   ]
  },
  {
   "cell_type": "code",
   "execution_count": null,
   "metadata": {},
   "outputs": [],
   "source": [
    "np.allclose(np.linalg.pinv(full_system_scf.mo_coeff.conj().T)@ F_MO @ np.linalg.pinv(full_system_scf.mo_coeff),\n",
    "           Fock)"
   ]
  },
  {
   "cell_type": "code",
   "execution_count": null,
   "metadata": {},
   "outputs": [],
   "source": [
    "full_system_scf.mo_coeff[:, orbital_ind]"
   ]
  },
  {
   "cell_type": "code",
   "execution_count": null,
   "metadata": {},
   "outputs": [],
   "source": [
    "orbital_ind=3\n",
    "\n",
    "print(np.isclose(F_MO[orbital_ind,orbital_ind], full_system_scf.mo_energy[orbital_ind]))\n",
    "\n",
    "np.allclose(F_MO @ full_system_scf.mo_coeff[:, orbital_ind],\n",
    "            full_system_scf.mo_coeff[:, orbital_ind]/full_system_scf.mo_energy[orbital_ind])\n"
   ]
  },
  {
   "cell_type": "code",
   "execution_count": null,
   "metadata": {},
   "outputs": [],
   "source": [
    "orbital_ind=3\n",
    "projector @ full_system_scf.mo_coeff[:, orbital_ind]"
   ]
  },
  {
   "cell_type": "code",
   "execution_count": null,
   "metadata": {},
   "outputs": [],
   "source": [
    "C_all_localized[:, orbital_ind]"
   ]
  },
  {
   "cell_type": "code",
   "execution_count": null,
   "metadata": {},
   "outputs": [],
   "source": []
  },
  {
   "cell_type": "code",
   "execution_count": null,
   "metadata": {},
   "outputs": [],
   "source": [
    "Fock = full_system_scf.get_hcore() + full_system_scf.get_veff(dm = dm_active+ dm_enviro)\n",
    "projector = np.zeros_like(Fock)\n",
    "for orbital_ind in range(C_all_localized.shape[1]):\n",
    "    if orbital_ind in enviro_MO_inds:\n",
    "        outer = np.outer(psi_MO, psi_MO)\n",
    "        projector-= Fock@outer + outer@Fock\n",
    "    else:\n",
    "       # inactive \n",
    "        continue"
   ]
  },
  {
   "cell_type": "code",
   "execution_count": null,
   "metadata": {},
   "outputs": [],
   "source": [
    "orbital_ind=0\n",
    "C_all_localized[:, orbital_ind].conj().T @ (Fock+projector)@ C_all_localized[:, orbital_ind]"
   ]
  },
  {
   "cell_type": "code",
   "execution_count": null,
   "metadata": {},
   "outputs": [],
   "source": []
  },
  {
   "cell_type": "code",
   "execution_count": null,
   "metadata": {},
   "outputs": [],
   "source": []
  },
  {
   "cell_type": "code",
   "execution_count": null,
   "metadata": {},
   "outputs": [],
   "source": [
    "active_MO_inds"
   ]
  },
  {
   "cell_type": "code",
   "execution_count": null,
   "metadata": {},
   "outputs": [],
   "source": [
    "Fock = full_system_scf.get_hcore() + full_system_scf.get_veff(dm = dm_active+ dm_enviro)\n",
    "\n",
    "FP = (Fock + projector)\n",
    "\n",
    "orbital_ind=2\n",
    "psi_MO = EMBEDDED_full_system_scf.mo_coeff[:, orbital_ind]\n",
    "psi_MO.conj().T @FP@psi_MO\n"
   ]
  },
  {
   "cell_type": "code",
   "execution_count": null,
   "metadata": {},
   "outputs": [],
   "source": []
  },
  {
   "cell_type": "code",
   "execution_count": null,
   "metadata": {},
   "outputs": [],
   "source": [
    "# psi_MO = EMBEDDED_occ_orbs[:, 1]\n",
    "\n",
    "# P_B = 1e6* S_mat@ dm_enviro @ S_mat\n",
    "# P_B = -0.5*(Fock@dm_enviro@S_mat + S_mat@dm_enviro@Fock)\n",
    "\n",
    "for orbital_ind in range(EMBEDDED_full_system_scf.mo_coeff.shape[1]):\n",
    "    psi_MO = EMBEDDED_full_system_scf.mo_coeff[:, orbital_ind]\n",
    "    print(f'orb ind {orbital_ind}')\n",
    "#     print(f'<MO| Vemb |MO > : {2*(psi_MO @ V_embed @ psi_MO)} \\n')\n",
    "    print(f'<MO| Pb |MO > : {2*(psi_MO @ P @ psi_MO)} \\n')"
   ]
  },
  {
   "cell_type": "code",
   "execution_count": null,
   "metadata": {},
   "outputs": [],
   "source": [
    "# Fock = full_system_scf.get_hcore() + full_system_scf.get_veff(dm = dm_active+ dm_enviro)\n",
    "# S_mat = full_system_scf.get_ovlp()\n",
    "\n",
    "# Fock_A = full_system_scf.get_hcore() + full_system_scf.get_veff(dm = dm_active)"
   ]
  },
  {
   "cell_type": "code",
   "execution_count": null,
   "metadata": {},
   "outputs": [],
   "source": [
    "# F_A = Fock[:ao_active_inds[-1], :ao_active_inds[-1]]\n",
    "\n",
    "# gamma_tot = 2 * C_all_localized @ C_all_localized.conj().T\n",
    "\n",
    "# # gamma_act = gamma_tot[:ao_active_inds[-1]+1, :ao_active_inds[-1]+1]\n",
    "# # gamma_env = gamma_tot[ao_ENViro_inds[0]:, ao_ENViro_inds[0]:]\n",
    "# gamma_act = gamma_tot.copy()\n",
    "# gamma_act[ao_ENViro_inds[0]:, ao_ENViro_inds[0]:] = np.zeros((len(ao_ENViro_inds), len(ao_ENViro_inds)))\n",
    "\n",
    "# gamma_env = gamma_tot.copy()\n",
    "# gamma_env[:ao_active_inds[-1]+1, :ao_active_inds[-1]+1] = np.zeros((len(ao_active_inds), len(ao_active_inds)))\n",
    "\n",
    "# dm_active = gamma_act\n",
    "# gamma_env = gamma_env\n",
    "# V_embed  = vqe_in_dft.Geat_embedded_potential_operator(projector_method, \n",
    "#                                 full_system_scf, \n",
    "#                                 dm_active, \n",
    "#                                 dm_enviro, \n",
    "#                                 check_Hcore_is_correct=True, \n",
    "#                                 mu_shift_val=1e6,\n",
    "#                                 check_Vemb=True)"
   ]
  },
  {
   "cell_type": "code",
   "execution_count": null,
   "metadata": {},
   "outputs": [],
   "source": [
    "Fock = full_system_scf.get_hcore() + full_system_scf.get_veff(dm = dm_active+ dm_enviro)\n",
    "S_mat = full_system_scf.get_ovlp()\n",
    "\n",
    "Fock_A = full_system_scf.get_hcore() + full_system_scf.get_veff(dm = dm_active)"
   ]
  },
  {
   "cell_type": "code",
   "execution_count": null,
   "metadata": {},
   "outputs": [],
   "source": [
    "# # psi_MO = EMBEDDED_occ_orbs[:, 1]\n",
    "\n",
    "# P_B = 1e6* S_mat@ dm_enviro @ S_mat\n",
    "# # P_B = -0.5*(Fock@dm_enviro@S_mat + S_mat@dm_enviro@Fock)\n",
    "\n",
    "# for orbital_ind in range(EMBEDDED_full_system_scf.mo_coeff.shape[1]):\n",
    "#     psi_MO = EMBEDDED_full_system_scf.mo_coeff[:, orbital_ind]\n",
    "#     print(f'orb ind {orbital_ind}')\n",
    "# #     print(f'<MO| Vemb |MO > : {2*(psi_MO @ V_embed @ psi_MO)} \\n')\n",
    "#     print(f'<MO| Pb |MO > : {2*(psi_MO @ P_B @ psi_MO)} \\n')"
   ]
  },
  {
   "cell_type": "code",
   "execution_count": null,
   "metadata": {},
   "outputs": [],
   "source": [
    "# np.around(Fock_A@P_B - P_B@Fock_A, 5)"
   ]
  },
  {
   "cell_type": "markdown",
   "metadata": {},
   "source": [
    "# 5. Run RKS DFT of full system with $V_{emb}$ to get $\\gamma_{emb}^{\\text{active}}$ "
   ]
  },
  {
   "cell_type": "code",
   "execution_count": null,
   "metadata": {},
   "outputs": [],
   "source": [
    "full_system_mol_EMBEDDED = gto.Mole(atom= geometry,\n",
    "                      basis=basis,\n",
    "                       charge=charge,\n",
    "                       spin=spin,\n",
    "                      )\n",
    "full_system_mol_EMBEDDED.build()\n",
    "\n",
    "# RE-DEFINE number of electrons in system\n",
    "full_system_mol_EMBEDDED.nelectron = 2*len(active_MO_inds) # <------ IMPORTANT!\n",
    "\n",
    "EMBEDDED_full_system_scf = scf.RKS(full_system_mol_EMBEDDED)\n",
    "EMBEDDED_full_system_scf.verbose=1\n",
    "EMBEDDED_full_system_scf.max_memory= memory\n",
    "EMBEDDED_full_system_scf.conv_tol = 1e-6\n",
    "EMBEDDED_full_system_scf.xc = low_level_xc_functional\n",
    "\n",
    "h_core = EMBEDDED_full_system_scf.get_hcore()\n",
    "\n",
    "# overwrite h_core to include embedding term!!!!\n",
    "EMBEDDED_full_system_scf.get_hcore = lambda *args: V_embed + h_core\n",
    "\n",
    "E_emb = EMBEDDED_full_system_scf.kernel()\n",
    "\n",
    "print(f'embedded Energy: {E_emb}')"
   ]
  },
  {
   "cell_type": "code",
   "execution_count": null,
   "metadata": {},
   "outputs": [],
   "source": [
    "EMBEDDED_full_system_scf.conv_check"
   ]
  },
  {
   "cell_type": "code",
   "execution_count": null,
   "metadata": {},
   "outputs": [],
   "source": []
  },
  {
   "cell_type": "code",
   "execution_count": null,
   "metadata": {},
   "outputs": [],
   "source": [
    "EMBEDDED_occ_orbs = EMBEDDED_full_system_scf.mo_coeff[:,EMBEDDED_full_system_scf.mo_occ>0]\n",
    "\n",
    "# optimized embedded denisty matrix\n",
    "density_emb = 2 * EMBEDDED_occ_orbs @ EMBEDDED_occ_orbs.conj().T\n",
    "\n",
    "## check number of electrons makes sense:\n",
    "electron_check = np.isclose(np.trace(density_emb@full_system_scf.get_ovlp()), 2*len(active_MO_inds))\n",
    "\n",
    "print(f'number of e- in gamma_embedded is correct: {electron_check}')"
   ]
  },
  {
   "cell_type": "code",
   "execution_count": null,
   "metadata": {},
   "outputs": [],
   "source": []
  },
  {
   "cell_type": "code",
   "execution_count": null,
   "metadata": {},
   "outputs": [],
   "source": [
    "# calculate embedding correction term\n",
    "\n",
    "dm_correction = np.einsum('ij, ij', V_embed, density_emb-dm_active)\n",
    "WF_correction = np.einsum('ij, ij', V_embed, dm_active)\n",
    "\n",
    "print(f'RKS correction: {dm_correction}')\n",
    "print(f'WF correction: {WF_correction}')"
   ]
  },
  {
   "cell_type": "code",
   "execution_count": null,
   "metadata": {},
   "outputs": [],
   "source": []
  },
  {
   "cell_type": "code",
   "execution_count": null,
   "metadata": {},
   "outputs": [],
   "source": [
    "## PsiEmbed Way\n",
    "\n",
    "# J_emb, K_emb =EMBEDDED_full_system_scf.get_jk(dm=density_emb) \n",
    "\n",
    "# # note this uses the STANDARD H_core\n",
    "# matrix_dot = lambda A, B: np.einsum('ij,ij', A, B)\n",
    "# e_act_emb = matrix_dot(density_emb, h_core + 0.5 * J_emb - 0.25 * K_emb)\n",
    "# e_act_emb\n",
    "\n",
    "## MY way\n",
    "e_act_emb = full_system_scf.energy_elec(dm=density_emb,\n",
    "                                        vhf= full_system_scf.get_veff(dm=density_emb),\n",
    "                                       h1e = h_core)[0]\n",
    "e_act_emb"
   ]
  },
  {
   "cell_type": "code",
   "execution_count": null,
   "metadata": {},
   "outputs": [],
   "source": [
    "e_mf_emb = e_act_emb + E_env + two_e_cross + full_system_scf.energy_nuc() + dm_correction\n",
    "e_mf_emb # <-- energy from embedded DFT calc"
   ]
  },
  {
   "cell_type": "code",
   "execution_count": null,
   "metadata": {},
   "outputs": [],
   "source": [
    "full_system_scf.e_tot"
   ]
  },
  {
   "cell_type": "code",
   "execution_count": null,
   "metadata": {},
   "outputs": [],
   "source": [
    "print(f'global DFT calculation == seperated calculation: {np.isclose(e_mf_emb, full_system_scf.e_tot)}')\n",
    "# expected as same functional used!"
   ]
  },
  {
   "cell_type": "markdown",
   "metadata": {},
   "source": [
    "# 6. High level DFT calc!"
   ]
  },
  {
   "cell_type": "code",
   "execution_count": null,
   "metadata": {},
   "outputs": [],
   "source": [
    "full_system_mol_HIGH_LEVEL_DFT = gto.Mole(atom= geometry,\n",
    "                      basis=basis,\n",
    "                       charge=charge,\n",
    "                       spin=spin,\n",
    "                      )\n",
    "\n",
    "full_system_mol_HIGH_LEVEL_DFT.nelectron = 2*len(active_MO_inds) # <------ IMPORTANT!\n",
    "full_system_mol_HIGH_LEVEL_DFT.build()\n",
    "\n",
    "full_system_scf_HIGH_LEVEL = scf.RKS(full_system_mol_HIGH_LEVEL_DFT)\n",
    "full_system_scf_HIGH_LEVEL.verbose=1\n",
    "full_system_scf_HIGH_LEVEL.max_memory= memory\n",
    "full_system_scf_HIGH_LEVEL.conv_tol = 1e-6\n",
    "full_system_scf_HIGH_LEVEL.xc = high_level_xc_functional # <-- BETTER functional!\n",
    "\n",
    "\n",
    "# full_system_scf_HIGH_LEVEL.kernel() < --- do NOT RUN THIS"
   ]
  },
  {
   "cell_type": "code",
   "execution_count": null,
   "metadata": {},
   "outputs": [],
   "source": [
    "# run energy calc using high level functional (note density matrix is embedded A)\n",
    "\n",
    "e_act_emb_HIGH_LVL = full_system_scf_HIGH_LEVEL.energy_elec(dm=density_emb)\n",
    "e_act_emb_HIGH_LVL "
   ]
  },
  {
   "cell_type": "code",
   "execution_count": null,
   "metadata": {},
   "outputs": [],
   "source": [
    "E_high_lvl_DFT = e_act_emb_HIGH_LVL[0] + E_env + two_e_cross + full_system_scf.energy_nuc() + dm_correction\n",
    "E_high_lvl_DFT # <-- energy from embedded DFT calc"
   ]
  },
  {
   "cell_type": "code",
   "execution_count": null,
   "metadata": {},
   "outputs": [],
   "source": []
  },
  {
   "cell_type": "code",
   "execution_count": null,
   "metadata": {},
   "outputs": [],
   "source": [
    "print('High level DFT in DFT error:', np.abs(E_high_lvl_DFT-my_fci.e_tot))\n",
    "print('LOW level DFT in DFT error:', np.abs(e_mf_emb-my_fci.e_tot))"
   ]
  },
  {
   "cell_type": "code",
   "execution_count": null,
   "metadata": {},
   "outputs": [],
   "source": []
  },
  {
   "cell_type": "code",
   "execution_count": null,
   "metadata": {},
   "outputs": [],
   "source": []
  },
  {
   "cell_type": "markdown",
   "metadata": {},
   "source": [
    "# 7. High level WF calc (classical run) !"
   ]
  },
  {
   "cell_type": "code",
   "execution_count": null,
   "metadata": {},
   "outputs": [],
   "source": [
    "full_system_mol_EMBEDDED_HF = gto.Mole(atom= geometry,\n",
    "                      basis=basis,\n",
    "                       charge=charge,\n",
    "                       spin=spin,\n",
    "                      )\n",
    "full_system_mol_EMBEDDED_HF.build()\n",
    "\n",
    "# RE-DEFINE number of electrons in system\n",
    "full_system_mol_EMBEDDED_HF.nelectron = 2*len(active_MO_inds) # <------ IMPORTANT!\n",
    "\n",
    "EMBEDDED_full_system_scf_HF = scf.RHF(full_system_mol_EMBEDDED) # <---- Hartree Fock Calc!\n",
    "EMBEDDED_full_system_scf_HF.verbose=1\n",
    "EMBEDDED_full_system_scf_HF.max_memory= memory\n",
    "EMBEDDED_full_system_scf_HF.conv_tol = 1e-6\n",
    "\n",
    "h_core = EMBEDDED_full_system_scf_HF.get_hcore()\n",
    "\n",
    "# overwrite h_core to include embedding term!!!!\n",
    "EMBEDDED_full_system_scf_HF.get_hcore = lambda *args: V_embed + h_core\n",
    "\n",
    "# EMBEDDED_full_system_scf_HF.kernel() # <------ do NOT RUN!"
   ]
  },
  {
   "cell_type": "code",
   "execution_count": null,
   "metadata": {},
   "outputs": [],
   "source": [
    "# overwrite orbs with RKS embedded orbs!\n",
    "EMBEDDED_full_system_scf_HF.mo_coeff = EMBEDDED_full_system_scf.mo_coeff \n",
    "EMBEDDED_full_system_scf_HF.mo_occ = EMBEDDED_full_system_scf.mo_occ \n",
    "EMBEDDED_full_system_scf_HF.mo_energy = EMBEDDED_full_system_scf.mo_energy\n",
    "\n",
    "print(EMBEDDED_full_system_scf_HF.energy_elec(dm=density_emb)[0])\n",
    "print(EMBEDDED_full_system_scf_HF.energy_tot(dm=density_emb))\n",
    "print()\n",
    "print(EMBEDDED_full_system_scf_HF.energy_elec()[0])\n",
    "print(EMBEDDED_full_system_scf_HF.energy_tot())"
   ]
  },
  {
   "cell_type": "code",
   "execution_count": null,
   "metadata": {},
   "outputs": [],
   "source": []
  },
  {
   "cell_type": "code",
   "execution_count": null,
   "metadata": {},
   "outputs": [],
   "source": [
    "# EMBEDDED_full_system_scf_HF.kernel()\n",
    "# FCI_embedded = fci.FCI(EMBEDDED_full_system_scf_HF)\n",
    "# E_FCI,FCI_vec = FCI_embedded.kernel()\n",
    "# # from pyscf.ci.cisd import  to_fcivec\n",
    "# # cisdWFN   = to_fcivec(C_FCI, len(active_MO_inds), 2*len(active_MO_inds))\n",
    "\n",
    "# RDM1 = FCI_embedded.make_rdm1(FCI_vec,\n",
    "#                        norb=EMBEDDED_full_system_scf_HF.mo_coeff.shape[1],\n",
    "#                        nelec=2*len(active_MO_inds))\n",
    "\n",
    "# V,S, U = np.linalg.svd(RDM1)\n",
    "# print(np.isclose(2*len(active_MO_inds), np.sum(S)))\n",
    "# print(S)\n",
    "\n",
    "# print('')\n",
    "# print('ignore: ', S[])"
   ]
  },
  {
   "cell_type": "code",
   "execution_count": null,
   "metadata": {},
   "outputs": [],
   "source": []
  },
  {
   "cell_type": "code",
   "execution_count": null,
   "metadata": {},
   "outputs": [],
   "source": [
    "## CCSD calculation\n",
    "\n",
    "embedded_cc_obj = cc.CCSD(EMBEDDED_full_system_scf_HF)\n",
    "\n",
    "embedded_cc_obj.frozen = [i for i in range(EMBEDDED_full_system_scf_HF.mol.nao - len(enviro_MO_inds),\n",
    "                                           EMBEDDED_full_system_scf_HF.mol.nao)\n",
    "                         ]\n",
    "# embedded_cc_obj.frozen  = enviro_MO_inds.tolist()\n",
    "\n",
    "e_cc, t1, t2 = embedded_cc_obj.kernel()\n",
    "\n",
    "CC_flag_check = np.isclose(EMBEDDED_full_system_scf_HF.energy_tot(dm=density_emb),\n",
    "                          embedded_cc_obj.e_hf)\n",
    "\n",
    "\n",
    "print(f'E_corr: {e_cc}')\n",
    "print(f'\\nCC hartree fock energy matches HF embedded calc: {CC_flag_check}!')\n",
    "embedded_cc_obj.e_hf"
   ]
  },
  {
   "cell_type": "code",
   "execution_count": null,
   "metadata": {},
   "outputs": [],
   "source": []
  },
  {
   "cell_type": "code",
   "execution_count": null,
   "metadata": {},
   "outputs": [],
   "source": []
  },
  {
   "cell_type": "code",
   "execution_count": null,
   "metadata": {},
   "outputs": [],
   "source": [
    "print('orbital energies:')\n",
    "print(EMBEDDED_full_system_scf_HF.mo_energy)"
   ]
  },
  {
   "cell_type": "code",
   "execution_count": null,
   "metadata": {},
   "outputs": [],
   "source": [
    "print(embedded_cc_obj.frozen)"
   ]
  },
  {
   "cell_type": "code",
   "execution_count": null,
   "metadata": {},
   "outputs": [],
   "source": []
  },
  {
   "cell_type": "code",
   "execution_count": null,
   "metadata": {},
   "outputs": [],
   "source": [
    "WF_correction  = np.einsum('ij, ij', V_embed, dm_active) # note different definition\n",
    "\n",
    "E_WF = embedded_cc_obj.e_hf +e_cc  + E_env + two_e_cross - WF_correction\n",
    "E_WF "
   ]
  },
  {
   "cell_type": "code",
   "execution_count": null,
   "metadata": {},
   "outputs": [],
   "source": []
  },
  {
   "cell_type": "code",
   "execution_count": null,
   "metadata": {},
   "outputs": [],
   "source": [
    "print('High level DFT in DFT error:', np.abs(E_high_lvl_DFT-my_fci.e_tot))\n",
    "print('LOW level DFT in DFT error:', np.abs(e_mf_emb-my_fci.e_tot))\n",
    "\n",
    "print('WF in DFT error:', np.abs(E_WF-my_fci.e_tot))"
   ]
  },
  {
   "cell_type": "code",
   "execution_count": null,
   "metadata": {},
   "outputs": [],
   "source": []
  },
  {
   "cell_type": "code",
   "execution_count": null,
   "metadata": {
    "scrolled": true
   },
   "outputs": [],
   "source": [
    "drive_obj = vqe_in_dft.embeddeding_SCF_driver(geometry,\n",
    "                 N_active_atoms,\n",
    "                 projector_method,\n",
    "                 cheap_global_SCF_method='RKS', \n",
    "                 cheap_global_DFT_xc= 'lda, vwn',\n",
    "                 expensive_global_DFT_xc = 'b3lyp',\n",
    "                 cheap_WF_method = 'RHF',\n",
    "                 expensive_WF_method = 'CCSD',\n",
    "                 E_convergence_tol = 1e-6,\n",
    "                 basis = basis,\n",
    "                 unit= 'angstrom',\n",
    "                 pyscf_print_level=1,\n",
    "                 memory=8000,\n",
    "                 charge=0,\n",
    "                 spin=0,\n",
    "                 run_fci=False,\n",
    "                 run_cisd=False,\n",
    "                 mu_value=1e6,\n",
    "                 physists_notation= False)#phys_notation)\n",
    "\n",
    "E_DFT_low, E_DFT_high, E_Classical, E_QC, H_ferm = drive_obj.run_experiment(localization_method, \n",
    "                                                                      orbtial_loc_threshold=THRESHOLD,\n",
    "                                                                   jupyter_notebook=True)"
   ]
  },
  {
   "cell_type": "code",
   "execution_count": null,
   "metadata": {},
   "outputs": [],
   "source": [
    "# np.binary_repr(52).count('1')  "
   ]
  },
  {
   "cell_type": "code",
   "execution_count": null,
   "metadata": {},
   "outputs": [],
   "source": [
    "print('LOW level DFT in DFT error:', np.abs(E_DFT_low-my_fci.e_tot))\n",
    "print('High level DFT in DFT error:', np.abs(E_DFT_high-my_fci.e_tot))\n",
    "print('WF in DFT error:', np.abs(E_Classical-my_fci.e_tot))\n",
    "print('VQE in DFT error:', np.abs(E_QC-my_fci.e_tot))"
   ]
  },
  {
   "cell_type": "code",
   "execution_count": null,
   "metadata": {},
   "outputs": [],
   "source": [
    "print(e_mf_emb)\n",
    "print(E_high_lvl_DFT)\n",
    "print(E_WF)"
   ]
  },
  {
   "cell_type": "code",
   "execution_count": null,
   "metadata": {},
   "outputs": [],
   "source": []
  },
  {
   "cell_type": "code",
   "execution_count": null,
   "metadata": {},
   "outputs": [],
   "source": []
  },
  {
   "cell_type": "markdown",
   "metadata": {},
   "source": [
    "# QC part"
   ]
  },
  {
   "cell_type": "markdown",
   "metadata": {},
   "source": [
    "$$H_{fermionic} = h_{nuc} + \\sum_{p, q} h_{pq} a_{p}^{\\dagger} a_{q} + \\frac{1}{2} \\sum_{p, q ,r ,s} h_{pqrs} a_{p}^{\\dagger} a_{q}^{\\dagger} a_{r} a_{s}$$\n",
    "\n",
    "where:\n",
    "\n",
    "- $$h_{pq} = \\int d{\\vec{x}} \\phi_{p}^{*}({\\vec{x}}) \\bigg( - \\frac{\\nabla^{2}_{{\\vec{r}}}}{2} - \\sum_{I} \\frac{Z_{I}}{|{\\vec{r}} - {\\vec{R}_{I}} |} \\bigg) \\phi_{q}({\\vec{x}})$$\n",
    "\n",
    "\n",
    "- $$h_{pqrs} = \\int d{\\vec{x}}_{1} d{\\vec{x}}_{2} \\frac{\\phi_{p}^{*}({\\vec{x}}_{1}) \\phi_{q}^{*}({\\vec{x}}_{2}) \\phi_{s}({\\vec{x}}_{1}) \\phi_{r}({\\vec{x}}_{2})}{|{\\vec{r}_{1}} - {\\vec{r}}_{2}|}$$ \n",
    "\n",
    "\n",
    "- $$h_{nuc} = \\frac{1}{2} \\sum_{I \\neq J} \\frac{Z_{I} Z_{J}}{| {\\vec{R}}_{I} - {\\vec{R}}_{J}|}$$"
   ]
  },
  {
   "cell_type": "markdown",
   "metadata": {},
   "source": [
    "note project means we don't want last set of MO orbs filled!"
   ]
  },
  {
   "cell_type": "code",
   "execution_count": null,
   "metadata": {},
   "outputs": [],
   "source": [
    "# EMBEDDED_full_system_scf_HF.mo_coeff[:]"
   ]
  },
  {
   "cell_type": "code",
   "execution_count": null,
   "metadata": {},
   "outputs": [],
   "source": [
    "N_enviroment_MOs = len(enviro_MO_inds) \n",
    "\n",
    "one_body_integrals, two_body_integrals = vqe_in_dft.Get_embedded_one_and_two_body_integrals_MO_basis(EMBEDDED_full_system_scf_HF,\n",
    "                                                                                            N_enviroment_MOs,\n",
    "                                                                                            physists_notation=phys_notation)"
   ]
  },
  {
   "cell_type": "code",
   "execution_count": null,
   "metadata": {},
   "outputs": [],
   "source": [
    "print(one_body_integrals.shape)\n",
    "print(two_body_integrals.shape)\n",
    "\n",
    "print(active_MO_inds)\n",
    "print(enviro_MO_inds)"
   ]
  },
  {
   "cell_type": "code",
   "execution_count": null,
   "metadata": {},
   "outputs": [],
   "source": [
    "one_body_terms, two_body_terms = vqe_in_dft.Get_SpinOrbs_from_Spatial(one_body_integrals,\n",
    "                                                                   two_body_integrals,\n",
    "                                                                   physists_notation=phys_notation,\n",
    "                                                                   EQ_Tolerance=1e-8)"
   ]
  },
  {
   "cell_type": "code",
   "execution_count": null,
   "metadata": {},
   "outputs": [],
   "source": [
    "Nuclear_energy =  full_system_scf.energy_nuc()\n",
    "\n",
    "H_fermionic = vqe_in_dft.Get_fermionic_H(one_body_terms, \n",
    "                                     two_body_terms, \n",
    "                                     Nuclear_energy,\n",
    "                                     core_constant=0, \n",
    "                                     physists_notation=phys_notation,\n",
    "                                        jupyter_notebook=True)"
   ]
  },
  {
   "cell_type": "code",
   "execution_count": null,
   "metadata": {},
   "outputs": [],
   "source": [
    "len(list(H_fermionic))"
   ]
  },
  {
   "cell_type": "code",
   "execution_count": null,
   "metadata": {},
   "outputs": [],
   "source": [
    "from openfermion.linalg import get_sparse_operator\n",
    "H_sparse = get_sparse_operator(H_fermionic)"
   ]
  },
  {
   "cell_type": "code",
   "execution_count": null,
   "metadata": {},
   "outputs": [],
   "source": [
    "eigvals_EMBED, eigvecs_EMBED = sp.sparse.linalg.eigsh(H_sparse, which='SA', k=1)\n",
    "eigvals_EMBED"
   ]
  },
  {
   "cell_type": "code",
   "execution_count": null,
   "metadata": {},
   "outputs": [],
   "source": [
    "WF_correction  = np.einsum('ij, ij', V_embed, dm_active) # note different definition\n",
    "\n",
    "E_VQE = eigvals_EMBED[0]  + E_env + two_e_cross - WF_correction\n",
    "E_VQE "
   ]
  },
  {
   "cell_type": "code",
   "execution_count": null,
   "metadata": {},
   "outputs": [],
   "source": [
    "N_electrons_expected = 2*len(active_MO_inds)\n",
    "N_electrons_Q_state = np.binary_repr(np.where(np.abs(eigvecs_EMBED)>1e-2)[0][0]).count('1') \n",
    "\n",
    "print(f'expect {N_electrons_expected} electrons')\n",
    "print(f'quantum state has {N_electrons_Q_state} electrons \\n')\n",
    "\n",
    "print(f'number of electrons correct: {N_electrons_expected == N_electrons_Q_state}')"
   ]
  },
  {
   "cell_type": "code",
   "execution_count": null,
   "metadata": {},
   "outputs": [],
   "source": []
  },
  {
   "cell_type": "code",
   "execution_count": null,
   "metadata": {},
   "outputs": [],
   "source": [
    "print('High level DFT in DFT error:', np.abs(E_high_lvl_DFT-my_fci.e_tot))\n",
    "print('LOW level DFT in DFT error:', np.abs(e_mf_emb-my_fci.e_tot))\n",
    "\n",
    "\n",
    "print('WF in DFT error:', np.abs(E_WF-my_fci.e_tot))\n",
    "print('VQE error:', np.abs(E_VQE-my_fci.e_tot))"
   ]
  },
  {
   "cell_type": "code",
   "execution_count": null,
   "metadata": {},
   "outputs": [],
   "source": []
  },
  {
   "cell_type": "code",
   "execution_count": null,
   "metadata": {},
   "outputs": [],
   "source": [
    "where=np.where(np.around(eigvecs_EMBED, 4)>0)[0]\n",
    "print(where)\n",
    "\n",
    "np.binary_repr(where[0]).count('1') "
   ]
  },
  {
   "cell_type": "code",
   "execution_count": null,
   "metadata": {},
   "outputs": [],
   "source": []
  }
 ],
 "metadata": {
  "kernelspec": {
   "display_name": "Python 3",
   "language": "python",
   "name": "python3"
  },
  "language_info": {
   "codemirror_mode": {
    "name": "ipython",
    "version": 3
   },
   "file_extension": ".py",
   "mimetype": "text/x-python",
   "name": "python",
   "nbconvert_exporter": "python",
   "pygments_lexer": "ipython3",
   "version": "3.7.6"
  }
 },
 "nbformat": 4,
 "nbformat_minor": 4
}
