{
 "cells": [
  {
   "cell_type": "code",
   "execution_count": 1,
   "metadata": {},
   "outputs": [],
   "source": [
    "import numpy as np\n",
    "import sys\n",
    "sys.path.append( '../vqe-in-dft' )\n",
    "from tqdm import tqdm\n",
    "\n",
    "import vqe_in_dft \n",
    "\n",
    "import scipy as sp\n",
    "from pyscf import gto, dft, lib, mp, cc, scf, tools, ci, fci, lo, ao2mo"
   ]
  },
  {
   "cell_type": "code",
   "execution_count": null,
   "metadata": {},
   "outputs": [],
   "source": []
  },
  {
   "cell_type": "code",
   "execution_count": 2,
   "metadata": {},
   "outputs": [],
   "source": [
    "# geometry = [\n",
    "# ['H', (0.7493682,0.0000000,0.4424329)],\n",
    "# ['O', (0.0000000,0.0000000,-0.1653507)],\n",
    "    \n",
    "# ['H', (-0.7493682,0.0000000,0.4424329)]\n",
    "# ]\n",
    "\n",
    "geometry = [\n",
    "['C', (0.0000, 0.0000, 0.0000)],\n",
    "['H', (0.5288, 0.1610, 0.9359)],\n",
    "['H', (0.2051, 0.8240, -0.6786)],\n",
    "['H', (0.3345, -0.9314, -0.4496)],\n",
    "['H', (-1.0685, -0.0537, 0.1921)]\n",
    "]\n",
    "\n",
    "# geometry = [\n",
    "# ['H', (1.2473876659, -0.8998737590, 0.6150681570)],\n",
    "# ['O', (1.2322305822, -0.2731895077, -0.1276123902)],\n",
    "\n",
    "# ['C', (0.0849758188, 0.5590385475, 0.0510545434)],\n",
    "# ['H', (0.1506137362, 1.1200249874, 0.9943015309)],\n",
    "# ['H', (0.1316093068, 1.2841805400, -0.7645223601)],\n",
    "\n",
    "# ['C', (-1.2129704155, -0.2295285634, -0.0097156258)],\n",
    "# ['H', (-2.0801425360, 0.4329727646,0.0722817289)],\n",
    "# ['H', (-1.2655910941, -0.9539857247, 0.8097953440)],\n",
    "# ['H', (-1.2737541560, -0.7748626513, -0.9540587845)],\n",
    "# ]\n",
    "\n",
    "N_active_atoms = 2\n",
    "\n",
    "\n",
    "low_level_scf_method='RKS'\n",
    "high_level_scf_method='CCSD'\n",
    "E_convergence_tol = 1e-6\n",
    "basis = 'STO-3G' #'augccpvdz' # '6-31g' #'STO-3G'\n",
    "unit= 'angstrom'\n",
    "pyscf_print_level=1\n",
    "memory=8000\n",
    "charge=0\n",
    "spin=0\n",
    "run_fci= True#True\n",
    "low_level_xc_functional = 'lda, vwn' # 'b3lyp'\n",
    "high_level_xc_functional = 'b3lyp'\n",
    "\n",
    "phys_notation = True"
   ]
  },
  {
   "cell_type": "code",
   "execution_count": null,
   "metadata": {},
   "outputs": [],
   "source": []
  },
  {
   "cell_type": "markdown",
   "metadata": {},
   "source": [
    "# Build the GLOBAL (full) molecule\n",
    "\n",
    "\n",
    "and run supersystem calculation (cheap method)"
   ]
  },
  {
   "cell_type": "markdown",
   "metadata": {},
   "source": [
    "https://pyscf.org/_modules/pyscf/gto/basis.html"
   ]
  },
  {
   "cell_type": "code",
   "execution_count": 544,
   "metadata": {},
   "outputs": [
    {
     "data": {
      "text/plain": [
       "[['C', (0.0, 0.0, 0.0)],\n",
       " ['H', (0.5288, 0.161, 0.9359)],\n",
       " ['H', (0.2051, 0.824, -0.6786)],\n",
       " ['H', (0.3345, -0.9314, -0.4496)],\n",
       " ['H', (-1.0685, -0.0537, 0.1921)]]"
      ]
     },
     "execution_count": 544,
     "metadata": {},
     "output_type": "execute_result"
    }
   ],
   "source": [
    "full_system_mol = gto.Mole(atom= geometry,\n",
    "                      basis=basis,\n",
    "                       charge=charge,\n",
    "                       unit=unit,\n",
    "                       spin=spin,\n",
    "                      )\n",
    "full_system_mol.build()\n",
    "full_system_mol.atom"
   ]
  },
  {
   "cell_type": "code",
   "execution_count": 546,
   "metadata": {},
   "outputs": [
    {
     "name": "stdout",
     "output_type": "stream",
     "text": [
      "E(UHF-FCI) = -39.805676967111\n"
     ]
    }
   ],
   "source": [
    "## FCI comparison\n",
    "HF_scf = scf.RHF(full_system_mol)\n",
    "HF_scf.verbose=1\n",
    "HF_scf.max_memory= memory\n",
    "HF_scf.conv_tol = 1e-6\n",
    "HF_scf.kernel()\n",
    "\n",
    "my_fci = fci.FCI(HF_scf).run()\n",
    "print('E(UHF-FCI) = %.12f' % my_fci.e_tot)\n",
    "\n",
    "# myci = ci.CISD(HF_scf).run() # this is UCISD\n",
    "# print('UCISD total energy = ', myci.e_tot)"
   ]
  },
  {
   "cell_type": "code",
   "execution_count": 545,
   "metadata": {},
   "outputs": [
    {
     "data": {
      "application/3dmoljs_load.v0": "<div id=\"3dmolviewer_1632927594820194\"  style=\"position: relative; width: 400px; height: 400px\">\n        <p id=\"3dmolwarning_1632927594820194\" style=\"background-color:#ffcccc;color:black\">You appear to be running in JupyterLab (or JavaScript failed to load for some other reason).  You need to install the 3dmol extension: <br>\n        <tt>jupyter labextension install jupyterlab_3dmol</tt></p>\n        </div>\n<script>\n\nvar loadScriptAsync = function(uri){\n  return new Promise((resolve, reject) => {\n    var tag = document.createElement('script');\n    tag.src = uri;\n    tag.async = true;\n    tag.onload = () => {\n      resolve();\n    };\n  var firstScriptTag = document.getElementsByTagName('script')[0];\n  firstScriptTag.parentNode.insertBefore(tag, firstScriptTag);\n});\n};\n\nif(typeof $3Dmolpromise === 'undefined') {\n$3Dmolpromise = null;\n  $3Dmolpromise = loadScriptAsync('https://3dmol.org/build/3Dmol.js');\n}\n\nvar viewer_1632927594820194 = null;\nvar warn = document.getElementById(\"3dmolwarning_1632927594820194\");\nif(warn) {\n    warn.parentNode.removeChild(warn);\n}\n$3Dmolpromise.then(function() {\nviewer_1632927594820194 = $3Dmol.createViewer($(\"#3dmolviewer_1632927594820194\"),{backgroundColor:\"white\"});\nviewer_1632927594820194.zoomTo();\n\tviewer_1632927594820194.addModel(\"5\\n \\nC\\t0.0\\t0.0\\t0.0\\nH\\t0.5288\\t0.161\\t0.9359\\nH\\t0.2051\\t0.824\\t-0.6786\\nH\\t0.3345\\t-0.9314\\t-0.4496\\nH\\t-1.0685\\t-0.0537\\t0.1921\\n\",\"xyz\");\n\tviewer_1632927594820194.setStyle({\"stick\": {}});\n\tviewer_1632927594820194.zoomTo();\nviewer_1632927594820194.render();\n});\n</script>",
      "text/html": [
       "<div id=\"3dmolviewer_1632927594820194\"  style=\"position: relative; width: 400px; height: 400px\">\n",
       "        <p id=\"3dmolwarning_1632927594820194\" style=\"background-color:#ffcccc;color:black\">You appear to be running in JupyterLab (or JavaScript failed to load for some other reason).  You need to install the 3dmol extension: <br>\n",
       "        <tt>jupyter labextension install jupyterlab_3dmol</tt></p>\n",
       "        </div>\n",
       "<script>\n",
       "\n",
       "var loadScriptAsync = function(uri){\n",
       "  return new Promise((resolve, reject) => {\n",
       "    var tag = document.createElement('script');\n",
       "    tag.src = uri;\n",
       "    tag.async = true;\n",
       "    tag.onload = () => {\n",
       "      resolve();\n",
       "    };\n",
       "  var firstScriptTag = document.getElementsByTagName('script')[0];\n",
       "  firstScriptTag.parentNode.insertBefore(tag, firstScriptTag);\n",
       "});\n",
       "};\n",
       "\n",
       "if(typeof $3Dmolpromise === 'undefined') {\n",
       "$3Dmolpromise = null;\n",
       "  $3Dmolpromise = loadScriptAsync('https://3dmol.org/build/3Dmol.js');\n",
       "}\n",
       "\n",
       "var viewer_1632927594820194 = null;\n",
       "var warn = document.getElementById(\"3dmolwarning_1632927594820194\");\n",
       "if(warn) {\n",
       "    warn.parentNode.removeChild(warn);\n",
       "}\n",
       "$3Dmolpromise.then(function() {\n",
       "viewer_1632927594820194 = $3Dmol.createViewer($(\"#3dmolviewer_1632927594820194\"),{backgroundColor:\"white\"});\n",
       "viewer_1632927594820194.zoomTo();\n",
       "\tviewer_1632927594820194.addModel(\"5\\n \\nC\\t0.0\\t0.0\\t0.0\\nH\\t0.5288\\t0.161\\t0.9359\\nH\\t0.2051\\t0.824\\t-0.6786\\nH\\t0.3345\\t-0.9314\\t-0.4496\\nH\\t-1.0685\\t-0.0537\\t0.1921\\n\",\"xyz\");\n",
       "\tviewer_1632927594820194.setStyle({\"stick\": {}});\n",
       "\tviewer_1632927594820194.zoomTo();\n",
       "viewer_1632927594820194.render();\n",
       "});\n",
       "</script>"
      ]
     },
     "metadata": {},
     "output_type": "display_data"
    }
   ],
   "source": [
    "# Draw molecule\n",
    "\n",
    "xyz_string = vqe_in_dft.Get_xyz_string(full_system_mol)\n",
    "vqe_in_dft.Draw_molecule(xyz_string, width=400, height=400, jupyter_notebook=True)"
   ]
  },
  {
   "cell_type": "code",
   "execution_count": 547,
   "metadata": {},
   "outputs": [
    {
     "data": {
      "text/plain": [
       "-39.61684241519855"
      ]
     },
     "execution_count": 547,
     "metadata": {},
     "output_type": "execute_result"
    }
   ],
   "source": [
    "# Run global calculation\n",
    "\n",
    "full_system_scf = scf.RKS(full_system_mol)\n",
    "full_system_scf.verbose= pyscf_print_level\n",
    "full_system_scf.max_memory= memory\n",
    "full_system_scf.conv_tol = 1e-6\n",
    "full_system_scf.xc = low_level_xc_functional\n",
    "full_system_scf.kernel()"
   ]
  },
  {
   "cell_type": "code",
   "execution_count": null,
   "metadata": {},
   "outputs": [],
   "source": []
  },
  {
   "cell_type": "markdown",
   "metadata": {},
   "source": [
    "# Localise orbitals"
   ]
  },
  {
   "cell_type": "markdown",
   "metadata": {},
   "source": [
    "### Background\n",
    "\n",
    "The overlap matrix is:\n",
    "\n",
    "$$S_{\\mu \\nu} =  \\int d\\vec{r}_{1} \\phi_{\\mu}(1)^{*}\\phi_{\\nu}(1)$$\n",
    "\n",
    "- $\\phi_{\\mu}$ are basis functions (defined in basis set)\n",
    "\n",
    "\n",
    "The unknown molecular orbitals $\\psi_{i}$ are expanded as a linear expansion of the $K$ known basis functions:\n",
    "\n",
    "$$ \\psi_{i} =  \\sum_{\\mu=1}^{K} C_{\\mu i} \\psi_{\\mu}$$\n",
    "\n",
    "\n",
    "$C$ is a $K \\times K$ matrix of expansion coefficients $C_{\\mu i}$. The columns of $C$ describe the molecular orbitals!"
   ]
  },
  {
   "cell_type": "markdown",
   "metadata": {},
   "source": [
    "We can find the total number of electrons $N$ in the system by:\n",
    "\n",
    "$$ N =  2 \\sum_{a}^{N/2}\\int d\\vec{r}  \\bigg( \\psi_{a}(\\vec{r})^{*} \\psi_{i}(\\vec{r}) \\bigg) =  2 \\sum_{a}^{N/2} 1$$\n",
    "\n",
    "- integral gives probablity of finding electron $a$ over all space (must be 1)\n",
    "- summing over all electrons will give the total number of electrons"
   ]
  },
  {
   "cell_type": "code",
   "execution_count": null,
   "metadata": {},
   "outputs": [],
   "source": []
  },
  {
   "cell_type": "markdown",
   "metadata": {},
   "source": [
    "The charge density has the following definition:\n",
    "\n",
    "$$\\rho(\\vec{r}) = 2 \\sum_{a}^{N/2} \\bigg( \\psi_{a}(\\vec{r})^{*} \\psi_{i}(\\vec{r}) \\bigg)$$\n",
    "\n",
    "- re-write using definition of $\\psi_{i}=  \\sum_{\\mu=1}^{K} C_{\\mu i} \\phi_{\\mu}$\n",
    "\n",
    "$$\\rho(\\vec{r}) = 2 \\sum_{a}^{N/2} \\Bigg( \\bigg[ \\sum_{\\nu}^{K} C_{\\nu a}^{*} \\phi_{\\nu}(\\vec{r})^{*} \\bigg] \\bigg[ \\sum_{\\mu}^{K} C_{\\mu a}\\phi_{\\mu}(\\vec{r}) \\bigg] \\Bigg)$$\n",
    "\n",
    "- move things around\n",
    "\n",
    "$$\\rho(\\vec{r}) = \\sum_{\\nu}^{K} \\sum_{\\mu}^{K} \\Big( 2 \\sum_{a}^{N/2} C_{\\mu a} C_{\\nu a}^{*} \\Big) \\phi_{\\mu}(\\vec{r}) \\phi_{\\nu}(\\vec{r})^{*} $$\n",
    "\n",
    "- which is \n",
    "\n",
    "$$\\rho(\\vec{r}) = \\sum_{\\mu, \\nu}^{K} P_{\\mu \\nu} \\phi_{\\mu}(\\vec{r}) \\phi_{\\nu}(\\vec{r})^{*} $$\n",
    "\n",
    "\n",
    "- $P_{\\mu \\nu}$ is known as the density matrix and is:\n",
    "\n",
    "$$P_{\\mu \\nu} = 2 \\sum_{a}^{N/2} C_{\\mu a} C_{\\nu a}^{*}$$"
   ]
  },
  {
   "cell_type": "code",
   "execution_count": null,
   "metadata": {},
   "outputs": [],
   "source": []
  },
  {
   "cell_type": "markdown",
   "metadata": {},
   "source": [
    "Therefore we can also find the total number of electrons in the system by:\n",
    "\n",
    "$$ N =  2 \\sum_{a}^{N/2}\\int d\\vec{r}  \\bigg( \\psi_{a}(\\vec{r})^{*} \\psi_{i}(\\vec{r}) \\bigg) =  \\sum_{\\nu}^{K} \\sum_{\\mu}^{K} \\Big( 2 \\sum_{a}^{N/2} C_{\\mu a} C_{\\nu a}^{*} \\Big) \\int d\\vec{r} \\phi_{\\mu}(\\vec{r})  \\phi_{\\nu}(\\vec{r})^{*}$$\n",
    "\n",
    "- This is simply:\n",
    "\n",
    "$$N =  \\sum_{\\nu}^{K} \\sum_{\\mu}^{K} P_{\\mu \\nu} S_{\\nu \\mu}= \\sum_{\\mu}^{K} PS_{\\mu \\mu} = \\mathcal{Tr}(PS)$$"
   ]
  },
  {
   "cell_type": "markdown",
   "metadata": {},
   "source": [
    "- One can interpret $ PS_{\\mu \\mu}$ in the above equation as the number of electrons associated with $ \\phi_{\\mu}$\n",
    "- This is a **Mulliken population analysis**"
   ]
  },
  {
   "cell_type": "markdown",
   "metadata": {},
   "source": [
    "# Orbital Localization!"
   ]
  },
  {
   "cell_type": "markdown",
   "metadata": {},
   "source": [
    "A molecular orbital is usually delocalized, i.e. it has non-negligible amplitude over the whole system rather than only around some atom(s) or bond(s). However, one can choose a unitary rotation "
   ]
  },
  {
   "cell_type": "markdown",
   "metadata": {},
   "source": [
    "- When we perform a SCF calculation, one gets an optimized C matrix\n",
    "    - $C$ is a $K \\times K$ matrix of expansion coefficients $C_{\\mu i}$\n",
    "    - The columns of $C$ describe the molecular orbitals!\n",
    "    - MO i: $ \\psi_{i} =  \\sum_{\\mu=1}^{K} C_{\\mu i} \\psi_{\\mu}$\n",
    "    \n",
    "    \n",
    "- These molecular orbitals are usually **delocalized**\n",
    "    - non-negligible amplitude over the whole system, rather than only around some atom(s) or bond(s)\n",
    "\n",
    "- But we know in QM that a given basis choice is NOT unique\n",
    "\n",
    "\n",
    "- We can therefore perform a unitary rotation on molecular orbitals\n",
    "\n",
    "$$ \\psi_{i} U_{rot} =  \\Big( \\sum_{\\mu=1}^{K} C_{\\mu i} \\psi_{\\mu} \\Big) U_{rot} = \\psi_{i}^{new}$$\n",
    "    \n",
    "    \n",
    "The idea is to use a rotation such that the resulting orbitals $\\psi_{i}^{new}$ are as spatially localized as possible. \n",
    "\n",
    "\n",
    "The Pipek-Mezey (PM) [localization](https://notendur.hi.is/hj/papers/paperPipekmezey8.pdf) **maximizes the population charges on the atoms**:\n",
    "\n",
    "$$ f (U_{rot}) = \\sum_{A}^{N_{atoms}} \\Bigg( Z_{A} -  \\sum_{\\mu \\text{ on atom } A} PS_{\\mu \\mu} \\Bigg)$$"
   ]
  },
  {
   "cell_type": "markdown",
   "metadata": {},
   "source": [
    "# Choose active and environment systems"
   ]
  },
  {
   "cell_type": "markdown",
   "metadata": {},
   "source": [
    "## METHOD 1 "
   ]
  },
  {
   "cell_type": "markdown",
   "metadata": {},
   "source": [
    "- Given optimized $C$ coefficient matrix\n",
    "    - which has been rotated to localize orbitals\n",
    "    - (used to build localized density matrix)\n",
    "\n",
    "\n",
    "- **Look through basis functions $\\phi_{\\mu}$ of the ACTIVE atoms**\n",
    "\n",
    "    \n",
    "- check the mulliken charge // mulliken population of the orbital\n",
    "    - if above a certain threshold associate it to active system\n",
    "    - otherwise put in the environment\n",
    " \n",
    "\n",
    "\n",
    "To choose the active and enviroment subsystems we do the following:\n",
    "\n",
    "1. Given a localized molecular orbs (localized C matrix), we take the absolute mag squared of the coefficients of the active part for a given localized orb and divide by the absolute mag squared of all the coefficents of a that orb... THis will give a value of how much the active system contributes to that orb.\n",
    "\n",
    "2. Mathematically, for orbital $j$ \n",
    "    - remember MO orbs given by columns of C matrix\n",
    "    - In equation below C matrix is the LOCALIZED form!\n",
    "\n",
    "\n",
    "$$ \\text{threshold} =  \\frac{\\sum_{\\mu\\in \\text{active AO}}^{K} |C_{\\mu j}|^{2}}{\\sum_{\\mu =1}^{K} |C_{\\mu j}|^{2}}$$"
   ]
  },
  {
   "cell_type": "markdown",
   "metadata": {},
   "source": [
    "## METHOD 2 - SPADE\n",
    "\n",
    "WRITE NOTES TODO"
   ]
  },
  {
   "cell_type": "code",
   "execution_count": null,
   "metadata": {},
   "outputs": [],
   "source": []
  },
  {
   "cell_type": "code",
   "execution_count": 548,
   "metadata": {},
   "outputs": [],
   "source": [
    "def Localize_orbitals(localization_method, PySCF_scf_obj, N_active_atoms, THRESHOLD=None, sanity_check=True):\n",
    "\n",
    "    if PySCF_scf_obj.mo_coeff is None:\n",
    "        raise ValueError('need to perform SCF calculation before localization')\n",
    "\n",
    "\n",
    "    S_ovlp = PySCF_scf_obj.get_ovlp()\n",
    "    AO_slice_matrix = PySCF_scf_obj.mol.aoslice_by_atom()\n",
    "\n",
    "    occupied_orbs = PySCF_scf_obj.mo_coeff[:,PySCF_scf_obj.mo_occ>0]\n",
    "    # run localization scheme\n",
    "    if localization_method.lower() == 'spade':\n",
    "        \n",
    "\n",
    "        # Get active AO indices\n",
    "        N_active_AO = AO_slice_matrix[N_active_atoms-1][3]  # find max AO index for active atoms (neg 1 as python indexs from 0)\n",
    "\n",
    "        \n",
    "        S_half = sp.linalg.fractional_matrix_power(S_ovlp , 0.5)\n",
    "        orthogonal_orbitals = (S_half@occupied_orbs)[:N_active_AO, :] # Get rows (the active AO) of orthogonal orbs \n",
    "\n",
    "        # Comute singular vals\n",
    "        u, singular_values, rotation_matrix = np.linalg.svd(orthogonal_orbitals, full_matrices=True)\n",
    "\n",
    "        # find where largest step change \n",
    "        delta_s = singular_values[:-1] - singular_values[1:] # σ_i - σ_(i+1)\n",
    "        print('delta_singular_vals:')\n",
    "        print(delta_s, '\\n')\n",
    "\n",
    "        n_act_mos = np.argmax(delta_s)+1 # add one due to python indexing\n",
    "        n_env_mos = len(singular_values) - n_act_mos\n",
    "\n",
    "        # define active and environment orbitals from localization\n",
    "        act_orbitals = occupied_orbs @ rotation_matrix.T[:, :n_act_mos]\n",
    "        env_orbitals = occupied_orbs @ rotation_matrix.T[:, n_act_mos:]\n",
    "\n",
    "        C_matrix_all_localized_orbitals = occupied_orbs @ rotation_matrix.T\n",
    "\n",
    "        active_MO_inds  = np.arange(n_act_mos)\n",
    "        enviro_MO_inds = np.arange(n_act_mos, n_act_mos+n_env_mos)\n",
    "\n",
    "    else:\n",
    "        if not isinstance(THRESHOLD, float):\n",
    "            raise ValueError ('if localization method is not SPADE then a threshold parameter is requried to choose active system')\n",
    "\n",
    "\n",
    "        # run localization scheme\n",
    "        if localization_method.lower() == 'pipekmezey':\n",
    "            ### PipekMezey\n",
    "            PM = lo.PipekMezey(PySCF_scf_obj.mol, occupied_orbs)\n",
    "            PM.pop_method = 'mulliken' # 'meta-lowdin', 'iao', 'becke'\n",
    "            C_loc_occ = PM.kernel() # includes virtual orbs too!\n",
    "\n",
    "        elif localization_method.lower() == 'boys':\n",
    "            ### Boys\n",
    "            boys_SCF = lo.boys.Boys(PySCF_scf_obj.mol, occupied_orbs)\n",
    "            C_loc_occ  = boys_SCF.kernel()\n",
    "\n",
    "        elif localization_method.lower() == 'ibo':\n",
    "            ### intrinsic bonding orbs\n",
    "            #\n",
    "            iaos = lo.iao.iao(PySCF_scf_obj.mol, occupied_orbs)\n",
    "            # Orthogonalize IAO\n",
    "            iaos = lo.vec_lowdin(iaos, S_ovlp)\n",
    "            C_loc_occ = lo.ibo.ibo(PySCF_scf_obj.mol, occupied_orbs, locmethod='IBO', iaos=iaos)#.kernel()\n",
    "\n",
    "            # iaos = lo.iao.iao(PySCF_scf_obj.mol, PySCF_scf_obj.mo_coeff)\n",
    "            # # Orthogonalize IAO\n",
    "            # iaos = lo.vec_lowdin(iaos, S_ovlp)\n",
    "            # C_loc = lo.ibo.ibo(PySCF_scf_obj.mol, PySCF_scf_obj.mo_coeff, locmethod='IBO', iaos=iaos)#.kernel()\n",
    "            # C_loc_occ = C_loc[:,PySCF_scf_obj.mo_occ>0]\n",
    "        else:\n",
    "            raise ValueError(f'unknown localization method {localization_method}')\n",
    "        \n",
    "                        \n",
    "        # find indices of AO of active atoms\n",
    "        ao_active_inds = np.arange(AO_slice_matrix[0,2], AO_slice_matrix[N_active_atoms-1,3])\n",
    "\n",
    "        ### New method\n",
    "        numerator_all = np.einsum('ij->j', (C_loc_occ[ao_active_inds, :])**2) # active AOs coeffs for a given MO j\n",
    "        denominator_all = np.einsum('ij->j', C_loc_occ**2) # all AOs coeffs for a given MO j\n",
    "\n",
    "        MO_active_percentage = numerator_all/denominator_all\n",
    "\n",
    "        print('\\n(active_AO^2)/(all_AO^2):', np.around(MO_active_percentage,4))\n",
    "        print(f'threshold for active part: {THRESHOLD} \\n')\n",
    "\n",
    "        active_MO_inds = np.where(MO_active_percentage>THRESHOLD)[0]\n",
    "        enviro_MO_inds = np.array([i for i in range(C_loc_occ.shape[1]) if i not in active_MO_inds]) # get all non active MOs\n",
    "\n",
    "\n",
    "        # define active MO orbs and environment\n",
    "        act_orbitals = C_loc_occ[:, active_MO_inds] # take MO (columns of C_matrix) that have high dependence from active AOs\n",
    "        env_orbitals = C_loc_occ[:, enviro_MO_inds]\n",
    "        \n",
    "        C_matrix_all_localized_orbitals = C_loc_occ\n",
    "\n",
    "        n_act_mos = len(active_MO_inds)\n",
    "        n_env_mos = len(enviro_MO_inds)\n",
    "\n",
    "    print(f'number of active MOs: {n_act_mos}')\n",
    "    print(f'number of enviro MOs: {n_env_mos} \\n')\n",
    "\n",
    "    return act_orbitals, env_orbitals, C_matrix_all_localized_orbitals, active_MO_inds, enviro_MO_inds # C_active, C_enviro, C_all_localized, active_MO_inds, enviro_MO_inds"
   ]
  },
  {
   "cell_type": "code",
   "execution_count": 549,
   "metadata": {},
   "outputs": [
    {
     "name": "stdout",
     "output_type": "stream",
     "text": [
      "\n",
      "(active_AO^2)/(all_AO^2): [0.9988 0.5689 0.9855 0.5689 0.5689]\n",
      "threshold for active part: 0.95 \n",
      "\n",
      "number of active MOs: 2\n",
      "number of enviro MOs: 3 \n",
      "\n"
     ]
    }
   ],
   "source": [
    "localization_method= 'PipekMezey' # 'ibo', 'Boys', 'PipekMezey' 'SPADE'\n",
    "THRESHOLD = 0.95\n",
    "\n",
    "(C_active, \n",
    " C_envrio, \n",
    " C_all_localized, \n",
    " active_MO_inds,\n",
    " enviro_MO_inds) = Localize_orbitals(localization_method, \n",
    "                                     full_system_scf, \n",
    "                                     N_active_atoms, \n",
    "                                     THRESHOLD=THRESHOLD, \n",
    "                                     sanity_check=True)\n"
   ]
  },
  {
   "cell_type": "code",
   "execution_count": 550,
   "metadata": {},
   "outputs": [
    {
     "name": "stdout",
     "output_type": "stream",
     "text": [
      "want these C_loc and C_opt_std to be different: True\n",
      "want dm_std and dm_loc to be the SAME: True\n"
     ]
    }
   ],
   "source": [
    "dm_loc = 2* C_all_localized@ C_all_localized.conj().T\n",
    "dm_std = 2* full_system_scf.mo_coeff[:,full_system_scf.mo_occ>0]@ full_system_scf.mo_coeff[:,full_system_scf.mo_occ>0].conj().T\n",
    "\n",
    "print('want these C_loc and C_opt_std to be different:', not np.allclose(C_all_localized,\n",
    "                                                                         full_system_scf.mo_coeff[:,full_system_scf.mo_occ>0]))\n",
    "print('want dm_std and dm_loc to be the SAME:',np.allclose(dm_std, dm_loc))"
   ]
  },
  {
   "cell_type": "code",
   "execution_count": null,
   "metadata": {},
   "outputs": [],
   "source": []
  },
  {
   "cell_type": "markdown",
   "metadata": {},
   "source": [
    "Virtual localized orbs!:\n",
    "https://pyscf.org/_modules/pyscf/lo/vvo.html"
   ]
  },
  {
   "cell_type": "code",
   "execution_count": 551,
   "metadata": {},
   "outputs": [],
   "source": [
    "from pyscf.lo import vvo\n",
    "\n",
    "orbocc = full_system_scf.mo_coeff[:,full_system_scf.mo_occ>0]\n",
    "orbvirt = full_system_scf.mo_coeff[:,full_system_scf.mo_occ<2]\n",
    "C_virtual_loc = vvo.vvo(full_system_scf.mol,\n",
    "                    orbocc,\n",
    "                    orbvirt,\n",
    "                    iaos=None, \n",
    "                    s=None,\n",
    "                    verbose=None)\n",
    "\n",
    "C_virtual_loc.shape\n",
    "\n",
    "# could truncate here using active MO again!!!\n",
    "\n",
    "# PUT localized virtual orbs into full C matrix!\n",
    "C_all_localized_and_virt = np.hstack((C_all_localized,\n",
    "                                     C_virtual_loc))"
   ]
  },
  {
   "cell_type": "code",
   "execution_count": 552,
   "metadata": {},
   "outputs": [],
   "source": [
    "# PUT standard virtual orbs into full C matrix (no change from standard HF virutal orbs)!\n",
    "C_all_localized_and_virt = np.hstack((C_all_localized,\n",
    "                                     full_system_scf.mo_coeff[:,full_system_scf.mo_occ<2]))"
   ]
  },
  {
   "cell_type": "code",
   "execution_count": 553,
   "metadata": {},
   "outputs": [
    {
     "data": {
      "text/plain": [
       "-1.27675647831893e-15"
      ]
     },
     "execution_count": 553,
     "metadata": {},
     "output_type": "execute_result"
    }
   ],
   "source": [
    "S_half = sp.linalg.fractional_matrix_power(full_system_scf.get_ovlp() , 0.5)\n",
    "test =  S_half@ C_virtual_loc\n",
    "test[:,0].dot(test[:,2])\n"
   ]
  },
  {
   "cell_type": "markdown",
   "metadata": {},
   "source": []
  },
  {
   "cell_type": "markdown",
   "metadata": {},
   "source": [
    "# IMPORTANT orbital localization point!\n",
    "\n",
    "When we performed orbital localization a unitary rotation was used... this left the generated density matrix (C * C) unchanged...\n",
    "\n",
    "HOWEVER we need to also **rotate the Fock matrix** otherwise the orbital energies no longer make any sense (even though the final energy will be the same)!\n"
   ]
  },
  {
   "cell_type": "code",
   "execution_count": 554,
   "metadata": {},
   "outputs": [
    {
     "name": "stdout",
     "output_type": "stream",
     "text": [
      "want dm_std and dm_loc to be the SAME: True \n",
      "\n",
      "standard orb energies : \n",
      "\n",
      "[-9.56763009 -0.58148699 -0.30276035 -0.3027371  -0.30273108  0.4253797\n",
      "  0.42539908  0.42544391  0.47125932]\n",
      "[-9.56762769 -0.58148626 -0.30275977 -0.30273646 -0.30273044  0.42538041\n",
      "  0.4253998   0.42544456  0.4712599 ]\n",
      "\n",
      "LOCALIZED orb energies : \n",
      "\n",
      "[-9.5475474  -0.37745285 -0.37746327 -0.37743824 -0.37744386  0.4253797\n",
      "  0.42539908  0.42544391  0.47125932]\n",
      "[-9.56762769 -0.58148626 -0.30275977 -0.30273646 -0.30273044  0.42538041\n",
      "  0.4253998   0.42544456  0.4712599 ]\n"
     ]
    }
   ],
   "source": [
    "# here we see the localized and standard density matrices are the same!\n",
    "print('want dm_std and dm_loc to be the SAME:',np.allclose(dm_std, dm_loc), '\\n')\n",
    "\n",
    "\n",
    "print('standard orb energies : \\n')\n",
    "print(np.diag(full_system_scf.mo_coeff.conj().T @ full_system_scf.get_fock() @ full_system_scf.mo_coeff))\n",
    "print(full_system_scf.mo_energy)\n",
    "\n",
    "print('\\nLOCALIZED orb energies : \\n')\n",
    "print(np.diag(C_all_localized_and_virt.conj().T @ full_system_scf.get_fock() @ C_all_localized_and_virt))\n",
    "print(full_system_scf.mo_energy)\n",
    "\n",
    "# NOTE HOW THERE IS A DIFFERENCE WHEN LOCALIZED... To fix this we need to rotate the Fock matrix!"
   ]
  },
  {
   "cell_type": "code",
   "execution_count": null,
   "metadata": {},
   "outputs": [],
   "source": []
  },
  {
   "cell_type": "markdown",
   "metadata": {},
   "source": [
    "How to get the operator that changes the basis?\n",
    "\n",
    "1. Put the standard (unlocalized) and localized C matrix into orthogonal basis\n",
    "    - $C_{\\text{std}}^{\\text{ORTHO}} = S^{0.5}C_{\\text{std}}$\n",
    "    - $C_{\\text{loc}}^{\\text{ORTHO}} = S^{0.5}C_{\\text{loc}}$\n",
    "\n",
    "2. Define change of basis\n",
    "    - $U = \\sum_{i \\in occupied} | \\psi_{i}^{\\text{ORTHO, STD}} \\rangle \\langle \\psi_{i}^{\\text{ortho, loc}} | + \\sum_{i \\in virtual} | \\psi_{i}^{\\text{ORTHO, STD}} \\rangle \\langle \\psi_{i}^{\\text{ortho, STD}}| $ \n",
    "    - note this projects occupied standard ortho orbs onto localized orbs\n",
    "    - keeps virtual orbs the same\n",
    "        - if we localize the virtual orbs then we would need to use the same procedure as the occupied orbs (easy to include)"
   ]
  },
  {
   "cell_type": "code",
   "execution_count": 555,
   "metadata": {},
   "outputs": [
    {
     "name": "stdout",
     "output_type": "stream",
     "text": [
      "is U*C_ortho_loc =  C_ortho_STD: True\n",
      "is U Udag = Identity: True\n"
     ]
    }
   ],
   "source": [
    "# note can make this much better with einsum!\n",
    "\n",
    "S_mat = full_system_scf.get_ovlp()\n",
    "S_half = sp.linalg.fractional_matrix_power(full_system_scf.get_ovlp() , 0.5)\n",
    "\n",
    "ortho_std = S_half@ full_system_scf.mo_coeff\n",
    "ortho_loc = S_half@ C_all_localized_and_virt\n",
    "\n",
    "# ortho_loc[:,0].dot(ortho_loc[:,2])\n",
    "\n",
    "U = np.zeros((ortho_std.shape[0], ortho_std.shape[0]))\n",
    "for MO_ind in range(ortho_std.shape[1]):\n",
    "    outer = np.outer(ortho_std[:, MO_ind], ortho_loc[:, MO_ind])\n",
    "    U+=outer\n",
    "\n",
    "print(f'is U*C_ortho_loc =  C_ortho_STD: {(np.allclose(U @ ortho_loc, ortho_std))}')\n",
    "print(f'is U Udag = Identity: {np.allclose(U.conj().T@U, np.eye(U.shape[0]))}')\n",
    "                                          \n",
    "# ind = 0\n",
    "# Fock = full_system_scf.get_fock(dm=dm_std)\n",
    "# print(ortho_loc[:,ind].conj().T @ (U.conj().T @ Fock @ U) @ ortho_loc[:,ind])\n",
    "# print(ortho_std[:,ind].conj().T  @ Fock @ ortho_std[:,ind])"
   ]
  },
  {
   "cell_type": "markdown",
   "metadata": {},
   "source": [
    "Note that $U$ is currently defined using ORTHOGONAL BASIS... we want it in our usual MO basis\n",
    "\n",
    "Remembering that\n",
    "\n",
    "$$C_{\\text{std}}^{\\text{ORTHO}} = S^{0.5}C_{\\text{std}}$$\n",
    "\n",
    "Clearly to get back to standard basis we do:\n",
    "\n",
    "$$C_{\\text{std}} = S^{-0.5} C_{\\text{std}}^{\\text{ORTHO}}$$\n",
    "\n",
    "\n",
    "NOW as \n",
    "\n",
    "\n",
    "$$U C_{\\text{loc}}^{\\text{ORTHO}} =C_{\\text{std}}^{\\text{ORTHO}}$$\n",
    "\n",
    "we can re-write this using our definitions:\n",
    "- $C_{\\text{std}}^{\\text{ORTHO}} = S^{0.5}C_{\\text{std}}$\n",
    "- $C_{\\text{loc}}^{\\text{ORTHO}} = S^{0.5}C_{\\text{loc}}$\n",
    "\n",
    "$$U (S^{0.5}C_{\\text{std}}) = (S^{0.5}C_{\\text{loc}})$$\n",
    "\n",
    "Now we want to get rid of $S^{0.5}$ on RHS so we times on left by $S^{-0.5}$\n",
    "\n",
    "$$ S^{-0.5} U S^{0.5}C_{\\text{std}} = C_{\\text{loc}}$$\n",
    "\n",
    "Therefore the change of basis operator in our non-ortho basis is simply:\n",
    "\n",
    "$$ S^{-0.5} U S^{0.5}C_{\\text{std}} = V$$\n",
    "\n",
    "Where: $ V C_{\\text{std}} = C_{\\text{loc}}$\n"
   ]
  },
  {
   "cell_type": "code",
   "execution_count": 15,
   "metadata": {},
   "outputs": [
    {
     "name": "stdout",
     "output_type": "stream",
     "text": [
      "V @ C_loc = C_std: True\n"
     ]
    }
   ],
   "source": [
    "S_neg_half = sp.linalg.fractional_matrix_power(full_system_scf.get_ovlp() , -0.5)\n",
    "\n",
    "V = S_neg_half @ U @ S_half\n",
    "\n",
    "\n",
    "print('V @ C_loc = C_std:', np.allclose(V@C_all_localized_and_virt,\n",
    "                                            full_system_scf.mo_coeff))"
   ]
  },
  {
   "cell_type": "markdown",
   "metadata": {},
   "source": [
    "NOW we can check orbital energies of localized system when we use V to change basis:"
   ]
  },
  {
   "cell_type": "code",
   "execution_count": 556,
   "metadata": {},
   "outputs": [
    {
     "name": "stdout",
     "output_type": "stream",
     "text": [
      "standard orb energies : \n",
      "\n",
      "[-9.56763009 -0.58148699 -0.30276035 -0.3027371  -0.30273108  0.4253797\n",
      "  0.42539908  0.42544391  0.47125932]\n",
      "[-9.56762769 -0.58148626 -0.30275977 -0.30273646 -0.30273044  0.42538041\n",
      "  0.4253998   0.42544456  0.4712599 ]\n",
      "\n",
      "LOCALIZED orb energies WITHOUT Fock change of basis : \n",
      "\n",
      "[-9.5475474  -0.37745285 -0.37746327 -0.37743824 -0.37744386]\n",
      "[-9.56762769 -0.58148626 -0.30275977 -0.30273646 -0.30273044  0.42538041\n",
      "  0.4253998   0.42544456  0.4712599 ]\n",
      "\n",
      "LOCALIZED orb energies WITH Fock change of basis : \n",
      "\n",
      "[-9.56763009 -0.58148699 -0.30276035 -0.3027371  -0.30273108  0.4253797\n",
      "  0.42539908  0.42544391  0.47125932]\n",
      "[-9.56762769 -0.58148626 -0.30275977 -0.30273646 -0.30273044  0.42538041\n",
      "  0.4253998   0.42544456  0.4712599 ]\n"
     ]
    }
   ],
   "source": [
    "print('standard orb energies : \\n')\n",
    "print(np.diag(full_system_scf.mo_coeff.conj().T @ full_system_scf.get_fock() @ full_system_scf.mo_coeff))\n",
    "print(full_system_scf.mo_energy)\n",
    "\n",
    "print('\\nLOCALIZED orb energies WITHOUT Fock change of basis : \\n')\n",
    "print(np.diag(C_all_localized.conj().T @ full_system_scf.get_fock() @ C_all_localized))\n",
    "print(full_system_scf.mo_energy)\n",
    "\n",
    "\n",
    "print('\\nLOCALIZED orb energies WITH Fock change of basis : \\n')\n",
    "print(np.diag(C_all_localized_and_virt.conj().T @ (V.conj().T @ full_system_scf.get_fock() @ V) @ C_all_localized_and_virt))\n",
    "print(full_system_scf.mo_energy)"
   ]
  },
  {
   "cell_type": "code",
   "execution_count": null,
   "metadata": {},
   "outputs": [],
   "source": []
  },
  {
   "cell_type": "code",
   "execution_count": 944,
   "metadata": {},
   "outputs": [],
   "source": [
    "# modify H_core and Veff to allow this change of basis!!!\n",
    "\n",
    "def Get_new_Hcore(H_core, Unitary_rot):\n",
    "    H_core_rot = Unitary_rot.conj().T @ H_core @Unitary_rot \n",
    "    return H_core_rot\n",
    "\n",
    "from pyscf.dft.rks import get_veff as RKS_get_veff\n",
    "## RKS_get_veff gives Coulomb + XC functional\n",
    "## in matrix form: Veff = J + Vxc.\n",
    "    \n",
    "from pyscf import lib\n",
    "from pyscf.dft import numint\n",
    "\n",
    "def Get_new_Veff(pyscf_obj, Unitary, dm=None, check_result=False):\n",
    "    \n",
    "    if dm is None:\n",
    "        if pyscf_obj.mo_coeff is not None:\n",
    "            density_mat = pyscf_obj.make_rdm1(pyscf_obj.mo_coeff, pyscf_obj.mo_occ)\n",
    "        else:\n",
    "            density_mat = pyscf_obj.init_guess_by_1e()\n",
    "    else:\n",
    "        density_mat = dm\n",
    "    \n",
    "    \n",
    "#     Evaluate RKS/UKS XC functional and potential matrix on given meshgrids\n",
    "#     for a set of density matrices.\n",
    "    nelec, exc, vxc = numint.nr_vxc(pyscf_obj.mol,\n",
    "                                            pyscf_obj.grids,\n",
    "                                            pyscf_obj.xc,\n",
    "                                            density_mat)\n",
    "    vxc =  Unitary.conj().T @ vxc @ Unitary\n",
    "    \n",
    "    Veff = RKS_get_veff(pyscf_obj, dm=density_mat)\n",
    "    if Veff.vk is not None:\n",
    "        K = Unitary.conj().T @ Veff.vk @ Unitary\n",
    "        J = Unitary.conj().T @ Veff.vj @ Unitary\n",
    "        vxc += J - K * .5\n",
    "    else:\n",
    "        J = Unitary.conj().T @ Veff.vj @ Unitary\n",
    "        K = None\n",
    "        vxc += J \n",
    "    \n",
    "    if check_result is True:\n",
    "        M1 = Unitary.conj().T @ Veff.__array__() @ Unitary\n",
    "        if not np.allclose(vxc, M1):\n",
    "            raise ValueError('Veff in new basis NOT correct')\n",
    "    \n",
    "    ecoul = np.einsum('ij,ji', density_mat, J).real * .5 # note J matrix is in new basis!\n",
    "    ## this ecoul term changes if the full density matrix is NOT \n",
    "    # (aka for dm_active and dm_enviroment we get different V_eff under different bases!)\n",
    "    \n",
    "    \n",
    "    output = lib.tag_array(vxc, ecoul=ecoul, exc=Veff.exc, vj=J, vk=K)\n",
    "    return output\n"
   ]
  },
  {
   "cell_type": "code",
   "execution_count": 18,
   "metadata": {},
   "outputs": [],
   "source": [
    "# Get_new_Veff(full_system_scf,\n",
    "#                U_new,\n",
    "#             check_result=True)"
   ]
  },
  {
   "cell_type": "code",
   "execution_count": 19,
   "metadata": {},
   "outputs": [],
   "source": [
    "# from pyscf.dft import numint\n",
    "# # manual version of\n",
    "# # https://pyscf.org/_modules/pyscf/dft/dks.html#DKS.x2c1e\n",
    "# nelec, exc, vxc = numint.nr_vxc(test_full_system_scf.mol,\n",
    "#                                     test_full_system_scf.grids,\n",
    "#                                     test_full_system_scf.xc,\n",
    "#                                     dm_loc)\n",
    "\n",
    "# J= test_full_system_scf.get_j(test_full_system_scf.mol, dm_loc)\n",
    "# vxc += J\n",
    "# vxc\n",
    "\n",
    "# Veff = RKS_get_veff(test_full_system_scf, dm=dm_loc)\n",
    "# np.allclose(Veff.__array__(), vxc)"
   ]
  },
  {
   "cell_type": "code",
   "execution_count": 20,
   "metadata": {},
   "outputs": [],
   "source": [
    "# Veff = RKS_get_veff(test_full_system_scf, dm=dm_loc)\n",
    "# Veff_rot = U_new.conj().T @ Veff.__array__() @ U_new\n",
    "\n",
    "# test = Get_new_Veff(test_full_system_scf, U_new)\n",
    "# np.allclose(test, Veff_rot)"
   ]
  },
  {
   "cell_type": "code",
   "execution_count": null,
   "metadata": {},
   "outputs": [],
   "source": []
  },
  {
   "cell_type": "code",
   "execution_count": 950,
   "metadata": {},
   "outputs": [
    {
     "data": {
      "text/plain": [
       "-39.61684241524395"
      ]
     },
     "execution_count": 950,
     "metadata": {},
     "output_type": "execute_result"
    }
   ],
   "source": [
    "# Check pyscf obj with localized orbs and unitary change of basis gives same results as before!\n",
    "\n",
    "test_full_system_scf = scf.RKS(full_system_mol)\n",
    "test_full_system_scf.verbose= pyscf_print_level\n",
    "test_full_system_scf.max_memory= memory\n",
    "test_full_system_scf.conv_tol = 1e-6\n",
    "test_full_system_scf.xc = low_level_xc_functional\n",
    "\n",
    "\n",
    "Hcore_std = test_full_system_scf.get_hcore()\n",
    "test_full_system_scf.get_hcore = lambda *args: Get_new_Hcore(Hcore_std, \n",
    "                                                             Unitary_rot=V)\n",
    "\n",
    "\n",
    "test_full_system_scf.get_veff = lambda mol=None, dm=None, dm_last=0, vhf_last=0, hermi=1: Get_new_Veff(\n",
    "                                                                                    test_full_system_scf,\n",
    "                                                                                       V,\n",
    "                                                                                        dm=dm)\n",
    "\n",
    "\n",
    "test_full_system_scf.mo_coeff = C_all_localized_and_virt\n",
    "test_full_system_scf.mo_occ = full_system_scf.mo_occ\n",
    "\n",
    "test_full_system_scf.energy_tot(dm=dm_loc)"
   ]
  },
  {
   "cell_type": "code",
   "execution_count": 559,
   "metadata": {},
   "outputs": [
    {
     "name": "stdout",
     "output_type": "stream",
     "text": [
      "True\n",
      "True\n"
     ]
    }
   ],
   "source": [
    "print(np.allclose(C_std.conj().T @ full_system_scf.get_hcore() @ C_std,\n",
    "           C_all_localized_and_virt.conj().T @ test_full_system_scf.get_hcore() @ C_all_localized_and_virt))\n",
    "\n",
    "print(np.allclose(C_std.conj().T @ full_system_scf.get_veff(dm=dm_std) @ C_std,\n",
    "           C_all_localized_and_virt.conj().T @ test_full_system_scf.get_veff(dm=dm_loc) @ C_all_localized_and_virt))"
   ]
  },
  {
   "cell_type": "code",
   "execution_count": 560,
   "metadata": {},
   "outputs": [
    {
     "name": "stdout",
     "output_type": "stream",
     "text": [
      "-53.08968539169484\n",
      "\n",
      "-53.08968539174026\n"
     ]
    }
   ],
   "source": [
    "### RKS energy (not the same as HFock!)\n",
    "vhf_std = full_system_scf.get_veff(dm=dm_std)\n",
    "e1_std = np.einsum('ij,ji->', full_system_scf.get_hcore(), dm_std)\n",
    "e2_std = vhf_std.ecoul + vhf_std.exc\n",
    "print(e1_std + e2_std)\n",
    "\n",
    "print()\n",
    "vhf_loc = test_full_system_scf.get_veff(dm=dm_std)\n",
    "e1_loc = np.einsum('ij,ji->', test_full_system_scf.get_hcore(), dm_loc)\n",
    "e2_loc = vhf_loc.ecoul + vhf_loc.exc\n",
    "print(e1_loc+e2_loc)"
   ]
  },
  {
   "cell_type": "code",
   "execution_count": null,
   "metadata": {},
   "outputs": [],
   "source": []
  },
  {
   "cell_type": "code",
   "execution_count": 561,
   "metadata": {},
   "outputs": [
    {
     "name": "stdout",
     "output_type": "stream",
     "text": [
      "check electronic energies match: True\n"
     ]
    }
   ],
   "source": [
    "print('check electronic energies match:', np.allclose(full_system_scf.energy_elec(dm=dm_std)[0],\n",
    "                                test_full_system_scf.energy_elec(dm=dm_loc)[0]))\n",
    "\n",
    "# test_full_system_scf.kernel()  # run to populate mo_energy....\n",
    "# print('check MO energies match:', np.allclose(full_system_scf.mo_energy,\n",
    "#                                 test_full_system_scf.mo_energy))"
   ]
  },
  {
   "cell_type": "code",
   "execution_count": 562,
   "metadata": {
    "scrolled": true
   },
   "outputs": [
    {
     "name": "stdout",
     "output_type": "stream",
     "text": [
      "[[-9.57  0.    0.   -0.    0.    0.   -0.   -0.    0.  ]\n",
      " [ 0.   -0.58  0.   -0.    0.   -0.    0.    0.   -0.  ]\n",
      " [ 0.    0.   -0.3  -0.    0.    0.    0.    0.   -0.  ]\n",
      " [-0.   -0.   -0.   -0.3   0.    0.   -0.    0.    0.  ]\n",
      " [ 0.    0.    0.    0.   -0.3  -0.   -0.    0.   -0.  ]\n",
      " [ 0.   -0.    0.    0.   -0.    0.43  0.   -0.    0.  ]\n",
      " [-0.    0.    0.   -0.   -0.    0.    0.43  0.   -0.  ]\n",
      " [-0.    0.    0.    0.    0.   -0.    0.    0.43 -0.  ]\n",
      " [ 0.   -0.   -0.    0.   -0.    0.   -0.   -0.    0.47]]\n",
      "[[-9.57  0.    0.   -0.    0.    0.   -0.   -0.    0.  ]\n",
      " [ 0.   -0.58  0.   -0.    0.   -0.    0.    0.   -0.  ]\n",
      " [ 0.    0.   -0.3  -0.    0.    0.    0.    0.   -0.  ]\n",
      " [-0.   -0.   -0.   -0.3   0.    0.   -0.    0.    0.  ]\n",
      " [ 0.    0.    0.    0.   -0.3  -0.   -0.    0.   -0.  ]\n",
      " [ 0.   -0.    0.    0.   -0.    0.43  0.   -0.    0.  ]\n",
      " [-0.    0.    0.   -0.   -0.    0.    0.43  0.   -0.  ]\n",
      " [-0.    0.    0.    0.    0.   -0.    0.    0.43 -0.  ]\n",
      " [ 0.   -0.   -0.    0.   -0.    0.   -0.   -0.    0.47]]\n"
     ]
    }
   ],
   "source": [
    "F_new = test_full_system_scf.get_hcore() + test_full_system_scf.get_veff(dm_loc) # Note this is now in new basis!\n",
    "print(np.around(C_all_localized_and_virt.conj().T @ F_new @ C_all_localized_and_virt, 2))\n",
    "\n",
    "\n",
    "F_std = full_system_scf.get_hcore() + full_system_scf.get_veff(dm=dm_loc) # Note this is standard HF!\n",
    "C_std = full_system_scf.mo_coeff\n",
    "print(np.around(C_std.conj().T @ F_std @ C_std, 2))"
   ]
  },
  {
   "cell_type": "markdown",
   "metadata": {},
   "source": [
    "Basically we now have orbital energies matching as we want\n",
    "\n",
    "(This will become important when we move to post Hartree-Fock methods!)"
   ]
  },
  {
   "cell_type": "code",
   "execution_count": null,
   "metadata": {},
   "outputs": [],
   "source": []
  },
  {
   "cell_type": "code",
   "execution_count": null,
   "metadata": {},
   "outputs": [],
   "source": [
    "# # Draw active orbitals\n",
    "\n",
    "# list_active_orbitals = vqe_in_dft.Draw_cube_orbital(full_system_scf,\n",
    "#                              xyz_string,\n",
    "#                              C_all_localized, \n",
    "#                              active_MO_inds,\n",
    "#                              width=400, \n",
    "#                              height=400, \n",
    "#                              jupyter_notebook=True)\n",
    "\n",
    "# list_enviro_orbitals = vqe_in_dft.Draw_cube_orbital(full_system_scf,\n",
    "#                              xyz_string,\n",
    "#                              C_all_localized, \n",
    "#                              enviro_MO_inds,\n",
    "#                              width=400, \n",
    "#                              height=400, \n",
    "#                              jupyter_notebook=True)"
   ]
  },
  {
   "cell_type": "code",
   "execution_count": null,
   "metadata": {},
   "outputs": [],
   "source": [
    "# list_active_orbitals[0]"
   ]
  },
  {
   "cell_type": "code",
   "execution_count": null,
   "metadata": {},
   "outputs": [],
   "source": [
    "# list_enviro_orbitals[0]"
   ]
  },
  {
   "cell_type": "code",
   "execution_count": null,
   "metadata": {},
   "outputs": [],
   "source": []
  },
  {
   "cell_type": "code",
   "execution_count": 563,
   "metadata": {},
   "outputs": [],
   "source": [
    "def Get_active_and_envrio_dm(PySCF_scf_obj, C_active, C_envrio, C_all_localized, sanity_check=True):\n",
    "\n",
    "    # get density matrices\n",
    "    dm_active =  2 * C_active @ C_active.T\n",
    "    dm_enviro =  2 * C_envrio @ C_envrio.T\n",
    "\n",
    "    if sanity_check:\n",
    "\n",
    "        S_ovlp = PySCF_scf_obj.get_ovlp()\n",
    "\n",
    "        ## check number of electrons is still the same after orbitals have been localized (change of basis)\n",
    "        N_active_electrons = np.trace(dm_active@S_ovlp)\n",
    "        N_enviro_electrons = np.trace(dm_enviro@S_ovlp)\n",
    "        N_all_electrons = PySCF_scf_obj.mol.nelectron\n",
    "\n",
    "        bool_flag_electron_number = np.isclose(( N_active_electrons + N_enviro_electrons), N_all_electrons)\n",
    "        if not bool_flag_electron_number:\n",
    "            raise ValueError('number of electrons in localized orbitals is incorrect')\n",
    "        print(f'N_active_elec + N_environment_elec = N_total_elec is: {bool_flag_electron_number}')\n",
    "\n",
    "        # checking denisty matrix parition makes sense:\n",
    "        dm_localised_full_system = 2* C_all_localized@ C_all_localized.conj().T\n",
    "        bool_density_flag = np.allclose(dm_localised_full_system, dm_active + dm_enviro)\n",
    "        if not bool_density_flag:\n",
    "            raise ValueError('gamma_full != gamma_active + gamma_enviro')\n",
    "        print(f'y_active + y_enviro = y_total is: {bool_density_flag}')\n",
    "\n",
    "    return dm_active, dm_enviro"
   ]
  },
  {
   "cell_type": "code",
   "execution_count": 564,
   "metadata": {},
   "outputs": [
    {
     "name": "stdout",
     "output_type": "stream",
     "text": [
      "N_active_elec + N_environment_elec = N_total_elec is: True\n",
      "y_active + y_enviro = y_total is: True\n"
     ]
    }
   ],
   "source": [
    "dm_active, dm_enviro = Get_active_and_envrio_dm(\n",
    "                                            full_system_scf,\n",
    "                                            C_active, \n",
    "                                            C_envrio, \n",
    "                                            C_all_localized, \n",
    "                                            sanity_check=True)"
   ]
  },
  {
   "cell_type": "code",
   "execution_count": null,
   "metadata": {},
   "outputs": [],
   "source": []
  },
  {
   "cell_type": "code",
   "execution_count": null,
   "metadata": {},
   "outputs": [],
   "source": []
  },
  {
   "cell_type": "code",
   "execution_count": 565,
   "metadata": {},
   "outputs": [
    {
     "data": {
      "text/plain": [
       "True"
      ]
     },
     "execution_count": 565,
     "metadata": {},
     "output_type": "execute_result"
    }
   ],
   "source": [
    "two_e_term =  test_full_system_scf.get_veff(dm=dm_loc)\n",
    "\n",
    "np.allclose(V.conj().T @test_full_system_scf.get_j(dm = dm_loc) @ V,\n",
    "            two_e_term.vj)"
   ]
  },
  {
   "cell_type": "code",
   "execution_count": 566,
   "metadata": {},
   "outputs": [],
   "source": [
    "def Get_energy_and_matrices_from_dm(PySCF_scf_obj, dm_matrix, check_E_with_pyscf=True):\n",
    "    \"\"\"\n",
    "    Get Energy from denisty matrix\n",
    "\n",
    "    Note this uses the standard hcore (NO embedding potential here!)\n",
    "    \"\"\"\n",
    "\n",
    "    # It seems that PySCF lumps J and K in the J array \n",
    "    two_e_term =  PySCF_scf_obj.get_veff(dm=dm_matrix)\n",
    "    J_mat = two_e_term.vj\n",
    "    K_mat = np.zeros_like(J_mat)\n",
    "    \n",
    "    e_xc = two_e_term.exc\n",
    "    v_xc = two_e_term - J_mat \n",
    "\n",
    "#     H_core_standard = scf.hf.get_hcore(PySCF_scf_obj.mol) # No embedding potential\n",
    "    Energy_elec = (np.einsum('ij,ji->', PySCF_scf_obj.get_hcore(), dm_matrix) + \n",
    "                   two_e_term.ecoul + two_e_term.exc)\n",
    "    \n",
    "    if check_E_with_pyscf:\n",
    "        Energy_elec_pyscf = PySCF_scf_obj.energy_elec(dm=dm_matrix)[0]\n",
    "        if not np.isclose(Energy_elec_pyscf, Energy_elec):\n",
    "            raise ValueError('Energy calculation incorrect')\n",
    "\n",
    "    return Energy_elec, J_mat, K_mat, e_xc, v_xc"
   ]
  },
  {
   "cell_type": "code",
   "execution_count": null,
   "metadata": {},
   "outputs": [],
   "source": []
  },
  {
   "cell_type": "code",
   "execution_count": 567,
   "metadata": {},
   "outputs": [
    {
     "name": "stdout",
     "output_type": "stream",
     "text": [
      "-42.315152602312835\n"
     ]
    },
    {
     "data": {
      "text/plain": [
       "-42.315152602312835"
      ]
     },
     "execution_count": 567,
     "metadata": {},
     "output_type": "execute_result"
    }
   ],
   "source": [
    "# use active density\n",
    "E_act, J_act, K_act, e_xc_act, v_xc_act = Get_energy_and_matrices_from_dm( full_system_scf, # <-- standard\n",
    "                                                                             dm_active, # <- ACTIVE\n",
    "                                                                             check_E_with_pyscf=True)\n",
    "print(full_system_scf.energy_elec(dm=dm_active)[0])\n",
    "E_act"
   ]
  },
  {
   "cell_type": "code",
   "execution_count": 568,
   "metadata": {},
   "outputs": [
    {
     "name": "stdout",
     "output_type": "stream",
     "text": [
      "-42.34501663118313\n"
     ]
    },
    {
     "data": {
      "text/plain": [
       "-42.34501663118313"
      ]
     },
     "execution_count": 568,
     "metadata": {},
     "output_type": "execute_result"
    }
   ],
   "source": [
    "# use active density\n",
    "E_act, J_act, K_act, e_xc_act, v_xc_act = Get_energy_and_matrices_from_dm( test_full_system_scf, # <-- modified \n",
    "                                                                             dm_active, # <- ACTIVE\n",
    "                                                                             check_E_with_pyscf=True)\n",
    "print(test_full_system_scf.energy_elec(dm=dm_active)[0])\n",
    "E_act"
   ]
  },
  {
   "cell_type": "code",
   "execution_count": 569,
   "metadata": {},
   "outputs": [
    {
     "name": "stdout",
     "output_type": "stream",
     "text": [
      "-42.315152602312835\n",
      "-42.34501663118313\n",
      "\n",
      "-53.08968539174027\n",
      "-53.08968539169487\n"
     ]
    }
   ],
   "source": [
    "## Note different energies!\n",
    "print(full_system_scf.energy_elec(dm=dm_active)[0])\n",
    "print(test_full_system_scf.energy_elec(dm=dm_active)[0])\n",
    "\n",
    "## This is expected as now using active density matrix (rather than full one)\n",
    "\n",
    "print()\n",
    "# If we use the full dm matrix then we get matching results (aka now have full density matrix)\n",
    "E_loc = test_full_system_scf.energy_elec(dm=dm_active+dm_enviro)[0]\n",
    "E_std = full_system_scf.energy_elec(dm=dm_active+dm_enviro)[0] \n",
    "print(E_loc)\n",
    "print(E_std)"
   ]
  },
  {
   "cell_type": "code",
   "execution_count": 570,
   "metadata": {},
   "outputs": [],
   "source": [
    "# Note we want to use modified object, where change of basis on Fock matrix has been performed!"
   ]
  },
  {
   "cell_type": "code",
   "execution_count": 571,
   "metadata": {},
   "outputs": [
    {
     "name": "stdout",
     "output_type": "stream",
     "text": [
      "-23.781447923243903\n"
     ]
    },
    {
     "data": {
      "text/plain": [
       "-23.781447923243903"
      ]
     },
     "execution_count": 571,
     "metadata": {},
     "output_type": "execute_result"
    }
   ],
   "source": [
    "# use enviro density\n",
    "E_env, J_env, K_env, e_xc_env, v_xc_env = Get_energy_and_matrices_from_dm(\n",
    "                                                                            test_full_system_scf, # <-- modified \n",
    "                                                                             dm_enviro, # <- ENVIRO\n",
    "                                                                             check_E_with_pyscf=True)\n",
    "print(test_full_system_scf.energy_elec(dm=dm_enviro)[0])\n",
    "E_env"
   ]
  },
  {
   "cell_type": "code",
   "execution_count": 572,
   "metadata": {},
   "outputs": [],
   "source": [
    "def Get_cross_terms(PySCF_scf_obj, dm_active, dm_enviro, J_env, J_act, e_xc_act, e_xc_env):\n",
    "    \"\"\"\n",
    "    Get cross system terms\n",
    "    \n",
    "    \"\"\"\n",
    "\n",
    "    two_e_term_total =  PySCF_scf_obj.get_veff(dm=dm_active+dm_enviro)\n",
    "    e_xc_total = two_e_term_total.exc\n",
    "\n",
    "    j_cross = 0.5 * ( np.einsum('ij,ij', dm_active, J_env) + np.einsum('ij,ij', dm_enviro, J_act) )\n",
    "    k_cross = 0.0\n",
    "\n",
    "    xc_cross = e_xc_total - e_xc_act - e_xc_env\n",
    "    two_e_cross = j_cross + k_cross + xc_cross\n",
    "    \n",
    "    return two_e_cross"
   ]
  },
  {
   "cell_type": "code",
   "execution_count": 573,
   "metadata": {},
   "outputs": [],
   "source": [
    "# cross terms!\n",
    "two_e_cross = Get_cross_terms(test_full_system_scf, # <-- modified \n",
    "                                         dm_active, \n",
    "                                         dm_enviro, \n",
    "                                         J_env, \n",
    "                                         J_act, \n",
    "                                         e_xc_act,\n",
    "                                         e_xc_env)"
   ]
  },
  {
   "cell_type": "code",
   "execution_count": 574,
   "metadata": {},
   "outputs": [
    {
     "name": "stdout",
     "output_type": "stream",
     "text": [
      "E_active: -42.34501663118313\n",
      "E_enviro: -23.781447923243903\n",
      "E_cross: 13.036779162686791\n"
     ]
    }
   ],
   "source": [
    "print(f'E_active: {E_act}')\n",
    "print(f'E_enviro: {E_env}')\n",
    "print(f'E_cross: {two_e_cross}')"
   ]
  },
  {
   "cell_type": "code",
   "execution_count": 575,
   "metadata": {},
   "outputs": [
    {
     "name": "stdout",
     "output_type": "stream",
     "text": [
      "E_hf_standard : -39.61684241519855\n",
      "E_act + E_env + non_add_two_e + E_nuc : -39.616842415243944\n",
      "energies match True\n"
     ]
    },
    {
     "data": {
      "text/plain": [
       "4.53965753877128e-11"
      ]
     },
     "execution_count": 575,
     "metadata": {},
     "output_type": "execute_result"
    }
   ],
   "source": [
    "print(f'E_hf_standard : {full_system_scf.e_tot}')\n",
    "print(f'E_act + E_env + non_add_two_e + E_nuc : {E_act+E_env+two_e_cross+ full_system_scf.energy_nuc()}')\n",
    "\n",
    "# equation 1 of SPADE paper\n",
    "print(f'energies match {np.isclose(full_system_scf.e_tot, (E_act+E_env+two_e_cross+ full_system_scf.energy_nuc()))}') # equation 3 of SPADE paper\n",
    "full_system_scf.e_tot - (E_act+E_env+two_e_cross+ full_system_scf.energy_nuc())"
   ]
  },
  {
   "cell_type": "code",
   "execution_count": 576,
   "metadata": {},
   "outputs": [
    {
     "name": "stdout",
     "output_type": "stream",
     "text": [
      "6.000000000000006\n",
      "4.000000000000003\n"
     ]
    }
   ],
   "source": [
    "print(np.trace(S_mat@dm_enviro))\n",
    "print(np.trace(S_mat@dm_active))"
   ]
  },
  {
   "cell_type": "code",
   "execution_count": null,
   "metadata": {},
   "outputs": [],
   "source": []
  },
  {
   "cell_type": "markdown",
   "metadata": {},
   "source": [
    "# NEXT define the projector onto subsystem B (enviroment)"
   ]
  },
  {
   "cell_type": "markdown",
   "metadata": {},
   "source": [
    "$$P^{env} = \\sum_{i \\in \\text{env}} |\\psi_{i} \\rangle \\langle \\psi_{i}|$$\n",
    "\n",
    "important points:\n",
    "1. Currently C_localized matrix columns give MO orbs $|\\psi_{i} \\rangle$\n",
    "2. However, these are **not orthogonal**! Therefore defining a projector here is HARD\n",
    "3. To fix this:\n",
    "    - change to orthogonal basis\n",
    "    - now define projector in this new basis\n",
    "    - undo basis change to give projector in non-ortho basis!"
   ]
  },
  {
   "cell_type": "code",
   "execution_count": 962,
   "metadata": {},
   "outputs": [
    {
     "name": "stdout",
     "output_type": "stream",
     "text": [
      "Are subsystem B (env) projected onto themselves: True\n",
      "Is subsystem A traced out?: True\n"
     ]
    }
   ],
   "source": [
    "## manual projector\n",
    "\n",
    "## 1. convert to orthogonal C_matrix\n",
    "S_mat = full_system_scf.get_ovlp()\n",
    "S_half = sp.linalg.fractional_matrix_power(full_system_scf.get_ovlp() , 0.5)\n",
    "S_neg_half = sp.linalg.fractional_matrix_power(full_system_scf.get_ovlp() , -0.5)\n",
    "\n",
    "Loc_Ortho = S_half@ C_all_localized_and_virt # orthogonal C matrix (localized)\n",
    "\n",
    "## 2. Define projector that projects MO orbs of subsystem B onto themselves and system A onto zero state!\n",
    "##### (do this in orthongoal C_matrix!)\n",
    "### not we only take MO environment indices!\n",
    "PROJ_ortho = np.zeros_like(S_mat)\n",
    "for MO_ind in range(C_all_localized_and_virt.shape[1]):\n",
    "    if MO_ind in enviro_MO_inds:\n",
    "        outer = np.outer(Loc_Ortho[:, MO_ind], Loc_Ortho[:, MO_ind])\n",
    "        PROJ_ortho+=outer\n",
    "    else:\n",
    "        continue\n",
    "\n",
    "print(f'''Are subsystem B (env) projected onto themselves: {\n",
    "        np.allclose(PROJ_ortho@Loc_Ortho[:, enviro_MO_inds], \n",
    "        Loc_Ortho[:, enviro_MO_inds])}''') # projected onto itself\n",
    "\n",
    "print(f'''Is subsystem A traced out?: {\n",
    "        np.allclose(PROJ_ortho@Loc_Ortho[:, active_MO_inds], \n",
    "        np.zeros_like(Loc_Ortho[:, active_MO_inds]))}''') # # projected onto zeros!\n",
    "        \n",
    "        \n",
    "#### 3. NEXT USING PROJECTOR in ortho basis define projector via different methods\n",
    "        \n",
    "        \n",
    "# projector_method = 'huzinaga'\n",
    "projector_method = 'mu_shfit'\n",
    "\n",
    "if projector_method == 'huzinaga':\n",
    "    Fock = test_full_system_scf.get_hcore() + test_full_system_scf.get_veff(dm=dm_active + dm_enviro)\n",
    "    Fock_ortho = S_neg_half@Fock @ S_neg_half\n",
    "    \n",
    "    # Huzinaga\n",
    "    projector_ortho =  -0.5*(Fock_ortho@PROJ_ortho + PROJ_ortho@Fock_ortho) # 0.5 for restricted calc!\n",
    "    \n",
    "    projector = S_half @ projector_ortho  @ S_half\n",
    "    \n",
    "elif projector_method == 'mu_shfit':\n",
    "    mu = 1e6\n",
    "    projector_ortho = mu * PROJ_ortho\n",
    "    \n",
    "#     projector = S_neg_half @ projector_ortho  @ S_half\n",
    "\n",
    "    # mu shift\n",
    "    projector = S_half @ projector_ortho  @ S_half\n",
    "else:\n",
    "    raise ValueError(f'Unknown projection method {projector_method}')\n",
    "\n",
    "##### 4. Define projector in standard (non-orthogonal basis)\n",
    "# projector = S_half @ projector_ortho  @ S_half\n",
    "\n",
    "\n",
    "### 5. now can build relevant ops\n",
    "\n",
    "\n",
    "\n",
    "### TODO check this!!!\n",
    "# when using full_system_scf and mu_shift get correct result\n",
    "# but I think one should use test_full_system_scf (with modified Fock matrix) \n",
    "\n",
    "### NOTE: we do NOT use modified Fock matrix here!!!!!\n",
    "# g_A_and_B = full_system_scf.get_veff(dm=dm_active+dm_enviro)\n",
    "# g_A = full_system_scf.get_veff(dm=dm_active)\n",
    "\n",
    "# modified Fock matrix gives correct result when change of basis used on embedded pyscf obj!!!\n",
    "g_A_and_B = test_full_system_scf.get_veff(dm=dm_active+dm_enviro)\n",
    "g_A = test_full_system_scf.get_veff(dm=dm_active)\n",
    "\n",
    "v_emb = g_A_and_B - g_A + projector"
   ]
  },
  {
   "cell_type": "code",
   "execution_count": null,
   "metadata": {},
   "outputs": [],
   "source": []
  },
  {
   "cell_type": "code",
   "execution_count": 963,
   "metadata": {},
   "outputs": [
    {
     "name": "stdout",
     "output_type": "stream",
     "text": [
      " <env| P |env> = - <env| F |env> : True \n",
      "\n",
      "active subsystem orbital energies the same: True \n",
      "\n",
      "enviro subsystem orbital energies should be ZERO (traced out):True \n",
      "\n",
      "\n",
      "basically want active MOs first... then enviroment\n",
      "active MO indices: [0 2] \n",
      "\n",
      "should appear first when orbital inds listed by energy:\n"
     ]
    },
    {
     "data": {
      "text/plain": [
       "[(0, -9.567630085625224),\n",
       " (2, -0.30276034511375016),\n",
       " (1, -3.9785251950954056e-16),\n",
       " (3, 3.023883597375666e-16),\n",
       " (4, 1.4662095052195776e-15),\n",
       " (5, 0.4253796954062942),\n",
       " (6, 0.4253990835290896),\n",
       " (7, 0.4254439118843516),\n",
       " (8, 0.4712593200591671)]"
      ]
     },
     "execution_count": 963,
     "metadata": {},
     "output_type": "execute_result"
    }
   ],
   "source": [
    "Fock_loc_basis = test_full_system_scf.get_fock()\n",
    "\n",
    "if projector_method == 'mu_shfit':\n",
    "    new_orbital_energies = np.diag(C_all_localized_and_virt.conj().T @ (Fock_loc_basis+projector) @ C_all_localized_and_virt)\n",
    "\n",
    "    ## expect subsystem A orbital energies to remain the SAME\n",
    "    print(f'''active subsystem orbital energies the same: {np.allclose(new_orbital_energies[active_MO_inds],\n",
    "                                                        full_system_scf.mo_energy[active_MO_inds])} \\n''')\n",
    "\n",
    "    # expect subsystem B orbital energies to be pushed up to high energy\n",
    "    print(f'original MO energies env: {full_system_scf.mo_energy[enviro_MO_inds]}')\n",
    "    print(f'new MO energies env: {new_orbital_energies[enviro_MO_inds]}')\n",
    "    # print(f'''enviro subsystem orbital energies energy increased by mu: \n",
    "    #                                                     {np.allclose(new_orbital_energies[enviro_MO_inds],\n",
    "    #                                                     mu*full_system_scf.mo_energy[enviro_MO_inds])}''')\n",
    "    \n",
    "    \n",
    "elif projector_method == 'huzinaga':\n",
    "    ## projector should give opposite sign val of subsytem B orbitals vs standard Fock eval\n",
    "    proj_orb_energy = C_all_localized_and_virt[:, enviro_MO_inds].conj().T @projector@C_all_localized_and_virt[:, enviro_MO_inds]\n",
    "    fock_orb_energy = C_all_localized_and_virt[:, enviro_MO_inds].conj().T @Fock_loc_basis@C_all_localized_and_virt[:, enviro_MO_inds]\n",
    "    \n",
    "    print(f''' <env| P |env> = - <env| F |env> : {np.allclose(-1*proj_orb_energy,\n",
    "                                                              fock_orb_energy)} \\n''')\n",
    "    \n",
    "    new_orbital_energies = np.diag(C_all_localized_and_virt.conj().T @ (Fock_loc_basis+projector) @ C_all_localized_and_virt)\n",
    "    print(f'''active subsystem orbital energies the same: {np.allclose(new_orbital_energies[active_MO_inds],\n",
    "                                                    full_system_scf.mo_energy[active_MO_inds])} \\n''')\n",
    "    \n",
    "    print(f'''enviro subsystem orbital energies should be ZERO (traced out):{ \n",
    "                                   np.allclose(new_orbital_energies[enviro_MO_inds],\n",
    "                                                np.zeros_like(new_orbital_energies[enviro_MO_inds]))} \\n''')\n",
    "    \n",
    "else:\n",
    "    raise ValueError(f'Unknown projection method {projector_method}')\n",
    "\n",
    "\n",
    "print('\\nbasically want active MOs first... then enviroment')\n",
    "print(f'active MO indices: {active_MO_inds} \\n')\n",
    "print('should appear first when orbital inds listed by energy:')\n",
    "sorted([(i, new_orbital_energies[i])for i in range(new_orbital_energies.shape[0])], key=lambda x:x[1])"
   ]
  },
  {
   "cell_type": "code",
   "execution_count": 964,
   "metadata": {},
   "outputs": [
    {
     "name": "stdout",
     "output_type": "stream",
     "text": [
      "Trace(y_ENV @ PB): 2.37391035508439\n",
      "Trace(y_act @ PB): 9.974659986866641e-18\n",
      "\n",
      "Trace(y_ENV @ v_emb): 18.481704929202998\n",
      "Trace(y_act @ v_emb): 12.856678110017615\n"
     ]
    }
   ],
   "source": [
    "print('Trace(y_ENV @ PB):', np.einsum('ij, ij', dm_enviro, projector) )\n",
    "print('Trace(y_act @ PB):', np.einsum('ij, ij', dm_active, projector) )\n",
    "print()\n",
    "print('Trace(y_ENV @ v_emb):', np.einsum('ij, ij', dm_enviro, v_emb) )\n",
    "print('Trace(y_act @ v_emb):', np.einsum('ij, ij', dm_active, v_emb) )"
   ]
  },
  {
   "cell_type": "code",
   "execution_count": null,
   "metadata": {},
   "outputs": [],
   "source": []
  },
  {
   "cell_type": "code",
   "execution_count": 968,
   "metadata": {},
   "outputs": [
    {
     "name": "stdout",
     "output_type": "stream",
     "text": [
      "embedded Energy: -16.015495621244828\n"
     ]
    }
   ],
   "source": [
    "# full_system_mol_EMBEDDED = gto.Mole(atom= geometry,\n",
    "#                       basis=basis,\n",
    "#                        charge=charge,\n",
    "#                        spin=spin,\n",
    "#                       )\n",
    "# full_system_mol_EMBEDDED.build()\n",
    "\n",
    "# # RE-DEFINE number of electrons in system\n",
    "# full_system_mol_EMBEDDED.nelectron = 2*len(active_MO_inds) # <------ IMPORTANT!\n",
    "\n",
    "# EMBEDDED_full_system_scf = scf.RKS(full_system_mol_EMBEDDED)\n",
    "# EMBEDDED_full_system_scf.verbose=1\n",
    "# EMBEDDED_full_system_scf.max_memory= memory\n",
    "# EMBEDDED_full_system_scf.conv_tol = 1e-6\n",
    "# EMBEDDED_full_system_scf.xc = low_level_xc_functional\n",
    "\n",
    "# h_core = EMBEDDED_full_system_scf.get_hcore()\n",
    "\n",
    "# # overwrite h_core to include embedding term!!!!\n",
    "# EMBEDDED_full_system_scf.get_hcore = lambda *args: v_emb + h_core\n",
    "\n",
    "# E_emb = EMBEDDED_full_system_scf.kernel()\n",
    "\n",
    "# print(f'embedded Energy: {E_emb}')\n",
    "\n",
    "\n",
    "\n",
    "full_system_mol_EMBEDDED = gto.Mole(atom= geometry,\n",
    "                      basis=basis,\n",
    "                       charge=charge,\n",
    "                       spin=spin,\n",
    "                      )\n",
    "full_system_mol_EMBEDDED.build()\n",
    "\n",
    "# RE-DEFINE number of electrons in system\n",
    "full_system_mol_EMBEDDED.nelectron = 2*len(active_MO_inds) # <------ IMPORTANT!\n",
    "\n",
    "EMBEDDED_full_system_scf = scf.RKS(full_system_mol_EMBEDDED)\n",
    "EMBEDDED_full_system_scf.verbose=1\n",
    "EMBEDDED_full_system_scf.max_memory= memory\n",
    "EMBEDDED_full_system_scf.conv_tol = 1e-6\n",
    "EMBEDDED_full_system_scf.xc = low_level_xc_functional\n",
    "\n",
    "\n",
    "\n",
    "## include change of basis!\n",
    "Hcore_std = EMBEDDED_full_system_scf.get_hcore()\n",
    "EMBEDDED_full_system_scf.get_hcore = lambda *args: Get_new_Hcore(Hcore_std, \n",
    "                                                             Unitary_rot=V)\n",
    "\n",
    "\n",
    "EMBEDDED_full_system_scf.get_veff = lambda mol=None, dm=None, dm_last=0, vhf_last=0, hermi=1: Get_new_Veff(\n",
    "                                                                                    EMBEDDED_full_system_scf,\n",
    "                                                                                       V,\n",
    "                                                                                        dm=dm)\n",
    "\n",
    "Hcore_rotated = EMBEDDED_full_system_scf.get_hcore()\n",
    "\n",
    "# overwrite h_core to include embedding term!!!!\n",
    "EMBEDDED_full_system_scf.get_hcore = lambda *args: v_emb + Hcore_rotated\n",
    "\n",
    "E_emb = EMBEDDED_full_system_scf.kernel()\n",
    "\n",
    "print(f'embedded Energy: {E_emb}')"
   ]
  },
  {
   "cell_type": "code",
   "execution_count": 969,
   "metadata": {},
   "outputs": [
    {
     "name": "stdout",
     "output_type": "stream",
     "text": [
      "number of electrons is correct: True\n"
     ]
    }
   ],
   "source": [
    "print(f'''number of electrons is correct: {\n",
    "                                            np.isclose(sum(EMBEDDED_full_system_scf.mo_occ),\n",
    "                                            2*len(active_MO_inds))\n",
    "                                          }''')"
   ]
  },
  {
   "cell_type": "code",
   "execution_count": 970,
   "metadata": {},
   "outputs": [
    {
     "name": "stdout",
     "output_type": "stream",
     "text": [
      "-42.34501786833437\n"
     ]
    }
   ],
   "source": [
    "C_active_EMBEDDED = EMBEDDED_full_system_scf.mo_coeff[:, EMBEDDED_full_system_scf.mo_occ>0]\n",
    "dm_active_EMBEDDED = 2* C_active_EMBEDDED @ C_active_EMBEDDED.conj().T\n",
    "\n",
    "# energy with STANDARD rks object!\n",
    "print(test_full_system_scf.energy_elec(dm=dm_active_EMBEDDED)[0])"
   ]
  },
  {
   "cell_type": "code",
   "execution_count": null,
   "metadata": {},
   "outputs": [],
   "source": []
  },
  {
   "cell_type": "code",
   "execution_count": 971,
   "metadata": {},
   "outputs": [
    {
     "data": {
      "text/plain": [
       "-39.616842491819554"
      ]
     },
     "execution_count": 971,
     "metadata": {},
     "output_type": "execute_result"
    }
   ],
   "source": [
    "# calculate embedding correction term\n",
    "\n",
    "dm_correction = np.einsum('ij, ij', v_emb, dm_active_EMBEDDED-dm_active)\n",
    "\n",
    "e_act_emb = test_full_system_scf.energy_elec(dm=dm_active_EMBEDDED,\n",
    "                                        vhf= test_full_system_scf.get_veff(dm=dm_active_EMBEDDED),\n",
    "                                       h1e = test_full_system_scf.get_hcore())[0]\n",
    "\n",
    "# e_act_emb = full_system_scf.energy_elec(dm=dm_active_EMBEDDED,\n",
    "#                                         vhf= full_system_scf.get_veff(dm=dm_active_EMBEDDED),\n",
    "#                                        h1e = full_system_scf.get_hcore())[0]\n",
    "\n",
    "e_mf_emb = e_act_emb + E_env + two_e_cross + test_full_system_scf.energy_nuc() + dm_correction\n",
    "e_mf_emb # <-- energy from embedded DFT calc"
   ]
  },
  {
   "cell_type": "code",
   "execution_count": 972,
   "metadata": {},
   "outputs": [
    {
     "data": {
      "text/plain": [
       "-39.61684241519855"
      ]
     },
     "execution_count": 972,
     "metadata": {},
     "output_type": "execute_result"
    }
   ],
   "source": [
    "full_system_scf.e_tot"
   ]
  },
  {
   "cell_type": "code",
   "execution_count": 973,
   "metadata": {},
   "outputs": [
    {
     "name": "stdout",
     "output_type": "stream",
     "text": [
      "global DFT calculation == seperated calculation: True\n"
     ]
    }
   ],
   "source": [
    "print(f'''global DFT calculation == seperated calculation: {\n",
    "                                                            np.isclose(e_mf_emb,\n",
    "                                                                        full_system_scf.e_tot)\n",
    "                                                        }''')\n",
    "# expected as same functional used!"
   ]
  },
  {
   "cell_type": "code",
   "execution_count": null,
   "metadata": {},
   "outputs": [],
   "source": []
  },
  {
   "cell_type": "code",
   "execution_count": null,
   "metadata": {},
   "outputs": [],
   "source": []
  },
  {
   "cell_type": "code",
   "execution_count": 974,
   "metadata": {},
   "outputs": [
    {
     "data": {
      "text/plain": [
       "-16.390809031041307"
      ]
     },
     "execution_count": 974,
     "metadata": {},
     "output_type": "execute_result"
    }
   ],
   "source": [
    "full_system_mol_HIGH_LEVEL_DFT = gto.Mole(atom= geometry,\n",
    "                      basis=basis,\n",
    "                       charge=charge,\n",
    "                       spin=spin,\n",
    "                      )\n",
    "\n",
    "full_system_mol_HIGH_LEVEL_DFT.nelectron = 2*len(active_MO_inds) # <------ IMPORTANT!\n",
    "full_system_mol_HIGH_LEVEL_DFT.build()\n",
    "\n",
    "full_system_scf_HIGH_LEVEL = scf.RKS(full_system_mol_HIGH_LEVEL_DFT)\n",
    "full_system_scf_HIGH_LEVEL.verbose=1\n",
    "full_system_scf_HIGH_LEVEL.max_memory= memory\n",
    "full_system_scf_HIGH_LEVEL.conv_tol = 1e-6\n",
    "full_system_scf_HIGH_LEVEL.xc = high_level_xc_functional # <-- BETTER functional!\n",
    "\n",
    "\n",
    "# full_system_scf_HIGH_LEVEL.kernel() < --- do NOT RUN THIS\n",
    "\n",
    "\n",
    "## include change of basis!\n",
    "Hcore_std = full_system_scf_HIGH_LEVEL.get_hcore()\n",
    "full_system_scf_HIGH_LEVEL.get_hcore = lambda *args: Get_new_Hcore(Hcore_std, \n",
    "                                                             Unitary_rot=V)\n",
    "\n",
    "\n",
    "full_system_scf_HIGH_LEVEL.get_veff = lambda mol=None, dm=None, dm_last=0, vhf_last=0, hermi=1: Get_new_Veff(\n",
    "                                                                                    full_system_scf_HIGH_LEVEL, #<-need this here for more expensive xc fucnctional@\n",
    "                                                                                       V,\n",
    "                                                                                        dm=dm)\n",
    "\n",
    "Hcore_rotated = full_system_scf_HIGH_LEVEL.get_hcore()\n",
    "\n",
    "# overwrite h_core to include embedding term!!!!\n",
    "full_system_scf_HIGH_LEVEL.get_hcore = lambda *args: v_emb + Hcore_rotated\n",
    "\n",
    "e_act_emb_HIGH_LVL = full_system_scf_HIGH_LEVEL.kernel()\n",
    "e_act_emb_HIGH_LVL"
   ]
  },
  {
   "cell_type": "code",
   "execution_count": 975,
   "metadata": {},
   "outputs": [],
   "source": [
    "C_active_EMBEDDED_high_lvl = full_system_scf_HIGH_LEVEL.mo_coeff[:, full_system_scf_HIGH_LEVEL.mo_occ>0]\n",
    "dm_active_EMBEDDED_high_lvl = 2* C_active_EMBEDDED_high_lvl @ C_active_EMBEDDED_high_lvl.conj().T"
   ]
  },
  {
   "cell_type": "code",
   "execution_count": 976,
   "metadata": {},
   "outputs": [
    {
     "data": {
      "text/plain": [
       "-39.62205432802092"
      ]
     },
     "execution_count": 976,
     "metadata": {},
     "output_type": "execute_result"
    }
   ],
   "source": [
    "# calculate embedding correction term\n",
    "\n",
    "dm_correction_high_lvl = np.einsum('ij, ij', v_emb, dm_active_EMBEDDED_high_lvl-dm_active)\n",
    "\n",
    "e_act_emb_high_lvl = test_full_system_scf.energy_elec(dm=dm_active_EMBEDDED_high_lvl,\n",
    "                                        vhf= test_full_system_scf.get_veff(dm=dm_active_EMBEDDED_high_lvl),\n",
    "                                       h1e = test_full_system_scf.get_hcore())[0]\n",
    "\n",
    "E_high_lvl_DFT = e_act_emb_high_lvl + E_env + two_e_cross + test_full_system_scf.energy_nuc() + dm_correction_high_lvl\n",
    "E_high_lvl_DFT # <-- energy from embedded DFT calc"
   ]
  },
  {
   "cell_type": "code",
   "execution_count": 977,
   "metadata": {},
   "outputs": [
    {
     "name": "stdout",
     "output_type": "stream",
     "text": [
      "High level DFT in DFT error: 0.1836226390900748\n",
      "LOW level DFT in DFT error: 0.18883447529144348\n"
     ]
    }
   ],
   "source": [
    "print('High level DFT in DFT error:', np.abs(E_high_lvl_DFT-my_fci.e_tot))\n",
    "print('LOW level DFT in DFT error:', np.abs(e_mf_emb-my_fci.e_tot))"
   ]
  },
  {
   "cell_type": "code",
   "execution_count": null,
   "metadata": {},
   "outputs": [],
   "source": []
  },
  {
   "cell_type": "code",
   "execution_count": null,
   "metadata": {},
   "outputs": [],
   "source": []
  },
  {
   "cell_type": "code",
   "execution_count": null,
   "metadata": {},
   "outputs": [],
   "source": [
    "fkaisdjlfkds"
   ]
  },
  {
   "cell_type": "code",
   "execution_count": null,
   "metadata": {},
   "outputs": [],
   "source": []
  },
  {
   "cell_type": "code",
   "execution_count": null,
   "metadata": {},
   "outputs": [],
   "source": []
  },
  {
   "cell_type": "code",
   "execution_count": null,
   "metadata": {},
   "outputs": [],
   "source": []
  },
  {
   "cell_type": "code",
   "execution_count": null,
   "metadata": {},
   "outputs": [],
   "source": []
  },
  {
   "cell_type": "code",
   "execution_count": null,
   "metadata": {},
   "outputs": [],
   "source": []
  },
  {
   "cell_type": "code",
   "execution_count": 590,
   "metadata": {},
   "outputs": [
    {
     "data": {
      "text/plain": [
       "array([-581486.259046  , -302736.45692252, -302730.4359499 ])"
      ]
     },
     "execution_count": 590,
     "metadata": {},
     "output_type": "execute_result"
    }
   ],
   "source": [
    "mu*full_system_scf.mo_energy[enviro_MO_inds]"
   ]
  },
  {
   "cell_type": "code",
   "execution_count": 591,
   "metadata": {},
   "outputs": [
    {
     "data": {
      "text/plain": [
       "array([999999.41851301, 999999.6972629 , 999999.69726892])"
      ]
     },
     "execution_count": 591,
     "metadata": {},
     "output_type": "execute_result"
    }
   ],
   "source": [
    "new_orbital_energies[enviro_MO_inds]"
   ]
  },
  {
   "cell_type": "code",
   "execution_count": null,
   "metadata": {},
   "outputs": [],
   "source": []
  },
  {
   "cell_type": "code",
   "execution_count": null,
   "metadata": {},
   "outputs": [],
   "source": []
  },
  {
   "cell_type": "code",
   "execution_count": null,
   "metadata": {},
   "outputs": [],
   "source": []
  },
  {
   "cell_type": "code",
   "execution_count": null,
   "metadata": {},
   "outputs": [],
   "source": [
    "# S_minus_half = sp.linalg.fractional_matrix_power(S_mat, -0.5)\n",
    "# S_minus_plus = sp.linalg.fractional_matrix_power(S_mat, 0.5)\n",
    "# test = S_minus_plus@ C_envrio\n",
    "# print(test[:,0] @ test[:,0] )\n",
    "# print(test[:,0] @ test[:,1])"
   ]
  },
  {
   "cell_type": "code",
   "execution_count": null,
   "metadata": {},
   "outputs": [],
   "source": [
    "# S_minus_half = sp.linalg.fractional_matrix_power(S_mat, -0.5)\n",
    "# np.allclose(S_minus_half.conj().T, S_minus_half) # Udagger = U!!!!"
   ]
  },
  {
   "cell_type": "code",
   "execution_count": null,
   "metadata": {},
   "outputs": [],
   "source": [
    "Fock = test_full_system_scf.get_hcore() + test_full_system_scf.get_veff(dm=dm_active + dm_enviro)\n",
    "\n",
    "S_minus_half = sp.linalg.fractional_matrix_power(S_mat, -0.5)\n",
    "S_plus_half = sp.linalg.fractional_matrix_power(S_mat, 0.5)\n",
    "\n",
    "Fock_prime = S_minus_half  @ Fock @ S_minus_half \n",
    "C_enviro_prime = S_plus_half@ C_envrio\n",
    "dm_enviro_prime = 2* C_enviro_prime@C_enviro_prime.conj().T\n",
    "S_prime =  S_minus_half  @ S_mat @ S_minus_half\n",
    "\n",
    "F_gammaB_S = Fock_prime @ dm_enviro_prime @ S_prime #@ np.eye(Fock_prime.shape[0]) #S_mat\n",
    "# F_gammaB_S = S_half@ F_gammaB_S  @  S_neg_half\n",
    "projector = -0.5 * (F_gammaB_S + F_gammaB_S.T)\n",
    "# projector =  S_neg_half @ projector @  S_half\n",
    "print(np.allclose(projector @ C_enviro_prime[:,enviro_MO_inds[0]],\n",
    "                  C_enviro_prime[:,enviro_MO_inds[0]]))\n",
    "\n",
    "print(projector @ C_enviro_prime[:,0])\n",
    "print(C_enviro_prime[:,0])"
   ]
  },
  {
   "cell_type": "code",
   "execution_count": null,
   "metadata": {},
   "outputs": [],
   "source": [
    "Pb = dm_enviro_prime @ S_prime # identity\n",
    "\n",
    "PROJEC = Fock@Pb+Pb@Fock\n",
    "\n",
    "PROJEC"
   ]
  },
  {
   "cell_type": "code",
   "execution_count": null,
   "metadata": {},
   "outputs": [],
   "source": [
    "print(C_enviro_prime[:,0].conj().T @ projector/2 @ C_enviro_prime[:,0])\n",
    "print(C_enviro_prime[:,0].conj().T @ Fock_prime @ C_enviro_prime[:,0])"
   ]
  },
  {
   "cell_type": "code",
   "execution_count": null,
   "metadata": {},
   "outputs": [],
   "source": [
    "# Fock_A = test_full_system_scf.get_hcore() + test_full_system_scf.get_veff(dm=dm_active)\n",
    "# Fock_A_prime = S_minus_half  @ Fock_A @ S_minus_half \n",
    "# np.around(Fock_A_prime@projector - projector@Fock_A_prime, 3)"
   ]
  },
  {
   "cell_type": "code",
   "execution_count": null,
   "metadata": {},
   "outputs": [],
   "source": [
    "F_P = projector@Fock_prime\n",
    "\n",
    "ind=2\n",
    "print(C_enviro_prime[:,ind].conj().T @F_P@C_enviro_prime[:,ind])\n",
    "print(C_enviro_prime[:,ind].conj().T @Fock_prime@C_enviro_prime[:,ind])\n",
    "print()\n",
    "print(C_enviro_prime[:,ind].conj().T @(Fock_prime+projector)@C_enviro_prime[:,ind])\n",
    "print(C_enviro_prime[:,ind].conj().T @(2*Fock_prime+projector)@C_enviro_prime[:,ind]) # 2F_full - F_b = F_a only!"
   ]
  },
  {
   "cell_type": "code",
   "execution_count": null,
   "metadata": {},
   "outputs": [],
   "source": [
    "print(2*projector@C_enviro_prime[:,1])\n",
    "print(C_enviro_prime[:,1])"
   ]
  },
  {
   "cell_type": "code",
   "execution_count": null,
   "metadata": {},
   "outputs": [],
   "source": []
  },
  {
   "cell_type": "code",
   "execution_count": null,
   "metadata": {},
   "outputs": [],
   "source": [
    "# projector[:,active_MO_inds] = np.zeros((Fock_prime.shape[0], len(active_MO_inds)))\n",
    "# print(projector[:,active_MO_inds])\n",
    "\n",
    "new_F = Fock_prime+projector\n",
    "\n",
    "# ind=2\n",
    "# print(C_enviro_prime[:,ind].conj().T @new_F@C_enviro_prime[:,ind])\n",
    "# print(C_envrio[:,ind].conj().T @Fock@C_envrio[:,ind])\n",
    "\n",
    "C_full_loc = S_plus_half @ C_all_localized_and_virt\n",
    "\n",
    "print(enviro_MO_inds)\n",
    "print(active_MO_inds)\n",
    "print()\n",
    "ind=0\n",
    "# print(C_full_loc[:,ind].conj().T @new_F@C_full_loc[:,ind])\n",
    "print(C_all_localized_and_virt[:,ind].conj().T @Fock@C_all_localized_and_virt[:,ind])\n",
    "\n",
    "print(C_full_loc[:,ind].conj().T @(new_F+Fock_prime)/2@C_full_loc[:,ind])"
   ]
  },
  {
   "cell_type": "code",
   "execution_count": null,
   "metadata": {},
   "outputs": [],
   "source": [
    "projector@C_enviro_prime[:,0]\n",
    "C_enviro_prime[:,0]"
   ]
  },
  {
   "cell_type": "markdown",
   "metadata": {},
   "source": [
    "# 4. Define V_embed"
   ]
  },
  {
   "cell_type": "markdown",
   "metadata": {},
   "source": [
    "$$h^{A_{\\text{act}} \\text{ in } B_{\\text{env}}} = h^{\\text{core}} + v^{\\text{embed}}$$\n",
    "\n",
    "$$v^{\\text{embed}} = g[\\gamma^{A_{\\text{act}}} + \\gamma^{B_{\\text{env}}} ] - g[\\gamma^{A_{\\text{act}}}] + P_{\\text{projector}}$$"
   ]
  },
  {
   "cell_type": "code",
   "execution_count": null,
   "metadata": {},
   "outputs": [],
   "source": [
    "# projector_method = 'huzinaga'\n",
    "projector_method = 'mu_shfit'\n",
    "\n",
    "V_embed  = vqe_in_dft.Get_embedded_potential_operator(projector_method, \n",
    "                                full_system_scf, \n",
    "                                dm_active, \n",
    "                                dm_enviro, \n",
    "                                check_Hcore_is_correct=True, \n",
    "                                mu_shift_val=1e6,\n",
    "                                check_Vemb=True)"
   ]
  },
  {
   "cell_type": "code",
   "execution_count": null,
   "metadata": {},
   "outputs": [],
   "source": [
    "projector_method = 'huzinaga'\n",
    "# projector_method = 'mu_shfit'\n",
    "# projector_method = 'manual'\n",
    "\n",
    "if projector_method == 'huzinaga':\n",
    "    Fock = test_full_system_scf.get_hcore() + test_full_system_scf.get_veff(dm=dm_active + dm_enviro)\n",
    "    F_gammaB_S = Fock @ dm_enviro @ S_mat\n",
    "    projector = -0.5 * (F_gammaB_S + F_gammaB_S.T)\n",
    "elif projector_method == 'mu_shfit':\n",
    "    mu = 1e6\n",
    "    projector = mu * (S_mat @ dm_enviro  @ S_mat)\n",
    "elif projector_method == 'manual':\n",
    "    ## manual projector\n",
    "    S_mat = full_system_scf.get_ovlp()\n",
    "    S_half = sp.linalg.fractional_matrix_power(full_system_scf.get_ovlp() , 0.5)\n",
    "    S_neg_half = sp.linalg.fractional_matrix_power(full_system_scf.get_ovlp() , -0.5)\n",
    "\n",
    "    Loc_Ortho = S_half@ C_all_localized_and_virt\n",
    "\n",
    "    PROJ_ortho = np.zeros_like(S_mat)\n",
    "    for MO_ind in range(C_all_localized_and_virt.shape[1]):\n",
    "        if MO_ind in enviro_MO_inds:\n",
    "            outer = np.outer(Loc_Ortho[:, MO_ind], Loc_Ortho[:, MO_ind])\n",
    "            PROJ_ortho+=outer\n",
    "        else:\n",
    "            continue\n",
    "#     print(np.allclose(PROJ_ortho @ Loc_Ortho[:,enviro_MO_inds[0]], Loc_Ortho[:,enviro_MO_inds[0]]))\n",
    "    # convert to localized basis (rather than ortho one)\n",
    "    PROJ_bas = S_neg_half@ PROJ_ortho  @ S_half\n",
    "    projector = PROJ_bas\n",
    "#     print(np.allclose(PROJ_bas @ C_all_localized_and_virt[:,enviro_MO_inds[0]],\n",
    "#                   C_all_localized_and_virt[:,enviro_MO_inds[0]]))\n",
    "else:\n",
    "    raise ValueError(f'Unknown projection method {projector_method}')\n",
    "\n",
    "g_A_and_B = test_full_system_scf.get_veff(dm=dm_active+dm_enviro)\n",
    "\n",
    "g_A = test_full_system_scf.get_veff(dm=dm_active)\n",
    "\n",
    "v_emb = g_A_and_B - g_A + projector"
   ]
  },
  {
   "cell_type": "code",
   "execution_count": null,
   "metadata": {},
   "outputs": [],
   "source": [
    "print('Trace(y_ENV @ PB):', np.einsum('ij, ij', dm_enviro, projector) )\n",
    "print('Trace(y_act @ PB):', np.einsum('ij, ij', dm_active, projector) )\n",
    "print()\n",
    "print('Trace(y_ENV @ v_emb):', np.einsum('ij, ij', dm_enviro, v_emb) )\n",
    "print('Trace(y_act @ v_emb):', np.einsum('ij, ij', dm_active, v_emb) )"
   ]
  },
  {
   "cell_type": "code",
   "execution_count": null,
   "metadata": {},
   "outputs": [],
   "source": [
    "# Fock = test_full_system_scf.get_hcore() + test_full_system_scf.get_veff(dm=dm_active + dm_enviro)\n",
    "\n",
    "# Fock_prime = S_half  @ Fock @ S_neg_half \n",
    "\n",
    "# F_gammaB_S = Fock_prime @ dm_enviro @ np.eye(Fock_prime.shape[0]) #S_mat\n",
    "# # F_gammaB_S = S_half@ F_gammaB_S  @  S_neg_half\n",
    "# projector = -0.5 * (F_gammaB_S + F_gammaB_S.T)\n",
    "# projector =  S_neg_half @ projector @  S_half\n",
    "# print(np.allclose(projector @ C_all_localized_and_virt[:,enviro_MO_inds[0]],\n",
    "#                   C_all_localized_and_virt[:,enviro_MO_inds[0]]))\n",
    "\n",
    "# projector @ C_all_localized_and_virt[:,1]"
   ]
  },
  {
   "cell_type": "code",
   "execution_count": null,
   "metadata": {},
   "outputs": [],
   "source": [
    "Fock_prime@Loc_Ortho[:,0]\n",
    "Fock@C_all_localized_and_virt[:,0]"
   ]
  },
  {
   "cell_type": "code",
   "execution_count": null,
   "metadata": {},
   "outputs": [],
   "source": []
  },
  {
   "cell_type": "code",
   "execution_count": null,
   "metadata": {},
   "outputs": [],
   "source": [
    "Loc_Ortho = S_half@ C_all_localized_and_virt #@ S_neg_half\n",
    "Loc_Ortho[:,0].dot(Loc_Ortho[:,3])\n",
    "\n",
    "Fock_prime = Fock @ S_neg_half\n",
    "S_prime =  S_mat @ S_neg_half\n",
    "\n",
    "ind=2\n",
    "print(np.allclose(Fock_prime@ Loc_Ortho[:, ind],\n",
    "                 Fock@ C_all_localized_and_virt[:, ind]))\n",
    "\n",
    "PROJ_ortho = np.zeros_like(S_mat)\n",
    "for MO_ind in range(C_all_localized_and_virt.shape[1]):\n",
    "    if MO_ind in enviro_MO_inds:\n",
    "        outer_proj = np.outer(Loc_Ortho[:, MO_ind], Loc_Ortho[:, MO_ind])\n",
    "        PROJ_ortho+= outer_proj\n",
    "    else:\n",
    "        continue\n",
    "\n",
    "print(np.allclose(PROJ_ortho@Loc_Ortho[:,ind] , Loc_Ortho[:,ind]))\n",
    "P_I = -1 * (Fock_prime@PROJ_ortho + PROJ_ortho@Fock_prime)\n",
    "\n",
    "ind= enviro_MO_inds[2]\n",
    "print(Loc_Ortho[:,ind].conj().T @ (Fock_prime)@Loc_Ortho[:,ind])\n",
    "print(Loc_Ortho[:,ind].conj().T @ (Fock_prime+P_I)@Loc_Ortho[:,ind])\n",
    "\n",
    "P_I_std_basis = P_I@ S_half\n",
    "\n",
    "print(Loc_Ortho[:,ind].conj().T @ S_neg_half.conj().T @ (Fock_prime@ S_half)@ S_neg_half@ Loc_Ortho[:,ind])"
   ]
  },
  {
   "cell_type": "code",
   "execution_count": null,
   "metadata": {},
   "outputs": [],
   "source": [
    "(S_half @ C_all_localized_and_virt)"
   ]
  },
  {
   "cell_type": "code",
   "execution_count": null,
   "metadata": {},
   "outputs": [],
   "source": []
  },
  {
   "cell_type": "code",
   "execution_count": null,
   "metadata": {},
   "outputs": [],
   "source": [
    "Loc_Ortho = S_half@ C_all_localized_and_virt \n",
    "\n",
    "print(Loc_Ortho[:,0].dot(Loc_Ortho[:,1]))\n",
    "\n",
    "# Fock_prime = S_half.conj().T @ Fock @ S_half\n",
    "Fock_prime =  Fock @ S_neg_half \n",
    "\n",
    "print(Loc_Ortho[:,ind].conj().T @ Fock_prime@ Loc_Ortho[:,ind])\n",
    "print(C_all_localized_and_virt[:,ind].conj().T @ Fock@ C_all_localized_and_virt[:,ind])\n",
    "\n",
    "# S_prime =  S_mat @ S_neg_half\n",
    "\n",
    "# ind=2\n",
    "# print(np.allclose(Fock_prime@ Loc_Ortho[:, ind],\n",
    "#                  Fock@ C_all_localized_and_virt[:, ind]))\n",
    "\n",
    "# PROJ_ortho = np.zeros_like(S_mat)\n",
    "# for MO_ind in range(C_all_localized_and_virt.shape[1]):\n",
    "#     if MO_ind in enviro_MO_inds:\n",
    "#         outer_proj = np.outer(Loc_Ortho[:, MO_ind], Loc_Ortho[:, MO_ind])\n",
    "#         PROJ_ortho+= outer_proj\n",
    "#     else:\n",
    "#         continue\n",
    "\n",
    "# print(np.allclose(PROJ_ortho@Loc_Ortho[:,ind] , Loc_Ortho[:,ind]))\n",
    "# P_I = -1 * (Fock_prime@PROJ_ortho + PROJ_ortho@Fock_prime)\n",
    "\n",
    "# ind= enviro_MO_inds[2]\n",
    "# print(Loc_Ortho[:,ind].conj().T @ (Fock_prime)@Loc_Ortho[:,ind])\n",
    "# print(Loc_Ortho[:,ind].conj().T @ (Fock_prime+P_I)@Loc_Ortho[:,ind])\n",
    "\n",
    "# P_I_std_basis = P_I@ S_half\n",
    "\n",
    "# print(Loc_Ortho[:,ind].conj().T @ S_neg_half.conj().T @ (Fock_prime@ S_half)@ S_neg_half@ Loc_Ortho[:,ind])"
   ]
  },
  {
   "cell_type": "code",
   "execution_count": null,
   "metadata": {},
   "outputs": [],
   "source": [
    "# Loc_Ortho = S_half@ C_all_localized_and_virt #@ S_neg_half\n",
    "# Loc_Ortho[:,0].dot(Loc_Ortho[:,3])\n",
    "\n",
    "# Fock_prime = Fock @ S_neg_half\n",
    "# S_prime =  S_mat @ S_neg_half\n",
    "\n",
    "# ind=2\n",
    "# print(np.allclose(Fock_prime@ Loc_Ortho[:, ind],\n",
    "#                  Fock@ C_all_localized_and_virt[:, ind]))\n",
    "\n",
    "# PROJ_ortho = np.zeros_like(S_mat)\n",
    "# for MO_ind in range(C_all_localized_and_virt.shape[1]):\n",
    "#     if MO_ind in enviro_MO_inds:\n",
    "#         outer_proj = np.outer(C_all_localized_and_virt[:, MO_ind], C_all_localized_and_virt[:, MO_ind])\n",
    "#         PROJ_ortho+= outer_proj\n",
    "#     else:\n",
    "#         continue\n",
    "\n",
    "# # print(np.allclose(PROJ_ortho@Loc_Ortho[:,ind] , Loc_Ortho[:,ind]))\n",
    "# P_I = -1 * (Fock@S_half@PROJ_ortho@S_half.conj().T \n",
    "#             +\n",
    "#            S_half@PROJ_ortho@S_half.conj().T @ Fock @ S_neg_half)\n",
    "\n",
    "# ind=2\n",
    "# print(C_all_localized_and_virt[:,ind].conj().T @ (Fock)@C_all_localized_and_virt[:,ind])\n",
    "# print(C_all_localized_and_virt[:,ind].conj().T @ (Fock+P_I)@C_all_localized_and_virt[:,ind])"
   ]
  },
  {
   "cell_type": "code",
   "execution_count": null,
   "metadata": {},
   "outputs": [],
   "source": [
    "FP=Fock_prime@PROJ_ortho \n",
    "np.allclose(FP.T,\n",
    "            PROJ_ortho@Fock_prime)"
   ]
  },
  {
   "cell_type": "code",
   "execution_count": null,
   "metadata": {},
   "outputs": [],
   "source": [
    "# Fock = test_full_system_scf.get_hcore() + test_full_system_scf.get_veff(dm=dm_active + dm_enviro)\n",
    "# projector = (S_mat @ dm_enviro  @ S_mat)\n",
    "# huzinaga = -1*(C_all_localized_and_virt.conj().T @ (Fock@projector + projector@Fock) @ C_all_localized_and_virt)\n",
    "\n",
    "# Fock_A = test_full_system_scf.get_hcore() + test_full_system_scf.get_veff(dm=dm_active)\n",
    "\n",
    "# ind=3\n",
    "# print(C_all_localized_and_virt[:,ind].conj().T @ (Fock)@C_all_localized_and_virt[:,ind])\n",
    "# print(C_all_localized_and_virt[:,ind].conj().T @ (Fock+huzinaga)@C_all_localized_and_virt[:,ind])\n",
    "\n",
    "# Fock_A@huzinaga - huzinaga@Fock_A\n",
    "\n",
    "\n",
    "##########\n",
    "\n",
    "# mu = 1e6\n",
    "# projector = (S_mat @ dm_enviro  @ S_mat)\n",
    "\n",
    "# print(projector@C_all_localized_and_virt[:,0])\n",
    "# print(C_all_localized_and_virt[:,0])\n",
    "\n",
    "S_mat = full_system_scf.get_ovlp()\n",
    "S_half = sp.linalg.fractional_matrix_power(full_system_scf.get_ovlp() , 0.5)\n",
    "S_neg_half = sp.linalg.fractional_matrix_power(full_system_scf.get_ovlp() , -0.5)\n",
    "\n",
    "Loc_Ortho = S_half@ C_all_localized_and_virt\n",
    "\n",
    "PROJ_ortho = np.zeros_like(S_mat)\n",
    "for MO_ind in range(C_all_localized_and_virt.shape[1]):\n",
    "    if MO_ind in enviro_MO_inds:\n",
    "        outer = np.outer(Loc_Ortho[:, MO_ind], Loc_Ortho[:, MO_ind])\n",
    "        PROJ_ortho+=outer\n",
    "    else:\n",
    "        continue\n",
    "#     print(np.allclose(PROJ_ortho @ Loc_Ortho[:,enviro_MO_inds[0]], Loc_Ortho[:,enviro_MO_inds[0]]))\n",
    "# convert to localized basis (rather than ortho one)\n",
    "PROJ_bas = S_neg_half@ PROJ_ortho  @ S_half\n",
    "projector = PROJ_bas\n",
    "print(np.allclose(PROJ_bas @ C_all_localized_and_virt[:,enviro_MO_inds[1]],\n",
    "              C_all_localized_and_virt[:,enviro_MO_inds[1]]))\n",
    "\n",
    "\n",
    "# huzinaga = -1*(C_all_localized_and_virt.conj().T @ (Fock@projector + projector@Fock) @ C_all_localized_and_virt)\n",
    "huzinaga = -(Fock@projector + projector@Fock)\n",
    "\n",
    "ind=3\n",
    "print(C_all_localized_and_virt[:,ind].conj().T @ (Fock)@C_all_localized_and_virt[:,ind])\n",
    "print(C_all_localized_and_virt[:,ind].conj().T @ (huzinaga)@C_all_localized_and_virt[:,ind])\n",
    "print()\n",
    "print(C_all_localized_and_virt[:,ind].conj().T @ (projector)@C_all_localized_and_virt[:,ind])\n",
    "print(C_all_localized_and_virt[:,ind].conj().T @ C_all_localized_and_virt[:,ind])\n",
    "\n",
    "print()\n",
    "# Proj_Fock = -1*(Fock@projector) + Fock\n",
    "Proj_Fock = -1*(projector@Fock + Fock@projector) + Fock\n",
    "\n",
    "print(C_all_localized_and_virt[:,ind].conj().T @ (Proj_Fock)@C_all_localized_and_virt[:,ind])\n",
    "print(C_all_localized_and_virt[:,ind].conj().T @ (Fock)@C_all_localized_and_virt[:,ind])"
   ]
  },
  {
   "cell_type": "code",
   "execution_count": null,
   "metadata": {},
   "outputs": [],
   "source": [
    "# PROJ_ortho_new[:,1].conj().T @ PROJ_ortho_new[:,3]"
   ]
  },
  {
   "cell_type": "code",
   "execution_count": null,
   "metadata": {},
   "outputs": [],
   "source": [
    "print(np.allclose(PROJ_ortho@Loc_Ortho[:, 1],\n",
    "           Loc_Ortho[:, 1]))\n",
    "\n",
    "# PROJ_ortho_new = PROJ_ortho.copy()\n",
    "# PROJ_ortho_new[:, active_MO_inds] = np.zeros_like(C_active)\n",
    "\n",
    "S_minus_half = sp.linalg.fractional_matrix_power(S_mat, -0.5)\n",
    "S_plus_half = sp.linalg.fractional_matrix_power(S_mat, 0.5)\n",
    "\n",
    "Fock_prime = S_minus_half@Fock @ S_minus_half\n",
    "AA=Loc_Ortho.conj().T @ (Fock_prime)@Loc_Ortho\n",
    "# print(np.around(AA,2 ))\n",
    "\n",
    "HUZ =  -(Fock_prime@PROJ_ortho + PROJ_ortho@Fock_prime)/2\n",
    "\n",
    "BB = Loc_Ortho.conj().T @ (Fock_prime+HUZ)@Loc_Ortho\n",
    "print(np.around(BB,2))\n",
    "\n",
    "print()\n",
    "print(np.around(np.diag(AA-BB),2))\n",
    "print(np.around(np.diag(AA),2))\n",
    "print(np.around(np.diag(BB),2))\n",
    "\n",
    "print(np.around(Loc_Ortho[:, enviro_MO_inds].conj().T @ (HUZ)@Loc_Ortho[:, enviro_MO_inds], 3))\n",
    "print(np.around(Loc_Ortho[:, enviro_MO_inds].conj().T @ (Fock_prime)@Loc_Ortho[:, enviro_MO_inds], 3))\n",
    "# Loc_Ortho[:, enviro_MO_inds].conj().T @ (Fock_prime)@Loc_Ortho[:, enviro_MO_inds]"
   ]
  },
  {
   "cell_type": "code",
   "execution_count": null,
   "metadata": {},
   "outputs": [],
   "source": [
    "S_mat = full_system_scf.get_ovlp()\n",
    "S_half = sp.linalg.fractional_matrix_power(full_system_scf.get_ovlp() , 0.5)\n",
    "S_neg_half = sp.linalg.fractional_matrix_power(full_system_scf.get_ovlp() , -0.5)\n",
    "\n",
    "Loc_Ortho = S_half@ C_all_localized_and_virt\n",
    "\n",
    "PROJ_ortho = np.zeros_like(S_mat)\n",
    "for MO_ind in range(C_all_localized_and_virt.shape[1]):\n",
    "    if MO_ind in enviro_MO_inds:\n",
    "        outer = np.outer(Loc_Ortho[:, MO_ind], Loc_Ortho[:, MO_ind])\n",
    "        PROJ_ortho+=outer\n",
    "    else:\n",
    "        continue\n",
    "#     print(np.allclose(PROJ_ortho @ Loc_Ortho[:,enviro_MO_inds[0]], Loc_Ortho[:,enviro_MO_inds[0]]))\n",
    "# convert to localized basis (rather than ortho one)\n",
    "\n",
    "\n",
    "\n",
    "print(np.allclose(PROJ_ortho@Loc_Ortho[:, 1],\n",
    "           Loc_Ortho[:, 1]))\n",
    "\n",
    "# PROJ_ortho_new = PROJ_ortho.copy()\n",
    "# PROJ_ortho_new[:, active_MO_inds] = np.zeros_like(C_active)\n",
    "\n",
    "\n",
    "Fock_prime = S_neg_half@Fock @ S_neg_half\n",
    "AA=Loc_Ortho.conj().T @ (Fock_prime)@Loc_Ortho\n",
    "# print(np.around(AA,2 ))\n",
    "\n",
    "HUZ =  -(Fock_prime@PROJ_ortho + PROJ_ortho@Fock_prime)/2\n",
    "\n",
    "BB = Loc_Ortho.conj().T @ (Fock_prime+HUZ)@Loc_Ortho\n",
    "print(np.around(BB,2))\n",
    "\n",
    "print()\n",
    "print(np.around(np.diag(AA-BB),2))\n",
    "print(np.around(np.diag(AA),2))\n",
    "print(np.around(np.diag(BB),2))\n",
    "\n",
    "print(np.around(Loc_Ortho[:, enviro_MO_inds].conj().T @ (HUZ)@Loc_Ortho[:, enviro_MO_inds], 3))\n",
    "print(np.around(Loc_Ortho[:, enviro_MO_inds].conj().T @ (Fock_prime)@Loc_Ortho[:, enviro_MO_inds], 3))\n",
    "\n",
    "HUZ_standard_Basis = S_half@ HUZ  @ S_half\n",
    "\n",
    "print(np.around(C_all_localized_and_virt[:, enviro_MO_inds].conj().T @ (HUZ_standard_Basis)@C_all_localized_and_virt[:, enviro_MO_inds], 3))\n",
    "print(np.around(C_all_localized_and_virt.conj().T @ (Fock+HUZ_standard_Basis)@C_all_localized_and_virt, 3))"
   ]
  },
  {
   "cell_type": "code",
   "execution_count": null,
   "metadata": {},
   "outputs": [],
   "source": [
    "C_env_TEST = np.zeros_like(C_all_localized_and_virt) # zero out system A\n",
    "C_env_TEST[:,enviro_MO_inds] = C_envrio # only include system B\n",
    "\n",
    "\n",
    "np.around(C_env_TEST.conj().T @ -(Fock) @C_env_TEST, 5)\n",
    "\n",
    "PPP = -0.125*(C_env_TEST.conj().T @ (Fock) @C_env_TEST)\n",
    "\n",
    "ind=1\n",
    "print(C_all_localized_and_virt[:,ind].conj().T @ (Fock)@C_all_localized_and_virt[:,ind])\n",
    "print(C_all_localized_and_virt[:,ind].conj().T @ (Fock+PPP)@C_all_localized_and_virt[:,ind])"
   ]
  },
  {
   "cell_type": "code",
   "execution_count": null,
   "metadata": {},
   "outputs": [],
   "source": [
    "Loc_Ortho[:, MO_ind].T"
   ]
  },
  {
   "cell_type": "code",
   "execution_count": null,
   "metadata": {},
   "outputs": [],
   "source": []
  },
  {
   "cell_type": "code",
   "execution_count": null,
   "metadata": {},
   "outputs": [],
   "source": [
    "outer = np.outer(Loc_Ortho[:, MO_ind], Loc_Ortho[:, MO_ind])\n",
    "outer2  = Loc_Ortho[:, MO_ind].reshape([len(Loc_Ortho[:, MO_ind]),1])@ Loc_Ortho[:, MO_ind].reshape([1, len(Loc_Ortho[:, MO_ind])])\n",
    "np.allclose(outer, outer2)"
   ]
  },
  {
   "cell_type": "code",
   "execution_count": null,
   "metadata": {},
   "outputs": [],
   "source": [
    "np.trace(S_mat@dm_active)"
   ]
  },
  {
   "cell_type": "code",
   "execution_count": null,
   "metadata": {},
   "outputs": [],
   "source": [
    "test_1= -0.5*(Fock@ dm_enviro@ S_mat + S_mat@dm_enviro@Fock)\n",
    "# test_1= -0.25*(Fock@ dm_enviro@ S_mat + S_mat@dm_enviro@Fock) # 0.25 will remove terms! We want to PUSH to higher E!\n",
    "\n",
    "np.diag(np.around(C_all_localized_and_virt.conj().T @ (test_1+Fock) @C_all_localized_and_virt,3))\n",
    "# np.around(C_all_localized_and_virt.conj().T @ (test_1+Fock) @C_all_localized_and_virt,3)\n",
    "# np.around(C_all_localized_and_virt.conj().T @ Fock @C_all_localized_and_virt,3)"
   ]
  },
  {
   "cell_type": "code",
   "execution_count": null,
   "metadata": {},
   "outputs": [],
   "source": [
    "## manual projector\n",
    "\n",
    "## 1. convert to orthogonal C_matrix\n",
    "S_mat = full_system_scf.get_ovlp()\n",
    "S_half = sp.linalg.fractional_matrix_power(full_system_scf.get_ovlp() , 0.5)\n",
    "S_neg_half = sp.linalg.fractional_matrix_power(full_system_scf.get_ovlp() , -0.5)\n",
    "\n",
    "Loc_Ortho = S_half@ C_all_localized_and_virt\n",
    "\n",
    "## 2. Define projector that projects MO orbs of subsystem B onto themselves and system A onto zero state!\n",
    "##### (do this in orthongoal C_matrix!)\n",
    "PROJ_ortho = np.zeros_like(S_mat)\n",
    "for MO_ind in range(C_all_localized_and_virt.shape[1]):\n",
    "    if MO_ind in enviro_MO_inds:\n",
    "        outer = np.outer(Loc_Ortho[:, MO_ind], Loc_Ortho[:, MO_ind])\n",
    "        PROJ_ortho+=outer\n",
    "    else:\n",
    "        continue\n",
    "\n",
    "print(f'''Are subsystem B (env) projected onto themselves: {\n",
    "        np.allclose(PROJ_ortho@Loc_Ortho[:, enviro_MO_inds], \n",
    "        Loc_Ortho[:, enviro_MO_inds])}''') # projected onto itself\n",
    "\n",
    "print(f'''Are subsystem A traced out?: {\n",
    "        np.allclose(PROJ_ortho@Loc_Ortho[:, active_MO_inds], \n",
    "        np.zeros_like(Loc_Ortho[:, active_MO_inds]))}''') # # projected onto zeros!\n",
    "        \n",
    "        \n",
    "#### 3. NEXT USING PROJECTOR in ortho basis define projector via different methods\n",
    "        \n",
    "        \n",
    "projector_method = 'huzinaga'\n",
    "# projector_method = 'mu_shfit'\n",
    "\n",
    "if projector_method == 'huzinaga':\n",
    "    Fock = test_full_system_scf.get_hcore() + test_full_system_scf.get_veff(dm=dm_active + dm_enviro)\n",
    "    Fock_ortho = S_neg_half@Fock @ S_neg_half\n",
    "    \n",
    "    projector_ortho =  -0.5*(Fock_ortho@PROJ_ortho + PROJ_ortho@Fock_ortho) # 0.5 for restricted calc!\n",
    "    \n",
    "    projector = S_half @ projector_ortho  @ S_half\n",
    "    \n",
    "elif projector_method == 'mu_shfit':\n",
    "    mu = 1e6\n",
    "    projector_ortho = mu * PROJ_ortho\n",
    "    \n",
    "#     projector = S_neg_half @ projector_ortho  @ S_half\n",
    "    projector = S_half @ projector_ortho  @ S_half\n",
    "else:\n",
    "    raise ValueError(f'Unknown projection method {projector_method}')\n",
    "\n",
    "##### 4. Define projector in standard (non-orthogonal basis)\n",
    "# projector = S_half @ projector_ortho  @ S_half\n",
    "\n",
    "\n",
    "### 5. now can build relevant ops\n",
    "\n",
    "g_A_and_B = test_full_system_scf.get_veff(dm=dm_active+dm_enviro)\n",
    "\n",
    "g_A = test_full_system_scf.get_veff(dm=dm_active)\n",
    "\n",
    "v_emb = g_A_and_B - g_A + projector"
   ]
  },
  {
   "cell_type": "code",
   "execution_count": null,
   "metadata": {},
   "outputs": [],
   "source": []
  },
  {
   "cell_type": "code",
   "execution_count": null,
   "metadata": {},
   "outputs": [],
   "source": [
    "print(np.around(C_all_localized_and_virt[:, enviro_MO_inds].conj().T @projector@C_all_localized_and_virt[:, enviro_MO_inds],3))\n",
    "\n",
    "print(np.around(C_all_localized_and_virt[:, enviro_MO_inds].conj().T @Fock@C_all_localized_and_virt[:, enviro_MO_inds],3))\n"
   ]
  },
  {
   "cell_type": "code",
   "execution_count": null,
   "metadata": {},
   "outputs": [],
   "source": [
    "np.allclose(projector@C_all_localized_and_virt[:, enviro_MO_inds],\n",
    "           C_all_localized_and_virt[:, enviro_MO_inds])"
   ]
  },
  {
   "cell_type": "code",
   "execution_count": null,
   "metadata": {},
   "outputs": [],
   "source": [
    "projector@C_all_localized_and_virt[:, enviro_MO_inds]\n",
    "# (Fock)@C_all_localized_and_virt[:, enviro_MO_inds]\n",
    "(Fock+projector)@C_all_localized_and_virt[:, enviro_MO_inds]\n",
    "\n",
    "print(np.around(C_all_localized_and_virt.conj().T @ (Fock+projector)@C_all_localized_and_virt, 2))\n",
    "print()\n",
    "print(np.around(C_all_localized_and_virt.conj().T @ (Fock)@C_all_localized_and_virt, 2))\n",
    "print(np.around(C_all_localized_and_virt.conj().T @ (projector)@C_all_localized_and_virt, 2))"
   ]
  },
  {
   "cell_type": "code",
   "execution_count": null,
   "metadata": {},
   "outputs": [],
   "source": [
    "print(f'''Are subsystem A projected onto zeros: {\n",
    "    np.allclose(projector@C_all_localized_and_virt[:, active_MO_inds], \n",
    "            np.zeros_like(C_all_localized_and_virt[:, active_MO_inds]),7)}''') \n",
    "\n",
    "\n",
    "# np.zeros_like(C_all_localized_and_virt[:, active_MO_inds])\n",
    "\n",
    "np.allclose(np.around(projector@C_all_localized_and_virt[:, active_MO_inds],7),\n",
    "           np.zeros_like(C_all_localized_and_virt[:, active_MO_inds]))"
   ]
  },
  {
   "cell_type": "code",
   "execution_count": null,
   "metadata": {},
   "outputs": [],
   "source": []
  },
  {
   "cell_type": "code",
   "execution_count": null,
   "metadata": {},
   "outputs": [],
   "source": [
    "if projector_method == 'huzinaga':\n",
    "        print(f'''Are subsystem B (env) projected to -E of Fock subsystem B: {\n",
    "            np.allclose(Fock@C_all_localized_and_virt[:, enviro_MO_inds],\n",
    "                        -1*projector@C_all_localized_and_virt[:, enviro_MO_inds])}''') # projected onto neg E orbs\n",
    "        \n",
    "        print(f'''Are subsystem A projected onto zeros: {\n",
    "                np.allclose(np.around(projector@C_all_localized_and_virt[:, active_MO_inds],7), \n",
    "                np.zeros_like(C_all_localized_and_virt[:, active_MO_inds]))}''') # projected out\n",
    "        \n",
    "elif projector_method == 'mu_shfit':\n",
    "    print(f'''Are subsystem B (env) projected to high E: {\n",
    "            np.allclose(projector@C_all_localized_and_virt[:, enviro_MO_inds], \n",
    "            mu*C_all_localized_and_virt[:, enviro_MO_inds])}''') # projected onto increased E orbs\n",
    "    \n",
    "    print(f'''Are subsystem A projected onto zeros: {\n",
    "            np.allclose(projector@C_all_localized_and_virt[:, active_MO_inds], \n",
    "            np.zeros_like(C_all_localized_and_virt[:, active_MO_inds]))}''') # projected out\n"
   ]
  },
  {
   "cell_type": "code",
   "execution_count": null,
   "metadata": {},
   "outputs": [],
   "source": [
    "POL = S_neg_half@ PROJ_ortho  @ S_half\n",
    "# POL = S_half@ PROJ_ortho  @ S_half\n",
    "print(f'''Are subsystem B (env) projected onto themselves: {\n",
    "        np.allclose(POL@C_all_localized_and_virt[:, enviro_MO_inds], \n",
    "        C_all_localized_and_virt[:, enviro_MO_inds])}''') # projected onto itself\n",
    "\n",
    "print(f'''Are subsystem A projected onto zeros: {\n",
    "        np.allclose(POL@C_all_localized_and_virt[:, active_MO_inds], \n",
    "        np.zeros_like(C_all_localized_and_virt[:, active_MO_inds]))}''') # projected out"
   ]
  },
  {
   "cell_type": "code",
   "execution_count": null,
   "metadata": {},
   "outputs": [],
   "source": [
    "projector@C_all_localized_and_virt[:, active_MO_inds]\n",
    "# C_all_localized_and_virt[:, active_MO_inds]"
   ]
  },
  {
   "cell_type": "code",
   "execution_count": null,
   "metadata": {},
   "outputs": [],
   "source": [
    "print(f'''Are subsystem B (env) projected onto themselves: {\n",
    "        np.allclose(projector@C_all_localized_and_virt[:, enviro_MO_inds], \n",
    "        C_all_localized_and_virt[:, enviro_MO_inds])}''') # projected onto itself\n",
    "\n",
    "print(f'''Are subsystem A traced out?: {\n",
    "        np.allclose(PROJ_ortho@Loc_Ortho[:, active_MO_inds], \n",
    "        np.zeros_like(Loc_Ortho[:, active_MO_inds]))}''') # # projected onto zeros!"
   ]
  },
  {
   "cell_type": "code",
   "execution_count": null,
   "metadata": {},
   "outputs": [],
   "source": [
    "print('Trace(y_ENV @ PB):', np.einsum('ij, ij', dm_enviro, projector) )\n",
    "print('Trace(y_act @ PB):', np.einsum('ij, ij', dm_active, projector) )\n",
    "print()\n",
    "print('Trace(y_ENV @ v_emb):', np.einsum('ij, ij', dm_enviro, v_emb) )\n",
    "print('Trace(y_act @ v_emb):', np.einsum('ij, ij', dm_active, v_emb) )\n",
    "print('Trace(y_act @ v_emb):', np.einsum('ij, ij', dm_active, g_A_and_B - g_A ) )"
   ]
  },
  {
   "cell_type": "code",
   "execution_count": null,
   "metadata": {},
   "outputs": [],
   "source": [
    "Fock_ortho = S_neg_half@Fock @ S_neg_half\n",
    "# print(np.around(Loc_Ortho.conj().T@(projector_ortho+Fock_ortho)@Loc_Ortho,3))\n",
    "np.diag(np.around(Loc_Ortho.conj().T@(projector_ortho+Fock_ortho)@Loc_Ortho,3))"
   ]
  },
  {
   "cell_type": "code",
   "execution_count": null,
   "metadata": {},
   "outputs": [],
   "source": []
  },
  {
   "cell_type": "code",
   "execution_count": null,
   "metadata": {},
   "outputs": [],
   "source": []
  },
  {
   "cell_type": "code",
   "execution_count": null,
   "metadata": {},
   "outputs": [],
   "source": []
  },
  {
   "cell_type": "code",
   "execution_count": null,
   "metadata": {},
   "outputs": [],
   "source": []
  },
  {
   "cell_type": "code",
   "execution_count": null,
   "metadata": {},
   "outputs": [],
   "source": []
  },
  {
   "cell_type": "code",
   "execution_count": null,
   "metadata": {},
   "outputs": [],
   "source": [
    "PROJ_bas @ C_all_localized_and_virt[:,2]"
   ]
  },
  {
   "cell_type": "code",
   "execution_count": null,
   "metadata": {},
   "outputs": [],
   "source": [
    "print(np.allclose(PROJ_bas @ C_all_localized_and_virt[:,0],\n",
    "              C_all_localized_and_virt[:,0]))"
   ]
  },
  {
   "cell_type": "code",
   "execution_count": null,
   "metadata": {},
   "outputs": [],
   "source": []
  },
  {
   "cell_type": "code",
   "execution_count": null,
   "metadata": {},
   "outputs": [],
   "source": [
    "## manual projector\n",
    "S_mat = full_system_scf.get_ovlp()\n",
    "S_half = sp.linalg.fractional_matrix_power(full_system_scf.get_ovlp() , 0.5)\n",
    "\n",
    "Loc_Ortho = S_half@ C_all_localized_and_virt\n",
    "Fock = test_full_system_scf.get_hcore() + test_full_system_scf.get_veff(dm=dm_active + dm_enviro)\n",
    "# Fock_prime = S_neg_half@ Fock @ S_half\n",
    "Fock_prime = S_half.conj().T @ Fock @ S_half\n",
    "\n",
    "np.allclose(Fock_prime@Loc_Ortho[:,0], Fock@C_all_localized_and_virt[:,0])\n",
    "# PROJ_ortho = np.zeros_like(S_mat)\n",
    "# for MO_ind in range(C_all_localized_and_virt.shape[1]):\n",
    "#     if MO_ind in enviro_MO_inds:\n",
    "#         outer = np.outer(Loc_Ortho[:, MO_ind], Loc_Ortho[:, MO_ind])\n",
    "#         PROJ_ortho+=outer\n",
    "#     else:\n",
    "#         continue\n",
    "\n",
    "# print(np.allclose(PROJ_ortho @ Loc_Ortho[:,enviro_MO_inds[0]], Loc_Ortho[:,enviro_MO_inds[0]]))\n",
    "\n",
    "# # convert to localized basis (rather than ortho one)\n",
    "# PROJ_bas = S_neg_half@ PROJ_ortho  @ S_half\n",
    "# print(np.allclose(PROJ_bas @ C_all_localized_and_virt[:,enviro_MO_inds[0]],\n",
    "#                   C_all_localized_and_virt[:,enviro_MO_inds[0]]))\n",
    "\n",
    "# g_A_and_B = test_full_system_scf.get_veff(dm=dm_active+dm_enviro)\n",
    "\n",
    "# g_A = test_full_system_scf.get_veff(dm=dm_active)\n",
    "\n",
    "# projector = PROJ_bas\n",
    "# v_emb = g_A_and_B - g_A + PROJ_bas\n",
    "\n",
    "\n",
    "# #### Notes #####\n",
    "\n",
    "# # U C_loc_ortho = C_std_ortho\n",
    "# ### as:\n",
    "#     # C_loc_ortho = S_half @ C_loc\n",
    "#     # C_std_ortho = S_half @ C_std\n",
    "\n",
    "# # can write as:\n",
    "# # U (S_half @ C_loc) = (S_half @ C_std)\n",
    "\n",
    "# # Now want to get rid of S_half on RHS:\n",
    "# # S_neg_half @ U S_half @ C_loc = (S_neg_half @ S_half @ C_std)\n",
    "# # (S_neg_half @ U S_half) @ C_loc = C_std\n",
    "# # U_new @ C_loc = C_std\n",
    "# ### where:\n",
    "#     # U_new = S_neg_half @ U S_half\n",
    "    \n",
    "# #### Notes #####\n",
    "\n",
    "# U_new = S_neg_half@ U  @ S_half\n",
    "# np.allclose(U_new@C_all_localized,\n",
    "#             full_system_scf.mo_coeff[:,full_system_scf.mo_occ>0])\n"
   ]
  },
  {
   "cell_type": "code",
   "execution_count": null,
   "metadata": {},
   "outputs": [],
   "source": [
    "# ## manual projector\n",
    "# S_mat = full_system_scf.get_ovlp()\n",
    "# S_half = sp.linalg.fractional_matrix_power(full_system_scf.get_ovlp() , 0.5)\n",
    "\n",
    "# Loc_Ortho = S_half@ C_all_localized_and_virt\n",
    "\n",
    "# PROJ_ortho = np.zeros_like(S_mat)\n",
    "# for MO_ind in range(C_all_localized_and_virt.shape[1]):\n",
    "#     if MO_ind in enviro_MO_inds:\n",
    "#         outer = np.outer(Loc_Ortho[:, MO_ind], Loc_Ortho[:, MO_ind])\n",
    "#         PROJ_ortho+=outer\n",
    "#     else:\n",
    "#         continue\n",
    "\n",
    "# print(np.allclose(PROJ_ortho @ Loc_Ortho[:,enviro_MO_inds[0]], Loc_Ortho[:,enviro_MO_inds[0]]))\n",
    "\n",
    "# # convert to localized basis (rather than ortho one)\n",
    "# PROJ_bas = S_neg_half@ PROJ_ortho  @ S_half\n",
    "# print(np.allclose(PROJ_bas @ C_all_localized_and_virt[:,enviro_MO_inds[0]],\n",
    "#                   C_all_localized_and_virt[:,enviro_MO_inds[0]]))\n",
    "\n",
    "# g_A_and_B = test_full_system_scf.get_veff(dm=dm_active+dm_enviro)\n",
    "\n",
    "# g_A = test_full_system_scf.get_veff(dm=dm_active)\n",
    "\n",
    "# projector = PROJ_bas\n",
    "# v_emb = g_A_and_B - g_A + PROJ_bas\n"
   ]
  },
  {
   "cell_type": "code",
   "execution_count": null,
   "metadata": {},
   "outputs": [],
   "source": [
    "C_loc_test = test_full_system_scf.mo_coeff[:,test_full_system_scf.mo_occ>0]\n",
    "\n",
    "IND=3\n",
    "# print(C_loc_test[:,IND].conj().T @ (v_emb + Fock) @ C_loc_test[:,IND])\n",
    "print(C_loc_test[:,IND].conj().T @ (projector) @ C_loc_test[:,IND])"
   ]
  },
  {
   "cell_type": "code",
   "execution_count": null,
   "metadata": {},
   "outputs": [],
   "source": []
  },
  {
   "cell_type": "code",
   "execution_count": null,
   "metadata": {},
   "outputs": [],
   "source": [
    "Fock_A = test_full_system_scf.get_hcore() + test_full_system_scf.get_veff(dm=dm_active)\n",
    "print(np.around(Fock_A@projector - projector@Fock_A, 1))\n",
    "print()\n",
    "\n",
    "# diagonal entries are zero!\n",
    "np.around(np.diag((Fock_A@projector - projector@Fock_A)))"
   ]
  },
  {
   "cell_type": "code",
   "execution_count": null,
   "metadata": {},
   "outputs": [],
   "source": [
    "n_docc"
   ]
  },
  {
   "cell_type": "code",
   "execution_count": null,
   "metadata": {},
   "outputs": [],
   "source": [
    "n_docc = int(np.around(np.trace(dm_active @ S_mat),2)//2)\n",
    "\n",
    "### consts\n",
    "g_A_and_B = test_full_system_scf.get_veff(dm=dm_active+dm_enviro)\n",
    "g_A = test_full_system_scf.get_veff(dm=dm_active)\n",
    "H_core_std = H_core_standard = scf.hf.get_hcore(test_full_system_scf.mol)\n",
    "###\n",
    "\n",
    "Huz_PROJECTOR= -0.5*(H_core_std@ dm_enviro@ S_mat + S_mat@dm_enviro@H_core_std)\n",
    "F_guess = H_core_std + Huz_PROJECTOR\n",
    "\n",
    "X = sp.linalg.fractional_matrix_power(S_mat, -0.5)\n",
    "eri_ao = full_system_mol.intor('int2e') \n",
    "\n",
    "F_prime = X.conj().T @ F_guess @ X\n",
    "\n",
    "epsilon, C_prime = np.linalg.eigh(F_prime)\n",
    "\n",
    "# transofrm C_prime back to AO basis\n",
    "C = X @ C_prime\n",
    "\n",
    "# get occupied orbitals\n",
    "C_occ = C[:, :n_docc]\n",
    "\n",
    "# build density matrix from occupied orbitals!\n",
    "D_active_emb = C_occ @ C_occ.T\n",
    "# D = np.einsum('pi,qi->pq', C_occ, C_occ, optimize=True)\n",
    "\n",
    "\n",
    "#alg\n",
    "max_iter = 100\n",
    "HF_energy =0\n",
    "E_previous = 0\n",
    "E_tol = 1e-6\n",
    "\n",
    "for i in range(max_iter+1):\n",
    "    \n",
    "    # build Veff for Y_embedded_A\n",
    "    J_mat = np.einsum('mvls,ls -> mv', eri_ao, D_active_emb, optimize=True)\n",
    "    K_mat = np.einsum('mlvs,ls -> mv', eri_ao, D_active_emb, optimize=True)\n",
    "    \n",
    "    g_A_emb = 2*J_mat - K_mat\n",
    "    \n",
    "    \n",
    "    Huz_PROJECTOR= -0.5*(Fock@ dm_enviro@ S_mat + S_mat@dm_enviro@Fock)\n",
    "    H_core_emb = H_core_std + g_A_and_B - g_A  + Huz_PROJECTOR \n",
    "    \n",
    "    Fock = H_core_emb + g_A_emb\n",
    "    \n",
    "    \n",
    "    ### find RHF energy\n",
    "    HF_energy = np.einsum('pq,pq ->', D_active_emb, (Fock+H_core_std), optimize=True) + full_system_mol.energy_nuc()\n",
    "    print(HF_energy)\n",
    "    #     HF_energy =np.trace(H_core @ D) + np.trace(Fock @ D) + full_system_mol.energy_nuc()\n",
    "    # (no 0.5 here as included in D mat natively!)\n",
    "    \n",
    "    ### check convergence\n",
    "    if np.abs(HF_energy-E_previous)<E_tol:\n",
    "        break\n",
    "        \n",
    "        \n",
    "    # if not convereged store old result\n",
    "    E_previous = HF_energy\n",
    "    \n",
    "    ## compute new orbital guess\n",
    "    F_prime = X.conj().T @ Fock @ X\n",
    "\n",
    "    epsilon, C_prime = np.linalg.eigh(F_prime)\n",
    "\n",
    "    # transofrm C_prime back to AO basis\n",
    "    C = X @ C_prime\n",
    "\n",
    "    # get occupied orbitals\n",
    "    C_occ = C[:, :n_docc]\n",
    "\n",
    "    # build density matrix from occupied orbitals!\n",
    "#     D = C_occ @ C_occ.T\n",
    "    D_active_emb = np.einsum('pi,qi->pq', C_occ, C_occ, optimize=True)\n",
    "    \n",
    "    if i==max_iter:\n",
    "        raise ValueError('Maximum number of SCF iterations exceeded')\n",
    "        \n",
    "print(f'final RHF SCF energy {HF_energy}')"
   ]
  },
  {
   "cell_type": "code",
   "execution_count": null,
   "metadata": {},
   "outputs": [],
   "source": [
    "full_system_mol_EMBEDDED = gto.Mole(atom= geometry,\n",
    "                      basis=basis,\n",
    "                       charge=charge,\n",
    "                       spin=spin,\n",
    "                      )\n",
    "full_system_mol_EMBEDDED.build()\n",
    "\n",
    "# RE-DEFINE number of electrons in system\n",
    "full_system_mol_EMBEDDED.nelectron = 2*len(active_MO_inds) # <------ IMPORTANT!\n",
    "\n",
    "EMBEDDED_full_system_scf = scf.RKS(full_system_mol_EMBEDDED)\n",
    "EMBEDDED_full_system_scf.verbose=1\n",
    "EMBEDDED_full_system_scf.max_memory= memory\n",
    "EMBEDDED_full_system_scf.conv_tol = 1e-6\n",
    "EMBEDDED_full_system_scf.xc = low_level_xc_functional\n",
    "\n",
    "h_core = EMBEDDED_full_system_scf.get_hcore()\n",
    "\n",
    "# overwrite h_core to include embedding term!!!!\n",
    "EMBEDDED_full_system_scf.get_hcore = lambda *args: v_emb + h_core\n",
    "\n",
    "E_emb = EMBEDDED_full_system_scf.kernel()\n",
    "\n",
    "print(f'embedded Energy: {E_emb}')"
   ]
  },
  {
   "cell_type": "code",
   "execution_count": null,
   "metadata": {},
   "outputs": [],
   "source": [
    "EMBEDDED_full_system_scf.mo_energy"
   ]
  },
  {
   "cell_type": "code",
   "execution_count": null,
   "metadata": {},
   "outputs": [],
   "source": [
    "old_calc = EMBEDDED_full_system_scf.mo_energy"
   ]
  },
  {
   "cell_type": "code",
   "execution_count": null,
   "metadata": {},
   "outputs": [],
   "source": [
    "print(np.around(old_calc,3 ))\n",
    "print(np.around(EMBEDDED_full_system_scf.mo_energy,3 ))"
   ]
  },
  {
   "cell_type": "code",
   "execution_count": null,
   "metadata": {},
   "outputs": [],
   "source": [
    "np.allclose(EMBEDDED_full_system_scf.mo_energy[EMBEDDED_full_system_scf.mo_occ>0],\n",
    "            old_calc[EMBEDDED_full_system_scf.mo_occ>0])\n",
    "print(old_calc[EMBEDDED_full_system_scf.mo_occ>0])\n",
    "print(EMBEDDED_full_system_scf.mo_energy[EMBEDDED_full_system_scf.mo_occ>0])"
   ]
  },
  {
   "cell_type": "code",
   "execution_count": null,
   "metadata": {},
   "outputs": [],
   "source": [
    "# active_C = np.zeros_like(Fock)\n",
    "# active_C[:, active_MO_inds] = C_active\n",
    "# print(np.diag(active_C.conj().T @ Fock @ active_C))\n",
    "# print()\n",
    "\n",
    "# enviro_C = np.zeros_like(Fock)\n",
    "# enviro_C[:, enviro_MO_inds] =C_envrio\n",
    "# print(np.diag(enviro_C.conj().T @ Fock @ enviro_C))\n",
    "\n",
    "# Fock_A = test_full_system_scf.get_hcore() + test_full_system_scf.get_veff(dm=dm_active)\n",
    "\n",
    "# Pro_new = active_C.conj().T @ projector @ active_C\n",
    "# print(np.around(Pro_new@Fock_A, 2))\n",
    "\n",
    "# Pro_new = enviro_C.conj().T @ projector @ enviro_C\n",
    "# print(np.around(Pro_new@Fock_A, 2))"
   ]
  },
  {
   "cell_type": "code",
   "execution_count": null,
   "metadata": {},
   "outputs": [],
   "source": [
    "# active_C = np.zeros_like(Fock)\n",
    "# active_C[:, active_MO_inds] = C_active\n",
    "# enviro_C = np.zeros_like(Fock)\n",
    "# enviro_C[:, enviro_MO_inds] =C_envrio\n",
    "\n",
    "# F_AB = active_C.conj().T @ Fock @ enviro_C\n",
    "# F_gammaB_S = F_AB @ dm_enviro @ S_mat\n",
    "# projector = -0.5 * (F_gammaB_S + F_gammaB_S.T)\n",
    "# Fock_A = test_full_system_scf.get_hcore() + test_full_system_scf.get_veff(dm=dm_active)\n",
    "# print(np.around(Fock_A@projector - projector@Fock_A, 4))"
   ]
  },
  {
   "cell_type": "code",
   "execution_count": null,
   "metadata": {},
   "outputs": [],
   "source": [
    "# ## manual projector\n",
    "# S_mat = full_system_scf.get_ovlp()\n",
    "# S_half = sp.linalg.fractional_matrix_power(full_system_scf.get_ovlp() , 0.5)\n",
    "\n",
    "# Loc_Ortho = S_half@ C_all_localized\n",
    "\n",
    "# PROJ_ortho = np.zeros_like(S_mat)\n",
    "# for MO_ind in range(C_all_localized.shape[1]):\n",
    "#     if MO_ind in enviro_MO_inds:\n",
    "#         outer = np.outer(Loc_Ortho[:, MO_ind], Loc_Ortho[:, MO_ind])\n",
    "#         PROJ_ortho+=outer\n",
    "#     else:\n",
    "#         continue\n",
    "\n",
    "# print(np.allclose(PROJ_ortho @ Loc_Ortho[:,enviro_MO_inds[0]], Loc_Ortho[:,enviro_MO_inds[0]]))\n",
    "\n",
    "# # convert to localized basis (rather than ortho one)\n",
    "# PROJ_bas = S_neg_half@ PROJ_ortho  @ S_half\n",
    "# print(np.allclose(PROJ_bas @ C_all_localized[:,enviro_MO_inds[0]], C_all_localized[:,enviro_MO_inds[0]]))\n",
    "\n",
    "# # C_all_localized_and_virt # contains loc and virtual orbs!"
   ]
  },
  {
   "cell_type": "code",
   "execution_count": null,
   "metadata": {},
   "outputs": [],
   "source": [
    "orbital_ind=2\n",
    "np.allclose(projector @ C_loc_test[:, orbital_ind], C_loc_test[:, orbital_ind])"
   ]
  },
  {
   "cell_type": "code",
   "execution_count": null,
   "metadata": {},
   "outputs": [],
   "source": [
    "IND=4\n",
    "# print(C_loc_test[:,IND].conj().T @ (v_emb + Fock) @ C_loc_test[:,IND])\n",
    "print(C_loc_test[:,IND].conj().T @ (projector) @ C_loc_test[:,IND])"
   ]
  },
  {
   "cell_type": "code",
   "execution_count": null,
   "metadata": {},
   "outputs": [],
   "source": [
    "full_system_scf.mo_coeff[:,full_system_scf.mo_occ>0]"
   ]
  },
  {
   "cell_type": "code",
   "execution_count": null,
   "metadata": {},
   "outputs": [],
   "source": []
  },
  {
   "cell_type": "code",
   "execution_count": null,
   "metadata": {},
   "outputs": [],
   "source": [
    "IND=2\n",
    "print(full_system_scf.mo_coeff[:,IND].conj().T @ full_system_scf.get_fock() @ full_system_scf.mo_coeff[:,IND])\n",
    "print(full_system_scf.mo_energy[IND])"
   ]
  },
  {
   "cell_type": "code",
   "execution_count": null,
   "metadata": {},
   "outputs": [],
   "source": [
    "IND=4\n",
    "print(C_all_localized[:,IND].conj().T @ full_system_scf.get_fock() @ C_all_localized[:,IND])\n",
    "print(full_system_scf.mo_energy[IND])"
   ]
  },
  {
   "cell_type": "code",
   "execution_count": null,
   "metadata": {},
   "outputs": [],
   "source": [
    "U = full_system_scf.mo_coeff @ np.linalg.pinv(C_all_localized)# c\n",
    "np.allclose(U @C_all_localized,\n",
    "            full_system_scf.mo_coeff) # checking U@ C_loc = C_standard"
   ]
  },
  {
   "cell_type": "code",
   "execution_count": null,
   "metadata": {},
   "outputs": [],
   "source": []
  },
  {
   "cell_type": "code",
   "execution_count": null,
   "metadata": {},
   "outputs": [],
   "source": [
    "U1, singular_values1, rotation_matrix = np.linalg.svd(full_system_scf.get_fock(dm = dm_active + dm_enviro)\n",
    "                                                      , full_matrices=True)\n",
    "\n",
    "U2, singular_values2, rotation_matrix2 = np.linalg.svd(full_system_scf.get_fock()\n",
    "                                                      , full_matrices=True)\n",
    "\n",
    "singular_values1"
   ]
  },
  {
   "cell_type": "code",
   "execution_count": null,
   "metadata": {},
   "outputs": [],
   "source": [
    "U1, singular_values1, rotation_matrix = np.linalg.svd(C_all_localized[:,full_system_scf.mo_occ>0], full_matrices=True)\n",
    "# U2, singular_values2, V2 = np.linalg.svd(full_system_scf.mo_coeff, full_matrices=True)\n",
    "\n",
    "C_active = C_all_localized[:,full_system_scf.mo_occ>0] @ rotation_matrix.T[:, active_MO_inds]\n",
    "C_envrio = C_all_localized[:,full_system_scf.mo_occ>0] @ rotation_matrix.T[:, enviro_MO_inds]\n",
    "\n",
    "\n",
    "C_matrix_all_localized_orbitals = C_all_localized[:,full_system_scf.mo_occ>0] @ rotation_matrix.T\n"
   ]
  },
  {
   "cell_type": "code",
   "execution_count": null,
   "metadata": {},
   "outputs": [],
   "source": [
    "dm_localised_full_system = 2* C_matrix_all_localized_orbitals@ C_matrix_all_localized_orbitals.conj().T\n",
    "dm_active =  2 * C_active @ C_active.T\n",
    "dm_enviro =  2 * C_envrio @ C_envrio.T\n",
    "    \n",
    "bool_density_flag = np.allclose(dm_localised_full_system, dm_active + dm_enviro)\n",
    "bool_density_flag"
   ]
  },
  {
   "cell_type": "code",
   "execution_count": null,
   "metadata": {},
   "outputs": [],
   "source": [
    "V_dag, singular_values, V = np.linalg.svd(U, full_matrices=True)\n",
    "\n",
    "print(C_all_localized[:,IND].conj().T @ (V@full_system_scf.get_fock() @ V_dag)/2 @ C_all_localized[:,IND])\n",
    "print(full_system_scf.mo_energy[IND])"
   ]
  },
  {
   "cell_type": "code",
   "execution_count": null,
   "metadata": {},
   "outputs": [],
   "source": []
  },
  {
   "cell_type": "code",
   "execution_count": null,
   "metadata": {},
   "outputs": [],
   "source": [
    "IND=2\n",
    "print(C_all_localized[:,IND].conj().T @ (U.conj().T@full_system_scf.get_fock() @ U) @ C_all_localized[:,IND])\n",
    "print(full_system_scf.mo_energy[IND])"
   ]
  },
  {
   "cell_type": "code",
   "execution_count": null,
   "metadata": {},
   "outputs": [],
   "source": []
  },
  {
   "cell_type": "code",
   "execution_count": null,
   "metadata": {},
   "outputs": [],
   "source": [
    "eig_vals, eig_vecs = np.linalg.eigh((U.conj().T@full_system_scf.get_fock() @ U))\n",
    "\n",
    "eig_vals2, eig_vecs2 = np.linalg.eigh(full_system_scf.get_fock())\n",
    "\n",
    "print(eig_vals)\n",
    "print(eig_vals2)"
   ]
  },
  {
   "cell_type": "code",
   "execution_count": null,
   "metadata": {},
   "outputs": [],
   "source": [
    "dm_loc = 2 * C_all_localized[:,full_system_scf.mo_occ>0] @ C_all_localized[:,full_system_scf.mo_occ>0].conj().T\n",
    "\n",
    "C_all_localized[:,IND].conj().T @ full_system_scf.get_fock() @ C_all_localized[:,IND]"
   ]
  },
  {
   "cell_type": "code",
   "execution_count": null,
   "metadata": {},
   "outputs": [],
   "source": [
    "C_opt_std = full_system_scf.mo_coeff[:,full_system_scf.mo_occ>0]\n",
    "dm_std = 2*C_opt_std @ C_opt_std.conj().T\n",
    "np.allclose(dm_std, dm_active+dm_enviro)"
   ]
  },
  {
   "cell_type": "code",
   "execution_count": null,
   "metadata": {},
   "outputs": [],
   "source": [
    "dm_active + dm_ac\n",
    "np.allclose(full_system_scf.get_veff(dm=dm_active + dm_enviro), \n",
    "            full_system_scf.get_veff())"
   ]
  },
  {
   "cell_type": "code",
   "execution_count": null,
   "metadata": {},
   "outputs": [],
   "source": [
    "Fock = full_system_scf.get_hcore() + full_system_scf.get_veff(dm = dm_active+ dm_enviro)\n",
    "eig_vals, eig_vecs = np.linalg.eigh(Fock)\n",
    "\n",
    "eig_vals"
   ]
  },
  {
   "cell_type": "code",
   "execution_count": null,
   "metadata": {},
   "outputs": [],
   "source": [
    "full_system_scf.mo_energy"
   ]
  },
  {
   "cell_type": "code",
   "execution_count": null,
   "metadata": {},
   "outputs": [],
   "source": [
    "fasdfds"
   ]
  },
  {
   "cell_type": "code",
   "execution_count": null,
   "metadata": {},
   "outputs": [],
   "source": [
    "Fock@full_system_scf.mo"
   ]
  },
  {
   "cell_type": "code",
   "execution_count": null,
   "metadata": {},
   "outputs": [],
   "source": []
  },
  {
   "cell_type": "code",
   "execution_count": null,
   "metadata": {},
   "outputs": [],
   "source": [
    "(U.conj().T@Fock@U).shape"
   ]
  },
  {
   "cell_type": "code",
   "execution_count": null,
   "metadata": {},
   "outputs": [],
   "source": []
  },
  {
   "cell_type": "code",
   "execution_count": null,
   "metadata": {},
   "outputs": [],
   "source": [
    "U = C_all_localized @ np.linalg.pinv(full_system_scf.mo_coeff)# c\n",
    "\n",
    "np.allclose(U @ full_system_scf.mo_coeff,\n",
    "C_all_localized)"
   ]
  },
  {
   "cell_type": "code",
   "execution_count": null,
   "metadata": {},
   "outputs": [],
   "source": [
    "# ind = 2\n",
    "# print(full_system_scf.mo_coeff[:,ind].conj().T @ full_system_scf.get_fock() @ full_system_scf.mo_coeff[:,ind])\n",
    "# print(full_system_scf.mo_energy[ind]) \n",
    "\n",
    "# F_mo = C_all_localized.conj().T @ (U.conj().T@ full_system_scf.get_fock() @U) @ C_all_localized\n",
    "# np.around(F_mo, 1)"
   ]
  },
  {
   "cell_type": "code",
   "execution_count": null,
   "metadata": {},
   "outputs": [],
   "source": [
    "C_all_localized.conj().T @ full_system_scf.get_fock() @ C_all_localized"
   ]
  },
  {
   "cell_type": "code",
   "execution_count": null,
   "metadata": {},
   "outputs": [],
   "source": [
    "Fock = full_system_scf.get_hcore() + full_system_scf.get_veff(dm = dm_active+ dm_enviro)\n",
    "F_rot = C_all_localized.conj().T @ (U.conj().T@ Fock @U) @ C_all_localized\n",
    "\n",
    "# F_MO = full_system_scf.mo_coeff.conj().T @ Fock @ full_system_scf.mo_coeff\n",
    "print(np.around(F_rot, 1))"
   ]
  },
  {
   "cell_type": "code",
   "execution_count": null,
   "metadata": {},
   "outputs": [],
   "source": []
  },
  {
   "cell_type": "code",
   "execution_count": null,
   "metadata": {},
   "outputs": [],
   "source": [
    "AO_slice_matrix = full_system_scf.mol.aoslice_by_atom()\n",
    "ao_active_inds = np.arange(AO_slice_matrix[0,2], AO_slice_matrix[N_active_atoms-1,3])\n",
    "\n",
    "ao_ENViro_inds = np.arange(AO_slice_matrix[N_active_atoms,2], AO_slice_matrix[-1,-1])\n",
    "\n",
    "print(ao_active_inds)\n",
    "print(ao_ENViro_inds)"
   ]
  },
  {
   "cell_type": "code",
   "execution_count": null,
   "metadata": {},
   "outputs": [],
   "source": [
    "ao_ENViro_inds"
   ]
  },
  {
   "cell_type": "code",
   "execution_count": null,
   "metadata": {},
   "outputs": [],
   "source": [
    "Fock = full_system_scf.get_hcore() + full_system_scf.get_veff(dm = dm_enviro)\n",
    "S_mat = full_system_scf.get_ovlp()\n",
    "\n",
    "P = np.zeros_like(Fock)\n",
    "# for i in ao_ENViro_inds:\n",
    "for mu in ao_ENViro_inds:\n",
    "    if mu in ao_ENViro_inds:\n",
    "        for nu in ao_ENViro_inds:\n",
    "            if nu in ao_ENViro_inds:\n",
    "                P[mu, nu]+= dm_enviro[mu, nu] * (Fock[mu, mu]*S_mat[nu, nu] + S_mat[mu, mu]*Fock[nu, nu])\n",
    "    \n",
    "P.shape"
   ]
  },
  {
   "cell_type": "code",
   "execution_count": null,
   "metadata": {},
   "outputs": [],
   "source": []
  },
  {
   "cell_type": "code",
   "execution_count": null,
   "metadata": {},
   "outputs": [],
   "source": [
    "# orbital_ind=4\n",
    "# psi_MO = EMBEDDED_full_system_scf.mo_coeff[:, orbital_ind]\n",
    "# E_MO =EMBEDDED_full_system_scf.mo_energy[orbital_ind]\n",
    "\n",
    "# Fock = EMBEDDED_full_system_scf.get_fock()\n",
    "# np.allclose(psi_MO.conj().T @Fock@psi_MO, E_MO)\n",
    "\n",
    "# Fock = full_system_scf.get_hcore() + full_system_scf.get_veff(dm = dm_active+ dm_enviro)\n",
    "# projector = np.zeros_like(Fock)\n",
    "# for orbital_ind in range(full_system_scf.mo_coeff.shape[1]):\n",
    "#     psi_MO = EMBEDDED_full_system_scf.mo_coeff[:, orbital_ind]\n",
    "#     if orbital_ind in active_MO_inds:\n",
    "#         outer = np.outer(psi_MO, psi_MO)\n",
    "#         projector-= Fock@outer + outer@Fock\n",
    "#     else:\n",
    "#        # inactive \n",
    "#         continue\n",
    "\n",
    "Fock = full_system_scf.get_hcore() + full_system_scf.get_veff(dm = dm_active+ dm_enviro)\n",
    "projector = np.zeros_like(Fock)\n",
    "for orbital_ind in range(C_all_localized.shape[1]):\n",
    "    psi_MO = C_all_localized[:, orbital_ind]\n",
    "    if orbital_ind in active_MO_inds:\n",
    "        outer = np.outer(psi_MO, psi_MO)\n",
    "        projector-= Fock@outer + outer@Fock\n",
    "    else:\n",
    "       # inactive \n",
    "        continue"
   ]
  },
  {
   "cell_type": "code",
   "execution_count": null,
   "metadata": {},
   "outputs": [],
   "source": [
    "# Fock = full_system_scf.get_hcore() + full_system_scf.get_veff(dm = dm_active+ dm_enviro)\n",
    "# S_mat = full_system_scf.get_ovlp()\n",
    "\n",
    "# projector = np.zeros_like(Fock)\n",
    "# for mu in range(Fock.shape[0]):\n",
    "#     for nu in range(Fock.shape[1]):\n",
    "#         projector[mu, nu] = -0.5* (dm_enviro[mu, nu]) * (Fock[mu,mu]*S_mat[nu, nu] + S_mat[mu,mu]*Fock[nu, nu])\n"
   ]
  },
  {
   "cell_type": "code",
   "execution_count": null,
   "metadata": {},
   "outputs": [],
   "source": [
    "# PP = -0.5 * dm_enviro @ (Fock@S_mat+ S_mat@Fock)\n",
    "# # np.allclose(projector, PP)"
   ]
  },
  {
   "cell_type": "code",
   "execution_count": null,
   "metadata": {},
   "outputs": [],
   "source": [
    "Fock = full_system_scf.get_hcore() + full_system_scf.get_veff(dm = dm_active+ dm_enviro)\n",
    "projector = np.zeros_like(Fock)\n",
    "for orbital_ind in range(C_all_localized.shape[1]):\n",
    "    psi_MO = C_all_localized[:, orbital_ind]\n",
    "    if orbital_ind in active_MO_inds:\n",
    "        outer = np.outer(psi_MO, psi_MO)\n",
    "        projector = outer\n",
    "    else:\n",
    "       # inactive \n",
    "        continue"
   ]
  },
  {
   "cell_type": "code",
   "execution_count": null,
   "metadata": {},
   "outputs": [],
   "source": [
    "Fock = full_system_scf.get_hcore() + full_system_scf.get_veff(dm = dm_active+ dm_enviro)\n",
    "projector = np.zeros_like(Fock)\n",
    "for orbital_ind in range(C_all_localized.shape[1]):\n",
    "    psi_MO = C_all_localized[:, orbital_ind]\n",
    "    if orbital_ind in enviro_MO_inds: # <---- ENV\n",
    "        outer = np.outer(psi_MO, psi_MO)\n",
    "        projector = Fock@outer + Fock@outer\n",
    "    else:\n",
    "       # inactive \n",
    "        continue"
   ]
  },
  {
   "cell_type": "code",
   "execution_count": null,
   "metadata": {},
   "outputs": [],
   "source": [
    "C_all_localized[:, orbital_ind]"
   ]
  },
  {
   "cell_type": "code",
   "execution_count": null,
   "metadata": {},
   "outputs": [],
   "source": [
    "orbital_ind=1\n",
    "\n",
    "mo_E = full_system_scf.mo_energy[orbital_ind]\n",
    "\n",
    "( (Fock) @ C_all_localized[:, orbital_ind])/ (C_all_localized[:, orbital_ind].conj().T@ Fock@ C_all_localized[:, orbital_ind])\n"
   ]
  },
  {
   "cell_type": "code",
   "execution_count": null,
   "metadata": {},
   "outputs": [],
   "source": [
    "# F_MO =  C_all_localized.conj().T @ Fock @ C_all_localized\n",
    "F_MO = full_system_scf.mo_coeff.conj().T @ Fock @ full_system_scf.mo_coeff\n",
    "print(np.around(F_MO, 2))\n"
   ]
  },
  {
   "cell_type": "code",
   "execution_count": null,
   "metadata": {},
   "outputs": [],
   "source": [
    "Proj_MO = np.zeros_like(F_MO)\n",
    "# Proj_MO[ao_active_inds, ao_active_inds]=1\n",
    "Proj_MO[ao_ENViro_inds, ao_ENViro_inds]= -1* F_MO[ao_ENViro_inds, ao_ENViro_inds]\n",
    "\n",
    "\n",
    "Proj_AO = (full_system_scf.mo_coeff.conj().T@ Proj_MO \n",
    "           @ np.linalg.pinv(full_system_scf.mo_coeff))\n",
    "\n",
    "# Proj_AO"
   ]
  },
  {
   "cell_type": "code",
   "execution_count": null,
   "metadata": {},
   "outputs": [],
   "source": [
    "MO_ind=6\n",
    "print(np.eye(Proj_MO.shape[0])[:,MO_ind] @ Proj_MO @ np.eye(Proj_MO.shape[0])[:,MO_ind])\n",
    "print(np.eye(Proj_MO.shape[0])[:,MO_ind] @ F_MO @ np.eye(Proj_MO.shape[0])[:,MO_ind])\n",
    "print()\n",
    "print(np.eye(Proj_MO.shape[0])[:,MO_ind] @ (F_MO+Proj_MO) @ np.eye(Proj_MO.shape[0])[:,MO_ind])"
   ]
  },
  {
   "cell_type": "code",
   "execution_count": null,
   "metadata": {},
   "outputs": [],
   "source": [
    "C_inv = np.linalg.pinv(full_system_scf.mo_coeff)\n",
    "projected_fock_AO = (C_inv.conj().T@ (Proj_MO+F_MO)@ C_inv)"
   ]
  },
  {
   "cell_type": "code",
   "execution_count": null,
   "metadata": {},
   "outputs": [],
   "source": [
    "ind = 6\n",
    "full_system_scf.mo_coeff[:,ind].conj().T @ projected_fock_AO @ full_system_scf.mo_coeff[:,ind]"
   ]
  },
  {
   "cell_type": "code",
   "execution_count": null,
   "metadata": {},
   "outputs": [],
   "source": [
    "full_system_scf.mo_coeff[:,ind].conj().T @ Fock @ full_system_scf.mo_coeff[:,ind]"
   ]
  },
  {
   "cell_type": "code",
   "execution_count": null,
   "metadata": {},
   "outputs": [],
   "source": []
  },
  {
   "cell_type": "code",
   "execution_count": null,
   "metadata": {},
   "outputs": [],
   "source": [
    "full_system_scf.mo_coeff[:,1]"
   ]
  },
  {
   "cell_type": "code",
   "execution_count": null,
   "metadata": {},
   "outputs": [],
   "source": [
    "Proj_AO@full_system_scf.mo_coeff[:,1]"
   ]
  },
  {
   "cell_type": "code",
   "execution_count": null,
   "metadata": {},
   "outputs": [],
   "source": [
    "np.allclose(np.linalg.pinv(full_system_scf.mo_coeff.conj().T)@ F_MO @ np.linalg.pinv(full_system_scf.mo_coeff),\n",
    "           Fock)"
   ]
  },
  {
   "cell_type": "code",
   "execution_count": null,
   "metadata": {},
   "outputs": [],
   "source": [
    "full_system_scf.mo_coeff[:, orbital_ind]"
   ]
  },
  {
   "cell_type": "code",
   "execution_count": null,
   "metadata": {},
   "outputs": [],
   "source": [
    "orbital_ind=3\n",
    "\n",
    "print(np.isclose(F_MO[orbital_ind,orbital_ind], full_system_scf.mo_energy[orbital_ind]))\n",
    "\n",
    "np.allclose(F_MO @ full_system_scf.mo_coeff[:, orbital_ind],\n",
    "            full_system_scf.mo_coeff[:, orbital_ind]/full_system_scf.mo_energy[orbital_ind])\n"
   ]
  },
  {
   "cell_type": "code",
   "execution_count": null,
   "metadata": {},
   "outputs": [],
   "source": [
    "orbital_ind=3\n",
    "projector @ full_system_scf.mo_coeff[:, orbital_ind]"
   ]
  },
  {
   "cell_type": "code",
   "execution_count": null,
   "metadata": {},
   "outputs": [],
   "source": [
    "C_all_localized[:, orbital_ind]"
   ]
  },
  {
   "cell_type": "code",
   "execution_count": null,
   "metadata": {},
   "outputs": [],
   "source": []
  },
  {
   "cell_type": "code",
   "execution_count": null,
   "metadata": {},
   "outputs": [],
   "source": [
    "Fock = full_system_scf.get_hcore() + full_system_scf.get_veff(dm = dm_active+ dm_enviro)\n",
    "projector = np.zeros_like(Fock)\n",
    "for orbital_ind in range(C_all_localized.shape[1]):\n",
    "    if orbital_ind in enviro_MO_inds:\n",
    "        outer = np.outer(psi_MO, psi_MO)\n",
    "        projector-= Fock@outer + outer@Fock\n",
    "    else:\n",
    "       # inactive \n",
    "        continue"
   ]
  },
  {
   "cell_type": "code",
   "execution_count": null,
   "metadata": {},
   "outputs": [],
   "source": [
    "orbital_ind=0\n",
    "C_all_localized[:, orbital_ind].conj().T @ (Fock+projector)@ C_all_localized[:, orbital_ind]"
   ]
  },
  {
   "cell_type": "code",
   "execution_count": null,
   "metadata": {},
   "outputs": [],
   "source": []
  },
  {
   "cell_type": "code",
   "execution_count": null,
   "metadata": {},
   "outputs": [],
   "source": []
  },
  {
   "cell_type": "code",
   "execution_count": null,
   "metadata": {},
   "outputs": [],
   "source": [
    "active_MO_inds"
   ]
  },
  {
   "cell_type": "code",
   "execution_count": null,
   "metadata": {},
   "outputs": [],
   "source": [
    "Fock = full_system_scf.get_hcore() + full_system_scf.get_veff(dm = dm_active+ dm_enviro)\n",
    "\n",
    "FP = (Fock + projector)\n",
    "\n",
    "orbital_ind=2\n",
    "psi_MO = EMBEDDED_full_system_scf.mo_coeff[:, orbital_ind]\n",
    "psi_MO.conj().T @FP@psi_MO\n"
   ]
  },
  {
   "cell_type": "code",
   "execution_count": null,
   "metadata": {},
   "outputs": [],
   "source": []
  },
  {
   "cell_type": "code",
   "execution_count": null,
   "metadata": {},
   "outputs": [],
   "source": [
    "# psi_MO = EMBEDDED_occ_orbs[:, 1]\n",
    "\n",
    "# P_B = 1e6* S_mat@ dm_enviro @ S_mat\n",
    "# P_B = -0.5*(Fock@dm_enviro@S_mat + S_mat@dm_enviro@Fock)\n",
    "\n",
    "for orbital_ind in range(EMBEDDED_full_system_scf.mo_coeff.shape[1]):\n",
    "    psi_MO = EMBEDDED_full_system_scf.mo_coeff[:, orbital_ind]\n",
    "    print(f'orb ind {orbital_ind}')\n",
    "#     print(f'<MO| Vemb |MO > : {2*(psi_MO @ V_embed @ psi_MO)} \\n')\n",
    "    print(f'<MO| Pb |MO > : {2*(psi_MO @ P @ psi_MO)} \\n')"
   ]
  },
  {
   "cell_type": "code",
   "execution_count": null,
   "metadata": {},
   "outputs": [],
   "source": [
    "# Fock = full_system_scf.get_hcore() + full_system_scf.get_veff(dm = dm_active+ dm_enviro)\n",
    "# S_mat = full_system_scf.get_ovlp()\n",
    "\n",
    "# Fock_A = full_system_scf.get_hcore() + full_system_scf.get_veff(dm = dm_active)"
   ]
  },
  {
   "cell_type": "code",
   "execution_count": null,
   "metadata": {},
   "outputs": [],
   "source": [
    "# F_A = Fock[:ao_active_inds[-1], :ao_active_inds[-1]]\n",
    "\n",
    "# gamma_tot = 2 * C_all_localized @ C_all_localized.conj().T\n",
    "\n",
    "# # gamma_act = gamma_tot[:ao_active_inds[-1]+1, :ao_active_inds[-1]+1]\n",
    "# # gamma_env = gamma_tot[ao_ENViro_inds[0]:, ao_ENViro_inds[0]:]\n",
    "# gamma_act = gamma_tot.copy()\n",
    "# gamma_act[ao_ENViro_inds[0]:, ao_ENViro_inds[0]:] = np.zeros((len(ao_ENViro_inds), len(ao_ENViro_inds)))\n",
    "\n",
    "# gamma_env = gamma_tot.copy()\n",
    "# gamma_env[:ao_active_inds[-1]+1, :ao_active_inds[-1]+1] = np.zeros((len(ao_active_inds), len(ao_active_inds)))\n",
    "\n",
    "# dm_active = gamma_act\n",
    "# gamma_env = gamma_env\n",
    "# V_embed  = vqe_in_dft.Geat_embedded_potential_operator(projector_method, \n",
    "#                                 full_system_scf, \n",
    "#                                 dm_active, \n",
    "#                                 dm_enviro, \n",
    "#                                 check_Hcore_is_correct=True, \n",
    "#                                 mu_shift_val=1e6,\n",
    "#                                 check_Vemb=True)"
   ]
  },
  {
   "cell_type": "code",
   "execution_count": null,
   "metadata": {},
   "outputs": [],
   "source": [
    "Fock = full_system_scf.get_hcore() + full_system_scf.get_veff(dm = dm_active+ dm_enviro)\n",
    "S_mat = full_system_scf.get_ovlp()\n",
    "\n",
    "Fock_A = full_system_scf.get_hcore() + full_system_scf.get_veff(dm = dm_active)"
   ]
  },
  {
   "cell_type": "code",
   "execution_count": null,
   "metadata": {},
   "outputs": [],
   "source": [
    "# # psi_MO = EMBEDDED_occ_orbs[:, 1]\n",
    "\n",
    "# P_B = 1e6* S_mat@ dm_enviro @ S_mat\n",
    "# # P_B = -0.5*(Fock@dm_enviro@S_mat + S_mat@dm_enviro@Fock)\n",
    "\n",
    "# for orbital_ind in range(EMBEDDED_full_system_scf.mo_coeff.shape[1]):\n",
    "#     psi_MO = EMBEDDED_full_system_scf.mo_coeff[:, orbital_ind]\n",
    "#     print(f'orb ind {orbital_ind}')\n",
    "# #     print(f'<MO| Vemb |MO > : {2*(psi_MO @ V_embed @ psi_MO)} \\n')\n",
    "#     print(f'<MO| Pb |MO > : {2*(psi_MO @ P_B @ psi_MO)} \\n')"
   ]
  },
  {
   "cell_type": "code",
   "execution_count": null,
   "metadata": {},
   "outputs": [],
   "source": [
    "# np.around(Fock_A@P_B - P_B@Fock_A, 5)"
   ]
  },
  {
   "cell_type": "markdown",
   "metadata": {},
   "source": [
    "# 5. Run RKS DFT of full system with $V_{emb}$ to get $\\gamma_{emb}^{\\text{active}}$ "
   ]
  },
  {
   "cell_type": "code",
   "execution_count": null,
   "metadata": {},
   "outputs": [],
   "source": [
    "full_system_mol_EMBEDDED = gto.Mole(atom= geometry,\n",
    "                      basis=basis,\n",
    "                       charge=charge,\n",
    "                       spin=spin,\n",
    "                      )\n",
    "full_system_mol_EMBEDDED.build()\n",
    "\n",
    "# RE-DEFINE number of electrons in system\n",
    "full_system_mol_EMBEDDED.nelectron = 2*len(active_MO_inds) # <------ IMPORTANT!\n",
    "\n",
    "EMBEDDED_full_system_scf = scf.RKS(full_system_mol_EMBEDDED)\n",
    "EMBEDDED_full_system_scf.verbose=1\n",
    "EMBEDDED_full_system_scf.max_memory= memory\n",
    "EMBEDDED_full_system_scf.conv_tol = 1e-6\n",
    "EMBEDDED_full_system_scf.xc = low_level_xc_functional\n",
    "\n",
    "h_core = EMBEDDED_full_system_scf.get_hcore()\n",
    "\n",
    "# overwrite h_core to include embedding term!!!!\n",
    "EMBEDDED_full_system_scf.get_hcore = lambda *args: V_embed + h_core\n",
    "\n",
    "E_emb = EMBEDDED_full_system_scf.kernel()\n",
    "\n",
    "print(f'embedded Energy: {E_emb}')"
   ]
  },
  {
   "cell_type": "code",
   "execution_count": null,
   "metadata": {},
   "outputs": [],
   "source": [
    "EMBEDDED_full_system_scf.conv_check"
   ]
  },
  {
   "cell_type": "code",
   "execution_count": null,
   "metadata": {},
   "outputs": [],
   "source": []
  },
  {
   "cell_type": "code",
   "execution_count": null,
   "metadata": {},
   "outputs": [],
   "source": [
    "EMBEDDED_occ_orbs = EMBEDDED_full_system_scf.mo_coeff[:,EMBEDDED_full_system_scf.mo_occ>0]\n",
    "\n",
    "# optimized embedded denisty matrix\n",
    "density_emb = 2 * EMBEDDED_occ_orbs @ EMBEDDED_occ_orbs.conj().T\n",
    "\n",
    "## check number of electrons makes sense:\n",
    "electron_check = np.isclose(np.trace(density_emb@full_system_scf.get_ovlp()), 2*len(active_MO_inds))\n",
    "\n",
    "print(f'number of e- in gamma_embedded is correct: {electron_check}')"
   ]
  },
  {
   "cell_type": "code",
   "execution_count": null,
   "metadata": {},
   "outputs": [],
   "source": []
  },
  {
   "cell_type": "code",
   "execution_count": null,
   "metadata": {},
   "outputs": [],
   "source": [
    "# calculate embedding correction term\n",
    "\n",
    "dm_correction = np.einsum('ij, ij', V_embed, density_emb-dm_active)\n",
    "WF_correction = np.einsum('ij, ij', V_embed, dm_active)\n",
    "\n",
    "print(f'RKS correction: {dm_correction}')\n",
    "print(f'WF correction: {WF_correction}')"
   ]
  },
  {
   "cell_type": "code",
   "execution_count": null,
   "metadata": {},
   "outputs": [],
   "source": []
  },
  {
   "cell_type": "code",
   "execution_count": null,
   "metadata": {},
   "outputs": [],
   "source": [
    "## PsiEmbed Way\n",
    "\n",
    "# J_emb, K_emb =EMBEDDED_full_system_scf.get_jk(dm=density_emb) \n",
    "\n",
    "# # note this uses the STANDARD H_core\n",
    "# matrix_dot = lambda A, B: np.einsum('ij,ij', A, B)\n",
    "# e_act_emb = matrix_dot(density_emb, h_core + 0.5 * J_emb - 0.25 * K_emb)\n",
    "# e_act_emb\n",
    "\n",
    "## MY way\n",
    "e_act_emb = full_system_scf.energy_elec(dm=density_emb,\n",
    "                                        vhf= full_system_scf.get_veff(dm=density_emb),\n",
    "                                       h1e = h_core)[0]\n",
    "e_act_emb"
   ]
  },
  {
   "cell_type": "code",
   "execution_count": null,
   "metadata": {},
   "outputs": [],
   "source": [
    "e_mf_emb = e_act_emb + E_env + two_e_cross + full_system_scf.energy_nuc() + dm_correction\n",
    "e_mf_emb # <-- energy from embedded DFT calc"
   ]
  },
  {
   "cell_type": "code",
   "execution_count": null,
   "metadata": {},
   "outputs": [],
   "source": [
    "full_system_scf.e_tot"
   ]
  },
  {
   "cell_type": "code",
   "execution_count": null,
   "metadata": {},
   "outputs": [],
   "source": [
    "print(f'global DFT calculation == seperated calculation: {np.isclose(e_mf_emb, full_system_scf.e_tot)}')\n",
    "# expected as same functional used!"
   ]
  },
  {
   "cell_type": "markdown",
   "metadata": {},
   "source": [
    "# 6. High level DFT calc!"
   ]
  },
  {
   "cell_type": "code",
   "execution_count": null,
   "metadata": {},
   "outputs": [],
   "source": [
    "full_system_mol_HIGH_LEVEL_DFT = gto.Mole(atom= geometry,\n",
    "                      basis=basis,\n",
    "                       charge=charge,\n",
    "                       spin=spin,\n",
    "                      )\n",
    "\n",
    "full_system_mol_HIGH_LEVEL_DFT.nelectron = 2*len(active_MO_inds) # <------ IMPORTANT!\n",
    "full_system_mol_HIGH_LEVEL_DFT.build()\n",
    "\n",
    "full_system_scf_HIGH_LEVEL = scf.RKS(full_system_mol_HIGH_LEVEL_DFT)\n",
    "full_system_scf_HIGH_LEVEL.verbose=1\n",
    "full_system_scf_HIGH_LEVEL.max_memory= memory\n",
    "full_system_scf_HIGH_LEVEL.conv_tol = 1e-6\n",
    "full_system_scf_HIGH_LEVEL.xc = high_level_xc_functional # <-- BETTER functional!\n",
    "\n",
    "\n",
    "# full_system_scf_HIGH_LEVEL.kernel() < --- do NOT RUN THIS"
   ]
  },
  {
   "cell_type": "code",
   "execution_count": null,
   "metadata": {},
   "outputs": [],
   "source": [
    "# run energy calc using high level functional (note density matrix is embedded A)\n",
    "\n",
    "e_act_emb_HIGH_LVL = full_system_scf_HIGH_LEVEL.energy_elec(dm=density_emb)\n",
    "e_act_emb_HIGH_LVL "
   ]
  },
  {
   "cell_type": "code",
   "execution_count": null,
   "metadata": {},
   "outputs": [],
   "source": [
    "E_high_lvl_DFT = e_act_emb_HIGH_LVL[0] + E_env + two_e_cross + full_system_scf.energy_nuc() + dm_correction\n",
    "E_high_lvl_DFT # <-- energy from embedded DFT calc"
   ]
  },
  {
   "cell_type": "code",
   "execution_count": null,
   "metadata": {},
   "outputs": [],
   "source": []
  },
  {
   "cell_type": "code",
   "execution_count": null,
   "metadata": {},
   "outputs": [],
   "source": [
    "print('High level DFT in DFT error:', np.abs(E_high_lvl_DFT-my_fci.e_tot))\n",
    "print('LOW level DFT in DFT error:', np.abs(e_mf_emb-my_fci.e_tot))"
   ]
  },
  {
   "cell_type": "code",
   "execution_count": null,
   "metadata": {},
   "outputs": [],
   "source": []
  },
  {
   "cell_type": "code",
   "execution_count": null,
   "metadata": {},
   "outputs": [],
   "source": []
  },
  {
   "cell_type": "markdown",
   "metadata": {},
   "source": [
    "# 7. High level WF calc (classical run) !"
   ]
  },
  {
   "cell_type": "code",
   "execution_count": null,
   "metadata": {},
   "outputs": [],
   "source": [
    "full_system_mol_EMBEDDED_HF = gto.Mole(atom= geometry,\n",
    "                      basis=basis,\n",
    "                       charge=charge,\n",
    "                       spin=spin,\n",
    "                      )\n",
    "full_system_mol_EMBEDDED_HF.build()\n",
    "\n",
    "# RE-DEFINE number of electrons in system\n",
    "full_system_mol_EMBEDDED_HF.nelectron = 2*len(active_MO_inds) # <------ IMPORTANT!\n",
    "\n",
    "EMBEDDED_full_system_scf_HF = scf.RHF(full_system_mol_EMBEDDED) # <---- Hartree Fock Calc!\n",
    "EMBEDDED_full_system_scf_HF.verbose=1\n",
    "EMBEDDED_full_system_scf_HF.max_memory= memory\n",
    "EMBEDDED_full_system_scf_HF.conv_tol = 1e-6\n",
    "\n",
    "h_core = EMBEDDED_full_system_scf_HF.get_hcore()\n",
    "\n",
    "# overwrite h_core to include embedding term!!!!\n",
    "EMBEDDED_full_system_scf_HF.get_hcore = lambda *args: V_embed + h_core\n",
    "\n",
    "# EMBEDDED_full_system_scf_HF.kernel() # <------ do NOT RUN!"
   ]
  },
  {
   "cell_type": "code",
   "execution_count": null,
   "metadata": {},
   "outputs": [],
   "source": [
    "# overwrite orbs with RKS embedded orbs!\n",
    "EMBEDDED_full_system_scf_HF.mo_coeff = EMBEDDED_full_system_scf.mo_coeff \n",
    "EMBEDDED_full_system_scf_HF.mo_occ = EMBEDDED_full_system_scf.mo_occ \n",
    "EMBEDDED_full_system_scf_HF.mo_energy = EMBEDDED_full_system_scf.mo_energy\n",
    "\n",
    "print(EMBEDDED_full_system_scf_HF.energy_elec(dm=density_emb)[0])\n",
    "print(EMBEDDED_full_system_scf_HF.energy_tot(dm=density_emb))\n",
    "print()\n",
    "print(EMBEDDED_full_system_scf_HF.energy_elec()[0])\n",
    "print(EMBEDDED_full_system_scf_HF.energy_tot())"
   ]
  },
  {
   "cell_type": "code",
   "execution_count": null,
   "metadata": {},
   "outputs": [],
   "source": []
  },
  {
   "cell_type": "code",
   "execution_count": null,
   "metadata": {},
   "outputs": [],
   "source": [
    "# EMBEDDED_full_system_scf_HF.kernel()\n",
    "# FCI_embedded = fci.FCI(EMBEDDED_full_system_scf_HF)\n",
    "# E_FCI,FCI_vec = FCI_embedded.kernel()\n",
    "# # from pyscf.ci.cisd import  to_fcivec\n",
    "# # cisdWFN   = to_fcivec(C_FCI, len(active_MO_inds), 2*len(active_MO_inds))\n",
    "\n",
    "# RDM1 = FCI_embedded.make_rdm1(FCI_vec,\n",
    "#                        norb=EMBEDDED_full_system_scf_HF.mo_coeff.shape[1],\n",
    "#                        nelec=2*len(active_MO_inds))\n",
    "\n",
    "# V,S, U = np.linalg.svd(RDM1)\n",
    "# print(np.isclose(2*len(active_MO_inds), np.sum(S)))\n",
    "# print(S)\n",
    "\n",
    "# print('')\n",
    "# print('ignore: ', S[])"
   ]
  },
  {
   "cell_type": "code",
   "execution_count": null,
   "metadata": {},
   "outputs": [],
   "source": []
  },
  {
   "cell_type": "code",
   "execution_count": null,
   "metadata": {},
   "outputs": [],
   "source": [
    "## CCSD calculation\n",
    "\n",
    "embedded_cc_obj = cc.CCSD(EMBEDDED_full_system_scf_HF)\n",
    "\n",
    "embedded_cc_obj.frozen = [i for i in range(EMBEDDED_full_system_scf_HF.mol.nao - len(enviro_MO_inds),\n",
    "                                           EMBEDDED_full_system_scf_HF.mol.nao)\n",
    "                         ]\n",
    "# embedded_cc_obj.frozen  = enviro_MO_inds.tolist()\n",
    "\n",
    "e_cc, t1, t2 = embedded_cc_obj.kernel()\n",
    "\n",
    "CC_flag_check = np.isclose(EMBEDDED_full_system_scf_HF.energy_tot(dm=density_emb),\n",
    "                          embedded_cc_obj.e_hf)\n",
    "\n",
    "\n",
    "print(f'E_corr: {e_cc}')\n",
    "print(f'\\nCC hartree fock energy matches HF embedded calc: {CC_flag_check}!')\n",
    "embedded_cc_obj.e_hf"
   ]
  },
  {
   "cell_type": "code",
   "execution_count": null,
   "metadata": {},
   "outputs": [],
   "source": []
  },
  {
   "cell_type": "code",
   "execution_count": null,
   "metadata": {},
   "outputs": [],
   "source": []
  },
  {
   "cell_type": "code",
   "execution_count": null,
   "metadata": {},
   "outputs": [],
   "source": [
    "print('orbital energies:')\n",
    "print(EMBEDDED_full_system_scf_HF.mo_energy)"
   ]
  },
  {
   "cell_type": "code",
   "execution_count": null,
   "metadata": {},
   "outputs": [],
   "source": [
    "print(embedded_cc_obj.frozen)"
   ]
  },
  {
   "cell_type": "code",
   "execution_count": null,
   "metadata": {},
   "outputs": [],
   "source": []
  },
  {
   "cell_type": "code",
   "execution_count": null,
   "metadata": {},
   "outputs": [],
   "source": [
    "WF_correction  = np.einsum('ij, ij', V_embed, dm_active) # note different definition\n",
    "\n",
    "E_WF = embedded_cc_obj.e_hf +e_cc  + E_env + two_e_cross - WF_correction\n",
    "E_WF "
   ]
  },
  {
   "cell_type": "code",
   "execution_count": null,
   "metadata": {},
   "outputs": [],
   "source": []
  },
  {
   "cell_type": "code",
   "execution_count": null,
   "metadata": {},
   "outputs": [],
   "source": [
    "print('High level DFT in DFT error:', np.abs(E_high_lvl_DFT-my_fci.e_tot))\n",
    "print('LOW level DFT in DFT error:', np.abs(e_mf_emb-my_fci.e_tot))\n",
    "\n",
    "print('WF in DFT error:', np.abs(E_WF-my_fci.e_tot))"
   ]
  },
  {
   "cell_type": "code",
   "execution_count": null,
   "metadata": {},
   "outputs": [],
   "source": []
  },
  {
   "cell_type": "code",
   "execution_count": null,
   "metadata": {
    "scrolled": true
   },
   "outputs": [],
   "source": [
    "drive_obj = vqe_in_dft.embeddeding_SCF_driver(geometry,\n",
    "                 N_active_atoms,\n",
    "                 projector_method,\n",
    "                 cheap_global_SCF_method='RKS', \n",
    "                 cheap_global_DFT_xc= 'lda, vwn',\n",
    "                 expensive_global_DFT_xc = 'b3lyp',\n",
    "                 cheap_WF_method = 'RHF',\n",
    "                 expensive_WF_method = 'CCSD',\n",
    "                 E_convergence_tol = 1e-6,\n",
    "                 basis = basis,\n",
    "                 unit= 'angstrom',\n",
    "                 pyscf_print_level=1,\n",
    "                 memory=8000,\n",
    "                 charge=0,\n",
    "                 spin=0,\n",
    "                 run_fci=False,\n",
    "                 run_cisd=False,\n",
    "                 mu_value=1e6,\n",
    "                 physists_notation= False)#phys_notation)\n",
    "\n",
    "E_DFT_low, E_DFT_high, E_Classical, E_QC, H_ferm = drive_obj.run_experiment(localization_method, \n",
    "                                                                      orbtial_loc_threshold=THRESHOLD,\n",
    "                                                                   jupyter_notebook=True)"
   ]
  },
  {
   "cell_type": "code",
   "execution_count": null,
   "metadata": {},
   "outputs": [],
   "source": [
    "# np.binary_repr(52).count('1')  "
   ]
  },
  {
   "cell_type": "code",
   "execution_count": null,
   "metadata": {},
   "outputs": [],
   "source": [
    "print('LOW level DFT in DFT error:', np.abs(E_DFT_low-my_fci.e_tot))\n",
    "print('High level DFT in DFT error:', np.abs(E_DFT_high-my_fci.e_tot))\n",
    "print('WF in DFT error:', np.abs(E_Classical-my_fci.e_tot))\n",
    "print('VQE in DFT error:', np.abs(E_QC-my_fci.e_tot))"
   ]
  },
  {
   "cell_type": "code",
   "execution_count": null,
   "metadata": {},
   "outputs": [],
   "source": [
    "print(e_mf_emb)\n",
    "print(E_high_lvl_DFT)\n",
    "print(E_WF)"
   ]
  },
  {
   "cell_type": "code",
   "execution_count": null,
   "metadata": {},
   "outputs": [],
   "source": []
  },
  {
   "cell_type": "code",
   "execution_count": null,
   "metadata": {},
   "outputs": [],
   "source": []
  },
  {
   "cell_type": "markdown",
   "metadata": {},
   "source": [
    "# QC part"
   ]
  },
  {
   "cell_type": "markdown",
   "metadata": {},
   "source": [
    "$$H_{fermionic} = h_{nuc} + \\sum_{p, q} h_{pq} a_{p}^{\\dagger} a_{q} + \\frac{1}{2} \\sum_{p, q ,r ,s} h_{pqrs} a_{p}^{\\dagger} a_{q}^{\\dagger} a_{r} a_{s}$$\n",
    "\n",
    "where:\n",
    "\n",
    "- $$h_{pq} = \\int d{\\vec{x}} \\phi_{p}^{*}({\\vec{x}}) \\bigg( - \\frac{\\nabla^{2}_{{\\vec{r}}}}{2} - \\sum_{I} \\frac{Z_{I}}{|{\\vec{r}} - {\\vec{R}_{I}} |} \\bigg) \\phi_{q}({\\vec{x}})$$\n",
    "\n",
    "\n",
    "- $$h_{pqrs} = \\int d{\\vec{x}}_{1} d{\\vec{x}}_{2} \\frac{\\phi_{p}^{*}({\\vec{x}}_{1}) \\phi_{q}^{*}({\\vec{x}}_{2}) \\phi_{s}({\\vec{x}}_{1}) \\phi_{r}({\\vec{x}}_{2})}{|{\\vec{r}_{1}} - {\\vec{r}}_{2}|}$$ \n",
    "\n",
    "\n",
    "- $$h_{nuc} = \\frac{1}{2} \\sum_{I \\neq J} \\frac{Z_{I} Z_{J}}{| {\\vec{R}}_{I} - {\\vec{R}}_{J}|}$$"
   ]
  },
  {
   "cell_type": "markdown",
   "metadata": {},
   "source": [
    "note project means we don't want last set of MO orbs filled!"
   ]
  },
  {
   "cell_type": "code",
   "execution_count": null,
   "metadata": {},
   "outputs": [],
   "source": [
    "# EMBEDDED_full_system_scf_HF.mo_coeff[:]"
   ]
  },
  {
   "cell_type": "code",
   "execution_count": null,
   "metadata": {},
   "outputs": [],
   "source": [
    "N_enviroment_MOs = len(enviro_MO_inds) \n",
    "\n",
    "one_body_integrals, two_body_integrals = vqe_in_dft.Get_embedded_one_and_two_body_integrals_MO_basis(EMBEDDED_full_system_scf_HF,\n",
    "                                                                                            N_enviroment_MOs,\n",
    "                                                                                            physists_notation=phys_notation)"
   ]
  },
  {
   "cell_type": "code",
   "execution_count": null,
   "metadata": {},
   "outputs": [],
   "source": [
    "print(one_body_integrals.shape)\n",
    "print(two_body_integrals.shape)\n",
    "\n",
    "print(active_MO_inds)\n",
    "print(enviro_MO_inds)"
   ]
  },
  {
   "cell_type": "code",
   "execution_count": null,
   "metadata": {},
   "outputs": [],
   "source": [
    "one_body_terms, two_body_terms = vqe_in_dft.Get_SpinOrbs_from_Spatial(one_body_integrals,\n",
    "                                                                   two_body_integrals,\n",
    "                                                                   physists_notation=phys_notation,\n",
    "                                                                   EQ_Tolerance=1e-8)"
   ]
  },
  {
   "cell_type": "code",
   "execution_count": null,
   "metadata": {},
   "outputs": [],
   "source": [
    "Nuclear_energy =  full_system_scf.energy_nuc()\n",
    "\n",
    "H_fermionic = vqe_in_dft.Get_fermionic_H(one_body_terms, \n",
    "                                     two_body_terms, \n",
    "                                     Nuclear_energy,\n",
    "                                     core_constant=0, \n",
    "                                     physists_notation=phys_notation,\n",
    "                                        jupyter_notebook=True)"
   ]
  },
  {
   "cell_type": "code",
   "execution_count": null,
   "metadata": {},
   "outputs": [],
   "source": [
    "len(list(H_fermionic))"
   ]
  },
  {
   "cell_type": "code",
   "execution_count": null,
   "metadata": {},
   "outputs": [],
   "source": [
    "from openfermion.linalg import get_sparse_operator\n",
    "H_sparse = get_sparse_operator(H_fermionic)"
   ]
  },
  {
   "cell_type": "code",
   "execution_count": null,
   "metadata": {},
   "outputs": [],
   "source": [
    "eigvals_EMBED, eigvecs_EMBED = sp.sparse.linalg.eigsh(H_sparse, which='SA', k=1)\n",
    "eigvals_EMBED"
   ]
  },
  {
   "cell_type": "code",
   "execution_count": null,
   "metadata": {},
   "outputs": [],
   "source": [
    "WF_correction  = np.einsum('ij, ij', V_embed, dm_active) # note different definition\n",
    "\n",
    "E_VQE = eigvals_EMBED[0]  + E_env + two_e_cross - WF_correction\n",
    "E_VQE "
   ]
  },
  {
   "cell_type": "code",
   "execution_count": null,
   "metadata": {},
   "outputs": [],
   "source": [
    "N_electrons_expected = 2*len(active_MO_inds)\n",
    "N_electrons_Q_state = np.binary_repr(np.where(np.abs(eigvecs_EMBED)>1e-2)[0][0]).count('1') \n",
    "\n",
    "print(f'expect {N_electrons_expected} electrons')\n",
    "print(f'quantum state has {N_electrons_Q_state} electrons \\n')\n",
    "\n",
    "print(f'number of electrons correct: {N_electrons_expected == N_electrons_Q_state}')"
   ]
  },
  {
   "cell_type": "code",
   "execution_count": null,
   "metadata": {},
   "outputs": [],
   "source": []
  },
  {
   "cell_type": "code",
   "execution_count": null,
   "metadata": {},
   "outputs": [],
   "source": [
    "print('High level DFT in DFT error:', np.abs(E_high_lvl_DFT-my_fci.e_tot))\n",
    "print('LOW level DFT in DFT error:', np.abs(e_mf_emb-my_fci.e_tot))\n",
    "\n",
    "\n",
    "print('WF in DFT error:', np.abs(E_WF-my_fci.e_tot))\n",
    "print('VQE error:', np.abs(E_VQE-my_fci.e_tot))"
   ]
  },
  {
   "cell_type": "code",
   "execution_count": null,
   "metadata": {},
   "outputs": [],
   "source": []
  },
  {
   "cell_type": "code",
   "execution_count": null,
   "metadata": {},
   "outputs": [],
   "source": [
    "where=np.where(np.around(eigvecs_EMBED, 4)>0)[0]\n",
    "print(where)\n",
    "\n",
    "np.binary_repr(where[0]).count('1') "
   ]
  },
  {
   "cell_type": "code",
   "execution_count": null,
   "metadata": {},
   "outputs": [],
   "source": []
  }
 ],
 "metadata": {
  "kernelspec": {
   "display_name": "Python 3",
   "language": "python",
   "name": "python3"
  },
  "language_info": {
   "codemirror_mode": {
    "name": "ipython",
    "version": 3
   },
   "file_extension": ".py",
   "mimetype": "text/x-python",
   "name": "python",
   "nbconvert_exporter": "python",
   "pygments_lexer": "ipython3",
   "version": "3.7.6"
  }
 },
 "nbformat": 4,
 "nbformat_minor": 4
}
