{
 "cells": [
  {
   "cell_type": "code",
   "execution_count": 1,
   "id": "8ae5bba2",
   "metadata": {},
   "outputs": [
    {
     "name": "stderr",
     "output_type": "stream",
     "text": [
      "/home/lex/anaconda3/envs/embed/lib/python3.9/site-packages/pyscf/lib/misc.py:46: H5pyDeprecationWarning: Using default_file_mode other than 'r' is deprecated. Pass the mode to h5py.File() instead.\n",
      "  h5py.get_config().default_file_mode = 'a'\n"
     ]
    }
   ],
   "source": [
    "import os\n",
    "from nbed.driver import NbedDriver\n",
    "import numpy as np\n",
    "\n",
    "from nbed.ham_builder import HamiltonianBuilder\n",
    "from openfermion import get_sparse_operator\n",
    "import scipy as sp\n",
    "    \n",
    "from pyscf import gto, scf, fci, cc"
   ]
  },
  {
   "cell_type": "code",
   "execution_count": null,
   "id": "cac37f5e",
   "metadata": {},
   "outputs": [],
   "source": []
  },
  {
   "cell_type": "code",
   "execution_count": 2,
   "id": "b3bec003",
   "metadata": {},
   "outputs": [],
   "source": [
    "# get xyz file for water\n",
    "notebook_dir = os.getcwd()\n",
    "NBed_dir = os.path.dirname(notebook_dir)\n",
    "Test_dir = os.path.join(NBed_dir, 'tests')\n",
    "mol_dir = os.path.join(Test_dir, 'molecules')\n",
    "\n",
    "water_xyz_path = os.path.join(mol_dir, 'water.xyz')"
   ]
  },
  {
   "cell_type": "code",
   "execution_count": 3,
   "id": "60aac427",
   "metadata": {},
   "outputs": [],
   "source": [
    "geometry_path = os.path.join(mol_dir, 'water.xyz')\n",
    "# geometry_path = os.path.join(mol_dir, 'H4.xyz')"
   ]
  },
  {
   "cell_type": "code",
   "execution_count": null,
   "id": "db309e85",
   "metadata": {},
   "outputs": [],
   "source": []
  },
  {
   "cell_type": "code",
   "execution_count": 4,
   "id": "30467edc",
   "metadata": {},
   "outputs": [
    {
     "name": "stdout",
     "output_type": "stream",
     "text": [
      "3\n",
      "\n",
      "O   0.00000  0.0000000  0.1653507\n",
      "H   0.00000  0.7493682 -0.4424329\n",
      "H   0.00000 -0.7493682 -0.4424329 \n"
     ]
    }
   ],
   "source": [
    "with open(geometry_path, 'r') as infile:\n",
    "    xyz_string = infile.read()\n",
    "    \n",
    "print(xyz_string)"
   ]
  },
  {
   "cell_type": "code",
   "execution_count": null,
   "id": "22fa6479",
   "metadata": {},
   "outputs": [],
   "source": []
  },
  {
   "cell_type": "code",
   "execution_count": 5,
   "id": "79d24427",
   "metadata": {},
   "outputs": [],
   "source": [
    "# options\n",
    "geometry = xyz_string\n",
    "n_active_atoms=1\n",
    "basis = 'STO-3G'\n",
    "xc_functional = 'B3LYP'# 'lda, vwn' #'B3LYP'\n",
    "run_virtual_localization = False\n",
    "\n",
    "run_fci_emb = False\n",
    "run_ccsd_emb = False\n",
    "max_ram_memory = 8_000\n",
    "_init_huzinaga_rhf_with_mu = False\n",
    "\n",
    "max_hf_cycles=5000\n",
    "\n",
    "\n",
    "projector = 'both'\n",
    "localization = 'spade' # spade, ibo\n",
    "occupied_threshold = 0.99\n",
    "virtual_threshold = 0.95"
   ]
  },
  {
   "cell_type": "code",
   "execution_count": 6,
   "id": "1a52d1d5",
   "metadata": {},
   "outputs": [],
   "source": [
    "driver = NbedDriver(geometry = geometry,\n",
    "                    n_active_atoms=n_active_atoms,\n",
    "                    basis = basis,\n",
    "                    xc_functional = xc_functional,\n",
    "                    run_virtual_localization = run_virtual_localization,\n",
    "                    run_fci_emb = run_fci_emb,\n",
    "                    run_ccsd_emb = run_ccsd_emb,\n",
    "                    max_ram_memory = max_ram_memory,\n",
    "                    _init_huzinaga_rhf_with_mu = _init_huzinaga_rhf_with_mu,\n",
    "                    max_hf_cycles=max_hf_cycles,\n",
    "                    occupied_threshold=occupied_threshold,\n",
    "                    projector = projector,\n",
    "                    localization = localization)"
   ]
  },
  {
   "cell_type": "code",
   "execution_count": null,
   "id": "97eebb94",
   "metadata": {},
   "outputs": [],
   "source": []
  },
  {
   "cell_type": "code",
   "execution_count": null,
   "id": "f88f1efd",
   "metadata": {},
   "outputs": [],
   "source": []
  },
  {
   "cell_type": "markdown",
   "id": "c056e284",
   "metadata": {},
   "source": [
    "# FCI calc"
   ]
  },
  {
   "cell_type": "code",
   "execution_count": 8,
   "id": "2af0756b",
   "metadata": {},
   "outputs": [
    {
     "name": "stdout",
     "output_type": "stream",
     "text": [
      "full FCI energy: -75.01535247852487\n"
     ]
    }
   ],
   "source": [
    "charge=0\n",
    "spin=0\n",
    "\n",
    "full_system_mol = gto.Mole(atom= geometry[2:],\n",
    "                      basis=basis,\n",
    "                       charge=charge,\n",
    "                       spin=spin,\n",
    "                      )\n",
    "full_system_mol.build()\n",
    "\n",
    "global_rhf = scf.RHF(full_system_mol)\n",
    "global_rhf.verbose=1\n",
    "global_rhf.conv_tol = 1e-6\n",
    "global_rhf.kernel()\n",
    "\n",
    "\n",
    "## run FCI embedded\n",
    "glob_FCI = fci.FCI(global_rhf)\n",
    "glob_FCI.run()\n",
    "\n",
    "print(f'full FCI energy: {glob_FCI.e_tot}')"
   ]
  },
  {
   "cell_type": "code",
   "execution_count": null,
   "id": "5f52dd1d",
   "metadata": {},
   "outputs": [],
   "source": []
  },
  {
   "cell_type": "markdown",
   "id": "1897dd64",
   "metadata": {},
   "source": [
    "# 1. Low-level whole system calculation\n",
    "\n",
    "The first step is to run a DFT caluclation of the whole system."
   ]
  },
  {
   "cell_type": "code",
   "execution_count": 9,
   "id": "f9d77971",
   "metadata": {},
   "outputs": [
    {
     "data": {
      "text/plain": [
       "array([-18.83525318,  -0.93132671,  -0.43263415,  -0.23435814,\n",
       "        -0.14179089,   0.35582625,   0.46190031])"
      ]
     },
     "execution_count": 9,
     "metadata": {},
     "output_type": "execute_result"
    }
   ],
   "source": [
    "### inputs\n",
    "\n",
    "charge=0\n",
    "spin=0\n",
    "\n",
    "full_system_mol = gto.Mole(atom= geometry[2:],\n",
    "                      basis=basis,\n",
    "                       charge=charge,\n",
    "                       spin=spin,\n",
    "                      )\n",
    "full_system_mol.build()\n",
    "\n",
    "global_rks = scf.RKS(full_system_mol)\n",
    "global_rks.verbose=1\n",
    "global_rks.xc = xc_functional\n",
    "global_rks.conv_tol = 1e-6\n",
    "global_rks.kernel()\n",
    "\n",
    "global_rks_Fock = global_rks.get_fock()\n",
    "c_global_rks_full = global_rks.mo_coeff\n",
    "global_rks_etot = global_rks.energy_tot()\n",
    "global_rks.mo_energy = np.diag(c_global_rks_full.conj().T @ global_rks_Fock@ c_global_rks_full)\n",
    "global_rks_mo_energies = global_rks.mo_energy \n",
    "global_rks_mo_energies"
   ]
  },
  {
   "cell_type": "code",
   "execution_count": 9,
   "id": "34fd9937",
   "metadata": {},
   "outputs": [],
   "source": [
    "# np.around(c_global_rks_full.conj().T @ global_rks_Fock@ c_global_rks_full, 5)"
   ]
  },
  {
   "cell_type": "code",
   "execution_count": null,
   "id": "f2de87b8",
   "metadata": {},
   "outputs": [],
   "source": []
  },
  {
   "cell_type": "code",
   "execution_count": 10,
   "id": "7bfd083e",
   "metadata": {},
   "outputs": [
    {
     "data": {
      "text/plain": [
       "True"
      ]
     },
     "execution_count": 10,
     "metadata": {},
     "output_type": "execute_result"
    }
   ],
   "source": [
    "# checking global DFT calc\n",
    "c_occ = global_rks.mo_coeff[:, global_rks.mo_occ>0]\n",
    "dmat = 2* c_occ @ c_occ.T\n",
    "e_tot = global_rks.energy_nuc() + global_rks.energy_elec(dm =dmat)[0]\n",
    "\n",
    "np.isclose(global_rks.e_tot, e_tot)"
   ]
  },
  {
   "cell_type": "code",
   "execution_count": null,
   "id": "7a578d2c",
   "metadata": {},
   "outputs": [],
   "source": []
  },
  {
   "cell_type": "code",
   "execution_count": 11,
   "id": "f2f0a66e",
   "metadata": {},
   "outputs": [],
   "source": [
    "# getting matrices manual\n",
    "two_veff = global_rks.get_veff(dm=dmat)\n",
    "vj = two_veff.vj\n",
    "vk = two_veff.vk "
   ]
  },
  {
   "cell_type": "code",
   "execution_count": 12,
   "id": "886e1817",
   "metadata": {},
   "outputs": [
    {
     "data": {
      "text/plain": [
       "-9.408825304427088"
      ]
     },
     "execution_count": 12,
     "metadata": {},
     "output_type": "execute_result"
    }
   ],
   "source": [
    "# calc xc contribution (DFT) via manual integral\n",
    "ni = global_rks._numint\n",
    "nelec, exc, vxc = ni.nr_rks(global_rks.mol, global_rks.grids, global_rks.xc, global_rks.make_rdm1())\n",
    "exc - 0.25 * np.einsum('ij, ji ->', vk, dmat) "
   ]
  },
  {
   "cell_type": "code",
   "execution_count": 18,
   "id": "3ecf7fbd",
   "metadata": {},
   "outputs": [
    {
     "data": {
      "text/plain": [
       "-9.408825304427088"
      ]
     },
     "execution_count": 18,
     "metadata": {},
     "output_type": "execute_result"
    }
   ],
   "source": [
    "# check if this gives the same results\n",
    "np.einsum('ij, ji ->',-0.25*vk, dmat) + exc"
   ]
  },
  {
   "cell_type": "code",
   "execution_count": 19,
   "id": "9bfde708",
   "metadata": {},
   "outputs": [
    {
     "data": {
      "text/plain": [
       "-9.408825304427088"
      ]
     },
     "execution_count": 19,
     "metadata": {},
     "output_type": "execute_result"
    }
   ],
   "source": [
    "two_veff.exc"
   ]
  },
  {
   "cell_type": "code",
   "execution_count": 20,
   "id": "8c64756c",
   "metadata": {},
   "outputs": [
    {
     "data": {
      "text/plain": [
       "True"
      ]
     },
     "execution_count": 20,
     "metadata": {},
     "output_type": "execute_result"
    }
   ],
   "source": [
    "# two_veff construction\n",
    "np.allclose(two_veff, vj - 0.5*vk + vxc)"
   ]
  },
  {
   "cell_type": "code",
   "execution_count": 17,
   "id": "9b28433e",
   "metadata": {},
   "outputs": [
    {
     "name": "stdout",
     "output_type": "stream",
     "text": [
      "47.23189642113186\n",
      "47.23189642113186\n"
     ]
    }
   ],
   "source": [
    "print(two_veff.ecoul)\n",
    "print(0.5 * np.einsum('ij, ji ->', vj, dmat) )"
   ]
  },
  {
   "cell_type": "code",
   "execution_count": 22,
   "id": "a78b8e08",
   "metadata": {},
   "outputs": [
    {
     "name": "stdout",
     "output_type": "stream",
     "text": [
      "37.82307111670474\n",
      "37.823071116704746\n"
     ]
    }
   ],
   "source": [
    "print(two_veff.exc + two_veff.ecoul)\n",
    "print(0.5 * np.einsum('ij, ji ->', vj - 0.5*vk, dmat)+ exc)"
   ]
  },
  {
   "cell_type": "code",
   "execution_count": 20,
   "id": "706d1d18",
   "metadata": {},
   "outputs": [
    {
     "data": {
      "text/plain": [
       "True"
      ]
     },
     "execution_count": 20,
     "metadata": {},
     "output_type": "execute_result"
    }
   ],
   "source": [
    "## DFT fock matrix\n",
    "F_obj = global_rks.get_fock()\n",
    "F_manual = two_veff + global_rks.get_hcore()\n",
    "\n",
    "np.allclose(F_obj, F_manual)"
   ]
  },
  {
   "cell_type": "code",
   "execution_count": 21,
   "id": "b8fd2e85",
   "metadata": {},
   "outputs": [
    {
     "data": {
      "text/plain": [
       "-84.4061685623297"
      ]
     },
     "execution_count": 21,
     "metadata": {},
     "output_type": "execute_result"
    }
   ],
   "source": [
    "FF =  0.5*(vj - 0.5*vk) + global_rks.get_hcore()\n",
    "np.einsum('ij, ji ->',FF, dmat) + exc"
   ]
  },
  {
   "cell_type": "code",
   "execution_count": 22,
   "id": "843c6f2d",
   "metadata": {},
   "outputs": [
    {
     "data": {
      "text/plain": [
       "True"
      ]
     },
     "execution_count": 22,
     "metadata": {},
     "output_type": "execute_result"
    }
   ],
   "source": [
    "np.allclose(two_veff, vj - 0.5*vk + vxc)"
   ]
  },
  {
   "cell_type": "code",
   "execution_count": 23,
   "id": "e6935dc9",
   "metadata": {},
   "outputs": [
    {
     "data": {
      "text/plain": [
       "-84.4061685623297"
      ]
     },
     "execution_count": 23,
     "metadata": {},
     "output_type": "execute_result"
    }
   ],
   "source": [
    "# subtract out the vxc part!!! (aka only leaving: 0.5*(vj - 0.5*vk) part!)\n",
    "\n",
    "FF2 =  0.5*(two_veff - vxc)  + global_rks.get_hcore()\n",
    "np.einsum('ij, ji ->',FF2, dmat) + exc"
   ]
  },
  {
   "cell_type": "code",
   "execution_count": 24,
   "id": "830c4294",
   "metadata": {},
   "outputs": [
    {
     "data": {
      "text/plain": [
       "-84.40616856232967"
      ]
     },
     "execution_count": 24,
     "metadata": {},
     "output_type": "execute_result"
    }
   ],
   "source": [
    "global_rks.energy_elec()[0]"
   ]
  },
  {
   "cell_type": "markdown",
   "id": "1d1592af",
   "metadata": {},
   "source": [
    "# 2. Localize\n",
    "\n",
    "We then use this object to find LOCALIZED systems (active and enviroment)\n",
    "\n",
    "(more details given in notebook 2)"
   ]
  },
  {
   "cell_type": "code",
   "execution_count": 25,
   "id": "149f841c",
   "metadata": {},
   "outputs": [],
   "source": [
    "from nbed.localizers import (\n",
    "    BOYSLocalizer,\n",
    "    IBOLocalizer,\n",
    "    Localizer,\n",
    "    PMLocalizer,\n",
    "    SPADELocalizer,\n",
    ")\n",
    "\n",
    "run_virtual_localization = False\n",
    "\n",
    "\n",
    "localizers = {\n",
    "    'boys':BOYSLocalizer,\n",
    "    'ibo':IBOLocalizer,\n",
    "    'pipek-mezey': PMLocalizer,\n",
    "    'spade': SPADELocalizer\n",
    "}"
   ]
  },
  {
   "cell_type": "code",
   "execution_count": 26,
   "id": "9b843f89",
   "metadata": {},
   "outputs": [],
   "source": [
    "### inputs\n",
    "\n",
    "charge=0\n",
    "spin=0\n",
    "\n",
    "full_system_mol2 = gto.Mole(atom= geometry[2:],\n",
    "                      basis=basis,\n",
    "                       charge=charge,\n",
    "                       spin=spin,\n",
    "                      )\n",
    "full_system_mol2.build()\n",
    "\n",
    "global_rks2 = scf.RKS(full_system_mol2)\n",
    "global_rks2.verbose=1\n",
    "global_rks2.xc = xc_functional\n",
    "global_rks2.conv_tol = 1e-6\n",
    "global_rks2.kernel()\n",
    "\n",
    "global_rks_Fock = global_rks2.get_fock()\n",
    "c_global_rks_full = global_rks2.mo_coeff\n",
    "global_rks_etot = global_rks2.energy_tot()\n",
    "global_rks2.mo_energy = np.diag(c_global_rks_full.conj().T @ global_rks_Fock@ c_global_rks_full)"
   ]
  },
  {
   "cell_type": "code",
   "execution_count": 27,
   "id": "4cd46580",
   "metadata": {},
   "outputs": [],
   "source": [
    "localized_system = localizers[localization](global_rks2,\n",
    "                                        n_active_atoms,\n",
    "                                        occ_cutoff=occupied_threshold,\n",
    "                                        virt_cutoff=virtual_threshold,\n",
    "                                        run_virtual_localization=run_virtual_localization,\n",
    ")"
   ]
  },
  {
   "cell_type": "code",
   "execution_count": 29,
   "id": "35a68b78",
   "metadata": {},
   "outputs": [
    {
     "name": "stdout",
     "output_type": "stream",
     "text": [
      "active inds: [0 1 2]\n",
      "enviro inds: [3 4]\n"
     ]
    }
   ],
   "source": [
    "print(f'active inds: {localized_system.active_MO_inds}')\n",
    "print(f'enviro inds: {localized_system.enviro_MO_inds}')"
   ]
  },
  {
   "cell_type": "markdown",
   "id": "e58d3aa7",
   "metadata": {},
   "source": [
    "# 3. Run subsystem DFT (uses localized rks)"
   ]
  },
  {
   "cell_type": "code",
   "execution_count": 30,
   "id": "12fca20b",
   "metadata": {},
   "outputs": [],
   "source": [
    "def rks_components(\n",
    "    RKS_obj, subsystem_dm: np.ndarray):\n",
    "    \"\"\"Calculate the components of subsystem energy from a RKS DFT calculation.\n",
    "\n",
    "    For a given density matrix this function returns the electronic energy, exchange correlation energy and\n",
    "    J,K, V_xc matrices.\n",
    "\n",
    "    Args:\n",
    "        dm_matrix (np.ndarray): density matrix (to calculate all matrices from)\n",
    "\n",
    "    Returns:\n",
    "        Energy_elec (float): DFT energy defubed by input density matrix\n",
    "        e_xc (float): exchange correlation energy defined by input density matrix\n",
    "        J_mat (np.ndarray): J_matrix defined by input density matrix\n",
    "    \"\"\"\n",
    "    dm_matrix = subsystem_dm\n",
    "    # It seems that PySCF lumps J and K in the J array\n",
    "    two_e_term = RKS_obj.get_veff(dm=dm_matrix)\n",
    "    j_mat = two_e_term.vj\n",
    "    # k_mat = np.zeros_like(j_mat)\n",
    "\n",
    "    e_xc = two_e_term.exc\n",
    "    # v_xc = two_e_term - j_mat\n",
    "\n",
    "    energy_elec = (\n",
    "        np.einsum(\"ij,ji->\", RKS_obj.get_hcore(), dm_matrix)\n",
    "        + two_e_term.ecoul\n",
    "        + two_e_term.exc\n",
    "    )\n",
    "\n",
    "    return energy_elec, e_xc, j_mat"
   ]
  },
  {
   "cell_type": "code",
   "execution_count": 31,
   "id": "3be96663",
   "metadata": {},
   "outputs": [],
   "source": [
    "(e_act, e_xc_act, j_act) = rks_components(global_rks, localized_system.dm_active)\n",
    "\n",
    "(e_env, e_xc_env, j_env) = rks_components(global_rks, localized_system.dm_enviro)\n",
    "\n",
    "# Computing cross subsystem terms\n",
    "two_e_term_total = global_rks.get_veff(\n",
    "    dm=localized_system.dm_active + localized_system.dm_enviro\n",
    ")\n",
    "e_xc_total = two_e_term_total.exc\n",
    "\n",
    "j_cross = 0.5 * (\n",
    "    np.einsum(\"ij,ij\", localized_system.dm_active, j_env)\n",
    "    + np.einsum(\"ij,ij\", localized_system.dm_enviro, j_act)\n",
    ")\n",
    "# Because of projection\n",
    "k_cross = 0.0\n",
    "\n",
    "xc_cross = e_xc_total - e_xc_act - e_xc_env\n",
    "\n",
    "# overall two_electron cross energy\n",
    "two_e_cross = j_cross + k_cross + xc_cross\n",
    "\n",
    "energy_DFT_components = (e_act + e_env + two_e_cross + global_rks.energy_nuc())\n",
    "\n",
    "if not np.isclose(energy_DFT_components, global_rks.e_tot):\n",
    "    raise ValueError(\n",
    "        \"DFT energy of localized components not matching supersystem DFT\")\n"
   ]
  },
  {
   "cell_type": "code",
   "execution_count": 34,
   "id": "2d559517",
   "metadata": {},
   "outputs": [
    {
     "data": {
      "text/plain": [
       "True"
      ]
     },
     "execution_count": 34,
     "metadata": {},
     "output_type": "execute_result"
    }
   ],
   "source": [
    "# e_act, e_env, two_e_cross, localized_system, j_env = subsystem_dft(localized_system, localized_system.rks)\n",
    "\n",
    "# DFT energy made from component parts\n",
    "E_dft_from_components = e_act + e_env + two_e_cross + global_rks.energy_nuc()\n",
    "np.isclose(global_rks.e_tot, E_dft_from_components)"
   ]
  },
  {
   "cell_type": "code",
   "execution_count": 35,
   "id": "d6480071",
   "metadata": {},
   "outputs": [
    {
     "data": {
      "text/plain": [
       "True"
      ]
     },
     "execution_count": 35,
     "metadata": {},
     "output_type": "execute_result"
    }
   ],
   "source": [
    "dm_full = global_rks.make_rdm1()\n",
    "\n",
    "full = global_rks.get_veff(dm=dm_full)\n",
    "# print(full.exc + full.ecoul)\n",
    "A= global_rks.get_veff(dm=localized_system.dm_active)\n",
    "B= global_rks.get_veff(dm=localized_system.dm_enviro)\n",
    "non_add = (full.exc + full.ecoul) - (A.exc + A.ecoul + B.exc + B.ecoul)\n",
    "\n",
    "np.isclose(two_e_cross, non_add)"
   ]
  },
  {
   "cell_type": "code",
   "execution_count": 38,
   "id": "64cd8c9e",
   "metadata": {},
   "outputs": [
    {
     "data": {
      "text/plain": [
       "True"
      ]
     },
     "execution_count": 38,
     "metadata": {},
     "output_type": "execute_result"
    }
   ],
   "source": [
    "A_energy = np.einsum(\"ij,ji->\", global_rks.get_hcore(), localized_system.dm_active) + (A.exc + A.ecoul)\n",
    "B_energy = np.einsum(\"ij,ji->\", global_rks.get_hcore(), localized_system.dm_enviro) + (B.exc + B.ecoul)\n",
    "components = A_energy + B_energy + non_add + global_rks.energy_nuc()\n",
    "np.isclose(global_rks.e_tot, components)"
   ]
  },
  {
   "cell_type": "code",
   "execution_count": 40,
   "id": "7406dd34",
   "metadata": {},
   "outputs": [
    {
     "data": {
      "text/plain": [
       "True"
      ]
     },
     "execution_count": 40,
     "metadata": {},
     "output_type": "execute_result"
    }
   ],
   "source": [
    "j_active = A.vj\n",
    "E_manual = np.einsum(\"ij,ji->\", global_rks.get_hcore() + j_active/2, localized_system.dm_active) + A.exc\n",
    "np.isclose(A_energy, E_manual)"
   ]
  },
  {
   "cell_type": "code",
   "execution_count": 43,
   "id": "31aef2d0",
   "metadata": {},
   "outputs": [
    {
     "data": {
      "text/plain": [
       "True"
      ]
     },
     "execution_count": 43,
     "metadata": {},
     "output_type": "execute_result"
    }
   ],
   "source": [
    "EE = (np.einsum(\"ij,ji->\", global_rks.get_hcore(), localized_system.dm_active) +\n",
    "      np.einsum(\"ij,ji->\", global_rks.get_hcore(), localized_system.dm_enviro) +\n",
    "      full.exc + full.ecoul\n",
    "      + global_rks.energy_nuc()\n",
    "    )\n",
    "np.isclose(global_rks.e_tot, EE)"
   ]
  },
  {
   "cell_type": "markdown",
   "id": "6d435932",
   "metadata": {},
   "source": [
    "# 4. Get DFT potential"
   ]
  },
  {
   "cell_type": "code",
   "execution_count": 46,
   "id": "06e3368b",
   "metadata": {},
   "outputs": [],
   "source": [
    "g_act_and_env = global_rks.get_veff(\n",
    "    dm=(localized_system.dm_active + localized_system.dm_enviro)\n",
    ")\n",
    "g_act = global_rks.get_veff(dm=localized_system.dm_active)\n",
    "dft_potential = g_act_and_env - g_act # + j_env"
   ]
  },
  {
   "cell_type": "code",
   "execution_count": 47,
   "id": "afae0c14",
   "metadata": {},
   "outputs": [
    {
     "name": "stdout",
     "output_type": "stream",
     "text": [
      "True\n",
      "True\n"
     ]
    }
   ],
   "source": [
    "# localized_system.rks\n",
    "dmat = 2* c_occ @ c_occ.T\n",
    "print(np.allclose(dmat, localized_system.dm_active + localized_system.dm_enviro))\n",
    "\n",
    "print(np.allclose(g_act_and_env, two_veff))"
   ]
  },
  {
   "cell_type": "code",
   "execution_count": 50,
   "id": "912a1845",
   "metadata": {},
   "outputs": [],
   "source": [
    "# vj_act = g_act.vj\n",
    "# vk_act= g_act.vk\n",
    "\n",
    "# ni = global_rks._numint\n",
    "# nelec_act, exc_act, vxc_act = ni.nr_rks(global_rks.mol,\n",
    "#                                         global_rks.grids, \n",
    "#                                         global_rks.xc,\n",
    "#                                         localized_system.dm_active)\n",
    "\n",
    "\n",
    "# np.allclose(g_act, (vj_act - 0.5*vk_act) + vxc_act)"
   ]
  },
  {
   "cell_type": "markdown",
   "id": "27d12936",
   "metadata": {},
   "source": [
    "dft_potential is\n",
    "\n",
    "$$DFT\\: potential = g[\\gamma_{act} + \\gamma_{env}] - g[\\gamma_{act}]$$"
   ]
  },
  {
   "cell_type": "code",
   "execution_count": 52,
   "id": "8a24e29f",
   "metadata": {},
   "outputs": [
    {
     "data": {
      "text/plain": [
       "-51.990665456924546"
      ]
     },
     "execution_count": 52,
     "metadata": {},
     "output_type": "execute_result"
    }
   ],
   "source": [
    "rks_emb_mol = gto.Mole(atom= geometry[2:],\n",
    "                      basis=basis,\n",
    "                       charge=charge,\n",
    "                       spin=spin,\n",
    "                      )\n",
    "rks_emb_mol.nelectron = 2 * len(localized_system.active_MO_inds) # <--change no e-\n",
    "rks_emb_mol.build()\n",
    "\n",
    "rks_emb = scf.RKS(rks_emb_mol)\n",
    "rks_emb.verbose=1\n",
    "rks_emb.xc = xc_functional\n",
    "rks_emb.conv_tol = 1e-6\n",
    "\n",
    "s_mat = global_rks.get_ovlp()\n",
    "enviro_projector = s_mat@ localized_system.dm_enviro @ s_mat\n",
    "\n",
    "h_core_Std = rks_emb.get_hcore()\n",
    "rks_emb.get_hcore = lambda *args: h_core_Std + 1e6*enviro_projector + dft_potential\n",
    "\n",
    "rks_emb.kernel()"
   ]
  },
  {
   "cell_type": "code",
   "execution_count": 53,
   "id": "09b2d14f",
   "metadata": {},
   "outputs": [],
   "source": [
    "y_emb =  rks_emb.make_rdm1()\n",
    "diff_gamma = y_emb - localized_system.dm_active"
   ]
  },
  {
   "cell_type": "code",
   "execution_count": 55,
   "id": "f1f1bb8c",
   "metadata": {},
   "outputs": [
    {
     "data": {
      "text/plain": [
       "-77.37494139936761"
      ]
     },
     "execution_count": 55,
     "metadata": {},
     "output_type": "execute_result"
    }
   ],
   "source": [
    "e_act"
   ]
  },
  {
   "cell_type": "code",
   "execution_count": 56,
   "id": "2ff44cc5",
   "metadata": {},
   "outputs": [
    {
     "data": {
      "text/plain": [
       "-77.37494171972645"
      ]
     },
     "execution_count": 56,
     "metadata": {},
     "output_type": "execute_result"
    }
   ],
   "source": [
    "(global_rks.energy_elec(dm=y_emb)[0]  \n",
    " + np.einsum(\"ij,ij->\",  dft_potential+1e6*enviro_projector, diff_gamma) \n",
    " )"
   ]
  },
  {
   "cell_type": "code",
   "execution_count": null,
   "id": "16429f70",
   "metadata": {},
   "outputs": [],
   "source": []
  },
  {
   "cell_type": "code",
   "execution_count": null,
   "id": "d87346cc",
   "metadata": {},
   "outputs": [],
   "source": []
  },
  {
   "cell_type": "markdown",
   "id": "93ff67d6",
   "metadata": {},
   "source": [
    "# WF approach"
   ]
  },
  {
   "cell_type": "code",
   "execution_count": 57,
   "id": "4ba06db4",
   "metadata": {},
   "outputs": [],
   "source": [
    "charge=0\n",
    "spin=0\n",
    "\n",
    "full_system_mol = gto.Mole(atom= geometry[2:],\n",
    "                      basis=basis,\n",
    "                       charge=charge,\n",
    "                       spin=spin,\n",
    "                      )\n",
    "full_system_mol.nelectron = 2 * len(localized_system.active_MO_inds) # <- change number of e-\n",
    "full_system_mol.build()\n",
    "\n",
    "# HARTREE FOCK!\n",
    "scf_method = scf.RHF(full_system_mol)\n",
    "scf_method.verbose=1\n",
    "scf_method.conv_tol = 1e-6"
   ]
  },
  {
   "cell_type": "code",
   "execution_count": 58,
   "id": "a63a17a2",
   "metadata": {},
   "outputs": [
    {
     "data": {
      "text/plain": [
       "-51.83101956837176"
      ]
     },
     "execution_count": 58,
     "metadata": {},
     "output_type": "execute_result"
    }
   ],
   "source": [
    "# scf_method = init_localised_RHF_obj(geometry, basis, charge, localized_system)\n",
    "mu_level_shift = 1e6\n",
    "\n",
    "# redefine core H\n",
    "std_hcore = scf_method.get_hcore()\n",
    "enviro_projector = s_mat@ localized_system.dm_enviro @ s_mat\n",
    "scf_method.get_hcore = lambda *args: std_hcore + mu_level_shift*enviro_projector + dft_potential\n",
    "\n",
    "scf_method.kernel()"
   ]
  },
  {
   "cell_type": "code",
   "execution_count": 59,
   "id": "c19b79de",
   "metadata": {},
   "outputs": [
    {
     "data": {
      "text/plain": [
       "16.255992534507456"
      ]
     },
     "execution_count": 59,
     "metadata": {},
     "output_type": "execute_result"
    }
   ],
   "source": [
    "correction = np.einsum(\"ij,ji\", mu_level_shift*enviro_projector + dft_potential,\n",
    "                       localized_system.dm_active) # <--- different \n",
    "correction"
   ]
  },
  {
   "cell_type": "code",
   "execution_count": 60,
   "id": "fd103e2e",
   "metadata": {},
   "outputs": [
    {
     "data": {
      "text/plain": [
       "-77.21529583116215"
      ]
     },
     "execution_count": 60,
     "metadata": {},
     "output_type": "execute_result"
    }
   ],
   "source": [
    "scf_method.energy_elec()[0] - correction"
   ]
  },
  {
   "cell_type": "code",
   "execution_count": 61,
   "id": "dbacda08",
   "metadata": {},
   "outputs": [
    {
     "data": {
      "text/plain": [
       "-77.37494139936761"
      ]
     },
     "execution_count": 61,
     "metadata": {},
     "output_type": "execute_result"
    }
   ],
   "source": [
    "e_act"
   ]
  },
  {
   "cell_type": "code",
   "execution_count": null,
   "id": "86e997af",
   "metadata": {},
   "outputs": [],
   "source": []
  },
  {
   "cell_type": "code",
   "execution_count": 62,
   "id": "471241bb",
   "metadata": {},
   "outputs": [
    {
     "data": {
      "text/plain": [
       "-51.83589627746254"
      ]
     },
     "execution_count": 62,
     "metadata": {},
     "output_type": "execute_result"
    }
   ],
   "source": [
    "## run FCI embedded\n",
    "fci_scf_MU_embedded = fci.FCI(scf_method)\n",
    "\n",
    "fci_scf_MU_embedded.run()\n",
    "\n",
    "fci_scf_MU_embedded.e_tot"
   ]
  },
  {
   "cell_type": "code",
   "execution_count": 63,
   "id": "5d934c5c",
   "metadata": {},
   "outputs": [
    {
     "data": {
      "text/plain": [
       "-0.004876709090780196"
      ]
     },
     "execution_count": 63,
     "metadata": {},
     "output_type": "execute_result"
    }
   ],
   "source": [
    "e_corr = fci_scf_MU_embedded.e_tot - scf_method.e_tot\n",
    "e_corr"
   ]
  },
  {
   "cell_type": "code",
   "execution_count": null,
   "id": "a00f2729",
   "metadata": {},
   "outputs": [],
   "source": []
  },
  {
   "cell_type": "code",
   "execution_count": 64,
   "id": "28cdd145",
   "metadata": {},
   "outputs": [
    {
     "data": {
      "text/plain": [
       "-75.12311597493205"
      ]
     },
     "execution_count": 64,
     "metadata": {},
     "output_type": "execute_result"
    }
   ],
   "source": [
    "E_emb_act = scf_method.energy_elec()[0] - correction + e_corr \n",
    "E_emb_full = E_emb_act + e_env + two_e_cross + global_rks.energy_nuc()\n",
    "E_emb_full"
   ]
  },
  {
   "cell_type": "code",
   "execution_count": 65,
   "id": "7cdc68b8",
   "metadata": {},
   "outputs": [
    {
     "name": "stdout",
     "output_type": "stream",
     "text": [
      "global DFT energy: -75.27788483404674\n",
      "global FCI energy: -75.01535247852487\n",
      "\n",
      "emb error : 0.10776349640717342\n",
      "DFT error : 0.26253235552186993\n"
     ]
    }
   ],
   "source": [
    "print(f'global DFT energy: {global_rks.e_tot}')\n",
    "print(f'global FCI energy: {glob_FCI.e_tot}')\n",
    "print()\n",
    "\n",
    "print(f'emb error : {abs(E_emb_full - glob_FCI.e_tot)}')\n",
    "print(f'DFT error : {abs(global_rks.e_tot - glob_FCI.e_tot)}')"
   ]
  },
  {
   "cell_type": "code",
   "execution_count": null,
   "id": "692992c4",
   "metadata": {},
   "outputs": [],
   "source": []
  },
  {
   "cell_type": "code",
   "execution_count": null,
   "id": "6792cd39",
   "metadata": {},
   "outputs": [],
   "source": []
  },
  {
   "cell_type": "code",
   "execution_count": null,
   "id": "1f64958b",
   "metadata": {},
   "outputs": [],
   "source": []
  },
  {
   "cell_type": "code",
   "execution_count": null,
   "id": "d8dded0b",
   "metadata": {},
   "outputs": [],
   "source": []
  },
  {
   "cell_type": "code",
   "execution_count": null,
   "id": "4d6ccadd",
   "metadata": {},
   "outputs": [],
   "source": []
  },
  {
   "cell_type": "code",
   "execution_count": 66,
   "id": "3c84e08e",
   "metadata": {},
   "outputs": [],
   "source": [
    "from nbed.scf import huzinaga_RHF, huzinaga_RKS"
   ]
  },
  {
   "cell_type": "code",
   "execution_count": 68,
   "id": "ca35fb6a",
   "metadata": {},
   "outputs": [],
   "source": [
    "(c_active_embedded, \n",
    " mo_energy, \n",
    " dm_active_embedded,\n",
    " huzinaga_op_std,\n",
    " huz_rhf_conv_flag) =huzinaga_RHF(\n",
    "    scf_method_HUZ,\n",
    "    dft_potential,\n",
    "    localized_system.dm_enviro,\n",
    "    dm_conv_tol=1e-6,\n",
    "    dm_initial_guess=None,\n",
    "    use_DIIS= False,\n",
    ")\n",
    "\n",
    "hcore_std = scf_method_HUZ.get_hcore()\n",
    "v_emb = huzinaga_op_std + dft_potential\n",
    "scf_method_HUZ.get_hcore = lambda *args: hcore_std + v_emb\n",
    "scf_method_HUZ.mo_coeff = c_active_embedded\n",
    "scf_method_HUZ.mo_occ = scf_method_HUZ.get_occ(\n",
    "    mo_energy, c_active_embedded\n",
    ")\n",
    "scf_method_HUZ.mo_energy = mo_energy\n",
    "scf_method_HUZ.conv_check = huz_rhf_conv_flag\n",
    "\n",
    "scf_method_HUZ.e_tot = scf_method_HUZ.energy_tot(dm=dm_active_embedded)\n"
   ]
  },
  {
   "cell_type": "code",
   "execution_count": 69,
   "id": "34f80fc0",
   "metadata": {},
   "outputs": [
    {
     "data": {
      "text/plain": [
       "array([-20.22912626,  -0.71962271,  -0.36944532,   0.15734971,\n",
       "         0.4309262 ,   0.6325906 ,   0.72378528])"
      ]
     },
     "execution_count": 69,
     "metadata": {},
     "output_type": "execute_result"
    }
   ],
   "source": [
    "mo_energy"
   ]
  },
  {
   "cell_type": "code",
   "execution_count": null,
   "id": "2e21d0d4",
   "metadata": {},
   "outputs": [],
   "source": []
  },
  {
   "cell_type": "code",
   "execution_count": 71,
   "id": "79b659bf",
   "metadata": {},
   "outputs": [
    {
     "data": {
      "text/plain": [
       "array([ 5.91360847e-01,  4.11204883e-01, -1.11914838e-16,  1.44475353e-01,\n",
       "        6.84298537e-01,  2.54867669e-01, -7.54246096e-02])"
      ]
     },
     "execution_count": 71,
     "metadata": {},
     "output_type": "execute_result"
    }
   ],
   "source": [
    "overlap = np.einsum('ij, ki -> i', c_active_embedded.T,  huzinaga_op_std @ c_active_embedded)\n",
    "overlap"
   ]
  },
  {
   "cell_type": "code",
   "execution_count": 72,
   "id": "012c9276",
   "metadata": {},
   "outputs": [
    {
     "data": {
      "text/plain": [
       "array([-20.22912626,  -0.71962272,  -0.36944533,   0.6325906 ,\n",
       "         0.72378527])"
      ]
     },
     "execution_count": 72,
     "metadata": {},
     "output_type": "execute_result"
    }
   ],
   "source": [
    "enviro_projector = s_mat@ localized_system.dm_enviro @ s_mat\n",
    "overlap = np.einsum('ij, ki -> i', c_active_embedded.T,  enviro_projector @ c_active_embedded)\n",
    "\n",
    "overlap_by_size = overlap.argsort()[::-1]\n",
    "\n",
    "n_env_mo = len(localized_system.enviro_MO_inds)\n",
    "frozen_enviro_orb_inds = overlap_by_size[:n_env_mo]\n",
    "active_MOs_occ_and_virt_embedded = [\n",
    "                mo_i\n",
    "                for mo_i in range(c_active_embedded.shape[1])\n",
    "                if mo_i not in frozen_enviro_orb_inds\n",
    "            ]\n",
    "\n",
    "c_selected = c_active_embedded[:, active_MOs_occ_and_virt_embedded]\n",
    "mo_energy_act = np.diag(c_selected.conj().T @ scf_method_HUZ.get_fock()@ c_selected)\n",
    "mo_energy_act"
   ]
  },
  {
   "cell_type": "code",
   "execution_count": 73,
   "id": "bbb64ba5",
   "metadata": {},
   "outputs": [
    {
     "data": {
      "text/plain": [
       "array([[-20.229,  -0.   ,   0.   ,   0.   ,   0.   ],\n",
       "       [ -0.   ,  -0.72 ,   0.   ,   0.   ,  -0.   ],\n",
       "       [  0.   ,   0.   ,  -0.369,   0.   ,   0.   ],\n",
       "       [  0.   ,   0.   ,   0.   ,   0.633,  -0.   ],\n",
       "       [  0.   ,  -0.   ,   0.   ,  -0.   ,   0.724]])"
      ]
     },
     "execution_count": 73,
     "metadata": {},
     "output_type": "execute_result"
    }
   ],
   "source": [
    "np.around(c_selected.conj().T @ scf_method_HUZ.get_fock()@ c_selected, 3)"
   ]
  },
  {
   "cell_type": "code",
   "execution_count": 81,
   "id": "287772fe",
   "metadata": {},
   "outputs": [
    {
     "name": "stdout",
     "output_type": "stream",
     "text": [
      "[-2.02291263e+01 -7.19622452e-01 -3.69445118e-01  6.32590515e-01\n",
      "  7.23785410e-01  1.99999957e+06  1.99999984e+06]\n"
     ]
    }
   ],
   "source": [
    "print(scf_method.mo_energy)"
   ]
  },
  {
   "cell_type": "code",
   "execution_count": null,
   "id": "2373f05b",
   "metadata": {},
   "outputs": [],
   "source": []
  },
  {
   "cell_type": "code",
   "execution_count": null,
   "id": "31a69869",
   "metadata": {},
   "outputs": [],
   "source": []
  },
  {
   "cell_type": "code",
   "execution_count": null,
   "id": "e601eebc",
   "metadata": {},
   "outputs": [],
   "source": []
  },
  {
   "cell_type": "code",
   "execution_count": 82,
   "id": "d8bae3d7",
   "metadata": {},
   "outputs": [
    {
     "data": {
      "text/plain": [
       "-51.83589592603687"
      ]
     },
     "execution_count": 82,
     "metadata": {},
     "output_type": "execute_result"
    }
   ],
   "source": [
    "## run FCI embedded\n",
    "scf_method_HUZ.mo_coeff = c_active_embedded[:, active_MOs_occ_and_virt_embedded]\n",
    "\n",
    "fci_scf_HUZ_embedded = fci.FCI(scf_method_HUZ)\n",
    "\n",
    "fci_scf_HUZ_embedded.run()\n",
    "fci_scf_HUZ_embedded.e_tot"
   ]
  },
  {
   "cell_type": "code",
   "execution_count": 83,
   "id": "3372f341",
   "metadata": {},
   "outputs": [
    {
     "data": {
      "text/plain": [
       "-0.004876696459909624"
      ]
     },
     "execution_count": 83,
     "metadata": {},
     "output_type": "execute_result"
    }
   ],
   "source": [
    "e_corr_HUZ = fci_scf_HUZ_embedded.e_tot - scf_method_HUZ.e_tot\n",
    "e_corr_HUZ"
   ]
  },
  {
   "cell_type": "code",
   "execution_count": 84,
   "id": "a1dbc01f",
   "metadata": {},
   "outputs": [
    {
     "data": {
      "text/plain": [
       "16.25599253451036"
      ]
     },
     "execution_count": 84,
     "metadata": {},
     "output_type": "execute_result"
    }
   ],
   "source": [
    "correction_HUZ = np.einsum(\"ij,ji\", v_emb,\n",
    "                       localized_system.dm_active) # <--- different \n",
    "correction_HUZ"
   ]
  },
  {
   "cell_type": "code",
   "execution_count": null,
   "id": "2de0dba4",
   "metadata": {},
   "outputs": [],
   "source": []
  },
  {
   "cell_type": "code",
   "execution_count": 85,
   "id": "5f41333a",
   "metadata": {},
   "outputs": [
    {
     "name": "stdout",
     "output_type": "stream",
     "text": [
      "emb error : 0.1077631449814902\n",
      "DFT error : 0.26253235552186993\n"
     ]
    }
   ],
   "source": [
    "E_emb_act_HUZ = scf_method_HUZ.energy_elec(dm=dm_active_embedded)[0] - correction + e_corr_HUZ \n",
    "E_emb_full_HUZ = E_emb_act_HUZ + e_env + two_e_cross + global_rks.energy_nuc()\n",
    "\n",
    "\n",
    "print(f'emb error : {abs(E_emb_full_HUZ - glob_FCI.e_tot)}')\n",
    "print(f'DFT error : {abs(global_rks.e_tot - glob_FCI.e_tot)}')"
   ]
  },
  {
   "cell_type": "code",
   "execution_count": null,
   "id": "ceda3630",
   "metadata": {},
   "outputs": [],
   "source": []
  },
  {
   "cell_type": "code",
   "execution_count": null,
   "id": "4c062ff2",
   "metadata": {},
   "outputs": [],
   "source": []
  },
  {
   "cell_type": "code",
   "execution_count": null,
   "id": "a912dfad",
   "metadata": {},
   "outputs": [],
   "source": []
  },
  {
   "cell_type": "code",
   "execution_count": null,
   "id": "8f3bbeb8",
   "metadata": {},
   "outputs": [],
   "source": []
  },
  {
   "cell_type": "markdown",
   "id": "58f4bf64",
   "metadata": {},
   "source": [
    "# Looking at localized system"
   ]
  },
  {
   "cell_type": "code",
   "execution_count": 86,
   "id": "9efdd469",
   "metadata": {},
   "outputs": [
    {
     "name": "stdout",
     "output_type": "stream",
     "text": [
      "[[ 0.101  0.   ]\n",
      " [-0.353 -0.   ]\n",
      " [ 0.    -0.   ]\n",
      " [ 0.    -0.611]\n",
      " [ 0.557  0.   ]\n",
      " [-0.296 -0.446]\n",
      " [-0.296  0.446]]\n"
     ]
    }
   ],
   "source": [
    "print(np.around(localized_system.c_enviro, 3))"
   ]
  },
  {
   "cell_type": "code",
   "execution_count": 87,
   "id": "04b97cb3",
   "metadata": {},
   "outputs": [
    {
     "name": "stdout",
     "output_type": "stream",
     "text": [
      "[[ 0.     0.     0.    -0.028  0.     0.     0.   ]\n",
      " [ 0.     0.     0.    -1.213 -0.     0.    -0.   ]\n",
      " [-0.    -0.    -0.     0.    -0.    -0.    -0.   ]\n",
      " [-0.    -0.    -0.     0.    -1.764 -0.     0.   ]\n",
      " [-0.    -0.    -0.     1.406  0.    -0.     0.   ]\n",
      " [ 0.     0.     0.    -1.339 -1.033  0.    -0.   ]\n",
      " [ 0.     0.     0.    -1.339  1.033  0.    -0.   ]]\n"
     ]
    }
   ],
   "source": [
    "enviro_projector = s_mat@ localized_system.dm_enviro @ s_mat\n",
    "\n",
    "print(np.around(enviro_projector@ localized_system.c_loc_occ_and_virt, 3))"
   ]
  },
  {
   "cell_type": "code",
   "execution_count": 88,
   "id": "e3dfe5a3",
   "metadata": {},
   "outputs": [
    {
     "name": "stdout",
     "output_type": "stream",
     "text": [
      "[[ 0.101  0.   ]\n",
      " [-0.353 -0.   ]\n",
      " [ 0.    -0.   ]\n",
      " [ 0.    -0.611]\n",
      " [ 0.557  0.   ]\n",
      " [-0.296 -0.446]\n",
      " [-0.296  0.446]]\n",
      "\n",
      "[[-0.    -0.    -0.     0.101  0.    -0.     0.   ]\n",
      " [ 0.     0.     0.    -0.353 -0.     0.    -0.   ]\n",
      " [-0.    -0.    -0.     0.    -0.    -0.    -0.   ]\n",
      " [-0.    -0.    -0.     0.    -0.611 -0.     0.   ]\n",
      " [-0.    -0.    -0.     0.557  0.    -0.     0.   ]\n",
      " [ 0.    -0.     0.    -0.296 -0.446  0.    -0.   ]\n",
      " [ 0.     0.     0.    -0.296  0.446  0.     0.   ]]\n"
     ]
    }
   ],
   "source": [
    "proj_env = localized_system.dm_enviro/2 @ s_mat\n",
    "\n",
    "print(np.around(localized_system.c_enviro, 3))\n",
    "print()\n",
    "print(np.around(proj_env @ localized_system.c_loc_occ_and_virt, 3))\n"
   ]
  },
  {
   "cell_type": "code",
   "execution_count": null,
   "id": "4344cffb",
   "metadata": {},
   "outputs": [],
   "source": []
  },
  {
   "cell_type": "code",
   "execution_count": null,
   "id": "0d5b96d9",
   "metadata": {},
   "outputs": [],
   "source": []
  },
  {
   "cell_type": "markdown",
   "id": "23f00c95",
   "metadata": {},
   "source": [
    "# Get projector onto enviroment"
   ]
  },
  {
   "cell_type": "code",
   "execution_count": 90,
   "id": "5453ef64",
   "metadata": {},
   "outputs": [],
   "source": [
    "s_mat = global_rks.get_ovlp()\n",
    "s_half = sp.linalg.fractional_matrix_power(s_mat, 0.5)\n",
    "s_neg_half = sp.linalg.fractional_matrix_power(s_mat, -0.5)\n",
    "\n",
    "# 1. Get orthogonal C matrix (localized)\n",
    "c_loc_ortho = s_half @ localized_system.c_loc_occ_and_virt\n",
    "\n",
    "# 2. Define projector that projects MO orbs of subsystem B onto themselves and system A onto zero state!\n",
    "#    (do this in orthongoal basis!)\n",
    "#    note we only take MO environment indices!\n",
    "ortho_proj = np.einsum(\n",
    "    \"ik,jk->ij\",\n",
    "    c_loc_ortho[:, localized_system.enviro_MO_inds],\n",
    "    c_loc_ortho[:, localized_system.enviro_MO_inds],\n",
    ")"
   ]
  },
  {
   "cell_type": "code",
   "execution_count": 91,
   "id": "b4eb451a",
   "metadata": {},
   "outputs": [
    {
     "data": {
      "text/plain": [
       "True"
      ]
     },
     "execution_count": 91,
     "metadata": {},
     "output_type": "execute_result"
    }
   ],
   "source": [
    "# note no two times for this dm!!!\n",
    "dm = localized_system.c_enviro @ localized_system.c_enviro.T\n",
    "ortho_proj2 =  s_half @ dm @ s_half\n",
    "np.allclose(ortho_proj, ortho_proj2)"
   ]
  },
  {
   "cell_type": "code",
   "execution_count": 92,
   "id": "c70fc10d",
   "metadata": {},
   "outputs": [
    {
     "name": "stdout",
     "output_type": "stream",
     "text": [
      "[[ 0.10066  0.     ]\n",
      " [-0.35251 -0.     ]\n",
      " [ 0.      -0.     ]\n",
      " [ 0.      -0.6113 ]\n",
      " [ 0.55729  0.     ]\n",
      " [-0.29575 -0.44592]\n",
      " [-0.29575  0.44592]]\n",
      "\n",
      "[[ 0.10066  0.     ]\n",
      " [-0.35251 -0.     ]\n",
      " [ 0.      -0.     ]\n",
      " [ 0.      -0.6113 ]\n",
      " [ 0.55729  0.     ]\n",
      " [-0.29575 -0.44592]\n",
      " [-0.29575  0.44592]]\n",
      "\n",
      "[[ 0.10066  0.     ]\n",
      " [-0.35251 -0.     ]\n",
      " [ 0.      -0.     ]\n",
      " [ 0.      -0.6113 ]\n",
      " [ 0.55729  0.     ]\n",
      " [-0.29575 -0.44592]\n",
      " [-0.29575  0.44592]]\n"
     ]
    }
   ],
   "source": [
    "enviro_projector = s_neg_half @ ortho_proj @ s_half\n",
    "print(np.around(enviro_projector@localized_system.c_enviro, 5))\n",
    "print()\n",
    "\n",
    "enviro_projector = dm @ s_mat\n",
    "print(np.around(enviro_projector@localized_system.c_enviro, 5))\n",
    "print()\n",
    "\n",
    "print(np.around(localized_system.c_enviro, 5))"
   ]
  },
  {
   "cell_type": "code",
   "execution_count": 93,
   "id": "1f90be1e",
   "metadata": {},
   "outputs": [
    {
     "name": "stdout",
     "output_type": "stream",
     "text": [
      "[[ 0.  0.  0.]\n",
      " [ 0.  0.  0.]\n",
      " [-0. -0. -0.]\n",
      " [-0. -0. -0.]\n",
      " [-0. -0. -0.]\n",
      " [ 0.  0.  0.]\n",
      " [ 0.  0.  0.]]\n"
     ]
    }
   ],
   "source": [
    "enviro_projector = s_mat@ dm @ s_mat # paper definition!\n",
    "print(np.around(enviro_projector@localized_system.c_active, 10))"
   ]
  },
  {
   "cell_type": "code",
   "execution_count": 94,
   "id": "e9201480",
   "metadata": {},
   "outputs": [
    {
     "data": {
      "text/plain": [
       "4.0"
      ]
     },
     "execution_count": 94,
     "metadata": {},
     "output_type": "execute_result"
    }
   ],
   "source": [
    "np.trace(s_mat@ localized_system.dm_enviro) # @ s_mat)"
   ]
  },
  {
   "cell_type": "code",
   "execution_count": null,
   "id": "a88abc52",
   "metadata": {},
   "outputs": [],
   "source": []
  },
  {
   "cell_type": "code",
   "execution_count": 97,
   "id": "6a86e810",
   "metadata": {},
   "outputs": [
    {
     "name": "stdout",
     "output_type": "stream",
     "text": [
      "[[-0.226 -0.001 -0.996]\n",
      " [ 0.945  0.003 -0.021]\n",
      " [-0.004  1.    -0.   ]\n",
      " [ 0.    -0.    -0.   ]\n",
      " [ 0.53   0.002 -0.01 ]\n",
      " [-0.148 -0.001  0.015]\n",
      " [-0.148 -0.001  0.015]]\n",
      "\n",
      "[[-0.226 -0.001 -0.996  0.    -0.    -0.    -0.   ]\n",
      " [ 0.945  0.003 -0.021 -0.     0.     0.     0.   ]\n",
      " [-0.004  1.     0.    -0.     0.    -0.     0.   ]\n",
      " [ 0.    -0.    -0.     0.    -0.     0.     0.   ]\n",
      " [ 0.53   0.002 -0.01  -0.     0.     0.     0.   ]\n",
      " [-0.148 -0.001  0.015  0.    -0.    -0.    -0.   ]\n",
      " [-0.148 -0.001  0.015  0.    -0.    -0.    -0.   ]]\n"
     ]
    }
   ],
   "source": [
    "proj_act = localized_system.dm_active/2 @ s_mat # uses active dmat!\n",
    "\n",
    "print(np.around(localized_system.c_active, 3))\n",
    "print()\n",
    "print(np.around(proj_act @ localized_system.c_loc_occ_and_virt, 3))"
   ]
  },
  {
   "cell_type": "code",
   "execution_count": null,
   "id": "b31d36b4",
   "metadata": {},
   "outputs": [],
   "source": []
  },
  {
   "cell_type": "code",
   "execution_count": null,
   "id": "207a559e",
   "metadata": {},
   "outputs": [],
   "source": []
  }
 ],
 "metadata": {
  "kernelspec": {
   "display_name": "Python 3 (ipykernel)",
   "language": "python",
   "name": "python3"
  },
  "language_info": {
   "codemirror_mode": {
    "name": "ipython",
    "version": 3
   },
   "file_extension": ".py",
   "mimetype": "text/x-python",
   "name": "python",
   "nbconvert_exporter": "python",
   "pygments_lexer": "ipython3",
   "version": "3.9.7"
  }
 },
 "nbformat": 4,
 "nbformat_minor": 5
}
