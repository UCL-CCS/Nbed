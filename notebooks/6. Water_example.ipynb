{
 "cells": [
  {
   "cell_type": "code",
   "execution_count": null,
   "id": "8ae5bba2",
   "metadata": {},
   "outputs": [],
   "source": [
    "import os\n",
    "from nbed.driver import NbedDriver\n",
    "import numpy as np\n",
    "\n",
    "from nbed.ham_builder import HamiltonianBuilder\n",
    "from openfermion import get_sparse_operator\n",
    "import scipy as sp\n",
    "    \n",
    "from pyscf import gto, scf, fci, cc"
   ]
  },
  {
   "cell_type": "code",
   "execution_count": null,
   "id": "cac37f5e",
   "metadata": {},
   "outputs": [],
   "source": []
  },
  {
   "cell_type": "code",
   "execution_count": null,
   "id": "b3bec003",
   "metadata": {},
   "outputs": [],
   "source": [
    "# get xyz file for water\n",
    "notebook_dir = os.getcwd()\n",
    "projects_dir = os.path.dirname(notebook_dir)\n",
    "NBed_dir = os.path.dirname(projects_dir)\n",
    "Test_dir = os.path.join(NBed_dir, 'tests')\n",
    "mol_dir = os.path.join(Test_dir, 'molecules')\n",
    "\n",
    "water_xyz_path = os.path.join(mol_dir, 'water.xyz')"
   ]
  },
  {
   "cell_type": "code",
   "execution_count": null,
   "id": "60aac427",
   "metadata": {},
   "outputs": [],
   "source": [
    "geometry_path = os.path.join(mol_dir, 'water.xyz')\n",
    "# geometry_path = os.path.join(mol_dir, 'H4.xyz')"
   ]
  },
  {
   "cell_type": "code",
   "execution_count": null,
   "id": "db309e85",
   "metadata": {},
   "outputs": [],
   "source": [
    "geometry_path"
   ]
  },
  {
   "cell_type": "code",
   "execution_count": null,
   "id": "30467edc",
   "metadata": {},
   "outputs": [],
   "source": [
    "with open(geometry_path, 'r') as infile:\n",
    "    xyz_string = infile.read()\n",
    "    \n",
    "print(xyz_string)"
   ]
  },
  {
   "cell_type": "code",
   "execution_count": null,
   "id": "22fa6479",
   "metadata": {},
   "outputs": [],
   "source": []
  },
  {
   "cell_type": "code",
   "execution_count": null,
   "id": "79d24427",
   "metadata": {},
   "outputs": [],
   "source": [
    "# options\n",
    "geometry = xyz_string\n",
    "n_active_atoms=1\n",
    "basis = 'STO-3G'\n",
    "xc_functional = 'lda, vwn'# 'lda, vwn' #'B3LYP'\n",
    "run_virtual_localization = False\n",
    "\n",
    "run_fci_emb = True\n",
    "run_ccsd_emb = False\n",
    "max_ram_memory = 8_000\n",
    "_init_huzinaga_rhf_with_mu = False\n",
    "\n",
    "max_hf_cycles=5000\n",
    "\n",
    "\n",
    "projector = 'both'\n",
    "localization = 'ibo' # spade, ibo\n",
    "occupied_threshold = 0.95\n",
    "virtual_threshold = 0.95"
   ]
  },
  {
   "cell_type": "code",
   "execution_count": null,
   "id": "1a52d1d5",
   "metadata": {},
   "outputs": [],
   "source": [
    "driver = NbedDriver(geometry = geometry,\n",
    "                    n_active_atoms=n_active_atoms,\n",
    "                    basis = basis,\n",
    "                    xc_functional = xc_functional,\n",
    "                    run_virtual_localization = run_virtual_localization,\n",
    "                    run_fci_emb = run_fci_emb,\n",
    "                    run_ccsd_emb = run_ccsd_emb,\n",
    "                    max_ram_memory = max_ram_memory,\n",
    "                    _init_huzinaga_rhf_with_mu = _init_huzinaga_rhf_with_mu,\n",
    "                    max_hf_cycles=max_hf_cycles,\n",
    "                    occupied_threshold=occupied_threshold,\n",
    "                    projector = projector,\n",
    "                    localization = localization)"
   ]
  },
  {
   "cell_type": "code",
   "execution_count": null,
   "id": "97eebb94",
   "metadata": {},
   "outputs": [],
   "source": []
  },
  {
   "cell_type": "code",
   "execution_count": null,
   "id": "f88f1efd",
   "metadata": {},
   "outputs": [],
   "source": [
    "global_DFT_energy = driver._global_rks.e_tot\n",
    "global_FCI_energy = driver._global_fci.e_tot\n",
    "\n",
    "print(f'global FCI energy: {global_FCI_energy}')\n",
    "print(f'global DFT energy: {global_DFT_energy}')"
   ]
  },
  {
   "cell_type": "code",
   "execution_count": null,
   "id": "c6092142",
   "metadata": {},
   "outputs": [],
   "source": []
  },
  {
   "cell_type": "code",
   "execution_count": null,
   "id": "421baf4c",
   "metadata": {},
   "outputs": [],
   "source": [
    "qubit_transform = 'jordan_wigner'\n",
    "\n",
    "    \n",
    "huz_classical = driver._huzinaga['classical_energy']\n",
    "rhf_huz = driver._huzinaga[\"scf\"]\n",
    "qham_huz = HamiltonianBuilder(\n",
    "                        scf_method=rhf_huz,\n",
    "                        constant_e_shift=huz_classical,\n",
    "                        transform=qubit_transform,\n",
    "                        ).build(n_qubits=None, taper=False)\n",
    "\n",
    "mu_classical = driver._mu['classical_energy']\n",
    "rhf_mu = driver._mu[\"scf\"]\n",
    "qham_mu = HamiltonianBuilder(\n",
    "                        scf_method=rhf_mu,\n",
    "                        constant_e_shift=mu_classical,\n",
    "                        transform=qubit_transform,\n",
    "                        ).build(n_qubits=None, taper=False)"
   ]
  },
  {
   "cell_type": "code",
   "execution_count": null,
   "id": "48528ccf",
   "metadata": {},
   "outputs": [],
   "source": []
  },
  {
   "cell_type": "code",
   "execution_count": null,
   "id": "e0135d55",
   "metadata": {},
   "outputs": [],
   "source": [
    "huz_H_sparse = get_sparse_operator(qham_huz)\n",
    "huz_e_emb = sp.sparse.linalg.eigsh(huz_H_sparse, k=1, which='SA')[0][0]\n",
    "huz_e_emb\n",
    "\n",
    "mu_H_sparse = get_sparse_operator(qham_mu)\n",
    "mu_e_emb = sp.sparse.linalg.eigsh(mu_H_sparse, k=1, which='SA')[0][0]\n",
    "mu_e_emb"
   ]
  },
  {
   "cell_type": "code",
   "execution_count": null,
   "id": "a7f0c3d5",
   "metadata": {},
   "outputs": [],
   "source": [
    "huz_e_emb - driver._huzinaga['e_fci']"
   ]
  },
  {
   "cell_type": "code",
   "execution_count": null,
   "id": "4877b0ef",
   "metadata": {},
   "outputs": [],
   "source": [
    "mu_e_emb - driver._mu['e_fci']"
   ]
  },
  {
   "cell_type": "code",
   "execution_count": null,
   "id": "797d6d36",
   "metadata": {},
   "outputs": [],
   "source": [
    "print(driver.localized_system.active_MO_inds)\n",
    "print(driver.localized_system.enviro_MO_inds)"
   ]
  },
  {
   "cell_type": "code",
   "execution_count": null,
   "id": "a6834cd2",
   "metadata": {},
   "outputs": [],
   "source": [
    "print(f'global DFT error: {abs(global_FCI_energy - global_DFT_energy)}')\n",
    "\n",
    "print(f'mu error: {abs(global_FCI_energy - huz_e_emb)}')\n",
    "print(f'huz error: {abs(global_FCI_energy - mu_e_emb)}')"
   ]
  },
  {
   "cell_type": "code",
   "execution_count": null,
   "id": "48bb84a4",
   "metadata": {},
   "outputs": [],
   "source": []
  },
  {
   "cell_type": "code",
   "execution_count": null,
   "id": "ccba76af",
   "metadata": {},
   "outputs": [],
   "source": [
    "# how subsystem was selected (either % active AOs [pyscf] or singular values[SPADE]!)\n",
    "driver.localized_system.enviro_selection_condition"
   ]
  },
  {
   "cell_type": "code",
   "execution_count": null,
   "id": "a382438b",
   "metadata": {},
   "outputs": [],
   "source": []
  },
  {
   "cell_type": "code",
   "execution_count": null,
   "id": "425e2fa1",
   "metadata": {},
   "outputs": [],
   "source": [
    "len(list(qham_huz))"
   ]
  },
  {
   "cell_type": "code",
   "execution_count": null,
   "id": "75bc7a39",
   "metadata": {},
   "outputs": [],
   "source": [
    "len(list(qham_mu))"
   ]
  },
  {
   "cell_type": "code",
   "execution_count": null,
   "id": "38660bfc",
   "metadata": {},
   "outputs": [],
   "source": []
  },
  {
   "cell_type": "code",
   "execution_count": null,
   "id": "375e2ee6",
   "metadata": {},
   "outputs": [],
   "source": [
    "driver._global_rks.e_tot"
   ]
  },
  {
   "cell_type": "code",
   "execution_count": null,
   "id": "3cc18fc3",
   "metadata": {},
   "outputs": [],
   "source": [
    "driver.embed_dft_in_dft('B3LYP') # wb97m_v"
   ]
  },
  {
   "cell_type": "code",
   "execution_count": null,
   "id": "34ea15f8",
   "metadata": {},
   "outputs": [],
   "source": [
    "print(driver._mu_dft['e_rks_cheap'])\n",
    "print(driver._mu_dft['e_rks_expen'])"
   ]
  },
  {
   "cell_type": "code",
   "execution_count": null,
   "id": "dc800980",
   "metadata": {},
   "outputs": [],
   "source": [
    "print(driver._huzinaga_dft['e_rks_cheap'])\n",
    "print(driver._huzinaga_dft['e_rks_expen'])"
   ]
  },
  {
   "cell_type": "code",
   "execution_count": null,
   "id": "358c550d",
   "metadata": {},
   "outputs": [],
   "source": [
    "driver._global_rks.e_tot - driver._mu_dft['e_rks_cheap']"
   ]
  },
  {
   "cell_type": "code",
   "execution_count": null,
   "id": "719c9ba8",
   "metadata": {},
   "outputs": [],
   "source": [
    "driver._global_rks.e_tot - driver._huzinaga_dft['e_rks_cheap']"
   ]
  },
  {
   "cell_type": "code",
   "execution_count": null,
   "id": "713ae744",
   "metadata": {},
   "outputs": [],
   "source": [
    "mu_dft_in_dft_error =  abs(global_FCI_energy -  driver._mu_dft['e_rks_expen'])\n",
    "print(f'mu error: {mu_dft_in_dft_error}')\n",
    "\n",
    "huz_dft_in_dft_error =  abs(global_FCI_energy -  driver._huzinaga_dft['e_rks_expen'])\n",
    "print(f'huz error: {huz_dft_in_dft_error}')"
   ]
  },
  {
   "cell_type": "code",
   "execution_count": null,
   "id": "be7300b7",
   "metadata": {},
   "outputs": [],
   "source": [
    "cccc = driver._huzinaga_dft['scf_cheap_dft'].mo_coeff\n",
    "FF = driver._huzinaga_dft['scf_cheap_dft'].get_fock()\n",
    "np.around(cccc.T @ FF @ cccc, 2)"
   ]
  },
  {
   "cell_type": "code",
   "execution_count": null,
   "id": "2b12f3f2",
   "metadata": {},
   "outputs": [],
   "source": [
    "driver._huzinaga_dft['scf_cheap_dft'].converged"
   ]
  },
  {
   "cell_type": "code",
   "execution_count": null,
   "id": "cce2fbf2",
   "metadata": {},
   "outputs": [],
   "source": []
  },
  {
   "cell_type": "code",
   "execution_count": null,
   "id": "707c63e0",
   "metadata": {},
   "outputs": [],
   "source": []
  },
  {
   "cell_type": "code",
   "execution_count": null,
   "id": "a59e334e",
   "metadata": {},
   "outputs": [],
   "source": [
    "## can see which orbitals are removed (once env is removed)\n",
    "# and their associated energies:"
   ]
  },
  {
   "cell_type": "code",
   "execution_count": null,
   "id": "0d35631b",
   "metadata": {},
   "outputs": [],
   "source": [
    "print(driver._mu['mo_energies_emb_pre_del'])\n",
    "print(driver._mu['mo_energies_emb_post_del'])"
   ]
  },
  {
   "cell_type": "code",
   "execution_count": null,
   "id": "953d01c7",
   "metadata": {},
   "outputs": [],
   "source": [
    "print(driver._huzinaga['mo_energies_emb_pre_del'])\n",
    "print(driver._huzinaga['mo_energies_emb_post_del'])"
   ]
  },
  {
   "cell_type": "code",
   "execution_count": null,
   "id": "ccd5b54d",
   "metadata": {},
   "outputs": [],
   "source": []
  },
  {
   "cell_type": "code",
   "execution_count": null,
   "id": "d1a07a33",
   "metadata": {},
   "outputs": [],
   "source": []
  }
 ],
 "metadata": {
  "kernelspec": {
   "display_name": "Python 3 (ipykernel)",
   "language": "python",
   "name": "python3"
  },
  "language_info": {
   "codemirror_mode": {
    "name": "ipython",
    "version": 3
   },
   "file_extension": ".py",
   "mimetype": "text/x-python",
   "name": "python",
   "nbconvert_exporter": "python",
   "pygments_lexer": "ipython3",
   "version": "3.9.7"
  }
 },
 "nbformat": 4,
 "nbformat_minor": 5
}
