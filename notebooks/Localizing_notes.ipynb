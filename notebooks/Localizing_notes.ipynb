{
 "cells": [
  {
   "cell_type": "code",
   "execution_count": 112,
   "metadata": {},
   "outputs": [],
   "source": [
    "import scipy as sp\n",
    "from pyscf import gto, dft, lib, mp, cc, scf, tools, ci, fci"
   ]
  },
  {
   "cell_type": "code",
   "execution_count": 2,
   "metadata": {},
   "outputs": [],
   "source": [
    "import numpy as np\n",
    "import sys\n",
    "sys.path.append( './src/' )"
   ]
  },
  {
   "cell_type": "code",
   "execution_count": 3,
   "metadata": {},
   "outputs": [],
   "source": [
    "matrix_dot = lambda A, B: np.einsum('ij,ij', A, B)"
   ]
  },
  {
   "cell_type": "code",
   "execution_count": null,
   "metadata": {},
   "outputs": [],
   "source": []
  },
  {
   "cell_type": "code",
   "execution_count": 4,
   "metadata": {},
   "outputs": [],
   "source": [
    "# H    0.7493682,0.0000000,0.4424329\n",
    "# O    0.0000000,0.0000000,-0.1653507\n",
    "# H   -0.7493682,0.0000000,0.4424329"
   ]
  },
  {
   "cell_type": "markdown",
   "metadata": {},
   "source": [
    "# Define Molecule \n",
    "\n",
    "- Note first N atoms will be the ACTIVE portion of the molecule\n",
    "- the remaining atoms will be the environment"
   ]
  },
  {
   "cell_type": "code",
   "execution_count": 5,
   "metadata": {},
   "outputs": [],
   "source": [
    "geometry = [\n",
    "['H@1', (0.7493682,0.0000000,0.4424329)],\n",
    "['O@1', (0.0000000,0.0000000,-0.1653507)],\n",
    "    \n",
    "['H#', (-0.7493682,0.0000000,0.4424329)]\n",
    "]\n",
    "\n",
    "# geometry = [\n",
    "# ['Be@1', (0.0000000,0.0000000,0.0000000)],\n",
    "# ['H@1', (0.0000000,0.0000000,+1)],\n",
    "    \n",
    "# ['H#', (0.0000000,0.0000000,-1)]\n",
    "# ]"
   ]
  },
  {
   "cell_type": "code",
   "execution_count": 6,
   "metadata": {},
   "outputs": [
    {
     "data": {
      "application/javascript": [
       "/* Put everything inside the global mpl namespace */\n",
       "/* global mpl */\n",
       "window.mpl = {};\n",
       "\n",
       "mpl.get_websocket_type = function () {\n",
       "    if (typeof WebSocket !== 'undefined') {\n",
       "        return WebSocket;\n",
       "    } else if (typeof MozWebSocket !== 'undefined') {\n",
       "        return MozWebSocket;\n",
       "    } else {\n",
       "        alert(\n",
       "            'Your browser does not have WebSocket support. ' +\n",
       "                'Please try Chrome, Safari or Firefox ≥ 6. ' +\n",
       "                'Firefox 4 and 5 are also supported but you ' +\n",
       "                'have to enable WebSockets in about:config.'\n",
       "        );\n",
       "    }\n",
       "};\n",
       "\n",
       "mpl.figure = function (figure_id, websocket, ondownload, parent_element) {\n",
       "    this.id = figure_id;\n",
       "\n",
       "    this.ws = websocket;\n",
       "\n",
       "    this.supports_binary = this.ws.binaryType !== undefined;\n",
       "\n",
       "    if (!this.supports_binary) {\n",
       "        var warnings = document.getElementById('mpl-warnings');\n",
       "        if (warnings) {\n",
       "            warnings.style.display = 'block';\n",
       "            warnings.textContent =\n",
       "                'This browser does not support binary websocket messages. ' +\n",
       "                'Performance may be slow.';\n",
       "        }\n",
       "    }\n",
       "\n",
       "    this.imageObj = new Image();\n",
       "\n",
       "    this.context = undefined;\n",
       "    this.message = undefined;\n",
       "    this.canvas = undefined;\n",
       "    this.rubberband_canvas = undefined;\n",
       "    this.rubberband_context = undefined;\n",
       "    this.format_dropdown = undefined;\n",
       "\n",
       "    this.image_mode = 'full';\n",
       "\n",
       "    this.root = document.createElement('div');\n",
       "    this.root.setAttribute('style', 'display: inline-block');\n",
       "    this._root_extra_style(this.root);\n",
       "\n",
       "    parent_element.appendChild(this.root);\n",
       "\n",
       "    this._init_header(this);\n",
       "    this._init_canvas(this);\n",
       "    this._init_toolbar(this);\n",
       "\n",
       "    var fig = this;\n",
       "\n",
       "    this.waiting = false;\n",
       "\n",
       "    this.ws.onopen = function () {\n",
       "        fig.send_message('supports_binary', { value: fig.supports_binary });\n",
       "        fig.send_message('send_image_mode', {});\n",
       "        if (fig.ratio !== 1) {\n",
       "            fig.send_message('set_dpi_ratio', { dpi_ratio: fig.ratio });\n",
       "        }\n",
       "        fig.send_message('refresh', {});\n",
       "    };\n",
       "\n",
       "    this.imageObj.onload = function () {\n",
       "        if (fig.image_mode === 'full') {\n",
       "            // Full images could contain transparency (where diff images\n",
       "            // almost always do), so we need to clear the canvas so that\n",
       "            // there is no ghosting.\n",
       "            fig.context.clearRect(0, 0, fig.canvas.width, fig.canvas.height);\n",
       "        }\n",
       "        fig.context.drawImage(fig.imageObj, 0, 0);\n",
       "    };\n",
       "\n",
       "    this.imageObj.onunload = function () {\n",
       "        fig.ws.close();\n",
       "    };\n",
       "\n",
       "    this.ws.onmessage = this._make_on_message_function(this);\n",
       "\n",
       "    this.ondownload = ondownload;\n",
       "};\n",
       "\n",
       "mpl.figure.prototype._init_header = function () {\n",
       "    var titlebar = document.createElement('div');\n",
       "    titlebar.classList =\n",
       "        'ui-dialog-titlebar ui-widget-header ui-corner-all ui-helper-clearfix';\n",
       "    var titletext = document.createElement('div');\n",
       "    titletext.classList = 'ui-dialog-title';\n",
       "    titletext.setAttribute(\n",
       "        'style',\n",
       "        'width: 100%; text-align: center; padding: 3px;'\n",
       "    );\n",
       "    titlebar.appendChild(titletext);\n",
       "    this.root.appendChild(titlebar);\n",
       "    this.header = titletext;\n",
       "};\n",
       "\n",
       "mpl.figure.prototype._canvas_extra_style = function (_canvas_div) {};\n",
       "\n",
       "mpl.figure.prototype._root_extra_style = function (_canvas_div) {};\n",
       "\n",
       "mpl.figure.prototype._init_canvas = function () {\n",
       "    var fig = this;\n",
       "\n",
       "    var canvas_div = (this.canvas_div = document.createElement('div'));\n",
       "    canvas_div.setAttribute(\n",
       "        'style',\n",
       "        'border: 1px solid #ddd;' +\n",
       "            'box-sizing: content-box;' +\n",
       "            'clear: both;' +\n",
       "            'min-height: 1px;' +\n",
       "            'min-width: 1px;' +\n",
       "            'outline: 0;' +\n",
       "            'overflow: hidden;' +\n",
       "            'position: relative;' +\n",
       "            'resize: both;'\n",
       "    );\n",
       "\n",
       "    function on_keyboard_event_closure(name) {\n",
       "        return function (event) {\n",
       "            return fig.key_event(event, name);\n",
       "        };\n",
       "    }\n",
       "\n",
       "    canvas_div.addEventListener(\n",
       "        'keydown',\n",
       "        on_keyboard_event_closure('key_press')\n",
       "    );\n",
       "    canvas_div.addEventListener(\n",
       "        'keyup',\n",
       "        on_keyboard_event_closure('key_release')\n",
       "    );\n",
       "\n",
       "    this._canvas_extra_style(canvas_div);\n",
       "    this.root.appendChild(canvas_div);\n",
       "\n",
       "    var canvas = (this.canvas = document.createElement('canvas'));\n",
       "    canvas.classList.add('mpl-canvas');\n",
       "    canvas.setAttribute('style', 'box-sizing: content-box;');\n",
       "\n",
       "    this.context = canvas.getContext('2d');\n",
       "\n",
       "    var backingStore =\n",
       "        this.context.backingStorePixelRatio ||\n",
       "        this.context.webkitBackingStorePixelRatio ||\n",
       "        this.context.mozBackingStorePixelRatio ||\n",
       "        this.context.msBackingStorePixelRatio ||\n",
       "        this.context.oBackingStorePixelRatio ||\n",
       "        this.context.backingStorePixelRatio ||\n",
       "        1;\n",
       "\n",
       "    this.ratio = (window.devicePixelRatio || 1) / backingStore;\n",
       "    if (this.ratio !== 1) {\n",
       "        fig.send_message('set_dpi_ratio', { dpi_ratio: this.ratio });\n",
       "    }\n",
       "\n",
       "    var rubberband_canvas = (this.rubberband_canvas = document.createElement(\n",
       "        'canvas'\n",
       "    ));\n",
       "    rubberband_canvas.setAttribute(\n",
       "        'style',\n",
       "        'box-sizing: content-box; position: absolute; left: 0; top: 0; z-index: 1;'\n",
       "    );\n",
       "\n",
       "    var resizeObserver = new ResizeObserver(function (entries) {\n",
       "        var nentries = entries.length;\n",
       "        for (var i = 0; i < nentries; i++) {\n",
       "            var entry = entries[i];\n",
       "            var width, height;\n",
       "            if (entry.contentBoxSize) {\n",
       "                if (entry.contentBoxSize instanceof Array) {\n",
       "                    // Chrome 84 implements new version of spec.\n",
       "                    width = entry.contentBoxSize[0].inlineSize;\n",
       "                    height = entry.contentBoxSize[0].blockSize;\n",
       "                } else {\n",
       "                    // Firefox implements old version of spec.\n",
       "                    width = entry.contentBoxSize.inlineSize;\n",
       "                    height = entry.contentBoxSize.blockSize;\n",
       "                }\n",
       "            } else {\n",
       "                // Chrome <84 implements even older version of spec.\n",
       "                width = entry.contentRect.width;\n",
       "                height = entry.contentRect.height;\n",
       "            }\n",
       "\n",
       "            // Keep the size of the canvas and rubber band canvas in sync with\n",
       "            // the canvas container.\n",
       "            if (entry.devicePixelContentBoxSize) {\n",
       "                // Chrome 84 implements new version of spec.\n",
       "                canvas.setAttribute(\n",
       "                    'width',\n",
       "                    entry.devicePixelContentBoxSize[0].inlineSize\n",
       "                );\n",
       "                canvas.setAttribute(\n",
       "                    'height',\n",
       "                    entry.devicePixelContentBoxSize[0].blockSize\n",
       "                );\n",
       "            } else {\n",
       "                canvas.setAttribute('width', width * fig.ratio);\n",
       "                canvas.setAttribute('height', height * fig.ratio);\n",
       "            }\n",
       "            canvas.setAttribute(\n",
       "                'style',\n",
       "                'width: ' + width + 'px; height: ' + height + 'px;'\n",
       "            );\n",
       "\n",
       "            rubberband_canvas.setAttribute('width', width);\n",
       "            rubberband_canvas.setAttribute('height', height);\n",
       "\n",
       "            // And update the size in Python. We ignore the initial 0/0 size\n",
       "            // that occurs as the element is placed into the DOM, which should\n",
       "            // otherwise not happen due to the minimum size styling.\n",
       "            if (width != 0 && height != 0) {\n",
       "                fig.request_resize(width, height);\n",
       "            }\n",
       "        }\n",
       "    });\n",
       "    resizeObserver.observe(canvas_div);\n",
       "\n",
       "    function on_mouse_event_closure(name) {\n",
       "        return function (event) {\n",
       "            return fig.mouse_event(event, name);\n",
       "        };\n",
       "    }\n",
       "\n",
       "    rubberband_canvas.addEventListener(\n",
       "        'mousedown',\n",
       "        on_mouse_event_closure('button_press')\n",
       "    );\n",
       "    rubberband_canvas.addEventListener(\n",
       "        'mouseup',\n",
       "        on_mouse_event_closure('button_release')\n",
       "    );\n",
       "    // Throttle sequential mouse events to 1 every 20ms.\n",
       "    rubberband_canvas.addEventListener(\n",
       "        'mousemove',\n",
       "        on_mouse_event_closure('motion_notify')\n",
       "    );\n",
       "\n",
       "    rubberband_canvas.addEventListener(\n",
       "        'mouseenter',\n",
       "        on_mouse_event_closure('figure_enter')\n",
       "    );\n",
       "    rubberband_canvas.addEventListener(\n",
       "        'mouseleave',\n",
       "        on_mouse_event_closure('figure_leave')\n",
       "    );\n",
       "\n",
       "    canvas_div.addEventListener('wheel', function (event) {\n",
       "        if (event.deltaY < 0) {\n",
       "            event.step = 1;\n",
       "        } else {\n",
       "            event.step = -1;\n",
       "        }\n",
       "        on_mouse_event_closure('scroll')(event);\n",
       "    });\n",
       "\n",
       "    canvas_div.appendChild(canvas);\n",
       "    canvas_div.appendChild(rubberband_canvas);\n",
       "\n",
       "    this.rubberband_context = rubberband_canvas.getContext('2d');\n",
       "    this.rubberband_context.strokeStyle = '#000000';\n",
       "\n",
       "    this._resize_canvas = function (width, height, forward) {\n",
       "        if (forward) {\n",
       "            canvas_div.style.width = width + 'px';\n",
       "            canvas_div.style.height = height + 'px';\n",
       "        }\n",
       "    };\n",
       "\n",
       "    // Disable right mouse context menu.\n",
       "    this.rubberband_canvas.addEventListener('contextmenu', function (_e) {\n",
       "        event.preventDefault();\n",
       "        return false;\n",
       "    });\n",
       "\n",
       "    function set_focus() {\n",
       "        canvas.focus();\n",
       "        canvas_div.focus();\n",
       "    }\n",
       "\n",
       "    window.setTimeout(set_focus, 100);\n",
       "};\n",
       "\n",
       "mpl.figure.prototype._init_toolbar = function () {\n",
       "    var fig = this;\n",
       "\n",
       "    var toolbar = document.createElement('div');\n",
       "    toolbar.classList = 'mpl-toolbar';\n",
       "    this.root.appendChild(toolbar);\n",
       "\n",
       "    function on_click_closure(name) {\n",
       "        return function (_event) {\n",
       "            return fig.toolbar_button_onclick(name);\n",
       "        };\n",
       "    }\n",
       "\n",
       "    function on_mouseover_closure(tooltip) {\n",
       "        return function (event) {\n",
       "            if (!event.currentTarget.disabled) {\n",
       "                return fig.toolbar_button_onmouseover(tooltip);\n",
       "            }\n",
       "        };\n",
       "    }\n",
       "\n",
       "    fig.buttons = {};\n",
       "    var buttonGroup = document.createElement('div');\n",
       "    buttonGroup.classList = 'mpl-button-group';\n",
       "    for (var toolbar_ind in mpl.toolbar_items) {\n",
       "        var name = mpl.toolbar_items[toolbar_ind][0];\n",
       "        var tooltip = mpl.toolbar_items[toolbar_ind][1];\n",
       "        var image = mpl.toolbar_items[toolbar_ind][2];\n",
       "        var method_name = mpl.toolbar_items[toolbar_ind][3];\n",
       "\n",
       "        if (!name) {\n",
       "            /* Instead of a spacer, we start a new button group. */\n",
       "            if (buttonGroup.hasChildNodes()) {\n",
       "                toolbar.appendChild(buttonGroup);\n",
       "            }\n",
       "            buttonGroup = document.createElement('div');\n",
       "            buttonGroup.classList = 'mpl-button-group';\n",
       "            continue;\n",
       "        }\n",
       "\n",
       "        var button = (fig.buttons[name] = document.createElement('button'));\n",
       "        button.classList = 'mpl-widget';\n",
       "        button.setAttribute('role', 'button');\n",
       "        button.setAttribute('aria-disabled', 'false');\n",
       "        button.addEventListener('click', on_click_closure(method_name));\n",
       "        button.addEventListener('mouseover', on_mouseover_closure(tooltip));\n",
       "\n",
       "        var icon_img = document.createElement('img');\n",
       "        icon_img.src = '_images/' + image + '.png';\n",
       "        icon_img.srcset = '_images/' + image + '_large.png 2x';\n",
       "        icon_img.alt = tooltip;\n",
       "        button.appendChild(icon_img);\n",
       "\n",
       "        buttonGroup.appendChild(button);\n",
       "    }\n",
       "\n",
       "    if (buttonGroup.hasChildNodes()) {\n",
       "        toolbar.appendChild(buttonGroup);\n",
       "    }\n",
       "\n",
       "    var fmt_picker = document.createElement('select');\n",
       "    fmt_picker.classList = 'mpl-widget';\n",
       "    toolbar.appendChild(fmt_picker);\n",
       "    this.format_dropdown = fmt_picker;\n",
       "\n",
       "    for (var ind in mpl.extensions) {\n",
       "        var fmt = mpl.extensions[ind];\n",
       "        var option = document.createElement('option');\n",
       "        option.selected = fmt === mpl.default_extension;\n",
       "        option.innerHTML = fmt;\n",
       "        fmt_picker.appendChild(option);\n",
       "    }\n",
       "\n",
       "    var status_bar = document.createElement('span');\n",
       "    status_bar.classList = 'mpl-message';\n",
       "    toolbar.appendChild(status_bar);\n",
       "    this.message = status_bar;\n",
       "};\n",
       "\n",
       "mpl.figure.prototype.request_resize = function (x_pixels, y_pixels) {\n",
       "    // Request matplotlib to resize the figure. Matplotlib will then trigger a resize in the client,\n",
       "    // which will in turn request a refresh of the image.\n",
       "    this.send_message('resize', { width: x_pixels, height: y_pixels });\n",
       "};\n",
       "\n",
       "mpl.figure.prototype.send_message = function (type, properties) {\n",
       "    properties['type'] = type;\n",
       "    properties['figure_id'] = this.id;\n",
       "    this.ws.send(JSON.stringify(properties));\n",
       "};\n",
       "\n",
       "mpl.figure.prototype.send_draw_message = function () {\n",
       "    if (!this.waiting) {\n",
       "        this.waiting = true;\n",
       "        this.ws.send(JSON.stringify({ type: 'draw', figure_id: this.id }));\n",
       "    }\n",
       "};\n",
       "\n",
       "mpl.figure.prototype.handle_save = function (fig, _msg) {\n",
       "    var format_dropdown = fig.format_dropdown;\n",
       "    var format = format_dropdown.options[format_dropdown.selectedIndex].value;\n",
       "    fig.ondownload(fig, format);\n",
       "};\n",
       "\n",
       "mpl.figure.prototype.handle_resize = function (fig, msg) {\n",
       "    var size = msg['size'];\n",
       "    if (size[0] !== fig.canvas.width || size[1] !== fig.canvas.height) {\n",
       "        fig._resize_canvas(size[0], size[1], msg['forward']);\n",
       "        fig.send_message('refresh', {});\n",
       "    }\n",
       "};\n",
       "\n",
       "mpl.figure.prototype.handle_rubberband = function (fig, msg) {\n",
       "    var x0 = msg['x0'] / fig.ratio;\n",
       "    var y0 = (fig.canvas.height - msg['y0']) / fig.ratio;\n",
       "    var x1 = msg['x1'] / fig.ratio;\n",
       "    var y1 = (fig.canvas.height - msg['y1']) / fig.ratio;\n",
       "    x0 = Math.floor(x0) + 0.5;\n",
       "    y0 = Math.floor(y0) + 0.5;\n",
       "    x1 = Math.floor(x1) + 0.5;\n",
       "    y1 = Math.floor(y1) + 0.5;\n",
       "    var min_x = Math.min(x0, x1);\n",
       "    var min_y = Math.min(y0, y1);\n",
       "    var width = Math.abs(x1 - x0);\n",
       "    var height = Math.abs(y1 - y0);\n",
       "\n",
       "    fig.rubberband_context.clearRect(\n",
       "        0,\n",
       "        0,\n",
       "        fig.canvas.width / fig.ratio,\n",
       "        fig.canvas.height / fig.ratio\n",
       "    );\n",
       "\n",
       "    fig.rubberband_context.strokeRect(min_x, min_y, width, height);\n",
       "};\n",
       "\n",
       "mpl.figure.prototype.handle_figure_label = function (fig, msg) {\n",
       "    // Updates the figure title.\n",
       "    fig.header.textContent = msg['label'];\n",
       "};\n",
       "\n",
       "mpl.figure.prototype.handle_cursor = function (fig, msg) {\n",
       "    var cursor = msg['cursor'];\n",
       "    switch (cursor) {\n",
       "        case 0:\n",
       "            cursor = 'pointer';\n",
       "            break;\n",
       "        case 1:\n",
       "            cursor = 'default';\n",
       "            break;\n",
       "        case 2:\n",
       "            cursor = 'crosshair';\n",
       "            break;\n",
       "        case 3:\n",
       "            cursor = 'move';\n",
       "            break;\n",
       "    }\n",
       "    fig.rubberband_canvas.style.cursor = cursor;\n",
       "};\n",
       "\n",
       "mpl.figure.prototype.handle_message = function (fig, msg) {\n",
       "    fig.message.textContent = msg['message'];\n",
       "};\n",
       "\n",
       "mpl.figure.prototype.handle_draw = function (fig, _msg) {\n",
       "    // Request the server to send over a new figure.\n",
       "    fig.send_draw_message();\n",
       "};\n",
       "\n",
       "mpl.figure.prototype.handle_image_mode = function (fig, msg) {\n",
       "    fig.image_mode = msg['mode'];\n",
       "};\n",
       "\n",
       "mpl.figure.prototype.handle_history_buttons = function (fig, msg) {\n",
       "    for (var key in msg) {\n",
       "        if (!(key in fig.buttons)) {\n",
       "            continue;\n",
       "        }\n",
       "        fig.buttons[key].disabled = !msg[key];\n",
       "        fig.buttons[key].setAttribute('aria-disabled', !msg[key]);\n",
       "    }\n",
       "};\n",
       "\n",
       "mpl.figure.prototype.handle_navigate_mode = function (fig, msg) {\n",
       "    if (msg['mode'] === 'PAN') {\n",
       "        fig.buttons['Pan'].classList.add('active');\n",
       "        fig.buttons['Zoom'].classList.remove('active');\n",
       "    } else if (msg['mode'] === 'ZOOM') {\n",
       "        fig.buttons['Pan'].classList.remove('active');\n",
       "        fig.buttons['Zoom'].classList.add('active');\n",
       "    } else {\n",
       "        fig.buttons['Pan'].classList.remove('active');\n",
       "        fig.buttons['Zoom'].classList.remove('active');\n",
       "    }\n",
       "};\n",
       "\n",
       "mpl.figure.prototype.updated_canvas_event = function () {\n",
       "    // Called whenever the canvas gets updated.\n",
       "    this.send_message('ack', {});\n",
       "};\n",
       "\n",
       "// A function to construct a web socket function for onmessage handling.\n",
       "// Called in the figure constructor.\n",
       "mpl.figure.prototype._make_on_message_function = function (fig) {\n",
       "    return function socket_on_message(evt) {\n",
       "        if (evt.data instanceof Blob) {\n",
       "            /* FIXME: We get \"Resource interpreted as Image but\n",
       "             * transferred with MIME type text/plain:\" errors on\n",
       "             * Chrome.  But how to set the MIME type?  It doesn't seem\n",
       "             * to be part of the websocket stream */\n",
       "            evt.data.type = 'image/png';\n",
       "\n",
       "            /* Free the memory for the previous frames */\n",
       "            if (fig.imageObj.src) {\n",
       "                (window.URL || window.webkitURL).revokeObjectURL(\n",
       "                    fig.imageObj.src\n",
       "                );\n",
       "            }\n",
       "\n",
       "            fig.imageObj.src = (window.URL || window.webkitURL).createObjectURL(\n",
       "                evt.data\n",
       "            );\n",
       "            fig.updated_canvas_event();\n",
       "            fig.waiting = false;\n",
       "            return;\n",
       "        } else if (\n",
       "            typeof evt.data === 'string' &&\n",
       "            evt.data.slice(0, 21) === 'data:image/png;base64'\n",
       "        ) {\n",
       "            fig.imageObj.src = evt.data;\n",
       "            fig.updated_canvas_event();\n",
       "            fig.waiting = false;\n",
       "            return;\n",
       "        }\n",
       "\n",
       "        var msg = JSON.parse(evt.data);\n",
       "        var msg_type = msg['type'];\n",
       "\n",
       "        // Call the  \"handle_{type}\" callback, which takes\n",
       "        // the figure and JSON message as its only arguments.\n",
       "        try {\n",
       "            var callback = fig['handle_' + msg_type];\n",
       "        } catch (e) {\n",
       "            console.log(\n",
       "                \"No handler for the '\" + msg_type + \"' message type: \",\n",
       "                msg\n",
       "            );\n",
       "            return;\n",
       "        }\n",
       "\n",
       "        if (callback) {\n",
       "            try {\n",
       "                // console.log(\"Handling '\" + msg_type + \"' message: \", msg);\n",
       "                callback(fig, msg);\n",
       "            } catch (e) {\n",
       "                console.log(\n",
       "                    \"Exception inside the 'handler_\" + msg_type + \"' callback:\",\n",
       "                    e,\n",
       "                    e.stack,\n",
       "                    msg\n",
       "                );\n",
       "            }\n",
       "        }\n",
       "    };\n",
       "};\n",
       "\n",
       "// from http://stackoverflow.com/questions/1114465/getting-mouse-location-in-canvas\n",
       "mpl.findpos = function (e) {\n",
       "    //this section is from http://www.quirksmode.org/js/events_properties.html\n",
       "    var targ;\n",
       "    if (!e) {\n",
       "        e = window.event;\n",
       "    }\n",
       "    if (e.target) {\n",
       "        targ = e.target;\n",
       "    } else if (e.srcElement) {\n",
       "        targ = e.srcElement;\n",
       "    }\n",
       "    if (targ.nodeType === 3) {\n",
       "        // defeat Safari bug\n",
       "        targ = targ.parentNode;\n",
       "    }\n",
       "\n",
       "    // pageX,Y are the mouse positions relative to the document\n",
       "    var boundingRect = targ.getBoundingClientRect();\n",
       "    var x = e.pageX - (boundingRect.left + document.body.scrollLeft);\n",
       "    var y = e.pageY - (boundingRect.top + document.body.scrollTop);\n",
       "\n",
       "    return { x: x, y: y };\n",
       "};\n",
       "\n",
       "/*\n",
       " * return a copy of an object with only non-object keys\n",
       " * we need this to avoid circular references\n",
       " * http://stackoverflow.com/a/24161582/3208463\n",
       " */\n",
       "function simpleKeys(original) {\n",
       "    return Object.keys(original).reduce(function (obj, key) {\n",
       "        if (typeof original[key] !== 'object') {\n",
       "            obj[key] = original[key];\n",
       "        }\n",
       "        return obj;\n",
       "    }, {});\n",
       "}\n",
       "\n",
       "mpl.figure.prototype.mouse_event = function (event, name) {\n",
       "    var canvas_pos = mpl.findpos(event);\n",
       "\n",
       "    if (name === 'button_press') {\n",
       "        this.canvas.focus();\n",
       "        this.canvas_div.focus();\n",
       "    }\n",
       "\n",
       "    var x = canvas_pos.x * this.ratio;\n",
       "    var y = canvas_pos.y * this.ratio;\n",
       "\n",
       "    this.send_message(name, {\n",
       "        x: x,\n",
       "        y: y,\n",
       "        button: event.button,\n",
       "        step: event.step,\n",
       "        guiEvent: simpleKeys(event),\n",
       "    });\n",
       "\n",
       "    /* This prevents the web browser from automatically changing to\n",
       "     * the text insertion cursor when the button is pressed.  We want\n",
       "     * to control all of the cursor setting manually through the\n",
       "     * 'cursor' event from matplotlib */\n",
       "    event.preventDefault();\n",
       "    return false;\n",
       "};\n",
       "\n",
       "mpl.figure.prototype._key_event_extra = function (_event, _name) {\n",
       "    // Handle any extra behaviour associated with a key event\n",
       "};\n",
       "\n",
       "mpl.figure.prototype.key_event = function (event, name) {\n",
       "    // Prevent repeat events\n",
       "    if (name === 'key_press') {\n",
       "        if (event.which === this._key) {\n",
       "            return;\n",
       "        } else {\n",
       "            this._key = event.which;\n",
       "        }\n",
       "    }\n",
       "    if (name === 'key_release') {\n",
       "        this._key = null;\n",
       "    }\n",
       "\n",
       "    var value = '';\n",
       "    if (event.ctrlKey && event.which !== 17) {\n",
       "        value += 'ctrl+';\n",
       "    }\n",
       "    if (event.altKey && event.which !== 18) {\n",
       "        value += 'alt+';\n",
       "    }\n",
       "    if (event.shiftKey && event.which !== 16) {\n",
       "        value += 'shift+';\n",
       "    }\n",
       "\n",
       "    value += 'k';\n",
       "    value += event.which.toString();\n",
       "\n",
       "    this._key_event_extra(event, name);\n",
       "\n",
       "    this.send_message(name, { key: value, guiEvent: simpleKeys(event) });\n",
       "    return false;\n",
       "};\n",
       "\n",
       "mpl.figure.prototype.toolbar_button_onclick = function (name) {\n",
       "    if (name === 'download') {\n",
       "        this.handle_save(this, null);\n",
       "    } else {\n",
       "        this.send_message('toolbar_button', { name: name });\n",
       "    }\n",
       "};\n",
       "\n",
       "mpl.figure.prototype.toolbar_button_onmouseover = function (tooltip) {\n",
       "    this.message.textContent = tooltip;\n",
       "};\n",
       "mpl.toolbar_items = [[\"Home\", \"Reset original view\", \"fa fa-home icon-home\", \"home\"], [\"Back\", \"Back to previous view\", \"fa fa-arrow-left icon-arrow-left\", \"back\"], [\"Forward\", \"Forward to next view\", \"fa fa-arrow-right icon-arrow-right\", \"forward\"], [\"\", \"\", \"\", \"\"], [\"Pan\", \"Left button pans, Right button zooms\\nx/y fixes axis, CTRL fixes aspect\", \"fa fa-arrows icon-move\", \"pan\"], [\"Zoom\", \"Zoom to rectangle\\nx/y fixes axis, CTRL fixes aspect\", \"fa fa-square-o icon-check-empty\", \"zoom\"], [\"\", \"\", \"\", \"\"], [\"Download\", \"Download plot\", \"fa fa-floppy-o icon-save\", \"download\"]];\n",
       "\n",
       "mpl.extensions = [\"eps\", \"jpeg\", \"pdf\", \"png\", \"ps\", \"raw\", \"svg\", \"tif\"];\n",
       "\n",
       "mpl.default_extension = \"png\";/* global mpl */\n",
       "\n",
       "var comm_websocket_adapter = function (comm) {\n",
       "    // Create a \"websocket\"-like object which calls the given IPython comm\n",
       "    // object with the appropriate methods. Currently this is a non binary\n",
       "    // socket, so there is still some room for performance tuning.\n",
       "    var ws = {};\n",
       "\n",
       "    ws.close = function () {\n",
       "        comm.close();\n",
       "    };\n",
       "    ws.send = function (m) {\n",
       "        //console.log('sending', m);\n",
       "        comm.send(m);\n",
       "    };\n",
       "    // Register the callback with on_msg.\n",
       "    comm.on_msg(function (msg) {\n",
       "        //console.log('receiving', msg['content']['data'], msg);\n",
       "        // Pass the mpl event to the overridden (by mpl) onmessage function.\n",
       "        ws.onmessage(msg['content']['data']);\n",
       "    });\n",
       "    return ws;\n",
       "};\n",
       "\n",
       "mpl.mpl_figure_comm = function (comm, msg) {\n",
       "    // This is the function which gets called when the mpl process\n",
       "    // starts-up an IPython Comm through the \"matplotlib\" channel.\n",
       "\n",
       "    var id = msg.content.data.id;\n",
       "    // Get hold of the div created by the display call when the Comm\n",
       "    // socket was opened in Python.\n",
       "    var element = document.getElementById(id);\n",
       "    var ws_proxy = comm_websocket_adapter(comm);\n",
       "\n",
       "    function ondownload(figure, _format) {\n",
       "        window.open(figure.canvas.toDataURL());\n",
       "    }\n",
       "\n",
       "    var fig = new mpl.figure(id, ws_proxy, ondownload, element);\n",
       "\n",
       "    // Call onopen now - mpl needs it, as it is assuming we've passed it a real\n",
       "    // web socket which is closed, not our websocket->open comm proxy.\n",
       "    ws_proxy.onopen();\n",
       "\n",
       "    fig.parent_element = element;\n",
       "    fig.cell_info = mpl.find_output_cell(\"<div id='\" + id + \"'></div>\");\n",
       "    if (!fig.cell_info) {\n",
       "        console.error('Failed to find cell for figure', id, fig);\n",
       "        return;\n",
       "    }\n",
       "    fig.cell_info[0].output_area.element.one(\n",
       "        'cleared',\n",
       "        { fig: fig },\n",
       "        fig._remove_fig_handler\n",
       "    );\n",
       "};\n",
       "\n",
       "mpl.figure.prototype.handle_close = function (fig, msg) {\n",
       "    var width = fig.canvas.width / fig.ratio;\n",
       "    fig.cell_info[0].output_area.element.off(\n",
       "        'cleared',\n",
       "        fig._remove_fig_handler\n",
       "    );\n",
       "\n",
       "    // Update the output cell to use the data from the current canvas.\n",
       "    fig.push_to_output();\n",
       "    var dataURL = fig.canvas.toDataURL();\n",
       "    // Re-enable the keyboard manager in IPython - without this line, in FF,\n",
       "    // the notebook keyboard shortcuts fail.\n",
       "    IPython.keyboard_manager.enable();\n",
       "    fig.parent_element.innerHTML =\n",
       "        '<img src=\"' + dataURL + '\" width=\"' + width + '\">';\n",
       "    fig.close_ws(fig, msg);\n",
       "};\n",
       "\n",
       "mpl.figure.prototype.close_ws = function (fig, msg) {\n",
       "    fig.send_message('closing', msg);\n",
       "    // fig.ws.close()\n",
       "};\n",
       "\n",
       "mpl.figure.prototype.push_to_output = function (_remove_interactive) {\n",
       "    // Turn the data on the canvas into data in the output cell.\n",
       "    var width = this.canvas.width / this.ratio;\n",
       "    var dataURL = this.canvas.toDataURL();\n",
       "    this.cell_info[1]['text/html'] =\n",
       "        '<img src=\"' + dataURL + '\" width=\"' + width + '\">';\n",
       "};\n",
       "\n",
       "mpl.figure.prototype.updated_canvas_event = function () {\n",
       "    // Tell IPython that the notebook contents must change.\n",
       "    IPython.notebook.set_dirty(true);\n",
       "    this.send_message('ack', {});\n",
       "    var fig = this;\n",
       "    // Wait a second, then push the new image to the DOM so\n",
       "    // that it is saved nicely (might be nice to debounce this).\n",
       "    setTimeout(function () {\n",
       "        fig.push_to_output();\n",
       "    }, 1000);\n",
       "};\n",
       "\n",
       "mpl.figure.prototype._init_toolbar = function () {\n",
       "    var fig = this;\n",
       "\n",
       "    var toolbar = document.createElement('div');\n",
       "    toolbar.classList = 'btn-toolbar';\n",
       "    this.root.appendChild(toolbar);\n",
       "\n",
       "    function on_click_closure(name) {\n",
       "        return function (_event) {\n",
       "            return fig.toolbar_button_onclick(name);\n",
       "        };\n",
       "    }\n",
       "\n",
       "    function on_mouseover_closure(tooltip) {\n",
       "        return function (event) {\n",
       "            if (!event.currentTarget.disabled) {\n",
       "                return fig.toolbar_button_onmouseover(tooltip);\n",
       "            }\n",
       "        };\n",
       "    }\n",
       "\n",
       "    fig.buttons = {};\n",
       "    var buttonGroup = document.createElement('div');\n",
       "    buttonGroup.classList = 'btn-group';\n",
       "    var button;\n",
       "    for (var toolbar_ind in mpl.toolbar_items) {\n",
       "        var name = mpl.toolbar_items[toolbar_ind][0];\n",
       "        var tooltip = mpl.toolbar_items[toolbar_ind][1];\n",
       "        var image = mpl.toolbar_items[toolbar_ind][2];\n",
       "        var method_name = mpl.toolbar_items[toolbar_ind][3];\n",
       "\n",
       "        if (!name) {\n",
       "            /* Instead of a spacer, we start a new button group. */\n",
       "            if (buttonGroup.hasChildNodes()) {\n",
       "                toolbar.appendChild(buttonGroup);\n",
       "            }\n",
       "            buttonGroup = document.createElement('div');\n",
       "            buttonGroup.classList = 'btn-group';\n",
       "            continue;\n",
       "        }\n",
       "\n",
       "        button = fig.buttons[name] = document.createElement('button');\n",
       "        button.classList = 'btn btn-default';\n",
       "        button.href = '#';\n",
       "        button.title = name;\n",
       "        button.innerHTML = '<i class=\"fa ' + image + ' fa-lg\"></i>';\n",
       "        button.addEventListener('click', on_click_closure(method_name));\n",
       "        button.addEventListener('mouseover', on_mouseover_closure(tooltip));\n",
       "        buttonGroup.appendChild(button);\n",
       "    }\n",
       "\n",
       "    if (buttonGroup.hasChildNodes()) {\n",
       "        toolbar.appendChild(buttonGroup);\n",
       "    }\n",
       "\n",
       "    // Add the status bar.\n",
       "    var status_bar = document.createElement('span');\n",
       "    status_bar.classList = 'mpl-message pull-right';\n",
       "    toolbar.appendChild(status_bar);\n",
       "    this.message = status_bar;\n",
       "\n",
       "    // Add the close button to the window.\n",
       "    var buttongrp = document.createElement('div');\n",
       "    buttongrp.classList = 'btn-group inline pull-right';\n",
       "    button = document.createElement('button');\n",
       "    button.classList = 'btn btn-mini btn-primary';\n",
       "    button.href = '#';\n",
       "    button.title = 'Stop Interaction';\n",
       "    button.innerHTML = '<i class=\"fa fa-power-off icon-remove icon-large\"></i>';\n",
       "    button.addEventListener('click', function (_evt) {\n",
       "        fig.handle_close(fig, {});\n",
       "    });\n",
       "    button.addEventListener(\n",
       "        'mouseover',\n",
       "        on_mouseover_closure('Stop Interaction')\n",
       "    );\n",
       "    buttongrp.appendChild(button);\n",
       "    var titlebar = this.root.querySelector('.ui-dialog-titlebar');\n",
       "    titlebar.insertBefore(buttongrp, titlebar.firstChild);\n",
       "};\n",
       "\n",
       "mpl.figure.prototype._remove_fig_handler = function (event) {\n",
       "    var fig = event.data.fig;\n",
       "    fig.close_ws(fig, {});\n",
       "};\n",
       "\n",
       "mpl.figure.prototype._root_extra_style = function (el) {\n",
       "    el.style.boxSizing = 'content-box'; // override notebook setting of border-box.\n",
       "};\n",
       "\n",
       "mpl.figure.prototype._canvas_extra_style = function (el) {\n",
       "    // this is important to make the div 'focusable\n",
       "    el.setAttribute('tabindex', 0);\n",
       "    // reach out to IPython and tell the keyboard manager to turn it's self\n",
       "    // off when our div gets focus\n",
       "\n",
       "    // location in version 3\n",
       "    if (IPython.notebook.keyboard_manager) {\n",
       "        IPython.notebook.keyboard_manager.register_events(el);\n",
       "    } else {\n",
       "        // location in version 2\n",
       "        IPython.keyboard_manager.register_events(el);\n",
       "    }\n",
       "};\n",
       "\n",
       "mpl.figure.prototype._key_event_extra = function (event, _name) {\n",
       "    var manager = IPython.notebook.keyboard_manager;\n",
       "    if (!manager) {\n",
       "        manager = IPython.keyboard_manager;\n",
       "    }\n",
       "\n",
       "    // Check for shift+enter\n",
       "    if (event.shiftKey && event.which === 13) {\n",
       "        this.canvas_div.blur();\n",
       "        // select the cell after this one\n",
       "        var index = IPython.notebook.find_cell_index(this.cell_info[0]);\n",
       "        IPython.notebook.select(index + 1);\n",
       "    }\n",
       "};\n",
       "\n",
       "mpl.figure.prototype.handle_save = function (fig, _msg) {\n",
       "    fig.ondownload(fig, null);\n",
       "};\n",
       "\n",
       "mpl.find_output_cell = function (html_output) {\n",
       "    // Return the cell and output element which can be found *uniquely* in the notebook.\n",
       "    // Note - this is a bit hacky, but it is done because the \"notebook_saving.Notebook\"\n",
       "    // IPython event is triggered only after the cells have been serialised, which for\n",
       "    // our purposes (turning an active figure into a static one), is too late.\n",
       "    var cells = IPython.notebook.get_cells();\n",
       "    var ncells = cells.length;\n",
       "    for (var i = 0; i < ncells; i++) {\n",
       "        var cell = cells[i];\n",
       "        if (cell.cell_type === 'code') {\n",
       "            for (var j = 0; j < cell.output_area.outputs.length; j++) {\n",
       "                var data = cell.output_area.outputs[j];\n",
       "                if (data.data) {\n",
       "                    // IPython >= 3 moved mimebundle to data attribute of output\n",
       "                    data = data.data;\n",
       "                }\n",
       "                if (data['text/html'] === html_output) {\n",
       "                    return [cell, data, j];\n",
       "                }\n",
       "            }\n",
       "        }\n",
       "    }\n",
       "};\n",
       "\n",
       "// Register the function which deals with the matplotlib target/channel.\n",
       "// The kernel may be null if the page has been refreshed.\n",
       "if (IPython.notebook.kernel !== null) {\n",
       "    IPython.notebook.kernel.comm_manager.register_target(\n",
       "        'matplotlib',\n",
       "        mpl.mpl_figure_comm\n",
       "    );\n",
       "}\n"
      ],
      "text/plain": [
       "<IPython.core.display.Javascript object>"
      ]
     },
     "metadata": {},
     "output_type": "display_data"
    },
    {
     "data": {
      "text/html": [
       "<div id='71893391-11c7-453a-af9e-cac8fb6712e3'></div>"
      ],
      "text/plain": [
       "<IPython.core.display.HTML object>"
      ]
     },
     "metadata": {},
     "output_type": "display_data"
    }
   ],
   "source": [
    "%matplotlib notebook\n",
    "import matplotlib.pyplot as plt\n",
    "from mpl_toolkits.mplot3d import Axes3D\n",
    "fig = plt.figure()\n",
    "ax = fig.add_subplot(111, projection='3d')\n",
    "\n",
    "ax.scatter(*geometry[0][1:][0], marker='o', color='green', label='systemA')\n",
    "ax.scatter(*geometry[1][1:][0], marker='o', color='green', label='systemA')\n",
    "\n",
    "for x in range(2, len(geometry)):\n",
    "    ax.scatter(*geometry[x][1:][0], marker='o', color='red', label='systemB')\n",
    "plt.legend()\n",
    "plt.show()\n"
   ]
  },
  {
   "cell_type": "markdown",
   "metadata": {},
   "source": [
    "# Define Params\n",
    "\n",
    "- what level to treat active and envirnoment systems"
   ]
  },
  {
   "cell_type": "code",
   "execution_count": 7,
   "metadata": {},
   "outputs": [],
   "source": [
    "## define params\n",
    "\n",
    "basis = '6-31g' # 'STO-6G'\n",
    "low_level_xc_functional_or_HF = 'lda, vwn' #'hf'\n",
    "high_level_xc_functional = 'b3lyp'\n",
    "\n",
    "low_level_method = 'rhf'\n",
    "high_level_ref = 'rhf'\n",
    "high_level_method = 'mp2'"
   ]
  },
  {
   "cell_type": "code",
   "execution_count": null,
   "metadata": {},
   "outputs": [],
   "source": []
  },
  {
   "cell_type": "code",
   "execution_count": null,
   "metadata": {},
   "outputs": [],
   "source": []
  },
  {
   "cell_type": "markdown",
   "metadata": {},
   "source": [
    "# Build the GLOBAL (full) molecule"
   ]
  },
  {
   "cell_type": "code",
   "execution_count": 8,
   "metadata": {},
   "outputs": [
    {
     "data": {
      "text/plain": [
       "[['H@1', (0.7493682, 0.0, 0.4424329)],\n",
       " ['O@1', (0.0, 0.0, -0.1653507)],\n",
       " ['H#', (-0.7493682, 0.0, 0.4424329)]]"
      ]
     },
     "execution_count": 8,
     "metadata": {},
     "output_type": "execute_result"
    }
   ],
   "source": [
    "full_system_mol = gto.Mole(atom= geometry,\n",
    "                      basis=basis,\n",
    "                       charge=0,\n",
    "                       #spin=0,\n",
    "                      )\n",
    "full_system_mol.build()\n",
    "full_system_mol.atom"
   ]
  },
  {
   "cell_type": "code",
   "execution_count": 9,
   "metadata": {},
   "outputs": [],
   "source": [
    "full_system_mol.verbose = 1\n",
    "full_system_mol.max_memory = 8_000 #MB"
   ]
  },
  {
   "cell_type": "code",
   "execution_count": null,
   "metadata": {},
   "outputs": [],
   "source": []
  },
  {
   "cell_type": "markdown",
   "metadata": {},
   "source": [
    "# Run Supersystem Calculation (cheap method)"
   ]
  },
  {
   "cell_type": "code",
   "execution_count": 10,
   "metadata": {},
   "outputs": [
    {
     "data": {
      "text/plain": [
       "-75.81776977733313"
      ]
     },
     "execution_count": 10,
     "metadata": {},
     "output_type": "execute_result"
    }
   ],
   "source": [
    "full_system_scf = scf.RKS(full_system_mol)\n",
    "full_system_scf.verbose=1\n",
    "full_system_scf.max_memory= 8_000\n",
    "full_system_scf.conv_tol = 1e-6\n",
    "full_system_scf.xc = low_level_xc_functional_or_HF\n",
    "full_system_scf.kernel()"
   ]
  },
  {
   "cell_type": "code",
   "execution_count": 11,
   "metadata": {},
   "outputs": [
    {
     "data": {
      "text/plain": [
       "-75.81776977733313"
      ]
     },
     "execution_count": 11,
     "metadata": {},
     "output_type": "execute_result"
    }
   ],
   "source": [
    "full_system_scf.e_tot"
   ]
  },
  {
   "cell_type": "code",
   "execution_count": 12,
   "metadata": {},
   "outputs": [
    {
     "data": {
      "text/plain": [
       "True"
      ]
     },
     "execution_count": 12,
     "metadata": {},
     "output_type": "execute_result"
    }
   ],
   "source": [
    "full_system_scf.conv_check"
   ]
  },
  {
   "cell_type": "code",
   "execution_count": 13,
   "metadata": {},
   "outputs": [],
   "source": [
    "two_e_term_total = full_system_scf.get_veff()\n",
    "e_xc_total = two_e_term_total.exc\n",
    "v_xc_total = two_e_term_total - full_system_scf.get_j() "
   ]
  },
  {
   "cell_type": "code",
   "execution_count": 14,
   "metadata": {},
   "outputs": [],
   "source": [
    "# full_system_scf.get_fock()\n",
    "# full_system_scf.get_hcore()"
   ]
  },
  {
   "cell_type": "code",
   "execution_count": 15,
   "metadata": {},
   "outputs": [],
   "source": [
    "# full_system_scf.mo_coeff"
   ]
  },
  {
   "cell_type": "code",
   "execution_count": null,
   "metadata": {},
   "outputs": [],
   "source": []
  },
  {
   "cell_type": "markdown",
   "metadata": {},
   "source": [
    "# Run expensive CI calc to compare all results too"
   ]
  },
  {
   "cell_type": "code",
   "execution_count": 121,
   "metadata": {},
   "outputs": [
    {
     "name": "stdout",
     "output_type": "stream",
     "text": [
      "E(UHF-FCI) = -76.120444423631\n"
     ]
    }
   ],
   "source": [
    "HF_scf = scf.RHF(full_system_mol)\n",
    "HF_scf.verbose=1\n",
    "HF_scf.max_memory= 8_000\n",
    "HF_scf.conv_tol = 1e-6\n",
    "HF_scf.kernel()\n",
    "\n",
    "my_fci = fci.FCI(HF_scf).run()\n",
    "print('E(UHF-FCI) = %.12f' % my_fci.e_tot)\n",
    "\n",
    "# myci = ci.CISD(HF_scf).run() # this is UCISD\n",
    "# print('UCISD total energy = ', myci.e_tot)"
   ]
  },
  {
   "cell_type": "code",
   "execution_count": null,
   "metadata": {},
   "outputs": [],
   "source": []
  },
  {
   "cell_type": "markdown",
   "metadata": {},
   "source": [
    "# Localise orbitals"
   ]
  },
  {
   "cell_type": "markdown",
   "metadata": {},
   "source": [
    "### Background\n",
    "\n",
    "The overlap matrix is:\n",
    "\n",
    "$$S_{\\mu \\nu} =  \\int d\\vec{r}_{1} \\phi_{\\mu}(1)^{*}\\phi_{\\nu}(1)$$\n",
    "\n",
    "- $\\phi_{\\mu}$ are basis functions (defined in basis set)\n",
    "\n",
    "\n",
    "The unknown molecular orbitals $\\psi_{i}$ are expanded as a linear expansion of the $K$ known basis functions:\n",
    "\n",
    "$$ \\psi_{i} =  \\sum_{\\mu=1}^{K} C_{\\mu i} \\psi_{\\mu}$$\n",
    "\n",
    "\n",
    "$C$ is a $K \\times K$ matrix of expansion coefficients $C_{\\mu i}$. The columns of $C$ describe the molecular orbitals!"
   ]
  },
  {
   "cell_type": "markdown",
   "metadata": {},
   "source": [
    "We can find the total number of electrons $N$ in the system by:\n",
    "\n",
    "$$ N =  2 \\sum_{a}^{N/2}\\int d\\vec{r}  \\bigg( \\psi_{a}(\\vec{r})^{*} \\psi_{i}(\\vec{r}) \\bigg) =  2 \\sum_{a}^{N/2} 1$$\n",
    "\n",
    "- integral gives probablity of finding electron $a$ over all space (must be 1)\n",
    "- summing over all electrons will give the total number of electrons"
   ]
  },
  {
   "cell_type": "code",
   "execution_count": null,
   "metadata": {},
   "outputs": [],
   "source": []
  },
  {
   "cell_type": "markdown",
   "metadata": {},
   "source": [
    "The charge density has the following definition:\n",
    "\n",
    "$$\\rho(\\vec{r}) = 2 \\sum_{a}^{N/2} \\bigg( \\psi_{a}(\\vec{r})^{*} \\psi_{i}(\\vec{r}) \\bigg)$$\n",
    "\n",
    "- re-write using definition of $\\psi_{i}=  \\sum_{\\mu=1}^{K} C_{\\mu i} \\psi_{\\mu}$\n",
    "\n",
    "$$\\rho(\\vec{r}) = 2 \\sum_{a}^{N/2} \\Bigg( \\bigg[ \\sum_{\\nu}^{K} C_{\\nu a}^{*} \\phi_{\\nu}(\\vec{r})^{*} \\bigg] \\bigg[ \\sum_{\\mu}^{K} C_{\\mu a}\\phi_{\\mu}(\\vec{r}) \\bigg] \\Bigg)$$\n",
    "\n",
    "- move things around\n",
    "\n",
    "$$\\rho(\\vec{r}) = \\sum_{\\nu}^{K} \\sum_{\\mu}^{K} \\Big( 2 \\sum_{a}^{N/2} C_{\\mu a} C_{\\nu a}^{*} \\Big) \\phi_{\\mu}(\\vec{r}) \\phi_{\\nu}(\\vec{r})^{*} $$\n",
    "\n",
    "- which is \n",
    "\n",
    "$$\\rho(\\vec{r}) = \\sum_{\\mu, \\nu}^{K} P_{\\mu \\nu} \\phi_{\\mu}(\\vec{r}) \\phi_{\\nu}(\\vec{r})^{*} $$\n",
    "\n",
    "\n",
    "- $P_{\\mu \\nu}$ is known as the density matrix and is:\n",
    "\n",
    "$$P_{\\mu \\nu} = 2 \\sum_{a}^{N/2} C_{\\mu a} C_{\\nu a}^{*}$$"
   ]
  },
  {
   "cell_type": "code",
   "execution_count": null,
   "metadata": {},
   "outputs": [],
   "source": []
  },
  {
   "cell_type": "markdown",
   "metadata": {},
   "source": [
    "Therefore we can also find the total number of electrons in the system by:\n",
    "\n",
    "$$ N =  2 \\sum_{a}^{N/2}\\int d\\vec{r}  \\bigg( \\psi_{a}(\\vec{r})^{*} \\psi_{i}(\\vec{r}) \\bigg) =  \\sum_{\\nu}^{K} \\sum_{\\mu}^{K} \\Big( 2 \\sum_{a}^{N/2} C_{\\mu a} C_{\\nu a}^{*} \\Big) \\int d\\vec{r} \\phi_{\\mu}(\\vec{r})  \\phi_{\\nu}(\\vec{r})^{*}$$\n",
    "\n",
    "- This is simply:\n",
    "\n",
    "$$N =  \\sum_{\\nu}^{K} \\sum_{\\mu}^{K} P_{\\mu \\nu} S_{\\nu \\mu}$$\n",
    "\n",
    "- in an orthognal basis $S$ should be the identity matrix (as it is overlap of matrix of orthogonal orbs), SO WE GET:\n",
    "\n",
    "$$N =  \\sum_{\\nu}^{K} \\sum_{\\mu}^{K} P_{\\mu \\nu} S_{\\nu \\mu} = \\sum_{\\mu}^{K} PS_{\\mu \\mu} = \\mathcal{Tr}(PS)$$"
   ]
  },
  {
   "cell_type": "code",
   "execution_count": 17,
   "metadata": {},
   "outputs": [
    {
     "name": "stdout",
     "output_type": "stream",
     "text": [
      "[[ 1.  1.  0.  0.  0.  0.  0.  0.  0.  0.  0.  0.  0.]\n",
      " [ 1.  1.  0.  0.  1.  0.  0.  0.  0.  0.  0.  0.  1.]\n",
      " [ 0.  0.  1.  0.  0.  0.  0. -0.  0.  0.  0.  0.  0.]\n",
      " [ 0.  0.  0.  1.  1.  0.  0. -0.  0.  0.  0.  0.  0.]\n",
      " [ 0.  1.  0.  1.  1.  0.  0.  0.  0.  0.  0.  0.  1.]\n",
      " [ 0.  0.  0.  0.  0.  1.  0.  0.  1.  0.  0. -0. -0.]\n",
      " [ 0.  0.  0.  0.  0.  0.  1.  0.  0.  1.  0.  0.  0.]\n",
      " [ 0.  0. -0. -0.  0.  0.  0.  1.  0.  0.  1.  0.  0.]\n",
      " [ 0.  0.  0.  0.  0.  1.  0.  0.  1.  0.  0. -0. -0.]\n",
      " [ 0.  0.  0.  0.  0.  0.  1.  0.  0.  1.  0.  0.  0.]\n",
      " [ 0.  0.  0.  0.  0.  0.  0.  1.  0.  0.  1.  0.  0.]\n",
      " [ 0.  0.  0.  0.  0. -0.  0.  0. -0.  0.  0.  1.  1.]\n",
      " [ 0.  1.  0.  0.  1. -0.  0.  0. -0.  0.  0.  1.  1.]]\n"
     ]
    }
   ],
   "source": [
    "S_mat = full_system_scf.get_ovlp()\n",
    "print(np.around(S_mat))"
   ]
  },
  {
   "cell_type": "markdown",
   "metadata": {},
   "source": [
    "- One can interpret $ PS_{\\mu \\mu}$ in the above equation as the number of electrons associated with $ \\phi_{\\mu}$\n",
    "- This is a **Mulliken population analysis**"
   ]
  },
  {
   "cell_type": "markdown",
   "metadata": {},
   "source": []
  },
  {
   "cell_type": "markdown",
   "metadata": {},
   "source": [
    "# Orbital Localization!"
   ]
  },
  {
   "cell_type": "code",
   "execution_count": 18,
   "metadata": {},
   "outputs": [],
   "source": [
    "from pyscf import lo"
   ]
  },
  {
   "cell_type": "markdown",
   "metadata": {},
   "source": [
    "A molecular orbital is usually delocalized, i.e. it has non-negligible amplitude over the whole system rather than only around some atom(s) or bond(s). However, one can choose a unitary rotation "
   ]
  },
  {
   "cell_type": "markdown",
   "metadata": {},
   "source": [
    "- When we perform a SCF calculation, one gets an optimized C matrix\n",
    "    - $C$ is a $K \\times K$ matrix of expansion coefficients $C_{\\mu i}$\n",
    "    - The columns of $C$ describe the molecular orbitals!\n",
    "    - MO i: $ \\psi_{i} =  \\sum_{\\mu=1}^{K} C_{\\mu i} \\psi_{\\mu}$\n",
    "    \n",
    "    \n",
    "- These molecular orbitals are usually **delocalized**\n",
    "    - non-negligible amplitude over the whole system, rather than only around some atom(s) or bond(s)\n",
    "\n",
    "- But we know in QM that a given basis choice is NOT unique\n",
    "\n",
    "\n",
    "- We can therefore perform a unitary rotation on molecular orbitals\n",
    "\n",
    "$$ \\psi_{i} U_{rot} =  \\Big( \\sum_{\\mu=1}^{K} C_{\\mu i} \\psi_{\\mu} \\Big) U_{rot} = \\psi_{i}^{new}$$\n",
    "    \n",
    "    \n",
    "The idea is to use a rotation such that the resulting orbitals $\\psi_{i}^{new}$ are as spatially localized as possible. \n",
    "\n",
    "\n",
    "The Pipek-Mezey (PM) [localization](https://notendur.hi.is/hj/papers/paperPipekmezey8.pdf) **maximizes the population charges on the atoms**:\n",
    "\n",
    "$$ f (U_{rot}) = \\sum_{A}^{N_{atoms}} \\Bigg( Z_{A} -  \\sum_{\\mu \\text{ on atom } A} PS_{\\mu \\mu} \\Bigg)$$"
   ]
  },
  {
   "cell_type": "code",
   "execution_count": 19,
   "metadata": {},
   "outputs": [],
   "source": [
    "# Take occupied orbitals of global system calc\n",
    "occ_orbs = full_system_scf.mo_coeff[:,full_system_scf.mo_occ>0]\n",
    "\n",
    "# run localization scheme\n",
    "PM = lo.PipekMezey(full_system_mol, occ_orbs)\n",
    "PM.pop_method = 'mulliken' # 'meta-lowdin', 'iao', 'becke'\n",
    "C_mull = PM.kernel()\n",
    "\n",
    "C_loc_occ = PM.mo_coeff # <-- these are the NEW C matrix (where orbitals are localized to atoms)"
   ]
  },
  {
   "cell_type": "code",
   "execution_count": 20,
   "metadata": {},
   "outputs": [
    {
     "data": {
      "text/plain": [
       "True"
      ]
     },
     "execution_count": 20,
     "metadata": {},
     "output_type": "execute_result"
    }
   ],
   "source": [
    "np.array_equal(C_mull, C_loc_occ)"
   ]
  },
  {
   "cell_type": "code",
   "execution_count": null,
   "metadata": {},
   "outputs": [],
   "source": []
  },
  {
   "cell_type": "code",
   "execution_count": 21,
   "metadata": {},
   "outputs": [
    {
     "name": "stdout",
     "output_type": "stream",
     "text": [
      "True\n"
     ]
    }
   ],
   "source": [
    "## check number of electrons is still the same \n",
    "# should be the same after change of basis has been done\n",
    "\n",
    "dm_localised = 2* C_loc_occ @ C_loc_occ.conj().T\n",
    "S = full_system_scf.get_ovlp()\n",
    "\n",
    "print(np.isclose(np.trace(dm_localised@S), full_system_mol.nelectron))"
   ]
  },
  {
   "cell_type": "code",
   "execution_count": null,
   "metadata": {},
   "outputs": [],
   "source": []
  },
  {
   "cell_type": "markdown",
   "metadata": {},
   "source": [
    "# Choose active and environment systems"
   ]
  },
  {
   "cell_type": "markdown",
   "metadata": {},
   "source": [
    "## METHOD 1 "
   ]
  },
  {
   "cell_type": "markdown",
   "metadata": {},
   "source": [
    "- Given optimized $C$ coefficient matrix\n",
    "    - which has been rotated to localize orbitals\n",
    "    - (used to build localized density matrix)\n",
    "\n",
    "\n",
    "- **Look through basis functions $\\phi_{\\mu}$ of the ACTIVE atoms**\n",
    "    \n",
    "    \n",
    "- check the mulliken charge // mulliken population of the orbital\n",
    "    - if above a certain threshold associate it to active system\n",
    "    - otherwise put in the environment"
   ]
  },
  {
   "cell_type": "code",
   "execution_count": 22,
   "metadata": {},
   "outputs": [
    {
     "data": {
      "text/plain": [
       "[['H@1', (0.7493682, 0.0, 0.4424329)],\n",
       " ['O@1', (0.0, 0.0, -0.1653507)],\n",
       " ['H#', (-0.7493682, 0.0, 0.4424329)]]"
      ]
     },
     "execution_count": 22,
     "metadata": {},
     "output_type": "execute_result"
    }
   ],
   "source": [
    "## pyscf notes\n",
    "\n",
    "# order of atoms in geometry is important\n",
    "full_system_mol.atom"
   ]
  },
  {
   "cell_type": "code",
   "execution_count": 23,
   "metadata": {},
   "outputs": [
    {
     "data": {
      "text/plain": [
       "array([[ 0,  2,  0,  2],\n",
       "       [ 2,  7,  2, 11],\n",
       "       [ 7,  9, 11, 13]])"
      ]
     },
     "execution_count": 23,
     "metadata": {},
     "output_type": "execute_result"
    }
   ],
   "source": [
    "# aoslice_by_atom gives a matrix:\n",
    "full_system_mol.aoslice_by_atom()\n",
    "\n",
    "# where rows are defined by atoms (given by order in full_system_mol.atom - see cell above)\n",
    "# the 3rd column gives first basis function index for THAT atom\n",
    "# the last(4th) column gives the last basis function index for THAT atom"
   ]
  },
  {
   "cell_type": "markdown",
   "metadata": {},
   "source": [
    "Therefore loop over basis function centered on the active atoms and find mulliken charge // population"
   ]
  },
  {
   "cell_type": "code",
   "execution_count": 24,
   "metadata": {},
   "outputs": [
    {
     "name": "stdout",
     "output_type": "stream",
     "text": [
      "H@1\n",
      "0.5028551970118533\n",
      "0.135083142755086\n",
      "###\n",
      "O@1\n",
      "1.9963265116276476\n",
      "0.8985396797629249\n",
      "1.012041265867832\n",
      "0.8271054584253396\n",
      "1.152050575365167\n",
      "0.940210120484066\n",
      "0.4071510907375346\n",
      "0.8479494246348335\n",
      "0.6427491935608438\n",
      "###\n"
     ]
    },
    {
     "data": {
      "text/plain": [
       "[2]"
      ]
     },
     "execution_count": 24,
     "metadata": {},
     "output_type": "execute_result"
    }
   ],
   "source": [
    "# https://pubs.acs.org/doi/pdf/10.1021/ct300544e\n",
    "# paper states there are 5 active orbs... where mulliken_population threshold set to 0.4\n",
    "# here I get the result if threshold set to 0.9\n",
    "\n",
    "# NOTE in molecule the active atoms must be listed FIRST!\n",
    "\n",
    "THRESHOLD = 1.5\n",
    "AO_slice_matrix = full_system_mol.aoslice_by_atom()\n",
    "N_active_atoms = 2\n",
    "\n",
    "active_ao_ind=[]\n",
    "\n",
    "PS_matrix = dm_localised @ S\n",
    "atomic_charges_list = full_system_mol.atom_charges()\n",
    "for atm_i, atm_str in enumerate([atom_str for atom_str, _ in full_system_mol.atom][:N_active_atoms]):\n",
    "    slice_ind = list(range(AO_slice_matrix[atm_i, 2], AO_slice_matrix[atm_i, 3]))\n",
    "    \n",
    "    print(atm_str)\n",
    "    qA = atomic_charges_list[atm_i] #atomic charge of atom_i\n",
    "    for mu in slice_ind:\n",
    "        mulliken_charge = qA - PS_matrix[mu,mu]  # mulliken charge of ao centred on atom_i\n",
    "        mulliken_population = PS_matrix[mu,mu]  # mulliken pop of ao centred on atom_i\n",
    "#         print(mulliken_charge)\n",
    "        print(mulliken_population)\n",
    "        if mulliken_population>THRESHOLD: ### <--- not sure about this THRESHOLD\n",
    "            active_ao_ind.append(mu)\n",
    "        \n",
    "    print('###')\n",
    "\n",
    "active_ao_ind"
   ]
  },
  {
   "cell_type": "code",
   "execution_count": 25,
   "metadata": {},
   "outputs": [
    {
     "data": {
      "text/plain": [
       "[0, 1, 3, 4]"
      ]
     },
     "execution_count": 25,
     "metadata": {},
     "output_type": "execute_result"
    }
   ],
   "source": [
    "# assign the rest of the missing indices to the environment\n",
    "\n",
    "enviro_ao_ind = [ind for ind in range(C_loc_occ.shape[1]) if ind not in active_ao_ind]\n",
    "enviro_ao_ind"
   ]
  },
  {
   "cell_type": "code",
   "execution_count": null,
   "metadata": {},
   "outputs": [],
   "source": []
  },
  {
   "cell_type": "code",
   "execution_count": 26,
   "metadata": {},
   "outputs": [
    {
     "data": {
      "text/plain": [
       "11"
      ]
     },
     "execution_count": 26,
     "metadata": {},
     "output_type": "execute_result"
    }
   ],
   "source": [
    "full_system_mol.aoslice_nr_by_atom()[1][3]"
   ]
  },
  {
   "cell_type": "markdown",
   "metadata": {},
   "source": [
    "## METHOD 2 - SPADE"
   ]
  },
  {
   "cell_type": "code",
   "execution_count": 27,
   "metadata": {},
   "outputs": [],
   "source": [
    "###### SPADE\n",
    "\n",
    "# Take occupied orbitals of global system calc\n",
    "occ_orbs = full_system_scf.mo_coeff[:,full_system_scf.mo_occ>0]\n",
    "\n",
    "\n",
    "N_active_AO = AO_slice_matrix[N_active_atoms-1][3]  # find max AO index for active atoms (neg 1 as python indexs from 0)\n",
    "\n",
    "orthogonal_orbitals = occ_orbs[:N_active_AO, :] # take active rows and all columns\n",
    "\n",
    "u, singular_values, rotation_matrix = np.linalg.svd(orthogonal_orbitals, full_matrices=True)\n",
    "\n",
    "# find where largest step change \n",
    "delta_s = [(i, (singular_values[i] - singular_values[i+1] )) for i in range(len(singular_values) - 1)] # contains (index, delta_s)\n",
    "n_act_mos = max(delta_s, key=lambda x: x[0])[0] + 1 # finds index where largest step change is! (adds 1 for python indexing)\n",
    "n_env_mos = len(singular_values) - n_act_mos\n",
    "\n",
    "###\n",
    "# next rotate orbtials using SVD rotation - selecting active and enironment portions"
   ]
  },
  {
   "cell_type": "code",
   "execution_count": null,
   "metadata": {},
   "outputs": [],
   "source": []
  },
  {
   "cell_type": "code",
   "execution_count": 28,
   "metadata": {},
   "outputs": [
    {
     "name": "stdout",
     "output_type": "stream",
     "text": [
      "number of e- in system = 10\n",
      "number of e- in subsystems: 10.000000000000002\n"
     ]
    }
   ],
   "source": [
    "localization = 'SPADE'\n",
    "# localization = 'PM_loc'\n",
    "\n",
    "if localization == 'SPADE':\n",
    "    \n",
    "    # next rotate occupied orbitals of global system calc (NOT localized)\n",
    "    # using SVD rotation - selecting active and enironment portions\n",
    "    \n",
    "    act_orbitals = occ_orbs @ rotation_matrix.T[:, :n_act_mos]\n",
    "    env_orbitals = occ_orbs @ rotation_matrix.T[:, n_act_mos:]\n",
    "    \n",
    "    GLOBAL_rotated_orbitals = occ_orbs @ rotation_matrix.T\n",
    "    \n",
    "    dm_active =  2 * act_orbitals @ act_orbitals.T\n",
    "    dm_enviro =  2 * env_orbitals @ env_orbitals.T\n",
    "    \n",
    "    active_ao_ind = list(range(n_act_mos))\n",
    "    enviro_ao_ind = list(range(n_act_mos, len(singular_values)))\n",
    "    \n",
    "elif  localization == 'PM_loc':\n",
    "    \n",
    "    # take active and envirnoment orbs from LOCALIZED ORBITALS\n",
    "    act_orbitals = C_loc_occ[:, active_ao_ind]\n",
    "    env_orbitals = C_loc_occ[:, enviro_ao_ind]\n",
    "    \n",
    "    GLOBAL_rotated_orbitals = C_loc_occ\n",
    "    \n",
    "    n_act_mos = len(active_ao_ind)\n",
    "    n_env_mos = len(enviro_ao_ind) # full_system_mol.aoslice_by_atom()[-1,-1] - n_act_mos\n",
    "\n",
    "    dm_active =  2 * act_orbitals @ act_orbitals.T\n",
    "    dm_enviro =  2 * env_orbitals @ env_orbitals.T\n",
    "    \n",
    "print(f'number of e- in system = {full_system_mol.nelectron}')\n",
    "print('number of e- in subsystems:', np.trace(dm_active@S) + np.trace(dm_enviro@S))"
   ]
  },
  {
   "cell_type": "code",
   "execution_count": null,
   "metadata": {},
   "outputs": [],
   "source": []
  },
  {
   "cell_type": "code",
   "execution_count": 29,
   "metadata": {},
   "outputs": [
    {
     "data": {
      "text/plain": [
       "True"
      ]
     },
     "execution_count": 29,
     "metadata": {},
     "output_type": "execute_result"
    }
   ],
   "source": [
    "# checking denisty matrix parition makes sense:\n",
    "\n",
    "# gamma_rotated_FULL = gamma_act_rotated + gamma_env_rotated\n",
    "dm_act_and_env = 2* GLOBAL_rotated_orbitals@ GLOBAL_rotated_orbitals.conj().T\n",
    "np.allclose(dm_active+dm_enviro, dm_act_and_env)"
   ]
  },
  {
   "cell_type": "code",
   "execution_count": null,
   "metadata": {},
   "outputs": [],
   "source": []
  },
  {
   "cell_type": "markdown",
   "metadata": {},
   "source": [
    "# Save orbitals to view"
   ]
  },
  {
   "cell_type": "markdown",
   "metadata": {},
   "source": [
    "Save localized orbitals as molden file\n",
    "\n",
    "(allowing MOs to be viewed, to see if localization makes sense)\n",
    "\n",
    "open with: https://avogadro.cc/"
   ]
  },
  {
   "cell_type": "code",
   "execution_count": 30,
   "metadata": {},
   "outputs": [],
   "source": [
    "with open('Ethanol_LOC.molden', 'w') as outfile:\n",
    "    tools.molden.header(full_system_mol, outfile)\n",
    "    tools.molden.orbital_coeff(\n",
    "                        full_system_mol,\n",
    "                         outfile, \n",
    "                         act_orbitals, # <- active orbitals!\n",
    "                         ene=full_system_scf.mo_energy[np.array(active_ao_ind)],\n",
    "                         occ=full_system_scf.mo_occ[np.array(active_ao_ind)])"
   ]
  },
  {
   "cell_type": "code",
   "execution_count": null,
   "metadata": {},
   "outputs": [],
   "source": []
  },
  {
   "cell_type": "code",
   "execution_count": 31,
   "metadata": {},
   "outputs": [],
   "source": [
    "########################## mulliken pop check START"
   ]
  },
  {
   "cell_type": "code",
   "execution_count": 32,
   "metadata": {},
   "outputs": [
    {
     "data": {
      "text/plain": [
       "array([0.5028552 , 0.13508314, 1.99632651, 0.89853968, 1.01204127,\n",
       "       0.82710546, 1.15205058, 0.94021012, 0.40715109, 0.84794942,\n",
       "       0.64274919, 0.5028552 , 0.13508314])"
      ]
     },
     "execution_count": 32,
     "metadata": {},
     "output_type": "execute_result"
    }
   ],
   "source": [
    "# https://github.com/pyscf/pyscf/blob/master/pyscf/scf/hf.py\n",
    "\n",
    "Mulliken_population = np.einsum('ij,ji->i', dm_localised, S).real\n",
    "Mulliken_population"
   ]
  },
  {
   "cell_type": "code",
   "execution_count": 33,
   "metadata": {},
   "outputs": [
    {
     "data": {
      "text/plain": [
       "array([ 0.36206166, -0.72412332,  0.36206166])"
      ]
     },
     "execution_count": 33,
     "metadata": {},
     "output_type": "execute_result"
    }
   ],
   "source": [
    "mulliken_charges = np.zeros(full_system_mol.natm)\n",
    "for i, s in enumerate(full_system_mol.ao_labels(fmt=None)):\n",
    "    mulliken_charges[s[0]] += Mulliken_population[i]\n",
    "mulliken_charges = full_system_mol.atom_charges() - mulliken_charges\n",
    "mulliken_charges"
   ]
  },
  {
   "cell_type": "code",
   "execution_count": 34,
   "metadata": {},
   "outputs": [
    {
     "name": "stdout",
     "output_type": "stream",
     "text": [
      " ** Mulliken pop  **\n",
      "pop of  0 H@1 1s        0.50286\n",
      "pop of  0 H@1 2s        0.13508\n",
      "pop of  1 O@1 1s        1.99633\n",
      "pop of  1 O@1 2s        0.89854\n",
      "pop of  1 O@1 3s        1.01204\n",
      "pop of  1 O@1 2px       0.82711\n",
      "pop of  1 O@1 2py       1.15205\n",
      "pop of  1 O@1 2pz       0.94021\n",
      "pop of  1 O@1 3px       0.40715\n",
      "pop of  1 O@1 3py       0.84795\n",
      "pop of  1 O@1 3pz       0.64275\n",
      "pop of  2 H# 1s        0.50286\n",
      "pop of  2 H# 2s        0.13508\n",
      " ** Mulliken atomic charges  **\n",
      "charge of  0H@1 =      0.36206\n",
      "charge of  1O@1 =     -0.72412\n",
      "charge of  2H# =      0.36206\n"
     ]
    },
    {
     "data": {
      "text/plain": [
       "(array([0.5028552 , 0.13508314, 1.99632651, 0.89853968, 1.01204127,\n",
       "        0.82710546, 1.15205058, 0.94021012, 0.40715109, 0.84794942,\n",
       "        0.64274919, 0.5028552 , 0.13508314]),\n",
       " array([ 0.36206166, -0.72412332,  0.36206166]))"
      ]
     },
     "execution_count": 34,
     "metadata": {},
     "output_type": "execute_result"
    }
   ],
   "source": [
    "full_system_mol.mulliken_pop(dm=dm_localised)"
   ]
  },
  {
   "cell_type": "code",
   "execution_count": 35,
   "metadata": {},
   "outputs": [],
   "source": [
    "########################z## mulliken pop check END"
   ]
  },
  {
   "cell_type": "code",
   "execution_count": null,
   "metadata": {},
   "outputs": [],
   "source": []
  },
  {
   "cell_type": "markdown",
   "metadata": {},
   "source": [
    "# Embedding"
   ]
  },
  {
   "cell_type": "code",
   "execution_count": 36,
   "metadata": {},
   "outputs": [
    {
     "data": {
      "text/plain": [
       "-81.21036096723185"
      ]
     },
     "execution_count": 36,
     "metadata": {},
     "output_type": "execute_result"
    }
   ],
   "source": [
    "#It seems that PySCF lumps J and K in the J array \n",
    "J_act = full_system_scf.get_j(dm = dm_active)\n",
    "K_act = np.zeros_like(J_act)\n",
    "two_e_term_act =  full_system_scf.get_veff(dm=dm_active)\n",
    "e_xc_act = two_e_term_act.exc\n",
    "v_xc_act = two_e_term_act - J_act \n",
    "\n",
    "E_act = np.einsum('ij, ij', dm_active, full_system_scf.get_hcore() + J_act/2) + e_xc_act\n",
    "E_act"
   ]
  },
  {
   "cell_type": "code",
   "execution_count": 37,
   "metadata": {},
   "outputs": [
    {
     "data": {
      "text/plain": [
       "-81.21036096723186"
      ]
     },
     "execution_count": 37,
     "metadata": {},
     "output_type": "execute_result"
    }
   ],
   "source": [
    "full_system_scf.energy_elec(dm=dm_active)[0]"
   ]
  },
  {
   "cell_type": "code",
   "execution_count": null,
   "metadata": {},
   "outputs": [],
   "source": []
  },
  {
   "cell_type": "code",
   "execution_count": 38,
   "metadata": {},
   "outputs": [
    {
     "data": {
      "text/plain": [
       "-14.342307478731687"
      ]
     },
     "execution_count": 38,
     "metadata": {},
     "output_type": "execute_result"
    }
   ],
   "source": [
    "#It seems that PySCF lumps J and K in the J array \n",
    "J_env = full_system_scf.get_j(dm = dm_enviro)\n",
    "K_env = np.zeros_like(J_env)\n",
    "two_e_term_env =  full_system_scf.get_veff(dm=dm_enviro)\n",
    "e_xc_env = two_e_term_env.exc\n",
    "v_xc_env = two_e_term_env - J_env \n",
    "\n",
    "E_env = np.einsum('ij, ij', dm_enviro, full_system_scf.get_hcore() + J_env/2) + e_xc_env\n",
    "E_env"
   ]
  },
  {
   "cell_type": "code",
   "execution_count": 39,
   "metadata": {},
   "outputs": [
    {
     "data": {
      "text/plain": [
       "-14.342307478731684"
      ]
     },
     "execution_count": 39,
     "metadata": {},
     "output_type": "execute_result"
    }
   ],
   "source": [
    "full_system_scf.energy_elec(dm=dm_enviro)[0]"
   ]
  },
  {
   "cell_type": "code",
   "execution_count": null,
   "metadata": {},
   "outputs": [],
   "source": []
  },
  {
   "cell_type": "code",
   "execution_count": 40,
   "metadata": {},
   "outputs": [],
   "source": [
    "j_cross = 0.5 * (matrix_dot(dm_active, J_env) + matrix_dot(dm_enviro, J_act))\n",
    "k_cross = 0.0"
   ]
  },
  {
   "cell_type": "code",
   "execution_count": 41,
   "metadata": {},
   "outputs": [],
   "source": [
    "xc_cross = e_xc_total - e_xc_act - e_xc_env\n",
    "two_e_cross = j_cross + k_cross + xc_cross"
   ]
  },
  {
   "cell_type": "code",
   "execution_count": null,
   "metadata": {},
   "outputs": [],
   "source": []
  },
  {
   "cell_type": "markdown",
   "metadata": {},
   "source": [
    "# Define projection method"
   ]
  },
  {
   "cell_type": "code",
   "execution_count": 42,
   "metadata": {},
   "outputs": [],
   "source": [
    "projector_method = 'huzinaga'\n",
    "# projector_method = 'mu_shfit'\n",
    "\n",
    "if projector_method == 'huzinaga':\n",
    "    Fock = full_system_scf.get_hcore() + full_system_scf.get_veff(dm=dm_act_and_env)\n",
    "    F_gammaB_S = Fock @ dm_enviro @ S\n",
    "    projector = -0.5 * (F_gammaB_S + F_gammaB_S.T)\n",
    "elif projector_method == 'mu_shfit':\n",
    "    mu = 1e6\n",
    "    projector = mu * (S @ dm_enviro  @ S)\n",
    "else:\n",
    "    raise ValueError(f'Unknown projection method {projector_method}')\n",
    "\n"
   ]
  },
  {
   "cell_type": "markdown",
   "metadata": {},
   "source": [
    "# Define the embbed matrix"
   ]
  },
  {
   "cell_type": "markdown",
   "metadata": {},
   "source": [
    "$$h^{A_{\\text{act}} \\text{ in } B_{\\text{env}}} = h^{\\text{core}} + v^{\\text{embed}}$$\n",
    "\n",
    "$$v^{\\text{embed}} = g[\\gamma^{A_{\\text{act}}} + \\gamma^{B_{\\text{env}}} ] - g[\\gamma^{A_{\\text{act}}}] + P_{\\text{projector}}$$"
   ]
  },
  {
   "cell_type": "code",
   "execution_count": 43,
   "metadata": {},
   "outputs": [],
   "source": [
    "# define the embedded term\n",
    "g_A_and_B = full_system_scf.get_veff(dm=dm_active+dm_enviro)\n",
    "\n",
    "g_A = full_system_scf.get_veff(dm=dm_active)\n",
    "\n",
    "v_emb = g_A_and_B - g_A + projector"
   ]
  },
  {
   "cell_type": "code",
   "execution_count": 44,
   "metadata": {},
   "outputs": [],
   "source": [
    "# PsiEmbed definition\n",
    "v_emb2 = (J_env + v_xc_total - v_xc_act + projector)"
   ]
  },
  {
   "cell_type": "code",
   "execution_count": 45,
   "metadata": {},
   "outputs": [
    {
     "data": {
      "text/plain": [
       "True"
      ]
     },
     "execution_count": 45,
     "metadata": {},
     "output_type": "execute_result"
    }
   ],
   "source": [
    "# check these are the SAME!\n",
    "np.allclose(v_emb, v_emb2)"
   ]
  },
  {
   "cell_type": "markdown",
   "metadata": {},
   "source": [
    "note $P$ is a projection operator that **enforces intersubsystem orbital orthogonality.**"
   ]
  },
  {
   "cell_type": "code",
   "execution_count": null,
   "metadata": {},
   "outputs": [],
   "source": []
  },
  {
   "cell_type": "markdown",
   "metadata": {},
   "source": [
    "# Next find optimized $\\gamma^{A_{\\text{act}}}_\\text{embedded}$\n",
    "\n",
    "- this is done by running SCF calc using embedded $h^{A_{\\text{act}} \\text{ in } B_{\\text{env}}}$"
   ]
  },
  {
   "cell_type": "markdown",
   "metadata": {},
   "source": [
    "Steps:\n",
    "\n",
    "1. Define full molecular system\n",
    "2. Change the number of electrons to be the same number as active system allows\n",
    "3. run SCF to get optimized electron density!"
   ]
  },
  {
   "cell_type": "code",
   "execution_count": null,
   "metadata": {},
   "outputs": [],
   "source": []
  },
  {
   "cell_type": "markdown",
   "metadata": {},
   "source": [
    "TODO: Could maybe calculate $\\gamma^{A_{\\text{act}}}_\\text{embedded}$ using high level method!"
   ]
  },
  {
   "cell_type": "code",
   "execution_count": null,
   "metadata": {},
   "outputs": [],
   "source": []
  },
  {
   "cell_type": "code",
   "execution_count": 46,
   "metadata": {},
   "outputs": [
    {
     "data": {
      "text/plain": [
       "-61.314405542954304"
      ]
     },
     "execution_count": 46,
     "metadata": {},
     "output_type": "execute_result"
    }
   ],
   "source": [
    "full_system_mol_EMBEDDED = gto.Mole(atom= geometry,\n",
    "                      basis=basis,\n",
    "                       charge=0,\n",
    "                       #spin=0,\n",
    "                      )\n",
    "full_system_mol_EMBEDDED.build()\n",
    "\n",
    "# RE-DEFINE number of electrons in system\n",
    "full_system_mol_EMBEDDED.nelectron = 2*len(active_ao_ind)\n",
    "\n",
    "EMBEDDED_full_system_scf = scf.RKS(full_system_mol_EMBEDDED)\n",
    "EMBEDDED_full_system_scf.verbose=1\n",
    "EMBEDDED_full_system_scf.max_memory= 8_000\n",
    "EMBEDDED_full_system_scf.conv_tol = 1e-6\n",
    "EMBEDDED_full_system_scf.xc = low_level_xc_functional_or_HF\n",
    "\n",
    "h_core = EMBEDDED_full_system_scf.get_hcore()\n",
    "\n",
    "# overwrite h_core to include embedding term!!!!\n",
    "EMBEDDED_full_system_scf.get_hcore = lambda *args: v_emb + h_core\n",
    "\n",
    "\n",
    "EMBEDDED_full_system_scf.kernel()"
   ]
  },
  {
   "cell_type": "code",
   "execution_count": 47,
   "metadata": {},
   "outputs": [
    {
     "data": {
      "text/plain": [
       "True"
      ]
     },
     "execution_count": 47,
     "metadata": {},
     "output_type": "execute_result"
    }
   ],
   "source": [
    "EMBEDDED_full_system_scf.conv_check"
   ]
  },
  {
   "cell_type": "markdown",
   "metadata": {},
   "source": [
    "# Get optimized $\\gamma^{A_{\\text{act}}}_\\text{embedded}$"
   ]
  },
  {
   "cell_type": "code",
   "execution_count": 48,
   "metadata": {},
   "outputs": [
    {
     "data": {
      "text/plain": [
       "True"
      ]
     },
     "execution_count": 48,
     "metadata": {},
     "output_type": "execute_result"
    }
   ],
   "source": [
    "\n",
    "\n",
    "EMBEDDED_occ_orbs = EMBEDDED_full_system_scf.mo_coeff[:,EMBEDDED_full_system_scf.mo_occ>0]\n",
    "\n",
    "# optimized embedded denisty matrix\n",
    "density_emb = 2 * EMBEDDED_occ_orbs @ EMBEDDED_occ_orbs.conj().T\n",
    "\n",
    "## check number of electrons makes sense:\n",
    "np.isclose(np.trace(density_emb@S), 2*len(active_ao_ind))"
   ]
  },
  {
   "cell_type": "code",
   "execution_count": null,
   "metadata": {},
   "outputs": [],
   "source": []
  },
  {
   "cell_type": "markdown",
   "metadata": {},
   "source": [
    "# Calculate Energy\n",
    "\n",
    "The energy can be found according too:\n",
    "\n",
    "$$E[\\gamma^{A_{\\text{act}}}_\\text{embedded}; \\; \\; \\gamma^{A_{\\text{act}}},\\mathcal{E}[\\gamma^{A_{\\text{act}}}_\\text{embedded}]\n",
    "= \\mathcal{E}[\\gamma^{A_{\\text{act}}}_\\text{embedded}] + E[\\gamma^{B_{\\text{env}}}] + g[\\gamma^{A_{\\text{act}}}, \\gamma^{B_{\\text{env}}}] + \\mathcal{Trace}\\big[(\\gamma^{A_{\\text{act}}}_\\text{embedded}-\\gamma^{A_{\\text{act}}})(h^{A_{\\text{act}} \\text{ in } B_{\\text{env}}} - h )\\big]$$\n",
    "\n",
    "\n",
    "\n",
    "- $\\mathcal{E}[\\gamma^{A_{\\text{act}}}_\\text{embedded}]$\n",
    "    - energy of isolated A computed with new optimized embedded density matrix\n",
    "    - Note this allows for applicaton of different fucntionals (hence why odd E used)\n",
    "- $E[\\gamma^{B_{\\text{env}}}]$ DFT calc of isolated subsystem B\n",
    "- $g[\\gamma^{A_{\\text{act}}}, \\gamma^{B_{\\text{env}}}]$ non additive energy (boundary condition) between subsystems\n",
    "    - this is obtained from global calc!\n",
    "- Trace term provides a first order correction to the energy!"
   ]
  },
  {
   "cell_type": "code",
   "execution_count": null,
   "metadata": {},
   "outputs": [],
   "source": []
  },
  {
   "cell_type": "code",
   "execution_count": null,
   "metadata": {},
   "outputs": [],
   "source": []
  },
  {
   "cell_type": "markdown",
   "metadata": {},
   "source": [
    "$\\mathcal{E}[\\gamma^{A_{\\text{act}}}_\\text{embedded}]$"
   ]
  },
  {
   "cell_type": "code",
   "execution_count": 49,
   "metadata": {},
   "outputs": [
    {
     "data": {
      "text/plain": [
       "-81.40105312855484"
      ]
     },
     "execution_count": 49,
     "metadata": {},
     "output_type": "execute_result"
    }
   ],
   "source": [
    "J_emb, K_emb =EMBEDDED_full_system_scf.get_jk(dm=density_emb) \n",
    "\n",
    "# NOTE how normal H_core is being used!\n",
    "e_act_emb = matrix_dot(density_emb, h_core + 0.5 * J_emb - 0.25 * K_emb)\n",
    "e_act_emb"
   ]
  },
  {
   "cell_type": "code",
   "execution_count": 50,
   "metadata": {},
   "outputs": [
    {
     "data": {
      "text/plain": [
       "True"
      ]
     },
     "execution_count": 50,
     "metadata": {},
     "output_type": "execute_result"
    }
   ],
   "source": [
    "# Test this with STANDARD full system obj\n",
    "# (changing density matrix for embedded one)\n",
    "J_test, K_test = full_system_scf.get_jk(dm=density_emb)\n",
    "\n",
    "np.allclose(J_emb, J_test) and np.allclose(K_emb, K_test)"
   ]
  },
  {
   "cell_type": "code",
   "execution_count": 51,
   "metadata": {},
   "outputs": [
    {
     "data": {
      "text/plain": [
       "-81.20995510021919"
      ]
     },
     "execution_count": 51,
     "metadata": {},
     "output_type": "execute_result"
    }
   ],
   "source": [
    "# should be able to calculate energy in the same fashion\n",
    "# using STANDARD full system obj and new embedded density matrix\n",
    "\n",
    "# THIS METHOD IS BETTER THAN ABOVE (matches energy of global calc now!!!!)\n",
    "\n",
    "e_act_emb = full_system_scf.energy_elec(dm=density_emb)[0]\n",
    "e_act_emb"
   ]
  },
  {
   "cell_type": "code",
   "execution_count": 52,
   "metadata": {},
   "outputs": [
    {
     "data": {
      "text/plain": [
       "(-70.44268927123726, 26.480940195525136)"
      ]
     },
     "execution_count": 52,
     "metadata": {},
     "output_type": "execute_result"
    }
   ],
   "source": [
    "# note this is WRONG\n",
    "EMBEDDED_full_system_scf.energy_elec(dm=density_emb)\n",
    "# it is uses EMBEDDED h_core"
   ]
  },
  {
   "cell_type": "code",
   "execution_count": null,
   "metadata": {},
   "outputs": [],
   "source": []
  },
  {
   "cell_type": "markdown",
   "metadata": {},
   "source": [
    "Note for\n",
    "\n",
    "$$\\mathcal{Trace}\\big[(\\gamma^{A_{\\text{act}}}_\\text{embedded}-\\gamma^{A_{\\text{act}}})(h^{A_{\\text{act}} \\text{ in } B_{\\text{env}}} - h )\\big]$$\n",
    "\n",
    "\n",
    "- as : $h^{A_{\\text{act}} \\text{ in } B_{\\text{env}}} = h^{\\text{core}} + v^{\\text{embed}}$\n",
    "- we can re-write the first order correction as:\n",
    "\n",
    "$$\\mathcal{Trace}\\big[(\\gamma^{A_{\\text{act}}}_\\text{embedded}-\\gamma^{A_{\\text{act}}})(h^{A_{\\text{act}} \\text{ in } B_{\\text{env}}} - h )\\big] = \\mathcal{Trace}\\big[(\\gamma^{A_{\\text{act}}}_\\text{embedded}-\\gamma^{A_{\\text{act}}})(v^{\\text{embed}})\\big]$$"
   ]
  },
  {
   "cell_type": "code",
   "execution_count": 53,
   "metadata": {},
   "outputs": [
    {
     "data": {
      "text/plain": [
       "-0.0004058538420751474"
      ]
     },
     "execution_count": 53,
     "metadata": {},
     "output_type": "execute_result"
    }
   ],
   "source": [
    "correction = (matrix_dot(v_emb, density_emb - dm_active))\n",
    "correction"
   ]
  },
  {
   "cell_type": "code",
   "execution_count": 54,
   "metadata": {},
   "outputs": [
    {
     "data": {
      "text/plain": [
       "-75.8177697641626"
      ]
     },
     "execution_count": 54,
     "metadata": {},
     "output_type": "execute_result"
    }
   ],
   "source": [
    "e_mf_emb = e_act_emb + E_env + two_e_cross + full_system_scf.energy_nuc() + correction\n",
    "e_mf_emb # <-- energy from embedded DFT calc"
   ]
  },
  {
   "cell_type": "code",
   "execution_count": 55,
   "metadata": {},
   "outputs": [
    {
     "data": {
      "text/plain": [
       "-75.81776977733313"
      ]
     },
     "execution_count": 55,
     "metadata": {},
     "output_type": "execute_result"
    }
   ],
   "source": [
    "full_system_scf.e_tot # <-- energy from normal DFT calc"
   ]
  },
  {
   "cell_type": "code",
   "execution_count": null,
   "metadata": {},
   "outputs": [],
   "source": []
  },
  {
   "cell_type": "code",
   "execution_count": 134,
   "metadata": {},
   "outputs": [
    {
     "data": {
      "text/plain": [
       "-76.12044442363138"
      ]
     },
     "execution_count": 134,
     "metadata": {},
     "output_type": "execute_result"
    }
   ],
   "source": [
    "myci.e_tot # <-- energy from CI calc"
   ]
  },
  {
   "cell_type": "code",
   "execution_count": null,
   "metadata": {},
   "outputs": [],
   "source": []
  },
  {
   "cell_type": "markdown",
   "metadata": {},
   "source": [
    "## higher level DFT calc\n",
    "\n",
    "- we can calculate $\\mathcal{E}[\\gamma^{A_{\\text{act}}}_\\text{embedded}]$ using a better functional"
   ]
  },
  {
   "cell_type": "code",
   "execution_count": 57,
   "metadata": {},
   "outputs": [],
   "source": [
    "full_system_mol_HIGH_LEVEL_DFT = gto.Mole(atom= geometry,\n",
    "                      basis=basis,\n",
    "                       charge=0,\n",
    "                       #spin=0,\n",
    "                      )\n",
    "full_system_mol_HIGH_LEVEL_DFT.build()\n",
    "\n",
    "full_system_scf_HIGH_LEVEL = scf.RKS(full_system_mol_HIGH_LEVEL_DFT)\n",
    "full_system_scf_HIGH_LEVEL.verbose=1\n",
    "full_system_scf_HIGH_LEVEL.max_memory= 8_000\n",
    "full_system_scf_HIGH_LEVEL.conv_tol = 1e-6\n",
    "full_system_scf_HIGH_LEVEL.xc = high_level_xc_functional # <-- BETTER functional!\n",
    "# full_system_scf_HIGH_LEVEL.kernel()"
   ]
  },
  {
   "cell_type": "code",
   "execution_count": null,
   "metadata": {},
   "outputs": [],
   "source": []
  },
  {
   "cell_type": "code",
   "execution_count": 58,
   "metadata": {},
   "outputs": [
    {
     "data": {
      "text/plain": [
       "(-81.73577023702953, 25.95512505878404)"
      ]
     },
     "execution_count": 58,
     "metadata": {},
     "output_type": "execute_result"
    }
   ],
   "source": [
    "e_act_emb_HIGH_LVL = full_system_scf_HIGH_LEVEL.energy_elec(dm=density_emb)\n",
    "e_act_emb_HIGH_LVL # run energy calc using high level functional (note density matrix is embedded A)"
   ]
  },
  {
   "cell_type": "code",
   "execution_count": 59,
   "metadata": {},
   "outputs": [
    {
     "data": {
      "text/plain": [
       "-81.73577023702953"
      ]
     },
     "execution_count": 59,
     "metadata": {},
     "output_type": "execute_result"
    }
   ],
   "source": [
    "e_act_emb_HIGH_LVL[0]"
   ]
  },
  {
   "cell_type": "code",
   "execution_count": 60,
   "metadata": {},
   "outputs": [
    {
     "data": {
      "text/plain": [
       "-76.34358490097294"
      ]
     },
     "execution_count": 60,
     "metadata": {},
     "output_type": "execute_result"
    }
   ],
   "source": [
    "E_high_lvl_DFT = e_act_emb_HIGH_LVL[0] + E_env + two_e_cross + full_system_scf.energy_nuc() + correction\n",
    "E_high_lvl_DFT # <-- energy from embedded DFT calc"
   ]
  },
  {
   "cell_type": "code",
   "execution_count": 135,
   "metadata": {},
   "outputs": [
    {
     "name": "stdout",
     "output_type": "stream",
     "text": [
      "High level DFT in DFT error: 0.22314047734155906\n",
      "LOW level DFT in DFT error: 0.3026746594687779\n"
     ]
    }
   ],
   "source": [
    "print('High level DFT in DFT error:', np.abs(E_high_lvl_DFT-myci.e_tot))\n",
    "\n",
    "print('LOW level DFT in DFT error:', np.abs(e_mf_emb-myci.e_tot))"
   ]
  },
  {
   "cell_type": "code",
   "execution_count": null,
   "metadata": {},
   "outputs": [],
   "source": []
  },
  {
   "cell_type": "markdown",
   "metadata": {},
   "source": [
    "# Perform high level WaveFunction calc"
   ]
  },
  {
   "cell_type": "markdown",
   "metadata": {},
   "source": [
    "- we can calculate $\\mathcal{E}[\\gamma^{A_{\\text{act}}}_\\text{embedded}]$ using Wf methods now"
   ]
  },
  {
   "cell_type": "code",
   "execution_count": null,
   "metadata": {},
   "outputs": [],
   "source": []
  },
  {
   "cell_type": "markdown",
   "metadata": {},
   "source": [
    "# WF calculation\n",
    "\n",
    "1. Perform HF calc using embedded Hcore to find gamma_act_emb"
   ]
  },
  {
   "cell_type": "code",
   "execution_count": 202,
   "metadata": {},
   "outputs": [
    {
     "data": {
      "text/plain": [
       "-61.5142397002581"
      ]
     },
     "execution_count": 202,
     "metadata": {},
     "output_type": "execute_result"
    }
   ],
   "source": [
    "full_system_mol_EMBEDDED_HF = gto.Mole(atom= geometry,\n",
    "                      basis=basis,\n",
    "                       charge=0,\n",
    "                       #spin=0,\n",
    "                      )\n",
    "full_system_mol_EMBEDDED_HF.build()\n",
    "\n",
    "# RE-DEFINE number of electrons in system\n",
    "full_system_mol_EMBEDDED_HF.nelectron = 2*len(active_ao_ind)\n",
    "\n",
    "EMBEDDED_full_system_scf_HF = scf.RHF(full_system_mol_EMBEDDED)\n",
    "EMBEDDED_full_system_scf_HF.verbose=1\n",
    "EMBEDDED_full_system_scf_HF.max_memory= 8_000\n",
    "EMBEDDED_full_system_scf_HF.conv_tol = 1e-6\n",
    "# EMBEDDED_full_system_scf_HF.xc = low_level_xc_functional_or_HF\n",
    "\n",
    "h_core = EMBEDDED_full_system_scf_HF.get_hcore()\n",
    "\n",
    "# overwrite h_core to include embedding term!!!!\n",
    "EMBEDDED_full_system_scf_HF.get_hcore = lambda *args: v_emb + h_core\n",
    "\n",
    "\n",
    "EMBEDDED_full_system_scf_HF.kernel()"
   ]
  },
  {
   "cell_type": "code",
   "execution_count": 203,
   "metadata": {},
   "outputs": [
    {
     "data": {
      "text/plain": [
       "True"
      ]
     },
     "execution_count": 203,
     "metadata": {},
     "output_type": "execute_result"
    }
   ],
   "source": [
    "EMBEDDED_full_system_scf_HF.conv_check"
   ]
  },
  {
   "cell_type": "code",
   "execution_count": 204,
   "metadata": {},
   "outputs": [
    {
     "data": {
      "text/plain": [
       "True"
      ]
     },
     "execution_count": 204,
     "metadata": {},
     "output_type": "execute_result"
    }
   ],
   "source": [
    "EMBEDDED_occ_orbs_HF = EMBEDDED_full_system_scf_HF.mo_coeff[:,EMBEDDED_full_system_scf_HF.mo_occ>0]\n",
    "\n",
    "# optimized embedded denisty matrix\n",
    "density_emb_HF = 2 * EMBEDDED_occ_orbs_HF @ EMBEDDED_occ_orbs_HF.conj().T\n",
    "\n",
    "## check number of electrons makes sense:\n",
    "np.isclose(np.trace(density_emb_HF@S), 2*len(active_ao_ind))"
   ]
  },
  {
   "cell_type": "code",
   "execution_count": 205,
   "metadata": {},
   "outputs": [
    {
     "data": {
      "text/plain": [
       "-61.5142397002581"
      ]
     },
     "execution_count": 205,
     "metadata": {},
     "output_type": "execute_result"
    }
   ],
   "source": [
    "e_hf_check = EMBEDDED_full_system_scf_HF.energy_tot(dm=density_emb_HF, \n",
    "                                         vhf=EMBEDDED_full_system_scf_HF.get_veff())\n",
    "e_hf_check"
   ]
  },
  {
   "cell_type": "markdown",
   "metadata": {},
   "source": [
    "# Next\n",
    "\n",
    "2. Run WF method using embedded h_core"
   ]
  },
  {
   "cell_type": "code",
   "execution_count": 206,
   "metadata": {},
   "outputs": [
    {
     "name": "stdout",
     "output_type": "stream",
     "text": [
      "E(CCSD) = -61.60519159745135  E_corr = -0.09095189719326753\n"
     ]
    }
   ],
   "source": [
    "embedded_cc_obj = cc.CCSD(EMBEDDED_full_system_scf_HF)\n",
    "\n",
    "embedded_cc_obj.nocc = EMBEDDED_full_system_scf_HF.mol.nelectron // 2\n",
    "embedded_cc_obj.nmo = EMBEDDED_full_system_scf_HF.mo_energy.size\n",
    "# NEED to redefine embedded h_core again!\n",
    "embedded_cc_obj._scf.get_hcore = lambda *args: v_emb + h_core\n",
    "e_cc, t1, t2 = embedded_cc_obj.kernel()"
   ]
  },
  {
   "cell_type": "code",
   "execution_count": null,
   "metadata": {},
   "outputs": [],
   "source": []
  },
  {
   "cell_type": "code",
   "execution_count": 207,
   "metadata": {},
   "outputs": [
    {
     "name": "stdout",
     "output_type": "stream",
     "text": [
      "E(CCSD) = -61.60519159745135  E_corr = -0.09095189719326753\n"
     ]
    }
   ],
   "source": [
    "embedded_cc_obj = cc.CCSD(EMBEDDED_full_system_scf_HF)\n",
    "\n",
    "# NEED to redefine embedded h_core again!\n",
    "embedded_cc_obj._scf.get_hcore = lambda *args: v_emb + h_core\n",
    "e_cc, t1, t2 = embedded_cc_obj.kernel()"
   ]
  },
  {
   "cell_type": "code",
   "execution_count": null,
   "metadata": {},
   "outputs": [],
   "source": []
  },
  {
   "cell_type": "code",
   "execution_count": 208,
   "metadata": {},
   "outputs": [
    {
     "data": {
      "text/plain": [
       "True"
      ]
     },
     "execution_count": 208,
     "metadata": {},
     "output_type": "execute_result"
    }
   ],
   "source": [
    "np.isclose(embedded_cc_obj.e_hf,e_hf_check) # check HF and CC_hf match!"
   ]
  },
  {
   "cell_type": "code",
   "execution_count": 210,
   "metadata": {},
   "outputs": [
    {
     "data": {
      "text/plain": [
       "True"
      ]
     },
     "execution_count": 210,
     "metadata": {},
     "output_type": "execute_result"
    }
   ],
   "source": [
    "C_wf = embedded_cc_obj.mo_coeff[:,embedded_wf.mo_occ>0] # take occupied C_coeff\n",
    "\n",
    "dm_wf = 2* C_wf @ C_wf.conj().T # THIS is embedded dm matrix from cc calc!\n",
    "np.isclose(np.trace(dm_wf@S), 2*len(active_ao_ind))"
   ]
  },
  {
   "cell_type": "code",
   "execution_count": 178,
   "metadata": {},
   "outputs": [
    {
     "data": {
      "text/plain": [
       "True"
      ]
     },
     "execution_count": 178,
     "metadata": {},
     "output_type": "execute_result"
    }
   ],
   "source": [
    "# check everything makes sense:\n",
    "embedded_cc_obj.e_tot == full_system_scf_HIGH_LEVEL_HF.energy_tot(dm=dm_wf) + e_cc"
   ]
  },
  {
   "cell_type": "code",
   "execution_count": null,
   "metadata": {},
   "outputs": [],
   "source": []
  },
  {
   "cell_type": "code",
   "execution_count": 200,
   "metadata": {},
   "outputs": [
    {
     "data": {
      "text/plain": [
       "0.11690293559430434"
      ]
     },
     "execution_count": 200,
     "metadata": {},
     "output_type": "execute_result"
    }
   ],
   "source": [
    "WF_correction = (matrix_dot(v_emb, dm_wf - dm_active))\n",
    "WF_correction"
   ]
  },
  {
   "cell_type": "markdown",
   "metadata": {},
   "source": [
    "# Finally\n",
    "3. Run everything again, using optimized embedded density matrix using standard system obj!"
   ]
  },
  {
   "cell_type": "code",
   "execution_count": 348,
   "metadata": {},
   "outputs": [],
   "source": [
    "full_system_mol_HF_normal_obj = gto.Mole(atom= geometry,\n",
    "                      basis=basis,\n",
    "                       charge=0,\n",
    "                       #spin=0,\n",
    "                      )\n",
    "full_system_mol_HF_normal_obj.build()\n",
    "\n",
    "# redefine number of electrons in system\n",
    "full_system_mol_HF_normal_obj.nelectron = 2*len(active_ao_ind)\n",
    "\n",
    "full_system_scf_HF_normal_obj = scf.RHF(full_system_mol_HF_normal_obj)\n",
    "full_system_scf_HF_normal_obj.verbose=1\n",
    "full_system_scf_HF_normal_obj.max_memory= 8_000\n",
    "full_system_scf_HF_normal_obj.conv_tol = 1e-6\n",
    "\n",
    "# do NOT redefine h_core to be embedded\n",
    "\n",
    "# Also don't run kernel, as we have op density matrix"
   ]
  },
  {
   "cell_type": "code",
   "execution_count": 362,
   "metadata": {},
   "outputs": [
    {
     "data": {
      "text/plain": [
       "-72.39881431874575"
      ]
     },
     "execution_count": 362,
     "metadata": {},
     "output_type": "execute_result"
    }
   ],
   "source": [
    "h1e=full_system_scf_HF_normal_obj.get_hcore()\n",
    "s1e=full_system_scf_HF_normal_obj.get_ovlp()\n",
    "vhf=full_system_scf_HF_normal_obj.get_veff(dm=dm_wf) # <-- gamma_A_embedded!\n",
    "\n",
    "\n",
    "fock = full_system_scf_HF_normal_obj.get_fock(h1e,\n",
    "                                              s1e,\n",
    "                                              vhf,\n",
    "                                              dm_wf)  # <-- gamma_A_embedded!\n",
    "\n",
    "\n",
    "mo_energy, mo_coeff = full_system_scf_HF_normal_obj.eig(fock, s1e)\n",
    "mo_occ = full_system_scf_HF_normal_obj.get_occ(mo_energy, mo_coeff)\n",
    "e_tot = full_system_scf_HF_normal_obj.energy_tot(dm_wf, # <-- gamma_A_embedded!\n",
    "                                                          h1e, vhf)\n",
    "\n",
    "\n",
    "# full_system_scf_HF_normal_obj.mo_coeff = mo_coeff\n",
    "full_system_scf_HF_normal_obj.mo_coeff =  embedded_cc_obj.mo_coeff#[:,embedded_wf.mo_occ>0] # take occupied C_coeff\n",
    "\n",
    "# full_system_scf_HF_normal_obj.mo_energy = mo_energy\n",
    "full_system_scf_HF_normal_obj.mo_occ = mo_occ\n",
    "full_system_scf_HF_normal_obj.e_tot = e_tot\n",
    "e_tot"
   ]
  },
  {
   "cell_type": "code",
   "execution_count": 363,
   "metadata": {},
   "outputs": [
    {
     "data": {
      "text/plain": [
       "-72.39881431874575"
      ]
     },
     "execution_count": 363,
     "metadata": {},
     "output_type": "execute_result"
    }
   ],
   "source": [
    "full_system_scf_HF_normal_obj.energy_tot(dm=dm_wf)"
   ]
  },
  {
   "cell_type": "code",
   "execution_count": 278,
   "metadata": {},
   "outputs": [],
   "source": [
    "# ## checking if mo_energy makes sense (as overwriting mo_coeff)\n",
    "# S_neg1 = sp.linalg.inv(s1e)\n",
    "# C_neg1 = sp.linalg.inv(EMBEDDED_full_system_scf.mo_coeff)\n",
    "\n",
    "# e = C_neg1 @ S_neg1 @ fock @ EMBEDDED_full_system_scf.mo_coeff\n",
    "\n",
    "# u, E, V = np.linalg.svd(e)\n",
    "\n",
    "# np.allclose(np.abs(mo_energy[mo_occ>0]), np.abs(E[mo_occ>0]))"
   ]
  },
  {
   "cell_type": "code",
   "execution_count": 364,
   "metadata": {},
   "outputs": [
    {
     "name": "stdout",
     "output_type": "stream",
     "text": [
      "CCSD not converged\n",
      "E(CCSD) = -74.35122294636088  E_corr = -1.952408627615121\n"
     ]
    },
    {
     "data": {
      "text/plain": [
       "True"
      ]
     },
     "execution_count": 364,
     "metadata": {},
     "output_type": "execute_result"
    }
   ],
   "source": [
    "cc_standard_obj = cc.CCSD(full_system_scf_HF_normal_obj)\n",
    "\n",
    "\n",
    "# embedded_cc_obj.nocc = EMBEDDED_full_system_scf_HF.mol.nelectron // 2\n",
    "# embedded_cc_obj.nmo = EMBEDDED_full_system_scf_HF.mo_energy.size\n",
    "\n",
    "e_cc, t1_standard, t2_standard = cc_standard_obj.kernel()\n",
    "\n",
    "np.isclose(cc_standard_obj.e_hf, e_tot)"
   ]
  },
  {
   "cell_type": "code",
   "execution_count": 365,
   "metadata": {},
   "outputs": [
    {
     "data": {
      "text/plain": [
       "-0.08273734677892754"
      ]
     },
     "execution_count": 365,
     "metadata": {},
     "output_type": "execute_result"
    }
   ],
   "source": [
    "C_wf = embedded_cc_obj.mo_coeff # take embedded gamma and calc energy WITHOUT embedded H\n",
    "eris = cc_standard_obj.ao2mo(mo_coeff=C_wf)\n",
    "\n",
    "# calculate coupled cluster correction to e_hf with same t1 and t2 as found using embedded Hcore\n",
    "e_cc_standard_with_embedded_Density = cc_standard_obj.energy(t1, t2, eris)\n",
    "\n",
    "# calculate coupled cluster correction to e_hf with NEW t1 and t2 found using WITHOUT embedded Hcore\n",
    "# BUT use C matrix from embedded Hcore calculation!\n",
    "# e_cc_standard_with_embedded_Density = cc_standard_obj.energy(t1_standard, t2_standard, eris)\n",
    "\n",
    "\n",
    "e_cc_standard_with_embedded_Density"
   ]
  },
  {
   "cell_type": "code",
   "execution_count": null,
   "metadata": {},
   "outputs": [],
   "source": []
  },
  {
   "cell_type": "code",
   "execution_count": 366,
   "metadata": {},
   "outputs": [
    {
     "name": "stdout",
     "output_type": "stream",
     "text": [
      "checking no. of electrons is correct: True\n",
      "\n",
      "checking CC dm matrix matches embedded dm matrix: True\n"
     ]
    }
   ],
   "source": [
    "C_wf_opt = cc_standard_obj.mo_coeff[:,cc_standard_obj.mo_occ>0] # take occupied C_coeff\n",
    "\n",
    "dm_wf_opt = 2* C_wf_opt @ C_wf_opt.conj().T\n",
    "\n",
    "print('checking no. of electrons is correct:', np.isclose(np.trace(dm_wf_opt@s1e), 2*len(active_ao_ind)))\n",
    "print()\n",
    "print('checking CC dm matrix matches embedded dm matrix:', np.allclose(dm_wf_opt, dm_wf))"
   ]
  },
  {
   "cell_type": "code",
   "execution_count": null,
   "metadata": {},
   "outputs": [],
   "source": []
  },
  {
   "cell_type": "code",
   "execution_count": 367,
   "metadata": {},
   "outputs": [
    {
     "data": {
      "text/plain": [
       "1.849568125519454"
      ]
     },
     "execution_count": 367,
     "metadata": {},
     "output_type": "execute_result"
    }
   ],
   "source": [
    "E_WF_standard_obj = (cc_standard_obj.e_tot \n",
    "                     + E_env + two_e_cross + WF_correction)\n",
    "# E__WF # <-- energy from embedded WF calc\n",
    "\n",
    "np.abs(E_WF_standard_obj-myci.e_tot)"
   ]
  },
  {
   "cell_type": "code",
   "execution_count": 368,
   "metadata": {},
   "outputs": [
    {
     "data": {
      "text/plain": [
       "0.02010315531674678"
      ]
     },
     "execution_count": 368,
     "metadata": {},
     "output_type": "execute_result"
    }
   ],
   "source": [
    "E_WF_standard_obj = (cc_standard_obj.e_hf + e_cc_standard_with_embedded_Density\n",
    "                     + E_env + two_e_cross + WF_correction)\n",
    "# E__WF # <-- energy from embedded WF calc\n",
    "\n",
    "np.abs(E_WF_standard_obj-myci.e_tot)"
   ]
  },
  {
   "cell_type": "code",
   "execution_count": 369,
   "metadata": {},
   "outputs": [
    {
     "data": {
      "text/plain": [
       "1.849568125519454"
      ]
     },
     "execution_count": 369,
     "metadata": {},
     "output_type": "execute_result"
    }
   ],
   "source": [
    "E_WF_standard_obj = (cc_standard_obj.e_corr + e_tot \n",
    "                     + E_env + two_e_cross + WF_correction)\n",
    "# E__WF # <-- energy from embedded WF calc\n",
    "\n",
    "np.abs(E_WF_standard_obj-myci.e_tot)"
   ]
  },
  {
   "cell_type": "code",
   "execution_count": null,
   "metadata": {},
   "outputs": [],
   "source": []
  },
  {
   "cell_type": "markdown",
   "metadata": {},
   "source": [
    "# OTHER WF way\n",
    "\n",
    "1. Run higher level method using dm from RKS\n",
    "2. don't try use HF to find other embedded gamma_A"
   ]
  },
  {
   "cell_type": "code",
   "execution_count": 383,
   "metadata": {},
   "outputs": [
    {
     "data": {
      "text/plain": [
       "-72.27276940027188"
      ]
     },
     "execution_count": 383,
     "metadata": {},
     "output_type": "execute_result"
    }
   ],
   "source": [
    "full_system_mol_HF_normal_obj = gto.Mole(atom= geometry,\n",
    "                      basis=basis,\n",
    "                       charge=0,\n",
    "                       #spin=0,\n",
    "                      )\n",
    "full_system_mol_HF_normal_obj.build()\n",
    "\n",
    "# redefine number of electrons in system\n",
    "full_system_mol_HF_normal_obj.nelectron = 2*len(active_ao_ind)\n",
    "\n",
    "full_system_scf_HF_normal_obj = scf.RHF(full_system_mol_HF_normal_obj)\n",
    "full_system_scf_HF_normal_obj.verbose=1\n",
    "full_system_scf_HF_normal_obj.max_memory= 8_000\n",
    "full_system_scf_HF_normal_obj.conv_tol = 1e-6\n",
    "\n",
    "# do NOT redefine h_core to be embedded\n",
    "\n",
    "# Also don't run kernel, as we have op density matrix\n",
    "\n",
    "\n",
    "\n",
    "h1e=full_system_scf_HF_normal_obj.get_hcore()\n",
    "s1e=full_system_scf_HF_normal_obj.get_ovlp()\n",
    "vhf=full_system_scf_HF_normal_obj.get_veff(dm=density_emb) # <-- gamma_A_embedded from DFT calc!\n",
    "\n",
    "\n",
    "fock = full_system_scf_HF_normal_obj.get_fock(h1e,\n",
    "                                              s1e,\n",
    "                                              vhf,\n",
    "                                              density_emb)  # <-- gamma_A_embedded!\n",
    "\n",
    "\n",
    "full_system_scf_HF_normal_obj\n",
    "\n",
    "mo_energy, mo_coeff = full_system_scf_HF_normal_obj.eig(fock, s1e)\n",
    "mo_occ = full_system_scf_HF_normal_obj.get_occ(mo_energy, mo_coeff)\n",
    "e_tot = full_system_scf_HF_normal_obj.energy_tot(density_emb, # <-- gamma_A_embedded!\n",
    "                                                          h1e, vhf)\n",
    "\n",
    "\n",
    "\n",
    "###########################\n",
    "\n",
    "# something going WRONG HERE\n",
    "# should set:\n",
    "#             full_system_scf_HF_normal_obj.mo_coeff = EMBEDDED_full_system_scf.mo_coeff\n",
    "# rather than updated version from eig\n",
    "\n",
    "full_system_scf_HF_normal_obj.mo_coeff = mo_coeff\n",
    "\n",
    "# full_system_scf_HF_normal_obj.mo_coeff =  EMBEDDED_full_system_scf.mo_coeff\n",
    "\n",
    "# C_pseduo_inv = np.linalg.pinv(EMBEDDED_full_system_scf.mo_coeff)\n",
    "# C_pseudo = sp.linalg.inv(C_pseduo_inv)\n",
    "# full_system_scf_HF_normal_obj.mo_coeff = C_pseudo\n",
    "\n",
    "##############################\n",
    "\n",
    "\n",
    "\n",
    "full_system_scf_HF_normal_obj.mo_energy = mo_energy\n",
    "full_system_scf_HF_normal_obj.mo_occ = mo_occ\n",
    "full_system_scf_HF_normal_obj.e_tot = e_tot\n",
    "e_tot"
   ]
  },
  {
   "cell_type": "code",
   "execution_count": 384,
   "metadata": {},
   "outputs": [
    {
     "data": {
      "text/plain": [
       "-72.27276940027188"
      ]
     },
     "execution_count": 384,
     "metadata": {},
     "output_type": "execute_result"
    }
   ],
   "source": [
    "full_system_scf_HF_normal_obj.energy_tot(dm=density_emb)"
   ]
  },
  {
   "cell_type": "code",
   "execution_count": null,
   "metadata": {},
   "outputs": [],
   "source": []
  },
  {
   "cell_type": "code",
   "execution_count": 385,
   "metadata": {},
   "outputs": [
    {
     "name": "stdout",
     "output_type": "stream",
     "text": [
      "E(CCSD) = -74.47488296491188  E_corr = -0.2286232954559271\n"
     ]
    },
    {
     "data": {
      "text/plain": [
       "False"
      ]
     },
     "execution_count": 385,
     "metadata": {},
     "output_type": "execute_result"
    }
   ],
   "source": [
    "cc_standard_obj = cc.CCSD(full_system_scf_HF_normal_obj)\n",
    "# cc_standard_obj.diis = False\n",
    "\n",
    "# embedded_cc_obj.nocc = EMBEDDED_full_system_scf_HF.mol.nelectron // 2\n",
    "# embedded_cc_obj.nmo = EMBEDDED_full_system_scf_HF.mo_energy.size\n",
    "\n",
    "e_cc, t1_standard, t2_standard = cc_standard_obj.kernel()\n",
    "\n",
    "np.isclose(cc_standard_obj.e_hf, e_tot)"
   ]
  },
  {
   "cell_type": "code",
   "execution_count": 386,
   "metadata": {},
   "outputs": [
    {
     "data": {
      "text/plain": [
       "0.00026212511360768076"
      ]
     },
     "execution_count": 386,
     "metadata": {},
     "output_type": "execute_result"
    }
   ],
   "source": [
    "E_WF_standard_obj = (cc_standard_obj.e_corr + e_tot\n",
    "                     + E_env + two_e_cross + WF_correction)\n",
    "# E__WF # <-- energy from embedded WF calc\n",
    "\n",
    "np.abs(E_WF_standard_obj-myci.e_tot)"
   ]
  },
  {
   "cell_type": "code",
   "execution_count": 387,
   "metadata": {},
   "outputs": [
    {
     "name": "stdout",
     "output_type": "stream",
     "text": [
      "checking no. of electrons is correct: True\n",
      "\n",
      "checking CC dm matrix matches embedded dm matrix: False\n"
     ]
    }
   ],
   "source": [
    "C_wf_opt = cc_standard_obj.mo_coeff[:,cc_standard_obj.mo_occ>0] # take occupied C_coeff\n",
    "\n",
    "dm_wf_opt = 2* C_wf_opt @ C_wf_opt.conj().T\n",
    "\n",
    "print('checking no. of electrons is correct:', np.isclose(np.trace(dm_wf_opt@s1e), 2*len(active_ao_ind)))\n",
    "print()\n",
    "print('checking CC dm matrix matches embedded dm matrix:', np.allclose(dm_wf_opt, density_emb))"
   ]
  },
  {
   "cell_type": "code",
   "execution_count": null,
   "metadata": {},
   "outputs": [],
   "source": []
  },
  {
   "cell_type": "code",
   "execution_count": null,
   "metadata": {},
   "outputs": [],
   "source": []
  },
  {
   "cell_type": "code",
   "execution_count": null,
   "metadata": {},
   "outputs": [],
   "source": []
  },
  {
   "cell_type": "code",
   "execution_count": null,
   "metadata": {},
   "outputs": [],
   "source": []
  },
  {
   "cell_type": "code",
   "execution_count": null,
   "metadata": {},
   "outputs": [],
   "source": []
  },
  {
   "cell_type": "code",
   "execution_count": null,
   "metadata": {},
   "outputs": [],
   "source": []
  },
  {
   "cell_type": "markdown",
   "metadata": {},
   "source": [
    "# QC work"
   ]
  },
  {
   "cell_type": "code",
   "execution_count": null,
   "metadata": {},
   "outputs": [],
   "source": [
    "TODO everything below here"
   ]
  },
  {
   "cell_type": "code",
   "execution_count": null,
   "metadata": {},
   "outputs": [],
   "source": []
  },
  {
   "cell_type": "code",
   "execution_count": null,
   "metadata": {},
   "outputs": [],
   "source": []
  },
  {
   "cell_type": "code",
   "execution_count": null,
   "metadata": {},
   "outputs": [],
   "source": []
  },
  {
   "cell_type": "code",
   "execution_count": null,
   "metadata": {},
   "outputs": [],
   "source": []
  },
  {
   "cell_type": "code",
   "execution_count": null,
   "metadata": {},
   "outputs": [],
   "source": [
    "#2D array for one-body Hamiltonian (H_core) in the MO representation\n",
    "\n",
    "Hcore_normal =  full_system_scf_HF_normal_obj.get_hcore()\n",
    "canonical_orbitals  = full_system_scf_HF_normal_obj.mo_coeff # HF calc WITH embedded density matrix, but standard molecule obj!\n",
    "\n",
    "one_body_integrals = canonical_orbitals.conj().T @ Hcore_normal @ canonical_orbitals\n",
    "one_body_integrals.shape"
   ]
  },
  {
   "cell_type": "code",
   "execution_count": null,
   "metadata": {},
   "outputs": [],
   "source": []
  },
  {
   "cell_type": "code",
   "execution_count": null,
   "metadata": {},
   "outputs": [],
   "source": [
    "# A 4-dimension array for electron repulsion integrals in the MO\n",
    "# representation.  The integrals are computed as\n",
    "# h[p,q,r,s]=\\int \\phi_p(x)* \\phi_q(y)* V_{elec-elec} \\phi_r(y) \\phi_s(x) dxdy\n",
    "from pyscf import ao2mo\n",
    "\n",
    "\n",
    "eri = ao2mo.kernel(full_system_mol_HF_normal_obj, canonical_orbitals)\n",
    "n_orbitals = canonical_orbitals.shape[1]\n",
    "eri = ao2mo.restore(1, # no permutation symmetry\n",
    "                                eri, n_orbitals)\n",
    "\n",
    "\n",
    "two_body_integrals = np.asarray(eri.transpose(0, 2, 3, 1), order='C')\n",
    "two_body_integrals.shape"
   ]
  },
  {
   "cell_type": "code",
   "execution_count": null,
   "metadata": {},
   "outputs": [],
   "source": []
  },
  {
   "cell_type": "code",
   "execution_count": null,
   "metadata": {},
   "outputs": [],
   "source": [
    "def spinorb_from_spatial(one_body_integrals, two_body_integrals):\n",
    "    EQ_TOLERANCE=1e-8\n",
    "    n_qubits = 2 * one_body_integrals.shape[0]\n",
    "\n",
    "    # Initialize Hamiltonian coefficients.\n",
    "    one_body_coefficients = np.zeros((n_qubits, n_qubits))\n",
    "    two_body_coefficients = np.zeros(\n",
    "        (n_qubits, n_qubits, n_qubits, n_qubits))\n",
    "    # Loop through integrals.\n",
    "    for p in range(n_qubits // 2):\n",
    "        for q in range(n_qubits // 2):\n",
    "\n",
    "            # Populate 1-body coefficients. Require p and q have same spin.\n",
    "            one_body_coefficients[2 * p, 2 * q] = one_body_integrals[p, q]\n",
    "            one_body_coefficients[2 * p + 1, 2 * q +\n",
    "                                  1] = one_body_integrals[p, q]\n",
    "            # Continue looping to prepare 2-body coefficients.\n",
    "            for r in range(n_qubits // 2):\n",
    "                for s in range(n_qubits // 2):\n",
    "\n",
    "                    # Mixed spin\n",
    "                    two_body_coefficients[2 * p, 2 * q + 1, 2 * r + 1, 2 *\n",
    "                                          s] = (two_body_integrals[p, q, r, s])\n",
    "                    two_body_coefficients[2 * p + 1, 2 * q, 2 * r, 2 * s +\n",
    "                                          1] = (two_body_integrals[p, q, r, s])\n",
    "\n",
    "                    # Same spin\n",
    "                    two_body_coefficients[2 * p, 2 * q, 2 * r, 2 *\n",
    "                                          s] = (two_body_integrals[p, q, r, s])\n",
    "                    two_body_coefficients[2 * p + 1, 2 * q + 1, 2 * r +\n",
    "                                          1, 2 * s +\n",
    "                                          1] = (two_body_integrals[p, q, r, s])\n",
    "\n",
    "    # Truncate.\n",
    "    one_body_coefficients[\n",
    "        np.absolute(one_body_coefficients) < EQ_TOLERANCE] = 0.\n",
    "    two_body_coefficients[\n",
    "        np.absolute(two_body_coefficients) < EQ_TOLERANCE] = 0.\n",
    "\n",
    "    return one_body_coefficients, two_body_coefficients\n"
   ]
  },
  {
   "cell_type": "code",
   "execution_count": null,
   "metadata": {},
   "outputs": [],
   "source": [
    "one_body_coefficients, two_body_coefficients = spinorb_from_spatial(one_body_integrals,\n",
    "                                                                    two_body_integrals)"
   ]
  },
  {
   "cell_type": "code",
   "execution_count": null,
   "metadata": {},
   "outputs": [],
   "source": [
    "from openfermion.ops.representations import InteractionOperator\n",
    "\n",
    "constant = full_system_scf.energy_nuc() \n",
    "\n",
    "molecular_hamiltonian = InteractionOperator(constant,\n",
    "                                            one_body_coefficients,\n",
    "                                            1 / 2 * two_body_coefficients)\n",
    "\n",
    "n_qubits = two_body_coefficients.shape[0]\n",
    "\n",
    "from openfermion.transforms import jordan_wigner\n",
    "Qubit_Hamiltonian = jordan_wigner(molecular_hamiltonian)"
   ]
  },
  {
   "cell_type": "code",
   "execution_count": null,
   "metadata": {},
   "outputs": [],
   "source": [
    "len(list(Qubit_Hamiltonian))"
   ]
  },
  {
   "cell_type": "code",
   "execution_count": null,
   "metadata": {},
   "outputs": [],
   "source": []
  },
  {
   "cell_type": "code",
   "execution_count": null,
   "metadata": {},
   "outputs": [],
   "source": []
  },
  {
   "cell_type": "code",
   "execution_count": null,
   "metadata": {},
   "outputs": [],
   "source": []
  },
  {
   "cell_type": "code",
   "execution_count": null,
   "metadata": {},
   "outputs": [],
   "source": []
  },
  {
   "cell_type": "code",
   "execution_count": null,
   "metadata": {},
   "outputs": [],
   "source": []
  },
  {
   "cell_type": "code",
   "execution_count": null,
   "metadata": {},
   "outputs": [],
   "source": []
  },
  {
   "cell_type": "code",
   "execution_count": null,
   "metadata": {},
   "outputs": [],
   "source": []
  },
  {
   "cell_type": "code",
   "execution_count": null,
   "metadata": {},
   "outputs": [],
   "source": []
  },
  {
   "cell_type": "code",
   "execution_count": null,
   "metadata": {},
   "outputs": [],
   "source": []
  },
  {
   "cell_type": "code",
   "execution_count": null,
   "metadata": {},
   "outputs": [],
   "source": []
  },
  {
   "cell_type": "code",
   "execution_count": null,
   "metadata": {},
   "outputs": [],
   "source": []
  },
  {
   "cell_type": "code",
   "execution_count": null,
   "metadata": {},
   "outputs": [],
   "source": []
  },
  {
   "cell_type": "code",
   "execution_count": null,
   "metadata": {},
   "outputs": [],
   "source": []
  },
  {
   "cell_type": "code",
   "execution_count": null,
   "metadata": {},
   "outputs": [],
   "source": []
  },
  {
   "cell_type": "code",
   "execution_count": null,
   "metadata": {},
   "outputs": [],
   "source": []
  },
  {
   "cell_type": "code",
   "execution_count": null,
   "metadata": {},
   "outputs": [],
   "source": [
    "#2D array for one-body Hamiltonian (H_core) in the MO representation\n",
    "\n",
    "EMBEDDED_Hcore =  full_system_scf_HIGH_LEVEL_HF.get_hcore()\n",
    "canonical_orbitals  = full_system_scf_HIGH_LEVEL_HF.mo_coeff \n",
    "\n",
    "one_body_integrals = canonical_orbitals.conj().T @ EMBEDDED_Hcore @ canonical_orbitals\n",
    "one_body_integrals.shape"
   ]
  },
  {
   "cell_type": "code",
   "execution_count": null,
   "metadata": {},
   "outputs": [],
   "source": [
    "# A 4-dimension array for electron repulsion integrals in the MO\n",
    "# representation.  The integrals are computed as\n",
    "# h[p,q,r,s]=\\int \\phi_p(x)* \\phi_q(y)* V_{elec-elec} \\phi_r(y) \\phi_s(x) dxdy\n",
    "from pyscf import ao2mo\n",
    "\n",
    "# eri = ao2mo.kernel(EMBEDDED_HF_full_system_scf, canonical_orbitals)\n",
    "\n",
    "eri = ao2mo.kernel(full_system_mol_HIGH_LEVEL_WF_mol, canonical_orbitals)\n",
    "n_orbitals = canonical_orbitals.shape[1]\n",
    "eri = ao2mo.restore(1, # no permutation symmetry\n",
    "                                eri, n_orbitals)\n",
    "\n",
    "\n",
    "two_body_integrals = np.asarray(eri.transpose(0, 2, 3, 1), order='C')\n",
    "two_body_integrals.shape"
   ]
  },
  {
   "cell_type": "code",
   "execution_count": null,
   "metadata": {},
   "outputs": [],
   "source": []
  },
  {
   "cell_type": "code",
   "execution_count": null,
   "metadata": {},
   "outputs": [],
   "source": [
    "def spinorb_from_spatial(one_body_integrals, two_body_integrals):\n",
    "    EQ_TOLERANCE=1e-8\n",
    "    n_qubits = 2 * one_body_integrals.shape[0]\n",
    "\n",
    "    # Initialize Hamiltonian coefficients.\n",
    "    one_body_coefficients = np.zeros((n_qubits, n_qubits))\n",
    "    two_body_coefficients = np.zeros(\n",
    "        (n_qubits, n_qubits, n_qubits, n_qubits))\n",
    "    # Loop through integrals.\n",
    "    for p in range(n_qubits // 2):\n",
    "        for q in range(n_qubits // 2):\n",
    "\n",
    "            # Populate 1-body coefficients. Require p and q have same spin.\n",
    "            one_body_coefficients[2 * p, 2 * q] = one_body_integrals[p, q]\n",
    "            one_body_coefficients[2 * p + 1, 2 * q +\n",
    "                                  1] = one_body_integrals[p, q]\n",
    "            # Continue looping to prepare 2-body coefficients.\n",
    "            for r in range(n_qubits // 2):\n",
    "                for s in range(n_qubits // 2):\n",
    "\n",
    "                    # Mixed spin\n",
    "                    two_body_coefficients[2 * p, 2 * q + 1, 2 * r + 1, 2 *\n",
    "                                          s] = (two_body_integrals[p, q, r, s])\n",
    "                    two_body_coefficients[2 * p + 1, 2 * q, 2 * r, 2 * s +\n",
    "                                          1] = (two_body_integrals[p, q, r, s])\n",
    "\n",
    "                    # Same spin\n",
    "                    two_body_coefficients[2 * p, 2 * q, 2 * r, 2 *\n",
    "                                          s] = (two_body_integrals[p, q, r, s])\n",
    "                    two_body_coefficients[2 * p + 1, 2 * q + 1, 2 * r +\n",
    "                                          1, 2 * s +\n",
    "                                          1] = (two_body_integrals[p, q, r, s])\n",
    "\n",
    "    # Truncate.\n",
    "    one_body_coefficients[\n",
    "        np.absolute(one_body_coefficients) < EQ_TOLERANCE] = 0.\n",
    "    two_body_coefficients[\n",
    "        np.absolute(two_body_coefficients) < EQ_TOLERANCE] = 0.\n",
    "\n",
    "    return one_body_coefficients, two_body_coefficients\n"
   ]
  },
  {
   "cell_type": "code",
   "execution_count": null,
   "metadata": {},
   "outputs": [],
   "source": [
    "one_body_coefficients, two_body_coefficients = spinorb_from_spatial(one_body_integrals,\n",
    "                                                                    two_body_integrals)"
   ]
  },
  {
   "cell_type": "code",
   "execution_count": null,
   "metadata": {},
   "outputs": [],
   "source": [
    "from openfermion.ops.representations import InteractionOperator\n",
    "\n",
    "constant = full_system_scf.energy_nuc() \n",
    "\n",
    "molecular_hamiltonian = InteractionOperator(constant,\n",
    "                                            one_body_coefficients,\n",
    "                                            1 / 2 * two_body_coefficients)\n",
    "\n",
    "n_qubits = two_body_coefficients.shape[0]\n",
    "\n",
    "from openfermion.transforms import jordan_wigner\n",
    "Qubit_Hamiltonian = jordan_wigner(molecular_hamiltonian)"
   ]
  },
  {
   "cell_type": "code",
   "execution_count": null,
   "metadata": {},
   "outputs": [],
   "source": [
    "len(list(Qubit_Hamiltonian))"
   ]
  },
  {
   "cell_type": "code",
   "execution_count": null,
   "metadata": {},
   "outputs": [],
   "source": []
  },
  {
   "cell_type": "code",
   "execution_count": null,
   "metadata": {},
   "outputs": [],
   "source": [
    "from openfermion import get_sparse_operator\n",
    "H_matrix = get_sparse_operator(Qubit_Hamiltonian)"
   ]
  },
  {
   "cell_type": "code",
   "execution_count": null,
   "metadata": {},
   "outputs": [],
   "source": []
  },
  {
   "cell_type": "code",
   "execution_count": null,
   "metadata": {},
   "outputs": [],
   "source": []
  },
  {
   "cell_type": "code",
   "execution_count": null,
   "metadata": {},
   "outputs": [],
   "source": []
  },
  {
   "cell_type": "code",
   "execution_count": null,
   "metadata": {},
   "outputs": [],
   "source": []
  },
  {
   "cell_type": "code",
   "execution_count": null,
   "metadata": {},
   "outputs": [],
   "source": []
  },
  {
   "cell_type": "code",
   "execution_count": null,
   "metadata": {},
   "outputs": [],
   "source": [
    "print(embedded_wf.e_tot)\n",
    "print(full_system_scf_HIGH_LEVEL_HF.e_tot + correlation_energy)\n",
    "# np.isclose(embedded_wf.e_tot,  )"
   ]
  },
  {
   "cell_type": "code",
   "execution_count": null,
   "metadata": {},
   "outputs": [],
   "source": []
  },
  {
   "cell_type": "code",
   "execution_count": null,
   "metadata": {},
   "outputs": [],
   "source": [
    "## not sure if this\n",
    "shift = full_system_mol.nbas - n_env_mos\n",
    "frozen_orbitals = [i for i in range(shift, full_system_mol.nbas)]\n",
    "\n",
    "## OR\n",
    "frozen_orbitals = enviro_ind_occ"
   ]
  },
  {
   "cell_type": "code",
   "execution_count": null,
   "metadata": {},
   "outputs": [],
   "source": []
  },
  {
   "cell_type": "code",
   "execution_count": null,
   "metadata": {},
   "outputs": [],
   "source": [
    "full_system_mol_EMBEDDED_HF = gto.Mole(atom= geometry,\n",
    "                      basis=basis,\n",
    "                       charge=0,\n",
    "                       #spin=0,\n",
    "                      )\n",
    "full_system_mol_EMBEDDED_HF.build()\n",
    "full_system_mol_EMBEDDED_HF.nelectron = int(np.around(np.trace(dm_active@S)))\n",
    "\n",
    "EMBEDDED_HF_full_system_scf = scf.RHF(full_system_mol_EMBEDDED_HF)\n",
    "EMBEDDED_HF_full_system_scf.verbose=1\n",
    "EMBEDDED_HF_full_system_scf.max_memory= 8_000\n",
    "EMBEDDED_HF_full_system_scf.conv_tol = 1e-6\n",
    "\n",
    "h_core = EMBEDDED_HF_full_system_scf.get_hcore()\n",
    "EMBEDDED_HF_full_system_scf.get_hcore = lambda *args: v_emb + h_core\n",
    "\n",
    "EMBEDDED_HF_full_system_scf.kernel() # <-- this would run away from psi embedded\n",
    "\n",
    "dm_act_EMBEDDED = EMBEDDED_HF_full_system_scf.make_rdm1()\n",
    "# dm_act_EMBEDDED = 2 * act_orbitals @ act_orbitals.T\n",
    "\n",
    "h1e = EMBEDDED_HF_full_system_scf.get_hcore()\n",
    "s1e = EMBEDDED_HF_full_system_scf.get_ovlp()\n",
    "vhf= EMBEDDED_HF_full_system_scf.get_veff(dm=dm_act_EMBEDDED)\n",
    "\n",
    "fock = EMBEDDED_HF_full_system_scf.get_fock(h1e, s1e, vhf, dm_act_EMBEDDED)  # = h1e + vhf, no DIIS\n",
    "mo_energy, mo_coeff = EMBEDDED_HF_full_system_scf.eig(fock, s1e)\n",
    "mo_occ = EMBEDDED_HF_full_system_scf.get_occ(mo_energy, mo_coeff)\n",
    "e_tot = EMBEDDED_HF_full_system_scf.energy_tot(dm_act_EMBEDDED, h1e, vhf)\n",
    "\n",
    "\n",
    "EMBEDDED_HF_full_system_scf.mo_energy = mo_energy\n",
    "EMBEDDED_HF_full_system_scf.mo_coeff = mo_coeff\n",
    "EMBEDDED_HF_full_system_scf.mo_occ = mo_occ\n",
    "EMBEDDED_HF_full_system_scf.e_tot = e_tot\n",
    "EMBEDDED_HF_full_system_scf.converged = True\n",
    "e_tot"
   ]
  },
  {
   "cell_type": "code",
   "execution_count": null,
   "metadata": {},
   "outputs": [],
   "source": [
    "np.trace(dm_act_EMBEDDED@S)"
   ]
  },
  {
   "cell_type": "code",
   "execution_count": null,
   "metadata": {},
   "outputs": [],
   "source": [
    "embedded_wf = cc.CCSD(EMBEDDED_HF_full_system_scf).set(frozen = frozen_orbitals).run()\n",
    "correlation_energy = embedded_wf.e_corr\n",
    "correlation_energy"
   ]
  },
  {
   "cell_type": "code",
   "execution_count": null,
   "metadata": {},
   "outputs": [],
   "source": []
  },
  {
   "cell_type": "code",
   "execution_count": null,
   "metadata": {},
   "outputs": [],
   "source": []
  },
  {
   "cell_type": "code",
   "execution_count": null,
   "metadata": {},
   "outputs": [],
   "source": [
    "# uses new embedded density matrix!\n",
    "e_act_emb_NEW = matrix_dot(dm_act_EMBEDDED, h_core + 0.5 * J_emb - 0.25 * K_emb)\n",
    "# e_act_emb_NEW = matrix_dot(dm_act_EMBEDDED, h_core + 0.5 * vhf)\n",
    "e_act_emb_NEW"
   ]
  },
  {
   "cell_type": "code",
   "execution_count": null,
   "metadata": {},
   "outputs": [],
   "source": []
  },
  {
   "cell_type": "code",
   "execution_count": null,
   "metadata": {},
   "outputs": [],
   "source": [
    "E_corrected = (e_act_emb_NEW + E_env + two_e_cross + \n",
    "               full_system_scf.energy_nuc() + correction + correlation_energy) \n",
    "E_corrected"
   ]
  },
  {
   "cell_type": "code",
   "execution_count": 111,
   "metadata": {},
   "outputs": [
    {
     "ename": "NameError",
     "evalue": "name 'fci' is not defined",
     "output_type": "error",
     "traceback": [
      "\u001b[0;31m---------------------------------------------------------------------------\u001b[0m",
      "\u001b[0;31mNameError\u001b[0m                                 Traceback (most recent call last)",
      "\u001b[0;32m<ipython-input-111-e522c8cd703e>\u001b[0m in \u001b[0;36m<module>\u001b[0;34m\u001b[0m\n\u001b[1;32m      6\u001b[0m \u001b[0mHF_scf\u001b[0m\u001b[0;34m.\u001b[0m\u001b[0mkernel\u001b[0m\u001b[0;34m(\u001b[0m\u001b[0;34m)\u001b[0m\u001b[0;34m\u001b[0m\u001b[0;34m\u001b[0m\u001b[0m\n\u001b[1;32m      7\u001b[0m \u001b[0;34m\u001b[0m\u001b[0m\n\u001b[0;32m----> 8\u001b[0;31m \u001b[0mcisolver\u001b[0m \u001b[0;34m=\u001b[0m \u001b[0mfci\u001b[0m\u001b[0;34m.\u001b[0m\u001b[0mFCI\u001b[0m\u001b[0;34m(\u001b[0m\u001b[0mHF_scf\u001b[0m\u001b[0;34m)\u001b[0m\u001b[0;34m\u001b[0m\u001b[0;34m\u001b[0m\u001b[0m\n\u001b[0m\u001b[1;32m      9\u001b[0m \u001b[0mprint\u001b[0m\u001b[0;34m(\u001b[0m\u001b[0;34m'E(UHF-FCI) = %.12f'\u001b[0m \u001b[0;34m%\u001b[0m \u001b[0mcisolver\u001b[0m\u001b[0;34m.\u001b[0m\u001b[0mkernel\u001b[0m\u001b[0;34m(\u001b[0m\u001b[0;34m)\u001b[0m\u001b[0;34m[\u001b[0m\u001b[0;36m0\u001b[0m\u001b[0;34m]\u001b[0m\u001b[0;34m)\u001b[0m\u001b[0;34m\u001b[0m\u001b[0;34m\u001b[0m\u001b[0m\n\u001b[1;32m     10\u001b[0m \u001b[0;34m\u001b[0m\u001b[0m\n",
      "\u001b[0;31mNameError\u001b[0m: name 'fci' is not defined"
     ]
    }
   ],
   "source": [
    "HF_scf = scf.RHF(full_system_mol)\n",
    "HF_scf.verbose=1\n",
    "HF_scf.max_memory= 8_000\n",
    "HF_scf.conv_tol = 1e-6\n",
    "HF_scf.xc = low_level_xc_functional_or_HF\n",
    "HF_scf.kernel()\n",
    "\n",
    "cisolver = fci.FCI(HF_scf)\n",
    "print('E(UHF-FCI) = %.12f' % cisolver.kernel()[0])\n",
    "\n",
    "# myci = ci.CISD(HF_scf).run() # this is UCISD\n",
    "# print('UCISD total energy = ', myci.e_tot)"
   ]
  },
  {
   "cell_type": "code",
   "execution_count": null,
   "metadata": {},
   "outputs": [],
   "source": []
  },
  {
   "cell_type": "code",
   "execution_count": null,
   "metadata": {},
   "outputs": [],
   "source": [
    "abs(myci.e_tot - e_mf_emb)"
   ]
  },
  {
   "cell_type": "code",
   "execution_count": null,
   "metadata": {},
   "outputs": [],
   "source": [
    "abs(myci.e_tot - E_corrected)"
   ]
  },
  {
   "cell_type": "code",
   "execution_count": null,
   "metadata": {},
   "outputs": [],
   "source": [
    "abs(myci.e_tot - (e_mf_emb + correlation_energy )) # not (what PsiEmbed does)"
   ]
  },
  {
   "cell_type": "code",
   "execution_count": null,
   "metadata": {},
   "outputs": [],
   "source": []
  },
  {
   "cell_type": "code",
   "execution_count": null,
   "metadata": {},
   "outputs": [],
   "source": [
    "full_system_mol = gto.Mole(atom= geometry,\n",
    "                      basis=basis,\n",
    "                       charge=0,\n",
    "                       #spin=0,\n",
    "                      )\n",
    "full_system_mol.build()\n",
    "full_system_mol.verbose = 1\n",
    "full_system_mol.max_memory = 8_000 #MB\n",
    "full_system_scf = scf.RKS(full_system_mol)\n",
    "full_system_scf.verbose=1\n",
    "full_system_scf.max_memory= 8_000\n",
    "full_system_scf.conv_tol = 1e-6\n",
    "full_system_scf.xc = high_level_xc_functional # <-- higher level DFT calc of supersystem!!!\n",
    "full_system_scf.kernel()\n",
    "\n",
    "full_system_scf.e_tot"
   ]
  },
  {
   "cell_type": "code",
   "execution_count": null,
   "metadata": {
    "scrolled": true
   },
   "outputs": [],
   "source": [
    "print(abs(full_system_scf.e_tot - e_mf_emb))\n",
    "print(abs(full_system_scf.e_tot - E_corrected))\n",
    "print(abs(full_system_scf.e_tot - (e_mf_emb + correlation_energy )))"
   ]
  },
  {
   "cell_type": "code",
   "execution_count": null,
   "metadata": {},
   "outputs": [],
   "source": []
  },
  {
   "cell_type": "code",
   "execution_count": null,
   "metadata": {},
   "outputs": [],
   "source": []
  },
  {
   "cell_type": "code",
   "execution_count": null,
   "metadata": {},
   "outputs": [],
   "source": [
    "fock = EMBEDDED_HF_full_system_scf.get_fock(h1e, s1e, vhf, dm_act_EMBEDDED)  # = h1e + vhf, no DIIS\n",
    "mo_energy, mo_coeff = EMBEDDED_HF_full_system_scf.eig(fock, s1e)\n",
    "\n",
    "# eig_val, eig_vec = eigh(fock)\n",
    "# eig_val"
   ]
  },
  {
   "cell_type": "code",
   "execution_count": null,
   "metadata": {},
   "outputs": [],
   "source": []
  },
  {
   "cell_type": "code",
   "execution_count": null,
   "metadata": {},
   "outputs": [],
   "source": [
    "# h_core + 0.5 * vhf"
   ]
  },
  {
   "cell_type": "markdown",
   "metadata": {},
   "source": [
    "# QC calc"
   ]
  },
  {
   "cell_type": "code",
   "execution_count": null,
   "metadata": {},
   "outputs": [],
   "source": [
    "# #2D array for one-body Hamiltonian (H_core) in the MO representation\n",
    "\n",
    "# EMBEDDED_Hcore =  EMBEDDED_HF_full_system_scf.get_hcore() # contains v_embedding!\n",
    "# canonical_orbitals  = EMBEDDED_HF_full_system_scf.mo_coeff \n",
    "\n",
    "\n",
    "# one_body_integrals = canonical_orbitals.conj().T @ EMBEDDED_Hcore @ canonical_orbitals\n",
    "# one_body_integrals.shape"
   ]
  },
  {
   "cell_type": "code",
   "execution_count": null,
   "metadata": {},
   "outputs": [],
   "source": [
    "#2D array for one-body Hamiltonian (H_core) in the MO representation\n",
    "\n",
    "EMBEDDED_Hcore =  h_core # does NOT!!!!!!! contain v_embedding!\n",
    "canonical_orbitals  = EMBEDDED_HF_full_system_scf.mo_coeff # <-- this is optimized wavefunction WITH embedded vhf\n",
    "\n",
    "\n",
    "one_body_integrals = canonical_orbitals.conj().T @ EMBEDDED_Hcore @ canonical_orbitals\n",
    "one_body_integrals.shape"
   ]
  },
  {
   "cell_type": "code",
   "execution_count": null,
   "metadata": {},
   "outputs": [],
   "source": [
    "# A 4-dimension array for electron repulsion integrals in the MO\n",
    "# representation.  The integrals are computed as\n",
    "# h[p,q,r,s]=\\int \\phi_p(x)* \\phi_q(y)* V_{elec-elec} \\phi_r(y) \\phi_s(x) dxdy\n",
    "from pyscf import ao2mo\n",
    "\n",
    "# eri = ao2mo.kernel(EMBEDDED_HF_full_system_scf, canonical_orbitals)\n",
    "\n",
    "eri = ao2mo.kernel(full_system_mol_EMBEDDED_HF, canonical_orbitals)\n",
    "n_orbitals = canonical_orbitals.shape[1]\n",
    "eri = ao2mo.restore(1, # no permutation symmetry\n",
    "                                eri, n_orbitals)\n",
    "\n",
    "\n",
    "two_body_integrals = np.asarray(eri.transpose(0, 2, 3, 1), order='C')\n",
    "two_body_integrals.shape"
   ]
  },
  {
   "cell_type": "code",
   "execution_count": null,
   "metadata": {},
   "outputs": [],
   "source": [
    "shift = full_system_mol.nbas - n_env_mos\n",
    "frozen_orbitals = [i for i in range(shift, full_system_mol.nbas)]\n",
    "\n",
    "# frozen_orbitals = enviro_ao_ind\n",
    "frozen_orbitals"
   ]
  },
  {
   "cell_type": "code",
   "execution_count": null,
   "metadata": {},
   "outputs": [],
   "source": [
    "# https://github.com/quantumlib/OpenFermion/blob/84d169b529a27a0cfd1cc41073d2665f1fcf0312/src/openfermion/ops/representations/interaction_operator.py#L210\n",
    "\n",
    "## define active space!\n",
    "\n",
    "active_indices = [i for i in range(0, shift)]\n",
    "occupied_indices = np.where(EMBEDDED_HF_full_system_scf.mo_occ>0)[0]\n",
    "\n",
    "# active_indices = active_ao_ind\n",
    "\n",
    "core_adjustment = 0.0\n",
    "for i in occupied_indices:\n",
    "    core_adjustment += 2 * one_body_integrals[i, i]\n",
    "    for j in occupied_indices:\n",
    "        core_adjustment += (2 * two_body_integrals[i, j, j, i] -\n",
    "                          two_body_integrals[i, j, i, j])\n",
    "\n",
    "# Modified one electron integrals\n",
    "one_body_integrals_new = np.copy(one_body_integrals)\n",
    "for u in active_indices:\n",
    "    for v in active_indices:\n",
    "        for i in occupied_indices:\n",
    "            one_body_integrals_new[u, v] += (\n",
    "                2 * two_body_integrals[i, u, v, i] -\n",
    "                two_body_integrals[i, u, i, v])\n",
    "\n",
    "# Restrict integral ranges and change M appropriately\n",
    "\n",
    "one_body_integrals_NEW = one_body_integrals_new[np.ix_(active_indices, active_indices)]\n",
    "\n",
    "two_body_integrals_NEW = two_body_integrals[np.ix_(active_indices, active_indices,\n",
    "                             active_indices, active_indices)]"
   ]
  },
  {
   "cell_type": "code",
   "execution_count": null,
   "metadata": {},
   "outputs": [],
   "source": [
    "def spinorb_from_spatial(one_body_integrals, two_body_integrals):\n",
    "    EQ_TOLERANCE=1e-8\n",
    "    n_qubits = 2 * one_body_integrals.shape[0]\n",
    "\n",
    "    # Initialize Hamiltonian coefficients.\n",
    "    one_body_coefficients = np.zeros((n_qubits, n_qubits))\n",
    "    two_body_coefficients = np.zeros(\n",
    "        (n_qubits, n_qubits, n_qubits, n_qubits))\n",
    "    # Loop through integrals.\n",
    "    for p in range(n_qubits // 2):\n",
    "        for q in range(n_qubits // 2):\n",
    "\n",
    "            # Populate 1-body coefficients. Require p and q have same spin.\n",
    "            one_body_coefficients[2 * p, 2 * q] = one_body_integrals[p, q]\n",
    "            one_body_coefficients[2 * p + 1, 2 * q +\n",
    "                                  1] = one_body_integrals[p, q]\n",
    "            # Continue looping to prepare 2-body coefficients.\n",
    "            for r in range(n_qubits // 2):\n",
    "                for s in range(n_qubits // 2):\n",
    "\n",
    "                    # Mixed spin\n",
    "                    two_body_coefficients[2 * p, 2 * q + 1, 2 * r + 1, 2 *\n",
    "                                          s] = (two_body_integrals[p, q, r, s])\n",
    "                    two_body_coefficients[2 * p + 1, 2 * q, 2 * r, 2 * s +\n",
    "                                          1] = (two_body_integrals[p, q, r, s])\n",
    "\n",
    "                    # Same spin\n",
    "                    two_body_coefficients[2 * p, 2 * q, 2 * r, 2 *\n",
    "                                          s] = (two_body_integrals[p, q, r, s])\n",
    "                    two_body_coefficients[2 * p + 1, 2 * q + 1, 2 * r +\n",
    "                                          1, 2 * s +\n",
    "                                          1] = (two_body_integrals[p, q, r, s])\n",
    "\n",
    "    # Truncate.\n",
    "    one_body_coefficients[\n",
    "        np.absolute(one_body_coefficients) < EQ_TOLERANCE] = 0.\n",
    "    two_body_coefficients[\n",
    "        np.absolute(two_body_coefficients) < EQ_TOLERANCE] = 0.\n",
    "\n",
    "    return one_body_coefficients, two_body_coefficients"
   ]
  },
  {
   "cell_type": "code",
   "execution_count": null,
   "metadata": {},
   "outputs": [],
   "source": [
    "one_body_coefficients, two_body_coefficients = spinorb_from_spatial(one_body_integrals_NEW, two_body_integrals_NEW)"
   ]
  },
  {
   "cell_type": "code",
   "execution_count": null,
   "metadata": {},
   "outputs": [],
   "source": [
    "# one_body_integrals_NEW =one_body_integrals\n",
    "# two_body_integrals_NEW =two_body_integrals"
   ]
  },
  {
   "cell_type": "code",
   "execution_count": null,
   "metadata": {},
   "outputs": [],
   "source": [
    "from openfermion.ops.representations import InteractionOperator\n",
    "\n",
    "constant = full_system_scf.energy_nuc() + core_adjustment\n",
    "\n",
    "molecular_hamiltonian = InteractionOperator(constant,\n",
    "                                            one_body_integrals_NEW,\n",
    "                                            1 / 2 * two_body_integrals_NEW)\n",
    "\n",
    "n_qubits = one_body_integrals_NEW.shape[0]"
   ]
  },
  {
   "cell_type": "code",
   "execution_count": null,
   "metadata": {},
   "outputs": [],
   "source": []
  },
  {
   "cell_type": "code",
   "execution_count": null,
   "metadata": {},
   "outputs": [],
   "source": [
    "from openfermion.transforms import jordan_wigner\n",
    "Qubit_Hamiltonian = jordan_wigner(molecular_hamiltonian)"
   ]
  },
  {
   "cell_type": "code",
   "execution_count": null,
   "metadata": {},
   "outputs": [],
   "source": [
    "len(list(Qubit_Hamiltonian))"
   ]
  },
  {
   "cell_type": "code",
   "execution_count": null,
   "metadata": {},
   "outputs": [],
   "source": [
    "from functools import reduce\n",
    "\n",
    "H_trimmed = [op for op in Qubit_Hamiltonian if list(op.terms.values())[0]>1e-5]\n",
    "# H_trimmed_op = reduce(lambda x,y: x+y, H_trimmed_op)\n",
    "len(H_trimmed)"
   ]
  },
  {
   "cell_type": "code",
   "execution_count": null,
   "metadata": {},
   "outputs": [],
   "source": [
    "from openfermion import QubitOperator\n",
    "H_trimmed_op = QubitOperator()\n",
    "for term in H_trimmed:\n",
    "    H_trimmed_op+=term"
   ]
  },
  {
   "cell_type": "code",
   "execution_count": null,
   "metadata": {},
   "outputs": [],
   "source": [
    "# H_matrix = get_sparse_operator(H_trimmed_op)"
   ]
  },
  {
   "cell_type": "code",
   "execution_count": null,
   "metadata": {},
   "outputs": [],
   "source": [
    "from tqdm.notebook import tqdm"
   ]
  },
  {
   "cell_type": "code",
   "execution_count": null,
   "metadata": {},
   "outputs": [],
   "source": [
    "Qubit_Hamiltonian"
   ]
  },
  {
   "cell_type": "code",
   "execution_count": null,
   "metadata": {},
   "outputs": [],
   "source": [
    "from openfermion import get_sparse_operator\n",
    "H_matrix = get_sparse_operator(Qubit_Hamiltonian)"
   ]
  },
  {
   "cell_type": "code",
   "execution_count": null,
   "metadata": {},
   "outputs": [],
   "source": [
    "Qubit_Hamiltonian"
   ]
  },
  {
   "cell_type": "code",
   "execution_count": null,
   "metadata": {},
   "outputs": [],
   "source": [
    "from scipy.linalg import eigh\n",
    "\n",
    "eig_val, eig_vec = eigh(H_matrix.todense())"
   ]
  },
  {
   "cell_type": "code",
   "execution_count": null,
   "metadata": {},
   "outputs": [],
   "source": [
    "min(eig_val)"
   ]
  },
  {
   "cell_type": "code",
   "execution_count": null,
   "metadata": {},
   "outputs": [],
   "source": [
    "idx = eig_val.argsort()   \n",
    "eigenValues = eig_val[idx]\n",
    "eigenVectors = eig_vec[:,idx]"
   ]
  },
  {
   "cell_type": "code",
   "execution_count": null,
   "metadata": {},
   "outputs": [],
   "source": [
    "WF_ground_state = eigenVectors[:, 0] \n",
    "\n",
    "dm_act_EMBEDDED_from_WF = 2 * np.outer(WF_ground_state, WF_ground_state)\n",
    "# np.trace(dm_act_EMBEDDED_from_WF@s1e)"
   ]
  },
  {
   "cell_type": "code",
   "execution_count": null,
   "metadata": {},
   "outputs": [],
   "source": [
    "dm_act_EMBEDDED_from_WF.shape"
   ]
  },
  {
   "cell_type": "code",
   "execution_count": null,
   "metadata": {},
   "outputs": [],
   "source": []
  },
  {
   "cell_type": "code",
   "execution_count": null,
   "metadata": {},
   "outputs": [],
   "source": [
    "E_WF_in_DFT = (min(eig_val) + E_env + two_e_cross + correction) \n",
    "E_WF_in_DFT"
   ]
  },
  {
   "cell_type": "code",
   "execution_count": null,
   "metadata": {},
   "outputs": [],
   "source": []
  },
  {
   "cell_type": "code",
   "execution_count": null,
   "metadata": {},
   "outputs": [],
   "source": [
    "E_final = (eigenVectors[:, 0].conj().T  @ H_matrix.toarray() @  eigenVectors[:, 0]  +\n",
    "           E_env + two_e_cross + correction)\n",
    "E_final"
   ]
  },
  {
   "cell_type": "code",
   "execution_count": null,
   "metadata": {},
   "outputs": [],
   "source": []
  },
  {
   "cell_type": "code",
   "execution_count": null,
   "metadata": {},
   "outputs": [],
   "source": [
    "print(abs(myci.e_tot - E_final))"
   ]
  },
  {
   "cell_type": "code",
   "execution_count": null,
   "metadata": {},
   "outputs": [],
   "source": []
  },
  {
   "cell_type": "code",
   "execution_count": null,
   "metadata": {},
   "outputs": [],
   "source": []
  },
  {
   "cell_type": "markdown",
   "metadata": {},
   "source": [
    "1. Global calc\n",
    "\n",
    "\n",
    "2. localize orbitals\n",
    "    - SPADE\n",
    "    - PM\n",
    "    \n",
    "3. define active system and enirvo\n",
    "4. Define V_emb\n",
    "5. Find gamma_active_EMBEDDED\n",
    "6. Calculate Energy of A with gamma_active_EMBEDDED"
   ]
  }
 ],
 "metadata": {
  "kernelspec": {
   "display_name": "Python 3",
   "language": "python",
   "name": "python3"
  },
  "language_info": {
   "codemirror_mode": {
    "name": "ipython",
    "version": 3
   },
   "file_extension": ".py",
   "mimetype": "text/x-python",
   "name": "python",
   "nbconvert_exporter": "python",
   "pygments_lexer": "ipython3",
   "version": "3.8.5"
  }
 },
 "nbformat": 4,
 "nbformat_minor": 4
}
