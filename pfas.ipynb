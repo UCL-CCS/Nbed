{
 "cells": [
  {
   "cell_type": "markdown",
   "metadata": {},
   "source": [
    "## Try some bond dissociations of PFAS molecules"
   ]
  },
  {
   "cell_type": "code",
   "execution_count": 1,
   "metadata": {},
   "outputs": [
    {
     "name": "stderr",
     "output_type": "stream",
     "text": [
      "/Users/michaelwilliamsdelabastida/Library/Caches/pypoetry/virtualenvs/nbed-1_9TTDE1-py3.10/lib/python3.10/site-packages/pyscf/dft/libxc.py:771: UserWarning: Since PySCF-2.3, B3LYP (and B3P86) are changed to the VWN-RPA variant, corresponding to the original definition by Stephens et al. (issue 1480) and the same as the B3LYP functional in Gaussian. To restore the VWN5 definition, you can put the setting \"B3LYP_WITH_VWN5 = True\" in pyscf_conf.py\n",
      "  warnings.warn('Since PySCF-2.3, B3LYP (and B3P86) are changed to the VWN-RPA variant, '\n"
     ]
    },
    {
     "data": {
      "text/plain": [
       "'/Users/michaelwilliamsdelabastida/Code/Nbed/molecular_structures/pfoa.xyz'"
      ]
     },
     "execution_count": 1,
     "metadata": {},
     "output_type": "execute_result"
    }
   ],
   "source": [
    "from nbed.utils import pubchem_mol_geometry, build_ordered_xyz_string, save_ordered_xyz_file\n",
    "\n",
    "pfoa = pubchem_mol_geometry(\"Perfluorooctanoic acid\")\n",
    "pfoa_ordered = build_ordered_xyz_string(pfoa, active_atom_inds=[2,20])\n",
    "save_ordered_xyz_file(\"pfoa\", pfoa, active_atom_inds=[2,20])\n"
   ]
  },
  {
   "cell_type": "code",
   "execution_count": 2,
   "metadata": {},
   "outputs": [
    {
     "data": {
      "text/plain": [
       "{0: ('F', (-1.0539, 1.9481, -0.2014)),\n",
       " 1: ('F', (0.5434, 1.2581, -1.5025)),\n",
       " 2: ('F', (1.2215, 1.6487, 1.0783)),\n",
       " 3: ('F', (-0.3328, 0.2934, 1.7581)),\n",
       " 4: ('F', (-1.8211, 0.1669, -2.1654)),\n",
       " 5: ('F', (-0.4525, -1.3197, -1.355)),\n",
       " 6: ('F', (2.0673, -0.7623, 1.9165)),\n",
       " 7: ('F', (0.8055, -1.7942, 0.487)),\n",
       " 8: ('F', (-2.9835, -1.7149, -0.6823)),\n",
       " 9: ('F', (-1.6932, -1.3046, 1.0212)),\n",
       " 10: ('F', (2.1054, -0.612, -1.6013)),\n",
       " 11: ('F', (3.3419, -1.7554, -0.2365)),\n",
       " 12: ('F', (-3.9677, 0.8422, -0.5956)),\n",
       " 13: ('F', (-2.6826, 1.3007, 1.1093)),\n",
       " 14: ('F', (-4.1728, -0.274, 1.2669)),\n",
       " 15: ('O', (4.5699, 0.3287, 0.6742)),\n",
       " 16: ('O', (3.3666, 1.6773, -0.7043)),\n",
       " 17: ('C', (-0.2911, 0.8598, -0.5112)),\n",
       " 18: ('C', (0.5314, 0.5262, 0.7274)),\n",
       " 19: ('C', (-1.2138, -0.2391, -1.0209)),\n",
       " 20: ('C', (1.5064, -0.6431, 0.6776)),\n",
       " 21: ('C', (-2.285, -0.7254, -0.0556)),\n",
       " 22: ('C', (2.6302, -0.5967, -0.3477)),\n",
       " 23: ('C', (-3.2786, 0.3, 0.4302)),\n",
       " 24: ('C', (3.5392, 0.5913, -0.1672)),\n",
       " 25: ('H', (5.1534, 1.1082, 0.793))}"
      ]
     },
     "execution_count": 2,
     "metadata": {},
     "output_type": "execute_result"
    }
   ],
   "source": [
    "pfoa"
   ]
  },
  {
   "cell_type": "code",
   "execution_count": 35,
   "metadata": {},
   "outputs": [
    {
     "name": "stdout",
     "output_type": "stream",
     "text": [
      "System: uname_result(system='Darwin', node='MacBook-Pro-de-Michael.local', release='23.1.0', version='Darwin Kernel Version 23.1.0: Mon Oct  9 21:32:11 PDT 2023; root:xnu-10002.41.9~7/RELEASE_ARM64_T6030', machine='arm64')  Threads 1\n",
      "Python 3.10.11 (v3.10.11:7d4cc5aa85, Apr  4 2023, 19:05:19) [Clang 13.0.0 (clang-1300.0.29.30)]\n",
      "numpy 1.22.4  scipy 1.9.3\n",
      "Date: Thu Dec 14 14:19:07 2023\n",
      "PySCF version 2.4.0\n",
      "PySCF path  /Users/michaelwilliamsdelabastida/Library/Caches/pypoetry/virtualenvs/nbed-1_9TTDE1-py3.10/lib/python3.10/site-packages/pyscf\n",
      "\n",
      "[CONFIG] conf_file None\n",
      "[INPUT] verbose = 4\n",
      "[INPUT] num. atoms = 26\n",
      "[INPUT] num. electrons = 200\n",
      "[INPUT] charge = 0\n",
      "[INPUT] spin (= nelec alpha-beta = 2S) = 0\n",
      "[INPUT] symmetry False subgroup None\n",
      "[INPUT] Mole.unit = angstrom\n",
      "[INPUT] Symbol           X                Y                Z      unit          X                Y                Z       unit  Magmom\n",
      "[INPUT]  1 C      3.539200000000   0.591300000000  -0.167200000000 AA    6.688118700061   1.117395057455  -0.315962208027 Bohr   0.0\n",
      "[INPUT]  2 C      2.630200000000  -0.596700000000  -0.347700000000 AA    4.970357652831  -1.127599578528  -0.657057773511 Bohr   0.0\n",
      "[INPUT]  3 O      4.569900000000   0.328700000000   0.674200000000 AA    8.635859416650   0.621152977145   1.274053353182 Bohr   0.0\n",
      "[INPUT]  4 O      3.366600000000   1.677300000000  -0.704300000000 AA    6.361951970961   3.169637628733  -1.330934109531 Bohr   0.0\n",
      "[INPUT]  5 H      5.153400000000   1.108200000000   0.793000000000 AA    9.738514610334   2.094194491243   1.498552816780 Bohr   0.0\n",
      "[INPUT]  6 F      3.341900000000  -1.755400000000  -0.236500000000 AA    6.315275735684  -3.317225239062  -0.446920228460 Bohr   0.0\n",
      "[INPUT]  7 F     -1.053900000000   1.948100000000  -0.201400000000 AA   -1.991582362679   3.681375463265  -0.380590841487 Bohr   0.0\n",
      "[INPUT]  8 F      0.543400000000   1.258100000000  -1.502500000000 AA    1.026877176089   2.377464437315  -2.839313502159 Bohr   0.0\n",
      "[INPUT]  9 F      1.221500000000   1.648700000000   1.078300000000 AA    2.308300461156   3.115591461570   2.037691680119 Bohr   0.0\n",
      "[INPUT] 10 F     -0.332800000000   0.293400000000   1.758100000000 AA   -0.628900854255   0.554445644947   3.322327499598 Bohr   0.0\n",
      "[INPUT] 11 F     -1.821100000000   0.166900000000  -2.165400000000 AA   -3.441380245445   0.315395290190  -4.092012950133 Bohr   0.0\n",
      "[INPUT] 12 F     -0.452500000000  -1.319700000000  -1.355000000000 AA   -0.855101071366  -2.493871566589  -2.560578898786 Bohr   0.0\n",
      "[INPUT] 13 F      2.067300000000  -0.762300000000   1.916500000000 AA    3.906630817313  -1.440538224756   3.621660117729 Bohr   0.0\n",
      "[INPUT] 14 F      0.805500000000  -1.794200000000   0.487000000000 AA    1.522174393337  -3.390546612695   0.920296622663 Bohr   0.0\n",
      "[INPUT] 15 F     -2.983500000000  -1.714900000000  -0.682300000000 AA   -5.637997892640  -3.240691331017  -1.289360134791 Bohr   0.0\n",
      "[INPUT] 16 F     -1.693200000000  -1.304600000000   1.021200000000 AA   -3.199684274114  -2.465336702108   1.929788318406 Bohr   0.0\n",
      "[INPUT] 17 F      2.105400000000  -0.612000000000  -1.601300000000 AA    3.978629382659  -1.156512388234  -3.026018443266 Bohr   0.0\n",
      "[INPUT] 18 F     -3.967700000000   0.842200000000  -0.595600000000 AA   -7.497866344437   1.591527342109  -1.125520879791 Bohr   0.0\n",
      "[INPUT] 19 F     -2.682600000000   1.300700000000   1.109300000000 AA   -5.069379301758   2.457966770222   2.096273189980 Bohr   0.0\n",
      "[INPUT] 20 F     -4.172800000000  -0.274000000000   1.266900000000 AA   -7.885449172585  -0.517784958131   2.394094027211 Bohr   0.0\n",
      "[INPUT] 21 C     -0.291100000000   0.859800000000  -0.511200000000 AA   -0.550099274861   1.624786521901  -0.966027994878 Bohr   0.0\n",
      "[INPUT] 22 C      0.531400000000   0.526200000000   0.727400000000 AA    1.004200462594   0.994373886746   1.374586783009 Bohr   0.0\n",
      "[INPUT] 23 C     -1.213800000000  -0.239100000000  -1.020900000000 AA   -2.293749569997  -0.451833516384  -1.929221400568 Bohr   0.0\n",
      "[INPUT] 24 C      1.506400000000  -0.643100000000   0.677600000000 AA    2.846683434045  -1.215282870708   1.280478422005 Bohr   0.0\n",
      "[INPUT] 25 C     -2.285000000000  -0.725400000000  -0.055600000000 AA   -4.318024194631  -1.370807330759  -0.105068772526 Bohr   0.0\n",
      "[INPUT] 26 C     -3.278600000000   0.300000000000   0.430200000000 AA   -6.195656071999   0.566917837370   0.812960178788 Bohr   0.0\n",
      "\n",
      "nuclear repulsion = 3101.26223722708\n",
      "number of shells = 76\n",
      "number of NR pGTOs = 378\n",
      "number of NR cGTOs = 126\n",
      "basis = sto-3g\n",
      "ecp = {}\n",
      "CPU time:       690.63\n",
      "\n",
      "\n",
      "******** <class 'pyscf.scf.hf.RHF'> ********\n",
      "method = RHF\n",
      "initial guess = minao\n",
      "damping factor = 0\n",
      "level_shift factor = 0\n",
      "DIIS = <class 'pyscf.scf.diis.CDIIS'>\n",
      "diis_start_cycle = 1\n",
      "diis_space = 8\n",
      "SCF conv_tol = 1e-09\n",
      "SCF conv_tol_grad = None\n",
      "SCF max_cycles = 50\n",
      "direct_scf = True\n",
      "direct_scf_tol = 1e-13\n",
      "chkfile to save SCF result = /var/folders/b6/r25qxhld1ls1sll052q1dw5h0000gn/T/tmpb0p666er\n",
      "max_memory 4000 MB (current use 0 MB)\n",
      "Set gradient conv threshold to 3.16228e-05\n",
      "Initial guess from minao.\n",
      "init E= -1922.72012079895\n",
      "  HOMO = -0.522423785066195  LUMO = -0.146829167846143\n",
      "cycle= 1 E= -1916.65257500509  delta_E= 6.07  |g|= 1.96  |ddm|= 7.09\n",
      "  HOMO = -0.26379064488745  LUMO = 0.142203132752854\n",
      "cycle= 2 E= -1917.71422832779  delta_E= -1.06  |g|= 1.08  |ddm|= 3.71\n",
      "  HOMO = -0.363129540438599  LUMO = 0.231373341425349\n",
      "cycle= 3 E= -1918.02352392291  delta_E= -0.309  |g|= 0.173  |ddm|= 1.39\n",
      "  HOMO = -0.346881996414936  LUMO = 0.249164021274394\n",
      "cycle= 4 E= -1918.03730264432  delta_E= -0.0138  |g|= 0.0863  |ddm|= 0.346\n",
      "  HOMO = -0.367085540232382  LUMO = 0.250515228119996\n",
      "cycle= 5 E= -1918.04040874053  delta_E= -0.00311  |g|= 0.0135  |ddm|= 0.163\n",
      "  HOMO = -0.367110477406676  LUMO = 0.249668507058885\n",
      "cycle= 6 E= -1918.04054972902  delta_E= -0.000141  |g|= 0.00596  |ddm|= 0.0363\n",
      "  HOMO = -0.367683169042734  LUMO = 0.250233281987105\n",
      "cycle= 7 E= -1918.04057250724  delta_E= -2.28e-05  |g|= 0.00231  |ddm|= 0.0143\n",
      "  HOMO = -0.368128020501972  LUMO = 0.250393360313073\n",
      "cycle= 8 E= -1918.04057680186  delta_E= -4.29e-06  |g|= 0.000497  |ddm|= 0.00782\n",
      "  HOMO = -0.368214001912444  LUMO = 0.250332727228501\n",
      "cycle= 9 E= -1918.04057699011  delta_E= -1.88e-07  |g|= 6.56e-05  |ddm|= 0.00181\n",
      "  HOMO = -0.368218124676397  LUMO = 0.250319089334712\n",
      "cycle= 10 E= -1918.04057699271  delta_E= -2.6e-09  |g|= 2.32e-05  |ddm|= 0.000148\n",
      "  HOMO = -0.36821852490061  LUMO = 0.250317262683021\n",
      "cycle= 11 E= -1918.04057699315  delta_E= -4.34e-10  |g|= 8.89e-06  |ddm|= 6.17e-05\n",
      "  HOMO = -0.368218840097396  LUMO = 0.250316995075042\n",
      "Extra cycle  E= -1918.04057699323  delta_E= -8.46e-11  |g|= 5.05e-06  |ddm|= 1.92e-05\n",
      "converged SCF energy = -1918.04057699323\n"
     ]
    },
    {
     "data": {
      "text/plain": [
       "-1918.0405769932304"
      ]
     },
     "execution_count": 35,
     "metadata": {},
     "output_type": "execute_result"
    }
   ],
   "source": [
    "from pyscf.gto import Mole\n",
    "from pathlib import Path\n",
    "from pyscf.scf import RHF\n",
    "\n",
    "filepath = Path(\"molecular_structures/pfoa.xyz\").absolute()\n",
    "mol = Mole(atom=str(filepath), basis=\"sto-3g\", verbose=4)\n",
    "mol.build()\n",
    "\n",
    "mf = RHF(mol)\n",
    "mf.kernel()"
   ]
  },
  {
   "cell_type": "code",
   "execution_count": 36,
   "metadata": {},
   "outputs": [
    {
     "data": {
      "text/plain": [
       "(126, 126)"
      ]
     },
     "execution_count": 36,
     "metadata": {},
     "output_type": "execute_result"
    }
   ],
   "source": [
    "mf.mo_coeff.shape"
   ]
  },
  {
   "cell_type": "code",
   "execution_count": 5,
   "metadata": {},
   "outputs": [
    {
     "name": "stdout",
     "output_type": "stream",
     "text": [
      "System: uname_result(system='Darwin', node='MacBook-Pro-de-Michael.local', release='23.1.0', version='Darwin Kernel Version 23.1.0: Mon Oct  9 21:32:11 PDT 2023; root:xnu-10002.41.9~7/RELEASE_ARM64_T6030', machine='arm64')  Threads 1\n",
      "Python 3.10.11 (v3.10.11:7d4cc5aa85, Apr  4 2023, 19:05:19) [Clang 13.0.0 (clang-1300.0.29.30)]\n",
      "numpy 1.22.4  scipy 1.9.3\n",
      "Date: Thu Dec 14 17:25:42 2023\n",
      "PySCF version 2.4.0\n",
      "PySCF path  /Users/michaelwilliamsdelabastida/Library/Caches/pypoetry/virtualenvs/nbed-1_9TTDE1-py3.10/lib/python3.10/site-packages/pyscf\n",
      "\n",
      "[CONFIG] conf_file None\n",
      "[INPUT] verbose = 4\n",
      "[INPUT] num. atoms = 2\n",
      "[INPUT] num. electrons = 15\n",
      "[INPUT] charge = 0\n",
      "[INPUT] spin (= nelec alpha-beta = 2S) = 1\n",
      "[INPUT] symmetry False subgroup None\n",
      "[INPUT] Mole.unit = angstrom\n",
      "[INPUT] Symbol           X                Y                Z      unit          X                Y                Z       unit  Magmom\n",
      "[INPUT]  1 F      1.221500000000   1.648700000000   1.078300000000 AA    2.308300461156   3.115591461570   2.037691680119 Bohr   0.0\n",
      "[INPUT]  2 C      1.506400000000  -0.643100000000   0.677600000000 AA    2.846683434045  -1.215282870708   1.280478422005 Bohr   0.0\n",
      "\n",
      "nuclear repulsion = 12.1912313176931\n",
      "number of shells = 10\n",
      "number of NR pGTOs = 44\n",
      "number of NR cGTOs = 18\n",
      "basis = 6-31g\n",
      "ecp = {}\n",
      "CPU time:        14.34\n",
      "\n",
      "\n",
      "******** <class 'pyscf.scf.rohf.ROHF'> ********\n",
      "method = ROHF\n",
      "initial guess = minao\n",
      "damping factor = 0\n",
      "level_shift factor = 0\n",
      "DIIS = <class 'pyscf.scf.diis.CDIIS'>\n",
      "diis_start_cycle = 1\n",
      "diis_space = 8\n",
      "SCF conv_tol = 1e-09\n",
      "SCF conv_tol_grad = None\n",
      "SCF max_cycles = 50\n",
      "direct_scf = True\n",
      "direct_scf_tol = 1e-13\n",
      "chkfile to save SCF result = /var/folders/b6/r25qxhld1ls1sll052q1dw5h0000gn/T/tmp4jh7yk55\n",
      "max_memory 4000 MB (current use 0 MB)\n",
      "num. doubly occ = 7  num. singly occ = 1\n",
      "Set gradient conv threshold to 3.16228e-05\n",
      "init E= -136.305835163609\n",
      "\n",
      "WARN: HOMO -0.0350782017925164 >= LUMO -0.0350782017925162\n",
      "\n",
      "cycle= 1 E= -136.743192463284  delta_E= -0.437  |g|= 0.797  |ddm|= 0.749\n",
      "  HOMO = -0.184182592333583  LUMO = -0.172731378150528\n",
      "cycle= 2 E= -132.380968037342  delta_E= 4.36  |g|= 4.04  |ddm|= 1.83\n",
      "\n",
      "WARN: HOMO 1.65814327607364 >= LUMO -0.317690378686618\n",
      "\n",
      "cycle= 3 E= -134.819323094536  delta_E= -2.44  |g|= 0.876  |ddm|= 2.68\n",
      "  HOMO = -0.254919367264095  LUMO = -0.194146003791972\n",
      "cycle= 4 E= -135.476352407561  delta_E= -0.657  |g|= 2.53  |ddm|= 2.39\n",
      "  HOMO = -0.224469990805904  LUMO = -0.178152557519254\n",
      "cycle= 5 E= -133.77050591105  delta_E= 1.71  |g|= 3.59  |ddm|= 0.407\n",
      "  HOMO = -0.254766216501697  LUMO = -0.173952011342652\n",
      "cycle= 6 E= -135.355180632076  delta_E= -1.58  |g|= 2.63  |ddm|= 0.445\n",
      "  HOMO = -0.256343142600168  LUMO = -0.17488852674986\n",
      "cycle= 7 E= -135.462854454102  delta_E= -0.108  |g|= 2.55  |ddm|= 0.199\n",
      "\n",
      "WARN: HOMO -0.157006681181083 >= LUMO -0.235319709046286\n",
      "\n",
      "cycle= 8 E= -136.314489586801  delta_E= -0.852  |g|= 1.58  |ddm|= 1.01\n",
      "  HOMO = -0.221016459877607  LUMO = -0.194356814606166\n",
      "cycle= 9 E= -136.671322764717  delta_E= -0.357  |g|= 0.992  |ddm|= 0.246\n",
      "  HOMO = -0.237238238787138  LUMO = -0.136534012152781\n",
      "cycle= 10 E= -136.853845364538  delta_E= -0.183  |g|= 0.594  |ddm|= 0.332\n",
      "  HOMO = -0.219648578172927  LUMO = -0.136437392274264\n",
      "cycle= 11 E= -136.852370889787  delta_E= 0.00147  |g|= 0.603  |ddm|= 0.107\n",
      "  HOMO = -0.211498816001699  LUMO = -0.0405454462622215\n",
      "cycle= 12 E= -136.936206858214  delta_E= -0.0838  |g|= 0.146  |ddm|= 0.324\n",
      "  HOMO = -0.203597845097907  LUMO = -0.0292581316010889\n",
      "cycle= 13 E= -136.940426427488  delta_E= -0.00422  |g|= 0.146  |ddm|= 0.296\n",
      "  HOMO = -0.231360964766021  LUMO = -0.0385012230831651\n",
      "cycle= 14 E= -136.948033402314  delta_E= -0.00761  |g|= 0.0419  |ddm|= 0.094\n",
      "  HOMO = -0.256612753589345  LUMO = -0.0471193346537534\n",
      "cycle= 15 E= -136.949955786187  delta_E= -0.00192  |g|= 0.0154  |ddm|= 0.0638\n",
      "  HOMO = -0.256744559911773  LUMO = -0.0473147656309611\n",
      "cycle= 16 E= -136.950098203515  delta_E= -0.000142  |g|= 0.00273  |ddm|= 0.0199\n",
      "  HOMO = -0.25735701696003  LUMO = -0.04729837474505\n",
      "cycle= 17 E= -136.950101778424  delta_E= -3.57e-06  |g|= 0.000914  |ddm|= 0.00461\n",
      "  HOMO = -0.25767921909354  LUMO = -0.0474376222084907\n",
      "cycle= 18 E= -136.950102627914  delta_E= -8.49e-07  |g|= 8.74e-05  |ddm|= 0.00155\n",
      "  HOMO = -0.257681359826654  LUMO = -0.0474263051555811\n",
      "cycle= 19 E= -136.95010263464  delta_E= -6.73e-09  |g|= 4.98e-05  |ddm|= 0.000147\n",
      "  HOMO = -0.257673101480083  LUMO = -0.0474206703702284\n",
      "cycle= 20 E= -136.95010263512  delta_E= -4.8e-10  |g|= 6.31e-06  |ddm|= 3.24e-05\n",
      "  HOMO = -0.257672767664941  LUMO = -0.0474200301586355\n",
      "Extra cycle  E= -136.950102635156  delta_E= -3.55e-11  |g|= 4.57e-06  |ddm|= 7.48e-06\n",
      "converged SCF energy = -136.950102635156\n"
     ]
    },
    {
     "data": {
      "text/plain": [
       "-136.9501026351556"
      ]
     },
     "execution_count": 5,
     "metadata": {},
     "output_type": "execute_result"
    }
   ],
   "source": [
    "from pyscf.gto import Mole\n",
    "from pathlib import Path\n",
    "from pyscf.scf import RHF, UHF\n",
    "\n",
    "filepath = Path(\"molecular_structures/pfoa_active.xyz\").absolute()\n",
    "mol = Mole(atom=str(filepath), basis=\"6-31g\", verbose=4, spin=1)\n",
    "mol.build()\n",
    "\n",
    "mf_active = RHF(mol)\n",
    "mf_active.kernel()"
   ]
  },
  {
   "cell_type": "code",
   "execution_count": 6,
   "metadata": {},
   "outputs": [
    {
     "data": {
      "text/plain": [
       "(18, 18)"
      ]
     },
     "execution_count": 6,
     "metadata": {},
     "output_type": "execute_result"
    }
   ],
   "source": [
    "mf_active.mo_coeff.shape"
   ]
  },
  {
   "cell_type": "code",
   "execution_count": 8,
   "metadata": {},
   "outputs": [
    {
     "name": "stderr",
     "output_type": "stream",
     "text": [
      "Warning: <pyscf.gto.mole.Mole object at 0x2da8edbd0> must be initialized before calling SCF.\n",
      "Initialize <pyscf.gto.mole.Mole object at 0x2da8edbd0> in <pyscf.dft.rks.RKS object at 0x2da8ed9f0>\n",
      "Warning: <pyscf.gto.mole.Mole object at 0x2da8ed9f0> must be initialized before calling SCF.\n",
      "Initialize <pyscf.gto.mole.Mole object at 0x2da8ed9f0> in <pyscf.dft.rks.RKS object at 0x2da8edcc0>\n",
      "2023-12-14 17:26:43,867: nbed.driver: WARNING: Outputting both mu and huzinaga embedding results as tuple.\n"
     ]
    }
   ],
   "source": [
    "from nbed.driver import NbedDriver\n",
    "args = {\"geometry\": pfoa_ordered, \n",
    "        \"n_active_atoms\": 2,\n",
    "        \"basis\": \"sto-3g\",\n",
    "        \"xc_functional\": \"b3lyp\",\n",
    "        \"projector\": \"both\",\n",
    "        \"localization\": \"spade\",\n",
    "        \"convergence\": 1e-6,\n",
    "        \"max_ram_memory\": 8_000,\n",
    "        }\n",
    "driver = NbedDriver(**args)"
   ]
  },
  {
   "cell_type": "code",
   "execution_count": 9,
   "metadata": {},
   "outputs": [
    {
     "data": {
      "text/plain": [
       "(126, 25)"
      ]
     },
     "execution_count": 9,
     "metadata": {},
     "output_type": "execute_result"
    }
   ],
   "source": [
    "driver.embedded_scf[0].mo_coeff.shape"
   ]
  },
  {
   "cell_type": "code",
   "execution_count": 10,
   "metadata": {},
   "outputs": [
    {
     "data": {
      "text/plain": [
       "array([2., 2., 2., 2., 2., 0., 0., 0., 0., 0., 0., 0., 0., 0., 0., 0., 0.,\n",
       "       0., 0., 0., 0., 0., 0., 0., 0., 0., 0., 0., 0., 0., 0.])"
      ]
     },
     "execution_count": 10,
     "metadata": {},
     "output_type": "execute_result"
    }
   ],
   "source": [
    "driver.embedded_scf[0].mo_occ"
   ]
  },
  {
   "cell_type": "code",
   "execution_count": null,
   "metadata": {},
   "outputs": [],
   "source": [
    "from pyscf import cc\n",
    "energies = []\n",
    "run_energy = cc.CCSD(driver.embedded_scf[0])\n",
    "run_energy.run()\n",
    "energies.append(run_energy.e_tot)\n",
    "\n",
    "for i in range(driver.embedded_scf[0].mo_coeff.shape[-1]-1):\n",
    "    print(i)\n",
    "    driver.embedded_scf[0].mo_coeff = driver.embedded_scf[0].mo_coeff[:, :-1]\n",
    "    driver.embedded_scf[0].mo_occ = driver.embedded_scf[0].mo_occ[:-1]\n",
    "    ccsd = cc.CCSD(driver.embedded_scf[0])\n",
    "    ccsd.run()\n",
    "    energies.append(run_energy.e_tot)"
   ]
  },
  {
   "cell_type": "code",
   "execution_count": 11,
   "metadata": {},
   "outputs": [
    {
     "name": "stderr",
     "output_type": "stream",
     "text": [
      "2023-12-14 17:31:04,098\tINFO worker.py:1673 -- Started a local Ray instance.\n"
     ]
    },
    {
     "ename": "KeyboardInterrupt",
     "evalue": "",
     "output_type": "error",
     "traceback": [
      "\u001b[0;31m---------------------------------------------------------------------------\u001b[0m",
      "\u001b[0;31mKeyboardInterrupt\u001b[0m                         Traceback (most recent call last)",
      "\u001b[1;32m/Users/michaelwilliamsdelabastida/Code/Nbed/pfas.ipynb Celda 12\u001b[0m line \u001b[0;36m3\n\u001b[1;32m      <a href='vscode-notebook-cell:/Users/michaelwilliamsdelabastida/Code/Nbed/pfas.ipynb#X13sZmlsZQ%3D%3D?line=0'>1</a>\u001b[0m \u001b[39mfrom\u001b[39;00m \u001b[39mnbed\u001b[39;00m\u001b[39m.\u001b[39;00m\u001b[39mham_builder\u001b[39;00m \u001b[39mimport\u001b[39;00m HamiltonianBuilder\n\u001b[1;32m      <a href='vscode-notebook-cell:/Users/michaelwilliamsdelabastida/Code/Nbed/pfas.ipynb#X13sZmlsZQ%3D%3D?line=1'>2</a>\u001b[0m hb \u001b[39m=\u001b[39m HamiltonianBuilder(driver\u001b[39m.\u001b[39membedded_scf[\u001b[39m0\u001b[39m], constant_e_shift\u001b[39m=\u001b[39mdriver\u001b[39m.\u001b[39mclassical_energy[\u001b[39m0\u001b[39m])\n\u001b[0;32m----> <a href='vscode-notebook-cell:/Users/michaelwilliamsdelabastida/Code/Nbed/pfas.ipynb#X13sZmlsZQ%3D%3D?line=2'>3</a>\u001b[0m hb\u001b[39m.\u001b[39;49mbuild(taper\u001b[39m=\u001b[39;49m\u001b[39mTrue\u001b[39;49;00m, core_indices\u001b[39m=\u001b[39;49m[\u001b[39m0\u001b[39;49m,\u001b[39m1\u001b[39;49m,\u001b[39m2\u001b[39;49m], active_indices\u001b[39m=\u001b[39;49m[i \u001b[39mfor\u001b[39;49;00m i \u001b[39min\u001b[39;49;00m \u001b[39mrange\u001b[39;49m(\u001b[39m3\u001b[39;49m,\u001b[39m15\u001b[39;49m)])\n",
      "File \u001b[0;32m~/Code/Nbed/nbed/ham_builder.py:526\u001b[0m, in \u001b[0;36mHamiltonianBuilder.build\u001b[0;34m(self, n_qubits, taper, contextual_space, core_indices, active_indices)\u001b[0m\n\u001b[1;32m    519\u001b[0m     qsm \u001b[39m=\u001b[39m QubitSubspaceManager(\n\u001b[1;32m    520\u001b[0m         pwop,\n\u001b[1;32m    521\u001b[0m         ref_state\u001b[39m=\u001b[39mhf_state,\n\u001b[1;32m    522\u001b[0m         run_qubit_tapering\u001b[39m=\u001b[39m\u001b[39mFalse\u001b[39;00m,\n\u001b[1;32m    523\u001b[0m         run_contextual_subspace\u001b[39m=\u001b[39mcontextual_space,\n\u001b[1;32m    524\u001b[0m     )\n\u001b[1;32m    525\u001b[0m     pwop \u001b[39m=\u001b[39m qsm\u001b[39m.\u001b[39mget_reduced_hamiltonian(n_qubits\u001b[39m=\u001b[39mn_qubits)\n\u001b[0;32m--> 526\u001b[0m qham \u001b[39m=\u001b[39m pwop\u001b[39m.\u001b[39;49mto_openfermion\n\u001b[1;32m    527\u001b[0m logger\u001b[39m.\u001b[39mdebug(\u001b[39m\"\u001b[39m\u001b[39mSymmer functions complete.\u001b[39m\u001b[39m\"\u001b[39m)\n\u001b[1;32m    529\u001b[0m \u001b[39mif\u001b[39;00m n_qubits \u001b[39mis\u001b[39;00m \u001b[39mNone\u001b[39;00m:\n",
      "File \u001b[0;32m~/Library/Caches/pypoetry/virtualenvs/nbed-1_9TTDE1-py3.10/lib/python3.10/site-packages/cached_property.py:36\u001b[0m, in \u001b[0;36mcached_property.__get__\u001b[0;34m(self, obj, cls)\u001b[0m\n\u001b[1;32m     33\u001b[0m \u001b[39mif\u001b[39;00m asyncio \u001b[39mand\u001b[39;00m asyncio\u001b[39m.\u001b[39miscoroutinefunction(\u001b[39mself\u001b[39m\u001b[39m.\u001b[39mfunc):\n\u001b[1;32m     34\u001b[0m     \u001b[39mreturn\u001b[39;00m \u001b[39mself\u001b[39m\u001b[39m.\u001b[39m_wrap_in_coroutine(obj)\n\u001b[0;32m---> 36\u001b[0m value \u001b[39m=\u001b[39m obj\u001b[39m.\u001b[39m\u001b[39m__dict__\u001b[39m[\u001b[39mself\u001b[39m\u001b[39m.\u001b[39mfunc\u001b[39m.\u001b[39m\u001b[39m__name__\u001b[39m] \u001b[39m=\u001b[39m \u001b[39mself\u001b[39;49m\u001b[39m.\u001b[39;49mfunc(obj)\n\u001b[1;32m     37\u001b[0m \u001b[39mreturn\u001b[39;00m value\n",
      "File \u001b[0;32m~/Library/Caches/pypoetry/virtualenvs/nbed-1_9TTDE1-py3.10/lib/python3.10/site-packages/symmer/operators/base.py:1407\u001b[0m, in \u001b[0;36mPauliwordOp.to_openfermion\u001b[0;34m(self)\u001b[0m\n\u001b[1;32m   1405\u001b[0m     \u001b[39mreturn\u001b[39;00m pauli_terms[\u001b[39m0\u001b[39m]\n\u001b[1;32m   1406\u001b[0m \u001b[39melse\u001b[39;00m:\n\u001b[0;32m-> 1407\u001b[0m     \u001b[39mreturn\u001b[39;00m \u001b[39msum\u001b[39;49m(pauli_terms)\n",
      "File \u001b[0;32m~/Library/Caches/pypoetry/virtualenvs/nbed-1_9TTDE1-py3.10/lib/python3.10/site-packages/openfermion/ops/operators/symbolic_operator.py:450\u001b[0m, in \u001b[0;36mSymbolicOperator.__add__\u001b[0;34m(self, addend)\u001b[0m\n\u001b[1;32m    442\u001b[0m \u001b[39mdef\u001b[39;00m \u001b[39m__add__\u001b[39m(\u001b[39mself\u001b[39m, addend):\n\u001b[1;32m    443\u001b[0m \u001b[39m    \u001b[39m\u001b[39m\"\"\"\u001b[39;00m\n\u001b[1;32m    444\u001b[0m \u001b[39m    Args:\u001b[39;00m\n\u001b[1;32m    445\u001b[0m \u001b[39m        addend (SymbolicOperator): The operator to add.\u001b[39;00m\n\u001b[0;32m   (...)\u001b[0m\n\u001b[1;32m    448\u001b[0m \u001b[39m        sum (SymbolicOperator)\u001b[39;00m\n\u001b[1;32m    449\u001b[0m \u001b[39m    \"\"\"\u001b[39;00m\n\u001b[0;32m--> 450\u001b[0m     summand \u001b[39m=\u001b[39m copy\u001b[39m.\u001b[39;49mdeepcopy(\u001b[39mself\u001b[39;49m)\n\u001b[1;32m    451\u001b[0m     summand \u001b[39m+\u001b[39m\u001b[39m=\u001b[39m addend\n\u001b[1;32m    452\u001b[0m     \u001b[39mreturn\u001b[39;00m summand\n",
      "File \u001b[0;32m/Library/Frameworks/Python.framework/Versions/3.10/lib/python3.10/copy.py:172\u001b[0m, in \u001b[0;36mdeepcopy\u001b[0;34m(x, memo, _nil)\u001b[0m\n\u001b[1;32m    170\u001b[0m                 y \u001b[39m=\u001b[39m x\n\u001b[1;32m    171\u001b[0m             \u001b[39melse\u001b[39;00m:\n\u001b[0;32m--> 172\u001b[0m                 y \u001b[39m=\u001b[39m _reconstruct(x, memo, \u001b[39m*\u001b[39;49mrv)\n\u001b[1;32m    174\u001b[0m \u001b[39m# If is its own copy, don't memoize.\u001b[39;00m\n\u001b[1;32m    175\u001b[0m \u001b[39mif\u001b[39;00m y \u001b[39mis\u001b[39;00m \u001b[39mnot\u001b[39;00m x:\n",
      "File \u001b[0;32m/Library/Frameworks/Python.framework/Versions/3.10/lib/python3.10/copy.py:271\u001b[0m, in \u001b[0;36m_reconstruct\u001b[0;34m(x, memo, func, args, state, listiter, dictiter, deepcopy)\u001b[0m\n\u001b[1;32m    269\u001b[0m \u001b[39mif\u001b[39;00m state \u001b[39mis\u001b[39;00m \u001b[39mnot\u001b[39;00m \u001b[39mNone\u001b[39;00m:\n\u001b[1;32m    270\u001b[0m     \u001b[39mif\u001b[39;00m deep:\n\u001b[0;32m--> 271\u001b[0m         state \u001b[39m=\u001b[39m deepcopy(state, memo)\n\u001b[1;32m    272\u001b[0m     \u001b[39mif\u001b[39;00m \u001b[39mhasattr\u001b[39m(y, \u001b[39m'\u001b[39m\u001b[39m__setstate__\u001b[39m\u001b[39m'\u001b[39m):\n\u001b[1;32m    273\u001b[0m         y\u001b[39m.\u001b[39m__setstate__(state)\n",
      "File \u001b[0;32m/Library/Frameworks/Python.framework/Versions/3.10/lib/python3.10/copy.py:146\u001b[0m, in \u001b[0;36mdeepcopy\u001b[0;34m(x, memo, _nil)\u001b[0m\n\u001b[1;32m    144\u001b[0m copier \u001b[39m=\u001b[39m _deepcopy_dispatch\u001b[39m.\u001b[39mget(\u001b[39mcls\u001b[39m)\n\u001b[1;32m    145\u001b[0m \u001b[39mif\u001b[39;00m copier \u001b[39mis\u001b[39;00m \u001b[39mnot\u001b[39;00m \u001b[39mNone\u001b[39;00m:\n\u001b[0;32m--> 146\u001b[0m     y \u001b[39m=\u001b[39m copier(x, memo)\n\u001b[1;32m    147\u001b[0m \u001b[39melse\u001b[39;00m:\n\u001b[1;32m    148\u001b[0m     \u001b[39mif\u001b[39;00m \u001b[39missubclass\u001b[39m(\u001b[39mcls\u001b[39m, \u001b[39mtype\u001b[39m):\n",
      "File \u001b[0;32m/Library/Frameworks/Python.framework/Versions/3.10/lib/python3.10/copy.py:231\u001b[0m, in \u001b[0;36m_deepcopy_dict\u001b[0;34m(x, memo, deepcopy)\u001b[0m\n\u001b[1;32m    229\u001b[0m memo[\u001b[39mid\u001b[39m(x)] \u001b[39m=\u001b[39m y\n\u001b[1;32m    230\u001b[0m \u001b[39mfor\u001b[39;00m key, value \u001b[39min\u001b[39;00m x\u001b[39m.\u001b[39mitems():\n\u001b[0;32m--> 231\u001b[0m     y[deepcopy(key, memo)] \u001b[39m=\u001b[39m deepcopy(value, memo)\n\u001b[1;32m    232\u001b[0m \u001b[39mreturn\u001b[39;00m y\n",
      "File \u001b[0;32m/Library/Frameworks/Python.framework/Versions/3.10/lib/python3.10/copy.py:146\u001b[0m, in \u001b[0;36mdeepcopy\u001b[0;34m(x, memo, _nil)\u001b[0m\n\u001b[1;32m    144\u001b[0m copier \u001b[39m=\u001b[39m _deepcopy_dispatch\u001b[39m.\u001b[39mget(\u001b[39mcls\u001b[39m)\n\u001b[1;32m    145\u001b[0m \u001b[39mif\u001b[39;00m copier \u001b[39mis\u001b[39;00m \u001b[39mnot\u001b[39;00m \u001b[39mNone\u001b[39;00m:\n\u001b[0;32m--> 146\u001b[0m     y \u001b[39m=\u001b[39m copier(x, memo)\n\u001b[1;32m    147\u001b[0m \u001b[39melse\u001b[39;00m:\n\u001b[1;32m    148\u001b[0m     \u001b[39mif\u001b[39;00m \u001b[39missubclass\u001b[39m(\u001b[39mcls\u001b[39m, \u001b[39mtype\u001b[39m):\n",
      "File \u001b[0;32m/Library/Frameworks/Python.framework/Versions/3.10/lib/python3.10/copy.py:231\u001b[0m, in \u001b[0;36m_deepcopy_dict\u001b[0;34m(x, memo, deepcopy)\u001b[0m\n\u001b[1;32m    229\u001b[0m memo[\u001b[39mid\u001b[39m(x)] \u001b[39m=\u001b[39m y\n\u001b[1;32m    230\u001b[0m \u001b[39mfor\u001b[39;00m key, value \u001b[39min\u001b[39;00m x\u001b[39m.\u001b[39mitems():\n\u001b[0;32m--> 231\u001b[0m     y[deepcopy(key, memo)] \u001b[39m=\u001b[39m deepcopy(value, memo)\n\u001b[1;32m    232\u001b[0m \u001b[39mreturn\u001b[39;00m y\n",
      "File \u001b[0;32m/Library/Frameworks/Python.framework/Versions/3.10/lib/python3.10/copy.py:146\u001b[0m, in \u001b[0;36mdeepcopy\u001b[0;34m(x, memo, _nil)\u001b[0m\n\u001b[1;32m    144\u001b[0m copier \u001b[39m=\u001b[39m _deepcopy_dispatch\u001b[39m.\u001b[39mget(\u001b[39mcls\u001b[39m)\n\u001b[1;32m    145\u001b[0m \u001b[39mif\u001b[39;00m copier \u001b[39mis\u001b[39;00m \u001b[39mnot\u001b[39;00m \u001b[39mNone\u001b[39;00m:\n\u001b[0;32m--> 146\u001b[0m     y \u001b[39m=\u001b[39m copier(x, memo)\n\u001b[1;32m    147\u001b[0m \u001b[39melse\u001b[39;00m:\n\u001b[1;32m    148\u001b[0m     \u001b[39mif\u001b[39;00m \u001b[39missubclass\u001b[39m(\u001b[39mcls\u001b[39m, \u001b[39mtype\u001b[39m):\n",
      "File \u001b[0;32m/Library/Frameworks/Python.framework/Versions/3.10/lib/python3.10/copy.py:211\u001b[0m, in \u001b[0;36m_deepcopy_tuple\u001b[0;34m(x, memo, deepcopy)\u001b[0m\n\u001b[1;32m    210\u001b[0m \u001b[39mdef\u001b[39;00m \u001b[39m_deepcopy_tuple\u001b[39m(x, memo, deepcopy\u001b[39m=\u001b[39mdeepcopy):\n\u001b[0;32m--> 211\u001b[0m     y \u001b[39m=\u001b[39m [deepcopy(a, memo) \u001b[39mfor\u001b[39;00m a \u001b[39min\u001b[39;00m x]\n\u001b[1;32m    212\u001b[0m     \u001b[39m# We're not going to put the tuple in the memo, but it's still important we\u001b[39;00m\n\u001b[1;32m    213\u001b[0m     \u001b[39m# check for it, in case the tuple contains recursive mutable structures.\u001b[39;00m\n\u001b[1;32m    214\u001b[0m     \u001b[39mtry\u001b[39;00m:\n",
      "File \u001b[0;32m/Library/Frameworks/Python.framework/Versions/3.10/lib/python3.10/copy.py:211\u001b[0m, in \u001b[0;36m<listcomp>\u001b[0;34m(.0)\u001b[0m\n\u001b[1;32m    210\u001b[0m \u001b[39mdef\u001b[39;00m \u001b[39m_deepcopy_tuple\u001b[39m(x, memo, deepcopy\u001b[39m=\u001b[39mdeepcopy):\n\u001b[0;32m--> 211\u001b[0m     y \u001b[39m=\u001b[39m [deepcopy(a, memo) \u001b[39mfor\u001b[39;00m a \u001b[39min\u001b[39;00m x]\n\u001b[1;32m    212\u001b[0m     \u001b[39m# We're not going to put the tuple in the memo, but it's still important we\u001b[39;00m\n\u001b[1;32m    213\u001b[0m     \u001b[39m# check for it, in case the tuple contains recursive mutable structures.\u001b[39;00m\n\u001b[1;32m    214\u001b[0m     \u001b[39mtry\u001b[39;00m:\n",
      "File \u001b[0;32m/Library/Frameworks/Python.framework/Versions/3.10/lib/python3.10/copy.py:146\u001b[0m, in \u001b[0;36mdeepcopy\u001b[0;34m(x, memo, _nil)\u001b[0m\n\u001b[1;32m    144\u001b[0m copier \u001b[39m=\u001b[39m _deepcopy_dispatch\u001b[39m.\u001b[39mget(\u001b[39mcls\u001b[39m)\n\u001b[1;32m    145\u001b[0m \u001b[39mif\u001b[39;00m copier \u001b[39mis\u001b[39;00m \u001b[39mnot\u001b[39;00m \u001b[39mNone\u001b[39;00m:\n\u001b[0;32m--> 146\u001b[0m     y \u001b[39m=\u001b[39m copier(x, memo)\n\u001b[1;32m    147\u001b[0m \u001b[39melse\u001b[39;00m:\n\u001b[1;32m    148\u001b[0m     \u001b[39mif\u001b[39;00m \u001b[39missubclass\u001b[39m(\u001b[39mcls\u001b[39m, \u001b[39mtype\u001b[39m):\n",
      "File \u001b[0;32m/Library/Frameworks/Python.framework/Versions/3.10/lib/python3.10/copy.py:211\u001b[0m, in \u001b[0;36m_deepcopy_tuple\u001b[0;34m(x, memo, deepcopy)\u001b[0m\n\u001b[1;32m    210\u001b[0m \u001b[39mdef\u001b[39;00m \u001b[39m_deepcopy_tuple\u001b[39m(x, memo, deepcopy\u001b[39m=\u001b[39mdeepcopy):\n\u001b[0;32m--> 211\u001b[0m     y \u001b[39m=\u001b[39m [deepcopy(a, memo) \u001b[39mfor\u001b[39;00m a \u001b[39min\u001b[39;00m x]\n\u001b[1;32m    212\u001b[0m     \u001b[39m# We're not going to put the tuple in the memo, but it's still important we\u001b[39;00m\n\u001b[1;32m    213\u001b[0m     \u001b[39m# check for it, in case the tuple contains recursive mutable structures.\u001b[39;00m\n\u001b[1;32m    214\u001b[0m     \u001b[39mtry\u001b[39;00m:\n",
      "File \u001b[0;32m/Library/Frameworks/Python.framework/Versions/3.10/lib/python3.10/copy.py:211\u001b[0m, in \u001b[0;36m<listcomp>\u001b[0;34m(.0)\u001b[0m\n\u001b[1;32m    210\u001b[0m \u001b[39mdef\u001b[39;00m \u001b[39m_deepcopy_tuple\u001b[39m(x, memo, deepcopy\u001b[39m=\u001b[39mdeepcopy):\n\u001b[0;32m--> 211\u001b[0m     y \u001b[39m=\u001b[39m [deepcopy(a, memo) \u001b[39mfor\u001b[39;00m a \u001b[39min\u001b[39;00m x]\n\u001b[1;32m    212\u001b[0m     \u001b[39m# We're not going to put the tuple in the memo, but it's still important we\u001b[39;00m\n\u001b[1;32m    213\u001b[0m     \u001b[39m# check for it, in case the tuple contains recursive mutable structures.\u001b[39;00m\n\u001b[1;32m    214\u001b[0m     \u001b[39mtry\u001b[39;00m:\n",
      "File \u001b[0;32m/Library/Frameworks/Python.framework/Versions/3.10/lib/python3.10/copy.py:138\u001b[0m, in \u001b[0;36mdeepcopy\u001b[0;34m(x, memo, _nil)\u001b[0m\n\u001b[1;32m    135\u001b[0m     memo \u001b[39m=\u001b[39m {}\n\u001b[1;32m    137\u001b[0m d \u001b[39m=\u001b[39m \u001b[39mid\u001b[39m(x)\n\u001b[0;32m--> 138\u001b[0m y \u001b[39m=\u001b[39m memo\u001b[39m.\u001b[39;49mget(d, _nil)\n\u001b[1;32m    139\u001b[0m \u001b[39mif\u001b[39;00m y \u001b[39mis\u001b[39;00m \u001b[39mnot\u001b[39;00m _nil:\n\u001b[1;32m    140\u001b[0m     \u001b[39mreturn\u001b[39;00m y\n",
      "\u001b[0;31mKeyboardInterrupt\u001b[0m: "
     ]
    }
   ],
   "source": [
    "from nbed.ham_builder import HamiltonianBuilder\n",
    "hb = HamiltonianBuilder(driver.embedded_scf[0], constant_e_shift=driver.classical_energy[0])\n",
    "hb.build(taper=True, core_indices=[0,1,2], active_indices=[i for i in range(3,15)])"
   ]
  },
  {
   "cell_type": "code",
   "execution_count": null,
   "metadata": {},
   "outputs": [],
   "source": []
  }
 ],
 "metadata": {
  "kernelspec": {
   "display_name": "nbed-1_9TTDE1-py3.10",
   "language": "python",
   "name": "python3"
  },
  "language_info": {
   "codemirror_mode": {
    "name": "ipython",
    "version": 3
   },
   "file_extension": ".py",
   "mimetype": "text/x-python",
   "name": "python",
   "nbconvert_exporter": "python",
   "pygments_lexer": "ipython3",
   "version": "3.10.11"
  }
 },
 "nbformat": 4,
 "nbformat_minor": 2
}
