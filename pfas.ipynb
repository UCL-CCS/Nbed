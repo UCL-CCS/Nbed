{
 "cells": [
  {
   "cell_type": "markdown",
   "metadata": {},
   "source": [
    "## Try some bond dissociations of PFAS molecules"
   ]
  },
  {
   "cell_type": "code",
   "execution_count": 18,
   "metadata": {},
   "outputs": [
    {
     "data": {
      "text/plain": [
       "'/Users/michaelwilliamsdelabastida/Code/Nbed/molecular_structures/pfoa.xyz'"
      ]
     },
     "execution_count": 18,
     "metadata": {},
     "output_type": "execute_result"
    }
   ],
   "source": [
    "from nbed.utils import pubchem_mol_geometry, build_ordered_xyz_string, save_ordered_xyz_file\n",
    "\n",
    "pfoa = pubchem_mol_geometry(\"Perfluorooctanoic acid\")\n",
    "pfoa_ordered = build_ordered_xyz_string(pfoa, active_atom_inds=[15,16,24,25,11])\n",
    "save_ordered_xyz_file(\"pfoa\", pfoa, active_atom_inds=[15,16,24,25,11])\n"
   ]
  },
  {
   "cell_type": "code",
   "execution_count": 19,
   "metadata": {},
   "outputs": [
    {
     "data": {
      "text/plain": [
       "{0: ('F', (-1.0539, 1.9481, -0.2014)),\n",
       " 1: ('F', (0.5434, 1.2581, -1.5025)),\n",
       " 2: ('F', (1.2215, 1.6487, 1.0783)),\n",
       " 3: ('F', (-0.3328, 0.2934, 1.7581)),\n",
       " 4: ('F', (-1.8211, 0.1669, -2.1654)),\n",
       " 5: ('F', (-0.4525, -1.3197, -1.355)),\n",
       " 6: ('F', (2.0673, -0.7623, 1.9165)),\n",
       " 7: ('F', (0.8055, -1.7942, 0.487)),\n",
       " 8: ('F', (-2.9835, -1.7149, -0.6823)),\n",
       " 9: ('F', (-1.6932, -1.3046, 1.0212)),\n",
       " 10: ('F', (2.1054, -0.612, -1.6013)),\n",
       " 11: ('F', (3.3419, -1.7554, -0.2365)),\n",
       " 12: ('F', (-3.9677, 0.8422, -0.5956)),\n",
       " 13: ('F', (-2.6826, 1.3007, 1.1093)),\n",
       " 14: ('F', (-4.1728, -0.274, 1.2669)),\n",
       " 15: ('O', (4.5699, 0.3287, 0.6742)),\n",
       " 16: ('O', (3.3666, 1.6773, -0.7043)),\n",
       " 17: ('C', (-0.2911, 0.8598, -0.5112)),\n",
       " 18: ('C', (0.5314, 0.5262, 0.7274)),\n",
       " 19: ('C', (-1.2138, -0.2391, -1.0209)),\n",
       " 20: ('C', (1.5064, -0.6431, 0.6776)),\n",
       " 21: ('C', (-2.285, -0.7254, -0.0556)),\n",
       " 22: ('C', (2.6302, -0.5967, -0.3477)),\n",
       " 23: ('C', (-3.2786, 0.3, 0.4302)),\n",
       " 24: ('C', (3.5392, 0.5913, -0.1672)),\n",
       " 25: ('H', (5.1534, 1.1082, 0.793))}"
      ]
     },
     "execution_count": 19,
     "metadata": {},
     "output_type": "execute_result"
    }
   ],
   "source": [
    "pfoa"
   ]
  },
  {
   "cell_type": "code",
   "execution_count": 21,
   "metadata": {},
   "outputs": [
    {
     "name": "stdout",
     "output_type": "stream",
     "text": [
      "System: uname_result(system='Darwin', node='MacBook-Pro-de-Michael.local', release='23.1.0', version='Darwin Kernel Version 23.1.0: Mon Oct  9 21:32:11 PDT 2023; root:xnu-10002.41.9~7/RELEASE_ARM64_T6030', machine='arm64')  Threads 1\n",
      "Python 3.10.11 (v3.10.11:7d4cc5aa85, Apr  4 2023, 19:05:19) [Clang 13.0.0 (clang-1300.0.29.30)]\n",
      "numpy 1.22.4  scipy 1.9.3\n",
      "Date: Thu Dec 14 13:58:57 2023\n",
      "PySCF version 2.4.0\n",
      "PySCF path  /Users/michaelwilliamsdelabastida/Library/Caches/pypoetry/virtualenvs/nbed-1_9TTDE1-py3.10/lib/python3.10/site-packages/pyscf\n",
      "\n",
      "[CONFIG] conf_file None\n",
      "[INPUT] verbose = 4\n",
      "[INPUT] num. atoms = 26\n",
      "[INPUT] num. electrons = 200\n",
      "[INPUT] charge = 0\n",
      "[INPUT] spin (= nelec alpha-beta = 2S) = 0\n",
      "[INPUT] symmetry False subgroup None\n",
      "[INPUT] Mole.unit = angstrom\n",
      "[INPUT] Symbol           X                Y                Z      unit          X                Y                Z       unit  Magmom\n",
      "[INPUT]  1 O      4.569900000000   0.328700000000   0.674200000000 AA    8.635859416650   0.621152977145   1.274053353182 Bohr   0.0\n",
      "[INPUT]  2 O      3.366600000000   1.677300000000  -0.704300000000 AA    6.361951970961   3.169637628733  -1.330934109531 Bohr   0.0\n",
      "[INPUT]  3 C      3.539200000000   0.591300000000  -0.167200000000 AA    6.688118700061   1.117395057455  -0.315962208027 Bohr   0.0\n",
      "[INPUT]  4 H      5.153400000000   1.108200000000   0.793000000000 AA    9.738514610334   2.094194491243   1.498552816780 Bohr   0.0\n",
      "[INPUT]  5 F      3.341900000000  -1.755400000000  -0.236500000000 AA    6.315275735684  -3.317225239062  -0.446920228460 Bohr   0.0\n",
      "[INPUT]  6 F     -1.053900000000   1.948100000000  -0.201400000000 AA   -1.991582362679   3.681375463265  -0.380590841487 Bohr   0.0\n",
      "[INPUT]  7 F      0.543400000000   1.258100000000  -1.502500000000 AA    1.026877176089   2.377464437315  -2.839313502159 Bohr   0.0\n",
      "[INPUT]  8 F      1.221500000000   1.648700000000   1.078300000000 AA    2.308300461156   3.115591461570   2.037691680119 Bohr   0.0\n",
      "[INPUT]  9 F     -0.332800000000   0.293400000000   1.758100000000 AA   -0.628900854255   0.554445644947   3.322327499598 Bohr   0.0\n",
      "[INPUT] 10 F     -1.821100000000   0.166900000000  -2.165400000000 AA   -3.441380245445   0.315395290190  -4.092012950133 Bohr   0.0\n",
      "[INPUT] 11 F     -0.452500000000  -1.319700000000  -1.355000000000 AA   -0.855101071366  -2.493871566589  -2.560578898786 Bohr   0.0\n",
      "[INPUT] 12 F      2.067300000000  -0.762300000000   1.916500000000 AA    3.906630817313  -1.440538224756   3.621660117729 Bohr   0.0\n",
      "[INPUT] 13 F      0.805500000000  -1.794200000000   0.487000000000 AA    1.522174393337  -3.390546612695   0.920296622663 Bohr   0.0\n",
      "[INPUT] 14 F     -2.983500000000  -1.714900000000  -0.682300000000 AA   -5.637997892640  -3.240691331017  -1.289360134791 Bohr   0.0\n",
      "[INPUT] 15 F     -1.693200000000  -1.304600000000   1.021200000000 AA   -3.199684274114  -2.465336702108   1.929788318406 Bohr   0.0\n",
      "[INPUT] 16 F      2.105400000000  -0.612000000000  -1.601300000000 AA    3.978629382659  -1.156512388234  -3.026018443266 Bohr   0.0\n",
      "[INPUT] 17 F     -3.967700000000   0.842200000000  -0.595600000000 AA   -7.497866344437   1.591527342109  -1.125520879791 Bohr   0.0\n",
      "[INPUT] 18 F     -2.682600000000   1.300700000000   1.109300000000 AA   -5.069379301758   2.457966770222   2.096273189980 Bohr   0.0\n",
      "[INPUT] 19 F     -4.172800000000  -0.274000000000   1.266900000000 AA   -7.885449172585  -0.517784958131   2.394094027211 Bohr   0.0\n",
      "[INPUT] 20 C     -0.291100000000   0.859800000000  -0.511200000000 AA   -0.550099274861   1.624786521901  -0.966027994878 Bohr   0.0\n",
      "[INPUT] 21 C      0.531400000000   0.526200000000   0.727400000000 AA    1.004200462594   0.994373886746   1.374586783009 Bohr   0.0\n",
      "[INPUT] 22 C     -1.213800000000  -0.239100000000  -1.020900000000 AA   -2.293749569997  -0.451833516384  -1.929221400568 Bohr   0.0\n",
      "[INPUT] 23 C      1.506400000000  -0.643100000000   0.677600000000 AA    2.846683434045  -1.215282870708   1.280478422005 Bohr   0.0\n",
      "[INPUT] 24 C     -2.285000000000  -0.725400000000  -0.055600000000 AA   -4.318024194631  -1.370807330759  -0.105068772526 Bohr   0.0\n",
      "[INPUT] 25 C      2.630200000000  -0.596700000000  -0.347700000000 AA    4.970357652831  -1.127599578528  -0.657057773511 Bohr   0.0\n",
      "[INPUT] 26 C     -3.278600000000   0.300000000000   0.430200000000 AA   -6.195656071999   0.566917837370   0.812960178788 Bohr   0.0\n",
      "\n",
      "nuclear repulsion = 3101.26223722708\n",
      "number of shells = 127\n",
      "number of NR pGTOs = 554\n",
      "number of NR cGTOs = 227\n",
      "basis = 6-31g\n",
      "ecp = {}\n",
      "CPU time:       129.98\n",
      "\n",
      "\n",
      "******** <class 'pyscf.scf.hf.RHF'> ********\n",
      "method = RHF\n",
      "initial guess = minao\n",
      "damping factor = 0\n",
      "level_shift factor = 0\n",
      "DIIS = <class 'pyscf.scf.diis.CDIIS'>\n",
      "diis_start_cycle = 1\n",
      "diis_space = 8\n",
      "SCF conv_tol = 1e-09\n",
      "SCF conv_tol_grad = None\n",
      "SCF max_cycles = 50\n",
      "direct_scf = True\n",
      "direct_scf_tol = 1e-13\n",
      "chkfile to save SCF result = /var/folders/b6/r25qxhld1ls1sll052q1dw5h0000gn/T/tmpot9ze_d2\n",
      "max_memory 4000 MB (current use 0 MB)\n",
      "Set gradient conv threshold to 3.16228e-05\n",
      "Initial guess from minao.\n",
      "init E= -1949.68817620852\n",
      "  HOMO = -0.278211832538792  LUMO = 0.0203415444247822\n",
      "cycle= 1 E= -1942.83479778854  delta_E= 6.85  |g|=  2.2  |ddm|= 5.47\n",
      "  HOMO = -0.451917588250264  LUMO = -0.0819659859701572\n",
      "cycle= 2 E= -1943.502204361  delta_E= -0.667  |g|= 1.74  |ddm|=  4.2\n",
      "  HOMO = -0.538432526513845  LUMO = 0.0350896179859217\n",
      "cycle= 3 E= -1944.05531000467  delta_E= -0.553  |g|= 0.167  |ddm|= 1.96\n",
      "  HOMO = -0.508254739061018  LUMO = 0.0624199527264065\n",
      "cycle= 4 E= -1944.06420519793  delta_E= -0.0089  |g|= 0.0946  |ddm|= 0.292\n",
      "  HOMO = -0.525946693106987  LUMO = 0.0625753592380268\n",
      "cycle= 5 E= -1944.06651443385  delta_E= -0.00231  |g|= 0.0273  |ddm|= 0.13\n",
      "  HOMO = -0.525573637977216  LUMO = 0.0620556419245462\n",
      "cycle= 6 E= -1944.06685537453  delta_E= -0.000341  |g|= 0.00891  |ddm|= 0.0546\n",
      "  HOMO = -0.526601067138344  LUMO = 0.0625659724106782\n",
      "cycle= 7 E= -1944.06690107518  delta_E= -4.57e-05  |g|= 0.00342  |ddm|= 0.0252\n",
      "  HOMO = -0.526804186076917  LUMO = 0.0627999209421005\n",
      "cycle= 8 E= -1944.06690716334  delta_E= -6.09e-06  |g|= 0.00169  |ddm|= 0.00682\n",
      "  HOMO = -0.527152923047606  LUMO = 0.0628825070544467\n",
      "cycle= 9 E= -1944.06690932808  delta_E= -2.16e-06  |g|= 0.000459  |ddm|= 0.00534\n",
      "  HOMO = -0.527239603571429  LUMO = 0.0628704198573372\n",
      "cycle= 10 E= -1944.06690950239  delta_E= -1.74e-07  |g|= 0.00012  |ddm|= 0.00159\n",
      "  HOMO = -0.527255989499263  LUMO = 0.0628674272098388\n",
      "cycle= 11 E= -1944.06690950936  delta_E= -6.97e-09  |g|= 4.98e-05  |ddm|= 0.000255\n",
      "  HOMO = -0.527260099479604  LUMO = 0.062864919631626\n",
      "cycle= 12 E= -1944.06690951065  delta_E= -1.28e-09  |g|= 1.64e-05  |ddm|= 9.91e-05\n",
      "  HOMO = -0.527258503663812  LUMO = 0.062865431688781\n",
      "cycle= 13 E= -1944.06690951096  delta_E= -3.14e-10  |g|= 7.7e-06  |ddm|= 5.11e-05\n",
      "  HOMO = -0.527259043479432  LUMO = 0.0628648920220973\n",
      "Extra cycle  E= -1944.06690951102  delta_E= -6.18e-11  |g|= 5.16e-06  |ddm|= 1.55e-05\n",
      "converged SCF energy = -1944.06690951102\n"
     ]
    },
    {
     "data": {
      "text/plain": [
       "-1944.0669095110206"
      ]
     },
     "execution_count": 21,
     "metadata": {},
     "output_type": "execute_result"
    }
   ],
   "source": [
    "from pyscf.gto import Mole\n",
    "from pathlib import Path\n",
    "from pyscf.scf import RHF\n",
    "\n",
    "filepath = Path(\"molecular_structures/pfoa.xyz\").absolute()\n",
    "mol = Mole(atom=str(filepath), basis=\"6-31g\", verbose=4)\n",
    "mol.build()\n",
    "\n",
    "mf = RHF(mol)\n",
    "mf.kernel()"
   ]
  },
  {
   "cell_type": "code",
   "execution_count": 22,
   "metadata": {},
   "outputs": [
    {
     "data": {
      "text/plain": [
       "(227, 227)"
      ]
     },
     "execution_count": 22,
     "metadata": {},
     "output_type": "execute_result"
    }
   ],
   "source": [
    "mf.mo_coeff.shape"
   ]
  },
  {
   "cell_type": "code",
   "execution_count": 32,
   "metadata": {},
   "outputs": [
    {
     "name": "stdout",
     "output_type": "stream",
     "text": [
      "System: uname_result(system='Darwin', node='MacBook-Pro-de-Michael.local', release='23.1.0', version='Darwin Kernel Version 23.1.0: Mon Oct  9 21:32:11 PDT 2023; root:xnu-10002.41.9~7/RELEASE_ARM64_T6030', machine='arm64')  Threads 1\n",
      "Python 3.10.11 (v3.10.11:7d4cc5aa85, Apr  4 2023, 19:05:19) [Clang 13.0.0 (clang-1300.0.29.30)]\n",
      "numpy 1.22.4  scipy 1.9.3\n",
      "Date: Thu Dec 14 14:09:40 2023\n",
      "PySCF version 2.4.0\n",
      "PySCF path  /Users/michaelwilliamsdelabastida/Library/Caches/pypoetry/virtualenvs/nbed-1_9TTDE1-py3.10/lib/python3.10/site-packages/pyscf\n",
      "\n",
      "[CONFIG] conf_file None\n",
      "[INPUT] verbose = 4\n",
      "[INPUT] num. atoms = 5\n",
      "[INPUT] num. electrons = 29\n",
      "[INPUT] charge = 0\n",
      "[INPUT] spin (= nelec alpha-beta = 2S) = 1\n",
      "[INPUT] symmetry False subgroup None\n",
      "[INPUT] Mole.unit = angstrom\n",
      "[INPUT] Symbol           X                Y                Z      unit          X                Y                Z       unit  Magmom\n",
      "[INPUT]  1 C      3.539200000000   0.591300000000  -0.167200000000 AA    6.688118700061   1.117395057455  -0.315962208027 Bohr   0.0\n",
      "[INPUT]  2 C      2.630200000000  -0.596700000000  -0.347700000000 AA    4.970357652831  -1.127599578528  -0.657057773511 Bohr   0.0\n",
      "[INPUT]  3 O      4.569900000000   0.328700000000   0.674200000000 AA    8.635859416650   0.621152977145   1.274053353182 Bohr   0.0\n",
      "[INPUT]  4 O      3.366600000000   1.677300000000  -0.704300000000 AA    6.361951970961   3.169637628733  -1.330934109531 Bohr   0.0\n",
      "[INPUT]  5 H      5.153400000000   1.108200000000   0.793000000000 AA    9.738514610334   2.094194491243   1.498552816780 Bohr   0.0\n",
      "\n",
      "nuclear repulsion = 96.8980441635045\n",
      "number of shells = 22\n",
      "number of NR pGTOs = 92\n",
      "number of NR cGTOs = 38\n",
      "basis = 6-31g\n",
      "ecp = {}\n",
      "CPU time:       373.73\n",
      "\n",
      "\n",
      "******** <class 'pyscf.scf.rohf.ROHF'> ********\n",
      "method = ROHF\n",
      "initial guess = minao\n",
      "damping factor = 0\n",
      "level_shift factor = 0\n",
      "DIIS = <class 'pyscf.scf.diis.CDIIS'>\n",
      "diis_start_cycle = 1\n",
      "diis_space = 8\n",
      "SCF conv_tol = 1e-09\n",
      "SCF conv_tol_grad = None\n",
      "SCF max_cycles = 50\n",
      "direct_scf = True\n",
      "direct_scf_tol = 1e-13\n",
      "chkfile to save SCF result = /var/folders/b6/r25qxhld1ls1sll052q1dw5h0000gn/T/tmpqswvhxyd\n",
      "max_memory 4000 MB (current use 0 MB)\n",
      "num. doubly occ = 14  num. singly occ = 1\n",
      "Set gradient conv threshold to 3.16228e-05\n",
      "init E= -226.220560612163\n",
      "  HOMO = -0.115948801310321  LUMO = -0.0627394295037054\n",
      "cycle= 1 E= -225.590178896446  delta_E= 0.63  |g|= 0.782  |ddm|= 1.77\n",
      "  HOMO = -0.281871065078117  LUMO = -0.082457116760076\n",
      "cycle= 2 E= -225.635186521218  delta_E= -0.045  |g|= 0.752  |ddm|=    1\n",
      "  HOMO = -0.208289120813188  LUMO = 0.007503098679883\n",
      "cycle= 3 E= -225.766121444962  delta_E= -0.131  |g|= 0.114  |ddm|= 0.511\n",
      "  HOMO = -0.19481368021644  LUMO = 0.0214755022283288\n",
      "cycle= 4 E= -225.772105203664  delta_E= -0.00598  |g|= 0.0485  |ddm|= 0.121\n",
      "  HOMO = -0.18774026097771  LUMO = 0.0292096191425364\n",
      "cycle= 5 E= -225.773597934122  delta_E= -0.00149  |g|= 0.0151  |ddm|= 0.0678\n",
      "  HOMO = -0.185036902088773  LUMO = 0.0299737343275679\n",
      "cycle= 6 E= -225.773812580036  delta_E= -0.000215  |g|= 0.00674  |ddm|= 0.0341\n",
      "  HOMO = -0.184700552154421  LUMO = 0.0299099614922422\n",
      "cycle= 7 E= -225.773840656148  delta_E= -2.81e-05  |g|= 0.00281  |ddm|= 0.0109\n",
      "  HOMO = -0.184142911154676  LUMO = 0.0303379966105139\n",
      "cycle= 8 E= -225.773848354735  delta_E= -7.7e-06  |g|= 0.00117  |ddm|= 0.00636\n",
      "  HOMO = -0.184303713509887  LUMO = 0.030187143256028\n",
      "cycle= 9 E= -225.773850014785  delta_E= -1.66e-06  |g|= 0.000441  |ddm|= 0.00291\n",
      "  HOMO = -0.184115105895614  LUMO = 0.0303157851793926\n",
      "cycle= 10 E= -225.773850326096  delta_E= -3.11e-07  |g|= 0.000164  |ddm|= 0.00139\n",
      "  HOMO = -0.184169327329475  LUMO = 0.0302773235243441\n",
      "cycle= 11 E= -225.773850374227  delta_E= -4.81e-08  |g|= 6.2e-05  |ddm|= 0.000511\n",
      "  HOMO = -0.184159854572546  LUMO = 0.0302831342287928\n",
      "cycle= 12 E= -225.773850382384  delta_E= -8.16e-09  |g|= 3.08e-05  |ddm|= 0.000233\n",
      "  HOMO = -0.184160787134001  LUMO = 0.0302827642088538\n",
      "cycle= 13 E= -225.773850383261  delta_E= -8.77e-10  |g|= 7.59e-06  |ddm|= 6.67e-05\n",
      "  HOMO = -0.184160745729876  LUMO = 0.0302827064005418\n",
      "Extra cycle  E= -225.773850383326  delta_E= -6.5e-11  |g|= 5.03e-06  |ddm|= 1.4e-05\n",
      "converged SCF energy = -225.773850383326\n"
     ]
    },
    {
     "data": {
      "text/plain": [
       "-225.77385038332582"
      ]
     },
     "execution_count": 32,
     "metadata": {},
     "output_type": "execute_result"
    }
   ],
   "source": [
    "from pyscf.gto import Mole\n",
    "from pathlib import Path\n",
    "from pyscf.scf import RHF, UHF\n",
    "\n",
    "filepath = Path(\"molecular_structures/pfoa_active.xyz\").absolute()\n",
    "mol = Mole(atom=str(filepath), basis=\"6-31g\", verbose=4, spin=1)\n",
    "mol.build()\n",
    "\n",
    "mf_active = RHF(mol)\n",
    "mf_active.kernel()"
   ]
  },
  {
   "cell_type": "code",
   "execution_count": 33,
   "metadata": {},
   "outputs": [
    {
     "data": {
      "text/plain": [
       "(38, 38)"
      ]
     },
     "execution_count": 33,
     "metadata": {},
     "output_type": "execute_result"
    }
   ],
   "source": [
    "mf_active.mo_coeff.shape"
   ]
  },
  {
   "cell_type": "code",
   "execution_count": 2,
   "metadata": {},
   "outputs": [
    {
     "ename": "KeyboardInterrupt",
     "evalue": "",
     "output_type": "error",
     "traceback": [
      "\u001b[0;31m---------------------------------------------------------------------------\u001b[0m",
      "\u001b[0;31mKeyboardInterrupt\u001b[0m                         Traceback (most recent call last)",
      "\u001b[1;32m/Users/michaelwilliamsdelabastida/Code/Nbed/pfas.ipynb Celda 4\u001b[0m line \u001b[0;36m1\n\u001b[1;32m      <a href='vscode-notebook-cell:/Users/michaelwilliamsdelabastida/Code/Nbed/pfas.ipynb#W2sZmlsZQ%3D%3D?line=0'>1</a>\u001b[0m \u001b[39mfrom\u001b[39;00m \u001b[39mnbed\u001b[39;00m\u001b[39m.\u001b[39;00m\u001b[39mdriver\u001b[39;00m \u001b[39mimport\u001b[39;00m NbedDriver\n\u001b[1;32m      <a href='vscode-notebook-cell:/Users/michaelwilliamsdelabastida/Code/Nbed/pfas.ipynb#W2sZmlsZQ%3D%3D?line=1'>2</a>\u001b[0m args \u001b[39m=\u001b[39m {\u001b[39m\"\u001b[39m\u001b[39mgeometry\u001b[39m\u001b[39m\"\u001b[39m: pfoa_ordered, \n\u001b[1;32m      <a href='vscode-notebook-cell:/Users/michaelwilliamsdelabastida/Code/Nbed/pfas.ipynb#W2sZmlsZQ%3D%3D?line=2'>3</a>\u001b[0m         \u001b[39m\"\u001b[39m\u001b[39mn_active_atoms\u001b[39m\u001b[39m\"\u001b[39m: \u001b[39m4\u001b[39m,\n\u001b[1;32m      <a href='vscode-notebook-cell:/Users/michaelwilliamsdelabastida/Code/Nbed/pfas.ipynb#W2sZmlsZQ%3D%3D?line=3'>4</a>\u001b[0m         \u001b[39m\"\u001b[39m\u001b[39mbasis\u001b[39m\u001b[39m\"\u001b[39m: \u001b[39m\"\u001b[39m\u001b[39m6-31g*\u001b[39m\u001b[39m\"\u001b[39m,\n\u001b[0;32m   (...)\u001b[0m\n\u001b[1;32m      <a href='vscode-notebook-cell:/Users/michaelwilliamsdelabastida/Code/Nbed/pfas.ipynb#W2sZmlsZQ%3D%3D?line=8'>9</a>\u001b[0m         \u001b[39m\"\u001b[39m\u001b[39mmax_ram_memory\u001b[39m\u001b[39m\"\u001b[39m: \u001b[39m8_000\u001b[39m,\n\u001b[1;32m     <a href='vscode-notebook-cell:/Users/michaelwilliamsdelabastida/Code/Nbed/pfas.ipynb#W2sZmlsZQ%3D%3D?line=9'>10</a>\u001b[0m         }\n\u001b[0;32m---> <a href='vscode-notebook-cell:/Users/michaelwilliamsdelabastida/Code/Nbed/pfas.ipynb#W2sZmlsZQ%3D%3D?line=10'>11</a>\u001b[0m driver \u001b[39m=\u001b[39m NbedDriver(\u001b[39m*\u001b[39;49m\u001b[39m*\u001b[39;49margs)\n",
      "File \u001b[0;32m~/Code/Nbed/nbed/driver.py:181\u001b[0m, in \u001b[0;36mNbedDriver.__init__\u001b[0;34m(self, geometry, n_active_atoms, basis, xc_functional, projector, localization, convergence, charge, spin, mu_level_shift, run_ccsd_emb, run_fci_emb, run_virtual_localization, run_dft_in_dft, max_ram_memory, pyscf_print_level, unit, occupied_threshold, virtual_threshold, max_shells, init_huzinaga_rhf_with_mu, max_hf_cycles, max_dft_cycles, return_dict, force_unrestricted)\u001b[0m\n\u001b[1;32m    178\u001b[0m     logger\u001b[39m.\u001b[39mdebug(\u001b[39m\"\u001b[39m\u001b[39mClosed shells, using restricted SCF.\u001b[39m\u001b[39m\"\u001b[39m)\n\u001b[1;32m    179\u001b[0m     \u001b[39mself\u001b[39m\u001b[39m.\u001b[39m_restricted_scf \u001b[39m=\u001b[39m \u001b[39mTrue\u001b[39;00m\n\u001b[0;32m--> 181\u001b[0m \u001b[39mself\u001b[39;49m\u001b[39m.\u001b[39;49membed(init_huzinaga_rhf_with_mu\u001b[39m=\u001b[39;49minit_huzinaga_rhf_with_mu)\n\u001b[1;32m    183\u001b[0m logger\u001b[39m.\u001b[39mdebug(\u001b[39m\"\u001b[39m\u001b[39mDriver initialisation complete.\u001b[39m\u001b[39m\"\u001b[39m)\n\u001b[1;32m    185\u001b[0m \u001b[39mif\u001b[39;00m return_dict:\n",
      "File \u001b[0;32m~/Code/Nbed/nbed/driver.py:898\u001b[0m, in \u001b[0;36mNbedDriver.embed\u001b[0;34m(self, init_huzinaga_rhf_with_mu)\u001b[0m\n\u001b[1;32m    892\u001b[0m \u001b[39m\u001b[39m\u001b[39m\"\"\"Run embedded scf calculation.\u001b[39;00m\n\u001b[1;32m    893\u001b[0m \n\u001b[1;32m    894\u001b[0m \u001b[39mNote run_mu_shift (bool) and run_huzinaga (bool) flags define which method to use (can be both)\u001b[39;00m\n\u001b[1;32m    895\u001b[0m \u001b[39mThis is done when object is initialized.\u001b[39;00m\n\u001b[1;32m    896\u001b[0m \u001b[39m\"\"\"\u001b[39;00m\n\u001b[1;32m    897\u001b[0m logger\u001b[39m.\u001b[39mdebug(\u001b[39m\"\u001b[39m\u001b[39mEmbedding molecule.\u001b[39m\u001b[39m\"\u001b[39m)\n\u001b[0;32m--> 898\u001b[0m \u001b[39mself\u001b[39m\u001b[39m.\u001b[39mlocalized_system \u001b[39m=\u001b[39m \u001b[39mself\u001b[39;49m\u001b[39m.\u001b[39;49m_localize()\n\u001b[1;32m    899\u001b[0m logger\u001b[39m.\u001b[39minfo(\u001b[39m\"\u001b[39m\u001b[39mIndices of embedded electrons:\u001b[39m\u001b[39m\"\u001b[39m)\n\u001b[1;32m    900\u001b[0m logger\u001b[39m.\u001b[39minfo(\u001b[39mself\u001b[39m\u001b[39m.\u001b[39mlocalized_system\u001b[39m.\u001b[39mactive_MO_inds)\n",
      "File \u001b[0;32m~/Code/Nbed/nbed/driver.py:314\u001b[0m, in \u001b[0;36mNbedDriver._localize\u001b[0;34m(self)\u001b[0m\n\u001b[1;32m    305\u001b[0m localizers \u001b[39m=\u001b[39m {\n\u001b[1;32m    306\u001b[0m     \u001b[39m\"\u001b[39m\u001b[39mspade\u001b[39m\u001b[39m\"\u001b[39m: SPADELocalizer,\n\u001b[1;32m    307\u001b[0m     \u001b[39m\"\u001b[39m\u001b[39mboys\u001b[39m\u001b[39m\"\u001b[39m: BOYSLocalizer,\n\u001b[1;32m    308\u001b[0m     \u001b[39m\"\u001b[39m\u001b[39mibo\u001b[39m\u001b[39m\"\u001b[39m: IBOLocalizer,\n\u001b[1;32m    309\u001b[0m     \u001b[39m\"\u001b[39m\u001b[39mpipek-mezey\u001b[39m\u001b[39m\"\u001b[39m: PMLocalizer,\n\u001b[1;32m    310\u001b[0m }\n\u001b[1;32m    312\u001b[0m \u001b[39mif\u001b[39;00m \u001b[39mself\u001b[39m\u001b[39m.\u001b[39mlocalization \u001b[39m==\u001b[39m \u001b[39m\"\u001b[39m\u001b[39mspade\u001b[39m\u001b[39m\"\u001b[39m:\n\u001b[1;32m    313\u001b[0m     localized_system \u001b[39m=\u001b[39m localizers[\u001b[39mself\u001b[39m\u001b[39m.\u001b[39mlocalization](\n\u001b[0;32m--> 314\u001b[0m         \u001b[39mself\u001b[39;49m\u001b[39m.\u001b[39;49m_global_ks,\n\u001b[1;32m    315\u001b[0m         \u001b[39mself\u001b[39m\u001b[39m.\u001b[39mn_active_atoms,\n\u001b[1;32m    316\u001b[0m         max_shells\u001b[39m=\u001b[39m\u001b[39mself\u001b[39m\u001b[39m.\u001b[39mmax_shells,\n\u001b[1;32m    317\u001b[0m     )\n\u001b[1;32m    318\u001b[0m \u001b[39melse\u001b[39;00m:\n\u001b[1;32m    319\u001b[0m     localized_system \u001b[39m=\u001b[39m localizers[\u001b[39mself\u001b[39m\u001b[39m.\u001b[39mlocalization](\n\u001b[1;32m    320\u001b[0m         \u001b[39mself\u001b[39m\u001b[39m.\u001b[39m_global_ks,\n\u001b[1;32m    321\u001b[0m         \u001b[39mself\u001b[39m\u001b[39m.\u001b[39mn_active_atoms,\n\u001b[1;32m    322\u001b[0m         occ_cutoff\u001b[39m=\u001b[39m\u001b[39mself\u001b[39m\u001b[39m.\u001b[39moccupied_threshold,\n\u001b[1;32m    323\u001b[0m         virt_cutoff\u001b[39m=\u001b[39m\u001b[39mself\u001b[39m\u001b[39m.\u001b[39mvirtual_threshold,\n\u001b[1;32m    324\u001b[0m     )\n",
      "File \u001b[0;32m~/Library/Caches/pypoetry/virtualenvs/nbed-1_9TTDE1-py3.10/lib/python3.10/site-packages/cached_property.py:36\u001b[0m, in \u001b[0;36mcached_property.__get__\u001b[0;34m(self, obj, cls)\u001b[0m\n\u001b[1;32m     33\u001b[0m \u001b[39mif\u001b[39;00m asyncio \u001b[39mand\u001b[39;00m asyncio\u001b[39m.\u001b[39miscoroutinefunction(\u001b[39mself\u001b[39m\u001b[39m.\u001b[39mfunc):\n\u001b[1;32m     34\u001b[0m     \u001b[39mreturn\u001b[39;00m \u001b[39mself\u001b[39m\u001b[39m.\u001b[39m_wrap_in_coroutine(obj)\n\u001b[0;32m---> 36\u001b[0m value \u001b[39m=\u001b[39m obj\u001b[39m.\u001b[39m\u001b[39m__dict__\u001b[39m[\u001b[39mself\u001b[39m\u001b[39m.\u001b[39mfunc\u001b[39m.\u001b[39m\u001b[39m__name__\u001b[39m] \u001b[39m=\u001b[39m \u001b[39mself\u001b[39;49m\u001b[39m.\u001b[39;49mfunc(obj)\n\u001b[1;32m     37\u001b[0m \u001b[39mreturn\u001b[39;00m value\n",
      "File \u001b[0;32m~/Code/Nbed/nbed/driver.py:283\u001b[0m, in \u001b[0;36mNbedDriver._global_ks\u001b[0;34m(self)\u001b[0m\n\u001b[1;32m    281\u001b[0m global_ks\u001b[39m.\u001b[39mverbose \u001b[39m=\u001b[39m \u001b[39mself\u001b[39m\u001b[39m.\u001b[39mpyscf_print_level\n\u001b[1;32m    282\u001b[0m global_ks\u001b[39m.\u001b[39mmax_cycle \u001b[39m=\u001b[39m \u001b[39mself\u001b[39m\u001b[39m.\u001b[39mmax_dft_cycles\n\u001b[0;32m--> 283\u001b[0m global_ks\u001b[39m.\u001b[39;49mkernel()\n\u001b[1;32m    284\u001b[0m logger\u001b[39m.\u001b[39minfo(\u001b[39mf\u001b[39m\u001b[39m\"\u001b[39m\u001b[39mGlobal RKS: \u001b[39m\u001b[39m{\u001b[39;00mglobal_ks\u001b[39m.\u001b[39me_tot\u001b[39m}\u001b[39;00m\u001b[39m\"\u001b[39m)\n\u001b[1;32m    286\u001b[0m \u001b[39mif\u001b[39;00m global_ks\u001b[39m.\u001b[39mconverged \u001b[39mis\u001b[39;00m \u001b[39mnot\u001b[39;00m \u001b[39mTrue\u001b[39;00m:\n",
      "File \u001b[0;32m<string>:2\u001b[0m, in \u001b[0;36mkernel\u001b[0;34m(self, dm0, **kwargs)\u001b[0m\n",
      "File \u001b[0;32m~/Library/Caches/pypoetry/virtualenvs/nbed-1_9TTDE1-py3.10/lib/python3.10/site-packages/pyscf/scf/hf.py:1718\u001b[0m, in \u001b[0;36mSCF.scf\u001b[0;34m(self, dm0, **kwargs)\u001b[0m\n\u001b[1;32m   1713\u001b[0m \u001b[39mself\u001b[39m\u001b[39m.\u001b[39mbuild(\u001b[39mself\u001b[39m\u001b[39m.\u001b[39mmol)\n\u001b[1;32m   1715\u001b[0m \u001b[39mif\u001b[39;00m \u001b[39mself\u001b[39m\u001b[39m.\u001b[39mmax_cycle \u001b[39m>\u001b[39m \u001b[39m0\u001b[39m \u001b[39mor\u001b[39;00m \u001b[39mself\u001b[39m\u001b[39m.\u001b[39mmo_coeff \u001b[39mis\u001b[39;00m \u001b[39mNone\u001b[39;00m:\n\u001b[1;32m   1716\u001b[0m     \u001b[39mself\u001b[39m\u001b[39m.\u001b[39mconverged, \u001b[39mself\u001b[39m\u001b[39m.\u001b[39me_tot, \\\n\u001b[1;32m   1717\u001b[0m             \u001b[39mself\u001b[39m\u001b[39m.\u001b[39mmo_energy, \u001b[39mself\u001b[39m\u001b[39m.\u001b[39mmo_coeff, \u001b[39mself\u001b[39m\u001b[39m.\u001b[39mmo_occ \u001b[39m=\u001b[39m \\\n\u001b[0;32m-> 1718\u001b[0m             kernel(\u001b[39mself\u001b[39;49m, \u001b[39mself\u001b[39;49m\u001b[39m.\u001b[39;49mconv_tol, \u001b[39mself\u001b[39;49m\u001b[39m.\u001b[39;49mconv_tol_grad,\n\u001b[1;32m   1719\u001b[0m                    dm0\u001b[39m=\u001b[39;49mdm0, callback\u001b[39m=\u001b[39;49m\u001b[39mself\u001b[39;49m\u001b[39m.\u001b[39;49mcallback,\n\u001b[1;32m   1720\u001b[0m                    conv_check\u001b[39m=\u001b[39;49m\u001b[39mself\u001b[39;49m\u001b[39m.\u001b[39;49mconv_check, \u001b[39m*\u001b[39;49m\u001b[39m*\u001b[39;49mkwargs)\n\u001b[1;32m   1721\u001b[0m \u001b[39melse\u001b[39;00m:\n\u001b[1;32m   1722\u001b[0m     \u001b[39m# Avoid to update SCF orbitals in the non-SCF initialization\u001b[39;00m\n\u001b[1;32m   1723\u001b[0m     \u001b[39m# (issue #495).  But run regular SCF for initial guess if SCF was\u001b[39;00m\n\u001b[1;32m   1724\u001b[0m     \u001b[39m# not initialized.\u001b[39;00m\n\u001b[1;32m   1725\u001b[0m     \u001b[39mself\u001b[39m\u001b[39m.\u001b[39me_tot \u001b[39m=\u001b[39m kernel(\u001b[39mself\u001b[39m, \u001b[39mself\u001b[39m\u001b[39m.\u001b[39mconv_tol, \u001b[39mself\u001b[39m\u001b[39m.\u001b[39mconv_tol_grad,\n\u001b[1;32m   1726\u001b[0m                         dm0\u001b[39m=\u001b[39mdm0, callback\u001b[39m=\u001b[39m\u001b[39mself\u001b[39m\u001b[39m.\u001b[39mcallback,\n\u001b[1;32m   1727\u001b[0m                         conv_check\u001b[39m=\u001b[39m\u001b[39mself\u001b[39m\u001b[39m.\u001b[39mconv_check, \u001b[39m*\u001b[39m\u001b[39m*\u001b[39mkwargs)[\u001b[39m1\u001b[39m]\n",
      "File \u001b[0;32m~/Library/Caches/pypoetry/virtualenvs/nbed-1_9TTDE1-py3.10/lib/python3.10/site-packages/pyscf/scf/hf.py:178\u001b[0m, in \u001b[0;36mkernel\u001b[0;34m(mf, conv_tol, conv_tol_grad, dump_chk, dm0, callback, conv_check, **kwargs)\u001b[0m\n\u001b[1;32m    176\u001b[0m mo_occ \u001b[39m=\u001b[39m mf\u001b[39m.\u001b[39mget_occ(mo_energy, mo_coeff)\n\u001b[1;32m    177\u001b[0m dm \u001b[39m=\u001b[39m mf\u001b[39m.\u001b[39mmake_rdm1(mo_coeff, mo_occ)\n\u001b[0;32m--> 178\u001b[0m vhf \u001b[39m=\u001b[39m mf\u001b[39m.\u001b[39;49mget_veff(mol, dm, dm_last, vhf)\n\u001b[1;32m    179\u001b[0m e_tot \u001b[39m=\u001b[39m mf\u001b[39m.\u001b[39menergy_tot(dm, h1e, vhf)\n\u001b[1;32m    181\u001b[0m \u001b[39m# Here Fock matrix is h1e + vhf, without DIIS.  Calling get_fock\u001b[39;00m\n\u001b[1;32m    182\u001b[0m \u001b[39m# instead of the statement \"fock = h1e + vhf\" because Fock matrix may\u001b[39;00m\n\u001b[1;32m    183\u001b[0m \u001b[39m# be modified in some methods.\u001b[39;00m\n",
      "File \u001b[0;32m~/Library/Caches/pypoetry/virtualenvs/nbed-1_9TTDE1-py3.10/lib/python3.10/site-packages/pyscf/dft/rks.py:110\u001b[0m, in \u001b[0;36mget_veff\u001b[0;34m(ks, mol, dm, dm_last, vhf_last, hermi)\u001b[0m\n\u001b[1;32m    107\u001b[0m \u001b[39mif\u001b[39;00m (ks\u001b[39m.\u001b[39m_eri \u001b[39mis\u001b[39;00m \u001b[39mNone\u001b[39;00m \u001b[39mand\u001b[39;00m ks\u001b[39m.\u001b[39mdirect_scf \u001b[39mand\u001b[39;00m\n\u001b[1;32m    108\u001b[0m     \u001b[39mgetattr\u001b[39m(vhf_last, \u001b[39m'\u001b[39m\u001b[39mvk\u001b[39m\u001b[39m'\u001b[39m, \u001b[39mNone\u001b[39;00m) \u001b[39mis\u001b[39;00m \u001b[39mnot\u001b[39;00m \u001b[39mNone\u001b[39;00m):\n\u001b[1;32m    109\u001b[0m     ddm \u001b[39m=\u001b[39m numpy\u001b[39m.\u001b[39masarray(dm) \u001b[39m-\u001b[39m numpy\u001b[39m.\u001b[39masarray(dm_last)\n\u001b[0;32m--> 110\u001b[0m     vj, vk \u001b[39m=\u001b[39m ks\u001b[39m.\u001b[39;49mget_jk(mol, ddm, hermi)\n\u001b[1;32m    111\u001b[0m     vk \u001b[39m*\u001b[39m\u001b[39m=\u001b[39m hyb\n\u001b[1;32m    112\u001b[0m     \u001b[39mif\u001b[39;00m omega \u001b[39m!=\u001b[39m \u001b[39m0\u001b[39m:  \u001b[39m# For range separated Coulomb\u001b[39;00m\n",
      "File \u001b[0;32m~/Library/Caches/pypoetry/virtualenvs/nbed-1_9TTDE1-py3.10/lib/python3.10/site-packages/pyscf/scf/hf.py:2045\u001b[0m, in \u001b[0;36mRHF.get_jk\u001b[0;34m(self, mol, dm, hermi, with_j, with_k, omega)\u001b[0m\n\u001b[1;32m   2043\u001b[0m     vj, vk \u001b[39m=\u001b[39m dot_eri_dm(\u001b[39mself\u001b[39m\u001b[39m.\u001b[39m_eri, dm, hermi, with_j, with_k)\n\u001b[1;32m   2044\u001b[0m \u001b[39melse\u001b[39;00m:\n\u001b[0;32m-> 2045\u001b[0m     vj, vk \u001b[39m=\u001b[39m SCF\u001b[39m.\u001b[39;49mget_jk(\u001b[39mself\u001b[39;49m, mol, dm, hermi, with_j, with_k, omega)\n\u001b[1;32m   2046\u001b[0m \u001b[39mreturn\u001b[39;00m vj, vk\n",
      "File \u001b[0;32m~/Library/Caches/pypoetry/virtualenvs/nbed-1_9TTDE1-py3.10/lib/python3.10/site-packages/pyscf/scf/hf.py:1768\u001b[0m, in \u001b[0;36mSCF.get_jk\u001b[0;34m(self, mol, dm, hermi, with_j, with_k, omega)\u001b[0m\n\u001b[1;32m   1765\u001b[0m vhfopt \u001b[39m=\u001b[39m \u001b[39mself\u001b[39m\u001b[39m.\u001b[39m_opt\u001b[39m.\u001b[39mget(omega)\n\u001b[1;32m   1767\u001b[0m \u001b[39mif\u001b[39;00m with_j \u001b[39mand\u001b[39;00m with_k:\n\u001b[0;32m-> 1768\u001b[0m     vj, vk \u001b[39m=\u001b[39m get_jk(mol, dm, hermi, vhfopt, with_j, with_k, omega)\n\u001b[1;32m   1769\u001b[0m \u001b[39melse\u001b[39;00m:\n\u001b[1;32m   1770\u001b[0m     \u001b[39mif\u001b[39;00m with_j:\n",
      "File \u001b[0;32m~/Library/Caches/pypoetry/virtualenvs/nbed-1_9TTDE1-py3.10/lib/python3.10/site-packages/pyscf/scf/hf.py:866\u001b[0m, in \u001b[0;36mget_jk\u001b[0;34m(mol, dm, hermi, vhfopt, with_j, with_k, omega)\u001b[0m\n\u001b[1;32m    863\u001b[0m     hermi \u001b[39m=\u001b[39m \u001b[39m0\u001b[39m\n\u001b[1;32m    865\u001b[0m \u001b[39mwith\u001b[39;00m mol\u001b[39m.\u001b[39mwith_range_coulomb(omega):\n\u001b[0;32m--> 866\u001b[0m     vj, vk \u001b[39m=\u001b[39m _vhf\u001b[39m.\u001b[39;49mdirect(dm, mol\u001b[39m.\u001b[39;49m_atm, mol\u001b[39m.\u001b[39;49m_bas, mol\u001b[39m.\u001b[39;49m_env,\n\u001b[1;32m    867\u001b[0m                          vhfopt, hermi, mol\u001b[39m.\u001b[39;49mcart, with_j, with_k)\n\u001b[1;32m    869\u001b[0m \u001b[39mif\u001b[39;00m dm_dtype \u001b[39m==\u001b[39m numpy\u001b[39m.\u001b[39mcomplex128:\n\u001b[1;32m    870\u001b[0m     \u001b[39mif\u001b[39;00m with_j:\n",
      "File \u001b[0;32m~/Library/Caches/pypoetry/virtualenvs/nbed-1_9TTDE1-py3.10/lib/python3.10/site-packages/pyscf/scf/_vhf.py:439\u001b[0m, in \u001b[0;36mdirect\u001b[0;34m(dms, atm, bas, env, vhfopt, hermi, cart, with_j, with_k, out, optimize_sr)\u001b[0m\n\u001b[1;32m    437\u001b[0m \u001b[39mif\u001b[39;00m out \u001b[39mis\u001b[39;00m \u001b[39mNone\u001b[39;00m:\n\u001b[1;32m    438\u001b[0m     out \u001b[39m=\u001b[39m numpy\u001b[39m.\u001b[39mempty((n_jk\u001b[39m*\u001b[39mn_dm, nao, nao))\n\u001b[0;32m--> 439\u001b[0m nr_direct_drv(intor, \u001b[39m'\u001b[39;49m\u001b[39ms8\u001b[39;49m\u001b[39m'\u001b[39;49m, jkscripts, dms, \u001b[39m1\u001b[39;49m, atm, bas, env,\n\u001b[1;32m    440\u001b[0m               cvhfopt, cintopt, out\u001b[39m=\u001b[39;49mout, optimize_sr\u001b[39m=\u001b[39;49moptimize_sr)\n\u001b[1;32m    441\u001b[0m \u001b[39mif\u001b[39;00m with_j \u001b[39mand\u001b[39;00m with_k:\n\u001b[1;32m    442\u001b[0m     vj \u001b[39m=\u001b[39m out[:n_dm]\n",
      "File \u001b[0;32m~/Library/Caches/pypoetry/virtualenvs/nbed-1_9TTDE1-py3.10/lib/python3.10/site-packages/pyscf/scf/_vhf.py:625\u001b[0m, in \u001b[0;36mnr_direct_drv\u001b[0;34m(intor, aosym, jkscript, dms, ncomp, atm, bas, env, cvhfopt, cintopt, shls_slice, shls_excludes, out, optimize_sr)\u001b[0m\n\u001b[1;32m    622\u001b[0m     fdot \u001b[39m=\u001b[39m \u001b[39mgetattr\u001b[39m(libcvhf, \u001b[39m'\u001b[39m\u001b[39mCVHFdot_nr\u001b[39m\u001b[39m'\u001b[39m\u001b[39m+\u001b[39mdotsym)\n\u001b[1;32m    623\u001b[0m cintor \u001b[39m=\u001b[39m \u001b[39mgetattr\u001b[39m(libcvhf, intor)\n\u001b[0;32m--> 625\u001b[0m fdrv(cintor, fdot, fjk, dmsptr, vjkptr,\n\u001b[1;32m    626\u001b[0m      ctypes\u001b[39m.\u001b[39;49mc_int(n_dm), ctypes\u001b[39m.\u001b[39;49mc_int(ncomp), shls_slice,\n\u001b[1;32m    627\u001b[0m      ao_loc\u001b[39m.\u001b[39;49mctypes\u001b[39m.\u001b[39;49mdata_as(ctypes\u001b[39m.\u001b[39;49mc_void_p), cintopt, cvhfopt,\n\u001b[1;32m    628\u001b[0m      c_atm\u001b[39m.\u001b[39;49mctypes\u001b[39m.\u001b[39;49mdata_as(ctypes\u001b[39m.\u001b[39;49mc_void_p), natm,\n\u001b[1;32m    629\u001b[0m      c_bas\u001b[39m.\u001b[39;49mctypes\u001b[39m.\u001b[39;49mdata_as(ctypes\u001b[39m.\u001b[39;49mc_void_p), nbas,\n\u001b[1;32m    630\u001b[0m      c_env\u001b[39m.\u001b[39;49mctypes\u001b[39m.\u001b[39;49mdata_as(ctypes\u001b[39m.\u001b[39;49mc_void_p))\n\u001b[1;32m    632\u001b[0m \u001b[39mif\u001b[39;00m \u001b[39misinstance\u001b[39m(jkscript, \u001b[39mstr\u001b[39m):\n\u001b[1;32m    633\u001b[0m     vjk \u001b[39m=\u001b[39m vjk[\u001b[39m0\u001b[39m]\n",
      "\u001b[0;31mKeyboardInterrupt\u001b[0m: "
     ]
    }
   ],
   "source": [
    "from nbed.driver import NbedDriver\n",
    "args = {\"geometry\": pfoa_ordered, \n",
    "        \"n_active_atoms\": 4,\n",
    "        \"basis\": \"6-31g*\",\n",
    "        \"xc_functional\": \"b3lyp\",\n",
    "        \"projector\": \"both\",\n",
    "        \"localization\": \"spade\",\n",
    "        \"convergence\": 1e-6,\n",
    "        \"max_ram_memory\": 8_000,\n",
    "        }\n",
    "driver = NbedDriver(**args)"
   ]
  },
  {
   "cell_type": "code",
   "execution_count": null,
   "metadata": {},
   "outputs": [],
   "source": []
  }
 ],
 "metadata": {
  "kernelspec": {
   "display_name": "nbed-1_9TTDE1-py3.10",
   "language": "python",
   "name": "python3"
  },
  "language_info": {
   "codemirror_mode": {
    "name": "ipython",
    "version": 3
   },
   "file_extension": ".py",
   "mimetype": "text/x-python",
   "name": "python",
   "nbconvert_exporter": "python",
   "pygments_lexer": "ipython3",
   "version": "3.10.11"
  }
 },
 "nbformat": 4,
 "nbformat_minor": 2
}
