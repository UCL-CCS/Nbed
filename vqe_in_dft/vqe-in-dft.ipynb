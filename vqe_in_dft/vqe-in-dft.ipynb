{
 "metadata": {
  "language_info": {
   "codemirror_mode": {
    "name": "ipython",
    "version": 3
   },
   "file_extension": ".py",
   "mimetype": "text/x-python",
   "name": "python",
   "nbconvert_exporter": "python",
   "pygments_lexer": "ipython3",
   "version": "3.8.8"
  },
  "orig_nbformat": 4,
  "kernelspec": {
   "name": "python3",
   "display_name": "Python 3.8.8 64-bit ('base': conda)"
  },
  "interpreter": {
   "hash": "da6ef760483158e42949a355dc99e53161d165d80af3f1299a5fa0aa1294c964"
  }
 },
 "nbformat": 4,
 "nbformat_minor": 2,
 "cells": [
  {
   "cell_type": "markdown",
   "source": [
    "# VQE in DFT with PsiEmbed and Qiskit\n",
    "\n",
    "Here we define the inputs as required by PsiEmbed."
   ],
   "metadata": {}
  },
  {
   "cell_type": "code",
   "execution_count": 1,
   "source": [
    "from spade import fill_defaults\n",
    "\n",
    "options = {}\n",
    "options['geometry'] = \"\"\"\n",
    "    O       -1.1867 -0.2472  0.0000\n",
    "    H       -1.9237  0.3850  0.0000\n",
    "    H       -0.0227  1.1812  0.8852\n",
    "    C        0.0000  0.5526  0.0000\n",
    "    H       -0.0227  1.1812 -0.8852\n",
    "    C        1.1879 -0.3829  0.0000\n",
    "    H        2.0985  0.2306  0.0000\n",
    "    H        1.1184 -1.0093  0.8869\n",
    "    H        1.1184 -1.0093 -0.8869\n",
    "    \"\"\"\n",
    "options['basis'] = 'cc-pvdz' # basis set \n",
    "options['low_level'] = 'b3lyp' # level of theory of the environment \n",
    "options['high_level'] = 'mp2' # level of theory of the embedded system\n",
    "options['n_active_atoms'] = 2 # number of active atoms (first n atoms in the geometry string)\n",
    "options['low_level_reference'] = 'rohf'\n",
    "options['high_level_reference'] = 'rohf'\n",
    "options['package'] = 'pyscf'\n",
    "\n",
    "keywords = fill_defaults(options)"
   ],
   "outputs": [],
   "metadata": {}
  },
  {
   "cell_type": "markdown",
   "source": [],
   "metadata": {}
  },
  {
   "cell_type": "markdown",
   "source": [
    "The first step is to run a mean field caluclation of the whole system.\n",
    "\n",
    "The Embed class and its subclasses have a method to do this which also sets the following properties:\n",
    "    Exchange correlation potentials (v_xc_total if embedding potential is not set, or alpha/beta_v_xc_total)\n",
    "    "
   ],
   "metadata": {}
  },
  {
   "cell_type": "code",
   "execution_count": 3,
   "source": [
    "from spade import Embed, PySCFEmbed\n",
    "\n",
    "embed = PySCFEmbed(keywords)\n",
    "\n",
    "embed.run_mean_field(v_emb=None)\n"
   ],
   "outputs": [
    {
     "output_type": "stream",
     "name": "stderr",
     "text": [
      "Warning: <pyscf.gto.mole.Mole object at 0x7f52f8533a00> must be initialized before calling SCF.\n",
      "Initialize <pyscf.gto.mole.Mole object at 0x7f52f8533a00> in <pyscf.dft.roks.ROKS object at 0x7f52304457c0>\n"
     ]
    },
    {
     "output_type": "stream",
     "name": "stdout",
     "text": [
      "output file: output.dat\n"
     ]
    }
   ],
   "metadata": {}
  },
  {
   "cell_type": "markdown",
   "source": [
    "Next we may want to convert to a different basis.\n",
    "\n",
    "In any case we want to find the orbitals of the active space and environment"
   ],
   "metadata": {}
  },
  {
   "cell_type": "code",
   "execution_count": 3,
   "source": [
    "embed.__dir__()"
   ],
   "outputs": [
    {
     "output_type": "execute_result",
     "data": {
      "text/plain": [
       "['keywords',\n",
       " 'correlation_energy_shell',\n",
       " 'shell_size',\n",
       " 'outfile',\n",
       " '_mol',\n",
       " '_mean_field',\n",
       " 'alpha_occupied_orbitals',\n",
       " 'beta_occupied_orbitals',\n",
       " 'alpha_j',\n",
       " 'beta_j',\n",
       " 'alpha_k',\n",
       " 'beta_k',\n",
       " 'alpha_v_xc_total',\n",
       " 'beta_v_xc_total',\n",
       " 'alpha',\n",
       " '_n_basis_functions',\n",
       " 'nre',\n",
       " 'ao_overlap',\n",
       " 'h_core',\n",
       " '__module__',\n",
       " '__doc__',\n",
       " 'run_mean_field',\n",
       " 'count_active_aos',\n",
       " 'basis_projection',\n",
       " 'closed_shell_subsystem',\n",
       " 'open_shell_subsystem',\n",
       " 'correlation_energy',\n",
       " 'effective_virtuals',\n",
       " 'pseudocanonical',\n",
       " 'ao_operator',\n",
       " '__init__',\n",
       " 'dot',\n",
       " 'orbital_rotation',\n",
       " 'orbital_partition',\n",
       " 'header',\n",
       " 'print_scf',\n",
       " 'print_summary',\n",
       " 'print_sigma',\n",
       " 'determinant_overlap',\n",
       " 'count_shells',\n",
       " '__dict__',\n",
       " '__weakref__',\n",
       " '__repr__',\n",
       " '__hash__',\n",
       " '__str__',\n",
       " '__getattribute__',\n",
       " '__setattr__',\n",
       " '__delattr__',\n",
       " '__lt__',\n",
       " '__le__',\n",
       " '__eq__',\n",
       " '__ne__',\n",
       " '__gt__',\n",
       " '__ge__',\n",
       " '__new__',\n",
       " '__reduce_ex__',\n",
       " '__reduce__',\n",
       " '__subclasshook__',\n",
       " '__init_subclass__',\n",
       " '__format__',\n",
       " '__sizeof__',\n",
       " '__dir__',\n",
       " '__class__']"
      ]
     },
     "metadata": {},
     "execution_count": 3
    }
   ],
   "metadata": {}
  },
  {
   "cell_type": "code",
   "execution_count": null,
   "source": [
    "# TODO this first line causes an error cause we have asked for llr to be rohf, which sets \n",
    "# alpha/beta_occupied_orbitals but not this generic one. What's going on here?\n",
    "\n",
    "low_level_orbitals = embed.occupied_orbitals\n",
    "\n",
    "print(f\"{ref.__name__.upper()} Orbitals\")\n",
    "print(low_level_orbitals)\n",
    "\n",
    "if 'occupied_projection_basis' in keywords:\n",
    "    projection_orbitals = embed.basis_projection(low_level_orbitals,\n",
    "        keywords['occupied_projection_basis'])\n",
    "    n_act_aos = embed.count_active_aos(\n",
    "        keywords['occupied_projection_basis'])\n",
    "    ao_overlap = embed.projection_orbitals\n",
    "else:\n",
    "    projection_orbitals = low_level_orbitals\n",
    "    n_act_aos = embed.count_active_aos()\n",
    "    ao_overlap = embed.ao_overlap\n",
    "\n",
    "# Orbital rotation and partition into subsystems A and B\n",
    "rotation_matrix, sigma = embed.orbital_rotation(projection_orbitals,\n",
    "    n_act_aos, ao_overlap)\n",
    "n_act_mos, n_env_mos = embed.orbital_partition(sigma)\n",
    "\n",
    "# Defining active and environment orbitals and density\n",
    "act_orbitals = low_level_orbitals @ rotation_matrix.T[:, :n_act_mos]\n",
    "env_orbitals = low_level_orbitals @ rotation_matrix.T[:, n_act_mos:]\n",
    "act_density = 2.0 * act_orbitals @ act_orbitals.T\n",
    "env_density = 2.0 * env_orbitals @ env_orbitals.T"
   ],
   "outputs": [],
   "metadata": {}
  },
  {
   "cell_type": "markdown",
   "source": [
    "We then calclate the cross subsytem terms"
   ],
   "metadata": {}
  },
  {
   "cell_type": "code",
   "execution_count": null,
   "source": [
    "# Retrieving the subsytem energy terms and potential matrices\n",
    "e_act, e_xc_act, j_act, k_act, v_xc_act = (\n",
    "    embed.closed_shell_subsystem(act_orbitals))\n",
    "e_env, e_xc_env, j_env, k_env, v_xc_env = (\n",
    "    embed.closed_shell_subsystem(env_orbitals))\n",
    "\n",
    "# Computing cross subsystem terms\n",
    "j_cross = 0.5 * (matrix_dot(act_density, j_env)\n",
    "        + matrix_dot(env_density, j_act))\n",
    "\n",
    "if keywords['package'].lower() == 'psi4':\n",
    "    k_cross = 0.5 * embed.alpha * (matrix_dot(act_density, k_env)\n",
    "            + matrix_dot(env_density, k_act))\n",
    "else:\n",
    "    k_cross = 0.0\n",
    "\n",
    "xc_cross = embed.e_xc_total - e_xc_act - e_xc_env\n",
    "two_e_cross = j_cross + k_cross + xc_cross\n"
   ],
   "outputs": [],
   "metadata": {}
  },
  {
   "cell_type": "markdown",
   "source": [
    "We can now define the projector used to orthogonalise the Molecular and Atomic orbitals. From this we calculate the embedding potential."
   ],
   "metadata": {}
  },
  {
   "cell_type": "code",
   "execution_count": null,
   "source": [
    "\n",
    "# TODO: generate orbital (molden) file before embedding\n",
    "\n",
    "# Defining the embedded core Hamiltonian\n",
    "projector = keywords['level_shift'] * (embed.ao_overlap @ env_density \n",
    "    @ embed.ao_overlap)\n",
    "v_emb = (j_env - embed.alpha * k_env + embed.v_xc_total - v_xc_act\n",
    "    + projector)\n",
    "#h_core_emb = h_core + embedding_potential + projector\n"
   ],
   "outputs": [],
   "metadata": {}
  },
  {
   "cell_type": "markdown",
   "source": [
    "Again, we run the mean field method, but with the embedding potential as calulated."
   ],
   "metadata": {}
  },
  {
   "cell_type": "code",
   "execution_count": null,
   "source": [
    "embed.run_mean_field(v_emb)\n"
   ],
   "outputs": [],
   "metadata": {}
  },
  {
   "cell_type": "code",
   "execution_count": null,
   "source": [
    "# Overlap between the C_A determinant and the embedded determinant\n",
    "embed.determinant_overlap(act_orbitals)\n",
    "\n",
    "# Computing the embedded SCF energy\n",
    "density_emb = 2.0 * embed.occupied_orbitals @ embed.occupied_orbitals.T\n",
    "e_act_emb = matrix_dot(density_emb, embed.h_core + 0.5 * embed.j - 0.25 * embed.k)\n",
    "\n",
    "# Compute the total energy\n",
    "correction = (matrix_dot(v_emb, density_emb - act_density))\n",
    "e_mf_emb = e_act_emb + e_env + two_e_cross + embed.nre + correction\n",
    "embed.print_scf(e_act, e_env, two_e_cross, e_act_emb, correction)\n",
    "\n"
   ],
   "outputs": [],
   "metadata": {}
  },
  {
   "cell_type": "code",
   "execution_count": null,
   "source": [],
   "outputs": [],
   "metadata": {}
  },
  {
   "cell_type": "markdown",
   "source": [],
   "metadata": {}
  },
  {
   "cell_type": "code",
   "execution_count": null,
   "source": [
    "from qiskit.aqua.algorithms import VQE, NumPyEigensolver\n",
    "import matplotlib.pyplot as plt\n",
    "import numpy as np\n",
    "from qiskit.chemistry.components.variational_forms import UCCSD\n",
    "from qiskit.chemistry.components.initial_states import HartreeFock\n",
    "from qiskit.circuit.library import EfficientSU2\n",
    "from qiskit.aqua.components.optimizers import COBYLA, SPSA, SLSQP\n",
    "from qiskit.aqua.operators import Z2Symmetries\n",
    "from qiskit import IBMQ, BasicAer, Aer\n",
    "from qiskit.chemistry.drivers import PySCFDriver, UnitsType\n",
    "from qiskit.chemistry import FermionicOperator\n",
    "from qiskit.aqua import QuantumInstance\n",
    "from qiskit.ignis.mitigation.measurement import CompleteMeasFitter\n",
    "from qiskit.providers.aer.noise import NoiseModel\n",
    "\n",
    "from embedding_methods import Embed\n",
    "\n",
    "from qiskit import Aer\n",
    "from qiskit.aqua import QuantumInstance, aqua_globals\n",
    "from qiskit.aqua.operators import OperatorBase\n",
    "from qiskit.algorithms import VQE, NumPyMinimumEigensolver\n",
    "from qiskit.algorithms.optimizers import SPSA\n",
    "from qiskit.circuit.library import TwoLocal\n",
    "from qiskit.aqua.operators import I, X, Z\n",
    "from qiskit_nature.circuit.library import UCCSD\n",
    "from qiskit_nature.converters.second_quantization import QubitConverter\n",
    "from qiskit_nature.mappers.second_quantization import JordanWignerMapper, ParityMapper\n",
    "from qiskit.chemistry import FermionicOperator\n",
    "from qiskit_nature.drivers import PySCFDriver\n",
    "from qiskit_nature.problems.second_quantization import ElectronicStructureProblem\n"
   ],
   "outputs": [
    {
     "output_type": "stream",
     "name": "stderr",
     "text": [
      "/home/miw/miniconda3/lib/python3.8/site-packages/qiskit/aqua/__init__.py:86: DeprecationWarning: The package qiskit.aqua is deprecated. It was moved/refactored to qiskit-terra For more information see <https://github.com/Qiskit/qiskit-aqua/blob/main/README.md#migration-guide>\n",
      "  warn_package('aqua', 'qiskit-terra')\n",
      "/home/miw/miniconda3/lib/python3.8/site-packages/qiskit/chemistry/__init__.py:170: DeprecationWarning: The package qiskit.chemistry is deprecated. It was moved/refactored to qiskit_nature (pip install qiskit-nature). For more information see <https://github.com/Qiskit/qiskit-aqua/blob/main/README.md#migration-guide>\n",
      "  warn_package('chemistry', 'qiskit_nature', 'qiskit-nature')\n"
     ]
    }
   ],
   "metadata": {}
  },
  {
   "cell_type": "code",
   "execution_count": null,
   "source": [
    "def get_qubit_op(dist):\n",
    "    driver = PySCFDriver(atom=\"Li .0 .0 .0; H .0 .0 \" + str(dist), unit=UnitsType.ANGSTROM, \n",
    "                         charge=0, spin=0, basis='sto3g')\n",
    "    molecule = driver.run()\n",
    "    freeze_list = [0]\n",
    "    remove_list = [-3, -2]\n",
    "    repulsion_energy = molecule.nuclear_repulsion_energy\n",
    "    num_particles = molecule.num_alpha + molecule.num_beta\n",
    "    num_spin_orbitals = molecule.num_orbitals * 2\n",
    "    remove_list = [x % molecule.num_orbitals for x in remove_list]\n",
    "    freeze_list = [x % molecule.num_orbitals for x in freeze_list]\n",
    "    remove_list = [x - len(freeze_list) for x in remove_list]\n",
    "    remove_list += [x + molecule.num_orbitals - len(freeze_list)  for x in remove_list]\n",
    "    freeze_list += [x + molecule.num_orbitals for x in freeze_list]\n",
    "    ferOp = FermionicOperator(h1=molecule.one_body_integrals, h2=molecule.two_body_integrals)\n",
    "    ferOp, energy_shift = ferOp.fermion_mode_freezing(freeze_list)\n",
    "    num_spin_orbitals -= len(freeze_list)\n",
    "    num_particles -= len(freeze_list)\n",
    "    ferOp = ferOp.fermion_mode_elimination(remove_list)\n",
    "    num_spin_orbitals -= len(remove_list)\n",
    "    qubitOp = ferOp.mapping(map_type='parity', threshold=0.00000001)\n",
    "    qubitOp = Z2Symmetries.two_qubit_reduction(qubitOp, num_particles)\n",
    "    shift = energy_shift + repulsion_energy\n",
    "    return qubitOp, num_particles, num_spin_orbi"
   ],
   "outputs": [],
   "metadata": {}
  },
  {
   "cell_type": "code",
   "execution_count": null,
   "source": [
    "\n",
    "\n",
    "\n",
    "\n"
   ],
   "outputs": [],
   "metadata": {}
  }
 ]
}