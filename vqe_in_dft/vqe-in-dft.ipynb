{
 "metadata": {
  "language_info": {
   "codemirror_mode": {
    "name": "ipython",
    "version": 3
   },
   "file_extension": ".py",
   "mimetype": "text/x-python",
   "name": "python",
   "nbconvert_exporter": "python",
   "pygments_lexer": "ipython3",
   "version": "3.8.8"
  },
  "orig_nbformat": 4,
  "kernelspec": {
   "name": "python3",
   "display_name": "Python 3.8.8 64-bit ('base': conda)"
  },
  "interpreter": {
   "hash": "da6ef760483158e42949a355dc99e53161d165d80af3f1299a5fa0aa1294c964"
  }
 },
 "nbformat": 4,
 "nbformat_minor": 2,
 "cells": [
  {
   "cell_type": "markdown",
   "source": [
    "# VQE in DFT with PsiEmbed and Qiskit\n",
    "\n",
    "Here we define the inputs as required by PsiEmbed. Note that we'll follow the logic of `embedding_module/run_open_shell`."
   ],
   "metadata": {}
  },
  {
   "cell_type": "code",
   "execution_count": 1,
   "source": [
    "from spade import fill_defaults\n",
    "import numpy as np\n",
    "\n",
    "options = {}\n",
    "options['geometry'] = \"\"\"\n",
    "O          0.00000        0.00000        0.11779\n",
    "H          0.00000        0.75545       -0.47116\n",
    "H          0.00000       -0.75545       -0.47116\n",
    "    \"\"\"\n",
    "options['basis'] = 'cc-pvdz' # basis set \n",
    "options['low_level'] = 'b3lyp' # level of theory of the environment \n",
    "options['high_level'] = 'mp2' # level of theory of the embedded system\n",
    "options['n_active_atoms'] = 1 # number of active atoms (first n atoms in the geometry string)\n",
    "options['low_level_reference'] = 'rohf'\n",
    "options['high_level_reference'] = 'rohf'\n",
    "options['package'] = 'pyscf'\n",
    "\n",
    "keywords = fill_defaults(options)\n",
    "\n",
    "# if (keywords['low_level_reference'] == 'rhf' and \n",
    "#         keywords['high_level_reference'] == 'rhf'):\n",
    "#     run_closed_shell(keywords)\n",
    "# else:\n",
    "#     run_open_shell(keywords)"
   ],
   "outputs": [],
   "metadata": {}
  },
  {
   "cell_type": "markdown",
   "source": [],
   "metadata": {}
  },
  {
   "cell_type": "markdown",
   "source": [
    "The first step is to run a mean field caluclation of the whole system.\n",
    "\n",
    "The Embed class and its subclasses have a method to do this which also sets the following properties:\n",
    "    Exchange correlation potentials (v_xc_total if embedding potential is not set, or alpha/beta_v_xc_total)\n",
    "    "
   ],
   "metadata": {}
  },
  {
   "cell_type": "code",
   "execution_count": 4,
   "source": [
    "from spade import Embed, PySCFEmbed\n",
    "\n",
    "embed = PySCFEmbed(keywords)\n",
    "\n",
    "embed.run_mean_field(v_emb=None)\n",
    "\n",
    "alpha_occupied_orbitals = embed.alpha_occupied_orbitals\n",
    "beta_occupied_orbitals = embed.beta_occupied_orbitals"
   ],
   "outputs": [
    {
     "output_type": "stream",
     "name": "stderr",
     "text": [
      "Warning: <pyscf.gto.mole.Mole object at 0x7f528022efd0> must be initialized before calling SCF.\n",
      "Initialize <pyscf.gto.mole.Mole object at 0x7f528022efd0> in <pyscf.dft.roks.ROKS object at 0x7f528022e3a0>\n"
     ]
    },
    {
     "output_type": "stream",
     "name": "stdout",
     "text": [
      "overwrite output file: output.dat\n"
     ]
    }
   ],
   "metadata": {}
  },
  {
   "cell_type": "markdown",
   "source": [
    "Next we may want to project to a different basis.\n",
    "\n",
    "In any case we want to find the orbitals of the active space and environment"
   ],
   "metadata": {}
  },
  {
   "cell_type": "code",
   "execution_count": 5,
   "source": [
    "    # Whether or not to project occupied orbitals onto another (minimal) basis\n",
    "    if 'occupied_projection_basis' in keywords:\n",
    "        op_basis = keywords['occupied_projection_basis']\n",
    "\n",
    "        alpha_projection_orbitals = embed.basis_projection(\n",
    "            alpha_occupied_orbitals, op_basis)\n",
    "        beta_projection_orbitals = embed.basis_projection(\n",
    "            beta_occupied_orbitals, op_basis)\n",
    "        n_act_aos = embed.count_active_aos(op_basis)\n",
    "    else:\n",
    "        alpha_projection_orbitals = alpha_occupied_orbitals\n",
    "        beta_projection_orbitals = beta_occupied_orbitals\n",
    "        n_act_aos = embed.count_active_aos(keywords['basis'])\n",
    "\n",
    "    ao_overlap = embed.ao_overlap\n",
    "\n",
    "    # Orbital rotation and partition into subsystems A and B\n",
    "    alpha_rotation_matrix, alpha_sigma = embed.orbital_rotation(\n",
    "        alpha_projection_orbitals, n_act_aos, ao_overlap)\n",
    "    beta_rotation_matrix, beta_sigma = embed.orbital_rotation(\n",
    "        beta_projection_orbitals, n_act_aos, ao_overlap)\n",
    "\n",
    "    alpha_n_act_mos, _, beta_n_act_mos, _ = (\n",
    "        embed.orbital_partition(alpha_sigma, beta_sigma))\n",
    "\n",
    "    alpha_act_orbitals = (alpha_occupied_orbitals\n",
    "        @ alpha_rotation_matrix.T[:, :alpha_n_act_mos])\n",
    "    alpha_env_orbitals = (alpha_occupied_orbitals\n",
    "        @ alpha_rotation_matrix.T[:, alpha_n_act_mos:])\n",
    "    beta_act_orbitals = (beta_occupied_orbitals\n",
    "        @ beta_rotation_matrix.T[:, :beta_n_act_mos])\n",
    "    beta_env_orbitals = (beta_occupied_orbitals\n",
    "        @ beta_rotation_matrix.T[:, beta_n_act_mos:])\n",
    "\n",
    "    alpha_act_density = alpha_act_orbitals @ alpha_act_orbitals.T\n",
    "    beta_act_density = beta_act_orbitals @ beta_act_orbitals.T\n",
    "    alpha_env_density = alpha_env_orbitals @ alpha_env_orbitals.T\n",
    "    beta_env_density = beta_env_orbitals @ beta_env_orbitals.T"
   ],
   "outputs": [
    {
     "output_type": "stream",
     "name": "stderr",
     "text": [
      "Warning: <pyscf.gto.mole.Mole object at 0x7f5280297fa0> must be initialized before calling SCF.\n",
      "Initialize <pyscf.gto.mole.Mole object at 0x7f5280297fa0> in <pyscf.scf.hf.RHF object at 0x7f5280297e50>\n"
     ]
    }
   ],
   "metadata": {}
  },
  {
   "cell_type": "markdown",
   "source": [
    "We then calclate the cross subsytem terms"
   ],
   "metadata": {}
  },
  {
   "cell_type": "code",
   "execution_count": 6,
   "source": [
    "# Retrieving the subsytem energy terms and potential matrices\n",
    "(e_act, e_xc_act, alpha_j_act, beta_j_act, alpha_k_act,\n",
    "    beta_k_act, alpha_v_xc_act, beta_v_xc_act) = (\n",
    "    embed.open_shell_subsystem(alpha_act_orbitals, beta_act_orbitals))\n",
    "    \n",
    "(e_env, e_xc_env, alpha_j_env, beta_j_env, alpha_k_env,\n",
    "    beta_k_env, alpha_v_xc_env, beta_v_xc_env) = (\n",
    "    embed.open_shell_subsystem(alpha_env_orbitals, beta_env_orbitals))\n",
    "\n",
    "# We need to use the matrix_dot function\n",
    "matrix_dot = lambda A, B: np.einsum('ij,ij', A, B)\n",
    "\n",
    "# Computing cross subsystem terms\n",
    "j_cross = 0.5*(matrix_dot(alpha_j_act, alpha_env_density)\n",
    "        + matrix_dot(alpha_j_act, beta_env_density)\n",
    "        + matrix_dot(beta_j_act, alpha_env_density)\n",
    "        + matrix_dot(beta_j_act, beta_env_density)\n",
    "        + matrix_dot(alpha_j_env, alpha_act_density)\n",
    "        + matrix_dot(alpha_j_env, beta_act_density)\n",
    "        + matrix_dot(beta_j_env, alpha_act_density)\n",
    "        + matrix_dot(beta_j_env, beta_act_density))\n",
    "        \n",
    "k_cross = -0.5*embed.alpha*(matrix_dot(alpha_k_act, alpha_env_density)\n",
    "        + matrix_dot(beta_k_act, beta_env_density)\n",
    "        + matrix_dot(alpha_k_env, alpha_act_density)\n",
    "        + matrix_dot(beta_k_env, beta_act_density))\n",
    "\n",
    "xc_cross = embed.e_xc_total - e_xc_act - e_xc_env\n",
    "two_e_cross = j_cross + k_cross + xc_cross"
   ],
   "outputs": [],
   "metadata": {}
  },
  {
   "cell_type": "markdown",
   "source": [
    "We can now define the projector used to orthogonalise the Molecular and Atomic orbitals. From this we calculate the embedding potential."
   ],
   "metadata": {}
  },
  {
   "cell_type": "code",
   "execution_count": 7,
   "source": [
    "    # Defining the embedding potential\n",
    "    ao_overlap = embed.ao_overlap\n",
    "    alpha_projector = keywords['level_shift']*(ao_overlap @ alpha_env_density\n",
    "        @ ao_overlap)\n",
    "    beta_projector = keywords['level_shift']*(ao_overlap @ beta_env_density\n",
    "        @ ao_overlap)\n",
    "        \n",
    "    alpha_v_emb = (alpha_j_env + beta_j_env - embed.alpha*alpha_k_env\n",
    "                + alpha_projector + embed.alpha_v_xc_total - alpha_v_xc_act)\n",
    "    beta_v_emb = (alpha_j_env + beta_j_env - embed.alpha*beta_k_env\n",
    "                + beta_projector + embed.beta_v_xc_total - beta_v_xc_act)\n",
    "            "
   ],
   "outputs": [],
   "metadata": {}
  },
  {
   "cell_type": "code",
   "execution_count": 11,
   "source": [
    "alpha_act_orbitals\n",
    "alpha"
   ],
   "outputs": [
    {
     "output_type": "execute_result",
     "data": {
      "text/plain": [
       "array([[-9.77322452e-01,  2.05528631e-01,  2.55462089e-16],\n",
       "       [ 9.43799366e-02,  3.06330507e-01, -9.20233620e-15],\n",
       "       [ 1.27319348e-01,  4.65670155e-01, -1.37110400e-14],\n",
       "       [ 3.94237547e-15,  1.78060503e-14,  6.36220438e-01],\n",
       "       [ 1.45486443e-15,  3.48087384e-15,  1.23262117e-15],\n",
       "       [ 7.17574986e-02,  4.58763476e-01, -1.32571965e-14],\n",
       "       [ 2.99531699e-15,  1.35686018e-14,  4.88727672e-01],\n",
       "       [-2.27393653e-16, -1.54440723e-15,  1.53179985e-15],\n",
       "       [ 5.82462631e-02,  3.24601990e-01, -9.46385489e-15],\n",
       "       [-1.08018080e-17, -4.76079435e-17,  2.49650354e-16],\n",
       "       [ 1.84714953e-17,  1.85808235e-16,  1.35167811e-16],\n",
       "       [-2.64623374e-03, -1.61327153e-02,  4.30660837e-16],\n",
       "       [-1.18048807e-16, -5.29713376e-16, -1.93364565e-02],\n",
       "       [-1.43990592e-08,  2.16373012e-04,  3.53124914e-18],\n",
       "       [ 2.56624200e-03, -1.11998930e-01,  3.11565965e-15],\n",
       "       [-6.14086766e-03, -3.79794374e-02, -3.09885932e-16],\n",
       "       [ 1.95987651e-16,  8.83527027e-16,  3.28591013e-02],\n",
       "       [-3.25094518e-03,  9.73674509e-03, -2.25062606e-16],\n",
       "       [ 6.58527081e-03,  2.04040472e-02, -7.26643508e-16],\n",
       "       [ 2.56624200e-03, -1.11998930e-01,  2.84202968e-15],\n",
       "       [-6.14086766e-03, -3.79794374e-02,  2.53793428e-15],\n",
       "       [ 2.04619271e-16,  9.27720587e-16,  3.28591013e-02],\n",
       "       [ 3.25094518e-03, -9.73674509e-03,  1.27175776e-16],\n",
       "       [ 6.58527081e-03,  2.04040472e-02, -4.13580559e-16]])"
      ]
     },
     "metadata": {},
     "execution_count": 11
    }
   ],
   "metadata": {}
  },
  {
   "cell_type": "markdown",
   "source": [
    "Here, PsiEmbed gives us the option to stop, outputting values for calculation by other means.\n",
    "\n",
    "To continue, we run the mean field method, but with the embedding potentials as calulated."
   ],
   "metadata": {}
  },
  {
   "cell_type": "code",
   "execution_count": null,
   "source": [
    "\n",
    "    embed.run_mean_field([alpha_v_emb, beta_v_emb])\n",
    "\n",
    "    # Overlap between the C_A determinant and the embedded determinant\n",
    "    embed.determinant_overlap(alpha_act_orbitals, beta_act_orbitals)\n",
    "    \n",
    "    # Computing the embedded SCF energy\n",
    "    alpha_density_emb = (embed.alpha_occupied_orbitals\n",
    "        @ embed.alpha_occupied_orbitals.T)\n",
    "    beta_density_emb = (embed.beta_occupied_orbitals\n",
    "        @ embed.beta_occupied_orbitals.T)\n",
    "    \n",
    "    alpha_j_emb = embed.alpha_j\n",
    "    beta_j_emb = embed.beta_j\n",
    "    alpha_k_emb = embed.alpha_k\n",
    "    beta_k_emb = embed.beta_k\n",
    "    h_core = embed.h_core\n",
    "\n",
    "    e_act_emb = (matrix_dot(alpha_density_emb + beta_density_emb, h_core)\n",
    "                + 0.5*matrix_dot(alpha_density_emb + beta_density_emb,\n",
    "                alpha_j_emb + beta_j_emb)\n",
    "                - 0.5*(matrix_dot(alpha_density_emb, alpha_k_emb)\n",
    "                + matrix_dot(beta_density_emb, beta_k_emb)))\n",
    "                \n",
    "    correction = (matrix_dot(alpha_v_emb, alpha_density_emb - alpha_act_density)\n",
    "                + matrix_dot(beta_v_emb, beta_density_emb - beta_act_density))\n"
   ],
   "outputs": [
    {
     "output_type": "stream",
     "name": "stderr",
     "text": [
      "Warning: <pyscf.gto.mole.Mole object at 0x7fac2a1fa8e0> must be initialized before calling SCF.\n",
      "Initialize <pyscf.gto.mole.Mole object at 0x7fac2a1fa8e0> in <pyscf.scf.rohf.ROHF object at 0x7fac2a1faa60>\n",
      "/home/miw/.local/lib/python3.8/site-packages/pyscf/gto/mole.py:1045: UserWarning: Function mol.dumps drops attribute _nelectron because it is not JSON-serializable\n",
      "  warnings.warn(msg)\n"
     ]
    }
   ],
   "metadata": {}
  },
  {
   "cell_type": "markdown",
   "source": [
    "# This is where we add all the parts up.\n",
    "\n",
    "e_act_emb : $\\epsilon[\\gamma^A_{emb}]$\n",
    ">energy of the embedded region\n",
    "\n",
    "e_env : $E[\\gamma^A]$ \n",
    ">energy of the environment\n",
    "\n",
    "two_e_cross : $g[\\gamma^A, \\gamma^B]$\n",
    ">non-additive two electron term\n",
    "\n",
    "embed.nre\n",
    ">The Coulomb energy from nuclear repulsion.\n",
    "\n",
    "correction : $tr[(\\gamma^A_{emb} - \\gamma^A)(h^{A in B} - h)]$ (or $tr[\\gamma^A(h^{A in B} - h)]$ )\n",
    "> Correction for embedding"
   ],
   "metadata": {}
  },
  {
   "cell_type": "code",
   "execution_count": null,
   "source": [
    "\n",
    "\n",
    "    e_mf_emb = e_act_emb + e_env + two_e_cross + embed.nre + correction\n",
    "\n",
    "    embed.print_scf(e_act, e_env, two_e_cross, e_act_emb, correction)\n"
   ],
   "outputs": [
    {
     "output_type": "execute_result",
     "data": {
      "text/plain": [
       "82.01074477789119"
      ]
     },
     "metadata": {},
     "execution_count": 18
    }
   ],
   "metadata": {}
  },
  {
   "cell_type": "markdown",
   "source": [],
   "metadata": {}
  },
  {
   "cell_type": "code",
   "execution_count": null,
   "source": [
    "from qiskit.aqua.algorithms import VQE, NumPyEigensolver\n",
    "import matplotlib.pyplot as plt\n",
    "import numpy as np\n",
    "from qiskit.chemistry.components.variational_forms import UCCSD\n",
    "from qiskit.chemistry.components.initial_states import HartreeFock\n",
    "from qiskit.circuit.library import EfficientSU2\n",
    "from qiskit.aqua.components.optimizers import COBYLA, SPSA, SLSQP\n",
    "from qiskit.aqua.operators import Z2Symmetries\n",
    "from qiskit import IBMQ, BasicAer, Aer\n",
    "from qiskit.chemistry.drivers import PySCFDriver, UnitsType\n",
    "from qiskit.chemistry import FermionicOperator\n",
    "from qiskit.aqua import QuantumInstance\n",
    "from qiskit.ignis.mitigation.measurement import CompleteMeasFitter\n",
    "from qiskit.providers.aer.noise import NoiseModel\n",
    "\n",
    "from embedding_methods import Embed\n",
    "\n",
    "from qiskit import Aer\n",
    "from qiskit.aqua import QuantumInstance, aqua_globals\n",
    "from qiskit.aqua.operators import OperatorBase\n",
    "from qiskit.algorithms import VQE, NumPyMinimumEigensolver\n",
    "from qiskit.algorithms.optimizers import SPSA\n",
    "from qiskit.circuit.library import TwoLocal\n",
    "from qiskit.aqua.operators import I, X, Z\n",
    "from qiskit_nature.circuit.library import UCCSD\n",
    "from qiskit_nature.converters.second_quantization import QubitConverter\n",
    "from qiskit_nature.mappers.second_quantization import JordanWignerMapper, ParityMapper\n",
    "from qiskit.chemistry import FermionicOperator\n",
    "from qiskit_nature.drivers import PySCFDriver\n",
    "from qiskit_nature.problems.second_quantization import ElectronicStructureProblem\n"
   ],
   "outputs": [
    {
     "output_type": "stream",
     "name": "stderr",
     "text": [
      "/home/miw/miniconda3/lib//python3.8/site-packages/qiskit/aqua/__init__.py:86: DeprecationWarning: The package qiskit.aqua is deprecated. It was moved/refactored to qiskit-terra For more information see <https://github.com/Qiskit/qiskit-aqua/blob/main/README.md#migration-guide>\n",
      "  warn_package('aqua', 'qiskit-terra')\n",
      "/home/miw/miniconda3/lib//python3.8/site-packages/qiskit/chemistry/__init__.py:170: DeprecationWarning: The package qiskit.chemistry is deprecated. It was moved/refactored to qiskit_nature (pip install qiskit-nature). For more information see <https://github.com/Qiskit/qiskit-aqua/blob/main/README.md#migration-guide>\n",
      "  warn_package('chemistry', 'qiskit_nature', 'qiskit-nature')\n"
     ]
    }
   ],
   "metadata": {}
  },
  {
   "cell_type": "code",
   "execution_count": null,
   "source": [
    "def get_qubit_op(dist):\n",
    "    driver = PySCFDriver(atom=options[\"geometry\"], \n",
    "        unit=UnitsType.ANGSTROM, \n",
    "        charge=0, \n",
    "        spin=0, \n",
    "        basis=options[\"basis\"],\n",
    "        )\n",
    "        \n",
    "    molecule = driver.run()\n",
    "    freeze_list = [0]\n",
    "    remove_list = [-3, -2]\n",
    "    repulsion_energy = molecule.nuclear_repulsion_energy\n",
    "    num_particles = molecule.num_alpha + molecule.num_beta\n",
    "    num_spin_orbitals = molecule.num_orbitals * 2\n",
    "    remove_list = [x % molecule.num_orbitals for x in remove_list]\n",
    "    freeze_list = [x % molecule.num_orbitals for x in freeze_list]\n",
    "    remove_list = [x - len(freeze_list) for x in remove_list]\n",
    "    remove_list += [x + molecule.num_orbitals - len(freeze_list)  for x in remove_list]\n",
    "    freeze_list += [x + molecule.num_orbitals for x in freeze_list]\n",
    "    ferOp = FermionicOperator(h1=molecule.one_body_integrals, h2=molecule.two_body_integrals)\n",
    "    ferOp, energy_shift = ferOp.fermion_mode_freezing(freeze_list)\n",
    "    num_spin_orbitals -= len(freeze_list)\n",
    "    num_particles -= len(freeze_list)\n",
    "    ferOp = ferOp.fermion_mode_elimination(remove_list)\n",
    "    num_spin_orbitals -= len(remove_list)\n",
    "    qubitOp = ferOp.mapping(map_type='parity', threshold=0.00000001)\n",
    "    qubitOp = Z2Symmetries.two_qubit_reduction(qubitOp, num_particles)\n",
    "    shift = energy_shift + repulsion_energy\n",
    "    return qubitOp, num_particles, num_spin_orbi"
   ],
   "outputs": [],
   "metadata": {}
  },
  {
   "cell_type": "code",
   "execution_count": null,
   "source": [
    "\n",
    "\n",
    "\n",
    "\n"
   ],
   "outputs": [],
   "metadata": {}
  }
 ]
}