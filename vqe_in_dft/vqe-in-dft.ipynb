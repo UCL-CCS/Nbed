{
 "cells": [
  {
   "cell_type": "markdown",
   "source": [
    "# VQE in DFT with PsiEmbed and Qiskit\n",
    "\n",
    "Here we define the inputs as required by PsiEmbed. Note that we'll follow the logic of `embedding_module/run_open_shell`."
   ],
   "metadata": {}
  },
  {
   "cell_type": "markdown",
   "source": [
    "We can think of this procedure are requiring three steps:\n",
    "\n",
    "1. Pre-embedding\n",
    "\n",
    "    Here we define the problem, and run a low-level calculation of the whole system. From this we obtain the pre-embedded density matrices $\\gamma^A$ and $\\gamma^B$\n",
    "\n",
    "    We then define the level-shift projector $P$ and embedding potential $V_{emb}$.\n",
    "\n",
    "2. Embedding\n",
    "\n",
    "    Using $V_{emb}$ we run a high-level method simulation of the active region to get the embedded density matrix $\\gamma^A_{emb}$.\n",
    "\n",
    "    We calculate the correction term $tr[V_{emb}(\\gamma^A_{emb}-\\gamma^A)]$\n",
    "\n",
    "3. Post-embedding\n",
    "\n",
    "    Finally we calculate the embedded energy, by removing $V_{emb}$ from the Hamiltonian, and using density matrix $\\gamma^A_{emb}$.\n",
    "\n",
    "    The total energy is then given by: $E = E[\\gamma^A_{emb}] + E[\\gamma^B] + g[\\gamma^A, \\gamma^B] + E_{nuclear} + tr[V_{emb}(\\gamma^A_{emb}-\\gamma^A)]$"
   ],
   "metadata": {}
  },
  {
   "cell_type": "markdown",
   "source": [
    "# 0. Set Parameters\n",
    "\n",
    "First we'll set the parameters "
   ],
   "metadata": {}
  },
  {
   "cell_type": "code",
   "execution_count": 1,
   "source": [
    "from copy import copy\n",
    "import numpy as np\n",
    "from scipy import linalg\n",
    "from typing import Dict\n",
    "\n",
    "ethane = \"\"\"\n",
    "C      0.7516     -0.0225     -0.0209\n",
    "C     -0.7516      0.0225      0.0209\n",
    "H      1.1851     -0.0039      0.9875\n",
    "H      1.1669      0.8330     -0.5693\n",
    "H      1.1155     -0.9329     -0.5145\n",
    "H     -1.1669     -0.8334      0.5687  \n",
    "H     -1.1157      0.9326      0.5151\n",
    "H     -1.1850      0.0044     -0.9875\n",
    "    \"\"\"\n",
    "\n",
    "ethylene = \"\"\"\n",
    "C    3.402   0.773  -9.252\n",
    "H    2.933  -0.150  -9.521\n",
    "H    2.837   1.682  -9.258\n",
    "C    4.697   0.791  -8.909\n",
    "H    5.262  -0.118  -8.904\n",
    "H    5.167   1.714  -8.641\n",
    "    \"\"\"\n",
    "\n",
    "methanol = \"\"\"\n",
    "O     -0.6582     -0.0067      0.1730 \n",
    "H     -1.1326     -0.0311     -0.6482\n",
    "C      0.7031      0.0083     -0.1305\n",
    "H      1.2001      0.0363      0.8431\n",
    "H      0.9877      0.8943     -0.7114\n",
    "H      1.0155     -0.8918     -0.6742\n",
    "  \"\"\"\n",
    "# H     -1.1326     -0.0311     -0.6482 <--- this goes with the oxygen\n",
    "\n",
    "\n",
    "formaldehyde = \"\"\"\n",
    "C      0.5979      0.0151      0.0688\n",
    "H      1.0686     -0.1411      1.0408\n",
    "H      1.2687      0.2002     -0.7717\n",
    "O     -0.5960     -0.0151     -0.0686\n",
    "  \"\"\"\n",
    "\n",
    "water = \"\"\"\n",
    "O          0.00000        0.000      0.115\n",
    "H          0.00000        0.754     -0.459\n",
    "H          0.00000       -0.754     -0.459\n",
    "    \"\"\"\n",
    "\n",
    "h_peroxide = \"\"\"\n",
    "O          0.00000        0.00000        0.00000\n",
    "O          1.00000        0.00000        0.00000\n",
    "H          0.00000        0.50000        0.00000\n",
    "H          1.00000       -0.50000        0.00000\n",
    "\"\"\"\n",
    "\n",
    "LiH = \"\"\"\n",
    "Li 0.0 0.0 0.0\n",
    "H  0.0 0.0 1.541\n",
    "\"\"\"\n",
    "\n",
    "Li2 = \"\"\"\n",
    "Li 0.0 0.0 0.0\n",
    "Li  0.0 0.0 2.627\n",
    "\"\"\"\n",
    "\n",
    "glycine = \"\"\"\n",
    "O     1.916  -0.760  -0.740 \n",
    "H    -1.736  -0.252  -0.592\n",
    "N    -1.476   0.232   0.252 \n",
    "C    -0.012   0.296   0.348 \n",
    "C     0.596  -0.652  -0.648 \n",
    "O    -0.124  -1.320  -1.368 \n",
    "H     0.292   0.020   1.364 \n",
    "H     0.320   1.320   0.132 \n",
    "H    -1.636  -0.236   1.132 \n",
    "H    -1.916   1.136   0.272\n",
    "  \"\"\"\n",
    "\n",
    "pyridine = \"\"\"\n",
    "  N      0.6816      1.1960      0.0000\n",
    "  C      1.3603      0.0256      0.0000\n",
    "  C      0.6971     -1.2020      0.0000\n",
    "  C     -0.6944     -1.2184      0.0000\n",
    "  C     -1.3895     -0.0129      0.0000\n",
    "  C     -0.6712      1.1834      0.0000\n",
    "  H      2.4530      0.1083      0.0000\n",
    "  H      1.2665     -2.1365      0.0000\n",
    "  H     -1.2365     -2.1696      0.0000\n",
    "  H     -2.4837      0.0011      0.0000\n",
    "  H     -1.1569      2.1657      0.0000\n",
    "\"\"\"\n",
    "\n",
    "options = {}\n",
    "options['geometry'] = water\n",
    "options['n_active_atoms'] = 1 # number of active atoms (first n atoms in the geometry string)\n",
    "\n",
    "run_fci = True\n",
    "run_vqe = False\n",
    "mos_to_use = 5\n",
    "\n",
    "options['basis'] = '6-31G*' # basis set \n",
    "options['low_level'] = 'LDA_C_VWN' # level of theory of the environment \n",
    "options['high_level'] = 'mp2' # level of theory of the embedded system\n",
    "options['low_level_reference'] = 'rhf'\n",
    "options['high_level_reference'] = 'rhf'\n",
    "options['package'] = 'pyscf'\n",
    "options['e_convergence'] = 1e-10\n",
    "\n",
    "def fill_defaults(keywords) -> Dict[str, str]:\n",
    "    \"Fills in the default keyword values\"\n",
    "    # Default keywords\n",
    "    default_keywords = {}\n",
    "    default_keywords[\"package\"] = \"pyscf\"\n",
    "    default_keywords[\"num_threads\"] = 1\n",
    "    default_keywords[\"memory\"] = 1000\n",
    "    default_keywords[\"charge\"] = 0\n",
    "    default_keywords[\"multiplicity\"] = 1\n",
    "    default_keywords[\"low_level_reference\"] = \"rhf\"\n",
    "    default_keywords[\"high_level_reference\"] = \"rhf\"\n",
    "    default_keywords[\"partition_method\"] = \"spade\"\n",
    "    default_keywords[\"e_convergence\"] = 1e-6\n",
    "    default_keywords[\"d_convergence\"] = 1e-6\n",
    "    default_keywords[\"eri\"] = \"df\"\n",
    "    default_keywords[\"ints_tolerance\"] = 1e-10\n",
    "    default_keywords[\"driver_output\"] = \"output.dat\"\n",
    "    default_keywords[\"embedding_output\"] = \"embedding.log\"\n",
    "    default_keywords[\"operator\"] = \"F\"\n",
    "    default_keywords[\"level_shift\"] = 1.0e6\n",
    "    default_keywords[\"low_level_damping_percentage\"] = 0\n",
    "    default_keywords[\"high_level_damping_percentage\"] = 0\n",
    "    default_keywords[\"low_level_soscf\"] = \"False\"\n",
    "    default_keywords[\"high_level_soscf\"] = \"False\"\n",
    "    default_keywords[\"molden\"] = False\n",
    "    default_keywords[\"print_level\"] = 1\n",
    "    default_keywords[\"cc_type\"] = \"df\"\n",
    "    default_keywords[\"save_embedding_potential\"] = False\n",
    "    default_keywords[\"save_embedded_h_core\"] = False\n",
    "    default_keywords[\"save_embedded_orbitals\"] = False\n",
    "    default_keywords[\"run_high_level\"] = True\n",
    "\n",
    "    # Checking if the necessary keywords have been defined\n",
    "    required = [\"low_level\", \"high_level\", \"basis\", \"n_active_atoms\"]\n",
    "    if not all([key in keywords for key in required]):\n",
    "        raise KeyError(\"You must include keys for each of:\\n%s\", required)\n",
    "    # assert 'low_level' in keywords, ('\\n Choose level of theory',\n",
    "    #                                 'for the environment')\n",
    "    # assert 'high_level' in keywords, ('\\n Choose level of theory',\n",
    "    #                                 'for the active region')\n",
    "    # assert 'basis' in keywords, '\\n Choose a basis set'\n",
    "    # assert 'n_active_atoms' in keywords, ('\\n Provide the number of active',\n",
    "    #     'atoms, which the first atoms in your coordinates string')\n",
    "\n",
    "    for key in default_keywords.keys():\n",
    "        if key not in keywords:\n",
    "            keywords[key] = default_keywords[key]\n",
    "\n",
    "    if \"n_cl_shell\" in keywords and \"virtual_projection_basis\" not in keywords:\n",
    "        keywords[\"virtual_projection_basis\"] = keywords[\"basis\"]\n",
    "\n",
    "    return keywords\n",
    "\n",
    "keywords = fill_defaults(options)\n",
    "\n",
    "#run_closed_shell(keywords)"
   ],
   "outputs": [],
   "metadata": {}
  },
  {
   "cell_type": "markdown",
   "source": [
    "# 1. Low-level whole system calculation\n",
    "\n",
    "The first step is to run a mean field caluclation of the whole system.    \n",
    "\n",
    "We also run a high-precision method, Full Configuration Interaction or Coupled Cluster Single Double to determine a reference value."
   ],
   "metadata": {}
  },
  {
   "cell_type": "code",
   "execution_count": 2,
   "source": [
    "from pyscf import gto, scf, cc, ao2mo, fci\n",
    "\n",
    "mol = gto.Mole(atom=keywords['geometry'], basis=keywords['basis'], charge=0).build()\n",
    "\n",
    "ks = scf.RKS(mol)\n",
    "ks.conv_tol = keywords[\"e_convergence\"]\n",
    "ks.xc = keywords[\"low_level\"]\n",
    "e_initial = ks.kernel()\n",
    "\n",
    "# Store the initial value of h core as this is needed later,\n",
    "# but is overwritten\n",
    "\n",
    "initial_h_core = ks.get_hcore()\n",
    "\n",
    "# Calulate a reference value\n",
    "mol_copy = copy(mol)\n",
    "hf = mol_copy.RHF().run()\n",
    "if run_fci:\n",
    "    ref_fci = fci.FCI(hf)\n",
    "    ref_fci.conv_tol = keywords[\"e_convergence\"]\n",
    "    fci_result = ref_fci.kernel()\n",
    "\n",
    "    # This DOES have nuclear energy included!\n",
    "    expected_energy = fci_result[0]\n",
    "\n",
    "else:\n",
    "    ref_cc = cc.CCSD(hf)\n",
    "    ref_cc.conv_tol = keywords[\"e_convergence\"]\n",
    "    cc_result = ref_cc.kernel()\n",
    "\n",
    "    expected_energy = hf.energy_tot() + cc_result[0]\n",
    "\n",
    "print(f\"{e_initial=}, {expected_energy=}\")"
   ],
   "outputs": [
    {
     "output_type": "stream",
     "name": "stderr",
     "text": [
      "/home/mwilliams/anaconda3/envs/mres/lib/python3.8/site-packages/pyscf/lib/misc.py:46: H5pyDeprecationWarning: Using default_file_mode other than 'r' is deprecated. Pass the mode to h5py.File() instead.\n",
      "  h5py.get_config().default_file_mode = 'a'\n"
     ]
    },
    {
     "output_type": "stream",
     "name": "stdout",
     "text": [
      "converged SCF energy = -67.9421712241594\n",
      "converged SCF energy = -76.0093407104217\n",
      "e_initial=-67.94217122415942, expected_energy=-76.20604190390426\n"
     ]
    }
   ],
   "metadata": {}
  },
  {
   "cell_type": "markdown",
   "source": [
    "# 2. Orbital Localisation\n",
    "Find the orbitals of the active space and environment, using SPADE."
   ],
   "metadata": {}
  },
  {
   "cell_type": "code",
   "execution_count": 3,
   "source": [
    "n_occupied_mos = np.count_nonzero(ks.mo_occ == 2)\n",
    "occupied_orbitals = ks.mo_coeff[:, :n_occupied_mos]\n",
    "n_act_aos = mol.aoslice_by_atom()[keywords['n_active_atoms']-1][-1]\n",
    "\n",
    "# Rotate orbitals so that they're orthogonal\n",
    "ao_overlap = ks.get_ovlp()\n",
    "rotated_orbitals = linalg.fractional_matrix_power(ao_overlap, 0.5) @ occupied_orbitals\n",
    "_, sigma, right_vectors = linalg.svd(rotated_orbitals[:n_act_aos, :])\n",
    "\n",
    "#n_act_mos, n_env_mos = embed.orbital_partition(sigma)\n",
    "value_diffs = sigma[:-1]-sigma[1:]\n",
    "n_act_mos = np.argmax(value_diffs) + 1\n",
    "n_env_mos = n_occupied_mos - n_act_mos\n",
    "\n",
    "# Defining active and environment orbitals and \n",
    "act_orbitals = occupied_orbitals @ right_vectors.T[:, :n_act_mos]\n",
    "env_orbitals = occupied_orbitals @ right_vectors.T[:, n_act_mos:n_act_mos+n_env_mos]\n",
    "act_density = 2.0 * act_orbitals @ act_orbitals.T\n",
    "env_density = 2.0 * env_orbitals @ env_orbitals.T\n",
    "\n",
    "print(f\"{n_act_mos=}, {n_env_mos=}\")"
   ],
   "outputs": [
    {
     "output_type": "stream",
     "name": "stdout",
     "text": [
      "n_act_mos=3, n_env_mos=2\n"
     ]
    }
   ],
   "metadata": {}
  },
  {
   "cell_type": "markdown",
   "source": [
    "# 3. Calculate the cross subsytem terms"
   ],
   "metadata": {}
  },
  {
   "cell_type": "code",
   "execution_count": 4,
   "source": [
    "# Retrieving the subsytem energy terms and potential matrices\n",
    "\n",
    "# The function called looks like this\n",
    "def closed_shell_subsystem(scf, density):\n",
    "        #It seems that PySCF lumps J and K in the J array \n",
    "        j = ks.get_j(dm = density)\n",
    "        k = np.zeros(np.shape(j))\n",
    "        two_e_term =  ks.get_veff(ks.mol, density)\n",
    "        e_xc = two_e_term.exc\n",
    "        v_xc = two_e_term - j\n",
    "\n",
    "        # Energy\n",
    "        e = np.einsum(\"ij,ij\", density, ks.get_hcore() + j/2) + e_xc\n",
    "        return e, e_xc, j, k, v_xc\n",
    "\n",
    "e_act, e_xc_act, j_act, k_act, v_xc_act = (\n",
    "    closed_shell_subsystem(scf, act_density))\n",
    "e_env, e_xc_env, j_env, k_env, v_xc_env = (\n",
    "    closed_shell_subsystem(scf, env_density))\n",
    "\n",
    "# Computing cross subsystem terms\n",
    "# Note that the matrix dot product is equivalent to the trace.\n",
    "j_cross = 0.5 * (np.einsum(\"ij,ij\",act_density, j_env)\n",
    "        + np.einsum(\"ij,ij\", env_density, j_act))\n",
    "\n",
    "k_cross = 0.0\n",
    "\n",
    "xc_cross = ks.get_veff().exc - e_xc_act - e_xc_env\n",
    "two_e_cross = j_cross + k_cross + xc_cross\n",
    "print(f\"{e_act=}, {e_env=}, {two_e_cross=}\")"
   ],
   "outputs": [
    {
     "output_type": "stream",
     "name": "stdout",
     "text": [
      "e_act=-71.01772893332836, e_env=-21.7637520735885, two_e_cross=15.553595561079673\n"
     ]
    }
   ],
   "metadata": {}
  },
  {
   "cell_type": "markdown",
   "source": [
    "# 4. Define $V_{emb}$\n",
    "\n",
    "We can now define the projector used to orthogonalise the Molecular and Atomic orbitals. From this we calculate the embedding potential.\n",
    "\n",
    "$P_{\\alpha, \\beta} = S\\gamma^BS$\n",
    "\n",
    "From this we can now also define the embedding potential.\n",
    "\n",
    "$V_{emb} = g[\\gamma^A, \\gamma^B] - g[\\gamma^A] + \\mu P$"
   ],
   "metadata": {}
  },
  {
   "cell_type": "code",
   "execution_count": 5,
   "source": [
    "# Define the mu-projector\n",
    "projector = keywords['level_shift'] * (ks.get_ovlp() @ env_density\n",
    "    @ ks.get_ovlp())\n",
    "\n",
    "v_xc_total = ks.get_veff() - ks.get_j()\n",
    "\n",
    "# Defining the embedded core Hamiltonian\n",
    "v_emb = (j_env + v_xc_total - v_xc_act + projector)\n",
    "\n",
    "print(f\"{keywords['level_shift']=}\")"
   ],
   "outputs": [
    {
     "output_type": "stream",
     "name": "stdout",
     "text": [
      "keywords['level_shift']=1000000.0\n"
     ]
    }
   ],
   "metadata": {}
  },
  {
   "cell_type": "markdown",
   "source": [
    "# 5A Run HF of full system with $V_{emb}$ to get $\\gamma^A_{emb}$\n",
    "\n",
    "Here, PsiEmbed gives us the option to stop, outputting values for calculation by other means.\n",
    "\n",
    "To continue, we run the mean field method, but with the embedding potentials as calulated."
   ],
   "metadata": {}
  },
  {
   "cell_type": "code",
   "execution_count": 6,
   "source": [
    "embedded_scf = scf.RHF(mol_copy)\n",
    "embedded_scf.conv_tol = keywords[\"e_convergence\"]\n",
    "embedded_scf.mol.nelectron = 2*n_act_mos\n",
    "\n",
    "h_core = ks.get_hcore()\n",
    "\n",
    "embedded_scf.get_hcore = lambda *args, **kwargs: h_core + v_emb\n",
    "\n",
    "embedded_scf.kernel()\n",
    "\n",
    "embedded_occ_orbs = embedded_scf.mo_coeff[:, embedded_scf.mo_occ>0]\n",
    "embedded_density = 2*embedded_occ_orbs @ embedded_occ_orbs.T\n",
    "\n",
    "e_emb = embedded_scf.energy_elec(dm=embedded_density, vhf=embedded_scf.get_veff())[0]\n",
    "\n",
    "print(f\"{e_emb=}\")"
   ],
   "outputs": [
    {
     "output_type": "stream",
     "name": "stderr",
     "text": [
      "Overwritten attributes  get_hcore  of <class 'pyscf.scf.hf.RHF'>\n",
      "/home/mwilliams/anaconda3/envs/mres/lib/python3.8/site-packages/pyscf/gto/mole.py:1089: UserWarning: Function mol.dumps drops attribute _nelectron because it is not JSON-serializable\n",
      "  warnings.warn(msg)\n"
     ]
    },
    {
     "output_type": "stream",
     "name": "stdout",
     "text": [
      "converged SCF energy = -52.4049919003539\n",
      "e_emb=-61.690706122031756\n"
     ]
    }
   ],
   "metadata": {}
  },
  {
   "cell_type": "markdown",
   "source": [
    "# 6 Calculate correction term"
   ],
   "metadata": {}
  },
  {
   "cell_type": "code",
   "execution_count": 7,
   "source": [
    "# Compute the correction\n",
    "# - There are two versions used for different embeddings\n",
    "dm_correction = np.einsum(\"ij,ij\", v_emb, embedded_density-act_density)\n",
    "wf_correction = np.einsum(\"ij,ij\", act_density, v_emb)\n",
    "\n",
    "print(f\"{wf_correction=}, {dm_correction=}\")"
   ],
   "outputs": [
    {
     "output_type": "stream",
     "name": "stdout",
     "text": [
      "wf_correction=15.566037482763932, dm_correction=0.45640623149108706\n"
     ]
    }
   ],
   "metadata": {}
  },
  {
   "cell_type": "markdown",
   "source": [
    "# 7 Calculate $E[\\gamma^A_{emb}]$\n",
    "\n",
    "## Classical Method - CCSD"
   ],
   "metadata": {}
  },
  {
   "cell_type": "code",
   "execution_count": 8,
   "source": [
    "from scipy.linalg import LinAlgError\n",
    "\n",
    "# Can use either of these methods \n",
    "# This needs to change if we're not using PySCFEmbed\n",
    "# The j and k matrices are defined differently in PySCF and Psi4\n",
    "\n",
    "embedded_scf.get_hcore = lambda *args, **kwargs: h_core + v_emb\n",
    "\n",
    "e_wf_act = embedded_scf.energy_elec(dm=embedded_density, vhf=embedded_scf.get_veff())[0]\n",
    "e_act_emb_explicit = np.einsum(\"ij,ij\", embedded_density,  initial_h_core + 0.5 * embedded_scf.get_j() - 0.25 * embedded_scf.get_k())\n",
    "\n",
    "print(f\"E_HF = {e_wf_act}\")\n",
    "print(f\"Difference between HF methods: {e_wf_act - e_act_emb_explicit}\")\n",
    "print(f\"Difference between HF methods + corrections: {(e_wf_act - wf_correction) - (e_act_emb_explicit + dm_correction)}\")\n",
    "\n",
    "try:\n",
    "    # Run CCSD as WF method\n",
    "    ccsd = cc.CCSD(embedded_scf)\n",
    "    ccsd.conv_tol = keywords[\"e_convergence\"]\n",
    "\n",
    "    # Set which orbitals are to be frozen\n",
    "    # The environment orbitals energies have been increased by the projector\n",
    "    # so they are now at the end of the list, as orbitals are ordered by energy\n",
    "    shift = mol.nao - n_env_mos\n",
    "    fos = [i for i in range(shift, mol.nao)]\n",
    "    ccsd.frozen = fos\n",
    "    ccsd.run()\n",
    "    correlation = ccsd.e_corr\n",
    "    e_wf_act += correlation\n",
    "    \n",
    "except LinAlgError as e:\n",
    "    print(e)\n",
    "    print(\"Use the HF energy\")\n",
    "    pass\n",
    "\n",
    "f\"{e_wf_act=}\""
   ],
   "outputs": [
    {
     "output_type": "stream",
     "name": "stdout",
     "text": [
      "E_HF = -61.690706122031756\n",
      "Difference between HF methods: 16.02244371436322\n",
      "Difference between HF methods + corrections: 1.0820144780154806e-10\n",
      "E(CCSD) = -52.46965814865251  E_corr = -0.06466624829857492\n"
     ]
    },
    {
     "output_type": "execute_result",
     "data": {
      "text/plain": [
       "'e_wf_act=-61.75537237033033'"
      ]
     },
     "metadata": {},
     "execution_count": 8
    }
   ],
   "metadata": {}
  },
  {
   "cell_type": "markdown",
   "source": [
    "## Quantum Method - VQE\n",
    "\n",
    "### Set active space\n",
    "\n",
    "Before setting up the VQE we'll get the active and occupied indices - this will be how we reduce the number of qubits needed.\n",
    "\n",
    "Active indices include: Occupied MOs assigned to the active region + All unoccupied MOs"
   ],
   "metadata": {}
  },
  {
   "cell_type": "code",
   "execution_count": 9,
   "source": [
    "from openfermion.ops.representations import InteractionOperator, get_active_space_integrals\n",
    "from openfermion.linalg import eigenspectrum, expectation\n",
    "from openfermion.transforms import jordan_wigner\n",
    "\n",
    "occupied_indices = embedded_scf.mo_occ == 2\n",
    "occupied_indices = [i for i, val in enumerate(occupied_indices) if val]\n",
    "\n",
    "# Try using only active MOs\n",
    "active_indices = [i for i in range(len(embedded_scf.mo_occ)-n_env_mos)]\n",
    "\n",
    "active_indices = active_indices[:mos_to_use]\n",
    "    \n",
    "\n",
    "print(f\"{len(embedded_scf.mo_occ)}, {embedded_scf.mo_energy}\")\n",
    "print(f\"{active_indices=} \\n {occupied_indices=}\")\n"
   ],
   "outputs": [
    {
     "output_type": "stream",
     "name": "stdout",
     "text": [
      "18, [-2.07085779e+01 -7.94000130e-01 -5.16269693e-01  2.74782734e-01\n",
      "  3.70512066e-01  1.10131370e+00  1.10929588e+00  1.16002801e+00\n",
      "  1.25062362e+00  1.42353537e+00  1.67132047e+00  2.03373455e+00\n",
      "  2.04062244e+00  2.04687137e+00  2.62296685e+00  2.96074742e+00\n",
      "  1.99999961e+06  1.99999995e+06]\n",
      "active_indices=[0, 1, 2, 3, 4] \n",
      " occupied_indices=[0, 1, 2]\n"
     ]
    }
   ],
   "metadata": {}
  },
  {
   "cell_type": "markdown",
   "source": [
    "### Get Qubit Hamiltonian\n",
    "Now we'll calculate the one and two body integrals to create a fermionic Hamiltonian.\n",
    "\n",
    "We then cut out the contribution from the environment orbitals. (Note the reduction in the shape of the integrals!)"
   ],
   "metadata": {}
  },
  {
   "cell_type": "code",
   "execution_count": 10,
   "source": [
    "from functools import reduce\n",
    "from pyscf import ao2mo\n",
    "\n",
    "temp_scf = embedded_scf\n",
    "temp_mol = mol\n",
    "\n",
    "# We only want the terms related to the active space\n",
    "coeff = temp_scf.mo_coeff[:, active_indices]\n",
    "\n",
    "n_orbs = len(active_indices)\n",
    "\n",
    "# hamiltonian here includes Vemb\n",
    "one_body_integrals = coeff.T @ temp_scf.get_hcore() @ coeff\n",
    "\n",
    "temp_mol.incore_anyway == True\n",
    "\n",
    "# Get two electron integrals in compressed format.\n",
    "two_body_compressed = ao2mo.kernel(temp_mol, coeff)\n",
    "\n",
    "two_body_integrals = ao2mo.restore(1, two_body_compressed, n_orbs)\n",
    "\n",
    "# Openfermion uses pysicist notation whereas pyscf uses chemists\n",
    "two_body_integrals = np.asarray(two_body_integrals.transpose(0, 2, 3, 1), order='C')\n",
    "\n",
    "print(f\"{one_body_integrals.shape=}, {two_body_integrals.shape=}\")\n"
   ],
   "outputs": [
    {
     "output_type": "stream",
     "name": "stdout",
     "text": [
      "one_body_integrals.shape=(5, 5), two_body_integrals.shape=(5, 5, 5, 5)\n"
     ]
    }
   ],
   "metadata": {}
  },
  {
   "cell_type": "markdown",
   "source": [
    "We have to transform this to spin-orbital coefficients to make a qubit operator in terms of the Pauli basis.\n",
    "\n",
    "Then we can find the ground state either by diagonalising the Hamiltonian directly, or by running the VQE algorithm."
   ],
   "metadata": {}
  },
  {
   "cell_type": "code",
   "execution_count": 11,
   "source": [
    "from openfermion.chem.molecular_data import spinorb_from_spatial\n",
    "from openfermion.ops.representations import get_active_space_integrals\n",
    "\n",
    "one_body_coefficients, two_body_coefficients = spinorb_from_spatial(one_body_integrals, two_body_integrals)\n",
    "\n",
    "molecular_hamiltonian = InteractionOperator(0,\n",
    "                                            one_body_coefficients,\n",
    "                                            0.5 * two_body_coefficients,)\n",
    "\n",
    "Qubit_Hamiltonian = jordan_wigner(molecular_hamiltonian)\n",
    "\n",
    "e_vqe_act = eigenspectrum(molecular_hamiltonian)[0]\n",
    "print(f\"{e_vqe_act=}\")"
   ],
   "outputs": [
    {
     "output_type": "stream",
     "name": "stdout",
     "text": [
      "e_vqe_act=-61.69158831931323\n"
     ]
    }
   ],
   "metadata": {}
  },
  {
   "cell_type": "markdown",
   "source": [
    "### Add up parts without running VQE\n",
    "\n",
    "e_act_emb : $\\epsilon[\\gamma^A_{emb}]$\n",
    ">energy of the embedded region\n",
    "\n",
    "e_env : $E[\\gamma^B]$ \n",
    ">energy of the environment\n",
    "\n",
    "two_e_cross : $g[\\gamma^A, \\gamma^B]$\n",
    ">non-additive two electron term\n",
    "\n",
    "embed.nre\n",
    ">The Coulomb energy from nuclear repulsion.\n",
    "\n",
    "correction : $tr[(\\gamma^A_{emb} - \\gamma^A)(h^{A in B} - h)]$ (or $tr[\\gamma^A(h^{A in B} - h)]$ )\n",
    "> Correction for embedding"
   ],
   "metadata": {}
  },
  {
   "cell_type": "code",
   "execution_count": 12,
   "source": [
    "e_nuc = mol.energy_nuc()\n",
    "\n",
    "e_vqe_emb = e_vqe_act + e_env + two_e_cross + e_nuc - wf_correction \n",
    "e_wf_emb = e_wf_act + e_env + two_e_cross + e_nuc - wf_correction \n",
    "print(\"Component contributions\")\n",
    "print(f\"{e_vqe_act=}, {e_wf_act=}\")\n",
    "print(f\"{e_env=}, {two_e_cross=}, {wf_correction=}, {dm_correction=}, {e_nuc=}\")\n",
    "print(f\"{occupied_indices=}, {active_indices=}, Total Usable MOs={len(ks.mo_occ)-n_env_mos}\\n\")\n",
    "# Print out the final value.\n",
    "print(f\"FCI Energy:\\t\\t{expected_energy:.4f}\")\n",
    "print(f\"DFT Energy:\\t\\t{e_initial:.4f}\")\n",
    "print(f\"Error:\\t\\t\\t{(expected_energy-e_initial)*100/expected_energy:.2f}%\")\n",
    "print(f\"WF Embedding Energy:\\t{e_wf_emb:.4f}\")\n",
    "print(f\"Error:\\t\\t\\t{(expected_energy-e_wf_emb)*100/expected_energy:.2f}%\")\n",
    "print(f\"VQE Embedding Energy:\\t{e_vqe_emb:.4f}\")\n",
    "print(f\"Error:\\t\\t\\t{(expected_energy-e_vqe_emb)*100/expected_energy:.2f}%\")"
   ],
   "outputs": [
    {
     "output_type": "stream",
     "name": "stdout",
     "text": [
      "Component contributions\n",
      "e_vqe_act=-61.69158831931323, e_wf_act=-61.75537237033033\n",
      "e_env=-21.7637520735885, two_e_cross=15.553595561079673, wf_correction=15.566037482763932, dm_correction=0.45640623149108706, e_nuc=9.285714221677825\n",
      "occupied_indices=[0, 1, 2], active_indices=[0, 1, 2, 3, 4], Total Usable MOs=16\n",
      "\n",
      "FCI Energy:\t\t-76.2060\n",
      "DFT Energy:\t\t-67.9422\n",
      "Error:\t\t\t10.84%\n",
      "WF Embedding Energy:\t-74.2459\n",
      "Error:\t\t\t2.57%\n",
      "VQE Embedding Energy:\t-74.1821\n",
      "Error:\t\t\t2.66%\n"
     ]
    }
   ],
   "metadata": {}
  },
  {
   "cell_type": "markdown",
   "source": [
    "### Pennylane VQE\n",
    "\n",
    "Taking the qubit operator we defined with open fermion, we can perform VQE using the CCSD ansatz."
   ],
   "metadata": {}
  },
  {
   "cell_type": "code",
   "execution_count": 13,
   "source": [
    "import qiskit\n",
    "import pennylane as qml\n",
    "from pennylane import qchem\n",
    "from pennylane.templates import UCCSD, ParticleConservingU2\n",
    "from functools import partial\n",
    "\n",
    "h = qchem.convert_observable(Qubit_Hamiltonian)\n",
    "\n",
    "qubits = len(h.wires)\n",
    "print(f\"{qubits=}\")\n",
    "\n",
    "electrons = n_act_mos*2\n",
    "\n",
    "ref_state = qchem.hf_state(electrons, qubits)\n",
    "\n",
    "# Generate single and double excitations\n",
    "singles, doubles = qchem.excitations(electrons, qubits)\n",
    "\n",
    "# Map excitations to the wires the UCCSD circuit will act on\n",
    "s_wires, d_wires = qchem.excitations_to_wires(singles, doubles)\n",
    "\n",
    "# Define the device\n",
    "#dev = qml.device('default.qubit', wires=qubits)\n",
    "dev = qml.device('default.qubit', wires=qubits)\n",
    "\n",
    "\n",
    "# Define the UCCSD ansatz\n",
    "#ansatz = partial(UCCSD, init_state=ref_state, s_wires=s_wires, d_wires=d_wires)\n",
    "ansatz = partial(ParticleConservingU2, init_state=ref_state)\n",
    "\n",
    "# Define the cost function\n",
    "cost_fn = qml.ExpvalCost(ansatz, h, dev)\n",
    "\n",
    "opt = qml.GradientDescentOptimizer(stepsize=1)\n",
    "\n",
    "# Compute the expectation value of 'h' for given set of parameters 'params'\n",
    "layers = 1\n"
   ],
   "outputs": [
    {
     "output_type": "stream",
     "name": "stdout",
     "text": [
      "qubits=10\n"
     ]
    }
   ],
   "metadata": {}
  },
  {
   "cell_type": "code",
   "execution_count": 14,
   "source": [
    "#UCCSD Params\n",
    "#params = np.random.normal(0, np.pi, len(singles) + len(doubles))\n",
    "\n",
    "params = qml.init.particle_conserving_u2_normal(layers, qubits)\n",
    "explicit_e_vqe_act = None\n",
    "\n",
    "if run_vqe:\n",
    "    max_iterations = 100\n",
    "    conv_tol = keywords[\"e_convergence\"]\n",
    "    energy = [cost_fn(params)]\n",
    "    param_vals = [params]\n",
    "\n",
    "    print(\"Beginning Iterations\")\n",
    "    print(f\"Step = 0,  Energy = {energy[-1]:.8f} Ha\")\n",
    "    for n in range(max_iterations):\n",
    "        params, prev_energy = opt.step_and_cost(cost_fn, params)\n",
    "\n",
    "        energy.append(cost_fn(params))\n",
    "        param_vals.append(params)\n",
    "\n",
    "        conv = np.abs(energy[-1] - prev_energy)\n",
    "\n",
    "        # if n % 2 == 0:\n",
    "        print(f\"Step = {n+1},  Energy = {energy[-1]:.8f} Ha\")\n",
    "\n",
    "        if conv <= conv_tol and conv != 0:\n",
    "            break\n",
    "\n",
    "    explicit_e_vqe_act = energy[-1]\n",
    "\n",
    "    print(\"\\n\" f\"Final value of the ground-state energy = {explicit_e_vqe_act:.8f} Ha\")\n",
    "    print(\"\\n\" f\"Optimal value of the circuit parameter = {param_vals[-1]}\")"
   ],
   "outputs": [],
   "metadata": {}
  },
  {
   "cell_type": "markdown",
   "source": [
    "# 8. Add all the parts up with VQE\n",
    "\n",
    "e_act_emb : $\\epsilon[\\gamma^A_{emb}]$\n",
    ">energy of the embedded region\n",
    "\n",
    "e_env : $E[\\gamma^B]$ \n",
    ">energy of the environment\n",
    "\n",
    "two_e_cross : $g[\\gamma^A, \\gamma^B]$\n",
    ">non-additive two electron term\n",
    "\n",
    "embed.nre\n",
    ">The Coulomb energy from nuclear repulsion.\n",
    "\n",
    "correction : $tr[(\\gamma^A_{emb} - \\gamma^A)(h^{A in B} - h)]$ (or $tr[\\gamma^A(h^{A in B} - h)]$ )\n",
    "> Correction for embedding"
   ],
   "metadata": {}
  },
  {
   "cell_type": "code",
   "execution_count": 15,
   "source": [
    "e_nuc = mol.energy_nuc()\n",
    "\n",
    "e_vqe_emb = e_vqe_act + e_env + two_e_cross + e_nuc - wf_correction \n",
    "e_wf_emb = e_wf_act + e_env + two_e_cross + e_nuc - wf_correction \n",
    "print(\"Component contributions\")\n",
    "print(f\"{e_vqe_act=}, {e_wf_act=}\")\n",
    "print(f\"{e_env=}, {two_e_cross=}, {wf_correction=}, {dm_correction=}, {e_nuc=}\\n\")\n",
    "# Print out the final value.\n",
    "print(f\"FCI Energy:\\t\\t\\t{expected_energy:.4f}\")\n",
    "\n",
    "print(f\"Used MOs={len(active_indices)}\")\n",
    "print(f\"Act MOs={n_act_mos}\")\n",
    "print(f\"Env MOs={n_env_mos}\")\n",
    "print(f\"Total MOs={len(ks.mo_occ)}\\n\")\n",
    "\n",
    "print(f\"DFT Energy:\\t\\t\\t{e_initial:.4f}\")\n",
    "print(f\"Error:\\t\\t\\t\\t{(expected_energy-e_initial)*100/expected_energy:.2f}%\\n\")\n",
    "\n",
    "print(f\"WF Embedding Energy:\\t\\t{e_wf_emb:.4f}\")\n",
    "print(f\"Error:\\t\\t\\t\\t{(expected_energy-e_wf_emb)*100/expected_energy:.2f}%\\n\")\n",
    "\n",
    "print(f\"VQE Embedding Energy:\\t\\t{e_vqe_emb:.4f}\")\n",
    "print(f\"Error:\\t\\t\\t\\t{(expected_energy-e_vqe_emb)*100/expected_energy:.2f}%\\n\")\n",
    "\n",
    "if explicit_e_vqe_act:\n",
    "    explicit_e_vqe_emb = explicit_e_vqe_act + e_env + two_e_cross + e_nuc - wf_correction \n",
    "    print(f\"Explicit VQE Embedding Energy:\\t{explicit_e_vqe_emb:.4f}\")\n",
    "    print(f\"Error:\\t\\t\\t\\t{(expected_energy-explicit_e_vqe_emb)*100/expected_energy:.2f}%\")\n"
   ],
   "outputs": [
    {
     "output_type": "stream",
     "name": "stdout",
     "text": [
      "Component contributions\n",
      "e_vqe_act=-61.69158831931323, e_wf_act=-61.75537237033033\n",
      "e_env=-21.7637520735885, two_e_cross=15.553595561079673, wf_correction=15.566037482763932, dm_correction=0.45640623149108706, e_nuc=9.285714221677825\n",
      "\n",
      "FCI Energy:\t\t\t-76.2060\n",
      "Used MOs=5\n",
      "Act MOs=3\n",
      "Env MOs=2\n",
      "Total MOs=18\n",
      "\n",
      "DFT Energy:\t\t\t-67.9422\n",
      "Error:\t\t\t\t10.84%\n",
      "\n",
      "WF Embedding Energy:\t\t-74.2459\n",
      "Error:\t\t\t\t2.57%\n",
      "\n",
      "VQE Embedding Energy:\t\t-74.1821\n",
      "Error:\t\t\t\t2.66%\n",
      "\n"
     ]
    }
   ],
   "metadata": {}
  }
 ],
 "metadata": {
  "interpreter": {
   "hash": "b2663bb9b5ecd1f9bf47da0bf7d7eb3546bafedcdfede57739a574cc1b52de28"
  },
  "kernelspec": {
   "name": "python3",
   "display_name": "Python 3.8.11 64-bit ('mres': conda)"
  },
  "language_info": {
   "codemirror_mode": {
    "name": "ipython",
    "version": 3
   },
   "file_extension": ".py",
   "mimetype": "text/x-python",
   "name": "python",
   "nbconvert_exporter": "python",
   "pygments_lexer": "ipython3",
   "version": "3.8.11"
  }
 },
 "nbformat": 4,
 "nbformat_minor": 4
}