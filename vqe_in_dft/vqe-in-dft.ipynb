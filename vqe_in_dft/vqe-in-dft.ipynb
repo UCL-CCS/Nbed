{
 "metadata": {
  "orig_nbformat": 4,
  "kernelspec": {
   "name": "python3",
   "display_name": "Python 3.8.11 64-bit ('mres': conda)"
  },
  "interpreter": {
   "hash": "b2663bb9b5ecd1f9bf47da0bf7d7eb3546bafedcdfede57739a574cc1b52de28"
  },
  "language_info": {
   "name": "python",
   "version": "3.8.11",
   "mimetype": "text/x-python",
   "codemirror_mode": {
    "name": "ipython",
    "version": 3
   },
   "pygments_lexer": "ipython3",
   "nbconvert_exporter": "python",
   "file_extension": ".py"
  }
 },
 "nbformat": 4,
 "nbformat_minor": 2,
 "cells": [
  {
   "cell_type": "markdown",
   "source": [
    "# VQE in DFT with PsiEmbed and Qiskit\n",
    "\n",
    "Here we define the inputs as required by PsiEmbed. Note that we'll follow the logic of `embedding_module/run_open_shell`."
   ],
   "metadata": {}
  },
  {
   "cell_type": "markdown",
   "source": [
    "We can think of this procedure are requiring three steps:\n",
    "\n",
    "1. Pre-embedding\n",
    "\n",
    "    Here we define the problem, and run a low-level calculation of the whole system. From this we obtain the pre-embedded density matrices $\\gamma^A$ and $\\gamma^B$\n",
    "\n",
    "    We then define the level-shift projector $P$ and embedding potential $V_{emb}$.\n",
    "\n",
    "2. Embedding\n",
    "\n",
    "    Using $V_{emb}$ we run a high-level method simulation of the active region to get the embedded density matrix $\\gamma^A_{emb}$.\n",
    "\n",
    "    We calculate the correction term $tr[V_{emb}(\\gamma^A_{emb}-\\gamma^A)]$\n",
    "\n",
    "3. Post-embedding\n",
    "\n",
    "    Finally we calculate the embedded energy, by removing $V_{emb}$ from the Hamiltonian, and using density matrix $\\gamma^A_{emb}$.\n",
    "\n",
    "    The total energy is then given by: $E = E[\\gamma^A_{emb}] + E[\\gamma^B] + g[\\gamma^A, \\gamma^B] + E_{nuclear} + tr[V_{emb}(\\gamma^A_{emb}-\\gamma^A)]$"
   ],
   "metadata": {}
  },
  {
   "cell_type": "markdown",
   "source": [
    "# 0. Set Parameters\n",
    "\n",
    "First we'll set the parameters "
   ],
   "metadata": {}
  },
  {
   "cell_type": "code",
   "execution_count": 2,
   "source": [
    "from copy import copy\n",
    "from typing import Dict\n",
    "from spade import fill_defaults\n",
    "import numpy as np\n",
    "from scipy import linalg\n",
    "from spade.main import driver\n",
    "from spade.embedding_module import run_closed_shell\n",
    "\n",
    "ethane = \"\"\"\n",
    "C      0.7516     -0.0225     -0.0209\n",
    "C     -0.7516      0.0225      0.0209\n",
    "H      1.1851     -0.0039      0.9875\n",
    "H      1.1669      0.8330     -0.5693\n",
    "H      1.1155     -0.9329     -0.5145\n",
    "H     -1.1669     -0.8334      0.5687  \n",
    "H     -1.1157      0.9326      0.5151\n",
    "H     -1.1850      0.0044     -0.9875\n",
    "    \"\"\"\n",
    "\n",
    "ethylene = \"\"\"\n",
    "H    2.933  -0.150  -9.521\n",
    "H    2.837   1.682  -9.258\n",
    "C    3.402   0.773  -9.252\n",
    "C    4.697   0.791  -8.909\n",
    "H    5.262  -0.118  -8.904\n",
    "H    5.167   1.714  -8.641\n",
    "    \"\"\"\n",
    "\n",
    "methanol = \"\"\"\n",
    "O     -0.6582     -0.0067      0.1730 \n",
    "H     -1.1326     -0.0311     -0.6482\n",
    "C      0.7031      0.0083     -0.1305\n",
    "H      1.2001      0.0363      0.8431\n",
    "H      0.9877      0.8943     -0.7114\n",
    "H      1.0155     -0.8918     -0.6742\n",
    "  \"\"\"\n",
    "# H     -1.1326     -0.0311     -0.6482 <--- this goes with the oxygen\n",
    "\n",
    "\n",
    "formaldehyde = \"\"\"\n",
    "C      0.5979      0.0151      0.0688\n",
    "H      1.0686     -0.1411      1.0408\n",
    "H      1.2687      0.2002     -0.7717\n",
    "O     -0.5960     -0.0151     -0.0686\n",
    "  \"\"\"\n",
    "\n",
    "water = \"\"\"\n",
    "O          0.00000        0.00000        0.1653507\n",
    "H          0.00000        0.7493682     -0.4424329\n",
    "H          0.00000       -0.7493682     -0.4424329\n",
    "    \"\"\"\n",
    "\n",
    "h_peroxide = \"\"\"\n",
    "O          0.00000        0.00000        0.00000\n",
    "O          1.00000        0.00000        0.00000\n",
    "H          0.00000        0.50000        0.00000\n",
    "H          1.00000       -0.50000        0.00000\n",
    "\"\"\"\n",
    "\n",
    "options = {}\n",
    "options['geometry'] = water\n",
    "options['n_active_atoms'] = 1 # number of active atoms (first n atoms in the geometry string)\n",
    "\n",
    "run_fci = False\n",
    "\n",
    "options['basis'] = 'STO-6G' # basis set \n",
    "options['low_level'] = 'b3lyp' # level of theory of the environment \n",
    "options['high_level'] = 'mp2' # level of theory of the embedded system\n",
    "options['low_level_reference'] = 'rhf'\n",
    "options['high_level_reference'] = 'rhf'\n",
    "options['package'] = 'pyscf'\n",
    "\n",
    "keywords = fill_defaults(options)\n",
    "\n",
    "#run_closed_shell(keywords)"
   ],
   "outputs": [
    {
     "output_type": "stream",
     "name": "stderr",
     "text": [
      "/home/mwilliams/anaconda3/envs/mres/lib//python3.8/site-packages/pyscf/lib/misc.py:46: H5pyDeprecationWarning: Using default_file_mode other than 'r' is deprecated. Pass the mode to h5py.File() instead.\n",
      "  h5py.get_config().default_file_mode = 'a'\n"
     ]
    }
   ],
   "metadata": {}
  },
  {
   "cell_type": "markdown",
   "source": [
    "# 1. Low-level whole system calculation\n",
    "\n",
    "The first step is to run a mean field caluclation of the whole system.\n",
    "\n",
    "The Embed class and its subclasses have a method to do this which also sets the following properties:\n",
    "    Exchange correlation potentials (v_xc_total if embedding potential is not set, or alpha/beta_v_xc_total)\n",
    "    "
   ],
   "metadata": {}
  },
  {
   "cell_type": "code",
   "execution_count": 3,
   "source": [
    "from pyscf import gto, scf, cc, ao2mo, fci\n",
    "\n",
    "mol = gto.Mole(atom=keywords['geometry'], basis=keywords['basis'], charge=0).build()\n",
    "\n",
    "ks = scf.RKS(mol)\n",
    "ks.conv_tol = keywords[\"e_convergence\"]\n",
    "ks.xc = keywords[\"low_level\"]\n",
    "e_initial = ks.kernel()\n",
    "\n",
    "# Store the initial value of h core as this is needed later,\n",
    "# but is overwritten\n",
    "\n",
    "initial_h_core = ks.get_hcore()\n",
    "\n",
    "mol_copy = copy(mol)"
   ],
   "outputs": [
    {
     "output_type": "stream",
     "name": "stdout",
     "text": [
      "converged SCF energy = -76.0010943374088\n"
     ]
    }
   ],
   "metadata": {}
  },
  {
   "cell_type": "code",
   "execution_count": 4,
   "source": [
    "ks.mo_coeff.shape"
   ],
   "outputs": [
    {
     "output_type": "execute_result",
     "data": {
      "text/plain": [
       "(7, 7)"
      ]
     },
     "metadata": {},
     "execution_count": 4
    }
   ],
   "metadata": {}
  },
  {
   "cell_type": "code",
   "execution_count": 5,
   "source": [
    "hf = mol_copy.RHF().run()\n",
    "if run_fci:\n",
    "    ref_fci = fci.FCI(hf)\n",
    "    ref_fci.conv_tol = keywords[\"e_convergence\"]\n",
    "    fci_result = ref_fci.kernel()\n",
    "\n",
    "    # This DOES have nuclear energy included!\n",
    "    expected_energy = fci_result[0]\n",
    "\n",
    "else:\n",
    "    ref_cc = cc.CCSD(hf)\n",
    "    ref_cc.conv_tol = keywords[\"e_convergence\"]\n",
    "    cc_result = ref_cc.kernel()\n",
    "\n",
    "    expected_energy = hf.energy_tot() + cc_result[0]\n",
    "\n",
    "f\"{expected_energy=}\"\n"
   ],
   "outputs": [
    {
     "output_type": "stream",
     "name": "stdout",
     "text": [
      "converged SCF energy = -75.680090378264\n",
      "E(CCSD) = -75.73140453303354  E_corr = -0.05131415476950404\n"
     ]
    },
    {
     "output_type": "execute_result",
     "data": {
      "text/plain": [
       "'expected_energy=-75.73140453303354'"
      ]
     },
     "metadata": {},
     "execution_count": 5
    }
   ],
   "metadata": {}
  },
  {
   "cell_type": "markdown",
   "source": [
    "# 2. Orbital Localisation\n",
    "Find the orbitals of the active space and environment, using SPADE."
   ],
   "metadata": {}
  },
  {
   "cell_type": "code",
   "execution_count": 6,
   "source": [
    "n_occupied_mos = np.count_nonzero(ks.mo_occ == 2)\n",
    "occupied_orbitals = ks.mo_coeff[:, :n_occupied_mos]\n",
    "\n",
    "n_act_aos = mol.aoslice_by_atom()[keywords['n_active_atoms']-1][-1]\n",
    "ao_overlap = ks.get_ovlp()\n",
    "\n",
    "# Orbital rotation and partition into subsystems A and B\n",
    "#rotation_matrix, sigma = embed.orbital_rotation(occupied_orbitals,\n",
    "#    n_act_aos, ao_overlap)\n",
    "\n",
    "rotated_orbitals = linalg.fractional_matrix_power(ao_overlap, 0.5) @ occupied_orbitals\n",
    "_, sigma, right_vectors = linalg.svd(rotated_orbitals[:n_act_aos, :])\n",
    "\n",
    "#n_act_mos, n_env_mos = embed.orbital_partition(sigma)\n",
    "value_diffs = sigma[:-1]-sigma[1:]\n",
    "n_act_mos = np.argmax(value_diffs) + 1\n",
    "n_env_mos = n_occupied_mos - n_act_mos\n",
    "\n",
    "# Defining active and environment orbitals and \n",
    "act_orbitals = occupied_orbitals @ right_vectors.T[:, :n_act_mos]\n",
    "env_orbitals = occupied_orbitals @ right_vectors.T[:, n_act_mos:]\n",
    "act_density = 2.0 * act_orbitals @ act_orbitals.T\n",
    "env_density = 2.0 * env_orbitals @ env_orbitals.T"
   ],
   "outputs": [],
   "metadata": {}
  },
  {
   "cell_type": "code",
   "execution_count": null,
   "source": [],
   "outputs": [],
   "metadata": {}
  },
  {
   "cell_type": "code",
   "execution_count": 7,
   "source": [
    "ks.mo_occ.shape"
   ],
   "outputs": [
    {
     "output_type": "execute_result",
     "data": {
      "text/plain": [
       "(7,)"
      ]
     },
     "metadata": {},
     "execution_count": 7
    }
   ],
   "metadata": {}
  },
  {
   "cell_type": "code",
   "execution_count": 8,
   "source": [
    "occupied_orbitals.shape\n",
    "\n",
    "rotated_orbitals.shape\n",
    "\n",
    "rotated_orbitals[:n_act_aos, :].shape\n",
    "\n",
    "mol.aoslice_by_atom()"
   ],
   "outputs": [
    {
     "output_type": "execute_result",
     "data": {
      "text/plain": [
       "array([[0, 3, 0, 5],\n",
       "       [3, 4, 5, 6],\n",
       "       [4, 5, 6, 7]])"
      ]
     },
     "metadata": {},
     "execution_count": 8
    }
   ],
   "metadata": {}
  },
  {
   "cell_type": "markdown",
   "source": [
    "# 3. Calculate the cross subsytem terms"
   ],
   "metadata": {}
  },
  {
   "cell_type": "code",
   "execution_count": 9,
   "source": [
    "# Retrieving the subsytem energy terms and potential matrices\n",
    "\n",
    "# The function called looks like this\n",
    "def closed_shell_subsystem(scf, density):\n",
    "        #It seems that PySCF lumps J and K in the J array \n",
    "        j = ks.get_j(dm = density)\n",
    "        k = np.zeros(np.shape(j))\n",
    "        two_e_term =  ks.get_veff(ks.mol, density)\n",
    "        e_xc = two_e_term.exc\n",
    "        v_xc = two_e_term - j\n",
    "\n",
    "        # Energy\n",
    "        e = np.einsum(\"ij,ij\", density, ks.get_hcore() + j/2) + e_xc\n",
    "        return e, e_xc, j, k, v_xc\n",
    "\n",
    "e_act, e_xc_act, j_act, k_act, v_xc_act = (\n",
    "    closed_shell_subsystem(scf, act_density))\n",
    "e_env, e_xc_env, j_env, k_env, v_xc_env = (\n",
    "    closed_shell_subsystem(scf, env_density))\n",
    "\n",
    "# Computing cross subsystem terms\n",
    "# Note that the matrix dot product is equivalent to the trace.\n",
    "j_cross = 0.5 * (np.einsum(\"ij,ij\",act_density, j_env)\n",
    "        + np.einsum(\"ij,ij\", env_density, j_act))\n",
    "\n",
    "k_cross = 0.0\n",
    "\n",
    "xc_cross = ks.get_veff().exc - e_xc_act - e_xc_env\n",
    "two_e_cross = j_cross + k_cross + xc_cross\n",
    "print(f\"{e_act=},{e_xc_act=}\")#, {j_act=}, {k_act=}, {v_xc_act=}\")\n",
    "f\"{two_e_cross=}, {xc_cross=}\""
   ],
   "outputs": [
    {
     "output_type": "stream",
     "name": "stdout",
     "text": [
      "e_act=-78.07244645155404,e_xc_act=-7.237060261886795\n"
     ]
    },
    {
     "output_type": "execute_result",
     "data": {
      "text/plain": [
       "'two_e_cross=16.18037188035646, xc_cross=-0.4321262225057012'"
      ]
     },
     "metadata": {},
     "execution_count": 9
    }
   ],
   "metadata": {}
  },
  {
   "cell_type": "markdown",
   "source": [
    "# 4. Define $V_{emb}$\n",
    "\n",
    "We can now define the projector used to orthogonalise the Molecular and Atomic orbitals. From this we calculate the embedding potential.\n",
    "\n",
    "$P_{\\alpha, \\beta} = S\\gamma^BS$\n",
    "\n",
    "From this we can now also define the embedding potential.\n",
    "\n",
    "$V_{emb} = g[\\gamma^A, \\gamma^B] - g[\\gamma^A] + \\mu P$"
   ],
   "metadata": {}
  },
  {
   "cell_type": "code",
   "execution_count": 10,
   "source": [
    "# Define the mu-projector\n",
    "print(f\"{keywords['level_shift']=}\")\n",
    "projector = keywords['level_shift'] * (ks.get_ovlp() @ env_density\n",
    "    @ ks.get_ovlp())\n",
    "\n",
    "v_xc_total = ks.get_veff() - ks.get_j()\n",
    "\n",
    "# Defining the embedded core Hamiltonian\n",
    "v_emb = (j_env + v_xc_total - v_xc_act + projector)"
   ],
   "outputs": [
    {
     "output_type": "stream",
     "name": "stdout",
     "text": [
      "keywords['level_shift']=1000000.0\n"
     ]
    }
   ],
   "metadata": {}
  },
  {
   "cell_type": "code",
   "execution_count": null,
   "source": [],
   "outputs": [],
   "metadata": {}
  },
  {
   "cell_type": "markdown",
   "source": [
    "# 5A Run HF of full system with $V_{emb}$ to get $\\gamma^A_{emb}$\n",
    "\n",
    "Here, PsiEmbed gives us the option to stop, outputting values for calculation by other means.\n",
    "\n",
    "To continue, we run the mean field method, but with the embedding potentials as calulated."
   ],
   "metadata": {}
  },
  {
   "cell_type": "code",
   "execution_count": 11,
   "source": [
    "embedded_scf = scf.RHF(mol)\n",
    "embedded_scf.conv_tol = keywords[\"e_convergence\"]\n",
    "embedded_scf.mol.nelectron = 2*n_act_mos\n",
    "\n",
    "h_core = ks.get_hcore()\n",
    "\n",
    "embedded_scf.get_hcore = lambda *args, **kwargs: h_core + v_emb\n",
    "\n",
    "embedded_scf.kernel()\n",
    "\n",
    "embedded_occ_orbs = embedded_scf.mo_coeff[:, embedded_scf.mo_occ>0]\n",
    "embedded_density = 2*embedded_occ_orbs @ embedded_occ_orbs.T\n",
    "\n",
    "e_emb = embedded_scf.energy_elec(dm=embedded_density, vhf=embedded_scf.get_veff())[0]\n",
    "\n",
    "print(f\"{e_emb=}\")"
   ],
   "outputs": [
    {
     "output_type": "stream",
     "name": "stdout",
     "text": [
      "converged SCF energy = -52.4702397092794\n",
      "e_emb=-61.59852343756237\n"
     ]
    },
    {
     "output_type": "stream",
     "name": "stderr",
     "text": [
      "Overwritten attributes  get_hcore  of <class 'pyscf.scf.hf.RHF'>\n",
      "/home/mwilliams/anaconda3/envs/mres/lib//python3.8/site-packages/pyscf/gto/mole.py:1089: UserWarning: Function mol.dumps drops attribute _nelectron because it is not JSON-serializable\n",
      "  warnings.warn(msg)\n"
     ]
    }
   ],
   "metadata": {}
  },
  {
   "cell_type": "markdown",
   "source": [
    "# 6 Calculate correction term"
   ],
   "metadata": {}
  },
  {
   "cell_type": "code",
   "execution_count": 12,
   "source": [
    "# Compute the correction\n",
    "# - There are two versions used for different embeddings\n",
    "dm_correction = np.einsum(\"ij,ij\", v_emb, embedded_density - act_density)\n",
    "wf_correction = np.einsum(\"ij,ij\", act_density, v_emb)\n",
    "\n",
    "print(f\"{wf_correction=}, {dm_correction=}\")"
   ],
   "outputs": [
    {
     "output_type": "stream",
     "name": "stdout",
     "text": [
      "wf_correction=16.308795641874894, dm_correction=-0.0008673600709698803\n"
     ]
    }
   ],
   "metadata": {}
  },
  {
   "cell_type": "markdown",
   "source": [
    "# 7 Calculate $E[\\gamma^A_{emb}]$\n",
    "\n",
    "We calculate the Hartree-fock energy of the embedded region, we then add correlation later."
   ],
   "metadata": {}
  },
  {
   "cell_type": "code",
   "execution_count": 13,
   "source": [
    "# n_active_atoms = keywords[\"n_active_atoms\"]\n",
    "# part_geometry = keywords[\"geometry\"].split(\"\\n\")[1:n_active_atoms+1][0]\n",
    "# part_mol = gto.Mole(atom=part_geometry, basis=keywords[\"basis\"])\n",
    "# part_mol.nelectron == 2*n_act_mos\n",
    "\n",
    "# part_scf = scf.RHF(part_mol)\n",
    "# part_scf.kernel()"
   ],
   "outputs": [],
   "metadata": {}
  },
  {
   "cell_type": "markdown",
   "source": [
    "# Get Qubit Hamiltonian"
   ],
   "metadata": {}
  },
  {
   "cell_type": "code",
   "execution_count": 14,
   "source": [
    "from pyscf import ao2mo\n",
    "from openfermion.ops.representations import InteractionOperator, get_active_space_integrals\n",
    "from openfermion.linalg import eigenspectrum, expectation\n",
    "from openfermion.transforms import jordan_wigner\n",
    "\n",
    "active_indices = [i for i in range(embedded_scf.mol.nao - n_env_mos)]\n",
    "occupied_indices = embedded_scf.mo_occ == 2\n",
    "occupied_indices = [i for i, val in enumerate(occupied_indices) if val]\n",
    "\n",
    "print(f\"{active_indices=} \\n {occupied_indices=}\")\n"
   ],
   "outputs": [
    {
     "output_type": "stream",
     "name": "stdout",
     "text": [
      "active_indices=[0, 1, 2, 3, 4] \n",
      " occupied_indices=[0, 1, 2]\n"
     ]
    }
   ],
   "metadata": {}
  },
  {
   "cell_type": "code",
   "execution_count": 267,
   "source": [
    "base_mol = gto.Mole(atom=keywords[\"geometry\"], basis=keywords[\"basis\"]).build()\n",
    "\n",
    "base_scf = scf.HF(base_mol)\n",
    "base_scf.conv_tol = keywords[\"e_convergence\"]\n",
    "base_scf.kernel()"
   ],
   "outputs": [
    {
     "output_type": "stream",
     "name": "stdout",
     "text": [
      "converged SCF energy = -75.6800903779721\n"
     ]
    },
    {
     "output_type": "execute_result",
     "data": {
      "text/plain": [
       "-75.68009037797209"
      ]
     },
     "metadata": {},
     "execution_count": 267
    }
   ],
   "metadata": {}
  },
  {
   "cell_type": "code",
   "execution_count": 152,
   "source": [],
   "outputs": [
    {
     "output_type": "execute_result",
     "data": {
      "text/plain": [
       "(7, 7)"
      ]
     },
     "metadata": {},
     "execution_count": 152
    }
   ],
   "metadata": {}
  },
  {
   "cell_type": "code",
   "execution_count": 293,
   "source": [
    "from functools import reduce\n",
    "\n",
    "temp_scf = embedded_scf\n",
    "temp_mol = embedded_scf\n",
    "\n",
    "n_orbs = temp_mol.nao\n",
    "\n",
    "one_body_integrals = temp_scf.mo_coeff.T @ temp_scf.get_hcore() @ temp_scf.mo_coeff\n",
    "\n",
    "#temp_scf.get_hcore = lambda *args, **kwargs : initial_h_core\n",
    "temp_mol.incore_anyway == True\n",
    "#eri = mol.intor(\"\")\n",
    "# This said embedded_scf._eri before\n",
    "\n",
    "# Get two electron integrals in compressed format.\n",
    "two_electron_compressed = ao2mo.kernel(base_mol,\n",
    "    base_scf.mo_coeff)\n",
    "\n",
    "two_electron_integrals = ao2mo.restore(1, # no permutation symmetry\n",
    "    two_electron_compressed, n_orbs)\n",
    "\n",
    "#eri = temp_mol.intor(\"int2e\", aosym=1)\n",
    "#mo_eri = ao2mo.incore.full(eri, temp_scf.mo_coeff, compact=False)\n",
    "#print(two_body_integrals - mo_eri.reshape(n_orbs, n_orbs, n_orbs, n_orbs))\n",
    "\n",
    "two_body_integrals = np.asarray(\n",
    "    two_body_integrals.transpose(0, 2, 3, 1), order='C')\n",
    "\n",
    "# Get the contribution from active parts\n",
    "const, act_one_body, act_two_body = get_active_space_integrals(one_body_integrals, \n",
    "    two_body_integrals,\n",
    "    active_indices=active_indices,\n",
    "    occupied_indices=occupied_indices,\n",
    "    )\n",
    "\n",
    "print(f\"{one_body_integrals.shape=}, {two_body_integrals.shape=}\")\n",
    "print(f\"{act_one_body.shape=}, {act_two_body.shape=}, {const=}\")\n"
   ],
   "outputs": [
    {
     "output_type": "stream",
     "name": "stdout",
     "text": [
      "one_body_integrals.shape=(7, 7), two_body_integrals.shape=(7, 7, 7, 7)\n",
      "act_one_body.shape=(5, 5), act_two_body.shape=(5, 5, 5, 5), const=-87.63782037521653\n"
     ]
    }
   ],
   "metadata": {}
  },
  {
   "cell_type": "code",
   "execution_count": 296,
   "source": [
    "from openfermion.chem.molecular_data import spinorb_from_spatial\n",
    "\n",
    "one_body_coefficients, two_body_coefficents = spinorb_from_spatial(act_one_body, act_two_body)"
   ],
   "outputs": [],
   "metadata": {}
  },
  {
   "cell_type": "code",
   "execution_count": 303,
   "source": [
    "molecular_hamiltonian = InteractionOperator(const,\n",
    "                                            one_body_coefficients,\n",
    "                                            0.5 * two_body_coefficents)\n",
    "\n",
    "Qubit_Hamiltonian = jordan_wigner(molecular_hamiltonian)\n",
    "\n",
    "e_vqe_act = eigenspectrum(Qubit_Hamiltonian)[0]\n",
    "\n",
    "e_nuc = mol.energy_nuc()\n",
    "\n",
    "print(f\"{n_act_mos=}, {n_env_mos=}\")\n",
    "\n",
    "print(f\"{e_vqe_act=}\")\n",
    "print(e_vqe_act + e_env + two_e_cross + e_nuc - wf_correction)\n",
    "print(e_vqe_act + e_env + two_e_cross + e_nuc + dm_correction)"
   ],
   "outputs": [
    {
     "output_type": "stream",
     "name": "stdout",
     "text": [
      "n_act_mos=3, n_env_mos=2\n",
      "e_vqe_act=-187.67526050646592\n",
      "-201.91270403419566\n",
      "-185.60477575239173\n"
     ]
    }
   ],
   "metadata": {}
  },
  {
   "cell_type": "code",
   "execution_count": 260,
   "source": [
    "from openfermion import MolecularData\n",
    "from openfermionpyscf import run_pyscf\n",
    "\n",
    "of_geo = [('O',(0.00000,0.00000,0.1653507)),('H',(0.00000,0.7493682,-0.4424329)), ('H',(0.00000, -0.7493682,-0.4424329))]\n",
    "of_mol = MolecularData(geometry=of_geo, basis=keywords[\"basis\"], multiplicity=1, charge=0)\n",
    "of_mol = run_pyscf(of_mol)"
   ],
   "outputs": [],
   "metadata": {}
  },
  {
   "cell_type": "code",
   "execution_count": 263,
   "source": [
    "of_mol.canonical_orbitals = embedded_scf.mo_coeff\n",
    "of_mol.n_electrons = n_act_mos*2"
   ],
   "outputs": [
    {
     "output_type": "error",
     "ename": "AttributeError",
     "evalue": "can't set attribute",
     "traceback": [
      "\u001b[0;31m---------------------------------------------------------------------------\u001b[0m",
      "\u001b[0;31mAttributeError\u001b[0m                            Traceback (most recent call last)",
      "\u001b[0;32m<ipython-input-263-9ff1909668bb>\u001b[0m in \u001b[0;36m<module>\u001b[0;34m\u001b[0m\n\u001b[0;32m----> 1\u001b[0;31m \u001b[0mof_mol\u001b[0m\u001b[0;34m.\u001b[0m\u001b[0mcanonical_orbitals\u001b[0m \u001b[0;34m=\u001b[0m \u001b[0membedded_scf\u001b[0m\u001b[0;34m.\u001b[0m\u001b[0mmo_coeff\u001b[0m\u001b[0;34m\u001b[0m\u001b[0;34m\u001b[0m\u001b[0m\n\u001b[0m\u001b[1;32m      2\u001b[0m \u001b[0mof_mol\u001b[0m\u001b[0;34m.\u001b[0m\u001b[0mn_electrons\u001b[0m \u001b[0;34m=\u001b[0m \u001b[0mn_act_mos\u001b[0m\u001b[0;34m*\u001b[0m\u001b[0;36m2\u001b[0m\u001b[0;34m\u001b[0m\u001b[0;34m\u001b[0m\u001b[0m\n",
      "\u001b[0;31mAttributeError\u001b[0m: can't set attribute"
     ]
    }
   ],
   "metadata": {}
  },
  {
   "cell_type": "code",
   "execution_count": 305,
   "source": [
    "n_act_mos"
   ],
   "outputs": [
    {
     "output_type": "execute_result",
     "data": {
      "text/plain": [
       "3"
      ]
     },
     "metadata": {},
     "execution_count": 305
    }
   ],
   "metadata": {}
  },
  {
   "cell_type": "markdown",
   "source": [
    "# Pennylane VQE"
   ],
   "metadata": {}
  },
  {
   "cell_type": "code",
   "execution_count": 228,
   "source": [
    "import pennylane as qml\n",
    "\n",
    "lines = np.array([l.split() for l in keywords[\"geometry\"].split(\"\\n\")[:-1] if l])"
   ],
   "outputs": [],
   "metadata": {}
  },
  {
   "cell_type": "code",
   "execution_count": 229,
   "source": [
    "atoms = lines[:, :1]\n",
    "atoms = atoms.reshape(len(lines))\n",
    "coords = lines[:, 1:]\n",
    "coords = coords.reshape(coords.shape[0]**2).astype(float)"
   ],
   "outputs": [],
   "metadata": {}
  },
  {
   "cell_type": "code",
   "execution_count": 233,
   "source": [
    "coords[0:3]"
   ],
   "outputs": [
    {
     "output_type": "execute_result",
     "data": {
      "text/plain": [
       "array([0.       , 0.       , 0.1653507])"
      ]
     },
     "metadata": {},
     "execution_count": 233
    }
   ],
   "metadata": {}
  },
  {
   "cell_type": "code",
   "execution_count": 234,
   "source": [
    "filepath = qml.qchem.meanfield(atoms[0], coords[0:3], basis=keywords[\"basis\"], package=\"pyscf\")\n",
    "q_ham = qml.qchem.decompose(filepath, mapping=\"jordan_wigner\")\n",
    "print(q_ham)"
   ],
   "outputs": [
    {
     "output_type": "stream",
     "name": "stdout",
     "text": [
      "(-47.41882048824246+0j) [] +\n",
      "(-0.019665257071075897+0j) [X0 X1 Y2 Y3] +\n",
      "(-0.006641166911403775+0j) [X0 X1 Y4 Y5] +\n",
      "(-0.006641166911403775+0j) [X0 X1 Y6 Y7] +\n",
      "(-0.006641166911403775+0j) [X0 X1 Y8 Y9] +\n",
      "(0.019665257071075897+0j) [X0 Y1 Y2 X3] +\n",
      "(0.006641166911403775+0j) [X0 Y1 Y4 X5] +\n",
      "(0.006641166911403775+0j) [X0 Y1 Y6 X7] +\n",
      "(0.006641166911403775+0j) [X0 Y1 Y8 X9] +\n",
      "(0.14185284805199+0j) [X0 Z1 X2] +\n",
      "(0.005718593068437519+0j) [X0 Z1 X2 Z3] +\n",
      "(0.012174620045398191+0j) [X0 Z1 X2 Z4] +\n",
      "(0.003225366008534387+0j) [X0 Z1 X2 Z5] +\n",
      "(0.012174620045398191+0j) [X0 Z1 X2 Z6] +\n",
      "(0.003225366008534387+0j) [X0 Z1 X2 Z7] +\n",
      "(0.012174620045398191+0j) [X0 Z1 X2 Z8] +\n",
      "(0.003225366008534387+0j) [X0 Z1 X2 Z9] +\n",
      "(-0.008949254036863804+0j) [X0 Z1 Z2 X3 Y4 Y5] +\n",
      "(-0.008949254036863804+0j) [X0 Z1 Z2 X3 Y6 Y7] +\n",
      "(-0.008949254036863804+0j) [X0 Z1 Z2 X3 Y8 Y9] +\n",
      "(0.008949254036863804+0j) [X0 Z1 Z2 Y3 Y4 X5] +\n",
      "(0.008949254036863804+0j) [X0 Z1 Z2 Y3 Y6 X7] +\n",
      "(0.008949254036863804+0j) [X0 Z1 Z2 Y3 Y8 X9] +\n",
      "(0.12073426892962094+0j) [X0 X2] +\n",
      "(0.019665257071075897+0j) [Y0 X1 X2 Y3] +\n",
      "(0.006641166911403775+0j) [Y0 X1 X4 Y5] +\n",
      "(0.006641166911403775+0j) [Y0 X1 X6 Y7] +\n",
      "(0.006641166911403775+0j) [Y0 X1 X8 Y9] +\n",
      "(-0.019665257071075897+0j) [Y0 Y1 X2 X3] +\n",
      "(-0.006641166911403775+0j) [Y0 Y1 X4 X5] +\n",
      "(-0.006641166911403775+0j) [Y0 Y1 X6 X7] +\n",
      "(-0.006641166911403775+0j) [Y0 Y1 X8 X9] +\n",
      "(0.14185284805199+0j) [Y0 Z1 Y2] +\n",
      "(0.005718593068437519+0j) [Y0 Z1 Y2 Z3] +\n",
      "(0.012174620045398191+0j) [Y0 Z1 Y2 Z4] +\n",
      "(0.003225366008534387+0j) [Y0 Z1 Y2 Z5] +\n",
      "(0.012174620045398191+0j) [Y0 Z1 Y2 Z6] +\n",
      "(0.003225366008534387+0j) [Y0 Z1 Y2 Z7] +\n",
      "(0.012174620045398191+0j) [Y0 Z1 Y2 Z8] +\n",
      "(0.003225366008534387+0j) [Y0 Z1 Y2 Z9] +\n",
      "(0.008949254036863804+0j) [Y0 Z1 Z2 X3 X4 Y5] +\n",
      "(0.008949254036863804+0j) [Y0 Z1 Z2 X3 X6 Y7] +\n",
      "(0.008949254036863804+0j) [Y0 Z1 Z2 X3 X8 Y9] +\n",
      "(-0.008949254036863804+0j) [Y0 Z1 Z2 Y3 X4 X5] +\n",
      "(-0.008949254036863804+0j) [Y0 Z1 Z2 Y3 X6 X7] +\n",
      "(-0.008949254036863804+0j) [Y0 Z1 Z2 Y3 X8 X9] +\n",
      "(0.12073426892962094+0j) [Y0 Y2] +\n",
      "(12.566948378885623+0j) [Z0] +\n",
      "(0.12073426892962094+0j) [Z0 X1 Z2 X3] +\n",
      "(0.12073426892962094+0j) [Z0 Y1 Z2 Y3] +\n",
      "(1.191559235987391+0j) [Z0 Z1] +\n",
      "(0.2630213885187485+0j) [Z0 Z2] +\n",
      "(0.2826866455898244+0j) [Z0 Z3] +\n",
      "(0.2726403883314381+0j) [Z0 Z4] +\n",
      "(0.27928155524284193+0j) [Z0 Z5] +\n",
      "(0.2726403883314381+0j) [Z0 Z6] +\n",
      "(0.27928155524284193+0j) [Z0 Z7] +\n",
      "(0.2726403883314381+0j) [Z0 Z8] +\n",
      "(0.27928155524284193+0j) [Z0 Z9] +\n",
      "(-0.008949254036863806+0j) [X1 X2 X4 X5] +\n",
      "(-0.008949254036863806+0j) [X1 X2 X6 X7] +\n",
      "(-0.008949254036863806+0j) [X1 X2 X8 X9] +\n",
      "(-0.008949254036863806+0j) [X1 Y2 Y4 X5] +\n",
      "(-0.008949254036863806+0j) [X1 Y2 Y6 X7] +\n",
      "(-0.008949254036863806+0j) [X1 Y2 Y8 X9] +\n",
      "(0.1418528480519899+0j) [X1 Z2 X3] +\n",
      "(0.003225366008534387+0j) [X1 Z2 X3 Z4] +\n",
      "(0.012174620045398191+0j) [X1 Z2 X3 Z5] +\n",
      "(0.003225366008534387+0j) [X1 Z2 X3 Z6] +\n",
      "(0.012174620045398191+0j) [X1 Z2 X3 Z7] +\n",
      "(0.003225366008534387+0j) [X1 Z2 X3 Z8] +\n",
      "(0.012174620045398191+0j) [X1 Z2 X3 Z9] +\n",
      "(0.005718593068437519+0j) [X1 X3] +\n",
      "(-0.008949254036863806+0j) [Y1 X2 X4 Y5] +\n",
      "(-0.008949254036863806+0j) [Y1 X2 X6 Y7] +\n",
      "(-0.008949254036863806+0j) [Y1 X2 X8 Y9] +\n",
      "(-0.008949254036863806+0j) [Y1 Y2 Y4 Y5] +\n",
      "(-0.008949254036863806+0j) [Y1 Y2 Y6 Y7] +\n",
      "(-0.008949254036863806+0j) [Y1 Y2 Y8 Y9] +\n",
      "(0.1418528480519899+0j) [Y1 Z2 Y3] +\n",
      "(0.003225366008534387+0j) [Y1 Z2 Y3 Z4] +\n",
      "(0.012174620045398191+0j) [Y1 Z2 Y3 Z5] +\n",
      "(0.003225366008534387+0j) [Y1 Z2 Y3 Z6] +\n",
      "(0.012174620045398191+0j) [Y1 Z2 Y3 Z7] +\n",
      "(0.003225366008534387+0j) [Y1 Z2 Y3 Z8] +\n",
      "(0.012174620045398191+0j) [Y1 Z2 Y3 Z9] +\n",
      "(0.005718593068437519+0j) [Y1 Y3] +\n",
      "(12.566948378885623+0j) [Z1] +\n",
      "(0.2826866455898244+0j) [Z1 Z2] +\n",
      "(0.2630213885187485+0j) [Z1 Z3] +\n",
      "(0.27928155524284193+0j) [Z1 Z4] +\n",
      "(0.2726403883314381+0j) [Z1 Z5] +\n",
      "(0.27928155524284193+0j) [Z1 Z6] +\n",
      "(0.2726403883314381+0j) [Z1 Z7] +\n",
      "(0.27928155524284193+0j) [Z1 Z8] +\n",
      "(0.2726403883314381+0j) [Z1 Z9] +\n",
      "(-0.04309888883885102+0j) [X2 X3 Y4 Y5] +\n",
      "(-0.04309888883885102+0j) [X2 X3 Y6 Y7] +\n",
      "(-0.04309888883885102+0j) [X2 X3 Y8 Y9] +\n",
      "(0.04309888883885102+0j) [X2 Y3 Y4 X5] +\n",
      "(0.04309888883885102+0j) [X2 Y3 Y6 X7] +\n",
      "(0.04309888883885102+0j) [X2 Y3 Y8 X9] +\n",
      "(0.04309888883885102+0j) [Y2 X3 X4 Y5] +\n",
      "(0.04309888883885102+0j) [Y2 X3 X6 Y7] +\n",
      "(0.04309888883885102+0j) [Y2 X3 X8 Y9] +\n",
      "(-0.04309888883885102+0j) [Y2 Y3 X4 X5] +\n",
      "(-0.04309888883885102+0j) [Y2 Y3 X6 X7] +\n",
      "(-0.04309888883885102+0j) [Y2 Y3 X8 X9] +\n",
      "(1.6717560214752276+0j) [Z2] +\n",
      "(0.1990620780766045+0j) [Z2 Z3] +\n",
      "(0.15818386168887472+0j) [Z2 Z4] +\n",
      "(0.20128275052772576+0j) [Z2 Z5] +\n",
      "(0.15818386168887472+0j) [Z2 Z6] +\n",
      "(0.20128275052772576+0j) [Z2 Z7] +\n",
      "(0.15818386168887472+0j) [Z2 Z8] +\n",
      "(0.20128275052772576+0j) [Z2 Z9] +\n",
      "(1.6717560214752276+0j) [Z3] +\n",
      "(0.20128275052772576+0j) [Z3 Z4] +\n",
      "(0.15818386168887472+0j) [Z3 Z5] +\n",
      "(0.20128275052772576+0j) [Z3 Z6] +\n",
      "(0.15818386168887472+0j) [Z3 Z7] +\n",
      "(0.20128275052772576+0j) [Z3 Z8] +\n",
      "(0.15818386168887472+0j) [Z3 Z9] +\n",
      "(-0.011865280848061734+0j) [X4 X5 Y6 Y7] +\n",
      "(-0.011865280848061734+0j) [X4 X5 Y8 Y9] +\n",
      "(0.011865280848061734+0j) [X4 Y5 Y6 X7] +\n",
      "(0.011865280848061734+0j) [X4 Y5 Y8 X9] +\n",
      "(0.011865280848061734+0j) [Y4 X5 X6 Y7] +\n",
      "(0.011865280848061734+0j) [Y4 X5 X8 Y9] +\n",
      "(-0.011865280848061734+0j) [Y4 Y5 X6 X7] +\n",
      "(-0.011865280848061734+0j) [Y4 Y5 X8 X9] +\n",
      "(1.3407526231172717+0j) [Z4] +\n",
      "(0.2201657104821654+0j) [Z4 Z5] +\n",
      "(0.18456986793798064+0j) [Z4 Z6] +\n",
      "(0.19643514878604237+0j) [Z4 Z7] +\n",
      "(0.18456986793798064+0j) [Z4 Z8] +\n",
      "(0.19643514878604237+0j) [Z4 Z9] +\n",
      "(1.340752623117272+0j) [Z5] +\n",
      "(0.19643514878604237+0j) [Z5 Z6] +\n",
      "(0.18456986793798064+0j) [Z5 Z7] +\n",
      "(0.19643514878604237+0j) [Z5 Z8] +\n",
      "(0.18456986793798064+0j) [Z5 Z9] +\n",
      "(-0.011865280848061734+0j) [X6 X7 Y8 Y9] +\n",
      "(0.011865280848061734+0j) [X6 Y7 Y8 X9] +\n",
      "(0.011865280848061734+0j) [Y6 X7 X8 Y9] +\n",
      "(-0.011865280848061734+0j) [Y6 Y7 X8 X9] +\n",
      "(1.3407526231172717+0j) [Z6] +\n",
      "(0.2201657104821654+0j) [Z6 Z7] +\n",
      "(0.18456986793798064+0j) [Z6 Z8] +\n",
      "(0.19643514878604237+0j) [Z6 Z9] +\n",
      "(1.340752623117272+0j) [Z7] +\n",
      "(0.19643514878604237+0j) [Z7 Z8] +\n",
      "(0.18456986793798064+0j) [Z7 Z9] +\n",
      "(1.340752623117271+0j) [Z8] +\n",
      "(0.22016571048216535+0j) [Z8 Z9] +\n",
      "(1.3407526231172722+0j) [Z9]\n"
     ]
    }
   ],
   "metadata": {}
  },
  {
   "cell_type": "code",
   "execution_count": 304,
   "source": [
    "import pennylane as qml\n",
    "from pennylane import qchem\n",
    "from pennylane.templates import UCCSD\n",
    "from functools import partial\n",
    "\n",
    "h = qchem.convert_observable(Qubit_Hamiltonian)\n",
    "\n",
    "qubits = len(h.wires)\n",
    "\n",
    "electrons = n_act_mos*2\n",
    "\n",
    "ref_state = qchem.hf_state(electrons, qubits)\n",
    "\n",
    "# Generate single and double excitations\n",
    "singles, doubles = qchem.excitations(electrons, qubits)\n",
    "\n",
    "# Map excitations to the wires the UCCSD circuit will act on\n",
    "s_wires, d_wires = qchem.excitations_to_wires(singles, doubles)\n",
    "\n",
    "# Define the device\n",
    "dev = qml.device('default.qubit', wires=qubits)\n",
    "\n",
    "# Define the UCCSD ansatz\n",
    "ansatz = partial(UCCSD, init_state=ref_state, s_wires=s_wires, d_wires=d_wires)\n",
    "\n",
    "# Define the cost function\n",
    "cost_fn = qml.ExpvalCost(ansatz, h, dev)\n",
    "\n",
    "opt = qml.GradientDescentOptimizer(stepsize=0.4)\n",
    "\n",
    "# Compute the expectation value of 'h' for given set of parameters 'params'\n",
    "params = np.random.normal(0, np.pi, len(singles) + len(doubles))\n",
    "\n",
    "max_iterations = 1000\n",
    "conv_tol = keywords[\"e_convergence\"] * 0.1\n",
    "energy = [cost_fn(params)]\n",
    "param_vals = [params]\n"
   ],
   "outputs": [],
   "metadata": {}
  },
  {
   "cell_type": "code",
   "execution_count": 314,
   "source": [
    "\n",
    "for n in range(max_iterations):\n",
    "    params, prev_energy = opt.step_and_cost(cost_fn, params)\n",
    "\n",
    "    energy.append(cost_fn(params))\n",
    "    param_vals.append(params)\n",
    "\n",
    "    conv = np.abs(energy[-1] - prev_energy)\n",
    "\n",
    "    if n % 10 == 0:\n",
    "        print(f\"Step = {n},  Energy = {energy[-1]:.8f} Ha\")\n",
    "\n",
    "    if conv <= conv_tol:\n",
    "        break\n",
    "\n",
    "print(\"\\n\" f\"Final value of the ground-state energy = {energy[-1]:.8f} Ha\")\n",
    "print(\"\\n\" f\"Optimal value of the circuit parameter = {param_vals[-1]}\")"
   ],
   "outputs": [],
   "metadata": {}
  },
  {
   "cell_type": "code",
   "execution_count": 136,
   "source": [
    "energy"
   ],
   "outputs": [
    {
     "output_type": "execute_result",
     "data": {
      "text/plain": [
       "[-44.55861490611497,\n",
       " -35.048457428749465,\n",
       " -21.39530587659857,\n",
       " -44.6538071069298,\n",
       " -39.22216975038845,\n",
       " -39.28259296737336,\n",
       " -27.690896057044363,\n",
       " -21.460271043334075,\n",
       " -44.027963935563946,\n",
       " -43.702724400618756,\n",
       " -45.3677521505328,\n",
       " -45.358185311393505,\n",
       " -45.16723361646617,\n",
       " -42.11692787879853,\n",
       " -21.9749890164566,\n",
       " -42.21180702748919,\n",
       " -30.57208536249821,\n",
       " -43.810855828081245,\n",
       " -43.79164962214616,\n",
       " -45.023346072866794,\n",
       " -39.75857511557343,\n",
       " -19.751745898923883,\n",
       " -29.909139469761293,\n",
       " -41.39931028236084,\n",
       " -34.51012228215426,\n",
       " -22.998287099675565,\n",
       " -45.2853768767361,\n",
       " -44.337206686204404,\n",
       " -36.40444873935267,\n",
       " -44.05391909093208,\n",
       " -35.60559699897695,\n",
       " -36.75632421423436,\n",
       " -21.146436730708754,\n",
       " -45.37154749624263,\n",
       " -45.28084951629086,\n",
       " -43.773634333779285,\n",
       " -27.641846194410213,\n",
       " -29.808859547366758,\n",
       " -37.60093374372787,\n",
       " -32.298544130402405,\n",
       " -35.85662808028473,\n",
       " -31.797715590044106,\n",
       " -21.054753223426697,\n",
       " -36.68792302382612,\n",
       " -45.11079310146467,\n",
       " -43.18704815087737,\n",
       " -37.269792905254924,\n",
       " -43.43439683835854,\n",
       " -45.15944926215797,\n",
       " -45.36690600276573,\n",
       " -45.374202025032645,\n",
       " -45.37670800846826,\n",
       " -45.37769491647505,\n",
       " -45.37807951892235,\n",
       " -45.377841520919574,\n",
       " -45.37178877290579,\n",
       " -45.281575386533575,\n",
       " -43.990177558618754,\n",
       " -31.6942888250967,\n",
       " -44.00609107716154,\n",
       " -30.399176979904418,\n",
       " -38.374203605667624,\n",
       " -21.8934077642451,\n",
       " -37.51028730997112,\n",
       " -21.24416901587888,\n",
       " -39.81254886154794,\n",
       " -42.30714479353437,\n",
       " -36.6161939155563,\n",
       " -42.95557477093436,\n",
       " -45.3742690433882,\n",
       " -45.35985666478763,\n",
       " -45.13114217667309,\n",
       " -42.16244045071593,\n",
       " -27.93262380589903,\n",
       " -45.36744999708216,\n",
       " -45.341923232772736,\n",
       " -45.19651060511871,\n",
       " -44.47377229789109,\n",
       " -42.518962700838564,\n",
       " -45.0233452154548,\n",
       " -45.209044306842735,\n",
       " -44.35212813236924,\n",
       " -33.0308032745817,\n",
       " -20.907462418808358,\n",
       " -41.54372216906542,\n",
       " -20.787825718268326,\n",
       " -39.0044538852316,\n",
       " -38.565323035079224,\n",
       " -35.332380352695694,\n",
       " -23.77157528785523,\n",
       " -44.84397148114512,\n",
       " -45.22120606757831,\n",
       " -43.15140521592579,\n",
       " -27.879017988670025,\n",
       " -44.640166149712236,\n",
       " -43.94011793056494,\n",
       " -36.82078457137234,\n",
       " -21.818569389431417,\n",
       " -42.237660734743024,\n",
       " -33.952239132515,\n",
       " -32.432487779994425,\n",
       " -31.882754663459355,\n",
       " -38.128882716982424,\n",
       " -45.181909641022685,\n",
       " -44.30962101567203,\n",
       " -41.91608252951852,\n",
       " -45.33976382339744,\n",
       " -45.37062260073307,\n",
       " -45.37675379909077,\n",
       " -45.37488095558106,\n",
       " -45.35199150687874,\n",
       " -45.173218536444466,\n",
       " -43.900056841920325,\n",
       " -39.525460517434034,\n",
       " -44.484942251835605,\n",
       " -45.11890011972664,\n",
       " -45.3314008433117,\n",
       " -45.343061095150176,\n",
       " -45.349949021559524,\n",
       " -45.34842628150553,\n",
       " -45.23563550043466,\n",
       " -43.351301767755736,\n",
       " -25.41274462822279,\n",
       " -27.3163001519762,\n",
       " -23.234047004666834,\n",
       " -44.89548550835905,\n",
       " -38.73503932504266,\n",
       " -25.896478895250848,\n",
       " -27.78416041187791,\n",
       " -31.212336925829945,\n",
       " -45.363697751081624,\n",
       " -45.33649348431001,\n",
       " -44.978066572277726,\n",
       " -42.01463511051824,\n",
       " -37.260105779619394,\n",
       " -45.009382862046635,\n",
       " -41.573466011917056,\n",
       " -33.21732715586745,\n",
       " -43.65460376231171,\n",
       " -28.96409055113293,\n",
       " -41.92127053179639,\n",
       " -31.12034242254404,\n",
       " -45.19524856406394,\n",
       " -43.415349853445186,\n",
       " -33.696825228124624,\n",
       " -42.50386970116229,\n",
       " -44.97708945011044,\n",
       " -45.31132185038319,\n",
       " -45.3784386267204,\n",
       " -45.37844867244083,\n",
       " -45.37844874517175]"
      ]
     },
     "metadata": {},
     "execution_count": 136
    }
   ],
   "metadata": {}
  },
  {
   "cell_type": "markdown",
   "source": [
    "# 8. Add all the parts up.\n",
    "\n",
    "e_act_emb : $\\epsilon[\\gamma^A_{emb}]$\n",
    ">energy of the embedded region\n",
    "\n",
    "e_env : $E[\\gamma^B]$ \n",
    ">energy of the environment\n",
    "\n",
    "two_e_cross : $g[\\gamma^A, \\gamma^B]$\n",
    ">non-additive two electron term\n",
    "\n",
    "embed.nre\n",
    ">The Coulomb energy from nuclear repulsion.\n",
    "\n",
    "correction : $tr[(\\gamma^A_{emb} - \\gamma^A)(h^{A in B} - h)]$ (or $tr[\\gamma^A(h^{A in B} - h)]$ )\n",
    "> Correction for embedding"
   ],
   "metadata": {}
  },
  {
   "cell_type": "code",
   "execution_count": 42,
   "source": [
    "e_nuc = mol.energy_nuc()\n",
    "\n",
    "e_mf_emb = e_vqe_act + e_env + two_e_cross + e_nuc - wf_correction\n",
    "print(\"Component contributions\")\n",
    "print(f\"{e_vqe_act=}, {e_env=}, {two_e_cross=}, {wf_correction=}, {dm_correction=}, {e_nuc=}\\n\")\n",
    "\n",
    "# Print out the final value.\n",
    "print(f\"FCI Energy:\\t\\t{expected_energy}\")\n",
    "print(f\"DFT Energy:\\t\\t{e_initial}\")\n",
    "print(f\"Error:\\t\\t\\t{(expected_energy-e_initial)*100/expected_energy:.2f}%\")\n",
    "print(f\"Embedding Energy:\\t{e_mf_emb}\")\n",
    "print(f\"Error:\\t\\t\\t{(expected_energy-e_mf_emb)*100/expected_energy:.2f}%\")\n"
   ],
   "outputs": [
    {
     "output_type": "stream",
     "name": "stdout",
     "text": [
      "Component contributions\n",
      "e_vqe_act=-51.8590038758704, e_env=-23.237303494494267, two_e_cross=16.18037188035646, wf_correction=16.308795641874894, dm_correction=-0.0008673600709698803, e_nuc=9.128283728282938\n",
      "\n",
      "FCI Energy:\t\t-75.73140453303354\n",
      "DFT Energy:\t\t-76.00109433740884\n",
      "Error:\t\t\t-0.36%\n",
      "Embedding Energy:\t-66.09644740360017\n",
      "Error:\t\t\t12.72%\n"
     ]
    }
   ],
   "metadata": {}
  },
  {
   "cell_type": "code",
   "execution_count": null,
   "source": [
    "# This is just here to quit any \"Run All\" commands\n",
    "import pdb;pdb.set_trace()"
   ],
   "outputs": [],
   "metadata": {}
  },
  {
   "cell_type": "markdown",
   "source": [
    "# Tequila"
   ],
   "metadata": {}
  },
  {
   "cell_type": "code",
   "execution_count": null,
   "source": [
    "import tequila as tq\n",
    "from tequila.quantumchemistry import ParametersQC, QuantumChemistryBase, QuantumChemistryPySCF\n",
    "from tequila import ExpectationValue\n",
    "from tequila.quantumchemistry.qc_base import ClosedShellAmplitudes\n",
    "#tq_mol = QuantumChemistryBase.do_make_molecule(self, nuclear_repulsion=0, one_body_integrals=act_one_body, two_body_integrals=act_two_body)"
   ],
   "outputs": [],
   "metadata": {}
  },
  {
   "cell_type": "code",
   "execution_count": null,
   "source": [
    "params = ParametersQC(basis_set=keywords[\"basis\"], geometry=keywords[\"geometry\"])\n",
    "driver = QuantumChemistryPySCF(parameters=params, transformation=\"jordan_wigner\", one_body_integrals=act_one_body, two_body_integrals=act_two_body)\n",
    "#tq_mol = driver.make_molecule(one_body_integrals=act_one_body, two_body_integrals=act_two_body)"
   ],
   "outputs": [],
   "metadata": {}
  },
  {
   "cell_type": "code",
   "execution_count": null,
   "source": [
    "amps = ClosedShellAmplitudes(tIA=act_one_body, tIjAb=act_two_body)\n",
    "U = driver.make_uccsd_ansatz(trotter_steps=1, initial_amplitudes=amps)\n",
    "H = driver.make_hamiltonian()\n",
    "\n",
    "E = ExpectationValue(H=H, U=U)"
   ],
   "outputs": [],
   "metadata": {}
  },
  {
   "cell_type": "code",
   "execution_count": null,
   "source": [
    "#E = tq.ExpectationValue(H=H, U=U, transformation=\"jordan_wigner\")\n",
    "result = tq.minimize(objective=E, method=\"cobyla\", initial_values=None)"
   ],
   "outputs": [],
   "metadata": {}
  },
  {
   "cell_type": "code",
   "execution_count": null,
   "source": [],
   "outputs": [],
   "metadata": {}
  },
  {
   "cell_type": "code",
   "execution_count": 45,
   "source": [],
   "outputs": [
    {
     "output_type": "execute_result",
     "data": {
      "text/plain": [
       "5"
      ]
     },
     "metadata": {},
     "execution_count": 45
    }
   ],
   "metadata": {}
  },
  {
   "cell_type": "code",
   "execution_count": null,
   "source": [
    "commuting_obs = [qml.PauliX(0), qml.PauliX(0) @ qml.PauliZ(1)]\n",
    "H = qml.vqe.Hamiltonian([1, 1], commuting_obs)\n",
    "\n",
    "dev = qml.device(\"default.qubit\", wires=2)\n",
    "ansatz = qml.templates.StronglyEntanglingLayers\n",
    "\n",
    "cost_opt = qml.ExpvalCost(ansatz, H, dev, optimize=True)\n",
    "cost_no_opt = qml.ExpvalCost(ansatz, H, dev, optimize=False)\n",
    "\n",
    "params = qml.init.strong_ent_layers_uniform(3, 2)"
   ],
   "outputs": [],
   "metadata": {}
  },
  {
   "cell_type": "code",
   "execution_count": null,
   "source": [
    "# Can either convert to pennylane or generate a Fermionic operator in pl\n",
    "import pennylane_qchem as pl\n",
    "import pennylane as qml\n",
    "\n",
    "pl_qham = pl.qchem.convert_observable(Qubit_Hamiltonian)\n",
    "\n",
    "dev = qml.device(\"default.qubit\", wires=n_qubits)\n",
    "n_electrons = n_act_mos\n",
    "hf = pl.qchem.hf_state(n_electrons, n_qubits)\n",
    "print(hf)"
   ],
   "outputs": [],
   "metadata": {}
  },
  {
   "cell_type": "code",
   "execution_count": null,
   "source": [
    "from openfermion.circuits import uccsd_generator\n",
    "import cirq\n"
   ],
   "outputs": [],
   "metadata": {}
  },
  {
   "cell_type": "code",
   "execution_count": null,
   "source": [
    "anzats = uccsd_generator(act_one_body, act_two_body)\n",
    "\n",
    "circuit = cirq.Circuit()\n",
    "simulator = cirq.Simulator()\n",
    "\n",
    "\n",
    "\n"
   ],
   "outputs": [],
   "metadata": {}
  },
  {
   "cell_type": "markdown",
   "source": [
    "## Qiskit Stuff Below here"
   ],
   "metadata": {}
  },
  {
   "cell_type": "code",
   "execution_count": 22,
   "source": [
    "qh_terms = Qubit_Hamiltonian.terms\n",
    "n_qubits = molecular_hamiltonian._n_qubits\n",
    "\n",
    "intermediate = {}\n",
    "for term, value in qh_terms.items():\n",
    "    # Assume I for each qubit unless explicity stated\n",
    "    op_string = [\"I\"]*n_qubits\n",
    "    for pauli in term:\n",
    "        position = pauli[0]\n",
    "        operator = pauli[1]\n",
    "\n",
    "        op_string[position] = operator\n",
    "\n",
    "    intermediate[\"\".join(op_string)] = value\n",
    "\n",
    "print(intermediate)"
   ],
   "outputs": [
    {
     "output_type": "stream",
     "name": "stdout",
     "text": [
      "{'IIIII': -27.292796792001084, 'ZIIII': 14.089672416569032, 'IZIII': 3.3890845568584465, 'IIZII': 2.79082116168039, 'IIIZI': 3.38901526963488, 'IIIIZ': 3.634203387258335, 'XXIII': 0.07177386427593799, 'YYIII': 0.07177386427593799, 'XZZXI': 0.021981207571056316, 'YZZYI': 0.021981207571056316, 'IXZXI': -0.22601413274862364, 'IYZYI': -0.22601413274862364}\n"
     ]
    }
   ],
   "metadata": {}
  },
  {
   "cell_type": "code",
   "execution_count": 30,
   "source": [
    "# Pennylane\n",
    "import pennylane as qml\n",
    "from pennylane import PauliX, PauliY, PauliZ, Identity\n",
    "\n",
    "Identity(1)\n",
    "\n",
    "opdict = {\"I\": Identity, \"X\": PauliX, \"Y\": PauliY, \"Z\": PauliZ}\n",
    "\n",
    "# Initialise the operator with the identity contribution\n",
    "values = [v for v in intermediate.values()]\n",
    "qiskit_op = intermediate[\"I\"*n_qubits] * Identity(n_qubits)\n",
    "operators = [Identity(n_qubits)]\n",
    "\n",
    "for op, value in intermediate.items():\n",
    "\n",
    "    if op == \"I\"*n_qubits:\n",
    "        continue\n",
    "\n",
    "    paulis = [opdict[pauli] for pauli in op]\n",
    "\n",
    "    pauli_product = paulis[0]\n",
    "    for p in paulis[1:]:\n",
    "        pauli_product = pauli_product @ p\n",
    "\n",
    "    operators += pauli_product\n",
    "\n",
    "print(operators)"
   ],
   "outputs": [
    {
     "output_type": "error",
     "ename": "TypeError",
     "evalue": "unsupported operand type(s) for @: 'ABCMeta' and 'ABCMeta'",
     "traceback": [
      "\u001b[0;31m---------------------------------------------------------------------------\u001b[0m",
      "\u001b[0;31mTypeError\u001b[0m                                 Traceback (most recent call last)",
      "\u001b[0;32m<ipython-input-30-2b44b1c950bb>\u001b[0m in \u001b[0;36m<module>\u001b[0;34m\u001b[0m\n\u001b[1;32m     21\u001b[0m     \u001b[0mpauli_product\u001b[0m \u001b[0;34m=\u001b[0m \u001b[0mpaulis\u001b[0m\u001b[0;34m[\u001b[0m\u001b[0;36m0\u001b[0m\u001b[0;34m]\u001b[0m\u001b[0;34m\u001b[0m\u001b[0;34m\u001b[0m\u001b[0m\n\u001b[1;32m     22\u001b[0m     \u001b[0;32mfor\u001b[0m \u001b[0mp\u001b[0m \u001b[0;32min\u001b[0m \u001b[0mpaulis\u001b[0m\u001b[0;34m[\u001b[0m\u001b[0;36m1\u001b[0m\u001b[0;34m:\u001b[0m\u001b[0;34m]\u001b[0m\u001b[0;34m:\u001b[0m\u001b[0;34m\u001b[0m\u001b[0;34m\u001b[0m\u001b[0m\n\u001b[0;32m---> 23\u001b[0;31m         \u001b[0mpauli_product\u001b[0m \u001b[0;34m=\u001b[0m \u001b[0mpauli_product\u001b[0m \u001b[0;34m@\u001b[0m \u001b[0mp\u001b[0m\u001b[0;34m\u001b[0m\u001b[0;34m\u001b[0m\u001b[0m\n\u001b[0m\u001b[1;32m     24\u001b[0m \u001b[0;34m\u001b[0m\u001b[0m\n\u001b[1;32m     25\u001b[0m     \u001b[0moperators\u001b[0m \u001b[0;34m+=\u001b[0m \u001b[0mpauli_product\u001b[0m\u001b[0;34m\u001b[0m\u001b[0;34m\u001b[0m\u001b[0m\n",
      "\u001b[0;31mTypeError\u001b[0m: unsupported operand type(s) for @: 'ABCMeta' and 'ABCMeta'"
     ]
    }
   ],
   "metadata": {}
  },
  {
   "cell_type": "code",
   "execution_count": null,
   "source": [
    "from qiskit.opflow import I, X, Y, Z\n",
    "\n",
    "opdict = {\"I\": I, \"X\": X, \"Y\": Y, \"Z\": Z}\n",
    "\n",
    "# Initialise the operator with the identity contribution\n",
    "qiskit_op = intermediate[\"I\"*n_qubits] * I.tensorpower(n_qubits)\n",
    "\n",
    "for op, value in intermediate.items():\n",
    "\n",
    "    if op == \"I\"*n_qubits:\n",
    "        continue\n",
    "\n",
    "    paulis = [opdict[pauli] for pauli in op]\n",
    "\n",
    "    pauli_product = paulis[0]\n",
    "    for p in paulis[1:]:\n",
    "        pauli_product = pauli_product.tensor(p)\n",
    "\n",
    "    qiskit_op += value * pauli_product\n",
    "\n",
    "print(qiskit_op)"
   ],
   "outputs": [],
   "metadata": {}
  },
  {
   "cell_type": "code",
   "execution_count": null,
   "source": [
    "type(qiskit_op)"
   ],
   "outputs": [],
   "metadata": {}
  },
  {
   "cell_type": "code",
   "execution_count": null,
   "source": [
    "from qiskit.algorithms.optimizers import COBYLA\n",
    "from qiskit.utils import algorithm_globals, QuantumInstance\n",
    "from qiskit.algorithms import VQE\n",
    "from qiskit import Aer\n",
    "from qiskit_nature.circuit.library import UCCSD\n",
    "\n",
    "from qiskit_nature.algorithms import GroundStateEigensolver\n"
   ],
   "outputs": [],
   "metadata": {}
  },
  {
   "cell_type": "code",
   "execution_count": null,
   "source": [
    "from qiskit_nature.algorithms import VQEUCCFactory\n",
    "from qiskit_nature.problems.second_quantization import ElectronicStructureProblem\n",
    "\n",
    "q_instance = QuantumInstance(backend=Aer.get_backend('qasm_simulator'))\n",
    "optimizer = COBYLA(maxiter=80)\n",
    "esp = ElectronicStructureProblem()\n",
    "\n",
    "\n",
    "\n",
    "vqe = VQEUCCFactory(q_instance, optimizer).get_solver()\n"
   ],
   "outputs": [],
   "metadata": {}
  },
  {
   "cell_type": "code",
   "execution_count": null,
   "source": [],
   "outputs": [],
   "metadata": {}
  },
  {
   "cell_type": "code",
   "execution_count": null,
   "source": [
    "algorithm_globals.random_seed = 50\n",
    "ansatz = UCCSD(num_orbitals=n_qubits*2, num_particles=n_act_mos*2)\n",
    "\n",
    "counts = []\n",
    "values = []\n",
    "def store_intermediate_result(eval_count, parameters, mean, std):\n",
    "    counts.append(eval_count)\n",
    "    values.append(mean)\n",
    "\n",
    "vqe = VQE(ansatz, optimizer, callback=store_intermediate_result,\n",
    "            quantum_instance=q_instance)\n",
    "result = vqe.compute_minimum_eigenvalue(operator=qiskit_op)\n",
    "print('\\rOptimization complete      ')"
   ],
   "outputs": [],
   "metadata": {}
  },
  {
   "cell_type": "code",
   "execution_count": null,
   "source": [
    "pylab.rcParams['figure.figsize'] = (12, 8)\n",
    "pylab.plot(counts, values, label=type(optimizer).__name__)\n",
    "pylab.xlabel('Eval count')\n",
    "pylab.ylabel('Energy')\n",
    "pylab.title('Energy convergence for various optimizers')\n",
    "pylab.legend(loc='upper right');"
   ],
   "outputs": [],
   "metadata": {}
  },
  {
   "cell_type": "markdown",
   "source": [
    "referenece values"
   ],
   "metadata": {}
  },
  {
   "cell_type": "code",
   "execution_count": null,
   "source": [
    "npme = NumPyMinimumEigensolver()\n",
    "result = npme.compute_minimum_eigenvalue(operator=H2_op)\n",
    "ref_value = result.eigenvalue.real\n",
    "print(f'Reference value: {ref_value:.5f}')"
   ],
   "outputs": [],
   "metadata": {}
  },
  {
   "cell_type": "code",
   "execution_count": null,
   "source": [
    "pylab.rcParams['figure.figsize'] = (12, 8)\n",
    "pylab.plot(counts, abs(ref_value - values), label=type(optimizer).__name__)\n",
    "pylab.xlabel('Eval count')\n",
    "pylab.ylabel('Energy difference from solution reference value')\n",
    "pylab.title('Energy convergence for various optimizers')\n",
    "pylab.yscale('log')\n",
    "pylab.legend(loc='upper right');"
   ],
   "outputs": [],
   "metadata": {}
  }
 ]
}