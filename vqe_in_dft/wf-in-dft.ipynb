{
 "metadata": {
  "orig_nbformat": 4,
  "kernelspec": {
   "name": "python3",
   "display_name": "Python 3.8.11 64-bit ('mres': conda)"
  },
  "interpreter": {
   "hash": "b2663bb9b5ecd1f9bf47da0bf7d7eb3546bafedcdfede57739a574cc1b52de28"
  },
  "language_info": {
   "name": "python",
   "version": "3.8.11",
   "mimetype": "text/x-python",
   "codemirror_mode": {
    "name": "ipython",
    "version": 3
   },
   "pygments_lexer": "ipython3",
   "nbconvert_exporter": "python",
   "file_extension": ".py"
  }
 },
 "nbformat": 4,
 "nbformat_minor": 2,
 "cells": [
  {
   "cell_type": "markdown",
   "source": [
    "# VQE in DFT with PsiEmbed and Qiskit\n",
    "\n",
    "Here we define the inputs as required by PsiEmbed. Note that we'll follow the logic of `embedding_module/run_open_shell`."
   ],
   "metadata": {}
  },
  {
   "cell_type": "markdown",
   "source": [
    "We can think of this procedure are requiring three steps:\n",
    "\n",
    "1. Pre-embedding\n",
    "\n",
    "    Here we define the problem, and run a low-level calculation of the whole system. From this we obtain the pre-embedded density matrices $\\gamma^A$ and $\\gamma^B$\n",
    "\n",
    "    We then define the level-shift projector $P$ and embedding potential $V_{emb}$.\n",
    "\n",
    "2. Embedding\n",
    "\n",
    "    Using $V_{emb}$ we run a high-level method simulation of the active region to get the embedded density matrix $\\gamma^A_{emb}$.\n",
    "\n",
    "    We calculate the correction term $tr[V_{emb}(\\gamma^A_{emb}-\\gamma^A)]$\n",
    "\n",
    "3. Post-embedding\n",
    "\n",
    "    Finally we calculate the embedded energy, by removing $V_{emb}$ from the Hamiltonian, and using density matrix $\\gamma^A_{emb}$.\n",
    "\n",
    "    The total energy is then given by: $E = E[\\gamma^A_{emb}] + E[\\gamma^B] + g[\\gamma^A, \\gamma^B] + E_{nuclear} + tr[V_{emb}(\\gamma^A_{emb}-\\gamma^A)]$"
   ],
   "metadata": {}
  },
  {
   "cell_type": "markdown",
   "source": [
    "# 0. Set Parameters\n",
    "\n",
    "First we'll set the parameters "
   ],
   "metadata": {}
  },
  {
   "cell_type": "code",
   "execution_count": 34,
   "source": [
    "from copy import copy\n",
    "from typing import Dict\n",
    "from spade import fill_defaults\n",
    "import numpy as np\n",
    "from scipy import linalg\n",
    "from spade.main import driver\n",
    "from spade.embedding_module import run_closed_shell\n",
    "\n",
    "ethane = \"\"\"\n",
    "  C      0.7516     -0.0225     -0.0209\n",
    "  C     -0.7516      0.0225      0.0209\n",
    "  H      1.1851     -0.0039      0.9875\n",
    "  H      1.1669      0.8330     -0.5693\n",
    "  H      1.1155     -0.9329     -0.5145\n",
    "  H     -1.1669     -0.8334      0.5687\n",
    "  H     -1.1157      0.9326      0.5151\n",
    "  H     -1.1850      0.0044     -0.9875\n",
    "    \"\"\"\n",
    "\n",
    "methanol = \"\"\"\n",
    "H     -1.1326     -0.0311     -0.6482\n",
    "O     -0.6582     -0.0067      0.1730 \n",
    "C      0.7031      0.0083     -0.1305\n",
    "H      1.2001      0.0363      0.8431\n",
    "H      0.9877      0.8943     -0.7114\n",
    "H      1.0155     -0.8918     -0.6742\n",
    "  \"\"\"\n",
    "# H     -1.1326     -0.0311     -0.6482 <--- this goes with the oxygen\n",
    "\n",
    "\n",
    "formadehyde = \"\"\"\n",
    "C      0.5979      0.0151      0.0688\n",
    "H      1.0686     -0.1411      1.0408\n",
    "H      1.2687      0.2002     -0.7717\n",
    "O     -0.5960     -0.0151     -0.0686\n",
    "  \"\"\"\n",
    "\n",
    "water = \"\"\"\n",
    "O          0.00000        0.00000        0.1653507\n",
    "H          0.00000        0.7493682     -0.4424329\n",
    "H          0.00000       -0.7493682     -0.4424329\n",
    "    \"\"\"\n",
    "\n",
    "fci_values = {\"formaldehyde\": -113.58371577461213}\n",
    "\n",
    "options = {}\n",
    "options['geometry'] = formadehyde\n",
    "options['basis'] = 'STO-6G' # basis set \n",
    "options['low_level'] = 'b3lyp' # level of theory of the environment \n",
    "options['high_level'] = 'mp2' # level of theory of the embedded system\n",
    "options['n_active_atoms'] = 1 # number of active atoms (first n atoms in the geometry string)\n",
    "options['low_level_reference'] = 'rhf'\n",
    "options['high_level_reference'] = 'rhf'\n",
    "options['package'] = 'pyscf'\n",
    "\n",
    "keywords = fill_defaults(options)\n",
    "\n",
    "e_psiembed = run_closed_shell(keywords)"
   ],
   "outputs": [
    {
     "output_type": "stream",
     "name": "stdout",
     "text": [
      "self._mean_field.e_tot=-113.98941276984024\n"
     ]
    },
    {
     "output_type": "stream",
     "name": "stderr",
     "text": [
      "/home/mwilliams/anaconda3/envs/mres/lib//python3.8/site-packages/pyscf/gto/mole.py:1089: UserWarning: Function mol.dumps drops attribute _nelectron because it is not JSON-serializable\n",
      "  warnings.warn(msg)\n"
     ]
    },
    {
     "output_type": "stream",
     "name": "stdout",
     "text": [
      "self._mean_field.e_tot=-23.850116599197108\n",
      "E with embedded density=-83.31980678770248\n",
      "e_env=-89.64348125052614, two_e_cross=27.95802652086829, correction=-0.0787606543745909, embed.nre=31.457821265154372\n",
      "Final energy=-113.62620090658054\n",
      "Final energy: -113.62620090658054\n",
      "e_act_emb=-83.31980678770248, e_env=-89.64348125052614, two_e_cross=27.95802652086829, embed.nre=31.457821265154372, correction=-0.0787606543745909\n",
      "e_total=-113.71842790495496\n"
     ]
    }
   ],
   "metadata": {}
  },
  {
   "cell_type": "markdown",
   "source": [
    "# 1. Low-level whole system calculation\n",
    "\n",
    "The first step is to run a mean field caluclation of the whole system.\n",
    "\n",
    "The Embed class and its subclasses have a method to do this which also sets the following properties:\n",
    "    Exchange correlation potentials (v_xc_total if embedding potential is not set, or alpha/beta_v_xc_total)\n",
    "    "
   ],
   "metadata": {}
  },
  {
   "cell_type": "code",
   "execution_count": 45,
   "source": [
    "from pyscf import gto, scf, cc, ao2mo, fci\n",
    "\n",
    "mol = gto.Mole(atom=keywords['geometry'], basis=keywords['basis'], charge=0).build()\n",
    "\n",
    "ks = scf.RKS(mol)\n",
    "ks.conv_tol = keywords[\"e_convergence\"]\n",
    "ks.xc = keywords[\"low_level\"]\n",
    "e_initial = ks.kernel()\n",
    "\n",
    "# Store the initial value of h core as this is needed later,\n",
    "# but is overwritten\n",
    "\n",
    "initial_h_core = ks.get_hcore()\n",
    "\n",
    "mol_copy = copy(mol)"
   ],
   "outputs": [
    {
     "output_type": "stream",
     "name": "stdout",
     "text": [
      "converged SCF energy = -113.98941276984\n"
     ]
    }
   ],
   "metadata": {}
  },
  {
   "cell_type": "code",
   "execution_count": 46,
   "source": [
    "hf = mol_copy.RHF().run()\n",
    "\n",
    "ref_fci = fci.FCI(hf)\n",
    "fci_result = ref_fci.kernel()\n",
    "\n",
    "expected_energy = fci_result[0]\n",
    "\n",
    "# What units is this in?\n",
    "f\"{expected_energy=}\""
   ],
   "outputs": [
    {
     "output_type": "stream",
     "name": "stdout",
     "text": [
      "converged SCF energy = -113.440118212884\n"
     ]
    },
    {
     "output_type": "execute_result",
     "data": {
      "text/plain": [
       "'expected_energy=-113.58371577461213'"
      ]
     },
     "metadata": {},
     "execution_count": 46
    }
   ],
   "metadata": {}
  },
  {
   "cell_type": "markdown",
   "source": [
    "# 2. Orbital Localisation\n",
    "Find the orbitals of the active space and environment, using SPADE."
   ],
   "metadata": {}
  },
  {
   "cell_type": "code",
   "execution_count": 47,
   "source": [
    "n_occupied_orbitals = np.count_nonzero(ks.mo_occ == 2)\n",
    "occupied_orbitals = ks.mo_coeff[:, :n_occupied_orbitals]\n",
    "\n",
    "n_act_aos = mol.aoslice_by_atom()[keywords['n_active_atoms']-1][-1]\n",
    "ao_overlap = ks.get_ovlp()\n",
    "\n",
    "# Orbital rotation and partition into subsystems A and B\n",
    "#rotation_matrix, sigma = embed.orbital_rotation(occupied_orbitals,\n",
    "#    n_act_aos, ao_overlap)\n",
    "\n",
    "rotated_orbitals = linalg.fractional_matrix_power(ao_overlap, 0.5) @ occupied_orbitals\n",
    "_, sigma, right_vectors = linalg.svd(rotated_orbitals[:n_act_aos, :])\n",
    "\n",
    "#n_act_mos, n_env_mos = embed.orbital_partition(sigma)\n",
    "value_diffs = sigma[1:]-sigma[:-1]\n",
    "n_act_mos = np.argmin(value_diffs) + 1\n",
    "n_env_mos = len(sigma) - n_act_mos\n",
    "\n",
    "# Defining active and environment orbitals and density\n",
    "act_orbitals = occupied_orbitals @ right_vectors.T[:, :n_act_mos]\n",
    "env_orbitals = occupied_orbitals @ right_vectors.T[:, n_act_mos:]\n",
    "act_density = 2.0 * act_orbitals @ act_orbitals.T\n",
    "env_density = 2.0 * env_orbitals @ env_orbitals.T"
   ],
   "outputs": [],
   "metadata": {}
  },
  {
   "cell_type": "markdown",
   "source": [
    "# 3. Calculate the cross subsytem terms"
   ],
   "metadata": {}
  },
  {
   "cell_type": "code",
   "execution_count": 48,
   "source": [
    "# Retrieving the subsytem energy terms and potential matrices\n",
    "\n",
    "# The function called looks like this\n",
    "def closed_shell_subsystem(scf, density):\n",
    "    #It seems that PySCF lumps J and K in the J array \n",
    "    j = scf.get_j(dm = density)\n",
    "    k = np.zeros(np.shape(j))\n",
    "    two_e_term =  scf.get_veff(scf.mol, density)\n",
    "    e_xc = two_e_term.exc\n",
    "    v_xc = two_e_term - j\n",
    "\n",
    "    # Energy\n",
    "    e = np.einsum(\"ij,ij\", density, scf.get_hcore() + j/2) + e_xc\n",
    "    return e, e_xc, j, k, v_xc\n",
    "\n",
    "e_act, e_xc_act, j_act, k_act, v_xc_act = (\n",
    "    closed_shell_subsystem(ks, act_density))\n",
    "e_env, e_xc_env, j_env, k_env, v_xc_env = (\n",
    "    closed_shell_subsystem(ks, env_density))\n",
    "\n",
    "# Computing cross subsystem terms\n",
    "# Note that the matrix dot product is equivalent to the trace.\n",
    "j_cross = 0.5 * (np.einsum(\"ij,ij\",act_density, j_env)\n",
    "        + np.einsum(\"ij,ij\", env_density, j_act))\n",
    "\n",
    "k_cross = 0.0\n",
    "\n",
    "xc_cross = ks.get_veff().exc - e_xc_act - e_xc_env\n",
    "two_e_cross = j_cross + k_cross + xc_cross\n",
    "print(f\"{e_act=},{e_xc_act=}\")#, {j_act=}, {k_act=}, {v_xc_act=}\")\n",
    "f\"{two_e_cross=}, {xc_cross=}\""
   ],
   "outputs": [
    {
     "output_type": "stream",
     "name": "stdout",
     "text": [
      "e_act=-83.76177930533697,e_xc_act=-7.13518677595356\n"
     ]
    },
    {
     "output_type": "execute_result",
     "data": {
      "text/plain": [
       "'two_e_cross=27.95802652086843, xc_cross=-0.5103200619139763'"
      ]
     },
     "metadata": {},
     "execution_count": 48
    }
   ],
   "metadata": {}
  },
  {
   "cell_type": "markdown",
   "source": [
    "# 4. Define $V_{emb}$\n",
    "\n",
    "We can now define the projector used to orthogonalise the Molecular and Atomic orbitals. From this we calculate the embedding potential.\n",
    "\n",
    "$P_{\\alpha, \\beta} = S\\gamma^BS$\n",
    "\n",
    "From this we can now also define the embedding potential.\n",
    "\n",
    "$V_{emb} = g[\\gamma^A, \\gamma^B] - g[\\gamma^A] + \\mu P$"
   ],
   "metadata": {}
  },
  {
   "cell_type": "code",
   "execution_count": 49,
   "source": [
    "# Define the mu-projector\n",
    "print(f\"{keywords['level_shift']=}\")\n",
    "projector = keywords['level_shift'] * (ks.get_ovlp() @ env_density\n",
    "    @ ks.get_ovlp())\n",
    "\n",
    "v_xc_total = ks.get_veff() - ks.get_j()\n",
    "\n",
    "# Defining the embedded core Hamiltonian\n",
    "v_emb = (j_env + v_xc_total - v_xc_act + projector)"
   ],
   "outputs": [
    {
     "output_type": "stream",
     "name": "stdout",
     "text": [
      "keywords['level_shift']=1000000.0\n"
     ]
    }
   ],
   "metadata": {}
  },
  {
   "cell_type": "markdown",
   "source": [
    "# 5 Run HF of full system with $V_{emb}$ to get $\\gamma^A_{emb}$\n",
    "\n",
    "Here, PsiEmbed gives us the option to stop, outputting values for calculation by other means.\n",
    "\n",
    "To continue, we run the mean field method, but with the embedding potentials as calulated.\n",
    "\n",
    "Note we don't need to run a high-level calculation here as that doesn't change the density matrix."
   ],
   "metadata": {}
  },
  {
   "cell_type": "code",
   "execution_count": 50,
   "source": [
    "embedded_scf = scf.RHF(mol)\n",
    "embedded_scf.conv_tol = keywords[\"e_convergence\"]\n",
    "embedded_scf.mol.nelectron = 2*n_act_mos\n",
    "\n",
    "h_core = embedded_scf.get_hcore()\n",
    "\n",
    "embedded_scf.get_hcore = lambda *args, **kwargs: h_core + v_emb\n",
    "\n",
    "embedded_scf.kernel()\n",
    "\n",
    "embedded_occ_orbs = embedded_scf.mo_coeff[:, embedded_scf.mo_occ>0]\n",
    "embedded_density = 2*embedded_occ_orbs @ embedded_occ_orbs.T\n",
    "\n",
    "e_emb = embedded_scf.energy_elec(dm=embedded_density, vhf=embedded_scf.get_veff())[0]\n",
    "\n",
    "print(f\"{e_emb=}\")"
   ],
   "outputs": [
    {
     "output_type": "stream",
     "name": "stdout",
     "text": [
      "converged SCF energy = -23.8501165991854\n",
      "e_emb=-55.30793786433981\n"
     ]
    }
   ],
   "metadata": {}
  },
  {
   "cell_type": "markdown",
   "source": [
    "# 6 Calculate correction term"
   ],
   "metadata": {}
  },
  {
   "cell_type": "code",
   "execution_count": 51,
   "source": [
    "# Compute the correction\n",
    "# - There are two versions used for different embeddings\n",
    "dm_correction = np.einsum(\"ij,ij\", v_emb, embedded_density - act_density)\n",
    "wf_correction = np.einsum(\"ij,ij\", act_density, v_emb)\n",
    "\n",
    "print(f\"{wf_correction=}, {dm_correction=}\")"
   ],
   "outputs": [
    {
     "output_type": "stream",
     "name": "stdout",
     "text": [
      "wf_correction=28.090629577731306, dm_correction=-0.07876065447169367\n"
     ]
    }
   ],
   "metadata": {}
  },
  {
   "cell_type": "markdown",
   "source": [
    "# 7 Calculate $E[\\gamma^A_{emb}]$\n",
    "\n",
    "We calculate the Hartree-fock energy of the embedded region, we then add correlation later."
   ],
   "metadata": {}
  },
  {
   "cell_type": "code",
   "execution_count": 52,
   "source": [
    "from scipy.linalg import LinAlgError\n",
    "\n",
    "embedded_scf.get_hcore = lambda *args, **kwargs: h_core\n",
    "\n",
    "# Can use either of these methods \n",
    "# This needs to change if we're not using PySCFEmbed\n",
    "# The j and k matrices are defined differently in PySCF and Psi4\n",
    "e_act_emb_explicit = np.einsum(\"ij,ij\", embedded_density,  initial_h_core + 0.5 * embedded_scf.get_j() - 0.25 * embedded_scf.get_k())\n",
    "e_act_emb = embedded_scf.energy_elec(dm=embedded_density, vhf=embedded_scf.get_veff())[0]\n",
    "print(f\"E_HF = {e_act_emb}\")\n",
    "print(f\"Difference between HF methods: {e_act_emb - e_act_emb_explicit}\")\n",
    "\n",
    "try:\n",
    "    # Run CCSD as WF method\n",
    "    ccsd = cc.CCSD(embedded_scf)\n",
    "    ccsd.conv_tol = keywords[\"e_convergence\"]\n",
    "\n",
    "    # Set which orbitals are to be frozen\n",
    "    shift = mol.nao - n_env_mos\n",
    "    fos = [i for i in range(shift, mol.nao)]\n",
    "    ccsd.frozen = fos\n",
    "\n",
    "    ccsd.run()\n",
    "    correlation = ccsd.e_corr\n",
    "    e_act_emb += correlation\n",
    "    \n",
    "except LinAlgError:\n",
    "    print(\"Use the HF energy\")\n",
    "    pass\n",
    "\n",
    "f\"{e_act_emb=}\""
   ],
   "outputs": [
    {
     "output_type": "stream",
     "name": "stdout",
     "text": [
      "E_HF = -83.31980678769744\n",
      "Difference between HF methods: 0.0\n",
      "\n",
      "WARN:  diis singular, eigh(h) [-5.32592766e-01 -3.66030222e-13  4.64525244e-14  3.76249407e+00\n",
      "  6.60993310e+01  2.91916502e+03  6.48015693e+03]\n",
      "\n",
      "Use the HF energy\n"
     ]
    },
    {
     "output_type": "execute_result",
     "data": {
      "text/plain": [
       "'e_act_emb=-83.31980678769744'"
      ]
     },
     "metadata": {},
     "execution_count": 52
    }
   ],
   "metadata": {}
  },
  {
   "cell_type": "markdown",
   "source": [
    "# 8 Add all the parts up.\n",
    "\n",
    "e_act_emb : $\\epsilon[\\gamma^A_{emb}]$\n",
    ">energy of the embedded region\n",
    "\n",
    "e_env : $E[\\gamma^B]$ \n",
    ">energy of the environment\n",
    "\n",
    "two_e_cross : $g[\\gamma^A, \\gamma^B]$\n",
    ">non-additive two electron term\n",
    "\n",
    "embed.nre\n",
    ">The Coulomb energy from nuclear repulsion.\n",
    "\n",
    "correction : $tr[(\\gamma^A_{emb} - \\gamma^A)(h^{A in B} - h)]$ (or $tr[\\gamma^A(h^{A in B} - h)]$ )\n",
    "> Correction for embedding"
   ],
   "metadata": {}
  },
  {
   "cell_type": "code",
   "execution_count": 53,
   "source": [
    "e_nuc = mol.energy_nuc()\n",
    "\n",
    "e_mf_emb = e_act_emb + e_env + two_e_cross + dm_correction + e_nuc\n",
    "print(\"Component contributions\")\n",
    "print(f\"{e_act_emb=}, {e_env=}, {two_e_cross=}, {e_nuc=}, {dm_correction=}\\n\")\n",
    "\n",
    "# Print out the final value.\n",
    "print(f\"Full system low-level Energy:\\t{e_initial}\")\n",
    "print(f\"FCI Energy:\\t\\t\\t{expected_energy}\")\n",
    "print(f\"Embedding Energy:\\t\\t{e_mf_emb}\")\n",
    "print(f\"Error:\\t\\t\\t\\t{(expected_energy-e_mf_emb)*100/expected_energy:.2f}%\")\n"
   ],
   "outputs": [
    {
     "output_type": "stream",
     "name": "stdout",
     "text": [
      "Component contributions\n",
      "e_act_emb=-83.31980678769744, e_env=-89.64348125052618, two_e_cross=27.95802652086843, e_nuc=31.457821265154372, dm_correction=-0.07876065447169367\n",
      "\n",
      "Full system low-level Energy:\t-113.98941276984027\n",
      "FCI Energy:\t\t\t-113.58371577461213\n",
      "Embedding Energy:\t\t-113.62620090667252\n",
      "Error:\t\t\t\t-0.04%\n"
     ]
    }
   ],
   "metadata": {}
  }
 ]
}