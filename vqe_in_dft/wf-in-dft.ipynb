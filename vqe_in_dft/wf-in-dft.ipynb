{
 "metadata": {
  "orig_nbformat": 4,
  "kernelspec": {
   "name": "python3",
   "display_name": "Python 3.8.11 64-bit ('mres': conda)"
  },
  "interpreter": {
   "hash": "b2663bb9b5ecd1f9bf47da0bf7d7eb3546bafedcdfede57739a574cc1b52de28"
  },
  "language_info": {
   "name": "python",
   "version": "3.8.11",
   "mimetype": "text/x-python",
   "codemirror_mode": {
    "name": "ipython",
    "version": 3
   },
   "pygments_lexer": "ipython3",
   "nbconvert_exporter": "python",
   "file_extension": ".py"
  }
 },
 "nbformat": 4,
 "nbformat_minor": 2,
 "cells": [
  {
   "cell_type": "markdown",
   "source": [
    "# VQE in DFT with PsiEmbed and Qiskit\n",
    "\n",
    "Here we define the inputs as required by PsiEmbed. Note that we'll follow the logic of `embedding_module/run_open_shell`."
   ],
   "metadata": {}
  },
  {
   "cell_type": "markdown",
   "source": [
    "We can think of this procedure are requiring three steps:\n",
    "\n",
    "1. Pre-embedding\n",
    "\n",
    "    Here we define the problem, and run a low-level calculation of the whole system. From this we obtain the pre-embedded density matrices $\\gamma^A$ and $\\gamma^B$\n",
    "\n",
    "    We then define the level-shift projector $P$ and embedding potential $V_{emb}$.\n",
    "\n",
    "2. Embedding\n",
    "\n",
    "    Using $V_{emb}$ we run a high-level method simulation of the active region to get the embedded density matrix $\\gamma^A_{emb}$.\n",
    "\n",
    "    We calculate the correction term $tr[V_{emb}(\\gamma^A_{emb}-\\gamma^A)]$\n",
    "\n",
    "3. Post-embedding\n",
    "\n",
    "    Finally we calculate the embedded energy, by removing $V_{emb}$ from the Hamiltonian, and using density matrix $\\gamma^A_{emb}$.\n",
    "\n",
    "    The total energy is then given by: $E = E[\\gamma^A_{emb}] + E[\\gamma^B] + g[\\gamma^A, \\gamma^B] + E_{nuclear} + tr[V_{emb}(\\gamma^A_{emb}-\\gamma^A)]$"
   ],
   "metadata": {}
  },
  {
   "cell_type": "markdown",
   "source": [
    "# 0. Set Parameters\n",
    "\n",
    "First we'll set the parameters "
   ],
   "metadata": {}
  },
  {
   "cell_type": "code",
   "execution_count": 95,
   "source": [
    "from copy import copy\n",
    "from typing import Dict\n",
    "from spade import fill_defaults\n",
    "import numpy as np\n",
    "from scipy import linalg\n",
    "from spade.main import driver\n",
    "from spade.embedding_module import run_closed_shell\n",
    "\n",
    "ethylene = \"\"\"\n",
    "H    2.933  -0.150  -9.521\n",
    "H    2.837   1.682  -9.258\n",
    "C    3.402   0.773  -9.252\n",
    "C    4.697   0.791  -8.909\n",
    "H    5.262  -0.118  -8.904\n",
    "H    5.167   1.714  -8.641\n",
    "    \"\"\"\n",
    "\n",
    "methanol = \"\"\"\n",
    "H     -1.1326     -0.0311     -0.6482\n",
    "O     -0.6582     -0.0067      0.1730\n",
    "C      0.7031      0.0083     -0.1305\n",
    "H      1.2001      0.0363      0.8431\n",
    "H      0.9877      0.8943     -0.7114\n",
    "H      1.0155     -0.8918     -0.6742\n",
    "  \"\"\"\n",
    "# H     -1.1326     -0.0311     -0.6482 <--- this goes with the oxygen\n",
    "\n",
    "\n",
    "formaldehyde = \"\"\"\n",
    "C      0.5979      0.0151      0.0688\n",
    "H      1.0686     -0.1411      1.0408\n",
    "H      1.2687      0.2002     -0.7717\n",
    "O     -0.5960     -0.0151     -0.0686\n",
    "  \"\"\"\n",
    "\n",
    "water = \"\"\"\n",
    "O          0.00000        0.00000        0.1653507\n",
    "H          0.00000        0.7493682     -0.4424329\n",
    "H          0.00000       -0.7493682     -0.4424329\n",
    "    \"\"\"\n",
    "\n",
    "# this isn't right but lests just use it to try\n",
    "h_peroxide = \"\"\"\n",
    "O          0.00000        0.00000        0.00000\n",
    "O          1.00000        0.00000        0.00000\n",
    "H          0.00000        0.50000        0.00000\n",
    "H          1.00000       -0.50000        0.00000\n",
    "\"\"\"\n",
    "\n",
    "fci_values = {\"formaldehyde\": -113.58371577461213, \"water\":-75.7315, \"ethylene\": -77.9892, \"methanol\":-114.75641069780156}\n",
    "\n",
    "options = {}\n",
    "options['geometry'] = methanol\n",
    "options['n_active_atoms'] = 2 # number of active atoms (first n atoms in the geometry string)\n",
    "\n",
    "run_fci = False\n",
    "\n",
    "options['basis'] = 'STO-6G' # basis set \n",
    "options['low_level'] = 'b3lyp' # level of theory of the environment \n",
    "options['high_level'] = 'mp2' # level of theory of the embedded system\n",
    "options['low_level_reference'] = 'rhf'\n",
    "options['high_level_reference'] = 'rhf'\n",
    "options['package'] = 'pyscf'\n",
    "\n",
    "keywords = fill_defaults(options)\n",
    "\n",
    "e_psiembed = run_closed_shell(keywords)"
   ],
   "outputs": [
    {
     "output_type": "stream",
     "name": "stdout",
     "text": [
      "self._mean_field.e_tot=-115.20495459653498\n",
      "act_orbitals.shape=(14, 5), env_orbitals.shape=(14, 4)\n",
      "e_act=-111.28951626746014, e_env=-70.94147170893055\n",
      "np.mean(v_emb)=148370.43470733825\n",
      "self._mean_field.e_tot=-43.90415240572301\n",
      "[-2.05168958e+01 -1.27478702e+00 -6.21523739e-01 -4.60410834e-01\n",
      " -4.00767851e-01  5.91922151e-01  6.69598715e-01  6.88470315e-01\n",
      "  7.52171000e-01  7.77063118e-01  1.99999250e+06  1.99999964e+06\n",
      "  1.99999983e+06  1.99999984e+06]\n",
      "E with embedded density=-110.92171919403097\n",
      "e_env=-70.94147170893055, two_e_cross=26.235506472906014, correction=-0.04105229742890515, embed.nre=40.79052690694974\n",
      "E embedded HF=-114.87820982053466\n",
      "e_act_emb=-110.92171919403097, e_env=-70.94147170893055, two_e_cross=26.235506472906014, embed.nre=40.79052690694974, correction=-0.04105229742890515\n",
      "E embedded + correlation=-114.91811834889064\n"
     ]
    },
    {
     "output_type": "stream",
     "name": "stderr",
     "text": [
      "/home/mwilliams/anaconda3/envs/mres/lib//python3.8/site-packages/pyscf/gto/mole.py:1089: UserWarning: Function mol.dumps drops attribute _nelectron because it is not JSON-serializable\n",
      "  warnings.warn(msg)\n"
     ]
    }
   ],
   "metadata": {}
  },
  {
   "cell_type": "markdown",
   "source": [
    "# 1. Low-level whole system calculation\n",
    "\n",
    "The first step is to run a mean field caluclation of the whole system.\n",
    "\n",
    "The Embed class and its subclasses have a method to do this which also sets the following properties:\n",
    "    Exchange correlation potentials (v_xc_total if embedding potential is not set, or alpha/beta_v_xc_total)\n",
    "    "
   ],
   "metadata": {}
  },
  {
   "cell_type": "code",
   "execution_count": 96,
   "source": [
    "from pyscf import gto, scf, cc, ao2mo, fci\n",
    "\n",
    "mol = gto.Mole(atom=keywords['geometry'], basis=keywords['basis'], charge=0).build()\n",
    "\n",
    "ks = scf.RKS(mol)\n",
    "ks.conv_tol = keywords[\"e_convergence\"]\n",
    "ks.xc = keywords[\"low_level\"]\n",
    "e_initial = ks.kernel()\n",
    "\n",
    "# Store the initial value of h core as this is needed later,\n",
    "# but is overwritten\n",
    "\n",
    "initial_h_core = ks.get_hcore()\n",
    "\n",
    "mol_copy = copy(mol)"
   ],
   "outputs": [
    {
     "output_type": "stream",
     "name": "stdout",
     "text": [
      "converged SCF energy = -115.204954596535\n"
     ]
    }
   ],
   "metadata": {}
  },
  {
   "cell_type": "code",
   "execution_count": 97,
   "source": [
    "hf = mol_copy.RHF().run()\n",
    "if run_fci:\n",
    "    ref_fci = fci.FCI(hf)\n",
    "    ref_fci.conv_tol = keywords[\"e_convergence\"]\n",
    "    fci_result = ref_fci.kernel()\n",
    "\n",
    "    # This DOES have nuclear energy included!\n",
    "    expected_energy = fci_result[0]\n",
    "\n",
    "else:\n",
    "    ref_cc = cc.CCSD(hf)\n",
    "    ref_cc.conv_tol = keywords[\"e_convergence\"]\n",
    "    cc_result = ref_cc.kernel()\n",
    "\n",
    "    expected_energy = hf.energy_tot() + cc_result[0]\n",
    "\n",
    "f\"{expected_energy=}\"\n"
   ],
   "outputs": [
    {
     "output_type": "stream",
     "name": "stdout",
     "text": [
      "converged SCF energy = -114.637136539436\n",
      "E(CCSD) = -114.7553789017275  E_corr = -0.1182423622915712\n"
     ]
    },
    {
     "output_type": "execute_result",
     "data": {
      "text/plain": [
       "'expected_energy=-114.75537890172751'"
      ]
     },
     "metadata": {},
     "execution_count": 97
    }
   ],
   "metadata": {}
  },
  {
   "cell_type": "markdown",
   "source": [
    "# 2. Orbital Localisation\n",
    "Find the orbitals of the active space and environment, using SPADE."
   ],
   "metadata": {}
  },
  {
   "cell_type": "code",
   "execution_count": 98,
   "source": [
    "n_occupied_orbitals = np.count_nonzero(ks.mo_occ == 2)\n",
    "occupied_orbitals = ks.mo_coeff[:, :n_occupied_orbitals]\n",
    "\n",
    "n_act_aos = mol.aoslice_by_atom()[keywords['n_active_atoms'] -1][-1]\n",
    "ao_overlap = ks.get_ovlp()\n",
    "\n",
    "# Orbital rotation and partition into subsystems A and B\n",
    "#rotation_matrix, sigma = embed.orbital_rotation(occupied_orbitals,\n",
    "#    n_act_aos, ao_overlap)\n",
    "\n",
    "rotated_orbitals = linalg.fractional_matrix_power(ao_overlap, 0.5) @ occupied_orbitals\n",
    "_, sigma, right_vectors = linalg.svd(rotated_orbitals[:n_act_aos, :])\n",
    "\n",
    "#n_act_mos, n_env_mos = embed.orbital_partition(sigma)\n",
    "value_diffs = sigma[:-1]-sigma[1:]\n",
    "n_act_mos = np.argmax(value_diffs) + 1\n",
    "n_env_mos = n_occupied_orbitals - n_act_mos\n",
    "\n",
    "# Defining active and environment orbitals and density\n",
    "act_orbitals = occupied_orbitals @ right_vectors.T[:, :n_act_mos]\n",
    "env_orbitals = occupied_orbitals @ right_vectors.T[:, n_act_mos:]\n",
    "act_density = 2.0 * act_orbitals @ act_orbitals.T\n",
    "env_density = 2.0 * env_orbitals @ env_orbitals.T\n",
    "\n",
    "print(f\"{n_act_mos=}, {n_env_mos=}\")"
   ],
   "outputs": [
    {
     "output_type": "stream",
     "name": "stdout",
     "text": [
      "n_act_mos=5, n_env_mos=4\n"
     ]
    }
   ],
   "metadata": {}
  },
  {
   "cell_type": "markdown",
   "source": [
    "# 3. Calculate the cross subsytem terms"
   ],
   "metadata": {}
  },
  {
   "cell_type": "code",
   "execution_count": 99,
   "source": [
    "# Retrieving the subsytem energy terms and potential matrices\n",
    "\n",
    "# The function called looks like this\n",
    "def closed_shell_subsystem(scf, density):\n",
    "    #It seems that PySCF lumps J and K in the J array \n",
    "    j = scf.get_j(dm = density)\n",
    "    k = np.zeros(np.shape(j))\n",
    "    two_e_term =  scf.get_veff(scf.mol, density)\n",
    "    e_xc = two_e_term.exc\n",
    "    v_xc = two_e_term - j\n",
    "\n",
    "    # Energy\n",
    "    e = np.einsum(\"ij,ij\", density, scf.get_hcore() + j/2) + e_xc\n",
    "    return e, e_xc, j, k, v_xc\n",
    "\n",
    "e_act, e_xc_act, j_act, k_act, v_xc_act = (\n",
    "    closed_shell_subsystem(ks, act_density))\n",
    "e_env, e_xc_env, j_env, k_env, v_xc_env = (\n",
    "    closed_shell_subsystem(ks, env_density))\n",
    "\n",
    "# Computing cross subsystem terms\n",
    "# Note that the matrix dot product is equivalent to the trace.\n",
    "j_cross = 0.5 * (np.einsum(\"ij,ij\",act_density, j_env)\n",
    "        + np.einsum(\"ij,ij\", env_density, j_act))\n",
    "\n",
    "k_cross = 0.0\n",
    "\n",
    "xc_cross = ks.get_veff().exc - e_xc_act - e_xc_env\n",
    "two_e_cross = j_cross + k_cross + xc_cross\n",
    "print(f\"{e_act=}, {e_env=}, {e_xc_act=}\")#, {j_act=}, {k_act=}, {v_xc_act=}\")\n",
    "f\"{two_e_cross=}, {xc_cross=}\""
   ],
   "outputs": [
    {
     "output_type": "stream",
     "name": "stdout",
     "text": [
      "e_act=-111.28951626746014, e_env=-70.94147170893055, e_xc_act=-9.41552378396172\n"
     ]
    },
    {
     "output_type": "execute_result",
     "data": {
      "text/plain": [
       "'two_e_cross=26.235506472906014, xc_cross=-0.1624293604010596'"
      ]
     },
     "metadata": {},
     "execution_count": 99
    }
   ],
   "metadata": {}
  },
  {
   "cell_type": "markdown",
   "source": [
    "# 4. Define $V_{emb}$\n",
    "\n",
    "We can now define the projector used to orthogonalise the Molecular and Atomic orbitals. From this we calculate the embedding potential.\n",
    "\n",
    "$P_{\\alpha, \\beta} = S\\gamma^BS$\n",
    "\n",
    "From this we can now also define the embedding potential.\n",
    "\n",
    "$V_{emb} = g[\\gamma^A, \\gamma^B] - g[\\gamma^A] + \\mu P$"
   ],
   "metadata": {}
  },
  {
   "cell_type": "code",
   "execution_count": 100,
   "source": [
    "# Define the mu-projector\n",
    "print(f\"{keywords['level_shift']=}\")\n",
    "projector = keywords['level_shift'] * (ks.get_ovlp() @ env_density\n",
    "    @ ks.get_ovlp())\n",
    "\n",
    "v_xc_total = ks.get_veff() - ks.get_j()\n",
    "\n",
    "# Defining the embedded core Hamiltonian\n",
    "v_emb = (j_env + v_xc_total - v_xc_act + projector)\n",
    "\n",
    "print(f\"{np.mean(v_emb)=}\")"
   ],
   "outputs": [
    {
     "output_type": "stream",
     "name": "stdout",
     "text": [
      "keywords['level_shift']=1000000.0\n",
      "np.mean(v_emb)=148370.43470733825\n"
     ]
    }
   ],
   "metadata": {}
  },
  {
   "cell_type": "markdown",
   "source": [
    "# 5 Run HF of full system with $V_{emb}$ to get $\\gamma^A_{emb}$\n",
    "\n",
    "Here, PsiEmbed gives us the option to stop, outputting values for calculation by other means.\n",
    "\n",
    "To continue, we run the mean field method, but with the embedding potentials as calulated.\n",
    "\n",
    "Note we don't need to run a high-level calculation here as that doesn't change the density matrix."
   ],
   "metadata": {}
  },
  {
   "cell_type": "code",
   "execution_count": 101,
   "source": [
    "embedded_scf = scf.RHF(mol)\n",
    "embedded_scf.conv_tol = keywords[\"e_convergence\"]\n",
    "embedded_scf.mol.nelectron = 2*n_act_mos\n",
    "\n",
    "h_core = embedded_scf.get_hcore()\n",
    "\n",
    "embedded_scf.get_hcore = lambda *args, **kwargs: h_core + v_emb\n",
    "\n",
    "embedded_scf.kernel()\n",
    "\n",
    "embedded_occ_orbs = embedded_scf.mo_coeff[:, embedded_scf.mo_occ>0]\n",
    "embedded_density = 2.0 * embedded_occ_orbs @ embedded_occ_orbs.T\n",
    "\n",
    "e_emb = embedded_scf.energy_elec(dm=embedded_density, vhf=embedded_scf.get_veff())[0]\n",
    "\n",
    "print(f\"{e_emb=}\")"
   ],
   "outputs": [
    {
     "output_type": "stream",
     "name": "stdout",
     "text": [
      "converged SCF energy = -43.904152405723\n",
      "e_emb=-84.69467931267275\n"
     ]
    }
   ],
   "metadata": {}
  },
  {
   "cell_type": "markdown",
   "source": [
    "# 6 Calculate correction term"
   ],
   "metadata": {}
  },
  {
   "cell_type": "code",
   "execution_count": 103,
   "source": [
    "# Compute the correction\n",
    "# - There are two versions used for different embeddings\n",
    "dm_correction = np.einsum(\"ij,ij\", v_emb, embedded_density - act_density)\n",
    "wf_correction = np.einsum(\"ij,ij\", act_density, v_emb)\n",
    "\n",
    "print(f\"{wf_correction=}, {dm_correction=}\")"
   ],
   "outputs": [
    {
     "output_type": "stream",
     "name": "stdout",
     "text": [
      "wf_correction=26.268092178739607, dm_correction=-0.04105229742890515\n"
     ]
    }
   ],
   "metadata": {}
  },
  {
   "cell_type": "markdown",
   "source": [
    "# 7 Calculate $E[\\gamma^A_{emb}]$\n",
    "\n",
    "We calculate the Hartree-fock energy of the embedded region, we then add correlation later."
   ],
   "metadata": {}
  },
  {
   "cell_type": "code",
   "execution_count": 104,
   "source": [
    "from scipy.linalg import LinAlgError\n",
    "\n",
    "# Can use either of these methods \n",
    "# This needs to change if we're not using PySCFEmbed\n",
    "# The j and k matrices are defined differently in PySCF and Psi4\n",
    "\n",
    "embedded_scf.get_hcore = lambda *args, **kwargs: h_core + v_emb\n",
    "\n",
    "e_act_emb_explicit = np.einsum(\"ij,ij\", embedded_density,  initial_h_core + 0.5 * embedded_scf.get_j() - 0.25 * embedded_scf.get_k())\n",
    "e_act_emb = embedded_scf.energy_elec(dm=embedded_density, vhf=embedded_scf.get_veff())[0]\n",
    "print(f\"E_HF = {e_act_emb}\")\n",
    "print(f\"Difference between HF methods: {e_act_emb - e_act_emb_explicit}\")\n",
    "\n",
    "try:\n",
    "    # Run CCSD as WF method\n",
    "    ccsd = cc.CCSD(embedded_scf)\n",
    "    ccsd.conv_tol = keywords[\"e_convergence\"]\n",
    "\n",
    "    # Set which orbitals are to be frozen\n",
    "    # The environment orbitals energies have been increased by the projector\n",
    "    # so they are now at the end of the list, as orbitals are ordered by energy\n",
    "    shift = mol.nao - n_env_mos\n",
    "    fos = [i for i in range(shift, mol.nao)]\n",
    "    ccsd.frozen = fos\n",
    "    ccsd.run()\n",
    "    correlation = ccsd.e_corr\n",
    "    e_act_emb += correlation\n",
    "    \n",
    "except LinAlgError as e:\n",
    "    print(e)\n",
    "    print(\"Use the HF energy\")\n",
    "    pass\n",
    "\n",
    "f\"{e_act_emb=}\""
   ],
   "outputs": [
    {
     "output_type": "stream",
     "name": "stdout",
     "text": [
      "E_HF = -84.69467931267275\n",
      "Difference between HF methods: 26.227039881358223\n",
      "E(CCSD) = -43.95750397481409  E_corr = -0.05335156909107713\n"
     ]
    },
    {
     "output_type": "execute_result",
     "data": {
      "text/plain": [
       "'e_act_emb=-84.74803088176382'"
      ]
     },
     "metadata": {},
     "execution_count": 104
    }
   ],
   "metadata": {}
  },
  {
   "cell_type": "code",
   "execution_count": 107,
   "source": [],
   "outputs": [
    {
     "output_type": "execute_result",
     "data": {
      "text/plain": [
       "(14, 14)"
      ]
     },
     "metadata": {},
     "execution_count": 107
    }
   ],
   "metadata": {}
  },
  {
   "cell_type": "code",
   "execution_count": 105,
   "source": [
    "shift = mol.nao - n_env_mos\n",
    "fos = [i for i in range(shift, mol.nao)]"
   ],
   "outputs": [],
   "metadata": {}
  },
  {
   "cell_type": "markdown",
   "source": [
    "# 8 Add all the parts up.\n",
    "\n",
    "e_act_emb : $\\epsilon[\\gamma^A_{emb}]$\n",
    ">energy of the embedded region\n",
    "\n",
    "e_env : $E[\\gamma^B]$ \n",
    ">energy of the environment\n",
    "\n",
    "two_e_cross : $g[\\gamma^A, \\gamma^B]$\n",
    ">non-additive two electron term\n",
    "\n",
    "embed.nre\n",
    ">The Coulomb energy from nuclear repulsion.\n",
    "\n",
    "correction : $tr[(\\gamma^A_{emb} - \\gamma^A)(h^{A in B} - h)]$ (or $tr[\\gamma^A(h^{A in B} - h)]$ )\n",
    "> Correction for embedding"
   ],
   "metadata": {}
  },
  {
   "cell_type": "code",
   "execution_count": 106,
   "source": [
    "e_nuc = mol.energy_nuc()\n",
    "\n",
    "e_mf_emb = e_act_emb + e_env + two_e_cross + e_nuc -wf_correction\n",
    "print(\"Component contributions\")\n",
    "print(f\"{e_act_emb=}, {e_env=}, {two_e_cross=}, {e_nuc=}, {dm_correction=}, {wf_correction=}\\n\")\n",
    "\n",
    "# Print out the final value.\n",
    "print(f\"FCI Energy:\\t\\t{expected_energy}\")\n",
    "print(f\"DFT Energy:\\t\\t{e_initial}\")\n",
    "print(f\"Error:\\t\\t\\t{(expected_energy-e_initial)*100/expected_energy:.2f}%\")\n",
    "print(f\"Embedding Energy:\\t{e_mf_emb}\")\n",
    "print(f\"Error:\\t\\t\\t{(expected_energy-e_mf_emb)*100/expected_energy:.2f}%\")\n"
   ],
   "outputs": [
    {
     "output_type": "stream",
     "name": "stdout",
     "text": [
      "Component contributions\n",
      "e_act_emb=-84.74803088176382, e_env=-70.94147170893055, two_e_cross=26.235506472906014, e_nuc=40.79052690694974, dm_correction=-0.04105229742890515, wf_correction=26.268092178739607\n",
      "\n",
      "FCI Energy:\t\t-114.75537890172751\n",
      "DFT Energy:\t\t-115.20495459653498\n",
      "Error:\t\t\t-0.39%\n",
      "Embedding Energy:\t-114.9315613895782\n",
      "Error:\t\t\t-0.15%\n"
     ]
    }
   ],
   "metadata": {}
  }
 ]
}