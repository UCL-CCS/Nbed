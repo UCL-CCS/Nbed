{
 "cells": [
  {
   "cell_type": "code",
   "execution_count": 1,
   "metadata": {},
   "outputs": [
    {
     "name": "stderr",
     "output_type": "stream",
     "text": [
      "/home/lex/anaconda3/envs/embed/lib/python3.9/site-packages/pyscf/lib/misc.py:46: H5pyDeprecationWarning: Using default_file_mode other than 'r' is deprecated. Pass the mode to h5py.File() instead.\n",
      "  h5py.get_config().default_file_mode = 'a'\n"
     ]
    }
   ],
   "source": [
    "from nbed.driver import NbedDriver\n",
    "from nbed.ham_builder import HamiltonianBuilder\n",
    "from openfermion import get_sparse_operator\n",
    "import scipy as sp\n",
    "from openfermion.utils import count_qubits\n",
    "from tqdm.notebook import tqdm\n",
    "import matplotlib.pyplot as plt\n",
    "import numpy as np\n",
    "import os\n",
    "from nbed.mol_plot import Draw_molecule"
   ]
  },
  {
   "cell_type": "code",
   "execution_count": null,
   "metadata": {},
   "outputs": [],
   "source": []
  },
  {
   "cell_type": "code",
   "execution_count": 2,
   "metadata": {},
   "outputs": [],
   "source": [
    "current_dir = os.getcwd()\n",
    "structure_dir =  os.path.join(current_dir, \"molecular_structures\")"
   ]
  },
  {
   "cell_type": "code",
   "execution_count": 3,
   "metadata": {},
   "outputs": [],
   "source": [
    "filename = 'H4_beta_90_bottom_top_bottom_top_order.xyz'\n",
    "xyz_file_loc = os.path.join(structure_dir, filename)        "
   ]
  },
  {
   "cell_type": "code",
   "execution_count": 4,
   "metadata": {},
   "outputs": [
    {
     "data": {
      "application/3dmoljs_load.v0": "<div id=\"3dmolviewer_840588390019787\"  style=\"position: relative; width: 400px; height: 400px\">\n        <p id=\"3dmolwarning_840588390019787\" style=\"background-color:#ffcccc;color:black\">You appear to be running in JupyterLab (or JavaScript failed to load for some other reason).  You need to install the 3dmol extension: <br>\n        <tt>jupyter labextension install jupyterlab_3dmol</tt></p>\n        </div>\n<script>\n\nvar loadScriptAsync = function(uri){\n  return new Promise((resolve, reject) => {\n    var tag = document.createElement('script');\n    tag.src = uri;\n    tag.async = true;\n    tag.onload = () => {\n      resolve();\n    };\n  var firstScriptTag = document.getElementsByTagName('script')[0];\n  firstScriptTag.parentNode.insertBefore(tag, firstScriptTag);\n});\n};\n\nif(typeof $3Dmolpromise === 'undefined') {\n$3Dmolpromise = null;\n  $3Dmolpromise = loadScriptAsync('https://3dmol.org/build/3Dmol.js');\n}\n\nvar viewer_840588390019787 = null;\nvar warn = document.getElementById(\"3dmolwarning_840588390019787\");\nif(warn) {\n    warn.parentNode.removeChild(warn);\n}\n$3Dmolpromise.then(function() {\nviewer_840588390019787 = $3Dmol.createViewer($(\"#3dmolviewer_840588390019787\"),{backgroundColor:\"white\"});\nviewer_840588390019787.addModel(\"4\\n \\nH\\t0.0\\t0.0\\t0.0\\nH\\t2.45366053071732\\t2.45366053071732\\t0.0\\nH\\t2.45366053071732\\t0.0\\t0.0\\nH\\t0.0\\t2.45366053071732\\t0.0\\n\");\nviewer_840588390019787.setStyle({\"sphere\": {\"radius\": 0.2}});\nviewer_840588390019787.zoomTo();\n\tviewer_840588390019787.zoomTo();\nviewer_840588390019787.render();\n});\n</script>",
      "text/html": [
       "<div id=\"3dmolviewer_840588390019787\"  style=\"position: relative; width: 400px; height: 400px\">\n",
       "        <p id=\"3dmolwarning_840588390019787\" style=\"background-color:#ffcccc;color:black\">You appear to be running in JupyterLab (or JavaScript failed to load for some other reason).  You need to install the 3dmol extension: <br>\n",
       "        <tt>jupyter labextension install jupyterlab_3dmol</tt></p>\n",
       "        </div>\n",
       "<script>\n",
       "\n",
       "var loadScriptAsync = function(uri){\n",
       "  return new Promise((resolve, reject) => {\n",
       "    var tag = document.createElement('script');\n",
       "    tag.src = uri;\n",
       "    tag.async = true;\n",
       "    tag.onload = () => {\n",
       "      resolve();\n",
       "    };\n",
       "  var firstScriptTag = document.getElementsByTagName('script')[0];\n",
       "  firstScriptTag.parentNode.insertBefore(tag, firstScriptTag);\n",
       "});\n",
       "};\n",
       "\n",
       "if(typeof $3Dmolpromise === 'undefined') {\n",
       "$3Dmolpromise = null;\n",
       "  $3Dmolpromise = loadScriptAsync('https://3dmol.org/build/3Dmol.js');\n",
       "}\n",
       "\n",
       "var viewer_840588390019787 = null;\n",
       "var warn = document.getElementById(\"3dmolwarning_840588390019787\");\n",
       "if(warn) {\n",
       "    warn.parentNode.removeChild(warn);\n",
       "}\n",
       "$3Dmolpromise.then(function() {\n",
       "viewer_840588390019787 = $3Dmol.createViewer($(\"#3dmolviewer_840588390019787\"),{backgroundColor:\"white\"});\n",
       "viewer_840588390019787.addModel(\"4\\n \\nH\\t0.0\\t0.0\\t0.0\\nH\\t2.45366053071732\\t2.45366053071732\\t0.0\\nH\\t2.45366053071732\\t0.0\\t0.0\\nH\\t0.0\\t2.45366053071732\\t0.0\\n\");\n",
       "viewer_840588390019787.setStyle({\"sphere\": {\"radius\": 0.2}});\n",
       "viewer_840588390019787.zoomTo();\n",
       "\tviewer_840588390019787.zoomTo();\n",
       "viewer_840588390019787.render();\n",
       "});\n",
       "</script>"
      ]
     },
     "metadata": {},
     "output_type": "display_data"
    }
   ],
   "source": [
    "with open(xyz_file_loc, 'r') as infile:\n",
    "    xyz = infile.read()\n",
    "\n",
    "mol_viewer = Draw_molecule(xyz)\n",
    "mol_viewer.show()"
   ]
  },
  {
   "cell_type": "code",
   "execution_count": null,
   "metadata": {},
   "outputs": [],
   "source": []
  },
  {
   "cell_type": "code",
   "execution_count": 5,
   "metadata": {},
   "outputs": [],
   "source": [
    "basis = 'STO-3G'#'3-21G' #'STO-3G'\n",
    "xc_functional = 'B3LYP'\n",
    "convergence = 1e-6\n",
    "charge = 0\n",
    "mu_level_shift=1e6\n",
    "run_ccsd_emb = False\n",
    "run_fci_emb = True\n",
    "max_ram_memory = 8_000\n",
    "pyscf_print_level = 1\n",
    "unit = 'angstrom'\n",
    "\n",
    "occupied_threshold = 0.95\n",
    "virtual_threshold = 0.95\n",
    "\n",
    "max_hf_cycles=10_000\n",
    "max_dft_cycles = 10_000\n",
    "\n",
    "transform = 'jordan_wigner'"
   ]
  },
  {
   "cell_type": "code",
   "execution_count": 6,
   "metadata": {},
   "outputs": [],
   "source": [
    "# n_active_atoms = 1\n",
    "localization = 'ibo' #spade, ibo\n",
    "\n",
    "projector = 'both' #'both', 'huzinaga', 'mu'\n",
    "init_huzinaga_rhf_with_mu = False"
   ]
  },
  {
   "cell_type": "code",
   "execution_count": null,
   "metadata": {},
   "outputs": [],
   "source": []
  },
  {
   "cell_type": "code",
   "execution_count": 7,
   "metadata": {},
   "outputs": [],
   "source": [
    "def get_hamiltonian_from_driver(rhf_pyscf, energy_shift, qubit_transform):\n",
    "    # n_qubits = 2*rhf_pyscf.mol.nao\n",
    "    qham = HamiltonianBuilder(\n",
    "                            scf_method=rhf_pyscf,\n",
    "                            constant_e_shift=energy_shift,\n",
    "                            transform=qubit_transform,\n",
    "                            ).build(n_qubits=None, taper=False)\n",
    "    return qham"
   ]
  },
  {
   "cell_type": "code",
   "execution_count": null,
   "metadata": {},
   "outputs": [],
   "source": []
  },
  {
   "cell_type": "code",
   "execution_count": 8,
   "metadata": {},
   "outputs": [
    {
     "data": {
      "application/vnd.jupyter.widget-view+json": {
       "model_id": "a9f68f7433a44999a2996e93c0bc28fe",
       "version_major": 2,
       "version_minor": 0
      },
      "text/plain": [
       "  0%|          | 0/3 [00:00<?, ?it/s]"
      ]
     },
     "metadata": {},
     "output_type": "display_data"
    },
    {
     "name": "stdout",
     "output_type": "stream",
     "text": [
      " Iterative localization: IB/P4/2x2, 1 iter; Final gradient 2.57e-09\n"
     ]
    },
    {
     "name": "stderr",
     "output_type": "stream",
     "text": [
      "WARNING:nbed.localizers.pyscf:no active AOs - forcing one to be active\n"
     ]
    },
    {
     "name": "stdout",
     "output_type": "stream",
     "text": [
      "active system %: 0.4994282247496591 \n",
      "\n",
      "***\n",
      "[0]\n",
      "[4.99428225e-01 4.10404938e-04]\n",
      "-1.692360936881828\n",
      "***\n",
      "\n",
      " Iterative localization: IB/P4/2x2, 1 iter; Final gradient 1.65e-16\n"
     ]
    },
    {
     "name": "stderr",
     "output_type": "stream",
     "text": [
      "WARNING:nbed.localizers.pyscf:no active AOs - forcing one to be active\n"
     ]
    },
    {
     "name": "stdout",
     "output_type": "stream",
     "text": [
      "active system %: 0.5000000283791667 \n",
      "\n",
      "***\n",
      "[0]\n",
      "[0.50000003 0.49999998]\n",
      "-1.6923609861407911\n",
      "***\n",
      "\n",
      " Iterative localization: IB/P4/2x2, 1 iter; Final gradient 7.09e-11\n",
      "***\n",
      "[0]\n",
      "[0.99959624 0.50092416]\n",
      "-1.6923603005355665\n",
      "***\n",
      "\n"
     ]
    }
   ],
   "source": [
    "global_dft_list=[]\n",
    "global_fci_list=[]\n",
    "global_H_diag_list=[]\n",
    "global_qubit_H_length_list=[]\n",
    "global_qubit_H_nqubits=[]\n",
    "\n",
    "huz_rhf_list=[]\n",
    "# huz_ccsd_list=[]\n",
    "huz_fci_list=[]\n",
    "huz_H_diag_list=[]\n",
    "huz_qubit_H_length_list=[]\n",
    "huz_H_nqubits=[]\n",
    "\n",
    "mu_rhf_list=[]\n",
    "# mu_ccsd_list=[]\n",
    "mu_fci_list=[]\n",
    "mu_H_diag_list=[]\n",
    "mu_qubit_H_length_list=[]\n",
    "mu_H_nqubits=[]\n",
    "N_active_AOs = []\n",
    "\n",
    "for n_active in tqdm(range(1,4)):\n",
    "    driver = NbedDriver(\n",
    "            geometry=xyz_file_loc, # <-- fixed\n",
    "            n_active_atoms=n_active, # <-- changing!\n",
    "            basis=basis,\n",
    "            xc_functional=xc_functional,\n",
    "            projector=projector,\n",
    "            localization=localization,\n",
    "            convergence=convergence,\n",
    "            charge=charge,\n",
    "            mu_level_shift=mu_level_shift,\n",
    "            run_ccsd_emb=run_ccsd_emb,\n",
    "            run_fci_emb=run_fci_emb,\n",
    "            max_ram_memory=max_ram_memory,\n",
    "            pyscf_print_level=pyscf_print_level,\n",
    "            unit=unit,\n",
    "            occupied_threshold=occupied_threshold,\n",
    "            virtual_threshold=virtual_threshold,\n",
    "            max_hf_cycles=max_hf_cycles,\n",
    "            max_dft_cycles=max_dft_cycles,\n",
    "            _init_huzinaga_rhf_with_mu = init_huzinaga_rhf_with_mu)\n",
    "\n",
    "    \n",
    "    print('***')\n",
    "    print(driver.localized_system.active_MO_inds)\n",
    "    print(driver.localized_system.enviro_selection_condition)\n",
    "    print(driver._global_rks.e_tot)\n",
    "    print('***')\n",
    "    print()\n",
    "    \n",
    "    ## global\n",
    "    global_dft_list.append(driver._global_rks.e_tot)\n",
    "    global_fci_list.append(driver._global_fci.e_tot)\n",
    "    \n",
    "    global_qubit_Ham = get_hamiltonian_from_driver(driver._global_hf,\n",
    "                                           driver._global_hf.energy_nuc(), \n",
    "                                           transform)\n",
    "    \n",
    "    global_H_sparse = get_sparse_operator(global_qubit_Ham)\n",
    "    E_fci =  sp.sparse.linalg.eigsh(global_H_sparse, k=1, which='SA')[0][0] \n",
    "    global_H_diag_list.append(E_fci)\n",
    "\n",
    "    global_qubit_H_length_list.append(len(global_qubit_Ham.terms))\n",
    "    global_qubit_H_nqubits.append(count_qubits(global_qubit_Ham))\n",
    "\n",
    "    ##\n",
    "    N_active_AOs.append(len(driver.localized_system.active_MO_inds))\n",
    "    \n",
    "    # HUZ\n",
    "    huz_rhf_list.append(driver._huzinaga['e_rhf'])\n",
    "#     huz_ccsd_list.append(driver._huzinaga['e_ccsd'])\n",
    "    huz_fci_list.append(driver._huzinaga['e_fci'])\n",
    "\n",
    "    huz_classical = driver._huzinaga['classical_energy']\n",
    "    huz_qubit_Ham = get_hamiltonian_from_driver(driver._huzinaga[\"scf\"],\n",
    "                                        huz_classical, #+ driver._huzinaga[\"scf\"].energy_nuc(), \n",
    "                                        transform)\n",
    "    \n",
    "    huz_H_sparse = get_sparse_operator(huz_qubit_Ham)\n",
    "    huz_e_emb = sp.sparse.linalg.eigsh(huz_H_sparse, k=1, which='SA')[0][0]\n",
    "    huz_H_diag_list.append(huz_e_emb)\n",
    "\n",
    "    huz_qubit_H_length_list.append(len(huz_qubit_Ham.terms))\n",
    "    huz_nqubits = count_qubits(huz_qubit_Ham)\n",
    "    huz_H_nqubits.append(huz_nqubits)\n",
    "\n",
    "    # mu shift\n",
    "    mu_rhf_list.append(driver._mu['e_rhf'])\n",
    "#     mu_ccsd_list.append(driver._mu['e_ccsd'])\n",
    "    mu_fci_list.append(driver._mu['e_fci'])\n",
    "    \n",
    "    mu_classical = driver._mu['classical_energy']\n",
    "    mu_qubit_Ham = get_hamiltonian_from_driver(driver._mu[\"scf\"],\n",
    "                                        mu_classical, #+ driver._mu[\"scf\"].energy_nuc(), \n",
    "                                        transform)\n",
    "    \n",
    "    mu_H_sparse = get_sparse_operator(mu_qubit_Ham)\n",
    "    mu_e_emb = sp.sparse.linalg.eigsh(mu_H_sparse, k=1, which='SA')[0][0]\n",
    "    mu_H_diag_list.append(mu_e_emb)\n",
    "    \n",
    "    mu_nqubits = count_qubits(huz_qubit_Ham)\n",
    "    mu_qubit_H_length_list.append(len(mu_qubit_Ham.terms))\n",
    "    mu_H_nqubits.append(mu_nqubits)\n",
    "    \n",
    "    del driver\n",
    "\n"
   ]
  },
  {
   "cell_type": "code",
   "execution_count": null,
   "metadata": {},
   "outputs": [],
   "source": []
  },
  {
   "cell_type": "code",
   "execution_count": 9,
   "metadata": {
    "scrolled": true
   },
   "outputs": [
    {
     "data": {
      "text/html": [
       "<div>\n",
       "<style scoped>\n",
       "    .dataframe tbody tr th:only-of-type {\n",
       "        vertical-align: middle;\n",
       "    }\n",
       "\n",
       "    .dataframe tbody tr th {\n",
       "        vertical-align: top;\n",
       "    }\n",
       "\n",
       "    .dataframe thead th {\n",
       "        text-align: right;\n",
       "    }\n",
       "</style>\n",
       "<table border=\"1\" class=\"dataframe\">\n",
       "  <thead>\n",
       "    <tr style=\"text-align: right;\">\n",
       "      <th></th>\n",
       "      <th>global DFT</th>\n",
       "      <th>global FCI</th>\n",
       "      <th>huz emb FCI</th>\n",
       "      <th>mu emb FCI</th>\n",
       "      <th>global H</th>\n",
       "      <th>huz H emb</th>\n",
       "      <th>mu H emb</th>\n",
       "      <th>global n qubits</th>\n",
       "      <th>huz n qubits</th>\n",
       "      <th>mu n qubits</th>\n",
       "      <th>N active AOs</th>\n",
       "    </tr>\n",
       "  </thead>\n",
       "  <tbody>\n",
       "    <tr>\n",
       "      <th>0</th>\n",
       "      <td>-1.692361</td>\n",
       "      <td>-1.874311</td>\n",
       "      <td>-1.782202</td>\n",
       "      <td>-1.782202</td>\n",
       "      <td>105</td>\n",
       "      <td>118</td>\n",
       "      <td>118</td>\n",
       "      <td>8</td>\n",
       "      <td>6</td>\n",
       "      <td>6</td>\n",
       "      <td>1</td>\n",
       "    </tr>\n",
       "    <tr>\n",
       "      <th>1</th>\n",
       "      <td>-1.692361</td>\n",
       "      <td>-1.874311</td>\n",
       "      <td>-1.782223</td>\n",
       "      <td>-1.782223</td>\n",
       "      <td>105</td>\n",
       "      <td>70</td>\n",
       "      <td>62</td>\n",
       "      <td>8</td>\n",
       "      <td>6</td>\n",
       "      <td>6</td>\n",
       "      <td>1</td>\n",
       "    </tr>\n",
       "    <tr>\n",
       "      <th>2</th>\n",
       "      <td>-1.692360</td>\n",
       "      <td>-1.874311</td>\n",
       "      <td>-1.782226</td>\n",
       "      <td>-1.782226</td>\n",
       "      <td>105</td>\n",
       "      <td>118</td>\n",
       "      <td>118</td>\n",
       "      <td>8</td>\n",
       "      <td>6</td>\n",
       "      <td>6</td>\n",
       "      <td>1</td>\n",
       "    </tr>\n",
       "  </tbody>\n",
       "</table>\n",
       "</div>"
      ],
      "text/plain": [
       "   global DFT  global FCI  huz emb FCI  mu emb FCI  global H  huz H emb  \\\n",
       "0   -1.692361   -1.874311    -1.782202   -1.782202       105        118   \n",
       "1   -1.692361   -1.874311    -1.782223   -1.782223       105         70   \n",
       "2   -1.692360   -1.874311    -1.782226   -1.782226       105        118   \n",
       "\n",
       "   mu H emb  global n qubits   huz n qubits   mu n qubits   N active AOs   \n",
       "0       118                 8              6             6              1  \n",
       "1        62                 8              6             6              1  \n",
       "2       118                 8              6             6              1  "
      ]
     },
     "execution_count": 9,
     "metadata": {},
     "output_type": "execute_result"
    }
   ],
   "source": [
    "import pandas as pd\n",
    "exp_data = {\n",
    "    'global DFT': global_dft_list, \n",
    "    \n",
    "    'global FCI': global_fci_list,\n",
    "    'huz emb FCI': huz_H_diag_list,\n",
    "    'mu emb FCI': mu_H_diag_list,\n",
    "    \n",
    "    'global H': global_qubit_H_length_list,\n",
    "    'huz H emb': huz_qubit_H_length_list,\n",
    "    'mu H emb': mu_qubit_H_length_list,\n",
    "    \n",
    "    'global n qubits ': global_qubit_H_nqubits,\n",
    "    'huz n qubits ': huz_H_nqubits,\n",
    "    'mu n qubits ': mu_H_nqubits,\n",
    "    'N active AOs ': N_active_AOs,\n",
    "    \n",
    "}\n",
    "\n",
    "df = pd.DataFrame(data=exp_data)\n",
    "\n",
    "df"
   ]
  },
  {
   "cell_type": "code",
   "execution_count": null,
   "metadata": {},
   "outputs": [],
   "source": [
    "# note this goes from 1 active to 3 active (not 0-2!)"
   ]
  },
  {
   "cell_type": "code",
   "execution_count": null,
   "metadata": {},
   "outputs": [],
   "source": []
  },
  {
   "cell_type": "code",
   "execution_count": 11,
   "metadata": {},
   "outputs": [
    {
     "data": {
      "image/png": "[encoded data removed]",
      "text/plain": [
       "<Figure size 432x288 with 1 Axes>"
      ]
     },
     "metadata": {
      "needs_background": "light"
     },
     "output_type": "display_data"
    }
   ],
   "source": [
    "%matplotlib inline\n",
    "\n",
    "act_atoms = list(range(1,4))\n",
    "\n",
    "plt.plot(act_atoms, global_dft_list, label='global DFT', color='b')\n",
    "plt.plot(act_atoms, global_fci_list, label='global FCI', color='orange')\n",
    "plt.plot(act_atoms, huz_H_diag_list, label='huz emb', linestyle='dashed', marker='o', color='g')\n",
    "plt.plot(act_atoms, mu_H_diag_list, label='mu emb', linestyle='-', marker='x', color='r')\n",
    "\n",
    "plt.xlabel('active atoms')\n",
    "plt.ylabel('energy (Ha)')\n",
    "\n",
    "plt.xticks(act_atoms)\n",
    "\n",
    "plt.grid(True)\n",
    "# plt.savefig(\"test.png\")\n",
    "plt.legend()\n",
    "plt.show()"
   ]
  },
  {
   "cell_type": "code",
   "execution_count": 13,
   "metadata": {},
   "outputs": [
    {
     "data": {
      "image/png": "[encoded data removed]",
      "text/plain": [
       "<Figure size 432x288 with 1 Axes>"
      ]
     },
     "metadata": {
      "needs_background": "light"
     },
     "output_type": "display_data"
    }
   ],
   "source": [
    "%matplotlib inline\n",
    "\n",
    "act_atoms = list(range(1,4))\n",
    "\n",
    "plt.plot(act_atoms, np.array(global_dft_list) - np.array(global_fci_list), label='global DFT', color='b')\n",
    "plt.plot(act_atoms, np.array(huz_H_diag_list) - np.array(global_fci_list), label='huz emb', linestyle='dashed', marker='o', color='g')\n",
    "plt.plot(act_atoms, np.array(mu_H_diag_list) - np.array(global_fci_list), label='mu emb', linestyle='-', marker='x', color='r')\n",
    "\n",
    "plt.xlabel('active atoms')\n",
    "plt.ylabel('error energy (Ha)')\n",
    "\n",
    "plt.xticks(act_atoms)\n",
    "\n",
    "plt.grid(True)\n",
    "# plt.savefig(\"test.png\")\n",
    "plt.legend()\n",
    "plt.show()"
   ]
  },
  {
   "cell_type": "code",
   "execution_count": null,
   "metadata": {},
   "outputs": [],
   "source": []
  }
 ],
 "metadata": {
  "kernelspec": {
   "display_name": "Python 3 (ipykernel)",
   "language": "python",
   "name": "python3"
  },
  "language_info": {
   "codemirror_mode": {
    "name": "ipython",
    "version": 3
   },
   "file_extension": ".py",
   "mimetype": "text/x-python",
   "name": "python",
   "nbconvert_exporter": "python",
   "pygments_lexer": "ipython3",
   "version": "3.9.7"
  }
 },
 "nbformat": 4,
 "nbformat_minor": 4
}
