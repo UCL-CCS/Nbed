{
 "cells": [
  {
   "cell_type": "code",
   "execution_count": 1,
   "metadata": {},
   "outputs": [
    {
     "name": "stderr",
     "output_type": "stream",
     "text": [
      "/Users/lex/anaconda3/envs/embed/lib/python3.9/site-packages/pyscf/lib/misc.py:46: H5pyDeprecationWarning: Using default_file_mode other than 'r' is deprecated. Pass the mode to h5py.File() instead.\n",
      "  h5py.get_config().default_file_mode = 'a'\n"
     ]
    }
   ],
   "source": [
    "from nbed.driver import NbedDriver\n",
    "from nbed.ham_converter import HamiltonianConverter\n",
    "from openfermion import get_sparse_operator\n",
    "import scipy as sp\n",
    "from openfermion.utils import count_qubits\n",
    "from tqdm.notebook import tqdm\n",
    "import matplotlib.pyplot as plt\n",
    "import numpy as np\n",
    "import os\n",
    "from nbed.mol_plot import Draw_molecule"
   ]
  },
  {
   "cell_type": "code",
   "execution_count": null,
   "metadata": {},
   "outputs": [],
   "source": []
  },
  {
   "cell_type": "code",
   "execution_count": 2,
   "metadata": {},
   "outputs": [],
   "source": [
    "localization = 'spade'\n",
    "n_active_atoms = 1"
   ]
  },
  {
   "cell_type": "code",
   "execution_count": null,
   "metadata": {},
   "outputs": [],
   "source": []
  },
  {
   "cell_type": "code",
   "execution_count": 3,
   "metadata": {},
   "outputs": [],
   "source": [
    "current_dir = os.getcwd()\n",
    "structure_dir =  os.path.join(current_dir, \"molecular_structures\")"
   ]
  },
  {
   "cell_type": "code",
   "execution_count": 4,
   "metadata": {},
   "outputs": [
    {
     "data": {
      "text/plain": [
       "['H4_beta_85_bottom_bottom_top_top_order.xyz',\n",
       " 'H4_beta_85_bottom_top_bottom_top_order.xyz',\n",
       " 'H4_beta_86_bottom_bottom_top_top_order.xyz',\n",
       " 'H4_beta_86_bottom_top_bottom_top_order.xyz',\n",
       " 'H4_beta_87_bottom_bottom_top_top_order.xyz',\n",
       " 'H4_beta_87_bottom_top_bottom_top_order.xyz',\n",
       " 'H4_beta_88_bottom_bottom_top_top_order.xyz',\n",
       " 'H4_beta_88_bottom_top_bottom_top_order.xyz',\n",
       " 'H4_beta_89_bottom_bottom_top_top_order.xyz',\n",
       " 'H4_beta_89_bottom_top_bottom_top_order.xyz',\n",
       " 'H4_beta_90_bottom_bottom_top_top_order.xyz',\n",
       " 'H4_beta_90_bottom_top_bottom_top_order.xyz',\n",
       " 'H4_beta_91_bottom_bottom_top_top_order.xyz',\n",
       " 'H4_beta_91_bottom_top_bottom_top_order.xyz',\n",
       " 'H4_beta_92_bottom_bottom_top_top_order.xyz',\n",
       " 'H4_beta_92_bottom_top_bottom_top_order.xyz',\n",
       " 'H4_beta_93_bottom_bottom_top_top_order.xyz',\n",
       " 'H4_beta_93_bottom_top_bottom_top_order.xyz',\n",
       " 'H4_beta_94_bottom_bottom_top_top_order.xyz',\n",
       " 'H4_beta_94_bottom_top_bottom_top_order.xyz',\n",
       " 'H4_beta_95_bottom_bottom_top_top_order.xyz',\n",
       " 'H4_beta_95_bottom_top_bottom_top_order.xyz']"
      ]
     },
     "execution_count": 4,
     "metadata": {},
     "output_type": "execute_result"
    }
   ],
   "source": [
    "all_xyz_files = sorted(os.listdir(structure_dir))\n",
    "all_xyz_files"
   ]
  },
  {
   "cell_type": "code",
   "execution_count": 5,
   "metadata": {},
   "outputs": [],
   "source": [
    "ending = 'bottom_top_bottom_top_order.xyz'\n",
    "\n",
    "bottom_top_bottom_top_file_paths = []\n",
    "for xyz_filename in sorted(os.listdir(structure_dir)):\n",
    "    if  xyz_filename.endswith(ending):\n",
    "        bottom_top_bottom_top_file_paths.append(os.path.join(structure_dir, xyz_filename))"
   ]
  },
  {
   "cell_type": "code",
   "execution_count": 6,
   "metadata": {},
   "outputs": [
    {
     "name": "stdout",
     "output_type": "stream",
     "text": [
      "molecule:  H4_beta_90_bottom_top_bottom_top_order.xyz\n"
     ]
    },
    {
     "data": {
      "application/3dmoljs_load.v0": "<div id=\"3dmolviewer_4102814507\"  style=\"position: relative; width: 400px; height: 400px\">\n        <p id=\"3dmolwarning_4102814507\" style=\"background-color:#ffcccc;color:black\">You appear to be running in JupyterLab (or JavaScript failed to load for some other reason).  You need to install the 3dmol extension: <br>\n        <tt>jupyter labextension install jupyterlab_3dmol</tt></p>\n        </div>\n<script>\n\nvar loadScriptAsync = function(uri){\n  return new Promise((resolve, reject) => {\n    var tag = document.createElement('script');\n    tag.src = uri;\n    tag.async = true;\n    tag.onload = () => {\n      resolve();\n    };\n  var firstScriptTag = document.getElementsByTagName('script')[0];\n  firstScriptTag.parentNode.insertBefore(tag, firstScriptTag);\n});\n};\n\nif(typeof $3Dmolpromise === 'undefined') {\n$3Dmolpromise = null;\n  $3Dmolpromise = loadScriptAsync('https://3dmol.org/build/3Dmol.js');\n}\n\nvar viewer_4102814507 = null;\nvar warn = document.getElementById(\"3dmolwarning_4102814507\");\nif(warn) {\n    warn.parentNode.removeChild(warn);\n}\n$3Dmolpromise.then(function() {\nviewer_4102814507 = $3Dmol.createViewer($(\"#3dmolviewer_4102814507\"),{backgroundColor:\"white\"});\nviewer_4102814507.addModel(\"4\\n \\nH\\t2.45366053071732\\t2.45366053071732\\t0.0\\nH\\t0.0\\t0.0\\t0.0\\nH\\t2.45366053071732\\t0.0\\t0.0\\nH\\t0.0\\t2.45366053071732\\t0.0\\n\");\nviewer_4102814507.setStyle({\"sphere\": {\"radius\": 0.2}});\nviewer_4102814507.zoomTo();\n\tviewer_4102814507.zoomTo();\nviewer_4102814507.render();\n});\n</script>",
      "text/html": [
       "<div id=\"3dmolviewer_4102814507\"  style=\"position: relative; width: 400px; height: 400px\">\n",
       "        <p id=\"3dmolwarning_4102814507\" style=\"background-color:#ffcccc;color:black\">You appear to be running in JupyterLab (or JavaScript failed to load for some other reason).  You need to install the 3dmol extension: <br>\n",
       "        <tt>jupyter labextension install jupyterlab_3dmol</tt></p>\n",
       "        </div>\n",
       "<script>\n",
       "\n",
       "var loadScriptAsync = function(uri){\n",
       "  return new Promise((resolve, reject) => {\n",
       "    var tag = document.createElement('script');\n",
       "    tag.src = uri;\n",
       "    tag.async = true;\n",
       "    tag.onload = () => {\n",
       "      resolve();\n",
       "    };\n",
       "  var firstScriptTag = document.getElementsByTagName('script')[0];\n",
       "  firstScriptTag.parentNode.insertBefore(tag, firstScriptTag);\n",
       "});\n",
       "};\n",
       "\n",
       "if(typeof $3Dmolpromise === 'undefined') {\n",
       "$3Dmolpromise = null;\n",
       "  $3Dmolpromise = loadScriptAsync('https://3dmol.org/build/3Dmol.js');\n",
       "}\n",
       "\n",
       "var viewer_4102814507 = null;\n",
       "var warn = document.getElementById(\"3dmolwarning_4102814507\");\n",
       "if(warn) {\n",
       "    warn.parentNode.removeChild(warn);\n",
       "}\n",
       "$3Dmolpromise.then(function() {\n",
       "viewer_4102814507 = $3Dmol.createViewer($(\"#3dmolviewer_4102814507\"),{backgroundColor:\"white\"});\n",
       "viewer_4102814507.addModel(\"4\\n \\nH\\t2.45366053071732\\t2.45366053071732\\t0.0\\nH\\t0.0\\t0.0\\t0.0\\nH\\t2.45366053071732\\t0.0\\t0.0\\nH\\t0.0\\t2.45366053071732\\t0.0\\n\");\n",
       "viewer_4102814507.setStyle({\"sphere\": {\"radius\": 0.2}});\n",
       "viewer_4102814507.zoomTo();\n",
       "\tviewer_4102814507.zoomTo();\n",
       "viewer_4102814507.render();\n",
       "});\n",
       "</script>"
      ]
     },
     "metadata": {},
     "output_type": "display_data"
    }
   ],
   "source": [
    "file_index = 5\n",
    "with open(bottom_top_bottom_top_file_paths[file_index], 'r') as infile:\n",
    "    xyz = infile.read()\n",
    "\n",
    "print('molecule: ', bottom_top_bottom_top_file_paths[file_index][-42:])\n",
    "mol_viewer = Draw_molecule(xyz)\n",
    "mol_viewer.show()"
   ]
  },
  {
   "cell_type": "code",
   "execution_count": 7,
   "metadata": {},
   "outputs": [],
   "source": [
    "def coords_as_numpy_array(xyz_str):\n",
    "    n_atoms = int(xyz_str[:xyz_str.find('\\n')])\n",
    "    coord_array = np.zeros((n_atoms, 3))\n",
    "    \n",
    "    for ind, xyz_line in enumerate(xyz_str[4:-1].split('\\n')):\n",
    "        xyz_array = np.array([float(xyz) for xyz in xyz_line.split('\\t')[1:]])\n",
    "        coord_array[ind, :] = xyz_array\n",
    "        \n",
    "    return coord_array\n",
    "\n",
    "with open(bottom_top_bottom_top_file_paths[0], 'r') as infile:\n",
    "    xyz1 = infile.read()\n",
    "with open(bottom_top_bottom_top_file_paths[int(len(bottom_top_bottom_top_file_paths)/2)], 'r') as infile:\n",
    "    xyz2 = infile.read()\n",
    "with open(bottom_top_bottom_top_file_paths[-1], 'r') as infile:\n",
    "    xyz3 = infile.read()\n",
    "\n",
    "\n",
    "numpy_xyz1 = coords_as_numpy_array(xyz1)\n",
    "numpy_xyz2 = coords_as_numpy_array(xyz2)\n",
    "numpy_xyz3 = coords_as_numpy_array(xyz3)"
   ]
  },
  {
   "cell_type": "code",
   "execution_count": null,
   "metadata": {},
   "outputs": [],
   "source": []
  },
  {
   "cell_type": "code",
   "execution_count": 8,
   "metadata": {},
   "outputs": [
    {
     "name": "stdout",
     "output_type": "stream",
     "text": [
      "H4_beta_85_bottom_top_bottom_top_order.xyz\n",
      "H4_beta_90_bottom_top_bottom_top_order.xyz\n",
      "H4_beta_95_bottom_top_bottom_top_order.xyz\n"
     ]
    }
   ],
   "source": [
    "print(bottom_top_bottom_top_file_paths[0][-42:])\n",
    "print(bottom_top_bottom_top_file_paths[int(len(bottom_top_bottom_top_file_paths)/2)][-42:])\n",
    "print(bottom_top_bottom_top_file_paths[-1][-42:])"
   ]
  },
  {
   "cell_type": "code",
   "execution_count": 74,
   "metadata": {},
   "outputs": [
    {
     "data": {
      "image/png": "[encoded data removed]",
      "text/plain": [
       "<Figure size 432x288 with 1 Axes>"
      ]
     },
     "metadata": {
      "needs_background": "light"
     },
     "output_type": "display_data"
    }
   ],
   "source": [
    "# active part is top right \n",
    "\n",
    "plt.scatter(numpy_xyz1[:n_active_atoms,0], numpy_xyz1[:n_active_atoms,1], label='first step (85 degrees) active', marker='x', color='b')\n",
    "plt.scatter(numpy_xyz1[n_active_atoms:,0], numpy_xyz1[n_active_atoms:,1], label='first step (85 degrees)', marker='s', color='b')\n",
    "\n",
    "plt.scatter(numpy_xyz2[:n_active_atoms,0], numpy_xyz2[:n_active_atoms,1], label='middle step (90 degrees) active', marker='x', color='g')\n",
    "plt.scatter(numpy_xyz2[n_active_atoms:,0], numpy_xyz2[n_active_atoms:,1], label='middle step (90 degrees)', marker='d', color='g')\n",
    "\n",
    "plt.scatter(numpy_xyz3[:n_active_atoms,0], numpy_xyz3[:n_active_atoms,1], label='last step (95 degrees active)', marker='x', color='r')\n",
    "plt.scatter(numpy_xyz3[n_active_atoms:,0], numpy_xyz3[n_active_atoms:,1], label='last step (95 degrees)', marker='^', color='r')\n",
    "\n",
    "plt.legend()\n",
    "plt.show()"
   ]
  },
  {
   "cell_type": "code",
   "execution_count": null,
   "metadata": {},
   "outputs": [],
   "source": []
  },
  {
   "cell_type": "code",
   "execution_count": 10,
   "metadata": {},
   "outputs": [],
   "source": [
    "basis = 'STO-3G'\n",
    "xc_functional = 'B3LYP'\n",
    "projector = 'both'\n",
    "convergence = 1e-6\n",
    "charge = 0\n",
    "mu_level_shift=1e6\n",
    "run_ccsd_emb = True\n",
    "run_fci_emb = True\n",
    "max_ram_memory = 8_000\n",
    "pyscf_print_level = 1\n",
    "unit = 'angstrom'\n",
    "occupied_threshold = 0.95\n",
    "virtual_threshold = 0.95"
   ]
  },
  {
   "cell_type": "code",
   "execution_count": 11,
   "metadata": {},
   "outputs": [],
   "source": [
    "# geometry =  bottom_top_bottom_top_file_paths[0]\n",
    "\n",
    "# driver = NbedDriver(\n",
    "#         geometry=geometry,\n",
    "#         n_active_atoms=n_active_atoms,\n",
    "#         basis=basis,\n",
    "#         xc_functional=xc_functional,\n",
    "#         projector=projector,\n",
    "#         localization=localization,\n",
    "#         convergence=convergence,\n",
    "#         charge=charge,\n",
    "#         mu_level_shift=mu_level_shift,\n",
    "#         run_ccsd_emb=run_ccsd_emb,\n",
    "#         run_fci_emb=run_fci_emb,\n",
    "#         max_ram_memory=max_ram_memory,\n",
    "#         pyscf_print_level=pyscf_print_level,\n",
    "#         unit=unit,\n",
    "#         occupied_threshold=occupied_threshold,\n",
    "#         virtual_threshold=virtual_threshold,\n",
    "#     )\n",
    "\n",
    "# ## global\n",
    "# global_dft = driver._global_rks.e_tot\n",
    "# global_fci = driver._global_fci.e_tot\n",
    "# global_H = driver.full_system_hamiltonian\n",
    "# global_H_sparse = get_sparse_operator(global_H)\n",
    "# E_fci =  sp.sparse.linalg.eigsh(global_H_sparse, k=1, which='SA')[0][0] + driver._global_hf.energy_nuc()\n",
    "# global_qubit_Ham = getattr( HamiltonianConverter(global_H, transform='jordan_wigner'), 'openfermion')\n",
    "# global_nqubits = count_qubits(global_qubit_Ham)\n",
    "\n",
    "# # HUZ\n",
    "# huz_RHF = driver._huzinaga['e_rhf']\n",
    "# huz_ccsd = driver._huzinaga['e_ccsd']\n",
    "# huz_fci = driver._huzinaga['e_fci']\n",
    "# huz_H_emb = driver._huzinaga['hamiltonian']\n",
    "# huz_classical = driver._huzinaga['classical_energy']\n",
    "# huz_H_sparse = get_sparse_operator(huz_H_emb)\n",
    "# huz_e_emb = sp.sparse.linalg.eigsh(huz_H_sparse, k=1, which='SA')[0][0]\n",
    "# huz_qubit_Ham = getattr( HamiltonianConverter(huz_H_emb, transform='jordan_wigner'), 'openfermion')\n",
    "# huz_nqubits = count_qubits(huz_qubit_Ham)\n",
    "\n",
    "# # mu shift\n",
    "# mu_RHF = driver._mu['e_rhf']\n",
    "# mu_ccsd = driver._mu['e_ccsd']\n",
    "# mu_fci = driver._mu['e_fci']\n",
    "# mu_H_emb = driver._mu['hamiltonian']\n",
    "# mu_classical = driver._mu['classical_energy']\n",
    "# mu_H_sparse = get_sparse_operator(mu_H_emb)\n",
    "# mu_e_emb = sp.sparse.linalg.eigsh(mu_H_sparse, k=1, which='SA')[0][0]\n",
    "# mu_qubit_Ham = getattr( HamiltonianConverter(mu_H_emb, transform='jordan_wigner'), 'openfermion')\n",
    "# mu_nqubits = count_qubits(huz_qubit_Ham)"
   ]
  },
  {
   "cell_type": "code",
   "execution_count": null,
   "metadata": {},
   "outputs": [],
   "source": []
  },
  {
   "cell_type": "code",
   "execution_count": 12,
   "metadata": {},
   "outputs": [
    {
     "data": {
      "application/vnd.jupyter.widget-view+json": {
       "model_id": "2365345489824152929fe304bb226bde",
       "version_major": 2,
       "version_minor": 0
      },
      "text/plain": [
       "  0%|          | 0/11 [00:00<?, ?it/s]"
      ]
     },
     "metadata": {},
     "output_type": "display_data"
    }
   ],
   "source": [
    "global_dft_list=[]\n",
    "global_fci_list=[]\n",
    "global_H_diag_list=[]\n",
    "global_qubit_H_length_list=[]\n",
    "global_qubit_H_nqubits=[]\n",
    "\n",
    "huz_rhf_list=[]\n",
    "huz_ccsd_list=[]\n",
    "huz_fci_list=[]\n",
    "huz_H_diag_list=[]\n",
    "huz_qubit_H_length_list=[]\n",
    "huz_H_nqubits=[]\n",
    "\n",
    "mu_rhf_list=[]\n",
    "mu_ccsd_list=[]\n",
    "mu_fci_list=[]\n",
    "mu_H_diag_list=[]\n",
    "mu_qubit_H_length_list=[]\n",
    "mu_H_nqubits=[]\n",
    "N_active_AOs = []\n",
    "\n",
    "for geometry_path in tqdm(bottom_top_bottom_top_file_paths):\n",
    "    try:\n",
    "        driver = NbedDriver(\n",
    "                geometry=geometry_path,\n",
    "                n_active_atoms=n_active_atoms,\n",
    "                basis=basis,\n",
    "                xc_functional=xc_functional,\n",
    "                projector=projector,\n",
    "                localization=localization,\n",
    "                convergence=convergence,\n",
    "                charge=charge,\n",
    "                mu_level_shift=mu_level_shift,\n",
    "                run_ccsd_emb=run_ccsd_emb,\n",
    "                run_fci_emb=run_fci_emb,\n",
    "                max_ram_memory=max_ram_memory,\n",
    "                pyscf_print_level=pyscf_print_level,\n",
    "                unit=unit,\n",
    "                occupied_threshold=occupied_threshold,\n",
    "                virtual_threshold=virtual_threshold)\n",
    "    except:\n",
    "        print('error for:')\n",
    "        print(geometry_path)\n",
    "        print()\n",
    "        continue\n",
    "\n",
    "    \n",
    "    ## global\n",
    "    global_dft_list.append(driver._global_rks.e_tot)\n",
    "    global_fci_list.append(driver._global_fci.e_tot)\n",
    "    \n",
    "    global_H = driver.full_system_hamiltonian\n",
    "    global_H_sparse = get_sparse_operator(global_H)\n",
    "    E_fci =  sp.sparse.linalg.eigsh(global_H_sparse, k=1, which='SA')[0][0] + driver._global_hf.energy_nuc()\n",
    "    global_H_diag_list.append(E_fci)\n",
    "    \n",
    "    global_qubit_Ham = getattr( HamiltonianConverter(global_H, transform='jordan_wigner'), 'openfermion')\n",
    "    global_qubit_H_length_list.append(len(global_qubit_Ham.terms))\n",
    "    global_qubit_H_nqubits.append(count_qubits(global_qubit_Ham))\n",
    "\n",
    "    ##\n",
    "    N_active_AOs.append(len(driver.localized_system.active_MO_inds))\n",
    "    \n",
    "    # HUZ\n",
    "    huz_rhf_list.append(driver._huzinaga['e_rhf'])\n",
    "    huz_ccsd_list.append(driver._huzinaga['e_ccsd'])\n",
    "    huz_fci_list.append(driver._huzinaga['e_fci'])\n",
    "\n",
    "    huz_H_emb = driver._huzinaga['hamiltonian']\n",
    "    huz_classical = driver._huzinaga['classical_energy']\n",
    "    huz_H_sparse = get_sparse_operator(huz_H_emb)\n",
    "    huz_e_emb = sp.sparse.linalg.eigsh(huz_H_sparse, k=1, which='SA')[0][0]\n",
    "    huz_H_diag_list.append(huz_e_emb)\n",
    "    \n",
    "    huz_qubit_Ham = getattr( HamiltonianConverter(huz_H_emb, transform='jordan_wigner'), 'openfermion')\n",
    "    huz_qubit_H_length_list.append(len(huz_qubit_Ham.terms))\n",
    "    huz_nqubits = count_qubits(huz_qubit_Ham)\n",
    "    huz_H_nqubits.append(huz_nqubits)\n",
    "\n",
    "    # mu shift\n",
    "    mu_rhf_list.append(driver._mu['e_rhf'])\n",
    "    mu_ccsd_list.append(driver._mu['e_ccsd'])\n",
    "    mu_fci_list.append(driver._mu['e_fci'])\n",
    "    \n",
    "    mu_H_emb = driver._mu['hamiltonian']\n",
    "    mu_classical = driver._mu['classical_energy']\n",
    "    mu_H_sparse = get_sparse_operator(mu_H_emb)\n",
    "    mu_e_emb = sp.sparse.linalg.eigsh(mu_H_sparse, k=1, which='SA')[0][0]\n",
    "    mu_H_diag_list.append(mu_e_emb)\n",
    "    \n",
    "    mu_qubit_Ham = getattr( HamiltonianConverter(mu_H_emb, transform='jordan_wigner'), 'openfermion')\n",
    "    mu_nqubits = count_qubits(huz_qubit_Ham)\n",
    "    mu_qubit_H_length_list.append(len(mu_qubit_Ham.terms))\n",
    "    mu_H_nqubits.append(mu_nqubits)\n",
    "    \n",
    "    del driver"
   ]
  },
  {
   "cell_type": "code",
   "execution_count": null,
   "metadata": {},
   "outputs": [],
   "source": []
  },
  {
   "cell_type": "code",
   "execution_count": 13,
   "metadata": {},
   "outputs": [
    {
     "data": {
      "text/html": [
       "<div>\n",
       "<style scoped>\n",
       "    .dataframe tbody tr th:only-of-type {\n",
       "        vertical-align: middle;\n",
       "    }\n",
       "\n",
       "    .dataframe tbody tr th {\n",
       "        vertical-align: top;\n",
       "    }\n",
       "\n",
       "    .dataframe thead th {\n",
       "        text-align: right;\n",
       "    }\n",
       "</style>\n",
       "<table border=\"1\" class=\"dataframe\">\n",
       "  <thead>\n",
       "    <tr style=\"text-align: right;\">\n",
       "      <th></th>\n",
       "      <th>global DFT</th>\n",
       "      <th>global FCI</th>\n",
       "      <th>huz emb FCI</th>\n",
       "      <th>mu emb FCI</th>\n",
       "      <th>global H</th>\n",
       "      <th>huz H emb</th>\n",
       "      <th>mu H emb</th>\n",
       "      <th>global n qubits</th>\n",
       "      <th>huz n qubits</th>\n",
       "      <th>mu n qubits</th>\n",
       "      <th>N active AOs</th>\n",
       "    </tr>\n",
       "  </thead>\n",
       "  <tbody>\n",
       "    <tr>\n",
       "      <th>0</th>\n",
       "      <td>-1.713780</td>\n",
       "      <td>-1.875969</td>\n",
       "      <td>-1.758755</td>\n",
       "      <td>-1.794499</td>\n",
       "      <td>97</td>\n",
       "      <td>62</td>\n",
       "      <td>62</td>\n",
       "      <td>8</td>\n",
       "      <td>6</td>\n",
       "      <td>6</td>\n",
       "      <td>1</td>\n",
       "    </tr>\n",
       "    <tr>\n",
       "      <th>1</th>\n",
       "      <td>-1.709245</td>\n",
       "      <td>-1.875394</td>\n",
       "      <td>-1.753784</td>\n",
       "      <td>-1.791868</td>\n",
       "      <td>97</td>\n",
       "      <td>62</td>\n",
       "      <td>62</td>\n",
       "      <td>8</td>\n",
       "      <td>6</td>\n",
       "      <td>6</td>\n",
       "      <td>1</td>\n",
       "    </tr>\n",
       "    <tr>\n",
       "      <th>2</th>\n",
       "      <td>-1.704842</td>\n",
       "      <td>-1.874932</td>\n",
       "      <td>-1.747948</td>\n",
       "      <td>-1.789331</td>\n",
       "      <td>97</td>\n",
       "      <td>62</td>\n",
       "      <td>62</td>\n",
       "      <td>8</td>\n",
       "      <td>6</td>\n",
       "      <td>6</td>\n",
       "      <td>1</td>\n",
       "    </tr>\n",
       "    <tr>\n",
       "      <th>3</th>\n",
       "      <td>-1.700565</td>\n",
       "      <td>-1.874591</td>\n",
       "      <td>-1.740246</td>\n",
       "      <td>-1.786878</td>\n",
       "      <td>97</td>\n",
       "      <td>62</td>\n",
       "      <td>62</td>\n",
       "      <td>8</td>\n",
       "      <td>6</td>\n",
       "      <td>6</td>\n",
       "      <td>1</td>\n",
       "    </tr>\n",
       "    <tr>\n",
       "      <th>4</th>\n",
       "      <td>-1.696407</td>\n",
       "      <td>-1.874382</td>\n",
       "      <td>-1.729882</td>\n",
       "      <td>-1.784499</td>\n",
       "      <td>97</td>\n",
       "      <td>62</td>\n",
       "      <td>62</td>\n",
       "      <td>8</td>\n",
       "      <td>6</td>\n",
       "      <td>6</td>\n",
       "      <td>1</td>\n",
       "    </tr>\n",
       "    <tr>\n",
       "      <th>5</th>\n",
       "      <td>-1.163195</td>\n",
       "      <td>-1.874311</td>\n",
       "      <td>-2.413015</td>\n",
       "      <td>-1.666903</td>\n",
       "      <td>105</td>\n",
       "      <td>62</td>\n",
       "      <td>70</td>\n",
       "      <td>8</td>\n",
       "      <td>6</td>\n",
       "      <td>6</td>\n",
       "      <td>1</td>\n",
       "    </tr>\n",
       "    <tr>\n",
       "      <th>6</th>\n",
       "      <td>-1.696407</td>\n",
       "      <td>-1.874382</td>\n",
       "      <td>-1.729882</td>\n",
       "      <td>-1.784499</td>\n",
       "      <td>97</td>\n",
       "      <td>62</td>\n",
       "      <td>62</td>\n",
       "      <td>8</td>\n",
       "      <td>6</td>\n",
       "      <td>6</td>\n",
       "      <td>1</td>\n",
       "    </tr>\n",
       "    <tr>\n",
       "      <th>7</th>\n",
       "      <td>-1.700565</td>\n",
       "      <td>-1.874591</td>\n",
       "      <td>-1.740246</td>\n",
       "      <td>-1.786878</td>\n",
       "      <td>97</td>\n",
       "      <td>62</td>\n",
       "      <td>62</td>\n",
       "      <td>8</td>\n",
       "      <td>6</td>\n",
       "      <td>6</td>\n",
       "      <td>1</td>\n",
       "    </tr>\n",
       "    <tr>\n",
       "      <th>8</th>\n",
       "      <td>-1.704842</td>\n",
       "      <td>-1.874932</td>\n",
       "      <td>-1.747948</td>\n",
       "      <td>-1.789331</td>\n",
       "      <td>97</td>\n",
       "      <td>62</td>\n",
       "      <td>62</td>\n",
       "      <td>8</td>\n",
       "      <td>6</td>\n",
       "      <td>6</td>\n",
       "      <td>1</td>\n",
       "    </tr>\n",
       "    <tr>\n",
       "      <th>9</th>\n",
       "      <td>-1.709245</td>\n",
       "      <td>-1.875394</td>\n",
       "      <td>-1.753784</td>\n",
       "      <td>-1.791868</td>\n",
       "      <td>97</td>\n",
       "      <td>62</td>\n",
       "      <td>62</td>\n",
       "      <td>8</td>\n",
       "      <td>6</td>\n",
       "      <td>6</td>\n",
       "      <td>1</td>\n",
       "    </tr>\n",
       "    <tr>\n",
       "      <th>10</th>\n",
       "      <td>-1.713780</td>\n",
       "      <td>-1.875969</td>\n",
       "      <td>-1.758755</td>\n",
       "      <td>-1.794499</td>\n",
       "      <td>97</td>\n",
       "      <td>62</td>\n",
       "      <td>62</td>\n",
       "      <td>8</td>\n",
       "      <td>6</td>\n",
       "      <td>6</td>\n",
       "      <td>1</td>\n",
       "    </tr>\n",
       "  </tbody>\n",
       "</table>\n",
       "</div>"
      ],
      "text/plain": [
       "    global DFT  global FCI  huz emb FCI  mu emb FCI  global H  huz H emb  \\\n",
       "0    -1.713780   -1.875969    -1.758755   -1.794499        97         62   \n",
       "1    -1.709245   -1.875394    -1.753784   -1.791868        97         62   \n",
       "2    -1.704842   -1.874932    -1.747948   -1.789331        97         62   \n",
       "3    -1.700565   -1.874591    -1.740246   -1.786878        97         62   \n",
       "4    -1.696407   -1.874382    -1.729882   -1.784499        97         62   \n",
       "5    -1.163195   -1.874311    -2.413015   -1.666903       105         62   \n",
       "6    -1.696407   -1.874382    -1.729882   -1.784499        97         62   \n",
       "7    -1.700565   -1.874591    -1.740246   -1.786878        97         62   \n",
       "8    -1.704842   -1.874932    -1.747948   -1.789331        97         62   \n",
       "9    -1.709245   -1.875394    -1.753784   -1.791868        97         62   \n",
       "10   -1.713780   -1.875969    -1.758755   -1.794499        97         62   \n",
       "\n",
       "    mu H emb  global n qubits   huz n qubits   mu n qubits   N active AOs   \n",
       "0         62                 8              6             6              1  \n",
       "1         62                 8              6             6              1  \n",
       "2         62                 8              6             6              1  \n",
       "3         62                 8              6             6              1  \n",
       "4         62                 8              6             6              1  \n",
       "5         70                 8              6             6              1  \n",
       "6         62                 8              6             6              1  \n",
       "7         62                 8              6             6              1  \n",
       "8         62                 8              6             6              1  \n",
       "9         62                 8              6             6              1  \n",
       "10        62                 8              6             6              1  "
      ]
     },
     "execution_count": 13,
     "metadata": {},
     "output_type": "execute_result"
    }
   ],
   "source": [
    "import pandas as pd\n",
    "exp_data = {\n",
    "    'global DFT': global_dft_list, \n",
    "    \n",
    "    'global FCI': global_fci_list,\n",
    "    'huz emb FCI': huz_H_diag_list,\n",
    "    'mu emb FCI': mu_H_diag_list,\n",
    "    \n",
    "    'global H': global_qubit_H_length_list,\n",
    "    'huz H emb': huz_qubit_H_length_list,\n",
    "    'mu H emb': mu_qubit_H_length_list,\n",
    "    \n",
    "    'global n qubits ': global_qubit_H_nqubits,\n",
    "    'huz n qubits ': huz_H_nqubits,\n",
    "    'mu n qubits ': mu_H_nqubits,\n",
    "    'N active AOs ': N_active_AOs,\n",
    "    \n",
    "}\n",
    "\n",
    "df = pd.DataFrame(data=exp_data)\n",
    "\n",
    "df"
   ]
  },
  {
   "cell_type": "code",
   "execution_count": null,
   "metadata": {},
   "outputs": [],
   "source": []
  },
  {
   "cell_type": "code",
   "execution_count": null,
   "metadata": {},
   "outputs": [],
   "source": []
  },
  {
   "cell_type": "code",
   "execution_count": 14,
   "metadata": {},
   "outputs": [
    {
     "data": {
      "image/png": "[encoded data removed]",
      "text/plain": [
       "<Figure size 432x288 with 1 Axes>"
      ]
     },
     "metadata": {
      "needs_background": "light"
     },
     "output_type": "display_data"
    }
   ],
   "source": [
    "%matplotlib inline\n",
    "\n",
    "angles = list(range(85,96))\n",
    "# angles = list(range(85,87))\n",
    "\n",
    "plt.plot(angles, global_dft_list, label='global DFT', color='b')\n",
    "plt.plot(angles, global_fci_list, label='global FCI', color='orange')\n",
    "plt.plot(angles, huz_H_diag_list, label='huz emb', linestyle='dashed', marker='o', color='g')\n",
    "plt.plot(angles, mu_H_diag_list, label='mu emb', linestyle='-', marker='x', color='r')\n",
    "\n",
    "plt.xlabel('angle (degrees)')\n",
    "plt.ylabel('energy (Ha)')\n",
    "plt.grid(True)\n",
    "# plt.savefig(\"test.png\")\n",
    "plt.legend()\n",
    "plt.show()"
   ]
  },
  {
   "cell_type": "code",
   "execution_count": 15,
   "metadata": {},
   "outputs": [
    {
     "data": {
      "image/png": "[encoded data removed]",
      "text/plain": [
       "<Figure size 432x288 with 1 Axes>"
      ]
     },
     "metadata": {
      "needs_background": "light"
     },
     "output_type": "display_data"
    }
   ],
   "source": [
    "plt.plot(angles, np.abs(np.array(global_fci_list)-np.array(global_dft_list)), label='error global DFT', color='b')\n",
    "plt.plot(angles, np.abs(np.array(global_fci_list)-np.array(huz_H_diag_list)) , label='error huz emb', linestyle='dashed', marker='o', color='g')\n",
    "plt.plot(angles, np.abs(np.array(global_fci_list)-np.array(mu_H_diag_list)) , label='error mu emb', linestyle='-', marker='x', color='r')\n",
    "\n",
    "plt.xlabel('angle (degrees)')\n",
    "plt.ylabel('energy ERROR (Ha)')\n",
    "plt.grid(True)\n",
    "# plt.savefig(\"test.png\")\n",
    "plt.legend()\n",
    "plt.show()"
   ]
  },
  {
   "cell_type": "code",
   "execution_count": null,
   "metadata": {},
   "outputs": [],
   "source": []
  },
  {
   "cell_type": "code",
   "execution_count": null,
   "metadata": {},
   "outputs": [],
   "source": []
  },
  {
   "cell_type": "code",
   "execution_count": null,
   "metadata": {},
   "outputs": [],
   "source": []
  },
  {
   "cell_type": "code",
   "execution_count": null,
   "metadata": {},
   "outputs": [],
   "source": []
  },
  {
   "cell_type": "code",
   "execution_count": 16,
   "metadata": {},
   "outputs": [],
   "source": [
    "ending = 'bottom_bottom_top_top_order.xyz'\n",
    "\n",
    "bottom_bottom_top_top_file_paths = []\n",
    "for xyz_filename in sorted(os.listdir(structure_dir)):\n",
    "    if  xyz_filename.endswith(ending):\n",
    "        bottom_bottom_top_top_file_paths.append(os.path.join(structure_dir, xyz_filename))"
   ]
  },
  {
   "cell_type": "code",
   "execution_count": 75,
   "metadata": {},
   "outputs": [
    {
     "name": "stdout",
     "output_type": "stream",
     "text": [
      "H4_beta_85_bottom_bottom_top_top_order.xyz\n",
      "H4_beta_90_bottom_bottom_top_top_order.xyz\n",
      "H4_beta_95_bottom_bottom_top_top_order.xyz\n"
     ]
    },
    {
     "data": {
      "image/png": "[encoded data removed]",
      "text/plain": [
       "<Figure size 432x288 with 1 Axes>"
      ]
     },
     "metadata": {
      "needs_background": "light"
     },
     "output_type": "display_data"
    }
   ],
   "source": [
    "# active part is bottom left \n",
    "\n",
    "with open(bottom_bottom_top_top_file_paths[0], 'r') as infile:\n",
    "    xyz1 = infile.read()\n",
    "with open(bottom_bottom_top_top_file_paths[int(len(bottom_bottom_top_top_file_paths)/2)], 'r') as infile:\n",
    "    xyz2 = infile.read()\n",
    "with open(bottom_bottom_top_top_file_paths[-1], 'r') as infile:\n",
    "    xyz3 = infile.read()\n",
    "\n",
    "numpy_xyz1_new = coords_as_numpy_array(xyz1)\n",
    "numpy_xyz2_new = coords_as_numpy_array(xyz2)\n",
    "numpy_xyz3_new = coords_as_numpy_array(xyz3)\n",
    "\n",
    "print(bottom_bottom_top_top_file_paths[0][-42:])\n",
    "print(bottom_bottom_top_top_file_paths[int(len(bottom_top_bottom_top_file_paths)/2)][-42:])\n",
    "print(bottom_bottom_top_top_file_paths[-1][-42:])\n",
    "\n",
    "\n",
    "\n",
    "plt.scatter(numpy_xyz1_new[:n_active_atoms,0], numpy_xyz1_new[:n_active_atoms,1], label='first step (85 degrees) active', marker='x', color='b')\n",
    "plt.scatter(numpy_xyz1_new[n_active_atoms:,0], numpy_xyz1_new[n_active_atoms:,1], label='first step (85 degrees)', marker='s', color='b')\n",
    "\n",
    "plt.scatter(numpy_xyz2_new[:n_active_atoms,0], numpy_xyz2_new[:n_active_atoms,1], label='middle step (90 degrees) active', marker='x', color='g')\n",
    "plt.scatter(numpy_xyz2_new[n_active_atoms:,0], numpy_xyz2_new[n_active_atoms:,1], label='middle step (90 degrees)', marker='d', color='g')\n",
    "\n",
    "plt.scatter(numpy_xyz3_new[:n_active_atoms,0], numpy_xyz3_new[:n_active_atoms,1], label='last step (95 degrees active)', marker='_', color='r', linewidths=4)\n",
    "plt.scatter(numpy_xyz3_new[n_active_atoms:,0], numpy_xyz3_new[n_active_atoms:,1], label='last step (95 degrees)', marker='^', color='r')\n",
    "\n",
    "plt.legend()\n",
    "plt.show()"
   ]
  },
  {
   "cell_type": "code",
   "execution_count": null,
   "metadata": {},
   "outputs": [],
   "source": []
  },
  {
   "cell_type": "code",
   "execution_count": 65,
   "metadata": {},
   "outputs": [
    {
     "data": {
      "text/plain": [
       "array([[0.        , 0.        , 0.        ],\n",
       "       [2.34429802, 0.        , 0.        ],\n",
       "       [2.34429802, 2.55835236, 0.        ],\n",
       "       [0.        , 2.55835236, 0.        ]])"
      ]
     },
     "execution_count": 65,
     "metadata": {},
     "output_type": "execute_result"
    }
   ],
   "source": [
    "numpy_xyz3_new"
   ]
  },
  {
   "cell_type": "code",
   "execution_count": 64,
   "metadata": {},
   "outputs": [
    {
     "data": {
      "text/plain": [
       "[(2.344298020426341, 0.0),\n",
       " (2.344298020426341, 2.5583523587311303),\n",
       " (0.0, 2.5583523587311303)]"
      ]
     },
     "execution_count": 64,
     "metadata": {},
     "output_type": "execute_result"
    }
   ],
   "source": [
    "list(zip(numpy_xyz3_new[n_active_atoms:,0], numpy_xyz3_new[n_active_atoms:,1]))"
   ]
  },
  {
   "cell_type": "code",
   "execution_count": 63,
   "metadata": {},
   "outputs": [
    {
     "data": {
      "text/plain": [
       "(array([2.34429802]), array([2.55835236]))"
      ]
     },
     "execution_count": 63,
     "metadata": {},
     "output_type": "execute_result"
    }
   ],
   "source": [
    "(numpy_xyz3[:n_active_atoms,0], numpy_xyz3[:n_active_atoms,1])\n",
    "\n",
    "# list(zip(numpy_xyz3[n_active_atoms:, 0], numpy_xyz3[n_active_atoms:, 1]))"
   ]
  },
  {
   "cell_type": "code",
   "execution_count": 19,
   "metadata": {},
   "outputs": [
    {
     "data": {
      "application/vnd.jupyter.widget-view+json": {
       "model_id": "5f04aabacfab40628592aef075220b74",
       "version_major": 2,
       "version_minor": 0
      },
      "text/plain": [
       "  0%|          | 0/11 [00:00<?, ?it/s]"
      ]
     },
     "metadata": {},
     "output_type": "display_data"
    }
   ],
   "source": [
    "global_dft_list=[]\n",
    "global_fci_list=[]\n",
    "global_H_diag_list=[]\n",
    "global_qubit_H_length_list=[]\n",
    "global_qubit_H_nqubits=[]\n",
    "\n",
    "huz_rhf_list=[]\n",
    "huz_ccsd_list=[]\n",
    "huz_fci_list=[]\n",
    "huz_H_diag_list=[]\n",
    "huz_qubit_H_length_list=[]\n",
    "huz_H_nqubits=[]\n",
    "\n",
    "mu_rhf_list=[]\n",
    "mu_ccsd_list=[]\n",
    "mu_fci_list=[]\n",
    "mu_H_diag_list=[]\n",
    "mu_qubit_H_length_list=[]\n",
    "mu_H_nqubits=[]\n",
    "N_active_AOs = []\n",
    "\n",
    "for geometry_path in tqdm(bottom_bottom_top_top_file_paths):\n",
    "    try:\n",
    "        driver = NbedDriver(\n",
    "                geometry=geometry_path,\n",
    "                n_active_atoms=n_active_atoms,\n",
    "                basis=basis,\n",
    "                xc_functional=xc_functional,\n",
    "                projector=projector,\n",
    "                localization=localization,\n",
    "                convergence=convergence,\n",
    "                charge=charge,\n",
    "                mu_level_shift=mu_level_shift,\n",
    "                run_ccsd_emb=run_ccsd_emb,\n",
    "                run_fci_emb=run_fci_emb,\n",
    "                max_ram_memory=max_ram_memory,\n",
    "                pyscf_print_level=pyscf_print_level,\n",
    "                unit=unit,\n",
    "                occupied_threshold=occupied_threshold,\n",
    "                virtual_threshold=virtual_threshold)\n",
    "    except:\n",
    "        print('error for:')\n",
    "        print(geometry_path)\n",
    "        print()\n",
    "        continue\n",
    "\n",
    "    \n",
    "    ## global\n",
    "    global_dft_list.append(driver._global_rks.e_tot)\n",
    "    global_fci_list.append(driver._global_fci.e_tot)\n",
    "    \n",
    "    global_H = driver.full_system_hamiltonian\n",
    "    global_H_sparse = get_sparse_operator(global_H)\n",
    "    E_fci =  sp.sparse.linalg.eigsh(global_H_sparse, k=1, which='SA')[0][0] + driver._global_hf.energy_nuc()\n",
    "    global_H_diag_list.append(E_fci)\n",
    "    \n",
    "    global_qubit_Ham = getattr( HamiltonianConverter(global_H, transform='jordan_wigner'), 'openfermion')\n",
    "    global_qubit_H_length_list.append(len(global_qubit_Ham.terms))\n",
    "    global_qubit_H_nqubits.append(count_qubits(global_qubit_Ham))\n",
    "\n",
    "    ##\n",
    "    N_active_AOs.append(len(driver.localized_system.active_MO_inds))\n",
    "    \n",
    "    # HUZ\n",
    "    huz_rhf_list.append(driver._huzinaga['e_rhf'])\n",
    "    huz_ccsd_list.append(driver._huzinaga['e_ccsd'])\n",
    "    huz_fci_list.append(driver._huzinaga['e_fci'])\n",
    "\n",
    "    huz_H_emb = driver._huzinaga['hamiltonian']\n",
    "    huz_classical = driver._huzinaga['classical_energy']\n",
    "    huz_H_sparse = get_sparse_operator(huz_H_emb)\n",
    "    huz_e_emb = sp.sparse.linalg.eigsh(huz_H_sparse, k=1, which='SA')[0][0]\n",
    "    huz_H_diag_list.append(huz_e_emb)\n",
    "    \n",
    "    huz_qubit_Ham = getattr( HamiltonianConverter(huz_H_emb, transform='jordan_wigner'), 'openfermion')\n",
    "    huz_qubit_H_length_list.append(len(huz_qubit_Ham.terms))\n",
    "    huz_nqubits = count_qubits(huz_qubit_Ham)\n",
    "    huz_H_nqubits.append(huz_nqubits)\n",
    "\n",
    "    # mu shift\n",
    "    mu_rhf_list.append(driver._mu['e_rhf'])\n",
    "    mu_ccsd_list.append(driver._mu['e_ccsd'])\n",
    "    mu_fci_list.append(driver._mu['e_fci'])\n",
    "    \n",
    "    mu_H_emb = driver._mu['hamiltonian']\n",
    "    mu_classical = driver._mu['classical_energy']\n",
    "    mu_H_sparse = get_sparse_operator(mu_H_emb)\n",
    "    mu_e_emb = sp.sparse.linalg.eigsh(mu_H_sparse, k=1, which='SA')[0][0]\n",
    "    mu_H_diag_list.append(mu_e_emb)\n",
    "    \n",
    "    mu_qubit_Ham = getattr( HamiltonianConverter(mu_H_emb, transform='jordan_wigner'), 'openfermion')\n",
    "    mu_nqubits = count_qubits(huz_qubit_Ham)\n",
    "    mu_qubit_H_length_list.append(len(mu_qubit_Ham.terms))\n",
    "    mu_H_nqubits.append(mu_nqubits)\n",
    "    \n",
    "    del driver"
   ]
  },
  {
   "cell_type": "code",
   "execution_count": null,
   "metadata": {},
   "outputs": [],
   "source": []
  },
  {
   "cell_type": "code",
   "execution_count": 20,
   "metadata": {},
   "outputs": [
    {
     "data": {
      "text/html": [
       "<div>\n",
       "<style scoped>\n",
       "    .dataframe tbody tr th:only-of-type {\n",
       "        vertical-align: middle;\n",
       "    }\n",
       "\n",
       "    .dataframe tbody tr th {\n",
       "        vertical-align: top;\n",
       "    }\n",
       "\n",
       "    .dataframe thead th {\n",
       "        text-align: right;\n",
       "    }\n",
       "</style>\n",
       "<table border=\"1\" class=\"dataframe\">\n",
       "  <thead>\n",
       "    <tr style=\"text-align: right;\">\n",
       "      <th></th>\n",
       "      <th>global DFT</th>\n",
       "      <th>global FCI</th>\n",
       "      <th>huz emb FCI</th>\n",
       "      <th>mu emb FCI</th>\n",
       "      <th>global H</th>\n",
       "      <th>huz H emb</th>\n",
       "      <th>mu H emb</th>\n",
       "      <th>global n qubits</th>\n",
       "      <th>huz n qubits</th>\n",
       "      <th>mu n qubits</th>\n",
       "      <th>N active AOs</th>\n",
       "    </tr>\n",
       "  </thead>\n",
       "  <tbody>\n",
       "    <tr>\n",
       "      <th>0</th>\n",
       "      <td>-1.713780</td>\n",
       "      <td>-1.875969</td>\n",
       "      <td>-1.758755</td>\n",
       "      <td>-1.794499</td>\n",
       "      <td>97</td>\n",
       "      <td>62</td>\n",
       "      <td>62</td>\n",
       "      <td>8</td>\n",
       "      <td>6</td>\n",
       "      <td>6</td>\n",
       "      <td>1</td>\n",
       "    </tr>\n",
       "    <tr>\n",
       "      <th>1</th>\n",
       "      <td>-1.709245</td>\n",
       "      <td>-1.875394</td>\n",
       "      <td>-1.753784</td>\n",
       "      <td>-1.791868</td>\n",
       "      <td>97</td>\n",
       "      <td>62</td>\n",
       "      <td>62</td>\n",
       "      <td>8</td>\n",
       "      <td>6</td>\n",
       "      <td>6</td>\n",
       "      <td>1</td>\n",
       "    </tr>\n",
       "    <tr>\n",
       "      <th>2</th>\n",
       "      <td>-1.704842</td>\n",
       "      <td>-1.874932</td>\n",
       "      <td>-1.747948</td>\n",
       "      <td>-1.789331</td>\n",
       "      <td>97</td>\n",
       "      <td>62</td>\n",
       "      <td>62</td>\n",
       "      <td>8</td>\n",
       "      <td>6</td>\n",
       "      <td>6</td>\n",
       "      <td>1</td>\n",
       "    </tr>\n",
       "    <tr>\n",
       "      <th>3</th>\n",
       "      <td>-1.700565</td>\n",
       "      <td>-1.874591</td>\n",
       "      <td>-1.740246</td>\n",
       "      <td>-1.786878</td>\n",
       "      <td>97</td>\n",
       "      <td>62</td>\n",
       "      <td>62</td>\n",
       "      <td>8</td>\n",
       "      <td>6</td>\n",
       "      <td>6</td>\n",
       "      <td>1</td>\n",
       "    </tr>\n",
       "    <tr>\n",
       "      <th>4</th>\n",
       "      <td>-1.696407</td>\n",
       "      <td>-1.874382</td>\n",
       "      <td>-1.729882</td>\n",
       "      <td>-1.784499</td>\n",
       "      <td>97</td>\n",
       "      <td>62</td>\n",
       "      <td>62</td>\n",
       "      <td>8</td>\n",
       "      <td>6</td>\n",
       "      <td>6</td>\n",
       "      <td>1</td>\n",
       "    </tr>\n",
       "    <tr>\n",
       "      <th>5</th>\n",
       "      <td>-1.123898</td>\n",
       "      <td>-1.874311</td>\n",
       "      <td>-2.478574</td>\n",
       "      <td>-1.661566</td>\n",
       "      <td>177</td>\n",
       "      <td>62</td>\n",
       "      <td>62</td>\n",
       "      <td>8</td>\n",
       "      <td>6</td>\n",
       "      <td>6</td>\n",
       "      <td>1</td>\n",
       "    </tr>\n",
       "    <tr>\n",
       "      <th>6</th>\n",
       "      <td>-1.696407</td>\n",
       "      <td>-1.874382</td>\n",
       "      <td>-1.729882</td>\n",
       "      <td>-1.784499</td>\n",
       "      <td>97</td>\n",
       "      <td>62</td>\n",
       "      <td>62</td>\n",
       "      <td>8</td>\n",
       "      <td>6</td>\n",
       "      <td>6</td>\n",
       "      <td>1</td>\n",
       "    </tr>\n",
       "    <tr>\n",
       "      <th>7</th>\n",
       "      <td>-1.700565</td>\n",
       "      <td>-1.874591</td>\n",
       "      <td>-1.740246</td>\n",
       "      <td>-1.786878</td>\n",
       "      <td>97</td>\n",
       "      <td>62</td>\n",
       "      <td>62</td>\n",
       "      <td>8</td>\n",
       "      <td>6</td>\n",
       "      <td>6</td>\n",
       "      <td>1</td>\n",
       "    </tr>\n",
       "    <tr>\n",
       "      <th>8</th>\n",
       "      <td>-1.704842</td>\n",
       "      <td>-1.874932</td>\n",
       "      <td>-1.747948</td>\n",
       "      <td>-1.789331</td>\n",
       "      <td>97</td>\n",
       "      <td>62</td>\n",
       "      <td>62</td>\n",
       "      <td>8</td>\n",
       "      <td>6</td>\n",
       "      <td>6</td>\n",
       "      <td>1</td>\n",
       "    </tr>\n",
       "    <tr>\n",
       "      <th>9</th>\n",
       "      <td>-1.709245</td>\n",
       "      <td>-1.875394</td>\n",
       "      <td>-1.753784</td>\n",
       "      <td>-1.791868</td>\n",
       "      <td>97</td>\n",
       "      <td>62</td>\n",
       "      <td>62</td>\n",
       "      <td>8</td>\n",
       "      <td>6</td>\n",
       "      <td>6</td>\n",
       "      <td>1</td>\n",
       "    </tr>\n",
       "    <tr>\n",
       "      <th>10</th>\n",
       "      <td>-1.713780</td>\n",
       "      <td>-1.875969</td>\n",
       "      <td>-1.758755</td>\n",
       "      <td>-1.794499</td>\n",
       "      <td>97</td>\n",
       "      <td>62</td>\n",
       "      <td>62</td>\n",
       "      <td>8</td>\n",
       "      <td>6</td>\n",
       "      <td>6</td>\n",
       "      <td>1</td>\n",
       "    </tr>\n",
       "  </tbody>\n",
       "</table>\n",
       "</div>"
      ],
      "text/plain": [
       "    global DFT  global FCI  huz emb FCI  mu emb FCI  global H  huz H emb  \\\n",
       "0    -1.713780   -1.875969    -1.758755   -1.794499        97         62   \n",
       "1    -1.709245   -1.875394    -1.753784   -1.791868        97         62   \n",
       "2    -1.704842   -1.874932    -1.747948   -1.789331        97         62   \n",
       "3    -1.700565   -1.874591    -1.740246   -1.786878        97         62   \n",
       "4    -1.696407   -1.874382    -1.729882   -1.784499        97         62   \n",
       "5    -1.123898   -1.874311    -2.478574   -1.661566       177         62   \n",
       "6    -1.696407   -1.874382    -1.729882   -1.784499        97         62   \n",
       "7    -1.700565   -1.874591    -1.740246   -1.786878        97         62   \n",
       "8    -1.704842   -1.874932    -1.747948   -1.789331        97         62   \n",
       "9    -1.709245   -1.875394    -1.753784   -1.791868        97         62   \n",
       "10   -1.713780   -1.875969    -1.758755   -1.794499        97         62   \n",
       "\n",
       "    mu H emb  global n qubits   huz n qubits   mu n qubits   N active AOs   \n",
       "0         62                 8              6             6              1  \n",
       "1         62                 8              6             6              1  \n",
       "2         62                 8              6             6              1  \n",
       "3         62                 8              6             6              1  \n",
       "4         62                 8              6             6              1  \n",
       "5         62                 8              6             6              1  \n",
       "6         62                 8              6             6              1  \n",
       "7         62                 8              6             6              1  \n",
       "8         62                 8              6             6              1  \n",
       "9         62                 8              6             6              1  \n",
       "10        62                 8              6             6              1  "
      ]
     },
     "execution_count": 20,
     "metadata": {},
     "output_type": "execute_result"
    }
   ],
   "source": [
    "exp_data = {\n",
    "    'global DFT': global_dft_list, \n",
    "    \n",
    "    'global FCI': global_fci_list,\n",
    "    'huz emb FCI': huz_H_diag_list,\n",
    "    'mu emb FCI': mu_H_diag_list,\n",
    "    \n",
    "    'global H': global_qubit_H_length_list,\n",
    "    'huz H emb': huz_qubit_H_length_list,\n",
    "    'mu H emb': mu_qubit_H_length_list,\n",
    "    \n",
    "    'global n qubits ': global_qubit_H_nqubits,\n",
    "    'huz n qubits ': huz_H_nqubits,\n",
    "    'mu n qubits ': mu_H_nqubits,\n",
    "    'N active AOs ': N_active_AOs,\n",
    "    \n",
    "}\n",
    "\n",
    "df = pd.DataFrame(data=exp_data)\n",
    "\n",
    "df"
   ]
  },
  {
   "cell_type": "code",
   "execution_count": 21,
   "metadata": {},
   "outputs": [
    {
     "data": {
      "image/png": "[encoded data removed]",
      "text/plain": [
       "<Figure size 432x288 with 1 Axes>"
      ]
     },
     "metadata": {
      "needs_background": "light"
     },
     "output_type": "display_data"
    }
   ],
   "source": [
    "%matplotlib inline\n",
    "\n",
    "angles = list(range(85,96))\n",
    "# angles = list(range(85,87))\n",
    "\n",
    "plt.plot(angles, global_dft_list, label='global DFT', color='b')\n",
    "plt.plot(angles, global_fci_list, label='global FCI', color='orange')\n",
    "plt.plot(angles, huz_H_diag_list, label='huz emb', linestyle='dashed', marker='o', color='g')\n",
    "plt.plot(angles, mu_H_diag_list, label='mu emb', linestyle='-', marker='x', color='r')\n",
    "\n",
    "plt.xlabel('angle (degrees)')\n",
    "plt.ylabel('energy (Ha)')\n",
    "plt.grid(True)\n",
    "# plt.savefig(\"test.png\")\n",
    "plt.legend()\n",
    "plt.show()"
   ]
  },
  {
   "cell_type": "code",
   "execution_count": 22,
   "metadata": {},
   "outputs": [
    {
     "data": {
      "image/png": "[encoded data removed]",
      "text/plain": [
       "<Figure size 432x288 with 1 Axes>"
      ]
     },
     "metadata": {
      "needs_background": "light"
     },
     "output_type": "display_data"
    }
   ],
   "source": [
    "plt.plot(angles, np.abs(np.array(global_fci_list)-np.array(global_dft_list)), label='error global DFT', color='b')\n",
    "plt.plot(angles, np.abs(np.array(global_fci_list)-np.array(huz_H_diag_list)) , label='error huz emb', linestyle='dashed', marker='o', color='g')\n",
    "plt.plot(angles, np.abs(np.array(global_fci_list)-np.array(mu_H_diag_list)) , label='error mu emb', linestyle='-', marker='x', color='r')\n",
    "\n",
    "plt.xlabel('angle (degrees)')\n",
    "plt.ylabel('energy ERROR (Ha)')\n",
    "plt.grid(True)\n",
    "# plt.savefig(\"test.png\")\n",
    "plt.legend()\n",
    "plt.show()"
   ]
  },
  {
   "cell_type": "code",
   "execution_count": 23,
   "metadata": {},
   "outputs": [
    {
     "name": "stdout",
     "output_type": "stream",
     "text": [
      "4\n",
      " \n",
      "H\t2.45366053071732\t2.45366053071732\t0.0\n",
      "H\t0.0\t0.0\t0.0\n",
      "H\t2.45366053071732\t0.0\t0.0\n",
      "H\t0.0\t2.45366053071732\t0.0\n",
      "\n"
     ]
    }
   ],
   "source": [
    "print(xyz)"
   ]
  },
  {
   "cell_type": "code",
   "execution_count": 24,
   "metadata": {},
   "outputs": [
    {
     "data": {
      "text/plain": [
       "'4'"
      ]
     },
     "execution_count": 24,
     "metadata": {},
     "output_type": "execute_result"
    }
   ],
   "source": [
    "xyz[:xyz.find('\\n')]"
   ]
  },
  {
   "cell_type": "code",
   "execution_count": null,
   "metadata": {},
   "outputs": [],
   "source": []
  },
  {
   "cell_type": "code",
   "execution_count": null,
   "metadata": {},
   "outputs": [],
   "source": []
  },
  {
   "cell_type": "code",
   "execution_count": null,
   "metadata": {},
   "outputs": [],
   "source": []
  },
  {
   "cell_type": "code",
   "execution_count": 25,
   "metadata": {},
   "outputs": [
    {
     "ename": "SyntaxError",
     "evalue": "invalid syntax (3938793961.py, line 1)",
     "output_type": "error",
     "traceback": [
      "\u001b[0;36m  File \u001b[0;32m\"/var/folders/7l/9g4tmq2s5zg48_szmd8z7qh40000gn/T/ipykernel_5819/3938793961.py\"\u001b[0;36m, line \u001b[0;32m1\u001b[0m\n\u001b[0;31m    np.\u001b[0m\n\u001b[0m       ^\u001b[0m\n\u001b[0;31mSyntaxError\u001b[0m\u001b[0;31m:\u001b[0m invalid syntax\n"
     ]
    }
   ],
   "source": [
    "np.\n",
    "for line in xyz[4:].split('\\n'):\n",
    "    xyz_list = [float(xyz) for xyz in line.split('\\t')[1:]]\n",
    "    print(xyz_list)"
   ]
  },
  {
   "cell_type": "code",
   "execution_count": null,
   "metadata": {},
   "outputs": [],
   "source": []
  }
 ],
 "metadata": {
  "kernelspec": {
   "display_name": "Python 3 (ipykernel)",
   "language": "python",
   "name": "python3"
  },
  "language_info": {
   "codemirror_mode": {
    "name": "ipython",
    "version": 3
   },
   "file_extension": ".py",
   "mimetype": "text/x-python",
   "name": "python",
   "nbconvert_exporter": "python",
   "pygments_lexer": "ipython3",
   "version": "3.9.7"
  }
 },
 "nbformat": 4,
 "nbformat_minor": 4
}
