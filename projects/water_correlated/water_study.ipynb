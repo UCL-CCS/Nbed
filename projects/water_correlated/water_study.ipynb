{
 "cells": [
  {
   "cell_type": "code",
   "execution_count": 1,
   "id": "53d2b6bf",
   "metadata": {},
   "outputs": [
    {
     "name": "stderr",
     "output_type": "stream",
     "text": [
      "/home/lex/anaconda3/envs/embed/lib/python3.9/site-packages/pyscf/lib/misc.py:46: H5pyDeprecationWarning: Using default_file_mode other than 'r' is deprecated. Pass the mode to h5py.File() instead.\n",
      "  h5py.get_config().default_file_mode = 'a'\n"
     ]
    }
   ],
   "source": [
    "from nbed.driver import NbedDriver\n",
    "from nbed.ham_builder import HamiltonianBuilder\n",
    "from openfermion import get_sparse_operator\n",
    "import scipy as sp\n",
    "from openfermion.utils import count_qubits\n",
    "from tqdm.notebook import tqdm\n",
    "import matplotlib.pyplot as plt\n",
    "import numpy as np\n",
    "import os\n",
    "from nbed.mol_plot import Draw_molecule"
   ]
  },
  {
   "cell_type": "code",
   "execution_count": 2,
   "id": "9021e28e",
   "metadata": {},
   "outputs": [],
   "source": [
    "current_dir = os.getcwd()\n",
    "structure_dir =  os.path.join(current_dir, \"molecular_structures\")"
   ]
  },
  {
   "cell_type": "code",
   "execution_count": 3,
   "id": "b20ba3da",
   "metadata": {},
   "outputs": [
    {
     "data": {
      "text/plain": [
       "['H2O_5.xyz',\n",
       " 'H2O_8.xyz',\n",
       " 'H2O_10.xyz',\n",
       " 'H2O_15.xyz',\n",
       " 'H2O_20.xyz',\n",
       " 'H2O_30.xyz',\n",
       " 'H2O_40.xyz',\n",
       " 'H2O_50.xyz']"
      ]
     },
     "execution_count": 3,
     "metadata": {},
     "output_type": "execute_result"
    }
   ],
   "source": [
    "# order by R_length\n",
    "all_xyz_files = sorted(os.listdir(structure_dir), \n",
    "                       key=lambda text: int(text.partition(\"H2O_\")[2].partition(\".xyz\")[0]))\n",
    "all_xyz_files"
   ]
  },
  {
   "cell_type": "code",
   "execution_count": 4,
   "id": "a0f54580",
   "metadata": {},
   "outputs": [
    {
     "data": {
      "text/plain": [
       "['/home/lex/Documents/PhD/Nbed/projects/water_correlated/molecular_structures/H2O_5.xyz',\n",
       " '/home/lex/Documents/PhD/Nbed/projects/water_correlated/molecular_structures/H2O_8.xyz',\n",
       " '/home/lex/Documents/PhD/Nbed/projects/water_correlated/molecular_structures/H2O_10.xyz',\n",
       " '/home/lex/Documents/PhD/Nbed/projects/water_correlated/molecular_structures/H2O_15.xyz',\n",
       " '/home/lex/Documents/PhD/Nbed/projects/water_correlated/molecular_structures/H2O_20.xyz',\n",
       " '/home/lex/Documents/PhD/Nbed/projects/water_correlated/molecular_structures/H2O_30.xyz',\n",
       " '/home/lex/Documents/PhD/Nbed/projects/water_correlated/molecular_structures/H2O_40.xyz',\n",
       " '/home/lex/Documents/PhD/Nbed/projects/water_correlated/molecular_structures/H2O_50.xyz']"
      ]
     },
     "execution_count": 4,
     "metadata": {},
     "output_type": "execute_result"
    }
   ],
   "source": [
    "list_file_paths = []\n",
    "for xyz_filename in all_xyz_files:\n",
    "    list_file_paths.append(os.path.join(structure_dir, xyz_filename))\n",
    "list_file_paths"
   ]
  },
  {
   "cell_type": "code",
   "execution_count": 5,
   "id": "45e1c009",
   "metadata": {},
   "outputs": [],
   "source": [
    "basis = 'STO-3G'\n",
    "xc_functional = 'B3LYP'\n",
    "convergence = 1e-6\n",
    "charge = 0\n",
    "mu_level_shift=1e6\n",
    "run_ccsd_emb = True\n",
    "run_fci_emb = True\n",
    "max_ram_memory = 8_000\n",
    "pyscf_print_level = 1\n",
    "unit = 'angstrom'\n",
    "occupied_threshold = 0.95\n",
    "virtual_threshold = 0.95\n",
    "max_hf_cycles=10_000\n",
    "transform = 'jordan_wigner'"
   ]
  },
  {
   "cell_type": "code",
   "execution_count": 6,
   "id": "36025a35",
   "metadata": {},
   "outputs": [],
   "source": [
    "n_active_atoms = 2\n",
    "localization = 'spade'\n",
    "\n",
    "projector = 'both' #'both', 'huzinaga'\n",
    "init_huzinaga_rhf_with_mu = True"
   ]
  },
  {
   "cell_type": "code",
   "execution_count": 7,
   "id": "3e0de3a1",
   "metadata": {},
   "outputs": [],
   "source": [
    "def get_hamiltonian_from_driver(rhf_pyscf, energy_shift, qubit_transform):\n",
    "    # n_qubits = 2*rhf_pyscf.mol.nao\n",
    "    qham = HamiltonianBuilder(\n",
    "                            scf_method=rhf_pyscf,\n",
    "                            constant_e_shift=energy_shift,\n",
    "                            transform=qubit_transform,\n",
    "                            ).build(n_qubits=None, taper=False)\n",
    "    return qham"
   ]
  },
  {
   "cell_type": "code",
   "execution_count": null,
   "id": "3bffe3a4",
   "metadata": {},
   "outputs": [],
   "source": []
  },
  {
   "cell_type": "code",
   "execution_count": 8,
   "id": "62cdcc13",
   "metadata": {},
   "outputs": [
    {
     "data": {
      "application/vnd.jupyter.widget-view+json": {
       "model_id": "36e819550d8b47b698770f57d48f0c61",
       "version_major": 2,
       "version_minor": 0
      },
      "text/plain": [
       "  0%|          | 0/8 [00:00<?, ?it/s]"
      ]
     },
     "metadata": {},
     "output_type": "display_data"
    },
    {
     "name": "stdout",
     "output_type": "stream",
     "text": [
      " Iterative localization: IB/P4/2x2, 5 iter; Final gradient 3.46e-12\n",
      " Iterative localization: IB/P4/2x2, 6 iter; Final gradient 2.68e-11\n",
      " Iterative localization: IB/P4/2x2, 5 iter; Final gradient 9.75e-09\n",
      " Iterative localization: IB/P4/2x2, 6 iter; Final gradient 2.60e-11\n",
      " Iterative localization: IB/P4/2x2, 6 iter; Final gradient 2.39e-11\n",
      " Iterative localization: IB/P4/2x2, 3 iter; Final gradient 9.67e-09\n",
      " Iterative localization: IB/P4/2x2, 3 iter; Final gradient 5.60e-09\n",
      " Iterative localization: IB/P4/2x2, 3 iter; Final gradient 5.20e-09\n"
     ]
    }
   ],
   "source": [
    "global_dft_list=[]\n",
    "global_fci_list=[]\n",
    "global_H_diag_list=[]\n",
    "global_qubit_H_length_list=[]\n",
    "global_qubit_H_nqubits=[]\n",
    "\n",
    "huz_rhf_list=[]\n",
    "huz_ccsd_list=[]\n",
    "huz_fci_list=[]\n",
    "huz_H_diag_list=[]\n",
    "huz_qubit_H_length_list=[]\n",
    "huz_H_nqubits=[]\n",
    "\n",
    "mu_rhf_list=[]\n",
    "mu_ccsd_list=[]\n",
    "mu_fci_list=[]\n",
    "mu_H_diag_list=[]\n",
    "mu_qubit_H_length_list=[]\n",
    "mu_H_nqubits=[]\n",
    "N_active_AOs = []\n",
    "\n",
    "for geometry_path in tqdm(list_file_paths):\n",
    "#     try:\n",
    "    driver = NbedDriver(\n",
    "            geometry=geometry_path,\n",
    "            n_active_atoms=n_active_atoms,\n",
    "            basis=basis,\n",
    "            xc_functional=xc_functional,\n",
    "            projector=projector,\n",
    "            localization=localization,\n",
    "            convergence=convergence,\n",
    "            charge=charge,\n",
    "            mu_level_shift=mu_level_shift,\n",
    "            run_ccsd_emb=run_ccsd_emb,\n",
    "            run_fci_emb=run_fci_emb,\n",
    "            max_ram_memory=max_ram_memory,\n",
    "            pyscf_print_level=pyscf_print_level,\n",
    "            unit=unit,\n",
    "            occupied_threshold=occupied_threshold,\n",
    "            virtual_threshold=virtual_threshold,\n",
    "            max_hf_cycles=max_hf_cycles,\n",
    "            _init_huzinaga_rhf_with_mu = init_huzinaga_rhf_with_mu)\n",
    "#     except:\n",
    "#         print('error for:')\n",
    "#         print(geometry_path)\n",
    "#         print()\n",
    "#         continue\n",
    "\n",
    "    ## global\n",
    "    global_dft_list.append(driver._global_rks.e_tot)\n",
    "    global_fci_list.append(driver._global_fci.e_tot)\n",
    "    \n",
    "    global_qubit_Ham = get_hamiltonian_from_driver(driver._global_hf,\n",
    "                                           driver._global_hf.energy_nuc(), \n",
    "                                           transform)\n",
    "    \n",
    "    global_H_sparse = get_sparse_operator(global_qubit_Ham)\n",
    "    E_fci =  sp.sparse.linalg.eigsh(global_H_sparse, k=1, which='SA')[0][0] \n",
    "    global_H_diag_list.append(E_fci)\n",
    "\n",
    "    global_qubit_H_length_list.append(len(global_qubit_Ham.terms))\n",
    "    global_qubit_H_nqubits.append(count_qubits(global_qubit_Ham))\n",
    "\n",
    "    ##\n",
    "    N_active_AOs.append(len(driver.localized_system.active_MO_inds))\n",
    "    \n",
    "    # HUZ\n",
    "    huz_rhf_list.append(driver._huzinaga['e_rhf'])\n",
    "    huz_ccsd_list.append(driver._huzinaga['e_ccsd'])\n",
    "    huz_fci_list.append(driver._huzinaga['e_fci'])\n",
    "\n",
    "    huz_classical = driver._huzinaga['classical_energy']\n",
    "    huz_qubit_Ham = get_hamiltonian_from_driver(driver._huzinaga[\"scf\"],\n",
    "                                        huz_classical, #+ driver._huzinaga[\"scf\"].energy_nuc(), \n",
    "                                        transform)\n",
    "    \n",
    "    huz_H_sparse = get_sparse_operator(huz_qubit_Ham)\n",
    "    huz_e_emb = sp.sparse.linalg.eigsh(huz_H_sparse, k=1, which='SA')[0][0]\n",
    "    huz_H_diag_list.append(huz_e_emb)\n",
    "\n",
    "    huz_qubit_H_length_list.append(len(huz_qubit_Ham.terms))\n",
    "    huz_nqubits = count_qubits(huz_qubit_Ham)\n",
    "    huz_H_nqubits.append(huz_nqubits)\n",
    "\n",
    "    # mu shift\n",
    "    mu_rhf_list.append(driver._mu['e_rhf'])\n",
    "    mu_ccsd_list.append(driver._mu['e_ccsd'])\n",
    "    mu_fci_list.append(driver._mu['e_fci'])\n",
    "    \n",
    "    mu_classical = driver._mu['classical_energy']\n",
    "    mu_qubit_Ham = get_hamiltonian_from_driver(driver._mu[\"scf\"],\n",
    "                                        mu_classical, #+ driver._mu[\"scf\"].energy_nuc(), \n",
    "                                        transform)\n",
    "    \n",
    "    mu_H_sparse = get_sparse_operator(mu_qubit_Ham)\n",
    "    mu_e_emb = sp.sparse.linalg.eigsh(mu_H_sparse, k=1, which='SA')[0][0]\n",
    "    mu_H_diag_list.append(mu_e_emb)\n",
    "    \n",
    "    mu_nqubits = count_qubits(huz_qubit_Ham)\n",
    "    mu_qubit_H_length_list.append(len(mu_qubit_Ham.terms))\n",
    "    mu_H_nqubits.append(mu_nqubits)\n",
    "    \n",
    "    del driver\n",
    "\n"
   ]
  },
  {
   "cell_type": "code",
   "execution_count": null,
   "id": "7ece65bf",
   "metadata": {
    "scrolled": true
   },
   "outputs": [],
   "source": []
  },
  {
   "cell_type": "code",
   "execution_count": 9,
   "id": "3a780892",
   "metadata": {},
   "outputs": [
    {
     "data": {
      "text/html": [
       "<div>\n",
       "<style scoped>\n",
       "    .dataframe tbody tr th:only-of-type {\n",
       "        vertical-align: middle;\n",
       "    }\n",
       "\n",
       "    .dataframe tbody tr th {\n",
       "        vertical-align: top;\n",
       "    }\n",
       "\n",
       "    .dataframe thead th {\n",
       "        text-align: right;\n",
       "    }\n",
       "</style>\n",
       "<table border=\"1\" class=\"dataframe\">\n",
       "  <thead>\n",
       "    <tr style=\"text-align: right;\">\n",
       "      <th></th>\n",
       "      <th>global DFT</th>\n",
       "      <th>global FCI</th>\n",
       "      <th>huz emb FCI</th>\n",
       "      <th>mu emb FCI</th>\n",
       "      <th>global H</th>\n",
       "      <th>huz H emb</th>\n",
       "      <th>mu H emb</th>\n",
       "      <th>global n qubits</th>\n",
       "      <th>huz n qubits</th>\n",
       "      <th>mu n qubits</th>\n",
       "      <th>N active AOs</th>\n",
       "    </tr>\n",
       "  </thead>\n",
       "  <tbody>\n",
       "    <tr>\n",
       "      <th>0</th>\n",
       "      <td>-74.277180</td>\n",
       "      <td>-74.000639</td>\n",
       "      <td>-73.967005</td>\n",
       "      <td>-73.967013</td>\n",
       "      <td>2110</td>\n",
       "      <td>492</td>\n",
       "      <td>492</td>\n",
       "      <td>14</td>\n",
       "      <td>10</td>\n",
       "      <td>10</td>\n",
       "      <td>3</td>\n",
       "    </tr>\n",
       "    <tr>\n",
       "      <th>1</th>\n",
       "      <td>-75.122773</td>\n",
       "      <td>-74.851820</td>\n",
       "      <td>-74.853335</td>\n",
       "      <td>-74.853337</td>\n",
       "      <td>2110</td>\n",
       "      <td>1079</td>\n",
       "      <td>1079</td>\n",
       "      <td>14</td>\n",
       "      <td>12</td>\n",
       "      <td>12</td>\n",
       "      <td>4</td>\n",
       "    </tr>\n",
       "    <tr>\n",
       "      <th>2</th>\n",
       "      <td>-75.170068</td>\n",
       "      <td>-74.900658</td>\n",
       "      <td>-74.899540</td>\n",
       "      <td>-74.899543</td>\n",
       "      <td>2110</td>\n",
       "      <td>1079</td>\n",
       "      <td>1079</td>\n",
       "      <td>14</td>\n",
       "      <td>12</td>\n",
       "      <td>12</td>\n",
       "      <td>4</td>\n",
       "    </tr>\n",
       "    <tr>\n",
       "      <th>3</th>\n",
       "      <td>-75.057384</td>\n",
       "      <td>-74.807539</td>\n",
       "      <td>-74.819776</td>\n",
       "      <td>-74.819778</td>\n",
       "      <td>2110</td>\n",
       "      <td>1079</td>\n",
       "      <td>1079</td>\n",
       "      <td>14</td>\n",
       "      <td>12</td>\n",
       "      <td>12</td>\n",
       "      <td>4</td>\n",
       "    </tr>\n",
       "    <tr>\n",
       "      <th>4</th>\n",
       "      <td>-74.962535</td>\n",
       "      <td>-74.776263</td>\n",
       "      <td>-74.798952</td>\n",
       "      <td>-74.798954</td>\n",
       "      <td>2110</td>\n",
       "      <td>1079</td>\n",
       "      <td>1079</td>\n",
       "      <td>14</td>\n",
       "      <td>12</td>\n",
       "      <td>12</td>\n",
       "      <td>4</td>\n",
       "    </tr>\n",
       "    <tr>\n",
       "      <th>5</th>\n",
       "      <td>-74.419925</td>\n",
       "      <td>-74.771686</td>\n",
       "      <td>-74.801649</td>\n",
       "      <td>-74.801651</td>\n",
       "      <td>2338</td>\n",
       "      <td>1651</td>\n",
       "      <td>1643</td>\n",
       "      <td>14</td>\n",
       "      <td>12</td>\n",
       "      <td>12</td>\n",
       "      <td>4</td>\n",
       "    </tr>\n",
       "    <tr>\n",
       "      <th>6</th>\n",
       "      <td>-74.368170</td>\n",
       "      <td>-74.771719</td>\n",
       "      <td>-74.801114</td>\n",
       "      <td>-74.801116</td>\n",
       "      <td>2226</td>\n",
       "      <td>1443</td>\n",
       "      <td>1783</td>\n",
       "      <td>14</td>\n",
       "      <td>12</td>\n",
       "      <td>12</td>\n",
       "      <td>4</td>\n",
       "    </tr>\n",
       "    <tr>\n",
       "      <th>7</th>\n",
       "      <td>-74.342828</td>\n",
       "      <td>-74.771718</td>\n",
       "      <td>-74.801611</td>\n",
       "      <td>-74.801614</td>\n",
       "      <td>3062</td>\n",
       "      <td>1763</td>\n",
       "      <td>1763</td>\n",
       "      <td>14</td>\n",
       "      <td>12</td>\n",
       "      <td>12</td>\n",
       "      <td>4</td>\n",
       "    </tr>\n",
       "  </tbody>\n",
       "</table>\n",
       "</div>"
      ],
      "text/plain": [
       "   global DFT  global FCI  huz emb FCI  mu emb FCI  global H  huz H emb  \\\n",
       "0  -74.277180  -74.000639   -73.967005  -73.967013      2110        492   \n",
       "1  -75.122773  -74.851820   -74.853335  -74.853337      2110       1079   \n",
       "2  -75.170068  -74.900658   -74.899540  -74.899543      2110       1079   \n",
       "3  -75.057384  -74.807539   -74.819776  -74.819778      2110       1079   \n",
       "4  -74.962535  -74.776263   -74.798952  -74.798954      2110       1079   \n",
       "5  -74.419925  -74.771686   -74.801649  -74.801651      2338       1651   \n",
       "6  -74.368170  -74.771719   -74.801114  -74.801116      2226       1443   \n",
       "7  -74.342828  -74.771718   -74.801611  -74.801614      3062       1763   \n",
       "\n",
       "   mu H emb  global n qubits   huz n qubits   mu n qubits   N active AOs   \n",
       "0       492                14             10            10              3  \n",
       "1      1079                14             12            12              4  \n",
       "2      1079                14             12            12              4  \n",
       "3      1079                14             12            12              4  \n",
       "4      1079                14             12            12              4  \n",
       "5      1643                14             12            12              4  \n",
       "6      1783                14             12            12              4  \n",
       "7      1763                14             12            12              4  "
      ]
     },
     "execution_count": 9,
     "metadata": {},
     "output_type": "execute_result"
    }
   ],
   "source": [
    "import pandas as pd\n",
    "exp_data = {\n",
    "    'global DFT': global_dft_list, \n",
    "    \n",
    "    'global FCI': global_fci_list,\n",
    "    'huz emb FCI': huz_H_diag_list,\n",
    "    'mu emb FCI': mu_H_diag_list,\n",
    "    \n",
    "    'global H': global_qubit_H_length_list,\n",
    "    'huz H emb': huz_qubit_H_length_list,\n",
    "    'mu H emb': mu_qubit_H_length_list,\n",
    "    \n",
    "    'global n qubits ': global_qubit_H_nqubits,\n",
    "    'huz n qubits ': huz_H_nqubits,\n",
    "    'mu n qubits ': mu_H_nqubits,\n",
    "    'N active AOs ': N_active_AOs,\n",
    "    \n",
    "}\n",
    "\n",
    "df = pd.DataFrame(data=exp_data)\n",
    "\n",
    "df"
   ]
  },
  {
   "cell_type": "code",
   "execution_count": null,
   "id": "5785764a",
   "metadata": {},
   "outputs": [],
   "source": []
  },
  {
   "cell_type": "code",
   "execution_count": 10,
   "id": "c5439dcb",
   "metadata": {},
   "outputs": [
    {
     "data": {
      "image/png": "[encoded data removed]",
      "text/plain": [
       "<Figure size 432x288 with 1 Axes>"
      ]
     },
     "metadata": {
      "needs_background": "light"
     },
     "output_type": "display_data"
    }
   ],
   "source": [
    "%matplotlib inline\n",
    "\n",
    "R_list = [0.5, 0.8, 1, 1.5, 2, 3, 4, 5]\n",
    "\n",
    "\n",
    "plt.plot(R_list, global_dft_list, label='global DFT', color='b')\n",
    "plt.plot(R_list, global_fci_list, label='global FCI', color='orange')\n",
    "plt.plot(R_list, global_H_diag_list, label='diag global H', linestyle='dashed', color='darkred')\n",
    "plt.plot(R_list, huz_H_diag_list, label='huz emb', linestyle='dashed', marker='o', color='g')\n",
    "plt.plot(R_list, mu_H_diag_list, label='mu emb', linestyle='-', marker='x', color='r')\n",
    "\n",
    "plt.xlabel('OH bond length (angstrom)')\n",
    "plt.ylabel('energy (Ha)')\n",
    "plt.grid(True)\n",
    "plt.legend()\n",
    "plt.savefig(\"test_energy.png\", dpi=300)\n",
    "plt.show()"
   ]
  },
  {
   "cell_type": "code",
   "execution_count": 11,
   "id": "572588c8",
   "metadata": {},
   "outputs": [
    {
     "data": {
      "image/png": "[encoded data removed]",
      "text/plain": [
       "<Figure size 432x288 with 1 Axes>"
      ]
     },
     "metadata": {
      "needs_background": "light"
     },
     "output_type": "display_data"
    }
   ],
   "source": [
    "%matplotlib inline\n",
    "\n",
    "R_list = [0.5, 0.8, 1, 1.5, 2, 3, 4, 5]\n",
    "\n",
    "\n",
    "plt.plot(R_list, abs(np.array(global_dft_list) - np.array(global_fci_list)), label='global DFT', color='b')\n",
    "plt.plot(R_list, abs(np.array(huz_H_diag_list) - np.array(global_fci_list)), label='huz emb', linestyle='dashed', marker='o', color='g')\n",
    "plt.plot(R_list, abs(np.array(mu_H_diag_list) - np.array(global_fci_list)), label='mu emb', linestyle='-', marker='x', color='r')\n",
    "\n",
    "plt.xlabel('OH bond length (angstrom)')\n",
    "plt.ylabel('Error (Ha)')\n",
    "plt.grid(True)\n",
    "plt.legend()\n",
    "plt.savefig(\"test_error.png\", dpi=300)\n",
    "plt.show()"
   ]
  },
  {
   "cell_type": "code",
   "execution_count": null,
   "id": "ca15d162",
   "metadata": {},
   "outputs": [],
   "source": []
  },
  {
   "cell_type": "code",
   "execution_count": null,
   "id": "c1096239",
   "metadata": {},
   "outputs": [],
   "source": []
  },
  {
   "cell_type": "code",
   "execution_count": 12,
   "id": "d00080e5",
   "metadata": {},
   "outputs": [
    {
     "name": "stdout",
     "output_type": "stream",
     "text": [
      " Iterative localization: IB/P4/2x2, 6 iter; Final gradient 3.79e-11\n"
     ]
    }
   ],
   "source": [
    "geometry_path  = list_file_paths[3]\n",
    "projector = 'both'#'both', 'huzinaga'  \n",
    "\n",
    "driver = NbedDriver(\n",
    "        geometry=geometry_path,\n",
    "        n_active_atoms=n_active_atoms,\n",
    "        basis=basis,\n",
    "        xc_functional=xc_functional,\n",
    "        projector=projector,\n",
    "        localization=localization,\n",
    "        convergence=convergence,\n",
    "        charge=charge,\n",
    "        mu_level_shift=mu_level_shift,\n",
    "        run_ccsd_emb=run_ccsd_emb,\n",
    "        run_fci_emb=run_fci_emb,\n",
    "        max_ram_memory=max_ram_memory,\n",
    "        pyscf_print_level=pyscf_print_level,\n",
    "        unit=unit,\n",
    "        occupied_threshold=occupied_threshold,\n",
    "        virtual_threshold=virtual_threshold,\n",
    "        max_hf_cycles=max_hf_cycles)"
   ]
  },
  {
   "cell_type": "code",
   "execution_count": 13,
   "id": "356497d0",
   "metadata": {},
   "outputs": [],
   "source": [
    "mu_scf = driver._mu[\"scf\"]\n",
    "huz_scf = driver._huzinaga[\"scf\"]\n",
    "global_scf = driver._global_hf"
   ]
  },
  {
   "cell_type": "code",
   "execution_count": 14,
   "id": "18e03837",
   "metadata": {},
   "outputs": [
    {
     "name": "stdout",
     "output_type": "stream",
     "text": [
      "[[-20.091  -0.     -0.      0.     -0.      0.   ]\n",
      " [ -0.     -0.734   0.      0.     -0.     -0.   ]\n",
      " [ -0.      0.     -0.345   0.     -0.     -0.   ]\n",
      " [  0.      0.      0.     -0.331   0.      0.   ]\n",
      " [ -0.     -0.     -0.      0.      0.256  -0.   ]\n",
      " [  0.     -0.     -0.      0.     -0.      0.892]]\n"
     ]
    }
   ],
   "source": [
    "c_mat = mu_scf.mo_coeff\n",
    "mo_occ = mu_scf.get_occ()\n",
    "dmat = mu_scf.make_rdm1(mo_coeff=c_mat, mo_occ=mo_occ)\n",
    "F =  mu_scf.get_fock(dm=dmat)\n",
    "\n",
    "print(np.around(c_mat.T @ F @c_mat,\n",
    "         3))"
   ]
  },
  {
   "cell_type": "code",
   "execution_count": 15,
   "id": "acf6fd7a",
   "metadata": {},
   "outputs": [
    {
     "name": "stdout",
     "output_type": "stream",
     "text": [
      "[[-20.091   0.     -0.      0.     -0.     -0.   ]\n",
      " [  0.     -0.734  -0.     -0.      0.      0.   ]\n",
      " [ -0.     -0.     -0.345  -0.     -0.     -0.   ]\n",
      " [  0.     -0.     -0.     -0.331  -0.     -0.   ]\n",
      " [ -0.      0.     -0.     -0.      0.256  -0.   ]\n",
      " [ -0.      0.     -0.     -0.     -0.      0.892]]\n"
     ]
    }
   ],
   "source": [
    "c_mat = huz_scf.mo_coeff\n",
    "mo_occ = huz_scf.get_occ()\n",
    "dmat = huz_scf.make_rdm1(mo_coeff=c_mat, mo_occ=mo_occ)\n",
    "F =  huz_scf.get_fock(dm=dmat)\n",
    "\n",
    "print(np.around(c_mat.T @ F @c_mat,\n",
    "         3))"
   ]
  },
  {
   "cell_type": "code",
   "execution_count": null,
   "id": "c21d6eef",
   "metadata": {},
   "outputs": [],
   "source": []
  }
 ],
 "metadata": {
  "kernelspec": {
   "display_name": "Python 3 (ipykernel)",
   "language": "python",
   "name": "python3"
  },
  "language_info": {
   "codemirror_mode": {
    "name": "ipython",
    "version": 3
   },
   "file_extension": ".py",
   "mimetype": "text/x-python",
   "name": "python",
   "nbconvert_exporter": "python",
   "pygments_lexer": "ipython3",
   "version": "3.9.7"
  }
 },
 "nbformat": 4,
 "nbformat_minor": 5
}
