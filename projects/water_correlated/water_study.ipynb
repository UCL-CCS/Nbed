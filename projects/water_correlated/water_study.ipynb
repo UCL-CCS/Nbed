{
 "cells": [
  {
   "cell_type": "code",
   "execution_count": 1,
   "id": "53d2b6bf",
   "metadata": {},
   "outputs": [
    {
     "name": "stderr",
     "output_type": "stream",
     "text": [
      "/home/lex/anaconda3/envs/embed/lib/python3.9/site-packages/pyscf/lib/misc.py:46: H5pyDeprecationWarning: Using default_file_mode other than 'r' is deprecated. Pass the mode to h5py.File() instead.\n",
      "  h5py.get_config().default_file_mode = 'a'\n"
     ]
    }
   ],
   "source": [
    "from nbed.driver import NbedDriver\n",
    "from nbed.ham_builder import HamiltonianBuilder\n",
    "from openfermion import get_sparse_operator\n",
    "import scipy as sp\n",
    "from openfermion.utils import count_qubits\n",
    "from tqdm.notebook import tqdm\n",
    "import matplotlib.pyplot as plt\n",
    "import numpy as np\n",
    "import os\n",
    "from nbed.mol_plot import Draw_molecule"
   ]
  },
  {
   "cell_type": "code",
   "execution_count": 2,
   "id": "9021e28e",
   "metadata": {},
   "outputs": [],
   "source": [
    "current_dir = os.getcwd()\n",
    "structure_dir =  os.path.join(current_dir, \"molecular_structures\")"
   ]
  },
  {
   "cell_type": "code",
   "execution_count": 3,
   "id": "b20ba3da",
   "metadata": {},
   "outputs": [
    {
     "data": {
      "text/plain": [
       "['H2O_5.xyz',\n",
       " 'H2O_8.xyz',\n",
       " 'H2O_10.xyz',\n",
       " 'H2O_15.xyz',\n",
       " 'H2O_20.xyz',\n",
       " 'H2O_30.xyz',\n",
       " 'H2O_40.xyz',\n",
       " 'H2O_50.xyz']"
      ]
     },
     "execution_count": 3,
     "metadata": {},
     "output_type": "execute_result"
    }
   ],
   "source": [
    "# order by R_length\n",
    "all_xyz_files = sorted(os.listdir(structure_dir), \n",
    "                       key=lambda text: int(text.partition(\"H2O_\")[2].partition(\".xyz\")[0]))\n",
    "all_xyz_files"
   ]
  },
  {
   "cell_type": "code",
   "execution_count": 5,
   "id": "a0f54580",
   "metadata": {},
   "outputs": [
    {
     "data": {
      "text/plain": [
       "['/home/lex/Documents/PhD/Nbed/projects/water_correlated/molecular_structures/H2O_5.xyz',\n",
       " '/home/lex/Documents/PhD/Nbed/projects/water_correlated/molecular_structures/H2O_8.xyz',\n",
       " '/home/lex/Documents/PhD/Nbed/projects/water_correlated/molecular_structures/H2O_10.xyz',\n",
       " '/home/lex/Documents/PhD/Nbed/projects/water_correlated/molecular_structures/H2O_15.xyz',\n",
       " '/home/lex/Documents/PhD/Nbed/projects/water_correlated/molecular_structures/H2O_20.xyz',\n",
       " '/home/lex/Documents/PhD/Nbed/projects/water_correlated/molecular_structures/H2O_30.xyz',\n",
       " '/home/lex/Documents/PhD/Nbed/projects/water_correlated/molecular_structures/H2O_40.xyz',\n",
       " '/home/lex/Documents/PhD/Nbed/projects/water_correlated/molecular_structures/H2O_50.xyz']"
      ]
     },
     "execution_count": 5,
     "metadata": {},
     "output_type": "execute_result"
    }
   ],
   "source": [
    "list_file_paths = []\n",
    "for xyz_filename in all_xyz_files:\n",
    "    list_file_paths.append(os.path.join(structure_dir, xyz_filename))\n",
    "list_file_paths"
   ]
  },
  {
   "cell_type": "code",
   "execution_count": 6,
   "id": "45e1c009",
   "metadata": {},
   "outputs": [],
   "source": [
    "basis = 'STO-3G'\n",
    "xc_functional = 'B3LYP'\n",
    "convergence = 1e-6\n",
    "charge = 0\n",
    "mu_level_shift=1e6\n",
    "run_ccsd_emb = True\n",
    "run_fci_emb = True\n",
    "max_ram_memory = 8_000\n",
    "pyscf_print_level = 1\n",
    "unit = 'angstrom'\n",
    "occupied_threshold = 0.95\n",
    "virtual_threshold = 0.95\n",
    "max_hf_cycles=10_000\n",
    "transform = 'jordan_wigner'"
   ]
  },
  {
   "cell_type": "code",
   "execution_count": 7,
   "id": "36025a35",
   "metadata": {},
   "outputs": [],
   "source": [
    "n_active_atoms = 2\n",
    "localization = 'spade' # 'ibo' 'spade'\n",
    "\n",
    "projector = 'both' #'both', 'huzinaga'\n",
    "init_huzinaga_rhf_with_mu = True"
   ]
  },
  {
   "cell_type": "code",
   "execution_count": 8,
   "id": "3636d76d",
   "metadata": {},
   "outputs": [],
   "source": [
    "def get_hamiltonian_from_driver(rhf_pyscf, energy_shift, qubit_transform):\n",
    "    # n_qubits = 2*rhf_pyscf.mol.nao\n",
    "    qham = HamiltonianBuilder(\n",
    "                            scf_method=rhf_pyscf,\n",
    "                            constant_e_shift=energy_shift,\n",
    "                            transform=qubit_transform,\n",
    "                            ).build(n_qubits=None, taper=False)\n",
    "    return qham"
   ]
  },
  {
   "cell_type": "code",
   "execution_count": 9,
   "id": "743e8a3c",
   "metadata": {},
   "outputs": [
    {
     "name": "stdout",
     "output_type": "stream",
     "text": [
      "mu 2\n",
      "huz 0\n"
     ]
    }
   ],
   "source": [
    "import collections\n",
    "tempdict = {'huz':0, 'mu':2}\n",
    "\n",
    "ordered_dic = collections.OrderedDict(sorted(tempdict.items(), reverse=True))\n",
    "\n",
    "for val, key in ordered_dic.items():\n",
    "    print(val, key)"
   ]
  },
  {
   "cell_type": "code",
   "execution_count": null,
   "id": "1fc70334",
   "metadata": {},
   "outputs": [],
   "source": []
  },
  {
   "cell_type": "code",
   "execution_count": 10,
   "id": "9f53b4b5",
   "metadata": {},
   "outputs": [
    {
     "data": {
      "application/vnd.jupyter.widget-view+json": {
       "model_id": "e342f2f544ea40dbb291fbee80630670",
       "version_major": 2,
       "version_minor": 0
      },
      "text/plain": [
       "  0%|          | 0/8 [00:00<?, ?it/s]"
      ]
     },
     "metadata": {},
     "output_type": "display_data"
    },
    {
     "ename": "KeyboardInterrupt",
     "evalue": "",
     "output_type": "error",
     "traceback": [
      "\u001b[0;31m---------------------------------------------------------------------------\u001b[0m",
      "\u001b[0;31mKeyboardInterrupt\u001b[0m                         Traceback (most recent call last)",
      "\u001b[0;32m/tmp/ipykernel_165761/1420583618.py\u001b[0m in \u001b[0;36m<module>\u001b[0;34m\u001b[0m\n\u001b[1;32m     22\u001b[0m \u001b[0;32mfor\u001b[0m \u001b[0mgeometry_path\u001b[0m \u001b[0;32min\u001b[0m \u001b[0mtqdm\u001b[0m\u001b[0;34m(\u001b[0m\u001b[0mlist_file_paths\u001b[0m\u001b[0;34m)\u001b[0m\u001b[0;34m:\u001b[0m\u001b[0;34m\u001b[0m\u001b[0;34m\u001b[0m\u001b[0m\n\u001b[1;32m     23\u001b[0m \u001b[0;31m#     try:\u001b[0m\u001b[0;34m\u001b[0m\u001b[0;34m\u001b[0m\u001b[0m\n\u001b[0;32m---> 24\u001b[0;31m     driver = NbedDriver(\n\u001b[0m\u001b[1;32m     25\u001b[0m             \u001b[0mgeometry\u001b[0m\u001b[0;34m=\u001b[0m\u001b[0mgeometry_path\u001b[0m\u001b[0;34m,\u001b[0m\u001b[0;34m\u001b[0m\u001b[0;34m\u001b[0m\u001b[0m\n\u001b[1;32m     26\u001b[0m             \u001b[0mn_active_atoms\u001b[0m\u001b[0;34m=\u001b[0m\u001b[0mn_active_atoms\u001b[0m\u001b[0;34m,\u001b[0m\u001b[0;34m\u001b[0m\u001b[0;34m\u001b[0m\u001b[0m\n",
      "\u001b[0;32m~/anaconda3/envs/embed/lib/python3.9/site-packages/nbed/driver.py\u001b[0m in \u001b[0;36m__init__\u001b[0;34m(self, geometry, n_active_atoms, basis, xc_functional, projector, localization, convergence, charge, mu_level_shift, run_ccsd_emb, run_fci_emb, run_virtual_localization, max_ram_memory, pyscf_print_level, savefile, unit, occupied_threshold, virtual_threshold, max_hf_cycles, _init_huzinaga_rhf_with_mu)\u001b[0m\n\u001b[1;32m    123\u001b[0m \u001b[0;34m\u001b[0m\u001b[0m\n\u001b[1;32m    124\u001b[0m         \u001b[0;31m# run embedding calc\u001b[0m\u001b[0;34m\u001b[0m\u001b[0;34m\u001b[0m\u001b[0m\n\u001b[0;32m--> 125\u001b[0;31m         \u001b[0mself\u001b[0m\u001b[0;34m.\u001b[0m\u001b[0membed\u001b[0m\u001b[0;34m(\u001b[0m\u001b[0minit_huzinaga_rhf_with_mu\u001b[0m\u001b[0;34m=\u001b[0m\u001b[0m_init_huzinaga_rhf_with_mu\u001b[0m\u001b[0;34m)\u001b[0m\u001b[0;34m\u001b[0m\u001b[0;34m\u001b[0m\u001b[0m\n\u001b[0m\u001b[1;32m    126\u001b[0m \u001b[0;34m\u001b[0m\u001b[0m\n\u001b[1;32m    127\u001b[0m     \u001b[0;32mdef\u001b[0m \u001b[0m_build_mol\u001b[0m\u001b[0;34m(\u001b[0m\u001b[0mself\u001b[0m\u001b[0;34m)\u001b[0m \u001b[0;34m->\u001b[0m \u001b[0mgto\u001b[0m\u001b[0;34m.\u001b[0m\u001b[0mmole\u001b[0m\u001b[0;34m:\u001b[0m\u001b[0;34m\u001b[0m\u001b[0;34m\u001b[0m\u001b[0m\n",
      "\u001b[0;32m~/anaconda3/envs/embed/lib/python3.9/site-packages/nbed/driver.py\u001b[0m in \u001b[0;36membed\u001b[0;34m(self, init_huzinaga_rhf_with_mu)\u001b[0m\n\u001b[1;32m    590\u001b[0m         \u001b[0mlogger\u001b[0m\u001b[0;34m.\u001b[0m\u001b[0minfo\u001b[0m\u001b[0;34m(\u001b[0m\u001b[0;34mf\"Energy of localized RKS: {local_rks.e_tot}\"\u001b[0m\u001b[0;34m)\u001b[0m\u001b[0;34m\u001b[0m\u001b[0;34m\u001b[0m\u001b[0m\n\u001b[1;32m    591\u001b[0m         \u001b[0;31m# Run subsystem DFT (calls localized rks)\u001b[0m\u001b[0;34m\u001b[0m\u001b[0;34m\u001b[0m\u001b[0m\n\u001b[0;32m--> 592\u001b[0;31m         \u001b[0mself\u001b[0m\u001b[0;34m.\u001b[0m\u001b[0m_subsystem_dft\u001b[0m\u001b[0;34m(\u001b[0m\u001b[0;34m)\u001b[0m\u001b[0;34m\u001b[0m\u001b[0;34m\u001b[0m\u001b[0m\n\u001b[0m\u001b[1;32m    593\u001b[0m \u001b[0;34m\u001b[0m\u001b[0m\n\u001b[1;32m    594\u001b[0m         \u001b[0mlogger\u001b[0m\u001b[0;34m.\u001b[0m\u001b[0mdebug\u001b[0m\u001b[0;34m(\u001b[0m\u001b[0;34m\"Get global DFT potential to optimize embedded calc in.\"\u001b[0m\u001b[0;34m)\u001b[0m\u001b[0;34m\u001b[0m\u001b[0;34m\u001b[0m\u001b[0m\n",
      "\u001b[0;32m~/anaconda3/envs/embed/lib/python3.9/site-packages/nbed/driver.py\u001b[0m in \u001b[0;36m_subsystem_dft\u001b[0;34m(self)\u001b[0m\n\u001b[1;32m    321\u001b[0m             \u001b[0mself\u001b[0m\u001b[0;34m.\u001b[0m\u001b[0mlocalized_system\u001b[0m\u001b[0;34m,\u001b[0m \u001b[0mself\u001b[0m\u001b[0;34m.\u001b[0m\u001b[0mlocalized_system\u001b[0m\u001b[0;34m.\u001b[0m\u001b[0mdm_active\u001b[0m\u001b[0;34m\u001b[0m\u001b[0;34m\u001b[0m\u001b[0m\n\u001b[1;32m    322\u001b[0m         )\n\u001b[0;32m--> 323\u001b[0;31m         (self.e_env, e_xc_env, j_env) = _rks_components(\n\u001b[0m\u001b[1;32m    324\u001b[0m             \u001b[0mself\u001b[0m\u001b[0;34m.\u001b[0m\u001b[0mlocalized_system\u001b[0m\u001b[0;34m,\u001b[0m \u001b[0mself\u001b[0m\u001b[0;34m.\u001b[0m\u001b[0mlocalized_system\u001b[0m\u001b[0;34m.\u001b[0m\u001b[0mdm_enviro\u001b[0m\u001b[0;34m\u001b[0m\u001b[0;34m\u001b[0m\u001b[0m\n\u001b[1;32m    325\u001b[0m         )\n",
      "\u001b[0;32m~/anaconda3/envs/embed/lib/python3.9/site-packages/nbed/driver.py\u001b[0m in \u001b[0;36m_rks_components\u001b[0;34m(localized_system, subsystem_dm)\u001b[0m\n\u001b[1;32m    298\u001b[0m             \u001b[0mdm_matrix\u001b[0m \u001b[0;34m=\u001b[0m \u001b[0msubsystem_dm\u001b[0m\u001b[0;34m\u001b[0m\u001b[0;34m\u001b[0m\u001b[0m\n\u001b[1;32m    299\u001b[0m             \u001b[0;31m# It seems that PySCF lumps J and K in the J array\u001b[0m\u001b[0;34m\u001b[0m\u001b[0;34m\u001b[0m\u001b[0m\n\u001b[0;32m--> 300\u001b[0;31m             \u001b[0mtwo_e_term\u001b[0m \u001b[0;34m=\u001b[0m \u001b[0mlocalized_system\u001b[0m\u001b[0;34m.\u001b[0m\u001b[0mrks\u001b[0m\u001b[0;34m.\u001b[0m\u001b[0mget_veff\u001b[0m\u001b[0;34m(\u001b[0m\u001b[0mdm\u001b[0m\u001b[0;34m=\u001b[0m\u001b[0mdm_matrix\u001b[0m\u001b[0;34m)\u001b[0m\u001b[0;34m\u001b[0m\u001b[0;34m\u001b[0m\u001b[0m\n\u001b[0m\u001b[1;32m    301\u001b[0m             \u001b[0mj_mat\u001b[0m \u001b[0;34m=\u001b[0m \u001b[0mtwo_e_term\u001b[0m\u001b[0;34m.\u001b[0m\u001b[0mvj\u001b[0m\u001b[0;34m\u001b[0m\u001b[0;34m\u001b[0m\u001b[0m\n\u001b[1;32m    302\u001b[0m             \u001b[0;31m# k_mat = np.zeros_like(j_mat)\u001b[0m\u001b[0;34m\u001b[0m\u001b[0;34m\u001b[0m\u001b[0m\n",
      "\u001b[0;32m~/anaconda3/envs/embed/lib/python3.9/site-packages/nbed/localizers/base.py\u001b[0m in \u001b[0;36m<lambda>\u001b[0;34m(mol, dm, dm_last, vhf_last, hermi)\u001b[0m\n\u001b[1;32m    165\u001b[0m         )\n\u001b[1;32m    166\u001b[0m \u001b[0;34m\u001b[0m\u001b[0m\n\u001b[0;32m--> 167\u001b[0;31m         local_rks.get_veff = lambda mol=None, dm=None, dm_last=0, vhf_last=0, hermi=1: self._rks_veff(\n\u001b[0m\u001b[1;32m    168\u001b[0m             \u001b[0mlocal_rks\u001b[0m\u001b[0;34m,\u001b[0m \u001b[0mself\u001b[0m\u001b[0;34m.\u001b[0m\u001b[0mbasis_trans_std_to_loc\u001b[0m\u001b[0;34m,\u001b[0m \u001b[0mdm\u001b[0m\u001b[0;34m=\u001b[0m\u001b[0mdm\u001b[0m\u001b[0;34m,\u001b[0m \u001b[0mcheck_result\u001b[0m\u001b[0;34m=\u001b[0m\u001b[0;32mTrue\u001b[0m\u001b[0;34m\u001b[0m\u001b[0;34m\u001b[0m\u001b[0m\n\u001b[1;32m    169\u001b[0m         )\n",
      "\u001b[0;32m~/anaconda3/envs/embed/lib/python3.9/site-packages/nbed/localizers/base.py\u001b[0m in \u001b[0;36m_rks_veff\u001b[0;34m(self, pyscf_RKS, unitary_rot, dm, check_result)\u001b[0m\n\u001b[1;32m    228\u001b[0m         \u001b[0;31m# Evaluate RKS/UKS XC functional and potential matrix on given meshgrids\u001b[0m\u001b[0;34m\u001b[0m\u001b[0;34m\u001b[0m\u001b[0m\n\u001b[1;32m    229\u001b[0m         \u001b[0;31m# for a set of density matrices.\u001b[0m\u001b[0;34m\u001b[0m\u001b[0;34m\u001b[0m\u001b[0m\n\u001b[0;32m--> 230\u001b[0;31m         \u001b[0m_\u001b[0m\u001b[0;34m,\u001b[0m \u001b[0m_\u001b[0m\u001b[0;34m,\u001b[0m \u001b[0mvxc\u001b[0m \u001b[0;34m=\u001b[0m \u001b[0mdft\u001b[0m\u001b[0;34m.\u001b[0m\u001b[0mnumint\u001b[0m\u001b[0;34m.\u001b[0m\u001b[0mnr_vxc\u001b[0m\u001b[0;34m(\u001b[0m\u001b[0mpyscf_RKS\u001b[0m\u001b[0;34m.\u001b[0m\u001b[0mmol\u001b[0m\u001b[0;34m,\u001b[0m \u001b[0mpyscf_RKS\u001b[0m\u001b[0;34m.\u001b[0m\u001b[0mgrids\u001b[0m\u001b[0;34m,\u001b[0m \u001b[0mpyscf_RKS\u001b[0m\u001b[0;34m.\u001b[0m\u001b[0mxc\u001b[0m\u001b[0;34m,\u001b[0m \u001b[0mdm\u001b[0m\u001b[0;34m)\u001b[0m\u001b[0;34m\u001b[0m\u001b[0;34m\u001b[0m\u001b[0m\n\u001b[0m\u001b[1;32m    231\u001b[0m \u001b[0;34m\u001b[0m\u001b[0m\n\u001b[1;32m    232\u001b[0m         \u001b[0;31m# definition in new basis\u001b[0m\u001b[0;34m\u001b[0m\u001b[0;34m\u001b[0m\u001b[0m\n",
      "\u001b[0;32m~/anaconda3/envs/embed/lib/python3.9/site-packages/pyscf/dft/numint.py\u001b[0m in \u001b[0;36mnr_vxc\u001b[0;34m(mol, grids, xc_code, dms, spin, relativity, hermi, max_memory, verbose)\u001b[0m\n\u001b[1;32m    707\u001b[0m     '''\n\u001b[1;32m    708\u001b[0m     \u001b[0mni\u001b[0m \u001b[0;34m=\u001b[0m \u001b[0mNumInt\u001b[0m\u001b[0;34m(\u001b[0m\u001b[0;34m)\u001b[0m\u001b[0;34m\u001b[0m\u001b[0;34m\u001b[0m\u001b[0m\n\u001b[0;32m--> 709\u001b[0;31m     return ni.nr_vxc(mol, grids, xc_code, dms, spin, relativity,\n\u001b[0m\u001b[1;32m    710\u001b[0m                      hermi, max_memory, verbose)\n\u001b[1;32m    711\u001b[0m \u001b[0;34m\u001b[0m\u001b[0m\n",
      "\u001b[0;32m~/anaconda3/envs/embed/lib/python3.9/site-packages/pyscf/dft/numint.py\u001b[0m in \u001b[0;36mnr_vxc\u001b[0;34m(self, mol, grids, xc_code, dms, spin, relativity, hermi, max_memory, verbose)\u001b[0m\n\u001b[1;32m   1928\u001b[0m                max_memory=2000, verbose=None):\n\u001b[1;32m   1929\u001b[0m         \u001b[0;32mif\u001b[0m \u001b[0mspin\u001b[0m \u001b[0;34m==\u001b[0m \u001b[0;36m0\u001b[0m\u001b[0;34m:\u001b[0m\u001b[0;34m\u001b[0m\u001b[0;34m\u001b[0m\u001b[0m\n\u001b[0;32m-> 1930\u001b[0;31m             return self.nr_rks(mol, grids, xc_code, dms, relativity, hermi,\n\u001b[0m\u001b[1;32m   1931\u001b[0m                                max_memory, verbose)\n\u001b[1;32m   1932\u001b[0m         \u001b[0;32melse\u001b[0m\u001b[0;34m:\u001b[0m\u001b[0;34m\u001b[0m\u001b[0;34m\u001b[0m\u001b[0m\n",
      "\u001b[0;32m~/anaconda3/envs/embed/lib/python3.9/site-packages/pyscf/dft/numint.py\u001b[0m in \u001b[0;36mnr_rks\u001b[0;34m(ni, mol, grids, xc_code, dms, relativity, hermi, max_memory, verbose)\u001b[0m\n\u001b[1;32m    864\u001b[0m                 \u001b[0;31m#:aow = numpy.einsum('npi,np->pi', ao, wv, out=aow)\u001b[0m\u001b[0;34m\u001b[0m\u001b[0;34m\u001b[0m\u001b[0m\n\u001b[1;32m    865\u001b[0m                 \u001b[0maow\u001b[0m \u001b[0;34m=\u001b[0m \u001b[0m_scale_ao\u001b[0m\u001b[0;34m(\u001b[0m\u001b[0mao\u001b[0m\u001b[0;34m,\u001b[0m \u001b[0mwv\u001b[0m\u001b[0;34m,\u001b[0m \u001b[0mout\u001b[0m\u001b[0;34m=\u001b[0m\u001b[0maow\u001b[0m\u001b[0;34m)\u001b[0m\u001b[0;34m\u001b[0m\u001b[0;34m\u001b[0m\u001b[0m\n\u001b[0;32m--> 866\u001b[0;31m                 \u001b[0mvmat\u001b[0m\u001b[0;34m[\u001b[0m\u001b[0midm\u001b[0m\u001b[0;34m]\u001b[0m \u001b[0;34m+=\u001b[0m \u001b[0m_dot_ao_ao\u001b[0m\u001b[0;34m(\u001b[0m\u001b[0mmol\u001b[0m\u001b[0;34m,\u001b[0m \u001b[0mao\u001b[0m\u001b[0;34m[\u001b[0m\u001b[0;36m0\u001b[0m\u001b[0;34m]\u001b[0m\u001b[0;34m,\u001b[0m \u001b[0maow\u001b[0m\u001b[0;34m,\u001b[0m \u001b[0mmask\u001b[0m\u001b[0;34m,\u001b[0m \u001b[0mshls_slice\u001b[0m\u001b[0;34m,\u001b[0m \u001b[0mao_loc\u001b[0m\u001b[0;34m)\u001b[0m\u001b[0;34m\u001b[0m\u001b[0;34m\u001b[0m\u001b[0m\n\u001b[0m\u001b[1;32m    867\u001b[0m                 \u001b[0mrho\u001b[0m \u001b[0;34m=\u001b[0m \u001b[0mexc\u001b[0m \u001b[0;34m=\u001b[0m \u001b[0mvxc\u001b[0m \u001b[0;34m=\u001b[0m \u001b[0mwv\u001b[0m \u001b[0;34m=\u001b[0m \u001b[0;32mNone\u001b[0m\u001b[0;34m\u001b[0m\u001b[0;34m\u001b[0m\u001b[0m\n\u001b[1;32m    868\u001b[0m     \u001b[0;32melif\u001b[0m \u001b[0mxctype\u001b[0m \u001b[0;34m==\u001b[0m \u001b[0;34m'NLC'\u001b[0m\u001b[0;34m:\u001b[0m\u001b[0;34m\u001b[0m\u001b[0;34m\u001b[0m\u001b[0m\n",
      "\u001b[0;32m~/anaconda3/envs/embed/lib/python3.9/site-packages/pyscf/dft/numint.py\u001b[0m in \u001b[0;36m_dot_ao_ao\u001b[0;34m(mol, ao1, ao2, non0tab, shls_slice, ao_loc, hermi)\u001b[0m\n\u001b[1;32m    547\u001b[0m     \u001b[0mngrids\u001b[0m\u001b[0;34m,\u001b[0m \u001b[0mnao\u001b[0m \u001b[0;34m=\u001b[0m \u001b[0mao1\u001b[0m\u001b[0;34m.\u001b[0m\u001b[0mshape\u001b[0m\u001b[0;34m\u001b[0m\u001b[0;34m\u001b[0m\u001b[0m\n\u001b[1;32m    548\u001b[0m     \u001b[0;32mif\u001b[0m \u001b[0mnao\u001b[0m \u001b[0;34m<\u001b[0m \u001b[0mSWITCH_SIZE\u001b[0m\u001b[0;34m:\u001b[0m\u001b[0;34m\u001b[0m\u001b[0;34m\u001b[0m\u001b[0m\n\u001b[0;32m--> 549\u001b[0;31m         \u001b[0;32mreturn\u001b[0m \u001b[0mlib\u001b[0m\u001b[0;34m.\u001b[0m\u001b[0mdot\u001b[0m\u001b[0;34m(\u001b[0m\u001b[0mao1\u001b[0m\u001b[0;34m.\u001b[0m\u001b[0mT\u001b[0m\u001b[0;34m.\u001b[0m\u001b[0mconj\u001b[0m\u001b[0;34m(\u001b[0m\u001b[0;34m)\u001b[0m\u001b[0;34m,\u001b[0m \u001b[0mao2\u001b[0m\u001b[0;34m)\u001b[0m\u001b[0;34m\u001b[0m\u001b[0;34m\u001b[0m\u001b[0m\n\u001b[0m\u001b[1;32m    550\u001b[0m \u001b[0;34m\u001b[0m\u001b[0m\n\u001b[1;32m    551\u001b[0m     \u001b[0;32mif\u001b[0m \u001b[0;32mnot\u001b[0m \u001b[0mao1\u001b[0m\u001b[0;34m.\u001b[0m\u001b[0mflags\u001b[0m\u001b[0;34m.\u001b[0m\u001b[0mf_contiguous\u001b[0m\u001b[0;34m:\u001b[0m\u001b[0;34m\u001b[0m\u001b[0;34m\u001b[0m\u001b[0m\n",
      "\u001b[0;32m~/anaconda3/envs/embed/lib/python3.9/site-packages/pyscf/lib/numpy_helper.py\u001b[0m in \u001b[0;36mdot\u001b[0;34m(a, b, alpha, c, beta)\u001b[0m\n\u001b[1;32m    740\u001b[0m     \u001b[0;32mif\u001b[0m \u001b[0matype\u001b[0m \u001b[0;34m==\u001b[0m \u001b[0mnumpy\u001b[0m\u001b[0;34m.\u001b[0m\u001b[0mfloat64\u001b[0m \u001b[0;32mand\u001b[0m \u001b[0mbtype\u001b[0m \u001b[0;34m==\u001b[0m \u001b[0mnumpy\u001b[0m\u001b[0;34m.\u001b[0m\u001b[0mfloat64\u001b[0m\u001b[0;34m:\u001b[0m\u001b[0;34m\u001b[0m\u001b[0;34m\u001b[0m\u001b[0m\n\u001b[1;32m    741\u001b[0m         \u001b[0;32mif\u001b[0m \u001b[0mc\u001b[0m \u001b[0;32mis\u001b[0m \u001b[0;32mNone\u001b[0m \u001b[0;32mor\u001b[0m \u001b[0mc\u001b[0m\u001b[0;34m.\u001b[0m\u001b[0mdtype\u001b[0m \u001b[0;34m==\u001b[0m \u001b[0mnumpy\u001b[0m\u001b[0;34m.\u001b[0m\u001b[0mfloat64\u001b[0m\u001b[0;34m:\u001b[0m\u001b[0;34m\u001b[0m\u001b[0;34m\u001b[0m\u001b[0m\n\u001b[0;32m--> 742\u001b[0;31m             \u001b[0;32mreturn\u001b[0m \u001b[0mddot\u001b[0m\u001b[0;34m(\u001b[0m\u001b[0ma\u001b[0m\u001b[0;34m,\u001b[0m \u001b[0mb\u001b[0m\u001b[0;34m,\u001b[0m \u001b[0malpha\u001b[0m\u001b[0;34m,\u001b[0m \u001b[0mc\u001b[0m\u001b[0;34m,\u001b[0m \u001b[0mbeta\u001b[0m\u001b[0;34m)\u001b[0m\u001b[0;34m\u001b[0m\u001b[0;34m\u001b[0m\u001b[0m\n\u001b[0m\u001b[1;32m    743\u001b[0m         \u001b[0;32melse\u001b[0m\u001b[0;34m:\u001b[0m\u001b[0;34m\u001b[0m\u001b[0;34m\u001b[0m\u001b[0m\n\u001b[1;32m    744\u001b[0m             \u001b[0mcr\u001b[0m \u001b[0;34m=\u001b[0m \u001b[0mnumpy\u001b[0m\u001b[0;34m.\u001b[0m\u001b[0masarray\u001b[0m\u001b[0;34m(\u001b[0m\u001b[0mc\u001b[0m\u001b[0;34m.\u001b[0m\u001b[0mreal\u001b[0m\u001b[0;34m,\u001b[0m \u001b[0morder\u001b[0m\u001b[0;34m=\u001b[0m\u001b[0;34m'C'\u001b[0m\u001b[0;34m)\u001b[0m\u001b[0;34m\u001b[0m\u001b[0;34m\u001b[0m\u001b[0m\n",
      "\u001b[0;32m~/anaconda3/envs/embed/lib/python3.9/site-packages/pyscf/lib/numpy_helper.py\u001b[0m in \u001b[0;36mddot\u001b[0;34m(a, b, alpha, c, beta)\u001b[0m\n\u001b[1;32m    701\u001b[0m         \u001b[0;32massert\u001b[0m\u001b[0;34m(\u001b[0m\u001b[0mc\u001b[0m\u001b[0;34m.\u001b[0m\u001b[0mshape\u001b[0m \u001b[0;34m==\u001b[0m \u001b[0;34m(\u001b[0m\u001b[0mm\u001b[0m\u001b[0;34m,\u001b[0m\u001b[0mn\u001b[0m\u001b[0;34m)\u001b[0m\u001b[0;34m)\u001b[0m\u001b[0;34m\u001b[0m\u001b[0;34m\u001b[0m\u001b[0m\n\u001b[1;32m    702\u001b[0m \u001b[0;34m\u001b[0m\u001b[0m\n\u001b[0;32m--> 703\u001b[0;31m     \u001b[0;32mreturn\u001b[0m \u001b[0m_dgemm\u001b[0m\u001b[0;34m(\u001b[0m\u001b[0mtrans_a\u001b[0m\u001b[0;34m,\u001b[0m \u001b[0mtrans_b\u001b[0m\u001b[0;34m,\u001b[0m \u001b[0mm\u001b[0m\u001b[0;34m,\u001b[0m \u001b[0mn\u001b[0m\u001b[0;34m,\u001b[0m \u001b[0mk\u001b[0m\u001b[0;34m,\u001b[0m \u001b[0ma\u001b[0m\u001b[0;34m,\u001b[0m \u001b[0mb\u001b[0m\u001b[0;34m,\u001b[0m \u001b[0mc\u001b[0m\u001b[0;34m,\u001b[0m \u001b[0malpha\u001b[0m\u001b[0;34m,\u001b[0m \u001b[0mbeta\u001b[0m\u001b[0;34m)\u001b[0m\u001b[0;34m\u001b[0m\u001b[0;34m\u001b[0m\u001b[0m\n\u001b[0m\u001b[1;32m    704\u001b[0m \u001b[0;34m\u001b[0m\u001b[0m\n\u001b[1;32m    705\u001b[0m \u001b[0;32mdef\u001b[0m \u001b[0mzdot\u001b[0m\u001b[0;34m(\u001b[0m\u001b[0ma\u001b[0m\u001b[0;34m,\u001b[0m \u001b[0mb\u001b[0m\u001b[0;34m,\u001b[0m \u001b[0malpha\u001b[0m\u001b[0;34m=\u001b[0m\u001b[0;36m1\u001b[0m\u001b[0;34m,\u001b[0m \u001b[0mc\u001b[0m\u001b[0;34m=\u001b[0m\u001b[0;32mNone\u001b[0m\u001b[0;34m,\u001b[0m \u001b[0mbeta\u001b[0m\u001b[0;34m=\u001b[0m\u001b[0;36m0\u001b[0m\u001b[0;34m)\u001b[0m\u001b[0;34m:\u001b[0m\u001b[0;34m\u001b[0m\u001b[0;34m\u001b[0m\u001b[0m\n",
      "\u001b[0;32m~/anaconda3/envs/embed/lib/python3.9/site-packages/pyscf/lib/numpy_helper.py\u001b[0m in \u001b[0;36m_dgemm\u001b[0;34m(trans_a, trans_b, m, n, k, a, b, c, alpha, beta, offseta, offsetb, offsetc)\u001b[0m\n\u001b[1;32m    812\u001b[0m     \u001b[0;32massert\u001b[0m\u001b[0;34m(\u001b[0m\u001b[0mc\u001b[0m\u001b[0;34m.\u001b[0m\u001b[0mflags\u001b[0m\u001b[0;34m.\u001b[0m\u001b[0mc_contiguous\u001b[0m\u001b[0;34m)\u001b[0m\u001b[0;34m\u001b[0m\u001b[0;34m\u001b[0m\u001b[0m\n\u001b[1;32m    813\u001b[0m \u001b[0;34m\u001b[0m\u001b[0m\n\u001b[0;32m--> 814\u001b[0;31m     _np_helper.NPdgemm(ctypes.c_char(trans_b.encode('ascii')),\n\u001b[0m\u001b[1;32m    815\u001b[0m                        \u001b[0mctypes\u001b[0m\u001b[0;34m.\u001b[0m\u001b[0mc_char\u001b[0m\u001b[0;34m(\u001b[0m\u001b[0mtrans_a\u001b[0m\u001b[0;34m.\u001b[0m\u001b[0mencode\u001b[0m\u001b[0;34m(\u001b[0m\u001b[0;34m'ascii'\u001b[0m\u001b[0;34m)\u001b[0m\u001b[0;34m)\u001b[0m\u001b[0;34m,\u001b[0m\u001b[0;34m\u001b[0m\u001b[0;34m\u001b[0m\u001b[0m\n\u001b[1;32m    816\u001b[0m                        \u001b[0mctypes\u001b[0m\u001b[0;34m.\u001b[0m\u001b[0mc_int\u001b[0m\u001b[0;34m(\u001b[0m\u001b[0mn\u001b[0m\u001b[0;34m)\u001b[0m\u001b[0;34m,\u001b[0m \u001b[0mctypes\u001b[0m\u001b[0;34m.\u001b[0m\u001b[0mc_int\u001b[0m\u001b[0;34m(\u001b[0m\u001b[0mm\u001b[0m\u001b[0;34m)\u001b[0m\u001b[0;34m,\u001b[0m \u001b[0mctypes\u001b[0m\u001b[0;34m.\u001b[0m\u001b[0mc_int\u001b[0m\u001b[0;34m(\u001b[0m\u001b[0mk\u001b[0m\u001b[0;34m)\u001b[0m\u001b[0;34m,\u001b[0m\u001b[0;34m\u001b[0m\u001b[0;34m\u001b[0m\u001b[0m\n",
      "\u001b[0;31mKeyboardInterrupt\u001b[0m: "
     ]
    }
   ],
   "source": [
    "global_dft_list=[]\n",
    "global_fci_list=[]\n",
    "global_H_diag_list=[]\n",
    "global_qubit_H_length_list=[]\n",
    "global_qubit_H_nqubits=[]\n",
    "\n",
    "huz_rhf_list=[]\n",
    "huz_ccsd_list=[]\n",
    "huz_fci_list=[]\n",
    "huz_H_diag_list=[]\n",
    "huz_qubit_H_length_list=[]\n",
    "huz_H_nqubits=[]\n",
    "\n",
    "mu_rhf_list=[]\n",
    "mu_ccsd_list=[]\n",
    "mu_fci_list=[]\n",
    "mu_H_diag_list=[]\n",
    "mu_qubit_H_length_list=[]\n",
    "mu_H_nqubits=[]\n",
    "N_active_AOs = []\n",
    "\n",
    "for geometry_path in tqdm(list_file_paths):\n",
    "#     try:\n",
    "    driver = NbedDriver(\n",
    "            geometry=geometry_path,\n",
    "            n_active_atoms=n_active_atoms,\n",
    "            basis=basis,\n",
    "            xc_functional=xc_functional,\n",
    "            projector=projector,\n",
    "            localization=localization,\n",
    "            convergence=convergence,\n",
    "            charge=charge,\n",
    "            mu_level_shift=mu_level_shift,\n",
    "            run_ccsd_emb=run_ccsd_emb,\n",
    "            run_fci_emb=run_fci_emb,\n",
    "            max_ram_memory=max_ram_memory,\n",
    "            pyscf_print_level=pyscf_print_level,\n",
    "            unit=unit,\n",
    "            occupied_threshold=occupied_threshold,\n",
    "            virtual_threshold=virtual_threshold,\n",
    "            max_hf_cycles=max_hf_cycles,\n",
    "            _init_huzinaga_rhf_with_mu = init_huzinaga_rhf_with_mu)\n",
    "#     except:\n",
    "#         print('error for:')\n",
    "#         print(geometry_path)\n",
    "#         print()\n",
    "#         continue\n",
    "\n",
    "    ## global\n",
    "    global_dft_list.append(driver._global_rks.e_tot)\n",
    "    global_fci_list.append(driver._global_fci.e_tot)\n",
    "    \n",
    "    global_qubit_Ham = get_hamiltonian_from_driver(driver._global_hf,\n",
    "                                           driver._global_hf.energy_nuc(), \n",
    "                                           transform)\n",
    "    \n",
    "    global_H_sparse = get_sparse_operator(global_qubit_Ham)\n",
    "    E_fci =  sp.sparse.linalg.eigsh(global_H_sparse, k=1, which='SA')[0][0] \n",
    "    global_H_diag_list.append(E_fci)\n",
    "\n",
    "    global_qubit_H_length_list.append(len(global_qubit_Ham.terms))\n",
    "    global_qubit_H_nqubits.append(count_qubits(global_qubit_Ham))\n",
    "\n",
    "    ##\n",
    "    N_active_AOs.append(len(driver.localized_system.active_MO_inds))\n",
    "    \n",
    "    # HUZ\n",
    "    huz_rhf_list.append(driver._huzinaga['e_rhf'])\n",
    "    huz_ccsd_list.append(driver._huzinaga['e_ccsd'])\n",
    "    huz_fci_list.append(driver._huzinaga['e_fci'])\n",
    "\n",
    "    huz_classical = driver._huzinaga['classical_energy']\n",
    "    huz_qubit_Ham = get_hamiltonian_from_driver(driver._huzinaga[\"scf\"],\n",
    "                                        huz_classical, #+ driver._huzinaga[\"scf\"].energy_nuc(), \n",
    "                                        transform)\n",
    "    \n",
    "    huz_H_sparse = get_sparse_operator(huz_qubit_Ham)\n",
    "    huz_e_emb = sp.sparse.linalg.eigsh(huz_H_sparse, k=1, which='SA')[0][0]\n",
    "    huz_H_diag_list.append(huz_e_emb)\n",
    "\n",
    "    huz_qubit_H_length_list.append(len(huz_qubit_Ham.terms))\n",
    "    huz_nqubits = count_qubits(huz_qubit_Ham)\n",
    "    huz_H_nqubits.append(huz_nqubits)\n",
    "\n",
    "    # mu shift\n",
    "    mu_rhf_list.append(driver._mu['e_rhf'])\n",
    "    mu_ccsd_list.append(driver._mu['e_ccsd'])\n",
    "    mu_fci_list.append(driver._mu['e_fci'])\n",
    "    \n",
    "    mu_classical = driver._mu['classical_energy']\n",
    "    mu_qubit_Ham = get_hamiltonian_from_driver(driver._mu[\"scf\"],\n",
    "                                        mu_classical, #+ driver._mu[\"scf\"].energy_nuc(), \n",
    "                                        transform)\n",
    "    \n",
    "    mu_H_sparse = get_sparse_operator(mu_qubit_Ham)\n",
    "    mu_e_emb = sp.sparse.linalg.eigsh(mu_H_sparse, k=1, which='SA')[0][0]\n",
    "    mu_H_diag_list.append(mu_e_emb)\n",
    "    \n",
    "    mu_nqubits = count_qubits(huz_qubit_Ham)\n",
    "    mu_qubit_H_length_list.append(len(mu_qubit_Ham.terms))\n",
    "    mu_H_nqubits.append(mu_nqubits)\n",
    "    \n",
    "    del driver\n",
    "\n"
   ]
  },
  {
   "cell_type": "code",
   "execution_count": null,
   "id": "2910be95",
   "metadata": {
    "scrolled": true
   },
   "outputs": [],
   "source": []
  },
  {
   "cell_type": "code",
   "execution_count": 11,
   "id": "3a780892",
   "metadata": {},
   "outputs": [
    {
     "data": {
      "text/html": [
       "<div>\n",
       "<style scoped>\n",
       "    .dataframe tbody tr th:only-of-type {\n",
       "        vertical-align: middle;\n",
       "    }\n",
       "\n",
       "    .dataframe tbody tr th {\n",
       "        vertical-align: top;\n",
       "    }\n",
       "\n",
       "    .dataframe thead th {\n",
       "        text-align: right;\n",
       "    }\n",
       "</style>\n",
       "<table border=\"1\" class=\"dataframe\">\n",
       "  <thead>\n",
       "    <tr style=\"text-align: right;\">\n",
       "      <th></th>\n",
       "      <th>global DFT</th>\n",
       "      <th>global FCI</th>\n",
       "      <th>huz emb FCI</th>\n",
       "      <th>mu emb FCI</th>\n",
       "      <th>global H</th>\n",
       "      <th>huz H emb</th>\n",
       "      <th>mu H emb</th>\n",
       "      <th>global n qubits</th>\n",
       "      <th>huz n qubits</th>\n",
       "      <th>mu n qubits</th>\n",
       "      <th>N active AOs</th>\n",
       "    </tr>\n",
       "  </thead>\n",
       "  <tbody>\n",
       "  </tbody>\n",
       "</table>\n",
       "</div>"
      ],
      "text/plain": [
       "Empty DataFrame\n",
       "Columns: [global DFT, global FCI, huz emb FCI, mu emb FCI, global H, huz H emb, mu H emb, global n qubits , huz n qubits , mu n qubits , N active AOs ]\n",
       "Index: []"
      ]
     },
     "execution_count": 11,
     "metadata": {},
     "output_type": "execute_result"
    }
   ],
   "source": [
    "import pandas as pd\n",
    "exp_data = {\n",
    "    'global DFT': global_dft_list, \n",
    "    \n",
    "    'global FCI': global_fci_list,\n",
    "    'huz emb FCI': huz_H_diag_list,\n",
    "    'mu emb FCI': mu_H_diag_list,\n",
    "    \n",
    "    'global H': global_qubit_H_length_list,\n",
    "    'huz H emb': huz_qubit_H_length_list,\n",
    "    'mu H emb': mu_qubit_H_length_list,\n",
    "    \n",
    "    'global n qubits ': global_qubit_H_nqubits,\n",
    "    'huz n qubits ': huz_H_nqubits,\n",
    "    'mu n qubits ': mu_H_nqubits,\n",
    "    'N active AOs ': N_active_AOs,\n",
    "    \n",
    "}\n",
    "\n",
    "df = pd.DataFrame(data=exp_data)\n",
    "\n",
    "df"
   ]
  },
  {
   "cell_type": "code",
   "execution_count": null,
   "id": "c3cab8a9",
   "metadata": {},
   "outputs": [],
   "source": []
  },
  {
   "cell_type": "code",
   "execution_count": null,
   "id": "c5439dcb",
   "metadata": {},
   "outputs": [],
   "source": [
    "%matplotlib inline\n",
    "\n",
    "R_list = [0.5, 0.8, 1, 1.5, 2, 3, 4, 5]\n",
    "\n",
    "\n",
    "plt.plot(R_list, global_dft_list, label='global DFT', color='b')\n",
    "plt.plot(R_list, global_fci_list, label='global FCI', color='orange')\n",
    "plt.plot(R_list, global_H_diag_list, label='diag global H', linestyle='dashed', color='darkred')\n",
    "plt.plot(R_list, huz_H_diag_list, label='huz emb', linestyle='dashed', marker='o', color='g')\n",
    "plt.plot(R_list, mu_H_diag_list, label='mu emb', linestyle='-', marker='x', color='r')\n",
    "\n",
    "plt.xlabel('OH bond length (angstrom)')\n",
    "plt.ylabel('energy (Ha)')\n",
    "plt.grid(True)\n",
    "# plt.savefig(\"test.png\")\n",
    "plt.legend()\n",
    "plt.show()"
   ]
  },
  {
   "cell_type": "code",
   "execution_count": null,
   "id": "a250fd61",
   "metadata": {},
   "outputs": [],
   "source": [
    "%matplotlib inline\n",
    "\n",
    "R_list = [0.5, 0.8, 1, 1.5, 2, 3, 4, 5]\n",
    "\n",
    "\n",
    "plt.plot(R_list, abs(np.array(global_dft_list) - np.array(global_fci_list)), label='global DFT', color='b')\n",
    "plt.plot(R_list, abs(np.array(huz_H_diag_list) - np.array(global_fci_list)), label='huz emb', linestyle='dashed', marker='o', color='g')\n",
    "plt.plot(R_list, abs(np.array(mu_H_diag_list) - np.array(global_fci_list)), label='mu emb', linestyle='-', marker='x', color='r')\n",
    "\n",
    "plt.xlabel('OH bond length (angstrom)')\n",
    "plt.ylabel('Error (Ha)')\n",
    "plt.grid(True)\n",
    "# plt.savefig(\"test.png\")\n",
    "plt.legend()\n",
    "plt.show()"
   ]
  },
  {
   "cell_type": "code",
   "execution_count": null,
   "id": "0e89c67f",
   "metadata": {},
   "outputs": [],
   "source": []
  },
  {
   "cell_type": "code",
   "execution_count": null,
   "id": "653ec273",
   "metadata": {},
   "outputs": [],
   "source": []
  },
  {
   "cell_type": "code",
   "execution_count": 12,
   "id": "70a76898",
   "metadata": {},
   "outputs": [],
   "source": [
    "localization = 'ibo' # 'ibo' 'spade'\n",
    "occupied_threshold = 0.75"
   ]
  },
  {
   "cell_type": "code",
   "execution_count": 13,
   "id": "7aea3e72",
   "metadata": {},
   "outputs": [
    {
     "name": "stdout",
     "output_type": "stream",
     "text": [
      " Iterative localization: IB/P4/2x2, 5 iter; Final gradient 5.06e-09\n",
      "[[-2.01960000e+01 -0.00000000e+00 -0.00000000e+00  0.00000000e+00\n",
      "   0.00000000e+00 -0.00000000e+00  0.00000000e+00]\n",
      " [-0.00000000e+00 -5.26000000e-01  0.00000000e+00 -0.00000000e+00\n",
      "   0.00000000e+00 -0.00000000e+00 -0.00000000e+00]\n",
      " [-0.00000000e+00  0.00000000e+00 -3.81000000e-01 -0.00000000e+00\n",
      "   0.00000000e+00 -0.00000000e+00  0.00000000e+00]\n",
      " [ 0.00000000e+00 -0.00000000e+00 -0.00000000e+00 -3.63000000e-01\n",
      "  -0.00000000e+00  0.00000000e+00  0.00000000e+00]\n",
      " [ 0.00000000e+00  0.00000000e+00  0.00000000e+00 -0.00000000e+00\n",
      "   6.97000000e-01 -0.00000000e+00 -0.00000000e+00]\n",
      " [-0.00000000e+00 -0.00000000e+00 -0.00000000e+00  0.00000000e+00\n",
      "  -0.00000000e+00  1.08000000e+00 -0.00000000e+00]\n",
      " [ 0.00000000e+00 -0.00000000e+00  0.00000000e+00  0.00000000e+00\n",
      "  -0.00000000e+00 -0.00000000e+00  9.99998966e+05]]\n",
      "[-2.01957711e+01 -5.25582441e-01 -3.81327247e-01 -3.62599773e-01\n",
      "  6.97049330e-01  1.07987444e+00  9.99998966e+05]\n",
      "\n",
      "[[ 0.002  0.001 -0.    -0.002 -0.008 -0.001 -0.037]\n",
      " [ 0.001  0.001 -0.    -0.001 -0.004 -0.    -0.018]\n",
      " [-0.    -0.     0.     0.     0.001  0.     0.004]\n",
      " [-0.002 -0.001  0.     0.001  0.006  0.001  0.029]\n",
      " [-0.008 -0.004  0.001  0.006  0.03   0.003  0.139]\n",
      " [-0.001 -0.     0.     0.001  0.003  0.     0.015]\n",
      " [-0.037 -0.018  0.004  0.029  0.139  0.015  0.635]]\n",
      "\n",
      "[[-20.196  -0.     -0.      0.     -0.     -0.     -0.   ]\n",
      " [ -0.     -0.526  -0.     -0.      0.     -0.      0.   ]\n",
      " [ -0.     -0.     -0.381  -0.     -0.      0.     -0.   ]\n",
      " [  0.     -0.     -0.     -0.363  -0.      0.     -0.   ]\n",
      " [ -0.      0.     -0.     -0.      0.697  -0.      0.   ]\n",
      " [ -0.     -0.      0.      0.     -0.      1.034   0.   ]\n",
      " [ -0.      0.     -0.     -0.      0.      0.      1.08 ]]\n",
      "[-20.19577117  -0.52558249  -0.38132725  -0.36259979   0.69704933\n",
      "   1.03355763   1.07987442]\n",
      "\n",
      "[[ 0.002 -0.001 -0.     0.002 -0.008 -0.037  0.001]\n",
      " [-0.001  0.001  0.    -0.001  0.004  0.018 -0.   ]\n",
      " [-0.     0.     0.    -0.     0.001  0.004 -0.   ]\n",
      " [ 0.002 -0.001 -0.     0.001 -0.006 -0.029  0.001]\n",
      " [-0.008  0.004  0.001 -0.006  0.03   0.139 -0.003]\n",
      " [-0.037  0.018  0.004 -0.029  0.139  0.635 -0.015]\n",
      " [ 0.001 -0.    -0.     0.001 -0.003 -0.015  0.   ]]\n",
      "\n"
     ]
    }
   ],
   "source": [
    "geometry_path  = list_file_paths[1]\n",
    "projector = 'both'#'both', 'huzinaga'  \n",
    "\n",
    "driver = NbedDriver(\n",
    "        geometry=geometry_path,\n",
    "        n_active_atoms=n_active_atoms,\n",
    "        basis=basis,\n",
    "        xc_functional=xc_functional,\n",
    "        projector=projector,\n",
    "        localization=localization,\n",
    "        convergence=convergence,\n",
    "        charge=charge,\n",
    "        mu_level_shift=mu_level_shift,\n",
    "        run_ccsd_emb=run_ccsd_emb,\n",
    "        run_fci_emb=run_fci_emb,\n",
    "        max_ram_memory=max_ram_memory,\n",
    "        pyscf_print_level=pyscf_print_level,\n",
    "        unit=unit,\n",
    "        occupied_threshold=occupied_threshold,\n",
    "        virtual_threshold=virtual_threshold,\n",
    "        max_hf_cycles=max_hf_cycles)"
   ]
  },
  {
   "cell_type": "code",
   "execution_count": null,
   "id": "8e979764",
   "metadata": {},
   "outputs": [],
   "source": [
    "list(range(n_act_mo))"
   ]
  },
  {
   "cell_type": "code",
   "execution_count": null,
   "id": "522c2fd3",
   "metadata": {},
   "outputs": [],
   "source": [
    "n_act_mo = len(driver.localized_system.active_MO_inds)\n",
    "n_env_mo = len(driver.localized_system.enviro_MO_inds)\n",
    "list(range(n_act_mo+1, 1+n_act_mo + n_env_mo))"
   ]
  },
  {
   "cell_type": "code",
   "execution_count": null,
   "id": "83d66468",
   "metadata": {},
   "outputs": [],
   "source": [
    "print(driver.localized_system.active_MO_inds)\n",
    "print(driver.localized_system.enviro_MO_inds)"
   ]
  },
  {
   "cell_type": "code",
   "execution_count": null,
   "id": "4465de46",
   "metadata": {},
   "outputs": [],
   "source": [
    "mu_scf = driver._mu[\"scf\"]\n",
    "huz_scf = driver._huzinaga[\"scf\"]\n",
    "global_scf = driver._global_hf"
   ]
  },
  {
   "cell_type": "code",
   "execution_count": null,
   "id": "a0afa021",
   "metadata": {},
   "outputs": [],
   "source": [
    "# c_mat = driver.localized_system.rks.mo_coeff\n",
    "# mo_occ = driver.localized_system.rks.get_occ()\n",
    "# dmat = driver.localized_system.rks.make_rdm1(mo_coeff=c_mat, mo_occ=mo_occ)\n",
    "# F = driver.localized_system.rks.get_fock(dm=dmat)\n",
    "\n",
    "# print(np.around(c_mat.T @ F @ c_mat,\n",
    "#                         3))"
   ]
  },
  {
   "cell_type": "code",
   "execution_count": null,
   "id": "824447f3",
   "metadata": {},
   "outputs": [],
   "source": [
    "c_mat = mu_scf.mo_coeff\n",
    "mo_occ = mu_scf.get_occ()\n",
    "dmat = mu_scf.make_rdm1(mo_coeff=c_mat, mo_occ=mo_occ)\n",
    "F =  mu_scf.get_fock(dm=dmat)\n",
    "\n",
    "print(np.around(c_mat.T @ F @c_mat,\n",
    "         3))"
   ]
  },
  {
   "cell_type": "code",
   "execution_count": null,
   "id": "b0881213",
   "metadata": {},
   "outputs": [],
   "source": [
    "c_mat = huz_scf.mo_coeff\n",
    "mo_occ = huz_scf.get_occ()\n",
    "dmat = huz_scf.make_rdm1(mo_coeff=c_mat, mo_occ=mo_occ)\n",
    "F =  huz_scf.get_fock(dm=dmat)\n",
    "\n",
    "print(np.around(c_mat.T @ F @c_mat,\n",
    "         3))"
   ]
  },
  {
   "cell_type": "code",
   "execution_count": null,
   "id": "3a82a3bf",
   "metadata": {},
   "outputs": [],
   "source": [
    "driver.localized_system.active_MO_inds"
   ]
  },
  {
   "cell_type": "code",
   "execution_count": null,
   "id": "e60e6194",
   "metadata": {},
   "outputs": [],
   "source": [
    "driver.localized_system.enviro_MO_inds"
   ]
  },
  {
   "cell_type": "code",
   "execution_count": null,
   "id": "08c66088",
   "metadata": {},
   "outputs": [],
   "source": [
    "list(range(4,8))"
   ]
  },
  {
   "cell_type": "code",
   "execution_count": null,
   "id": "4e12ce24",
   "metadata": {},
   "outputs": [],
   "source": [
    "list(range(len(driver.localized_system.active_MO_inds)))"
   ]
  },
  {
   "cell_type": "code",
   "execution_count": null,
   "id": "78939e84",
   "metadata": {},
   "outputs": [],
   "source": [
    "driver.localized_system.enviro_MO_inds"
   ]
  },
  {
   "cell_type": "code",
   "execution_count": null,
   "id": "bf0db9fe",
   "metadata": {},
   "outputs": [],
   "source": [
    "n_act_mo = len(driver.localized_system.active_MO_inds)\n",
    "n_env_mo = len(driver.localized_system.enviro_MO_inds)"
   ]
  },
  {
   "cell_type": "code",
   "execution_count": null,
   "id": "c7e9823b",
   "metadata": {},
   "outputs": [],
   "source": [
    "mu_scf.make_rdm1()"
   ]
  },
  {
   "cell_type": "code",
   "execution_count": null,
   "id": "5001da6d",
   "metadata": {},
   "outputs": [],
   "source": [
    "c_mat = mu_scf.mo_coeff\n",
    "mo_occ = mu_scf.get_occ()\n",
    "dmat = mu_scf.make_rdm1(mo_coeff=c_mat, mo_occ=mo_occ)\n",
    "F =  mu_scf.geta_fock(dm=dmat)\n",
    "\n",
    "print(np.around(c_mat.T @ F @c_mat,\n",
    "         3))"
   ]
  },
  {
   "cell_type": "code",
   "execution_count": null,
   "id": "03718b5c",
   "metadata": {},
   "outputs": [],
   "source": [
    "[[-2.01840000e+01  0.00000000e+00  0.00000000e+00  0.00000000e+00\n",
    "   6.24000000e-01 -0.00000000e+00]\n",
    " [ 0.00000000e+00 -7.96000000e-01  0.00000000e+00  0.00000000e+00\n",
    "   2.98000000e-01 -0.00000000e+00]\n",
    " [ 0.00000000e+00  0.00000000e+00 -3.46000000e-01  0.00000000e+00\n",
    "   0.00000000e+00  0.00000000e+00]\n",
    " [ 0.00000000e+00  0.00000000e+00  0.00000000e+00  2.53000000e-01\n",
    "  -3.00000000e-03 -0.00000000e+00]\n",
    " [ 6.24000000e-01  2.98000000e-01  0.00000000e+00 -3.00000000e-03\n",
    "   9.99999501e+05 -9.60000000e-02]\n",
    " [-0.00000000e+00 -0.00000000e+00  0.00000000e+00 -0.00000000e+00\n",
    "  -9.60000000e-02  8.93000000e-01]]\n"
   ]
  },
  {
   "cell_type": "code",
   "execution_count": null,
   "id": "29846225",
   "metadata": {},
   "outputs": [],
   "source": [
    " mu_scf.mo_coeff"
   ]
  },
  {
   "cell_type": "code",
   "execution_count": null,
   "id": "de5539f9",
   "metadata": {},
   "outputs": [],
   "source": [
    "np.around(abs(huz_scf.mo_coeff -  mu_scf.mo_coeff), 4)"
   ]
  },
  {
   "cell_type": "code",
   "execution_count": null,
   "id": "ee6d744b",
   "metadata": {},
   "outputs": [],
   "source": [
    "c_mat = huz_scf.mo_coeff\n",
    "mo_occ = huz_scf.get_occ()\n",
    "dmat = huz_scf.make_rdm1(mo_coeff=c_mat, mo_occ=mo_occ)\n",
    "F =  huz_scf.get_fock(dm=dmat)\n",
    "\n",
    "print(np.around(c_mat.T @ F @c_mat,\n",
    "         3))"
   ]
  },
  {
   "cell_type": "code",
   "execution_count": null,
   "id": "dbb52a76",
   "metadata": {},
   "outputs": [],
   "source": []
  },
  {
   "cell_type": "code",
   "execution_count": null,
   "id": "2a2c5cde",
   "metadata": {},
   "outputs": [],
   "source": [
    "c_mat = mu_scf.mo_coeff\n",
    "mo_occ = mu_scf.get_occ()\n",
    "dmat = mu_scf.make_rdm1(mo_coeff=c_mat, mo_occ=mo_occ)\n",
    "F =  mu_scf.get_fock(dm=dmat)\n",
    "c_mat = huz_scf.mo_coeff\n",
    "print(np.around(c_mat.T @ F @c_mat,\n",
    "         2))"
   ]
  }
 ],
 "metadata": {
  "kernelspec": {
   "display_name": "Python 3 (ipykernel)",
   "language": "python",
   "name": "python3"
  },
  "language_info": {
   "codemirror_mode": {
    "name": "ipython",
    "version": 3
   },
   "file_extension": ".py",
   "mimetype": "text/x-python",
   "name": "python",
   "nbconvert_exporter": "python",
   "pygments_lexer": "ipython3",
   "version": "3.9.7"
  }
 },
 "nbformat": 4,
 "nbformat_minor": 5
}
