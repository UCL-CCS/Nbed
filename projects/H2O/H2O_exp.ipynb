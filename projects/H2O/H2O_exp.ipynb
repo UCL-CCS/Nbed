{
 "cells": [
  {
   "cell_type": "code",
   "execution_count": 38,
   "metadata": {},
   "outputs": [],
   "source": [
    "from nbed.driver import NbedDriver\n",
    "from nbed.ham_converter import HamiltonianConverter\n",
    "from openfermion import get_sparse_operator\n",
    "import scipy as sp\n",
    "from openfermion.utils import count_qubits\n",
    "from tqdm.notebook import tqdm\n",
    "import matplotlib.pyplot as plt\n",
    "import numpy as np\n",
    "import os\n",
    "from nbed.mol_plot import Draw_molecule\n",
    "from nbed.utils import pubchem_mol_geometry, build_ordered_xyz_string"
   ]
  },
  {
   "cell_type": "code",
   "execution_count": 39,
   "metadata": {},
   "outputs": [
    {
     "data": {
      "text/plain": [
       "{0: ('O', (0.0, 0.0, 0.0)),\n",
       " 1: ('H', (0.2774, 0.8929, 0.2544)),\n",
       " 2: ('H', (0.6068, -0.2383, -0.7169))}"
      ]
     },
     "execution_count": 39,
     "metadata": {},
     "output_type": "execute_result"
    }
   ],
   "source": [
    "H2O_struct_dict = pubchem_mol_geometry('H2O')\n",
    "\n",
    "H2O_struct_dict"
   ]
  },
  {
   "cell_type": "code",
   "execution_count": 40,
   "metadata": {},
   "outputs": [
    {
     "name": "stdout",
     "output_type": "stream",
     "text": [
      "3\n",
      " \n",
      "O\t0.0\t0.0\t0.0\n",
      "H\t0.2774\t0.8929\t0.2544\n",
      "H\t0.6068\t-0.2383\t-0.7169\n",
      "\n"
     ]
    }
   ],
   "source": [
    "H2O_xyz = build_ordered_xyz_string(H2O_struct_dict, [0,1,2])\n",
    "print(H2O_xyz)"
   ]
  },
  {
   "cell_type": "code",
   "execution_count": 68,
   "metadata": {},
   "outputs": [
    {
     "name": "stdout",
     "output_type": "stream",
     "text": [
      "3\n",
      "\n",
      "O    0.0000000    0.0000000   0.0\n",
      "H    0.7493682    0.0000000    0.6077836\n",
      "H   -0.7493682    0.0000000    0.6077836\n"
     ]
    }
   ],
   "source": [
    "# https://github.com/nutjunkie/IQmol/blob/master/share/fragments/Molecules/Water.xyz\n",
    "H2O_xyz = f'''3\n",
    "\n",
    "O    0.0000000    0.0000000   {-0.1653507+0.1653507}\n",
    "H    0.7493682    0.0000000    {0.4424329+0.1653507}\n",
    "H   -0.7493682    0.0000000    {0.4424329+0.1653507}'''\n",
    "print(H2O_xyz)"
   ]
  },
  {
   "cell_type": "code",
   "execution_count": 93,
   "metadata": {},
   "outputs": [
    {
     "data": {
      "text/plain": [
       "{0: ['O', (0.0, 0.0, 0.0)],\n",
       " 1: ['H', (0.7493682, 0.0, 0.6077836)],\n",
       " 2: ['H', (-0.7493682, 0.0, 0.6077836)]}"
      ]
     },
     "execution_count": 93,
     "metadata": {},
     "output_type": "execute_result"
    }
   ],
   "source": [
    "structural_dict= {}\n",
    "for ind, atom_xyz in enumerate(H2O_xyz[3:].split('\\n')):\n",
    "    atom_xyz_list = atom_xyz.split()\n",
    "    structural_dict[ind] = [atom_xyz_list[0], tuple(map(float, (atom_xyz_list[i] for i in range(1,4)))) ]\n",
    "\n",
    "structural_dict"
   ]
  },
  {
   "cell_type": "code",
   "execution_count": 96,
   "metadata": {},
   "outputs": [],
   "source": [
    "theta = np.arctan(structural_dict[1][1][0] / structural_dict[1][1][2])\n",
    "\n",
    "list_bond_lengths = [0.5, 0.75, 1, 1.25, 1.5, 2, 3] \n",
    "\n",
    "new_x_vals = [H_length*np.cos(theta) for H_length in list_bond_lengths]\n",
    "new_z_vals = [H_length*np.sin(theta) for H_length in list_bond_lengths]"
   ]
  },
  {
   "cell_type": "code",
   "execution_count": 97,
   "metadata": {},
   "outputs": [
    {
     "ename": "IndexError",
     "evalue": "list assignment index out of range",
     "output_type": "error",
     "traceback": [
      "\u001b[0;31m---------------------------------------------------------------------------\u001b[0m",
      "\u001b[0;31mIndexError\u001b[0m                                Traceback (most recent call last)",
      "\u001b[0;32m/var/folders/7l/9g4tmq2s5zg48_szmd8z7qh40000gn/T/ipykernel_29021/1976428139.py\u001b[0m in \u001b[0;36m<module>\u001b[0;34m\u001b[0m\n\u001b[1;32m      5\u001b[0m \u001b[0;34m\u001b[0m\u001b[0m\n\u001b[1;32m      6\u001b[0m     \u001b[0mdict_temp\u001b[0m\u001b[0;34m[\u001b[0m\u001b[0;36m1\u001b[0m\u001b[0;34m]\u001b[0m\u001b[0;34m[\u001b[0m\u001b[0;36m1\u001b[0m\u001b[0;34m]\u001b[0m \u001b[0;34m=\u001b[0m \u001b[0mnew_x\u001b[0m\u001b[0;34m\u001b[0m\u001b[0;34m\u001b[0m\u001b[0m\n\u001b[0;32m----> 7\u001b[0;31m     \u001b[0mdict_temp\u001b[0m\u001b[0;34m[\u001b[0m\u001b[0;36m1\u001b[0m\u001b[0;34m]\u001b[0m\u001b[0;34m[\u001b[0m\u001b[0;36m3\u001b[0m\u001b[0;34m]\u001b[0m \u001b[0;34m=\u001b[0m \u001b[0mnew_z\u001b[0m\u001b[0;34m\u001b[0m\u001b[0;34m\u001b[0m\u001b[0m\n\u001b[0m\u001b[1;32m      8\u001b[0m \u001b[0;34m\u001b[0m\u001b[0m\n\u001b[1;32m      9\u001b[0m     \u001b[0mtemp_xyz\u001b[0m \u001b[0;34m=\u001b[0m \u001b[0mbuild_ordered_xyz_string\u001b[0m\u001b[0;34m(\u001b[0m\u001b[0mdict_temp\u001b[0m\u001b[0;34m,\u001b[0m \u001b[0;34m[\u001b[0m\u001b[0;36m0\u001b[0m\u001b[0;34m,\u001b[0m\u001b[0;36m1\u001b[0m\u001b[0;34m,\u001b[0m\u001b[0;36m2\u001b[0m\u001b[0;34m]\u001b[0m\u001b[0;34m)\u001b[0m\u001b[0;34m\u001b[0m\u001b[0;34m\u001b[0m\u001b[0m\n",
      "\u001b[0;31mIndexError\u001b[0m: list assignment index out of range"
     ]
    }
   ],
   "source": [
    "xyz_structures = []\n",
    "\n",
    "for new_x, new_z in zip(new_x_vals, new_z_vals):\n",
    "    dict_temp = structural_dict.copy()\n",
    "    \n",
    "    dict_temp[1][1] = new_x\n",
    "    dict_temp[1][3] = new_z\n",
    "    \n",
    "    temp_xyz = build_ordered_xyz_string(dict_temp, [0,1,2])\n",
    "    xyz_structures.append(temp_xyz)\n"
   ]
  },
  {
   "cell_type": "code",
   "execution_count": null,
   "metadata": {},
   "outputs": [],
   "source": []
  },
  {
   "cell_type": "code",
   "execution_count": 81,
   "metadata": {},
   "outputs": [
    {
     "data": {
      "application/3dmoljs_load.v0": "<div id=\"3dmolviewer_258754811437562\"  style=\"position: relative; width: 400px; height: 400px\">\n        <p id=\"3dmolwarning_258754811437562\" style=\"background-color:#ffcccc;color:black\">You appear to be running in JupyterLab (or JavaScript failed to load for some other reason).  You need to install the 3dmol extension: <br>\n        <tt>jupyter labextension install jupyterlab_3dmol</tt></p>\n        </div>\n<script>\n\nvar loadScriptAsync = function(uri){\n  return new Promise((resolve, reject) => {\n    var tag = document.createElement('script');\n    tag.src = uri;\n    tag.async = true;\n    tag.onload = () => {\n      resolve();\n    };\n  var firstScriptTag = document.getElementsByTagName('script')[0];\n  firstScriptTag.parentNode.insertBefore(tag, firstScriptTag);\n});\n};\n\nif(typeof $3Dmolpromise === 'undefined') {\n$3Dmolpromise = null;\n  $3Dmolpromise = loadScriptAsync('https://3dmol.org/build/3Dmol.js');\n}\n\nvar viewer_258754811437562 = null;\nvar warn = document.getElementById(\"3dmolwarning_258754811437562\");\nif(warn) {\n    warn.parentNode.removeChild(warn);\n}\n$3Dmolpromise.then(function() {\nviewer_258754811437562 = $3Dmol.createViewer($(\"#3dmolviewer_258754811437562\"),{backgroundColor:\"white\"});\nviewer_258754811437562.addModel(\"3\\n\\n    O    0.0000000    0.0000000   0.6077836\\n    H    0.6299194    0.0000000    0.7766605\\n    H   -0.7493682    0.0000000    0.6077836\\n    \");\nviewer_258754811437562.setStyle({\"stick\": {}});\nviewer_258754811437562.zoomTo();\n\tviewer_258754811437562.zoomTo();\nviewer_258754811437562.render();\n});\n</script>",
      "text/html": [
       "<div id=\"3dmolviewer_258754811437562\"  style=\"position: relative; width: 400px; height: 400px\">\n",
       "        <p id=\"3dmolwarning_258754811437562\" style=\"background-color:#ffcccc;color:black\">You appear to be running in JupyterLab (or JavaScript failed to load for some other reason).  You need to install the 3dmol extension: <br>\n",
       "        <tt>jupyter labextension install jupyterlab_3dmol</tt></p>\n",
       "        </div>\n",
       "<script>\n",
       "\n",
       "var loadScriptAsync = function(uri){\n",
       "  return new Promise((resolve, reject) => {\n",
       "    var tag = document.createElement('script');\n",
       "    tag.src = uri;\n",
       "    tag.async = true;\n",
       "    tag.onload = () => {\n",
       "      resolve();\n",
       "    };\n",
       "  var firstScriptTag = document.getElementsByTagName('script')[0];\n",
       "  firstScriptTag.parentNode.insertBefore(tag, firstScriptTag);\n",
       "});\n",
       "};\n",
       "\n",
       "if(typeof $3Dmolpromise === 'undefined') {\n",
       "$3Dmolpromise = null;\n",
       "  $3Dmolpromise = loadScriptAsync('https://3dmol.org/build/3Dmol.js');\n",
       "}\n",
       "\n",
       "var viewer_258754811437562 = null;\n",
       "var warn = document.getElementById(\"3dmolwarning_258754811437562\");\n",
       "if(warn) {\n",
       "    warn.parentNode.removeChild(warn);\n",
       "}\n",
       "$3Dmolpromise.then(function() {\n",
       "viewer_258754811437562 = $3Dmol.createViewer($(\"#3dmolviewer_258754811437562\"),{backgroundColor:\"white\"});\n",
       "viewer_258754811437562.addModel(\"3\\n\\n    O    0.0000000    0.0000000   0.6077836\\n    H    0.6299194    0.0000000    0.7766605\\n    H   -0.7493682    0.0000000    0.6077836\\n    \");\n",
       "viewer_258754811437562.setStyle({\"stick\": {}});\n",
       "viewer_258754811437562.zoomTo();\n",
       "\tviewer_258754811437562.zoomTo();\n",
       "viewer_258754811437562.render();\n",
       "});\n",
       "</script>"
      ]
     },
     "metadata": {},
     "output_type": "display_data"
    }
   ],
   "source": [
    "mol_viewer = Draw_molecule(xyz_structures[2], style='stick')\n",
    "mol_viewer.show()"
   ]
  },
  {
   "cell_type": "code",
   "execution_count": 77,
   "metadata": {},
   "outputs": [
    {
     "name": "stdout",
     "output_type": "stream",
     "text": [
      "3\n",
      "\n",
      "    O    0.0000000    0.0000000   0.6077836\n",
      "    H    0.3149597    0.0000000    0.3883303\n",
      "    H   -0.7493682    0.0000000    0.6077836\n"
     ]
    }
   ],
   "source": [
    "print(xyz_structures[0])"
   ]
  },
  {
   "cell_type": "code",
   "execution_count": null,
   "metadata": {},
   "outputs": [],
   "source": []
  },
  {
   "cell_type": "code",
   "execution_count": 34,
   "metadata": {},
   "outputs": [],
   "source": [
    "H2O_xyz_array = np.array([\n",
    "    [0.0 ,0.0 ,0.0],\n",
    "    [0.7493682, 0.0000000, 0.6077836],\n",
    "    [-0.7493682, 0.0000000, 0.6077836]\n",
    "])"
   ]
  },
  {
   "cell_type": "code",
   "execution_count": 35,
   "metadata": {},
   "outputs": [],
   "source": [
    "Ry = lambda theta: np.array([\n",
    "    [np.cos(theta) , 0 , np.sin(theta)],\n",
    "    [0,              1 ,     0],\n",
    "    [np.sin(theta), 0,  np.cos(theta)]\n",
    "])"
   ]
  },
  {
   "cell_type": "code",
   "execution_count": 37,
   "metadata": {},
   "outputs": [
    {
     "data": {
      "text/plain": [
       "array([-0.60662739,  0.        ,  0.43869966])"
      ]
     },
     "execution_count": 37,
     "metadata": {},
     "output_type": "execute_result"
    }
   ],
   "source": [
    "Ry(np.deg2rad(12))@H2O_xyz_array[2,:]"
   ]
  },
  {
   "cell_type": "code",
   "execution_count": null,
   "metadata": {},
   "outputs": [],
   "source": []
  },
  {
   "cell_type": "code",
   "execution_count": 30,
   "metadata": {},
   "outputs": [
    {
     "data": {
      "application/3dmoljs_load.v0": "<div id=\"3dmolviewer_568133595066\"  style=\"position: relative; width: 400px; height: 400px\">\n        <p id=\"3dmolwarning_568133595066\" style=\"background-color:#ffcccc;color:black\">You appear to be running in JupyterLab (or JavaScript failed to load for some other reason).  You need to install the 3dmol extension: <br>\n        <tt>jupyter labextension install jupyterlab_3dmol</tt></p>\n        </div>\n<script>\n\nvar loadScriptAsync = function(uri){\n  return new Promise((resolve, reject) => {\n    var tag = document.createElement('script');\n    tag.src = uri;\n    tag.async = true;\n    tag.onload = () => {\n      resolve();\n    };\n  var firstScriptTag = document.getElementsByTagName('script')[0];\n  firstScriptTag.parentNode.insertBefore(tag, firstScriptTag);\n});\n};\n\nif(typeof $3Dmolpromise === 'undefined') {\n$3Dmolpromise = null;\n  $3Dmolpromise = loadScriptAsync('https://3dmol.org/build/3Dmol.js');\n}\n\nvar viewer_568133595066 = null;\nvar warn = document.getElementById(\"3dmolwarning_568133595066\");\nif(warn) {\n    warn.parentNode.removeChild(warn);\n}\n$3Dmolpromise.then(function() {\nviewer_568133595066 = $3Dmol.createViewer($(\"#3dmolviewer_568133595066\"),{backgroundColor:\"white\"});\nviewer_568133595066.addModel(\"3\\n\\nO    0.0000000    0.0000000   0.0\\nH    0.7493682    0.0000000    0.6077836\\nH   -0.7493682    0.0000000    0.6077836\");\nviewer_568133595066.setStyle({\"stick\": {}});\nviewer_568133595066.zoomTo();\n\tviewer_568133595066.zoomTo();\nviewer_568133595066.render();\n});\n</script>",
      "text/html": [
       "<div id=\"3dmolviewer_568133595066\"  style=\"position: relative; width: 400px; height: 400px\">\n",
       "        <p id=\"3dmolwarning_568133595066\" style=\"background-color:#ffcccc;color:black\">You appear to be running in JupyterLab (or JavaScript failed to load for some other reason).  You need to install the 3dmol extension: <br>\n",
       "        <tt>jupyter labextension install jupyterlab_3dmol</tt></p>\n",
       "        </div>\n",
       "<script>\n",
       "\n",
       "var loadScriptAsync = function(uri){\n",
       "  return new Promise((resolve, reject) => {\n",
       "    var tag = document.createElement('script');\n",
       "    tag.src = uri;\n",
       "    tag.async = true;\n",
       "    tag.onload = () => {\n",
       "      resolve();\n",
       "    };\n",
       "  var firstScriptTag = document.getElementsByTagName('script')[0];\n",
       "  firstScriptTag.parentNode.insertBefore(tag, firstScriptTag);\n",
       "});\n",
       "};\n",
       "\n",
       "if(typeof $3Dmolpromise === 'undefined') {\n",
       "$3Dmolpromise = null;\n",
       "  $3Dmolpromise = loadScriptAsync('https://3dmol.org/build/3Dmol.js');\n",
       "}\n",
       "\n",
       "var viewer_568133595066 = null;\n",
       "var warn = document.getElementById(\"3dmolwarning_568133595066\");\n",
       "if(warn) {\n",
       "    warn.parentNode.removeChild(warn);\n",
       "}\n",
       "$3Dmolpromise.then(function() {\n",
       "viewer_568133595066 = $3Dmol.createViewer($(\"#3dmolviewer_568133595066\"),{backgroundColor:\"white\"});\n",
       "viewer_568133595066.addModel(\"3\\n\\nO    0.0000000    0.0000000   0.0\\nH    0.7493682    0.0000000    0.6077836\\nH   -0.7493682    0.0000000    0.6077836\");\n",
       "viewer_568133595066.setStyle({\"stick\": {}});\n",
       "viewer_568133595066.zoomTo();\n",
       "\tviewer_568133595066.zoomTo();\n",
       "viewer_568133595066.render();\n",
       "});\n",
       "</script>"
      ]
     },
     "metadata": {},
     "output_type": "display_data"
    }
   ],
   "source": [
    "mol_viewer = Draw_molecule(H2O_xyz, style='stick')\n",
    "mol_viewer.show()"
   ]
  },
  {
   "cell_type": "code",
   "execution_count": 14,
   "metadata": {},
   "outputs": [],
   "source": [
    "localization = 'spade'\n",
    "n_active_atoms = 1\n",
    "geometry = H2O_xyz"
   ]
  },
  {
   "cell_type": "code",
   "execution_count": 15,
   "metadata": {},
   "outputs": [],
   "source": [
    "basis = 'STO-3G'\n",
    "xc_functional = 'B3LYP'\n",
    "projector = 'both'\n",
    "convergence = 1e-6\n",
    "charge = 0\n",
    "mu_level_shift=1e6\n",
    "run_ccsd_emb = True\n",
    "run_fci_emb = True\n",
    "max_ram_memory = 8_000\n",
    "pyscf_print_level = 1\n",
    "unit = 'angstrom'\n",
    "occupied_threshold = 0.95\n",
    "virtual_threshold = 0.95"
   ]
  },
  {
   "cell_type": "code",
   "execution_count": 17,
   "metadata": {},
   "outputs": [],
   "source": [
    "driver = NbedDriver(\n",
    "        geometry=geometry,\n",
    "        n_active_atoms=n_active_atoms,\n",
    "        basis=basis,\n",
    "        xc_functional=xc_functional,\n",
    "        projector=projector,\n",
    "        localization=localization,\n",
    "        convergence=convergence,\n",
    "        charge=charge,\n",
    "        mu_level_shift=mu_level_shift,\n",
    "        run_ccsd_emb=run_ccsd_emb,\n",
    "        run_fci_emb=run_fci_emb,\n",
    "        max_ram_memory=max_ram_memory,\n",
    "        pyscf_print_level=pyscf_print_level,\n",
    "        unit=unit,\n",
    "        occupied_threshold=occupied_threshold,\n",
    "        virtual_threshold=virtual_threshold,\n",
    "    )\n",
    "\n"
   ]
  },
  {
   "cell_type": "code",
   "execution_count": 23,
   "metadata": {},
   "outputs": [],
   "source": [
    "## global\n",
    "global_dft = driver._global_rks.e_tot\n",
    "# global_fci = driver._global_fci.e_tot\n",
    "global_H = driver.full_system_hamiltonian\n",
    "# global_H_sparse = get_sparse_operator(global_H)\n",
    "# E_fci =  sp.sparse.linalg.eigsh(global_H_sparse, k=1, which='SA')[0][0] + driver._global_hf.energy_nuc()\n",
    "global_qubit_Ham = getattr( HamiltonianConverter(global_H, transform='jordan_wigner'), 'openfermion')\n",
    "global_nqubits = count_qubits(global_qubit_Ham)\n",
    "\n",
    "# HUZ\n",
    "# huz_RHF = driver._huzinaga['e_rhf']\n",
    "# huz_ccsd = driver._huzinaga['e_ccsd']\n",
    "huz_fci = driver._huzinaga['e_fci']\n",
    "huz_H_emb = driver._huzinaga['hamiltonian']\n",
    "# huz_classical = driver._huzinaga['classical_energy']\n",
    "# huz_H_sparse = get_sparse_operator(huz_H_emb)\n",
    "# huz_e_emb = sp.sparse.linalg.eigsh(huz_H_sparse, k=1, which='SA')[0][0]\n",
    "huz_qubit_Ham = getattr( HamiltonianConverter(huz_H_emb, transform='jordan_wigner'), 'openfermion')\n",
    "huz_nqubits = count_qubits(huz_qubit_Ham)\n",
    "\n",
    "# mu shift\n",
    "# mu_RHF = driver._mu['e_rhf']\n",
    "# mu_ccsd = driver._mu['e_ccsd']\n",
    "mu_fci = driver._mu['e_fci']\n",
    "mu_H_emb = driver._mu['hamiltonian']\n",
    "# mu_classical = driver._mu['classical_energy']\n",
    "# mu_H_sparse = get_sparse_operator(mu_H_emb)\n",
    "# mu_e_emb = sp.sparse.linalg.eigsh(mu_H_sparse, k=1, which='SA')[0][0]\n",
    "mu_qubit_Ham = getattr( HamiltonianConverter(mu_H_emb, transform='jordan_wigner'), 'openfermion')\n",
    "mu_nqubits = count_qubits(mu_qubit_Ham)"
   ]
  },
  {
   "cell_type": "code",
   "execution_count": 19,
   "metadata": {},
   "outputs": [
    {
     "data": {
      "text/plain": [
       "10"
      ]
     },
     "execution_count": 19,
     "metadata": {},
     "output_type": "execute_result"
    }
   ],
   "source": [
    "huz_nqubits"
   ]
  },
  {
   "cell_type": "code",
   "execution_count": 20,
   "metadata": {},
   "outputs": [],
   "source": [
    "huz_H_sparse = get_sparse_operator(huz_H_emb)\n",
    "huz_e_emb = sp.sparse.linalg.eigsh(huz_H_sparse, k=1, which='SA')[0][0]\n",
    "\n",
    "mu_H_sparse = get_sparse_operator(mu_H_emb)\n",
    "mu_e_emb = sp.sparse.linalg.eigsh(mu_H_sparse, k=1, which='SA')[0][0]"
   ]
  },
  {
   "cell_type": "code",
   "execution_count": 22,
   "metadata": {},
   "outputs": [
    {
     "data": {
      "text/plain": [
       "6.660717701834074e-07"
      ]
     },
     "execution_count": 22,
     "metadata": {},
     "output_type": "execute_result"
    }
   ],
   "source": [
    "huz_e_emb - mu_e_emb"
   ]
  },
  {
   "cell_type": "code",
   "execution_count": 25,
   "metadata": {},
   "outputs": [
    {
     "data": {
      "text/plain": [
       "8.526512829121202e-14"
      ]
     },
     "execution_count": 25,
     "metadata": {},
     "output_type": "execute_result"
    }
   ],
   "source": [
    "huz_fci - huz_e_emb"
   ]
  },
  {
   "cell_type": "code",
   "execution_count": 26,
   "metadata": {},
   "outputs": [
    {
     "data": {
      "text/plain": [
       "8.668621376273222e-13"
      ]
     },
     "execution_count": 26,
     "metadata": {},
     "output_type": "execute_result"
    }
   ],
   "source": [
    "mu_fci - mu_e_emb"
   ]
  },
  {
   "cell_type": "code",
   "execution_count": null,
   "metadata": {},
   "outputs": [],
   "source": []
  },
  {
   "cell_type": "code",
   "execution_count": null,
   "metadata": {},
   "outputs": [],
   "source": []
  },
  {
   "cell_type": "code",
   "execution_count": null,
   "metadata": {},
   "outputs": [],
   "source": []
  },
  {
   "cell_type": "code",
   "execution_count": null,
   "metadata": {},
   "outputs": [],
   "source": []
  },
  {
   "cell_type": "code",
   "execution_count": null,
   "metadata": {},
   "outputs": [],
   "source": [
    "# global_dft_list=[]\n",
    "# global_fci_list=[]\n",
    "# global_H_diag_list=[]\n",
    "# global_qubit_H_length_list=[]\n",
    "# global_qubit_H_nqubits=[]\n",
    "\n",
    "# huz_rhf_list=[]\n",
    "# huz_ccsd_list=[]\n",
    "# huz_fci_list=[]\n",
    "# huz_H_diag_list=[]\n",
    "# huz_qubit_H_length_list=[]\n",
    "# huz_H_nqubitsa=[]\n",
    "\n",
    "# mu_rhf_list=[]\n",
    "# mu_ccsd_list=[]\n",
    "# mu_fci_list=[]\n",
    "# mu_H_diag_list=[]\n",
    "# mu_qubit_H_length_list=[]\n",
    "# mu_H_nqubits=[]\n",
    "# N_active_AOs = []\n",
    "\n",
    "# for geometry_path in tqdm(bottom_top_bottom_top_file_paths):\n",
    "#     try:\n",
    "#         driver = NbedDriver(\n",
    "#                 geometry=geometry_path,\n",
    "#                 n_active_atoms=n_active_atoms,\n",
    "#                 basis=basis,\n",
    "#                 xc_functional=xc_functional,\n",
    "#                 projector=projector,\n",
    "#                 localization=localization,\n",
    "#                 convergence=convergence,\n",
    "#                 charge=charge,\n",
    "#                 mu_level_shift=mu_level_shift,\n",
    "#                 run_ccsd_emb=run_ccsd_emb,\n",
    "#                 run_fci_emb=run_fci_emb,\n",
    "#                 max_ram_memory=max_ram_memory,\n",
    "#                 pyscf_print_level=pyscf_print_level,\n",
    "#                 unit=unit,\n",
    "#                 occupied_threshold=occupied_threshold,\n",
    "#                 virtual_threshold=virtual_threshold)\n",
    "#     except:\n",
    "#         print('error for:')\n",
    "#         print(geometry_path)\n",
    "#         print()\n",
    "#         continue\n",
    "\n",
    "    \n",
    "#     ## global\n",
    "#     global_dft_list.append(driver._global_rks.e_tot)\n",
    "#     global_fci_list.append(driver._global_fci.e_tot)\n",
    "    \n",
    "#     global_H = driver.full_system_hamiltonian\n",
    "#     global_H_sparse = get_sparse_operator(global_H)\n",
    "#     E_fci =  sp.sparse.linalg.eigsh(global_H_sparse, k=1, which='SA')[0][0] + driver._global_hf.energy_nuc()\n",
    "#     global_H_diag_list.append(E_fci)\n",
    "    \n",
    "#     global_qubit_Ham = getattr( HamiltonianConverter(global_H, transform='jordan_wigner'), 'openfermion')\n",
    "#     global_qubit_H_length_list.append(len(global_qubit_Ham.terms))\n",
    "#     global_qubit_H_nqubits.append(count_qubits(global_qubit_Ham))\n",
    "\n",
    "#     ##\n",
    "#     N_active_AOs.append(len(driver.localized_system.active_MO_inds))\n",
    "    \n",
    "#     # HUZ\n",
    "#     huz_rhf_list.append(driver._huzinaga['e_rhf'])\n",
    "#     huz_ccsd_list.append(driver._huzinaga['e_ccsd'])\n",
    "#     huz_fci_list.append(driver._huzinaga['e_fci'])\n",
    "\n",
    "#     huz_H_emb = driver._huzinaga['hamiltonian']\n",
    "#     huz_classical = driver._huzinaga['classical_energy']\n",
    "#     huz_H_sparse = get_sparse_operator(huz_H_emb)\n",
    "#     huz_e_emb = sp.sparse.linalg.eigsh(huz_H_sparse, k=1, which='SA')[0][0]\n",
    "#     huz_H_diag_list.append(huz_e_emb)\n",
    "    \n",
    "#     huz_qubit_Ham = getattr( HamiltonianConverter(huz_H_emb, transform='jordan_wigner'), 'openfermion')\n",
    "#     huz_qubit_H_length_list.append(len(huz_qubit_Ham.terms))\n",
    "#     huz_nqubits = count_qubits(huz_qubit_Ham)\n",
    "#     huz_H_nqubits.append(huz_nqubits)\n",
    "\n",
    "#     # mu shift\n",
    "#     mu_rhf_list.append(driver._mu['e_rhf'])\n",
    "#     mu_ccsd_list.append(driver._mu['e_ccsd'])\n",
    "#     mu_fci_list.append(driver._mu['e_fci'])\n",
    "    \n",
    "#     mu_H_emb = driver._mu['hamiltonian']\n",
    "#     mu_classical = driver._mu['classical_energy']\n",
    "#     mu_H_sparse = get_sparse_operator(mu_H_emb)\n",
    "#     mu_e_emb = sp.sparse.linalg.eigsh(mu_H_sparse, k=1, which='SA')[0][0]\n",
    "#     mu_H_diag_list.append(mu_e_emb)\n",
    "    \n",
    "#     mu_qubit_Ham = getattr( HamiltonianConverter(mu_H_emb, transform='jordan_wigner'), 'openfermion')\n",
    "#     mu_nqubits = count_qubits(huz_qubit_Ham)\n",
    "#     mu_qubit_H_length_list.append(len(mu_qubit_Ham.terms))\n",
    "#     mu_H_nqubits.append(mu_nqubits)\n",
    "    \n",
    "#     del driver"
   ]
  },
  {
   "cell_type": "code",
   "execution_count": null,
   "metadata": {},
   "outputs": [],
   "source": []
  },
  {
   "cell_type": "code",
   "execution_count": null,
   "metadata": {},
   "outputs": [],
   "source": [
    "import pandas as pd\n",
    "exp_data = {\n",
    "    'global DFT': global_dft_list, \n",
    "    \n",
    "    'global FCI': global_fci_list,\n",
    "    'huz emb FCI': huz_H_diag_list,\n",
    "    'mu emb FCI': mu_H_diag_list,\n",
    "    \n",
    "    'global H': global_qubit_H_length_list,\n",
    "    'huz H emb': huz_qubit_H_length_list,\n",
    "    'mu H emb': mu_qubit_H_length_list,\n",
    "    \n",
    "    'global n qubits ': global_qubit_H_nqubits,\n",
    "    'huz n qubits ': huz_H_nqubits,\n",
    "    'mu n qubits ': mu_H_nqubits,\n",
    "    'N active AOs ': N_active_AOs,\n",
    "    \n",
    "}\n",
    "\n",
    "df = pd.DataFrame(data=exp_data)\n",
    "\n",
    "df"
   ]
  },
  {
   "cell_type": "code",
   "execution_count": null,
   "metadata": {},
   "outputs": [],
   "source": []
  },
  {
   "cell_type": "code",
   "execution_count": null,
   "metadata": {},
   "outputs": [],
   "source": []
  },
  {
   "cell_type": "code",
   "execution_count": null,
   "metadata": {},
   "outputs": [],
   "source": [
    "%matplotlib inline\n",
    "\n",
    "angles = list(range(85,96))\n",
    "# angles = list(range(85,87))\n",
    "\n",
    "plt.plot(angles, global_dft_list, label='global DFT', color='b')\n",
    "plt.plot(angles, global_fci_list, label='global FCI', color='orange')\n",
    "plt.plot(angles, huz_H_diag_list, label='huz emb', linestyle='dashed', marker='o', color='g')\n",
    "plt.plot(angles, mu_H_diag_list, label='mu emb', linestyle='-', marker='x', color='r')\n",
    "\n",
    "plt.xlabel('angle (degrees)')\n",
    "plt.ylabel('energy (Ha)')\n",
    "plt.grid(True)\n",
    "# plt.savefig(\"test.png\")\n",
    "plt.legend()\n",
    "plt.show()"
   ]
  },
  {
   "cell_type": "code",
   "execution_count": null,
   "metadata": {},
   "outputs": [],
   "source": [
    "plt.plot(angles, np.abs(np.array(global_fci_list)-np.array(global_dft_list)), label='error global DFT', color='b')\n",
    "plt.plot(angles, np.abs(np.array(global_fci_list)-np.array(huz_H_diag_list)) , label='error huz emb', linestyle='dashed', marker='o', color='g')\n",
    "plt.plot(angles, np.abs(np.array(global_fci_list)-np.array(mu_H_diag_list)) , label='error mu emb', linestyle='-', marker='x', color='r')\n",
    "\n",
    "plt.xlabel('angle (degrees)')\n",
    "plt.ylabel('energy ERROR (Ha)')\n",
    "plt.grid(True)\n",
    "# plt.savefig(\"test.png\")\n",
    "plt.legend()\n",
    "plt.show()"
   ]
  },
  {
   "cell_type": "code",
   "execution_count": null,
   "metadata": {},
   "outputs": [],
   "source": []
  },
  {
   "cell_type": "code",
   "execution_count": null,
   "metadata": {},
   "outputs": [],
   "source": []
  },
  {
   "cell_type": "code",
   "execution_count": null,
   "metadata": {},
   "outputs": [],
   "source": []
  },
  {
   "cell_type": "code",
   "execution_count": null,
   "metadata": {},
   "outputs": [],
   "source": []
  },
  {
   "cell_type": "code",
   "execution_count": null,
   "metadata": {},
   "outputs": [],
   "source": [
    "ending = 'bottom_bottom_top_top_order.xyz'\n",
    "\n",
    "bottom_bottom_top_top_file_paths = []\n",
    "for xyz_filename in sorted(os.listdir(structure_dir)):\n",
    "    if  xyz_filename.endswith(ending):\n",
    "        bottom_bottom_top_top_file_paths.append(os.path.join(structure_dir, xyz_filename))"
   ]
  },
  {
   "cell_type": "code",
   "execution_count": null,
   "metadata": {},
   "outputs": [],
   "source": [
    "# active part is bottom left \n",
    "\n",
    "with open(bottom_bottom_top_top_file_paths[0], 'r') as infile:\n",
    "    xyz1 = infile.read()\n",
    "with open(bottom_bottom_top_top_file_paths[int(len(bottom_bottom_top_top_file_paths)/2)], 'r') as infile:\n",
    "    xyz2 = infile.read()\n",
    "with open(bottom_bottom_top_top_file_paths[-1], 'r') as infile:\n",
    "    xyz3 = infile.read()\n",
    "\n",
    "numpy_xyz1_new = coords_as_numpy_array(xyz1)\n",
    "numpy_xyz2_new = coords_as_numpy_array(xyz2)\n",
    "numpy_xyz3_new = coords_as_numpy_array(xyz3)\n",
    "\n",
    "print(bottom_bottom_top_top_file_paths[0][-42:])\n",
    "print(bottom_bottom_top_top_file_paths[int(len(bottom_top_bottom_top_file_paths)/2)][-42:])\n",
    "print(bottom_bottom_top_top_file_paths[-1][-42:])\n",
    "\n",
    "\n",
    "\n",
    "plt.scatter(numpy_xyz1_new[:n_active_atoms,0], numpy_xyz1_new[:n_active_atoms,1], label='first step (85 degrees) active', marker='x', color='b')\n",
    "plt.scatter(numpy_xyz1_new[n_active_atoms:,0], numpy_xyz1_new[n_active_atoms:,1], label='first step (85 degrees)', marker='s', color='b')\n",
    "\n",
    "plt.scatter(numpy_xyz2_new[:n_active_atoms,0], numpy_xyz2_new[:n_active_atoms,1], label='middle step (90 degrees) active', marker='x', color='g')\n",
    "plt.scatter(numpy_xyz2_new[n_active_atoms:,0], numpy_xyz2_new[n_active_atoms:,1], label='middle step (90 degrees)', marker='d', color='g')\n",
    "\n",
    "plt.scatter(numpy_xyz3_new[:n_active_atoms,0], numpy_xyz3_new[:n_active_atoms,1], label='last step (95 degrees active)', marker='_', color='r', linewidths=4)\n",
    "plt.scatter(numpy_xyz3_new[n_active_atoms:,0], numpy_xyz3_new[n_active_atoms:,1], label='last step (95 degrees)', marker='^', color='r')\n",
    "\n",
    "plt.legend()\n",
    "plt.show()"
   ]
  },
  {
   "cell_type": "code",
   "execution_count": null,
   "metadata": {},
   "outputs": [],
   "source": []
  },
  {
   "cell_type": "code",
   "execution_count": null,
   "metadata": {},
   "outputs": [],
   "source": [
    "numpy_xyz3_new"
   ]
  },
  {
   "cell_type": "code",
   "execution_count": null,
   "metadata": {},
   "outputs": [],
   "source": [
    "list(zip(numpy_xyz3_new[n_active_atoms:,0], numpy_xyz3_new[n_active_atoms:,1]))"
   ]
  },
  {
   "cell_type": "code",
   "execution_count": null,
   "metadata": {},
   "outputs": [],
   "source": [
    "(numpy_xyz3[:n_active_atoms,0], numpy_xyz3[:n_active_atoms,1])\n",
    "\n",
    "# list(zip(numpy_xyz3[n_active_atoms:, 0], numpy_xyz3[n_active_atoms:, 1]))"
   ]
  },
  {
   "cell_type": "code",
   "execution_count": null,
   "metadata": {},
   "outputs": [],
   "source": [
    "global_dft_list=[]\n",
    "global_fci_list=[]\n",
    "global_H_diag_list=[]\n",
    "global_qubit_H_length_list=[]\n",
    "global_qubit_H_nqubits=[]\n",
    "\n",
    "huz_rhf_list=[]\n",
    "huz_ccsd_list=[]\n",
    "huz_fci_list=[]\n",
    "huz_H_diag_list=[]\n",
    "huz_qubit_H_length_list=[]\n",
    "huz_H_nqubits=[]\n",
    "\n",
    "mu_rhf_list=[]\n",
    "mu_ccsd_list=[]\n",
    "mu_fci_list=[]\n",
    "mu_H_diag_list=[]\n",
    "mu_qubit_H_length_list=[]\n",
    "mu_H_nqubits=[]\n",
    "N_active_AOs = []\n",
    "\n",
    "for geometry_path in tqdm(bottom_bottom_top_top_file_paths):\n",
    "    try:\n",
    "        driver = NbedDriver(\n",
    "                geometry=geometry_path,\n",
    "                n_active_atoms=n_active_atoms,\n",
    "                basis=basis,\n",
    "                xc_functional=xc_functional,\n",
    "                projector=projector,\n",
    "                localization=localization,\n",
    "                convergence=convergence,\n",
    "                charge=charge,\n",
    "                mu_level_shift=mu_level_shift,\n",
    "                run_ccsd_emb=run_ccsd_emb,\n",
    "                run_fci_emb=run_fci_emb,\n",
    "                max_ram_memory=max_ram_memory,\n",
    "                pyscf_print_level=pyscf_print_level,\n",
    "                unit=unit,\n",
    "                occupied_threshold=occupied_threshold,\n",
    "                virtual_threshold=virtual_threshold)\n",
    "    except:\n",
    "        print('error for:')\n",
    "        print(geometry_path)\n",
    "        print()\n",
    "        continue\n",
    "\n",
    "    \n",
    "    ## global\n",
    "    global_dft_list.append(driver._global_rks.e_tot)\n",
    "    global_fci_list.append(driver._global_fci.e_tot)\n",
    "    \n",
    "    global_H = driver.full_system_hamiltonian\n",
    "    global_H_sparse = get_sparse_operator(global_H)\n",
    "    E_fci =  sp.sparse.linalg.eigsh(global_H_sparse, k=1, which='SA')[0][0] + driver._global_hf.energy_nuc()\n",
    "    global_H_diag_list.append(E_fci)\n",
    "    \n",
    "    global_qubit_Ham = getattr( HamiltonianConverter(global_H, transform='jordan_wigner'), 'openfermion')\n",
    "    global_qubit_H_length_list.append(len(global_qubit_Ham.terms))\n",
    "    global_qubit_H_nqubits.append(count_qubits(global_qubit_Ham))\n",
    "\n",
    "    ##\n",
    "    N_active_AOs.append(len(driver.localized_system.active_MO_inds))\n",
    "    \n",
    "    # HUZ\n",
    "    huz_rhf_list.append(driver._huzinaga['e_rhf'])\n",
    "    huz_ccsd_list.append(driver._huzinaga['e_ccsd'])\n",
    "    huz_fci_list.append(driver._huzinaga['e_fci'])\n",
    "\n",
    "    huz_H_emb = driver._huzinaga['hamiltonian']\n",
    "    huz_classical = driver._huzinaga['classical_energy']\n",
    "    huz_H_sparse = get_sparse_operator(huz_H_emb)\n",
    "    huz_e_emb = sp.sparse.linalg.eigsh(huz_H_sparse, k=1, which='SA')[0][0]\n",
    "    huz_H_diag_list.append(huz_e_emb)\n",
    "    \n",
    "    huz_qubit_Ham = getattr( HamiltonianConverter(huz_H_emb, transform='jordan_wigner'), 'openfermion')\n",
    "    huz_qubit_H_length_list.append(len(huz_qubit_Ham.terms))\n",
    "    huz_nqubits = count_qubits(huz_qubit_Ham)\n",
    "    huz_H_nqubits.append(huz_nqubits)\n",
    "\n",
    "    # mu shift\n",
    "    mu_rhf_list.append(driver._mu['e_rhf'])\n",
    "    mu_ccsd_list.append(driver._mu['e_ccsd'])\n",
    "    mu_fci_list.append(driver._mu['e_fci'])\n",
    "    \n",
    "    mu_H_emb = driver._mu['hamiltonian']\n",
    "    mu_classical = driver._mu['classical_energy']\n",
    "    mu_H_sparse = get_sparse_operator(mu_H_emb)\n",
    "    mu_e_emb = sp.sparse.linalg.eigsh(mu_H_sparse, k=1, which='SA')[0][0]\n",
    "    mu_H_diag_list.append(mu_e_emb)\n",
    "    \n",
    "    mu_qubit_Ham = getattr( HamiltonianConverter(mu_H_emb, transform='jordan_wigner'), 'openfermion')\n",
    "    mu_nqubits = count_qubits(huz_qubit_Ham)\n",
    "    mu_qubit_H_length_list.append(len(mu_qubit_Ham.terms))\n",
    "    mu_H_nqubits.append(mu_nqubits)\n",
    "    \n",
    "    del driver"
   ]
  },
  {
   "cell_type": "code",
   "execution_count": null,
   "metadata": {},
   "outputs": [],
   "source": []
  },
  {
   "cell_type": "code",
   "execution_count": null,
   "metadata": {},
   "outputs": [],
   "source": [
    "exp_data = {\n",
    "    'global DFT': global_dft_list, \n",
    "    \n",
    "    'global FCI': global_fci_list,\n",
    "    'huz emb FCI': huz_H_diag_list,\n",
    "    'mu emb FCI': mu_H_diag_list,\n",
    "    \n",
    "    'global H': global_qubit_H_length_list,\n",
    "    'huz H emb': huz_qubit_H_length_list,\n",
    "    'mu H emb': mu_qubit_H_length_list,\n",
    "    \n",
    "    'global n qubits ': global_qubit_H_nqubits,\n",
    "    'huz n qubits ': huz_H_nqubits,\n",
    "    'mu n qubits ': mu_H_nqubits,\n",
    "    'N active AOs ': N_active_AOs,\n",
    "    \n",
    "}\n",
    "\n",
    "df = pd.DataFrame(data=exp_data)\n",
    "\n",
    "df"
   ]
  },
  {
   "cell_type": "code",
   "execution_count": null,
   "metadata": {},
   "outputs": [],
   "source": [
    "%matplotlib inline\n",
    "\n",
    "angles = list(range(85,96))\n",
    "# angles = list(range(85,87))\n",
    "\n",
    "plt.plot(angles, global_dft_list, label='global DFT', color='b')\n",
    "plt.plot(angles, global_fci_list, label='global FCI', color='orange')\n",
    "plt.plot(angles, huz_H_diag_list, label='huz emb', linestyle='dashed', marker='o', color='g')\n",
    "plt.plot(angles, mu_H_diag_list, label='mu emb', linestyle='-', marker='x', color='r')\n",
    "\n",
    "plt.xlabel('angle (degrees)')\n",
    "plt.ylabel('energy (Ha)')\n",
    "plt.grid(True)\n",
    "# plt.savefig(\"test.png\")\n",
    "plt.legend()\n",
    "plt.show()"
   ]
  },
  {
   "cell_type": "code",
   "execution_count": null,
   "metadata": {},
   "outputs": [],
   "source": [
    "plt.plot(angles, np.abs(np.array(global_fci_list)-np.array(global_dft_list)), label='error global DFT', color='b')\n",
    "plt.plot(angles, np.abs(np.array(global_fci_list)-np.array(huz_H_diag_list)) , label='error huz emb', linestyle='dashed', marker='o', color='g')\n",
    "plt.plot(angles, np.abs(np.array(global_fci_list)-np.array(mu_H_diag_list)) , label='error mu emb', linestyle='-', marker='x', color='r')\n",
    "\n",
    "plt.xlabel('angle (degrees)')\n",
    "plt.ylabel('energy ERROR (Ha)')\n",
    "plt.grid(True)\n",
    "# plt.savefig(\"test.png\")\n",
    "plt.legend()\n",
    "plt.show()"
   ]
  },
  {
   "cell_type": "code",
   "execution_count": null,
   "metadata": {},
   "outputs": [],
   "source": [
    "print(xyz)"
   ]
  },
  {
   "cell_type": "code",
   "execution_count": null,
   "metadata": {},
   "outputs": [],
   "source": [
    "xyz[:xyz.find('\\n')]"
   ]
  },
  {
   "cell_type": "code",
   "execution_count": null,
   "metadata": {},
   "outputs": [],
   "source": []
  },
  {
   "cell_type": "code",
   "execution_count": null,
   "metadata": {},
   "outputs": [],
   "source": []
  },
  {
   "cell_type": "code",
   "execution_count": null,
   "metadata": {},
   "outputs": [],
   "source": []
  },
  {
   "cell_type": "code",
   "execution_count": null,
   "metadata": {},
   "outputs": [],
   "source": [
    "np.\n",
    "for line in xyz[4:].split('\\n'):\n",
    "    xyz_list = [float(xyz) for xyz in line.split('\\t')[1:]]\n",
    "    print(xyz_list)"
   ]
  },
  {
   "cell_type": "code",
   "execution_count": null,
   "metadata": {},
   "outputs": [],
   "source": []
  }
 ],
 "metadata": {
  "kernelspec": {
   "display_name": "Python 3 (ipykernel)",
   "language": "python",
   "name": "python3"
  },
  "language_info": {
   "codemirror_mode": {
    "name": "ipython",
    "version": 3
   },
   "file_extension": ".py",
   "mimetype": "text/x-python",
   "name": "python",
   "nbconvert_exporter": "python",
   "pygments_lexer": "ipython3",
   "version": "3.9.7"
  }
 },
 "nbformat": 4,
 "nbformat_minor": 4
}
