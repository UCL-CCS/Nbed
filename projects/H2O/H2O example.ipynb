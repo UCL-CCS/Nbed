{
 "cells": [
  {
   "cell_type": "code",
   "execution_count": 1,
   "id": "8ae5bba2",
   "metadata": {},
   "outputs": [
    {
     "name": "stderr",
     "output_type": "stream",
     "text": [
      "/home/lex/anaconda3/envs/embed/lib/python3.9/site-packages/pyscf/lib/misc.py:46: H5pyDeprecationWarning: Using default_file_mode other than 'r' is deprecated. Pass the mode to h5py.File() instead.\n",
      "  h5py.get_config().default_file_mode = 'a'\n"
     ]
    }
   ],
   "source": [
    "import os\n",
    "from nbed.driver import NbedDriver\n",
    "import numpy as np\n",
    "\n",
    "from nbed.ham_builder import HamiltonianBuilder\n",
    "from openfermion import get_sparse_operator\n",
    "import scipy as sp\n",
    "    \n",
    "from pyscf import gto, scf, fci, cc"
   ]
  },
  {
   "cell_type": "code",
   "execution_count": null,
   "id": "cac37f5e",
   "metadata": {},
   "outputs": [],
   "source": []
  },
  {
   "cell_type": "code",
   "execution_count": 2,
   "id": "b3bec003",
   "metadata": {},
   "outputs": [],
   "source": [
    "# get xyz file for water\n",
    "notebook_dir = os.getcwd()\n",
    "projects_dir = os.path.dirname(notebook_dir)\n",
    "NBed_dir = os.path.dirname(projects_dir)\n",
    "Test_dir = os.path.join(NBed_dir, 'tests')\n",
    "mol_dir = os.path.join(Test_dir, 'molecules')\n",
    "\n",
    "water_xyz_path = os.path.join(mol_dir, 'water.xyz')"
   ]
  },
  {
   "cell_type": "code",
   "execution_count": 3,
   "id": "60aac427",
   "metadata": {},
   "outputs": [],
   "source": [
    "geometry_path = os.path.join(mol_dir, 'water.xyz')\n",
    "# geometry_path = os.path.join(mol_dir, 'H4.xyz')"
   ]
  },
  {
   "cell_type": "code",
   "execution_count": 4,
   "id": "db309e85",
   "metadata": {},
   "outputs": [
    {
     "data": {
      "text/plain": [
       "'/home/lex/Documents/PhD/Nbed/tests/molecules/water.xyz'"
      ]
     },
     "execution_count": 4,
     "metadata": {},
     "output_type": "execute_result"
    }
   ],
   "source": [
    "geometry_path"
   ]
  },
  {
   "cell_type": "code",
   "execution_count": 5,
   "id": "30467edc",
   "metadata": {},
   "outputs": [
    {
     "name": "stdout",
     "output_type": "stream",
     "text": [
      "3\n",
      "\n",
      "O   0.00000  0.0000000  0.1653507\n",
      "H   0.00000  0.7493682 -0.4424329\n",
      "H   0.00000 -0.7493682 -0.4424329 \n"
     ]
    }
   ],
   "source": [
    "with open(geometry_path, 'r') as infile:\n",
    "    xyz_string = infile.read()\n",
    "    \n",
    "print(xyz_string)"
   ]
  },
  {
   "cell_type": "code",
   "execution_count": null,
   "id": "22fa6479",
   "metadata": {},
   "outputs": [],
   "source": []
  },
  {
   "cell_type": "code",
   "execution_count": 6,
   "id": "79d24427",
   "metadata": {},
   "outputs": [],
   "source": [
    "# options\n",
    "geometry = xyz_string\n",
    "n_active_atoms=1\n",
    "basis = 'STO-3G'\n",
    "xc_functional = 'lda, vwn'# 'lda, vwn' #'B3LYP'\n",
    "run_virtual_localization = False\n",
    "\n",
    "run_fci_emb = True\n",
    "run_ccsd_emb = False\n",
    "max_ram_memory = 8_000\n",
    "_init_huzinaga_rhf_with_mu = False\n",
    "\n",
    "max_hf_cycles=5_000\n",
    "max_dft_cycles = 5_000\n",
    "\n",
    "projector = 'both'\n",
    "localization = 'ibo' # spade, ibo\n",
    "occupied_threshold = 0.95\n",
    "virtual_threshold = 0.95"
   ]
  },
  {
   "cell_type": "code",
   "execution_count": 7,
   "id": "1a52d1d5",
   "metadata": {},
   "outputs": [
    {
     "name": "stdout",
     "output_type": "stream",
     "text": [
      " Iterative localization: IB/P4/2x2, 6 iter; Final gradient 8.60e-12\n"
     ]
    }
   ],
   "source": [
    "driver = NbedDriver(geometry = geometry,\n",
    "                    n_active_atoms=n_active_atoms,\n",
    "                    basis = basis,\n",
    "                    xc_functional = xc_functional,\n",
    "                    run_virtual_localization = run_virtual_localization,\n",
    "                    run_fci_emb = run_fci_emb,\n",
    "                    run_ccsd_emb = run_ccsd_emb,\n",
    "                    max_ram_memory = max_ram_memory,\n",
    "                    _init_huzinaga_rhf_with_mu = _init_huzinaga_rhf_with_mu,\n",
    "                    max_hf_cycles=max_hf_cycles,\n",
    "                    max_dft_cycles=max_dft_cycles,\n",
    "                    occupied_threshold=occupied_threshold,\n",
    "                    projector = projector,\n",
    "                    localization = localization)"
   ]
  },
  {
   "cell_type": "code",
   "execution_count": null,
   "id": "97eebb94",
   "metadata": {},
   "outputs": [],
   "source": []
  },
  {
   "cell_type": "code",
   "execution_count": 8,
   "id": "f88f1efd",
   "metadata": {},
   "outputs": [
    {
     "name": "stdout",
     "output_type": "stream",
     "text": [
      "global FCI energy: -75.01535247594691\n",
      "global DFT energy: -74.73474041595246\n"
     ]
    }
   ],
   "source": [
    "global_DFT_energy = driver._global_rks.e_tot\n",
    "global_FCI_energy = driver._global_fci.e_tot\n",
    "\n",
    "print(f'global FCI energy: {global_FCI_energy}')\n",
    "print(f'global DFT energy: {global_DFT_energy}')"
   ]
  },
  {
   "cell_type": "code",
   "execution_count": null,
   "id": "c6092142",
   "metadata": {},
   "outputs": [],
   "source": []
  },
  {
   "cell_type": "code",
   "execution_count": 9,
   "id": "421baf4c",
   "metadata": {},
   "outputs": [],
   "source": [
    "qubit_transform = 'jordan_wigner'\n",
    "\n",
    "    \n",
    "huz_classical = driver._huzinaga['classical_energy']\n",
    "rhf_huz = driver._huzinaga[\"scf\"]\n",
    "qham_huz = HamiltonianBuilder(\n",
    "                        scf_method=rhf_huz,\n",
    "                        constant_e_shift=huz_classical,\n",
    "                        transform=qubit_transform,\n",
    "                        ).build(n_qubits=None, taper=False)\n",
    "\n",
    "mu_classical = driver._mu['classical_energy']\n",
    "rhf_mu = driver._mu[\"scf\"]\n",
    "qham_mu = HamiltonianBuilder(\n",
    "                        scf_method=rhf_mu,\n",
    "                        constant_e_shift=mu_classical,\n",
    "                        transform=qubit_transform,\n",
    "                        ).build(n_qubits=None, taper=False)"
   ]
  },
  {
   "cell_type": "code",
   "execution_count": null,
   "id": "48528ccf",
   "metadata": {},
   "outputs": [],
   "source": []
  },
  {
   "cell_type": "code",
   "execution_count": 10,
   "id": "e0135d55",
   "metadata": {},
   "outputs": [
    {
     "data": {
      "text/plain": [
       "-75.11791105247659"
      ]
     },
     "execution_count": 10,
     "metadata": {},
     "output_type": "execute_result"
    }
   ],
   "source": [
    "huz_H_sparse = get_sparse_operator(qham_huz)\n",
    "huz_e_emb = sp.sparse.linalg.eigsh(huz_H_sparse, k=1, which='SA')[0][0]\n",
    "huz_e_emb\n",
    "\n",
    "mu_H_sparse = get_sparse_operator(qham_mu)\n",
    "mu_e_emb = sp.sparse.linalg.eigsh(mu_H_sparse, k=1, which='SA')[0][0]\n",
    "mu_e_emb"
   ]
  },
  {
   "cell_type": "code",
   "execution_count": 11,
   "id": "a7f0c3d5",
   "metadata": {},
   "outputs": [
    {
     "data": {
      "text/plain": [
       "-8.668621376273222e-13"
      ]
     },
     "execution_count": 11,
     "metadata": {},
     "output_type": "execute_result"
    }
   ],
   "source": [
    "huz_e_emb - driver._huzinaga['e_fci']"
   ]
  },
  {
   "cell_type": "code",
   "execution_count": 12,
   "id": "4877b0ef",
   "metadata": {},
   "outputs": [
    {
     "data": {
      "text/plain": [
       "7.105427357601002e-13"
      ]
     },
     "execution_count": 12,
     "metadata": {},
     "output_type": "execute_result"
    }
   ],
   "source": [
    "mu_e_emb - driver._mu['e_fci']"
   ]
  },
  {
   "cell_type": "code",
   "execution_count": 13,
   "id": "797d6d36",
   "metadata": {},
   "outputs": [
    {
     "name": "stdout",
     "output_type": "stream",
     "text": [
      "[0 3 4]\n",
      "[1 2]\n"
     ]
    }
   ],
   "source": [
    "print(driver.localized_system.active_MO_inds)\n",
    "print(driver.localized_system.enviro_MO_inds)"
   ]
  },
  {
   "cell_type": "code",
   "execution_count": 14,
   "id": "a6834cd2",
   "metadata": {},
   "outputs": [
    {
     "name": "stdout",
     "output_type": "stream",
     "text": [
      "global DFT error: 0.2806120599944535\n",
      "mu error: 0.1025567269777099\n",
      "huz error: 0.10255857652967393\n"
     ]
    }
   ],
   "source": [
    "print(f'global DFT error: {abs(global_FCI_energy - global_DFT_energy)}')\n",
    "\n",
    "print(f'mu error: {abs(global_FCI_energy - huz_e_emb)}')\n",
    "print(f'huz error: {abs(global_FCI_energy - mu_e_emb)}')"
   ]
  },
  {
   "cell_type": "code",
   "execution_count": null,
   "id": "48bb84a4",
   "metadata": {},
   "outputs": [],
   "source": []
  },
  {
   "cell_type": "code",
   "execution_count": 15,
   "id": "ccba76af",
   "metadata": {},
   "outputs": [
    {
     "data": {
      "text/plain": [
       "array([0.95812183, 0.60058968, 0.60058968, 0.99995469, 0.99276452])"
      ]
     },
     "execution_count": 15,
     "metadata": {},
     "output_type": "execute_result"
    }
   ],
   "source": [
    "# how subsystem was selected (either % active AOs [pyscf] or singular values[SPADE]!)\n",
    "driver.localized_system.enviro_selection_condition"
   ]
  },
  {
   "cell_type": "code",
   "execution_count": null,
   "id": "a382438b",
   "metadata": {},
   "outputs": [],
   "source": []
  },
  {
   "cell_type": "code",
   "execution_count": 16,
   "id": "425e2fa1",
   "metadata": {},
   "outputs": [
    {
     "data": {
      "text/plain": [
       "276"
      ]
     },
     "execution_count": 16,
     "metadata": {},
     "output_type": "execute_result"
    }
   ],
   "source": [
    "len(list(qham_huz))"
   ]
  },
  {
   "cell_type": "code",
   "execution_count": 17,
   "id": "75bc7a39",
   "metadata": {},
   "outputs": [
    {
     "data": {
      "text/plain": [
       "276"
      ]
     },
     "execution_count": 17,
     "metadata": {},
     "output_type": "execute_result"
    }
   ],
   "source": [
    "len(list(qham_mu))"
   ]
  },
  {
   "cell_type": "code",
   "execution_count": null,
   "id": "38660bfc",
   "metadata": {},
   "outputs": [],
   "source": []
  },
  {
   "cell_type": "code",
   "execution_count": 18,
   "id": "375e2ee6",
   "metadata": {},
   "outputs": [
    {
     "data": {
      "text/plain": [
       "-74.73474041595246"
      ]
     },
     "execution_count": 18,
     "metadata": {},
     "output_type": "execute_result"
    }
   ],
   "source": [
    "driver._global_rks.e_tot"
   ]
  },
  {
   "cell_type": "code",
   "execution_count": 19,
   "id": "3cc18fc3",
   "metadata": {},
   "outputs": [],
   "source": [
    "driver.embed_dft_in_dft('B3LYP') # wb97m_v"
   ]
  },
  {
   "cell_type": "code",
   "execution_count": 20,
   "id": "34ea15f8",
   "metadata": {},
   "outputs": [
    {
     "name": "stdout",
     "output_type": "stream",
     "text": [
      "-74.73474211513509\n",
      "-75.28370184457098\n"
     ]
    }
   ],
   "source": [
    "print(driver._mu_dft['e_rks_cheap'])\n",
    "print(driver._mu_dft['e_rks_expen'])"
   ]
  },
  {
   "cell_type": "code",
   "execution_count": 21,
   "id": "dc800980",
   "metadata": {},
   "outputs": [
    {
     "name": "stdout",
     "output_type": "stream",
     "text": [
      "-74.7347404158168\n",
      "-75.28370013133782\n"
     ]
    }
   ],
   "source": [
    "print(driver._huzinaga_dft['e_rks_cheap'])\n",
    "print(driver._huzinaga_dft['e_rks_expen'])"
   ]
  },
  {
   "cell_type": "code",
   "execution_count": 22,
   "id": "358c550d",
   "metadata": {},
   "outputs": [
    {
     "data": {
      "text/plain": [
       "1.6991826328194293e-06"
      ]
     },
     "execution_count": 22,
     "metadata": {},
     "output_type": "execute_result"
    }
   ],
   "source": [
    "driver._global_rks.e_tot - driver._mu_dft['e_rks_cheap']"
   ]
  },
  {
   "cell_type": "code",
   "execution_count": 23,
   "id": "719c9ba8",
   "metadata": {},
   "outputs": [
    {
     "data": {
      "text/plain": [
       "-1.3565681911131833e-10"
      ]
     },
     "execution_count": 23,
     "metadata": {},
     "output_type": "execute_result"
    }
   ],
   "source": [
    "driver._global_rks.e_tot - driver._huzinaga_dft['e_rks_cheap']"
   ]
  },
  {
   "cell_type": "code",
   "execution_count": 24,
   "id": "713ae744",
   "metadata": {},
   "outputs": [
    {
     "name": "stdout",
     "output_type": "stream",
     "text": [
      "mu error: 0.2683493686240723\n",
      "huz error: 0.26834765539091165\n"
     ]
    }
   ],
   "source": [
    "mu_dft_in_dft_error =  abs(global_FCI_energy -  driver._mu_dft['e_rks_expen'])\n",
    "print(f'mu error: {mu_dft_in_dft_error}')\n",
    "\n",
    "huz_dft_in_dft_error =  abs(global_FCI_energy -  driver._huzinaga_dft['e_rks_expen'])\n",
    "print(f'huz error: {huz_dft_in_dft_error}')"
   ]
  },
  {
   "cell_type": "code",
   "execution_count": 25,
   "id": "be7300b7",
   "metadata": {},
   "outputs": [
    {
     "data": {
      "text/plain": [
       "array([[-18.18,   0.  ,   0.  ,   0.  ,  -0.  ,  -0.  ,   0.  ],\n",
       "       [  0.  ,  -0.29,  -0.  ,  -0.  ,   0.  ,   0.  ,  -0.  ],\n",
       "       [  0.  ,  -0.  ,  -0.06,   0.  ,   0.  ,  -0.  ,   0.  ],\n",
       "       [  0.  ,  -0.  ,   0.  ,   0.31,  -0.  ,  -0.  ,   0.  ],\n",
       "       [ -0.  ,   0.  ,   0.  ,  -0.  ,   0.38,   0.  ,   0.  ],\n",
       "       [ -0.  ,   0.  ,  -0.  ,  -0.  ,   0.  ,   0.41,   0.  ],\n",
       "       [  0.  ,  -0.  ,   0.  ,   0.  ,   0.  ,   0.  ,   0.79]])"
      ]
     },
     "execution_count": 25,
     "metadata": {},
     "output_type": "execute_result"
    }
   ],
   "source": [
    "cccc = driver._huzinaga_dft['scf_cheap_dft'].mo_coeff\n",
    "FF = driver._huzinaga_dft['scf_cheap_dft'].get_fock()\n",
    "np.around(cccc.T @ FF @ cccc, 2)"
   ]
  },
  {
   "cell_type": "code",
   "execution_count": 26,
   "id": "2b12f3f2",
   "metadata": {},
   "outputs": [
    {
     "data": {
      "text/plain": [
       "True"
      ]
     },
     "execution_count": 26,
     "metadata": {},
     "output_type": "execute_result"
    }
   ],
   "source": [
    "driver._huzinaga_dft['scf_cheap_dft'].converged"
   ]
  },
  {
   "cell_type": "code",
   "execution_count": null,
   "id": "cce2fbf2",
   "metadata": {},
   "outputs": [],
   "source": []
  },
  {
   "cell_type": "code",
   "execution_count": null,
   "id": "707c63e0",
   "metadata": {},
   "outputs": [],
   "source": []
  },
  {
   "cell_type": "code",
   "execution_count": 27,
   "id": "a59e334e",
   "metadata": {},
   "outputs": [],
   "source": [
    "## can see which orbitals are removed (note orb energies!)"
   ]
  },
  {
   "cell_type": "code",
   "execution_count": 28,
   "id": "0d35631b",
   "metadata": {},
   "outputs": [
    {
     "name": "stdout",
     "output_type": "stream",
     "text": [
      "[-2.01401285e+01 -6.71236840e-01 -3.60832604e-01  5.83897484e-01\n",
      "  7.22265114e-01  1.99999950e+06  1.99999992e+06]\n",
      "[-20.1401285   -0.67123684  -0.3608326    0.58389748   0.72226511]\n"
     ]
    }
   ],
   "source": [
    "print(driver._mu['mo_energies_emb_pre_del'])\n",
    "print(driver._mu['mo_energies_emb_post_del'])"
   ]
  },
  {
   "cell_type": "code",
   "execution_count": 29,
   "id": "953d01c7",
   "metadata": {},
   "outputs": [
    {
     "name": "stdout",
     "output_type": "stream",
     "text": [
      "[-20.14012841  -0.6712376   -0.36083328   0.08139568   0.49870932\n",
      "   0.58389757   0.72226471]\n",
      "[-20.14012841  -0.6712376   -0.36083328   0.58389757   0.72226471]\n"
     ]
    }
   ],
   "source": [
    "print(driver._huzinaga['mo_energies_emb_pre_del'])\n",
    "print(driver._huzinaga['mo_energies_emb_post_del'])"
   ]
  },
  {
   "cell_type": "code",
   "execution_count": null,
   "id": "ccd5b54d",
   "metadata": {},
   "outputs": [],
   "source": []
  },
  {
   "cell_type": "code",
   "execution_count": null,
   "id": "d1a07a33",
   "metadata": {},
   "outputs": [],
   "source": []
  },
  {
   "cell_type": "code",
   "execution_count": null,
   "id": "31b7eade",
   "metadata": {},
   "outputs": [],
   "source": []
  },
  {
   "cell_type": "code",
   "execution_count": null,
   "id": "256a49e0",
   "metadata": {},
   "outputs": [],
   "source": []
  },
  {
   "cell_type": "code",
   "execution_count": null,
   "id": "70b3b2fe",
   "metadata": {},
   "outputs": [],
   "source": []
  },
  {
   "cell_type": "code",
   "execution_count": 30,
   "id": "8b7b3669",
   "metadata": {},
   "outputs": [
    {
     "ename": "NameError",
     "evalue": "name 'fgsd' is not defined",
     "output_type": "error",
     "traceback": [
      "\u001b[0;31m---------------------------------------------------------------------------\u001b[0m",
      "\u001b[0;31mNameError\u001b[0m                                 Traceback (most recent call last)",
      "\u001b[0;32m/tmp/ipykernel_440283/3097386035.py\u001b[0m in \u001b[0;36m<module>\u001b[0;34m\u001b[0m\n\u001b[0;32m----> 1\u001b[0;31m \u001b[0mfgsd\u001b[0m\u001b[0;34m\u001b[0m\u001b[0;34m\u001b[0m\u001b[0m\n\u001b[0m",
      "\u001b[0;31mNameError\u001b[0m: name 'fgsd' is not defined"
     ]
    }
   ],
   "source": [
    "fgsd"
   ]
  },
  {
   "cell_type": "code",
   "execution_count": null,
   "id": "da589630",
   "metadata": {},
   "outputs": [],
   "source": []
  },
  {
   "cell_type": "code",
   "execution_count": null,
   "id": "2ed43e9d",
   "metadata": {},
   "outputs": [],
   "source": []
  },
  {
   "cell_type": "code",
   "execution_count": null,
   "id": "45a68dd9",
   "metadata": {},
   "outputs": [],
   "source": [
    "### inputs\n",
    "\n",
    "charge=0\n",
    "spin=0\n",
    "\n",
    "full_system_mol = gto.Mole(atom= xyz_string[2:],\n",
    "                      basis=basis,\n",
    "                       charge=charge,\n",
    "                       spin=spin,\n",
    "                      )\n",
    "full_system_mol.build()\n",
    "\n",
    "global_rks = scf.RKS(full_system_mol)\n",
    "global_rks.verbose=1\n",
    "global_rks.xc = xc_functional\n",
    "global_rks.conv_tol = 1e-6\n",
    "# global_rks.kernel()\n",
    "\n",
    "# global_rks_Fock = global_rks.get_fock()\n",
    "# c_global_rks_full = global_rks.mo_coeff\n",
    "# global_rks_etot = global_rks.energy_tot()\n",
    "# global_rks.mo_energy = np.diag(c_global_rks_full.conj().T @ global_rks_Fock@ c_global_rks_full)\n",
    "# global_rks_mo_energies = global_rks.mo_energy \n",
    "# global_rks_mo_energies\n"
   ]
  },
  {
   "cell_type": "code",
   "execution_count": null,
   "id": "d036c848",
   "metadata": {},
   "outputs": [],
   "source": []
  },
  {
   "cell_type": "code",
   "execution_count": null,
   "id": "af27bee3",
   "metadata": {},
   "outputs": [],
   "source": [
    "scf_method = global_rks\n",
    "\n",
    "s_mat = scf_method.get_ovlp()\n",
    "s_neg_half = sp.linalg.fractional_matrix_power(s_mat, -0.5)\n",
    "\n",
    "dm_conv_tol = 1e-6\n",
    "scf_method.max_cycle=100\n",
    "\n",
    "dm_initial_guess = None\n",
    "\n",
    "if dm_initial_guess is None:\n",
    "    fock = scf_method.get_hcore()\n",
    "    # Create the orthogonal fock operator\n",
    "    fock_ortho = s_neg_half @ fock @ s_neg_half\n",
    "\n",
    "    mo_energy, mo_coeff_ortho = np.linalg.eigh(fock_ortho)\n",
    "    mo_coeff_std = s_neg_half @ mo_coeff_ortho\n",
    "    mo_occ = scf_method.get_occ(mo_energy, mo_coeff_std)\n",
    "    dm_initial_guess = scf_method.make_rdm1(mo_coeff=mo_coeff_std, mo_occ=mo_occ)\n",
    "\n",
    "ni = scf_method._numint  \n",
    "dm_mat = dm_initial_guess\n",
    "conv_flag = False\n",
    "rks_energy_prev = 0\n",
    "# if use_DIIS: adiis = diis.DIIS()\n",
    "for i in range(scf_method.max_cycle):\n",
    "    \n",
    "    # build fock matrix\n",
    "    vhf = scf_method.get_veff(dm=dm_mat)\n",
    "    fock = scf_method.get_hcore() + vhf\n",
    "\n",
    "#     if use_DIIS and (i > 1):\n",
    "#         # DIIS update of Fock matrix\n",
    "#         fock = adiis.update(fock)\n",
    "\n",
    "    fock_ortho = s_neg_half @ fock @ s_neg_half\n",
    "\n",
    "    mo_energy, mo_coeff_ortho = np.linalg.eigh(fock_ortho)\n",
    "    mo_coeff_std = s_neg_half @ mo_coeff_ortho\n",
    "    mo_occ = scf_method.get_occ(mo_energy, mo_coeff_std)\n",
    "\n",
    "    # Create initial values for i+1 run.\n",
    "    dm_mat_old = dm_mat\n",
    "    dm_mat = scf_method.make_rdm1(mo_coeff=mo_coeff_std, mo_occ=mo_occ)\n",
    "    # Find RKS energy\n",
    "    rks_energy = scf_method.energy_elec(dm=dm_mat)[0]\n",
    "\n",
    "    # check convergence\n",
    "    run_diff = np.abs(rks_energy - rks_energy_prev)\n",
    "    norm_dm_diff = np.linalg.norm(dm_mat - dm_mat_old)\n",
    "    if (run_diff < scf_method.conv_tol) and (norm_dm_diff < dm_conv_tol):\n",
    "        conv_flag = True\n",
    "        break\n",
    "\n",
    "    rks_energy_prev = rks_energy\n",
    "\n",
    "if conv_flag is False:\n",
    "    raise ValueError(\"SCF has NOT converged.\")\n",
    "rks_energy"
   ]
  },
  {
   "cell_type": "code",
   "execution_count": null,
   "id": "6098c936",
   "metadata": {},
   "outputs": [],
   "source": [
    "global_rks.kernel()\n",
    "global_rks.energy_elec()[0]"
   ]
  },
  {
   "cell_type": "code",
   "execution_count": null,
   "id": "8d04414d",
   "metadata": {},
   "outputs": [],
   "source": [
    "global_rks.get_veff()"
   ]
  },
  {
   "cell_type": "code",
   "execution_count": null,
   "id": "375c318d",
   "metadata": {},
   "outputs": [],
   "source": []
  },
  {
   "cell_type": "code",
   "execution_count": null,
   "id": "cd3ea00d",
   "metadata": {},
   "outputs": [],
   "source": []
  },
  {
   "cell_type": "code",
   "execution_count": null,
   "id": "bf928f93",
   "metadata": {},
   "outputs": [],
   "source": [
    "scf_method = global_rks\n",
    "\n",
    "s_mat = scf_method.get_ovlp()\n",
    "s_neg_half = sp.linalg.fractional_matrix_power(s_mat, -0.5)\n",
    "\n",
    "dm_conv_tol = 1e-6\n",
    "scf_method.max_cycle=100\n",
    "\n",
    "dm_initial_guess = None\n",
    "\n",
    "if dm_initial_guess is None:\n",
    "    fock = scf_method.get_hcore()\n",
    "    # Create the orthogonal fock operator\n",
    "    fock_ortho = s_neg_half @ fock @ s_neg_half\n",
    "\n",
    "    mo_energy, mo_coeff_ortho = np.linalg.eigh(fock_ortho)\n",
    "    mo_coeff_std = s_neg_half @ mo_coeff_ortho\n",
    "    mo_occ = scf_method.get_occ(mo_energy, mo_coeff_std)\n",
    "    dm_initial_guess = scf_method.make_rdm1(mo_coeff=mo_coeff_std, mo_occ=mo_occ)\n",
    "\n",
    "ni = scf_method._numint  \n",
    "dm_mat = dm_initial_guess\n",
    "conv_flag = False\n",
    "rks_energy_prev = 0\n",
    "# if use_DIIS: adiis = diis.DIIS()\n",
    "for i in range(scf_method.max_cycle):\n",
    "    \n",
    "    # build fock matrix\n",
    "    vhf = scf_method.get_veff(dm=dm_mat)\n",
    "    fock = scf_method.get_hcore() + vhf\n",
    "\n",
    "#     if use_DIIS and (i > 1):\n",
    "#         # DIIS update of Fock matrix\n",
    "#         fock = adiis.update(fock)\n",
    "\n",
    "    fock_ortho = s_neg_half @ fock @ s_neg_half\n",
    "\n",
    "    mo_energy, mo_coeff_ortho = np.linalg.eigh(fock_ortho)\n",
    "    mo_coeff_std = s_neg_half @ mo_coeff_ortho\n",
    "    mo_occ = scf_method.get_occ(mo_energy, mo_coeff_std)\n",
    "\n",
    "    # Create initial values for i+1 run.\n",
    "    dm_mat_old = dm_mat\n",
    "    dm_mat = scf_method.make_rdm1(mo_coeff=mo_coeff_std, mo_occ=mo_occ)\n",
    "    # Find RKS energy\n",
    "#     rks_energy = scf_method.energy_elec(dm=dm_mat)[0]\n",
    "    vhf_updated = scf_method.get_veff(dm=dm_mat)\n",
    "    rks_energy = vhf_updated.ecoul + vhf_updated.exc + np.einsum('ij, ji->' , dm_mat, scf_method.get_hcore())\n",
    "    print(rks_energy, rks_energy2)\n",
    "\n",
    "    # check convergence\n",
    "    run_diff = np.abs(rks_energy - rks_energy_prev)\n",
    "    norm_dm_diff = np.linalg.norm(dm_mat - dm_mat_old)\n",
    "    if (run_diff < scf_method.conv_tol) and (norm_dm_diff < dm_conv_tol):\n",
    "        conv_flag = True\n",
    "        break\n",
    "\n",
    "    rks_energy_prev = rks_energy\n",
    "\n",
    "if conv_flag is False:\n",
    "    raise ValueError(\"SCF has NOT converged.\")\n",
    "rks_energy"
   ]
  }
 ],
 "metadata": {
  "kernelspec": {
   "display_name": "Python 3 (ipykernel)",
   "language": "python",
   "name": "python3"
  },
  "language_info": {
   "codemirror_mode": {
    "name": "ipython",
    "version": 3
   },
   "file_extension": ".py",
   "mimetype": "text/x-python",
   "name": "python",
   "nbconvert_exporter": "python",
   "pygments_lexer": "ipython3",
   "version": "3.9.7"
  }
 },
 "nbformat": 4,
 "nbformat_minor": 5
}
